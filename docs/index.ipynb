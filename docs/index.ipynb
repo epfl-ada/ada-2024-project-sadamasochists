{
 "cells": [
  {
   "cell_type": "markdown",
   "metadata": {},
   "source": [
    "# The World of Beer: A Data-Driven Journey into Global Preferences\n",
    "Beer. It’s not just a beverage; it’s a cultural phenomenon, a historical artifact, and a science experiment in a glass. Across continents and centuries, it has brought people together, sparked revolutions, and inspired connoisseurs to seek out the perfect pint. But what makes one beer an instant hit and another a forgettable sip? Is it the richness of its taste, the aroma that wafts from the glass, or perhaps something as intangible as the mood of the moment? With data in hand and curiosity as our guide we aim to answer to one simple question: what makes a beer popular, and how do preferences differ globally and over time?\n",
    "\n",
    "To achieve this, we’ve turned to RateBeer, a globally renowned beer rating platform, to analyze beer preferences and ratings across the world. While we initially considered the BeerAdvocate dataset, its strong US-centric bias led us to choose RateBeer, which offers a more diverse and geographically distributed dataset. With this choice, we aim to explore the global beer landscape in a way that represents a wide array of cultures and tastes."
   ]
  },
  {
   "cell_type": "markdown",
   "metadata": {},
   "source": [
    "NOTE: Rename popularity to preferance everywhere\n",
    "\n",
    "\n",
    "## General Preference Analysis\n",
    "\n",
    "### Correlation stuff\n",
    "* Go a bit more in depth into the correlation stuff to incorporate it more into the story\n",
    "* In theory we would expect ABV not having much correlation but despite this there is still some\n",
    "* We focus on ABV and style as they are important on categorizing beers and such.\n",
    "\n",
    "### Ratings over time\n",
    "* there is a clear increase in the ratings, in most countries we see them get lighter in ighter (mainly the largest beer drinking countries). Even more interestingly, we see that all colors are getting more and more similar. This seems to suggest more of a global tendency than a local one. \n",
    "* People are more likely to rate a beer a 5/5 or a 0/5 if they don't have much experiance. Initially it wwas more \"pro\" raters and then as more users join the platform the average increases.\n",
    "* look at a plot comparing top 5% of raters to others and see if it differs\n",
    "\n",
    "## ABV and Style Studies\n",
    "\n",
    "* Study what ABV peeople prefer (look at abv.ipynb)\n",
    "* Try to add line below the balls when they move to see if that looks nice\n",
    "* How it changes over time\n",
    "* Do people over time prever higher or lower ABV beers\n",
    "* From the bubble plot it shows clearly that people prefer higher ABV beers.\n",
    "* Link this to style - in some countries avg abv is higher and higher... (Rik's plot with some styles wth different abv ranges)\n",
    "* This is favorite beers in one country, \n",
    "\n",
    "## Brewery Analysis (rename to something more related to how beer preferences differ globally)\n",
    "\n",
    "\n",
    "* Rik's graph plot showing which countries like what other countries beers\n",
    "* Compare how people rate their own countries beer vs other countries beer\n",
    "\n",
    "\n",
    "## NLP\n",
    "\n",
    "\n",
    "## Conclusion\n",
    "\n",
    "\n"
   ]
  }
 ],
 "metadata": {
  "language_info": {
   "name": "python"
  }
 },
 "nbformat": 4,
 "nbformat_minor": 2
}
