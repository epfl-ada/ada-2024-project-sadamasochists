{
 "cells": [
  {
   "cell_type": "markdown",
   "metadata": {},
   "source": [
    "# The World of Beer: A Data-Driven Journey into Global Preferences and Popularity\n",
    "Beer. It’s not just a beverage; it’s a cultural phenomenon, a historical artifact, and a science experiment in a glass. Across continents and centuries, it has brought people together, sparked revolutions, and inspired connoisseurs to seek out the perfect pint. But what makes one beer an instant hit and another a forgettable sip? Is it the richness of its taste, the aroma that wafts from the glass, or perhaps something as intangible as the mood of the moment? With data in hand and curiosity as our guide we aim to answer to one simple question: what makes a beer popular, and how do preferences differ globally and over time?\n",
    "\n",
    "To achieve this, we’ve turned to RateBeer, a globally renowned beer rating platform, to analyze beer preferences and ratings across the world. While we initially considered the BeerAdvocate dataset, its strong US-centric bias led us to choose RateBeer, which offers a more diverse and geographically distributed dataset. With this choice, we aim to explore the global beer landscape in a way that represents a wide array of cultures and tastes."
   ]
  }
 ],
 "metadata": {
  "language_info": {
   "name": "python"
  }
 },
 "nbformat": 4,
 "nbformat_minor": 2
}
