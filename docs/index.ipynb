{
 "cells": [
  {
   "cell_type": "markdown",
   "metadata": {},
   "source": [
    "# The World of Beer: A Data-Driven Journey into Global Preferences\n",
    "Beer. It’s not just a beverage; it’s a cultural phenomenon, a historical artifact, and a science experiment in a glass. Across centuries and continents, it has brought people together, inspired innovation, and evolved into a deeply personal yet global phenomenon. But what makes one beer an instant hit and another a forgettable sip? Is it the richness of its taste, the aroma that wafts from the glass, or perhaps something as intangible as the mood of the moment? With data in hand and curiosity as our guide we aim to answer to one simple question: what shapes our beer preferences, and how do these preferences differ globally and over time?\n",
    "\n",
    "To achieve this, we’ve turned to RateBeer, a globally renowned beer rating platform, to analyze beer preferences and ratings across the world. While we initially considered the BeerAdvocate dataset, its strong US-centric bias led us to choose RateBeer, which offers a more diverse and geographically distributed dataset. With this choice, we aim to explore the global beer landscape in a way that represents a wide array of cultures and tastes."
   ]
  },
  {
   "cell_type": "markdown",
   "metadata": {},
   "source": [
    "## General Preference Analysis\n",
    "\n",
    "### The Hidden Links: Correlations\n",
    "\n",
    "When it comes to beer preferences, what stands out? Is it the alcohol content, the style, or perhaps something deeper about how beers are categorized and rated over time? Let's dive into the data to uncover some fascinating insights.\n",
    "\n",
    "First, let’s explore how different beer attributes relate to one another. Intuitively, you might expect alcohol content (ABV) to have little impact on overall ratings. After all, a high ABV doesn’t guarantee a better beer. But surprisingly, we do see a moderate correlation between ABV and ratings—proof that stronger beers often leave a lasting impression. \n",
    "\n",
    "Attributes like taste and aroma, however, are the real MVPs here, showing strong correlations with overall ratings. This makes sense; after all, what’s a beer without its signature flavor or a captivating aroma? Mouthfeel (or “palate”) and appearance, while important, play more supportive roles, rounding out the beer experience.\n",
    "\n",
    "![Correlation Matrix](plots/correlation_matrix.html)\n",
    "\n",
    "Here’s what we’ve uncovered:\n",
    "\n",
    "- **Taste and Aroma**: These two attributes dominate the beer experience, with correlations of 0.65 and 0.77 respectively. If these fall flat, the overall rating is unlikely to shine.\n",
    "- **Appearance and Mouthfeel**: With correlations of 0.5 and 0.66, these attributes still contribute meaningfully to a beer’s overall impression.\n",
    "- **ABV**: While less influential (0.37 correlation), ABV still plays an interesting role, often elevating the perceived complexity of a beer.\n",
    "\n",
    "Together, these insights remind us that a great beer is a harmonious blend of attributes, each adding its own flavor to the overall experience.\n",
    "\n",
    "---\n",
    "\n",
    "### Evolving Preferences: Ratings Over Time\n",
    "\n",
    "Beer ratings aren’t static; they’ve evolved dramatically over time. Looking at the data, we notice a clear trend: ratings have steadily increased across most countries, particularly in major beer-drinking nations. On the maps below, you’ll see countries getting lighter and lighter over time—a reflection of this upward trend. Even more intriguing, the colors are converging across regions, suggesting a shift from local tendencies to a more global standard of beer appreciation.\n",
    "\n",
    "![Average Ratings Over Time](plots/average_rating_time.html)\n",
    "\n",
    "So, what’s driving this change? One possibility is that breweries are simply getting better at their craft, creating beers that appeal to a wider audience. Another theory? New users on platforms like RateBeer might be more generous in their ratings, skewing the averages upward. After all, less experienced users are more likely to give extreme ratings—a 5/5 for their favorite beer or a 0/5 for a disappointing one. This contrasts with early “pro” raters, who likely had a more refined approach.\n",
    "\n",
    "To explore this further, we compared ratings from the top 5% of users (the most experienced raters) with those from the general population. The plot below highlights these differences, giving us a clearer picture of how expertise influences beer ratings.\n",
    "\n",
    "![Top 5% Rater Comparison](plots/average_rating_top_5_percent.html)\n",
    "\n",
    "As the beer world continues to expand and evolve, these trends remind us that preferences are not only deeply personal but also shaped by the times we live in.\n"
   ]
  },
  {
   "cell_type": "markdown",
   "metadata": {},
   "source": [
    "NOTE: Rename popularity to preferance everywhere\n",
    "\n",
    "\n",
    "## General Preference Analysis\n",
    "\n",
    "### Correlation stuff\n",
    "* Go a bit more in depth into the correlation stuff to incorporate it more into the story\n",
    "* In theory we would expect ABV not having much correlation but despite this there is still some\n",
    "* We focus on ABV and style as they are important on categorizing beers and such.\n",
    "\n",
    "### Ratings over time\n",
    "* there is a clear increase in the ratings, in most countries we see them get lighter in ighter (mainly the largest beer drinking countries). Even more interestingly, we see that all colors are getting more and more similar. This seems to suggest more of a global tendency than a local one. \n",
    "* People are more likely to rate a beer a 5/5 or a 0/5 if they don't have much experiance. Initially it wwas more \"pro\" raters and then as more users join the platform the average increases.\n",
    "* look at a plot comparing top 5% of raters to others and see if it differs\n",
    "\n",
    "## ABV and Style Studies\n",
    "\n",
    "* Study what ABV peeople prefer (look at abv.ipynb)\n",
    "* Try to add line below the balls when they move to see if that looks nice\n",
    "* How it changes over time\n",
    "* Do people over time prever higher or lower ABV beers\n",
    "* From the bubble plot it shows clearly that people prefer higher ABV beers.\n",
    "* Link this to style - in some countries avg abv is higher and higher... (Rik's plot with some styles wth different abv ranges)\n",
    "* This is favorite beers in one country, \n",
    "\n",
    "## Brewery Analysis (rename to something more related to how beer preferences differ globally)\n",
    "\n",
    "\n",
    "* Rik's graph plot showing which countries like what other countries beers\n",
    "* Compare how people rate their own countries beer vs other countries beer\n",
    "\n",
    "\n",
    "## NLP\n",
    "\n",
    "\n",
    "## Conclusion\n",
    "\n",
    "\n"
   ]
  }
 ],
 "metadata": {
  "language_info": {
   "name": "python"
  }
 },
 "nbformat": 4,
 "nbformat_minor": 2
}
