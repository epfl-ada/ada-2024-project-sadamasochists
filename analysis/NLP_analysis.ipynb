{
 "cells": [
  {
   "cell_type": "code",
   "execution_count": 25,
   "id": "initial_id",
   "metadata": {
    "ExecuteTime": {
     "end_time": "2024-12-20T02:31:41.619005Z",
     "start_time": "2024-12-20T02:31:41.617435Z"
    },
    "collapsed": true
   },
   "outputs": [],
   "source": [
    "import duckdb\n",
    "import pandas as pd\n",
    "import os\n",
    "import numpy as np"
   ]
  },
  {
   "cell_type": "code",
   "execution_count": 2,
   "id": "4a654b77bdf9b112",
   "metadata": {
    "ExecuteTime": {
     "end_time": "2024-12-20T01:20:53.111165Z",
     "start_time": "2024-12-20T01:20:53.109343Z"
    }
   },
   "outputs": [],
   "source": [
    "DATA_FOLDER = os.path.join(os.getcwd(), '../data/processed/')"
   ]
  },
  {
   "cell_type": "code",
   "execution_count": 3,
   "id": "5f69aba8b09596d1",
   "metadata": {
    "ExecuteTime": {
     "end_time": "2024-12-20T14:56:00.039590Z",
     "start_time": "2024-12-20T14:55:59.914182Z"
    }
   },
   "outputs": [],
   "source": [
    "# Use file-based DB since data is large.\n",
    "con = duckdb.connect(database='./nlp_final.duckdb', read_only=False)"
   ]
  },
  {
   "cell_type": "code",
   "execution_count": 13,
   "id": "17ef81dcc3356929",
   "metadata": {
    "ExecuteTime": {
     "end_time": "2024-12-18T23:54:52.715204Z",
     "start_time": "2024-12-18T23:54:52.709189Z"
    }
   },
   "outputs": [
    {
     "data": {
      "text/plain": [
       "<duckdb.duckdb.DuckDBPyConnection at 0x13f8fa730>"
      ]
     },
     "execution_count": 13,
     "metadata": {},
     "output_type": "execute_result"
    }
   ],
   "source": [
    "con.execute(\"CREATE TABLE IF NOT EXISTS ratings_text_cleaned_lemma AS SELECT * FROM read_parquet('\" + DATA_FOLDER + \"ratings_text_cleaned_lemma.pq')\")"
   ]
  },
  {
   "cell_type": "code",
   "execution_count": 4,
   "id": "1dbf9fed2ff9bf8c",
   "metadata": {
    "ExecuteTime": {
     "end_time": "2024-12-19T12:16:31.920249Z",
     "start_time": "2024-12-19T12:16:31.564801Z"
    }
   },
   "outputs": [
    {
     "data": {
      "text/html": [
       "<div>\n",
       "<style scoped>\n",
       "    .dataframe tbody tr th:only-of-type {\n",
       "        vertical-align: middle;\n",
       "    }\n",
       "\n",
       "    .dataframe tbody tr th {\n",
       "        vertical-align: top;\n",
       "    }\n",
       "\n",
       "    .dataframe thead th {\n",
       "        text-align: right;\n",
       "    }\n",
       "</style>\n",
       "<table border=\"1\" class=\"dataframe\">\n",
       "  <thead>\n",
       "    <tr style=\"text-align: right;\">\n",
       "      <th></th>\n",
       "      <th>text</th>\n",
       "      <th>__index_level_0__</th>\n",
       "      <th>text_cleaned</th>\n",
       "      <th>text_cleaned_lemma</th>\n",
       "    </tr>\n",
       "  </thead>\n",
       "  <tbody>\n",
       "    <tr>\n",
       "      <th>0</th>\n",
       "      <td>Puszka 0,33l dzięki Christoph . Kolor jasnozło...</td>\n",
       "      <td>0</td>\n",
       "      <td>puszka 033l dzięki christoph  kolor jasnozłoty...</td>\n",
       "      <td>puszka 033l dzięki christoph   kolor jasnozłot...</td>\n",
       "    </tr>\n",
       "    <tr>\n",
       "      <th>1</th>\n",
       "      <td>Cerveza pale lager gabonesa. MÃ¡s floja que la...</td>\n",
       "      <td>1</td>\n",
       "      <td>cerveza pale lager gabonesa mãs floja que la r...</td>\n",
       "      <td>cerveza pale lager gabonés mãs flojo regabarom...</td>\n",
       "    </tr>\n",
       "    <tr>\n",
       "      <th>2</th>\n",
       "      <td>Kolor- złoty, klarowny. Piana - drobna, średni...</td>\n",
       "      <td>2</td>\n",
       "      <td>kolor złoty klarowny piana  drobna średnio wys...</td>\n",
       "      <td>kolor złoty klarowny piać   drobny średnio wys...</td>\n",
       "    </tr>\n",
       "    <tr>\n",
       "      <th>3</th>\n",
       "      <td>Botella, de GabÃ³n regalo familiar.31/01/2015C...</td>\n",
       "      <td>3</td>\n",
       "      <td>botella de gabãn regalo familiar31012015color ...</td>\n",
       "      <td>botella gabãn regalo familiar31012015color ama...</td>\n",
       "    </tr>\n",
       "    <tr>\n",
       "      <th>4</th>\n",
       "      <td>Many thanks for this beer to Erzengel. Pours l...</td>\n",
       "      <td>4</td>\n",
       "      <td>many thanks for this beer to erzengel pours li...</td>\n",
       "      <td>thank beer erzengel pour light golden medium h...</td>\n",
       "    </tr>\n",
       "  </tbody>\n",
       "</table>\n",
       "</div>"
      ],
      "text/plain": [
       "                                                text  __index_level_0__  \\\n",
       "0  Puszka 0,33l dzięki Christoph . Kolor jasnozło...                  0   \n",
       "1  Cerveza pale lager gabonesa. MÃ¡s floja que la...                  1   \n",
       "2  Kolor- złoty, klarowny. Piana - drobna, średni...                  2   \n",
       "3  Botella, de GabÃ³n regalo familiar.31/01/2015C...                  3   \n",
       "4  Many thanks for this beer to Erzengel. Pours l...                  4   \n",
       "\n",
       "                                        text_cleaned  \\\n",
       "0  puszka 033l dzięki christoph  kolor jasnozłoty...   \n",
       "1  cerveza pale lager gabonesa mãs floja que la r...   \n",
       "2  kolor złoty klarowny piana  drobna średnio wys...   \n",
       "3  botella de gabãn regalo familiar31012015color ...   \n",
       "4  many thanks for this beer to erzengel pours li...   \n",
       "\n",
       "                                  text_cleaned_lemma  \n",
       "0  puszka 033l dzięki christoph   kolor jasnozłot...  \n",
       "1  cerveza pale lager gabonés mãs flojo regabarom...  \n",
       "2  kolor złoty klarowny piać   drobny średnio wys...  \n",
       "3  botella gabãn regalo familiar31012015color ama...  \n",
       "4  thank beer erzengel pour light golden medium h...  "
      ]
     },
     "execution_count": 4,
     "metadata": {},
     "output_type": "execute_result"
    }
   ],
   "source": [
    "con.execute(\"SELECT * FROM ratings_text_cleaned_lemma LIMIT 5\").fetchdf()"
   ]
  },
  {
   "cell_type": "code",
   "execution_count": 7,
   "id": "ce6dacb192f8f4c3",
   "metadata": {
    "ExecuteTime": {
     "end_time": "2024-12-18T23:54:44.050536Z",
     "start_time": "2024-12-18T14:07:46.493642Z"
    }
   },
   "outputs": [
    {
     "data": {
      "text/plain": [
       "<duckdb.duckdb.DuckDBPyConnection at 0x104dee770>"
      ]
     },
     "execution_count": 7,
     "metadata": {},
     "output_type": "execute_result"
    }
   ],
   "source": [
    "con.execute(\"CREATE TABLE IF NOT EXISTS ratings_no_text AS SELECT * FROM read_parquet('\" + DATA_FOLDER + \"ratings_no_text.pq')\")"
   ]
  },
  {
   "cell_type": "code",
   "execution_count": 12,
   "id": "97784d5a4a73911b",
   "metadata": {
    "ExecuteTime": {
     "end_time": "2024-12-18T14:12:16.703154Z",
     "start_time": "2024-12-18T14:11:48.989856Z"
    }
   },
   "outputs": [
    {
     "data": {
      "application/vnd.jupyter.widget-view+json": {
       "model_id": "28ac93b975d24f26961673478e916eb2",
       "version_major": 2,
       "version_minor": 0
      },
      "text/plain": [
       "FloatProgress(value=0.0, layout=Layout(width='auto'), style=ProgressStyle(bar_color='black'))"
      ]
     },
     "metadata": {},
     "output_type": "display_data"
    },
    {
     "data": {
      "text/plain": [
       "<duckdb.duckdb.DuckDBPyConnection at 0x104dee770>"
      ]
     },
     "execution_count": 12,
     "metadata": {},
     "output_type": "execute_result"
    }
   ],
   "source": [
    "# Concatenates text reviews with metadata.\n",
    "con.execute(\"\"\"\n",
    "CREATE TABLE IF NOT EXISTS ratings AS\n",
    "WITH ratings_text_with_rownum AS (\n",
    "    SELECT *, ROW_NUMBER() OVER () AS rownum\n",
    "    FROM ratings_text_cleaned_lemma\n",
    "),\n",
    "ratings_no_text_with_rownum AS (\n",
    "    SELECT *, ROW_NUMBER() OVER () AS rownum\n",
    "    FROM ratings_no_text\n",
    ")\n",
    "SELECT\n",
    "    r1.*,\n",
    "    r2.*\n",
    "FROM ratings_text_with_rownum r1\n",
    "JOIN ratings_no_text_with_rownum r2\n",
    "ON r1.rownum = r2.rownum;\n",
    "\"\"\")\n"
   ]
  },
  {
   "cell_type": "markdown",
   "id": "badfde5c9557c721",
   "metadata": {
    "collapsed": false
   },
   "source": [
    "### Convert embeddings to format that enables quick analysis"
   ]
  },
  {
   "cell_type": "code",
   "execution_count": 3,
   "id": "a89151ff48ea0875",
   "metadata": {
    "ExecuteTime": {
     "end_time": "2024-12-18T23:50:59.590647Z",
     "start_time": "2024-12-18T23:50:56.576399Z"
    }
   },
   "outputs": [],
   "source": [
    "embeddings = np.load(DATA_FOLDER + 'embeddings.npy')"
   ]
  },
  {
   "cell_type": "code",
   "execution_count": 4,
   "id": "9bd012ead2eaa8e7",
   "metadata": {
    "ExecuteTime": {
     "end_time": "2024-12-18T23:50:59.772803Z",
     "start_time": "2024-12-18T23:50:59.770199Z"
    }
   },
   "outputs": [
    {
     "data": {
      "text/plain": [
       "(7102520, 384)"
      ]
     },
     "execution_count": 4,
     "metadata": {},
     "output_type": "execute_result"
    }
   ],
   "source": [
    "embeddings.shape"
   ]
  },
  {
   "cell_type": "code",
   "execution_count": 5,
   "id": "235f71f35e64fc4b",
   "metadata": {
    "ExecuteTime": {
     "end_time": "2024-12-18T23:51:15.758698Z",
     "start_time": "2024-12-18T23:51:14.275369Z"
    }
   },
   "outputs": [],
   "source": [
    "# Moves to pandas so its 2D\n",
    "df = pd.DataFrame(embeddings)"
   ]
  },
  {
   "cell_type": "code",
   "execution_count": 6,
   "id": "e642902b5695a785",
   "metadata": {
    "ExecuteTime": {
     "end_time": "2024-12-18T23:51:19.962338Z",
     "start_time": "2024-12-18T23:51:19.955481Z"
    }
   },
   "outputs": [
    {
     "data": {
      "text/html": [
       "<div>\n",
       "<style scoped>\n",
       "    .dataframe tbody tr th:only-of-type {\n",
       "        vertical-align: middle;\n",
       "    }\n",
       "\n",
       "    .dataframe tbody tr th {\n",
       "        vertical-align: top;\n",
       "    }\n",
       "\n",
       "    .dataframe thead th {\n",
       "        text-align: right;\n",
       "    }\n",
       "</style>\n",
       "<table border=\"1\" class=\"dataframe\">\n",
       "  <thead>\n",
       "    <tr style=\"text-align: right;\">\n",
       "      <th></th>\n",
       "      <th>0</th>\n",
       "      <th>1</th>\n",
       "      <th>2</th>\n",
       "      <th>3</th>\n",
       "      <th>4</th>\n",
       "      <th>5</th>\n",
       "      <th>6</th>\n",
       "      <th>7</th>\n",
       "      <th>8</th>\n",
       "      <th>9</th>\n",
       "      <th>...</th>\n",
       "      <th>374</th>\n",
       "      <th>375</th>\n",
       "      <th>376</th>\n",
       "      <th>377</th>\n",
       "      <th>378</th>\n",
       "      <th>379</th>\n",
       "      <th>380</th>\n",
       "      <th>381</th>\n",
       "      <th>382</th>\n",
       "      <th>383</th>\n",
       "    </tr>\n",
       "  </thead>\n",
       "  <tbody>\n",
       "    <tr>\n",
       "      <th>0</th>\n",
       "      <td>-0.092251</td>\n",
       "      <td>0.128006</td>\n",
       "      <td>0.167581</td>\n",
       "      <td>0.093993</td>\n",
       "      <td>0.003538</td>\n",
       "      <td>-0.025684</td>\n",
       "      <td>0.156834</td>\n",
       "      <td>-0.206852</td>\n",
       "      <td>-0.043540</td>\n",
       "      <td>0.126090</td>\n",
       "      <td>...</td>\n",
       "      <td>-0.125435</td>\n",
       "      <td>-0.205509</td>\n",
       "      <td>0.089621</td>\n",
       "      <td>0.020336</td>\n",
       "      <td>0.058301</td>\n",
       "      <td>0.115385</td>\n",
       "      <td>0.095444</td>\n",
       "      <td>-0.117911</td>\n",
       "      <td>0.304145</td>\n",
       "      <td>0.099468</td>\n",
       "    </tr>\n",
       "    <tr>\n",
       "      <th>1</th>\n",
       "      <td>-0.040249</td>\n",
       "      <td>0.227907</td>\n",
       "      <td>0.073693</td>\n",
       "      <td>0.042528</td>\n",
       "      <td>0.050313</td>\n",
       "      <td>-0.257208</td>\n",
       "      <td>0.370077</td>\n",
       "      <td>0.086232</td>\n",
       "      <td>0.058457</td>\n",
       "      <td>0.104833</td>\n",
       "      <td>...</td>\n",
       "      <td>-0.019627</td>\n",
       "      <td>-0.219118</td>\n",
       "      <td>-0.189044</td>\n",
       "      <td>0.084599</td>\n",
       "      <td>-0.172757</td>\n",
       "      <td>-0.109665</td>\n",
       "      <td>0.181105</td>\n",
       "      <td>-0.023650</td>\n",
       "      <td>0.043990</td>\n",
       "      <td>-0.097015</td>\n",
       "    </tr>\n",
       "    <tr>\n",
       "      <th>2</th>\n",
       "      <td>0.029447</td>\n",
       "      <td>0.064680</td>\n",
       "      <td>0.141761</td>\n",
       "      <td>0.163236</td>\n",
       "      <td>-0.066617</td>\n",
       "      <td>-0.107245</td>\n",
       "      <td>0.421406</td>\n",
       "      <td>-0.139581</td>\n",
       "      <td>0.056566</td>\n",
       "      <td>-0.053757</td>\n",
       "      <td>...</td>\n",
       "      <td>-0.139586</td>\n",
       "      <td>-0.082740</td>\n",
       "      <td>0.044802</td>\n",
       "      <td>0.026649</td>\n",
       "      <td>0.032082</td>\n",
       "      <td>0.058311</td>\n",
       "      <td>0.228115</td>\n",
       "      <td>-0.001229</td>\n",
       "      <td>0.219331</td>\n",
       "      <td>-0.006441</td>\n",
       "    </tr>\n",
       "    <tr>\n",
       "      <th>3</th>\n",
       "      <td>-0.367951</td>\n",
       "      <td>0.356342</td>\n",
       "      <td>-0.076709</td>\n",
       "      <td>0.064348</td>\n",
       "      <td>0.396878</td>\n",
       "      <td>-0.301984</td>\n",
       "      <td>0.482078</td>\n",
       "      <td>-0.158974</td>\n",
       "      <td>0.086975</td>\n",
       "      <td>-0.073683</td>\n",
       "      <td>...</td>\n",
       "      <td>-0.051616</td>\n",
       "      <td>-0.245416</td>\n",
       "      <td>-0.284482</td>\n",
       "      <td>0.024146</td>\n",
       "      <td>0.148042</td>\n",
       "      <td>-0.288214</td>\n",
       "      <td>0.315874</td>\n",
       "      <td>-0.008937</td>\n",
       "      <td>0.074141</td>\n",
       "      <td>-0.079015</td>\n",
       "    </tr>\n",
       "    <tr>\n",
       "      <th>4</th>\n",
       "      <td>-0.112088</td>\n",
       "      <td>0.086483</td>\n",
       "      <td>0.258012</td>\n",
       "      <td>0.142859</td>\n",
       "      <td>-0.212467</td>\n",
       "      <td>-0.187502</td>\n",
       "      <td>0.416985</td>\n",
       "      <td>0.102876</td>\n",
       "      <td>-0.153799</td>\n",
       "      <td>0.128701</td>\n",
       "      <td>...</td>\n",
       "      <td>-0.201743</td>\n",
       "      <td>-0.194152</td>\n",
       "      <td>0.142829</td>\n",
       "      <td>0.089229</td>\n",
       "      <td>-0.284410</td>\n",
       "      <td>-0.132212</td>\n",
       "      <td>0.179270</td>\n",
       "      <td>-0.068468</td>\n",
       "      <td>0.335503</td>\n",
       "      <td>-0.083845</td>\n",
       "    </tr>\n",
       "  </tbody>\n",
       "</table>\n",
       "<p>5 rows × 384 columns</p>\n",
       "</div>"
      ],
      "text/plain": [
       "        0         1         2         3         4         5         6    \\\n",
       "0 -0.092251  0.128006  0.167581  0.093993  0.003538 -0.025684  0.156834   \n",
       "1 -0.040249  0.227907  0.073693  0.042528  0.050313 -0.257208  0.370077   \n",
       "2  0.029447  0.064680  0.141761  0.163236 -0.066617 -0.107245  0.421406   \n",
       "3 -0.367951  0.356342 -0.076709  0.064348  0.396878 -0.301984  0.482078   \n",
       "4 -0.112088  0.086483  0.258012  0.142859 -0.212467 -0.187502  0.416985   \n",
       "\n",
       "        7         8         9    ...       374       375       376       377  \\\n",
       "0 -0.206852 -0.043540  0.126090  ... -0.125435 -0.205509  0.089621  0.020336   \n",
       "1  0.086232  0.058457  0.104833  ... -0.019627 -0.219118 -0.189044  0.084599   \n",
       "2 -0.139581  0.056566 -0.053757  ... -0.139586 -0.082740  0.044802  0.026649   \n",
       "3 -0.158974  0.086975 -0.073683  ... -0.051616 -0.245416 -0.284482  0.024146   \n",
       "4  0.102876 -0.153799  0.128701  ... -0.201743 -0.194152  0.142829  0.089229   \n",
       "\n",
       "        378       379       380       381       382       383  \n",
       "0  0.058301  0.115385  0.095444 -0.117911  0.304145  0.099468  \n",
       "1 -0.172757 -0.109665  0.181105 -0.023650  0.043990 -0.097015  \n",
       "2  0.032082  0.058311  0.228115 -0.001229  0.219331 -0.006441  \n",
       "3  0.148042 -0.288214  0.315874 -0.008937  0.074141 -0.079015  \n",
       "4 -0.284410 -0.132212  0.179270 -0.068468  0.335503 -0.083845  \n",
       "\n",
       "[5 rows x 384 columns]"
      ]
     },
     "execution_count": 6,
     "metadata": {},
     "output_type": "execute_result"
    }
   ],
   "source": [
    "df.head()"
   ]
  },
  {
   "cell_type": "code",
   "execution_count": 7,
   "id": "4262c36235a59f63",
   "metadata": {
    "ExecuteTime": {
     "end_time": "2024-12-18T23:54:43.604068Z",
     "start_time": "2024-12-18T23:51:36.516516Z"
    }
   },
   "outputs": [],
   "source": [
    "df.to_parquet(DATA_FOLDER + 'embeddings.pq')"
   ]
  },
  {
   "cell_type": "code",
   "execution_count": 16,
   "id": "b6873b40326575d4",
   "metadata": {
    "ExecuteTime": {
     "end_time": "2024-12-18T23:56:07.501109Z",
     "start_time": "2024-12-18T23:55:31.698885Z"
    }
   },
   "outputs": [
    {
     "data": {
      "application/vnd.jupyter.widget-view+json": {
       "model_id": "09d7d138554f43e69693536bb72d25b2",
       "version_major": 2,
       "version_minor": 0
      },
      "text/plain": [
       "FloatProgress(value=0.0, layout=Layout(width='auto'), style=ProgressStyle(bar_color='black'))"
      ]
     },
     "metadata": {},
     "output_type": "display_data"
    },
    {
     "data": {
      "text/plain": [
       "<duckdb.duckdb.DuckDBPyConnection at 0x13f8fa730>"
      ]
     },
     "execution_count": 16,
     "metadata": {},
     "output_type": "execute_result"
    }
   ],
   "source": [
    "# Move embeddings into database.\n",
    "con.execute(\"CREATE TABLE IF NOT EXISTS embeddings_raw AS SELECT * FROM read_parquet('\" + DATA_FOLDER + \"embeddings.pq')\")"
   ]
  },
  {
   "cell_type": "code",
   "execution_count": 17,
   "id": "6f049f2813f43bb9",
   "metadata": {
    "ExecuteTime": {
     "end_time": "2024-12-18T23:56:54.087682Z",
     "start_time": "2024-12-18T23:56:54.035692Z"
    }
   },
   "outputs": [
    {
     "data": {
      "text/html": [
       "<div>\n",
       "<style scoped>\n",
       "    .dataframe tbody tr th:only-of-type {\n",
       "        vertical-align: middle;\n",
       "    }\n",
       "\n",
       "    .dataframe tbody tr th {\n",
       "        vertical-align: top;\n",
       "    }\n",
       "\n",
       "    .dataframe thead th {\n",
       "        text-align: right;\n",
       "    }\n",
       "</style>\n",
       "<table border=\"1\" class=\"dataframe\">\n",
       "  <thead>\n",
       "    <tr style=\"text-align: right;\">\n",
       "      <th></th>\n",
       "      <th>0</th>\n",
       "      <th>1</th>\n",
       "      <th>2</th>\n",
       "      <th>3</th>\n",
       "      <th>4</th>\n",
       "      <th>5</th>\n",
       "      <th>6</th>\n",
       "      <th>7</th>\n",
       "      <th>8</th>\n",
       "      <th>9</th>\n",
       "      <th>...</th>\n",
       "      <th>374</th>\n",
       "      <th>375</th>\n",
       "      <th>376</th>\n",
       "      <th>377</th>\n",
       "      <th>378</th>\n",
       "      <th>379</th>\n",
       "      <th>380</th>\n",
       "      <th>381</th>\n",
       "      <th>382</th>\n",
       "      <th>383</th>\n",
       "    </tr>\n",
       "  </thead>\n",
       "  <tbody>\n",
       "    <tr>\n",
       "      <th>0</th>\n",
       "      <td>-0.092251</td>\n",
       "      <td>0.128006</td>\n",
       "      <td>0.167581</td>\n",
       "      <td>0.093993</td>\n",
       "      <td>0.003538</td>\n",
       "      <td>-0.025684</td>\n",
       "      <td>0.156834</td>\n",
       "      <td>-0.206852</td>\n",
       "      <td>-0.043540</td>\n",
       "      <td>0.126090</td>\n",
       "      <td>...</td>\n",
       "      <td>-0.125435</td>\n",
       "      <td>-0.205509</td>\n",
       "      <td>0.089621</td>\n",
       "      <td>0.020336</td>\n",
       "      <td>0.058301</td>\n",
       "      <td>0.115385</td>\n",
       "      <td>0.095444</td>\n",
       "      <td>-0.117911</td>\n",
       "      <td>0.304145</td>\n",
       "      <td>0.099468</td>\n",
       "    </tr>\n",
       "    <tr>\n",
       "      <th>1</th>\n",
       "      <td>-0.040249</td>\n",
       "      <td>0.227907</td>\n",
       "      <td>0.073693</td>\n",
       "      <td>0.042528</td>\n",
       "      <td>0.050313</td>\n",
       "      <td>-0.257208</td>\n",
       "      <td>0.370077</td>\n",
       "      <td>0.086232</td>\n",
       "      <td>0.058457</td>\n",
       "      <td>0.104833</td>\n",
       "      <td>...</td>\n",
       "      <td>-0.019627</td>\n",
       "      <td>-0.219118</td>\n",
       "      <td>-0.189044</td>\n",
       "      <td>0.084599</td>\n",
       "      <td>-0.172757</td>\n",
       "      <td>-0.109665</td>\n",
       "      <td>0.181105</td>\n",
       "      <td>-0.023650</td>\n",
       "      <td>0.043990</td>\n",
       "      <td>-0.097015</td>\n",
       "    </tr>\n",
       "    <tr>\n",
       "      <th>2</th>\n",
       "      <td>0.029447</td>\n",
       "      <td>0.064680</td>\n",
       "      <td>0.141761</td>\n",
       "      <td>0.163236</td>\n",
       "      <td>-0.066617</td>\n",
       "      <td>-0.107245</td>\n",
       "      <td>0.421406</td>\n",
       "      <td>-0.139581</td>\n",
       "      <td>0.056566</td>\n",
       "      <td>-0.053757</td>\n",
       "      <td>...</td>\n",
       "      <td>-0.139586</td>\n",
       "      <td>-0.082740</td>\n",
       "      <td>0.044802</td>\n",
       "      <td>0.026649</td>\n",
       "      <td>0.032082</td>\n",
       "      <td>0.058311</td>\n",
       "      <td>0.228115</td>\n",
       "      <td>-0.001229</td>\n",
       "      <td>0.219331</td>\n",
       "      <td>-0.006441</td>\n",
       "    </tr>\n",
       "    <tr>\n",
       "      <th>3</th>\n",
       "      <td>-0.367951</td>\n",
       "      <td>0.356342</td>\n",
       "      <td>-0.076709</td>\n",
       "      <td>0.064348</td>\n",
       "      <td>0.396878</td>\n",
       "      <td>-0.301984</td>\n",
       "      <td>0.482078</td>\n",
       "      <td>-0.158974</td>\n",
       "      <td>0.086975</td>\n",
       "      <td>-0.073683</td>\n",
       "      <td>...</td>\n",
       "      <td>-0.051616</td>\n",
       "      <td>-0.245416</td>\n",
       "      <td>-0.284482</td>\n",
       "      <td>0.024146</td>\n",
       "      <td>0.148042</td>\n",
       "      <td>-0.288214</td>\n",
       "      <td>0.315874</td>\n",
       "      <td>-0.008937</td>\n",
       "      <td>0.074141</td>\n",
       "      <td>-0.079015</td>\n",
       "    </tr>\n",
       "    <tr>\n",
       "      <th>4</th>\n",
       "      <td>-0.112088</td>\n",
       "      <td>0.086483</td>\n",
       "      <td>0.258012</td>\n",
       "      <td>0.142859</td>\n",
       "      <td>-0.212467</td>\n",
       "      <td>-0.187502</td>\n",
       "      <td>0.416985</td>\n",
       "      <td>0.102876</td>\n",
       "      <td>-0.153799</td>\n",
       "      <td>0.128701</td>\n",
       "      <td>...</td>\n",
       "      <td>-0.201743</td>\n",
       "      <td>-0.194152</td>\n",
       "      <td>0.142829</td>\n",
       "      <td>0.089229</td>\n",
       "      <td>-0.284410</td>\n",
       "      <td>-0.132212</td>\n",
       "      <td>0.179270</td>\n",
       "      <td>-0.068468</td>\n",
       "      <td>0.335503</td>\n",
       "      <td>-0.083845</td>\n",
       "    </tr>\n",
       "  </tbody>\n",
       "</table>\n",
       "<p>5 rows × 384 columns</p>\n",
       "</div>"
      ],
      "text/plain": [
       "          0         1         2         3         4         5         6  \\\n",
       "0 -0.092251  0.128006  0.167581  0.093993  0.003538 -0.025684  0.156834   \n",
       "1 -0.040249  0.227907  0.073693  0.042528  0.050313 -0.257208  0.370077   \n",
       "2  0.029447  0.064680  0.141761  0.163236 -0.066617 -0.107245  0.421406   \n",
       "3 -0.367951  0.356342 -0.076709  0.064348  0.396878 -0.301984  0.482078   \n",
       "4 -0.112088  0.086483  0.258012  0.142859 -0.212467 -0.187502  0.416985   \n",
       "\n",
       "          7         8         9  ...       374       375       376       377  \\\n",
       "0 -0.206852 -0.043540  0.126090  ... -0.125435 -0.205509  0.089621  0.020336   \n",
       "1  0.086232  0.058457  0.104833  ... -0.019627 -0.219118 -0.189044  0.084599   \n",
       "2 -0.139581  0.056566 -0.053757  ... -0.139586 -0.082740  0.044802  0.026649   \n",
       "3 -0.158974  0.086975 -0.073683  ... -0.051616 -0.245416 -0.284482  0.024146   \n",
       "4  0.102876 -0.153799  0.128701  ... -0.201743 -0.194152  0.142829  0.089229   \n",
       "\n",
       "        378       379       380       381       382       383  \n",
       "0  0.058301  0.115385  0.095444 -0.117911  0.304145  0.099468  \n",
       "1 -0.172757 -0.109665  0.181105 -0.023650  0.043990 -0.097015  \n",
       "2  0.032082  0.058311  0.228115 -0.001229  0.219331 -0.006441  \n",
       "3  0.148042 -0.288214  0.315874 -0.008937  0.074141 -0.079015  \n",
       "4 -0.284410 -0.132212  0.179270 -0.068468  0.335503 -0.083845  \n",
       "\n",
       "[5 rows x 384 columns]"
      ]
     },
     "execution_count": 17,
     "metadata": {},
     "output_type": "execute_result"
    }
   ],
   "source": [
    "con.execute(\"SELECT * FROM embeddings_raw LIMIT 5\").fetchdf()"
   ]
  },
  {
   "cell_type": "markdown",
   "id": "45a77ea812810cad",
   "metadata": {
    "collapsed": false
   },
   "source": [
    "## Data generation for the website"
   ]
  },
  {
   "cell_type": "code",
   "execution_count": 12,
   "id": "35b96340aebdfc3",
   "metadata": {
    "ExecuteTime": {
     "end_time": "2024-12-20T01:27:24.693176Z",
     "start_time": "2024-12-20T01:27:24.691322Z"
    }
   },
   "outputs": [],
   "source": [
    "DATA_OUT = os.path.join(os.getcwd(), '../data/out/')"
   ]
  },
  {
   "cell_type": "code",
   "execution_count": 13,
   "id": "c7e48693babff3ea",
   "metadata": {
    "ExecuteTime": {
     "end_time": "2024-12-20T01:27:25.132632Z",
     "start_time": "2024-12-20T01:27:25.122337Z"
    }
   },
   "outputs": [
    {
     "data": {
      "text/plain": [
       "Index(['text', '__index_level_0__', 'text_cleaned', 'text_cleaned_lemma',\n",
       "       'rownum', 'date', 'beer_id', 'user_id', 'brewery_id', 'abv', 'style',\n",
       "       'rating', 'palate', 'taste', 'appearance', 'aroma', 'overall', 'year',\n",
       "       'brewery_name', 'country_brewery', 'state_brewery', 'country_user',\n",
       "       'state_user', '__index_level_0___1', 'rownum_1', 'embeddings'],\n",
       "      dtype='object')"
      ]
     },
     "execution_count": 13,
     "metadata": {},
     "output_type": "execute_result"
    }
   ],
   "source": [
    "con.execute(\"SELECT * FROM ratings LIMIT 5\").fetchdf().keys()"
   ]
  },
  {
   "cell_type": "code",
   "execution_count": 14,
   "id": "1ecb9b9be5ddb5a5",
   "metadata": {
    "ExecuteTime": {
     "end_time": "2024-12-20T01:27:26.113278Z",
     "start_time": "2024-12-20T01:27:26.092398Z"
    }
   },
   "outputs": [],
   "source": [
    "# Get all countries.\n",
    "countries = con.execute(\"SELECT DISTINCT ratings.country_user FROM ratings\").fetchdf()['country_user'].tolist()"
   ]
  },
  {
   "cell_type": "code",
   "execution_count": 15,
   "id": "55b44a7173109224",
   "metadata": {
    "ExecuteTime": {
     "end_time": "2024-12-20T01:27:26.759662Z",
     "start_time": "2024-12-20T01:27:26.755439Z"
    }
   },
   "outputs": [],
   "source": [
    "# Create a new folder for every country.\n",
    "# NOTE: This function has to be identical in JS.\n",
    "def countriaze(country):\n",
    "    return country.replace(' ', '_').replace('/', '_').replace('(', '').replace(')', '').replace(',', '').replace('.', '').replace(\"'\", '').replace('\"', '').replace('?', '').replace('!', '').replace(':', '').replace(';', '').replace('-', '_').replace('&', 'and').replace('___', '_').replace('__', '_').lower().strip()\n",
    "\n",
    "for country in countries:\n",
    "    if country is None:\n",
    "        continue\n",
    "    os.makedirs(DATA_OUT + countriaze(country), exist_ok=True)"
   ]
  },
  {
   "cell_type": "code",
   "execution_count": 51,
   "id": "1fbc92f41696c92d",
   "metadata": {
    "ExecuteTime": {
     "end_time": "2024-12-19T00:31:58.317501Z",
     "start_time": "2024-12-19T00:31:58.301754Z"
    }
   },
   "outputs": [
    {
     "data": {
      "text/html": [
       "<div>\n",
       "<style scoped>\n",
       "    .dataframe tbody tr th:only-of-type {\n",
       "        vertical-align: middle;\n",
       "    }\n",
       "\n",
       "    .dataframe tbody tr th {\n",
       "        vertical-align: top;\n",
       "    }\n",
       "\n",
       "    .dataframe thead th {\n",
       "        text-align: right;\n",
       "    }\n",
       "</style>\n",
       "<table border=\"1\" class=\"dataframe\">\n",
       "  <thead>\n",
       "    <tr style=\"text-align: right;\">\n",
       "      <th></th>\n",
       "      <th>text</th>\n",
       "      <th>__index_level_0__</th>\n",
       "      <th>text_cleaned</th>\n",
       "      <th>text_cleaned_lemma</th>\n",
       "      <th>rownum</th>\n",
       "      <th>date</th>\n",
       "      <th>beer_id</th>\n",
       "      <th>user_id</th>\n",
       "      <th>brewery_id</th>\n",
       "      <th>abv</th>\n",
       "      <th>...</th>\n",
       "      <th>overall</th>\n",
       "      <th>year</th>\n",
       "      <th>brewery_name</th>\n",
       "      <th>country_brewery</th>\n",
       "      <th>state_brewery</th>\n",
       "      <th>country_user</th>\n",
       "      <th>state_user</th>\n",
       "      <th>__index_level_0___1</th>\n",
       "      <th>rownum_1</th>\n",
       "      <th>embeddings</th>\n",
       "    </tr>\n",
       "  </thead>\n",
       "  <tbody>\n",
       "    <tr>\n",
       "      <th>0</th>\n",
       "      <td>Very peppery, hoppy, very hop forward and ling...</td>\n",
       "      <td>1443</td>\n",
       "      <td>very peppery hoppy very hop forward and linger...</td>\n",
       "      <td>peppery hoppy hop forward linger hoppy finishn...</td>\n",
       "      <td>1444</td>\n",
       "      <td>2011-06-12 12:00:00</td>\n",
       "      <td>130299</td>\n",
       "      <td>4953</td>\n",
       "      <td>2099</td>\n",
       "      <td>5.3</td>\n",
       "      <td>...</td>\n",
       "      <td>14.0</td>\n",
       "      <td>2011</td>\n",
       "      <td>Hilden</td>\n",
       "      <td>United Kingdom</td>\n",
       "      <td>None</td>\n",
       "      <td>Japan</td>\n",
       "      <td>None</td>\n",
       "      <td>1443</td>\n",
       "      <td>1444</td>\n",
       "      <td>NaN</td>\n",
       "    </tr>\n",
       "    <tr>\n",
       "      <th>1</th>\n",
       "      <td>Light golden color. Grainy cereal nose. Fairly...</td>\n",
       "      <td>1813</td>\n",
       "      <td>light golden color grainy cereal nose fairly m...</td>\n",
       "      <td>light golden color grainy cereal nose fairly m...</td>\n",
       "      <td>1814</td>\n",
       "      <td>2011-06-12 12:00:00</td>\n",
       "      <td>92714</td>\n",
       "      <td>4953</td>\n",
       "      <td>2099</td>\n",
       "      <td>4.2</td>\n",
       "      <td>...</td>\n",
       "      <td>11.0</td>\n",
       "      <td>2011</td>\n",
       "      <td>Hilden</td>\n",
       "      <td>United Kingdom</td>\n",
       "      <td>None</td>\n",
       "      <td>Japan</td>\n",
       "      <td>None</td>\n",
       "      <td>1813</td>\n",
       "      <td>1814</td>\n",
       "      <td>NaN</td>\n",
       "    </tr>\n",
       "    <tr>\n",
       "      <th>2</th>\n",
       "      <td>Kinda boring average English bitter with not a...</td>\n",
       "      <td>2562</td>\n",
       "      <td>kinda boring average english bitter with not a...</td>\n",
       "      <td>kinda boring average english bitter lot go ok</td>\n",
       "      <td>2563</td>\n",
       "      <td>2011-06-12 12:00:00</td>\n",
       "      <td>31973</td>\n",
       "      <td>4953</td>\n",
       "      <td>4347</td>\n",
       "      <td>4.5</td>\n",
       "      <td>...</td>\n",
       "      <td>11.0</td>\n",
       "      <td>2011</td>\n",
       "      <td>Whitewater</td>\n",
       "      <td>United Kingdom</td>\n",
       "      <td>None</td>\n",
       "      <td>Japan</td>\n",
       "      <td>None</td>\n",
       "      <td>2562</td>\n",
       "      <td>2563</td>\n",
       "      <td>NaN</td>\n",
       "    </tr>\n",
       "    <tr>\n",
       "      <th>3</th>\n",
       "      <td>Lots of roasty character, a touch sour with so...</td>\n",
       "      <td>2672</td>\n",
       "      <td>lots of roasty character a touch sour with som...</td>\n",
       "      <td>lot roasty character touch sour chocolate note...</td>\n",
       "      <td>2673</td>\n",
       "      <td>2011-07-28 12:00:00</td>\n",
       "      <td>123611</td>\n",
       "      <td>4953</td>\n",
       "      <td>4347</td>\n",
       "      <td>4.5</td>\n",
       "      <td>...</td>\n",
       "      <td>14.0</td>\n",
       "      <td>2011</td>\n",
       "      <td>Whitewater</td>\n",
       "      <td>United Kingdom</td>\n",
       "      <td>None</td>\n",
       "      <td>Japan</td>\n",
       "      <td>None</td>\n",
       "      <td>2672</td>\n",
       "      <td>2673</td>\n",
       "      <td>NaN</td>\n",
       "    </tr>\n",
       "    <tr>\n",
       "      <th>4</th>\n",
       "      <td>Light mildly sour, corn and grain. Nothing spe...</td>\n",
       "      <td>2724</td>\n",
       "      <td>light mildly sour corn and grain nothing speci...</td>\n",
       "      <td>light mildly sour corn grain special step aver...</td>\n",
       "      <td>2725</td>\n",
       "      <td>2011-06-12 12:00:00</td>\n",
       "      <td>85648</td>\n",
       "      <td>4953</td>\n",
       "      <td>4347</td>\n",
       "      <td>4.5</td>\n",
       "      <td>...</td>\n",
       "      <td>12.0</td>\n",
       "      <td>2011</td>\n",
       "      <td>Whitewater</td>\n",
       "      <td>United Kingdom</td>\n",
       "      <td>None</td>\n",
       "      <td>Japan</td>\n",
       "      <td>None</td>\n",
       "      <td>2724</td>\n",
       "      <td>2725</td>\n",
       "      <td>NaN</td>\n",
       "    </tr>\n",
       "  </tbody>\n",
       "</table>\n",
       "<p>5 rows × 26 columns</p>\n",
       "</div>"
      ],
      "text/plain": [
       "                                                text  __index_level_0__  \\\n",
       "0  Very peppery, hoppy, very hop forward and ling...               1443   \n",
       "1  Light golden color. Grainy cereal nose. Fairly...               1813   \n",
       "2  Kinda boring average English bitter with not a...               2562   \n",
       "3  Lots of roasty character, a touch sour with so...               2672   \n",
       "4  Light mildly sour, corn and grain. Nothing spe...               2724   \n",
       "\n",
       "                                        text_cleaned  \\\n",
       "0  very peppery hoppy very hop forward and linger...   \n",
       "1  light golden color grainy cereal nose fairly m...   \n",
       "2  kinda boring average english bitter with not a...   \n",
       "3  lots of roasty character a touch sour with som...   \n",
       "4  light mildly sour corn and grain nothing speci...   \n",
       "\n",
       "                                  text_cleaned_lemma  rownum  \\\n",
       "0  peppery hoppy hop forward linger hoppy finishn...    1444   \n",
       "1  light golden color grainy cereal nose fairly m...    1814   \n",
       "2      kinda boring average english bitter lot go ok    2563   \n",
       "3  lot roasty character touch sour chocolate note...    2673   \n",
       "4  light mildly sour corn grain special step aver...    2725   \n",
       "\n",
       "                 date  beer_id  user_id  brewery_id  abv  ... overall  year  \\\n",
       "0 2011-06-12 12:00:00   130299     4953        2099  5.3  ...    14.0  2011   \n",
       "1 2011-06-12 12:00:00    92714     4953        2099  4.2  ...    11.0  2011   \n",
       "2 2011-06-12 12:00:00    31973     4953        4347  4.5  ...    11.0  2011   \n",
       "3 2011-07-28 12:00:00   123611     4953        4347  4.5  ...    14.0  2011   \n",
       "4 2011-06-12 12:00:00    85648     4953        4347  4.5  ...    12.0  2011   \n",
       "\n",
       "   brewery_name  country_brewery  state_brewery  country_user  state_user  \\\n",
       "0        Hilden   United Kingdom           None         Japan        None   \n",
       "1        Hilden   United Kingdom           None         Japan        None   \n",
       "2    Whitewater   United Kingdom           None         Japan        None   \n",
       "3    Whitewater   United Kingdom           None         Japan        None   \n",
       "4    Whitewater   United Kingdom           None         Japan        None   \n",
       "\n",
       "   __index_level_0___1 rownum_1 embeddings  \n",
       "0                 1443     1444        NaN  \n",
       "1                 1813     1814        NaN  \n",
       "2                 2562     2563        NaN  \n",
       "3                 2672     2673        NaN  \n",
       "4                 2724     2725        NaN  \n",
       "\n",
       "[5 rows x 26 columns]"
      ]
     },
     "execution_count": 51,
     "metadata": {},
     "output_type": "execute_result"
    }
   ],
   "source": [
    "con.execute(\"\"\"SELECT * FROM ratings WHERE country_user == 'Japan' LIMIT 5\"\"\").fetchdf()"
   ]
  },
  {
   "cell_type": "markdown",
   "id": "11b7db1a66d887b3",
   "metadata": {
    "collapsed": false
   },
   "source": [
    "### Top 25 most frequently used words per country"
   ]
  },
  {
   "cell_type": "code",
   "execution_count": 49,
   "id": "c679e9c42108e1c6",
   "metadata": {
    "ExecuteTime": {
     "end_time": "2024-12-19T00:31:19.303669Z",
     "start_time": "2024-12-19T00:31:15.151934Z"
    }
   },
   "outputs": [
    {
     "data": {
      "application/vnd.jupyter.widget-view+json": {
       "model_id": "2c7b6319fe9b4be9a8f6b7eaa58f6989",
       "version_major": 2,
       "version_minor": 0
      },
      "text/plain": [
       "FloatProgress(value=0.0, layout=Layout(width='auto'), style=ProgressStyle(bar_color='black'))"
      ]
     },
     "metadata": {},
     "output_type": "display_data"
    },
    {
     "data": {
      "text/plain": [
       "<duckdb.duckdb.DuckDBPyConnection at 0x13f8fa730>"
      ]
     },
     "execution_count": 49,
     "metadata": {},
     "output_type": "execute_result"
    }
   ],
   "source": [
    "con.execute(\"\"\"\n",
    "DROP TABLE IF EXISTS country_user_words;\n",
    "CREATE TABLE country_user_words AS\n",
    "WITH tokenized AS (\n",
    "    SELECT\n",
    "        country_user,\n",
    "        UNNEST(STRING_SPLIT(text_cleaned_lemma, ' ')) AS token\n",
    "    FROM ratings WHERE country_user IS NOT NULL\n",
    "),\n",
    "filtered_tokens AS (\n",
    "    SELECT\n",
    "        country_user,\n",
    "        token\n",
    "    FROM tokenized\n",
    "    WHERE token != ''\n",
    "),\n",
    "word_counts AS (\n",
    "    SELECT\n",
    "        country_user,\n",
    "        token AS word,\n",
    "        COUNT(*) AS word_count\n",
    "    FROM filtered_tokens\n",
    "    GROUP BY country_user, word\n",
    "),\n",
    "sorted_word_counts AS (\n",
    "    SELECT\n",
    "        country_user,\n",
    "        word,\n",
    "        word_count\n",
    "    FROM word_counts\n",
    "    ORDER BY country_user, word_count DESC, word\n",
    "),\n",
    "result AS (\n",
    "    SELECT\n",
    "        country_user,\n",
    "        LIST(word ORDER BY word_count DESC, word) AS words,\n",
    "        LIST(word_count ORDER BY word_count DESC, word) AS frequencies\n",
    "    FROM sorted_word_counts\n",
    "    GROUP BY country_user\n",
    ")\n",
    "SELECT * FROM result;\n",
    "\"\"\")"
   ]
  },
  {
   "cell_type": "code",
   "execution_count": 50,
   "id": "88bbed14999f6d80",
   "metadata": {
    "ExecuteTime": {
     "end_time": "2024-12-19T00:31:23.227670Z",
     "start_time": "2024-12-19T00:31:23.086099Z"
    }
   },
   "outputs": [
    {
     "data": {
      "text/html": [
       "<div>\n",
       "<style scoped>\n",
       "    .dataframe tbody tr th:only-of-type {\n",
       "        vertical-align: middle;\n",
       "    }\n",
       "\n",
       "    .dataframe tbody tr th {\n",
       "        vertical-align: top;\n",
       "    }\n",
       "\n",
       "    .dataframe thead th {\n",
       "        text-align: right;\n",
       "    }\n",
       "</style>\n",
       "<table border=\"1\" class=\"dataframe\">\n",
       "  <thead>\n",
       "    <tr style=\"text-align: right;\">\n",
       "      <th></th>\n",
       "      <th>country_user</th>\n",
       "      <th>words</th>\n",
       "      <th>frequencies</th>\n",
       "    </tr>\n",
       "  </thead>\n",
       "  <tbody>\n",
       "    <tr>\n",
       "      <th>0</th>\n",
       "      <td>Virgin Islands (British)</td>\n",
       "      <td>[great, super, abit, brew, gold, label, skol, ...</td>\n",
       "      <td>[4, 4, 2, 2, 2, 2, 2, 2, 2, 1, 1, 1, 1, 1, 1, ...</td>\n",
       "    </tr>\n",
       "    <tr>\n",
       "      <th>1</th>\n",
       "      <td>Barbados</td>\n",
       "      <td>[beer, good, caribbean, ability, aroma, balanc...</td>\n",
       "      <td>[3, 3, 2, 1, 1, 1, 1, 1, 1, 1, 1, 1, 1, 1, 1, ...</td>\n",
       "    </tr>\n",
       "    <tr>\n",
       "      <th>2</th>\n",
       "      <td>Botswana</td>\n",
       "      <td>[beer, aroma, taste, great, commercial, enjoy,...</td>\n",
       "      <td>[9, 5, 5, 4, 3, 3, 3, 3, 2, 2, 2, 2, 2, 2, 2, ...</td>\n",
       "    </tr>\n",
       "    <tr>\n",
       "      <th>3</th>\n",
       "      <td>Jersey</td>\n",
       "      <td>[beer, good, hop, taste, aroma, hoppy, bitter,...</td>\n",
       "      <td>[91, 50, 30, 30, 26, 24, 23, 23, 22, 19, 19, 1...</td>\n",
       "    </tr>\n",
       "    <tr>\n",
       "      <th>4</th>\n",
       "      <td>Kyrgyzstan</td>\n",
       "      <td>[good, acceptable, alcohol, appearance, cigare...</td>\n",
       "      <td>[2, 1, 1, 1, 1, 1, 1, 1, 1, 1, 1, 1, 1, 1, 1, 1]</td>\n",
       "    </tr>\n",
       "    <tr>\n",
       "      <th>...</th>\n",
       "      <td>...</td>\n",
       "      <td>...</td>\n",
       "      <td>...</td>\n",
       "    </tr>\n",
       "    <tr>\n",
       "      <th>165</th>\n",
       "      <td>Dem Rep of Congo</td>\n",
       "      <td>[beer, well, drink, good, have, heavy, taste, ...</td>\n",
       "      <td>[5, 3, 2, 2, 2, 2, 2, 1, 1, 1, 1, 1, 1, 1, 1, ...</td>\n",
       "    </tr>\n",
       "    <tr>\n",
       "      <th>166</th>\n",
       "      <td>Togo</td>\n",
       "      <td>[beer, brew, asia, catfish, disappoint, manito...</td>\n",
       "      <td>[4, 3, 2, 2, 2, 2, 2, 1, 1, 1, 1, 1, 1, 1, 1, ...</td>\n",
       "    </tr>\n",
       "    <tr>\n",
       "      <th>167</th>\n",
       "      <td>Trinidad and Tobago</td>\n",
       "      <td>[bottle, shandy, 1, itâs, taste, thatâs, think...</td>\n",
       "      <td>[3, 3, 2, 2, 2, 2, 2, 1, 1, 1, 1, 1, 1, 1, 1, ...</td>\n",
       "    </tr>\n",
       "    <tr>\n",
       "      <th>168</th>\n",
       "      <td>United States</td>\n",
       "      <td>[head, aroma, flavor, pour, light, malt, beer,...</td>\n",
       "      <td>[2185467, 1874702, 1676043, 1594773, 1508633, ...</td>\n",
       "    </tr>\n",
       "    <tr>\n",
       "      <th>169</th>\n",
       "      <td>Vanuatu</td>\n",
       "      <td>[red, bitter, night, 2, 23, austrlian, bad, be...</td>\n",
       "      <td>[3, 2, 2, 1, 1, 1, 1, 1, 1, 1, 1, 1, 1, 1, 1, ...</td>\n",
       "    </tr>\n",
       "  </tbody>\n",
       "</table>\n",
       "<p>170 rows × 3 columns</p>\n",
       "</div>"
      ],
      "text/plain": [
       "                 country_user  \\\n",
       "0    Virgin Islands (British)   \n",
       "1                    Barbados   \n",
       "2                    Botswana   \n",
       "3                      Jersey   \n",
       "4                  Kyrgyzstan   \n",
       "..                        ...   \n",
       "165          Dem Rep of Congo   \n",
       "166                      Togo   \n",
       "167       Trinidad and Tobago   \n",
       "168             United States   \n",
       "169                   Vanuatu   \n",
       "\n",
       "                                                 words  \\\n",
       "0    [great, super, abit, brew, gold, label, skol, ...   \n",
       "1    [beer, good, caribbean, ability, aroma, balanc...   \n",
       "2    [beer, aroma, taste, great, commercial, enjoy,...   \n",
       "3    [beer, good, hop, taste, aroma, hoppy, bitter,...   \n",
       "4    [good, acceptable, alcohol, appearance, cigare...   \n",
       "..                                                 ...   \n",
       "165  [beer, well, drink, good, have, heavy, taste, ...   \n",
       "166  [beer, brew, asia, catfish, disappoint, manito...   \n",
       "167  [bottle, shandy, 1, itâs, taste, thatâs, think...   \n",
       "168  [head, aroma, flavor, pour, light, malt, beer,...   \n",
       "169  [red, bitter, night, 2, 23, austrlian, bad, be...   \n",
       "\n",
       "                                           frequencies  \n",
       "0    [4, 4, 2, 2, 2, 2, 2, 2, 2, 1, 1, 1, 1, 1, 1, ...  \n",
       "1    [3, 3, 2, 1, 1, 1, 1, 1, 1, 1, 1, 1, 1, 1, 1, ...  \n",
       "2    [9, 5, 5, 4, 3, 3, 3, 3, 2, 2, 2, 2, 2, 2, 2, ...  \n",
       "3    [91, 50, 30, 30, 26, 24, 23, 23, 22, 19, 19, 1...  \n",
       "4     [2, 1, 1, 1, 1, 1, 1, 1, 1, 1, 1, 1, 1, 1, 1, 1]  \n",
       "..                                                 ...  \n",
       "165  [5, 3, 2, 2, 2, 2, 2, 1, 1, 1, 1, 1, 1, 1, 1, ...  \n",
       "166  [4, 3, 2, 2, 2, 2, 2, 1, 1, 1, 1, 1, 1, 1, 1, ...  \n",
       "167  [3, 3, 2, 2, 2, 2, 2, 1, 1, 1, 1, 1, 1, 1, 1, ...  \n",
       "168  [2185467, 1874702, 1676043, 1594773, 1508633, ...  \n",
       "169  [3, 2, 2, 1, 1, 1, 1, 1, 1, 1, 1, 1, 1, 1, 1, ...  \n",
       "\n",
       "[170 rows x 3 columns]"
      ]
     },
     "execution_count": 50,
     "metadata": {},
     "output_type": "execute_result"
    }
   ],
   "source": [
    "con.execute(\"SELECT * FROM country_user_words\").fetchdf()"
   ]
  },
  {
   "cell_type": "code",
   "execution_count": 22,
   "id": "addef9fdbc15fa7e",
   "metadata": {
    "ExecuteTime": {
     "end_time": "2024-12-20T01:44:25.317140Z",
     "start_time": "2024-12-20T01:44:03.770521Z"
    }
   },
   "outputs": [],
   "source": [
    "for country in countries:\n",
    "    if country is None:\n",
    "        continue\n",
    "    top = con.execute(\"SELECT words, frequencies FROM country_user_words WHERE country_user = '\" + country + \"'\").fetchdf()\n",
    "    country = countriaze(country)\n",
    "    top25 = top['words'].tolist()[0]\n",
    "    top25 = top25[:min(25, len(top25))]\n",
    "\n",
    "    top25_freqs = top['frequencies'].tolist()[0]\n",
    "    top25_freqs = top25_freqs[:min(25, len(top25))]\n",
    "\n",
    "    top25 = [f\"{word} {freq}\" for word, freq in zip(top25, top25_freqs)]\n",
    "\n",
    "    top25 = '\\n'.join(top25)\n",
    "    with open(DATA_OUT + country + '/top25.txt', 'w') as f:\n",
    "        f.write(top25)"
   ]
  },
  {
   "cell_type": "markdown",
   "id": "cd731182c1b30f1c",
   "metadata": {
    "collapsed": false
   },
   "source": [
    "### Brewery data analysis"
   ]
  },
  {
   "cell_type": "code",
   "execution_count": 7,
   "id": "f7efc4973622e64",
   "metadata": {
    "ExecuteTime": {
     "end_time": "2024-12-20T01:25:34.517302Z",
     "start_time": "2024-12-20T01:25:34.474860Z"
    }
   },
   "outputs": [
    {
     "data": {
      "text/plain": [
       "<duckdb.duckdb.DuckDBPyConnection at 0x1091d5bb0>"
      ]
     },
     "execution_count": 7,
     "metadata": {},
     "output_type": "execute_result"
    }
   ],
   "source": [
    "# Calculates average ratings and counts for international and local stats.\n",
    "con.execute(\"\"\"\n",
    "DROP TABLE IF EXISTS country_user_breweries;\n",
    "CREATE TABLE country_user_breweries AS\n",
    "-- International stats\n",
    "WITH brewery_stats AS (\n",
    "    SELECT\n",
    "        country_brewery,\n",
    "        brewery_name,\n",
    "        AVG(rating) AS avg_rating,\n",
    "        COUNT(*) AS num_ratings\n",
    "    FROM ratings\n",
    "    GROUP BY\n",
    "        country_brewery,\n",
    "        brewery_name\n",
    "),\n",
    "national_stats AS (\n",
    "    SELECT\n",
    "        r.country_brewery,\n",
    "        r.brewery_name,\n",
    "        AVG(r.rating) AS avg_national_rating,\n",
    "        COUNT(*) AS num_national_ratings\n",
    "    FROM ratings r\n",
    "    WHERE r.country_user = r.country_brewery\n",
    "    GROUP BY\n",
    "        r.country_brewery,\n",
    "        r.brewery_name\n",
    ")\n",
    "SELECT\n",
    "    bs.country_brewery,\n",
    "    bs.brewery_name,\n",
    "    ROUND(bs.avg_rating, 2) AS avg_rating,\n",
    "    bs.num_ratings,\n",
    "    ROUND(COALESCE(ns.avg_national_rating, 0), 2) AS avg_national_rating,\n",
    "    COALESCE(ns.num_national_ratings, 0) AS num_national_ratings\n",
    "FROM brewery_stats bs\n",
    "LEFT JOIN national_stats ns\n",
    "    ON bs.country_brewery = ns.country_brewery\n",
    "    AND bs.brewery_name = ns.brewery_name\n",
    "ORDER BY\n",
    "    bs.country_brewery,\n",
    "    bs.avg_rating DESC;\n",
    "\"\"\")"
   ]
  },
  {
   "cell_type": "code",
   "execution_count": 8,
   "id": "e8428bf749eed663",
   "metadata": {
    "ExecuteTime": {
     "end_time": "2024-12-20T01:25:35.541487Z",
     "start_time": "2024-12-20T01:25:35.536641Z"
    }
   },
   "outputs": [
    {
     "data": {
      "text/html": [
       "<div>\n",
       "<style scoped>\n",
       "    .dataframe tbody tr th:only-of-type {\n",
       "        vertical-align: middle;\n",
       "    }\n",
       "\n",
       "    .dataframe tbody tr th {\n",
       "        vertical-align: top;\n",
       "    }\n",
       "\n",
       "    .dataframe thead th {\n",
       "        text-align: right;\n",
       "    }\n",
       "</style>\n",
       "<table border=\"1\" class=\"dataframe\">\n",
       "  <thead>\n",
       "    <tr style=\"text-align: right;\">\n",
       "      <th></th>\n",
       "      <th>country_brewery</th>\n",
       "      <th>brewery_name</th>\n",
       "      <th>avg_rating</th>\n",
       "      <th>num_ratings</th>\n",
       "      <th>avg_national_rating</th>\n",
       "      <th>num_national_ratings</th>\n",
       "    </tr>\n",
       "  </thead>\n",
       "  <tbody>\n",
       "    <tr>\n",
       "      <th>0</th>\n",
       "      <td>Abkhazia</td>\n",
       "      <td>Stara Praha</td>\n",
       "      <td>2.07</td>\n",
       "      <td>10</td>\n",
       "      <td>0.0</td>\n",
       "      <td>0</td>\n",
       "    </tr>\n",
       "    <tr>\n",
       "      <th>1</th>\n",
       "      <td>Abkhazia</td>\n",
       "      <td>Pivovarenniy Zavod Sukhumskiy</td>\n",
       "      <td>1.83</td>\n",
       "      <td>16</td>\n",
       "      <td>0.0</td>\n",
       "      <td>0</td>\n",
       "    </tr>\n",
       "    <tr>\n",
       "      <th>2</th>\n",
       "      <td>Abkhazia</td>\n",
       "      <td>Abkhazian Drinks Company</td>\n",
       "      <td>1.35</td>\n",
       "      <td>2</td>\n",
       "      <td>0.0</td>\n",
       "      <td>0</td>\n",
       "    </tr>\n",
       "    <tr>\n",
       "      <th>3</th>\n",
       "      <td>Albania</td>\n",
       "      <td>Beer Houz Puka</td>\n",
       "      <td>3.50</td>\n",
       "      <td>1</td>\n",
       "      <td>0.0</td>\n",
       "      <td>0</td>\n",
       "    </tr>\n",
       "    <tr>\n",
       "      <th>4</th>\n",
       "      <td>Albania</td>\n",
       "      <td>Albion Brauhaus 1.0 - Kaltenbeer</td>\n",
       "      <td>3.29</td>\n",
       "      <td>9</td>\n",
       "      <td>0.0</td>\n",
       "      <td>0</td>\n",
       "    </tr>\n",
       "    <tr>\n",
       "      <th>5</th>\n",
       "      <td>Albania</td>\n",
       "      <td>Shoqeria Picana</td>\n",
       "      <td>3.20</td>\n",
       "      <td>2</td>\n",
       "      <td>0.0</td>\n",
       "      <td>0</td>\n",
       "    </tr>\n",
       "    <tr>\n",
       "      <th>6</th>\n",
       "      <td>Albania</td>\n",
       "      <td>Brauhaus Shallvare Tirana</td>\n",
       "      <td>2.98</td>\n",
       "      <td>36</td>\n",
       "      <td>0.0</td>\n",
       "      <td>0</td>\n",
       "    </tr>\n",
       "    <tr>\n",
       "      <th>7</th>\n",
       "      <td>Albania</td>\n",
       "      <td>Hotel Martini</td>\n",
       "      <td>2.90</td>\n",
       "      <td>1</td>\n",
       "      <td>0.0</td>\n",
       "      <td>0</td>\n",
       "    </tr>\n",
       "    <tr>\n",
       "      <th>8</th>\n",
       "      <td>Albania</td>\n",
       "      <td>Svejk Beer Garden</td>\n",
       "      <td>2.34</td>\n",
       "      <td>7</td>\n",
       "      <td>0.0</td>\n",
       "      <td>0</td>\n",
       "    </tr>\n",
       "    <tr>\n",
       "      <th>9</th>\n",
       "      <td>Albania</td>\n",
       "      <td>Birra Korça</td>\n",
       "      <td>2.22</td>\n",
       "      <td>192</td>\n",
       "      <td>0.0</td>\n",
       "      <td>0</td>\n",
       "    </tr>\n",
       "  </tbody>\n",
       "</table>\n",
       "</div>"
      ],
      "text/plain": [
       "  country_brewery                      brewery_name  avg_rating  num_ratings  \\\n",
       "0        Abkhazia                       Stara Praha        2.07           10   \n",
       "1        Abkhazia     Pivovarenniy Zavod Sukhumskiy        1.83           16   \n",
       "2        Abkhazia          Abkhazian Drinks Company        1.35            2   \n",
       "3         Albania                    Beer Houz Puka        3.50            1   \n",
       "4         Albania  Albion Brauhaus 1.0 - Kaltenbeer        3.29            9   \n",
       "5         Albania                   Shoqeria Picana        3.20            2   \n",
       "6         Albania         Brauhaus Shallvare Tirana        2.98           36   \n",
       "7         Albania                     Hotel Martini        2.90            1   \n",
       "8         Albania                 Svejk Beer Garden        2.34            7   \n",
       "9         Albania                       Birra Korça        2.22          192   \n",
       "\n",
       "   avg_national_rating  num_national_ratings  \n",
       "0                  0.0                     0  \n",
       "1                  0.0                     0  \n",
       "2                  0.0                     0  \n",
       "3                  0.0                     0  \n",
       "4                  0.0                     0  \n",
       "5                  0.0                     0  \n",
       "6                  0.0                     0  \n",
       "7                  0.0                     0  \n",
       "8                  0.0                     0  \n",
       "9                  0.0                     0  "
      ]
     },
     "execution_count": 8,
     "metadata": {},
     "output_type": "execute_result"
    }
   ],
   "source": [
    "con.execute(\"SELECT * FROM country_user_breweries LIMIT 10\").fetchdf()"
   ]
  },
  {
   "cell_type": "code",
   "execution_count": null,
   "id": "89f9a84e24e96584",
   "metadata": {},
   "outputs": [],
   "source": [
    "for country in countries:\n",
    "    if country is None:\n",
    "        continue\n",
    "    top = con.execute(\"SELECT brewery_name, avg_rating, avg_national_rating, num_ratings, num_national_ratings FROM country_user_breweries WHERE country_brewery = '\" + country + \"' ORDER BY avg_rating DESC\").fetchdf()\n",
    "\n",
    "    country = countriaze(country)\n",
    "    values = []\n",
    "    for i, row in top.iterrows():\n",
    "        values.append({\n",
    "            'brewery': row['brewery_name'],\n",
    "            'rating': row['avg_rating'],\n",
    "            'rating_n': row['num_ratings'],\n",
    "            'national_rating': row['avg_national_rating'],\n",
    "            'national_rating_n': row['num_national_ratings']\n",
    "        })\n",
    "\n",
    "    if len(values) == 0:\n",
    "        continue\n",
    "\n",
    "    # print(country)\n",
    "    # print(values)\n",
    "    # Create JSON files since its easier for JS to load.\n",
    "    with open(DATA_OUT + countriaze(country) + '/breweries.json', 'w') as f:\n",
    "        f.write(pd.DataFrame(values).to_json(orient='records'))"
   ]
  },
  {
   "cell_type": "markdown",
   "id": "a616b1c4daaca636",
   "metadata": {},
   "source": [
    "### Embeddings analysis"
   ]
  },
  {
   "cell_type": "code",
   "execution_count": 42,
   "id": "14cda18d2488513f",
   "metadata": {
    "ExecuteTime": {
     "end_time": "2024-12-19T13:06:02.073438Z",
     "start_time": "2024-12-19T13:06:02.069765Z"
    }
   },
   "outputs": [
    {
     "data": {
      "text/plain": [
       "<duckdb.duckdb.DuckDBPyConnection at 0x1112028f0>"
      ]
     },
     "execution_count": 42,
     "metadata": {},
     "output_type": "execute_result"
    }
   ],
   "source": [
    "# Concat ratings with the embeddings generated by the model.\n",
    "con.execute(\"\"\"\n",
    "CREATE OR REPLACE VIEW ratings_and_embeddings AS\n",
    "WITH ratings_rn AS (\n",
    "    SELECT\n",
    "        country_user,\n",
    "        text_cleaned_lemma,\n",
    "        text,\n",
    "        ROW_NUMBER() OVER () AS rownum\n",
    "    FROM ratings\n",
    "),\n",
    "embeddings_rn AS (\n",
    "    SELECT *,\n",
    "     ROW_NUMBER() OVER () AS rownum\n",
    "    FROM embeddings_raw\n",
    ")\n",
    "SELECT\n",
    "    r.*,\n",
    "    e.*\n",
    "FROM ratings_rn r\n",
    "JOIN embeddings_rn e\n",
    "ON r.rownum = e.rownum;\n",
    "\"\"\")\n"
   ]
  },
  {
   "cell_type": "code",
   "execution_count": 60,
   "id": "87f25989d5c9322a",
   "metadata": {
    "ExecuteTime": {
     "end_time": "2024-12-19T13:27:20.437797Z",
     "start_time": "2024-12-19T13:27:18.621437Z"
    }
   },
   "outputs": [
    {
     "data": {
      "text/html": [
       "<div>\n",
       "<style scoped>\n",
       "    .dataframe tbody tr th:only-of-type {\n",
       "        vertical-align: middle;\n",
       "    }\n",
       "\n",
       "    .dataframe tbody tr th {\n",
       "        vertical-align: top;\n",
       "    }\n",
       "\n",
       "    .dataframe thead th {\n",
       "        text-align: right;\n",
       "    }\n",
       "</style>\n",
       "<table border=\"1\" class=\"dataframe\">\n",
       "  <thead>\n",
       "    <tr style=\"text-align: right;\">\n",
       "      <th></th>\n",
       "      <th>country_user</th>\n",
       "      <th>text_cleaned_lemma</th>\n",
       "      <th>text</th>\n",
       "      <th>rownum</th>\n",
       "      <th>0</th>\n",
       "      <th>1</th>\n",
       "      <th>2</th>\n",
       "      <th>3</th>\n",
       "      <th>4</th>\n",
       "      <th>5</th>\n",
       "      <th>...</th>\n",
       "      <th>375</th>\n",
       "      <th>376</th>\n",
       "      <th>377</th>\n",
       "      <th>378</th>\n",
       "      <th>379</th>\n",
       "      <th>380</th>\n",
       "      <th>381</th>\n",
       "      <th>382</th>\n",
       "      <th>383</th>\n",
       "      <th>rownum_1</th>\n",
       "    </tr>\n",
       "  </thead>\n",
       "  <tbody>\n",
       "    <tr>\n",
       "      <th>0</th>\n",
       "      <td>United Kingdom</td>\n",
       "      <td>cask bell inn nottingham irish ales festival h...</td>\n",
       "      <td>Cask at Bell Inn (Nottingham) Irish Ales Festi...</td>\n",
       "      <td>1</td>\n",
       "      <td>-0.092251</td>\n",
       "      <td>0.128006</td>\n",
       "      <td>0.167581</td>\n",
       "      <td>0.093993</td>\n",
       "      <td>0.003538</td>\n",
       "      <td>-0.025684</td>\n",
       "      <td>...</td>\n",
       "      <td>-0.205509</td>\n",
       "      <td>0.089621</td>\n",
       "      <td>0.020336</td>\n",
       "      <td>0.058301</td>\n",
       "      <td>0.115385</td>\n",
       "      <td>0.095444</td>\n",
       "      <td>-0.117911</td>\n",
       "      <td>0.304145</td>\n",
       "      <td>0.099468</td>\n",
       "      <td>1</td>\n",
       "    </tr>\n",
       "    <tr>\n",
       "      <th>1</th>\n",
       "      <td>Czech Republic</td>\n",
       "      <td>1401bottle bit hazy golden ochre body medium w...</td>\n",
       "      <td>#1401Bottle. A bit hazy golden to ochre body, ...</td>\n",
       "      <td>2</td>\n",
       "      <td>-0.040249</td>\n",
       "      <td>0.227907</td>\n",
       "      <td>0.073693</td>\n",
       "      <td>0.042528</td>\n",
       "      <td>0.050313</td>\n",
       "      <td>-0.257208</td>\n",
       "      <td>...</td>\n",
       "      <td>-0.219118</td>\n",
       "      <td>-0.189044</td>\n",
       "      <td>0.084599</td>\n",
       "      <td>-0.172757</td>\n",
       "      <td>-0.109665</td>\n",
       "      <td>0.181105</td>\n",
       "      <td>-0.023650</td>\n",
       "      <td>0.043990</td>\n",
       "      <td>-0.097015</td>\n",
       "      <td>2</td>\n",
       "    </tr>\n",
       "    <tr>\n",
       "      <th>2</th>\n",
       "      <td>Czech Republic</td>\n",
       "      <td>bottle 05l clear gold color aroma sweet spicy ...</td>\n",
       "      <td>Bottle 0.5l. Almost clear, gold colored. AROMA...</td>\n",
       "      <td>3</td>\n",
       "      <td>0.029447</td>\n",
       "      <td>0.064680</td>\n",
       "      <td>0.141761</td>\n",
       "      <td>0.163236</td>\n",
       "      <td>-0.066617</td>\n",
       "      <td>-0.107245</td>\n",
       "      <td>...</td>\n",
       "      <td>-0.082740</td>\n",
       "      <td>0.044802</td>\n",
       "      <td>0.026649</td>\n",
       "      <td>0.032082</td>\n",
       "      <td>0.058311</td>\n",
       "      <td>0.228115</td>\n",
       "      <td>-0.001229</td>\n",
       "      <td>0.219331</td>\n",
       "      <td>-0.006441</td>\n",
       "      <td>3</td>\n",
       "    </tr>\n",
       "    <tr>\n",
       "      <th>3</th>\n",
       "      <td>United Kingdom</td>\n",
       "      <td>cask praf 2017 pour clear golden nose lemongra...</td>\n",
       "      <td>Cask at praf 2017. Pours clear golden, nose is...</td>\n",
       "      <td>4</td>\n",
       "      <td>-0.367951</td>\n",
       "      <td>0.356342</td>\n",
       "      <td>-0.076709</td>\n",
       "      <td>0.064348</td>\n",
       "      <td>0.396878</td>\n",
       "      <td>-0.301984</td>\n",
       "      <td>...</td>\n",
       "      <td>-0.245416</td>\n",
       "      <td>-0.284482</td>\n",
       "      <td>0.024146</td>\n",
       "      <td>0.148042</td>\n",
       "      <td>-0.288214</td>\n",
       "      <td>0.315874</td>\n",
       "      <td>-0.008937</td>\n",
       "      <td>0.074141</td>\n",
       "      <td>-0.079015</td>\n",
       "      <td>4</td>\n",
       "    </tr>\n",
       "    <tr>\n",
       "      <th>4</th>\n",
       "      <td>United Kingdom</td>\n",
       "      <td>bottle ninaâs mini marketappearance   open bel...</td>\n",
       "      <td>Bottle from Ninaâs Mini Market.Appearance - ...</td>\n",
       "      <td>5</td>\n",
       "      <td>-0.112088</td>\n",
       "      <td>0.086483</td>\n",
       "      <td>0.258012</td>\n",
       "      <td>0.142859</td>\n",
       "      <td>-0.212467</td>\n",
       "      <td>-0.187502</td>\n",
       "      <td>...</td>\n",
       "      <td>-0.194152</td>\n",
       "      <td>0.142829</td>\n",
       "      <td>0.089229</td>\n",
       "      <td>-0.284410</td>\n",
       "      <td>-0.132212</td>\n",
       "      <td>0.179270</td>\n",
       "      <td>-0.068468</td>\n",
       "      <td>0.335503</td>\n",
       "      <td>-0.083845</td>\n",
       "      <td>5</td>\n",
       "    </tr>\n",
       "    <tr>\n",
       "      <th>5</th>\n",
       "      <td>None</td>\n",
       "      <td>bready wheat aroma lemon flavour little cloudy...</td>\n",
       "      <td>Bready wheat aroma with lemon flavours. A litt...</td>\n",
       "      <td>6</td>\n",
       "      <td>-0.014657</td>\n",
       "      <td>0.107616</td>\n",
       "      <td>0.240158</td>\n",
       "      <td>-0.027481</td>\n",
       "      <td>-0.382556</td>\n",
       "      <td>-0.073134</td>\n",
       "      <td>...</td>\n",
       "      <td>0.005449</td>\n",
       "      <td>0.153774</td>\n",
       "      <td>-0.111205</td>\n",
       "      <td>0.051713</td>\n",
       "      <td>0.079943</td>\n",
       "      <td>-0.048213</td>\n",
       "      <td>-0.006159</td>\n",
       "      <td>0.213269</td>\n",
       "      <td>0.035907</td>\n",
       "      <td>6</td>\n",
       "    </tr>\n",
       "    <tr>\n",
       "      <th>6</th>\n",
       "      <td>Ireland</td>\n",
       "      <td>pour cloudy golden thick white foamy head lemo...</td>\n",
       "      <td>Pours cloudy golden with thick white foamy hea...</td>\n",
       "      <td>7</td>\n",
       "      <td>-0.036262</td>\n",
       "      <td>-0.155591</td>\n",
       "      <td>0.169877</td>\n",
       "      <td>0.150383</td>\n",
       "      <td>-0.180703</td>\n",
       "      <td>0.004156</td>\n",
       "      <td>...</td>\n",
       "      <td>-0.305479</td>\n",
       "      <td>-0.027269</td>\n",
       "      <td>0.210100</td>\n",
       "      <td>-0.328638</td>\n",
       "      <td>-0.201859</td>\n",
       "      <td>0.148948</td>\n",
       "      <td>0.211395</td>\n",
       "      <td>0.299113</td>\n",
       "      <td>-0.089174</td>\n",
       "      <td>7</td>\n",
       "    </tr>\n",
       "    <tr>\n",
       "      <th>7</th>\n",
       "      <td>United Kingdom</td>\n",
       "      <td>cask glasgow real ale festival interesting bee...</td>\n",
       "      <td>Cask at the Glasgow Real Ale Festival. This is...</td>\n",
       "      <td>8</td>\n",
       "      <td>-0.002692</td>\n",
       "      <td>0.057585</td>\n",
       "      <td>0.079342</td>\n",
       "      <td>0.072236</td>\n",
       "      <td>-0.130476</td>\n",
       "      <td>-0.140585</td>\n",
       "      <td>...</td>\n",
       "      <td>-0.366486</td>\n",
       "      <td>-0.053217</td>\n",
       "      <td>0.144561</td>\n",
       "      <td>-0.048134</td>\n",
       "      <td>-0.157159</td>\n",
       "      <td>0.151059</td>\n",
       "      <td>0.116193</td>\n",
       "      <td>0.329540</td>\n",
       "      <td>-0.130829</td>\n",
       "      <td>8</td>\n",
       "    </tr>\n",
       "    <tr>\n",
       "      <th>8</th>\n",
       "      <td>United States</td>\n",
       "      <td>bottle baggot street wines golden body medium ...</td>\n",
       "      <td>Bottle from Baggot Street Wines. Golden body w...</td>\n",
       "      <td>9</td>\n",
       "      <td>-0.171729</td>\n",
       "      <td>0.006385</td>\n",
       "      <td>0.165901</td>\n",
       "      <td>0.057083</td>\n",
       "      <td>-0.122326</td>\n",
       "      <td>-0.017356</td>\n",
       "      <td>...</td>\n",
       "      <td>-0.029181</td>\n",
       "      <td>0.067784</td>\n",
       "      <td>0.196352</td>\n",
       "      <td>-0.089466</td>\n",
       "      <td>-0.037035</td>\n",
       "      <td>-0.028901</td>\n",
       "      <td>-0.148990</td>\n",
       "      <td>0.122991</td>\n",
       "      <td>-0.140807</td>\n",
       "      <td>9</td>\n",
       "    </tr>\n",
       "    <tr>\n",
       "      <th>9</th>\n",
       "      <td>United States</td>\n",
       "      <td>pour slightly hazy golden color white head ton...</td>\n",
       "      <td>Pours a slightly hazy golden color with white ...</td>\n",
       "      <td>10</td>\n",
       "      <td>-0.031614</td>\n",
       "      <td>0.060221</td>\n",
       "      <td>0.129679</td>\n",
       "      <td>0.272514</td>\n",
       "      <td>0.124291</td>\n",
       "      <td>-0.397986</td>\n",
       "      <td>...</td>\n",
       "      <td>-0.485956</td>\n",
       "      <td>-0.213766</td>\n",
       "      <td>0.223312</td>\n",
       "      <td>-0.046067</td>\n",
       "      <td>-0.132272</td>\n",
       "      <td>0.064701</td>\n",
       "      <td>0.152010</td>\n",
       "      <td>0.652622</td>\n",
       "      <td>-0.016794</td>\n",
       "      <td>10</td>\n",
       "    </tr>\n",
       "  </tbody>\n",
       "</table>\n",
       "<p>10 rows × 389 columns</p>\n",
       "</div>"
      ],
      "text/plain": [
       "     country_user                                 text_cleaned_lemma  \\\n",
       "0  United Kingdom  cask bell inn nottingham irish ales festival h...   \n",
       "1  Czech Republic  1401bottle bit hazy golden ochre body medium w...   \n",
       "2  Czech Republic  bottle 05l clear gold color aroma sweet spicy ...   \n",
       "3  United Kingdom  cask praf 2017 pour clear golden nose lemongra...   \n",
       "4  United Kingdom  bottle ninaâs mini marketappearance   open bel...   \n",
       "5            None  bready wheat aroma lemon flavour little cloudy...   \n",
       "6         Ireland  pour cloudy golden thick white foamy head lemo...   \n",
       "7  United Kingdom  cask glasgow real ale festival interesting bee...   \n",
       "8   United States  bottle baggot street wines golden body medium ...   \n",
       "9   United States  pour slightly hazy golden color white head ton...   \n",
       "\n",
       "                                                text  rownum         0  \\\n",
       "0  Cask at Bell Inn (Nottingham) Irish Ales Festi...       1 -0.092251   \n",
       "1  #1401Bottle. A bit hazy golden to ochre body, ...       2 -0.040249   \n",
       "2  Bottle 0.5l. Almost clear, gold colored. AROMA...       3  0.029447   \n",
       "3  Cask at praf 2017. Pours clear golden, nose is...       4 -0.367951   \n",
       "4  Bottle from Ninaâs Mini Market.Appearance - ...       5 -0.112088   \n",
       "5  Bready wheat aroma with lemon flavours. A litt...       6 -0.014657   \n",
       "6  Pours cloudy golden with thick white foamy hea...       7 -0.036262   \n",
       "7  Cask at the Glasgow Real Ale Festival. This is...       8 -0.002692   \n",
       "8  Bottle from Baggot Street Wines. Golden body w...       9 -0.171729   \n",
       "9  Pours a slightly hazy golden color with white ...      10 -0.031614   \n",
       "\n",
       "          1         2         3         4         5  ...       375       376  \\\n",
       "0  0.128006  0.167581  0.093993  0.003538 -0.025684  ... -0.205509  0.089621   \n",
       "1  0.227907  0.073693  0.042528  0.050313 -0.257208  ... -0.219118 -0.189044   \n",
       "2  0.064680  0.141761  0.163236 -0.066617 -0.107245  ... -0.082740  0.044802   \n",
       "3  0.356342 -0.076709  0.064348  0.396878 -0.301984  ... -0.245416 -0.284482   \n",
       "4  0.086483  0.258012  0.142859 -0.212467 -0.187502  ... -0.194152  0.142829   \n",
       "5  0.107616  0.240158 -0.027481 -0.382556 -0.073134  ...  0.005449  0.153774   \n",
       "6 -0.155591  0.169877  0.150383 -0.180703  0.004156  ... -0.305479 -0.027269   \n",
       "7  0.057585  0.079342  0.072236 -0.130476 -0.140585  ... -0.366486 -0.053217   \n",
       "8  0.006385  0.165901  0.057083 -0.122326 -0.017356  ... -0.029181  0.067784   \n",
       "9  0.060221  0.129679  0.272514  0.124291 -0.397986  ... -0.485956 -0.213766   \n",
       "\n",
       "        377       378       379       380       381       382       383  \\\n",
       "0  0.020336  0.058301  0.115385  0.095444 -0.117911  0.304145  0.099468   \n",
       "1  0.084599 -0.172757 -0.109665  0.181105 -0.023650  0.043990 -0.097015   \n",
       "2  0.026649  0.032082  0.058311  0.228115 -0.001229  0.219331 -0.006441   \n",
       "3  0.024146  0.148042 -0.288214  0.315874 -0.008937  0.074141 -0.079015   \n",
       "4  0.089229 -0.284410 -0.132212  0.179270 -0.068468  0.335503 -0.083845   \n",
       "5 -0.111205  0.051713  0.079943 -0.048213 -0.006159  0.213269  0.035907   \n",
       "6  0.210100 -0.328638 -0.201859  0.148948  0.211395  0.299113 -0.089174   \n",
       "7  0.144561 -0.048134 -0.157159  0.151059  0.116193  0.329540 -0.130829   \n",
       "8  0.196352 -0.089466 -0.037035 -0.028901 -0.148990  0.122991 -0.140807   \n",
       "9  0.223312 -0.046067 -0.132272  0.064701  0.152010  0.652622 -0.016794   \n",
       "\n",
       "   rownum_1  \n",
       "0         1  \n",
       "1         2  \n",
       "2         3  \n",
       "3         4  \n",
       "4         5  \n",
       "5         6  \n",
       "6         7  \n",
       "7         8  \n",
       "8         9  \n",
       "9        10  \n",
       "\n",
       "[10 rows x 389 columns]"
      ]
     },
     "execution_count": 60,
     "metadata": {},
     "output_type": "execute_result"
    }
   ],
   "source": [
    "con.execute(\"SELECT * FROM ratings_and_embeddings LIMIT 10\").fetchdf()"
   ]
  },
  {
   "cell_type": "code",
   "execution_count": 63,
   "id": "551c1c870fc269b1",
   "metadata": {
    "ExecuteTime": {
     "end_time": "2024-12-19T13:35:16.685513Z",
     "start_time": "2024-12-19T13:34:35.151191Z"
    }
   },
   "outputs": [
    {
     "data": {
      "application/vnd.jupyter.widget-view+json": {
       "model_id": "710a993768354a3b97c0d32d181c4eaa",
       "version_major": 2,
       "version_minor": 0
      },
      "text/plain": [
       "FloatProgress(value=0.0, layout=Layout(width='auto'), style=ProgressStyle(bar_color='black'))"
      ]
     },
     "metadata": {},
     "output_type": "display_data"
    },
    {
     "data": {
      "text/plain": [
       "<duckdb.duckdb.DuckDBPyConnection at 0x1112028f0>"
      ]
     },
     "execution_count": 63,
     "metadata": {},
     "output_type": "execute_result"
    }
   ],
   "source": [
    "# Calculates average of embeddings per country. Stores table to reduce memory overhead.\n",
    "statement = \"\"\"\n",
    "DROP TABLE IF EXISTS country_avg_embeddings;\n",
    "CREATE TABLE country_avg_embeddings AS (\n",
    "    SELECT\n",
    "        country_user,\"\"\"\n",
    "for i in range(384):\n",
    "    statement += f\"\"\"\n",
    "        AVG(\"{i}\") AS avg_{i},\"\"\"\n",
    "\n",
    "statement += \"\"\"\n",
    "    FROM ratings_and_embeddings\n",
    "    GROUP BY country_user\n",
    ")\n",
    "\"\"\"\n",
    "con.execute(statement)"
   ]
  },
  {
   "cell_type": "code",
   "execution_count": 66,
   "id": "f212879c0bb7e29",
   "metadata": {
    "ExecuteTime": {
     "end_time": "2024-12-19T15:31:29.897794Z",
     "start_time": "2024-12-19T15:31:29.806466Z"
    }
   },
   "outputs": [
    {
     "data": {
      "text/html": [
       "<div>\n",
       "<style scoped>\n",
       "    .dataframe tbody tr th:only-of-type {\n",
       "        vertical-align: middle;\n",
       "    }\n",
       "\n",
       "    .dataframe tbody tr th {\n",
       "        vertical-align: top;\n",
       "    }\n",
       "\n",
       "    .dataframe thead th {\n",
       "        text-align: right;\n",
       "    }\n",
       "</style>\n",
       "<table border=\"1\" class=\"dataframe\">\n",
       "  <thead>\n",
       "    <tr style=\"text-align: right;\">\n",
       "      <th></th>\n",
       "      <th>country_user</th>\n",
       "      <th>avg_0</th>\n",
       "      <th>avg_1</th>\n",
       "      <th>avg_2</th>\n",
       "      <th>avg_3</th>\n",
       "      <th>avg_4</th>\n",
       "      <th>avg_5</th>\n",
       "      <th>avg_6</th>\n",
       "      <th>avg_7</th>\n",
       "      <th>avg_8</th>\n",
       "      <th>...</th>\n",
       "      <th>avg_374</th>\n",
       "      <th>avg_375</th>\n",
       "      <th>avg_376</th>\n",
       "      <th>avg_377</th>\n",
       "      <th>avg_378</th>\n",
       "      <th>avg_379</th>\n",
       "      <th>avg_380</th>\n",
       "      <th>avg_381</th>\n",
       "      <th>avg_382</th>\n",
       "      <th>avg_383</th>\n",
       "    </tr>\n",
       "  </thead>\n",
       "  <tbody>\n",
       "    <tr>\n",
       "      <th>0</th>\n",
       "      <td>Greece</td>\n",
       "      <td>-0.025542</td>\n",
       "      <td>-0.011353</td>\n",
       "      <td>0.138322</td>\n",
       "      <td>0.089685</td>\n",
       "      <td>-0.006037</td>\n",
       "      <td>-0.032329</td>\n",
       "      <td>0.322234</td>\n",
       "      <td>-0.038377</td>\n",
       "      <td>-0.117951</td>\n",
       "      <td>...</td>\n",
       "      <td>-0.129439</td>\n",
       "      <td>-0.112458</td>\n",
       "      <td>0.038556</td>\n",
       "      <td>0.029317</td>\n",
       "      <td>-0.062721</td>\n",
       "      <td>-0.002304</td>\n",
       "      <td>0.139319</td>\n",
       "      <td>-0.005533</td>\n",
       "      <td>0.268423</td>\n",
       "      <td>-0.003563</td>\n",
       "    </tr>\n",
       "  </tbody>\n",
       "</table>\n",
       "<p>1 rows × 385 columns</p>\n",
       "</div>"
      ],
      "text/plain": [
       "  country_user     avg_0     avg_1     avg_2     avg_3     avg_4     avg_5  \\\n",
       "0       Greece -0.025542 -0.011353  0.138322  0.089685 -0.006037 -0.032329   \n",
       "\n",
       "      avg_6     avg_7     avg_8  ...   avg_374   avg_375   avg_376   avg_377  \\\n",
       "0  0.322234 -0.038377 -0.117951  ... -0.129439 -0.112458  0.038556  0.029317   \n",
       "\n",
       "    avg_378   avg_379   avg_380   avg_381   avg_382   avg_383  \n",
       "0 -0.062721 -0.002304  0.139319 -0.005533  0.268423 -0.003563  \n",
       "\n",
       "[1 rows x 385 columns]"
      ]
     },
     "execution_count": 66,
     "metadata": {},
     "output_type": "execute_result"
    }
   ],
   "source": [
    "# Example.\n",
    "con.execute(\"SELECT * FROM country_avg_embeddings WHERE country_user = 'Greece'\").fetchdf()"
   ]
  },
  {
   "cell_type": "code",
   "execution_count": 4,
   "id": "4a1bb318925c2ef3",
   "metadata": {
    "ExecuteTime": {
     "end_time": "2024-12-20T15:16:49.569609Z",
     "start_time": "2024-12-20T15:16:49.331824Z"
    }
   },
   "outputs": [],
   "source": [
    "def cross(table1, table2):\n",
    "    \"\"\"\n",
    "    :param table1: \n",
    "    :param table2: \n",
    "    :return: Returns SQL statement for Σ(tb1_avg * tb2_avg)\n",
    "    \"\"\"\n",
    "\n",
    "    st = \"SUM(\"\n",
    "    for i in range(384):\n",
    "        st += f\"{table1}.avg_{i} * {table2}.avg_{i} + \"\n",
    "    return st[:-3] + \")\"\n",
    "\n",
    "# self-crossing\n",
    "def scross(table):\n",
    "    return cross(table, table)"
   ]
  },
  {
   "cell_type": "markdown",
   "id": "b93e8ac5d860b5a0",
   "metadata": {
    "collapsed": false
   },
   "source": [
    "### Cosine Similarity Calculation\n",
    "\n",
    "The formula for **cosine similarity** between two vectors **A** and **B** is:\n",
    "\n",
    "$$\\text{Cosine Similarity} = \\cos(\\theta) = \\frac{\\mathbf{A} \\cdot \\mathbf{B}}{\\|\\mathbf{A}\\| \\|\\mathbf{B}\\|}$$\n"
   ]
  },
  {
   "cell_type": "code",
   "execution_count": null,
   "id": "e56ca0d2b73b9ed5",
   "metadata": {
    "collapsed": false
   },
   "outputs": [],
   "source": [
    "statement = f\"\"\"\n",
    "DROP TABLE IF EXISTS country_similarities;\n",
    "CREATE TABLE country_similarities AS (\n",
    "    SELECT\n",
    "        c1.country_user as country1,\n",
    "        c2.country_user as country2,\n",
    "        -- Cosine similarity calculation\n",
    "        (\n",
    "            {cross('c1', 'c2')}\n",
    "        ) / (\n",
    "            SQRT({scross('c1')}) *\n",
    "            SQRT({scross('c2')})\n",
    "        ) as similarity\n",
    "    FROM country_avg_embeddings c1\n",
    "    CROSS JOIN country_avg_embeddings c2\n",
    "    WHERE c1.country_user != c2.country_user\n",
    "    GROUP BY c1.country_user, c2.country_user\n",
    ")\n",
    "\"\"\"\n",
    "\n",
    "con.execute(statement)"
   ]
  },
  {
   "cell_type": "code",
   "execution_count": 86,
   "id": "5ebc44e5c0215fc6",
   "metadata": {
    "ExecuteTime": {
     "end_time": "2024-12-19T16:23:51.444298Z",
     "start_time": "2024-12-19T16:23:51.431012Z"
    }
   },
   "outputs": [
    {
     "data": {
      "text/html": [
       "<div>\n",
       "<style scoped>\n",
       "    .dataframe tbody tr th:only-of-type {\n",
       "        vertical-align: middle;\n",
       "    }\n",
       "\n",
       "    .dataframe tbody tr th {\n",
       "        vertical-align: top;\n",
       "    }\n",
       "\n",
       "    .dataframe thead th {\n",
       "        text-align: right;\n",
       "    }\n",
       "</style>\n",
       "<table border=\"1\" class=\"dataframe\">\n",
       "  <thead>\n",
       "    <tr style=\"text-align: right;\">\n",
       "      <th></th>\n",
       "      <th>country1</th>\n",
       "      <th>country2</th>\n",
       "      <th>similarity</th>\n",
       "    </tr>\n",
       "  </thead>\n",
       "  <tbody>\n",
       "    <tr>\n",
       "      <th>0</th>\n",
       "      <td>Greece</td>\n",
       "      <td>Romania</td>\n",
       "      <td>0.999757</td>\n",
       "    </tr>\n",
       "    <tr>\n",
       "      <th>1</th>\n",
       "      <td>Greece</td>\n",
       "      <td>Israel</td>\n",
       "      <td>0.999737</td>\n",
       "    </tr>\n",
       "    <tr>\n",
       "      <th>2</th>\n",
       "      <td>Greece</td>\n",
       "      <td>Portugal</td>\n",
       "      <td>0.999630</td>\n",
       "    </tr>\n",
       "    <tr>\n",
       "      <th>3</th>\n",
       "      <td>Greece</td>\n",
       "      <td>Thailand</td>\n",
       "      <td>0.999619</td>\n",
       "    </tr>\n",
       "    <tr>\n",
       "      <th>4</th>\n",
       "      <td>Greece</td>\n",
       "      <td>Iceland</td>\n",
       "      <td>0.999595</td>\n",
       "    </tr>\n",
       "    <tr>\n",
       "      <th>...</th>\n",
       "      <td>...</td>\n",
       "      <td>...</td>\n",
       "      <td>...</td>\n",
       "    </tr>\n",
       "    <tr>\n",
       "      <th>95</th>\n",
       "      <td>Greece</td>\n",
       "      <td>Laos</td>\n",
       "      <td>0.971084</td>\n",
       "    </tr>\n",
       "    <tr>\n",
       "      <th>96</th>\n",
       "      <td>Greece</td>\n",
       "      <td>Kazakhstan</td>\n",
       "      <td>0.970385</td>\n",
       "    </tr>\n",
       "    <tr>\n",
       "      <th>97</th>\n",
       "      <td>Greece</td>\n",
       "      <td>Namibia</td>\n",
       "      <td>0.969373</td>\n",
       "    </tr>\n",
       "    <tr>\n",
       "      <th>98</th>\n",
       "      <td>Greece</td>\n",
       "      <td>Montenegro</td>\n",
       "      <td>0.968921</td>\n",
       "    </tr>\n",
       "    <tr>\n",
       "      <th>99</th>\n",
       "      <td>Greece</td>\n",
       "      <td>Nepal</td>\n",
       "      <td>0.968226</td>\n",
       "    </tr>\n",
       "  </tbody>\n",
       "</table>\n",
       "<p>100 rows × 3 columns</p>\n",
       "</div>"
      ],
      "text/plain": [
       "   country1    country2  similarity\n",
       "0    Greece     Romania    0.999757\n",
       "1    Greece      Israel    0.999737\n",
       "2    Greece    Portugal    0.999630\n",
       "3    Greece    Thailand    0.999619\n",
       "4    Greece     Iceland    0.999595\n",
       "..      ...         ...         ...\n",
       "95   Greece        Laos    0.971084\n",
       "96   Greece  Kazakhstan    0.970385\n",
       "97   Greece     Namibia    0.969373\n",
       "98   Greece  Montenegro    0.968921\n",
       "99   Greece       Nepal    0.968226\n",
       "\n",
       "[100 rows x 3 columns]"
      ]
     },
     "execution_count": 86,
     "metadata": {},
     "output_type": "execute_result"
    }
   ],
   "source": [
    "con.execute(\"SELECT * FROM country_similarities where country1 == 'Greece' ORDER BY similarity DESC LIMIT 100\").fetchdf()"
   ]
  },
  {
   "cell_type": "code",
   "execution_count": 83,
   "id": "b67093a17be63171",
   "metadata": {
    "ExecuteTime": {
     "end_time": "2024-12-19T16:19:36.988808Z",
     "start_time": "2024-12-19T16:19:33.751944Z"
    }
   },
   "outputs": [
    {
     "data": {
      "text/html": [
       "<div>\n",
       "<style scoped>\n",
       "    .dataframe tbody tr th:only-of-type {\n",
       "        vertical-align: middle;\n",
       "    }\n",
       "\n",
       "    .dataframe tbody tr th {\n",
       "        vertical-align: top;\n",
       "    }\n",
       "\n",
       "    .dataframe thead th {\n",
       "        text-align: right;\n",
       "    }\n",
       "</style>\n",
       "<table border=\"1\" class=\"dataframe\">\n",
       "  <thead>\n",
       "    <tr style=\"text-align: right;\">\n",
       "      <th></th>\n",
       "      <th>country1</th>\n",
       "      <th>country2</th>\n",
       "      <th>similarity</th>\n",
       "    </tr>\n",
       "  </thead>\n",
       "  <tbody>\n",
       "    <tr>\n",
       "      <th>0</th>\n",
       "      <td>Saint Helena</td>\n",
       "      <td>Poland</td>\n",
       "      <td>0.997885</td>\n",
       "    </tr>\n",
       "    <tr>\n",
       "      <th>1</th>\n",
       "      <td>Saint Helena</td>\n",
       "      <td>Greenland</td>\n",
       "      <td>0.997359</td>\n",
       "    </tr>\n",
       "    <tr>\n",
       "      <th>2</th>\n",
       "      <td>Saint Helena</td>\n",
       "      <td>Belarus</td>\n",
       "      <td>0.984858</td>\n",
       "    </tr>\n",
       "    <tr>\n",
       "      <th>3</th>\n",
       "      <td>Saint Helena</td>\n",
       "      <td>Norfolk Island</td>\n",
       "      <td>0.984609</td>\n",
       "    </tr>\n",
       "    <tr>\n",
       "      <th>4</th>\n",
       "      <td>Saint Helena</td>\n",
       "      <td>Bulgaria</td>\n",
       "      <td>0.983912</td>\n",
       "    </tr>\n",
       "    <tr>\n",
       "      <th>...</th>\n",
       "      <td>...</td>\n",
       "      <td>...</td>\n",
       "      <td>...</td>\n",
       "    </tr>\n",
       "    <tr>\n",
       "      <th>95</th>\n",
       "      <td>Saint Helena</td>\n",
       "      <td>Kazakhstan</td>\n",
       "      <td>0.951657</td>\n",
       "    </tr>\n",
       "    <tr>\n",
       "      <th>96</th>\n",
       "      <td>Saint Helena</td>\n",
       "      <td>Algeria</td>\n",
       "      <td>0.951073</td>\n",
       "    </tr>\n",
       "    <tr>\n",
       "      <th>97</th>\n",
       "      <td>Saint Helena</td>\n",
       "      <td>Laos</td>\n",
       "      <td>0.948962</td>\n",
       "    </tr>\n",
       "    <tr>\n",
       "      <th>98</th>\n",
       "      <td>Saint Helena</td>\n",
       "      <td>Mauritius</td>\n",
       "      <td>0.945282</td>\n",
       "    </tr>\n",
       "    <tr>\n",
       "      <th>99</th>\n",
       "      <td>Saint Helena</td>\n",
       "      <td>Nepal</td>\n",
       "      <td>0.944695</td>\n",
       "    </tr>\n",
       "  </tbody>\n",
       "</table>\n",
       "<p>100 rows × 3 columns</p>\n",
       "</div>"
      ],
      "text/plain": [
       "        country1        country2  similarity\n",
       "0   Saint Helena          Poland    0.997885\n",
       "1   Saint Helena       Greenland    0.997359\n",
       "2   Saint Helena         Belarus    0.984858\n",
       "3   Saint Helena  Norfolk Island    0.984609\n",
       "4   Saint Helena        Bulgaria    0.983912\n",
       "..           ...             ...         ...\n",
       "95  Saint Helena      Kazakhstan    0.951657\n",
       "96  Saint Helena         Algeria    0.951073\n",
       "97  Saint Helena            Laos    0.948962\n",
       "98  Saint Helena       Mauritius    0.945282\n",
       "99  Saint Helena           Nepal    0.944695\n",
       "\n",
       "[100 rows x 3 columns]"
      ]
     },
     "execution_count": 83,
     "metadata": {},
     "output_type": "execute_result"
    }
   ],
   "source": [
    "con.execute(\"SELECT * FROM country_similarities where country1 == 'Saint Helena' ORDER BY similarity DESC LIMIT 100\").fetchdf()\n"
   ]
  },
  {
   "cell_type": "code",
   "execution_count": 87,
   "id": "65fcb2513560a745",
   "metadata": {
    "ExecuteTime": {
     "end_time": "2024-12-19T16:24:03.443899Z",
     "start_time": "2024-12-19T16:24:03.440001Z"
    }
   },
   "outputs": [
    {
     "data": {
      "text/plain": [
       "<duckdb.duckdb.DuckDBPyConnection at 0x1112028f0>"
      ]
     },
     "execution_count": 87,
     "metadata": {},
     "output_type": "execute_result"
    }
   ],
   "source": [
    "# Calculates, for each country, the most similar countries in terms of how they rate.\n",
    "con.execute(\"\"\"\n",
    "CREATE OR REPLACE VIEW top_similar_countries AS (\n",
    "    SELECT\n",
    "        country1,\n",
    "        country2,\n",
    "        similarity,\n",
    "        ROW_NUMBER() OVER (PARTITION BY country1 ORDER BY similarity DESC) as rn\n",
    "    FROM country_similarities\n",
    ")\n",
    "\"\"\")"
   ]
  },
  {
   "cell_type": "code",
   "execution_count": 5,
   "id": "c343f2d131f8baa2",
   "metadata": {
    "ExecuteTime": {
     "end_time": "2024-12-20T15:22:00.053431Z",
     "start_time": "2024-12-20T15:21:59.921971Z"
    }
   },
   "outputs": [],
   "source": [
    "# Calculates the similarity between reviews to each country's average rating.\n",
    "statement = \"\"\"\n",
    "CREATE OR REPLACE VIEW review_similarities AS (\n",
    "    SELECT\n",
    "        j.country_user,\n",
    "        j.text_cleaned_lemma,\n",
    "        j.text,\n",
    "        -- Cosine similarity between review embedding and country average\n",
    "        (\n",
    "            SUM(\n",
    "                (\"\"\"\n",
    "for i in range(384):\n",
    "    statement += f\"\"\"j.\"{i}\" * c.avg_{i} + \"\"\"\n",
    "\n",
    "statement = statement[:-3] + f\"\"\")\n",
    "            ) / (\n",
    "                SQRT(SUM(\n",
    "    \"\"\"\n",
    "for i in range(384):\n",
    "    statement += f\"\"\"j.\"{i}\" * j.\"{i}\" + \"\"\"\n",
    "\n",
    "statement = statement[:-3] + \"\"\")) *\n",
    "                SQRT(\"\"\" + scross('c') + \"\"\")\n",
    "            )\n",
    "        ) as similarity\n",
    "    FROM ratings_and_embeddings j\n",
    "    JOIN country_avg_embeddings c ON j.country_user = c.country_user\n",
    "    GROUP BY j.country_user, j.text_cleaned_lemma, j.text\n",
    ")\n",
    "\"\"\""
   ]
  },
  {
   "cell_type": "code",
   "execution_count": 89,
   "id": "dd03f357db4d8e93",
   "metadata": {
    "ExecuteTime": {
     "end_time": "2024-12-19T16:28:39.450726Z",
     "start_time": "2024-12-19T16:28:39.407921Z"
    }
   },
   "outputs": [
    {
     "data": {
      "text/plain": [
       "<duckdb.duckdb.DuckDBPyConnection at 0x1112028f0>"
      ]
     },
     "execution_count": 89,
     "metadata": {},
     "output_type": "execute_result"
    }
   ],
   "source": [
    "con.execute(statement)"
   ]
  },
  {
   "cell_type": "code",
   "execution_count": 90,
   "id": "c4de8ea4857e7494",
   "metadata": {
    "ExecuteTime": {
     "end_time": "2024-12-19T16:30:10.418414Z",
     "start_time": "2024-12-19T16:28:59.413446Z"
    }
   },
   "outputs": [
    {
     "data": {
      "application/vnd.jupyter.widget-view+json": {
       "model_id": "025354d0a857496c8f8a7f8bf64c9489",
       "version_major": 2,
       "version_minor": 0
      },
      "text/plain": [
       "FloatProgress(value=0.0, layout=Layout(width='auto'), style=ProgressStyle(bar_color='black'))"
      ]
     },
     "metadata": {},
     "output_type": "display_data"
    },
    {
     "data": {
      "text/html": [
       "<div>\n",
       "<style scoped>\n",
       "    .dataframe tbody tr th:only-of-type {\n",
       "        vertical-align: middle;\n",
       "    }\n",
       "\n",
       "    .dataframe tbody tr th {\n",
       "        vertical-align: top;\n",
       "    }\n",
       "\n",
       "    .dataframe thead th {\n",
       "        text-align: right;\n",
       "    }\n",
       "</style>\n",
       "<table border=\"1\" class=\"dataframe\">\n",
       "  <thead>\n",
       "    <tr style=\"text-align: right;\">\n",
       "      <th></th>\n",
       "      <th>country_user</th>\n",
       "      <th>text_cleaned_lemma</th>\n",
       "      <th>text</th>\n",
       "      <th>similarity</th>\n",
       "    </tr>\n",
       "  </thead>\n",
       "  <tbody>\n",
       "    <tr>\n",
       "      <th>0</th>\n",
       "      <td>Netherlands</td>\n",
       "      <td>tap john hewitt belfast hazy blonde coloured b...</td>\n",
       "      <td>Tap at John Hewitt, Belfast: Hazy blonde colou...</td>\n",
       "      <td>0.758187</td>\n",
       "    </tr>\n",
       "    <tr>\n",
       "      <th>1</th>\n",
       "      <td>United Kingdom</td>\n",
       "      <td>bottle vinyl taste edinburgh pour amber know h...</td>\n",
       "      <td>Bottle @All My Vinyl Tasting, Edinburgh. Pours...</td>\n",
       "      <td>0.749002</td>\n",
       "    </tr>\n",
       "    <tr>\n",
       "      <th>2</th>\n",
       "      <td>Germany</td>\n",
       "      <td>bottle ms mahogony tan head aroma toast malt b...</td>\n",
       "      <td>Bottle from M&amp;S. Mahogony with a tan head. Aro...</td>\n",
       "      <td>0.732442</td>\n",
       "    </tr>\n",
       "    <tr>\n",
       "      <th>3</th>\n",
       "      <td>United Kingdom</td>\n",
       "      <td>burny smoky taste ipa flavour slightly dissapo...</td>\n",
       "      <td>Burny smoky taste to this no ipa flavour what ...</td>\n",
       "      <td>0.636238</td>\n",
       "    </tr>\n",
       "    <tr>\n",
       "      <th>4</th>\n",
       "      <td>United Kingdom</td>\n",
       "      <td>bottle home belfast beer festivaldark chestnut...</td>\n",
       "      <td>Bottle at home from Belfast beer festivalDark ...</td>\n",
       "      <td>0.679432</td>\n",
       "    </tr>\n",
       "  </tbody>\n",
       "</table>\n",
       "</div>"
      ],
      "text/plain": [
       "     country_user                                 text_cleaned_lemma  \\\n",
       "0     Netherlands  tap john hewitt belfast hazy blonde coloured b...   \n",
       "1  United Kingdom  bottle vinyl taste edinburgh pour amber know h...   \n",
       "2         Germany  bottle ms mahogony tan head aroma toast malt b...   \n",
       "3  United Kingdom  burny smoky taste ipa flavour slightly dissapo...   \n",
       "4  United Kingdom  bottle home belfast beer festivaldark chestnut...   \n",
       "\n",
       "                                                text  similarity  \n",
       "0  Tap at John Hewitt, Belfast: Hazy blonde colou...    0.758187  \n",
       "1  Bottle @All My Vinyl Tasting, Edinburgh. Pours...    0.749002  \n",
       "2  Bottle from M&S. Mahogony with a tan head. Aro...    0.732442  \n",
       "3  Burny smoky taste to this no ipa flavour what ...    0.636238  \n",
       "4  Bottle at home from Belfast beer festivalDark ...    0.679432  "
      ]
     },
     "execution_count": 90,
     "metadata": {},
     "output_type": "execute_result"
    }
   ],
   "source": [
    "con.execute(\"SELECT * FROM review_similarities LIMIT 5\").fetchdf()"
   ]
  },
  {
   "cell_type": "code",
   "execution_count": 91,
   "id": "dc66f75868d644a4",
   "metadata": {
    "ExecuteTime": {
     "end_time": "2024-12-19T16:30:22.278235Z",
     "start_time": "2024-12-19T16:30:22.245798Z"
    }
   },
   "outputs": [
    {
     "data": {
      "text/plain": [
       "<duckdb.duckdb.DuckDBPyConnection at 0x1112028f0>"
      ]
     },
     "execution_count": 91,
     "metadata": {},
     "output_type": "execute_result"
    }
   ],
   "source": [
    "# Calculates for each country, the top reviews based on their similarity.\n",
    "con.execute(\"\"\"\n",
    "CREATE OR REPLACE VIEW top_reviews AS (\n",
    "    SELECT\n",
    "        country_user,\n",
    "        text_cleaned_lemma,\n",
    "        text,\n",
    "        similarity,\n",
    "        ROW_NUMBER() OVER (PARTITION BY country_user ORDER BY similarity DESC) as rn\n",
    "    FROM review_similarities\n",
    ")\n",
    "\"\"\")"
   ]
  },
  {
   "cell_type": "code",
   "execution_count": 6,
   "id": "1f50c1d3a47c8ef1",
   "metadata": {
    "ExecuteTime": {
     "end_time": "2024-12-20T15:24:25.753646Z",
     "start_time": "2024-12-20T15:24:25.632183Z"
    }
   },
   "outputs": [],
   "source": [
    "# Calculates for each country, the most similar representative reviews with other countries and the most representative review for this country.\n",
    "con.execute(\"\"\"\n",
    "DROP VIEW IF EXISTS final_output;\n",
    "DROP TABLE IF EXISTS final_output;\n",
    "CREATE TABLE final_output AS (\n",
    "    WITH similar_countries AS (\n",
    "        SELECT\n",
    "            country1,\n",
    "            MAX(CASE WHEN rn = 1 THEN country2 END) as similar_country1,\n",
    "            MAX(CASE WHEN rn = 1 THEN ROUND(similarity::numeric, 3) END) as similarity1,\n",
    "            MAX(CASE WHEN rn = 2 THEN country2 END) as similar_country2,\n",
    "            MAX(CASE WHEN rn = 2 THEN ROUND(similarity::numeric, 3) END) as similarity2,\n",
    "            MAX(CASE WHEN rn = 3 THEN country2 END) as similar_country3,\n",
    "            MAX(CASE WHEN rn = 3 THEN ROUND(similarity::numeric, 3) END) as similarity3\n",
    "        FROM top_similar_countries\n",
    "        WHERE rn <= 3\n",
    "        GROUP BY country1\n",
    "    ),\n",
    "    representative_reviews AS (\n",
    "        SELECT\n",
    "            country_user,\n",
    "            MAX(CASE WHEN rn = 1 THEN text END) as review1,\n",
    "            MAX(CASE WHEN rn = 1 THEN ROUND(similarity::numeric, 3) END) as review_similarity1,\n",
    "            MAX(CASE WHEN rn = 2 THEN text END) as review2,\n",
    "            MAX(CASE WHEN rn = 2 THEN ROUND(similarity::numeric, 3) END) as review_similarity2,\n",
    "            MAX(CASE WHEN rn = 3 THEN text END) as review3,\n",
    "            MAX(CASE WHEN rn = 3 THEN ROUND(similarity::numeric, 3) END) as review_similarity3\n",
    "        FROM top_reviews\n",
    "        WHERE rn <= 3\n",
    "        GROUP BY country_user\n",
    "    )\n",
    "    SELECT\n",
    "        s.country1,\n",
    "        s.similar_country1,\n",
    "        s.similarity1,\n",
    "        s.similar_country2,\n",
    "        s.similarity2,\n",
    "        s.similar_country3,\n",
    "        s.similarity3,\n",
    "        r.review1,\n",
    "        r.review_similarity1,\n",
    "        r.review2,\n",
    "        r.review_similarity2,\n",
    "        r.review3,\n",
    "        r.review_similarity3\n",
    "    FROM similar_countries s\n",
    "    LEFT JOIN representative_reviews r ON s.country1 = r.country_user\n",
    "    ORDER BY s.country1\n",
    ");\n",
    "\"\"\")"
   ]
  },
  {
   "cell_type": "code",
   "execution_count": 93,
   "id": "279099907056a20e",
   "metadata": {
    "ExecuteTime": {
     "end_time": "2024-12-19T17:00:27.180343Z",
     "start_time": "2024-12-19T17:00:27.155767Z"
    }
   },
   "outputs": [
    {
     "data": {
      "text/html": [
       "<div>\n",
       "<style scoped>\n",
       "    .dataframe tbody tr th:only-of-type {\n",
       "        vertical-align: middle;\n",
       "    }\n",
       "\n",
       "    .dataframe tbody tr th {\n",
       "        vertical-align: top;\n",
       "    }\n",
       "\n",
       "    .dataframe thead th {\n",
       "        text-align: right;\n",
       "    }\n",
       "</style>\n",
       "<table border=\"1\" class=\"dataframe\">\n",
       "  <thead>\n",
       "    <tr style=\"text-align: right;\">\n",
       "      <th></th>\n",
       "      <th>country1</th>\n",
       "      <th>similar_country1</th>\n",
       "      <th>similarity1</th>\n",
       "      <th>similar_country2</th>\n",
       "      <th>similarity2</th>\n",
       "      <th>similar_country3</th>\n",
       "      <th>similarity3</th>\n",
       "      <th>review1</th>\n",
       "      <th>review_similarity1</th>\n",
       "      <th>review2</th>\n",
       "      <th>review_similarity2</th>\n",
       "      <th>review3</th>\n",
       "      <th>review_similarity3</th>\n",
       "    </tr>\n",
       "  </thead>\n",
       "  <tbody>\n",
       "    <tr>\n",
       "      <th>0</th>\n",
       "      <td>Abkhazia</td>\n",
       "      <td>Dominican Republic</td>\n",
       "      <td>0.903</td>\n",
       "      <td>Marshall Islands</td>\n",
       "      <td>0.903</td>\n",
       "      <td>Germany</td>\n",
       "      <td>0.899</td>\n",
       "      <td>All that we search in Porterâs: Chocolate, b...</td>\n",
       "      <td>0.829</td>\n",
       "      <td>You should try better beers than Katzerer (mic...</td>\n",
       "      <td>0.817</td>\n",
       "      <td>Is really hard brew a beer like Apple Ephemere...</td>\n",
       "      <td>0.752</td>\n",
       "    </tr>\n",
       "    <tr>\n",
       "      <th>1</th>\n",
       "      <td>Afghanistan</td>\n",
       "      <td>Panama</td>\n",
       "      <td>0.984</td>\n",
       "      <td>Brazil</td>\n",
       "      <td>0.983</td>\n",
       "      <td>El Salvador</td>\n",
       "      <td>0.983</td>\n",
       "      <td>Definitely by far the best Thai made beer sold...</td>\n",
       "      <td>0.859</td>\n",
       "      <td>grapefruit/nectarine turning resiny on nosing....</td>\n",
       "      <td>0.835</td>\n",
       "      <td>God in heaven save me from this muck. Its not ...</td>\n",
       "      <td>0.832</td>\n",
       "    </tr>\n",
       "    <tr>\n",
       "      <th>2</th>\n",
       "      <td>Albania</td>\n",
       "      <td>Slovakia</td>\n",
       "      <td>0.918</td>\n",
       "      <td>Montenegro</td>\n",
       "      <td>0.915</td>\n",
       "      <td>South Korea</td>\n",
       "      <td>0.914</td>\n",
       "      <td>This is maybe one of the most famous pilseners...</td>\n",
       "      <td>0.807</td>\n",
       "      <td>Itâs better than the original Birra Tirana  ...</td>\n",
       "      <td>0.804</td>\n",
       "      <td>better than coors light for the cost.. : 0 the...</td>\n",
       "      <td>0.750</td>\n",
       "    </tr>\n",
       "    <tr>\n",
       "      <th>3</th>\n",
       "      <td>Algeria</td>\n",
       "      <td>Faroe Islands</td>\n",
       "      <td>0.984</td>\n",
       "      <td>Denmark</td>\n",
       "      <td>0.983</td>\n",
       "      <td>Luxembourg</td>\n",
       "      <td>0.983</td>\n",
       "      <td>Chestnut brown with full bodied foam. Spices -...</td>\n",
       "      <td>0.873</td>\n",
       "      <td>Nice Beer made With a Nice rounded taste of ca...</td>\n",
       "      <td>0.868</td>\n",
       "      <td>Rich tasting ale with notes of caramel, malt, ...</td>\n",
       "      <td>0.853</td>\n",
       "    </tr>\n",
       "    <tr>\n",
       "      <th>4</th>\n",
       "      <td>American Samoa</td>\n",
       "      <td>Fiji Islands</td>\n",
       "      <td>0.636</td>\n",
       "      <td>Honduras</td>\n",
       "      <td>0.635</td>\n",
       "      <td>Saudi Arabia</td>\n",
       "      <td>0.631</td>\n",
       "      <td>i have never tried this beer but my great 10th...</td>\n",
       "      <td>1.000</td>\n",
       "      <td>None</td>\n",
       "      <td>NaN</td>\n",
       "      <td>None</td>\n",
       "      <td>NaN</td>\n",
       "    </tr>\n",
       "  </tbody>\n",
       "</table>\n",
       "</div>"
      ],
      "text/plain": [
       "         country1    similar_country1  similarity1  similar_country2  \\\n",
       "0        Abkhazia  Dominican Republic        0.903  Marshall Islands   \n",
       "1     Afghanistan              Panama        0.984            Brazil   \n",
       "2         Albania            Slovakia        0.918        Montenegro   \n",
       "3         Algeria       Faroe Islands        0.984           Denmark   \n",
       "4  American Samoa        Fiji Islands        0.636          Honduras   \n",
       "\n",
       "   similarity2 similar_country3  similarity3  \\\n",
       "0        0.903          Germany        0.899   \n",
       "1        0.983      El Salvador        0.983   \n",
       "2        0.915      South Korea        0.914   \n",
       "3        0.983       Luxembourg        0.983   \n",
       "4        0.635     Saudi Arabia        0.631   \n",
       "\n",
       "                                             review1  review_similarity1  \\\n",
       "0  All that we search in Porterâs: Chocolate, b...               0.829   \n",
       "1  Definitely by far the best Thai made beer sold...               0.859   \n",
       "2  This is maybe one of the most famous pilseners...               0.807   \n",
       "3  Chestnut brown with full bodied foam. Spices -...               0.873   \n",
       "4  i have never tried this beer but my great 10th...               1.000   \n",
       "\n",
       "                                             review2  review_similarity2  \\\n",
       "0  You should try better beers than Katzerer (mic...               0.817   \n",
       "1  grapefruit/nectarine turning resiny on nosing....               0.835   \n",
       "2  Itâs better than the original Birra Tirana  ...               0.804   \n",
       "3  Nice Beer made With a Nice rounded taste of ca...               0.868   \n",
       "4                                               None                 NaN   \n",
       "\n",
       "                                             review3  review_similarity3  \n",
       "0  Is really hard brew a beer like Apple Ephemere...               0.752  \n",
       "1  God in heaven save me from this muck. Its not ...               0.832  \n",
       "2  better than coors light for the cost.. : 0 the...               0.750  \n",
       "3  Rich tasting ale with notes of caramel, malt, ...               0.853  \n",
       "4                                               None                 NaN  "
      ]
     },
     "execution_count": 93,
     "metadata": {},
     "output_type": "execute_result"
    }
   ],
   "source": [
    "con.execute(\"SELECT * FROM final_output LIMIT 5\").fetchdf()"
   ]
  },
  {
   "cell_type": "code",
   "execution_count": 96,
   "id": "8a3193a8857df580",
   "metadata": {
    "ExecuteTime": {
     "end_time": "2024-12-19T17:09:55.237354Z",
     "start_time": "2024-12-19T17:09:55.232262Z"
    }
   },
   "outputs": [
    {
     "data": {
      "text/html": [
       "<div>\n",
       "<style scoped>\n",
       "    .dataframe tbody tr th:only-of-type {\n",
       "        vertical-align: middle;\n",
       "    }\n",
       "\n",
       "    .dataframe tbody tr th {\n",
       "        vertical-align: top;\n",
       "    }\n",
       "\n",
       "    .dataframe thead th {\n",
       "        text-align: right;\n",
       "    }\n",
       "</style>\n",
       "<table border=\"1\" class=\"dataframe\">\n",
       "  <thead>\n",
       "    <tr style=\"text-align: right;\">\n",
       "      <th></th>\n",
       "      <th>country1</th>\n",
       "      <th>similar_country1</th>\n",
       "      <th>similarity1</th>\n",
       "      <th>similar_country2</th>\n",
       "      <th>similarity2</th>\n",
       "      <th>similar_country3</th>\n",
       "      <th>similarity3</th>\n",
       "      <th>review1</th>\n",
       "      <th>review_similarity1</th>\n",
       "      <th>review2</th>\n",
       "      <th>review_similarity2</th>\n",
       "      <th>review3</th>\n",
       "      <th>review_similarity3</th>\n",
       "    </tr>\n",
       "  </thead>\n",
       "  <tbody>\n",
       "    <tr>\n",
       "      <th>0</th>\n",
       "      <td>Mexico</td>\n",
       "      <td>El Salvador</td>\n",
       "      <td>0.999</td>\n",
       "      <td>Taiwan</td>\n",
       "      <td>0.999</td>\n",
       "      <td>Hong Kong</td>\n",
       "      <td>0.999</td>\n",
       "      <td>My first english strong ale thanks to Duff. I ...</td>\n",
       "      <td>0.901</td>\n",
       "      <td>Heritage vintage 2013.APARIENCIA: De color mar...</td>\n",
       "      <td>0.889</td>\n",
       "      <td>Bottle, 500ml. Pours a clear golden colour wit...</td>\n",
       "      <td>0.887</td>\n",
       "    </tr>\n",
       "  </tbody>\n",
       "</table>\n",
       "</div>"
      ],
      "text/plain": [
       "  country1 similar_country1  similarity1 similar_country2  similarity2  \\\n",
       "0   Mexico      El Salvador        0.999           Taiwan        0.999   \n",
       "\n",
       "  similar_country3  similarity3  \\\n",
       "0        Hong Kong        0.999   \n",
       "\n",
       "                                             review1  review_similarity1  \\\n",
       "0  My first english strong ale thanks to Duff. I ...               0.901   \n",
       "\n",
       "                                             review2  review_similarity2  \\\n",
       "0  Heritage vintage 2013.APARIENCIA: De color mar...               0.889   \n",
       "\n",
       "                                             review3  review_similarity3  \n",
       "0  Bottle, 500ml. Pours a clear golden colour wit...               0.887  "
      ]
     },
     "execution_count": 96,
     "metadata": {},
     "output_type": "execute_result"
    }
   ],
   "source": [
    "con.execute(\"SELECT * FROM final_output WHERE country1 = 'Mexico'\").fetchdf()"
   ]
  },
  {
   "cell_type": "code",
   "execution_count": 29,
   "id": "ed2b2112c14dd5b",
   "metadata": {
    "ExecuteTime": {
     "end_time": "2024-12-20T02:33:15.195634Z",
     "start_time": "2024-12-20T02:33:15.192544Z"
    }
   },
   "outputs": [],
   "source": [
    "# Create the JSON files used on the website.\n",
    "def jsonize(df):\n",
    "    country = df['country1'].iloc[0]\n",
    "    similar_countries = []\n",
    "    for i in range(1, 4):\n",
    "        similar_countries.append({\n",
    "            \"country\": df[f\"similar_country{i}\"].iloc[0],\n",
    "            \"similarity\": df[f\"similarity{i}\"].iloc[0]\n",
    "        })\n",
    "\n",
    "    reviews = []\n",
    "    for i in range(1, 4):\n",
    "        if df[f\"review{i}\"].iloc[0] is None:\n",
    "            # If the country has less than 3 reviews, ensure no nulls.\n",
    "            continue\n",
    "\n",
    "        reviews.append({\n",
    "            \"text\": df[f\"review{i}\"].iloc[0],\n",
    "            \"similarity\": df[f\"review_similarity{i}\"].iloc[0]\n",
    "        })\n",
    "\n",
    "    return {\n",
    "        \"country\": country,\n",
    "        \"similar_countries\": similar_countries,\n",
    "        \"reviews\": reviews\n",
    "    }"
   ]
  },
  {
   "cell_type": "code",
   "execution_count": 26,
   "id": "e158236adfcd03d",
   "metadata": {
    "ExecuteTime": {
     "end_time": "2024-12-20T02:31:48.396259Z",
     "start_time": "2024-12-20T02:31:48.392183Z"
    }
   },
   "outputs": [
    {
     "data": {
      "text/plain": [
       "{'country': 'Mexico',\n",
       " 'similar_countries': [{'country': 'El Salvador', 'similarity': 0.999},\n",
       "  {'country': 'Taiwan', 'similarity': 0.999},\n",
       "  {'country': 'Hong Kong', 'similarity': 0.999}],\n",
       " 'reviews': [{'text': 'My first english strong ale thanks to Duff. I liked the bottle, very classic looking. Very nice aroma, like dubbel mixed with an english bitter. Opaque and brown pour. Sweet and strongly alcoholic tasting at first, dark fruits, leather and some roastiness in the middle...minimal hoppiness. Finishes with a slight vegetable, cinnamon and sweet malt folowed by a bit of a burn. It did not go well with my hamburger buy i would guess some lamb and chutney would do it grace.',\n",
       "   'similarity': 0.901},\n",
       "  {'text': 'Heritage vintage 2013.APARIENCIA: De color marrÃ³n muy oscuro, no llega a ser negra totalmente, de corona de espuma color beige, de burbuja compacta de muy buena retenciÃ³n.AROMA: muy complejo, la notas del roble estÃ¡n presentes, se llega a inhalar el alcohol, notas de frutos oscuros maduros, las maltas dulces y tostadas, azÃºcares quemadas, caramelo, una muy ligera nota como de vainilla.SABOR: Al paladar complejo, caramelo, toffee, azÃºcar mascabado, vainilla, frutos oscuros maduros, frutos rojos, algunas especias, el gusto del roble se nota, y el retrogusto seco y no astringente, se siente el alcohol pasar por la garganta de forma cÃ¡lida pero no llega a ser agresivo. SENSACIÃ\\x93N: cuerpo redondo, moderada carbonataciÃ³n.RESUMEN: excelente cerveza compleja donde el roble le ha subida a otro nivel. Muy recomendable.',\n",
       "   'similarity': 0.889},\n",
       "  {'text': 'Bottle, 500ml. Pours a clear golden colour with a large white head and plenty of carbonation. Aroma is of herbs, spices and some hop. Has some nice nut notes in the taste, complemented with bitterness. Average beer.',\n",
       "   'similarity': 0.887}]}"
      ]
     },
     "execution_count": 26,
     "metadata": {},
     "output_type": "execute_result"
    }
   ],
   "source": [
    "jsonize(con.execute(\"SELECT * FROM final_output WHERE country1 = 'Mexico'\").fetchdf())"
   ]
  },
  {
   "cell_type": "code",
   "execution_count": 31,
   "id": "8e4f4e441613f455",
   "metadata": {
    "ExecuteTime": {
     "end_time": "2024-12-20T02:33:25.665013Z",
     "start_time": "2024-12-20T02:33:25.551704Z"
    }
   },
   "outputs": [],
   "source": [
    "# Store all JSON files.\n",
    "import json\n",
    "for country in countries:\n",
    "    if country is None:\n",
    "        continue\n",
    "    data = jsonize(con.execute(f\"SELECT * FROM final_output WHERE country1 = '{country}'\").fetchdf())\n",
    "    country = countriaze(country)\n",
    "    with open(DATA_OUT + country + '/output.json', 'w') as f:\n",
    "        f.write(json.dumps(data))"
   ]
  }
 ],
 "metadata": {
  "kernelspec": {
   "display_name": "Python 3",
   "language": "python",
   "name": "python3"
  },
  "language_info": {
   "codemirror_mode": {
    "name": "ipython",
    "version": 2
   },
   "file_extension": ".py",
   "mimetype": "text/x-python",
   "name": "python",
   "nbconvert_exporter": "python",
   "pygments_lexer": "ipython2",
   "version": "2.7.6"
  }
 },
 "nbformat": 4,
 "nbformat_minor": 5
}
