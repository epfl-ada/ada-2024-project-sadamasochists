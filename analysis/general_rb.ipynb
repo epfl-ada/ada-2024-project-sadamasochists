{
 "cells": [
  {
   "cell_type": "code",
   "execution_count": 41,
   "metadata": {},
   "outputs": [],
   "source": [
    "import pandas as pd\n",
    "\n",
    "# Define the folder\n",
    "# FOLDER = '../data/processed/'\n",
    "FOLDER = '../data/RateBeer/processed/'\n",
    "\n",
    "\n",
    "# Load the data\n",
    "df_beers = pd.read_parquet(FOLDER + 'beers.pq')\n",
    "df_breweries = pd.read_parquet(FOLDER + 'breweries.pq')\n",
    "df_users = pd.read_parquet(FOLDER + 'users.pq')\n",
    "df_ratings_no_text = pd.read_parquet(FOLDER + 'ratings_no_text.pq')\n"
   ]
  },
  {
   "cell_type": "code",
   "execution_count": 42,
   "metadata": {},
   "outputs": [
    {
     "name": "stdout",
     "output_type": "stream",
     "text": [
      "Beers columns:  Index(['beer_id', 'beer_name', 'brewery_id', 'brewery_name', 'style', 'abv'], dtype='object')\n",
      "Breweries columns:  Index(['brewery_id', 'brewery_name', 'location_brewery'], dtype='object')\n",
      "Users columns:  Index(['user_id', 'user_name', 'location_user', 'joined'], dtype='object')\n",
      "Ratings columns:  Index(['date', 'beer_id', 'user_id', 'brewery_id', 'abv', 'style', 'rating',\n",
      "       'palate', 'taste', 'appearance', 'aroma', 'overall', 'brewery_name',\n",
      "       'location_brewery', 'user_name', 'location_user', 'joined'],\n",
      "      dtype='object')\n"
     ]
    }
   ],
   "source": [
    "# print all columns\n",
    "print(\"Beers columns: \", df_beers.columns)\n",
    "print(\"Breweries columns: \", df_breweries.columns)\n",
    "print(\"Users columns: \", df_users.columns)\n",
    "print(\"Ratings columns: \", df_ratings_no_text.columns)"
   ]
  },
  {
   "cell_type": "code",
   "execution_count": 43,
   "metadata": {},
   "outputs": [],
   "source": [
    "# Merge user and brewery locations into the ratings data\n",
    "# df_ratings_no_text = df_ratings_no_text.merge(\n",
    "#     df_users[['user_id', 'location']].rename(columns={'location': 'location_user'}),\n",
    "#     on='user_id'\n",
    "# )\n",
    "# df_ratings_no_text = df_ratings_no_text.merge(\n",
    "#     df_breweries[['id', 'location']].rename(columns={'location': 'location_brewery', 'id': 'brewery_id'}),\n",
    "#     on='brewery_id'\n",
    "# )\n",
    "\n",
    "# Filter for years from 2002 onwards\n",
    "df_ratings_no_text['date'] = pd.to_datetime(df_ratings_no_text['date'])\n",
    "df_ratings_no_text = df_ratings_no_text[df_ratings_no_text['date'].dt.year >= 2002]\n"
   ]
  },
  {
   "cell_type": "code",
   "execution_count": 44,
   "metadata": {},
   "outputs": [
    {
     "name": "stdout",
     "output_type": "stream",
     "text": [
      "Beer Columns:\n",
      "Index(['beer_id', 'beer_name', 'brewery_id', 'brewery_name', 'style', 'abv'], dtype='object')\n",
      "\n",
      "Brewery Columns:\n",
      "Index(['brewery_id', 'brewery_name', 'location_brewery'], dtype='object')\n",
      "\n",
      "Users Columns:\n",
      "Index(['user_id', 'user_name', 'location_user', 'joined'], dtype='object')\n",
      "\n",
      "Ratings Columns:\n",
      "Index(['date', 'beer_id', 'user_id', 'brewery_id', 'abv', 'style', 'rating',\n",
      "       'palate', 'taste', 'appearance', 'aroma', 'overall', 'brewery_name',\n",
      "       'location_brewery', 'user_name', 'location_user', 'joined'],\n",
      "      dtype='object')\n"
     ]
    }
   ],
   "source": [
    "print(\"Beer Columns:\")\n",
    "print(df_beers.columns)\n",
    "print(\"\\nBrewery Columns:\")\n",
    "print(df_breweries.columns)\n",
    "print(\"\\nUsers Columns:\")\n",
    "print(df_users.columns)\n",
    "print(\"\\nRatings Columns:\")\n",
    "print(df_ratings_no_text.columns)"
   ]
  },
  {
   "cell_type": "code",
   "execution_count": 45,
   "metadata": {},
   "outputs": [],
   "source": [
    "# Select only countries/states with a significant number of ratings\n",
    "MIN_RATINGS_THRESHOLD = 1\n",
    "number_of_ratings_per_location = df_ratings_no_text['location_brewery'].value_counts()\n",
    "popular_locations = number_of_ratings_per_location[number_of_ratings_per_location > MIN_RATINGS_THRESHOLD].index\n",
    "\n",
    "# Filter the data\n",
    "df_ratings_no_text = df_ratings_no_text[df_ratings_no_text['location_brewery'].isin(popular_locations)]\n",
    "df_beers = df_beers[df_beers['beer_id'].isin(df_ratings_no_text['beer_id'].unique())]\n",
    "df_breweries = df_breweries[df_breweries['brewery_id'].isin(df_ratings_no_text['brewery_id'].unique())]\n"
   ]
  },
  {
   "cell_type": "code",
   "execution_count": 46,
   "metadata": {},
   "outputs": [],
   "source": [
    "# Define a mapping of U.S. states to abbreviations\n",
    "state_abbrev = {\n",
    "    \"Alabama\": \"AL\", \"Alaska\": \"AK\", \"Arizona\": \"AZ\", \"Arkansas\": \"AR\",\n",
    "    \"California\": \"CA\", \"Colorado\": \"CO\", \"Connecticut\": \"CT\", \"Delaware\": \"DE\",\n",
    "    \"Florida\": \"FL\", \"Georgia\": \"GA\", \"Hawaii\": \"HI\", \"Idaho\": \"ID\",\n",
    "    \"Illinois\": \"IL\", \"Indiana\": \"IN\", \"Iowa\": \"IA\", \"Kansas\": \"KS\",\n",
    "    \"Kentucky\": \"KY\", \"Louisiana\": \"LA\", \"Maine\": \"ME\", \"Maryland\": \"MD\",\n",
    "    \"Massachusetts\": \"MA\", \"Michigan\": \"MI\", \"Minnesota\": \"MN\", \"Mississippi\": \"MS\",\n",
    "    \"Missouri\": \"MO\", \"Montana\": \"MT\", \"Nebraska\": \"NE\", \"Nevada\": \"NV\",\n",
    "    \"New Hampshire\": \"NH\", \"New Jersey\": \"NJ\", \"New Mexico\": \"NM\", \"New York\": \"NY\",\n",
    "    \"North Carolina\": \"NC\", \"North Dakota\": \"ND\", \"Ohio\": \"OH\", \"Oklahoma\": \"OK\",\n",
    "    \"Oregon\": \"OR\", \"Pennsylvania\": \"PA\", \"Rhode Island\": \"RI\", \"South Carolina\": \"SC\",\n",
    "    \"South Dakota\": \"SD\", \"Tennessee\": \"TN\", \"Texas\": \"TX\", \"Utah\": \"UT\",\n",
    "    \"Vermont\": \"VT\", \"Virginia\": \"VA\", \"Washington\": \"WA\", \"West Virginia\": \"WV\",\n",
    "    \"Wisconsin\": \"WI\", \"Wyoming\": \"WY\"\n",
    "}\n",
    "\n",
    "# Add state and country information to the datasets\n",
    "def add_location_info(df, location_column):\n",
    "    df['is_us'] = df[location_column].str.contains(\"United States\")\n",
    "    df['state_name'] = df[location_column].where(df['is_us']).str.split(\", \").str[1]\n",
    "    df['state_abbrev'] = df['state_name'].map(state_abbrev)\n",
    "    df['country'] = df[location_column].where(~df['is_us'])\n",
    "    return df\n",
    "\n",
    "df_ratings_no_text = add_location_info(df_ratings_no_text, 'location_brewery')\n",
    "df_breweries = add_location_info(df_breweries, 'location_brewery')\n",
    "df_users = add_location_info(df_users, 'location_user')\n",
    "df_beers = df_beers.merge(df_breweries[['brewery_id', 'location_brewery']], left_on='brewery_id', right_on='brewery_id')\n",
    "df_beers = add_location_info(df_beers, 'location_brewery')\n"
   ]
  },
  {
   "cell_type": "code",
   "execution_count": 47,
   "metadata": {},
   "outputs": [],
   "source": [
    "# Ratings per country and state\n",
    "ratings_per_country = df_ratings_no_text[~df_ratings_no_text['is_us']].groupby('country').size().reset_index(name='nbr_ratings')\n",
    "ratings_per_state = df_ratings_no_text[df_ratings_no_text['is_us']].groupby('state_abbrev').size().reset_index(name='nbr_ratings')\n",
    "\n",
    "# Breweries per country and state\n",
    "breweries_per_country = df_breweries[~df_breweries['is_us']].groupby('country').size().reset_index(name='nbr_breweries')\n",
    "breweries_per_state = df_breweries[df_breweries['is_us']].groupby('state_abbrev').size().reset_index(name='nbr_breweries')\n",
    "\n",
    "# Users per country and state\n",
    "users_per_country = df_users[~df_users['is_us']].groupby('country').size().reset_index(name='nbr_users')\n",
    "users_per_state = df_users[df_users['is_us']].groupby('state_abbrev').size().reset_index(name='nbr_users')\n",
    "\n",
    "# Beers per country and state\n",
    "beers_per_country = df_beers[~df_beers['is_us']].groupby('country').size().reset_index(name='nbr_beers')\n",
    "beers_per_state = df_beers[df_beers['is_us']].groupby('state_abbrev').size().reset_index(name='nbr_beers')\n"
   ]
  },
  {
   "cell_type": "code",
   "execution_count": 48,
   "metadata": {},
   "outputs": [
    {
     "data": {
      "application/vnd.plotly.v1+json": {
       "config": {
        "plotlyServerURL": "https://plot.ly"
       },
       "data": [
        {
         "colorscale": [
          [
           0,
           "rgb(247,251,255)"
          ],
          [
           0.125,
           "rgb(222,235,247)"
          ],
          [
           0.25,
           "rgb(198,219,239)"
          ],
          [
           0.375,
           "rgb(158,202,225)"
          ],
          [
           0.5,
           "rgb(107,174,214)"
          ],
          [
           0.625,
           "rgb(66,146,198)"
          ],
          [
           0.75,
           "rgb(33,113,181)"
          ],
          [
           0.875,
           "rgb(8,81,156)"
          ],
          [
           1,
           "rgb(8,48,107)"
          ]
         ],
         "hovertemplate": "<b>%{location}</b><br>Count: %{z}<extra></extra>",
         "locationmode": "country names",
         "locations": [
          "Abkhazia",
          "Albania",
          "Algeria",
          "Andorra",
          "Angola",
          "Antigua & Barbuda",
          "Argentina",
          "Armenia",
          "Aruba",
          "Australia",
          "Austria",
          "Azerbaijan",
          "Bahamas",
          "Bangladesh",
          "Barbados",
          "Belarus",
          "Belgium",
          "Belize",
          "Benin",
          "Bermuda",
          "Bhutan",
          "Bolivia",
          "Bonaire",
          "Bosnia and Herzegovina",
          "Botswana",
          "Brazil",
          "Bulgaria",
          "Burkina Faso",
          "Burundi",
          "Cambodia",
          "Cameroon",
          "Canada",
          "Cape Verde Islands",
          "Cayman Islands",
          "Central African Republic",
          "Chad",
          "Chile",
          "China",
          "Colombia",
          "Congo",
          "Cook Islands",
          "Costa Rica",
          "Croatia",
          "Cuba",
          "Curaçao",
          "Cyprus",
          "Czech Republic",
          "Dem Rep of Congo",
          "Denmark",
          "Dominica",
          "Dominican Republic",
          "Ecuador",
          "Egypt",
          "El Salvador",
          "England",
          "Eritrea",
          "Estonia",
          "Ethiopia",
          "Falkland Islands",
          "Faroe Islands",
          "Fiji Islands",
          "Finland",
          "France",
          "French Guiana",
          "French Polynesia",
          "Gabon",
          "Gambia",
          "Georgia",
          "Germany",
          "Ghana",
          "Gibraltar",
          "Greece",
          "Greenland",
          "Grenada",
          "Guadeloupe",
          "Guam",
          "Guatemala",
          "Guernsey",
          "Guinea",
          "Guinea-Bissau",
          "Guyana",
          "Haiti",
          "Honduras",
          "Hong Kong",
          "Hungary",
          "Iceland",
          "India",
          "Indonesia",
          "Iran",
          "Iraq",
          "Ireland",
          "Isle of Man",
          "Israel",
          "Italy",
          "Ivory Coast",
          "Jamaica",
          "Japan",
          "Jersey",
          "Jordan",
          "Kazakhstan",
          "Kenya",
          "Kosovo",
          "Kyrgyzstan",
          "Laos",
          "Latvia",
          "Lebanon",
          "Lesotho",
          "Liberia",
          "Libya",
          "Liechtenstein",
          "Lithuania",
          "Luxembourg",
          "Macau",
          "Macedonia",
          "Madagascar",
          "Malawi",
          "Malaysia",
          "Mali",
          "Malta",
          "Martinique",
          "Mauritius",
          "Mayotte",
          "Mexico",
          "Micronesia",
          "Moldova",
          "Monaco",
          "Mongolia",
          "Montenegro",
          "Morocco",
          "Mozambique",
          "Myanmar",
          "Nagorno-Karabakh",
          "Namibia",
          "Nepal",
          "Netherlands",
          "New Caledonia",
          "New Zealand",
          "Nicaragua",
          "Niger",
          "Nigeria",
          "Norfolk Island",
          "North Korea",
          "Northern Ireland",
          "Norway",
          "Pakistan",
          "Palau",
          "Palestine",
          "Panama",
          "Papua New Guinea",
          "Paraguay",
          "Peru",
          "Philippines",
          "Poland",
          "Portugal",
          "Puerto Rico",
          "Reunion",
          "Romania",
          "Russia",
          "Rwanda",
          "Saint Lucia",
          "Saint Vincent and The Grenadines",
          "Samoa",
          "San Marino",
          "Sao Tome and Principe",
          "Saudi Arabia",
          "Scotland",
          "Senegal",
          "Serbia",
          "Seychelles",
          "Sierra Leone",
          "Singapore",
          "Slovak Republic",
          "Slovenia",
          "Solomon Islands",
          "South Africa",
          "South Korea",
          "South Ossetia",
          "South Sudan",
          "Spain",
          "Sri Lanka",
          "Suriname",
          "Swaziland",
          "Sweden",
          "Switzerland",
          "Syria",
          "Taiwan",
          "Tajikistan",
          "Tanzania",
          "Thailand",
          "Tibet",
          "Togo",
          "Tonga",
          "Transdniestra",
          "Trinidad & Tobago",
          "Tunisia",
          "Turkey",
          "Turkish Republic of Cyprus",
          "Turkmenistan",
          "Turks and Caicos Islands",
          "Uganda",
          "Ukraine",
          "United Arab Emirates",
          "Uruguay",
          "Uzbekistan",
          "Vanuatu",
          "Venezuela",
          "Vietnam",
          "Virgin Islands (U.S.)",
          "Wales",
          "Zambia",
          "Zimbabwe"
         ],
         "showscale": false,
         "type": "choropleth",
         "visible": true,
         "z": [
          28,
          718,
          71,
          280,
          113,
          95,
          4696,
          826,
          252,
          67729,
          42370,
          141,
          943,
          19,
          779,
          2622,
          627699,
          411,
          50,
          79,
          140,
          615,
          18,
          1631,
          67,
          16519,
          2278,
          60,
          16,
          1190,
          137,
          332220,
          162,
          289,
          25,
          36,
          3174,
          9015,
          1490,
          15,
          74,
          1531,
          9572,
          1134,
          22,
          1029,
          87492,
          214,
          263616,
          94,
          1153,
          649,
          760,
          1494,
          643000,
          83,
          28287,
          984,
          6,
          2486,
          354,
          56831,
          74413,
          48,
          562,
          38,
          89,
          783,
          495924,
          252,
          79,
          9690,
          1049,
          31,
          29,
          48,
          1339,
          312,
          14,
          6,
          36,
          209,
          570,
          1365,
          13159,
          8568,
          4884,
          1087,
          251,
          31,
          41165,
          1367,
          6369,
          96761,
          76,
          3817,
          43304,
          467,
          298,
          386,
          1466,
          479,
          89,
          971,
          10014,
          1450,
          75,
          31,
          5,
          700,
          14057,
          2853,
          107,
          561,
          108,
          81,
          692,
          42,
          1449,
          112,
          491,
          3,
          28211,
          17,
          1150,
          187,
          297,
          806,
          755,
          310,
          364,
          2,
          1064,
          298,
          183470,
          95,
          42378,
          546,
          65,
          687,
          4,
          174,
          3291,
          131232,
          103,
          15,
          659,
          578,
          84,
          135,
          2309,
          2445,
          151128,
          8109,
          534,
          184,
          4005,
          21115,
          188,
          163,
          49,
          64,
          161,
          6,
          140,
          103694,
          144,
          3760,
          70,
          17,
          3769,
          13581,
          6999,
          31,
          5529,
          2774,
          4,
          38,
          63977,
          2821,
          235,
          39,
          162034,
          28302,
          29,
          1141,
          19,
          470,
          5074,
          190,
          165,
          35,
          127,
          2403,
          293,
          3880,
          52,
          39,
          118,
          329,
          8644,
          185,
          456,
          84,
          81,
          577,
          2853,
          740,
          22090,
          69,
          176
         ]
        },
        {
         "colorbar": {
          "len": 0.5,
          "tickformat": ".1s",
          "title": {
           "text": "Ratings"
          }
         },
         "colorscale": [
          [
           0,
           "rgb(247,251,255)"
          ],
          [
           0.125,
           "rgb(222,235,247)"
          ],
          [
           0.25,
           "rgb(198,219,239)"
          ],
          [
           0.375,
           "rgb(158,202,225)"
          ],
          [
           0.5,
           "rgb(107,174,214)"
          ],
          [
           0.625,
           "rgb(66,146,198)"
          ],
          [
           0.75,
           "rgb(33,113,181)"
          ],
          [
           0.875,
           "rgb(8,81,156)"
          ],
          [
           1,
           "rgb(8,48,107)"
          ]
         ],
         "hovertemplate": "<b>%{location}</b><br>Count: %{z}<extra></extra>",
         "locationmode": "USA-states",
         "locations": [
          "AK",
          "AL",
          "AR",
          "AZ",
          "CA",
          "CO",
          "CT",
          "DE",
          "FL",
          "GA",
          "HI",
          "IA",
          "ID",
          "IL",
          "IN",
          "KS",
          "KY",
          "LA",
          "MA",
          "MD",
          "ME",
          "MI",
          "MN",
          "MO",
          "MS",
          "MT",
          "NC",
          "ND",
          "NE",
          "NH",
          "NJ",
          "NM",
          "NV",
          "NY",
          "OH",
          "OK",
          "OR",
          "PA",
          "RI",
          "SC",
          "SD",
          "TN",
          "TX",
          "UT",
          "VA",
          "VT",
          "WA",
          "WI",
          "WV",
          "WY"
         ],
         "type": "choropleth",
         "visible": true,
         "z": [
          30343,
          6417,
          2375,
          21753,
          544863,
          190860,
          15851,
          13110,
          48143,
          47359,
          15589,
          15101,
          18162,
          107476,
          35763,
          9560,
          14086,
          16482,
          84750,
          82274,
          58284,
          110140,
          56061,
          106171,
          3325,
          14888,
          57404,
          974,
          8717,
          35457,
          31575,
          10343,
          9399,
          245616,
          78132,
          20203,
          172017,
          117438,
          6551,
          19848,
          1190,
          17598,
          72369,
          30356,
          49280,
          74966,
          93126,
          164950,
          2919,
          4405
         ]
        },
        {
         "colorscale": [
          [
           0,
           "rgb(255,245,240)"
          ],
          [
           0.125,
           "rgb(254,224,210)"
          ],
          [
           0.25,
           "rgb(252,187,161)"
          ],
          [
           0.375,
           "rgb(252,146,114)"
          ],
          [
           0.5,
           "rgb(251,106,74)"
          ],
          [
           0.625,
           "rgb(239,59,44)"
          ],
          [
           0.75,
           "rgb(203,24,29)"
          ],
          [
           0.875,
           "rgb(165,15,21)"
          ],
          [
           1,
           "rgb(103,0,13)"
          ]
         ],
         "hovertemplate": "<b>%{location}</b><br>Count: %{z}<extra></extra>",
         "locationmode": "country names",
         "locations": [
          "Abkhazia",
          "Albania",
          "Algeria",
          "Andorra",
          "Angola",
          "Antigua & Barbuda",
          "Argentina",
          "Armenia",
          "Aruba",
          "Australia",
          "Austria",
          "Azerbaijan",
          "Bahamas",
          "Bangladesh",
          "Barbados",
          "Belarus",
          "Belgium",
          "Belize",
          "Benin",
          "Bermuda",
          "Bhutan",
          "Bolivia",
          "Bonaire",
          "Bosnia and Herzegovina",
          "Botswana",
          "Brazil",
          "Bulgaria",
          "Burkina Faso",
          "Burundi",
          "Cambodia",
          "Cameroon",
          "Canada",
          "Cape Verde Islands",
          "Cayman Islands",
          "Central African Republic",
          "Chad",
          "Chile",
          "China",
          "Colombia",
          "Congo",
          "Cook Islands",
          "Costa Rica",
          "Croatia",
          "Cuba",
          "Curaçao",
          "Cyprus",
          "Czech Republic",
          "Dem Rep of Congo",
          "Denmark",
          "Dominica",
          "Dominican Republic",
          "Ecuador",
          "Egypt",
          "El Salvador",
          "England",
          "Eritrea",
          "Estonia",
          "Ethiopia",
          "Falkland Islands",
          "Faroe Islands",
          "Fiji Islands",
          "Finland",
          "France",
          "French Guiana",
          "French Polynesia",
          "Gabon",
          "Gambia",
          "Georgia",
          "Germany",
          "Ghana",
          "Gibraltar",
          "Greece",
          "Greenland",
          "Grenada",
          "Guadeloupe",
          "Guam",
          "Guatemala",
          "Guernsey",
          "Guinea",
          "Guinea-Bissau",
          "Guyana",
          "Haiti",
          "Honduras",
          "Hong Kong",
          "Hungary",
          "Iceland",
          "India",
          "Indonesia",
          "Iran",
          "Iraq",
          "Ireland",
          "Isle of Man",
          "Israel",
          "Italy",
          "Ivory Coast",
          "Jamaica",
          "Japan",
          "Jersey",
          "Jordan",
          "Kazakhstan",
          "Kenya",
          "Kosovo",
          "Kyrgyzstan",
          "Laos",
          "Latvia",
          "Lebanon",
          "Lesotho",
          "Liberia",
          "Libya",
          "Liechtenstein",
          "Lithuania",
          "Luxembourg",
          "Macau",
          "Macedonia",
          "Madagascar",
          "Malawi",
          "Malaysia",
          "Mali",
          "Malta",
          "Martinique",
          "Mauritius",
          "Mayotte",
          "Mexico",
          "Micronesia",
          "Moldova",
          "Monaco",
          "Mongolia",
          "Montenegro",
          "Morocco",
          "Mozambique",
          "Myanmar",
          "Nagorno-Karabakh",
          "Namibia",
          "Nepal",
          "Netherlands",
          "New Caledonia",
          "New Zealand",
          "Nicaragua",
          "Niger",
          "Nigeria",
          "Norfolk Island",
          "North Korea",
          "Northern Ireland",
          "Norway",
          "Pakistan",
          "Palau",
          "Palestine",
          "Panama",
          "Papua New Guinea",
          "Paraguay",
          "Peru",
          "Philippines",
          "Poland",
          "Portugal",
          "Puerto Rico",
          "Reunion",
          "Romania",
          "Russia",
          "Rwanda",
          "Saint Lucia",
          "Saint Vincent and The Grenadines",
          "Samoa",
          "San Marino",
          "Sao Tome and Principe",
          "Saudi Arabia",
          "Scotland",
          "Senegal",
          "Serbia",
          "Seychelles",
          "Sierra Leone",
          "Singapore",
          "Slovak Republic",
          "Slovenia",
          "Solomon Islands",
          "South Africa",
          "South Korea",
          "South Ossetia",
          "South Sudan",
          "Spain",
          "Sri Lanka",
          "Suriname",
          "Swaziland",
          "Sweden",
          "Switzerland",
          "Syria",
          "Taiwan",
          "Tajikistan",
          "Tanzania",
          "Thailand",
          "Tibet",
          "Togo",
          "Tonga",
          "Transdniestra",
          "Trinidad & Tobago",
          "Tunisia",
          "Turkey",
          "Turkish Republic of Cyprus",
          "Turkmenistan",
          "Turks and Caicos Islands",
          "Uganda",
          "Ukraine",
          "United Arab Emirates",
          "Uruguay",
          "Uzbekistan",
          "Vanuatu",
          "Venezuela",
          "Vietnam",
          "Virgin Islands (U.S.)",
          "Wales",
          "Zambia",
          "Zimbabwe"
         ],
         "showscale": false,
         "type": "choropleth",
         "visible": false,
         "z": [
          3,
          14,
          7,
          3,
          3,
          1,
          191,
          8,
          2,
          513,
          264,
          6,
          4,
          1,
          3,
          39,
          386,
          2,
          2,
          2,
          6,
          20,
          1,
          23,
          2,
          321,
          27,
          2,
          1,
          19,
          3,
          800,
          1,
          4,
          1,
          1,
          129,
          181,
          31,
          1,
          2,
          34,
          58,
          7,
          3,
          10,
          434,
          3,
          245,
          1,
          3,
          33,
          3,
          5,
          2008,
          2,
          66,
          8,
          1,
          3,
          3,
          112,
          749,
          1,
          1,
          1,
          1,
          21,
          1883,
          3,
          1,
          57,
          7,
          1,
          3,
          2,
          7,
          4,
          1,
          2,
          1,
          1,
          3,
          25,
          135,
          15,
          90,
          9,
          7,
          1,
          116,
          5,
          66,
          869,
          2,
          3,
          302,
          2,
          4,
          27,
          4,
          6,
          11,
          5,
          53,
          5,
          1,
          1,
          1,
          2,
          81,
          15,
          1,
          7,
          2,
          1,
          5,
          1,
          5,
          1,
          5,
          1,
          251,
          1,
          17,
          1,
          8,
          4,
          1,
          1,
          5,
          1,
          3,
          7,
          457,
          2,
          213,
          6,
          1,
          6,
          1,
          18,
          30,
          223,
          1,
          1,
          3,
          7,
          1,
          7,
          42,
          29,
          312,
          93,
          8,
          3,
          46,
          316,
          4,
          3,
          2,
          2,
          4,
          1,
          5,
          173,
          1,
          53,
          1,
          1,
          23,
          95,
          101,
          1,
          186,
          54,
          1,
          1,
          699,
          4,
          2,
          1,
          341,
          508,
          2,
          26,
          6,
          5,
          73,
          2,
          1,
          3,
          5,
          2,
          5,
          12,
          1,
          5,
          1,
          4,
          121,
          2,
          12,
          14,
          3,
          7,
          62,
          3,
          123,
          2,
          1
         ]
        },
        {
         "colorbar": {
          "len": 0.5,
          "tickformat": ".1s",
          "title": {
           "text": "Breweries"
          }
         },
         "colorscale": [
          [
           0,
           "rgb(255,245,240)"
          ],
          [
           0.125,
           "rgb(254,224,210)"
          ],
          [
           0.25,
           "rgb(252,187,161)"
          ],
          [
           0.375,
           "rgb(252,146,114)"
          ],
          [
           0.5,
           "rgb(251,106,74)"
          ],
          [
           0.625,
           "rgb(239,59,44)"
          ],
          [
           0.75,
           "rgb(203,24,29)"
          ],
          [
           0.875,
           "rgb(165,15,21)"
          ],
          [
           1,
           "rgb(103,0,13)"
          ]
         ],
         "hovertemplate": "<b>%{location}</b><br>Count: %{z}<extra></extra>",
         "locationmode": "USA-states",
         "locations": [
          "AK",
          "AL",
          "AR",
          "AZ",
          "CA",
          "CO",
          "CT",
          "DE",
          "FL",
          "GA",
          "HI",
          "IA",
          "ID",
          "IL",
          "IN",
          "KS",
          "KY",
          "LA",
          "MA",
          "MD",
          "ME",
          "MI",
          "MN",
          "MO",
          "MS",
          "MT",
          "NC",
          "ND",
          "NE",
          "NH",
          "NJ",
          "NM",
          "NV",
          "NY",
          "OH",
          "OK",
          "OR",
          "PA",
          "RI",
          "SC",
          "SD",
          "TN",
          "TX",
          "UT",
          "VA",
          "VT",
          "WA",
          "WI",
          "WV",
          "WY"
         ],
         "type": "choropleth",
         "visible": false,
         "z": [
          33,
          36,
          27,
          109,
          781,
          364,
          64,
          22,
          214,
          84,
          21,
          86,
          59,
          214,
          146,
          33,
          43,
          29,
          141,
          86,
          81,
          283,
          158,
          105,
          12,
          67,
          207,
          15,
          38,
          67,
          98,
          58,
          53,
          330,
          212,
          25,
          240,
          279,
          18,
          61,
          19,
          79,
          211,
          26,
          185,
          82,
          351,
          192,
          23,
          26
         ]
        },
        {
         "colorscale": [
          [
           0,
           "rgb(247,252,245)"
          ],
          [
           0.125,
           "rgb(229,245,224)"
          ],
          [
           0.25,
           "rgb(199,233,192)"
          ],
          [
           0.375,
           "rgb(161,217,155)"
          ],
          [
           0.5,
           "rgb(116,196,118)"
          ],
          [
           0.625,
           "rgb(65,171,93)"
          ],
          [
           0.75,
           "rgb(35,139,69)"
          ],
          [
           0.875,
           "rgb(0,109,44)"
          ],
          [
           1,
           "rgb(0,68,27)"
          ]
         ],
         "hovertemplate": "<b>%{location}</b><br>Count: %{z}<extra></extra>",
         "locationmode": "country names",
         "locations": [
          "Abkhazia",
          "Afghanistan",
          "Albania",
          "Algeria",
          "American Samoa",
          "Andorra",
          "Antigua and Barbuda",
          "Argentina",
          "Armenia",
          "Ascension Island",
          "Australia",
          "Austria",
          "Azerbaijan",
          "Bahamas",
          "Bangladesh",
          "Barbados",
          "Belarus",
          "Belgium",
          "Belize",
          "Bermuda",
          "Bolivia",
          "Bosnia and Herzegovina",
          "Botswana",
          "Brazil",
          "Bulgaria",
          "Burkina Faso",
          "Burundi",
          "Cambodia",
          "Canada",
          "Cayman Islands",
          "Chile",
          "China",
          "Colombia",
          "Costa Rica",
          "Croatia",
          "Cuba",
          "Cyprus",
          "Czech Republic",
          "Dem Rep of Congo",
          "Denmark",
          "Dominican Republic",
          "East Timor",
          "Ecuador",
          "Egypt",
          "El Salvador",
          "England",
          "Estonia",
          "Falkland Islands",
          "Faroe Islands",
          "Fiji Islands",
          "Finland",
          "France",
          "French Guiana",
          "Germany",
          "Ghana",
          "Greece",
          "Greenland",
          "Guam",
          "Guatemala",
          "Haiti",
          "Hawaii",
          "Honduras",
          "Hong Kong",
          "Hungary",
          "Iceland",
          "India",
          "Indonesia",
          "Iran",
          "Iraq",
          "Ireland",
          "Isle of Man",
          "Israel",
          "Italy",
          "Ivory Coast",
          "Jamaica",
          "Japan",
          "Jersey",
          "Jordan",
          "Kazakhstan",
          "Kenya",
          "Kosovo",
          "Kyrgyzstan",
          "Laos",
          "Latvia",
          "Lebanon",
          "Lesotho",
          "Liechtenstein",
          "Lithuania",
          "Luxembourg",
          "Macau",
          "Macedonia",
          "Malaysia",
          "Malta",
          "Marshall Islands",
          "Mauritius",
          "Mexico",
          "Micronesia",
          "Moldova",
          "Monaco",
          "Mongolia",
          "Montenegro",
          "Montserrat",
          "Morocco",
          "Mozambique",
          "Nagorno-Karabakh",
          "Namibia",
          "Nepal",
          "Netherlands",
          "New Zealand",
          "Nicaragua",
          "Nigeria",
          "Norfolk Island",
          "North Korea",
          "Northern Ireland",
          "Norway",
          "Oman",
          "Pakistan",
          "Palestine",
          "Panama",
          "Papua New Guinea",
          "Paraguay",
          "Peru",
          "Philippines",
          "Poland",
          "Portugal",
          "Puerto Rico",
          "Romania",
          "Russia",
          "Saint Helena",
          "Saint Lucia",
          "Saint Vincent and The Grenadines",
          "San Marino",
          "Saudi Arabia",
          "Scotland",
          "Serbia",
          "Singapore",
          "Sint Maarten",
          "Slovak Republic",
          "Slovakia",
          "Slovenia",
          "South Africa",
          "South Korea",
          "Spain",
          "Sudan",
          "Sweden",
          "Switzerland",
          "Syria",
          "Taiwan",
          "Tajikistan",
          "Tanzania",
          "Thailand",
          "Tibet",
          "Togo",
          "Trinidad and Tobago",
          "Tunisia",
          "Turkey",
          "Tuvalu",
          "Uganda",
          "Ukraine",
          "United Arab Emirates",
          "Uruguay",
          "Uzbekistan",
          "Vanuatu",
          "Vatican City",
          "Venezuela",
          "Vietnam",
          "Virgin Islands (British)",
          "Virgin Islands (U.S.)",
          "Wales",
          "Yemen",
          "Zambia",
          "Zimbabwe"
         ],
         "showscale": false,
         "type": "choropleth",
         "visible": false,
         "z": [
          3,
          8,
          4,
          2,
          1,
          9,
          1,
          76,
          3,
          3,
          1476,
          126,
          5,
          7,
          2,
          2,
          22,
          1027,
          3,
          2,
          5,
          32,
          5,
          810,
          44,
          1,
          1,
          10,
          3255,
          5,
          94,
          59,
          29,
          16,
          155,
          1,
          28,
          151,
          2,
          1031,
          8,
          1,
          15,
          5,
          22,
          2734,
          134,
          1,
          9,
          1,
          452,
          539,
          1,
          891,
          2,
          166,
          1,
          4,
          9,
          1,
          2,
          1,
          32,
          229,
          54,
          40,
          6,
          1,
          2,
          293,
          7,
          78,
          924,
          1,
          1,
          118,
          4,
          3,
          1,
          5,
          2,
          1,
          2,
          78,
          6,
          1,
          1,
          49,
          25,
          1,
          12,
          11,
          7,
          2,
          3,
          226,
          1,
          18,
          2,
          1,
          6,
          1,
          3,
          2,
          1,
          3,
          3,
          1095,
          453,
          3,
          3,
          2,
          1,
          57,
          672,
          1,
          4,
          2,
          19,
          1,
          14,
          14,
          31,
          1701,
          95,
          32,
          99,
          196,
          2,
          1,
          1,
          2,
          1,
          378,
          79,
          58,
          1,
          93,
          2,
          113,
          176,
          63,
          835,
          1,
          1004,
          199,
          2,
          46,
          1,
          4,
          47,
          1,
          1,
          2,
          5,
          81,
          1,
          2,
          61,
          4,
          10,
          2,
          2,
          3,
          12,
          8,
          1,
          15,
          133,
          1,
          2,
          4
         ]
        },
        {
         "colorbar": {
          "len": 0.5,
          "tickformat": ".1s",
          "title": {
           "text": "Users"
          }
         },
         "colorscale": [
          [
           0,
           "rgb(247,252,245)"
          ],
          [
           0.125,
           "rgb(229,245,224)"
          ],
          [
           0.25,
           "rgb(199,233,192)"
          ],
          [
           0.375,
           "rgb(161,217,155)"
          ],
          [
           0.5,
           "rgb(116,196,118)"
          ],
          [
           0.625,
           "rgb(65,171,93)"
          ],
          [
           0.75,
           "rgb(35,139,69)"
          ],
          [
           0.875,
           "rgb(0,109,44)"
          ],
          [
           1,
           "rgb(0,68,27)"
          ]
         ],
         "hovertemplate": "<b>%{location}</b><br>Count: %{z}<extra></extra>",
         "locationmode": "USA-states",
         "locations": [
          "AK",
          "AL",
          "AR",
          "AZ",
          "CA",
          "CO",
          "CT",
          "DE",
          "FL",
          "GA",
          "HI",
          "IA",
          "ID",
          "IL",
          "IN",
          "KS",
          "KY",
          "LA",
          "MA",
          "MD",
          "ME",
          "MI",
          "MN",
          "MO",
          "MS",
          "MT",
          "NC",
          "ND",
          "NE",
          "NH",
          "NJ",
          "NM",
          "NV",
          "NY",
          "OH",
          "OK",
          "OR",
          "PA",
          "RI",
          "SC",
          "SD",
          "TN",
          "TX",
          "UT",
          "VA",
          "VT",
          "WA",
          "WI",
          "WV",
          "WY"
         ],
         "type": "choropleth",
         "visible": false,
         "z": [
          78,
          821,
          186,
          509,
          2804,
          774,
          286,
          95,
          1269,
          725,
          54,
          302,
          140,
          1406,
          619,
          271,
          291,
          152,
          674,
          532,
          131,
          1141,
          768,
          490,
          85,
          85,
          726,
          47,
          130,
          178,
          835,
          115,
          150,
          1352,
          1158,
          213,
          572,
          1632,
          103,
          265,
          44,
          337,
          1423,
          109,
          720,
          114,
          976,
          838,
          101,
          29
         ]
        },
        {
         "colorscale": [
          [
           0,
           "rgb(255,245,235)"
          ],
          [
           0.125,
           "rgb(254,230,206)"
          ],
          [
           0.25,
           "rgb(253,208,162)"
          ],
          [
           0.375,
           "rgb(253,174,107)"
          ],
          [
           0.5,
           "rgb(253,141,60)"
          ],
          [
           0.625,
           "rgb(241,105,19)"
          ],
          [
           0.75,
           "rgb(217,72,1)"
          ],
          [
           0.875,
           "rgb(166,54,3)"
          ],
          [
           1,
           "rgb(127,39,4)"
          ]
         ],
         "hovertemplate": "<b>%{location}</b><br>Count: %{z}<extra></extra>",
         "locationmode": "country names",
         "locations": [
          "Abkhazia",
          "Albania",
          "Algeria",
          "Andorra",
          "Angola",
          "Antigua & Barbuda",
          "Argentina",
          "Armenia",
          "Aruba",
          "Australia",
          "Austria",
          "Azerbaijan",
          "Bahamas",
          "Bangladesh",
          "Barbados",
          "Belarus",
          "Belgium",
          "Belize",
          "Benin",
          "Bermuda",
          "Bhutan",
          "Bolivia",
          "Bonaire",
          "Bosnia and Herzegovina",
          "Botswana",
          "Brazil",
          "Bulgaria",
          "Burkina Faso",
          "Burundi",
          "Cambodia",
          "Cameroon",
          "Canada",
          "Cape Verde Islands",
          "Cayman Islands",
          "Central African Republic",
          "Chad",
          "Chile",
          "China",
          "Colombia",
          "Congo",
          "Cook Islands",
          "Costa Rica",
          "Croatia",
          "Cuba",
          "Curaçao",
          "Cyprus",
          "Czech Republic",
          "Dem Rep of Congo",
          "Denmark",
          "Dominica",
          "Dominican Republic",
          "Ecuador",
          "Egypt",
          "El Salvador",
          "England",
          "Eritrea",
          "Estonia",
          "Ethiopia",
          "Falkland Islands",
          "Faroe Islands",
          "Fiji Islands",
          "Finland",
          "France",
          "French Guiana",
          "French Polynesia",
          "Gabon",
          "Gambia",
          "Georgia",
          "Germany",
          "Ghana",
          "Gibraltar",
          "Greece",
          "Greenland",
          "Grenada",
          "Guadeloupe",
          "Guam",
          "Guatemala",
          "Guernsey",
          "Guinea",
          "Guinea-Bissau",
          "Guyana",
          "Haiti",
          "Honduras",
          "Hong Kong",
          "Hungary",
          "Iceland",
          "India",
          "Indonesia",
          "Iran",
          "Iraq",
          "Ireland",
          "Isle of Man",
          "Israel",
          "Italy",
          "Ivory Coast",
          "Jamaica",
          "Japan",
          "Jersey",
          "Jordan",
          "Kazakhstan",
          "Kenya",
          "Kosovo",
          "Kyrgyzstan",
          "Laos",
          "Latvia",
          "Lebanon",
          "Lesotho",
          "Liechtenstein",
          "Lithuania",
          "Luxembourg",
          "Macau",
          "Macedonia",
          "Madagascar",
          "Malawi",
          "Malaysia",
          "Mali",
          "Malta",
          "Martinique",
          "Mauritius",
          "Mayotte",
          "Mexico",
          "Moldova",
          "Monaco",
          "Mongolia",
          "Montenegro",
          "Morocco",
          "Mozambique",
          "Myanmar",
          "Namibia",
          "Nepal",
          "Netherlands",
          "New Caledonia",
          "New Zealand",
          "Nicaragua",
          "Niger",
          "Nigeria",
          "Norfolk Island",
          "North Korea",
          "Northern Ireland",
          "Norway",
          "Pakistan",
          "Palau",
          "Palestine",
          "Panama",
          "Papua New Guinea",
          "Paraguay",
          "Peru",
          "Philippines",
          "Poland",
          "Portugal",
          "Puerto Rico",
          "Reunion",
          "Romania",
          "Russia",
          "Rwanda",
          "Saint Lucia",
          "Saint Vincent and The Grenadines",
          "Samoa",
          "San Marino",
          "Sao Tome and Principe",
          "Saudi Arabia",
          "Scotland",
          "Senegal",
          "Serbia",
          "Seychelles",
          "Sierra Leone",
          "Singapore",
          "Slovak Republic",
          "Slovenia",
          "Solomon Islands",
          "South Africa",
          "South Korea",
          "South Ossetia",
          "South Sudan",
          "Spain",
          "Sri Lanka",
          "Suriname",
          "Swaziland",
          "Sweden",
          "Switzerland",
          "Syria",
          "Taiwan",
          "Tajikistan",
          "Tanzania",
          "Thailand",
          "Tibet",
          "Togo",
          "Tonga",
          "Transdniestra",
          "Trinidad & Tobago",
          "Tunisia",
          "Turkey",
          "Turkish Republic of Cyprus",
          "Turkmenistan",
          "Turks and Caicos Islands",
          "Uganda",
          "Ukraine",
          "Uruguay",
          "Uzbekistan",
          "Vanuatu",
          "Venezuela",
          "Vietnam",
          "Virgin Islands (U.S.)",
          "Wales",
          "Zambia",
          "Zimbabwe"
         ],
         "showscale": false,
         "type": "choropleth",
         "visible": false,
         "z": [
          6,
          45,
          15,
          23,
          4,
          2,
          538,
          41,
          3,
          6029,
          2006,
          17,
          21,
          2,
          20,
          537,
          6474,
          9,
          4,
          6,
          14,
          57,
          1,
          116,
          2,
          1476,
          161,
          11,
          2,
          93,
          10,
          20571,
          5,
          10,
          2,
          3,
          415,
          1023,
          122,
          2,
          7,
          120,
          377,
          16,
          6,
          44,
          3867,
          10,
          7842,
          3,
          13,
          131,
          27,
          44,
          45920,
          3,
          1054,
          16,
          3,
          87,
          13,
          3057,
          5240,
          3,
          5,
          3,
          3,
          69,
          17777,
          11,
          1,
          261,
          36,
          8,
          14,
          4,
          60,
          29,
          2,
          1,
          5,
          1,
          7,
          207,
          1210,
          265,
          389,
          42,
          2,
          2,
          1236,
          88,
          466,
          6402,
          5,
          23,
          4250,
          32,
          14,
          79,
          33,
          20,
          17,
          15,
          690,
          22,
          1,
          25,
          968,
          78,
          2,
          48,
          9,
          4,
          20,
          2,
          37,
          5,
          26,
          1,
          881,
          162,
          9,
          15,
          10,
          9,
          7,
          16,
          24,
          15,
          6610,
          11,
          2929,
          20,
          3,
          18,
          4,
          31,
          269,
          4768,
          5,
          3,
          16,
          28,
          3,
          19,
          169,
          131,
          5369,
          566,
          31,
          17,
          265,
          2440,
          9,
          13,
          4,
          4,
          17,
          1,
          1,
          3851,
          4,
          279,
          4,
          1,
          223,
          980,
          515,
          3,
          843,
          295,
          1,
          2,
          4185,
          20,
          6,
          4,
          6625,
          4302,
          2,
          177,
          2,
          17,
          334,
          4,
          9,
          4,
          14,
          13,
          15,
          109,
          5,
          8,
          7,
          11,
          1000,
          45,
          32,
          10,
          23,
          209,
          14,
          1894,
          3,
          5
         ]
        },
        {
         "colorbar": {
          "len": 0.5,
          "tickformat": ".1s",
          "title": {
           "text": "Beers"
          }
         },
         "colorscale": [
          [
           0,
           "rgb(255,245,235)"
          ],
          [
           0.125,
           "rgb(254,230,206)"
          ],
          [
           0.25,
           "rgb(253,208,162)"
          ],
          [
           0.375,
           "rgb(253,174,107)"
          ],
          [
           0.5,
           "rgb(253,141,60)"
          ],
          [
           0.625,
           "rgb(241,105,19)"
          ],
          [
           0.75,
           "rgb(217,72,1)"
          ],
          [
           0.875,
           "rgb(166,54,3)"
          ],
          [
           1,
           "rgb(127,39,4)"
          ]
         ],
         "hovertemplate": "<b>%{location}</b><br>Count: %{z}<extra></extra>",
         "locationmode": "USA-states",
         "locations": [
          "AK",
          "AL",
          "AR",
          "AZ",
          "CA",
          "CO",
          "CT",
          "DE",
          "FL",
          "GA",
          "HI",
          "IA",
          "ID",
          "IL",
          "IN",
          "KS",
          "KY",
          "LA",
          "MA",
          "MD",
          "ME",
          "MI",
          "MN",
          "MO",
          "MS",
          "MT",
          "NC",
          "ND",
          "NE",
          "NH",
          "NJ",
          "NM",
          "NV",
          "NY",
          "OH",
          "OK",
          "OR",
          "PA",
          "RI",
          "SC",
          "SD",
          "TN",
          "TX",
          "UT",
          "VA",
          "VT",
          "WA",
          "WI",
          "WV",
          "WY"
         ],
         "type": "choropleth",
         "visible": false,
         "z": [
          1293,
          825,
          251,
          2681,
          22774,
          11849,
          1425,
          611,
          6379,
          2234,
          368,
          1168,
          1637,
          7237,
          4619,
          614,
          1708,
          444,
          3681,
          2761,
          1475,
          7297,
          4551,
          2886,
          154,
          1134,
          5013,
          207,
          892,
          1936,
          2688,
          961,
          1348,
          7996,
          6314,
          469,
          7315,
          8498,
          449,
          1120,
          215,
          1380,
          4265,
          1006,
          5754,
          2191,
          7592,
          4502,
          443,
          557
         ]
        }
       ],
       "layout": {
        "geo": {
         "projection": {
          "type": "equirectangular"
         },
         "showcoastlines": true,
         "showframe": false
        },
        "height": 600,
        "template": {
         "data": {
          "bar": [
           {
            "error_x": {
             "color": "#2a3f5f"
            },
            "error_y": {
             "color": "#2a3f5f"
            },
            "marker": {
             "line": {
              "color": "#E5ECF6",
              "width": 0.5
             },
             "pattern": {
              "fillmode": "overlay",
              "size": 10,
              "solidity": 0.2
             }
            },
            "type": "bar"
           }
          ],
          "barpolar": [
           {
            "marker": {
             "line": {
              "color": "#E5ECF6",
              "width": 0.5
             },
             "pattern": {
              "fillmode": "overlay",
              "size": 10,
              "solidity": 0.2
             }
            },
            "type": "barpolar"
           }
          ],
          "carpet": [
           {
            "aaxis": {
             "endlinecolor": "#2a3f5f",
             "gridcolor": "white",
             "linecolor": "white",
             "minorgridcolor": "white",
             "startlinecolor": "#2a3f5f"
            },
            "baxis": {
             "endlinecolor": "#2a3f5f",
             "gridcolor": "white",
             "linecolor": "white",
             "minorgridcolor": "white",
             "startlinecolor": "#2a3f5f"
            },
            "type": "carpet"
           }
          ],
          "choropleth": [
           {
            "colorbar": {
             "outlinewidth": 0,
             "ticks": ""
            },
            "type": "choropleth"
           }
          ],
          "contour": [
           {
            "colorbar": {
             "outlinewidth": 0,
             "ticks": ""
            },
            "colorscale": [
             [
              0,
              "#0d0887"
             ],
             [
              0.1111111111111111,
              "#46039f"
             ],
             [
              0.2222222222222222,
              "#7201a8"
             ],
             [
              0.3333333333333333,
              "#9c179e"
             ],
             [
              0.4444444444444444,
              "#bd3786"
             ],
             [
              0.5555555555555556,
              "#d8576b"
             ],
             [
              0.6666666666666666,
              "#ed7953"
             ],
             [
              0.7777777777777778,
              "#fb9f3a"
             ],
             [
              0.8888888888888888,
              "#fdca26"
             ],
             [
              1,
              "#f0f921"
             ]
            ],
            "type": "contour"
           }
          ],
          "contourcarpet": [
           {
            "colorbar": {
             "outlinewidth": 0,
             "ticks": ""
            },
            "type": "contourcarpet"
           }
          ],
          "heatmap": [
           {
            "colorbar": {
             "outlinewidth": 0,
             "ticks": ""
            },
            "colorscale": [
             [
              0,
              "#0d0887"
             ],
             [
              0.1111111111111111,
              "#46039f"
             ],
             [
              0.2222222222222222,
              "#7201a8"
             ],
             [
              0.3333333333333333,
              "#9c179e"
             ],
             [
              0.4444444444444444,
              "#bd3786"
             ],
             [
              0.5555555555555556,
              "#d8576b"
             ],
             [
              0.6666666666666666,
              "#ed7953"
             ],
             [
              0.7777777777777778,
              "#fb9f3a"
             ],
             [
              0.8888888888888888,
              "#fdca26"
             ],
             [
              1,
              "#f0f921"
             ]
            ],
            "type": "heatmap"
           }
          ],
          "heatmapgl": [
           {
            "colorbar": {
             "outlinewidth": 0,
             "ticks": ""
            },
            "colorscale": [
             [
              0,
              "#0d0887"
             ],
             [
              0.1111111111111111,
              "#46039f"
             ],
             [
              0.2222222222222222,
              "#7201a8"
             ],
             [
              0.3333333333333333,
              "#9c179e"
             ],
             [
              0.4444444444444444,
              "#bd3786"
             ],
             [
              0.5555555555555556,
              "#d8576b"
             ],
             [
              0.6666666666666666,
              "#ed7953"
             ],
             [
              0.7777777777777778,
              "#fb9f3a"
             ],
             [
              0.8888888888888888,
              "#fdca26"
             ],
             [
              1,
              "#f0f921"
             ]
            ],
            "type": "heatmapgl"
           }
          ],
          "histogram": [
           {
            "marker": {
             "pattern": {
              "fillmode": "overlay",
              "size": 10,
              "solidity": 0.2
             }
            },
            "type": "histogram"
           }
          ],
          "histogram2d": [
           {
            "colorbar": {
             "outlinewidth": 0,
             "ticks": ""
            },
            "colorscale": [
             [
              0,
              "#0d0887"
             ],
             [
              0.1111111111111111,
              "#46039f"
             ],
             [
              0.2222222222222222,
              "#7201a8"
             ],
             [
              0.3333333333333333,
              "#9c179e"
             ],
             [
              0.4444444444444444,
              "#bd3786"
             ],
             [
              0.5555555555555556,
              "#d8576b"
             ],
             [
              0.6666666666666666,
              "#ed7953"
             ],
             [
              0.7777777777777778,
              "#fb9f3a"
             ],
             [
              0.8888888888888888,
              "#fdca26"
             ],
             [
              1,
              "#f0f921"
             ]
            ],
            "type": "histogram2d"
           }
          ],
          "histogram2dcontour": [
           {
            "colorbar": {
             "outlinewidth": 0,
             "ticks": ""
            },
            "colorscale": [
             [
              0,
              "#0d0887"
             ],
             [
              0.1111111111111111,
              "#46039f"
             ],
             [
              0.2222222222222222,
              "#7201a8"
             ],
             [
              0.3333333333333333,
              "#9c179e"
             ],
             [
              0.4444444444444444,
              "#bd3786"
             ],
             [
              0.5555555555555556,
              "#d8576b"
             ],
             [
              0.6666666666666666,
              "#ed7953"
             ],
             [
              0.7777777777777778,
              "#fb9f3a"
             ],
             [
              0.8888888888888888,
              "#fdca26"
             ],
             [
              1,
              "#f0f921"
             ]
            ],
            "type": "histogram2dcontour"
           }
          ],
          "mesh3d": [
           {
            "colorbar": {
             "outlinewidth": 0,
             "ticks": ""
            },
            "type": "mesh3d"
           }
          ],
          "parcoords": [
           {
            "line": {
             "colorbar": {
              "outlinewidth": 0,
              "ticks": ""
             }
            },
            "type": "parcoords"
           }
          ],
          "pie": [
           {
            "automargin": true,
            "type": "pie"
           }
          ],
          "scatter": [
           {
            "fillpattern": {
             "fillmode": "overlay",
             "size": 10,
             "solidity": 0.2
            },
            "type": "scatter"
           }
          ],
          "scatter3d": [
           {
            "line": {
             "colorbar": {
              "outlinewidth": 0,
              "ticks": ""
             }
            },
            "marker": {
             "colorbar": {
              "outlinewidth": 0,
              "ticks": ""
             }
            },
            "type": "scatter3d"
           }
          ],
          "scattercarpet": [
           {
            "marker": {
             "colorbar": {
              "outlinewidth": 0,
              "ticks": ""
             }
            },
            "type": "scattercarpet"
           }
          ],
          "scattergeo": [
           {
            "marker": {
             "colorbar": {
              "outlinewidth": 0,
              "ticks": ""
             }
            },
            "type": "scattergeo"
           }
          ],
          "scattergl": [
           {
            "marker": {
             "colorbar": {
              "outlinewidth": 0,
              "ticks": ""
             }
            },
            "type": "scattergl"
           }
          ],
          "scattermapbox": [
           {
            "marker": {
             "colorbar": {
              "outlinewidth": 0,
              "ticks": ""
             }
            },
            "type": "scattermapbox"
           }
          ],
          "scatterpolar": [
           {
            "marker": {
             "colorbar": {
              "outlinewidth": 0,
              "ticks": ""
             }
            },
            "type": "scatterpolar"
           }
          ],
          "scatterpolargl": [
           {
            "marker": {
             "colorbar": {
              "outlinewidth": 0,
              "ticks": ""
             }
            },
            "type": "scatterpolargl"
           }
          ],
          "scatterternary": [
           {
            "marker": {
             "colorbar": {
              "outlinewidth": 0,
              "ticks": ""
             }
            },
            "type": "scatterternary"
           }
          ],
          "surface": [
           {
            "colorbar": {
             "outlinewidth": 0,
             "ticks": ""
            },
            "colorscale": [
             [
              0,
              "#0d0887"
             ],
             [
              0.1111111111111111,
              "#46039f"
             ],
             [
              0.2222222222222222,
              "#7201a8"
             ],
             [
              0.3333333333333333,
              "#9c179e"
             ],
             [
              0.4444444444444444,
              "#bd3786"
             ],
             [
              0.5555555555555556,
              "#d8576b"
             ],
             [
              0.6666666666666666,
              "#ed7953"
             ],
             [
              0.7777777777777778,
              "#fb9f3a"
             ],
             [
              0.8888888888888888,
              "#fdca26"
             ],
             [
              1,
              "#f0f921"
             ]
            ],
            "type": "surface"
           }
          ],
          "table": [
           {
            "cells": {
             "fill": {
              "color": "#EBF0F8"
             },
             "line": {
              "color": "white"
             }
            },
            "header": {
             "fill": {
              "color": "#C8D4E3"
             },
             "line": {
              "color": "white"
             }
            },
            "type": "table"
           }
          ]
         },
         "layout": {
          "annotationdefaults": {
           "arrowcolor": "#2a3f5f",
           "arrowhead": 0,
           "arrowwidth": 1
          },
          "autotypenumbers": "strict",
          "coloraxis": {
           "colorbar": {
            "outlinewidth": 0,
            "ticks": ""
           }
          },
          "colorscale": {
           "diverging": [
            [
             0,
             "#8e0152"
            ],
            [
             0.1,
             "#c51b7d"
            ],
            [
             0.2,
             "#de77ae"
            ],
            [
             0.3,
             "#f1b6da"
            ],
            [
             0.4,
             "#fde0ef"
            ],
            [
             0.5,
             "#f7f7f7"
            ],
            [
             0.6,
             "#e6f5d0"
            ],
            [
             0.7,
             "#b8e186"
            ],
            [
             0.8,
             "#7fbc41"
            ],
            [
             0.9,
             "#4d9221"
            ],
            [
             1,
             "#276419"
            ]
           ],
           "sequential": [
            [
             0,
             "#0d0887"
            ],
            [
             0.1111111111111111,
             "#46039f"
            ],
            [
             0.2222222222222222,
             "#7201a8"
            ],
            [
             0.3333333333333333,
             "#9c179e"
            ],
            [
             0.4444444444444444,
             "#bd3786"
            ],
            [
             0.5555555555555556,
             "#d8576b"
            ],
            [
             0.6666666666666666,
             "#ed7953"
            ],
            [
             0.7777777777777778,
             "#fb9f3a"
            ],
            [
             0.8888888888888888,
             "#fdca26"
            ],
            [
             1,
             "#f0f921"
            ]
           ],
           "sequentialminus": [
            [
             0,
             "#0d0887"
            ],
            [
             0.1111111111111111,
             "#46039f"
            ],
            [
             0.2222222222222222,
             "#7201a8"
            ],
            [
             0.3333333333333333,
             "#9c179e"
            ],
            [
             0.4444444444444444,
             "#bd3786"
            ],
            [
             0.5555555555555556,
             "#d8576b"
            ],
            [
             0.6666666666666666,
             "#ed7953"
            ],
            [
             0.7777777777777778,
             "#fb9f3a"
            ],
            [
             0.8888888888888888,
             "#fdca26"
            ],
            [
             1,
             "#f0f921"
            ]
           ]
          },
          "colorway": [
           "#636efa",
           "#EF553B",
           "#00cc96",
           "#ab63fa",
           "#FFA15A",
           "#19d3f3",
           "#FF6692",
           "#B6E880",
           "#FF97FF",
           "#FECB52"
          ],
          "font": {
           "color": "#2a3f5f"
          },
          "geo": {
           "bgcolor": "white",
           "lakecolor": "white",
           "landcolor": "#E5ECF6",
           "showlakes": true,
           "showland": true,
           "subunitcolor": "white"
          },
          "hoverlabel": {
           "align": "left"
          },
          "hovermode": "closest",
          "mapbox": {
           "style": "light"
          },
          "paper_bgcolor": "white",
          "plot_bgcolor": "#E5ECF6",
          "polar": {
           "angularaxis": {
            "gridcolor": "white",
            "linecolor": "white",
            "ticks": ""
           },
           "bgcolor": "#E5ECF6",
           "radialaxis": {
            "gridcolor": "white",
            "linecolor": "white",
            "ticks": ""
           }
          },
          "scene": {
           "xaxis": {
            "backgroundcolor": "#E5ECF6",
            "gridcolor": "white",
            "gridwidth": 2,
            "linecolor": "white",
            "showbackground": true,
            "ticks": "",
            "zerolinecolor": "white"
           },
           "yaxis": {
            "backgroundcolor": "#E5ECF6",
            "gridcolor": "white",
            "gridwidth": 2,
            "linecolor": "white",
            "showbackground": true,
            "ticks": "",
            "zerolinecolor": "white"
           },
           "zaxis": {
            "backgroundcolor": "#E5ECF6",
            "gridcolor": "white",
            "gridwidth": 2,
            "linecolor": "white",
            "showbackground": true,
            "ticks": "",
            "zerolinecolor": "white"
           }
          },
          "shapedefaults": {
           "line": {
            "color": "#2a3f5f"
           }
          },
          "ternary": {
           "aaxis": {
            "gridcolor": "white",
            "linecolor": "white",
            "ticks": ""
           },
           "baxis": {
            "gridcolor": "white",
            "linecolor": "white",
            "ticks": ""
           },
           "bgcolor": "#E5ECF6",
           "caxis": {
            "gridcolor": "white",
            "linecolor": "white",
            "ticks": ""
           }
          },
          "title": {
           "x": 0.05
          },
          "xaxis": {
           "automargin": true,
           "gridcolor": "white",
           "linecolor": "white",
           "ticks": "",
           "title": {
            "standoff": 15
           },
           "zerolinecolor": "white",
           "zerolinewidth": 2
          },
          "yaxis": {
           "automargin": true,
           "gridcolor": "white",
           "linecolor": "white",
           "ticks": "",
           "title": {
            "standoff": 15
           },
           "zerolinecolor": "white",
           "zerolinewidth": 2
          }
         }
        },
        "title": {
         "text": "Beer Statistics by Country and US State",
         "x": 0.5,
         "xanchor": "center"
        },
        "updatemenus": [
         {
          "buttons": [
           {
            "args": [
             {
              "visible": [
               true,
               true,
               false,
               false,
               false,
               false,
               false,
               false
              ]
             }
            ],
            "label": "Ratings",
            "method": "update"
           },
           {
            "args": [
             {
              "visible": [
               false,
               false,
               true,
               true,
               false,
               false,
               false,
               false
              ]
             }
            ],
            "label": "Breweries",
            "method": "update"
           },
           {
            "args": [
             {
              "visible": [
               false,
               false,
               false,
               false,
               true,
               true,
               false,
               false
              ]
             }
            ],
            "label": "Users",
            "method": "update"
           },
           {
            "args": [
             {
              "visible": [
               false,
               false,
               false,
               false,
               false,
               false,
               true,
               true
              ]
             }
            ],
            "label": "Beers",
            "method": "update"
           }
          ],
          "direction": "down",
          "x": 0.1,
          "xanchor": "left",
          "y": 1,
          "yanchor": "top"
         }
        ],
        "width": 800
       }
      }
     },
     "metadata": {},
     "output_type": "display_data"
    }
   ],
   "source": [
    "import plotly.graph_objects as go\n",
    "\n",
    "# Initialize figure\n",
    "fig = go.Figure()\n",
    "\n",
    "# Ratings\n",
    "fig.add_trace(go.Choropleth(\n",
    "    locations=ratings_per_country['country'],\n",
    "    locationmode=\"country names\",\n",
    "    z=ratings_per_country['nbr_ratings'],\n",
    "    colorscale=\"Blues\",\n",
    "    showscale=False,  # Suppress legend for countries\n",
    "    hovertemplate=\"<b>%{location}</b><br>Count: %{z}<extra></extra>\",  # Customized hover\n",
    "    visible=True\n",
    "))\n",
    "fig.add_trace(go.Choropleth(\n",
    "    locations=ratings_per_state['state_abbrev'],\n",
    "    locationmode=\"USA-states\",\n",
    "    z=ratings_per_state['nbr_ratings'],\n",
    "    colorscale=\"Blues\",\n",
    "    colorbar=dict(\n",
    "        title=\"Ratings\",\n",
    "        tickformat=\".1s\",\n",
    "        len=0.5\n",
    "    ),\n",
    "    hovertemplate=\"<b>%{location}</b><br>Count: %{z}<extra></extra>\",  # Customized hover\n",
    "    visible=True\n",
    "))\n",
    "\n",
    "# Breweries\n",
    "fig.add_trace(go.Choropleth(\n",
    "    locations=breweries_per_country['country'],\n",
    "    locationmode=\"country names\",\n",
    "    z=breweries_per_country['nbr_breweries'],\n",
    "    colorscale=\"Reds\",\n",
    "    showscale=False,  # Suppress legend for countries\n",
    "    hovertemplate=\"<b>%{location}</b><br>Count: %{z}<extra></extra>\",  # Customized hover\n",
    "    visible=False\n",
    "))\n",
    "fig.add_trace(go.Choropleth(\n",
    "    locations=breweries_per_state['state_abbrev'],\n",
    "    locationmode=\"USA-states\",\n",
    "    z=breweries_per_state['nbr_breweries'],\n",
    "    colorscale=\"Reds\",\n",
    "    colorbar=dict(\n",
    "        title=\"Breweries\",\n",
    "        tickformat=\".1s\",\n",
    "        len=0.5\n",
    "    ),\n",
    "    hovertemplate=\"<b>%{location}</b><br>Count: %{z}<extra></extra>\",  # Customized hover\n",
    "    visible=False\n",
    "))\n",
    "\n",
    "# Users\n",
    "fig.add_trace(go.Choropleth(\n",
    "    locations=users_per_country['country'],\n",
    "    locationmode=\"country names\",\n",
    "    z=users_per_country['nbr_users'],\n",
    "    colorscale=\"Greens\",\n",
    "    showscale=False,  # Suppress legend for countries\n",
    "    hovertemplate=\"<b>%{location}</b><br>Count: %{z}<extra></extra>\",  # Customized hover\n",
    "    visible=False\n",
    "))\n",
    "fig.add_trace(go.Choropleth(\n",
    "    locations=users_per_state['state_abbrev'],\n",
    "    locationmode=\"USA-states\",\n",
    "    z=users_per_state['nbr_users'],\n",
    "    colorscale=\"Greens\",\n",
    "    colorbar=dict(\n",
    "        title=\"Users\",\n",
    "        tickformat=\".1s\",\n",
    "        len=0.5\n",
    "    ),\n",
    "    hovertemplate=\"<b>%{location}</b><br>Count: %{z}<extra></extra>\",  # Customized hover\n",
    "    visible=False\n",
    "))\n",
    "\n",
    "# Beers\n",
    "fig.add_trace(go.Choropleth(\n",
    "    locations=beers_per_country['country'],\n",
    "    locationmode=\"country names\",\n",
    "    z=beers_per_country['nbr_beers'],\n",
    "    colorscale=\"Oranges\",\n",
    "    showscale=False,  # Suppress legend for countries\n",
    "    hovertemplate=\"<b>%{location}</b><br>Count: %{z}<extra></extra>\",  # Customized hover\n",
    "    visible=False\n",
    "))\n",
    "fig.add_trace(go.Choropleth(\n",
    "    locations=beers_per_state['state_abbrev'],\n",
    "    locationmode=\"USA-states\",\n",
    "    z=beers_per_state['nbr_beers'],\n",
    "    colorscale=\"Oranges\",\n",
    "    colorbar=dict(\n",
    "        title=\"Beers\",\n",
    "        tickformat=\".1s\",\n",
    "        len=0.5\n",
    "    ),\n",
    "    hovertemplate=\"<b>%{location}</b><br>Count: %{z}<extra></extra>\",  # Customized hover\n",
    "    visible=False\n",
    "))\n",
    "\n",
    "# Dropdown menu\n",
    "fig.update_layout(\n",
    "    updatemenus=[\n",
    "        dict(\n",
    "            buttons=[\n",
    "                dict(args=[{\"visible\": [True, True, False, False, False, False, False, False]}], label=\"Ratings\", method=\"update\"),\n",
    "                dict(args=[{\"visible\": [False, False, True, True, False, False, False, False]}], label=\"Breweries\", method=\"update\"),\n",
    "                dict(args=[{\"visible\": [False, False, False, False, True, True, False, False]}], label=\"Users\", method=\"update\"),\n",
    "                dict(args=[{\"visible\": [False, False, False, False, False, False, True, True]}], label=\"Beers\", method=\"update\"),\n",
    "            ],\n",
    "            direction=\"down\",\n",
    "            x=0.1,\n",
    "            y=1,  # Dropdown below title\n",
    "            xanchor=\"left\",\n",
    "            yanchor=\"top\"\n",
    "        )\n",
    "    ],\n",
    "    title=dict(\n",
    "        text=\"Beer Statistics by Country and US State\",\n",
    "        x=0.5,\n",
    "        xanchor=\"center\"\n",
    "    ),\n",
    "    geo=dict(\n",
    "        showframe=False,\n",
    "        showcoastlines=True,\n",
    "        projection_type=\"equirectangular\"\n",
    "    ),\n",
    "    height=600,\n",
    "    width=800\n",
    ")\n",
    "\n",
    "# Show the plot\n",
    "fig.show()\n"
   ]
  },
  {
   "cell_type": "code",
   "execution_count": 49,
   "metadata": {},
   "outputs": [
    {
     "data": {
      "application/vnd.plotly.v1+json": {
       "config": {
        "plotlyServerURL": "https://plot.ly"
       },
       "data": [
        {
         "colorscale": [
          [
           0,
           "rgb(247,251,255)"
          ],
          [
           0.125,
           "rgb(222,235,247)"
          ],
          [
           0.25,
           "rgb(198,219,239)"
          ],
          [
           0.375,
           "rgb(158,202,225)"
          ],
          [
           0.5,
           "rgb(107,174,214)"
          ],
          [
           0.625,
           "rgb(66,146,198)"
          ],
          [
           0.75,
           "rgb(33,113,181)"
          ],
          [
           0.875,
           "rgb(8,81,156)"
          ],
          [
           1,
           "rgb(8,48,107)"
          ]
         ],
         "hovertemplate": "<b>%{location}</b><br>Count: %{z}<extra></extra>",
         "locationmode": "country names",
         "locations": [
          "Abkhazia",
          "Albania",
          "Algeria",
          "Andorra",
          "Angola",
          "Antigua & Barbuda",
          "Argentina",
          "Armenia",
          "Aruba",
          "Australia",
          "Austria",
          "Azerbaijan",
          "Bahamas",
          "Bangladesh",
          "Barbados",
          "Belarus",
          "Belgium",
          "Belize",
          "Benin",
          "Bermuda",
          "Bhutan",
          "Bolivia",
          "Bonaire",
          "Bosnia and Herzegovina",
          "Botswana",
          "Brazil",
          "Bulgaria",
          "Burkina Faso",
          "Burundi",
          "Cambodia",
          "Cameroon",
          "Canada",
          "Cape Verde Islands",
          "Cayman Islands",
          "Central African Republic",
          "Chad",
          "Chile",
          "China",
          "Colombia",
          "Congo",
          "Cook Islands",
          "Costa Rica",
          "Croatia",
          "Cuba",
          "Curaçao",
          "Cyprus",
          "Czech Republic",
          "Dem Rep of Congo",
          "Denmark",
          "Dominica",
          "Dominican Republic",
          "Ecuador",
          "Egypt",
          "El Salvador",
          "England",
          "Eritrea",
          "Estonia",
          "Ethiopia",
          "Falkland Islands",
          "Faroe Islands",
          "Fiji Islands",
          "Finland",
          "France",
          "French Guiana",
          "French Polynesia",
          "Gabon",
          "Gambia",
          "Georgia",
          "Germany",
          "Ghana",
          "Gibraltar",
          "Greece",
          "Greenland",
          "Grenada",
          "Guadeloupe",
          "Guam",
          "Guatemala",
          "Guernsey",
          "Guinea",
          "Guinea-Bissau",
          "Guyana",
          "Haiti",
          "Honduras",
          "Hong Kong",
          "Hungary",
          "Iceland",
          "India",
          "Indonesia",
          "Iran",
          "Iraq",
          "Ireland",
          "Isle of Man",
          "Israel",
          "Italy",
          "Ivory Coast",
          "Jamaica",
          "Japan",
          "Jersey",
          "Jordan",
          "Kazakhstan",
          "Kenya",
          "Kosovo",
          "Kyrgyzstan",
          "Laos",
          "Latvia",
          "Lebanon",
          "Lesotho",
          "Liberia",
          "Libya",
          "Liechtenstein",
          "Lithuania",
          "Luxembourg",
          "Macau",
          "Macedonia",
          "Madagascar",
          "Malawi",
          "Malaysia",
          "Mali",
          "Malta",
          "Martinique",
          "Mauritius",
          "Mayotte",
          "Mexico",
          "Micronesia",
          "Moldova",
          "Monaco",
          "Mongolia",
          "Montenegro",
          "Morocco",
          "Mozambique",
          "Myanmar",
          "Nagorno-Karabakh",
          "Namibia",
          "Nepal",
          "Netherlands",
          "New Caledonia",
          "New Zealand",
          "Nicaragua",
          "Niger",
          "Nigeria",
          "Norfolk Island",
          "North Korea",
          "Northern Ireland",
          "Norway",
          "Pakistan",
          "Palau",
          "Palestine",
          "Panama",
          "Papua New Guinea",
          "Paraguay",
          "Peru",
          "Philippines",
          "Poland",
          "Portugal",
          "Puerto Rico",
          "Reunion",
          "Romania",
          "Russia",
          "Rwanda",
          "Saint Lucia",
          "Saint Vincent and The Grenadines",
          "Samoa",
          "San Marino",
          "Sao Tome and Principe",
          "Saudi Arabia",
          "Scotland",
          "Senegal",
          "Serbia",
          "Seychelles",
          "Sierra Leone",
          "Singapore",
          "Slovak Republic",
          "Slovenia",
          "Solomon Islands",
          "South Africa",
          "South Korea",
          "South Ossetia",
          "South Sudan",
          "Spain",
          "Sri Lanka",
          "Suriname",
          "Swaziland",
          "Sweden",
          "Switzerland",
          "Syria",
          "Taiwan",
          "Tajikistan",
          "Tanzania",
          "Thailand",
          "Tibet",
          "Togo",
          "Tonga",
          "Transdniestra",
          "Trinidad & Tobago",
          "Tunisia",
          "Turkey",
          "Turkish Republic of Cyprus",
          "Turkmenistan",
          "Turks and Caicos Islands",
          "Uganda",
          "Ukraine",
          "United Arab Emirates",
          "Uruguay",
          "Uzbekistan",
          "Vanuatu",
          "Venezuela",
          "Vietnam",
          "Virgin Islands (U.S.)",
          "Wales",
          "Zambia",
          "Zimbabwe"
         ],
         "showscale": false,
         "type": "choropleth",
         "visible": true,
         "z": [
          28,
          718,
          71,
          280,
          113,
          95,
          4696,
          826,
          252,
          67729,
          42370,
          141,
          943,
          19,
          779,
          2622,
          627699,
          411,
          50,
          79,
          140,
          615,
          18,
          1631,
          67,
          16519,
          2278,
          60,
          16,
          1190,
          137,
          332220,
          162,
          289,
          25,
          36,
          3174,
          9015,
          1490,
          15,
          74,
          1531,
          9572,
          1134,
          22,
          1029,
          87492,
          214,
          263616,
          94,
          1153,
          649,
          760,
          1494,
          643000,
          83,
          28287,
          984,
          6,
          2486,
          354,
          56831,
          74413,
          48,
          562,
          38,
          89,
          783,
          495924,
          252,
          79,
          9690,
          1049,
          31,
          29,
          48,
          1339,
          312,
          14,
          6,
          36,
          209,
          570,
          1365,
          13159,
          8568,
          4884,
          1087,
          251,
          31,
          41165,
          1367,
          6369,
          96761,
          76,
          3817,
          43304,
          467,
          298,
          386,
          1466,
          479,
          89,
          971,
          10014,
          1450,
          75,
          31,
          5,
          700,
          14057,
          2853,
          107,
          561,
          108,
          81,
          692,
          42,
          1449,
          112,
          491,
          3,
          28211,
          17,
          1150,
          187,
          297,
          806,
          755,
          310,
          364,
          2,
          1064,
          298,
          183470,
          95,
          42378,
          546,
          65,
          687,
          4,
          174,
          3291,
          131232,
          103,
          15,
          659,
          578,
          84,
          135,
          2309,
          2445,
          151128,
          8109,
          534,
          184,
          4005,
          21115,
          188,
          163,
          49,
          64,
          161,
          6,
          140,
          103694,
          144,
          3760,
          70,
          17,
          3769,
          13581,
          6999,
          31,
          5529,
          2774,
          4,
          38,
          63977,
          2821,
          235,
          39,
          162034,
          28302,
          29,
          1141,
          19,
          470,
          5074,
          190,
          165,
          35,
          127,
          2403,
          293,
          3880,
          52,
          39,
          118,
          329,
          8644,
          185,
          456,
          84,
          81,
          577,
          2853,
          740,
          22090,
          69,
          176
         ]
        },
        {
         "colorbar": {
          "len": 0.5,
          "tickformat": ".1s",
          "title": {
           "text": "Ratings"
          }
         },
         "colorscale": [
          [
           0,
           "rgb(247,251,255)"
          ],
          [
           0.125,
           "rgb(222,235,247)"
          ],
          [
           0.25,
           "rgb(198,219,239)"
          ],
          [
           0.375,
           "rgb(158,202,225)"
          ],
          [
           0.5,
           "rgb(107,174,214)"
          ],
          [
           0.625,
           "rgb(66,146,198)"
          ],
          [
           0.75,
           "rgb(33,113,181)"
          ],
          [
           0.875,
           "rgb(8,81,156)"
          ],
          [
           1,
           "rgb(8,48,107)"
          ]
         ],
         "hovertemplate": "<b>%{location}</b><br>Count: %{z}<extra></extra>",
         "locationmode": "USA-states",
         "locations": [
          "AK",
          "AL",
          "AR",
          "AZ",
          "CA",
          "CO",
          "CT",
          "DE",
          "FL",
          "GA",
          "HI",
          "IA",
          "ID",
          "IL",
          "IN",
          "KS",
          "KY",
          "LA",
          "MA",
          "MD",
          "ME",
          "MI",
          "MN",
          "MO",
          "MS",
          "MT",
          "NC",
          "ND",
          "NE",
          "NH",
          "NJ",
          "NM",
          "NV",
          "NY",
          "OH",
          "OK",
          "OR",
          "PA",
          "RI",
          "SC",
          "SD",
          "TN",
          "TX",
          "UT",
          "VA",
          "VT",
          "WA",
          "WI",
          "WV",
          "WY"
         ],
         "type": "choropleth",
         "visible": true,
         "z": [
          30343,
          6417,
          2375,
          21753,
          544863,
          190860,
          15851,
          13110,
          48143,
          47359,
          15589,
          15101,
          18162,
          107476,
          35763,
          9560,
          14086,
          16482,
          84750,
          82274,
          58284,
          110140,
          56061,
          106171,
          3325,
          14888,
          57404,
          974,
          8717,
          35457,
          31575,
          10343,
          9399,
          245616,
          78132,
          20203,
          172017,
          117438,
          6551,
          19848,
          1190,
          17598,
          72369,
          30356,
          49280,
          74966,
          93126,
          164950,
          2919,
          4405
         ]
        },
        {
         "colorscale": [
          [
           0,
           "rgb(255,245,240)"
          ],
          [
           0.125,
           "rgb(254,224,210)"
          ],
          [
           0.25,
           "rgb(252,187,161)"
          ],
          [
           0.375,
           "rgb(252,146,114)"
          ],
          [
           0.5,
           "rgb(251,106,74)"
          ],
          [
           0.625,
           "rgb(239,59,44)"
          ],
          [
           0.75,
           "rgb(203,24,29)"
          ],
          [
           0.875,
           "rgb(165,15,21)"
          ],
          [
           1,
           "rgb(103,0,13)"
          ]
         ],
         "hovertemplate": "<b>%{location}</b><br>Count: %{z}<extra></extra>",
         "locationmode": "country names",
         "locations": [
          "Abkhazia",
          "Albania",
          "Algeria",
          "Andorra",
          "Angola",
          "Antigua & Barbuda",
          "Argentina",
          "Armenia",
          "Aruba",
          "Australia",
          "Austria",
          "Azerbaijan",
          "Bahamas",
          "Bangladesh",
          "Barbados",
          "Belarus",
          "Belgium",
          "Belize",
          "Benin",
          "Bermuda",
          "Bhutan",
          "Bolivia",
          "Bonaire",
          "Bosnia and Herzegovina",
          "Botswana",
          "Brazil",
          "Bulgaria",
          "Burkina Faso",
          "Burundi",
          "Cambodia",
          "Cameroon",
          "Canada",
          "Cape Verde Islands",
          "Cayman Islands",
          "Central African Republic",
          "Chad",
          "Chile",
          "China",
          "Colombia",
          "Congo",
          "Cook Islands",
          "Costa Rica",
          "Croatia",
          "Cuba",
          "Curaçao",
          "Cyprus",
          "Czech Republic",
          "Dem Rep of Congo",
          "Denmark",
          "Dominica",
          "Dominican Republic",
          "Ecuador",
          "Egypt",
          "El Salvador",
          "England",
          "Eritrea",
          "Estonia",
          "Ethiopia",
          "Falkland Islands",
          "Faroe Islands",
          "Fiji Islands",
          "Finland",
          "France",
          "French Guiana",
          "French Polynesia",
          "Gabon",
          "Gambia",
          "Georgia",
          "Germany",
          "Ghana",
          "Gibraltar",
          "Greece",
          "Greenland",
          "Grenada",
          "Guadeloupe",
          "Guam",
          "Guatemala",
          "Guernsey",
          "Guinea",
          "Guinea-Bissau",
          "Guyana",
          "Haiti",
          "Honduras",
          "Hong Kong",
          "Hungary",
          "Iceland",
          "India",
          "Indonesia",
          "Iran",
          "Iraq",
          "Ireland",
          "Isle of Man",
          "Israel",
          "Italy",
          "Ivory Coast",
          "Jamaica",
          "Japan",
          "Jersey",
          "Jordan",
          "Kazakhstan",
          "Kenya",
          "Kosovo",
          "Kyrgyzstan",
          "Laos",
          "Latvia",
          "Lebanon",
          "Lesotho",
          "Liberia",
          "Libya",
          "Liechtenstein",
          "Lithuania",
          "Luxembourg",
          "Macau",
          "Macedonia",
          "Madagascar",
          "Malawi",
          "Malaysia",
          "Mali",
          "Malta",
          "Martinique",
          "Mauritius",
          "Mayotte",
          "Mexico",
          "Micronesia",
          "Moldova",
          "Monaco",
          "Mongolia",
          "Montenegro",
          "Morocco",
          "Mozambique",
          "Myanmar",
          "Nagorno-Karabakh",
          "Namibia",
          "Nepal",
          "Netherlands",
          "New Caledonia",
          "New Zealand",
          "Nicaragua",
          "Niger",
          "Nigeria",
          "Norfolk Island",
          "North Korea",
          "Northern Ireland",
          "Norway",
          "Pakistan",
          "Palau",
          "Palestine",
          "Panama",
          "Papua New Guinea",
          "Paraguay",
          "Peru",
          "Philippines",
          "Poland",
          "Portugal",
          "Puerto Rico",
          "Reunion",
          "Romania",
          "Russia",
          "Rwanda",
          "Saint Lucia",
          "Saint Vincent and The Grenadines",
          "Samoa",
          "San Marino",
          "Sao Tome and Principe",
          "Saudi Arabia",
          "Scotland",
          "Senegal",
          "Serbia",
          "Seychelles",
          "Sierra Leone",
          "Singapore",
          "Slovak Republic",
          "Slovenia",
          "Solomon Islands",
          "South Africa",
          "South Korea",
          "South Ossetia",
          "South Sudan",
          "Spain",
          "Sri Lanka",
          "Suriname",
          "Swaziland",
          "Sweden",
          "Switzerland",
          "Syria",
          "Taiwan",
          "Tajikistan",
          "Tanzania",
          "Thailand",
          "Tibet",
          "Togo",
          "Tonga",
          "Transdniestra",
          "Trinidad & Tobago",
          "Tunisia",
          "Turkey",
          "Turkish Republic of Cyprus",
          "Turkmenistan",
          "Turks and Caicos Islands",
          "Uganda",
          "Ukraine",
          "United Arab Emirates",
          "Uruguay",
          "Uzbekistan",
          "Vanuatu",
          "Venezuela",
          "Vietnam",
          "Virgin Islands (U.S.)",
          "Wales",
          "Zambia",
          "Zimbabwe"
         ],
         "showscale": false,
         "type": "choropleth",
         "visible": false,
         "z": [
          3,
          14,
          7,
          3,
          3,
          1,
          191,
          8,
          2,
          513,
          264,
          6,
          4,
          1,
          3,
          39,
          386,
          2,
          2,
          2,
          6,
          20,
          1,
          23,
          2,
          321,
          27,
          2,
          1,
          19,
          3,
          800,
          1,
          4,
          1,
          1,
          129,
          181,
          31,
          1,
          2,
          34,
          58,
          7,
          3,
          10,
          434,
          3,
          245,
          1,
          3,
          33,
          3,
          5,
          2008,
          2,
          66,
          8,
          1,
          3,
          3,
          112,
          749,
          1,
          1,
          1,
          1,
          21,
          1883,
          3,
          1,
          57,
          7,
          1,
          3,
          2,
          7,
          4,
          1,
          2,
          1,
          1,
          3,
          25,
          135,
          15,
          90,
          9,
          7,
          1,
          116,
          5,
          66,
          869,
          2,
          3,
          302,
          2,
          4,
          27,
          4,
          6,
          11,
          5,
          53,
          5,
          1,
          1,
          1,
          2,
          81,
          15,
          1,
          7,
          2,
          1,
          5,
          1,
          5,
          1,
          5,
          1,
          251,
          1,
          17,
          1,
          8,
          4,
          1,
          1,
          5,
          1,
          3,
          7,
          457,
          2,
          213,
          6,
          1,
          6,
          1,
          18,
          30,
          223,
          1,
          1,
          3,
          7,
          1,
          7,
          42,
          29,
          312,
          93,
          8,
          3,
          46,
          316,
          4,
          3,
          2,
          2,
          4,
          1,
          5,
          173,
          1,
          53,
          1,
          1,
          23,
          95,
          101,
          1,
          186,
          54,
          1,
          1,
          699,
          4,
          2,
          1,
          341,
          508,
          2,
          26,
          6,
          5,
          73,
          2,
          1,
          3,
          5,
          2,
          5,
          12,
          1,
          5,
          1,
          4,
          121,
          2,
          12,
          14,
          3,
          7,
          62,
          3,
          123,
          2,
          1
         ]
        },
        {
         "colorbar": {
          "len": 0.5,
          "tickformat": ".1s",
          "title": {
           "text": "Breweries"
          }
         },
         "colorscale": [
          [
           0,
           "rgb(255,245,240)"
          ],
          [
           0.125,
           "rgb(254,224,210)"
          ],
          [
           0.25,
           "rgb(252,187,161)"
          ],
          [
           0.375,
           "rgb(252,146,114)"
          ],
          [
           0.5,
           "rgb(251,106,74)"
          ],
          [
           0.625,
           "rgb(239,59,44)"
          ],
          [
           0.75,
           "rgb(203,24,29)"
          ],
          [
           0.875,
           "rgb(165,15,21)"
          ],
          [
           1,
           "rgb(103,0,13)"
          ]
         ],
         "hovertemplate": "<b>%{location}</b><br>Count: %{z}<extra></extra>",
         "locationmode": "USA-states",
         "locations": [
          "AK",
          "AL",
          "AR",
          "AZ",
          "CA",
          "CO",
          "CT",
          "DE",
          "FL",
          "GA",
          "HI",
          "IA",
          "ID",
          "IL",
          "IN",
          "KS",
          "KY",
          "LA",
          "MA",
          "MD",
          "ME",
          "MI",
          "MN",
          "MO",
          "MS",
          "MT",
          "NC",
          "ND",
          "NE",
          "NH",
          "NJ",
          "NM",
          "NV",
          "NY",
          "OH",
          "OK",
          "OR",
          "PA",
          "RI",
          "SC",
          "SD",
          "TN",
          "TX",
          "UT",
          "VA",
          "VT",
          "WA",
          "WI",
          "WV",
          "WY"
         ],
         "type": "choropleth",
         "visible": false,
         "z": [
          33,
          36,
          27,
          109,
          781,
          364,
          64,
          22,
          214,
          84,
          21,
          86,
          59,
          214,
          146,
          33,
          43,
          29,
          141,
          86,
          81,
          283,
          158,
          105,
          12,
          67,
          207,
          15,
          38,
          67,
          98,
          58,
          53,
          330,
          212,
          25,
          240,
          279,
          18,
          61,
          19,
          79,
          211,
          26,
          185,
          82,
          351,
          192,
          23,
          26
         ]
        },
        {
         "colorscale": [
          [
           0,
           "rgb(247,252,245)"
          ],
          [
           0.125,
           "rgb(229,245,224)"
          ],
          [
           0.25,
           "rgb(199,233,192)"
          ],
          [
           0.375,
           "rgb(161,217,155)"
          ],
          [
           0.5,
           "rgb(116,196,118)"
          ],
          [
           0.625,
           "rgb(65,171,93)"
          ],
          [
           0.75,
           "rgb(35,139,69)"
          ],
          [
           0.875,
           "rgb(0,109,44)"
          ],
          [
           1,
           "rgb(0,68,27)"
          ]
         ],
         "hovertemplate": "<b>%{location}</b><br>Count: %{z}<extra></extra>",
         "locationmode": "country names",
         "locations": [
          "Abkhazia",
          "Afghanistan",
          "Albania",
          "Algeria",
          "American Samoa",
          "Andorra",
          "Antigua and Barbuda",
          "Argentina",
          "Armenia",
          "Ascension Island",
          "Australia",
          "Austria",
          "Azerbaijan",
          "Bahamas",
          "Bangladesh",
          "Barbados",
          "Belarus",
          "Belgium",
          "Belize",
          "Bermuda",
          "Bolivia",
          "Bosnia and Herzegovina",
          "Botswana",
          "Brazil",
          "Bulgaria",
          "Burkina Faso",
          "Burundi",
          "Cambodia",
          "Canada",
          "Cayman Islands",
          "Chile",
          "China",
          "Colombia",
          "Costa Rica",
          "Croatia",
          "Cuba",
          "Cyprus",
          "Czech Republic",
          "Dem Rep of Congo",
          "Denmark",
          "Dominican Republic",
          "East Timor",
          "Ecuador",
          "Egypt",
          "El Salvador",
          "England",
          "Estonia",
          "Falkland Islands",
          "Faroe Islands",
          "Fiji Islands",
          "Finland",
          "France",
          "French Guiana",
          "Germany",
          "Ghana",
          "Greece",
          "Greenland",
          "Guam",
          "Guatemala",
          "Haiti",
          "Hawaii",
          "Honduras",
          "Hong Kong",
          "Hungary",
          "Iceland",
          "India",
          "Indonesia",
          "Iran",
          "Iraq",
          "Ireland",
          "Isle of Man",
          "Israel",
          "Italy",
          "Ivory Coast",
          "Jamaica",
          "Japan",
          "Jersey",
          "Jordan",
          "Kazakhstan",
          "Kenya",
          "Kosovo",
          "Kyrgyzstan",
          "Laos",
          "Latvia",
          "Lebanon",
          "Lesotho",
          "Liechtenstein",
          "Lithuania",
          "Luxembourg",
          "Macau",
          "Macedonia",
          "Malaysia",
          "Malta",
          "Marshall Islands",
          "Mauritius",
          "Mexico",
          "Micronesia",
          "Moldova",
          "Monaco",
          "Mongolia",
          "Montenegro",
          "Montserrat",
          "Morocco",
          "Mozambique",
          "Nagorno-Karabakh",
          "Namibia",
          "Nepal",
          "Netherlands",
          "New Zealand",
          "Nicaragua",
          "Nigeria",
          "Norfolk Island",
          "North Korea",
          "Northern Ireland",
          "Norway",
          "Oman",
          "Pakistan",
          "Palestine",
          "Panama",
          "Papua New Guinea",
          "Paraguay",
          "Peru",
          "Philippines",
          "Poland",
          "Portugal",
          "Puerto Rico",
          "Romania",
          "Russia",
          "Saint Helena",
          "Saint Lucia",
          "Saint Vincent and The Grenadines",
          "San Marino",
          "Saudi Arabia",
          "Scotland",
          "Serbia",
          "Singapore",
          "Sint Maarten",
          "Slovak Republic",
          "Slovakia",
          "Slovenia",
          "South Africa",
          "South Korea",
          "Spain",
          "Sudan",
          "Sweden",
          "Switzerland",
          "Syria",
          "Taiwan",
          "Tajikistan",
          "Tanzania",
          "Thailand",
          "Tibet",
          "Togo",
          "Trinidad and Tobago",
          "Tunisia",
          "Turkey",
          "Tuvalu",
          "Uganda",
          "Ukraine",
          "United Arab Emirates",
          "Uruguay",
          "Uzbekistan",
          "Vanuatu",
          "Vatican City",
          "Venezuela",
          "Vietnam",
          "Virgin Islands (British)",
          "Virgin Islands (U.S.)",
          "Wales",
          "Yemen",
          "Zambia",
          "Zimbabwe"
         ],
         "showscale": false,
         "type": "choropleth",
         "visible": false,
         "z": [
          3,
          8,
          4,
          2,
          1,
          9,
          1,
          76,
          3,
          3,
          1476,
          126,
          5,
          7,
          2,
          2,
          22,
          1027,
          3,
          2,
          5,
          32,
          5,
          810,
          44,
          1,
          1,
          10,
          3255,
          5,
          94,
          59,
          29,
          16,
          155,
          1,
          28,
          151,
          2,
          1031,
          8,
          1,
          15,
          5,
          22,
          2734,
          134,
          1,
          9,
          1,
          452,
          539,
          1,
          891,
          2,
          166,
          1,
          4,
          9,
          1,
          2,
          1,
          32,
          229,
          54,
          40,
          6,
          1,
          2,
          293,
          7,
          78,
          924,
          1,
          1,
          118,
          4,
          3,
          1,
          5,
          2,
          1,
          2,
          78,
          6,
          1,
          1,
          49,
          25,
          1,
          12,
          11,
          7,
          2,
          3,
          226,
          1,
          18,
          2,
          1,
          6,
          1,
          3,
          2,
          1,
          3,
          3,
          1095,
          453,
          3,
          3,
          2,
          1,
          57,
          672,
          1,
          4,
          2,
          19,
          1,
          14,
          14,
          31,
          1701,
          95,
          32,
          99,
          196,
          2,
          1,
          1,
          2,
          1,
          378,
          79,
          58,
          1,
          93,
          2,
          113,
          176,
          63,
          835,
          1,
          1004,
          199,
          2,
          46,
          1,
          4,
          47,
          1,
          1,
          2,
          5,
          81,
          1,
          2,
          61,
          4,
          10,
          2,
          2,
          3,
          12,
          8,
          1,
          15,
          133,
          1,
          2,
          4
         ]
        },
        {
         "colorbar": {
          "len": 0.5,
          "tickformat": ".1s",
          "title": {
           "text": "Users"
          }
         },
         "colorscale": [
          [
           0,
           "rgb(247,252,245)"
          ],
          [
           0.125,
           "rgb(229,245,224)"
          ],
          [
           0.25,
           "rgb(199,233,192)"
          ],
          [
           0.375,
           "rgb(161,217,155)"
          ],
          [
           0.5,
           "rgb(116,196,118)"
          ],
          [
           0.625,
           "rgb(65,171,93)"
          ],
          [
           0.75,
           "rgb(35,139,69)"
          ],
          [
           0.875,
           "rgb(0,109,44)"
          ],
          [
           1,
           "rgb(0,68,27)"
          ]
         ],
         "hovertemplate": "<b>%{location}</b><br>Count: %{z}<extra></extra>",
         "locationmode": "USA-states",
         "locations": [
          "AK",
          "AL",
          "AR",
          "AZ",
          "CA",
          "CO",
          "CT",
          "DE",
          "FL",
          "GA",
          "HI",
          "IA",
          "ID",
          "IL",
          "IN",
          "KS",
          "KY",
          "LA",
          "MA",
          "MD",
          "ME",
          "MI",
          "MN",
          "MO",
          "MS",
          "MT",
          "NC",
          "ND",
          "NE",
          "NH",
          "NJ",
          "NM",
          "NV",
          "NY",
          "OH",
          "OK",
          "OR",
          "PA",
          "RI",
          "SC",
          "SD",
          "TN",
          "TX",
          "UT",
          "VA",
          "VT",
          "WA",
          "WI",
          "WV",
          "WY"
         ],
         "type": "choropleth",
         "visible": false,
         "z": [
          78,
          821,
          186,
          509,
          2804,
          774,
          286,
          95,
          1269,
          725,
          54,
          302,
          140,
          1406,
          619,
          271,
          291,
          152,
          674,
          532,
          131,
          1141,
          768,
          490,
          85,
          85,
          726,
          47,
          130,
          178,
          835,
          115,
          150,
          1352,
          1158,
          213,
          572,
          1632,
          103,
          265,
          44,
          337,
          1423,
          109,
          720,
          114,
          976,
          838,
          101,
          29
         ]
        },
        {
         "colorscale": [
          [
           0,
           "rgb(255,245,235)"
          ],
          [
           0.125,
           "rgb(254,230,206)"
          ],
          [
           0.25,
           "rgb(253,208,162)"
          ],
          [
           0.375,
           "rgb(253,174,107)"
          ],
          [
           0.5,
           "rgb(253,141,60)"
          ],
          [
           0.625,
           "rgb(241,105,19)"
          ],
          [
           0.75,
           "rgb(217,72,1)"
          ],
          [
           0.875,
           "rgb(166,54,3)"
          ],
          [
           1,
           "rgb(127,39,4)"
          ]
         ],
         "hovertemplate": "<b>%{location}</b><br>Count: %{z}<extra></extra>",
         "locationmode": "country names",
         "locations": [
          "Abkhazia",
          "Albania",
          "Algeria",
          "Andorra",
          "Angola",
          "Antigua & Barbuda",
          "Argentina",
          "Armenia",
          "Aruba",
          "Australia",
          "Austria",
          "Azerbaijan",
          "Bahamas",
          "Bangladesh",
          "Barbados",
          "Belarus",
          "Belgium",
          "Belize",
          "Benin",
          "Bermuda",
          "Bhutan",
          "Bolivia",
          "Bonaire",
          "Bosnia and Herzegovina",
          "Botswana",
          "Brazil",
          "Bulgaria",
          "Burkina Faso",
          "Burundi",
          "Cambodia",
          "Cameroon",
          "Canada",
          "Cape Verde Islands",
          "Cayman Islands",
          "Central African Republic",
          "Chad",
          "Chile",
          "China",
          "Colombia",
          "Congo",
          "Cook Islands",
          "Costa Rica",
          "Croatia",
          "Cuba",
          "Curaçao",
          "Cyprus",
          "Czech Republic",
          "Dem Rep of Congo",
          "Denmark",
          "Dominica",
          "Dominican Republic",
          "Ecuador",
          "Egypt",
          "El Salvador",
          "England",
          "Eritrea",
          "Estonia",
          "Ethiopia",
          "Falkland Islands",
          "Faroe Islands",
          "Fiji Islands",
          "Finland",
          "France",
          "French Guiana",
          "French Polynesia",
          "Gabon",
          "Gambia",
          "Georgia",
          "Germany",
          "Ghana",
          "Gibraltar",
          "Greece",
          "Greenland",
          "Grenada",
          "Guadeloupe",
          "Guam",
          "Guatemala",
          "Guernsey",
          "Guinea",
          "Guinea-Bissau",
          "Guyana",
          "Haiti",
          "Honduras",
          "Hong Kong",
          "Hungary",
          "Iceland",
          "India",
          "Indonesia",
          "Iran",
          "Iraq",
          "Ireland",
          "Isle of Man",
          "Israel",
          "Italy",
          "Ivory Coast",
          "Jamaica",
          "Japan",
          "Jersey",
          "Jordan",
          "Kazakhstan",
          "Kenya",
          "Kosovo",
          "Kyrgyzstan",
          "Laos",
          "Latvia",
          "Lebanon",
          "Lesotho",
          "Liechtenstein",
          "Lithuania",
          "Luxembourg",
          "Macau",
          "Macedonia",
          "Madagascar",
          "Malawi",
          "Malaysia",
          "Mali",
          "Malta",
          "Martinique",
          "Mauritius",
          "Mayotte",
          "Mexico",
          "Moldova",
          "Monaco",
          "Mongolia",
          "Montenegro",
          "Morocco",
          "Mozambique",
          "Myanmar",
          "Namibia",
          "Nepal",
          "Netherlands",
          "New Caledonia",
          "New Zealand",
          "Nicaragua",
          "Niger",
          "Nigeria",
          "Norfolk Island",
          "North Korea",
          "Northern Ireland",
          "Norway",
          "Pakistan",
          "Palau",
          "Palestine",
          "Panama",
          "Papua New Guinea",
          "Paraguay",
          "Peru",
          "Philippines",
          "Poland",
          "Portugal",
          "Puerto Rico",
          "Reunion",
          "Romania",
          "Russia",
          "Rwanda",
          "Saint Lucia",
          "Saint Vincent and The Grenadines",
          "Samoa",
          "San Marino",
          "Sao Tome and Principe",
          "Saudi Arabia",
          "Scotland",
          "Senegal",
          "Serbia",
          "Seychelles",
          "Sierra Leone",
          "Singapore",
          "Slovak Republic",
          "Slovenia",
          "Solomon Islands",
          "South Africa",
          "South Korea",
          "South Ossetia",
          "South Sudan",
          "Spain",
          "Sri Lanka",
          "Suriname",
          "Swaziland",
          "Sweden",
          "Switzerland",
          "Syria",
          "Taiwan",
          "Tajikistan",
          "Tanzania",
          "Thailand",
          "Tibet",
          "Togo",
          "Tonga",
          "Transdniestra",
          "Trinidad & Tobago",
          "Tunisia",
          "Turkey",
          "Turkish Republic of Cyprus",
          "Turkmenistan",
          "Turks and Caicos Islands",
          "Uganda",
          "Ukraine",
          "Uruguay",
          "Uzbekistan",
          "Vanuatu",
          "Venezuela",
          "Vietnam",
          "Virgin Islands (U.S.)",
          "Wales",
          "Zambia",
          "Zimbabwe"
         ],
         "showscale": false,
         "type": "choropleth",
         "visible": false,
         "z": [
          6,
          45,
          15,
          23,
          4,
          2,
          538,
          41,
          3,
          6029,
          2006,
          17,
          21,
          2,
          20,
          537,
          6474,
          9,
          4,
          6,
          14,
          57,
          1,
          116,
          2,
          1476,
          161,
          11,
          2,
          93,
          10,
          20571,
          5,
          10,
          2,
          3,
          415,
          1023,
          122,
          2,
          7,
          120,
          377,
          16,
          6,
          44,
          3867,
          10,
          7842,
          3,
          13,
          131,
          27,
          44,
          45920,
          3,
          1054,
          16,
          3,
          87,
          13,
          3057,
          5240,
          3,
          5,
          3,
          3,
          69,
          17777,
          11,
          1,
          261,
          36,
          8,
          14,
          4,
          60,
          29,
          2,
          1,
          5,
          1,
          7,
          207,
          1210,
          265,
          389,
          42,
          2,
          2,
          1236,
          88,
          466,
          6402,
          5,
          23,
          4250,
          32,
          14,
          79,
          33,
          20,
          17,
          15,
          690,
          22,
          1,
          25,
          968,
          78,
          2,
          48,
          9,
          4,
          20,
          2,
          37,
          5,
          26,
          1,
          881,
          162,
          9,
          15,
          10,
          9,
          7,
          16,
          24,
          15,
          6610,
          11,
          2929,
          20,
          3,
          18,
          4,
          31,
          269,
          4768,
          5,
          3,
          16,
          28,
          3,
          19,
          169,
          131,
          5369,
          566,
          31,
          17,
          265,
          2440,
          9,
          13,
          4,
          4,
          17,
          1,
          1,
          3851,
          4,
          279,
          4,
          1,
          223,
          980,
          515,
          3,
          843,
          295,
          1,
          2,
          4185,
          20,
          6,
          4,
          6625,
          4302,
          2,
          177,
          2,
          17,
          334,
          4,
          9,
          4,
          14,
          13,
          15,
          109,
          5,
          8,
          7,
          11,
          1000,
          45,
          32,
          10,
          23,
          209,
          14,
          1894,
          3,
          5
         ]
        },
        {
         "colorbar": {
          "len": 0.5,
          "tickformat": ".1s",
          "title": {
           "text": "Beers"
          }
         },
         "colorscale": [
          [
           0,
           "rgb(255,245,235)"
          ],
          [
           0.125,
           "rgb(254,230,206)"
          ],
          [
           0.25,
           "rgb(253,208,162)"
          ],
          [
           0.375,
           "rgb(253,174,107)"
          ],
          [
           0.5,
           "rgb(253,141,60)"
          ],
          [
           0.625,
           "rgb(241,105,19)"
          ],
          [
           0.75,
           "rgb(217,72,1)"
          ],
          [
           0.875,
           "rgb(166,54,3)"
          ],
          [
           1,
           "rgb(127,39,4)"
          ]
         ],
         "hovertemplate": "<b>%{location}</b><br>Count: %{z}<extra></extra>",
         "locationmode": "USA-states",
         "locations": [
          "AK",
          "AL",
          "AR",
          "AZ",
          "CA",
          "CO",
          "CT",
          "DE",
          "FL",
          "GA",
          "HI",
          "IA",
          "ID",
          "IL",
          "IN",
          "KS",
          "KY",
          "LA",
          "MA",
          "MD",
          "ME",
          "MI",
          "MN",
          "MO",
          "MS",
          "MT",
          "NC",
          "ND",
          "NE",
          "NH",
          "NJ",
          "NM",
          "NV",
          "NY",
          "OH",
          "OK",
          "OR",
          "PA",
          "RI",
          "SC",
          "SD",
          "TN",
          "TX",
          "UT",
          "VA",
          "VT",
          "WA",
          "WI",
          "WV",
          "WY"
         ],
         "type": "choropleth",
         "visible": false,
         "z": [
          1293,
          825,
          251,
          2681,
          22774,
          11849,
          1425,
          611,
          6379,
          2234,
          368,
          1168,
          1637,
          7237,
          4619,
          614,
          1708,
          444,
          3681,
          2761,
          1475,
          7297,
          4551,
          2886,
          154,
          1134,
          5013,
          207,
          892,
          1936,
          2688,
          961,
          1348,
          7996,
          6314,
          469,
          7315,
          8498,
          449,
          1120,
          215,
          1380,
          4265,
          1006,
          5754,
          2191,
          7592,
          4502,
          443,
          557
         ]
        }
       ],
       "layout": {
        "geo": {
         "lakecolor": "rgb(255, 255, 255)",
         "landcolor": "rgb(217, 217, 217)",
         "oceancolor": "rgb(204, 229, 255)",
         "projection": {
          "rotation": {
           "lat": 10,
           "lon": 20
          },
          "type": "orthographic"
         },
         "showcoastlines": true,
         "showcountries": true,
         "showframe": false,
         "showland": true
        },
        "height": 600,
        "template": {
         "data": {
          "bar": [
           {
            "error_x": {
             "color": "#2a3f5f"
            },
            "error_y": {
             "color": "#2a3f5f"
            },
            "marker": {
             "line": {
              "color": "#E5ECF6",
              "width": 0.5
             },
             "pattern": {
              "fillmode": "overlay",
              "size": 10,
              "solidity": 0.2
             }
            },
            "type": "bar"
           }
          ],
          "barpolar": [
           {
            "marker": {
             "line": {
              "color": "#E5ECF6",
              "width": 0.5
             },
             "pattern": {
              "fillmode": "overlay",
              "size": 10,
              "solidity": 0.2
             }
            },
            "type": "barpolar"
           }
          ],
          "carpet": [
           {
            "aaxis": {
             "endlinecolor": "#2a3f5f",
             "gridcolor": "white",
             "linecolor": "white",
             "minorgridcolor": "white",
             "startlinecolor": "#2a3f5f"
            },
            "baxis": {
             "endlinecolor": "#2a3f5f",
             "gridcolor": "white",
             "linecolor": "white",
             "minorgridcolor": "white",
             "startlinecolor": "#2a3f5f"
            },
            "type": "carpet"
           }
          ],
          "choropleth": [
           {
            "colorbar": {
             "outlinewidth": 0,
             "ticks": ""
            },
            "type": "choropleth"
           }
          ],
          "contour": [
           {
            "colorbar": {
             "outlinewidth": 0,
             "ticks": ""
            },
            "colorscale": [
             [
              0,
              "#0d0887"
             ],
             [
              0.1111111111111111,
              "#46039f"
             ],
             [
              0.2222222222222222,
              "#7201a8"
             ],
             [
              0.3333333333333333,
              "#9c179e"
             ],
             [
              0.4444444444444444,
              "#bd3786"
             ],
             [
              0.5555555555555556,
              "#d8576b"
             ],
             [
              0.6666666666666666,
              "#ed7953"
             ],
             [
              0.7777777777777778,
              "#fb9f3a"
             ],
             [
              0.8888888888888888,
              "#fdca26"
             ],
             [
              1,
              "#f0f921"
             ]
            ],
            "type": "contour"
           }
          ],
          "contourcarpet": [
           {
            "colorbar": {
             "outlinewidth": 0,
             "ticks": ""
            },
            "type": "contourcarpet"
           }
          ],
          "heatmap": [
           {
            "colorbar": {
             "outlinewidth": 0,
             "ticks": ""
            },
            "colorscale": [
             [
              0,
              "#0d0887"
             ],
             [
              0.1111111111111111,
              "#46039f"
             ],
             [
              0.2222222222222222,
              "#7201a8"
             ],
             [
              0.3333333333333333,
              "#9c179e"
             ],
             [
              0.4444444444444444,
              "#bd3786"
             ],
             [
              0.5555555555555556,
              "#d8576b"
             ],
             [
              0.6666666666666666,
              "#ed7953"
             ],
             [
              0.7777777777777778,
              "#fb9f3a"
             ],
             [
              0.8888888888888888,
              "#fdca26"
             ],
             [
              1,
              "#f0f921"
             ]
            ],
            "type": "heatmap"
           }
          ],
          "heatmapgl": [
           {
            "colorbar": {
             "outlinewidth": 0,
             "ticks": ""
            },
            "colorscale": [
             [
              0,
              "#0d0887"
             ],
             [
              0.1111111111111111,
              "#46039f"
             ],
             [
              0.2222222222222222,
              "#7201a8"
             ],
             [
              0.3333333333333333,
              "#9c179e"
             ],
             [
              0.4444444444444444,
              "#bd3786"
             ],
             [
              0.5555555555555556,
              "#d8576b"
             ],
             [
              0.6666666666666666,
              "#ed7953"
             ],
             [
              0.7777777777777778,
              "#fb9f3a"
             ],
             [
              0.8888888888888888,
              "#fdca26"
             ],
             [
              1,
              "#f0f921"
             ]
            ],
            "type": "heatmapgl"
           }
          ],
          "histogram": [
           {
            "marker": {
             "pattern": {
              "fillmode": "overlay",
              "size": 10,
              "solidity": 0.2
             }
            },
            "type": "histogram"
           }
          ],
          "histogram2d": [
           {
            "colorbar": {
             "outlinewidth": 0,
             "ticks": ""
            },
            "colorscale": [
             [
              0,
              "#0d0887"
             ],
             [
              0.1111111111111111,
              "#46039f"
             ],
             [
              0.2222222222222222,
              "#7201a8"
             ],
             [
              0.3333333333333333,
              "#9c179e"
             ],
             [
              0.4444444444444444,
              "#bd3786"
             ],
             [
              0.5555555555555556,
              "#d8576b"
             ],
             [
              0.6666666666666666,
              "#ed7953"
             ],
             [
              0.7777777777777778,
              "#fb9f3a"
             ],
             [
              0.8888888888888888,
              "#fdca26"
             ],
             [
              1,
              "#f0f921"
             ]
            ],
            "type": "histogram2d"
           }
          ],
          "histogram2dcontour": [
           {
            "colorbar": {
             "outlinewidth": 0,
             "ticks": ""
            },
            "colorscale": [
             [
              0,
              "#0d0887"
             ],
             [
              0.1111111111111111,
              "#46039f"
             ],
             [
              0.2222222222222222,
              "#7201a8"
             ],
             [
              0.3333333333333333,
              "#9c179e"
             ],
             [
              0.4444444444444444,
              "#bd3786"
             ],
             [
              0.5555555555555556,
              "#d8576b"
             ],
             [
              0.6666666666666666,
              "#ed7953"
             ],
             [
              0.7777777777777778,
              "#fb9f3a"
             ],
             [
              0.8888888888888888,
              "#fdca26"
             ],
             [
              1,
              "#f0f921"
             ]
            ],
            "type": "histogram2dcontour"
           }
          ],
          "mesh3d": [
           {
            "colorbar": {
             "outlinewidth": 0,
             "ticks": ""
            },
            "type": "mesh3d"
           }
          ],
          "parcoords": [
           {
            "line": {
             "colorbar": {
              "outlinewidth": 0,
              "ticks": ""
             }
            },
            "type": "parcoords"
           }
          ],
          "pie": [
           {
            "automargin": true,
            "type": "pie"
           }
          ],
          "scatter": [
           {
            "fillpattern": {
             "fillmode": "overlay",
             "size": 10,
             "solidity": 0.2
            },
            "type": "scatter"
           }
          ],
          "scatter3d": [
           {
            "line": {
             "colorbar": {
              "outlinewidth": 0,
              "ticks": ""
             }
            },
            "marker": {
             "colorbar": {
              "outlinewidth": 0,
              "ticks": ""
             }
            },
            "type": "scatter3d"
           }
          ],
          "scattercarpet": [
           {
            "marker": {
             "colorbar": {
              "outlinewidth": 0,
              "ticks": ""
             }
            },
            "type": "scattercarpet"
           }
          ],
          "scattergeo": [
           {
            "marker": {
             "colorbar": {
              "outlinewidth": 0,
              "ticks": ""
             }
            },
            "type": "scattergeo"
           }
          ],
          "scattergl": [
           {
            "marker": {
             "colorbar": {
              "outlinewidth": 0,
              "ticks": ""
             }
            },
            "type": "scattergl"
           }
          ],
          "scattermapbox": [
           {
            "marker": {
             "colorbar": {
              "outlinewidth": 0,
              "ticks": ""
             }
            },
            "type": "scattermapbox"
           }
          ],
          "scatterpolar": [
           {
            "marker": {
             "colorbar": {
              "outlinewidth": 0,
              "ticks": ""
             }
            },
            "type": "scatterpolar"
           }
          ],
          "scatterpolargl": [
           {
            "marker": {
             "colorbar": {
              "outlinewidth": 0,
              "ticks": ""
             }
            },
            "type": "scatterpolargl"
           }
          ],
          "scatterternary": [
           {
            "marker": {
             "colorbar": {
              "outlinewidth": 0,
              "ticks": ""
             }
            },
            "type": "scatterternary"
           }
          ],
          "surface": [
           {
            "colorbar": {
             "outlinewidth": 0,
             "ticks": ""
            },
            "colorscale": [
             [
              0,
              "#0d0887"
             ],
             [
              0.1111111111111111,
              "#46039f"
             ],
             [
              0.2222222222222222,
              "#7201a8"
             ],
             [
              0.3333333333333333,
              "#9c179e"
             ],
             [
              0.4444444444444444,
              "#bd3786"
             ],
             [
              0.5555555555555556,
              "#d8576b"
             ],
             [
              0.6666666666666666,
              "#ed7953"
             ],
             [
              0.7777777777777778,
              "#fb9f3a"
             ],
             [
              0.8888888888888888,
              "#fdca26"
             ],
             [
              1,
              "#f0f921"
             ]
            ],
            "type": "surface"
           }
          ],
          "table": [
           {
            "cells": {
             "fill": {
              "color": "#EBF0F8"
             },
             "line": {
              "color": "white"
             }
            },
            "header": {
             "fill": {
              "color": "#C8D4E3"
             },
             "line": {
              "color": "white"
             }
            },
            "type": "table"
           }
          ]
         },
         "layout": {
          "annotationdefaults": {
           "arrowcolor": "#2a3f5f",
           "arrowhead": 0,
           "arrowwidth": 1
          },
          "autotypenumbers": "strict",
          "coloraxis": {
           "colorbar": {
            "outlinewidth": 0,
            "ticks": ""
           }
          },
          "colorscale": {
           "diverging": [
            [
             0,
             "#8e0152"
            ],
            [
             0.1,
             "#c51b7d"
            ],
            [
             0.2,
             "#de77ae"
            ],
            [
             0.3,
             "#f1b6da"
            ],
            [
             0.4,
             "#fde0ef"
            ],
            [
             0.5,
             "#f7f7f7"
            ],
            [
             0.6,
             "#e6f5d0"
            ],
            [
             0.7,
             "#b8e186"
            ],
            [
             0.8,
             "#7fbc41"
            ],
            [
             0.9,
             "#4d9221"
            ],
            [
             1,
             "#276419"
            ]
           ],
           "sequential": [
            [
             0,
             "#0d0887"
            ],
            [
             0.1111111111111111,
             "#46039f"
            ],
            [
             0.2222222222222222,
             "#7201a8"
            ],
            [
             0.3333333333333333,
             "#9c179e"
            ],
            [
             0.4444444444444444,
             "#bd3786"
            ],
            [
             0.5555555555555556,
             "#d8576b"
            ],
            [
             0.6666666666666666,
             "#ed7953"
            ],
            [
             0.7777777777777778,
             "#fb9f3a"
            ],
            [
             0.8888888888888888,
             "#fdca26"
            ],
            [
             1,
             "#f0f921"
            ]
           ],
           "sequentialminus": [
            [
             0,
             "#0d0887"
            ],
            [
             0.1111111111111111,
             "#46039f"
            ],
            [
             0.2222222222222222,
             "#7201a8"
            ],
            [
             0.3333333333333333,
             "#9c179e"
            ],
            [
             0.4444444444444444,
             "#bd3786"
            ],
            [
             0.5555555555555556,
             "#d8576b"
            ],
            [
             0.6666666666666666,
             "#ed7953"
            ],
            [
             0.7777777777777778,
             "#fb9f3a"
            ],
            [
             0.8888888888888888,
             "#fdca26"
            ],
            [
             1,
             "#f0f921"
            ]
           ]
          },
          "colorway": [
           "#636efa",
           "#EF553B",
           "#00cc96",
           "#ab63fa",
           "#FFA15A",
           "#19d3f3",
           "#FF6692",
           "#B6E880",
           "#FF97FF",
           "#FECB52"
          ],
          "font": {
           "color": "#2a3f5f"
          },
          "geo": {
           "bgcolor": "white",
           "lakecolor": "white",
           "landcolor": "#E5ECF6",
           "showlakes": true,
           "showland": true,
           "subunitcolor": "white"
          },
          "hoverlabel": {
           "align": "left"
          },
          "hovermode": "closest",
          "mapbox": {
           "style": "light"
          },
          "paper_bgcolor": "white",
          "plot_bgcolor": "#E5ECF6",
          "polar": {
           "angularaxis": {
            "gridcolor": "white",
            "linecolor": "white",
            "ticks": ""
           },
           "bgcolor": "#E5ECF6",
           "radialaxis": {
            "gridcolor": "white",
            "linecolor": "white",
            "ticks": ""
           }
          },
          "scene": {
           "xaxis": {
            "backgroundcolor": "#E5ECF6",
            "gridcolor": "white",
            "gridwidth": 2,
            "linecolor": "white",
            "showbackground": true,
            "ticks": "",
            "zerolinecolor": "white"
           },
           "yaxis": {
            "backgroundcolor": "#E5ECF6",
            "gridcolor": "white",
            "gridwidth": 2,
            "linecolor": "white",
            "showbackground": true,
            "ticks": "",
            "zerolinecolor": "white"
           },
           "zaxis": {
            "backgroundcolor": "#E5ECF6",
            "gridcolor": "white",
            "gridwidth": 2,
            "linecolor": "white",
            "showbackground": true,
            "ticks": "",
            "zerolinecolor": "white"
           }
          },
          "shapedefaults": {
           "line": {
            "color": "#2a3f5f"
           }
          },
          "ternary": {
           "aaxis": {
            "gridcolor": "white",
            "linecolor": "white",
            "ticks": ""
           },
           "baxis": {
            "gridcolor": "white",
            "linecolor": "white",
            "ticks": ""
           },
           "bgcolor": "#E5ECF6",
           "caxis": {
            "gridcolor": "white",
            "linecolor": "white",
            "ticks": ""
           }
          },
          "title": {
           "x": 0.05
          },
          "xaxis": {
           "automargin": true,
           "gridcolor": "white",
           "linecolor": "white",
           "ticks": "",
           "title": {
            "standoff": 15
           },
           "zerolinecolor": "white",
           "zerolinewidth": 2
          },
          "yaxis": {
           "automargin": true,
           "gridcolor": "white",
           "linecolor": "white",
           "ticks": "",
           "title": {
            "standoff": 15
           },
           "zerolinecolor": "white",
           "zerolinewidth": 2
          }
         }
        },
        "title": {
         "text": "Beer Statistics on a 3D Globe",
         "x": 0.5,
         "xanchor": "center"
        },
        "updatemenus": [
         {
          "buttons": [
           {
            "args": [
             {
              "visible": [
               true,
               true,
               false,
               false,
               false,
               false,
               false,
               false
              ]
             }
            ],
            "label": "Ratings",
            "method": "update"
           },
           {
            "args": [
             {
              "visible": [
               false,
               false,
               true,
               true,
               false,
               false,
               false,
               false
              ]
             }
            ],
            "label": "Breweries",
            "method": "update"
           },
           {
            "args": [
             {
              "visible": [
               false,
               false,
               false,
               false,
               true,
               true,
               false,
               false
              ]
             }
            ],
            "label": "Users",
            "method": "update"
           },
           {
            "args": [
             {
              "visible": [
               false,
               false,
               false,
               false,
               false,
               false,
               true,
               true
              ]
             }
            ],
            "label": "Beers",
            "method": "update"
           }
          ],
          "direction": "down",
          "x": 0.1,
          "xanchor": "left",
          "y": 1,
          "yanchor": "top"
         }
        ],
        "width": 800
       }
      }
     },
     "metadata": {},
     "output_type": "display_data"
    }
   ],
   "source": [
    "# Initialize 3D globe figure\n",
    "fig_globe = go.Figure()\n",
    "\n",
    "# Ratings\n",
    "fig_globe.add_trace(go.Choropleth(\n",
    "    locations=ratings_per_country['country'],\n",
    "    locationmode=\"country names\",\n",
    "    z=ratings_per_country['nbr_ratings'],\n",
    "    colorscale=\"Blues\",\n",
    "    showscale=False,\n",
    "    hovertemplate=\"<b>%{location}</b><br>Count: %{z}<extra></extra>\",  # Customized hover\n",
    "    visible=True\n",
    "))\n",
    "fig_globe.add_trace(go.Choropleth(\n",
    "    locations=ratings_per_state['state_abbrev'],\n",
    "    locationmode=\"USA-states\",\n",
    "    z=ratings_per_state['nbr_ratings'],\n",
    "    colorscale=\"Blues\",\n",
    "    colorbar=dict(\n",
    "        title=\"Ratings\",\n",
    "        tickformat=\".1s\",\n",
    "        len=0.5\n",
    "    ),\n",
    "    hovertemplate=\"<b>%{location}</b><br>Count: %{z}<extra></extra>\",  # Customized hover\n",
    "    visible=True\n",
    "))\n",
    "\n",
    "# Breweries\n",
    "fig_globe.add_trace(go.Choropleth(\n",
    "    locations=breweries_per_country['country'],\n",
    "    locationmode=\"country names\",\n",
    "    z=breweries_per_country['nbr_breweries'],\n",
    "    colorscale=\"Reds\",\n",
    "    showscale=False,\n",
    "    hovertemplate=\"<b>%{location}</b><br>Count: %{z}<extra></extra>\",  # Customized hover\n",
    "    visible=False\n",
    "))\n",
    "fig_globe.add_trace(go.Choropleth(\n",
    "    locations=breweries_per_state['state_abbrev'],\n",
    "    locationmode=\"USA-states\",\n",
    "    z=breweries_per_state['nbr_breweries'],\n",
    "    colorscale=\"Reds\",\n",
    "    colorbar=dict(\n",
    "        title=\"Breweries\",\n",
    "        tickformat=\".1s\",\n",
    "        len=0.5\n",
    "    ),\n",
    "    hovertemplate=\"<b>%{location}</b><br>Count: %{z}<extra></extra>\",  # Customized hover\n",
    "    visible=False\n",
    "))\n",
    "\n",
    "# Users\n",
    "fig_globe.add_trace(go.Choropleth(\n",
    "    locations=users_per_country['country'],\n",
    "    locationmode=\"country names\",\n",
    "    z=users_per_country['nbr_users'],\n",
    "    colorscale=\"Greens\",\n",
    "    showscale=False,\n",
    "    hovertemplate=\"<b>%{location}</b><br>Count: %{z}<extra></extra>\",  # Customized hover\n",
    "    visible=False\n",
    "))\n",
    "fig_globe.add_trace(go.Choropleth(\n",
    "    locations=users_per_state['state_abbrev'],\n",
    "    locationmode=\"USA-states\",\n",
    "    z=users_per_state['nbr_users'],\n",
    "    colorscale=\"Greens\",\n",
    "    colorbar=dict(\n",
    "        title=\"Users\",\n",
    "        tickformat=\".1s\",\n",
    "        len=0.5\n",
    "    ),\n",
    "    hovertemplate=\"<b>%{location}</b><br>Count: %{z}<extra></extra>\",  # Customized hover\n",
    "    visible=False\n",
    "))\n",
    "\n",
    "# Beers\n",
    "fig_globe.add_trace(go.Choropleth(\n",
    "    locations=beers_per_country['country'],\n",
    "    locationmode=\"country names\",\n",
    "    z=beers_per_country['nbr_beers'],\n",
    "    colorscale=\"Oranges\",\n",
    "    showscale=False,\n",
    "    hovertemplate=\"<b>%{location}</b><br>Count: %{z}<extra></extra>\",  # Customized hover\n",
    "    visible=False\n",
    "))\n",
    "fig_globe.add_trace(go.Choropleth(\n",
    "    locations=beers_per_state['state_abbrev'],\n",
    "    locationmode=\"USA-states\",\n",
    "    z=beers_per_state['nbr_beers'],\n",
    "    colorscale=\"Oranges\",\n",
    "    colorbar=dict(\n",
    "        title=\"Beers\",\n",
    "        tickformat=\".1s\",\n",
    "        len=0.5\n",
    "    ),\n",
    "    hovertemplate=\"<b>%{location}</b><br>Count: %{z}<extra></extra>\",  # Customized hover\n",
    "    visible=False\n",
    "))\n",
    "\n",
    "# Dropdown menu\n",
    "fig_globe.update_layout(\n",
    "    updatemenus=[\n",
    "        dict(\n",
    "            buttons=[\n",
    "                dict(args=[{\"visible\": [True, True, False, False, False, False, False, False]}], label=\"Ratings\", method=\"update\"),\n",
    "                dict(args=[{\"visible\": [False, False, True, True, False, False, False, False]}], label=\"Breweries\", method=\"update\"),\n",
    "                dict(args=[{\"visible\": [False, False, False, False, True, True, False, False]}], label=\"Users\", method=\"update\"),\n",
    "                dict(args=[{\"visible\": [False, False, False, False, False, False, True, True]}], label=\"Beers\", method=\"update\"),\n",
    "            ],\n",
    "            direction=\"down\",\n",
    "            x=0.1,\n",
    "            y=1,\n",
    "            xanchor=\"left\",\n",
    "            yanchor=\"top\"\n",
    "        )\n",
    "    ],\n",
    "    title=dict(\n",
    "        text=\"Beer Statistics on a 3D Globe\",\n",
    "        x=0.5,\n",
    "        xanchor=\"center\"\n",
    "    ),\n",
    "    geo=dict(\n",
    "        showframe=False,\n",
    "        showcoastlines=True,\n",
    "        projection_type=\"orthographic\",\n",
    "        showcountries=True,\n",
    "        showland=True,\n",
    "        landcolor=\"rgb(217, 217, 217)\",\n",
    "        lakecolor=\"rgb(255, 255, 255)\",\n",
    "        oceancolor=\"rgb(204, 229, 255)\",\n",
    "        projection_rotation=dict(lat=10, lon=20)\n",
    "    ),\n",
    "    height=600,\n",
    "    width=800\n",
    ")\n",
    "\n",
    "# Show the plot\n",
    "fig_globe.show()\n"
   ]
  },
  {
   "cell_type": "code",
   "execution_count": 50,
   "metadata": {},
   "outputs": [
    {
     "name": "stdout",
     "output_type": "stream",
     "text": [
      "Flat map saved as 'flat_map.html'.\n",
      "3D globe map saved with interactive rotation at ../docs/plots/globe_map_rb.html\n"
     ]
    }
   ],
   "source": [
    "# Save the plots to file\n",
    "from plotly.io import write_html\n",
    "\n",
    "# Save flat map to an HTML file\n",
    "write_html(fig, \"../docs/plots/flat_map_rb.html\")\n",
    "print(\"Flat map saved as 'flat_map.html'.\")\n",
    "\n",
    "# Save the globe map to an HTML file\n",
    "output_file = \"../docs/plots/globe_map_rb.html\"\n",
    "\n",
    "# Add JavaScript for auto-rotation and user interaction\n",
    "rotation_script = \"\"\"\n",
    "<script>\n",
    "    let angle = 0; // Current rotation angle\n",
    "    const rotationSpeed = 0.2; // Rotation speed in degrees per interval\n",
    "    let isDragging = false; // Track if the user is dragging\n",
    "    let lastMouseX = null; // Track the last mouse position\n",
    "    let rotationInterval = null; // Interval for automatic rotation\n",
    "\n",
    "    // Function to rotate the globe automatically\n",
    "    function rotateGlobe() {\n",
    "        if (!isDragging) {\n",
    "            angle = (angle + rotationSpeed) % 360; // Increment angle\n",
    "            Plotly.relayout('globe-map', {\n",
    "                'geo.projection.rotation': {\n",
    "                    lon: angle\n",
    "                }\n",
    "            });\n",
    "        }\n",
    "    }\n",
    "\n",
    "    // Function to start automatic rotation\n",
    "    function startAutoRotation() {\n",
    "        if (!rotationInterval) {\n",
    "            rotationInterval = setInterval(rotateGlobe, 30); // Adjust interval time for smoother rotation\n",
    "        }\n",
    "    }\n",
    "\n",
    "    // Function to stop automatic rotation\n",
    "    function stopAutoRotation() {\n",
    "        if (rotationInterval) {\n",
    "            clearInterval(rotationInterval);\n",
    "            rotationInterval = null;\n",
    "        }\n",
    "    }\n",
    "\n",
    "    // Mouse down event: Start dragging\n",
    "    document.addEventListener('mousedown', (event) => {\n",
    "        if (event.target.closest('#globe-map')) {\n",
    "            isDragging = true;\n",
    "            lastMouseX = event.clientX; // Store the initial mouse position\n",
    "            stopAutoRotation(); // Stop auto rotation during dragging\n",
    "        }\n",
    "    });\n",
    "\n",
    "    // Mouse move event: Rotate globe manually\n",
    "    document.addEventListener('mousemove', (event) => {\n",
    "        if (isDragging && lastMouseX !== null) {\n",
    "            const deltaX = event.clientX - lastMouseX; // Calculate the horizontal mouse movement\n",
    "            angle = (angle - deltaX * 0.5) % 360; // Adjust angle based on mouse movement\n",
    "            lastMouseX = event.clientX; // Update the last mouse position\n",
    "            Plotly.relayout('globe-map', {\n",
    "                'geo.projection.rotation': {\n",
    "                    lon: angle\n",
    "                }\n",
    "            });\n",
    "        }\n",
    "    });\n",
    "\n",
    "    // Mouse up event: Stop dragging and resume auto rotation\n",
    "    document.addEventListener('mouseup', () => {\n",
    "        if (isDragging) {\n",
    "            isDragging = false;\n",
    "            lastMouseX = null;\n",
    "            startAutoRotation(); // Resume auto rotation after dragging\n",
    "        }\n",
    "    });\n",
    "\n",
    "    // Start automatic rotation when the page loads\n",
    "    document.addEventListener(\"DOMContentLoaded\", function () {\n",
    "        startAutoRotation();\n",
    "    });\n",
    "</script>\n",
    "\"\"\"\n",
    "\n",
    "# Save the Plotly figure as an HTML file\n",
    "write_html(fig_globe, file=output_file, full_html=True, div_id=\"globe-map\")\n",
    "\n",
    "# Inject the JavaScript into the HTML file\n",
    "with open(output_file, 'r') as file:\n",
    "    html_content = file.read()\n",
    "\n",
    "# Insert the JavaScript before the closing </body> tag\n",
    "html_content = html_content.replace(\"</body>\", rotation_script + \"</body>\")\n",
    "\n",
    "# Write the updated HTML content back to the file\n",
    "with open(output_file, 'w') as file:\n",
    "    file.write(html_content)\n",
    "\n",
    "print(f\"3D globe map saved with interactive rotation at {output_file}\")\n"
   ]
  }
 ],
 "metadata": {
  "kernelspec": {
   "display_name": "Python 3",
   "language": "python",
   "name": "python3"
  },
  "language_info": {
   "codemirror_mode": {
    "name": "ipython",
    "version": 3
   },
   "file_extension": ".py",
   "mimetype": "text/x-python",
   "name": "python",
   "nbconvert_exporter": "python",
   "pygments_lexer": "ipython3",
   "version": "3.10.12"
  }
 },
 "nbformat": 4,
 "nbformat_minor": 2
}
