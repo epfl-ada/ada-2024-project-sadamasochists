{
 "cells": [
  {
   "cell_type": "code",
   "execution_count": 2,
   "metadata": {},
   "outputs": [],
   "source": [
    "import pandas as pd\n",
    "\n",
    "# Define the folder\n",
    "FOLDER = '../data/processed/'\n",
    "\n",
    "# Load the data\n",
    "df_beers = pd.read_parquet(FOLDER + 'beers.pq')\n",
    "df_breweries = pd.read_parquet(FOLDER + 'breweries.pq')\n",
    "df_users = pd.read_parquet(FOLDER + 'users.pq')\n",
    "df_ratings_no_text = pd.read_parquet(FOLDER + 'ratings_no_text.pq')\n"
   ]
  },
  {
   "cell_type": "code",
   "execution_count": 3,
   "metadata": {},
   "outputs": [],
   "source": [
    "# Merge user and brewery locations into the ratings data\n",
    "df_ratings_no_text = df_ratings_no_text.merge(\n",
    "    df_users[['user_id', 'location']].rename(columns={'location': 'location_user'}),\n",
    "    on='user_id'\n",
    ")\n",
    "df_ratings_no_text = df_ratings_no_text.merge(\n",
    "    df_breweries[['id', 'location']].rename(columns={'location': 'location_brewery', 'id': 'brewery_id'}),\n",
    "    on='brewery_id'\n",
    ")\n",
    "\n",
    "# Filter for years from 2002 onwards\n",
    "df_ratings_no_text['date'] = pd.to_datetime(df_ratings_no_text['date'])\n",
    "df_ratings_no_text = df_ratings_no_text[df_ratings_no_text['date'].dt.year >= 2002]\n"
   ]
  },
  {
   "cell_type": "code",
   "execution_count": 4,
   "metadata": {},
   "outputs": [
    {
     "name": "stdout",
     "output_type": "stream",
     "text": [
      "Beer Columns:\n",
      "Index(['beer_id', 'beer_name', 'brewery_id', 'brewery_name', 'style', 'abv',\n",
      "       'avg', 'std', 'median', 'appearance', 'aroma', 'palate', 'overall',\n",
      "       'nbr_ratings', 'nbr_reviews', 'nbr_interactions'],\n",
      "      dtype='object')\n",
      "\n",
      "Brewery Columns:\n",
      "Index(['id', 'location', 'name', 'nbr_beers'], dtype='object')\n",
      "\n",
      "Users Columns:\n",
      "Index(['user_id', 'user_name', 'location', 'joined', 'nbr_ratings',\n",
      "       'nbr_reviews', 'nbr_interactions'],\n",
      "      dtype='object')\n",
      "\n",
      "Ratings Columns:\n",
      "Index(['user_id', 'rating', 'review', 'abv', 'brewery_name', 'beer_id',\n",
      "       'appearance', 'palate', 'aroma', 'overall', 'taste', 'style',\n",
      "       'beer_name', 'brewery_id', 'date', 'idx', 'location', 'location_user',\n",
      "       'location_brewery'],\n",
      "      dtype='object')\n"
     ]
    }
   ],
   "source": [
    "print(\"Beer Columns:\")\n",
    "print(df_beers.columns)\n",
    "print(\"\\nBrewery Columns:\")\n",
    "print(df_breweries.columns)\n",
    "print(\"\\nUsers Columns:\")\n",
    "print(df_users.columns)\n",
    "print(\"\\nRatings Columns:\")\n",
    "print(df_ratings_no_text.columns)"
   ]
  },
  {
   "cell_type": "code",
   "execution_count": 5,
   "metadata": {},
   "outputs": [],
   "source": [
    "# Select only countries/states with a significant number of ratings\n",
    "MIN_RATINGS_THRESHOLD = 1\n",
    "number_of_ratings_per_location = df_ratings_no_text['location_brewery'].value_counts()\n",
    "popular_locations = number_of_ratings_per_location[number_of_ratings_per_location > MIN_RATINGS_THRESHOLD].index\n",
    "\n",
    "# Filter the data\n",
    "df_ratings_no_text = df_ratings_no_text[df_ratings_no_text['location_brewery'].isin(popular_locations)]\n",
    "df_beers = df_beers[df_beers['beer_id'].isin(df_ratings_no_text['beer_id'].unique())]\n",
    "df_breweries = df_breweries[df_breweries['id'].isin(df_ratings_no_text['brewery_id'].unique())]\n"
   ]
  },
  {
   "cell_type": "code",
   "execution_count": 6,
   "metadata": {},
   "outputs": [],
   "source": [
    "# Define a mapping of U.S. states to abbreviations\n",
    "state_abbrev = {\n",
    "    \"Alabama\": \"AL\", \"Alaska\": \"AK\", \"Arizona\": \"AZ\", \"Arkansas\": \"AR\",\n",
    "    \"California\": \"CA\", \"Colorado\": \"CO\", \"Connecticut\": \"CT\", \"Delaware\": \"DE\",\n",
    "    \"Florida\": \"FL\", \"Georgia\": \"GA\", \"Hawaii\": \"HI\", \"Idaho\": \"ID\",\n",
    "    \"Illinois\": \"IL\", \"Indiana\": \"IN\", \"Iowa\": \"IA\", \"Kansas\": \"KS\",\n",
    "    \"Kentucky\": \"KY\", \"Louisiana\": \"LA\", \"Maine\": \"ME\", \"Maryland\": \"MD\",\n",
    "    \"Massachusetts\": \"MA\", \"Michigan\": \"MI\", \"Minnesota\": \"MN\", \"Mississippi\": \"MS\",\n",
    "    \"Missouri\": \"MO\", \"Montana\": \"MT\", \"Nebraska\": \"NE\", \"Nevada\": \"NV\",\n",
    "    \"New Hampshire\": \"NH\", \"New Jersey\": \"NJ\", \"New Mexico\": \"NM\", \"New York\": \"NY\",\n",
    "    \"North Carolina\": \"NC\", \"North Dakota\": \"ND\", \"Ohio\": \"OH\", \"Oklahoma\": \"OK\",\n",
    "    \"Oregon\": \"OR\", \"Pennsylvania\": \"PA\", \"Rhode Island\": \"RI\", \"South Carolina\": \"SC\",\n",
    "    \"South Dakota\": \"SD\", \"Tennessee\": \"TN\", \"Texas\": \"TX\", \"Utah\": \"UT\",\n",
    "    \"Vermont\": \"VT\", \"Virginia\": \"VA\", \"Washington\": \"WA\", \"West Virginia\": \"WV\",\n",
    "    \"Wisconsin\": \"WI\", \"Wyoming\": \"WY\"\n",
    "}\n",
    "\n",
    "# Add state and country information to the datasets\n",
    "def add_location_info(df, location_column):\n",
    "    df['is_us'] = df[location_column].str.contains(\"United States\")\n",
    "    df['state_name'] = df[location_column].where(df['is_us']).str.split(\",\").str[1]\n",
    "    df['state_abbrev'] = df['state_name'].map(state_abbrev)\n",
    "    df['country'] = df[location_column].where(~df['is_us'])\n",
    "    return df\n",
    "\n",
    "df_ratings_no_text = add_location_info(df_ratings_no_text, 'location_brewery')\n",
    "df_breweries = add_location_info(df_breweries, 'location')\n",
    "df_users = add_location_info(df_users, 'location')\n",
    "df_beers = df_beers.merge(df_breweries[['id', 'location']], left_on='brewery_id', right_on='id')\n",
    "df_beers = add_location_info(df_beers, 'location')\n"
   ]
  },
  {
   "cell_type": "code",
   "execution_count": 7,
   "metadata": {},
   "outputs": [],
   "source": [
    "# Ratings per country and state\n",
    "ratings_per_country = df_ratings_no_text[~df_ratings_no_text['is_us']].groupby('country').size().reset_index(name='nbr_ratings')\n",
    "ratings_per_state = df_ratings_no_text[df_ratings_no_text['is_us']].groupby('state_abbrev').size().reset_index(name='nbr_ratings')\n",
    "\n",
    "# Breweries per country and state\n",
    "breweries_per_country = df_breweries[~df_breweries['is_us']].groupby('country').size().reset_index(name='nbr_breweries')\n",
    "breweries_per_state = df_breweries[df_breweries['is_us']].groupby('state_abbrev').size().reset_index(name='nbr_breweries')\n",
    "\n",
    "# Users per country and state\n",
    "users_per_country = df_users[~df_users['is_us']].groupby('country').size().reset_index(name='nbr_users')\n",
    "users_per_state = df_users[df_users['is_us']].groupby('state_abbrev').size().reset_index(name='nbr_users')\n",
    "\n",
    "# Beers per country and state\n",
    "beers_per_country = df_beers[~df_beers['is_us']].groupby('country').size().reset_index(name='nbr_beers')\n",
    "beers_per_state = df_beers[df_beers['is_us']].groupby('state_abbrev').size().reset_index(name='nbr_beers')\n"
   ]
  },
  {
   "cell_type": "code",
   "execution_count": 22,
   "metadata": {},
   "outputs": [
    {
     "data": {
      "application/vnd.plotly.v1+json": {
       "config": {
        "plotlyServerURL": "https://plot.ly"
       },
       "data": [
        {
         "colorbar": {
          "len": 0.5,
          "tickformat": ".1s",
          "title": {
           "text": "Ratings"
          }
         },
         "colorscale": [
          [
           0,
           "rgb(247,251,255)"
          ],
          [
           0.125,
           "rgb(222,235,247)"
          ],
          [
           0.25,
           "rgb(198,219,239)"
          ],
          [
           0.375,
           "rgb(158,202,225)"
          ],
          [
           0.5,
           "rgb(107,174,214)"
          ],
          [
           0.625,
           "rgb(66,146,198)"
          ],
          [
           0.75,
           "rgb(33,113,181)"
          ],
          [
           0.875,
           "rgb(8,81,156)"
          ],
          [
           1,
           "rgb(8,48,107)"
          ]
         ],
         "hovertemplate": "<b>%{location}</b><br>Count: %{z}<extra></extra>",
         "locationmode": "country names",
         "locations": [
          "Albania",
          "Algeria",
          "Andorra",
          "Angola",
          "Antigua & Barbuda",
          "Argentina",
          "Armenia",
          "Aruba",
          "Australia",
          "Austria",
          "Azerbaijan",
          "Bahamas",
          "Bangladesh",
          "Barbados",
          "Belarus",
          "Belgium",
          "Belize",
          "Benin",
          "Bermuda",
          "Bhutan",
          "Bolivia",
          "Bosnia and Herzegovina",
          "Botswana",
          "Brazil",
          "Bulgaria",
          "Burkina Faso",
          "Cambodia",
          "Cameroon",
          "Canada",
          "Cape Verde Islands",
          "Cayman Islands",
          "Chile",
          "China",
          "Colombia",
          "Congo",
          "Cook Islands",
          "Costa Rica",
          "Croatia",
          "Cuba",
          "Curaçao",
          "Cyprus",
          "Czechia",
          "Denmark",
          "Dominica",
          "Dominican Republic",
          "Ecuador",
          "Egypt",
          "El Salvador",
          "Eritrea",
          "Estonia",
          "Ethiopia",
          "Faroe Islands",
          "Fiji Islands",
          "Finland",
          "France",
          "French Guiana",
          "French Polynesia",
          "Gambia",
          "Georgia",
          "Germany",
          "Ghana",
          "Greece",
          "Greenland",
          "Grenada",
          "Guadeloupe",
          "Guam",
          "Guatemala",
          "Guernsey",
          "Haiti",
          "Honduras",
          "Hong Kong",
          "Hungary",
          "Iceland",
          "Illinois",
          "India",
          "Indonesia",
          "Iran",
          "Iraq",
          "Ireland",
          "Isle of Man",
          "Israel",
          "Italy",
          "Ivory Coast",
          "Jamaica",
          "Japan",
          "Jersey",
          "Jordan",
          "Kazakhstan",
          "Kenya",
          "Laos",
          "Latvia",
          "Lebanon",
          "Lesotho",
          "Liechtenstein",
          "Lithuania",
          "Luxembourg",
          "Macau",
          "Macedonia",
          "Madagascar",
          "Malaysia",
          "Malta",
          "Martinique",
          "Mauritius",
          "Mexico",
          "Micronesia",
          "Moldova",
          "Monaco",
          "Mongolia",
          "Montenegro",
          "Morocco",
          "Mozambique",
          "Myanmar",
          "Namibia",
          "Nepal",
          "Netherlands",
          "New Caledonia",
          "New York",
          "New Zealand",
          "Nicaragua",
          "Nigeria",
          "North Korea",
          "Norway",
          "Pakistan",
          "Palau",
          "Palestine",
          "Panama",
          "Papua New Guinea",
          "Peru",
          "Philippines",
          "Poland",
          "Portugal",
          "Puerto Rico",
          "Republic of Serbia",
          "Romania",
          "Russia",
          "Rwanda",
          "Saint Lucia",
          "Saint Vincent and The Grenadines",
          "Samoa",
          "San Marino",
          "Senegal",
          "Seychelles",
          "Singapore",
          "Slovakia",
          "Slovenia",
          "Solomon Islands",
          "South Africa",
          "South Korea",
          "South Sudan",
          "Spain",
          "Sri Lanka",
          "Suriname",
          "Swaziland",
          "Sweden",
          "Switzerland",
          "Syria",
          "Taiwan",
          "Tanzania",
          "Thailand",
          "Tonga",
          "Trinidad & Tobago",
          "Tunisia",
          "Turkey",
          "Turks and Caicos Islands",
          "Uganda",
          "Ukraine",
          "United Arab Emirates",
          "United Kingdom",
          "Uruguay",
          "Uzbekistan",
          "Vanuatu",
          "Venezuela",
          "Vietnam",
          "Zambia",
          "Zimbabwe"
         ],
         "type": "choropleth",
         "visible": true,
         "z": [
          80,
          17,
          26,
          6,
          49,
          947,
          208,
          200,
          24080,
          11342,
          18,
          725,
          2,
          284,
          138,
          378164,
          262,
          4,
          115,
          15,
          140,
          236,
          2,
          7200,
          496,
          6,
          167,
          3,
          197234,
          14,
          212,
          549,
          3238,
          456,
          9,
          3,
          1030,
          915,
          251,
          8,
          156,
          14581,
          55476,
          33,
          938,
          121,
          102,
          571,
          6,
          1245,
          354,
          27,
          42,
          2407,
          13431,
          12,
          184,
          6,
          65,
          180571,
          31,
          2110,
          21,
          5,
          2,
          27,
          594,
          9,
          98,
          257,
          100,
          753,
          3065,
          9,
          2297,
          238,
          4,
          2,
          37218,
          69,
          720,
          19332,
          15,
          3827,
          20900,
          30,
          26,
          41,
          755,
          415,
          527,
          565,
          5,
          41,
          2893,
          262,
          17,
          80,
          12,
          37,
          299,
          7,
          37,
          30324,
          5,
          74,
          16,
          18,
          121,
          199,
          36,
          67,
          199,
          66,
          44875,
          6,
          32,
          10010,
          302,
          71,
          11,
          12221,
          6,
          9,
          64,
          301,
          8,
          796,
          1391,
          8918,
          1322,
          550,
          645,
          1478,
          6839,
          3,
          128,
          14,
          9,
          7,
          18,
          5,
          1251,
          739,
          534,
          2,
          659,
          1090,
          3,
          7684,
          1892,
          21,
          3,
          16040,
          5792,
          4,
          354,
          94,
          2179,
          3,
          833,
          10,
          1302,
          117,
          27,
          1325,
          2,
          189996,
          143,
          5,
          37,
          198,
          923,
          11,
          38
         ]
        },
        {
         "colorbar": {
          "len": 0.5,
          "tickformat": ".1s",
          "title": {
           "text": "Ratings"
          }
         },
         "colorscale": [
          [
           0,
           "rgb(247,251,255)"
          ],
          [
           0.125,
           "rgb(222,235,247)"
          ],
          [
           0.25,
           "rgb(198,219,239)"
          ],
          [
           0.375,
           "rgb(158,202,225)"
          ],
          [
           0.5,
           "rgb(107,174,214)"
          ],
          [
           0.625,
           "rgb(66,146,198)"
          ],
          [
           0.75,
           "rgb(33,113,181)"
          ],
          [
           0.875,
           "rgb(8,81,156)"
          ],
          [
           1,
           "rgb(8,48,107)"
          ]
         ],
         "hovertemplate": "<b>%{location}</b><br>Count: %{z}<extra></extra>",
         "locationmode": "USA-states",
         "locations": [
          "AK",
          "AL",
          "AR",
          "AZ",
          "CA",
          "CO",
          "CT",
          "DE",
          "FL",
          "GA",
          "HI",
          "IA",
          "ID",
          "IL",
          "IN",
          "KS",
          "KY",
          "LA",
          "MA",
          "MD",
          "ME",
          "MI",
          "MN",
          "MO",
          "MS",
          "MT",
          "NC",
          "ND",
          "NE",
          "NH",
          "NJ",
          "NM",
          "NV",
          "NY",
          "OH",
          "OK",
          "OR",
          "PA",
          "RI",
          "SC",
          "SD",
          "TN",
          "TX",
          "UT",
          "VA",
          "VT",
          "WA",
          "WI",
          "WV",
          "WY"
         ],
         "type": "choropleth",
         "visible": true,
         "z": [
          31595,
          10809,
          3198,
          16512,
          1271944,
          453584,
          47630,
          147118,
          138110,
          77014,
          20764,
          32440,
          14244,
          264607,
          126180,
          14202,
          24368,
          33852,
          349360,
          108957,
          121850,
          434695,
          108127,
          183856,
          6536,
          16307,
          110243,
          1126,
          10363,
          70638,
          47186,
          13938,
          6309,
          429666,
          147471,
          43559,
          286803,
          312366,
          16003,
          36777,
          1900,
          16007,
          146126,
          42020,
          77446,
          194422,
          78362,
          203845,
          2575,
          4548
         ]
        },
        {
         "colorbar": {
          "len": 0.5,
          "tickformat": ".1s",
          "title": {
           "text": "Breweries"
          }
         },
         "colorscale": [
          [
           0,
           "rgb(255,245,240)"
          ],
          [
           0.125,
           "rgb(254,224,210)"
          ],
          [
           0.25,
           "rgb(252,187,161)"
          ],
          [
           0.375,
           "rgb(252,146,114)"
          ],
          [
           0.5,
           "rgb(251,106,74)"
          ],
          [
           0.625,
           "rgb(239,59,44)"
          ],
          [
           0.75,
           "rgb(203,24,29)"
          ],
          [
           0.875,
           "rgb(165,15,21)"
          ],
          [
           1,
           "rgb(103,0,13)"
          ]
         ],
         "hovertemplate": "<b>%{location}</b><br>Count: %{z}<extra></extra>",
         "locationmode": "country names",
         "locations": [
          "Albania",
          "Algeria",
          "Andorra",
          "Angola",
          "Antigua & Barbuda",
          "Argentina",
          "Armenia",
          "Aruba",
          "Australia",
          "Austria",
          "Azerbaijan",
          "Bahamas",
          "Bangladesh",
          "Barbados",
          "Belarus",
          "Belgium",
          "Belize",
          "Benin",
          "Bermuda",
          "Bhutan",
          "Bolivia",
          "Bosnia and Herzegovina",
          "Botswana",
          "Brazil",
          "Bulgaria",
          "Burkina Faso",
          "Cambodia",
          "Cameroon",
          "Canada",
          "Cape Verde Islands",
          "Cayman Islands",
          "Chile",
          "China",
          "Colombia",
          "Congo",
          "Cook Islands",
          "Costa Rica",
          "Croatia",
          "Cuba",
          "Curaçao",
          "Cyprus",
          "Czechia",
          "Denmark",
          "Dominica",
          "Dominican Republic",
          "Ecuador",
          "Egypt",
          "El Salvador",
          "Eritrea",
          "Estonia",
          "Ethiopia",
          "Faroe Islands",
          "Fiji Islands",
          "Finland",
          "France",
          "French Guiana",
          "French Polynesia",
          "Gambia",
          "Georgia",
          "Germany",
          "Ghana",
          "Greece",
          "Greenland",
          "Grenada",
          "Guadeloupe",
          "Guam",
          "Guatemala",
          "Guernsey",
          "Haiti",
          "Honduras",
          "Hong Kong",
          "Hungary",
          "Iceland",
          "Illinois",
          "India",
          "Indonesia",
          "Iran",
          "Iraq",
          "Ireland",
          "Isle of Man",
          "Israel",
          "Italy",
          "Ivory Coast",
          "Jamaica",
          "Japan",
          "Jersey",
          "Jordan",
          "Kazakhstan",
          "Kenya",
          "Laos",
          "Latvia",
          "Lebanon",
          "Lesotho",
          "Liechtenstein",
          "Lithuania",
          "Luxembourg",
          "Macau",
          "Macedonia",
          "Madagascar",
          "Malaysia",
          "Malta",
          "Martinique",
          "Mauritius",
          "Mexico",
          "Micronesia",
          "Moldova",
          "Monaco",
          "Mongolia",
          "Montenegro",
          "Morocco",
          "Mozambique",
          "Myanmar",
          "Namibia",
          "Nepal",
          "Netherlands",
          "New Caledonia",
          "New York",
          "New Zealand",
          "Nicaragua",
          "Nigeria",
          "North Korea",
          "Norway",
          "Pakistan",
          "Palau",
          "Palestine",
          "Panama",
          "Papua New Guinea",
          "Peru",
          "Philippines",
          "Poland",
          "Portugal",
          "Puerto Rico",
          "Republic of Serbia",
          "Romania",
          "Russia",
          "Rwanda",
          "Saint Lucia",
          "Saint Vincent and The Grenadines",
          "Samoa",
          "San Marino",
          "Senegal",
          "Seychelles",
          "Singapore",
          "Slovakia",
          "Slovenia",
          "Solomon Islands",
          "South Africa",
          "South Korea",
          "South Sudan",
          "Spain",
          "Sri Lanka",
          "Suriname",
          "Swaziland",
          "Sweden",
          "Switzerland",
          "Syria",
          "Taiwan",
          "Tanzania",
          "Thailand",
          "Tonga",
          "Trinidad & Tobago",
          "Tunisia",
          "Turkey",
          "Turks and Caicos Islands",
          "Uganda",
          "Ukraine",
          "United Arab Emirates",
          "United Kingdom",
          "Uruguay",
          "Uzbekistan",
          "Vanuatu",
          "Venezuela",
          "Vietnam",
          "Zambia",
          "Zimbabwe"
         ],
         "type": "choropleth",
         "visible": false,
         "z": [
          8,
          5,
          1,
          2,
          1,
          35,
          3,
          1,
          320,
          93,
          2,
          4,
          1,
          2,
          9,
          305,
          2,
          2,
          1,
          3,
          5,
          7,
          1,
          153,
          22,
          1,
          10,
          1,
          726,
          1,
          2,
          41,
          40,
          12,
          3,
          1,
          20,
          20,
          3,
          2,
          6,
          117,
          96,
          1,
          2,
          17,
          3,
          2,
          2,
          29,
          7,
          2,
          3,
          47,
          286,
          1,
          2,
          1,
          8,
          909,
          2,
          38,
          2,
          1,
          1,
          3,
          3,
          2,
          1,
          2,
          8,
          31,
          15,
          1,
          26,
          7,
          2,
          1,
          77,
          5,
          28,
          297,
          2,
          2,
          157,
          2,
          2,
          10,
          4,
          3,
          25,
          4,
          1,
          2,
          44,
          11,
          1,
          5,
          2,
          3,
          6,
          1,
          2,
          117,
          1,
          7,
          1,
          3,
          2,
          1,
          1,
          4,
          3,
          7,
          217,
          2,
          1,
          92,
          5,
          2,
          2,
          67,
          1,
          1,
          2,
          6,
          1,
          13,
          21,
          131,
          39,
          12,
          28,
          36,
          193,
          1,
          2,
          1,
          2,
          2,
          1,
          1,
          10,
          23,
          12,
          1,
          47,
          22,
          1,
          260,
          3,
          2,
          1,
          162,
          74,
          2,
          15,
          2,
          13,
          1,
          2,
          1,
          7,
          1,
          3,
          33,
          1,
          1025,
          4,
          3,
          3,
          5,
          30,
          1,
          1
         ]
        },
        {
         "colorbar": {
          "len": 0.5,
          "tickformat": ".1s",
          "title": {
           "text": "Breweries"
          }
         },
         "colorscale": [
          [
           0,
           "rgb(255,245,240)"
          ],
          [
           0.125,
           "rgb(254,224,210)"
          ],
          [
           0.25,
           "rgb(252,187,161)"
          ],
          [
           0.375,
           "rgb(252,146,114)"
          ],
          [
           0.5,
           "rgb(251,106,74)"
          ],
          [
           0.625,
           "rgb(239,59,44)"
          ],
          [
           0.75,
           "rgb(203,24,29)"
          ],
          [
           0.875,
           "rgb(165,15,21)"
          ],
          [
           1,
           "rgb(103,0,13)"
          ]
         ],
         "hovertemplate": "<b>%{location}</b><br>Count: %{z}<extra></extra>",
         "locationmode": "USA-states",
         "locations": [
          "AK",
          "AL",
          "AR",
          "AZ",
          "CA",
          "CO",
          "CT",
          "DE",
          "FL",
          "GA",
          "HI",
          "IA",
          "ID",
          "IL",
          "IN",
          "KS",
          "KY",
          "LA",
          "MA",
          "MD",
          "ME",
          "MI",
          "MN",
          "MO",
          "MS",
          "MT",
          "NC",
          "ND",
          "NE",
          "NH",
          "NJ",
          "NM",
          "NV",
          "NY",
          "OH",
          "OK",
          "OR",
          "PA",
          "RI",
          "SC",
          "SD",
          "TN",
          "TX",
          "UT",
          "VA",
          "VT",
          "WA",
          "WI",
          "WV",
          "WY"
         ],
         "type": "choropleth",
         "visible": false,
         "z": [
          34,
          40,
          27,
          92,
          763,
          334,
          89,
          17,
          233,
          67,
          21,
          67,
          53,
          225,
          133,
          36,
          44,
          30,
          157,
          88,
          93,
          274,
          166,
          103,
          16,
          67,
          205,
          12,
          40,
          70,
          90,
          65,
          42,
          346,
          187,
          29,
          238,
          269,
          20,
          61,
          22,
          68,
          239,
          26,
          196,
          79,
          328,
          190,
          20,
          30
         ]
        },
        {
         "colorbar": {
          "len": 0.5,
          "tickformat": ".1s",
          "title": {
           "text": "Users"
          }
         },
         "colorscale": [
          [
           0,
           "rgb(247,252,245)"
          ],
          [
           0.125,
           "rgb(229,245,224)"
          ],
          [
           0.25,
           "rgb(199,233,192)"
          ],
          [
           0.375,
           "rgb(161,217,155)"
          ],
          [
           0.5,
           "rgb(116,196,118)"
          ],
          [
           0.625,
           "rgb(65,171,93)"
          ],
          [
           0.75,
           "rgb(35,139,69)"
          ],
          [
           0.875,
           "rgb(0,109,44)"
          ],
          [
           1,
           "rgb(0,68,27)"
          ]
         ],
         "hovertemplate": "<b>%{location}</b><br>Count: %{z}<extra></extra>",
         "locationmode": "country names",
         "locations": [
          "Afghanistan",
          "Albania",
          "American Samoa",
          "Andorra",
          "Angola",
          "Anguilla",
          "Antarctica",
          "Antigua and Barbuda",
          "Aotearoa",
          "Argentina",
          "Aruba",
          "Australia",
          "Austria",
          "Bahamas",
          "Barbados",
          "Belarus",
          "Belgium",
          "Belize",
          "Bermuda",
          "Bhutan",
          "Bolivia",
          "Bosnia and Herzegovina",
          "Bouvet Island",
          "Brazil",
          "British Indian Ocean Territory",
          "Bulgaria",
          "Burkina Faso",
          "Cambodia",
          "Canada",
          "Cayman Islands",
          "Chile",
          "China",
          "Christmas Island",
          "Colombia",
          "Costa Rica",
          "Croatia",
          "Cyprus",
          "Czechia",
          "Denmark",
          "Dominican Republic",
          "Ecuador",
          "Egypt",
          "El Salvador",
          "Equatorial Guinea",
          "Estonia",
          "Ethiopia",
          "Faroe Islands",
          "Fiji Islands",
          "Finland",
          "France",
          "Germany",
          "Gibraltar",
          "Greece",
          "Guam",
          "Guatemala",
          "Guernsey",
          "Haiti",
          "Heard and McDonald Islands",
          "Honduras",
          "Hong Kong",
          "Hungary",
          "Iceland",
          "India",
          "Indonesia",
          "Ireland",
          "Isle of Man",
          "Israel",
          "Italy",
          "Japan",
          "Jersey",
          "Jordan",
          "Kazakhstan",
          "Kenya",
          "Kyrgyzstan",
          "Latvia",
          "Lebanon",
          "Lesotho",
          "Liberia",
          "Lithuania",
          "Luxembourg",
          "Macedonia",
          "Malaysia",
          "Malta",
          "Malvinas",
          "Marshall Islands",
          "Mauritania",
          "Mauritius",
          "Mexico",
          "Moldova",
          "Mozambique",
          "Netherlands",
          "New Caledonia",
          "Nicaragua",
          "Nigeria",
          "Northern Mariana Islands",
          "Norway",
          "Palestine",
          "Panama",
          "Papua New Guinea",
          "Paraguay",
          "Peru",
          "Philippines",
          "Poland",
          "Portugal",
          "Puerto Rico",
          "Republic of Serbia",
          "Romania",
          "Russia",
          "Rwanda",
          "Seychelles",
          "Singapore",
          "Sint Maarten",
          "Slovakia",
          "Slovenia",
          "Solomon Islands",
          "South Africa",
          "South Georgia and South Sandwich Islands",
          "Spain",
          "Sri Lanka",
          "Svalbard and Jan Mayen Islands",
          "Sweden",
          "Switzerland",
          "Taiwan",
          "Tajikistan",
          "Tanzania",
          "Thailand",
          "Tokelau",
          "Trinidad and Tobago",
          "Turkey",
          "Turkmenistan",
          "Uganda",
          "Ukraine",
          "United Arab Emirates",
          "United Kingdom",
          "Uruguay",
          "Uzbekistan",
          "Vanuatu",
          "Venezuela",
          "Vietnam",
          "Zimbabwe"
         ],
         "type": "choropleth",
         "visible": false,
         "z": [
          5,
          1,
          4,
          3,
          1,
          1,
          8,
          1,
          49,
          23,
          4,
          519,
          27,
          8,
          2,
          10,
          227,
          1,
          5,
          2,
          2,
          8,
          2,
          267,
          1,
          18,
          2,
          2,
          3296,
          2,
          22,
          52,
          1,
          15,
          22,
          44,
          7,
          47,
          73,
          24,
          5,
          1,
          7,
          1,
          19,
          2,
          4,
          1,
          68,
          135,
          372,
          1,
          44,
          7,
          11,
          2,
          1,
          1,
          5,
          27,
          33,
          14,
          23,
          9,
          175,
          3,
          31,
          147,
          142,
          1,
          1,
          1,
          5,
          1,
          6,
          11,
          1,
          1,
          24,
          9,
          6,
          6,
          6,
          1,
          1,
          1,
          1,
          190,
          5,
          2,
          270,
          2,
          1,
          1,
          2,
          120,
          1,
          26,
          2,
          4,
          9,
          26,
          64,
          52,
          78,
          42,
          62,
          190,
          1,
          1,
          46,
          1,
          12,
          35,
          1,
          36,
          1,
          167,
          1,
          2,
          307,
          62,
          40,
          4,
          2,
          45,
          1,
          3,
          56,
          1,
          3,
          25,
          6,
          943,
          8,
          2,
          2,
          6,
          7,
          1
         ]
        },
        {
         "colorbar": {
          "len": 0.5,
          "tickformat": ".1s",
          "title": {
           "text": "Users"
          }
         },
         "colorscale": [
          [
           0,
           "rgb(247,252,245)"
          ],
          [
           0.125,
           "rgb(229,245,224)"
          ],
          [
           0.25,
           "rgb(199,233,192)"
          ],
          [
           0.375,
           "rgb(161,217,155)"
          ],
          [
           0.5,
           "rgb(116,196,118)"
          ],
          [
           0.625,
           "rgb(65,171,93)"
          ],
          [
           0.75,
           "rgb(35,139,69)"
          ],
          [
           0.875,
           "rgb(0,109,44)"
          ],
          [
           1,
           "rgb(0,68,27)"
          ]
         ],
         "hovertemplate": "<b>%{location}</b><br>Count: %{z}<extra></extra>",
         "locationmode": "USA-states",
         "locations": [
          "AK",
          "AL",
          "AR",
          "AZ",
          "CA",
          "CO",
          "CT",
          "DE",
          "FL",
          "GA",
          "HI",
          "IA",
          "ID",
          "IL",
          "IN",
          "KS",
          "KY",
          "LA",
          "MA",
          "MD",
          "ME",
          "MI",
          "MN",
          "MO",
          "MS",
          "MT",
          "NC",
          "ND",
          "NE",
          "NH",
          "NJ",
          "NM",
          "NV",
          "NY",
          "OH",
          "OK",
          "OR",
          "PA",
          "RI",
          "SC",
          "SD",
          "TN",
          "TX",
          "UT",
          "VA",
          "VT",
          "WA",
          "WI",
          "WV",
          "WY"
         ],
         "type": "choropleth",
         "visible": false,
         "z": [
          235,
          1023,
          422,
          1314,
          11567,
          2320,
          2786,
          430,
          4593,
          2615,
          210,
          1007,
          259,
          6846,
          2626,
          724,
          1201,
          728,
          6580,
          2320,
          877,
          4178,
          2848,
          1690,
          333,
          241,
          3376,
          169,
          496,
          1164,
          3689,
          338,
          469,
          7376,
          4738,
          732,
          1623,
          8612,
          773,
          1302,
          167,
          1301,
          5880,
          295,
          3593,
          778,
          2882,
          2371,
          374,
          102
         ]
        },
        {
         "colorbar": {
          "len": 0.5,
          "tickformat": ".1s",
          "title": {
           "text": "Beers"
          }
         },
         "colorscale": [
          [
           0,
           "rgb(255,245,235)"
          ],
          [
           0.125,
           "rgb(254,230,206)"
          ],
          [
           0.25,
           "rgb(253,208,162)"
          ],
          [
           0.375,
           "rgb(253,174,107)"
          ],
          [
           0.5,
           "rgb(253,141,60)"
          ],
          [
           0.625,
           "rgb(241,105,19)"
          ],
          [
           0.75,
           "rgb(217,72,1)"
          ],
          [
           0.875,
           "rgb(166,54,3)"
          ],
          [
           1,
           "rgb(127,39,4)"
          ]
         ],
         "hovertemplate": "<b>%{location}</b><br>Count: %{z}<extra></extra>",
         "locationmode": "country names",
         "locations": [
          "Albania",
          "Algeria",
          "Andorra",
          "Angola",
          "Antigua & Barbuda",
          "Argentina",
          "Armenia",
          "Aruba",
          "Australia",
          "Austria",
          "Azerbaijan",
          "Bahamas",
          "Bangladesh",
          "Barbados",
          "Belarus",
          "Belgium",
          "Belize",
          "Benin",
          "Bermuda",
          "Bhutan",
          "Bolivia",
          "Bosnia and Herzegovina",
          "Botswana",
          "Brazil",
          "Bulgaria",
          "Burkina Faso",
          "Cambodia",
          "Cameroon",
          "Canada",
          "Cape Verde Islands",
          "Cayman Islands",
          "Chile",
          "China",
          "Colombia",
          "Congo",
          "Cook Islands",
          "Costa Rica",
          "Croatia",
          "Cuba",
          "Curaçao",
          "Cyprus",
          "Czechia",
          "Denmark",
          "Dominica",
          "Dominican Republic",
          "Ecuador",
          "Egypt",
          "El Salvador",
          "Eritrea",
          "Estonia",
          "Ethiopia",
          "Faroe Islands",
          "Fiji Islands",
          "Finland",
          "France",
          "French Guiana",
          "French Polynesia",
          "Gambia",
          "Georgia",
          "Germany",
          "Ghana",
          "Greece",
          "Greenland",
          "Grenada",
          "Guadeloupe",
          "Guam",
          "Guatemala",
          "Guernsey",
          "Haiti",
          "Honduras",
          "Hong Kong",
          "Hungary",
          "Iceland",
          "Illinois",
          "India",
          "Indonesia",
          "Iran",
          "Iraq",
          "Ireland",
          "Isle of Man",
          "Israel",
          "Italy",
          "Ivory Coast",
          "Jamaica",
          "Japan",
          "Jersey",
          "Jordan",
          "Kazakhstan",
          "Kenya",
          "Laos",
          "Latvia",
          "Lebanon",
          "Lesotho",
          "Liechtenstein",
          "Lithuania",
          "Luxembourg",
          "Macau",
          "Macedonia",
          "Madagascar",
          "Malaysia",
          "Malta",
          "Martinique",
          "Mauritius",
          "Mexico",
          "Micronesia",
          "Moldova",
          "Monaco",
          "Mongolia",
          "Montenegro",
          "Morocco",
          "Mozambique",
          "Myanmar",
          "Namibia",
          "Nepal",
          "Netherlands",
          "New Caledonia",
          "New York",
          "New Zealand",
          "Nicaragua",
          "Nigeria",
          "North Korea",
          "Norway",
          "Pakistan",
          "Palau",
          "Palestine",
          "Panama",
          "Papua New Guinea",
          "Peru",
          "Philippines",
          "Poland",
          "Portugal",
          "Puerto Rico",
          "Republic of Serbia",
          "Romania",
          "Russia",
          "Rwanda",
          "Saint Lucia",
          "Saint Vincent and The Grenadines",
          "Samoa",
          "San Marino",
          "Senegal",
          "Seychelles",
          "Singapore",
          "Slovakia",
          "Slovenia",
          "Solomon Islands",
          "South Africa",
          "South Korea",
          "South Sudan",
          "Spain",
          "Sri Lanka",
          "Suriname",
          "Swaziland",
          "Sweden",
          "Switzerland",
          "Syria",
          "Taiwan",
          "Tanzania",
          "Thailand",
          "Tonga",
          "Trinidad & Tobago",
          "Tunisia",
          "Turkey",
          "Turks and Caicos Islands",
          "Uganda",
          "Ukraine",
          "United Arab Emirates",
          "United Kingdom",
          "Uruguay",
          "Uzbekistan",
          "Vanuatu",
          "Venezuela",
          "Vietnam",
          "Zambia",
          "Zimbabwe"
         ],
         "type": "choropleth",
         "visible": false,
         "z": [
          14,
          12,
          9,
          2,
          2,
          119,
          24,
          4,
          2953,
          678,
          8,
          24,
          2,
          16,
          66,
          4133,
          9,
          3,
          8,
          7,
          18,
          26,
          1,
          930,
          101,
          2,
          43,
          3,
          14084,
          3,
          11,
          135,
          257,
          54,
          6,
          1,
          91,
          76,
          14,
          8,
          15,
          791,
          2254,
          1,
          9,
          44,
          16,
          32,
          2,
          217,
          15,
          15,
          5,
          490,
          1586,
          1,
          5,
          2,
          22,
          5282,
          5,
          158,
          9,
          5,
          1,
          14,
          36,
          9,
          1,
          5,
          41,
          181,
          135,
          3,
          97,
          23,
          3,
          1,
          708,
          27,
          127,
          1631,
          4,
          20,
          1371,
          22,
          10,
          36,
          13,
          8,
          110,
          26,
          1,
          11,
          416,
          49,
          1,
          19,
          7,
          6,
          28,
          2,
          5,
          572,
          2,
          33,
          4,
          6,
          5,
          4,
          5,
          9,
          11,
          17,
          2392,
          5,
          2,
          923,
          12,
          5,
          3,
          631,
          3,
          5,
          5,
          39,
          4,
          69,
          114,
          960,
          200,
          51,
          110,
          206,
          1229,
          1,
          7,
          2,
          4,
          6,
          2,
          1,
          74,
          85,
          84,
          2,
          169,
          132,
          1,
          1260,
          18,
          4,
          1,
          2310,
          458,
          2,
          70,
          11,
          51,
          2,
          18,
          1,
          62,
          8,
          6,
          225,
          1,
          9921,
          14,
          5,
          8,
          17,
          92,
          3,
          7
         ]
        },
        {
         "colorbar": {
          "len": 0.5,
          "tickformat": ".1s",
          "title": {
           "text": "Beers"
          }
         },
         "colorscale": [
          [
           0,
           "rgb(255,245,235)"
          ],
          [
           0.125,
           "rgb(254,230,206)"
          ],
          [
           0.25,
           "rgb(253,208,162)"
          ],
          [
           0.375,
           "rgb(253,174,107)"
          ],
          [
           0.5,
           "rgb(253,141,60)"
          ],
          [
           0.625,
           "rgb(241,105,19)"
          ],
          [
           0.75,
           "rgb(217,72,1)"
          ],
          [
           0.875,
           "rgb(166,54,3)"
          ],
          [
           1,
           "rgb(127,39,4)"
          ]
         ],
         "hovertemplate": "<b>%{location}</b><br>Count: %{z}<extra></extra>",
         "locationmode": "USA-states",
         "locations": [
          "AK",
          "AL",
          "AR",
          "AZ",
          "CA",
          "CO",
          "CT",
          "DE",
          "FL",
          "GA",
          "HI",
          "IA",
          "ID",
          "IL",
          "IN",
          "KS",
          "KY",
          "LA",
          "MA",
          "MD",
          "ME",
          "MI",
          "MN",
          "MO",
          "MS",
          "MT",
          "NC",
          "ND",
          "NE",
          "NH",
          "NJ",
          "NM",
          "NV",
          "NY",
          "OH",
          "OK",
          "OR",
          "PA",
          "RI",
          "SC",
          "SD",
          "TN",
          "TX",
          "UT",
          "VA",
          "VT",
          "WA",
          "WI",
          "WV",
          "WY"
         ],
         "type": "choropleth",
         "visible": false,
         "z": [
          907,
          681,
          363,
          1870,
          22776,
          9763,
          2398,
          965,
          7596,
          1916,
          409,
          1035,
          1147,
          8024,
          3820,
          1128,
          1390,
          673,
          5374,
          2809,
          1895,
          8890,
          4618,
          3064,
          181,
          1006,
          5948,
          160,
          863,
          2239,
          2801,
          1446,
          777,
          10219,
          5236,
          551,
          7107,
          11039,
          710,
          1520,
          499,
          1383,
          5325,
          595,
          5572,
          2762,
          6870,
          4246,
          313,
          621
         ]
        }
       ],
       "layout": {
        "geo": {
         "projection": {
          "type": "equirectangular"
         },
         "showcoastlines": true,
         "showframe": false
        },
        "height": 600,
        "template": {
         "data": {
          "bar": [
           {
            "error_x": {
             "color": "#2a3f5f"
            },
            "error_y": {
             "color": "#2a3f5f"
            },
            "marker": {
             "line": {
              "color": "#E5ECF6",
              "width": 0.5
             },
             "pattern": {
              "fillmode": "overlay",
              "size": 10,
              "solidity": 0.2
             }
            },
            "type": "bar"
           }
          ],
          "barpolar": [
           {
            "marker": {
             "line": {
              "color": "#E5ECF6",
              "width": 0.5
             },
             "pattern": {
              "fillmode": "overlay",
              "size": 10,
              "solidity": 0.2
             }
            },
            "type": "barpolar"
           }
          ],
          "carpet": [
           {
            "aaxis": {
             "endlinecolor": "#2a3f5f",
             "gridcolor": "white",
             "linecolor": "white",
             "minorgridcolor": "white",
             "startlinecolor": "#2a3f5f"
            },
            "baxis": {
             "endlinecolor": "#2a3f5f",
             "gridcolor": "white",
             "linecolor": "white",
             "minorgridcolor": "white",
             "startlinecolor": "#2a3f5f"
            },
            "type": "carpet"
           }
          ],
          "choropleth": [
           {
            "colorbar": {
             "outlinewidth": 0,
             "ticks": ""
            },
            "type": "choropleth"
           }
          ],
          "contour": [
           {
            "colorbar": {
             "outlinewidth": 0,
             "ticks": ""
            },
            "colorscale": [
             [
              0,
              "#0d0887"
             ],
             [
              0.1111111111111111,
              "#46039f"
             ],
             [
              0.2222222222222222,
              "#7201a8"
             ],
             [
              0.3333333333333333,
              "#9c179e"
             ],
             [
              0.4444444444444444,
              "#bd3786"
             ],
             [
              0.5555555555555556,
              "#d8576b"
             ],
             [
              0.6666666666666666,
              "#ed7953"
             ],
             [
              0.7777777777777778,
              "#fb9f3a"
             ],
             [
              0.8888888888888888,
              "#fdca26"
             ],
             [
              1,
              "#f0f921"
             ]
            ],
            "type": "contour"
           }
          ],
          "contourcarpet": [
           {
            "colorbar": {
             "outlinewidth": 0,
             "ticks": ""
            },
            "type": "contourcarpet"
           }
          ],
          "heatmap": [
           {
            "colorbar": {
             "outlinewidth": 0,
             "ticks": ""
            },
            "colorscale": [
             [
              0,
              "#0d0887"
             ],
             [
              0.1111111111111111,
              "#46039f"
             ],
             [
              0.2222222222222222,
              "#7201a8"
             ],
             [
              0.3333333333333333,
              "#9c179e"
             ],
             [
              0.4444444444444444,
              "#bd3786"
             ],
             [
              0.5555555555555556,
              "#d8576b"
             ],
             [
              0.6666666666666666,
              "#ed7953"
             ],
             [
              0.7777777777777778,
              "#fb9f3a"
             ],
             [
              0.8888888888888888,
              "#fdca26"
             ],
             [
              1,
              "#f0f921"
             ]
            ],
            "type": "heatmap"
           }
          ],
          "heatmapgl": [
           {
            "colorbar": {
             "outlinewidth": 0,
             "ticks": ""
            },
            "colorscale": [
             [
              0,
              "#0d0887"
             ],
             [
              0.1111111111111111,
              "#46039f"
             ],
             [
              0.2222222222222222,
              "#7201a8"
             ],
             [
              0.3333333333333333,
              "#9c179e"
             ],
             [
              0.4444444444444444,
              "#bd3786"
             ],
             [
              0.5555555555555556,
              "#d8576b"
             ],
             [
              0.6666666666666666,
              "#ed7953"
             ],
             [
              0.7777777777777778,
              "#fb9f3a"
             ],
             [
              0.8888888888888888,
              "#fdca26"
             ],
             [
              1,
              "#f0f921"
             ]
            ],
            "type": "heatmapgl"
           }
          ],
          "histogram": [
           {
            "marker": {
             "pattern": {
              "fillmode": "overlay",
              "size": 10,
              "solidity": 0.2
             }
            },
            "type": "histogram"
           }
          ],
          "histogram2d": [
           {
            "colorbar": {
             "outlinewidth": 0,
             "ticks": ""
            },
            "colorscale": [
             [
              0,
              "#0d0887"
             ],
             [
              0.1111111111111111,
              "#46039f"
             ],
             [
              0.2222222222222222,
              "#7201a8"
             ],
             [
              0.3333333333333333,
              "#9c179e"
             ],
             [
              0.4444444444444444,
              "#bd3786"
             ],
             [
              0.5555555555555556,
              "#d8576b"
             ],
             [
              0.6666666666666666,
              "#ed7953"
             ],
             [
              0.7777777777777778,
              "#fb9f3a"
             ],
             [
              0.8888888888888888,
              "#fdca26"
             ],
             [
              1,
              "#f0f921"
             ]
            ],
            "type": "histogram2d"
           }
          ],
          "histogram2dcontour": [
           {
            "colorbar": {
             "outlinewidth": 0,
             "ticks": ""
            },
            "colorscale": [
             [
              0,
              "#0d0887"
             ],
             [
              0.1111111111111111,
              "#46039f"
             ],
             [
              0.2222222222222222,
              "#7201a8"
             ],
             [
              0.3333333333333333,
              "#9c179e"
             ],
             [
              0.4444444444444444,
              "#bd3786"
             ],
             [
              0.5555555555555556,
              "#d8576b"
             ],
             [
              0.6666666666666666,
              "#ed7953"
             ],
             [
              0.7777777777777778,
              "#fb9f3a"
             ],
             [
              0.8888888888888888,
              "#fdca26"
             ],
             [
              1,
              "#f0f921"
             ]
            ],
            "type": "histogram2dcontour"
           }
          ],
          "mesh3d": [
           {
            "colorbar": {
             "outlinewidth": 0,
             "ticks": ""
            },
            "type": "mesh3d"
           }
          ],
          "parcoords": [
           {
            "line": {
             "colorbar": {
              "outlinewidth": 0,
              "ticks": ""
             }
            },
            "type": "parcoords"
           }
          ],
          "pie": [
           {
            "automargin": true,
            "type": "pie"
           }
          ],
          "scatter": [
           {
            "fillpattern": {
             "fillmode": "overlay",
             "size": 10,
             "solidity": 0.2
            },
            "type": "scatter"
           }
          ],
          "scatter3d": [
           {
            "line": {
             "colorbar": {
              "outlinewidth": 0,
              "ticks": ""
             }
            },
            "marker": {
             "colorbar": {
              "outlinewidth": 0,
              "ticks": ""
             }
            },
            "type": "scatter3d"
           }
          ],
          "scattercarpet": [
           {
            "marker": {
             "colorbar": {
              "outlinewidth": 0,
              "ticks": ""
             }
            },
            "type": "scattercarpet"
           }
          ],
          "scattergeo": [
           {
            "marker": {
             "colorbar": {
              "outlinewidth": 0,
              "ticks": ""
             }
            },
            "type": "scattergeo"
           }
          ],
          "scattergl": [
           {
            "marker": {
             "colorbar": {
              "outlinewidth": 0,
              "ticks": ""
             }
            },
            "type": "scattergl"
           }
          ],
          "scattermapbox": [
           {
            "marker": {
             "colorbar": {
              "outlinewidth": 0,
              "ticks": ""
             }
            },
            "type": "scattermapbox"
           }
          ],
          "scatterpolar": [
           {
            "marker": {
             "colorbar": {
              "outlinewidth": 0,
              "ticks": ""
             }
            },
            "type": "scatterpolar"
           }
          ],
          "scatterpolargl": [
           {
            "marker": {
             "colorbar": {
              "outlinewidth": 0,
              "ticks": ""
             }
            },
            "type": "scatterpolargl"
           }
          ],
          "scatterternary": [
           {
            "marker": {
             "colorbar": {
              "outlinewidth": 0,
              "ticks": ""
             }
            },
            "type": "scatterternary"
           }
          ],
          "surface": [
           {
            "colorbar": {
             "outlinewidth": 0,
             "ticks": ""
            },
            "colorscale": [
             [
              0,
              "#0d0887"
             ],
             [
              0.1111111111111111,
              "#46039f"
             ],
             [
              0.2222222222222222,
              "#7201a8"
             ],
             [
              0.3333333333333333,
              "#9c179e"
             ],
             [
              0.4444444444444444,
              "#bd3786"
             ],
             [
              0.5555555555555556,
              "#d8576b"
             ],
             [
              0.6666666666666666,
              "#ed7953"
             ],
             [
              0.7777777777777778,
              "#fb9f3a"
             ],
             [
              0.8888888888888888,
              "#fdca26"
             ],
             [
              1,
              "#f0f921"
             ]
            ],
            "type": "surface"
           }
          ],
          "table": [
           {
            "cells": {
             "fill": {
              "color": "#EBF0F8"
             },
             "line": {
              "color": "white"
             }
            },
            "header": {
             "fill": {
              "color": "#C8D4E3"
             },
             "line": {
              "color": "white"
             }
            },
            "type": "table"
           }
          ]
         },
         "layout": {
          "annotationdefaults": {
           "arrowcolor": "#2a3f5f",
           "arrowhead": 0,
           "arrowwidth": 1
          },
          "autotypenumbers": "strict",
          "coloraxis": {
           "colorbar": {
            "outlinewidth": 0,
            "ticks": ""
           }
          },
          "colorscale": {
           "diverging": [
            [
             0,
             "#8e0152"
            ],
            [
             0.1,
             "#c51b7d"
            ],
            [
             0.2,
             "#de77ae"
            ],
            [
             0.3,
             "#f1b6da"
            ],
            [
             0.4,
             "#fde0ef"
            ],
            [
             0.5,
             "#f7f7f7"
            ],
            [
             0.6,
             "#e6f5d0"
            ],
            [
             0.7,
             "#b8e186"
            ],
            [
             0.8,
             "#7fbc41"
            ],
            [
             0.9,
             "#4d9221"
            ],
            [
             1,
             "#276419"
            ]
           ],
           "sequential": [
            [
             0,
             "#0d0887"
            ],
            [
             0.1111111111111111,
             "#46039f"
            ],
            [
             0.2222222222222222,
             "#7201a8"
            ],
            [
             0.3333333333333333,
             "#9c179e"
            ],
            [
             0.4444444444444444,
             "#bd3786"
            ],
            [
             0.5555555555555556,
             "#d8576b"
            ],
            [
             0.6666666666666666,
             "#ed7953"
            ],
            [
             0.7777777777777778,
             "#fb9f3a"
            ],
            [
             0.8888888888888888,
             "#fdca26"
            ],
            [
             1,
             "#f0f921"
            ]
           ],
           "sequentialminus": [
            [
             0,
             "#0d0887"
            ],
            [
             0.1111111111111111,
             "#46039f"
            ],
            [
             0.2222222222222222,
             "#7201a8"
            ],
            [
             0.3333333333333333,
             "#9c179e"
            ],
            [
             0.4444444444444444,
             "#bd3786"
            ],
            [
             0.5555555555555556,
             "#d8576b"
            ],
            [
             0.6666666666666666,
             "#ed7953"
            ],
            [
             0.7777777777777778,
             "#fb9f3a"
            ],
            [
             0.8888888888888888,
             "#fdca26"
            ],
            [
             1,
             "#f0f921"
            ]
           ]
          },
          "colorway": [
           "#636efa",
           "#EF553B",
           "#00cc96",
           "#ab63fa",
           "#FFA15A",
           "#19d3f3",
           "#FF6692",
           "#B6E880",
           "#FF97FF",
           "#FECB52"
          ],
          "font": {
           "color": "#2a3f5f"
          },
          "geo": {
           "bgcolor": "white",
           "lakecolor": "white",
           "landcolor": "#E5ECF6",
           "showlakes": true,
           "showland": true,
           "subunitcolor": "white"
          },
          "hoverlabel": {
           "align": "left"
          },
          "hovermode": "closest",
          "mapbox": {
           "style": "light"
          },
          "paper_bgcolor": "white",
          "plot_bgcolor": "#E5ECF6",
          "polar": {
           "angularaxis": {
            "gridcolor": "white",
            "linecolor": "white",
            "ticks": ""
           },
           "bgcolor": "#E5ECF6",
           "radialaxis": {
            "gridcolor": "white",
            "linecolor": "white",
            "ticks": ""
           }
          },
          "scene": {
           "xaxis": {
            "backgroundcolor": "#E5ECF6",
            "gridcolor": "white",
            "gridwidth": 2,
            "linecolor": "white",
            "showbackground": true,
            "ticks": "",
            "zerolinecolor": "white"
           },
           "yaxis": {
            "backgroundcolor": "#E5ECF6",
            "gridcolor": "white",
            "gridwidth": 2,
            "linecolor": "white",
            "showbackground": true,
            "ticks": "",
            "zerolinecolor": "white"
           },
           "zaxis": {
            "backgroundcolor": "#E5ECF6",
            "gridcolor": "white",
            "gridwidth": 2,
            "linecolor": "white",
            "showbackground": true,
            "ticks": "",
            "zerolinecolor": "white"
           }
          },
          "shapedefaults": {
           "line": {
            "color": "#2a3f5f"
           }
          },
          "ternary": {
           "aaxis": {
            "gridcolor": "white",
            "linecolor": "white",
            "ticks": ""
           },
           "baxis": {
            "gridcolor": "white",
            "linecolor": "white",
            "ticks": ""
           },
           "bgcolor": "#E5ECF6",
           "caxis": {
            "gridcolor": "white",
            "linecolor": "white",
            "ticks": ""
           }
          },
          "title": {
           "x": 0.05
          },
          "xaxis": {
           "automargin": true,
           "gridcolor": "white",
           "linecolor": "white",
           "ticks": "",
           "title": {
            "standoff": 15
           },
           "zerolinecolor": "white",
           "zerolinewidth": 2
          },
          "yaxis": {
           "automargin": true,
           "gridcolor": "white",
           "linecolor": "white",
           "ticks": "",
           "title": {
            "standoff": 15
           },
           "zerolinecolor": "white",
           "zerolinewidth": 2
          }
         }
        },
        "title": {
         "text": "Beer Statistics by Country and US State",
         "x": 0.5,
         "xanchor": "center"
        },
        "updatemenus": [
         {
          "buttons": [
           {
            "args": [
             {
              "visible": [
               true,
               true,
               false,
               false,
               false,
               false,
               false,
               false
              ]
             }
            ],
            "label": "Ratings",
            "method": "update"
           },
           {
            "args": [
             {
              "visible": [
               false,
               false,
               true,
               true,
               false,
               false,
               false,
               false
              ]
             }
            ],
            "label": "Breweries",
            "method": "update"
           },
           {
            "args": [
             {
              "visible": [
               false,
               false,
               false,
               false,
               true,
               true,
               false,
               false
              ]
             }
            ],
            "label": "Users",
            "method": "update"
           },
           {
            "args": [
             {
              "visible": [
               false,
               false,
               false,
               false,
               false,
               false,
               true,
               true
              ]
             }
            ],
            "label": "Beers",
            "method": "update"
           }
          ],
          "direction": "down",
          "x": 0.1,
          "xanchor": "left",
          "y": 0.9,
          "yanchor": "top"
         }
        ],
        "width": 800
       }
      }
     },
     "metadata": {},
     "output_type": "display_data"
    }
   ],
   "source": [
    "import plotly.graph_objects as go\n",
    "\n",
    "# Initialize figure\n",
    "fig = go.Figure()\n",
    "\n",
    "# Ratings\n",
    "fig.add_trace(go.Choropleth(\n",
    "    locations=ratings_per_country['country'],\n",
    "    locationmode=\"country names\",\n",
    "    z=ratings_per_country['nbr_ratings'],\n",
    "    colorscale=\"Blues\",\n",
    "    colorbar=dict(\n",
    "        title=\"Ratings\",\n",
    "        tickformat=\".1s\",\n",
    "        len=0.5\n",
    "    ),\n",
    "    hovertemplate=\"<b>%{location}</b><br>Count: %{z}<extra></extra>\",  # Customized hover\n",
    "    visible=True\n",
    "))\n",
    "fig.add_trace(go.Choropleth(\n",
    "    locations=ratings_per_state['state_abbrev'],\n",
    "    locationmode=\"USA-states\",\n",
    "    z=ratings_per_state['nbr_ratings'],\n",
    "    colorscale=\"Blues\",\n",
    "    colorbar=dict(\n",
    "        title=\"Ratings\",\n",
    "        tickformat=\".1s\",\n",
    "        len=0.5\n",
    "    ),\n",
    "    hovertemplate=\"<b>%{location}</b><br>Count: %{z}<extra></extra>\",  # Customized hover\n",
    "    visible=True\n",
    "))\n",
    "\n",
    "# Breweries\n",
    "fig.add_trace(go.Choropleth(\n",
    "    locations=breweries_per_country['country'],\n",
    "    locationmode=\"country names\",\n",
    "    z=breweries_per_country['nbr_breweries'],\n",
    "    colorscale=\"Reds\",\n",
    "    colorbar=dict(\n",
    "        title=\"Breweries\",\n",
    "        tickformat=\".1s\",\n",
    "        len=0.5\n",
    "    ),\n",
    "    hovertemplate=\"<b>%{location}</b><br>Count: %{z}<extra></extra>\",  # Customized hover\n",
    "    visible=False\n",
    "))\n",
    "fig.add_trace(go.Choropleth(\n",
    "    locations=breweries_per_state['state_abbrev'],\n",
    "    locationmode=\"USA-states\",\n",
    "    z=breweries_per_state['nbr_breweries'],\n",
    "    colorscale=\"Reds\",\n",
    "    colorbar=dict(\n",
    "        title=\"Breweries\",\n",
    "        tickformat=\".1s\",\n",
    "        len=0.5\n",
    "    ),\n",
    "    hovertemplate=\"<b>%{location}</b><br>Count: %{z}<extra></extra>\",  # Customized hover\n",
    "    visible=False\n",
    "))\n",
    "\n",
    "# Users\n",
    "fig.add_trace(go.Choropleth(\n",
    "    locations=users_per_country['country'],\n",
    "    locationmode=\"country names\",\n",
    "    z=users_per_country['nbr_users'],\n",
    "    colorscale=\"Greens\",\n",
    "    colorbar=dict(\n",
    "        title=\"Users\",\n",
    "        tickformat=\".1s\",\n",
    "        len=0.5\n",
    "    ),\n",
    "    hovertemplate=\"<b>%{location}</b><br>Count: %{z}<extra></extra>\",  # Customized hover\n",
    "    visible=False\n",
    "))\n",
    "fig.add_trace(go.Choropleth(\n",
    "    locations=users_per_state['state_abbrev'],\n",
    "    locationmode=\"USA-states\",\n",
    "    z=users_per_state['nbr_users'],\n",
    "    colorscale=\"Greens\",\n",
    "    colorbar=dict(\n",
    "        title=\"Users\",\n",
    "        tickformat=\".1s\",\n",
    "        len=0.5\n",
    "    ),\n",
    "    hovertemplate=\"<b>%{location}</b><br>Count: %{z}<extra></extra>\",  # Customized hover\n",
    "    visible=False\n",
    "))\n",
    "\n",
    "# Beers\n",
    "fig.add_trace(go.Choropleth(\n",
    "    locations=beers_per_country['country'],\n",
    "    locationmode=\"country names\",\n",
    "    z=beers_per_country['nbr_beers'],\n",
    "    colorscale=\"Oranges\",\n",
    "    colorbar=dict(\n",
    "        title=\"Beers\",\n",
    "        tickformat=\".1s\",\n",
    "        len=0.5\n",
    "    ),\n",
    "    hovertemplate=\"<b>%{location}</b><br>Count: %{z}<extra></extra>\",  # Customized hover\n",
    "    visible=False\n",
    "))\n",
    "fig.add_trace(go.Choropleth(\n",
    "    locations=beers_per_state['state_abbrev'],\n",
    "    locationmode=\"USA-states\",\n",
    "    z=beers_per_state['nbr_beers'],\n",
    "    colorscale=\"Oranges\",\n",
    "    colorbar=dict(\n",
    "        title=\"Beers\",\n",
    "        tickformat=\".1s\",\n",
    "        len=0.5\n",
    "    ),\n",
    "    hovertemplate=\"<b>%{location}</b><br>Count: %{z}<extra></extra>\",  # Customized hover\n",
    "    visible=False\n",
    "))\n",
    "\n",
    "# Dropdown menu\n",
    "fig.update_layout(\n",
    "    updatemenus=[\n",
    "        dict(\n",
    "            buttons=[\n",
    "                dict(args=[{\"visible\": [True, True, False, False, False, False, False, False]}], label=\"Ratings\", method=\"update\"),\n",
    "                dict(args=[{\"visible\": [False, False, True, True, False, False, False, False]}], label=\"Breweries\", method=\"update\"),\n",
    "                dict(args=[{\"visible\": [False, False, False, False, True, True, False, False]}], label=\"Users\", method=\"update\"),\n",
    "                dict(args=[{\"visible\": [False, False, False, False, False, False, True, True]}], label=\"Beers\", method=\"update\"),\n",
    "            ],\n",
    "            direction=\"down\",\n",
    "            x=0.1,\n",
    "            y=0.9,  # Dropdown below title\n",
    "            xanchor=\"left\",\n",
    "            yanchor=\"top\"\n",
    "        )\n",
    "    ],\n",
    "    title=dict(\n",
    "        text=\"Beer Statistics by Country and US State\",\n",
    "        x=0.5,\n",
    "        xanchor=\"center\"\n",
    "    ),\n",
    "    geo=dict(\n",
    "        showframe=False,\n",
    "        showcoastlines=True,\n",
    "        projection_type=\"equirectangular\"\n",
    "    ),\n",
    "    height=600,\n",
    "    width=800\n",
    ")\n",
    "\n",
    "# Show the plot\n",
    "fig.show()\n"
   ]
  },
  {
   "cell_type": "code",
   "execution_count": 23,
   "metadata": {},
   "outputs": [
    {
     "data": {
      "application/vnd.plotly.v1+json": {
       "config": {
        "plotlyServerURL": "https://plot.ly"
       },
       "data": [
        {
         "colorscale": [
          [
           0,
           "rgb(247,251,255)"
          ],
          [
           0.125,
           "rgb(222,235,247)"
          ],
          [
           0.25,
           "rgb(198,219,239)"
          ],
          [
           0.375,
           "rgb(158,202,225)"
          ],
          [
           0.5,
           "rgb(107,174,214)"
          ],
          [
           0.625,
           "rgb(66,146,198)"
          ],
          [
           0.75,
           "rgb(33,113,181)"
          ],
          [
           0.875,
           "rgb(8,81,156)"
          ],
          [
           1,
           "rgb(8,48,107)"
          ]
         ],
         "hovertemplate": "<b>%{location}</b><br>Count: %{z}<extra></extra>",
         "locationmode": "country names",
         "locations": [
          "Albania",
          "Algeria",
          "Andorra",
          "Angola",
          "Antigua & Barbuda",
          "Argentina",
          "Armenia",
          "Aruba",
          "Australia",
          "Austria",
          "Azerbaijan",
          "Bahamas",
          "Bangladesh",
          "Barbados",
          "Belarus",
          "Belgium",
          "Belize",
          "Benin",
          "Bermuda",
          "Bhutan",
          "Bolivia",
          "Bosnia and Herzegovina",
          "Botswana",
          "Brazil",
          "Bulgaria",
          "Burkina Faso",
          "Cambodia",
          "Cameroon",
          "Canada",
          "Cape Verde Islands",
          "Cayman Islands",
          "Chile",
          "China",
          "Colombia",
          "Congo",
          "Cook Islands",
          "Costa Rica",
          "Croatia",
          "Cuba",
          "Curaçao",
          "Cyprus",
          "Czechia",
          "Denmark",
          "Dominica",
          "Dominican Republic",
          "Ecuador",
          "Egypt",
          "El Salvador",
          "Eritrea",
          "Estonia",
          "Ethiopia",
          "Faroe Islands",
          "Fiji Islands",
          "Finland",
          "France",
          "French Guiana",
          "French Polynesia",
          "Gambia",
          "Georgia",
          "Germany",
          "Ghana",
          "Greece",
          "Greenland",
          "Grenada",
          "Guadeloupe",
          "Guam",
          "Guatemala",
          "Guernsey",
          "Haiti",
          "Honduras",
          "Hong Kong",
          "Hungary",
          "Iceland",
          "Illinois",
          "India",
          "Indonesia",
          "Iran",
          "Iraq",
          "Ireland",
          "Isle of Man",
          "Israel",
          "Italy",
          "Ivory Coast",
          "Jamaica",
          "Japan",
          "Jersey",
          "Jordan",
          "Kazakhstan",
          "Kenya",
          "Laos",
          "Latvia",
          "Lebanon",
          "Lesotho",
          "Liechtenstein",
          "Lithuania",
          "Luxembourg",
          "Macau",
          "Macedonia",
          "Madagascar",
          "Malaysia",
          "Malta",
          "Martinique",
          "Mauritius",
          "Mexico",
          "Micronesia",
          "Moldova",
          "Monaco",
          "Mongolia",
          "Montenegro",
          "Morocco",
          "Mozambique",
          "Myanmar",
          "Namibia",
          "Nepal",
          "Netherlands",
          "New Caledonia",
          "New York",
          "New Zealand",
          "Nicaragua",
          "Nigeria",
          "North Korea",
          "Norway",
          "Pakistan",
          "Palau",
          "Palestine",
          "Panama",
          "Papua New Guinea",
          "Peru",
          "Philippines",
          "Poland",
          "Portugal",
          "Puerto Rico",
          "Republic of Serbia",
          "Romania",
          "Russia",
          "Rwanda",
          "Saint Lucia",
          "Saint Vincent and The Grenadines",
          "Samoa",
          "San Marino",
          "Senegal",
          "Seychelles",
          "Singapore",
          "Slovakia",
          "Slovenia",
          "Solomon Islands",
          "South Africa",
          "South Korea",
          "South Sudan",
          "Spain",
          "Sri Lanka",
          "Suriname",
          "Swaziland",
          "Sweden",
          "Switzerland",
          "Syria",
          "Taiwan",
          "Tanzania",
          "Thailand",
          "Tonga",
          "Trinidad & Tobago",
          "Tunisia",
          "Turkey",
          "Turks and Caicos Islands",
          "Uganda",
          "Ukraine",
          "United Arab Emirates",
          "United Kingdom",
          "Uruguay",
          "Uzbekistan",
          "Vanuatu",
          "Venezuela",
          "Vietnam",
          "Zambia",
          "Zimbabwe"
         ],
         "showscale": false,
         "type": "choropleth",
         "visible": true,
         "z": [
          80,
          17,
          26,
          6,
          49,
          947,
          208,
          200,
          24080,
          11342,
          18,
          725,
          2,
          284,
          138,
          378164,
          262,
          4,
          115,
          15,
          140,
          236,
          2,
          7200,
          496,
          6,
          167,
          3,
          197234,
          14,
          212,
          549,
          3238,
          456,
          9,
          3,
          1030,
          915,
          251,
          8,
          156,
          14581,
          55476,
          33,
          938,
          121,
          102,
          571,
          6,
          1245,
          354,
          27,
          42,
          2407,
          13431,
          12,
          184,
          6,
          65,
          180571,
          31,
          2110,
          21,
          5,
          2,
          27,
          594,
          9,
          98,
          257,
          100,
          753,
          3065,
          9,
          2297,
          238,
          4,
          2,
          37218,
          69,
          720,
          19332,
          15,
          3827,
          20900,
          30,
          26,
          41,
          755,
          415,
          527,
          565,
          5,
          41,
          2893,
          262,
          17,
          80,
          12,
          37,
          299,
          7,
          37,
          30324,
          5,
          74,
          16,
          18,
          121,
          199,
          36,
          67,
          199,
          66,
          44875,
          6,
          32,
          10010,
          302,
          71,
          11,
          12221,
          6,
          9,
          64,
          301,
          8,
          796,
          1391,
          8918,
          1322,
          550,
          645,
          1478,
          6839,
          3,
          128,
          14,
          9,
          7,
          18,
          5,
          1251,
          739,
          534,
          2,
          659,
          1090,
          3,
          7684,
          1892,
          21,
          3,
          16040,
          5792,
          4,
          354,
          94,
          2179,
          3,
          833,
          10,
          1302,
          117,
          27,
          1325,
          2,
          189996,
          143,
          5,
          37,
          198,
          923,
          11,
          38
         ]
        },
        {
         "colorbar": {
          "len": 0.5,
          "tickformat": ".1s",
          "title": {
           "text": "Ratings"
          }
         },
         "colorscale": [
          [
           0,
           "rgb(247,251,255)"
          ],
          [
           0.125,
           "rgb(222,235,247)"
          ],
          [
           0.25,
           "rgb(198,219,239)"
          ],
          [
           0.375,
           "rgb(158,202,225)"
          ],
          [
           0.5,
           "rgb(107,174,214)"
          ],
          [
           0.625,
           "rgb(66,146,198)"
          ],
          [
           0.75,
           "rgb(33,113,181)"
          ],
          [
           0.875,
           "rgb(8,81,156)"
          ],
          [
           1,
           "rgb(8,48,107)"
          ]
         ],
         "hovertemplate": "<b>%{location}</b><br>Count: %{z}<extra></extra>",
         "locationmode": "USA-states",
         "locations": [
          "AK",
          "AL",
          "AR",
          "AZ",
          "CA",
          "CO",
          "CT",
          "DE",
          "FL",
          "GA",
          "HI",
          "IA",
          "ID",
          "IL",
          "IN",
          "KS",
          "KY",
          "LA",
          "MA",
          "MD",
          "ME",
          "MI",
          "MN",
          "MO",
          "MS",
          "MT",
          "NC",
          "ND",
          "NE",
          "NH",
          "NJ",
          "NM",
          "NV",
          "NY",
          "OH",
          "OK",
          "OR",
          "PA",
          "RI",
          "SC",
          "SD",
          "TN",
          "TX",
          "UT",
          "VA",
          "VT",
          "WA",
          "WI",
          "WV",
          "WY"
         ],
         "type": "choropleth",
         "visible": true,
         "z": [
          31595,
          10809,
          3198,
          16512,
          1271944,
          453584,
          47630,
          147118,
          138110,
          77014,
          20764,
          32440,
          14244,
          264607,
          126180,
          14202,
          24368,
          33852,
          349360,
          108957,
          121850,
          434695,
          108127,
          183856,
          6536,
          16307,
          110243,
          1126,
          10363,
          70638,
          47186,
          13938,
          6309,
          429666,
          147471,
          43559,
          286803,
          312366,
          16003,
          36777,
          1900,
          16007,
          146126,
          42020,
          77446,
          194422,
          78362,
          203845,
          2575,
          4548
         ]
        },
        {
         "colorscale": [
          [
           0,
           "rgb(255,245,240)"
          ],
          [
           0.125,
           "rgb(254,224,210)"
          ],
          [
           0.25,
           "rgb(252,187,161)"
          ],
          [
           0.375,
           "rgb(252,146,114)"
          ],
          [
           0.5,
           "rgb(251,106,74)"
          ],
          [
           0.625,
           "rgb(239,59,44)"
          ],
          [
           0.75,
           "rgb(203,24,29)"
          ],
          [
           0.875,
           "rgb(165,15,21)"
          ],
          [
           1,
           "rgb(103,0,13)"
          ]
         ],
         "hovertemplate": "<b>%{location}</b><br>Count: %{z}<extra></extra>",
         "locationmode": "country names",
         "locations": [
          "Albania",
          "Algeria",
          "Andorra",
          "Angola",
          "Antigua & Barbuda",
          "Argentina",
          "Armenia",
          "Aruba",
          "Australia",
          "Austria",
          "Azerbaijan",
          "Bahamas",
          "Bangladesh",
          "Barbados",
          "Belarus",
          "Belgium",
          "Belize",
          "Benin",
          "Bermuda",
          "Bhutan",
          "Bolivia",
          "Bosnia and Herzegovina",
          "Botswana",
          "Brazil",
          "Bulgaria",
          "Burkina Faso",
          "Cambodia",
          "Cameroon",
          "Canada",
          "Cape Verde Islands",
          "Cayman Islands",
          "Chile",
          "China",
          "Colombia",
          "Congo",
          "Cook Islands",
          "Costa Rica",
          "Croatia",
          "Cuba",
          "Curaçao",
          "Cyprus",
          "Czechia",
          "Denmark",
          "Dominica",
          "Dominican Republic",
          "Ecuador",
          "Egypt",
          "El Salvador",
          "Eritrea",
          "Estonia",
          "Ethiopia",
          "Faroe Islands",
          "Fiji Islands",
          "Finland",
          "France",
          "French Guiana",
          "French Polynesia",
          "Gambia",
          "Georgia",
          "Germany",
          "Ghana",
          "Greece",
          "Greenland",
          "Grenada",
          "Guadeloupe",
          "Guam",
          "Guatemala",
          "Guernsey",
          "Haiti",
          "Honduras",
          "Hong Kong",
          "Hungary",
          "Iceland",
          "Illinois",
          "India",
          "Indonesia",
          "Iran",
          "Iraq",
          "Ireland",
          "Isle of Man",
          "Israel",
          "Italy",
          "Ivory Coast",
          "Jamaica",
          "Japan",
          "Jersey",
          "Jordan",
          "Kazakhstan",
          "Kenya",
          "Laos",
          "Latvia",
          "Lebanon",
          "Lesotho",
          "Liechtenstein",
          "Lithuania",
          "Luxembourg",
          "Macau",
          "Macedonia",
          "Madagascar",
          "Malaysia",
          "Malta",
          "Martinique",
          "Mauritius",
          "Mexico",
          "Micronesia",
          "Moldova",
          "Monaco",
          "Mongolia",
          "Montenegro",
          "Morocco",
          "Mozambique",
          "Myanmar",
          "Namibia",
          "Nepal",
          "Netherlands",
          "New Caledonia",
          "New York",
          "New Zealand",
          "Nicaragua",
          "Nigeria",
          "North Korea",
          "Norway",
          "Pakistan",
          "Palau",
          "Palestine",
          "Panama",
          "Papua New Guinea",
          "Peru",
          "Philippines",
          "Poland",
          "Portugal",
          "Puerto Rico",
          "Republic of Serbia",
          "Romania",
          "Russia",
          "Rwanda",
          "Saint Lucia",
          "Saint Vincent and The Grenadines",
          "Samoa",
          "San Marino",
          "Senegal",
          "Seychelles",
          "Singapore",
          "Slovakia",
          "Slovenia",
          "Solomon Islands",
          "South Africa",
          "South Korea",
          "South Sudan",
          "Spain",
          "Sri Lanka",
          "Suriname",
          "Swaziland",
          "Sweden",
          "Switzerland",
          "Syria",
          "Taiwan",
          "Tanzania",
          "Thailand",
          "Tonga",
          "Trinidad & Tobago",
          "Tunisia",
          "Turkey",
          "Turks and Caicos Islands",
          "Uganda",
          "Ukraine",
          "United Arab Emirates",
          "United Kingdom",
          "Uruguay",
          "Uzbekistan",
          "Vanuatu",
          "Venezuela",
          "Vietnam",
          "Zambia",
          "Zimbabwe"
         ],
         "showscale": false,
         "type": "choropleth",
         "visible": false,
         "z": [
          8,
          5,
          1,
          2,
          1,
          35,
          3,
          1,
          320,
          93,
          2,
          4,
          1,
          2,
          9,
          305,
          2,
          2,
          1,
          3,
          5,
          7,
          1,
          153,
          22,
          1,
          10,
          1,
          726,
          1,
          2,
          41,
          40,
          12,
          3,
          1,
          20,
          20,
          3,
          2,
          6,
          117,
          96,
          1,
          2,
          17,
          3,
          2,
          2,
          29,
          7,
          2,
          3,
          47,
          286,
          1,
          2,
          1,
          8,
          909,
          2,
          38,
          2,
          1,
          1,
          3,
          3,
          2,
          1,
          2,
          8,
          31,
          15,
          1,
          26,
          7,
          2,
          1,
          77,
          5,
          28,
          297,
          2,
          2,
          157,
          2,
          2,
          10,
          4,
          3,
          25,
          4,
          1,
          2,
          44,
          11,
          1,
          5,
          2,
          3,
          6,
          1,
          2,
          117,
          1,
          7,
          1,
          3,
          2,
          1,
          1,
          4,
          3,
          7,
          217,
          2,
          1,
          92,
          5,
          2,
          2,
          67,
          1,
          1,
          2,
          6,
          1,
          13,
          21,
          131,
          39,
          12,
          28,
          36,
          193,
          1,
          2,
          1,
          2,
          2,
          1,
          1,
          10,
          23,
          12,
          1,
          47,
          22,
          1,
          260,
          3,
          2,
          1,
          162,
          74,
          2,
          15,
          2,
          13,
          1,
          2,
          1,
          7,
          1,
          3,
          33,
          1,
          1025,
          4,
          3,
          3,
          5,
          30,
          1,
          1
         ]
        },
        {
         "colorbar": {
          "len": 0.5,
          "tickformat": ".1s",
          "title": {
           "text": "Breweries"
          }
         },
         "colorscale": [
          [
           0,
           "rgb(255,245,240)"
          ],
          [
           0.125,
           "rgb(254,224,210)"
          ],
          [
           0.25,
           "rgb(252,187,161)"
          ],
          [
           0.375,
           "rgb(252,146,114)"
          ],
          [
           0.5,
           "rgb(251,106,74)"
          ],
          [
           0.625,
           "rgb(239,59,44)"
          ],
          [
           0.75,
           "rgb(203,24,29)"
          ],
          [
           0.875,
           "rgb(165,15,21)"
          ],
          [
           1,
           "rgb(103,0,13)"
          ]
         ],
         "hovertemplate": "<b>%{location}</b><br>Count: %{z}<extra></extra>",
         "locationmode": "USA-states",
         "locations": [
          "AK",
          "AL",
          "AR",
          "AZ",
          "CA",
          "CO",
          "CT",
          "DE",
          "FL",
          "GA",
          "HI",
          "IA",
          "ID",
          "IL",
          "IN",
          "KS",
          "KY",
          "LA",
          "MA",
          "MD",
          "ME",
          "MI",
          "MN",
          "MO",
          "MS",
          "MT",
          "NC",
          "ND",
          "NE",
          "NH",
          "NJ",
          "NM",
          "NV",
          "NY",
          "OH",
          "OK",
          "OR",
          "PA",
          "RI",
          "SC",
          "SD",
          "TN",
          "TX",
          "UT",
          "VA",
          "VT",
          "WA",
          "WI",
          "WV",
          "WY"
         ],
         "type": "choropleth",
         "visible": false,
         "z": [
          34,
          40,
          27,
          92,
          763,
          334,
          89,
          17,
          233,
          67,
          21,
          67,
          53,
          225,
          133,
          36,
          44,
          30,
          157,
          88,
          93,
          274,
          166,
          103,
          16,
          67,
          205,
          12,
          40,
          70,
          90,
          65,
          42,
          346,
          187,
          29,
          238,
          269,
          20,
          61,
          22,
          68,
          239,
          26,
          196,
          79,
          328,
          190,
          20,
          30
         ]
        },
        {
         "colorscale": [
          [
           0,
           "rgb(247,252,245)"
          ],
          [
           0.125,
           "rgb(229,245,224)"
          ],
          [
           0.25,
           "rgb(199,233,192)"
          ],
          [
           0.375,
           "rgb(161,217,155)"
          ],
          [
           0.5,
           "rgb(116,196,118)"
          ],
          [
           0.625,
           "rgb(65,171,93)"
          ],
          [
           0.75,
           "rgb(35,139,69)"
          ],
          [
           0.875,
           "rgb(0,109,44)"
          ],
          [
           1,
           "rgb(0,68,27)"
          ]
         ],
         "hovertemplate": "<b>%{location}</b><br>Count: %{z}<extra></extra>",
         "locationmode": "country names",
         "locations": [
          "Afghanistan",
          "Albania",
          "American Samoa",
          "Andorra",
          "Angola",
          "Anguilla",
          "Antarctica",
          "Antigua and Barbuda",
          "Aotearoa",
          "Argentina",
          "Aruba",
          "Australia",
          "Austria",
          "Bahamas",
          "Barbados",
          "Belarus",
          "Belgium",
          "Belize",
          "Bermuda",
          "Bhutan",
          "Bolivia",
          "Bosnia and Herzegovina",
          "Bouvet Island",
          "Brazil",
          "British Indian Ocean Territory",
          "Bulgaria",
          "Burkina Faso",
          "Cambodia",
          "Canada",
          "Cayman Islands",
          "Chile",
          "China",
          "Christmas Island",
          "Colombia",
          "Costa Rica",
          "Croatia",
          "Cyprus",
          "Czechia",
          "Denmark",
          "Dominican Republic",
          "Ecuador",
          "Egypt",
          "El Salvador",
          "Equatorial Guinea",
          "Estonia",
          "Ethiopia",
          "Faroe Islands",
          "Fiji Islands",
          "Finland",
          "France",
          "Germany",
          "Gibraltar",
          "Greece",
          "Guam",
          "Guatemala",
          "Guernsey",
          "Haiti",
          "Heard and McDonald Islands",
          "Honduras",
          "Hong Kong",
          "Hungary",
          "Iceland",
          "India",
          "Indonesia",
          "Ireland",
          "Isle of Man",
          "Israel",
          "Italy",
          "Japan",
          "Jersey",
          "Jordan",
          "Kazakhstan",
          "Kenya",
          "Kyrgyzstan",
          "Latvia",
          "Lebanon",
          "Lesotho",
          "Liberia",
          "Lithuania",
          "Luxembourg",
          "Macedonia",
          "Malaysia",
          "Malta",
          "Malvinas",
          "Marshall Islands",
          "Mauritania",
          "Mauritius",
          "Mexico",
          "Moldova",
          "Mozambique",
          "Netherlands",
          "New Caledonia",
          "Nicaragua",
          "Nigeria",
          "Northern Mariana Islands",
          "Norway",
          "Palestine",
          "Panama",
          "Papua New Guinea",
          "Paraguay",
          "Peru",
          "Philippines",
          "Poland",
          "Portugal",
          "Puerto Rico",
          "Republic of Serbia",
          "Romania",
          "Russia",
          "Rwanda",
          "Seychelles",
          "Singapore",
          "Sint Maarten",
          "Slovakia",
          "Slovenia",
          "Solomon Islands",
          "South Africa",
          "South Georgia and South Sandwich Islands",
          "Spain",
          "Sri Lanka",
          "Svalbard and Jan Mayen Islands",
          "Sweden",
          "Switzerland",
          "Taiwan",
          "Tajikistan",
          "Tanzania",
          "Thailand",
          "Tokelau",
          "Trinidad and Tobago",
          "Turkey",
          "Turkmenistan",
          "Uganda",
          "Ukraine",
          "United Arab Emirates",
          "United Kingdom",
          "Uruguay",
          "Uzbekistan",
          "Vanuatu",
          "Venezuela",
          "Vietnam",
          "Zimbabwe"
         ],
         "showscale": false,
         "type": "choropleth",
         "visible": false,
         "z": [
          5,
          1,
          4,
          3,
          1,
          1,
          8,
          1,
          49,
          23,
          4,
          519,
          27,
          8,
          2,
          10,
          227,
          1,
          5,
          2,
          2,
          8,
          2,
          267,
          1,
          18,
          2,
          2,
          3296,
          2,
          22,
          52,
          1,
          15,
          22,
          44,
          7,
          47,
          73,
          24,
          5,
          1,
          7,
          1,
          19,
          2,
          4,
          1,
          68,
          135,
          372,
          1,
          44,
          7,
          11,
          2,
          1,
          1,
          5,
          27,
          33,
          14,
          23,
          9,
          175,
          3,
          31,
          147,
          142,
          1,
          1,
          1,
          5,
          1,
          6,
          11,
          1,
          1,
          24,
          9,
          6,
          6,
          6,
          1,
          1,
          1,
          1,
          190,
          5,
          2,
          270,
          2,
          1,
          1,
          2,
          120,
          1,
          26,
          2,
          4,
          9,
          26,
          64,
          52,
          78,
          42,
          62,
          190,
          1,
          1,
          46,
          1,
          12,
          35,
          1,
          36,
          1,
          167,
          1,
          2,
          307,
          62,
          40,
          4,
          2,
          45,
          1,
          3,
          56,
          1,
          3,
          25,
          6,
          943,
          8,
          2,
          2,
          6,
          7,
          1
         ]
        },
        {
         "colorbar": {
          "len": 0.5,
          "tickformat": ".1s",
          "title": {
           "text": "Users"
          }
         },
         "colorscale": [
          [
           0,
           "rgb(247,252,245)"
          ],
          [
           0.125,
           "rgb(229,245,224)"
          ],
          [
           0.25,
           "rgb(199,233,192)"
          ],
          [
           0.375,
           "rgb(161,217,155)"
          ],
          [
           0.5,
           "rgb(116,196,118)"
          ],
          [
           0.625,
           "rgb(65,171,93)"
          ],
          [
           0.75,
           "rgb(35,139,69)"
          ],
          [
           0.875,
           "rgb(0,109,44)"
          ],
          [
           1,
           "rgb(0,68,27)"
          ]
         ],
         "hovertemplate": "<b>%{location}</b><br>Count: %{z}<extra></extra>",
         "locationmode": "USA-states",
         "locations": [
          "AK",
          "AL",
          "AR",
          "AZ",
          "CA",
          "CO",
          "CT",
          "DE",
          "FL",
          "GA",
          "HI",
          "IA",
          "ID",
          "IL",
          "IN",
          "KS",
          "KY",
          "LA",
          "MA",
          "MD",
          "ME",
          "MI",
          "MN",
          "MO",
          "MS",
          "MT",
          "NC",
          "ND",
          "NE",
          "NH",
          "NJ",
          "NM",
          "NV",
          "NY",
          "OH",
          "OK",
          "OR",
          "PA",
          "RI",
          "SC",
          "SD",
          "TN",
          "TX",
          "UT",
          "VA",
          "VT",
          "WA",
          "WI",
          "WV",
          "WY"
         ],
         "type": "choropleth",
         "visible": false,
         "z": [
          235,
          1023,
          422,
          1314,
          11567,
          2320,
          2786,
          430,
          4593,
          2615,
          210,
          1007,
          259,
          6846,
          2626,
          724,
          1201,
          728,
          6580,
          2320,
          877,
          4178,
          2848,
          1690,
          333,
          241,
          3376,
          169,
          496,
          1164,
          3689,
          338,
          469,
          7376,
          4738,
          732,
          1623,
          8612,
          773,
          1302,
          167,
          1301,
          5880,
          295,
          3593,
          778,
          2882,
          2371,
          374,
          102
         ]
        },
        {
         "colorscale": [
          [
           0,
           "rgb(255,245,235)"
          ],
          [
           0.125,
           "rgb(254,230,206)"
          ],
          [
           0.25,
           "rgb(253,208,162)"
          ],
          [
           0.375,
           "rgb(253,174,107)"
          ],
          [
           0.5,
           "rgb(253,141,60)"
          ],
          [
           0.625,
           "rgb(241,105,19)"
          ],
          [
           0.75,
           "rgb(217,72,1)"
          ],
          [
           0.875,
           "rgb(166,54,3)"
          ],
          [
           1,
           "rgb(127,39,4)"
          ]
         ],
         "hovertemplate": "<b>%{location}</b><br>Count: %{z}<extra></extra>",
         "locationmode": "country names",
         "locations": [
          "Albania",
          "Algeria",
          "Andorra",
          "Angola",
          "Antigua & Barbuda",
          "Argentina",
          "Armenia",
          "Aruba",
          "Australia",
          "Austria",
          "Azerbaijan",
          "Bahamas",
          "Bangladesh",
          "Barbados",
          "Belarus",
          "Belgium",
          "Belize",
          "Benin",
          "Bermuda",
          "Bhutan",
          "Bolivia",
          "Bosnia and Herzegovina",
          "Botswana",
          "Brazil",
          "Bulgaria",
          "Burkina Faso",
          "Cambodia",
          "Cameroon",
          "Canada",
          "Cape Verde Islands",
          "Cayman Islands",
          "Chile",
          "China",
          "Colombia",
          "Congo",
          "Cook Islands",
          "Costa Rica",
          "Croatia",
          "Cuba",
          "Curaçao",
          "Cyprus",
          "Czechia",
          "Denmark",
          "Dominica",
          "Dominican Republic",
          "Ecuador",
          "Egypt",
          "El Salvador",
          "Eritrea",
          "Estonia",
          "Ethiopia",
          "Faroe Islands",
          "Fiji Islands",
          "Finland",
          "France",
          "French Guiana",
          "French Polynesia",
          "Gambia",
          "Georgia",
          "Germany",
          "Ghana",
          "Greece",
          "Greenland",
          "Grenada",
          "Guadeloupe",
          "Guam",
          "Guatemala",
          "Guernsey",
          "Haiti",
          "Honduras",
          "Hong Kong",
          "Hungary",
          "Iceland",
          "Illinois",
          "India",
          "Indonesia",
          "Iran",
          "Iraq",
          "Ireland",
          "Isle of Man",
          "Israel",
          "Italy",
          "Ivory Coast",
          "Jamaica",
          "Japan",
          "Jersey",
          "Jordan",
          "Kazakhstan",
          "Kenya",
          "Laos",
          "Latvia",
          "Lebanon",
          "Lesotho",
          "Liechtenstein",
          "Lithuania",
          "Luxembourg",
          "Macau",
          "Macedonia",
          "Madagascar",
          "Malaysia",
          "Malta",
          "Martinique",
          "Mauritius",
          "Mexico",
          "Micronesia",
          "Moldova",
          "Monaco",
          "Mongolia",
          "Montenegro",
          "Morocco",
          "Mozambique",
          "Myanmar",
          "Namibia",
          "Nepal",
          "Netherlands",
          "New Caledonia",
          "New York",
          "New Zealand",
          "Nicaragua",
          "Nigeria",
          "North Korea",
          "Norway",
          "Pakistan",
          "Palau",
          "Palestine",
          "Panama",
          "Papua New Guinea",
          "Peru",
          "Philippines",
          "Poland",
          "Portugal",
          "Puerto Rico",
          "Republic of Serbia",
          "Romania",
          "Russia",
          "Rwanda",
          "Saint Lucia",
          "Saint Vincent and The Grenadines",
          "Samoa",
          "San Marino",
          "Senegal",
          "Seychelles",
          "Singapore",
          "Slovakia",
          "Slovenia",
          "Solomon Islands",
          "South Africa",
          "South Korea",
          "South Sudan",
          "Spain",
          "Sri Lanka",
          "Suriname",
          "Swaziland",
          "Sweden",
          "Switzerland",
          "Syria",
          "Taiwan",
          "Tanzania",
          "Thailand",
          "Tonga",
          "Trinidad & Tobago",
          "Tunisia",
          "Turkey",
          "Turks and Caicos Islands",
          "Uganda",
          "Ukraine",
          "United Arab Emirates",
          "United Kingdom",
          "Uruguay",
          "Uzbekistan",
          "Vanuatu",
          "Venezuela",
          "Vietnam",
          "Zambia",
          "Zimbabwe"
         ],
         "showscale": false,
         "type": "choropleth",
         "visible": false,
         "z": [
          14,
          12,
          9,
          2,
          2,
          119,
          24,
          4,
          2953,
          678,
          8,
          24,
          2,
          16,
          66,
          4133,
          9,
          3,
          8,
          7,
          18,
          26,
          1,
          930,
          101,
          2,
          43,
          3,
          14084,
          3,
          11,
          135,
          257,
          54,
          6,
          1,
          91,
          76,
          14,
          8,
          15,
          791,
          2254,
          1,
          9,
          44,
          16,
          32,
          2,
          217,
          15,
          15,
          5,
          490,
          1586,
          1,
          5,
          2,
          22,
          5282,
          5,
          158,
          9,
          5,
          1,
          14,
          36,
          9,
          1,
          5,
          41,
          181,
          135,
          3,
          97,
          23,
          3,
          1,
          708,
          27,
          127,
          1631,
          4,
          20,
          1371,
          22,
          10,
          36,
          13,
          8,
          110,
          26,
          1,
          11,
          416,
          49,
          1,
          19,
          7,
          6,
          28,
          2,
          5,
          572,
          2,
          33,
          4,
          6,
          5,
          4,
          5,
          9,
          11,
          17,
          2392,
          5,
          2,
          923,
          12,
          5,
          3,
          631,
          3,
          5,
          5,
          39,
          4,
          69,
          114,
          960,
          200,
          51,
          110,
          206,
          1229,
          1,
          7,
          2,
          4,
          6,
          2,
          1,
          74,
          85,
          84,
          2,
          169,
          132,
          1,
          1260,
          18,
          4,
          1,
          2310,
          458,
          2,
          70,
          11,
          51,
          2,
          18,
          1,
          62,
          8,
          6,
          225,
          1,
          9921,
          14,
          5,
          8,
          17,
          92,
          3,
          7
         ]
        },
        {
         "colorbar": {
          "len": 0.5,
          "tickformat": ".1s",
          "title": {
           "text": "Beers"
          }
         },
         "colorscale": [
          [
           0,
           "rgb(255,245,235)"
          ],
          [
           0.125,
           "rgb(254,230,206)"
          ],
          [
           0.25,
           "rgb(253,208,162)"
          ],
          [
           0.375,
           "rgb(253,174,107)"
          ],
          [
           0.5,
           "rgb(253,141,60)"
          ],
          [
           0.625,
           "rgb(241,105,19)"
          ],
          [
           0.75,
           "rgb(217,72,1)"
          ],
          [
           0.875,
           "rgb(166,54,3)"
          ],
          [
           1,
           "rgb(127,39,4)"
          ]
         ],
         "hovertemplate": "<b>%{location}</b><br>Count: %{z}<extra></extra>",
         "locationmode": "USA-states",
         "locations": [
          "AK",
          "AL",
          "AR",
          "AZ",
          "CA",
          "CO",
          "CT",
          "DE",
          "FL",
          "GA",
          "HI",
          "IA",
          "ID",
          "IL",
          "IN",
          "KS",
          "KY",
          "LA",
          "MA",
          "MD",
          "ME",
          "MI",
          "MN",
          "MO",
          "MS",
          "MT",
          "NC",
          "ND",
          "NE",
          "NH",
          "NJ",
          "NM",
          "NV",
          "NY",
          "OH",
          "OK",
          "OR",
          "PA",
          "RI",
          "SC",
          "SD",
          "TN",
          "TX",
          "UT",
          "VA",
          "VT",
          "WA",
          "WI",
          "WV",
          "WY"
         ],
         "type": "choropleth",
         "visible": false,
         "z": [
          907,
          681,
          363,
          1870,
          22776,
          9763,
          2398,
          965,
          7596,
          1916,
          409,
          1035,
          1147,
          8024,
          3820,
          1128,
          1390,
          673,
          5374,
          2809,
          1895,
          8890,
          4618,
          3064,
          181,
          1006,
          5948,
          160,
          863,
          2239,
          2801,
          1446,
          777,
          10219,
          5236,
          551,
          7107,
          11039,
          710,
          1520,
          499,
          1383,
          5325,
          595,
          5572,
          2762,
          6870,
          4246,
          313,
          621
         ]
        }
       ],
       "layout": {
        "geo": {
         "lakecolor": "rgb(255, 255, 255)",
         "landcolor": "rgb(217, 217, 217)",
         "oceancolor": "rgb(204, 229, 255)",
         "projection": {
          "rotation": {
           "lat": 10,
           "lon": 20
          },
          "type": "orthographic"
         },
         "showcoastlines": true,
         "showcountries": true,
         "showframe": false,
         "showland": true
        },
        "height": 600,
        "template": {
         "data": {
          "bar": [
           {
            "error_x": {
             "color": "#2a3f5f"
            },
            "error_y": {
             "color": "#2a3f5f"
            },
            "marker": {
             "line": {
              "color": "#E5ECF6",
              "width": 0.5
             },
             "pattern": {
              "fillmode": "overlay",
              "size": 10,
              "solidity": 0.2
             }
            },
            "type": "bar"
           }
          ],
          "barpolar": [
           {
            "marker": {
             "line": {
              "color": "#E5ECF6",
              "width": 0.5
             },
             "pattern": {
              "fillmode": "overlay",
              "size": 10,
              "solidity": 0.2
             }
            },
            "type": "barpolar"
           }
          ],
          "carpet": [
           {
            "aaxis": {
             "endlinecolor": "#2a3f5f",
             "gridcolor": "white",
             "linecolor": "white",
             "minorgridcolor": "white",
             "startlinecolor": "#2a3f5f"
            },
            "baxis": {
             "endlinecolor": "#2a3f5f",
             "gridcolor": "white",
             "linecolor": "white",
             "minorgridcolor": "white",
             "startlinecolor": "#2a3f5f"
            },
            "type": "carpet"
           }
          ],
          "choropleth": [
           {
            "colorbar": {
             "outlinewidth": 0,
             "ticks": ""
            },
            "type": "choropleth"
           }
          ],
          "contour": [
           {
            "colorbar": {
             "outlinewidth": 0,
             "ticks": ""
            },
            "colorscale": [
             [
              0,
              "#0d0887"
             ],
             [
              0.1111111111111111,
              "#46039f"
             ],
             [
              0.2222222222222222,
              "#7201a8"
             ],
             [
              0.3333333333333333,
              "#9c179e"
             ],
             [
              0.4444444444444444,
              "#bd3786"
             ],
             [
              0.5555555555555556,
              "#d8576b"
             ],
             [
              0.6666666666666666,
              "#ed7953"
             ],
             [
              0.7777777777777778,
              "#fb9f3a"
             ],
             [
              0.8888888888888888,
              "#fdca26"
             ],
             [
              1,
              "#f0f921"
             ]
            ],
            "type": "contour"
           }
          ],
          "contourcarpet": [
           {
            "colorbar": {
             "outlinewidth": 0,
             "ticks": ""
            },
            "type": "contourcarpet"
           }
          ],
          "heatmap": [
           {
            "colorbar": {
             "outlinewidth": 0,
             "ticks": ""
            },
            "colorscale": [
             [
              0,
              "#0d0887"
             ],
             [
              0.1111111111111111,
              "#46039f"
             ],
             [
              0.2222222222222222,
              "#7201a8"
             ],
             [
              0.3333333333333333,
              "#9c179e"
             ],
             [
              0.4444444444444444,
              "#bd3786"
             ],
             [
              0.5555555555555556,
              "#d8576b"
             ],
             [
              0.6666666666666666,
              "#ed7953"
             ],
             [
              0.7777777777777778,
              "#fb9f3a"
             ],
             [
              0.8888888888888888,
              "#fdca26"
             ],
             [
              1,
              "#f0f921"
             ]
            ],
            "type": "heatmap"
           }
          ],
          "heatmapgl": [
           {
            "colorbar": {
             "outlinewidth": 0,
             "ticks": ""
            },
            "colorscale": [
             [
              0,
              "#0d0887"
             ],
             [
              0.1111111111111111,
              "#46039f"
             ],
             [
              0.2222222222222222,
              "#7201a8"
             ],
             [
              0.3333333333333333,
              "#9c179e"
             ],
             [
              0.4444444444444444,
              "#bd3786"
             ],
             [
              0.5555555555555556,
              "#d8576b"
             ],
             [
              0.6666666666666666,
              "#ed7953"
             ],
             [
              0.7777777777777778,
              "#fb9f3a"
             ],
             [
              0.8888888888888888,
              "#fdca26"
             ],
             [
              1,
              "#f0f921"
             ]
            ],
            "type": "heatmapgl"
           }
          ],
          "histogram": [
           {
            "marker": {
             "pattern": {
              "fillmode": "overlay",
              "size": 10,
              "solidity": 0.2
             }
            },
            "type": "histogram"
           }
          ],
          "histogram2d": [
           {
            "colorbar": {
             "outlinewidth": 0,
             "ticks": ""
            },
            "colorscale": [
             [
              0,
              "#0d0887"
             ],
             [
              0.1111111111111111,
              "#46039f"
             ],
             [
              0.2222222222222222,
              "#7201a8"
             ],
             [
              0.3333333333333333,
              "#9c179e"
             ],
             [
              0.4444444444444444,
              "#bd3786"
             ],
             [
              0.5555555555555556,
              "#d8576b"
             ],
             [
              0.6666666666666666,
              "#ed7953"
             ],
             [
              0.7777777777777778,
              "#fb9f3a"
             ],
             [
              0.8888888888888888,
              "#fdca26"
             ],
             [
              1,
              "#f0f921"
             ]
            ],
            "type": "histogram2d"
           }
          ],
          "histogram2dcontour": [
           {
            "colorbar": {
             "outlinewidth": 0,
             "ticks": ""
            },
            "colorscale": [
             [
              0,
              "#0d0887"
             ],
             [
              0.1111111111111111,
              "#46039f"
             ],
             [
              0.2222222222222222,
              "#7201a8"
             ],
             [
              0.3333333333333333,
              "#9c179e"
             ],
             [
              0.4444444444444444,
              "#bd3786"
             ],
             [
              0.5555555555555556,
              "#d8576b"
             ],
             [
              0.6666666666666666,
              "#ed7953"
             ],
             [
              0.7777777777777778,
              "#fb9f3a"
             ],
             [
              0.8888888888888888,
              "#fdca26"
             ],
             [
              1,
              "#f0f921"
             ]
            ],
            "type": "histogram2dcontour"
           }
          ],
          "mesh3d": [
           {
            "colorbar": {
             "outlinewidth": 0,
             "ticks": ""
            },
            "type": "mesh3d"
           }
          ],
          "parcoords": [
           {
            "line": {
             "colorbar": {
              "outlinewidth": 0,
              "ticks": ""
             }
            },
            "type": "parcoords"
           }
          ],
          "pie": [
           {
            "automargin": true,
            "type": "pie"
           }
          ],
          "scatter": [
           {
            "fillpattern": {
             "fillmode": "overlay",
             "size": 10,
             "solidity": 0.2
            },
            "type": "scatter"
           }
          ],
          "scatter3d": [
           {
            "line": {
             "colorbar": {
              "outlinewidth": 0,
              "ticks": ""
             }
            },
            "marker": {
             "colorbar": {
              "outlinewidth": 0,
              "ticks": ""
             }
            },
            "type": "scatter3d"
           }
          ],
          "scattercarpet": [
           {
            "marker": {
             "colorbar": {
              "outlinewidth": 0,
              "ticks": ""
             }
            },
            "type": "scattercarpet"
           }
          ],
          "scattergeo": [
           {
            "marker": {
             "colorbar": {
              "outlinewidth": 0,
              "ticks": ""
             }
            },
            "type": "scattergeo"
           }
          ],
          "scattergl": [
           {
            "marker": {
             "colorbar": {
              "outlinewidth": 0,
              "ticks": ""
             }
            },
            "type": "scattergl"
           }
          ],
          "scattermapbox": [
           {
            "marker": {
             "colorbar": {
              "outlinewidth": 0,
              "ticks": ""
             }
            },
            "type": "scattermapbox"
           }
          ],
          "scatterpolar": [
           {
            "marker": {
             "colorbar": {
              "outlinewidth": 0,
              "ticks": ""
             }
            },
            "type": "scatterpolar"
           }
          ],
          "scatterpolargl": [
           {
            "marker": {
             "colorbar": {
              "outlinewidth": 0,
              "ticks": ""
             }
            },
            "type": "scatterpolargl"
           }
          ],
          "scatterternary": [
           {
            "marker": {
             "colorbar": {
              "outlinewidth": 0,
              "ticks": ""
             }
            },
            "type": "scatterternary"
           }
          ],
          "surface": [
           {
            "colorbar": {
             "outlinewidth": 0,
             "ticks": ""
            },
            "colorscale": [
             [
              0,
              "#0d0887"
             ],
             [
              0.1111111111111111,
              "#46039f"
             ],
             [
              0.2222222222222222,
              "#7201a8"
             ],
             [
              0.3333333333333333,
              "#9c179e"
             ],
             [
              0.4444444444444444,
              "#bd3786"
             ],
             [
              0.5555555555555556,
              "#d8576b"
             ],
             [
              0.6666666666666666,
              "#ed7953"
             ],
             [
              0.7777777777777778,
              "#fb9f3a"
             ],
             [
              0.8888888888888888,
              "#fdca26"
             ],
             [
              1,
              "#f0f921"
             ]
            ],
            "type": "surface"
           }
          ],
          "table": [
           {
            "cells": {
             "fill": {
              "color": "#EBF0F8"
             },
             "line": {
              "color": "white"
             }
            },
            "header": {
             "fill": {
              "color": "#C8D4E3"
             },
             "line": {
              "color": "white"
             }
            },
            "type": "table"
           }
          ]
         },
         "layout": {
          "annotationdefaults": {
           "arrowcolor": "#2a3f5f",
           "arrowhead": 0,
           "arrowwidth": 1
          },
          "autotypenumbers": "strict",
          "coloraxis": {
           "colorbar": {
            "outlinewidth": 0,
            "ticks": ""
           }
          },
          "colorscale": {
           "diverging": [
            [
             0,
             "#8e0152"
            ],
            [
             0.1,
             "#c51b7d"
            ],
            [
             0.2,
             "#de77ae"
            ],
            [
             0.3,
             "#f1b6da"
            ],
            [
             0.4,
             "#fde0ef"
            ],
            [
             0.5,
             "#f7f7f7"
            ],
            [
             0.6,
             "#e6f5d0"
            ],
            [
             0.7,
             "#b8e186"
            ],
            [
             0.8,
             "#7fbc41"
            ],
            [
             0.9,
             "#4d9221"
            ],
            [
             1,
             "#276419"
            ]
           ],
           "sequential": [
            [
             0,
             "#0d0887"
            ],
            [
             0.1111111111111111,
             "#46039f"
            ],
            [
             0.2222222222222222,
             "#7201a8"
            ],
            [
             0.3333333333333333,
             "#9c179e"
            ],
            [
             0.4444444444444444,
             "#bd3786"
            ],
            [
             0.5555555555555556,
             "#d8576b"
            ],
            [
             0.6666666666666666,
             "#ed7953"
            ],
            [
             0.7777777777777778,
             "#fb9f3a"
            ],
            [
             0.8888888888888888,
             "#fdca26"
            ],
            [
             1,
             "#f0f921"
            ]
           ],
           "sequentialminus": [
            [
             0,
             "#0d0887"
            ],
            [
             0.1111111111111111,
             "#46039f"
            ],
            [
             0.2222222222222222,
             "#7201a8"
            ],
            [
             0.3333333333333333,
             "#9c179e"
            ],
            [
             0.4444444444444444,
             "#bd3786"
            ],
            [
             0.5555555555555556,
             "#d8576b"
            ],
            [
             0.6666666666666666,
             "#ed7953"
            ],
            [
             0.7777777777777778,
             "#fb9f3a"
            ],
            [
             0.8888888888888888,
             "#fdca26"
            ],
            [
             1,
             "#f0f921"
            ]
           ]
          },
          "colorway": [
           "#636efa",
           "#EF553B",
           "#00cc96",
           "#ab63fa",
           "#FFA15A",
           "#19d3f3",
           "#FF6692",
           "#B6E880",
           "#FF97FF",
           "#FECB52"
          ],
          "font": {
           "color": "#2a3f5f"
          },
          "geo": {
           "bgcolor": "white",
           "lakecolor": "white",
           "landcolor": "#E5ECF6",
           "showlakes": true,
           "showland": true,
           "subunitcolor": "white"
          },
          "hoverlabel": {
           "align": "left"
          },
          "hovermode": "closest",
          "mapbox": {
           "style": "light"
          },
          "paper_bgcolor": "white",
          "plot_bgcolor": "#E5ECF6",
          "polar": {
           "angularaxis": {
            "gridcolor": "white",
            "linecolor": "white",
            "ticks": ""
           },
           "bgcolor": "#E5ECF6",
           "radialaxis": {
            "gridcolor": "white",
            "linecolor": "white",
            "ticks": ""
           }
          },
          "scene": {
           "xaxis": {
            "backgroundcolor": "#E5ECF6",
            "gridcolor": "white",
            "gridwidth": 2,
            "linecolor": "white",
            "showbackground": true,
            "ticks": "",
            "zerolinecolor": "white"
           },
           "yaxis": {
            "backgroundcolor": "#E5ECF6",
            "gridcolor": "white",
            "gridwidth": 2,
            "linecolor": "white",
            "showbackground": true,
            "ticks": "",
            "zerolinecolor": "white"
           },
           "zaxis": {
            "backgroundcolor": "#E5ECF6",
            "gridcolor": "white",
            "gridwidth": 2,
            "linecolor": "white",
            "showbackground": true,
            "ticks": "",
            "zerolinecolor": "white"
           }
          },
          "shapedefaults": {
           "line": {
            "color": "#2a3f5f"
           }
          },
          "ternary": {
           "aaxis": {
            "gridcolor": "white",
            "linecolor": "white",
            "ticks": ""
           },
           "baxis": {
            "gridcolor": "white",
            "linecolor": "white",
            "ticks": ""
           },
           "bgcolor": "#E5ECF6",
           "caxis": {
            "gridcolor": "white",
            "linecolor": "white",
            "ticks": ""
           }
          },
          "title": {
           "x": 0.05
          },
          "xaxis": {
           "automargin": true,
           "gridcolor": "white",
           "linecolor": "white",
           "ticks": "",
           "title": {
            "standoff": 15
           },
           "zerolinecolor": "white",
           "zerolinewidth": 2
          },
          "yaxis": {
           "automargin": true,
           "gridcolor": "white",
           "linecolor": "white",
           "ticks": "",
           "title": {
            "standoff": 15
           },
           "zerolinecolor": "white",
           "zerolinewidth": 2
          }
         }
        },
        "title": {
         "text": "Beer Statistics on a 3D Globe",
         "x": 0.5,
         "xanchor": "center"
        },
        "updatemenus": [
         {
          "buttons": [
           {
            "args": [
             {
              "visible": [
               true,
               true,
               false,
               false,
               false,
               false,
               false,
               false
              ]
             }
            ],
            "label": "Ratings",
            "method": "update"
           },
           {
            "args": [
             {
              "visible": [
               false,
               false,
               true,
               true,
               false,
               false,
               false,
               false
              ]
             }
            ],
            "label": "Breweries",
            "method": "update"
           },
           {
            "args": [
             {
              "visible": [
               false,
               false,
               false,
               false,
               true,
               true,
               false,
               false
              ]
             }
            ],
            "label": "Users",
            "method": "update"
           },
           {
            "args": [
             {
              "visible": [
               false,
               false,
               false,
               false,
               false,
               false,
               true,
               true
              ]
             }
            ],
            "label": "Beers",
            "method": "update"
           }
          ],
          "direction": "down",
          "x": 0.1,
          "xanchor": "left",
          "y": 0.9,
          "yanchor": "top"
         }
        ],
        "width": 800
       }
      }
     },
     "metadata": {},
     "output_type": "display_data"
    }
   ],
   "source": [
    "# Initialize 3D globe figure\n",
    "fig_globe = go.Figure()\n",
    "\n",
    "# Ratings\n",
    "fig_globe.add_trace(go.Choropleth(\n",
    "    locations=ratings_per_country['country'],\n",
    "    locationmode=\"country names\",\n",
    "    z=ratings_per_country['nbr_ratings'],\n",
    "    colorscale=\"Blues\",\n",
    "    showscale=False,\n",
    "    hovertemplate=\"<b>%{location}</b><br>Count: %{z}<extra></extra>\",  # Customized hover\n",
    "    visible=True\n",
    "))\n",
    "fig_globe.add_trace(go.Choropleth(\n",
    "    locations=ratings_per_state['state_abbrev'],\n",
    "    locationmode=\"USA-states\",\n",
    "    z=ratings_per_state['nbr_ratings'],\n",
    "    colorscale=\"Blues\",\n",
    "    colorbar=dict(\n",
    "        title=\"Ratings\",\n",
    "        tickformat=\".1s\",\n",
    "        len=0.5\n",
    "    ),\n",
    "    hovertemplate=\"<b>%{location}</b><br>Count: %{z}<extra></extra>\",  # Customized hover\n",
    "    visible=True\n",
    "))\n",
    "\n",
    "# Breweries\n",
    "fig_globe.add_trace(go.Choropleth(\n",
    "    locations=breweries_per_country['country'],\n",
    "    locationmode=\"country names\",\n",
    "    z=breweries_per_country['nbr_breweries'],\n",
    "    colorscale=\"Reds\",\n",
    "    showscale=False,\n",
    "    hovertemplate=\"<b>%{location}</b><br>Count: %{z}<extra></extra>\",  # Customized hover\n",
    "    visible=False\n",
    "))\n",
    "fig_globe.add_trace(go.Choropleth(\n",
    "    locations=breweries_per_state['state_abbrev'],\n",
    "    locationmode=\"USA-states\",\n",
    "    z=breweries_per_state['nbr_breweries'],\n",
    "    colorscale=\"Reds\",\n",
    "    colorbar=dict(\n",
    "        title=\"Breweries\",\n",
    "        tickformat=\".1s\",\n",
    "        len=0.5\n",
    "    ),\n",
    "    hovertemplate=\"<b>%{location}</b><br>Count: %{z}<extra></extra>\",  # Customized hover\n",
    "    visible=False\n",
    "))\n",
    "\n",
    "# Users\n",
    "fig_globe.add_trace(go.Choropleth(\n",
    "    locations=users_per_country['country'],\n",
    "    locationmode=\"country names\",\n",
    "    z=users_per_country['nbr_users'],\n",
    "    colorscale=\"Greens\",\n",
    "    showscale=False,\n",
    "    hovertemplate=\"<b>%{location}</b><br>Count: %{z}<extra></extra>\",  # Customized hover\n",
    "    visible=False\n",
    "))\n",
    "fig_globe.add_trace(go.Choropleth(\n",
    "    locations=users_per_state['state_abbrev'],\n",
    "    locationmode=\"USA-states\",\n",
    "    z=users_per_state['nbr_users'],\n",
    "    colorscale=\"Greens\",\n",
    "    colorbar=dict(\n",
    "        title=\"Users\",\n",
    "        tickformat=\".1s\",\n",
    "        len=0.5\n",
    "    ),\n",
    "    hovertemplate=\"<b>%{location}</b><br>Count: %{z}<extra></extra>\",  # Customized hover\n",
    "    visible=False\n",
    "))\n",
    "\n",
    "# Beers\n",
    "fig_globe.add_trace(go.Choropleth(\n",
    "    locations=beers_per_country['country'],\n",
    "    locationmode=\"country names\",\n",
    "    z=beers_per_country['nbr_beers'],\n",
    "    colorscale=\"Oranges\",\n",
    "    showscale=False,\n",
    "    hovertemplate=\"<b>%{location}</b><br>Count: %{z}<extra></extra>\",  # Customized hover\n",
    "    visible=False\n",
    "))\n",
    "fig_globe.add_trace(go.Choropleth(\n",
    "    locations=beers_per_state['state_abbrev'],\n",
    "    locationmode=\"USA-states\",\n",
    "    z=beers_per_state['nbr_beers'],\n",
    "    colorscale=\"Oranges\",\n",
    "    colorbar=dict(\n",
    "        title=\"Beers\",\n",
    "        tickformat=\".1s\",\n",
    "        len=0.5\n",
    "    ),\n",
    "    hovertemplate=\"<b>%{location}</b><br>Count: %{z}<extra></extra>\",  # Customized hover\n",
    "    visible=False\n",
    "))\n",
    "\n",
    "# Dropdown menu\n",
    "fig_globe.update_layout(\n",
    "    updatemenus=[\n",
    "        dict(\n",
    "            buttons=[\n",
    "                dict(args=[{\"visible\": [True, True, False, False, False, False, False, False]}], label=\"Ratings\", method=\"update\"),\n",
    "                dict(args=[{\"visible\": [False, False, True, True, False, False, False, False]}], label=\"Breweries\", method=\"update\"),\n",
    "                dict(args=[{\"visible\": [False, False, False, False, True, True, False, False]}], label=\"Users\", method=\"update\"),\n",
    "                dict(args=[{\"visible\": [False, False, False, False, False, False, True, True]}], label=\"Beers\", method=\"update\"),\n",
    "            ],\n",
    "            direction=\"down\",\n",
    "            x=0.1,\n",
    "            y=0.9,\n",
    "            xanchor=\"left\",\n",
    "            yanchor=\"top\"\n",
    "        )\n",
    "    ],\n",
    "    title=dict(\n",
    "        text=\"Beer Statistics on a 3D Globe\",\n",
    "        x=0.5,\n",
    "        xanchor=\"center\"\n",
    "    ),\n",
    "    geo=dict(\n",
    "        showframe=False,\n",
    "        showcoastlines=True,\n",
    "        projection_type=\"orthographic\",\n",
    "        showcountries=True,\n",
    "        showland=True,\n",
    "        landcolor=\"rgb(217, 217, 217)\",\n",
    "        lakecolor=\"rgb(255, 255, 255)\",\n",
    "        oceancolor=\"rgb(204, 229, 255)\",\n",
    "        projection_rotation=dict(lat=10, lon=20)\n",
    "    ),\n",
    "    height=600,\n",
    "    width=800\n",
    ")\n",
    "\n",
    "# Show the plot\n",
    "fig_globe.show()\n"
   ]
  }
 ],
 "metadata": {
  "kernelspec": {
   "display_name": "Python 3",
   "language": "python",
   "name": "python3"
  },
  "language_info": {
   "codemirror_mode": {
    "name": "ipython",
    "version": 3
   },
   "file_extension": ".py",
   "mimetype": "text/x-python",
   "name": "python",
   "nbconvert_exporter": "python",
   "pygments_lexer": "ipython3",
   "version": "3.10.12"
  }
 },
 "nbformat": 4,
 "nbformat_minor": 2
}
