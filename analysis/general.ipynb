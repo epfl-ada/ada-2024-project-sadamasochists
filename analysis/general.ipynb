{
 "cells": [
  {
   "cell_type": "markdown",
   "metadata": {},
   "source": [
    "# General analysis\n",
    "### Data importing"
   ]
  },
  {
   "cell_type": "code",
   "execution_count": 11,
   "metadata": {},
   "outputs": [],
   "source": [
    "# Import all libraries\n",
    "import pandas as pd\n",
    "import os\n",
    "import plotly.express as px\n",
    "from src.utils.plots import *\n",
    "\n",
    "# Set the data folder\n",
    "DATA_FOLDER = os.path.join(os.getcwd(), '../data/processed/')\n",
    "\n",
    "# Save the images folder\n",
    "IMAGES_FOLDER = os.path.join(os.getcwd(), '../docs/plots/')\n",
    "\n",
    "# Load the data\n",
    "df_beers = pd.read_parquet(DATA_FOLDER + 'beers.pq')\n",
    "df_breweries = pd.read_parquet(DATA_FOLDER + 'breweries.pq')\n",
    "df_users = pd.read_parquet(DATA_FOLDER + 'users.pq')\n",
    "df_ratings_no_text = pd.read_parquet(DATA_FOLDER + 'ratings_no_text.pq')"
   ]
  },
  {
   "cell_type": "markdown",
   "metadata": {},
   "source": [
    "### General analysis with correlation study"
   ]
  },
  {
   "cell_type": "code",
   "execution_count": 12,
   "metadata": {},
   "outputs": [
    {
     "data": {
      "application/vnd.plotly.v1+json": {
       "config": {
        "plotlyServerURL": "https://plot.ly"
       },
       "data": [
        {
         "colorscale": [
          [
           0,
           "pink"
          ],
          [
           1,
           "red"
          ]
         ],
         "hoverinfo": "text",
         "showscale": true,
         "text": [
          "palate vs taste: 0.65",
          "palate vs appearance: 0.55",
          "taste vs appearance: 0.48",
          "palate vs aroma: 0.57",
          "taste vs aroma: 0.79",
          "appearance vs aroma: 0.47",
          "palate vs overall: 0.66",
          "taste vs overall: 0.86",
          "appearance vs overall: 0.50",
          "aroma vs overall: 0.77",
          "palate vs abv: 0.30",
          "taste vs abv: 0.36",
          "appearance vs abv: 0.25",
          "aroma vs abv: 0.37",
          "overall vs abv: 0.37"
         ],
         "type": "heatmap",
         "x": [
          "palate",
          "palate",
          "taste",
          "palate",
          "taste",
          "appearance",
          "palate",
          "taste",
          "appearance",
          "aroma",
          "palate",
          "taste",
          "appearance",
          "aroma",
          "overall"
         ],
         "y": [
          "taste",
          "appearance",
          "appearance",
          "aroma",
          "aroma",
          "aroma",
          "overall",
          "overall",
          "overall",
          "overall",
          "abv",
          "abv",
          "abv",
          "abv",
          "abv"
         ],
         "z": [
          0.6541765841032743,
          0.5482822975262194,
          0.4834263298310602,
          0.5650756199812879,
          0.7935019951316385,
          0.47485936674323675,
          0.6558897905150176,
          0.8562689138250614,
          0.49616162458862084,
          0.7733851582008416,
          0.30445716746180823,
          0.35788120173223104,
          0.25103249482055645,
          0.3719623930902823,
          0.3705053957949527
         ],
         "zmax": 0.8562689138250614,
         "zmin": 0.25103249482055645
        }
       ],
       "layout": {
        "annotations": [
         {
          "font": {
           "color": "black",
           "size": 10
          },
          "showarrow": false,
          "text": "0.65",
          "x": "palate",
          "y": "taste"
         },
         {
          "font": {
           "color": "black",
           "size": 10
          },
          "showarrow": false,
          "text": "0.55",
          "x": "palate",
          "y": "appearance"
         },
         {
          "font": {
           "color": "black",
           "size": 10
          },
          "showarrow": false,
          "text": "0.48",
          "x": "taste",
          "y": "appearance"
         },
         {
          "font": {
           "color": "black",
           "size": 10
          },
          "showarrow": false,
          "text": "0.57",
          "x": "palate",
          "y": "aroma"
         },
         {
          "font": {
           "color": "black",
           "size": 10
          },
          "showarrow": false,
          "text": "0.79",
          "x": "taste",
          "y": "aroma"
         },
         {
          "font": {
           "color": "black",
           "size": 10
          },
          "showarrow": false,
          "text": "0.47",
          "x": "appearance",
          "y": "aroma"
         },
         {
          "font": {
           "color": "black",
           "size": 10
          },
          "showarrow": false,
          "text": "0.66",
          "x": "palate",
          "y": "overall"
         },
         {
          "font": {
           "color": "black",
           "size": 10
          },
          "showarrow": false,
          "text": "0.86",
          "x": "taste",
          "y": "overall"
         },
         {
          "font": {
           "color": "black",
           "size": 10
          },
          "showarrow": false,
          "text": "0.50",
          "x": "appearance",
          "y": "overall"
         },
         {
          "font": {
           "color": "black",
           "size": 10
          },
          "showarrow": false,
          "text": "0.77",
          "x": "aroma",
          "y": "overall"
         },
         {
          "font": {
           "color": "black",
           "size": 10
          },
          "showarrow": false,
          "text": "0.30",
          "x": "palate",
          "y": "abv"
         },
         {
          "font": {
           "color": "black",
           "size": 10
          },
          "showarrow": false,
          "text": "0.36",
          "x": "taste",
          "y": "abv"
         },
         {
          "font": {
           "color": "black",
           "size": 10
          },
          "showarrow": false,
          "text": "0.25",
          "x": "appearance",
          "y": "abv"
         },
         {
          "font": {
           "color": "black",
           "size": 10
          },
          "showarrow": false,
          "text": "0.37",
          "x": "aroma",
          "y": "abv"
         },
         {
          "font": {
           "color": "black",
           "size": 10
          },
          "showarrow": false,
          "text": "0.37",
          "x": "overall",
          "y": "abv"
         }
        ],
        "autosize": true,
        "template": {
         "data": {
          "bar": [
           {
            "error_x": {
             "color": "#2a3f5f"
            },
            "error_y": {
             "color": "#2a3f5f"
            },
            "marker": {
             "line": {
              "color": "#E5ECF6",
              "width": 0.5
             },
             "pattern": {
              "fillmode": "overlay",
              "size": 10,
              "solidity": 0.2
             }
            },
            "type": "bar"
           }
          ],
          "barpolar": [
           {
            "marker": {
             "line": {
              "color": "#E5ECF6",
              "width": 0.5
             },
             "pattern": {
              "fillmode": "overlay",
              "size": 10,
              "solidity": 0.2
             }
            },
            "type": "barpolar"
           }
          ],
          "carpet": [
           {
            "aaxis": {
             "endlinecolor": "#2a3f5f",
             "gridcolor": "white",
             "linecolor": "white",
             "minorgridcolor": "white",
             "startlinecolor": "#2a3f5f"
            },
            "baxis": {
             "endlinecolor": "#2a3f5f",
             "gridcolor": "white",
             "linecolor": "white",
             "minorgridcolor": "white",
             "startlinecolor": "#2a3f5f"
            },
            "type": "carpet"
           }
          ],
          "choropleth": [
           {
            "colorbar": {
             "outlinewidth": 0,
             "ticks": ""
            },
            "type": "choropleth"
           }
          ],
          "contour": [
           {
            "colorbar": {
             "outlinewidth": 0,
             "ticks": ""
            },
            "colorscale": [
             [
              0,
              "#0d0887"
             ],
             [
              0.1111111111111111,
              "#46039f"
             ],
             [
              0.2222222222222222,
              "#7201a8"
             ],
             [
              0.3333333333333333,
              "#9c179e"
             ],
             [
              0.4444444444444444,
              "#bd3786"
             ],
             [
              0.5555555555555556,
              "#d8576b"
             ],
             [
              0.6666666666666666,
              "#ed7953"
             ],
             [
              0.7777777777777778,
              "#fb9f3a"
             ],
             [
              0.8888888888888888,
              "#fdca26"
             ],
             [
              1,
              "#f0f921"
             ]
            ],
            "type": "contour"
           }
          ],
          "contourcarpet": [
           {
            "colorbar": {
             "outlinewidth": 0,
             "ticks": ""
            },
            "type": "contourcarpet"
           }
          ],
          "heatmap": [
           {
            "colorbar": {
             "outlinewidth": 0,
             "ticks": ""
            },
            "colorscale": [
             [
              0,
              "#0d0887"
             ],
             [
              0.1111111111111111,
              "#46039f"
             ],
             [
              0.2222222222222222,
              "#7201a8"
             ],
             [
              0.3333333333333333,
              "#9c179e"
             ],
             [
              0.4444444444444444,
              "#bd3786"
             ],
             [
              0.5555555555555556,
              "#d8576b"
             ],
             [
              0.6666666666666666,
              "#ed7953"
             ],
             [
              0.7777777777777778,
              "#fb9f3a"
             ],
             [
              0.8888888888888888,
              "#fdca26"
             ],
             [
              1,
              "#f0f921"
             ]
            ],
            "type": "heatmap"
           }
          ],
          "heatmapgl": [
           {
            "colorbar": {
             "outlinewidth": 0,
             "ticks": ""
            },
            "colorscale": [
             [
              0,
              "#0d0887"
             ],
             [
              0.1111111111111111,
              "#46039f"
             ],
             [
              0.2222222222222222,
              "#7201a8"
             ],
             [
              0.3333333333333333,
              "#9c179e"
             ],
             [
              0.4444444444444444,
              "#bd3786"
             ],
             [
              0.5555555555555556,
              "#d8576b"
             ],
             [
              0.6666666666666666,
              "#ed7953"
             ],
             [
              0.7777777777777778,
              "#fb9f3a"
             ],
             [
              0.8888888888888888,
              "#fdca26"
             ],
             [
              1,
              "#f0f921"
             ]
            ],
            "type": "heatmapgl"
           }
          ],
          "histogram": [
           {
            "marker": {
             "pattern": {
              "fillmode": "overlay",
              "size": 10,
              "solidity": 0.2
             }
            },
            "type": "histogram"
           }
          ],
          "histogram2d": [
           {
            "colorbar": {
             "outlinewidth": 0,
             "ticks": ""
            },
            "colorscale": [
             [
              0,
              "#0d0887"
             ],
             [
              0.1111111111111111,
              "#46039f"
             ],
             [
              0.2222222222222222,
              "#7201a8"
             ],
             [
              0.3333333333333333,
              "#9c179e"
             ],
             [
              0.4444444444444444,
              "#bd3786"
             ],
             [
              0.5555555555555556,
              "#d8576b"
             ],
             [
              0.6666666666666666,
              "#ed7953"
             ],
             [
              0.7777777777777778,
              "#fb9f3a"
             ],
             [
              0.8888888888888888,
              "#fdca26"
             ],
             [
              1,
              "#f0f921"
             ]
            ],
            "type": "histogram2d"
           }
          ],
          "histogram2dcontour": [
           {
            "colorbar": {
             "outlinewidth": 0,
             "ticks": ""
            },
            "colorscale": [
             [
              0,
              "#0d0887"
             ],
             [
              0.1111111111111111,
              "#46039f"
             ],
             [
              0.2222222222222222,
              "#7201a8"
             ],
             [
              0.3333333333333333,
              "#9c179e"
             ],
             [
              0.4444444444444444,
              "#bd3786"
             ],
             [
              0.5555555555555556,
              "#d8576b"
             ],
             [
              0.6666666666666666,
              "#ed7953"
             ],
             [
              0.7777777777777778,
              "#fb9f3a"
             ],
             [
              0.8888888888888888,
              "#fdca26"
             ],
             [
              1,
              "#f0f921"
             ]
            ],
            "type": "histogram2dcontour"
           }
          ],
          "mesh3d": [
           {
            "colorbar": {
             "outlinewidth": 0,
             "ticks": ""
            },
            "type": "mesh3d"
           }
          ],
          "parcoords": [
           {
            "line": {
             "colorbar": {
              "outlinewidth": 0,
              "ticks": ""
             }
            },
            "type": "parcoords"
           }
          ],
          "pie": [
           {
            "automargin": true,
            "type": "pie"
           }
          ],
          "scatter": [
           {
            "fillpattern": {
             "fillmode": "overlay",
             "size": 10,
             "solidity": 0.2
            },
            "type": "scatter"
           }
          ],
          "scatter3d": [
           {
            "line": {
             "colorbar": {
              "outlinewidth": 0,
              "ticks": ""
             }
            },
            "marker": {
             "colorbar": {
              "outlinewidth": 0,
              "ticks": ""
             }
            },
            "type": "scatter3d"
           }
          ],
          "scattercarpet": [
           {
            "marker": {
             "colorbar": {
              "outlinewidth": 0,
              "ticks": ""
             }
            },
            "type": "scattercarpet"
           }
          ],
          "scattergeo": [
           {
            "marker": {
             "colorbar": {
              "outlinewidth": 0,
              "ticks": ""
             }
            },
            "type": "scattergeo"
           }
          ],
          "scattergl": [
           {
            "marker": {
             "colorbar": {
              "outlinewidth": 0,
              "ticks": ""
             }
            },
            "type": "scattergl"
           }
          ],
          "scattermapbox": [
           {
            "marker": {
             "colorbar": {
              "outlinewidth": 0,
              "ticks": ""
             }
            },
            "type": "scattermapbox"
           }
          ],
          "scatterpolar": [
           {
            "marker": {
             "colorbar": {
              "outlinewidth": 0,
              "ticks": ""
             }
            },
            "type": "scatterpolar"
           }
          ],
          "scatterpolargl": [
           {
            "marker": {
             "colorbar": {
              "outlinewidth": 0,
              "ticks": ""
             }
            },
            "type": "scatterpolargl"
           }
          ],
          "scatterternary": [
           {
            "marker": {
             "colorbar": {
              "outlinewidth": 0,
              "ticks": ""
             }
            },
            "type": "scatterternary"
           }
          ],
          "surface": [
           {
            "colorbar": {
             "outlinewidth": 0,
             "ticks": ""
            },
            "colorscale": [
             [
              0,
              "#0d0887"
             ],
             [
              0.1111111111111111,
              "#46039f"
             ],
             [
              0.2222222222222222,
              "#7201a8"
             ],
             [
              0.3333333333333333,
              "#9c179e"
             ],
             [
              0.4444444444444444,
              "#bd3786"
             ],
             [
              0.5555555555555556,
              "#d8576b"
             ],
             [
              0.6666666666666666,
              "#ed7953"
             ],
             [
              0.7777777777777778,
              "#fb9f3a"
             ],
             [
              0.8888888888888888,
              "#fdca26"
             ],
             [
              1,
              "#f0f921"
             ]
            ],
            "type": "surface"
           }
          ],
          "table": [
           {
            "cells": {
             "fill": {
              "color": "#EBF0F8"
             },
             "line": {
              "color": "white"
             }
            },
            "header": {
             "fill": {
              "color": "#C8D4E3"
             },
             "line": {
              "color": "white"
             }
            },
            "type": "table"
           }
          ]
         },
         "layout": {
          "annotationdefaults": {
           "arrowcolor": "#2a3f5f",
           "arrowhead": 0,
           "arrowwidth": 1
          },
          "autotypenumbers": "strict",
          "coloraxis": {
           "colorbar": {
            "outlinewidth": 0,
            "ticks": ""
           }
          },
          "colorscale": {
           "diverging": [
            [
             0,
             "#8e0152"
            ],
            [
             0.1,
             "#c51b7d"
            ],
            [
             0.2,
             "#de77ae"
            ],
            [
             0.3,
             "#f1b6da"
            ],
            [
             0.4,
             "#fde0ef"
            ],
            [
             0.5,
             "#f7f7f7"
            ],
            [
             0.6,
             "#e6f5d0"
            ],
            [
             0.7,
             "#b8e186"
            ],
            [
             0.8,
             "#7fbc41"
            ],
            [
             0.9,
             "#4d9221"
            ],
            [
             1,
             "#276419"
            ]
           ],
           "sequential": [
            [
             0,
             "#0d0887"
            ],
            [
             0.1111111111111111,
             "#46039f"
            ],
            [
             0.2222222222222222,
             "#7201a8"
            ],
            [
             0.3333333333333333,
             "#9c179e"
            ],
            [
             0.4444444444444444,
             "#bd3786"
            ],
            [
             0.5555555555555556,
             "#d8576b"
            ],
            [
             0.6666666666666666,
             "#ed7953"
            ],
            [
             0.7777777777777778,
             "#fb9f3a"
            ],
            [
             0.8888888888888888,
             "#fdca26"
            ],
            [
             1,
             "#f0f921"
            ]
           ],
           "sequentialminus": [
            [
             0,
             "#0d0887"
            ],
            [
             0.1111111111111111,
             "#46039f"
            ],
            [
             0.2222222222222222,
             "#7201a8"
            ],
            [
             0.3333333333333333,
             "#9c179e"
            ],
            [
             0.4444444444444444,
             "#bd3786"
            ],
            [
             0.5555555555555556,
             "#d8576b"
            ],
            [
             0.6666666666666666,
             "#ed7953"
            ],
            [
             0.7777777777777778,
             "#fb9f3a"
            ],
            [
             0.8888888888888888,
             "#fdca26"
            ],
            [
             1,
             "#f0f921"
            ]
           ]
          },
          "colorway": [
           "#636efa",
           "#EF553B",
           "#00cc96",
           "#ab63fa",
           "#FFA15A",
           "#19d3f3",
           "#FF6692",
           "#B6E880",
           "#FF97FF",
           "#FECB52"
          ],
          "font": {
           "color": "#2a3f5f"
          },
          "geo": {
           "bgcolor": "white",
           "lakecolor": "white",
           "landcolor": "#E5ECF6",
           "showlakes": true,
           "showland": true,
           "subunitcolor": "white"
          },
          "hoverlabel": {
           "align": "left"
          },
          "hovermode": "closest",
          "mapbox": {
           "style": "light"
          },
          "paper_bgcolor": "white",
          "plot_bgcolor": "#E5ECF6",
          "polar": {
           "angularaxis": {
            "gridcolor": "white",
            "linecolor": "white",
            "ticks": ""
           },
           "bgcolor": "#E5ECF6",
           "radialaxis": {
            "gridcolor": "white",
            "linecolor": "white",
            "ticks": ""
           }
          },
          "scene": {
           "xaxis": {
            "backgroundcolor": "#E5ECF6",
            "gridcolor": "white",
            "gridwidth": 2,
            "linecolor": "white",
            "showbackground": true,
            "ticks": "",
            "zerolinecolor": "white"
           },
           "yaxis": {
            "backgroundcolor": "#E5ECF6",
            "gridcolor": "white",
            "gridwidth": 2,
            "linecolor": "white",
            "showbackground": true,
            "ticks": "",
            "zerolinecolor": "white"
           },
           "zaxis": {
            "backgroundcolor": "#E5ECF6",
            "gridcolor": "white",
            "gridwidth": 2,
            "linecolor": "white",
            "showbackground": true,
            "ticks": "",
            "zerolinecolor": "white"
           }
          },
          "shapedefaults": {
           "line": {
            "color": "#2a3f5f"
           }
          },
          "ternary": {
           "aaxis": {
            "gridcolor": "white",
            "linecolor": "white",
            "ticks": ""
           },
           "baxis": {
            "gridcolor": "white",
            "linecolor": "white",
            "ticks": ""
           },
           "bgcolor": "#E5ECF6",
           "caxis": {
            "gridcolor": "white",
            "linecolor": "white",
            "ticks": ""
           }
          },
          "title": {
           "x": 0.05
          },
          "xaxis": {
           "automargin": true,
           "gridcolor": "white",
           "linecolor": "white",
           "ticks": "",
           "title": {
            "standoff": 15
           },
           "zerolinecolor": "white",
           "zerolinewidth": 2
          },
          "yaxis": {
           "automargin": true,
           "gridcolor": "white",
           "linecolor": "white",
           "ticks": "",
           "title": {
            "standoff": 15
           },
           "zerolinecolor": "white",
           "zerolinewidth": 2
          }
         }
        },
        "title": {
         "text": "Correlation Matrix"
        },
        "xaxis": {
         "tickangle": 45
        },
        "yaxis": {
         "tickmode": "linear"
        }
       }
      }
     },
     "metadata": {},
     "output_type": "display_data"
    }
   ],
   "source": [
    "corr = df_ratings_no_text[['palate','taste','appearance','aroma','overall','abv']].corr()\n",
    "plot_correlation_matrix(df_ratings_no_text[['palate','taste','appearance','aroma','overall','abv']], filename=IMAGES_FOLDER + 'correlation_matrix.html')"
   ]
  },
  {
   "cell_type": "markdown",
   "metadata": {},
   "source": [
    "<b>Rewrite them to make them suite in the narrative of the \"popularity\"</b>"
   ]
  },
  {
   "cell_type": "markdown",
   "metadata": {},
   "source": [
    "Let's review for a moment the definition of palate, taste, appearance, aroma and overall, as defined by ratebeer:\n",
    "- <b>Aroma</b>: the smell of the beer\n",
    "- <b>Appearance</b>: the color, clarity, head and visual carbonation of the beer.\n",
    "- <b>Taste</b>: the flavor of the beer, thinking about the palate, bitterness and finish.\n",
    "- <b>Mouthfeel</b>: the body of the beer, the carbonation and the astrincency.\n",
    "- <b>Overall</b>: the overall characteristics and the personal experience of the beer.\n",
    "\n",
    "In this case we don't plot the rating since it's computed from all the other features but we'll use it to quantify the rating of a beer (rather than using the overall) since it takes into account all the other features. <br><br>\n",
    "Appearance and Mouthfeel are each scored out of 5. Aroma and Taste are scored out of 10. While Overall is scored out of 20. These all combine to give the beer a total score out of 50, which is then divided and displayed as a score out of 5 for each rating."
   ]
  },
  {
   "cell_type": "markdown",
   "metadata": {},
   "source": [
    "Overall, taste and aroma have a strong connection. We see that this is reasonable since the taste and the smell of a beer are significant while expressing a preference for a beer and it's likely that users when evaluating the overall experience gives a high weight to these two factors (so if they are low, also the overall experience will be low). We see that while the appearance and the palate have a connection which is not negiglible (0.5 an 0.66) we see that this is less strong since it's reasonable to think that the appearance and the body of the beer impact less the overall rating, which makes this connection weaker"
   ]
  },
  {
   "cell_type": "markdown",
   "metadata": {},
   "source": [
    "The correlation between the overall rating and ABV (0.37) is indeed less strong, which makes sense. While there is some relationship between alcohol content and the overall rating, the lower correlation suggests that ABV is not a dominant factor in how users rate a beer. This is intuitive because many beers have similar ABV ranges, and the experience can vary significantly based on other factors (like taste, aroma, or body). Therefore, even beers with the same ABV can lead to quite different user experiences, reducing the strength of the correlation between ABV and overall rating."
   ]
  },
  {
   "cell_type": "markdown",
   "metadata": {},
   "source": [
    "<b>Note</b> Here I'd add the correlation matrix (maybe change the plot if you don't like it) and I'd describe how the rating / popularity is linked with the different aspect of the ratings. I'd highlight the fact that the correlation between the ABV and the overall is still interesting because it proves what we observed in the ABV plots so I'd make a reference to the fact that we'll observe this phenomenon in the next sections. Let me know if you think we need to do some kind of temporal analysis (I think spatial would be too complex but let me know)"
   ]
  },
  {
   "cell_type": "markdown",
   "metadata": {},
   "source": [
    "### Average rating in the different countries"
   ]
  },
  {
   "cell_type": "code",
   "execution_count": 13,
   "metadata": {},
   "outputs": [
    {
     "data": {
      "application/vnd.plotly.v1+json": {
       "config": {
        "plotlyServerURL": "https://plot.ly"
       },
       "data": [
        {
         "colorscale": [
          [
           0,
           "rgb(247,251,255)"
          ],
          [
           0.125,
           "rgb(222,235,247)"
          ],
          [
           0.25,
           "rgb(198,219,239)"
          ],
          [
           0.375,
           "rgb(158,202,225)"
          ],
          [
           0.5,
           "rgb(107,174,214)"
          ],
          [
           0.625,
           "rgb(66,146,198)"
          ],
          [
           0.75,
           "rgb(33,113,181)"
          ],
          [
           0.875,
           "rgb(8,81,156)"
          ],
          [
           1,
           "rgb(8,48,107)"
          ]
         ],
         "hovertemplate": "<b>%{location}</b><br>Count: %{z}<extra></extra>",
         "locationmode": "country names",
         "locations": [
          "Argentina",
          "Ascension Island",
          "Australia",
          "Austria",
          "Belarus",
          "Belgium",
          "Bermuda",
          "Bolivia",
          "Brazil",
          "Bulgaria",
          "Cambodia",
          "Canada",
          "Chile",
          "China",
          "Colombia",
          "Croatia",
          "Cyprus",
          "Czech Republic",
          "Denmark",
          "Dominican Republic",
          "Ecuador",
          "El Salvador",
          "Estonia",
          "Faroe Islands",
          "Finland",
          "France",
          "Germany",
          "Greece",
          "Greenland",
          "Guam",
          "Hong Kong",
          "Hungary",
          "Iceland",
          "India",
          "Indonesia",
          "Ireland",
          "Israel",
          "Italy",
          "Japan",
          "Latvia",
          "Lithuania",
          "Luxembourg",
          "Malaysia",
          "Marshall Islands",
          "Mexico",
          "Moldova",
          "Mozambique",
          "Netherlands",
          "New Zealand",
          "North Korea",
          "Norway",
          "Panama",
          "Peru",
          "Philippines",
          "Poland",
          "Portugal",
          "Puerto Rico",
          "Romania",
          "Russia",
          "Saint Helena",
          "Serbia",
          "Singapore",
          "Slovak Republic",
          "Slovenia",
          "South Africa",
          "South Korea",
          "Spain",
          "Sweden",
          "Switzerland",
          "Taiwan",
          "Thailand",
          "Turkey",
          "Ukraine",
          "United Kingdom",
          "Venezuela"
         ],
         "showscale": false,
         "type": "choropleth",
         "visible": true,
         "z": [
          3.238230383973289,
          3.254683544303797,
          3.1593576566287993,
          3.3306422775409157,
          3.1638500279798545,
          3.3678126107549056,
          3.1184103260869565,
          2.959012629161883,
          3.263943974483428,
          3.318765432098765,
          3.137075848303393,
          3.2723824501189034,
          3.048143164693218,
          3.1039760348583876,
          2.8931034482758617,
          2.9035193533343695,
          3.402599448601812,
          3.134640598937119,
          3.085545599037759,
          2.961092530657748,
          2.978110599078341,
          2.7247051322919984,
          2.980442461071022,
          2.918590937306021,
          3.1276946326211568,
          3.2234708670197936,
          3.0483952942036803,
          3.451455479452055,
          3.013592233009709,
          3.121153846153846,
          3.307134447845538,
          3.259254683961293,
          3.351338432122371,
          3.297090517241379,
          2.6810968494749123,
          3.3154016739394807,
          3.0694280584765328,
          3.38149690332062,
          3.417267878130368,
          3.3493623051487953,
          3.1367731367731366,
          3.2504252733900363,
          3.3181194317360942,
          2.749757045675413,
          3.2893627102582323,
          3.1041690571811054,
          2.9644521566683193,
          3.28820617692232,
          3.202342965076558,
          3.129322033898305,
          3.0940025450454605,
          3.112571428571429,
          3.0842261904761905,
          3.3169257340241796,
          3.3356342014754747,
          3.1561308881697228,
          3.510774410774411,
          3.481652434802677,
          3.3016806722689074,
          3.081208053691275,
          3.362729177579885,
          3.459852216748769,
          3.1889013720083073,
          3.0906959706959705,
          3.168767734089988,
          3.254545454545455,
          3.2979442676008746,
          3.2483082209420058,
          3.23417594834544,
          2.82576882290562,
          3.1827740288163415,
          3.1785714285714284,
          2.998126721763086,
          3.2767508033054464,
          3.06959175887066
         ]
        },
        {
         "colorbar": {
          "len": 1,
          "title": {
           "text": "Scale"
          }
         },
         "colorscale": [
          [
           0,
           "rgb(247,251,255)"
          ],
          [
           0.125,
           "rgb(222,235,247)"
          ],
          [
           0.25,
           "rgb(198,219,239)"
          ],
          [
           0.375,
           "rgb(158,202,225)"
          ],
          [
           0.5,
           "rgb(107,174,214)"
          ],
          [
           0.625,
           "rgb(66,146,198)"
          ],
          [
           0.75,
           "rgb(33,113,181)"
          ],
          [
           0.875,
           "rgb(8,81,156)"
          ],
          [
           1,
           "rgb(8,48,107)"
          ]
         ],
         "hovertemplate": "<b>%{location}</b><br>Count: %{z}<extra></extra>",
         "locationmode": "USA-states",
         "locations": [
          "AL",
          "AK",
          "AZ",
          "AR",
          "CA",
          "CO",
          "CT",
          "DE",
          "FL",
          "GA",
          "HI",
          "ID",
          "IL",
          "IN",
          "IA",
          "KS",
          "KY",
          "LA",
          "ME",
          "MD",
          "MA",
          "MI",
          "MN",
          "MS",
          "MO",
          "MT",
          "NE",
          "NV",
          "NH",
          "NJ",
          "NM",
          "NY",
          "NC",
          "ND",
          "OH",
          "OK",
          "OR",
          "PA",
          "RI",
          "SC",
          "SD",
          "TN",
          "TX",
          "UT",
          "VT",
          "VA",
          "WA",
          "WV",
          "WI",
          "WY"
         ],
         "type": "choropleth",
         "visible": true,
         "z": [
          3.2774507854444224,
          3.3912592743164955,
          3.49411238726586,
          3.332662274280137,
          3.4500974269139473,
          3.357481815032906,
          3.463514923815487,
          3.427183078462198,
          3.3502361554701454,
          3.387888614822142,
          3.362615526802218,
          3.4071989109545164,
          3.3406055736938973,
          3.3035868812172393,
          3.3630949090708087,
          3.3796518607442976,
          3.3971274495981953,
          3.3810532687651333,
          3.455931321540062,
          3.3778850938413054,
          3.3969754886506935,
          3.397929010778173,
          3.3770180779882004,
          3.220095440084836,
          3.3327450707307853,
          3.258496601359456,
          3.2508784169467875,
          3.366852893580951,
          3.433534562625146,
          3.385280635632067,
          3.339821195753399,
          3.400096998052907,
          3.373512291673986,
          3.2566221580656802,
          3.4255627885440356,
          3.3157837837837834,
          3.4467637149167354,
          3.339067085529894,
          3.496934460887949,
          3.3684949655537895,
          3.1048964218455746,
          3.369456006106981,
          3.3211757416631906,
          3.4675680012838,
          3.4901210653753023,
          3.361222464955398,
          3.376182723486236,
          3.287772148432151,
          3.336272731108392,
          3.286346396965866
         ],
         "zmax": 3.510774410774411,
         "zmin": 2.6810968494749123
        }
       ],
       "layout": {
        "geo": {
         "projection": {
          "type": "equirectangular"
         },
         "showcoastlines": true,
         "showframe": false
        },
        "height": 600,
        "template": {
         "data": {
          "bar": [
           {
            "error_x": {
             "color": "#2a3f5f"
            },
            "error_y": {
             "color": "#2a3f5f"
            },
            "marker": {
             "line": {
              "color": "#E5ECF6",
              "width": 0.5
             },
             "pattern": {
              "fillmode": "overlay",
              "size": 10,
              "solidity": 0.2
             }
            },
            "type": "bar"
           }
          ],
          "barpolar": [
           {
            "marker": {
             "line": {
              "color": "#E5ECF6",
              "width": 0.5
             },
             "pattern": {
              "fillmode": "overlay",
              "size": 10,
              "solidity": 0.2
             }
            },
            "type": "barpolar"
           }
          ],
          "carpet": [
           {
            "aaxis": {
             "endlinecolor": "#2a3f5f",
             "gridcolor": "white",
             "linecolor": "white",
             "minorgridcolor": "white",
             "startlinecolor": "#2a3f5f"
            },
            "baxis": {
             "endlinecolor": "#2a3f5f",
             "gridcolor": "white",
             "linecolor": "white",
             "minorgridcolor": "white",
             "startlinecolor": "#2a3f5f"
            },
            "type": "carpet"
           }
          ],
          "choropleth": [
           {
            "colorbar": {
             "outlinewidth": 0,
             "ticks": ""
            },
            "type": "choropleth"
           }
          ],
          "contour": [
           {
            "colorbar": {
             "outlinewidth": 0,
             "ticks": ""
            },
            "colorscale": [
             [
              0,
              "#0d0887"
             ],
             [
              0.1111111111111111,
              "#46039f"
             ],
             [
              0.2222222222222222,
              "#7201a8"
             ],
             [
              0.3333333333333333,
              "#9c179e"
             ],
             [
              0.4444444444444444,
              "#bd3786"
             ],
             [
              0.5555555555555556,
              "#d8576b"
             ],
             [
              0.6666666666666666,
              "#ed7953"
             ],
             [
              0.7777777777777778,
              "#fb9f3a"
             ],
             [
              0.8888888888888888,
              "#fdca26"
             ],
             [
              1,
              "#f0f921"
             ]
            ],
            "type": "contour"
           }
          ],
          "contourcarpet": [
           {
            "colorbar": {
             "outlinewidth": 0,
             "ticks": ""
            },
            "type": "contourcarpet"
           }
          ],
          "heatmap": [
           {
            "colorbar": {
             "outlinewidth": 0,
             "ticks": ""
            },
            "colorscale": [
             [
              0,
              "#0d0887"
             ],
             [
              0.1111111111111111,
              "#46039f"
             ],
             [
              0.2222222222222222,
              "#7201a8"
             ],
             [
              0.3333333333333333,
              "#9c179e"
             ],
             [
              0.4444444444444444,
              "#bd3786"
             ],
             [
              0.5555555555555556,
              "#d8576b"
             ],
             [
              0.6666666666666666,
              "#ed7953"
             ],
             [
              0.7777777777777778,
              "#fb9f3a"
             ],
             [
              0.8888888888888888,
              "#fdca26"
             ],
             [
              1,
              "#f0f921"
             ]
            ],
            "type": "heatmap"
           }
          ],
          "heatmapgl": [
           {
            "colorbar": {
             "outlinewidth": 0,
             "ticks": ""
            },
            "colorscale": [
             [
              0,
              "#0d0887"
             ],
             [
              0.1111111111111111,
              "#46039f"
             ],
             [
              0.2222222222222222,
              "#7201a8"
             ],
             [
              0.3333333333333333,
              "#9c179e"
             ],
             [
              0.4444444444444444,
              "#bd3786"
             ],
             [
              0.5555555555555556,
              "#d8576b"
             ],
             [
              0.6666666666666666,
              "#ed7953"
             ],
             [
              0.7777777777777778,
              "#fb9f3a"
             ],
             [
              0.8888888888888888,
              "#fdca26"
             ],
             [
              1,
              "#f0f921"
             ]
            ],
            "type": "heatmapgl"
           }
          ],
          "histogram": [
           {
            "marker": {
             "pattern": {
              "fillmode": "overlay",
              "size": 10,
              "solidity": 0.2
             }
            },
            "type": "histogram"
           }
          ],
          "histogram2d": [
           {
            "colorbar": {
             "outlinewidth": 0,
             "ticks": ""
            },
            "colorscale": [
             [
              0,
              "#0d0887"
             ],
             [
              0.1111111111111111,
              "#46039f"
             ],
             [
              0.2222222222222222,
              "#7201a8"
             ],
             [
              0.3333333333333333,
              "#9c179e"
             ],
             [
              0.4444444444444444,
              "#bd3786"
             ],
             [
              0.5555555555555556,
              "#d8576b"
             ],
             [
              0.6666666666666666,
              "#ed7953"
             ],
             [
              0.7777777777777778,
              "#fb9f3a"
             ],
             [
              0.8888888888888888,
              "#fdca26"
             ],
             [
              1,
              "#f0f921"
             ]
            ],
            "type": "histogram2d"
           }
          ],
          "histogram2dcontour": [
           {
            "colorbar": {
             "outlinewidth": 0,
             "ticks": ""
            },
            "colorscale": [
             [
              0,
              "#0d0887"
             ],
             [
              0.1111111111111111,
              "#46039f"
             ],
             [
              0.2222222222222222,
              "#7201a8"
             ],
             [
              0.3333333333333333,
              "#9c179e"
             ],
             [
              0.4444444444444444,
              "#bd3786"
             ],
             [
              0.5555555555555556,
              "#d8576b"
             ],
             [
              0.6666666666666666,
              "#ed7953"
             ],
             [
              0.7777777777777778,
              "#fb9f3a"
             ],
             [
              0.8888888888888888,
              "#fdca26"
             ],
             [
              1,
              "#f0f921"
             ]
            ],
            "type": "histogram2dcontour"
           }
          ],
          "mesh3d": [
           {
            "colorbar": {
             "outlinewidth": 0,
             "ticks": ""
            },
            "type": "mesh3d"
           }
          ],
          "parcoords": [
           {
            "line": {
             "colorbar": {
              "outlinewidth": 0,
              "ticks": ""
             }
            },
            "type": "parcoords"
           }
          ],
          "pie": [
           {
            "automargin": true,
            "type": "pie"
           }
          ],
          "scatter": [
           {
            "fillpattern": {
             "fillmode": "overlay",
             "size": 10,
             "solidity": 0.2
            },
            "type": "scatter"
           }
          ],
          "scatter3d": [
           {
            "line": {
             "colorbar": {
              "outlinewidth": 0,
              "ticks": ""
             }
            },
            "marker": {
             "colorbar": {
              "outlinewidth": 0,
              "ticks": ""
             }
            },
            "type": "scatter3d"
           }
          ],
          "scattercarpet": [
           {
            "marker": {
             "colorbar": {
              "outlinewidth": 0,
              "ticks": ""
             }
            },
            "type": "scattercarpet"
           }
          ],
          "scattergeo": [
           {
            "marker": {
             "colorbar": {
              "outlinewidth": 0,
              "ticks": ""
             }
            },
            "type": "scattergeo"
           }
          ],
          "scattergl": [
           {
            "marker": {
             "colorbar": {
              "outlinewidth": 0,
              "ticks": ""
             }
            },
            "type": "scattergl"
           }
          ],
          "scattermapbox": [
           {
            "marker": {
             "colorbar": {
              "outlinewidth": 0,
              "ticks": ""
             }
            },
            "type": "scattermapbox"
           }
          ],
          "scatterpolar": [
           {
            "marker": {
             "colorbar": {
              "outlinewidth": 0,
              "ticks": ""
             }
            },
            "type": "scatterpolar"
           }
          ],
          "scatterpolargl": [
           {
            "marker": {
             "colorbar": {
              "outlinewidth": 0,
              "ticks": ""
             }
            },
            "type": "scatterpolargl"
           }
          ],
          "scatterternary": [
           {
            "marker": {
             "colorbar": {
              "outlinewidth": 0,
              "ticks": ""
             }
            },
            "type": "scatterternary"
           }
          ],
          "surface": [
           {
            "colorbar": {
             "outlinewidth": 0,
             "ticks": ""
            },
            "colorscale": [
             [
              0,
              "#0d0887"
             ],
             [
              0.1111111111111111,
              "#46039f"
             ],
             [
              0.2222222222222222,
              "#7201a8"
             ],
             [
              0.3333333333333333,
              "#9c179e"
             ],
             [
              0.4444444444444444,
              "#bd3786"
             ],
             [
              0.5555555555555556,
              "#d8576b"
             ],
             [
              0.6666666666666666,
              "#ed7953"
             ],
             [
              0.7777777777777778,
              "#fb9f3a"
             ],
             [
              0.8888888888888888,
              "#fdca26"
             ],
             [
              1,
              "#f0f921"
             ]
            ],
            "type": "surface"
           }
          ],
          "table": [
           {
            "cells": {
             "fill": {
              "color": "#EBF0F8"
             },
             "line": {
              "color": "white"
             }
            },
            "header": {
             "fill": {
              "color": "#C8D4E3"
             },
             "line": {
              "color": "white"
             }
            },
            "type": "table"
           }
          ]
         },
         "layout": {
          "annotationdefaults": {
           "arrowcolor": "#2a3f5f",
           "arrowhead": 0,
           "arrowwidth": 1
          },
          "autotypenumbers": "strict",
          "coloraxis": {
           "colorbar": {
            "outlinewidth": 0,
            "ticks": ""
           }
          },
          "colorscale": {
           "diverging": [
            [
             0,
             "#8e0152"
            ],
            [
             0.1,
             "#c51b7d"
            ],
            [
             0.2,
             "#de77ae"
            ],
            [
             0.3,
             "#f1b6da"
            ],
            [
             0.4,
             "#fde0ef"
            ],
            [
             0.5,
             "#f7f7f7"
            ],
            [
             0.6,
             "#e6f5d0"
            ],
            [
             0.7,
             "#b8e186"
            ],
            [
             0.8,
             "#7fbc41"
            ],
            [
             0.9,
             "#4d9221"
            ],
            [
             1,
             "#276419"
            ]
           ],
           "sequential": [
            [
             0,
             "#0d0887"
            ],
            [
             0.1111111111111111,
             "#46039f"
            ],
            [
             0.2222222222222222,
             "#7201a8"
            ],
            [
             0.3333333333333333,
             "#9c179e"
            ],
            [
             0.4444444444444444,
             "#bd3786"
            ],
            [
             0.5555555555555556,
             "#d8576b"
            ],
            [
             0.6666666666666666,
             "#ed7953"
            ],
            [
             0.7777777777777778,
             "#fb9f3a"
            ],
            [
             0.8888888888888888,
             "#fdca26"
            ],
            [
             1,
             "#f0f921"
            ]
           ],
           "sequentialminus": [
            [
             0,
             "#0d0887"
            ],
            [
             0.1111111111111111,
             "#46039f"
            ],
            [
             0.2222222222222222,
             "#7201a8"
            ],
            [
             0.3333333333333333,
             "#9c179e"
            ],
            [
             0.4444444444444444,
             "#bd3786"
            ],
            [
             0.5555555555555556,
             "#d8576b"
            ],
            [
             0.6666666666666666,
             "#ed7953"
            ],
            [
             0.7777777777777778,
             "#fb9f3a"
            ],
            [
             0.8888888888888888,
             "#fdca26"
            ],
            [
             1,
             "#f0f921"
            ]
           ]
          },
          "colorway": [
           "#636efa",
           "#EF553B",
           "#00cc96",
           "#ab63fa",
           "#FFA15A",
           "#19d3f3",
           "#FF6692",
           "#B6E880",
           "#FF97FF",
           "#FECB52"
          ],
          "font": {
           "color": "#2a3f5f"
          },
          "geo": {
           "bgcolor": "white",
           "lakecolor": "white",
           "landcolor": "#E5ECF6",
           "showlakes": true,
           "showland": true,
           "subunitcolor": "white"
          },
          "hoverlabel": {
           "align": "left"
          },
          "hovermode": "closest",
          "mapbox": {
           "style": "light"
          },
          "paper_bgcolor": "white",
          "plot_bgcolor": "#E5ECF6",
          "polar": {
           "angularaxis": {
            "gridcolor": "white",
            "linecolor": "white",
            "ticks": ""
           },
           "bgcolor": "#E5ECF6",
           "radialaxis": {
            "gridcolor": "white",
            "linecolor": "white",
            "ticks": ""
           }
          },
          "scene": {
           "xaxis": {
            "backgroundcolor": "#E5ECF6",
            "gridcolor": "white",
            "gridwidth": 2,
            "linecolor": "white",
            "showbackground": true,
            "ticks": "",
            "zerolinecolor": "white"
           },
           "yaxis": {
            "backgroundcolor": "#E5ECF6",
            "gridcolor": "white",
            "gridwidth": 2,
            "linecolor": "white",
            "showbackground": true,
            "ticks": "",
            "zerolinecolor": "white"
           },
           "zaxis": {
            "backgroundcolor": "#E5ECF6",
            "gridcolor": "white",
            "gridwidth": 2,
            "linecolor": "white",
            "showbackground": true,
            "ticks": "",
            "zerolinecolor": "white"
           }
          },
          "shapedefaults": {
           "line": {
            "color": "#2a3f5f"
           }
          },
          "ternary": {
           "aaxis": {
            "gridcolor": "white",
            "linecolor": "white",
            "ticks": ""
           },
           "baxis": {
            "gridcolor": "white",
            "linecolor": "white",
            "ticks": ""
           },
           "bgcolor": "#E5ECF6",
           "caxis": {
            "gridcolor": "white",
            "linecolor": "white",
            "ticks": ""
           }
          },
          "title": {
           "x": 0.05
          },
          "xaxis": {
           "automargin": true,
           "gridcolor": "white",
           "linecolor": "white",
           "ticks": "",
           "title": {
            "standoff": 15
           },
           "zerolinecolor": "white",
           "zerolinewidth": 2
          },
          "yaxis": {
           "automargin": true,
           "gridcolor": "white",
           "linecolor": "white",
           "ticks": "",
           "title": {
            "standoff": 15
           },
           "zerolinecolor": "white",
           "zerolinewidth": 2
          }
         }
        },
        "title": {
         "text": "Average Ratings by Country and US State"
        },
        "width": 800
       }
      }
     },
     "metadata": {},
     "output_type": "display_data"
    }
   ],
   "source": [
    "# Create a filtered dataframe\n",
    "number_of_ratings_per_country = df_ratings_no_text.groupby('country_user').size().reset_index().rename(columns={0:'count'})\n",
    "number_of_ratings_per_country = number_of_ratings_per_country[number_of_ratings_per_country['count'] > 250]\n",
    "df_ratings_filtered = df_ratings_no_text[df_ratings_no_text['country_user'].isin(number_of_ratings_per_country['country_user'])]\n",
    "\n",
    "# Compute the average rating per country\n",
    "average_rating_no_US = df_ratings_filtered[df_ratings_filtered['country_user'] != 'United States'].groupby('country_user')['rating'].mean().reset_index().rename(columns={'country_user':'location', 'rating':'count'})\n",
    "average_rating_US = df_ratings_filtered[df_ratings_filtered['country_user'] == 'United States'].groupby('state_user')['rating'].mean().reset_index().rename(columns={'state_user':'location', 'rating':'count'})\n",
    "\n",
    "# Plot everything\n",
    "options = {\n",
    "    \"title\": \"Average Ratings by Country and US State\",\n",
    "    \"plots\": [{\n",
    "        'label': 'Beers per country',\n",
    "        'location_label': 'location',\n",
    "        'z_label': 'count',\n",
    "        'colorscale': 'Blues'\n",
    "    }]\n",
    "}\n",
    "plot_map(average_rating_no_US, average_rating_US, options)"
   ]
  },
  {
   "cell_type": "code",
   "execution_count": 14,
   "metadata": {},
   "outputs": [
    {
     "data": {
      "text/html": [
       "<div>\n",
       "<style scoped>\n",
       "    .dataframe tbody tr th:only-of-type {\n",
       "        vertical-align: middle;\n",
       "    }\n",
       "\n",
       "    .dataframe tbody tr th {\n",
       "        vertical-align: top;\n",
       "    }\n",
       "\n",
       "    .dataframe thead th {\n",
       "        text-align: right;\n",
       "    }\n",
       "</style>\n",
       "<table border=\"1\" class=\"dataframe\">\n",
       "  <thead>\n",
       "    <tr style=\"text-align: right;\">\n",
       "      <th></th>\n",
       "      <th>location</th>\n",
       "      <th>count</th>\n",
       "    </tr>\n",
       "  </thead>\n",
       "  <tbody>\n",
       "    <tr>\n",
       "      <th>56</th>\n",
       "      <td>Puerto Rico</td>\n",
       "      <td>3.510774</td>\n",
       "    </tr>\n",
       "    <tr>\n",
       "      <th>38</th>\n",
       "      <td>Rhode Island</td>\n",
       "      <td>3.496934</td>\n",
       "    </tr>\n",
       "    <tr>\n",
       "      <th>2</th>\n",
       "      <td>Arizona</td>\n",
       "      <td>3.494112</td>\n",
       "    </tr>\n",
       "    <tr>\n",
       "      <th>44</th>\n",
       "      <td>Vermont</td>\n",
       "      <td>3.490121</td>\n",
       "    </tr>\n",
       "    <tr>\n",
       "      <th>57</th>\n",
       "      <td>Romania</td>\n",
       "      <td>3.481652</td>\n",
       "    </tr>\n",
       "    <tr>\n",
       "      <th>43</th>\n",
       "      <td>Utah</td>\n",
       "      <td>3.467568</td>\n",
       "    </tr>\n",
       "    <tr>\n",
       "      <th>6</th>\n",
       "      <td>Connecticut</td>\n",
       "      <td>3.463515</td>\n",
       "    </tr>\n",
       "    <tr>\n",
       "      <th>61</th>\n",
       "      <td>Singapore</td>\n",
       "      <td>3.459852</td>\n",
       "    </tr>\n",
       "    <tr>\n",
       "      <th>18</th>\n",
       "      <td>Maine</td>\n",
       "      <td>3.455931</td>\n",
       "    </tr>\n",
       "    <tr>\n",
       "      <th>27</th>\n",
       "      <td>Greece</td>\n",
       "      <td>3.451455</td>\n",
       "    </tr>\n",
       "  </tbody>\n",
       "</table>\n",
       "</div>"
      ],
      "text/plain": [
       "        location     count\n",
       "56   Puerto Rico  3.510774\n",
       "38  Rhode Island  3.496934\n",
       "2        Arizona  3.494112\n",
       "44       Vermont  3.490121\n",
       "57       Romania  3.481652\n",
       "43          Utah  3.467568\n",
       "6    Connecticut  3.463515\n",
       "61     Singapore  3.459852\n",
       "18         Maine  3.455931\n",
       "27        Greece  3.451455"
      ]
     },
     "execution_count": 14,
     "metadata": {},
     "output_type": "execute_result"
    }
   ],
   "source": [
    "average_rating = pd.concat([average_rating_no_US, average_rating_US]).sort_values('count', ascending=False)\n",
    "average_rating.head(10)"
   ]
  },
  {
   "cell_type": "code",
   "execution_count": 15,
   "metadata": {},
   "outputs": [
    {
     "data": {
      "text/html": [
       "<div>\n",
       "<style scoped>\n",
       "    .dataframe tbody tr th:only-of-type {\n",
       "        vertical-align: middle;\n",
       "    }\n",
       "\n",
       "    .dataframe tbody tr th {\n",
       "        vertical-align: top;\n",
       "    }\n",
       "\n",
       "    .dataframe thead th {\n",
       "        text-align: right;\n",
       "    }\n",
       "</style>\n",
       "<table border=\"1\" class=\"dataframe\">\n",
       "  <thead>\n",
       "    <tr style=\"text-align: right;\">\n",
       "      <th></th>\n",
       "      <th>location</th>\n",
       "      <th>count</th>\n",
       "    </tr>\n",
       "  </thead>\n",
       "  <tbody>\n",
       "    <tr>\n",
       "      <th>34</th>\n",
       "      <td>Indonesia</td>\n",
       "      <td>2.681097</td>\n",
       "    </tr>\n",
       "    <tr>\n",
       "      <th>21</th>\n",
       "      <td>El Salvador</td>\n",
       "      <td>2.724705</td>\n",
       "    </tr>\n",
       "    <tr>\n",
       "      <th>43</th>\n",
       "      <td>Marshall Islands</td>\n",
       "      <td>2.749757</td>\n",
       "    </tr>\n",
       "    <tr>\n",
       "      <th>69</th>\n",
       "      <td>Taiwan</td>\n",
       "      <td>2.825769</td>\n",
       "    </tr>\n",
       "    <tr>\n",
       "      <th>14</th>\n",
       "      <td>Colombia</td>\n",
       "      <td>2.893103</td>\n",
       "    </tr>\n",
       "    <tr>\n",
       "      <th>15</th>\n",
       "      <td>Croatia</td>\n",
       "      <td>2.903519</td>\n",
       "    </tr>\n",
       "    <tr>\n",
       "      <th>23</th>\n",
       "      <td>Faroe Islands</td>\n",
       "      <td>2.918591</td>\n",
       "    </tr>\n",
       "    <tr>\n",
       "      <th>7</th>\n",
       "      <td>Bolivia</td>\n",
       "      <td>2.959013</td>\n",
       "    </tr>\n",
       "    <tr>\n",
       "      <th>19</th>\n",
       "      <td>Dominican Republic</td>\n",
       "      <td>2.961093</td>\n",
       "    </tr>\n",
       "    <tr>\n",
       "      <th>46</th>\n",
       "      <td>Mozambique</td>\n",
       "      <td>2.964452</td>\n",
       "    </tr>\n",
       "  </tbody>\n",
       "</table>\n",
       "</div>"
      ],
      "text/plain": [
       "              location     count\n",
       "34           Indonesia  2.681097\n",
       "21         El Salvador  2.724705\n",
       "43    Marshall Islands  2.749757\n",
       "69              Taiwan  2.825769\n",
       "14            Colombia  2.893103\n",
       "15             Croatia  2.903519\n",
       "23       Faroe Islands  2.918591\n",
       "7              Bolivia  2.959013\n",
       "19  Dominican Republic  2.961093\n",
       "46          Mozambique  2.964452"
      ]
     },
     "execution_count": 15,
     "metadata": {},
     "output_type": "execute_result"
    }
   ],
   "source": [
    "average_rating = pd.concat([average_rating_no_US, average_rating_US]).sort_values('count', ascending=True)\n",
    "average_rating.head(10)"
   ]
  },
  {
   "cell_type": "markdown",
   "metadata": {},
   "source": [
    "### Rating evolution over time in the different countries"
   ]
  },
  {
   "cell_type": "code",
   "execution_count": 16,
   "metadata": {},
   "outputs": [],
   "source": [
    "unique_states_breweries = df_ratings_no_text['country_user'].unique()\n",
    "row_US = []\n",
    "row_no_US = []\n",
    "for year in range(2002, 2018):\n",
    "    df_state_no_US = df_ratings_no_text[(df_ratings_no_text['date'].dt.year == year) & (df_ratings_no_text['country_user'] != 'United States')].groupby('country_user').agg({'rating': 'mean'}).reset_index()\n",
    "    df_state_US = df_ratings_no_text[(df_ratings_no_text['date'].dt.year == year) & (df_ratings_no_text['country_user'] == 'United States')].groupby('state_user').agg({'rating': 'mean'}).reset_index()\n",
    "    row_no_US += [{'year': year, 'location': state, 'count': abv} for state, abv in zip(df_state_no_US['country_user'], df_state_no_US['rating'])]\n",
    "    row_US += [{'year': year, 'location': state, 'count': abv} for state, abv in zip(df_state_US['state_user'], df_state_US['rating'])]\n",
    "df_states_no_US = pd.DataFrame(row_no_US)\n",
    "df_states_US = pd.DataFrame(row_US)"
   ]
  },
  {
   "cell_type": "code",
   "execution_count": 17,
   "metadata": {},
   "outputs": [
    {
     "data": {
      "application/vnd.plotly.v1+json": {
       "config": {
        "plotlyServerURL": "https://plot.ly"
       },
       "data": [
        {
         "coloraxis": "coloraxis",
         "geo": "geo",
         "hovertemplate": "location=%{location}<br>count=%{z}<extra></extra>",
         "locationmode": "country names",
         "locations": [
          "Argentina",
          "Australia",
          "Austria",
          "Bahamas",
          "Belgium",
          "Brazil",
          "Canada",
          "Colombia",
          "Costa Rica",
          "Croatia",
          "Czech Republic",
          "Denmark",
          "Finland",
          "France",
          "Germany",
          "Iceland",
          "India",
          "Ireland",
          "Italy",
          "Japan",
          "Lithuania",
          "Luxembourg",
          "Netherlands",
          "New Zealand",
          "Norway",
          "Philippines",
          "Poland",
          "Portugal",
          "Russia",
          "Singapore",
          "South Africa",
          "Spain",
          "Sudan",
          "Sweden",
          "Switzerland",
          "United Kingdom",
          "Venezuela",
          "Zimbabwe"
         ],
         "name": "",
         "type": "choropleth",
         "z": [
          3.0444444444444443,
          2.87203007518797,
          3.090909090909091,
          2.2,
          3.2024967148488828,
          3.525,
          2.9255892857142856,
          4.8,
          4.9,
          2.5867088607594937,
          2.9541338582677166,
          2.9313854853911403,
          2.8783018867924532,
          2.9527777777777775,
          2.8586666666666667,
          2.8,
          3.279126213592233,
          2.853333333333333,
          3.0250000000000004,
          2.993262411347518,
          2.9488188976377954,
          4.475,
          3.1305825242718446,
          3.3547945205479452,
          2.57,
          0.775,
          2.7910869565217395,
          3.4075117370892016,
          4.1,
          2.05,
          3.6999999999999997,
          3.016666666666667,
          4.033333333333333,
          2.918217306441119,
          3.0494565217391303,
          3.1212069698257543,
          4.4,
          2.2
         ]
        },
        {
         "coloraxis": "coloraxis",
         "geo": "geo",
         "hovertemplate": "location=%{location}<br>count=%{z}<extra></extra>",
         "locationmode": "USA-states",
         "locations": [
          "AL",
          "AK",
          "AZ",
          "AR",
          "CA",
          "CO",
          "CT",
          "DE",
          "FL",
          "GA",
          "ID",
          "IL",
          "IN",
          "IA",
          "KS",
          "KY",
          "LA",
          "ME",
          "MD",
          "MA",
          "MI",
          "MN",
          "MS",
          "MO",
          "MT",
          "NE",
          "NV",
          "NH",
          "NJ",
          "NM",
          "NY",
          "NC",
          "ND",
          "OH",
          "OK",
          "OR",
          "PA",
          "RI",
          "SC",
          "SD",
          "TN",
          "TX",
          "UT",
          "VT",
          "VA",
          "WA",
          "WV",
          "WI",
          "WY"
         ],
         "name": "",
         "type": "choropleth",
         "z": [
          3.1402439024390243,
          3.275,
          3.3434285714285714,
          2.620388349514563,
          3.16628067967275,
          2.9907692307692306,
          3.3859712230215826,
          4.3307692307692305,
          3.174856321839081,
          3.316912487708948,
          2.378260869565217,
          3.1661064425770307,
          3.162079831932773,
          3.221750321750322,
          3.185434173669468,
          3.174074074074074,
          2.9278350515463916,
          3.040909090909091,
          3.267247007616975,
          3.0510599078341016,
          3.017376425855513,
          3.0142857142857142,
          2.9555555555555557,
          3.0537359263050154,
          3.151492537313433,
          2.977777777777778,
          3.291049382716049,
          3.25,
          3.127071240105541,
          3.4403508771929823,
          3.213298902517753,
          3.259416767922236,
          3.004545454545455,
          3.0928879310344826,
          2.7127450980392154,
          3.1278314310798945,
          3.1622404511663675,
          3.8897435897435892,
          3.633701657458564,
          3.01,
          3.2758403361344537,
          3.1246970330129544,
          3.4918032786885247,
          3.441304347826087,
          3.0676491228070173,
          3.11443661971831,
          2.6537974683544303,
          3.1645023494233233,
          2.65
         ]
        }
       ],
       "frames": [
        {
         "data": [
          {
           "coloraxis": "coloraxis",
           "geo": "geo",
           "hovertemplate": "location=%{location}<br>count=%{z}<extra></extra>",
           "locationmode": "country names",
           "locations": [
            "Argentina",
            "Australia",
            "Austria",
            "Bahamas",
            "Belgium",
            "Brazil",
            "Canada",
            "Colombia",
            "Costa Rica",
            "Croatia",
            "Czech Republic",
            "Denmark",
            "Finland",
            "France",
            "Germany",
            "Iceland",
            "India",
            "Ireland",
            "Italy",
            "Japan",
            "Lithuania",
            "Luxembourg",
            "Netherlands",
            "New Zealand",
            "Norway",
            "Philippines",
            "Poland",
            "Portugal",
            "Russia",
            "Singapore",
            "South Africa",
            "Spain",
            "Sudan",
            "Sweden",
            "Switzerland",
            "United Kingdom",
            "Venezuela",
            "Zimbabwe"
           ],
           "name": "",
           "type": "choropleth",
           "z": [
            3.0444444444444443,
            2.87203007518797,
            3.090909090909091,
            2.2,
            3.2024967148488828,
            3.525,
            2.9255892857142856,
            4.8,
            4.9,
            2.5867088607594937,
            2.9541338582677166,
            2.9313854853911403,
            2.8783018867924532,
            2.9527777777777775,
            2.8586666666666667,
            2.8,
            3.279126213592233,
            2.853333333333333,
            3.0250000000000004,
            2.993262411347518,
            2.9488188976377954,
            4.475,
            3.1305825242718446,
            3.3547945205479452,
            2.57,
            0.775,
            2.7910869565217395,
            3.4075117370892016,
            4.1,
            2.05,
            3.6999999999999997,
            3.016666666666667,
            4.033333333333333,
            2.918217306441119,
            3.0494565217391303,
            3.1212069698257543,
            4.4,
            2.2
           ]
          },
          {
           "coloraxis": "coloraxis",
           "geo": "geo",
           "hovertemplate": "location=%{location}<br>count=%{z}<extra></extra>",
           "locationmode": "USA-states",
           "locations": [
            "AL",
            "AK",
            "AZ",
            "AR",
            "CA",
            "CO",
            "CT",
            "DE",
            "FL",
            "GA",
            "ID",
            "IL",
            "IN",
            "IA",
            "KS",
            "KY",
            "LA",
            "ME",
            "MD",
            "MA",
            "MI",
            "MN",
            "MS",
            "MO",
            "MT",
            "NE",
            "NV",
            "NH",
            "NJ",
            "NM",
            "NY",
            "NC",
            "ND",
            "OH",
            "OK",
            "OR",
            "PA",
            "RI",
            "SC",
            "SD",
            "TN",
            "TX",
            "UT",
            "VT",
            "VA",
            "WA",
            "WV",
            "WI",
            "WY"
           ],
           "name": "",
           "type": "choropleth",
           "z": [
            3.1402439024390243,
            3.275,
            3.3434285714285714,
            2.620388349514563,
            3.16628067967275,
            2.9907692307692306,
            3.3859712230215826,
            4.3307692307692305,
            3.174856321839081,
            3.316912487708948,
            2.378260869565217,
            3.1661064425770307,
            3.162079831932773,
            3.221750321750322,
            3.185434173669468,
            3.174074074074074,
            2.9278350515463916,
            3.040909090909091,
            3.267247007616975,
            3.0510599078341016,
            3.017376425855513,
            3.0142857142857142,
            2.9555555555555557,
            3.0537359263050154,
            3.151492537313433,
            2.977777777777778,
            3.291049382716049,
            3.25,
            3.127071240105541,
            3.4403508771929823,
            3.213298902517753,
            3.259416767922236,
            3.004545454545455,
            3.0928879310344826,
            2.7127450980392154,
            3.1278314310798945,
            3.1622404511663675,
            3.8897435897435892,
            3.633701657458564,
            3.01,
            3.2758403361344537,
            3.1246970330129544,
            3.4918032786885247,
            3.441304347826087,
            3.0676491228070173,
            3.11443661971831,
            2.6537974683544303,
            3.1645023494233233,
            2.65
           ]
          }
         ],
         "name": "2002"
        },
        {
         "data": [
          {
           "coloraxis": "coloraxis",
           "geo": "geo",
           "hovertemplate": "location=%{location}<br>count=%{z}<extra></extra>",
           "locationmode": "country names",
           "locations": [
            "Australia",
            "Austria",
            "Belgium",
            "Bolivia",
            "Bosnia and Herzegovina",
            "Brazil",
            "Canada",
            "Chile",
            "Croatia",
            "Cyprus",
            "Czech Republic",
            "Denmark",
            "El Salvador",
            "Finland",
            "France",
            "Germany",
            "Hong Kong",
            "Iceland",
            "India",
            "Italy",
            "Japan",
            "Lithuania",
            "Mexico",
            "Moldova",
            "Netherlands",
            "New Zealand",
            "Norway",
            "Pakistan",
            "Philippines",
            "Poland",
            "Portugal",
            "Singapore",
            "South Africa",
            "Spain",
            "Sweden",
            "Switzerland",
            "United Kingdom",
            "Virgin Islands (U.S.)",
            "Zimbabwe"
           ],
           "name": "",
           "type": "choropleth",
           "z": [
            2.6659677030609785,
            2.752173913043478,
            3.270713201820941,
            3.1944444444444446,
            3.4631578947368418,
            3.85,
            2.9135607964430696,
            0.8,
            2.691860465116279,
            5,
            2.7218181818181817,
            2.90462786259542,
            3.153191489361702,
            3.0155038759689923,
            2.954166666666667,
            3.0261070110701107,
            1.5333333333333334,
            2.888961038961039,
            3.1946236559139787,
            3.1126334519572953,
            3.1335365853658534,
            2.44,
            3.95,
            2.8276231263383296,
            3.0033911368015414,
            3.254782608695652,
            2.8607142857142858,
            3.85625,
            1.8,
            2.9669675090252707,
            3.56,
            2.481818181818182,
            1.6,
            2.8555555555555556,
            2.845908543922984,
            3.006138613861386,
            3.0588147036759192,
            4.2,
            2.2
           ]
          },
          {
           "coloraxis": "coloraxis",
           "geo": "geo",
           "hovertemplate": "location=%{location}<br>count=%{z}<extra></extra>",
           "locationmode": "USA-states",
           "locations": [
            "AL",
            "AK",
            "AZ",
            "AR",
            "CA",
            "CO",
            "CT",
            "DE",
            "FL",
            "GA",
            "ID",
            "IL",
            "IN",
            "IA",
            "KS",
            "KY",
            "LA",
            "ME",
            "MD",
            "MA",
            "MI",
            "MN",
            "MS",
            "MO",
            "MT",
            "NE",
            "NV",
            "NH",
            "NJ",
            "NM",
            "NY",
            "NC",
            "ND",
            "OH",
            "OK",
            "OR",
            "PA",
            "RI",
            "SC",
            "SD",
            "TN",
            "TX",
            "UT",
            "VT",
            "VA",
            "WA",
            "WV",
            "WI",
            "WY"
           ],
           "name": "",
           "type": "choropleth",
           "z": [
            3.0507177033492825,
            3.3398230088495575,
            3.382506102522376,
            3.1526315789473682,
            3.271472263235604,
            3.1217109992810927,
            3.4860946745562127,
            4.319999999999999,
            3.1970444850700797,
            3.2880404783808648,
            3.2936633663366335,
            3.1706532663316582,
            3.1335707925200356,
            3.224227642276423,
            3.301622418879056,
            2.9466911764705883,
            3.287037037037037,
            3.376,
            3.294298745724059,
            3.1283589743589744,
            3.1842105263157894,
            3.3317470256731374,
            3.3371335504885993,
            3.2416303671437463,
            3.2697247706422017,
            3.094186046511628,
            3.0983516483516484,
            3.2039603960396037,
            3.1921148587055606,
            3.223611111111111,
            3.2050150451354065,
            3.2317739975698663,
            3.369230769230769,
            3.197680955727337,
            2.960846560846561,
            3.2571670428893906,
            3.078381350340884,
            3.2700000000000005,
            3.4383584589614737,
            2.9333333333333336,
            3.1159866777685266,
            3.1739085596424887,
            3.4690909090909092,
            3.4360000000000004,
            3.165618804871141,
            3.106536228768007,
            3.147692307692308,
            3.1368319876970396,
            3.75
           ]
          }
         ],
         "name": "2003"
        },
        {
         "data": [
          {
           "coloraxis": "coloraxis",
           "geo": "geo",
           "hovertemplate": "location=%{location}<br>count=%{z}<extra></extra>",
           "locationmode": "country names",
           "locations": [
            "Andorra",
            "Argentina",
            "Australia",
            "Austria",
            "Belgium",
            "Bolivia",
            "Brazil",
            "Bulgaria",
            "Canada",
            "Croatia",
            "Czech Republic",
            "Denmark",
            "El Salvador",
            "Finland",
            "France",
            "Germany",
            "Greece",
            "Iceland",
            "India",
            "Ireland",
            "Isle of Man",
            "Israel",
            "Italy",
            "Jamaica",
            "Japan",
            "Jersey",
            "Lithuania",
            "Luxembourg",
            "Mexico",
            "Moldova",
            "Montenegro",
            "Namibia",
            "Netherlands",
            "New Zealand",
            "Norway",
            "Philippines",
            "Poland",
            "Portugal",
            "Romania",
            "Russia",
            "Singapore",
            "Slovenia",
            "South Africa",
            "South Korea",
            "Spain",
            "Sweden",
            "Switzerland",
            "Taiwan",
            "Tanzania",
            "Thailand",
            "Turkey",
            "United Kingdom",
            "Virgin Islands (U.S.)"
           ],
           "name": "",
           "type": "choropleth",
           "z": [
            3.566666666666667,
            2.675,
            2.7808323563892143,
            2.8780575539568347,
            3.2052840158520475,
            3.115322580645161,
            2.875,
            4.266666666666667,
            3.0110375827194407,
            2.7335243553008595,
            2.799809342230696,
            2.7945140470766896,
            2.9765822784810125,
            2.9187131050767414,
            3.062962962962963,
            2.9114489003880983,
            2.6666666666666665,
            2.835858585858586,
            2.675,
            4.4,
            5,
            3.1666666666666665,
            3.0266798418972334,
            4,
            3.0819727891156465,
            3.15,
            2.6076923076923078,
            3.1555555555555554,
            3.484,
            2.704946996466431,
            2.75,
            4.1,
            3.0369685767097967,
            2.8986486486486487,
            3.2321608040201006,
            2.831578947368421,
            2.9563169164882224,
            3.4,
            5,
            2.4714285714285715,
            1.85,
            4.166666666666667,
            3.094949494949495,
            2.4909090909090907,
            3.2541666666666664,
            2.927298988926336,
            2.9963141025641025,
            3.75,
            2.775,
            2.660377358490566,
            2.514814814814815,
            3.0634526618114677,
            4.466666666666667
           ]
          },
          {
           "coloraxis": "coloraxis",
           "geo": "geo",
           "hovertemplate": "location=%{location}<br>count=%{z}<extra></extra>",
           "locationmode": "USA-states",
           "locations": [
            "AL",
            "AK",
            "AZ",
            "AR",
            "CA",
            "CO",
            "CT",
            "DE",
            "FL",
            "GA",
            "ID",
            "IL",
            "IN",
            "IA",
            "KS",
            "KY",
            "LA",
            "ME",
            "MD",
            "MA",
            "MI",
            "MN",
            "MS",
            "MO",
            "MT",
            "NE",
            "NV",
            "NH",
            "NJ",
            "NM",
            "NY",
            "NC",
            "ND",
            "OH",
            "OK",
            "OR",
            "PA",
            "RI",
            "SC",
            "SD",
            "TN",
            "TX",
            "UT",
            "VT",
            "VA",
            "WA",
            "WV",
            "WI",
            "WY"
           ],
           "name": "",
           "type": "choropleth",
           "z": [
            2.9126146788990828,
            3.4841463414634144,
            3.2233866519580805,
            3.093877551020408,
            3.2845037008920097,
            3.2946843853820598,
            3.428375733855186,
            3.5904761904761906,
            3.131184246021041,
            3.4482341557813254,
            3.3420490257699558,
            3.130094622663282,
            3.172268907563025,
            3.1310407239819007,
            3.435840707964602,
            2.94875,
            2.9722408026755853,
            3.1127272727272723,
            3.393586425079091,
            3.2229007633587785,
            3.2580407303370786,
            3.237146571335717,
            3.5142857142857142,
            3.2835660151575587,
            3.057966101694915,
            2.9036065573770493,
            3.1985185185185183,
            3.246364133406233,
            3.3145335307806216,
            3.4625779625779627,
            3.247264631043257,
            3.1298868513460785,
            3.1948717948717946,
            3.2369600000000003,
            2.99025974025974,
            3.393,
            3.182298398426524,
            3.572222222222222,
            2.9972477064220184,
            3.279725085910653,
            3.2619393421614693,
            3.138608654076022,
            3.3641860465116276,
            3.285185185185185,
            3.2124539744422784,
            3.2321459008010907,
            3.022222222222222,
            3.137788259958071,
            3.4
           ]
          }
         ],
         "name": "2004"
        },
        {
         "data": [
          {
           "coloraxis": "coloraxis",
           "geo": "geo",
           "hovertemplate": "location=%{location}<br>count=%{z}<extra></extra>",
           "locationmode": "country names",
           "locations": [
            "Albania",
            "Andorra",
            "Argentina",
            "Australia",
            "Austria",
            "Belgium",
            "Bermuda",
            "Bolivia",
            "Bosnia and Herzegovina",
            "Brazil",
            "Bulgaria",
            "Canada",
            "Chile",
            "China",
            "Colombia",
            "Croatia",
            "Cyprus",
            "Czech Republic",
            "Denmark",
            "Dominican Republic",
            "El Salvador",
            "Estonia",
            "Finland",
            "France",
            "Germany",
            "Ghana",
            "Greece",
            "Hong Kong",
            "Hungary",
            "Iceland",
            "Ireland",
            "Israel",
            "Italy",
            "Japan",
            "Latvia",
            "Lithuania",
            "Luxembourg",
            "Mauritius",
            "Mexico",
            "Micronesia",
            "Moldova",
            "Montenegro",
            "Netherlands",
            "New Zealand",
            "Norway",
            "Panama",
            "Philippines",
            "Poland",
            "Portugal",
            "Romania",
            "Singapore",
            "South Africa",
            "South Korea",
            "Spain",
            "Sweden",
            "Switzerland",
            "Taiwan",
            "Thailand",
            "Turkey",
            "Ukraine",
            "United Kingdom",
            "Vanuatu",
            "Vatican City",
            "Virgin Islands (U.S.)"
           ],
           "name": "",
           "type": "choropleth",
           "z": [
            2.433333333333333,
            3.6,
            2.703125,
            2.8630426125049784,
            2.956022408963585,
            3.251469237832874,
            4.7,
            2.861878453038674,
            4.575,
            2.8533333333333335,
            3.1,
            3.0330888516345347,
            2.9703125,
            3.44,
            3.66,
            2.7126344086021508,
            1.9,
            2.7030612244897956,
            2.8230939876856214,
            4.9,
            2.3959731543624163,
            4.15,
            2.8543697033898305,
            3.2111111111111112,
            2.9184498736310025,
            4.550000000000001,
            2.25,
            3.1,
            3.35,
            2.888666666666667,
            3.590909090909091,
            3.3600000000000003,
            2.9209415584415583,
            3.1796934865900384,
            4.1,
            2.6999999999999997,
            3.1777777777777776,
            5,
            3.779166666666667,
            2,
            2.831914893617021,
            3.6666666666666665,
            3.0616331821127676,
            3.0259328358208957,
            3.1607938044530495,
            3.177142857142857,
            0.825,
            3.020642201834862,
            2.887704918032787,
            4.7,
            2.623076923076923,
            3.3473684210526318,
            3.06625,
            3.094080996884735,
            3.0611784726653903,
            3.120763723150358,
            2.636179775280899,
            2.677450980392157,
            2.591666666666667,
            4.6,
            3.0940316686967115,
            0.5,
            4.6,
            3.2
           ]
          },
          {
           "coloraxis": "coloraxis",
           "geo": "geo",
           "hovertemplate": "location=%{location}<br>count=%{z}<extra></extra>",
           "locationmode": "USA-states",
           "locations": [
            "AL",
            "AK",
            "AZ",
            "AR",
            "CA",
            "CO",
            "CT",
            "DE",
            "FL",
            "GA",
            "HI",
            "ID",
            "IL",
            "IN",
            "IA",
            "KS",
            "KY",
            "LA",
            "ME",
            "MD",
            "MA",
            "MI",
            "MN",
            "MS",
            "MO",
            "MT",
            "NE",
            "NV",
            "NH",
            "NJ",
            "NM",
            "NY",
            "NC",
            "ND",
            "OH",
            "OK",
            "OR",
            "PA",
            "RI",
            "SC",
            "SD",
            "TN",
            "TX",
            "UT",
            "VT",
            "VA",
            "WA",
            "WV",
            "WI",
            "WY"
           ],
           "name": "",
           "type": "choropleth",
           "z": [
            3.038050930460333,
            3.62375,
            2.9401673640167365,
            3.300689655172414,
            3.257108849121655,
            3.1848040597688185,
            3.432177894048398,
            3.4276315789473686,
            3.1116573033707864,
            3.4317091177556294,
            3.6636363636363636,
            3.242296918767507,
            3.0829530201342283,
            3.215942430113479,
            3.0929802955665027,
            3.292953929539295,
            3.0676288659793816,
            3.1034313725490197,
            3.2181640625,
            3.3765473300970874,
            3.200278440731901,
            3.2663561295786576,
            3.182716774319828,
            3.220976491862568,
            3.2775885253249664,
            3.071169686985173,
            3.154897739504844,
            3.29242700729927,
            3.1654331370899915,
            3.379735830128741,
            3.3293827160493827,
            3.2544110479285138,
            3.1884093711467325,
            3.080808080808081,
            3.2327379889265937,
            3.2843750000000003,
            3.376923076923077,
            3.225323656335818,
            3.2285714285714286,
            3.309322033898305,
            3.3358490566037737,
            3.2456039441248974,
            3.2002293173399186,
            3.170103092783505,
            3.1897133220910625,
            3.257587373167982,
            3.2506635993629445,
            3.207142857142857,
            3.2227800307649277,
            3.7
           ]
          }
         ],
         "name": "2005"
        },
        {
         "data": [
          {
           "coloraxis": "coloraxis",
           "geo": "geo",
           "hovertemplate": "location=%{location}<br>count=%{z}<extra></extra>",
           "locationmode": "country names",
           "locations": [
            "Andorra",
            "Australia",
            "Austria",
            "Azerbaijan",
            "Bahamas",
            "Belgium",
            "Bolivia",
            "Bosnia and Herzegovina",
            "Botswana",
            "Brazil",
            "Canada",
            "Chile",
            "China",
            "Colombia",
            "Croatia",
            "Czech Republic",
            "Denmark",
            "East Timor",
            "El Salvador",
            "Faroe Islands",
            "Finland",
            "France",
            "Germany",
            "Ghana",
            "Greece",
            "Guam",
            "Hong Kong",
            "Hungary",
            "Iceland",
            "India",
            "Ireland",
            "Israel",
            "Italy",
            "Japan",
            "Jersey",
            "Kenya",
            "Latvia",
            "Liechtenstein",
            "Luxembourg",
            "Marshall Islands",
            "Mexico",
            "Moldova",
            "Netherlands",
            "New Zealand",
            "Nigeria",
            "Norway",
            "Panama",
            "Philippines",
            "Poland",
            "Portugal",
            "Puerto Rico",
            "Romania",
            "Russia",
            "Serbia",
            "Singapore",
            "Slovak Republic",
            "South Africa",
            "South Korea",
            "Spain",
            "Sweden",
            "Switzerland",
            "Taiwan",
            "Thailand",
            "Togo",
            "Turkey",
            "Ukraine",
            "United Kingdom",
            "Uzbekistan",
            "Virgin Islands (British)",
            "Zambia"
           ],
           "name": "",
           "type": "choropleth",
           "z": [
            2.9434782608695653,
            2.881089067116927,
            2.979299363057325,
            3.85,
            0.5,
            3.3229040622299046,
            2.948529411764706,
            2.95,
            3.6799999999999997,
            3.09125,
            3.0577337819185644,
            2.8657794676806083,
            3.855555555555555,
            2.5999999999999996,
            2.803716216216216,
            2.742948717948718,
            2.8560323497913513,
            3.266666666666667,
            2.7865217391304347,
            2.3244755244755244,
            2.8135003325205057,
            3.173809523809524,
            2.9620222929936304,
            1,
            3.105714285714286,
            2.7928571428571427,
            1.6285714285714286,
            3.3,
            3.280722891566265,
            3.033333333333333,
            3.6370370370370373,
            3.4444444444444446,
            3.097554347826087,
            3.2224999999999997,
            4,
            1.9666666666666668,
            3.789473684210526,
            2.7,
            3.085714285714286,
            4.4,
            3.229546827794562,
            2.625,
            3.0207388204795853,
            2.945300950369588,
            4.166666666666667,
            2.881742806047797,
            2.7745762711864406,
            0.6,
            2.928536585365854,
            3.2537974683544304,
            3.590909090909091,
            5,
            2.75,
            3.56,
            2.433333333333333,
            3.8,
            2.947222222222222,
            2.598850574712644,
            3.44811320754717,
            3.0111558441558444,
            2.923339317773788,
            2.818032786885246,
            2.810215053763441,
            3.4000000000000004,
            2.7476190476190476,
            3.0749999999999997,
            3.1301213865598796,
            4.9,
            5,
            5
           ]
          },
          {
           "coloraxis": "coloraxis",
           "geo": "geo",
           "hovertemplate": "location=%{location}<br>count=%{z}<extra></extra>",
           "locationmode": "USA-states",
           "locations": [
            "AL",
            "AK",
            "AZ",
            "AR",
            "CA",
            "CO",
            "CT",
            "DE",
            "FL",
            "GA",
            "HI",
            "ID",
            "IL",
            "IN",
            "IA",
            "KS",
            "KY",
            "LA",
            "ME",
            "MD",
            "MA",
            "MI",
            "MN",
            "MS",
            "MO",
            "MT",
            "NE",
            "NV",
            "NH",
            "NJ",
            "NM",
            "NY",
            "NC",
            "ND",
            "OH",
            "OK",
            "OR",
            "PA",
            "RI",
            "SC",
            "SD",
            "TN",
            "TX",
            "UT",
            "VT",
            "VA",
            "WA",
            "WV",
            "WI",
            "WY"
           ],
           "name": "",
           "type": "choropleth",
           "z": [
            3.279516129032258,
            2.8944827586206894,
            3.328461806766655,
            3.4655378486055777,
            3.3159552696974126,
            3.233375183092697,
            3.3520962732919255,
            3.41768851303735,
            3.194149203688181,
            3.37414565166156,
            4.0200000000000005,
            3.242212389380531,
            3.1533720355731227,
            3.270984097718368,
            3.1523369286081153,
            3.198510882016037,
            3.332246376811594,
            3.111111111111111,
            3.317478991596639,
            3.260561016542795,
            3.334489966555184,
            3.2731239092495636,
            3.1919392829102327,
            2.9099537037037035,
            3.212812248186946,
            3.3002247191011236,
            3.005745212323064,
            3.1382978723404253,
            3.199229583975347,
            3.2741047693510557,
            3.172639225181598,
            3.2351414748570595,
            3.2700024648755237,
            2.954263565891473,
            3.328683440608543,
            3.080182926829268,
            3.393542260208927,
            3.2318031756013204,
            3.0183035714285715,
            3.4820728291316523,
            2.6666666666666665,
            3.253163808397398,
            3.200267677894267,
            3.556291390728477,
            3.3310734463276837,
            3.2591484464902187,
            3.3353836709637816,
            3.387719298245614,
            3.302425736152549,
            3.490909090909091
           ]
          }
         ],
         "name": "2006"
        },
        {
         "data": [
          {
           "coloraxis": "coloraxis",
           "geo": "geo",
           "hovertemplate": "location=%{location}<br>count=%{z}<extra></extra>",
           "locationmode": "country names",
           "locations": [
            "Albania",
            "Andorra",
            "Argentina",
            "Ascension Island",
            "Australia",
            "Austria",
            "Belgium",
            "Bolivia",
            "Bosnia and Herzegovina",
            "Brazil",
            "Bulgaria",
            "Canada",
            "Cayman Islands",
            "Chile",
            "China",
            "Costa Rica",
            "Croatia",
            "Cyprus",
            "Czech Republic",
            "Denmark",
            "Ecuador",
            "El Salvador",
            "Estonia",
            "Faroe Islands",
            "Finland",
            "France",
            "Germany",
            "Greece",
            "Guam",
            "Guatemala",
            "Hungary",
            "Iceland",
            "Indonesia",
            "Ireland",
            "Israel",
            "Italy",
            "Japan",
            "Jersey",
            "Kenya",
            "Lithuania",
            "Luxembourg",
            "Macedonia",
            "Marshall Islands",
            "Mexico",
            "Moldova",
            "Monaco",
            "Mozambique",
            "Netherlands",
            "New Zealand",
            "Norway",
            "Pakistan",
            "Panama",
            "Philippines",
            "Poland",
            "Portugal",
            "Romania",
            "Russia",
            "Serbia",
            "Singapore",
            "Slovenia",
            "South Africa",
            "South Korea",
            "Spain",
            "Sweden",
            "Switzerland",
            "Syria",
            "Taiwan",
            "Thailand",
            "Trinidad and Tobago",
            "Tunisia",
            "Turkey",
            "Ukraine",
            "United Kingdom",
            "Uruguay",
            "Uzbekistan",
            "Vanuatu",
            "Venezuela",
            "Vietnam"
           ],
           "name": "",
           "type": "choropleth",
           "z": [
            1.3,
            3.457142857142857,
            2.4625,
            3.866666666666667,
            2.791586248492159,
            3.110077519379845,
            3.3005013270421704,
            2.860431654676259,
            3.425,
            3.113733468972533,
            2.822222222222222,
            3.1035613905325445,
            3.4642857142857144,
            2.893003731343284,
            3.1526315789473682,
            2.8600000000000003,
            2.6773148148148147,
            2.542857142857143,
            2.838267875125881,
            2.9287778244435114,
            1.5375,
            2.5404129793510326,
            2.9990384615384613,
            2.834735139506672,
            2.9159472422062347,
            3.2972222222222225,
            3.014326602003498,
            2,
            3.118918918918919,
            4.733333333333333,
            3.163793103448276,
            3.414457831325301,
            3.19,
            2.922222222222222,
            3.0579288025889966,
            2.9658536585365853,
            3.2226027397260273,
            3.7666666666666666,
            1.8333333333333333,
            2.9193548387096775,
            2.996932515337423,
            5,
            2.2,
            3.165068493150685,
            2.414285714285714,
            3,
            2.142857142857143,
            3.1048444671086184,
            2.9007348029392115,
            2.8940063931806073,
            3.1,
            3.1329268292682926,
            3,
            2.8723122238586156,
            3.435686274509804,
            3.725,
            3.716666666666667,
            4.35,
            3.4,
            3.4875,
            3.6333333333333333,
            2.9222222222222225,
            3.1810989010989013,
            2.9685879500093266,
            3.041577540106952,
            3.2,
            2.49182156133829,
            2.980952380952381,
            2.7,
            3.4,
            3.02109375,
            2.4833333333333334,
            3.09835769332979,
            3.4200000000000004,
            3.5999999999999996,
            5,
            2.482857142857143,
            2.95
           ]
          },
          {
           "coloraxis": "coloraxis",
           "geo": "geo",
           "hovertemplate": "location=%{location}<br>count=%{z}<extra></extra>",
           "locationmode": "USA-states",
           "locations": [
            "AL",
            "AK",
            "AZ",
            "AR",
            "CA",
            "CO",
            "CT",
            "DE",
            "FL",
            "GA",
            "HI",
            "ID",
            "IL",
            "IN",
            "IA",
            "KS",
            "KY",
            "LA",
            "ME",
            "MD",
            "MA",
            "MI",
            "MN",
            "MS",
            "MO",
            "MT",
            "NE",
            "NV",
            "NH",
            "NJ",
            "NM",
            "NY",
            "NC",
            "ND",
            "OH",
            "OK",
            "OR",
            "PA",
            "RI",
            "SC",
            "SD",
            "TN",
            "TX",
            "UT",
            "VT",
            "VA",
            "WA",
            "WV",
            "WI",
            "WY"
           ],
           "name": "",
           "type": "choropleth",
           "z": [
            3.3785650623885917,
            3.092866941015089,
            3.352243670092755,
            3.2860344137655058,
            3.3470465601111887,
            3.197136331693605,
            3.350969666832422,
            3.417440119760479,
            3.270187454938717,
            3.159694426511728,
            3.1760869565217393,
            3.225359477124183,
            3.204665083135392,
            3.2784651072878406,
            3.2384873145045474,
            3.371156735102654,
            3.2734161490683227,
            3.3029520295202954,
            3.416592920353982,
            3.3827501749475157,
            3.408344594594595,
            3.1857864674868193,
            3.3352463824794683,
            3.114915254237288,
            3.2938442211055277,
            3.1656660412757973,
            3.2351157222665603,
            3.2768595041322315,
            3.210108604845447,
            3.288822565543071,
            3.1748792270531405,
            3.2868910616942113,
            3.3731685257763036,
            2.920689655172414,
            3.3498214936247726,
            3.0228545618789524,
            3.401083276912661,
            3.265035684044998,
            3.276889848812095,
            3.106984667802385,
            3.063636363636364,
            3.317693351424695,
            3.168828361435365,
            3.3611842105263157,
            3.4981818181818185,
            3.174176372712146,
            3.2815294245621667,
            2.957692307692308,
            3.2794825120270445,
            3.1238805970149257
           ]
          }
         ],
         "name": "2007"
        },
        {
         "data": [
          {
           "coloraxis": "coloraxis",
           "geo": "geo",
           "hovertemplate": "location=%{location}<br>count=%{z}<extra></extra>",
           "locationmode": "country names",
           "locations": [
            "American Samoa",
            "Andorra",
            "Argentina",
            "Ascension Island",
            "Australia",
            "Austria",
            "Azerbaijan",
            "Belgium",
            "Bolivia",
            "Bosnia and Herzegovina",
            "Botswana",
            "Brazil",
            "Bulgaria",
            "Burundi",
            "Cambodia",
            "Canada",
            "Chile",
            "China",
            "Colombia",
            "Costa Rica",
            "Croatia",
            "Cyprus",
            "Czech Republic",
            "Denmark",
            "Egypt",
            "El Salvador",
            "Estonia",
            "Faroe Islands",
            "Finland",
            "France",
            "Germany",
            "Greece",
            "Guam",
            "Guatemala",
            "Hungary",
            "Iceland",
            "India",
            "Indonesia",
            "Ireland",
            "Isle of Man",
            "Israel",
            "Italy",
            "Japan",
            "Jersey",
            "Latvia",
            "Lithuania",
            "Luxembourg",
            "Malaysia",
            "Mexico",
            "Mozambique",
            "Namibia",
            "Netherlands",
            "New Zealand",
            "Nicaragua",
            "Norway",
            "Panama",
            "Papua New Guinea",
            "Peru",
            "Philippines",
            "Poland",
            "Portugal",
            "Puerto Rico",
            "Romania",
            "Russia",
            "Serbia",
            "Singapore",
            "Slovak Republic",
            "Slovenia",
            "South Africa",
            "South Korea",
            "Spain",
            "Sweden",
            "Switzerland",
            "Taiwan",
            "Thailand",
            "Tunisia",
            "Turkey",
            "United Kingdom",
            "Uruguay",
            "Vatican City",
            "Venezuela",
            "Virgin Islands (U.S.)"
           ],
           "name": "",
           "type": "choropleth",
           "z": [
            5,
            3.5583333333333336,
            3.34,
            3.269122807017544,
            2.9285524920466597,
            3.0028776978417264,
            3,
            3.244385432473445,
            2.5090909090909093,
            4,
            3.9,
            2.8092402464065707,
            4.9,
            4.2,
            3.2470588235294118,
            3.160356907352456,
            3.004418604651163,
            3.1295081967213116,
            2.4,
            4.233333333333333,
            2.6952316991269307,
            2.904347826086956,
            2.9448844884488445,
            2.956942243830443,
            5,
            2.6069164265129685,
            2.847898599066044,
            2.871955958549223,
            2.9923117765742804,
            3.1013698630136988,
            3.0160589604344454,
            4.433333333333334,
            2.8363636363636364,
            0.7,
            3.0865905848787443,
            3.193939393939394,
            4.0625,
            3.3000000000000003,
            3.062227324913892,
            2.6185185185185187,
            2.9985751295336787,
            3.289544895448955,
            3.354988662131519,
            3.6142857142857143,
            4.95,
            2.5526315789473686,
            3.134703196347032,
            3.9,
            2.8910085054678007,
            3.0028571428571427,
            2.5,
            3.093556790552275,
            2.9775396825396823,
            5,
            2.971329858164626,
            2.858181818181818,
            5,
            3.55,
            1.75,
            2.6644042232277525,
            2.42,
            3.5,
            3.6999999999999997,
            4.15,
            3.7294117647058824,
            4,
            3.7,
            2.9,
            3.382142857142857,
            2.65,
            2.9006319115323853,
            3.106153846153846,
            2.8860303413400756,
            2.843298969072165,
            3.115,
            4.533333333333334,
            2.6956521739130435,
            3.0977537103890893,
            2.796078431372549,
            5,
            2.6641025641025644,
            2.966666666666667
           ]
          },
          {
           "coloraxis": "coloraxis",
           "geo": "geo",
           "hovertemplate": "location=%{location}<br>count=%{z}<extra></extra>",
           "locationmode": "USA-states",
           "locations": [
            "AL",
            "AK",
            "AZ",
            "AR",
            "CA",
            "CO",
            "CT",
            "DE",
            "FL",
            "GA",
            "HI",
            "ID",
            "IL",
            "IN",
            "IA",
            "KS",
            "KY",
            "LA",
            "ME",
            "MD",
            "MA",
            "MI",
            "MN",
            "MS",
            "MO",
            "MT",
            "NE",
            "NV",
            "NH",
            "NJ",
            "NM",
            "NY",
            "NC",
            "ND",
            "OH",
            "OK",
            "OR",
            "PA",
            "RI",
            "SC",
            "SD",
            "TN",
            "TX",
            "UT",
            "VT",
            "VA",
            "WA",
            "WV",
            "WI",
            "WY"
           ],
           "name": "",
           "type": "choropleth",
           "z": [
            3.189165186500888,
            3.214236111111111,
            3.354035231462515,
            3.446265938069217,
            3.417675421403371,
            3.2967520389183003,
            3.2243535988819008,
            3.348992030004688,
            3.272870533894851,
            3.2890557939914165,
            3.2401174168297455,
            3.2779806046776954,
            3.2533380681818183,
            3.234557823129252,
            3.297913234486546,
            3.3356582388840454,
            3.3659989457037427,
            3.405515587529976,
            3.2473856209150327,
            3.4055575411007863,
            3.4133428981348635,
            3.340984022318032,
            3.4255114616711855,
            3.353517587939699,
            3.2889473684210526,
            3.338931297709924,
            3.1297927461139894,
            3.119450317124736,
            3.375571428571429,
            3.2763954189270645,
            3.301219512195122,
            3.285115812358893,
            3.3565445026178007,
            2.9114285714285715,
            3.3602450005235056,
            3.1771367521367524,
            3.3551849405548215,
            3.2664143076585472,
            3.524561403508772,
            3.1451515151515155,
            2.9507246376811596,
            3.369416360294118,
            3.2388963435088893,
            3.307103825136612,
            3.2924295774647887,
            3.23773373223635,
            3.360700542673902,
            2.980985915492958,
            3.213403390502627,
            2.592682926829268
           ]
          }
         ],
         "name": "2008"
        },
        {
         "data": [
          {
           "coloraxis": "coloraxis",
           "geo": "geo",
           "hovertemplate": "location=%{location}<br>count=%{z}<extra></extra>",
           "locationmode": "country names",
           "locations": [
            "Afghanistan",
            "Albania",
            "Andorra",
            "Argentina",
            "Ascension Island",
            "Australia",
            "Austria",
            "Belgium",
            "Bosnia and Herzegovina",
            "Brazil",
            "Bulgaria",
            "Cambodia",
            "Canada",
            "Chile",
            "Colombia",
            "Croatia",
            "Cyprus",
            "Czech Republic",
            "Denmark",
            "El Salvador",
            "Estonia",
            "Faroe Islands",
            "Finland",
            "France",
            "Germany",
            "Greece",
            "Guam",
            "Haiti",
            "Hong Kong",
            "Hungary",
            "Iceland",
            "India",
            "Ireland",
            "Israel",
            "Italy",
            "Japan",
            "Jersey",
            "Laos",
            "Lebanon",
            "Lithuania",
            "Luxembourg",
            "Macedonia",
            "Malta",
            "Mexico",
            "Moldova",
            "Montenegro",
            "Netherlands",
            "New Zealand",
            "Norway",
            "Pakistan",
            "Panama",
            "Peru",
            "Philippines",
            "Poland",
            "Portugal",
            "Puerto Rico",
            "Russia",
            "Serbia",
            "Singapore",
            "Slovak Republic",
            "Slovenia",
            "South Africa",
            "Spain",
            "Sweden",
            "Switzerland",
            "Taiwan",
            "Thailand",
            "Turkey",
            "Ukraine",
            "United Kingdom",
            "Uruguay",
            "Venezuela",
            "Virgin Islands (U.S.)",
            "Zambia"
           ],
           "name": "",
           "type": "choropleth",
           "z": [
            3.4071428571428575,
            2.6,
            3.6999999999999997,
            4.075,
            3.243809523809524,
            3.1048902712977364,
            3.142297650130548,
            3.245108398615413,
            2.1666666666666665,
            2.89070796460177,
            2.3499999999999996,
            3.1458128078817733,
            3.1916464972435126,
            3.0989999999999998,
            4.3,
            2.5932460372157133,
            3.9272727272727277,
            2.8680555555555554,
            2.965236206274793,
            2.94702842377261,
            2.7452266152362585,
            2.9017241379310343,
            2.975234598123215,
            3.271527777777778,
            3.0895035460992912,
            3.1005555555555557,
            3.3760000000000003,
            5,
            3.6,
            3.062576687116564,
            3.1642857142857146,
            4.0625,
            3.227425044091711,
            3.0044642857142856,
            3.297921701304978,
            3.327838357921745,
            4.4,
            3.4,
            4.010526315789474,
            3.466666666666667,
            3.7664335664335664,
            4.6,
            3.0666666666666664,
            3.08474025974026,
            2.6506493506493505,
            3.233333333333333,
            3.1334548467274237,
            3.204984802431611,
            2.934832087470713,
            4.133333333333334,
            3.3736842105263154,
            2.9,
            2.6,
            2.862124248496994,
            2.528985507246377,
            3.5833333333333335,
            4.1,
            4.449999999999999,
            2.410344827586207,
            3.1954545454545453,
            1.9666666666666668,
            2.9846153846153847,
            3.009333333333333,
            3.1497947161727957,
            3.0867782909930717,
            2.8583333333333334,
            3.0390070921985815,
            2.729113924050633,
            4.9,
            3.1577759001079664,
            3.5666666666666664,
            2.8696900114810564,
            3.7722222222222226,
            3.9
           ]
          },
          {
           "coloraxis": "coloraxis",
           "geo": "geo",
           "hovertemplate": "location=%{location}<br>count=%{z}<extra></extra>",
           "locationmode": "USA-states",
           "locations": [
            "AL",
            "AK",
            "AZ",
            "AR",
            "CA",
            "CO",
            "CT",
            "DE",
            "FL",
            "GA",
            "HI",
            "ID",
            "IL",
            "IN",
            "IA",
            "KS",
            "KY",
            "LA",
            "ME",
            "MD",
            "MA",
            "MI",
            "MN",
            "MS",
            "MO",
            "MT",
            "NE",
            "NV",
            "NH",
            "NJ",
            "NM",
            "NY",
            "NC",
            "ND",
            "OH",
            "OK",
            "OR",
            "PA",
            "RI",
            "SC",
            "SD",
            "TN",
            "TX",
            "UT",
            "VT",
            "VA",
            "WA",
            "WV",
            "WI",
            "WY"
           ],
           "name": "",
           "type": "choropleth",
           "z": [
            3.2681404421326397,
            3.5037458193979933,
            3.3632605531295487,
            3.5591397849462365,
            3.465693518592884,
            3.357847885848933,
            3.370461405778353,
            3.4007601935038005,
            3.37743223723341,
            3.219731659281142,
            3.445840707964602,
            3.275974899148364,
            3.3138605100152843,
            3.3484244670991656,
            3.2764588859416444,
            3.3887608069164266,
            3.4001341381623074,
            3.419575699132112,
            3.6120412844036696,
            3.3693688691467703,
            3.317597126999673,
            3.3177545691906003,
            3.381853281853282,
            3.256611570247934,
            3.240923613128086,
            3.349659863945578,
            3.2987364620938626,
            3.3742255266418835,
            3.4914944356120827,
            3.2801346472826616,
            3.0922928709055877,
            3.3209827572249653,
            3.3819881053525913,
            2.9696078431372546,
            3.3410248510987883,
            3.293291139240506,
            3.3768298673653185,
            3.339258885525283,
            3.486067415730337,
            3.345564516129032,
            3.1566666666666667,
            3.3198062015503877,
            3.2253533971728228,
            3.508717948717949,
            3.3471400394477318,
            3.2301883754628884,
            3.404824316787507,
            3.130892448512586,
            3.2926271070302864,
            3.0903225806451613
           ]
          }
         ],
         "name": "2009"
        },
        {
         "data": [
          {
           "coloraxis": "coloraxis",
           "geo": "geo",
           "hovertemplate": "location=%{location}<br>count=%{z}<extra></extra>",
           "locationmode": "country names",
           "locations": [
            "Afghanistan",
            "Andorra",
            "Argentina",
            "Australia",
            "Austria",
            "Bangladesh",
            "Belgium",
            "Bermuda",
            "Bolivia",
            "Brazil",
            "Burkina Faso",
            "Cambodia",
            "Canada",
            "Chile",
            "China",
            "Colombia",
            "Croatia",
            "Cuba",
            "Cyprus",
            "Czech Republic",
            "Denmark",
            "Ecuador",
            "El Salvador",
            "Estonia",
            "Faroe Islands",
            "Finland",
            "France",
            "Germany",
            "Greece",
            "Guam",
            "Hawaii",
            "Hong Kong",
            "Hungary",
            "Iceland",
            "India",
            "Ireland",
            "Israel",
            "Italy",
            "Japan",
            "Latvia",
            "Lebanon",
            "Luxembourg",
            "Macedonia",
            "Malaysia",
            "Mexico",
            "Monaco",
            "Netherlands",
            "New Zealand",
            "Norway",
            "Poland",
            "Portugal",
            "Puerto Rico",
            "Romania",
            "Russia",
            "Serbia",
            "Singapore",
            "Slovak Republic",
            "Slovenia",
            "South Africa",
            "Spain",
            "Sweden",
            "Switzerland",
            "Taiwan",
            "Thailand",
            "Turkey",
            "Uganda",
            "United Kingdom",
            "Uruguay",
            "Venezuela",
            "Virgin Islands (U.S.)"
           ],
           "name": "",
           "type": "choropleth",
           "z": [
            3.9,
            3.975,
            3.25,
            3.164796163069544,
            3.1686792452830193,
            3.45,
            3.3045053203531807,
            2.690677966101695,
            4.800000000000001,
            3.264663023679417,
            2.45,
            3.2530973451327436,
            3.226890813845996,
            3.125,
            3.6999999999999997,
            4.6,
            2.6881735479356195,
            2.3,
            3.8499999999999996,
            3.1682505399568037,
            3.007141037074786,
            2.04,
            2.541747572815534,
            2.8132147395171536,
            3.020283018867924,
            3.0287065637065638,
            3.0762711864406778,
            3.122319886987914,
            3.1497041420118346,
            2.8545454545454545,
            4.1,
            2.35,
            3.190983606557377,
            3.5785714285714287,
            3.9,
            3.308322663252241,
            3.0419056429232194,
            3.3012567324955118,
            3.3158199356913185,
            4.65,
            2.75,
            3.3421052631578947,
            4.6,
            1.45,
            3.133892617449664,
            3.225,
            3.1982782057091077,
            3.29143897996357,
            3.004708928742687,
            3.1414122137404576,
            2.4486486486486485,
            4.3125,
            2,
            2.9826086956521736,
            5,
            3.3600000000000003,
            2.7012376237623763,
            3.313953488372093,
            2.8339999999999996,
            3.0681818181818183,
            3.196454203691046,
            3.1289634146341463,
            2.9761904761904763,
            3.08,
            2.8621621621621625,
            0.5,
            3.222573393876725,
            3.05,
            3.0219143576826197,
            3.56
           ]
          },
          {
           "coloraxis": "coloraxis",
           "geo": "geo",
           "hovertemplate": "location=%{location}<br>count=%{z}<extra></extra>",
           "locationmode": "USA-states",
           "locations": [
            "AL",
            "AK",
            "AZ",
            "AR",
            "CA",
            "CO",
            "CT",
            "DE",
            "FL",
            "GA",
            "HI",
            "ID",
            "IL",
            "IN",
            "IA",
            "KS",
            "KY",
            "LA",
            "ME",
            "MD",
            "MA",
            "MI",
            "MN",
            "MS",
            "MO",
            "MT",
            "NE",
            "NV",
            "NH",
            "NJ",
            "NM",
            "NY",
            "NC",
            "ND",
            "OH",
            "OK",
            "OR",
            "PA",
            "RI",
            "SC",
            "SD",
            "TN",
            "TX",
            "UT",
            "VT",
            "VA",
            "WA",
            "WV",
            "WI",
            "WY"
           ],
           "name": "",
           "type": "choropleth",
           "z": [
            3.3558189655172415,
            3.4844532279314886,
            3.4374567316451086,
            3.0927152317880795,
            3.4618329875112557,
            3.375011195700851,
            3.4158023184868824,
            3.50718462823726,
            3.3542243645924623,
            3.4336672629695886,
            3.3864485981308414,
            3.296521739130435,
            3.4043386070787798,
            3.2843087362171333,
            3.404858803986711,
            3.259551325628824,
            3.4670498084291186,
            3.375911251980982,
            3.5514038876889846,
            3.372103230337079,
            3.408392390898918,
            3.3798491830749895,
            3.432238113645149,
            3.255147058823529,
            3.3580836351662824,
            3.1227906976744184,
            3.28236092265943,
            3.3845289541918757,
            3.4329931972789116,
            3.4183994016454746,
            3.32032667876588,
            3.35945706698141,
            3.495436631404273,
            3.22421875,
            3.4417344173441733,
            3.2839524517087666,
            3.433326934152429,
            3.427122626532038,
            3.549444444444444,
            3.4800289435600575,
            2.9,
            3.3722351121423046,
            3.2448583762048373,
            3.370828331332533,
            3.554685494223363,
            3.3178723404255317,
            3.4660651920838186,
            3.002985074626866,
            3.3997215592680985,
            2.489795918367347
           ]
          }
         ],
         "name": "2010"
        },
        {
         "data": [
          {
           "coloraxis": "coloraxis",
           "geo": "geo",
           "hovertemplate": "location=%{location}<br>count=%{z}<extra></extra>",
           "locationmode": "country names",
           "locations": [
            "Andorra",
            "Argentina",
            "Australia",
            "Austria",
            "Belarus",
            "Belgium",
            "Bermuda",
            "Bosnia and Herzegovina",
            "Brazil",
            "Cambodia",
            "Canada",
            "Chile",
            "China",
            "Colombia",
            "Costa Rica",
            "Croatia",
            "Cyprus",
            "Czech Republic",
            "Denmark",
            "Dominican Republic",
            "El Salvador",
            "Estonia",
            "Faroe Islands",
            "Finland",
            "France",
            "Germany",
            "Greece",
            "Guam",
            "Hungary",
            "Iceland",
            "India",
            "Ireland",
            "Isle of Man",
            "Israel",
            "Italy",
            "Japan",
            "Kenya",
            "Latvia",
            "Lebanon",
            "Lithuania",
            "Luxembourg",
            "Malaysia",
            "Malta",
            "Mexico",
            "Moldova",
            "Monaco",
            "Nepal",
            "Netherlands",
            "New Zealand",
            "North Korea",
            "Norway",
            "Palestine",
            "Panama",
            "Peru",
            "Philippines",
            "Poland",
            "Portugal",
            "Puerto Rico",
            "Romania",
            "Russia",
            "Saudi Arabia",
            "Serbia",
            "Singapore",
            "Slovak Republic",
            "Slovenia",
            "South Africa",
            "South Korea",
            "Spain",
            "Sweden",
            "Switzerland",
            "Taiwan",
            "Thailand",
            "Turkey",
            "Ukraine",
            "United Kingdom",
            "Uruguay",
            "Venezuela",
            "Vietnam"
           ],
           "name": "",
           "type": "choropleth",
           "z": [
            3.8166666666666664,
            3.3899999999999997,
            3.2195267279536943,
            3.211764705882353,
            3.3733333333333335,
            3.281824702338258,
            3.028313253012048,
            3.96,
            3.2400552486187846,
            3.3376623376623376,
            3.2552651170485563,
            3.1847826086956523,
            3.2600000000000002,
            1,
            4.625,
            2.6947897049591965,
            3.5658227848101265,
            3.2601528384279477,
            3.0587838637170233,
            2.807857142857143,
            2.5144144144144147,
            2.886407249466951,
            2.9927962085308057,
            3.0964495840941364,
            3.1079851439182917,
            2.938925574356858,
            3.4320203303684877,
            3.382608695652174,
            3.1472208312468704,
            3.435714285714286,
            3.375,
            3.3172520661157026,
            2.4,
            2.9737048665620094,
            3.374201680672269,
            3.359766963673749,
            2,
            3.7399999999999998,
            2.45,
            4.4,
            3.1588235294117646,
            3.05,
            3.033333333333333,
            3.218897637795276,
            2.805434782608696,
            1.6,
            2.8333333333333335,
            3.221958556149733,
            3.26969964664311,
            3.041691842900302,
            2.983226902571914,
            2.7800000000000002,
            3.3,
            2.9,
            4.6000000000000005,
            3.0824768323504634,
            2.7739436619718307,
            3.6333333333333333,
            3.5384615384615383,
            3.4857142857142853,
            2.3916666666666666,
            3.920512820512821,
            2.98,
            3.0026997840172784,
            3.183333333333333,
            2.9940613026819927,
            2.8,
            3.1675850891410047,
            3.2055622533976327,
            3.274391805377721,
            2.7842857142857143,
            3.093395133256083,
            2.723469387755102,
            2.6,
            3.2441256004835686,
            2.2244444444444444,
            3.2301801801801804,
            2.2
           ]
          },
          {
           "coloraxis": "coloraxis",
           "geo": "geo",
           "hovertemplate": "location=%{location}<br>count=%{z}<extra></extra>",
           "locationmode": "USA-states",
           "locations": [
            "AL",
            "AK",
            "AZ",
            "AR",
            "CA",
            "CO",
            "CT",
            "DE",
            "FL",
            "GA",
            "HI",
            "ID",
            "IL",
            "IN",
            "IA",
            "KS",
            "KY",
            "LA",
            "ME",
            "MD",
            "MA",
            "MI",
            "MN",
            "MS",
            "MO",
            "MT",
            "NE",
            "NV",
            "NH",
            "NJ",
            "NM",
            "NY",
            "NC",
            "ND",
            "OH",
            "OK",
            "OR",
            "PA",
            "RI",
            "SC",
            "SD",
            "TN",
            "TX",
            "UT",
            "VT",
            "VA",
            "WA",
            "WV",
            "WI",
            "WY"
           ],
           "name": "",
           "type": "choropleth",
           "z": [
            3.3475490196078432,
            3.369138276553106,
            3.5390036654448513,
            3.052293577981651,
            3.4594305457270114,
            3.3469548788619696,
            3.459674582233949,
            3.4481915933528837,
            3.372976630876116,
            3.4071193016488848,
            2.8671875,
            3.4060217809096733,
            3.2905582137161087,
            3.339915074309979,
            3.3594428247489474,
            3.2792823290453623,
            3.3552508361204016,
            3.3583646616541354,
            3.441025641025641,
            3.3353621217273033,
            3.465767230169051,
            3.418226600985222,
            3.4248211162346958,
            3.03943661971831,
            3.292510906446922,
            3.344949494949495,
            3.525872093023256,
            3.417372881355932,
            3.485627775534921,
            3.4102348405187524,
            3.391693290734824,
            3.439543096788434,
            3.4073124999999997,
            3.2524193548387097,
            3.457237163814181,
            3.3779411764705882,
            3.4536833009289265,
            3.364714212881663,
            3.4571865443425076,
            3.3724584103512014,
            2.867441860465116,
            3.441856209150327,
            3.2741148637624407,
            3.5009734513274338,
            3.5280254777070064,
            3.3386811692726037,
            3.3763989262853604,
            3.0536299765807966,
            3.3506481814908176,
            3.030188679245283
           ]
          }
         ],
         "name": "2011"
        },
        {
         "data": [
          {
           "coloraxis": "coloraxis",
           "geo": "geo",
           "hovertemplate": "location=%{location}<br>count=%{z}<extra></extra>",
           "locationmode": "country names",
           "locations": [
            "Abkhazia",
            "Afghanistan",
            "Albania",
            "Andorra",
            "Argentina",
            "Armenia",
            "Australia",
            "Austria",
            "Azerbaijan",
            "Bahamas",
            "Barbados",
            "Belarus",
            "Belgium",
            "Bermuda",
            "Bolivia",
            "Bosnia and Herzegovina",
            "Brazil",
            "Bulgaria",
            "Cambodia",
            "Canada",
            "Cayman Islands",
            "Chile",
            "China",
            "Colombia",
            "Costa Rica",
            "Croatia",
            "Cyprus",
            "Czech Republic",
            "Denmark",
            "Dominican Republic",
            "Ecuador",
            "El Salvador",
            "Estonia",
            "Faroe Islands",
            "Fiji Islands",
            "Finland",
            "France",
            "Germany",
            "Ghana",
            "Greece",
            "Guam",
            "Guatemala",
            "Hawaii",
            "Honduras",
            "Hong Kong",
            "Hungary",
            "Iceland",
            "India",
            "Indonesia",
            "Iran",
            "Iraq",
            "Ireland",
            "Isle of Man",
            "Israel",
            "Italy",
            "Japan",
            "Kenya",
            "Kosovo",
            "Laos",
            "Latvia",
            "Lebanon",
            "Lithuania",
            "Luxembourg",
            "Macedonia",
            "Malaysia",
            "Mexico",
            "Moldova",
            "Montenegro",
            "Mozambique",
            "Namibia",
            "Nepal",
            "Netherlands",
            "New Zealand",
            "Nicaragua",
            "Norfolk Island",
            "North Korea",
            "Norway",
            "Pakistan",
            "Panama",
            "Paraguay",
            "Peru",
            "Philippines",
            "Poland",
            "Portugal",
            "Puerto Rico",
            "Romania",
            "Russia",
            "Saudi Arabia",
            "Serbia",
            "Singapore",
            "Slovak Republic",
            "Slovenia",
            "South Africa",
            "South Korea",
            "Spain",
            "Sweden",
            "Switzerland",
            "Syria",
            "Taiwan",
            "Thailand",
            "Tunisia",
            "Turkey",
            "Ukraine",
            "United Arab Emirates",
            "United Kingdom",
            "Uruguay",
            "Venezuela",
            "Vietnam"
           ],
           "name": "",
           "type": "choropleth",
           "z": [
            0.65,
            4.1,
            5,
            3.8,
            2.8676056338028166,
            3.9,
            3.209636173427874,
            3.1091176470588233,
            3.35,
            2.7,
            4.433333333333334,
            3.4,
            3.3620532550369546,
            3.368095238095238,
            4.5,
            2.9,
            3.1946531791907513,
            4.3625,
            2.9633986928104576,
            3.3059703307393,
            2,
            3.2537414965986393,
            2.8045454545454542,
            2.85,
            4.3,
            2.6050236406619383,
            3.355614973262032,
            3.118846694796062,
            3.105935498204169,
            3.221875,
            2.852205882352941,
            2.627751196172249,
            2.828131868131868,
            3.1386046511627903,
            3.3666666666666667,
            3.1691121545192615,
            3.0460576923076923,
            2.899365173833259,
            4.1,
            3.3723169508525577,
            3.3333333333333335,
            3.025,
            3.7,
            2.8866666666666663,
            2.8666666666666667,
            3.2241809672386896,
            3.4388392857142853,
            3.353488372093023,
            2,
            1.4,
            1,
            3.362678239305642,
            4,
            2.9811506434519304,
            3.484674254317112,
            3.4266047638272106,
            3.8,
            4,
            3.6333333333333333,
            2.962886597938144,
            3.563636363636364,
            2.47741935483871,
            3.1420118343195265,
            2.5666666666666664,
            3.2171532846715327,
            3.4052064631956913,
            4.5,
            5,
            3.5803030303030305,
            4.5,
            3.266666666666667,
            3.207842900302115,
            2.9590643274853803,
            5,
            3.6399999999999997,
            3.672972972972973,
            3.078564565718678,
            4.1,
            4.8,
            2.8000000000000003,
            3.7,
            3.7458333333333336,
            3.4477151668068404,
            2.918352059925094,
            3.7235955056179773,
            3.065161290322581,
            3.62970297029703,
            2.425,
            3.6100000000000003,
            3.6999999999999997,
            3.0618977020014824,
            2.9443742098609356,
            3.1489208633093524,
            3.0076923076923077,
            3.2626117036609976,
            3.2470031675511124,
            3.3485808580858087,
            3.95,
            2.7705882352941176,
            3.1453869047619043,
            5,
            3.003921568627451,
            3.15,
            1.7999999999999998,
            3.2669113244783468,
            2.7875,
            3.146031746031746,
            2.8333333333333335
           ]
          },
          {
           "coloraxis": "coloraxis",
           "geo": "geo",
           "hovertemplate": "location=%{location}<br>count=%{z}<extra></extra>",
           "locationmode": "USA-states",
           "locations": [
            "AL",
            "AK",
            "AZ",
            "AR",
            "CA",
            "CO",
            "CT",
            "DE",
            "FL",
            "GA",
            "HI",
            "ID",
            "IL",
            "IN",
            "IA",
            "KS",
            "KY",
            "LA",
            "ME",
            "MD",
            "MA",
            "MI",
            "MN",
            "MS",
            "MO",
            "MT",
            "NE",
            "NV",
            "NH",
            "NJ",
            "NM",
            "NY",
            "NC",
            "ND",
            "OH",
            "OK",
            "OR",
            "PA",
            "RI",
            "SC",
            "SD",
            "TN",
            "TX",
            "UT",
            "VT",
            "VA",
            "WA",
            "WV",
            "WI",
            "WY"
           ],
           "name": "",
           "type": "choropleth",
           "z": [
            3.4450208706022662,
            3.466666666666667,
            3.6044844632768362,
            3.3475783475783474,
            3.4838625370572633,
            3.3878294427710847,
            3.5073390894819467,
            3.4000000000000004,
            3.3433527740391806,
            3.425226176115802,
            3.3833333333333337,
            3.39466984884646,
            3.416604510744095,
            3.2885622416169036,
            3.393906333155934,
            3.275724065297525,
            3.3513249082755805,
            3.4882,
            3.553671706263499,
            3.397409791885013,
            3.4503740648379053,
            3.379210722263589,
            3.389414437674274,
            3.180597014925373,
            3.3182249456414312,
            3.3675977653631284,
            3.4654561558901684,
            3.3923512747875355,
            3.4766846846846846,
            3.3602370463603943,
            3.2323529411764707,
            3.4487027720232812,
            3.392161119150989,
            3.258715596330275,
            3.48612987012987,
            3.177637130801688,
            3.4302719572001785,
            3.374502157749701,
            3.5653508771929823,
            3.2982164090368613,
            3.1073825503355703,
            3.3483442047165077,
            3.339089324034335,
            3.4975147155003268,
            3.6128695652173914,
            3.4073642846747196,
            3.406323573800181,
            3.227913279132791,
            3.459860259518038,
            2.96530612244898
           ]
          }
         ],
         "name": "2012"
        },
        {
         "data": [
          {
           "coloraxis": "coloraxis",
           "geo": "geo",
           "hovertemplate": "location=%{location}<br>count=%{z}<extra></extra>",
           "locationmode": "country names",
           "locations": [
            "Afghanistan",
            "Andorra",
            "Argentina",
            "Australia",
            "Austria",
            "Bangladesh",
            "Belarus",
            "Belgium",
            "Belize",
            "Bermuda",
            "Bosnia and Herzegovina",
            "Botswana",
            "Brazil",
            "Bulgaria",
            "Cambodia",
            "Canada",
            "Cayman Islands",
            "Chile",
            "China",
            "Colombia",
            "Costa Rica",
            "Croatia",
            "Cyprus",
            "Czech Republic",
            "Dem Rep of Congo",
            "Denmark",
            "Dominican Republic",
            "Ecuador",
            "El Salvador",
            "Estonia",
            "Faroe Islands",
            "Finland",
            "France",
            "Germany",
            "Greece",
            "Guam",
            "Guatemala",
            "Hong Kong",
            "Hungary",
            "Iceland",
            "India",
            "Indonesia",
            "Ireland",
            "Isle of Man",
            "Israel",
            "Italy",
            "Japan",
            "Jersey",
            "Kazakhstan",
            "Laos",
            "Latvia",
            "Lithuania",
            "Luxembourg",
            "Macedonia",
            "Malaysia",
            "Mexico",
            "Moldova",
            "Morocco",
            "Mozambique",
            "Nagorno-Karabakh",
            "Nepal",
            "Netherlands",
            "New Zealand",
            "Norfolk Island",
            "North Korea",
            "Norway",
            "Panama",
            "Paraguay",
            "Peru",
            "Philippines",
            "Poland",
            "Portugal",
            "Puerto Rico",
            "Romania",
            "Russia",
            "Saint Lucia",
            "San Marino",
            "Saudi Arabia",
            "Serbia",
            "Singapore",
            "Slovak Republic",
            "Slovenia",
            "South Africa",
            "South Korea",
            "Spain",
            "Sweden",
            "Switzerland",
            "Taiwan",
            "Thailand",
            "Tibet",
            "Turkey",
            "Ukraine",
            "United Arab Emirates",
            "United Kingdom",
            "Uruguay",
            "Venezuela",
            "Vietnam",
            "Virgin Islands (U.S.)"
           ],
           "name": "",
           "type": "choropleth",
           "z": [
            4.7,
            3.5200000000000005,
            3.4682539682539684,
            3.3450732693279432,
            3.1928864569083446,
            4.35,
            3.0692307692307694,
            3.3944329263610533,
            3.05,
            3.405925925925926,
            4.1,
            4.300000000000001,
            3.3435987903225803,
            3.210714285714286,
            3.1732456140350878,
            3.3783296364162405,
            2.9,
            3.3297435897435896,
            2.5736842105263156,
            2.8583333333333334,
            2.2444444444444445,
            2.7645578720345076,
            3.4232514177693765,
            3.1793314934069303,
            3.8,
            3.1457633074935396,
            3.256521739130435,
            2.448717948717949,
            3.092397660818713,
            2.8389169675090256,
            3.0675712347354143,
            3.158338443926571,
            3.205852601156069,
            2.9966477692876508,
            3.3443148688046644,
            3.298076923076923,
            3.21,
            2.729736211031175,
            3.1928665785997357,
            3.525632911392405,
            3.16,
            4.066666666666666,
            3.3016882386043895,
            3.905263157894737,
            3.0374231414197874,
            3.3800726927939313,
            3.377828447339848,
            3.2142857142857144,
            1.9486486486486485,
            2.8,
            3.227631578947369,
            2.8633986928104576,
            3.2627551020408165,
            3.6,
            3.295080091533181,
            3.3743619489559165,
            2.9405099150141645,
            3.1,
            2.80128087831656,
            1.5,
            1.6666666666666667,
            3.2514900718640374,
            3.1970302852102326,
            3.8555555555555556,
            3.586842105263158,
            3.1436353829557713,
            3.3758064516129034,
            3.0611111111111113,
            4.025,
            3.66,
            3.2304463554463556,
            3.031126482213439,
            3.432352941176471,
            3.151685393258427,
            3.5596059113300496,
            3.8,
            3.2,
            3.0433333333333334,
            3.127906976744186,
            3.292307692307692,
            3.0099254609650843,
            2.952310101801096,
            3.276018808777429,
            4.0285714285714285,
            3.3286672254819782,
            3.2695642535942744,
            3.2897161470451373,
            3.117948717948718,
            3.208954248366013,
            5,
            3.011797752808989,
            2.7928286852589643,
            0.9,
            3.288769844789357,
            2.6999999999999997,
            3.345925925925926,
            4.6,
            3.3
           ]
          },
          {
           "coloraxis": "coloraxis",
           "geo": "geo",
           "hovertemplate": "location=%{location}<br>count=%{z}<extra></extra>",
           "locationmode": "USA-states",
           "locations": [
            "AL",
            "AK",
            "AZ",
            "AR",
            "CA",
            "CO",
            "CT",
            "DE",
            "FL",
            "GA",
            "HI",
            "ID",
            "IL",
            "IN",
            "IA",
            "KS",
            "KY",
            "LA",
            "ME",
            "MD",
            "MA",
            "MI",
            "MN",
            "MS",
            "MO",
            "MT",
            "NE",
            "NV",
            "NH",
            "NJ",
            "NM",
            "NY",
            "NC",
            "ND",
            "OH",
            "OK",
            "OR",
            "PA",
            "RI",
            "SC",
            "SD",
            "TN",
            "TX",
            "UT",
            "VT",
            "VA",
            "WA",
            "WV",
            "WI",
            "WY"
           ],
           "name": "",
           "type": "choropleth",
           "z": [
            3.3969938938468762,
            3.4466480446927377,
            3.7052496217851743,
            3.4598448108632396,
            3.5080487117678367,
            3.347887323943662,
            3.563815789473684,
            3.4265734265734267,
            3.4252550070731886,
            3.474298088410992,
            3.65258064516129,
            3.4554524361948955,
            3.450775554946561,
            3.3310193425892964,
            3.380803937653815,
            3.404549180327869,
            3.412672688629118,
            3.441559424678274,
            3.5024006001500374,
            3.377057957435417,
            3.457051282051282,
            3.455485584965069,
            3.3864723122011413,
            3.288811188811189,
            3.350237992211164,
            3.3789915966386554,
            3.3772968868640847,
            3.5100523560209425,
            3.487060191916255,
            3.428805996787435,
            3.4736470588235293,
            3.480666713552289,
            3.397621091354997,
            3.514723926380368,
            3.510119092770993,
            3.404442250740375,
            3.5211267605633805,
            3.409969513825747,
            3.6662835249042143,
            3.38804920913884,
            3.183448275862069,
            3.3756189994946944,
            3.3681379979385193,
            3.5091822094691536,
            3.60557880055788,
            3.398035873711549,
            3.3909718688667585,
            3.3671191553544495,
            3.4444928167174576,
            3.280505415162455
           ]
          }
         ],
         "name": "2013"
        },
        {
         "data": [
          {
           "coloraxis": "coloraxis",
           "geo": "geo",
           "hovertemplate": "location=%{location}<br>count=%{z}<extra></extra>",
           "locationmode": "country names",
           "locations": [
            "Abkhazia",
            "Algeria",
            "Andorra",
            "Antigua and Barbuda",
            "Argentina",
            "Armenia",
            "Australia",
            "Austria",
            "Bahamas",
            "Bangladesh",
            "Belarus",
            "Belgium",
            "Bermuda",
            "Bosnia and Herzegovina",
            "Botswana",
            "Brazil",
            "Bulgaria",
            "Cambodia",
            "Canada",
            "Cayman Islands",
            "Chile",
            "China",
            "Colombia",
            "Croatia",
            "Cyprus",
            "Czech Republic",
            "Dem Rep of Congo",
            "Denmark",
            "Dominican Republic",
            "Ecuador",
            "Egypt",
            "El Salvador",
            "Estonia",
            "Faroe Islands",
            "Finland",
            "France",
            "Germany",
            "Greece",
            "Guam",
            "Guatemala",
            "Hong Kong",
            "Hungary",
            "Iceland",
            "India",
            "Indonesia",
            "Iraq",
            "Ireland",
            "Isle of Man",
            "Israel",
            "Italy",
            "Japan",
            "Latvia",
            "Lithuania",
            "Luxembourg",
            "Macedonia",
            "Malaysia",
            "Mexico",
            "Moldova",
            "Mozambique",
            "Nepal",
            "Netherlands",
            "New Zealand",
            "North Korea",
            "Norway",
            "Pakistan",
            "Panama",
            "Paraguay",
            "Peru",
            "Philippines",
            "Poland",
            "Portugal",
            "Puerto Rico",
            "Romania",
            "Russia",
            "Saint Helena",
            "San Marino",
            "Saudi Arabia",
            "Serbia",
            "Singapore",
            "Slovak Republic",
            "Slovenia",
            "South Africa",
            "South Korea",
            "Spain",
            "Sweden",
            "Switzerland",
            "Taiwan",
            "Tajikistan",
            "Thailand",
            "Turkey",
            "Ukraine",
            "United Arab Emirates",
            "United Kingdom",
            "Uruguay",
            "Vatican City",
            "Venezuela",
            "Vietnam",
            "Virgin Islands (U.S.)",
            "Zimbabwe"
           ],
           "name": "",
           "type": "choropleth",
           "z": [
            4.866666666666666,
            3.2,
            3.0454545454545454,
            4.5,
            3.054054054054054,
            2.25,
            3.384831264207029,
            3.3633959638135003,
            4.9,
            3.66,
            2.8196226415094343,
            3.3725476320087098,
            3.3957627118644065,
            0.6,
            5,
            3.3338125665601703,
            2.863414634146342,
            3.1347985347985348,
            3.374646810490975,
            3.4000000000000004,
            3.1976377952755906,
            3.0362573099415204,
            2.705,
            2.807186210245205,
            3.4292507204610954,
            3.178817153628652,
            2.5,
            3.2018982962898903,
            2.899833194328607,
            3.22,
            2.7,
            2.807964601769912,
            2.910868315123634,
            2.976470588235294,
            3.1414170334601086,
            3.153052395449447,
            3.033020672069939,
            3.371190476190476,
            3.115789473684211,
            2.8714285714285714,
            3.078758620689655,
            3.3392372881355934,
            3.4206008583690988,
            3.466666666666667,
            2.2847402597402597,
            5,
            3.3255754475703325,
            2.6625,
            3.032314410480349,
            3.3900921085387106,
            3.438906817265026,
            3.30064829821718,
            2.7491017964071855,
            3.3354430379746836,
            2.94,
            3.33556570268899,
            3.251876379690949,
            3.121881390593047,
            3.191584158415842,
            2.85,
            3.2908378055223424,
            3.3400337126000843,
            2.92,
            3.105923411189571,
            3.4,
            3.0208333333333335,
            3.9,
            3.16,
            4.6,
            3.3344190600522197,
            3.076477832512315,
            3.2790697674418605,
            3.1674641148325358,
            3.2988399071925754,
            4.8,
            4.3,
            2.3,
            3.2445765230312036,
            3.5171875,
            3.006491528650295,
            3.052536063285249,
            3.3671532846715326,
            2.7649999999999997,
            3.3123692636072573,
            3.2867276406738677,
            3.30636087176888,
            3.043636363636364,
            4.9,
            3.2854401058901392,
            3.0929411764705885,
            2.9960707269155207,
            3.7,
            3.3039480512740673,
            2.788888888888889,
            4.4,
            3.3093023255813954,
            3.733333333333333,
            4.566666666666666,
            4.550000000000001
           ]
          },
          {
           "coloraxis": "coloraxis",
           "geo": "geo",
           "hovertemplate": "location=%{location}<br>count=%{z}<extra></extra>",
           "locationmode": "USA-states",
           "locations": [
            "AL",
            "AK",
            "AZ",
            "AR",
            "CA",
            "CO",
            "CT",
            "DE",
            "FL",
            "GA",
            "HI",
            "ID",
            "IL",
            "IN",
            "IA",
            "KS",
            "KY",
            "LA",
            "ME",
            "MD",
            "MA",
            "MI",
            "MN",
            "MS",
            "MO",
            "MT",
            "NE",
            "NV",
            "NH",
            "NJ",
            "NM",
            "NY",
            "NC",
            "ND",
            "OH",
            "OK",
            "OR",
            "PA",
            "RI",
            "SC",
            "SD",
            "TN",
            "TX",
            "UT",
            "VT",
            "VA",
            "WA",
            "WV",
            "WI",
            "WY"
           ],
           "name": "",
           "type": "choropleth",
           "z": [
            3.381758793969849,
            3.437223340040241,
            3.769057581191473,
            3.2554493307839385,
            3.5098366261398173,
            3.3839674326586517,
            3.63005657708628,
            3.4405133928571425,
            3.4399638210533636,
            3.4901442307692307,
            3.33515625,
            3.479596412556054,
            3.4104432051658353,
            3.37481677279827,
            3.542021636240703,
            3.478031456113648,
            3.392131234995999,
            3.3987616099071207,
            3.55464527027027,
            3.3579861111111113,
            3.4866930171277994,
            3.4810521500457456,
            3.4211656707369875,
            3.504545454545455,
            3.4042347525891827,
            3.380454545454546,
            3.2503816793893128,
            3.2824977538185083,
            3.46474358974359,
            3.4659248269040552,
            3.506611570247934,
            3.5036297234851306,
            3.3520941727367326,
            3.513089802130898,
            3.502106052344602,
            3.6253731343283584,
            3.609860050890585,
            3.404600262872164,
            3.608713692946058,
            3.3675010789814417,
            3.025,
            3.437544247787611,
            3.4557893990929704,
            3.4833956219967965,
            3.3391228070175436,
            3.4611894344514664,
            3.42685521766114,
            3.420500927643785,
            3.454631864815932,
            3.4841075794621026
           ]
          }
         ],
         "name": "2014"
        },
        {
         "data": [
          {
           "coloraxis": "coloraxis",
           "geo": "geo",
           "hovertemplate": "location=%{location}<br>count=%{z}<extra></extra>",
           "locationmode": "country names",
           "locations": [
            "Algeria",
            "Andorra",
            "Argentina",
            "Australia",
            "Austria",
            "Azerbaijan",
            "Bahamas",
            "Belarus",
            "Belgium",
            "Belize",
            "Bermuda",
            "Bosnia and Herzegovina",
            "Brazil",
            "Bulgaria",
            "Cambodia",
            "Canada",
            "Cayman Islands",
            "Chile",
            "China",
            "Colombia",
            "Costa Rica",
            "Croatia",
            "Cyprus",
            "Czech Republic",
            "Denmark",
            "Dominican Republic",
            "Ecuador",
            "El Salvador",
            "Estonia",
            "Falkland Islands",
            "Faroe Islands",
            "Finland",
            "France",
            "French Guiana",
            "Germany",
            "Greece",
            "Greenland",
            "Guam",
            "Guatemala",
            "Hong Kong",
            "Hungary",
            "Iceland",
            "India",
            "Indonesia",
            "Ireland",
            "Israel",
            "Italy",
            "Japan",
            "Jersey",
            "Kenya",
            "Latvia",
            "Lesotho",
            "Lithuania",
            "Luxembourg",
            "Macau",
            "Macedonia",
            "Malaysia",
            "Malta",
            "Marshall Islands",
            "Mexico",
            "Moldova",
            "Montenegro",
            "Morocco",
            "Mozambique",
            "Netherlands",
            "New Zealand",
            "Nigeria",
            "North Korea",
            "Norway",
            "Palestine",
            "Panama",
            "Paraguay",
            "Peru",
            "Philippines",
            "Poland",
            "Portugal",
            "Puerto Rico",
            "Romania",
            "Russia",
            "San Marino",
            "Saudi Arabia",
            "Serbia",
            "Singapore",
            "Sint Maarten",
            "Slovak Republic",
            "Slovakia",
            "Slovenia",
            "South Africa",
            "South Korea",
            "Spain",
            "Sweden",
            "Switzerland",
            "Taiwan",
            "Tanzania",
            "Thailand",
            "Turkey",
            "Tuvalu",
            "Ukraine",
            "United Arab Emirates",
            "United Kingdom",
            "Uruguay",
            "Venezuela",
            "Virgin Islands (U.S.)"
           ],
           "name": "",
           "type": "choropleth",
           "z": [
            2.6722222222222225,
            2.8,
            3.7627450980392156,
            3.328829717291256,
            3.3916169366297244,
            1.6,
            4.25,
            3.159632352941177,
            3.4002292741389195,
            2.533333333333333,
            3.613245033112583,
            2.1166666666666667,
            3.279450261780105,
            3.108510638297872,
            2.67,
            3.4077121570052697,
            4.1,
            3.2095323741007196,
            3.0730392156862743,
            3.204651162790698,
            3.2642857142857147,
            3.033573008849557,
            3.28034398034398,
            3.2032490974729244,
            3.2081049866810725,
            3.00875,
            3.2196969696969697,
            3.0618421052631577,
            3.051367669929558,
            3.8,
            2.9478260869565216,
            3.213454129315277,
            3.20531475748194,
            1.5,
            3.087249675839216,
            3.416173752310536,
            3.048979591836735,
            2.9517857142857147,
            3.2642857142857147,
            3.2946245733788397,
            3.3167287630402384,
            3.583231707317073,
            2.357142857142857,
            2.579289940828402,
            3.357142857142857,
            3.003190519598906,
            3.430557809330629,
            3.458010001724435,
            3,
            4.1,
            3.361652647204354,
            4.6,
            2.993891797556719,
            3.255076923076923,
            3.55,
            3.1,
            3.341680129240711,
            4.4,
            2.6297047970479706,
            3.4825210084033613,
            3.056,
            3.3,
            3.3600000000000003,
            3.2061032863849763,
            3.351821213792379,
            3.3547400611620795,
            5,
            3.2904761904761908,
            3.1568158978182645,
            4.633333333333333,
            2.9,
            3.216666666666667,
            2.8870967741935485,
            3.372340425531915,
            3.3226110129478896,
            3.150234113712375,
            3.388235294117647,
            3.443071161048689,
            3.3251311397234145,
            3.766666666666666,
            3.4,
            3.279414951245937,
            3.4724358974358975,
            4.55,
            3.241180855822275,
            3.21,
            3.0366850321395775,
            3.1557264957264954,
            3.3267326732673266,
            3.2708489333913797,
            3.3097609607938603,
            3.2776524191798657,
            2.979661016949153,
            4.14,
            3.2658219623131908,
            3.247844827586207,
            3.9,
            2.9919652551574374,
            2.8,
            3.327286304031083,
            3.45,
            3.367857142857143,
            5
           ]
          },
          {
           "coloraxis": "coloraxis",
           "geo": "geo",
           "hovertemplate": "location=%{location}<br>count=%{z}<extra></extra>",
           "locationmode": "USA-states",
           "locations": [
            "AL",
            "AK",
            "AZ",
            "AR",
            "CA",
            "CO",
            "CT",
            "DE",
            "FL",
            "GA",
            "HI",
            "ID",
            "IL",
            "IN",
            "IA",
            "KS",
            "KY",
            "LA",
            "ME",
            "MD",
            "MA",
            "MI",
            "MN",
            "MS",
            "MO",
            "MT",
            "NE",
            "NV",
            "NH",
            "NJ",
            "NM",
            "NY",
            "NC",
            "ND",
            "OH",
            "OK",
            "OR",
            "PA",
            "RI",
            "SC",
            "SD",
            "TN",
            "TX",
            "UT",
            "VT",
            "VA",
            "WA",
            "WV",
            "WI",
            "WY"
           ],
           "name": "",
           "type": "choropleth",
           "z": [
            3.3235930735930737,
            3.5312414733969986,
            3.7429759299781185,
            3.4508710801393727,
            3.5601426024955436,
            3.435382030420941,
            3.620397208803006,
            3.4736151603498544,
            3.485558678847505,
            3.5250645161290324,
            3.304761904761905,
            3.516190014541929,
            3.4113307796861485,
            3.4286759104068265,
            3.592284417549168,
            3.508750658935161,
            3.4450072358900146,
            3.4374653098982426,
            3.560649819494585,
            3.4145468509984642,
            3.4408792767239853,
            3.52629033758021,
            3.44875656139747,
            3.386440677966102,
            3.4455100048804295,
            3.426953125,
            3.188883170355121,
            3.4655873493975906,
            3.51842774566474,
            3.461147069399497,
            3.7642384105960263,
            3.520017985611511,
            3.4121899661781288,
            3.3466257668711656,
            3.54375,
            3.4940980881130503,
            3.589291632145816,
            3.408705343695403,
            3.6991525423728815,
            3.353346554288547,
            3.38125,
            3.4305316242908175,
            3.4897825066499766,
            3.524944320712695,
            3.636345108695652,
            3.463781052631579,
            3.4391099243435694,
            3.4339605734767025,
            3.5251668891855807,
            3.4293209876543207
           ]
          }
         ],
         "name": "2015"
        },
        {
         "data": [
          {
           "coloraxis": "coloraxis",
           "geo": "geo",
           "hovertemplate": "location=%{location}<br>count=%{z}<extra></extra>",
           "locationmode": "country names",
           "locations": [
            "Afghanistan",
            "Andorra",
            "Argentina",
            "Ascension Island",
            "Australia",
            "Austria",
            "Belarus",
            "Belgium",
            "Belize",
            "Bermuda",
            "Bolivia",
            "Bosnia and Herzegovina",
            "Brazil",
            "Bulgaria",
            "Cambodia",
            "Canada",
            "Chile",
            "China",
            "Colombia",
            "Costa Rica",
            "Croatia",
            "Cyprus",
            "Czech Republic",
            "Denmark",
            "Dominican Republic",
            "Ecuador",
            "El Salvador",
            "Estonia",
            "Faroe Islands",
            "Finland",
            "France",
            "French Guiana",
            "Germany",
            "Greece",
            "Greenland",
            "Guam",
            "Guatemala",
            "Hong Kong",
            "Hungary",
            "Iceland",
            "India",
            "Indonesia",
            "Ireland",
            "Israel",
            "Italy",
            "Ivory Coast",
            "Japan",
            "Jersey",
            "Jordan",
            "Latvia",
            "Lithuania",
            "Luxembourg",
            "Macedonia",
            "Malaysia",
            "Malta",
            "Marshall Islands",
            "Mauritius",
            "Mexico",
            "Moldova",
            "Montenegro",
            "Mozambique",
            "Netherlands",
            "New Zealand",
            "North Korea",
            "Norway",
            "Paraguay",
            "Peru",
            "Philippines",
            "Poland",
            "Portugal",
            "Puerto Rico",
            "Romania",
            "Russia",
            "Saint Helena",
            "Saudi Arabia",
            "Serbia",
            "Singapore",
            "Slovak Republic",
            "Slovakia",
            "Slovenia",
            "South Africa",
            "South Korea",
            "Spain",
            "Sweden",
            "Switzerland",
            "Taiwan",
            "Thailand",
            "Tunisia",
            "Turkey",
            "Uganda",
            "Ukraine",
            "United Kingdom",
            "Uruguay",
            "Venezuela",
            "Vietnam",
            "Virgin Islands (U.S.)"
           ],
           "name": "",
           "type": "choropleth",
           "z": [
            2.65,
            2.8,
            3.361333333333333,
            0.8500000000000001,
            3.3823081429408317,
            3.413974320692744,
            3.0869474416985727,
            3.424052422643972,
            4.7,
            3.7139534883720926,
            3.6,
            3.282758620689655,
            3.448533196088523,
            3.332934131736527,
            1.75,
            3.4082393511269067,
            3.2066246056782335,
            3.22,
            3.0454545454545454,
            4.45,
            3.086507495835647,
            3.5514084507042254,
            3.2615291262135924,
            3.319960914669784,
            3.133,
            3.0825,
            2.854716981132076,
            3.0611042183622827,
            2.6733333333333333,
            3.226344086021505,
            3.3184610075914422,
            4.388888888888889,
            3.123752642706131,
            3.6060678167757287,
            2.998314606741573,
            3.111475409836066,
            3.3588235294117648,
            3.5298126064735946,
            3.2656799113503245,
            3.5951456310679615,
            3.203448275862069,
            3.0317280453257793,
            3.454427645788337,
            3.129941231054748,
            3.4498208663554446,
            4.3,
            3.519275723318643,
            3.411111111111111,
            3.742857142857143,
            3.3842812006319116,
            3.319626168224299,
            3.442270531400966,
            3.5866666666666664,
            3.3174368453481207,
            3.9499999999999997,
            2.8713973799126635,
            2.9823529411764707,
            3.495672751859365,
            3.2589675711449373,
            3.38,
            3.088235294117647,
            3.38854841533882,
            3.417321632964517,
            2.9538461538461536,
            3.202560851926978,
            4.8,
            3.145054945054945,
            3.389942528735632,
            3.375686894177024,
            3.2577365728900256,
            3.9,
            3.5357142857142856,
            3.2629712746858166,
            3.121383647798742,
            3.6999999999999997,
            3.448418833450457,
            3.653452685421995,
            3.351489470980997,
            3.212857142857143,
            3.210399100618325,
            3.102950819672131,
            3.5170454545454546,
            3.3578594743171273,
            3.382441960447119,
            3.3080215009303284,
            3.1924528301886794,
            3.2311249444197423,
            3.4,
            3.343642611683849,
            3.25,
            3.0383966244725737,
            3.3664871550413564,
            4,
            3.286666666666667,
            2.158823529411765,
            4.5
           ]
          },
          {
           "coloraxis": "coloraxis",
           "geo": "geo",
           "hovertemplate": "location=%{location}<br>count=%{z}<extra></extra>",
           "locationmode": "USA-states",
           "locations": [
            "AL",
            "AK",
            "AZ",
            "AR",
            "CA",
            "CO",
            "CT",
            "DE",
            "FL",
            "GA",
            "HI",
            "ID",
            "IL",
            "IN",
            "IA",
            "KS",
            "KY",
            "LA",
            "ME",
            "MD",
            "MA",
            "MI",
            "MN",
            "MS",
            "MO",
            "MT",
            "NE",
            "NV",
            "NH",
            "NJ",
            "NM",
            "NY",
            "NC",
            "ND",
            "OH",
            "OK",
            "OR",
            "PA",
            "RI",
            "SC",
            "SD",
            "TN",
            "TX",
            "UT",
            "VT",
            "VA",
            "WA",
            "WV",
            "WI",
            "WY"
           ],
           "name": "",
           "type": "choropleth",
           "z": [
            3.376010781671159,
            3.533129904097646,
            3.793312757201646,
            3.3686868686868685,
            3.606486512248594,
            3.5307659392383397,
            3.6602605863192186,
            3.4965174129353236,
            3.4658116191828046,
            3.596702586206897,
            3.3200000000000003,
            3.5599805447470816,
            3.4737031330251673,
            3.3792118226600985,
            3.646404109589041,
            3.545633456334563,
            3.500322959483265,
            3.390053050397878,
            3.6114130434782608,
            3.439491228070175,
            3.484205536594615,
            3.6037689882487816,
            3.4441828413919833,
            3.5413793103448277,
            3.4827056778679024,
            3.469333333333333,
            3.3703720304796057,
            3.477045143638851,
            3.551832863368367,
            3.521410927773935,
            3.847899159663865,
            3.569350497366881,
            3.4584324924639063,
            3.531481481481481,
            3.5725860518355,
            3.6570261437908496,
            3.551463748290014,
            3.4363185951708997,
            3.591044776119403,
            3.4712615384615386,
            3.256862745098039,
            3.47478281286687,
            3.4545188045188047,
            3.434311926605505,
            3.74299711815562,
            3.5187599364069952,
            3.477228673709945,
            3.432448979591837,
            3.438731443994602,
            3.549532710280374
           ]
          }
         ],
         "name": "2016"
        },
        {
         "data": [
          {
           "coloraxis": "coloraxis",
           "geo": "geo",
           "hovertemplate": "location=%{location}<br>count=%{z}<extra></extra>",
           "locationmode": "country names",
           "locations": [
            "Abkhazia",
            "Afghanistan",
            "Argentina",
            "Australia",
            "Austria",
            "Bahamas",
            "Belarus",
            "Belgium",
            "Bermuda",
            "Bosnia and Herzegovina",
            "Brazil",
            "Bulgaria",
            "Cambodia",
            "Canada",
            "Chile",
            "China",
            "Colombia",
            "Costa Rica",
            "Croatia",
            "Cyprus",
            "Czech Republic",
            "Denmark",
            "Dominican Republic",
            "El Salvador",
            "Estonia",
            "Faroe Islands",
            "Finland",
            "France",
            "Germany",
            "Greece",
            "Greenland",
            "Guatemala",
            "Hong Kong",
            "Hungary",
            "Iceland",
            "India",
            "Iraq",
            "Ireland",
            "Israel",
            "Italy",
            "Japan",
            "Jersey",
            "Jordan",
            "Kenya",
            "Kyrgyzstan",
            "Laos",
            "Latvia",
            "Lithuania",
            "Luxembourg",
            "Macedonia",
            "Malaysia",
            "Malta",
            "Marshall Islands",
            "Mexico",
            "Moldova",
            "Mongolia",
            "Montserrat",
            "Morocco",
            "Mozambique",
            "Netherlands",
            "New Zealand",
            "Nigeria",
            "North Korea",
            "Norway",
            "Oman",
            "Panama",
            "Paraguay",
            "Peru",
            "Philippines",
            "Poland",
            "Portugal",
            "Puerto Rico",
            "Romania",
            "Russia",
            "Saint Helena",
            "Saint Vincent and The Grenadines",
            "Saudi Arabia",
            "Serbia",
            "Singapore",
            "Slovak Republic",
            "Slovakia",
            "Slovenia",
            "South Africa",
            "South Korea",
            "Spain",
            "Sweden",
            "Switzerland",
            "Taiwan",
            "Tanzania",
            "Thailand",
            "Trinidad and Tobago",
            "Turkey",
            "Uganda",
            "Ukraine",
            "United Kingdom",
            "Venezuela",
            "Vietnam",
            "Yemen",
            "Zimbabwe"
           ],
           "name": "",
           "type": "choropleth",
           "z": [
            0.5,
            4.466666666666666,
            3.3000000000000003,
            3.402423783374361,
            3.489444444444444,
            5,
            3.290341142622277,
            3.473450030180219,
            3.71,
            3.2579710144927536,
            3.492222222222222,
            3.673170731707317,
            2.7,
            3.429950791328634,
            3.3427184466019417,
            3.113903743315508,
            2.908333333333333,
            2.85,
            3.1714401294498384,
            3.7098765432098766,
            3.232627774909654,
            3.3565247470525494,
            3.2941176470588234,
            2.911363636363636,
            3.0734370696777744,
            2.9244827586206896,
            3.2596339042858196,
            3.3091328249689664,
            3.178958954368264,
            3.7685741998060136,
            2.990909090909091,
            2.7,
            3.5595108695652176,
            3.4097620500305066,
            3.670512820512821,
            3.9714285714285715,
            4.300000000000001,
            3.4594458438287155,
            3.257212276214834,
            3.444966583124478,
            3.5615191986644406,
            4.9,
            0.5,
            1.9,
            4,
            3.1,
            3.5382157123834883,
            3.4405339805825244,
            3.333707865168539,
            3.6133333333333337,
            3.351071122536418,
            5,
            3.0555555555555554,
            3.423480662983425,
            3.261359570661896,
            3.95,
            3.6999999999999997,
            3.8,
            3.275609756097561,
            3.4369304758690515,
            3.4945360824742266,
            4,
            3.3066666666666666,
            3.2226864853757107,
            2.909090909090909,
            3.9777777777777774,
            2.7189189189189187,
            3.307462686567164,
            3.395698924731183,
            3.380964648323339,
            3.370713623725672,
            5,
            3.620846493998737,
            3.242985074626866,
            3.052961672473868,
            3.2,
            2.75,
            3.317713365539453,
            3.626148409893993,
            3.2659730162359937,
            3.4,
            3.3057287278854255,
            3.1468468468468465,
            3.7115384615384617,
            3.351531510386105,
            3.40466285488959,
            3.422152108933909,
            2.991282051282051,
            2.3,
            3.1911413969335607,
            4.9,
            3.3974747474747473,
            3.6,
            3.1563636363636363,
            3.402174394491534,
            3.2868421052631582,
            4.35,
            0.55,
            3.8
           ]
          },
          {
           "coloraxis": "coloraxis",
           "geo": "geo",
           "hovertemplate": "location=%{location}<br>count=%{z}<extra></extra>",
           "locationmode": "USA-states",
           "locations": [
            "AL",
            "AK",
            "AZ",
            "AR",
            "CA",
            "CO",
            "CT",
            "DE",
            "FL",
            "GA",
            "HI",
            "ID",
            "IL",
            "IN",
            "IA",
            "KS",
            "KY",
            "LA",
            "ME",
            "MD",
            "MA",
            "MI",
            "MN",
            "MS",
            "MO",
            "MT",
            "NE",
            "NV",
            "NH",
            "NJ",
            "NM",
            "NY",
            "NC",
            "ND",
            "OH",
            "OK",
            "OR",
            "PA",
            "RI",
            "SC",
            "SD",
            "TN",
            "TX",
            "UT",
            "VT",
            "VA",
            "WA",
            "WV",
            "WI",
            "WY"
           ],
           "name": "",
           "type": "choropleth",
           "z": [
            3.506904761904762,
            3.5976303317535545,
            3.813595933926303,
            3.403409090909091,
            3.63622348680807,
            3.5547668491599014,
            3.6701072386058984,
            3.5764,
            3.497004782280393,
            3.5955722326454036,
            2.8833333333333333,
            3.564151599443672,
            3.4444829378139614,
            3.4052407932011333,
            3.6006586169045005,
            3.5365692742695574,
            3.544741873804971,
            3.589230769230769,
            3.5784905660377357,
            3.5215002180549497,
            3.516301615798923,
            3.6183636906539265,
            3.477864012147798,
            3.3272727272727276,
            3.5415742793791574,
            3.490449438202247,
            3.4310165073848826,
            3.5811267605633805,
            3.5401484865790978,
            3.525657184011523,
            3.6212765957446806,
            3.6309382226627025,
            3.4497164461247634,
            3.488888888888889,
            3.62554105118516,
            3.7157706093189966,
            3.5463855421686747,
            3.441145395605715,
            4.052173913043478,
            3.4414634146341463,
            3.161111111111111,
            3.5393460294646064,
            3.5261182223500644,
            3.393318485523385,
            3.5709083119108826,
            3.5357700892857142,
            3.5200712589073633,
            3.4298816568047337,
            3.4947368421052634,
            3.5622093023255816
           ]
          }
         ],
         "name": "2017"
        }
       ],
       "layout": {
        "coloraxis": {
         "cmax": 4,
         "cmin": 1,
         "colorbar": {
          "title": {
           "text": "count"
          }
         },
         "colorscale": [
          [
           0,
           "#440154"
          ],
          [
           0.1111111111111111,
           "#482878"
          ],
          [
           0.2222222222222222,
           "#3e4989"
          ],
          [
           0.3333333333333333,
           "#31688e"
          ],
          [
           0.4444444444444444,
           "#26828e"
          ],
          [
           0.5555555555555556,
           "#1f9e89"
          ],
          [
           0.6666666666666666,
           "#35b779"
          ],
          [
           0.7777777777777778,
           "#6ece58"
          ],
          [
           0.8888888888888888,
           "#b5de2b"
          ],
          [
           1,
           "#fde725"
          ]
         ]
        },
        "geo": {
         "center": {},
         "domain": {
          "x": [
           0,
           1
          ],
          "y": [
           0,
           1
          ]
         },
         "scope": "world",
         "showcoastlines": false,
         "showframe": false
        },
        "height": 600,
        "legend": {
         "tracegroupgap": 0
        },
        "margin": {
         "t": 60
        },
        "sliders": [
         {
          "steps": [
           {
            "args": [
             [
              "2002"
             ],
             {
              "frame": {
               "duration": 300,
               "redraw": true
              },
              "mode": "immediate"
             }
            ],
            "label": "2002",
            "method": "animate"
           },
           {
            "args": [
             [
              "2003"
             ],
             {
              "frame": {
               "duration": 300,
               "redraw": true
              },
              "mode": "immediate"
             }
            ],
            "label": "2003",
            "method": "animate"
           },
           {
            "args": [
             [
              "2004"
             ],
             {
              "frame": {
               "duration": 300,
               "redraw": true
              },
              "mode": "immediate"
             }
            ],
            "label": "2004",
            "method": "animate"
           },
           {
            "args": [
             [
              "2005"
             ],
             {
              "frame": {
               "duration": 300,
               "redraw": true
              },
              "mode": "immediate"
             }
            ],
            "label": "2005",
            "method": "animate"
           },
           {
            "args": [
             [
              "2006"
             ],
             {
              "frame": {
               "duration": 300,
               "redraw": true
              },
              "mode": "immediate"
             }
            ],
            "label": "2006",
            "method": "animate"
           },
           {
            "args": [
             [
              "2007"
             ],
             {
              "frame": {
               "duration": 300,
               "redraw": true
              },
              "mode": "immediate"
             }
            ],
            "label": "2007",
            "method": "animate"
           },
           {
            "args": [
             [
              "2008"
             ],
             {
              "frame": {
               "duration": 300,
               "redraw": true
              },
              "mode": "immediate"
             }
            ],
            "label": "2008",
            "method": "animate"
           },
           {
            "args": [
             [
              "2009"
             ],
             {
              "frame": {
               "duration": 300,
               "redraw": true
              },
              "mode": "immediate"
             }
            ],
            "label": "2009",
            "method": "animate"
           },
           {
            "args": [
             [
              "2010"
             ],
             {
              "frame": {
               "duration": 300,
               "redraw": true
              },
              "mode": "immediate"
             }
            ],
            "label": "2010",
            "method": "animate"
           },
           {
            "args": [
             [
              "2011"
             ],
             {
              "frame": {
               "duration": 300,
               "redraw": true
              },
              "mode": "immediate"
             }
            ],
            "label": "2011",
            "method": "animate"
           },
           {
            "args": [
             [
              "2012"
             ],
             {
              "frame": {
               "duration": 300,
               "redraw": true
              },
              "mode": "immediate"
             }
            ],
            "label": "2012",
            "method": "animate"
           },
           {
            "args": [
             [
              "2013"
             ],
             {
              "frame": {
               "duration": 300,
               "redraw": true
              },
              "mode": "immediate"
             }
            ],
            "label": "2013",
            "method": "animate"
           },
           {
            "args": [
             [
              "2014"
             ],
             {
              "frame": {
               "duration": 300,
               "redraw": true
              },
              "mode": "immediate"
             }
            ],
            "label": "2014",
            "method": "animate"
           },
           {
            "args": [
             [
              "2015"
             ],
             {
              "frame": {
               "duration": 300,
               "redraw": true
              },
              "mode": "immediate"
             }
            ],
            "label": "2015",
            "method": "animate"
           },
           {
            "args": [
             [
              "2016"
             ],
             {
              "frame": {
               "duration": 300,
               "redraw": true
              },
              "mode": "immediate"
             }
            ],
            "label": "2016",
            "method": "animate"
           },
           {
            "args": [
             [
              "2017"
             ],
             {
              "frame": {
               "duration": 300,
               "redraw": true
              },
              "mode": "immediate"
             }
            ],
            "label": "2017",
            "method": "animate"
           }
          ],
          "transition": {
           "duration": 300
          },
          "x": 0.1,
          "xanchor": "left",
          "y": 0,
          "yanchor": "top"
         }
        ],
        "template": {
         "data": {
          "bar": [
           {
            "error_x": {
             "color": "#2a3f5f"
            },
            "error_y": {
             "color": "#2a3f5f"
            },
            "marker": {
             "line": {
              "color": "#E5ECF6",
              "width": 0.5
             },
             "pattern": {
              "fillmode": "overlay",
              "size": 10,
              "solidity": 0.2
             }
            },
            "type": "bar"
           }
          ],
          "barpolar": [
           {
            "marker": {
             "line": {
              "color": "#E5ECF6",
              "width": 0.5
             },
             "pattern": {
              "fillmode": "overlay",
              "size": 10,
              "solidity": 0.2
             }
            },
            "type": "barpolar"
           }
          ],
          "carpet": [
           {
            "aaxis": {
             "endlinecolor": "#2a3f5f",
             "gridcolor": "white",
             "linecolor": "white",
             "minorgridcolor": "white",
             "startlinecolor": "#2a3f5f"
            },
            "baxis": {
             "endlinecolor": "#2a3f5f",
             "gridcolor": "white",
             "linecolor": "white",
             "minorgridcolor": "white",
             "startlinecolor": "#2a3f5f"
            },
            "type": "carpet"
           }
          ],
          "choropleth": [
           {
            "colorbar": {
             "outlinewidth": 0,
             "ticks": ""
            },
            "type": "choropleth"
           }
          ],
          "contour": [
           {
            "colorbar": {
             "outlinewidth": 0,
             "ticks": ""
            },
            "colorscale": [
             [
              0,
              "#0d0887"
             ],
             [
              0.1111111111111111,
              "#46039f"
             ],
             [
              0.2222222222222222,
              "#7201a8"
             ],
             [
              0.3333333333333333,
              "#9c179e"
             ],
             [
              0.4444444444444444,
              "#bd3786"
             ],
             [
              0.5555555555555556,
              "#d8576b"
             ],
             [
              0.6666666666666666,
              "#ed7953"
             ],
             [
              0.7777777777777778,
              "#fb9f3a"
             ],
             [
              0.8888888888888888,
              "#fdca26"
             ],
             [
              1,
              "#f0f921"
             ]
            ],
            "type": "contour"
           }
          ],
          "contourcarpet": [
           {
            "colorbar": {
             "outlinewidth": 0,
             "ticks": ""
            },
            "type": "contourcarpet"
           }
          ],
          "heatmap": [
           {
            "colorbar": {
             "outlinewidth": 0,
             "ticks": ""
            },
            "colorscale": [
             [
              0,
              "#0d0887"
             ],
             [
              0.1111111111111111,
              "#46039f"
             ],
             [
              0.2222222222222222,
              "#7201a8"
             ],
             [
              0.3333333333333333,
              "#9c179e"
             ],
             [
              0.4444444444444444,
              "#bd3786"
             ],
             [
              0.5555555555555556,
              "#d8576b"
             ],
             [
              0.6666666666666666,
              "#ed7953"
             ],
             [
              0.7777777777777778,
              "#fb9f3a"
             ],
             [
              0.8888888888888888,
              "#fdca26"
             ],
             [
              1,
              "#f0f921"
             ]
            ],
            "type": "heatmap"
           }
          ],
          "heatmapgl": [
           {
            "colorbar": {
             "outlinewidth": 0,
             "ticks": ""
            },
            "colorscale": [
             [
              0,
              "#0d0887"
             ],
             [
              0.1111111111111111,
              "#46039f"
             ],
             [
              0.2222222222222222,
              "#7201a8"
             ],
             [
              0.3333333333333333,
              "#9c179e"
             ],
             [
              0.4444444444444444,
              "#bd3786"
             ],
             [
              0.5555555555555556,
              "#d8576b"
             ],
             [
              0.6666666666666666,
              "#ed7953"
             ],
             [
              0.7777777777777778,
              "#fb9f3a"
             ],
             [
              0.8888888888888888,
              "#fdca26"
             ],
             [
              1,
              "#f0f921"
             ]
            ],
            "type": "heatmapgl"
           }
          ],
          "histogram": [
           {
            "marker": {
             "pattern": {
              "fillmode": "overlay",
              "size": 10,
              "solidity": 0.2
             }
            },
            "type": "histogram"
           }
          ],
          "histogram2d": [
           {
            "colorbar": {
             "outlinewidth": 0,
             "ticks": ""
            },
            "colorscale": [
             [
              0,
              "#0d0887"
             ],
             [
              0.1111111111111111,
              "#46039f"
             ],
             [
              0.2222222222222222,
              "#7201a8"
             ],
             [
              0.3333333333333333,
              "#9c179e"
             ],
             [
              0.4444444444444444,
              "#bd3786"
             ],
             [
              0.5555555555555556,
              "#d8576b"
             ],
             [
              0.6666666666666666,
              "#ed7953"
             ],
             [
              0.7777777777777778,
              "#fb9f3a"
             ],
             [
              0.8888888888888888,
              "#fdca26"
             ],
             [
              1,
              "#f0f921"
             ]
            ],
            "type": "histogram2d"
           }
          ],
          "histogram2dcontour": [
           {
            "colorbar": {
             "outlinewidth": 0,
             "ticks": ""
            },
            "colorscale": [
             [
              0,
              "#0d0887"
             ],
             [
              0.1111111111111111,
              "#46039f"
             ],
             [
              0.2222222222222222,
              "#7201a8"
             ],
             [
              0.3333333333333333,
              "#9c179e"
             ],
             [
              0.4444444444444444,
              "#bd3786"
             ],
             [
              0.5555555555555556,
              "#d8576b"
             ],
             [
              0.6666666666666666,
              "#ed7953"
             ],
             [
              0.7777777777777778,
              "#fb9f3a"
             ],
             [
              0.8888888888888888,
              "#fdca26"
             ],
             [
              1,
              "#f0f921"
             ]
            ],
            "type": "histogram2dcontour"
           }
          ],
          "mesh3d": [
           {
            "colorbar": {
             "outlinewidth": 0,
             "ticks": ""
            },
            "type": "mesh3d"
           }
          ],
          "parcoords": [
           {
            "line": {
             "colorbar": {
              "outlinewidth": 0,
              "ticks": ""
             }
            },
            "type": "parcoords"
           }
          ],
          "pie": [
           {
            "automargin": true,
            "type": "pie"
           }
          ],
          "scatter": [
           {
            "fillpattern": {
             "fillmode": "overlay",
             "size": 10,
             "solidity": 0.2
            },
            "type": "scatter"
           }
          ],
          "scatter3d": [
           {
            "line": {
             "colorbar": {
              "outlinewidth": 0,
              "ticks": ""
             }
            },
            "marker": {
             "colorbar": {
              "outlinewidth": 0,
              "ticks": ""
             }
            },
            "type": "scatter3d"
           }
          ],
          "scattercarpet": [
           {
            "marker": {
             "colorbar": {
              "outlinewidth": 0,
              "ticks": ""
             }
            },
            "type": "scattercarpet"
           }
          ],
          "scattergeo": [
           {
            "marker": {
             "colorbar": {
              "outlinewidth": 0,
              "ticks": ""
             }
            },
            "type": "scattergeo"
           }
          ],
          "scattergl": [
           {
            "marker": {
             "colorbar": {
              "outlinewidth": 0,
              "ticks": ""
             }
            },
            "type": "scattergl"
           }
          ],
          "scattermapbox": [
           {
            "marker": {
             "colorbar": {
              "outlinewidth": 0,
              "ticks": ""
             }
            },
            "type": "scattermapbox"
           }
          ],
          "scatterpolar": [
           {
            "marker": {
             "colorbar": {
              "outlinewidth": 0,
              "ticks": ""
             }
            },
            "type": "scatterpolar"
           }
          ],
          "scatterpolargl": [
           {
            "marker": {
             "colorbar": {
              "outlinewidth": 0,
              "ticks": ""
             }
            },
            "type": "scatterpolargl"
           }
          ],
          "scatterternary": [
           {
            "marker": {
             "colorbar": {
              "outlinewidth": 0,
              "ticks": ""
             }
            },
            "type": "scatterternary"
           }
          ],
          "surface": [
           {
            "colorbar": {
             "outlinewidth": 0,
             "ticks": ""
            },
            "colorscale": [
             [
              0,
              "#0d0887"
             ],
             [
              0.1111111111111111,
              "#46039f"
             ],
             [
              0.2222222222222222,
              "#7201a8"
             ],
             [
              0.3333333333333333,
              "#9c179e"
             ],
             [
              0.4444444444444444,
              "#bd3786"
             ],
             [
              0.5555555555555556,
              "#d8576b"
             ],
             [
              0.6666666666666666,
              "#ed7953"
             ],
             [
              0.7777777777777778,
              "#fb9f3a"
             ],
             [
              0.8888888888888888,
              "#fdca26"
             ],
             [
              1,
              "#f0f921"
             ]
            ],
            "type": "surface"
           }
          ],
          "table": [
           {
            "cells": {
             "fill": {
              "color": "#EBF0F8"
             },
             "line": {
              "color": "white"
             }
            },
            "header": {
             "fill": {
              "color": "#C8D4E3"
             },
             "line": {
              "color": "white"
             }
            },
            "type": "table"
           }
          ]
         },
         "layout": {
          "annotationdefaults": {
           "arrowcolor": "#2a3f5f",
           "arrowhead": 0,
           "arrowwidth": 1
          },
          "autotypenumbers": "strict",
          "coloraxis": {
           "colorbar": {
            "outlinewidth": 0,
            "ticks": ""
           }
          },
          "colorscale": {
           "diverging": [
            [
             0,
             "#8e0152"
            ],
            [
             0.1,
             "#c51b7d"
            ],
            [
             0.2,
             "#de77ae"
            ],
            [
             0.3,
             "#f1b6da"
            ],
            [
             0.4,
             "#fde0ef"
            ],
            [
             0.5,
             "#f7f7f7"
            ],
            [
             0.6,
             "#e6f5d0"
            ],
            [
             0.7,
             "#b8e186"
            ],
            [
             0.8,
             "#7fbc41"
            ],
            [
             0.9,
             "#4d9221"
            ],
            [
             1,
             "#276419"
            ]
           ],
           "sequential": [
            [
             0,
             "#0d0887"
            ],
            [
             0.1111111111111111,
             "#46039f"
            ],
            [
             0.2222222222222222,
             "#7201a8"
            ],
            [
             0.3333333333333333,
             "#9c179e"
            ],
            [
             0.4444444444444444,
             "#bd3786"
            ],
            [
             0.5555555555555556,
             "#d8576b"
            ],
            [
             0.6666666666666666,
             "#ed7953"
            ],
            [
             0.7777777777777778,
             "#fb9f3a"
            ],
            [
             0.8888888888888888,
             "#fdca26"
            ],
            [
             1,
             "#f0f921"
            ]
           ],
           "sequentialminus": [
            [
             0,
             "#0d0887"
            ],
            [
             0.1111111111111111,
             "#46039f"
            ],
            [
             0.2222222222222222,
             "#7201a8"
            ],
            [
             0.3333333333333333,
             "#9c179e"
            ],
            [
             0.4444444444444444,
             "#bd3786"
            ],
            [
             0.5555555555555556,
             "#d8576b"
            ],
            [
             0.6666666666666666,
             "#ed7953"
            ],
            [
             0.7777777777777778,
             "#fb9f3a"
            ],
            [
             0.8888888888888888,
             "#fdca26"
            ],
            [
             1,
             "#f0f921"
            ]
           ]
          },
          "colorway": [
           "#636efa",
           "#EF553B",
           "#00cc96",
           "#ab63fa",
           "#FFA15A",
           "#19d3f3",
           "#FF6692",
           "#B6E880",
           "#FF97FF",
           "#FECB52"
          ],
          "font": {
           "color": "#2a3f5f"
          },
          "geo": {
           "bgcolor": "white",
           "lakecolor": "white",
           "landcolor": "#E5ECF6",
           "showlakes": true,
           "showland": true,
           "subunitcolor": "white"
          },
          "hoverlabel": {
           "align": "left"
          },
          "hovermode": "closest",
          "mapbox": {
           "style": "light"
          },
          "paper_bgcolor": "white",
          "plot_bgcolor": "#E5ECF6",
          "polar": {
           "angularaxis": {
            "gridcolor": "white",
            "linecolor": "white",
            "ticks": ""
           },
           "bgcolor": "#E5ECF6",
           "radialaxis": {
            "gridcolor": "white",
            "linecolor": "white",
            "ticks": ""
           }
          },
          "scene": {
           "xaxis": {
            "backgroundcolor": "#E5ECF6",
            "gridcolor": "white",
            "gridwidth": 2,
            "linecolor": "white",
            "showbackground": true,
            "ticks": "",
            "zerolinecolor": "white"
           },
           "yaxis": {
            "backgroundcolor": "#E5ECF6",
            "gridcolor": "white",
            "gridwidth": 2,
            "linecolor": "white",
            "showbackground": true,
            "ticks": "",
            "zerolinecolor": "white"
           },
           "zaxis": {
            "backgroundcolor": "#E5ECF6",
            "gridcolor": "white",
            "gridwidth": 2,
            "linecolor": "white",
            "showbackground": true,
            "ticks": "",
            "zerolinecolor": "white"
           }
          },
          "shapedefaults": {
           "line": {
            "color": "#2a3f5f"
           }
          },
          "ternary": {
           "aaxis": {
            "gridcolor": "white",
            "linecolor": "white",
            "ticks": ""
           },
           "baxis": {
            "gridcolor": "white",
            "linecolor": "white",
            "ticks": ""
           },
           "bgcolor": "#E5ECF6",
           "caxis": {
            "gridcolor": "white",
            "linecolor": "white",
            "ticks": ""
           }
          },
          "title": {
           "x": 0.05
          },
          "xaxis": {
           "automargin": true,
           "gridcolor": "white",
           "linecolor": "white",
           "ticks": "",
           "title": {
            "standoff": 15
           },
           "zerolinecolor": "white",
           "zerolinewidth": 2
          },
          "yaxis": {
           "automargin": true,
           "gridcolor": "white",
           "linecolor": "white",
           "ticks": "",
           "title": {
            "standoff": 15
           },
           "zerolinecolor": "white",
           "zerolinewidth": 2
          }
         }
        },
        "title": {
         "text": ""
        },
        "updatemenus": [
         {
          "buttons": [
           {
            "args": [
             null,
             {
              "frame": {
               "duration": 300,
               "redraw": true
              },
              "fromcurrent": true
             }
            ],
            "label": "Play",
            "method": "animate"
           },
           {
            "args": [
             [
              null
             ],
             {
              "frame": {
               "duration": 0,
               "redraw": true
              },
              "mode": "immediate"
             }
            ],
            "label": "Pause",
            "method": "animate"
           }
          ],
          "direction": "left",
          "pad": {
           "r": 10,
           "t": 87
          },
          "showactive": false,
          "type": "buttons",
          "x": 0.1,
          "xanchor": "right",
          "y": 0,
          "yanchor": "top"
         }
        ],
        "width": 800
       }
      }
     },
     "metadata": {},
     "output_type": "display_data"
    }
   ],
   "source": [
    "options = {\n",
    "    'title': '',\n",
    "    'time_range': range(2002, 2018),\n",
    "    'time_label': 'year',\n",
    "    'location_label': 'location',\n",
    "    'value_label': 'count',\n",
    "    'range_color': [1, 4],\n",
    "    'color_scale': 'Viridis'\n",
    "}\n",
    "plot_map_time(df_states_no_US, df_states_US, options)"
   ]
  },
  {
   "cell_type": "code",
   "execution_count": 18,
   "metadata": {},
   "outputs": [
    {
     "data": {
      "application/vnd.plotly.v1+json": {
       "config": {
        "plotlyServerURL": "https://plot.ly"
       },
       "data": [
        {
         "marker": {
          "size": 4
         },
         "mode": "lines+markers",
         "name": "Rhode Island",
         "type": "scatter",
         "x": [
          2000,
          2001,
          2002,
          2003,
          2004,
          2005,
          2006,
          2007,
          2008,
          2009,
          2010,
          2011,
          2012,
          2013,
          2014,
          2015,
          2016,
          2017
         ],
         "y": [
          1.7666666666666666,
          4.129333333333333,
          3.8897435897435892,
          3.2700000000000005,
          3.572222222222222,
          3.2285714285714286,
          3.0183035714285715,
          3.276889848812095,
          3.524561403508772,
          3.486067415730337,
          3.549444444444444,
          3.4571865443425076,
          3.5653508771929823,
          3.6662835249042143,
          3.608713692946058,
          3.6991525423728815,
          3.591044776119403,
          4.052173913043478
         ]
        },
        {
         "marker": {
          "size": 4
         },
         "mode": "lines+markers",
         "name": "Arizona",
         "type": "scatter",
         "x": [
          2000,
          2001,
          2002,
          2003,
          2004,
          2005,
          2006,
          2007,
          2008,
          2009,
          2010,
          2011,
          2012,
          2013,
          2014,
          2015,
          2016,
          2017
         ],
         "y": [
          3.8564516129032254,
          3.5475000000000003,
          3.3434285714285714,
          3.382506102522376,
          3.2233866519580805,
          2.9401673640167365,
          3.328461806766655,
          3.352243670092755,
          3.354035231462515,
          3.3632605531295487,
          3.4374567316451086,
          3.5390036654448513,
          3.6044844632768362,
          3.7052496217851743,
          3.769057581191473,
          3.7429759299781185,
          3.793312757201646,
          3.813595933926303
         ]
        },
        {
         "marker": {
          "size": 4
         },
         "mode": "lines+markers",
         "name": "Vermont",
         "type": "scatter",
         "x": [
          2001,
          2002,
          2003,
          2004,
          2005,
          2006,
          2007,
          2008,
          2009,
          2010,
          2011,
          2012,
          2013,
          2014,
          2015,
          2016,
          2017
         ],
         "y": [
          3.2517241379310344,
          3.441304347826087,
          3.4360000000000004,
          3.285185185185185,
          3.1897133220910625,
          3.3310734463276837,
          3.4981818181818185,
          3.2924295774647887,
          3.3471400394477318,
          3.554685494223363,
          3.5280254777070064,
          3.6128695652173914,
          3.60557880055788,
          3.3391228070175436,
          3.636345108695652,
          3.74299711815562,
          3.5709083119108826
         ]
        },
        {
         "marker": {
          "size": 4
         },
         "mode": "lines+markers",
         "name": "Utah",
         "type": "scatter",
         "x": [
          2000,
          2001,
          2002,
          2003,
          2004,
          2005,
          2006,
          2007,
          2008,
          2009,
          2010,
          2011,
          2012,
          2013,
          2014,
          2015,
          2016,
          2017
         ],
         "y": [
          3.35859375,
          3.711764705882353,
          3.4918032786885247,
          3.4690909090909092,
          3.3641860465116276,
          3.170103092783505,
          3.556291390728477,
          3.3611842105263157,
          3.307103825136612,
          3.508717948717949,
          3.370828331332533,
          3.5009734513274338,
          3.4975147155003268,
          3.5091822094691536,
          3.4833956219967965,
          3.524944320712695,
          3.434311926605505,
          3.393318485523385
         ]
        },
        {
         "marker": {
          "size": 4
         },
         "mode": "lines+markers",
         "name": "Connecticut",
         "type": "scatter",
         "x": [
          2000,
          2001,
          2002,
          2003,
          2004,
          2005,
          2006,
          2007,
          2008,
          2009,
          2010,
          2011,
          2012,
          2013,
          2014,
          2015,
          2016,
          2017
         ],
         "y": [
          3.5200000000000005,
          3.301690821256039,
          3.3859712230215826,
          3.4860946745562127,
          3.428375733855186,
          3.432177894048398,
          3.3520962732919255,
          3.350969666832422,
          3.2243535988819008,
          3.370461405778353,
          3.4158023184868824,
          3.459674582233949,
          3.5073390894819467,
          3.563815789473684,
          3.63005657708628,
          3.620397208803006,
          3.6602605863192186,
          3.6701072386058984
         ]
        }
       ],
       "layout": {
        "height": 600,
        "template": {
         "data": {
          "bar": [
           {
            "error_x": {
             "color": "#2a3f5f"
            },
            "error_y": {
             "color": "#2a3f5f"
            },
            "marker": {
             "line": {
              "color": "#E5ECF6",
              "width": 0.5
             },
             "pattern": {
              "fillmode": "overlay",
              "size": 10,
              "solidity": 0.2
             }
            },
            "type": "bar"
           }
          ],
          "barpolar": [
           {
            "marker": {
             "line": {
              "color": "#E5ECF6",
              "width": 0.5
             },
             "pattern": {
              "fillmode": "overlay",
              "size": 10,
              "solidity": 0.2
             }
            },
            "type": "barpolar"
           }
          ],
          "carpet": [
           {
            "aaxis": {
             "endlinecolor": "#2a3f5f",
             "gridcolor": "white",
             "linecolor": "white",
             "minorgridcolor": "white",
             "startlinecolor": "#2a3f5f"
            },
            "baxis": {
             "endlinecolor": "#2a3f5f",
             "gridcolor": "white",
             "linecolor": "white",
             "minorgridcolor": "white",
             "startlinecolor": "#2a3f5f"
            },
            "type": "carpet"
           }
          ],
          "choropleth": [
           {
            "colorbar": {
             "outlinewidth": 0,
             "ticks": ""
            },
            "type": "choropleth"
           }
          ],
          "contour": [
           {
            "colorbar": {
             "outlinewidth": 0,
             "ticks": ""
            },
            "colorscale": [
             [
              0,
              "#0d0887"
             ],
             [
              0.1111111111111111,
              "#46039f"
             ],
             [
              0.2222222222222222,
              "#7201a8"
             ],
             [
              0.3333333333333333,
              "#9c179e"
             ],
             [
              0.4444444444444444,
              "#bd3786"
             ],
             [
              0.5555555555555556,
              "#d8576b"
             ],
             [
              0.6666666666666666,
              "#ed7953"
             ],
             [
              0.7777777777777778,
              "#fb9f3a"
             ],
             [
              0.8888888888888888,
              "#fdca26"
             ],
             [
              1,
              "#f0f921"
             ]
            ],
            "type": "contour"
           }
          ],
          "contourcarpet": [
           {
            "colorbar": {
             "outlinewidth": 0,
             "ticks": ""
            },
            "type": "contourcarpet"
           }
          ],
          "heatmap": [
           {
            "colorbar": {
             "outlinewidth": 0,
             "ticks": ""
            },
            "colorscale": [
             [
              0,
              "#0d0887"
             ],
             [
              0.1111111111111111,
              "#46039f"
             ],
             [
              0.2222222222222222,
              "#7201a8"
             ],
             [
              0.3333333333333333,
              "#9c179e"
             ],
             [
              0.4444444444444444,
              "#bd3786"
             ],
             [
              0.5555555555555556,
              "#d8576b"
             ],
             [
              0.6666666666666666,
              "#ed7953"
             ],
             [
              0.7777777777777778,
              "#fb9f3a"
             ],
             [
              0.8888888888888888,
              "#fdca26"
             ],
             [
              1,
              "#f0f921"
             ]
            ],
            "type": "heatmap"
           }
          ],
          "heatmapgl": [
           {
            "colorbar": {
             "outlinewidth": 0,
             "ticks": ""
            },
            "colorscale": [
             [
              0,
              "#0d0887"
             ],
             [
              0.1111111111111111,
              "#46039f"
             ],
             [
              0.2222222222222222,
              "#7201a8"
             ],
             [
              0.3333333333333333,
              "#9c179e"
             ],
             [
              0.4444444444444444,
              "#bd3786"
             ],
             [
              0.5555555555555556,
              "#d8576b"
             ],
             [
              0.6666666666666666,
              "#ed7953"
             ],
             [
              0.7777777777777778,
              "#fb9f3a"
             ],
             [
              0.8888888888888888,
              "#fdca26"
             ],
             [
              1,
              "#f0f921"
             ]
            ],
            "type": "heatmapgl"
           }
          ],
          "histogram": [
           {
            "marker": {
             "pattern": {
              "fillmode": "overlay",
              "size": 10,
              "solidity": 0.2
             }
            },
            "type": "histogram"
           }
          ],
          "histogram2d": [
           {
            "colorbar": {
             "outlinewidth": 0,
             "ticks": ""
            },
            "colorscale": [
             [
              0,
              "#0d0887"
             ],
             [
              0.1111111111111111,
              "#46039f"
             ],
             [
              0.2222222222222222,
              "#7201a8"
             ],
             [
              0.3333333333333333,
              "#9c179e"
             ],
             [
              0.4444444444444444,
              "#bd3786"
             ],
             [
              0.5555555555555556,
              "#d8576b"
             ],
             [
              0.6666666666666666,
              "#ed7953"
             ],
             [
              0.7777777777777778,
              "#fb9f3a"
             ],
             [
              0.8888888888888888,
              "#fdca26"
             ],
             [
              1,
              "#f0f921"
             ]
            ],
            "type": "histogram2d"
           }
          ],
          "histogram2dcontour": [
           {
            "colorbar": {
             "outlinewidth": 0,
             "ticks": ""
            },
            "colorscale": [
             [
              0,
              "#0d0887"
             ],
             [
              0.1111111111111111,
              "#46039f"
             ],
             [
              0.2222222222222222,
              "#7201a8"
             ],
             [
              0.3333333333333333,
              "#9c179e"
             ],
             [
              0.4444444444444444,
              "#bd3786"
             ],
             [
              0.5555555555555556,
              "#d8576b"
             ],
             [
              0.6666666666666666,
              "#ed7953"
             ],
             [
              0.7777777777777778,
              "#fb9f3a"
             ],
             [
              0.8888888888888888,
              "#fdca26"
             ],
             [
              1,
              "#f0f921"
             ]
            ],
            "type": "histogram2dcontour"
           }
          ],
          "mesh3d": [
           {
            "colorbar": {
             "outlinewidth": 0,
             "ticks": ""
            },
            "type": "mesh3d"
           }
          ],
          "parcoords": [
           {
            "line": {
             "colorbar": {
              "outlinewidth": 0,
              "ticks": ""
             }
            },
            "type": "parcoords"
           }
          ],
          "pie": [
           {
            "automargin": true,
            "type": "pie"
           }
          ],
          "scatter": [
           {
            "fillpattern": {
             "fillmode": "overlay",
             "size": 10,
             "solidity": 0.2
            },
            "type": "scatter"
           }
          ],
          "scatter3d": [
           {
            "line": {
             "colorbar": {
              "outlinewidth": 0,
              "ticks": ""
             }
            },
            "marker": {
             "colorbar": {
              "outlinewidth": 0,
              "ticks": ""
             }
            },
            "type": "scatter3d"
           }
          ],
          "scattercarpet": [
           {
            "marker": {
             "colorbar": {
              "outlinewidth": 0,
              "ticks": ""
             }
            },
            "type": "scattercarpet"
           }
          ],
          "scattergeo": [
           {
            "marker": {
             "colorbar": {
              "outlinewidth": 0,
              "ticks": ""
             }
            },
            "type": "scattergeo"
           }
          ],
          "scattergl": [
           {
            "marker": {
             "colorbar": {
              "outlinewidth": 0,
              "ticks": ""
             }
            },
            "type": "scattergl"
           }
          ],
          "scattermapbox": [
           {
            "marker": {
             "colorbar": {
              "outlinewidth": 0,
              "ticks": ""
             }
            },
            "type": "scattermapbox"
           }
          ],
          "scatterpolar": [
           {
            "marker": {
             "colorbar": {
              "outlinewidth": 0,
              "ticks": ""
             }
            },
            "type": "scatterpolar"
           }
          ],
          "scatterpolargl": [
           {
            "marker": {
             "colorbar": {
              "outlinewidth": 0,
              "ticks": ""
             }
            },
            "type": "scatterpolargl"
           }
          ],
          "scatterternary": [
           {
            "marker": {
             "colorbar": {
              "outlinewidth": 0,
              "ticks": ""
             }
            },
            "type": "scatterternary"
           }
          ],
          "surface": [
           {
            "colorbar": {
             "outlinewidth": 0,
             "ticks": ""
            },
            "colorscale": [
             [
              0,
              "#0d0887"
             ],
             [
              0.1111111111111111,
              "#46039f"
             ],
             [
              0.2222222222222222,
              "#7201a8"
             ],
             [
              0.3333333333333333,
              "#9c179e"
             ],
             [
              0.4444444444444444,
              "#bd3786"
             ],
             [
              0.5555555555555556,
              "#d8576b"
             ],
             [
              0.6666666666666666,
              "#ed7953"
             ],
             [
              0.7777777777777778,
              "#fb9f3a"
             ],
             [
              0.8888888888888888,
              "#fdca26"
             ],
             [
              1,
              "#f0f921"
             ]
            ],
            "type": "surface"
           }
          ],
          "table": [
           {
            "cells": {
             "fill": {
              "color": "#EBF0F8"
             },
             "line": {
              "color": "white"
             }
            },
            "header": {
             "fill": {
              "color": "#C8D4E3"
             },
             "line": {
              "color": "white"
             }
            },
            "type": "table"
           }
          ]
         },
         "layout": {
          "annotationdefaults": {
           "arrowcolor": "#2a3f5f",
           "arrowhead": 0,
           "arrowwidth": 1
          },
          "autotypenumbers": "strict",
          "coloraxis": {
           "colorbar": {
            "outlinewidth": 0,
            "ticks": ""
           }
          },
          "colorscale": {
           "diverging": [
            [
             0,
             "#8e0152"
            ],
            [
             0.1,
             "#c51b7d"
            ],
            [
             0.2,
             "#de77ae"
            ],
            [
             0.3,
             "#f1b6da"
            ],
            [
             0.4,
             "#fde0ef"
            ],
            [
             0.5,
             "#f7f7f7"
            ],
            [
             0.6,
             "#e6f5d0"
            ],
            [
             0.7,
             "#b8e186"
            ],
            [
             0.8,
             "#7fbc41"
            ],
            [
             0.9,
             "#4d9221"
            ],
            [
             1,
             "#276419"
            ]
           ],
           "sequential": [
            [
             0,
             "#0d0887"
            ],
            [
             0.1111111111111111,
             "#46039f"
            ],
            [
             0.2222222222222222,
             "#7201a8"
            ],
            [
             0.3333333333333333,
             "#9c179e"
            ],
            [
             0.4444444444444444,
             "#bd3786"
            ],
            [
             0.5555555555555556,
             "#d8576b"
            ],
            [
             0.6666666666666666,
             "#ed7953"
            ],
            [
             0.7777777777777778,
             "#fb9f3a"
            ],
            [
             0.8888888888888888,
             "#fdca26"
            ],
            [
             1,
             "#f0f921"
            ]
           ],
           "sequentialminus": [
            [
             0,
             "#0d0887"
            ],
            [
             0.1111111111111111,
             "#46039f"
            ],
            [
             0.2222222222222222,
             "#7201a8"
            ],
            [
             0.3333333333333333,
             "#9c179e"
            ],
            [
             0.4444444444444444,
             "#bd3786"
            ],
            [
             0.5555555555555556,
             "#d8576b"
            ],
            [
             0.6666666666666666,
             "#ed7953"
            ],
            [
             0.7777777777777778,
             "#fb9f3a"
            ],
            [
             0.8888888888888888,
             "#fdca26"
            ],
            [
             1,
             "#f0f921"
            ]
           ]
          },
          "colorway": [
           "#636efa",
           "#EF553B",
           "#00cc96",
           "#ab63fa",
           "#FFA15A",
           "#19d3f3",
           "#FF6692",
           "#B6E880",
           "#FF97FF",
           "#FECB52"
          ],
          "font": {
           "color": "#2a3f5f"
          },
          "geo": {
           "bgcolor": "white",
           "lakecolor": "white",
           "landcolor": "#E5ECF6",
           "showlakes": true,
           "showland": true,
           "subunitcolor": "white"
          },
          "hoverlabel": {
           "align": "left"
          },
          "hovermode": "closest",
          "mapbox": {
           "style": "light"
          },
          "paper_bgcolor": "white",
          "plot_bgcolor": "#E5ECF6",
          "polar": {
           "angularaxis": {
            "gridcolor": "white",
            "linecolor": "white",
            "ticks": ""
           },
           "bgcolor": "#E5ECF6",
           "radialaxis": {
            "gridcolor": "white",
            "linecolor": "white",
            "ticks": ""
           }
          },
          "scene": {
           "xaxis": {
            "backgroundcolor": "#E5ECF6",
            "gridcolor": "white",
            "gridwidth": 2,
            "linecolor": "white",
            "showbackground": true,
            "ticks": "",
            "zerolinecolor": "white"
           },
           "yaxis": {
            "backgroundcolor": "#E5ECF6",
            "gridcolor": "white",
            "gridwidth": 2,
            "linecolor": "white",
            "showbackground": true,
            "ticks": "",
            "zerolinecolor": "white"
           },
           "zaxis": {
            "backgroundcolor": "#E5ECF6",
            "gridcolor": "white",
            "gridwidth": 2,
            "linecolor": "white",
            "showbackground": true,
            "ticks": "",
            "zerolinecolor": "white"
           }
          },
          "shapedefaults": {
           "line": {
            "color": "#2a3f5f"
           }
          },
          "ternary": {
           "aaxis": {
            "gridcolor": "white",
            "linecolor": "white",
            "ticks": ""
           },
           "baxis": {
            "gridcolor": "white",
            "linecolor": "white",
            "ticks": ""
           },
           "bgcolor": "#E5ECF6",
           "caxis": {
            "gridcolor": "white",
            "linecolor": "white",
            "ticks": ""
           }
          },
          "title": {
           "x": 0.05
          },
          "xaxis": {
           "automargin": true,
           "gridcolor": "white",
           "linecolor": "white",
           "ticks": "",
           "title": {
            "standoff": 15
           },
           "zerolinecolor": "white",
           "zerolinewidth": 2
          },
          "yaxis": {
           "automargin": true,
           "gridcolor": "white",
           "linecolor": "white",
           "ticks": "",
           "title": {
            "standoff": 15
           },
           "zerolinecolor": "white",
           "zerolinewidth": 2
          }
         }
        },
        "title": {
         "text": "Average rating per year for the top 5 US states"
        },
        "width": 800,
        "xaxis": {
         "dtick": 2,
         "tick0": 2002,
         "tickmode": "linear",
         "title": {
          "text": "Year"
         }
        },
        "yaxis": {
         "title": {
          "text": "Average rating"
         }
        }
       }
      }
     },
     "metadata": {},
     "output_type": "display_data"
    }
   ],
   "source": [
    "obj = {}\n",
    "for state in average_rating_US.sort_values('count', ascending=False).head(5)['location']:\n",
    "    filtered = df_ratings_no_text[df_ratings_no_text['state_user'] == state].groupby('year').agg({'rating': 'mean'}).reset_index()\n",
    "    obj[state] = filtered\n",
    "obj_combined = obj\n",
    "plots_values_over_time(obj, 'year', 'rating', 'Year', 'Average rating', 'Average rating per year for the top 5 US states')"
   ]
  },
  {
   "cell_type": "code",
   "execution_count": 19,
   "metadata": {},
   "outputs": [
    {
     "data": {
      "application/vnd.plotly.v1+json": {
       "config": {
        "plotlyServerURL": "https://plot.ly"
       },
       "data": [
        {
         "marker": {
          "size": 4
         },
         "mode": "lines+markers",
         "name": "Puerto Rico",
         "type": "scatter",
         "x": [
          2001,
          2006,
          2008,
          2009,
          2010,
          2011,
          2012,
          2013,
          2014,
          2015,
          2016,
          2017
         ],
         "y": [
          1.8,
          3.590909090909091,
          3.5,
          3.5833333333333335,
          4.3125,
          3.6333333333333333,
          3.7235955056179773,
          3.432352941176471,
          3.2790697674418605,
          3.388235294117647,
          3.9,
          5
         ]
        },
        {
         "marker": {
          "size": 4
         },
         "mode": "lines+markers",
         "name": "Romania",
         "type": "scatter",
         "x": [
          2004,
          2005,
          2006,
          2007,
          2008,
          2010,
          2011,
          2012,
          2013,
          2014,
          2015,
          2016,
          2017
         ],
         "y": [
          5,
          4.7,
          5,
          3.725,
          3.6999999999999997,
          2,
          3.5384615384615383,
          3.065161290322581,
          3.151685393258427,
          3.1674641148325358,
          3.443071161048689,
          3.5357142857142856,
          3.620846493998737
         ]
        },
        {
         "marker": {
          "size": 4
         },
         "mode": "lines+markers",
         "name": "Singapore",
         "type": "scatter",
         "x": [
          2002,
          2003,
          2004,
          2005,
          2006,
          2007,
          2008,
          2009,
          2010,
          2011,
          2012,
          2013,
          2014,
          2015,
          2016,
          2017
         ],
         "y": [
          2.05,
          2.481818181818182,
          1.85,
          2.623076923076923,
          2.433333333333333,
          3.4,
          4,
          2.410344827586207,
          3.3600000000000003,
          2.98,
          3.6999999999999997,
          3.292307692307692,
          3.5171875,
          3.4724358974358975,
          3.653452685421995,
          3.626148409893993
         ]
        },
        {
         "marker": {
          "size": 4
         },
         "mode": "lines+markers",
         "name": "Greece",
         "type": "scatter",
         "x": [
          2004,
          2005,
          2006,
          2007,
          2008,
          2009,
          2010,
          2011,
          2012,
          2013,
          2014,
          2015,
          2016,
          2017
         ],
         "y": [
          2.6666666666666665,
          2.25,
          3.105714285714286,
          2,
          4.433333333333334,
          3.1005555555555557,
          3.1497041420118346,
          3.4320203303684877,
          3.3723169508525577,
          3.3443148688046644,
          3.371190476190476,
          3.416173752310536,
          3.6060678167757287,
          3.7685741998060136
         ]
        },
        {
         "marker": {
          "size": 4
         },
         "mode": "lines+markers",
         "name": "Japan",
         "type": "scatter",
         "x": [
          2002,
          2003,
          2004,
          2005,
          2006,
          2007,
          2008,
          2009,
          2010,
          2011,
          2012,
          2013,
          2014,
          2015,
          2016,
          2017
         ],
         "y": [
          2.993262411347518,
          3.1335365853658534,
          3.0819727891156465,
          3.1796934865900384,
          3.2224999999999997,
          3.2226027397260273,
          3.354988662131519,
          3.327838357921745,
          3.3158199356913185,
          3.359766963673749,
          3.4266047638272106,
          3.377828447339848,
          3.438906817265026,
          3.458010001724435,
          3.519275723318643,
          3.5615191986644406
         ]
        }
       ],
       "layout": {
        "height": 600,
        "template": {
         "data": {
          "bar": [
           {
            "error_x": {
             "color": "#2a3f5f"
            },
            "error_y": {
             "color": "#2a3f5f"
            },
            "marker": {
             "line": {
              "color": "#E5ECF6",
              "width": 0.5
             },
             "pattern": {
              "fillmode": "overlay",
              "size": 10,
              "solidity": 0.2
             }
            },
            "type": "bar"
           }
          ],
          "barpolar": [
           {
            "marker": {
             "line": {
              "color": "#E5ECF6",
              "width": 0.5
             },
             "pattern": {
              "fillmode": "overlay",
              "size": 10,
              "solidity": 0.2
             }
            },
            "type": "barpolar"
           }
          ],
          "carpet": [
           {
            "aaxis": {
             "endlinecolor": "#2a3f5f",
             "gridcolor": "white",
             "linecolor": "white",
             "minorgridcolor": "white",
             "startlinecolor": "#2a3f5f"
            },
            "baxis": {
             "endlinecolor": "#2a3f5f",
             "gridcolor": "white",
             "linecolor": "white",
             "minorgridcolor": "white",
             "startlinecolor": "#2a3f5f"
            },
            "type": "carpet"
           }
          ],
          "choropleth": [
           {
            "colorbar": {
             "outlinewidth": 0,
             "ticks": ""
            },
            "type": "choropleth"
           }
          ],
          "contour": [
           {
            "colorbar": {
             "outlinewidth": 0,
             "ticks": ""
            },
            "colorscale": [
             [
              0,
              "#0d0887"
             ],
             [
              0.1111111111111111,
              "#46039f"
             ],
             [
              0.2222222222222222,
              "#7201a8"
             ],
             [
              0.3333333333333333,
              "#9c179e"
             ],
             [
              0.4444444444444444,
              "#bd3786"
             ],
             [
              0.5555555555555556,
              "#d8576b"
             ],
             [
              0.6666666666666666,
              "#ed7953"
             ],
             [
              0.7777777777777778,
              "#fb9f3a"
             ],
             [
              0.8888888888888888,
              "#fdca26"
             ],
             [
              1,
              "#f0f921"
             ]
            ],
            "type": "contour"
           }
          ],
          "contourcarpet": [
           {
            "colorbar": {
             "outlinewidth": 0,
             "ticks": ""
            },
            "type": "contourcarpet"
           }
          ],
          "heatmap": [
           {
            "colorbar": {
             "outlinewidth": 0,
             "ticks": ""
            },
            "colorscale": [
             [
              0,
              "#0d0887"
             ],
             [
              0.1111111111111111,
              "#46039f"
             ],
             [
              0.2222222222222222,
              "#7201a8"
             ],
             [
              0.3333333333333333,
              "#9c179e"
             ],
             [
              0.4444444444444444,
              "#bd3786"
             ],
             [
              0.5555555555555556,
              "#d8576b"
             ],
             [
              0.6666666666666666,
              "#ed7953"
             ],
             [
              0.7777777777777778,
              "#fb9f3a"
             ],
             [
              0.8888888888888888,
              "#fdca26"
             ],
             [
              1,
              "#f0f921"
             ]
            ],
            "type": "heatmap"
           }
          ],
          "heatmapgl": [
           {
            "colorbar": {
             "outlinewidth": 0,
             "ticks": ""
            },
            "colorscale": [
             [
              0,
              "#0d0887"
             ],
             [
              0.1111111111111111,
              "#46039f"
             ],
             [
              0.2222222222222222,
              "#7201a8"
             ],
             [
              0.3333333333333333,
              "#9c179e"
             ],
             [
              0.4444444444444444,
              "#bd3786"
             ],
             [
              0.5555555555555556,
              "#d8576b"
             ],
             [
              0.6666666666666666,
              "#ed7953"
             ],
             [
              0.7777777777777778,
              "#fb9f3a"
             ],
             [
              0.8888888888888888,
              "#fdca26"
             ],
             [
              1,
              "#f0f921"
             ]
            ],
            "type": "heatmapgl"
           }
          ],
          "histogram": [
           {
            "marker": {
             "pattern": {
              "fillmode": "overlay",
              "size": 10,
              "solidity": 0.2
             }
            },
            "type": "histogram"
           }
          ],
          "histogram2d": [
           {
            "colorbar": {
             "outlinewidth": 0,
             "ticks": ""
            },
            "colorscale": [
             [
              0,
              "#0d0887"
             ],
             [
              0.1111111111111111,
              "#46039f"
             ],
             [
              0.2222222222222222,
              "#7201a8"
             ],
             [
              0.3333333333333333,
              "#9c179e"
             ],
             [
              0.4444444444444444,
              "#bd3786"
             ],
             [
              0.5555555555555556,
              "#d8576b"
             ],
             [
              0.6666666666666666,
              "#ed7953"
             ],
             [
              0.7777777777777778,
              "#fb9f3a"
             ],
             [
              0.8888888888888888,
              "#fdca26"
             ],
             [
              1,
              "#f0f921"
             ]
            ],
            "type": "histogram2d"
           }
          ],
          "histogram2dcontour": [
           {
            "colorbar": {
             "outlinewidth": 0,
             "ticks": ""
            },
            "colorscale": [
             [
              0,
              "#0d0887"
             ],
             [
              0.1111111111111111,
              "#46039f"
             ],
             [
              0.2222222222222222,
              "#7201a8"
             ],
             [
              0.3333333333333333,
              "#9c179e"
             ],
             [
              0.4444444444444444,
              "#bd3786"
             ],
             [
              0.5555555555555556,
              "#d8576b"
             ],
             [
              0.6666666666666666,
              "#ed7953"
             ],
             [
              0.7777777777777778,
              "#fb9f3a"
             ],
             [
              0.8888888888888888,
              "#fdca26"
             ],
             [
              1,
              "#f0f921"
             ]
            ],
            "type": "histogram2dcontour"
           }
          ],
          "mesh3d": [
           {
            "colorbar": {
             "outlinewidth": 0,
             "ticks": ""
            },
            "type": "mesh3d"
           }
          ],
          "parcoords": [
           {
            "line": {
             "colorbar": {
              "outlinewidth": 0,
              "ticks": ""
             }
            },
            "type": "parcoords"
           }
          ],
          "pie": [
           {
            "automargin": true,
            "type": "pie"
           }
          ],
          "scatter": [
           {
            "fillpattern": {
             "fillmode": "overlay",
             "size": 10,
             "solidity": 0.2
            },
            "type": "scatter"
           }
          ],
          "scatter3d": [
           {
            "line": {
             "colorbar": {
              "outlinewidth": 0,
              "ticks": ""
             }
            },
            "marker": {
             "colorbar": {
              "outlinewidth": 0,
              "ticks": ""
             }
            },
            "type": "scatter3d"
           }
          ],
          "scattercarpet": [
           {
            "marker": {
             "colorbar": {
              "outlinewidth": 0,
              "ticks": ""
             }
            },
            "type": "scattercarpet"
           }
          ],
          "scattergeo": [
           {
            "marker": {
             "colorbar": {
              "outlinewidth": 0,
              "ticks": ""
             }
            },
            "type": "scattergeo"
           }
          ],
          "scattergl": [
           {
            "marker": {
             "colorbar": {
              "outlinewidth": 0,
              "ticks": ""
             }
            },
            "type": "scattergl"
           }
          ],
          "scattermapbox": [
           {
            "marker": {
             "colorbar": {
              "outlinewidth": 0,
              "ticks": ""
             }
            },
            "type": "scattermapbox"
           }
          ],
          "scatterpolar": [
           {
            "marker": {
             "colorbar": {
              "outlinewidth": 0,
              "ticks": ""
             }
            },
            "type": "scatterpolar"
           }
          ],
          "scatterpolargl": [
           {
            "marker": {
             "colorbar": {
              "outlinewidth": 0,
              "ticks": ""
             }
            },
            "type": "scatterpolargl"
           }
          ],
          "scatterternary": [
           {
            "marker": {
             "colorbar": {
              "outlinewidth": 0,
              "ticks": ""
             }
            },
            "type": "scatterternary"
           }
          ],
          "surface": [
           {
            "colorbar": {
             "outlinewidth": 0,
             "ticks": ""
            },
            "colorscale": [
             [
              0,
              "#0d0887"
             ],
             [
              0.1111111111111111,
              "#46039f"
             ],
             [
              0.2222222222222222,
              "#7201a8"
             ],
             [
              0.3333333333333333,
              "#9c179e"
             ],
             [
              0.4444444444444444,
              "#bd3786"
             ],
             [
              0.5555555555555556,
              "#d8576b"
             ],
             [
              0.6666666666666666,
              "#ed7953"
             ],
             [
              0.7777777777777778,
              "#fb9f3a"
             ],
             [
              0.8888888888888888,
              "#fdca26"
             ],
             [
              1,
              "#f0f921"
             ]
            ],
            "type": "surface"
           }
          ],
          "table": [
           {
            "cells": {
             "fill": {
              "color": "#EBF0F8"
             },
             "line": {
              "color": "white"
             }
            },
            "header": {
             "fill": {
              "color": "#C8D4E3"
             },
             "line": {
              "color": "white"
             }
            },
            "type": "table"
           }
          ]
         },
         "layout": {
          "annotationdefaults": {
           "arrowcolor": "#2a3f5f",
           "arrowhead": 0,
           "arrowwidth": 1
          },
          "autotypenumbers": "strict",
          "coloraxis": {
           "colorbar": {
            "outlinewidth": 0,
            "ticks": ""
           }
          },
          "colorscale": {
           "diverging": [
            [
             0,
             "#8e0152"
            ],
            [
             0.1,
             "#c51b7d"
            ],
            [
             0.2,
             "#de77ae"
            ],
            [
             0.3,
             "#f1b6da"
            ],
            [
             0.4,
             "#fde0ef"
            ],
            [
             0.5,
             "#f7f7f7"
            ],
            [
             0.6,
             "#e6f5d0"
            ],
            [
             0.7,
             "#b8e186"
            ],
            [
             0.8,
             "#7fbc41"
            ],
            [
             0.9,
             "#4d9221"
            ],
            [
             1,
             "#276419"
            ]
           ],
           "sequential": [
            [
             0,
             "#0d0887"
            ],
            [
             0.1111111111111111,
             "#46039f"
            ],
            [
             0.2222222222222222,
             "#7201a8"
            ],
            [
             0.3333333333333333,
             "#9c179e"
            ],
            [
             0.4444444444444444,
             "#bd3786"
            ],
            [
             0.5555555555555556,
             "#d8576b"
            ],
            [
             0.6666666666666666,
             "#ed7953"
            ],
            [
             0.7777777777777778,
             "#fb9f3a"
            ],
            [
             0.8888888888888888,
             "#fdca26"
            ],
            [
             1,
             "#f0f921"
            ]
           ],
           "sequentialminus": [
            [
             0,
             "#0d0887"
            ],
            [
             0.1111111111111111,
             "#46039f"
            ],
            [
             0.2222222222222222,
             "#7201a8"
            ],
            [
             0.3333333333333333,
             "#9c179e"
            ],
            [
             0.4444444444444444,
             "#bd3786"
            ],
            [
             0.5555555555555556,
             "#d8576b"
            ],
            [
             0.6666666666666666,
             "#ed7953"
            ],
            [
             0.7777777777777778,
             "#fb9f3a"
            ],
            [
             0.8888888888888888,
             "#fdca26"
            ],
            [
             1,
             "#f0f921"
            ]
           ]
          },
          "colorway": [
           "#636efa",
           "#EF553B",
           "#00cc96",
           "#ab63fa",
           "#FFA15A",
           "#19d3f3",
           "#FF6692",
           "#B6E880",
           "#FF97FF",
           "#FECB52"
          ],
          "font": {
           "color": "#2a3f5f"
          },
          "geo": {
           "bgcolor": "white",
           "lakecolor": "white",
           "landcolor": "#E5ECF6",
           "showlakes": true,
           "showland": true,
           "subunitcolor": "white"
          },
          "hoverlabel": {
           "align": "left"
          },
          "hovermode": "closest",
          "mapbox": {
           "style": "light"
          },
          "paper_bgcolor": "white",
          "plot_bgcolor": "#E5ECF6",
          "polar": {
           "angularaxis": {
            "gridcolor": "white",
            "linecolor": "white",
            "ticks": ""
           },
           "bgcolor": "#E5ECF6",
           "radialaxis": {
            "gridcolor": "white",
            "linecolor": "white",
            "ticks": ""
           }
          },
          "scene": {
           "xaxis": {
            "backgroundcolor": "#E5ECF6",
            "gridcolor": "white",
            "gridwidth": 2,
            "linecolor": "white",
            "showbackground": true,
            "ticks": "",
            "zerolinecolor": "white"
           },
           "yaxis": {
            "backgroundcolor": "#E5ECF6",
            "gridcolor": "white",
            "gridwidth": 2,
            "linecolor": "white",
            "showbackground": true,
            "ticks": "",
            "zerolinecolor": "white"
           },
           "zaxis": {
            "backgroundcolor": "#E5ECF6",
            "gridcolor": "white",
            "gridwidth": 2,
            "linecolor": "white",
            "showbackground": true,
            "ticks": "",
            "zerolinecolor": "white"
           }
          },
          "shapedefaults": {
           "line": {
            "color": "#2a3f5f"
           }
          },
          "ternary": {
           "aaxis": {
            "gridcolor": "white",
            "linecolor": "white",
            "ticks": ""
           },
           "baxis": {
            "gridcolor": "white",
            "linecolor": "white",
            "ticks": ""
           },
           "bgcolor": "#E5ECF6",
           "caxis": {
            "gridcolor": "white",
            "linecolor": "white",
            "ticks": ""
           }
          },
          "title": {
           "x": 0.05
          },
          "xaxis": {
           "automargin": true,
           "gridcolor": "white",
           "linecolor": "white",
           "ticks": "",
           "title": {
            "standoff": 15
           },
           "zerolinecolor": "white",
           "zerolinewidth": 2
          },
          "yaxis": {
           "automargin": true,
           "gridcolor": "white",
           "linecolor": "white",
           "ticks": "",
           "title": {
            "standoff": 15
           },
           "zerolinecolor": "white",
           "zerolinewidth": 2
          }
         }
        },
        "title": {
         "text": "Average rating per year for the top 5 non-US countries"
        },
        "width": 800,
        "xaxis": {
         "dtick": 2,
         "tick0": 2002,
         "tickmode": "linear",
         "title": {
          "text": "Year"
         }
        },
        "yaxis": {
         "title": {
          "text": "Average rating"
         }
        }
       }
      }
     },
     "metadata": {},
     "output_type": "display_data"
    }
   ],
   "source": [
    "obj = {}\n",
    "for state in average_rating_no_US.sort_values('count', ascending=False).head(5)['location']:\n",
    "    filtered = df_ratings_no_text[df_ratings_no_text['country_user'] == state].groupby('year').agg({'rating': 'mean'}).reset_index()\n",
    "    obj[state] = filtered\n",
    "obj_combined = obj_combined | obj\n",
    "plots_values_over_time(obj, 'year', 'rating', 'Year', 'Average rating', 'Average rating per year for the top 5 non-US countries')"
   ]
  },
  {
   "cell_type": "code",
   "execution_count": 20,
   "metadata": {},
   "outputs": [
    {
     "data": {
      "application/vnd.plotly.v1+json": {
       "config": {
        "plotlyServerURL": "https://plot.ly"
       },
       "data": [
        {
         "marker": {
          "size": 4
         },
         "mode": "lines+markers",
         "name": "Rhode Island",
         "type": "scatter",
         "x": [
          2000,
          2001,
          2002,
          2003,
          2004,
          2005,
          2006,
          2007,
          2008,
          2009,
          2010,
          2011,
          2012,
          2013,
          2014,
          2015,
          2016,
          2017
         ],
         "y": [
          1.7666666666666666,
          4.129333333333333,
          3.8897435897435892,
          3.2700000000000005,
          3.572222222222222,
          3.2285714285714286,
          3.0183035714285715,
          3.276889848812095,
          3.524561403508772,
          3.486067415730337,
          3.549444444444444,
          3.4571865443425076,
          3.5653508771929823,
          3.6662835249042143,
          3.608713692946058,
          3.6991525423728815,
          3.591044776119403,
          4.052173913043478
         ]
        },
        {
         "marker": {
          "size": 4
         },
         "mode": "lines+markers",
         "name": "Arizona",
         "type": "scatter",
         "x": [
          2000,
          2001,
          2002,
          2003,
          2004,
          2005,
          2006,
          2007,
          2008,
          2009,
          2010,
          2011,
          2012,
          2013,
          2014,
          2015,
          2016,
          2017
         ],
         "y": [
          3.8564516129032254,
          3.5475000000000003,
          3.3434285714285714,
          3.382506102522376,
          3.2233866519580805,
          2.9401673640167365,
          3.328461806766655,
          3.352243670092755,
          3.354035231462515,
          3.3632605531295487,
          3.4374567316451086,
          3.5390036654448513,
          3.6044844632768362,
          3.7052496217851743,
          3.769057581191473,
          3.7429759299781185,
          3.793312757201646,
          3.813595933926303
         ]
        },
        {
         "marker": {
          "size": 4
         },
         "mode": "lines+markers",
         "name": "Vermont",
         "type": "scatter",
         "x": [
          2001,
          2002,
          2003,
          2004,
          2005,
          2006,
          2007,
          2008,
          2009,
          2010,
          2011,
          2012,
          2013,
          2014,
          2015,
          2016,
          2017
         ],
         "y": [
          3.2517241379310344,
          3.441304347826087,
          3.4360000000000004,
          3.285185185185185,
          3.1897133220910625,
          3.3310734463276837,
          3.4981818181818185,
          3.2924295774647887,
          3.3471400394477318,
          3.554685494223363,
          3.5280254777070064,
          3.6128695652173914,
          3.60557880055788,
          3.3391228070175436,
          3.636345108695652,
          3.74299711815562,
          3.5709083119108826
         ]
        },
        {
         "marker": {
          "size": 4
         },
         "mode": "lines+markers",
         "name": "Utah",
         "type": "scatter",
         "x": [
          2000,
          2001,
          2002,
          2003,
          2004,
          2005,
          2006,
          2007,
          2008,
          2009,
          2010,
          2011,
          2012,
          2013,
          2014,
          2015,
          2016,
          2017
         ],
         "y": [
          3.35859375,
          3.711764705882353,
          3.4918032786885247,
          3.4690909090909092,
          3.3641860465116276,
          3.170103092783505,
          3.556291390728477,
          3.3611842105263157,
          3.307103825136612,
          3.508717948717949,
          3.370828331332533,
          3.5009734513274338,
          3.4975147155003268,
          3.5091822094691536,
          3.4833956219967965,
          3.524944320712695,
          3.434311926605505,
          3.393318485523385
         ]
        },
        {
         "marker": {
          "size": 4
         },
         "mode": "lines+markers",
         "name": "Connecticut",
         "type": "scatter",
         "x": [
          2000,
          2001,
          2002,
          2003,
          2004,
          2005,
          2006,
          2007,
          2008,
          2009,
          2010,
          2011,
          2012,
          2013,
          2014,
          2015,
          2016,
          2017
         ],
         "y": [
          3.5200000000000005,
          3.301690821256039,
          3.3859712230215826,
          3.4860946745562127,
          3.428375733855186,
          3.432177894048398,
          3.3520962732919255,
          3.350969666832422,
          3.2243535988819008,
          3.370461405778353,
          3.4158023184868824,
          3.459674582233949,
          3.5073390894819467,
          3.563815789473684,
          3.63005657708628,
          3.620397208803006,
          3.6602605863192186,
          3.6701072386058984
         ]
        },
        {
         "marker": {
          "size": 4
         },
         "mode": "lines+markers",
         "name": "Puerto Rico",
         "type": "scatter",
         "x": [
          2001,
          2006,
          2008,
          2009,
          2010,
          2011,
          2012,
          2013,
          2014,
          2015,
          2016,
          2017
         ],
         "y": [
          1.8,
          3.590909090909091,
          3.5,
          3.5833333333333335,
          4.3125,
          3.6333333333333333,
          3.7235955056179773,
          3.432352941176471,
          3.2790697674418605,
          3.388235294117647,
          3.9,
          5
         ]
        },
        {
         "marker": {
          "size": 4
         },
         "mode": "lines+markers",
         "name": "Romania",
         "type": "scatter",
         "x": [
          2004,
          2005,
          2006,
          2007,
          2008,
          2010,
          2011,
          2012,
          2013,
          2014,
          2015,
          2016,
          2017
         ],
         "y": [
          5,
          4.7,
          5,
          3.725,
          3.6999999999999997,
          2,
          3.5384615384615383,
          3.065161290322581,
          3.151685393258427,
          3.1674641148325358,
          3.443071161048689,
          3.5357142857142856,
          3.620846493998737
         ]
        },
        {
         "marker": {
          "size": 4
         },
         "mode": "lines+markers",
         "name": "Singapore",
         "type": "scatter",
         "x": [
          2002,
          2003,
          2004,
          2005,
          2006,
          2007,
          2008,
          2009,
          2010,
          2011,
          2012,
          2013,
          2014,
          2015,
          2016,
          2017
         ],
         "y": [
          2.05,
          2.481818181818182,
          1.85,
          2.623076923076923,
          2.433333333333333,
          3.4,
          4,
          2.410344827586207,
          3.3600000000000003,
          2.98,
          3.6999999999999997,
          3.292307692307692,
          3.5171875,
          3.4724358974358975,
          3.653452685421995,
          3.626148409893993
         ]
        },
        {
         "marker": {
          "size": 4
         },
         "mode": "lines+markers",
         "name": "Greece",
         "type": "scatter",
         "x": [
          2004,
          2005,
          2006,
          2007,
          2008,
          2009,
          2010,
          2011,
          2012,
          2013,
          2014,
          2015,
          2016,
          2017
         ],
         "y": [
          2.6666666666666665,
          2.25,
          3.105714285714286,
          2,
          4.433333333333334,
          3.1005555555555557,
          3.1497041420118346,
          3.4320203303684877,
          3.3723169508525577,
          3.3443148688046644,
          3.371190476190476,
          3.416173752310536,
          3.6060678167757287,
          3.7685741998060136
         ]
        },
        {
         "marker": {
          "size": 4
         },
         "mode": "lines+markers",
         "name": "Japan",
         "type": "scatter",
         "x": [
          2002,
          2003,
          2004,
          2005,
          2006,
          2007,
          2008,
          2009,
          2010,
          2011,
          2012,
          2013,
          2014,
          2015,
          2016,
          2017
         ],
         "y": [
          2.993262411347518,
          3.1335365853658534,
          3.0819727891156465,
          3.1796934865900384,
          3.2224999999999997,
          3.2226027397260273,
          3.354988662131519,
          3.327838357921745,
          3.3158199356913185,
          3.359766963673749,
          3.4266047638272106,
          3.377828447339848,
          3.438906817265026,
          3.458010001724435,
          3.519275723318643,
          3.5615191986644406
         ]
        }
       ],
       "layout": {
        "height": 600,
        "template": {
         "data": {
          "bar": [
           {
            "error_x": {
             "color": "#2a3f5f"
            },
            "error_y": {
             "color": "#2a3f5f"
            },
            "marker": {
             "line": {
              "color": "#E5ECF6",
              "width": 0.5
             },
             "pattern": {
              "fillmode": "overlay",
              "size": 10,
              "solidity": 0.2
             }
            },
            "type": "bar"
           }
          ],
          "barpolar": [
           {
            "marker": {
             "line": {
              "color": "#E5ECF6",
              "width": 0.5
             },
             "pattern": {
              "fillmode": "overlay",
              "size": 10,
              "solidity": 0.2
             }
            },
            "type": "barpolar"
           }
          ],
          "carpet": [
           {
            "aaxis": {
             "endlinecolor": "#2a3f5f",
             "gridcolor": "white",
             "linecolor": "white",
             "minorgridcolor": "white",
             "startlinecolor": "#2a3f5f"
            },
            "baxis": {
             "endlinecolor": "#2a3f5f",
             "gridcolor": "white",
             "linecolor": "white",
             "minorgridcolor": "white",
             "startlinecolor": "#2a3f5f"
            },
            "type": "carpet"
           }
          ],
          "choropleth": [
           {
            "colorbar": {
             "outlinewidth": 0,
             "ticks": ""
            },
            "type": "choropleth"
           }
          ],
          "contour": [
           {
            "colorbar": {
             "outlinewidth": 0,
             "ticks": ""
            },
            "colorscale": [
             [
              0,
              "#0d0887"
             ],
             [
              0.1111111111111111,
              "#46039f"
             ],
             [
              0.2222222222222222,
              "#7201a8"
             ],
             [
              0.3333333333333333,
              "#9c179e"
             ],
             [
              0.4444444444444444,
              "#bd3786"
             ],
             [
              0.5555555555555556,
              "#d8576b"
             ],
             [
              0.6666666666666666,
              "#ed7953"
             ],
             [
              0.7777777777777778,
              "#fb9f3a"
             ],
             [
              0.8888888888888888,
              "#fdca26"
             ],
             [
              1,
              "#f0f921"
             ]
            ],
            "type": "contour"
           }
          ],
          "contourcarpet": [
           {
            "colorbar": {
             "outlinewidth": 0,
             "ticks": ""
            },
            "type": "contourcarpet"
           }
          ],
          "heatmap": [
           {
            "colorbar": {
             "outlinewidth": 0,
             "ticks": ""
            },
            "colorscale": [
             [
              0,
              "#0d0887"
             ],
             [
              0.1111111111111111,
              "#46039f"
             ],
             [
              0.2222222222222222,
              "#7201a8"
             ],
             [
              0.3333333333333333,
              "#9c179e"
             ],
             [
              0.4444444444444444,
              "#bd3786"
             ],
             [
              0.5555555555555556,
              "#d8576b"
             ],
             [
              0.6666666666666666,
              "#ed7953"
             ],
             [
              0.7777777777777778,
              "#fb9f3a"
             ],
             [
              0.8888888888888888,
              "#fdca26"
             ],
             [
              1,
              "#f0f921"
             ]
            ],
            "type": "heatmap"
           }
          ],
          "heatmapgl": [
           {
            "colorbar": {
             "outlinewidth": 0,
             "ticks": ""
            },
            "colorscale": [
             [
              0,
              "#0d0887"
             ],
             [
              0.1111111111111111,
              "#46039f"
             ],
             [
              0.2222222222222222,
              "#7201a8"
             ],
             [
              0.3333333333333333,
              "#9c179e"
             ],
             [
              0.4444444444444444,
              "#bd3786"
             ],
             [
              0.5555555555555556,
              "#d8576b"
             ],
             [
              0.6666666666666666,
              "#ed7953"
             ],
             [
              0.7777777777777778,
              "#fb9f3a"
             ],
             [
              0.8888888888888888,
              "#fdca26"
             ],
             [
              1,
              "#f0f921"
             ]
            ],
            "type": "heatmapgl"
           }
          ],
          "histogram": [
           {
            "marker": {
             "pattern": {
              "fillmode": "overlay",
              "size": 10,
              "solidity": 0.2
             }
            },
            "type": "histogram"
           }
          ],
          "histogram2d": [
           {
            "colorbar": {
             "outlinewidth": 0,
             "ticks": ""
            },
            "colorscale": [
             [
              0,
              "#0d0887"
             ],
             [
              0.1111111111111111,
              "#46039f"
             ],
             [
              0.2222222222222222,
              "#7201a8"
             ],
             [
              0.3333333333333333,
              "#9c179e"
             ],
             [
              0.4444444444444444,
              "#bd3786"
             ],
             [
              0.5555555555555556,
              "#d8576b"
             ],
             [
              0.6666666666666666,
              "#ed7953"
             ],
             [
              0.7777777777777778,
              "#fb9f3a"
             ],
             [
              0.8888888888888888,
              "#fdca26"
             ],
             [
              1,
              "#f0f921"
             ]
            ],
            "type": "histogram2d"
           }
          ],
          "histogram2dcontour": [
           {
            "colorbar": {
             "outlinewidth": 0,
             "ticks": ""
            },
            "colorscale": [
             [
              0,
              "#0d0887"
             ],
             [
              0.1111111111111111,
              "#46039f"
             ],
             [
              0.2222222222222222,
              "#7201a8"
             ],
             [
              0.3333333333333333,
              "#9c179e"
             ],
             [
              0.4444444444444444,
              "#bd3786"
             ],
             [
              0.5555555555555556,
              "#d8576b"
             ],
             [
              0.6666666666666666,
              "#ed7953"
             ],
             [
              0.7777777777777778,
              "#fb9f3a"
             ],
             [
              0.8888888888888888,
              "#fdca26"
             ],
             [
              1,
              "#f0f921"
             ]
            ],
            "type": "histogram2dcontour"
           }
          ],
          "mesh3d": [
           {
            "colorbar": {
             "outlinewidth": 0,
             "ticks": ""
            },
            "type": "mesh3d"
           }
          ],
          "parcoords": [
           {
            "line": {
             "colorbar": {
              "outlinewidth": 0,
              "ticks": ""
             }
            },
            "type": "parcoords"
           }
          ],
          "pie": [
           {
            "automargin": true,
            "type": "pie"
           }
          ],
          "scatter": [
           {
            "fillpattern": {
             "fillmode": "overlay",
             "size": 10,
             "solidity": 0.2
            },
            "type": "scatter"
           }
          ],
          "scatter3d": [
           {
            "line": {
             "colorbar": {
              "outlinewidth": 0,
              "ticks": ""
             }
            },
            "marker": {
             "colorbar": {
              "outlinewidth": 0,
              "ticks": ""
             }
            },
            "type": "scatter3d"
           }
          ],
          "scattercarpet": [
           {
            "marker": {
             "colorbar": {
              "outlinewidth": 0,
              "ticks": ""
             }
            },
            "type": "scattercarpet"
           }
          ],
          "scattergeo": [
           {
            "marker": {
             "colorbar": {
              "outlinewidth": 0,
              "ticks": ""
             }
            },
            "type": "scattergeo"
           }
          ],
          "scattergl": [
           {
            "marker": {
             "colorbar": {
              "outlinewidth": 0,
              "ticks": ""
             }
            },
            "type": "scattergl"
           }
          ],
          "scattermapbox": [
           {
            "marker": {
             "colorbar": {
              "outlinewidth": 0,
              "ticks": ""
             }
            },
            "type": "scattermapbox"
           }
          ],
          "scatterpolar": [
           {
            "marker": {
             "colorbar": {
              "outlinewidth": 0,
              "ticks": ""
             }
            },
            "type": "scatterpolar"
           }
          ],
          "scatterpolargl": [
           {
            "marker": {
             "colorbar": {
              "outlinewidth": 0,
              "ticks": ""
             }
            },
            "type": "scatterpolargl"
           }
          ],
          "scatterternary": [
           {
            "marker": {
             "colorbar": {
              "outlinewidth": 0,
              "ticks": ""
             }
            },
            "type": "scatterternary"
           }
          ],
          "surface": [
           {
            "colorbar": {
             "outlinewidth": 0,
             "ticks": ""
            },
            "colorscale": [
             [
              0,
              "#0d0887"
             ],
             [
              0.1111111111111111,
              "#46039f"
             ],
             [
              0.2222222222222222,
              "#7201a8"
             ],
             [
              0.3333333333333333,
              "#9c179e"
             ],
             [
              0.4444444444444444,
              "#bd3786"
             ],
             [
              0.5555555555555556,
              "#d8576b"
             ],
             [
              0.6666666666666666,
              "#ed7953"
             ],
             [
              0.7777777777777778,
              "#fb9f3a"
             ],
             [
              0.8888888888888888,
              "#fdca26"
             ],
             [
              1,
              "#f0f921"
             ]
            ],
            "type": "surface"
           }
          ],
          "table": [
           {
            "cells": {
             "fill": {
              "color": "#EBF0F8"
             },
             "line": {
              "color": "white"
             }
            },
            "header": {
             "fill": {
              "color": "#C8D4E3"
             },
             "line": {
              "color": "white"
             }
            },
            "type": "table"
           }
          ]
         },
         "layout": {
          "annotationdefaults": {
           "arrowcolor": "#2a3f5f",
           "arrowhead": 0,
           "arrowwidth": 1
          },
          "autotypenumbers": "strict",
          "coloraxis": {
           "colorbar": {
            "outlinewidth": 0,
            "ticks": ""
           }
          },
          "colorscale": {
           "diverging": [
            [
             0,
             "#8e0152"
            ],
            [
             0.1,
             "#c51b7d"
            ],
            [
             0.2,
             "#de77ae"
            ],
            [
             0.3,
             "#f1b6da"
            ],
            [
             0.4,
             "#fde0ef"
            ],
            [
             0.5,
             "#f7f7f7"
            ],
            [
             0.6,
             "#e6f5d0"
            ],
            [
             0.7,
             "#b8e186"
            ],
            [
             0.8,
             "#7fbc41"
            ],
            [
             0.9,
             "#4d9221"
            ],
            [
             1,
             "#276419"
            ]
           ],
           "sequential": [
            [
             0,
             "#0d0887"
            ],
            [
             0.1111111111111111,
             "#46039f"
            ],
            [
             0.2222222222222222,
             "#7201a8"
            ],
            [
             0.3333333333333333,
             "#9c179e"
            ],
            [
             0.4444444444444444,
             "#bd3786"
            ],
            [
             0.5555555555555556,
             "#d8576b"
            ],
            [
             0.6666666666666666,
             "#ed7953"
            ],
            [
             0.7777777777777778,
             "#fb9f3a"
            ],
            [
             0.8888888888888888,
             "#fdca26"
            ],
            [
             1,
             "#f0f921"
            ]
           ],
           "sequentialminus": [
            [
             0,
             "#0d0887"
            ],
            [
             0.1111111111111111,
             "#46039f"
            ],
            [
             0.2222222222222222,
             "#7201a8"
            ],
            [
             0.3333333333333333,
             "#9c179e"
            ],
            [
             0.4444444444444444,
             "#bd3786"
            ],
            [
             0.5555555555555556,
             "#d8576b"
            ],
            [
             0.6666666666666666,
             "#ed7953"
            ],
            [
             0.7777777777777778,
             "#fb9f3a"
            ],
            [
             0.8888888888888888,
             "#fdca26"
            ],
            [
             1,
             "#f0f921"
            ]
           ]
          },
          "colorway": [
           "#636efa",
           "#EF553B",
           "#00cc96",
           "#ab63fa",
           "#FFA15A",
           "#19d3f3",
           "#FF6692",
           "#B6E880",
           "#FF97FF",
           "#FECB52"
          ],
          "font": {
           "color": "#2a3f5f"
          },
          "geo": {
           "bgcolor": "white",
           "lakecolor": "white",
           "landcolor": "#E5ECF6",
           "showlakes": true,
           "showland": true,
           "subunitcolor": "white"
          },
          "hoverlabel": {
           "align": "left"
          },
          "hovermode": "closest",
          "mapbox": {
           "style": "light"
          },
          "paper_bgcolor": "white",
          "plot_bgcolor": "#E5ECF6",
          "polar": {
           "angularaxis": {
            "gridcolor": "white",
            "linecolor": "white",
            "ticks": ""
           },
           "bgcolor": "#E5ECF6",
           "radialaxis": {
            "gridcolor": "white",
            "linecolor": "white",
            "ticks": ""
           }
          },
          "scene": {
           "xaxis": {
            "backgroundcolor": "#E5ECF6",
            "gridcolor": "white",
            "gridwidth": 2,
            "linecolor": "white",
            "showbackground": true,
            "ticks": "",
            "zerolinecolor": "white"
           },
           "yaxis": {
            "backgroundcolor": "#E5ECF6",
            "gridcolor": "white",
            "gridwidth": 2,
            "linecolor": "white",
            "showbackground": true,
            "ticks": "",
            "zerolinecolor": "white"
           },
           "zaxis": {
            "backgroundcolor": "#E5ECF6",
            "gridcolor": "white",
            "gridwidth": 2,
            "linecolor": "white",
            "showbackground": true,
            "ticks": "",
            "zerolinecolor": "white"
           }
          },
          "shapedefaults": {
           "line": {
            "color": "#2a3f5f"
           }
          },
          "ternary": {
           "aaxis": {
            "gridcolor": "white",
            "linecolor": "white",
            "ticks": ""
           },
           "baxis": {
            "gridcolor": "white",
            "linecolor": "white",
            "ticks": ""
           },
           "bgcolor": "#E5ECF6",
           "caxis": {
            "gridcolor": "white",
            "linecolor": "white",
            "ticks": ""
           }
          },
          "title": {
           "x": 0.05
          },
          "xaxis": {
           "automargin": true,
           "gridcolor": "white",
           "linecolor": "white",
           "ticks": "",
           "title": {
            "standoff": 15
           },
           "zerolinecolor": "white",
           "zerolinewidth": 2
          },
          "yaxis": {
           "automargin": true,
           "gridcolor": "white",
           "linecolor": "white",
           "ticks": "",
           "title": {
            "standoff": 15
           },
           "zerolinecolor": "white",
           "zerolinewidth": 2
          }
         }
        },
        "title": {
         "text": "Average rating per year for top-10 countries or US states"
        },
        "width": 800,
        "xaxis": {
         "dtick": 2,
         "tick0": 2002,
         "tickmode": "linear",
         "title": {
          "text": "Year"
         }
        },
        "yaxis": {
         "title": {
          "text": "Average rating"
         }
        }
       }
      }
     },
     "metadata": {},
     "output_type": "display_data"
    }
   ],
   "source": [
    "plots_values_over_time(obj_combined, 'year', 'rating', 'Year', 'Average rating', 'Average rating per year for top-10 countries or US states')"
   ]
  },
  {
   "cell_type": "markdown",
   "metadata": {},
   "source": [
    "It makes sense to split US Vs Non US because we see in general that the US-based breweries outperform significantly the other breweries and they beat countries that are well known for their beers (such as England, Belgium or Germany). "
   ]
  }
 ],
 "metadata": {
  "kernelspec": {
   "display_name": ".venv",
   "language": "python",
   "name": "python3"
  },
  "language_info": {
   "codemirror_mode": {
    "name": "ipython",
    "version": 3
   },
   "file_extension": ".py",
   "mimetype": "text/x-python",
   "name": "python",
   "nbconvert_exporter": "python",
   "pygments_lexer": "ipython3",
   "version": "3.9.20"
  }
 },
 "nbformat": 4,
 "nbformat_minor": 2
}
