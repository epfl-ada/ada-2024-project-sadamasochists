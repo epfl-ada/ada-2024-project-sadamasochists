{
 "cells": [
  {
   "cell_type": "code",
   "execution_count": 6,
   "metadata": {},
   "outputs": [],
   "source": [
    "import pandas as pd\n",
    "import plotly.graph_objects as go\n"
   ]
  },
  {
   "cell_type": "code",
   "execution_count": 7,
   "metadata": {},
   "outputs": [],
   "source": [
    "# Define the folder\n",
    "FOLDER = '../data/processed/'\n",
    "\n",
    "# Load the data\n",
    "df_beers = pd.read_parquet(FOLDER + 'beers.pq')\n",
    "df_breweries = pd.read_parquet(FOLDER + 'breweries.pq')\n",
    "df_users = pd.read_parquet(FOLDER + 'users.pq')\n",
    "df_ratings_no_text = pd.read_parquet(FOLDER + 'ratings_no_text.pq')\n",
    "\n"
   ]
  },
  {
   "cell_type": "code",
   "execution_count": 8,
   "metadata": {},
   "outputs": [
    {
     "data": {
      "text/html": [
       "<div>\n",
       "<style scoped>\n",
       "    .dataframe tbody tr th:only-of-type {\n",
       "        vertical-align: middle;\n",
       "    }\n",
       "\n",
       "    .dataframe tbody tr th {\n",
       "        vertical-align: top;\n",
       "    }\n",
       "\n",
       "    .dataframe thead th {\n",
       "        text-align: right;\n",
       "    }\n",
       "</style>\n",
       "<table border=\"1\" class=\"dataframe\">\n",
       "  <thead>\n",
       "    <tr style=\"text-align: right;\">\n",
       "      <th></th>\n",
       "      <th>user_id</th>\n",
       "      <th>rating</th>\n",
       "      <th>review</th>\n",
       "      <th>abv</th>\n",
       "      <th>brewery_name</th>\n",
       "      <th>beer_id</th>\n",
       "      <th>appearance</th>\n",
       "      <th>palate</th>\n",
       "      <th>aroma</th>\n",
       "      <th>overall</th>\n",
       "      <th>taste</th>\n",
       "      <th>style</th>\n",
       "      <th>beer_name</th>\n",
       "      <th>brewery_id</th>\n",
       "      <th>date</th>\n",
       "      <th>idx</th>\n",
       "      <th>location</th>\n",
       "    </tr>\n",
       "  </thead>\n",
       "  <tbody>\n",
       "    <tr>\n",
       "      <th>1</th>\n",
       "      <td>stjamesgate.163714</td>\n",
       "      <td>3.67</td>\n",
       "      <td>True</td>\n",
       "      <td>4.5</td>\n",
       "      <td>Strangford Lough Brewing Company Ltd</td>\n",
       "      <td>19590</td>\n",
       "      <td>3.0</td>\n",
       "      <td>3.5</td>\n",
       "      <td>3.5</td>\n",
       "      <td>3.5</td>\n",
       "      <td>4.0</td>\n",
       "      <td>English Pale Ale</td>\n",
       "      <td>Barelegs Brew</td>\n",
       "      <td>10093</td>\n",
       "      <td>2009-02-20 12:00:00</td>\n",
       "      <td>1</td>\n",
       "      <td>United Kingdom</td>\n",
       "    </tr>\n",
       "    <tr>\n",
       "      <th>2</th>\n",
       "      <td>mdagnew.19527</td>\n",
       "      <td>3.73</td>\n",
       "      <td>True</td>\n",
       "      <td>4.5</td>\n",
       "      <td>Strangford Lough Brewing Company Ltd</td>\n",
       "      <td>19590</td>\n",
       "      <td>4.0</td>\n",
       "      <td>3.5</td>\n",
       "      <td>3.5</td>\n",
       "      <td>3.5</td>\n",
       "      <td>4.0</td>\n",
       "      <td>English Pale Ale</td>\n",
       "      <td>Barelegs Brew</td>\n",
       "      <td>10093</td>\n",
       "      <td>2006-03-13 12:00:00</td>\n",
       "      <td>2</td>\n",
       "      <td>United Kingdom</td>\n",
       "    </tr>\n",
       "    <tr>\n",
       "      <th>3</th>\n",
       "      <td>helloloser12345.10867</td>\n",
       "      <td>3.98</td>\n",
       "      <td>True</td>\n",
       "      <td>4.5</td>\n",
       "      <td>Strangford Lough Brewing Company Ltd</td>\n",
       "      <td>19590</td>\n",
       "      <td>4.0</td>\n",
       "      <td>4.0</td>\n",
       "      <td>3.5</td>\n",
       "      <td>4.5</td>\n",
       "      <td>4.0</td>\n",
       "      <td>English Pale Ale</td>\n",
       "      <td>Barelegs Brew</td>\n",
       "      <td>10093</td>\n",
       "      <td>2004-12-01 12:00:00</td>\n",
       "      <td>3</td>\n",
       "      <td>United Kingdom</td>\n",
       "    </tr>\n",
       "    <tr>\n",
       "      <th>4</th>\n",
       "      <td>cypressbob.3708</td>\n",
       "      <td>4.00</td>\n",
       "      <td>True</td>\n",
       "      <td>4.5</td>\n",
       "      <td>Strangford Lough Brewing Company Ltd</td>\n",
       "      <td>19590</td>\n",
       "      <td>4.0</td>\n",
       "      <td>4.0</td>\n",
       "      <td>4.0</td>\n",
       "      <td>4.0</td>\n",
       "      <td>4.0</td>\n",
       "      <td>English Pale Ale</td>\n",
       "      <td>Barelegs Brew</td>\n",
       "      <td>10093</td>\n",
       "      <td>2004-08-30 12:00:00</td>\n",
       "      <td>4</td>\n",
       "      <td>United Kingdom</td>\n",
       "    </tr>\n",
       "    <tr>\n",
       "      <th>5</th>\n",
       "      <td>hellpop65.48993</td>\n",
       "      <td>3.25</td>\n",
       "      <td>False</td>\n",
       "      <td>4.8</td>\n",
       "      <td>Strangford Lough Brewing Company Ltd</td>\n",
       "      <td>19827</td>\n",
       "      <td>NaN</td>\n",
       "      <td>NaN</td>\n",
       "      <td>NaN</td>\n",
       "      <td>NaN</td>\n",
       "      <td>NaN</td>\n",
       "      <td>English Pale Ale</td>\n",
       "      <td>Legbiter</td>\n",
       "      <td>10093</td>\n",
       "      <td>2014-12-01 12:00:00</td>\n",
       "      <td>5</td>\n",
       "      <td>United Kingdom</td>\n",
       "    </tr>\n",
       "  </tbody>\n",
       "</table>\n",
       "</div>"
      ],
      "text/plain": [
       "                 user_id  rating  review  abv  \\\n",
       "1     stjamesgate.163714    3.67    True  4.5   \n",
       "2          mdagnew.19527    3.73    True  4.5   \n",
       "3  helloloser12345.10867    3.98    True  4.5   \n",
       "4        cypressbob.3708    4.00    True  4.5   \n",
       "5        hellpop65.48993    3.25   False  4.8   \n",
       "\n",
       "                           brewery_name  beer_id  appearance  palate  aroma  \\\n",
       "1  Strangford Lough Brewing Company Ltd    19590         3.0     3.5    3.5   \n",
       "2  Strangford Lough Brewing Company Ltd    19590         4.0     3.5    3.5   \n",
       "3  Strangford Lough Brewing Company Ltd    19590         4.0     4.0    3.5   \n",
       "4  Strangford Lough Brewing Company Ltd    19590         4.0     4.0    4.0   \n",
       "5  Strangford Lough Brewing Company Ltd    19827         NaN     NaN    NaN   \n",
       "\n",
       "   overall  taste             style      beer_name  brewery_id  \\\n",
       "1      3.5    4.0  English Pale Ale  Barelegs Brew       10093   \n",
       "2      3.5    4.0  English Pale Ale  Barelegs Brew       10093   \n",
       "3      4.5    4.0  English Pale Ale  Barelegs Brew       10093   \n",
       "4      4.0    4.0  English Pale Ale  Barelegs Brew       10093   \n",
       "5      NaN    NaN  English Pale Ale       Legbiter       10093   \n",
       "\n",
       "                 date  idx        location  \n",
       "1 2009-02-20 12:00:00    1  United Kingdom  \n",
       "2 2006-03-13 12:00:00    2  United Kingdom  \n",
       "3 2004-12-01 12:00:00    3  United Kingdom  \n",
       "4 2004-08-30 12:00:00    4  United Kingdom  \n",
       "5 2014-12-01 12:00:00    5  United Kingdom  "
      ]
     },
     "execution_count": 8,
     "metadata": {},
     "output_type": "execute_result"
    }
   ],
   "source": [
    "# Select only the countries where the number of ratings are above a certain threshold\n",
    "MIN_RATINGS_THRESHOLD = 1000\n",
    "number_of_ratings_per_country = df_ratings_no_text['location'].value_counts()\n",
    "popular_countries = number_of_ratings_per_country[number_of_ratings_per_country > MIN_RATINGS_THRESHOLD].index\n",
    "\n",
    "# Filter all the data\n",
    "df_ratings_no_text = df_ratings_no_text[df_ratings_no_text['location'].isin(popular_countries)]\n",
    "df_beers = df_beers[df_beers['beer_id'].isin(df_ratings_no_text['beer_id'].unique())]\n",
    "df_breweries = df_breweries[df_breweries['id'].isin(df_ratings_no_text['brewery_id'].unique())]\n",
    "\n",
    "df_ratings_no_text.head(5)"
   ]
  },
  {
   "cell_type": "code",
   "execution_count": 9,
   "metadata": {},
   "outputs": [
    {
     "name": "stdout",
     "output_type": "stream",
     "text": [
      "Beer columns:\n",
      "Index(['beer_id', 'beer_name', 'brewery_id', 'brewery_name', 'style', 'abv',\n",
      "       'avg', 'std', 'median', 'appearance', 'aroma', 'palate', 'overall',\n",
      "       'nbr_ratings', 'nbr_reviews', 'nbr_interactions'],\n",
      "      dtype='object')\n",
      "Breweries columns:\n",
      "Index(['id', 'location', 'name', 'nbr_beers'], dtype='object')\n",
      "Users columns:\n",
      "Index(['user_id', 'user_name', 'location', 'joined', 'nbr_ratings',\n",
      "       'nbr_reviews', 'nbr_interactions'],\n",
      "      dtype='object')\n",
      "Ratings columns:\n",
      "Index(['user_id', 'rating', 'review', 'abv', 'brewery_name', 'beer_id',\n",
      "       'appearance', 'palate', 'aroma', 'overall', 'taste', 'style',\n",
      "       'beer_name', 'brewery_id', 'date', 'idx', 'location'],\n",
      "      dtype='object')\n"
     ]
    }
   ],
   "source": [
    "print(\"Beer columns:\")\n",
    "print(df_beers.columns)\n",
    "print(\"Breweries columns:\")\n",
    "print(df_breweries.columns)\n",
    "print(\"Users columns:\")\n",
    "print(df_users.columns)\n",
    "print(\"Ratings columns:\")\n",
    "print(df_ratings_no_text.columns)"
   ]
  },
  {
   "cell_type": "code",
   "execution_count": 13,
   "metadata": {},
   "outputs": [
    {
     "data": {
      "application/vnd.plotly.v1+json": {
       "config": {
        "plotlyServerURL": "https://plot.ly"
       },
       "data": [
        {
         "colorbar": {
          "title": {
           "text": "Breweries"
          }
         },
         "colorscale": [
          [
           0,
           "rgb(247,251,255)"
          ],
          [
           0.125,
           "rgb(222,235,247)"
          ],
          [
           0.25,
           "rgb(198,219,239)"
          ],
          [
           0.375,
           "rgb(158,202,225)"
          ],
          [
           0.5,
           "rgb(107,174,214)"
          ],
          [
           0.625,
           "rgb(66,146,198)"
          ],
          [
           0.75,
           "rgb(33,113,181)"
          ],
          [
           0.875,
           "rgb(8,81,156)"
          ],
          [
           1,
           "rgb(8,48,107)"
          ]
         ],
         "locationmode": "country names",
         "locations": [
          "Albania",
          "Algeria",
          "Angola",
          "Argentina",
          "Armenia",
          "Australia",
          "Austria",
          "Azerbaijan",
          "Bangladesh",
          "Belarus",
          "Belgium",
          "Belize",
          "Benin",
          "Bhutan",
          "Bolivia",
          "Bosnia and Herzegovina",
          "Botswana",
          "Brazil",
          "Bulgaria",
          "Burkina Faso",
          "Cambodia",
          "Cameroon",
          "Canada",
          "Central African Republic",
          "Chile",
          "China",
          "Colombia",
          "Costa Rica",
          "Croatia",
          "Cuba",
          "Cyprus",
          "Czechia",
          "Denmark",
          "Dominican Republic",
          "Ecuador",
          "Egypt",
          "El Salvador",
          "Equatorial Guinea",
          "Eritrea",
          "Estonia",
          "Ethiopia",
          "Finland",
          "France",
          "Gabon",
          "Gambia",
          "Georgia",
          "Germany",
          "Ghana",
          "Greece",
          "Greenland",
          "Guatemala",
          "Haiti",
          "Honduras",
          "Hungary",
          "Iceland",
          "India",
          "Indonesia",
          "Iran",
          "Iraq",
          "Ireland",
          "Israel",
          "Italy",
          "Ivory Coast",
          "Jamaica",
          "Japan",
          "Jordan",
          "Kazakhstan",
          "Kenya",
          "Laos",
          "Latvia",
          "Lebanon",
          "Lesotho",
          "Libya",
          "Lithuania",
          "Luxembourg",
          "Madagascar",
          "Malawi",
          "Malaysia",
          "Mexico",
          "Moldova",
          "Mongolia",
          "Montenegro",
          "Morocco",
          "Mozambique",
          "Myanmar",
          "Namibia",
          "Nepal",
          "Netherlands",
          "New Caledonia",
          "New Zealand",
          "Nicaragua",
          "Niger",
          "Nigeria",
          "North Korea",
          "Norway",
          "Pakistan",
          "Palestine",
          "Panama",
          "Papua New Guinea",
          "Paraguay",
          "Peru",
          "Philippines",
          "Poland",
          "Portugal",
          "Puerto Rico",
          "Republic of Serbia",
          "Romania",
          "Russia",
          "Rwanda",
          "Senegal",
          "Slovakia",
          "Slovenia",
          "Solomon Islands",
          "South Africa",
          "South Korea",
          "South Sudan",
          "Spain",
          "Sri Lanka",
          "Suriname",
          "Sweden",
          "Switzerland",
          "Syria",
          "Taiwan",
          "Tajikistan",
          "Thailand",
          "Togo",
          "Tunisia",
          "Turkey",
          "Turkmenistan",
          "Uganda",
          "Ukraine",
          "United Arab Emirates",
          "United Kingdom",
          "Uruguay",
          "Uzbekistan",
          "Vanuatu",
          "Venezuela",
          "Vietnam",
          "Zambia",
          "Zimbabwe"
         ],
         "name": "Breweries per Country",
         "type": "choropleth",
         "visible": true,
         "z": [
          8,
          5,
          2,
          35,
          3,
          320,
          93,
          2,
          1,
          9,
          305,
          2,
          2,
          3,
          5,
          7,
          1,
          153,
          22,
          1,
          10,
          1,
          726,
          1,
          41,
          40,
          12,
          20,
          20,
          3,
          6,
          117,
          96,
          2,
          17,
          3,
          2,
          1,
          2,
          29,
          7,
          47,
          286,
          1,
          1,
          8,
          909,
          2,
          38,
          2,
          3,
          1,
          2,
          31,
          15,
          26,
          7,
          2,
          1,
          77,
          28,
          297,
          2,
          2,
          157,
          2,
          10,
          4,
          3,
          25,
          4,
          1,
          1,
          44,
          11,
          2,
          1,
          3,
          117,
          7,
          3,
          2,
          1,
          1,
          4,
          3,
          7,
          217,
          2,
          92,
          5,
          1,
          2,
          2,
          67,
          1,
          2,
          6,
          1,
          1,
          13,
          21,
          131,
          39,
          12,
          28,
          36,
          193,
          1,
          1,
          23,
          12,
          1,
          47,
          22,
          1,
          260,
          3,
          2,
          162,
          74,
          2,
          15,
          1,
          13,
          1,
          1,
          7,
          1,
          3,
          33,
          1,
          1026,
          4,
          3,
          3,
          5,
          30,
          1,
          1
         ]
        },
        {
         "colorbar": {
          "title": {
           "text": "Ratings"
          }
         },
         "colorscale": [
          [
           0,
           "rgb(247,252,245)"
          ],
          [
           0.125,
           "rgb(229,245,224)"
          ],
          [
           0.25,
           "rgb(199,233,192)"
          ],
          [
           0.375,
           "rgb(161,217,155)"
          ],
          [
           0.5,
           "rgb(116,196,118)"
          ],
          [
           0.625,
           "rgb(65,171,93)"
          ],
          [
           0.75,
           "rgb(35,139,69)"
          ],
          [
           0.875,
           "rgb(0,109,44)"
          ],
          [
           1,
           "rgb(0,68,27)"
          ]
         ],
         "locationmode": "country names",
         "locations": [
          "Albania",
          "Algeria",
          "Angola",
          "Argentina",
          "Armenia",
          "Australia",
          "Austria",
          "Azerbaijan",
          "Bangladesh",
          "Belarus",
          "Belgium",
          "Belize",
          "Benin",
          "Bhutan",
          "Bolivia",
          "Bosnia and Herzegovina",
          "Botswana",
          "Brazil",
          "Bulgaria",
          "Burkina Faso",
          "Cambodia",
          "Cameroon",
          "Canada",
          "Central African Republic",
          "Chile",
          "China",
          "Colombia",
          "Costa Rica",
          "Croatia",
          "Cuba",
          "Cyprus",
          "Czechia",
          "Denmark",
          "Dominican Republic",
          "Ecuador",
          "Egypt",
          "El Salvador",
          "Equatorial Guinea",
          "Eritrea",
          "Estonia",
          "Ethiopia",
          "Finland",
          "France",
          "Gabon",
          "Gambia",
          "Georgia",
          "Germany",
          "Ghana",
          "Greece",
          "Greenland",
          "Guatemala",
          "Haiti",
          "Honduras",
          "Hungary",
          "Iceland",
          "India",
          "Indonesia",
          "Iran",
          "Iraq",
          "Ireland",
          "Israel",
          "Italy",
          "Ivory Coast",
          "Jamaica",
          "Japan",
          "Jordan",
          "Kazakhstan",
          "Kenya",
          "Laos",
          "Latvia",
          "Lebanon",
          "Lesotho",
          "Libya",
          "Lithuania",
          "Luxembourg",
          "Madagascar",
          "Malawi",
          "Malaysia",
          "Mexico",
          "Moldova",
          "Mongolia",
          "Montenegro",
          "Morocco",
          "Mozambique",
          "Myanmar",
          "Namibia",
          "Nepal",
          "Netherlands",
          "New Caledonia",
          "New Zealand",
          "Nicaragua",
          "Niger",
          "Nigeria",
          "North Korea",
          "Norway",
          "Pakistan",
          "Palestine",
          "Panama",
          "Papua New Guinea",
          "Paraguay",
          "Peru",
          "Philippines",
          "Poland",
          "Portugal",
          "Puerto Rico",
          "Republic of Serbia",
          "Romania",
          "Russia",
          "Rwanda",
          "Senegal",
          "Slovakia",
          "Slovenia",
          "Solomon Islands",
          "South Africa",
          "South Korea",
          "South Sudan",
          "Spain",
          "Sri Lanka",
          "Suriname",
          "Sweden",
          "Switzerland",
          "Syria",
          "Taiwan",
          "Tajikistan",
          "Thailand",
          "Togo",
          "Tunisia",
          "Turkey",
          "Turkmenistan",
          "Uganda",
          "Ukraine",
          "United Arab Emirates",
          "United Kingdom",
          "Uruguay",
          "Uzbekistan",
          "Vanuatu",
          "Venezuela",
          "Vietnam",
          "Zambia",
          "Zimbabwe"
         ],
         "name": "Ratings per Country",
         "type": "choropleth",
         "visible": false,
         "z": [
          80,
          17,
          6,
          947,
          209,
          24091,
          11349,
          18,
          2,
          138,
          378302,
          262,
          4,
          15,
          140,
          236,
          2,
          7202,
          496,
          6,
          167,
          3,
          197302,
          1,
          549,
          3244,
          456,
          1030,
          915,
          251,
          156,
          14606,
          55480,
          938,
          121,
          102,
          571,
          1,
          6,
          1245,
          354,
          2407,
          13434,
          1,
          6,
          65,
          180691,
          31,
          2110,
          21,
          594,
          98,
          257,
          753,
          3065,
          2303,
          239,
          4,
          2,
          37251,
          720,
          19342,
          15,
          3831,
          20913,
          26,
          41,
          755,
          415,
          527,
          565,
          5,
          1,
          2893,
          262,
          12,
          1,
          37,
          30345,
          74,
          18,
          121,
          199,
          36,
          67,
          199,
          66,
          44895,
          6,
          10010,
          302,
          1,
          71,
          11,
          12225,
          6,
          64,
          301,
          8,
          1,
          796,
          1392,
          8930,
          1324,
          550,
          645,
          1478,
          6839,
          3,
          18,
          739,
          534,
          2,
          659,
          1090,
          3,
          7684,
          1894,
          21,
          16041,
          5793,
          4,
          354,
          1,
          2182,
          1,
          10,
          1303,
          1,
          27,
          1326,
          2,
          190184,
          143,
          5,
          37,
          198,
          923,
          11,
          38
         ]
        },
        {
         "colorbar": {
          "title": {
           "text": "Unique Beers"
          }
         },
         "colorscale": [
          [
           0,
           "rgb(255,245,240)"
          ],
          [
           0.125,
           "rgb(254,224,210)"
          ],
          [
           0.25,
           "rgb(252,187,161)"
          ],
          [
           0.375,
           "rgb(252,146,114)"
          ],
          [
           0.5,
           "rgb(251,106,74)"
          ],
          [
           0.625,
           "rgb(239,59,44)"
          ],
          [
           0.75,
           "rgb(203,24,29)"
          ],
          [
           0.875,
           "rgb(165,15,21)"
          ],
          [
           1,
           "rgb(103,0,13)"
          ]
         ],
         "locationmode": "country names",
         "locations": [
          "Albania",
          "Algeria",
          "Angola",
          "Argentina",
          "Armenia",
          "Australia",
          "Austria",
          "Azerbaijan",
          "Bangladesh",
          "Belarus",
          "Belgium",
          "Belize",
          "Benin",
          "Bhutan",
          "Bolivia",
          "Bosnia and Herzegovina",
          "Botswana",
          "Brazil",
          "Bulgaria",
          "Burkina Faso",
          "Cambodia",
          "Cameroon",
          "Canada",
          "Central African Republic",
          "Chile",
          "China",
          "Colombia",
          "Costa Rica",
          "Croatia",
          "Cuba",
          "Cyprus",
          "Czechia",
          "Denmark",
          "Dominican Republic",
          "Ecuador",
          "Egypt",
          "El Salvador",
          "Equatorial Guinea",
          "Eritrea",
          "Estonia",
          "Ethiopia",
          "Finland",
          "France",
          "Gabon",
          "Gambia",
          "Georgia",
          "Germany",
          "Ghana",
          "Greece",
          "Greenland",
          "Guatemala",
          "Haiti",
          "Honduras",
          "Hungary",
          "Iceland",
          "India",
          "Indonesia",
          "Iran",
          "Iraq",
          "Ireland",
          "Israel",
          "Italy",
          "Ivory Coast",
          "Jamaica",
          "Japan",
          "Jordan",
          "Kazakhstan",
          "Kenya",
          "Laos",
          "Latvia",
          "Lebanon",
          "Lesotho",
          "Libya",
          "Lithuania",
          "Luxembourg",
          "Madagascar",
          "Malawi",
          "Malaysia",
          "Mexico",
          "Moldova",
          "Mongolia",
          "Montenegro",
          "Morocco",
          "Mozambique",
          "Myanmar",
          "Namibia",
          "Nepal",
          "Netherlands",
          "New Caledonia",
          "New Zealand",
          "Nicaragua",
          "Niger",
          "Nigeria",
          "North Korea",
          "Norway",
          "Pakistan",
          "Palestine",
          "Panama",
          "Papua New Guinea",
          "Paraguay",
          "Peru",
          "Philippines",
          "Poland",
          "Portugal",
          "Puerto Rico",
          "Republic of Serbia",
          "Romania",
          "Russia",
          "Rwanda",
          "Senegal",
          "Slovakia",
          "Slovenia",
          "Solomon Islands",
          "South Africa",
          "South Korea",
          "South Sudan",
          "Spain",
          "Sri Lanka",
          "Suriname",
          "Sweden",
          "Switzerland",
          "Syria",
          "Taiwan",
          "Tajikistan",
          "Thailand",
          "Togo",
          "Tunisia",
          "Turkey",
          "Turkmenistan",
          "Uganda",
          "Ukraine",
          "United Arab Emirates",
          "United Kingdom",
          "Uruguay",
          "Uzbekistan",
          "Vanuatu",
          "Venezuela",
          "Vietnam",
          "Zambia",
          "Zimbabwe"
         ],
         "name": "Unique Beers per Country",
         "type": "choropleth",
         "visible": false,
         "z": [
          14,
          12,
          2,
          119,
          24,
          2953,
          678,
          8,
          2,
          66,
          4134,
          9,
          3,
          7,
          18,
          26,
          1,
          930,
          101,
          2,
          43,
          3,
          14087,
          1,
          135,
          257,
          54,
          91,
          76,
          14,
          15,
          791,
          2254,
          9,
          44,
          16,
          32,
          1,
          2,
          217,
          15,
          490,
          1586,
          1,
          2,
          22,
          5282,
          5,
          158,
          9,
          36,
          1,
          5,
          181,
          135,
          97,
          23,
          3,
          1,
          708,
          127,
          1631,
          4,
          20,
          1371,
          10,
          36,
          13,
          8,
          110,
          26,
          1,
          1,
          416,
          49,
          7,
          1,
          6,
          572,
          33,
          6,
          5,
          4,
          5,
          9,
          11,
          17,
          2392,
          5,
          923,
          12,
          1,
          5,
          3,
          631,
          3,
          5,
          39,
          4,
          1,
          69,
          114,
          960,
          200,
          51,
          110,
          206,
          1229,
          1,
          2,
          85,
          84,
          2,
          169,
          132,
          1,
          1260,
          18,
          4,
          2310,
          458,
          2,
          70,
          1,
          51,
          1,
          1,
          62,
          1,
          6,
          225,
          1,
          9924,
          14,
          5,
          8,
          17,
          92,
          3,
          7
         ]
        },
        {
         "colorbar": {
          "title": {
           "text": "Breweries"
          }
         },
         "colorscale": [
          [
           0,
           "rgb(247,251,255)"
          ],
          [
           0.125,
           "rgb(222,235,247)"
          ],
          [
           0.25,
           "rgb(198,219,239)"
          ],
          [
           0.375,
           "rgb(158,202,225)"
          ],
          [
           0.5,
           "rgb(107,174,214)"
          ],
          [
           0.625,
           "rgb(66,146,198)"
          ],
          [
           0.75,
           "rgb(33,113,181)"
          ],
          [
           0.875,
           "rgb(8,81,156)"
          ],
          [
           1,
           "rgb(8,48,107)"
          ]
         ],
         "locationmode": "USA-states",
         "locations": [],
         "name": "Breweries per US State",
         "type": "choropleth",
         "visible": false,
         "z": []
        },
        {
         "colorbar": {
          "title": {
           "text": "Ratings"
          }
         },
         "colorscale": [
          [
           0,
           "rgb(247,252,245)"
          ],
          [
           0.125,
           "rgb(229,245,224)"
          ],
          [
           0.25,
           "rgb(199,233,192)"
          ],
          [
           0.375,
           "rgb(161,217,155)"
          ],
          [
           0.5,
           "rgb(116,196,118)"
          ],
          [
           0.625,
           "rgb(65,171,93)"
          ],
          [
           0.75,
           "rgb(35,139,69)"
          ],
          [
           0.875,
           "rgb(0,109,44)"
          ],
          [
           1,
           "rgb(0,68,27)"
          ]
         ],
         "locationmode": "USA-states",
         "locations": [],
         "name": "Ratings per US State",
         "type": "choropleth",
         "visible": false,
         "z": []
        }
       ],
       "layout": {
        "geo": {
         "projection": {
          "type": "equirectangular"
         },
         "scope": "world",
         "showcoastlines": true,
         "showframe": false
        },
        "height": 600,
        "template": {
         "data": {
          "bar": [
           {
            "error_x": {
             "color": "#2a3f5f"
            },
            "error_y": {
             "color": "#2a3f5f"
            },
            "marker": {
             "line": {
              "color": "#E5ECF6",
              "width": 0.5
             },
             "pattern": {
              "fillmode": "overlay",
              "size": 10,
              "solidity": 0.2
             }
            },
            "type": "bar"
           }
          ],
          "barpolar": [
           {
            "marker": {
             "line": {
              "color": "#E5ECF6",
              "width": 0.5
             },
             "pattern": {
              "fillmode": "overlay",
              "size": 10,
              "solidity": 0.2
             }
            },
            "type": "barpolar"
           }
          ],
          "carpet": [
           {
            "aaxis": {
             "endlinecolor": "#2a3f5f",
             "gridcolor": "white",
             "linecolor": "white",
             "minorgridcolor": "white",
             "startlinecolor": "#2a3f5f"
            },
            "baxis": {
             "endlinecolor": "#2a3f5f",
             "gridcolor": "white",
             "linecolor": "white",
             "minorgridcolor": "white",
             "startlinecolor": "#2a3f5f"
            },
            "type": "carpet"
           }
          ],
          "choropleth": [
           {
            "colorbar": {
             "outlinewidth": 0,
             "ticks": ""
            },
            "type": "choropleth"
           }
          ],
          "contour": [
           {
            "colorbar": {
             "outlinewidth": 0,
             "ticks": ""
            },
            "colorscale": [
             [
              0,
              "#0d0887"
             ],
             [
              0.1111111111111111,
              "#46039f"
             ],
             [
              0.2222222222222222,
              "#7201a8"
             ],
             [
              0.3333333333333333,
              "#9c179e"
             ],
             [
              0.4444444444444444,
              "#bd3786"
             ],
             [
              0.5555555555555556,
              "#d8576b"
             ],
             [
              0.6666666666666666,
              "#ed7953"
             ],
             [
              0.7777777777777778,
              "#fb9f3a"
             ],
             [
              0.8888888888888888,
              "#fdca26"
             ],
             [
              1,
              "#f0f921"
             ]
            ],
            "type": "contour"
           }
          ],
          "contourcarpet": [
           {
            "colorbar": {
             "outlinewidth": 0,
             "ticks": ""
            },
            "type": "contourcarpet"
           }
          ],
          "heatmap": [
           {
            "colorbar": {
             "outlinewidth": 0,
             "ticks": ""
            },
            "colorscale": [
             [
              0,
              "#0d0887"
             ],
             [
              0.1111111111111111,
              "#46039f"
             ],
             [
              0.2222222222222222,
              "#7201a8"
             ],
             [
              0.3333333333333333,
              "#9c179e"
             ],
             [
              0.4444444444444444,
              "#bd3786"
             ],
             [
              0.5555555555555556,
              "#d8576b"
             ],
             [
              0.6666666666666666,
              "#ed7953"
             ],
             [
              0.7777777777777778,
              "#fb9f3a"
             ],
             [
              0.8888888888888888,
              "#fdca26"
             ],
             [
              1,
              "#f0f921"
             ]
            ],
            "type": "heatmap"
           }
          ],
          "heatmapgl": [
           {
            "colorbar": {
             "outlinewidth": 0,
             "ticks": ""
            },
            "colorscale": [
             [
              0,
              "#0d0887"
             ],
             [
              0.1111111111111111,
              "#46039f"
             ],
             [
              0.2222222222222222,
              "#7201a8"
             ],
             [
              0.3333333333333333,
              "#9c179e"
             ],
             [
              0.4444444444444444,
              "#bd3786"
             ],
             [
              0.5555555555555556,
              "#d8576b"
             ],
             [
              0.6666666666666666,
              "#ed7953"
             ],
             [
              0.7777777777777778,
              "#fb9f3a"
             ],
             [
              0.8888888888888888,
              "#fdca26"
             ],
             [
              1,
              "#f0f921"
             ]
            ],
            "type": "heatmapgl"
           }
          ],
          "histogram": [
           {
            "marker": {
             "pattern": {
              "fillmode": "overlay",
              "size": 10,
              "solidity": 0.2
             }
            },
            "type": "histogram"
           }
          ],
          "histogram2d": [
           {
            "colorbar": {
             "outlinewidth": 0,
             "ticks": ""
            },
            "colorscale": [
             [
              0,
              "#0d0887"
             ],
             [
              0.1111111111111111,
              "#46039f"
             ],
             [
              0.2222222222222222,
              "#7201a8"
             ],
             [
              0.3333333333333333,
              "#9c179e"
             ],
             [
              0.4444444444444444,
              "#bd3786"
             ],
             [
              0.5555555555555556,
              "#d8576b"
             ],
             [
              0.6666666666666666,
              "#ed7953"
             ],
             [
              0.7777777777777778,
              "#fb9f3a"
             ],
             [
              0.8888888888888888,
              "#fdca26"
             ],
             [
              1,
              "#f0f921"
             ]
            ],
            "type": "histogram2d"
           }
          ],
          "histogram2dcontour": [
           {
            "colorbar": {
             "outlinewidth": 0,
             "ticks": ""
            },
            "colorscale": [
             [
              0,
              "#0d0887"
             ],
             [
              0.1111111111111111,
              "#46039f"
             ],
             [
              0.2222222222222222,
              "#7201a8"
             ],
             [
              0.3333333333333333,
              "#9c179e"
             ],
             [
              0.4444444444444444,
              "#bd3786"
             ],
             [
              0.5555555555555556,
              "#d8576b"
             ],
             [
              0.6666666666666666,
              "#ed7953"
             ],
             [
              0.7777777777777778,
              "#fb9f3a"
             ],
             [
              0.8888888888888888,
              "#fdca26"
             ],
             [
              1,
              "#f0f921"
             ]
            ],
            "type": "histogram2dcontour"
           }
          ],
          "mesh3d": [
           {
            "colorbar": {
             "outlinewidth": 0,
             "ticks": ""
            },
            "type": "mesh3d"
           }
          ],
          "parcoords": [
           {
            "line": {
             "colorbar": {
              "outlinewidth": 0,
              "ticks": ""
             }
            },
            "type": "parcoords"
           }
          ],
          "pie": [
           {
            "automargin": true,
            "type": "pie"
           }
          ],
          "scatter": [
           {
            "fillpattern": {
             "fillmode": "overlay",
             "size": 10,
             "solidity": 0.2
            },
            "type": "scatter"
           }
          ],
          "scatter3d": [
           {
            "line": {
             "colorbar": {
              "outlinewidth": 0,
              "ticks": ""
             }
            },
            "marker": {
             "colorbar": {
              "outlinewidth": 0,
              "ticks": ""
             }
            },
            "type": "scatter3d"
           }
          ],
          "scattercarpet": [
           {
            "marker": {
             "colorbar": {
              "outlinewidth": 0,
              "ticks": ""
             }
            },
            "type": "scattercarpet"
           }
          ],
          "scattergeo": [
           {
            "marker": {
             "colorbar": {
              "outlinewidth": 0,
              "ticks": ""
             }
            },
            "type": "scattergeo"
           }
          ],
          "scattergl": [
           {
            "marker": {
             "colorbar": {
              "outlinewidth": 0,
              "ticks": ""
             }
            },
            "type": "scattergl"
           }
          ],
          "scattermapbox": [
           {
            "marker": {
             "colorbar": {
              "outlinewidth": 0,
              "ticks": ""
             }
            },
            "type": "scattermapbox"
           }
          ],
          "scatterpolar": [
           {
            "marker": {
             "colorbar": {
              "outlinewidth": 0,
              "ticks": ""
             }
            },
            "type": "scatterpolar"
           }
          ],
          "scatterpolargl": [
           {
            "marker": {
             "colorbar": {
              "outlinewidth": 0,
              "ticks": ""
             }
            },
            "type": "scatterpolargl"
           }
          ],
          "scatterternary": [
           {
            "marker": {
             "colorbar": {
              "outlinewidth": 0,
              "ticks": ""
             }
            },
            "type": "scatterternary"
           }
          ],
          "surface": [
           {
            "colorbar": {
             "outlinewidth": 0,
             "ticks": ""
            },
            "colorscale": [
             [
              0,
              "#0d0887"
             ],
             [
              0.1111111111111111,
              "#46039f"
             ],
             [
              0.2222222222222222,
              "#7201a8"
             ],
             [
              0.3333333333333333,
              "#9c179e"
             ],
             [
              0.4444444444444444,
              "#bd3786"
             ],
             [
              0.5555555555555556,
              "#d8576b"
             ],
             [
              0.6666666666666666,
              "#ed7953"
             ],
             [
              0.7777777777777778,
              "#fb9f3a"
             ],
             [
              0.8888888888888888,
              "#fdca26"
             ],
             [
              1,
              "#f0f921"
             ]
            ],
            "type": "surface"
           }
          ],
          "table": [
           {
            "cells": {
             "fill": {
              "color": "#EBF0F8"
             },
             "line": {
              "color": "white"
             }
            },
            "header": {
             "fill": {
              "color": "#C8D4E3"
             },
             "line": {
              "color": "white"
             }
            },
            "type": "table"
           }
          ]
         },
         "layout": {
          "annotationdefaults": {
           "arrowcolor": "#2a3f5f",
           "arrowhead": 0,
           "arrowwidth": 1
          },
          "autotypenumbers": "strict",
          "coloraxis": {
           "colorbar": {
            "outlinewidth": 0,
            "ticks": ""
           }
          },
          "colorscale": {
           "diverging": [
            [
             0,
             "#8e0152"
            ],
            [
             0.1,
             "#c51b7d"
            ],
            [
             0.2,
             "#de77ae"
            ],
            [
             0.3,
             "#f1b6da"
            ],
            [
             0.4,
             "#fde0ef"
            ],
            [
             0.5,
             "#f7f7f7"
            ],
            [
             0.6,
             "#e6f5d0"
            ],
            [
             0.7,
             "#b8e186"
            ],
            [
             0.8,
             "#7fbc41"
            ],
            [
             0.9,
             "#4d9221"
            ],
            [
             1,
             "#276419"
            ]
           ],
           "sequential": [
            [
             0,
             "#0d0887"
            ],
            [
             0.1111111111111111,
             "#46039f"
            ],
            [
             0.2222222222222222,
             "#7201a8"
            ],
            [
             0.3333333333333333,
             "#9c179e"
            ],
            [
             0.4444444444444444,
             "#bd3786"
            ],
            [
             0.5555555555555556,
             "#d8576b"
            ],
            [
             0.6666666666666666,
             "#ed7953"
            ],
            [
             0.7777777777777778,
             "#fb9f3a"
            ],
            [
             0.8888888888888888,
             "#fdca26"
            ],
            [
             1,
             "#f0f921"
            ]
           ],
           "sequentialminus": [
            [
             0,
             "#0d0887"
            ],
            [
             0.1111111111111111,
             "#46039f"
            ],
            [
             0.2222222222222222,
             "#7201a8"
            ],
            [
             0.3333333333333333,
             "#9c179e"
            ],
            [
             0.4444444444444444,
             "#bd3786"
            ],
            [
             0.5555555555555556,
             "#d8576b"
            ],
            [
             0.6666666666666666,
             "#ed7953"
            ],
            [
             0.7777777777777778,
             "#fb9f3a"
            ],
            [
             0.8888888888888888,
             "#fdca26"
            ],
            [
             1,
             "#f0f921"
            ]
           ]
          },
          "colorway": [
           "#636efa",
           "#EF553B",
           "#00cc96",
           "#ab63fa",
           "#FFA15A",
           "#19d3f3",
           "#FF6692",
           "#B6E880",
           "#FF97FF",
           "#FECB52"
          ],
          "font": {
           "color": "#2a3f5f"
          },
          "geo": {
           "bgcolor": "white",
           "lakecolor": "white",
           "landcolor": "#E5ECF6",
           "showlakes": true,
           "showland": true,
           "subunitcolor": "white"
          },
          "hoverlabel": {
           "align": "left"
          },
          "hovermode": "closest",
          "mapbox": {
           "style": "light"
          },
          "paper_bgcolor": "white",
          "plot_bgcolor": "#E5ECF6",
          "polar": {
           "angularaxis": {
            "gridcolor": "white",
            "linecolor": "white",
            "ticks": ""
           },
           "bgcolor": "#E5ECF6",
           "radialaxis": {
            "gridcolor": "white",
            "linecolor": "white",
            "ticks": ""
           }
          },
          "scene": {
           "xaxis": {
            "backgroundcolor": "#E5ECF6",
            "gridcolor": "white",
            "gridwidth": 2,
            "linecolor": "white",
            "showbackground": true,
            "ticks": "",
            "zerolinecolor": "white"
           },
           "yaxis": {
            "backgroundcolor": "#E5ECF6",
            "gridcolor": "white",
            "gridwidth": 2,
            "linecolor": "white",
            "showbackground": true,
            "ticks": "",
            "zerolinecolor": "white"
           },
           "zaxis": {
            "backgroundcolor": "#E5ECF6",
            "gridcolor": "white",
            "gridwidth": 2,
            "linecolor": "white",
            "showbackground": true,
            "ticks": "",
            "zerolinecolor": "white"
           }
          },
          "shapedefaults": {
           "line": {
            "color": "#2a3f5f"
           }
          },
          "ternary": {
           "aaxis": {
            "gridcolor": "white",
            "linecolor": "white",
            "ticks": ""
           },
           "baxis": {
            "gridcolor": "white",
            "linecolor": "white",
            "ticks": ""
           },
           "bgcolor": "#E5ECF6",
           "caxis": {
            "gridcolor": "white",
            "linecolor": "white",
            "ticks": ""
           }
          },
          "title": {
           "x": 0.05
          },
          "xaxis": {
           "automargin": true,
           "gridcolor": "white",
           "linecolor": "white",
           "ticks": "",
           "title": {
            "standoff": 15
           },
           "zerolinecolor": "white",
           "zerolinewidth": 2
          },
          "yaxis": {
           "automargin": true,
           "gridcolor": "white",
           "linecolor": "white",
           "ticks": "",
           "title": {
            "standoff": 15
           },
           "zerolinecolor": "white",
           "zerolinewidth": 2
          }
         }
        },
        "title": {
         "text": "Beer Stats by Country and US State",
         "x": 0.5,
         "xanchor": "center"
        },
        "updatemenus": [
         {
          "buttons": [
           {
            "args": [
             {
              "visible": [
               true,
               false,
               false,
               false,
               false
              ]
             }
            ],
            "label": "Breweries per Country",
            "method": "update"
           },
           {
            "args": [
             {
              "visible": [
               false,
               true,
               false,
               false,
               false
              ]
             }
            ],
            "label": "Ratings per Country",
            "method": "update"
           },
           {
            "args": [
             {
              "visible": [
               false,
               false,
               true,
               false,
               false
              ]
             }
            ],
            "label": "Unique Beers per Country",
            "method": "update"
           },
           {
            "args": [
             {
              "visible": [
               false,
               false,
               false,
               true,
               false
              ]
             }
            ],
            "label": "Breweries per US State",
            "method": "update"
           },
           {
            "args": [
             {
              "visible": [
               false,
               false,
               false,
               false,
               true
              ]
             }
            ],
            "label": "Ratings per US State",
            "method": "update"
           }
          ],
          "direction": "down",
          "showactive": true,
          "x": 0.1,
          "xanchor": "left",
          "y": 1.15,
          "yanchor": "top"
         }
        ],
        "width": 800
       }
      }
     },
     "metadata": {},
     "output_type": "display_data"
    }
   ],
   "source": [
    "# Example DataFrames (replace with actual DataFrames)\n",
    "df_breweries = pd.read_parquet(FOLDER + \"/breweries.pq\")\n",
    "df_ratings_no_text = pd.read_parquet(FOLDER + \"/ratings_no_text.pq\")\n",
    "\n",
    "# Preprocess the data for global and US state-level analysis\n",
    "breweries_per_country = df_breweries.groupby(\"location\").size().reset_index(name=\"nbr_breweries\")\n",
    "ratings_per_country = df_ratings_no_text.groupby(\"location\").size().reset_index(name=\"nbr_ratings\")\n",
    "unique_beers_per_country = (\n",
    "    df_ratings_no_text.groupby(\"location\")[\"beer_id\"].nunique().reset_index(name=\"nbr_unique_beers\")\n",
    ")\n",
    "\n",
    "# Filter US-specific data for state-level analysis\n",
    "df_breweries_us = df_breweries[df_breweries[\"location\"].str.contains(\", USA\", na=False)]\n",
    "df_breweries_us[\"state\"] = df_breweries_us[\"location\"].str.split(\", \").str[0]\n",
    "breweries_per_state = df_breweries_us.groupby(\"state\").size().reset_index(name=\"nbr_breweries\")\n",
    "\n",
    "df_ratings_us = df_ratings_no_text[df_ratings_no_text[\"location\"].str.contains(\", USA\", na=False)]\n",
    "df_ratings_us[\"state\"] = df_ratings_us[\"location\"].str.split(\", \").str[0]\n",
    "ratings_per_state = df_ratings_us.groupby(\"state\").size().reset_index(name=\"nbr_ratings\")\n",
    "\n",
    "# Create base figure\n",
    "fig = go.Figure()\n",
    "\n",
    "# Add traces for global country-level stats\n",
    "fig.add_trace(\n",
    "    go.Choropleth(\n",
    "        locations=breweries_per_country[\"location\"],\n",
    "        locationmode=\"country names\",\n",
    "        z=breweries_per_country[\"nbr_breweries\"],\n",
    "        colorscale=\"Blues\",\n",
    "        colorbar_title=\"Breweries\",\n",
    "        visible=True,  # Show this trace initially\n",
    "        name=\"Breweries per Country\",\n",
    "    )\n",
    ")\n",
    "\n",
    "fig.add_trace(\n",
    "    go.Choropleth(\n",
    "        locations=ratings_per_country[\"location\"],\n",
    "        locationmode=\"country names\",\n",
    "        z=ratings_per_country[\"nbr_ratings\"],\n",
    "        colorscale=\"Greens\",\n",
    "        colorbar_title=\"Ratings\",\n",
    "        visible=False,\n",
    "        name=\"Ratings per Country\",\n",
    "    )\n",
    ")\n",
    "\n",
    "fig.add_trace(\n",
    "    go.Choropleth(\n",
    "        locations=unique_beers_per_country[\"location\"],\n",
    "        locationmode=\"country names\",\n",
    "        z=unique_beers_per_country[\"nbr_unique_beers\"],\n",
    "        colorscale=\"Reds\",\n",
    "        colorbar_title=\"Unique Beers\",\n",
    "        visible=False,\n",
    "        name=\"Unique Beers per Country\",\n",
    "    )\n",
    ")\n",
    "\n",
    "# Add traces for US state-level stats\n",
    "fig.add_trace(\n",
    "    go.Choropleth(\n",
    "        locations=breweries_per_state[\"state\"],\n",
    "        locationmode=\"USA-states\",\n",
    "        z=breweries_per_state[\"nbr_breweries\"],\n",
    "        colorscale=\"Blues\",\n",
    "        colorbar_title=\"Breweries\",\n",
    "        visible=False,\n",
    "        name=\"Breweries per US State\",\n",
    "    )\n",
    ")\n",
    "\n",
    "fig.add_trace(\n",
    "    go.Choropleth(\n",
    "        locations=ratings_per_state[\"state\"],\n",
    "        locationmode=\"USA-states\",\n",
    "        z=ratings_per_state[\"nbr_ratings\"],\n",
    "        colorscale=\"Greens\",\n",
    "        colorbar_title=\"Ratings\",\n",
    "        visible=False,\n",
    "        name=\"Ratings per US State\",\n",
    "    )\n",
    ")\n",
    "\n",
    "# Add dropdown menu for selecting the plots\n",
    "fig.update_layout(\n",
    "    updatemenus=[\n",
    "        dict(\n",
    "            buttons=[\n",
    "                dict(\n",
    "                    args=[{\"visible\": [True, False, False, False, False]}],\n",
    "                    label=\"Breweries per Country\",\n",
    "                    method=\"update\",\n",
    "                ),\n",
    "                dict(\n",
    "                    args=[{\"visible\": [False, True, False, False, False]}],\n",
    "                    label=\"Ratings per Country\",\n",
    "                    method=\"update\",\n",
    "                ),\n",
    "                dict(\n",
    "                    args=[{\"visible\": [False, False, True, False, False]}],\n",
    "                    label=\"Unique Beers per Country\",\n",
    "                    method=\"update\",\n",
    "                ),\n",
    "                dict(\n",
    "                    args=[{\"visible\": [False, False, False, True, False]}],\n",
    "                    label=\"Breweries per US State\",\n",
    "                    method=\"update\",\n",
    "                ),\n",
    "                dict(\n",
    "                    args=[{\"visible\": [False, False, False, False, True]}],\n",
    "                    label=\"Ratings per US State\",\n",
    "                    method=\"update\",\n",
    "                ),\n",
    "            ],\n",
    "            direction=\"down\",\n",
    "            showactive=True,\n",
    "            x=0.1,\n",
    "            y=1.15,\n",
    "            xanchor=\"left\",\n",
    "            yanchor=\"top\",\n",
    "        )\n",
    "    ]\n",
    ")\n",
    "\n",
    "# Layout settings\n",
    "fig.update_layout(\n",
    "    title=dict(\n",
    "        text=\"Beer Stats by Country and US State\",\n",
    "        x=0.5,\n",
    "        xanchor=\"center\",\n",
    "    ),\n",
    "    geo=dict(\n",
    "        showframe=False,\n",
    "        showcoastlines=True,\n",
    "        projection_type=\"equirectangular\",\n",
    "        scope=\"world\",\n",
    "    ),\n",
    "    height=600,\n",
    "    width=800,\n",
    ")\n",
    "\n",
    "# Show the plot\n",
    "fig.show()\n"
   ]
  }
 ],
 "metadata": {
  "kernelspec": {
   "display_name": "Python 3",
   "language": "python",
   "name": "python3"
  },
  "language_info": {
   "codemirror_mode": {
    "name": "ipython",
    "version": 3
   },
   "file_extension": ".py",
   "mimetype": "text/x-python",
   "name": "python",
   "nbconvert_exporter": "python",
   "pygments_lexer": "ipython3",
   "version": "3.10.12"
  }
 },
 "nbformat": 4,
 "nbformat_minor": 2
}
