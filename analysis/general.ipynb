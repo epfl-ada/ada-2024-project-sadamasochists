{
 "cells": [
  {
   "cell_type": "markdown",
   "metadata": {},
   "source": [
    "# General analysis\n",
    "### Data importing"
   ]
  },
  {
   "cell_type": "code",
   "execution_count": 1,
   "metadata": {},
   "outputs": [],
   "source": [
    "# Import all libraries\n",
    "import pandas as pd\n",
    "import os\n",
    "import plotly.express as px\n",
    "from src.utils.plots import *\n",
    "\n",
    "# Set the data folder\n",
    "DATA_FOLDER = os.path.join(os.getcwd(), '../data/processed/')\n",
    "\n",
    "# Save the images folder\n",
    "IMAGES_FOLDER = os.path.join(os.getcwd(), '../docs/plots/')\n",
    "\n",
    "# Load the data\n",
    "df_beers = pd.read_parquet(DATA_FOLDER + 'beers.pq')\n",
    "df_breweries = pd.read_parquet(DATA_FOLDER + 'breweries.pq')\n",
    "df_users = pd.read_parquet(DATA_FOLDER + 'users.pq')\n",
    "df_ratings_no_text = pd.read_parquet(DATA_FOLDER + 'ratings_no_text.pq')"
   ]
  },
  {
   "cell_type": "markdown",
   "metadata": {},
   "source": [
    "### General analysis with correlation study"
   ]
  },
  {
   "cell_type": "code",
   "execution_count": 2,
   "metadata": {},
   "outputs": [
    {
     "data": {
      "application/vnd.plotly.v1+json": {
       "config": {
        "plotlyServerURL": "https://plot.ly"
       },
       "data": [
        {
         "colorscale": [
          [
           0,
           "pink"
          ],
          [
           1,
           "red"
          ]
         ],
         "hoverinfo": "text",
         "showscale": true,
         "text": [
          "palate vs taste: 0.65",
          "palate vs appearance: 0.55",
          "taste vs appearance: 0.48",
          "palate vs aroma: 0.57",
          "taste vs aroma: 0.79",
          "appearance vs aroma: 0.47",
          "palate vs overall: 0.66",
          "taste vs overall: 0.86",
          "appearance vs overall: 0.50",
          "aroma vs overall: 0.77",
          "palate vs abv: 0.30",
          "taste vs abv: 0.36",
          "appearance vs abv: 0.25",
          "aroma vs abv: 0.37",
          "overall vs abv: 0.37"
         ],
         "type": "heatmap",
         "x": [
          "palate",
          "palate",
          "taste",
          "palate",
          "taste",
          "appearance",
          "palate",
          "taste",
          "appearance",
          "aroma",
          "palate",
          "taste",
          "appearance",
          "aroma",
          "overall"
         ],
         "y": [
          "taste",
          "appearance",
          "appearance",
          "aroma",
          "aroma",
          "aroma",
          "overall",
          "overall",
          "overall",
          "overall",
          "abv",
          "abv",
          "abv",
          "abv",
          "abv"
         ],
         "z": [
          0.6541765841032743,
          0.5482822975262194,
          0.4834263298310602,
          0.5650756199812879,
          0.7935019951316385,
          0.47485936674323675,
          0.6558897905150176,
          0.8562689138250614,
          0.49616162458862084,
          0.7733851582008416,
          0.30445716746180823,
          0.35788120173223104,
          0.25103249482055645,
          0.3719623930902823,
          0.3705053957949527
         ],
         "zmax": 0.8562689138250614,
         "zmin": 0.25103249482055645
        }
       ],
       "layout": {
        "annotations": [
         {
          "font": {
           "color": "black",
           "size": 10
          },
          "showarrow": false,
          "text": "0.65",
          "x": "palate",
          "y": "taste"
         },
         {
          "font": {
           "color": "black",
           "size": 10
          },
          "showarrow": false,
          "text": "0.55",
          "x": "palate",
          "y": "appearance"
         },
         {
          "font": {
           "color": "black",
           "size": 10
          },
          "showarrow": false,
          "text": "0.48",
          "x": "taste",
          "y": "appearance"
         },
         {
          "font": {
           "color": "black",
           "size": 10
          },
          "showarrow": false,
          "text": "0.57",
          "x": "palate",
          "y": "aroma"
         },
         {
          "font": {
           "color": "black",
           "size": 10
          },
          "showarrow": false,
          "text": "0.79",
          "x": "taste",
          "y": "aroma"
         },
         {
          "font": {
           "color": "black",
           "size": 10
          },
          "showarrow": false,
          "text": "0.47",
          "x": "appearance",
          "y": "aroma"
         },
         {
          "font": {
           "color": "black",
           "size": 10
          },
          "showarrow": false,
          "text": "0.66",
          "x": "palate",
          "y": "overall"
         },
         {
          "font": {
           "color": "black",
           "size": 10
          },
          "showarrow": false,
          "text": "0.86",
          "x": "taste",
          "y": "overall"
         },
         {
          "font": {
           "color": "black",
           "size": 10
          },
          "showarrow": false,
          "text": "0.50",
          "x": "appearance",
          "y": "overall"
         },
         {
          "font": {
           "color": "black",
           "size": 10
          },
          "showarrow": false,
          "text": "0.77",
          "x": "aroma",
          "y": "overall"
         },
         {
          "font": {
           "color": "black",
           "size": 10
          },
          "showarrow": false,
          "text": "0.30",
          "x": "palate",
          "y": "abv"
         },
         {
          "font": {
           "color": "black",
           "size": 10
          },
          "showarrow": false,
          "text": "0.36",
          "x": "taste",
          "y": "abv"
         },
         {
          "font": {
           "color": "black",
           "size": 10
          },
          "showarrow": false,
          "text": "0.25",
          "x": "appearance",
          "y": "abv"
         },
         {
          "font": {
           "color": "black",
           "size": 10
          },
          "showarrow": false,
          "text": "0.37",
          "x": "aroma",
          "y": "abv"
         },
         {
          "font": {
           "color": "black",
           "size": 10
          },
          "showarrow": false,
          "text": "0.37",
          "x": "overall",
          "y": "abv"
         }
        ],
        "autosize": true,
        "template": {
         "data": {
          "bar": [
           {
            "error_x": {
             "color": "#2a3f5f"
            },
            "error_y": {
             "color": "#2a3f5f"
            },
            "marker": {
             "line": {
              "color": "#E5ECF6",
              "width": 0.5
             },
             "pattern": {
              "fillmode": "overlay",
              "size": 10,
              "solidity": 0.2
             }
            },
            "type": "bar"
           }
          ],
          "barpolar": [
           {
            "marker": {
             "line": {
              "color": "#E5ECF6",
              "width": 0.5
             },
             "pattern": {
              "fillmode": "overlay",
              "size": 10,
              "solidity": 0.2
             }
            },
            "type": "barpolar"
           }
          ],
          "carpet": [
           {
            "aaxis": {
             "endlinecolor": "#2a3f5f",
             "gridcolor": "white",
             "linecolor": "white",
             "minorgridcolor": "white",
             "startlinecolor": "#2a3f5f"
            },
            "baxis": {
             "endlinecolor": "#2a3f5f",
             "gridcolor": "white",
             "linecolor": "white",
             "minorgridcolor": "white",
             "startlinecolor": "#2a3f5f"
            },
            "type": "carpet"
           }
          ],
          "choropleth": [
           {
            "colorbar": {
             "outlinewidth": 0,
             "ticks": ""
            },
            "type": "choropleth"
           }
          ],
          "contour": [
           {
            "colorbar": {
             "outlinewidth": 0,
             "ticks": ""
            },
            "colorscale": [
             [
              0,
              "#0d0887"
             ],
             [
              0.1111111111111111,
              "#46039f"
             ],
             [
              0.2222222222222222,
              "#7201a8"
             ],
             [
              0.3333333333333333,
              "#9c179e"
             ],
             [
              0.4444444444444444,
              "#bd3786"
             ],
             [
              0.5555555555555556,
              "#d8576b"
             ],
             [
              0.6666666666666666,
              "#ed7953"
             ],
             [
              0.7777777777777778,
              "#fb9f3a"
             ],
             [
              0.8888888888888888,
              "#fdca26"
             ],
             [
              1,
              "#f0f921"
             ]
            ],
            "type": "contour"
           }
          ],
          "contourcarpet": [
           {
            "colorbar": {
             "outlinewidth": 0,
             "ticks": ""
            },
            "type": "contourcarpet"
           }
          ],
          "heatmap": [
           {
            "colorbar": {
             "outlinewidth": 0,
             "ticks": ""
            },
            "colorscale": [
             [
              0,
              "#0d0887"
             ],
             [
              0.1111111111111111,
              "#46039f"
             ],
             [
              0.2222222222222222,
              "#7201a8"
             ],
             [
              0.3333333333333333,
              "#9c179e"
             ],
             [
              0.4444444444444444,
              "#bd3786"
             ],
             [
              0.5555555555555556,
              "#d8576b"
             ],
             [
              0.6666666666666666,
              "#ed7953"
             ],
             [
              0.7777777777777778,
              "#fb9f3a"
             ],
             [
              0.8888888888888888,
              "#fdca26"
             ],
             [
              1,
              "#f0f921"
             ]
            ],
            "type": "heatmap"
           }
          ],
          "heatmapgl": [
           {
            "colorbar": {
             "outlinewidth": 0,
             "ticks": ""
            },
            "colorscale": [
             [
              0,
              "#0d0887"
             ],
             [
              0.1111111111111111,
              "#46039f"
             ],
             [
              0.2222222222222222,
              "#7201a8"
             ],
             [
              0.3333333333333333,
              "#9c179e"
             ],
             [
              0.4444444444444444,
              "#bd3786"
             ],
             [
              0.5555555555555556,
              "#d8576b"
             ],
             [
              0.6666666666666666,
              "#ed7953"
             ],
             [
              0.7777777777777778,
              "#fb9f3a"
             ],
             [
              0.8888888888888888,
              "#fdca26"
             ],
             [
              1,
              "#f0f921"
             ]
            ],
            "type": "heatmapgl"
           }
          ],
          "histogram": [
           {
            "marker": {
             "pattern": {
              "fillmode": "overlay",
              "size": 10,
              "solidity": 0.2
             }
            },
            "type": "histogram"
           }
          ],
          "histogram2d": [
           {
            "colorbar": {
             "outlinewidth": 0,
             "ticks": ""
            },
            "colorscale": [
             [
              0,
              "#0d0887"
             ],
             [
              0.1111111111111111,
              "#46039f"
             ],
             [
              0.2222222222222222,
              "#7201a8"
             ],
             [
              0.3333333333333333,
              "#9c179e"
             ],
             [
              0.4444444444444444,
              "#bd3786"
             ],
             [
              0.5555555555555556,
              "#d8576b"
             ],
             [
              0.6666666666666666,
              "#ed7953"
             ],
             [
              0.7777777777777778,
              "#fb9f3a"
             ],
             [
              0.8888888888888888,
              "#fdca26"
             ],
             [
              1,
              "#f0f921"
             ]
            ],
            "type": "histogram2d"
           }
          ],
          "histogram2dcontour": [
           {
            "colorbar": {
             "outlinewidth": 0,
             "ticks": ""
            },
            "colorscale": [
             [
              0,
              "#0d0887"
             ],
             [
              0.1111111111111111,
              "#46039f"
             ],
             [
              0.2222222222222222,
              "#7201a8"
             ],
             [
              0.3333333333333333,
              "#9c179e"
             ],
             [
              0.4444444444444444,
              "#bd3786"
             ],
             [
              0.5555555555555556,
              "#d8576b"
             ],
             [
              0.6666666666666666,
              "#ed7953"
             ],
             [
              0.7777777777777778,
              "#fb9f3a"
             ],
             [
              0.8888888888888888,
              "#fdca26"
             ],
             [
              1,
              "#f0f921"
             ]
            ],
            "type": "histogram2dcontour"
           }
          ],
          "mesh3d": [
           {
            "colorbar": {
             "outlinewidth": 0,
             "ticks": ""
            },
            "type": "mesh3d"
           }
          ],
          "parcoords": [
           {
            "line": {
             "colorbar": {
              "outlinewidth": 0,
              "ticks": ""
             }
            },
            "type": "parcoords"
           }
          ],
          "pie": [
           {
            "automargin": true,
            "type": "pie"
           }
          ],
          "scatter": [
           {
            "fillpattern": {
             "fillmode": "overlay",
             "size": 10,
             "solidity": 0.2
            },
            "type": "scatter"
           }
          ],
          "scatter3d": [
           {
            "line": {
             "colorbar": {
              "outlinewidth": 0,
              "ticks": ""
             }
            },
            "marker": {
             "colorbar": {
              "outlinewidth": 0,
              "ticks": ""
             }
            },
            "type": "scatter3d"
           }
          ],
          "scattercarpet": [
           {
            "marker": {
             "colorbar": {
              "outlinewidth": 0,
              "ticks": ""
             }
            },
            "type": "scattercarpet"
           }
          ],
          "scattergeo": [
           {
            "marker": {
             "colorbar": {
              "outlinewidth": 0,
              "ticks": ""
             }
            },
            "type": "scattergeo"
           }
          ],
          "scattergl": [
           {
            "marker": {
             "colorbar": {
              "outlinewidth": 0,
              "ticks": ""
             }
            },
            "type": "scattergl"
           }
          ],
          "scattermapbox": [
           {
            "marker": {
             "colorbar": {
              "outlinewidth": 0,
              "ticks": ""
             }
            },
            "type": "scattermapbox"
           }
          ],
          "scatterpolar": [
           {
            "marker": {
             "colorbar": {
              "outlinewidth": 0,
              "ticks": ""
             }
            },
            "type": "scatterpolar"
           }
          ],
          "scatterpolargl": [
           {
            "marker": {
             "colorbar": {
              "outlinewidth": 0,
              "ticks": ""
             }
            },
            "type": "scatterpolargl"
           }
          ],
          "scatterternary": [
           {
            "marker": {
             "colorbar": {
              "outlinewidth": 0,
              "ticks": ""
             }
            },
            "type": "scatterternary"
           }
          ],
          "surface": [
           {
            "colorbar": {
             "outlinewidth": 0,
             "ticks": ""
            },
            "colorscale": [
             [
              0,
              "#0d0887"
             ],
             [
              0.1111111111111111,
              "#46039f"
             ],
             [
              0.2222222222222222,
              "#7201a8"
             ],
             [
              0.3333333333333333,
              "#9c179e"
             ],
             [
              0.4444444444444444,
              "#bd3786"
             ],
             [
              0.5555555555555556,
              "#d8576b"
             ],
             [
              0.6666666666666666,
              "#ed7953"
             ],
             [
              0.7777777777777778,
              "#fb9f3a"
             ],
             [
              0.8888888888888888,
              "#fdca26"
             ],
             [
              1,
              "#f0f921"
             ]
            ],
            "type": "surface"
           }
          ],
          "table": [
           {
            "cells": {
             "fill": {
              "color": "#EBF0F8"
             },
             "line": {
              "color": "white"
             }
            },
            "header": {
             "fill": {
              "color": "#C8D4E3"
             },
             "line": {
              "color": "white"
             }
            },
            "type": "table"
           }
          ]
         },
         "layout": {
          "annotationdefaults": {
           "arrowcolor": "#2a3f5f",
           "arrowhead": 0,
           "arrowwidth": 1
          },
          "autotypenumbers": "strict",
          "coloraxis": {
           "colorbar": {
            "outlinewidth": 0,
            "ticks": ""
           }
          },
          "colorscale": {
           "diverging": [
            [
             0,
             "#8e0152"
            ],
            [
             0.1,
             "#c51b7d"
            ],
            [
             0.2,
             "#de77ae"
            ],
            [
             0.3,
             "#f1b6da"
            ],
            [
             0.4,
             "#fde0ef"
            ],
            [
             0.5,
             "#f7f7f7"
            ],
            [
             0.6,
             "#e6f5d0"
            ],
            [
             0.7,
             "#b8e186"
            ],
            [
             0.8,
             "#7fbc41"
            ],
            [
             0.9,
             "#4d9221"
            ],
            [
             1,
             "#276419"
            ]
           ],
           "sequential": [
            [
             0,
             "#0d0887"
            ],
            [
             0.1111111111111111,
             "#46039f"
            ],
            [
             0.2222222222222222,
             "#7201a8"
            ],
            [
             0.3333333333333333,
             "#9c179e"
            ],
            [
             0.4444444444444444,
             "#bd3786"
            ],
            [
             0.5555555555555556,
             "#d8576b"
            ],
            [
             0.6666666666666666,
             "#ed7953"
            ],
            [
             0.7777777777777778,
             "#fb9f3a"
            ],
            [
             0.8888888888888888,
             "#fdca26"
            ],
            [
             1,
             "#f0f921"
            ]
           ],
           "sequentialminus": [
            [
             0,
             "#0d0887"
            ],
            [
             0.1111111111111111,
             "#46039f"
            ],
            [
             0.2222222222222222,
             "#7201a8"
            ],
            [
             0.3333333333333333,
             "#9c179e"
            ],
            [
             0.4444444444444444,
             "#bd3786"
            ],
            [
             0.5555555555555556,
             "#d8576b"
            ],
            [
             0.6666666666666666,
             "#ed7953"
            ],
            [
             0.7777777777777778,
             "#fb9f3a"
            ],
            [
             0.8888888888888888,
             "#fdca26"
            ],
            [
             1,
             "#f0f921"
            ]
           ]
          },
          "colorway": [
           "#636efa",
           "#EF553B",
           "#00cc96",
           "#ab63fa",
           "#FFA15A",
           "#19d3f3",
           "#FF6692",
           "#B6E880",
           "#FF97FF",
           "#FECB52"
          ],
          "font": {
           "color": "#2a3f5f"
          },
          "geo": {
           "bgcolor": "white",
           "lakecolor": "white",
           "landcolor": "#E5ECF6",
           "showlakes": true,
           "showland": true,
           "subunitcolor": "white"
          },
          "hoverlabel": {
           "align": "left"
          },
          "hovermode": "closest",
          "mapbox": {
           "style": "light"
          },
          "paper_bgcolor": "white",
          "plot_bgcolor": "#E5ECF6",
          "polar": {
           "angularaxis": {
            "gridcolor": "white",
            "linecolor": "white",
            "ticks": ""
           },
           "bgcolor": "#E5ECF6",
           "radialaxis": {
            "gridcolor": "white",
            "linecolor": "white",
            "ticks": ""
           }
          },
          "scene": {
           "xaxis": {
            "backgroundcolor": "#E5ECF6",
            "gridcolor": "white",
            "gridwidth": 2,
            "linecolor": "white",
            "showbackground": true,
            "ticks": "",
            "zerolinecolor": "white"
           },
           "yaxis": {
            "backgroundcolor": "#E5ECF6",
            "gridcolor": "white",
            "gridwidth": 2,
            "linecolor": "white",
            "showbackground": true,
            "ticks": "",
            "zerolinecolor": "white"
           },
           "zaxis": {
            "backgroundcolor": "#E5ECF6",
            "gridcolor": "white",
            "gridwidth": 2,
            "linecolor": "white",
            "showbackground": true,
            "ticks": "",
            "zerolinecolor": "white"
           }
          },
          "shapedefaults": {
           "line": {
            "color": "#2a3f5f"
           }
          },
          "ternary": {
           "aaxis": {
            "gridcolor": "white",
            "linecolor": "white",
            "ticks": ""
           },
           "baxis": {
            "gridcolor": "white",
            "linecolor": "white",
            "ticks": ""
           },
           "bgcolor": "#E5ECF6",
           "caxis": {
            "gridcolor": "white",
            "linecolor": "white",
            "ticks": ""
           }
          },
          "title": {
           "x": 0.05
          },
          "xaxis": {
           "automargin": true,
           "gridcolor": "white",
           "linecolor": "white",
           "ticks": "",
           "title": {
            "standoff": 15
           },
           "zerolinecolor": "white",
           "zerolinewidth": 2
          },
          "yaxis": {
           "automargin": true,
           "gridcolor": "white",
           "linecolor": "white",
           "ticks": "",
           "title": {
            "standoff": 15
           },
           "zerolinecolor": "white",
           "zerolinewidth": 2
          }
         }
        },
        "title": {
         "text": "Correlation Matrix"
        },
        "xaxis": {
         "tickangle": 45
        },
        "yaxis": {
         "tickmode": "linear"
        }
       }
      }
     },
     "metadata": {},
     "output_type": "display_data"
    }
   ],
   "source": [
    "corr = df_ratings_no_text[['palate','taste','appearance','aroma','overall','abv']].corr()\n",
    "plot_correlation_matrix(df_ratings_no_text[['palate','taste','appearance','aroma','overall','abv']], filename=IMAGES_FOLDER + 'correlation_matrix.html')"
   ]
  },
  {
   "cell_type": "markdown",
   "metadata": {},
   "source": [
    "<b>Rewrite them to make them suite in the narrative of the \"popularity\"</b>"
   ]
  },
  {
   "cell_type": "markdown",
   "metadata": {},
   "source": [
    "Let's review for a moment the definition of palate, taste, appearance, aroma and overall, as defined by ratebeer:\n",
    "- <b>Aroma</b>: the smell of the beer\n",
    "- <b>Appearance</b>: the color, clarity, head and visual carbonation of the beer.\n",
    "- <b>Taste</b>: the flavor of the beer, thinking about the palate, bitterness and finish.\n",
    "- <b>Mouthfeel</b>: the body of the beer, the carbonation and the astrincency.\n",
    "- <b>Overall</b>: the overall characteristics and the personal experience of the beer.\n",
    "\n",
    "In this case we don't plot the rating since it's computed from all the other features but we'll use it to quantify the rating of a beer (rather than using the overall) since it takes into account all the other features. <br><br>\n",
    "Appearance and Mouthfeel are each scored out of 5. Aroma and Taste are scored out of 10. While Overall is scored out of 20. These all combine to give the beer a total score out of 50, which is then divided and displayed as a score out of 5 for each rating."
   ]
  },
  {
   "cell_type": "markdown",
   "metadata": {},
   "source": [
    "Overall, taste and aroma have a strong connection. We see that this is reasonable since the taste and the smell of a beer are significant while expressing a preference for a beer and it's likely that users when evaluating the overall experience gives a high weight to these two factors (so if they are low, also the overall experience will be low). We see that while the appearance and the palate have a connection which is not negiglible (0.5 an 0.66) we see that this is less strong since it's reasonable to think that the appearance and the body of the beer impact less the overall rating, which makes this connection weaker"
   ]
  },
  {
   "cell_type": "markdown",
   "metadata": {},
   "source": [
    "The correlation between the overall rating and ABV (0.37) is indeed less strong, which makes sense. While there is some relationship between alcohol content and the overall rating, the lower correlation suggests that ABV is not a dominant factor in how users rate a beer. This is intuitive because many beers have similar ABV ranges, and the experience can vary significantly based on other factors (like taste, aroma, or body). Therefore, even beers with the same ABV can lead to quite different user experiences, reducing the strength of the correlation between ABV and overall rating."
   ]
  },
  {
   "cell_type": "markdown",
   "metadata": {},
   "source": [
    "<b>Note</b> Here I'd add the correlation matrix (maybe change the plot if you don't like it) and I'd describe how the rating / popularity is linked with the different aspect of the ratings. I'd highlight the fact that the correlation between the ABV and the overall is still interesting because it proves what we observed in the ABV plots so I'd make a reference to the fact that we'll observe this phenomenon in the next sections. Let me know if you think we need to do some kind of temporal analysis (I think spatial would be too complex but let me know)"
   ]
  },
  {
   "cell_type": "markdown",
   "metadata": {},
   "source": [
    "### Average rating in the different countries"
   ]
  },
  {
   "cell_type": "code",
   "execution_count": null,
   "metadata": {},
   "outputs": [
    {
     "data": {
      "application/vnd.plotly.v1+json": {
       "config": {
        "plotlyServerURL": "https://plot.ly"
       },
       "data": [
        {
         "colorscale": [
          [
           0,
           "rgb(247,251,255)"
          ],
          [
           0.125,
           "rgb(222,235,247)"
          ],
          [
           0.25,
           "rgb(198,219,239)"
          ],
          [
           0.375,
           "rgb(158,202,225)"
          ],
          [
           0.5,
           "rgb(107,174,214)"
          ],
          [
           0.625,
           "rgb(66,146,198)"
          ],
          [
           0.75,
           "rgb(33,113,181)"
          ],
          [
           0.875,
           "rgb(8,81,156)"
          ],
          [
           1,
           "rgb(8,48,107)"
          ]
         ],
         "hovertemplate": "<b>%{location}</b><br>Count: %{z}<extra></extra>",
         "locationmode": "country names",
         "locations": [
          "Albania",
          "Andorra",
          "Argentina",
          "Armenia",
          "Aruba",
          "Australia",
          "Austria",
          "Bahamas",
          "Barbados",
          "Belarus",
          "Belgium",
          "Belize",
          "Bolivia",
          "Bosnia and Herzegovina",
          "Brazil",
          "Bulgaria",
          "Cambodia",
          "Canada",
          "Cayman Islands",
          "Chile",
          "China",
          "Colombia",
          "Costa Rica",
          "Croatia",
          "Cuba",
          "Cyprus",
          "Czech Republic",
          "Denmark",
          "Dominican Republic",
          "Ecuador",
          "Egypt",
          "El Salvador",
          "Estonia",
          "Ethiopia",
          "Faroe Islands",
          "Fiji Islands",
          "Finland",
          "France",
          "French Polynesia",
          "Georgia",
          "Germany",
          "Ghana",
          "Greece",
          "Greenland",
          "Guatemala",
          "Guernsey",
          "Honduras",
          "Hong Kong",
          "Hungary",
          "Iceland",
          "India",
          "Indonesia",
          "Iran",
          "Ireland",
          "Isle of Man",
          "Israel",
          "Italy",
          "Jamaica",
          "Japan",
          "Jersey",
          "Jordan",
          "Kazakhstan",
          "Kenya",
          "Kosovo",
          "Laos",
          "Latvia",
          "Lebanon",
          "Liechtenstein",
          "Lithuania",
          "Luxembourg",
          "Macedonia",
          "Malaysia",
          "Malta",
          "Mauritius",
          "Mexico",
          "Moldova",
          "Mongolia",
          "Montenegro",
          "Morocco",
          "Mozambique",
          "Myanmar",
          "Namibia",
          "Nepal",
          "Netherlands",
          "New Zealand",
          "Nicaragua",
          "Nigeria",
          "Norway",
          "Palestine",
          "Panama",
          "Peru",
          "Philippines",
          "Poland",
          "Portugal",
          "Puerto Rico",
          "Romania",
          "Russia",
          "Serbia",
          "Singapore",
          "Slovak Republic",
          "Slovenia",
          "South Africa",
          "South Korea",
          "Spain",
          "Sri Lanka",
          "Sweden",
          "Switzerland",
          "Taiwan",
          "Tanzania",
          "Thailand",
          "Trinidad & Tobago",
          "Tunisia",
          "Turkey",
          "Uganda",
          "Ukraine",
          "United Kingdom",
          "Uruguay",
          "Venezuela",
          "Vietnam",
          "Virgin Islands (U.S.)"
         ],
         "showscale": false,
         "type": "choropleth",
         "visible": true,
         "z": [
          2.1119777158774373,
          2.585714285714286,
          2.607118572035699,
          2.190193704600484,
          2.1403162055335967,
          3.0370764578072698,
          3.0776076870540026,
          2.1686974789915965,
          2.2974358974358973,
          2.604080854309687,
          3.505188606571568,
          2.4284671532846716,
          2.153821138211382,
          2.4098099325567137,
          2.9754245995769115,
          2.4408252853380157,
          2.4073109243697477,
          3.2685467150835312,
          2.5821917808219177,
          2.855684673366834,
          2.2122723761174266,
          2.267986577181208,
          2.2328125,
          2.768176599519883,
          1.9291887125220457,
          2.3464528668610303,
          3.048804193015439,
          3.1224801470727592,
          1.9820224719101123,
          2.4479198767334363,
          1.9346253229974162,
          1.8547682119205298,
          3.0850166089476287,
          2.3588832487309643,
          2.5985116653258244,
          2.126685393258427,
          2.970781401072339,
          2.955803888464579,
          2.125531914893617,
          2.259514687100894,
          3.063336412934324,
          2.0742063492063494,
          2.7028447742733457,
          2.7908484270734033,
          1.8584261321455087,
          2.685576923076923,
          2.015635738831615,
          2.7852747252747254,
          2.859322291445069,
          3.1529116583031858,
          2.116368078175896,
          2.1214285714285714,
          1.4996015936254978,
          3.239212761350239,
          3.117763157894737,
          2.9466970029813275,
          3.2561324894427637,
          2.4810775973188965,
          3.076297012383188,
          2.9425213675213673,
          2.047986577181208,
          2.3038759689922483,
          2.17358747447243,
          2.5430062630480164,
          2.2985581874356336,
          2.79546815731683,
          2.4783207157604954,
          2.831714285714286,
          2.6627371562566613,
          2.637870855148342,
          2.281461675579323,
          2.4744956772334294,
          2.5261559696342304,
          2.1226069246435846,
          2.3304388846180726,
          2.6251954821894006,
          2.127946127946128,
          2.413151364764268,
          2.174142480211082,
          2.148709677419355,
          2.015934065934066,
          2.466978484565014,
          2.155852842809365,
          3.197619189916058,
          3.3268998822143696,
          1.8474358974358975,
          2.7653566229985445,
          3.3402524106204394,
          2.541969696969697,
          2.2531841652323576,
          2.47104580812446,
          2.195478615071283,
          3.2087072112586634,
          2.704088669950739,
          2.4604823747680893,
          2.5895406889665504,
          2.7347104703379816,
          2.8380483913852697,
          2.617866596082583,
          3.016096268491941,
          2.7839663049685894,
          2.8044444444444445,
          2.26227027027027,
          3.0905415117332753,
          3.328355054596689,
          3.2143423665675765,
          3.1884226064951497,
          2.519022687609075,
          2.0038297872340425,
          2.273861852433281,
          2.8246647704185293,
          2.0529010238907848,
          2.2702960102960104,
          1.9327272727272726,
          2.5635177272202334,
          3.270748501485271,
          2.33530701754386,
          1.9390328151986185,
          2.276567425569177,
          2.7534320323014803
         ]
        },
        {
         "colorbar": {
          "len": 1,
          "title": {
           "text": "Scale"
          }
         },
         "colorscale": [
          [
           0,
           "rgb(247,251,255)"
          ],
          [
           0.125,
           "rgb(222,235,247)"
          ],
          [
           0.25,
           "rgb(198,219,239)"
          ],
          [
           0.375,
           "rgb(158,202,225)"
          ],
          [
           0.5,
           "rgb(107,174,214)"
          ],
          [
           0.625,
           "rgb(66,146,198)"
          ],
          [
           0.75,
           "rgb(33,113,181)"
          ],
          [
           0.875,
           "rgb(8,81,156)"
          ],
          [
           1,
           "rgb(8,48,107)"
          ]
         ],
         "hovertemplate": "<b>%{location}</b><br>Count: %{z}<extra></extra>",
         "locationmode": "USA-states",
         "locations": [
          "AL",
          "AK",
          "AZ",
          "AR",
          "CA",
          "CO",
          "CT",
          "DE",
          "FL",
          "GA",
          "HI",
          "ID",
          "IL",
          "IN",
          "IA",
          "KS",
          "KY",
          "LA",
          "ME",
          "MD",
          "MA",
          "MI",
          "MN",
          "MS",
          "MO",
          "MT",
          "NE",
          "NV",
          "NH",
          "NJ",
          "NM",
          "NY",
          "NC",
          "ND",
          "OH",
          "OK",
          "OR",
          "PA",
          "RI",
          "SC",
          "SD",
          "TN",
          "TX",
          "UT",
          "VT",
          "VA",
          "WA",
          "DC",
          "WV",
          "WI",
          "WY"
         ],
         "type": "choropleth",
         "visible": true,
         "z": [
          3.3162979121221565,
          3.6290845047239686,
          3.4342171659250424,
          3.204294736842105,
          3.606803723873737,
          3.325681427668653,
          3.4541847450166636,
          3.3510543082524276,
          3.4044505334827915,
          3.4937822742122457,
          3.26651728553137,
          3.438555078683834,
          3.550494883876544,
          3.3999832416277966,
          3.4221244209133026,
          3.420419449081803,
          3.3292186613726606,
          3.063066328379848,
          3.4470133064585005,
          3.41617695169088,
          3.468719609112851,
          3.47313290881258,
          3.4027125160187954,
          3.291067669172932,
          2.835479663890597,
          3.306933940164648,
          3.3169966807828772,
          3.2099702380952384,
          3.4922782530391716,
          3.413712427380652,
          3.3976897051715804,
          3.4624172890693776,
          3.4080846918004832,
          3.292094455852156,
          3.558600557017656,
          3.6471738269649574,
          3.536217770358004,
          3.3412189356131536,
          3.2409409257003654,
          3.4811722644644747,
          3.1868729096989967,
          3.288711050570407,
          3.3509414702109166,
          3.453780102645085,
          3.5022472805514604,
          3.4081540020263423,
          3.355865044696735,
          3.516448894858957,
          3.197431506849315,
          2.9615464925807475,
          3.4026971894832276
         ],
         "zmax": 3.6471738269649574,
         "zmin": 1.4996015936254978
        }
       ],
       "layout": {
        "geo": {
         "projection": {
          "type": "equirectangular"
         },
         "showcoastlines": true,
         "showframe": false
        },
        "height": 600,
        "template": {
         "data": {
          "bar": [
           {
            "error_x": {
             "color": "#2a3f5f"
            },
            "error_y": {
             "color": "#2a3f5f"
            },
            "marker": {
             "line": {
              "color": "#E5ECF6",
              "width": 0.5
             },
             "pattern": {
              "fillmode": "overlay",
              "size": 10,
              "solidity": 0.2
             }
            },
            "type": "bar"
           }
          ],
          "barpolar": [
           {
            "marker": {
             "line": {
              "color": "#E5ECF6",
              "width": 0.5
             },
             "pattern": {
              "fillmode": "overlay",
              "size": 10,
              "solidity": 0.2
             }
            },
            "type": "barpolar"
           }
          ],
          "carpet": [
           {
            "aaxis": {
             "endlinecolor": "#2a3f5f",
             "gridcolor": "white",
             "linecolor": "white",
             "minorgridcolor": "white",
             "startlinecolor": "#2a3f5f"
            },
            "baxis": {
             "endlinecolor": "#2a3f5f",
             "gridcolor": "white",
             "linecolor": "white",
             "minorgridcolor": "white",
             "startlinecolor": "#2a3f5f"
            },
            "type": "carpet"
           }
          ],
          "choropleth": [
           {
            "colorbar": {
             "outlinewidth": 0,
             "ticks": ""
            },
            "type": "choropleth"
           }
          ],
          "contour": [
           {
            "colorbar": {
             "outlinewidth": 0,
             "ticks": ""
            },
            "colorscale": [
             [
              0,
              "#0d0887"
             ],
             [
              0.1111111111111111,
              "#46039f"
             ],
             [
              0.2222222222222222,
              "#7201a8"
             ],
             [
              0.3333333333333333,
              "#9c179e"
             ],
             [
              0.4444444444444444,
              "#bd3786"
             ],
             [
              0.5555555555555556,
              "#d8576b"
             ],
             [
              0.6666666666666666,
              "#ed7953"
             ],
             [
              0.7777777777777778,
              "#fb9f3a"
             ],
             [
              0.8888888888888888,
              "#fdca26"
             ],
             [
              1,
              "#f0f921"
             ]
            ],
            "type": "contour"
           }
          ],
          "contourcarpet": [
           {
            "colorbar": {
             "outlinewidth": 0,
             "ticks": ""
            },
            "type": "contourcarpet"
           }
          ],
          "heatmap": [
           {
            "colorbar": {
             "outlinewidth": 0,
             "ticks": ""
            },
            "colorscale": [
             [
              0,
              "#0d0887"
             ],
             [
              0.1111111111111111,
              "#46039f"
             ],
             [
              0.2222222222222222,
              "#7201a8"
             ],
             [
              0.3333333333333333,
              "#9c179e"
             ],
             [
              0.4444444444444444,
              "#bd3786"
             ],
             [
              0.5555555555555556,
              "#d8576b"
             ],
             [
              0.6666666666666666,
              "#ed7953"
             ],
             [
              0.7777777777777778,
              "#fb9f3a"
             ],
             [
              0.8888888888888888,
              "#fdca26"
             ],
             [
              1,
              "#f0f921"
             ]
            ],
            "type": "heatmap"
           }
          ],
          "heatmapgl": [
           {
            "colorbar": {
             "outlinewidth": 0,
             "ticks": ""
            },
            "colorscale": [
             [
              0,
              "#0d0887"
             ],
             [
              0.1111111111111111,
              "#46039f"
             ],
             [
              0.2222222222222222,
              "#7201a8"
             ],
             [
              0.3333333333333333,
              "#9c179e"
             ],
             [
              0.4444444444444444,
              "#bd3786"
             ],
             [
              0.5555555555555556,
              "#d8576b"
             ],
             [
              0.6666666666666666,
              "#ed7953"
             ],
             [
              0.7777777777777778,
              "#fb9f3a"
             ],
             [
              0.8888888888888888,
              "#fdca26"
             ],
             [
              1,
              "#f0f921"
             ]
            ],
            "type": "heatmapgl"
           }
          ],
          "histogram": [
           {
            "marker": {
             "pattern": {
              "fillmode": "overlay",
              "size": 10,
              "solidity": 0.2
             }
            },
            "type": "histogram"
           }
          ],
          "histogram2d": [
           {
            "colorbar": {
             "outlinewidth": 0,
             "ticks": ""
            },
            "colorscale": [
             [
              0,
              "#0d0887"
             ],
             [
              0.1111111111111111,
              "#46039f"
             ],
             [
              0.2222222222222222,
              "#7201a8"
             ],
             [
              0.3333333333333333,
              "#9c179e"
             ],
             [
              0.4444444444444444,
              "#bd3786"
             ],
             [
              0.5555555555555556,
              "#d8576b"
             ],
             [
              0.6666666666666666,
              "#ed7953"
             ],
             [
              0.7777777777777778,
              "#fb9f3a"
             ],
             [
              0.8888888888888888,
              "#fdca26"
             ],
             [
              1,
              "#f0f921"
             ]
            ],
            "type": "histogram2d"
           }
          ],
          "histogram2dcontour": [
           {
            "colorbar": {
             "outlinewidth": 0,
             "ticks": ""
            },
            "colorscale": [
             [
              0,
              "#0d0887"
             ],
             [
              0.1111111111111111,
              "#46039f"
             ],
             [
              0.2222222222222222,
              "#7201a8"
             ],
             [
              0.3333333333333333,
              "#9c179e"
             ],
             [
              0.4444444444444444,
              "#bd3786"
             ],
             [
              0.5555555555555556,
              "#d8576b"
             ],
             [
              0.6666666666666666,
              "#ed7953"
             ],
             [
              0.7777777777777778,
              "#fb9f3a"
             ],
             [
              0.8888888888888888,
              "#fdca26"
             ],
             [
              1,
              "#f0f921"
             ]
            ],
            "type": "histogram2dcontour"
           }
          ],
          "mesh3d": [
           {
            "colorbar": {
             "outlinewidth": 0,
             "ticks": ""
            },
            "type": "mesh3d"
           }
          ],
          "parcoords": [
           {
            "line": {
             "colorbar": {
              "outlinewidth": 0,
              "ticks": ""
             }
            },
            "type": "parcoords"
           }
          ],
          "pie": [
           {
            "automargin": true,
            "type": "pie"
           }
          ],
          "scatter": [
           {
            "fillpattern": {
             "fillmode": "overlay",
             "size": 10,
             "solidity": 0.2
            },
            "type": "scatter"
           }
          ],
          "scatter3d": [
           {
            "line": {
             "colorbar": {
              "outlinewidth": 0,
              "ticks": ""
             }
            },
            "marker": {
             "colorbar": {
              "outlinewidth": 0,
              "ticks": ""
             }
            },
            "type": "scatter3d"
           }
          ],
          "scattercarpet": [
           {
            "marker": {
             "colorbar": {
              "outlinewidth": 0,
              "ticks": ""
             }
            },
            "type": "scattercarpet"
           }
          ],
          "scattergeo": [
           {
            "marker": {
             "colorbar": {
              "outlinewidth": 0,
              "ticks": ""
             }
            },
            "type": "scattergeo"
           }
          ],
          "scattergl": [
           {
            "marker": {
             "colorbar": {
              "outlinewidth": 0,
              "ticks": ""
             }
            },
            "type": "scattergl"
           }
          ],
          "scattermapbox": [
           {
            "marker": {
             "colorbar": {
              "outlinewidth": 0,
              "ticks": ""
             }
            },
            "type": "scattermapbox"
           }
          ],
          "scatterpolar": [
           {
            "marker": {
             "colorbar": {
              "outlinewidth": 0,
              "ticks": ""
             }
            },
            "type": "scatterpolar"
           }
          ],
          "scatterpolargl": [
           {
            "marker": {
             "colorbar": {
              "outlinewidth": 0,
              "ticks": ""
             }
            },
            "type": "scatterpolargl"
           }
          ],
          "scatterternary": [
           {
            "marker": {
             "colorbar": {
              "outlinewidth": 0,
              "ticks": ""
             }
            },
            "type": "scatterternary"
           }
          ],
          "surface": [
           {
            "colorbar": {
             "outlinewidth": 0,
             "ticks": ""
            },
            "colorscale": [
             [
              0,
              "#0d0887"
             ],
             [
              0.1111111111111111,
              "#46039f"
             ],
             [
              0.2222222222222222,
              "#7201a8"
             ],
             [
              0.3333333333333333,
              "#9c179e"
             ],
             [
              0.4444444444444444,
              "#bd3786"
             ],
             [
              0.5555555555555556,
              "#d8576b"
             ],
             [
              0.6666666666666666,
              "#ed7953"
             ],
             [
              0.7777777777777778,
              "#fb9f3a"
             ],
             [
              0.8888888888888888,
              "#fdca26"
             ],
             [
              1,
              "#f0f921"
             ]
            ],
            "type": "surface"
           }
          ],
          "table": [
           {
            "cells": {
             "fill": {
              "color": "#EBF0F8"
             },
             "line": {
              "color": "white"
             }
            },
            "header": {
             "fill": {
              "color": "#C8D4E3"
             },
             "line": {
              "color": "white"
             }
            },
            "type": "table"
           }
          ]
         },
         "layout": {
          "annotationdefaults": {
           "arrowcolor": "#2a3f5f",
           "arrowhead": 0,
           "arrowwidth": 1
          },
          "autotypenumbers": "strict",
          "coloraxis": {
           "colorbar": {
            "outlinewidth": 0,
            "ticks": ""
           }
          },
          "colorscale": {
           "diverging": [
            [
             0,
             "#8e0152"
            ],
            [
             0.1,
             "#c51b7d"
            ],
            [
             0.2,
             "#de77ae"
            ],
            [
             0.3,
             "#f1b6da"
            ],
            [
             0.4,
             "#fde0ef"
            ],
            [
             0.5,
             "#f7f7f7"
            ],
            [
             0.6,
             "#e6f5d0"
            ],
            [
             0.7,
             "#b8e186"
            ],
            [
             0.8,
             "#7fbc41"
            ],
            [
             0.9,
             "#4d9221"
            ],
            [
             1,
             "#276419"
            ]
           ],
           "sequential": [
            [
             0,
             "#0d0887"
            ],
            [
             0.1111111111111111,
             "#46039f"
            ],
            [
             0.2222222222222222,
             "#7201a8"
            ],
            [
             0.3333333333333333,
             "#9c179e"
            ],
            [
             0.4444444444444444,
             "#bd3786"
            ],
            [
             0.5555555555555556,
             "#d8576b"
            ],
            [
             0.6666666666666666,
             "#ed7953"
            ],
            [
             0.7777777777777778,
             "#fb9f3a"
            ],
            [
             0.8888888888888888,
             "#fdca26"
            ],
            [
             1,
             "#f0f921"
            ]
           ],
           "sequentialminus": [
            [
             0,
             "#0d0887"
            ],
            [
             0.1111111111111111,
             "#46039f"
            ],
            [
             0.2222222222222222,
             "#7201a8"
            ],
            [
             0.3333333333333333,
             "#9c179e"
            ],
            [
             0.4444444444444444,
             "#bd3786"
            ],
            [
             0.5555555555555556,
             "#d8576b"
            ],
            [
             0.6666666666666666,
             "#ed7953"
            ],
            [
             0.7777777777777778,
             "#fb9f3a"
            ],
            [
             0.8888888888888888,
             "#fdca26"
            ],
            [
             1,
             "#f0f921"
            ]
           ]
          },
          "colorway": [
           "#636efa",
           "#EF553B",
           "#00cc96",
           "#ab63fa",
           "#FFA15A",
           "#19d3f3",
           "#FF6692",
           "#B6E880",
           "#FF97FF",
           "#FECB52"
          ],
          "font": {
           "color": "#2a3f5f"
          },
          "geo": {
           "bgcolor": "white",
           "lakecolor": "white",
           "landcolor": "#E5ECF6",
           "showlakes": true,
           "showland": true,
           "subunitcolor": "white"
          },
          "hoverlabel": {
           "align": "left"
          },
          "hovermode": "closest",
          "mapbox": {
           "style": "light"
          },
          "paper_bgcolor": "white",
          "plot_bgcolor": "#E5ECF6",
          "polar": {
           "angularaxis": {
            "gridcolor": "white",
            "linecolor": "white",
            "ticks": ""
           },
           "bgcolor": "#E5ECF6",
           "radialaxis": {
            "gridcolor": "white",
            "linecolor": "white",
            "ticks": ""
           }
          },
          "scene": {
           "xaxis": {
            "backgroundcolor": "#E5ECF6",
            "gridcolor": "white",
            "gridwidth": 2,
            "linecolor": "white",
            "showbackground": true,
            "ticks": "",
            "zerolinecolor": "white"
           },
           "yaxis": {
            "backgroundcolor": "#E5ECF6",
            "gridcolor": "white",
            "gridwidth": 2,
            "linecolor": "white",
            "showbackground": true,
            "ticks": "",
            "zerolinecolor": "white"
           },
           "zaxis": {
            "backgroundcolor": "#E5ECF6",
            "gridcolor": "white",
            "gridwidth": 2,
            "linecolor": "white",
            "showbackground": true,
            "ticks": "",
            "zerolinecolor": "white"
           }
          },
          "shapedefaults": {
           "line": {
            "color": "#2a3f5f"
           }
          },
          "ternary": {
           "aaxis": {
            "gridcolor": "white",
            "linecolor": "white",
            "ticks": ""
           },
           "baxis": {
            "gridcolor": "white",
            "linecolor": "white",
            "ticks": ""
           },
           "bgcolor": "#E5ECF6",
           "caxis": {
            "gridcolor": "white",
            "linecolor": "white",
            "ticks": ""
           }
          },
          "title": {
           "x": 0.05
          },
          "xaxis": {
           "automargin": true,
           "gridcolor": "white",
           "linecolor": "white",
           "ticks": "",
           "title": {
            "standoff": 15
           },
           "zerolinecolor": "white",
           "zerolinewidth": 2
          },
          "yaxis": {
           "automargin": true,
           "gridcolor": "white",
           "linecolor": "white",
           "ticks": "",
           "title": {
            "standoff": 15
           },
           "zerolinecolor": "white",
           "zerolinewidth": 2
          }
         }
        },
        "title": {
         "text": "Beer Statistics by Country and US State"
        },
        "width": 800
       }
      }
     },
     "metadata": {},
     "output_type": "display_data"
    }
   ],
   "source": [
    "# Create a filtered dataframe\n",
    "number_of_ratings_per_country = df_ratings_no_text.groupby('country_brewery').size().reset_index().rename(columns={0:'count'})\n",
    "number_of_ratings_per_country = number_of_ratings_per_country[number_of_ratings_per_country['count'] > 250]\n",
    "df_ratings_filtered = df_ratings_no_text[df_ratings_no_text['country_brewery'].isin(number_of_ratings_per_country['country_brewery'])]\n",
    "\n",
    "# Compute the average rating per country\n",
    "average_rating_no_US = df_ratings_filtered[df_ratings_filtered['country_brewery'] != 'United States'].groupby('country_brewery')['rating'].mean().reset_index().rename(columns={'country_brewery':'location', 'rating':'count'})\n",
    "average_rating_US = df_ratings_filtered[df_ratings_filtered['country_brewery'] == 'United States'].groupby('state_brewery')['rating'].mean().reset_index().rename(columns={'state_brewery':'location', 'rating':'count'})\n",
    "\n",
    "# Plot everything\n",
    "options = {\n",
    "    \"title\": \"Average Ratings by Country and US State\",\n",
    "    \"plots\": [{\n",
    "        'label': 'Beers per country',\n",
    "        'location_label': 'location',\n",
    "        'z_label': 'count',\n",
    "        'colorscale': 'Blues'\n",
    "    }]\n",
    "}\n",
    "plot_map(average_rating_no_US, average_rating_US, options)"
   ]
  },
  {
   "cell_type": "code",
   "execution_count": 4,
   "metadata": {},
   "outputs": [
    {
     "data": {
      "text/html": [
       "<div>\n",
       "<style scoped>\n",
       "    .dataframe tbody tr th:only-of-type {\n",
       "        vertical-align: middle;\n",
       "    }\n",
       "\n",
       "    .dataframe tbody tr th {\n",
       "        vertical-align: top;\n",
       "    }\n",
       "\n",
       "    .dataframe thead th {\n",
       "        text-align: right;\n",
       "    }\n",
       "</style>\n",
       "<table border=\"1\" class=\"dataframe\">\n",
       "  <thead>\n",
       "    <tr style=\"text-align: right;\">\n",
       "      <th></th>\n",
       "      <th>location</th>\n",
       "      <th>count</th>\n",
       "    </tr>\n",
       "  </thead>\n",
       "  <tbody>\n",
       "    <tr>\n",
       "      <th>35</th>\n",
       "      <td>Oklahoma</td>\n",
       "      <td>3.647174</td>\n",
       "    </tr>\n",
       "    <tr>\n",
       "      <th>1</th>\n",
       "      <td>Alaska</td>\n",
       "      <td>3.629085</td>\n",
       "    </tr>\n",
       "    <tr>\n",
       "      <th>4</th>\n",
       "      <td>California</td>\n",
       "      <td>3.606804</td>\n",
       "    </tr>\n",
       "    <tr>\n",
       "      <th>34</th>\n",
       "      <td>Ohio</td>\n",
       "      <td>3.558601</td>\n",
       "    </tr>\n",
       "    <tr>\n",
       "      <th>12</th>\n",
       "      <td>Illinois</td>\n",
       "      <td>3.550495</td>\n",
       "    </tr>\n",
       "    <tr>\n",
       "      <th>36</th>\n",
       "      <td>Oregon</td>\n",
       "      <td>3.536218</td>\n",
       "    </tr>\n",
       "    <tr>\n",
       "      <th>47</th>\n",
       "      <td>Washington DC</td>\n",
       "      <td>3.516449</td>\n",
       "    </tr>\n",
       "    <tr>\n",
       "      <th>10</th>\n",
       "      <td>Belgium</td>\n",
       "      <td>3.505189</td>\n",
       "    </tr>\n",
       "    <tr>\n",
       "      <th>44</th>\n",
       "      <td>Vermont</td>\n",
       "      <td>3.502247</td>\n",
       "    </tr>\n",
       "    <tr>\n",
       "      <th>9</th>\n",
       "      <td>Georgia</td>\n",
       "      <td>3.493782</td>\n",
       "    </tr>\n",
       "  </tbody>\n",
       "</table>\n",
       "</div>"
      ],
      "text/plain": [
       "         location     count\n",
       "35       Oklahoma  3.647174\n",
       "1          Alaska  3.629085\n",
       "4      California  3.606804\n",
       "34           Ohio  3.558601\n",
       "12       Illinois  3.550495\n",
       "36         Oregon  3.536218\n",
       "47  Washington DC  3.516449\n",
       "10        Belgium  3.505189\n",
       "44        Vermont  3.502247\n",
       "9         Georgia  3.493782"
      ]
     },
     "execution_count": 4,
     "metadata": {},
     "output_type": "execute_result"
    }
   ],
   "source": [
    "average_rating = pd.concat([average_rating_no_US, average_rating_US]).sort_values('count', ascending=False)\n",
    "average_rating.head(10)"
   ]
  },
  {
   "cell_type": "code",
   "execution_count": 5,
   "metadata": {},
   "outputs": [
    {
     "data": {
      "text/html": [
       "<div>\n",
       "<style scoped>\n",
       "    .dataframe tbody tr th:only-of-type {\n",
       "        vertical-align: middle;\n",
       "    }\n",
       "\n",
       "    .dataframe tbody tr th {\n",
       "        vertical-align: top;\n",
       "    }\n",
       "\n",
       "    .dataframe thead th {\n",
       "        text-align: right;\n",
       "    }\n",
       "</style>\n",
       "<table border=\"1\" class=\"dataframe\">\n",
       "  <thead>\n",
       "    <tr style=\"text-align: right;\">\n",
       "      <th></th>\n",
       "      <th>location</th>\n",
       "      <th>count</th>\n",
       "    </tr>\n",
       "  </thead>\n",
       "  <tbody>\n",
       "    <tr>\n",
       "      <th>52</th>\n",
       "      <td>Iran</td>\n",
       "      <td>1.499602</td>\n",
       "    </tr>\n",
       "    <tr>\n",
       "      <th>85</th>\n",
       "      <td>Nicaragua</td>\n",
       "      <td>1.847436</td>\n",
       "    </tr>\n",
       "    <tr>\n",
       "      <th>31</th>\n",
       "      <td>El Salvador</td>\n",
       "      <td>1.854768</td>\n",
       "    </tr>\n",
       "    <tr>\n",
       "      <th>44</th>\n",
       "      <td>Guatemala</td>\n",
       "      <td>1.858426</td>\n",
       "    </tr>\n",
       "    <tr>\n",
       "      <th>24</th>\n",
       "      <td>Cuba</td>\n",
       "      <td>1.929189</td>\n",
       "    </tr>\n",
       "    <tr>\n",
       "      <th>113</th>\n",
       "      <td>Uganda</td>\n",
       "      <td>1.932727</td>\n",
       "    </tr>\n",
       "    <tr>\n",
       "      <th>30</th>\n",
       "      <td>Egypt</td>\n",
       "      <td>1.934625</td>\n",
       "    </tr>\n",
       "    <tr>\n",
       "      <th>117</th>\n",
       "      <td>Venezuela</td>\n",
       "      <td>1.939033</td>\n",
       "    </tr>\n",
       "    <tr>\n",
       "      <th>28</th>\n",
       "      <td>Dominican Republic</td>\n",
       "      <td>1.982022</td>\n",
       "    </tr>\n",
       "    <tr>\n",
       "      <th>108</th>\n",
       "      <td>Tanzania</td>\n",
       "      <td>2.003830</td>\n",
       "    </tr>\n",
       "  </tbody>\n",
       "</table>\n",
       "</div>"
      ],
      "text/plain": [
       "               location     count\n",
       "52                 Iran  1.499602\n",
       "85            Nicaragua  1.847436\n",
       "31          El Salvador  1.854768\n",
       "44            Guatemala  1.858426\n",
       "24                 Cuba  1.929189\n",
       "113              Uganda  1.932727\n",
       "30                Egypt  1.934625\n",
       "117           Venezuela  1.939033\n",
       "28   Dominican Republic  1.982022\n",
       "108            Tanzania  2.003830"
      ]
     },
     "execution_count": 5,
     "metadata": {},
     "output_type": "execute_result"
    }
   ],
   "source": [
    "average_rating = pd.concat([average_rating_no_US, average_rating_US]).sort_values('count', ascending=True)\n",
    "average_rating.head(10)"
   ]
  },
  {
   "cell_type": "markdown",
   "metadata": {},
   "source": [
    "### Rating evolution over time in the different countries"
   ]
  },
  {
   "cell_type": "code",
   "execution_count": 6,
   "metadata": {},
   "outputs": [],
   "source": [
    "unique_states_breweries = df_ratings_no_text['country_brewery'].unique()\n",
    "row_US = []\n",
    "row_no_US = []\n",
    "for year in range(2002, 2018):\n",
    "    df_state_no_US = df_ratings_no_text[(df_ratings_no_text['date'].dt.year == year) & (df_ratings_no_text['country_brewery'] != 'United States')].groupby('country_brewery').agg({'rating': 'mean'}).reset_index()\n",
    "    df_state_US = df_ratings_no_text[(df_ratings_no_text['date'].dt.year == year) & (df_ratings_no_text['country_brewery'] == 'United States')].groupby('state_brewery').agg({'rating': 'mean'}).reset_index()\n",
    "    row_no_US += [{'year': year, 'location': state, 'count': abv} for state, abv in zip(df_state_no_US['country_brewery'], df_state_no_US['rating'])]\n",
    "    row_US += [{'year': year, 'location': state, 'count': abv} for state, abv in zip(df_state_US['state_brewery'], df_state_US['rating'])]\n",
    "df_states_no_US = pd.DataFrame(row_no_US)\n",
    "df_states_US = pd.DataFrame(row_US)"
   ]
  },
  {
   "cell_type": "code",
   "execution_count": 7,
   "metadata": {},
   "outputs": [
    {
     "data": {
      "application/vnd.plotly.v1+json": {
       "config": {
        "plotlyServerURL": "https://plot.ly"
       },
       "data": [
        {
         "coloraxis": "coloraxis",
         "geo": "geo",
         "hovertemplate": "location=%{location}<br>count=%{z}<extra></extra>",
         "locationmode": "country names",
         "locations": [
          "Albania",
          "Argentina",
          "Armenia",
          "Aruba",
          "Australia",
          "Austria",
          "Bahamas",
          "Barbados",
          "Belarus",
          "Belgium",
          "Belize",
          "Benin",
          "Bolivia",
          "Bosnia and Herzegovina",
          "Brazil",
          "Bulgaria",
          "Cambodia",
          "Cameroon",
          "Canada",
          "Cayman Islands",
          "Chile",
          "China",
          "Colombia",
          "Cook Islands",
          "Costa Rica",
          "Croatia",
          "Cuba",
          "Cyprus",
          "Czech Republic",
          "Dem Rep of Congo",
          "Denmark",
          "Dominica",
          "Dominican Republic",
          "Ecuador",
          "Egypt",
          "El Salvador",
          "Estonia",
          "Ethiopia",
          "Faroe Islands",
          "Fiji Islands",
          "Finland",
          "France",
          "French Polynesia",
          "Georgia",
          "Germany",
          "Ghana",
          "Greece",
          "Guam",
          "Guatemala",
          "Guernsey",
          "Guyana",
          "Honduras",
          "Hong Kong",
          "Hungary",
          "Iceland",
          "India",
          "Indonesia",
          "Iran",
          "Iraq",
          "Ireland",
          "Isle of Man",
          "Israel",
          "Italy",
          "Ivory Coast",
          "Jamaica",
          "Japan",
          "Jersey",
          "Kazakhstan",
          "Kenya",
          "Laos",
          "Latvia",
          "Lebanon",
          "Lithuania",
          "Luxembourg",
          "Macedonia",
          "Malaysia",
          "Mali",
          "Malta",
          "Martinique",
          "Mauritius",
          "Mexico",
          "Moldova",
          "Montenegro",
          "Morocco",
          "Myanmar",
          "Namibia",
          "Nepal",
          "Netherlands",
          "New Zealand",
          "Nigeria",
          "Norway",
          "Pakistan",
          "Palestine",
          "Panama",
          "Papua New Guinea",
          "Paraguay",
          "Peru",
          "Philippines",
          "Poland",
          "Portugal",
          "Puerto Rico",
          "Romania",
          "Russia",
          "Saint Lucia",
          "Saint Vincent and The Grenadines",
          "Samoa",
          "Serbia",
          "Seychelles",
          "Singapore",
          "Slovak Republic",
          "Slovenia",
          "South Africa",
          "South Korea",
          "Spain",
          "Sri Lanka",
          "Suriname",
          "Swaziland",
          "Sweden",
          "Switzerland",
          "Syria",
          "Taiwan",
          "Tanzania",
          "Thailand",
          "Togo",
          "Trinidad & Tobago",
          "Tunisia",
          "Turkey",
          "Uganda",
          "Ukraine",
          "United Kingdom",
          "Venezuela",
          "Vietnam",
          "Virgin Islands (U.S.)",
          "Zambia",
          "Zimbabwe"
         ],
         "name": "",
         "type": "choropleth",
         "z": [
          1.64,
          2.219607843137255,
          2.4833333333333334,
          2.675,
          2.6369375419744796,
          3.0530655391120507,
          2.312,
          2.05,
          1.975,
          3.571307765602668,
          1.9428571428571428,
          1.7,
          1.4333333333333333,
          2.957142857142857,
          2.708490566037736,
          1.7974358974358973,
          2.1666666666666665,
          2.8,
          3.0137037037037038,
          2.65,
          1.9280000000000002,
          2.125,
          2.2473684210526317,
          1.2,
          2.223076923076923,
          2.6013157894736842,
          1.6809523809523808,
          2.011111111111111,
          3.26328125,
          2,
          2.612310797174571,
          1.2,
          2.381081081081081,
          2.0300000000000002,
          2.3555555555555556,
          2.0588235294117645,
          2.175675675675676,
          2.5833333333333335,
          2.091666666666667,
          1.3333333333333333,
          2.9180487804878052,
          2.888504326328801,
          1.9571428571428573,
          2.9,
          3.2057456515540346,
          1.7000000000000002,
          2.3319444444444444,
          2.7,
          1.891304347826087,
          2.1,
          3.1,
          2.33125,
          1.8615384615384616,
          2.111111111111111,
          1.3714285714285714,
          2.1483870967741936,
          2.0357142857142856,
          1.2,
          3.3,
          3.3580976863753214,
          2.8428571428571425,
          2.0813953488372094,
          2.7719714964370548,
          2.9333333333333336,
          2.5797872340425534,
          2.526593806921676,
          2.58,
          2.690909090909091,
          2.23,
          2.3,
          2.670930232558139,
          1.8714285714285712,
          2.6355555555555554,
          2.6625,
          2.5875,
          2.5777777777777775,
          1.7,
          2.5666666666666664,
          1.2,
          3.0666666666666664,
          2.286808846761453,
          3.3857142857142857,
          2.57,
          2.7285714285714286,
          2.1333333333333333,
          2.472093023255814,
          2.35,
          2.87749373433584,
          3.0471590909090907,
          2.6500000000000004,
          2.8857142857142857,
          2,
          2.2333333333333334,
          2.0416666666666665,
          1.6166666666666665,
          2.4000000000000004,
          2.3346153846153848,
          2.25531914893617,
          2.987363834422658,
          2.2078431372549017,
          1.875,
          2.5791666666666666,
          2.4714285714285715,
          1.3,
          1.5,
          1.4,
          2.6639999999999997,
          1.7,
          2.806451612903226,
          2.9869565217391303,
          2.171641791044776,
          2.0406593406593405,
          1.6098039215686273,
          2.381021897810219,
          3.389655172413793,
          3.1,
          1.4,
          2.8683853459972863,
          3.021630094043887,
          2.15,
          1.98,
          1.3,
          2.387857142857143,
          2.6500000000000004,
          3.0253623188405796,
          2.3666666666666667,
          2.2600000000000002,
          1.86,
          2.5914893617021275,
          3.3728956428825834,
          2.3000000000000003,
          2.2161290322580647,
          3.288888888888889,
          1.8800000000000001,
          1.85
         ]
        },
        {
         "coloraxis": "coloraxis",
         "geo": "geo",
         "hovertemplate": "location=%{location}<br>count=%{z}<extra></extra>",
         "locationmode": "USA-states",
         "locations": [
          "AL",
          "AK",
          "AZ",
          "AR",
          "CA",
          "CO",
          "CT",
          "DE",
          "FL",
          "GA",
          "HI",
          "ID",
          "IL",
          "IN",
          "IA",
          "KS",
          "KY",
          "LA",
          "ME",
          "MD",
          "MA",
          "MI",
          "MN",
          "MO",
          "MT",
          "NE",
          "NV",
          "NH",
          "NJ",
          "NM",
          "NY",
          "NC",
          "OH",
          "OK",
          "OR",
          "PA",
          "RI",
          "SC",
          "SD",
          "TN",
          "TX",
          "UT",
          "VT",
          "VA",
          "WA",
          "DC",
          "WV",
          "WI",
          "WY"
         ],
         "name": "",
         "type": "choropleth",
         "z": [
          3.6,
          3.5677083333333335,
          3.461003861003861,
          2.7181818181818183,
          3.5555343915343918,
          2.6293891293891294,
          3.520567375886525,
          3.341409691629956,
          3.0844311377245512,
          3.254381443298969,
          2.81063829787234,
          2.9292307692307693,
          3.364056224899598,
          3.222784810126582,
          3.0925000000000002,
          3.1163265306122447,
          3.229896907216495,
          2.8846666666666665,
          3.422903629536921,
          3.3131756756756756,
          3.2736203090507727,
          3.2257899231426133,
          2.8677830940988835,
          2.0092161364381766,
          3.172037914691943,
          3.1599999999999997,
          2.8,
          3.4805111821086263,
          3.5008988764044946,
          3.3360000000000003,
          3.1669803921568627,
          3.2393939393939397,
          3.491361256544503,
          2.733333333333333,
          3.630888697152718,
          3.257183418512209,
          3.2862745098039214,
          3.1981481481481477,
          3.44,
          3.16282722513089,
          3.063046757164404,
          3.1098765432098765,
          3.257277628032345,
          3.163684210526316,
          3.338299024918743,
          3.35,
          3.4588235294117644,
          2.4083728603835843,
          3.4
         ]
        }
       ],
       "frames": [
        {
         "data": [
          {
           "coloraxis": "coloraxis",
           "geo": "geo",
           "hovertemplate": "location=%{location}<br>count=%{z}<extra></extra>",
           "locationmode": "country names",
           "locations": [
            "Albania",
            "Argentina",
            "Armenia",
            "Aruba",
            "Australia",
            "Austria",
            "Bahamas",
            "Barbados",
            "Belarus",
            "Belgium",
            "Belize",
            "Benin",
            "Bolivia",
            "Bosnia and Herzegovina",
            "Brazil",
            "Bulgaria",
            "Cambodia",
            "Cameroon",
            "Canada",
            "Cayman Islands",
            "Chile",
            "China",
            "Colombia",
            "Cook Islands",
            "Costa Rica",
            "Croatia",
            "Cuba",
            "Cyprus",
            "Czech Republic",
            "Dem Rep of Congo",
            "Denmark",
            "Dominica",
            "Dominican Republic",
            "Ecuador",
            "Egypt",
            "El Salvador",
            "Estonia",
            "Ethiopia",
            "Faroe Islands",
            "Fiji Islands",
            "Finland",
            "France",
            "French Polynesia",
            "Georgia",
            "Germany",
            "Ghana",
            "Greece",
            "Guam",
            "Guatemala",
            "Guernsey",
            "Guyana",
            "Honduras",
            "Hong Kong",
            "Hungary",
            "Iceland",
            "India",
            "Indonesia",
            "Iran",
            "Iraq",
            "Ireland",
            "Isle of Man",
            "Israel",
            "Italy",
            "Ivory Coast",
            "Jamaica",
            "Japan",
            "Jersey",
            "Kazakhstan",
            "Kenya",
            "Laos",
            "Latvia",
            "Lebanon",
            "Lithuania",
            "Luxembourg",
            "Macedonia",
            "Malaysia",
            "Mali",
            "Malta",
            "Martinique",
            "Mauritius",
            "Mexico",
            "Moldova",
            "Montenegro",
            "Morocco",
            "Myanmar",
            "Namibia",
            "Nepal",
            "Netherlands",
            "New Zealand",
            "Nigeria",
            "Norway",
            "Pakistan",
            "Palestine",
            "Panama",
            "Papua New Guinea",
            "Paraguay",
            "Peru",
            "Philippines",
            "Poland",
            "Portugal",
            "Puerto Rico",
            "Romania",
            "Russia",
            "Saint Lucia",
            "Saint Vincent and The Grenadines",
            "Samoa",
            "Serbia",
            "Seychelles",
            "Singapore",
            "Slovak Republic",
            "Slovenia",
            "South Africa",
            "South Korea",
            "Spain",
            "Sri Lanka",
            "Suriname",
            "Swaziland",
            "Sweden",
            "Switzerland",
            "Syria",
            "Taiwan",
            "Tanzania",
            "Thailand",
            "Togo",
            "Trinidad & Tobago",
            "Tunisia",
            "Turkey",
            "Uganda",
            "Ukraine",
            "United Kingdom",
            "Venezuela",
            "Vietnam",
            "Virgin Islands (U.S.)",
            "Zambia",
            "Zimbabwe"
           ],
           "name": "",
           "type": "choropleth",
           "z": [
            1.64,
            2.219607843137255,
            2.4833333333333334,
            2.675,
            2.6369375419744796,
            3.0530655391120507,
            2.312,
            2.05,
            1.975,
            3.571307765602668,
            1.9428571428571428,
            1.7,
            1.4333333333333333,
            2.957142857142857,
            2.708490566037736,
            1.7974358974358973,
            2.1666666666666665,
            2.8,
            3.0137037037037038,
            2.65,
            1.9280000000000002,
            2.125,
            2.2473684210526317,
            1.2,
            2.223076923076923,
            2.6013157894736842,
            1.6809523809523808,
            2.011111111111111,
            3.26328125,
            2,
            2.612310797174571,
            1.2,
            2.381081081081081,
            2.0300000000000002,
            2.3555555555555556,
            2.0588235294117645,
            2.175675675675676,
            2.5833333333333335,
            2.091666666666667,
            1.3333333333333333,
            2.9180487804878052,
            2.888504326328801,
            1.9571428571428573,
            2.9,
            3.2057456515540346,
            1.7000000000000002,
            2.3319444444444444,
            2.7,
            1.891304347826087,
            2.1,
            3.1,
            2.33125,
            1.8615384615384616,
            2.111111111111111,
            1.3714285714285714,
            2.1483870967741936,
            2.0357142857142856,
            1.2,
            3.3,
            3.3580976863753214,
            2.8428571428571425,
            2.0813953488372094,
            2.7719714964370548,
            2.9333333333333336,
            2.5797872340425534,
            2.526593806921676,
            2.58,
            2.690909090909091,
            2.23,
            2.3,
            2.670930232558139,
            1.8714285714285712,
            2.6355555555555554,
            2.6625,
            2.5875,
            2.5777777777777775,
            1.7,
            2.5666666666666664,
            1.2,
            3.0666666666666664,
            2.286808846761453,
            3.3857142857142857,
            2.57,
            2.7285714285714286,
            2.1333333333333333,
            2.472093023255814,
            2.35,
            2.87749373433584,
            3.0471590909090907,
            2.6500000000000004,
            2.8857142857142857,
            2,
            2.2333333333333334,
            2.0416666666666665,
            1.6166666666666665,
            2.4000000000000004,
            2.3346153846153848,
            2.25531914893617,
            2.987363834422658,
            2.2078431372549017,
            1.875,
            2.5791666666666666,
            2.4714285714285715,
            1.3,
            1.5,
            1.4,
            2.6639999999999997,
            1.7,
            2.806451612903226,
            2.9869565217391303,
            2.171641791044776,
            2.0406593406593405,
            1.6098039215686273,
            2.381021897810219,
            3.389655172413793,
            3.1,
            1.4,
            2.8683853459972863,
            3.021630094043887,
            2.15,
            1.98,
            1.3,
            2.387857142857143,
            2.6500000000000004,
            3.0253623188405796,
            2.3666666666666667,
            2.2600000000000002,
            1.86,
            2.5914893617021275,
            3.3728956428825834,
            2.3000000000000003,
            2.2161290322580647,
            3.288888888888889,
            1.8800000000000001,
            1.85
           ]
          },
          {
           "coloraxis": "coloraxis",
           "geo": "geo",
           "hovertemplate": "location=%{location}<br>count=%{z}<extra></extra>",
           "locationmode": "USA-states",
           "locations": [
            "AL",
            "AK",
            "AZ",
            "AR",
            "CA",
            "CO",
            "CT",
            "DE",
            "FL",
            "GA",
            "HI",
            "ID",
            "IL",
            "IN",
            "IA",
            "KS",
            "KY",
            "LA",
            "ME",
            "MD",
            "MA",
            "MI",
            "MN",
            "MO",
            "MT",
            "NE",
            "NV",
            "NH",
            "NJ",
            "NM",
            "NY",
            "NC",
            "OH",
            "OK",
            "OR",
            "PA",
            "RI",
            "SC",
            "SD",
            "TN",
            "TX",
            "UT",
            "VT",
            "VA",
            "WA",
            "DC",
            "WV",
            "WI",
            "WY"
           ],
           "name": "",
           "type": "choropleth",
           "z": [
            3.6,
            3.5677083333333335,
            3.461003861003861,
            2.7181818181818183,
            3.5555343915343918,
            2.6293891293891294,
            3.520567375886525,
            3.341409691629956,
            3.0844311377245512,
            3.254381443298969,
            2.81063829787234,
            2.9292307692307693,
            3.364056224899598,
            3.222784810126582,
            3.0925000000000002,
            3.1163265306122447,
            3.229896907216495,
            2.8846666666666665,
            3.422903629536921,
            3.3131756756756756,
            3.2736203090507727,
            3.2257899231426133,
            2.8677830940988835,
            2.0092161364381766,
            3.172037914691943,
            3.1599999999999997,
            2.8,
            3.4805111821086263,
            3.5008988764044946,
            3.3360000000000003,
            3.1669803921568627,
            3.2393939393939397,
            3.491361256544503,
            2.733333333333333,
            3.630888697152718,
            3.257183418512209,
            3.2862745098039214,
            3.1981481481481477,
            3.44,
            3.16282722513089,
            3.063046757164404,
            3.1098765432098765,
            3.257277628032345,
            3.163684210526316,
            3.338299024918743,
            3.35,
            3.4588235294117644,
            2.4083728603835843,
            3.4
           ]
          }
         ],
         "name": "2002"
        },
        {
         "data": [
          {
           "coloraxis": "coloraxis",
           "geo": "geo",
           "hovertemplate": "location=%{location}<br>count=%{z}<extra></extra>",
           "locationmode": "country names",
           "locations": [
            "Albania",
            "Antigua & Barbuda",
            "Argentina",
            "Armenia",
            "Aruba",
            "Australia",
            "Austria",
            "Bahamas",
            "Barbados",
            "Belarus",
            "Belgium",
            "Belize",
            "Bermuda",
            "Bolivia",
            "Bosnia and Herzegovina",
            "Brazil",
            "Bulgaria",
            "Cambodia",
            "Canada",
            "Cayman Islands",
            "Chile",
            "China",
            "Colombia",
            "Cook Islands",
            "Costa Rica",
            "Croatia",
            "Cuba",
            "Cyprus",
            "Czech Republic",
            "Denmark",
            "Dominica",
            "Dominican Republic",
            "Ecuador",
            "Egypt",
            "El Salvador",
            "Estonia",
            "Ethiopia",
            "Faroe Islands",
            "Fiji Islands",
            "Finland",
            "France",
            "French Polynesia",
            "Georgia",
            "Germany",
            "Ghana",
            "Greece",
            "Guatemala",
            "Guernsey",
            "Honduras",
            "Hong Kong",
            "Hungary",
            "Iceland",
            "India",
            "Indonesia",
            "Ireland",
            "Isle of Man",
            "Israel",
            "Italy",
            "Jamaica",
            "Japan",
            "Jersey",
            "Kenya",
            "Laos",
            "Latvia",
            "Lebanon",
            "Lithuania",
            "Luxembourg",
            "Macedonia",
            "Madagascar",
            "Malaysia",
            "Malta",
            "Martinique",
            "Mexico",
            "Moldova",
            "Montenegro",
            "Morocco",
            "Myanmar",
            "Namibia",
            "Nepal",
            "Netherlands",
            "New Zealand",
            "Nicaragua",
            "Nigeria",
            "Norway",
            "Palestine",
            "Panama",
            "Papua New Guinea",
            "Peru",
            "Philippines",
            "Poland",
            "Portugal",
            "Puerto Rico",
            "Reunion",
            "Romania",
            "Russia",
            "Saint Lucia",
            "Samoa",
            "Senegal",
            "Serbia",
            "Sierra Leone",
            "Singapore",
            "Slovak Republic",
            "Slovenia",
            "South Africa",
            "South Korea",
            "Spain",
            "Sri Lanka",
            "Suriname",
            "Sweden",
            "Switzerland",
            "Taiwan",
            "Tanzania",
            "Thailand",
            "Togo",
            "Tonga",
            "Transdniestra",
            "Trinidad & Tobago",
            "Tunisia",
            "Turkey",
            "Uganda",
            "Ukraine",
            "United Kingdom",
            "Uruguay",
            "Uzbekistan",
            "Vanuatu",
            "Venezuela",
            "Vietnam",
            "Virgin Islands (U.S.)",
            "Zimbabwe"
           ],
           "name": "",
           "type": "choropleth",
           "z": [
            2.3375,
            2.6,
            2.572972972972973,
            2.3000000000000003,
            2.9333333333333336,
            2.446452905811623,
            3.0763302752293575,
            1.9636363636363636,
            2.4916666666666667,
            2.1666666666666665,
            3.5704034863626117,
            2.125,
            2.96,
            1.7884615384615385,
            3.1750000000000003,
            2.5540000000000003,
            2.177142857142857,
            1.7571428571428573,
            2.9734490608992603,
            2.283333333333333,
            1.9714285714285715,
            2.0176470588235293,
            2.0142857142857142,
            3.2,
            1.8333333333333333,
            2.204,
            1.5769230769230769,
            1.9,
            3.1117076808351976,
            2.57266500622665,
            1.3,
            1.9464285714285714,
            1.3818181818181818,
            2.066666666666667,
            1.6987804878048782,
            2.399248120300752,
            2.68125,
            2.444736842105263,
            1.2799999999999998,
            2.877310924369748,
            2.831768953068592,
            2.125,
            2.8,
            3.1837420929974476,
            1.5,
            2.073611111111111,
            2.006666666666667,
            1.9,
            2.0678571428571426,
            1.2466666666666666,
            2.503738317757009,
            1.876271186440678,
            2.1150837988826816,
            1.9040000000000001,
            3.256591928251121,
            2.8266666666666667,
            1.9208333333333334,
            2.6837248322147653,
            2.432967032967033,
            2.5287904599659288,
            1.9333333333333333,
            2.062686567164179,
            1.8555555555555554,
            2.660204081632653,
            2.022222222222222,
            2.6274336283185837,
            2.4952380952380953,
            2.16,
            3.2,
            2.6999999999999997,
            2.5205882352941176,
            2.025,
            2.123374485596708,
            2.9210526315789473,
            2.257142857142857,
            2.274074074074074,
            1.3199999999999998,
            2.6,
            1.25,
            2.8735849056603775,
            2.672062084257206,
            1.36,
            3.194736842105263,
            2.7817757009345794,
            2.1,
            0.7999999999999999,
            1.1333333333333333,
            2.174468085106383,
            2.330769230769231,
            2.8017069701280226,
            2.091025641025641,
            1.6333333333333335,
            2.1,
            2.3153846153846156,
            2.5863572433192688,
            1.7571428571428573,
            1.1,
            1.4000000000000001,
            2.56,
            1,
            2.43,
            2.6164383561643834,
            2.3800000000000003,
            2.1421875,
            1.3851063829787233,
            2.1999999999999997,
            3.4076923076923076,
            1.4,
            2.9010658914728684,
            2.8778378378378378,
            1.9333333333333333,
            1.9363636363636365,
            2.350561797752809,
            3.9,
            2,
            2.2,
            3.053684210526316,
            2,
            2.281012658227848,
            3.375,
            2.485616438356164,
            3.256054494253749,
            1.4500000000000002,
            1.3,
            1.2,
            1.625,
            1.936,
            2.3583333333333334,
            2.21875
           ]
          },
          {
           "coloraxis": "coloraxis",
           "geo": "geo",
           "hovertemplate": "location=%{location}<br>count=%{z}<extra></extra>",
           "locationmode": "USA-states",
           "locations": [
            "AL",
            "AK",
            "AZ",
            "AR",
            "CA",
            "CO",
            "CT",
            "DE",
            "FL",
            "GA",
            "HI",
            "ID",
            "IL",
            "IN",
            "IA",
            "KS",
            "KY",
            "LA",
            "ME",
            "MD",
            "MA",
            "MI",
            "MN",
            "MS",
            "MO",
            "MT",
            "NE",
            "NV",
            "NH",
            "NJ",
            "NM",
            "NY",
            "NC",
            "ND",
            "OH",
            "OK",
            "OR",
            "PA",
            "RI",
            "SC",
            "SD",
            "TN",
            "TX",
            "UT",
            "VT",
            "VA",
            "WA",
            "DC",
            "WV",
            "WI",
            "WY"
           ],
           "name": "",
           "type": "choropleth",
           "z": [
            3.357142857142857,
            3.5652073732718894,
            3.368125,
            2.6037037037037036,
            3.5125210410462255,
            2.8009808102345417,
            3.4634146341463414,
            3.32168458781362,
            2.989935760171306,
            3.2681818181818185,
            3.1765625,
            3.127853881278539,
            3.3678848283499443,
            3.118067978533095,
            3,
            3.5151785714285713,
            3.2141843971631205,
            2.8108626198083067,
            3.376941946034342,
            3.267788461538461,
            3.2387073863636364,
            3.2644831730769233,
            2.870983810709838,
            3.02,
            2.0323333333333333,
            3.239353099730458,
            3.035294117647059,
            3.004697986577181,
            3.4496503496503497,
            3.4716535433070868,
            3.180254777070064,
            3.193601416287304,
            3.2124434389140273,
            2.85,
            3.5160526315789475,
            2.6550000000000002,
            3.580612244897959,
            3.20066692820714,
            3.2041666666666666,
            3.1536585365853655,
            3.066666666666667,
            3.124074074074074,
            3.012971342383107,
            3.1779761904761905,
            3.231410256410256,
            3.213135593220339,
            3.2583887657058392,
            3.3074074074074074,
            3.1166666666666667,
            2.5250142126208073,
            3.3685714285714288
           ]
          }
         ],
         "name": "2003"
        },
        {
         "data": [
          {
           "coloraxis": "coloraxis",
           "geo": "geo",
           "hovertemplate": "location=%{location}<br>count=%{z}<extra></extra>",
           "locationmode": "country names",
           "locations": [
            "Albania",
            "Antigua & Barbuda",
            "Argentina",
            "Armenia",
            "Aruba",
            "Australia",
            "Austria",
            "Azerbaijan",
            "Bahamas",
            "Barbados",
            "Belarus",
            "Belgium",
            "Belize",
            "Benin",
            "Bhutan",
            "Bolivia",
            "Bosnia and Herzegovina",
            "Brazil",
            "Bulgaria",
            "Burkina Faso",
            "Cambodia",
            "Cameroon",
            "Canada",
            "Cayman Islands",
            "Chile",
            "China",
            "Colombia",
            "Costa Rica",
            "Croatia",
            "Cuba",
            "Curaçao",
            "Cyprus",
            "Czech Republic",
            "Dem Rep of Congo",
            "Denmark",
            "Dominica",
            "Dominican Republic",
            "Ecuador",
            "Egypt",
            "El Salvador",
            "Eritrea",
            "Estonia",
            "Ethiopia",
            "Faroe Islands",
            "Fiji Islands",
            "Finland",
            "France",
            "French Polynesia",
            "Gabon",
            "Gambia",
            "Georgia",
            "Germany",
            "Ghana",
            "Gibraltar",
            "Greece",
            "Guadeloupe",
            "Guam",
            "Guatemala",
            "Guernsey",
            "Guyana",
            "Haiti",
            "Honduras",
            "Hong Kong",
            "Hungary",
            "Iceland",
            "India",
            "Indonesia",
            "Ireland",
            "Isle of Man",
            "Israel",
            "Italy",
            "Ivory Coast",
            "Jamaica",
            "Japan",
            "Jersey",
            "Kazakhstan",
            "Kenya",
            "Kosovo",
            "Kyrgyzstan",
            "Laos",
            "Latvia",
            "Lebanon",
            "Lithuania",
            "Luxembourg",
            "Macau",
            "Macedonia",
            "Madagascar",
            "Malaysia",
            "Malta",
            "Martinique",
            "Mauritius",
            "Mexico",
            "Moldova",
            "Montenegro",
            "Morocco",
            "Mozambique",
            "Myanmar",
            "Namibia",
            "Netherlands",
            "New Caledonia",
            "New Zealand",
            "Nicaragua",
            "Nigeria",
            "Norway",
            "Palestine",
            "Panama",
            "Papua New Guinea",
            "Paraguay",
            "Peru",
            "Philippines",
            "Poland",
            "Portugal",
            "Puerto Rico",
            "Romania",
            "Russia",
            "Rwanda",
            "Saint Lucia",
            "Samoa",
            "Saudi Arabia",
            "Serbia",
            "Seychelles",
            "Sierra Leone",
            "Singapore",
            "Slovak Republic",
            "Slovenia",
            "South Africa",
            "South Korea",
            "Spain",
            "Sri Lanka",
            "Suriname",
            "Sweden",
            "Switzerland",
            "Syria",
            "Taiwan",
            "Tanzania",
            "Thailand",
            "Togo",
            "Tonga",
            "Trinidad & Tobago",
            "Tunisia",
            "Turkey",
            "Uganda",
            "Ukraine",
            "United Kingdom",
            "Uruguay",
            "Uzbekistan",
            "Vanuatu",
            "Venezuela",
            "Vietnam",
            "Virgin Islands (U.S.)",
            "Zimbabwe"
           ],
           "name": "",
           "type": "choropleth",
           "z": [
            1.5999999999999999,
            1.3,
            2.0591549295774647,
            2.7142857142857144,
            2.6399999999999997,
            2.5574675324675327,
            3.002385685884692,
            1.7333333333333334,
            2.0266666666666664,
            2.6,
            1.855,
            3.518376981563385,
            2.588372093023256,
            2.2,
            2.9,
            1.839130434782609,
            2.6037037037037036,
            2.290033222591362,
            1.8955555555555554,
            1.65,
            1.6166666666666665,
            2.25,
            2.989932954083706,
            2.5500000000000003,
            1.9608695652173913,
            1.6804794520547945,
            2.0148148148148146,
            2.004166666666667,
            2.537962962962963,
            1.7750000000000001,
            1.6,
            1.9382352941176473,
            2.9787113402061856,
            3.2,
            2.6098644578313253,
            1.5,
            1.9706896551724138,
            1.6363636363636365,
            1.6173913043478263,
            1.5451923076923075,
            2.9333333333333336,
            2.189944134078212,
            2.8285714285714287,
            2.3189189189189188,
            1.5999999999999999,
            2.8204395604395605,
            2.7804047384007897,
            2.066666666666667,
            1.1,
            1.72,
            2.9038461538461537,
            3.091331696839521,
            1.85,
            3,
            2.1122302158273385,
            2.766666666666667,
            3.466666666666667,
            1.525,
            2.942857142857143,
            1.9,
            2,
            1.7875,
            1.861904761904762,
            2.1989247311827955,
            1.7422222222222223,
            1.9284916201117317,
            1.7366666666666668,
            3.197740963855422,
            2.767741935483871,
            2.0837837837837836,
            2.59251040221914,
            2.966666666666667,
            2.507114624505929,
            2.669193742478941,
            2.65,
            1.9777777777777779,
            2.0626666666666664,
            1.8,
            2.1941176470588233,
            1.8909090909090909,
            2.838323353293413,
            2.1636363636363636,
            2.6127610208816705,
            2.6051724137931034,
            2.3600000000000003,
            2.10625,
            2.1,
            2.6485714285714286,
            2.32,
            2,
            2.6916666666666664,
            2.1585807385952207,
            2.2285714285714286,
            2.4542857142857146,
            2.0473684210526315,
            2.6,
            1.6,
            2.691111111111111,
            2.882672494536372,
            2.3,
            2.6471311475409838,
            1.1214285714285714,
            3.033333333333333,
            2.9265714285714286,
            2.4285714285714284,
            2.2473684210526317,
            0.8500000000000001,
            1.2,
            2.2777777777777777,
            2.194915254237288,
            2.601123595505618,
            2.2508620689655174,
            1.5699999999999998,
            2.38448275862069,
            2.464433617539586,
            1.875,
            2.1999999999999997,
            1.7,
            0.5,
            2.496,
            1.4333333333333336,
            1.1,
            2.3978260869565218,
            2.5421965317919075,
            2.4323943661971827,
            2.26,
            1.588235294117647,
            2.2246951219512194,
            3.4503311258278146,
            1.6,
            2.8730042656916517,
            2.7455357142857144,
            1.5999999999999999,
            2.1538461538461537,
            2.6214285714285714,
            2.085714285714286,
            3.85,
            2.5,
            3.150515463917526,
            2.4285714285714284,
            2.353211009174312,
            1.488888888888889,
            2.4601626016260165,
            3.2070614921840326,
            1.925,
            1.6392857142857142,
            1.7,
            1.5230769230769232,
            1.7,
            2.5727272727272728,
            1.7473684210526317
           ]
          },
          {
           "coloraxis": "coloraxis",
           "geo": "geo",
           "hovertemplate": "location=%{location}<br>count=%{z}<extra></extra>",
           "locationmode": "USA-states",
           "locations": [
            "AL",
            "AK",
            "AZ",
            "AR",
            "CA",
            "CO",
            "CT",
            "DE",
            "FL",
            "GA",
            "HI",
            "ID",
            "IL",
            "IN",
            "IA",
            "KS",
            "KY",
            "LA",
            "ME",
            "MD",
            "MA",
            "MI",
            "MN",
            "MS",
            "MO",
            "MT",
            "NE",
            "NV",
            "NH",
            "NJ",
            "NM",
            "NY",
            "NC",
            "ND",
            "OH",
            "OK",
            "OR",
            "PA",
            "RI",
            "SC",
            "SD",
            "TN",
            "TX",
            "UT",
            "VT",
            "VA",
            "WA",
            "DC",
            "WV",
            "WI",
            "WY"
           ],
           "name": "",
           "type": "choropleth",
           "z": [
            2.7363636363636363,
            3.5875852660300134,
            3.362226640159046,
            3.0439999999999996,
            3.5220692000340046,
            3.010203070827142,
            3.391796875,
            3.4126730564430243,
            3.0584686774942,
            3.423014440433213,
            2.9572463768115944,
            3.278405315614618,
            3.353107344632768,
            3.2069400630914826,
            3.0500000000000003,
            3.435960591133005,
            3.287142857142857,
            2.7857142857142856,
            3.3655697745277267,
            3.2795232936078005,
            3.227174424071462,
            3.3596781403665625,
            3.0629246676514033,
            3.05,
            1.9913477537437605,
            3.1279158699808796,
            2.840268456375839,
            2.9554016620498618,
            3.579847494553377,
            3.4666849917537106,
            3.043503937007874,
            3.21784107946027,
            3.2070063694267517,
            3.3000000000000003,
            3.520896464646465,
            2.8338235294117644,
            3.5407296439901303,
            3.330602292123872,
            3.3441379310344828,
            3.029203539823009,
            3.539285714285714,
            3.083928571428572,
            3.0610750695088047,
            3.0466898954703834,
            3.228552515445719,
            3.306181818181818,
            3.320357047695177,
            3.2333333333333334,
            3.016,
            2.648301677526688,
            3.1872340425531918
           ]
          }
         ],
         "name": "2004"
        },
        {
         "data": [
          {
           "coloraxis": "coloraxis",
           "geo": "geo",
           "hovertemplate": "location=%{location}<br>count=%{z}<extra></extra>",
           "locationmode": "country names",
           "locations": [
            "Albania",
            "Algeria",
            "Antigua & Barbuda",
            "Argentina",
            "Armenia",
            "Aruba",
            "Australia",
            "Austria",
            "Azerbaijan",
            "Bahamas",
            "Barbados",
            "Belarus",
            "Belgium",
            "Belize",
            "Benin",
            "Bolivia",
            "Bosnia and Herzegovina",
            "Botswana",
            "Brazil",
            "Bulgaria",
            "Cambodia",
            "Cameroon",
            "Canada",
            "Cayman Islands",
            "Chad",
            "Chile",
            "China",
            "Colombia",
            "Costa Rica",
            "Croatia",
            "Cuba",
            "Cyprus",
            "Czech Republic",
            "Dem Rep of Congo",
            "Denmark",
            "Dominica",
            "Dominican Republic",
            "Ecuador",
            "Egypt",
            "El Salvador",
            "Eritrea",
            "Estonia",
            "Ethiopia",
            "Faroe Islands",
            "Fiji Islands",
            "Finland",
            "France",
            "French Polynesia",
            "Gambia",
            "Georgia",
            "Germany",
            "Ghana",
            "Greece",
            "Guadeloupe",
            "Guatemala",
            "Guernsey",
            "Haiti",
            "Honduras",
            "Hong Kong",
            "Hungary",
            "Iceland",
            "India",
            "Indonesia",
            "Ireland",
            "Isle of Man",
            "Israel",
            "Italy",
            "Ivory Coast",
            "Jamaica",
            "Japan",
            "Jersey",
            "Kazakhstan",
            "Kenya",
            "Kosovo",
            "Kyrgyzstan",
            "Laos",
            "Latvia",
            "Lebanon",
            "Lesotho",
            "Lithuania",
            "Luxembourg",
            "Macau",
            "Macedonia",
            "Malaysia",
            "Malta",
            "Mauritius",
            "Mexico",
            "Moldova",
            "Montenegro",
            "Morocco",
            "Mozambique",
            "Myanmar",
            "Namibia",
            "Nepal",
            "Netherlands",
            "New Caledonia",
            "New Zealand",
            "Nicaragua",
            "Niger",
            "Nigeria",
            "North Korea",
            "Norway",
            "Pakistan",
            "Palestine",
            "Panama",
            "Peru",
            "Philippines",
            "Poland",
            "Portugal",
            "Puerto Rico",
            "Reunion",
            "Romania",
            "Russia",
            "Rwanda",
            "Saint Lucia",
            "Serbia",
            "Seychelles",
            "Singapore",
            "Slovak Republic",
            "Slovenia",
            "Solomon Islands",
            "South Africa",
            "South Korea",
            "Spain",
            "Sri Lanka",
            "Sweden",
            "Switzerland",
            "Syria",
            "Taiwan",
            "Tanzania",
            "Thailand",
            "Tibet",
            "Togo",
            "Tonga",
            "Trinidad & Tobago",
            "Tunisia",
            "Turkey",
            "Uganda",
            "Ukraine",
            "United Kingdom",
            "Uruguay",
            "Vanuatu",
            "Venezuela",
            "Vietnam",
            "Virgin Islands (U.S.)",
            "Zimbabwe"
           ],
           "name": "",
           "type": "choropleth",
           "z": [
            2.052941176470588,
            1.7111111111111112,
            2,
            2.230769230769231,
            1.9226415094339624,
            2.6166666666666667,
            2.6716863033873346,
            2.944105691056911,
            3.1,
            1.6709677419354838,
            1.825,
            2.7,
            3.4636757888440255,
            2.409375,
            1.42,
            2.2913043478260873,
            2.5411764705882356,
            1.25,
            2.4676470588235295,
            2.0918367346938775,
            2.0320754716981133,
            1.5250000000000001,
            2.992613278791693,
            1.2666666666666666,
            4.7,
            2.2520000000000002,
            1.9529411764705882,
            1.786111111111111,
            1.7971428571428572,
            2.339130434782609,
            1.604109589041096,
            2.112195121951219,
            2.9908910103420845,
            2.766666666666667,
            2.736380409258638,
            1.375,
            1.9170454545454545,
            1.8583333333333334,
            2.336363636363636,
            1.5862068965517242,
            2.2333333333333334,
            2.2418181818181817,
            2.393103448275862,
            2.41,
            1.4833333333333334,
            2.8324817518248175,
            2.8172086225794666,
            1.9133333333333333,
            1.56,
            2.6142857142857143,
            3.0209132525931506,
            1.776923076923077,
            2.0513966480446926,
            2,
            1.6601769911504425,
            2.6222222222222222,
            1.06,
            1.9666666666666668,
            1.5846153846153848,
            2.2396551724137934,
            1.8686567164179104,
            1.955438596491228,
            2.255,
            3.1104054054054053,
            2.996078431372549,
            2.131707317073171,
            2.8391341256366722,
            2.2,
            2.5396887159533077,
            2.6923144876325087,
            2.4555555555555557,
            1.3,
            1.927777777777778,
            2.4,
            2.6500000000000004,
            1.8545454545454547,
            2.5982456140350876,
            1.8625,
            2.066666666666667,
            2.535593220338983,
            2.86046511627907,
            2.3000000000000003,
            2.06,
            2.6333333333333333,
            1.905263157894737,
            2.7,
            2.144336810730253,
            3.95,
            2.9105263157894736,
            2.105714285714286,
            2.065625,
            3.2,
            2.275,
            2.825,
            2.92761724301279,
            1.58,
            2.9000000000000004,
            1.1055555555555554,
            2.5,
            2.257575757575758,
            2.466666666666667,
            2.9148003894839336,
            2,
            1.9846153846153847,
            1.5578947368421052,
            2.025,
            1.9673469387755103,
            2.6496937212863707,
            2.1601307189542482,
            2.1666666666666665,
            1.2000000000000002,
            2.766666666666667,
            2.5445213379469434,
            2.0666666666666664,
            2.2666666666666666,
            2.6310344827586207,
            1.5333333333333332,
            2.510569105691057,
            2.716867469879518,
            2.457692307692308,
            1.1,
            2.594871794871795,
            2.110958904109589,
            2.23012987012987,
            3.657142857142857,
            2.780827801639984,
            2.839897698209719,
            1.4,
            2.158823529411765,
            1.5933333333333333,
            2.0950819672131145,
            1.9000000000000001,
            1.707142857142857,
            1.368421052631579,
            3.070098039215686,
            1.6076923076923075,
            2.140677966101695,
            1.3545454545454545,
            2.5242553191489363,
            3.1622904076942717,
            1.5333333333333332,
            1.675,
            2.460714285714286,
            1.569090909090909,
            2.380952380952381,
            1.81875
           ]
          },
          {
           "coloraxis": "coloraxis",
           "geo": "geo",
           "hovertemplate": "location=%{location}<br>count=%{z}<extra></extra>",
           "locationmode": "USA-states",
           "locations": [
            "AL",
            "AK",
            "AZ",
            "AR",
            "CA",
            "CO",
            "CT",
            "DE",
            "FL",
            "GA",
            "HI",
            "ID",
            "IL",
            "IN",
            "IA",
            "KS",
            "KY",
            "LA",
            "ME",
            "MD",
            "MA",
            "MI",
            "MN",
            "MS",
            "MO",
            "MT",
            "NE",
            "NV",
            "NH",
            "NJ",
            "NM",
            "NY",
            "NC",
            "ND",
            "OH",
            "OK",
            "OR",
            "PA",
            "RI",
            "SC",
            "SD",
            "TN",
            "TX",
            "UT",
            "VT",
            "VA",
            "WA",
            "DC",
            "WV",
            "WI",
            "WY"
           ],
           "name": "",
           "type": "choropleth",
           "z": [
            2.567586206896552,
            3.556486796785304,
            3.2966717095310134,
            3.0930232558139537,
            3.51502350616611,
            3.173015873015873,
            3.4903129657228016,
            3.4394949494949496,
            2.9855887521968363,
            3.4245014245014245,
            2.9875555555555557,
            3.304040404040404,
            3.352753840389659,
            3.2140442132639793,
            2.9984334203655356,
            3.532153392330384,
            3.164313725490196,
            2.7441634241245136,
            3.2698517940717626,
            3.330419331911869,
            3.219773790951638,
            3.351592193117617,
            2.99387222946545,
            3.082142857142857,
            2.0955131649650727,
            3.2021937842778794,
            3.075280898876404,
            3.034113712374582,
            3.4076129032258065,
            3.402774108322325,
            3.2272289156626504,
            3.255128538042067,
            3.257703281027104,
            3.0857142857142854,
            3.531164021164021,
            2.7363636363636363,
            3.499503952875523,
            3.3069308572376053,
            3.19484126984127,
            2.948453608247423,
            3.4714285714285715,
            3.0147814910025708,
            3.131565814098565,
            3.0681440443213295,
            3.178929765886288,
            3.2825091575091574,
            3.283954022988506,
            3.2870967741935484,
            2.8666666666666667,
            2.7131752733571504,
            3.2481012658227852
           ]
          }
         ],
         "name": "2005"
        },
        {
         "data": [
          {
           "coloraxis": "coloraxis",
           "geo": "geo",
           "hovertemplate": "location=%{location}<br>count=%{z}<extra></extra>",
           "locationmode": "country names",
           "locations": [
            "Albania",
            "Algeria",
            "Angola",
            "Antigua & Barbuda",
            "Argentina",
            "Armenia",
            "Aruba",
            "Australia",
            "Austria",
            "Azerbaijan",
            "Bahamas",
            "Barbados",
            "Belarus",
            "Belgium",
            "Belize",
            "Bermuda",
            "Bolivia",
            "Bosnia and Herzegovina",
            "Botswana",
            "Brazil",
            "Bulgaria",
            "Burkina Faso",
            "Cambodia",
            "Cameroon",
            "Canada",
            "Cape Verde Islands",
            "Cayman Islands",
            "Chile",
            "China",
            "Colombia",
            "Congo",
            "Cook Islands",
            "Costa Rica",
            "Croatia",
            "Cuba",
            "Cyprus",
            "Czech Republic",
            "Dem Rep of Congo",
            "Denmark",
            "Dominica",
            "Dominican Republic",
            "Ecuador",
            "Egypt",
            "El Salvador",
            "Eritrea",
            "Estonia",
            "Ethiopia",
            "Faroe Islands",
            "Fiji Islands",
            "Finland",
            "France",
            "French Polynesia",
            "Gambia",
            "Georgia",
            "Germany",
            "Ghana",
            "Gibraltar",
            "Greece",
            "Greenland",
            "Guam",
            "Guatemala",
            "Guernsey",
            "Guyana",
            "Haiti",
            "Honduras",
            "Hong Kong",
            "Hungary",
            "Iceland",
            "India",
            "Indonesia",
            "Iran",
            "Ireland",
            "Isle of Man",
            "Israel",
            "Italy",
            "Ivory Coast",
            "Jamaica",
            "Japan",
            "Jersey",
            "Kazakhstan",
            "Kenya",
            "Kosovo",
            "Laos",
            "Latvia",
            "Lebanon",
            "Lesotho",
            "Lithuania",
            "Luxembourg",
            "Macau",
            "Macedonia",
            "Madagascar",
            "Malawi",
            "Malaysia",
            "Mali",
            "Malta",
            "Martinique",
            "Mauritius",
            "Mexico",
            "Micronesia",
            "Moldova",
            "Mongolia",
            "Montenegro",
            "Morocco",
            "Mozambique",
            "Myanmar",
            "Namibia",
            "Netherlands",
            "New Zealand",
            "Nicaragua",
            "Nigeria",
            "Norfolk Island",
            "North Korea",
            "Norway",
            "Palestine",
            "Panama",
            "Papua New Guinea",
            "Paraguay",
            "Peru",
            "Philippines",
            "Poland",
            "Portugal",
            "Puerto Rico",
            "Romania",
            "Russia",
            "Rwanda",
            "Saint Lucia",
            "Samoa",
            "Saudi Arabia",
            "Senegal",
            "Serbia",
            "Seychelles",
            "Singapore",
            "Slovak Republic",
            "Slovenia",
            "Solomon Islands",
            "South Africa",
            "South Korea",
            "Spain",
            "Sri Lanka",
            "Suriname",
            "Sweden",
            "Switzerland",
            "Syria",
            "Taiwan",
            "Tanzania",
            "Thailand",
            "Togo",
            "Trinidad & Tobago",
            "Tunisia",
            "Turkey",
            "Turkmenistan",
            "Turks and Caicos Islands",
            "Uganda",
            "Ukraine",
            "United Kingdom",
            "Uruguay",
            "Vanuatu",
            "Venezuela",
            "Vietnam",
            "Virgin Islands (U.S.)",
            "Zimbabwe"
           ],
           "name": "",
           "type": "choropleth",
           "z": [
            1.8727272727272728,
            1.8407407407407408,
            1.625,
            3.0999999999999996,
            2.590408163265306,
            2.1923076923076925,
            2.2529411764705882,
            2.6894336754085897,
            3.027378640776699,
            3.2166666666666663,
            1.6551020408163264,
            1.9285714285714286,
            3,
            3.508536378731912,
            2.6999999999999997,
            4.15,
            1.9409090909090911,
            2.061818181818182,
            1.175,
            2.2932394366197184,
            2.1525547445255473,
            2.9,
            1.8575757575757577,
            1.5,
            3.016218474627773,
            1.2,
            2.7857142857142856,
            2.4975728155339807,
            1.9575,
            2.1,
            1.4,
            1.9095238095238096,
            2.3129032258064517,
            2.5173652694610777,
            1.656140350877193,
            2.1575757575757577,
            2.9464153732446414,
            1.6333333333333335,
            2.8611181587531713,
            1.52,
            1.8297872340425532,
            2.19,
            1.6312499999999999,
            1.7023622047244094,
            2.8,
            2.2635179153094462,
            2.4754098360655736,
            2.5195876288659793,
            1.9649999999999999,
            2.794328922495274,
            2.841140684410646,
            1.8674418604651162,
            1.6666666666666667,
            2.2115384615384617,
            3.042729942218433,
            2.18,
            2.2,
            2.2445544554455443,
            3.0008849557522126,
            3.3,
            1.887128712871287,
            2.9833333333333334,
            3,
            2.2875,
            2.2941176470588234,
            2.43,
            2.29037037037037,
            1.9026315789473685,
            1.8829931972789116,
            2.051851851851852,
            1.2315789473684209,
            3.2005144694533763,
            3.0634408602150534,
            2.1943396226415093,
            2.828748451053284,
            2.533333333333333,
            2.6514469453376206,
            2.735523114355231,
            2.6,
            2.3375,
            2.2022727272727276,
            1.4875,
            2.05,
            2.895348837209302,
            1.73125,
            1.5699999999999998,
            2.626833976833977,
            2.612096774193548,
            2.161538461538462,
            2.6625,
            2.9,
            1.5,
            2.580487804878049,
            1.5571428571428572,
            2.788095238095238,
            1.5,
            2.022222222222222,
            2.119772583701832,
            3.4,
            2.2142857142857144,
            2.316666666666667,
            2.1959999999999997,
            1.9461538461538461,
            2.511111111111111,
            2.25,
            2.3559322033898304,
            2.867921550946799,
            2.8657142857142857,
            1.7666666666666666,
            3.1285714285714286,
            3.3,
            2.8,
            2.806837961044343,
            2.08125,
            1.7615384615384617,
            1.5666666666666667,
            1.75,
            2.1979381443298966,
            1.9854651162790697,
            2.7530541012216405,
            2.23235294117647,
            2.5787878787878786,
            2.5588235294117645,
            2.463376932223543,
            3.2,
            2,
            1.16,
            1.1,
            1.7,
            2.463636363636364,
            2.3,
            2.5623762376237624,
            2.7406060606060607,
            2.261068702290076,
            1,
            2.464335664335664,
            1.7603960396039604,
            2.4545801526717557,
            3.4758196721311476,
            0.9,
            2.8180726336860165,
            2.956010568031704,
            2.55,
            2.0033333333333334,
            1.8857142857142857,
            2.1773399014778323,
            2.4,
            3.14,
            1.5833333333333333,
            2.153103448275862,
            2,
            1.05,
            1.78,
            2.5014285714285713,
            3.1746680182463254,
            1.8333333333333333,
            1.7399999999999998,
            1.658695652173913,
            2.0346774193548387,
            2.656,
            1.9
           ]
          },
          {
           "coloraxis": "coloraxis",
           "geo": "geo",
           "hovertemplate": "location=%{location}<br>count=%{z}<extra></extra>",
           "locationmode": "USA-states",
           "locations": [
            "AL",
            "AK",
            "AZ",
            "AR",
            "CA",
            "CO",
            "CT",
            "DE",
            "FL",
            "GA",
            "HI",
            "ID",
            "IL",
            "IN",
            "IA",
            "KS",
            "KY",
            "LA",
            "ME",
            "MD",
            "MA",
            "MI",
            "MN",
            "MS",
            "MO",
            "MT",
            "NE",
            "NV",
            "NH",
            "NJ",
            "NM",
            "NY",
            "NC",
            "ND",
            "OH",
            "OK",
            "OR",
            "PA",
            "RI",
            "SC",
            "SD",
            "TN",
            "TX",
            "UT",
            "VT",
            "VA",
            "WA",
            "DC",
            "WV",
            "WI",
            "WY"
           ],
           "name": "",
           "type": "choropleth",
           "z": [
            2.7905882352941176,
            3.601707317073171,
            3.2867036011080333,
            3.0507936507936506,
            3.5164158334192352,
            3.1717429474423504,
            3.494271481942715,
            3.4022662889518416,
            2.9444444444444446,
            3.476987012987013,
            3.119879518072289,
            3.2556140350877194,
            3.4448070285534986,
            3.2193232413178987,
            3.0534939759036144,
            3.310227272727273,
            3.2455906821963394,
            2.87370753323486,
            3.3031827826614126,
            3.3196767791324073,
            3.19577522559475,
            3.4366870483602,
            2.97766323024055,
            3.468518518518519,
            2.1736727589208007,
            3.177382465057179,
            3.020718232044199,
            3.029533678756477,
            3.5193002257336343,
            3.4190438247011947,
            3.1608695652173915,
            3.3081441366382003,
            3.3530496453900707,
            2.9,
            3.592783911671924,
            2.6014285714285714,
            3.495631825273011,
            3.3173527373527376,
            3.237890625,
            2.9284883720930233,
            2.869230769230769,
            3.0329799764428738,
            3.088896899783706,
            3.134316353887399,
            3.158277444405224,
            3.330932999373826,
            3.2819189861959717,
            3.142857142857143,
            3.1183673469387756,
            2.805146903403086,
            3.123414634146341
           ]
          }
         ],
         "name": "2006"
        },
        {
         "data": [
          {
           "coloraxis": "coloraxis",
           "geo": "geo",
           "hovertemplate": "location=%{location}<br>count=%{z}<extra></extra>",
           "locationmode": "country names",
           "locations": [
            "Albania",
            "Algeria",
            "Angola",
            "Antigua & Barbuda",
            "Argentina",
            "Armenia",
            "Aruba",
            "Australia",
            "Austria",
            "Azerbaijan",
            "Bahamas",
            "Bangladesh",
            "Barbados",
            "Belarus",
            "Belgium",
            "Belize",
            "Bermuda",
            "Bolivia",
            "Bosnia and Herzegovina",
            "Botswana",
            "Brazil",
            "Bulgaria",
            "Burundi",
            "Cambodia",
            "Cameroon",
            "Canada",
            "Cape Verde Islands",
            "Cayman Islands",
            "Central African Republic",
            "Chile",
            "China",
            "Colombia",
            "Congo",
            "Cook Islands",
            "Costa Rica",
            "Croatia",
            "Cuba",
            "Cyprus",
            "Czech Republic",
            "Dem Rep of Congo",
            "Denmark",
            "Dominica",
            "Dominican Republic",
            "Ecuador",
            "Egypt",
            "El Salvador",
            "Estonia",
            "Ethiopia",
            "Faroe Islands",
            "Fiji Islands",
            "Finland",
            "France",
            "French Polynesia",
            "Gambia",
            "Georgia",
            "Germany",
            "Ghana",
            "Greece",
            "Greenland",
            "Guadeloupe",
            "Guam",
            "Guatemala",
            "Guernsey",
            "Guinea",
            "Haiti",
            "Honduras",
            "Hong Kong",
            "Hungary",
            "Iceland",
            "India",
            "Indonesia",
            "Iran",
            "Ireland",
            "Isle of Man",
            "Israel",
            "Italy",
            "Ivory Coast",
            "Jamaica",
            "Japan",
            "Jersey",
            "Jordan",
            "Kazakhstan",
            "Kenya",
            "Kosovo",
            "Laos",
            "Latvia",
            "Lebanon",
            "Lesotho",
            "Liberia",
            "Lithuania",
            "Luxembourg",
            "Macau",
            "Macedonia",
            "Madagascar",
            "Malaysia",
            "Mali",
            "Malta",
            "Martinique",
            "Mauritius",
            "Mexico",
            "Moldova",
            "Mongolia",
            "Montenegro",
            "Morocco",
            "Mozambique",
            "Myanmar",
            "Namibia",
            "Nepal",
            "Netherlands",
            "New Caledonia",
            "New Zealand",
            "Nicaragua",
            "Nigeria",
            "Norfolk Island",
            "North Korea",
            "Norway",
            "Pakistan",
            "Palestine",
            "Panama",
            "Papua New Guinea",
            "Paraguay",
            "Peru",
            "Philippines",
            "Poland",
            "Portugal",
            "Puerto Rico",
            "Reunion",
            "Romania",
            "Russia",
            "Rwanda",
            "Saint Lucia",
            "Saint Vincent and The Grenadines",
            "Samoa",
            "Saudi Arabia",
            "Senegal",
            "Serbia",
            "Seychelles",
            "Sierra Leone",
            "Singapore",
            "Slovak Republic",
            "Slovenia",
            "Solomon Islands",
            "South Africa",
            "South Korea",
            "Spain",
            "Sri Lanka",
            "Suriname",
            "Swaziland",
            "Sweden",
            "Switzerland",
            "Taiwan",
            "Tanzania",
            "Thailand",
            "Tibet",
            "Togo",
            "Tonga",
            "Trinidad & Tobago",
            "Tunisia",
            "Turkey",
            "Turkmenistan",
            "Turks and Caicos Islands",
            "Uganda",
            "Ukraine",
            "United Arab Emirates",
            "United Kingdom",
            "Uruguay",
            "Uzbekistan",
            "Vanuatu",
            "Venezuela",
            "Vietnam",
            "Virgin Islands (U.S.)",
            "Zimbabwe"
           ],
           "name": "",
           "type": "choropleth",
           "z": [
            2.033333333333333,
            1.4666666666666668,
            1.2,
            2.216666666666667,
            2.674060606060606,
            2.3111111111111113,
            2.35,
            2.6720064205457463,
            2.928057142857143,
            3.2,
            2.0072727272727273,
            1.2636363636363637,
            2.1864864864864866,
            2.176470588235294,
            3.500770936208808,
            2.3066666666666666,
            3.1399999999999997,
            2.0555555555555554,
            2.3130434782608695,
            0.775,
            2.822289156626506,
            2.164625850340136,
            1.2,
            1.9064516129032258,
            1.8176470588235294,
            3.088929618768329,
            1.5125,
            3.0083333333333333,
            1.525,
            2.6365079365079365,
            1.9869747899159662,
            1.950793650793651,
            1.4333333333333333,
            2.2,
            1.9329268292682926,
            2.353815261044177,
            1.9098591549295774,
            1.9761904761904763,
            2.9870417732310313,
            1.8,
            2.9037769686430086,
            3.18,
            1.92027027027027,
            1.6576923076923078,
            1.9292307692307693,
            1.7532258064516129,
            2.3922705314009662,
            1.984,
            2.3745664739884393,
            1.5999999999999999,
            2.8253796095444685,
            2.847541507024266,
            2.1525,
            1.25,
            2.319230769230769,
            3.0674542124542126,
            2.0444444444444443,
            2.14014598540146,
            3.024120603015075,
            1.9125,
            3.3,
            1.8566037735849057,
            2.430769230769231,
            1.8,
            1.6235294117647059,
            1.875,
            2.0766666666666667,
            2.1805128205128206,
            2.248684210526316,
            1.9763005780346818,
            2.1655172413793102,
            1.3319999999999999,
            3.1703254006799417,
            3.0683823529411764,
            2.5175,
            2.945409523809524,
            1.8368421052631578,
            2.539402985074627,
            2.933426573426573,
            3.15,
            1,
            2.023076923076923,
            2.1951219512195124,
            1.525,
            2.2476190476190476,
            2.677878787878788,
            1.9264705882352942,
            1.2,
            1.49,
            2.4817578772802653,
            2.692248062015504,
            1.9400000000000002,
            2.1809523809523808,
            1.4777777777777779,
            2.33,
            1.3,
            2.553846153846154,
            2.06,
            1.8,
            2.119289074751699,
            2.4,
            1.8800000000000001,
            2.3266666666666667,
            2.211627906976744,
            2.43,
            1.4391304347826088,
            2.1463414634146343,
            1.7478260869565219,
            2.9306432349428424,
            1.78,
            2.845667870036101,
            1.6794520547945204,
            3.077777777777778,
            2.8666666666666667,
            1.7625,
            3.269745222929936,
            2.1,
            2.386206896551724,
            1.4897435897435898,
            1.95,
            1.7400000000000002,
            2.207070707070707,
            2.2513274336283184,
            2.6982545045045048,
            2.1655021834061134,
            2.161764705882353,
            1.9666666666666668,
            2.1756944444444444,
            2.405324813631523,
            4.3,
            1.9833333333333334,
            2.966666666666667,
            1.7333333333333334,
            1,
            1.626086956521739,
            2.5754098360655737,
            1.4,
            1.8166666666666667,
            2.3786290322580643,
            2.739864864864865,
            2.1925438596491227,
            1.2,
            2.462655601659751,
            2.2170940170940168,
            2.300936037441498,
            3.452140077821012,
            1.9625,
            1.41,
            2.938941565600882,
            3.0558869701726845,
            2.3840909090909093,
            1.697674418604651,
            2.165991902834008,
            1.6857142857142857,
            1.8416666666666668,
            1.05,
            3.165994236311239,
            2.21,
            2.2953307392996107,
            1.7333333333333332,
            1.6500000000000001,
            1.582142857142857,
            2.5780788177339904,
            0.9,
            3.1653877482234645,
            2.0318181818181817,
            1.4666666666666668,
            1.2333333333333334,
            1.7654545454545454,
            2.1,
            2.468888888888889,
            2.3
           ]
          },
          {
           "coloraxis": "coloraxis",
           "geo": "geo",
           "hovertemplate": "location=%{location}<br>count=%{z}<extra></extra>",
           "locationmode": "USA-states",
           "locations": [
            "AL",
            "AK",
            "AZ",
            "AR",
            "CA",
            "CO",
            "CT",
            "DE",
            "FL",
            "GA",
            "HI",
            "ID",
            "IL",
            "IN",
            "IA",
            "KS",
            "KY",
            "LA",
            "ME",
            "MD",
            "MA",
            "MI",
            "MN",
            "MS",
            "MO",
            "MT",
            "NE",
            "NV",
            "NH",
            "NJ",
            "NM",
            "NY",
            "NC",
            "OH",
            "OK",
            "OR",
            "PA",
            "RI",
            "SC",
            "SD",
            "TN",
            "TX",
            "UT",
            "VT",
            "VA",
            "WA",
            "DC",
            "WV",
            "WI",
            "WY"
           ],
           "name": "",
           "type": "choropleth",
           "z": [
            2.8255474452554745,
            3.5622483221476506,
            3.3002237136465324,
            3.0500000000000003,
            3.536476148379858,
            3.1908239375542062,
            3.4508247422680416,
            3.3950617283950617,
            3.062232142857143,
            3.436923721709975,
            3.248351648351648,
            3.349244332493703,
            3.4258705184420943,
            3.226199740596628,
            3.096986301369863,
            3.4014662756598244,
            3.248121387283237,
            2.842093023255814,
            3.2839820712432175,
            3.3383553980980794,
            3.1992109256449166,
            3.417908637649912,
            3.323785545023697,
            3.2323529411764707,
            2.224333333333333,
            3.274748490945674,
            3.2334615384615386,
            2.972978723404255,
            3.436745533558667,
            3.412625538020086,
            3.155820105820106,
            3.365854442587116,
            3.4268686296715742,
            3.5897805364664155,
            2.5441379310344825,
            3.4793186023729183,
            3.2855424229632755,
            3.3355231143552313,
            2.9347408829174664,
            3.19375,
            3.0446958981612444,
            3.1089224768405654,
            3.106229508196721,
            3.1202023207378757,
            3.3044303797468357,
            3.2675490501401434,
            2.9812499999999997,
            3.04811320754717,
            2.8721802016985136,
            3.2258278145695365
           ]
          }
         ],
         "name": "2007"
        },
        {
         "data": [
          {
           "coloraxis": "coloraxis",
           "geo": "geo",
           "hovertemplate": "location=%{location}<br>count=%{z}<extra></extra>",
           "locationmode": "country names",
           "locations": [
            "Albania",
            "Algeria",
            "Angola",
            "Antigua & Barbuda",
            "Argentina",
            "Armenia",
            "Aruba",
            "Australia",
            "Austria",
            "Azerbaijan",
            "Bahamas",
            "Bangladesh",
            "Barbados",
            "Belarus",
            "Belgium",
            "Belize",
            "Bermuda",
            "Bhutan",
            "Bolivia",
            "Bosnia and Herzegovina",
            "Botswana",
            "Brazil",
            "Bulgaria",
            "Cambodia",
            "Cameroon",
            "Canada",
            "Cape Verde Islands",
            "Cayman Islands",
            "Central African Republic",
            "Chad",
            "Chile",
            "China",
            "Colombia",
            "Congo",
            "Cook Islands",
            "Costa Rica",
            "Croatia",
            "Cuba",
            "Cyprus",
            "Czech Republic",
            "Dem Rep of Congo",
            "Denmark",
            "Dominica",
            "Dominican Republic",
            "Ecuador",
            "Egypt",
            "El Salvador",
            "Eritrea",
            "Estonia",
            "Ethiopia",
            "Faroe Islands",
            "Fiji Islands",
            "Finland",
            "France",
            "French Polynesia",
            "Gabon",
            "Gambia",
            "Georgia",
            "Germany",
            "Ghana",
            "Greece",
            "Greenland",
            "Guadeloupe",
            "Guam",
            "Guatemala",
            "Guernsey",
            "Guyana",
            "Haiti",
            "Honduras",
            "Hong Kong",
            "Hungary",
            "Iceland",
            "India",
            "Indonesia",
            "Iran",
            "Ireland",
            "Isle of Man",
            "Israel",
            "Italy",
            "Ivory Coast",
            "Jamaica",
            "Japan",
            "Jersey",
            "Jordan",
            "Kazakhstan",
            "Kenya",
            "Kosovo",
            "Laos",
            "Latvia",
            "Lebanon",
            "Lesotho",
            "Liberia",
            "Liechtenstein",
            "Lithuania",
            "Luxembourg",
            "Macau",
            "Macedonia",
            "Madagascar",
            "Malawi",
            "Malaysia",
            "Mali",
            "Malta",
            "Martinique",
            "Mauritius",
            "Mexico",
            "Moldova",
            "Mongolia",
            "Montenegro",
            "Morocco",
            "Mozambique",
            "Myanmar",
            "Namibia",
            "Nepal",
            "Netherlands",
            "New Caledonia",
            "New Zealand",
            "Nicaragua",
            "Niger",
            "Nigeria",
            "North Korea",
            "Norway",
            "Pakistan",
            "Palau",
            "Palestine",
            "Panama",
            "Papua New Guinea",
            "Paraguay",
            "Peru",
            "Philippines",
            "Poland",
            "Portugal",
            "Puerto Rico",
            "Reunion",
            "Romania",
            "Russia",
            "Rwanda",
            "Saint Lucia",
            "Saint Vincent and The Grenadines",
            "Samoa",
            "Saudi Arabia",
            "Senegal",
            "Serbia",
            "Seychelles",
            "Sierra Leone",
            "Singapore",
            "Slovak Republic",
            "Slovenia",
            "Solomon Islands",
            "South Africa",
            "South Korea",
            "Spain",
            "Sri Lanka",
            "Suriname",
            "Swaziland",
            "Sweden",
            "Switzerland",
            "Syria",
            "Taiwan",
            "Tanzania",
            "Thailand",
            "Tibet",
            "Togo",
            "Tonga",
            "Transdniestra",
            "Trinidad & Tobago",
            "Tunisia",
            "Turkey",
            "Turkmenistan",
            "Uganda",
            "Ukraine",
            "United Arab Emirates",
            "United Kingdom",
            "Uruguay",
            "Uzbekistan",
            "Venezuela",
            "Vietnam",
            "Virgin Islands (U.S.)",
            "Zambia",
            "Zimbabwe"
           ],
           "name": "",
           "type": "choropleth",
           "z": [
            2.0611111111111113,
            2.4,
            2,
            1.8,
            2.5757111597374176,
            2.4142857142857146,
            2.1,
            2.74056399132321,
            2.9310762331838567,
            2.1333333333333333,
            1.9127272727272728,
            1.4500000000000002,
            2.1564102564102563,
            2.051219512195122,
            3.507256608490348,
            2.6333333333333333,
            3.19,
            1.822222222222222,
            2.1075,
            2.177142857142857,
            1.3333333333333333,
            2.7229070837166516,
            2.218421052631579,
            2.0175,
            2.3285714285714287,
            3.2022277543725264,
            1.55,
            2.066666666666667,
            1.5,
            1.7,
            2.788211382113821,
            1.8504201680672268,
            2.239,
            2.2333333333333334,
            1.875,
            2.026470588235294,
            2.361846153846154,
            1.98,
            2.006666666666667,
            2.9372363041700735,
            3.0999999999999996,
            2.992583930224626,
            1.7,
            1.905681818181818,
            1.8875,
            1.9172043010752688,
            1.9335766423357663,
            2.2375,
            2.251494252873563,
            2.596923076923077,
            2.419620253164557,
            2.0999999999999996,
            2.8395792754187767,
            2.8591806220095695,
            2.0647058823529414,
            1.9000000000000001,
            2.1666666666666665,
            2.111764705882353,
            3.035148564713782,
            1.7409090909090907,
            2.2849829351535837,
            2.6747747747747748,
            2.8,
            1.3,
            1.634782608695652,
            2.511111111111111,
            1.6333333333333335,
            1.9000000000000001,
            1.637037037037037,
            1.941935483870968,
            2.269204152249135,
            2.345816733067729,
            1.9128851540616245,
            2.19344262295082,
            1.3625,
            3.1862389813907934,
            3.145625,
            2.6734265734265734,
            3.031493764924383,
            1.8571428571428572,
            2.388704318936877,
            3.026433260393873,
            2.3,
            1.7,
            2.3333333333333335,
            2.1112359550561797,
            2.225,
            2.209090909090909,
            2.506201550387597,
            2.1863636363636365,
            1.3599999999999999,
            1.95,
            2.8,
            2.5290933694181326,
            2.5145299145299145,
            1.8909090909090909,
            2.036363636363636,
            1.8,
            2.6999999999999997,
            2.868181818181818,
            1,
            2.435164835164835,
            1.9,
            1.9952380952380953,
            2.1157730116175157,
            2.5307692307692307,
            2.7,
            2.1456521739130436,
            2.0507936507936506,
            2.026315789473684,
            1.7,
            2.4383333333333335,
            2.0142857142857142,
            2.903578184110971,
            3,
            2.926874043855176,
            1.775438596491228,
            1.3666666666666665,
            3.214,
            2.4166666666666665,
            3.313899253731343,
            2.84,
            3.475,
            2.8803030303030304,
            1.9454545454545453,
            2.575,
            0.7,
            2.191588785046729,
            2.1469135802469137,
            2.5484772840738894,
            2.2018656716417913,
            2.628205128205128,
            2.0166666666666666,
            2.1101851851851854,
            2.3907045009784738,
            2.2333333333333334,
            1.6666666666666667,
            1.675,
            1.7714285714285716,
            1.575,
            1.6428571428571428,
            2.401176470588235,
            1.707142857142857,
            1.4249999999999998,
            2.3502890173410407,
            2.6157894736842104,
            2.3522580645161293,
            1.8,
            2.5015384615384617,
            1.8992537313432836,
            2.308884859474161,
            3.4945454545454546,
            2.55,
            1.7,
            3.0830024123213953,
            3.109795918367347,
            2.1,
            1.7933333333333334,
            2.090909090909091,
            2.113274336283186,
            0.9333333333333332,
            2.18,
            1.6666666666666667,
            1.9,
            2.974336283185841,
            2.2233333333333336,
            2.261349693251534,
            1.6666666666666667,
            2.0588235294117645,
            2.4019354838709677,
            1.6875,
            3.181109073254936,
            2.075862068965517,
            1.5714285714285714,
            1.8861111111111113,
            2.2618181818181817,
            2.796875,
            1.8416666666666666,
            1.7333333333333334
           ]
          },
          {
           "coloraxis": "coloraxis",
           "geo": "geo",
           "hovertemplate": "location=%{location}<br>count=%{z}<extra></extra>",
           "locationmode": "USA-states",
           "locations": [
            "AL",
            "AK",
            "AZ",
            "AR",
            "CA",
            "CO",
            "CT",
            "DE",
            "FL",
            "GA",
            "HI",
            "ID",
            "IL",
            "IN",
            "IA",
            "KS",
            "KY",
            "LA",
            "ME",
            "MD",
            "MA",
            "MI",
            "MN",
            "MS",
            "MO",
            "MT",
            "NE",
            "NV",
            "NH",
            "NJ",
            "NM",
            "NY",
            "NC",
            "OH",
            "OK",
            "OR",
            "PA",
            "RI",
            "SC",
            "SD",
            "TN",
            "TX",
            "UT",
            "VT",
            "VA",
            "WA",
            "DC",
            "WV",
            "WI",
            "WY"
           ],
           "name": "",
           "type": "choropleth",
           "z": [
            3.122916666666667,
            3.6310066476733143,
            3.2704315886134068,
            3.100740740740741,
            3.595501834309806,
            3.2064150318682225,
            3.3969398907103825,
            3.420383275261324,
            3.1209408194233688,
            3.433586050037907,
            3.258202802967848,
            3.3866735537190085,
            3.4442669172932328,
            3.358090862685043,
            3.0170909090909093,
            3.4106635071090046,
            3.209970238095238,
            2.901435406698565,
            3.2942271442035818,
            3.300816932788712,
            3.2015795868772785,
            3.4627110409328314,
            3.3915994623655914,
            3.2192307692307693,
            2.3921726227278346,
            3.1902482269503545,
            3.3721254355400694,
            3.0714285714285716,
            3.4884524744697565,
            3.348139797068771,
            3.2074879227053144,
            3.4174004634506003,
            3.388761408083442,
            3.5250964374858182,
            2.808835341365462,
            3.493774319066148,
            3.314862648626486,
            3.208715596330275,
            3.064818763326226,
            3.189285714285714,
            3.145465994962217,
            3.208732660781841,
            3.161993769470405,
            3.113243967828418,
            3.273213311511184,
            3.293967807469917,
            3.1238095238095234,
            2.8688524590163933,
            2.89750404138377,
            3.231034482758621
           ]
          }
         ],
         "name": "2008"
        },
        {
         "data": [
          {
           "coloraxis": "coloraxis",
           "geo": "geo",
           "hovertemplate": "location=%{location}<br>count=%{z}<extra></extra>",
           "locationmode": "country names",
           "locations": [
            "Albania",
            "Algeria",
            "Angola",
            "Antigua & Barbuda",
            "Argentina",
            "Armenia",
            "Aruba",
            "Australia",
            "Austria",
            "Azerbaijan",
            "Bahamas",
            "Barbados",
            "Belarus",
            "Belgium",
            "Belize",
            "Benin",
            "Bermuda",
            "Bhutan",
            "Bolivia",
            "Bosnia and Herzegovina",
            "Botswana",
            "Brazil",
            "Bulgaria",
            "Burkina Faso",
            "Cambodia",
            "Cameroon",
            "Canada",
            "Cayman Islands",
            "Central African Republic",
            "Chad",
            "Chile",
            "China",
            "Colombia",
            "Congo",
            "Cook Islands",
            "Costa Rica",
            "Croatia",
            "Cuba",
            "Cyprus",
            "Czech Republic",
            "Dem Rep of Congo",
            "Denmark",
            "Dominica",
            "Dominican Republic",
            "Ecuador",
            "Egypt",
            "El Salvador",
            "Eritrea",
            "Estonia",
            "Ethiopia",
            "Faroe Islands",
            "Fiji Islands",
            "Finland",
            "France",
            "French Polynesia",
            "Gabon",
            "Gambia",
            "Georgia",
            "Germany",
            "Ghana",
            "Gibraltar",
            "Greece",
            "Greenland",
            "Guam",
            "Guatemala",
            "Guernsey",
            "Guinea-Bissau",
            "Guyana",
            "Haiti",
            "Honduras",
            "Hong Kong",
            "Hungary",
            "Iceland",
            "India",
            "Indonesia",
            "Iran",
            "Ireland",
            "Isle of Man",
            "Israel",
            "Italy",
            "Jamaica",
            "Japan",
            "Jersey",
            "Jordan",
            "Kazakhstan",
            "Kenya",
            "Kosovo",
            "Kyrgyzstan",
            "Laos",
            "Latvia",
            "Lebanon",
            "Lesotho",
            "Liberia",
            "Libya",
            "Liechtenstein",
            "Lithuania",
            "Luxembourg",
            "Macau",
            "Macedonia",
            "Madagascar",
            "Malawi",
            "Malaysia",
            "Malta",
            "Martinique",
            "Mauritius",
            "Mexico",
            "Moldova",
            "Monaco",
            "Mongolia",
            "Montenegro",
            "Morocco",
            "Mozambique",
            "Myanmar",
            "Namibia",
            "Nepal",
            "Netherlands",
            "New Zealand",
            "Nicaragua",
            "Nigeria",
            "North Korea",
            "Norway",
            "Pakistan",
            "Palestine",
            "Panama",
            "Papua New Guinea",
            "Paraguay",
            "Peru",
            "Philippines",
            "Poland",
            "Portugal",
            "Puerto Rico",
            "Reunion",
            "Romania",
            "Russia",
            "Rwanda",
            "Saint Lucia",
            "Samoa",
            "Sao Tome and Principe",
            "Saudi Arabia",
            "Senegal",
            "Serbia",
            "Seychelles",
            "Sierra Leone",
            "Singapore",
            "Slovak Republic",
            "Slovenia",
            "South Africa",
            "South Korea",
            "Spain",
            "Sri Lanka",
            "Suriname",
            "Swaziland",
            "Sweden",
            "Switzerland",
            "Taiwan",
            "Tanzania",
            "Thailand",
            "Tibet",
            "Tonga",
            "Transdniestra",
            "Trinidad & Tobago",
            "Tunisia",
            "Turkey",
            "Turks and Caicos Islands",
            "Uganda",
            "Ukraine",
            "United Arab Emirates",
            "United Kingdom",
            "Uruguay",
            "Vanuatu",
            "Venezuela",
            "Vietnam",
            "Virgin Islands (U.S.)",
            "Zambia",
            "Zimbabwe"
           ],
           "name": "",
           "type": "choropleth",
           "z": [
            1.8090909090909089,
            1.7,
            1.4333333333333333,
            2.008695652173913,
            2.6315403422982886,
            2.610526315789474,
            2.1384615384615384,
            2.868009011546043,
            2.9308758040573974,
            2.06,
            1.8545454545454545,
            2.2357142857142858,
            2.5341614906832297,
            3.490349245711924,
            2.538888888888889,
            2.1,
            3.45,
            3,
            2.2289473684210526,
            2.135238095238095,
            1.9833333333333334,
            2.6796918767507,
            2.095049504950495,
            1.5545454545454547,
            2.2830188679245285,
            2.2666666666666666,
            3.226198659079385,
            2.31,
            1.15,
            2,
            2.843421052631579,
            1.8895635673624287,
            2.3096153846153844,
            1.4,
            1.5,
            2.1695238095238096,
            2.3542600896860986,
            1.8399999999999999,
            1.9382978723404254,
            2.9395984943538265,
            2.536363636363636,
            3.042665507390386,
            1.957142857142857,
            1.8125,
            1.8324324324324324,
            1.9,
            1.695061728395062,
            1.5,
            2.2348008385744236,
            2.2455696202531645,
            2.5529032258064515,
            1.8636363636363635,
            2.830731943771207,
            2.818645439827307,
            2.259259259259259,
            1.7000000000000002,
            2.2,
            2.090909090909091,
            3.0009661835748793,
            2.2545454545454544,
            3.4,
            2.4122249388753056,
            2.488095238095238,
            3.4166666666666665,
            1.8651162790697675,
            2.7375,
            2.3,
            3.56,
            1.66,
            2.3,
            1.9923076923076921,
            2.334418604651163,
            2.8493723849372383,
            1.9448170731707317,
            2.170114942528736,
            1.3399999999999999,
            3.149816345270891,
            3.1637037037037037,
            2.6281250000000003,
            3.1110583446404343,
            2.4739130434782606,
            3.033901313454029,
            2.8875,
            1.765,
            1.9285714285714286,
            2.052688172043011,
            2.525,
            1,
            2.5,
            2.33393665158371,
            2.45,
            1.6,
            1.8333333333333333,
            1.6800000000000002,
            2.65,
            2.540471869328494,
            2.5814814814814815,
            2.433333333333333,
            2.4333333333333336,
            1.9555555555555557,
            2.225,
            2.253846153846154,
            2.438211382113821,
            1.95,
            1.9333333333333333,
            2.174423963133641,
            2.8,
            3.06,
            1.82,
            2.424324324324324,
            2.222448979591837,
            2.35,
            1.5833333333333333,
            2.335,
            1.9000000000000001,
            2.9540518506440567,
            3.051637666325486,
            1.8577777777777778,
            2.8546875,
            1.95,
            3.4344282452134203,
            1.6333333333333335,
            2.6374999999999997,
            1.9230769230769231,
            2.1,
            2.0333333333333337,
            2.2103448275862068,
            2.2415384615384615,
            2.485472018089316,
            2.2932735426008968,
            2.5363636363636366,
            1.7,
            2.006194690265487,
            2.3533888228299644,
            1.488888888888889,
            2.019047619047619,
            2.2,
            2.5,
            1.5,
            1.8666666666666665,
            2.2688311688311686,
            4.6,
            2.2,
            2.426041666666667,
            2.611038961038961,
            2.316744186046512,
            2.3923664122137405,
            1.8487603305785123,
            2.528524857375713,
            3.3686635944700463,
            2.0478260869565217,
            1.7333333333333334,
            2.9771572655958165,
            3.1934663341645884,
            2.0985507246376813,
            2.0710526315789473,
            2.0444827586206897,
            2.141935483870968,
            2.3,
            2.1,
            2.3824324324324326,
            2.073076923076923,
            2.0256578947368418,
            2.8333333333333335,
            1.7166666666666666,
            2.4186868686868688,
            1.55,
            3.171664943123061,
            1.9722222222222223,
            1.35,
            1.8199999999999998,
            2.2802768166089966,
            2.5174418604651163,
            1.2333333333333334,
            1.9857142857142858
           ]
          },
          {
           "coloraxis": "coloraxis",
           "geo": "geo",
           "hovertemplate": "location=%{location}<br>count=%{z}<extra></extra>",
           "locationmode": "USA-states",
           "locations": [
            "AL",
            "AK",
            "AZ",
            "AR",
            "CA",
            "CO",
            "CT",
            "DE",
            "FL",
            "GA",
            "HI",
            "ID",
            "IL",
            "IN",
            "IA",
            "KS",
            "KY",
            "LA",
            "ME",
            "MD",
            "MA",
            "MI",
            "MN",
            "MS",
            "MO",
            "MT",
            "NE",
            "NV",
            "NH",
            "NJ",
            "NM",
            "NY",
            "NC",
            "OH",
            "OK",
            "OR",
            "PA",
            "RI",
            "SC",
            "SD",
            "TN",
            "TX",
            "UT",
            "VT",
            "VA",
            "WA",
            "DC",
            "WV",
            "WI",
            "WY"
           ],
           "name": "",
           "type": "choropleth",
           "z": [
            3.165798045602606,
            3.631574923547401,
            3.256007751937984,
            3.1,
            3.5923764325743424,
            3.301731338750095,
            3.384598698481562,
            3.4133891213389123,
            3.1572211155378485,
            3.4697609783212897,
            3.203817603393425,
            3.5107244318181823,
            3.491656365883807,
            3.357466281310212,
            3.0156896551724137,
            3.339249146757679,
            3.1854724964739067,
            2.945432098765432,
            3.335693359375,
            3.3104609218436876,
            3.280745862141211,
            3.470599739243807,
            3.43630303030303,
            3.207692307692308,
            2.690581425940542,
            3.3273350471293917,
            3.3863049095607236,
            3.0848082595870205,
            3.4580920451081987,
            3.3343644544431945,
            3.2941043083900228,
            3.441584863435227,
            3.397163120567376,
            3.517346720786157,
            2.9216014897579146,
            3.5281046982393374,
            3.3472734727347273,
            3.141528239202658,
            3.153351573187414,
            3.3312500000000003,
            3.177461538461538,
            3.1758899676375405,
            3.2257589696412143,
            3.2098740440845703,
            3.2604564508616676,
            3.308829953198128,
            3.3035714285714284,
            2.9077380952380953,
            2.9909669687663847,
            3.3369426751592357
           ]
          }
         ],
         "name": "2009"
        },
        {
         "data": [
          {
           "coloraxis": "coloraxis",
           "geo": "geo",
           "hovertemplate": "location=%{location}<br>count=%{z}<extra></extra>",
           "locationmode": "country names",
           "locations": [
            "Albania",
            "Algeria",
            "Angola",
            "Antigua & Barbuda",
            "Argentina",
            "Armenia",
            "Aruba",
            "Australia",
            "Austria",
            "Azerbaijan",
            "Bahamas",
            "Bangladesh",
            "Barbados",
            "Belarus",
            "Belgium",
            "Belize",
            "Benin",
            "Bermuda",
            "Bhutan",
            "Bolivia",
            "Bosnia and Herzegovina",
            "Brazil",
            "Bulgaria",
            "Cambodia",
            "Cameroon",
            "Canada",
            "Cayman Islands",
            "Chile",
            "China",
            "Colombia",
            "Cook Islands",
            "Costa Rica",
            "Croatia",
            "Cuba",
            "Cyprus",
            "Czech Republic",
            "Dem Rep of Congo",
            "Denmark",
            "Dominica",
            "Dominican Republic",
            "Ecuador",
            "Egypt",
            "El Salvador",
            "Estonia",
            "Ethiopia",
            "Faroe Islands",
            "Fiji Islands",
            "Finland",
            "France",
            "French Polynesia",
            "Georgia",
            "Germany",
            "Ghana",
            "Gibraltar",
            "Greece",
            "Greenland",
            "Guam",
            "Guatemala",
            "Guernsey",
            "Guyana",
            "Haiti",
            "Honduras",
            "Hong Kong",
            "Hungary",
            "Iceland",
            "India",
            "Indonesia",
            "Iran",
            "Ireland",
            "Isle of Man",
            "Israel",
            "Italy",
            "Ivory Coast",
            "Jamaica",
            "Japan",
            "Jersey",
            "Jordan",
            "Kazakhstan",
            "Kenya",
            "Kosovo",
            "Laos",
            "Latvia",
            "Lebanon",
            "Liberia",
            "Liechtenstein",
            "Lithuania",
            "Luxembourg",
            "Macau",
            "Macedonia",
            "Madagascar",
            "Malaysia",
            "Malta",
            "Martinique",
            "Mauritius",
            "Mexico",
            "Moldova",
            "Monaco",
            "Mongolia",
            "Montenegro",
            "Morocco",
            "Mozambique",
            "Myanmar",
            "Namibia",
            "Nepal",
            "Netherlands",
            "New Caledonia",
            "New Zealand",
            "Nicaragua",
            "Nigeria",
            "North Korea",
            "Norway",
            "Pakistan",
            "Palestine",
            "Panama",
            "Papua New Guinea",
            "Peru",
            "Philippines",
            "Poland",
            "Portugal",
            "Puerto Rico",
            "Reunion",
            "Romania",
            "Russia",
            "Rwanda",
            "Saint Lucia",
            "Saint Vincent and The Grenadines",
            "Samoa",
            "Saudi Arabia",
            "Senegal",
            "Serbia",
            "Seychelles",
            "Singapore",
            "Slovak Republic",
            "Slovenia",
            "Solomon Islands",
            "South Africa",
            "South Korea",
            "Spain",
            "Sri Lanka",
            "Suriname",
            "Sweden",
            "Switzerland",
            "Syria",
            "Taiwan",
            "Tajikistan",
            "Tanzania",
            "Thailand",
            "Tibet",
            "Togo",
            "Trinidad & Tobago",
            "Tunisia",
            "Turkey",
            "Turkmenistan",
            "Turks and Caicos Islands",
            "Uganda",
            "Ukraine",
            "United Arab Emirates",
            "United Kingdom",
            "Uruguay",
            "Vanuatu",
            "Venezuela",
            "Vietnam",
            "Virgin Islands (U.S.)",
            "Zimbabwe"
           ],
           "name": "",
           "type": "choropleth",
           "z": [
            2.220689655172414,
            0.85,
            2.1,
            1.75,
            2.6372340425531915,
            2.1894736842105265,
            2.209090909090909,
            2.9969746083198268,
            2.9497304582210244,
            2.066666666666667,
            2.1616666666666666,
            0.7,
            2.173076923076923,
            2.274757281553398,
            3.4958936817800166,
            2.1140350877192984,
            2.1,
            3.4,
            2.525,
            2.1809523809523808,
            2.350793650793651,
            2.9220216606498193,
            2.271812080536913,
            2.4918918918918918,
            2.7,
            3.2473982086927853,
            2.125,
            2.961224489795918,
            1.8790076335877863,
            2.235632183908046,
            1.9,
            2.037864077669903,
            2.5507692307692307,
            1.9,
            2.1655172413793102,
            2.991514821865651,
            2.477777777777778,
            3.049583548739158,
            2.85,
            2,
            2.0166666666666666,
            1.8539682539682538,
            1.704310344827586,
            2.264273204903678,
            2.4375,
            2.6389312977099237,
            3.1,
            2.8703778951645673,
            2.887228317118609,
            2.0451612903225804,
            2.312,
            3.026814722066625,
            2.1,
            2.7,
            2.4410714285714286,
            2.8000000000000003,
            3.8,
            1.7000000000000002,
            2.6214285714285714,
            2.7625,
            2.123076923076923,
            1.8641304347826086,
            1.9861111111111112,
            2.4957671957671956,
            3.089802631578947,
            1.9758771929824561,
            2.145679012345679,
            1.5,
            3.211379097093383,
            3.068,
            3.03956043956044,
            3.221776581426649,
            1.7333333333333334,
            2.2783882783882783,
            3.0263875823142055,
            2.914285714285714,
            1.82972972972973,
            2.4333333333333336,
            2.1323529411764706,
            2.2642857142857142,
            2.397777777777778,
            2.5887905604719763,
            2.2051724137931035,
            1.4,
            2.8899999999999997,
            2.6037735849056602,
            2.513440860215054,
            3,
            2.0266666666666664,
            1.3333333333333333,
            2.3,
            2.415625,
            2.2399999999999998,
            1.8941176470588237,
            2.1454291695743195,
            2.0791666666666666,
            3.7,
            2.0652173913043477,
            2.5928571428571425,
            2.262,
            2.7,
            2.5,
            2.433333333333333,
            2.268421052631579,
            3.045872819667628,
            3.3,
            3.1447368421052633,
            1.9705882352941178,
            2.323913043478261,
            2.5,
            3.481336270190896,
            2.4166666666666665,
            2.3,
            1.9149999999999998,
            4.2,
            2.0046511627906978,
            1.9765151515151513,
            2.6186666666666665,
            2.3087774294670846,
            2.5942857142857143,
            2.05,
            2.19,
            2.459777227722772,
            2.857142857142857,
            1.65,
            2,
            2.6999999999999997,
            1.4142857142857141,
            1.9333333333333333,
            2.1407894736842104,
            1.9333333333333333,
            2.620879120879121,
            2.6890365448504983,
            2.3551181102362206,
            2.5,
            2.51484375,
            2.143103448275862,
            2.4804096170970613,
            3.3944444444444444,
            2.3476190476190473,
            3.115938830206527,
            3.0403413498836307,
            0.9333333333333332,
            1.9275862068965517,
            1.7,
            1.876,
            2.0926356589147286,
            2.451111111111111,
            1.65,
            2.3226666666666667,
            2.155263157894737,
            2.2196172248803827,
            2.8,
            2.875,
            2.05,
            2.4504950495049505,
            1.46,
            3.2074832600229737,
            2.11304347826087,
            3.6,
            1.6625,
            1.8879432624113475,
            2.7583333333333333,
            2.56
           ]
          },
          {
           "coloraxis": "coloraxis",
           "geo": "geo",
           "hovertemplate": "location=%{location}<br>count=%{z}<extra></extra>",
           "locationmode": "USA-states",
           "locations": [
            "AL",
            "AK",
            "AZ",
            "AR",
            "CA",
            "CO",
            "CT",
            "DE",
            "FL",
            "GA",
            "HI",
            "ID",
            "IL",
            "IN",
            "IA",
            "KS",
            "KY",
            "LA",
            "ME",
            "MD",
            "MA",
            "MI",
            "MN",
            "MS",
            "MO",
            "MT",
            "NE",
            "NV",
            "NH",
            "NJ",
            "NM",
            "NY",
            "NC",
            "OH",
            "OK",
            "OR",
            "PA",
            "RI",
            "SC",
            "SD",
            "TN",
            "TX",
            "UT",
            "VT",
            "VA",
            "WA",
            "DC",
            "WV",
            "WI",
            "WY"
           ],
           "name": "",
           "type": "choropleth",
           "z": [
            3.3491620111731844,
            3.642620232172471,
            3.250099403578529,
            3.1330827067669174,
            3.615808297567954,
            3.3395643828757406,
            3.427568922305764,
            3.4129526462395545,
            3.2542505592841167,
            3.519307556229467,
            3.309950248756219,
            3.491341256366723,
            3.597181713911191,
            3.3789890981169477,
            3.1561576354679803,
            3.333873873873874,
            3.3285511363636364,
            3.031444533120511,
            3.414529639175258,
            3.4479900832300334,
            3.3433320220298977,
            3.4863850379283288,
            3.477377300613497,
            3.1526717557251906,
            2.8507320394960844,
            3.3291975724881993,
            3.491992551210428,
            3.0931906614785993,
            3.4717283479587944,
            3.3813926940639267,
            3.398420221169036,
            3.477714739589243,
            3.4367561583171877,
            3.5291516053582814,
            3.087360594795539,
            3.5415796109510085,
            3.3704863669859986,
            3,
            3.3651465798045606,
            3.107142857142857,
            3.3286764705882352,
            3.2824353920280336,
            3.4395845030881524,
            3.2765709852598914,
            3.3050108932461875,
            3.346787244169443,
            3.2285714285714286,
            3.030263157894737,
            3.064454303460515,
            3.262179487179487
           ]
          }
         ],
         "name": "2010"
        },
        {
         "data": [
          {
           "coloraxis": "coloraxis",
           "geo": "geo",
           "hovertemplate": "location=%{location}<br>count=%{z}<extra></extra>",
           "locationmode": "country names",
           "locations": [
            "Albania",
            "Andorra",
            "Angola",
            "Antigua & Barbuda",
            "Argentina",
            "Armenia",
            "Aruba",
            "Australia",
            "Austria",
            "Azerbaijan",
            "Bahamas",
            "Barbados",
            "Belarus",
            "Belgium",
            "Belize",
            "Benin",
            "Bermuda",
            "Bhutan",
            "Bolivia",
            "Bosnia and Herzegovina",
            "Botswana",
            "Brazil",
            "Bulgaria",
            "Burkina Faso",
            "Cambodia",
            "Cameroon",
            "Canada",
            "Cape Verde Islands",
            "Cayman Islands",
            "Central African Republic",
            "Chile",
            "China",
            "Colombia",
            "Congo",
            "Cook Islands",
            "Costa Rica",
            "Croatia",
            "Cuba",
            "Cyprus",
            "Czech Republic",
            "Dem Rep of Congo",
            "Denmark",
            "Dominica",
            "Dominican Republic",
            "Ecuador",
            "Egypt",
            "El Salvador",
            "Estonia",
            "Ethiopia",
            "Faroe Islands",
            "Fiji Islands",
            "Finland",
            "France",
            "French Polynesia",
            "Gambia",
            "Georgia",
            "Germany",
            "Ghana",
            "Gibraltar",
            "Greece",
            "Greenland",
            "Guam",
            "Guatemala",
            "Guernsey",
            "Guinea",
            "Guyana",
            "Haiti",
            "Honduras",
            "Hong Kong",
            "Hungary",
            "Iceland",
            "India",
            "Indonesia",
            "Iran",
            "Iraq",
            "Ireland",
            "Isle of Man",
            "Israel",
            "Italy",
            "Jamaica",
            "Japan",
            "Jersey",
            "Jordan",
            "Kazakhstan",
            "Kenya",
            "Kosovo",
            "Kyrgyzstan",
            "Laos",
            "Latvia",
            "Lebanon",
            "Lesotho",
            "Liberia",
            "Liechtenstein",
            "Lithuania",
            "Luxembourg",
            "Macedonia",
            "Madagascar",
            "Malawi",
            "Malaysia",
            "Mali",
            "Malta",
            "Martinique",
            "Mauritius",
            "Mayotte",
            "Mexico",
            "Moldova",
            "Mongolia",
            "Montenegro",
            "Morocco",
            "Mozambique",
            "Myanmar",
            "Namibia",
            "Nepal",
            "Netherlands",
            "New Zealand",
            "Nicaragua",
            "Niger",
            "Nigeria",
            "North Korea",
            "Norway",
            "Pakistan",
            "Palau",
            "Palestine",
            "Panama",
            "Papua New Guinea",
            "Peru",
            "Philippines",
            "Poland",
            "Portugal",
            "Puerto Rico",
            "Reunion",
            "Romania",
            "Russia",
            "Saint Lucia",
            "Saint Vincent and The Grenadines",
            "Samoa",
            "Saudi Arabia",
            "Senegal",
            "Serbia",
            "Seychelles",
            "Sierra Leone",
            "Singapore",
            "Slovak Republic",
            "Slovenia",
            "Solomon Islands",
            "South Africa",
            "South Korea",
            "South Sudan",
            "Spain",
            "Sri Lanka",
            "Suriname",
            "Sweden",
            "Switzerland",
            "Syria",
            "Taiwan",
            "Tanzania",
            "Thailand",
            "Tibet",
            "Togo",
            "Trinidad & Tobago",
            "Tunisia",
            "Turkey",
            "Turks and Caicos Islands",
            "Uganda",
            "Ukraine",
            "United Arab Emirates",
            "United Kingdom",
            "Uruguay",
            "Uzbekistan",
            "Venezuela",
            "Vietnam",
            "Virgin Islands (U.S.)",
            "Zimbabwe"
           ],
           "name": "",
           "type": "choropleth",
           "z": [
            2.3594594594594596,
            3.15,
            1.475,
            1.9888888888888887,
            2.626235741444867,
            2.246153846153846,
            2.33125,
            3.0817727146429563,
            2.9049247049247047,
            2.4,
            2.1526315789473687,
            2.092857142857143,
            2.322314049586777,
            3.4847773890375247,
            2.690625,
            1.8,
            3.625,
            1.88125,
            2.04,
            2.3278481012658228,
            2,
            2.8000000000000003,
            2.3662068965517244,
            2.15,
            2.617021276595745,
            2.216666666666667,
            3.221737265926526,
            1.9909090909090907,
            2.390909090909091,
            2,
            2.749242424242424,
            1.980860534124629,
            1.8428571428571427,
            1.2,
            1.6363636363636365,
            2.1398809523809526,
            2.4046109510086455,
            1.8784615384615384,
            2.139655172413793,
            3.008825204023534,
            2.4166666666666665,
            3.143515350577072,
            1.5,
            2.0372881355932204,
            1.8,
            2.05,
            1.9547169811320757,
            2.369551282051282,
            2.322093023255814,
            2.6033175355450235,
            2.0272727272727273,
            2.8933482571154463,
            2.9346613545816735,
            1.9972222222222225,
            2,
            2.0090909090909093,
            2.9875413705518636,
            2.2961538461538464,
            1.9666666666666668,
            2.4411764705882355,
            2.621917808219178,
            3.7,
            1.9115942028985509,
            2.3,
            2.7,
            1.775,
            1.66875,
            2.1704545454545454,
            2.084,
            2.5065,
            2.9326315789473685,
            2.124774774774775,
            2.4339622641509435,
            1.6833333333333333,
            3.05,
            3.2046317739694303,
            3.136764705882353,
            2.86441717791411,
            3.26902830910482,
            2.430212765957447,
            3.032719742291763,
            3.039285714285714,
            1.7210526315789476,
            1.8294117647058825,
            2.3262626262626265,
            1.9,
            2.625,
            2.3209302325581396,
            2.621705426356589,
            2.6939130434782608,
            1.825,
            1.85,
            2.5972602739726027,
            2.375887573964497,
            2.583422459893048,
            1.8533333333333333,
            2.45,
            1.875,
            2.465625,
            1.25,
            2.5803030303030305,
            2.4,
            1.7542857142857142,
            2,
            2.238227513227513,
            2.094871794871795,
            2.0500000000000003,
            2.375,
            2.1315789473684212,
            2.1577777777777776,
            2.225,
            2.436986301369863,
            2.8473684210526318,
            3.1044977214186646,
            3.3726883255980007,
            1.603846153846154,
            1.5444444444444445,
            2.715151515151515,
            2.84,
            3.380928931169558,
            2.2733333333333334,
            3.4,
            2.472,
            1.5125,
            2,
            2.2170542635658914,
            2.0854545454545454,
            2.6645869439630268,
            2.378975741239892,
            2.6888888888888887,
            2.2199999999999998,
            2.1958333333333333,
            2.457962962962963,
            2.2555555555555555,
            1.6,
            2.8,
            1.41875,
            1.7214285714285715,
            2.345531914893617,
            1.78,
            1,
            2.5593023255813954,
            2.78718487394958,
            2.294,
            5,
            3,
            2.045098039215686,
            1.71875,
            2.607768115942029,
            3.2082278481012656,
            1.9133333333333333,
            3.1147528264242963,
            3.1290892193308553,
            1.175,
            2.541025641025641,
            1.8287878787878789,
            2.0964285714285715,
            2.0250000000000004,
            2.25625,
            2.28125,
            1.9590909090909092,
            2.108031088082902,
            2.4833333333333334,
            2.0973684210526318,
            2.267069486404834,
            1.2166666666666666,
            3.207809106141785,
            2.0136363636363637,
            0.9,
            1.768,
            1.8720779220779222,
            2.8504950495049504,
            2.1045454545454545
           ]
          },
          {
           "coloraxis": "coloraxis",
           "geo": "geo",
           "hovertemplate": "location=%{location}<br>count=%{z}<extra></extra>",
           "locationmode": "USA-states",
           "locations": [
            "AL",
            "AK",
            "AZ",
            "AR",
            "CA",
            "CO",
            "CT",
            "DE",
            "FL",
            "GA",
            "HI",
            "ID",
            "IL",
            "IN",
            "IA",
            "KS",
            "KY",
            "LA",
            "ME",
            "MD",
            "MA",
            "MI",
            "MN",
            "MS",
            "MO",
            "MT",
            "NE",
            "NV",
            "NH",
            "NJ",
            "NM",
            "NY",
            "NC",
            "ND",
            "OH",
            "OK",
            "OR",
            "PA",
            "RI",
            "SC",
            "SD",
            "TN",
            "TX",
            "UT",
            "VT",
            "VA",
            "WA",
            "DC",
            "WV",
            "WI",
            "WY"
           ],
           "name": "",
           "type": "choropleth",
           "z": [
            3.292881355932203,
            3.640596627756161,
            3.307535885167464,
            2.9944,
            3.602398738379814,
            3.3208413273644566,
            3.304302477183833,
            3.254180602006689,
            3.212285714285714,
            3.501343624928531,
            3.3449928469241774,
            3.5460329341317367,
            3.5570311446676555,
            3.445121293800539,
            3.2368852459016395,
            3.3138728323699422,
            3.323836389280677,
            2.9896999188969993,
            3.4072129408644924,
            3.4623276104700254,
            3.4075171962004585,
            3.4675294117647057,
            3.4984562066792693,
            3.277952755905512,
            2.9687308608370193,
            3.353089430894309,
            3.4682864450127875,
            3.0867069486404834,
            3.440135512156237,
            3.3336801752464402,
            3.338086062941554,
            3.4830031166518256,
            3.407651126477805,
            3.2625,
            3.5199740034662046,
            3.1939550949913644,
            3.5010826486225226,
            3.3396786009689237,
            3.11986143187067,
            3.3484491978609627,
            3.183695652173913,
            3.3006554307116103,
            3.2849770870691373,
            3.492279855247286,
            3.4894089129218724,
            3.285898024804777,
            3.338261188554659,
            3.3463636363636367,
            2.9614864864864865,
            3.0540752923976613,
            3.375
           ]
          }
         ],
         "name": "2011"
        },
        {
         "data": [
          {
           "coloraxis": "coloraxis",
           "geo": "geo",
           "hovertemplate": "location=%{location}<br>count=%{z}<extra></extra>",
           "locationmode": "country names",
           "locations": [
            "Albania",
            "Algeria",
            "Andorra",
            "Angola",
            "Antigua & Barbuda",
            "Argentina",
            "Armenia",
            "Aruba",
            "Australia",
            "Austria",
            "Azerbaijan",
            "Bahamas",
            "Barbados",
            "Belarus",
            "Belgium",
            "Belize",
            "Benin",
            "Bermuda",
            "Bhutan",
            "Bolivia",
            "Bosnia and Herzegovina",
            "Botswana",
            "Brazil",
            "Bulgaria",
            "Burundi",
            "Cambodia",
            "Cameroon",
            "Canada",
            "Cape Verde Islands",
            "Cayman Islands",
            "Chad",
            "Chile",
            "China",
            "Colombia",
            "Cook Islands",
            "Costa Rica",
            "Croatia",
            "Cuba",
            "Cyprus",
            "Czech Republic",
            "Dem Rep of Congo",
            "Denmark",
            "Dominica",
            "Dominican Republic",
            "Ecuador",
            "Egypt",
            "El Salvador",
            "Eritrea",
            "Estonia",
            "Ethiopia",
            "Faroe Islands",
            "Fiji Islands",
            "Finland",
            "France",
            "French Polynesia",
            "Gabon",
            "Gambia",
            "Georgia",
            "Germany",
            "Ghana",
            "Greece",
            "Greenland",
            "Guam",
            "Guatemala",
            "Guernsey",
            "Guinea",
            "Guinea-Bissau",
            "Guyana",
            "Haiti",
            "Honduras",
            "Hong Kong",
            "Hungary",
            "Iceland",
            "India",
            "Indonesia",
            "Iran",
            "Iraq",
            "Ireland",
            "Isle of Man",
            "Israel",
            "Italy",
            "Ivory Coast",
            "Jamaica",
            "Japan",
            "Jersey",
            "Jordan",
            "Kazakhstan",
            "Kenya",
            "Kosovo",
            "Kyrgyzstan",
            "Laos",
            "Latvia",
            "Lebanon",
            "Lesotho",
            "Liberia",
            "Liechtenstein",
            "Lithuania",
            "Luxembourg",
            "Macau",
            "Macedonia",
            "Madagascar",
            "Malawi",
            "Malaysia",
            "Mali",
            "Malta",
            "Martinique",
            "Mauritius",
            "Mexico",
            "Moldova",
            "Monaco",
            "Mongolia",
            "Montenegro",
            "Morocco",
            "Mozambique",
            "Myanmar",
            "Namibia",
            "Nepal",
            "Netherlands",
            "New Zealand",
            "Nicaragua",
            "Niger",
            "Nigeria",
            "North Korea",
            "Norway",
            "Pakistan",
            "Palestine",
            "Panama",
            "Papua New Guinea",
            "Paraguay",
            "Peru",
            "Philippines",
            "Poland",
            "Portugal",
            "Puerto Rico",
            "Reunion",
            "Romania",
            "Russia",
            "Rwanda",
            "Saint Lucia",
            "Saint Vincent and The Grenadines",
            "Samoa",
            "San Marino",
            "Saudi Arabia",
            "Senegal",
            "Serbia",
            "Seychelles",
            "Sierra Leone",
            "Singapore",
            "Slovak Republic",
            "Slovenia",
            "South Africa",
            "South Korea",
            "South Sudan",
            "Spain",
            "Sri Lanka",
            "Suriname",
            "Swaziland",
            "Sweden",
            "Switzerland",
            "Syria",
            "Taiwan",
            "Tanzania",
            "Thailand",
            "Tibet",
            "Togo",
            "Transdniestra",
            "Trinidad & Tobago",
            "Tunisia",
            "Turkey",
            "Turks and Caicos Islands",
            "Uganda",
            "Ukraine",
            "United Arab Emirates",
            "United Kingdom",
            "Uruguay",
            "Uzbekistan",
            "Vanuatu",
            "Venezuela",
            "Vietnam",
            "Virgin Islands (U.S.)",
            "Zambia",
            "Zimbabwe"
           ],
           "name": "",
           "type": "choropleth",
           "z": [
            1.971186440677966,
            1.5,
            2.453846153846154,
            1.8499999999999999,
            1.775,
            2.6008982035928145,
            2.0387596899224807,
            1.9476190476190476,
            3.113063625022278,
            2.9713280293757647,
            1.5,
            2.0488372093023255,
            2.362857142857143,
            2.3509090909090906,
            3.520745116722249,
            2.529166666666667,
            1.7285714285714284,
            3.175,
            1.6,
            2.25,
            2.2106382978723405,
            1.9,
            2.883225108225108,
            2.2228070175438597,
            1.8416666666666668,
            2.363716814159292,
            1.8529411764705883,
            3.2911185334193647,
            1.9375,
            2.7083333333333335,
            1.25,
            2.9872093023255815,
            2.1073463268365815,
            2.264473684210526,
            0.75,
            2.175352112676056,
            2.37,
            1.9401785714285715,
            2.237313432835821,
            3.0209481361426254,
            2.361904761904762,
            3.180731105441466,
            2.075,
            2.032911392405063,
            2.1523809523809527,
            1.804938271604938,
            2.1280487804878048,
            2.375,
            2.287796976241901,
            2.4123595505617974,
            2.650187265917603,
            2.4727272727272727,
            2.8384163533834585,
            2.9643074581430744,
            2.126666666666667,
            1.7333333333333334,
            2.0875,
            1.896774193548387,
            3.014738473295406,
            2.1724137931034484,
            2.5939506172839506,
            2.8124223602484473,
            3.1333333333333333,
            1.9946564885496183,
            2.1863636363636365,
            1.2,
            1.375,
            1.4,
            1.9904761904761903,
            1.9882352941176469,
            2.057142857142857,
            2.7052513966480447,
            3.236340533672173,
            2.1542699724517904,
            2.2294117647058824,
            1.7208333333333332,
            1.9333333333333333,
            3.258189977561705,
            3.158333333333333,
            2.9068669527896995,
            3.319640578477244,
            2.1166666666666667,
            2.3256666666666668,
            3.041520672740014,
            3.0064516129032257,
            1.962962962962963,
            1.8,
            2.117032967032967,
            2.2119999999999997,
            1.8,
            2.3289855072463768,
            2.6495774647887322,
            2.7314814814814814,
            1.5,
            1.8,
            2.546376811594203,
            2.740940106141016,
            2.533860759493671,
            2.56,
            2.252083333333333,
            2.63,
            1.6857142857142857,
            2.383870967741936,
            0.7,
            2.318518518518519,
            2.433333333333333,
            1.9337837837837837,
            2.302553830746119,
            2.092,
            2.923076923076923,
            2.275,
            2.470422535211268,
            2.298717948717949,
            2.6999999999999997,
            1.9708333333333334,
            2.472727272727273,
            2.4233333333333333,
            3.177692947312722,
            3.4076326914044155,
            1.8727272727272728,
            1.0799999999999998,
            2.5791666666666666,
            1.9583333333333333,
            3.4160536731344724,
            2.46,
            2.5047619047619047,
            2.5868421052631576,
            2.5,
            3.2,
            2.2284210526315786,
            2.2156626506024097,
            2.5990684342529558,
            2.3291237113402063,
            2.5784615384615384,
            1.8,
            2.442123287671233,
            2.483438914027149,
            1.3,
            2.0153846153846153,
            1.2,
            2.1666666666666665,
            3.1888888888888887,
            1.4133333333333333,
            1.9066666666666667,
            2.181578947368421,
            2,
            4.2,
            2.4723684210526318,
            2.77158371040724,
            2.28546511627907,
            2.813761467889908,
            2.0706467661691543,
            2.05,
            2.884532204983545,
            3.2640776699029126,
            2.0368421052631582,
            1.6,
            3.1227097705759665,
            3.166791219056516,
            1.6666666666666667,
            2.223684210526316,
            1.8870967741935485,
            2.164035087719298,
            2.0105263157894737,
            2.0105263157894737,
            1.75625,
            2.4415999999999998,
            1.7750000000000001,
            2.2431603773584907,
            3.1666666666666665,
            2.018181818181818,
            2.405226960110041,
            1.169230769230769,
            3.2584054266614233,
            2.095833333333333,
            2.4,
            1.8666666666666665,
            2.2795454545454543,
            2.037037037037037,
            2.8349206349206346,
            1.7666666666666666,
            1.95
           ]
          },
          {
           "coloraxis": "coloraxis",
           "geo": "geo",
           "hovertemplate": "location=%{location}<br>count=%{z}<extra></extra>",
           "locationmode": "USA-states",
           "locations": [
            "AL",
            "AK",
            "AZ",
            "AR",
            "CA",
            "CO",
            "CT",
            "DE",
            "FL",
            "GA",
            "HI",
            "ID",
            "IL",
            "IN",
            "IA",
            "KS",
            "KY",
            "LA",
            "ME",
            "MD",
            "MA",
            "MI",
            "MN",
            "MS",
            "MO",
            "MT",
            "NE",
            "NV",
            "NH",
            "NJ",
            "NM",
            "NY",
            "NC",
            "ND",
            "OH",
            "OK",
            "OR",
            "PA",
            "RI",
            "SC",
            "SD",
            "TN",
            "TX",
            "UT",
            "VT",
            "VA",
            "WA",
            "DC",
            "WV",
            "WI",
            "WY"
           ],
           "name": "",
           "type": "choropleth",
           "z": [
            3.3231060606060603,
            3.666069295101553,
            3.3552238805970145,
            3.1341463414634148,
            3.626984876112839,
            3.328406976744186,
            3.4002398081534775,
            3.243176470588235,
            3.2954834392773504,
            3.518867445403758,
            3.2922020867655135,
            3.500303766707169,
            3.603542808941375,
            3.409551325628824,
            3.3116615067079462,
            3.4069403714565007,
            3.3438538205980066,
            3.010210444271239,
            3.4410902333264506,
            3.470475365189403,
            3.457195233730522,
            3.485708008348896,
            3.463054945054945,
            3.3160305343511447,
            2.930249433106576,
            3.315445665445665,
            3.3763832658569504,
            3.1997214484679666,
            3.456488888888889,
            3.352837916910474,
            3.4885477178423234,
            3.496183037684229,
            3.393732135565537,
            3.3684210526315788,
            3.5751946607341494,
            3.242060810810811,
            3.497820614255916,
            3.336811282419027,
            3.093220338983051,
            3.4468920392584517,
            3.1481481481481484,
            3.2515151515151515,
            3.395442038521354,
            3.5096605196982393,
            3.604567627494457,
            3.431233896364157,
            3.369757942511346,
            3.511575562700964,
            3.1820754716981132,
            3.0944980189878146,
            3.3244827586206895
           ]
          }
         ],
         "name": "2012"
        },
        {
         "data": [
          {
           "coloraxis": "coloraxis",
           "geo": "geo",
           "hovertemplate": "location=%{location}<br>count=%{z}<extra></extra>",
           "locationmode": "country names",
           "locations": [
            "Albania",
            "Andorra",
            "Angola",
            "Antigua & Barbuda",
            "Argentina",
            "Armenia",
            "Aruba",
            "Australia",
            "Austria",
            "Azerbaijan",
            "Bahamas",
            "Barbados",
            "Belarus",
            "Belgium",
            "Belize",
            "Benin",
            "Bermuda",
            "Bolivia",
            "Bosnia and Herzegovina",
            "Botswana",
            "Brazil",
            "Bulgaria",
            "Burkina Faso",
            "Burundi",
            "Cambodia",
            "Cameroon",
            "Canada",
            "Cape Verde Islands",
            "Cayman Islands",
            "Chile",
            "China",
            "Colombia",
            "Congo",
            "Cook Islands",
            "Costa Rica",
            "Croatia",
            "Cuba",
            "Cyprus",
            "Czech Republic",
            "Dem Rep of Congo",
            "Denmark",
            "Dominica",
            "Dominican Republic",
            "Ecuador",
            "Egypt",
            "El Salvador",
            "Eritrea",
            "Estonia",
            "Ethiopia",
            "Faroe Islands",
            "Fiji Islands",
            "Finland",
            "France",
            "French Polynesia",
            "Gabon",
            "Gambia",
            "Georgia",
            "Germany",
            "Ghana",
            "Gibraltar",
            "Greece",
            "Greenland",
            "Guatemala",
            "Guernsey",
            "Guyana",
            "Haiti",
            "Honduras",
            "Hong Kong",
            "Hungary",
            "Iceland",
            "India",
            "Indonesia",
            "Iran",
            "Iraq",
            "Ireland",
            "Isle of Man",
            "Israel",
            "Italy",
            "Ivory Coast",
            "Jamaica",
            "Japan",
            "Jersey",
            "Jordan",
            "Kazakhstan",
            "Kenya",
            "Kosovo",
            "Kyrgyzstan",
            "Laos",
            "Latvia",
            "Lebanon",
            "Lesotho",
            "Liechtenstein",
            "Lithuania",
            "Luxembourg",
            "Macau",
            "Macedonia",
            "Madagascar",
            "Malawi",
            "Malaysia",
            "Mali",
            "Malta",
            "Martinique",
            "Mauritius",
            "Mexico",
            "Moldova",
            "Monaco",
            "Mongolia",
            "Montenegro",
            "Morocco",
            "Mozambique",
            "Myanmar",
            "Namibia",
            "Nepal",
            "Netherlands",
            "New Caledonia",
            "New Zealand",
            "Nicaragua",
            "Nigeria",
            "North Korea",
            "Norway",
            "Pakistan",
            "Palau",
            "Palestine",
            "Panama",
            "Papua New Guinea",
            "Paraguay",
            "Peru",
            "Philippines",
            "Poland",
            "Portugal",
            "Puerto Rico",
            "Reunion",
            "Romania",
            "Russia",
            "Rwanda",
            "Saint Lucia",
            "Saint Vincent and The Grenadines",
            "Samoa",
            "San Marino",
            "Saudi Arabia",
            "Senegal",
            "Serbia",
            "Seychelles",
            "Singapore",
            "Slovak Republic",
            "Slovenia",
            "Solomon Islands",
            "South Africa",
            "South Korea",
            "Spain",
            "Sri Lanka",
            "Suriname",
            "Swaziland",
            "Sweden",
            "Switzerland",
            "Syria",
            "Taiwan",
            "Tanzania",
            "Thailand",
            "Tibet",
            "Togo",
            "Transdniestra",
            "Trinidad & Tobago",
            "Tunisia",
            "Turkey",
            "Turks and Caicos Islands",
            "Uganda",
            "Ukraine",
            "United Arab Emirates",
            "United Kingdom",
            "Uruguay",
            "Uzbekistan",
            "Vanuatu",
            "Venezuela",
            "Vietnam",
            "Virgin Islands (U.S.)",
            "Zambia",
            "Zimbabwe"
           ],
           "name": "",
           "type": "choropleth",
           "z": [
            2.0350877192982457,
            2.4833333333333334,
            1.8714285714285712,
            1.9454545454545453,
            2.628260869565217,
            2.145098039215686,
            1.7909090909090908,
            3.2111781076066794,
            3.073154555940023,
            1.8199999999999998,
            2.3657142857142857,
            2.4095652173913047,
            2.4836065573770494,
            3.5143509994739612,
            2.4523809523809526,
            1.9000000000000001,
            3.3200000000000003,
            2.1433962264150943,
            2.308080808080808,
            1.3666666666666665,
            3.0416618580496246,
            2.3372641509433962,
            1.575,
            0.6,
            2.480722891566265,
            1.9625,
            3.3337714406294277,
            2.2083333333333335,
            2.5833333333333335,
            3.0111876075731496,
            2.4223363286264443,
            2.1870967741935483,
            1.4,
            2.55625,
            2.1402877697841727,
            2.3759197324414716,
            2.0242424242424244,
            2.4636942675159235,
            3.0462962962962963,
            2.15,
            3.228146973946267,
            1.775,
            1.9077669902912622,
            2.224590163934426,
            2.0380434782608696,
            2.0705128205128207,
            1.592857142857143,
            2.4913705583756345,
            2.0836956521739127,
            2.684102564102564,
            2.2413793103448274,
            2.914034807600191,
            2.9967817285232288,
            2.204878048780488,
            1.7000000000000002,
            1.9,
            2.0813186813186815,
            3.0796505722218463,
            1.8473684210526315,
            2.8499999999999996,
            2.6429599177800616,
            2.6390804597701147,
            1.9452054794520548,
            2.276923076923077,
            1.9,
            1.718181818181818,
            1.992,
            2.0157894736842104,
            2.817402597402597,
            3.244314558979809,
            2.111260053619303,
            2.1376237623762377,
            1.4375,
            1.95,
            3.222986778846154,
            3.0223300970873788,
            2.996218020022247,
            3.321890166028097,
            2.466666666666667,
            2.493795620437956,
            3.128979330918389,
            2.847540983606557,
            1.9136363636363638,
            2.2454545454545456,
            2.2472972972972975,
            2.2454545454545456,
            3.4,
            2.3333333333333335,
            2.687962962962963,
            2.613765182186235,
            2.45,
            2.7147058823529413,
            2.6782683982683984,
            2.5443396226415094,
            2.7,
            2.268181818181818,
            1.7449999999999999,
            1.975,
            2.661818181818182,
            1.1,
            2.3438016528925623,
            1.8375,
            2.222,
            2.4082398619499568,
            2.507920792079208,
            2.9962962962962965,
            2.1160714285714284,
            2.480232558139535,
            2.101492537313433,
            1.7625,
            2.0170731707317073,
            2.6808383233532935,
            2.1577777777777776,
            3.222465426325739,
            2.1666666666666665,
            3.433892235064301,
            1.6722222222222223,
            2.7555555555555555,
            2.44,
            3.426549855223105,
            2.0625,
            3.1999999999999997,
            2.2333333333333334,
            1.8235294117647058,
            1.85,
            2.2333333333333334,
            2.217391304347826,
            2.089029535864979,
            2.8453206435531384,
            2.5337645536869338,
            2.4794117647058824,
            2.4285714285714284,
            2.126345609065156,
            2.3983231707317074,
            1.7081081081081082,
            1.83125,
            2.13,
            2.22,
            2.783333333333333,
            1.05,
            1.675,
            2.1225352112676057,
            2.3,
            2.625132275132275,
            2.94860088365243,
            2.4409313725490196,
            1.9,
            2.8760757314974184,
            2.089711934156379,
            3.073581153434297,
            3.0598425196850396,
            1.9911764705882353,
            2.9,
            3.1941363692006366,
            3.2405435591958303,
            1.9000000000000001,
            2.208955223880597,
            2.138983050847458,
            2.026993865030675,
            2.115789473684211,
            2.1470588235294117,
            2.125,
            2.384375,
            1.7875,
            2.2685096153846156,
            2.264705882352941,
            1.8311688311688312,
            2.3879464285714285,
            1.1857142857142857,
            3.2767851113015922,
            2.169230769230769,
            2.3,
            1.7083333333333333,
            2.0881578947368418,
            2.2634328358208955,
            2.7129870129870133,
            2.066666666666667,
            1.95
           ]
          },
          {
           "coloraxis": "coloraxis",
           "geo": "geo",
           "hovertemplate": "location=%{location}<br>count=%{z}<extra></extra>",
           "locationmode": "USA-states",
           "locations": [
            "AL",
            "AK",
            "AZ",
            "AR",
            "CA",
            "CO",
            "CT",
            "DE",
            "FL",
            "GA",
            "HI",
            "ID",
            "IL",
            "IN",
            "IA",
            "KS",
            "KY",
            "LA",
            "ME",
            "MD",
            "MA",
            "MI",
            "MN",
            "MS",
            "MO",
            "MT",
            "NE",
            "NV",
            "NH",
            "NJ",
            "NM",
            "NY",
            "NC",
            "ND",
            "OH",
            "OK",
            "OR",
            "PA",
            "RI",
            "SC",
            "SD",
            "TN",
            "TX",
            "UT",
            "VT",
            "VA",
            "WA",
            "DC",
            "WV",
            "WI",
            "WY"
           ],
           "name": "",
           "type": "choropleth",
           "z": [
            3.3247011952191237,
            3.6572773742265268,
            3.5141509433962264,
            3.2089655172413796,
            3.623814506118106,
            3.342047101449275,
            3.432038173142468,
            3.270760233918129,
            3.4465054275376117,
            3.510655737704918,
            3.25322434150772,
            3.4659010600706717,
            3.600847635726795,
            3.4052902875746067,
            3.3570909090909087,
            3.446962769431744,
            3.359865470852018,
            3.0803168799512495,
            3.5255567840783444,
            3.4598359747312424,
            3.5096567649837302,
            3.492439268492403,
            3.471220065183506,
            3.2986577181208054,
            3.127022954887884,
            3.3179782903663497,
            3.3511658031088083,
            3.2838084378563286,
            3.5039810426540288,
            3.401135407905803,
            3.488760585065435,
            3.510875998216385,
            3.4029556650246304,
            3.1705882352941175,
            3.5868653551655085,
            3.68765015015015,
            3.508417092811379,
            3.354323488644845,
            3.0428057553956833,
            3.5769253820797124,
            3.0238095238095237,
            3.2535541195476574,
            3.3964980956411344,
            3.5346986417657047,
            3.6404975530179446,
            3.3751466127401413,
            3.367183137911781,
            3.528813559322034,
            3.240952380952381,
            3.129037921348315,
            3.344415584415584
           ]
          }
         ],
         "name": "2013"
        },
        {
         "data": [
          {
           "coloraxis": "coloraxis",
           "geo": "geo",
           "hovertemplate": "location=%{location}<br>count=%{z}<extra></extra>",
           "locationmode": "country names",
           "locations": [
            "Abkhazia",
            "Albania",
            "Algeria",
            "Andorra",
            "Angola",
            "Antigua & Barbuda",
            "Argentina",
            "Armenia",
            "Aruba",
            "Australia",
            "Austria",
            "Azerbaijan",
            "Bahamas",
            "Bangladesh",
            "Barbados",
            "Belarus",
            "Belgium",
            "Belize",
            "Benin",
            "Bermuda",
            "Bolivia",
            "Bosnia and Herzegovina",
            "Botswana",
            "Brazil",
            "Bulgaria",
            "Burkina Faso",
            "Cambodia",
            "Cameroon",
            "Canada",
            "Cape Verde Islands",
            "Cayman Islands",
            "Central African Republic",
            "Chad",
            "Chile",
            "China",
            "Colombia",
            "Cook Islands",
            "Costa Rica",
            "Croatia",
            "Cuba",
            "Cyprus",
            "Czech Republic",
            "Dem Rep of Congo",
            "Denmark",
            "Dominica",
            "Dominican Republic",
            "East Timor",
            "Ecuador",
            "Egypt",
            "El Salvador",
            "Eritrea",
            "Estonia",
            "Ethiopia",
            "Faroe Islands",
            "Fiji Islands",
            "Finland",
            "France",
            "French Guiana",
            "French Polynesia",
            "Gabon",
            "Gambia",
            "Georgia",
            "Germany",
            "Ghana",
            "Gibraltar",
            "Greece",
            "Greenland",
            "Guam",
            "Guatemala",
            "Guernsey",
            "Guyana",
            "Haiti",
            "Honduras",
            "Hong Kong",
            "Hungary",
            "Iceland",
            "India",
            "Indonesia",
            "Iran",
            "Iraq",
            "Ireland",
            "Isle of Man",
            "Israel",
            "Italy",
            "Ivory Coast",
            "Jamaica",
            "Japan",
            "Jersey",
            "Jordan",
            "Kazakhstan",
            "Kenya",
            "Kosovo",
            "Kyrgyzstan",
            "Laos",
            "Latvia",
            "Lebanon",
            "Lesotho",
            "Liechtenstein",
            "Lithuania",
            "Luxembourg",
            "Macau",
            "Macedonia",
            "Madagascar",
            "Malawi",
            "Malaysia",
            "Malta",
            "Martinique",
            "Mauritius",
            "Mexico",
            "Moldova",
            "Monaco",
            "Mongolia",
            "Montenegro",
            "Morocco",
            "Mozambique",
            "Myanmar",
            "Namibia",
            "Nepal",
            "Netherlands",
            "New Caledonia",
            "New Zealand",
            "Nicaragua",
            "Niger",
            "Nigeria",
            "North Korea",
            "Norway",
            "Pakistan",
            "Palestine",
            "Panama",
            "Papua New Guinea",
            "Paraguay",
            "Peru",
            "Philippines",
            "Poland",
            "Portugal",
            "Puerto Rico",
            "Reunion",
            "Romania",
            "Russia",
            "Rwanda",
            "Saint Lucia",
            "Saint Vincent and The Grenadines",
            "Samoa",
            "San Marino",
            "Saudi Arabia",
            "Senegal",
            "Serbia",
            "Seychelles",
            "Singapore",
            "Slovak Republic",
            "Slovenia",
            "Solomon Islands",
            "South Africa",
            "South Korea",
            "South Sudan",
            "Spain",
            "Sri Lanka",
            "Suriname",
            "Swaziland",
            "Sweden",
            "Switzerland",
            "Syria",
            "Taiwan",
            "Tanzania",
            "Thailand",
            "Tibet",
            "Togo",
            "Tonga",
            "Transdniestra",
            "Trinidad & Tobago",
            "Tunisia",
            "Turkey",
            "Turkmenistan",
            "Turks and Caicos Islands",
            "Uganda",
            "Ukraine",
            "United Arab Emirates",
            "United Kingdom",
            "Uruguay",
            "Uzbekistan",
            "Vanuatu",
            "Venezuela",
            "Vietnam",
            "Virgin Islands (U.S.)",
            "Zambia",
            "Zimbabwe"
           ],
           "name": "",
           "type": "choropleth",
           "z": [
            0.5,
            2.095049504950495,
            1.9000000000000001,
            2.4346153846153844,
            1.6636363636363638,
            2.011111111111111,
            2.5536516853932585,
            2.2195402298850575,
            2.3850000000000002,
            3.227019068984857,
            3.0698312236286918,
            1.8355555555555554,
            2.2133333333333334,
            1.2,
            2.5586466165413535,
            2.451528384279476,
            3.47865042426782,
            2.420689655172414,
            1.69375,
            2.5866666666666664,
            2.2153846153846155,
            2.314678899082569,
            2.175,
            2.9663603675589294,
            2.398387096774193,
            1.8333333333333333,
            2.4157407407407407,
            2.0172413793103448,
            3.355377402476299,
            1.9761904761904763,
            2.5154929577464786,
            1.8666666666666665,
            1.7,
            2.96875,
            2.3032535885167467,
            2.321078431372549,
            2.675,
            2.270899470899471,
            2.567478260869565,
            2.008843537414966,
            2.483098591549296,
            3.0275750875253364,
            2.61875,
            3.2172504608901766,
            1.7923076923076924,
            2.029203539823009,
            4,
            2.99,
            1.925714285714286,
            2.0223684210526316,
            2.225,
            2.8655158407798536,
            2.2319148936170214,
            2.701764705882353,
            2.307894736842105,
            2.991561470911087,
            2.976688802381498,
            3.1888888888888887,
            2.126530612244898,
            2,
            2.733333333333333,
            2.261290322580645,
            3.0690110826939474,
            2.17,
            3.4,
            2.7351413292589766,
            2.574242424242424,
            3.016666666666667,
            1.9121951219512194,
            2.862264150943396,
            2.7,
            1.9153846153846152,
            1.984,
            2.6586776859504133,
            2.9561190738699006,
            3.2086692015209124,
            2.2475806451612903,
            2.100806451612903,
            1.4264705882352942,
            3.7249999999999996,
            3.2328918322295808,
            3.2164021164021164,
            3.058049678012879,
            3.338767438515749,
            2.0833333333333335,
            2.491103202846975,
            3.1334144970968345,
            3.0620967741935483,
            2.212676056338028,
            2.041935483870968,
            2.2641509433962264,
            2.647191011235955,
            1.7,
            2.2133333333333334,
            2.7543722943722946,
            2.609375,
            2.011111111111111,
            2.9083969465648853,
            2.5873148744365744,
            2.582222222222222,
            2.9,
            2.183333333333333,
            2.4666666666666663,
            1.7409090909090907,
            2.5012195121951217,
            2.3145077720207254,
            1.8199999999999998,
            2.025,
            2.5108361454818144,
            2.3,
            2.986111111111111,
            2,
            2.3796460176991148,
            2.0095238095238095,
            2.176086956521739,
            1.963953488372093,
            2.390909090909091,
            2.1253164556962028,
            3.255722213889306,
            1.7857142857142858,
            3.458617511520737,
            1.72,
            0.5,
            2.8294117647058825,
            2.316666666666667,
            3.3107932182864066,
            2.0166666666666666,
            2.5857142857142854,
            2.3673076923076923,
            1.885714285714286,
            2.2785714285714285,
            2.691923076923077,
            2.0121693121693123,
            3.13944674215201,
            2.6245283018867926,
            2.514864864864865,
            2.276595744680851,
            2.174929577464789,
            2.620112517580872,
            2.0714285714285716,
            2.005263157894737,
            1.8,
            2.3666666666666667,
            2.9615384615384617,
            1.6777777777777778,
            2.0875,
            2.56030303030303,
            1.742857142857143,
            2.5935656836461125,
            3.0043696634856856,
            2.559467040673212,
            1.8571428571428572,
            2.8270310192023635,
            2.1366412213740458,
            1.9666666666666668,
            3.1087055347198547,
            3.2259067357512956,
            1.7956521739130433,
            1.481818181818182,
            3.195094108212652,
            3.300824873096447,
            1.4,
            2.3409638554216867,
            2.05609756097561,
            2.0751219512195123,
            2.3454545454545457,
            2.1809523809523808,
            1.95,
            1.9925925925925925,
            2.28125,
            2.1045454545454545,
            2.3155875299760194,
            1.7666666666666666,
            2.542857142857143,
            2.2725,
            2.4130434782608696,
            1.4903225806451614,
            3.3033031816294076,
            2.657857142857143,
            1.9285714285714286,
            1.9529411764705884,
            1.9403508771929823,
            2.0330275229357797,
            2.9213114754098357,
            1.8,
            2.126086956521739
           ]
          },
          {
           "coloraxis": "coloraxis",
           "geo": "geo",
           "hovertemplate": "location=%{location}<br>count=%{z}<extra></extra>",
           "locationmode": "USA-states",
           "locations": [
            "AL",
            "AK",
            "AZ",
            "AR",
            "CA",
            "CO",
            "CT",
            "DE",
            "FL",
            "GA",
            "HI",
            "ID",
            "IL",
            "IN",
            "IA",
            "KS",
            "KY",
            "LA",
            "ME",
            "MD",
            "MA",
            "MI",
            "MN",
            "MS",
            "MO",
            "MT",
            "NE",
            "NV",
            "NH",
            "NJ",
            "NM",
            "NY",
            "NC",
            "ND",
            "OH",
            "OK",
            "OR",
            "PA",
            "RI",
            "SC",
            "SD",
            "TN",
            "TX",
            "UT",
            "VT",
            "VA",
            "WA",
            "DC",
            "WV",
            "WI",
            "WY"
           ],
           "name": "",
           "type": "choropleth",
           "z": [
            3.3389288569144684,
            3.6368805107935547,
            3.577418154761905,
            3.26411214953271,
            3.6273785812777692,
            3.396490045624222,
            3.47593984962406,
            3.265418118466899,
            3.4209401709401708,
            3.504338028169014,
            3.258656808379544,
            3.4101931330472106,
            3.592552874590408,
            3.435639660950128,
            3.5594519275429635,
            3.4811735941320294,
            3.3471579961464353,
            3.1946008041355545,
            3.5625675454396593,
            3.4483580637314524,
            3.5427796746334606,
            3.494804651551912,
            3.468510054844607,
            3.3079365079365077,
            3.2283675143560298,
            3.364689655172414,
            3.3766365688487583,
            3.287047619047619,
            3.521501076591818,
            3.419149781485896,
            3.5309906858594413,
            3.512871169530446,
            3.4056876790830946,
            3.2904109589041095,
            3.5819766081871345,
            3.725006270378731,
            3.571123837545316,
            3.3422849571952713,
            3.2672521957340024,
            3.6120844174616944,
            3.184090909090909,
            3.248221614227086,
            3.430090404766797,
            3.5231418918918918,
            3.661376785925139,
            3.383707273001054,
            3.37288961038961,
            3.5284529038555394,
            3.2751592356687897,
            3.118024634687476,
            3.3074257425742575
           ]
          }
         ],
         "name": "2014"
        },
        {
         "data": [
          {
           "coloraxis": "coloraxis",
           "geo": "geo",
           "hovertemplate": "location=%{location}<br>count=%{z}<extra></extra>",
           "locationmode": "country names",
           "locations": [
            "Abkhazia",
            "Albania",
            "Algeria",
            "Andorra",
            "Angola",
            "Antigua & Barbuda",
            "Argentina",
            "Armenia",
            "Aruba",
            "Australia",
            "Austria",
            "Azerbaijan",
            "Bahamas",
            "Bangladesh",
            "Barbados",
            "Belarus",
            "Belgium",
            "Belize",
            "Benin",
            "Bermuda",
            "Bhutan",
            "Bolivia",
            "Bosnia and Herzegovina",
            "Botswana",
            "Brazil",
            "Bulgaria",
            "Burkina Faso",
            "Cambodia",
            "Cameroon",
            "Canada",
            "Cape Verde Islands",
            "Cayman Islands",
            "Central African Republic",
            "Chad",
            "Chile",
            "China",
            "Colombia",
            "Congo",
            "Cook Islands",
            "Costa Rica",
            "Croatia",
            "Cuba",
            "Curaçao",
            "Cyprus",
            "Czech Republic",
            "Dem Rep of Congo",
            "Denmark",
            "Dominica",
            "Dominican Republic",
            "Ecuador",
            "Egypt",
            "El Salvador",
            "Eritrea",
            "Estonia",
            "Ethiopia",
            "Faroe Islands",
            "Fiji Islands",
            "Finland",
            "France",
            "French Guiana",
            "French Polynesia",
            "Gabon",
            "Gambia",
            "Georgia",
            "Germany",
            "Ghana",
            "Gibraltar",
            "Greece",
            "Greenland",
            "Guadeloupe",
            "Guam",
            "Guatemala",
            "Guernsey",
            "Guyana",
            "Haiti",
            "Honduras",
            "Hong Kong",
            "Hungary",
            "Iceland",
            "India",
            "Indonesia",
            "Iran",
            "Iraq",
            "Ireland",
            "Isle of Man",
            "Israel",
            "Italy",
            "Ivory Coast",
            "Jamaica",
            "Japan",
            "Jersey",
            "Jordan",
            "Kazakhstan",
            "Kenya",
            "Kosovo",
            "Kyrgyzstan",
            "Laos",
            "Latvia",
            "Lebanon",
            "Lesotho",
            "Liberia",
            "Liechtenstein",
            "Lithuania",
            "Luxembourg",
            "Macau",
            "Macedonia",
            "Madagascar",
            "Malawi",
            "Malaysia",
            "Mali",
            "Malta",
            "Martinique",
            "Mauritius",
            "Mayotte",
            "Mexico",
            "Micronesia",
            "Moldova",
            "Monaco",
            "Mongolia",
            "Montenegro",
            "Morocco",
            "Mozambique",
            "Myanmar",
            "Namibia",
            "Nepal",
            "Netherlands",
            "New Caledonia",
            "New Zealand",
            "Nicaragua",
            "Niger",
            "Nigeria",
            "North Korea",
            "Norway",
            "Pakistan",
            "Palau",
            "Palestine",
            "Panama",
            "Papua New Guinea",
            "Paraguay",
            "Peru",
            "Philippines",
            "Poland",
            "Portugal",
            "Puerto Rico",
            "Reunion",
            "Romania",
            "Russia",
            "Rwanda",
            "Saint Lucia",
            "Saint Vincent and The Grenadines",
            "Samoa",
            "San Marino",
            "Sao Tome and Principe",
            "Saudi Arabia",
            "Senegal",
            "Serbia",
            "Seychelles",
            "Singapore",
            "Slovak Republic",
            "Slovenia",
            "Solomon Islands",
            "South Africa",
            "South Korea",
            "South Sudan",
            "Spain",
            "Sri Lanka",
            "Suriname",
            "Swaziland",
            "Sweden",
            "Switzerland",
            "Taiwan",
            "Tajikistan",
            "Tanzania",
            "Thailand",
            "Tibet",
            "Togo",
            "Tonga",
            "Transdniestra",
            "Trinidad & Tobago",
            "Tunisia",
            "Turkey",
            "Turkish Republic of Cyprus",
            "Turkmenistan",
            "Turks and Caicos Islands",
            "Uganda",
            "Ukraine",
            "United Arab Emirates",
            "United Kingdom",
            "Uruguay",
            "Uzbekistan",
            "Vanuatu",
            "Venezuela",
            "Vietnam",
            "Virgin Islands (U.S.)",
            "Zambia",
            "Zimbabwe"
           ],
           "name": "",
           "type": "choropleth",
           "z": [
            2.4214285714285713,
            2.1478723404255318,
            2.2666666666666666,
            2.62,
            1.842857142857143,
            1.6,
            2.68780487804878,
            2.1,
            1.94375,
            3.2597978970367336,
            3.198462783171521,
            2,
            2.3813953488372093,
            1.0999999999999999,
            2.1282608695652177,
            2.656965944272446,
            3.4866542974789643,
            2.256666666666667,
            2,
            2.8,
            2.1714285714285713,
            2.3593984962406016,
            2.3687782805429864,
            2.1333333333333333,
            3.1592377260981914,
            2.623913043478261,
            1.4666666666666668,
            2.573228346456693,
            1.8833333333333335,
            3.3754735527748996,
            1.9707317073170731,
            2.7413793103448274,
            1.866666666666667,
            1.8333333333333333,
            2.9862275449101796,
            2.553653444676409,
            2.36027397260274,
            1.9,
            3.1333333333333333,
            2.4861842105263157,
            2.9159491884262523,
            2.0365217391304347,
            2.1363636363636362,
            2.7265151515151516,
            3.118306104901118,
            2.35,
            3.202303500384474,
            2.0058823529411764,
            2.147863247863248,
            2.519047619047619,
            1.9735849056603771,
            1.8376811594202898,
            2.0210526315789474,
            3.1962531829756275,
            2.4414893617021276,
            2.6674556213017753,
            2.19375,
            3.03326325624854,
            3.001926523297491,
            2.8518518518518516,
            2.246153846153846,
            1.9666666666666668,
            2.1625,
            2.2181818181818183,
            3.091915529010239,
            2.0176470588235293,
            2.5428571428571427,
            2.7514513788098696,
            2.6085365853658535,
            1.95,
            3.1,
            2.0056818181818183,
            2.79811320754717,
            1.4000000000000001,
            2.145,
            2.0643835616438353,
            3.109266409266409,
            3.0299746835443035,
            3.2540863787375414,
            2.3615087040618956,
            2.0715517241379313,
            1.643859649122807,
            1.2,
            3.245574250182882,
            3.167832167832168,
            3.0067299396031064,
            3.3145707420083013,
            2.966666666666667,
            2.510869565217391,
            3.186566129311839,
            3.0541666666666667,
            1.9622950819672131,
            2.339080459770115,
            2.263392857142857,
            2.930894308943089,
            2.34,
            2.3958762886597937,
            2.9281673541543904,
            2.5743055555555556,
            2.111764705882353,
            2.8,
            2.96158940397351,
            2.718929254302103,
            2.725233644859813,
            2.158333333333333,
            2.378125,
            2.076923076923077,
            2.0047619047619047,
            2.4760563380281693,
            1.5333333333333334,
            2.7344999999999997,
            1.926923076923077,
            2.3037974683544302,
            1.9,
            2.550527648796961,
            2.7266666666666666,
            2.4660869565217394,
            3.0949999999999998,
            2.2906976744186047,
            2.3317647058823527,
            2.110869565217391,
            1.8463414634146342,
            2.029032258064516,
            2.389705882352941,
            1.7838709677419353,
            3.300927671212625,
            2.2249999999999996,
            3.463278092158448,
            2.2754716981132073,
            2.088888888888889,
            2.662264150943396,
            1.7192307692307693,
            3.3279365673387287,
            1.9000000000000001,
            1.5,
            2.5183431952662723,
            2.336206896551724,
            2.225,
            1.9125,
            2.703529411764706,
            2.2294117647058824,
            3.2906433482997897,
            2.8205882352941174,
            2.473846153846154,
            2.2,
            2.6090651558073654,
            2.9465390879478828,
            1.7272727272727273,
            1.8714285714285714,
            1.55,
            2.6333333333333333,
            3.164285714285714,
            1.8,
            1.7857142857142858,
            1.925,
            2.9588904694167852,
            2.1,
            2.7626436781609196,
            3.1292898103220117,
            2.960736196319018,
            2.2857142857142856,
            2.8505067567567566,
            2.553314121037464,
            1.7999999999999998,
            3.20384962406015,
            3.201282051282051,
            1.9023255813953488,
            1.375,
            3.2480242595624347,
            3.2766197959746344,
            2.3901408450704222,
            1.6500000000000001,
            2.26875,
            2.109873417721519,
            1.7375,
            2.2941176470588234,
            2.1,
            2.35,
            2.2688888888888887,
            2.0594594594594597,
            2.40383631713555,
            1.98125,
            1.8625,
            2.894117647058824,
            1.9749999999999999,
            2.6135406218655968,
            1.5574999999999999,
            3.320821277428257,
            2.558139534883721,
            1.6375,
            1.8499999999999999,
            1.913953488372093,
            2.2382775119617224,
            2.936842105263158,
            2.3333333333333335,
            1.788888888888889
           ]
          },
          {
           "coloraxis": "coloraxis",
           "geo": "geo",
           "hovertemplate": "location=%{location}<br>count=%{z}<extra></extra>",
           "locationmode": "USA-states",
           "locations": [
            "AL",
            "AK",
            "AZ",
            "AR",
            "CA",
            "CO",
            "CT",
            "DE",
            "FL",
            "GA",
            "HI",
            "ID",
            "IL",
            "IN",
            "IA",
            "KS",
            "KY",
            "LA",
            "ME",
            "MD",
            "MA",
            "MI",
            "MN",
            "MS",
            "MO",
            "MT",
            "NE",
            "NV",
            "NH",
            "NJ",
            "NM",
            "NY",
            "NC",
            "ND",
            "OH",
            "OK",
            "OR",
            "PA",
            "RI",
            "SC",
            "SD",
            "TN",
            "TX",
            "UT",
            "VT",
            "VA",
            "WA",
            "DC",
            "WV",
            "WI",
            "WY"
           ],
           "name": "",
           "type": "choropleth",
           "z": [
            3.4035856573705177,
            3.6258767449778686,
            3.545211658570437,
            3.3650442477876106,
            3.6364372123265403,
            3.4579160015961694,
            3.4913043478260866,
            3.2960118168389956,
            3.4826584137641623,
            3.5131651556957033,
            3.297139303482587,
            3.452932018681889,
            3.5607976182233605,
            3.481094904337943,
            3.6074587706146928,
            3.5101147028154327,
            3.3336283185840707,
            3.317525773195876,
            3.597473884140551,
            3.441809511534992,
            3.6191961414790996,
            3.511387585229788,
            3.4681247354310707,
            3.2937499999999997,
            3.3349427246047525,
            3.43494623655914,
            3.211799217731421,
            3.4147435897435896,
            3.5263421976919216,
            3.447333084669899,
            3.5525882352941176,
            3.5317518587360595,
            3.422176731490959,
            3.352479338842975,
            3.543311688311688,
            3.7551368421052636,
            3.561513859275053,
            3.365046065046065,
            3.3435381355932203,
            3.5604191858121723,
            3.217171717171717,
            3.364073226544622,
            3.451861432909684,
            3.475796781319028,
            3.682480104525478,
            3.434451544195953,
            3.3949139102854553,
            3.560909583107742,
            3.25625,
            3.1994361620795106,
            3.3874425727411945
           ]
          }
         ],
         "name": "2015"
        },
        {
         "data": [
          {
           "coloraxis": "coloraxis",
           "geo": "geo",
           "hovertemplate": "location=%{location}<br>count=%{z}<extra></extra>",
           "locationmode": "country names",
           "locations": [
            "Abkhazia",
            "Albania",
            "Algeria",
            "Andorra",
            "Angola",
            "Antigua & Barbuda",
            "Argentina",
            "Armenia",
            "Aruba",
            "Australia",
            "Austria",
            "Azerbaijan",
            "Bahamas",
            "Barbados",
            "Belarus",
            "Belgium",
            "Belize",
            "Benin",
            "Bermuda",
            "Bhutan",
            "Bolivia",
            "Bonaire",
            "Bosnia and Herzegovina",
            "Botswana",
            "Brazil",
            "Bulgaria",
            "Burkina Faso",
            "Burundi",
            "Cambodia",
            "Cameroon",
            "Canada",
            "Cape Verde Islands",
            "Cayman Islands",
            "Central African Republic",
            "Chile",
            "China",
            "Colombia",
            "Congo",
            "Costa Rica",
            "Croatia",
            "Cuba",
            "Curaçao",
            "Cyprus",
            "Czech Republic",
            "Dem Rep of Congo",
            "Denmark",
            "Dominica",
            "Dominican Republic",
            "Ecuador",
            "Egypt",
            "El Salvador",
            "Eritrea",
            "Estonia",
            "Ethiopia",
            "Falkland Islands",
            "Faroe Islands",
            "Fiji Islands",
            "Finland",
            "France",
            "French Guiana",
            "French Polynesia",
            "Gabon",
            "Gambia",
            "Georgia",
            "Germany",
            "Ghana",
            "Gibraltar",
            "Greece",
            "Greenland",
            "Grenada",
            "Guadeloupe",
            "Guam",
            "Guatemala",
            "Guernsey",
            "Guinea",
            "Haiti",
            "Honduras",
            "Hong Kong",
            "Hungary",
            "Iceland",
            "India",
            "Indonesia",
            "Iran",
            "Ireland",
            "Isle of Man",
            "Israel",
            "Italy",
            "Ivory Coast",
            "Jamaica",
            "Japan",
            "Jersey",
            "Jordan",
            "Kazakhstan",
            "Kenya",
            "Kosovo",
            "Kyrgyzstan",
            "Laos",
            "Latvia",
            "Lebanon",
            "Liechtenstein",
            "Lithuania",
            "Luxembourg",
            "Macedonia",
            "Madagascar",
            "Malawi",
            "Malaysia",
            "Mali",
            "Malta",
            "Martinique",
            "Mauritius",
            "Mayotte",
            "Mexico",
            "Moldova",
            "Monaco",
            "Mongolia",
            "Montenegro",
            "Morocco",
            "Mozambique",
            "Myanmar",
            "Namibia",
            "Nepal",
            "Netherlands",
            "New Caledonia",
            "New Zealand",
            "Nicaragua",
            "Niger",
            "Nigeria",
            "North Korea",
            "Norway",
            "Pakistan",
            "Palau",
            "Palestine",
            "Panama",
            "Papua New Guinea",
            "Paraguay",
            "Peru",
            "Philippines",
            "Poland",
            "Portugal",
            "Puerto Rico",
            "Reunion",
            "Romania",
            "Russia",
            "Rwanda",
            "Saint Lucia",
            "Saint Vincent and The Grenadines",
            "Samoa",
            "San Marino",
            "Sao Tome and Principe",
            "Saudi Arabia",
            "Senegal",
            "Serbia",
            "Seychelles",
            "Sierra Leone",
            "Singapore",
            "Slovak Republic",
            "Slovenia",
            "Solomon Islands",
            "South Africa",
            "South Korea",
            "South Ossetia",
            "South Sudan",
            "Spain",
            "Sri Lanka",
            "Suriname",
            "Swaziland",
            "Sweden",
            "Switzerland",
            "Taiwan",
            "Tajikistan",
            "Tanzania",
            "Thailand",
            "Tibet",
            "Togo",
            "Tonga",
            "Transdniestra",
            "Trinidad & Tobago",
            "Tunisia",
            "Turkey",
            "Turkish Republic of Cyprus",
            "Turkmenistan",
            "Turks and Caicos Islands",
            "Uganda",
            "Ukraine",
            "United Arab Emirates",
            "United Kingdom",
            "Uruguay",
            "Uzbekistan",
            "Vanuatu",
            "Venezuela",
            "Vietnam",
            "Virgin Islands (U.S.)",
            "Zambia",
            "Zimbabwe"
           ],
           "name": "",
           "type": "choropleth",
           "z": [
            1.26,
            2.355952380952381,
            1.6583333333333332,
            3.096551724137931,
            2.023076923076923,
            2.9,
            2.6751381215469614,
            2.2287500000000002,
            2.0055555555555555,
            3.2867653103164813,
            3.2194345661450923,
            2.2285714285714286,
            2.47536231884058,
            2.185714285714286,
            2.718860759493671,
            3.5259536822095083,
            2.229032258064516,
            1.5499999999999998,
            2.309090909090909,
            2.5833333333333335,
            2.1473684210526316,
            3,
            2.754356846473029,
            0.6,
            3.2643343051506317,
            2.724038461538462,
            2.1999999999999997,
            2.0999999999999996,
            2.539080459770115,
            2.21,
            3.400057433950957,
            2.078125,
            2.5528301886792457,
            1.95,
            3.1528089887640447,
            2.6140000000000003,
            2.3684210526315788,
            1.9249999999999998,
            2.857522123893805,
            3.032776066871975,
            2.1104166666666666,
            2.6,
            2.6873684210526316,
            3.1229126041482003,
            2.1095238095238096,
            3.2862277672570643,
            2.0555555555555554,
            1.9233333333333333,
            2.791111111111111,
            1.9944444444444445,
            2.468571428571429,
            1.7899999999999998,
            3.3373340769659787,
            2.4264367816091954,
            3.175,
            2.8064102564102567,
            2.3084745762711862,
            3.092530354541039,
            3.080571491615181,
            2.3,
            2.3137254901960786,
            1.7,
            2.1399999999999997,
            2.1734939759036145,
            3.1137624137350612,
            2.13,
            2.634375,
            3.088451612903226,
            2.8492957746478873,
            3.4,
            2.590909090909091,
            2.6999999999999997,
            1.9967213114754099,
            2.672727272727273,
            1.7,
            1.7285714285714284,
            2.1641025641025644,
            3.2395555555555555,
            2.980697384806974,
            3.3218050065876152,
            2.271469740634006,
            2.007619047619048,
            1.5285714285714285,
            3.297193248625071,
            3.2419354838709675,
            2.935653235653236,
            3.3178196721311477,
            1.7000000000000002,
            2.5805970149253734,
            3.2440707053372235,
            2.853333333333333,
            2.5277777777777777,
            2.4922077922077923,
            2.2512820512820513,
            2.707792207792208,
            2.018181818181818,
            2.3346938775510204,
            2.9157629960872,
            2.342156862745098,
            3.0197802197802197,
            2.811397627643115,
            2.804643962848297,
            2.28109756097561,
            2.275,
            2.5,
            2.272,
            2,
            2.790506329113924,
            2.2,
            2.4522727272727276,
            1.4,
            2.793881363848669,
            2.7767932489451477,
            2.576,
            1.975,
            2.5032967032967033,
            2.1646153846153844,
            2.2675675675675677,
            2.2567567567567566,
            2.461818181818182,
            2.1333333333333333,
            3.3496986321146283,
            2.255,
            3.4638126009693058,
            2.453846153846154,
            2.1,
            2.6799999999999997,
            2.110526315789474,
            3.3073388100572565,
            1.75,
            2.9,
            2.739622641509434,
            2.876470588235294,
            1.8444444444444446,
            2.588888888888889,
            2.8609826589595375,
            2.369281045751634,
            3.3234905816064315,
            3.081351689612015,
            2.2,
            2.127586206896552,
            2.8045566502463055,
            3.085937882122768,
            2.036065573770492,
            2.309090909090909,
            4.05,
            1.95,
            2.993023255813953,
            1.8,
            1.6454545454545455,
            2.0571428571428574,
            3.1301293900184843,
            2.1,
            2,
            2.7750943396226413,
            3.1900528750826176,
            3.1212849162011174,
            1.9,
            2.9539112050739957,
            2.7788863109048725,
            2.05,
            2.1,
            3.2559746696035243,
            2.812727272727273,
            1.716,
            1.4,
            3.386435709997528,
            3.3155891238670696,
            2.5708609271523177,
            1.8999999999999997,
            2.1219512195121952,
            2.6297047970479706,
            1.7399999999999998,
            1.9300000000000002,
            1.6,
            2.275,
            2.148,
            2.2600000000000002,
            2.5311526479750777,
            2.5612903225806454,
            1.4375,
            2.746153846153846,
            1.8125,
            2.79988419224088,
            1.3875,
            3.3541253396363957,
            2.8047619047619046,
            1.5894736842105264,
            2.2600000000000002,
            2.1125,
            2.374137931034483,
            2.984375,
            2.742857142857143,
            1.675
           ]
          },
          {
           "coloraxis": "coloraxis",
           "geo": "geo",
           "hovertemplate": "location=%{location}<br>count=%{z}<extra></extra>",
           "locationmode": "USA-states",
           "locations": [
            "AL",
            "AK",
            "AZ",
            "AR",
            "CA",
            "CO",
            "CT",
            "DE",
            "FL",
            "GA",
            "HI",
            "ID",
            "IL",
            "IN",
            "IA",
            "KS",
            "KY",
            "LA",
            "ME",
            "MD",
            "MA",
            "MI",
            "MN",
            "MS",
            "MO",
            "MT",
            "NE",
            "NV",
            "NH",
            "NJ",
            "NM",
            "NY",
            "NC",
            "ND",
            "OH",
            "OK",
            "OR",
            "PA",
            "RI",
            "SC",
            "SD",
            "TN",
            "TX",
            "UT",
            "VT",
            "VA",
            "WA",
            "DC",
            "WV",
            "WI",
            "WY"
           ],
           "name": "",
           "type": "choropleth",
           "z": [
            3.451645064805583,
            3.5915458937198066,
            3.5248026589115082,
            3.476328502415459,
            3.632734054589167,
            3.5441992624387884,
            3.520687936191426,
            3.2919587628865976,
            3.537930617671945,
            3.557303370786517,
            3.289177168272795,
            3.418266735858848,
            3.560811164413432,
            3.466964884813241,
            3.629936305732484,
            3.4406417112299463,
            3.3989827060020343,
            3.3332243296272073,
            3.6234772727272726,
            3.4982573918011712,
            3.6906880645781284,
            3.5352842435094,
            3.457524152611757,
            3.3631901840490794,
            3.427807421780257,
            3.424896836313618,
            3.316952209197475,
            3.407513416815742,
            3.546290076335878,
            3.4736406995230524,
            3.5409921671018276,
            3.574074074074074,
            3.472575837278625,
            3.31,
            3.5554552215021777,
            3.800233713117149,
            3.588021824641543,
            3.402143328204001,
            3.3848249027237354,
            3.660493311036789,
            3.265217391304348,
            3.4937142857142858,
            3.4542796977579586,
            3.4495208761122518,
            3.753798185941043,
            3.5329060913705583,
            3.468255116807939,
            3.552045944005743,
            3.3406542056074766,
            3.230055658627087,
            3.6475357710651832
           ]
          }
         ],
         "name": "2016"
        },
        {
         "data": [
          {
           "coloraxis": "coloraxis",
           "geo": "geo",
           "hovertemplate": "location=%{location}<br>count=%{z}<extra></extra>",
           "locationmode": "country names",
           "locations": [
            "Abkhazia",
            "Albania",
            "Andorra",
            "Angola",
            "Antigua & Barbuda",
            "Argentina",
            "Armenia",
            "Aruba",
            "Australia",
            "Austria",
            "Azerbaijan",
            "Bahamas",
            "Bangladesh",
            "Barbados",
            "Belarus",
            "Belgium",
            "Belize",
            "Benin",
            "Bermuda",
            "Bhutan",
            "Bolivia",
            "Bonaire",
            "Bosnia and Herzegovina",
            "Botswana",
            "Brazil",
            "Bulgaria",
            "Burkina Faso",
            "Cambodia",
            "Cameroon",
            "Canada",
            "Cape Verde Islands",
            "Cayman Islands",
            "Central African Republic",
            "Chad",
            "Chile",
            "China",
            "Colombia",
            "Cook Islands",
            "Costa Rica",
            "Croatia",
            "Cuba",
            "Curaçao",
            "Cyprus",
            "Czech Republic",
            "Dem Rep of Congo",
            "Denmark",
            "Dominica",
            "Dominican Republic",
            "Ecuador",
            "Egypt",
            "El Salvador",
            "Eritrea",
            "Estonia",
            "Ethiopia",
            "Falkland Islands",
            "Faroe Islands",
            "Fiji Islands",
            "Finland",
            "France",
            "French Guiana",
            "French Polynesia",
            "Gabon",
            "Gambia",
            "Georgia",
            "Germany",
            "Ghana",
            "Gibraltar",
            "Greece",
            "Greenland",
            "Grenada",
            "Guadeloupe",
            "Guam",
            "Guatemala",
            "Guernsey",
            "Guinea",
            "Guinea-Bissau",
            "Guyana",
            "Haiti",
            "Honduras",
            "Hong Kong",
            "Hungary",
            "Iceland",
            "India",
            "Indonesia",
            "Iran",
            "Ireland",
            "Isle of Man",
            "Israel",
            "Italy",
            "Ivory Coast",
            "Jamaica",
            "Japan",
            "Jersey",
            "Jordan",
            "Kazakhstan",
            "Kenya",
            "Kosovo",
            "Kyrgyzstan",
            "Laos",
            "Latvia",
            "Lebanon",
            "Lesotho",
            "Liechtenstein",
            "Lithuania",
            "Luxembourg",
            "Macau",
            "Macedonia",
            "Madagascar",
            "Malawi",
            "Malaysia",
            "Mali",
            "Malta",
            "Martinique",
            "Mauritius",
            "Mexico",
            "Micronesia",
            "Moldova",
            "Monaco",
            "Mongolia",
            "Montenegro",
            "Morocco",
            "Mozambique",
            "Myanmar",
            "Nagorno-Karabakh",
            "Namibia",
            "Nepal",
            "Netherlands",
            "New Caledonia",
            "New Zealand",
            "Nicaragua",
            "Niger",
            "Nigeria",
            "North Korea",
            "Northern Marianas",
            "Norway",
            "Pakistan",
            "Palau",
            "Palestine",
            "Panama",
            "Papua New Guinea",
            "Paraguay",
            "Peru",
            "Philippines",
            "Poland",
            "Portugal",
            "Puerto Rico",
            "Reunion",
            "Romania",
            "Russia",
            "Rwanda",
            "Saint Lucia",
            "Saint Vincent and The Grenadines",
            "Samoa",
            "San Marino",
            "Sao Tome and Principe",
            "Saudi Arabia",
            "Senegal",
            "Serbia",
            "Seychelles",
            "Singapore",
            "Slovak Republic",
            "Slovenia",
            "Solomon Islands",
            "South Africa",
            "South Korea",
            "South Ossetia",
            "Spain",
            "Sri Lanka",
            "Suriname",
            "Swaziland",
            "Sweden",
            "Switzerland",
            "Taiwan",
            "Tajikistan",
            "Tanzania",
            "Thailand",
            "Tibet",
            "Togo",
            "Transdniestra",
            "Trinidad & Tobago",
            "Tunisia",
            "Turkey",
            "Turkish Republic of Cyprus",
            "Turkmenistan",
            "Turks and Caicos Islands",
            "Uganda",
            "Ukraine",
            "United Arab Emirates",
            "United Kingdom",
            "Uruguay",
            "Uzbekistan",
            "Vanuatu",
            "Venezuela",
            "Vietnam",
            "Virgin Islands (British)",
            "Virgin Islands (U.S.)",
            "Zambia",
            "Zimbabwe"
           ],
           "name": "",
           "type": "choropleth",
           "z": [
            1.8666666666666665,
            2.246,
            2.836363636363636,
            1.6375,
            2.466666666666667,
            2.856291390728477,
            2.2789473684210524,
            1.9000000000000001,
            3.3579783982066433,
            3.25727969348659,
            2.0586206896551724,
            2.7301886792452827,
            1.9,
            2.575,
            2.818834951456311,
            3.5461602810774635,
            2.6888888888888887,
            1.8625,
            2.75,
            2.942253521126761,
            2.27,
            2.735294117647059,
            2.9066666666666667,
            1.5444444444444445,
            3.301137538779731,
            3.013483146067416,
            2.7800000000000002,
            2.810691823899371,
            2.425,
            3.432658507407748,
            2.330769230769231,
            3.0611111111111113,
            2.0125,
            1.4,
            3.0426086956521736,
            2.6982698961937714,
            2.676428571428571,
            2.1,
            2.730769230769231,
            3.103968731208659,
            2.2403846153846154,
            3.2625,
            2.4857142857142858,
            3.169256434699714,
            1.9333333333333331,
            3.35390023879013,
            2.7,
            2.097297297297297,
            2.6199999999999997,
            2.15,
            2.396666666666667,
            1.9,
            3.372045870034901,
            2.5285714285714285,
            2.2,
            2.7894117647058825,
            2.2214285714285715,
            3.0953006219765027,
            3.116788321167883,
            2,
            2.1470588235294117,
            2.2,
            2.1,
            2.319858156028369,
            3.1461720867208673,
            2.5875,
            2.4214285714285713,
            3.0901147396293025,
            2.91,
            3.1413793103448273,
            2.45,
            3.4,
            2.4972972972972975,
            2.9157894736842103,
            2.1,
            1.8,
            2.6,
            2.292307692307692,
            2.1416666666666666,
            3.267536231884058,
            3.204367968232958,
            3.3393133997785163,
            2.433628318584071,
            2.076923076923077,
            1.4294117647058824,
            3.3177944862155386,
            3.15,
            3.147692307692308,
            3.3576601671309194,
            2.725,
            2.5339285714285715,
            3.260360054347826,
            2.7357142857142853,
            2.953333333333333,
            2.5636363636363635,
            2.269230769230769,
            2.065384615384615,
            2.6571428571428575,
            2.380434782608696,
            2.9981875492513788,
            2.359259259259259,
            1.9153846153846152,
            3.03125,
            2.8153660498793243,
            2.7713675213675213,
            1.1,
            2.576363636363636,
            2.68,
            2.0749999999999997,
            2.35625,
            2,
            2.6635135135135135,
            2.0142857142857147,
            2.432,
            2.855909090909091,
            3.6,
            3.044642857142857,
            2.661764705882353,
            2.108695652173913,
            2.414754098360656,
            2.4145833333333333,
            2.3636363636363638,
            2.1918367346938776,
            3.1,
            2.411627906976744,
            2.7625,
            3.400755682494347,
            1.8363636363636364,
            3.4914400494437574,
            2.213793103448276,
            2.4545454545454546,
            2.5794117647058825,
            2.2904761904761908,
            5,
            3.3660448414783675,
            2.5,
            2.3,
            2.7482758620689656,
            2.9194805194805196,
            2.1076923076923078,
            2.180769230769231,
            2.985294117647059,
            2.5968627450980395,
            3.319598600447079,
            3.197826086956522,
            2.225,
            2.403448275862069,
            3.243599033816425,
            3.2167381974248928,
            1.8800000000000001,
            2.6666666666666665,
            2.5,
            2,
            2.8815789473684212,
            2.6,
            2.275,
            1.95,
            3.181888544891641,
            2.225,
            3.021034482758621,
            3.199274486094317,
            3.1488456865127583,
            2.542857142857143,
            3.0109439124487003,
            2.7837209302325583,
            3.45,
            3.2751113525258013,
            3.1456140350877195,
            1.8875000000000002,
            1.94,
            3.482931786931309,
            3.351151580074987,
            3.0823008849557523,
            2.0142857142857142,
            2.2222222222222223,
            2.9492436974789915,
            1.6666666666666667,
            2.2846153846153845,
            2.303030303030303,
            2.503125,
            1.8800000000000001,
            2.4643564356435643,
            2.1,
            1.9,
            2.168965517241379,
            1.8,
            2.8453125,
            1.5416666666666667,
            3.375284273037082,
            2.4058823529411764,
            2.4,
            1.95,
            2.029166666666667,
            3.044243792325056,
            3.5,
            3.0846153846153848,
            3.1666666666666665,
            2.3666666666666667
           ]
          },
          {
           "coloraxis": "coloraxis",
           "geo": "geo",
           "hovertemplate": "location=%{location}<br>count=%{z}<extra></extra>",
           "locationmode": "USA-states",
           "locations": [
            "AL",
            "AK",
            "AZ",
            "AR",
            "CA",
            "CO",
            "CT",
            "DE",
            "FL",
            "GA",
            "HI",
            "ID",
            "IL",
            "IN",
            "IA",
            "KS",
            "KY",
            "LA",
            "ME",
            "MD",
            "MA",
            "MI",
            "MN",
            "MS",
            "MO",
            "MT",
            "NE",
            "NV",
            "NH",
            "NJ",
            "NM",
            "NY",
            "NC",
            "ND",
            "OH",
            "OK",
            "OR",
            "PA",
            "RI",
            "SC",
            "SD",
            "TN",
            "TX",
            "UT",
            "VT",
            "VA",
            "WA",
            "DC",
            "WV",
            "WI",
            "WY"
           ],
           "name": "",
           "type": "choropleth",
           "z": [
            3.4164772727272723,
            3.6389078498293514,
            3.5193370165745854,
            3.381818181818182,
            3.6630826854678795,
            3.560786816757572,
            3.4760835913312698,
            3.3108597285067876,
            3.6500731758310683,
            3.5429726607624183,
            3.321076746849943,
            3.434472727272727,
            3.5609699385484137,
            3.4469964664310955,
            3.7117222723174033,
            3.490023752969121,
            3.4365145228215765,
            3.3280669144981414,
            3.6178541136556404,
            3.5082702020202023,
            3.680606882522462,
            3.57580413849621,
            3.4611923187159648,
            3.4135714285714283,
            3.438298872180451,
            3.4342105263157894,
            3.3827586206896556,
            3.42972972972973,
            3.5610021786492374,
            3.479310344827586,
            3.5199152542372882,
            3.6040781853281856,
            3.4804562946673996,
            3.2894067796610167,
            3.6112323612417687,
            3.82828535669587,
            3.5909673444239063,
            3.481914658412558,
            3.4695156695156695,
            3.6207317073170735,
            3.153,
            3.5543521266073195,
            3.454748037477842,
            3.5283845650752124,
            3.7744700045106,
            3.563096695226438,
            3.498097030531159,
            3.5351548269581055,
            3.3326460481099653,
            3.247106031128405,
            3.685258964143426
           ]
          }
         ],
         "name": "2017"
        }
       ],
       "layout": {
        "coloraxis": {
         "cmax": 4,
         "cmin": 1,
         "colorbar": {
          "title": {
           "text": "count"
          }
         },
         "colorscale": [
          [
           0,
           "#440154"
          ],
          [
           0.1111111111111111,
           "#482878"
          ],
          [
           0.2222222222222222,
           "#3e4989"
          ],
          [
           0.3333333333333333,
           "#31688e"
          ],
          [
           0.4444444444444444,
           "#26828e"
          ],
          [
           0.5555555555555556,
           "#1f9e89"
          ],
          [
           0.6666666666666666,
           "#35b779"
          ],
          [
           0.7777777777777778,
           "#6ece58"
          ],
          [
           0.8888888888888888,
           "#b5de2b"
          ],
          [
           1,
           "#fde725"
          ]
         ]
        },
        "geo": {
         "center": {},
         "domain": {
          "x": [
           0,
           1
          ],
          "y": [
           0,
           1
          ]
         },
         "scope": "world",
         "showcoastlines": false,
         "showframe": false
        },
        "height": 600,
        "legend": {
         "tracegroupgap": 0
        },
        "margin": {
         "t": 60
        },
        "sliders": [
         {
          "steps": [
           {
            "args": [
             [
              "2002"
             ],
             {
              "frame": {
               "duration": 300,
               "redraw": true
              },
              "mode": "immediate"
             }
            ],
            "label": "2002",
            "method": "animate"
           },
           {
            "args": [
             [
              "2003"
             ],
             {
              "frame": {
               "duration": 300,
               "redraw": true
              },
              "mode": "immediate"
             }
            ],
            "label": "2003",
            "method": "animate"
           },
           {
            "args": [
             [
              "2004"
             ],
             {
              "frame": {
               "duration": 300,
               "redraw": true
              },
              "mode": "immediate"
             }
            ],
            "label": "2004",
            "method": "animate"
           },
           {
            "args": [
             [
              "2005"
             ],
             {
              "frame": {
               "duration": 300,
               "redraw": true
              },
              "mode": "immediate"
             }
            ],
            "label": "2005",
            "method": "animate"
           },
           {
            "args": [
             [
              "2006"
             ],
             {
              "frame": {
               "duration": 300,
               "redraw": true
              },
              "mode": "immediate"
             }
            ],
            "label": "2006",
            "method": "animate"
           },
           {
            "args": [
             [
              "2007"
             ],
             {
              "frame": {
               "duration": 300,
               "redraw": true
              },
              "mode": "immediate"
             }
            ],
            "label": "2007",
            "method": "animate"
           },
           {
            "args": [
             [
              "2008"
             ],
             {
              "frame": {
               "duration": 300,
               "redraw": true
              },
              "mode": "immediate"
             }
            ],
            "label": "2008",
            "method": "animate"
           },
           {
            "args": [
             [
              "2009"
             ],
             {
              "frame": {
               "duration": 300,
               "redraw": true
              },
              "mode": "immediate"
             }
            ],
            "label": "2009",
            "method": "animate"
           },
           {
            "args": [
             [
              "2010"
             ],
             {
              "frame": {
               "duration": 300,
               "redraw": true
              },
              "mode": "immediate"
             }
            ],
            "label": "2010",
            "method": "animate"
           },
           {
            "args": [
             [
              "2011"
             ],
             {
              "frame": {
               "duration": 300,
               "redraw": true
              },
              "mode": "immediate"
             }
            ],
            "label": "2011",
            "method": "animate"
           },
           {
            "args": [
             [
              "2012"
             ],
             {
              "frame": {
               "duration": 300,
               "redraw": true
              },
              "mode": "immediate"
             }
            ],
            "label": "2012",
            "method": "animate"
           },
           {
            "args": [
             [
              "2013"
             ],
             {
              "frame": {
               "duration": 300,
               "redraw": true
              },
              "mode": "immediate"
             }
            ],
            "label": "2013",
            "method": "animate"
           },
           {
            "args": [
             [
              "2014"
             ],
             {
              "frame": {
               "duration": 300,
               "redraw": true
              },
              "mode": "immediate"
             }
            ],
            "label": "2014",
            "method": "animate"
           },
           {
            "args": [
             [
              "2015"
             ],
             {
              "frame": {
               "duration": 300,
               "redraw": true
              },
              "mode": "immediate"
             }
            ],
            "label": "2015",
            "method": "animate"
           },
           {
            "args": [
             [
              "2016"
             ],
             {
              "frame": {
               "duration": 300,
               "redraw": true
              },
              "mode": "immediate"
             }
            ],
            "label": "2016",
            "method": "animate"
           },
           {
            "args": [
             [
              "2017"
             ],
             {
              "frame": {
               "duration": 300,
               "redraw": true
              },
              "mode": "immediate"
             }
            ],
            "label": "2017",
            "method": "animate"
           }
          ],
          "transition": {
           "duration": 300
          },
          "x": 0.1,
          "xanchor": "left",
          "y": 0,
          "yanchor": "top"
         }
        ],
        "template": {
         "data": {
          "bar": [
           {
            "error_x": {
             "color": "#2a3f5f"
            },
            "error_y": {
             "color": "#2a3f5f"
            },
            "marker": {
             "line": {
              "color": "#E5ECF6",
              "width": 0.5
             },
             "pattern": {
              "fillmode": "overlay",
              "size": 10,
              "solidity": 0.2
             }
            },
            "type": "bar"
           }
          ],
          "barpolar": [
           {
            "marker": {
             "line": {
              "color": "#E5ECF6",
              "width": 0.5
             },
             "pattern": {
              "fillmode": "overlay",
              "size": 10,
              "solidity": 0.2
             }
            },
            "type": "barpolar"
           }
          ],
          "carpet": [
           {
            "aaxis": {
             "endlinecolor": "#2a3f5f",
             "gridcolor": "white",
             "linecolor": "white",
             "minorgridcolor": "white",
             "startlinecolor": "#2a3f5f"
            },
            "baxis": {
             "endlinecolor": "#2a3f5f",
             "gridcolor": "white",
             "linecolor": "white",
             "minorgridcolor": "white",
             "startlinecolor": "#2a3f5f"
            },
            "type": "carpet"
           }
          ],
          "choropleth": [
           {
            "colorbar": {
             "outlinewidth": 0,
             "ticks": ""
            },
            "type": "choropleth"
           }
          ],
          "contour": [
           {
            "colorbar": {
             "outlinewidth": 0,
             "ticks": ""
            },
            "colorscale": [
             [
              0,
              "#0d0887"
             ],
             [
              0.1111111111111111,
              "#46039f"
             ],
             [
              0.2222222222222222,
              "#7201a8"
             ],
             [
              0.3333333333333333,
              "#9c179e"
             ],
             [
              0.4444444444444444,
              "#bd3786"
             ],
             [
              0.5555555555555556,
              "#d8576b"
             ],
             [
              0.6666666666666666,
              "#ed7953"
             ],
             [
              0.7777777777777778,
              "#fb9f3a"
             ],
             [
              0.8888888888888888,
              "#fdca26"
             ],
             [
              1,
              "#f0f921"
             ]
            ],
            "type": "contour"
           }
          ],
          "contourcarpet": [
           {
            "colorbar": {
             "outlinewidth": 0,
             "ticks": ""
            },
            "type": "contourcarpet"
           }
          ],
          "heatmap": [
           {
            "colorbar": {
             "outlinewidth": 0,
             "ticks": ""
            },
            "colorscale": [
             [
              0,
              "#0d0887"
             ],
             [
              0.1111111111111111,
              "#46039f"
             ],
             [
              0.2222222222222222,
              "#7201a8"
             ],
             [
              0.3333333333333333,
              "#9c179e"
             ],
             [
              0.4444444444444444,
              "#bd3786"
             ],
             [
              0.5555555555555556,
              "#d8576b"
             ],
             [
              0.6666666666666666,
              "#ed7953"
             ],
             [
              0.7777777777777778,
              "#fb9f3a"
             ],
             [
              0.8888888888888888,
              "#fdca26"
             ],
             [
              1,
              "#f0f921"
             ]
            ],
            "type": "heatmap"
           }
          ],
          "heatmapgl": [
           {
            "colorbar": {
             "outlinewidth": 0,
             "ticks": ""
            },
            "colorscale": [
             [
              0,
              "#0d0887"
             ],
             [
              0.1111111111111111,
              "#46039f"
             ],
             [
              0.2222222222222222,
              "#7201a8"
             ],
             [
              0.3333333333333333,
              "#9c179e"
             ],
             [
              0.4444444444444444,
              "#bd3786"
             ],
             [
              0.5555555555555556,
              "#d8576b"
             ],
             [
              0.6666666666666666,
              "#ed7953"
             ],
             [
              0.7777777777777778,
              "#fb9f3a"
             ],
             [
              0.8888888888888888,
              "#fdca26"
             ],
             [
              1,
              "#f0f921"
             ]
            ],
            "type": "heatmapgl"
           }
          ],
          "histogram": [
           {
            "marker": {
             "pattern": {
              "fillmode": "overlay",
              "size": 10,
              "solidity": 0.2
             }
            },
            "type": "histogram"
           }
          ],
          "histogram2d": [
           {
            "colorbar": {
             "outlinewidth": 0,
             "ticks": ""
            },
            "colorscale": [
             [
              0,
              "#0d0887"
             ],
             [
              0.1111111111111111,
              "#46039f"
             ],
             [
              0.2222222222222222,
              "#7201a8"
             ],
             [
              0.3333333333333333,
              "#9c179e"
             ],
             [
              0.4444444444444444,
              "#bd3786"
             ],
             [
              0.5555555555555556,
              "#d8576b"
             ],
             [
              0.6666666666666666,
              "#ed7953"
             ],
             [
              0.7777777777777778,
              "#fb9f3a"
             ],
             [
              0.8888888888888888,
              "#fdca26"
             ],
             [
              1,
              "#f0f921"
             ]
            ],
            "type": "histogram2d"
           }
          ],
          "histogram2dcontour": [
           {
            "colorbar": {
             "outlinewidth": 0,
             "ticks": ""
            },
            "colorscale": [
             [
              0,
              "#0d0887"
             ],
             [
              0.1111111111111111,
              "#46039f"
             ],
             [
              0.2222222222222222,
              "#7201a8"
             ],
             [
              0.3333333333333333,
              "#9c179e"
             ],
             [
              0.4444444444444444,
              "#bd3786"
             ],
             [
              0.5555555555555556,
              "#d8576b"
             ],
             [
              0.6666666666666666,
              "#ed7953"
             ],
             [
              0.7777777777777778,
              "#fb9f3a"
             ],
             [
              0.8888888888888888,
              "#fdca26"
             ],
             [
              1,
              "#f0f921"
             ]
            ],
            "type": "histogram2dcontour"
           }
          ],
          "mesh3d": [
           {
            "colorbar": {
             "outlinewidth": 0,
             "ticks": ""
            },
            "type": "mesh3d"
           }
          ],
          "parcoords": [
           {
            "line": {
             "colorbar": {
              "outlinewidth": 0,
              "ticks": ""
             }
            },
            "type": "parcoords"
           }
          ],
          "pie": [
           {
            "automargin": true,
            "type": "pie"
           }
          ],
          "scatter": [
           {
            "fillpattern": {
             "fillmode": "overlay",
             "size": 10,
             "solidity": 0.2
            },
            "type": "scatter"
           }
          ],
          "scatter3d": [
           {
            "line": {
             "colorbar": {
              "outlinewidth": 0,
              "ticks": ""
             }
            },
            "marker": {
             "colorbar": {
              "outlinewidth": 0,
              "ticks": ""
             }
            },
            "type": "scatter3d"
           }
          ],
          "scattercarpet": [
           {
            "marker": {
             "colorbar": {
              "outlinewidth": 0,
              "ticks": ""
             }
            },
            "type": "scattercarpet"
           }
          ],
          "scattergeo": [
           {
            "marker": {
             "colorbar": {
              "outlinewidth": 0,
              "ticks": ""
             }
            },
            "type": "scattergeo"
           }
          ],
          "scattergl": [
           {
            "marker": {
             "colorbar": {
              "outlinewidth": 0,
              "ticks": ""
             }
            },
            "type": "scattergl"
           }
          ],
          "scattermapbox": [
           {
            "marker": {
             "colorbar": {
              "outlinewidth": 0,
              "ticks": ""
             }
            },
            "type": "scattermapbox"
           }
          ],
          "scatterpolar": [
           {
            "marker": {
             "colorbar": {
              "outlinewidth": 0,
              "ticks": ""
             }
            },
            "type": "scatterpolar"
           }
          ],
          "scatterpolargl": [
           {
            "marker": {
             "colorbar": {
              "outlinewidth": 0,
              "ticks": ""
             }
            },
            "type": "scatterpolargl"
           }
          ],
          "scatterternary": [
           {
            "marker": {
             "colorbar": {
              "outlinewidth": 0,
              "ticks": ""
             }
            },
            "type": "scatterternary"
           }
          ],
          "surface": [
           {
            "colorbar": {
             "outlinewidth": 0,
             "ticks": ""
            },
            "colorscale": [
             [
              0,
              "#0d0887"
             ],
             [
              0.1111111111111111,
              "#46039f"
             ],
             [
              0.2222222222222222,
              "#7201a8"
             ],
             [
              0.3333333333333333,
              "#9c179e"
             ],
             [
              0.4444444444444444,
              "#bd3786"
             ],
             [
              0.5555555555555556,
              "#d8576b"
             ],
             [
              0.6666666666666666,
              "#ed7953"
             ],
             [
              0.7777777777777778,
              "#fb9f3a"
             ],
             [
              0.8888888888888888,
              "#fdca26"
             ],
             [
              1,
              "#f0f921"
             ]
            ],
            "type": "surface"
           }
          ],
          "table": [
           {
            "cells": {
             "fill": {
              "color": "#EBF0F8"
             },
             "line": {
              "color": "white"
             }
            },
            "header": {
             "fill": {
              "color": "#C8D4E3"
             },
             "line": {
              "color": "white"
             }
            },
            "type": "table"
           }
          ]
         },
         "layout": {
          "annotationdefaults": {
           "arrowcolor": "#2a3f5f",
           "arrowhead": 0,
           "arrowwidth": 1
          },
          "autotypenumbers": "strict",
          "coloraxis": {
           "colorbar": {
            "outlinewidth": 0,
            "ticks": ""
           }
          },
          "colorscale": {
           "diverging": [
            [
             0,
             "#8e0152"
            ],
            [
             0.1,
             "#c51b7d"
            ],
            [
             0.2,
             "#de77ae"
            ],
            [
             0.3,
             "#f1b6da"
            ],
            [
             0.4,
             "#fde0ef"
            ],
            [
             0.5,
             "#f7f7f7"
            ],
            [
             0.6,
             "#e6f5d0"
            ],
            [
             0.7,
             "#b8e186"
            ],
            [
             0.8,
             "#7fbc41"
            ],
            [
             0.9,
             "#4d9221"
            ],
            [
             1,
             "#276419"
            ]
           ],
           "sequential": [
            [
             0,
             "#0d0887"
            ],
            [
             0.1111111111111111,
             "#46039f"
            ],
            [
             0.2222222222222222,
             "#7201a8"
            ],
            [
             0.3333333333333333,
             "#9c179e"
            ],
            [
             0.4444444444444444,
             "#bd3786"
            ],
            [
             0.5555555555555556,
             "#d8576b"
            ],
            [
             0.6666666666666666,
             "#ed7953"
            ],
            [
             0.7777777777777778,
             "#fb9f3a"
            ],
            [
             0.8888888888888888,
             "#fdca26"
            ],
            [
             1,
             "#f0f921"
            ]
           ],
           "sequentialminus": [
            [
             0,
             "#0d0887"
            ],
            [
             0.1111111111111111,
             "#46039f"
            ],
            [
             0.2222222222222222,
             "#7201a8"
            ],
            [
             0.3333333333333333,
             "#9c179e"
            ],
            [
             0.4444444444444444,
             "#bd3786"
            ],
            [
             0.5555555555555556,
             "#d8576b"
            ],
            [
             0.6666666666666666,
             "#ed7953"
            ],
            [
             0.7777777777777778,
             "#fb9f3a"
            ],
            [
             0.8888888888888888,
             "#fdca26"
            ],
            [
             1,
             "#f0f921"
            ]
           ]
          },
          "colorway": [
           "#636efa",
           "#EF553B",
           "#00cc96",
           "#ab63fa",
           "#FFA15A",
           "#19d3f3",
           "#FF6692",
           "#B6E880",
           "#FF97FF",
           "#FECB52"
          ],
          "font": {
           "color": "#2a3f5f"
          },
          "geo": {
           "bgcolor": "white",
           "lakecolor": "white",
           "landcolor": "#E5ECF6",
           "showlakes": true,
           "showland": true,
           "subunitcolor": "white"
          },
          "hoverlabel": {
           "align": "left"
          },
          "hovermode": "closest",
          "mapbox": {
           "style": "light"
          },
          "paper_bgcolor": "white",
          "plot_bgcolor": "#E5ECF6",
          "polar": {
           "angularaxis": {
            "gridcolor": "white",
            "linecolor": "white",
            "ticks": ""
           },
           "bgcolor": "#E5ECF6",
           "radialaxis": {
            "gridcolor": "white",
            "linecolor": "white",
            "ticks": ""
           }
          },
          "scene": {
           "xaxis": {
            "backgroundcolor": "#E5ECF6",
            "gridcolor": "white",
            "gridwidth": 2,
            "linecolor": "white",
            "showbackground": true,
            "ticks": "",
            "zerolinecolor": "white"
           },
           "yaxis": {
            "backgroundcolor": "#E5ECF6",
            "gridcolor": "white",
            "gridwidth": 2,
            "linecolor": "white",
            "showbackground": true,
            "ticks": "",
            "zerolinecolor": "white"
           },
           "zaxis": {
            "backgroundcolor": "#E5ECF6",
            "gridcolor": "white",
            "gridwidth": 2,
            "linecolor": "white",
            "showbackground": true,
            "ticks": "",
            "zerolinecolor": "white"
           }
          },
          "shapedefaults": {
           "line": {
            "color": "#2a3f5f"
           }
          },
          "ternary": {
           "aaxis": {
            "gridcolor": "white",
            "linecolor": "white",
            "ticks": ""
           },
           "baxis": {
            "gridcolor": "white",
            "linecolor": "white",
            "ticks": ""
           },
           "bgcolor": "#E5ECF6",
           "caxis": {
            "gridcolor": "white",
            "linecolor": "white",
            "ticks": ""
           }
          },
          "title": {
           "x": 0.05
          },
          "xaxis": {
           "automargin": true,
           "gridcolor": "white",
           "linecolor": "white",
           "ticks": "",
           "title": {
            "standoff": 15
           },
           "zerolinecolor": "white",
           "zerolinewidth": 2
          },
          "yaxis": {
           "automargin": true,
           "gridcolor": "white",
           "linecolor": "white",
           "ticks": "",
           "title": {
            "standoff": 15
           },
           "zerolinecolor": "white",
           "zerolinewidth": 2
          }
         }
        },
        "title": {
         "text": ""
        },
        "updatemenus": [
         {
          "buttons": [
           {
            "args": [
             null,
             {
              "frame": {
               "duration": 300,
               "redraw": true
              },
              "fromcurrent": true
             }
            ],
            "label": "Play",
            "method": "animate"
           },
           {
            "args": [
             [
              null
             ],
             {
              "frame": {
               "duration": 0,
               "redraw": true
              },
              "mode": "immediate"
             }
            ],
            "label": "Pause",
            "method": "animate"
           }
          ],
          "direction": "left",
          "pad": {
           "r": 10,
           "t": 87
          },
          "showactive": false,
          "type": "buttons",
          "x": 0.1,
          "xanchor": "right",
          "y": 0,
          "yanchor": "top"
         }
        ],
        "width": 800
       }
      }
     },
     "metadata": {},
     "output_type": "display_data"
    }
   ],
   "source": [
    "options = {\n",
    "    'title': '',\n",
    "    'time_range': range(2002, 2018),\n",
    "    'time_label': 'year',\n",
    "    'location_label': 'location',\n",
    "    'value_label': 'count',\n",
    "    'range_color': [1, 4],\n",
    "    'color_scale': 'Viridis'\n",
    "}\n",
    "plot_map_time(df_states_no_US, df_states_US, options)"
   ]
  },
  {
   "cell_type": "code",
   "execution_count": 8,
   "metadata": {},
   "outputs": [
    {
     "data": {
      "application/vnd.plotly.v1+json": {
       "config": {
        "plotlyServerURL": "https://plot.ly"
       },
       "data": [
        {
         "marker": {
          "size": 4
         },
         "mode": "lines+markers",
         "name": "Oklahoma",
         "type": "scatter",
         "x": [
          2001,
          2002,
          2003,
          2004,
          2005,
          2006,
          2007,
          2008,
          2009,
          2010,
          2011,
          2012,
          2013,
          2014,
          2015,
          2016,
          2017
         ],
         "y": [
          3.4,
          2.733333333333333,
          2.6550000000000002,
          2.8338235294117644,
          2.7363636363636363,
          2.6014285714285714,
          2.5441379310344825,
          2.808835341365462,
          2.9216014897579146,
          3.087360594795539,
          3.1939550949913644,
          3.242060810810811,
          3.68765015015015,
          3.725006270378731,
          3.7551368421052636,
          3.800233713117149,
          3.82828535669587
         ]
        },
        {
         "marker": {
          "size": 4
         },
         "mode": "lines+markers",
         "name": "Alaska",
         "type": "scatter",
         "x": [
          2000,
          2001,
          2002,
          2003,
          2004,
          2005,
          2006,
          2007,
          2008,
          2009,
          2010,
          2011,
          2012,
          2013,
          2014,
          2015,
          2016,
          2017
         ],
         "y": [
          3.875,
          3.77,
          3.5677083333333335,
          3.5652073732718894,
          3.5875852660300134,
          3.556486796785304,
          3.601707317073171,
          3.5622483221476506,
          3.6310066476733143,
          3.631574923547401,
          3.642620232172471,
          3.640596627756161,
          3.666069295101553,
          3.6572773742265268,
          3.6368805107935547,
          3.6258767449778686,
          3.5915458937198066,
          3.6389078498293514
         ]
        },
        {
         "marker": {
          "size": 4
         },
         "mode": "lines+markers",
         "name": "California",
         "type": "scatter",
         "x": [
          2000,
          2001,
          2002,
          2003,
          2004,
          2005,
          2006,
          2007,
          2008,
          2009,
          2010,
          2011,
          2012,
          2013,
          2014,
          2015,
          2016,
          2017
         ],
         "y": [
          3.924137931034483,
          3.433577981651376,
          3.5555343915343918,
          3.5125210410462255,
          3.5220692000340046,
          3.51502350616611,
          3.5164158334192352,
          3.536476148379858,
          3.595501834309806,
          3.5923764325743424,
          3.615808297567954,
          3.602398738379814,
          3.626984876112839,
          3.623814506118106,
          3.6273785812777692,
          3.6364372123265403,
          3.632734054589167,
          3.6630826854678795
         ]
        },
        {
         "marker": {
          "size": 4
         },
         "mode": "lines+markers",
         "name": "Ohio",
         "type": "scatter",
         "x": [
          2000,
          2001,
          2002,
          2003,
          2004,
          2005,
          2006,
          2007,
          2008,
          2009,
          2010,
          2011,
          2012,
          2013,
          2014,
          2015,
          2016,
          2017
         ],
         "y": [
          3.1,
          3.491970802919708,
          3.491361256544503,
          3.5160526315789475,
          3.520896464646465,
          3.531164021164021,
          3.592783911671924,
          3.5897805364664155,
          3.5250964374858182,
          3.517346720786157,
          3.5291516053582814,
          3.5199740034662046,
          3.5751946607341494,
          3.5868653551655085,
          3.5819766081871345,
          3.543311688311688,
          3.5554552215021777,
          3.6112323612417687
         ]
        },
        {
         "marker": {
          "size": 4
         },
         "mode": "lines+markers",
         "name": "Illinois",
         "type": "scatter",
         "x": [
          2000,
          2001,
          2002,
          2003,
          2004,
          2005,
          2006,
          2007,
          2008,
          2009,
          2010,
          2011,
          2012,
          2013,
          2014,
          2015,
          2016,
          2017
         ],
         "y": [
          3.8777777777777778,
          3.4939655172413793,
          3.364056224899598,
          3.3678848283499443,
          3.353107344632768,
          3.352753840389659,
          3.4448070285534986,
          3.4258705184420943,
          3.4442669172932328,
          3.491656365883807,
          3.597181713911191,
          3.5570311446676555,
          3.603542808941375,
          3.600847635726795,
          3.592552874590408,
          3.5607976182233605,
          3.560811164413432,
          3.5609699385484137
         ]
        }
       ],
       "layout": {
        "height": 600,
        "template": {
         "data": {
          "bar": [
           {
            "error_x": {
             "color": "#2a3f5f"
            },
            "error_y": {
             "color": "#2a3f5f"
            },
            "marker": {
             "line": {
              "color": "#E5ECF6",
              "width": 0.5
             },
             "pattern": {
              "fillmode": "overlay",
              "size": 10,
              "solidity": 0.2
             }
            },
            "type": "bar"
           }
          ],
          "barpolar": [
           {
            "marker": {
             "line": {
              "color": "#E5ECF6",
              "width": 0.5
             },
             "pattern": {
              "fillmode": "overlay",
              "size": 10,
              "solidity": 0.2
             }
            },
            "type": "barpolar"
           }
          ],
          "carpet": [
           {
            "aaxis": {
             "endlinecolor": "#2a3f5f",
             "gridcolor": "white",
             "linecolor": "white",
             "minorgridcolor": "white",
             "startlinecolor": "#2a3f5f"
            },
            "baxis": {
             "endlinecolor": "#2a3f5f",
             "gridcolor": "white",
             "linecolor": "white",
             "minorgridcolor": "white",
             "startlinecolor": "#2a3f5f"
            },
            "type": "carpet"
           }
          ],
          "choropleth": [
           {
            "colorbar": {
             "outlinewidth": 0,
             "ticks": ""
            },
            "type": "choropleth"
           }
          ],
          "contour": [
           {
            "colorbar": {
             "outlinewidth": 0,
             "ticks": ""
            },
            "colorscale": [
             [
              0,
              "#0d0887"
             ],
             [
              0.1111111111111111,
              "#46039f"
             ],
             [
              0.2222222222222222,
              "#7201a8"
             ],
             [
              0.3333333333333333,
              "#9c179e"
             ],
             [
              0.4444444444444444,
              "#bd3786"
             ],
             [
              0.5555555555555556,
              "#d8576b"
             ],
             [
              0.6666666666666666,
              "#ed7953"
             ],
             [
              0.7777777777777778,
              "#fb9f3a"
             ],
             [
              0.8888888888888888,
              "#fdca26"
             ],
             [
              1,
              "#f0f921"
             ]
            ],
            "type": "contour"
           }
          ],
          "contourcarpet": [
           {
            "colorbar": {
             "outlinewidth": 0,
             "ticks": ""
            },
            "type": "contourcarpet"
           }
          ],
          "heatmap": [
           {
            "colorbar": {
             "outlinewidth": 0,
             "ticks": ""
            },
            "colorscale": [
             [
              0,
              "#0d0887"
             ],
             [
              0.1111111111111111,
              "#46039f"
             ],
             [
              0.2222222222222222,
              "#7201a8"
             ],
             [
              0.3333333333333333,
              "#9c179e"
             ],
             [
              0.4444444444444444,
              "#bd3786"
             ],
             [
              0.5555555555555556,
              "#d8576b"
             ],
             [
              0.6666666666666666,
              "#ed7953"
             ],
             [
              0.7777777777777778,
              "#fb9f3a"
             ],
             [
              0.8888888888888888,
              "#fdca26"
             ],
             [
              1,
              "#f0f921"
             ]
            ],
            "type": "heatmap"
           }
          ],
          "heatmapgl": [
           {
            "colorbar": {
             "outlinewidth": 0,
             "ticks": ""
            },
            "colorscale": [
             [
              0,
              "#0d0887"
             ],
             [
              0.1111111111111111,
              "#46039f"
             ],
             [
              0.2222222222222222,
              "#7201a8"
             ],
             [
              0.3333333333333333,
              "#9c179e"
             ],
             [
              0.4444444444444444,
              "#bd3786"
             ],
             [
              0.5555555555555556,
              "#d8576b"
             ],
             [
              0.6666666666666666,
              "#ed7953"
             ],
             [
              0.7777777777777778,
              "#fb9f3a"
             ],
             [
              0.8888888888888888,
              "#fdca26"
             ],
             [
              1,
              "#f0f921"
             ]
            ],
            "type": "heatmapgl"
           }
          ],
          "histogram": [
           {
            "marker": {
             "pattern": {
              "fillmode": "overlay",
              "size": 10,
              "solidity": 0.2
             }
            },
            "type": "histogram"
           }
          ],
          "histogram2d": [
           {
            "colorbar": {
             "outlinewidth": 0,
             "ticks": ""
            },
            "colorscale": [
             [
              0,
              "#0d0887"
             ],
             [
              0.1111111111111111,
              "#46039f"
             ],
             [
              0.2222222222222222,
              "#7201a8"
             ],
             [
              0.3333333333333333,
              "#9c179e"
             ],
             [
              0.4444444444444444,
              "#bd3786"
             ],
             [
              0.5555555555555556,
              "#d8576b"
             ],
             [
              0.6666666666666666,
              "#ed7953"
             ],
             [
              0.7777777777777778,
              "#fb9f3a"
             ],
             [
              0.8888888888888888,
              "#fdca26"
             ],
             [
              1,
              "#f0f921"
             ]
            ],
            "type": "histogram2d"
           }
          ],
          "histogram2dcontour": [
           {
            "colorbar": {
             "outlinewidth": 0,
             "ticks": ""
            },
            "colorscale": [
             [
              0,
              "#0d0887"
             ],
             [
              0.1111111111111111,
              "#46039f"
             ],
             [
              0.2222222222222222,
              "#7201a8"
             ],
             [
              0.3333333333333333,
              "#9c179e"
             ],
             [
              0.4444444444444444,
              "#bd3786"
             ],
             [
              0.5555555555555556,
              "#d8576b"
             ],
             [
              0.6666666666666666,
              "#ed7953"
             ],
             [
              0.7777777777777778,
              "#fb9f3a"
             ],
             [
              0.8888888888888888,
              "#fdca26"
             ],
             [
              1,
              "#f0f921"
             ]
            ],
            "type": "histogram2dcontour"
           }
          ],
          "mesh3d": [
           {
            "colorbar": {
             "outlinewidth": 0,
             "ticks": ""
            },
            "type": "mesh3d"
           }
          ],
          "parcoords": [
           {
            "line": {
             "colorbar": {
              "outlinewidth": 0,
              "ticks": ""
             }
            },
            "type": "parcoords"
           }
          ],
          "pie": [
           {
            "automargin": true,
            "type": "pie"
           }
          ],
          "scatter": [
           {
            "fillpattern": {
             "fillmode": "overlay",
             "size": 10,
             "solidity": 0.2
            },
            "type": "scatter"
           }
          ],
          "scatter3d": [
           {
            "line": {
             "colorbar": {
              "outlinewidth": 0,
              "ticks": ""
             }
            },
            "marker": {
             "colorbar": {
              "outlinewidth": 0,
              "ticks": ""
             }
            },
            "type": "scatter3d"
           }
          ],
          "scattercarpet": [
           {
            "marker": {
             "colorbar": {
              "outlinewidth": 0,
              "ticks": ""
             }
            },
            "type": "scattercarpet"
           }
          ],
          "scattergeo": [
           {
            "marker": {
             "colorbar": {
              "outlinewidth": 0,
              "ticks": ""
             }
            },
            "type": "scattergeo"
           }
          ],
          "scattergl": [
           {
            "marker": {
             "colorbar": {
              "outlinewidth": 0,
              "ticks": ""
             }
            },
            "type": "scattergl"
           }
          ],
          "scattermapbox": [
           {
            "marker": {
             "colorbar": {
              "outlinewidth": 0,
              "ticks": ""
             }
            },
            "type": "scattermapbox"
           }
          ],
          "scatterpolar": [
           {
            "marker": {
             "colorbar": {
              "outlinewidth": 0,
              "ticks": ""
             }
            },
            "type": "scatterpolar"
           }
          ],
          "scatterpolargl": [
           {
            "marker": {
             "colorbar": {
              "outlinewidth": 0,
              "ticks": ""
             }
            },
            "type": "scatterpolargl"
           }
          ],
          "scatterternary": [
           {
            "marker": {
             "colorbar": {
              "outlinewidth": 0,
              "ticks": ""
             }
            },
            "type": "scatterternary"
           }
          ],
          "surface": [
           {
            "colorbar": {
             "outlinewidth": 0,
             "ticks": ""
            },
            "colorscale": [
             [
              0,
              "#0d0887"
             ],
             [
              0.1111111111111111,
              "#46039f"
             ],
             [
              0.2222222222222222,
              "#7201a8"
             ],
             [
              0.3333333333333333,
              "#9c179e"
             ],
             [
              0.4444444444444444,
              "#bd3786"
             ],
             [
              0.5555555555555556,
              "#d8576b"
             ],
             [
              0.6666666666666666,
              "#ed7953"
             ],
             [
              0.7777777777777778,
              "#fb9f3a"
             ],
             [
              0.8888888888888888,
              "#fdca26"
             ],
             [
              1,
              "#f0f921"
             ]
            ],
            "type": "surface"
           }
          ],
          "table": [
           {
            "cells": {
             "fill": {
              "color": "#EBF0F8"
             },
             "line": {
              "color": "white"
             }
            },
            "header": {
             "fill": {
              "color": "#C8D4E3"
             },
             "line": {
              "color": "white"
             }
            },
            "type": "table"
           }
          ]
         },
         "layout": {
          "annotationdefaults": {
           "arrowcolor": "#2a3f5f",
           "arrowhead": 0,
           "arrowwidth": 1
          },
          "autotypenumbers": "strict",
          "coloraxis": {
           "colorbar": {
            "outlinewidth": 0,
            "ticks": ""
           }
          },
          "colorscale": {
           "diverging": [
            [
             0,
             "#8e0152"
            ],
            [
             0.1,
             "#c51b7d"
            ],
            [
             0.2,
             "#de77ae"
            ],
            [
             0.3,
             "#f1b6da"
            ],
            [
             0.4,
             "#fde0ef"
            ],
            [
             0.5,
             "#f7f7f7"
            ],
            [
             0.6,
             "#e6f5d0"
            ],
            [
             0.7,
             "#b8e186"
            ],
            [
             0.8,
             "#7fbc41"
            ],
            [
             0.9,
             "#4d9221"
            ],
            [
             1,
             "#276419"
            ]
           ],
           "sequential": [
            [
             0,
             "#0d0887"
            ],
            [
             0.1111111111111111,
             "#46039f"
            ],
            [
             0.2222222222222222,
             "#7201a8"
            ],
            [
             0.3333333333333333,
             "#9c179e"
            ],
            [
             0.4444444444444444,
             "#bd3786"
            ],
            [
             0.5555555555555556,
             "#d8576b"
            ],
            [
             0.6666666666666666,
             "#ed7953"
            ],
            [
             0.7777777777777778,
             "#fb9f3a"
            ],
            [
             0.8888888888888888,
             "#fdca26"
            ],
            [
             1,
             "#f0f921"
            ]
           ],
           "sequentialminus": [
            [
             0,
             "#0d0887"
            ],
            [
             0.1111111111111111,
             "#46039f"
            ],
            [
             0.2222222222222222,
             "#7201a8"
            ],
            [
             0.3333333333333333,
             "#9c179e"
            ],
            [
             0.4444444444444444,
             "#bd3786"
            ],
            [
             0.5555555555555556,
             "#d8576b"
            ],
            [
             0.6666666666666666,
             "#ed7953"
            ],
            [
             0.7777777777777778,
             "#fb9f3a"
            ],
            [
             0.8888888888888888,
             "#fdca26"
            ],
            [
             1,
             "#f0f921"
            ]
           ]
          },
          "colorway": [
           "#636efa",
           "#EF553B",
           "#00cc96",
           "#ab63fa",
           "#FFA15A",
           "#19d3f3",
           "#FF6692",
           "#B6E880",
           "#FF97FF",
           "#FECB52"
          ],
          "font": {
           "color": "#2a3f5f"
          },
          "geo": {
           "bgcolor": "white",
           "lakecolor": "white",
           "landcolor": "#E5ECF6",
           "showlakes": true,
           "showland": true,
           "subunitcolor": "white"
          },
          "hoverlabel": {
           "align": "left"
          },
          "hovermode": "closest",
          "mapbox": {
           "style": "light"
          },
          "paper_bgcolor": "white",
          "plot_bgcolor": "#E5ECF6",
          "polar": {
           "angularaxis": {
            "gridcolor": "white",
            "linecolor": "white",
            "ticks": ""
           },
           "bgcolor": "#E5ECF6",
           "radialaxis": {
            "gridcolor": "white",
            "linecolor": "white",
            "ticks": ""
           }
          },
          "scene": {
           "xaxis": {
            "backgroundcolor": "#E5ECF6",
            "gridcolor": "white",
            "gridwidth": 2,
            "linecolor": "white",
            "showbackground": true,
            "ticks": "",
            "zerolinecolor": "white"
           },
           "yaxis": {
            "backgroundcolor": "#E5ECF6",
            "gridcolor": "white",
            "gridwidth": 2,
            "linecolor": "white",
            "showbackground": true,
            "ticks": "",
            "zerolinecolor": "white"
           },
           "zaxis": {
            "backgroundcolor": "#E5ECF6",
            "gridcolor": "white",
            "gridwidth": 2,
            "linecolor": "white",
            "showbackground": true,
            "ticks": "",
            "zerolinecolor": "white"
           }
          },
          "shapedefaults": {
           "line": {
            "color": "#2a3f5f"
           }
          },
          "ternary": {
           "aaxis": {
            "gridcolor": "white",
            "linecolor": "white",
            "ticks": ""
           },
           "baxis": {
            "gridcolor": "white",
            "linecolor": "white",
            "ticks": ""
           },
           "bgcolor": "#E5ECF6",
           "caxis": {
            "gridcolor": "white",
            "linecolor": "white",
            "ticks": ""
           }
          },
          "title": {
           "x": 0.05
          },
          "xaxis": {
           "automargin": true,
           "gridcolor": "white",
           "linecolor": "white",
           "ticks": "",
           "title": {
            "standoff": 15
           },
           "zerolinecolor": "white",
           "zerolinewidth": 2
          },
          "yaxis": {
           "automargin": true,
           "gridcolor": "white",
           "linecolor": "white",
           "ticks": "",
           "title": {
            "standoff": 15
           },
           "zerolinecolor": "white",
           "zerolinewidth": 2
          }
         }
        },
        "title": {
         "text": "Average rating per year for the top 5 US states"
        },
        "width": 800,
        "xaxis": {
         "dtick": 2,
         "tick0": 2002,
         "tickmode": "linear",
         "title": {
          "text": "Year"
         }
        },
        "yaxis": {
         "title": {
          "text": "Average rating"
         }
        }
       }
      }
     },
     "metadata": {},
     "output_type": "display_data"
    }
   ],
   "source": [
    "obj = {}\n",
    "for state in average_rating_US.sort_values('count', ascending=False).head(5)['location']:\n",
    "    filtered = df_ratings_no_text[df_ratings_no_text['state_brewery'] == state].groupby('year').agg({'rating': 'mean'}).reset_index()\n",
    "    obj[state] = filtered\n",
    "obj_combined = obj\n",
    "plots_values_over_time(obj, 'year', 'rating', 'Year', 'Average rating', 'Average rating per year for the top 5 US states')"
   ]
  },
  {
   "cell_type": "code",
   "execution_count": 9,
   "metadata": {},
   "outputs": [
    {
     "data": {
      "application/vnd.plotly.v1+json": {
       "config": {
        "plotlyServerURL": "https://plot.ly"
       },
       "data": [
        {
         "marker": {
          "size": 4
         },
         "mode": "lines+markers",
         "name": "Belgium",
         "type": "scatter",
         "x": [
          2000,
          2001,
          2002,
          2003,
          2004,
          2005,
          2006,
          2007,
          2008,
          2009,
          2010,
          2011,
          2012,
          2013,
          2014,
          2015,
          2016,
          2017
         ],
         "y": [
          3.7410810810810813,
          3.718863503222027,
          3.571307765602668,
          3.5704034863626117,
          3.518376981563385,
          3.4636757888440255,
          3.508536378731912,
          3.500770936208808,
          3.507256608490348,
          3.490349245711924,
          3.4958936817800166,
          3.4847773890375247,
          3.520745116722249,
          3.5143509994739612,
          3.47865042426782,
          3.4866542974789643,
          3.5259536822095083,
          3.5461602810774635
         ]
        },
        {
         "marker": {
          "size": 4
         },
         "mode": "lines+markers",
         "name": "Norway",
         "type": "scatter",
         "x": [
          2000,
          2001,
          2002,
          2003,
          2004,
          2005,
          2006,
          2007,
          2008,
          2009,
          2010,
          2011,
          2012,
          2013,
          2014,
          2015,
          2016,
          2017
         ],
         "y": [
          2.590909090909091,
          2.7196078431372546,
          2.8857142857142857,
          2.7817757009345794,
          2.9265714285714286,
          2.9148003894839336,
          2.806837961044343,
          3.269745222929936,
          3.313899253731343,
          3.4344282452134203,
          3.481336270190896,
          3.380928931169558,
          3.4160536731344724,
          3.426549855223105,
          3.3107932182864066,
          3.3279365673387287,
          3.3073388100572565,
          3.3660448414783675
         ]
        },
        {
         "marker": {
          "size": 4
         },
         "mode": "lines+markers",
         "name": "Sri Lanka",
         "type": "scatter",
         "x": [
          2000,
          2001,
          2002,
          2003,
          2004,
          2005,
          2006,
          2007,
          2008,
          2009,
          2010,
          2011,
          2012,
          2013,
          2014,
          2015,
          2016,
          2017
         ],
         "y": [
          4.2,
          3.7333333333333334,
          3.389655172413793,
          3.4076923076923076,
          3.4503311258278146,
          3.657142857142857,
          3.4758196721311476,
          3.452140077821012,
          3.4945454545454546,
          3.3686635944700463,
          3.3944444444444444,
          3.2082278481012656,
          3.2640776699029126,
          3.0598425196850396,
          3.2259067357512956,
          3.201282051282051,
          2.812727272727273,
          3.1456140350877195
         ]
        },
        {
         "marker": {
          "size": 4
         },
         "mode": "lines+markers",
         "name": "New Zealand",
         "type": "scatter",
         "x": [
          2000,
          2001,
          2002,
          2003,
          2004,
          2005,
          2006,
          2007,
          2008,
          2009,
          2010,
          2011,
          2012,
          2013,
          2014,
          2015,
          2016,
          2017
         ],
         "y": [
          2.8,
          3.217142857142857,
          3.0471590909090907,
          2.672062084257206,
          2.6471311475409838,
          2.9000000000000004,
          2.8657142857142857,
          2.845667870036101,
          2.926874043855176,
          3.051637666325486,
          3.1447368421052633,
          3.3726883255980007,
          3.4076326914044155,
          3.433892235064301,
          3.458617511520737,
          3.463278092158448,
          3.4638126009693058,
          3.4914400494437574
         ]
        },
        {
         "marker": {
          "size": 4
         },
         "mode": "lines+markers",
         "name": "United Kingdom",
         "type": "scatter",
         "x": [
          2000,
          2001,
          2002,
          2003,
          2004,
          2005,
          2006,
          2007,
          2008,
          2009,
          2010,
          2011,
          2012,
          2013,
          2014,
          2015,
          2016,
          2017
         ],
         "y": [
          3.679296875,
          3.5170411985018726,
          3.3728956428825834,
          3.256054494253749,
          3.2070614921840326,
          3.1622904076942717,
          3.1746680182463254,
          3.1653877482234645,
          3.181109073254936,
          3.171664943123061,
          3.2074832600229737,
          3.207809106141785,
          3.2584054266614233,
          3.2767851113015922,
          3.3033031816294076,
          3.320821277428257,
          3.3541253396363957,
          3.375284273037082
         ]
        }
       ],
       "layout": {
        "height": 600,
        "template": {
         "data": {
          "bar": [
           {
            "error_x": {
             "color": "#2a3f5f"
            },
            "error_y": {
             "color": "#2a3f5f"
            },
            "marker": {
             "line": {
              "color": "#E5ECF6",
              "width": 0.5
             },
             "pattern": {
              "fillmode": "overlay",
              "size": 10,
              "solidity": 0.2
             }
            },
            "type": "bar"
           }
          ],
          "barpolar": [
           {
            "marker": {
             "line": {
              "color": "#E5ECF6",
              "width": 0.5
             },
             "pattern": {
              "fillmode": "overlay",
              "size": 10,
              "solidity": 0.2
             }
            },
            "type": "barpolar"
           }
          ],
          "carpet": [
           {
            "aaxis": {
             "endlinecolor": "#2a3f5f",
             "gridcolor": "white",
             "linecolor": "white",
             "minorgridcolor": "white",
             "startlinecolor": "#2a3f5f"
            },
            "baxis": {
             "endlinecolor": "#2a3f5f",
             "gridcolor": "white",
             "linecolor": "white",
             "minorgridcolor": "white",
             "startlinecolor": "#2a3f5f"
            },
            "type": "carpet"
           }
          ],
          "choropleth": [
           {
            "colorbar": {
             "outlinewidth": 0,
             "ticks": ""
            },
            "type": "choropleth"
           }
          ],
          "contour": [
           {
            "colorbar": {
             "outlinewidth": 0,
             "ticks": ""
            },
            "colorscale": [
             [
              0,
              "#0d0887"
             ],
             [
              0.1111111111111111,
              "#46039f"
             ],
             [
              0.2222222222222222,
              "#7201a8"
             ],
             [
              0.3333333333333333,
              "#9c179e"
             ],
             [
              0.4444444444444444,
              "#bd3786"
             ],
             [
              0.5555555555555556,
              "#d8576b"
             ],
             [
              0.6666666666666666,
              "#ed7953"
             ],
             [
              0.7777777777777778,
              "#fb9f3a"
             ],
             [
              0.8888888888888888,
              "#fdca26"
             ],
             [
              1,
              "#f0f921"
             ]
            ],
            "type": "contour"
           }
          ],
          "contourcarpet": [
           {
            "colorbar": {
             "outlinewidth": 0,
             "ticks": ""
            },
            "type": "contourcarpet"
           }
          ],
          "heatmap": [
           {
            "colorbar": {
             "outlinewidth": 0,
             "ticks": ""
            },
            "colorscale": [
             [
              0,
              "#0d0887"
             ],
             [
              0.1111111111111111,
              "#46039f"
             ],
             [
              0.2222222222222222,
              "#7201a8"
             ],
             [
              0.3333333333333333,
              "#9c179e"
             ],
             [
              0.4444444444444444,
              "#bd3786"
             ],
             [
              0.5555555555555556,
              "#d8576b"
             ],
             [
              0.6666666666666666,
              "#ed7953"
             ],
             [
              0.7777777777777778,
              "#fb9f3a"
             ],
             [
              0.8888888888888888,
              "#fdca26"
             ],
             [
              1,
              "#f0f921"
             ]
            ],
            "type": "heatmap"
           }
          ],
          "heatmapgl": [
           {
            "colorbar": {
             "outlinewidth": 0,
             "ticks": ""
            },
            "colorscale": [
             [
              0,
              "#0d0887"
             ],
             [
              0.1111111111111111,
              "#46039f"
             ],
             [
              0.2222222222222222,
              "#7201a8"
             ],
             [
              0.3333333333333333,
              "#9c179e"
             ],
             [
              0.4444444444444444,
              "#bd3786"
             ],
             [
              0.5555555555555556,
              "#d8576b"
             ],
             [
              0.6666666666666666,
              "#ed7953"
             ],
             [
              0.7777777777777778,
              "#fb9f3a"
             ],
             [
              0.8888888888888888,
              "#fdca26"
             ],
             [
              1,
              "#f0f921"
             ]
            ],
            "type": "heatmapgl"
           }
          ],
          "histogram": [
           {
            "marker": {
             "pattern": {
              "fillmode": "overlay",
              "size": 10,
              "solidity": 0.2
             }
            },
            "type": "histogram"
           }
          ],
          "histogram2d": [
           {
            "colorbar": {
             "outlinewidth": 0,
             "ticks": ""
            },
            "colorscale": [
             [
              0,
              "#0d0887"
             ],
             [
              0.1111111111111111,
              "#46039f"
             ],
             [
              0.2222222222222222,
              "#7201a8"
             ],
             [
              0.3333333333333333,
              "#9c179e"
             ],
             [
              0.4444444444444444,
              "#bd3786"
             ],
             [
              0.5555555555555556,
              "#d8576b"
             ],
             [
              0.6666666666666666,
              "#ed7953"
             ],
             [
              0.7777777777777778,
              "#fb9f3a"
             ],
             [
              0.8888888888888888,
              "#fdca26"
             ],
             [
              1,
              "#f0f921"
             ]
            ],
            "type": "histogram2d"
           }
          ],
          "histogram2dcontour": [
           {
            "colorbar": {
             "outlinewidth": 0,
             "ticks": ""
            },
            "colorscale": [
             [
              0,
              "#0d0887"
             ],
             [
              0.1111111111111111,
              "#46039f"
             ],
             [
              0.2222222222222222,
              "#7201a8"
             ],
             [
              0.3333333333333333,
              "#9c179e"
             ],
             [
              0.4444444444444444,
              "#bd3786"
             ],
             [
              0.5555555555555556,
              "#d8576b"
             ],
             [
              0.6666666666666666,
              "#ed7953"
             ],
             [
              0.7777777777777778,
              "#fb9f3a"
             ],
             [
              0.8888888888888888,
              "#fdca26"
             ],
             [
              1,
              "#f0f921"
             ]
            ],
            "type": "histogram2dcontour"
           }
          ],
          "mesh3d": [
           {
            "colorbar": {
             "outlinewidth": 0,
             "ticks": ""
            },
            "type": "mesh3d"
           }
          ],
          "parcoords": [
           {
            "line": {
             "colorbar": {
              "outlinewidth": 0,
              "ticks": ""
             }
            },
            "type": "parcoords"
           }
          ],
          "pie": [
           {
            "automargin": true,
            "type": "pie"
           }
          ],
          "scatter": [
           {
            "fillpattern": {
             "fillmode": "overlay",
             "size": 10,
             "solidity": 0.2
            },
            "type": "scatter"
           }
          ],
          "scatter3d": [
           {
            "line": {
             "colorbar": {
              "outlinewidth": 0,
              "ticks": ""
             }
            },
            "marker": {
             "colorbar": {
              "outlinewidth": 0,
              "ticks": ""
             }
            },
            "type": "scatter3d"
           }
          ],
          "scattercarpet": [
           {
            "marker": {
             "colorbar": {
              "outlinewidth": 0,
              "ticks": ""
             }
            },
            "type": "scattercarpet"
           }
          ],
          "scattergeo": [
           {
            "marker": {
             "colorbar": {
              "outlinewidth": 0,
              "ticks": ""
             }
            },
            "type": "scattergeo"
           }
          ],
          "scattergl": [
           {
            "marker": {
             "colorbar": {
              "outlinewidth": 0,
              "ticks": ""
             }
            },
            "type": "scattergl"
           }
          ],
          "scattermapbox": [
           {
            "marker": {
             "colorbar": {
              "outlinewidth": 0,
              "ticks": ""
             }
            },
            "type": "scattermapbox"
           }
          ],
          "scatterpolar": [
           {
            "marker": {
             "colorbar": {
              "outlinewidth": 0,
              "ticks": ""
             }
            },
            "type": "scatterpolar"
           }
          ],
          "scatterpolargl": [
           {
            "marker": {
             "colorbar": {
              "outlinewidth": 0,
              "ticks": ""
             }
            },
            "type": "scatterpolargl"
           }
          ],
          "scatterternary": [
           {
            "marker": {
             "colorbar": {
              "outlinewidth": 0,
              "ticks": ""
             }
            },
            "type": "scatterternary"
           }
          ],
          "surface": [
           {
            "colorbar": {
             "outlinewidth": 0,
             "ticks": ""
            },
            "colorscale": [
             [
              0,
              "#0d0887"
             ],
             [
              0.1111111111111111,
              "#46039f"
             ],
             [
              0.2222222222222222,
              "#7201a8"
             ],
             [
              0.3333333333333333,
              "#9c179e"
             ],
             [
              0.4444444444444444,
              "#bd3786"
             ],
             [
              0.5555555555555556,
              "#d8576b"
             ],
             [
              0.6666666666666666,
              "#ed7953"
             ],
             [
              0.7777777777777778,
              "#fb9f3a"
             ],
             [
              0.8888888888888888,
              "#fdca26"
             ],
             [
              1,
              "#f0f921"
             ]
            ],
            "type": "surface"
           }
          ],
          "table": [
           {
            "cells": {
             "fill": {
              "color": "#EBF0F8"
             },
             "line": {
              "color": "white"
             }
            },
            "header": {
             "fill": {
              "color": "#C8D4E3"
             },
             "line": {
              "color": "white"
             }
            },
            "type": "table"
           }
          ]
         },
         "layout": {
          "annotationdefaults": {
           "arrowcolor": "#2a3f5f",
           "arrowhead": 0,
           "arrowwidth": 1
          },
          "autotypenumbers": "strict",
          "coloraxis": {
           "colorbar": {
            "outlinewidth": 0,
            "ticks": ""
           }
          },
          "colorscale": {
           "diverging": [
            [
             0,
             "#8e0152"
            ],
            [
             0.1,
             "#c51b7d"
            ],
            [
             0.2,
             "#de77ae"
            ],
            [
             0.3,
             "#f1b6da"
            ],
            [
             0.4,
             "#fde0ef"
            ],
            [
             0.5,
             "#f7f7f7"
            ],
            [
             0.6,
             "#e6f5d0"
            ],
            [
             0.7,
             "#b8e186"
            ],
            [
             0.8,
             "#7fbc41"
            ],
            [
             0.9,
             "#4d9221"
            ],
            [
             1,
             "#276419"
            ]
           ],
           "sequential": [
            [
             0,
             "#0d0887"
            ],
            [
             0.1111111111111111,
             "#46039f"
            ],
            [
             0.2222222222222222,
             "#7201a8"
            ],
            [
             0.3333333333333333,
             "#9c179e"
            ],
            [
             0.4444444444444444,
             "#bd3786"
            ],
            [
             0.5555555555555556,
             "#d8576b"
            ],
            [
             0.6666666666666666,
             "#ed7953"
            ],
            [
             0.7777777777777778,
             "#fb9f3a"
            ],
            [
             0.8888888888888888,
             "#fdca26"
            ],
            [
             1,
             "#f0f921"
            ]
           ],
           "sequentialminus": [
            [
             0,
             "#0d0887"
            ],
            [
             0.1111111111111111,
             "#46039f"
            ],
            [
             0.2222222222222222,
             "#7201a8"
            ],
            [
             0.3333333333333333,
             "#9c179e"
            ],
            [
             0.4444444444444444,
             "#bd3786"
            ],
            [
             0.5555555555555556,
             "#d8576b"
            ],
            [
             0.6666666666666666,
             "#ed7953"
            ],
            [
             0.7777777777777778,
             "#fb9f3a"
            ],
            [
             0.8888888888888888,
             "#fdca26"
            ],
            [
             1,
             "#f0f921"
            ]
           ]
          },
          "colorway": [
           "#636efa",
           "#EF553B",
           "#00cc96",
           "#ab63fa",
           "#FFA15A",
           "#19d3f3",
           "#FF6692",
           "#B6E880",
           "#FF97FF",
           "#FECB52"
          ],
          "font": {
           "color": "#2a3f5f"
          },
          "geo": {
           "bgcolor": "white",
           "lakecolor": "white",
           "landcolor": "#E5ECF6",
           "showlakes": true,
           "showland": true,
           "subunitcolor": "white"
          },
          "hoverlabel": {
           "align": "left"
          },
          "hovermode": "closest",
          "mapbox": {
           "style": "light"
          },
          "paper_bgcolor": "white",
          "plot_bgcolor": "#E5ECF6",
          "polar": {
           "angularaxis": {
            "gridcolor": "white",
            "linecolor": "white",
            "ticks": ""
           },
           "bgcolor": "#E5ECF6",
           "radialaxis": {
            "gridcolor": "white",
            "linecolor": "white",
            "ticks": ""
           }
          },
          "scene": {
           "xaxis": {
            "backgroundcolor": "#E5ECF6",
            "gridcolor": "white",
            "gridwidth": 2,
            "linecolor": "white",
            "showbackground": true,
            "ticks": "",
            "zerolinecolor": "white"
           },
           "yaxis": {
            "backgroundcolor": "#E5ECF6",
            "gridcolor": "white",
            "gridwidth": 2,
            "linecolor": "white",
            "showbackground": true,
            "ticks": "",
            "zerolinecolor": "white"
           },
           "zaxis": {
            "backgroundcolor": "#E5ECF6",
            "gridcolor": "white",
            "gridwidth": 2,
            "linecolor": "white",
            "showbackground": true,
            "ticks": "",
            "zerolinecolor": "white"
           }
          },
          "shapedefaults": {
           "line": {
            "color": "#2a3f5f"
           }
          },
          "ternary": {
           "aaxis": {
            "gridcolor": "white",
            "linecolor": "white",
            "ticks": ""
           },
           "baxis": {
            "gridcolor": "white",
            "linecolor": "white",
            "ticks": ""
           },
           "bgcolor": "#E5ECF6",
           "caxis": {
            "gridcolor": "white",
            "linecolor": "white",
            "ticks": ""
           }
          },
          "title": {
           "x": 0.05
          },
          "xaxis": {
           "automargin": true,
           "gridcolor": "white",
           "linecolor": "white",
           "ticks": "",
           "title": {
            "standoff": 15
           },
           "zerolinecolor": "white",
           "zerolinewidth": 2
          },
          "yaxis": {
           "automargin": true,
           "gridcolor": "white",
           "linecolor": "white",
           "ticks": "",
           "title": {
            "standoff": 15
           },
           "zerolinecolor": "white",
           "zerolinewidth": 2
          }
         }
        },
        "title": {
         "text": "Average rating per year for the top 5 non-US countries"
        },
        "width": 800,
        "xaxis": {
         "dtick": 2,
         "tick0": 2002,
         "tickmode": "linear",
         "title": {
          "text": "Year"
         }
        },
        "yaxis": {
         "title": {
          "text": "Average rating"
         }
        }
       }
      }
     },
     "metadata": {},
     "output_type": "display_data"
    }
   ],
   "source": [
    "obj = {}\n",
    "for state in average_rating_no_US.sort_values('count', ascending=False).head(5)['location']:\n",
    "    filtered = df_ratings_no_text[df_ratings_no_text['country_brewery'] == state].groupby('year').agg({'rating': 'mean'}).reset_index()\n",
    "    obj[state] = filtered\n",
    "obj_combined = obj_combined | obj\n",
    "plots_values_over_time(obj, 'year', 'rating', 'Year', 'Average rating', 'Average rating per year for the top 5 non-US countries')"
   ]
  },
  {
   "cell_type": "code",
   "execution_count": 10,
   "metadata": {},
   "outputs": [
    {
     "data": {
      "application/vnd.plotly.v1+json": {
       "config": {
        "plotlyServerURL": "https://plot.ly"
       },
       "data": [
        {
         "marker": {
          "size": 4
         },
         "mode": "lines+markers",
         "name": "Oklahoma",
         "type": "scatter",
         "x": [
          2001,
          2002,
          2003,
          2004,
          2005,
          2006,
          2007,
          2008,
          2009,
          2010,
          2011,
          2012,
          2013,
          2014,
          2015,
          2016,
          2017
         ],
         "y": [
          3.4,
          2.733333333333333,
          2.6550000000000002,
          2.8338235294117644,
          2.7363636363636363,
          2.6014285714285714,
          2.5441379310344825,
          2.808835341365462,
          2.9216014897579146,
          3.087360594795539,
          3.1939550949913644,
          3.242060810810811,
          3.68765015015015,
          3.725006270378731,
          3.7551368421052636,
          3.800233713117149,
          3.82828535669587
         ]
        },
        {
         "marker": {
          "size": 4
         },
         "mode": "lines+markers",
         "name": "Alaska",
         "type": "scatter",
         "x": [
          2000,
          2001,
          2002,
          2003,
          2004,
          2005,
          2006,
          2007,
          2008,
          2009,
          2010,
          2011,
          2012,
          2013,
          2014,
          2015,
          2016,
          2017
         ],
         "y": [
          3.875,
          3.77,
          3.5677083333333335,
          3.5652073732718894,
          3.5875852660300134,
          3.556486796785304,
          3.601707317073171,
          3.5622483221476506,
          3.6310066476733143,
          3.631574923547401,
          3.642620232172471,
          3.640596627756161,
          3.666069295101553,
          3.6572773742265268,
          3.6368805107935547,
          3.6258767449778686,
          3.5915458937198066,
          3.6389078498293514
         ]
        },
        {
         "marker": {
          "size": 4
         },
         "mode": "lines+markers",
         "name": "California",
         "type": "scatter",
         "x": [
          2000,
          2001,
          2002,
          2003,
          2004,
          2005,
          2006,
          2007,
          2008,
          2009,
          2010,
          2011,
          2012,
          2013,
          2014,
          2015,
          2016,
          2017
         ],
         "y": [
          3.924137931034483,
          3.433577981651376,
          3.5555343915343918,
          3.5125210410462255,
          3.5220692000340046,
          3.51502350616611,
          3.5164158334192352,
          3.536476148379858,
          3.595501834309806,
          3.5923764325743424,
          3.615808297567954,
          3.602398738379814,
          3.626984876112839,
          3.623814506118106,
          3.6273785812777692,
          3.6364372123265403,
          3.632734054589167,
          3.6630826854678795
         ]
        },
        {
         "marker": {
          "size": 4
         },
         "mode": "lines+markers",
         "name": "Ohio",
         "type": "scatter",
         "x": [
          2000,
          2001,
          2002,
          2003,
          2004,
          2005,
          2006,
          2007,
          2008,
          2009,
          2010,
          2011,
          2012,
          2013,
          2014,
          2015,
          2016,
          2017
         ],
         "y": [
          3.1,
          3.491970802919708,
          3.491361256544503,
          3.5160526315789475,
          3.520896464646465,
          3.531164021164021,
          3.592783911671924,
          3.5897805364664155,
          3.5250964374858182,
          3.517346720786157,
          3.5291516053582814,
          3.5199740034662046,
          3.5751946607341494,
          3.5868653551655085,
          3.5819766081871345,
          3.543311688311688,
          3.5554552215021777,
          3.6112323612417687
         ]
        },
        {
         "marker": {
          "size": 4
         },
         "mode": "lines+markers",
         "name": "Illinois",
         "type": "scatter",
         "x": [
          2000,
          2001,
          2002,
          2003,
          2004,
          2005,
          2006,
          2007,
          2008,
          2009,
          2010,
          2011,
          2012,
          2013,
          2014,
          2015,
          2016,
          2017
         ],
         "y": [
          3.8777777777777778,
          3.4939655172413793,
          3.364056224899598,
          3.3678848283499443,
          3.353107344632768,
          3.352753840389659,
          3.4448070285534986,
          3.4258705184420943,
          3.4442669172932328,
          3.491656365883807,
          3.597181713911191,
          3.5570311446676555,
          3.603542808941375,
          3.600847635726795,
          3.592552874590408,
          3.5607976182233605,
          3.560811164413432,
          3.5609699385484137
         ]
        },
        {
         "marker": {
          "size": 4
         },
         "mode": "lines+markers",
         "name": "Belgium",
         "type": "scatter",
         "x": [
          2000,
          2001,
          2002,
          2003,
          2004,
          2005,
          2006,
          2007,
          2008,
          2009,
          2010,
          2011,
          2012,
          2013,
          2014,
          2015,
          2016,
          2017
         ],
         "y": [
          3.7410810810810813,
          3.718863503222027,
          3.571307765602668,
          3.5704034863626117,
          3.518376981563385,
          3.4636757888440255,
          3.508536378731912,
          3.500770936208808,
          3.507256608490348,
          3.490349245711924,
          3.4958936817800166,
          3.4847773890375247,
          3.520745116722249,
          3.5143509994739612,
          3.47865042426782,
          3.4866542974789643,
          3.5259536822095083,
          3.5461602810774635
         ]
        },
        {
         "marker": {
          "size": 4
         },
         "mode": "lines+markers",
         "name": "Norway",
         "type": "scatter",
         "x": [
          2000,
          2001,
          2002,
          2003,
          2004,
          2005,
          2006,
          2007,
          2008,
          2009,
          2010,
          2011,
          2012,
          2013,
          2014,
          2015,
          2016,
          2017
         ],
         "y": [
          2.590909090909091,
          2.7196078431372546,
          2.8857142857142857,
          2.7817757009345794,
          2.9265714285714286,
          2.9148003894839336,
          2.806837961044343,
          3.269745222929936,
          3.313899253731343,
          3.4344282452134203,
          3.481336270190896,
          3.380928931169558,
          3.4160536731344724,
          3.426549855223105,
          3.3107932182864066,
          3.3279365673387287,
          3.3073388100572565,
          3.3660448414783675
         ]
        },
        {
         "marker": {
          "size": 4
         },
         "mode": "lines+markers",
         "name": "Sri Lanka",
         "type": "scatter",
         "x": [
          2000,
          2001,
          2002,
          2003,
          2004,
          2005,
          2006,
          2007,
          2008,
          2009,
          2010,
          2011,
          2012,
          2013,
          2014,
          2015,
          2016,
          2017
         ],
         "y": [
          4.2,
          3.7333333333333334,
          3.389655172413793,
          3.4076923076923076,
          3.4503311258278146,
          3.657142857142857,
          3.4758196721311476,
          3.452140077821012,
          3.4945454545454546,
          3.3686635944700463,
          3.3944444444444444,
          3.2082278481012656,
          3.2640776699029126,
          3.0598425196850396,
          3.2259067357512956,
          3.201282051282051,
          2.812727272727273,
          3.1456140350877195
         ]
        },
        {
         "marker": {
          "size": 4
         },
         "mode": "lines+markers",
         "name": "New Zealand",
         "type": "scatter",
         "x": [
          2000,
          2001,
          2002,
          2003,
          2004,
          2005,
          2006,
          2007,
          2008,
          2009,
          2010,
          2011,
          2012,
          2013,
          2014,
          2015,
          2016,
          2017
         ],
         "y": [
          2.8,
          3.217142857142857,
          3.0471590909090907,
          2.672062084257206,
          2.6471311475409838,
          2.9000000000000004,
          2.8657142857142857,
          2.845667870036101,
          2.926874043855176,
          3.051637666325486,
          3.1447368421052633,
          3.3726883255980007,
          3.4076326914044155,
          3.433892235064301,
          3.458617511520737,
          3.463278092158448,
          3.4638126009693058,
          3.4914400494437574
         ]
        },
        {
         "marker": {
          "size": 4
         },
         "mode": "lines+markers",
         "name": "United Kingdom",
         "type": "scatter",
         "x": [
          2000,
          2001,
          2002,
          2003,
          2004,
          2005,
          2006,
          2007,
          2008,
          2009,
          2010,
          2011,
          2012,
          2013,
          2014,
          2015,
          2016,
          2017
         ],
         "y": [
          3.679296875,
          3.5170411985018726,
          3.3728956428825834,
          3.256054494253749,
          3.2070614921840326,
          3.1622904076942717,
          3.1746680182463254,
          3.1653877482234645,
          3.181109073254936,
          3.171664943123061,
          3.2074832600229737,
          3.207809106141785,
          3.2584054266614233,
          3.2767851113015922,
          3.3033031816294076,
          3.320821277428257,
          3.3541253396363957,
          3.375284273037082
         ]
        }
       ],
       "layout": {
        "height": 600,
        "template": {
         "data": {
          "bar": [
           {
            "error_x": {
             "color": "#2a3f5f"
            },
            "error_y": {
             "color": "#2a3f5f"
            },
            "marker": {
             "line": {
              "color": "#E5ECF6",
              "width": 0.5
             },
             "pattern": {
              "fillmode": "overlay",
              "size": 10,
              "solidity": 0.2
             }
            },
            "type": "bar"
           }
          ],
          "barpolar": [
           {
            "marker": {
             "line": {
              "color": "#E5ECF6",
              "width": 0.5
             },
             "pattern": {
              "fillmode": "overlay",
              "size": 10,
              "solidity": 0.2
             }
            },
            "type": "barpolar"
           }
          ],
          "carpet": [
           {
            "aaxis": {
             "endlinecolor": "#2a3f5f",
             "gridcolor": "white",
             "linecolor": "white",
             "minorgridcolor": "white",
             "startlinecolor": "#2a3f5f"
            },
            "baxis": {
             "endlinecolor": "#2a3f5f",
             "gridcolor": "white",
             "linecolor": "white",
             "minorgridcolor": "white",
             "startlinecolor": "#2a3f5f"
            },
            "type": "carpet"
           }
          ],
          "choropleth": [
           {
            "colorbar": {
             "outlinewidth": 0,
             "ticks": ""
            },
            "type": "choropleth"
           }
          ],
          "contour": [
           {
            "colorbar": {
             "outlinewidth": 0,
             "ticks": ""
            },
            "colorscale": [
             [
              0,
              "#0d0887"
             ],
             [
              0.1111111111111111,
              "#46039f"
             ],
             [
              0.2222222222222222,
              "#7201a8"
             ],
             [
              0.3333333333333333,
              "#9c179e"
             ],
             [
              0.4444444444444444,
              "#bd3786"
             ],
             [
              0.5555555555555556,
              "#d8576b"
             ],
             [
              0.6666666666666666,
              "#ed7953"
             ],
             [
              0.7777777777777778,
              "#fb9f3a"
             ],
             [
              0.8888888888888888,
              "#fdca26"
             ],
             [
              1,
              "#f0f921"
             ]
            ],
            "type": "contour"
           }
          ],
          "contourcarpet": [
           {
            "colorbar": {
             "outlinewidth": 0,
             "ticks": ""
            },
            "type": "contourcarpet"
           }
          ],
          "heatmap": [
           {
            "colorbar": {
             "outlinewidth": 0,
             "ticks": ""
            },
            "colorscale": [
             [
              0,
              "#0d0887"
             ],
             [
              0.1111111111111111,
              "#46039f"
             ],
             [
              0.2222222222222222,
              "#7201a8"
             ],
             [
              0.3333333333333333,
              "#9c179e"
             ],
             [
              0.4444444444444444,
              "#bd3786"
             ],
             [
              0.5555555555555556,
              "#d8576b"
             ],
             [
              0.6666666666666666,
              "#ed7953"
             ],
             [
              0.7777777777777778,
              "#fb9f3a"
             ],
             [
              0.8888888888888888,
              "#fdca26"
             ],
             [
              1,
              "#f0f921"
             ]
            ],
            "type": "heatmap"
           }
          ],
          "heatmapgl": [
           {
            "colorbar": {
             "outlinewidth": 0,
             "ticks": ""
            },
            "colorscale": [
             [
              0,
              "#0d0887"
             ],
             [
              0.1111111111111111,
              "#46039f"
             ],
             [
              0.2222222222222222,
              "#7201a8"
             ],
             [
              0.3333333333333333,
              "#9c179e"
             ],
             [
              0.4444444444444444,
              "#bd3786"
             ],
             [
              0.5555555555555556,
              "#d8576b"
             ],
             [
              0.6666666666666666,
              "#ed7953"
             ],
             [
              0.7777777777777778,
              "#fb9f3a"
             ],
             [
              0.8888888888888888,
              "#fdca26"
             ],
             [
              1,
              "#f0f921"
             ]
            ],
            "type": "heatmapgl"
           }
          ],
          "histogram": [
           {
            "marker": {
             "pattern": {
              "fillmode": "overlay",
              "size": 10,
              "solidity": 0.2
             }
            },
            "type": "histogram"
           }
          ],
          "histogram2d": [
           {
            "colorbar": {
             "outlinewidth": 0,
             "ticks": ""
            },
            "colorscale": [
             [
              0,
              "#0d0887"
             ],
             [
              0.1111111111111111,
              "#46039f"
             ],
             [
              0.2222222222222222,
              "#7201a8"
             ],
             [
              0.3333333333333333,
              "#9c179e"
             ],
             [
              0.4444444444444444,
              "#bd3786"
             ],
             [
              0.5555555555555556,
              "#d8576b"
             ],
             [
              0.6666666666666666,
              "#ed7953"
             ],
             [
              0.7777777777777778,
              "#fb9f3a"
             ],
             [
              0.8888888888888888,
              "#fdca26"
             ],
             [
              1,
              "#f0f921"
             ]
            ],
            "type": "histogram2d"
           }
          ],
          "histogram2dcontour": [
           {
            "colorbar": {
             "outlinewidth": 0,
             "ticks": ""
            },
            "colorscale": [
             [
              0,
              "#0d0887"
             ],
             [
              0.1111111111111111,
              "#46039f"
             ],
             [
              0.2222222222222222,
              "#7201a8"
             ],
             [
              0.3333333333333333,
              "#9c179e"
             ],
             [
              0.4444444444444444,
              "#bd3786"
             ],
             [
              0.5555555555555556,
              "#d8576b"
             ],
             [
              0.6666666666666666,
              "#ed7953"
             ],
             [
              0.7777777777777778,
              "#fb9f3a"
             ],
             [
              0.8888888888888888,
              "#fdca26"
             ],
             [
              1,
              "#f0f921"
             ]
            ],
            "type": "histogram2dcontour"
           }
          ],
          "mesh3d": [
           {
            "colorbar": {
             "outlinewidth": 0,
             "ticks": ""
            },
            "type": "mesh3d"
           }
          ],
          "parcoords": [
           {
            "line": {
             "colorbar": {
              "outlinewidth": 0,
              "ticks": ""
             }
            },
            "type": "parcoords"
           }
          ],
          "pie": [
           {
            "automargin": true,
            "type": "pie"
           }
          ],
          "scatter": [
           {
            "fillpattern": {
             "fillmode": "overlay",
             "size": 10,
             "solidity": 0.2
            },
            "type": "scatter"
           }
          ],
          "scatter3d": [
           {
            "line": {
             "colorbar": {
              "outlinewidth": 0,
              "ticks": ""
             }
            },
            "marker": {
             "colorbar": {
              "outlinewidth": 0,
              "ticks": ""
             }
            },
            "type": "scatter3d"
           }
          ],
          "scattercarpet": [
           {
            "marker": {
             "colorbar": {
              "outlinewidth": 0,
              "ticks": ""
             }
            },
            "type": "scattercarpet"
           }
          ],
          "scattergeo": [
           {
            "marker": {
             "colorbar": {
              "outlinewidth": 0,
              "ticks": ""
             }
            },
            "type": "scattergeo"
           }
          ],
          "scattergl": [
           {
            "marker": {
             "colorbar": {
              "outlinewidth": 0,
              "ticks": ""
             }
            },
            "type": "scattergl"
           }
          ],
          "scattermapbox": [
           {
            "marker": {
             "colorbar": {
              "outlinewidth": 0,
              "ticks": ""
             }
            },
            "type": "scattermapbox"
           }
          ],
          "scatterpolar": [
           {
            "marker": {
             "colorbar": {
              "outlinewidth": 0,
              "ticks": ""
             }
            },
            "type": "scatterpolar"
           }
          ],
          "scatterpolargl": [
           {
            "marker": {
             "colorbar": {
              "outlinewidth": 0,
              "ticks": ""
             }
            },
            "type": "scatterpolargl"
           }
          ],
          "scatterternary": [
           {
            "marker": {
             "colorbar": {
              "outlinewidth": 0,
              "ticks": ""
             }
            },
            "type": "scatterternary"
           }
          ],
          "surface": [
           {
            "colorbar": {
             "outlinewidth": 0,
             "ticks": ""
            },
            "colorscale": [
             [
              0,
              "#0d0887"
             ],
             [
              0.1111111111111111,
              "#46039f"
             ],
             [
              0.2222222222222222,
              "#7201a8"
             ],
             [
              0.3333333333333333,
              "#9c179e"
             ],
             [
              0.4444444444444444,
              "#bd3786"
             ],
             [
              0.5555555555555556,
              "#d8576b"
             ],
             [
              0.6666666666666666,
              "#ed7953"
             ],
             [
              0.7777777777777778,
              "#fb9f3a"
             ],
             [
              0.8888888888888888,
              "#fdca26"
             ],
             [
              1,
              "#f0f921"
             ]
            ],
            "type": "surface"
           }
          ],
          "table": [
           {
            "cells": {
             "fill": {
              "color": "#EBF0F8"
             },
             "line": {
              "color": "white"
             }
            },
            "header": {
             "fill": {
              "color": "#C8D4E3"
             },
             "line": {
              "color": "white"
             }
            },
            "type": "table"
           }
          ]
         },
         "layout": {
          "annotationdefaults": {
           "arrowcolor": "#2a3f5f",
           "arrowhead": 0,
           "arrowwidth": 1
          },
          "autotypenumbers": "strict",
          "coloraxis": {
           "colorbar": {
            "outlinewidth": 0,
            "ticks": ""
           }
          },
          "colorscale": {
           "diverging": [
            [
             0,
             "#8e0152"
            ],
            [
             0.1,
             "#c51b7d"
            ],
            [
             0.2,
             "#de77ae"
            ],
            [
             0.3,
             "#f1b6da"
            ],
            [
             0.4,
             "#fde0ef"
            ],
            [
             0.5,
             "#f7f7f7"
            ],
            [
             0.6,
             "#e6f5d0"
            ],
            [
             0.7,
             "#b8e186"
            ],
            [
             0.8,
             "#7fbc41"
            ],
            [
             0.9,
             "#4d9221"
            ],
            [
             1,
             "#276419"
            ]
           ],
           "sequential": [
            [
             0,
             "#0d0887"
            ],
            [
             0.1111111111111111,
             "#46039f"
            ],
            [
             0.2222222222222222,
             "#7201a8"
            ],
            [
             0.3333333333333333,
             "#9c179e"
            ],
            [
             0.4444444444444444,
             "#bd3786"
            ],
            [
             0.5555555555555556,
             "#d8576b"
            ],
            [
             0.6666666666666666,
             "#ed7953"
            ],
            [
             0.7777777777777778,
             "#fb9f3a"
            ],
            [
             0.8888888888888888,
             "#fdca26"
            ],
            [
             1,
             "#f0f921"
            ]
           ],
           "sequentialminus": [
            [
             0,
             "#0d0887"
            ],
            [
             0.1111111111111111,
             "#46039f"
            ],
            [
             0.2222222222222222,
             "#7201a8"
            ],
            [
             0.3333333333333333,
             "#9c179e"
            ],
            [
             0.4444444444444444,
             "#bd3786"
            ],
            [
             0.5555555555555556,
             "#d8576b"
            ],
            [
             0.6666666666666666,
             "#ed7953"
            ],
            [
             0.7777777777777778,
             "#fb9f3a"
            ],
            [
             0.8888888888888888,
             "#fdca26"
            ],
            [
             1,
             "#f0f921"
            ]
           ]
          },
          "colorway": [
           "#636efa",
           "#EF553B",
           "#00cc96",
           "#ab63fa",
           "#FFA15A",
           "#19d3f3",
           "#FF6692",
           "#B6E880",
           "#FF97FF",
           "#FECB52"
          ],
          "font": {
           "color": "#2a3f5f"
          },
          "geo": {
           "bgcolor": "white",
           "lakecolor": "white",
           "landcolor": "#E5ECF6",
           "showlakes": true,
           "showland": true,
           "subunitcolor": "white"
          },
          "hoverlabel": {
           "align": "left"
          },
          "hovermode": "closest",
          "mapbox": {
           "style": "light"
          },
          "paper_bgcolor": "white",
          "plot_bgcolor": "#E5ECF6",
          "polar": {
           "angularaxis": {
            "gridcolor": "white",
            "linecolor": "white",
            "ticks": ""
           },
           "bgcolor": "#E5ECF6",
           "radialaxis": {
            "gridcolor": "white",
            "linecolor": "white",
            "ticks": ""
           }
          },
          "scene": {
           "xaxis": {
            "backgroundcolor": "#E5ECF6",
            "gridcolor": "white",
            "gridwidth": 2,
            "linecolor": "white",
            "showbackground": true,
            "ticks": "",
            "zerolinecolor": "white"
           },
           "yaxis": {
            "backgroundcolor": "#E5ECF6",
            "gridcolor": "white",
            "gridwidth": 2,
            "linecolor": "white",
            "showbackground": true,
            "ticks": "",
            "zerolinecolor": "white"
           },
           "zaxis": {
            "backgroundcolor": "#E5ECF6",
            "gridcolor": "white",
            "gridwidth": 2,
            "linecolor": "white",
            "showbackground": true,
            "ticks": "",
            "zerolinecolor": "white"
           }
          },
          "shapedefaults": {
           "line": {
            "color": "#2a3f5f"
           }
          },
          "ternary": {
           "aaxis": {
            "gridcolor": "white",
            "linecolor": "white",
            "ticks": ""
           },
           "baxis": {
            "gridcolor": "white",
            "linecolor": "white",
            "ticks": ""
           },
           "bgcolor": "#E5ECF6",
           "caxis": {
            "gridcolor": "white",
            "linecolor": "white",
            "ticks": ""
           }
          },
          "title": {
           "x": 0.05
          },
          "xaxis": {
           "automargin": true,
           "gridcolor": "white",
           "linecolor": "white",
           "ticks": "",
           "title": {
            "standoff": 15
           },
           "zerolinecolor": "white",
           "zerolinewidth": 2
          },
          "yaxis": {
           "automargin": true,
           "gridcolor": "white",
           "linecolor": "white",
           "ticks": "",
           "title": {
            "standoff": 15
           },
           "zerolinecolor": "white",
           "zerolinewidth": 2
          }
         }
        },
        "title": {
         "text": "Average rating per year for top-10 countries or US states"
        },
        "width": 800,
        "xaxis": {
         "dtick": 2,
         "tick0": 2002,
         "tickmode": "linear",
         "title": {
          "text": "Year"
         }
        },
        "yaxis": {
         "title": {
          "text": "Average rating"
         }
        }
       }
      }
     },
     "metadata": {},
     "output_type": "display_data"
    }
   ],
   "source": [
    "plots_values_over_time(obj_combined, 'year', 'rating', 'Year', 'Average rating', 'Average rating per year for top-10 countries or US states')"
   ]
  },
  {
   "cell_type": "markdown",
   "metadata": {},
   "source": [
    "It makes sense to split US Vs Non US because we see in general that the US-based breweries outperform significantly the other breweries and they beat countries that are well known for their beers (such as England, Belgium or Germany). "
   ]
  }
 ],
 "metadata": {
  "kernelspec": {
   "display_name": ".venv",
   "language": "python",
   "name": "python3"
  },
  "language_info": {
   "codemirror_mode": {
    "name": "ipython",
    "version": 3
   },
   "file_extension": ".py",
   "mimetype": "text/x-python",
   "name": "python",
   "nbconvert_exporter": "python",
   "pygments_lexer": "ipython3",
   "version": "3.9.20"
  }
 },
 "nbformat": 4,
 "nbformat_minor": 2
}
