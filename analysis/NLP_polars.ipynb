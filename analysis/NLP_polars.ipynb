{
 "cells": [
  {
   "metadata": {
    "ExecuteTime": {
     "end_time": "2024-12-12T14:45:44.561413Z",
     "start_time": "2024-12-12T14:45:43.861084Z"
    }
   },
   "cell_type": "code",
   "source": [
    "from dask.array import shape\n",
    "!pip uninstall -y pathos numpy polars h5py"
   ],
   "id": "d87576554009530c",
   "outputs": [
    {
     "name": "stdout",
     "output_type": "stream",
     "text": [
      "Found existing installation: pathos 0.3.3\r\n",
      "Uninstalling pathos-0.3.3:\r\n",
      "  Successfully uninstalled pathos-0.3.3\r\n",
      "Found existing installation: numpy 1.26.4\r\n",
      "Uninstalling numpy-1.26.4:\r\n",
      "  Successfully uninstalled numpy-1.26.4\r\n",
      "Found existing installation: polars 1.17.1\r\n",
      "Uninstalling polars-1.17.1:\r\n",
      "  Successfully uninstalled polars-1.17.1\r\n",
      "Found existing installation: h5py 3.12.1\r\n",
      "Uninstalling h5py-3.12.1:\r\n",
      "  Successfully uninstalled h5py-3.12.1\r\n"
     ]
    }
   ],
   "execution_count": 1
  },
  {
   "cell_type": "code",
   "id": "initial_id",
   "metadata": {
    "collapsed": true,
    "ExecuteTime": {
     "end_time": "2024-12-12T14:45:47.401988Z",
     "start_time": "2024-12-12T14:45:44.565392Z"
    }
   },
   "source": "!pip install pathos numpy polars h5py scipy",
   "outputs": [
    {
     "name": "stdout",
     "output_type": "stream",
     "text": [
      "Collecting pathos\r\n",
      "  Using cached pathos-0.3.3-py3-none-any.whl.metadata (11 kB)\r\n",
      "Collecting numpy\r\n",
      "  Using cached numpy-2.2.0-cp312-cp312-macosx_14_0_arm64.whl.metadata (62 kB)\r\n",
      "Collecting polars\r\n",
      "  Using cached polars-1.17.1-cp39-abi3-macosx_11_0_arm64.whl.metadata (14 kB)\r\n",
      "Collecting h5py\r\n",
      "  Using cached h5py-3.12.1-cp312-cp312-macosx_11_0_arm64.whl.metadata (2.5 kB)\r\n",
      "Requirement already satisfied: scipy in /opt/anaconda3/lib/python3.12/site-packages (1.13.1)\r\n",
      "Requirement already satisfied: ppft>=1.7.6.9 in /opt/anaconda3/lib/python3.12/site-packages (from pathos) (1.7.6.9)\r\n",
      "Requirement already satisfied: dill>=0.3.9 in /opt/anaconda3/lib/python3.12/site-packages (from pathos) (0.3.9)\r\n",
      "Requirement already satisfied: pox>=0.3.5 in /opt/anaconda3/lib/python3.12/site-packages (from pathos) (0.3.5)\r\n",
      "Requirement already satisfied: multiprocess>=0.70.17 in /opt/anaconda3/lib/python3.12/site-packages (from pathos) (0.70.17)\r\n",
      "Using cached pathos-0.3.3-py3-none-any.whl (82 kB)\r\n",
      "Using cached numpy-2.2.0-cp312-cp312-macosx_14_0_arm64.whl (5.1 MB)\r\n",
      "Using cached polars-1.17.1-cp39-abi3-macosx_11_0_arm64.whl (28.8 MB)\r\n",
      "Using cached h5py-3.12.1-cp312-cp312-macosx_11_0_arm64.whl (2.9 MB)\r\n",
      "Installing collected packages: polars, numpy, pathos, h5py\r\n",
      "\u001B[31mERROR: pip's dependency resolver does not currently take into account all the packages that are installed. This behaviour is the source of the following dependency conflicts.\r\n",
      "gensim 4.3.3 requires numpy<2.0,>=1.18.5, but you have numpy 2.2.0 which is incompatible.\r\n",
      "contourpy 1.2.0 requires numpy<2.0,>=1.20, but you have numpy 2.2.0 which is incompatible.\r\n",
      "numba 0.60.0 requires numpy<2.1,>=1.22, but you have numpy 2.2.0 which is incompatible.\r\n",
      "thinc 8.3.2 requires numpy<2.1.0,>=2.0.0; python_version >= \"3.9\", but you have numpy 2.2.0 which is incompatible.\u001B[0m\u001B[31m\r\n",
      "\u001B[0mSuccessfully installed h5py-3.12.1 numpy-2.2.0 pathos-0.3.3 polars-1.17.1\r\n"
     ]
    }
   ],
   "execution_count": 2
  },
  {
   "metadata": {
    "ExecuteTime": {
     "end_time": "2024-12-19T15:25:29.122492Z",
     "start_time": "2024-12-19T15:25:28.363525Z"
    }
   },
   "cell_type": "code",
   "source": [
    "import polars as pl\n",
    "import os"
   ],
   "id": "e4f505cf3a7f58e8",
   "outputs": [],
   "execution_count": 2
  },
  {
   "metadata": {
    "ExecuteTime": {
     "end_time": "2024-12-12T18:46:14.202521Z",
     "start_time": "2024-12-12T18:46:14.199110Z"
    }
   },
   "cell_type": "code",
   "source": [
    "# Enable progress bar for lazy execution\n",
    "pl.Config.set_tbl_cols(100)  # Optional: set table column width\n",
    "pl.Config.set_tbl_rows(50)  # Optional: set table row height\n",
    "pl.Config.set_verbose(True)  # Enable verbose output\n",
    "# pl.Config.set_streaming(True)  # Enable lazy evaluation streaming (if supported)"
   ],
   "id": "1bd36690b8599a5c",
   "outputs": [
    {
     "data": {
      "text/plain": [
       "polars.config.Config"
      ]
     },
     "execution_count": 2,
     "metadata": {},
     "output_type": "execute_result"
    }
   ],
   "execution_count": 2
  },
  {
   "metadata": {
    "ExecuteTime": {
     "end_time": "2024-12-19T15:25:30.346960Z",
     "start_time": "2024-12-19T15:25:30.345239Z"
    }
   },
   "cell_type": "code",
   "source": "DATA_FOLDER = os.path.join(os.getcwd(), '../data/processed/')",
   "id": "f10ddeb3ff820339",
   "outputs": [],
   "execution_count": 3
  },
  {
   "metadata": {
    "ExecuteTime": {
     "end_time": "2024-12-12T18:46:17.058410Z",
     "start_time": "2024-12-12T18:46:16.108156Z"
    }
   },
   "cell_type": "code",
   "source": [
    "df_ratings_no_text = pl.read_parquet(DATA_FOLDER + 'ratings_no_text.pq')\n",
    "df_ratings_text = pl.read_parquet(DATA_FOLDER + 'ratings_only_text.pq')"
   ],
   "id": "61ffade4fa3efa7d",
   "outputs": [
    {
     "name": "stderr",
     "output_type": "stream",
     "text": [
      "parquet scan with parallel = Columns\n",
      "parquet scan with parallel = RowGroups\n"
     ]
    }
   ],
   "execution_count": 4
  },
  {
   "metadata": {
    "ExecuteTime": {
     "end_time": "2024-12-11T20:37:13.117400Z",
     "start_time": "2024-12-11T20:37:11.964942Z"
    }
   },
   "cell_type": "code",
   "source": [
    "def cleanup_polars(column: pl.Expr):\n",
    "    return (\n",
    "        column\n",
    "        .str.replace_all(r'[^\\w ]', '')  # Remove non-alphanumeric characters\n",
    "        .str.to_lowercase()             # Convert to lowercase\n",
    "    )\n",
    "\n",
    "# Convert the DataFrame to a LazyFrame to enable progress tracking\n",
    "lazy_df = df_ratings_text.lazy()\n",
    "\n",
    "# Apply the cleanup function\n",
    "lazy_df = lazy_df.with_columns(\n",
    "    cleanup_polars(pl.col(\"text\")).alias(\"text_cleaned\")\n",
    ")\n",
    "\n",
    "# Collect the results with progress tracking\n",
    "df_ratings_text = lazy_df.collect(streaming=True, progress_bar=True)\n"
   ],
   "id": "43ba289eb1c956e",
   "outputs": [],
   "execution_count": 3
  },
  {
   "metadata": {
    "ExecuteTime": {
     "end_time": "2024-12-11T20:30:25.432197Z",
     "start_time": "2024-12-11T20:30:24.692896Z"
    }
   },
   "cell_type": "code",
   "source": "!pip install nltk",
   "id": "4a7a284f10180b30",
   "outputs": [
    {
     "name": "stdout",
     "output_type": "stream",
     "text": [
      "Requirement already satisfied: nltk in /opt/anaconda3/lib/python3.12/site-packages (3.9.1)\r\n",
      "Requirement already satisfied: click in /opt/anaconda3/lib/python3.12/site-packages (from nltk) (8.1.7)\r\n",
      "Requirement already satisfied: joblib in /opt/anaconda3/lib/python3.12/site-packages (from nltk) (1.4.2)\r\n",
      "Requirement already satisfied: regex>=2021.8.3 in /opt/anaconda3/lib/python3.12/site-packages (from nltk) (2024.9.11)\r\n",
      "Requirement already satisfied: tqdm in /opt/anaconda3/lib/python3.12/site-packages (from nltk) (4.66.5)\r\n"
     ]
    }
   ],
   "execution_count": 4
  },
  {
   "metadata": {
    "ExecuteTime": {
     "end_time": "2024-12-11T20:15:57.835479Z",
     "start_time": "2024-12-11T20:15:57.044405Z"
    }
   },
   "cell_type": "code",
   "source": "!pip install spacy",
   "id": "8c0031e489d21784",
   "outputs": [
    {
     "name": "stdout",
     "output_type": "stream",
     "text": [
      "Requirement already satisfied: spacy in /opt/anaconda3/lib/python3.12/site-packages (3.8.3)\r\n",
      "Requirement already satisfied: spacy-legacy<3.1.0,>=3.0.11 in /opt/anaconda3/lib/python3.12/site-packages (from spacy) (3.0.12)\r\n",
      "Requirement already satisfied: spacy-loggers<2.0.0,>=1.0.0 in /opt/anaconda3/lib/python3.12/site-packages (from spacy) (1.0.5)\r\n",
      "Requirement already satisfied: murmurhash<1.1.0,>=0.28.0 in /opt/anaconda3/lib/python3.12/site-packages (from spacy) (1.0.11)\r\n",
      "Requirement already satisfied: cymem<2.1.0,>=2.0.2 in /opt/anaconda3/lib/python3.12/site-packages (from spacy) (2.0.10)\r\n",
      "Requirement already satisfied: preshed<3.1.0,>=3.0.2 in /opt/anaconda3/lib/python3.12/site-packages (from spacy) (3.0.9)\r\n",
      "Requirement already satisfied: thinc<8.4.0,>=8.3.0 in /opt/anaconda3/lib/python3.12/site-packages (from spacy) (8.3.2)\r\n",
      "Requirement already satisfied: wasabi<1.2.0,>=0.9.1 in /opt/anaconda3/lib/python3.12/site-packages (from spacy) (1.1.3)\r\n",
      "Requirement already satisfied: srsly<3.0.0,>=2.4.3 in /opt/anaconda3/lib/python3.12/site-packages (from spacy) (2.5.0)\r\n",
      "Requirement already satisfied: catalogue<2.1.0,>=2.0.6 in /opt/anaconda3/lib/python3.12/site-packages (from spacy) (2.0.10)\r\n",
      "Requirement already satisfied: weasel<0.5.0,>=0.1.0 in /opt/anaconda3/lib/python3.12/site-packages (from spacy) (0.4.1)\r\n",
      "Requirement already satisfied: typer<1.0.0,>=0.3.0 in /opt/anaconda3/lib/python3.12/site-packages (from spacy) (0.15.1)\r\n",
      "Requirement already satisfied: tqdm<5.0.0,>=4.38.0 in /opt/anaconda3/lib/python3.12/site-packages (from spacy) (4.66.5)\r\n",
      "Requirement already satisfied: numpy>=1.19.0 in /opt/anaconda3/lib/python3.12/site-packages (from spacy) (2.0.0)\r\n",
      "Requirement already satisfied: requests<3.0.0,>=2.13.0 in /opt/anaconda3/lib/python3.12/site-packages (from spacy) (2.32.3)\r\n",
      "Requirement already satisfied: pydantic!=1.8,!=1.8.1,<3.0.0,>=1.7.4 in /opt/anaconda3/lib/python3.12/site-packages (from spacy) (2.8.2)\r\n",
      "Requirement already satisfied: jinja2 in /opt/anaconda3/lib/python3.12/site-packages (from spacy) (3.1.4)\r\n",
      "Requirement already satisfied: setuptools in /opt/anaconda3/lib/python3.12/site-packages (from spacy) (75.1.0)\r\n",
      "Requirement already satisfied: packaging>=20.0 in /opt/anaconda3/lib/python3.12/site-packages (from spacy) (24.1)\r\n",
      "Requirement already satisfied: langcodes<4.0.0,>=3.2.0 in /opt/anaconda3/lib/python3.12/site-packages (from spacy) (3.5.0)\r\n",
      "Requirement already satisfied: language-data>=1.2 in /opt/anaconda3/lib/python3.12/site-packages (from langcodes<4.0.0,>=3.2.0->spacy) (1.3.0)\r\n",
      "Requirement already satisfied: annotated-types>=0.4.0 in /opt/anaconda3/lib/python3.12/site-packages (from pydantic!=1.8,!=1.8.1,<3.0.0,>=1.7.4->spacy) (0.6.0)\r\n",
      "Requirement already satisfied: pydantic-core==2.20.1 in /opt/anaconda3/lib/python3.12/site-packages (from pydantic!=1.8,!=1.8.1,<3.0.0,>=1.7.4->spacy) (2.20.1)\r\n",
      "Requirement already satisfied: typing-extensions>=4.6.1 in /opt/anaconda3/lib/python3.12/site-packages (from pydantic!=1.8,!=1.8.1,<3.0.0,>=1.7.4->spacy) (4.11.0)\r\n",
      "Requirement already satisfied: charset-normalizer<4,>=2 in /opt/anaconda3/lib/python3.12/site-packages (from requests<3.0.0,>=2.13.0->spacy) (3.3.2)\r\n",
      "Requirement already satisfied: idna<4,>=2.5 in /opt/anaconda3/lib/python3.12/site-packages (from requests<3.0.0,>=2.13.0->spacy) (3.7)\r\n",
      "Requirement already satisfied: urllib3<3,>=1.21.1 in /opt/anaconda3/lib/python3.12/site-packages (from requests<3.0.0,>=2.13.0->spacy) (2.2.3)\r\n",
      "Requirement already satisfied: certifi>=2017.4.17 in /opt/anaconda3/lib/python3.12/site-packages (from requests<3.0.0,>=2.13.0->spacy) (2024.8.30)\r\n",
      "Requirement already satisfied: blis<1.1.0,>=1.0.0 in /opt/anaconda3/lib/python3.12/site-packages (from thinc<8.4.0,>=8.3.0->spacy) (1.0.2)\r\n",
      "Requirement already satisfied: confection<1.0.0,>=0.0.1 in /opt/anaconda3/lib/python3.12/site-packages (from thinc<8.4.0,>=8.3.0->spacy) (0.1.5)\r\n",
      "Requirement already satisfied: click>=8.0.0 in /opt/anaconda3/lib/python3.12/site-packages (from typer<1.0.0,>=0.3.0->spacy) (8.1.7)\r\n",
      "Requirement already satisfied: shellingham>=1.3.0 in /opt/anaconda3/lib/python3.12/site-packages (from typer<1.0.0,>=0.3.0->spacy) (1.5.4)\r\n",
      "Requirement already satisfied: rich>=10.11.0 in /opt/anaconda3/lib/python3.12/site-packages (from typer<1.0.0,>=0.3.0->spacy) (13.7.1)\r\n",
      "Requirement already satisfied: cloudpathlib<1.0.0,>=0.7.0 in /opt/anaconda3/lib/python3.12/site-packages (from weasel<0.5.0,>=0.1.0->spacy) (0.20.0)\r\n",
      "Requirement already satisfied: smart-open<8.0.0,>=5.2.1 in /opt/anaconda3/lib/python3.12/site-packages (from weasel<0.5.0,>=0.1.0->spacy) (5.2.1)\r\n",
      "Requirement already satisfied: MarkupSafe>=2.0 in /opt/anaconda3/lib/python3.12/site-packages (from jinja2->spacy) (2.1.3)\r\n",
      "Requirement already satisfied: marisa-trie>=1.1.0 in /opt/anaconda3/lib/python3.12/site-packages (from language-data>=1.2->langcodes<4.0.0,>=3.2.0->spacy) (1.2.1)\r\n",
      "Requirement already satisfied: markdown-it-py>=2.2.0 in /opt/anaconda3/lib/python3.12/site-packages (from rich>=10.11.0->typer<1.0.0,>=0.3.0->spacy) (2.2.0)\r\n",
      "Requirement already satisfied: pygments<3.0.0,>=2.13.0 in /opt/anaconda3/lib/python3.12/site-packages (from rich>=10.11.0->typer<1.0.0,>=0.3.0->spacy) (2.15.1)\r\n",
      "Requirement already satisfied: mdurl~=0.1 in /opt/anaconda3/lib/python3.12/site-packages (from markdown-it-py>=2.2.0->rich>=10.11.0->typer<1.0.0,>=0.3.0->spacy) (0.1.0)\r\n"
     ]
    }
   ],
   "execution_count": 12
  },
  {
   "metadata": {
    "ExecuteTime": {
     "end_time": "2024-12-11T20:18:26.655116Z",
     "start_time": "2024-12-11T20:18:02.013332Z"
    }
   },
   "cell_type": "code",
   "source": "!python -m spacy download en_core_web_sm",
   "id": "4143a7d6e2ca142e",
   "outputs": [
    {
     "name": "stdout",
     "output_type": "stream",
     "text": [
      "Collecting en-core-web-sm==3.8.0\r\n",
      "  Downloading https://github.com/explosion/spacy-models/releases/download/en_core_web_sm-3.8.0/en_core_web_sm-3.8.0-py3-none-any.whl (12.8 MB)\r\n",
      "\u001B[2K     \u001B[90m━━━━━━━━━━━━━━━━━━━━━━━━━━━━━━━━━━━━━━━\u001B[0m \u001B[32m12.8/12.8 MB\u001B[0m \u001B[31m609.1 kB/s\u001B[0m eta \u001B[36m0:00:00\u001B[0m00:01\u001B[0m00:01\u001B[0m\r\n",
      "\u001B[?25h\u001B[38;5;2m✔ Download and installation successful\u001B[0m\r\n",
      "You can now load the package via spacy.load('en_core_web_sm')\r\n"
     ]
    }
   ],
   "execution_count": 14
  },
  {
   "metadata": {
    "ExecuteTime": {
     "end_time": "2024-12-11T20:20:30.164125Z",
     "start_time": "2024-12-11T20:20:15.197186Z"
    }
   },
   "cell_type": "code",
   "source": "!python -m spacy download es_core_news_sm",
   "id": "600cd25b801ff478",
   "outputs": [
    {
     "name": "stdout",
     "output_type": "stream",
     "text": [
      "Collecting es-core-news-sm==3.8.0\r\n",
      "  Downloading https://github.com/explosion/spacy-models/releases/download/es_core_news_sm-3.8.0/es_core_news_sm-3.8.0-py3-none-any.whl (12.9 MB)\r\n",
      "\u001B[2K     \u001B[90m━━━━━━━━━━━━━━━━━━━━━━━━━━━━━━━━━━━━━━━━\u001B[0m \u001B[32m12.9/12.9 MB\u001B[0m \u001B[31m1.0 MB/s\u001B[0m eta \u001B[36m0:00:00\u001B[0m00:01\u001B[0m00:01\u001B[0mm\r\n",
      "\u001B[?25h\u001B[38;5;2m✔ Download and installation successful\u001B[0m\r\n",
      "You can now load the package via spacy.load('es_core_news_sm')\r\n"
     ]
    }
   ],
   "execution_count": 17
  },
  {
   "metadata": {
    "ExecuteTime": {
     "end_time": "2024-12-11T20:20:54.991333Z",
     "start_time": "2024-12-11T20:20:36.087047Z"
    }
   },
   "cell_type": "code",
   "source": "!python -m spacy download fr_core_news_sm",
   "id": "b9d10da2300a3c35",
   "outputs": [
    {
     "name": "stdout",
     "output_type": "stream",
     "text": [
      "Collecting fr-core-news-sm==3.8.0\r\n",
      "  Downloading https://github.com/explosion/spacy-models/releases/download/fr_core_news_sm-3.8.0/fr_core_news_sm-3.8.0-py3-none-any.whl (16.3 MB)\r\n",
      "\u001B[2K     \u001B[90m━━━━━━━━━━━━━━━━━━━━━━━━━━━━━━━━━━━━━━━━\u001B[0m \u001B[32m16.3/16.3 MB\u001B[0m \u001B[31m1.1 MB/s\u001B[0m eta \u001B[36m0:00:00\u001B[0m00:01\u001B[0m00:01\u001B[0mm\r\n",
      "\u001B[?25h\u001B[38;5;2m✔ Download and installation successful\u001B[0m\r\n",
      "You can now load the package via spacy.load('fr_core_news_sm')\r\n"
     ]
    }
   ],
   "execution_count": 18
  },
  {
   "metadata": {
    "ExecuteTime": {
     "end_time": "2024-12-11T20:21:02.930322Z",
     "start_time": "2024-12-11T20:20:54.994507Z"
    }
   },
   "cell_type": "code",
   "source": "!python -m spacy download de_core_news_sm",
   "id": "75d2c42272dfc849",
   "outputs": [
    {
     "name": "stdout",
     "output_type": "stream",
     "text": [
      "Collecting de-core-news-sm==3.8.0\r\n",
      "  Downloading https://github.com/explosion/spacy-models/releases/download/de_core_news_sm-3.8.0/de_core_news_sm-3.8.0-py3-none-any.whl (14.6 MB)\r\n",
      "\u001B[2K     \u001B[90m━━━━━━━━━━━━━━━━━━━━━━━━━━━━━━━━━━━━━━━━\u001B[0m \u001B[32m14.6/14.6 MB\u001B[0m \u001B[31m2.8 MB/s\u001B[0m eta \u001B[36m0:00:00\u001B[0ma \u001B[36m0:00:01\u001B[0m\r\n",
      "\u001B[?25h\u001B[38;5;2m✔ Download and installation successful\u001B[0m\r\n",
      "You can now load the package via spacy.load('de_core_news_sm')\r\n"
     ]
    }
   ],
   "execution_count": 19
  },
  {
   "metadata": {
    "ExecuteTime": {
     "end_time": "2024-12-11T20:30:48.238032Z",
     "start_time": "2024-12-11T20:30:47.033765Z"
    }
   },
   "cell_type": "code",
   "source": [
    "# print all spacy models\n",
    "!python -m spacy validate"
   ],
   "id": "d13f417927eb9dea",
   "outputs": [
    {
     "name": "stdout",
     "output_type": "stream",
     "text": [
      "\u001B[2K\u001B[38;5;2m✔ Loaded compatibility table\u001B[0m\r\n",
      "\u001B[1m\r\n",
      "================= Installed pipeline packages (spaCy v3.8.3) =================\u001B[0m\r\n",
      "\u001B[38;5;4mℹ spaCy installation:\r\n",
      "/opt/anaconda3/lib/python3.12/site-packages/spacy\u001B[0m\r\n",
      "\r\n",
      "NAME              SPACY            VERSION                            \r\n",
      "pl_core_news_sm   >=3.8.0,<3.9.0   \u001B[38;5;2m3.8.0\u001B[0m   \u001B[38;5;2m✔\u001B[0m\r\n",
      "es_core_news_sm   >=3.8.0,<3.9.0   \u001B[38;5;2m3.8.0\u001B[0m   \u001B[38;5;2m✔\u001B[0m\r\n",
      "en_core_web_sm    >=3.8.0,<3.9.0   \u001B[38;5;2m3.8.0\u001B[0m   \u001B[38;5;2m✔\u001B[0m\r\n",
      "fr_core_news_sm   >=3.8.0,<3.9.0   \u001B[38;5;2m3.8.0\u001B[0m   \u001B[38;5;2m✔\u001B[0m\r\n",
      "de_core_news_sm   >=3.8.0,<3.9.0   \u001B[38;5;2m3.8.0\u001B[0m   \u001B[38;5;2m✔\u001B[0m\r\n",
      "\r\n"
     ]
    }
   ],
   "execution_count": 5
  },
  {
   "metadata": {
    "ExecuteTime": {
     "end_time": "2024-12-11T20:37:18.957980Z",
     "start_time": "2024-12-11T20:37:15.889104Z"
    }
   },
   "cell_type": "code",
   "source": [
    "import spacy\n",
    "from tqdm import tqdm\n",
    "from langdetect import detect\n",
    "from pathos.multiprocessing import ProcessingPool as Pool\n",
    "import polars as pl\n",
    "\n",
    "# Load SpaCy models and disable unnecessary components\n",
    "spacy_models = {\n",
    "    'en': spacy.load('en_core_web_sm', disable=['ner', 'parser']),\n",
    "    'fr': spacy.load('fr_core_news_sm', disable=['ner', 'parser']),\n",
    "    'es': spacy.load('es_core_news_sm', disable=['ner', 'parser']),\n",
    "    'de': spacy.load('de_core_news_sm', disable=['ner', 'parser']),\n",
    "    'pl': spacy.load('pl_core_news_sm', disable=['ner', 'parser']),\n",
    "}\n",
    "\n",
    "# Function to process a batch of texts for lemmatization and stopword removal\n",
    "def batch_lemmatize_remove_stopwords(texts):\n",
    "    results = []\n",
    "    for text in texts:\n",
    "        try:\n",
    "            lang = detect(text)  # Detect language\n",
    "            if lang in spacy_models:\n",
    "                nlp = spacy_models[lang]\n",
    "                doc = nlp(text)\n",
    "                results.append(\n",
    "                    ' '.join(\n",
    "                        [token.lemma_ for token in doc if not token.is_stop]  # Remove stopwords\n",
    "                    )\n",
    "                )\n",
    "            else:\n",
    "                results.append(text)  # Return as-is if the language is unsupported\n",
    "        except Exception:\n",
    "            results.append(text)  # Return as-is in case of an error\n",
    "    return results\n",
    "\n",
    "# Parallel processing function\n",
    "def parallel_process_lemmatization(df, column, chunk_size, num_workers):\n",
    "    chunks = [df[column][i:i + chunk_size].to_list() for i in range(0, df.height, chunk_size)]\n",
    "    tqdm_total = df.height  # Total number of entries for progress tracking\n",
    "\n",
    "    # Use pathos for multiprocessing\n",
    "    pool = Pool(num_workers)\n",
    "    results = []\n",
    "    for result in tqdm(pool.imap(batch_lemmatize_remove_stopwords, chunks), total=len(chunks), desc=\"Processing Batches\"):\n",
    "        results.extend(result)\n",
    "\n",
    "    pool.close()\n",
    "    pool.join()\n",
    "    return results\n"
   ],
   "id": "b4388f0217de8b80",
   "outputs": [],
   "execution_count": 4
  },
  {
   "metadata": {
    "ExecuteTime": {
     "end_time": "2024-12-11T20:37:39.114700Z",
     "start_time": "2024-12-11T20:37:39.109660Z"
    }
   },
   "cell_type": "code",
   "source": "df_ratings_text",
   "id": "b328f5f9e4b2a3d4",
   "outputs": [
    {
     "data": {
      "text/plain": [
       "shape: (7_102_520, 3)\n",
       "┌─────────────────────────────────┬───────────────────┬─────────────────────────────────┐\n",
       "│ text                            ┆ __index_level_0__ ┆ text_cleaned                    │\n",
       "│ ---                             ┆ ---               ┆ ---                             │\n",
       "│ str                             ┆ i64               ┆ str                             │\n",
       "╞═════════════════════════════════╪═══════════════════╪═════════════════════════════════╡\n",
       "│ Puszka 0,33l dzięki Christoph … ┆ 0                 ┆ puszka 033l dzięki christoph  … │\n",
       "│ Cerveza pale lager gabonesa. M… ┆ 1                 ┆ cerveza pale lager gabonesa mã… │\n",
       "│ Kolor- złoty, klarowny. Piana … ┆ 2                 ┆ kolor złoty klarowny piana  dr… │\n",
       "│ Botella, de GabÃ³n regalo fami… ┆ 3                 ┆ botella de gabãn regalo famili… │\n",
       "│ Many thanks for this beer to E… ┆ 4                 ┆ many thanks for this beer to e… │\n",
       "│ …                               ┆ …                 ┆ …                               │\n",
       "│ Draft at the source. Clear gol… ┆ 7122069           ┆ draft at the source clear gold… │\n",
       "│ Tap @brewpub, TiraneClear gold… ┆ 7122070           ┆ tap brewpub tiraneclear golden… │\n",
       "│ In their beer garden after a w… ┆ 7122071           ┆ in their beer garden after a w… │\n",
       "│ Draft at the source. Hazy maro… ┆ 7122072           ┆ draft at the source hazy maroo… │\n",
       "│ Tap @brewpub, TiraneDark brown… ┆ 7122073           ┆ tap brewpub tiranedark brown c… │\n",
       "└─────────────────────────────────┴───────────────────┴─────────────────────────────────┘"
      ],
      "text/html": [
       "<div><style>\n",
       ".dataframe > thead > tr,\n",
       ".dataframe > tbody > tr {\n",
       "  text-align: right;\n",
       "  white-space: pre-wrap;\n",
       "}\n",
       "</style>\n",
       "<small>shape: (7_102_520, 3)</small><table border=\"1\" class=\"dataframe\"><thead><tr><th>text</th><th>__index_level_0__</th><th>text_cleaned</th></tr><tr><td>str</td><td>i64</td><td>str</td></tr></thead><tbody><tr><td>&quot;Puszka 0,33l dzięki Christoph …</td><td>0</td><td>&quot;puszka 033l dzięki christoph  …</td></tr><tr><td>&quot;Cerveza pale lager gabonesa. M…</td><td>1</td><td>&quot;cerveza pale lager gabonesa mã…</td></tr><tr><td>&quot;Kolor- złoty, klarowny. Piana …</td><td>2</td><td>&quot;kolor złoty klarowny piana  dr…</td></tr><tr><td>&quot;Botella, de GabÃ³n regalo fami…</td><td>3</td><td>&quot;botella de gabãn regalo famili…</td></tr><tr><td>&quot;Many thanks for this beer to E…</td><td>4</td><td>&quot;many thanks for this beer to e…</td></tr><tr><td>&hellip;</td><td>&hellip;</td><td>&hellip;</td></tr><tr><td>&quot;Draft at the source. Clear gol…</td><td>7122069</td><td>&quot;draft at the source clear gold…</td></tr><tr><td>&quot;Tap @brewpub, TiraneClear gold…</td><td>7122070</td><td>&quot;tap brewpub tiraneclear golden…</td></tr><tr><td>&quot;In their beer garden after a w…</td><td>7122071</td><td>&quot;in their beer garden after a w…</td></tr><tr><td>&quot;Draft at the source. Hazy maro…</td><td>7122072</td><td>&quot;draft at the source hazy maroo…</td></tr><tr><td>&quot;Tap @brewpub, TiraneDark brown…</td><td>7122073</td><td>&quot;tap brewpub tiranedark brown c…</td></tr></tbody></table></div>"
      ]
     },
     "execution_count": 5,
     "metadata": {},
     "output_type": "execute_result"
    }
   ],
   "execution_count": 5
  },
  {
   "metadata": {
    "ExecuteTime": {
     "end_time": "2024-12-11T21:58:01.544267Z",
     "start_time": "2024-12-11T20:38:02.874744Z"
    }
   },
   "cell_type": "code",
   "source": [
    "\n",
    "\n",
    "# Parameters\n",
    "chunk_size = 1000  # Adjust chunk size based on memory\n",
    "num_workers = 4  # Set number of processes\n",
    "\n",
    "# Process with progress bar\n",
    "lemmatized_texts = parallel_process_lemmatization(\n",
    "    df_ratings_text,\n",
    "    'text_cleaned',\n",
    "    chunk_size=chunk_size,\n",
    "    num_workers=num_workers\n",
    ")"
   ],
   "id": "776e854270ddb56b",
   "outputs": [
    {
     "name": "stderr",
     "output_type": "stream",
     "text": [
      "Processing Batches: 100%|██████████| 7103/7103 [1:19:54<00:00,  1.48it/s]\n"
     ]
    },
    {
     "ename": "AttributeError",
     "evalue": "'DataFrame' object has no attribute 'with_column'",
     "output_type": "error",
     "traceback": [
      "\u001B[0;31m---------------------------------------------------------------------------\u001B[0m",
      "\u001B[0;31mAttributeError\u001B[0m                            Traceback (most recent call last)",
      "Cell \u001B[0;32mIn[6], line 14\u001B[0m\n\u001B[1;32m      6\u001B[0m lemmatized_texts \u001B[38;5;241m=\u001B[39m parallel_process_lemmatization(\n\u001B[1;32m      7\u001B[0m     df_ratings_text,\n\u001B[1;32m      8\u001B[0m     \u001B[38;5;124m'\u001B[39m\u001B[38;5;124mtext_cleaned\u001B[39m\u001B[38;5;124m'\u001B[39m,\n\u001B[1;32m      9\u001B[0m     chunk_size\u001B[38;5;241m=\u001B[39mchunk_size,\n\u001B[1;32m     10\u001B[0m     num_workers\u001B[38;5;241m=\u001B[39mnum_workers\n\u001B[1;32m     11\u001B[0m )\n\u001B[1;32m     13\u001B[0m \u001B[38;5;66;03m# Add lemmatized results to the Polars DataFrame\u001B[39;00m\n\u001B[0;32m---> 14\u001B[0m df_ratings_text \u001B[38;5;241m=\u001B[39m df_ratings_text\u001B[38;5;241m.\u001B[39mwith_column(\n\u001B[1;32m     15\u001B[0m     pl\u001B[38;5;241m.\u001B[39mSeries(name\u001B[38;5;241m=\u001B[39m\u001B[38;5;124m'\u001B[39m\u001B[38;5;124mtext_cleaned_lemma\u001B[39m\u001B[38;5;124m'\u001B[39m, values\u001B[38;5;241m=\u001B[39mlemmatized_texts)\n\u001B[1;32m     16\u001B[0m )\n\u001B[1;32m     18\u001B[0m \u001B[38;5;66;03m# Output first few rows to verify\u001B[39;00m\n\u001B[1;32m     19\u001B[0m df_ratings_text\u001B[38;5;241m.\u001B[39mhead()\n",
      "\u001B[0;31mAttributeError\u001B[0m: 'DataFrame' object has no attribute 'with_column'"
     ]
    }
   ],
   "execution_count": 6
  },
  {
   "metadata": {
    "ExecuteTime": {
     "end_time": "2024-12-12T11:51:55.130979Z",
     "start_time": "2024-12-12T11:51:53.754421Z"
    }
   },
   "cell_type": "code",
   "source": [
    "\n",
    "# Add lemmatized results to the Polars DataFrame\n",
    "df_ratings_text = df_ratings_text.with_columns(\n",
    "    pl.Series(name='text_cleaned_lemma', values=lemmatized_texts)\n",
    ")\n",
    "\n",
    "# Output first few rows to verify\n",
    "df_ratings_text.head()"
   ],
   "id": "53b68f98ea73c4a2",
   "outputs": [
    {
     "data": {
      "text/plain": [
       "shape: (5, 4)\n",
       "┌───────────────────────────┬───────────────────┬───────────────────────────┬──────────────────────┐\n",
       "│ text                      ┆ __index_level_0__ ┆ text_cleaned              ┆ text_cleaned_lemma   │\n",
       "│ ---                       ┆ ---               ┆ ---                       ┆ ---                  │\n",
       "│ str                       ┆ i64               ┆ str                       ┆ str                  │\n",
       "╞═══════════════════════════╪═══════════════════╪═══════════════════════════╪══════════════════════╡\n",
       "│ Puszka 0,33l dzięki       ┆ 0                 ┆ puszka 033l dzięki        ┆ puszka 033l dzięki   │\n",
       "│ Christoph …               ┆                   ┆ christoph  …              ┆ christoph  …         │\n",
       "│ Cerveza pale lager        ┆ 1                 ┆ cerveza pale lager        ┆ cerveza pale lager   │\n",
       "│ gabonesa. M…              ┆                   ┆ gabonesa mã…              ┆ gabonés mãs…         │\n",
       "│ Kolor- złoty, klarowny.   ┆ 2                 ┆ kolor złoty klarowny      ┆ kolor złoty klarowny │\n",
       "│ Piana …                   ┆                   ┆ piana  dr…                ┆ piać   dr…           │\n",
       "│ Botella, de GabÃ³n regalo ┆ 3                 ┆ botella de gabãn regalo   ┆ botella gabãn regalo │\n",
       "│ fami…                     ┆                   ┆ famili…                   ┆ familiar3…           │\n",
       "│ Many thanks for this beer ┆ 4                 ┆ many thanks for this beer ┆ thank beer erzengel  │\n",
       "│ to E…                     ┆                   ┆ to e…                     ┆ pour light…          │\n",
       "└───────────────────────────┴───────────────────┴───────────────────────────┴──────────────────────┘"
      ],
      "text/html": [
       "<div><style>\n",
       ".dataframe > thead > tr,\n",
       ".dataframe > tbody > tr {\n",
       "  text-align: right;\n",
       "  white-space: pre-wrap;\n",
       "}\n",
       "</style>\n",
       "<small>shape: (5, 4)</small><table border=\"1\" class=\"dataframe\"><thead><tr><th>text</th><th>__index_level_0__</th><th>text_cleaned</th><th>text_cleaned_lemma</th></tr><tr><td>str</td><td>i64</td><td>str</td><td>str</td></tr></thead><tbody><tr><td>&quot;Puszka 0,33l dzięki Christoph …</td><td>0</td><td>&quot;puszka 033l dzięki christoph  …</td><td>&quot;puszka 033l dzięki christoph  …</td></tr><tr><td>&quot;Cerveza pale lager gabonesa. M…</td><td>1</td><td>&quot;cerveza pale lager gabonesa mã…</td><td>&quot;cerveza pale lager gabonés mãs…</td></tr><tr><td>&quot;Kolor- złoty, klarowny. Piana …</td><td>2</td><td>&quot;kolor złoty klarowny piana  dr…</td><td>&quot;kolor złoty klarowny piać   dr…</td></tr><tr><td>&quot;Botella, de GabÃ³n regalo fami…</td><td>3</td><td>&quot;botella de gabãn regalo famili…</td><td>&quot;botella gabãn regalo familiar3…</td></tr><tr><td>&quot;Many thanks for this beer to E…</td><td>4</td><td>&quot;many thanks for this beer to e…</td><td>&quot;thank beer erzengel pour light…</td></tr></tbody></table></div>"
      ]
     },
     "execution_count": 7,
     "metadata": {},
     "output_type": "execute_result"
    }
   ],
   "execution_count": 7
  },
  {
   "metadata": {
    "ExecuteTime": {
     "end_time": "2024-12-12T11:53:37.921815Z",
     "start_time": "2024-12-12T11:53:05.572832Z"
    }
   },
   "cell_type": "code",
   "source": "df_ratings_text.write_parquet(DATA_FOLDER + 'ratings_text_cleaned_lemma.pq')",
   "id": "9a9bf1ccb1a3154d",
   "outputs": [],
   "execution_count": 9
  },
  {
   "metadata": {
    "ExecuteTime": {
     "end_time": "2024-12-12T18:46:27.841118Z",
     "start_time": "2024-12-12T18:46:25.378147Z"
    }
   },
   "cell_type": "code",
   "source": "df_ratings_text = pl.read_parquet(DATA_FOLDER + 'ratings_text_cleaned_lemma.pq')",
   "id": "58363f34410ff368",
   "outputs": [
    {
     "name": "stderr",
     "output_type": "stream",
     "text": [
      "parquet scan with parallel = RowGroups\n"
     ]
    }
   ],
   "execution_count": 5
  },
  {
   "metadata": {
    "ExecuteTime": {
     "end_time": "2024-12-12T14:53:20.163363Z",
     "start_time": "2024-12-12T14:53:20.141503Z"
    }
   },
   "cell_type": "code",
   "source": "df_ratings_text.filter(pl.col(\"text_cleaned_lemma\").str.contains(\"head\")).limit(10)",
   "id": "8944de1cb8222433",
   "outputs": [
    {
     "name": "stderr",
     "output_type": "stream",
     "text": [
      "dataframe filtered\n"
     ]
    },
    {
     "data": {
      "text/plain": [
       "shape: (10, 4)\n",
       "┌──────────────────────────┬───────────────────┬─────────────────────────┬─────────────────────────┐\n",
       "│ text                     ┆ __index_level_0__ ┆ text_cleaned            ┆ text_cleaned_lemma      │\n",
       "│ ---                      ┆ ---               ┆ ---                     ┆ ---                     │\n",
       "│ str                      ┆ i64               ┆ str                     ┆ str                     │\n",
       "╞══════════════════════════╪═══════════════════╪═════════════════════════╪═════════════════════════╡\n",
       "│ Many thanks for this     ┆ 4                 ┆ many thanks for this    ┆ thank beer erzengel     │\n",
       "│ beer to E…               ┆                   ┆ beer to e…              ┆ pour light…             │\n",
       "│ Many thanks to Erzengel  ┆ 5                 ┆ many thanks to erzengel ┆ thank erzengel share    │\n",
       "│ for sh…                  ┆                   ┆ for sh…                 ┆ pour clea…              │\n",
       "│ 330ml bottle.            ┆ 8                 ┆ 330ml bottle            ┆ 330ml bottle            │\n",
       "│ 29-05-2014.From …        ┆                   ┆ 29052014from gabo…      ┆ 29052014from gabo…      │\n",
       "│ Pours yellow with a      ┆ 10                ┆ pours yellow with a     ┆ pour yellow large white │\n",
       "│ large whit…              ┆                   ┆ large whit…             ┆ head  …                 │\n",
       "│ Can at the DC Local      ┆ 12                ┆ can at the dc local     ┆ dc local gathering      │\n",
       "│ Gathering …              ┆                   ┆ gathering …             ┆ 812015 shar…            │\n",
       "│ 16oz can pours a clear   ┆ 13                ┆ 16oz can pours a clear  ┆ 16 oz pour clear gold   │\n",
       "│ gold wi…                 ┆                   ┆ gold wi…                ┆ cloudy w…               │\n",
       "│ From a 12 oz bottle at   ┆ 14                ┆ from a 12 oz bottle at  ┆ 12 oz bottle rb aug 1   │\n",
       "│ the RB …                 ┆                   ┆ the rb …                ┆ tasting …               │\n",
       "│ 16oz can. Pours a very   ┆ 16                ┆ 16oz can pours a very   ┆ 16 oz pour sad pale     │\n",
       "│ sad, pa…                 ┆                   ┆ sad pale…               ┆ yellow col…             │\n",
       "│ Can muled from the       ┆ 17                ┆ can muled from the      ┆ muled source maki thank │\n",
       "│ source by M…             ┆                   ┆ source by m…            ┆ clear …                 │\n",
       "│ Bottle. [ As my country  ┆ 21                ┆ bottle  as my country   ┆ bottle   country rating │\n",
       "│ rating…                  ┆                   ┆ rating  …               ┆ 134 …                   │\n",
       "└──────────────────────────┴───────────────────┴─────────────────────────┴─────────────────────────┘"
      ],
      "text/html": [
       "<div><style>\n",
       ".dataframe > thead > tr,\n",
       ".dataframe > tbody > tr {\n",
       "  text-align: right;\n",
       "  white-space: pre-wrap;\n",
       "}\n",
       "</style>\n",
       "<small>shape: (10, 4)</small><table border=\"1\" class=\"dataframe\"><thead><tr><th>text</th><th>__index_level_0__</th><th>text_cleaned</th><th>text_cleaned_lemma</th></tr><tr><td>str</td><td>i64</td><td>str</td><td>str</td></tr></thead><tbody><tr><td>&quot;Many thanks for this beer to E…</td><td>4</td><td>&quot;many thanks for this beer to e…</td><td>&quot;thank beer erzengel pour light…</td></tr><tr><td>&quot;Many thanks to Erzengel for sh…</td><td>5</td><td>&quot;many thanks to erzengel for sh…</td><td>&quot;thank erzengel share pour clea…</td></tr><tr><td>&quot;330ml bottle. 29-05-2014.From …</td><td>8</td><td>&quot;330ml bottle 29052014from gabo…</td><td>&quot;330ml bottle 29052014from gabo…</td></tr><tr><td>&quot;Pours yellow with a large whit…</td><td>10</td><td>&quot;pours yellow with a large whit…</td><td>&quot;pour yellow large white head&nbsp;&nbsp;…</td></tr><tr><td>&quot;Can at the DC Local Gathering …</td><td>12</td><td>&quot;can at the dc local gathering …</td><td>&quot;dc local gathering 812015 shar…</td></tr><tr><td>&quot;16oz can pours a clear gold wi…</td><td>13</td><td>&quot;16oz can pours a clear gold wi…</td><td>&quot;16 oz pour clear gold cloudy w…</td></tr><tr><td>&quot;From a 12 oz bottle at the RB …</td><td>14</td><td>&quot;from a 12 oz bottle at the rb …</td><td>&quot;12 oz bottle rb aug 1 tasting …</td></tr><tr><td>&quot;16oz can. Pours a very sad, pa…</td><td>16</td><td>&quot;16oz can pours a very sad pale…</td><td>&quot;16 oz pour sad pale yellow col…</td></tr><tr><td>&quot;Can muled from the source by M…</td><td>17</td><td>&quot;can muled from the source by m…</td><td>&quot;muled source maki thank clear …</td></tr><tr><td>&quot;Bottle. [ As my country rating…</td><td>21</td><td>&quot;bottle&nbsp;&nbsp;as my country rating&nbsp;&nbsp;…</td><td>&quot;bottle&nbsp;&nbsp;&nbsp;country rating&nbsp;&nbsp;&nbsp;134 …</td></tr></tbody></table></div>"
      ]
     },
     "execution_count": 28,
     "metadata": {},
     "output_type": "execute_result"
    }
   ],
   "execution_count": 28
  },
  {
   "metadata": {
    "ExecuteTime": {
     "end_time": "2024-12-12T18:46:27.859131Z",
     "start_time": "2024-12-12T18:46:27.852193Z"
    }
   },
   "cell_type": "code",
   "source": [
    "# concat the two dataframes\n",
    "df_ratings = df_ratings_text.with_columns(\n",
    "    df_ratings_no_text\n",
    ")"
   ],
   "id": "e1899fff232646c6",
   "outputs": [],
   "execution_count": 6
  },
  {
   "metadata": {
    "ExecuteTime": {
     "end_time": "2024-12-12T18:41:53.405286Z",
     "start_time": "2024-12-12T18:41:53.382973Z"
    }
   },
   "cell_type": "code",
   "source": "print(df_ratings.head(5))",
   "id": "1e0fc785b0a1260",
   "outputs": [
    {
     "name": "stdout",
     "output_type": "stream",
     "text": [
      "shape: (5, 22)\n",
      "┌─────┬─────┬─────┬─────┬─────┬─────┬─────┬─────┬─────┬─────┬─────┬─────┬─────┬─────┬─────┬─────┬─────┬─────┬─────┬─────┬─────┬─────┐\n",
      "│ tex ┆ __i ┆ tex ┆ tex ┆ dat ┆ bee ┆ use ┆ bre ┆ abv ┆ sty ┆ rat ┆ pal ┆ tas ┆ app ┆ aro ┆ ove ┆ yea ┆ bre ┆ cou ┆ sta ┆ cou ┆ sta │\n",
      "│ t   ┆ nde ┆ t_c ┆ t_c ┆ e   ┆ r_i ┆ r_i ┆ wer ┆ --- ┆ le  ┆ ing ┆ ate ┆ te  ┆ ear ┆ ma  ┆ ral ┆ r   ┆ wer ┆ ntr ┆ te_ ┆ ntr ┆ te_ │\n",
      "│ --- ┆ x_l ┆ lea ┆ lea ┆ --- ┆ d   ┆ d   ┆ y_i ┆ f64 ┆ --- ┆ --- ┆ --- ┆ --- ┆ anc ┆ --- ┆ l   ┆ --- ┆ y_n ┆ y_b ┆ bre ┆ y_u ┆ use │\n",
      "│ str ┆ eve ┆ ned ┆ ned ┆ dat ┆ --- ┆ --- ┆ d   ┆     ┆ str ┆ f64 ┆ f64 ┆ f64 ┆ e   ┆ f64 ┆ --- ┆ i32 ┆ ame ┆ rew ┆ wer ┆ ser ┆ r   │\n",
      "│     ┆ l_0 ┆ --- ┆ _le ┆ eti ┆ i64 ┆ i64 ┆ --- ┆     ┆     ┆     ┆     ┆     ┆ --- ┆     ┆ f64 ┆     ┆ --- ┆ ery ┆ y   ┆ --- ┆ --- │\n",
      "│     ┆ __  ┆ str ┆ mma ┆ me[ ┆     ┆     ┆ i64 ┆     ┆     ┆     ┆     ┆     ┆ f64 ┆     ┆     ┆     ┆ str ┆ --- ┆ --- ┆ str ┆ str │\n",
      "│     ┆ --- ┆     ┆ --- ┆ ns] ┆     ┆     ┆     ┆     ┆     ┆     ┆     ┆     ┆     ┆     ┆     ┆     ┆     ┆ str ┆ str ┆     ┆     │\n",
      "│     ┆ i64 ┆     ┆ str ┆     ┆     ┆     ┆     ┆     ┆     ┆     ┆     ┆     ┆     ┆     ┆     ┆     ┆     ┆     ┆     ┆     ┆     │\n",
      "╞═════╪═════╪═════╪═════╪═════╪═════╪═════╪═════╪═════╪═════╪═════╪═════╪═════╪═════╪═════╪═════╪═════╪═════╪═════╪═════╪═════╪═════╡\n",
      "│ Pus ┆ 0   ┆ pus ┆ pus ┆ 201 ┆ 410 ┆ 175 ┆ 319 ┆ 5.0 ┆ Pal ┆ 2.0 ┆ 2.0 ┆ 4.0 ┆ 2.0 ┆ 4.0 ┆ 8.0 ┆ 201 ┆ Sob ┆ Gab ┆ nul ┆ Pol ┆ nul │\n",
      "│ zka ┆     ┆ zka ┆ zka ┆ 6-0 ┆ 549 ┆ 852 ┆ 8   ┆     ┆ e   ┆     ┆     ┆     ┆     ┆     ┆     ┆ 6   ┆ rag ┆ on  ┆ l   ┆ and ┆ l   │\n",
      "│ 0,3 ┆     ┆ 033 ┆ 033 ┆ 4-2 ┆     ┆     ┆     ┆     ┆ Lag ┆     ┆     ┆     ┆     ┆     ┆     ┆     ┆ a   ┆     ┆     ┆     ┆     │\n",
      "│ 3l  ┆     ┆ l   ┆ l   ┆ 6   ┆     ┆     ┆     ┆     ┆ er  ┆     ┆     ┆     ┆     ┆     ┆     ┆     ┆     ┆     ┆     ┆     ┆     │\n",
      "│ dzi ┆     ┆ dzi ┆ dzi ┆ 12: ┆     ┆     ┆     ┆     ┆     ┆     ┆     ┆     ┆     ┆     ┆     ┆     ┆     ┆     ┆     ┆     ┆     │\n",
      "│ ęki ┆     ┆ ęki ┆ ęki ┆ 00: ┆     ┆     ┆     ┆     ┆     ┆     ┆     ┆     ┆     ┆     ┆     ┆     ┆     ┆     ┆     ┆     ┆     │\n",
      "│ Chr ┆     ┆ chr ┆ chr ┆ 00  ┆     ┆     ┆     ┆     ┆     ┆     ┆     ┆     ┆     ┆     ┆     ┆     ┆     ┆     ┆     ┆     ┆     │\n",
      "│ ist ┆     ┆ ist ┆ ist ┆     ┆     ┆     ┆     ┆     ┆     ┆     ┆     ┆     ┆     ┆     ┆     ┆     ┆     ┆     ┆     ┆     ┆     │\n",
      "│ oph ┆     ┆ oph ┆ oph ┆     ┆     ┆     ┆     ┆     ┆     ┆     ┆     ┆     ┆     ┆     ┆     ┆     ┆     ┆     ┆     ┆     ┆     │\n",
      "│ …   ┆     ┆ …   ┆ …   ┆     ┆     ┆     ┆     ┆     ┆     ┆     ┆     ┆     ┆     ┆     ┆     ┆     ┆     ┆     ┆     ┆     ┆     │\n",
      "│ Cer ┆ 1   ┆ cer ┆ cer ┆ 201 ┆ 105 ┆ 442 ┆ 319 ┆ 5.2 ┆ Pal ┆ 1.9 ┆ 2.0 ┆ 4.0 ┆ 2.0 ┆ 3.0 ┆ 8.0 ┆ 201 ┆ Sob ┆ Gab ┆ nul ┆ Spa ┆ nul │\n",
      "│ vez ┆     ┆ vez ┆ vez ┆ 7-0 ┆ 273 ┆ 761 ┆ 8   ┆     ┆ e   ┆     ┆     ┆     ┆     ┆     ┆     ┆ 7   ┆ rag ┆ on  ┆ l   ┆ in  ┆ l   │\n",
      "│ a   ┆     ┆ a   ┆ a   ┆ 2-1 ┆     ┆     ┆     ┆     ┆ Lag ┆     ┆     ┆     ┆     ┆     ┆     ┆     ┆ a   ┆     ┆     ┆     ┆     │\n",
      "│ pal ┆     ┆ pal ┆ pal ┆ 7   ┆     ┆     ┆     ┆     ┆ er  ┆     ┆     ┆     ┆     ┆     ┆     ┆     ┆     ┆     ┆     ┆     ┆     │\n",
      "│ e   ┆     ┆ e   ┆ e   ┆ 12: ┆     ┆     ┆     ┆     ┆     ┆     ┆     ┆     ┆     ┆     ┆     ┆     ┆     ┆     ┆     ┆     ┆     │\n",
      "│ lag ┆     ┆ lag ┆ lag ┆ 00: ┆     ┆     ┆     ┆     ┆     ┆     ┆     ┆     ┆     ┆     ┆     ┆     ┆     ┆     ┆     ┆     ┆     │\n",
      "│ er  ┆     ┆ er  ┆ er  ┆ 00  ┆     ┆     ┆     ┆     ┆     ┆     ┆     ┆     ┆     ┆     ┆     ┆     ┆     ┆     ┆     ┆     ┆     │\n",
      "│ gab ┆     ┆ gab ┆ gab ┆     ┆     ┆     ┆     ┆     ┆     ┆     ┆     ┆     ┆     ┆     ┆     ┆     ┆     ┆     ┆     ┆     ┆     │\n",
      "│ one ┆     ┆ one ┆ oné ┆     ┆     ┆     ┆     ┆     ┆     ┆     ┆     ┆     ┆     ┆     ┆     ┆     ┆     ┆     ┆     ┆     ┆     │\n",
      "│ sa. ┆     ┆ sa  ┆ s   ┆     ┆     ┆     ┆     ┆     ┆     ┆     ┆     ┆     ┆     ┆     ┆     ┆     ┆     ┆     ┆     ┆     ┆     │\n",
      "│ M…  ┆     ┆ mã… ┆ mãs ┆     ┆     ┆     ┆     ┆     ┆     ┆     ┆     ┆     ┆     ┆     ┆     ┆     ┆     ┆     ┆     ┆     ┆     │\n",
      "│     ┆     ┆     ┆ …   ┆     ┆     ┆     ┆     ┆     ┆     ┆     ┆     ┆     ┆     ┆     ┆     ┆     ┆     ┆     ┆     ┆     ┆     │\n",
      "│ Kol ┆ 2   ┆ kol ┆ kol ┆ 201 ┆ 105 ┆ 288 ┆ 319 ┆ 5.2 ┆ Pal ┆ 1.6 ┆ 2.0 ┆ 3.0 ┆ 3.0 ┆ 3.0 ┆ 5.0 ┆ 201 ┆ Sob ┆ Gab ┆ nul ┆ Pol ┆ nul │\n",
      "│ or- ┆     ┆ or  ┆ or  ┆ 6-0 ┆ 273 ┆ 889 ┆ 8   ┆     ┆ e   ┆     ┆     ┆     ┆     ┆     ┆     ┆ 6   ┆ rag ┆ on  ┆ l   ┆ and ┆ l   │\n",
      "│ zło ┆     ┆ zło ┆ zło ┆ 6-2 ┆     ┆     ┆     ┆     ┆ Lag ┆     ┆     ┆     ┆     ┆     ┆     ┆     ┆ a   ┆     ┆     ┆     ┆     │\n",
      "│ ty, ┆     ┆ ty  ┆ ty  ┆ 4   ┆     ┆     ┆     ┆     ┆ er  ┆     ┆     ┆     ┆     ┆     ┆     ┆     ┆     ┆     ┆     ┆     ┆     │\n",
      "│ kla ┆     ┆ kla ┆ kla ┆ 12: ┆     ┆     ┆     ┆     ┆     ┆     ┆     ┆     ┆     ┆     ┆     ┆     ┆     ┆     ┆     ┆     ┆     │\n",
      "│ row ┆     ┆ row ┆ row ┆ 00: ┆     ┆     ┆     ┆     ┆     ┆     ┆     ┆     ┆     ┆     ┆     ┆     ┆     ┆     ┆     ┆     ┆     │\n",
      "│ ny. ┆     ┆ ny  ┆ ny  ┆ 00  ┆     ┆     ┆     ┆     ┆     ┆     ┆     ┆     ┆     ┆     ┆     ┆     ┆     ┆     ┆     ┆     ┆     │\n",
      "│ Pia ┆     ┆ pia ┆ pia ┆     ┆     ┆     ┆     ┆     ┆     ┆     ┆     ┆     ┆     ┆     ┆     ┆     ┆     ┆     ┆     ┆     ┆     │\n",
      "│ na  ┆     ┆ na  ┆ ć   ┆     ┆     ┆     ┆     ┆     ┆     ┆     ┆     ┆     ┆     ┆     ┆     ┆     ┆     ┆     ┆     ┆     ┆     │\n",
      "│ …   ┆     ┆ dr… ┆ dr… ┆     ┆     ┆     ┆     ┆     ┆     ┆     ┆     ┆     ┆     ┆     ┆     ┆     ┆     ┆     ┆     ┆     ┆     │\n",
      "│ Bot ┆ 3   ┆ bot ┆ bot ┆ 201 ┆ 105 ┆ 250 ┆ 319 ┆ 5.2 ┆ Pal ┆ 1.5 ┆ 1.0 ┆ 2.0 ┆ 4.0 ┆ 3.0 ┆ 5.0 ┆ 201 ┆ Sob ┆ Gab ┆ nul ┆ Spa ┆ nul │\n",
      "│ ell ┆     ┆ ell ┆ ell ┆ 6-0 ┆ 273 ┆ 510 ┆ 8   ┆     ┆ e   ┆     ┆     ┆     ┆     ┆     ┆     ┆ 6   ┆ rag ┆ on  ┆ l   ┆ in  ┆ l   │\n",
      "│ a,  ┆     ┆ a   ┆ a   ┆ 1-0 ┆     ┆     ┆     ┆     ┆ Lag ┆     ┆     ┆     ┆     ┆     ┆     ┆     ┆ a   ┆     ┆     ┆     ┆     │\n",
      "│ de  ┆     ┆ de  ┆ gab ┆ 1   ┆     ┆     ┆     ┆     ┆ er  ┆     ┆     ┆     ┆     ┆     ┆     ┆     ┆     ┆     ┆     ┆     ┆     │\n",
      "│ Gab ┆     ┆ gab ┆ ãn  ┆ 12: ┆     ┆     ┆     ┆     ┆     ┆     ┆     ┆     ┆     ┆     ┆     ┆     ┆     ┆     ┆     ┆     ┆     │\n",
      "│ Ã³n ┆     ┆ ãn  ┆ reg ┆ 00: ┆     ┆     ┆     ┆     ┆     ┆     ┆     ┆     ┆     ┆     ┆     ┆     ┆     ┆     ┆     ┆     ┆     │\n",
      "│ reg ┆     ┆ reg ┆ alo ┆ 00  ┆     ┆     ┆     ┆     ┆     ┆     ┆     ┆     ┆     ┆     ┆     ┆     ┆     ┆     ┆     ┆     ┆     │\n",
      "│ alo ┆     ┆ alo ┆ fam ┆     ┆     ┆     ┆     ┆     ┆     ┆     ┆     ┆     ┆     ┆     ┆     ┆     ┆     ┆     ┆     ┆     ┆     │\n",
      "│ fam ┆     ┆ fam ┆ ili ┆     ┆     ┆     ┆     ┆     ┆     ┆     ┆     ┆     ┆     ┆     ┆     ┆     ┆     ┆     ┆     ┆     ┆     │\n",
      "│ i…  ┆     ┆ ili ┆ ar3 ┆     ┆     ┆     ┆     ┆     ┆     ┆     ┆     ┆     ┆     ┆     ┆     ┆     ┆     ┆     ┆     ┆     ┆     │\n",
      "│     ┆     ┆ …   ┆ …   ┆     ┆     ┆     ┆     ┆     ┆     ┆     ┆     ┆     ┆     ┆     ┆     ┆     ┆     ┆     ┆     ┆     ┆     │\n",
      "│ Man ┆ 4   ┆ man ┆ tha ┆ 201 ┆ 105 ┆ 122 ┆ 319 ┆ 5.2 ┆ Pal ┆ 1.9 ┆ 2.0 ┆ 4.0 ┆ 2.0 ┆ 4.0 ┆ 7.0 ┆ 201 ┆ Sob ┆ Gab ┆ nul ┆ Ger ┆ nul │\n",
      "│ y   ┆     ┆ y   ┆ nk  ┆ 5-1 ┆ 273 ┆ 778 ┆ 8   ┆     ┆ e   ┆     ┆     ┆     ┆     ┆     ┆     ┆ 5   ┆ rag ┆ on  ┆ l   ┆ man ┆ l   │\n",
      "│ tha ┆     ┆ tha ┆ bee ┆ 0-2 ┆     ┆     ┆     ┆     ┆ Lag ┆     ┆     ┆     ┆     ┆     ┆     ┆     ┆ a   ┆     ┆     ┆ y   ┆     │\n",
      "│ nks ┆     ┆ nks ┆ r   ┆ 3   ┆     ┆     ┆     ┆     ┆ er  ┆     ┆     ┆     ┆     ┆     ┆     ┆     ┆     ┆     ┆     ┆     ┆     │\n",
      "│ for ┆     ┆ for ┆ erz ┆ 12: ┆     ┆     ┆     ┆     ┆     ┆     ┆     ┆     ┆     ┆     ┆     ┆     ┆     ┆     ┆     ┆     ┆     │\n",
      "│ thi ┆     ┆ thi ┆ eng ┆ 00: ┆     ┆     ┆     ┆     ┆     ┆     ┆     ┆     ┆     ┆     ┆     ┆     ┆     ┆     ┆     ┆     ┆     │\n",
      "│ s   ┆     ┆ s   ┆ el  ┆ 00  ┆     ┆     ┆     ┆     ┆     ┆     ┆     ┆     ┆     ┆     ┆     ┆     ┆     ┆     ┆     ┆     ┆     │\n",
      "│ bee ┆     ┆ bee ┆ pou ┆     ┆     ┆     ┆     ┆     ┆     ┆     ┆     ┆     ┆     ┆     ┆     ┆     ┆     ┆     ┆     ┆     ┆     │\n",
      "│ r   ┆     ┆ r   ┆ r   ┆     ┆     ┆     ┆     ┆     ┆     ┆     ┆     ┆     ┆     ┆     ┆     ┆     ┆     ┆     ┆     ┆     ┆     │\n",
      "│ to  ┆     ┆ to  ┆ lig ┆     ┆     ┆     ┆     ┆     ┆     ┆     ┆     ┆     ┆     ┆     ┆     ┆     ┆     ┆     ┆     ┆     ┆     │\n",
      "│ E…  ┆     ┆ e…  ┆ ht… ┆     ┆     ┆     ┆     ┆     ┆     ┆     ┆     ┆     ┆     ┆     ┆     ┆     ┆     ┆     ┆     ┆     ┆     │\n",
      "└─────┴─────┴─────┴─────┴─────┴─────┴─────┴─────┴─────┴─────┴─────┴─────┴─────┴─────┴─────┴─────┴─────┴─────┴─────┴─────┴─────┴─────┘\n"
     ]
    }
   ],
   "execution_count": 33
  },
  {
   "metadata": {
    "ExecuteTime": {
     "end_time": "2024-12-12T14:46:04.813490Z",
     "start_time": "2024-12-12T14:46:04.811781Z"
    }
   },
   "cell_type": "code",
   "source": "",
   "id": "58557c4102d5eba9",
   "outputs": [],
   "execution_count": null
  },
  {
   "metadata": {
    "ExecuteTime": {
     "end_time": "2024-12-12T14:47:44.418541Z",
     "start_time": "2024-12-12T14:47:44.414860Z"
    }
   },
   "cell_type": "code",
   "source": "df_ratings.select(pl.col(\"rating\")).min()",
   "id": "cf02f2013baf995f",
   "outputs": [
    {
     "data": {
      "text/plain": [
       "shape: (1, 1)\n",
       "┌────────┐\n",
       "│ rating │\n",
       "│ ---    │\n",
       "│ f64    │\n",
       "╞════════╡\n",
       "│ 0.5    │\n",
       "└────────┘"
      ],
      "text/html": [
       "<div><style>\n",
       ".dataframe > thead > tr,\n",
       ".dataframe > tbody > tr {\n",
       "  text-align: right;\n",
       "  white-space: pre-wrap;\n",
       "}\n",
       "</style>\n",
       "<small>shape: (1, 1)</small><table border=\"1\" class=\"dataframe\"><thead><tr><th>rating</th></tr><tr><td>f64</td></tr></thead><tbody><tr><td>0.5</td></tr></tbody></table></div>"
      ]
     },
     "execution_count": 13,
     "metadata": {},
     "output_type": "execute_result"
    }
   ],
   "execution_count": 13
  },
  {
   "metadata": {},
   "cell_type": "code",
   "outputs": [],
   "execution_count": null,
   "source": "",
   "id": "e6993586f6dd3889"
  },
  {
   "metadata": {
    "ExecuteTime": {
     "end_time": "2024-12-12T15:29:29.366591Z",
     "start_time": "2024-12-12T15:29:29.364439Z"
    }
   },
   "cell_type": "code",
   "source": "df_lazy = df_ratings.lazy()",
   "id": "dd59f489b5cd6a57",
   "outputs": [],
   "execution_count": 7
  },
  {
   "metadata": {
    "ExecuteTime": {
     "end_time": "2024-12-12T15:29:30.893110Z",
     "start_time": "2024-12-12T15:29:30.888862Z"
    }
   },
   "cell_type": "code",
   "source": [
    "# group by rating, then concat all the text_cleaned_lemma\n",
    "query = (\n",
    "    df_lazy\n",
    "    # Select the necessary columns\n",
    "    .select([\"rating\", \"text_cleaned_lemma\"])\n",
    "    # Tokenize the `text_cleaned_lemma` into words and explode to get one word per row\n",
    "    .with_columns(\n",
    "        pl.col(\"text_cleaned_lemma\")\n",
    "        .str.split(\" \")  # Tokenize by splitting on spaces\n",
    "        .alias(\"tokens\")\n",
    "    )\n",
    "    .explode(\"tokens\")  # Expand tokenized list into rows\n",
    "    # Filter out empty strings (whitespace tokens)\n",
    "    .filter(pl.col(\"tokens\") != \"\")\n",
    "    # Group by rating and tokens (words), count occurrences\n",
    "    .group_by([\"rating\", \"tokens\"])\n",
    "    .agg(\n",
    "        pl.len().alias(\"word_count\")\n",
    "    )\n",
    "    # Group by rating and collect word counts into a histogram-like structure\n",
    "    .group_by(\"rating\")\n",
    "    .agg(\n",
    "        pl.col(\"tokens\").alias(\"words\"),\n",
    "        pl.col(\"word_count\").alias(\"frequencies\")\n",
    "    )\n",
    ")\n"
   ],
   "id": "90b70949713b6b35",
   "outputs": [],
   "execution_count": 8
  },
  {
   "metadata": {
    "ExecuteTime": {
     "end_time": "2024-12-12T12:05:30.016414Z",
     "start_time": "2024-12-12T12:05:30.014012Z"
    }
   },
   "cell_type": "code",
   "source": [
    "# group by country_user, then concat all the text_cleaned_lemma\n",
    "query = (\n",
    "    df_lazy\n",
    "    # Select the necessary columns\n",
    "    .select([\"country_user\", \"text_cleaned_lemma\"])\n",
    "    # Tokenize the `text_cleaned_lemma` into words and explode to get one word per row\n",
    "    .with_columns(\n",
    "        pl.col(\"text_cleaned_lemma\")\n",
    "        .str.split(\" \")  # Tokenize by splitting on spaces\n",
    "        .alias(\"tokens\")\n",
    "    )\n",
    "    .explode(\"tokens\")  # Expand tokenized list into rows\n",
    "    # Filter out empty strings (whitespace tokens)\n",
    "    .filter(pl.col(\"tokens\") != \"\")\n",
    "    # Group by country and tokens (words), count occurrences\n",
    "    .group_by([\"country_user\", \"tokens\"])\n",
    "    .agg(\n",
    "        pl.len().alias(\"word_count\")\n",
    "    )\n",
    "    # Group by country and collect word counts into a histogram-like structure\n",
    "    .group_by(\"country_user\")\n",
    "    .agg(\n",
    "        pl.col(\"tokens\").alias(\"words\"),\n",
    "        pl.col(\"word_count\").alias(\"frequencies\")\n",
    "    )\n",
    ")"
   ],
   "id": "3a45e79b1b5185c8",
   "outputs": [],
   "execution_count": 35
  },
  {
   "metadata": {
    "ExecuteTime": {
     "end_time": "2024-12-12T15:29:53.356662Z",
     "start_time": "2024-12-12T15:29:34.326849Z"
    }
   },
   "cell_type": "code",
   "source": "result = query.collect()",
   "id": "26abe42629262d71",
   "outputs": [
    {
     "name": "stderr",
     "output_type": "stream",
     "text": [
      "keys/aggregates are not partitionable: running default HASH AGGREGATION\n",
      "dataframe filtered\n",
      "estimated unique values: 74841706\n",
      "estimated unique count: 74841706 exceeded the boundary: 1000, running default HASH AGGREGATION\n"
     ]
    }
   ],
   "execution_count": 9
  },
  {
   "metadata": {
    "ExecuteTime": {
     "end_time": "2024-12-12T15:30:24.259125Z",
     "start_time": "2024-12-12T15:30:24.241049Z"
    }
   },
   "cell_type": "code",
   "source": "result",
   "id": "186285e11c036b77",
   "outputs": [
    {
     "data": {
      "text/plain": [
       "shape: (46, 3)\n",
       "┌────────┬─────────────────────────────────┬───────────────┐\n",
       "│ rating ┆ words                           ┆ frequencies   │\n",
       "│ ---    ┆ ---                             ┆ ---           │\n",
       "│ f64    ┆ list[str]                       ┆ list[u32]     │\n",
       "╞════════╪═════════════════════════════════╪═══════════════╡\n",
       "│ 3.0    ┆ [\"rudys\", \"âgoodyear\", … \"obli… ┆ [1, 1, … 1]   │\n",
       "│ 1.3    ┆ [\"podla\", \"snowcone\", … \"dolce… ┆ [2, 1, … 8]   │\n",
       "│ 0.7    ┆ [\"overcarbonated\", \"horkosť\", … ┆ [4, 1, … 1]   │\n",
       "│ 1.2    ┆ [\"alkie\", \"lambicy\", … \"mat\"]   ┆ [1, 1, … 7]   │\n",
       "│ 2.9    ┆ [\"twotenth\", \"ultimi\", … \"biãc… ┆ [1, 4, … 2]   │\n",
       "│ 2.8    ┆ [\"b285099\", \"karamellfargebeig… ┆ [1, 1, … 1]   │\n",
       "│ 2.2    ┆ [\"cocoataste\", \"southtaste\", …… ┆ [1, 1, … 1]   │\n",
       "│ 0.5    ┆ [\"scifi\", \"politician\", … \"bre… ┆ [1, 2, … 3]   │\n",
       "│ 5.0    ┆ [\"guidã\", \"35337\", … \"grassalf… ┆ [1, 1, … 1]   │\n",
       "│ 2.1    ┆ [\"definitelybottle\", \"szczątko… ┆ [1, 1, … 1]   │\n",
       "│ 4.8    ┆ [\"20151202\", \"easter\", … \"faci… ┆ [1, 4, … 3]   │\n",
       "│ 0.9    ┆ [\"allalmost\", \"war\", … \"warsza… ┆ [1, 2, … 1]   │\n",
       "│ 2.0    ┆ [\"plunk\", \"pukeinduce\", … \"wai… ┆ [3, 1, … 39]  │\n",
       "│ 3.7    ┆ [\"travir\", \"13121213\", … \"refr… ┆ [2, 1, … 1]   │\n",
       "│ 4.6    ┆ [\"refill\", \"jamso\", … \"breadto… ┆ [5, 1, … 1]   │\n",
       "│ 4.9    ┆ [\"belgesquoiqu\", \"quâelles\", …… ┆ [1, 1, … 1]   │\n",
       "│ 3.6    ┆ [\"bitternessaftertaste\", \"chan… ┆ [8, 1, … 2]   │\n",
       "│ 1.9    ┆ [\"dun\", \"woodsy\", … \"gãrs\"]     ┆ [15, 10, … 1] │\n",
       "│ 1.6    ┆ [\"avslut\", \"maltdrink\", … \"Hop… ┆ [2, 1, … 1]   │\n",
       "│ 3.5    ┆ [\"simmeringer\", \"firmedium\", …… ┆ [2, 1, … 2]   │\n",
       "│ 3.4    ┆ [\"notoverwhleming\", \"mogli\", …… ┆ [1, 1, … 1]   │\n",
       "│ 1.5    ┆ [\"jihlava\", \"â365â\", … \"bitter… ┆ [1, 1, … 1]   │\n",
       "│ 4.7    ┆ [\"nyugodtan\", \"pal\", … \"florea… ┆ [1, 9, … 1]   │\n",
       "│ 3.3    ┆ [\"070620\", \"питкий\", … \"bbf201… ┆ [1, 4, … 1]   │\n",
       "│ 2.7    ┆ [\"eitherserving\", \"interesante… ┆ [1, 1, … 1]   │\n",
       "│ 4.5    ┆ [\"viii\", \"funkylock\", … \"trian… ┆ [1, 1, … 1]   │\n",
       "│ 4.3    ┆ [\"profilebut\", \"84831639the\", … ┆ [1, 1, … 1]   │\n",
       "│ 0.6    ┆ [\"oprah\", \"pityrate\", … \"millp… ┆ [1, 1, … 1]   │\n",
       "│ 1.4    ┆ [\"sãl\", \"lebanonbecause\", … \"t… ┆ [2, 1, … 4]   │\n",
       "│ 2.6    ┆ [\"boring4212\", \"cornbreadiness… ┆ [1, 1, … 1]   │\n",
       "│ 4.1    ┆ [\"pkgolden\", \"woodie\", … \"egeb… ┆ [1, 2, … 1]   │\n",
       "│ 1.1    ┆ [\"deberãar\", \"yah\", … \"reflux\"… ┆ [1, 1, … 2]   │\n",
       "│ 2.5    ┆ [\"edward\", \"âbreadyâ\", … \"bosc… ┆ [8, 1, … 2]   │\n",
       "│ 4.4    ┆ [\"alapjãn\", \"mazi\", … \"roastys… ┆ [2, 1, … 1]   │\n",
       "│ 1.0    ┆ [\"nettebulle\", \"glãmska\", … \"b… ┆ [5, 1, … 49]  │\n",
       "│ 2.4    ┆ [\"lacehead\", \"undergarment\", …… ┆ [1, 1, … 1]   │\n",
       "│ 4.2    ┆ [\"rhabarrab\", \"display\", … \"co… ┆ [1, 232, … 1] │\n",
       "│ 2.3    ┆ [\"greecebottle\", \"eons\", … \"re… ┆ [1, 1, … 1]   │\n",
       "│ 4.0    ┆ [\"surprisingbtw\", \"crã\", … \"sw… ┆ [1, 1, … 2]   │\n",
       "│ 0.8    ┆ [\"epikak\", \"limemild\", … \"peeg… ┆ [1, 1, … 1]   │\n",
       "│ 1.8    ┆ [\"incoherent\", \"likethis\", … \"… ┆ [2, 1, … 1]   │\n",
       "│ 3.9    ┆ [\"reccomendedseek\", \"2017786\",… ┆ [1, 1, … 15]  │\n",
       "│ 1.7    ┆ [\"crudo\", \"yeastbody\", … \"magg… ┆ [1, 1, … 1]   │\n",
       "│ 3.8    ┆ [\"enjoyability2\", \"tastingmore… ┆ [1, 1, … 6]   │\n",
       "│ 3.2    ┆ [\"lemonbody\", \"bodyno\", … \"say… ┆ [1, 3, … 1]   │\n",
       "│ 3.1    ┆ [\"doktor\", \"âsmokeâ\", … \"overr… ┆ [6, 2, … 9]   │\n",
       "└────────┴─────────────────────────────────┴───────────────┘"
      ],
      "text/html": [
       "<div><style>\n",
       ".dataframe > thead > tr,\n",
       ".dataframe > tbody > tr {\n",
       "  text-align: right;\n",
       "  white-space: pre-wrap;\n",
       "}\n",
       "</style>\n",
       "<small>shape: (46, 3)</small><table border=\"1\" class=\"dataframe\"><thead><tr><th>rating</th><th>words</th><th>frequencies</th></tr><tr><td>f64</td><td>list[str]</td><td>list[u32]</td></tr></thead><tbody><tr><td>3.0</td><td>[&quot;rudys&quot;, &quot;âgoodyear&quot;, … &quot;obliteration&quot;]</td><td>[1, 1, … 1]</td></tr><tr><td>1.3</td><td>[&quot;podla&quot;, &quot;snowcone&quot;, … &quot;dolce&quot;]</td><td>[2, 1, … 8]</td></tr><tr><td>0.7</td><td>[&quot;overcarbonated&quot;, &quot;horkosť&quot;, … &quot;sprzedaż&quot;]</td><td>[4, 1, … 1]</td></tr><tr><td>1.2</td><td>[&quot;alkie&quot;, &quot;lambicy&quot;, … &quot;mat&quot;]</td><td>[1, 1, … 7]</td></tr><tr><td>2.9</td><td>[&quot;twotenth&quot;, &quot;ultimi&quot;, … &quot;biãch&quot;]</td><td>[1, 4, … 2]</td></tr><tr><td>2.8</td><td>[&quot;b285099&quot;, &quot;karamellfargebeige&quot;, … &quot;norwood&quot;]</td><td>[1, 1, … 1]</td></tr><tr><td>2.2</td><td>[&quot;cocoataste&quot;, &quot;southtaste&quot;, … &quot;Weissbierkrügerlrated&quot;]</td><td>[1, 1, … 1]</td></tr><tr><td>0.5</td><td>[&quot;scifi&quot;, &quot;politician&quot;, … &quot;breed&quot;]</td><td>[1, 2, … 3]</td></tr><tr><td>5.0</td><td>[&quot;guidã&quot;, &quot;35337&quot;, … &quot;grassalfalfa&quot;]</td><td>[1, 1, … 1]</td></tr><tr><td>2.1</td><td>[&quot;definitelybottle&quot;, &quot;szczątkowo&quot;, … &quot;nonamed&quot;]</td><td>[1, 1, … 1]</td></tr><tr><td>4.8</td><td>[&quot;20151202&quot;, &quot;easter&quot;, … &quot;facilement&quot;]</td><td>[1, 4, … 3]</td></tr><tr><td>0.9</td><td>[&quot;allalmost&quot;, &quot;war&quot;, … &quot;warszawa&quot;]</td><td>[1, 2, … 1]</td></tr><tr><td>2.0</td><td>[&quot;plunk&quot;, &quot;pukeinduce&quot;, … &quot;waitress&quot;]</td><td>[3, 1, … 39]</td></tr><tr><td>3.7</td><td>[&quot;travir&quot;, &quot;13121213&quot;, … &quot;refreshend&quot;]</td><td>[2, 1, … 1]</td></tr><tr><td>4.6</td><td>[&quot;refill&quot;, &quot;jamso&quot;, … &quot;breadtoast&quot;]</td><td>[5, 1, … 1]</td></tr><tr><td>4.9</td><td>[&quot;belgesquoiqu&quot;, &quot;quâelles&quot;, … &quot;code&quot;]</td><td>[1, 1, … 1]</td></tr><tr><td>3.6</td><td>[&quot;bitternessaftertaste&quot;, &quot;changerate&quot;, … &quot;fluorlike&quot;]</td><td>[8, 1, … 2]</td></tr><tr><td>1.9</td><td>[&quot;dun&quot;, &quot;woodsy&quot;, … &quot;gãrs&quot;]</td><td>[15, 10, … 1]</td></tr><tr><td>1.6</td><td>[&quot;avslut&quot;, &quot;maltdrink&quot;, … &quot;Hopfenkeule&quot;]</td><td>[2, 1, … 1]</td></tr><tr><td>3.5</td><td>[&quot;simmeringer&quot;, &quot;firmedium&quot;, … &quot;Orangenen&quot;]</td><td>[2, 1, … 2]</td></tr><tr><td>3.4</td><td>[&quot;notoverwhleming&quot;, &quot;mogli&quot;, … &quot;thirdquarter&quot;]</td><td>[1, 1, … 1]</td></tr><tr><td>1.5</td><td>[&quot;jihlava&quot;, &quot;â365â&quot;, … &quot;bitterwhat&quot;]</td><td>[1, 1, … 1]</td></tr><tr><td>4.7</td><td>[&quot;nyugodtan&quot;, &quot;pal&quot;, … &quot;floreal&quot;]</td><td>[1, 9, … 1]</td></tr><tr><td>3.3</td><td>[&quot;070620&quot;, &quot;питкий&quot;, … &quot;bbf2013&quot;]</td><td>[1, 4, … 1]</td></tr><tr><td>2.7</td><td>[&quot;eitherserving&quot;, &quot;interesanteuna&quot;, … &quot;kityeasty&quot;]</td><td>[1, 1, … 1]</td></tr><tr><td>4.5</td><td>[&quot;viii&quot;, &quot;funkylock&quot;, … &quot;triangular&quot;]</td><td>[1, 1, … 1]</td></tr><tr><td>4.3</td><td>[&quot;profilebut&quot;, &quot;84831639the&quot;, … &quot;waythis&quot;]</td><td>[1, 1, … 1]</td></tr><tr><td>0.6</td><td>[&quot;oprah&quot;, &quot;pityrate&quot;, … &quot;millperfect&quot;]</td><td>[1, 1, … 1]</td></tr><tr><td>1.4</td><td>[&quot;sãl&quot;, &quot;lebanonbecause&quot;, … &quot;thier&quot;]</td><td>[2, 1, … 4]</td></tr><tr><td>2.6</td><td>[&quot;boring4212&quot;, &quot;cornbreadiness&quot;, … &quot;31march2007&quot;]</td><td>[1, 1, … 1]</td></tr><tr><td>4.1</td><td>[&quot;pkgolden&quot;, &quot;woodie&quot;, … &quot;egebryg&quot;]</td><td>[1, 2, … 1]</td></tr><tr><td>1.1</td><td>[&quot;deberãar&quot;, &quot;yah&quot;, … &quot;reflux&quot;]</td><td>[1, 1, … 2]</td></tr><tr><td>2.5</td><td>[&quot;edward&quot;, &quot;âbreadyâ&quot;, … &quot;bosc&quot;]</td><td>[8, 1, … 2]</td></tr><tr><td>4.4</td><td>[&quot;alapjãn&quot;, &quot;mazi&quot;, … &quot;roastysoft&quot;]</td><td>[2, 1, … 1]</td></tr><tr><td>1.0</td><td>[&quot;nettebulle&quot;, &quot;glãmska&quot;, … &quot;bubblegum&quot;]</td><td>[5, 1, … 49]</td></tr><tr><td>2.4</td><td>[&quot;lacehead&quot;, &quot;undergarment&quot;, … &quot;2006strong&quot;]</td><td>[1, 1, … 1]</td></tr><tr><td>4.2</td><td>[&quot;rhabarrab&quot;, &quot;display&quot;, … &quot;complexitydistinct&quot;]</td><td>[1, 232, … 1]</td></tr><tr><td>2.3</td><td>[&quot;greecebottle&quot;, &quot;eons&quot;, … &quot;remodel&quot;]</td><td>[1, 1, … 1]</td></tr><tr><td>4.0</td><td>[&quot;surprisingbtw&quot;, &quot;crã&quot;, … &quot;sweetsoft&quot;]</td><td>[1, 1, … 2]</td></tr><tr><td>0.8</td><td>[&quot;epikak&quot;, &quot;limemild&quot;, … &quot;peegolden&quot;]</td><td>[1, 1, … 1]</td></tr><tr><td>1.8</td><td>[&quot;incoherent&quot;, &quot;likethis&quot;, … &quot;kwiatowość&quot;]</td><td>[2, 1, … 1]</td></tr><tr><td>3.9</td><td>[&quot;reccomendedseek&quot;, &quot;2017786&quot;, … &quot;jercraigs&quot;]</td><td>[1, 1, … 15]</td></tr><tr><td>1.7</td><td>[&quot;crudo&quot;, &quot;yeastbody&quot;, … &quot;maggio&quot;]</td><td>[1, 1, … 1]</td></tr><tr><td>3.8</td><td>[&quot;enjoyability2&quot;, &quot;tastingmore&quot;, … &quot;mãmmi&quot;]</td><td>[1, 1, … 6]</td></tr><tr><td>3.2</td><td>[&quot;lemonbody&quot;, &quot;bodyno&quot;, … &quot;saygrainy&quot;]</td><td>[1, 3, … 1]</td></tr><tr><td>3.1</td><td>[&quot;doktor&quot;, &quot;âsmokeâ&quot;, … &quot;overrijp&quot;]</td><td>[6, 2, … 9]</td></tr></tbody></table></div>"
      ]
     },
     "execution_count": 10,
     "metadata": {},
     "output_type": "execute_result"
    }
   ],
   "execution_count": 10
  },
  {
   "metadata": {
    "ExecuteTime": {
     "end_time": "2024-12-12T15:32:05.123528Z",
     "start_time": "2024-12-12T15:32:04.492600Z"
    }
   },
   "cell_type": "code",
   "source": "result.write_parquet(DATA_FOLDER + 'word_frequencies_per_rating.pq')",
   "id": "ca51631f64fbc30",
   "outputs": [
    {
     "name": "stderr",
     "output_type": "stream",
     "text": [
      "try_get_writeable: local: /Users/alex/Documents/uni/ada/ada-2024-project-sadamasochists/data/processed/word_frequencies_per_rating.pq\n"
     ]
    }
   ],
   "execution_count": 15
  },
  {
   "metadata": {
    "ExecuteTime": {
     "end_time": "2024-12-12T15:34:06.380106Z",
     "start_time": "2024-12-12T15:34:06.190567Z"
    }
   },
   "cell_type": "code",
   "source": "result = pl.read_parquet(DATA_FOLDER + 'word_frequencies_per_rating.pq')",
   "id": "957c132b53fe0e",
   "outputs": [
    {
     "name": "stderr",
     "output_type": "stream",
     "text": [
      "parquet scan with parallel = Columns\n"
     ]
    }
   ],
   "execution_count": 4
  },
  {
   "metadata": {
    "ExecuteTime": {
     "end_time": "2024-12-12T14:50:29.715679Z",
     "start_time": "2024-12-12T14:50:29.712468Z"
    }
   },
   "cell_type": "code",
   "source": "df_lazy = result.lazy()",
   "id": "73e7fdefe7daeed0",
   "outputs": [],
   "execution_count": 18
  },
  {
   "metadata": {
    "ExecuteTime": {
     "end_time": "2024-12-12T14:50:37.344167Z",
     "start_time": "2024-12-12T14:50:37.341835Z"
    }
   },
   "cell_type": "code",
   "source": [
    "banned_words = [\"beer\"]\n",
    "\n",
    "query = (\n",
    "    df_lazy\n",
    "    .explode([\"words\", \"frequencies\"])  # Explode lists into rows\n",
    "    .filter(~pl.col(\"words\").is_in(banned_words))  # Exclude banned words\n",
    "    .sort(\"frequencies\", descending=True)  # Sort by frequencies in descending order\n",
    "    .group_by(\"rating\")\n",
    "    .agg(\n",
    "        pl.col(\"words\").first().alias(\"top_word\"),  # Top word by frequency\n",
    "        pl.col(\"frequencies\").first().alias(\"frequency\")  # Its frequency\n",
    "    )\n",
    ")\n"
   ],
   "id": "f3c1be0483600802",
   "outputs": [],
   "execution_count": 21
  },
  {
   "metadata": {
    "ExecuteTime": {
     "end_time": "2024-12-12T14:50:38.082340Z",
     "start_time": "2024-12-12T14:50:37.915980Z"
    }
   },
   "cell_type": "code",
   "source": "result_top = query.collect()",
   "id": "4f5b5a02b9773728",
   "outputs": [
    {
     "name": "stderr",
     "output_type": "stream",
     "text": [
      "dataframe filtered\n",
      "estimated unique values: 46\n",
      "run PARTITIONED HASH AGGREGATION\n"
     ]
    }
   ],
   "execution_count": 22
  },
  {
   "metadata": {
    "ExecuteTime": {
     "end_time": "2024-12-12T14:55:30.999829Z",
     "start_time": "2024-12-12T14:55:30.996049Z"
    }
   },
   "cell_type": "code",
   "source": "result_top",
   "id": "30e4c3a0ece1ca7e",
   "outputs": [
    {
     "data": {
      "text/plain": [
       "shape: (46, 3)\n",
       "┌────────┬──────────┬───────────┐\n",
       "│ rating ┆ top_word ┆ frequency │\n",
       "│ ---    ┆ ---      ┆ ---       │\n",
       "│ f64    ┆ str      ┆ u32       │\n",
       "╞════════╪══════════╪═══════════╡\n",
       "│ 0.7    ┆ taste    ┆ 3521      │\n",
       "│ 3.7    ┆ head     ┆ 333869    │\n",
       "│ 2.3    ┆ head     ┆ 54827     │\n",
       "│ 2.6    ┆ head     ┆ 105703    │\n",
       "│ 4.6    ┆ head     ┆ 16024     │\n",
       "│ 1.3    ┆ head     ┆ 10247     │\n",
       "│ 1.6    ┆ head     ┆ 19268     │\n",
       "│ 4.2    ┆ head     ┆ 96125     │\n",
       "│ 1.8    ┆ head     ┆ 26666     │\n",
       "│ 1.4    ┆ head     ┆ 12681     │\n",
       "│ 1.0    ┆ taste    ┆ 7514      │\n",
       "│ 4.3    ┆ head     ┆ 62998     │\n",
       "│ 4.0    ┆ head     ┆ 202334    │\n",
       "│ 2.5    ┆ head     ┆ 81266     │\n",
       "│ 1.5    ┆ head     ┆ 17043     │\n",
       "│ 2.9    ┆ head     ┆ 169287    │\n",
       "│ 3.6    ┆ head     ┆ 351662    │\n",
       "│ 4.5    ┆ head     ┆ 27593     │\n",
       "│ 1.7    ┆ head     ┆ 22528     │\n",
       "│ 2.0    ┆ head     ┆ 41315     │\n",
       "│ 0.8    ┆ taste    ┆ 4280      │\n",
       "│ 4.1    ┆ head     ┆ 130742    │\n",
       "│ 4.4    ┆ head     ┆ 40625     │\n",
       "│ 3.0    ┆ head     ┆ 244034    │\n",
       "│ 3.9    ┆ head     ┆ 231906    │\n",
       "│ 0.6    ┆ taste    ┆ 2597      │\n",
       "│ 1.2    ┆ head     ┆ 8670      │\n",
       "│ 3.3    ┆ head     ┆ 314664    │\n",
       "│ 4.9    ┆ taste    ┆ 2931      │\n",
       "│ 0.5    ┆ taste    ┆ 5812      │\n",
       "│ 1.1    ┆ taste    ┆ 7133      │\n",
       "│ 3.8    ┆ head     ┆ 294573    │\n",
       "│ 2.7    ┆ head     ┆ 115201    │\n",
       "│ 3.4    ┆ head     ┆ 363163    │\n",
       "│ 2.1    ┆ head     ┆ 40786     │\n",
       "│ 4.8    ┆ taste    ┆ 6532      │\n",
       "│ 2.2    ┆ head     ┆ 49304     │\n",
       "│ 3.2    ┆ head     ┆ 289044    │\n",
       "│ 4.7    ┆ head     ┆ 10487     │\n",
       "│ 1.9    ┆ head     ┆ 31419     │\n",
       "│ 0.9    ┆ taste    ┆ 5403      │\n",
       "│ 3.1    ┆ head     ┆ 244553    │\n",
       "│ 2.4    ┆ head     ┆ 67292     │\n",
       "│ 3.5    ┆ head     ┆ 367734    │\n",
       "│ 2.8    ┆ head     ┆ 144715    │\n",
       "│ 5.0    ┆ taste    ┆ 6364      │\n",
       "└────────┴──────────┴───────────┘"
      ],
      "text/html": [
       "<div><style>\n",
       ".dataframe > thead > tr,\n",
       ".dataframe > tbody > tr {\n",
       "  text-align: right;\n",
       "  white-space: pre-wrap;\n",
       "}\n",
       "</style>\n",
       "<small>shape: (46, 3)</small><table border=\"1\" class=\"dataframe\"><thead><tr><th>rating</th><th>top_word</th><th>frequency</th></tr><tr><td>f64</td><td>str</td><td>u32</td></tr></thead><tbody><tr><td>0.7</td><td>&quot;taste&quot;</td><td>3521</td></tr><tr><td>3.7</td><td>&quot;head&quot;</td><td>333869</td></tr><tr><td>2.3</td><td>&quot;head&quot;</td><td>54827</td></tr><tr><td>2.6</td><td>&quot;head&quot;</td><td>105703</td></tr><tr><td>4.6</td><td>&quot;head&quot;</td><td>16024</td></tr><tr><td>1.3</td><td>&quot;head&quot;</td><td>10247</td></tr><tr><td>1.6</td><td>&quot;head&quot;</td><td>19268</td></tr><tr><td>4.2</td><td>&quot;head&quot;</td><td>96125</td></tr><tr><td>1.8</td><td>&quot;head&quot;</td><td>26666</td></tr><tr><td>1.4</td><td>&quot;head&quot;</td><td>12681</td></tr><tr><td>1.0</td><td>&quot;taste&quot;</td><td>7514</td></tr><tr><td>4.3</td><td>&quot;head&quot;</td><td>62998</td></tr><tr><td>4.0</td><td>&quot;head&quot;</td><td>202334</td></tr><tr><td>2.5</td><td>&quot;head&quot;</td><td>81266</td></tr><tr><td>1.5</td><td>&quot;head&quot;</td><td>17043</td></tr><tr><td>2.9</td><td>&quot;head&quot;</td><td>169287</td></tr><tr><td>3.6</td><td>&quot;head&quot;</td><td>351662</td></tr><tr><td>4.5</td><td>&quot;head&quot;</td><td>27593</td></tr><tr><td>1.7</td><td>&quot;head&quot;</td><td>22528</td></tr><tr><td>2.0</td><td>&quot;head&quot;</td><td>41315</td></tr><tr><td>0.8</td><td>&quot;taste&quot;</td><td>4280</td></tr><tr><td>4.1</td><td>&quot;head&quot;</td><td>130742</td></tr><tr><td>4.4</td><td>&quot;head&quot;</td><td>40625</td></tr><tr><td>3.0</td><td>&quot;head&quot;</td><td>244034</td></tr><tr><td>3.9</td><td>&quot;head&quot;</td><td>231906</td></tr><tr><td>0.6</td><td>&quot;taste&quot;</td><td>2597</td></tr><tr><td>1.2</td><td>&quot;head&quot;</td><td>8670</td></tr><tr><td>3.3</td><td>&quot;head&quot;</td><td>314664</td></tr><tr><td>4.9</td><td>&quot;taste&quot;</td><td>2931</td></tr><tr><td>0.5</td><td>&quot;taste&quot;</td><td>5812</td></tr><tr><td>1.1</td><td>&quot;taste&quot;</td><td>7133</td></tr><tr><td>3.8</td><td>&quot;head&quot;</td><td>294573</td></tr><tr><td>2.7</td><td>&quot;head&quot;</td><td>115201</td></tr><tr><td>3.4</td><td>&quot;head&quot;</td><td>363163</td></tr><tr><td>2.1</td><td>&quot;head&quot;</td><td>40786</td></tr><tr><td>4.8</td><td>&quot;taste&quot;</td><td>6532</td></tr><tr><td>2.2</td><td>&quot;head&quot;</td><td>49304</td></tr><tr><td>3.2</td><td>&quot;head&quot;</td><td>289044</td></tr><tr><td>4.7</td><td>&quot;head&quot;</td><td>10487</td></tr><tr><td>1.9</td><td>&quot;head&quot;</td><td>31419</td></tr><tr><td>0.9</td><td>&quot;taste&quot;</td><td>5403</td></tr><tr><td>3.1</td><td>&quot;head&quot;</td><td>244553</td></tr><tr><td>2.4</td><td>&quot;head&quot;</td><td>67292</td></tr><tr><td>3.5</td><td>&quot;head&quot;</td><td>367734</td></tr><tr><td>2.8</td><td>&quot;head&quot;</td><td>144715</td></tr><tr><td>5.0</td><td>&quot;taste&quot;</td><td>6364</td></tr></tbody></table></div>"
      ]
     },
     "execution_count": 29,
     "metadata": {},
     "output_type": "execute_result"
    }
   ],
   "execution_count": 29
  },
  {
   "metadata": {
    "ExecuteTime": {
     "end_time": "2024-12-12T12:09:49.991323Z",
     "start_time": "2024-12-12T12:09:49.985779Z"
    }
   },
   "cell_type": "code",
   "source": "# result_top.write_parquet(DATA_FOLDER + 'top_words_per_country.pq')",
   "id": "1d0e396dcb5afb7e",
   "outputs": [],
   "execution_count": 44
  },
  {
   "metadata": {
    "ExecuteTime": {
     "end_time": "2024-12-12T14:55:54.861203Z",
     "start_time": "2024-12-12T14:55:54.859060Z"
    }
   },
   "cell_type": "code",
   "source": "words = result_top.sort(\"rating\")",
   "id": "81740377836580a5",
   "outputs": [],
   "execution_count": 32
  },
  {
   "metadata": {},
   "cell_type": "code",
   "outputs": [],
   "execution_count": null,
   "source": "",
   "id": "1c49b4c27ebb446b"
  },
  {
   "metadata": {
    "ExecuteTime": {
     "end_time": "2024-12-12T14:55:56.638632Z",
     "start_time": "2024-12-12T14:55:56.635009Z"
    }
   },
   "cell_type": "code",
   "source": "words",
   "id": "482a3b12e4331528",
   "outputs": [
    {
     "data": {
      "text/plain": [
       "shape: (46, 3)\n",
       "┌────────┬──────────┬───────────┐\n",
       "│ rating ┆ top_word ┆ frequency │\n",
       "│ ---    ┆ ---      ┆ ---       │\n",
       "│ f64    ┆ str      ┆ u32       │\n",
       "╞════════╪══════════╪═══════════╡\n",
       "│ 0.5    ┆ taste    ┆ 5812      │\n",
       "│ 0.6    ┆ taste    ┆ 2597      │\n",
       "│ 0.7    ┆ taste    ┆ 3521      │\n",
       "│ 0.8    ┆ taste    ┆ 4280      │\n",
       "│ 0.9    ┆ taste    ┆ 5403      │\n",
       "│ 1.0    ┆ taste    ┆ 7514      │\n",
       "│ 1.1    ┆ taste    ┆ 7133      │\n",
       "│ 1.2    ┆ head     ┆ 8670      │\n",
       "│ 1.3    ┆ head     ┆ 10247     │\n",
       "│ 1.4    ┆ head     ┆ 12681     │\n",
       "│ 1.5    ┆ head     ┆ 17043     │\n",
       "│ 1.6    ┆ head     ┆ 19268     │\n",
       "│ 1.7    ┆ head     ┆ 22528     │\n",
       "│ 1.8    ┆ head     ┆ 26666     │\n",
       "│ 1.9    ┆ head     ┆ 31419     │\n",
       "│ 2.0    ┆ head     ┆ 41315     │\n",
       "│ 2.1    ┆ head     ┆ 40786     │\n",
       "│ 2.2    ┆ head     ┆ 49304     │\n",
       "│ 2.3    ┆ head     ┆ 54827     │\n",
       "│ 2.4    ┆ head     ┆ 67292     │\n",
       "│ 2.5    ┆ head     ┆ 81266     │\n",
       "│ 2.6    ┆ head     ┆ 105703    │\n",
       "│ 2.7    ┆ head     ┆ 115201    │\n",
       "│ 2.8    ┆ head     ┆ 144715    │\n",
       "│ 2.9    ┆ head     ┆ 169287    │\n",
       "│ 3.0    ┆ head     ┆ 244034    │\n",
       "│ 3.1    ┆ head     ┆ 244553    │\n",
       "│ 3.2    ┆ head     ┆ 289044    │\n",
       "│ 3.3    ┆ head     ┆ 314664    │\n",
       "│ 3.4    ┆ head     ┆ 363163    │\n",
       "│ 3.5    ┆ head     ┆ 367734    │\n",
       "│ 3.6    ┆ head     ┆ 351662    │\n",
       "│ 3.7    ┆ head     ┆ 333869    │\n",
       "│ 3.8    ┆ head     ┆ 294573    │\n",
       "│ 3.9    ┆ head     ┆ 231906    │\n",
       "│ 4.0    ┆ head     ┆ 202334    │\n",
       "│ 4.1    ┆ head     ┆ 130742    │\n",
       "│ 4.2    ┆ head     ┆ 96125     │\n",
       "│ 4.3    ┆ head     ┆ 62998     │\n",
       "│ 4.4    ┆ head     ┆ 40625     │\n",
       "│ 4.5    ┆ head     ┆ 27593     │\n",
       "│ 4.6    ┆ head     ┆ 16024     │\n",
       "│ 4.7    ┆ head     ┆ 10487     │\n",
       "│ 4.8    ┆ taste    ┆ 6532      │\n",
       "│ 4.9    ┆ taste    ┆ 2931      │\n",
       "│ 5.0    ┆ taste    ┆ 6364      │\n",
       "└────────┴──────────┴───────────┘"
      ],
      "text/html": [
       "<div><style>\n",
       ".dataframe > thead > tr,\n",
       ".dataframe > tbody > tr {\n",
       "  text-align: right;\n",
       "  white-space: pre-wrap;\n",
       "}\n",
       "</style>\n",
       "<small>shape: (46, 3)</small><table border=\"1\" class=\"dataframe\"><thead><tr><th>rating</th><th>top_word</th><th>frequency</th></tr><tr><td>f64</td><td>str</td><td>u32</td></tr></thead><tbody><tr><td>0.5</td><td>&quot;taste&quot;</td><td>5812</td></tr><tr><td>0.6</td><td>&quot;taste&quot;</td><td>2597</td></tr><tr><td>0.7</td><td>&quot;taste&quot;</td><td>3521</td></tr><tr><td>0.8</td><td>&quot;taste&quot;</td><td>4280</td></tr><tr><td>0.9</td><td>&quot;taste&quot;</td><td>5403</td></tr><tr><td>1.0</td><td>&quot;taste&quot;</td><td>7514</td></tr><tr><td>1.1</td><td>&quot;taste&quot;</td><td>7133</td></tr><tr><td>1.2</td><td>&quot;head&quot;</td><td>8670</td></tr><tr><td>1.3</td><td>&quot;head&quot;</td><td>10247</td></tr><tr><td>1.4</td><td>&quot;head&quot;</td><td>12681</td></tr><tr><td>1.5</td><td>&quot;head&quot;</td><td>17043</td></tr><tr><td>1.6</td><td>&quot;head&quot;</td><td>19268</td></tr><tr><td>1.7</td><td>&quot;head&quot;</td><td>22528</td></tr><tr><td>1.8</td><td>&quot;head&quot;</td><td>26666</td></tr><tr><td>1.9</td><td>&quot;head&quot;</td><td>31419</td></tr><tr><td>2.0</td><td>&quot;head&quot;</td><td>41315</td></tr><tr><td>2.1</td><td>&quot;head&quot;</td><td>40786</td></tr><tr><td>2.2</td><td>&quot;head&quot;</td><td>49304</td></tr><tr><td>2.3</td><td>&quot;head&quot;</td><td>54827</td></tr><tr><td>2.4</td><td>&quot;head&quot;</td><td>67292</td></tr><tr><td>2.5</td><td>&quot;head&quot;</td><td>81266</td></tr><tr><td>2.6</td><td>&quot;head&quot;</td><td>105703</td></tr><tr><td>2.7</td><td>&quot;head&quot;</td><td>115201</td></tr><tr><td>2.8</td><td>&quot;head&quot;</td><td>144715</td></tr><tr><td>2.9</td><td>&quot;head&quot;</td><td>169287</td></tr><tr><td>3.0</td><td>&quot;head&quot;</td><td>244034</td></tr><tr><td>3.1</td><td>&quot;head&quot;</td><td>244553</td></tr><tr><td>3.2</td><td>&quot;head&quot;</td><td>289044</td></tr><tr><td>3.3</td><td>&quot;head&quot;</td><td>314664</td></tr><tr><td>3.4</td><td>&quot;head&quot;</td><td>363163</td></tr><tr><td>3.5</td><td>&quot;head&quot;</td><td>367734</td></tr><tr><td>3.6</td><td>&quot;head&quot;</td><td>351662</td></tr><tr><td>3.7</td><td>&quot;head&quot;</td><td>333869</td></tr><tr><td>3.8</td><td>&quot;head&quot;</td><td>294573</td></tr><tr><td>3.9</td><td>&quot;head&quot;</td><td>231906</td></tr><tr><td>4.0</td><td>&quot;head&quot;</td><td>202334</td></tr><tr><td>4.1</td><td>&quot;head&quot;</td><td>130742</td></tr><tr><td>4.2</td><td>&quot;head&quot;</td><td>96125</td></tr><tr><td>4.3</td><td>&quot;head&quot;</td><td>62998</td></tr><tr><td>4.4</td><td>&quot;head&quot;</td><td>40625</td></tr><tr><td>4.5</td><td>&quot;head&quot;</td><td>27593</td></tr><tr><td>4.6</td><td>&quot;head&quot;</td><td>16024</td></tr><tr><td>4.7</td><td>&quot;head&quot;</td><td>10487</td></tr><tr><td>4.8</td><td>&quot;taste&quot;</td><td>6532</td></tr><tr><td>4.9</td><td>&quot;taste&quot;</td><td>2931</td></tr><tr><td>5.0</td><td>&quot;taste&quot;</td><td>6364</td></tr></tbody></table></div>"
      ]
     },
     "execution_count": 33,
     "metadata": {},
     "output_type": "execute_result"
    }
   ],
   "execution_count": 33
  },
  {
   "metadata": {
    "ExecuteTime": {
     "end_time": "2024-12-12T15:28:34.996867Z",
     "start_time": "2024-12-12T15:28:34.594509Z"
    }
   },
   "cell_type": "code",
   "source": "!pip uninstall numpy -y",
   "id": "f7efbeb3ee56f02c",
   "outputs": [
    {
     "name": "stdout",
     "output_type": "stream",
     "text": [
      "Found existing installation: numpy 1.26.0\r\n",
      "Uninstalling numpy-1.26.0:\r\n",
      "  Successfully uninstalled numpy-1.26.0\r\n"
     ]
    }
   ],
   "execution_count": 43
  },
  {
   "metadata": {
    "ExecuteTime": {
     "end_time": "2024-12-12T15:28:43.545297Z",
     "start_time": "2024-12-12T15:28:42.038051Z"
    }
   },
   "cell_type": "code",
   "source": "!pip install numpy==1.26.4 transformers",
   "id": "23e282877d9835eb",
   "outputs": [
    {
     "name": "stdout",
     "output_type": "stream",
     "text": [
      "Collecting numpy==1.26.4\r\n",
      "  Using cached numpy-1.26.4-cp312-cp312-macosx_11_0_arm64.whl.metadata (61 kB)\r\n",
      "Requirement already satisfied: transformers in /opt/anaconda3/lib/python3.12/site-packages (4.47.0)\r\n",
      "Requirement already satisfied: filelock in /opt/anaconda3/lib/python3.12/site-packages (from transformers) (3.13.1)\r\n",
      "Requirement already satisfied: huggingface-hub<1.0,>=0.24.0 in /opt/anaconda3/lib/python3.12/site-packages (from transformers) (0.26.5)\r\n",
      "Requirement already satisfied: packaging>=20.0 in /opt/anaconda3/lib/python3.12/site-packages (from transformers) (24.1)\r\n",
      "Requirement already satisfied: pyyaml>=5.1 in /opt/anaconda3/lib/python3.12/site-packages (from transformers) (6.0.1)\r\n",
      "Requirement already satisfied: regex!=2019.12.17 in /opt/anaconda3/lib/python3.12/site-packages (from transformers) (2024.9.11)\r\n",
      "Requirement already satisfied: requests in /opt/anaconda3/lib/python3.12/site-packages (from transformers) (2.32.3)\r\n",
      "Requirement already satisfied: tokenizers<0.22,>=0.21 in /opt/anaconda3/lib/python3.12/site-packages (from transformers) (0.21.0)\r\n",
      "Requirement already satisfied: safetensors>=0.4.1 in /opt/anaconda3/lib/python3.12/site-packages (from transformers) (0.4.5)\r\n",
      "Requirement already satisfied: tqdm>=4.27 in /opt/anaconda3/lib/python3.12/site-packages (from transformers) (4.66.5)\r\n",
      "Requirement already satisfied: fsspec>=2023.5.0 in /opt/anaconda3/lib/python3.12/site-packages (from huggingface-hub<1.0,>=0.24.0->transformers) (2024.6.1)\r\n",
      "Requirement already satisfied: typing-extensions>=3.7.4.3 in /opt/anaconda3/lib/python3.12/site-packages (from huggingface-hub<1.0,>=0.24.0->transformers) (4.11.0)\r\n",
      "Requirement already satisfied: charset-normalizer<4,>=2 in /opt/anaconda3/lib/python3.12/site-packages (from requests->transformers) (3.3.2)\r\n",
      "Requirement already satisfied: idna<4,>=2.5 in /opt/anaconda3/lib/python3.12/site-packages (from requests->transformers) (3.7)\r\n",
      "Requirement already satisfied: urllib3<3,>=1.21.1 in /opt/anaconda3/lib/python3.12/site-packages (from requests->transformers) (2.2.3)\r\n",
      "Requirement already satisfied: certifi>=2017.4.17 in /opt/anaconda3/lib/python3.12/site-packages (from requests->transformers) (2024.8.30)\r\n",
      "Using cached numpy-1.26.4-cp312-cp312-macosx_11_0_arm64.whl (13.7 MB)\r\n",
      "Installing collected packages: numpy\r\n",
      "\u001B[31mERROR: pip's dependency resolver does not currently take into account all the packages that are installed. This behaviour is the source of the following dependency conflicts.\r\n",
      "blis 1.0.2 requires numpy<3.0.0,>=2.0.0, but you have numpy 1.26.4 which is incompatible.\r\n",
      "thinc 8.3.2 requires numpy<2.1.0,>=2.0.0; python_version >= \"3.9\", but you have numpy 1.26.4 which is incompatible.\u001B[0m\u001B[31m\r\n",
      "\u001B[0mSuccessfully installed numpy-1.26.4\r\n"
     ]
    }
   ],
   "execution_count": 45
  },
  {
   "metadata": {
    "ExecuteTime": {
     "end_time": "2024-12-12T15:40:20.674952Z",
     "start_time": "2024-12-12T15:40:18.420963Z"
    }
   },
   "cell_type": "code",
   "source": "from transformers import pipeline",
   "id": "1ce5be7888dc7c45",
   "outputs": [],
   "execution_count": 7
  },
  {
   "metadata": {
    "ExecuteTime": {
     "end_time": "2024-12-12T15:31:38.454600Z",
     "start_time": "2024-12-12T15:31:17.872258Z"
    }
   },
   "cell_type": "code",
   "source": "!pip install torch",
   "id": "ffd703daf764f5fa",
   "outputs": [
    {
     "name": "stderr",
     "output_type": "stream",
     "text": [
      "/opt/anaconda3/lib/python3.12/pty.py:95: RuntimeWarning: Using fork() can cause Polars to deadlock in the child process.\n",
      "In addition, using fork() with Python in general is a recipe for mysterious\n",
      "deadlocks and crashes.\n",
      "\n",
      "The most likely reason you are seeing this error is because you are using the\n",
      "multiprocessing module on Linux, which uses fork() by default. This will be\n",
      "fixed in Python 3.14. Until then, you want to use the \"spawn\" context instead.\n",
      "\n",
      "See https://docs.pola.rs/user-guide/misc/multiprocessing/ for details.\n",
      "\n",
      "If you really know what your doing, you can silence this warning with the warning module\n",
      "or by setting POLARS_ALLOW_FORKING_THREAD=1.\n",
      "\n",
      "  pid, fd = os.forkpty()\n"
     ]
    },
    {
     "name": "stdout",
     "output_type": "stream",
     "text": [
      "Collecting torch\r\n",
      "  Downloading torch-2.5.1-cp312-none-macosx_11_0_arm64.whl.metadata (28 kB)\r\n",
      "Requirement already satisfied: filelock in /opt/anaconda3/lib/python3.12/site-packages (from torch) (3.13.1)\r\n",
      "Requirement already satisfied: typing-extensions>=4.8.0 in /opt/anaconda3/lib/python3.12/site-packages (from torch) (4.11.0)\r\n",
      "Requirement already satisfied: networkx in /opt/anaconda3/lib/python3.12/site-packages (from torch) (3.3)\r\n",
      "Requirement already satisfied: jinja2 in /opt/anaconda3/lib/python3.12/site-packages (from torch) (3.1.4)\r\n",
      "Requirement already satisfied: fsspec in /opt/anaconda3/lib/python3.12/site-packages (from torch) (2024.6.1)\r\n",
      "Requirement already satisfied: setuptools in /opt/anaconda3/lib/python3.12/site-packages (from torch) (75.1.0)\r\n",
      "Collecting sympy==1.13.1 (from torch)\r\n",
      "  Downloading sympy-1.13.1-py3-none-any.whl.metadata (12 kB)\r\n",
      "Requirement already satisfied: mpmath<1.4,>=1.1.0 in /opt/anaconda3/lib/python3.12/site-packages (from sympy==1.13.1->torch) (1.3.0)\r\n",
      "Requirement already satisfied: MarkupSafe>=2.0 in /opt/anaconda3/lib/python3.12/site-packages (from jinja2->torch) (2.1.3)\r\n",
      "Downloading torch-2.5.1-cp312-none-macosx_11_0_arm64.whl (63.9 MB)\r\n",
      "\u001B[2K   \u001B[90m━━━━━━━━━━━━━━━━━━━━━━━━━━━━━━━━━━━━━━━━\u001B[0m \u001B[32m63.9/63.9 MB\u001B[0m \u001B[31m5.8 MB/s\u001B[0m eta \u001B[36m0:00:00\u001B[0m00:01\u001B[0m00:01\u001B[0m\r\n",
      "\u001B[?25hDownloading sympy-1.13.1-py3-none-any.whl (6.2 MB)\r\n",
      "\u001B[2K   \u001B[90m━━━━━━━━━━━━━━━━━━━━━━━━━━━━━━━━━━━━━━━━\u001B[0m \u001B[32m6.2/6.2 MB\u001B[0m \u001B[31m10.1 MB/s\u001B[0m eta \u001B[36m0:00:00\u001B[0ma \u001B[36m0:00:01\u001B[0m\r\n",
      "\u001B[?25hInstalling collected packages: sympy, torch\r\n",
      "  Attempting uninstall: sympy\r\n",
      "    Found existing installation: sympy 1.13.2\r\n",
      "    Uninstalling sympy-1.13.2:\r\n",
      "      Successfully uninstalled sympy-1.13.2\r\n",
      "Successfully installed sympy-1.13.1 torch-2.5.1\r\n"
     ]
    }
   ],
   "execution_count": 13
  },
  {
   "metadata": {
    "ExecuteTime": {
     "end_time": "2024-12-12T15:40:22.952175Z",
     "start_time": "2024-12-12T15:40:22.311975Z"
    }
   },
   "cell_type": "code",
   "source": [
    "# Load sentiment analysis pipeline\n",
    "classifier = pipeline(\"sentiment-analysis\")\n"
   ],
   "id": "af26bbaf3a1c5fb3",
   "outputs": [
    {
     "name": "stderr",
     "output_type": "stream",
     "text": [
      "No model was supplied, defaulted to distilbert/distilbert-base-uncased-finetuned-sst-2-english and revision 714eb0f (https://huggingface.co/distilbert/distilbert-base-uncased-finetuned-sst-2-english).\n",
      "Using a pipeline without specifying a model name and revision in production is not recommended.\n",
      "Device set to use mps:0\n"
     ]
    }
   ],
   "execution_count": 8
  },
  {
   "metadata": {
    "ExecuteTime": {
     "end_time": "2024-12-12T15:41:33.798085Z",
     "start_time": "2024-12-12T15:41:23.422894Z"
    }
   },
   "cell_type": "code",
   "source": [
    "# Function to filter words based on sentiment scores\n",
    "def filter_sentiment_words(text):\n",
    "    words = text.split()\n",
    "    return [word for word in words if classifier(word)[0]['label'] in {\"POSITIVE\", \"NEGATIVE\"}]\n",
    "\n",
    "# Apply to your reviews\n",
    "df_ratings_with_sentiment = df_ratings.head(100).lazy().with_columns(\n",
    "    pl.col(\"text_cleaned_lemma\").map_elements(filter_sentiment_words).alias(\"sentiment_words\")\n",
    ").collect(streaming=True)"
   ],
   "id": "5a811dfaf0a90408",
   "outputs": [
    {
     "name": "stderr",
     "output_type": "stream",
     "text": [
      "RUN STREAMING PIPELINE\n",
      "[df -> hstack -> ordered_sink]\n",
      "sys:1: MapWithoutReturnDtypeWarning: Calling `map_elements` without specifying `return_dtype` can lead to unpredictable results. Specify `return_dtype` to silence this warning.\n",
      "sys:1: MapWithoutReturnDtypeWarning: Calling `map_elements` without specifying `return_dtype` can lead to unpredictable results. Specify `return_dtype` to silence this warning.\n",
      "sys:1: MapWithoutReturnDtypeWarning: Calling `map_elements` without specifying `return_dtype` can lead to unpredictable results. Specify `return_dtype` to silence this warning.\n",
      "sys:1: MapWithoutReturnDtypeWarning: Calling `map_elements` without specifying `return_dtype` can lead to unpredictable results. Specify `return_dtype` to silence this warning.\n",
      "sys:1: MapWithoutReturnDtypeWarning: Calling `map_elements` without specifying `return_dtype` can lead to unpredictable results. Specify `return_dtype` to silence this warning.\n",
      "sys:1: MapWithoutReturnDtypeWarning: Calling `map_elements` without specifying `return_dtype` can lead to unpredictable results. Specify `return_dtype` to silence this warning.\n",
      "sys:1: MapWithoutReturnDtypeWarning: Calling `map_elements` without specifying `return_dtype` can lead to unpredictable results. Specify `return_dtype` to silence this warning.\n",
      "sys:1: MapWithoutReturnDtypeWarning: Calling `map_elements` without specifying `return_dtype` can lead to unpredictable results. Specify `return_dtype` to silence this warning.\n",
      "sys:1: MapWithoutReturnDtypeWarning: Calling `map_elements` without specifying `return_dtype` can lead to unpredictable results. Specify `return_dtype` to silence this warning.\n",
      "sys:1: MapWithoutReturnDtypeWarning: Calling `map_elements` without specifying `return_dtype` can lead to unpredictable results. Specify `return_dtype` to silence this warning.\n",
      "sys:1: MapWithoutReturnDtypeWarning: Calling `map_elements` without specifying `return_dtype` can lead to unpredictable results. Specify `return_dtype` to silence this warning.\n",
      "sys:1: MapWithoutReturnDtypeWarning: Calling `map_elements` without specifying `return_dtype` can lead to unpredictable results. Specify `return_dtype` to silence this warning.\n",
      "sys:1: MapWithoutReturnDtypeWarning: Calling `map_elements` without specifying `return_dtype` can lead to unpredictable results. Specify `return_dtype` to silence this warning.\n",
      "sys:1: MapWithoutReturnDtypeWarning: Calling `map_elements` without specifying `return_dtype` can lead to unpredictable results. Specify `return_dtype` to silence this warning.\n"
     ]
    }
   ],
   "execution_count": 14
  },
  {
   "metadata": {
    "ExecuteTime": {
     "end_time": "2024-12-12T15:42:05.128074Z",
     "start_time": "2024-12-12T15:42:05.125866Z"
    }
   },
   "cell_type": "code",
   "source": [
    "# 100 elements takes: 10s\n",
    "df_ratings.shape"
   ],
   "id": "de24ada4575cfa74",
   "outputs": [
    {
     "data": {
      "text/plain": [
       "(7102520, 22)"
      ]
     },
     "execution_count": 18,
     "metadata": {},
     "output_type": "execute_result"
    }
   ],
   "execution_count": 18
  },
  {
   "metadata": {
    "ExecuteTime": {
     "end_time": "2024-12-12T15:42:14.830552Z",
     "start_time": "2024-12-12T15:42:14.827287Z"
    }
   },
   "cell_type": "code",
   "source": "7102520 / 100 * 10 / 60 / 60",
   "id": "980f5bb542d35c08",
   "outputs": [
    {
     "data": {
      "text/plain": [
       "197.29222222222222"
      ]
     },
     "execution_count": 19,
     "metadata": {},
     "output_type": "execute_result"
    }
   ],
   "execution_count": 19
  },
  {
   "metadata": {
    "ExecuteTime": {
     "end_time": "2024-12-12T16:14:13.239980Z",
     "start_time": "2024-12-12T16:14:11.580131Z"
    }
   },
   "cell_type": "code",
   "source": "!pip install -U sentence-transformers",
   "id": "8cf6ed8f939be25e",
   "outputs": [
    {
     "name": "stderr",
     "output_type": "stream",
     "text": [
      "/opt/anaconda3/lib/python3.12/pty.py:95: RuntimeWarning: Using fork() can cause Polars to deadlock in the child process.\n",
      "In addition, using fork() with Python in general is a recipe for mysterious\n",
      "deadlocks and crashes.\n",
      "\n",
      "The most likely reason you are seeing this error is because you are using the\n",
      "multiprocessing module on Linux, which uses fork() by default. This will be\n",
      "fixed in Python 3.14. Until then, you want to use the \"spawn\" context instead.\n",
      "\n",
      "See https://docs.pola.rs/user-guide/misc/multiprocessing/ for details.\n",
      "\n",
      "If you really know what your doing, you can silence this warning with the warning module\n",
      "or by setting POLARS_ALLOW_FORKING_THREAD=1.\n",
      "\n",
      "  pid, fd = os.forkpty()\n",
      "huggingface/tokenizers: The current process just got forked, after parallelism has already been used. Disabling parallelism to avoid deadlocks...\n",
      "To disable this warning, you can either:\n",
      "\t- Avoid using `tokenizers` before the fork if possible\n",
      "\t- Explicitly set the environment variable TOKENIZERS_PARALLELISM=(true | false)\n"
     ]
    },
    {
     "name": "stdout",
     "output_type": "stream",
     "text": [
      "Collecting sentence-transformers\r\n",
      "  Downloading sentence_transformers-3.3.1-py3-none-any.whl.metadata (10 kB)\r\n",
      "Requirement already satisfied: transformers<5.0.0,>=4.41.0 in /opt/anaconda3/lib/python3.12/site-packages (from sentence-transformers) (4.47.0)\r\n",
      "Requirement already satisfied: tqdm in /opt/anaconda3/lib/python3.12/site-packages (from sentence-transformers) (4.66.5)\r\n",
      "Requirement already satisfied: torch>=1.11.0 in /opt/anaconda3/lib/python3.12/site-packages (from sentence-transformers) (2.5.1)\r\n",
      "Requirement already satisfied: scikit-learn in /opt/anaconda3/lib/python3.12/site-packages (from sentence-transformers) (1.6.0)\r\n",
      "Requirement already satisfied: scipy in /opt/anaconda3/lib/python3.12/site-packages (from sentence-transformers) (1.13.1)\r\n",
      "Requirement already satisfied: huggingface-hub>=0.20.0 in /opt/anaconda3/lib/python3.12/site-packages (from sentence-transformers) (0.26.5)\r\n",
      "Requirement already satisfied: Pillow in /opt/anaconda3/lib/python3.12/site-packages (from sentence-transformers) (10.4.0)\r\n",
      "Requirement already satisfied: filelock in /opt/anaconda3/lib/python3.12/site-packages (from huggingface-hub>=0.20.0->sentence-transformers) (3.13.1)\r\n",
      "Requirement already satisfied: fsspec>=2023.5.0 in /opt/anaconda3/lib/python3.12/site-packages (from huggingface-hub>=0.20.0->sentence-transformers) (2024.6.1)\r\n",
      "Requirement already satisfied: packaging>=20.9 in /opt/anaconda3/lib/python3.12/site-packages (from huggingface-hub>=0.20.0->sentence-transformers) (24.1)\r\n",
      "Requirement already satisfied: pyyaml>=5.1 in /opt/anaconda3/lib/python3.12/site-packages (from huggingface-hub>=0.20.0->sentence-transformers) (6.0.1)\r\n",
      "Requirement already satisfied: requests in /opt/anaconda3/lib/python3.12/site-packages (from huggingface-hub>=0.20.0->sentence-transformers) (2.32.3)\r\n",
      "Requirement already satisfied: typing-extensions>=3.7.4.3 in /opt/anaconda3/lib/python3.12/site-packages (from huggingface-hub>=0.20.0->sentence-transformers) (4.11.0)\r\n",
      "Requirement already satisfied: networkx in /opt/anaconda3/lib/python3.12/site-packages (from torch>=1.11.0->sentence-transformers) (3.3)\r\n",
      "Requirement already satisfied: jinja2 in /opt/anaconda3/lib/python3.12/site-packages (from torch>=1.11.0->sentence-transformers) (3.1.4)\r\n",
      "Requirement already satisfied: setuptools in /opt/anaconda3/lib/python3.12/site-packages (from torch>=1.11.0->sentence-transformers) (75.1.0)\r\n",
      "Requirement already satisfied: sympy==1.13.1 in /opt/anaconda3/lib/python3.12/site-packages (from torch>=1.11.0->sentence-transformers) (1.13.1)\r\n",
      "Requirement already satisfied: mpmath<1.4,>=1.1.0 in /opt/anaconda3/lib/python3.12/site-packages (from sympy==1.13.1->torch>=1.11.0->sentence-transformers) (1.3.0)\r\n",
      "Requirement already satisfied: numpy>=1.17 in /opt/anaconda3/lib/python3.12/site-packages (from transformers<5.0.0,>=4.41.0->sentence-transformers) (1.26.4)\r\n",
      "Requirement already satisfied: regex!=2019.12.17 in /opt/anaconda3/lib/python3.12/site-packages (from transformers<5.0.0,>=4.41.0->sentence-transformers) (2024.9.11)\r\n",
      "Requirement already satisfied: tokenizers<0.22,>=0.21 in /opt/anaconda3/lib/python3.12/site-packages (from transformers<5.0.0,>=4.41.0->sentence-transformers) (0.21.0)\r\n",
      "Requirement already satisfied: safetensors>=0.4.1 in /opt/anaconda3/lib/python3.12/site-packages (from transformers<5.0.0,>=4.41.0->sentence-transformers) (0.4.5)\r\n",
      "Requirement already satisfied: joblib>=1.2.0 in /opt/anaconda3/lib/python3.12/site-packages (from scikit-learn->sentence-transformers) (1.4.2)\r\n",
      "Requirement already satisfied: threadpoolctl>=3.1.0 in /opt/anaconda3/lib/python3.12/site-packages (from scikit-learn->sentence-transformers) (3.5.0)\r\n",
      "Requirement already satisfied: MarkupSafe>=2.0 in /opt/anaconda3/lib/python3.12/site-packages (from jinja2->torch>=1.11.0->sentence-transformers) (2.1.3)\r\n",
      "Requirement already satisfied: charset-normalizer<4,>=2 in /opt/anaconda3/lib/python3.12/site-packages (from requests->huggingface-hub>=0.20.0->sentence-transformers) (3.3.2)\r\n",
      "Requirement already satisfied: idna<4,>=2.5 in /opt/anaconda3/lib/python3.12/site-packages (from requests->huggingface-hub>=0.20.0->sentence-transformers) (3.7)\r\n",
      "Requirement already satisfied: urllib3<3,>=1.21.1 in /opt/anaconda3/lib/python3.12/site-packages (from requests->huggingface-hub>=0.20.0->sentence-transformers) (2.2.3)\r\n",
      "Requirement already satisfied: certifi>=2017.4.17 in /opt/anaconda3/lib/python3.12/site-packages (from requests->huggingface-hub>=0.20.0->sentence-transformers) (2024.8.30)\r\n",
      "Downloading sentence_transformers-3.3.1-py3-none-any.whl (268 kB)\r\n",
      "Installing collected packages: sentence-transformers\r\n",
      "Successfully installed sentence-transformers-3.3.1\r\n"
     ]
    }
   ],
   "execution_count": 20
  },
  {
   "metadata": {
    "ExecuteTime": {
     "end_time": "2024-12-12T16:15:47.568753Z",
     "start_time": "2024-12-12T16:14:23.964310Z"
    }
   },
   "cell_type": "code",
   "source": [
    "from sentence_transformers import SentenceTransformer\n",
    "sentences = [\"This is an example sentence\", \"Each sentence is converted\"]\n",
    "\n",
    "model = SentenceTransformer('sentence-transformers/paraphrase-multilingual-MiniLM-L12-v2')\n",
    "embeddings = model.encode(sentences)\n",
    "print(embeddings)"
   ],
   "id": "9abd479fa1293dc2",
   "outputs": [
    {
     "name": "stderr",
     "output_type": "stream",
     "text": [
      "huggingface/tokenizers: The current process just got forked, after parallelism has already been used. Disabling parallelism to avoid deadlocks...\n",
      "To disable this warning, you can either:\n",
      "\t- Avoid using `tokenizers` before the fork if possible\n",
      "\t- Explicitly set the environment variable TOKENIZERS_PARALLELISM=(true | false)\n"
     ]
    },
    {
     "data": {
      "text/plain": [
       "modules.json:   0%|          | 0.00/229 [00:00<?, ?B/s]"
      ],
      "application/vnd.jupyter.widget-view+json": {
       "version_major": 2,
       "version_minor": 0,
       "model_id": "7b3099c7192844e8891344e1960b4866"
      }
     },
     "metadata": {},
     "output_type": "display_data"
    },
    {
     "data": {
      "text/plain": [
       "config_sentence_transformers.json:   0%|          | 0.00/122 [00:00<?, ?B/s]"
      ],
      "application/vnd.jupyter.widget-view+json": {
       "version_major": 2,
       "version_minor": 0,
       "model_id": "9831478204874f17929817e58515de6a"
      }
     },
     "metadata": {},
     "output_type": "display_data"
    },
    {
     "data": {
      "text/plain": [
       "README.md:   0%|          | 0.00/4.12k [00:00<?, ?B/s]"
      ],
      "application/vnd.jupyter.widget-view+json": {
       "version_major": 2,
       "version_minor": 0,
       "model_id": "70069a1f27d94045aa2a12624d84df54"
      }
     },
     "metadata": {},
     "output_type": "display_data"
    },
    {
     "data": {
      "text/plain": [
       "sentence_bert_config.json:   0%|          | 0.00/53.0 [00:00<?, ?B/s]"
      ],
      "application/vnd.jupyter.widget-view+json": {
       "version_major": 2,
       "version_minor": 0,
       "model_id": "d3a25ad3f24d4178bbe24817649dc10a"
      }
     },
     "metadata": {},
     "output_type": "display_data"
    },
    {
     "data": {
      "text/plain": [
       "config.json:   0%|          | 0.00/645 [00:00<?, ?B/s]"
      ],
      "application/vnd.jupyter.widget-view+json": {
       "version_major": 2,
       "version_minor": 0,
       "model_id": "e1764ff4bf9648038aef08fcba0dde78"
      }
     },
     "metadata": {},
     "output_type": "display_data"
    },
    {
     "data": {
      "text/plain": [
       "model.safetensors:   0%|          | 0.00/471M [00:00<?, ?B/s]"
      ],
      "application/vnd.jupyter.widget-view+json": {
       "version_major": 2,
       "version_minor": 0,
       "model_id": "dde2c064ab7b4fc0bf8f2fabb1420728"
      }
     },
     "metadata": {},
     "output_type": "display_data"
    },
    {
     "data": {
      "text/plain": [
       "tokenizer_config.json:   0%|          | 0.00/480 [00:00<?, ?B/s]"
      ],
      "application/vnd.jupyter.widget-view+json": {
       "version_major": 2,
       "version_minor": 0,
       "model_id": "ce34c0b1dfd5407e89b90be01cf86e94"
      }
     },
     "metadata": {},
     "output_type": "display_data"
    },
    {
     "data": {
      "text/plain": [
       "tokenizer.json:   0%|          | 0.00/9.08M [00:00<?, ?B/s]"
      ],
      "application/vnd.jupyter.widget-view+json": {
       "version_major": 2,
       "version_minor": 0,
       "model_id": "8cd2f9a2213b45c9914c1d0fe24af64c"
      }
     },
     "metadata": {},
     "output_type": "display_data"
    },
    {
     "data": {
      "text/plain": [
       "special_tokens_map.json:   0%|          | 0.00/239 [00:00<?, ?B/s]"
      ],
      "application/vnd.jupyter.widget-view+json": {
       "version_major": 2,
       "version_minor": 0,
       "model_id": "ff88f23992644c77842433e80da08d7e"
      }
     },
     "metadata": {},
     "output_type": "display_data"
    },
    {
     "data": {
      "text/plain": [
       "1_Pooling/config.json:   0%|          | 0.00/190 [00:00<?, ?B/s]"
      ],
      "application/vnd.jupyter.widget-view+json": {
       "version_major": 2,
       "version_minor": 0,
       "model_id": "1b8c8c4675a1451b988c4b40e302ba30"
      }
     },
     "metadata": {},
     "output_type": "display_data"
    },
    {
     "name": "stdout",
     "output_type": "stream",
     "text": [
      "[[ 0.1884568   0.17425641  0.05447782  0.2905176   0.16766421 -0.04720675\n",
      "   0.64558     0.15980871  0.22689249 -0.03089059  0.2558835  -0.0525877\n",
      "  -0.2261015  -0.05710628  0.1304262   0.12495363  0.31749603  0.19444385\n",
      "  -0.58632535 -0.01258583  0.6099092   0.16432738  0.03331115 -0.27383083\n",
      "  -0.28975758 -0.2111971  -0.02261382 -0.17035906  0.16159007  0.06082738\n",
      "  -0.24162409  0.18579188  0.42740935  0.19295171 -0.07234462  0.16611078\n",
      "   0.10442807  0.20477235  0.21116717  0.19973986 -0.09408248 -0.17383674\n",
      "   0.06427378  0.28025475 -0.29530594  0.06209547  0.10427693 -0.02364411\n",
      "   0.12913184 -0.12617461 -0.17898999  0.03700579 -0.61250603  0.05029806\n",
      "   0.17730357  0.22494122  0.17386065 -0.03840281 -0.21286814  0.25849253\n",
      "  -0.12101628  0.30971506 -0.4196637   0.0090766   0.14188908 -0.30556944\n",
      "   0.17621139 -0.07087357 -0.6203312   0.67708343  0.01723743  0.18405125\n",
      "  -0.1678578   0.20452644 -0.14770268 -0.06175376  0.63017434  0.11120188\n",
      "   0.05153064  0.1592742  -0.05370892  0.05350961  0.14135502  0.11239227\n",
      "  -0.48411793 -0.16993631 -0.053218    0.27650318  0.11777709 -0.34912518\n",
      "  -0.51375544 -0.32844052  0.5424045  -0.05326702  0.22918327 -0.01275969\n",
      "   0.10331825 -0.3362777   0.2476497   0.81552416 -0.08930924  0.24757878\n",
      "  -0.12043517  0.01898983  0.32457098 -0.2616243  -0.19714798  0.01440968\n",
      "  -0.03558917 -0.3274297  -0.04829875  0.18030532  0.02312136 -0.1424525\n",
      "  -0.19523916 -0.55491173  0.04145985 -0.08038606 -0.12909941  0.34541163\n",
      "   0.04179802 -0.17788367  0.34458563  0.10763652  0.00641312 -0.80818737\n",
      "   0.18311797 -0.06116285  0.10278977 -0.35960674 -0.12100701 -0.31905487\n",
      "   0.14434472  0.19774665 -0.04758286 -0.13626699  0.27915877  0.10766129\n",
      "  -0.03404965  0.06557179  0.03390278  0.474283    0.03201583  0.43823126\n",
      "  -0.18881235  0.39110142 -0.2936493  -0.09019412 -0.08186896  0.15285051\n",
      "   0.11806723 -0.29786894  0.18289213 -0.23518266 -0.04338412 -0.08308787\n",
      "  -0.01447854  0.0893662   0.1175373  -0.06312154 -0.13069396  0.16051385\n",
      "  -0.07993027  0.04523443 -0.11637409 -0.19606248  0.03943985 -0.3491175\n",
      "  -0.01147578  0.2608548   0.31661966 -0.08063632 -0.18066706  0.02020093\n",
      "  -0.08835124 -0.01678064 -0.3813459   0.15447439 -0.03228502  0.01385765\n",
      "   0.3147257  -0.29187742 -0.11789732 -0.0233309  -0.22907732  0.24850814\n",
      "  -0.08262312  0.17519872  0.07053144  0.17890422 -0.19748041  0.11594956\n",
      "   0.22957721  0.08844828 -0.34138507 -0.00305386  0.4403533   0.20765066\n",
      "  -0.23839866  0.14549932 -0.3251114  -0.04974958  0.084123   -0.26103273\n",
      "   0.42206797 -0.27341732  0.2295867  -0.18960808 -0.17343757 -0.04636096\n",
      "   0.12553105  0.47853252 -0.5529561   0.21560632  0.06972297  0.07278679\n",
      "  -0.2389014   0.1988909  -0.42354274 -0.1645273  -0.22758172 -0.04920295\n",
      "   0.23738685 -0.45531526 -0.0624704   0.581102   -0.08885626 -0.0539694\n",
      "   0.28655335 -0.4812405  -0.0612415  -0.2811629   0.36897904 -0.29531223\n",
      "  -0.71865654 -0.38774464 -0.1632466   0.13904098 -0.02087948 -0.05228808\n",
      "  -0.10613579 -0.05529164 -0.06380256  0.0298542   0.01341969  0.01263428\n",
      "   0.11067456 -0.07000578 -0.01710508  0.1080923  -0.1113493  -0.42874828\n",
      "  -0.33341146  0.14569518 -0.24261567  0.15181316 -0.08179665  0.24336222\n",
      "  -0.37745422  0.08149584  0.09220815 -0.27653453  0.0406362   0.20002238\n",
      "  -0.0478441  -0.4051084   0.18088534  0.08081247  0.02778469  0.14977631\n",
      "  -0.45252842 -0.06112518  0.22713467 -0.13096139 -0.2984912  -0.15302704\n",
      "  -0.26123834 -0.22188607  0.04267633 -0.20062745 -0.02200287 -0.4943688\n",
      "   0.5353337  -0.02982701 -0.01962635  0.05706295  0.17869136  0.31158474\n",
      "   0.3637424   0.21134536 -0.39374968  0.17488797  0.0114086  -0.10499515\n",
      "  -0.14383788 -0.10661043 -0.43856123  0.0465331  -0.2689549  -0.03211469\n",
      "   0.3126728  -0.2874716  -0.30524948 -0.02647278  0.25250235 -0.18864205\n",
      "   0.21024227  0.07654762 -0.31655508  0.13155583 -0.02851399  0.266221\n",
      "  -0.43981513  0.33574778 -0.02058761 -0.22813609 -0.1840423   0.1512934\n",
      "  -0.20930636 -0.45565358  0.09736755 -0.17393915 -0.12940063 -0.115629\n",
      "   0.2791032  -0.15251713  0.16353638 -0.18450578 -0.00569291 -0.30151087\n",
      "  -0.10034253  0.33604604 -0.01101623  0.01471757 -0.07627969  0.7871474\n",
      "  -0.2812059  -0.238199    0.10064656  0.5990075   0.50067765  0.15818898\n",
      "  -0.29037455  0.06542084 -0.14885981  0.06843902 -0.03958028  0.14649294\n",
      "  -0.14633429  0.17913024  0.28052363  0.3625298  -0.31337693 -0.04091785\n",
      "  -0.07653172  0.15323558  0.19257902 -0.37365288  0.09541653 -0.2839847\n",
      "  -0.00148432 -0.04926254  0.4472231   0.65774685  0.16523811  0.05867774\n",
      "  -0.40437815 -0.07801342 -0.25537854 -0.36102322 -0.09678137 -0.14205818\n",
      "   0.14746182  0.09517752  0.05682943 -0.17478289  0.26147896  0.14114751\n",
      "   0.12460966  0.08857512  0.18453877  0.27090234  0.34769517  0.08729657]\n",
      " [ 0.34707657  0.17975076  0.11288961 -0.22380021 -0.02937527  0.00868659\n",
      "   0.5688569  -0.17423822  0.15573631  0.05918539  0.0477103   0.11906732\n",
      "   0.06961227 -0.39164925 -0.11649487  0.39683253 -0.1670357   0.42248806\n",
      "  -0.60756475 -0.23209155  0.06476655  0.16615869 -0.23384614 -0.11623381\n",
      "   0.09024559  0.33958402 -0.16615494 -0.29775572 -0.01450191 -0.3105521\n",
      "  -0.02961079  0.4453256   0.44516346 -0.01631252 -0.12811208  0.29556128\n",
      "  -0.4481278   0.38878632  0.165114    0.12342678 -0.32385534 -0.08443243\n",
      "   0.17806537  0.0518327   0.31275338  0.06461029 -0.34610435 -0.01012809\n",
      "  -0.07875701  0.3103397  -0.10869159  0.07183909 -0.48495165  0.5769386\n",
      "   0.13360094  0.02629786 -0.2509975   0.37116402 -0.10699207 -0.17746426\n",
      "  -0.09543925  0.18270275 -0.52960575  0.22841322 -0.02978977 -0.13325107\n",
      "   0.3540959  -0.00828856 -0.24981056  0.53161824 -0.17178145  0.09505106\n",
      "   0.2792116  -0.36492953 -0.1571387   0.28872293  0.20304179  0.05974196\n",
      "   0.13127646  0.05664813 -0.0621705   0.21466295  0.11609125 -0.39906025\n",
      "   0.11946701 -0.24893907 -0.13256808  0.4465488   0.31257263 -0.3931334\n",
      "  -0.17129156 -0.5401934   0.7123145   0.0804335   0.17059132 -0.06945716\n",
      "  -0.182281   -0.3724778   0.5619806   0.36433616 -0.08759429  0.5458481\n",
      "  -0.03697037 -0.05890992 -0.26084912 -0.2623256  -0.07935368  0.32174802\n",
      "   0.14701374 -0.1855799  -0.32069573  0.23243833  0.30205423 -0.08602198\n",
      "   0.00820178 -0.15061192  0.27068552 -0.3317271   0.00814695  0.73612815\n",
      "  -0.01074329  0.09526204  0.03116505  0.16779849 -0.09472418 -0.32779142\n",
      "   0.15817587 -0.1108462  -0.07533925 -0.28564078  0.08807826  0.12668459\n",
      "  -0.05417144  0.13834679 -0.17383292 -0.17961371  0.15913583 -0.13249199\n",
      "  -0.02498735 -0.02863697  0.2214988   0.4124095  -0.09995218  0.3916578\n",
      "  -0.03023197  0.19657303 -0.5089572  -0.13262275 -0.08178646  0.3129859\n",
      "  -0.24409054 -0.1558136  -0.2763219  -0.26031104  0.02606726  0.1595185\n",
      "  -0.0236778  -0.05711328 -0.21294403  0.08174984 -0.08173852  0.1912917\n",
      "  -0.29870167  0.19334707  0.2628515   0.07807036  0.08929742  0.18175292\n",
      "  -0.2413702  -0.00128386  0.5129107  -0.24898425 -0.28275138 -0.32939056\n",
      "  -0.27734905  0.300108   -0.10644298  0.14977673  0.20152786  0.14604993\n",
      "   0.08155477 -0.15151109 -0.36765534  0.2851124  -0.20097068  0.04080805\n",
      "  -0.45554796  0.08342902 -0.07359833  0.295878    0.05567526 -0.34902957\n",
      "   0.09901798 -0.01793119 -0.25333762 -0.05929413  0.21367724  0.21086907\n",
      "  -0.5560666   0.12414746  0.04703001  0.06113528 -0.00192913 -0.47759962\n",
      "   0.18244486  0.07414562 -0.3927203  -0.17483966 -0.06648693  0.28929192\n",
      "  -0.00717118  0.13004656  0.3454354   0.00546769  0.2757413   0.07198482\n",
      "  -0.00558595 -0.22266836  0.02625503 -0.39822856  0.16638331 -0.38634887\n",
      "   0.36284986 -0.213551   -0.21243027  0.66783863 -0.19671032  0.32093588\n",
      "  -0.1752387  -0.3111673  -0.2694042  -0.06794318  0.05132932 -0.4330829\n",
      "  -0.06844477 -0.25163177 -0.23884177  0.04973101 -0.18011379  0.02875867\n",
      "   0.10885783  0.39926657  0.01026715  0.04654574  0.04425456  0.18722244\n",
      "  -0.06429307  0.05355722 -0.15590549 -0.10054183  0.29329875 -0.0483565\n",
      "   0.02299044  0.31000933 -0.06247504  0.02948098 -0.3295391   0.51300067\n",
      "  -0.3465161  -0.19149862  0.26188564 -0.02514714 -0.10117871  0.6904422\n",
      "   0.28683934 -0.4247605  -0.34004545 -0.0238341   0.03670352 -0.21457791\n",
      "  -0.31357569  0.06676676 -0.06548514 -0.14639936  0.18192557 -0.15907072\n",
      "  -0.49846768 -0.21165809  0.1163094  -0.26992613  0.16266482 -0.6431938\n",
      "   0.32003593  0.08476792 -0.00833977  0.1346939   0.20395759 -0.04883514\n",
      "   0.22934559  0.12962984 -0.28847143 -0.01838078  0.16635731 -0.25723928\n",
      "  -0.18950166  0.26680586 -0.53406227  0.0329742  -0.16005266 -0.34828982\n",
      "  -0.13480638 -0.07903045 -0.40037218  0.23914878 -0.18939868 -0.229961\n",
      "  -0.26500914  0.30549982 -0.21577808  0.12839954  0.22074056  0.02465547\n",
      "  -0.37391233  0.34780636 -0.16085584 -0.03523715  0.19708742  0.05138602\n",
      "  -0.24489093  0.04642851  0.10596146 -0.03903057 -0.39346653  0.35392612\n",
      "   0.26167682 -0.20305422  0.06714187 -0.290063    0.21563104 -0.11339241\n",
      "  -0.11325752  0.5838537  -0.3625656   0.09554897 -0.1885096   0.52210647\n",
      "   0.0104547   0.08855093 -0.19684856  0.5222598   0.5878433   0.07959566\n",
      "  -0.18018734 -0.02912603 -0.11641085  0.33799323  0.13571599  0.01027514\n",
      "  -0.4084463  -0.17475626  0.12402978  0.12424038 -0.21745631  0.2690641\n",
      "  -0.10524533 -0.06161261  0.46259737 -0.15411486  0.23713909  0.18526684\n",
      "   0.09552375 -0.40052655  0.03717386  0.28664207 -0.2980817  -0.22483228\n",
      "  -0.13735828 -0.21555291 -0.02228154 -0.22343755 -0.21233964  0.11212639\n",
      "   0.06114584 -0.27714586  0.28331044 -0.2533838   0.6110291   0.34967217\n",
      "   0.2769261   0.1729505  -0.18559735  0.31266662  0.02952205 -0.27695534]]\n"
     ]
    }
   ],
   "execution_count": 21
  },
  {
   "metadata": {
    "ExecuteTime": {
     "end_time": "2024-12-12T16:18:22.944801Z",
     "start_time": "2024-12-12T16:18:18.945769Z"
    }
   },
   "cell_type": "code",
   "source": "sentences = df_ratings.select(\"text_cleaned_lemma\").to_pandas()",
   "id": "a243b98b655fc5d",
   "outputs": [],
   "execution_count": 29
  },
  {
   "metadata": {
    "ExecuteTime": {
     "end_time": "2024-12-12T16:18:24.035883Z",
     "start_time": "2024-12-12T16:18:23.751660Z"
    }
   },
   "cell_type": "code",
   "source": "sentences = sentences[\"text_cleaned_lemma\"].to_list()",
   "id": "a051bef8867eb075",
   "outputs": [],
   "execution_count": 30
  },
  {
   "metadata": {
    "ExecuteTime": {
     "end_time": "2024-12-12T18:27:14.871103Z",
     "start_time": "2024-12-12T16:18:26.516230Z"
    }
   },
   "cell_type": "code",
   "source": "embeddings = model.encode(sentences, show_progress_bar=True)",
   "id": "d91541b94fea2be2",
   "outputs": [
    {
     "data": {
      "text/plain": [
       "Batches:   0%|          | 0/221954 [00:00<?, ?it/s]"
      ],
      "application/vnd.jupyter.widget-view+json": {
       "version_major": 2,
       "version_minor": 0,
       "model_id": "8b55f3680a4d41e6a56325f5b5178c11"
      }
     },
     "metadata": {},
     "output_type": "display_data"
    }
   ],
   "execution_count": 31
  },
  {
   "metadata": {
    "ExecuteTime": {
     "end_time": "2024-12-12T16:17:19.494103Z",
     "start_time": "2024-12-12T16:17:19.487177Z"
    }
   },
   "cell_type": "code",
   "source": "sentences = df_ratings.head(10000).select(\"text_cleaned_lemma\").to_pandas()",
   "id": "c561c5fe19473ffc",
   "outputs": [],
   "execution_count": 25
  },
  {
   "metadata": {
    "ExecuteTime": {
     "end_time": "2024-12-12T18:28:07.549144Z",
     "start_time": "2024-12-12T18:27:15.484409Z"
    }
   },
   "cell_type": "code",
   "source": [
    "# save embeddings to disk\n",
    "import numpy as np\n",
    "np.save(DATA_FOLDER + 'embeddings.npy', embeddings)"
   ],
   "id": "d02b61818a73873",
   "outputs": [],
   "execution_count": 32
  },
  {
   "metadata": {
    "ExecuteTime": {
     "end_time": "2024-12-19T15:29:41.153513Z",
     "start_time": "2024-12-19T15:29:37.526182Z"
    }
   },
   "cell_type": "code",
   "source": [
    "import numpy as np\n",
    "embeddings = np.load(DATA_FOLDER + 'embeddings.npy')"
   ],
   "id": "e8370c1542563362",
   "outputs": [],
   "execution_count": 9
  },
  {
   "metadata": {
    "ExecuteTime": {
     "end_time": "2024-12-12T21:08:41.331603Z",
     "start_time": "2024-12-12T21:08:41.117205Z"
    }
   },
   "cell_type": "code",
   "source": [
    "## RELOAD AT THIS POINT BECAUSE THE KERNEL CRASHED TO OFTEN\n",
    "import polars as pl\n",
    "import numpy as np\n",
    "import os\n",
    "\n",
    "DATA_FOLDER = os.path.join(os.getcwd(), '../data/processed/')"
   ],
   "id": "1f623fe0fe83d6a8",
   "outputs": [],
   "execution_count": 1
  },
  {
   "metadata": {
    "ExecuteTime": {
     "end_time": "2024-12-19T15:29:29.442168Z",
     "start_time": "2024-12-19T15:29:24.558416Z"
    }
   },
   "cell_type": "code",
   "source": [
    "df_no_text = pl.read_parquet(DATA_FOLDER + 'ratings_no_text.pq')\n",
    "df_ratings_text = pl.read_parquet(DATA_FOLDER + 'ratings_text_cleaned_lemma.pq')\n",
    "\n",
    "df_ratings = df_ratings_text.with_columns(\n",
    "    df_no_text\n",
    ")"
   ],
   "id": "79b9eb97af05f2d7",
   "outputs": [],
   "execution_count": 7
  },
  {
   "metadata": {
    "ExecuteTime": {
     "end_time": "2024-12-19T15:29:31.371401Z",
     "start_time": "2024-12-19T15:29:31.365973Z"
    }
   },
   "cell_type": "code",
   "source": "df_ratings.head()",
   "id": "912afd2b9edaaa09",
   "outputs": [
    {
     "data": {
      "text/plain": [
       "shape: (5, 22)\n",
       "┌───────────┬───────────┬───────────┬───────────┬───┬───────────┬───────────┬───────────┬──────────┐\n",
       "│ text      ┆ __index_l ┆ text_clea ┆ text_clea ┆ … ┆ country_b ┆ state_bre ┆ country_u ┆ state_us │\n",
       "│ ---       ┆ evel_0__  ┆ ned       ┆ ned_lemma ┆   ┆ rewery    ┆ wery      ┆ ser       ┆ er       │\n",
       "│ str       ┆ ---       ┆ ---       ┆ ---       ┆   ┆ ---       ┆ ---       ┆ ---       ┆ ---      │\n",
       "│           ┆ i64       ┆ str       ┆ str       ┆   ┆ str       ┆ str       ┆ str       ┆ str      │\n",
       "╞═══════════╪═══════════╪═══════════╪═══════════╪═══╪═══════════╪═══════════╪═══════════╪══════════╡\n",
       "│ Puszka    ┆ 0         ┆ puszka    ┆ puszka    ┆ … ┆ Gabon     ┆ null      ┆ Poland    ┆ null     │\n",
       "│ 0,33l     ┆           ┆ 033l      ┆ 033l      ┆   ┆           ┆           ┆           ┆          │\n",
       "│ dzięki    ┆           ┆ dzięki    ┆ dzięki    ┆   ┆           ┆           ┆           ┆          │\n",
       "│ Christoph ┆           ┆ christoph ┆ christoph ┆   ┆           ┆           ┆           ┆          │\n",
       "│ …         ┆           ┆ …         ┆ …         ┆   ┆           ┆           ┆           ┆          │\n",
       "│ Cerveza   ┆ 1         ┆ cerveza   ┆ cerveza   ┆ … ┆ Gabon     ┆ null      ┆ Spain     ┆ null     │\n",
       "│ pale      ┆           ┆ pale      ┆ pale      ┆   ┆           ┆           ┆           ┆          │\n",
       "│ lager     ┆           ┆ lager     ┆ lager     ┆   ┆           ┆           ┆           ┆          │\n",
       "│ gabonesa. ┆           ┆ gabonesa  ┆ gabonés   ┆   ┆           ┆           ┆           ┆          │\n",
       "│ M…        ┆           ┆ mã…       ┆ mãs…      ┆   ┆           ┆           ┆           ┆          │\n",
       "│ Kolor-    ┆ 2         ┆ kolor     ┆ kolor     ┆ … ┆ Gabon     ┆ null      ┆ Poland    ┆ null     │\n",
       "│ złoty,    ┆           ┆ złoty     ┆ złoty     ┆   ┆           ┆           ┆           ┆          │\n",
       "│ klarowny. ┆           ┆ klarowny  ┆ klarowny  ┆   ┆           ┆           ┆           ┆          │\n",
       "│ Piana …   ┆           ┆ piana     ┆ piać      ┆   ┆           ┆           ┆           ┆          │\n",
       "│           ┆           ┆ dr…       ┆ dr…       ┆   ┆           ┆           ┆           ┆          │\n",
       "│ Botella,  ┆ 3         ┆ botella   ┆ botella   ┆ … ┆ Gabon     ┆ null      ┆ Spain     ┆ null     │\n",
       "│ de GabÃ³n ┆           ┆ de gabãn  ┆ gabãn     ┆   ┆           ┆           ┆           ┆          │\n",
       "│ regalo    ┆           ┆ regalo    ┆ regalo    ┆   ┆           ┆           ┆           ┆          │\n",
       "│ fami…     ┆           ┆ famili…   ┆ familiar3 ┆   ┆           ┆           ┆           ┆          │\n",
       "│           ┆           ┆           ┆ …         ┆   ┆           ┆           ┆           ┆          │\n",
       "│ Many      ┆ 4         ┆ many      ┆ thank     ┆ … ┆ Gabon     ┆ null      ┆ Germany   ┆ null     │\n",
       "│ thanks    ┆           ┆ thanks    ┆ beer      ┆   ┆           ┆           ┆           ┆          │\n",
       "│ for this  ┆           ┆ for this  ┆ erzengel  ┆   ┆           ┆           ┆           ┆          │\n",
       "│ beer to   ┆           ┆ beer to   ┆ pour      ┆   ┆           ┆           ┆           ┆          │\n",
       "│ E…        ┆           ┆ e…        ┆ light…    ┆   ┆           ┆           ┆           ┆          │\n",
       "└───────────┴───────────┴───────────┴───────────┴───┴───────────┴───────────┴───────────┴──────────┘"
      ],
      "text/html": [
       "<div><style>\n",
       ".dataframe > thead > tr,\n",
       ".dataframe > tbody > tr {\n",
       "  text-align: right;\n",
       "  white-space: pre-wrap;\n",
       "}\n",
       "</style>\n",
       "<small>shape: (5, 22)</small><table border=\"1\" class=\"dataframe\"><thead><tr><th>text</th><th>__index_level_0__</th><th>text_cleaned</th><th>text_cleaned_lemma</th><th>date</th><th>beer_id</th><th>user_id</th><th>brewery_id</th><th>abv</th><th>style</th><th>rating</th><th>palate</th><th>taste</th><th>appearance</th><th>aroma</th><th>overall</th><th>year</th><th>brewery_name</th><th>country_brewery</th><th>state_brewery</th><th>country_user</th><th>state_user</th></tr><tr><td>str</td><td>i64</td><td>str</td><td>str</td><td>datetime[ns]</td><td>i64</td><td>i64</td><td>i64</td><td>f64</td><td>str</td><td>f64</td><td>f64</td><td>f64</td><td>f64</td><td>f64</td><td>f64</td><td>i32</td><td>str</td><td>str</td><td>str</td><td>str</td><td>str</td></tr></thead><tbody><tr><td>&quot;Puszka 0,33l dzięki Christoph …</td><td>0</td><td>&quot;puszka 033l dzięki christoph  …</td><td>&quot;puszka 033l dzięki christoph  …</td><td>2016-04-26 12:00:00</td><td>410549</td><td>175852</td><td>3198</td><td>5.0</td><td>&quot;Pale Lager&quot;</td><td>2.0</td><td>2.0</td><td>4.0</td><td>2.0</td><td>4.0</td><td>8.0</td><td>2016</td><td>&quot;Sobraga&quot;</td><td>&quot;Gabon&quot;</td><td>null</td><td>&quot;Poland&quot;</td><td>null</td></tr><tr><td>&quot;Cerveza pale lager gabonesa. M…</td><td>1</td><td>&quot;cerveza pale lager gabonesa mã…</td><td>&quot;cerveza pale lager gabonés mãs…</td><td>2017-02-17 12:00:00</td><td>105273</td><td>442761</td><td>3198</td><td>5.2</td><td>&quot;Pale Lager&quot;</td><td>1.9</td><td>2.0</td><td>4.0</td><td>2.0</td><td>3.0</td><td>8.0</td><td>2017</td><td>&quot;Sobraga&quot;</td><td>&quot;Gabon&quot;</td><td>null</td><td>&quot;Spain&quot;</td><td>null</td></tr><tr><td>&quot;Kolor- złoty, klarowny. Piana …</td><td>2</td><td>&quot;kolor złoty klarowny piana  dr…</td><td>&quot;kolor złoty klarowny piać   dr…</td><td>2016-06-24 12:00:00</td><td>105273</td><td>288889</td><td>3198</td><td>5.2</td><td>&quot;Pale Lager&quot;</td><td>1.6</td><td>2.0</td><td>3.0</td><td>3.0</td><td>3.0</td><td>5.0</td><td>2016</td><td>&quot;Sobraga&quot;</td><td>&quot;Gabon&quot;</td><td>null</td><td>&quot;Poland&quot;</td><td>null</td></tr><tr><td>&quot;Botella, de GabÃ³n regalo fami…</td><td>3</td><td>&quot;botella de gabãn regalo famili…</td><td>&quot;botella gabãn regalo familiar3…</td><td>2016-01-01 12:00:00</td><td>105273</td><td>250510</td><td>3198</td><td>5.2</td><td>&quot;Pale Lager&quot;</td><td>1.5</td><td>1.0</td><td>2.0</td><td>4.0</td><td>3.0</td><td>5.0</td><td>2016</td><td>&quot;Sobraga&quot;</td><td>&quot;Gabon&quot;</td><td>null</td><td>&quot;Spain&quot;</td><td>null</td></tr><tr><td>&quot;Many thanks for this beer to E…</td><td>4</td><td>&quot;many thanks for this beer to e…</td><td>&quot;thank beer erzengel pour light…</td><td>2015-10-23 12:00:00</td><td>105273</td><td>122778</td><td>3198</td><td>5.2</td><td>&quot;Pale Lager&quot;</td><td>1.9</td><td>2.0</td><td>4.0</td><td>2.0</td><td>4.0</td><td>7.0</td><td>2015</td><td>&quot;Sobraga&quot;</td><td>&quot;Gabon&quot;</td><td>null</td><td>&quot;Germany&quot;</td><td>null</td></tr></tbody></table></div>"
      ]
     },
     "execution_count": 8,
     "metadata": {},
     "output_type": "execute_result"
    }
   ],
   "execution_count": 8
  },
  {
   "metadata": {
    "ExecuteTime": {
     "end_time": "2024-12-19T15:29:42.008013Z",
     "start_time": "2024-12-19T15:29:41.998217Z"
    }
   },
   "cell_type": "code",
   "source": [
    "df_ratings = df_ratings.with_columns(\n",
    "    pl.DataFrame({\n",
    "        \"embedding\": embeddings\n",
    "    })\n",
    ")"
   ],
   "id": "57c0f2e01f79888b",
   "outputs": [],
   "execution_count": 10
  },
  {
   "metadata": {
    "ExecuteTime": {
     "end_time": "2024-12-19T15:29:43.099433Z",
     "start_time": "2024-12-19T15:29:43.097105Z"
    }
   },
   "cell_type": "code",
   "source": "print(df_ratings.head())",
   "id": "5362dedd91185949",
   "outputs": [
    {
     "name": "stdout",
     "output_type": "stream",
     "text": [
      "shape: (5, 23)\n",
      "┌───────────┬───────────┬───────────┬───────────┬───┬───────────┬───────────┬───────────┬──────────┐\n",
      "│ text      ┆ __index_l ┆ text_clea ┆ text_clea ┆ … ┆ state_bre ┆ country_u ┆ state_use ┆ embeddin │\n",
      "│ ---       ┆ evel_0__  ┆ ned       ┆ ned_lemma ┆   ┆ wery      ┆ ser       ┆ r         ┆ g        │\n",
      "│ str       ┆ ---       ┆ ---       ┆ ---       ┆   ┆ ---       ┆ ---       ┆ ---       ┆ ---      │\n",
      "│           ┆ i64       ┆ str       ┆ str       ┆   ┆ str       ┆ str       ┆ str       ┆ array[f3 │\n",
      "│           ┆           ┆           ┆           ┆   ┆           ┆           ┆           ┆ 2, 384]  │\n",
      "╞═══════════╪═══════════╪═══════════╪═══════════╪═══╪═══════════╪═══════════╪═══════════╪══════════╡\n",
      "│ Puszka    ┆ 0         ┆ puszka    ┆ puszka    ┆ … ┆ null      ┆ Poland    ┆ null      ┆ [-0.0922 │\n",
      "│ 0,33l     ┆           ┆ 033l      ┆ 033l      ┆   ┆           ┆           ┆           ┆ 51, 0.12 │\n",
      "│ dzięki    ┆           ┆ dzięki    ┆ dzięki    ┆   ┆           ┆           ┆           ┆ 8006, …  │\n",
      "│ Christoph ┆           ┆ christoph ┆ christoph ┆   ┆           ┆           ┆           ┆ 0.0994…  │\n",
      "│ …         ┆           ┆ …         ┆ …         ┆   ┆           ┆           ┆           ┆          │\n",
      "│ Cerveza   ┆ 1         ┆ cerveza   ┆ cerveza   ┆ … ┆ null      ┆ Spain     ┆ null      ┆ [-0.0402 │\n",
      "│ pale      ┆           ┆ pale      ┆ pale      ┆   ┆           ┆           ┆           ┆ 49, 0.22 │\n",
      "│ lager     ┆           ┆ lager     ┆ lager     ┆   ┆           ┆           ┆           ┆ 7907, …  │\n",
      "│ gabonesa. ┆           ┆ gabonesa  ┆ gabonés   ┆   ┆           ┆           ┆           ┆ -0.097…  │\n",
      "│ M…        ┆           ┆ mã…       ┆ mãs…      ┆   ┆           ┆           ┆           ┆          │\n",
      "│ Kolor-    ┆ 2         ┆ kolor     ┆ kolor     ┆ … ┆ null      ┆ Poland    ┆ null      ┆ [0.02944 │\n",
      "│ złoty,    ┆           ┆ złoty     ┆ złoty     ┆   ┆           ┆           ┆           ┆ 7,       │\n",
      "│ klarowny. ┆           ┆ klarowny  ┆ klarowny  ┆   ┆           ┆           ┆           ┆ 0.06468, │\n",
      "│ Piana …   ┆           ┆ piana     ┆ piać      ┆   ┆           ┆           ┆           ┆ … -0.006 │\n",
      "│           ┆           ┆ dr…       ┆ dr…       ┆   ┆           ┆           ┆           ┆ 44…      │\n",
      "│ Botella,  ┆ 3         ┆ botella   ┆ botella   ┆ … ┆ null      ┆ Spain     ┆ null      ┆ [-0.3679 │\n",
      "│ de GabÃ³n ┆           ┆ de gabãn  ┆ gabãn     ┆   ┆           ┆           ┆           ┆ 51, 0.35 │\n",
      "│ regalo    ┆           ┆ regalo    ┆ regalo    ┆   ┆           ┆           ┆           ┆ 6342, …  │\n",
      "│ fami…     ┆           ┆ famili…   ┆ familiar3 ┆   ┆           ┆           ┆           ┆ -0.079…  │\n",
      "│           ┆           ┆           ┆ …         ┆   ┆           ┆           ┆           ┆          │\n",
      "│ Many      ┆ 4         ┆ many      ┆ thank     ┆ … ┆ null      ┆ Germany   ┆ null      ┆ [-0.1120 │\n",
      "│ thanks    ┆           ┆ thanks    ┆ beer      ┆   ┆           ┆           ┆           ┆ 88, 0.08 │\n",
      "│ for this  ┆           ┆ for this  ┆ erzengel  ┆   ┆           ┆           ┆           ┆ 6483, …  │\n",
      "│ beer to   ┆           ┆ beer to   ┆ pour      ┆   ┆           ┆           ┆           ┆ -0.083…  │\n",
      "│ E…        ┆           ┆ e…        ┆ light…    ┆   ┆           ┆           ┆           ┆          │\n",
      "└───────────┴───────────┴───────────┴───────────┴───┴───────────┴───────────┴───────────┴──────────┘\n"
     ]
    }
   ],
   "execution_count": 11
  },
  {
   "metadata": {
    "ExecuteTime": {
     "end_time": "2024-12-19T15:59:49.760508Z",
     "start_time": "2024-12-19T15:57:53.104880Z"
    }
   },
   "cell_type": "code",
   "source": "df_ratings.write_parquet(DATA_FOLDER + 'text_with_embeddings.pq')",
   "id": "9f5704d2be2d90d2",
   "outputs": [],
   "execution_count": 28
  },
  {
   "metadata": {
    "ExecuteTime": {
     "end_time": "2024-12-19T15:31:21.193279Z",
     "start_time": "2024-12-19T15:31:06.016251Z"
    }
   },
   "cell_type": "code",
   "source": [
    "country_data = df_ratings.filter(pl.col('country_user') == 'Greece')\n",
    "\n",
    "\n",
    "# Convert embeddings to numpy arrays first\n",
    "embeddings_list = country_data.select('embedding').to_numpy().flatten().tolist()\n",
    "country_vectors = np.array([np.array(emb) for emb in embeddings_list])\n",
    "greece_embeddings = np.mean(country_vectors, axis=0)"
   ],
   "id": "7c136d5e51ad3d6b",
   "outputs": [],
   "execution_count": 12
  },
  {
   "metadata": {
    "ExecuteTime": {
     "end_time": "2024-12-19T15:32:55.363710Z",
     "start_time": "2024-12-19T15:32:55.355739Z"
    }
   },
   "cell_type": "code",
   "source": "greece_embeddings[:9]",
   "id": "b5713900b2b4b7d1",
   "outputs": [
    {
     "data": {
      "text/plain": [
       "array([-0.01107307, -0.0133639 ,  0.14779963,  0.12276171, -0.01576069,\n",
       "       -0.04867175,  0.410403  , -0.08626071, -0.07765522], dtype=float32)"
      ]
     },
     "execution_count": 14,
     "metadata": {},
     "output_type": "execute_result"
    }
   ],
   "execution_count": 14
  },
  {
   "metadata": {
    "ExecuteTime": {
     "end_time": "2024-12-19T15:35:21.203154Z",
     "start_time": "2024-12-19T15:35:21.197905Z"
    }
   },
   "cell_type": "code",
   "source": "print(\"Polars Greece count:\", len(country_data))",
   "id": "1b9785a3d227d004",
   "outputs": [
    {
     "name": "stdout",
     "output_type": "stream",
     "text": [
      "Polars Greece count: 9344\n"
     ]
    }
   ],
   "execution_count": 15
  },
  {
   "metadata": {
    "ExecuteTime": {
     "end_time": "2024-12-19T15:41:14.592706Z",
     "start_time": "2024-12-19T15:41:14.588838Z"
    }
   },
   "cell_type": "code",
   "source": [
    "# Check a single record in Polars\n",
    "print(\"First Greece embedding in Polars:\")\n",
    "# Select embedding for text starting with \"750 ml bottle at Gueuze\"\n",
    "\n",
    "first_greece = country_data.filter(pl.col('text').str.contains(\"750 ml bottle at Gueuze tasting 2016, Ulfborg. Thanjks Alex!\")).select('embedding').to_numpy()\n",
    "print(first_greece)"
   ],
   "id": "e7178d6f26f3f8ad",
   "outputs": [
    {
     "name": "stdout",
     "output_type": "stream",
     "text": [
      "First Greece embedding in Polars:\n",
      "[[array([-0.13169406, -0.05693194,  0.09207738,  0.05754452,  0.05620266,\n",
      "          0.04363281,  0.38556316, -0.09819862,  0.16988009, -0.03569547,\n",
      "         -0.03897982, -0.48118275, -0.32915944,  0.00379987,  0.35807428,\n",
      "         -0.04372841,  0.12076375,  0.18190432, -0.13706633, -0.04586298,\n",
      "         -0.17574537,  0.18152708, -0.21668543,  0.10091254, -0.30105105,\n",
      "          0.08337148, -0.00778008, -0.26100546,  0.02534828,  0.00435741,\n",
      "          0.23898597,  0.2825697 ,  0.1601582 , -0.08995596,  0.02752494,\n",
      "         -0.02616315, -0.2775362 , -0.30310145, -0.07825443,  0.23916608,\n",
      "         -0.02156192, -0.13552654, -0.08342125,  0.09390035, -0.24820158,\n",
      "         -0.09341329, -0.0695189 , -0.15045294, -0.0010482 ,  0.23539037,\n",
      "          0.0333218 , -0.28814638, -0.05667413, -0.33202535, -0.02855933,\n",
      "         -0.08968623, -0.29258746, -0.10395052, -0.1936652 ,  0.21048358,\n",
      "         -0.10234781, -0.02177402, -0.10794804, -0.06253915, -0.04407612,\n",
      "         -0.11505005,  0.15275735, -0.14610362,  0.17990842, -0.46840614,\n",
      "         -0.05375604, -0.09634308, -0.05513299, -0.17740984, -0.11410373,\n",
      "          0.03485637,  0.37800807, -0.03155491, -0.19390234, -0.05839253,\n",
      "         -0.15575495, -0.0732559 , -0.17899163,  0.03486419,  0.26142287,\n",
      "          0.10069393, -0.11317208, -0.04694791,  0.07404815, -0.04162012,\n",
      "          0.05113257, -0.03929861, -0.09787878,  0.10172115,  0.30360973,\n",
      "          0.22540098,  0.02899871, -0.15193951,  0.14098844,  0.03405233,\n",
      "         -0.13006608, -0.01262813, -0.0957741 ,  0.00883786,  0.03391103,\n",
      "         -0.05471082, -0.01573047,  0.17556578,  0.29234272,  0.05888435,\n",
      "         -0.07532492, -0.02280527, -0.03529803,  0.07817484,  0.06810012,\n",
      "          0.01804838,  0.00199972, -0.15954466,  0.02702559,  0.1907182 ,\n",
      "         -0.04098741, -0.08638872,  0.20772703, -0.03826222,  0.08160351,\n",
      "         -0.09009843,  0.2787632 ,  0.00242964, -0.29466155,  0.06315504,\n",
      "          0.15034547, -0.41657725,  0.1360951 ,  0.29007226, -0.10974292,\n",
      "          0.02252803,  0.03180233, -0.02632504,  0.06756497,  0.10952428,\n",
      "         -0.40409195, -0.2716024 , -0.21983604, -0.12386182, -0.23472273,\n",
      "         -0.15957776, -0.09938437, -0.07684604, -0.21137546,  0.02340663,\n",
      "          0.09921404,  0.06524634, -0.06642951,  0.0670801 ,  0.14526579,\n",
      "         -0.09715708,  0.18566614,  0.14704585,  0.35085672, -0.13640013,\n",
      "         -0.32171404, -0.06552285, -0.11751169,  0.0358758 , -0.08605819,\n",
      "          0.11126912,  0.17319119, -0.09332611, -0.00774843,  0.09040812,\n",
      "          0.16145118, -0.08779979, -0.10738842,  0.18802576, -0.10924953,\n",
      "         -0.02709376,  0.07817426, -0.02436406, -0.03576471,  0.10749078,\n",
      "          0.2490122 ,  0.27376455,  0.04200501, -0.00841639, -0.08726403,\n",
      "          0.3113358 ,  0.19292535,  0.05552401, -0.14493583,  0.14518392,\n",
      "          0.0413341 , -0.21831939, -0.1655105 ,  0.11605498, -0.2934091 ,\n",
      "         -0.16499928,  0.06503667, -0.12111877,  0.100393  ,  0.09754062,\n",
      "          0.11094657, -0.07302094,  0.04849062, -0.18278527,  0.378913  ,\n",
      "         -0.01961139,  0.23479725,  0.02774609,  0.15052682, -0.07572129,\n",
      "         -0.03038928,  0.09693539, -0.0482223 , -0.08119662,  0.08890538,\n",
      "         -0.0929281 , -0.09393238, -0.06472956,  0.17197308, -0.01351572,\n",
      "         -0.08220871, -0.31659392,  0.05844573, -0.04412133,  0.18732384,\n",
      "          0.04433014, -0.21154894,  0.09895732,  0.03980472,  0.07925885,\n",
      "          0.15735474,  0.31794366, -0.08857454, -0.24348636,  0.48730293,\n",
      "          0.04462517, -0.19284102,  0.19805062,  0.23575659,  0.11990326,\n",
      "          0.10032014,  0.2142695 ,  0.14511582, -0.0309646 , -0.32108462,\n",
      "          0.28433466, -0.02294527,  0.06631015, -0.31467253,  0.06766863,\n",
      "          0.18363789,  0.05393019,  0.05038126, -0.01983324,  0.34044218,\n",
      "          0.07789275,  0.03854339,  0.0530685 ,  0.32171655, -0.13378973,\n",
      "          0.17156947, -0.11564571, -0.26593876,  0.19441271,  0.11198781,\n",
      "          0.08772301, -0.35540262, -0.05038884, -0.06144705,  0.04532842,\n",
      "         -0.08233114, -0.3353027 , -0.01650831,  0.14875971,  0.3384989 ,\n",
      "         -0.22491321,  0.0901104 ,  0.07894202,  0.08689006, -0.13207528,\n",
      "          0.33286032, -0.03810482, -0.15404096,  0.040211  , -0.09413493,\n",
      "         -0.19857374, -0.11363766, -0.25467712, -0.10455477,  0.04245172,\n",
      "         -0.00359867,  0.23326077,  0.1641947 , -0.07357451,  0.02580386,\n",
      "          0.18534589,  0.05894123,  0.2365851 ,  0.15556651,  0.12437009,\n",
      "         -0.0540371 , -0.16279805,  0.03434655, -0.23940887, -0.09587353,\n",
      "          0.07723013,  0.04882141, -0.10510736,  0.32692182, -0.10484812,\n",
      "          0.01289502, -0.09895286,  0.00752768, -0.1977807 ,  0.19881919,\n",
      "         -0.041738  ,  0.21347028,  0.30276835,  0.24060768, -0.04053006,\n",
      "         -0.075891  , -0.04145639, -0.02154139,  0.03859292,  0.07228956,\n",
      "          0.20265487, -0.12179571, -0.2385394 , -0.29758766, -0.00968618,\n",
      "         -0.11308892,  0.255045  , -0.39442044, -0.1503552 ,  0.19540244,\n",
      "          0.05527966, -0.14471191, -0.07537079,  0.23103043, -0.25879925,\n",
      "         -0.15933287,  0.18535309,  0.00809546, -0.21551272, -0.09640341,\n",
      "         -0.02430803,  0.07437415,  0.13433869, -0.05181928, -0.16408136,\n",
      "         -0.04369614,  0.43729797, -0.34309226, -0.10672673, -0.12129398,\n",
      "          0.05297425, -0.2642872 ,  0.04409511,  0.13181493,  0.23848632,\n",
      "         -0.10088868, -0.4188486 ,  0.10600054, -0.08108805, -0.10006379,\n",
      "          0.00360931,  0.08560826,  0.22251962, -0.08423759,  0.2914614 ,\n",
      "          0.07256817, -0.03561859,  0.18532021,  0.01632577, -0.21305853,\n",
      "          0.06448816, -0.10849307,  0.08315113, -0.0188453 , -0.17893758,\n",
      "          0.13646922,  0.02637079,  0.12348612, -0.18789035], dtype=float32)]]\n"
     ]
    }
   ],
   "execution_count": 25
  },
  {
   "metadata": {
    "ExecuteTime": {
     "end_time": "2024-12-19T15:53:20.746619Z",
     "start_time": "2024-12-19T15:53:20.743311Z"
    }
   },
   "cell_type": "code",
   "source": "",
   "id": "634512c08d8c4363",
   "outputs": [],
   "execution_count": null
  },
  {
   "metadata": {},
   "cell_type": "code",
   "outputs": [],
   "execution_count": null,
   "source": "",
   "id": "d0581f95af12acab"
  },
  {
   "metadata": {
    "ExecuteTime": {
     "end_time": "2024-12-12T21:09:07.381451Z",
     "start_time": "2024-12-12T21:09:06.205133Z"
    }
   },
   "cell_type": "code",
   "source": [
    "import numpy as np\n",
    "import polars as pl\n",
    "from sklearn.metrics.pairwise import cosine_similarity\n",
    "from collections import defaultdict\n",
    "from tqdm.auto import tqdm\n",
    "\n",
    "def analyze_country_text_embeddings(df: pl.DataFrame):\n",
    "    \"\"\"\n",
    "    Analyze textual patterns in beer reviews using embeddings grouped by country.\n",
    "\n",
    "    Parameters:\n",
    "    df (pl.DataFrame): Input polars dataframe with beer ratings and embeddings\n",
    "\n",
    "    Returns:\n",
    "    dict: Dictionary containing various text-based analyses\n",
    "    \"\"\"\n",
    "    # Calculate average embedding vector per country\n",
    "    country_embeddings = {}\n",
    "    unique_countries = df['country_user'].unique().to_list()\n",
    "\n",
    "    print(\"Calculating country embeddings...\")\n",
    "    for country in tqdm(unique_countries, desc=\"Processing countries\"):\n",
    "        country_data = df.filter(pl.col('country_user') == country)\n",
    "        if country_data.height == 0:\n",
    "            continue\n",
    "\n",
    "        # Convert embeddings to numpy arrays first\n",
    "        embeddings_list = country_data.select('embedding').to_numpy().flatten().tolist()\n",
    "        country_vectors = np.array([np.array(emb) for emb in embeddings_list])\n",
    "        country_embeddings[country] = np.mean(country_vectors, axis=0)\n",
    "\n",
    "    # Remove any countries that had no data\n",
    "    countries = list(country_embeddings.keys())\n",
    "\n",
    "    if not countries:\n",
    "        raise ValueError(\"No valid countries found in the dataset\")\n",
    "\n",
    "    # Calculate similarity matrix between countries\n",
    "    similarity_matrix = np.zeros((len(countries), len(countries)))\n",
    "\n",
    "    print(\"\\nCalculating country similarities...\")\n",
    "    for i, c1 in tqdm(enumerate(countries), total=len(countries), desc=\"Computing similarities\"):\n",
    "        for j, c2 in enumerate(countries):\n",
    "            similarity_matrix[i, j] = cosine_similarity(\n",
    "                country_embeddings[c1].reshape(1, -1),\n",
    "                country_embeddings[c2].reshape(1, -1)\n",
    "            )[0, 0]\n",
    "\n",
    "    # Find most similar countries for each country\n",
    "    similar_countries = {}\n",
    "    for i, country in enumerate(countries):\n",
    "        similarities = [(countries[j], similarity_matrix[i, j])\n",
    "                        for j in range(len(countries)) if countries[j] != country]\n",
    "        similar_countries[country] = sorted(similarities, key=lambda x: x[1], reverse=True)[:3]\n",
    "\n",
    "    # Find representative reviews for each country\n",
    "    representative_reviews = {}\n",
    "    print(\"\\nFinding representative reviews...\")\n",
    "    for country in tqdm(countries, desc=\"Processing reviews\"):\n",
    "        country_data = df.filter(pl.col('country_user') == country)\n",
    "        if country_data.height == 0:\n",
    "            continue\n",
    "\n",
    "        mean_embedding = country_embeddings[country]\n",
    "\n",
    "        # Calculate similarity to mean embedding for each review\n",
    "        similarities = []\n",
    "        for row in country_data.iter_rows(named=True):\n",
    "            embedding_array = np.array(row['embedding'])\n",
    "            sim = cosine_similarity(\n",
    "                mean_embedding.reshape(1, -1),\n",
    "                embedding_array.reshape(1, -1)\n",
    "            )[0, 0]\n",
    "            similarities.append((row['text'], sim))\n",
    "\n",
    "        # Get top 3 most representative reviews\n",
    "        representative_reviews[country] = sorted(similarities, key=lambda x: x[1], reverse=True)[:3]\n",
    "\n",
    "    return {\n",
    "        'country_embeddings': country_embeddings,\n",
    "        'similarity_matrix': similarity_matrix,\n",
    "        'countries': countries,\n",
    "        'similar_countries': similar_countries,\n",
    "        'representative_reviews': representative_reviews\n",
    "    }\n",
    "\n",
    "def get_country_insights(results, country):\n",
    "    \"\"\"\n",
    "    Get detailed insights for a specific country.\n",
    "    \"\"\"\n",
    "    if country not in results['countries']:\n",
    "        print(f\"Country '{country}' not found in the dataset.\")\n",
    "        print(f\"Available countries: {', '.join(sorted(results['countries']))}\")\n",
    "        return\n",
    "\n",
    "    similar = results['similar_countries'][country]\n",
    "    reviews = results['representative_reviews'][country]\n",
    "\n",
    "    print(f\"Analysis for {country}:\")\n",
    "    print(\"\\nMost similar countries (by review content):\")\n",
    "    for c, score in similar:\n",
    "        print(f\"- {c}: {score:.3f} similarity\")\n",
    "\n",
    "    print(\"\\nMost representative reviews:\")\n",
    "    for review, score in reviews:\n",
    "        print(f\"\\nReview (similarity: {score:.3f}):\")\n",
    "        print(review[:200] + \"...\" if len(review) > 200 else review)"
   ],
   "id": "2f3129976b8d4fe0",
   "outputs": [],
   "execution_count": 10
  },
  {
   "metadata": {
    "ExecuteTime": {
     "end_time": "2024-12-12T21:44:49.374880Z",
     "start_time": "2024-12-12T21:09:09.611278Z"
    }
   },
   "cell_type": "code",
   "source": "results = analyze_country_text_embeddings(df_ratings)\n",
   "id": "9fa2f40fbf6b9cd7",
   "outputs": [
    {
     "name": "stdout",
     "output_type": "stream",
     "text": [
      "Calculating country embeddings...\n"
     ]
    },
    {
     "data": {
      "text/plain": [
       "Processing countries:   0%|          | 0/171 [00:00<?, ?it/s]"
      ],
      "application/vnd.jupyter.widget-view+json": {
       "version_major": 2,
       "version_minor": 0,
       "model_id": "142ff691878e47e0966b24675403805f"
      }
     },
     "metadata": {},
     "output_type": "display_data"
    },
    {
     "name": "stderr",
     "output_type": "stream",
     "text": [
      "/var/folders/3_/4btpstq96m76z23vgv9m8r4m0000gn/T/ipykernel_1506/1343527098.py:23: UserWarning: Comparisons with None always result in null. Consider using `.is_null()` or `.is_not_null()`.\n",
      "  country_data = df.filter(pl.col('country_user') == country)\n"
     ]
    },
    {
     "name": "stdout",
     "output_type": "stream",
     "text": [
      "\n",
      "Calculating country similarities...\n"
     ]
    },
    {
     "data": {
      "text/plain": [
       "Computing similarities:   0%|          | 0/170 [00:00<?, ?it/s]"
      ],
      "application/vnd.jupyter.widget-view+json": {
       "version_major": 2,
       "version_minor": 0,
       "model_id": "0d6e2f984bfc47c1b08e5a2068fafd38"
      }
     },
     "metadata": {},
     "output_type": "display_data"
    },
    {
     "name": "stdout",
     "output_type": "stream",
     "text": [
      "\n",
      "Finding representative reviews...\n"
     ]
    },
    {
     "data": {
      "text/plain": [
       "Processing reviews:   0%|          | 0/170 [00:00<?, ?it/s]"
      ],
      "application/vnd.jupyter.widget-view+json": {
       "version_major": 2,
       "version_minor": 0,
       "model_id": "96b191f14bca4de9a13e00ecac22285c"
      }
     },
     "metadata": {},
     "output_type": "display_data"
    }
   ],
   "execution_count": 11
  },
  {
   "metadata": {},
   "cell_type": "code",
   "outputs": [],
   "execution_count": null,
   "source": "",
   "id": "3a479d58bf0a0740"
  },
  {
   "metadata": {
    "ExecuteTime": {
     "end_time": "2024-12-19T15:25:38.841445Z",
     "start_time": "2024-12-19T15:25:38.828350Z"
    }
   },
   "cell_type": "code",
   "source": [
    "# save results\n",
    "import pickle\n",
    "\n",
    "with open(DATA_FOLDER + 'country_insights.pkl', 'wb') as f:\n",
    "    pickle.dump(results, f)"
   ],
   "id": "53dffb650c0f9d17",
   "outputs": [
    {
     "ename": "NameError",
     "evalue": "name 'results' is not defined",
     "output_type": "error",
     "traceback": [
      "\u001B[0;31m---------------------------------------------------------------------------\u001B[0m",
      "\u001B[0;31mNameError\u001B[0m                                 Traceback (most recent call last)",
      "Cell \u001B[0;32mIn[4], line 5\u001B[0m\n\u001B[1;32m      2\u001B[0m \u001B[38;5;28;01mimport\u001B[39;00m \u001B[38;5;21;01mpickle\u001B[39;00m\n\u001B[1;32m      4\u001B[0m \u001B[38;5;28;01mwith\u001B[39;00m \u001B[38;5;28mopen\u001B[39m(DATA_FOLDER \u001B[38;5;241m+\u001B[39m \u001B[38;5;124m'\u001B[39m\u001B[38;5;124mcountry_insights.pkl\u001B[39m\u001B[38;5;124m'\u001B[39m, \u001B[38;5;124m'\u001B[39m\u001B[38;5;124mwb\u001B[39m\u001B[38;5;124m'\u001B[39m) \u001B[38;5;28;01mas\u001B[39;00m f:\n\u001B[0;32m----> 5\u001B[0m     pickle\u001B[38;5;241m.\u001B[39mdump(results, f)\n",
      "\u001B[0;31mNameError\u001B[0m: name 'results' is not defined"
     ]
    }
   ],
   "execution_count": 4
  },
  {
   "metadata": {
    "ExecuteTime": {
     "end_time": "2024-12-19T15:29:15.603343Z",
     "start_time": "2024-12-19T15:29:15.595817Z"
    }
   },
   "cell_type": "code",
   "source": [
    "# load results\n",
    "import pickle\n",
    "\n",
    "with open(DATA_FOLDER + 'country_insights.pkl', 'rb') as f:\n",
    "    results = pickle.load(f)"
   ],
   "id": "2db9515c6269f2ac",
   "outputs": [
    {
     "ename": "EOFError",
     "evalue": "Ran out of input",
     "output_type": "error",
     "traceback": [
      "\u001B[0;31m---------------------------------------------------------------------------\u001B[0m",
      "\u001B[0;31mEOFError\u001B[0m                                  Traceback (most recent call last)",
      "Cell \u001B[0;32mIn[6], line 5\u001B[0m\n\u001B[1;32m      2\u001B[0m \u001B[38;5;28;01mimport\u001B[39;00m \u001B[38;5;21;01mpickle\u001B[39;00m\n\u001B[1;32m      4\u001B[0m \u001B[38;5;28;01mwith\u001B[39;00m \u001B[38;5;28mopen\u001B[39m(DATA_FOLDER \u001B[38;5;241m+\u001B[39m \u001B[38;5;124m'\u001B[39m\u001B[38;5;124mcountry_insights.pkl\u001B[39m\u001B[38;5;124m'\u001B[39m, \u001B[38;5;124m'\u001B[39m\u001B[38;5;124mrb\u001B[39m\u001B[38;5;124m'\u001B[39m) \u001B[38;5;28;01mas\u001B[39;00m f:\n\u001B[0;32m----> 5\u001B[0m     results \u001B[38;5;241m=\u001B[39m pickle\u001B[38;5;241m.\u001B[39mload(f)\n",
      "\u001B[0;31mEOFError\u001B[0m: Ran out of input"
     ]
    }
   ],
   "execution_count": 6
  },
  {
   "metadata": {
    "ExecuteTime": {
     "end_time": "2024-12-12T21:48:21.805726Z",
     "start_time": "2024-12-12T21:48:21.804170Z"
    }
   },
   "cell_type": "code",
   "source": "get_country_insights(results, \"Hungary\")",
   "id": "cac02429f3c1ca15",
   "outputs": [
    {
     "name": "stdout",
     "output_type": "stream",
     "text": [
      "Analysis for Hungary:\n",
      "\n",
      "Most similar countries (by review content):\n",
      "- Czech Republic: 0.988 similarity\n",
      "- Germany: 0.985 similarity\n",
      "- Spain: 0.985 similarity\n",
      "\n",
      "Most representative reviews:\n",
      "\n",
      "Review (similarity: 0.891):\n",
      "0.5l bottle. Dark orange body with a minimal off-white head. Aroma of toast, a minimal caramel and some fruity, floral hoppyness. The taste is like the aroma, but with more hop bitterness. A really ni...\n",
      "\n",
      "Review (similarity: 0.888):\n",
      "0.5l bottle. Dark orange body, white head. Aroma and taste of caramel, toast and a tiny bit of roastyness. The taste also has some dark fruits and some floral hoppyness. OK beer.\n",
      "\n",
      "Review (similarity: 0.886):\n",
      "Bottle. Clear deep yellow/orange color with a small white head, disappearing. Aroma is malty, sweet. Taste is malty, grassy hops, with a nice bitterness, maybe too much for a so called lager. Medium c...\n"
     ]
    }
   ],
   "execution_count": 15
  },
  {
   "metadata": {},
   "cell_type": "code",
   "outputs": [],
   "execution_count": null,
   "source": "",
   "id": "d5658e253b8bc15c"
  }
 ],
 "metadata": {
  "kernelspec": {
   "display_name": "Python 3",
   "language": "python",
   "name": "python3"
  },
  "language_info": {
   "codemirror_mode": {
    "name": "ipython",
    "version": 2
   },
   "file_extension": ".py",
   "mimetype": "text/x-python",
   "name": "python",
   "nbconvert_exporter": "python",
   "pygments_lexer": "ipython2",
   "version": "2.7.6"
  }
 },
 "nbformat": 4,
 "nbformat_minor": 5
}
