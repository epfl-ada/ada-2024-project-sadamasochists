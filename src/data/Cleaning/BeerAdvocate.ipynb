{
 "cells": [
  {
   "cell_type": "markdown",
   "metadata": {
    "cell_id": "9defe3b994d3420b893cb0440b2068cf",
    "deepnote_cell_type": "text-cell-h1",
    "formattedRanges": []
   },
   "source": [
    "# Data analysis and cleaning of BeerAdvocate dataset"
   ]
  },
  {
   "cell_type": "markdown",
   "metadata": {
    "cell_id": "64b59576a1a242beb947b7b66c973d5f",
    "deepnote_cell_type": "text-cell-p",
    "formattedRanges": []
   },
   "source": [
    "BeerAdvocate is a popular platform for beer enthusiasts to rate and review beers. The dataset provides information about beers, breweries, users and the ratings of the users for the beers on the platform."
   ]
  },
  {
   "cell_type": "markdown",
   "metadata": {
    "cell_id": "c828aa57904340b59b92db7f9f1e2c55",
    "deepnote_cell_type": "text-cell-p",
    "formattedRanges": []
   },
   "source": [
    "On the website of BeerAdvocate, users can create an account. After creating an account with a username and password, they are asked to provide their location, but this is optional and not verified. "
   ]
  },
  {
   "cell_type": "markdown",
   "metadata": {
    "cell_id": "645c946969974d4699cc9587adb37582",
    "deepnote_cell_type": "text-cell-p",
    "formattedRanges": []
   },
   "source": [
    "Users can enter a beer into the database. Upon entering a beer, they have to select the location of the brewery where the beer is produced. They are then able to provide the beer name, the beer style and optionally an ABV (alcohol percentage)."
   ]
  },
  {
   "cell_type": "markdown",
   "metadata": {
    "cell_id": "9ca23a34e7ed47d295665ebcea16c4a3",
    "deepnote_cell_type": "markdown"
   },
   "source": [
    "After entering the beer into the database, every user can rate this beer. There are two types of ways a user can express their opinion on a beer: through ratings and reviews. A rating (in the current version of the platform, [the rating system has received a major update in 2014](https://www.beeradvocate.com/community/threads/beeradvocate-returns-to-its-roots-rating-system-revamped.238804/)) consists of Look, Smell, Taste, Feel and an Overall rating. Ratings range from 1-5 and can take quarter points as well (e.g. 3.75). Given that the dataset contains data that has been acquired before and after the major update the reviews are slightly different over time."
   ]
  },
  {
   "cell_type": "markdown",
   "metadata": {
    "cell_id": "3eed7e4b55814584ad4b8a69b0e3ab6b",
    "deepnote_cell_type": "text-cell-p",
    "formattedRanges": []
   },
   "source": [
    "They can then optionally add a review as well. A review is a text description of what the user thinks about the beer. In some cases, as expressed in the article, the users must insert a text review if the reviews are outliers, to ensure that fraudulent reviews are reduced."
   ]
  },
  {
   "cell_type": "markdown",
   "metadata": {
    "cell_id": "4e8e1aa0db0f4c29bfb73539745bc432",
    "deepnote_cell_type": "markdown"
   },
   "source": [
    "Our sources to better study this dataset are the following:\n",
    "- [BeerAdvocate's forum](https://www.beeradvocate.com/community/threads/new-ba-score-beer-ranking-more-updates.537406/)\n",
    "- [BeerAdvocate's website](https://www.beeradvocate.com)"
   ]
  },
  {
   "cell_type": "markdown",
   "metadata": {
    "cell_id": "e6d04b0e1ecc4aa78ce4825a677480c7",
    "deepnote_cell_type": "text-cell-h2",
    "formattedRanges": []
   },
   "source": [
    "## Preliminary work"
   ]
  },
  {
   "cell_type": "markdown",
   "metadata": {
    "cell_id": "02bb3bd333d8469eb9fc063bc14785e0",
    "deepnote_cell_type": "text-cell-h3",
    "formattedRanges": []
   },
   "source": [
    "### Install and import all the needed libraries"
   ]
  },
  {
   "cell_type": "code",
   "execution_count": 1,
   "metadata": {
    "cell_id": "fe5c47d607794dbe886ec65d75b50e0e",
    "deepnote_cell_type": "code",
    "execution_context_id": "4ae03f97-fee8-487c-8d3d-ac1e4a9a109d",
    "execution_millis": 1054,
    "execution_start": 1731607921185,
    "source_hash": "f3b2f2d4"
   },
   "outputs": [],
   "source": [
    "# Import all the necessary libraries\n",
    "import polars as pl\n",
    "import tqdm\n",
    "import os\n",
    "\n",
    "# Import the file in the utils folder\n",
    "import sys\n",
    "sys.path.append('../../utils')\n",
    "from data_desc import remove_whitespaces, describe_numbers, describe"
   ]
  },
  {
   "cell_type": "code",
   "execution_count": 2,
   "metadata": {},
   "outputs": [],
   "source": [
    "# Define the paths\n",
    "SRC_DATA_PATH = '../../../data/BeerAdvocate'\n",
    "DST_DATA_PATH = '../../../data/BeerAdvocate/processed'\n",
    "\n",
    "# Create the DST_DATA_PATH if it does not exist\n",
    "if not os.path.exists(DST_DATA_PATH):\n",
    "    os.makedirs(DST_DATA_PATH)"
   ]
  },
  {
   "cell_type": "markdown",
   "metadata": {
    "cell_id": "cfdeff07cf7a4ed1aec9fa3b2e862a45",
    "deepnote_app_block_visible": false,
    "deepnote_cell_type": "text-cell-h2",
    "formattedRanges": [],
    "is_collapsed": false
   },
   "source": [
    "## Data exploration"
   ]
  },
  {
   "cell_type": "code",
   "execution_count": 3,
   "metadata": {
    "cell_id": "2b07090748b44aaf81fbb655c739686c",
    "deepnote_cell_type": "code",
    "execution_context_id": "4ae03f97-fee8-487c-8d3d-ac1e4a9a109d",
    "execution_millis": 4069,
    "execution_start": 1731607922285,
    "source_hash": "1ec7c06c"
   },
   "outputs": [],
   "source": [
    "df_beers = remove_whitespaces(pl.read_csv(f\"{SRC_DATA_PATH}/beers.csv\"))\n",
    "df_breweries = remove_whitespaces(pl.read_csv(f\"{SRC_DATA_PATH}/breweries.csv\"))\n",
    "df_users = remove_whitespaces(pl.read_csv(f\"{SRC_DATA_PATH}/users.csv\"))\n",
    "df_ratings = remove_whitespaces(pl.read_parquet(f\"{SRC_DATA_PATH}/ratings.pq\"))"
   ]
  },
  {
   "cell_type": "markdown",
   "metadata": {
    "cell_id": "3237e68c2ecd4780bc5eb31a39cad8aa",
    "deepnote_cell_type": "markdown"
   },
   "source": [
    "##### Beers dataset\n",
    "We'll start by looking at the beers dataset."
   ]
  },
  {
   "cell_type": "code",
   "execution_count": 4,
   "metadata": {
    "cell_id": "184920e3d0054a3bab9457420341e69e",
    "deepnote_cell_type": "code",
    "deepnote_to_be_reexecuted": true,
    "execution_context_id": "78b8755c-cb19-43f7-a52b-7a77212f6364",
    "execution_millis": 1,
    "execution_start": 1731602611202,
    "source_hash": "8056f7de"
   },
   "outputs": [
    {
     "data": {
      "text/html": [
       "<div><style>\n",
       ".dataframe > thead > tr,\n",
       ".dataframe > tbody > tr {\n",
       "  text-align: right;\n",
       "  white-space: pre-wrap;\n",
       "}\n",
       "</style>\n",
       "<small>shape: (5, 15)</small><table border=\"1\" class=\"dataframe\"><thead><tr><th>beer_id</th><th>beer_name</th><th>brewery_id</th><th>brewery_name</th><th>style</th><th>nbr_ratings</th><th>nbr_reviews</th><th>avg</th><th>ba_score</th><th>bros_score</th><th>abv</th><th>avg_computed</th><th>zscore</th><th>nbr_matched_valid_ratings</th><th>avg_matched_valid_ratings</th></tr><tr><td>i64</td><td>str</td><td>i64</td><td>str</td><td>str</td><td>i64</td><td>i64</td><td>f64</td><td>f64</td><td>f64</td><td>f64</td><td>f64</td><td>f64</td><td>i64</td><td>f64</td></tr></thead><tbody><tr><td>117715</td><td>&quot;Chinook Copper Ale&quot;</td><td>16396</td><td>&quot;Northwest Brewing Company&quot;</td><td>&quot;American Amber / Red Ale&quot;</td><td>11</td><td>1</td><td>2.72</td><td>80.0</td><td>null</td><td>5.3</td><td>3.273636</td><td>null</td><td>0</td><td>null</td></tr><tr><td>250308</td><td>&quot;Bridge Street IPA&quot;</td><td>36855</td><td>&quot;2 Witches Winery &amp; Brewing Co.&quot;</td><td>&quot;American IPA&quot;</td><td>1</td><td>0</td><td>3.98</td><td>null</td><td>null</td><td>7.2</td><td>3.98</td><td>null</td><td>0</td><td>null</td></tr><tr><td>198914</td><td>&quot;Foxes Rock&quot;</td><td>36729</td><td>&quot;Cumberland Breweries&quot;</td><td>&quot;English India Pale Ale (IPA)&quot;</td><td>3</td><td>1</td><td>3.75</td><td>null</td><td>null</td><td>4.5</td><td>3.843333</td><td>null</td><td>0</td><td>null</td></tr><tr><td>157379</td><td>&quot;Frangelic Stout With Madagasca…</td><td>1199</td><td>&quot;Founders Brewing Company&quot;</td><td>&quot;American Stout&quot;</td><td>3</td><td>0</td><td>3.62</td><td>null</td><td>null</td><td>4.2</td><td>3.62</td><td>null</td><td>0</td><td>null</td></tr><tr><td>272450</td><td>&quot;HMB Stout&quot;</td><td>38602</td><td>&quot;Mad Beach Craft Brewing Compan…</td><td>&quot;American Stout&quot;</td><td>1</td><td>1</td><td>4.25</td><td>null</td><td>null</td><td>5.3</td><td>4.25</td><td>0.548961</td><td>1</td><td>4.25</td></tr></tbody></table></div>"
      ],
      "text/plain": [
       "shape: (5, 15)\n",
       "┌─────────┬────────────┬────────────┬───────────┬───┬───────────┬──────────┬───────────┬───────────┐\n",
       "│ beer_id ┆ beer_name  ┆ brewery_id ┆ brewery_n ┆ … ┆ avg_compu ┆ zscore   ┆ nbr_match ┆ avg_match │\n",
       "│ ---     ┆ ---        ┆ ---        ┆ ame       ┆   ┆ ted       ┆ ---      ┆ ed_valid_ ┆ ed_valid_ │\n",
       "│ i64     ┆ str        ┆ i64        ┆ ---       ┆   ┆ ---       ┆ f64      ┆ ratings   ┆ ratings   │\n",
       "│         ┆            ┆            ┆ str       ┆   ┆ f64       ┆          ┆ ---       ┆ ---       │\n",
       "│         ┆            ┆            ┆           ┆   ┆           ┆          ┆ i64       ┆ f64       │\n",
       "╞═════════╪════════════╪════════════╪═══════════╪═══╪═══════════╪══════════╪═══════════╪═══════════╡\n",
       "│ 117715  ┆ Chinook    ┆ 16396      ┆ Northwest ┆ … ┆ 3.273636  ┆ null     ┆ 0         ┆ null      │\n",
       "│         ┆ Copper Ale ┆            ┆ Brewing   ┆   ┆           ┆          ┆           ┆           │\n",
       "│         ┆            ┆            ┆ Company   ┆   ┆           ┆          ┆           ┆           │\n",
       "│ 250308  ┆ Bridge     ┆ 36855      ┆ 2 Witches ┆ … ┆ 3.98      ┆ null     ┆ 0         ┆ null      │\n",
       "│         ┆ Street IPA ┆            ┆ Winery &  ┆   ┆           ┆          ┆           ┆           │\n",
       "│         ┆            ┆            ┆ Brewing   ┆   ┆           ┆          ┆           ┆           │\n",
       "│         ┆            ┆            ┆ Co.       ┆   ┆           ┆          ┆           ┆           │\n",
       "│ 198914  ┆ Foxes Rock ┆ 36729      ┆ Cumberlan ┆ … ┆ 3.843333  ┆ null     ┆ 0         ┆ null      │\n",
       "│         ┆            ┆            ┆ d         ┆   ┆           ┆          ┆           ┆           │\n",
       "│         ┆            ┆            ┆ Breweries ┆   ┆           ┆          ┆           ┆           │\n",
       "│ 157379  ┆ Frangelic  ┆ 1199       ┆ Founders  ┆ … ┆ 3.62      ┆ null     ┆ 0         ┆ null      │\n",
       "│         ┆ Stout With ┆            ┆ Brewing   ┆   ┆           ┆          ┆           ┆           │\n",
       "│         ┆ Madagasca… ┆            ┆ Company   ┆   ┆           ┆          ┆           ┆           │\n",
       "│ 272450  ┆ HMB Stout  ┆ 38602      ┆ Mad Beach ┆ … ┆ 4.25      ┆ 0.548961 ┆ 1         ┆ 4.25      │\n",
       "│         ┆            ┆            ┆ Craft     ┆   ┆           ┆          ┆           ┆           │\n",
       "│         ┆            ┆            ┆ Brewing   ┆   ┆           ┆          ┆           ┆           │\n",
       "│         ┆            ┆            ┆ Compan…   ┆   ┆           ┆          ┆           ┆           │\n",
       "└─────────┴────────────┴────────────┴───────────┴───┴───────────┴──────────┴───────────┴───────────┘"
      ]
     },
     "execution_count": 4,
     "metadata": {},
     "output_type": "execute_result"
    }
   ],
   "source": [
    "df_beers.sample(5)"
   ]
  },
  {
   "cell_type": "markdown",
   "metadata": {
    "cell_id": "6ac1be23a41d4289b2868798c3bf18b9",
    "deepnote_cell_type": "markdown"
   },
   "source": [
    "The dataset has the following structure\n",
    "\n",
    "| Column Name | Description | \n",
    "|-------------|-------------|\n",
    "| `beer_id` | Unique identifier for each beer |\n",
    "| `beer_name` | Name of the beer |\n",
    "| `brewery_id` | Unique identifier for the brewery that produced the beer |\n",
    "| `brewery_name` | Name of the brewery that produced the beer |\n",
    "| `style` | Style or category of the beer (e.g., IPA, Stout, Lager) |\n",
    "| `nbr_ratings` | Number of ratings (text + non text) the beer has received |\n",
    "| `nbr_reviews` | Number of written reviews (only text) the beer has received |\n",
    "| `avg` | Average rating of the beer |\n",
    "| `ba_score` | BeerAdvocate score for the beer (fraction of raters who gave the beer a 3.75 or higher) |\n",
    "| `bros_score` | Score given by the Bros (Todd and Jason Alström, the BeerAdvocate founders) |\n",
    "| `abv` | Alcohol By Volume percentage of the beer |\n",
    "| `avg_computed` | Computed average rating (in some cases it differ from `avg` due to different calculation methods) |\n",
    "| `zscore` | Standardized score indicating how many standard deviations the beer's rating is from the mean |\n",
    "| `nbr_matched_valid_ratings` | Number of matched valid ratings |\n",
    "| `avg_matched_valid_ratings` | Average of matched valid ratings |"
   ]
  },
  {
   "cell_type": "markdown",
   "metadata": {
    "cell_id": "c6b01c073bc14e2b854beee8c0a84370",
    "deepnote_cell_type": "text-cell-p",
    "formattedRanges": []
   },
   "source": [
    "Now that we have an idea of what the structure of our dataset looks like, let's see if our dataset is complete or whether it contains a lot of missing entries. "
   ]
  },
  {
   "cell_type": "code",
   "execution_count": 5,
   "metadata": {
    "cell_id": "caa6f3cc585c46d4adf7c226e1192433",
    "deepnote_cell_type": "code",
    "deepnote_to_be_reexecuted": true,
    "execution_context_id": "78b8755c-cb19-43f7-a52b-7a77212f6364",
    "execution_millis": 24,
    "execution_start": 1731602611250,
    "source_hash": "227b699c"
   },
   "outputs": [
    {
     "name": "stdout",
     "output_type": "stream",
     "text": [
      "+---------------------------+---------+------------------+---------------+-----------+-----------------------+-------------------+\n",
      "| Column                    | Type    |   Not null count |   Nulls count |   Nulls % |   Unique values count |   Unique values % |\n",
      "|---------------------------+---------+------------------+---------------+-----------+-----------------------+-------------------|\n",
      "| beer_id                   | Int64   |           280823 |             0 |    0.00 % |                280823 |          100.00 % |\n",
      "| beer_name                 | String  |           280823 |             0 |    0.00 % |                236090 |           84.07 % |\n",
      "| brewery_id                | Int64   |           280823 |             0 |    0.00 % |                 14325 |            5.10 % |\n",
      "| brewery_name              | String  |           280823 |             0 |    0.00 % |                 14098 |            5.02 % |\n",
      "| style                     | String  |           280823 |             0 |    0.00 % |                   104 |            0.04 % |\n",
      "| nbr_ratings               | Int64   |           280823 |             0 |    0.00 % |                  2058 |            0.73 % |\n",
      "| nbr_reviews               | Int64   |           280823 |             0 |    0.00 % |                  1058 |            0.38 % |\n",
      "| avg                       | Float64 |           247994 |         32829 |   11.69 % |                   402 |            0.16 % |\n",
      "| ba_score                  | Float64 |            61200 |        219623 |   78.21 % |                    56 |            0.09 % |\n",
      "| bros_score                | Float64 |             5702 |        275121 |   97.97 % |                    71 |            1.25 % |\n",
      "| abv                       | Float64 |           244799 |         36024 |   12.83 % |                   869 |            0.35 % |\n",
      "| avg_computed              | Float64 |           247982 |         32841 |   11.69 % |                 48377 |           19.51 % |\n",
      "| zscore                    | Float64 |            40285 |        240538 |   85.65 % |                 28315 |           70.29 % |\n",
      "| nbr_matched_valid_ratings | Int64   |           280823 |             0 |    0.00 % |                   359 |            0.13 % |\n",
      "| avg_matched_valid_ratings | Float64 |            28272 |        252551 |   89.93 % |                  6658 |           23.55 % |\n",
      "+---------------------------+---------+------------------+---------------+-----------+-----------------------+-------------------+\n"
     ]
    }
   ],
   "source": [
    "describe(df_beers)"
   ]
  },
  {
   "cell_type": "code",
   "execution_count": 6,
   "metadata": {
    "cell_id": "b96b8b154f494e5cb37c099f99cb8884",
    "deepnote_cell_type": "code",
    "deepnote_to_be_reexecuted": true,
    "execution_context_id": "78b8755c-cb19-43f7-a52b-7a77212f6364",
    "execution_millis": 3,
    "execution_start": 1731602611326,
    "source_hash": "8ea5ea5d"
   },
   "outputs": [
    {
     "name": "stdout",
     "output_type": "stream",
     "text": [
      "+---------------------------+-----------+----------+-----------+-----------+-----------+---------+---------+\n",
      "| Column                    |      Mean |      Std |       25% |       50% |       75% |     Min |     Max |\n",
      "|---------------------------+-----------+----------+-----------+-----------+-----------+---------+---------|\n",
      "| nbr_ratings               |   29.8873 |   231.01 |         1 |         2 |         8 |       0 |   16509 |\n",
      "| nbr_reviews               |   9.22142 |  68.8664 |         0 |         1 |         2 |       0 |    3899 |\n",
      "| avg                       |   3.72103 | 0.476003 |       3.5 |      3.78 |      4.01 |       0 |       5 |\n",
      "| ba_score                  |   84.6333 |  4.05272 |        83 |        85 |        86 |      46 |     100 |\n",
      "| bros_score                |   84.8066 |  10.5077 |        81 |        87 |        91 |      31 |     100 |\n",
      "| abv                       |   6.49137 |  2.05407 |         5 |         6 |       7.5 |    0.01 |    67.5 |\n",
      "| avg_computed              |   3.71759 | 0.464248 |       3.5 |      3.77 |         4 |       1 |       5 |\n",
      "| zscore                    | -0.408295 | 0.806491 | -0.785424 | -0.321596 | 0.0867333 | -6.6557 | 2.21158 |\n",
      "| nbr_matched_valid_ratings |   1.02921 |  17.2953 |         0 |         0 |         0 |       0 |    2968 |\n",
      "| avg_matched_valid_ratings |   3.74777 | 0.484775 |      3.52 |   3.80833 |     4.045 |       1 |       5 |\n",
      "+---------------------------+-----------+----------+-----------+-----------+-----------+---------+---------+\n"
     ]
    }
   ],
   "source": [
    "describe_numbers(df_beers, filters=[\"beer_id\", \"brewery_id\"])"
   ]
  },
  {
   "cell_type": "markdown",
   "metadata": {
    "cell_id": "7da937bb23844d6e8f1f99ac89f1ef7d",
    "deepnote_cell_type": "text-cell-p",
    "formattedRanges": []
   },
   "source": [
    "We can see that:\n",
    "- The beer name and brewery information are present for every beer within the dataset\n",
    "- Some data are missing for abv, ba_score, bros_score and the other aggregated scores\n",
    "- The ba_score and the bros_score are in a 0 - 100 range\n",
    "- The ba_score and bros_score have a very similar mean, but the bros_score has a far larger spread. This seems to signal that users of the website tend to give less extreme ratings that the bros (the owners of the website)\n",
    "- The avg score is in a 0 - 5 range (meaning that the scores are in a 0 - 5 scale)\n",
    "- The abv at first seems to have some outliers. The max in our table above shows we have values with ABV of 67.5 percent."
   ]
  },
  {
   "cell_type": "markdown",
   "metadata": {
    "cell_id": "cb2eddb91fba4cb0a9f12f7de260dfe8",
    "deepnote_cell_type": "markdown"
   },
   "source": [
    "However, after careful analysis of the beers with such high ABV they actually exist and are not outliers. For example, the 'Brewdog Sink the Bismarck!' beer has 41% ABV and the 'Brewmeister Armageddon' has 65%. These are therefore perfectly fine entries and we will keep them in our dataframe."
   ]
  },
  {
   "cell_type": "markdown",
   "metadata": {
    "cell_id": "c2d2bf52f95e46c6880dc0b4d7f0c972",
    "deepnote_cell_type": "markdown"
   },
   "source": [
    "Now we'll focus on dealing with the missing values. <br><br>\n",
    "Regarding the ABV values, we will not be filling the NaN values here. This is due to the fact that it's not something that can be easily guessed and by approximating it with the mean or median values we would introduce a significant bias in the dataset."
   ]
  },
  {
   "cell_type": "code",
   "execution_count": 7,
   "metadata": {
    "cell_id": "498751d7617f4ec593b59963fe411202",
    "deepnote_cell_type": "code",
    "deepnote_to_be_reexecuted": true,
    "execution_context_id": "b8d59414-5980-4626-90fc-415f2b8b3589",
    "execution_millis": 1,
    "execution_start": 1731602611378,
    "source_hash": "29113db6"
   },
   "outputs": [
    {
     "name": "stdout",
     "output_type": "stream",
     "text": [
      "Percentage of missing values in the 'abv' column: 2.04%\n"
     ]
    }
   ],
   "source": [
    "# Compute the percentage of missing values for the reviews dataset\n",
    "rev_nan_beers = df_beers.filter(pl.col(\"abv\").is_null()).select(pl.col(\"nbr_ratings\")).sum().item()\n",
    "tot_rev = df_beers.select(pl.col(\"nbr_ratings\")).sum().item()\n",
    "\n",
    "# Compute the percentage of missing values for the reviews dataset\n",
    "print(f\"Percentage of missing values in the 'abv' column: {rev_nan_beers / tot_rev * 100:.2f}%\")"
   ]
  },
  {
   "cell_type": "markdown",
   "metadata": {
    "cell_id": "4460c3901f5144749ffc27689725f213",
    "deepnote_cell_type": "markdown"
   },
   "source": [
    "We see that by ignoring the beers with a nan abv we only ignore a small fraction of the reviews. This makes sense since it's unlikely that a beer with a high number of ratings would have a missing abv values."
   ]
  },
  {
   "cell_type": "markdown",
   "metadata": {
    "cell_id": "a02dceefd05745f4bb43e337355dd8ea",
    "deepnote_cell_type": "markdown"
   },
   "source": [
    "Regarding the null values of the aggregated scores:\n",
    "- In most cases these null values are associated with beers that doesn't have any review. It doesn't make sense to fill these values with the mean or median of the dataset since it would introduce a bias in the dataset.\n",
    "- Most of the values will change after the processing and cleaning of the data.\n",
    "\n",
    "For these two reasons we are not going to worry too much now about the missing values of the aggregated scores."
   ]
  },
  {
   "cell_type": "markdown",
   "metadata": {
    "cell_id": "8680c23b357a4d02b4aecd0c6e25c93e",
    "deepnote_cell_type": "markdown"
   },
   "source": [
    "Since the beer are added by hand by people it can happen that a beer is created twice."
   ]
  },
  {
   "cell_type": "code",
   "execution_count": 8,
   "metadata": {
    "cell_id": "4375dada97e74682a25ccae691a1c8fe",
    "deepnote_cell_type": "code",
    "deepnote_to_be_reexecuted": true,
    "execution_context_id": "a2f2816b-4f1e-4b5f-a7f6-e683ba4ebafe",
    "execution_millis": 16,
    "execution_start": 1731602611430,
    "source_hash": "a6ba4660"
   },
   "outputs": [
    {
     "data": {
      "text/html": [
       "<div><style>\n",
       ".dataframe > thead > tr,\n",
       ".dataframe > tbody > tr {\n",
       "  text-align: right;\n",
       "  white-space: pre-wrap;\n",
       "}\n",
       "</style>\n",
       "<small>shape: (5, 15)</small><table border=\"1\" class=\"dataframe\"><thead><tr><th>beer_id</th><th>beer_name</th><th>brewery_id</th><th>brewery_name</th><th>style</th><th>nbr_ratings</th><th>nbr_reviews</th><th>avg</th><th>ba_score</th><th>bros_score</th><th>abv</th><th>avg_computed</th><th>zscore</th><th>nbr_matched_valid_ratings</th><th>avg_matched_valid_ratings</th></tr><tr><td>i64</td><td>str</td><td>i64</td><td>str</td><td>str</td><td>i64</td><td>i64</td><td>f64</td><td>f64</td><td>f64</td><td>f64</td><td>f64</td><td>f64</td><td>i64</td><td>f64</td></tr></thead><tbody><tr><td>207341</td><td>&quot;10|05 Coffee Porter (San Sebas…</td><td>33192</td><td>&quot;Brew By Numbers&quot;</td><td>&quot;English Porter&quot;</td><td>1</td><td>0</td><td>4.05</td><td>null</td><td>null</td><td>6.5</td><td>4.05</td><td>null</td><td>0</td><td>null</td></tr><tr><td>255983</td><td>&quot;10|05 Coffee Porter (San Sebas…</td><td>33192</td><td>&quot;Brew By Numbers&quot;</td><td>&quot;English Porter&quot;</td><td>1</td><td>0</td><td>4.13</td><td>null</td><td>null</td><td>6.5</td><td>4.13</td><td>null</td><td>0</td><td>null</td></tr><tr><td>27803</td><td>&quot;Nappa Scar&quot;</td><td>12981</td><td>&quot;Yorkshire Dales Brewing Compan…</td><td>&quot;Extra Special / Strong Bitter …</td><td>1</td><td>1</td><td>3.5</td><td>null</td><td>null</td><td>4.8</td><td>3.5</td><td>null</td><td>0</td><td>null</td></tr><tr><td>289247</td><td>&quot;Nappa Scar&quot;</td><td>12981</td><td>&quot;Yorkshire Dales Brewing Compan…</td><td>&quot;English Bitter&quot;</td><td>1</td><td>0</td><td>3.5</td><td>null</td><td>null</td><td>4.0</td><td>3.5</td><td>null</td><td>0</td><td>null</td></tr><tr><td>259896</td><td>&quot;Sage Farm&quot;</td><td>44830</td><td>&quot;Half Hours on Earth&quot;</td><td>&quot;Saison / Farmhouse Ale&quot;</td><td>3</td><td>1</td><td>3.54</td><td>null</td><td>null</td><td>6.0</td><td>3.76</td><td>null</td><td>0</td><td>null</td></tr></tbody></table></div>"
      ],
      "text/plain": [
       "shape: (5, 15)\n",
       "┌─────────┬────────────┬────────────┬────────────┬───┬────────────┬────────┬───────────┬───────────┐\n",
       "│ beer_id ┆ beer_name  ┆ brewery_id ┆ brewery_na ┆ … ┆ avg_comput ┆ zscore ┆ nbr_match ┆ avg_match │\n",
       "│ ---     ┆ ---        ┆ ---        ┆ me         ┆   ┆ ed         ┆ ---    ┆ ed_valid_ ┆ ed_valid_ │\n",
       "│ i64     ┆ str        ┆ i64        ┆ ---        ┆   ┆ ---        ┆ f64    ┆ ratings   ┆ ratings   │\n",
       "│         ┆            ┆            ┆ str        ┆   ┆ f64        ┆        ┆ ---       ┆ ---       │\n",
       "│         ┆            ┆            ┆            ┆   ┆            ┆        ┆ i64       ┆ f64       │\n",
       "╞═════════╪════════════╪════════════╪════════════╪═══╪════════════╪════════╪═══════════╪═══════════╡\n",
       "│ 207341  ┆ 10|05      ┆ 33192      ┆ Brew By    ┆ … ┆ 4.05       ┆ null   ┆ 0         ┆ null      │\n",
       "│         ┆ Coffee     ┆            ┆ Numbers    ┆   ┆            ┆        ┆           ┆           │\n",
       "│         ┆ Porter     ┆            ┆            ┆   ┆            ┆        ┆           ┆           │\n",
       "│         ┆ (San       ┆            ┆            ┆   ┆            ┆        ┆           ┆           │\n",
       "│         ┆ Sebas…     ┆            ┆            ┆   ┆            ┆        ┆           ┆           │\n",
       "│ 255983  ┆ 10|05      ┆ 33192      ┆ Brew By    ┆ … ┆ 4.13       ┆ null   ┆ 0         ┆ null      │\n",
       "│         ┆ Coffee     ┆            ┆ Numbers    ┆   ┆            ┆        ┆           ┆           │\n",
       "│         ┆ Porter     ┆            ┆            ┆   ┆            ┆        ┆           ┆           │\n",
       "│         ┆ (San       ┆            ┆            ┆   ┆            ┆        ┆           ┆           │\n",
       "│         ┆ Sebas…     ┆            ┆            ┆   ┆            ┆        ┆           ┆           │\n",
       "│ 27803   ┆ Nappa Scar ┆ 12981      ┆ Yorkshire  ┆ … ┆ 3.5        ┆ null   ┆ 0         ┆ null      │\n",
       "│         ┆            ┆            ┆ Dales      ┆   ┆            ┆        ┆           ┆           │\n",
       "│         ┆            ┆            ┆ Brewing    ┆   ┆            ┆        ┆           ┆           │\n",
       "│         ┆            ┆            ┆ Compan…    ┆   ┆            ┆        ┆           ┆           │\n",
       "│ 289247  ┆ Nappa Scar ┆ 12981      ┆ Yorkshire  ┆ … ┆ 3.5        ┆ null   ┆ 0         ┆ null      │\n",
       "│         ┆            ┆            ┆ Dales      ┆   ┆            ┆        ┆           ┆           │\n",
       "│         ┆            ┆            ┆ Brewing    ┆   ┆            ┆        ┆           ┆           │\n",
       "│         ┆            ┆            ┆ Compan…    ┆   ┆            ┆        ┆           ┆           │\n",
       "│ 259896  ┆ Sage Farm  ┆ 44830      ┆ Half Hours ┆ … ┆ 3.76       ┆ null   ┆ 0         ┆ null      │\n",
       "│         ┆            ┆            ┆ on Earth   ┆   ┆            ┆        ┆           ┆           │\n",
       "└─────────┴────────────┴────────────┴────────────┴───┴────────────┴────────┴───────────┴───────────┘"
      ]
     },
     "execution_count": 8,
     "metadata": {},
     "output_type": "execute_result"
    }
   ],
   "source": [
    "beers_duplicates = df_beers.filter(pl.struct([\"beer_name\", \"brewery_id\"]).is_duplicated())\n",
    "beers_duplicates.head(5)"
   ]
  },
  {
   "cell_type": "markdown",
   "metadata": {
    "cell_id": "c2261d1fada2411a905530b993e21b19",
    "deepnote_cell_type": "markdown"
   },
   "source": [
    "Since some of the values (e.g. the abv or the style) are not always consistent between duplicates, to reduce the risk of errors or bias we are going to just drop the duplicates."
   ]
  },
  {
   "cell_type": "code",
   "execution_count": 9,
   "metadata": {
    "cell_id": "eea3adcbe09f41bb83314072dbd62d98",
    "deepnote_cell_type": "code",
    "deepnote_to_be_reexecuted": true,
    "execution_context_id": "b8d59414-5980-4626-90fc-415f2b8b3589",
    "execution_millis": 1,
    "execution_start": 1731602611490,
    "source_hash": "e2e0b14a"
   },
   "outputs": [],
   "source": [
    "dropped_beers_ids = beers_duplicates.select(\"beer_id\").to_pandas().values.flatten()\n",
    "df_beers = df_beers.filter(~pl.col(\"beer_id\").is_in(dropped_beers_ids))"
   ]
  },
  {
   "cell_type": "markdown",
   "metadata": {
    "cell_id": "c86c2733a72b4a4fbb546d9f01f7053b",
    "deepnote_cell_type": "markdown"
   },
   "source": [
    "To better handle the data we are also going to split the nbr_ratings into two distinct columns:\n",
    "- nbr_interactions: will be used to denote the number of interactions in total (number of text reviews + number of non text reviews)\n",
    "- nbr_ratings: will be used to denote only the non text reviews"
   ]
  },
  {
   "cell_type": "code",
   "execution_count": 10,
   "metadata": {
    "cell_id": "7984170cb21b4157882b1c3fbe71f80e",
    "deepnote_cell_type": "code",
    "deepnote_to_be_reexecuted": true,
    "execution_context_id": "b8d59414-5980-4626-90fc-415f2b8b3589",
    "execution_millis": 1,
    "execution_start": 1731602611542,
    "source_hash": "19cd4bd7"
   },
   "outputs": [
    {
     "data": {
      "text/html": [
       "<div><style>\n",
       ".dataframe > thead > tr,\n",
       ".dataframe > tbody > tr {\n",
       "  text-align: right;\n",
       "  white-space: pre-wrap;\n",
       "}\n",
       "</style>\n",
       "<small>shape: (5, 16)</small><table border=\"1\" class=\"dataframe\"><thead><tr><th>beer_id</th><th>beer_name</th><th>brewery_id</th><th>brewery_name</th><th>style</th><th>nbr_ratings</th><th>nbr_reviews</th><th>avg</th><th>ba_score</th><th>bros_score</th><th>abv</th><th>avg_computed</th><th>zscore</th><th>nbr_matched_valid_ratings</th><th>avg_matched_valid_ratings</th><th>nbr_interactions</th></tr><tr><td>i64</td><td>str</td><td>i64</td><td>str</td><td>str</td><td>i64</td><td>i64</td><td>f64</td><td>f64</td><td>f64</td><td>f64</td><td>f64</td><td>f64</td><td>i64</td><td>f64</td><td>i64</td></tr></thead><tbody><tr><td>210799</td><td>&quot;Passion For Blood&quot;</td><td>43919</td><td>&quot;Inoculum Ale Works&quot;</td><td>&quot;Berliner Weissbier&quot;</td><td>0</td><td>0</td><td>null</td><td>null</td><td>null</td><td>3.2</td><td>null</td><td>null</td><td>0</td><td>null</td><td>0</td></tr><tr><td>260538</td><td>&quot;Sour LFU Rouge&quot;</td><td>30340</td><td>&quot;Foolproof Brewing Company&quot;</td><td>&quot;Saison / Farmhouse Ale&quot;</td><td>1</td><td>0</td><td>3.35</td><td>null</td><td>null</td><td>8.0</td><td>3.35</td><td>null</td><td>0</td><td>null</td><td>1</td></tr><tr><td>850</td><td>&quot;Killarney&#x27;s Red Lager&quot;</td><td>29</td><td>&quot;Anheuser-Busch&quot;</td><td>&quot;American Amber / Red Lager&quot;</td><td>13</td><td>13</td><td>2.47</td><td>74.0</td><td>81.0</td><td>5.0</td><td>2.442308</td><td>null</td><td>0</td><td>null</td><td>26</td></tr><tr><td>246813</td><td>&quot;Brown Dwarf&quot;</td><td>33824</td><td>&quot;Bottle Logic Brewing&quot;</td><td>&quot;American Brown Ale&quot;</td><td>2</td><td>0</td><td>3.77</td><td>null</td><td>null</td><td>4.5</td><td>3.77</td><td>-0.445024</td><td>0</td><td>null</td><td>2</td></tr><tr><td>259195</td><td>&quot;Opaque Minds&quot;</td><td>35259</td><td>&quot;Alvarado Street Brewery&quot;</td><td>&quot;American IPA&quot;</td><td>24</td><td>4</td><td>4.24</td><td>88.0</td><td>null</td><td>7.0</td><td>4.223929</td><td>null</td><td>0</td><td>null</td><td>28</td></tr></tbody></table></div>"
      ],
      "text/plain": [
       "shape: (5, 16)\n",
       "┌─────────┬────────────┬───────────┬───────────┬───┬───────────┬───────────┬───────────┬───────────┐\n",
       "│ beer_id ┆ beer_name  ┆ brewery_i ┆ brewery_n ┆ … ┆ zscore    ┆ nbr_match ┆ avg_match ┆ nbr_inter │\n",
       "│ ---     ┆ ---        ┆ d         ┆ ame       ┆   ┆ ---       ┆ ed_valid_ ┆ ed_valid_ ┆ actions   │\n",
       "│ i64     ┆ str        ┆ ---       ┆ ---       ┆   ┆ f64       ┆ ratings   ┆ ratings   ┆ ---       │\n",
       "│         ┆            ┆ i64       ┆ str       ┆   ┆           ┆ ---       ┆ ---       ┆ i64       │\n",
       "│         ┆            ┆           ┆           ┆   ┆           ┆ i64       ┆ f64       ┆           │\n",
       "╞═════════╪════════════╪═══════════╪═══════════╪═══╪═══════════╪═══════════╪═══════════╪═══════════╡\n",
       "│ 210799  ┆ Passion    ┆ 43919     ┆ Inoculum  ┆ … ┆ null      ┆ 0         ┆ null      ┆ 0         │\n",
       "│         ┆ For Blood  ┆           ┆ Ale Works ┆   ┆           ┆           ┆           ┆           │\n",
       "│ 260538  ┆ Sour LFU   ┆ 30340     ┆ Foolproof ┆ … ┆ null      ┆ 0         ┆ null      ┆ 1         │\n",
       "│         ┆ Rouge      ┆           ┆ Brewing   ┆   ┆           ┆           ┆           ┆           │\n",
       "│         ┆            ┆           ┆ Company   ┆   ┆           ┆           ┆           ┆           │\n",
       "│ 850     ┆ Killarney' ┆ 29        ┆ Anheuser- ┆ … ┆ null      ┆ 0         ┆ null      ┆ 26        │\n",
       "│         ┆ s Red      ┆           ┆ Busch     ┆   ┆           ┆           ┆           ┆           │\n",
       "│         ┆ Lager      ┆           ┆           ┆   ┆           ┆           ┆           ┆           │\n",
       "│ 246813  ┆ Brown      ┆ 33824     ┆ Bottle    ┆ … ┆ -0.445024 ┆ 0         ┆ null      ┆ 2         │\n",
       "│         ┆ Dwarf      ┆           ┆ Logic     ┆   ┆           ┆           ┆           ┆           │\n",
       "│         ┆            ┆           ┆ Brewing   ┆   ┆           ┆           ┆           ┆           │\n",
       "│ 259195  ┆ Opaque     ┆ 35259     ┆ Alvarado  ┆ … ┆ null      ┆ 0         ┆ null      ┆ 28        │\n",
       "│         ┆ Minds      ┆           ┆ Street    ┆   ┆           ┆           ┆           ┆           │\n",
       "│         ┆            ┆           ┆ Brewery   ┆   ┆           ┆           ┆           ┆           │\n",
       "└─────────┴────────────┴───────────┴───────────┴───┴───────────┴───────────┴───────────┴───────────┘"
      ]
     },
     "execution_count": 10,
     "metadata": {},
     "output_type": "execute_result"
    }
   ],
   "source": [
    "# Create a new column that is equals to nbr_ratings\n",
    "df_beers = df_beers.with_columns(pl.col(\"nbr_ratings\").alias(\"nbr_interactions\"))\n",
    "df_beers = df_beers.with_columns((pl.col(\"nbr_ratings\") - pl.col(\"nbr_reviews\")).alias(\"nbr_ratings\"))\n",
    "df_beers.sample(5)"
   ]
  },
  {
   "cell_type": "markdown",
   "metadata": {
    "cell_id": "e9d577e65e454828b44e7125e6192cc4",
    "deepnote_cell_type": "markdown"
   },
   "source": [
    "Let's now see the data after the cleaning process."
   ]
  },
  {
   "cell_type": "code",
   "execution_count": 11,
   "metadata": {
    "cell_id": "5743a308c87b4a0dad316fbd2c70e91a",
    "deepnote_cell_type": "code",
    "deepnote_to_be_reexecuted": true,
    "execution_context_id": "b8d59414-5980-4626-90fc-415f2b8b3589",
    "execution_millis": 22,
    "execution_start": 1731602611590,
    "source_hash": "227b699c"
   },
   "outputs": [
    {
     "name": "stdout",
     "output_type": "stream",
     "text": [
      "+---------------------------+---------+------------------+---------------+-----------+-----------------------+-------------------+\n",
      "| Column                    | Type    |   Not null count |   Nulls count |   Nulls % |   Unique values count |   Unique values % |\n",
      "|---------------------------+---------+------------------+---------------+-----------+-----------------------+-------------------|\n",
      "| beer_id                   | Int64   |           280791 |             0 |    0.00 % |                280791 |          100.00 % |\n",
      "| beer_name                 | String  |           280791 |             0 |    0.00 % |                236078 |           84.08 % |\n",
      "| brewery_id                | Int64   |           280791 |             0 |    0.00 % |                 14325 |            5.10 % |\n",
      "| brewery_name              | String  |           280791 |             0 |    0.00 % |                 14098 |            5.02 % |\n",
      "| style                     | String  |           280791 |             0 |    0.00 % |                   104 |            0.04 % |\n",
      "| nbr_ratings               | Int64   |           280791 |             0 |    0.00 % |                  1665 |            0.59 % |\n",
      "| nbr_reviews               | Int64   |           280791 |             0 |    0.00 % |                  1058 |            0.38 % |\n",
      "| avg                       | Float64 |           247963 |         32828 |   11.69 % |                   402 |            0.16 % |\n",
      "| ba_score                  | Float64 |            61187 |        219604 |   78.21 % |                    56 |            0.09 % |\n",
      "| bros_score                | Float64 |             5701 |        275090 |   97.97 % |                    71 |            1.25 % |\n",
      "| abv                       | Float64 |           244769 |         36022 |   12.83 % |                   869 |            0.36 % |\n",
      "| avg_computed              | Float64 |           247951 |         32840 |   11.70 % |                 48371 |           19.51 % |\n",
      "| zscore                    | Float64 |            40284 |        240507 |   85.65 % |                 28314 |           70.29 % |\n",
      "| nbr_matched_valid_ratings | Int64   |           280791 |             0 |    0.00 % |                   359 |            0.13 % |\n",
      "| avg_matched_valid_ratings | Float64 |            28271 |        252520 |   89.93 % |                  6658 |           23.55 % |\n",
      "| nbr_interactions          | Int64   |           280791 |             0 |    0.00 % |                  2058 |            0.73 % |\n",
      "+---------------------------+---------+------------------+---------------+-----------+-----------------------+-------------------+\n"
     ]
    }
   ],
   "source": [
    "describe(df_beers)"
   ]
  },
  {
   "cell_type": "code",
   "execution_count": 12,
   "metadata": {
    "cell_id": "be6eaa62eaa4433ab232076f68af495a",
    "deepnote_cell_type": "code",
    "deepnote_to_be_reexecuted": true,
    "execution_context_id": "1d91464d-f40a-4f9a-bf91-c9cc6daed2d4",
    "execution_millis": 15,
    "execution_start": 1731602611658,
    "source_hash": "8ea5ea5d"
   },
   "outputs": [
    {
     "name": "stdout",
     "output_type": "stream",
     "text": [
      "+---------------------------+-----------+----------+-----------+-----------+-----------+---------+---------+\n",
      "| Column                    |      Mean |      Std |       25% |       50% |       75% |     Min |     Max |\n",
      "|---------------------------+-----------+----------+-----------+-----------+-----------+---------+---------|\n",
      "| nbr_ratings               |   20.6667 |  167.707 |         0 |         1 |         5 |       0 |   12698 |\n",
      "| nbr_reviews               |     9.222 |  68.8703 |         0 |         1 |         2 |       0 |    3899 |\n",
      "| avg                       |   3.72101 | 0.476008 |       3.5 |      3.78 |      4.01 |       0 |       5 |\n",
      "| ba_score                  |   84.6329 |  4.05295 |        83 |        85 |        86 |      46 |     100 |\n",
      "| bros_score                |   84.8039 |  10.5067 |        81 |        87 |        91 |      31 |     100 |\n",
      "| abv                       |   6.49145 |  2.05412 |         5 |         6 |       7.5 |    0.01 |    67.5 |\n",
      "| avg_computed              |   3.71757 | 0.464256 |       3.5 |      3.77 |         4 |       1 |       5 |\n",
      "| zscore                    | -0.408303 | 0.806499 | -0.785424 | -0.321596 | 0.0867333 | -6.6557 | 2.21158 |\n",
      "| nbr_matched_valid_ratings |    1.0293 |  17.2963 |         0 |         0 |         0 |       0 |    2968 |\n",
      "| avg_matched_valid_ratings |   3.74776 | 0.484782 |      3.52 |   3.80833 |     4.045 |       1 |       5 |\n",
      "| nbr_interactions          |   29.8887 |  231.023 |         1 |         2 |         8 |       0 |   16509 |\n",
      "+---------------------------+-----------+----------+-----------+-----------+-----------+---------+---------+\n"
     ]
    }
   ],
   "source": [
    "describe_numbers(df_beers, filters=[\"beer_id\", \"brewery_id\"])"
   ]
  },
  {
   "cell_type": "markdown",
   "metadata": {
    "cell_id": "975a007d01da4b36b9029cf8c592141f",
    "deepnote_cell_type": "markdown"
   },
   "source": [
    "##### Breweries dataset"
   ]
  },
  {
   "cell_type": "markdown",
   "metadata": {
    "cell_id": "6695bc372b214ed18fa8c61bcd100aef",
    "deepnote_cell_type": "text-cell-p",
    "formattedRanges": []
   },
   "source": [
    "Now we can take a look at our breweries dataframe. For each brewery we have a location, a name and the amount of beers they produce, along with a unique identifier. The brewery location can be very useful for our research questions. We will look into this more later on in this notebook."
   ]
  },
  {
   "cell_type": "code",
   "execution_count": 13,
   "metadata": {
    "cell_id": "cbd411895a5645b999bf839a8caa62e2",
    "deepnote_cell_type": "code",
    "deepnote_to_be_reexecuted": true,
    "execution_context_id": "b8d59414-5980-4626-90fc-415f2b8b3589",
    "execution_millis": 0,
    "execution_start": 1731602611722,
    "source_hash": "bebafbcd"
   },
   "outputs": [
    {
     "data": {
      "text/html": [
       "<div><style>\n",
       ".dataframe > thead > tr,\n",
       ".dataframe > tbody > tr {\n",
       "  text-align: right;\n",
       "  white-space: pre-wrap;\n",
       "}\n",
       "</style>\n",
       "<small>shape: (5, 4)</small><table border=\"1\" class=\"dataframe\"><thead><tr><th>id</th><th>location</th><th>name</th><th>nbr_beers</th></tr><tr><td>i64</td><td>str</td><td>str</td><td>i64</td></tr></thead><tbody><tr><td>7287</td><td>&quot;Austria&quot;</td><td>&quot;Brauerei Schönbach Ing. Hubert…</td><td>0</td></tr><tr><td>49642</td><td>&quot;Canada&quot;</td><td>&quot;Annex Ale Project&quot;</td><td>1</td></tr><tr><td>2301</td><td>&quot;Italy&quot;</td><td>&quot;Manerba Brewery&quot;</td><td>6</td></tr><tr><td>42214</td><td>&quot;United States, New Hampshire&quot;</td><td>&quot;Neighborhood Beer Co.&quot;</td><td>21</td></tr><tr><td>45955</td><td>&quot;United States, Washington&quot;</td><td>&quot;Stones Throw Brewing Co.&quot;</td><td>23</td></tr></tbody></table></div>"
      ],
      "text/plain": [
       "shape: (5, 4)\n",
       "┌───────┬──────────────────────────────┬─────────────────────────────────┬───────────┐\n",
       "│ id    ┆ location                     ┆ name                            ┆ nbr_beers │\n",
       "│ ---   ┆ ---                          ┆ ---                             ┆ ---       │\n",
       "│ i64   ┆ str                          ┆ str                             ┆ i64       │\n",
       "╞═══════╪══════════════════════════════╪═════════════════════════════════╪═══════════╡\n",
       "│ 7287  ┆ Austria                      ┆ Brauerei Schönbach Ing. Hubert… ┆ 0         │\n",
       "│ 49642 ┆ Canada                       ┆ Annex Ale Project               ┆ 1         │\n",
       "│ 2301  ┆ Italy                        ┆ Manerba Brewery                 ┆ 6         │\n",
       "│ 42214 ┆ United States, New Hampshire ┆ Neighborhood Beer Co.           ┆ 21        │\n",
       "│ 45955 ┆ United States, Washington    ┆ Stones Throw Brewing Co.        ┆ 23        │\n",
       "└───────┴──────────────────────────────┴─────────────────────────────────┴───────────┘"
      ]
     },
     "execution_count": 13,
     "metadata": {},
     "output_type": "execute_result"
    }
   ],
   "source": [
    "df_breweries.sample(5)"
   ]
  },
  {
   "cell_type": "markdown",
   "metadata": {
    "cell_id": "5d4b800e6c204448852d803e70cb3cc7",
    "deepnote_cell_type": "markdown"
   },
   "source": [
    "The dataset has the following structure\n",
    "| Column Name | Description\n",
    "|-------------|-------------|\n",
    "| `id` | Unique identifier for each brewery |\n",
    "| `location` | Geographic location of the brewery (country) |\n",
    "| `name` | Name of the brewery |\n",
    "| `nbr_beers` | Number of beers produced by the brewery |"
   ]
  },
  {
   "cell_type": "code",
   "execution_count": 14,
   "metadata": {
    "cell_id": "09046896871e4ee68fe9b52816265998",
    "deepnote_cell_type": "code",
    "deepnote_to_be_reexecuted": true,
    "execution_context_id": "b8d59414-5980-4626-90fc-415f2b8b3589",
    "execution_millis": 0,
    "execution_start": 1731602611766,
    "source_hash": "799089a6"
   },
   "outputs": [
    {
     "name": "stdout",
     "output_type": "stream",
     "text": [
      "+-----------+--------+------------------+---------------+-----------+-----------------------+-------------------+\n",
      "| Column    | Type   |   Not null count |   Nulls count |   Nulls % |   Unique values count |   Unique values % |\n",
      "|-----------+--------+------------------+---------------+-----------+-----------------------+-------------------|\n",
      "| id        | Int64  |            16758 |             0 |    0.00 % |                 16758 |          100.00 % |\n",
      "| location  | String |            16758 |             0 |    0.00 % |                   297 |            1.77 % |\n",
      "| name      | String |            16758 |             0 |    0.00 % |                 16237 |           96.89 % |\n",
      "| nbr_beers | Int64  |            16758 |             0 |    0.00 % |                   273 |            1.63 % |\n",
      "+-----------+--------+------------------+---------------+-----------+-----------------------+-------------------+\n"
     ]
    }
   ],
   "source": [
    "describe(df_breweries)"
   ]
  },
  {
   "cell_type": "code",
   "execution_count": 15,
   "metadata": {
    "cell_id": "2f913d315d7c4c5cba4852ba987bca0a",
    "deepnote_cell_type": "code",
    "deepnote_to_be_reexecuted": true,
    "execution_context_id": "b8d59414-5980-4626-90fc-415f2b8b3589",
    "execution_millis": 0,
    "execution_start": 1731602611818,
    "source_hash": "f5ce00c1"
   },
   "outputs": [
    {
     "name": "stdout",
     "output_type": "stream",
     "text": [
      "+-----------+---------+---------+-------+-------+-------+-------+-------+\n",
      "| Column    |    Mean |     Std |   25% |   50% |   75% |   Min |   Max |\n",
      "|-----------+---------+---------+-------+-------+-------+-------+-------|\n",
      "| nbr_beers | 21.0563 | 69.4178 |     2 |     6 |    18 |     0 |  1196 |\n",
      "+-----------+---------+---------+-------+-------+-------+-------+-------+\n"
     ]
    }
   ],
   "source": [
    "describe_numbers(df_breweries, filters=[\"id\"])"
   ]
  },
  {
   "cell_type": "markdown",
   "metadata": {
    "cell_id": "b02c613874724cfa91a5380a567f8709",
    "deepnote_cell_type": "markdown"
   },
   "source": [
    "For our breweries, we have no missing values. <br><br>\n",
    "From the analysis we can see that some of our breweries have a non-unique name. We need to verify if multiple breweries with the same name exists in the same country."
   ]
  },
  {
   "cell_type": "code",
   "execution_count": 16,
   "metadata": {
    "cell_id": "261961186c8a44139724d71a86cda133",
    "deepnote_app_block_visible": false,
    "deepnote_cell_type": "code",
    "deepnote_to_be_reexecuted": true,
    "execution_context_id": "b8d59414-5980-4626-90fc-415f2b8b3589",
    "execution_millis": 0,
    "execution_start": 1731602611870,
    "source_hash": "e4f86d11"
   },
   "outputs": [
    {
     "data": {
      "text/html": [
       "<div><style>\n",
       ".dataframe > thead > tr,\n",
       ".dataframe > tbody > tr {\n",
       "  text-align: right;\n",
       "  white-space: pre-wrap;\n",
       "}\n",
       "</style>\n",
       "<small>shape: (506, 4)</small><table border=\"1\" class=\"dataframe\"><thead><tr><th>id</th><th>location</th><th>name</th><th>nbr_beers</th></tr><tr><td>i64</td><td>str</td><td>str</td><td>i64</td></tr></thead><tbody><tr><td>34598</td><td>&quot;Wales&quot;</td><td>&quot;Rhymney Brewery&quot;</td><td>2</td></tr><tr><td>12936</td><td>&quot;Wales&quot;</td><td>&quot;Rhymney Brewery&quot;</td><td>13</td></tr><tr><td>11410</td><td>&quot;England&quot;</td><td>&quot;Bartrams Brewery&quot;</td><td>11</td></tr><tr><td>7095</td><td>&quot;England&quot;</td><td>&quot;Bartrams Brewery&quot;</td><td>0</td></tr><tr><td>31304</td><td>&quot;England&quot;</td><td>&quot;Dorset Piddle Brewery&quot;</td><td>0</td></tr><tr><td>&hellip;</td><td>&hellip;</td><td>&hellip;</td><td>&hellip;</td></tr><tr><td>16078</td><td>&quot;United States, Ohio&quot;</td><td>&quot;The Brew Keeper&quot;</td><td>27</td></tr><tr><td>1127</td><td>&quot;United States, Georgia&quot;</td><td>&quot;Buckhead Brewery and Grill&quot;</td><td>26</td></tr><tr><td>16099</td><td>&quot;United States, Florida&quot;</td><td>&quot;Spanish Springs Brewing Compan…</td><td>0</td></tr><tr><td>25439</td><td>&quot;United States, Michigan&quot;</td><td>&quot;Malty Dog Brewery &amp; Supplies&quot;</td><td>0</td></tr><tr><td>25325</td><td>&quot;United States, North Carolina&quot;</td><td>&quot;Railhouse Brewery&quot;</td><td>0</td></tr></tbody></table></div>"
      ],
      "text/plain": [
       "shape: (506, 4)\n",
       "┌───────┬───────────────────────────────┬─────────────────────────────────┬───────────┐\n",
       "│ id    ┆ location                      ┆ name                            ┆ nbr_beers │\n",
       "│ ---   ┆ ---                           ┆ ---                             ┆ ---       │\n",
       "│ i64   ┆ str                           ┆ str                             ┆ i64       │\n",
       "╞═══════╪═══════════════════════════════╪═════════════════════════════════╪═══════════╡\n",
       "│ 34598 ┆ Wales                         ┆ Rhymney Brewery                 ┆ 2         │\n",
       "│ 12936 ┆ Wales                         ┆ Rhymney Brewery                 ┆ 13        │\n",
       "│ 11410 ┆ England                       ┆ Bartrams Brewery                ┆ 11        │\n",
       "│ 7095  ┆ England                       ┆ Bartrams Brewery                ┆ 0         │\n",
       "│ 31304 ┆ England                       ┆ Dorset Piddle Brewery           ┆ 0         │\n",
       "│ …     ┆ …                             ┆ …                               ┆ …         │\n",
       "│ 16078 ┆ United States, Ohio           ┆ The Brew Keeper                 ┆ 27        │\n",
       "│ 1127  ┆ United States, Georgia        ┆ Buckhead Brewery and Grill      ┆ 26        │\n",
       "│ 16099 ┆ United States, Florida        ┆ Spanish Springs Brewing Compan… ┆ 0         │\n",
       "│ 25439 ┆ United States, Michigan       ┆ Malty Dog Brewery & Supplies    ┆ 0         │\n",
       "│ 25325 ┆ United States, North Carolina ┆ Railhouse Brewery               ┆ 0         │\n",
       "└───────┴───────────────────────────────┴─────────────────────────────────┴───────────┘"
      ]
     },
     "execution_count": 16,
     "metadata": {},
     "output_type": "execute_result"
    }
   ],
   "source": [
    "breweries_duplicates = df_breweries.filter(pl.struct([\"name\", \"location\"]).is_duplicated())\n",
    "breweries_duplicates"
   ]
  },
  {
   "cell_type": "markdown",
   "metadata": {
    "cell_id": "e338639c930a496cbf1c5039cf040a0f",
    "deepnote_cell_type": "text-cell-p",
    "formattedRanges": []
   },
   "source": [
    "We see that there are some breweries that have the same name and are located in the same country. This introduces a possible source of error:\n",
    "- Either multiple users have inserted the same brewery into the database multiple times\n",
    "- Multiple breweries in one country have the same name\n",
    "\n",
    "Both assumption are reasonable but we can't be sure which one is the correct one. To avoid introducing errors in our dataset we are going to drop the duplicates."
   ]
  },
  {
   "cell_type": "code",
   "execution_count": 17,
   "metadata": {
    "cell_id": "a6c46e11f7b1428c8a8d638beaf10f29",
    "deepnote_cell_type": "code",
    "deepnote_to_be_reexecuted": true,
    "execution_context_id": "b8d59414-5980-4626-90fc-415f2b8b3589",
    "execution_millis": 0,
    "execution_start": 1731602611918,
    "source_hash": "38b5f043"
   },
   "outputs": [],
   "source": [
    "dropped_breweries_ids = breweries_duplicates.select(\"id\")\n",
    "df_breweries = df_breweries.filter(~pl.col(\"id\").is_in(dropped_breweries_ids))"
   ]
  },
  {
   "cell_type": "markdown",
   "metadata": {
    "cell_id": "d1cc87df78d745908666eb58c4638e25",
    "deepnote_cell_type": "text-cell-p",
    "formattedRanges": []
   },
   "source": [
    "Since we modified both the breweries and the beers dataset let's recompute the shared values. At the same time we are going to drop the breweries that doesn't have any beer associated with them."
   ]
  },
  {
   "cell_type": "code",
   "execution_count": 18,
   "metadata": {
    "cell_id": "5f0f126f9e87410cbc262500946d149e",
    "deepnote_cell_type": "code",
    "deepnote_to_be_reexecuted": true,
    "execution_context_id": "b8d59414-5980-4626-90fc-415f2b8b3589",
    "execution_millis": 5,
    "execution_start": 1731602611970,
    "source_hash": "b7f773d9"
   },
   "outputs": [
    {
     "data": {
      "text/html": [
       "<div><style>\n",
       ".dataframe > thead > tr,\n",
       ".dataframe > tbody > tr {\n",
       "  text-align: right;\n",
       "  white-space: pre-wrap;\n",
       "}\n",
       "</style>\n",
       "<small>shape: (5, 4)</small><table border=\"1\" class=\"dataframe\"><thead><tr><th>id</th><th>location</th><th>name</th><th>beers_count</th></tr><tr><td>i64</td><td>str</td><td>str</td><td>i64</td></tr></thead><tbody><tr><td>9826</td><td>&quot;United States, Wyoming&quot;</td><td>&quot;Altitude Chophouse &amp; Brewery&quot;</td><td>47</td></tr><tr><td>24677</td><td>&quot;Lithuania&quot;</td><td>&quot;Nat&amp;#363;ralios Sultys UAB&quot;</td><td>1</td></tr><tr><td>9538</td><td>&quot;United States, Washington&quot;</td><td>&quot;Atomic Ale Brewpub And Eatery&quot;</td><td>28</td></tr><tr><td>2309</td><td>&quot;United States, Nevada&quot;</td><td>&quot;Ellis Island Casino &amp; Brewery&quot;</td><td>14</td></tr><tr><td>24747</td><td>&quot;United States, Colorado&quot;</td><td>&quot;Dad &amp; Dude&#x27;s Breweria&quot;</td><td>11</td></tr></tbody></table></div>"
      ],
      "text/plain": [
       "shape: (5, 4)\n",
       "┌───────┬───────────────────────────┬───────────────────────────────┬─────────────┐\n",
       "│ id    ┆ location                  ┆ name                          ┆ beers_count │\n",
       "│ ---   ┆ ---                       ┆ ---                           ┆ ---         │\n",
       "│ i64   ┆ str                       ┆ str                           ┆ i64         │\n",
       "╞═══════╪═══════════════════════════╪═══════════════════════════════╪═════════════╡\n",
       "│ 9826  ┆ United States, Wyoming    ┆ Altitude Chophouse & Brewery  ┆ 47          │\n",
       "│ 24677 ┆ Lithuania                 ┆ Nat&#363;ralios Sultys UAB    ┆ 1           │\n",
       "│ 9538  ┆ United States, Washington ┆ Atomic Ale Brewpub And Eatery ┆ 28          │\n",
       "│ 2309  ┆ United States, Nevada     ┆ Ellis Island Casino & Brewery ┆ 14          │\n",
       "│ 24747 ┆ United States, Colorado   ┆ Dad & Dude's Breweria         ┆ 11          │\n",
       "└───────┴───────────────────────────┴───────────────────────────────┴─────────────┘"
      ]
     },
     "execution_count": 18,
     "metadata": {},
     "output_type": "execute_result"
    }
   ],
   "source": [
    "# Drop all the beers whose brewery has been dropped\n",
    "df_beers = df_beers.filter(~pl.col(\"brewery_id\").is_in(dropped_breweries_ids))\n",
    "\n",
    "# Recompute the number of beers per each brewery\n",
    "aggregated_value = df_beers.group_by(\"brewery_id\").agg(pl.col(\"beer_id\").count().alias(\"beers_count\")).rename({\"brewery_id\": \"id\"}).cast(pl.Int64)\n",
    "\n",
    "# Add the new column to the breweries dataset\n",
    "df_breweries = df_breweries.join(aggregated_value, on=\"id\", how=\"inner\")\n",
    "df_breweries = df_breweries.drop(\"nbr_beers\")\n",
    "\n",
    "df_breweries.sample(5)"
   ]
  },
  {
   "cell_type": "code",
   "execution_count": 19,
   "metadata": {
    "cell_id": "bfa1287d21bb4184b72377b79cf9d09b",
    "deepnote_cell_type": "code",
    "deepnote_to_be_reexecuted": true,
    "execution_context_id": "b8d59414-5980-4626-90fc-415f2b8b3589",
    "execution_millis": 0,
    "execution_start": 1731602612023,
    "source_hash": "799089a6"
   },
   "outputs": [
    {
     "name": "stdout",
     "output_type": "stream",
     "text": [
      "+-------------+--------+------------------+---------------+-----------+-----------------------+-------------------+\n",
      "| Column      | Type   |   Not null count |   Nulls count |   Nulls % |   Unique values count |   Unique values % |\n",
      "|-------------+--------+------------------+---------------+-----------+-----------------------+-------------------|\n",
      "| id          | Int64  |            14028 |             0 |    0.00 % |                 14028 |          100.00 % |\n",
      "| location    | String |            14028 |             0 |    0.00 % |                   277 |            1.97 % |\n",
      "| name        | String |            14028 |             0 |    0.00 % |                 13966 |           99.56 % |\n",
      "| beers_count | Int64  |            14028 |             0 |    0.00 % |                   270 |            1.92 % |\n",
      "+-------------+--------+------------------+---------------+-----------+-----------------------+-------------------+\n"
     ]
    }
   ],
   "source": [
    "describe(df_breweries)"
   ]
  },
  {
   "cell_type": "code",
   "execution_count": 20,
   "metadata": {
    "cell_id": "30aee657a99e4d0d879447c417703e9d",
    "deepnote_cell_type": "code",
    "deepnote_to_be_reexecuted": true,
    "execution_context_id": "b8d59414-5980-4626-90fc-415f2b8b3589",
    "execution_millis": 1,
    "execution_start": 1731602612066,
    "source_hash": "f5ce00c1"
   },
   "outputs": [
    {
     "name": "stdout",
     "output_type": "stream",
     "text": [
      "+-------------+---------+---------+-------+-------+-------+-------+-------+\n",
      "| Column      |    Mean |     Std |   25% |   50% |   75% |   Min |   Max |\n",
      "|-------------+---------+---------+-------+-------+-------+-------+-------|\n",
      "| beers_count | 19.5155 | 40.0882 |     3 |     8 |    20 |     1 |  1196 |\n",
      "+-------------+---------+---------+-------+-------+-------+-------+-------+\n"
     ]
    }
   ],
   "source": [
    "describe_numbers(df_breweries, filters=[\"id\"])"
   ]
  },
  {
   "cell_type": "markdown",
   "metadata": {
    "cell_id": "9b2fd7eb091742b7b88c293da4882e89",
    "deepnote_cell_type": "markdown"
   },
   "source": [
    "While we still have some beers with the same name we are sure that these beers are produced by different breweries. <br><br>\n",
    "We are going to recompute the number of ratings, interactions and reviews for each beer later in this notebook."
   ]
  },
  {
   "cell_type": "markdown",
   "metadata": {
    "cell_id": "b89fda76b8f844cbb49cb03f067463ec",
    "deepnote_cell_type": "markdown"
   },
   "source": [
    "##### Users dataset"
   ]
  },
  {
   "cell_type": "markdown",
   "metadata": {
    "cell_id": "c135a5aa2eeb4741a8ddbe09df1d5969",
    "deepnote_cell_type": "text-cell-p",
    "formattedRanges": []
   },
   "source": [
    "For each of our users, we have their number of ratings/reviews, their ID, their name, the timestamp of when they joined and their location. The location is interesting for us, along with the number of reviews of each user."
   ]
  },
  {
   "cell_type": "code",
   "execution_count": 21,
   "metadata": {
    "cell_id": "aec79c087b4e40a383b101a89b0544dd",
    "deepnote_cell_type": "code",
    "deepnote_to_be_reexecuted": true,
    "execution_context_id": "b8d59414-5980-4626-90fc-415f2b8b3589",
    "execution_millis": 1,
    "execution_start": 1731602612118,
    "source_hash": "6cfe966d"
   },
   "outputs": [
    {
     "data": {
      "text/html": [
       "<div><style>\n",
       ".dataframe > thead > tr,\n",
       ".dataframe > tbody > tr {\n",
       "  text-align: right;\n",
       "  white-space: pre-wrap;\n",
       "}\n",
       "</style>\n",
       "<small>shape: (5, 6)</small><table border=\"1\" class=\"dataframe\"><thead><tr><th>nbr_ratings</th><th>nbr_reviews</th><th>user_id</th><th>user_name</th><th>joined</th><th>location</th></tr><tr><td>i64</td><td>i64</td><td>str</td><td>str</td><td>i64</td><td>str</td></tr></thead><tbody><tr><td>34</td><td>4</td><td>&quot;mhsmall84.849591&quot;</td><td>&quot;mhsmall84&quot;</td><td>1408615200</td><td>&quot;United States, Wisconsin&quot;</td></tr><tr><td>1</td><td>0</td><td>&quot;mike280z.1207531&quot;</td><td>&quot;Mike280z&quot;</td><td>1501322400</td><td>&quot;United States, North Carolina&quot;</td></tr><tr><td>1</td><td>0</td><td>&quot;lapislee.1137977&quot;</td><td>&quot;LapisLee&quot;</td><td>1461664800</td><td>&quot;United States, Virginia&quot;</td></tr><tr><td>1</td><td>1</td><td>&quot;awareness.400927&quot;</td><td>&quot;awareness&quot;</td><td>1260097200</td><td>&quot;United States, Florida&quot;</td></tr><tr><td>1</td><td>0</td><td>&quot;ctkingsley.920839&quot;</td><td>&quot;ctkingsley&quot;</td><td>1420369200</td><td>null</td></tr></tbody></table></div>"
      ],
      "text/plain": [
       "shape: (5, 6)\n",
       "┌─────────────┬─────────────┬───────────────────┬────────────┬────────────┬────────────────────────┐\n",
       "│ nbr_ratings ┆ nbr_reviews ┆ user_id           ┆ user_name  ┆ joined     ┆ location               │\n",
       "│ ---         ┆ ---         ┆ ---               ┆ ---        ┆ ---        ┆ ---                    │\n",
       "│ i64         ┆ i64         ┆ str               ┆ str        ┆ i64        ┆ str                    │\n",
       "╞═════════════╪═════════════╪═══════════════════╪════════════╪════════════╪════════════════════════╡\n",
       "│ 34          ┆ 4           ┆ mhsmall84.849591  ┆ mhsmall84  ┆ 1408615200 ┆ United States,         │\n",
       "│             ┆             ┆                   ┆            ┆            ┆ Wisconsin              │\n",
       "│ 1           ┆ 0           ┆ mike280z.1207531  ┆ Mike280z   ┆ 1501322400 ┆ United States, North   │\n",
       "│             ┆             ┆                   ┆            ┆            ┆ Carolina               │\n",
       "│ 1           ┆ 0           ┆ lapislee.1137977  ┆ LapisLee   ┆ 1461664800 ┆ United States,         │\n",
       "│             ┆             ┆                   ┆            ┆            ┆ Virginia               │\n",
       "│ 1           ┆ 1           ┆ awareness.400927  ┆ awareness  ┆ 1260097200 ┆ United States, Florida │\n",
       "│ 1           ┆ 0           ┆ ctkingsley.920839 ┆ ctkingsley ┆ 1420369200 ┆ null                   │\n",
       "└─────────────┴─────────────┴───────────────────┴────────────┴────────────┴────────────────────────┘"
      ]
     },
     "execution_count": 21,
     "metadata": {},
     "output_type": "execute_result"
    }
   ],
   "source": [
    "df_users.sample(5)"
   ]
  },
  {
   "cell_type": "markdown",
   "metadata": {
    "cell_id": "8ed35274c8324f5f9ae609f13c082c53",
    "deepnote_cell_type": "markdown"
   },
   "source": [
    "The dataset has the following structure\n",
    "| Column Name | Description \n",
    "|-------------|-------------|\n",
    "| `user_id` | Unique identifier for each user |\n",
    "| `user_name` | Username of the reviewer |\n",
    "| `joined` | Date when the user joined BeerAdvocate |\n",
    "| `location` | Geographic location of the user |\n",
    "| `nbr_ratings` | Number of ratings submitted by the user |\n",
    "| `nbr_reviews` | Number of written reviews submitted by the user |"
   ]
  },
  {
   "cell_type": "code",
   "execution_count": 22,
   "metadata": {
    "cell_id": "9e3f71998f544a8e834e652f6251ab5f",
    "deepnote_cell_type": "code",
    "deepnote_to_be_reexecuted": true,
    "execution_context_id": "b8d59414-5980-4626-90fc-415f2b8b3589",
    "execution_millis": 1,
    "execution_start": 1731602612166,
    "source_hash": "369292e7"
   },
   "outputs": [
    {
     "name": "stdout",
     "output_type": "stream",
     "text": [
      "+-------------+--------+------------------+---------------+-----------+-----------------------+-------------------+\n",
      "| Column      | Type   |   Not null count |   Nulls count |   Nulls % |   Unique values count |   Unique values % |\n",
      "|-------------+--------+------------------+---------------+-----------+-----------------------+-------------------|\n",
      "| nbr_ratings | Int64  |           153704 |             0 |    0.00 % |                  2053 |            1.34 % |\n",
      "| nbr_reviews | Int64  |           153704 |             0 |    0.00 % |                  1265 |            0.82 % |\n",
      "| user_id     | String |           153704 |             0 |    0.00 % |                153704 |          100.00 % |\n",
      "| user_name   | String |           153704 |             0 |    0.00 % |                153704 |          100.00 % |\n",
      "| joined      | Int64  |           151052 |          2652 |    1.73 % |                  5525 |            3.66 % |\n",
      "| location    | String |           122425 |         31279 |   20.35 % |                   195 |            0.16 % |\n",
      "+-------------+--------+------------------+---------------+-----------+-----------------------+-------------------+\n"
     ]
    }
   ],
   "source": [
    "describe(df_users)"
   ]
  },
  {
   "cell_type": "code",
   "execution_count": 23,
   "metadata": {
    "cell_id": "8916da3864f84887a9c7a1829f45c636",
    "deepnote_cell_type": "code",
    "deepnote_to_be_reexecuted": true,
    "execution_context_id": "b8d59414-5980-4626-90fc-415f2b8b3589",
    "execution_millis": 1,
    "execution_start": 1731602612218,
    "source_hash": "4c33afed"
   },
   "outputs": [
    {
     "name": "stdout",
     "output_type": "stream",
     "text": [
      "+-------------+-------------+-------------+-------------+-------------+-------------+-----------+------------+\n",
      "| Column      |        Mean |         Std |         25% |         50% |         75% |       Min |        Max |\n",
      "|-------------+-------------+-------------+-------------+-------------+-------------+-----------+------------|\n",
      "| nbr_ratings |     54.6052 |     252.389 |           1 |           3 |          16 |         1 |      12046 |\n",
      "| nbr_reviews |     16.8479 |     139.847 |           0 |           0 |           2 |         0 |       8970 |\n",
      "| joined      | 1.35724e+09 | 9.19513e+07 | 1.30312e+09 | 1.39194e+09 | 1.41769e+09 | 840794400 | 1501495200 |\n",
      "+-------------+-------------+-------------+-------------+-------------+-------------+-----------+------------+\n"
     ]
    }
   ],
   "source": [
    "describe_numbers(df_users, filters=[\"user_id\"])"
   ]
  },
  {
   "cell_type": "markdown",
   "metadata": {
    "cell_id": "b5c6a6f4df8545e38ba7edb014b7f2b4",
    "deepnote_cell_type": "markdown"
   },
   "source": [
    "We are going to change the structure in nbr_interactions, nbr_ratings, nbr_reviews as done with the beers dataset and we are also going to cast the joined column to a datetime object."
   ]
  },
  {
   "cell_type": "code",
   "execution_count": 24,
   "metadata": {
    "cell_id": "12ad1b9904854a649fe713ec931c2c68",
    "deepnote_cell_type": "code",
    "deepnote_to_be_reexecuted": true,
    "execution_context_id": "1d91464d-f40a-4f9a-bf91-c9cc6daed2d4",
    "execution_millis": 0,
    "execution_start": 1731602612270,
    "source_hash": "26593d39"
   },
   "outputs": [
    {
     "data": {
      "text/html": [
       "<div><style>\n",
       ".dataframe > thead > tr,\n",
       ".dataframe > tbody > tr {\n",
       "  text-align: right;\n",
       "  white-space: pre-wrap;\n",
       "}\n",
       "</style>\n",
       "<small>shape: (5, 7)</small><table border=\"1\" class=\"dataframe\"><thead><tr><th>nbr_ratings</th><th>nbr_reviews</th><th>user_id</th><th>user_name</th><th>joined</th><th>location</th><th>nbr_interactions</th></tr><tr><td>i64</td><td>i64</td><td>str</td><td>str</td><td>datetime[ms]</td><td>str</td><td>i64</td></tr></thead><tbody><tr><td>4</td><td>2</td><td>&quot;wemustdrink.1143257&quot;</td><td>&quot;WemustDRINK&quot;</td><td>2016-05-11 10:00:00</td><td>&quot;United States, Georgia&quot;</td><td>6</td></tr><tr><td>0</td><td>3</td><td>&quot;shocksmarin.735619&quot;</td><td>&quot;shocksmarin&quot;</td><td>2013-06-04 10:00:00</td><td>&quot;United States, California&quot;</td><td>3</td></tr><tr><td>230</td><td>8</td><td>&quot;ericbeech_87.799334&quot;</td><td>&quot;Ericbeech_87&quot;</td><td>2014-05-11 10:00:00</td><td>&quot;Canada&quot;</td><td>238</td></tr><tr><td>1</td><td>2</td><td>&quot;eggman2814.718703&quot;</td><td>&quot;eggman2814&quot;</td><td>2013-02-16 11:00:00</td><td>&quot;United States, Illinois&quot;</td><td>3</td></tr><tr><td>3</td><td>0</td><td>&quot;aucbai.838252&quot;</td><td>&quot;aucbai&quot;</td><td>2014-08-02 10:00:00</td><td>&quot;United States, Alabama&quot;</td><td>3</td></tr></tbody></table></div>"
      ],
      "text/plain": [
       "shape: (5, 7)\n",
       "┌─────────────┬─────────────┬──────────────┬─────────────┬─────────────┬─────────────┬─────────────┐\n",
       "│ nbr_ratings ┆ nbr_reviews ┆ user_id      ┆ user_name   ┆ joined      ┆ location    ┆ nbr_interac │\n",
       "│ ---         ┆ ---         ┆ ---          ┆ ---         ┆ ---         ┆ ---         ┆ tions       │\n",
       "│ i64         ┆ i64         ┆ str          ┆ str         ┆ datetime[ms ┆ str         ┆ ---         │\n",
       "│             ┆             ┆              ┆             ┆ ]           ┆             ┆ i64         │\n",
       "╞═════════════╪═════════════╪══════════════╪═════════════╪═════════════╪═════════════╪═════════════╡\n",
       "│ 4           ┆ 2           ┆ wemustdrink. ┆ WemustDRINK ┆ 2016-05-11  ┆ United      ┆ 6           │\n",
       "│             ┆             ┆ 1143257      ┆             ┆ 10:00:00    ┆ States,     ┆             │\n",
       "│             ┆             ┆              ┆             ┆             ┆ Georgia     ┆             │\n",
       "│ 0           ┆ 3           ┆ shocksmarin. ┆ shocksmarin ┆ 2013-06-04  ┆ United      ┆ 3           │\n",
       "│             ┆             ┆ 735619       ┆             ┆ 10:00:00    ┆ States,     ┆             │\n",
       "│             ┆             ┆              ┆             ┆             ┆ California  ┆             │\n",
       "│ 230         ┆ 8           ┆ ericbeech_87 ┆ Ericbeech_8 ┆ 2014-05-11  ┆ Canada      ┆ 238         │\n",
       "│             ┆             ┆ .799334      ┆ 7           ┆ 10:00:00    ┆             ┆             │\n",
       "│ 1           ┆ 2           ┆ eggman2814.7 ┆ eggman2814  ┆ 2013-02-16  ┆ United      ┆ 3           │\n",
       "│             ┆             ┆ 18703        ┆             ┆ 11:00:00    ┆ States,     ┆             │\n",
       "│             ┆             ┆              ┆             ┆             ┆ Illinois    ┆             │\n",
       "│ 3           ┆ 0           ┆ aucbai.83825 ┆ aucbai      ┆ 2014-08-02  ┆ United      ┆ 3           │\n",
       "│             ┆             ┆ 2            ┆             ┆ 10:00:00    ┆ States,     ┆             │\n",
       "│             ┆             ┆              ┆             ┆             ┆ Alabama     ┆             │\n",
       "└─────────────┴─────────────┴──────────────┴─────────────┴─────────────┴─────────────┴─────────────┘"
      ]
     },
     "execution_count": 24,
     "metadata": {},
     "output_type": "execute_result"
    }
   ],
   "source": [
    "df_users = df_users.with_columns(pl.col(\"nbr_ratings\").alias(\"nbr_interactions\"))\n",
    "df_users = df_users.with_columns((pl.col(\"nbr_ratings\") - pl.col(\"nbr_reviews\")).alias(\"nbr_ratings\"))\n",
    "df_users = df_users.with_columns((pl.col(\"joined\").cast(pl.Int64) * 1000).cast(pl.Datetime(\"ms\")))\n",
    "df_users.sample(5)"
   ]
  },
  {
   "cell_type": "markdown",
   "metadata": {
    "cell_id": "24d3f57515ac46619d7fecd78e96ab83",
    "deepnote_cell_type": "markdown"
   },
   "source": [
    "We see that lots of users doesn't have a location associated with them and this is reasonable since the location is an optional field. Strangely enough some users doesn't have neither the timestamp of when they joined the platform. We are going to verify how many reviews and ratings are of these users to ensure that we still have enough temporal and spatial data to work with."
   ]
  },
  {
   "cell_type": "code",
   "execution_count": 25,
   "metadata": {
    "cell_id": "c973222b50664574ace83accd6b2684c",
    "deepnote_cell_type": "code",
    "deepnote_to_be_reexecuted": true,
    "execution_context_id": "b8d59414-5980-4626-90fc-415f2b8b3589",
    "execution_millis": 1,
    "execution_start": 1731602612318,
    "source_hash": "c668c82a"
   },
   "outputs": [
    {
     "name": "stdout",
     "output_type": "stream",
     "text": [
      "Percentage of interactions (reviews or ratings) with missing user location: 5.96 %\n",
      "Percentage of interactions (reviews or ratings) with missing user timestamp: 4.15 %\n",
      "Percentage of interactions (reviews or ratings) with missing user location or timestamp: 5.96 %\n"
     ]
    }
   ],
   "source": [
    "# Compute the percentage of missing values for the reviews dataset\n",
    "tot_number_users = df_users.select(\"nbr_interactions\").sum().item()\n",
    "tot_users_no_location_nbr_interactions = df_users.filter(pl.col(\"location\").is_null()).select(\"nbr_interactions\").sum().item()\n",
    "tot_users_no_timestamp_nbr_interactions = df_users.filter(pl.col(\"joined\").is_null()).select(\"nbr_interactions\").sum().item()\n",
    "tot_users_either_of_two = df_users.filter(pl.col(\"location\").is_null() | pl.col(\"joined\").is_null()).select(\"nbr_interactions\").sum().item()\n",
    "\n",
    "# Compute the percentage of missing values for the reviews dataset\n",
    "print(f\"Percentage of interactions (reviews or ratings) with missing user location: {tot_users_no_location_nbr_interactions / tot_number_users * 100:.2f} %\")\n",
    "print(f\"Percentage of interactions (reviews or ratings) with missing user timestamp: {tot_users_no_timestamp_nbr_interactions / tot_number_users * 100:.2f} %\")\n",
    "print(f\"Percentage of interactions (reviews or ratings) with missing user location or timestamp: {tot_users_either_of_two / tot_number_users * 100:.2f} %\")"
   ]
  },
  {
   "cell_type": "markdown",
   "metadata": {
    "cell_id": "2561adbd201d4b7bbaea53d34ceef58a",
    "deepnote_cell_type": "markdown"
   },
   "source": [
    "We see that the number of reviews and ratings of people that doesn't have a location or a join date is very low. Additionally it's interesting to see that almost all of the users that doesn't have a location associated with them doesn't have a join date as well. We still have enough data for our purposes."
   ]
  },
  {
   "cell_type": "markdown",
   "metadata": {
    "cell_id": "cbc785e7d7324ed5b090ec20e5fc586f",
    "deepnote_cell_type": "markdown"
   },
   "source": [
    "We are going to recompute the number of ratings, interactions and reviews for each beer later on when we will work with the ratings dataset."
   ]
  },
  {
   "cell_type": "markdown",
   "metadata": {
    "cell_id": "7719cff14de24ebea2793942400d2195",
    "deepnote_cell_type": "markdown"
   },
   "source": [
    "##### Ratings"
   ]
  },
  {
   "cell_type": "code",
   "execution_count": 26,
   "metadata": {
    "cell_id": "20f679b573bd4221acd88e301d5e1402",
    "deepnote_cell_type": "code",
    "deepnote_to_be_reexecuted": true,
    "execution_context_id": "1d91464d-f40a-4f9a-bf91-c9cc6daed2d4",
    "execution_millis": 0,
    "execution_start": 1731602613470,
    "source_hash": "8e07dd1a"
   },
   "outputs": [
    {
     "data": {
      "text/html": [
       "<div><style>\n",
       ".dataframe > thead > tr,\n",
       ".dataframe > tbody > tr {\n",
       "  text-align: right;\n",
       "  white-space: pre-wrap;\n",
       "}\n",
       "</style>\n",
       "<small>shape: (5, 17)</small><table border=\"1\" class=\"dataframe\"><thead><tr><th>user_id</th><th>rating</th><th>review</th><th>abv</th><th>brewery_name</th><th>user_name</th><th>beer_id</th><th>appearance</th><th>palate</th><th>text</th><th>aroma</th><th>overall</th><th>taste</th><th>style</th><th>beer_name</th><th>brewery_id</th><th>date</th></tr><tr><td>str</td><td>f64</td><td>bool</td><td>f64</td><td>str</td><td>str</td><td>i64</td><td>f64</td><td>f64</td><td>str</td><td>f64</td><td>f64</td><td>f64</td><td>str</td><td>str</td><td>i64</td><td>datetime[μs]</td></tr></thead><tbody><tr><td>&quot;benoit917.450638&quot;</td><td>4.0</td><td>false</td><td>7.2</td><td>&quot;Maine Beer Company&quot;</td><td>&quot;benoit917&quot;</td><td>54522</td><td>null</td><td>null</td><td>null</td><td>null</td><td>null</td><td>null</td><td>&quot;American Amber / Red Ale&quot;</td><td>&quot;Zoe&quot;</td><td>20681</td><td>2013-01-09 12:00:00</td></tr><tr><td>&quot;wowcoolman.507084&quot;</td><td>3.98</td><td>false</td><td>8.5</td><td>&quot;The Hop Concept Brewing&quot;</td><td>&quot;Wowcoolman&quot;</td><td>157830</td><td>4.25</td><td>4.25</td><td>null</td><td>3.75</td><td>4.0</td><td>4.0</td><td>&quot;American Double / Imperial IPA&quot;</td><td>&quot;Citrus &amp; Piney IPA (The Hop Fr…</td><td>38886</td><td>2015-06-02 12:00:00</td></tr><tr><td>&quot;ncstateplaya.264065&quot;</td><td>3.25</td><td>false</td><td>5.0</td><td>&quot;Triangle Brewing Company&quot;</td><td>&quot;ncstateplaya&quot;</td><td>108882</td><td>null</td><td>null</td><td>null</td><td>null</td><td>null</td><td>null</td><td>&quot;Bière de Garde&quot;</td><td>&quot;Farmhouse Ale&quot;</td><td>16186</td><td>2014-09-09 12:00:00</td></tr><tr><td>&quot;tmoney2591.322390&quot;</td><td>3.33</td><td>true</td><td>6.3</td><td>&quot;5 Rabbit Cerveceria&quot;</td><td>&quot;TMoney2591&quot;</td><td>76133</td><td>4.0</td><td>3.5</td><td>&quot;Served in a New Holland tulip …</td><td>3.5</td><td>3.5</td><td>3.0</td><td>&quot;Märzen / Oktoberfest&quot;</td><td>&quot;Vida Y Muerte Muertzenbier&quot;</td><td>25544</td><td>2012-11-05 12:00:00</td></tr><tr><td>&quot;zbr101.740056&quot;</td><td>4.5</td><td>false</td><td>5.0</td><td>&quot;Grassroots Brewing&quot;</td><td>&quot;ZBR101&quot;</td><td>93400</td><td>4.5</td><td>4.5</td><td>null</td><td>4.5</td><td>4.5</td><td>4.5</td><td>&quot;Saison / Farmhouse Ale&quot;</td><td>&quot;Grassroots Brother Soigné&quot;</td><td>23205</td><td>2015-10-18 12:00:00</td></tr></tbody></table></div>"
      ],
      "text/plain": [
       "shape: (5, 17)\n",
       "┌──────────────┬────────┬────────┬─────┬───┬──────────────┬─────────────┬────────────┬─────────────┐\n",
       "│ user_id      ┆ rating ┆ review ┆ abv ┆ … ┆ style        ┆ beer_name   ┆ brewery_id ┆ date        │\n",
       "│ ---          ┆ ---    ┆ ---    ┆ --- ┆   ┆ ---          ┆ ---         ┆ ---        ┆ ---         │\n",
       "│ str          ┆ f64    ┆ bool   ┆ f64 ┆   ┆ str          ┆ str         ┆ i64        ┆ datetime[μs │\n",
       "│              ┆        ┆        ┆     ┆   ┆              ┆             ┆            ┆ ]           │\n",
       "╞══════════════╪════════╪════════╪═════╪═══╪══════════════╪═════════════╪════════════╪═════════════╡\n",
       "│ benoit917.45 ┆ 4.0    ┆ false  ┆ 7.2 ┆ … ┆ American     ┆ Zoe         ┆ 20681      ┆ 2013-01-09  │\n",
       "│ 0638         ┆        ┆        ┆     ┆   ┆ Amber / Red  ┆             ┆            ┆ 12:00:00    │\n",
       "│              ┆        ┆        ┆     ┆   ┆ Ale          ┆             ┆            ┆             │\n",
       "│ wowcoolman.5 ┆ 3.98   ┆ false  ┆ 8.5 ┆ … ┆ American     ┆ Citrus &    ┆ 38886      ┆ 2015-06-02  │\n",
       "│ 07084        ┆        ┆        ┆     ┆   ┆ Double /     ┆ Piney IPA   ┆            ┆ 12:00:00    │\n",
       "│              ┆        ┆        ┆     ┆   ┆ Imperial IPA ┆ (The Hop    ┆            ┆             │\n",
       "│              ┆        ┆        ┆     ┆   ┆              ┆ Fr…         ┆            ┆             │\n",
       "│ ncstateplaya ┆ 3.25   ┆ false  ┆ 5.0 ┆ … ┆ Bière de     ┆ Farmhouse   ┆ 16186      ┆ 2014-09-09  │\n",
       "│ .264065      ┆        ┆        ┆     ┆   ┆ Garde        ┆ Ale         ┆            ┆ 12:00:00    │\n",
       "│ tmoney2591.3 ┆ 3.33   ┆ true   ┆ 6.3 ┆ … ┆ Märzen /     ┆ Vida Y      ┆ 25544      ┆ 2012-11-05  │\n",
       "│ 22390        ┆        ┆        ┆     ┆   ┆ Oktoberfest  ┆ Muerte Muer ┆            ┆ 12:00:00    │\n",
       "│              ┆        ┆        ┆     ┆   ┆              ┆ tzenbier    ┆            ┆             │\n",
       "│ zbr101.74005 ┆ 4.5    ┆ false  ┆ 5.0 ┆ … ┆ Saison /     ┆ Grassroots  ┆ 23205      ┆ 2015-10-18  │\n",
       "│ 6            ┆        ┆        ┆     ┆   ┆ Farmhouse    ┆ Brother     ┆            ┆ 12:00:00    │\n",
       "│              ┆        ┆        ┆     ┆   ┆ Ale          ┆ Soigné      ┆            ┆             │\n",
       "└──────────────┴────────┴────────┴─────┴───┴──────────────┴─────────────┴────────────┴─────────────┘"
      ]
     },
     "execution_count": 26,
     "metadata": {},
     "output_type": "execute_result"
    }
   ],
   "source": [
    "df_ratings.sample(5)"
   ]
  },
  {
   "cell_type": "markdown",
   "metadata": {
    "cell_id": "1c53bcc29dba4c6e85f71c54988cfb70",
    "deepnote_cell_type": "text-cell-p",
    "formattedRanges": []
   },
   "source": [
    "The dataset has the following structure"
   ]
  },
  {
   "cell_type": "code",
   "execution_count": 27,
   "metadata": {
    "cell_id": "628c444db3064355915c295064e7632c",
    "deepnote_cell_type": "code",
    "deepnote_to_be_reexecuted": true,
    "execution_context_id": "244f7375-f4e2-4a76-8ae0-573486b59bf6",
    "execution_millis": 1989,
    "execution_start": 1731602613518,
    "source_hash": "27f0e95d"
   },
   "outputs": [
    {
     "name": "stdout",
     "output_type": "stream",
     "text": [
      "+--------------+------------------------------------------+------------------+---------------+-----------+-----------------------+-------------------+\n",
      "| Column       | Type                                     |   Not null count |   Nulls count |   Nulls % |   Unique values count |   Unique values % |\n",
      "|--------------+------------------------------------------+------------------+---------------+-----------+-----------------------+-------------------|\n",
      "| user_id      | String                                   |          8393032 |             0 |    0.00 % |                153704 |            1.83 % |\n",
      "| rating       | Float64                                  |          8393032 |             0 |    0.00 % |                   401 |            0.00 % |\n",
      "| review       | Boolean                                  |          8393032 |             0 |    0.00 % |                     2 |            0.00 % |\n",
      "| abv          | Float64                                  |          8221727 |        171305 |    2.04 % |                   844 |            0.01 % |\n",
      "| brewery_name | String                                   |          8393032 |             0 |    0.00 % |                 13440 |            0.16 % |\n",
      "| user_name    | String                                   |          8393032 |             0 |    0.00 % |                153704 |            1.83 % |\n",
      "| beer_id      | Int64                                    |          8393032 |             0 |    0.00 % |                247982 |            2.95 % |\n",
      "| appearance   | Float64                                  |          4769675 |       3623357 |   43.17 % |                    18 |            0.00 % |\n",
      "| palate       | Float64                                  |          4769675 |       3623357 |   43.17 % |                    18 |            0.00 % |\n",
      "| text         | String                                   |          2715712 |       5677320 |   67.64 % |               2708662 |           99.74 % |\n",
      "| aroma        | Float64                                  |          4769675 |       3623357 |   43.17 % |                    18 |            0.00 % |\n",
      "| overall      | Float64                                  |          4769675 |       3623357 |   43.17 % |                    18 |            0.00 % |\n",
      "| taste        | Float64                                  |          4769675 |       3623357 |   43.17 % |                    18 |            0.00 % |\n",
      "| style        | String                                   |          8393032 |             0 |    0.00 % |                   104 |            0.00 % |\n",
      "| beer_name    | String                                   |          8393032 |             0 |    0.00 % |                211056 |            2.51 % |\n",
      "| brewery_id   | Int64                                    |          8393032 |             0 |    0.00 % |                 13624 |            0.16 % |\n",
      "| date         | Datetime(time_unit='us', time_zone=None) |          8393032 |             0 |    0.00 % |                  6135 |            0.07 % |\n",
      "+--------------+------------------------------------------+------------------+---------------+-----------+-----------------------+-------------------+\n"
     ]
    }
   ],
   "source": [
    "describe(df_ratings)"
   ]
  },
  {
   "cell_type": "markdown",
   "metadata": {
    "cell_id": "d657b119bd984f978ba2f1732c47e44b",
    "deepnote_cell_type": "markdown"
   },
   "source": [
    "The dataset has the following structure\n",
    "| Column Name | Description \n",
    "|-------------|-------------|\n",
    "| `user_id` | Unique identifier for each user |\n",
    "| `rating` | Global rating of the beer from the user |\n",
    "| `review` | Flag to tell if the rating has text or not |\n",
    "| `abv` | Alcohol By Volume percentage of the beer |\n",
    "| `brewery_name` | Name of the brewery that produced the beer |\n",
    "| `user_name` | Username of the reviewer |\n",
    "| `beer_id` | Unique identifier for each beer |\n",
    "| `appearance` | Rating of the appearance of the beer |\n",
    "| `palate` | Rating of the palate of the beer |\n",
    "| `text` | Text of the review |\n",
    "| `aroma` | Rating of the aroma of the beer |\n",
    "| `overall` | Overall rating of the beer |\n",
    "| `taste` | Rating of the taste of the beer |\n",
    "| `style` | Style or category of the beer (e.g., IPA, Stout, Lager) |\n",
    "| `beer_name` | Name of the beer |\n",
    "| `brewery_id` | Unique identifier for the brewery that produced the beer |\n",
    "| `date` | Date when the review was submitted |"
   ]
  },
  {
   "cell_type": "markdown",
   "metadata": {
    "cell_id": "46357e9ace014ad682a201472495dfbd",
    "deepnote_cell_type": "markdown"
   },
   "source": [
    "Since this dataset includes data from the breweries dataset, users dataset and beers dataset but we have modified them let's clean the reviews whose user_id, beer_id or brewery_id is not present in the respective datasets."
   ]
  },
  {
   "cell_type": "code",
   "execution_count": 28,
   "metadata": {
    "cell_id": "2b0f751a79f249b0bfa453fce625d123",
    "deepnote_cell_type": "code",
    "deepnote_to_be_reexecuted": true,
    "execution_context_id": "b8d59414-5980-4626-90fc-415f2b8b3589",
    "execution_millis": 74,
    "execution_start": 1731602615562,
    "source_hash": "712a6281"
   },
   "outputs": [],
   "source": [
    "# Get the beers and breweries ids\n",
    "beers_ids = df_beers.select(\"beer_id\")\n",
    "brewery_ids = df_breweries.select(\"id\")\n",
    "\n",
    "# Filter the ratings dataset\n",
    "df_ratings = df_ratings.filter(pl.col(\"beer_id\").is_in(beers_ids)).filter(pl.col(\"brewery_id\").is_in(brewery_ids))"
   ]
  },
  {
   "cell_type": "markdown",
   "metadata": {
    "cell_id": "e5e88d8a93194b209e6931cba329e115",
    "deepnote_cell_type": "markdown"
   },
   "source": [
    "We are going to check if some of the reviews have a text but have the review flag as false"
   ]
  },
  {
   "cell_type": "code",
   "execution_count": 29,
   "metadata": {
    "cell_id": "6c466ea1b51c4b95ae4257050ea62e60",
    "deepnote_cell_type": "code",
    "deepnote_to_be_reexecuted": true,
    "execution_context_id": "244f7375-f4e2-4a76-8ae0-573486b59bf6",
    "execution_millis": 425,
    "execution_start": 1731602615682,
    "source_hash": "6405f06"
   },
   "outputs": [
    {
     "data": {
      "text/html": [
       "<div><style>\n",
       ".dataframe > thead > tr,\n",
       ".dataframe > tbody > tr {\n",
       "  text-align: right;\n",
       "  white-space: pre-wrap;\n",
       "}\n",
       "</style>\n",
       "<small>shape: (5, 17)</small><table border=\"1\" class=\"dataframe\"><thead><tr><th>user_id</th><th>rating</th><th>review</th><th>abv</th><th>brewery_name</th><th>user_name</th><th>beer_id</th><th>appearance</th><th>palate</th><th>text</th><th>aroma</th><th>overall</th><th>taste</th><th>style</th><th>beer_name</th><th>brewery_id</th><th>date</th></tr><tr><td>str</td><td>f64</td><td>bool</td><td>f64</td><td>str</td><td>str</td><td>i64</td><td>f64</td><td>f64</td><td>str</td><td>f64</td><td>f64</td><td>f64</td><td>str</td><td>str</td><td>i64</td><td>datetime[μs]</td></tr></thead><tbody><tr><td>&quot;rudimon.938886&quot;</td><td>2.31</td><td>false</td><td>5.0</td><td>&quot;3 Daughters Brewing&quot;</td><td>&quot;rudimon&quot;</td><td>107095</td><td>2.5</td><td>2.5</td><td>&quot;ehh eh ehh eh ehhh&quot;</td><td>2.75</td><td>2.25</td><td>2.0</td><td>&quot;American Blonde Ale&quot;</td><td>&quot;Beach Blonde Ale&quot;</td><td>33476</td><td>2015-02-04 12:00:00</td></tr><tr><td>&quot;davesbeerreviews.1069877&quot;</td><td>3.5</td><td>false</td><td>5.5</td><td>&quot;Bonfire Brewing Co.&quot;</td><td>&quot;DavesBeerReviews&quot;</td><td>97822</td><td>3.5</td><td>3.5</td><td>&quot;Great with weiner schnitzel&quot;</td><td>3.5</td><td>3.5</td><td>3.5</td><td>&quot;American Brown Ale&quot;</td><td>&quot;Demshitz Brown Ale&quot;</td><td>24817</td><td>2016-03-12 12:00:00</td></tr><tr><td>&quot;ashleydenee.931319&quot;</td><td>2.78</td><td>false</td><td>7.0</td><td>&quot;Full Sail Brewery &amp; Tasting Ro…</td><td>&quot;Ashleydenee&quot;</td><td>150615</td><td>3.0</td><td>3.0</td><td>&quot;A very heavy, bitter beer. Sti…</td><td>2.5</td><td>3.0</td><td>2.75</td><td>&quot;Doppelbock&quot;</td><td>&quot;Bock&quot;</td><td>5316</td><td>2015-01-22 12:00:00</td></tr><tr><td>&quot;munnster76.952023&quot;</td><td>4.29</td><td>false</td><td>7.0</td><td>&quot;Bell&#x27;s Brewery, Inc.&quot;</td><td>&quot;munnster76&quot;</td><td>1093</td><td>4.5</td><td>4.5</td><td>&quot;A very good IPA, just not up t…</td><td>4.25</td><td>4.25</td><td>4.25</td><td>&quot;American IPA&quot;</td><td>&quot;Two Hearted Ale&quot;</td><td>287</td><td>2015-03-01 12:00:00</td></tr><tr><td>&quot;donnierickles.969207&quot;</td><td>4.78</td><td>false</td><td>12.0</td><td>&quot;Founders Brewing Company&quot;</td><td>&quot;donnierickles&quot;</td><td>17538</td><td>4.25</td><td>4.75</td><td>&quot;Boozy, malty IPA. Love it.&quot;</td><td>5.0</td><td>4.75</td><td>4.75</td><td>&quot;American Double / Imperial IPA&quot;</td><td>&quot;Founders Devil Dancer&quot;</td><td>1199</td><td>2015-07-02 12:00:00</td></tr></tbody></table></div>"
      ],
      "text/plain": [
       "shape: (5, 17)\n",
       "┌──────────────┬────────┬────────┬──────┬───┬─────────────┬─────────────┬────────────┬─────────────┐\n",
       "│ user_id      ┆ rating ┆ review ┆ abv  ┆ … ┆ style       ┆ beer_name   ┆ brewery_id ┆ date        │\n",
       "│ ---          ┆ ---    ┆ ---    ┆ ---  ┆   ┆ ---         ┆ ---         ┆ ---        ┆ ---         │\n",
       "│ str          ┆ f64    ┆ bool   ┆ f64  ┆   ┆ str         ┆ str         ┆ i64        ┆ datetime[μs │\n",
       "│              ┆        ┆        ┆      ┆   ┆             ┆             ┆            ┆ ]           │\n",
       "╞══════════════╪════════╪════════╪══════╪═══╪═════════════╪═════════════╪════════════╪═════════════╡\n",
       "│ rudimon.9388 ┆ 2.31   ┆ false  ┆ 5.0  ┆ … ┆ American    ┆ Beach       ┆ 33476      ┆ 2015-02-04  │\n",
       "│ 86           ┆        ┆        ┆      ┆   ┆ Blonde Ale  ┆ Blonde Ale  ┆            ┆ 12:00:00    │\n",
       "│ davesbeerrev ┆ 3.5    ┆ false  ┆ 5.5  ┆ … ┆ American    ┆ Demshitz    ┆ 24817      ┆ 2016-03-12  │\n",
       "│ iews.1069877 ┆        ┆        ┆      ┆   ┆ Brown Ale   ┆ Brown Ale   ┆            ┆ 12:00:00    │\n",
       "│ ashleydenee. ┆ 2.78   ┆ false  ┆ 7.0  ┆ … ┆ Doppelbock  ┆ Bock        ┆ 5316       ┆ 2015-01-22  │\n",
       "│ 931319       ┆        ┆        ┆      ┆   ┆             ┆             ┆            ┆ 12:00:00    │\n",
       "│ munnster76.9 ┆ 4.29   ┆ false  ┆ 7.0  ┆ … ┆ American    ┆ Two Hearted ┆ 287        ┆ 2015-03-01  │\n",
       "│ 52023        ┆        ┆        ┆      ┆   ┆ IPA         ┆ Ale         ┆            ┆ 12:00:00    │\n",
       "│ donnierickle ┆ 4.78   ┆ false  ┆ 12.0 ┆ … ┆ American    ┆ Founders    ┆ 1199       ┆ 2015-07-02  │\n",
       "│ s.969207     ┆        ┆        ┆      ┆   ┆ Double /    ┆ Devil       ┆            ┆ 12:00:00    │\n",
       "│              ┆        ┆        ┆      ┆   ┆ Imperial    ┆ Dancer      ┆            ┆             │\n",
       "│              ┆        ┆        ┆      ┆   ┆ IPA         ┆             ┆            ┆             │\n",
       "└──────────────┴────────┴────────┴──────┴───┴─────────────┴─────────────┴────────────┴─────────────┘"
      ]
     },
     "execution_count": 29,
     "metadata": {},
     "output_type": "execute_result"
    }
   ],
   "source": [
    "df_ratings_review_false_but_text = df_ratings.filter(~pl.col(\"review\") & pl.col(\"text\").is_not_null())\n",
    "df_ratings_review_false_but_text.sample(5)"
   ]
  },
  {
   "cell_type": "code",
   "execution_count": 30,
   "metadata": {
    "cell_id": "279c6fafc2d04b49a996ccfe0d38c058",
    "deepnote_cell_type": "code",
    "deepnote_to_be_reexecuted": true
   },
   "outputs": [
    {
     "name": "stdout",
     "output_type": "stream",
     "text": [
      "The percentage of reviews that are False but have a text is: 1.50 %\n"
     ]
    }
   ],
   "source": [
    "print(\"The percentage of reviews that are False but have a text is: {:.2f} %\".format(df_ratings_review_false_but_text.shape[0] / df_ratings.shape[0] * 100))"
   ]
  },
  {
   "cell_type": "markdown",
   "metadata": {
    "cell_id": "9b02ee527f464fb8a20fb3a45fc96492",
    "deepnote_cell_type": "markdown"
   },
   "source": [
    "While at first it seems like an error it's most likely the data where the review has been flagged as 'ambiguous' in the [paper](https://arxiv.org/pdf/1210.3926) so the text should be ignored. Since no strange results seems to be present we are not going to drop these results and we are just going to ignore the text for these reviews."
   ]
  },
  {
   "cell_type": "code",
   "execution_count": 31,
   "metadata": {
    "cell_id": "03f8dbda5f8c44ecb0438e79f3b9a855",
    "deepnote_cell_type": "code",
    "deepnote_to_be_reexecuted": true,
    "execution_context_id": "1d91464d-f40a-4f9a-bf91-c9cc6daed2d4",
    "execution_millis": 1942,
    "execution_start": 1731600371642,
    "source_hash": "aaf3fd63"
   },
   "outputs": [
    {
     "name": "stdout",
     "output_type": "stream",
     "text": [
      "+--------------+------------------------------------------+------------------+---------------+-----------+-----------------------+-------------------+\n",
      "| Column       | Type                                     |   Not null count |   Nulls count |   Nulls % |   Unique values count |   Unique values % |\n",
      "|--------------+------------------------------------------+------------------+---------------+-----------+-----------------------+-------------------|\n",
      "| user_id      | String                                   |          8229373 |             0 |    0.00 % |                152921 |            1.86 % |\n",
      "| rating       | Float64                                  |          8229373 |             0 |    0.00 % |                   401 |            0.00 % |\n",
      "| review       | Boolean                                  |          8229373 |             0 |    0.00 % |                     2 |            0.00 % |\n",
      "| abv          | Float64                                  |          8064274 |        165099 |    2.01 % |                   842 |            0.01 % |\n",
      "| brewery_name | String                                   |          8229373 |             0 |    0.00 % |                 13307 |            0.16 % |\n",
      "| user_name    | String                                   |          8229373 |             0 |    0.00 % |                152921 |            1.86 % |\n",
      "| beer_id      | Int64                                    |          8229373 |             0 |    0.00 % |                241608 |            2.94 % |\n",
      "| appearance   | Float64                                  |          4661570 |       3567803 |   43.35 % |                    18 |            0.00 % |\n",
      "| palate       | Float64                                  |          4661570 |       3567803 |   43.35 % |                    18 |            0.00 % |\n",
      "| text         | String                                   |          2663760 |       5565613 |   67.63 % |               2656921 |           99.74 % |\n",
      "| aroma        | Float64                                  |          4661570 |       3567803 |   43.35 % |                    18 |            0.00 % |\n",
      "| overall      | Float64                                  |          4661570 |       3567803 |   43.35 % |                    18 |            0.00 % |\n",
      "| taste        | Float64                                  |          4661570 |       3567803 |   43.35 % |                    18 |            0.00 % |\n",
      "| style        | String                                   |          8229373 |             0 |    0.00 % |                   104 |            0.00 % |\n",
      "| beer_name    | String                                   |          8229373 |             0 |    0.00 % |                206778 |            2.51 % |\n",
      "| brewery_id   | Int64                                    |          8229373 |             0 |    0.00 % |                 13362 |            0.16 % |\n",
      "| date         | Datetime(time_unit='us', time_zone=None) |          8229373 |             0 |    0.00 % |                  6133 |            0.07 % |\n",
      "+--------------+------------------------------------------+------------------+---------------+-----------+-----------------------+-------------------+\n"
     ]
    }
   ],
   "source": [
    "describe(df_ratings)"
   ]
  },
  {
   "cell_type": "code",
   "execution_count": 32,
   "metadata": {
    "cell_id": "f3eb219e193b414598c8c9cffdbfcfb4",
    "deepnote_cell_type": "code",
    "deepnote_to_be_reexecuted": true,
    "execution_context_id": "1d91464d-f40a-4f9a-bf91-c9cc6daed2d4",
    "execution_millis": 1549,
    "execution_start": 1731600373630,
    "source_hash": "fadd78da"
   },
   "outputs": [
    {
     "name": "stdout",
     "output_type": "stream",
     "text": [
      "+------------+---------+----------+-------+-------+-------+-------+-------+\n",
      "| Column     |    Mean |      Std |   25% |   50% |   75% |   Min |   Max |\n",
      "|------------+---------+----------+-------+-------+-------+-------+-------|\n",
      "| rating     | 3.88197 |  0.62109 |  3.54 |     4 |  4.25 |     1 |     5 |\n",
      "| abv        |   7.335 |  2.46824 |   5.5 |   6.9 |   8.8 |  0.01 |  67.5 |\n",
      "| appearance | 3.93564 | 0.558574 |  3.75 |     4 |  4.25 |     1 |     5 |\n",
      "| palate     | 3.86437 | 0.608519 |   3.5 |     4 |  4.25 |     1 |     5 |\n",
      "| aroma      | 3.86777 |  0.62057 |   3.5 |     4 |  4.25 |     1 |     5 |\n",
      "| overall    | 3.89903 | 0.616302 |   3.5 |     4 |  4.25 |     1 |     5 |\n",
      "| taste      | 3.90194 | 0.643627 |   3.5 |     4 |  4.25 |     1 |     5 |\n",
      "+------------+---------+----------+-------+-------+-------+-------+-------+\n"
     ]
    }
   ],
   "source": [
    "describe_numbers(df_ratings, filters=[\"beer_id\", \"brewery_id\", \"user_id\"])"
   ]
  },
  {
   "cell_type": "markdown",
   "metadata": {
    "cell_id": "6ead0ae703d34b0d932c575241f09a14",
    "deepnote_cell_type": "markdown"
   },
   "source": [
    "## Data cleaning and saving\n",
    "Now that we have done some preliminary analysis on the data we will modify some of the datasets to make them more suitable for our analysis. We will also save the datasets in parquet format with the correct data types for faster loading in the future.\n",
    "##### Users dataset\n",
    "The dataset is already clean and processed, we just need to save it in parquet format"
   ]
  },
  {
   "cell_type": "code",
   "execution_count": null,
   "metadata": {
    "cell_id": "e788c3e3b15c4b5f929a41be10eaadfe",
    "deepnote_cell_type": "code",
    "deepnote_to_be_reexecuted": true,
    "execution_context_id": "1d91464d-f40a-4f9a-bf91-c9cc6daed2d4",
    "execution_millis": 1,
    "execution_start": 1731600375222,
    "source_hash": "546bf030"
   },
   "outputs": [],
   "source": [
    "# Drop the nbr_ratings, nbr_reviews and nbr_interactions columns\n",
    "df_users = df_users.drop([\"nbr_ratings\", \"nbr_reviews\", \"nbr_interactions\"])\n",
    "    \n",
    "# Select the ratings and the reviews\n",
    "ratings = df_ratings.filter(pl.col(\"review\"))\n",
    "reviews = df_ratings.filter(~pl.col(\"review\"))\n",
    "\n",
    "# Get the user ids\n",
    "number_of_ratings = ratings.group_by(\"user_id\").agg(pl.col(\"rating\").count().alias(\"nbr_ratings\")).select(\"user_id\", \"nbr_ratings\")\n",
    "number_of_reviews = reviews.group_by(\"user_id\").agg(pl.col(\"rating\").count().alias(\"nbr_reviews\")).select(\"user_id\", \"nbr_reviews\")\n",
    "number_of_interactions = df_ratings.group_by(\"user_id\").agg(pl.col(\"rating\").count().alias(\"nbr_interactions\")).select(\"user_id\", \"nbr_interactions\")\n",
    "\n",
    "# Update the users dataset\n",
    "df_users = df_users.join(number_of_ratings, on=\"user_id\", how=\"left\")\n",
    "df_users = df_users.join(number_of_reviews, on=\"user_id\", how=\"left\")\n",
    "df_users = df_users.join(number_of_interactions, on=\"user_id\", how=\"left\")\n",
    "\n",
    "# Save the processed datasets\n",
    "df_users.write_parquet(f\"{DST_DATA_PATH}/users.pq\")"
   ]
  },
  {
   "cell_type": "markdown",
   "metadata": {
    "cell_id": "d5fb235d33874c848c589a275c24be5e",
    "deepnote_cell_type": "markdown"
   },
   "source": [
    "##### Breweries dataset\n",
    "The dataset is already clean and processed, we just need to save it in parquet format"
   ]
  },
  {
   "cell_type": "code",
   "execution_count": 34,
   "metadata": {
    "cell_id": "6a1b04f340cf4292a68cd31c4e61acfa",
    "deepnote_cell_type": "code",
    "deepnote_to_be_reexecuted": true,
    "execution_context_id": "1d91464d-f40a-4f9a-bf91-c9cc6daed2d4",
    "execution_millis": 0,
    "execution_start": 1731600375270,
    "source_hash": "18466b53"
   },
   "outputs": [],
   "source": [
    "df_breweries.write_parquet(f\"{DST_DATA_PATH}/breweries.pq\")"
   ]
  },
  {
   "cell_type": "markdown",
   "metadata": {
    "cell_id": "eba68dc92b894c23bb269c3a78e7efc7",
    "deepnote_cell_type": "markdown"
   },
   "source": [
    "##### Ratings dataset\n",
    "The dataset is already cleaned and process, we just need to save it in parquet format. We will both save a full version of the dataset and a version without the text of the reviews."
   ]
  },
  {
   "cell_type": "code",
   "execution_count": 35,
   "metadata": {
    "cell_id": "1a2a4273506a439e83bdc66a540dd63c",
    "deepnote_cell_type": "code",
    "deepnote_to_be_reexecuted": true,
    "execution_context_id": "1d91464d-f40a-4f9a-bf91-c9cc6daed2d4",
    "execution_millis": 0,
    "execution_start": 1731600375318,
    "source_hash": "a2ba1d28"
   },
   "outputs": [],
   "source": [
    "df_ratings.write_parquet(f\"{DST_DATA_PATH}/ratings.pq\")\n",
    "df_ratings_no_text = df_ratings.drop(\"text\")\n",
    "df_ratings_no_text.write_parquet(f\"{DST_DATA_PATH}/ratings_no_text.pq\")"
   ]
  },
  {
   "cell_type": "markdown",
   "metadata": {
    "cell_id": "1f3b7ba8009a4c12be4c14012d70b694",
    "deepnote_cell_type": "markdown"
   },
   "source": [
    "##### Beers dataset\n",
    "While for the previous datasets not much work was needed here multiple steps are needed. In particular:\n",
    "- We will change some of the columns of the dataset. In particular we are going to create a dataset that is similar to BeerAdvocate dataset to simplify the comparison between the two datasets.\n",
    "- Since we have removed some reviews and changed other datasets we are going to recompute the values in the beer dataset\n",
    "\n",
    "Additional data regarding the matching of the two datasets will be added in another notebook."
   ]
  },
  {
   "cell_type": "code",
   "execution_count": null,
   "metadata": {
    "cell_id": "8f3f12b1f3e84d2995123e75b9bdf587",
    "deepnote_cell_type": "code",
    "deepnote_to_be_reexecuted": true,
    "execution_context_id": "1d91464d-f40a-4f9a-bf91-c9cc6daed2d4",
    "execution_millis": 0,
    "execution_start": 1731600375366,
    "source_hash": "dbe390ba"
   },
   "outputs": [
    {
     "name": "stderr",
     "output_type": "stream",
     "text": [
      "100%|██████████| 273764/273764 [09:00<00:00, 506.43it/s]\n"
     ]
    }
   ],
   "source": [
    "rows = []\n",
    "for row in tqdm.tqdm(df_beers.rows(named=True)):\n",
    "    # Create the new dictionary\n",
    "    new_row = {}\n",
    "\n",
    "    # Compute general information\n",
    "    new_row[\"beer_id\"] = row[\"beer_id\"]\n",
    "    new_row[\"beer_name\"] = row[\"beer_name\"]\n",
    "    new_row[\"brewery_id\"] = row[\"brewery_id\"]\n",
    "    new_row[\"brewery_name\"] = row[\"brewery_name\"]\n",
    "    new_row[\"style\"] = row[\"style\"]\n",
    "    new_row[\"abv\"] = row[\"abv\"]\n",
    "\n",
    "    # Compute aggregated informations\n",
    "    reviews_elements = df_ratings_no_text.filter(pl.col(\"beer_id\") == row[\"beer_id\"])\n",
    "    new_row[\"rating_score_avg\"] = reviews_elements[\"rating\"].mean()\n",
    "    new_row[\"rating_score_std\"] = reviews_elements[\"rating\"].std()\n",
    "    new_row[\"rating_score_median\"] = reviews_elements[\"rating\"].median()\n",
    "\n",
    "    # Compute the number of interactions, nbr_ratings and nbr_reviews (here they are the same)\n",
    "    new_row[\"nbr_interactions\"] = reviews_elements.shape[0]\n",
    "    new_row[\"nbr_ratings\"] = reviews_elements.shape[0]\n",
    "    new_row[\"nbr_reviews\"] = reviews_elements.shape[0]\n",
    "\n",
    "    # Append the new row to the list of rows\n",
    "    rows.append(new_row)\n",
    "\n",
    "# Transform the data into a Polars DataFrame\n",
    "df_beers_aggregated = pl.DataFrame(rows)\n",
    "\n",
    "# Save the data\n",
    "df_beers_aggregated.write_parquet(f\"{DST_DATA_PATH}/beers.pq\")\n",
    "\n",
    "# Remove all the data [TO REMOVE]\n",
    "del df_beers\n",
    "del df_users\n",
    "del df_breweries\n",
    "del df_ratings"
   ]
  },
  {
   "cell_type": "markdown",
   "metadata": {},
   "source": [
    "## Computation of dropped values\n",
    "Here we will compute how much data for each dataset has been dropped. This step is needed to ensure that we still have enough data to work with after the data cleaning process.\n",
    "##### users dataset"
   ]
  },
  {
   "cell_type": "code",
   "execution_count": null,
   "metadata": {},
   "outputs": [
    {
     "name": "stdout",
     "output_type": "stream",
     "text": [
      "Number of students in the original dataset: 153704\n",
      "Number of students in the new dataset: 153704\n",
      "Percentage of students removed: 0.00%\n"
     ]
    }
   ],
   "source": [
    "# Load the original datasets\n",
    "df_users_original = pl.read_csv(f\"{SRC_DATA_PATH}/users.csv\")\n",
    "df_users = pl.read_parquet(f\"{DST_DATA_PATH}/users.pq\")\n",
    "# Do some computation\n",
    "original_number_of_students = df_users_original.shape[0]\n",
    "new_number_of_students = df_users.shape[0]\n",
    "\n",
    "# Print the results\n",
    "print(f\"Number of students in the original dataset: {original_number_of_students}\")\n",
    "print(f\"Number of students in the new dataset: {new_number_of_students}\")\n",
    "print(f\"Percentage of students removed: {(original_number_of_students - new_number_of_students) / original_number_of_students * 100:.2f}%\")"
   ]
  },
  {
   "cell_type": "markdown",
   "metadata": {},
   "source": [
    "##### Beers dataset"
   ]
  },
  {
   "cell_type": "code",
   "execution_count": null,
   "metadata": {},
   "outputs": [
    {
     "name": "stdout",
     "output_type": "stream",
     "text": [
      "Number of students in the original dataset: 280823\n",
      "Number of students in the new dataset: 273764\n",
      "Percentage of students removed: 2.51%\n"
     ]
    }
   ],
   "source": [
    "# Load the original datasets\n",
    "df_beers_original = pl.read_csv(f\"{SRC_DATA_PATH}/beers.csv\")\n",
    "df_beers = pl.read_parquet(f\"{DST_DATA_PATH}/beers.pq\")\n",
    "# Do some computation\n",
    "original_number_of_beers = df_beers_original.shape[0]\n",
    "new_number_of_beers = df_beers.shape[0]\n",
    "\n",
    "# Print the results\n",
    "print(f\"Number of beers in the original dataset: {original_number_of_beers}\")\n",
    "print(f\"Number of beers in the new dataset: {new_number_of_beers}\")\n",
    "print(f\"Percentage of beers removed: {(original_number_of_beers - new_number_of_beers) / original_number_of_beers * 100:.2f}%\")"
   ]
  },
  {
   "cell_type": "markdown",
   "metadata": {},
   "source": [
    "##### Breweries dataset"
   ]
  },
  {
   "cell_type": "code",
   "execution_count": null,
   "metadata": {},
   "outputs": [
    {
     "name": "stdout",
     "output_type": "stream",
     "text": [
      "Number of beers in the original dataset: 280823\n",
      "Number of beers in the new dataset: 273764\n",
      "Percentage of beers removed: 2.51%\n"
     ]
    }
   ],
   "source": [
    "# Load the original datasets\n",
    "df_breweries_original = pl.read_csv(f\"{SRC_DATA_PATH}/beers.csv\")\n",
    "df_breweries = pl.read_parquet(f\"{DST_DATA_PATH}/beers.pq\")\n",
    "# Do some computation\n",
    "original_number_of_breweries = df_breweries_original.shape[0]\n",
    "new_number_of_breweries = df_breweries.shape[0]\n",
    "\n",
    "# Print the results\n",
    "print(f\"Number of beers in the original dataset: {original_number_of_breweries}\")\n",
    "print(f\"Number of beers in the new dataset: {new_number_of_breweries}\")\n",
    "print(f\"Percentage of beers removed: {(original_number_of_breweries - new_number_of_breweries) / original_number_of_breweries * 100:.2f}%\")"
   ]
  },
  {
   "cell_type": "markdown",
   "metadata": {},
   "source": [
    "##### Ratings dataset"
   ]
  },
  {
   "cell_type": "code",
   "execution_count": 39,
   "metadata": {},
   "outputs": [
    {
     "name": "stdout",
     "output_type": "stream",
     "text": [
      "Number of reviews in the original dataset: 2589586\n",
      "Number of reviews in the new dataset: 2540122\n",
      "Percentage of reviews removed: 1.91%\n",
      "\n",
      "Number of ratings in the original dataset: 5803446\n",
      "Number of ratings in the new dataset: 5689251\n",
      "Percentage of ratings removed: 1.97%\n"
     ]
    }
   ],
   "source": [
    "# Load the original datasets\n",
    "df_reviews_original = pl.read_parquet(f\"{SRC_DATA_PATH}/ratings.pq\")\n",
    "df_reviews = pl.read_parquet(f\"{DST_DATA_PATH}/ratings_no_text.pq\")\n",
    "\n",
    "# Do some computation\n",
    "original_number_of_reviews = df_reviews_original.filter(pl.col(\"review\")).shape[0]\n",
    "original_number_of_ratings = df_reviews_original.filter(~pl.col(\"review\")).shape[0]\n",
    "new_number_of_reviews = df_reviews.filter(pl.col(\"review\")).shape[0]\n",
    "new_number_of_ratings = df_reviews.filter(~pl.col(\"review\")).shape[0]\n",
    "\n",
    "# Print the results\n",
    "print(f\"Number of reviews in the original dataset: {original_number_of_reviews}\")\n",
    "print(f\"Number of reviews in the new dataset: {new_number_of_reviews}\")\n",
    "print(f\"Percentage of reviews removed: {(original_number_of_reviews - new_number_of_reviews) / original_number_of_reviews * 100:.2f}%\")\n",
    "print()\n",
    "print(f\"Number of ratings in the original dataset: {original_number_of_ratings}\")\n",
    "print(f\"Number of ratings in the new dataset: {new_number_of_ratings}\")\n",
    "print(f\"Percentage of ratings removed: {(original_number_of_ratings - new_number_of_ratings) / original_number_of_ratings * 100:.2f}%\")"
   ]
  },
  {
   "cell_type": "markdown",
   "metadata": {},
   "source": [
    "##### Final discussion\n",
    "We see that in all the datasets the number of removed content is very little and we still have enough data to work with even if they are cleaned.\n",
    "## Conclusion\n",
    "In this notebook we have cleaned the BeerAdvocate dataset and we now have data ready to be used for further analysis. <br>\n",
    "Here we did focus on understanding the general structure of our data, clean them and produce processed files (in the format of parquet files) that can be easily loaded and used for further analysis."
   ]
  }
 ],
 "metadata": {
  "deepnote_notebook_id": "1a50ca2849134575906767af1b47127d",
  "kernelspec": {
   "display_name": "ADA",
   "language": "python",
   "name": "python3"
  },
  "language_info": {
   "codemirror_mode": {
    "name": "ipython",
    "version": 3
   },
   "file_extension": ".py",
   "mimetype": "text/x-python",
   "name": "python",
   "nbconvert_exporter": "python",
   "pygments_lexer": "ipython3",
   "version": "3.9.20"
  }
 },
 "nbformat": 4,
 "nbformat_minor": 0
}
