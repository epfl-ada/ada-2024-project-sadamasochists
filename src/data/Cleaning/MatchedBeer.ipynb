{
 "cells": [
  {
   "cell_type": "markdown",
   "metadata": {},
   "source": [
    "# Data Analysis and Cleaning of MatchedBeer Dataset\n",
    "\n",
    "The MatchedBeer dataset combines data from BeerAdvocate and RateBeer, two of the most prominent online platforms for beer ratings. This combined dataset was created to address the herding effect in online ratings, where early ratings can skew subsequent user opinions. By merging the two platforms, the MatchedBeer dataset allows for the study of the same beers rated independently on each platform, thereby providing a unique opportunity to analyze unbiased rating patterns.\n",
    "\n",
    "## Matching Process Overview\n",
    "The matching process is described in detail in the paper [\"When Sheep Shop: Measuring Herding Effects in Product Ratings with Natural Experiments\"](https://dlab.epfl.ch/people/west/pub/Lederrey-West_WWW-18.pdf), focusing on accurately aligning beers from both websites. The matching is performed in two phases to prioritize precision:\n",
    "\n",
    "1. **Brewery Alignment**: Breweries across BeerAdvocate and RateBeer are aligned based on their exact location (state or country), with names represented as TF-IDF vectors to compute cosine similarity.\n",
    "2. **Beer Alignment**: Within matched breweries, beers are aligned based on name similarity and require an exact match in alcohol by volume (ABV). Before matching, any shared tokens in brewery and beer names are removed to improve accuracy.\n",
    "\n",
    "The algorithm ensures high precision by setting strict thresholds for cosine similarity and enforcing a significant gap between the best and second-best matches. This approach results in a dataset where brewery matching has a reported precision of 99.6%, and beer matching achieves a precision of 100%, meaning that only highly confident matches are included, though some potential matches may be excluded.\n",
    "\n",
    "## Structure of MatchedBeer Dataset\n",
    "The dataset contains essential information on beers, breweries, users, and user ratings from both platforms. Since the user bases of BeerAdvocate and RateBeer differ geographically, the combined dataset reflects a more balanced view. BeerAdvocate is more U.S.-centric, while RateBeer has a more internationally diverse user base. Despite these differences, the matched dataset has been verified for both internal and external validity, making it well-suited for analyzing the influence of initial ratings on user perceptions across platforms.\n",
    "\n",
    "MatchedBeer provides insights into how early ratings impact subsequent ones by comparing ratings for the same beer on both sites, especially when early ratings on each platform differ significantly. By standardizing and aligning ratings across time and platforms, MatchedBeer reveals patterns that allow for the identification of herding effects, helping researchers understand the biases in user-generated ratings."
   ]
  },
  {
   "cell_type": "code",
   "execution_count": 5,
   "metadata": {},
   "outputs": [],
   "source": [
    "# Import all the necessary libraries\n",
    "import polars as pl\n",
    "import tqdm\n",
    "import os\n",
    "\n",
    "# Import the file in the utils folder\n",
    "import sys\n",
    "sys.path.append('../../utils')\n",
    "from data_desc import remove_whitespaces, describe_numbers, describe\n",
    "\n",
    "# Define the paths\n",
    "SRC_DATA_PATH = '../../../data/MatchedBeer'"
   ]
  },
  {
   "cell_type": "markdown",
   "metadata": {},
   "source": [
    "#### Data Exploration"
   ]
  },
  {
   "cell_type": "code",
   "execution_count": 6,
   "metadata": {},
   "outputs": [],
   "source": [
    "# This function loads and processes the matched_beer fioles so that all of the columns are appended with _ba or _rb depending on which dataset they are from\n",
    "def load_and_process_files(file_paths):\n",
    "    processed_dataframes = []\n",
    "    \n",
    "    for file_path in file_paths:\n",
    "        # Load the first row to get the data source identifiers (e.g., \"ba\", \"ba_1\", \"rb\", etc.)\n",
    "        header_row = pl.read_csv(file_path, n_rows=1, has_header=False)\n",
    "        column_source = header_row.row(0)\n",
    "        \n",
    "        # Clean the source identifiers to only keep \"ba\" or \"rb\" without any suffixes\n",
    "        source_identifiers = [source.split('_')[0] for source in column_source]\n",
    "        \n",
    "        # Load the actual data, skipping the first row\n",
    "        df = pl.read_csv(file_path, skip_rows=1)\n",
    "        \n",
    "        # Rename columns based on the cleaned source identifiers\n",
    "        new_column_names = [\n",
    "            f\"{name}_{source}\".replace(\"_duplicated_0\", \"\") for name, source in zip(df.columns, source_identifiers)\n",
    "        ]\n",
    "        df = df.rename({old: new for old, new in zip(df.columns, new_column_names)})\n",
    "        \n",
    "        # Append the processed DataFrame to the list\n",
    "        processed_dataframes.append(df)\n",
    "    \n",
    "    return processed_dataframes"
   ]
  },
  {
   "cell_type": "code",
   "execution_count": 7,
   "metadata": {},
   "outputs": [],
   "source": [
    "file_paths = [SRC_DATA_PATH + \"/beers.csv\", SRC_DATA_PATH + \"/breweries.csv\", SRC_DATA_PATH + \"/ratings.csv\", SRC_DATA_PATH + \"/users.csv\"]\n",
    "dataframes_list = load_and_process_files(file_paths)\n",
    "\n",
    "df_beers = dataframes_list[0]\n",
    "df_breweries = dataframes_list[1]\n",
    "df_ratings = dataframes_list[2]\n",
    "df_users = dataframes_list[3]"
   ]
  },
  {
   "cell_type": "markdown",
   "metadata": {},
   "source": [
    "##### Beers dataset\n",
    "We'll start by looking at the beers dataset."
   ]
  },
  {
   "cell_type": "code",
   "execution_count": 8,
   "metadata": {},
   "outputs": [
    {
     "data": {
      "text/html": [
       "<div><style>\n",
       ".dataframe > thead > tr,\n",
       ".dataframe > tbody > tr {\n",
       "  text-align: right;\n",
       "  white-space: pre-wrap;\n",
       "}\n",
       "</style>\n",
       "<small>shape: (5, 33)</small><table border=\"1\" class=\"dataframe\"><thead><tr><th>abv_ba</th><th>avg_ba</th><th>avg_computed_ba</th><th>avg_matched_valid_ratings_ba</th><th>ba_score_ba</th><th>beer_id_ba</th><th>beer_name_ba</th><th>beer_wout_brewery_name_ba</th><th>brewery_id_ba</th><th>brewery_name_ba</th><th>bros_score_ba</th><th>nbr_matched_valid_ratings_ba</th><th>nbr_ratings_ba</th><th>nbr_reviews_ba</th><th>style_ba</th><th>zscore_ba</th><th>abv_rb</th><th>avg_rb</th><th>avg_computed_rb</th><th>avg_matched_valid_ratings_rb</th><th>beer_id_rb</th><th>beer_name_rb</th><th>beer_wout_brewery_name_rb</th><th>brewery_id_rb</th><th>brewery_name_rb</th><th>nbr_matched_valid_ratings_rb</th><th>nbr_ratings_rb</th><th>overall_score_rb</th><th>style_rb</th><th>style_score_rb</th><th>zscore_rb</th><th>diff_scores</th><th>sim_scores</th></tr><tr><td>f64</td><td>f64</td><td>f64</td><td>f64</td><td>f64</td><td>i64</td><td>str</td><td>str</td><td>i64</td><td>str</td><td>f64</td><td>i64</td><td>i64</td><td>i64</td><td>str</td><td>f64</td><td>f64</td><td>f64</td><td>f64</td><td>f64</td><td>i64</td><td>str</td><td>str</td><td>i64</td><td>str</td><td>i64</td><td>i64</td><td>f64</td><td>str</td><td>f64</td><td>f64</td><td>f64</td><td>f64</td></tr></thead><tbody><tr><td>5.3</td><td>3.3</td><td>3.294545</td><td>3.3</td><td>82.0</td><td>118743</td><td>&quot;1814 Brown Ale&quot;</td><td>&quot;1814 Brown Ale&quot;</td><td>31492</td><td>&quot;Shebeen Brewing Company&quot;</td><td>null</td><td>3</td><td>11</td><td>3</td><td>&quot;American Brown Ale&quot;</td><td>-1.271668</td><td>5.3</td><td>2.64</td><td>2.0</td><td>2.0</td><td>282680</td><td>&quot;Shebeen 1814 Colonial Brown Al…</td><td>&quot;1814 Ale Colonial Brown&quot;</td><td>16166</td><td>&quot;Shebeen Brewing Company&quot;</td><td>1</td><td>1</td><td>null</td><td>&quot;Brown Ale&quot;</td><td>null</td><td>-2.511123</td><td>0.615975</td><td>0.806305</td></tr><tr><td>4.5</td><td>3.91</td><td>3.746923</td><td>3.6425</td><td>85.0</td><td>37060</td><td>&quot;Bramling Cross&quot;</td><td>&quot;Cross Bramling&quot;</td><td>8203</td><td>&quot;Paddock Wood Brewing Co.&quot;</td><td>null</td><td>12</td><td>13</td><td>12</td><td>&quot;English Bitter&quot;</td><td>-0.135749</td><td>4.5</td><td>2.85</td><td>3.15</td><td>3.15</td><td>146555</td><td>&quot;Paddock Wood Bramling Cross&quot;</td><td>&quot;Cross Bramling&quot;</td><td>5562</td><td>&quot;Paddock Wood Microbrewery&quot;</td><td>2</td><td>2</td><td>null</td><td>&quot;Bitter&quot;</td><td>null</td><td>-0.360609</td><td>1.0</td><td>1.0</td></tr><tr><td>6.9</td><td>3.77</td><td>3.77</td><td>null</td><td>null</td><td>219537</td><td>&quot;V22&quot;</td><td>&quot;V22&quot;</td><td>34426</td><td>&quot;Jailbreak Brewing Company&quot;</td><td>null</td><td>0</td><td>2</td><td>0</td><td>&quot;American IPA&quot;</td><td>-0.445024</td><td>6.9</td><td>null</td><td>null</td><td>null</td><td>407613</td><td>&quot;Jailbreak V22&quot;</td><td>&quot;V22&quot;</td><td>19493</td><td>&quot;Jailbreak Brewing Company&quot;</td><td>0</td><td>0</td><td>null</td><td>&quot;India Pale Ale (IPA)&quot;</td><td>null</td><td>null</td><td>1.0</td><td>1.0</td></tr><tr><td>4.5</td><td>4.21</td><td>4.21</td><td>null</td><td>null</td><td>264175</td><td>&quot;Cookies &amp; Cream&quot;</td><td>&quot;Cream Cookies&quot;</td><td>34063</td><td>&quot;Edmund&#x27;s Oast&quot;</td><td>null</td><td>0</td><td>1</td><td>0</td><td>&quot;American Stout&quot;</td><td>0.460288</td><td>4.5</td><td>3.26</td><td>3.9</td><td>3.9</td><td>486713</td><td>&quot;Edmunds Oast Cookies &amp; Cream&quot;</td><td>&quot;Cream Cookies&quot;</td><td>18935</td><td>&quot;Edmunds Oast&quot;</td><td>2</td><td>2</td><td>null</td><td>&quot;Sweet Stout&quot;</td><td>null</td><td>0.752968</td><td>1.0</td><td>1.0</td></tr><tr><td>5.0</td><td>null</td><td>null</td><td>null</td><td>null</td><td>177129</td><td>&quot;Mango Mae Hefeweizen&quot;</td><td>&quot;Mango Mae Hefeweizen&quot;</td><td>40904</td><td>&quot;PerroVida Craft Beer&quot;</td><td>null</td><td>0</td><td>0</td><td>0</td><td>&quot;Hefeweizen&quot;</td><td>null</td><td>5.0</td><td>null</td><td>null</td><td>null</td><td>278907</td><td>&quot;PerroVida Mango Mae Hefeweizen&quot;</td><td>&quot;Mango Mae Hefeweizen&quot;</td><td>18758</td><td>&quot;PerroVida Craft Beer&quot;</td><td>0</td><td>0</td><td>null</td><td>&quot;German Hefeweizen&quot;</td><td>null</td><td>null</td><td>1.0</td><td>1.0</td></tr></tbody></table></div>"
      ],
      "text/plain": [
       "shape: (5, 33)\n",
       "┌────────┬────────┬────────────┬────────────┬───┬────────────┬───────────┬────────────┬────────────┐\n",
       "│ abv_ba ┆ avg_ba ┆ avg_comput ┆ avg_matche ┆ … ┆ style_scor ┆ zscore_rb ┆ diff_score ┆ sim_scores │\n",
       "│ ---    ┆ ---    ┆ ed_ba      ┆ d_valid_ra ┆   ┆ e_rb       ┆ ---       ┆ s          ┆ ---        │\n",
       "│ f64    ┆ f64    ┆ ---        ┆ tings_ba   ┆   ┆ ---        ┆ f64       ┆ ---        ┆ f64        │\n",
       "│        ┆        ┆ f64        ┆ ---        ┆   ┆ f64        ┆           ┆ f64        ┆            │\n",
       "│        ┆        ┆            ┆ f64        ┆   ┆            ┆           ┆            ┆            │\n",
       "╞════════╪════════╪════════════╪════════════╪═══╪════════════╪═══════════╪════════════╪════════════╡\n",
       "│ 5.3    ┆ 3.3    ┆ 3.294545   ┆ 3.3        ┆ … ┆ null       ┆ -2.511123 ┆ 0.615975   ┆ 0.806305   │\n",
       "│ 4.5    ┆ 3.91   ┆ 3.746923   ┆ 3.6425     ┆ … ┆ null       ┆ -0.360609 ┆ 1.0        ┆ 1.0        │\n",
       "│ 6.9    ┆ 3.77   ┆ 3.77       ┆ null       ┆ … ┆ null       ┆ null      ┆ 1.0        ┆ 1.0        │\n",
       "│ 4.5    ┆ 4.21   ┆ 4.21       ┆ null       ┆ … ┆ null       ┆ 0.752968  ┆ 1.0        ┆ 1.0        │\n",
       "│ 5.0    ┆ null   ┆ null       ┆ null       ┆ … ┆ null       ┆ null      ┆ 1.0        ┆ 1.0        │\n",
       "└────────┴────────┴────────────┴────────────┴───┴────────────┴───────────┴────────────┴────────────┘"
      ]
     },
     "execution_count": 8,
     "metadata": {},
     "output_type": "execute_result"
    }
   ],
   "source": [
    "df_beers.sample(5)"
   ]
  },
  {
   "cell_type": "markdown",
   "metadata": {},
   "source": [
    "This dataset has the following structure\n",
    "\n",
    "| Column Name | Description |\n",
    "|-------------|-------------|\n",
    "| `beer_id_ba` / `beer_id_rb` | Unique identifier for each beer in BA/RB | \n",
    "| `beer_name_ba` / `beer_name_rb` | Name of the beer in BA/RB |\n",
    "| `beer_wout_brewery_name_ba` / `beer_wout_brewery_name_rb` | Beer name without brewery name in BA/RB |\n",
    "| `brewery_id_ba` / `brewery_id_rb` | Unique identifier for the brewery in BA/RB |\n",
    "| `brewery_name_ba` / `brewery_name_rb` | Name of the brewery in BA/RB |\n",
    "| `style_ba` / `style_rb` | Beer style in BA/RB |\n",
    "| `abv_ba` / `abv_rb` | Alcohol By Volume percentage in BA/RB |\n",
    "| `nbr_ratings_ba` / `nbr_ratings_rb` | Number of ratings in BA/RB |\n",
    "| `nbr_reviews_ba` | Number of reviews in BA |\n",
    "| `avg_ba` / `avg_rb` | Average rating in BA/RB |\n",
    "| `avg_computed_ba` / `avg_computed_rb` | Computed average rating in BA/RB |\n",
    "| `zscore_ba` / `zscore_rb` | Standardized score in BA/RB |\n",
    "| `nbr_matched_valid_ratings_ba` / `nbr_matched_valid_ratings_rb` | Number of matched valid ratings in BA/RB |\n",
    "| `avg_matched_valid_ratings_ba` / `avg_matched_valid_ratings_rb` | Average of matched valid ratings in BA/RB |\n",
    "| `ba_score_ba` | BeerAdvocate score |\n",
    "| `bros_score_ba` | Bros score in BA |\n",
    "| `overall_score_rb` | Overall score in RB |\n",
    "| `style_score_rb` | Style-specific score in RB |\n",
    "| `diff_scores` | Difference in scores between BA and RB |\n",
    "| `sim_scores` | Similarity in scores between BA and RB |\n",
    "\n",
    "Now that we have an idea what the structure of our datasets looks like, let's see if our dataset is complete or whether it contains a lot of missing entries."
   ]
  },
  {
   "cell_type": "code",
   "execution_count": 9,
   "metadata": {},
   "outputs": [
    {
     "name": "stdout",
     "output_type": "stream",
     "text": [
      "+------------------------------+---------+------------------+---------------+-----------+-----------------------+-------------------+\n",
      "| Column                       | Type    |   Not null count |   Nulls count |   Nulls % |   Unique values count |   Unique values % |\n",
      "|------------------------------+---------+------------------+---------------+-----------+-----------------------+-------------------|\n",
      "| abv_ba                       | Float64 |            45640 |             0 |    0.00 % |                   351 |            0.77 % |\n",
      "| avg_ba                       | Float64 |            40285 |          5355 |   11.73 % |                   373 |            0.93 % |\n",
      "| avg_computed_ba              | Float64 |            40285 |          5355 |   11.73 % |                 12090 |           30.01 % |\n",
      "| avg_matched_valid_ratings_ba | Float64 |            28272 |         17368 |   38.05 % |                  6658 |           23.55 % |\n",
      "| ba_score_ba                  | Float64 |            10499 |         35141 |   77.00 % |                    36 |            0.34 % |\n",
      "| beer_id_ba                   | Int64   |            45640 |             0 |    0.00 % |                 45640 |          100.00 % |\n",
      "| beer_name_ba                 | String  |            45640 |             0 |    0.00 % |                 41724 |           91.42 % |\n",
      "| beer_wout_brewery_name_ba    | String  |            45640 |             0 |    0.00 % |                 40061 |           87.78 % |\n",
      "| brewery_id_ba                | Int64   |            45640 |             0 |    0.00 % |                  6084 |           13.33 % |\n",
      "| brewery_name_ba              | String  |            45640 |             0 |    0.00 % |                  6084 |           13.33 % |\n",
      "| bros_score_ba                | Float64 |              727 |         44913 |   98.41 % |                    48 |            6.60 % |\n",
      "| nbr_matched_valid_ratings_ba | Int64   |            45640 |             0 |    0.00 % |                   359 |            0.79 % |\n",
      "| nbr_ratings_ba               | Int64   |            45640 |             0 |    0.00 % |                   672 |            1.47 % |\n",
      "| nbr_reviews_ba               | Int64   |            45640 |             0 |    0.00 % |                   349 |            0.76 % |\n",
      "| style_ba                     | String  |            45640 |             0 |    0.00 % |                   104 |            0.23 % |\n",
      "| zscore_ba                    | Float64 |            40285 |          5355 |   11.73 % |                 28315 |           70.29 % |\n",
      "| abv_rb                       | Float64 |            45640 |             0 |    0.00 % |                   351 |            0.77 % |\n",
      "| avg_rb                       | Float64 |            42155 |          3485 |    7.64 % |                   270 |            0.64 % |\n",
      "| avg_computed_rb              | Float64 |            42228 |          3412 |    7.48 % |                  9744 |           23.07 % |\n",
      "| avg_matched_valid_ratings_rb | Float64 |            42228 |          3412 |    7.48 % |                  9745 |           23.08 % |\n",
      "| beer_id_rb                   | Int64   |            45640 |             0 |    0.00 % |                 45640 |          100.00 % |\n",
      "| beer_name_rb                 | String  |            45640 |             0 |    0.00 % |                 45640 |          100.00 % |\n",
      "| beer_wout_brewery_name_rb    | String  |            45640 |             0 |    0.00 % |                 40366 |           88.44 % |\n",
      "| brewery_id_rb                | Int64   |            45640 |             0 |    0.00 % |                  6071 |           13.30 % |\n",
      "| brewery_name_rb              | String  |            45640 |             0 |    0.00 % |                  6071 |           13.30 % |\n",
      "| nbr_matched_valid_ratings_rb | Int64   |            45640 |             0 |    0.00 % |                   578 |            1.27 % |\n",
      "| nbr_ratings_rb               | Int64   |            45640 |             0 |    0.00 % |                   580 |            1.27 % |\n",
      "| overall_score_rb             | Float64 |            15698 |         29942 |   65.60 % |                   102 |            0.65 % |\n",
      "| style_rb                     | String  |            45640 |             0 |    0.00 % |                    80 |            0.18 % |\n",
      "| style_score_rb               | Float64 |            15698 |         29942 |   65.60 % |                   102 |            0.65 % |\n",
      "| zscore_rb                    | Float64 |            42228 |          3412 |    7.48 % |                 28961 |           68.58 % |\n",
      "| diff_scores                  | Float64 |            45640 |             0 |    0.00 % |                 18916 |           41.45 % |\n",
      "| sim_scores                   | Float64 |            45640 |             0 |    0.00 % |                  3784 |            8.29 % |\n",
      "+------------------------------+---------+------------------+---------------+-----------+-----------------------+-------------------+\n"
     ]
    }
   ],
   "source": [
    "describe(df_beers)"
   ]
  },
  {
   "cell_type": "code",
   "execution_count": 10,
   "metadata": {},
   "outputs": [
    {
     "name": "stdout",
     "output_type": "stream",
     "text": [
      "+------------------------------+-----------+-----------+-----------+------------+-----------+----------+---------+\n",
      "| Column                       |      Mean |       Std |       25% |        50% |       75% |      Min |     Max |\n",
      "|------------------------------+-----------+-----------+-----------+------------+-----------+----------+---------|\n",
      "| abv_ba                       |   6.32086 |   1.85773 |         5 |          6 |       7.2 |     0.38 |    67.5 |\n",
      "| avg_ba                       |   3.73237 |  0.439988 |      3.52 |       3.78 |         4 |        1 |       5 |\n",
      "| avg_computed_ba              |   3.72785 |  0.424824 |      3.52 |     3.7725 |         4 |        1 |       5 |\n",
      "| avg_matched_valid_ratings_ba |   3.74777 |  0.484775 |      3.52 |    3.80833 |     4.045 |        1 |       5 |\n",
      "| ba_score_ba                  |    84.871 |   3.28287 |        83 |         85 |        86 |       63 |     100 |\n",
      "| bros_score_ba                |   86.1623 |    8.5394 |        83 |         88 |        91 |       31 |     100 |\n",
      "| nbr_matched_valid_ratings_ba |   6.33271 |   42.5086 |         0 |          1 |         3 |        0 |    2968 |\n",
      "| nbr_ratings_ba               |   20.9458 |   137.768 |         1 |          3 |         8 |        0 |    9228 |\n",
      "| nbr_reviews_ba               |   5.97783 |   40.9554 |         0 |          1 |         2 |        0 |    2875 |\n",
      "| zscore_ba                    | -0.408295 |  0.806491 | -0.785424 |  -0.321596 | 0.0867333 |  -6.6557 | 2.21158 |\n",
      "| abv_rb                       |   6.32086 |   1.85773 |         5 |          6 |       7.2 |     0.38 |    67.5 |\n",
      "| avg_rb                       |   3.14212 |  0.287468 |      2.98 |       3.13 |      3.31 |        0 |    4.42 |\n",
      "| avg_computed_rb              |   3.37205 |  0.417036 |   3.15517 |       3.41 |      3.65 |      0.5 |       5 |\n",
      "| avg_matched_valid_ratings_rb |   3.37204 |  0.417038 |   3.15517 |       3.41 |      3.65 |      0.5 |       5 |\n",
      "| nbr_matched_valid_ratings_rb |   22.3619 |   80.1015 |         2 |          5 |        16 |        0 |    5270 |\n",
      "| nbr_ratings_rb               |   22.3628 |   80.1075 |         2 |          5 |        16 |        0 |    5272 |\n",
      "| overall_score_rb             |   62.6751 |   26.0847 |        43 |         65 |        87 |        0 |     100 |\n",
      "| style_score_rb               |   60.0962 |   27.6661 |        40 |         61 |        86 |        0 |     100 |\n",
      "| zscore_rb                    | -0.104638 |  0.732841 | -0.479511 | -0.0236959 |  0.364636 | -5.46035 | 2.94112 |\n",
      "| diff_scores                  |  0.797587 |  0.202589 |  0.618451 |   0.816497 |         1 | 0.400024 |       1 |\n",
      "| sim_scores                   |  0.986315 | 0.0423042 |         1 |          1 |         1 | 0.800006 |       1 |\n",
      "+------------------------------+-----------+-----------+-----------+------------+-----------+----------+---------+\n"
     ]
    }
   ],
   "source": [
    "describe_numbers(df_beers, filters =[\"beer_id_ba\", \"brewery_id_ba\", \"beer_id_rb\", \"brewery_id_rb\"])"
   ]
  },
  {
   "cell_type": "markdown",
   "metadata": {},
   "source": [
    "1. Alcohol By Volume (ABV)\n",
    "   - The `abv_ba` and `abv_rb` columns show identical distributions across BeerAdvocate and RateBeer, with a mean ABV of approximately 6.32%.\n",
    "   - This similarity suggests a good alignment in the types of beers reviewed on both platforms. The maximum ABV of 67.5% is possibly an outlier, likely representing rare extreme beers, as typical ABVs are much lower.\n",
    "\n",
    "2. Average Ratings (BeerAdvocate vs. RateBeer)\n",
    "   - The `avg_ba` (BeerAdvocate) mean is 3.73, while `avg_rb` (RateBeer) is significantly lower at 3.14.\n",
    "   - This aligns with previous findings that BeerAdvocate users tend to rate beers more generously than RateBeer users. The higher `std` value for `avg_ba` also indicates a wider range in BeerAdvocate’s ratings, suggesting more variability in user opinions.\n",
    "\n",
    "3. Computed Averages (Consistency in Ratings)\n",
    "   - `avg_computed_ba` and `avg_computed_rb` refer to recalculated averages, showing slightly lower standard deviations than their direct counterparts (`avg_ba` and `avg_rb`), indicating a slight smoothing effect.\n",
    "   - Both BeerAdvocate and RateBeer have computed averages (`avg_computed_ba` vs. `avg_computed_rb`) that are fairly close to the respective raw averages, implying that the original averages align well with user trends.\n",
    "\n",
    "4. Rating Counts\n",
    "   - The median `nbr_ratings_ba` (3) and `nbr_ratings_rb` (5) are relatively low, showing that many beers have few ratings on both sites, though RateBeer has slightly more ratings per beer on average.\n",
    "   - RateBeer’s broader user base also shows a higher standard deviation in the count of matched valid ratings (`nbr_matched_valid_ratings_rb` is 80.10 vs. 42.51 for BeerAdvocate), meaning some beers have far more reviews than others on RateBeer.\n",
    "\n",
    "5. Z-scores (Standardized Ratings)\n",
    "   - The mean `zscore_ba` (-0.41) is lower than `zscore_rb` (-0.10), suggesting BeerAdvocate users' ratings tend to deviate more below the mean, which may imply a slight rating inflation on RateBeer.\n",
    "   - BeerAdvocate’s z-scores also exhibit a broader spread, evidenced by a standard deviation of 0.81 compared to RateBeer's 0.73, reinforcing the idea that BeerAdvocate reviews show more polarized opinions.\n",
    "\n",
    "6. Score Difference and Similarity\n",
    "   - `diff_scores` has a mean of 0.798, which indicates a considerable average difference in the ratings across the two platforms.\n",
    "   - `sim_scores`, however, is high (mean of 0.986), suggesting that while individual score values differ, the rating trends between matched pairs are generally consistent."
   ]
  },
  {
   "cell_type": "markdown",
   "metadata": {},
   "source": [
    "##### Breweries dataset\n",
    "\n",
    "Now we can take a look at our breweries dataframe. For each platform, every brewery has a location, a name, and the amount of beers they produce, along with a unique identifier. We also have the similarity and difference scores between the breweries from the two platforms. The brewery location can be very useful for our research questions. We will look into this more later on in this notebook."
   ]
  },
  {
   "cell_type": "code",
   "execution_count": 11,
   "metadata": {},
   "outputs": [
    {
     "data": {
      "text/html": [
       "<div><style>\n",
       ".dataframe > thead > tr,\n",
       ".dataframe > tbody > tr {\n",
       "  text-align: right;\n",
       "  white-space: pre-wrap;\n",
       "}\n",
       "</style>\n",
       "<small>shape: (5, 10)</small><table border=\"1\" class=\"dataframe\"><thead><tr><th>id_ba</th><th>location_ba</th><th>name_ba</th><th>nbr_beers_ba</th><th>id_rb</th><th>location_rb</th><th>name_rb</th><th>nbr_beers_rb</th><th>diff_scores</th><th>sim_scores</th></tr><tr><td>i64</td><td>str</td><td>str</td><td>i64</td><td>i64</td><td>str</td><td>str</td><td>i64</td><td>f64</td><td>f64</td></tr></thead><tbody><tr><td>18188</td><td>&quot;England&quot;</td><td>&quot;Dunham Massey Brewing Company&quot;</td><td>17</td><td>9067</td><td>&quot;England&quot;</td><td>&quot;Dunham Massey&quot;</td><td>28</td><td>0.365064</td><td>0.967313</td></tr><tr><td>5707</td><td>&quot;Germany&quot;</td><td>&quot;Airbräu&quot;</td><td>8</td><td>860</td><td>&quot;Germany&quot;</td><td>&quot;Airbräu&quot;</td><td>11</td><td>1.0</td><td>1.0</td></tr><tr><td>6394</td><td>&quot;England&quot;</td><td>&quot;Alcazar Brewing Co.&quot;</td><td>11</td><td>3659</td><td>&quot;England&quot;</td><td>&quot;Alcazar&quot;</td><td>39</td><td>0.474283</td><td>0.903298</td></tr><tr><td>36697</td><td>&quot;Brazil&quot;</td><td>&quot;Morada Cia Etílica&quot;</td><td>11</td><td>13081</td><td>&quot;Brazil&quot;</td><td>&quot;Morada Cia Etílica&quot;</td><td>10</td><td>0.672809</td><td>1.0</td></tr><tr><td>34614</td><td>&quot;Scotland&quot;</td><td>&quot;Glenfinnan Brewery&quot;</td><td>0</td><td>8523</td><td>&quot;Scotland&quot;</td><td>&quot;Glenfinnan&quot;</td><td>3</td><td>0.662249</td><td>0.95591</td></tr></tbody></table></div>"
      ],
      "text/plain": [
       "shape: (5, 10)\n",
       "┌───────┬────────────┬────────────┬────────────┬───┬───────────┬───────────┬───────────┬───────────┐\n",
       "│ id_ba ┆ location_b ┆ name_ba    ┆ nbr_beers_ ┆ … ┆ name_rb   ┆ nbr_beers ┆ diff_scor ┆ sim_score │\n",
       "│ ---   ┆ a          ┆ ---        ┆ ba         ┆   ┆ ---       ┆ _rb       ┆ es        ┆ s         │\n",
       "│ i64   ┆ ---        ┆ str        ┆ ---        ┆   ┆ str       ┆ ---       ┆ ---       ┆ ---       │\n",
       "│       ┆ str        ┆            ┆ i64        ┆   ┆           ┆ i64       ┆ f64       ┆ f64       │\n",
       "╞═══════╪════════════╪════════════╪════════════╪═══╪═══════════╪═══════════╪═══════════╪═══════════╡\n",
       "│ 18188 ┆ England    ┆ Dunham     ┆ 17         ┆ … ┆ Dunham    ┆ 28        ┆ 0.365064  ┆ 0.967313  │\n",
       "│       ┆            ┆ Massey     ┆            ┆   ┆ Massey    ┆           ┆           ┆           │\n",
       "│       ┆            ┆ Brewing    ┆            ┆   ┆           ┆           ┆           ┆           │\n",
       "│       ┆            ┆ Company    ┆            ┆   ┆           ┆           ┆           ┆           │\n",
       "│ 5707  ┆ Germany    ┆ Airbräu    ┆ 8          ┆ … ┆ Airbräu   ┆ 11        ┆ 1.0       ┆ 1.0       │\n",
       "│ 6394  ┆ England    ┆ Alcazar    ┆ 11         ┆ … ┆ Alcazar   ┆ 39        ┆ 0.474283  ┆ 0.903298  │\n",
       "│       ┆            ┆ Brewing    ┆            ┆   ┆           ┆           ┆           ┆           │\n",
       "│       ┆            ┆ Co.        ┆            ┆   ┆           ┆           ┆           ┆           │\n",
       "│ 36697 ┆ Brazil     ┆ Morada Cia ┆ 11         ┆ … ┆ Morada    ┆ 10        ┆ 0.672809  ┆ 1.0       │\n",
       "│       ┆            ┆ Etílica    ┆            ┆   ┆ Cia       ┆           ┆           ┆           │\n",
       "│       ┆            ┆            ┆            ┆   ┆ Etílica   ┆           ┆           ┆           │\n",
       "│ 34614 ┆ Scotland   ┆ Glenfinnan ┆ 0          ┆ … ┆ Glenfinna ┆ 3         ┆ 0.662249  ┆ 0.95591   │\n",
       "│       ┆            ┆ Brewery    ┆            ┆   ┆ n         ┆           ┆           ┆           │\n",
       "└───────┴────────────┴────────────┴────────────┴───┴───────────┴───────────┴───────────┴───────────┘"
      ]
     },
     "execution_count": 11,
     "metadata": {},
     "output_type": "execute_result"
    }
   ],
   "source": [
    "df_breweries.sample(5)"
   ]
  },
  {
   "cell_type": "markdown",
   "metadata": {},
   "source": [
    "The dataset has the following structure\n",
    "\n",
    "| Column Name | Description |\n",
    "|-------------|-------------|\n",
    "| `id_ba` / `id_rb` | Unique identifier for each brewery in BA/RB | \n",
    "| `name_ba` / `name_rb` | Name of the brewery in BA/RB |\n",
    "| `location_ba` / `location_rb` | Geographic location of the brewery in BA/RB |\n",
    "| `nbr_beers_ba` / `nbr_beers_rb` | Number of beers produced by the brewery in BA/RB |\n",
    "| `diff_scores` | Difference in scores between BA and RB |\n",
    "| `sim_scores` | Similarity in scores between BA and RB |"
   ]
  },
  {
   "cell_type": "code",
   "execution_count": 12,
   "metadata": {},
   "outputs": [
    {
     "name": "stdout",
     "output_type": "stream",
     "text": [
      "+--------------+---------+------------------+---------------+-----------+-----------------------+-------------------+\n",
      "| Column       | Type    |   Not null count |   Nulls count |   Nulls % |   Unique values count |   Unique values % |\n",
      "|--------------+---------+------------------+---------------+-----------+-----------------------+-------------------|\n",
      "| id_ba        | Int64   |             8281 |             0 |    0.00 % |                  8281 |          100.00 % |\n",
      "| location_ba  | String  |             8281 |             0 |    0.00 % |                   205 |            2.48 % |\n",
      "| name_ba      | String  |             8281 |             0 |    0.00 % |                  8281 |          100.00 % |\n",
      "| nbr_beers_ba | Int64   |             8281 |             0 |    0.00 % |                   231 |            2.79 % |\n",
      "| id_rb        | Int64   |             8281 |             0 |    0.00 % |                  8235 |           99.44 % |\n",
      "| location_rb  | String  |             8281 |             0 |    0.00 % |                   205 |            2.48 % |\n",
      "| name_rb      | String  |             8281 |             0 |    0.00 % |                  8235 |           99.44 % |\n",
      "| nbr_beers_rb | Int64   |             8281 |             0 |    0.00 % |                   244 |            2.95 % |\n",
      "| diff_scores  | Float64 |             8281 |             0 |    0.00 % |                  4471 |           53.99 % |\n",
      "| sim_scores   | Float64 |             8281 |             0 |    0.00 % |                  1538 |           18.57 % |\n",
      "+--------------+---------+------------------+---------------+-----------+-----------------------+-------------------+\n"
     ]
    }
   ],
   "source": [
    "describe(df_breweries)"
   ]
  },
  {
   "cell_type": "code",
   "execution_count": 13,
   "metadata": {},
   "outputs": [
    {
     "name": "stdout",
     "output_type": "stream",
     "text": [
      "+--------------+---------+------------------+---------------+-----------+-----------------------+-------------------+\n",
      "| Column       | Type    |   Not null count |   Nulls count |   Nulls % |   Unique values count |   Unique values % |\n",
      "|--------------+---------+------------------+---------------+-----------+-----------------------+-------------------|\n",
      "| location_ba  | String  |             8281 |             0 |    0.00 % |                   205 |            2.48 % |\n",
      "| name_ba      | String  |             8281 |             0 |    0.00 % |                  8281 |          100.00 % |\n",
      "| nbr_beers_ba | Int64   |             8281 |             0 |    0.00 % |                   231 |            2.79 % |\n",
      "| location_rb  | String  |             8281 |             0 |    0.00 % |                   205 |            2.48 % |\n",
      "| name_rb      | String  |             8281 |             0 |    0.00 % |                  8235 |           99.44 % |\n",
      "| nbr_beers_rb | Int64   |             8281 |             0 |    0.00 % |                   244 |            2.95 % |\n",
      "| diff_scores  | Float64 |             8281 |             0 |    0.00 % |                  4471 |           53.99 % |\n",
      "| sim_scores   | Float64 |             8281 |             0 |    0.00 % |                  1538 |           18.57 % |\n",
      "+--------------+---------+------------------+---------------+-----------+-----------------------+-------------------+\n"
     ]
    }
   ],
   "source": [
    "describe(df_breweries, filters=[\"id_ba\", \"id_rb\"])"
   ]
  },
  {
   "cell_type": "markdown",
   "metadata": {},
   "source": [
    "For our breweries on both platforms, we have no missing values (in this matched data)."
   ]
  },
  {
   "cell_type": "markdown",
   "metadata": {},
   "source": [
    "##### Users dataset\n",
    "\n",
    "**Note**: The users_approx data is essentailly exactly the same however rather than users being matched exactly by username across the two platforms, they are matched using a TF-IDF vectorizer and cosine similarity. Users are matched if username is close enough and same location.\n",
    "\n",
    "For each of our users (for each platform), we have their number of ratings/reviews, their ID, their name, the timestamp of when they joined and their location. The location is interesting for us, along with the number of reviews of each user."
   ]
  },
  {
   "cell_type": "code",
   "execution_count": 14,
   "metadata": {},
   "outputs": [
    {
     "data": {
      "text/html": [
       "<div><style>\n",
       ".dataframe > thead > tr,\n",
       ".dataframe > tbody > tr {\n",
       "  text-align: right;\n",
       "  white-space: pre-wrap;\n",
       "}\n",
       "</style>\n",
       "<small>shape: (5, 13)</small><table border=\"1\" class=\"dataframe\"><thead><tr><th>joined_ba</th><th>location_ba</th><th>nbr_ratings_ba</th><th>nbr_reviews_ba</th><th>user_id_ba</th><th>user_name_ba</th><th>user_name_lower_ba</th><th>joined_rb</th><th>location_rb</th><th>nbr_ratings_rb</th><th>user_id_rb</th><th>user_name_rb</th><th>user_name_lower_rb</th></tr><tr><td>f64</td><td>str</td><td>i64</td><td>i64</td><td>str</td><td>str</td><td>str</td><td>f64</td><td>str</td><td>i64</td><td>i64</td><td>str</td><td>str</td></tr></thead><tbody><tr><td>1.3016e9</td><td>&quot;United States, Wisconsin&quot;</td><td>20</td><td>20</td><td>&quot;scones.587710&quot;</td><td>&quot;scones&quot;</td><td>&quot;scones&quot;</td><td>1.3022e9</td><td>&quot;United States, Wisconsin&quot;</td><td>7</td><td>126563</td><td>&quot;scones&quot;</td><td>&quot;scones&quot;</td></tr><tr><td>1.4030e9</td><td>&quot;United States, Oklahoma&quot;</td><td>112</td><td>3</td><td>&quot;lawsonciv.807685&quot;</td><td>&quot;lawsonciv&quot;</td><td>&quot;lawsonciv&quot;</td><td>1.2549e9</td><td>&quot;United States, Oklahoma&quot;</td><td>23</td><td>96278</td><td>&quot;Lawsonciv&quot;</td><td>&quot;lawsonciv&quot;</td></tr><tr><td>1.3271e9</td><td>&quot;United States, Illinois&quot;</td><td>1176</td><td>107</td><td>&quot;docrock.655960&quot;</td><td>&quot;Docrock&quot;</td><td>&quot;docrock&quot;</td><td>1.3888e9</td><td>&quot;United States, Illinois&quot;</td><td>3</td><td>295871</td><td>&quot;DocRock&quot;</td><td>&quot;docrock&quot;</td></tr><tr><td>1.3804e9</td><td>&quot;United States, North Carolina&quot;</td><td>6</td><td>0</td><td>&quot;gurn13.756292&quot;</td><td>&quot;Gurn13&quot;</td><td>&quot;gurn13&quot;</td><td>1.3795e9</td><td>&quot;United States, North Carolina&quot;</td><td>3</td><td>279873</td><td>&quot;gurn13&quot;</td><td>&quot;gurn13&quot;</td></tr><tr><td>1.1201e9</td><td>&quot;United States, Oregon&quot;</td><td>7</td><td>7</td><td>&quot;kevinphish.26808&quot;</td><td>&quot;kevinphish&quot;</td><td>&quot;kevinphish&quot;</td><td>1.1398e9</td><td>&quot;United States, Oregon&quot;</td><td>23</td><td>33493</td><td>&quot;kevinphish&quot;</td><td>&quot;kevinphish&quot;</td></tr></tbody></table></div>"
      ],
      "text/plain": [
       "shape: (5, 13)\n",
       "┌───────────┬───────────┬───────────┬───────────┬───┬───────────┬───────────┬───────────┬──────────┐\n",
       "│ joined_ba ┆ location_ ┆ nbr_ratin ┆ nbr_revie ┆ … ┆ nbr_ratin ┆ user_id_r ┆ user_name ┆ user_nam │\n",
       "│ ---       ┆ ba        ┆ gs_ba     ┆ ws_ba     ┆   ┆ gs_rb     ┆ b         ┆ _rb       ┆ e_lower_ │\n",
       "│ f64       ┆ ---       ┆ ---       ┆ ---       ┆   ┆ ---       ┆ ---       ┆ ---       ┆ rb       │\n",
       "│           ┆ str       ┆ i64       ┆ i64       ┆   ┆ i64       ┆ i64       ┆ str       ┆ ---      │\n",
       "│           ┆           ┆           ┆           ┆   ┆           ┆           ┆           ┆ str      │\n",
       "╞═══════════╪═══════════╪═══════════╪═══════════╪═══╪═══════════╪═══════════╪═══════════╪══════════╡\n",
       "│ 1.3016e9  ┆ United    ┆ 20        ┆ 20        ┆ … ┆ 7         ┆ 126563    ┆ scones    ┆ scones   │\n",
       "│           ┆ States,   ┆           ┆           ┆   ┆           ┆           ┆           ┆          │\n",
       "│           ┆ Wisconsin ┆           ┆           ┆   ┆           ┆           ┆           ┆          │\n",
       "│ 1.4030e9  ┆ United    ┆ 112       ┆ 3         ┆ … ┆ 23        ┆ 96278     ┆ Lawsonciv ┆ lawsonci │\n",
       "│           ┆ States,   ┆           ┆           ┆   ┆           ┆           ┆           ┆ v        │\n",
       "│           ┆ Oklahoma  ┆           ┆           ┆   ┆           ┆           ┆           ┆          │\n",
       "│ 1.3271e9  ┆ United    ┆ 1176      ┆ 107       ┆ … ┆ 3         ┆ 295871    ┆ DocRock   ┆ docrock  │\n",
       "│           ┆ States,   ┆           ┆           ┆   ┆           ┆           ┆           ┆          │\n",
       "│           ┆ Illinois  ┆           ┆           ┆   ┆           ┆           ┆           ┆          │\n",
       "│ 1.3804e9  ┆ United    ┆ 6         ┆ 0         ┆ … ┆ 3         ┆ 279873    ┆ gurn13    ┆ gurn13   │\n",
       "│           ┆ States,   ┆           ┆           ┆   ┆           ┆           ┆           ┆          │\n",
       "│           ┆ North     ┆           ┆           ┆   ┆           ┆           ┆           ┆          │\n",
       "│           ┆ Carolina  ┆           ┆           ┆   ┆           ┆           ┆           ┆          │\n",
       "│ 1.1201e9  ┆ United    ┆ 7         ┆ 7         ┆ … ┆ 23        ┆ 33493     ┆ kevinphis ┆ kevinphi │\n",
       "│           ┆ States,   ┆           ┆           ┆   ┆           ┆           ┆ h         ┆ sh       │\n",
       "│           ┆ Oregon    ┆           ┆           ┆   ┆           ┆           ┆           ┆          │\n",
       "└───────────┴───────────┴───────────┴───────────┴───┴───────────┴───────────┴───────────┴──────────┘"
      ]
     },
     "execution_count": 14,
     "metadata": {},
     "output_type": "execute_result"
    }
   ],
   "source": [
    "df_users.sample(5)"
   ]
  },
  {
   "cell_type": "markdown",
   "metadata": {},
   "source": [
    "The dataset has the following structure\n",
    "| Column Name | Description |\n",
    "|-------------|-------------|\n",
    "| `user_id_ba` / `user_id_rb` | Unique identifier for each user in BA/RB |\n",
    "| `user_name_ba` / `user_name_rb` | Username of the reviewer in BA/RB |\n",
    "| `user_name_lower_ba` / `user_name_lower_rb` | Lowercase username in BA/RB |\n",
    "| `joined_ba` / `joined_rb` | Date when the user joined BA/RB |\n",
    "| `location_ba` / `location_rb` | Geographic location of the user in BA/RB |\n",
    "| `nbr_ratings_ba` / `nbr_ratings_rb` | Number of ratings submitted by the user in BA/RB |\n",
    "| `nbr_reviews_ba` | Number of reviews submitted by the user in BA |"
   ]
  },
  {
   "cell_type": "code",
   "execution_count": 15,
   "metadata": {},
   "outputs": [
    {
     "name": "stdout",
     "output_type": "stream",
     "text": [
      "+--------------------+---------+------------------+---------------+-----------+-----------------------+-------------------+\n",
      "| Column             | Type    |   Not null count |   Nulls count |   Nulls % |   Unique values count |   Unique values % |\n",
      "|--------------------+---------+------------------+---------------+-----------+-----------------------+-------------------|\n",
      "| joined_ba          | Float64 |             3020 |             0 |    0.00 % |                  2205 |           73.01 % |\n",
      "| location_ba        | String  |             3020 |             0 |    0.00 % |                   110 |            3.64 % |\n",
      "| nbr_ratings_ba     | Int64   |             3020 |             0 |    0.00 % |                   629 |           20.83 % |\n",
      "| nbr_reviews_ba     | Int64   |             3020 |             0 |    0.00 % |                   461 |           15.26 % |\n",
      "| user_id_ba         | String  |             3020 |             0 |    0.00 % |                  3020 |          100.00 % |\n",
      "| user_name_ba       | String  |             3020 |             0 |    0.00 % |                  3020 |          100.00 % |\n",
      "| user_name_lower_ba | String  |             3020 |             0 |    0.00 % |                  3020 |          100.00 % |\n",
      "| joined_rb          | Float64 |             3020 |             0 |    0.00 % |                  2179 |           72.15 % |\n",
      "| location_rb        | String  |             3020 |             0 |    0.00 % |                   110 |            3.64 % |\n",
      "| nbr_ratings_rb     | Int64   |             3020 |             0 |    0.00 % |                   564 |           18.68 % |\n",
      "| user_id_rb         | Int64   |             3020 |             0 |    0.00 % |                  3020 |          100.00 % |\n",
      "| user_name_rb       | String  |             3020 |             0 |    0.00 % |                  3020 |          100.00 % |\n",
      "| user_name_lower_rb | String  |             3020 |             0 |    0.00 % |                  3020 |          100.00 % |\n",
      "+--------------------+---------+------------------+---------------+-----------+-----------------------+-------------------+\n"
     ]
    }
   ],
   "source": [
    "describe(df_users)"
   ]
  },
  {
   "cell_type": "code",
   "execution_count": 16,
   "metadata": {},
   "outputs": [
    {
     "name": "stdout",
     "output_type": "stream",
     "text": [
      "+----------------+-------------+-------------+-------------+-------------+-------------+-------------+-------------+\n",
      "| Column         |        Mean |         Std |         25% |         50% |         75% |         Min |         Max |\n",
      "|----------------+-------------+-------------+-------------+-------------+-------------+-------------+-------------|\n",
      "| joined_ba      | 1.27904e+09 | 1.09301e+08 | 1.20316e+09 | 1.28092e+09 | 1.36878e+09 | 9.81112e+08 |  1.5015e+09 |\n",
      "| nbr_ratings_ba |     219.902 |     712.113 |           2 |          13 |         112 |           1 |       12046 |\n",
      "| nbr_reviews_ba |     125.312 |     471.773 |           1 |           3 |          31 |           0 |        7593 |\n",
      "| joined_rb      | 1.28179e+09 | 1.09276e+08 | 1.20376e+09 | 1.29604e+09 | 1.36369e+09 |  9.5683e+08 | 1.50037e+09 |\n",
      "| nbr_ratings_rb |     285.698 |     1186.46 |           2 |           5 |          42 |           1 |       20678 |\n",
      "+----------------+-------------+-------------+-------------+-------------+-------------+-------------+-------------+\n"
     ]
    }
   ],
   "source": [
    "describe_numbers(df_users, filters=[\"user_id_ba\", \"user_id_rb\"])"
   ]
  },
  {
   "cell_type": "markdown",
   "metadata": {},
   "source": [
    "To make the `joined` columns more readable we cast them to a datetime object."
   ]
  },
  {
   "cell_type": "code",
   "execution_count": 17,
   "metadata": {},
   "outputs": [
    {
     "data": {
      "text/html": [
       "<div><style>\n",
       ".dataframe > thead > tr,\n",
       ".dataframe > tbody > tr {\n",
       "  text-align: right;\n",
       "  white-space: pre-wrap;\n",
       "}\n",
       "</style>\n",
       "<small>shape: (5, 13)</small><table border=\"1\" class=\"dataframe\"><thead><tr><th>joined_ba</th><th>location_ba</th><th>nbr_ratings_ba</th><th>nbr_reviews_ba</th><th>user_id_ba</th><th>user_name_ba</th><th>user_name_lower_ba</th><th>joined_rb</th><th>location_rb</th><th>nbr_ratings_rb</th><th>user_id_rb</th><th>user_name_rb</th><th>user_name_lower_rb</th></tr><tr><td>datetime[ms]</td><td>str</td><td>i64</td><td>i64</td><td>str</td><td>str</td><td>str</td><td>datetime[ms]</td><td>str</td><td>i64</td><td>i64</td><td>str</td><td>str</td></tr></thead><tbody><tr><td>2013-06-19 10:00:00</td><td>&quot;Spain&quot;</td><td>83</td><td>0</td><td>&quot;torriman.737815&quot;</td><td>&quot;torriman&quot;</td><td>&quot;torriman&quot;</td><td>2013-06-22 10:00:00</td><td>&quot;Spain&quot;</td><td>21</td><td>265436</td><td>&quot;torriman&quot;</td><td>&quot;torriman&quot;</td></tr><tr><td>2010-03-20 11:00:00</td><td>&quot;United States, Virginia&quot;</td><td>3</td><td>0</td><td>&quot;sasmall.440116&quot;</td><td>&quot;sasmall&quot;</td><td>&quot;sasmall&quot;</td><td>2010-06-29 10:00:00</td><td>&quot;United States, Virginia&quot;</td><td>3</td><td>109007</td><td>&quot;sasmall&quot;</td><td>&quot;sasmall&quot;</td></tr><tr><td>2009-06-05 10:00:00</td><td>&quot;United States, Michigan&quot;</td><td>1</td><td>1</td><td>&quot;meadowswine.337218&quot;</td><td>&quot;Meadowswine&quot;</td><td>&quot;meadowswine&quot;</td><td>2008-08-16 10:00:00</td><td>&quot;United States, Michigan&quot;</td><td>3</td><td>80329</td><td>&quot;Meadowswine&quot;</td><td>&quot;meadowswine&quot;</td></tr><tr><td>2003-09-22 10:00:00</td><td>&quot;United States, Colorado&quot;</td><td>1392</td><td>1392</td><td>&quot;crosling.3023&quot;</td><td>&quot;Crosling&quot;</td><td>&quot;crosling&quot;</td><td>2004-09-28 10:00:00</td><td>&quot;United States, Colorado&quot;</td><td>1539</td><td>15719</td><td>&quot;Crosling&quot;</td><td>&quot;crosling&quot;</td></tr><tr><td>2011-03-26 11:00:00</td><td>&quot;United States, California&quot;</td><td>2</td><td>0</td><td>&quot;niekon.585329&quot;</td><td>&quot;Niekon&quot;</td><td>&quot;niekon&quot;</td><td>2014-02-03 11:00:00</td><td>&quot;United States, California&quot;</td><td>8</td><td>301012</td><td>&quot;Niekon&quot;</td><td>&quot;niekon&quot;</td></tr></tbody></table></div>"
      ],
      "text/plain": [
       "shape: (5, 13)\n",
       "┌───────────┬───────────┬───────────┬───────────┬───┬───────────┬───────────┬───────────┬──────────┐\n",
       "│ joined_ba ┆ location_ ┆ nbr_ratin ┆ nbr_revie ┆ … ┆ nbr_ratin ┆ user_id_r ┆ user_name ┆ user_nam │\n",
       "│ ---       ┆ ba        ┆ gs_ba     ┆ ws_ba     ┆   ┆ gs_rb     ┆ b         ┆ _rb       ┆ e_lower_ │\n",
       "│ datetime[ ┆ ---       ┆ ---       ┆ ---       ┆   ┆ ---       ┆ ---       ┆ ---       ┆ rb       │\n",
       "│ ms]       ┆ str       ┆ i64       ┆ i64       ┆   ┆ i64       ┆ i64       ┆ str       ┆ ---      │\n",
       "│           ┆           ┆           ┆           ┆   ┆           ┆           ┆           ┆ str      │\n",
       "╞═══════════╪═══════════╪═══════════╪═══════════╪═══╪═══════════╪═══════════╪═══════════╪══════════╡\n",
       "│ 2013-06-1 ┆ Spain     ┆ 83        ┆ 0         ┆ … ┆ 21        ┆ 265436    ┆ torriman  ┆ torriman │\n",
       "│ 9         ┆           ┆           ┆           ┆   ┆           ┆           ┆           ┆          │\n",
       "│ 10:00:00  ┆           ┆           ┆           ┆   ┆           ┆           ┆           ┆          │\n",
       "│ 2010-03-2 ┆ United    ┆ 3         ┆ 0         ┆ … ┆ 3         ┆ 109007    ┆ sasmall   ┆ sasmall  │\n",
       "│ 0         ┆ States,   ┆           ┆           ┆   ┆           ┆           ┆           ┆          │\n",
       "│ 11:00:00  ┆ Virginia  ┆           ┆           ┆   ┆           ┆           ┆           ┆          │\n",
       "│ 2009-06-0 ┆ United    ┆ 1         ┆ 1         ┆ … ┆ 3         ┆ 80329     ┆ Meadowswi ┆ meadowsw │\n",
       "│ 5         ┆ States,   ┆           ┆           ┆   ┆           ┆           ┆ ne        ┆ ine      │\n",
       "│ 10:00:00  ┆ Michigan  ┆           ┆           ┆   ┆           ┆           ┆           ┆          │\n",
       "│ 2003-09-2 ┆ United    ┆ 1392      ┆ 1392      ┆ … ┆ 1539      ┆ 15719     ┆ Crosling  ┆ crosling │\n",
       "│ 2         ┆ States,   ┆           ┆           ┆   ┆           ┆           ┆           ┆          │\n",
       "│ 10:00:00  ┆ Colorado  ┆           ┆           ┆   ┆           ┆           ┆           ┆          │\n",
       "│ 2011-03-2 ┆ United    ┆ 2         ┆ 0         ┆ … ┆ 8         ┆ 301012    ┆ Niekon    ┆ niekon   │\n",
       "│ 6         ┆ States,   ┆           ┆           ┆   ┆           ┆           ┆           ┆          │\n",
       "│ 11:00:00  ┆ Californi ┆           ┆           ┆   ┆           ┆           ┆           ┆          │\n",
       "│           ┆ a         ┆           ┆           ┆   ┆           ┆           ┆           ┆          │\n",
       "└───────────┴───────────┴───────────┴───────────┴───┴───────────┴───────────┴───────────┴──────────┘"
      ]
     },
     "execution_count": 17,
     "metadata": {},
     "output_type": "execute_result"
    }
   ],
   "source": [
    "df_users = df_users.with_columns((pl.col(\"joined_ba\").cast(pl.Int64) * 1000).cast(pl.Datetime(\"ms\")))\n",
    "df_users = df_users.with_columns((pl.col(\"joined_rb\").cast(pl.Int64) * 1000).cast(pl.Datetime(\"ms\")))\n",
    "df_users.sample(5)"
   ]
  },
  {
   "cell_type": "markdown",
   "metadata": {},
   "source": [
    "##### Ratings"
   ]
  },
  {
   "cell_type": "code",
   "execution_count": 18,
   "metadata": {},
   "outputs": [
    {
     "data": {
      "text/html": [
       "<div><style>\n",
       ".dataframe > thead > tr,\n",
       ".dataframe > tbody > tr {\n",
       "  text-align: right;\n",
       "  white-space: pre-wrap;\n",
       "}\n",
       "</style>\n",
       "<small>shape: (5, 33)</small><table border=\"1\" class=\"dataframe\"><thead><tr><th>abv_ba</th><th>appearance_ba</th><th>aroma_ba</th><th>beer_id_ba</th><th>beer_name_ba</th><th>brewery_id_ba</th><th>brewery_name_ba</th><th>date_ba</th><th>overall_ba</th><th>palate_ba</th><th>rating_ba</th><th>review_ba</th><th>style_ba</th><th>taste_ba</th><th>text_ba</th><th>user_id_ba</th><th>user_name_ba</th><th>abv_rb</th><th>appearance_rb</th><th>aroma_rb</th><th>beer_id_rb</th><th>beer_name_rb</th><th>brewery_id_rb</th><th>brewery_name_rb</th><th>date_rb</th><th>overall_rb</th><th>palate_rb</th><th>rating_rb</th><th>style_rb</th><th>taste_rb</th><th>text_rb</th><th>user_id_rb</th><th>user_name_rb</th></tr><tr><td>f64</td><td>f64</td><td>f64</td><td>i64</td><td>str</td><td>i64</td><td>str</td><td>i64</td><td>f64</td><td>f64</td><td>f64</td><td>bool</td><td>str</td><td>f64</td><td>str</td><td>str</td><td>str</td><td>f64</td><td>f64</td><td>f64</td><td>i64</td><td>str</td><td>i64</td><td>str</td><td>i64</td><td>f64</td><td>f64</td><td>f64</td><td>str</td><td>f64</td><td>str</td><td>i64</td><td>str</td></tr></thead><tbody><tr><td>8.0</td><td>4.75</td><td>4.75</td><td>277238</td><td>&quot;Unique Friendshipz&quot;</td><td>41018</td><td>&quot;The Veil Brewing Co.&quot;</td><td>1496311200</td><td>4.5</td><td>4.75</td><td>4.6</td><td>true</td><td>&quot;American Double / Imperial IPA&quot;</td><td>4.5</td><td>&quot;Sample at Mikkeller Beer Celeb…</td><td>&quot;ciocanelu.691982&quot;</td><td>&quot;Ciocanelu&quot;</td><td>8.0</td><td>5.0</td><td>9.0</td><td>507188</td><td>&quot;The Veil Unique Friendshipz&quot;</td><td>26864</td><td>&quot;The Veil Brewing Company&quot;</td><td>1496397600</td><td>18.0</td><td>4.0</td><td>4.5</td><td>&quot;Imperial IPA&quot;</td><td>9.0</td><td>&quot;Sample at Mikkeller Beer Celeb…</td><td>274310</td><td>&quot;ciocanelu&quot;</td></tr><tr><td>7.6</td><td>4.0</td><td>4.0</td><td>91467</td><td>&quot;Sigtuna Dark Easter Ale&quot;</td><td>14439</td><td>&quot;Sigtuna Brygghus&quot;</td><td>1395572400</td><td>4.25</td><td>3.0</td><td>3.95</td><td>true</td><td>&quot;American Black Ale&quot;</td><td>4.0</td><td>&quot;Bottle from Systembolaget. The…</td><td>&quot;craftbeersweden.779415&quot;</td><td>&quot;craftbeersweden&quot;</td><td>7.6</td><td>4.0</td><td>8.0</td><td>201942</td><td>&quot;Sigtuna Dark Easter Ale&quot;</td><td>6774</td><td>&quot;Sigtuna Brygghus&quot;</td><td>1364810400</td><td>17.0</td><td>3.0</td><td>4.0</td><td>&quot;American Strong Ale&quot;</td><td>8.0</td><td>&quot;Bottle from Systembolaget. The…</td><td>133537</td><td>&quot;craftbeersweden&quot;</td></tr><tr><td>6.0</td><td>null</td><td>null</td><td>83894</td><td>&quot;Saison Rustique&quot;</td><td>13905</td><td>&quot;Brasserie Dunham&quot;</td><td>1368180000</td><td>null</td><td>null</td><td>3.75</td><td>true</td><td>&quot;Saison / Farmhouse Ale&quot;</td><td>null</td><td>&quot;nan&quot;</td><td>&quot;whatup14.728898&quot;</td><td>&quot;Whatup14&quot;</td><td>6.0</td><td>3.0</td><td>8.0</td><td>171337</td><td>&quot;Dunham Saison Rustique&quot;</td><td>12142</td><td>&quot;Brasserie Dunham&quot;</td><td>1368180000</td><td>17.0</td><td>3.0</td><td>3.8</td><td>&quot;Saison&quot;</td><td>7.0</td><td>&quot;Bouteille 750ml. Couleur jaune…</td><td>188026</td><td>&quot;Whatup14&quot;</td></tr><tr><td>5.9</td><td>3.75</td><td>3.25</td><td>185836</td><td>&quot;Black And Wit&quot;</td><td>35857</td><td>&quot;Hobbs Tavern &amp; Brewing Co.&quot;</td><td>1439287200</td><td>3.25</td><td>3.25</td><td>3.28</td><td>true</td><td>&quot;Witbier&quot;</td><td>3.25</td><td>&quot;On tap at the source. Dark bro…</td><td>&quot;johnnnniee.125029&quot;</td><td>&quot;johnnnniee&quot;</td><td>5.9</td><td>3.0</td><td>6.0</td><td>353342</td><td>&quot;Hobbs Tavern Black and Wit&quot;</td><td>20996</td><td>&quot;Hobbs Tavern &amp; Brewing Company&quot;</td><td>1439287200</td><td>14.0</td><td>3.0</td><td>3.2</td><td>&quot;Witbier&quot;</td><td>6.0</td><td>&quot;On tap at the source. Dark bro…</td><td>60182</td><td>&quot;johnnnniee&quot;</td></tr><tr><td>6.75</td><td>4.5</td><td>4.5</td><td>20518</td><td>&quot;Sanctification&quot;</td><td>863</td><td>&quot;Russian River Brewing Company&quot;</td><td>1304589600</td><td>4.5</td><td>4.0</td><td>4.45</td><td>true</td><td>&quot;American Wild Ale&quot;</td><td>4.5</td><td>&quot;Popped open a 375, pours a 2 f…</td><td>&quot;jcartamdg.533452&quot;</td><td>&quot;jcartamdg&quot;</td><td>6.75</td><td>4.0</td><td>8.0</td><td>38052</td><td>&quot;Russian River Sanctification&quot;</td><td>1480</td><td>&quot;Russian River Brewing&quot;</td><td>1337594400</td><td>19.0</td><td>4.0</td><td>4.4</td><td>&quot;Sour/Wild Ale&quot;</td><td>9.0</td><td>&quot;Popped open a 375, pours a 2 f…</td><td>127131</td><td>&quot;jcartamdg&quot;</td></tr></tbody></table></div>"
      ],
      "text/plain": [
       "shape: (5, 33)\n",
       "┌────────┬────────────┬──────────┬────────────┬───┬──────────┬────────────┬────────────┬───────────┐\n",
       "│ abv_ba ┆ appearance ┆ aroma_ba ┆ beer_id_ba ┆ … ┆ taste_rb ┆ text_rb    ┆ user_id_rb ┆ user_name │\n",
       "│ ---    ┆ _ba        ┆ ---      ┆ ---        ┆   ┆ ---      ┆ ---        ┆ ---        ┆ _rb       │\n",
       "│ f64    ┆ ---        ┆ f64      ┆ i64        ┆   ┆ f64      ┆ str        ┆ i64        ┆ ---       │\n",
       "│        ┆ f64        ┆          ┆            ┆   ┆          ┆            ┆            ┆ str       │\n",
       "╞════════╪════════════╪══════════╪════════════╪═══╪══════════╪════════════╪════════════╪═══════════╡\n",
       "│ 8.0    ┆ 4.75       ┆ 4.75     ┆ 277238     ┆ … ┆ 9.0      ┆ Sample at  ┆ 274310     ┆ ciocanelu │\n",
       "│        ┆            ┆          ┆            ┆   ┆          ┆ Mikkeller  ┆            ┆           │\n",
       "│        ┆            ┆          ┆            ┆   ┆          ┆ Beer       ┆            ┆           │\n",
       "│        ┆            ┆          ┆            ┆   ┆          ┆ Celeb…     ┆            ┆           │\n",
       "│ 7.6    ┆ 4.0        ┆ 4.0      ┆ 91467      ┆ … ┆ 8.0      ┆ Bottle     ┆ 133537     ┆ craftbeer │\n",
       "│        ┆            ┆          ┆            ┆   ┆          ┆ from Syste ┆            ┆ sweden    │\n",
       "│        ┆            ┆          ┆            ┆   ┆          ┆ mbolaget.  ┆            ┆           │\n",
       "│        ┆            ┆          ┆            ┆   ┆          ┆ The…       ┆            ┆           │\n",
       "│ 6.0    ┆ null       ┆ null     ┆ 83894      ┆ … ┆ 7.0      ┆ Bouteille  ┆ 188026     ┆ Whatup14  │\n",
       "│        ┆            ┆          ┆            ┆   ┆          ┆ 750ml.     ┆            ┆           │\n",
       "│        ┆            ┆          ┆            ┆   ┆          ┆ Couleur    ┆            ┆           │\n",
       "│        ┆            ┆          ┆            ┆   ┆          ┆ jaune…     ┆            ┆           │\n",
       "│ 5.9    ┆ 3.75       ┆ 3.25     ┆ 185836     ┆ … ┆ 6.0      ┆ On tap at  ┆ 60182      ┆ johnnnnie │\n",
       "│        ┆            ┆          ┆            ┆   ┆          ┆ the        ┆            ┆ e         │\n",
       "│        ┆            ┆          ┆            ┆   ┆          ┆ source.    ┆            ┆           │\n",
       "│        ┆            ┆          ┆            ┆   ┆          ┆ Dark bro…  ┆            ┆           │\n",
       "│ 6.75   ┆ 4.5        ┆ 4.5      ┆ 20518      ┆ … ┆ 9.0      ┆ Popped     ┆ 127131     ┆ jcartamdg │\n",
       "│        ┆            ┆          ┆            ┆   ┆          ┆ open a     ┆            ┆           │\n",
       "│        ┆            ┆          ┆            ┆   ┆          ┆ 375, pours ┆            ┆           │\n",
       "│        ┆            ┆          ┆            ┆   ┆          ┆ a 2 f…     ┆            ┆           │\n",
       "└────────┴────────────┴──────────┴────────────┴───┴──────────┴────────────┴────────────┴───────────┘"
      ]
     },
     "execution_count": 18,
     "metadata": {},
     "output_type": "execute_result"
    }
   ],
   "source": [
    "df_ratings.sample(5)"
   ]
  },
  {
   "cell_type": "code",
   "execution_count": 19,
   "metadata": {},
   "outputs": [
    {
     "name": "stdout",
     "output_type": "stream",
     "text": [
      "+-----------------+---------+------------------+---------------+-----------+-----------------------+-------------------+\n",
      "| Column          | Type    |   Not null count |   Nulls count |   Nulls % |   Unique values count |   Unique values % |\n",
      "|-----------------+---------+------------------+---------------+-----------+-----------------------+-------------------|\n",
      "| abv_ba          | Float64 |            21964 |             0 |    0.00 % |                   187 |            0.85 % |\n",
      "| appearance_ba   | Float64 |            19295 |          2669 |   12.15 % |                    18 |            0.09 % |\n",
      "| aroma_ba        | Float64 |            19295 |          2669 |   12.15 % |                    18 |            0.09 % |\n",
      "| beer_id_ba      | Int64   |            21964 |             0 |    0.00 % |                  9025 |           41.09 % |\n",
      "| beer_name_ba    | String  |            21964 |             0 |    0.00 % |                  8719 |           39.70 % |\n",
      "| brewery_id_ba   | Int64   |            21964 |             0 |    0.00 % |                  2230 |           10.15 % |\n",
      "| brewery_name_ba | String  |            21964 |             0 |    0.00 % |                  2230 |           10.15 % |\n",
      "| date_ba         | Int64   |            21964 |             0 |    0.00 % |                  4622 |           21.04 % |\n",
      "| overall_ba      | Float64 |            19295 |          2669 |   12.15 % |                    18 |            0.09 % |\n",
      "| palate_ba       | Float64 |            19295 |          2669 |   12.15 % |                    18 |            0.09 % |\n",
      "| rating_ba       | Float64 |            21964 |             0 |    0.00 % |                   377 |            1.72 % |\n",
      "| review_ba       | Boolean |            21964 |             0 |    0.00 % |                     1 |            0.00 % |\n",
      "| style_ba        | String  |            21964 |             0 |    0.00 % |                   104 |            0.47 % |\n",
      "| taste_ba        | Float64 |            19295 |          2669 |   12.15 % |                    18 |            0.09 % |\n",
      "| text_ba         | String  |            21964 |             0 |    0.00 % |                 18276 |           83.21 % |\n",
      "| user_id_ba      | String  |            21964 |             0 |    0.00 % |                   879 |            4.00 % |\n",
      "| user_name_ba    | String  |            21964 |             0 |    0.00 % |                   879 |            4.00 % |\n",
      "| abv_rb          | Float64 |            21964 |             0 |    0.00 % |                   187 |            0.85 % |\n",
      "| appearance_rb   | Float64 |            21964 |             0 |    0.00 % |                     5 |            0.02 % |\n",
      "| aroma_rb        | Float64 |            21964 |             0 |    0.00 % |                    10 |            0.05 % |\n",
      "| beer_id_rb      | Int64   |            21964 |             0 |    0.00 % |                  9025 |           41.09 % |\n",
      "| beer_name_rb    | String  |            21964 |             0 |    0.00 % |                  9025 |           41.09 % |\n",
      "| brewery_id_rb   | Int64   |            21964 |             0 |    0.00 % |                  2230 |           10.15 % |\n",
      "| brewery_name_rb | String  |            21964 |             0 |    0.00 % |                  2230 |           10.15 % |\n",
      "| date_rb         | Int64   |            21964 |             0 |    0.00 % |                  4605 |           20.97 % |\n",
      "| overall_rb      | Float64 |            21964 |             0 |    0.00 % |                    20 |            0.09 % |\n",
      "| palate_rb       | Float64 |            21964 |             0 |    0.00 % |                     5 |            0.02 % |\n",
      "| rating_rb       | Float64 |            21964 |             0 |    0.00 % |                    46 |            0.21 % |\n",
      "| style_rb        | String  |            21964 |             0 |    0.00 % |                    79 |            0.36 % |\n",
      "| taste_rb        | Float64 |            21964 |             0 |    0.00 % |                    10 |            0.05 % |\n",
      "| text_rb         | String  |            21964 |             0 |    0.00 % |                 21959 |           99.98 % |\n",
      "| user_id_rb      | Int64   |            21964 |             0 |    0.00 % |                   879 |            4.00 % |\n",
      "| user_name_rb    | String  |            21964 |             0 |    0.00 % |                   879 |            4.00 % |\n",
      "+-----------------+---------+------------------+---------------+-----------+-----------------------+-------------------+\n"
     ]
    }
   ],
   "source": [
    "describe(df_ratings)"
   ]
  },
  {
   "cell_type": "markdown",
   "metadata": {},
   "source": [
    "The dataset has the following structure\n",
    "\n",
    "| Column Name | Description |\n",
    "|-------------|-------------|\n",
    "| `beer_id_ba` / `beer_id_rb` | Unique identifier for the beer in BA/RB |\n",
    "| `beer_name_ba` / `beer_name_rb` | Name of the beer in BA/RB |\n",
    "| `brewery_id_ba` / `brewery_id_rb` | Unique identifier for the brewery in BA/RB |\n",
    "| `brewery_name_ba` / `brewery_name_rb` | Name of the brewery in BA/RB |\n",
    "| `style_ba` / `style_rb` | Beer style in BA/RB |\n",
    "| `abv_ba` / `abv_rb` | Alcohol By Volume percentage in BA/RB |\n",
    "| `user_id_ba` / `user_id_rb` | Unique identifier for the user in BA/RB |\n",
    "| `user_name_ba` / `user_name_rb` | Username of the reviewer in BA/RB |\n",
    "| `date_ba` / `date_rb` | Date of the review in BA/RB |\n",
    "| `rating_ba` / `rating_rb` | Overall rating given by the user in BA/RB |\n",
    "| `overall_ba` / `overall_rb` | Overall score in BA/RB |\n",
    "| `appearance_ba` / `appearance_rb` | Appearance score in BA/RB |\n",
    "| `aroma_ba` / `aroma_rb` | Aroma score in BA/RB |\n",
    "| `palate_ba` / `palate_rb` | Palate score in BA/RB |\n",
    "| `taste_ba` / `taste_rb` | Taste score in BA/RB |\n",
    "| `text_ba` / `text_rb` | Review text in BA/RB |\n",
    "| `review_ba` | Whether or not there is a BA review available |"
   ]
  },
  {
   "cell_type": "code",
   "execution_count": 20,
   "metadata": {},
   "outputs": [
    {
     "name": "stdout",
     "output_type": "stream",
     "text": [
      "+---------------+-------------+-------------+-------------+-------------+-------------+-------------+-------------+\n",
      "| Column        |        Mean |         Std |         25% |         50% |         75% |         Min |         Max |\n",
      "|---------------+-------------+-------------+-------------+-------------+-------------+-------------+-------------|\n",
      "| abv_ba        |     6.80022 |     2.09619 |         5.2 |         6.4 |           8 |         0.5 |          39 |\n",
      "| appearance_ba |     3.78329 |    0.562042 |         3.5 |           4 |           4 |           1 |           5 |\n",
      "| aroma_ba      |     3.70404 |    0.597862 |         3.5 |        3.75 |           4 |           1 |           5 |\n",
      "| date_ba       | 1.34367e+09 | 1.12069e+08 | 1.27098e+09 | 1.36835e+09 | 1.43471e+09 | 9.84136e+08 | 1.50141e+09 |\n",
      "| overall_ba    |     3.73419 |    0.614882 |         3.5 |           4 |           4 |           1 |           5 |\n",
      "| palate_ba     |     3.67871 |    0.618717 |         3.5 |        3.75 |           4 |           1 |           5 |\n",
      "| rating_ba     |     3.71303 |    0.554912 |        3.45 |        3.77 |        4.05 |           1 |           5 |\n",
      "| taste_ba      |     3.71587 |     0.62343 |         3.5 |        3.75 |           4 |           1 |           5 |\n",
      "| abv_rb        |     6.80022 |     2.09619 |         5.2 |         6.4 |           8 |         0.5 |          39 |\n",
      "| appearance_rb |     3.68599 |    0.677436 |           3 |           4 |           4 |           1 |           5 |\n",
      "| aroma_rb      |     6.96034 |     1.35567 |           6 |           7 |           8 |           1 |          10 |\n",
      "| date_rb       | 1.34484e+09 | 1.12501e+08 | 1.27832e+09 |  1.3655e+09 | 1.43436e+09 |  9.6953e+08 | 1.50141e+09 |\n",
      "| overall_rb    |     14.4017 |     2.67751 |          13 |          15 |          16 |           1 |          20 |\n",
      "| palate_rb     |     3.53506 |    0.733544 |           3 |           4 |           4 |           1 |           5 |\n",
      "| rating_rb     |     3.55882 |    0.585348 |         3.3 |         3.6 |           4 |         0.5 |           5 |\n",
      "| taste_rb      |     7.00519 |     1.38469 |           6 |           7 |           8 |           1 |          10 |\n",
      "+---------------+-------------+-------------+-------------+-------------+-------------+-------------+-------------+\n"
     ]
    }
   ],
   "source": [
    "describe_numbers(df_ratings, filters=[\"beer_id_ba\", \"beer_id_rb\", \"brewery_id_ba\", \"brewery_id_rb\", \"user_id_ba\", \"user_id_rb\"])"
   ]
  },
  {
   "cell_type": "markdown",
   "metadata": {},
   "source": [
    "Here we see:\n",
    "\n",
    "1. Alcohol By Volume (ABV)\n",
    "   - The `abv_ba` and `abv_rb` columns are identical again of course.\n",
    "\n",
    "2. Rating Categories on BeerAdvocate (BA)\n",
    "   - `appearance_ba`, `aroma_ba`, `palate_ba`, `taste_ba`, and `overall_ba` ratings on BeerAdvocate have similar means (ranging from 3.68 to 3.78) with a consistent standard deviation of around 0.6.\n",
    "   - The median for each category is close to 4, suggesting that BeerAdvocate users tend to give positive ratings overall, as the maximum for these is 5.\n",
    "   - The overall rating (`rating_ba`) has a mean of 3.71, indicating a generally favorable tendency in ratings across these categories.\n",
    "\n",
    "3. Rating Categories on RateBeer (RB)\n",
    "   - `appearance_rb`, `palate_rb`, and `rating_rb` have means similar to those on BeerAdvocate (3.53 to 3.69), suggesting that for these categories, user ratings are comparable across platforms.\n",
    "   - `aroma_rb` and `taste_rb`, however, have higher maximum scores of 10, with means of 6.96 and 7.01, respectively. This difference likely reflects a different scoring system or metric on RateBeer, which will need to be accounted for in our analysis.\n",
    "   - `overall_rb` shows a much broader scale, with a mean of 14.40 and a maximum of 20, indicating that RateBeer may use a larger rating scale for this category than BeerAdvocate does. Again this will need to be accounted for.\n",
    "\n",
    "4. General Trends\n",
    "   - BeerAdvocate ratings are generally more constrained within a 1-5 range for all categories, while RateBeer uses a broader scale for certain categories (`aroma_rb`, `taste_rb`, and `overall_rb`). This suggests a difference in rating systems that should be considered in cross-platform comparisons.\n",
    "   - Despite these scale differences, the means for comparable categories like `appearance`, `palate`, and `rating` are fairly aligned between platforms, implying similar user perceptions on these aspects of beer.\n"
   ]
  }
 ],
 "metadata": {
  "kernelspec": {
   "display_name": "ADA",
   "language": "python",
   "name": "python3"
  },
  "language_info": {
   "codemirror_mode": {
    "name": "ipython",
    "version": 3
   },
   "file_extension": ".py",
   "mimetype": "text/x-python",
   "name": "python",
   "nbconvert_exporter": "python",
   "pygments_lexer": "ipython3",
   "version": "3.9.20"
  }
 },
 "nbformat": 4,
 "nbformat_minor": 2
}
