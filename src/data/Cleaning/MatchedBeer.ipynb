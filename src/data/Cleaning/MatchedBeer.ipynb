{
 "cells": [
  {
   "cell_type": "markdown",
   "metadata": {},
   "source": [
    "# Data Analysis and Cleaning of MatchedBeer Dataset\n",
    "\n",
    "The MatchedBeer dataset combines data from BeerAdvocate and RateBeer, two of the most prominent online platforms for beer ratings. This combined dataset was created to address the herding effect in online ratings, where early ratings can skew subsequent user opinions. By merging the two platforms, the MatchedBeer dataset allows for the study of the same beers rated independently on each platform, thereby providing a unique opportunity to analyze unbiased rating patterns.\n",
    "\n",
    "## Matching Process Overview\n",
    "The matching process is described in detail in the paper [\"When Sheep Shop: Measuring Herding Effects in Product Ratings with Natural Experiments\"](https://dlab.epfl.ch/people/west/pub/Lederrey-West_WWW-18.pdf), focusing on accurately aligning beers from both websites. The matching is performed in two phases to prioritize precision:\n",
    "\n",
    "1. **Brewery Alignment**: Breweries across BeerAdvocate and RateBeer are aligned based on their exact location (state or country), with names represented as TF-IDF vectors to compute cosine similarity.\n",
    "2. **Beer Alignment**: Within matched breweries, beers are aligned based on name similarity and require an exact match in alcohol by volume (ABV). Before matching, any shared tokens in brewery and beer names are removed to improve accuracy.\n",
    "\n",
    "The algorithm ensures high precision by setting strict thresholds for cosine similarity and enforcing a significant gap between the best and second-best matches. This approach results in a dataset where brewery matching has a reported precision of 99.6%, and beer matching achieves a precision of 100%, meaning that only highly confident matches are included, though some potential matches may be excluded.\n",
    "\n",
    "## Structure of MatchedBeer Dataset\n",
    "The dataset contains essential information on beers, breweries, users, and user ratings from both platforms. Since the user bases of BeerAdvocate and RateBeer differ geographically, the combined dataset reflects a more balanced view. BeerAdvocate is more U.S.-centric, while RateBeer has a more internationally diverse user base. Despite these differences, the matched dataset has been verified for both internal and external validity, making it well-suited for analyzing the influence of initial ratings on user perceptions across platforms.\n",
    "\n",
    "MatchedBeer provides insights into how early ratings impact subsequent ones by comparing ratings for the same beer on both sites, especially when early ratings on each platform differ significantly. By standardizing and aligning ratings across time and platforms, MatchedBeer reveals patterns that allow for the identification of herding effects, helping researchers understand the biases in user-generated ratings."
   ]
  },
  {
   "cell_type": "code",
   "execution_count": 1,
   "metadata": {},
   "outputs": [],
   "source": [
    "# Import all the necessary libraries\n",
    "import polars as pl\n",
    "import tqdm\n",
    "import os\n",
    "\n",
    "# Import the file in the utils folder\n",
    "import sys\n",
    "sys.path.append('../../utils')\n",
    "from data_desc import describe_numbers, describe\n",
    "from matched_dataset import load_and_process_files\n",
    "\n",
    "# Define the paths\n",
    "SRC_DATA_PATH = '../../../data/MatchedBeer'\n",
    "DST_DATA_PATH = '../../../data/MatchedBeer/processed'\n",
    "\n",
    "# Create the DST_DATA_PATH if it does not exist\n",
    "if not os.path.exists(DST_DATA_PATH):\n",
    "    os.makedirs(DST_DATA_PATH)"
   ]
  },
  {
   "cell_type": "markdown",
   "metadata": {},
   "source": [
    "#### Data Exploration"
   ]
  },
  {
   "cell_type": "code",
   "execution_count": 2,
   "metadata": {},
   "outputs": [],
   "source": [
    "file_paths = [SRC_DATA_PATH + \"/beers.csv\", SRC_DATA_PATH + \"/breweries.csv\", SRC_DATA_PATH + \"/ratings.csv\", SRC_DATA_PATH + \"/users_approx.csv\"]\n",
    "dataframes_list = load_and_process_files(file_paths)\n",
    "\n",
    "df_beers = dataframes_list[0]\n",
    "df_breweries = dataframes_list[1]\n",
    "df_ratings = dataframes_list[2]\n",
    "df_users = dataframes_list[3]"
   ]
  },
  {
   "cell_type": "markdown",
   "metadata": {},
   "source": [
    "##### Beers dataset\n",
    "We'll start by looking at the beers dataset."
   ]
  },
  {
   "cell_type": "code",
   "execution_count": 3,
   "metadata": {},
   "outputs": [
    {
     "data": {
      "text/html": [
       "<div><style>\n",
       ".dataframe > thead > tr,\n",
       ".dataframe > tbody > tr {\n",
       "  text-align: right;\n",
       "  white-space: pre-wrap;\n",
       "}\n",
       "</style>\n",
       "<small>shape: (5, 33)</small><table border=\"1\" class=\"dataframe\"><thead><tr><th>abv_ba</th><th>avg_ba</th><th>avg_computed_ba</th><th>avg_matched_valid_ratings_ba</th><th>ba_score_ba</th><th>beer_id_ba</th><th>beer_name_ba</th><th>beer_wout_brewery_name_ba</th><th>brewery_id_ba</th><th>brewery_name_ba</th><th>bros_score_ba</th><th>nbr_matched_valid_ratings_ba</th><th>nbr_ratings_ba</th><th>nbr_reviews_ba</th><th>style_ba</th><th>zscore_ba</th><th>abv_rb</th><th>avg_rb</th><th>avg_computed_rb</th><th>avg_matched_valid_ratings_rb</th><th>beer_id_rb</th><th>beer_name_rb</th><th>beer_wout_brewery_name_rb</th><th>brewery_id_rb</th><th>brewery_name_rb</th><th>nbr_matched_valid_ratings_rb</th><th>nbr_ratings_rb</th><th>overall_score_rb</th><th>style_rb</th><th>style_score_rb</th><th>zscore_rb</th><th>diff_scores</th><th>sim_scores</th></tr><tr><td>f64</td><td>f64</td><td>f64</td><td>f64</td><td>f64</td><td>i64</td><td>str</td><td>str</td><td>i64</td><td>str</td><td>f64</td><td>i64</td><td>i64</td><td>i64</td><td>str</td><td>f64</td><td>f64</td><td>f64</td><td>f64</td><td>f64</td><td>i64</td><td>str</td><td>str</td><td>i64</td><td>str</td><td>i64</td><td>i64</td><td>f64</td><td>str</td><td>f64</td><td>f64</td><td>f64</td><td>f64</td></tr></thead><tbody><tr><td>5.4</td><td>3.5</td><td>3.5</td><td>null</td><td>null</td><td>251920</td><td>&quot;Wet Season&quot;</td><td>&quot;Wet Season&quot;</td><td>39655</td><td>&quot;Chainline Brewing Company&quot;</td><td>null</td><td>0</td><td>1</td><td>0</td><td>&quot;Saison / Farmhouse Ale&quot;</td><td>-1.016361</td><td>5.4</td><td>3.07</td><td>3.35</td><td>3.35</td><td>452911</td><td>&quot;Chainline Wet Season&quot;</td><td>&quot;Wet Season&quot;</td><td>22191</td><td>&quot;Chainline Brewing Company&quot;</td><td>2</td><td>2</td><td>null</td><td>&quot;Belgian Ale&quot;</td><td>null</td><td>-0.239896</td><td>1.0</td><td>1.0</td></tr><tr><td>7.8</td><td>3.56</td><td>3.56</td><td>null</td><td>null</td><td>179246</td><td>&quot;20th Anniversary IPA&quot;</td><td>&quot;20th Anniversary IPA&quot;</td><td>1394</td><td>&quot;Skagit River Brewery&quot;</td><td>null</td><td>0</td><td>1</td><td>0</td><td>&quot;American IPA&quot;</td><td>-0.788544</td><td>7.8</td><td>3.0</td><td>3.3</td><td>3.3</td><td>339413</td><td>&quot;Skagit River 20th Anniversary …</td><td>&quot;20th Anniversary IPA&quot;</td><td>658</td><td>&quot;Skagit River Brewing Co.&quot;</td><td>1</td><td>1</td><td>null</td><td>&quot;Imperial IPA&quot;</td><td>null</td><td>-0.229064</td><td>0.724698</td><td>1.0</td></tr><tr><td>5.4</td><td>3.47</td><td>3.472727</td><td>null</td><td>83.0</td><td>145554</td><td>&quot;Emmett&quot;</td><td>&quot;Emmett&quot;</td><td>22412</td><td>&quot;Noble Ale Works&quot;</td><td>null</td><td>0</td><td>11</td><td>0</td><td>&quot;Belgian Dark Ale&quot;</td><td>-0.790864</td><td>5.4</td><td>2.77</td><td>2.8</td><td>2.8</td><td>296604</td><td>&quot;Noble Ale Works Emmett&quot;</td><td>&quot;Emmett&quot;</td><td>11238</td><td>&quot;Noble Ale Works&quot;</td><td>3</td><td>3</td><td>null</td><td>&quot;Belgian Ale&quot;</td><td>null</td><td>-1.097199</td><td>1.0</td><td>1.0</td></tr><tr><td>6.0</td><td>4.02</td><td>4.02</td><td>4.015</td><td>85.0</td><td>58892</td><td>&quot;Saison Du Repos&quot;</td><td>&quot;Du Repos Saison&quot;</td><td>15526</td><td>&quot;Hopfenstark&quot;</td><td>null</td><td>4</td><td>11</td><td>4</td><td>&quot;Saison / Farmhouse Ale&quot;</td><td>0.201509</td><td>6.0</td><td>3.54</td><td>3.595</td><td>3.595</td><td>103844</td><td>&quot;Hopfenstark Saison Du Repos&quot;</td><td>&quot;Du Repos Saison&quot;</td><td>8201</td><td>&quot;Hopfenstark&quot;</td><td>40</td><td>40</td><td>90.0</td><td>&quot;Saison&quot;</td><td>84.0</td><td>0.420911</td><td>0.777297</td><td>1.0</td></tr><tr><td>4.7</td><td>3.75</td><td>3.75</td><td>null</td><td>null</td><td>283173</td><td>&quot;Black Crow Lager&quot;</td><td>&quot;Crow Black Lager&quot;</td><td>35910</td><td>&quot;Crowbar &amp; Bryggeri&quot;</td><td>null</td><td>0</td><td>1</td><td>0</td><td>&quot;Euro Dark Lager&quot;</td><td>-0.559449</td><td>4.7</td><td>3.16</td><td>3.223077</td><td>3.223077</td><td>222558</td><td>&quot;Crowbar Black Crow Lager&quot;</td><td>&quot;Crow Black Lager&quot;</td><td>15726</td><td>&quot;Crowbar &amp; Bryggeri&quot;</td><td>13</td><td>13</td><td>48.0</td><td>&quot;Schwarzbier&quot;</td><td>60.0</td><td>-0.322717</td><td>0.664474</td><td>1.0</td></tr></tbody></table></div>"
      ],
      "text/plain": [
       "shape: (5, 33)\n",
       "┌────────┬────────┬────────────┬────────────┬───┬────────────┬───────────┬────────────┬────────────┐\n",
       "│ abv_ba ┆ avg_ba ┆ avg_comput ┆ avg_matche ┆ … ┆ style_scor ┆ zscore_rb ┆ diff_score ┆ sim_scores │\n",
       "│ ---    ┆ ---    ┆ ed_ba      ┆ d_valid_ra ┆   ┆ e_rb       ┆ ---       ┆ s          ┆ ---        │\n",
       "│ f64    ┆ f64    ┆ ---        ┆ tings_ba   ┆   ┆ ---        ┆ f64       ┆ ---        ┆ f64        │\n",
       "│        ┆        ┆ f64        ┆ ---        ┆   ┆ f64        ┆           ┆ f64        ┆            │\n",
       "│        ┆        ┆            ┆ f64        ┆   ┆            ┆           ┆            ┆            │\n",
       "╞════════╪════════╪════════════╪════════════╪═══╪════════════╪═══════════╪════════════╪════════════╡\n",
       "│ 5.4    ┆ 3.5    ┆ 3.5        ┆ null       ┆ … ┆ null       ┆ -0.239896 ┆ 1.0        ┆ 1.0        │\n",
       "│ 7.8    ┆ 3.56   ┆ 3.56       ┆ null       ┆ … ┆ null       ┆ -0.229064 ┆ 0.724698   ┆ 1.0        │\n",
       "│ 5.4    ┆ 3.47   ┆ 3.472727   ┆ null       ┆ … ┆ null       ┆ -1.097199 ┆ 1.0        ┆ 1.0        │\n",
       "│ 6.0    ┆ 4.02   ┆ 4.02       ┆ 4.015      ┆ … ┆ 84.0       ┆ 0.420911  ┆ 0.777297   ┆ 1.0        │\n",
       "│ 4.7    ┆ 3.75   ┆ 3.75       ┆ null       ┆ … ┆ 60.0       ┆ -0.322717 ┆ 0.664474   ┆ 1.0        │\n",
       "└────────┴────────┴────────────┴────────────┴───┴────────────┴───────────┴────────────┴────────────┘"
      ]
     },
     "execution_count": 3,
     "metadata": {},
     "output_type": "execute_result"
    }
   ],
   "source": [
    "df_beers.sample(5)"
   ]
  },
  {
   "cell_type": "markdown",
   "metadata": {},
   "source": [
    "This dataset has the following structure\n",
    "\n",
    "| Column Name | Description |\n",
    "|-------------|-------------|\n",
    "| `beer_id_ba` / `beer_id_rb` | Unique identifier for each beer in BA/RB | \n",
    "| `beer_name_ba` / `beer_name_rb` | Name of the beer in BA/RB |\n",
    "| `beer_wout_brewery_name_ba` / `beer_wout_brewery_name_rb` | Beer name without brewery name in BA/RB |\n",
    "| `brewery_id_ba` / `brewery_id_rb` | Unique identifier for the brewery in BA/RB |\n",
    "| `brewery_name_ba` / `brewery_name_rb` | Name of the brewery in BA/RB |\n",
    "| `style_ba` / `style_rb` | Beer style in BA/RB |\n",
    "| `abv_ba` / `abv_rb` | Alcohol By Volume percentage in BA/RB |\n",
    "| `nbr_ratings_ba` / `nbr_ratings_rb` | Number of ratings in BA/RB |\n",
    "| `nbr_reviews_ba` | Number of reviews in BA |\n",
    "| `avg_ba` / `avg_rb` | Average rating in BA/RB |\n",
    "| `avg_computed_ba` / `avg_computed_rb` | Computed average rating in BA/RB |\n",
    "| `zscore_ba` / `zscore_rb` | Standardized score in BA/RB |\n",
    "| `nbr_matched_valid_ratings_ba` / `nbr_matched_valid_ratings_rb` | Number of matched valid ratings in BA/RB |\n",
    "| `avg_matched_valid_ratings_ba` / `avg_matched_valid_ratings_rb` | Average of matched valid ratings in BA/RB |\n",
    "| `ba_score_ba` | BeerAdvocate score |\n",
    "| `bros_score_ba` | Bros score in BA |\n",
    "| `overall_score_rb` | Overall score in RB |\n",
    "| `style_score_rb` | Style-specific score in RB |\n",
    "| `diff_scores` | Difference in scores between BA and RB |\n",
    "| `sim_scores` | Similarity in scores between BA and RB |\n",
    "\n",
    "Now that we have an idea what the structure of our datasets looks like, let's see if our dataset is complete or whether it contains a lot of missing entries."
   ]
  },
  {
   "cell_type": "code",
   "execution_count": 4,
   "metadata": {},
   "outputs": [
    {
     "name": "stdout",
     "output_type": "stream",
     "text": [
      "+------------------------------+---------+------------------+---------------+-----------+-----------------------+-------------------+\n",
      "| Column                       | Type    |   Not null count |   Nulls count |   Nulls % |   Unique values count |   Unique values % |\n",
      "|------------------------------+---------+------------------+---------------+-----------+-----------------------+-------------------|\n",
      "| abv_ba                       | Float64 |            45640 |             0 |    0.00 % |                   351 |            0.77 % |\n",
      "| avg_ba                       | Float64 |            40285 |          5355 |   11.73 % |                   373 |            0.93 % |\n",
      "| avg_computed_ba              | Float64 |            40285 |          5355 |   11.73 % |                 12090 |           30.01 % |\n",
      "| avg_matched_valid_ratings_ba | Float64 |            28272 |         17368 |   38.05 % |                  6658 |           23.55 % |\n",
      "| ba_score_ba                  | Float64 |            10499 |         35141 |   77.00 % |                    36 |            0.34 % |\n",
      "| beer_id_ba                   | Int64   |            45640 |             0 |    0.00 % |                 45640 |          100.00 % |\n",
      "| beer_name_ba                 | String  |            45640 |             0 |    0.00 % |                 41724 |           91.42 % |\n",
      "| beer_wout_brewery_name_ba    | String  |            45640 |             0 |    0.00 % |                 40061 |           87.78 % |\n",
      "| brewery_id_ba                | Int64   |            45640 |             0 |    0.00 % |                  6084 |           13.33 % |\n",
      "| brewery_name_ba              | String  |            45640 |             0 |    0.00 % |                  6084 |           13.33 % |\n",
      "| bros_score_ba                | Float64 |              727 |         44913 |   98.41 % |                    48 |            6.60 % |\n",
      "| nbr_matched_valid_ratings_ba | Int64   |            45640 |             0 |    0.00 % |                   359 |            0.79 % |\n",
      "| nbr_ratings_ba               | Int64   |            45640 |             0 |    0.00 % |                   672 |            1.47 % |\n",
      "| nbr_reviews_ba               | Int64   |            45640 |             0 |    0.00 % |                   349 |            0.76 % |\n",
      "| style_ba                     | String  |            45640 |             0 |    0.00 % |                   104 |            0.23 % |\n",
      "| zscore_ba                    | Float64 |            40285 |          5355 |   11.73 % |                 28315 |           70.29 % |\n",
      "| abv_rb                       | Float64 |            45640 |             0 |    0.00 % |                   351 |            0.77 % |\n",
      "| avg_rb                       | Float64 |            42155 |          3485 |    7.64 % |                   270 |            0.64 % |\n",
      "| avg_computed_rb              | Float64 |            42228 |          3412 |    7.48 % |                  9744 |           23.07 % |\n",
      "| avg_matched_valid_ratings_rb | Float64 |            42228 |          3412 |    7.48 % |                  9745 |           23.08 % |\n",
      "| beer_id_rb                   | Int64   |            45640 |             0 |    0.00 % |                 45640 |          100.00 % |\n",
      "| beer_name_rb                 | String  |            45640 |             0 |    0.00 % |                 45640 |          100.00 % |\n",
      "| beer_wout_brewery_name_rb    | String  |            45640 |             0 |    0.00 % |                 40366 |           88.44 % |\n",
      "| brewery_id_rb                | Int64   |            45640 |             0 |    0.00 % |                  6071 |           13.30 % |\n",
      "| brewery_name_rb              | String  |            45640 |             0 |    0.00 % |                  6071 |           13.30 % |\n",
      "| nbr_matched_valid_ratings_rb | Int64   |            45640 |             0 |    0.00 % |                   578 |            1.27 % |\n",
      "| nbr_ratings_rb               | Int64   |            45640 |             0 |    0.00 % |                   580 |            1.27 % |\n",
      "| overall_score_rb             | Float64 |            15698 |         29942 |   65.60 % |                   102 |            0.65 % |\n",
      "| style_rb                     | String  |            45640 |             0 |    0.00 % |                    80 |            0.18 % |\n",
      "| style_score_rb               | Float64 |            15698 |         29942 |   65.60 % |                   102 |            0.65 % |\n",
      "| zscore_rb                    | Float64 |            42228 |          3412 |    7.48 % |                 28961 |           68.58 % |\n",
      "| diff_scores                  | Float64 |            45640 |             0 |    0.00 % |                 18916 |           41.45 % |\n",
      "| sim_scores                   | Float64 |            45640 |             0 |    0.00 % |                  3784 |            8.29 % |\n",
      "+------------------------------+---------+------------------+---------------+-----------+-----------------------+-------------------+\n"
     ]
    }
   ],
   "source": [
    "describe(df_beers)"
   ]
  },
  {
   "cell_type": "code",
   "execution_count": 5,
   "metadata": {},
   "outputs": [
    {
     "name": "stdout",
     "output_type": "stream",
     "text": [
      "+------------------------------+-----------+-----------+-----------+------------+-----------+----------+---------+\n",
      "| Column                       |      Mean |       Std |       25% |        50% |       75% |      Min |     Max |\n",
      "|------------------------------+-----------+-----------+-----------+------------+-----------+----------+---------|\n",
      "| abv_ba                       |   6.32086 |   1.85773 |         5 |          6 |       7.2 |     0.38 |    67.5 |\n",
      "| avg_ba                       |   3.73237 |  0.439988 |      3.52 |       3.78 |         4 |        1 |       5 |\n",
      "| avg_computed_ba              |   3.72785 |  0.424824 |      3.52 |     3.7725 |         4 |        1 |       5 |\n",
      "| avg_matched_valid_ratings_ba |   3.74777 |  0.484775 |      3.52 |    3.80833 |     4.045 |        1 |       5 |\n",
      "| ba_score_ba                  |    84.871 |   3.28287 |        83 |         85 |        86 |       63 |     100 |\n",
      "| bros_score_ba                |   86.1623 |    8.5394 |        83 |         88 |        91 |       31 |     100 |\n",
      "| nbr_matched_valid_ratings_ba |   6.33271 |   42.5086 |         0 |          1 |         3 |        0 |    2968 |\n",
      "| nbr_ratings_ba               |   20.9458 |   137.768 |         1 |          3 |         8 |        0 |    9228 |\n",
      "| nbr_reviews_ba               |   5.97783 |   40.9554 |         0 |          1 |         2 |        0 |    2875 |\n",
      "| zscore_ba                    | -0.408295 |  0.806491 | -0.785424 |  -0.321596 | 0.0867333 |  -6.6557 | 2.21158 |\n",
      "| abv_rb                       |   6.32086 |   1.85773 |         5 |          6 |       7.2 |     0.38 |    67.5 |\n",
      "| avg_rb                       |   3.14212 |  0.287468 |      2.98 |       3.13 |      3.31 |        0 |    4.42 |\n",
      "| avg_computed_rb              |   3.37205 |  0.417036 |   3.15517 |       3.41 |      3.65 |      0.5 |       5 |\n",
      "| avg_matched_valid_ratings_rb |   3.37204 |  0.417038 |   3.15517 |       3.41 |      3.65 |      0.5 |       5 |\n",
      "| nbr_matched_valid_ratings_rb |   22.3619 |   80.1015 |         2 |          5 |        16 |        0 |    5270 |\n",
      "| nbr_ratings_rb               |   22.3628 |   80.1075 |         2 |          5 |        16 |        0 |    5272 |\n",
      "| overall_score_rb             |   62.6751 |   26.0847 |        43 |         65 |        87 |        0 |     100 |\n",
      "| style_score_rb               |   60.0962 |   27.6661 |        40 |         61 |        86 |        0 |     100 |\n",
      "| zscore_rb                    | -0.104638 |  0.732841 | -0.479511 | -0.0236959 |  0.364636 | -5.46035 | 2.94112 |\n",
      "| diff_scores                  |  0.797587 |  0.202589 |  0.618451 |   0.816497 |         1 | 0.400024 |       1 |\n",
      "| sim_scores                   |  0.986315 | 0.0423042 |         1 |          1 |         1 | 0.800006 |       1 |\n",
      "+------------------------------+-----------+-----------+-----------+------------+-----------+----------+---------+\n"
     ]
    }
   ],
   "source": [
    "describe_numbers(df_beers, filters =[\"beer_id_ba\", \"brewery_id_ba\", \"beer_id_rb\", \"brewery_id_rb\"])"
   ]
  },
  {
   "cell_type": "markdown",
   "metadata": {},
   "source": [
    "1. Alcohol By Volume (ABV)\n",
    "   - The `abv_ba` and `abv_rb` columns show identical distributions across BeerAdvocate and RateBeer, with a mean ABV of approximately 6.32%.\n",
    "   - This similarity suggests a good alignment in the types of beers reviewed on both platforms. The maximum ABV of 67.5% is possibly an outlier, likely representing rare extreme beers, as typical ABVs are much lower.\n",
    "\n",
    "2. Average Ratings (BeerAdvocate vs. RateBeer)\n",
    "   - The `avg_ba` (BeerAdvocate) mean is 3.73, while `avg_rb` (RateBeer) is significantly lower at 3.14.\n",
    "   - This aligns with previous findings that BeerAdvocate users tend to rate beers more generously than RateBeer users. The higher `std` value for `avg_ba` also indicates a wider range in BeerAdvocate’s ratings, suggesting more variability in user opinions.\n",
    "\n",
    "3. Computed Averages (Consistency in Ratings)\n",
    "   - `avg_computed_ba` and `avg_computed_rb` refer to recalculated averages, showing slightly lower standard deviations than their direct counterparts (`avg_ba` and `avg_rb`), indicating a slight smoothing effect.\n",
    "   - Both BeerAdvocate and RateBeer have computed averages (`avg_computed_ba` vs. `avg_computed_rb`) that are fairly close to the respective raw averages, implying that the original averages align well with user trends.\n",
    "\n",
    "4. Rating Counts\n",
    "   - The median `nbr_ratings_ba` (3) and `nbr_ratings_rb` (5) are relatively low, showing that many beers have few ratings on both sites, though RateBeer has slightly more ratings per beer on average.\n",
    "   - RateBeer’s broader user base also shows a higher standard deviation in the count of matched valid ratings (`nbr_matched_valid_ratings_rb` is 80.10 vs. 42.51 for BeerAdvocate), meaning some beers have far more reviews than others on RateBeer.\n",
    "\n",
    "5. Z-scores (Standardized Ratings)\n",
    "   - The mean `zscore_ba` (-0.41) is lower than `zscore_rb` (-0.10), suggesting BeerAdvocate users' ratings tend to deviate more below the mean, which may imply a slight rating inflation on RateBeer.\n",
    "   - BeerAdvocate’s z-scores also exhibit a broader spread, evidenced by a standard deviation of 0.81 compared to RateBeer's 0.73, reinforcing the idea that BeerAdvocate reviews show more polarized opinions.\n",
    "\n",
    "6. Score Difference and Similarity\n",
    "   - `diff_scores` has a mean of 0.798, which indicates a considerable average difference in the ratings across the two platforms.\n",
    "   - `sim_scores`, however, is high (mean of 0.986), suggesting that while individual score values differ, the rating trends between matched pairs are generally consistent."
   ]
  },
  {
   "cell_type": "markdown",
   "metadata": {},
   "source": [
    "##### Breweries dataset\n",
    "\n",
    "Now we can take a look at our breweries dataframe. For each platform, every brewery has a location, a name, and the amount of beers they produce, along with a unique identifier. We also have the similarity and difference scores between the breweries from the two platforms. The brewery location can be very useful for our research questions. We will look into this more later on in this notebook."
   ]
  },
  {
   "cell_type": "code",
   "execution_count": 6,
   "metadata": {},
   "outputs": [
    {
     "data": {
      "text/html": [
       "<div><style>\n",
       ".dataframe > thead > tr,\n",
       ".dataframe > tbody > tr {\n",
       "  text-align: right;\n",
       "  white-space: pre-wrap;\n",
       "}\n",
       "</style>\n",
       "<small>shape: (5, 10)</small><table border=\"1\" class=\"dataframe\"><thead><tr><th>id_ba</th><th>location_ba</th><th>name_ba</th><th>nbr_beers_ba</th><th>id_rb</th><th>location_rb</th><th>name_rb</th><th>nbr_beers_rb</th><th>diff_scores</th><th>sim_scores</th></tr><tr><td>i64</td><td>str</td><td>str</td><td>i64</td><td>i64</td><td>str</td><td>str</td><td>i64</td><td>f64</td><td>f64</td></tr></thead><tbody><tr><td>33759</td><td>&quot;England&quot;</td><td>&quot;Nene Valley Brewery&quot;</td><td>5</td><td>13712</td><td>&quot;England&quot;</td><td>&quot;Nene Valley Brewery&quot;</td><td>29</td><td>0.434105</td><td>1.0</td></tr><tr><td>28716</td><td>&quot;United States, Oregon&quot;</td><td>&quot;Below Grade Brewing&quot;</td><td>9</td><td>14417</td><td>&quot;United States, Oregon&quot;</td><td>&quot;Below Grade Brewing LLC&quot;</td><td>10</td><td>0.403559</td><td>0.873627</td></tr><tr><td>40868</td><td>&quot;Belgium&quot;</td><td>&quot;Brouwerij Den Toetëlèr&quot;</td><td>5</td><td>12610</td><td>&quot;Belgium&quot;</td><td>&quot;Brouwerij Den Toetëlèr&quot;</td><td>19</td><td>0.474433</td><td>1.0</td></tr><tr><td>49207</td><td>&quot;United States, Minnesota&quot;</td><td>&quot;Broken Clock Brewing Cooperati…</td><td>4</td><td>30631</td><td>&quot;United States, Minnesota&quot;</td><td>&quot;Broken Clock Brewing Cooperati…</td><td>5</td><td>0.38763</td><td>1.0</td></tr><tr><td>2772</td><td>&quot;United States, Wisconsin&quot;</td><td>&quot;Titletown Brewing Company&quot;</td><td>81</td><td>524</td><td>&quot;United States, Wisconsin&quot;</td><td>&quot;Titletown Brewing Company&quot;</td><td>221</td><td>0.658297</td><td>1.0</td></tr></tbody></table></div>"
      ],
      "text/plain": [
       "shape: (5, 10)\n",
       "┌───────┬────────────┬────────────┬────────────┬───┬───────────┬───────────┬───────────┬───────────┐\n",
       "│ id_ba ┆ location_b ┆ name_ba    ┆ nbr_beers_ ┆ … ┆ name_rb   ┆ nbr_beers ┆ diff_scor ┆ sim_score │\n",
       "│ ---   ┆ a          ┆ ---        ┆ ba         ┆   ┆ ---       ┆ _rb       ┆ es        ┆ s         │\n",
       "│ i64   ┆ ---        ┆ str        ┆ ---        ┆   ┆ str       ┆ ---       ┆ ---       ┆ ---       │\n",
       "│       ┆ str        ┆            ┆ i64        ┆   ┆           ┆ i64       ┆ f64       ┆ f64       │\n",
       "╞═══════╪════════════╪════════════╪════════════╪═══╪═══════════╪═══════════╪═══════════╪═══════════╡\n",
       "│ 33759 ┆ England    ┆ Nene       ┆ 5          ┆ … ┆ Nene      ┆ 29        ┆ 0.434105  ┆ 1.0       │\n",
       "│       ┆            ┆ Valley     ┆            ┆   ┆ Valley    ┆           ┆           ┆           │\n",
       "│       ┆            ┆ Brewery    ┆            ┆   ┆ Brewery   ┆           ┆           ┆           │\n",
       "│ 28716 ┆ United     ┆ Below      ┆ 9          ┆ … ┆ Below     ┆ 10        ┆ 0.403559  ┆ 0.873627  │\n",
       "│       ┆ States,    ┆ Grade      ┆            ┆   ┆ Grade     ┆           ┆           ┆           │\n",
       "│       ┆ Oregon     ┆ Brewing    ┆            ┆   ┆ Brewing   ┆           ┆           ┆           │\n",
       "│       ┆            ┆            ┆            ┆   ┆ LLC       ┆           ┆           ┆           │\n",
       "│ 40868 ┆ Belgium    ┆ Brouwerij  ┆ 5          ┆ … ┆ Brouwerij ┆ 19        ┆ 0.474433  ┆ 1.0       │\n",
       "│       ┆            ┆ Den        ┆            ┆   ┆ Den       ┆           ┆           ┆           │\n",
       "│       ┆            ┆ Toetëlèr   ┆            ┆   ┆ Toetëlèr  ┆           ┆           ┆           │\n",
       "│ 49207 ┆ United     ┆ Broken     ┆ 4          ┆ … ┆ Broken    ┆ 5         ┆ 0.38763   ┆ 1.0       │\n",
       "│       ┆ States,    ┆ Clock      ┆            ┆   ┆ Clock     ┆           ┆           ┆           │\n",
       "│       ┆ Minnesota  ┆ Brewing    ┆            ┆   ┆ Brewing   ┆           ┆           ┆           │\n",
       "│       ┆            ┆ Cooperati… ┆            ┆   ┆ Cooperati ┆           ┆           ┆           │\n",
       "│       ┆            ┆            ┆            ┆   ┆ …         ┆           ┆           ┆           │\n",
       "│ 2772  ┆ United     ┆ Titletown  ┆ 81         ┆ … ┆ Titletown ┆ 221       ┆ 0.658297  ┆ 1.0       │\n",
       "│       ┆ States,    ┆ Brewing    ┆            ┆   ┆ Brewing   ┆           ┆           ┆           │\n",
       "│       ┆ Wisconsin  ┆ Company    ┆            ┆   ┆ Company   ┆           ┆           ┆           │\n",
       "└───────┴────────────┴────────────┴────────────┴───┴───────────┴───────────┴───────────┴───────────┘"
      ]
     },
     "execution_count": 6,
     "metadata": {},
     "output_type": "execute_result"
    }
   ],
   "source": [
    "df_breweries.sample(5)"
   ]
  },
  {
   "cell_type": "markdown",
   "metadata": {},
   "source": [
    "The dataset has the following structure\n",
    "\n",
    "| Column Name | Description |\n",
    "|-------------|-------------|\n",
    "| `id_ba` / `id_rb` | Unique identifier for each brewery in BA/RB | \n",
    "| `name_ba` / `name_rb` | Name of the brewery in BA/RB |\n",
    "| `location_ba` / `location_rb` | Geographic location of the brewery in BA/RB |\n",
    "| `nbr_beers_ba` / `nbr_beers_rb` | Number of beers produced by the brewery in BA/RB |\n",
    "| `diff_scores` | Difference in scores between BA and RB |\n",
    "| `sim_scores` | Similarity in scores between BA and RB |"
   ]
  },
  {
   "cell_type": "code",
   "execution_count": 7,
   "metadata": {},
   "outputs": [
    {
     "name": "stdout",
     "output_type": "stream",
     "text": [
      "+--------------+---------+------------------+---------------+-----------+-----------------------+-------------------+\n",
      "| Column       | Type    |   Not null count |   Nulls count |   Nulls % |   Unique values count |   Unique values % |\n",
      "|--------------+---------+------------------+---------------+-----------+-----------------------+-------------------|\n",
      "| id_ba        | Int64   |             8281 |             0 |    0.00 % |                  8281 |          100.00 % |\n",
      "| location_ba  | String  |             8281 |             0 |    0.00 % |                   205 |            2.48 % |\n",
      "| name_ba      | String  |             8281 |             0 |    0.00 % |                  8281 |          100.00 % |\n",
      "| nbr_beers_ba | Int64   |             8281 |             0 |    0.00 % |                   231 |            2.79 % |\n",
      "| id_rb        | Int64   |             8281 |             0 |    0.00 % |                  8235 |           99.44 % |\n",
      "| location_rb  | String  |             8281 |             0 |    0.00 % |                   205 |            2.48 % |\n",
      "| name_rb      | String  |             8281 |             0 |    0.00 % |                  8235 |           99.44 % |\n",
      "| nbr_beers_rb | Int64   |             8281 |             0 |    0.00 % |                   244 |            2.95 % |\n",
      "| diff_scores  | Float64 |             8281 |             0 |    0.00 % |                  4471 |           53.99 % |\n",
      "| sim_scores   | Float64 |             8281 |             0 |    0.00 % |                  1538 |           18.57 % |\n",
      "+--------------+---------+------------------+---------------+-----------+-----------------------+-------------------+\n"
     ]
    }
   ],
   "source": [
    "describe(df_breweries)"
   ]
  },
  {
   "cell_type": "code",
   "execution_count": 8,
   "metadata": {},
   "outputs": [
    {
     "name": "stdout",
     "output_type": "stream",
     "text": [
      "+--------------+---------+------------------+---------------+-----------+-----------------------+-------------------+\n",
      "| Column       | Type    |   Not null count |   Nulls count |   Nulls % |   Unique values count |   Unique values % |\n",
      "|--------------+---------+------------------+---------------+-----------+-----------------------+-------------------|\n",
      "| location_ba  | String  |             8281 |             0 |    0.00 % |                   205 |            2.48 % |\n",
      "| name_ba      | String  |             8281 |             0 |    0.00 % |                  8281 |          100.00 % |\n",
      "| nbr_beers_ba | Int64   |             8281 |             0 |    0.00 % |                   231 |            2.79 % |\n",
      "| location_rb  | String  |             8281 |             0 |    0.00 % |                   205 |            2.48 % |\n",
      "| name_rb      | String  |             8281 |             0 |    0.00 % |                  8235 |           99.44 % |\n",
      "| nbr_beers_rb | Int64   |             8281 |             0 |    0.00 % |                   244 |            2.95 % |\n",
      "| diff_scores  | Float64 |             8281 |             0 |    0.00 % |                  4471 |           53.99 % |\n",
      "| sim_scores   | Float64 |             8281 |             0 |    0.00 % |                  1538 |           18.57 % |\n",
      "+--------------+---------+------------------+---------------+-----------+-----------------------+-------------------+\n"
     ]
    }
   ],
   "source": [
    "describe(df_breweries, filters=[\"id_ba\", \"id_rb\"])"
   ]
  },
  {
   "cell_type": "markdown",
   "metadata": {},
   "source": [
    "For our breweries on both platforms, we have no missing values (in this matched data)."
   ]
  },
  {
   "cell_type": "markdown",
   "metadata": {},
   "source": [
    "##### Users dataset\n",
    "\n",
    "**Note**: The users_approx data is essentailly exactly the same however rather than users being matched exactly by username across the two platforms, they are matched using a TF-IDF vectorizer and cosine similarity. Users are matched if username is close enough and same location.\n",
    "\n",
    "For each of our users (for each platform), we have their number of ratings/reviews, their ID, their name, the timestamp of when they joined and their location. The location is interesting for us, along with the number of reviews of each user."
   ]
  },
  {
   "cell_type": "code",
   "execution_count": 9,
   "metadata": {},
   "outputs": [
    {
     "data": {
      "text/html": [
       "<div><style>\n",
       ".dataframe > thead > tr,\n",
       ".dataframe > tbody > tr {\n",
       "  text-align: right;\n",
       "  white-space: pre-wrap;\n",
       "}\n",
       "</style>\n",
       "<small>shape: (5, 14)</small><table border=\"1\" class=\"dataframe\"><thead><tr><th>joined_ba</th><th>location_ba</th><th>nbr_ratings_ba</th><th>nbr_reviews_ba</th><th>user_id_ba</th><th>user_name_ba</th><th>user_name_lower_ba</th><th>joined_rb</th><th>location_rb</th><th>nbr_ratings_rb</th><th>user_id_rb</th><th>user_name_rb</th><th>user_name_lower_rb</th><th>sim_scores</th></tr><tr><td>f64</td><td>str</td><td>i64</td><td>i64</td><td>str</td><td>str</td><td>str</td><td>f64</td><td>str</td><td>i64</td><td>i64</td><td>str</td><td>str</td><td>f64</td></tr></thead><tbody><tr><td>1.4059e9</td><td>&quot;Taiwan&quot;</td><td>499</td><td>248</td><td>&quot;jackieku.830313&quot;</td><td>&quot;JackieKu&quot;</td><td>&quot;jackieku&quot;</td><td>1.4141e9</td><td>&quot;Taiwan&quot;</td><td>3</td><td>341016</td><td>&quot;jackieku&quot;</td><td>&quot;jackieku&quot;</td><td>1.0</td></tr><tr><td>1.3146e9</td><td>&quot;Netherlands&quot;</td><td>499</td><td>332</td><td>&quot;mar02x.618252&quot;</td><td>&quot;Mar02x&quot;</td><td>&quot;mar02x&quot;</td><td>1.3112e9</td><td>&quot;Netherlands&quot;</td><td>1</td><td>132153</td><td>&quot;Mar02x&quot;</td><td>&quot;mar02x&quot;</td><td>1.0</td></tr><tr><td>1.2970e9</td><td>&quot;United States, Virginia&quot;</td><td>289</td><td>0</td><td>&quot;miamilice.563376&quot;</td><td>&quot;Miamilice&quot;</td><td>&quot;miamilice&quot;</td><td>1.3232e9</td><td>&quot;United States, Virginia&quot;</td><td>1</td><td>144492</td><td>&quot;Miamilice&quot;</td><td>&quot;miamilice&quot;</td><td>1.0</td></tr><tr><td>1.2999e9</td><td>&quot;United States, Georgia&quot;</td><td>56</td><td>0</td><td>&quot;sirzekel.578924&quot;</td><td>&quot;sirzekel&quot;</td><td>&quot;sirzekel&quot;</td><td>1.4479e9</td><td>&quot;United States, Georgia&quot;</td><td>48</td><td>391650</td><td>&quot;sirzekel&quot;</td><td>&quot;sirzekel&quot;</td><td>1.0</td></tr><tr><td>1.1123e9</td><td>&quot;United States, Texas&quot;</td><td>12</td><td>12</td><td>&quot;2ndstage.17173&quot;</td><td>&quot;2ndstage&quot;</td><td>&quot;2ndstage&quot;</td><td>1.0863e9</td><td>&quot;United States, Texas&quot;</td><td>4</td><td>12887</td><td>&quot;2ndstage&quot;</td><td>&quot;2ndstage&quot;</td><td>1.0</td></tr></tbody></table></div>"
      ],
      "text/plain": [
       "shape: (5, 14)\n",
       "┌───────────┬───────────┬───────────┬───────────┬───┬───────────┬───────────┬───────────┬──────────┐\n",
       "│ joined_ba ┆ location_ ┆ nbr_ratin ┆ nbr_revie ┆ … ┆ user_id_r ┆ user_name ┆ user_name ┆ sim_scor │\n",
       "│ ---       ┆ ba        ┆ gs_ba     ┆ ws_ba     ┆   ┆ b         ┆ _rb       ┆ _lower_rb ┆ es       │\n",
       "│ f64       ┆ ---       ┆ ---       ┆ ---       ┆   ┆ ---       ┆ ---       ┆ ---       ┆ ---      │\n",
       "│           ┆ str       ┆ i64       ┆ i64       ┆   ┆ i64       ┆ str       ┆ str       ┆ f64      │\n",
       "╞═══════════╪═══════════╪═══════════╪═══════════╪═══╪═══════════╪═══════════╪═══════════╪══════════╡\n",
       "│ 1.4059e9  ┆ Taiwan    ┆ 499       ┆ 248       ┆ … ┆ 341016    ┆ jackieku  ┆ jackieku  ┆ 1.0      │\n",
       "│ 1.3146e9  ┆ Netherlan ┆ 499       ┆ 332       ┆ … ┆ 132153    ┆ Mar02x    ┆ mar02x    ┆ 1.0      │\n",
       "│           ┆ ds        ┆           ┆           ┆   ┆           ┆           ┆           ┆          │\n",
       "│ 1.2970e9  ┆ United    ┆ 289       ┆ 0         ┆ … ┆ 144492    ┆ Miamilice ┆ miamilice ┆ 1.0      │\n",
       "│           ┆ States,   ┆           ┆           ┆   ┆           ┆           ┆           ┆          │\n",
       "│           ┆ Virginia  ┆           ┆           ┆   ┆           ┆           ┆           ┆          │\n",
       "│ 1.2999e9  ┆ United    ┆ 56        ┆ 0         ┆ … ┆ 391650    ┆ sirzekel  ┆ sirzekel  ┆ 1.0      │\n",
       "│           ┆ States,   ┆           ┆           ┆   ┆           ┆           ┆           ┆          │\n",
       "│           ┆ Georgia   ┆           ┆           ┆   ┆           ┆           ┆           ┆          │\n",
       "│ 1.1123e9  ┆ United    ┆ 12        ┆ 12        ┆ … ┆ 12887     ┆ 2ndstage  ┆ 2ndstage  ┆ 1.0      │\n",
       "│           ┆ States,   ┆           ┆           ┆   ┆           ┆           ┆           ┆          │\n",
       "│           ┆ Texas     ┆           ┆           ┆   ┆           ┆           ┆           ┆          │\n",
       "└───────────┴───────────┴───────────┴───────────┴───┴───────────┴───────────┴───────────┴──────────┘"
      ]
     },
     "execution_count": 9,
     "metadata": {},
     "output_type": "execute_result"
    }
   ],
   "source": [
    "df_users.sample(5)"
   ]
  },
  {
   "cell_type": "markdown",
   "metadata": {},
   "source": [
    "The dataset has the following structure\n",
    "| Column Name | Description |\n",
    "|-------------|-------------|\n",
    "| `user_id_ba` / `user_id_rb` | Unique identifier for each user in BA/RB |\n",
    "| `user_name_ba` / `user_name_rb` | Username of the reviewer in BA/RB |\n",
    "| `user_name_lower_ba` / `user_name_lower_rb` | Lowercase username in BA/RB |\n",
    "| `joined_ba` / `joined_rb` | Date when the user joined BA/RB |\n",
    "| `location_ba` / `location_rb` | Geographic location of the user in BA/RB |\n",
    "| `nbr_ratings_ba` / `nbr_ratings_rb` | Number of ratings submitted by the user in BA/RB |\n",
    "| `nbr_reviews_ba` | Number of reviews submitted by the user in BA |"
   ]
  },
  {
   "cell_type": "code",
   "execution_count": 10,
   "metadata": {},
   "outputs": [
    {
     "name": "stdout",
     "output_type": "stream",
     "text": [
      "+--------------------+---------+------------------+---------------+-----------+-----------------------+-------------------+\n",
      "| Column             | Type    |   Not null count |   Nulls count |   Nulls % |   Unique values count |   Unique values % |\n",
      "|--------------------+---------+------------------+---------------+-----------+-----------------------+-------------------|\n",
      "| joined_ba          | Float64 |             3341 |             0 |    0.00 % |                  2352 |           70.40 % |\n",
      "| location_ba        | String  |             3341 |             0 |    0.00 % |                   111 |            3.32 % |\n",
      "| nbr_ratings_ba     | Int64   |             3341 |             0 |    0.00 % |                   660 |           19.75 % |\n",
      "| nbr_reviews_ba     | Int64   |             3341 |             0 |    0.00 % |                   475 |           14.22 % |\n",
      "| user_id_ba         | String  |             3341 |             0 |    0.00 % |                  3316 |           99.25 % |\n",
      "| user_name_ba       | String  |             3341 |             0 |    0.00 % |                  3316 |           99.25 % |\n",
      "| user_name_lower_ba | String  |             3341 |             0 |    0.00 % |                  3316 |           99.25 % |\n",
      "| joined_rb          | Float64 |             3341 |             0 |    0.00 % |                  2352 |           70.40 % |\n",
      "| location_rb        | String  |             3341 |             0 |    0.00 % |                   111 |            3.32 % |\n",
      "| nbr_ratings_rb     | Int64   |             3341 |             0 |    0.00 % |                   591 |           17.69 % |\n",
      "| user_id_rb         | Int64   |             3341 |             0 |    0.00 % |                  3341 |          100.00 % |\n",
      "| user_name_rb       | String  |             3341 |             0 |    0.00 % |                  3341 |          100.00 % |\n",
      "| user_name_lower_rb | String  |             3341 |             0 |    0.00 % |                  3341 |          100.00 % |\n",
      "| sim_scores         | Float64 |             3341 |             0 |    0.00 % |                   107 |            3.20 % |\n",
      "+--------------------+---------+------------------+---------------+-----------+-----------------------+-------------------+\n"
     ]
    }
   ],
   "source": [
    "describe(df_users)"
   ]
  },
  {
   "cell_type": "code",
   "execution_count": 11,
   "metadata": {},
   "outputs": [
    {
     "name": "stdout",
     "output_type": "stream",
     "text": [
      "+----------------+----------+-----------+-------+-------+-------+----------+-------+\n",
      "| Column         |     Mean |       Std |   25% |   50% |   75% |      Min |   Max |\n",
      "|----------------+----------+-----------+-------+-------+-------+----------+-------|\n",
      "| nbr_ratings_ba |  211.612 |   685.867 |     2 |    13 |   106 |        1 | 12046 |\n",
      "| nbr_reviews_ba |  118.232 |   454.174 |     1 |     3 |    29 |        0 |  7593 |\n",
      "| nbr_ratings_rb |  270.923 |   1143.09 |     2 |     5 |    38 |        1 | 20678 |\n",
      "| sim_scores     | 0.986855 | 0.0425066 |     1 |     1 |     1 | 0.800641 |     1 |\n",
      "+----------------+----------+-----------+-------+-------+-------+----------+-------+\n"
     ]
    }
   ],
   "source": [
    "describe_numbers(df_users, filters=[\"user_id_rb\", \"joined_ba\", \"joined_rb\"])"
   ]
  },
  {
   "cell_type": "markdown",
   "metadata": {},
   "source": [
    "To make the `joined` columns more readable we cast them to a datetime object."
   ]
  },
  {
   "cell_type": "code",
   "execution_count": 12,
   "metadata": {},
   "outputs": [
    {
     "data": {
      "text/html": [
       "<div><style>\n",
       ".dataframe > thead > tr,\n",
       ".dataframe > tbody > tr {\n",
       "  text-align: right;\n",
       "  white-space: pre-wrap;\n",
       "}\n",
       "</style>\n",
       "<small>shape: (5, 14)</small><table border=\"1\" class=\"dataframe\"><thead><tr><th>joined_ba</th><th>location_ba</th><th>nbr_ratings_ba</th><th>nbr_reviews_ba</th><th>user_id_ba</th><th>user_name_ba</th><th>user_name_lower_ba</th><th>joined_rb</th><th>location_rb</th><th>nbr_ratings_rb</th><th>user_id_rb</th><th>user_name_rb</th><th>user_name_lower_rb</th><th>sim_scores</th></tr><tr><td>datetime[ms]</td><td>str</td><td>i64</td><td>i64</td><td>str</td><td>str</td><td>str</td><td>datetime[ms]</td><td>str</td><td>i64</td><td>i64</td><td>str</td><td>str</td><td>f64</td></tr></thead><tbody><tr><td>2008-03-21 11:00:00</td><td>&quot;United States, California&quot;</td><td>71</td><td>63</td><td>&quot;jjh19.205113&quot;</td><td>&quot;jjh19&quot;</td><td>&quot;jjh19&quot;</td><td>2009-11-25 11:00:00</td><td>&quot;United States, California&quot;</td><td>42</td><td>98075</td><td>&quot;jjh19&quot;</td><td>&quot;jjh19&quot;</td><td>1.0</td></tr><tr><td>2015-01-17 11:00:00</td><td>&quot;Norway&quot;</td><td>1</td><td>0</td><td>&quot;ketil.928679&quot;</td><td>&quot;Ketil&quot;</td><td>&quot;ketil&quot;</td><td>2010-12-17 11:00:00</td><td>&quot;Norway&quot;</td><td>6</td><td>119220</td><td>&quot;ketilgr&quot;</td><td>&quot;ketilgr&quot;</td><td>0.816497</td></tr><tr><td>2013-04-19 10:00:00</td><td>&quot;United States, Pennsylvania&quot;</td><td>162</td><td>3</td><td>&quot;chuckv.729274&quot;</td><td>&quot;chuckv&quot;</td><td>&quot;chuckv&quot;</td><td>2013-04-20 10:00:00</td><td>&quot;United States, Pennsylvania&quot;</td><td>3</td><td>255217</td><td>&quot;Chuckv&quot;</td><td>&quot;chuckv&quot;</td><td>1.0</td></tr><tr><td>2013-09-28 10:00:00</td><td>&quot;United States, Illinois&quot;</td><td>2</td><td>2</td><td>&quot;kwilk.756262&quot;</td><td>&quot;Kwilk&quot;</td><td>&quot;kwilk&quot;</td><td>2013-09-26 10:00:00</td><td>&quot;United States, Illinois&quot;</td><td>1</td><td>281042</td><td>&quot;Kwilk&quot;</td><td>&quot;kwilk&quot;</td><td>1.0</td></tr><tr><td>2004-06-04 10:00:00</td><td>&quot;United States, New York&quot;</td><td>120</td><td>0</td><td>&quot;sjjn.6634&quot;</td><td>&quot;sjjn&quot;</td><td>&quot;sjjn&quot;</td><td>2004-07-09 10:00:00</td><td>&quot;United States, New York&quot;</td><td>8</td><td>13561</td><td>&quot;sjjn&quot;</td><td>&quot;sjjn&quot;</td><td>1.0</td></tr></tbody></table></div>"
      ],
      "text/plain": [
       "shape: (5, 14)\n",
       "┌───────────┬───────────┬───────────┬───────────┬───┬───────────┬───────────┬───────────┬──────────┐\n",
       "│ joined_ba ┆ location_ ┆ nbr_ratin ┆ nbr_revie ┆ … ┆ user_id_r ┆ user_name ┆ user_name ┆ sim_scor │\n",
       "│ ---       ┆ ba        ┆ gs_ba     ┆ ws_ba     ┆   ┆ b         ┆ _rb       ┆ _lower_rb ┆ es       │\n",
       "│ datetime[ ┆ ---       ┆ ---       ┆ ---       ┆   ┆ ---       ┆ ---       ┆ ---       ┆ ---      │\n",
       "│ ms]       ┆ str       ┆ i64       ┆ i64       ┆   ┆ i64       ┆ str       ┆ str       ┆ f64      │\n",
       "╞═══════════╪═══════════╪═══════════╪═══════════╪═══╪═══════════╪═══════════╪═══════════╪══════════╡\n",
       "│ 2008-03-2 ┆ United    ┆ 71        ┆ 63        ┆ … ┆ 98075     ┆ jjh19     ┆ jjh19     ┆ 1.0      │\n",
       "│ 1         ┆ States,   ┆           ┆           ┆   ┆           ┆           ┆           ┆          │\n",
       "│ 11:00:00  ┆ Californi ┆           ┆           ┆   ┆           ┆           ┆           ┆          │\n",
       "│           ┆ a         ┆           ┆           ┆   ┆           ┆           ┆           ┆          │\n",
       "│ 2015-01-1 ┆ Norway    ┆ 1         ┆ 0         ┆ … ┆ 119220    ┆ ketilgr   ┆ ketilgr   ┆ 0.816497 │\n",
       "│ 7         ┆           ┆           ┆           ┆   ┆           ┆           ┆           ┆          │\n",
       "│ 11:00:00  ┆           ┆           ┆           ┆   ┆           ┆           ┆           ┆          │\n",
       "│ 2013-04-1 ┆ United    ┆ 162       ┆ 3         ┆ … ┆ 255217    ┆ Chuckv    ┆ chuckv    ┆ 1.0      │\n",
       "│ 9         ┆ States,   ┆           ┆           ┆   ┆           ┆           ┆           ┆          │\n",
       "│ 10:00:00  ┆ Pennsylva ┆           ┆           ┆   ┆           ┆           ┆           ┆          │\n",
       "│           ┆ nia       ┆           ┆           ┆   ┆           ┆           ┆           ┆          │\n",
       "│ 2013-09-2 ┆ United    ┆ 2         ┆ 2         ┆ … ┆ 281042    ┆ Kwilk     ┆ kwilk     ┆ 1.0      │\n",
       "│ 8         ┆ States,   ┆           ┆           ┆   ┆           ┆           ┆           ┆          │\n",
       "│ 10:00:00  ┆ Illinois  ┆           ┆           ┆   ┆           ┆           ┆           ┆          │\n",
       "│ 2004-06-0 ┆ United    ┆ 120       ┆ 0         ┆ … ┆ 13561     ┆ sjjn      ┆ sjjn      ┆ 1.0      │\n",
       "│ 4         ┆ States,   ┆           ┆           ┆   ┆           ┆           ┆           ┆          │\n",
       "│ 10:00:00  ┆ New York  ┆           ┆           ┆   ┆           ┆           ┆           ┆          │\n",
       "└───────────┴───────────┴───────────┴───────────┴───┴───────────┴───────────┴───────────┴──────────┘"
      ]
     },
     "execution_count": 12,
     "metadata": {},
     "output_type": "execute_result"
    }
   ],
   "source": [
    "df_users = df_users.with_columns((pl.col(\"joined_ba\").cast(pl.Int64) * 1000).cast(pl.Datetime(\"ms\")))\n",
    "df_users = df_users.with_columns((pl.col(\"joined_rb\").cast(pl.Int64) * 1000).cast(pl.Datetime(\"ms\")))\n",
    "df_users.sample(5)"
   ]
  },
  {
   "cell_type": "markdown",
   "metadata": {},
   "source": [
    "##### Ratings"
   ]
  },
  {
   "cell_type": "code",
   "execution_count": 13,
   "metadata": {},
   "outputs": [
    {
     "data": {
      "text/html": [
       "<div><style>\n",
       ".dataframe > thead > tr,\n",
       ".dataframe > tbody > tr {\n",
       "  text-align: right;\n",
       "  white-space: pre-wrap;\n",
       "}\n",
       "</style>\n",
       "<small>shape: (5, 33)</small><table border=\"1\" class=\"dataframe\"><thead><tr><th>abv_ba</th><th>appearance_ba</th><th>aroma_ba</th><th>beer_id_ba</th><th>beer_name_ba</th><th>brewery_id_ba</th><th>brewery_name_ba</th><th>date_ba</th><th>overall_ba</th><th>palate_ba</th><th>rating_ba</th><th>review_ba</th><th>style_ba</th><th>taste_ba</th><th>text_ba</th><th>user_id_ba</th><th>user_name_ba</th><th>abv_rb</th><th>appearance_rb</th><th>aroma_rb</th><th>beer_id_rb</th><th>beer_name_rb</th><th>brewery_id_rb</th><th>brewery_name_rb</th><th>date_rb</th><th>overall_rb</th><th>palate_rb</th><th>rating_rb</th><th>style_rb</th><th>taste_rb</th><th>text_rb</th><th>user_id_rb</th><th>user_name_rb</th></tr><tr><td>f64</td><td>f64</td><td>f64</td><td>i64</td><td>str</td><td>i64</td><td>str</td><td>i64</td><td>f64</td><td>f64</td><td>f64</td><td>bool</td><td>str</td><td>f64</td><td>str</td><td>str</td><td>str</td><td>f64</td><td>f64</td><td>f64</td><td>i64</td><td>str</td><td>i64</td><td>str</td><td>i64</td><td>f64</td><td>f64</td><td>f64</td><td>str</td><td>f64</td><td>str</td><td>i64</td><td>str</td></tr></thead><tbody><tr><td>6.7</td><td>5.0</td><td>4.0</td><td>198896</td><td>&quot;The Bright Side&quot;</td><td>34599</td><td>&quot;Brew Gentlemen&quot;</td><td>1459418400</td><td>4.25</td><td>4.0</td><td>4.11</td><td>true</td><td>&quot;American IPA&quot;</td><td>4.0</td><td>&quot;pour is pale hazed yellow with…</td><td>&quot;cpetrone84.343431&quot;</td><td>&quot;cpetrone84&quot;</td><td>6.7</td><td>5.0</td><td>8.0</td><td>374945</td><td>&quot;The Brew Gentlemen The Bright …</td><td>19561</td><td>&quot;Brew Gentlemen&quot;</td><td>1459418400</td><td>17.0</td><td>4.0</td><td>4.2</td><td>&quot;India Pale Ale (IPA)&quot;</td><td>8.0</td><td>&quot;pour is pale hazed yellow with…</td><td>99545</td><td>&quot;cpetrone84&quot;</td></tr><tr><td>7.0</td><td>null</td><td>null</td><td>111053</td><td>&quot;Ava IPA&quot;</td><td>17980</td><td>&quot;Lawson&#x27;s Finest Liquids&quot;</td><td>1391425200</td><td>null</td><td>null</td><td>4.0</td><td>true</td><td>&quot;American IPA&quot;</td><td>null</td><td>&quot;nan&quot;</td><td>&quot;tom10101.528127&quot;</td><td>&quot;tom10101&quot;</td><td>7.0</td><td>3.0</td><td>8.0</td><td>248339</td><td>&quot;Lawsons Finest Ava IPA&quot;</td><td>9863</td><td>&quot;Lawsons Finest Liquids&quot;</td><td>1391425200</td><td>16.0</td><td>4.0</td><td>3.9</td><td>&quot;India Pale Ale (IPA)&quot;</td><td>8.0</td><td>&quot;On tap @ The Reservoir (Waterb…</td><td>126758</td><td>&quot;tom10101&quot;</td></tr><tr><td>6.0</td><td>null</td><td>null</td><td>96755</td><td>&quot;Grassroots Arctic Saison&quot;</td><td>23205</td><td>&quot;Grassroots Brewing&quot;</td><td>1381658400</td><td>null</td><td>null</td><td>3.75</td><td>true</td><td>&quot;Saison / Farmhouse Ale&quot;</td><td>null</td><td>&quot;nan&quot;</td><td>&quot;sammy.3853&quot;</td><td>&quot;Sammy&quot;</td><td>6.0</td><td>4.0</td><td>5.0</td><td>216712</td><td>&quot;Grassroots Arctic Saison&quot;</td><td>11094</td><td>&quot;Grassroots Brewing&quot;</td><td>1381572000</td><td>16.0</td><td>4.0</td><td>3.5</td><td>&quot;Saison&quot;</td><td>6.0</td><td>&quot;From craftshack. A little funk…</td><td>11905</td><td>&quot;Sammy&quot;</td></tr><tr><td>12.0</td><td>4.5</td><td>4.75</td><td>3833</td><td>&quot;AleSmith Speedway Stout&quot;</td><td>396</td><td>&quot;AleSmith Brewing Company&quot;</td><td>1361790000</td><td>4.75</td><td>4.5</td><td>4.71</td><td>true</td><td>&quot;American Double / Imperial Sto…</td><td>4.75</td><td>&quot;Opened at a tasting alongside …</td><td>&quot;tectactoe.666880&quot;</td><td>&quot;tectactoe&quot;</td><td>12.0</td><td>4.0</td><td>9.0</td><td>14232</td><td>&quot;AleSmith Speedway Stout&quot;</td><td>432</td><td>&quot;AleSmith Brewing Company&quot;</td><td>1399370400</td><td>17.0</td><td>4.0</td><td>4.3</td><td>&quot;Imperial Stout&quot;</td><td>9.0</td><td>&quot;Bottle: Deep, dark - black wit…</td><td>217974</td><td>&quot;tectactoe&quot;</td></tr><tr><td>10.2</td><td>4.0</td><td>4.0</td><td>37692</td><td>&quot;Twelve&quot;</td><td>392</td><td>&quot;Weyerbacher Brewing Co.&quot;</td><td>1268996400</td><td>4.0</td><td>4.0</td><td>4.0</td><td>true</td><td>&quot;American Barleywine&quot;</td><td>4.0</td><td>&quot;Thanks to bu11zeye for sharing…</td><td>&quot;mora2000.164611&quot;</td><td>&quot;Mora2000&quot;</td><td>10.2</td><td>4.0</td><td>7.0</td><td>73531</td><td>&quot;Weyerbacher Twelve&quot;</td><td>241</td><td>&quot;Weyerbacher Brewing Co.&quot;</td><td>1268996400</td><td>15.0</td><td>4.0</td><td>3.7</td><td>&quot;Barley Wine&quot;</td><td>7.0</td><td>&quot;Thanks to bu11zeye for sharing…</td><td>78912</td><td>&quot;Mora2000&quot;</td></tr></tbody></table></div>"
      ],
      "text/plain": [
       "shape: (5, 33)\n",
       "┌────────┬────────────┬──────────┬────────────┬───┬──────────┬────────────┬────────────┬───────────┐\n",
       "│ abv_ba ┆ appearance ┆ aroma_ba ┆ beer_id_ba ┆ … ┆ taste_rb ┆ text_rb    ┆ user_id_rb ┆ user_name │\n",
       "│ ---    ┆ _ba        ┆ ---      ┆ ---        ┆   ┆ ---      ┆ ---        ┆ ---        ┆ _rb       │\n",
       "│ f64    ┆ ---        ┆ f64      ┆ i64        ┆   ┆ f64      ┆ str        ┆ i64        ┆ ---       │\n",
       "│        ┆ f64        ┆          ┆            ┆   ┆          ┆            ┆            ┆ str       │\n",
       "╞════════╪════════════╪══════════╪════════════╪═══╪══════════╪════════════╪════════════╪═══════════╡\n",
       "│ 6.7    ┆ 5.0        ┆ 4.0      ┆ 198896     ┆ … ┆ 8.0      ┆ pour is    ┆ 99545      ┆ cpetrone8 │\n",
       "│        ┆            ┆          ┆            ┆   ┆          ┆ pale hazed ┆            ┆ 4         │\n",
       "│        ┆            ┆          ┆            ┆   ┆          ┆ yellow     ┆            ┆           │\n",
       "│        ┆            ┆          ┆            ┆   ┆          ┆ with…      ┆            ┆           │\n",
       "│ 7.0    ┆ null       ┆ null     ┆ 111053     ┆ … ┆ 8.0      ┆ On tap @   ┆ 126758     ┆ tom10101  │\n",
       "│        ┆            ┆          ┆            ┆   ┆          ┆ The        ┆            ┆           │\n",
       "│        ┆            ┆          ┆            ┆   ┆          ┆ Reservoir  ┆            ┆           │\n",
       "│        ┆            ┆          ┆            ┆   ┆          ┆ (Waterb…   ┆            ┆           │\n",
       "│ 6.0    ┆ null       ┆ null     ┆ 96755      ┆ … ┆ 6.0      ┆ From craft ┆ 11905      ┆ Sammy     │\n",
       "│        ┆            ┆          ┆            ┆   ┆          ┆ shack. A   ┆            ┆           │\n",
       "│        ┆            ┆          ┆            ┆   ┆          ┆ little     ┆            ┆           │\n",
       "│        ┆            ┆          ┆            ┆   ┆          ┆ funk…      ┆            ┆           │\n",
       "│ 12.0   ┆ 4.5        ┆ 4.75     ┆ 3833       ┆ … ┆ 9.0      ┆ Bottle:    ┆ 217974     ┆ tectactoe │\n",
       "│        ┆            ┆          ┆            ┆   ┆          ┆ Deep, dark ┆            ┆           │\n",
       "│        ┆            ┆          ┆            ┆   ┆          ┆ - black    ┆            ┆           │\n",
       "│        ┆            ┆          ┆            ┆   ┆          ┆ wit…       ┆            ┆           │\n",
       "│ 10.2   ┆ 4.0        ┆ 4.0      ┆ 37692      ┆ … ┆ 7.0      ┆ Thanks to  ┆ 78912      ┆ Mora2000  │\n",
       "│        ┆            ┆          ┆            ┆   ┆          ┆ bu11zeye   ┆            ┆           │\n",
       "│        ┆            ┆          ┆            ┆   ┆          ┆ for        ┆            ┆           │\n",
       "│        ┆            ┆          ┆            ┆   ┆          ┆ sharing…   ┆            ┆           │\n",
       "└────────┴────────────┴──────────┴────────────┴───┴──────────┴────────────┴────────────┴───────────┘"
      ]
     },
     "execution_count": 13,
     "metadata": {},
     "output_type": "execute_result"
    }
   ],
   "source": [
    "df_ratings.sample(5)"
   ]
  },
  {
   "cell_type": "code",
   "execution_count": 14,
   "metadata": {},
   "outputs": [
    {
     "name": "stdout",
     "output_type": "stream",
     "text": [
      "+-----------------+---------+------------------+---------------+-----------+-----------------------+-------------------+\n",
      "| Column          | Type    |   Not null count |   Nulls count |   Nulls % |   Unique values count |   Unique values % |\n",
      "|-----------------+---------+------------------+---------------+-----------+-----------------------+-------------------|\n",
      "| abv_ba          | Float64 |            21964 |             0 |    0.00 % |                   187 |            0.85 % |\n",
      "| appearance_ba   | Float64 |            19295 |          2669 |   12.15 % |                    18 |            0.09 % |\n",
      "| aroma_ba        | Float64 |            19295 |          2669 |   12.15 % |                    18 |            0.09 % |\n",
      "| beer_id_ba      | Int64   |            21964 |             0 |    0.00 % |                  9025 |           41.09 % |\n",
      "| beer_name_ba    | String  |            21964 |             0 |    0.00 % |                  8719 |           39.70 % |\n",
      "| brewery_id_ba   | Int64   |            21964 |             0 |    0.00 % |                  2230 |           10.15 % |\n",
      "| brewery_name_ba | String  |            21964 |             0 |    0.00 % |                  2230 |           10.15 % |\n",
      "| date_ba         | Int64   |            21964 |             0 |    0.00 % |                  4622 |           21.04 % |\n",
      "| overall_ba      | Float64 |            19295 |          2669 |   12.15 % |                    18 |            0.09 % |\n",
      "| palate_ba       | Float64 |            19295 |          2669 |   12.15 % |                    18 |            0.09 % |\n",
      "| rating_ba       | Float64 |            21964 |             0 |    0.00 % |                   377 |            1.72 % |\n",
      "| review_ba       | Boolean |            21964 |             0 |    0.00 % |                     1 |            0.00 % |\n",
      "| style_ba        | String  |            21964 |             0 |    0.00 % |                   104 |            0.47 % |\n",
      "| taste_ba        | Float64 |            19295 |          2669 |   12.15 % |                    18 |            0.09 % |\n",
      "| text_ba         | String  |            21964 |             0 |    0.00 % |                 18276 |           83.21 % |\n",
      "| user_id_ba      | String  |            21964 |             0 |    0.00 % |                   879 |            4.00 % |\n",
      "| user_name_ba    | String  |            21964 |             0 |    0.00 % |                   879 |            4.00 % |\n",
      "| abv_rb          | Float64 |            21964 |             0 |    0.00 % |                   187 |            0.85 % |\n",
      "| appearance_rb   | Float64 |            21964 |             0 |    0.00 % |                     5 |            0.02 % |\n",
      "| aroma_rb        | Float64 |            21964 |             0 |    0.00 % |                    10 |            0.05 % |\n",
      "| beer_id_rb      | Int64   |            21964 |             0 |    0.00 % |                  9025 |           41.09 % |\n",
      "| beer_name_rb    | String  |            21964 |             0 |    0.00 % |                  9025 |           41.09 % |\n",
      "| brewery_id_rb   | Int64   |            21964 |             0 |    0.00 % |                  2230 |           10.15 % |\n",
      "| brewery_name_rb | String  |            21964 |             0 |    0.00 % |                  2230 |           10.15 % |\n",
      "| date_rb         | Int64   |            21964 |             0 |    0.00 % |                  4605 |           20.97 % |\n",
      "| overall_rb      | Float64 |            21964 |             0 |    0.00 % |                    20 |            0.09 % |\n",
      "| palate_rb       | Float64 |            21964 |             0 |    0.00 % |                     5 |            0.02 % |\n",
      "| rating_rb       | Float64 |            21964 |             0 |    0.00 % |                    46 |            0.21 % |\n",
      "| style_rb        | String  |            21964 |             0 |    0.00 % |                    79 |            0.36 % |\n",
      "| taste_rb        | Float64 |            21964 |             0 |    0.00 % |                    10 |            0.05 % |\n",
      "| text_rb         | String  |            21964 |             0 |    0.00 % |                 21959 |           99.98 % |\n",
      "| user_id_rb      | Int64   |            21964 |             0 |    0.00 % |                   879 |            4.00 % |\n",
      "| user_name_rb    | String  |            21964 |             0 |    0.00 % |                   879 |            4.00 % |\n",
      "+-----------------+---------+------------------+---------------+-----------+-----------------------+-------------------+\n"
     ]
    }
   ],
   "source": [
    "describe(df_ratings)"
   ]
  },
  {
   "cell_type": "markdown",
   "metadata": {},
   "source": [
    "The dataset has the following structure\n",
    "\n",
    "| Column Name | Description |\n",
    "|-------------|-------------|\n",
    "| `beer_id_ba` / `beer_id_rb` | Unique identifier for the beer in BA/RB |\n",
    "| `beer_name_ba` / `beer_name_rb` | Name of the beer in BA/RB |\n",
    "| `brewery_id_ba` / `brewery_id_rb` | Unique identifier for the brewery in BA/RB |\n",
    "| `brewery_name_ba` / `brewery_name_rb` | Name of the brewery in BA/RB |\n",
    "| `style_ba` / `style_rb` | Beer style in BA/RB |\n",
    "| `abv_ba` / `abv_rb` | Alcohol By Volume percentage in BA/RB |\n",
    "| `user_id_ba` / `user_id_rb` | Unique identifier for the user in BA/RB |\n",
    "| `user_name_ba` / `user_name_rb` | Username of the reviewer in BA/RB |\n",
    "| `date_ba` / `date_rb` | Date of the review in BA/RB |\n",
    "| `rating_ba` / `rating_rb` | Overall rating given by the user in BA/RB |\n",
    "| `overall_ba` / `overall_rb` | Overall score in BA/RB |\n",
    "| `appearance_ba` / `appearance_rb` | Appearance score in BA/RB |\n",
    "| `aroma_ba` / `aroma_rb` | Aroma score in BA/RB |\n",
    "| `palate_ba` / `palate_rb` | Palate score in BA/RB |\n",
    "| `taste_ba` / `taste_rb` | Taste score in BA/RB |\n",
    "| `text_ba` / `text_rb` | Review text in BA/RB |\n",
    "| `review_ba` | Whether or not there is a BA review available |"
   ]
  },
  {
   "cell_type": "code",
   "execution_count": 15,
   "metadata": {},
   "outputs": [
    {
     "name": "stdout",
     "output_type": "stream",
     "text": [
      "+---------------+-------------+-------------+-------------+-------------+-------------+-------------+-------------+\n",
      "| Column        |        Mean |         Std |         25% |         50% |         75% |         Min |         Max |\n",
      "|---------------+-------------+-------------+-------------+-------------+-------------+-------------+-------------|\n",
      "| abv_ba        |     6.80022 |     2.09619 |         5.2 |         6.4 |           8 |         0.5 |          39 |\n",
      "| appearance_ba |     3.78329 |    0.562042 |         3.5 |           4 |           4 |           1 |           5 |\n",
      "| aroma_ba      |     3.70404 |    0.597862 |         3.5 |        3.75 |           4 |           1 |           5 |\n",
      "| date_ba       | 1.34367e+09 | 1.12069e+08 | 1.27098e+09 | 1.36835e+09 | 1.43471e+09 | 9.84136e+08 | 1.50141e+09 |\n",
      "| overall_ba    |     3.73419 |    0.614882 |         3.5 |           4 |           4 |           1 |           5 |\n",
      "| palate_ba     |     3.67871 |    0.618717 |         3.5 |        3.75 |           4 |           1 |           5 |\n",
      "| rating_ba     |     3.71303 |    0.554912 |        3.45 |        3.77 |        4.05 |           1 |           5 |\n",
      "| taste_ba      |     3.71587 |     0.62343 |         3.5 |        3.75 |           4 |           1 |           5 |\n",
      "| abv_rb        |     6.80022 |     2.09619 |         5.2 |         6.4 |           8 |         0.5 |          39 |\n",
      "| appearance_rb |     3.68599 |    0.677436 |           3 |           4 |           4 |           1 |           5 |\n",
      "| aroma_rb      |     6.96034 |     1.35567 |           6 |           7 |           8 |           1 |          10 |\n",
      "| date_rb       | 1.34484e+09 | 1.12501e+08 | 1.27832e+09 |  1.3655e+09 | 1.43436e+09 |  9.6953e+08 | 1.50141e+09 |\n",
      "| overall_rb    |     14.4017 |     2.67751 |          13 |          15 |          16 |           1 |          20 |\n",
      "| palate_rb     |     3.53506 |    0.733544 |           3 |           4 |           4 |           1 |           5 |\n",
      "| rating_rb     |     3.55882 |    0.585348 |         3.3 |         3.6 |           4 |         0.5 |           5 |\n",
      "| taste_rb      |     7.00519 |     1.38469 |           6 |           7 |           8 |           1 |          10 |\n",
      "+---------------+-------------+-------------+-------------+-------------+-------------+-------------+-------------+\n"
     ]
    }
   ],
   "source": [
    "describe_numbers(df_ratings, filters=[\"beer_id_ba\", \"beer_id_rb\", \"brewery_id_ba\", \"brewery_id_rb\", \"user_id_ba\", \"user_id_rb\"])"
   ]
  },
  {
   "cell_type": "markdown",
   "metadata": {},
   "source": [
    "Here we see:\n",
    "\n",
    "1. Alcohol By Volume (ABV)\n",
    "   - The `abv_ba` and `abv_rb` columns are identical again of course.\n",
    "\n",
    "2. Rating Categories on BeerAdvocate (BA)\n",
    "   - `appearance_ba`, `aroma_ba`, `palate_ba`, `taste_ba`, and `overall_ba` ratings on BeerAdvocate have similar means (ranging from 3.68 to 3.78) with a consistent standard deviation of around 0.6.\n",
    "   - The median for each category is close to 4, suggesting that BeerAdvocate users tend to give positive ratings overall, as the maximum for these is 5.\n",
    "   - The overall rating (`rating_ba`) has a mean of 3.71, indicating a generally favorable tendency in ratings across these categories.\n",
    "\n",
    "3. Rating Categories on RateBeer (RB)\n",
    "   - `appearance_rb`, `palate_rb`, and `rating_rb` have means similar to those on BeerAdvocate (3.53 to 3.69), suggesting that for these categories, user ratings are comparable across platforms.\n",
    "   - `aroma_rb` and `taste_rb`, however, have higher maximum scores of 10, with means of 6.96 and 7.01, respectively. This difference likely reflects a different scoring system or metric on RateBeer, which will need to be accounted for in our analysis.\n",
    "   - `overall_rb` shows a much broader scale, with a mean of 14.40 and a maximum of 20, indicating that RateBeer may use a larger rating scale for this category than BeerAdvocate does. Again this will need to be accounted for.\n",
    "\n",
    "4. General Trends\n",
    "   - BeerAdvocate ratings are generally more constrained within a 1-5 range for all categories, while RateBeer uses a broader scale for certain categories (`aroma_rb`, `taste_rb`, and `overall_rb`). This suggests a difference in rating systems that should be considered in cross-platform comparisons.\n",
    "   - Despite these scale differences, the means for comparable categories like `appearance`, `palate`, and `rating` are fairly aligned between platforms, implying similar user perceptions on these aspects of beer.\n",
    "\n",
    "Finally we'll convert the date into a datetime object.\n"
   ]
  },
  {
   "cell_type": "code",
   "execution_count": 16,
   "metadata": {},
   "outputs": [
    {
     "data": {
      "text/html": [
       "<div><style>\n",
       ".dataframe > thead > tr,\n",
       ".dataframe > tbody > tr {\n",
       "  text-align: right;\n",
       "  white-space: pre-wrap;\n",
       "}\n",
       "</style>\n",
       "<small>shape: (5, 33)</small><table border=\"1\" class=\"dataframe\"><thead><tr><th>abv_ba</th><th>appearance_ba</th><th>aroma_ba</th><th>beer_id_ba</th><th>beer_name_ba</th><th>brewery_id_ba</th><th>brewery_name_ba</th><th>date_ba</th><th>overall_ba</th><th>palate_ba</th><th>rating_ba</th><th>review_ba</th><th>style_ba</th><th>taste_ba</th><th>text_ba</th><th>user_id_ba</th><th>user_name_ba</th><th>abv_rb</th><th>appearance_rb</th><th>aroma_rb</th><th>beer_id_rb</th><th>beer_name_rb</th><th>brewery_id_rb</th><th>brewery_name_rb</th><th>date_rb</th><th>overall_rb</th><th>palate_rb</th><th>rating_rb</th><th>style_rb</th><th>taste_rb</th><th>text_rb</th><th>user_id_rb</th><th>user_name_rb</th></tr><tr><td>f64</td><td>f64</td><td>f64</td><td>i64</td><td>str</td><td>i64</td><td>str</td><td>datetime[ms]</td><td>f64</td><td>f64</td><td>f64</td><td>bool</td><td>str</td><td>f64</td><td>str</td><td>str</td><td>str</td><td>f64</td><td>f64</td><td>f64</td><td>i64</td><td>str</td><td>i64</td><td>str</td><td>datetime[ms]</td><td>f64</td><td>f64</td><td>f64</td><td>str</td><td>f64</td><td>str</td><td>i64</td><td>str</td></tr></thead><tbody><tr><td>6.75</td><td>5.0</td><td>4.5</td><td>20518</td><td>&quot;Sanctification&quot;</td><td>863</td><td>&quot;Russian River Brewing Company&quot;</td><td>2011-03-07 11:00:00</td><td>5.0</td><td>4.5</td><td>4.63</td><td>true</td><td>&quot;American Wild Ale&quot;</td><td>4.5</td><td>&quot;Shared by friends at a tasting…</td><td>&quot;cpetrone84.343431&quot;</td><td>&quot;cpetrone84&quot;</td><td>6.75</td><td>5.0</td><td>8.0</td><td>38052</td><td>&quot;Russian River Sanctification&quot;</td><td>1480</td><td>&quot;Russian River Brewing&quot;</td><td>2012-04-10 10:00:00</td><td>19.0</td><td>4.0</td><td>4.5</td><td>&quot;Sour/Wild Ale&quot;</td><td>9.0</td><td>&quot;Shared by friends at a tasting…</td><td>99545</td><td>&quot;cpetrone84&quot;</td></tr><tr><td>8.5</td><td>4.0</td><td>4.0</td><td>83362</td><td>&quot;Emil Lindén Doppel Weizen Bock&quot;</td><td>14439</td><td>&quot;Sigtuna Brygghus&quot;</td><td>2012-07-27 10:00:00</td><td>3.5</td><td>4.0</td><td>3.7</td><td>true</td><td>&quot;Weizenbock&quot;</td><td>3.5</td><td>&quot;A clouded amber/orange brew wi…</td><td>&quot;rarbring.354372&quot;</td><td>&quot;rarbring&quot;</td><td>8.5</td><td>4.0</td><td>8.0</td><td>179864</td><td>&quot;Sigtuna Emil Lindén Doppel Wei…</td><td>6774</td><td>&quot;Sigtuna Brygghus&quot;</td><td>2012-09-03 10:00:00</td><td>14.0</td><td>4.0</td><td>3.7</td><td>&quot;Weizen Bock&quot;</td><td>7.0</td><td>&quot;Aroma: Smelling fruity and spi…</td><td>104819</td><td>&quot;rarbring&quot;</td></tr><tr><td>10.5</td><td>3.5</td><td>4.0</td><td>199544</td><td>&quot;Madness &amp; Solitude&quot;</td><td>22511</td><td>&quot;Hill Farmstead Brewery&quot;</td><td>2015-12-14 11:00:00</td><td>4.0</td><td>3.75</td><td>3.95</td><td>true</td><td>&quot;American Double / Imperial IPA&quot;</td><td>4.0</td><td>&quot;Nicely done blend.  More of an…</td><td>&quot;sammy.3853&quot;</td><td>&quot;Sammy&quot;</td><td>10.5</td><td>3.0</td><td>6.0</td><td>375312</td><td>&quot;Hill Farmstead Madness &amp; Solit…</td><td>11233</td><td>&quot;Hill Farmstead Brewery&quot;</td><td>2015-12-13 11:00:00</td><td>16.0</td><td>3.0</td><td>3.5</td><td>&quot;Imperial IPA&quot;</td><td>7.0</td><td>&quot;Youngs house. Getting bourbon.…</td><td>11905</td><td>&quot;Sammy&quot;</td></tr><tr><td>7.75</td><td>4.0</td><td>4.5</td><td>12770</td><td>&quot;Damnation&quot;</td><td>863</td><td>&quot;Russian River Brewing Company&quot;</td><td>2010-09-05 10:00:00</td><td>4.0</td><td>4.0</td><td>4.12</td><td>true</td><td>&quot;Belgian Strong Pale Ale&quot;</td><td>4.0</td><td>&quot;A: Hazy, straw yellow hue with…</td><td>&quot;huhzubendah.168653&quot;</td><td>&quot;Huhzubendah&quot;</td><td>7.75</td><td>4.0</td><td>8.0</td><td>13146</td><td>&quot;Russian River Damnation&quot;</td><td>1480</td><td>&quot;Russian River Brewing&quot;</td><td>2012-07-24 10:00:00</td><td>15.0</td><td>4.0</td><td>3.8</td><td>&quot;Belgian Strong Ale&quot;</td><td>7.0</td><td>&quot;A: Hazy, straw yellow hue with…</td><td>96987</td><td>&quot;Huhzubendah&quot;</td></tr><tr><td>4.9</td><td>2.5</td><td>3.5</td><td>60321</td><td>&quot;Pagoa Pilsner - Horia&quot;</td><td>21833</td><td>&quot;Euskal Garagardoa S.L.&quot;</td><td>2014-08-12 10:00:00</td><td>3.25</td><td>3.0</td><td>3.34</td><td>true</td><td>&quot;German Pilsener&quot;</td><td>3.5</td><td>&quot;330 ml. bottle. Golden colour,…</td><td>&quot;janubio.14451&quot;</td><td>&quot;janubio&quot;</td><td>4.9</td><td>3.0</td><td>6.0</td><td>13987</td><td>&quot;Pagoa Pilsner Horia&quot;</td><td>2560</td><td>&quot;Euskal Garagardoa S.A.&quot;</td><td>2014-08-12 10:00:00</td><td>15.0</td><td>3.0</td><td>3.3</td><td>&quot;Pilsener&quot;</td><td>6.0</td><td>&quot;330 ml. bottle. Golden colour,…</td><td>13895</td><td>&quot;janubio&quot;</td></tr></tbody></table></div>"
      ],
      "text/plain": [
       "shape: (5, 33)\n",
       "┌────────┬────────────┬──────────┬────────────┬───┬──────────┬────────────┬────────────┬───────────┐\n",
       "│ abv_ba ┆ appearance ┆ aroma_ba ┆ beer_id_ba ┆ … ┆ taste_rb ┆ text_rb    ┆ user_id_rb ┆ user_name │\n",
       "│ ---    ┆ _ba        ┆ ---      ┆ ---        ┆   ┆ ---      ┆ ---        ┆ ---        ┆ _rb       │\n",
       "│ f64    ┆ ---        ┆ f64      ┆ i64        ┆   ┆ f64      ┆ str        ┆ i64        ┆ ---       │\n",
       "│        ┆ f64        ┆          ┆            ┆   ┆          ┆            ┆            ┆ str       │\n",
       "╞════════╪════════════╪══════════╪════════════╪═══╪══════════╪════════════╪════════════╪═══════════╡\n",
       "│ 6.75   ┆ 5.0        ┆ 4.5      ┆ 20518      ┆ … ┆ 9.0      ┆ Shared by  ┆ 99545      ┆ cpetrone8 │\n",
       "│        ┆            ┆          ┆            ┆   ┆          ┆ friends at ┆            ┆ 4         │\n",
       "│        ┆            ┆          ┆            ┆   ┆          ┆ a tasting… ┆            ┆           │\n",
       "│ 8.5    ┆ 4.0        ┆ 4.0      ┆ 83362      ┆ … ┆ 7.0      ┆ Aroma:     ┆ 104819     ┆ rarbring  │\n",
       "│        ┆            ┆          ┆            ┆   ┆          ┆ Smelling   ┆            ┆           │\n",
       "│        ┆            ┆          ┆            ┆   ┆          ┆ fruity and ┆            ┆           │\n",
       "│        ┆            ┆          ┆            ┆   ┆          ┆ spi…       ┆            ┆           │\n",
       "│ 10.5   ┆ 3.5        ┆ 4.0      ┆ 199544     ┆ … ┆ 7.0      ┆ Youngs     ┆ 11905      ┆ Sammy     │\n",
       "│        ┆            ┆          ┆            ┆   ┆          ┆ house.     ┆            ┆           │\n",
       "│        ┆            ┆          ┆            ┆   ┆          ┆ Getting    ┆            ┆           │\n",
       "│        ┆            ┆          ┆            ┆   ┆          ┆ bourbon.…  ┆            ┆           │\n",
       "│ 7.75   ┆ 4.0        ┆ 4.5      ┆ 12770      ┆ … ┆ 7.0      ┆ A: Hazy,   ┆ 96987      ┆ Huhzubend │\n",
       "│        ┆            ┆          ┆            ┆   ┆          ┆ straw      ┆            ┆ ah        │\n",
       "│        ┆            ┆          ┆            ┆   ┆          ┆ yellow hue ┆            ┆           │\n",
       "│        ┆            ┆          ┆            ┆   ┆          ┆ with…      ┆            ┆           │\n",
       "│ 4.9    ┆ 2.5        ┆ 3.5      ┆ 60321      ┆ … ┆ 6.0      ┆ 330 ml.    ┆ 13895      ┆ janubio   │\n",
       "│        ┆            ┆          ┆            ┆   ┆          ┆ bottle.    ┆            ┆           │\n",
       "│        ┆            ┆          ┆            ┆   ┆          ┆ Golden     ┆            ┆           │\n",
       "│        ┆            ┆          ┆            ┆   ┆          ┆ colour,…   ┆            ┆           │\n",
       "└────────┴────────────┴──────────┴────────────┴───┴──────────┴────────────┴────────────┴───────────┘"
      ]
     },
     "execution_count": 16,
     "metadata": {},
     "output_type": "execute_result"
    }
   ],
   "source": [
    "df_ratings = df_ratings.with_columns((pl.col(\"date_ba\").cast(pl.Int64) * 1000).cast(pl.Datetime(\"ms\")))\n",
    "df_ratings = df_ratings.with_columns((pl.col(\"date_rb\").cast(pl.Int64) * 1000).cast(pl.Datetime(\"ms\")))\n",
    "\n",
    "df_ratings.sample(5)"
   ]
  },
  {
   "cell_type": "markdown",
   "metadata": {},
   "source": [
    "## Processing and saving the cleaned data\n",
    "Here we'll sync the data of the matched beer dataset with the one of the RateBeer and BeerAdvocate. This is needed because we've removed some data from the BeerAdvocate and RateBeer datasets during the data cleaning process and we need to ensure that the matched beer dataset is in sync with the other two datasets.\n",
    "##### Preliminary"
   ]
  },
  {
   "cell_type": "code",
   "execution_count": 17,
   "metadata": {},
   "outputs": [],
   "source": [
    "BEERADVOCATE_PATH = '../../../data/BeerAdvocate/processed'\n",
    "RATEBEER_PATH = '../../../data/RateBeer/processed'\n"
   ]
  },
  {
   "cell_type": "markdown",
   "metadata": {},
   "source": [
    "##### Users dataset"
   ]
  },
  {
   "cell_type": "code",
   "execution_count": 18,
   "metadata": {},
   "outputs": [
    {
     "name": "stdout",
     "output_type": "stream",
     "text": [
      "Data before cleaning 3341\n"
     ]
    },
    {
     "name": "stdout",
     "output_type": "stream",
     "text": [
      "Data after cleaning 3341\n",
      "Percentage of data lost: 0.0%\n"
     ]
    }
   ],
   "source": [
    "df_filtered_users = df_users.select([\"user_id_ba\", \"user_id_rb\", \"sim_scores\"])\n",
    "print(\"Data before cleaning\", df_filtered_users.shape[0])\n",
    "\n",
    "# BeerAdvocate\n",
    "df_users_ba = pl.read_parquet(BEERADVOCATE_PATH + \"/users.pq\")\n",
    "df_users_ba = df_users_ba.rename({col: f\"{col}_ba\" for col in df_users_ba.columns})\n",
    "df_filtered_users = df_filtered_users.join(df_users_ba, on=\"user_id_ba\", how=\"inner\")\n",
    "del df_users_ba\n",
    "\n",
    "# RateBeer\n",
    "df_users_rb = pl.read_parquet(RATEBEER_PATH + \"/users.pq\")\n",
    "df_users_rb = df_users_rb.rename({col: f\"{col}_rb\" for col in df_users_rb.columns})\n",
    "df_filtered_users = df_filtered_users.join(df_users_rb, on=\"user_id_rb\", how=\"inner\")\n",
    "del df_users_rb\n",
    "\n",
    "print(\"Data after cleaning\", df_filtered_users.shape[0])\n",
    "print(f\"Percentage of data lost: {100 - (df_filtered_users.shape[0] / df_users.shape[0] * 100)}%\")\n",
    "\n",
    "# Save the data\n",
    "df_filtered_users.write_parquet(DST_DATA_PATH + \"/users.pq\")"
   ]
  },
  {
   "cell_type": "code",
   "execution_count": 19,
   "metadata": {},
   "outputs": [
    {
     "data": {
      "text/html": [
       "<div><style>\n",
       ".dataframe > thead > tr,\n",
       ".dataframe > tbody > tr {\n",
       "  text-align: right;\n",
       "  white-space: pre-wrap;\n",
       "}\n",
       "</style>\n",
       "<small>shape: (5, 15)</small><table border=\"1\" class=\"dataframe\"><thead><tr><th>user_id_ba</th><th>user_id_rb</th><th>sim_scores</th><th>user_name_ba</th><th>joined_ba</th><th>location_ba</th><th>nbr_ratings_ba</th><th>nbr_reviews_ba</th><th>nbr_interactions_ba</th><th>user_name_rb</th><th>joined_rb</th><th>location_rb</th><th>nbr_reviews_rb</th><th>nbr_ratings_rb</th><th>nbr_interactions_rb</th></tr><tr><td>str</td><td>i64</td><td>f64</td><td>str</td><td>datetime[ms]</td><td>str</td><td>i64</td><td>i64</td><td>i64</td><td>str</td><td>datetime[ms]</td><td>str</td><td>i32</td><td>i32</td><td>i32</td></tr></thead><tbody><tr><td>&quot;vizzionman.783726&quot;</td><td>304309</td><td>1.0</td><td>&quot;vizzionman&quot;</td><td>2014-02-20 11:00:00</td><td>&quot;United States, Wisconsin&quot;</td><td>2</td><td>163</td><td>165</td><td>&quot;vizzionman&quot;</td><td>2014-02-20 11:00:00</td><td>&quot;United States, Wisconsin&quot;</td><td>1</td><td>0</td><td>0</td></tr><tr><td>&quot;zencigar.613666&quot;</td><td>132548</td><td>1.0</td><td>&quot;zencigar&quot;</td><td>2011-08-03 10:00:00</td><td>&quot;United States, North Carolina&quot;</td><td>null</td><td>4</td><td>4</td><td>&quot;zencigar&quot;</td><td>2011-07-27 10:00:00</td><td>&quot;United States, North Carolina&quot;</td><td>11</td><td>0</td><td>0</td></tr><tr><td>&quot;dspazz.55705&quot;</td><td>35306</td><td>1.0</td><td>&quot;dspazz&quot;</td><td>2005-12-19 11:00:00</td><td>&quot;United States, Massachusetts&quot;</td><td>1</td><td>null</td><td>1</td><td>&quot;dspazz&quot;</td><td>2006-03-28 10:00:00</td><td>&quot;United States, Massachusetts&quot;</td><td>1</td><td>0</td><td>0</td></tr><tr><td>&quot;matt.661184&quot;</td><td>135122</td><td>0.866025</td><td>&quot;Matt&quot;</td><td>2012-02-24 11:00:00</td><td>&quot;United States, California&quot;</td><td>1</td><td>null</td><td>1</td><td>&quot;MattH&quot;</td><td>2011-09-08 10:00:00</td><td>&quot;United States, California&quot;</td><td>676</td><td>0</td><td>0</td></tr><tr><td>&quot;mrphield.416905&quot;</td><td>122122</td><td>1.0</td><td>&quot;MrPhield&quot;</td><td>2010-01-18 11:00:00</td><td>&quot;United States, Wisconsin&quot;</td><td>4</td><td>null</td><td>4</td><td>&quot;MrPhield&quot;</td><td>2011-01-26 11:00:00</td><td>&quot;United States, Wisconsin&quot;</td><td>7</td><td>0</td><td>0</td></tr></tbody></table></div>"
      ],
      "text/plain": [
       "shape: (5, 15)\n",
       "┌───────────┬───────────┬───────────┬───────────┬───┬───────────┬───────────┬───────────┬──────────┐\n",
       "│ user_id_b ┆ user_id_r ┆ sim_score ┆ user_name ┆ … ┆ location_ ┆ nbr_revie ┆ nbr_ratin ┆ nbr_inte │\n",
       "│ a         ┆ b         ┆ s         ┆ _ba       ┆   ┆ rb        ┆ ws_rb     ┆ gs_rb     ┆ ractions │\n",
       "│ ---       ┆ ---       ┆ ---       ┆ ---       ┆   ┆ ---       ┆ ---       ┆ ---       ┆ _rb      │\n",
       "│ str       ┆ i64       ┆ f64       ┆ str       ┆   ┆ str       ┆ i32       ┆ i32       ┆ ---      │\n",
       "│           ┆           ┆           ┆           ┆   ┆           ┆           ┆           ┆ i32      │\n",
       "╞═══════════╪═══════════╪═══════════╪═══════════╪═══╪═══════════╪═══════════╪═══════════╪══════════╡\n",
       "│ vizzionma ┆ 304309    ┆ 1.0       ┆ vizzionma ┆ … ┆ United    ┆ 1         ┆ 0         ┆ 0        │\n",
       "│ n.783726  ┆           ┆           ┆ n         ┆   ┆ States,   ┆           ┆           ┆          │\n",
       "│           ┆           ┆           ┆           ┆   ┆ Wisconsin ┆           ┆           ┆          │\n",
       "│ zencigar. ┆ 132548    ┆ 1.0       ┆ zencigar  ┆ … ┆ United    ┆ 11        ┆ 0         ┆ 0        │\n",
       "│ 613666    ┆           ┆           ┆           ┆   ┆ States,   ┆           ┆           ┆          │\n",
       "│           ┆           ┆           ┆           ┆   ┆ North     ┆           ┆           ┆          │\n",
       "│           ┆           ┆           ┆           ┆   ┆ Carolina  ┆           ┆           ┆          │\n",
       "│ dspazz.55 ┆ 35306     ┆ 1.0       ┆ dspazz    ┆ … ┆ United    ┆ 1         ┆ 0         ┆ 0        │\n",
       "│ 705       ┆           ┆           ┆           ┆   ┆ States,   ┆           ┆           ┆          │\n",
       "│           ┆           ┆           ┆           ┆   ┆ Massachus ┆           ┆           ┆          │\n",
       "│           ┆           ┆           ┆           ┆   ┆ etts      ┆           ┆           ┆          │\n",
       "│ matt.6611 ┆ 135122    ┆ 0.866025  ┆ Matt      ┆ … ┆ United    ┆ 676       ┆ 0         ┆ 0        │\n",
       "│ 84        ┆           ┆           ┆           ┆   ┆ States,   ┆           ┆           ┆          │\n",
       "│           ┆           ┆           ┆           ┆   ┆ Californi ┆           ┆           ┆          │\n",
       "│           ┆           ┆           ┆           ┆   ┆ a         ┆           ┆           ┆          │\n",
       "│ mrphield. ┆ 122122    ┆ 1.0       ┆ MrPhield  ┆ … ┆ United    ┆ 7         ┆ 0         ┆ 0        │\n",
       "│ 416905    ┆           ┆           ┆           ┆   ┆ States,   ┆           ┆           ┆          │\n",
       "│           ┆           ┆           ┆           ┆   ┆ Wisconsin ┆           ┆           ┆          │\n",
       "└───────────┴───────────┴───────────┴───────────┴───┴───────────┴───────────┴───────────┴──────────┘"
      ]
     },
     "execution_count": 19,
     "metadata": {},
     "output_type": "execute_result"
    }
   ],
   "source": [
    "df_filtered_users.sample(5)"
   ]
  },
  {
   "cell_type": "markdown",
   "metadata": {},
   "source": [
    "##### Beers dataset"
   ]
  },
  {
   "cell_type": "code",
   "execution_count": 20,
   "metadata": {},
   "outputs": [
    {
     "name": "stdout",
     "output_type": "stream",
     "text": [
      "Data before cleaning 45640\n"
     ]
    },
    {
     "name": "stdout",
     "output_type": "stream",
     "text": [
      "Data after cleaning 45636\n",
      "Percentage of data lost: 0.01%\n"
     ]
    }
   ],
   "source": [
    "df_filtered_beers = df_beers.select([\"beer_id_ba\", \"beer_id_rb\", \"diff_scores\", \"sim_scores\"])\n",
    "print(\"Data before cleaning\", df_filtered_beers.shape[0])\n",
    "\n",
    "# BeerAdvocate\n",
    "df_beers_ba = pl.read_parquet(BEERADVOCATE_PATH + \"/beers.pq\")\n",
    "df_beers_ba = df_beers_ba.rename({col: f\"{col}_ba\" for col in df_beers_ba.columns})\n",
    "df_filtered_beers = df_filtered_beers.join(df_beers_ba, on=\"beer_id_ba\", how=\"inner\")\n",
    "\n",
    "# RateBeer\n",
    "df_beers_rb = pl.read_parquet(RATEBEER_PATH + \"/beers.pq\")\n",
    "df_beers_rb = df_beers_rb.rename({col: f\"{col}_rb\" for col in df_beers_rb.columns})\n",
    "df_filtered_beers = df_filtered_beers.join(df_beers_rb, on=\"beer_id_rb\", how=\"inner\")\n",
    "\n",
    "print(\"Data after cleaning\", df_filtered_beers.shape[0])\n",
    "print(f\"Percentage of data lost: {(1 - df_filtered_beers.shape[0] / df_beers.shape[0]) * 100:.2f}%\")\n",
    "\n",
    "# Save the data\n",
    "df_filtered_beers.write_parquet(DST_DATA_PATH + \"/beers.pq\")"
   ]
  },
  {
   "cell_type": "code",
   "execution_count": 21,
   "metadata": {},
   "outputs": [
    {
     "data": {
      "text/html": [
       "<div><style>\n",
       ".dataframe > thead > tr,\n",
       ".dataframe > tbody > tr {\n",
       "  text-align: right;\n",
       "  white-space: pre-wrap;\n",
       "}\n",
       "</style>\n",
       "<small>shape: (5, 26)</small><table border=\"1\" class=\"dataframe\"><thead><tr><th>beer_id_ba</th><th>beer_id_rb</th><th>diff_scores</th><th>sim_scores</th><th>beer_name_ba</th><th>brewery_id_ba</th><th>brewery_name_ba</th><th>style_ba</th><th>abv_ba</th><th>rating_score_avg_ba</th><th>rating_score_std_ba</th><th>rating_score_median_ba</th><th>nbr_interactions_ba</th><th>nbr_ratings_ba</th><th>nbr_reviews_ba</th><th>beer_name_rb</th><th>brewery_id_rb</th><th>brewery_name_rb</th><th>style_rb</th><th>abv_rb</th><th>rating_score_avg_rb</th><th>rating_score_std_rb</th><th>rating_score_median_rb</th><th>nbr_interactions_rb</th><th>nbr_ratings_rb</th><th>nbr_reviews_rb</th></tr><tr><td>i64</td><td>i64</td><td>f64</td><td>f64</td><td>str</td><td>i64</td><td>str</td><td>str</td><td>f64</td><td>f64</td><td>f64</td><td>f64</td><td>i64</td><td>i64</td><td>i64</td><td>str</td><td>i64</td><td>str</td><td>str</td><td>f64</td><td>f64</td><td>f64</td><td>f64</td><td>i64</td><td>i64</td><td>i64</td></tr></thead><tbody><tr><td>250807</td><td>450020</td><td>0.753007</td><td>1.0</td><td>&quot;Essence Of Wetness&quot;</td><td>43390</td><td>&quot;Cloudburst Brewing&quot;</td><td>&quot;American IPA&quot;</td><td>6.7</td><td>4.233333</td><td>0.020817</td><td>4.24</td><td>3</td><td>2</td><td>1</td><td>&quot;Cloudburst Essence of Wetness&quot;</td><td>23950</td><td>&quot;Cloudburst Brewing&quot;</td><td>&quot;India Pale Ale (IPA)&quot;</td><td>6.7</td><td>3.966667</td><td>0.294392</td><td>3.85</td><td>6</td><td>0</td><td>6</td></tr><tr><td>60856</td><td>125398</td><td>0.906397</td><td>1.0</td><td>&quot;Dog Soldier Golden Ale&quot;</td><td>23122</td><td>&quot;Cavalry Brewing&quot;</td><td>&quot;American Blonde Ale&quot;</td><td>4.0</td><td>3.01</td><td>0.812794</td><td>3.2</td><td>25</td><td>11</td><td>14</td><td>&quot;Cavalry Brewing Dog Soldier Go…</td><td>11765</td><td>&quot;Cavalry Brewing Company&quot;</td><td>&quot;Golden Ale/Blond Ale&quot;</td><td>4.0</td><td>3.015385</td><td>0.597001</td><td>3.0</td><td>13</td><td>0</td><td>13</td></tr><tr><td>201496</td><td>397870</td><td>1.0</td><td>1.0</td><td>&quot;Arkenstone&quot;</td><td>34225</td><td>&quot;Twin Leaf Brewery&quot;</td><td>&quot;Märzen / Oktoberfest&quot;</td><td>5.8</td><td>3.755</td><td>0.091924</td><td>3.755</td><td>2</td><td>2</td><td>0</td><td>&quot;Twin Leaf Arkenstone&quot;</td><td>19018</td><td>&quot;Twin Leaf Brewery&quot;</td><td>&quot;Oktoberfest/Märzen&quot;</td><td>5.8</td><td>3.3</td><td>0.519615</td><td>3.6</td><td>3</td><td>0</td><td>3</td></tr><tr><td>236956</td><td>407531</td><td>0.610242</td><td>0.842181</td><td>&quot;Black + Brett W/ Brouwerij De …</td><td>27920</td><td>&quot;Redchurch Brewery&quot;</td><td>&quot;American Double / Imperial Sto…</td><td>10.0</td><td>null</td><td>null</td><td>null</td><td>0</td><td>0</td><td>0</td><td>&quot;Redchurch / De Molen Black &amp; B…</td><td>13106</td><td>&quot;Redchurch&quot;</td><td>&quot;Imperial Stout&quot;</td><td>10.0</td><td>3.895</td><td>0.318611</td><td>3.9</td><td>40</td><td>0</td><td>40</td></tr><tr><td>57942</td><td>105430</td><td>1.0</td><td>1.0</td><td>&quot;Blondy&quot;</td><td>512</td><td>&quot;De 3 Horne Bierbrouwerij&quot;</td><td>&quot;Belgian Pale Ale&quot;</td><td>5.3</td><td>3.68</td><td>null</td><td>3.68</td><td>1</td><td>0</td><td>1</td><td>&quot;De 3 Horne Blondy&quot;</td><td>1430</td><td>&quot;De 3 Horne&quot;</td><td>&quot;Belgian Ale&quot;</td><td>5.3</td><td>2.704348</td><td>0.32957</td><td>2.7</td><td>23</td><td>0</td><td>23</td></tr></tbody></table></div>"
      ],
      "text/plain": [
       "shape: (5, 26)\n",
       "┌───────────┬───────────┬───────────┬───────────┬───┬───────────┬───────────┬───────────┬──────────┐\n",
       "│ beer_id_b ┆ beer_id_r ┆ diff_scor ┆ sim_score ┆ … ┆ rating_sc ┆ nbr_inter ┆ nbr_ratin ┆ nbr_revi │\n",
       "│ a         ┆ b         ┆ es        ┆ s         ┆   ┆ ore_media ┆ actions_r ┆ gs_rb     ┆ ews_rb   │\n",
       "│ ---       ┆ ---       ┆ ---       ┆ ---       ┆   ┆ n_rb      ┆ b         ┆ ---       ┆ ---      │\n",
       "│ i64       ┆ i64       ┆ f64       ┆ f64       ┆   ┆ ---       ┆ ---       ┆ i64       ┆ i64      │\n",
       "│           ┆           ┆           ┆           ┆   ┆ f64       ┆ i64       ┆           ┆          │\n",
       "╞═══════════╪═══════════╪═══════════╪═══════════╪═══╪═══════════╪═══════════╪═══════════╪══════════╡\n",
       "│ 250807    ┆ 450020    ┆ 0.753007  ┆ 1.0       ┆ … ┆ 3.85      ┆ 6         ┆ 0         ┆ 6        │\n",
       "│ 60856     ┆ 125398    ┆ 0.906397  ┆ 1.0       ┆ … ┆ 3.0       ┆ 13        ┆ 0         ┆ 13       │\n",
       "│ 201496    ┆ 397870    ┆ 1.0       ┆ 1.0       ┆ … ┆ 3.6       ┆ 3         ┆ 0         ┆ 3        │\n",
       "│ 236956    ┆ 407531    ┆ 0.610242  ┆ 0.842181  ┆ … ┆ 3.9       ┆ 40        ┆ 0         ┆ 40       │\n",
       "│ 57942     ┆ 105430    ┆ 1.0       ┆ 1.0       ┆ … ┆ 2.7       ┆ 23        ┆ 0         ┆ 23       │\n",
       "└───────────┴───────────┴───────────┴───────────┴───┴───────────┴───────────┴───────────┴──────────┘"
      ]
     },
     "execution_count": 21,
     "metadata": {},
     "output_type": "execute_result"
    }
   ],
   "source": [
    "df_filtered_beers.sample(5)"
   ]
  },
  {
   "cell_type": "markdown",
   "metadata": {},
   "source": [
    "##### Breweries dataset"
   ]
  },
  {
   "cell_type": "code",
   "execution_count": 22,
   "metadata": {},
   "outputs": [
    {
     "name": "stdout",
     "output_type": "stream",
     "text": [
      "Data before cleaning 8281\n",
      "Data after cleaning 7428\n",
      "Percentage of data lost: 10.30%\n"
     ]
    }
   ],
   "source": [
    "df_filtered_breweries = df_breweries.select([\"id_ba\", \"id_rb\", \"diff_scores\", \"sim_scores\"])\n",
    "print(\"Data before cleaning\", df_filtered_breweries.shape[0])\n",
    "\n",
    "# BeerAdvocate\n",
    "df_breweries_ba = pl.read_parquet(BEERADVOCATE_PATH + \"/breweries.pq\")\n",
    "df_breweries_ba = df_breweries_ba.rename({col: f\"{col}_ba\" for col in df_breweries_ba.columns})\n",
    "df_filtered_breweries = df_filtered_breweries.join(df_breweries_ba, on=\"id_ba\", how=\"inner\")\n",
    "\n",
    "# RateBeer\n",
    "df_breweries_rb = pl.read_parquet(RATEBEER_PATH + \"/breweries.pq\")\n",
    "df_breweries_rb = df_breweries_rb.rename({col: f\"{col}_rb\" for col in df_breweries_rb.columns})\n",
    "df_filtered_breweries = df_filtered_breweries.join(df_breweries_rb, on=\"id_rb\", how=\"inner\")\n",
    "\n",
    "print(\"Data after cleaning\", df_filtered_breweries.shape[0])\n",
    "print(f\"Percentage of data lost: {(1 - df_filtered_breweries.shape[0] / df_breweries.shape[0]) * 100:.2f}%\")\n",
    "\n",
    "# Save the data\n",
    "df_filtered_breweries.write_parquet(DST_DATA_PATH + \"/breweries.pq\")"
   ]
  },
  {
   "cell_type": "code",
   "execution_count": 23,
   "metadata": {},
   "outputs": [
    {
     "data": {
      "text/html": [
       "<div><style>\n",
       ".dataframe > thead > tr,\n",
       ".dataframe > tbody > tr {\n",
       "  text-align: right;\n",
       "  white-space: pre-wrap;\n",
       "}\n",
       "</style>\n",
       "<small>shape: (5, 10)</small><table border=\"1\" class=\"dataframe\"><thead><tr><th>id_ba</th><th>id_rb</th><th>diff_scores</th><th>sim_scores</th><th>location_ba</th><th>name_ba</th><th>beers_count_ba</th><th>location_rb</th><th>name_rb</th><th>beers_count_rb</th></tr><tr><td>i64</td><td>i64</td><td>f64</td><td>f64</td><td>str</td><td>str</td><td>i64</td><td>str</td><td>str</td><td>i32</td></tr></thead><tbody><tr><td>10101</td><td>8809</td><td>0.629784</td><td>1.0</td><td>&quot;Japan&quot;</td><td>&quot;Fujiyama Beer, K.K.&quot;</td><td>2</td><td>&quot;Japan&quot;</td><td>&quot;Fujiyama Beer&quot;</td><td>5</td></tr><tr><td>30884</td><td>16496</td><td>0.355602</td><td>1.0</td><td>&quot;United States, New York&quot;</td><td>&quot;The North Brewery&quot;</td><td>157</td><td>&quot;United States, New York&quot;</td><td>&quot;The North Brewery&quot;</td><td>47</td></tr><tr><td>35245</td><td>19082</td><td>0.706339</td><td>1.0</td><td>&quot;United States, Michigan&quot;</td><td>&quot;Beggars Brewery&quot;</td><td>7</td><td>&quot;United States, Michigan&quot;</td><td>&quot;Beggars Brewery&quot;</td><td>8</td></tr><tr><td>35337</td><td>19943</td><td>0.467084</td><td>0.896098</td><td>&quot;United States, Wisconsin&quot;</td><td>&quot;Brenner Brewing Co.&quot;</td><td>16</td><td>&quot;United States, Wisconsin&quot;</td><td>&quot;Brenner Brewing Company&quot;</td><td>22</td></tr><tr><td>36911</td><td>11730</td><td>0.389979</td><td>0.821878</td><td>&quot;Germany&quot;</td><td>&quot;Brauerei zum Klosterhof&quot;</td><td>1</td><td>&quot;Germany&quot;</td><td>&quot;Brauerei Zum Klosterhof Heidel…</td><td>19</td></tr></tbody></table></div>"
      ],
      "text/plain": [
       "shape: (5, 10)\n",
       "┌───────┬───────┬─────────────┬────────────┬───┬────────────┬────────────┬────────────┬────────────┐\n",
       "│ id_ba ┆ id_rb ┆ diff_scores ┆ sim_scores ┆ … ┆ beers_coun ┆ location_r ┆ name_rb    ┆ beers_coun │\n",
       "│ ---   ┆ ---   ┆ ---         ┆ ---        ┆   ┆ t_ba       ┆ b          ┆ ---        ┆ t_rb       │\n",
       "│ i64   ┆ i64   ┆ f64         ┆ f64        ┆   ┆ ---        ┆ ---        ┆ str        ┆ ---        │\n",
       "│       ┆       ┆             ┆            ┆   ┆ i64        ┆ str        ┆            ┆ i32        │\n",
       "╞═══════╪═══════╪═════════════╪════════════╪═══╪════════════╪════════════╪════════════╪════════════╡\n",
       "│ 10101 ┆ 8809  ┆ 0.629784    ┆ 1.0        ┆ … ┆ 2          ┆ Japan      ┆ Fujiyama   ┆ 5          │\n",
       "│       ┆       ┆             ┆            ┆   ┆            ┆            ┆ Beer       ┆            │\n",
       "│ 30884 ┆ 16496 ┆ 0.355602    ┆ 1.0        ┆ … ┆ 157        ┆ United     ┆ The North  ┆ 47         │\n",
       "│       ┆       ┆             ┆            ┆   ┆            ┆ States,    ┆ Brewery    ┆            │\n",
       "│       ┆       ┆             ┆            ┆   ┆            ┆ New York   ┆            ┆            │\n",
       "│ 35245 ┆ 19082 ┆ 0.706339    ┆ 1.0        ┆ … ┆ 7          ┆ United     ┆ Beggars    ┆ 8          │\n",
       "│       ┆       ┆             ┆            ┆   ┆            ┆ States,    ┆ Brewery    ┆            │\n",
       "│       ┆       ┆             ┆            ┆   ┆            ┆ Michigan   ┆            ┆            │\n",
       "│ 35337 ┆ 19943 ┆ 0.467084    ┆ 0.896098   ┆ … ┆ 16         ┆ United     ┆ Brenner    ┆ 22         │\n",
       "│       ┆       ┆             ┆            ┆   ┆            ┆ States,    ┆ Brewing    ┆            │\n",
       "│       ┆       ┆             ┆            ┆   ┆            ┆ Wisconsin  ┆ Company    ┆            │\n",
       "│ 36911 ┆ 11730 ┆ 0.389979    ┆ 0.821878   ┆ … ┆ 1          ┆ Germany    ┆ Brauerei   ┆ 19         │\n",
       "│       ┆       ┆             ┆            ┆   ┆            ┆            ┆ Zum        ┆            │\n",
       "│       ┆       ┆             ┆            ┆   ┆            ┆            ┆ Klosterhof ┆            │\n",
       "│       ┆       ┆             ┆            ┆   ┆            ┆            ┆ Heidel…    ┆            │\n",
       "└───────┴───────┴─────────────┴────────────┴───┴────────────┴────────────┴────────────┴────────────┘"
      ]
     },
     "execution_count": 23,
     "metadata": {},
     "output_type": "execute_result"
    }
   ],
   "source": [
    "df_filtered_breweries.sample(5)"
   ]
  },
  {
   "cell_type": "markdown",
   "metadata": {},
   "source": [
    "##### Ratings dataset"
   ]
  },
  {
   "cell_type": "code",
   "execution_count": 24,
   "metadata": {},
   "outputs": [
    {
     "name": "stdout",
     "output_type": "stream",
     "text": [
      "Data before cleaning 21964\n"
     ]
    },
    {
     "name": "stdout",
     "output_type": "stream",
     "text": [
      "Data after cleaning 21964\n",
      "Percentage of data lost: 0.00%\n"
     ]
    }
   ],
   "source": [
    "df_ratings_filtered = df_ratings.select([\"beer_id_ba\", \"brewery_id_ba\", \"user_id_ba\", \"beer_id_rb\", \"brewery_id_rb\", \"user_id_rb\"])\n",
    "\n",
    "print(\"Data before cleaning\", df_ratings_filtered.shape[0])\n",
    "\n",
    "# BeerAdvocate\n",
    "df_ratings_ba = pl.read_parquet(BEERADVOCATE_PATH + \"/ratings.pq\")\n",
    "df_ratings_ba = df_ratings_ba.rename({col: f\"{col}_ba\" for col in df_ratings_ba.columns})\n",
    "df_ratings_filtered = df_ratings_filtered.join(df_ratings_ba, on=[\"beer_id_ba\", \"brewery_id_ba\", \"user_id_ba\"], how=\"inner\")\n",
    "\n",
    "# RateBeer\n",
    "df_ratings_rb = pl.read_parquet(RATEBEER_PATH + \"/ratings.pq\")\n",
    "df_ratings_rb = df_ratings_rb.rename({col: f\"{col}_rb\" for col in df_ratings_rb.columns})\n",
    "df_ratings_filtered = df_ratings_filtered.join(df_ratings_rb, on=[\"beer_id_rb\", \"brewery_id_rb\", \"user_id_rb\"], how=\"inner\")\n",
    "\n",
    "print(\"Data after cleaning\", df_ratings_filtered.shape[0])\n",
    "print(f\"Percentage of data lost: {(1 - df_ratings_filtered.shape[0] / df_ratings.shape[0]) * 100:.2f}%\")\n",
    "\n",
    "# Save the data\n",
    "df_ratings_filtered.write_parquet(DST_DATA_PATH + \"/ratings.pq\")"
   ]
  },
  {
   "cell_type": "code",
   "execution_count": 25,
   "metadata": {},
   "outputs": [
    {
     "data": {
      "text/html": [
       "<div><style>\n",
       ".dataframe > thead > tr,\n",
       ".dataframe > tbody > tr {\n",
       "  text-align: right;\n",
       "  white-space: pre-wrap;\n",
       "}\n",
       "</style>\n",
       "<small>shape: (5, 33)</small><table border=\"1\" class=\"dataframe\"><thead><tr><th>beer_id_ba</th><th>brewery_id_ba</th><th>user_id_ba</th><th>beer_id_rb</th><th>brewery_id_rb</th><th>user_id_rb</th><th>rating_ba</th><th>review_ba</th><th>abv_ba</th><th>brewery_name_ba</th><th>user_name_ba</th><th>appearance_ba</th><th>palate_ba</th><th>text_ba</th><th>aroma_ba</th><th>overall_ba</th><th>taste_ba</th><th>style_ba</th><th>beer_name_ba</th><th>date_ba</th><th>rating_rb</th><th>palate_rb</th><th>abv_rb</th><th>beer_name_rb</th><th>taste_rb</th><th>date_rb</th><th>style_rb</th><th>appearance_rb</th><th>overall_rb</th><th>brewery_name_rb</th><th>text_rb</th><th>aroma_rb</th><th>user_name_rb</th></tr><tr><td>i64</td><td>i64</td><td>str</td><td>i64</td><td>i64</td><td>i64</td><td>f64</td><td>bool</td><td>f64</td><td>str</td><td>str</td><td>f64</td><td>f64</td><td>str</td><td>f64</td><td>f64</td><td>f64</td><td>str</td><td>str</td><td>datetime[μs]</td><td>f64</td><td>f64</td><td>f64</td><td>str</td><td>f64</td><td>datetime[μs]</td><td>str</td><td>f64</td><td>f64</td><td>str</td><td>str</td><td>f64</td><td>str</td></tr></thead><tbody><tr><td>93047</td><td>18006</td><td>&quot;xmnwildx12.524792&quot;</td><td>211651</td><td>10393</td><td>121664</td><td>3.75</td><td>false</td><td>6.0</td><td>&quot;Half Acre Beer Company&quot;</td><td>&quot;XmnwildX12&quot;</td><td>null</td><td>null</td><td>null</td><td>null</td><td>null</td><td>null</td><td>&quot;American Pale Lager&quot;</td><td>&quot;Stargrazer&quot;</td><td>2013-12-05 12:00:00</td><td>3.8</td><td>4.0</td><td>6.0</td><td>&quot;Half Acre Stargrazer&quot;</td><td>8.0</td><td>2013-05-19 12:00:00</td><td>&quot;Premium Lager&quot;</td><td>4.0</td><td>15.0</td><td>&quot;Half Acre Beer Company&quot;</td><td>&quot;On tap at Half Acre, Golden po…</td><td>7.0</td><td>&quot;XmnwildX12&quot;</td></tr><tr><td>6604</td><td>913</td><td>&quot;corby112.268461&quot;</td><td>13159</td><td>2040</td><td>55936</td><td>4.1</td><td>true</td><td>5.3</td><td>&quot;Brauerei Spezial&quot;</td><td>&quot;corby112&quot;</td><td>4.0</td><td>4.0</td><td>&quot;On draft at the Memphis Taproo…</td><td>4.0</td><td>4.5</td><td>4.0</td><td>&quot;Rauchbier&quot;</td><td>&quot;Spezial Rauchbier Märzen&quot;</td><td>2010-06-06 12:00:00</td><td>4.0</td><td>4.0</td><td>5.3</td><td>&quot;Spezial Rauchbier Märzen&quot;</td><td>7.0</td><td>2010-06-07 12:00:00</td><td>&quot;Smoked&quot;</td><td>4.0</td><td>17.0</td><td>&quot;Brauerei Spezial&quot;</td><td>&quot;On draft at the Memphis Taproo…</td><td>8.0</td><td>&quot;corby112&quot;</td></tr><tr><td>98054</td><td>31793</td><td>&quot;jonb5.458362&quot;</td><td>173892</td><td>14561</td><td>112403</td><td>3.75</td><td>true</td><td>5.6</td><td>&quot;Ratsherrn Brauerei GmbH&quot;</td><td>&quot;jonb5&quot;</td><td>null</td><td>null</td><td>&quot;330ml bottle, poured into La C…</td><td>null</td><td>null</td><td>null</td><td>&quot;English Pale Ale&quot;</td><td>&quot;Ratsherrn Pale Ale&quot;</td><td>2014-08-23 12:00:00</td><td>3.5</td><td>4.0</td><td>5.6</td><td>&quot;Ratsherrn Pale Ale&quot;</td><td>6.0</td><td>2014-08-23 12:00:00</td><td>&quot;American Pale Ale&quot;</td><td>4.0</td><td>15.0</td><td>&quot;Ratsherrn Brauerei&quot;</td><td>&quot;330ml bottle, poured into La C…</td><td>6.0</td><td>&quot;Jonb5&quot;</td></tr><tr><td>170636</td><td>141</td><td>&quot;puboflyons.237852&quot;</td><td>381451</td><td>20</td><td>54937</td><td>4.09</td><td>true</td><td>7.3</td><td>&quot;Smuttynose Brewing Company&quot;</td><td>&quot;puboflyons&quot;</td><td>4.5</td><td>4.0</td><td>&quot;From the 650 ml. bottle with a…</td><td>4.25</td><td>4.0</td><td>4.0</td><td>&quot;Milk / Sweet Stout&quot;</td><td>&quot;Smuttynose Rocky Road Stout (B…</td><td>2015-12-30 12:00:00</td><td>4.2</td><td>4.0</td><td>7.3</td><td>&quot;Smuttynose Big Beer Series: Ro…</td><td>8.0</td><td>2015-12-30 12:00:00</td><td>&quot;Stout&quot;</td><td>5.0</td><td>16.0</td><td>&quot;Smuttynose Brewing Company&quot;</td><td>&quot;650 ml. bottle with a bottling…</td><td>9.0</td><td>&quot;puboflyons&quot;</td></tr><tr><td>98525</td><td>273</td><td>&quot;chaingangguy.8942&quot;</td><td>225244</td><td>34</td><td>32031</td><td>3.14</td><td>true</td><td>9.0</td><td>&quot;SweetWater Brewing Company&quot;</td><td>&quot;ChainGangGuy&quot;</td><td>3.25</td><td>3.0</td><td>&quot;22 ounce bottle - $5.98 at She…</td><td>3.5</td><td>3.0</td><td>3.0</td><td>&quot;Belgian Strong Pale Ale&quot;</td><td>&quot;Sweetwater Dank Tank The Price…</td><td>2013-11-08 12:00:00</td><td>3.1</td><td>3.0</td><td>9.0</td><td>&quot;Sweetwater Dank Tank The Price…</td><td>6.0</td><td>2013-11-07 12:00:00</td><td>&quot;Belgian Strong Ale&quot;</td><td>3.0</td><td>12.0</td><td>&quot;Sweetwater Brewing Company&quot;</td><td>&quot;22 ounce bottle - $5.98 at She…</td><td>7.0</td><td>&quot;ChainGangGuy&quot;</td></tr></tbody></table></div>"
      ],
      "text/plain": [
       "shape: (5, 33)\n",
       "┌───────────┬───────────┬───────────┬───────────┬───┬───────────┬───────────┬──────────┬───────────┐\n",
       "│ beer_id_b ┆ brewery_i ┆ user_id_b ┆ beer_id_r ┆ … ┆ brewery_n ┆ text_rb   ┆ aroma_rb ┆ user_name │\n",
       "│ a         ┆ d_ba      ┆ a         ┆ b         ┆   ┆ ame_rb    ┆ ---       ┆ ---      ┆ _rb       │\n",
       "│ ---       ┆ ---       ┆ ---       ┆ ---       ┆   ┆ ---       ┆ str       ┆ f64      ┆ ---       │\n",
       "│ i64       ┆ i64       ┆ str       ┆ i64       ┆   ┆ str       ┆           ┆          ┆ str       │\n",
       "╞═══════════╪═══════════╪═══════════╪═══════════╪═══╪═══════════╪═══════════╪══════════╪═══════════╡\n",
       "│ 93047     ┆ 18006     ┆ xmnwildx1 ┆ 211651    ┆ … ┆ Half Acre ┆ On tap at ┆ 7.0      ┆ XmnwildX1 │\n",
       "│           ┆           ┆ 2.524792  ┆           ┆   ┆ Beer      ┆ Half      ┆          ┆ 2         │\n",
       "│           ┆           ┆           ┆           ┆   ┆ Company   ┆ Acre,     ┆          ┆           │\n",
       "│           ┆           ┆           ┆           ┆   ┆           ┆ Golden    ┆          ┆           │\n",
       "│           ┆           ┆           ┆           ┆   ┆           ┆ po…       ┆          ┆           │\n",
       "│ 6604      ┆ 913       ┆ corby112. ┆ 13159     ┆ … ┆ Brauerei  ┆ On draft  ┆ 8.0      ┆ corby112  │\n",
       "│           ┆           ┆ 268461    ┆           ┆   ┆ Spezial   ┆ at the    ┆          ┆           │\n",
       "│           ┆           ┆           ┆           ┆   ┆           ┆ Memphis   ┆          ┆           │\n",
       "│           ┆           ┆           ┆           ┆   ┆           ┆ Taproo…   ┆          ┆           │\n",
       "│ 98054     ┆ 31793     ┆ jonb5.458 ┆ 173892    ┆ … ┆ Ratsherrn ┆ 330ml     ┆ 6.0      ┆ Jonb5     │\n",
       "│           ┆           ┆ 362       ┆           ┆   ┆ Brauerei  ┆ bottle,   ┆          ┆           │\n",
       "│           ┆           ┆           ┆           ┆   ┆           ┆ poured    ┆          ┆           │\n",
       "│           ┆           ┆           ┆           ┆   ┆           ┆ into La   ┆          ┆           │\n",
       "│           ┆           ┆           ┆           ┆   ┆           ┆ C…        ┆          ┆           │\n",
       "│ 170636    ┆ 141       ┆ puboflyon ┆ 381451    ┆ … ┆ Smuttynos ┆ 650 ml.   ┆ 9.0      ┆ puboflyon │\n",
       "│           ┆           ┆ s.237852  ┆           ┆   ┆ e Brewing ┆ bottle    ┆          ┆ s         │\n",
       "│           ┆           ┆           ┆           ┆   ┆ Company   ┆ with a    ┆          ┆           │\n",
       "│           ┆           ┆           ┆           ┆   ┆           ┆ bottling… ┆          ┆           │\n",
       "│ 98525     ┆ 273       ┆ chaingang ┆ 225244    ┆ … ┆ Sweetwate ┆ 22 ounce  ┆ 7.0      ┆ ChainGang │\n",
       "│           ┆           ┆ guy.8942  ┆           ┆   ┆ r Brewing ┆ bottle -  ┆          ┆ Guy       │\n",
       "│           ┆           ┆           ┆           ┆   ┆ Company   ┆ $5.98 at  ┆          ┆           │\n",
       "│           ┆           ┆           ┆           ┆   ┆           ┆ She…      ┆          ┆           │\n",
       "└───────────┴───────────┴───────────┴───────────┴───┴───────────┴───────────┴──────────┴───────────┘"
      ]
     },
     "execution_count": 25,
     "metadata": {},
     "output_type": "execute_result"
    }
   ],
   "source": [
    "df_ratings_filtered.sample(5)"
   ]
  },
  {
   "cell_type": "markdown",
   "metadata": {},
   "source": [
    "### Discussion\n",
    "As we observed in the data exploration of RateBeer and MatchedBeer we don't lose lots of information regarding beers, users or ratings and the only relevant data lost is for the breweries (where we has lost approximately 10% of the data). Given that no review has been lost, and the filtering has been done in the processing of the files used to do the matching here, we can be confident that the data lost weren't relevant given that they didn't have any reviews."
   ]
  }
 ],
 "metadata": {
  "kernelspec": {
   "display_name": "ADA",
   "language": "python",
   "name": "python3"
  },
  "language_info": {
   "codemirror_mode": {
    "name": "ipython",
    "version": 3
   },
   "file_extension": ".py",
   "mimetype": "text/x-python",
   "name": "python",
   "nbconvert_exporter": "python",
   "pygments_lexer": "ipython3",
   "version": "3.9.20"
  }
 },
 "nbformat": 4,
 "nbformat_minor": 2
}
