{
 "cells": [
  {
   "cell_type": "markdown",
   "metadata": {},
   "source": [
    "# Data Analysis and Cleaning of MatchedBeer Dataset\n",
    "\n",
    "The MatchedBeer dataset combines data from BeerAdvocate and RateBeer, two of the most prominent online platforms for beer ratings. This combined dataset was created to address the herding effect in online ratings, where early ratings can skew subsequent user opinions. By merging the two platforms, the MatchedBeer dataset allows for the study of the same beers rated independently on each platform, thereby providing a unique opportunity to analyze unbiased rating patterns.\n",
    "\n",
    "## Matching Process Overview\n",
    "The matching process is described in detail in the paper [\"When Sheep Shop: Measuring Herding Effects in Product Ratings with Natural Experiments\"](https://dlab.epfl.ch/people/west/pub/Lederrey-West_WWW-18.pdf), focusing on accurately aligning beers from both websites. The matching is performed in two phases to prioritize precision:\n",
    "\n",
    "1. **Brewery Alignment**: Breweries across BeerAdvocate and RateBeer are aligned based on their exact location (state or country), with names represented as TF-IDF vectors to compute cosine similarity.\n",
    "2. **Beer Alignment**: Within matched breweries, beers are aligned based on name similarity and require an exact match in alcohol by volume (ABV). Before matching, any shared tokens in brewery and beer names are removed to improve accuracy.\n",
    "\n",
    "The algorithm ensures high precision by setting strict thresholds for cosine similarity and enforcing a significant gap between the best and second-best matches. This approach results in a dataset where brewery matching has a reported precision of 99.6%, and beer matching achieves a precision of 100%, meaning that only highly confident matches are included, though some potential matches may be excluded.\n",
    "\n",
    "## Structure of MatchedBeer Dataset\n",
    "The dataset contains essential information on beers, breweries, users, and user ratings from both platforms. Since the user bases of BeerAdvocate and RateBeer differ geographically, the combined dataset reflects a more balanced view. BeerAdvocate is more U.S.-centric, while RateBeer has a more internationally diverse user base. Despite these differences, the matched dataset has been verified for both internal and external validity, making it well-suited for analyzing the influence of initial ratings on user perceptions across platforms.\n",
    "\n",
    "MatchedBeer provides insights into how early ratings impact subsequent ones by comparing ratings for the same beer on both sites, especially when early ratings on each platform differ significantly. By standardizing and aligning ratings across time and platforms, MatchedBeer reveals patterns that allow for the identification of herding effects, helping researchers understand the biases in user-generated ratings."
   ]
  },
  {
   "cell_type": "code",
   "execution_count": 1,
   "metadata": {},
   "outputs": [],
   "source": [
    "# Import all the necessary libraries\n",
    "import polars as pl\n",
    "import tqdm\n",
    "import os\n",
    "\n",
    "# Import the file in the utils folder\n",
    "import sys\n",
    "sys.path.append('../../utils')\n",
    "from data_desc import describe_numbers, describe\n",
    "from matched_dataset import load_and_process_files\n",
    "\n",
    "# Define the paths\n",
    "SRC_DATA_PATH = '../../../data/MatchedBeer'\n",
    "DST_DATA_PATH = '../../../data/MatchedBeer/processed'\n",
    "\n",
    "# Create the DST_DATA_PATH if it does not exist\n",
    "if not os.path.exists(DST_DATA_PATH):\n",
    "    os.makedirs(DST_DATA_PATH)"
   ]
  },
  {
   "cell_type": "markdown",
   "metadata": {},
   "source": [
    "#### Data Exploration"
   ]
  },
  {
   "cell_type": "code",
   "execution_count": 2,
   "metadata": {},
   "outputs": [],
   "source": [
    "file_paths = [SRC_DATA_PATH + \"/beers.csv\", SRC_DATA_PATH + \"/breweries.csv\", SRC_DATA_PATH + \"/ratings.csv\", SRC_DATA_PATH + \"/users_approx.csv\"]\n",
    "dataframes_list = load_and_process_files(file_paths)\n",
    "\n",
    "df_beers = dataframes_list[0]\n",
    "df_breweries = dataframes_list[1]\n",
    "df_ratings = dataframes_list[2]\n",
    "df_users = dataframes_list[3]"
   ]
  },
  {
   "cell_type": "markdown",
   "metadata": {},
   "source": [
    "##### Beers dataset\n",
    "We'll start by looking at the beers dataset."
   ]
  },
  {
   "cell_type": "code",
   "execution_count": 3,
   "metadata": {},
   "outputs": [
    {
     "data": {
      "text/html": [
       "<div><style>\n",
       ".dataframe > thead > tr,\n",
       ".dataframe > tbody > tr {\n",
       "  text-align: right;\n",
       "  white-space: pre-wrap;\n",
       "}\n",
       "</style>\n",
       "<small>shape: (5, 33)</small><table border=\"1\" class=\"dataframe\"><thead><tr><th>abv_ba</th><th>avg_ba</th><th>avg_computed_ba</th><th>avg_matched_valid_ratings_ba</th><th>ba_score_ba</th><th>beer_id_ba</th><th>beer_name_ba</th><th>beer_wout_brewery_name_ba</th><th>brewery_id_ba</th><th>brewery_name_ba</th><th>bros_score_ba</th><th>nbr_matched_valid_ratings_ba</th><th>nbr_ratings_ba</th><th>nbr_reviews_ba</th><th>style_ba</th><th>zscore_ba</th><th>abv_rb</th><th>avg_rb</th><th>avg_computed_rb</th><th>avg_matched_valid_ratings_rb</th><th>beer_id_rb</th><th>beer_name_rb</th><th>beer_wout_brewery_name_rb</th><th>brewery_id_rb</th><th>brewery_name_rb</th><th>nbr_matched_valid_ratings_rb</th><th>nbr_ratings_rb</th><th>overall_score_rb</th><th>style_rb</th><th>style_score_rb</th><th>zscore_rb</th><th>diff_scores</th><th>sim_scores</th></tr><tr><td>f64</td><td>f64</td><td>f64</td><td>f64</td><td>f64</td><td>i64</td><td>str</td><td>str</td><td>i64</td><td>str</td><td>f64</td><td>i64</td><td>i64</td><td>i64</td><td>str</td><td>f64</td><td>f64</td><td>f64</td><td>f64</td><td>f64</td><td>i64</td><td>str</td><td>str</td><td>i64</td><td>str</td><td>i64</td><td>i64</td><td>f64</td><td>str</td><td>f64</td><td>f64</td><td>f64</td><td>f64</td></tr></thead><tbody><tr><td>7.7</td><td>null</td><td>null</td><td>null</td><td>null</td><td>243668</td><td>&quot;Heel&quot;</td><td>&quot;Heel&quot;</td><td>43890</td><td>&quot;Pinellas Ale Works&quot;</td><td>null</td><td>0</td><td>0</td><td>0</td><td>&quot;American Brown Ale&quot;</td><td>null</td><td>7.7</td><td>null</td><td>null</td><td>null</td><td>435328</td><td>&quot;Pinellas Heel&quot;</td><td>&quot;Heel&quot;</td><td>25774</td><td>&quot;Pinellas Ale Works&quot;</td><td>0</td><td>0</td><td>null</td><td>&quot;Brown Ale&quot;</td><td>null</td><td>null</td><td>1.0</td><td>1.0</td></tr><tr><td>4.9</td><td>3.62</td><td>3.5575</td><td>3.856667</td><td>null</td><td>180967</td><td>&quot;Session IPA&quot;</td><td>&quot;Session IPA&quot;</td><td>40535</td><td>&quot;Duck Foot Brewing Co.&quot;</td><td>null</td><td>3</td><td>4</td><td>3</td><td>&quot;American IPA&quot;</td><td>-0.911524</td><td>4.9</td><td>3.16</td><td>3.285714</td><td>3.285714</td><td>347019</td><td>&quot;Duck Foot Session IPA&quot;</td><td>&quot;Session IPA&quot;</td><td>22965</td><td>&quot;Duck Foot Brewing Company&quot;</td><td>7</td><td>7</td><td>null</td><td>&quot;Session IPA&quot;</td><td>null</td><td>-0.255436</td><td>0.723186</td><td>1.0</td></tr><tr><td>7.2</td><td>4.01</td><td>4.01</td><td>4.06</td><td>null</td><td>253776</td><td>&quot;Citrus Tsunami&quot;</td><td>&quot;Tsunami Citrus&quot;</td><td>47387</td><td>&quot;Parkersburg Brewing Company&quot;</td><td>null</td><td>2</td><td>3</td><td>1</td><td>&quot;American IPA&quot;</td><td>0.035585</td><td>7.2</td><td>3.36</td><td>3.9</td><td>3.9</td><td>447459</td><td>&quot;Parkersburg Citrus Tsunami&quot;</td><td>&quot;Tsunami Citrus&quot;</td><td>28555</td><td>&quot;Parkersburg Brewing Company&quot;</td><td>3</td><td>3</td><td>null</td><td>&quot;India Pale Ale (IPA)&quot;</td><td>null</td><td>0.773624</td><td>1.0</td><td>1.0</td></tr><tr><td>5.7</td><td>3.99</td><td>4.01</td><td>3.97</td><td>null</td><td>213395</td><td>&quot;Super Clinic&quot;</td><td>&quot;Clinic Super&quot;</td><td>24056</td><td>&quot;Melvin Brewing / Thai Me Up&quot;</td><td>null</td><td>3</td><td>6</td><td>3</td><td>&quot;American IPA&quot;</td><td>0.062831</td><td>5.7</td><td>3.36</td><td>3.9</td><td>3.9</td><td>394670</td><td>&quot;Melvin Super Clinic IPA&quot;</td><td>&quot;Clinic Super IPA&quot;</td><td>12066</td><td>&quot;Melvin Brewing Company &amp;#40;Th…</td><td>3</td><td>3</td><td>null</td><td>&quot;India Pale Ale (IPA)&quot;</td><td>null</td><td>0.820444</td><td>0.442664</td><td>0.903038</td></tr><tr><td>4.8</td><td>3.25</td><td>3.25</td><td>null</td><td>null</td><td>141762</td><td>&quot;Rapperswiler Lager&quot;</td><td>&quot;Rapperswiler Lager&quot;</td><td>31982</td><td>&quot;Bier Factory Rapperswil AG&quot;</td><td>null</td><td>0</td><td>1</td><td>0</td><td>&quot;Euro Pale Lager&quot;</td><td>-1.12621</td><td>4.8</td><td>3.21</td><td>3.3375</td><td>3.3375</td><td>192379</td><td>&quot;Bier Factory Rapperswil Rapper…</td><td>&quot;Rapperswiler Lager&quot;</td><td>5192</td><td>&quot;Bier Factory Rapperswil&quot;</td><td>8</td><td>8</td><td>null</td><td>&quot;Premium Lager&quot;</td><td>null</td><td>-0.183587</td><td>1.0</td><td>1.0</td></tr></tbody></table></div>"
      ],
      "text/plain": [
       "shape: (5, 33)\n",
       "┌────────┬────────┬────────────┬────────────┬───┬────────────┬───────────┬────────────┬────────────┐\n",
       "│ abv_ba ┆ avg_ba ┆ avg_comput ┆ avg_matche ┆ … ┆ style_scor ┆ zscore_rb ┆ diff_score ┆ sim_scores │\n",
       "│ ---    ┆ ---    ┆ ed_ba      ┆ d_valid_ra ┆   ┆ e_rb       ┆ ---       ┆ s          ┆ ---        │\n",
       "│ f64    ┆ f64    ┆ ---        ┆ tings_ba   ┆   ┆ ---        ┆ f64       ┆ ---        ┆ f64        │\n",
       "│        ┆        ┆ f64        ┆ ---        ┆   ┆ f64        ┆           ┆ f64        ┆            │\n",
       "│        ┆        ┆            ┆ f64        ┆   ┆            ┆           ┆            ┆            │\n",
       "╞════════╪════════╪════════════╪════════════╪═══╪════════════╪═══════════╪════════════╪════════════╡\n",
       "│ 7.7    ┆ null   ┆ null       ┆ null       ┆ … ┆ null       ┆ null      ┆ 1.0        ┆ 1.0        │\n",
       "│ 4.9    ┆ 3.62   ┆ 3.5575     ┆ 3.856667   ┆ … ┆ null       ┆ -0.255436 ┆ 0.723186   ┆ 1.0        │\n",
       "│ 7.2    ┆ 4.01   ┆ 4.01       ┆ 4.06       ┆ … ┆ null       ┆ 0.773624  ┆ 1.0        ┆ 1.0        │\n",
       "│ 5.7    ┆ 3.99   ┆ 4.01       ┆ 3.97       ┆ … ┆ null       ┆ 0.820444  ┆ 0.442664   ┆ 0.903038   │\n",
       "│ 4.8    ┆ 3.25   ┆ 3.25       ┆ null       ┆ … ┆ null       ┆ -0.183587 ┆ 1.0        ┆ 1.0        │\n",
       "└────────┴────────┴────────────┴────────────┴───┴────────────┴───────────┴────────────┴────────────┘"
      ]
     },
     "execution_count": 3,
     "metadata": {},
     "output_type": "execute_result"
    }
   ],
   "source": [
    "df_beers.sample(5)"
   ]
  },
  {
   "cell_type": "markdown",
   "metadata": {},
   "source": [
    "This dataset has the following structure\n",
    "\n",
    "| Column Name | Description |\n",
    "|-------------|-------------|\n",
    "| `beer_id_ba` / `beer_id_rb` | Unique identifier for each beer in BA/RB | \n",
    "| `beer_name_ba` / `beer_name_rb` | Name of the beer in BA/RB |\n",
    "| `beer_wout_brewery_name_ba` / `beer_wout_brewery_name_rb` | Beer name without brewery name in BA/RB |\n",
    "| `brewery_id_ba` / `brewery_id_rb` | Unique identifier for the brewery in BA/RB |\n",
    "| `brewery_name_ba` / `brewery_name_rb` | Name of the brewery in BA/RB |\n",
    "| `style_ba` / `style_rb` | Beer style in BA/RB |\n",
    "| `abv_ba` / `abv_rb` | Alcohol By Volume percentage in BA/RB |\n",
    "| `nbr_ratings_ba` / `nbr_ratings_rb` | Number of ratings in BA/RB |\n",
    "| `nbr_reviews_ba` | Number of reviews in BA |\n",
    "| `avg_ba` / `avg_rb` | Average rating in BA/RB |\n",
    "| `avg_computed_ba` / `avg_computed_rb` | Computed average rating in BA/RB |\n",
    "| `zscore_ba` / `zscore_rb` | Standardized score in BA/RB |\n",
    "| `nbr_matched_valid_ratings_ba` / `nbr_matched_valid_ratings_rb` | Number of matched valid ratings in BA/RB |\n",
    "| `avg_matched_valid_ratings_ba` / `avg_matched_valid_ratings_rb` | Average of matched valid ratings in BA/RB |\n",
    "| `ba_score_ba` | BeerAdvocate score |\n",
    "| `bros_score_ba` | Bros score in BA |\n",
    "| `overall_score_rb` | Overall score in RB |\n",
    "| `style_score_rb` | Style-specific score in RB |\n",
    "| `diff_scores` | Difference in scores between BA and RB |\n",
    "| `sim_scores` | Similarity in scores between BA and RB |\n",
    "\n",
    "Now that we have an idea what the structure of our datasets looks like, let's see if our dataset is complete or whether it contains a lot of missing entries."
   ]
  },
  {
   "cell_type": "code",
   "execution_count": 4,
   "metadata": {},
   "outputs": [
    {
     "name": "stdout",
     "output_type": "stream",
     "text": [
      "+------------------------------+---------+------------------+---------------+-----------+-----------------------+-------------------+\n",
      "| Column                       | Type    |   Not null count |   Nulls count |   Nulls % |   Unique values count |   Unique values % |\n",
      "|------------------------------+---------+------------------+---------------+-----------+-----------------------+-------------------|\n",
      "| abv_ba                       | Float64 |            45640 |             0 |    0.00 % |                   351 |            0.77 % |\n",
      "| avg_ba                       | Float64 |            40285 |          5355 |   11.73 % |                   373 |            0.93 % |\n",
      "| avg_computed_ba              | Float64 |            40285 |          5355 |   11.73 % |                 12090 |           30.01 % |\n",
      "| avg_matched_valid_ratings_ba | Float64 |            28272 |         17368 |   38.05 % |                  6658 |           23.55 % |\n",
      "| ba_score_ba                  | Float64 |            10499 |         35141 |   77.00 % |                    36 |            0.34 % |\n",
      "| beer_id_ba                   | Int64   |            45640 |             0 |    0.00 % |                 45640 |          100.00 % |\n",
      "| beer_name_ba                 | String  |            45640 |             0 |    0.00 % |                 41724 |           91.42 % |\n",
      "| beer_wout_brewery_name_ba    | String  |            45640 |             0 |    0.00 % |                 40061 |           87.78 % |\n",
      "| brewery_id_ba                | Int64   |            45640 |             0 |    0.00 % |                  6084 |           13.33 % |\n",
      "| brewery_name_ba              | String  |            45640 |             0 |    0.00 % |                  6084 |           13.33 % |\n",
      "| bros_score_ba                | Float64 |              727 |         44913 |   98.41 % |                    48 |            6.60 % |\n",
      "| nbr_matched_valid_ratings_ba | Int64   |            45640 |             0 |    0.00 % |                   359 |            0.79 % |\n",
      "| nbr_ratings_ba               | Int64   |            45640 |             0 |    0.00 % |                   672 |            1.47 % |\n",
      "| nbr_reviews_ba               | Int64   |            45640 |             0 |    0.00 % |                   349 |            0.76 % |\n",
      "| style_ba                     | String  |            45640 |             0 |    0.00 % |                   104 |            0.23 % |\n",
      "| zscore_ba                    | Float64 |            40285 |          5355 |   11.73 % |                 28315 |           70.29 % |\n",
      "| abv_rb                       | Float64 |            45640 |             0 |    0.00 % |                   351 |            0.77 % |\n",
      "| avg_rb                       | Float64 |            42155 |          3485 |    7.64 % |                   270 |            0.64 % |\n",
      "| avg_computed_rb              | Float64 |            42228 |          3412 |    7.48 % |                  9744 |           23.07 % |\n",
      "| avg_matched_valid_ratings_rb | Float64 |            42228 |          3412 |    7.48 % |                  9745 |           23.08 % |\n",
      "| beer_id_rb                   | Int64   |            45640 |             0 |    0.00 % |                 45640 |          100.00 % |\n",
      "| beer_name_rb                 | String  |            45640 |             0 |    0.00 % |                 45640 |          100.00 % |\n",
      "| beer_wout_brewery_name_rb    | String  |            45640 |             0 |    0.00 % |                 40366 |           88.44 % |\n",
      "| brewery_id_rb                | Int64   |            45640 |             0 |    0.00 % |                  6071 |           13.30 % |\n",
      "| brewery_name_rb              | String  |            45640 |             0 |    0.00 % |                  6071 |           13.30 % |\n",
      "| nbr_matched_valid_ratings_rb | Int64   |            45640 |             0 |    0.00 % |                   578 |            1.27 % |\n",
      "| nbr_ratings_rb               | Int64   |            45640 |             0 |    0.00 % |                   580 |            1.27 % |\n",
      "| overall_score_rb             | Float64 |            15698 |         29942 |   65.60 % |                   102 |            0.65 % |\n",
      "| style_rb                     | String  |            45640 |             0 |    0.00 % |                    80 |            0.18 % |\n",
      "| style_score_rb               | Float64 |            15698 |         29942 |   65.60 % |                   102 |            0.65 % |\n",
      "| zscore_rb                    | Float64 |            42228 |          3412 |    7.48 % |                 28961 |           68.58 % |\n",
      "| diff_scores                  | Float64 |            45640 |             0 |    0.00 % |                 18916 |           41.45 % |\n",
      "| sim_scores                   | Float64 |            45640 |             0 |    0.00 % |                  3784 |            8.29 % |\n",
      "+------------------------------+---------+------------------+---------------+-----------+-----------------------+-------------------+\n"
     ]
    }
   ],
   "source": [
    "describe(df_beers)"
   ]
  },
  {
   "cell_type": "code",
   "execution_count": 5,
   "metadata": {},
   "outputs": [
    {
     "name": "stdout",
     "output_type": "stream",
     "text": [
      "+------------------------------+-----------+-----------+-----------+------------+-----------+----------+---------+\n",
      "| Column                       |      Mean |       Std |       25% |        50% |       75% |      Min |     Max |\n",
      "|------------------------------+-----------+-----------+-----------+------------+-----------+----------+---------|\n",
      "| abv_ba                       |   6.32086 |   1.85773 |         5 |          6 |       7.2 |     0.38 |    67.5 |\n",
      "| avg_ba                       |   3.73237 |  0.439988 |      3.52 |       3.78 |         4 |        1 |       5 |\n",
      "| avg_computed_ba              |   3.72785 |  0.424824 |      3.52 |     3.7725 |         4 |        1 |       5 |\n",
      "| avg_matched_valid_ratings_ba |   3.74777 |  0.484775 |      3.52 |    3.80833 |     4.045 |        1 |       5 |\n",
      "| ba_score_ba                  |    84.871 |   3.28287 |        83 |         85 |        86 |       63 |     100 |\n",
      "| bros_score_ba                |   86.1623 |    8.5394 |        83 |         88 |        91 |       31 |     100 |\n",
      "| nbr_matched_valid_ratings_ba |   6.33271 |   42.5086 |         0 |          1 |         3 |        0 |    2968 |\n",
      "| nbr_ratings_ba               |   20.9458 |   137.768 |         1 |          3 |         8 |        0 |    9228 |\n",
      "| nbr_reviews_ba               |   5.97783 |   40.9554 |         0 |          1 |         2 |        0 |    2875 |\n",
      "| zscore_ba                    | -0.408295 |  0.806491 | -0.785424 |  -0.321596 | 0.0867333 |  -6.6557 | 2.21158 |\n",
      "| abv_rb                       |   6.32086 |   1.85773 |         5 |          6 |       7.2 |     0.38 |    67.5 |\n",
      "| avg_rb                       |   3.14212 |  0.287468 |      2.98 |       3.13 |      3.31 |        0 |    4.42 |\n",
      "| avg_computed_rb              |   3.37205 |  0.417036 |   3.15517 |       3.41 |      3.65 |      0.5 |       5 |\n",
      "| avg_matched_valid_ratings_rb |   3.37204 |  0.417038 |   3.15517 |       3.41 |      3.65 |      0.5 |       5 |\n",
      "| nbr_matched_valid_ratings_rb |   22.3619 |   80.1015 |         2 |          5 |        16 |        0 |    5270 |\n",
      "| nbr_ratings_rb               |   22.3628 |   80.1075 |         2 |          5 |        16 |        0 |    5272 |\n",
      "| overall_score_rb             |   62.6751 |   26.0847 |        43 |         65 |        87 |        0 |     100 |\n",
      "| style_score_rb               |   60.0962 |   27.6661 |        40 |         61 |        86 |        0 |     100 |\n",
      "| zscore_rb                    | -0.104638 |  0.732841 | -0.479511 | -0.0236959 |  0.364636 | -5.46035 | 2.94112 |\n",
      "| diff_scores                  |  0.797587 |  0.202589 |  0.618451 |   0.816497 |         1 | 0.400024 |       1 |\n",
      "| sim_scores                   |  0.986315 | 0.0423042 |         1 |          1 |         1 | 0.800006 |       1 |\n",
      "+------------------------------+-----------+-----------+-----------+------------+-----------+----------+---------+\n"
     ]
    }
   ],
   "source": [
    "describe_numbers(df_beers, filters =[\"beer_id_ba\", \"brewery_id_ba\", \"beer_id_rb\", \"brewery_id_rb\"])"
   ]
  },
  {
   "cell_type": "markdown",
   "metadata": {},
   "source": [
    "1. Alcohol By Volume (ABV)\n",
    "   - The `abv_ba` and `abv_rb` columns show identical distributions across BeerAdvocate and RateBeer, with a mean ABV of approximately 6.32%.\n",
    "   - This similarity suggests a good alignment in the types of beers reviewed on both platforms. The maximum ABV of 67.5% is possibly an outlier, likely representing rare extreme beers, as typical ABVs are much lower.\n",
    "\n",
    "2. Average Ratings (BeerAdvocate vs. RateBeer)\n",
    "   - The `avg_ba` (BeerAdvocate) mean is 3.73, while `avg_rb` (RateBeer) is significantly lower at 3.14.\n",
    "   - This aligns with previous findings that BeerAdvocate users tend to rate beers more generously than RateBeer users. The higher `std` value for `avg_ba` also indicates a wider range in BeerAdvocate’s ratings, suggesting more variability in user opinions.\n",
    "\n",
    "3. Computed Averages (Consistency in Ratings)\n",
    "   - `avg_computed_ba` and `avg_computed_rb` refer to recalculated averages, showing slightly lower standard deviations than their direct counterparts (`avg_ba` and `avg_rb`), indicating a slight smoothing effect.\n",
    "   - Both BeerAdvocate and RateBeer have computed averages (`avg_computed_ba` vs. `avg_computed_rb`) that are fairly close to the respective raw averages, implying that the original averages align well with user trends.\n",
    "\n",
    "4. Rating Counts\n",
    "   - The median `nbr_ratings_ba` (3) and `nbr_ratings_rb` (5) are relatively low, showing that many beers have few ratings on both sites, though RateBeer has slightly more ratings per beer on average.\n",
    "   - RateBeer’s broader user base also shows a higher standard deviation in the count of matched valid ratings (`nbr_matched_valid_ratings_rb` is 80.10 vs. 42.51 for BeerAdvocate), meaning some beers have far more reviews than others on RateBeer.\n",
    "\n",
    "5. Z-scores (Standardized Ratings)\n",
    "   - The mean `zscore_ba` (-0.41) is lower than `zscore_rb` (-0.10), suggesting BeerAdvocate users' ratings tend to deviate more below the mean, which may imply a slight rating inflation on RateBeer.\n",
    "   - BeerAdvocate’s z-scores also exhibit a broader spread, evidenced by a standard deviation of 0.81 compared to RateBeer's 0.73, reinforcing the idea that BeerAdvocate reviews show more polarized opinions.\n",
    "\n",
    "6. Score Difference and Similarity\n",
    "   - `diff_scores` has a mean of 0.798, which indicates a considerable average difference in the ratings across the two platforms.\n",
    "   - `sim_scores`, however, is high (mean of 0.986), suggesting that while individual score values differ, the rating trends between matched pairs are generally consistent."
   ]
  },
  {
   "cell_type": "markdown",
   "metadata": {},
   "source": [
    "##### Breweries dataset\n",
    "\n",
    "Now we can take a look at our breweries dataframe. For each platform, every brewery has a location, a name, and the amount of beers they produce, along with a unique identifier. We also have the similarity and difference scores between the breweries from the two platforms. The brewery location can be very useful for our research questions. We will look into this more later on in this notebook."
   ]
  },
  {
   "cell_type": "code",
   "execution_count": 6,
   "metadata": {},
   "outputs": [
    {
     "data": {
      "text/html": [
       "<div><style>\n",
       ".dataframe > thead > tr,\n",
       ".dataframe > tbody > tr {\n",
       "  text-align: right;\n",
       "  white-space: pre-wrap;\n",
       "}\n",
       "</style>\n",
       "<small>shape: (5, 10)</small><table border=\"1\" class=\"dataframe\"><thead><tr><th>id_ba</th><th>location_ba</th><th>name_ba</th><th>nbr_beers_ba</th><th>id_rb</th><th>location_rb</th><th>name_rb</th><th>nbr_beers_rb</th><th>diff_scores</th><th>sim_scores</th></tr><tr><td>i64</td><td>str</td><td>str</td><td>i64</td><td>i64</td><td>str</td><td>str</td><td>i64</td><td>f64</td><td>f64</td></tr></thead><tbody><tr><td>13444</td><td>&quot;Denmark&quot;</td><td>&quot;Heimdal-Bryg 2&quot;</td><td>0</td><td>5786</td><td>&quot;Denmark&quot;</td><td>&quot;Heimdal-Bryg&quot;</td><td>11</td><td>0.345058</td><td>1.0</td></tr><tr><td>14294</td><td>&quot;England&quot;</td><td>&quot;Newby Wyke Brewery&quot;</td><td>5</td><td>3192</td><td>&quot;England&quot;</td><td>&quot;Newby Wyke&quot;</td><td>77</td><td>0.764933</td><td>0.97721</td></tr><tr><td>42076</td><td>&quot;United States, Alabama&quot;</td><td>&quot;Red Clay Brewing Company&quot;</td><td>8</td><td>25762</td><td>&quot;United States, Alabama&quot;</td><td>&quot;Red Clay Brewing Company&quot;</td><td>8</td><td>0.386143</td><td>1.0</td></tr><tr><td>42578</td><td>&quot;United States, Oregon&quot;</td><td>&quot;Leikam Brewing&quot;</td><td>8</td><td>24989</td><td>&quot;United States, Oregon&quot;</td><td>&quot;Leikam Brewing&quot;</td><td>8</td><td>0.770562</td><td>1.0</td></tr><tr><td>2696</td><td>&quot;United States, Colorado&quot;</td><td>&quot;Jarre Creek Ranch Brewery&quot;</td><td>4</td><td>1690</td><td>&quot;United States, Colorado&quot;</td><td>&quot;Jarre Creek Ranch Brewing&quot;</td><td>9</td><td>0.553282</td><td>0.96798</td></tr></tbody></table></div>"
      ],
      "text/plain": [
       "shape: (5, 10)\n",
       "┌───────┬────────────┬────────────┬────────────┬───┬───────────┬───────────┬───────────┬───────────┐\n",
       "│ id_ba ┆ location_b ┆ name_ba    ┆ nbr_beers_ ┆ … ┆ name_rb   ┆ nbr_beers ┆ diff_scor ┆ sim_score │\n",
       "│ ---   ┆ a          ┆ ---        ┆ ba         ┆   ┆ ---       ┆ _rb       ┆ es        ┆ s         │\n",
       "│ i64   ┆ ---        ┆ str        ┆ ---        ┆   ┆ str       ┆ ---       ┆ ---       ┆ ---       │\n",
       "│       ┆ str        ┆            ┆ i64        ┆   ┆           ┆ i64       ┆ f64       ┆ f64       │\n",
       "╞═══════╪════════════╪════════════╪════════════╪═══╪═══════════╪═══════════╪═══════════╪═══════════╡\n",
       "│ 13444 ┆ Denmark    ┆ Heimdal-Br ┆ 0          ┆ … ┆ Heimdal-B ┆ 11        ┆ 0.345058  ┆ 1.0       │\n",
       "│       ┆            ┆ yg 2       ┆            ┆   ┆ ryg       ┆           ┆           ┆           │\n",
       "│ 14294 ┆ England    ┆ Newby Wyke ┆ 5          ┆ … ┆ Newby     ┆ 77        ┆ 0.764933  ┆ 0.97721   │\n",
       "│       ┆            ┆ Brewery    ┆            ┆   ┆ Wyke      ┆           ┆           ┆           │\n",
       "│ 42076 ┆ United     ┆ Red Clay   ┆ 8          ┆ … ┆ Red Clay  ┆ 8         ┆ 0.386143  ┆ 1.0       │\n",
       "│       ┆ States,    ┆ Brewing    ┆            ┆   ┆ Brewing   ┆           ┆           ┆           │\n",
       "│       ┆ Alabama    ┆ Company    ┆            ┆   ┆ Company   ┆           ┆           ┆           │\n",
       "│ 42578 ┆ United     ┆ Leikam     ┆ 8          ┆ … ┆ Leikam    ┆ 8         ┆ 0.770562  ┆ 1.0       │\n",
       "│       ┆ States,    ┆ Brewing    ┆            ┆   ┆ Brewing   ┆           ┆           ┆           │\n",
       "│       ┆ Oregon     ┆            ┆            ┆   ┆           ┆           ┆           ┆           │\n",
       "│ 2696  ┆ United     ┆ Jarre      ┆ 4          ┆ … ┆ Jarre     ┆ 9         ┆ 0.553282  ┆ 0.96798   │\n",
       "│       ┆ States,    ┆ Creek      ┆            ┆   ┆ Creek     ┆           ┆           ┆           │\n",
       "│       ┆ Colorado   ┆ Ranch      ┆            ┆   ┆ Ranch     ┆           ┆           ┆           │\n",
       "│       ┆            ┆ Brewery    ┆            ┆   ┆ Brewing   ┆           ┆           ┆           │\n",
       "└───────┴────────────┴────────────┴────────────┴───┴───────────┴───────────┴───────────┴───────────┘"
      ]
     },
     "execution_count": 6,
     "metadata": {},
     "output_type": "execute_result"
    }
   ],
   "source": [
    "df_breweries.sample(5)"
   ]
  },
  {
   "cell_type": "markdown",
   "metadata": {},
   "source": [
    "The dataset has the following structure\n",
    "\n",
    "| Column Name | Description |\n",
    "|-------------|-------------|\n",
    "| `id_ba` / `id_rb` | Unique identifier for each brewery in BA/RB | \n",
    "| `name_ba` / `name_rb` | Name of the brewery in BA/RB |\n",
    "| `location_ba` / `location_rb` | Geographic location of the brewery in BA/RB |\n",
    "| `nbr_beers_ba` / `nbr_beers_rb` | Number of beers produced by the brewery in BA/RB |\n",
    "| `diff_scores` | Difference in scores between BA and RB |\n",
    "| `sim_scores` | Similarity in scores between BA and RB |"
   ]
  },
  {
   "cell_type": "code",
   "execution_count": 7,
   "metadata": {},
   "outputs": [
    {
     "name": "stdout",
     "output_type": "stream",
     "text": [
      "+--------------+---------+------------------+---------------+-----------+-----------------------+-------------------+\n",
      "| Column       | Type    |   Not null count |   Nulls count |   Nulls % |   Unique values count |   Unique values % |\n",
      "|--------------+---------+------------------+---------------+-----------+-----------------------+-------------------|\n",
      "| id_ba        | Int64   |             8281 |             0 |    0.00 % |                  8281 |          100.00 % |\n",
      "| location_ba  | String  |             8281 |             0 |    0.00 % |                   205 |            2.48 % |\n",
      "| name_ba      | String  |             8281 |             0 |    0.00 % |                  8281 |          100.00 % |\n",
      "| nbr_beers_ba | Int64   |             8281 |             0 |    0.00 % |                   231 |            2.79 % |\n",
      "| id_rb        | Int64   |             8281 |             0 |    0.00 % |                  8235 |           99.44 % |\n",
      "| location_rb  | String  |             8281 |             0 |    0.00 % |                   205 |            2.48 % |\n",
      "| name_rb      | String  |             8281 |             0 |    0.00 % |                  8235 |           99.44 % |\n",
      "| nbr_beers_rb | Int64   |             8281 |             0 |    0.00 % |                   244 |            2.95 % |\n",
      "| diff_scores  | Float64 |             8281 |             0 |    0.00 % |                  4471 |           53.99 % |\n",
      "| sim_scores   | Float64 |             8281 |             0 |    0.00 % |                  1538 |           18.57 % |\n",
      "+--------------+---------+------------------+---------------+-----------+-----------------------+-------------------+\n"
     ]
    }
   ],
   "source": [
    "describe(df_breweries)"
   ]
  },
  {
   "cell_type": "code",
   "execution_count": 8,
   "metadata": {},
   "outputs": [
    {
     "name": "stdout",
     "output_type": "stream",
     "text": [
      "+--------------+---------+------------------+---------------+-----------+-----------------------+-------------------+\n",
      "| Column       | Type    |   Not null count |   Nulls count |   Nulls % |   Unique values count |   Unique values % |\n",
      "|--------------+---------+------------------+---------------+-----------+-----------------------+-------------------|\n",
      "| location_ba  | String  |             8281 |             0 |    0.00 % |                   205 |            2.48 % |\n",
      "| name_ba      | String  |             8281 |             0 |    0.00 % |                  8281 |          100.00 % |\n",
      "| nbr_beers_ba | Int64   |             8281 |             0 |    0.00 % |                   231 |            2.79 % |\n",
      "| location_rb  | String  |             8281 |             0 |    0.00 % |                   205 |            2.48 % |\n",
      "| name_rb      | String  |             8281 |             0 |    0.00 % |                  8235 |           99.44 % |\n",
      "| nbr_beers_rb | Int64   |             8281 |             0 |    0.00 % |                   244 |            2.95 % |\n",
      "| diff_scores  | Float64 |             8281 |             0 |    0.00 % |                  4471 |           53.99 % |\n",
      "| sim_scores   | Float64 |             8281 |             0 |    0.00 % |                  1538 |           18.57 % |\n",
      "+--------------+---------+------------------+---------------+-----------+-----------------------+-------------------+\n"
     ]
    }
   ],
   "source": [
    "describe(df_breweries, filters=[\"id_ba\", \"id_rb\"])"
   ]
  },
  {
   "cell_type": "markdown",
   "metadata": {},
   "source": [
    "For our breweries on both platforms, we have no missing values (in this matched data)."
   ]
  },
  {
   "cell_type": "markdown",
   "metadata": {},
   "source": [
    "##### Users dataset\n",
    "\n",
    "**Note**: The users_approx data is essentailly exactly the same however rather than users being matched exactly by username across the two platforms, they are matched using a TF-IDF vectorizer and cosine similarity. Users are matched if username is close enough and same location.\n",
    "\n",
    "For each of our users (for each platform), we have their number of ratings/reviews, their ID, their name, the timestamp of when they joined and their location. The location is interesting for us, along with the number of reviews of each user."
   ]
  },
  {
   "cell_type": "code",
   "execution_count": 9,
   "metadata": {},
   "outputs": [
    {
     "data": {
      "text/html": [
       "<div><style>\n",
       ".dataframe > thead > tr,\n",
       ".dataframe > tbody > tr {\n",
       "  text-align: right;\n",
       "  white-space: pre-wrap;\n",
       "}\n",
       "</style>\n",
       "<small>shape: (5, 14)</small><table border=\"1\" class=\"dataframe\"><thead><tr><th>joined_ba</th><th>location_ba</th><th>nbr_ratings_ba</th><th>nbr_reviews_ba</th><th>user_id_ba</th><th>user_name_ba</th><th>user_name_lower_ba</th><th>joined_rb</th><th>location_rb</th><th>nbr_ratings_rb</th><th>user_id_rb</th><th>user_name_rb</th><th>user_name_lower_rb</th><th>sim_scores</th></tr><tr><td>f64</td><td>str</td><td>i64</td><td>i64</td><td>str</td><td>str</td><td>str</td><td>f64</td><td>str</td><td>i64</td><td>i64</td><td>str</td><td>str</td><td>f64</td></tr></thead><tbody><tr><td>1.2521e9</td><td>&quot;United States, Texas&quot;</td><td>309</td><td>0</td><td>&quot;frogfan.366893&quot;</td><td>&quot;frogfan&quot;</td><td>&quot;frogfan&quot;</td><td>1.0049e9</td><td>&quot;United States, Texas&quot;</td><td>9</td><td>2133</td><td>&quot;frogfan99&quot;</td><td>&quot;frogfan99&quot;</td><td>0.866025</td></tr><tr><td>1.4902e9</td><td>&quot;Spain&quot;</td><td>1</td><td>0</td><td>&quot;ramonet.1194922&quot;</td><td>&quot;Ramonet&quot;</td><td>&quot;ramonet&quot;</td><td>1.3650e9</td><td>&quot;Spain&quot;</td><td>2</td><td>252277</td><td>&quot;Ramonetti&quot;</td><td>&quot;ramonetti&quot;</td><td>0.866025</td></tr><tr><td>1.3000e9</td><td>&quot;United States, North Carolina&quot;</td><td>84</td><td>84</td><td>&quot;raszputini.579433&quot;</td><td>&quot;raszputini&quot;</td><td>&quot;raszputini&quot;</td><td>1.2893e9</td><td>&quot;United States, North Carolina&quot;</td><td>58</td><td>116932</td><td>&quot;raszputini&quot;</td><td>&quot;raszputini&quot;</td><td>1.0</td></tr><tr><td>1.1201e9</td><td>&quot;United States, Oregon&quot;</td><td>7</td><td>7</td><td>&quot;kevinphish.26808&quot;</td><td>&quot;kevinphish&quot;</td><td>&quot;kevinphish&quot;</td><td>1.1398e9</td><td>&quot;United States, Oregon&quot;</td><td>23</td><td>33493</td><td>&quot;kevinphish&quot;</td><td>&quot;kevinphish&quot;</td><td>1.0</td></tr><tr><td>1.3930e9</td><td>&quot;United States, Texas&quot;</td><td>1920</td><td>77</td><td>&quot;domvan.783801&quot;</td><td>&quot;Domvan&quot;</td><td>&quot;domvan&quot;</td><td>1.4224e9</td><td>&quot;United States, Texas&quot;</td><td>1</td><td>355050</td><td>&quot;domvan&quot;</td><td>&quot;domvan&quot;</td><td>1.0</td></tr></tbody></table></div>"
      ],
      "text/plain": [
       "shape: (5, 14)\n",
       "┌───────────┬───────────┬───────────┬───────────┬───┬───────────┬───────────┬───────────┬──────────┐\n",
       "│ joined_ba ┆ location_ ┆ nbr_ratin ┆ nbr_revie ┆ … ┆ user_id_r ┆ user_name ┆ user_name ┆ sim_scor │\n",
       "│ ---       ┆ ba        ┆ gs_ba     ┆ ws_ba     ┆   ┆ b         ┆ _rb       ┆ _lower_rb ┆ es       │\n",
       "│ f64       ┆ ---       ┆ ---       ┆ ---       ┆   ┆ ---       ┆ ---       ┆ ---       ┆ ---      │\n",
       "│           ┆ str       ┆ i64       ┆ i64       ┆   ┆ i64       ┆ str       ┆ str       ┆ f64      │\n",
       "╞═══════════╪═══════════╪═══════════╪═══════════╪═══╪═══════════╪═══════════╪═══════════╪══════════╡\n",
       "│ 1.2521e9  ┆ United    ┆ 309       ┆ 0         ┆ … ┆ 2133      ┆ frogfan99 ┆ frogfan99 ┆ 0.866025 │\n",
       "│           ┆ States,   ┆           ┆           ┆   ┆           ┆           ┆           ┆          │\n",
       "│           ┆ Texas     ┆           ┆           ┆   ┆           ┆           ┆           ┆          │\n",
       "│ 1.4902e9  ┆ Spain     ┆ 1         ┆ 0         ┆ … ┆ 252277    ┆ Ramonetti ┆ ramonetti ┆ 0.866025 │\n",
       "│ 1.3000e9  ┆ United    ┆ 84        ┆ 84        ┆ … ┆ 116932    ┆ raszputin ┆ raszputin ┆ 1.0      │\n",
       "│           ┆ States,   ┆           ┆           ┆   ┆           ┆ i         ┆ i         ┆          │\n",
       "│           ┆ North     ┆           ┆           ┆   ┆           ┆           ┆           ┆          │\n",
       "│           ┆ Carolina  ┆           ┆           ┆   ┆           ┆           ┆           ┆          │\n",
       "│ 1.1201e9  ┆ United    ┆ 7         ┆ 7         ┆ … ┆ 33493     ┆ kevinphis ┆ kevinphis ┆ 1.0      │\n",
       "│           ┆ States,   ┆           ┆           ┆   ┆           ┆ h         ┆ h         ┆          │\n",
       "│           ┆ Oregon    ┆           ┆           ┆   ┆           ┆           ┆           ┆          │\n",
       "│ 1.3930e9  ┆ United    ┆ 1920      ┆ 77        ┆ … ┆ 355050    ┆ domvan    ┆ domvan    ┆ 1.0      │\n",
       "│           ┆ States,   ┆           ┆           ┆   ┆           ┆           ┆           ┆          │\n",
       "│           ┆ Texas     ┆           ┆           ┆   ┆           ┆           ┆           ┆          │\n",
       "└───────────┴───────────┴───────────┴───────────┴───┴───────────┴───────────┴───────────┴──────────┘"
      ]
     },
     "execution_count": 9,
     "metadata": {},
     "output_type": "execute_result"
    }
   ],
   "source": [
    "df_users.sample(5)"
   ]
  },
  {
   "cell_type": "markdown",
   "metadata": {},
   "source": [
    "The dataset has the following structure\n",
    "| Column Name | Description |\n",
    "|-------------|-------------|\n",
    "| `user_id_ba` / `user_id_rb` | Unique identifier for each user in BA/RB |\n",
    "| `user_name_ba` / `user_name_rb` | Username of the reviewer in BA/RB |\n",
    "| `user_name_lower_ba` / `user_name_lower_rb` | Lowercase username in BA/RB |\n",
    "| `joined_ba` / `joined_rb` | Date when the user joined BA/RB |\n",
    "| `location_ba` / `location_rb` | Geographic location of the user in BA/RB |\n",
    "| `nbr_ratings_ba` / `nbr_ratings_rb` | Number of ratings submitted by the user in BA/RB |\n",
    "| `nbr_reviews_ba` | Number of reviews submitted by the user in BA |"
   ]
  },
  {
   "cell_type": "code",
   "execution_count": 10,
   "metadata": {},
   "outputs": [
    {
     "name": "stdout",
     "output_type": "stream",
     "text": [
      "+--------------------+---------+------------------+---------------+-----------+-----------------------+-------------------+\n",
      "| Column             | Type    |   Not null count |   Nulls count |   Nulls % |   Unique values count |   Unique values % |\n",
      "|--------------------+---------+------------------+---------------+-----------+-----------------------+-------------------|\n",
      "| joined_ba          | Float64 |             3341 |             0 |    0.00 % |                  2352 |           70.40 % |\n",
      "| location_ba        | String  |             3341 |             0 |    0.00 % |                   111 |            3.32 % |\n",
      "| nbr_ratings_ba     | Int64   |             3341 |             0 |    0.00 % |                   660 |           19.75 % |\n",
      "| nbr_reviews_ba     | Int64   |             3341 |             0 |    0.00 % |                   475 |           14.22 % |\n",
      "| user_id_ba         | String  |             3341 |             0 |    0.00 % |                  3316 |           99.25 % |\n",
      "| user_name_ba       | String  |             3341 |             0 |    0.00 % |                  3316 |           99.25 % |\n",
      "| user_name_lower_ba | String  |             3341 |             0 |    0.00 % |                  3316 |           99.25 % |\n",
      "| joined_rb          | Float64 |             3341 |             0 |    0.00 % |                  2352 |           70.40 % |\n",
      "| location_rb        | String  |             3341 |             0 |    0.00 % |                   111 |            3.32 % |\n",
      "| nbr_ratings_rb     | Int64   |             3341 |             0 |    0.00 % |                   591 |           17.69 % |\n",
      "| user_id_rb         | Int64   |             3341 |             0 |    0.00 % |                  3341 |          100.00 % |\n",
      "| user_name_rb       | String  |             3341 |             0 |    0.00 % |                  3341 |          100.00 % |\n",
      "| user_name_lower_rb | String  |             3341 |             0 |    0.00 % |                  3341 |          100.00 % |\n",
      "| sim_scores         | Float64 |             3341 |             0 |    0.00 % |                   107 |            3.20 % |\n",
      "+--------------------+---------+------------------+---------------+-----------+-----------------------+-------------------+\n"
     ]
    }
   ],
   "source": [
    "describe(df_users)"
   ]
  },
  {
   "cell_type": "code",
   "execution_count": 11,
   "metadata": {},
   "outputs": [
    {
     "name": "stdout",
     "output_type": "stream",
     "text": [
      "+----------------+----------+-----------+-------+-------+-------+----------+-------+\n",
      "| Column         |     Mean |       Std |   25% |   50% |   75% |      Min |   Max |\n",
      "|----------------+----------+-----------+-------+-------+-------+----------+-------|\n",
      "| nbr_ratings_ba |  211.612 |   685.867 |     2 |    13 |   106 |        1 | 12046 |\n",
      "| nbr_reviews_ba |  118.232 |   454.174 |     1 |     3 |    29 |        0 |  7593 |\n",
      "| nbr_ratings_rb |  270.923 |   1143.09 |     2 |     5 |    38 |        1 | 20678 |\n",
      "| sim_scores     | 0.986855 | 0.0425066 |     1 |     1 |     1 | 0.800641 |     1 |\n",
      "+----------------+----------+-----------+-------+-------+-------+----------+-------+\n"
     ]
    }
   ],
   "source": [
    "describe_numbers(df_users, filters=[\"user_id_rb\", \"joined_ba\", \"joined_rb\"])"
   ]
  },
  {
   "cell_type": "markdown",
   "metadata": {},
   "source": [
    "To make the `joined` columns more readable we cast them to a datetime object."
   ]
  },
  {
   "cell_type": "code",
   "execution_count": 12,
   "metadata": {},
   "outputs": [
    {
     "data": {
      "text/html": [
       "<div><style>\n",
       ".dataframe > thead > tr,\n",
       ".dataframe > tbody > tr {\n",
       "  text-align: right;\n",
       "  white-space: pre-wrap;\n",
       "}\n",
       "</style>\n",
       "<small>shape: (5, 14)</small><table border=\"1\" class=\"dataframe\"><thead><tr><th>joined_ba</th><th>location_ba</th><th>nbr_ratings_ba</th><th>nbr_reviews_ba</th><th>user_id_ba</th><th>user_name_ba</th><th>user_name_lower_ba</th><th>joined_rb</th><th>location_rb</th><th>nbr_ratings_rb</th><th>user_id_rb</th><th>user_name_rb</th><th>user_name_lower_rb</th><th>sim_scores</th></tr><tr><td>datetime[ms]</td><td>str</td><td>i64</td><td>i64</td><td>str</td><td>str</td><td>str</td><td>datetime[ms]</td><td>str</td><td>i64</td><td>i64</td><td>str</td><td>str</td><td>f64</td></tr></thead><tbody><tr><td>2013-08-01 10:00:00</td><td>&quot;United States, Oregon&quot;</td><td>73</td><td>2</td><td>&quot;hoppytoday.745949&quot;</td><td>&quot;HoppyToday&quot;</td><td>&quot;hoppytoday&quot;</td><td>2010-07-10 10:00:00</td><td>&quot;United States, Oregon&quot;</td><td>5</td><td>109636</td><td>&quot;HoppyToday&quot;</td><td>&quot;hoppytoday&quot;</td><td>1.0</td></tr><tr><td>2013-07-01 10:00:00</td><td>&quot;England&quot;</td><td>11</td><td>11</td><td>&quot;edking.739491&quot;</td><td>&quot;EdKing&quot;</td><td>&quot;edking&quot;</td><td>2011-02-25 11:00:00</td><td>&quot;England&quot;</td><td>2213</td><td>124233</td><td>&quot;EdKing&quot;</td><td>&quot;edking&quot;</td><td>1.0</td></tr><tr><td>2010-05-10 10:00:00</td><td>&quot;United States, Florida&quot;</td><td>32</td><td>32</td><td>&quot;konadrinker.457918&quot;</td><td>&quot;konadrinker&quot;</td><td>&quot;konadrinker&quot;</td><td>2010-05-15 10:00:00</td><td>&quot;United States, Florida&quot;</td><td>31</td><td>106412</td><td>&quot;Konadrinker&quot;</td><td>&quot;konadrinker&quot;</td><td>1.0</td></tr><tr><td>2013-05-11 10:00:00</td><td>&quot;United States, Michigan&quot;</td><td>1</td><td>1</td><td>&quot;darb85.732106&quot;</td><td>&quot;darb85&quot;</td><td>&quot;darb85&quot;</td><td>2013-11-21 11:00:00</td><td>&quot;United States, Michigan&quot;</td><td>207</td><td>289453</td><td>&quot;darb85&quot;</td><td>&quot;darb85&quot;</td><td>1.0</td></tr><tr><td>2008-12-08 11:00:00</td><td>&quot;United States, New York&quot;</td><td>10</td><td>10</td><td>&quot;sonicstylee.274700&quot;</td><td>&quot;sonicstylee&quot;</td><td>&quot;sonicstylee&quot;</td><td>2008-09-18 10:00:00</td><td>&quot;United States, New York&quot;</td><td>11</td><td>81776</td><td>&quot;sonicstylee&quot;</td><td>&quot;sonicstylee&quot;</td><td>1.0</td></tr></tbody></table></div>"
      ],
      "text/plain": [
       "shape: (5, 14)\n",
       "┌───────────┬───────────┬───────────┬───────────┬───┬───────────┬───────────┬───────────┬──────────┐\n",
       "│ joined_ba ┆ location_ ┆ nbr_ratin ┆ nbr_revie ┆ … ┆ user_id_r ┆ user_name ┆ user_name ┆ sim_scor │\n",
       "│ ---       ┆ ba        ┆ gs_ba     ┆ ws_ba     ┆   ┆ b         ┆ _rb       ┆ _lower_rb ┆ es       │\n",
       "│ datetime[ ┆ ---       ┆ ---       ┆ ---       ┆   ┆ ---       ┆ ---       ┆ ---       ┆ ---      │\n",
       "│ ms]       ┆ str       ┆ i64       ┆ i64       ┆   ┆ i64       ┆ str       ┆ str       ┆ f64      │\n",
       "╞═══════════╪═══════════╪═══════════╪═══════════╪═══╪═══════════╪═══════════╪═══════════╪══════════╡\n",
       "│ 2013-08-0 ┆ United    ┆ 73        ┆ 2         ┆ … ┆ 109636    ┆ HoppyToda ┆ hoppytoda ┆ 1.0      │\n",
       "│ 1         ┆ States,   ┆           ┆           ┆   ┆           ┆ y         ┆ y         ┆          │\n",
       "│ 10:00:00  ┆ Oregon    ┆           ┆           ┆   ┆           ┆           ┆           ┆          │\n",
       "│ 2013-07-0 ┆ England   ┆ 11        ┆ 11        ┆ … ┆ 124233    ┆ EdKing    ┆ edking    ┆ 1.0      │\n",
       "│ 1         ┆           ┆           ┆           ┆   ┆           ┆           ┆           ┆          │\n",
       "│ 10:00:00  ┆           ┆           ┆           ┆   ┆           ┆           ┆           ┆          │\n",
       "│ 2010-05-1 ┆ United    ┆ 32        ┆ 32        ┆ … ┆ 106412    ┆ Konadrink ┆ konadrink ┆ 1.0      │\n",
       "│ 0         ┆ States,   ┆           ┆           ┆   ┆           ┆ er        ┆ er        ┆          │\n",
       "│ 10:00:00  ┆ Florida   ┆           ┆           ┆   ┆           ┆           ┆           ┆          │\n",
       "│ 2013-05-1 ┆ United    ┆ 1         ┆ 1         ┆ … ┆ 289453    ┆ darb85    ┆ darb85    ┆ 1.0      │\n",
       "│ 1         ┆ States,   ┆           ┆           ┆   ┆           ┆           ┆           ┆          │\n",
       "│ 10:00:00  ┆ Michigan  ┆           ┆           ┆   ┆           ┆           ┆           ┆          │\n",
       "│ 2008-12-0 ┆ United    ┆ 10        ┆ 10        ┆ … ┆ 81776     ┆ sonicstyl ┆ sonicstyl ┆ 1.0      │\n",
       "│ 8         ┆ States,   ┆           ┆           ┆   ┆           ┆ ee        ┆ ee        ┆          │\n",
       "│ 11:00:00  ┆ New York  ┆           ┆           ┆   ┆           ┆           ┆           ┆          │\n",
       "└───────────┴───────────┴───────────┴───────────┴───┴───────────┴───────────┴───────────┴──────────┘"
      ]
     },
     "execution_count": 12,
     "metadata": {},
     "output_type": "execute_result"
    }
   ],
   "source": [
    "df_users = df_users.with_columns((pl.col(\"joined_ba\").cast(pl.Int64) * 1000).cast(pl.Datetime(\"ms\")))\n",
    "df_users = df_users.with_columns((pl.col(\"joined_rb\").cast(pl.Int64) * 1000).cast(pl.Datetime(\"ms\")))\n",
    "df_users.sample(5)"
   ]
  },
  {
   "cell_type": "markdown",
   "metadata": {},
   "source": [
    "##### Ratings"
   ]
  },
  {
   "cell_type": "code",
   "execution_count": 13,
   "metadata": {},
   "outputs": [
    {
     "data": {
      "text/html": [
       "<div><style>\n",
       ".dataframe > thead > tr,\n",
       ".dataframe > tbody > tr {\n",
       "  text-align: right;\n",
       "  white-space: pre-wrap;\n",
       "}\n",
       "</style>\n",
       "<small>shape: (5, 33)</small><table border=\"1\" class=\"dataframe\"><thead><tr><th>abv_ba</th><th>appearance_ba</th><th>aroma_ba</th><th>beer_id_ba</th><th>beer_name_ba</th><th>brewery_id_ba</th><th>brewery_name_ba</th><th>date_ba</th><th>overall_ba</th><th>palate_ba</th><th>rating_ba</th><th>review_ba</th><th>style_ba</th><th>taste_ba</th><th>text_ba</th><th>user_id_ba</th><th>user_name_ba</th><th>abv_rb</th><th>appearance_rb</th><th>aroma_rb</th><th>beer_id_rb</th><th>beer_name_rb</th><th>brewery_id_rb</th><th>brewery_name_rb</th><th>date_rb</th><th>overall_rb</th><th>palate_rb</th><th>rating_rb</th><th>style_rb</th><th>taste_rb</th><th>text_rb</th><th>user_id_rb</th><th>user_name_rb</th></tr><tr><td>f64</td><td>f64</td><td>f64</td><td>i64</td><td>str</td><td>i64</td><td>str</td><td>i64</td><td>f64</td><td>f64</td><td>f64</td><td>bool</td><td>str</td><td>f64</td><td>str</td><td>str</td><td>str</td><td>f64</td><td>f64</td><td>f64</td><td>i64</td><td>str</td><td>i64</td><td>str</td><td>i64</td><td>f64</td><td>f64</td><td>f64</td><td>str</td><td>f64</td><td>str</td><td>i64</td><td>str</td></tr></thead><tbody><tr><td>6.0</td><td>4.0</td><td>4.0</td><td>212102</td><td>&quot;Roses Are Brett&quot;</td><td>24299</td><td>&quot;To Øl&quot;</td><td>1493460000</td><td>4.5</td><td>4.0</td><td>4.1</td><td>true</td><td>&quot;Saison / Farmhouse Ale&quot;</td><td>4.0</td><td>&quot;330 ml bottle into tulip glass…</td><td>&quot;superspak.456300&quot;</td><td>&quot;superspak&quot;</td><td>6.0</td><td>4.0</td><td>8.0</td><td>421055</td><td>&quot;To Øl Roses are Brett&quot;</td><td>12119</td><td>&quot;To Øl&quot;</td><td>1492941600</td><td>17.0</td><td>4.0</td><td>4.1</td><td>&quot;Saison&quot;</td><td>8.0</td><td>&quot;330 ml bottle into tulip glass…</td><td>105791</td><td>&quot;superspak&quot;</td></tr><tr><td>6.3</td><td>4.0</td><td>3.75</td><td>131281</td><td>&quot;Star Baby IPA&quot;</td><td>35337</td><td>&quot;Brenner Brewing Co.&quot;</td><td>1437559200</td><td>3.75</td><td>3.75</td><td>3.87</td><td>true</td><td>&quot;American IPA&quot;</td><td>4.0</td><td>&quot;This pours a dark amber color …</td><td>&quot;lemke10.493944&quot;</td><td>&quot;Lemke10&quot;</td><td>6.3</td><td>4.0</td><td>8.0</td><td>271366</td><td>&quot;Brenner Star Baby IPA&quot;</td><td>19943</td><td>&quot;Brenner Brewing Company&quot;</td><td>1437472800</td><td>14.0</td><td>4.0</td><td>3.7</td><td>&quot;India Pale Ale (IPA)&quot;</td><td>7.0</td><td>&quot;This pours a dark amber color …</td><td>147999</td><td>&quot;Lemke10&quot;</td></tr><tr><td>6.2</td><td>3.5</td><td>3.5</td><td>52475</td><td>&quot;Tule Duck Red Ale&quot;</td><td>16851</td><td>&quot;Buckbean Brewing Company&quot;</td><td>1326366000</td><td>3.5</td><td>3.0</td><td>3.45</td><td>true</td><td>&quot;American Amber / Red Ale&quot;</td><td>3.5</td><td>&quot;Received in trade from mdascha…</td><td>&quot;johnnnniee.125029&quot;</td><td>&quot;johnnnniee&quot;</td><td>6.2</td><td>3.0</td><td>6.0</td><td>86608</td><td>&quot;Buckbean Tule Duck Red Ale&quot;</td><td>9472</td><td>&quot;Buckbean Brewing Company&quot;</td><td>1326279600</td><td>12.0</td><td>3.0</td><td>3.0</td><td>&quot;Amber Ale&quot;</td><td>6.0</td><td>&quot;Received in trade from mdascha…</td><td>60182</td><td>&quot;johnnnniee&quot;</td></tr><tr><td>6.1</td><td>4.0</td><td>4.5</td><td>22790</td><td>&quot;Blind Pig IPA&quot;</td><td>863</td><td>&quot;Russian River Brewing Company&quot;</td><td>1244628000</td><td>4.5</td><td>4.0</td><td>4.22</td><td>true</td><td>&quot;American IPA&quot;</td><td>4.0</td><td>&quot;Bottle dated 020209, got as an…</td><td>&quot;cakanator.195218&quot;</td><td>&quot;Cakanator&quot;</td><td>6.1</td><td>4.0</td><td>9.0</td><td>48429</td><td>&quot;Russian River Blind Pig IPA&quot;</td><td>1480</td><td>&quot;Russian River Brewing&quot;</td><td>1266836400</td><td>18.0</td><td>4.0</td><td>4.4</td><td>&quot;India Pale Ale (IPA)&quot;</td><td>9.0</td><td>&quot;Notes from last year.Bottle da…</td><td>70429</td><td>&quot;cakanator&quot;</td></tr><tr><td>5.3</td><td>3.5</td><td>4.0</td><td>8698</td><td>&quot;Hopyard IPA&quot;</td><td>3353</td><td>&quot;Rockyard Brewing&quot;</td><td>1301824800</td><td>3.5</td><td>2.5</td><td>3.52</td><td>true</td><td>&quot;American IPA&quot;</td><td>3.5</td><td>&quot;Some citrus orange taste, but …</td><td>&quot;sammy.3853&quot;</td><td>&quot;Sammy&quot;</td><td>5.3</td><td>3.0</td><td>6.0</td><td>3641</td><td>&quot;Rockyard Hopyard IPA&quot;</td><td>628</td><td>&quot;Rockyard Brewing Company&quot;</td><td>1301738400</td><td>13.0</td><td>2.0</td><td>3.0</td><td>&quot;India Pale Ale (IPA)&quot;</td><td>6.0</td><td>&quot;Some citrus orange taste, but …</td><td>11905</td><td>&quot;Sammy&quot;</td></tr></tbody></table></div>"
      ],
      "text/plain": [
       "shape: (5, 33)\n",
       "┌────────┬────────────┬──────────┬────────────┬───┬──────────┬────────────┬────────────┬───────────┐\n",
       "│ abv_ba ┆ appearance ┆ aroma_ba ┆ beer_id_ba ┆ … ┆ taste_rb ┆ text_rb    ┆ user_id_rb ┆ user_name │\n",
       "│ ---    ┆ _ba        ┆ ---      ┆ ---        ┆   ┆ ---      ┆ ---        ┆ ---        ┆ _rb       │\n",
       "│ f64    ┆ ---        ┆ f64      ┆ i64        ┆   ┆ f64      ┆ str        ┆ i64        ┆ ---       │\n",
       "│        ┆ f64        ┆          ┆            ┆   ┆          ┆            ┆            ┆ str       │\n",
       "╞════════╪════════════╪══════════╪════════════╪═══╪══════════╪════════════╪════════════╪═══════════╡\n",
       "│ 6.0    ┆ 4.0        ┆ 4.0      ┆ 212102     ┆ … ┆ 8.0      ┆ 330 ml     ┆ 105791     ┆ superspak │\n",
       "│        ┆            ┆          ┆            ┆   ┆          ┆ bottle     ┆            ┆           │\n",
       "│        ┆            ┆          ┆            ┆   ┆          ┆ into tulip ┆            ┆           │\n",
       "│        ┆            ┆          ┆            ┆   ┆          ┆ glass…     ┆            ┆           │\n",
       "│ 6.3    ┆ 4.0        ┆ 3.75     ┆ 131281     ┆ … ┆ 7.0      ┆ This pours ┆ 147999     ┆ Lemke10   │\n",
       "│        ┆            ┆          ┆            ┆   ┆          ┆ a dark     ┆            ┆           │\n",
       "│        ┆            ┆          ┆            ┆   ┆          ┆ amber      ┆            ┆           │\n",
       "│        ┆            ┆          ┆            ┆   ┆          ┆ color …    ┆            ┆           │\n",
       "│ 6.2    ┆ 3.5        ┆ 3.5      ┆ 52475      ┆ … ┆ 6.0      ┆ Received   ┆ 60182      ┆ johnnnnie │\n",
       "│        ┆            ┆          ┆            ┆   ┆          ┆ in trade   ┆            ┆ e         │\n",
       "│        ┆            ┆          ┆            ┆   ┆          ┆ from       ┆            ┆           │\n",
       "│        ┆            ┆          ┆            ┆   ┆          ┆ mdascha…   ┆            ┆           │\n",
       "│ 6.1    ┆ 4.0        ┆ 4.5      ┆ 22790      ┆ … ┆ 9.0      ┆ Notes from ┆ 70429      ┆ cakanator │\n",
       "│        ┆            ┆          ┆            ┆   ┆          ┆ last year. ┆            ┆           │\n",
       "│        ┆            ┆          ┆            ┆   ┆          ┆ Bottle da… ┆            ┆           │\n",
       "│ 5.3    ┆ 3.5        ┆ 4.0      ┆ 8698       ┆ … ┆ 6.0      ┆ Some       ┆ 11905      ┆ Sammy     │\n",
       "│        ┆            ┆          ┆            ┆   ┆          ┆ citrus     ┆            ┆           │\n",
       "│        ┆            ┆          ┆            ┆   ┆          ┆ orange     ┆            ┆           │\n",
       "│        ┆            ┆          ┆            ┆   ┆          ┆ taste, but ┆            ┆           │\n",
       "│        ┆            ┆          ┆            ┆   ┆          ┆ …          ┆            ┆           │\n",
       "└────────┴────────────┴──────────┴────────────┴───┴──────────┴────────────┴────────────┴───────────┘"
      ]
     },
     "execution_count": 13,
     "metadata": {},
     "output_type": "execute_result"
    }
   ],
   "source": [
    "df_ratings.sample(5)"
   ]
  },
  {
   "cell_type": "code",
   "execution_count": 14,
   "metadata": {},
   "outputs": [
    {
     "name": "stdout",
     "output_type": "stream",
     "text": [
      "+-----------------+---------+------------------+---------------+-----------+-----------------------+-------------------+\n",
      "| Column          | Type    |   Not null count |   Nulls count |   Nulls % |   Unique values count |   Unique values % |\n",
      "|-----------------+---------+------------------+---------------+-----------+-----------------------+-------------------|\n",
      "| abv_ba          | Float64 |            21964 |             0 |    0.00 % |                   187 |            0.85 % |\n",
      "| appearance_ba   | Float64 |            19295 |          2669 |   12.15 % |                    18 |            0.09 % |\n",
      "| aroma_ba        | Float64 |            19295 |          2669 |   12.15 % |                    18 |            0.09 % |\n",
      "| beer_id_ba      | Int64   |            21964 |             0 |    0.00 % |                  9025 |           41.09 % |\n",
      "| beer_name_ba    | String  |            21964 |             0 |    0.00 % |                  8719 |           39.70 % |\n",
      "| brewery_id_ba   | Int64   |            21964 |             0 |    0.00 % |                  2230 |           10.15 % |\n",
      "| brewery_name_ba | String  |            21964 |             0 |    0.00 % |                  2230 |           10.15 % |\n",
      "| date_ba         | Int64   |            21964 |             0 |    0.00 % |                  4622 |           21.04 % |\n",
      "| overall_ba      | Float64 |            19295 |          2669 |   12.15 % |                    18 |            0.09 % |\n",
      "| palate_ba       | Float64 |            19295 |          2669 |   12.15 % |                    18 |            0.09 % |\n",
      "| rating_ba       | Float64 |            21964 |             0 |    0.00 % |                   377 |            1.72 % |\n",
      "| review_ba       | Boolean |            21964 |             0 |    0.00 % |                     1 |            0.00 % |\n",
      "| style_ba        | String  |            21964 |             0 |    0.00 % |                   104 |            0.47 % |\n",
      "| taste_ba        | Float64 |            19295 |          2669 |   12.15 % |                    18 |            0.09 % |\n",
      "| text_ba         | String  |            21964 |             0 |    0.00 % |                 18276 |           83.21 % |\n",
      "| user_id_ba      | String  |            21964 |             0 |    0.00 % |                   879 |            4.00 % |\n",
      "| user_name_ba    | String  |            21964 |             0 |    0.00 % |                   879 |            4.00 % |\n",
      "| abv_rb          | Float64 |            21964 |             0 |    0.00 % |                   187 |            0.85 % |\n",
      "| appearance_rb   | Float64 |            21964 |             0 |    0.00 % |                     5 |            0.02 % |\n",
      "| aroma_rb        | Float64 |            21964 |             0 |    0.00 % |                    10 |            0.05 % |\n",
      "| beer_id_rb      | Int64   |            21964 |             0 |    0.00 % |                  9025 |           41.09 % |\n",
      "| beer_name_rb    | String  |            21964 |             0 |    0.00 % |                  9025 |           41.09 % |\n",
      "| brewery_id_rb   | Int64   |            21964 |             0 |    0.00 % |                  2230 |           10.15 % |\n",
      "| brewery_name_rb | String  |            21964 |             0 |    0.00 % |                  2230 |           10.15 % |\n",
      "| date_rb         | Int64   |            21964 |             0 |    0.00 % |                  4605 |           20.97 % |\n",
      "| overall_rb      | Float64 |            21964 |             0 |    0.00 % |                    20 |            0.09 % |\n",
      "| palate_rb       | Float64 |            21964 |             0 |    0.00 % |                     5 |            0.02 % |\n",
      "| rating_rb       | Float64 |            21964 |             0 |    0.00 % |                    46 |            0.21 % |\n",
      "| style_rb        | String  |            21964 |             0 |    0.00 % |                    79 |            0.36 % |\n",
      "| taste_rb        | Float64 |            21964 |             0 |    0.00 % |                    10 |            0.05 % |\n",
      "| text_rb         | String  |            21964 |             0 |    0.00 % |                 21959 |           99.98 % |\n",
      "| user_id_rb      | Int64   |            21964 |             0 |    0.00 % |                   879 |            4.00 % |\n",
      "| user_name_rb    | String  |            21964 |             0 |    0.00 % |                   879 |            4.00 % |\n",
      "+-----------------+---------+------------------+---------------+-----------+-----------------------+-------------------+\n"
     ]
    }
   ],
   "source": [
    "describe(df_ratings)"
   ]
  },
  {
   "cell_type": "markdown",
   "metadata": {},
   "source": [
    "The dataset has the following structure\n",
    "\n",
    "| Column Name | Description |\n",
    "|-------------|-------------|\n",
    "| `beer_id_ba` / `beer_id_rb` | Unique identifier for the beer in BA/RB |\n",
    "| `beer_name_ba` / `beer_name_rb` | Name of the beer in BA/RB |\n",
    "| `brewery_id_ba` / `brewery_id_rb` | Unique identifier for the brewery in BA/RB |\n",
    "| `brewery_name_ba` / `brewery_name_rb` | Name of the brewery in BA/RB |\n",
    "| `style_ba` / `style_rb` | Beer style in BA/RB |\n",
    "| `abv_ba` / `abv_rb` | Alcohol By Volume percentage in BA/RB |\n",
    "| `user_id_ba` / `user_id_rb` | Unique identifier for the user in BA/RB |\n",
    "| `user_name_ba` / `user_name_rb` | Username of the reviewer in BA/RB |\n",
    "| `date_ba` / `date_rb` | Date of the review in BA/RB |\n",
    "| `rating_ba` / `rating_rb` | Overall rating given by the user in BA/RB |\n",
    "| `overall_ba` / `overall_rb` | Overall score in BA/RB |\n",
    "| `appearance_ba` / `appearance_rb` | Appearance score in BA/RB |\n",
    "| `aroma_ba` / `aroma_rb` | Aroma score in BA/RB |\n",
    "| `palate_ba` / `palate_rb` | Palate score in BA/RB |\n",
    "| `taste_ba` / `taste_rb` | Taste score in BA/RB |\n",
    "| `text_ba` / `text_rb` | Review text in BA/RB |\n",
    "| `review_ba` | Whether or not there is a BA review available |"
   ]
  },
  {
   "cell_type": "code",
   "execution_count": 15,
   "metadata": {},
   "outputs": [
    {
     "name": "stdout",
     "output_type": "stream",
     "text": [
      "+---------------+-------------+-------------+-------------+-------------+-------------+-------------+-------------+\n",
      "| Column        |        Mean |         Std |         25% |         50% |         75% |         Min |         Max |\n",
      "|---------------+-------------+-------------+-------------+-------------+-------------+-------------+-------------|\n",
      "| abv_ba        |     6.80022 |     2.09619 |         5.2 |         6.4 |           8 |         0.5 |          39 |\n",
      "| appearance_ba |     3.78329 |    0.562042 |         3.5 |           4 |           4 |           1 |           5 |\n",
      "| aroma_ba      |     3.70404 |    0.597862 |         3.5 |        3.75 |           4 |           1 |           5 |\n",
      "| date_ba       | 1.34367e+09 | 1.12069e+08 | 1.27098e+09 | 1.36835e+09 | 1.43471e+09 | 9.84136e+08 | 1.50141e+09 |\n",
      "| overall_ba    |     3.73419 |    0.614882 |         3.5 |           4 |           4 |           1 |           5 |\n",
      "| palate_ba     |     3.67871 |    0.618717 |         3.5 |        3.75 |           4 |           1 |           5 |\n",
      "| rating_ba     |     3.71303 |    0.554912 |        3.45 |        3.77 |        4.05 |           1 |           5 |\n",
      "| taste_ba      |     3.71587 |     0.62343 |         3.5 |        3.75 |           4 |           1 |           5 |\n",
      "| abv_rb        |     6.80022 |     2.09619 |         5.2 |         6.4 |           8 |         0.5 |          39 |\n",
      "| appearance_rb |     3.68599 |    0.677436 |           3 |           4 |           4 |           1 |           5 |\n",
      "| aroma_rb      |     6.96034 |     1.35567 |           6 |           7 |           8 |           1 |          10 |\n",
      "| date_rb       | 1.34484e+09 | 1.12501e+08 | 1.27832e+09 |  1.3655e+09 | 1.43436e+09 |  9.6953e+08 | 1.50141e+09 |\n",
      "| overall_rb    |     14.4017 |     2.67751 |          13 |          15 |          16 |           1 |          20 |\n",
      "| palate_rb     |     3.53506 |    0.733544 |           3 |           4 |           4 |           1 |           5 |\n",
      "| rating_rb     |     3.55882 |    0.585348 |         3.3 |         3.6 |           4 |         0.5 |           5 |\n",
      "| taste_rb      |     7.00519 |     1.38469 |           6 |           7 |           8 |           1 |          10 |\n",
      "+---------------+-------------+-------------+-------------+-------------+-------------+-------------+-------------+\n"
     ]
    }
   ],
   "source": [
    "describe_numbers(df_ratings, filters=[\"beer_id_ba\", \"beer_id_rb\", \"brewery_id_ba\", \"brewery_id_rb\", \"user_id_ba\", \"user_id_rb\"])"
   ]
  },
  {
   "cell_type": "markdown",
   "metadata": {},
   "source": [
    "Here we see:\n",
    "\n",
    "1. Alcohol By Volume (ABV)\n",
    "   - The `abv_ba` and `abv_rb` columns are identical again of course.\n",
    "\n",
    "2. Rating Categories on BeerAdvocate (BA)\n",
    "   - `appearance_ba`, `aroma_ba`, `palate_ba`, `taste_ba`, and `overall_ba` ratings on BeerAdvocate have similar means (ranging from 3.68 to 3.78) with a consistent standard deviation of around 0.6.\n",
    "   - The median for each category is close to 4, suggesting that BeerAdvocate users tend to give positive ratings overall, as the maximum for these is 5.\n",
    "   - The overall rating (`rating_ba`) has a mean of 3.71, indicating a generally favorable tendency in ratings across these categories.\n",
    "\n",
    "3. Rating Categories on RateBeer (RB)\n",
    "   - `appearance_rb`, `palate_rb`, and `rating_rb` have means similar to those on BeerAdvocate (3.53 to 3.69), suggesting that for these categories, user ratings are comparable across platforms.\n",
    "   - `aroma_rb` and `taste_rb`, however, have higher maximum scores of 10, with means of 6.96 and 7.01, respectively. This difference likely reflects a different scoring system or metric on RateBeer, which will need to be accounted for in our analysis.\n",
    "   - `overall_rb` shows a much broader scale, with a mean of 14.40 and a maximum of 20, indicating that RateBeer may use a larger rating scale for this category than BeerAdvocate does. Again this will need to be accounted for.\n",
    "\n",
    "4. General Trends\n",
    "   - BeerAdvocate ratings are generally more constrained within a 1-5 range for all categories, while RateBeer uses a broader scale for certain categories (`aroma_rb`, `taste_rb`, and `overall_rb`). This suggests a difference in rating systems that should be considered in cross-platform comparisons.\n",
    "   - Despite these scale differences, the means for comparable categories like `appearance`, `palate`, and `rating` are fairly aligned between platforms, implying similar user perceptions on these aspects of beer.\n",
    "\n",
    "Finally we'll convert the date into a datetime object.\n"
   ]
  },
  {
   "cell_type": "code",
   "execution_count": 16,
   "metadata": {},
   "outputs": [
    {
     "data": {
      "text/html": [
       "<div><style>\n",
       ".dataframe > thead > tr,\n",
       ".dataframe > tbody > tr {\n",
       "  text-align: right;\n",
       "  white-space: pre-wrap;\n",
       "}\n",
       "</style>\n",
       "<small>shape: (5, 33)</small><table border=\"1\" class=\"dataframe\"><thead><tr><th>abv_ba</th><th>appearance_ba</th><th>aroma_ba</th><th>beer_id_ba</th><th>beer_name_ba</th><th>brewery_id_ba</th><th>brewery_name_ba</th><th>date_ba</th><th>overall_ba</th><th>palate_ba</th><th>rating_ba</th><th>review_ba</th><th>style_ba</th><th>taste_ba</th><th>text_ba</th><th>user_id_ba</th><th>user_name_ba</th><th>abv_rb</th><th>appearance_rb</th><th>aroma_rb</th><th>beer_id_rb</th><th>beer_name_rb</th><th>brewery_id_rb</th><th>brewery_name_rb</th><th>date_rb</th><th>overall_rb</th><th>palate_rb</th><th>rating_rb</th><th>style_rb</th><th>taste_rb</th><th>text_rb</th><th>user_id_rb</th><th>user_name_rb</th></tr><tr><td>f64</td><td>f64</td><td>f64</td><td>i64</td><td>str</td><td>i64</td><td>str</td><td>datetime[ms]</td><td>f64</td><td>f64</td><td>f64</td><td>bool</td><td>str</td><td>f64</td><td>str</td><td>str</td><td>str</td><td>f64</td><td>f64</td><td>f64</td><td>i64</td><td>str</td><td>i64</td><td>str</td><td>datetime[ms]</td><td>f64</td><td>f64</td><td>f64</td><td>str</td><td>f64</td><td>str</td><td>i64</td><td>str</td></tr></thead><tbody><tr><td>4.5</td><td>4.0</td><td>3.5</td><td>80811</td><td>&quot;Terrapin Easy Rider&quot;</td><td>2372</td><td>&quot;Terrapin Beer Company&quot;</td><td>2012-07-21 10:00:00</td><td>3.5</td><td>3.0</td><td>3.68</td><td>true</td><td>&quot;American Pale Ale (APA)&quot;</td><td>4.0</td><td>&quot;12 oz bottle into a pint glass…</td><td>&quot;rangerred.112838&quot;</td><td>&quot;rangerred&quot;</td><td>4.5</td><td>5.0</td><td>6.0</td><td>172124</td><td>&quot;Terrapin Easy Rider&quot;</td><td>2851</td><td>&quot;Terrapin Beer Company&quot;</td><td>2012-07-21 10:00:00</td><td>17.0</td><td>2.0</td><td>3.8</td><td>&quot;Amber Ale&quot;</td><td>8.0</td><td>&quot;12 oz bottle into a pint glass…</td><td>137945</td><td>&quot;rangerred&quot;</td></tr><tr><td>5.0</td><td>3.75</td><td>3.25</td><td>87019</td><td>&quot;Preservation Ale&quot;</td><td>812</td><td>&quot;Marin Brewing Company&quot;</td><td>2013-07-05 10:00:00</td><td>3.25</td><td>3.75</td><td>3.43</td><td>true</td><td>&quot;American Pale Ale (APA)&quot;</td><td>3.5</td><td>&quot;Pours pale gold and mildly haz…</td><td>&quot;popery.196587&quot;</td><td>&quot;popery&quot;</td><td>5.0</td><td>4.0</td><td>5.0</td><td>176350</td><td>&quot;Marin Preservation Ale&quot;</td><td>222</td><td>&quot;Marin Brewing Company&quot;</td><td>2013-07-07 10:00:00</td><td>11.0</td><td>4.0</td><td>3.0</td><td>&quot;American Pale Ale&quot;</td><td>6.0</td><td>&quot;Pours pale gold and mildly haz…</td><td>69847</td><td>&quot;popery&quot;</td></tr><tr><td>7.5</td><td>4.0</td><td>4.0</td><td>238194</td><td>&quot;Prairie Ace&quot;</td><td>30356</td><td>&quot;Prairie Artisan Ales&quot;</td><td>2016-09-18 10:00:00</td><td>4.0</td><td>4.0</td><td>4.0</td><td>true</td><td>&quot;Saison / Farmhouse Ale&quot;</td><td>4.0</td><td>&quot;500 ml bottle into tulip glass…</td><td>&quot;superspak.456300&quot;</td><td>&quot;superspak&quot;</td><td>7.5</td><td>4.0</td><td>8.0</td><td>443132</td><td>&quot;Prairie Ace&quot;</td><td>15476</td><td>&quot;Prairie Artisan Ales&quot;</td><td>2016-09-12 10:00:00</td><td>16.0</td><td>4.0</td><td>4.0</td><td>&quot;Saison&quot;</td><td>8.0</td><td>&quot;500 ml bottle into tulip glass…</td><td>105791</td><td>&quot;superspak&quot;</td></tr><tr><td>6.1</td><td>3.5</td><td>3.5</td><td>61889</td><td>&quot;Zepptemberfest&quot;</td><td>2455</td><td>&quot;French Broad Brewing Co.&quot;</td><td>2011-03-10 11:00:00</td><td>4.0</td><td>3.5</td><td>3.4</td><td>true</td><td>&quot;Märzen / Oktoberfest&quot;</td><td>3.0</td><td>&quot;Appearance: Dispensed from the…</td><td>&quot;chaingangguy.8942&quot;</td><td>&quot;ChainGangGuy&quot;</td><td>6.1</td><td>3.0</td><td>7.0</td><td>110459</td><td>&quot;French Broad Zepptemberfest&quot;</td><td>2879</td><td>&quot;French Broad Brewing&quot;</td><td>2011-03-10 11:00:00</td><td>14.0</td><td>4.0</td><td>3.4</td><td>&quot;Oktoberfest/Märzen&quot;</td><td>6.0</td><td>&quot;Appearance: Dispensed from the…</td><td>32031</td><td>&quot;ChainGangGuy&quot;</td></tr><tr><td>4.7</td><td>4.0</td><td>4.0</td><td>52096</td><td>&quot;Black Duck Porter&quot;</td><td>20766</td><td>&quot;Greenport Harbor Brewing Compa…</td><td>2012-08-19 10:00:00</td><td>3.5</td><td>3.5</td><td>3.65</td><td>true</td><td>&quot;English Porter&quot;</td><td>3.5</td><td>&quot;On cask at Barcade in Brooklyn…</td><td>&quot;huhzubendah.168653&quot;</td><td>&quot;Huhzubendah&quot;</td><td>4.7</td><td>4.0</td><td>7.0</td><td>109038</td><td>&quot;Greenport Harbor Black Duck Po…</td><td>10720</td><td>&quot;Greenport Harbor Brewing Co.&quot;</td><td>2012-08-19 10:00:00</td><td>13.0</td><td>3.0</td><td>3.3</td><td>&quot;Porter&quot;</td><td>6.0</td><td>&quot;On cask at Barcade in Brooklyn…</td><td>96987</td><td>&quot;Huhzubendah&quot;</td></tr></tbody></table></div>"
      ],
      "text/plain": [
       "shape: (5, 33)\n",
       "┌────────┬────────────┬──────────┬────────────┬───┬──────────┬────────────┬────────────┬───────────┐\n",
       "│ abv_ba ┆ appearance ┆ aroma_ba ┆ beer_id_ba ┆ … ┆ taste_rb ┆ text_rb    ┆ user_id_rb ┆ user_name │\n",
       "│ ---    ┆ _ba        ┆ ---      ┆ ---        ┆   ┆ ---      ┆ ---        ┆ ---        ┆ _rb       │\n",
       "│ f64    ┆ ---        ┆ f64      ┆ i64        ┆   ┆ f64      ┆ str        ┆ i64        ┆ ---       │\n",
       "│        ┆ f64        ┆          ┆            ┆   ┆          ┆            ┆            ┆ str       │\n",
       "╞════════╪════════════╪══════════╪════════════╪═══╪══════════╪════════════╪════════════╪═══════════╡\n",
       "│ 4.5    ┆ 4.0        ┆ 3.5      ┆ 80811      ┆ … ┆ 8.0      ┆ 12 oz      ┆ 137945     ┆ rangerred │\n",
       "│        ┆            ┆          ┆            ┆   ┆          ┆ bottle     ┆            ┆           │\n",
       "│        ┆            ┆          ┆            ┆   ┆          ┆ into a     ┆            ┆           │\n",
       "│        ┆            ┆          ┆            ┆   ┆          ┆ pint       ┆            ┆           │\n",
       "│        ┆            ┆          ┆            ┆   ┆          ┆ glass…     ┆            ┆           │\n",
       "│ 5.0    ┆ 3.75       ┆ 3.25     ┆ 87019      ┆ … ┆ 6.0      ┆ Pours pale ┆ 69847      ┆ popery    │\n",
       "│        ┆            ┆          ┆            ┆   ┆          ┆ gold and   ┆            ┆           │\n",
       "│        ┆            ┆          ┆            ┆   ┆          ┆ mildly     ┆            ┆           │\n",
       "│        ┆            ┆          ┆            ┆   ┆          ┆ haz…       ┆            ┆           │\n",
       "│ 7.5    ┆ 4.0        ┆ 4.0      ┆ 238194     ┆ … ┆ 8.0      ┆ 500 ml     ┆ 105791     ┆ superspak │\n",
       "│        ┆            ┆          ┆            ┆   ┆          ┆ bottle     ┆            ┆           │\n",
       "│        ┆            ┆          ┆            ┆   ┆          ┆ into tulip ┆            ┆           │\n",
       "│        ┆            ┆          ┆            ┆   ┆          ┆ glass…     ┆            ┆           │\n",
       "│ 6.1    ┆ 3.5        ┆ 3.5      ┆ 61889      ┆ … ┆ 6.0      ┆ Appearance ┆ 32031      ┆ ChainGang │\n",
       "│        ┆            ┆          ┆            ┆   ┆          ┆ :          ┆            ┆ Guy       │\n",
       "│        ┆            ┆          ┆            ┆   ┆          ┆ Dispensed  ┆            ┆           │\n",
       "│        ┆            ┆          ┆            ┆   ┆          ┆ from the…  ┆            ┆           │\n",
       "│ 4.7    ┆ 4.0        ┆ 4.0      ┆ 52096      ┆ … ┆ 6.0      ┆ On cask at ┆ 96987      ┆ Huhzubend │\n",
       "│        ┆            ┆          ┆            ┆   ┆          ┆ Barcade in ┆            ┆ ah        │\n",
       "│        ┆            ┆          ┆            ┆   ┆          ┆ Brooklyn…  ┆            ┆           │\n",
       "└────────┴────────────┴──────────┴────────────┴───┴──────────┴────────────┴────────────┴───────────┘"
      ]
     },
     "execution_count": 16,
     "metadata": {},
     "output_type": "execute_result"
    }
   ],
   "source": [
    "df_ratings = df_ratings.with_columns((pl.col(\"date_ba\").cast(pl.Int64) * 1000).cast(pl.Datetime(\"ms\")))\n",
    "df_ratings = df_ratings.with_columns((pl.col(\"date_rb\").cast(pl.Int64) * 1000).cast(pl.Datetime(\"ms\")))\n",
    "\n",
    "df_ratings.sample(5)"
   ]
  },
  {
   "cell_type": "markdown",
   "metadata": {},
   "source": [
    "## Processing and saving the cleaned data\n",
    "Here we'll sync the data of the matched beer dataset with the one of the RateBeer and BeerAdvocate. This is needed because we've removed some data from the BeerAdvocate and RateBeer datasets during the data cleaning process and we need to ensure that the matched beer dataset is in sync with the other two datasets.\n",
    "##### Preliminary"
   ]
  },
  {
   "cell_type": "code",
   "execution_count": 17,
   "metadata": {},
   "outputs": [],
   "source": [
    "BEERADVOCATE_PATH = '../../../data/BeerAdvocate/processed'\n",
    "RATEBEER_PATH = '../../../data/RateBeer/processed'\n"
   ]
  },
  {
   "cell_type": "markdown",
   "metadata": {},
   "source": [
    "##### Users dataset"
   ]
  },
  {
   "cell_type": "code",
   "execution_count": 18,
   "metadata": {},
   "outputs": [
    {
     "name": "stdout",
     "output_type": "stream",
     "text": [
      "Data before cleaning 3341\n",
      "Data after cleaning 3341\n",
      "Percentage of data lost: 0.0%\n"
     ]
    }
   ],
   "source": [
    "df_filtered_users = df_users.select([\"user_id_ba\", \"user_id_rb\", \"sim_scores\"])\n",
    "print(\"Data before cleaning\", df_filtered_users.shape[0])\n",
    "\n",
    "# BeerAdvocate\n",
    "df_users_ba = pl.read_parquet(BEERADVOCATE_PATH + \"/users.pq\")\n",
    "df_users_ba = df_users_ba.rename({col: f\"{col}_ba\" for col in df_users_ba.columns})\n",
    "df_filtered_users = df_filtered_users.join(df_users_ba, on=\"user_id_ba\", how=\"inner\")\n",
    "del df_users_ba\n",
    "\n",
    "# RateBeer\n",
    "df_users_rb = pl.read_parquet(RATEBEER_PATH + \"/users.pq\")\n",
    "df_users_rb = df_users_rb.rename({col: f\"{col}_rb\" for col in df_users_rb.columns})\n",
    "df_filtered_users = df_filtered_users.join(df_users_rb, on=\"user_id_rb\", how=\"inner\")\n",
    "del df_users_rb\n",
    "\n",
    "print(\"Data after cleaning\", df_filtered_users.shape[0])\n",
    "print(f\"Percentage of data lost: {100 - (df_filtered_users.shape[0] / df_users.shape[0] * 100)}%\")\n",
    "\n",
    "# Save the data\n",
    "df_filtered_users.write_parquet(DST_DATA_PATH + \"/users.pq\")"
   ]
  },
  {
   "cell_type": "code",
   "execution_count": 19,
   "metadata": {},
   "outputs": [
    {
     "data": {
      "text/html": [
       "<div><style>\n",
       ".dataframe > thead > tr,\n",
       ".dataframe > tbody > tr {\n",
       "  text-align: right;\n",
       "  white-space: pre-wrap;\n",
       "}\n",
       "</style>\n",
       "<small>shape: (5, 15)</small><table border=\"1\" class=\"dataframe\"><thead><tr><th>user_id_ba</th><th>user_id_rb</th><th>sim_scores</th><th>user_name_ba</th><th>joined_ba</th><th>location_ba</th><th>nbr_ratings_ba</th><th>nbr_reviews_ba</th><th>nbr_interactions_ba</th><th>user_name_rb</th><th>joined_rb</th><th>location_rb</th><th>nbr_ratings_rb</th><th>nbr_reviews_rb</th><th>nbr_interactions_rb</th></tr><tr><td>str</td><td>i64</td><td>f64</td><td>str</td><td>datetime[ms]</td><td>str</td><td>i64</td><td>i64</td><td>i64</td><td>str</td><td>datetime[ms]</td><td>str</td><td>i32</td><td>i32</td><td>i32</td></tr></thead><tbody><tr><td>&quot;mcnealc31.335631&quot;</td><td>119458</td><td>1.0</td><td>&quot;McNealc31&quot;</td><td>2009-05-31 10:00:00</td><td>&quot;United States, Ohio&quot;</td><td>243</td><td>7</td><td>250</td><td>&quot;mcnealc31&quot;</td><td>2010-12-20 11:00:00</td><td>&quot;United States, Ohio&quot;</td><td>211</td><td>211</td><td>211</td></tr><tr><td>&quot;holybrew.185690&quot;</td><td>50421</td><td>1.0</td><td>&quot;holybrew&quot;</td><td>2008-01-10 11:00:00</td><td>&quot;India&quot;</td><td>2</td><td>null</td><td>2</td><td>&quot;holybrew&quot;</td><td>2007-02-25 11:00:00</td><td>&quot;India&quot;</td><td>14</td><td>14</td><td>14</td></tr><tr><td>&quot;doob.1172376&quot;</td><td>73490</td><td>1.0</td><td>&quot;Doob&quot;</td><td>2016-09-05 10:00:00</td><td>&quot;England&quot;</td><td>1</td><td>null</td><td>1</td><td>&quot;Doob&quot;</td><td>2008-04-15 10:00:00</td><td>&quot;England&quot;</td><td>1</td><td>1</td><td>1</td></tr><tr><td>&quot;metalgdog.540033&quot;</td><td>127030</td><td>1.0</td><td>&quot;metalgdog&quot;</td><td>2010-12-17 11:00:00</td><td>&quot;United States, New York&quot;</td><td>9</td><td>408</td><td>417</td><td>&quot;metalgdog&quot;</td><td>2011-04-16 10:00:00</td><td>&quot;United States, New York&quot;</td><td>1</td><td>1</td><td>1</td></tr><tr><td>&quot;deekyn.643035&quot;</td><td>137131</td><td>1.0</td><td>&quot;deekyn&quot;</td><td>2011-12-20 11:00:00</td><td>&quot;United States, California&quot;</td><td>null</td><td>219</td><td>219</td><td>&quot;deekyn&quot;</td><td>2011-10-05 10:00:00</td><td>&quot;United States, California&quot;</td><td>1135</td><td>1135</td><td>1135</td></tr></tbody></table></div>"
      ],
      "text/plain": [
       "shape: (5, 15)\n",
       "┌───────────┬───────────┬───────────┬───────────┬───┬───────────┬───────────┬───────────┬──────────┐\n",
       "│ user_id_b ┆ user_id_r ┆ sim_score ┆ user_name ┆ … ┆ location_ ┆ nbr_ratin ┆ nbr_revie ┆ nbr_inte │\n",
       "│ a         ┆ b         ┆ s         ┆ _ba       ┆   ┆ rb        ┆ gs_rb     ┆ ws_rb     ┆ ractions │\n",
       "│ ---       ┆ ---       ┆ ---       ┆ ---       ┆   ┆ ---       ┆ ---       ┆ ---       ┆ _rb      │\n",
       "│ str       ┆ i64       ┆ f64       ┆ str       ┆   ┆ str       ┆ i32       ┆ i32       ┆ ---      │\n",
       "│           ┆           ┆           ┆           ┆   ┆           ┆           ┆           ┆ i32      │\n",
       "╞═══════════╪═══════════╪═══════════╪═══════════╪═══╪═══════════╪═══════════╪═══════════╪══════════╡\n",
       "│ mcnealc31 ┆ 119458    ┆ 1.0       ┆ McNealc31 ┆ … ┆ United    ┆ 211       ┆ 211       ┆ 211      │\n",
       "│ .335631   ┆           ┆           ┆           ┆   ┆ States,   ┆           ┆           ┆          │\n",
       "│           ┆           ┆           ┆           ┆   ┆ Ohio      ┆           ┆           ┆          │\n",
       "│ holybrew. ┆ 50421     ┆ 1.0       ┆ holybrew  ┆ … ┆ India     ┆ 14        ┆ 14        ┆ 14       │\n",
       "│ 185690    ┆           ┆           ┆           ┆   ┆           ┆           ┆           ┆          │\n",
       "│ doob.1172 ┆ 73490     ┆ 1.0       ┆ Doob      ┆ … ┆ England   ┆ 1         ┆ 1         ┆ 1        │\n",
       "│ 376       ┆           ┆           ┆           ┆   ┆           ┆           ┆           ┆          │\n",
       "│ metalgdog ┆ 127030    ┆ 1.0       ┆ metalgdog ┆ … ┆ United    ┆ 1         ┆ 1         ┆ 1        │\n",
       "│ .540033   ┆           ┆           ┆           ┆   ┆ States,   ┆           ┆           ┆          │\n",
       "│           ┆           ┆           ┆           ┆   ┆ New York  ┆           ┆           ┆          │\n",
       "│ deekyn.64 ┆ 137131    ┆ 1.0       ┆ deekyn    ┆ … ┆ United    ┆ 1135      ┆ 1135      ┆ 1135     │\n",
       "│ 3035      ┆           ┆           ┆           ┆   ┆ States,   ┆           ┆           ┆          │\n",
       "│           ┆           ┆           ┆           ┆   ┆ Californi ┆           ┆           ┆          │\n",
       "│           ┆           ┆           ┆           ┆   ┆ a         ┆           ┆           ┆          │\n",
       "└───────────┴───────────┴───────────┴───────────┴───┴───────────┴───────────┴───────────┴──────────┘"
      ]
     },
     "execution_count": 19,
     "metadata": {},
     "output_type": "execute_result"
    }
   ],
   "source": [
    "df_filtered_users.sample(5)"
   ]
  },
  {
   "cell_type": "markdown",
   "metadata": {},
   "source": [
    "##### Beers dataset"
   ]
  },
  {
   "cell_type": "code",
   "execution_count": 20,
   "metadata": {},
   "outputs": [
    {
     "name": "stdout",
     "output_type": "stream",
     "text": [
      "Data before cleaning 45640\n",
      "Data after cleaning 45636\n",
      "Percentage of data lost: 0.01%\n"
     ]
    }
   ],
   "source": [
    "df_filtered_beers = df_beers.select([\"beer_id_ba\", \"beer_id_rb\", \"diff_scores\", \"sim_scores\"])\n",
    "print(\"Data before cleaning\", df_filtered_beers.shape[0])\n",
    "\n",
    "# BeerAdvocate\n",
    "df_beers_ba = pl.read_parquet(BEERADVOCATE_PATH + \"/beers.pq\")\n",
    "df_beers_ba = df_beers_ba.rename({col: f\"{col}_ba\" for col in df_beers_ba.columns})\n",
    "df_filtered_beers = df_filtered_beers.join(df_beers_ba, on=\"beer_id_ba\", how=\"inner\")\n",
    "\n",
    "# RateBeer\n",
    "df_beers_rb = pl.read_parquet(RATEBEER_PATH + \"/beers.pq\")\n",
    "df_beers_rb = df_beers_rb.rename({col: f\"{col}_rb\" for col in df_beers_rb.columns})\n",
    "df_filtered_beers = df_filtered_beers.join(df_beers_rb, on=\"beer_id_rb\", how=\"inner\")\n",
    "\n",
    "print(\"Data after cleaning\", df_filtered_beers.shape[0])\n",
    "print(f\"Percentage of data lost: {(1 - df_filtered_beers.shape[0] / df_beers.shape[0]) * 100:.2f}%\")\n",
    "\n",
    "# Save the data\n",
    "df_filtered_beers.write_parquet(DST_DATA_PATH + \"/beers.pq\")"
   ]
  },
  {
   "cell_type": "code",
   "execution_count": 21,
   "metadata": {},
   "outputs": [
    {
     "data": {
      "text/html": [
       "<div><style>\n",
       ".dataframe > thead > tr,\n",
       ".dataframe > tbody > tr {\n",
       "  text-align: right;\n",
       "  white-space: pre-wrap;\n",
       "}\n",
       "</style>\n",
       "<small>shape: (5, 26)</small><table border=\"1\" class=\"dataframe\"><thead><tr><th>beer_id_ba</th><th>beer_id_rb</th><th>diff_scores</th><th>sim_scores</th><th>beer_name_ba</th><th>brewery_id_ba</th><th>brewery_name_ba</th><th>style_ba</th><th>abv_ba</th><th>rating_score_avg_ba</th><th>rating_score_std_ba</th><th>rating_score_median_ba</th><th>nbr_interactions_ba</th><th>nbr_ratings_ba</th><th>nbr_reviews_ba</th><th>beer_name_rb</th><th>brewery_id_rb</th><th>brewery_name_rb</th><th>style_rb</th><th>abv_rb</th><th>rating_score_avg_rb</th><th>rating_score_std_rb</th><th>rating_score_median_rb</th><th>nbr_interactions_rb</th><th>nbr_ratings_rb</th><th>nbr_reviews_rb</th></tr><tr><td>i64</td><td>i64</td><td>f64</td><td>f64</td><td>str</td><td>i64</td><td>str</td><td>str</td><td>f64</td><td>f64</td><td>f64</td><td>f64</td><td>i64</td><td>i64</td><td>i64</td><td>str</td><td>i64</td><td>str</td><td>str</td><td>f64</td><td>f64</td><td>f64</td><td>f64</td><td>i64</td><td>i64</td><td>i64</td></tr></thead><tbody><tr><td>118056</td><td>258812</td><td>1.0</td><td>1.0</td><td>&quot;Cameo&quot;</td><td>24075</td><td>&quot;Funkwerks&quot;</td><td>&quot;Saison / Farmhouse Ale&quot;</td><td>5.5</td><td>3.785</td><td>0.473377</td><td>3.875</td><td>8</td><td>6</td><td>2</td><td>&quot;Funkwerks Cameo&quot;</td><td>12024</td><td>&quot;Funkwerks&quot;</td><td>&quot;Saison&quot;</td><td>5.5</td><td>3.371429</td><td>0.281154</td><td>3.4</td><td>7</td><td>7</td><td>7</td></tr><tr><td>88753</td><td>25982</td><td>0.69937</td><td>1.0</td><td>&quot;Krönes Eifeler Landbier&quot;</td><td>30621</td><td>&quot;Gemünder Brauerei&quot;</td><td>&quot;Kellerbier / Zwickelbier&quot;</td><td>5.1</td><td>3.559091</td><td>0.5622</td><td>3.46</td><td>11</td><td>5</td><td>6</td><td>&quot;Krönes Eifeler Landbier&quot;</td><td>3902</td><td>&quot;Gemünder Brauerei&quot;</td><td>&quot;Zwickel/Keller/Landbier&quot;</td><td>5.1</td><td>3.035052</td><td>0.367152</td><td>3.0</td><td>97</td><td>97</td><td>97</td></tr><tr><td>122583</td><td>268000</td><td>1.0</td><td>1.0</td><td>&quot;Serpent Bite&quot;</td><td>34960</td><td>&quot;Orpheus Brewing&quot;</td><td>&quot;Saison / Farmhouse Ale&quot;</td><td>6.5</td><td>3.930108</td><td>0.537151</td><td>4.0</td><td>93</td><td>73</td><td>20</td><td>&quot;Orpheus Serpent Bite&quot;</td><td>19782</td><td>&quot;Orpheus Brewing&quot;</td><td>&quot;Sour/Wild Ale&quot;</td><td>6.5</td><td>3.712121</td><td>0.357734</td><td>3.8</td><td>33</td><td>33</td><td>33</td></tr><tr><td>247157</td><td>446460</td><td>1.0</td><td>1.0</td><td>&quot;Tart Sunshine&quot;</td><td>32656</td><td>&quot;Arizona Wilderness Brewing Co.&quot;</td><td>&quot;American Wild Ale&quot;</td><td>4.0</td><td>4.065769</td><td>0.195431</td><td>4.0</td><td>26</td><td>23</td><td>3</td><td>&quot;Arizona Wilderness Tart Sunshi…</td><td>17445</td><td>&quot;Arizona Wilderness Brewing Com…</td><td>&quot;Sour/Wild Ale&quot;</td><td>4.0</td><td>3.76129</td><td>0.231916</td><td>3.8</td><td>31</td><td>31</td><td>31</td></tr><tr><td>40664</td><td>83368</td><td>1.0</td><td>1.0</td><td>&quot;Winterbok&quot;</td><td>16787</td><td>&quot;Bronckhorster Brewing Company&quot;</td><td>&quot;Belgian Strong Dark Ale&quot;</td><td>7.0</td><td>3.33</td><td>null</td><td>3.33</td><td>1</td><td>0</td><td>1</td><td>&quot;Bronckhorster Winterbok&quot;</td><td>10949</td><td>&quot;Bronckhorster Brewing Company&quot;</td><td>&quot;Doppelbock&quot;</td><td>7.0</td><td>3.3</td><td>null</td><td>3.3</td><td>1</td><td>1</td><td>1</td></tr></tbody></table></div>"
      ],
      "text/plain": [
       "shape: (5, 26)\n",
       "┌───────────┬───────────┬───────────┬───────────┬───┬───────────┬───────────┬───────────┬──────────┐\n",
       "│ beer_id_b ┆ beer_id_r ┆ diff_scor ┆ sim_score ┆ … ┆ rating_sc ┆ nbr_inter ┆ nbr_ratin ┆ nbr_revi │\n",
       "│ a         ┆ b         ┆ es        ┆ s         ┆   ┆ ore_media ┆ actions_r ┆ gs_rb     ┆ ews_rb   │\n",
       "│ ---       ┆ ---       ┆ ---       ┆ ---       ┆   ┆ n_rb      ┆ b         ┆ ---       ┆ ---      │\n",
       "│ i64       ┆ i64       ┆ f64       ┆ f64       ┆   ┆ ---       ┆ ---       ┆ i64       ┆ i64      │\n",
       "│           ┆           ┆           ┆           ┆   ┆ f64       ┆ i64       ┆           ┆          │\n",
       "╞═══════════╪═══════════╪═══════════╪═══════════╪═══╪═══════════╪═══════════╪═══════════╪══════════╡\n",
       "│ 118056    ┆ 258812    ┆ 1.0       ┆ 1.0       ┆ … ┆ 3.4       ┆ 7         ┆ 7         ┆ 7        │\n",
       "│ 88753     ┆ 25982     ┆ 0.69937   ┆ 1.0       ┆ … ┆ 3.0       ┆ 97        ┆ 97        ┆ 97       │\n",
       "│ 122583    ┆ 268000    ┆ 1.0       ┆ 1.0       ┆ … ┆ 3.8       ┆ 33        ┆ 33        ┆ 33       │\n",
       "│ 247157    ┆ 446460    ┆ 1.0       ┆ 1.0       ┆ … ┆ 3.8       ┆ 31        ┆ 31        ┆ 31       │\n",
       "│ 40664     ┆ 83368     ┆ 1.0       ┆ 1.0       ┆ … ┆ 3.3       ┆ 1         ┆ 1         ┆ 1        │\n",
       "└───────────┴───────────┴───────────┴───────────┴───┴───────────┴───────────┴───────────┴──────────┘"
      ]
     },
     "execution_count": 21,
     "metadata": {},
     "output_type": "execute_result"
    }
   ],
   "source": [
    "df_filtered_beers.sample(5)"
   ]
  },
  {
   "cell_type": "markdown",
   "metadata": {},
   "source": [
    "##### Breweries dataset"
   ]
  },
  {
   "cell_type": "code",
   "execution_count": 22,
   "metadata": {},
   "outputs": [
    {
     "name": "stdout",
     "output_type": "stream",
     "text": [
      "Data before cleaning 8281\n",
      "Data after cleaning 7428\n",
      "Percentage of data lost: 10.30%\n"
     ]
    }
   ],
   "source": [
    "df_filtered_breweries = df_breweries.select([\"id_ba\", \"id_rb\", \"diff_scores\", \"sim_scores\"])\n",
    "print(\"Data before cleaning\", df_filtered_breweries.shape[0])\n",
    "\n",
    "# BeerAdvocate\n",
    "df_breweries_ba = pl.read_parquet(BEERADVOCATE_PATH + \"/breweries.pq\")\n",
    "df_breweries_ba = df_breweries_ba.rename({col: f\"{col}_ba\" for col in df_breweries_ba.columns})\n",
    "df_filtered_breweries = df_filtered_breweries.join(df_breweries_ba, on=\"id_ba\", how=\"inner\")\n",
    "\n",
    "# RateBeer\n",
    "df_breweries_rb = pl.read_parquet(RATEBEER_PATH + \"/breweries.pq\")\n",
    "df_breweries_rb = df_breweries_rb.rename({col: f\"{col}_rb\" for col in df_breweries_rb.columns})\n",
    "df_filtered_breweries = df_filtered_breweries.join(df_breweries_rb, on=\"id_rb\", how=\"inner\")\n",
    "\n",
    "print(\"Data after cleaning\", df_filtered_breweries.shape[0])\n",
    "print(f\"Percentage of data lost: {(1 - df_filtered_breweries.shape[0] / df_breweries.shape[0]) * 100:.2f}%\")\n",
    "\n",
    "# Save the data\n",
    "df_filtered_breweries.write_parquet(DST_DATA_PATH + \"/breweries.pq\")"
   ]
  },
  {
   "cell_type": "code",
   "execution_count": 23,
   "metadata": {},
   "outputs": [
    {
     "data": {
      "text/html": [
       "<div><style>\n",
       ".dataframe > thead > tr,\n",
       ".dataframe > tbody > tr {\n",
       "  text-align: right;\n",
       "  white-space: pre-wrap;\n",
       "}\n",
       "</style>\n",
       "<small>shape: (5, 10)</small><table border=\"1\" class=\"dataframe\"><thead><tr><th>id_ba</th><th>id_rb</th><th>diff_scores</th><th>sim_scores</th><th>location_ba</th><th>name_ba</th><th>beers_count_ba</th><th>location_rb</th><th>name_rb</th><th>beers_count_rb</th></tr><tr><td>i64</td><td>i64</td><td>f64</td><td>f64</td><td>str</td><td>str</td><td>i64</td><td>str</td><td>str</td><td>i32</td></tr></thead><tbody><tr><td>41074</td><td>22687</td><td>0.342566</td><td>1.0</td><td>&quot;Australia&quot;</td><td>&quot;Pirate Life Brewing&quot;</td><td>10</td><td>&quot;Australia&quot;</td><td>&quot;Pirate Life Brewing&quot;</td><td>18</td></tr><tr><td>20914</td><td>1342</td><td>0.845173</td><td>0.845173</td><td>&quot;Lithuania&quot;</td><td>&quot;Volfas Engelman&quot;</td><td>37</td><td>&quot;Lithuania&quot;</td><td>&quot;Volfas Engelman (Olvi)&quot;</td><td>94</td></tr><tr><td>40399</td><td>16413</td><td>1.0</td><td>1.0</td><td>&quot;Spain&quot;</td><td>&quot;Gothia Launia&quot;</td><td>1</td><td>&quot;Spain&quot;</td><td>&quot;Gothia Launia&quot;</td><td>3</td></tr><tr><td>41596</td><td>29499</td><td>0.770562</td><td>1.0</td><td>&quot;United States, Pennsylvania&quot;</td><td>&quot;Helicon Brewing&quot;</td><td>13</td><td>&quot;United States, Pennsylvania&quot;</td><td>&quot;Helicon Brewing&quot;</td><td>23</td></tr><tr><td>37557</td><td>19205</td><td>0.69256</td><td>1.0</td><td>&quot;Switzerland&quot;</td><td>&quot;La Nébuleuse&quot;</td><td>5</td><td>&quot;Switzerland&quot;</td><td>&quot;La Nébuleuse&quot;</td><td>29</td></tr></tbody></table></div>"
      ],
      "text/plain": [
       "shape: (5, 10)\n",
       "┌───────┬───────┬─────────────┬────────────┬───┬────────────┬────────────┬────────────┬────────────┐\n",
       "│ id_ba ┆ id_rb ┆ diff_scores ┆ sim_scores ┆ … ┆ beers_coun ┆ location_r ┆ name_rb    ┆ beers_coun │\n",
       "│ ---   ┆ ---   ┆ ---         ┆ ---        ┆   ┆ t_ba       ┆ b          ┆ ---        ┆ t_rb       │\n",
       "│ i64   ┆ i64   ┆ f64         ┆ f64        ┆   ┆ ---        ┆ ---        ┆ str        ┆ ---        │\n",
       "│       ┆       ┆             ┆            ┆   ┆ i64        ┆ str        ┆            ┆ i32        │\n",
       "╞═══════╪═══════╪═════════════╪════════════╪═══╪════════════╪════════════╪════════════╪════════════╡\n",
       "│ 41074 ┆ 22687 ┆ 0.342566    ┆ 1.0        ┆ … ┆ 10         ┆ Australia  ┆ Pirate     ┆ 18         │\n",
       "│       ┆       ┆             ┆            ┆   ┆            ┆            ┆ Life       ┆            │\n",
       "│       ┆       ┆             ┆            ┆   ┆            ┆            ┆ Brewing    ┆            │\n",
       "│ 20914 ┆ 1342  ┆ 0.845173    ┆ 0.845173   ┆ … ┆ 37         ┆ Lithuania  ┆ Volfas     ┆ 94         │\n",
       "│       ┆       ┆             ┆            ┆   ┆            ┆            ┆ Engelman   ┆            │\n",
       "│       ┆       ┆             ┆            ┆   ┆            ┆            ┆ (Olvi)     ┆            │\n",
       "│ 40399 ┆ 16413 ┆ 1.0         ┆ 1.0        ┆ … ┆ 1          ┆ Spain      ┆ Gothia     ┆ 3          │\n",
       "│       ┆       ┆             ┆            ┆   ┆            ┆            ┆ Launia     ┆            │\n",
       "│ 41596 ┆ 29499 ┆ 0.770562    ┆ 1.0        ┆ … ┆ 13         ┆ United     ┆ Helicon    ┆ 23         │\n",
       "│       ┆       ┆             ┆            ┆   ┆            ┆ States,    ┆ Brewing    ┆            │\n",
       "│       ┆       ┆             ┆            ┆   ┆            ┆ Pennsylvan ┆            ┆            │\n",
       "│       ┆       ┆             ┆            ┆   ┆            ┆ ia         ┆            ┆            │\n",
       "│ 37557 ┆ 19205 ┆ 0.69256     ┆ 1.0        ┆ … ┆ 5          ┆ Switzerlan ┆ La         ┆ 29         │\n",
       "│       ┆       ┆             ┆            ┆   ┆            ┆ d          ┆ Nébuleuse  ┆            │\n",
       "└───────┴───────┴─────────────┴────────────┴───┴────────────┴────────────┴────────────┴────────────┘"
      ]
     },
     "execution_count": 23,
     "metadata": {},
     "output_type": "execute_result"
    }
   ],
   "source": [
    "df_filtered_breweries.sample(5)"
   ]
  },
  {
   "cell_type": "markdown",
   "metadata": {},
   "source": [
    "##### Ratings dataset"
   ]
  },
  {
   "cell_type": "code",
   "execution_count": 24,
   "metadata": {},
   "outputs": [
    {
     "data": {
      "text/html": [
       "<div><style>\n",
       ".dataframe > thead > tr,\n",
       ".dataframe > tbody > tr {\n",
       "  text-align: right;\n",
       "  white-space: pre-wrap;\n",
       "}\n",
       "</style>\n",
       "<small>shape: (5, 33)</small><table border=\"1\" class=\"dataframe\"><thead><tr><th>abv_ba</th><th>appearance_ba</th><th>aroma_ba</th><th>beer_id_ba</th><th>beer_name_ba</th><th>brewery_id_ba</th><th>brewery_name_ba</th><th>date_ba</th><th>overall_ba</th><th>palate_ba</th><th>rating_ba</th><th>review_ba</th><th>style_ba</th><th>taste_ba</th><th>text_ba</th><th>user_id_ba</th><th>user_name_ba</th><th>abv_rb</th><th>appearance_rb</th><th>aroma_rb</th><th>beer_id_rb</th><th>beer_name_rb</th><th>brewery_id_rb</th><th>brewery_name_rb</th><th>date_rb</th><th>overall_rb</th><th>palate_rb</th><th>rating_rb</th><th>style_rb</th><th>taste_rb</th><th>text_rb</th><th>user_id_rb</th><th>user_name_rb</th></tr><tr><td>f64</td><td>f64</td><td>f64</td><td>i64</td><td>str</td><td>i64</td><td>str</td><td>datetime[ms]</td><td>f64</td><td>f64</td><td>f64</td><td>bool</td><td>str</td><td>f64</td><td>str</td><td>str</td><td>str</td><td>f64</td><td>f64</td><td>f64</td><td>i64</td><td>str</td><td>i64</td><td>str</td><td>datetime[ms]</td><td>f64</td><td>f64</td><td>f64</td><td>str</td><td>f64</td><td>str</td><td>i64</td><td>str</td></tr></thead><tbody><tr><td>11.3</td><td>4.5</td><td>4.5</td><td>645</td><td>&quot;Trappistes Rochefort 10&quot;</td><td>207</td><td>&quot;Brasserie de Rochefort&quot;</td><td>2011-12-25 11:00:00</td><td>5.0</td><td>4.5</td><td>4.8</td><td>true</td><td>&quot;Quadrupel (Quad)&quot;</td><td>5.0</td><td>&quot;Best before 27.07.2016Directly…</td><td>&quot;erzengel.248045&quot;</td><td>&quot;Erzengel&quot;</td><td>11.3</td><td>4.0</td><td>10.0</td><td>2360</td><td>&quot;Rochefort Trappistes 10&quot;</td><td>406</td><td>&quot;Brasserie Rochefort&quot;</td><td>2013-12-22 11:00:00</td><td>19.0</td><td>4.0</td><td>4.6</td><td>&quot;Abt/Quadrupel&quot;</td><td>9.0</td><td>&quot; a)  Geruch malzig-schwer-sÃ¼Ã…</td><td>83106</td><td>&quot;Erzengel&quot;</td></tr><tr><td>5.0</td><td>null</td><td>null</td><td>28191</td><td>&quot;Myanmar Lager Beer&quot;</td><td>9369</td><td>&quot;Myanmar Brewery and Distillery&quot;</td><td>2011-11-30 11:00:00</td><td>null</td><td>null</td><td>3.0</td><td>true</td><td>&quot;American Adjunct Lager&quot;</td><td>null</td><td>&quot;nan&quot;</td><td>&quot;visionthing.639993&quot;</td><td>&quot;visionthing&quot;</td><td>5.0</td><td>2.0</td><td>3.0</td><td>17109</td><td>&quot;Myanmar Lager Beer&quot;</td><td>2921</td><td>&quot;Myanmar Brewery and Distillery&quot;</td><td>2011-11-29 11:00:00</td><td>6.0</td><td>2.0</td><td>1.7</td><td>&quot;Pale Lager&quot;</td><td>4.0</td><td>&quot;Can. Weak and watery, not the …</td><td>91324</td><td>&quot;visionthing&quot;</td></tr><tr><td>5.0</td><td>3.5</td><td>3.5</td><td>57911</td><td>&quot;Cantillon Tyrnilambic Baie D’A…</td><td>388</td><td>&quot;Brasserie Cantillon&quot;</td><td>2012-08-04 10:00:00</td><td>4.0</td><td>4.0</td><td>3.85</td><td>true</td><td>&quot;Lambic - Fruit&quot;</td><td>4.0</td><td>&quot;Bottle @ One Pint Pub, Helsink…</td><td>&quot;tiong.608427&quot;</td><td>&quot;tiong&quot;</td><td>5.0</td><td>4.0</td><td>8.0</td><td>35298</td><td>&quot;Cantillon Tyrnilambic Baie dA…</td><td>1069</td><td>&quot;Cantillon&quot;</td><td>2012-11-22 11:00:00</td><td>17.0</td><td>4.0</td><td>4.1</td><td>&quot;Lambic Style - Fruit&quot;</td><td>8.0</td><td>&quot;Bottle @ One Pint Pub, Helsink…</td><td>98624</td><td>&quot;tiong&quot;</td></tr><tr><td>5.0</td><td>4.0</td><td>3.5</td><td>57913</td><td>&quot;Cantillon Pikkulinnun Viskilam…</td><td>388</td><td>&quot;Brasserie Cantillon&quot;</td><td>2012-08-04 10:00:00</td><td>4.0</td><td>4.0</td><td>3.68</td><td>true</td><td>&quot;Lambic - Unblended&quot;</td><td>3.5</td><td>&quot;Originally rated on 16.11.2009…</td><td>&quot;tiong.608427&quot;</td><td>&quot;tiong&quot;</td><td>5.0</td><td>4.0</td><td>8.0</td><td>113596</td><td>&quot;Cantillon Pikkulinnun Viskilam…</td><td>1069</td><td>&quot;Cantillon&quot;</td><td>2014-11-17 11:00:00</td><td>16.0</td><td>4.0</td><td>4.1</td><td>&quot;Lambic Style - Unblended&quot;</td><td>9.0</td><td>&quot;Draught @Â Pikkulintu, Helsink…</td><td>98624</td><td>&quot;tiong&quot;</td></tr><tr><td>6.0</td><td>4.0</td><td>4.0</td><td>81125</td><td>&quot;Drie Fonteinen Oude Geuze - Ar…</td><td>2216</td><td>&quot;Brouwerij 3 Fonteinen&quot;</td><td>2012-08-29 10:00:00</td><td>4.0</td><td>4.0</td><td>4.0</td><td>true</td><td>&quot;Gueuze&quot;</td><td>4.0</td><td>&quot;750ml bottle, originally rated…</td><td>&quot;tiong.608427&quot;</td><td>&quot;tiong&quot;</td><td>6.0</td><td>4.0</td><td>8.0</td><td>173481</td><td>&quot;3 Fonteinen Oude Geuze (Armand…</td><td>2058</td><td>&quot;Brouwerij 3 Fonteinen&quot;</td><td>2012-08-18 10:00:00</td><td>16.0</td><td>4.0</td><td>4.0</td><td>&quot;Lambic Style - Gueuze&quot;</td><td>8.0</td><td>&quot;750ml bottleBottling date: 201…</td><td>98624</td><td>&quot;tiong&quot;</td></tr></tbody></table></div>"
      ],
      "text/plain": [
       "shape: (5, 33)\n",
       "┌────────┬────────────┬──────────┬────────────┬───┬──────────┬────────────┬────────────┬───────────┐\n",
       "│ abv_ba ┆ appearance ┆ aroma_ba ┆ beer_id_ba ┆ … ┆ taste_rb ┆ text_rb    ┆ user_id_rb ┆ user_name │\n",
       "│ ---    ┆ _ba        ┆ ---      ┆ ---        ┆   ┆ ---      ┆ ---        ┆ ---        ┆ _rb       │\n",
       "│ f64    ┆ ---        ┆ f64      ┆ i64        ┆   ┆ f64      ┆ str        ┆ i64        ┆ ---       │\n",
       "│        ┆ f64        ┆          ┆            ┆   ┆          ┆            ┆            ┆ str       │\n",
       "╞════════╪════════════╪══════════╪════════════╪═══╪══════════╪════════════╪════════════╪═══════════╡\n",
       "│ 11.3   ┆ 4.5        ┆ 4.5      ┆ 645        ┆ … ┆ 9.0      ┆ a)  Geruch ┆ 83106      ┆ Erzengel  │\n",
       "│        ┆            ┆          ┆            ┆   ┆          ┆ malzig-sch ┆            ┆           │\n",
       "│        ┆            ┆          ┆            ┆   ┆          ┆ wer-sÃ¼Ã…  ┆            ┆           │\n",
       "│ 5.0    ┆ null       ┆ null     ┆ 28191      ┆ … ┆ 4.0      ┆ Can. Weak  ┆ 91324      ┆ visionthi │\n",
       "│        ┆            ┆          ┆            ┆   ┆          ┆ and        ┆            ┆ ng        │\n",
       "│        ┆            ┆          ┆            ┆   ┆          ┆ watery,    ┆            ┆           │\n",
       "│        ┆            ┆          ┆            ┆   ┆          ┆ not the …  ┆            ┆           │\n",
       "│ 5.0    ┆ 3.5        ┆ 3.5      ┆ 57911      ┆ … ┆ 8.0      ┆ Bottle @   ┆ 98624      ┆ tiong     │\n",
       "│        ┆            ┆          ┆            ┆   ┆          ┆ One Pint   ┆            ┆           │\n",
       "│        ┆            ┆          ┆            ┆   ┆          ┆ Pub,       ┆            ┆           │\n",
       "│        ┆            ┆          ┆            ┆   ┆          ┆ Helsink…   ┆            ┆           │\n",
       "│ 5.0    ┆ 4.0        ┆ 3.5      ┆ 57913      ┆ … ┆ 9.0      ┆ Draught    ┆ 98624      ┆ tiong     │\n",
       "│        ┆            ┆          ┆            ┆   ┆          ┆ @Â Pikkuli ┆            ┆           │\n",
       "│        ┆            ┆          ┆            ┆   ┆          ┆ ntu,       ┆            ┆           │\n",
       "│        ┆            ┆          ┆            ┆   ┆          ┆ Helsink…   ┆            ┆           │\n",
       "│ 6.0    ┆ 4.0        ┆ 4.0      ┆ 81125      ┆ … ┆ 8.0      ┆ 750ml bott ┆ 98624      ┆ tiong     │\n",
       "│        ┆            ┆          ┆            ┆   ┆          ┆ leBottling ┆            ┆           │\n",
       "│        ┆            ┆          ┆            ┆   ┆          ┆ date: 201… ┆            ┆           │\n",
       "└────────┴────────────┴──────────┴────────────┴───┴──────────┴────────────┴────────────┴───────────┘"
      ]
     },
     "execution_count": 24,
     "metadata": {},
     "output_type": "execute_result"
    }
   ],
   "source": [
    "df_ratings.head()"
   ]
  },
  {
   "cell_type": "code",
   "execution_count": 25,
   "metadata": {},
   "outputs": [
    {
     "name": "stdout",
     "output_type": "stream",
     "text": [
      "Data before cleaning 21964\n",
      "Data after cleaning 21964\n",
      "Percentage of data lost: 0.00%\n"
     ]
    }
   ],
   "source": [
    "df_ratings_filtered = df_ratings.select([\"beer_id_ba\", \"brewery_id_ba\", \"user_id_ba\", \"beer_id_rb\", \"brewery_id_rb\", \"user_id_rb\"])\n",
    "\n",
    "print(\"Data before cleaning\", df_ratings_filtered.shape[0])\n",
    "\n",
    "# BeerAdvocate\n",
    "df_ratings_ba = pl.read_parquet(BEERADVOCATE_PATH + \"/ratings.pq\")\n",
    "df_ratings_ba = df_ratings_ba.rename({col: f\"{col}_ba\" for col in df_ratings_ba.columns})\n",
    "df_ratings_filtered = df_ratings_filtered.join(df_ratings_ba, on=[\"beer_id_ba\", \"brewery_id_ba\", \"user_id_ba\"], how=\"inner\")\n",
    "\n",
    "# RateBeer\n",
    "df_ratings_rb = pl.read_parquet(RATEBEER_PATH + \"/ratings.pq\")\n",
    "df_ratings_rb = df_ratings_rb.rename({col: f\"{col}_rb\" for col in df_ratings_rb.columns})\n",
    "df_ratings_filtered = df_ratings_filtered.join(df_ratings_rb, on=[\"beer_id_rb\", \"brewery_id_rb\", \"user_id_rb\"], how=\"inner\")\n",
    "\n",
    "print(\"Data after cleaning\", df_ratings_filtered.shape[0])\n",
    "print(f\"Percentage of data lost: {(1 - df_ratings_filtered.shape[0] / df_ratings.shape[0]) * 100:.2f}%\")\n",
    "\n",
    "# Save the data\n",
    "df_ratings_filtered.write_parquet(DST_DATA_PATH + \"/ratings.pq\")"
   ]
  },
  {
   "cell_type": "markdown",
   "metadata": {},
   "source": [
    "### Discussion\n",
    "As we observed in the data exploration of RateBeer and MatchedBeer we don't lose lots of information regarding beers, users or ratings and the only relevant data lost is for the breweries (where we has lost approximately 10% of the data). Given that no review has been lost, and the filtering has been done in the processing of the files used to do the matching here, we can be confident that the data lost weren't relevant given that they didn't have any reviews."
   ]
  }
 ],
 "metadata": {
  "kernelspec": {
   "display_name": "ADA",
   "language": "python",
   "name": "python3"
  },
  "language_info": {
   "codemirror_mode": {
    "name": "ipython",
    "version": 3
   },
   "file_extension": ".py",
   "mimetype": "text/x-python",
   "name": "python",
   "nbconvert_exporter": "python",
   "pygments_lexer": "ipython3",
   "version": "3.9.20"
  }
 },
 "nbformat": 4,
 "nbformat_minor": 2
}
