{
 "cells": [
  {
   "cell_type": "markdown",
   "metadata": {
    "cell_id": "e1eb2175120c4177806616563b816849",
    "deepnote_cell_type": "text-cell-h1",
    "formattedRanges": []
   },
   "source": [
    "# Data cleaning of RateBeer dataset\n",
    "RateBeer is another large beer rating platform. Its dataset structure is similar to BeerAdvocate but with some unique features. In contrast to BeerAdvocate, which is owned by two brothers, [RateBeer is owned by Belgian-based beer producer AB InBev](https://www.ratebeer.com/about.asp). \n",
    "\n",
    "On the current version of the website, users can review a beer by first giving it a rating. The rating is between 0-5 and accepts one digit after the decimal point (e.g. 3.8). Then the user is prompted for a textual review, and to rate the beer on different attributes. There are five attributes with different scales. All of them only accept integer responses. They are specified as follows:\n",
    "- Aroma (1-10)\n",
    "- Appearance (1-5)\n",
    "- Taste (1-10)\n",
    "- Mouthfeel (1-5)\n",
    "- Overall (1-20)\n",
    "\n",
    "All the reviews have a text and the rating on the previous aspects. <br><br>\n",
    "Some of the information have been extrapolated from [here](https://github.com/OrganicIrradiation/ratebeer)"
   ]
  },
  {
   "cell_type": "markdown",
   "metadata": {
    "cell_id": "64ddae4e2a76477a8f7a6fe3f5f8a6f7",
    "deepnote_cell_type": "text-cell-h2",
    "formattedRanges": []
   },
   "source": [
    "## Files importing"
   ]
  },
  {
   "cell_type": "code",
   "execution_count": 1,
   "metadata": {
    "cell_id": "9c841504af564113b8351ca187e29ed3",
    "deepnote_cell_type": "code",
    "execution_context_id": "c3ae10e9-0fd0-47ae-85f5-b1f94e16a73f",
    "execution_millis": 4381,
    "execution_start": 1731596731751,
    "source_hash": "90a9086e"
   },
   "outputs": [],
   "source": [
    "import polars as pl\n",
    "import matplotlib.pyplot as plt\n",
    "import matplotlib.colors as mcolors\n",
    "import seaborn as sns\n",
    "import geopandas as gpd\n",
    "import numpy as np\n",
    "import tqdm\n",
    "import os\n",
    "# Import the utils\n",
    "import sys\n",
    "sys.path.append('../../utils')\n",
    "from data_desc import remove_whitespaces, describe_numbers, describe"
   ]
  },
  {
   "cell_type": "code",
   "execution_count": 2,
   "metadata": {},
   "outputs": [],
   "source": [
    "# Define the paths\n",
    "SRC_DATA_PATH = '../../../data/RateBeer'\n",
    "DST_DATA_PATH = '../../../data/RateBeer/processed'\n",
    "if not os.path.exists(DST_DATA_PATH):\n",
    "    os.makedirs(DST_DATA_PATH)"
   ]
  },
  {
   "cell_type": "markdown",
   "metadata": {
    "cell_id": "bf2801d868ae4985b44649847c614058",
    "deepnote_cell_type": "text-cell-h2",
    "formattedRanges": []
   },
   "source": [
    "## Data exploration and cleaning"
   ]
  },
  {
   "cell_type": "code",
   "execution_count": 3,
   "metadata": {
    "cell_id": "4a444ea1323449d888ba397734cceabf",
    "deepnote_cell_type": "code",
    "execution_context_id": "124991dc-5351-4586-bf98-c9ad5a46adb7",
    "execution_millis": 8474,
    "execution_start": 1731595075562,
    "source_hash": "43c76917"
   },
   "outputs": [],
   "source": [
    "df_beers = remove_whitespaces(pl.read_csv(f\"{SRC_DATA_PATH}/beers.csv\"))\n",
    "df_breweries = remove_whitespaces(pl.read_csv(f\"{SRC_DATA_PATH}/breweries.csv\"))\n",
    "df_users = remove_whitespaces(pl.read_csv(f\"{SRC_DATA_PATH}/users.csv\"))\n",
    "df_ratings = remove_whitespaces(pl.read_parquet(f\"{SRC_DATA_PATH}/reviews.pq\"))"
   ]
  },
  {
   "cell_type": "markdown",
   "metadata": {
    "cell_id": "39520969f18543bc9f4cf092edd6ca38",
    "deepnote_cell_type": "markdown"
   },
   "source": [
    "##### Beers dataset\n",
    "We'll start by looking at the beers dataset."
   ]
  },
  {
   "cell_type": "code",
   "execution_count": 4,
   "metadata": {
    "cell_id": "4298809469f84f3a975fdfbda2f8ebb9",
    "deepnote_cell_type": "code",
    "deepnote_to_be_reexecuted": true,
    "execution_context_id": "1d364a27-a03d-47a8-a2fb-9e0c33ba1ff6",
    "execution_millis": 0,
    "execution_start": 1731594758954,
    "source_hash": "8056f7de"
   },
   "outputs": [
    {
     "data": {
      "text/html": [
       "<div><style>\n",
       ".dataframe > thead > tr,\n",
       ".dataframe > tbody > tr {\n",
       "  text-align: right;\n",
       "  white-space: pre-wrap;\n",
       "}\n",
       "</style>\n",
       "<small>shape: (5, 14)</small><table border=\"1\" class=\"dataframe\"><thead><tr><th>beer_id</th><th>beer_name</th><th>brewery_id</th><th>brewery_name</th><th>style</th><th>nbr_ratings</th><th>overall_score</th><th>style_score</th><th>avg</th><th>abv</th><th>avg_computed</th><th>zscore</th><th>nbr_matched_valid_ratings</th><th>avg_matched_valid_ratings</th></tr><tr><td>i64</td><td>str</td><td>i64</td><td>str</td><td>str</td><td>i64</td><td>f64</td><td>f64</td><td>f64</td><td>f64</td><td>f64</td><td>f64</td><td>i64</td><td>f64</td></tr></thead><tbody><tr><td>85118</td><td>&quot;Braunstein Næsgaarden Økologis…</td><td>6365</td><td>&quot;Bryghuset Braunstein&quot;</td><td>&quot;Dunkel/Tmavý&quot;</td><td>34</td><td>12.0</td><td>11.0</td><td>2.57</td><td>5.2</td><td>2.529412</td><td>null</td><td>0</td><td>null</td></tr><tr><td>372495</td><td>&quot;Dunedin HoB Mango Hefe&quot;</td><td>23068</td><td>&quot;Dunedin House of Beer&quot;</td><td>&quot;German Hefeweizen&quot;</td><td>1</td><td>null</td><td>null</td><td>3.06</td><td>null</td><td>3.6</td><td>null</td><td>0</td><td>null</td></tr><tr><td>203077</td><td>&quot;Cerva dÒc Ambrée&quot;</td><td>13330</td><td>&quot;Cerva dÒc&quot;</td><td>&quot;Amber Ale&quot;</td><td>7</td><td>null</td><td>null</td><td>2.81</td><td>5.5</td><td>2.871429</td><td>null</td><td>0</td><td>null</td></tr><tr><td>39016</td><td>&quot;Altitude Solar Weizen&quot;</td><td>3569</td><td>&quot;Altitude Chophouse and  Brewer…</td><td>&quot;German Hefeweizen&quot;</td><td>11</td><td>60.0</td><td>82.0</td><td>3.12</td><td>5.8</td><td>3.327273</td><td>null</td><td>0</td><td>null</td></tr><tr><td>36948</td><td>&quot;Westerham 1965&quot;</td><td>4890</td><td>&quot;Westerham&quot;</td><td>&quot;Premium Bitter/ESB&quot;</td><td>35</td><td>45.0</td><td>58.0</td><td>3.12</td><td>5.0</td><td>3.174286</td><td>null</td><td>0</td><td>null</td></tr></tbody></table></div>"
      ],
      "text/plain": [
       "shape: (5, 14)\n",
       "┌─────────┬────────────┬────────────┬────────────┬───┬────────────┬────────┬───────────┬───────────┐\n",
       "│ beer_id ┆ beer_name  ┆ brewery_id ┆ brewery_na ┆ … ┆ avg_comput ┆ zscore ┆ nbr_match ┆ avg_match │\n",
       "│ ---     ┆ ---        ┆ ---        ┆ me         ┆   ┆ ed         ┆ ---    ┆ ed_valid_ ┆ ed_valid_ │\n",
       "│ i64     ┆ str        ┆ i64        ┆ ---        ┆   ┆ ---        ┆ f64    ┆ ratings   ┆ ratings   │\n",
       "│         ┆            ┆            ┆ str        ┆   ┆ f64        ┆        ┆ ---       ┆ ---       │\n",
       "│         ┆            ┆            ┆            ┆   ┆            ┆        ┆ i64       ┆ f64       │\n",
       "╞═════════╪════════════╪════════════╪════════════╪═══╪════════════╪════════╪═══════════╪═══════════╡\n",
       "│ 85118   ┆ Braunstein ┆ 6365       ┆ Bryghuset  ┆ … ┆ 2.529412   ┆ null   ┆ 0         ┆ null      │\n",
       "│         ┆ Næsgaarden ┆            ┆ Braunstein ┆   ┆            ┆        ┆           ┆           │\n",
       "│         ┆ Økologis…  ┆            ┆            ┆   ┆            ┆        ┆           ┆           │\n",
       "│ 372495  ┆ Dunedin    ┆ 23068      ┆ Dunedin    ┆ … ┆ 3.6        ┆ null   ┆ 0         ┆ null      │\n",
       "│         ┆ HoB Mango  ┆            ┆ House of   ┆   ┆            ┆        ┆           ┆           │\n",
       "│         ┆ Hefe       ┆            ┆ Beer       ┆   ┆            ┆        ┆           ┆           │\n",
       "│ 203077  ┆ Cerva dÒc ┆ 13330      ┆ Cerva dÒc ┆ … ┆ 2.871429   ┆ null   ┆ 0         ┆ null      │\n",
       "│         ┆ Ambrée     ┆            ┆            ┆   ┆            ┆        ┆           ┆           │\n",
       "│ 39016   ┆ Altitude   ┆ 3569       ┆ Altitude   ┆ … ┆ 3.327273   ┆ null   ┆ 0         ┆ null      │\n",
       "│         ┆ Solar      ┆            ┆ Chophouse  ┆   ┆            ┆        ┆           ┆           │\n",
       "│         ┆ Weizen     ┆            ┆ and        ┆   ┆            ┆        ┆           ┆           │\n",
       "│         ┆            ┆            ┆ Brewer…    ┆   ┆            ┆        ┆           ┆           │\n",
       "│ 36948   ┆ Westerham  ┆ 4890       ┆ Westerham  ┆ … ┆ 3.174286   ┆ null   ┆ 0         ┆ null      │\n",
       "│         ┆ 1965       ┆            ┆            ┆   ┆            ┆        ┆           ┆           │\n",
       "└─────────┴────────────┴────────────┴────────────┴───┴────────────┴────────┴───────────┴───────────┘"
      ]
     },
     "execution_count": 4,
     "metadata": {},
     "output_type": "execute_result"
    }
   ],
   "source": [
    "df_beers.sample(5)"
   ]
  },
  {
   "cell_type": "markdown",
   "metadata": {},
   "source": [
    "The dataset has the following structure\n",
    "| Column Name | Description |\n",
    "|-------------|-------------|\n",
    "| `beer_id` | Unique identifier for each beer |\n",
    "| `beer_name` | Name of the beer |\n",
    "| `brewery_id` | Unique identifier for the brewery that produced the beer |\n",
    "| `brewery_name` | Name of the brewery that produced the beer |\n",
    "| `style` | Style or category of the beer (e.g., IPA, Stout, Lager) |\n",
    "| `nbr_ratings` | Number of ratings the beer has received |\n",
    "| `overall_score` | Overall score of the beer on RateBeer |\n",
    "| `style_score` | Score of the beer within its specific style category |\n",
    "| `avg` | Average rating of the beer |\n",
    "| `abv` | Alcohol By Volume percentage of the beer |\n",
    "| `avg_computed` | Computed average rating (may differ from `avg` due to different calculation methods) |\n",
    "| `zscore` | Standardized score indicating how many standard deviations the beer's rating is from the mean  |\n",
    "| `nbr_matched_valid_ratings` | Number of matched valid ratings |\n",
    "| `avg_matched_valid_ratings` | Average of matched valid ratings |\n"
   ]
  },
  {
   "cell_type": "markdown",
   "metadata": {
    "cell_id": "5d058e436f2b4173846cd2699f7c86e2",
    "deepnote_cell_type": "text-cell-p",
    "formattedRanges": []
   },
   "source": [
    "Now that we have an idea of how the features of our dataset look like, let's analyze the data of our dataset"
   ]
  },
  {
   "cell_type": "code",
   "execution_count": 5,
   "metadata": {
    "cell_id": "f307bc86af3c4f008fe5a50d242f63b1",
    "deepnote_cell_type": "code",
    "deepnote_to_be_reexecuted": true,
    "execution_context_id": "1d364a27-a03d-47a8-a2fb-9e0c33ba1ff6",
    "execution_millis": 56,
    "execution_start": 1731594759002,
    "source_hash": "227b699c"
   },
   "outputs": [
    {
     "name": "stdout",
     "output_type": "stream",
     "text": [
      "+---------------------------+---------+------------------+---------------+-----------+-----------------------+-------------------+\n",
      "| Column                    | Type    |   Not null count |   Nulls count |   Nulls % |   Unique values count |   Unique values % |\n",
      "|---------------------------+---------+------------------+---------------+-----------+-----------------------+-------------------|\n",
      "| beer_id                   | Int64   |           442081 |             0 |    0.00 % |                442081 |          100.00 % |\n",
      "| beer_name                 | String  |           442081 |             0 |    0.00 % |                441675 |           99.91 % |\n",
      "| brewery_id                | Int64   |           442081 |             0 |    0.00 % |                 23199 |            5.25 % |\n",
      "| brewery_name              | String  |           442081 |             0 |    0.00 % |                 23183 |            5.24 % |\n",
      "| style                     | String  |           442081 |             0 |    0.00 % |                    94 |            0.02 % |\n",
      "| nbr_ratings               | Int64   |           442081 |             0 |    0.00 % |                  1366 |            0.31 % |\n",
      "| overall_score             | Float64 |           104028 |        338053 |   76.47 % |                   102 |            0.10 % |\n",
      "| style_score               | Float64 |           104068 |        338013 |   76.46 % |                   102 |            0.10 % |\n",
      "| avg                       | Float64 |           395657 |         46424 |   10.50 % |                   335 |            0.08 % |\n",
      "| abv                       | Float64 |           399987 |         42094 |    9.52 % |                   895 |            0.22 % |\n",
      "| avg_computed              | Float64 |           396690 |         45391 |   10.27 % |                 36995 |            9.33 % |\n",
      "| zscore                    | Float64 |            42228 |        399853 |   90.45 % |                 28961 |           68.58 % |\n",
      "| nbr_matched_valid_ratings | Int64   |           442081 |             0 |    0.00 % |                   578 |            0.13 % |\n",
      "| avg_matched_valid_ratings | Float64 |            42228 |        399853 |   90.45 % |                  9745 |           23.08 % |\n",
      "+---------------------------+---------+------------------+---------------+-----------+-----------------------+-------------------+\n"
     ]
    }
   ],
   "source": [
    "describe(df_beers)"
   ]
  },
  {
   "cell_type": "code",
   "execution_count": 6,
   "metadata": {
    "cell_id": "a2917e327d6e45a79d9c19268a395f1e",
    "deepnote_cell_type": "code",
    "deepnote_to_be_reexecuted": true,
    "execution_context_id": "1d364a27-a03d-47a8-a2fb-9e0c33ba1ff6",
    "execution_millis": 40,
    "execution_start": 1731594759106,
    "source_hash": "8ea5ea5d"
   },
   "outputs": [
    {
     "name": "stdout",
     "output_type": "stream",
     "text": [
      "+---------------------------+-----------+----------+-----------+------------+----------+----------+---------+\n",
      "| Column                    |      Mean |      Std |       25% |        50% |      75% |      Min |     Max |\n",
      "|---------------------------+-----------+----------+-----------+------------+----------+----------+---------|\n",
      "| nbr_ratings               |   16.1103 |  80.9888 |         1 |          3 |        9 |        0 |    5272 |\n",
      "| overall_score             |   55.6808 |  28.4827 |        34 |         53 |       83 |        0 |     100 |\n",
      "| style_score               |   54.9861 |  28.6554 |        33 |         51 |       82 |        0 |     100 |\n",
      "| avg                       |   3.02658 | 0.304503 |      2.87 |       3.02 |     3.18 |        0 |    4.52 |\n",
      "| abv                       |   6.06548 |  1.92296 |       4.8 |        5.6 |        7 |     0.01 |     100 |\n",
      "| avg_computed              |   3.24465 |  0.50752 |         3 |        3.3 |  3.59412 |      0.5 |       5 |\n",
      "| zscore                    | -0.104638 | 0.732841 | -0.479511 | -0.0236959 | 0.364636 | -5.46035 | 2.94112 |\n",
      "| nbr_matched_valid_ratings |   2.30862 |  26.6212 |         0 |          0 |        0 |        0 |    5270 |\n",
      "| avg_matched_valid_ratings |   3.37204 | 0.417038 |   3.15517 |       3.41 |     3.65 |      0.5 |       5 |\n",
      "+---------------------------+-----------+----------+-----------+------------+----------+----------+---------+\n"
     ]
    }
   ],
   "source": [
    "describe_numbers(df_beers, filters=[\"beer_id\", \"brewery_id\"])"
   ]
  },
  {
   "cell_type": "markdown",
   "metadata": {
    "cell_id": "2c4e9bd6d06c406a82560a8e4eda76f2",
    "deepnote_cell_type": "markdown"
   },
   "source": [
    "From the table we can see that:\n",
    "- The overall score and the style score are both in 0-100 scale\n",
    "- Some of the abv values are wrong, as there are values of 100 but this is not possible.\n",
    "- Some beers have the same name. This is possible, but we need to check if they are the same beer or not.\n",
    "\n",
    "Let's remove the outliers from the abv column. In BeerAdvocate the beer with the highest ABV we see is 67.5%. Therefore we make the assumption that any beer over 65% is an error while the ones below are possibly valid. We'll remove the beers with a too high ABV. We also verified, after appling this assumption, that very high ABV beers were correct, by looking in the website, and we observed that the value obtained are indeed correct."
   ]
  },
  {
   "cell_type": "code",
   "execution_count": 7,
   "metadata": {
    "cell_id": "053dd15b49d04d0bb9e0f2d6fd1e9474",
    "deepnote_cell_type": "code",
    "deepnote_to_be_reexecuted": true,
    "execution_context_id": "1d364a27-a03d-47a8-a2fb-9e0c33ba1ff6",
    "execution_millis": 0,
    "execution_start": 1731594759192,
    "source_hash": "cfde60ce"
   },
   "outputs": [],
   "source": [
    "beer_ids_removed = df_beers.filter(pl.col(\"abv\") > 65)[\"beer_id\"].to_list()\n",
    "df_beers = df_beers.filter((pl.col(\"abv\") <= 65) | (pl.col(\"abv\").is_null()))"
   ]
  },
  {
   "cell_type": "markdown",
   "metadata": {
    "cell_id": "505521023ddc4a7cbb3b77af59ca6605",
    "deepnote_cell_type": "markdown"
   },
   "source": [
    "Here we are going to check if people have inserted the same beer twice for the same brewery. We'll check that by looking at the unique values of the columns 'beer_name' and 'brewery_name' and see if there are any duplicates."
   ]
  },
  {
   "cell_type": "code",
   "execution_count": 8,
   "metadata": {
    "cell_id": "6505c59d0b8e4dd9a288096f40cc452f",
    "deepnote_cell_type": "code",
    "deepnote_table_loading": false,
    "deepnote_table_state": {
     "conditionalFilters": [],
     "filters": [],
     "pageIndex": 0,
     "pageSize": 10,
     "sortBy": [],
     "wrappedTextColumnIds": []
    },
    "deepnote_to_be_reexecuted": true,
    "execution_context_id": "1d364a27-a03d-47a8-a2fb-9e0c33ba1ff6",
    "execution_millis": 55,
    "execution_start": 1731594759238,
    "source_hash": "d30cac42"
   },
   "outputs": [
    {
     "data": {
      "text/html": [
       "<div><style>\n",
       ".dataframe > thead > tr,\n",
       ".dataframe > tbody > tr {\n",
       "  text-align: right;\n",
       "  white-space: pre-wrap;\n",
       "}\n",
       "</style>\n",
       "<small>shape: (10, 14)</small><table border=\"1\" class=\"dataframe\"><thead><tr><th>beer_id</th><th>beer_name</th><th>brewery_id</th><th>brewery_name</th><th>style</th><th>nbr_ratings</th><th>overall_score</th><th>style_score</th><th>avg</th><th>abv</th><th>avg_computed</th><th>zscore</th><th>nbr_matched_valid_ratings</th><th>avg_matched_valid_ratings</th></tr><tr><td>i64</td><td>str</td><td>i64</td><td>str</td><td>str</td><td>i64</td><td>f64</td><td>f64</td><td>f64</td><td>f64</td><td>f64</td><td>f64</td><td>i64</td><td>f64</td></tr></thead><tbody><tr><td>353940</td><td>&quot;Talón de Aquiles&quot;</td><td>24064</td><td>&quot;cerartmex&quot;</td><td>&quot;Porter&quot;</td><td>0</td><td>null</td><td>null</td><td>null</td><td>5.0</td><td>null</td><td>null</td><td>0</td><td>null</td></tr><tr><td>353941</td><td>&quot;Talón de Aquiles&quot;</td><td>24064</td><td>&quot;cerartmex&quot;</td><td>&quot;Porter&quot;</td><td>0</td><td>null</td><td>null</td><td>null</td><td>5.0</td><td>null</td><td>null</td><td>0</td><td>null</td></tr><tr><td>375995</td><td>&quot;Eterno Instante&quot;</td><td>25141</td><td>&quot;Cervecería Eterno Instante&quot;</td><td>&quot;Porter&quot;</td><td>0</td><td>null</td><td>null</td><td>null</td><td>5.0</td><td>null</td><td>null</td><td>0</td><td>null</td></tr><tr><td>375996</td><td>&quot;Eterno Instante&quot;</td><td>25141</td><td>&quot;Cervecería Eterno Instante&quot;</td><td>&quot;Porter&quot;</td><td>1</td><td>null</td><td>null</td><td>2.72</td><td>5.0</td><td>2.0</td><td>null</td><td>0</td><td>null</td></tr><tr><td>422836</td><td>&quot;Syndicate Roses Name Abbey Du…</td><td>26083</td><td>&quot;Syndicate Beer &amp; Grill&quot;</td><td>&quot;Abbey Dubbel&quot;</td><td>1</td><td>null</td><td>null</td><td>3.0</td><td>6.0</td><td>3.3</td><td>null</td><td>0</td><td>null</td></tr><tr><td>408166</td><td>&quot;Syndicate Roses Name Abbey Du…</td><td>26083</td><td>&quot;Syndicate Beer &amp; Grill&quot;</td><td>&quot;Abbey Dubbel&quot;</td><td>3</td><td>null</td><td>null</td><td>2.78</td><td>6.0</td><td>2.6</td><td>null</td><td>0</td><td>null</td></tr><tr><td>285897</td><td>&quot;Prince Edward Island 8 Cord Do…</td><td>3091</td><td>&quot;Prince Edward Island Brewing C…</td><td>&quot;Imperial IPA&quot;</td><td>7</td><td>null</td><td>null</td><td>3.39</td><td>8.5</td><td>3.642857</td><td>null</td><td>0</td><td>null</td></tr><tr><td>310659</td><td>&quot;Prince Edward Island 8 Cord Do…</td><td>3091</td><td>&quot;Prince Edward Island Brewing C…</td><td>&quot;Imperial IPA&quot;</td><td>0</td><td>null</td><td>null</td><td>null</td><td>8.5</td><td>null</td><td>null</td><td>0</td><td>null</td></tr><tr><td>510163</td><td>&quot;Isle de Garde Bitter Ordinaire&quot;</td><td>21105</td><td>&quot;Isle de Garde&quot;</td><td>&quot;Bitter&quot;</td><td>2</td><td>null</td><td>null</td><td>3.12</td><td>3.9</td><td>3.5</td><td>null</td><td>0</td><td>null</td></tr><tr><td>510165</td><td>&quot;Isle de Garde Blonde Anglaise&quot;</td><td>21105</td><td>&quot;Isle de Garde&quot;</td><td>&quot;English Pale Ale&quot;</td><td>0</td><td>null</td><td>null</td><td>null</td><td>5.0</td><td>null</td><td>null</td><td>0</td><td>null</td></tr></tbody></table></div>"
      ],
      "text/plain": [
       "shape: (10, 14)\n",
       "┌─────────┬────────────┬────────────┬────────────┬───┬────────────┬────────┬───────────┬───────────┐\n",
       "│ beer_id ┆ beer_name  ┆ brewery_id ┆ brewery_na ┆ … ┆ avg_comput ┆ zscore ┆ nbr_match ┆ avg_match │\n",
       "│ ---     ┆ ---        ┆ ---        ┆ me         ┆   ┆ ed         ┆ ---    ┆ ed_valid_ ┆ ed_valid_ │\n",
       "│ i64     ┆ str        ┆ i64        ┆ ---        ┆   ┆ ---        ┆ f64    ┆ ratings   ┆ ratings   │\n",
       "│         ┆            ┆            ┆ str        ┆   ┆ f64        ┆        ┆ ---       ┆ ---       │\n",
       "│         ┆            ┆            ┆            ┆   ┆            ┆        ┆ i64       ┆ f64       │\n",
       "╞═════════╪════════════╪════════════╪════════════╪═══╪════════════╪════════╪═══════════╪═══════════╡\n",
       "│ 353940  ┆ Talón de   ┆ 24064      ┆ cerartmex  ┆ … ┆ null       ┆ null   ┆ 0         ┆ null      │\n",
       "│         ┆ Aquiles    ┆            ┆            ┆   ┆            ┆        ┆           ┆           │\n",
       "│ 353941  ┆ Talón de   ┆ 24064      ┆ cerartmex  ┆ … ┆ null       ┆ null   ┆ 0         ┆ null      │\n",
       "│         ┆ Aquiles    ┆            ┆            ┆   ┆            ┆        ┆           ┆           │\n",
       "│ 375995  ┆ Eterno     ┆ 25141      ┆ Cervecería ┆ … ┆ null       ┆ null   ┆ 0         ┆ null      │\n",
       "│         ┆ Instante   ┆            ┆ Eterno     ┆   ┆            ┆        ┆           ┆           │\n",
       "│         ┆            ┆            ┆ Instante   ┆   ┆            ┆        ┆           ┆           │\n",
       "│ 375996  ┆ Eterno     ┆ 25141      ┆ Cervecería ┆ … ┆ 2.0        ┆ null   ┆ 0         ┆ null      │\n",
       "│         ┆ Instante   ┆            ┆ Eterno     ┆   ┆            ┆        ┆           ┆           │\n",
       "│         ┆            ┆            ┆ Instante   ┆   ┆            ┆        ┆           ┆           │\n",
       "│ 422836  ┆ Syndicate  ┆ 26083      ┆ Syndicate  ┆ … ┆ 3.3        ┆ null   ┆ 0         ┆ null      │\n",
       "│         ┆ Roses     ┆            ┆ Beer &     ┆   ┆            ┆        ┆           ┆           │\n",
       "│         ┆ Name Abbey ┆            ┆ Grill      ┆   ┆            ┆        ┆           ┆           │\n",
       "│         ┆ Du…        ┆            ┆            ┆   ┆            ┆        ┆           ┆           │\n",
       "│ 408166  ┆ Syndicate  ┆ 26083      ┆ Syndicate  ┆ … ┆ 2.6        ┆ null   ┆ 0         ┆ null      │\n",
       "│         ┆ Roses     ┆            ┆ Beer &     ┆   ┆            ┆        ┆           ┆           │\n",
       "│         ┆ Name Abbey ┆            ┆ Grill      ┆   ┆            ┆        ┆           ┆           │\n",
       "│         ┆ Du…        ┆            ┆            ┆   ┆            ┆        ┆           ┆           │\n",
       "│ 285897  ┆ Prince     ┆ 3091       ┆ Prince     ┆ … ┆ 3.642857   ┆ null   ┆ 0         ┆ null      │\n",
       "│         ┆ Edward     ┆            ┆ Edward     ┆   ┆            ┆        ┆           ┆           │\n",
       "│         ┆ Island 8   ┆            ┆ Island     ┆   ┆            ┆        ┆           ┆           │\n",
       "│         ┆ Cord Do…   ┆            ┆ Brewing C… ┆   ┆            ┆        ┆           ┆           │\n",
       "│ 310659  ┆ Prince     ┆ 3091       ┆ Prince     ┆ … ┆ null       ┆ null   ┆ 0         ┆ null      │\n",
       "│         ┆ Edward     ┆            ┆ Edward     ┆   ┆            ┆        ┆           ┆           │\n",
       "│         ┆ Island 8   ┆            ┆ Island     ┆   ┆            ┆        ┆           ┆           │\n",
       "│         ┆ Cord Do…   ┆            ┆ Brewing C… ┆   ┆            ┆        ┆           ┆           │\n",
       "│ 510163  ┆ Isle de    ┆ 21105      ┆ Isle de    ┆ … ┆ 3.5        ┆ null   ┆ 0         ┆ null      │\n",
       "│         ┆ Garde      ┆            ┆ Garde      ┆   ┆            ┆        ┆           ┆           │\n",
       "│         ┆ Bitter     ┆            ┆            ┆   ┆            ┆        ┆           ┆           │\n",
       "│         ┆ Ordinaire  ┆            ┆            ┆   ┆            ┆        ┆           ┆           │\n",
       "│ 510165  ┆ Isle de    ┆ 21105      ┆ Isle de    ┆ … ┆ null       ┆ null   ┆ 0         ┆ null      │\n",
       "│         ┆ Garde      ┆            ┆ Garde      ┆   ┆            ┆        ┆           ┆           │\n",
       "│         ┆ Blonde     ┆            ┆            ┆   ┆            ┆        ┆           ┆           │\n",
       "│         ┆ Anglaise   ┆            ┆            ┆   ┆            ┆        ┆           ┆           │\n",
       "└─────────┴────────────┴────────────┴────────────┴───┴────────────┴────────┴───────────┴───────────┘"
      ]
     },
     "execution_count": 8,
     "metadata": {},
     "output_type": "execute_result"
    }
   ],
   "source": [
    "beers_duplicates = df_beers.filter(pl.struct([\"beer_name\", \"brewery_id\"]).is_duplicated())\n",
    "beers_duplicates.head(10)"
   ]
  },
  {
   "cell_type": "code",
   "execution_count": 9,
   "metadata": {
    "cell_id": "86ac8c25b264449f9b6413c4b32fe484",
    "deepnote_cell_type": "code",
    "deepnote_to_be_reexecuted": true,
    "execution_context_id": "1d364a27-a03d-47a8-a2fb-9e0c33ba1ff6",
    "execution_millis": 1,
    "execution_start": 1731594759338,
    "source_hash": "46012223"
   },
   "outputs": [
    {
     "name": "stdout",
     "output_type": "stream",
     "text": [
      "Number of duplicate beers:  438\n"
     ]
    }
   ],
   "source": [
    "print(\"Number of duplicate beers: \", beers_duplicates.shape[0])"
   ]
  },
  {
   "cell_type": "markdown",
   "metadata": {
    "cell_id": "f48f1458ecc44d0391ad90bbb46e6f03",
    "deepnote_cell_type": "text-cell-p",
    "formattedRanges": []
   },
   "source": [
    "We see that there are some duplicates but that they are not a significant number. Since we see that in some cases the style or the abv values are not consistent between duplicates and since, as already said, the number of duplicates is not significant, we'll drop them."
   ]
  },
  {
   "cell_type": "code",
   "execution_count": 10,
   "metadata": {
    "cell_id": "6213c9102ca24336a65a7104a1890e99",
    "deepnote_cell_type": "code",
    "deepnote_to_be_reexecuted": true,
    "execution_context_id": "1d364a27-a03d-47a8-a2fb-9e0c33ba1ff6",
    "execution_millis": 0,
    "execution_start": 1731594759390,
    "source_hash": "9f63cd6"
   },
   "outputs": [],
   "source": [
    "beer_ids_removed = beers_duplicates[\"beer_id\"].to_list() + beer_ids_removed\n",
    "df_beers = df_beers.filter(~pl.col(\"beer_id\").is_in(beer_ids_removed))"
   ]
  },
  {
   "cell_type": "markdown",
   "metadata": {
    "cell_id": "1e90b77d08864cb8ac6583ffba3b9d5e",
    "deepnote_cell_type": "markdown"
   },
   "source": [
    "##### Breweries dataset"
   ]
  },
  {
   "cell_type": "markdown",
   "metadata": {
    "cell_id": "d19f95c3328e4b90b2f206ec2dd2018f",
    "deepnote_cell_type": "text-cell-p",
    "formattedRanges": []
   },
   "source": [
    "Now we can take a look at our breweries dataframe. For each brewery we have a location, a name and the amount of beers they produce, along with a unique identifier. The brewery location can be very useful for our research questions. We will look into this more later on in this notebook."
   ]
  },
  {
   "cell_type": "code",
   "execution_count": 11,
   "metadata": {
    "cell_id": "7aa0d1ef43ba4b2dbcdbfc80b58ee5f6",
    "deepnote_cell_type": "code",
    "deepnote_to_be_reexecuted": true,
    "execution_context_id": "1d364a27-a03d-47a8-a2fb-9e0c33ba1ff6",
    "execution_millis": 1,
    "execution_start": 1731594759442,
    "source_hash": "bebafbcd"
   },
   "outputs": [
    {
     "data": {
      "text/html": [
       "<div><style>\n",
       ".dataframe > thead > tr,\n",
       ".dataframe > tbody > tr {\n",
       "  text-align: right;\n",
       "  white-space: pre-wrap;\n",
       "}\n",
       "</style>\n",
       "<small>shape: (5, 4)</small><table border=\"1\" class=\"dataframe\"><thead><tr><th>id</th><th>location</th><th>name</th><th>nbr_beers</th></tr><tr><td>i64</td><td>str</td><td>str</td><td>i64</td></tr></thead><tbody><tr><td>23051</td><td>&quot;Russia&quot;</td><td>&quot;Pivovarnya Na Shabolovke&quot;</td><td>6</td></tr><tr><td>10795</td><td>&quot;United States, South Carolina&quot;</td><td>&quot;Folly Beach Brew Pub&quot;</td><td>3</td></tr><tr><td>28123</td><td>&quot;Bulgaria&quot;</td><td>&quot;Cervejaria Contemporânea&quot;</td><td>1</td></tr><tr><td>19958</td><td>&quot;United States, Washington&quot;</td><td>&quot;SnoTown Brewery&quot;</td><td>13</td></tr><tr><td>1584</td><td>&quot;Poland&quot;</td><td>&quot;Perła - Browary Lubelskie&quot;</td><td>38</td></tr></tbody></table></div>"
      ],
      "text/plain": [
       "shape: (5, 4)\n",
       "┌───────┬───────────────────────────────┬───────────────────────────┬───────────┐\n",
       "│ id    ┆ location                      ┆ name                      ┆ nbr_beers │\n",
       "│ ---   ┆ ---                           ┆ ---                       ┆ ---       │\n",
       "│ i64   ┆ str                           ┆ str                       ┆ i64       │\n",
       "╞═══════╪═══════════════════════════════╪═══════════════════════════╪═══════════╡\n",
       "│ 23051 ┆ Russia                        ┆ Pivovarnya Na Shabolovke  ┆ 6         │\n",
       "│ 10795 ┆ United States, South Carolina ┆ Folly Beach Brew Pub      ┆ 3         │\n",
       "│ 28123 ┆ Bulgaria                      ┆ Cervejaria Contemporânea  ┆ 1         │\n",
       "│ 19958 ┆ United States, Washington     ┆ SnoTown Brewery           ┆ 13        │\n",
       "│ 1584  ┆ Poland                        ┆ Perła - Browary Lubelskie ┆ 38        │\n",
       "└───────┴───────────────────────────────┴───────────────────────────┴───────────┘"
      ]
     },
     "execution_count": 11,
     "metadata": {},
     "output_type": "execute_result"
    }
   ],
   "source": [
    "df_breweries.sample(5)"
   ]
  },
  {
   "cell_type": "markdown",
   "metadata": {
    "cell_id": "d38b382feb5f4aa1b5979700f7f4e651",
    "deepnote_cell_type": "text-cell-p",
    "formattedRanges": []
   },
   "source": [
    "The dataset has the following structure\n",
    "| Column Name | Description |\n",
    "|-------------|-------------|\n",
    "| `id` | Unique identifier for each brewery |\n",
    "| `location` | Geographic location of the brewery |\n",
    "| `name` | Name of the brewery |\n",
    "| `nbr_beers` | Number of beers produced by the brewery |\n",
    "\n",
    "Now that we have an idea of how the features of our dataset look like, let's analyze the data of our dataset"
   ]
  },
  {
   "cell_type": "code",
   "execution_count": 12,
   "metadata": {
    "cell_id": "347c8e9ade9f43f28740e874f387f81a",
    "deepnote_cell_type": "code",
    "deepnote_to_be_reexecuted": true,
    "execution_context_id": "1d364a27-a03d-47a8-a2fb-9e0c33ba1ff6",
    "execution_millis": 1,
    "execution_start": 1731594759490,
    "source_hash": "799089a6"
   },
   "outputs": [
    {
     "name": "stdout",
     "output_type": "stream",
     "text": [
      "+-----------+--------+------------------+---------------+-----------+-----------------------+-------------------+\n",
      "| Column    | Type   |   Not null count |   Nulls count |   Nulls % |   Unique values count |   Unique values % |\n",
      "|-----------+--------+------------------+---------------+-----------+-----------------------+-------------------|\n",
      "| id        | Int64  |            24189 |             0 |    0.00 % |                 24189 |          100.00 % |\n",
      "| location  | String |            24189 |             0 |    0.00 % |                   267 |            1.10 % |\n",
      "| name      | String |            24189 |             0 |    0.00 % |                 24173 |           99.93 % |\n",
      "| nbr_beers | Int64  |            24189 |             0 |    0.00 % |                   271 |            1.12 % |\n",
      "+-----------+--------+------------------+---------------+-----------+-----------------------+-------------------+\n"
     ]
    }
   ],
   "source": [
    "describe(df_breweries)"
   ]
  },
  {
   "cell_type": "code",
   "execution_count": 13,
   "metadata": {
    "cell_id": "6cc6f3c09dbd4720898e4374bb141cba",
    "deepnote_cell_type": "code",
    "deepnote_to_be_reexecuted": true,
    "execution_context_id": "1d364a27-a03d-47a8-a2fb-9e0c33ba1ff6",
    "execution_millis": 0,
    "execution_start": 1731594759538,
    "source_hash": "f5ce00c1"
   },
   "outputs": [
    {
     "name": "stdout",
     "output_type": "stream",
     "text": [
      "+-----------+---------+---------+-------+-------+-------+-------+-------+\n",
      "| Column    |    Mean |     Std |   25% |   50% |   75% |   Min |   Max |\n",
      "|-----------+---------+---------+-------+-------+-------+-------+-------|\n",
      "| nbr_beers | 19.0227 | 31.5426 |     3 |     8 |    20 |     0 |   295 |\n",
      "+-----------+---------+---------+-------+-------+-------+-------+-------+\n"
     ]
    }
   ],
   "source": [
    "describe_numbers(df_breweries, filters=[\"id\"])"
   ]
  },
  {
   "cell_type": "markdown",
   "metadata": {
    "cell_id": "f6970e99ef11437eb2eac6241d03ebba",
    "deepnote_cell_type": "text-cell-p",
    "formattedRanges": []
   },
   "source": [
    "Since the users can insert the breweries by hand let's verify if there are some duplicates"
   ]
  },
  {
   "cell_type": "code",
   "execution_count": 14,
   "metadata": {
    "cell_id": "26ff932806324ad192ef749c26e69a64",
    "deepnote_app_block_visible": false,
    "deepnote_cell_type": "code",
    "deepnote_to_be_reexecuted": true,
    "execution_context_id": "1d364a27-a03d-47a8-a2fb-9e0c33ba1ff6",
    "execution_millis": 0,
    "execution_start": 1731594759590,
    "source_hash": "e4f86d11"
   },
   "outputs": [
    {
     "data": {
      "text/html": [
       "<div><style>\n",
       ".dataframe > thead > tr,\n",
       ".dataframe > tbody > tr {\n",
       "  text-align: right;\n",
       "  white-space: pre-wrap;\n",
       "}\n",
       "</style>\n",
       "<small>shape: (8, 4)</small><table border=\"1\" class=\"dataframe\"><thead><tr><th>id</th><th>location</th><th>name</th><th>nbr_beers</th></tr><tr><td>i64</td><td>str</td><td>str</td><td>i64</td></tr></thead><tbody><tr><td>23620</td><td>&quot;Canada&quot;</td><td>&quot;Ridge Brewing Company&quot;</td><td>15</td></tr><tr><td>3317</td><td>&quot;Canada&quot;</td><td>&quot;Ridge Brewing Company&quot;</td><td>12</td></tr><tr><td>10376</td><td>&quot;Lithuania&quot;</td><td>&quot;UAB Brauer&quot;</td><td>1</td></tr><tr><td>4714</td><td>&quot;Lithuania&quot;</td><td>&quot;UAB Brauer&quot;</td><td>7</td></tr><tr><td>11243</td><td>&quot;United States, California&quot;</td><td>&quot;California Brewing Company&quot;</td><td>6</td></tr><tr><td>2141</td><td>&quot;United States, California&quot;</td><td>&quot;California Brewing Company&quot;</td><td>3</td></tr><tr><td>9467</td><td>&quot;England&quot;</td><td>&quot;Freedom&quot;</td><td>4</td></tr><tr><td>6811</td><td>&quot;England&quot;</td><td>&quot;Freedom&quot;</td><td>31</td></tr></tbody></table></div>"
      ],
      "text/plain": [
       "shape: (8, 4)\n",
       "┌───────┬───────────────────────────┬────────────────────────────┬───────────┐\n",
       "│ id    ┆ location                  ┆ name                       ┆ nbr_beers │\n",
       "│ ---   ┆ ---                       ┆ ---                        ┆ ---       │\n",
       "│ i64   ┆ str                       ┆ str                        ┆ i64       │\n",
       "╞═══════╪═══════════════════════════╪════════════════════════════╪═══════════╡\n",
       "│ 23620 ┆ Canada                    ┆ Ridge Brewing Company      ┆ 15        │\n",
       "│ 3317  ┆ Canada                    ┆ Ridge Brewing Company      ┆ 12        │\n",
       "│ 10376 ┆ Lithuania                 ┆ UAB Brauer                 ┆ 1         │\n",
       "│ 4714  ┆ Lithuania                 ┆ UAB Brauer                 ┆ 7         │\n",
       "│ 11243 ┆ United States, California ┆ California Brewing Company ┆ 6         │\n",
       "│ 2141  ┆ United States, California ┆ California Brewing Company ┆ 3         │\n",
       "│ 9467  ┆ England                   ┆ Freedom                    ┆ 4         │\n",
       "│ 6811  ┆ England                   ┆ Freedom                    ┆ 31        │\n",
       "└───────┴───────────────────────────┴────────────────────────────┴───────────┘"
      ]
     },
     "execution_count": 14,
     "metadata": {},
     "output_type": "execute_result"
    }
   ],
   "source": [
    "breweries_duplicates = df_breweries.filter(pl.struct([\"name\", \"location\"]).is_duplicated())\n",
    "breweries_duplicates"
   ]
  },
  {
   "cell_type": "markdown",
   "metadata": {
    "cell_id": "abaee41288064d3ba95b492c9a26af5e",
    "deepnote_cell_type": "text-cell-p",
    "formattedRanges": []
   },
   "source": [
    "Here since the data are consistent we'll just fix this issue by remapping one of the two duplicates to the other one."
   ]
  },
  {
   "cell_type": "code",
   "execution_count": 15,
   "metadata": {
    "cell_id": "cb2fe7769e0949318f16c440727bfa25",
    "deepnote_cell_type": "code",
    "deepnote_to_be_reexecuted": true,
    "execution_context_id": "1d364a27-a03d-47a8-a2fb-9e0c33ba1ff6",
    "execution_millis": 2,
    "execution_start": 1731594759638,
    "source_hash": "4ff0b2f6"
   },
   "outputs": [],
   "source": [
    "# Define an aggregated dataset to map the duplicates ids\n",
    "aggregated = breweries_duplicates.join(breweries_duplicates, on=[\"name\", \"location\"], how=\"inner\")\n",
    "aggregated = aggregated.filter(pl.col(\"id\") < pl.col(\"id_right\"))\n",
    "\n",
    "# Create a mapping between the duplicates\n",
    "mapping = aggregated.select([\"id\", \"id_right\"]).to_pandas() # destination, source\n",
    "mapping = dict(zip(mapping[\"id_right\"], mapping[\"id\"]))"
   ]
  },
  {
   "cell_type": "markdown",
   "metadata": {
    "cell_id": "fe85e3a97b24496aa728d6a1345dd128",
    "deepnote_cell_type": "markdown"
   },
   "source": [
    "Let's to the mapping also in the beer dataset and then we can recompute the number of beers for each brewery."
   ]
  },
  {
   "cell_type": "code",
   "execution_count": 16,
   "metadata": {
    "cell_id": "688366d501a248d287702db0f4243594",
    "deepnote_cell_type": "code",
    "deepnote_to_be_reexecuted": true,
    "execution_context_id": "1d364a27-a03d-47a8-a2fb-9e0c33ba1ff6",
    "execution_millis": 21,
    "execution_start": 1731594759686,
    "source_hash": "194f927"
   },
   "outputs": [],
   "source": [
    "# Drop the column that are in the mapping\n",
    "df_breweries = df_breweries.filter(~pl.col(\"id\").is_in(list(mapping.keys())))\n",
    "\n",
    "# Change the ids in the beers dataset\n",
    "df_beers = df_beers.with_columns(pl.col(\"brewery_id\").replace(mapping))\n",
    "\n",
    "# Recompute the number of beers for each brewery\n",
    "aggregated_value = df_beers.group_by(\"brewery_id\").agg(pl.col(\"beer_id\").count().alias(\"beers_count\")).rename({\"brewery_id\": \"id\"})\n",
    "\n",
    "# Join the aggregated value with the breweries dataframe\n",
    "df_breweries = df_breweries.join(aggregated_value, on=\"id\", how=\"inner\")\n",
    "df_breweries = df_breweries.drop(\"nbr_beers\")\n",
    "\n",
    "# Cast the beers_count column to an integer\n",
    "df_breweries = df_breweries.with_columns(pl.col(\"beers_count\").cast(pl.Int32))"
   ]
  },
  {
   "cell_type": "markdown",
   "metadata": {
    "cell_id": "cab74c364f284af49d0290f8f771e40c",
    "deepnote_cell_type": "markdown"
   },
   "source": [
    "##### Users dataset"
   ]
  },
  {
   "cell_type": "markdown",
   "metadata": {
    "cell_id": "d694486ec67549189de56a13ae1dd2f0",
    "deepnote_cell_type": "text-cell-p",
    "formattedRanges": []
   },
   "source": [
    "For each of our users, we have their number of ratings/reviews, their ID, their name, the timestamp of when they joined and their location. The location is interesting for us, along with the number of reviews of each user."
   ]
  },
  {
   "cell_type": "code",
   "execution_count": 17,
   "metadata": {
    "cell_id": "771cc3cb175f444da4f68f8f71fc4469",
    "deepnote_cell_type": "code",
    "deepnote_to_be_reexecuted": true,
    "execution_context_id": "1d364a27-a03d-47a8-a2fb-9e0c33ba1ff6",
    "execution_millis": 1,
    "execution_start": 1731594759758,
    "source_hash": "6cfe966d"
   },
   "outputs": [
    {
     "data": {
      "text/html": [
       "<div><style>\n",
       ".dataframe > thead > tr,\n",
       ".dataframe > tbody > tr {\n",
       "  text-align: right;\n",
       "  white-space: pre-wrap;\n",
       "}\n",
       "</style>\n",
       "<small>shape: (5, 5)</small><table border=\"1\" class=\"dataframe\"><thead><tr><th>nbr_ratings</th><th>user_id</th><th>user_name</th><th>joined</th><th>location</th></tr><tr><td>i64</td><td>i64</td><td>str</td><td>f64</td><td>str</td></tr></thead><tbody><tr><td>2</td><td>360783</td><td>&quot;SovietBear1982&quot;</td><td>1.4256e9</td><td>&quot;United States, Connecticut&quot;</td></tr><tr><td>1</td><td>60742</td><td>&quot;DJGator&quot;</td><td>1.1896e9</td><td>null</td></tr><tr><td>1</td><td>479239</td><td>&quot;beerdrinksbeer&quot;</td><td>1.4990e9</td><td>null</td></tr><tr><td>1</td><td>222423</td><td>&quot;AleX_h&quot;</td><td>1.3501e9</td><td>&quot;France&quot;</td></tr><tr><td>1</td><td>302640</td><td>&quot;fidalgok&quot;</td><td>1.3921e9</td><td>null</td></tr></tbody></table></div>"
      ],
      "text/plain": [
       "shape: (5, 5)\n",
       "┌─────────────┬─────────┬────────────────┬──────────┬────────────────────────────┐\n",
       "│ nbr_ratings ┆ user_id ┆ user_name      ┆ joined   ┆ location                   │\n",
       "│ ---         ┆ ---     ┆ ---            ┆ ---      ┆ ---                        │\n",
       "│ i64         ┆ i64     ┆ str            ┆ f64      ┆ str                        │\n",
       "╞═════════════╪═════════╪════════════════╪══════════╪════════════════════════════╡\n",
       "│ 2           ┆ 360783  ┆ SovietBear1982 ┆ 1.4256e9 ┆ United States, Connecticut │\n",
       "│ 1           ┆ 60742   ┆ DJGator        ┆ 1.1896e9 ┆ null                       │\n",
       "│ 1           ┆ 479239  ┆ beerdrinksbeer ┆ 1.4990e9 ┆ null                       │\n",
       "│ 1           ┆ 222423  ┆ AleX_h         ┆ 1.3501e9 ┆ France                     │\n",
       "│ 1           ┆ 302640  ┆ fidalgok       ┆ 1.3921e9 ┆ null                       │\n",
       "└─────────────┴─────────┴────────────────┴──────────┴────────────────────────────┘"
      ]
     },
     "execution_count": 17,
     "metadata": {},
     "output_type": "execute_result"
    }
   ],
   "source": [
    "df_users.sample(5)"
   ]
  },
  {
   "cell_type": "markdown",
   "metadata": {
    "cell_id": "2f8dcbe3f61540f18ab4b77d7bf91988",
    "deepnote_cell_type": "markdown"
   },
   "source": [
    "Let's modify the joined column to make it in datetime format"
   ]
  },
  {
   "cell_type": "code",
   "execution_count": 18,
   "metadata": {
    "cell_id": "9d8dfb2551e54555b995d3c12daa0fc3",
    "deepnote_cell_type": "code",
    "deepnote_to_be_reexecuted": true,
    "execution_context_id": "1d364a27-a03d-47a8-a2fb-9e0c33ba1ff6",
    "execution_millis": 1,
    "execution_start": 1731594759806,
    "source_hash": "95299ff2"
   },
   "outputs": [
    {
     "data": {
      "text/html": [
       "<div><style>\n",
       ".dataframe > thead > tr,\n",
       ".dataframe > tbody > tr {\n",
       "  text-align: right;\n",
       "  white-space: pre-wrap;\n",
       "}\n",
       "</style>\n",
       "<small>shape: (5, 5)</small><table border=\"1\" class=\"dataframe\"><thead><tr><th>nbr_ratings</th><th>user_id</th><th>user_name</th><th>joined</th><th>location</th></tr><tr><td>i64</td><td>i64</td><td>str</td><td>datetime[ms]</td><td>str</td></tr></thead><tbody><tr><td>1</td><td>19751</td><td>&quot;Jt77fb&quot;</td><td>2005-02-09 11:00:00</td><td>&quot;United States, Virginia&quot;</td></tr><tr><td>2</td><td>343268</td><td>&quot;Balvenie666&quot;</td><td>2014-11-06 11:00:00</td><td>&quot;Germany&quot;</td></tr><tr><td>1</td><td>319058</td><td>&quot;mikasand&quot;</td><td>2014-05-23 10:00:00</td><td>&quot;Sweden&quot;</td></tr><tr><td>5</td><td>74246</td><td>&quot;wavelength&quot;</td><td>2008-04-27 10:00:00</td><td>null</td></tr><tr><td>4</td><td>35573</td><td>&quot;rainking61&quot;</td><td>2006-04-04 10:00:00</td><td>null</td></tr></tbody></table></div>"
      ],
      "text/plain": [
       "shape: (5, 5)\n",
       "┌─────────────┬─────────┬─────────────┬─────────────────────┬─────────────────────────┐\n",
       "│ nbr_ratings ┆ user_id ┆ user_name   ┆ joined              ┆ location                │\n",
       "│ ---         ┆ ---     ┆ ---         ┆ ---                 ┆ ---                     │\n",
       "│ i64         ┆ i64     ┆ str         ┆ datetime[ms]        ┆ str                     │\n",
       "╞═════════════╪═════════╪═════════════╪═════════════════════╪═════════════════════════╡\n",
       "│ 1           ┆ 19751   ┆ Jt77fb      ┆ 2005-02-09 11:00:00 ┆ United States, Virginia │\n",
       "│ 2           ┆ 343268  ┆ Balvenie666 ┆ 2014-11-06 11:00:00 ┆ Germany                 │\n",
       "│ 1           ┆ 319058  ┆ mikasand    ┆ 2014-05-23 10:00:00 ┆ Sweden                  │\n",
       "│ 5           ┆ 74246   ┆ wavelength  ┆ 2008-04-27 10:00:00 ┆ null                    │\n",
       "│ 4           ┆ 35573   ┆ rainking61  ┆ 2006-04-04 10:00:00 ┆ null                    │\n",
       "└─────────────┴─────────┴─────────────┴─────────────────────┴─────────────────────────┘"
      ]
     },
     "execution_count": 18,
     "metadata": {},
     "output_type": "execute_result"
    }
   ],
   "source": [
    "df_users = df_users.with_columns((pl.col(\"joined\").cast(pl.Int64) * 1000).cast(pl.Datetime(\"ms\")))\n",
    "df_users.sample(5)"
   ]
  },
  {
   "cell_type": "markdown",
   "metadata": {},
   "source": [
    "The dataset has the following structure\n",
    "| Column Name | Description |\n",
    "|-------------|-------------|\n",
    "| `user_id` | Unique identifier for each user |\n",
    "| `user_name` | Username of the reviewer |\n",
    "| `joined` | Date when the user joined RateBeer |\n",
    "| `location` | Geographic location of the user |\n",
    "| `nbr_ratings` | Number of ratings submitted by the user |"
   ]
  },
  {
   "cell_type": "markdown",
   "metadata": {
    "cell_id": "a5bd90a6be2a43e5b812ee7c740c8aec",
    "deepnote_cell_type": "text-cell-p",
    "formattedRanges": []
   },
   "source": [
    "Now that we have an idea of what the features of our dataset look like, let's study the content of our dataset"
   ]
  },
  {
   "cell_type": "code",
   "execution_count": 19,
   "metadata": {
    "cell_id": "5c7c8eb2028b4f288e136310e35abe5c",
    "deepnote_cell_type": "code",
    "deepnote_to_be_reexecuted": true,
    "execution_context_id": "1d364a27-a03d-47a8-a2fb-9e0c33ba1ff6",
    "execution_millis": 0,
    "execution_start": 1731594759854,
    "source_hash": "369292e7"
   },
   "outputs": [
    {
     "name": "stdout",
     "output_type": "stream",
     "text": [
      "+-------------+------------------------------------------+------------------+---------------+-----------+-----------------------+-------------------+\n",
      "| Column      | Type                                     |   Not null count |   Nulls count |   Nulls % |   Unique values count |   Unique values % |\n",
      "|-------------+------------------------------------------+------------------+---------------+-----------+-----------------------+-------------------|\n",
      "| nbr_ratings | Int64                                    |            70174 |             0 |    0.00 % |                  2250 |            3.21 % |\n",
      "| user_id     | Int64                                    |            70174 |             0 |    0.00 % |                 70120 |           99.92 % |\n",
      "| user_name   | String                                   |            70174 |             0 |    0.00 % |                 70174 |          100.00 % |\n",
      "| joined      | Datetime(time_unit='ms', time_zone=None) |            70144 |            30 |    0.04 % |                  5960 |            8.50 % |\n",
      "| location    | String                                   |            50592 |         19582 |   27.90 % |                   223 |            0.44 % |\n",
      "+-------------+------------------------------------------+------------------+---------------+-----------+-----------------------+-------------------+\n"
     ]
    }
   ],
   "source": [
    "describe(df_users)"
   ]
  },
  {
   "cell_type": "code",
   "execution_count": 20,
   "metadata": {
    "cell_id": "59f946373d7849b2b52391bec2f6be9b",
    "deepnote_cell_type": "code",
    "deepnote_to_be_reexecuted": true,
    "execution_context_id": "1d364a27-a03d-47a8-a2fb-9e0c33ba1ff6",
    "execution_millis": 1,
    "execution_start": 1731594759906,
    "source_hash": "df1bbda8"
   },
   "outputs": [
    {
     "name": "stdout",
     "output_type": "stream",
     "text": [
      "+-------------+---------+---------+-------+-------+-------+-------+-------+\n",
      "| Column      |    Mean |     Std |   25% |   50% |   75% |   Min |   Max |\n",
      "|-------------+---------+---------+-------+-------+-------+-------+-------|\n",
      "| nbr_ratings | 108.821 | 754.493 |     1 |     2 |    10 |     1 | 46749 |\n",
      "+-------------+---------+---------+-------+-------+-------+-------+-------+\n"
     ]
    }
   ],
   "source": [
    "describe_numbers(df_users, filters=[\"user_id\", \"joined\"])"
   ]
  },
  {
   "cell_type": "markdown",
   "metadata": {
    "cell_id": "d0d2224709fe4646be0fb25e18a550d0",
    "deepnote_cell_type": "text-cell-p",
    "formattedRanges": []
   },
   "source": [
    "Strangely there are some duplicates user_ids. "
   ]
  },
  {
   "cell_type": "code",
   "execution_count": 21,
   "metadata": {
    "cell_id": "9caf868cf4b3494eaa7ec02ddcf84ac3",
    "deepnote_cell_type": "code",
    "deepnote_table_loading": false,
    "deepnote_table_state": {
     "conditionalFilters": [],
     "filters": [],
     "pageIndex": 0,
     "pageSize": 10,
     "sortBy": [],
     "wrappedTextColumnIds": []
    },
    "deepnote_to_be_reexecuted": true,
    "execution_context_id": "1d364a27-a03d-47a8-a2fb-9e0c33ba1ff6",
    "execution_millis": 1,
    "execution_start": 1731594759958,
    "source_hash": "35a36413"
   },
   "outputs": [
    {
     "data": {
      "text/html": [
       "<div><style>\n",
       ".dataframe > thead > tr,\n",
       ".dataframe > tbody > tr {\n",
       "  text-align: right;\n",
       "  white-space: pre-wrap;\n",
       "}\n",
       "</style>\n",
       "<small>shape: (60, 5)</small><table border=\"1\" class=\"dataframe\"><thead><tr><th>nbr_ratings</th><th>user_id</th><th>user_name</th><th>joined</th><th>location</th></tr><tr><td>i64</td><td>i64</td><td>str</td><td>datetime[ms]</td><td>str</td></tr></thead><tbody><tr><td>1</td><td>46797</td><td>&quot;&lt;span class=&quot;__cf_email__&quot; dat…</td><td>2006-12-19 11:00:00</td><td>&quot;United States, Arkansas&quot;</td></tr><tr><td>1</td><td>46797</td><td>&quot;&lt;span class=&quot;__cf_email__&quot; dat…</td><td>2006-12-19 11:00:00</td><td>&quot;United States, Arkansas&quot;</td></tr><tr><td>1</td><td>46797</td><td>&quot;&lt;span class=&quot;__cf_email__&quot; dat…</td><td>2006-12-19 11:00:00</td><td>&quot;United States, Arkansas&quot;</td></tr><tr><td>2</td><td>46797</td><td>&quot;&lt;span class=&quot;__cf_email__&quot; dat…</td><td>2006-12-19 11:00:00</td><td>&quot;United States, Arkansas&quot;</td></tr><tr><td>1</td><td>3070</td><td>&quot;&lt;span class=&quot;__cf_email__&quot; dat…</td><td>2002-01-26 11:00:00</td><td>&quot;United States, Ohio&quot;</td></tr><tr><td>&hellip;</td><td>&hellip;</td><td>&hellip;</td><td>&hellip;</td><td>&hellip;</td></tr><tr><td>1</td><td>46797</td><td>&quot;&lt;span class=&quot;__cf_email__&quot; dat…</td><td>2006-12-19 11:00:00</td><td>&quot;United States, Arkansas&quot;</td></tr><tr><td>1</td><td>427060</td><td>&quot;&lt;span class=&quot;__cf_email__&quot; dat…</td><td>2016-09-08 10:00:00</td><td>null</td></tr><tr><td>1</td><td>46797</td><td>&quot;&lt;span class=&quot;__cf_email__&quot; dat…</td><td>2006-12-19 11:00:00</td><td>&quot;United States, Arkansas&quot;</td></tr><tr><td>1</td><td>427060</td><td>&quot;&lt;span class=&quot;__cf_email__&quot; dat…</td><td>2016-09-08 10:00:00</td><td>null</td></tr><tr><td>1</td><td>65919</td><td>&quot;(5)&lt;/A&gt;&lt;/I&gt; - , Connecticut, U…</td><td>2007-12-16 11:00:00</td><td>&quot;United States, Connecticut&quot;</td></tr></tbody></table></div>"
      ],
      "text/plain": [
       "shape: (60, 5)\n",
       "┌─────────────┬─────────┬──────────────────────┬─────────────────────┬─────────────────────────────┐\n",
       "│ nbr_ratings ┆ user_id ┆ user_name            ┆ joined              ┆ location                    │\n",
       "│ ---         ┆ ---     ┆ ---                  ┆ ---                 ┆ ---                         │\n",
       "│ i64         ┆ i64     ┆ str                  ┆ datetime[ms]        ┆ str                         │\n",
       "╞═════════════╪═════════╪══════════════════════╪═════════════════════╪═════════════════════════════╡\n",
       "│ 1           ┆ 46797   ┆ <span                ┆ 2006-12-19 11:00:00 ┆ United States, Arkansas     │\n",
       "│             ┆         ┆ class=\"__cf_email__\" ┆                     ┆                             │\n",
       "│             ┆         ┆ dat…                 ┆                     ┆                             │\n",
       "│ 1           ┆ 46797   ┆ <span                ┆ 2006-12-19 11:00:00 ┆ United States, Arkansas     │\n",
       "│             ┆         ┆ class=\"__cf_email__\" ┆                     ┆                             │\n",
       "│             ┆         ┆ dat…                 ┆                     ┆                             │\n",
       "│ 1           ┆ 46797   ┆ <span                ┆ 2006-12-19 11:00:00 ┆ United States, Arkansas     │\n",
       "│             ┆         ┆ class=\"__cf_email__\" ┆                     ┆                             │\n",
       "│             ┆         ┆ dat…                 ┆                     ┆                             │\n",
       "│ 2           ┆ 46797   ┆ <span                ┆ 2006-12-19 11:00:00 ┆ United States, Arkansas     │\n",
       "│             ┆         ┆ class=\"__cf_email__\" ┆                     ┆                             │\n",
       "│             ┆         ┆ dat…                 ┆                     ┆                             │\n",
       "│ 1           ┆ 3070    ┆ <span                ┆ 2002-01-26 11:00:00 ┆ United States, Ohio         │\n",
       "│             ┆         ┆ class=\"__cf_email__\" ┆                     ┆                             │\n",
       "│             ┆         ┆ dat…                 ┆                     ┆                             │\n",
       "│ …           ┆ …       ┆ …                    ┆ …                   ┆ …                           │\n",
       "│ 1           ┆ 46797   ┆ <span                ┆ 2006-12-19 11:00:00 ┆ United States, Arkansas     │\n",
       "│             ┆         ┆ class=\"__cf_email__\" ┆                     ┆                             │\n",
       "│             ┆         ┆ dat…                 ┆                     ┆                             │\n",
       "│ 1           ┆ 427060  ┆ <span                ┆ 2016-09-08 10:00:00 ┆ null                        │\n",
       "│             ┆         ┆ class=\"__cf_email__\" ┆                     ┆                             │\n",
       "│             ┆         ┆ dat…                 ┆                     ┆                             │\n",
       "│ 1           ┆ 46797   ┆ <span                ┆ 2006-12-19 11:00:00 ┆ United States, Arkansas     │\n",
       "│             ┆         ┆ class=\"__cf_email__\" ┆                     ┆                             │\n",
       "│             ┆         ┆ dat…                 ┆                     ┆                             │\n",
       "│ 1           ┆ 427060  ┆ <span                ┆ 2016-09-08 10:00:00 ┆ null                        │\n",
       "│             ┆         ┆ class=\"__cf_email__\" ┆                     ┆                             │\n",
       "│             ┆         ┆ dat…                 ┆                     ┆                             │\n",
       "│ 1           ┆ 65919   ┆ (5)</A></I> - ,      ┆ 2007-12-16 11:00:00 ┆ United States, Connecticut  │\n",
       "│             ┆         ┆ Connecticut, U…      ┆                     ┆                             │\n",
       "└─────────────┴─────────┴──────────────────────┴─────────────────────┴─────────────────────────────┘"
      ]
     },
     "execution_count": 21,
     "metadata": {},
     "output_type": "execute_result"
    }
   ],
   "source": [
    "user_duplicates = df_users.filter(pl.col(\"user_id\").is_duplicated())\n",
    "user_duplicates"
   ]
  },
  {
   "cell_type": "markdown",
   "metadata": {
    "cell_id": "5ea86a9ffb144a05ac62a911dd603bef",
    "deepnote_cell_type": "text-cell-p",
    "formattedRanges": []
   },
   "source": [
    "It seems that there has been some issues in the creation of these users and their username contains some html code. Let's investigate this more"
   ]
  },
  {
   "cell_type": "code",
   "execution_count": 22,
   "metadata": {
    "cell_id": "773c6314fc3e485fbd943a5c2bc1b8da",
    "deepnote_cell_type": "code",
    "deepnote_to_be_reexecuted": true,
    "execution_context_id": "1d364a27-a03d-47a8-a2fb-9e0c33ba1ff6",
    "execution_millis": 1,
    "execution_start": 1731594760006,
    "source_hash": "4bb236f3"
   },
   "outputs": [
    {
     "data": {
      "text/html": [
       "<div><style>\n",
       ".dataframe > thead > tr,\n",
       ".dataframe > tbody > tr {\n",
       "  text-align: right;\n",
       "  white-space: pre-wrap;\n",
       "}\n",
       "</style>\n",
       "<small>shape: (71, 5)</small><table border=\"1\" class=\"dataframe\"><thead><tr><th>nbr_ratings</th><th>user_id</th><th>user_name</th><th>joined</th><th>location</th></tr><tr><td>i64</td><td>i64</td><td>str</td><td>datetime[ms]</td><td>str</td></tr></thead><tbody><tr><td>1</td><td>46797</td><td>&quot;&lt;span class=&quot;__cf_email__&quot; dat…</td><td>2006-12-19 11:00:00</td><td>&quot;United States, Arkansas&quot;</td></tr><tr><td>1</td><td>46797</td><td>&quot;&lt;span class=&quot;__cf_email__&quot; dat…</td><td>2006-12-19 11:00:00</td><td>&quot;United States, Arkansas&quot;</td></tr><tr><td>1</td><td>46797</td><td>&quot;&lt;span class=&quot;__cf_email__&quot; dat…</td><td>2006-12-19 11:00:00</td><td>&quot;United States, Arkansas&quot;</td></tr><tr><td>2</td><td>46797</td><td>&quot;&lt;span class=&quot;__cf_email__&quot; dat…</td><td>2006-12-19 11:00:00</td><td>&quot;United States, Arkansas&quot;</td></tr><tr><td>1</td><td>266696</td><td>&quot;AdrianBM ()&lt;/A&gt;&lt;/I&gt; - MEXICO -…</td><td>2013-07-01 10:00:00</td><td>&quot;Mexico&quot;</td></tr><tr><td>&hellip;</td><td>&hellip;</td><td>&hellip;</td><td>&hellip;</td><td>&hellip;</td></tr><tr><td>1</td><td>46797</td><td>&quot;&lt;span class=&quot;__cf_email__&quot; dat…</td><td>2006-12-19 11:00:00</td><td>&quot;United States, Arkansas&quot;</td></tr><tr><td>1</td><td>427060</td><td>&quot;&lt;span class=&quot;__cf_email__&quot; dat…</td><td>2016-09-08 10:00:00</td><td>null</td></tr><tr><td>1</td><td>46797</td><td>&quot;&lt;span class=&quot;__cf_email__&quot; dat…</td><td>2006-12-19 11:00:00</td><td>&quot;United States, Arkansas&quot;</td></tr><tr><td>1</td><td>427060</td><td>&quot;&lt;span class=&quot;__cf_email__&quot; dat…</td><td>2016-09-08 10:00:00</td><td>null</td></tr><tr><td>1</td><td>65919</td><td>&quot;(5)&lt;/A&gt;&lt;/I&gt; - , Connecticut, U…</td><td>2007-12-16 11:00:00</td><td>&quot;United States, Connecticut&quot;</td></tr></tbody></table></div>"
      ],
      "text/plain": [
       "shape: (71, 5)\n",
       "┌─────────────┬─────────┬──────────────────────────┬─────────────────────┬─────────────────────────┐\n",
       "│ nbr_ratings ┆ user_id ┆ user_name                ┆ joined              ┆ location                │\n",
       "│ ---         ┆ ---     ┆ ---                      ┆ ---                 ┆ ---                     │\n",
       "│ i64         ┆ i64     ┆ str                      ┆ datetime[ms]        ┆ str                     │\n",
       "╞═════════════╪═════════╪══════════════════════════╪═════════════════════╪═════════════════════════╡\n",
       "│ 1           ┆ 46797   ┆ <span                    ┆ 2006-12-19 11:00:00 ┆ United States, Arkansas │\n",
       "│             ┆         ┆ class=\"__cf_email__\"     ┆                     ┆                         │\n",
       "│             ┆         ┆ dat…                     ┆                     ┆                         │\n",
       "│ 1           ┆ 46797   ┆ <span                    ┆ 2006-12-19 11:00:00 ┆ United States, Arkansas │\n",
       "│             ┆         ┆ class=\"__cf_email__\"     ┆                     ┆                         │\n",
       "│             ┆         ┆ dat…                     ┆                     ┆                         │\n",
       "│ 1           ┆ 46797   ┆ <span                    ┆ 2006-12-19 11:00:00 ┆ United States, Arkansas │\n",
       "│             ┆         ┆ class=\"__cf_email__\"     ┆                     ┆                         │\n",
       "│             ┆         ┆ dat…                     ┆                     ┆                         │\n",
       "│ 2           ┆ 46797   ┆ <span                    ┆ 2006-12-19 11:00:00 ┆ United States, Arkansas │\n",
       "│             ┆         ┆ class=\"__cf_email__\"     ┆                     ┆                         │\n",
       "│             ┆         ┆ dat…                     ┆                     ┆                         │\n",
       "│ 1           ┆ 266696  ┆ AdrianBM ()</A></I> -    ┆ 2013-07-01 10:00:00 ┆ Mexico                  │\n",
       "│             ┆         ┆ MEXICO -…                ┆                     ┆                         │\n",
       "│ …           ┆ …       ┆ …                        ┆ …                   ┆ …                       │\n",
       "│ 1           ┆ 46797   ┆ <span                    ┆ 2006-12-19 11:00:00 ┆ United States, Arkansas │\n",
       "│             ┆         ┆ class=\"__cf_email__\"     ┆                     ┆                         │\n",
       "│             ┆         ┆ dat…                     ┆                     ┆                         │\n",
       "│ 1           ┆ 427060  ┆ <span                    ┆ 2016-09-08 10:00:00 ┆ null                    │\n",
       "│             ┆         ┆ class=\"__cf_email__\"     ┆                     ┆                         │\n",
       "│             ┆         ┆ dat…                     ┆                     ┆                         │\n",
       "│ 1           ┆ 46797   ┆ <span                    ┆ 2006-12-19 11:00:00 ┆ United States, Arkansas │\n",
       "│             ┆         ┆ class=\"__cf_email__\"     ┆                     ┆                         │\n",
       "│             ┆         ┆ dat…                     ┆                     ┆                         │\n",
       "│ 1           ┆ 427060  ┆ <span                    ┆ 2016-09-08 10:00:00 ┆ null                    │\n",
       "│             ┆         ┆ class=\"__cf_email__\"     ┆                     ┆                         │\n",
       "│             ┆         ┆ dat…                     ┆                     ┆                         │\n",
       "│ 1           ┆ 65919   ┆ (5)</A></I> - ,          ┆ 2007-12-16 11:00:00 ┆ United States,          │\n",
       "│             ┆         ┆ Connecticut, U…          ┆                     ┆ Connecticut             │\n",
       "└─────────────┴─────────┴──────────────────────────┴─────────────────────┴─────────────────────────┘"
      ]
     },
     "execution_count": 22,
     "metadata": {},
     "output_type": "execute_result"
    }
   ],
   "source": [
    "strange_users = df_users.filter(pl.col(\"user_name\").str.contains(\"<\"))\n",
    "strange_users"
   ]
  },
  {
   "cell_type": "code",
   "execution_count": 23,
   "metadata": {
    "cell_id": "c7ba48adb14a4a86a58e4ad5c45ffc9b",
    "deepnote_cell_type": "code",
    "deepnote_to_be_reexecuted": true,
    "execution_context_id": "1d364a27-a03d-47a8-a2fb-9e0c33ba1ff6",
    "execution_millis": 0,
    "execution_start": 1731594760054,
    "source_hash": "b4706f86"
   },
   "outputs": [
    {
     "data": {
      "text/html": [
       "<div><style>\n",
       ".dataframe > thead > tr,\n",
       ".dataframe > tbody > tr {\n",
       "  text-align: right;\n",
       "  white-space: pre-wrap;\n",
       "}\n",
       "</style>\n",
       "<small>shape: (57, 5)</small><table border=\"1\" class=\"dataframe\"><thead><tr><th>nbr_ratings</th><th>user_id</th><th>user_name</th><th>joined</th><th>location</th></tr><tr><td>i64</td><td>i64</td><td>str</td><td>datetime[ms]</td><td>str</td></tr></thead><tbody><tr><td>1</td><td>46797</td><td>&quot;&lt;span class=&quot;__cf_email__&quot; dat…</td><td>2006-12-19 11:00:00</td><td>&quot;United States, Arkansas&quot;</td></tr><tr><td>1</td><td>46797</td><td>&quot;&lt;span class=&quot;__cf_email__&quot; dat…</td><td>2006-12-19 11:00:00</td><td>&quot;United States, Arkansas&quot;</td></tr><tr><td>1</td><td>46797</td><td>&quot;&lt;span class=&quot;__cf_email__&quot; dat…</td><td>2006-12-19 11:00:00</td><td>&quot;United States, Arkansas&quot;</td></tr><tr><td>2</td><td>46797</td><td>&quot;&lt;span class=&quot;__cf_email__&quot; dat…</td><td>2006-12-19 11:00:00</td><td>&quot;United States, Arkansas&quot;</td></tr><tr><td>1</td><td>3070</td><td>&quot;&lt;span class=&quot;__cf_email__&quot; dat…</td><td>2002-01-26 11:00:00</td><td>&quot;United States, Ohio&quot;</td></tr><tr><td>&hellip;</td><td>&hellip;</td><td>&hellip;</td><td>&hellip;</td><td>&hellip;</td></tr><tr><td>1</td><td>427060</td><td>&quot;&lt;span class=&quot;__cf_email__&quot; dat…</td><td>2016-09-08 10:00:00</td><td>null</td></tr><tr><td>1</td><td>46797</td><td>&quot;&lt;span class=&quot;__cf_email__&quot; dat…</td><td>2006-12-19 11:00:00</td><td>&quot;United States, Arkansas&quot;</td></tr><tr><td>1</td><td>427060</td><td>&quot;&lt;span class=&quot;__cf_email__&quot; dat…</td><td>2016-09-08 10:00:00</td><td>null</td></tr><tr><td>1</td><td>46797</td><td>&quot;&lt;span class=&quot;__cf_email__&quot; dat…</td><td>2006-12-19 11:00:00</td><td>&quot;United States, Arkansas&quot;</td></tr><tr><td>1</td><td>427060</td><td>&quot;&lt;span class=&quot;__cf_email__&quot; dat…</td><td>2016-09-08 10:00:00</td><td>null</td></tr></tbody></table></div>"
      ],
      "text/plain": [
       "shape: (57, 5)\n",
       "┌─────────────┬─────────┬──────────────────────┬─────────────────────┬─────────────────────────┐\n",
       "│ nbr_ratings ┆ user_id ┆ user_name            ┆ joined              ┆ location                │\n",
       "│ ---         ┆ ---     ┆ ---                  ┆ ---                 ┆ ---                     │\n",
       "│ i64         ┆ i64     ┆ str                  ┆ datetime[ms]        ┆ str                     │\n",
       "╞═════════════╪═════════╪══════════════════════╪═════════════════════╪═════════════════════════╡\n",
       "│ 1           ┆ 46797   ┆ <span                ┆ 2006-12-19 11:00:00 ┆ United States, Arkansas │\n",
       "│             ┆         ┆ class=\"__cf_email__\" ┆                     ┆                         │\n",
       "│             ┆         ┆ dat…                 ┆                     ┆                         │\n",
       "│ 1           ┆ 46797   ┆ <span                ┆ 2006-12-19 11:00:00 ┆ United States, Arkansas │\n",
       "│             ┆         ┆ class=\"__cf_email__\" ┆                     ┆                         │\n",
       "│             ┆         ┆ dat…                 ┆                     ┆                         │\n",
       "│ 1           ┆ 46797   ┆ <span                ┆ 2006-12-19 11:00:00 ┆ United States, Arkansas │\n",
       "│             ┆         ┆ class=\"__cf_email__\" ┆                     ┆                         │\n",
       "│             ┆         ┆ dat…                 ┆                     ┆                         │\n",
       "│ 2           ┆ 46797   ┆ <span                ┆ 2006-12-19 11:00:00 ┆ United States, Arkansas │\n",
       "│             ┆         ┆ class=\"__cf_email__\" ┆                     ┆                         │\n",
       "│             ┆         ┆ dat…                 ┆                     ┆                         │\n",
       "│ 1           ┆ 3070    ┆ <span                ┆ 2002-01-26 11:00:00 ┆ United States, Ohio     │\n",
       "│             ┆         ┆ class=\"__cf_email__\" ┆                     ┆                         │\n",
       "│             ┆         ┆ dat…                 ┆                     ┆                         │\n",
       "│ …           ┆ …       ┆ …                    ┆ …                   ┆ …                       │\n",
       "│ 1           ┆ 427060  ┆ <span                ┆ 2016-09-08 10:00:00 ┆ null                    │\n",
       "│             ┆         ┆ class=\"__cf_email__\" ┆                     ┆                         │\n",
       "│             ┆         ┆ dat…                 ┆                     ┆                         │\n",
       "│ 1           ┆ 46797   ┆ <span                ┆ 2006-12-19 11:00:00 ┆ United States, Arkansas │\n",
       "│             ┆         ┆ class=\"__cf_email__\" ┆                     ┆                         │\n",
       "│             ┆         ┆ dat…                 ┆                     ┆                         │\n",
       "│ 1           ┆ 427060  ┆ <span                ┆ 2016-09-08 10:00:00 ┆ null                    │\n",
       "│             ┆         ┆ class=\"__cf_email__\" ┆                     ┆                         │\n",
       "│             ┆         ┆ dat…                 ┆                     ┆                         │\n",
       "│ 1           ┆ 46797   ┆ <span                ┆ 2006-12-19 11:00:00 ┆ United States, Arkansas │\n",
       "│             ┆         ┆ class=\"__cf_email__\" ┆                     ┆                         │\n",
       "│             ┆         ┆ dat…                 ┆                     ┆                         │\n",
       "│ 1           ┆ 427060  ┆ <span                ┆ 2016-09-08 10:00:00 ┆ null                    │\n",
       "│             ┆         ┆ class=\"__cf_email__\" ┆                     ┆                         │\n",
       "│             ┆         ┆ dat…                 ┆                     ┆                         │\n",
       "└─────────────┴─────────┴──────────────────────┴─────────────────────┴─────────────────────────┘"
      ]
     },
     "execution_count": 23,
     "metadata": {},
     "output_type": "execute_result"
    }
   ],
   "source": [
    "strange_users_duplicates = user_duplicates.filter(pl.col(\"user_name\").str.contains(\"span\"))\n",
    "strange_users_duplicates"
   ]
  },
  {
   "cell_type": "markdown",
   "metadata": {
    "cell_id": "42efbb9f87aa4bc18ebf1680adf926fe",
    "deepnote_cell_type": "text-cell-p",
    "formattedRanges": []
   },
   "source": [
    "We see that the two subgroups of users (the ones with duplicated id and a bad formatted username) are almost the same. For this reason we'll drop them since there has been most likely an issue in the creation of their account or in the scraping of the data."
   ]
  },
  {
   "cell_type": "code",
   "execution_count": 24,
   "metadata": {
    "cell_id": "34a8510edcfb48369b241b9d8b158bbf",
    "deepnote_cell_type": "code",
    "deepnote_to_be_reexecuted": true,
    "execution_context_id": "1d364a27-a03d-47a8-a2fb-9e0c33ba1ff6",
    "execution_millis": 0,
    "execution_start": 1731594760106,
    "source_hash": "a8c9add6"
   },
   "outputs": [],
   "source": [
    "duplicates_ids = user_duplicates.select(\"user_id\").unique()\n",
    "strange_ids = strange_users.select(\"user_id\").unique()\n",
    "user_ids_remove = pl.concat([duplicates_ids, strange_ids]).unique(subset=\"user_id\")[\"user_id\"].to_list()\n",
    "df_users = df_users.filter(~pl.col(\"user_id\").is_in(user_ids_remove))"
   ]
  },
  {
   "cell_type": "markdown",
   "metadata": {
    "cell_id": "31e00bbe7c1444eca575c6cc8f4d2412",
    "deepnote_cell_type": "markdown"
   },
   "source": [
    "##### Ratings"
   ]
  },
  {
   "cell_type": "code",
   "execution_count": 25,
   "metadata": {
    "cell_id": "66863cb87f5d4c9181df16998544b2a6",
    "deepnote_cell_type": "code",
    "deepnote_to_be_reexecuted": true,
    "execution_context_id": "1d364a27-a03d-47a8-a2fb-9e0c33ba1ff6",
    "execution_millis": 0,
    "execution_start": 1731594760970,
    "source_hash": "7a3e00c7"
   },
   "outputs": [
    {
     "data": {
      "text/html": [
       "<div><style>\n",
       ".dataframe > thead > tr,\n",
       ".dataframe > tbody > tr {\n",
       "  text-align: right;\n",
       "  white-space: pre-wrap;\n",
       "}\n",
       "</style>\n",
       "<small>shape: (5, 16)</small><table border=\"1\" class=\"dataframe\"><thead><tr><th>rating</th><th>palate</th><th>abv</th><th>beer_id</th><th>beer_name</th><th>user_id</th><th>taste</th><th>date</th><th>style</th><th>appearance</th><th>overall</th><th>brewery_name</th><th>text</th><th>aroma</th><th>user_name</th><th>brewery_id</th></tr><tr><td>f64</td><td>f64</td><td>f64</td><td>i64</td><td>str</td><td>i64</td><td>f64</td><td>datetime[μs]</td><td>str</td><td>f64</td><td>f64</td><td>str</td><td>str</td><td>f64</td><td>str</td><td>i64</td></tr></thead><tbody><tr><td>3.1</td><td>3.0</td><td>7.5</td><td>4492</td><td>&quot;Great Lakes Christmas Ale&quot;</td><td>119110</td><td>6.0</td><td>2012-12-21 12:00:00</td><td>&quot;Spice/Herb/Vegetable&quot;</td><td>3.0</td><td>12.0</td><td>&quot;Great Lakes Brewing &amp;#40;Ohio&amp;…</td><td>&quot;Bottle. Aroma of honey, nutmeg…</td><td>7.0</td><td>&quot;beerme31&quot;</td><td>205</td></tr><tr><td>2.9</td><td>3.0</td><td>5.0</td><td>176548</td><td>&quot;Scottish Pale Ale&quot;</td><td>91218</td><td>6.0</td><td>2014-09-30 12:00:00</td><td>&quot;Bitter&quot;</td><td>2.0</td><td>12.0</td><td>&quot;Isle of Skye&quot;</td><td>&quot;Bottle, 5%. Hazy pale yellow w…</td><td>6.0</td><td>&quot;chrisv10&quot;</td><td>209</td></tr><tr><td>3.9</td><td>4.0</td><td>6.5</td><td>16</td><td>&quot;Alaskan Smoked Porter&quot;</td><td>5855</td><td>8.0</td><td>2012-04-01 12:00:00</td><td>&quot;Smoked&quot;</td><td>4.0</td><td>15.0</td><td>&quot;Alaskan Brewing Company&quot;</td><td>&quot;2010 Edition: A deep dark port…</td><td>8.0</td><td>&quot;Lubiere&quot;</td><td>4</td></tr><tr><td>2.5</td><td>3.0</td><td>4.4</td><td>49924</td><td>&quot;Milestone Crusader&quot;</td><td>36974</td><td>5.0</td><td>2008-10-09 12:00:00</td><td>&quot;Golden Ale/Blond Ale&quot;</td><td>3.0</td><td>10.0</td><td>&quot;Milestone&quot;</td><td>&quot;Live from Knickersby Spoons. B…</td><td>4.0</td><td>&quot;DruncanVeasey&quot;</td><td>5598</td></tr><tr><td>3.5</td><td>2.0</td><td>10.03</td><td>149683</td><td>&quot;BFM / Terrapin Spike &amp; Jérôme…</td><td>97827</td><td>8.0</td><td>2012-05-07 12:00:00</td><td>&quot;Barley Wine&quot;</td><td>4.0</td><td>14.0</td><td>&quot;BFM (Brasserie des Franches-Mo…</td><td>&quot;33cl swing-top.It pours a dark…</td><td>7.0</td><td>&quot;crossovert&quot;</td><td>1063</td></tr></tbody></table></div>"
      ],
      "text/plain": [
       "shape: (5, 16)\n",
       "┌────────┬────────┬───────┬─────────┬───┬─────────────────────┬───────┬───────────────┬────────────┐\n",
       "│ rating ┆ palate ┆ abv   ┆ beer_id ┆ … ┆ text                ┆ aroma ┆ user_name     ┆ brewery_id │\n",
       "│ ---    ┆ ---    ┆ ---   ┆ ---     ┆   ┆ ---                 ┆ ---   ┆ ---           ┆ ---        │\n",
       "│ f64    ┆ f64    ┆ f64   ┆ i64     ┆   ┆ str                 ┆ f64   ┆ str           ┆ i64        │\n",
       "╞════════╪════════╪═══════╪═════════╪═══╪═════════════════════╪═══════╪═══════════════╪════════════╡\n",
       "│ 3.1    ┆ 3.0    ┆ 7.5   ┆ 4492    ┆ … ┆ Bottle. Aroma of    ┆ 7.0   ┆ beerme31      ┆ 205        │\n",
       "│        ┆        ┆       ┆         ┆   ┆ honey, nutmeg…      ┆       ┆               ┆            │\n",
       "│ 2.9    ┆ 3.0    ┆ 5.0   ┆ 176548  ┆ … ┆ Bottle, 5%. Hazy    ┆ 6.0   ┆ chrisv10      ┆ 209        │\n",
       "│        ┆        ┆       ┆         ┆   ┆ pale yellow w…      ┆       ┆               ┆            │\n",
       "│ 3.9    ┆ 4.0    ┆ 6.5   ┆ 16      ┆ … ┆ 2010 Edition: A     ┆ 8.0   ┆ Lubiere       ┆ 4          │\n",
       "│        ┆        ┆       ┆         ┆   ┆ deep dark port…     ┆       ┆               ┆            │\n",
       "│ 2.5    ┆ 3.0    ┆ 4.4   ┆ 49924   ┆ … ┆ Live from           ┆ 4.0   ┆ DruncanVeasey ┆ 5598       │\n",
       "│        ┆        ┆       ┆         ┆   ┆ Knickersby Spoons.  ┆       ┆               ┆            │\n",
       "│        ┆        ┆       ┆         ┆   ┆ B…                  ┆       ┆               ┆            │\n",
       "│ 3.5    ┆ 2.0    ┆ 10.03 ┆ 149683  ┆ … ┆ 33cl swing-top.It   ┆ 7.0   ┆ crossovert    ┆ 1063       │\n",
       "│        ┆        ┆       ┆         ┆   ┆ pours a dark…       ┆       ┆               ┆            │\n",
       "└────────┴────────┴───────┴─────────┴───┴─────────────────────┴───────┴───────────────┴────────────┘"
      ]
     },
     "execution_count": 25,
     "metadata": {},
     "output_type": "execute_result"
    }
   ],
   "source": [
    "df_ratings.sample(5)"
   ]
  },
  {
   "cell_type": "markdown",
   "metadata": {},
   "source": [
    "The dataset has the following structure\n",
    "| Column Name | Description \n",
    "|-------------|-------------|\n",
    "| `ratings` | Global rating of the beer from the user (computed from all the other grades) |\n",
    "| `palate` | Rating of the palate of the beer |\n",
    "| `abv` | Alcohol By Volume percentage of the beer |\n",
    "| `beer_id` | Unique identifier for each beer |\n",
    "| `beer_name` | Name of the beer |\n",
    "| `user_id` | Unique identifier for each user |\n",
    "| `taste` | Rating of the taste of the beer |\n",
    "| `date` | Date when the review was submitted |\n",
    "| `style` | Style or category of the beer (e.g., IPA, Stout, Lager) |\n",
    "| `appearance` | Rating of the appearance of the beer |\n",
    "| `overall` | Overall rating of the beer |\n",
    "| `brewery_name` | Name of the brewery that produced the beer |\n",
    "| `text` | Textual review of the beer |\n",
    "| `aroma` | Rating of the aroma of the beer |\n",
    "| `user_name` | Username of the reviewer |\n",
    "| `brewery_id` | Unique identifier for the brewery that produced the beer |"
   ]
  },
  {
   "cell_type": "markdown",
   "metadata": {
    "cell_id": "04145f058957460eac03ac383454cb9a",
    "deepnote_cell_type": "text-cell-p",
    "formattedRanges": []
   },
   "source": [
    "Since this dataset includes data from the breweries dataset, users dataset and beers dataset but we have modified them let's clean the reviews whose user_id, beer_id or brewery_id is not present in the respective datasets."
   ]
  },
  {
   "cell_type": "code",
   "execution_count": 26,
   "metadata": {
    "cell_id": "44543c6dd1ee4eb5a1f69d13850761d2",
    "deepnote_cell_type": "code",
    "deepnote_to_be_reexecuted": true,
    "execution_context_id": "1d364a27-a03d-47a8-a2fb-9e0c33ba1ff6",
    "execution_millis": 266,
    "execution_start": 1731594761022,
    "source_hash": "942193ec"
   },
   "outputs": [],
   "source": [
    "# Do a remapping of the breweries ids\n",
    "df_ratings = df_ratings.with_columns(pl.col(\"brewery_id\").replace(mapping))\n",
    "\n",
    "# Select the ids of the beers, users and breweries\n",
    "beer_ids = df_beers.select(\"beer_id\")\n",
    "user_ids = df_users.select(\"user_id\")\n",
    "brewery_ids = df_breweries.select(\"id\")\n",
    "\n",
    "# Filter out the ratings where the beer_id, user_id or brewery_id is not in the respective dataset\n",
    "df_ratings = df_ratings.filter(pl.col(\"beer_id\").is_in(beer_ids[\"beer_id\"]))\n",
    "df_ratings = df_ratings.filter(pl.col(\"user_id\").is_in(user_ids[\"user_id\"]))\n",
    "df_ratings = df_ratings.filter(pl.col(\"brewery_id\").is_in(brewery_ids[\"id\"]))"
   ]
  },
  {
   "cell_type": "markdown",
   "metadata": {
    "cell_id": "df3c207b96a24ac6b55760319217530f",
    "deepnote_cell_type": "markdown"
   },
   "source": [
    "Since we have removed some ratings we need to recompute the number of reviews for each user and the number of reviews for each beer. We'll do this later in the notebook."
   ]
  },
  {
   "cell_type": "code",
   "execution_count": 27,
   "metadata": {
    "cell_id": "af6ca4b6f65d43b781319ce5868eaae0",
    "deepnote_cell_type": "code",
    "deepnote_to_be_reexecuted": true,
    "execution_context_id": "1d364a27-a03d-47a8-a2fb-9e0c33ba1ff6",
    "execution_millis": 1328,
    "execution_start": 1731594761334,
    "source_hash": "aaf3fd63"
   },
   "outputs": [
    {
     "name": "stdout",
     "output_type": "stream",
     "text": [
      "+--------------+------------------------------------------+------------------+---------------+-----------+-----------------------+-------------------+\n",
      "| Column       | Type                                     |   Not null count |   Nulls count |   Nulls % |   Unique values count |   Unique values % |\n",
      "|--------------+------------------------------------------+------------------+---------------+-----------+-----------------------+-------------------|\n",
      "| rating       | Float64                                  |          7120381 |             0 |    0.00 % |                    46 |            0.00 % |\n",
      "| palate       | Float64                                  |          7120381 |             0 |    0.00 % |                     5 |            0.00 % |\n",
      "| abv          | Float64                                  |          6945449 |        174932 |    2.46 % |                   862 |            0.01 % |\n",
      "| beer_id      | Int64                                    |          7120381 |             0 |    0.00 % |                396405 |            5.57 % |\n",
      "| beer_name    | String                                   |          7120381 |             0 |    0.00 % |                396255 |            5.57 % |\n",
      "| user_id      | Int64                                    |          7120381 |             0 |    0.00 % |                 70097 |            0.98 % |\n",
      "| taste        | Float64                                  |          7120381 |             0 |    0.00 % |                    10 |            0.00 % |\n",
      "| date         | Datetime(time_unit='us', time_zone=None) |          7120381 |             0 |    0.00 % |                  6271 |            0.09 % |\n",
      "| style        | String                                   |          7120381 |             0 |    0.00 % |                    93 |            0.00 % |\n",
      "| appearance   | Float64                                  |          7120381 |             0 |    0.00 % |                     5 |            0.00 % |\n",
      "| overall      | Float64                                  |          7120381 |             0 |    0.00 % |                    20 |            0.00 % |\n",
      "| brewery_name | String                                   |          7120381 |             0 |    0.00 % |                 21813 |            0.31 % |\n",
      "| text         | String                                   |          7120381 |             0 |    0.00 % |               7092422 |           99.61 % |\n",
      "| aroma        | Float64                                  |          7120381 |             0 |    0.00 % |                    10 |            0.00 % |\n",
      "| user_name    | String                                   |          7120381 |             0 |    0.00 % |                 70097 |            0.98 % |\n",
      "| brewery_id   | Int64                                    |          7120381 |             0 |    0.00 % |                 21824 |            0.31 % |\n",
      "+--------------+------------------------------------------+------------------+---------------+-----------+-----------------------+-------------------+\n"
     ]
    }
   ],
   "source": [
    "describe(df_ratings)"
   ]
  },
  {
   "cell_type": "code",
   "execution_count": 28,
   "metadata": {
    "cell_id": "a00b49e3b50348cfa7ccdac36127b714",
    "deepnote_cell_type": "code",
    "deepnote_to_be_reexecuted": true,
    "execution_context_id": "1d364a27-a03d-47a8-a2fb-9e0c33ba1ff6",
    "execution_millis": 1353,
    "execution_start": 1731594762714,
    "source_hash": "fc9df9c4"
   },
   "outputs": [
    {
     "name": "stdout",
     "output_type": "stream",
     "text": [
      "+------------+---------+----------+-------+-------+-------+-------+-------+\n",
      "| Column     |    Mean |      Std |   25% |   50% |   75% |   Min |   Max |\n",
      "|------------+---------+----------+-------+-------+-------+-------+-------|\n",
      "| rating     | 3.28556 | 0.686496 |     3 |   3.4 |   3.7 |   0.5 |     5 |\n",
      "| palate     | 3.28472 | 0.796805 |     3 |     3 |     4 |     1 |     5 |\n",
      "| abv        | 6.50365 |  2.15749 |     5 |     6 |   7.7 |  0.01 |  57.7 |\n",
      "| taste      | 6.49668 |  1.53813 |     6 |     7 |     7 |     1 |    10 |\n",
      "| appearance | 3.44041 | 0.773787 |     3 |     3 |     4 |     1 |     5 |\n",
      "| overall    | 13.2154 |  3.15212 |    12 |    14 |    15 |     1 |    20 |\n",
      "| aroma      | 6.41841 |  1.53867 |     6 |     7 |     7 |     1 |    10 |\n",
      "+------------+---------+----------+-------+-------+-------+-------+-------+\n"
     ]
    }
   ],
   "source": [
    "describe_numbers(df_ratings, filters=[\"beer_id\", \"user_id\", \"brewery_id\"])"
   ]
  },
  {
   "cell_type": "markdown",
   "metadata": {
    "cell_id": "494c2a01f8b74696a5fc7f2595a3b24a",
    "deepnote_cell_type": "markdown"
   },
   "source": [
    "## Data cleaning and saving\n",
    "Now that we have done some preliminary analysis on the data we will modify some of the datasets to make them more suitable for our analysis. We will also save the datasets in parquet format with the correct data types for faster loading in the future.\n",
    "##### Users dataset\n",
    "The dataset is already clean and processed, we just need to save it in parquet format"
   ]
  },
  {
   "cell_type": "code",
   "execution_count": 29,
   "metadata": {
    "cell_id": "a61b7e83292a4f61aa417718229bc436",
    "deepnote_cell_type": "code",
    "deepnote_to_be_reexecuted": true,
    "execution_context_id": "1d364a27-a03d-47a8-a2fb-9e0c33ba1ff6",
    "execution_millis": 0,
    "execution_start": 1731594764114,
    "source_hash": "901554e4"
   },
   "outputs": [],
   "source": [
    "# In the process we are going to lose all users without a rating\n",
    "number_of_ratings = df_ratings.group_by(\"user_id\").agg(pl.col(\"rating\").count().alias(\"number_of_ratings\").cast(pl.Int32))\n",
    "df_users = df_users.join(number_of_ratings, on=\"user_id\", how=\"inner\")\n",
    "df_users = df_users.drop(\"nbr_ratings\")\n",
    "\n",
    "# Write the cleaned datasets to parquet\n",
    "df_users.write_parquet(f\"{DST_DATA_PATH}/users.pq\")"
   ]
  },
  {
   "cell_type": "code",
   "execution_count": 30,
   "metadata": {},
   "outputs": [
    {
     "data": {
      "text/html": [
       "<div><style>\n",
       ".dataframe > thead > tr,\n",
       ".dataframe > tbody > tr {\n",
       "  text-align: right;\n",
       "  white-space: pre-wrap;\n",
       "}\n",
       "</style>\n",
       "<small>shape: (5, 5)</small><table border=\"1\" class=\"dataframe\"><thead><tr><th>user_id</th><th>user_name</th><th>joined</th><th>location</th><th>number_of_ratings</th></tr><tr><td>i64</td><td>str</td><td>datetime[ms]</td><td>str</td><td>i32</td></tr></thead><tbody><tr><td>340035</td><td>&quot;Ludo90210&quot;</td><td>2014-10-17 10:00:00</td><td>null</td><td>2</td></tr><tr><td>326241</td><td>&quot;J4ME54&quot;</td><td>2014-07-14 10:00:00</td><td>null</td><td>2</td></tr><tr><td>19582</td><td>&quot;jgseley&quot;</td><td>2005-02-03 11:00:00</td><td>&quot;United States, California&quot;</td><td>7</td></tr><tr><td>9015</td><td>&quot;nHeavenNoBier&quot;</td><td>2003-10-07 10:00:00</td><td>null</td><td>2</td></tr><tr><td>3623</td><td>&quot;adamburb99&quot;</td><td>2002-03-04 11:00:00</td><td>&quot;United States, New York&quot;</td><td>6</td></tr></tbody></table></div>"
      ],
      "text/plain": [
       "shape: (5, 5)\n",
       "┌─────────┬───────────────┬─────────────────────┬───────────────────────────┬───────────────────┐\n",
       "│ user_id ┆ user_name     ┆ joined              ┆ location                  ┆ number_of_ratings │\n",
       "│ ---     ┆ ---           ┆ ---                 ┆ ---                       ┆ ---               │\n",
       "│ i64     ┆ str           ┆ datetime[ms]        ┆ str                       ┆ i32               │\n",
       "╞═════════╪═══════════════╪═════════════════════╪═══════════════════════════╪═══════════════════╡\n",
       "│ 340035  ┆ Ludo90210     ┆ 2014-10-17 10:00:00 ┆ null                      ┆ 2                 │\n",
       "│ 326241  ┆ J4ME54        ┆ 2014-07-14 10:00:00 ┆ null                      ┆ 2                 │\n",
       "│ 19582   ┆ jgseley       ┆ 2005-02-03 11:00:00 ┆ United States, California ┆ 7                 │\n",
       "│ 9015    ┆ nHeavenNoBier ┆ 2003-10-07 10:00:00 ┆ null                      ┆ 2                 │\n",
       "│ 3623    ┆ adamburb99    ┆ 2002-03-04 11:00:00 ┆ United States, New York   ┆ 6                 │\n",
       "└─────────┴───────────────┴─────────────────────┴───────────────────────────┴───────────────────┘"
      ]
     },
     "execution_count": 30,
     "metadata": {},
     "output_type": "execute_result"
    }
   ],
   "source": [
    "df_users.sample(5)"
   ]
  },
  {
   "cell_type": "code",
   "execution_count": 31,
   "metadata": {},
   "outputs": [
    {
     "name": "stdout",
     "output_type": "stream",
     "text": [
      "+-------------------+------------------------------------------+------------------+---------------+-----------+-----------------------+-------------------+\n",
      "| Column            | Type                                     |   Not null count |   Nulls count |   Nulls % |   Unique values count |   Unique values % |\n",
      "|-------------------+------------------------------------------+------------------+---------------+-----------+-----------------------+-------------------|\n",
      "| user_id           | Int64                                    |            70097 |             0 |    0.00 % |                 70097 |          100.00 % |\n",
      "| user_name         | String                                   |            70097 |             0 |    0.00 % |                 70097 |          100.00 % |\n",
      "| joined            | Datetime(time_unit='ms', time_zone=None) |            70067 |            30 |    0.04 % |                  5960 |            8.51 % |\n",
      "| location          | String                                   |            50526 |         19571 |   27.92 % |                   223 |            0.44 % |\n",
      "| number_of_ratings | Int32                                    |            70097 |             0 |    0.00 % |                  2198 |            3.14 % |\n",
      "+-------------------+------------------------------------------+------------------+---------------+-----------+-----------------------+-------------------+\n"
     ]
    }
   ],
   "source": [
    "describe(df_users)"
   ]
  },
  {
   "cell_type": "code",
   "execution_count": 32,
   "metadata": {},
   "outputs": [
    {
     "name": "stdout",
     "output_type": "stream",
     "text": [
      "+-------------------+---------+---------+-------+-------+-------+-------+-------+\n",
      "| Column            |    Mean |     Std |   25% |   50% |   75% |   Min |   Max |\n",
      "|-------------------+---------+---------+-------+-------+-------+-------+-------|\n",
      "| number_of_ratings | 101.579 | 703.595 |     1 |     2 |     9 |     1 | 43239 |\n",
      "+-------------------+---------+---------+-------+-------+-------+-------+-------+\n"
     ]
    }
   ],
   "source": [
    "describe_numbers(df_users, filters=[\"user_id\"])"
   ]
  },
  {
   "cell_type": "markdown",
   "metadata": {
    "cell_id": "afebd41a9c39448fab64d3f799c8cccd",
    "deepnote_cell_type": "markdown"
   },
   "source": [
    "##### Breweries dataset\n",
    "The dataset is already clean and processed, we just need to save it in parquet format"
   ]
  },
  {
   "cell_type": "code",
   "execution_count": 33,
   "metadata": {
    "cell_id": "cb4e6eab712e48f197dd99cc1cb356a6",
    "deepnote_cell_type": "code",
    "deepnote_to_be_reexecuted": true,
    "execution_context_id": "1d364a27-a03d-47a8-a2fb-9e0c33ba1ff6",
    "execution_millis": 0,
    "execution_start": 1731594764162,
    "source_hash": "18466b53"
   },
   "outputs": [],
   "source": [
    "df_breweries.write_parquet(f\"{DST_DATA_PATH}/breweries.pq\")"
   ]
  },
  {
   "cell_type": "code",
   "execution_count": 34,
   "metadata": {},
   "outputs": [
    {
     "data": {
      "text/html": [
       "<div><style>\n",
       ".dataframe > thead > tr,\n",
       ".dataframe > tbody > tr {\n",
       "  text-align: right;\n",
       "  white-space: pre-wrap;\n",
       "}\n",
       "</style>\n",
       "<small>shape: (5, 4)</small><table border=\"1\" class=\"dataframe\"><thead><tr><th>id</th><th>location</th><th>name</th><th>beers_count</th></tr><tr><td>i64</td><td>str</td><td>str</td><td>i32</td></tr></thead><tbody><tr><td>29721</td><td>&quot;Ireland&quot;</td><td>&quot;The Hyland Brewing Company&quot;</td><td>2</td></tr><tr><td>19582</td><td>&quot;England&quot;</td><td>&quot;Lady Luck&quot;</td><td>2</td></tr><tr><td>13606</td><td>&quot;Norway&quot;</td><td>&quot;Røros Bryggeri og Mineralvanns…</td><td>33</td></tr><tr><td>5256</td><td>&quot;Japan&quot;</td><td>&quot;Rokko Craft Brewery&quot;</td><td>36</td></tr><tr><td>25480</td><td>&quot;England&quot;</td><td>&quot;Errant Brewery&quot;</td><td>16</td></tr></tbody></table></div>"
      ],
      "text/plain": [
       "shape: (5, 4)\n",
       "┌───────┬──────────┬─────────────────────────────────┬─────────────┐\n",
       "│ id    ┆ location ┆ name                            ┆ beers_count │\n",
       "│ ---   ┆ ---      ┆ ---                             ┆ ---         │\n",
       "│ i64   ┆ str      ┆ str                             ┆ i32         │\n",
       "╞═══════╪══════════╪═════════════════════════════════╪═════════════╡\n",
       "│ 29721 ┆ Ireland  ┆ The Hyland Brewing Company      ┆ 2           │\n",
       "│ 19582 ┆ England  ┆ Lady Luck                       ┆ 2           │\n",
       "│ 13606 ┆ Norway   ┆ Røros Bryggeri og Mineralvanns… ┆ 33          │\n",
       "│ 5256  ┆ Japan    ┆ Rokko Craft Brewery             ┆ 36          │\n",
       "│ 25480 ┆ England  ┆ Errant Brewery                  ┆ 16          │\n",
       "└───────┴──────────┴─────────────────────────────────┴─────────────┘"
      ]
     },
     "execution_count": 34,
     "metadata": {},
     "output_type": "execute_result"
    }
   ],
   "source": [
    "df_breweries.sample(5)"
   ]
  },
  {
   "cell_type": "code",
   "execution_count": 35,
   "metadata": {},
   "outputs": [
    {
     "name": "stdout",
     "output_type": "stream",
     "text": [
      "+-------------+--------+------------------+---------------+-----------+-----------------------+-------------------+\n",
      "| Column      | Type   |   Not null count |   Nulls count |   Nulls % |   Unique values count |   Unique values % |\n",
      "|-------------+--------+------------------+---------------+-----------+-----------------------+-------------------|\n",
      "| id          | Int64  |            23190 |             0 |    0.00 % |                 23190 |          100.00 % |\n",
      "| location    | String |            23190 |             0 |    0.00 % |                   267 |            1.15 % |\n",
      "| name        | String |            23190 |             0 |    0.00 % |                 23178 |           99.95 % |\n",
      "| beers_count | Int32  |            23190 |             0 |    0.00 % |                   261 |            1.13 % |\n",
      "+-------------+--------+------------------+---------------+-----------+-----------------------+-------------------+\n"
     ]
    }
   ],
   "source": [
    "describe(df_breweries)"
   ]
  },
  {
   "cell_type": "code",
   "execution_count": 36,
   "metadata": {},
   "outputs": [
    {
     "name": "stdout",
     "output_type": "stream",
     "text": [
      "+-------------+---------+---------+-------+-------+-------+-------+-------+\n",
      "| Column      |    Mean |     Std |   25% |   50% |   75% |   Min |   Max |\n",
      "|-------------+---------+---------+-------+-------+-------+-------+-------|\n",
      "| beers_count | 19.0443 | 31.1287 |     3 |     8 |    20 |     1 |   290 |\n",
      "+-------------+---------+---------+-------+-------+-------+-------+-------+\n"
     ]
    }
   ],
   "source": [
    "describe_numbers(df_breweries, filters=[\"id\"])"
   ]
  },
  {
   "cell_type": "markdown",
   "metadata": {
    "cell_id": "2ad84a67cfc041ddbc4354a76f0952f1",
    "deepnote_cell_type": "markdown"
   },
   "source": [
    "##### Ratings dataset\n",
    "The dataset is already cleaned and process, we just need to save it in parquet format. We will both save a full version of the dataset and a version without the text of the reviews."
   ]
  },
  {
   "cell_type": "code",
   "execution_count": 37,
   "metadata": {
    "cell_id": "8985e85351cd47d1a4f072f6383da3d0",
    "deepnote_cell_type": "code",
    "deepnote_to_be_reexecuted": true,
    "execution_context_id": "1d364a27-a03d-47a8-a2fb-9e0c33ba1ff6",
    "execution_millis": 0,
    "execution_start": 1731594764210,
    "source_hash": "a2ba1d28"
   },
   "outputs": [],
   "source": [
    "df_ratings.write_parquet(f\"{DST_DATA_PATH}/ratings.pq\")\n",
    "df_ratings_no_text = df_ratings.drop(\"text\")\n",
    "df_ratings_no_text.write_parquet(f\"{DST_DATA_PATH}/ratings_no_text.pq\")"
   ]
  },
  {
   "cell_type": "code",
   "execution_count": 38,
   "metadata": {},
   "outputs": [
    {
     "data": {
      "text/html": [
       "<div><style>\n",
       ".dataframe > thead > tr,\n",
       ".dataframe > tbody > tr {\n",
       "  text-align: right;\n",
       "  white-space: pre-wrap;\n",
       "}\n",
       "</style>\n",
       "<small>shape: (5, 16)</small><table border=\"1\" class=\"dataframe\"><thead><tr><th>rating</th><th>palate</th><th>abv</th><th>beer_id</th><th>beer_name</th><th>user_id</th><th>taste</th><th>date</th><th>style</th><th>appearance</th><th>overall</th><th>brewery_name</th><th>text</th><th>aroma</th><th>user_name</th><th>brewery_id</th></tr><tr><td>f64</td><td>f64</td><td>f64</td><td>i64</td><td>str</td><td>i64</td><td>f64</td><td>datetime[μs]</td><td>str</td><td>f64</td><td>f64</td><td>str</td><td>str</td><td>f64</td><td>str</td><td>i64</td></tr></thead><tbody><tr><td>3.7</td><td>4.0</td><td>11.0</td><td>11243</td><td>&quot;Arrogant Double Bastard Ale&quot;</td><td>12942</td><td>7.0</td><td>2005-06-20 12:00:00</td><td>&quot;American Strong Ale&quot;</td><td>4.0</td><td>15.0</td><td>&quot;Arrogant Brewing&quot;</td><td>&quot;Bottle. Poured a deep reddish …</td><td>7.0</td><td>&quot;Lou18&quot;</td><td>28443</td></tr><tr><td>3.5</td><td>4.0</td><td>5.5</td><td>10526</td><td>&quot;Hitachino Nest White Ale&quot;</td><td>222021</td><td>8.0</td><td>2013-06-08 12:00:00</td><td>&quot;Witbier&quot;</td><td>3.0</td><td>14.0</td><td>&quot;Kiuchi Brewery (Hitachino)&quot;</td><td>&quot;331 bottle from Vinmonopolet. …</td><td>6.0</td><td>&quot;morri&quot;</td><td>1928</td></tr><tr><td>3.7</td><td>4.0</td><td>8.0</td><td>480258</td><td>&quot;Szpunt / Olimp Wormhole&quot;</td><td>408468</td><td>7.0</td><td>2017-03-25 12:00:00</td><td>&quot;Imperial IPA&quot;</td><td>4.0</td><td>15.0</td><td>&quot;Bytów Browar Kaszubski&quot;</td><td>&quot;500ml bottle from sklepzpiwem.…</td><td>7.0</td><td>&quot;Jashiu&quot;</td><td>25919</td></tr><tr><td>3.1</td><td>3.0</td><td>5.2</td><td>15991</td><td>&quot;Kneitinger Dunkel&quot;</td><td>1060</td><td>6.0</td><td>2005-05-02 12:00:00</td><td>&quot;Dunkel/Tmavý&quot;</td><td>4.0</td><td>11.0</td><td>&quot;Brauerei Kneitinger&quot;</td><td>&quot;BottleRed chestnut colouring, …</td><td>7.0</td><td>&quot;jonas&quot;</td><td>207</td></tr><tr><td>3.0</td><td>3.0</td><td>7.4</td><td>161628</td><td>&quot;Rebels Stout!&quot;</td><td>283582</td><td>5.0</td><td>2014-03-11 12:00:00</td><td>&quot;Stout&quot;</td><td>3.0</td><td>12.0</td><td>&quot;Huttenkloas Brouwerij&quot;</td><td>&quot;33cl BottleAppearance: Black c…</td><td>7.0</td><td>&quot;RW80&quot;</td><td>12216</td></tr></tbody></table></div>"
      ],
      "text/plain": [
       "shape: (5, 16)\n",
       "┌────────┬────────┬──────┬─────────┬───┬──────────────────────────┬───────┬───────────┬────────────┐\n",
       "│ rating ┆ palate ┆ abv  ┆ beer_id ┆ … ┆ text                     ┆ aroma ┆ user_name ┆ brewery_id │\n",
       "│ ---    ┆ ---    ┆ ---  ┆ ---     ┆   ┆ ---                      ┆ ---   ┆ ---       ┆ ---        │\n",
       "│ f64    ┆ f64    ┆ f64  ┆ i64     ┆   ┆ str                      ┆ f64   ┆ str       ┆ i64        │\n",
       "╞════════╪════════╪══════╪═════════╪═══╪══════════════════════════╪═══════╪═══════════╪════════════╡\n",
       "│ 3.7    ┆ 4.0    ┆ 11.0 ┆ 11243   ┆ … ┆ Bottle. Poured a deep    ┆ 7.0   ┆ Lou18     ┆ 28443      │\n",
       "│        ┆        ┆      ┆         ┆   ┆ reddish …                ┆       ┆           ┆            │\n",
       "│ 3.5    ┆ 4.0    ┆ 5.5  ┆ 10526   ┆ … ┆ 331 bottle from          ┆ 6.0   ┆ morri     ┆ 1928       │\n",
       "│        ┆        ┆      ┆         ┆   ┆ Vinmonopolet. …          ┆       ┆           ┆            │\n",
       "│ 3.7    ┆ 4.0    ┆ 8.0  ┆ 480258  ┆ … ┆ 500ml bottle from        ┆ 7.0   ┆ Jashiu    ┆ 25919      │\n",
       "│        ┆        ┆      ┆         ┆   ┆ sklepzpiwem.…            ┆       ┆           ┆            │\n",
       "│ 3.1    ┆ 3.0    ┆ 5.2  ┆ 15991   ┆ … ┆ BottleRed chestnut       ┆ 7.0   ┆ jonas     ┆ 207        │\n",
       "│        ┆        ┆      ┆         ┆   ┆ colouring, …             ┆       ┆           ┆            │\n",
       "│ 3.0    ┆ 3.0    ┆ 7.4  ┆ 161628  ┆ … ┆ 33cl BottleAppearance:   ┆ 7.0   ┆ RW80      ┆ 12216      │\n",
       "│        ┆        ┆      ┆         ┆   ┆ Black c…                 ┆       ┆           ┆            │\n",
       "└────────┴────────┴──────┴─────────┴───┴──────────────────────────┴───────┴───────────┴────────────┘"
      ]
     },
     "execution_count": 38,
     "metadata": {},
     "output_type": "execute_result"
    }
   ],
   "source": [
    "df_ratings.sample(5)"
   ]
  },
  {
   "cell_type": "code",
   "execution_count": 39,
   "metadata": {},
   "outputs": [
    {
     "name": "stdout",
     "output_type": "stream",
     "text": [
      "+--------------+------------------------------------------+------------------+---------------+-----------+-----------------------+-------------------+\n",
      "| Column       | Type                                     |   Not null count |   Nulls count |   Nulls % |   Unique values count |   Unique values % |\n",
      "|--------------+------------------------------------------+------------------+---------------+-----------+-----------------------+-------------------|\n",
      "| rating       | Float64                                  |          7120381 |             0 |    0.00 % |                    46 |            0.00 % |\n",
      "| palate       | Float64                                  |          7120381 |             0 |    0.00 % |                     5 |            0.00 % |\n",
      "| abv          | Float64                                  |          6945449 |        174932 |    2.46 % |                   862 |            0.01 % |\n",
      "| beer_id      | Int64                                    |          7120381 |             0 |    0.00 % |                396405 |            5.57 % |\n",
      "| beer_name    | String                                   |          7120381 |             0 |    0.00 % |                396255 |            5.57 % |\n",
      "| user_id      | Int64                                    |          7120381 |             0 |    0.00 % |                 70097 |            0.98 % |\n",
      "| taste        | Float64                                  |          7120381 |             0 |    0.00 % |                    10 |            0.00 % |\n",
      "| date         | Datetime(time_unit='us', time_zone=None) |          7120381 |             0 |    0.00 % |                  6271 |            0.09 % |\n",
      "| style        | String                                   |          7120381 |             0 |    0.00 % |                    93 |            0.00 % |\n",
      "| appearance   | Float64                                  |          7120381 |             0 |    0.00 % |                     5 |            0.00 % |\n",
      "| overall      | Float64                                  |          7120381 |             0 |    0.00 % |                    20 |            0.00 % |\n",
      "| brewery_name | String                                   |          7120381 |             0 |    0.00 % |                 21813 |            0.31 % |\n",
      "| aroma        | Float64                                  |          7120381 |             0 |    0.00 % |                    10 |            0.00 % |\n",
      "| user_name    | String                                   |          7120381 |             0 |    0.00 % |                 70097 |            0.98 % |\n",
      "| brewery_id   | Int64                                    |          7120381 |             0 |    0.00 % |                 21824 |            0.31 % |\n",
      "+--------------+------------------------------------------+------------------+---------------+-----------+-----------------------+-------------------+\n"
     ]
    }
   ],
   "source": [
    "describe(df_ratings_no_text)"
   ]
  },
  {
   "cell_type": "code",
   "execution_count": 40,
   "metadata": {},
   "outputs": [
    {
     "name": "stdout",
     "output_type": "stream",
     "text": [
      "+------------+---------+----------+-------+-------+-------+-------+-------+\n",
      "| Column     |    Mean |      Std |   25% |   50% |   75% |   Min |   Max |\n",
      "|------------+---------+----------+-------+-------+-------+-------+-------|\n",
      "| rating     | 3.28556 | 0.686496 |     3 |   3.4 |   3.7 |   0.5 |     5 |\n",
      "| palate     | 3.28472 | 0.796805 |     3 |     3 |     4 |     1 |     5 |\n",
      "| abv        | 6.50365 |  2.15749 |     5 |     6 |   7.7 |  0.01 |  57.7 |\n",
      "| taste      | 6.49668 |  1.53813 |     6 |     7 |     7 |     1 |    10 |\n",
      "| appearance | 3.44041 | 0.773787 |     3 |     3 |     4 |     1 |     5 |\n",
      "| overall    | 13.2154 |  3.15212 |    12 |    14 |    15 |     1 |    20 |\n",
      "| aroma      | 6.41841 |  1.53867 |     6 |     7 |     7 |     1 |    10 |\n",
      "+------------+---------+----------+-------+-------+-------+-------+-------+\n"
     ]
    }
   ],
   "source": [
    "describe_numbers(df_ratings_no_text, filters=[\"beer_id\", \"user_id\", \"brewery_id\"])"
   ]
  },
  {
   "cell_type": "markdown",
   "metadata": {
    "cell_id": "c9055491690d496383d6163bdf44cdc0",
    "deepnote_cell_type": "markdown"
   },
   "source": [
    "##### Beers dataset\n",
    "While for the previous datasets not much work was needed here multiple steps are needed. In particular:\n",
    "- We will change some of the columns of the dataset. In particular we are going to create a dataset that is similar to BeerAdvocate dataset to simplify the comparison between the two datasets.\n",
    "- Since we have removed some reviews and changed other datasets we are going to recompute the values in the beer dataset\n",
    "\n",
    "Additional data regarding the matching of the two datasets will be added in another notebook."
   ]
  },
  {
   "cell_type": "code",
   "execution_count": 41,
   "metadata": {
    "cell_id": "858fe3b029154978a945aef9e8b451a8",
    "deepnote_cell_type": "code",
    "deepnote_to_be_reexecuted": true,
    "execution_context_id": "1d364a27-a03d-47a8-a2fb-9e0c33ba1ff6",
    "execution_millis": 0,
    "execution_start": 1731594764258,
    "source_hash": "dbe390ba"
   },
   "outputs": [
    {
     "name": "stderr",
     "output_type": "stream",
     "text": [
      "100%|██████████| 441638/441638 [11:23<00:00, 646.56it/s]\n"
     ]
    }
   ],
   "source": [
    "rows = []\n",
    "for row in tqdm.tqdm(df_beers.rows(named=True)):\n",
    "    # Create the new dictionary\n",
    "    new_row = {}\n",
    "\n",
    "    # Compute general information\n",
    "    new_row[\"beer_id\"] = row[\"beer_id\"]\n",
    "    new_row[\"beer_name\"] = row[\"beer_name\"]\n",
    "    new_row[\"brewery_id\"] = row[\"brewery_id\"]\n",
    "    new_row[\"brewery_name\"] = row[\"brewery_name\"]\n",
    "    new_row[\"style\"] = row[\"style\"]\n",
    "    new_row[\"abv\"] = row[\"abv\"]\n",
    "\n",
    "    # Compute aggregated informations\n",
    "    reviews_elements = df_ratings_no_text.filter(pl.col(\"beer_id\") == row[\"beer_id\"])\n",
    "    new_row[\"rating_score_avg\"] = reviews_elements[\"rating\"].mean()\n",
    "    new_row[\"rating_score_std\"] = reviews_elements[\"rating\"].std()\n",
    "    new_row[\"rating_score_median\"] = reviews_elements[\"rating\"].median()\n",
    "\n",
    "    # Compute the number of interactions, nbr_ratings and nbr_reviews (here they are the same)\n",
    "    new_row[\"nbr_interactions\"] = reviews_elements.shape[0]\n",
    "    new_row[\"nbr_ratings\"] = reviews_elements.shape[0]\n",
    "    new_row[\"nbr_reviews\"] = reviews_elements.shape[0]\n",
    "\n",
    "    # Append the new row to the list of rows\n",
    "    rows.append(new_row)\n",
    "\n",
    "# Transform the data into a Polars DataFrame\n",
    "df_beers = pl.DataFrame(rows)\n",
    "\n",
    "# Save the data\n",
    "df_beers.write_parquet(f\"{DST_DATA_PATH}/beers.pq\")"
   ]
  },
  {
   "cell_type": "code",
   "execution_count": 42,
   "metadata": {},
   "outputs": [
    {
     "data": {
      "text/html": [
       "<div><style>\n",
       ".dataframe > thead > tr,\n",
       ".dataframe > tbody > tr {\n",
       "  text-align: right;\n",
       "  white-space: pre-wrap;\n",
       "}\n",
       "</style>\n",
       "<small>shape: (5, 12)</small><table border=\"1\" class=\"dataframe\"><thead><tr><th>beer_id</th><th>beer_name</th><th>brewery_id</th><th>brewery_name</th><th>style</th><th>abv</th><th>rating_score_avg</th><th>rating_score_std</th><th>rating_score_median</th><th>nbr_interactions</th><th>nbr_ratings</th><th>nbr_reviews</th></tr><tr><td>i64</td><td>str</td><td>i64</td><td>str</td><td>str</td><td>f64</td><td>f64</td><td>f64</td><td>f64</td><td>i64</td><td>i64</td><td>i64</td></tr></thead><tbody><tr><td>28592</td><td>&quot;Kaltenberg Schloss-Keller Natu…</td><td>1099</td><td>&quot;Schloßbrauerei Kaltenberg &amp;#40…</td><td>&quot;Zwickel/Keller/Landbier&quot;</td><td>5.1</td><td>2.98125</td><td>0.543101</td><td>3.1</td><td>16</td><td>16</td><td>16</td></tr><tr><td>236521</td><td>&quot;St Andrews Mocha Porter&quot;</td><td>14006</td><td>&quot;St Andrews Brewing (Scotland)&quot;</td><td>&quot;Porter&quot;</td><td>6.0</td><td>3.442308</td><td>0.356845</td><td>3.55</td><td>26</td><td>26</td><td>26</td></tr><tr><td>55658</td><td>&quot;Vetters Dunkel Märzen&quot;</td><td>2370</td><td>&quot;Vetter Alt Heidelberger Brauha…</td><td>&quot;Oktoberfest/Märzen&quot;</td><td>null</td><td>3.15</td><td>0.070711</td><td>3.15</td><td>2</td><td>2</td><td>2</td></tr><tr><td>323573</td><td>&quot;Union Station Vanilla Bean and…</td><td>4688</td><td>&quot;Union Station Brewery &amp;#40;Joh…</td><td>&quot;Stout&quot;</td><td>null</td><td>4.0</td><td>null</td><td>4.0</td><td>1</td><td>1</td><td>1</td></tr><tr><td>158662</td><td>&quot;Bonfire The Cleve&quot;</td><td>12305</td><td>&quot;Bonfire Brewing&quot;</td><td>&quot;California Common&quot;</td><td>5.8</td><td>null</td><td>null</td><td>null</td><td>0</td><td>0</td><td>0</td></tr></tbody></table></div>"
      ],
      "text/plain": [
       "shape: (5, 12)\n",
       "┌─────────┬────────────┬───────────┬───────────┬───┬───────────┬───────────┬───────────┬───────────┐\n",
       "│ beer_id ┆ beer_name  ┆ brewery_i ┆ brewery_n ┆ … ┆ rating_sc ┆ nbr_inter ┆ nbr_ratin ┆ nbr_revie │\n",
       "│ ---     ┆ ---        ┆ d         ┆ ame       ┆   ┆ ore_media ┆ actions   ┆ gs        ┆ ws        │\n",
       "│ i64     ┆ str        ┆ ---       ┆ ---       ┆   ┆ n         ┆ ---       ┆ ---       ┆ ---       │\n",
       "│         ┆            ┆ i64       ┆ str       ┆   ┆ ---       ┆ i64       ┆ i64       ┆ i64       │\n",
       "│         ┆            ┆           ┆           ┆   ┆ f64       ┆           ┆           ┆           │\n",
       "╞═════════╪════════════╪═══════════╪═══════════╪═══╪═══════════╪═══════════╪═══════════╪═══════════╡\n",
       "│ 28592   ┆ Kaltenberg ┆ 1099      ┆ Schloßbra ┆ … ┆ 3.1       ┆ 16        ┆ 16        ┆ 16        │\n",
       "│         ┆ Schloss-Ke ┆           ┆ uerei Kal ┆   ┆           ┆           ┆           ┆           │\n",
       "│         ┆ ller Natu… ┆           ┆ tenberg   ┆   ┆           ┆           ┆           ┆           │\n",
       "│         ┆            ┆           ┆ &#40…     ┆   ┆           ┆           ┆           ┆           │\n",
       "│ 236521  ┆ St Andrews ┆ 14006     ┆ St        ┆ … ┆ 3.55      ┆ 26        ┆ 26        ┆ 26        │\n",
       "│         ┆ Mocha      ┆           ┆ Andrews   ┆   ┆           ┆           ┆           ┆           │\n",
       "│         ┆ Porter     ┆           ┆ Brewing   ┆   ┆           ┆           ┆           ┆           │\n",
       "│         ┆            ┆           ┆ (Scotland ┆   ┆           ┆           ┆           ┆           │\n",
       "│         ┆            ┆           ┆ )         ┆   ┆           ┆           ┆           ┆           │\n",
       "│ 55658   ┆ Vetters    ┆ 2370      ┆ Vetter    ┆ … ┆ 3.15      ┆ 2         ┆ 2         ┆ 2         │\n",
       "│         ┆ Dunkel     ┆           ┆ Alt Heide ┆   ┆           ┆           ┆           ┆           │\n",
       "│         ┆ Märzen     ┆           ┆ lberger   ┆   ┆           ┆           ┆           ┆           │\n",
       "│         ┆            ┆           ┆ Brauha…   ┆   ┆           ┆           ┆           ┆           │\n",
       "│ 323573  ┆ Union      ┆ 4688      ┆ Union     ┆ … ┆ 4.0       ┆ 1         ┆ 1         ┆ 1         │\n",
       "│         ┆ Station    ┆           ┆ Station   ┆   ┆           ┆           ┆           ┆           │\n",
       "│         ┆ Vanilla    ┆           ┆ Brewery   ┆   ┆           ┆           ┆           ┆           │\n",
       "│         ┆ Bean and…  ┆           ┆ &#40;Joh… ┆   ┆           ┆           ┆           ┆           │\n",
       "│ 158662  ┆ Bonfire    ┆ 12305     ┆ Bonfire   ┆ … ┆ null      ┆ 0         ┆ 0         ┆ 0         │\n",
       "│         ┆ The Cleve  ┆           ┆ Brewing   ┆   ┆           ┆           ┆           ┆           │\n",
       "└─────────┴────────────┴───────────┴───────────┴───┴───────────┴───────────┴───────────┴───────────┘"
      ]
     },
     "execution_count": 42,
     "metadata": {},
     "output_type": "execute_result"
    }
   ],
   "source": [
    "df_beers.sample(5)"
   ]
  },
  {
   "cell_type": "code",
   "execution_count": 43,
   "metadata": {},
   "outputs": [
    {
     "name": "stdout",
     "output_type": "stream",
     "text": [
      "+---------------------+---------+------------------+---------------+-----------+-----------------------+-------------------+\n",
      "| Column              | Type    |   Not null count |   Nulls count |   Nulls % |   Unique values count |   Unique values % |\n",
      "|---------------------+---------+------------------+---------------+-----------+-----------------------+-------------------|\n",
      "| beer_id             | Int64   |           441638 |             0 |    0.00 % |                441638 |          100.00 % |\n",
      "| beer_name           | String  |           441638 |             0 |    0.00 % |                441453 |           99.96 % |\n",
      "| brewery_id          | Int64   |           441638 |             0 |    0.00 % |                 23190 |            5.25 % |\n",
      "| brewery_name        | String  |           441638 |             0 |    0.00 % |                 23178 |            5.25 % |\n",
      "| style               | String  |           441638 |             0 |    0.00 % |                    94 |            0.02 % |\n",
      "| abv                 | Float64 |           399583 |         42055 |    9.52 % |                   890 |            0.22 % |\n",
      "| rating_score_avg    | Float64 |           396405 |         45233 |   10.24 % |                 44375 |           11.19 % |\n",
      "| rating_score_std    | Float64 |           285950 |        155688 |   35.25 % |                 93841 |           32.82 % |\n",
      "| rating_score_median | Float64 |           396405 |         45233 |   10.24 % |                   148 |            0.04 % |\n",
      "| nbr_interactions    | Int64   |           441638 |             0 |    0.00 % |                  1367 |            0.31 % |\n",
      "| nbr_ratings         | Int64   |           441638 |             0 |    0.00 % |                  1367 |            0.31 % |\n",
      "| nbr_reviews         | Int64   |           441638 |             0 |    0.00 % |                  1367 |            0.31 % |\n",
      "+---------------------+---------+------------------+---------------+-----------+-----------------------+-------------------+\n"
     ]
    }
   ],
   "source": [
    "describe(df_beers)"
   ]
  },
  {
   "cell_type": "code",
   "execution_count": 44,
   "metadata": {},
   "outputs": [
    {
     "name": "stdout",
     "output_type": "stream",
     "text": [
      "+---------------------+----------+----------+----------+----------+----------+-------+---------+\n",
      "| Column              |     Mean |      Std |      25% |      50% |      75% |   Min |     Max |\n",
      "|---------------------+----------+----------+----------+----------+----------+-------+---------|\n",
      "| abv                 |  6.06439 |   1.9058 |      4.8 |      5.6 |        7 |  0.01 |      60 |\n",
      "| rating_score_avg    |   3.2446 |  0.50751 |        3 |      3.3 |  3.59375 |   0.5 |       5 |\n",
      "| rating_score_std    | 0.361435 | 0.214694 | 0.212132 | 0.341501 | 0.465788 |     0 | 2.75772 |\n",
      "| rating_score_median |  3.25695 | 0.513003 |        3 |      3.3 |      3.6 |   0.5 |       5 |\n",
      "| nbr_interactions    |  16.1227 |  81.0252 |        1 |        3 |        9 |     0 |    5271 |\n",
      "| nbr_ratings         |  16.1227 |  81.0252 |        1 |        3 |        9 |     0 |    5271 |\n",
      "| nbr_reviews         |  16.1227 |  81.0252 |        1 |        3 |        9 |     0 |    5271 |\n",
      "+---------------------+----------+----------+----------+----------+----------+-------+---------+\n"
     ]
    }
   ],
   "source": [
    "describe_numbers(df_beers, filters=[\"beer_id\", \"brewery_id\"])"
   ]
  },
  {
   "cell_type": "markdown",
   "metadata": {},
   "source": [
    "## Computation of dropped values\n",
    "Here we will compute how much data for each dataset has been dropped. This step is needed to ensure that we still have enough data to work with after the data cleaning process and to help spotting possible issues in the data cleaning process.\n",
    "##### Users dataset"
   ]
  },
  {
   "cell_type": "code",
   "execution_count": 45,
   "metadata": {},
   "outputs": [
    {
     "name": "stdout",
     "output_type": "stream",
     "text": [
      "Number of students in the original dataset: 70174\n",
      "Number of students in the new dataset: 70097\n",
      "Percentage of students removed: 0.11%\n"
     ]
    }
   ],
   "source": [
    "# Load the original datasets\n",
    "df_users_original = pl.read_csv(f\"{SRC_DATA_PATH}/users.csv\")\n",
    "\n",
    "# Do some computation\n",
    "original_number_of_students = df_users_original.shape[0]\n",
    "new_number_of_students = df_users.shape[0]\n",
    "\n",
    "# Print the results\n",
    "print(f\"Number of students in the original dataset: {original_number_of_students}\")\n",
    "print(f\"Number of students in the new dataset: {new_number_of_students}\")\n",
    "print(f\"Percentage of students removed: {(original_number_of_students - new_number_of_students) / original_number_of_students * 100:.2f}%\")"
   ]
  },
  {
   "cell_type": "markdown",
   "metadata": {},
   "source": [
    "##### Beers dataset"
   ]
  },
  {
   "cell_type": "code",
   "execution_count": 46,
   "metadata": {},
   "outputs": [
    {
     "name": "stdout",
     "output_type": "stream",
     "text": [
      "Number of beers in the original dataset: 442081\n",
      "Number of beers in the new dataset: 441638\n",
      "Percentage of beers removed: 0.10%\n"
     ]
    }
   ],
   "source": [
    "# Load the original datasets\n",
    "df_beers_original = pl.read_csv(f\"{SRC_DATA_PATH}/beers.csv\")\n",
    "\n",
    "# Do some computation\n",
    "original_number_of_beers = df_beers_original.shape[0]\n",
    "new_number_of_beers = df_beers.shape[0]\n",
    "\n",
    "# Print the results\n",
    "print(f\"Number of beers in the original dataset: {original_number_of_beers}\")\n",
    "print(f\"Number of beers in the new dataset: {new_number_of_beers}\")\n",
    "print(f\"Percentage of beers removed: {(original_number_of_beers - new_number_of_beers) / original_number_of_beers * 100:.2f}%\")"
   ]
  },
  {
   "cell_type": "markdown",
   "metadata": {},
   "source": [
    "##### Breweries dataset"
   ]
  },
  {
   "cell_type": "code",
   "execution_count": 47,
   "metadata": {},
   "outputs": [
    {
     "name": "stdout",
     "output_type": "stream",
     "text": [
      "Number of beers in the original dataset: 24189\n",
      "Number of beers in the new dataset: 23190\n",
      "Percentage of beers removed: 4.13%\n"
     ]
    }
   ],
   "source": [
    "# Load the original datasets\n",
    "df_breweries_original = pl.read_csv(f\"{SRC_DATA_PATH}/breweries.csv\")\n",
    "\n",
    "# Do some computation\n",
    "original_number_of_breweries = df_breweries_original.shape[0]\n",
    "new_number_of_breweries = df_breweries.shape[0]\n",
    "\n",
    "# Print the results\n",
    "print(f\"Number of beers in the original dataset: {original_number_of_breweries}\")\n",
    "print(f\"Number of beers in the new dataset: {new_number_of_breweries}\")\n",
    "print(f\"Percentage of beers removed: {(original_number_of_breweries - new_number_of_breweries) / original_number_of_breweries * 100:.2f}%\")"
   ]
  },
  {
   "cell_type": "markdown",
   "metadata": {},
   "source": [
    "##### Ratings dataset"
   ]
  },
  {
   "cell_type": "code",
   "execution_count": 48,
   "metadata": {},
   "outputs": [
    {
     "name": "stdout",
     "output_type": "stream",
     "text": [
      "Number of reviews in the original dataset: 7122074\n",
      "Number of reviews in the new dataset: 7120381\n",
      "Percentage of reviews removed: 0.02%\n"
     ]
    }
   ],
   "source": [
    "# Load the original datasets\n",
    "df_reviews_original = pl.read_parquet(f\"{SRC_DATA_PATH}/ratings.pq\")\n",
    "\n",
    "# Do some computation\n",
    "original_number_of_reviews = df_reviews_original.shape[0]\n",
    "new_number_of_reviews = df_ratings.shape[0]\n",
    "\n",
    "# Print the results\n",
    "print(f\"Number of reviews in the original dataset: {original_number_of_reviews}\")\n",
    "print(f\"Number of reviews in the new dataset: {new_number_of_reviews}\")\n",
    "print(f\"Percentage of reviews removed: {(original_number_of_reviews - new_number_of_reviews) / original_number_of_reviews * 100:.2f}%\")"
   ]
  },
  {
   "cell_type": "markdown",
   "metadata": {},
   "source": [
    "##### Final discussion\n",
    "Here we see that we don't lose lots of data in the cleaning process. This is a good sign since we can still work with a large amount of data. We see a slightly higher percentage of data loss in the breweries dataset. This is due to the fact that we have removed breweries without beers associated (most of the data lost has been done here). This is not a significant issue since we have all the data needed for our analysis.\n",
    "\n",
    "## Conclusion\n",
    "In this notebook we have cleaned the BeerAdvocate dataset and we now have data ready to be used for further analysis. <br>\n",
    "Here we did focus on understanding the general structure of our data, clean them and produce processed files (in the format of parquet files) that can be easily loaded and used for further analysis."
   ]
  }
 ],
 "metadata": {
  "deepnote_notebook_id": "874ada55298a47098ffcb4bac5519f77",
  "kernelspec": {
   "display_name": "ADA",
   "language": "python",
   "name": "python3"
  },
  "language_info": {
   "codemirror_mode": {
    "name": "ipython",
    "version": 3
   },
   "file_extension": ".py",
   "mimetype": "text/x-python",
   "name": "python",
   "nbconvert_exporter": "python",
   "pygments_lexer": "ipython3",
   "version": "3.9.20"
  }
 },
 "nbformat": 4,
 "nbformat_minor": 0
}
