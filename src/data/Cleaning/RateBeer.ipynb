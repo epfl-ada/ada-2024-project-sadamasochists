{
 "cells": [
  {
   "cell_type": "markdown",
   "metadata": {
    "cell_id": "e1eb2175120c4177806616563b816849",
    "deepnote_cell_type": "text-cell-h1",
    "formattedRanges": []
   },
   "source": [
    "# Data cleaning of RateBeer dataset\n",
    "RateBeer is another large beer rating platform. Its dataset structure is similar to BeerAdvocate but with some unique features. In contrast to BeerAdvocate, which is owned by two brothers, [RateBeer is owned by Belgian-based beer producer AB InBev](https://www.ratebeer.com/about.asp). \n",
    "\n",
    "On the current version of the website, users can review a beer by first giving it a rating. The rating is between 0-5 and accepts one digit after the decimal point (e.g. 3.8). Then the user is prompted for a textual review, and to rate the beer on different attributes. There are five attributes with different scales. All of them only accept integer responses. They are specified as follows:\n",
    "- Aroma (1-10)\n",
    "- Appearance (1-5)\n",
    "- Taste (1-10)\n",
    "- Mouthfeel (1-5)\n",
    "- Overall (1-20)\n",
    "\n",
    "All the reviews have a text and the rating on the previous aspects. <br><br>\n",
    "Some of the information have been extrapolated from [here](https://github.com/OrganicIrradiation/ratebeer)"
   ]
  },
  {
   "cell_type": "markdown",
   "metadata": {
    "cell_id": "64ddae4e2a76477a8f7a6fe3f5f8a6f7",
    "deepnote_cell_type": "text-cell-h2",
    "formattedRanges": []
   },
   "source": [
    "## Files importing"
   ]
  },
  {
   "cell_type": "code",
   "execution_count": 69,
   "metadata": {
    "cell_id": "9c841504af564113b8351ca187e29ed3",
    "deepnote_cell_type": "code",
    "execution_context_id": "c3ae10e9-0fd0-47ae-85f5-b1f94e16a73f",
    "execution_millis": 4381,
    "execution_start": 1731596731751,
    "source_hash": "90a9086e"
   },
   "outputs": [],
   "source": [
    "import polars as pl\n",
    "import matplotlib.pyplot as plt\n",
    "import matplotlib.colors as mcolors\n",
    "import seaborn as sns\n",
    "import geopandas as gpd\n",
    "import numpy as np\n",
    "import tqdm\n",
    "import os\n",
    "from src.utils.data_desc import *"
   ]
  },
  {
   "cell_type": "code",
   "execution_count": 70,
   "metadata": {},
   "outputs": [],
   "source": [
    "# Change this variable if you want to save the processed files\n",
    "SAVE_PROCESSED = True\n",
    "\n",
    "# Define the paths\n",
    "SRC_DATA_PATH = './data/RateBeer'\n",
    "DST_DATA_PATH = './data/RateBeer/processed'\n",
    "if SAVE_PROCESSED:\n",
    "    if not os.path.exists(DST_DATA_PATH):\n",
    "        os.makedirs(DST_DATA_PATH)"
   ]
  },
  {
   "cell_type": "markdown",
   "metadata": {
    "cell_id": "bf2801d868ae4985b44649847c614058",
    "deepnote_cell_type": "text-cell-h2",
    "formattedRanges": []
   },
   "source": [
    "## Data exploration and cleaning"
   ]
  },
  {
   "cell_type": "code",
   "execution_count": 71,
   "metadata": {
    "cell_id": "4a444ea1323449d888ba397734cceabf",
    "deepnote_cell_type": "code",
    "execution_context_id": "124991dc-5351-4586-bf98-c9ad5a46adb7",
    "execution_millis": 8474,
    "execution_start": 1731595075562,
    "source_hash": "43c76917"
   },
   "outputs": [],
   "source": [
    "df_beers = remove_whitespaces(pl.read_csv(f\"{SRC_DATA_PATH}/beers.csv\"))\n",
    "df_breweries = remove_whitespaces(pl.read_csv(f\"{SRC_DATA_PATH}/breweries.csv\"))\n",
    "df_users = remove_whitespaces(pl.read_csv(f\"{SRC_DATA_PATH}/users.csv\"))\n",
    "df_ratings = remove_whitespaces(pl.read_parquet(f\"{SRC_DATA_PATH}/ratings.pq\"))"
   ]
  },
  {
   "cell_type": "markdown",
   "metadata": {
    "cell_id": "39520969f18543bc9f4cf092edd6ca38",
    "deepnote_cell_type": "markdown"
   },
   "source": [
    "##### Beers dataset\n",
    "We'll start by looking at the beers dataset."
   ]
  },
  {
   "cell_type": "code",
   "execution_count": 72,
   "metadata": {
    "cell_id": "4298809469f84f3a975fdfbda2f8ebb9",
    "deepnote_cell_type": "code",
    "deepnote_to_be_reexecuted": true,
    "execution_context_id": "1d364a27-a03d-47a8-a2fb-9e0c33ba1ff6",
    "execution_millis": 0,
    "execution_start": 1731594758954,
    "source_hash": "8056f7de"
   },
   "outputs": [
    {
     "data": {
      "text/html": [
       "<div><style>\n",
       ".dataframe > thead > tr,\n",
       ".dataframe > tbody > tr {\n",
       "  text-align: right;\n",
       "  white-space: pre-wrap;\n",
       "}\n",
       "</style>\n",
       "<small>shape: (5, 14)</small><table border=\"1\" class=\"dataframe\"><thead><tr><th>beer_id</th><th>beer_name</th><th>brewery_id</th><th>brewery_name</th><th>style</th><th>nbr_ratings</th><th>overall_score</th><th>style_score</th><th>avg</th><th>abv</th><th>avg_computed</th><th>zscore</th><th>nbr_matched_valid_ratings</th><th>avg_matched_valid_ratings</th></tr><tr><td>i64</td><td>str</td><td>i64</td><td>str</td><td>str</td><td>i64</td><td>f64</td><td>f64</td><td>f64</td><td>f64</td><td>f64</td><td>f64</td><td>i64</td><td>f64</td></tr></thead><tbody><tr><td>121161</td><td>&quot;Oggis Anonymous IPA&quot;</td><td>20314</td><td>&quot;Left Coast Brewing Company&quot;</td><td>&quot;Imperial IPA&quot;</td><td>2</td><td>null</td><td>null</td><td>2.96</td><td>8.5</td><td>3.6</td><td>null</td><td>0</td><td>null</td></tr><tr><td>33952</td><td>&quot;Wold Top Wold Gold&quot;</td><td>3760</td><td>&quot;Wold Top&quot;</td><td>&quot;Golden Ale/Blond Ale&quot;</td><td>100</td><td>35.0</td><td>47.0</td><td>2.99</td><td>4.8</td><td>2.99</td><td>-0.695148</td><td>100</td><td>2.99</td></tr><tr><td>439514</td><td>&quot;Labrewatory Alco-hall &amp; Oats I…</td><td>28175</td><td>&quot;Labrewatory&quot;</td><td>&quot;Specialty Grain&quot;</td><td>0</td><td>null</td><td>null</td><td>null</td><td>6.0</td><td>null</td><td>null</td><td>0</td><td>null</td></tr><tr><td>511449</td><td>&quot;OEC Artista Zynergia: Oudilis …</td><td>19612</td><td>&quot;OEC Brewing &amp;#40;Ordinem Ecent…</td><td>&quot;Sour/Wild Ale&quot;</td><td>2</td><td>null</td><td>null</td><td>3.3</td><td>6.0</td><td>4.0</td><td>null</td><td>0</td><td>null</td></tr><tr><td>367315</td><td>&quot;Loose Shoe Palomino&quot;</td><td>22647</td><td>&quot;Loose Shoe Brewing Company&quot;</td><td>&quot;Cream Ale&quot;</td><td>1</td><td>null</td><td>null</td><td>2.92</td><td>5.3</td><td>2.9</td><td>null</td><td>0</td><td>null</td></tr></tbody></table></div>"
      ],
      "text/plain": [
       "shape: (5, 14)\n",
       "┌─────────┬────────────┬───────────┬───────────┬───┬───────────┬───────────┬───────────┬───────────┐\n",
       "│ beer_id ┆ beer_name  ┆ brewery_i ┆ brewery_n ┆ … ┆ avg_compu ┆ zscore    ┆ nbr_match ┆ avg_match │\n",
       "│ ---     ┆ ---        ┆ d         ┆ ame       ┆   ┆ ted       ┆ ---       ┆ ed_valid_ ┆ ed_valid_ │\n",
       "│ i64     ┆ str        ┆ ---       ┆ ---       ┆   ┆ ---       ┆ f64       ┆ ratings   ┆ ratings   │\n",
       "│         ┆            ┆ i64       ┆ str       ┆   ┆ f64       ┆           ┆ ---       ┆ ---       │\n",
       "│         ┆            ┆           ┆           ┆   ┆           ┆           ┆ i64       ┆ f64       │\n",
       "╞═════════╪════════════╪═══════════╪═══════════╪═══╪═══════════╪═══════════╪═══════════╪═══════════╡\n",
       "│ 121161  ┆ Oggis      ┆ 20314     ┆ Left      ┆ … ┆ 3.6       ┆ null      ┆ 0         ┆ null      │\n",
       "│         ┆ Anonymous  ┆           ┆ Coast     ┆   ┆           ┆           ┆           ┆           │\n",
       "│         ┆ IPA        ┆           ┆ Brewing   ┆   ┆           ┆           ┆           ┆           │\n",
       "│         ┆            ┆           ┆ Company   ┆   ┆           ┆           ┆           ┆           │\n",
       "│ 33952   ┆ Wold Top   ┆ 3760      ┆ Wold Top  ┆ … ┆ 2.99      ┆ -0.695148 ┆ 100       ┆ 2.99      │\n",
       "│         ┆ Wold Gold  ┆           ┆           ┆   ┆           ┆           ┆           ┆           │\n",
       "│ 439514  ┆ Labrewator ┆ 28175     ┆ Labrewato ┆ … ┆ null      ┆ null      ┆ 0         ┆ null      │\n",
       "│         ┆ y          ┆           ┆ ry        ┆   ┆           ┆           ┆           ┆           │\n",
       "│         ┆ Alco-hall  ┆           ┆           ┆   ┆           ┆           ┆           ┆           │\n",
       "│         ┆ & Oats I…  ┆           ┆           ┆   ┆           ┆           ┆           ┆           │\n",
       "│ 511449  ┆ OEC        ┆ 19612     ┆ OEC       ┆ … ┆ 4.0       ┆ null      ┆ 0         ┆ null      │\n",
       "│         ┆ Artista    ┆           ┆ Brewing   ┆   ┆           ┆           ┆           ┆           │\n",
       "│         ┆ Zynergia:  ┆           ┆ &#40;Ordi ┆   ┆           ┆           ┆           ┆           │\n",
       "│         ┆ Oudilis …  ┆           ┆ nem       ┆   ┆           ┆           ┆           ┆           │\n",
       "│         ┆            ┆           ┆ Ecent…    ┆   ┆           ┆           ┆           ┆           │\n",
       "│ 367315  ┆ Loose Shoe ┆ 22647     ┆ Loose     ┆ … ┆ 2.9       ┆ null      ┆ 0         ┆ null      │\n",
       "│         ┆ Palomino   ┆           ┆ Shoe      ┆   ┆           ┆           ┆           ┆           │\n",
       "│         ┆            ┆           ┆ Brewing   ┆   ┆           ┆           ┆           ┆           │\n",
       "│         ┆            ┆           ┆ Company   ┆   ┆           ┆           ┆           ┆           │\n",
       "└─────────┴────────────┴───────────┴───────────┴───┴───────────┴───────────┴───────────┴───────────┘"
      ]
     },
     "execution_count": 72,
     "metadata": {},
     "output_type": "execute_result"
    }
   ],
   "source": [
    "df_beers.sample(5)"
   ]
  },
  {
   "cell_type": "markdown",
   "metadata": {},
   "source": [
    "The dataset has the following structure\n"
   ]
  },
  {
   "cell_type": "markdown",
   "metadata": {
    "cell_id": "5d058e436f2b4173846cd2699f7c86e2",
    "deepnote_cell_type": "text-cell-p",
    "formattedRanges": []
   },
   "source": [
    "Now that we have an idea of how the features of our dataset look like, let's analyze the data of our dataset"
   ]
  },
  {
   "cell_type": "code",
   "execution_count": 73,
   "metadata": {
    "cell_id": "f307bc86af3c4f008fe5a50d242f63b1",
    "deepnote_cell_type": "code",
    "deepnote_to_be_reexecuted": true,
    "execution_context_id": "1d364a27-a03d-47a8-a2fb-9e0c33ba1ff6",
    "execution_millis": 56,
    "execution_start": 1731594759002,
    "source_hash": "227b699c"
   },
   "outputs": [
    {
     "name": "stdout",
     "output_type": "stream",
     "text": [
      "+---------------------------+---------+------------------+---------------+-----------+-----------------------+-------------------+\n",
      "| Column                    | Type    |   Not null count |   Nulls count |   Nulls % |   Unique values count |   Unique values % |\n",
      "|---------------------------+---------+------------------+---------------+-----------+-----------------------+-------------------|\n",
      "| beer_id                   | Int64   |           442081 |             0 |    0.00 % |                442081 |          100.00 % |\n",
      "| beer_name                 | String  |           442081 |             0 |    0.00 % |                441675 |           99.91 % |\n",
      "| brewery_id                | Int64   |           442081 |             0 |    0.00 % |                 23199 |            5.25 % |\n",
      "| brewery_name              | String  |           442081 |             0 |    0.00 % |                 23183 |            5.24 % |\n",
      "| style                     | String  |           442081 |             0 |    0.00 % |                    94 |            0.02 % |\n",
      "| nbr_ratings               | Int64   |           442081 |             0 |    0.00 % |                  1366 |            0.31 % |\n",
      "| overall_score             | Float64 |           104028 |        338053 |   76.47 % |                   102 |            0.10 % |\n",
      "| style_score               | Float64 |           104068 |        338013 |   76.46 % |                   102 |            0.10 % |\n",
      "| avg                       | Float64 |           395657 |         46424 |   10.50 % |                   335 |            0.08 % |\n",
      "| abv                       | Float64 |           399987 |         42094 |    9.52 % |                   895 |            0.22 % |\n",
      "| avg_computed              | Float64 |           396690 |         45391 |   10.27 % |                 36995 |            9.33 % |\n",
      "| zscore                    | Float64 |            42228 |        399853 |   90.45 % |                 28961 |           68.58 % |\n",
      "| nbr_matched_valid_ratings | Int64   |           442081 |             0 |    0.00 % |                   578 |            0.13 % |\n",
      "| avg_matched_valid_ratings | Float64 |            42228 |        399853 |   90.45 % |                  9745 |           23.08 % |\n",
      "+---------------------------+---------+------------------+---------------+-----------+-----------------------+-------------------+\n"
     ]
    }
   ],
   "source": [
    "describe(df_beers)"
   ]
  },
  {
   "cell_type": "code",
   "execution_count": 74,
   "metadata": {
    "cell_id": "a2917e327d6e45a79d9c19268a395f1e",
    "deepnote_cell_type": "code",
    "deepnote_to_be_reexecuted": true,
    "execution_context_id": "1d364a27-a03d-47a8-a2fb-9e0c33ba1ff6",
    "execution_millis": 40,
    "execution_start": 1731594759106,
    "source_hash": "8ea5ea5d"
   },
   "outputs": [
    {
     "name": "stdout",
     "output_type": "stream",
     "text": [
      "+---------------------------+-----------+----------+-----------+------------+----------+----------+---------+\n",
      "| Column                    |      Mean |      Std |       25% |        50% |      75% |      Min |     Max |\n",
      "|---------------------------+-----------+----------+-----------+------------+----------+----------+---------|\n",
      "| nbr_ratings               |   16.1103 |  80.9888 |         1 |          3 |        9 |        0 |    5272 |\n",
      "| overall_score             |   55.6808 |  28.4827 |        34 |         53 |       83 |        0 |     100 |\n",
      "| style_score               |   54.9861 |  28.6554 |        33 |         51 |       82 |        0 |     100 |\n",
      "| avg                       |   3.02658 | 0.304503 |      2.87 |       3.02 |     3.18 |        0 |    4.52 |\n",
      "| abv                       |   6.06548 |  1.92296 |       4.8 |        5.6 |        7 |     0.01 |     100 |\n",
      "| avg_computed              |   3.24465 |  0.50752 |         3 |        3.3 |  3.59412 |      0.5 |       5 |\n",
      "| zscore                    | -0.104638 | 0.732841 | -0.479511 | -0.0236959 | 0.364636 | -5.46035 | 2.94112 |\n",
      "| nbr_matched_valid_ratings |   2.30862 |  26.6212 |         0 |          0 |        0 |        0 |    5270 |\n",
      "| avg_matched_valid_ratings |   3.37204 | 0.417038 |   3.15517 |       3.41 |     3.65 |      0.5 |       5 |\n",
      "+---------------------------+-----------+----------+-----------+------------+----------+----------+---------+\n"
     ]
    }
   ],
   "source": [
    "describe_numbers(df_beers, filters=[\"beer_id\", \"brewery_id\"])"
   ]
  },
  {
   "cell_type": "markdown",
   "metadata": {
    "cell_id": "2c4e9bd6d06c406a82560a8e4eda76f2",
    "deepnote_cell_type": "markdown"
   },
   "source": [
    "From the table we can see that:\n",
    "- The overall score and the style score are both in 0-100 scale\n",
    "- Some of the abv values are wrong, as there are values of 100 but this is not possible.\n",
    "- Some beers have the same name. This is possible, but we need to check if they are the same beer or not.\n",
    "\n",
    "Let's remove the outliers from the abv column. In BeerAdvocate the beer with the highest ABV we see is 67.5%. Therefore we make the assumption that any beer over 65% is an error and we will remove these from our dataframe."
   ]
  },
  {
   "cell_type": "code",
   "execution_count": 75,
   "metadata": {
    "cell_id": "053dd15b49d04d0bb9e0f2d6fd1e9474",
    "deepnote_cell_type": "code",
    "deepnote_to_be_reexecuted": true,
    "execution_context_id": "1d364a27-a03d-47a8-a2fb-9e0c33ba1ff6",
    "execution_millis": 0,
    "execution_start": 1731594759192,
    "source_hash": "cfde60ce"
   },
   "outputs": [],
   "source": [
    "# [TODO] Choose what to do with the outliers of ABV"
   ]
  },
  {
   "cell_type": "markdown",
   "metadata": {
    "cell_id": "505521023ddc4a7cbb3b77af59ca6605",
    "deepnote_cell_type": "markdown"
   },
   "source": [
    "Here we are going to check if people have inserted the same beer twice for the same brewery. We'll check that by looking at the unique values of the columns 'beer_name' and 'brewery_name' and see if there are any duplicates."
   ]
  },
  {
   "cell_type": "code",
   "execution_count": 76,
   "metadata": {
    "cell_id": "6505c59d0b8e4dd9a288096f40cc452f",
    "deepnote_cell_type": "code",
    "deepnote_table_loading": false,
    "deepnote_table_state": {
     "conditionalFilters": [],
     "filters": [],
     "pageIndex": 0,
     "pageSize": 10,
     "sortBy": [],
     "wrappedTextColumnIds": []
    },
    "deepnote_to_be_reexecuted": true,
    "execution_context_id": "1d364a27-a03d-47a8-a2fb-9e0c33ba1ff6",
    "execution_millis": 55,
    "execution_start": 1731594759238,
    "source_hash": "d30cac42"
   },
   "outputs": [
    {
     "data": {
      "text/html": [
       "<div><style>\n",
       ".dataframe > thead > tr,\n",
       ".dataframe > tbody > tr {\n",
       "  text-align: right;\n",
       "  white-space: pre-wrap;\n",
       "}\n",
       "</style>\n",
       "<small>shape: (10, 14)</small><table border=\"1\" class=\"dataframe\"><thead><tr><th>beer_id</th><th>beer_name</th><th>brewery_id</th><th>brewery_name</th><th>style</th><th>nbr_ratings</th><th>overall_score</th><th>style_score</th><th>avg</th><th>abv</th><th>avg_computed</th><th>zscore</th><th>nbr_matched_valid_ratings</th><th>avg_matched_valid_ratings</th></tr><tr><td>i64</td><td>str</td><td>i64</td><td>str</td><td>str</td><td>i64</td><td>f64</td><td>f64</td><td>f64</td><td>f64</td><td>f64</td><td>f64</td><td>i64</td><td>f64</td></tr></thead><tbody><tr><td>353940</td><td>&quot;Talón de Aquiles&quot;</td><td>24064</td><td>&quot;cerartmex&quot;</td><td>&quot;Porter&quot;</td><td>0</td><td>null</td><td>null</td><td>null</td><td>5.0</td><td>null</td><td>null</td><td>0</td><td>null</td></tr><tr><td>353941</td><td>&quot;Talón de Aquiles&quot;</td><td>24064</td><td>&quot;cerartmex&quot;</td><td>&quot;Porter&quot;</td><td>0</td><td>null</td><td>null</td><td>null</td><td>5.0</td><td>null</td><td>null</td><td>0</td><td>null</td></tr><tr><td>375995</td><td>&quot;Eterno Instante&quot;</td><td>25141</td><td>&quot;Cervecería Eterno Instante&quot;</td><td>&quot;Porter&quot;</td><td>0</td><td>null</td><td>null</td><td>null</td><td>5.0</td><td>null</td><td>null</td><td>0</td><td>null</td></tr><tr><td>375996</td><td>&quot;Eterno Instante&quot;</td><td>25141</td><td>&quot;Cervecería Eterno Instante&quot;</td><td>&quot;Porter&quot;</td><td>1</td><td>null</td><td>null</td><td>2.72</td><td>5.0</td><td>2.0</td><td>null</td><td>0</td><td>null</td></tr><tr><td>422836</td><td>&quot;Syndicate Roses Name Abbey Du…</td><td>26083</td><td>&quot;Syndicate Beer &amp; Grill&quot;</td><td>&quot;Abbey Dubbel&quot;</td><td>1</td><td>null</td><td>null</td><td>3.0</td><td>6.0</td><td>3.3</td><td>null</td><td>0</td><td>null</td></tr><tr><td>408166</td><td>&quot;Syndicate Roses Name Abbey Du…</td><td>26083</td><td>&quot;Syndicate Beer &amp; Grill&quot;</td><td>&quot;Abbey Dubbel&quot;</td><td>3</td><td>null</td><td>null</td><td>2.78</td><td>6.0</td><td>2.6</td><td>null</td><td>0</td><td>null</td></tr><tr><td>285897</td><td>&quot;Prince Edward Island 8 Cord Do…</td><td>3091</td><td>&quot;Prince Edward Island Brewing C…</td><td>&quot;Imperial IPA&quot;</td><td>7</td><td>null</td><td>null</td><td>3.39</td><td>8.5</td><td>3.642857</td><td>null</td><td>0</td><td>null</td></tr><tr><td>310659</td><td>&quot;Prince Edward Island 8 Cord Do…</td><td>3091</td><td>&quot;Prince Edward Island Brewing C…</td><td>&quot;Imperial IPA&quot;</td><td>0</td><td>null</td><td>null</td><td>null</td><td>8.5</td><td>null</td><td>null</td><td>0</td><td>null</td></tr><tr><td>510163</td><td>&quot;Isle de Garde Bitter Ordinaire&quot;</td><td>21105</td><td>&quot;Isle de Garde&quot;</td><td>&quot;Bitter&quot;</td><td>2</td><td>null</td><td>null</td><td>3.12</td><td>3.9</td><td>3.5</td><td>null</td><td>0</td><td>null</td></tr><tr><td>510165</td><td>&quot;Isle de Garde Blonde Anglaise&quot;</td><td>21105</td><td>&quot;Isle de Garde&quot;</td><td>&quot;English Pale Ale&quot;</td><td>0</td><td>null</td><td>null</td><td>null</td><td>5.0</td><td>null</td><td>null</td><td>0</td><td>null</td></tr></tbody></table></div>"
      ],
      "text/plain": [
       "shape: (10, 14)\n",
       "┌─────────┬────────────┬────────────┬────────────┬───┬────────────┬────────┬───────────┬───────────┐\n",
       "│ beer_id ┆ beer_name  ┆ brewery_id ┆ brewery_na ┆ … ┆ avg_comput ┆ zscore ┆ nbr_match ┆ avg_match │\n",
       "│ ---     ┆ ---        ┆ ---        ┆ me         ┆   ┆ ed         ┆ ---    ┆ ed_valid_ ┆ ed_valid_ │\n",
       "│ i64     ┆ str        ┆ i64        ┆ ---        ┆   ┆ ---        ┆ f64    ┆ ratings   ┆ ratings   │\n",
       "│         ┆            ┆            ┆ str        ┆   ┆ f64        ┆        ┆ ---       ┆ ---       │\n",
       "│         ┆            ┆            ┆            ┆   ┆            ┆        ┆ i64       ┆ f64       │\n",
       "╞═════════╪════════════╪════════════╪════════════╪═══╪════════════╪════════╪═══════════╪═══════════╡\n",
       "│ 353940  ┆ Talón de   ┆ 24064      ┆ cerartmex  ┆ … ┆ null       ┆ null   ┆ 0         ┆ null      │\n",
       "│         ┆ Aquiles    ┆            ┆            ┆   ┆            ┆        ┆           ┆           │\n",
       "│ 353941  ┆ Talón de   ┆ 24064      ┆ cerartmex  ┆ … ┆ null       ┆ null   ┆ 0         ┆ null      │\n",
       "│         ┆ Aquiles    ┆            ┆            ┆   ┆            ┆        ┆           ┆           │\n",
       "│ 375995  ┆ Eterno     ┆ 25141      ┆ Cervecería ┆ … ┆ null       ┆ null   ┆ 0         ┆ null      │\n",
       "│         ┆ Instante   ┆            ┆ Eterno     ┆   ┆            ┆        ┆           ┆           │\n",
       "│         ┆            ┆            ┆ Instante   ┆   ┆            ┆        ┆           ┆           │\n",
       "│ 375996  ┆ Eterno     ┆ 25141      ┆ Cervecería ┆ … ┆ 2.0        ┆ null   ┆ 0         ┆ null      │\n",
       "│         ┆ Instante   ┆            ┆ Eterno     ┆   ┆            ┆        ┆           ┆           │\n",
       "│         ┆            ┆            ┆ Instante   ┆   ┆            ┆        ┆           ┆           │\n",
       "│ 422836  ┆ Syndicate  ┆ 26083      ┆ Syndicate  ┆ … ┆ 3.3        ┆ null   ┆ 0         ┆ null      │\n",
       "│         ┆ Roses     ┆            ┆ Beer &     ┆   ┆            ┆        ┆           ┆           │\n",
       "│         ┆ Name Abbey ┆            ┆ Grill      ┆   ┆            ┆        ┆           ┆           │\n",
       "│         ┆ Du…        ┆            ┆            ┆   ┆            ┆        ┆           ┆           │\n",
       "│ 408166  ┆ Syndicate  ┆ 26083      ┆ Syndicate  ┆ … ┆ 2.6        ┆ null   ┆ 0         ┆ null      │\n",
       "│         ┆ Roses     ┆            ┆ Beer &     ┆   ┆            ┆        ┆           ┆           │\n",
       "│         ┆ Name Abbey ┆            ┆ Grill      ┆   ┆            ┆        ┆           ┆           │\n",
       "│         ┆ Du…        ┆            ┆            ┆   ┆            ┆        ┆           ┆           │\n",
       "│ 285897  ┆ Prince     ┆ 3091       ┆ Prince     ┆ … ┆ 3.642857   ┆ null   ┆ 0         ┆ null      │\n",
       "│         ┆ Edward     ┆            ┆ Edward     ┆   ┆            ┆        ┆           ┆           │\n",
       "│         ┆ Island 8   ┆            ┆ Island     ┆   ┆            ┆        ┆           ┆           │\n",
       "│         ┆ Cord Do…   ┆            ┆ Brewing C… ┆   ┆            ┆        ┆           ┆           │\n",
       "│ 310659  ┆ Prince     ┆ 3091       ┆ Prince     ┆ … ┆ null       ┆ null   ┆ 0         ┆ null      │\n",
       "│         ┆ Edward     ┆            ┆ Edward     ┆   ┆            ┆        ┆           ┆           │\n",
       "│         ┆ Island 8   ┆            ┆ Island     ┆   ┆            ┆        ┆           ┆           │\n",
       "│         ┆ Cord Do…   ┆            ┆ Brewing C… ┆   ┆            ┆        ┆           ┆           │\n",
       "│ 510163  ┆ Isle de    ┆ 21105      ┆ Isle de    ┆ … ┆ 3.5        ┆ null   ┆ 0         ┆ null      │\n",
       "│         ┆ Garde      ┆            ┆ Garde      ┆   ┆            ┆        ┆           ┆           │\n",
       "│         ┆ Bitter     ┆            ┆            ┆   ┆            ┆        ┆           ┆           │\n",
       "│         ┆ Ordinaire  ┆            ┆            ┆   ┆            ┆        ┆           ┆           │\n",
       "│ 510165  ┆ Isle de    ┆ 21105      ┆ Isle de    ┆ … ┆ null       ┆ null   ┆ 0         ┆ null      │\n",
       "│         ┆ Garde      ┆            ┆ Garde      ┆   ┆            ┆        ┆           ┆           │\n",
       "│         ┆ Blonde     ┆            ┆            ┆   ┆            ┆        ┆           ┆           │\n",
       "│         ┆ Anglaise   ┆            ┆            ┆   ┆            ┆        ┆           ┆           │\n",
       "└─────────┴────────────┴────────────┴────────────┴───┴────────────┴────────┴───────────┴───────────┘"
      ]
     },
     "execution_count": 76,
     "metadata": {},
     "output_type": "execute_result"
    }
   ],
   "source": [
    "beers_duplicates = df_beers.filter(pl.struct([\"beer_name\", \"brewery_id\"]).is_duplicated())\n",
    "beers_duplicates.head(10)"
   ]
  },
  {
   "cell_type": "code",
   "execution_count": 77,
   "metadata": {
    "cell_id": "86ac8c25b264449f9b6413c4b32fe484",
    "deepnote_cell_type": "code",
    "deepnote_to_be_reexecuted": true,
    "execution_context_id": "1d364a27-a03d-47a8-a2fb-9e0c33ba1ff6",
    "execution_millis": 1,
    "execution_start": 1731594759338,
    "source_hash": "46012223"
   },
   "outputs": [
    {
     "data": {
      "text/html": [
       "<div><style>\n",
       ".dataframe > thead > tr,\n",
       ".dataframe > tbody > tr {\n",
       "  text-align: right;\n",
       "  white-space: pre-wrap;\n",
       "}\n",
       "</style>\n",
       "<small>shape: (438, 14)</small><table border=\"1\" class=\"dataframe\"><thead><tr><th>beer_id</th><th>beer_name</th><th>brewery_id</th><th>brewery_name</th><th>style</th><th>nbr_ratings</th><th>overall_score</th><th>style_score</th><th>avg</th><th>abv</th><th>avg_computed</th><th>zscore</th><th>nbr_matched_valid_ratings</th><th>avg_matched_valid_ratings</th></tr><tr><td>i64</td><td>str</td><td>i64</td><td>str</td><td>str</td><td>i64</td><td>f64</td><td>f64</td><td>f64</td><td>f64</td><td>f64</td><td>f64</td><td>i64</td><td>f64</td></tr></thead><tbody><tr><td>353940</td><td>&quot;Talón de Aquiles&quot;</td><td>24064</td><td>&quot;cerartmex&quot;</td><td>&quot;Porter&quot;</td><td>0</td><td>null</td><td>null</td><td>null</td><td>5.0</td><td>null</td><td>null</td><td>0</td><td>null</td></tr><tr><td>353941</td><td>&quot;Talón de Aquiles&quot;</td><td>24064</td><td>&quot;cerartmex&quot;</td><td>&quot;Porter&quot;</td><td>0</td><td>null</td><td>null</td><td>null</td><td>5.0</td><td>null</td><td>null</td><td>0</td><td>null</td></tr><tr><td>375995</td><td>&quot;Eterno Instante&quot;</td><td>25141</td><td>&quot;Cervecería Eterno Instante&quot;</td><td>&quot;Porter&quot;</td><td>0</td><td>null</td><td>null</td><td>null</td><td>5.0</td><td>null</td><td>null</td><td>0</td><td>null</td></tr><tr><td>375996</td><td>&quot;Eterno Instante&quot;</td><td>25141</td><td>&quot;Cervecería Eterno Instante&quot;</td><td>&quot;Porter&quot;</td><td>1</td><td>null</td><td>null</td><td>2.72</td><td>5.0</td><td>2.0</td><td>null</td><td>0</td><td>null</td></tr><tr><td>422836</td><td>&quot;Syndicate Roses Name Abbey Du…</td><td>26083</td><td>&quot;Syndicate Beer &amp; Grill&quot;</td><td>&quot;Abbey Dubbel&quot;</td><td>1</td><td>null</td><td>null</td><td>3.0</td><td>6.0</td><td>3.3</td><td>null</td><td>0</td><td>null</td></tr><tr><td>&hellip;</td><td>&hellip;</td><td>&hellip;</td><td>&hellip;</td><td>&hellip;</td><td>&hellip;</td><td>&hellip;</td><td>&hellip;</td><td>&hellip;</td><td>&hellip;</td><td>&hellip;</td><td>&hellip;</td><td>&hellip;</td><td>&hellip;</td></tr><tr><td>332721</td><td>&quot;Akitu Camellia IPA&quot;</td><td>23008</td><td>&quot;Akitu Brewing&quot;</td><td>&quot;India Pale Ale (IPA)&quot;</td><td>3</td><td>null</td><td>null</td><td>3.13</td><td>7.0</td><td>3.4</td><td>null</td><td>0</td><td>null</td></tr><tr><td>337288</td><td>&quot;Kempisch Vuur Blond&quot;</td><td>14263</td><td>&quot;Pirlot&quot;</td><td>&quot;Belgian Ale&quot;</td><td>1</td><td>null</td><td>null</td><td>3.11</td><td>5.0</td><td>3.8</td><td>null</td><td>0</td><td>null</td></tr><tr><td>15839</td><td>&quot;Kempisch Vuur Blond&quot;</td><td>14263</td><td>&quot;Pirlot&quot;</td><td>&quot;Belgian Ale&quot;</td><td>3</td><td>null</td><td>null</td><td>3.04</td><td>5.5</td><td>3.633333</td><td>null</td><td>0</td><td>null</td></tr><tr><td>480038</td><td>&quot;Brasserie du Quercorb Cascada&quot;</td><td>22081</td><td>&quot;Brasserie du Quercorb&quot;</td><td>&quot;Golden Ale/Blond Ale&quot;</td><td>0</td><td>null</td><td>null</td><td>null</td><td>3.8</td><td>null</td><td>null</td><td>0</td><td>null</td></tr><tr><td>371630</td><td>&quot;Brasserie du Quercorb Cascada&quot;</td><td>22081</td><td>&quot;Brasserie du Quercorb&quot;</td><td>&quot;Golden Ale/Blond Ale&quot;</td><td>3</td><td>null</td><td>null</td><td>3.27</td><td>3.8</td><td>3.7</td><td>null</td><td>0</td><td>null</td></tr></tbody></table></div>"
      ],
      "text/plain": [
       "shape: (438, 14)\n",
       "┌─────────┬────────────┬────────────┬────────────┬───┬────────────┬────────┬───────────┬───────────┐\n",
       "│ beer_id ┆ beer_name  ┆ brewery_id ┆ brewery_na ┆ … ┆ avg_comput ┆ zscore ┆ nbr_match ┆ avg_match │\n",
       "│ ---     ┆ ---        ┆ ---        ┆ me         ┆   ┆ ed         ┆ ---    ┆ ed_valid_ ┆ ed_valid_ │\n",
       "│ i64     ┆ str        ┆ i64        ┆ ---        ┆   ┆ ---        ┆ f64    ┆ ratings   ┆ ratings   │\n",
       "│         ┆            ┆            ┆ str        ┆   ┆ f64        ┆        ┆ ---       ┆ ---       │\n",
       "│         ┆            ┆            ┆            ┆   ┆            ┆        ┆ i64       ┆ f64       │\n",
       "╞═════════╪════════════╪════════════╪════════════╪═══╪════════════╪════════╪═══════════╪═══════════╡\n",
       "│ 353940  ┆ Talón de   ┆ 24064      ┆ cerartmex  ┆ … ┆ null       ┆ null   ┆ 0         ┆ null      │\n",
       "│         ┆ Aquiles    ┆            ┆            ┆   ┆            ┆        ┆           ┆           │\n",
       "│ 353941  ┆ Talón de   ┆ 24064      ┆ cerartmex  ┆ … ┆ null       ┆ null   ┆ 0         ┆ null      │\n",
       "│         ┆ Aquiles    ┆            ┆            ┆   ┆            ┆        ┆           ┆           │\n",
       "│ 375995  ┆ Eterno     ┆ 25141      ┆ Cervecería ┆ … ┆ null       ┆ null   ┆ 0         ┆ null      │\n",
       "│         ┆ Instante   ┆            ┆ Eterno     ┆   ┆            ┆        ┆           ┆           │\n",
       "│         ┆            ┆            ┆ Instante   ┆   ┆            ┆        ┆           ┆           │\n",
       "│ 375996  ┆ Eterno     ┆ 25141      ┆ Cervecería ┆ … ┆ 2.0        ┆ null   ┆ 0         ┆ null      │\n",
       "│         ┆ Instante   ┆            ┆ Eterno     ┆   ┆            ┆        ┆           ┆           │\n",
       "│         ┆            ┆            ┆ Instante   ┆   ┆            ┆        ┆           ┆           │\n",
       "│ 422836  ┆ Syndicate  ┆ 26083      ┆ Syndicate  ┆ … ┆ 3.3        ┆ null   ┆ 0         ┆ null      │\n",
       "│         ┆ Roses     ┆            ┆ Beer &     ┆   ┆            ┆        ┆           ┆           │\n",
       "│         ┆ Name Abbey ┆            ┆ Grill      ┆   ┆            ┆        ┆           ┆           │\n",
       "│         ┆ Du…        ┆            ┆            ┆   ┆            ┆        ┆           ┆           │\n",
       "│ …       ┆ …          ┆ …          ┆ …          ┆ … ┆ …          ┆ …      ┆ …         ┆ …         │\n",
       "│ 332721  ┆ Akitu      ┆ 23008      ┆ Akitu      ┆ … ┆ 3.4        ┆ null   ┆ 0         ┆ null      │\n",
       "│         ┆ Camellia   ┆            ┆ Brewing    ┆   ┆            ┆        ┆           ┆           │\n",
       "│         ┆ IPA        ┆            ┆            ┆   ┆            ┆        ┆           ┆           │\n",
       "│ 337288  ┆ Kempisch   ┆ 14263      ┆ Pirlot     ┆ … ┆ 3.8        ┆ null   ┆ 0         ┆ null      │\n",
       "│         ┆ Vuur Blond ┆            ┆            ┆   ┆            ┆        ┆           ┆           │\n",
       "│ 15839   ┆ Kempisch   ┆ 14263      ┆ Pirlot     ┆ … ┆ 3.633333   ┆ null   ┆ 0         ┆ null      │\n",
       "│         ┆ Vuur Blond ┆            ┆            ┆   ┆            ┆        ┆           ┆           │\n",
       "│ 480038  ┆ Brasserie  ┆ 22081      ┆ Brasserie  ┆ … ┆ null       ┆ null   ┆ 0         ┆ null      │\n",
       "│         ┆ du         ┆            ┆ du         ┆   ┆            ┆        ┆           ┆           │\n",
       "│         ┆ Quercorb   ┆            ┆ Quercorb   ┆   ┆            ┆        ┆           ┆           │\n",
       "│         ┆ Cascada    ┆            ┆            ┆   ┆            ┆        ┆           ┆           │\n",
       "│ 371630  ┆ Brasserie  ┆ 22081      ┆ Brasserie  ┆ … ┆ 3.7        ┆ null   ┆ 0         ┆ null      │\n",
       "│         ┆ du         ┆            ┆ du         ┆   ┆            ┆        ┆           ┆           │\n",
       "│         ┆ Quercorb   ┆            ┆ Quercorb   ┆   ┆            ┆        ┆           ┆           │\n",
       "│         ┆ Cascada    ┆            ┆            ┆   ┆            ┆        ┆           ┆           │\n",
       "└─────────┴────────────┴────────────┴────────────┴───┴────────────┴────────┴───────────┴───────────┘"
      ]
     },
     "execution_count": 77,
     "metadata": {},
     "output_type": "execute_result"
    }
   ],
   "source": [
    "beers_duplicates"
   ]
  },
  {
   "cell_type": "markdown",
   "metadata": {
    "cell_id": "f48f1458ecc44d0391ad90bbb46e6f03",
    "deepnote_cell_type": "text-cell-p",
    "formattedRanges": []
   },
   "source": [
    "We see that there are some duplicates but that they are not a significant number. Since we see that in some cases the style or the abv values are not consistent between duplicates and since, as already said, the number of duplicates is not significant, we'll drop them."
   ]
  },
  {
   "cell_type": "code",
   "execution_count": 78,
   "metadata": {
    "cell_id": "6213c9102ca24336a65a7104a1890e99",
    "deepnote_cell_type": "code",
    "deepnote_to_be_reexecuted": true,
    "execution_context_id": "1d364a27-a03d-47a8-a2fb-9e0c33ba1ff6",
    "execution_millis": 0,
    "execution_start": 1731594759390,
    "source_hash": "9f63cd6"
   },
   "outputs": [],
   "source": [
    "beer_ids_removed = beers_duplicates[\"beer_id\"].to_list()\n",
    "df_beers = df_beers.filter(~pl.col(\"beer_id\").is_in(beer_ids_removed))"
   ]
  },
  {
   "cell_type": "markdown",
   "metadata": {
    "cell_id": "1e90b77d08864cb8ac6583ffba3b9d5e",
    "deepnote_cell_type": "markdown"
   },
   "source": [
    "##### Breweries dataset"
   ]
  },
  {
   "cell_type": "markdown",
   "metadata": {
    "cell_id": "d19f95c3328e4b90b2f206ec2dd2018f",
    "deepnote_cell_type": "text-cell-p",
    "formattedRanges": []
   },
   "source": [
    "Now we can take a look at our breweries dataframe. For each brewery we have a location, a name and the amount of beers they produce, along with a unique identifier. The brewery location can be very useful for our research questions. We will look into this more later on in this notebook."
   ]
  },
  {
   "cell_type": "code",
   "execution_count": 79,
   "metadata": {
    "cell_id": "7aa0d1ef43ba4b2dbcdbfc80b58ee5f6",
    "deepnote_cell_type": "code",
    "deepnote_to_be_reexecuted": true,
    "execution_context_id": "1d364a27-a03d-47a8-a2fb-9e0c33ba1ff6",
    "execution_millis": 1,
    "execution_start": 1731594759442,
    "source_hash": "bebafbcd"
   },
   "outputs": [
    {
     "data": {
      "text/html": [
       "<div><style>\n",
       ".dataframe > thead > tr,\n",
       ".dataframe > tbody > tr {\n",
       "  text-align: right;\n",
       "  white-space: pre-wrap;\n",
       "}\n",
       "</style>\n",
       "<small>shape: (5, 4)</small><table border=\"1\" class=\"dataframe\"><thead><tr><th>id</th><th>location</th><th>name</th><th>nbr_beers</th></tr><tr><td>i64</td><td>str</td><td>str</td><td>i64</td></tr></thead><tbody><tr><td>12717</td><td>&quot;Germany&quot;</td><td>&quot;Brauhaus Weißes Häusl&quot;</td><td>5</td></tr><tr><td>8390</td><td>&quot;United States, California&quot;</td><td>&quot;Last Name Brewing&quot;</td><td>29</td></tr><tr><td>19726</td><td>&quot;United States, Colorado&quot;</td><td>&quot;38 State Brewing Company&quot;</td><td>35</td></tr><tr><td>18455</td><td>&quot;Canada&quot;</td><td>&quot;Brasserie Générale&quot;</td><td>42</td></tr><tr><td>16713</td><td>&quot;Portugal&quot;</td><td>&quot;Faustino Microcervejeira&quot;</td><td>30</td></tr></tbody></table></div>"
      ],
      "text/plain": [
       "shape: (5, 4)\n",
       "┌───────┬───────────────────────────┬──────────────────────────┬───────────┐\n",
       "│ id    ┆ location                  ┆ name                     ┆ nbr_beers │\n",
       "│ ---   ┆ ---                       ┆ ---                      ┆ ---       │\n",
       "│ i64   ┆ str                       ┆ str                      ┆ i64       │\n",
       "╞═══════╪═══════════════════════════╪══════════════════════════╪═══════════╡\n",
       "│ 12717 ┆ Germany                   ┆ Brauhaus Weißes Häusl    ┆ 5         │\n",
       "│ 8390  ┆ United States, California ┆ Last Name Brewing        ┆ 29        │\n",
       "│ 19726 ┆ United States, Colorado   ┆ 38 State Brewing Company ┆ 35        │\n",
       "│ 18455 ┆ Canada                    ┆ Brasserie Générale       ┆ 42        │\n",
       "│ 16713 ┆ Portugal                  ┆ Faustino Microcervejeira ┆ 30        │\n",
       "└───────┴───────────────────────────┴──────────────────────────┴───────────┘"
      ]
     },
     "execution_count": 79,
     "metadata": {},
     "output_type": "execute_result"
    }
   ],
   "source": [
    "df_breweries.sample(5)"
   ]
  },
  {
   "cell_type": "markdown",
   "metadata": {
    "cell_id": "d38b382feb5f4aa1b5979700f7f4e651",
    "deepnote_cell_type": "text-cell-p",
    "formattedRanges": []
   },
   "source": [
    "Now that we have an idea of how the features of our dataset look like, let's analyze the data of our dataset"
   ]
  },
  {
   "cell_type": "code",
   "execution_count": 80,
   "metadata": {
    "cell_id": "347c8e9ade9f43f28740e874f387f81a",
    "deepnote_cell_type": "code",
    "deepnote_to_be_reexecuted": true,
    "execution_context_id": "1d364a27-a03d-47a8-a2fb-9e0c33ba1ff6",
    "execution_millis": 1,
    "execution_start": 1731594759490,
    "source_hash": "799089a6"
   },
   "outputs": [
    {
     "name": "stdout",
     "output_type": "stream",
     "text": [
      "+-----------+--------+------------------+---------------+-----------+-----------------------+-------------------+\n",
      "| Column    | Type   |   Not null count |   Nulls count |   Nulls % |   Unique values count |   Unique values % |\n",
      "|-----------+--------+------------------+---------------+-----------+-----------------------+-------------------|\n",
      "| id        | Int64  |            24189 |             0 |    0.00 % |                 24189 |          100.00 % |\n",
      "| location  | String |            24189 |             0 |    0.00 % |                   267 |            1.10 % |\n",
      "| name      | String |            24189 |             0 |    0.00 % |                 24173 |           99.93 % |\n",
      "| nbr_beers | Int64  |            24189 |             0 |    0.00 % |                   271 |            1.12 % |\n",
      "+-----------+--------+------------------+---------------+-----------+-----------------------+-------------------+\n"
     ]
    }
   ],
   "source": [
    "describe(df_breweries)"
   ]
  },
  {
   "cell_type": "code",
   "execution_count": 81,
   "metadata": {
    "cell_id": "6cc6f3c09dbd4720898e4374bb141cba",
    "deepnote_cell_type": "code",
    "deepnote_to_be_reexecuted": true,
    "execution_context_id": "1d364a27-a03d-47a8-a2fb-9e0c33ba1ff6",
    "execution_millis": 0,
    "execution_start": 1731594759538,
    "source_hash": "f5ce00c1"
   },
   "outputs": [
    {
     "name": "stdout",
     "output_type": "stream",
     "text": [
      "+-----------+---------+---------+-------+-------+-------+-------+-------+\n",
      "| Column    |    Mean |     Std |   25% |   50% |   75% |   Min |   Max |\n",
      "|-----------+---------+---------+-------+-------+-------+-------+-------|\n",
      "| nbr_beers | 19.0227 | 31.5426 |     3 |     8 |    20 |     0 |   295 |\n",
      "+-----------+---------+---------+-------+-------+-------+-------+-------+\n"
     ]
    }
   ],
   "source": [
    "describe_numbers(df_breweries, filters=[\"id\"])"
   ]
  },
  {
   "cell_type": "markdown",
   "metadata": {
    "cell_id": "f6970e99ef11437eb2eac6241d03ebba",
    "deepnote_cell_type": "text-cell-p",
    "formattedRanges": []
   },
   "source": [
    "Since the users can insert the breweries by hand let's verify if there are some duplicates"
   ]
  },
  {
   "cell_type": "code",
   "execution_count": 82,
   "metadata": {
    "cell_id": "26ff932806324ad192ef749c26e69a64",
    "deepnote_app_block_visible": false,
    "deepnote_cell_type": "code",
    "deepnote_to_be_reexecuted": true,
    "execution_context_id": "1d364a27-a03d-47a8-a2fb-9e0c33ba1ff6",
    "execution_millis": 0,
    "execution_start": 1731594759590,
    "source_hash": "e4f86d11"
   },
   "outputs": [
    {
     "data": {
      "text/html": [
       "<div><style>\n",
       ".dataframe > thead > tr,\n",
       ".dataframe > tbody > tr {\n",
       "  text-align: right;\n",
       "  white-space: pre-wrap;\n",
       "}\n",
       "</style>\n",
       "<small>shape: (8, 4)</small><table border=\"1\" class=\"dataframe\"><thead><tr><th>id</th><th>location</th><th>name</th><th>nbr_beers</th></tr><tr><td>i64</td><td>str</td><td>str</td><td>i64</td></tr></thead><tbody><tr><td>23620</td><td>&quot;Canada&quot;</td><td>&quot;Ridge Brewing Company&quot;</td><td>15</td></tr><tr><td>3317</td><td>&quot;Canada&quot;</td><td>&quot;Ridge Brewing Company&quot;</td><td>12</td></tr><tr><td>10376</td><td>&quot;Lithuania&quot;</td><td>&quot;UAB Brauer&quot;</td><td>1</td></tr><tr><td>4714</td><td>&quot;Lithuania&quot;</td><td>&quot;UAB Brauer&quot;</td><td>7</td></tr><tr><td>11243</td><td>&quot;United States, California&quot;</td><td>&quot;California Brewing Company&quot;</td><td>6</td></tr><tr><td>2141</td><td>&quot;United States, California&quot;</td><td>&quot;California Brewing Company&quot;</td><td>3</td></tr><tr><td>9467</td><td>&quot;England&quot;</td><td>&quot;Freedom&quot;</td><td>4</td></tr><tr><td>6811</td><td>&quot;England&quot;</td><td>&quot;Freedom&quot;</td><td>31</td></tr></tbody></table></div>"
      ],
      "text/plain": [
       "shape: (8, 4)\n",
       "┌───────┬───────────────────────────┬────────────────────────────┬───────────┐\n",
       "│ id    ┆ location                  ┆ name                       ┆ nbr_beers │\n",
       "│ ---   ┆ ---                       ┆ ---                        ┆ ---       │\n",
       "│ i64   ┆ str                       ┆ str                        ┆ i64       │\n",
       "╞═══════╪═══════════════════════════╪════════════════════════════╪═══════════╡\n",
       "│ 23620 ┆ Canada                    ┆ Ridge Brewing Company      ┆ 15        │\n",
       "│ 3317  ┆ Canada                    ┆ Ridge Brewing Company      ┆ 12        │\n",
       "│ 10376 ┆ Lithuania                 ┆ UAB Brauer                 ┆ 1         │\n",
       "│ 4714  ┆ Lithuania                 ┆ UAB Brauer                 ┆ 7         │\n",
       "│ 11243 ┆ United States, California ┆ California Brewing Company ┆ 6         │\n",
       "│ 2141  ┆ United States, California ┆ California Brewing Company ┆ 3         │\n",
       "│ 9467  ┆ England                   ┆ Freedom                    ┆ 4         │\n",
       "│ 6811  ┆ England                   ┆ Freedom                    ┆ 31        │\n",
       "└───────┴───────────────────────────┴────────────────────────────┴───────────┘"
      ]
     },
     "execution_count": 82,
     "metadata": {},
     "output_type": "execute_result"
    }
   ],
   "source": [
    "breweries_duplicates = df_breweries.filter(pl.struct([\"name\", \"location\"]).is_duplicated())\n",
    "breweries_duplicates"
   ]
  },
  {
   "cell_type": "markdown",
   "metadata": {
    "cell_id": "abaee41288064d3ba95b492c9a26af5e",
    "deepnote_cell_type": "text-cell-p",
    "formattedRanges": []
   },
   "source": [
    "Here since the data are consistent we'll just fix this issue by remapping one of the two duplicates to the other one."
   ]
  },
  {
   "cell_type": "code",
   "execution_count": 83,
   "metadata": {
    "cell_id": "cb2fe7769e0949318f16c440727bfa25",
    "deepnote_cell_type": "code",
    "deepnote_to_be_reexecuted": true,
    "execution_context_id": "1d364a27-a03d-47a8-a2fb-9e0c33ba1ff6",
    "execution_millis": 2,
    "execution_start": 1731594759638,
    "source_hash": "4ff0b2f6"
   },
   "outputs": [],
   "source": [
    "# Define an aggregated dataset to map the duplicates ids\n",
    "aggregated = breweries_duplicates.join(breweries_duplicates, on=[\"name\", \"location\"], how=\"inner\")\n",
    "aggregated = aggregated.filter(pl.col(\"id\") < pl.col(\"id_right\"))\n",
    "\n",
    "# Create a mapping between the duplicates\n",
    "mapping = aggregated.select([\"id\", \"id_right\"]).to_pandas() # destination, source\n",
    "mapping = dict(zip(mapping[\"id_right\"], mapping[\"id\"]))"
   ]
  },
  {
   "cell_type": "markdown",
   "metadata": {
    "cell_id": "fe85e3a97b24496aa728d6a1345dd128",
    "deepnote_cell_type": "markdown"
   },
   "source": [
    "Let's to the mapping also in the beer dataset and then we can recompute the number of beers for each brewery."
   ]
  },
  {
   "cell_type": "code",
   "execution_count": 84,
   "metadata": {
    "cell_id": "688366d501a248d287702db0f4243594",
    "deepnote_cell_type": "code",
    "deepnote_to_be_reexecuted": true,
    "execution_context_id": "1d364a27-a03d-47a8-a2fb-9e0c33ba1ff6",
    "execution_millis": 21,
    "execution_start": 1731594759686,
    "source_hash": "194f927"
   },
   "outputs": [],
   "source": [
    "# Drop the column that are in the mapping\n",
    "df_breweries = df_breweries.filter(~pl.col(\"id\").is_in(list(mapping.keys())))\n",
    "\n",
    "# Change the ids in the beers dataset\n",
    "df_beers = df_beers.with_columns(pl.col(\"brewery_id\").replace(mapping))\n",
    "\n",
    "# Recompute the number of beers for each brewery\n",
    "aggregated_value = df_beers.group_by(\"brewery_id\").agg(pl.col(\"beer_id\").count().alias(\"beers_count\")).rename({\"brewery_id\": \"id\"})\n",
    "\n",
    "# Join the aggregated value with the breweries dataframe\n",
    "df_breweries = df_breweries.join(aggregated_value, on=\"id\", how=\"inner\")\n",
    "df_breweries = df_breweries.drop(\"nbr_beers\")\n",
    "\n",
    "# Cast the beers_count column to an integer\n",
    "df_breweries = df_breweries.with_columns(pl.col(\"beers_count\").cast(pl.Int32))"
   ]
  },
  {
   "cell_type": "markdown",
   "metadata": {
    "cell_id": "cab74c364f284af49d0290f8f771e40c",
    "deepnote_cell_type": "markdown"
   },
   "source": [
    "##### Users dataset"
   ]
  },
  {
   "cell_type": "markdown",
   "metadata": {
    "cell_id": "d694486ec67549189de56a13ae1dd2f0",
    "deepnote_cell_type": "text-cell-p",
    "formattedRanges": []
   },
   "source": [
    "For each of our users, we have their number of ratings/reviews, their ID, their name, the timestamp of when they joined and their location. The location is interesting for us, along with the number of reviews of each user."
   ]
  },
  {
   "cell_type": "code",
   "execution_count": 85,
   "metadata": {
    "cell_id": "771cc3cb175f444da4f68f8f71fc4469",
    "deepnote_cell_type": "code",
    "deepnote_to_be_reexecuted": true,
    "execution_context_id": "1d364a27-a03d-47a8-a2fb-9e0c33ba1ff6",
    "execution_millis": 1,
    "execution_start": 1731594759758,
    "source_hash": "6cfe966d"
   },
   "outputs": [
    {
     "data": {
      "text/html": [
       "<div><style>\n",
       ".dataframe > thead > tr,\n",
       ".dataframe > tbody > tr {\n",
       "  text-align: right;\n",
       "  white-space: pre-wrap;\n",
       "}\n",
       "</style>\n",
       "<small>shape: (5, 5)</small><table border=\"1\" class=\"dataframe\"><thead><tr><th>nbr_ratings</th><th>user_id</th><th>user_name</th><th>joined</th><th>location</th></tr><tr><td>i64</td><td>i64</td><td>str</td><td>f64</td><td>str</td></tr></thead><tbody><tr><td>5</td><td>51608</td><td>&quot;Moke&quot;</td><td>1.1743e9</td><td>&quot;Canada&quot;</td></tr><tr><td>2</td><td>84041</td><td>&quot;OldPutin&quot;</td><td>1.2280e9</td><td>&quot;United States, Nevada&quot;</td></tr><tr><td>21</td><td>291300</td><td>&quot;hna&quot;</td><td>1.3862e9</td><td>&quot;Norway&quot;</td></tr><tr><td>1</td><td>10748</td><td>&quot;mdmedic&quot;</td><td>1.0774e9</td><td>&quot;United States, Maryland&quot;</td></tr><tr><td>1</td><td>331215</td><td>&quot;smcorbett&quot;</td><td>1.4082e9</td><td>&quot;New Zealand&quot;</td></tr></tbody></table></div>"
      ],
      "text/plain": [
       "shape: (5, 5)\n",
       "┌─────────────┬─────────┬───────────┬──────────┬─────────────────────────┐\n",
       "│ nbr_ratings ┆ user_id ┆ user_name ┆ joined   ┆ location                │\n",
       "│ ---         ┆ ---     ┆ ---       ┆ ---      ┆ ---                     │\n",
       "│ i64         ┆ i64     ┆ str       ┆ f64      ┆ str                     │\n",
       "╞═════════════╪═════════╪═══════════╪══════════╪═════════════════════════╡\n",
       "│ 5           ┆ 51608   ┆ Moke      ┆ 1.1743e9 ┆ Canada                  │\n",
       "│ 2           ┆ 84041   ┆ OldPutin  ┆ 1.2280e9 ┆ United States, Nevada   │\n",
       "│ 21          ┆ 291300  ┆ hna       ┆ 1.3862e9 ┆ Norway                  │\n",
       "│ 1           ┆ 10748   ┆ mdmedic   ┆ 1.0774e9 ┆ United States, Maryland │\n",
       "│ 1           ┆ 331215  ┆ smcorbett ┆ 1.4082e9 ┆ New Zealand             │\n",
       "└─────────────┴─────────┴───────────┴──────────┴─────────────────────────┘"
      ]
     },
     "execution_count": 85,
     "metadata": {},
     "output_type": "execute_result"
    }
   ],
   "source": [
    "df_users.sample(5)"
   ]
  },
  {
   "cell_type": "markdown",
   "metadata": {
    "cell_id": "2f8dcbe3f61540f18ab4b77d7bf91988",
    "deepnote_cell_type": "markdown"
   },
   "source": [
    "Let's modify the joined column to make it in datetime format"
   ]
  },
  {
   "cell_type": "code",
   "execution_count": 86,
   "metadata": {
    "cell_id": "9d8dfb2551e54555b995d3c12daa0fc3",
    "deepnote_cell_type": "code",
    "deepnote_to_be_reexecuted": true,
    "execution_context_id": "1d364a27-a03d-47a8-a2fb-9e0c33ba1ff6",
    "execution_millis": 1,
    "execution_start": 1731594759806,
    "source_hash": "95299ff2"
   },
   "outputs": [
    {
     "data": {
      "text/html": [
       "<div><style>\n",
       ".dataframe > thead > tr,\n",
       ".dataframe > tbody > tr {\n",
       "  text-align: right;\n",
       "  white-space: pre-wrap;\n",
       "}\n",
       "</style>\n",
       "<small>shape: (5, 5)</small><table border=\"1\" class=\"dataframe\"><thead><tr><th>nbr_ratings</th><th>user_id</th><th>user_name</th><th>joined</th><th>location</th></tr><tr><td>i64</td><td>i64</td><td>str</td><td>datetime[ms]</td><td>str</td></tr></thead><tbody><tr><td>17</td><td>64219</td><td>&quot;SirPip&quot;</td><td>2007-11-16 11:00:00</td><td>&quot;United States, Minnesota&quot;</td></tr><tr><td>1</td><td>375999</td><td>&quot;JavierN74&quot;</td><td>2015-07-05 10:00:00</td><td>&quot;Spain&quot;</td></tr><tr><td>2</td><td>31891</td><td>&quot;Nietzsche&quot;</td><td>2006-01-05 11:00:00</td><td>&quot;England&quot;</td></tr><tr><td>1</td><td>234845</td><td>&quot;NickPatel324&quot;</td><td>2012-12-22 11:00:00</td><td>&quot;United States, Florida&quot;</td></tr><tr><td>2</td><td>397685</td><td>&quot;Zigzaz&quot;</td><td>2016-01-15 11:00:00</td><td>&quot;Poland&quot;</td></tr></tbody></table></div>"
      ],
      "text/plain": [
       "shape: (5, 5)\n",
       "┌─────────────┬─────────┬──────────────┬─────────────────────┬──────────────────────────┐\n",
       "│ nbr_ratings ┆ user_id ┆ user_name    ┆ joined              ┆ location                 │\n",
       "│ ---         ┆ ---     ┆ ---          ┆ ---                 ┆ ---                      │\n",
       "│ i64         ┆ i64     ┆ str          ┆ datetime[ms]        ┆ str                      │\n",
       "╞═════════════╪═════════╪══════════════╪═════════════════════╪══════════════════════════╡\n",
       "│ 17          ┆ 64219   ┆ SirPip       ┆ 2007-11-16 11:00:00 ┆ United States, Minnesota │\n",
       "│ 1           ┆ 375999  ┆ JavierN74    ┆ 2015-07-05 10:00:00 ┆ Spain                    │\n",
       "│ 2           ┆ 31891   ┆ Nietzsche    ┆ 2006-01-05 11:00:00 ┆ England                  │\n",
       "│ 1           ┆ 234845  ┆ NickPatel324 ┆ 2012-12-22 11:00:00 ┆ United States, Florida   │\n",
       "│ 2           ┆ 397685  ┆ Zigzaz       ┆ 2016-01-15 11:00:00 ┆ Poland                   │\n",
       "└─────────────┴─────────┴──────────────┴─────────────────────┴──────────────────────────┘"
      ]
     },
     "execution_count": 86,
     "metadata": {},
     "output_type": "execute_result"
    }
   ],
   "source": [
    "df_users = df_users.with_columns((pl.col(\"joined\").cast(pl.Int64) * 1000).cast(pl.Datetime(\"ms\")))\n",
    "df_users.sample(5)"
   ]
  },
  {
   "cell_type": "markdown",
   "metadata": {
    "cell_id": "a5bd90a6be2a43e5b812ee7c740c8aec",
    "deepnote_cell_type": "text-cell-p",
    "formattedRanges": []
   },
   "source": [
    "Now that we have an idea of what the features of our dataset look like, let's study the content of our dataset"
   ]
  },
  {
   "cell_type": "code",
   "execution_count": 87,
   "metadata": {
    "cell_id": "5c7c8eb2028b4f288e136310e35abe5c",
    "deepnote_cell_type": "code",
    "deepnote_to_be_reexecuted": true,
    "execution_context_id": "1d364a27-a03d-47a8-a2fb-9e0c33ba1ff6",
    "execution_millis": 0,
    "execution_start": 1731594759854,
    "source_hash": "369292e7"
   },
   "outputs": [
    {
     "name": "stdout",
     "output_type": "stream",
     "text": [
      "+-------------+------------------------------------------+------------------+---------------+-----------+-----------------------+-------------------+\n",
      "| Column      | Type                                     |   Not null count |   Nulls count |   Nulls % |   Unique values count |   Unique values % |\n",
      "|-------------+------------------------------------------+------------------+---------------+-----------+-----------------------+-------------------|\n",
      "| nbr_ratings | Int64                                    |            70174 |             0 |    0.00 % |                  2250 |            3.21 % |\n",
      "| user_id     | Int64                                    |            70174 |             0 |    0.00 % |                 70120 |           99.92 % |\n",
      "| user_name   | String                                   |            70174 |             0 |    0.00 % |                 70174 |          100.00 % |\n",
      "| joined      | Datetime(time_unit='ms', time_zone=None) |            70144 |            30 |    0.04 % |                  5960 |            8.50 % |\n",
      "| location    | String                                   |            50592 |         19582 |   27.90 % |                   223 |            0.44 % |\n",
      "+-------------+------------------------------------------+------------------+---------------+-----------+-----------------------+-------------------+\n"
     ]
    }
   ],
   "source": [
    "describe(df_users)"
   ]
  },
  {
   "cell_type": "code",
   "execution_count": 88,
   "metadata": {
    "cell_id": "59f946373d7849b2b52391bec2f6be9b",
    "deepnote_cell_type": "code",
    "deepnote_to_be_reexecuted": true,
    "execution_context_id": "1d364a27-a03d-47a8-a2fb-9e0c33ba1ff6",
    "execution_millis": 1,
    "execution_start": 1731594759906,
    "source_hash": "df1bbda8"
   },
   "outputs": [
    {
     "name": "stdout",
     "output_type": "stream",
     "text": [
      "+-------------+---------+---------+-------+-------+-------+-------+-------+\n",
      "| Column      |    Mean |     Std |   25% |   50% |   75% |   Min |   Max |\n",
      "|-------------+---------+---------+-------+-------+-------+-------+-------|\n",
      "| nbr_ratings | 108.821 | 754.493 |     1 |     2 |    10 |     1 | 46749 |\n",
      "+-------------+---------+---------+-------+-------+-------+-------+-------+\n"
     ]
    }
   ],
   "source": [
    "describe_numbers(df_users, filters=[\"user_id\", \"joined\"])"
   ]
  },
  {
   "cell_type": "markdown",
   "metadata": {
    "cell_id": "d0d2224709fe4646be0fb25e18a550d0",
    "deepnote_cell_type": "text-cell-p",
    "formattedRanges": []
   },
   "source": [
    "Strangely there are some duplicates user_ids. "
   ]
  },
  {
   "cell_type": "code",
   "execution_count": 89,
   "metadata": {
    "cell_id": "9caf868cf4b3494eaa7ec02ddcf84ac3",
    "deepnote_cell_type": "code",
    "deepnote_table_loading": false,
    "deepnote_table_state": {
     "conditionalFilters": [],
     "filters": [],
     "pageIndex": 0,
     "pageSize": 10,
     "sortBy": [],
     "wrappedTextColumnIds": []
    },
    "deepnote_to_be_reexecuted": true,
    "execution_context_id": "1d364a27-a03d-47a8-a2fb-9e0c33ba1ff6",
    "execution_millis": 1,
    "execution_start": 1731594759958,
    "source_hash": "35a36413"
   },
   "outputs": [
    {
     "data": {
      "text/html": [
       "<div><style>\n",
       ".dataframe > thead > tr,\n",
       ".dataframe > tbody > tr {\n",
       "  text-align: right;\n",
       "  white-space: pre-wrap;\n",
       "}\n",
       "</style>\n",
       "<small>shape: (60, 5)</small><table border=\"1\" class=\"dataframe\"><thead><tr><th>nbr_ratings</th><th>user_id</th><th>user_name</th><th>joined</th><th>location</th></tr><tr><td>i64</td><td>i64</td><td>str</td><td>datetime[ms]</td><td>str</td></tr></thead><tbody><tr><td>1</td><td>46797</td><td>&quot;&lt;span class=&quot;__cf_email__&quot; dat…</td><td>2006-12-19 11:00:00</td><td>&quot;United States, Arkansas&quot;</td></tr><tr><td>1</td><td>46797</td><td>&quot;&lt;span class=&quot;__cf_email__&quot; dat…</td><td>2006-12-19 11:00:00</td><td>&quot;United States, Arkansas&quot;</td></tr><tr><td>1</td><td>46797</td><td>&quot;&lt;span class=&quot;__cf_email__&quot; dat…</td><td>2006-12-19 11:00:00</td><td>&quot;United States, Arkansas&quot;</td></tr><tr><td>2</td><td>46797</td><td>&quot;&lt;span class=&quot;__cf_email__&quot; dat…</td><td>2006-12-19 11:00:00</td><td>&quot;United States, Arkansas&quot;</td></tr><tr><td>1</td><td>3070</td><td>&quot;&lt;span class=&quot;__cf_email__&quot; dat…</td><td>2002-01-26 11:00:00</td><td>&quot;United States, Ohio&quot;</td></tr><tr><td>&hellip;</td><td>&hellip;</td><td>&hellip;</td><td>&hellip;</td><td>&hellip;</td></tr><tr><td>1</td><td>46797</td><td>&quot;&lt;span class=&quot;__cf_email__&quot; dat…</td><td>2006-12-19 11:00:00</td><td>&quot;United States, Arkansas&quot;</td></tr><tr><td>1</td><td>427060</td><td>&quot;&lt;span class=&quot;__cf_email__&quot; dat…</td><td>2016-09-08 10:00:00</td><td>null</td></tr><tr><td>1</td><td>46797</td><td>&quot;&lt;span class=&quot;__cf_email__&quot; dat…</td><td>2006-12-19 11:00:00</td><td>&quot;United States, Arkansas&quot;</td></tr><tr><td>1</td><td>427060</td><td>&quot;&lt;span class=&quot;__cf_email__&quot; dat…</td><td>2016-09-08 10:00:00</td><td>null</td></tr><tr><td>1</td><td>65919</td><td>&quot;(5)&lt;/A&gt;&lt;/I&gt; - , Connecticut, U…</td><td>2007-12-16 11:00:00</td><td>&quot;United States, Connecticut&quot;</td></tr></tbody></table></div>"
      ],
      "text/plain": [
       "shape: (60, 5)\n",
       "┌─────────────┬─────────┬──────────────────────┬─────────────────────┬─────────────────────────────┐\n",
       "│ nbr_ratings ┆ user_id ┆ user_name            ┆ joined              ┆ location                    │\n",
       "│ ---         ┆ ---     ┆ ---                  ┆ ---                 ┆ ---                         │\n",
       "│ i64         ┆ i64     ┆ str                  ┆ datetime[ms]        ┆ str                         │\n",
       "╞═════════════╪═════════╪══════════════════════╪═════════════════════╪═════════════════════════════╡\n",
       "│ 1           ┆ 46797   ┆ <span                ┆ 2006-12-19 11:00:00 ┆ United States, Arkansas     │\n",
       "│             ┆         ┆ class=\"__cf_email__\" ┆                     ┆                             │\n",
       "│             ┆         ┆ dat…                 ┆                     ┆                             │\n",
       "│ 1           ┆ 46797   ┆ <span                ┆ 2006-12-19 11:00:00 ┆ United States, Arkansas     │\n",
       "│             ┆         ┆ class=\"__cf_email__\" ┆                     ┆                             │\n",
       "│             ┆         ┆ dat…                 ┆                     ┆                             │\n",
       "│ 1           ┆ 46797   ┆ <span                ┆ 2006-12-19 11:00:00 ┆ United States, Arkansas     │\n",
       "│             ┆         ┆ class=\"__cf_email__\" ┆                     ┆                             │\n",
       "│             ┆         ┆ dat…                 ┆                     ┆                             │\n",
       "│ 2           ┆ 46797   ┆ <span                ┆ 2006-12-19 11:00:00 ┆ United States, Arkansas     │\n",
       "│             ┆         ┆ class=\"__cf_email__\" ┆                     ┆                             │\n",
       "│             ┆         ┆ dat…                 ┆                     ┆                             │\n",
       "│ 1           ┆ 3070    ┆ <span                ┆ 2002-01-26 11:00:00 ┆ United States, Ohio         │\n",
       "│             ┆         ┆ class=\"__cf_email__\" ┆                     ┆                             │\n",
       "│             ┆         ┆ dat…                 ┆                     ┆                             │\n",
       "│ …           ┆ …       ┆ …                    ┆ …                   ┆ …                           │\n",
       "│ 1           ┆ 46797   ┆ <span                ┆ 2006-12-19 11:00:00 ┆ United States, Arkansas     │\n",
       "│             ┆         ┆ class=\"__cf_email__\" ┆                     ┆                             │\n",
       "│             ┆         ┆ dat…                 ┆                     ┆                             │\n",
       "│ 1           ┆ 427060  ┆ <span                ┆ 2016-09-08 10:00:00 ┆ null                        │\n",
       "│             ┆         ┆ class=\"__cf_email__\" ┆                     ┆                             │\n",
       "│             ┆         ┆ dat…                 ┆                     ┆                             │\n",
       "│ 1           ┆ 46797   ┆ <span                ┆ 2006-12-19 11:00:00 ┆ United States, Arkansas     │\n",
       "│             ┆         ┆ class=\"__cf_email__\" ┆                     ┆                             │\n",
       "│             ┆         ┆ dat…                 ┆                     ┆                             │\n",
       "│ 1           ┆ 427060  ┆ <span                ┆ 2016-09-08 10:00:00 ┆ null                        │\n",
       "│             ┆         ┆ class=\"__cf_email__\" ┆                     ┆                             │\n",
       "│             ┆         ┆ dat…                 ┆                     ┆                             │\n",
       "│ 1           ┆ 65919   ┆ (5)</A></I> - ,      ┆ 2007-12-16 11:00:00 ┆ United States, Connecticut  │\n",
       "│             ┆         ┆ Connecticut, U…      ┆                     ┆                             │\n",
       "└─────────────┴─────────┴──────────────────────┴─────────────────────┴─────────────────────────────┘"
      ]
     },
     "execution_count": 89,
     "metadata": {},
     "output_type": "execute_result"
    }
   ],
   "source": [
    "user_duplicates = df_users.filter(pl.col(\"user_id\").is_duplicated())\n",
    "user_duplicates"
   ]
  },
  {
   "cell_type": "markdown",
   "metadata": {
    "cell_id": "5ea86a9ffb144a05ac62a911dd603bef",
    "deepnote_cell_type": "text-cell-p",
    "formattedRanges": []
   },
   "source": [
    "It seems that there has been some issues in the creation of these users and their username contains some html code. Let's investigate this more"
   ]
  },
  {
   "cell_type": "code",
   "execution_count": 90,
   "metadata": {
    "cell_id": "773c6314fc3e485fbd943a5c2bc1b8da",
    "deepnote_cell_type": "code",
    "deepnote_to_be_reexecuted": true,
    "execution_context_id": "1d364a27-a03d-47a8-a2fb-9e0c33ba1ff6",
    "execution_millis": 1,
    "execution_start": 1731594760006,
    "source_hash": "4bb236f3"
   },
   "outputs": [
    {
     "data": {
      "text/html": [
       "<div><style>\n",
       ".dataframe > thead > tr,\n",
       ".dataframe > tbody > tr {\n",
       "  text-align: right;\n",
       "  white-space: pre-wrap;\n",
       "}\n",
       "</style>\n",
       "<small>shape: (63, 5)</small><table border=\"1\" class=\"dataframe\"><thead><tr><th>nbr_ratings</th><th>user_id</th><th>user_name</th><th>joined</th><th>location</th></tr><tr><td>i64</td><td>i64</td><td>str</td><td>datetime[ms]</td><td>str</td></tr></thead><tbody><tr><td>1</td><td>46797</td><td>&quot;&lt;span class=&quot;__cf_email__&quot; dat…</td><td>2006-12-19 11:00:00</td><td>&quot;United States, Arkansas&quot;</td></tr><tr><td>1</td><td>46797</td><td>&quot;&lt;span class=&quot;__cf_email__&quot; dat…</td><td>2006-12-19 11:00:00</td><td>&quot;United States, Arkansas&quot;</td></tr><tr><td>1</td><td>46797</td><td>&quot;&lt;span class=&quot;__cf_email__&quot; dat…</td><td>2006-12-19 11:00:00</td><td>&quot;United States, Arkansas&quot;</td></tr><tr><td>2</td><td>46797</td><td>&quot;&lt;span class=&quot;__cf_email__&quot; dat…</td><td>2006-12-19 11:00:00</td><td>&quot;United States, Arkansas&quot;</td></tr><tr><td>1</td><td>1502</td><td>&quot;&lt;span class=&quot;__cf_email__&quot; dat…</td><td>2001-08-28 10:00:00</td><td>&quot;Canada&quot;</td></tr><tr><td>&hellip;</td><td>&hellip;</td><td>&hellip;</td><td>&hellip;</td><td>&hellip;</td></tr><tr><td>1</td><td>427060</td><td>&quot;&lt;span class=&quot;__cf_email__&quot; dat…</td><td>2016-09-08 10:00:00</td><td>null</td></tr><tr><td>1</td><td>46797</td><td>&quot;&lt;span class=&quot;__cf_email__&quot; dat…</td><td>2006-12-19 11:00:00</td><td>&quot;United States, Arkansas&quot;</td></tr><tr><td>1</td><td>427060</td><td>&quot;&lt;span class=&quot;__cf_email__&quot; dat…</td><td>2016-09-08 10:00:00</td><td>null</td></tr><tr><td>1</td><td>46797</td><td>&quot;&lt;span class=&quot;__cf_email__&quot; dat…</td><td>2006-12-19 11:00:00</td><td>&quot;United States, Arkansas&quot;</td></tr><tr><td>1</td><td>427060</td><td>&quot;&lt;span class=&quot;__cf_email__&quot; dat…</td><td>2016-09-08 10:00:00</td><td>null</td></tr></tbody></table></div>"
      ],
      "text/plain": [
       "shape: (63, 5)\n",
       "┌─────────────┬─────────┬──────────────────────┬─────────────────────┬─────────────────────────┐\n",
       "│ nbr_ratings ┆ user_id ┆ user_name            ┆ joined              ┆ location                │\n",
       "│ ---         ┆ ---     ┆ ---                  ┆ ---                 ┆ ---                     │\n",
       "│ i64         ┆ i64     ┆ str                  ┆ datetime[ms]        ┆ str                     │\n",
       "╞═════════════╪═════════╪══════════════════════╪═════════════════════╪═════════════════════════╡\n",
       "│ 1           ┆ 46797   ┆ <span                ┆ 2006-12-19 11:00:00 ┆ United States, Arkansas │\n",
       "│             ┆         ┆ class=\"__cf_email__\" ┆                     ┆                         │\n",
       "│             ┆         ┆ dat…                 ┆                     ┆                         │\n",
       "│ 1           ┆ 46797   ┆ <span                ┆ 2006-12-19 11:00:00 ┆ United States, Arkansas │\n",
       "│             ┆         ┆ class=\"__cf_email__\" ┆                     ┆                         │\n",
       "│             ┆         ┆ dat…                 ┆                     ┆                         │\n",
       "│ 1           ┆ 46797   ┆ <span                ┆ 2006-12-19 11:00:00 ┆ United States, Arkansas │\n",
       "│             ┆         ┆ class=\"__cf_email__\" ┆                     ┆                         │\n",
       "│             ┆         ┆ dat…                 ┆                     ┆                         │\n",
       "│ 2           ┆ 46797   ┆ <span                ┆ 2006-12-19 11:00:00 ┆ United States, Arkansas │\n",
       "│             ┆         ┆ class=\"__cf_email__\" ┆                     ┆                         │\n",
       "│             ┆         ┆ dat…                 ┆                     ┆                         │\n",
       "│ 1           ┆ 1502    ┆ <span                ┆ 2001-08-28 10:00:00 ┆ Canada                  │\n",
       "│             ┆         ┆ class=\"__cf_email__\" ┆                     ┆                         │\n",
       "│             ┆         ┆ dat…                 ┆                     ┆                         │\n",
       "│ …           ┆ …       ┆ …                    ┆ …                   ┆ …                       │\n",
       "│ 1           ┆ 427060  ┆ <span                ┆ 2016-09-08 10:00:00 ┆ null                    │\n",
       "│             ┆         ┆ class=\"__cf_email__\" ┆                     ┆                         │\n",
       "│             ┆         ┆ dat…                 ┆                     ┆                         │\n",
       "│ 1           ┆ 46797   ┆ <span                ┆ 2006-12-19 11:00:00 ┆ United States, Arkansas │\n",
       "│             ┆         ┆ class=\"__cf_email__\" ┆                     ┆                         │\n",
       "│             ┆         ┆ dat…                 ┆                     ┆                         │\n",
       "│ 1           ┆ 427060  ┆ <span                ┆ 2016-09-08 10:00:00 ┆ null                    │\n",
       "│             ┆         ┆ class=\"__cf_email__\" ┆                     ┆                         │\n",
       "│             ┆         ┆ dat…                 ┆                     ┆                         │\n",
       "│ 1           ┆ 46797   ┆ <span                ┆ 2006-12-19 11:00:00 ┆ United States, Arkansas │\n",
       "│             ┆         ┆ class=\"__cf_email__\" ┆                     ┆                         │\n",
       "│             ┆         ┆ dat…                 ┆                     ┆                         │\n",
       "│ 1           ┆ 427060  ┆ <span                ┆ 2016-09-08 10:00:00 ┆ null                    │\n",
       "│             ┆         ┆ class=\"__cf_email__\" ┆                     ┆                         │\n",
       "│             ┆         ┆ dat…                 ┆                     ┆                         │\n",
       "└─────────────┴─────────┴──────────────────────┴─────────────────────┴─────────────────────────┘"
      ]
     },
     "execution_count": 90,
     "metadata": {},
     "output_type": "execute_result"
    }
   ],
   "source": [
    "strange_users = df_users.filter(pl.col(\"user_name\").str.contains(\"<span\"))\n",
    "strange_users"
   ]
  },
  {
   "cell_type": "code",
   "execution_count": 91,
   "metadata": {
    "cell_id": "c7ba48adb14a4a86a58e4ad5c45ffc9b",
    "deepnote_cell_type": "code",
    "deepnote_to_be_reexecuted": true,
    "execution_context_id": "1d364a27-a03d-47a8-a2fb-9e0c33ba1ff6",
    "execution_millis": 0,
    "execution_start": 1731594760054,
    "source_hash": "b4706f86"
   },
   "outputs": [
    {
     "data": {
      "text/html": [
       "<div><style>\n",
       ".dataframe > thead > tr,\n",
       ".dataframe > tbody > tr {\n",
       "  text-align: right;\n",
       "  white-space: pre-wrap;\n",
       "}\n",
       "</style>\n",
       "<small>shape: (57, 5)</small><table border=\"1\" class=\"dataframe\"><thead><tr><th>nbr_ratings</th><th>user_id</th><th>user_name</th><th>joined</th><th>location</th></tr><tr><td>i64</td><td>i64</td><td>str</td><td>datetime[ms]</td><td>str</td></tr></thead><tbody><tr><td>1</td><td>46797</td><td>&quot;&lt;span class=&quot;__cf_email__&quot; dat…</td><td>2006-12-19 11:00:00</td><td>&quot;United States, Arkansas&quot;</td></tr><tr><td>1</td><td>46797</td><td>&quot;&lt;span class=&quot;__cf_email__&quot; dat…</td><td>2006-12-19 11:00:00</td><td>&quot;United States, Arkansas&quot;</td></tr><tr><td>1</td><td>46797</td><td>&quot;&lt;span class=&quot;__cf_email__&quot; dat…</td><td>2006-12-19 11:00:00</td><td>&quot;United States, Arkansas&quot;</td></tr><tr><td>2</td><td>46797</td><td>&quot;&lt;span class=&quot;__cf_email__&quot; dat…</td><td>2006-12-19 11:00:00</td><td>&quot;United States, Arkansas&quot;</td></tr><tr><td>1</td><td>3070</td><td>&quot;&lt;span class=&quot;__cf_email__&quot; dat…</td><td>2002-01-26 11:00:00</td><td>&quot;United States, Ohio&quot;</td></tr><tr><td>&hellip;</td><td>&hellip;</td><td>&hellip;</td><td>&hellip;</td><td>&hellip;</td></tr><tr><td>1</td><td>427060</td><td>&quot;&lt;span class=&quot;__cf_email__&quot; dat…</td><td>2016-09-08 10:00:00</td><td>null</td></tr><tr><td>1</td><td>46797</td><td>&quot;&lt;span class=&quot;__cf_email__&quot; dat…</td><td>2006-12-19 11:00:00</td><td>&quot;United States, Arkansas&quot;</td></tr><tr><td>1</td><td>427060</td><td>&quot;&lt;span class=&quot;__cf_email__&quot; dat…</td><td>2016-09-08 10:00:00</td><td>null</td></tr><tr><td>1</td><td>46797</td><td>&quot;&lt;span class=&quot;__cf_email__&quot; dat…</td><td>2006-12-19 11:00:00</td><td>&quot;United States, Arkansas&quot;</td></tr><tr><td>1</td><td>427060</td><td>&quot;&lt;span class=&quot;__cf_email__&quot; dat…</td><td>2016-09-08 10:00:00</td><td>null</td></tr></tbody></table></div>"
      ],
      "text/plain": [
       "shape: (57, 5)\n",
       "┌─────────────┬─────────┬──────────────────────┬─────────────────────┬─────────────────────────┐\n",
       "│ nbr_ratings ┆ user_id ┆ user_name            ┆ joined              ┆ location                │\n",
       "│ ---         ┆ ---     ┆ ---                  ┆ ---                 ┆ ---                     │\n",
       "│ i64         ┆ i64     ┆ str                  ┆ datetime[ms]        ┆ str                     │\n",
       "╞═════════════╪═════════╪══════════════════════╪═════════════════════╪═════════════════════════╡\n",
       "│ 1           ┆ 46797   ┆ <span                ┆ 2006-12-19 11:00:00 ┆ United States, Arkansas │\n",
       "│             ┆         ┆ class=\"__cf_email__\" ┆                     ┆                         │\n",
       "│             ┆         ┆ dat…                 ┆                     ┆                         │\n",
       "│ 1           ┆ 46797   ┆ <span                ┆ 2006-12-19 11:00:00 ┆ United States, Arkansas │\n",
       "│             ┆         ┆ class=\"__cf_email__\" ┆                     ┆                         │\n",
       "│             ┆         ┆ dat…                 ┆                     ┆                         │\n",
       "│ 1           ┆ 46797   ┆ <span                ┆ 2006-12-19 11:00:00 ┆ United States, Arkansas │\n",
       "│             ┆         ┆ class=\"__cf_email__\" ┆                     ┆                         │\n",
       "│             ┆         ┆ dat…                 ┆                     ┆                         │\n",
       "│ 2           ┆ 46797   ┆ <span                ┆ 2006-12-19 11:00:00 ┆ United States, Arkansas │\n",
       "│             ┆         ┆ class=\"__cf_email__\" ┆                     ┆                         │\n",
       "│             ┆         ┆ dat…                 ┆                     ┆                         │\n",
       "│ 1           ┆ 3070    ┆ <span                ┆ 2002-01-26 11:00:00 ┆ United States, Ohio     │\n",
       "│             ┆         ┆ class=\"__cf_email__\" ┆                     ┆                         │\n",
       "│             ┆         ┆ dat…                 ┆                     ┆                         │\n",
       "│ …           ┆ …       ┆ …                    ┆ …                   ┆ …                       │\n",
       "│ 1           ┆ 427060  ┆ <span                ┆ 2016-09-08 10:00:00 ┆ null                    │\n",
       "│             ┆         ┆ class=\"__cf_email__\" ┆                     ┆                         │\n",
       "│             ┆         ┆ dat…                 ┆                     ┆                         │\n",
       "│ 1           ┆ 46797   ┆ <span                ┆ 2006-12-19 11:00:00 ┆ United States, Arkansas │\n",
       "│             ┆         ┆ class=\"__cf_email__\" ┆                     ┆                         │\n",
       "│             ┆         ┆ dat…                 ┆                     ┆                         │\n",
       "│ 1           ┆ 427060  ┆ <span                ┆ 2016-09-08 10:00:00 ┆ null                    │\n",
       "│             ┆         ┆ class=\"__cf_email__\" ┆                     ┆                         │\n",
       "│             ┆         ┆ dat…                 ┆                     ┆                         │\n",
       "│ 1           ┆ 46797   ┆ <span                ┆ 2006-12-19 11:00:00 ┆ United States, Arkansas │\n",
       "│             ┆         ┆ class=\"__cf_email__\" ┆                     ┆                         │\n",
       "│             ┆         ┆ dat…                 ┆                     ┆                         │\n",
       "│ 1           ┆ 427060  ┆ <span                ┆ 2016-09-08 10:00:00 ┆ null                    │\n",
       "│             ┆         ┆ class=\"__cf_email__\" ┆                     ┆                         │\n",
       "│             ┆         ┆ dat…                 ┆                     ┆                         │\n",
       "└─────────────┴─────────┴──────────────────────┴─────────────────────┴─────────────────────────┘"
      ]
     },
     "execution_count": 91,
     "metadata": {},
     "output_type": "execute_result"
    }
   ],
   "source": [
    "strange_users_duplicates = user_duplicates.filter(pl.col(\"user_name\").str.contains(\"span\"))\n",
    "strange_users_duplicates"
   ]
  },
  {
   "cell_type": "markdown",
   "metadata": {
    "cell_id": "42efbb9f87aa4bc18ebf1680adf926fe",
    "deepnote_cell_type": "text-cell-p",
    "formattedRanges": []
   },
   "source": [
    "We see that the two subgroups of users (the ones with duplicated id and a bad formatted username) are almost the same. For this reason we'll drop them since there has been most likely an issue in the creation of their account or in the scraping of the data."
   ]
  },
  {
   "cell_type": "code",
   "execution_count": 92,
   "metadata": {
    "cell_id": "34a8510edcfb48369b241b9d8b158bbf",
    "deepnote_cell_type": "code",
    "deepnote_to_be_reexecuted": true,
    "execution_context_id": "1d364a27-a03d-47a8-a2fb-9e0c33ba1ff6",
    "execution_millis": 0,
    "execution_start": 1731594760106,
    "source_hash": "a8c9add6"
   },
   "outputs": [],
   "source": [
    "duplicates_ids = user_duplicates.select(\"user_id\").unique()\n",
    "strange_ids = strange_users.select(\"user_id\").unique()\n",
    "user_ids_remove = pl.concat([duplicates_ids, strange_ids]).unique(subset=\"user_id\")[\"user_id\"].to_list()\n",
    "df_users = df_users.filter(~pl.col(\"user_id\").is_in(user_ids_remove))"
   ]
  },
  {
   "cell_type": "markdown",
   "metadata": {
    "cell_id": "31e00bbe7c1444eca575c6cc8f4d2412",
    "deepnote_cell_type": "markdown"
   },
   "source": [
    "##### Ratings"
   ]
  },
  {
   "cell_type": "code",
   "execution_count": 93,
   "metadata": {
    "cell_id": "66863cb87f5d4c9181df16998544b2a6",
    "deepnote_cell_type": "code",
    "deepnote_to_be_reexecuted": true,
    "execution_context_id": "1d364a27-a03d-47a8-a2fb-9e0c33ba1ff6",
    "execution_millis": 0,
    "execution_start": 1731594760970,
    "source_hash": "7a3e00c7"
   },
   "outputs": [
    {
     "data": {
      "text/html": [
       "<div><style>\n",
       ".dataframe > thead > tr,\n",
       ".dataframe > tbody > tr {\n",
       "  text-align: right;\n",
       "  white-space: pre-wrap;\n",
       "}\n",
       "</style>\n",
       "<small>shape: (5, 16)</small><table border=\"1\" class=\"dataframe\"><thead><tr><th>rating</th><th>palate</th><th>abv</th><th>beer_id</th><th>beer_name</th><th>user_id</th><th>taste</th><th>date</th><th>style</th><th>appearance</th><th>overall</th><th>brewery_name</th><th>text</th><th>aroma</th><th>user_name</th><th>brewery_id</th></tr><tr><td>f64</td><td>f64</td><td>f64</td><td>i64</td><td>str</td><td>i64</td><td>f64</td><td>datetime[μs]</td><td>str</td><td>f64</td><td>f64</td><td>str</td><td>str</td><td>f64</td><td>str</td><td>i64</td></tr></thead><tbody><tr><td>3.9</td><td>4.0</td><td>7.0</td><td>245290</td><td>&quot;Schneider Weisse Tap X Meine P…</td><td>10229</td><td>8.0</td><td>2017-03-17 12:00:00</td><td>&quot;Weizen Bock&quot;</td><td>3.0</td><td>16.0</td><td>&quot;Schneider Weisse G. Schneider …</td><td>&quot;On Tap at Prost! Boise Cloudy …</td><td>8.0</td><td>&quot;IndianaRed&quot;</td><td>313</td></tr><tr><td>2.9</td><td>3.0</td><td>5.5</td><td>86016</td><td>&quot;Brick House Easter Rising Stou…</td><td>56136</td><td>5.0</td><td>2008-05-01 12:00:00</td><td>&quot;Stout&quot;</td><td>5.0</td><td>11.0</td><td>&quot;Brick House Brewery &amp; Restaura…</td><td>&quot;Just not good. Pretty plain an…</td><td>5.0</td><td>&quot;Chapel&quot;</td><td>2257</td></tr><tr><td>2.6</td><td>2.0</td><td>6.0</td><td>585</td><td>&quot;Rogue HazelNut Brown Nectar&quot;</td><td>40472</td><td>5.0</td><td>2007-12-21 12:00:00</td><td>&quot;Brown Ale&quot;</td><td>3.0</td><td>12.0</td><td>&quot;Rogue Ales&quot;</td><td>&quot;On tap at the Bocktown, nice p…</td><td>4.0</td><td>&quot;cheap&quot;</td><td>96</td></tr><tr><td>3.3</td><td>3.0</td><td>11.0</td><td>137762</td><td>&quot;BFM Abbaye de Saint Bon-Chien …</td><td>9357</td><td>7.0</td><td>2011-12-13 12:00:00</td><td>&quot;Sour/Wild Ale&quot;</td><td>2.0</td><td>14.0</td><td>&quot;BFM (Brasserie des Franches-Mo…</td><td>&quot;Bottle shared by craftycarl21.…</td><td>7.0</td><td>&quot;BeerandBlues2&quot;</td><td>1063</td></tr><tr><td>2.1</td><td>2.0</td><td>4.5</td><td>123014</td><td>&quot;Trafalgar Cherry Ale&quot;</td><td>17002</td><td>4.0</td><td>2010-09-07 12:00:00</td><td>&quot;Fruit Beer&quot;</td><td>3.0</td><td>8.0</td><td>&quot;Trafalgar Ales and Meads&quot;</td><td>&quot;My bottle [650ml] shared with …</td><td>4.0</td><td>&quot;blankboy&quot;</td><td>1976</td></tr></tbody></table></div>"
      ],
      "text/plain": [
       "shape: (5, 16)\n",
       "┌────────┬────────┬──────┬─────────┬───┬───────────────────┬───────┬───────────────┬────────────┐\n",
       "│ rating ┆ palate ┆ abv  ┆ beer_id ┆ … ┆ text              ┆ aroma ┆ user_name     ┆ brewery_id │\n",
       "│ ---    ┆ ---    ┆ ---  ┆ ---     ┆   ┆ ---               ┆ ---   ┆ ---           ┆ ---        │\n",
       "│ f64    ┆ f64    ┆ f64  ┆ i64     ┆   ┆ str               ┆ f64   ┆ str           ┆ i64        │\n",
       "╞════════╪════════╪══════╪═════════╪═══╪═══════════════════╪═══════╪═══════════════╪════════════╡\n",
       "│ 3.9    ┆ 4.0    ┆ 7.0  ┆ 245290  ┆ … ┆ On Tap at Prost!  ┆ 8.0   ┆ IndianaRed    ┆ 313        │\n",
       "│        ┆        ┆      ┆         ┆   ┆ Boise Cloudy …    ┆       ┆               ┆            │\n",
       "│ 2.9    ┆ 3.0    ┆ 5.5  ┆ 86016   ┆ … ┆ Just not good.    ┆ 5.0   ┆ Chapel        ┆ 2257       │\n",
       "│        ┆        ┆      ┆         ┆   ┆ Pretty plain an…  ┆       ┆               ┆            │\n",
       "│ 2.6    ┆ 2.0    ┆ 6.0  ┆ 585     ┆ … ┆ On tap at the     ┆ 4.0   ┆ cheap         ┆ 96         │\n",
       "│        ┆        ┆      ┆         ┆   ┆ Bocktown, nice p… ┆       ┆               ┆            │\n",
       "│ 3.3    ┆ 3.0    ┆ 11.0 ┆ 137762  ┆ … ┆ Bottle shared by  ┆ 7.0   ┆ BeerandBlues2 ┆ 1063       │\n",
       "│        ┆        ┆      ┆         ┆   ┆ craftycarl21.…    ┆       ┆               ┆            │\n",
       "│ 2.1    ┆ 2.0    ┆ 4.5  ┆ 123014  ┆ … ┆ My bottle [650ml] ┆ 4.0   ┆ blankboy      ┆ 1976       │\n",
       "│        ┆        ┆      ┆         ┆   ┆ shared with …     ┆       ┆               ┆            │\n",
       "└────────┴────────┴──────┴─────────┴───┴───────────────────┴───────┴───────────────┴────────────┘"
      ]
     },
     "execution_count": 93,
     "metadata": {},
     "output_type": "execute_result"
    }
   ],
   "source": [
    "df_ratings.sample(5)"
   ]
  },
  {
   "cell_type": "markdown",
   "metadata": {
    "cell_id": "04145f058957460eac03ac383454cb9a",
    "deepnote_cell_type": "text-cell-p",
    "formattedRanges": []
   },
   "source": [
    "Since this dataset includes data from the breweries dataset, users dataset and beers dataset but we have modified them let's clean the reviews whose user_id, beer_id or brewery_id is not present in the respective datasets."
   ]
  },
  {
   "cell_type": "code",
   "execution_count": 94,
   "metadata": {
    "cell_id": "44543c6dd1ee4eb5a1f69d13850761d2",
    "deepnote_cell_type": "code",
    "deepnote_to_be_reexecuted": true,
    "execution_context_id": "1d364a27-a03d-47a8-a2fb-9e0c33ba1ff6",
    "execution_millis": 266,
    "execution_start": 1731594761022,
    "source_hash": "942193ec"
   },
   "outputs": [],
   "source": [
    "# Do a remapping of the breweries ids\n",
    "df_ratings = df_ratings.with_columns(pl.col(\"brewery_id\").replace(mapping))\n",
    "\n",
    "# Select the ids of the beers, users and breweries\n",
    "beer_ids = df_beers.select(\"beer_id\")\n",
    "user_ids = df_users.select(\"user_id\")\n",
    "brewery_ids = df_breweries.select(\"id\")\n",
    "\n",
    "# Filter out the ratings where the beer_id, user_id or brewery_id is not in the respective dataset\n",
    "df_ratings = df_ratings.filter(pl.col(\"beer_id\").is_in(beer_ids[\"beer_id\"]))\n",
    "df_ratings = df_ratings.filter(pl.col(\"user_id\").is_in(user_ids[\"user_id\"]))\n",
    "df_ratings = df_ratings.filter(pl.col(\"brewery_id\").is_in(brewery_ids[\"id\"]))"
   ]
  },
  {
   "cell_type": "markdown",
   "metadata": {
    "cell_id": "df3c207b96a24ac6b55760319217530f",
    "deepnote_cell_type": "markdown"
   },
   "source": [
    "Since we have removed some ratings we need to recompute the number of reviews for each user and the number of reviews for each beer. We'll do this later in the notebook."
   ]
  },
  {
   "cell_type": "code",
   "execution_count": 95,
   "metadata": {
    "cell_id": "af6ca4b6f65d43b781319ce5868eaae0",
    "deepnote_cell_type": "code",
    "deepnote_to_be_reexecuted": true,
    "execution_context_id": "1d364a27-a03d-47a8-a2fb-9e0c33ba1ff6",
    "execution_millis": 1328,
    "execution_start": 1731594761334,
    "source_hash": "aaf3fd63"
   },
   "outputs": [
    {
     "name": "stdout",
     "output_type": "stream",
     "text": [
      "+--------------+------------------------------------------+------------------+---------------+-----------+-----------------------+-------------------+\n",
      "| Column       | Type                                     |   Not null count |   Nulls count |   Nulls % |   Unique values count |   Unique values % |\n",
      "|--------------+------------------------------------------+------------------+---------------+-----------+-----------------------+-------------------|\n",
      "| rating       | Float64                                  |          7120395 |             0 |    0.00 % |                    46 |            0.00 % |\n",
      "| palate       | Float64                                  |          7120395 |             0 |    0.00 % |                     5 |            0.00 % |\n",
      "| abv          | Float64                                  |          6945463 |        174932 |    2.46 % |                   865 |            0.01 % |\n",
      "| beer_id      | Int64                                    |          7120395 |             0 |    0.00 % |                396408 |            5.57 % |\n",
      "| beer_name    | String                                   |          7120395 |             0 |    0.00 % |                396258 |            5.57 % |\n",
      "| user_id      | Int64                                    |          7120395 |             0 |    0.00 % |                 70102 |            0.98 % |\n",
      "| taste        | Float64                                  |          7120395 |             0 |    0.00 % |                    10 |            0.00 % |\n",
      "| date         | Datetime(time_unit='us', time_zone=None) |          7120395 |             0 |    0.00 % |                  6271 |            0.09 % |\n",
      "| style        | String                                   |          7120395 |             0 |    0.00 % |                    93 |            0.00 % |\n",
      "| appearance   | Float64                                  |          7120395 |             0 |    0.00 % |                     5 |            0.00 % |\n",
      "| overall      | Float64                                  |          7120395 |             0 |    0.00 % |                    20 |            0.00 % |\n",
      "| brewery_name | String                                   |          7120395 |             0 |    0.00 % |                 21813 |            0.31 % |\n",
      "| text         | String                                   |          7120395 |             0 |    0.00 % |               7092436 |           99.61 % |\n",
      "| aroma        | Float64                                  |          7120395 |             0 |    0.00 % |                    10 |            0.00 % |\n",
      "| user_name    | String                                   |          7120395 |             0 |    0.00 % |                 70102 |            0.98 % |\n",
      "| brewery_id   | Int64                                    |          7120395 |             0 |    0.00 % |                 21824 |            0.31 % |\n",
      "+--------------+------------------------------------------+------------------+---------------+-----------+-----------------------+-------------------+\n"
     ]
    }
   ],
   "source": [
    "describe(df_ratings)"
   ]
  },
  {
   "cell_type": "code",
   "execution_count": 96,
   "metadata": {
    "cell_id": "a00b49e3b50348cfa7ccdac36127b714",
    "deepnote_cell_type": "code",
    "deepnote_to_be_reexecuted": true,
    "execution_context_id": "1d364a27-a03d-47a8-a2fb-9e0c33ba1ff6",
    "execution_millis": 1353,
    "execution_start": 1731594762714,
    "source_hash": "fc9df9c4"
   },
   "outputs": [
    {
     "name": "stdout",
     "output_type": "stream",
     "text": [
      "+------------+---------+----------+-------+-------+-------+-------+-------+\n",
      "| Column     |    Mean |      Std |   25% |   50% |   75% |   Min |   Max |\n",
      "|------------+---------+----------+-------+-------+-------+-------+-------|\n",
      "| rating     | 3.28556 | 0.686497 |     3 |   3.4 |   3.7 |   0.5 |     5 |\n",
      "| palate     | 3.28472 | 0.796806 |     3 |     3 |     4 |     1 |     5 |\n",
      "| abv        | 6.50373 |  2.15864 |     5 |     6 |   7.7 |  0.01 |    73 |\n",
      "| taste      | 6.49668 |  1.53813 |     6 |     7 |     7 |     1 |    10 |\n",
      "| appearance | 3.44041 | 0.773788 |     3 |     3 |     4 |     1 |     5 |\n",
      "| overall    | 13.2154 |  3.15213 |    12 |    14 |    15 |     1 |    20 |\n",
      "| aroma      | 6.41841 |  1.53867 |     6 |     7 |     7 |     1 |    10 |\n",
      "+------------+---------+----------+-------+-------+-------+-------+-------+\n"
     ]
    }
   ],
   "source": [
    "describe_numbers(df_ratings, filters=[\"beer_id\", \"user_id\", \"brewery_id\"])"
   ]
  },
  {
   "cell_type": "markdown",
   "metadata": {
    "cell_id": "494c2a01f8b74696a5fc7f2595a3b24a",
    "deepnote_cell_type": "markdown"
   },
   "source": [
    "## Data cleaning and saving\n",
    "Now that we have done some preliminary analysis on the data we will modify some of the datasets to make them more suitable for our analysis. We will also save the datasets in parquet format with the correct data types for faster loading in the future.\n",
    "##### Users dataset\n",
    "The dataset is already clean and processed, we just need to save it in parquet format"
   ]
  },
  {
   "cell_type": "code",
   "execution_count": 97,
   "metadata": {
    "cell_id": "a61b7e83292a4f61aa417718229bc436",
    "deepnote_cell_type": "code",
    "deepnote_to_be_reexecuted": true,
    "execution_context_id": "1d364a27-a03d-47a8-a2fb-9e0c33ba1ff6",
    "execution_millis": 0,
    "execution_start": 1731594764114,
    "source_hash": "901554e4"
   },
   "outputs": [],
   "source": [
    "if (SAVE_PROCESSED):\n",
    "    # Get the user ids\n",
    "    number_of_ratings = df_ratings.group_by(\"user_id\").agg(pl.col(\"rating\").count().alias(\"number_of_ratings\"))\n",
    "    df_users = df_users.join(number_of_ratings, on=\"user_id\", how=\"inner\")\n",
    "    df_users = df_users.drop(\"nbr_ratings\")\n",
    "\n",
    "    # Write the cleaned datasets to parquet\n",
    "    df_users.write_parquet(f\"{DST_DATA_PATH}/users.pq\")"
   ]
  },
  {
   "cell_type": "code",
   "execution_count": 98,
   "metadata": {},
   "outputs": [
    {
     "data": {
      "text/html": [
       "<div><style>\n",
       ".dataframe > thead > tr,\n",
       ".dataframe > tbody > tr {\n",
       "  text-align: right;\n",
       "  white-space: pre-wrap;\n",
       "}\n",
       "</style>\n",
       "<small>shape: (5, 5)</small><table border=\"1\" class=\"dataframe\"><thead><tr><th>user_id</th><th>user_name</th><th>joined</th><th>location</th><th>number_of_ratings</th></tr><tr><td>i64</td><td>str</td><td>datetime[ms]</td><td>str</td><td>u32</td></tr></thead><tbody><tr><td>196799</td><td>&quot;chadpete21&quot;</td><td>2012-06-27 10:00:00</td><td>null</td><td>1</td></tr><tr><td>73390</td><td>&quot;vegasron&quot;</td><td>2008-04-13 10:00:00</td><td>&quot;United States, Idaho&quot;</td><td>5</td></tr><tr><td>273788</td><td>&quot;Tgn&quot;</td><td>2013-08-10 10:00:00</td><td>&quot;England&quot;</td><td>26</td></tr><tr><td>463139</td><td>&quot;jamiedrinko909&quot;</td><td>2017-05-09 10:00:00</td><td>null</td><td>1</td></tr><tr><td>246560</td><td>&quot;Iglebekk&quot;</td><td>2013-02-25 11:00:00</td><td>null</td><td>1</td></tr></tbody></table></div>"
      ],
      "text/plain": [
       "shape: (5, 5)\n",
       "┌─────────┬────────────────┬─────────────────────┬──────────────────────┬───────────────────┐\n",
       "│ user_id ┆ user_name      ┆ joined              ┆ location             ┆ number_of_ratings │\n",
       "│ ---     ┆ ---            ┆ ---                 ┆ ---                  ┆ ---               │\n",
       "│ i64     ┆ str            ┆ datetime[ms]        ┆ str                  ┆ u32               │\n",
       "╞═════════╪════════════════╪═════════════════════╪══════════════════════╪═══════════════════╡\n",
       "│ 196799  ┆ chadpete21     ┆ 2012-06-27 10:00:00 ┆ null                 ┆ 1                 │\n",
       "│ 73390   ┆ vegasron       ┆ 2008-04-13 10:00:00 ┆ United States, Idaho ┆ 5                 │\n",
       "│ 273788  ┆ Tgn            ┆ 2013-08-10 10:00:00 ┆ England              ┆ 26                │\n",
       "│ 463139  ┆ jamiedrinko909 ┆ 2017-05-09 10:00:00 ┆ null                 ┆ 1                 │\n",
       "│ 246560  ┆ Iglebekk       ┆ 2013-02-25 11:00:00 ┆ null                 ┆ 1                 │\n",
       "└─────────┴────────────────┴─────────────────────┴──────────────────────┴───────────────────┘"
      ]
     },
     "execution_count": 98,
     "metadata": {},
     "output_type": "execute_result"
    }
   ],
   "source": [
    "df_users.sample(5)"
   ]
  },
  {
   "cell_type": "markdown",
   "metadata": {
    "cell_id": "afebd41a9c39448fab64d3f799c8cccd",
    "deepnote_cell_type": "markdown"
   },
   "source": [
    "##### Breweries dataset\n",
    "The dataset is already clean and processed, we just need to save it in parquet format"
   ]
  },
  {
   "cell_type": "code",
   "execution_count": 99,
   "metadata": {
    "cell_id": "cb4e6eab712e48f197dd99cc1cb356a6",
    "deepnote_cell_type": "code",
    "deepnote_to_be_reexecuted": true,
    "execution_context_id": "1d364a27-a03d-47a8-a2fb-9e0c33ba1ff6",
    "execution_millis": 0,
    "execution_start": 1731594764162,
    "source_hash": "18466b53"
   },
   "outputs": [],
   "source": [
    "if (SAVE_PROCESSED):\n",
    "    df_breweries.write_parquet(f\"{DST_DATA_PATH}/breweries.pq\")"
   ]
  },
  {
   "cell_type": "code",
   "execution_count": 100,
   "metadata": {},
   "outputs": [
    {
     "data": {
      "text/html": [
       "<div><style>\n",
       ".dataframe > thead > tr,\n",
       ".dataframe > tbody > tr {\n",
       "  text-align: right;\n",
       "  white-space: pre-wrap;\n",
       "}\n",
       "</style>\n",
       "<small>shape: (5, 4)</small><table border=\"1\" class=\"dataframe\"><thead><tr><th>id</th><th>location</th><th>name</th><th>beers_count</th></tr><tr><td>i64</td><td>str</td><td>str</td><td>i32</td></tr></thead><tbody><tr><td>24344</td><td>&quot;United States, Nebraska&quot;</td><td>&quot;Bottle Rocket Brewing Company&quot;</td><td>18</td></tr><tr><td>12641</td><td>&quot;Germany&quot;</td><td>&quot;Neuenahrer Brauhaus&quot;</td><td>9</td></tr><tr><td>2561</td><td>&quot;United States, Pennsylvania&quot;</td><td>&quot;Jacks Mountain Restaurant and …</td><td>9</td></tr><tr><td>6581</td><td>&quot;Germany&quot;</td><td>&quot;Andreasbräu&quot;</td><td>23</td></tr><tr><td>18469</td><td>&quot;Italy&quot;</td><td>&quot;Microbirrificio Birra Elvo&quot;</td><td>8</td></tr></tbody></table></div>"
      ],
      "text/plain": [
       "shape: (5, 4)\n",
       "┌───────┬─────────────────────────────┬─────────────────────────────────┬─────────────┐\n",
       "│ id    ┆ location                    ┆ name                            ┆ beers_count │\n",
       "│ ---   ┆ ---                         ┆ ---                             ┆ ---         │\n",
       "│ i64   ┆ str                         ┆ str                             ┆ i32         │\n",
       "╞═══════╪═════════════════════════════╪═════════════════════════════════╪═════════════╡\n",
       "│ 24344 ┆ United States, Nebraska     ┆ Bottle Rocket Brewing Company   ┆ 18          │\n",
       "│ 12641 ┆ Germany                     ┆ Neuenahrer Brauhaus             ┆ 9           │\n",
       "│ 2561  ┆ United States, Pennsylvania ┆ Jacks Mountain Restaurant and … ┆ 9           │\n",
       "│ 6581  ┆ Germany                     ┆ Andreasbräu                     ┆ 23          │\n",
       "│ 18469 ┆ Italy                       ┆ Microbirrificio Birra Elvo      ┆ 8           │\n",
       "└───────┴─────────────────────────────┴─────────────────────────────────┴─────────────┘"
      ]
     },
     "execution_count": 100,
     "metadata": {},
     "output_type": "execute_result"
    }
   ],
   "source": [
    "df_breweries.sample(5)"
   ]
  },
  {
   "cell_type": "markdown",
   "metadata": {
    "cell_id": "2ad84a67cfc041ddbc4354a76f0952f1",
    "deepnote_cell_type": "markdown"
   },
   "source": [
    "##### Ratings dataset\n",
    "The dataset is already cleaned and process, we just need to save it in parquet format. We will both save a full version of the dataset and a version without the text of the reviews."
   ]
  },
  {
   "cell_type": "code",
   "execution_count": 101,
   "metadata": {
    "cell_id": "8985e85351cd47d1a4f072f6383da3d0",
    "deepnote_cell_type": "code",
    "deepnote_to_be_reexecuted": true,
    "execution_context_id": "1d364a27-a03d-47a8-a2fb-9e0c33ba1ff6",
    "execution_millis": 0,
    "execution_start": 1731594764210,
    "source_hash": "a2ba1d28"
   },
   "outputs": [],
   "source": [
    "if (SAVE_PROCESSED):\n",
    "    df_ratings.write_parquet(f\"{DST_DATA_PATH}/ratings.pq\")\n",
    "    df_ratings_no_text = df_ratings.drop(\"text\")\n",
    "    df_ratings_no_text.write_parquet(f\"{DST_DATA_PATH}/ratings_no_text.pq\")"
   ]
  },
  {
   "cell_type": "code",
   "execution_count": 102,
   "metadata": {},
   "outputs": [
    {
     "data": {
      "text/html": [
       "<div><style>\n",
       ".dataframe > thead > tr,\n",
       ".dataframe > tbody > tr {\n",
       "  text-align: right;\n",
       "  white-space: pre-wrap;\n",
       "}\n",
       "</style>\n",
       "<small>shape: (5, 16)</small><table border=\"1\" class=\"dataframe\"><thead><tr><th>rating</th><th>palate</th><th>abv</th><th>beer_id</th><th>beer_name</th><th>user_id</th><th>taste</th><th>date</th><th>style</th><th>appearance</th><th>overall</th><th>brewery_name</th><th>text</th><th>aroma</th><th>user_name</th><th>brewery_id</th></tr><tr><td>f64</td><td>f64</td><td>f64</td><td>i64</td><td>str</td><td>i64</td><td>f64</td><td>datetime[μs]</td><td>str</td><td>f64</td><td>f64</td><td>str</td><td>str</td><td>f64</td><td>str</td><td>i64</td></tr></thead><tbody><tr><td>1.3</td><td>2.0</td><td>8.6</td><td>5588</td><td>&quot;Bavaria 8.6 (Original)&quot;</td><td>30639</td><td>2.0</td><td>2008-03-19 12:00:00</td><td>&quot;Imperial Pils/Strong Pale Lage…</td><td>2.0</td><td>4.0</td><td>&quot;Bavaria Brouwerij (Netherlands…</td><td>&quot;Thanks Harry (tongue firmly in…</td><td>3.0</td><td>&quot;garthicus&quot;</td><td>1012</td></tr><tr><td>3.5</td><td>3.0</td><td>6.2</td><td>356281</td><td>&quot;Sweetwater Hash Brown&quot;</td><td>39</td><td>7.0</td><td>2015-09-25 12:00:00</td><td>&quot;Brown Ale&quot;</td><td>3.0</td><td>15.0</td><td>&quot;Sweetwater Brewing Company&quot;</td><td>&quot;Hoppy brown ale. OK sounds goo…</td><td>7.0</td><td>&quot;PhillyBeer2112&quot;</td><td>34</td></tr><tr><td>3.7</td><td>3.0</td><td>7.0</td><td>490098</td><td>&quot;To Øl Shock Series: !PA Citra …</td><td>83882</td><td>8.0</td><td>2017-03-06 12:00:00</td><td>&quot;India Pale Ale (IPA)&quot;</td><td>3.0</td><td>14.0</td><td>&quot;To Øl&quot;</td><td>&quot;Bottle at Beerlovets. Clear go…</td><td>9.0</td><td>&quot;Travlr&quot;</td><td>12119</td></tr><tr><td>3.7</td><td>4.0</td><td>6.2</td><td>121259</td><td>&quot;Big Sky Cowboy Coffee Porter&quot;</td><td>244071</td><td>7.0</td><td>2013-02-20 12:00:00</td><td>&quot;Porter&quot;</td><td>3.0</td><td>15.0</td><td>&quot;Big Sky Brewing Company&quot;</td><td>&quot;Bottle to pint glass.  Very un…</td><td>8.0</td><td>&quot;gonzosauce&quot;</td><td>1009</td></tr><tr><td>3.6</td><td>4.0</td><td>8.0</td><td>313826</td><td>&quot;SPB Crowd Control&quot;</td><td>9892</td><td>7.0</td><td>2017-04-30 12:00:00</td><td>&quot;Imperial IPA&quot;</td><td>4.0</td><td>14.0</td><td>&quot;Southern Prohibition Brewery&quot;</td><td>&quot;Can.Hazy dark gold with white …</td><td>7.0</td><td>&quot;SpringsLicker&quot;</td><td>12261</td></tr></tbody></table></div>"
      ],
      "text/plain": [
       "shape: (5, 16)\n",
       "┌────────┬────────┬─────┬─────────┬───┬──────────────────────┬───────┬────────────────┬────────────┐\n",
       "│ rating ┆ palate ┆ abv ┆ beer_id ┆ … ┆ text                 ┆ aroma ┆ user_name      ┆ brewery_id │\n",
       "│ ---    ┆ ---    ┆ --- ┆ ---     ┆   ┆ ---                  ┆ ---   ┆ ---            ┆ ---        │\n",
       "│ f64    ┆ f64    ┆ f64 ┆ i64     ┆   ┆ str                  ┆ f64   ┆ str            ┆ i64        │\n",
       "╞════════╪════════╪═════╪═════════╪═══╪══════════════════════╪═══════╪════════════════╪════════════╡\n",
       "│ 1.3    ┆ 2.0    ┆ 8.6 ┆ 5588    ┆ … ┆ Thanks Harry (tongue ┆ 3.0   ┆ garthicus      ┆ 1012       │\n",
       "│        ┆        ┆     ┆         ┆   ┆ firmly in…           ┆       ┆                ┆            │\n",
       "│ 3.5    ┆ 3.0    ┆ 6.2 ┆ 356281  ┆ … ┆ Hoppy brown ale. OK  ┆ 7.0   ┆ PhillyBeer2112 ┆ 34         │\n",
       "│        ┆        ┆     ┆         ┆   ┆ sounds goo…          ┆       ┆                ┆            │\n",
       "│ 3.7    ┆ 3.0    ┆ 7.0 ┆ 490098  ┆ … ┆ Bottle at            ┆ 9.0   ┆ Travlr         ┆ 12119      │\n",
       "│        ┆        ┆     ┆         ┆   ┆ Beerlovets. Clear    ┆       ┆                ┆            │\n",
       "│        ┆        ┆     ┆         ┆   ┆ go…                  ┆       ┆                ┆            │\n",
       "│ 3.7    ┆ 4.0    ┆ 6.2 ┆ 121259  ┆ … ┆ Bottle to pint       ┆ 8.0   ┆ gonzosauce     ┆ 1009       │\n",
       "│        ┆        ┆     ┆         ┆   ┆ glass.  Very un…     ┆       ┆                ┆            │\n",
       "│ 3.6    ┆ 4.0    ┆ 8.0 ┆ 313826  ┆ … ┆ Can.Hazy dark gold   ┆ 7.0   ┆ SpringsLicker  ┆ 12261      │\n",
       "│        ┆        ┆     ┆         ┆   ┆ with white …         ┆       ┆                ┆            │\n",
       "└────────┴────────┴─────┴─────────┴───┴──────────────────────┴───────┴────────────────┴────────────┘"
      ]
     },
     "execution_count": 102,
     "metadata": {},
     "output_type": "execute_result"
    }
   ],
   "source": [
    "df_ratings.sample(5)"
   ]
  },
  {
   "cell_type": "markdown",
   "metadata": {
    "cell_id": "c9055491690d496383d6163bdf44cdc0",
    "deepnote_cell_type": "markdown"
   },
   "source": [
    "##### Beers dataset\n",
    "While for the previous datasets not much work was needed here multiple steps are needed. In particular:\n",
    "- We will change some of the columns of the dataset. In particular we are going to create a dataset that is similar to BeerAdvocate dataset to simplify the comparison between the two datasets.\n",
    "- Since we have removed some reviews and changed other datasets we are going to recompute the values in the beer dataset\n",
    "\n",
    "Additional data regarding the matching of the two datasets will be added in another notebook."
   ]
  },
  {
   "cell_type": "code",
   "execution_count": 103,
   "metadata": {
    "cell_id": "858fe3b029154978a945aef9e8b451a8",
    "deepnote_cell_type": "code",
    "deepnote_to_be_reexecuted": true,
    "execution_context_id": "1d364a27-a03d-47a8-a2fb-9e0c33ba1ff6",
    "execution_millis": 0,
    "execution_start": 1731594764258,
    "source_hash": "dbe390ba"
   },
   "outputs": [
    {
     "name": "stderr",
     "output_type": "stream",
     "text": [
      "100%|██████████| 441643/441643 [11:00<00:00, 668.80it/s]\n"
     ]
    }
   ],
   "source": [
    "if (SAVE_PROCESSED):\n",
    "    rows = []\n",
    "    for row in tqdm.tqdm(df_beers.rows(named=True)):\n",
    "        # Create the new dictionary\n",
    "        new_row = {}\n",
    "\n",
    "        # Compute general information\n",
    "        new_row[\"beer_id\"] = row[\"beer_id\"]\n",
    "        new_row[\"beer_name\"] = row[\"beer_name\"]\n",
    "        new_row[\"brewery_id\"] = row[\"brewery_id\"]\n",
    "        new_row[\"brewery_name\"] = row[\"brewery_name\"]\n",
    "        new_row[\"style\"] = row[\"style\"]\n",
    "        new_row[\"abv\"] = row[\"abv\"]\n",
    "\n",
    "        # Compute aggregated informations\n",
    "        reviews_elements = df_ratings_no_text.filter(pl.col(\"beer_id\") == row[\"beer_id\"])\n",
    "        new_row[\"rating_score_avg\"] = reviews_elements[\"rating\"].mean()\n",
    "        new_row[\"rating_score_std\"] = reviews_elements[\"rating\"].std()\n",
    "        new_row[\"rating_score_median\"] = reviews_elements[\"rating\"].median()\n",
    "\n",
    "        # Compute the number of interactions, nbr_ratings and nbr_reviews (here they are the same)\n",
    "        new_row[\"nbr_interactions\"] = reviews_elements.shape[0]\n",
    "        new_row[\"nbr_ratings\"] = reviews_elements.shape[0]\n",
    "        new_row[\"nbr_reviews\"] = reviews_elements.shape[0]\n",
    "\n",
    "        # Append the new row to the list of rows\n",
    "        rows.append(new_row)\n",
    "\n",
    "    # Transform the data into a Polars DataFrame\n",
    "    df_beers = pl.DataFrame(rows)\n",
    "\n",
    "    # Save the data\n",
    "    df_beers.write_parquet(f\"{DST_DATA_PATH}/beers.pq\")"
   ]
  },
  {
   "cell_type": "code",
   "execution_count": 104,
   "metadata": {},
   "outputs": [
    {
     "data": {
      "text/html": [
       "<div><style>\n",
       ".dataframe > thead > tr,\n",
       ".dataframe > tbody > tr {\n",
       "  text-align: right;\n",
       "  white-space: pre-wrap;\n",
       "}\n",
       "</style>\n",
       "<small>shape: (5, 12)</small><table border=\"1\" class=\"dataframe\"><thead><tr><th>beer_id</th><th>beer_name</th><th>brewery_id</th><th>brewery_name</th><th>style</th><th>abv</th><th>rating_score_avg</th><th>rating_score_std</th><th>rating_score_median</th><th>nbr_interactions</th><th>nbr_ratings</th><th>nbr_reviews</th></tr><tr><td>i64</td><td>str</td><td>i64</td><td>str</td><td>str</td><td>f64</td><td>f64</td><td>f64</td><td>f64</td><td>i64</td><td>i64</td><td>i64</td></tr></thead><tbody><tr><td>302281</td><td>&quot;Hophurst Flaxen&quot;</td><td>21509</td><td>&quot;Hophurst Brewery&quot;</td><td>&quot;Golden Ale/Blond Ale&quot;</td><td>3.7</td><td>2.96</td><td>0.61887</td><td>3.1</td><td>5</td><td>5</td><td>5</td></tr><tr><td>521323</td><td>&quot;Republica Tina Bazuca&quot;</td><td>31638</td><td>&quot;Republica Brewing&quot;</td><td>&quot;India Pale Ale (IPA)&quot;</td><td>7.0</td><td>null</td><td>null</td><td>null</td><td>0</td><td>0</td><td>0</td></tr><tr><td>491319</td><td>&quot;White Frontier Coffee Porter -…</td><td>21794</td><td>&quot;White Frontier&quot;</td><td>&quot;Porter&quot;</td><td>5.0</td><td>3.9</td><td>null</td><td>3.9</td><td>1</td><td>1</td><td>1</td></tr><tr><td>133403</td><td>&quot;Ise Kadoya Yuzu Ale&quot;</td><td>6309</td><td>&quot;Ise Kadoya&quot;</td><td>&quot;Fruit Beer&quot;</td><td>5.0</td><td>3.519048</td><td>0.227198</td><td>3.5</td><td>21</td><td>21</td><td>21</td></tr><tr><td>525612</td><td>&quot;Moody Tongue Apertif&quot;</td><td>20128</td><td>&quot;Moody Tongue Brewing Company&quot;</td><td>&quot;Pilsener&quot;</td><td>5.0</td><td>2.1</td><td>null</td><td>2.1</td><td>1</td><td>1</td><td>1</td></tr></tbody></table></div>"
      ],
      "text/plain": [
       "shape: (5, 12)\n",
       "┌─────────┬────────────┬───────────┬───────────┬───┬───────────┬───────────┬───────────┬───────────┐\n",
       "│ beer_id ┆ beer_name  ┆ brewery_i ┆ brewery_n ┆ … ┆ rating_sc ┆ nbr_inter ┆ nbr_ratin ┆ nbr_revie │\n",
       "│ ---     ┆ ---        ┆ d         ┆ ame       ┆   ┆ ore_media ┆ actions   ┆ gs        ┆ ws        │\n",
       "│ i64     ┆ str        ┆ ---       ┆ ---       ┆   ┆ n         ┆ ---       ┆ ---       ┆ ---       │\n",
       "│         ┆            ┆ i64       ┆ str       ┆   ┆ ---       ┆ i64       ┆ i64       ┆ i64       │\n",
       "│         ┆            ┆           ┆           ┆   ┆ f64       ┆           ┆           ┆           │\n",
       "╞═════════╪════════════╪═══════════╪═══════════╪═══╪═══════════╪═══════════╪═══════════╪═══════════╡\n",
       "│ 302281  ┆ Hophurst   ┆ 21509     ┆ Hophurst  ┆ … ┆ 3.1       ┆ 5         ┆ 5         ┆ 5         │\n",
       "│         ┆ Flaxen     ┆           ┆ Brewery   ┆   ┆           ┆           ┆           ┆           │\n",
       "│ 521323  ┆ Republica  ┆ 31638     ┆ Republica ┆ … ┆ null      ┆ 0         ┆ 0         ┆ 0         │\n",
       "│         ┆ Tina       ┆           ┆ Brewing   ┆   ┆           ┆           ┆           ┆           │\n",
       "│         ┆ Bazuca     ┆           ┆           ┆   ┆           ┆           ┆           ┆           │\n",
       "│ 491319  ┆ White      ┆ 21794     ┆ White     ┆ … ┆ 3.9       ┆ 1         ┆ 1         ┆ 1         │\n",
       "│         ┆ Frontier   ┆           ┆ Frontier  ┆   ┆           ┆           ┆           ┆           │\n",
       "│         ┆ Coffee     ┆           ┆           ┆   ┆           ┆           ┆           ┆           │\n",
       "│         ┆ Porter -…  ┆           ┆           ┆   ┆           ┆           ┆           ┆           │\n",
       "│ 133403  ┆ Ise Kadoya ┆ 6309      ┆ Ise       ┆ … ┆ 3.5       ┆ 21        ┆ 21        ┆ 21        │\n",
       "│         ┆ Yuzu Ale   ┆           ┆ Kadoya    ┆   ┆           ┆           ┆           ┆           │\n",
       "│ 525612  ┆ Moody      ┆ 20128     ┆ Moody     ┆ … ┆ 2.1       ┆ 1         ┆ 1         ┆ 1         │\n",
       "│         ┆ Tongue     ┆           ┆ Tongue    ┆   ┆           ┆           ┆           ┆           │\n",
       "│         ┆ Apertif    ┆           ┆ Brewing   ┆   ┆           ┆           ┆           ┆           │\n",
       "│         ┆            ┆           ┆ Company   ┆   ┆           ┆           ┆           ┆           │\n",
       "└─────────┴────────────┴───────────┴───────────┴───┴───────────┴───────────┴───────────┴───────────┘"
      ]
     },
     "execution_count": 104,
     "metadata": {},
     "output_type": "execute_result"
    }
   ],
   "source": [
    "df_beers.sample(5)"
   ]
  },
  {
   "cell_type": "markdown",
   "metadata": {
    "cell_id": "f93608989f2b4ae1809ce80136b403d0",
    "deepnote_cell_type": "markdown"
   },
   "source": [
    "##### Size comparison\n",
    "It's important, after cleaning the data, to check the size of the datasets to see if we have lost a significant amount of data or not.\n"
   ]
  }
 ],
 "metadata": {
  "deepnote_notebook_id": "874ada55298a47098ffcb4bac5519f77",
  "kernelspec": {
   "display_name": "ADA",
   "language": "python",
   "name": "python3"
  },
  "language_info": {
   "codemirror_mode": {
    "name": "ipython",
    "version": 3
   },
   "file_extension": ".py",
   "mimetype": "text/x-python",
   "name": "python",
   "nbconvert_exporter": "python",
   "pygments_lexer": "ipython3",
   "version": "3.9.20"
  }
 },
 "nbformat": 4,
 "nbformat_minor": 0
}
