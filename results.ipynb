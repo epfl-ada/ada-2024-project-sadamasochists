{
 "cells": [
  {
   "cell_type": "markdown",
   "metadata": {
    "vscode": {
     "languageId": "plaintext"
    }
   },
   "source": [
    "# Project ADA\n",
    "### Import all the necessary libraries"
   ]
  },
  {
   "cell_type": "code",
   "execution_count": 3,
   "metadata": {},
   "outputs": [],
   "source": [
    "import pandas as pd\n",
    "import plotly.express as px"
   ]
  },
  {
   "cell_type": "markdown",
   "metadata": {},
   "source": [
    "### Load all the data"
   ]
  },
  {
   "cell_type": "code",
   "execution_count": 4,
   "metadata": {},
   "outputs": [],
   "source": [
    "# Define the folder\n",
    "FOLDER = 'data/processed/'\n",
    "\n",
    "# Load the data\n",
    "df_beers = pd.read_parquet(FOLDER + 'beers.pq')\n",
    "df_breweries = pd.read_parquet(FOLDER + 'breweries.pq')\n",
    "df_users = pd.read_parquet(FOLDER + 'users.pq')\n",
    "df_ratings_no_text = pd.read_parquet(FOLDER + 'ratings_no_text.pq')"
   ]
  },
  {
   "cell_type": "code",
   "execution_count": 5,
   "metadata": {},
   "outputs": [
    {
     "data": {
      "text/html": [
       "<div>\n",
       "<style scoped>\n",
       "    .dataframe tbody tr th:only-of-type {\n",
       "        vertical-align: middle;\n",
       "    }\n",
       "\n",
       "    .dataframe tbody tr th {\n",
       "        vertical-align: top;\n",
       "    }\n",
       "\n",
       "    .dataframe thead th {\n",
       "        text-align: right;\n",
       "    }\n",
       "</style>\n",
       "<table border=\"1\" class=\"dataframe\">\n",
       "  <thead>\n",
       "    <tr style=\"text-align: right;\">\n",
       "      <th></th>\n",
       "      <th>user_id</th>\n",
       "      <th>rating</th>\n",
       "      <th>review</th>\n",
       "      <th>abv</th>\n",
       "      <th>brewery_name</th>\n",
       "      <th>beer_id</th>\n",
       "      <th>appearance</th>\n",
       "      <th>palate</th>\n",
       "      <th>aroma</th>\n",
       "      <th>overall</th>\n",
       "      <th>taste</th>\n",
       "      <th>style</th>\n",
       "      <th>beer_name</th>\n",
       "      <th>brewery_id</th>\n",
       "      <th>date</th>\n",
       "      <th>idx</th>\n",
       "      <th>location</th>\n",
       "    </tr>\n",
       "  </thead>\n",
       "  <tbody>\n",
       "    <tr>\n",
       "      <th>1</th>\n",
       "      <td>stjamesgate.163714</td>\n",
       "      <td>3.67</td>\n",
       "      <td>True</td>\n",
       "      <td>4.5</td>\n",
       "      <td>Strangford Lough Brewing Company Ltd</td>\n",
       "      <td>19590</td>\n",
       "      <td>3.0</td>\n",
       "      <td>3.5</td>\n",
       "      <td>3.5</td>\n",
       "      <td>3.5</td>\n",
       "      <td>4.0</td>\n",
       "      <td>English Pale Ale</td>\n",
       "      <td>Barelegs Brew</td>\n",
       "      <td>10093</td>\n",
       "      <td>2009-02-20 12:00:00</td>\n",
       "      <td>1</td>\n",
       "      <td>United Kingdom</td>\n",
       "    </tr>\n",
       "    <tr>\n",
       "      <th>2</th>\n",
       "      <td>mdagnew.19527</td>\n",
       "      <td>3.73</td>\n",
       "      <td>True</td>\n",
       "      <td>4.5</td>\n",
       "      <td>Strangford Lough Brewing Company Ltd</td>\n",
       "      <td>19590</td>\n",
       "      <td>4.0</td>\n",
       "      <td>3.5</td>\n",
       "      <td>3.5</td>\n",
       "      <td>3.5</td>\n",
       "      <td>4.0</td>\n",
       "      <td>English Pale Ale</td>\n",
       "      <td>Barelegs Brew</td>\n",
       "      <td>10093</td>\n",
       "      <td>2006-03-13 12:00:00</td>\n",
       "      <td>2</td>\n",
       "      <td>United Kingdom</td>\n",
       "    </tr>\n",
       "    <tr>\n",
       "      <th>3</th>\n",
       "      <td>helloloser12345.10867</td>\n",
       "      <td>3.98</td>\n",
       "      <td>True</td>\n",
       "      <td>4.5</td>\n",
       "      <td>Strangford Lough Brewing Company Ltd</td>\n",
       "      <td>19590</td>\n",
       "      <td>4.0</td>\n",
       "      <td>4.0</td>\n",
       "      <td>3.5</td>\n",
       "      <td>4.5</td>\n",
       "      <td>4.0</td>\n",
       "      <td>English Pale Ale</td>\n",
       "      <td>Barelegs Brew</td>\n",
       "      <td>10093</td>\n",
       "      <td>2004-12-01 12:00:00</td>\n",
       "      <td>3</td>\n",
       "      <td>United Kingdom</td>\n",
       "    </tr>\n",
       "    <tr>\n",
       "      <th>4</th>\n",
       "      <td>cypressbob.3708</td>\n",
       "      <td>4.00</td>\n",
       "      <td>True</td>\n",
       "      <td>4.5</td>\n",
       "      <td>Strangford Lough Brewing Company Ltd</td>\n",
       "      <td>19590</td>\n",
       "      <td>4.0</td>\n",
       "      <td>4.0</td>\n",
       "      <td>4.0</td>\n",
       "      <td>4.0</td>\n",
       "      <td>4.0</td>\n",
       "      <td>English Pale Ale</td>\n",
       "      <td>Barelegs Brew</td>\n",
       "      <td>10093</td>\n",
       "      <td>2004-08-30 12:00:00</td>\n",
       "      <td>4</td>\n",
       "      <td>United Kingdom</td>\n",
       "    </tr>\n",
       "    <tr>\n",
       "      <th>5</th>\n",
       "      <td>hellpop65.48993</td>\n",
       "      <td>3.25</td>\n",
       "      <td>False</td>\n",
       "      <td>4.8</td>\n",
       "      <td>Strangford Lough Brewing Company Ltd</td>\n",
       "      <td>19827</td>\n",
       "      <td>NaN</td>\n",
       "      <td>NaN</td>\n",
       "      <td>NaN</td>\n",
       "      <td>NaN</td>\n",
       "      <td>NaN</td>\n",
       "      <td>English Pale Ale</td>\n",
       "      <td>Legbiter</td>\n",
       "      <td>10093</td>\n",
       "      <td>2014-12-01 12:00:00</td>\n",
       "      <td>5</td>\n",
       "      <td>United Kingdom</td>\n",
       "    </tr>\n",
       "  </tbody>\n",
       "</table>\n",
       "</div>"
      ],
      "text/plain": [
       "                 user_id  rating  review  abv  \\\n",
       "1     stjamesgate.163714    3.67    True  4.5   \n",
       "2          mdagnew.19527    3.73    True  4.5   \n",
       "3  helloloser12345.10867    3.98    True  4.5   \n",
       "4        cypressbob.3708    4.00    True  4.5   \n",
       "5        hellpop65.48993    3.25   False  4.8   \n",
       "\n",
       "                           brewery_name  beer_id  appearance  palate  aroma  \\\n",
       "1  Strangford Lough Brewing Company Ltd    19590         3.0     3.5    3.5   \n",
       "2  Strangford Lough Brewing Company Ltd    19590         4.0     3.5    3.5   \n",
       "3  Strangford Lough Brewing Company Ltd    19590         4.0     4.0    3.5   \n",
       "4  Strangford Lough Brewing Company Ltd    19590         4.0     4.0    4.0   \n",
       "5  Strangford Lough Brewing Company Ltd    19827         NaN     NaN    NaN   \n",
       "\n",
       "   overall  taste             style      beer_name  brewery_id  \\\n",
       "1      3.5    4.0  English Pale Ale  Barelegs Brew       10093   \n",
       "2      3.5    4.0  English Pale Ale  Barelegs Brew       10093   \n",
       "3      4.5    4.0  English Pale Ale  Barelegs Brew       10093   \n",
       "4      4.0    4.0  English Pale Ale  Barelegs Brew       10093   \n",
       "5      NaN    NaN  English Pale Ale       Legbiter       10093   \n",
       "\n",
       "                 date  idx        location  \n",
       "1 2009-02-20 12:00:00    1  United Kingdom  \n",
       "2 2006-03-13 12:00:00    2  United Kingdom  \n",
       "3 2004-12-01 12:00:00    3  United Kingdom  \n",
       "4 2004-08-30 12:00:00    4  United Kingdom  \n",
       "5 2014-12-01 12:00:00    5  United Kingdom  "
      ]
     },
     "execution_count": 5,
     "metadata": {},
     "output_type": "execute_result"
    }
   ],
   "source": [
    "# Select only the countries where the number of ratings are above a certain threshold\n",
    "MIN_RATINGS_THRESHOLD = 1000\n",
    "number_of_ratings_per_country = df_ratings_no_text['location'].value_counts()\n",
    "popular_countries = number_of_ratings_per_country[number_of_ratings_per_country > MIN_RATINGS_THRESHOLD].index\n",
    "\n",
    "# Filter all the data\n",
    "df_ratings_no_text = df_ratings_no_text[df_ratings_no_text['location'].isin(popular_countries)]\n",
    "df_beers = df_beers[df_beers['beer_id'].isin(df_ratings_no_text['beer_id'].unique())]\n",
    "df_breweries = df_breweries[df_breweries['id'].isin(df_ratings_no_text['brewery_id'].unique())]\n",
    "\n",
    "df_ratings_no_text.head(5)"
   ]
  },
  {
   "cell_type": "code",
   "execution_count": 6,
   "metadata": {},
   "outputs": [
    {
     "data": {
      "text/html": [
       "<div>\n",
       "<style scoped>\n",
       "    .dataframe tbody tr th:only-of-type {\n",
       "        vertical-align: middle;\n",
       "    }\n",
       "\n",
       "    .dataframe tbody tr th {\n",
       "        vertical-align: top;\n",
       "    }\n",
       "\n",
       "    .dataframe thead th {\n",
       "        text-align: right;\n",
       "    }\n",
       "</style>\n",
       "<table border=\"1\" class=\"dataframe\">\n",
       "  <thead>\n",
       "    <tr style=\"text-align: right;\">\n",
       "      <th></th>\n",
       "      <th>beer_id</th>\n",
       "      <th>beer_name</th>\n",
       "      <th>brewery_id</th>\n",
       "      <th>brewery_name</th>\n",
       "      <th>style</th>\n",
       "      <th>abv</th>\n",
       "      <th>avg</th>\n",
       "      <th>std</th>\n",
       "      <th>median</th>\n",
       "      <th>appearance</th>\n",
       "      <th>aroma</th>\n",
       "      <th>palate</th>\n",
       "      <th>overall</th>\n",
       "      <th>nbr_ratings</th>\n",
       "      <th>nbr_reviews</th>\n",
       "      <th>nbr_interactions</th>\n",
       "    </tr>\n",
       "  </thead>\n",
       "  <tbody>\n",
       "    <tr>\n",
       "      <th>24</th>\n",
       "      <td>19590</td>\n",
       "      <td>Barelegs Brew</td>\n",
       "      <td>10093</td>\n",
       "      <td>Strangford Lough Brewing Company Ltd</td>\n",
       "      <td>English Pale Ale</td>\n",
       "      <td>4.5</td>\n",
       "      <td>3.84</td>\n",
       "      <td>0.17</td>\n",
       "      <td>3.86</td>\n",
       "      <td>3.75</td>\n",
       "      <td>3.62</td>\n",
       "      <td>3.75</td>\n",
       "      <td>3.88</td>\n",
       "      <td>0</td>\n",
       "      <td>4</td>\n",
       "      <td>4</td>\n",
       "    </tr>\n",
       "    <tr>\n",
       "      <th>25</th>\n",
       "      <td>19827</td>\n",
       "      <td>Legbiter</td>\n",
       "      <td>10093</td>\n",
       "      <td>Strangford Lough Brewing Company Ltd</td>\n",
       "      <td>English Pale Ale</td>\n",
       "      <td>4.8</td>\n",
       "      <td>3.43</td>\n",
       "      <td>0.47</td>\n",
       "      <td>3.50</td>\n",
       "      <td>3.84</td>\n",
       "      <td>3.47</td>\n",
       "      <td>3.51</td>\n",
       "      <td>3.50</td>\n",
       "      <td>14</td>\n",
       "      <td>58</td>\n",
       "      <td>72</td>\n",
       "    </tr>\n",
       "    <tr>\n",
       "      <th>26</th>\n",
       "      <td>20841</td>\n",
       "      <td>St. Patrick's Ale</td>\n",
       "      <td>10093</td>\n",
       "      <td>Strangford Lough Brewing Company Ltd</td>\n",
       "      <td>English Pale Ale</td>\n",
       "      <td>6.0</td>\n",
       "      <td>3.89</td>\n",
       "      <td>0.47</td>\n",
       "      <td>3.98</td>\n",
       "      <td>3.75</td>\n",
       "      <td>3.79</td>\n",
       "      <td>3.83</td>\n",
       "      <td>3.92</td>\n",
       "      <td>2</td>\n",
       "      <td>6</td>\n",
       "      <td>8</td>\n",
       "    </tr>\n",
       "    <tr>\n",
       "      <th>27</th>\n",
       "      <td>20842</td>\n",
       "      <td>St. Patrick's Best</td>\n",
       "      <td>10093</td>\n",
       "      <td>Strangford Lough Brewing Company Ltd</td>\n",
       "      <td>English Bitter</td>\n",
       "      <td>4.2</td>\n",
       "      <td>3.56</td>\n",
       "      <td>0.44</td>\n",
       "      <td>3.63</td>\n",
       "      <td>3.71</td>\n",
       "      <td>3.51</td>\n",
       "      <td>3.44</td>\n",
       "      <td>3.71</td>\n",
       "      <td>14</td>\n",
       "      <td>47</td>\n",
       "      <td>61</td>\n",
       "    </tr>\n",
       "    <tr>\n",
       "      <th>28</th>\n",
       "      <td>22659</td>\n",
       "      <td>St. Patrick's Gold</td>\n",
       "      <td>10093</td>\n",
       "      <td>Strangford Lough Brewing Company Ltd</td>\n",
       "      <td>American Pale Wheat Ale</td>\n",
       "      <td>4.8</td>\n",
       "      <td>3.96</td>\n",
       "      <td>0.00</td>\n",
       "      <td>3.96</td>\n",
       "      <td>3.00</td>\n",
       "      <td>4.50</td>\n",
       "      <td>4.00</td>\n",
       "      <td>4.50</td>\n",
       "      <td>0</td>\n",
       "      <td>1</td>\n",
       "      <td>1</td>\n",
       "    </tr>\n",
       "  </tbody>\n",
       "</table>\n",
       "</div>"
      ],
      "text/plain": [
       "    beer_id           beer_name  brewery_id  \\\n",
       "24    19590       Barelegs Brew       10093   \n",
       "25    19827            Legbiter       10093   \n",
       "26    20841   St. Patrick's Ale       10093   \n",
       "27    20842  St. Patrick's Best       10093   \n",
       "28    22659  St. Patrick's Gold       10093   \n",
       "\n",
       "                            brewery_name                    style  abv   avg  \\\n",
       "24  Strangford Lough Brewing Company Ltd         English Pale Ale  4.5  3.84   \n",
       "25  Strangford Lough Brewing Company Ltd         English Pale Ale  4.8  3.43   \n",
       "26  Strangford Lough Brewing Company Ltd         English Pale Ale  6.0  3.89   \n",
       "27  Strangford Lough Brewing Company Ltd           English Bitter  4.2  3.56   \n",
       "28  Strangford Lough Brewing Company Ltd  American Pale Wheat Ale  4.8  3.96   \n",
       "\n",
       "     std  median  appearance  aroma  palate  overall  nbr_ratings  \\\n",
       "24  0.17    3.86        3.75   3.62    3.75     3.88            0   \n",
       "25  0.47    3.50        3.84   3.47    3.51     3.50           14   \n",
       "26  0.47    3.98        3.75   3.79    3.83     3.92            2   \n",
       "27  0.44    3.63        3.71   3.51    3.44     3.71           14   \n",
       "28  0.00    3.96        3.00   4.50    4.00     4.50            0   \n",
       "\n",
       "    nbr_reviews  nbr_interactions  \n",
       "24            4                 4  \n",
       "25           58                72  \n",
       "26            6                 8  \n",
       "27           47                61  \n",
       "28            1                 1  "
      ]
     },
     "execution_count": 6,
     "metadata": {},
     "output_type": "execute_result"
    }
   ],
   "source": [
    "df_beers.head(5)"
   ]
  },
  {
   "cell_type": "code",
   "execution_count": 7,
   "metadata": {},
   "outputs": [
    {
     "data": {
      "text/html": [
       "<div>\n",
       "<style scoped>\n",
       "    .dataframe tbody tr th:only-of-type {\n",
       "        vertical-align: middle;\n",
       "    }\n",
       "\n",
       "    .dataframe tbody tr th {\n",
       "        vertical-align: top;\n",
       "    }\n",
       "\n",
       "    .dataframe thead th {\n",
       "        text-align: right;\n",
       "    }\n",
       "</style>\n",
       "<table border=\"1\" class=\"dataframe\">\n",
       "  <thead>\n",
       "    <tr style=\"text-align: right;\">\n",
       "      <th></th>\n",
       "      <th>id</th>\n",
       "      <th>location</th>\n",
       "      <th>name</th>\n",
       "      <th>nbr_beers</th>\n",
       "    </tr>\n",
       "  </thead>\n",
       "  <tbody>\n",
       "    <tr>\n",
       "      <th>9</th>\n",
       "      <td>10093</td>\n",
       "      <td>United Kingdom</td>\n",
       "      <td>Strangford Lough Brewing Company Ltd</td>\n",
       "      <td>5</td>\n",
       "    </tr>\n",
       "    <tr>\n",
       "      <th>10</th>\n",
       "      <td>32848</td>\n",
       "      <td>United Kingdom</td>\n",
       "      <td>The Sheelin Brewery</td>\n",
       "      <td>1</td>\n",
       "    </tr>\n",
       "    <tr>\n",
       "      <th>11</th>\n",
       "      <td>297</td>\n",
       "      <td>United Kingdom</td>\n",
       "      <td>Thomas Caffrey Brewing Co.</td>\n",
       "      <td>2</td>\n",
       "    </tr>\n",
       "    <tr>\n",
       "      <th>12</th>\n",
       "      <td>40360</td>\n",
       "      <td>United Kingdom</td>\n",
       "      <td>Walled City Brewing Company</td>\n",
       "      <td>5</td>\n",
       "    </tr>\n",
       "    <tr>\n",
       "      <th>13</th>\n",
       "      <td>3415</td>\n",
       "      <td>United Kingdom</td>\n",
       "      <td>Whitewater Brewing Co</td>\n",
       "      <td>20</td>\n",
       "    </tr>\n",
       "  </tbody>\n",
       "</table>\n",
       "</div>"
      ],
      "text/plain": [
       "       id        location                                  name  nbr_beers\n",
       "9   10093  United Kingdom  Strangford Lough Brewing Company Ltd          5\n",
       "10  32848  United Kingdom                   The Sheelin Brewery          1\n",
       "11    297  United Kingdom            Thomas Caffrey Brewing Co.          2\n",
       "12  40360  United Kingdom           Walled City Brewing Company          5\n",
       "13   3415  United Kingdom                 Whitewater Brewing Co         20"
      ]
     },
     "execution_count": 7,
     "metadata": {},
     "output_type": "execute_result"
    }
   ],
   "source": [
    "df_breweries.head(5)"
   ]
  },
  {
   "cell_type": "markdown",
   "metadata": {},
   "source": [
    "### Show some meaningful data\n",
    "##### Correlation analysis"
   ]
  },
  {
   "cell_type": "code",
   "execution_count": 8,
   "metadata": {},
   "outputs": [],
   "source": [
    "# Plot scatter plot\n",
    "def plot_scatter_plot(df, title, xlabel, ylabel, regression_line=False):\n",
    "    # Set some general settings\n",
    "    px.defaults.width = 800\n",
    "    px.defaults.height = 600\n",
    "    px.defaults.template = \"plotly_white\"\n",
    "\n",
    "    # Set the figure\n",
    "    fig = px.scatter(df, x='x', y='y', title=title, text='label', labels={'x': xlabel, 'y': ylabel}, hover_data={'label': True})\n",
    "    fig.update_traces(textposition='top center')\n",
    "    if regression_line:\n",
    "        fig.update_traces(marker=dict(size=4, opacity=0.5), selector=dict(mode='markers'))\n",
    "        fig.update_traces(line=dict(width=2, color='DarkSlateGrey'), selector=dict(mode='lines'))\n",
    "        fig.add_traces(px.scatter(df, x=df.x, y=df.y, trendline='ols').data)\n",
    "        corr = df['x'].corr(df['y'])\n",
    "        fig.add_annotation(x=0.5, y=0.9, xref='paper', yref='paper', text=f'Correlation coefficient: {corr:.2f}', showarrow=False)\n",
    "    fig.show()"
   ]
  },
  {
   "cell_type": "code",
   "execution_count": 9,
   "metadata": {},
   "outputs": [
    {
     "data": {
      "application/vnd.plotly.v1+json": {
       "config": {
        "plotlyServerURL": "https://plot.ly"
       },
       "data": [
        {
         "customdata": [
          [
           "Australia"
          ],
          [
           "Austria"
          ],
          [
           "Belgium"
          ],
          [
           "Brazil"
          ],
          [
           "Canada"
          ],
          [
           "China"
          ],
          [
           "Costa Rica"
          ],
          [
           "Czechia"
          ],
          [
           "Denmark"
          ],
          [
           "Estonia"
          ],
          [
           "Finland"
          ],
          [
           "France"
          ],
          [
           "Germany"
          ],
          [
           "Greece"
          ],
          [
           "Iceland"
          ],
          [
           "India"
          ],
          [
           "Ireland"
          ],
          [
           "Italy"
          ],
          [
           "Jamaica"
          ],
          [
           "Japan"
          ],
          [
           "Lithuania"
          ],
          [
           "Mexico"
          ],
          [
           "Netherlands"
          ],
          [
           "New Zealand"
          ],
          [
           "Norway"
          ],
          [
           "Philippines"
          ],
          [
           "Poland"
          ],
          [
           "Portugal"
          ],
          [
           "Romania"
          ],
          [
           "Russia"
          ],
          [
           "South Korea"
          ],
          [
           "Spain"
          ],
          [
           "Sri Lanka"
          ],
          [
           "Sweden"
          ],
          [
           "Switzerland"
          ],
          [
           "Thailand"
          ],
          [
           "Turkey"
          ],
          [
           "Ukraine"
          ],
          [
           "United Kingdom"
          ],
          [
           "United States of America"
          ]
         ],
         "hovertemplate": "Average Rating=%{x}<br>Average ABV=%{y}<br>label=%{customdata[0]}<extra></extra>",
         "legendgroup": "",
         "marker": {
          "color": "#636efa",
          "symbol": "circle"
         },
         "mode": "markers+text",
         "name": "",
         "orientation": "v",
         "showlegend": false,
         "text": [
          "Australia",
          "Austria",
          "Belgium",
          "Brazil",
          "Canada",
          "China",
          "Costa Rica",
          "Czechia",
          "Denmark",
          "Estonia",
          "Finland",
          "France",
          "Germany",
          "Greece",
          "Iceland",
          "India",
          "Ireland",
          "Italy",
          "Jamaica",
          "Japan",
          "Lithuania",
          "Mexico",
          "Netherlands",
          "New Zealand",
          "Norway",
          "Philippines",
          "Poland",
          "Portugal",
          "Romania",
          "Russia",
          "South Korea",
          "Spain",
          "Sri Lanka",
          "Sweden",
          "Switzerland",
          "Thailand",
          "Turkey",
          "Ukraine",
          "United Kingdom",
          "United States of America"
         ],
         "textposition": "top center",
         "type": "scatter",
         "x": [
          3.3065360411899314,
          3.6659578776832724,
          3.9876927359649565,
          3.4206302717900656,
          3.6979593154420534,
          2.8994252873563218,
          3.0783639143730888,
          3.5477614228764183,
          3.8427569129178702,
          3.5521350546176764,
          3.5768392370572206,
          3.4731974428840915,
          3.8036796213691124,
          3.1127177700348434,
          3.7022023233301065,
          2.8093792172739542,
          3.5909731848382007,
          3.5181335419068005,
          3.113269030239833,
          3.400842675207809,
          3.1275235531628534,
          2.93656415765796,
          3.454944316436252,
          3.6078362845604226,
          3.871739399184077,
          2.9075342465753424,
          3.441633343586589,
          3.10761957730812,
          3.1947969543147208,
          3.2727912211592574,
          2.7317567567567567,
          3.329938802830369,
          3.7193798449612405,
          3.719594888290011,
          3.739540964555491,
          2.9536894696387392,
          2.988556338028169,
          3.0891181988742966,
          3.7528231270568497,
          3.8961825341063743
         ],
         "xaxis": "x",
         "y": [
          5.508189319566689,
          7.576992306315978,
          7.589075545008383,
          6.011332679372198,
          6.6639020973997996,
          4.9328827412763285,
          4.848873653281097,
          4.938649197786029,
          8.47244780001445,
          6.8889195775792045,
          6.307005033557047,
          6.668746694870439,
          5.811991013948498,
          5.092992700729927,
          6.7502804354998345,
          5.144048672566371,
          4.978784446961118,
          6.654522733177449,
          5.118696106610923,
          5.798639289894655,
          7.366532485875706,
          4.795272224443556,
          6.711348430262481,
          6.735103420441933,
          8.716571803493808,
          5.522172338884866,
          6.6862730959891845,
          5.599464012251148,
          6.005075966850829,
          5.903621790114293,
          4.729879740980573,
          5.918959978936282,
          8.510031678986273,
          6.687227710391397,
          7.8186630262462575,
          4.995222634508349,
          5.339855653568565,
          5.110699919549478,
          6.151861565485264,
          7.484360788180529
         ],
         "yaxis": "y"
        },
        {
         "hovertemplate": "x=%{x}<br>y=%{y}<extra></extra>",
         "legendgroup": "",
         "marker": {
          "color": "#636efa",
          "symbol": "circle"
         },
         "mode": "markers",
         "name": "",
         "orientation": "v",
         "showlegend": false,
         "type": "scatter",
         "x": [
          3.3065360411899314,
          3.6659578776832724,
          3.9876927359649565,
          3.4206302717900656,
          3.6979593154420534,
          2.8994252873563218,
          3.0783639143730888,
          3.5477614228764183,
          3.8427569129178702,
          3.5521350546176764,
          3.5768392370572206,
          3.4731974428840915,
          3.8036796213691124,
          3.1127177700348434,
          3.7022023233301065,
          2.8093792172739542,
          3.5909731848382007,
          3.5181335419068005,
          3.113269030239833,
          3.400842675207809,
          3.1275235531628534,
          2.93656415765796,
          3.454944316436252,
          3.6078362845604226,
          3.871739399184077,
          2.9075342465753424,
          3.441633343586589,
          3.10761957730812,
          3.1947969543147208,
          3.2727912211592574,
          2.7317567567567567,
          3.329938802830369,
          3.7193798449612405,
          3.719594888290011,
          3.739540964555491,
          2.9536894696387392,
          2.988556338028169,
          3.0891181988742966,
          3.7528231270568497,
          3.8961825341063743
         ],
         "xaxis": "x",
         "y": [
          5.508189319566689,
          7.576992306315978,
          7.589075545008383,
          6.011332679372198,
          6.6639020973997996,
          4.9328827412763285,
          4.848873653281097,
          4.938649197786029,
          8.47244780001445,
          6.8889195775792045,
          6.307005033557047,
          6.668746694870439,
          5.811991013948498,
          5.092992700729927,
          6.7502804354998345,
          5.144048672566371,
          4.978784446961118,
          6.654522733177449,
          5.118696106610923,
          5.798639289894655,
          7.366532485875706,
          4.795272224443556,
          6.711348430262481,
          6.735103420441933,
          8.716571803493808,
          5.522172338884866,
          6.6862730959891845,
          5.599464012251148,
          6.005075966850829,
          5.903621790114293,
          4.729879740980573,
          5.918959978936282,
          8.510031678986273,
          6.687227710391397,
          7.8186630262462575,
          4.995222634508349,
          5.339855653568565,
          5.110699919549478,
          6.151861565485264,
          7.484360788180529
         ],
         "yaxis": "y"
        },
        {
         "hovertemplate": "<b>OLS trendline</b><br>y = 2.45176 * x + -2.11892<br>R<sup>2</sup>=0.564158<br><br>x=%{x}<br>y=%{y} <b>(trend)</b><extra></extra>",
         "legendgroup": "",
         "marker": {
          "color": "#636efa",
          "symbol": "circle"
         },
         "mode": "lines",
         "name": "",
         "showlegend": false,
         "type": "scatter",
         "x": [
          2.7317567567567567,
          2.8093792172739542,
          2.8994252873563218,
          2.9075342465753424,
          2.93656415765796,
          2.9536894696387392,
          2.988556338028169,
          3.0783639143730888,
          3.0891181988742966,
          3.10761957730812,
          3.1127177700348434,
          3.113269030239833,
          3.1275235531628534,
          3.1947969543147208,
          3.2727912211592574,
          3.3065360411899314,
          3.329938802830369,
          3.400842675207809,
          3.4206302717900656,
          3.441633343586589,
          3.454944316436252,
          3.4731974428840915,
          3.5181335419068005,
          3.5477614228764183,
          3.5521350546176764,
          3.5768392370572206,
          3.5909731848382007,
          3.6078362845604226,
          3.6659578776832724,
          3.6979593154420534,
          3.7022023233301065,
          3.7193798449612405,
          3.719594888290011,
          3.739540964555491,
          3.7528231270568497,
          3.8036796213691124,
          3.8427569129178702,
          3.871739399184077,
          3.8961825341063743,
          3.9876927359649565
         ],
         "xaxis": "x",
         "y": [
          4.57868878261595,
          4.769000409167836,
          4.989771741947008,
          5.009652962000227,
          5.0808273303464295,
          5.122814481443611,
          5.208299666939538,
          5.428486270365973,
          5.454853192545322,
          5.500214128023692,
          5.512713671890673,
          5.5140652294883825,
          5.54901389544313,
          5.713952114504774,
          5.90517532085517,
          5.987909513316325,
          6.045287462996379,
          6.219126725383433,
          6.26764115878364,
          6.3191356454251295,
          6.351770953261656,
          6.396523234506024,
          6.506695754662269,
          6.57933620152577,
          6.590059295912006,
          6.650628016761335,
          6.685281061432622,
          6.726625331061021,
          6.869125515302741,
          6.947585353232295,
          6.957988189309219,
          7.000103345927155,
          7.000630580511125,
          7.049533568024261,
          7.08209823980763,
          7.206786147003628,
          7.302594278649218,
          7.373652372738075,
          7.433581067784516,
          7.657942099962046
         ],
         "yaxis": "y"
        }
       ],
       "layout": {
        "annotations": [
         {
          "showarrow": false,
          "text": "Correlation coefficient: 0.75",
          "x": 0.5,
          "xref": "paper",
          "y": 0.9,
          "yref": "paper"
         }
        ],
        "height": 600,
        "legend": {
         "tracegroupgap": 0
        },
        "template": {
         "data": {
          "bar": [
           {
            "error_x": {
             "color": "#2a3f5f"
            },
            "error_y": {
             "color": "#2a3f5f"
            },
            "marker": {
             "line": {
              "color": "white",
              "width": 0.5
             },
             "pattern": {
              "fillmode": "overlay",
              "size": 10,
              "solidity": 0.2
             }
            },
            "type": "bar"
           }
          ],
          "barpolar": [
           {
            "marker": {
             "line": {
              "color": "white",
              "width": 0.5
             },
             "pattern": {
              "fillmode": "overlay",
              "size": 10,
              "solidity": 0.2
             }
            },
            "type": "barpolar"
           }
          ],
          "carpet": [
           {
            "aaxis": {
             "endlinecolor": "#2a3f5f",
             "gridcolor": "#C8D4E3",
             "linecolor": "#C8D4E3",
             "minorgridcolor": "#C8D4E3",
             "startlinecolor": "#2a3f5f"
            },
            "baxis": {
             "endlinecolor": "#2a3f5f",
             "gridcolor": "#C8D4E3",
             "linecolor": "#C8D4E3",
             "minorgridcolor": "#C8D4E3",
             "startlinecolor": "#2a3f5f"
            },
            "type": "carpet"
           }
          ],
          "choropleth": [
           {
            "colorbar": {
             "outlinewidth": 0,
             "ticks": ""
            },
            "type": "choropleth"
           }
          ],
          "contour": [
           {
            "colorbar": {
             "outlinewidth": 0,
             "ticks": ""
            },
            "colorscale": [
             [
              0,
              "#0d0887"
             ],
             [
              0.1111111111111111,
              "#46039f"
             ],
             [
              0.2222222222222222,
              "#7201a8"
             ],
             [
              0.3333333333333333,
              "#9c179e"
             ],
             [
              0.4444444444444444,
              "#bd3786"
             ],
             [
              0.5555555555555556,
              "#d8576b"
             ],
             [
              0.6666666666666666,
              "#ed7953"
             ],
             [
              0.7777777777777778,
              "#fb9f3a"
             ],
             [
              0.8888888888888888,
              "#fdca26"
             ],
             [
              1,
              "#f0f921"
             ]
            ],
            "type": "contour"
           }
          ],
          "contourcarpet": [
           {
            "colorbar": {
             "outlinewidth": 0,
             "ticks": ""
            },
            "type": "contourcarpet"
           }
          ],
          "heatmap": [
           {
            "colorbar": {
             "outlinewidth": 0,
             "ticks": ""
            },
            "colorscale": [
             [
              0,
              "#0d0887"
             ],
             [
              0.1111111111111111,
              "#46039f"
             ],
             [
              0.2222222222222222,
              "#7201a8"
             ],
             [
              0.3333333333333333,
              "#9c179e"
             ],
             [
              0.4444444444444444,
              "#bd3786"
             ],
             [
              0.5555555555555556,
              "#d8576b"
             ],
             [
              0.6666666666666666,
              "#ed7953"
             ],
             [
              0.7777777777777778,
              "#fb9f3a"
             ],
             [
              0.8888888888888888,
              "#fdca26"
             ],
             [
              1,
              "#f0f921"
             ]
            ],
            "type": "heatmap"
           }
          ],
          "heatmapgl": [
           {
            "colorbar": {
             "outlinewidth": 0,
             "ticks": ""
            },
            "colorscale": [
             [
              0,
              "#0d0887"
             ],
             [
              0.1111111111111111,
              "#46039f"
             ],
             [
              0.2222222222222222,
              "#7201a8"
             ],
             [
              0.3333333333333333,
              "#9c179e"
             ],
             [
              0.4444444444444444,
              "#bd3786"
             ],
             [
              0.5555555555555556,
              "#d8576b"
             ],
             [
              0.6666666666666666,
              "#ed7953"
             ],
             [
              0.7777777777777778,
              "#fb9f3a"
             ],
             [
              0.8888888888888888,
              "#fdca26"
             ],
             [
              1,
              "#f0f921"
             ]
            ],
            "type": "heatmapgl"
           }
          ],
          "histogram": [
           {
            "marker": {
             "pattern": {
              "fillmode": "overlay",
              "size": 10,
              "solidity": 0.2
             }
            },
            "type": "histogram"
           }
          ],
          "histogram2d": [
           {
            "colorbar": {
             "outlinewidth": 0,
             "ticks": ""
            },
            "colorscale": [
             [
              0,
              "#0d0887"
             ],
             [
              0.1111111111111111,
              "#46039f"
             ],
             [
              0.2222222222222222,
              "#7201a8"
             ],
             [
              0.3333333333333333,
              "#9c179e"
             ],
             [
              0.4444444444444444,
              "#bd3786"
             ],
             [
              0.5555555555555556,
              "#d8576b"
             ],
             [
              0.6666666666666666,
              "#ed7953"
             ],
             [
              0.7777777777777778,
              "#fb9f3a"
             ],
             [
              0.8888888888888888,
              "#fdca26"
             ],
             [
              1,
              "#f0f921"
             ]
            ],
            "type": "histogram2d"
           }
          ],
          "histogram2dcontour": [
           {
            "colorbar": {
             "outlinewidth": 0,
             "ticks": ""
            },
            "colorscale": [
             [
              0,
              "#0d0887"
             ],
             [
              0.1111111111111111,
              "#46039f"
             ],
             [
              0.2222222222222222,
              "#7201a8"
             ],
             [
              0.3333333333333333,
              "#9c179e"
             ],
             [
              0.4444444444444444,
              "#bd3786"
             ],
             [
              0.5555555555555556,
              "#d8576b"
             ],
             [
              0.6666666666666666,
              "#ed7953"
             ],
             [
              0.7777777777777778,
              "#fb9f3a"
             ],
             [
              0.8888888888888888,
              "#fdca26"
             ],
             [
              1,
              "#f0f921"
             ]
            ],
            "type": "histogram2dcontour"
           }
          ],
          "mesh3d": [
           {
            "colorbar": {
             "outlinewidth": 0,
             "ticks": ""
            },
            "type": "mesh3d"
           }
          ],
          "parcoords": [
           {
            "line": {
             "colorbar": {
              "outlinewidth": 0,
              "ticks": ""
             }
            },
            "type": "parcoords"
           }
          ],
          "pie": [
           {
            "automargin": true,
            "type": "pie"
           }
          ],
          "scatter": [
           {
            "fillpattern": {
             "fillmode": "overlay",
             "size": 10,
             "solidity": 0.2
            },
            "type": "scatter"
           }
          ],
          "scatter3d": [
           {
            "line": {
             "colorbar": {
              "outlinewidth": 0,
              "ticks": ""
             }
            },
            "marker": {
             "colorbar": {
              "outlinewidth": 0,
              "ticks": ""
             }
            },
            "type": "scatter3d"
           }
          ],
          "scattercarpet": [
           {
            "marker": {
             "colorbar": {
              "outlinewidth": 0,
              "ticks": ""
             }
            },
            "type": "scattercarpet"
           }
          ],
          "scattergeo": [
           {
            "marker": {
             "colorbar": {
              "outlinewidth": 0,
              "ticks": ""
             }
            },
            "type": "scattergeo"
           }
          ],
          "scattergl": [
           {
            "marker": {
             "colorbar": {
              "outlinewidth": 0,
              "ticks": ""
             }
            },
            "type": "scattergl"
           }
          ],
          "scattermapbox": [
           {
            "marker": {
             "colorbar": {
              "outlinewidth": 0,
              "ticks": ""
             }
            },
            "type": "scattermapbox"
           }
          ],
          "scatterpolar": [
           {
            "marker": {
             "colorbar": {
              "outlinewidth": 0,
              "ticks": ""
             }
            },
            "type": "scatterpolar"
           }
          ],
          "scatterpolargl": [
           {
            "marker": {
             "colorbar": {
              "outlinewidth": 0,
              "ticks": ""
             }
            },
            "type": "scatterpolargl"
           }
          ],
          "scatterternary": [
           {
            "marker": {
             "colorbar": {
              "outlinewidth": 0,
              "ticks": ""
             }
            },
            "type": "scatterternary"
           }
          ],
          "surface": [
           {
            "colorbar": {
             "outlinewidth": 0,
             "ticks": ""
            },
            "colorscale": [
             [
              0,
              "#0d0887"
             ],
             [
              0.1111111111111111,
              "#46039f"
             ],
             [
              0.2222222222222222,
              "#7201a8"
             ],
             [
              0.3333333333333333,
              "#9c179e"
             ],
             [
              0.4444444444444444,
              "#bd3786"
             ],
             [
              0.5555555555555556,
              "#d8576b"
             ],
             [
              0.6666666666666666,
              "#ed7953"
             ],
             [
              0.7777777777777778,
              "#fb9f3a"
             ],
             [
              0.8888888888888888,
              "#fdca26"
             ],
             [
              1,
              "#f0f921"
             ]
            ],
            "type": "surface"
           }
          ],
          "table": [
           {
            "cells": {
             "fill": {
              "color": "#EBF0F8"
             },
             "line": {
              "color": "white"
             }
            },
            "header": {
             "fill": {
              "color": "#C8D4E3"
             },
             "line": {
              "color": "white"
             }
            },
            "type": "table"
           }
          ]
         },
         "layout": {
          "annotationdefaults": {
           "arrowcolor": "#2a3f5f",
           "arrowhead": 0,
           "arrowwidth": 1
          },
          "autotypenumbers": "strict",
          "coloraxis": {
           "colorbar": {
            "outlinewidth": 0,
            "ticks": ""
           }
          },
          "colorscale": {
           "diverging": [
            [
             0,
             "#8e0152"
            ],
            [
             0.1,
             "#c51b7d"
            ],
            [
             0.2,
             "#de77ae"
            ],
            [
             0.3,
             "#f1b6da"
            ],
            [
             0.4,
             "#fde0ef"
            ],
            [
             0.5,
             "#f7f7f7"
            ],
            [
             0.6,
             "#e6f5d0"
            ],
            [
             0.7,
             "#b8e186"
            ],
            [
             0.8,
             "#7fbc41"
            ],
            [
             0.9,
             "#4d9221"
            ],
            [
             1,
             "#276419"
            ]
           ],
           "sequential": [
            [
             0,
             "#0d0887"
            ],
            [
             0.1111111111111111,
             "#46039f"
            ],
            [
             0.2222222222222222,
             "#7201a8"
            ],
            [
             0.3333333333333333,
             "#9c179e"
            ],
            [
             0.4444444444444444,
             "#bd3786"
            ],
            [
             0.5555555555555556,
             "#d8576b"
            ],
            [
             0.6666666666666666,
             "#ed7953"
            ],
            [
             0.7777777777777778,
             "#fb9f3a"
            ],
            [
             0.8888888888888888,
             "#fdca26"
            ],
            [
             1,
             "#f0f921"
            ]
           ],
           "sequentialminus": [
            [
             0,
             "#0d0887"
            ],
            [
             0.1111111111111111,
             "#46039f"
            ],
            [
             0.2222222222222222,
             "#7201a8"
            ],
            [
             0.3333333333333333,
             "#9c179e"
            ],
            [
             0.4444444444444444,
             "#bd3786"
            ],
            [
             0.5555555555555556,
             "#d8576b"
            ],
            [
             0.6666666666666666,
             "#ed7953"
            ],
            [
             0.7777777777777778,
             "#fb9f3a"
            ],
            [
             0.8888888888888888,
             "#fdca26"
            ],
            [
             1,
             "#f0f921"
            ]
           ]
          },
          "colorway": [
           "#636efa",
           "#EF553B",
           "#00cc96",
           "#ab63fa",
           "#FFA15A",
           "#19d3f3",
           "#FF6692",
           "#B6E880",
           "#FF97FF",
           "#FECB52"
          ],
          "font": {
           "color": "#2a3f5f"
          },
          "geo": {
           "bgcolor": "white",
           "lakecolor": "white",
           "landcolor": "white",
           "showlakes": true,
           "showland": true,
           "subunitcolor": "#C8D4E3"
          },
          "hoverlabel": {
           "align": "left"
          },
          "hovermode": "closest",
          "mapbox": {
           "style": "light"
          },
          "paper_bgcolor": "white",
          "plot_bgcolor": "white",
          "polar": {
           "angularaxis": {
            "gridcolor": "#EBF0F8",
            "linecolor": "#EBF0F8",
            "ticks": ""
           },
           "bgcolor": "white",
           "radialaxis": {
            "gridcolor": "#EBF0F8",
            "linecolor": "#EBF0F8",
            "ticks": ""
           }
          },
          "scene": {
           "xaxis": {
            "backgroundcolor": "white",
            "gridcolor": "#DFE8F3",
            "gridwidth": 2,
            "linecolor": "#EBF0F8",
            "showbackground": true,
            "ticks": "",
            "zerolinecolor": "#EBF0F8"
           },
           "yaxis": {
            "backgroundcolor": "white",
            "gridcolor": "#DFE8F3",
            "gridwidth": 2,
            "linecolor": "#EBF0F8",
            "showbackground": true,
            "ticks": "",
            "zerolinecolor": "#EBF0F8"
           },
           "zaxis": {
            "backgroundcolor": "white",
            "gridcolor": "#DFE8F3",
            "gridwidth": 2,
            "linecolor": "#EBF0F8",
            "showbackground": true,
            "ticks": "",
            "zerolinecolor": "#EBF0F8"
           }
          },
          "shapedefaults": {
           "line": {
            "color": "#2a3f5f"
           }
          },
          "ternary": {
           "aaxis": {
            "gridcolor": "#DFE8F3",
            "linecolor": "#A2B1C6",
            "ticks": ""
           },
           "baxis": {
            "gridcolor": "#DFE8F3",
            "linecolor": "#A2B1C6",
            "ticks": ""
           },
           "bgcolor": "white",
           "caxis": {
            "gridcolor": "#DFE8F3",
            "linecolor": "#A2B1C6",
            "ticks": ""
           }
          },
          "title": {
           "x": 0.05
          },
          "xaxis": {
           "automargin": true,
           "gridcolor": "#EBF0F8",
           "linecolor": "#EBF0F8",
           "ticks": "",
           "title": {
            "standoff": 15
           },
           "zerolinecolor": "#EBF0F8",
           "zerolinewidth": 2
          },
          "yaxis": {
           "automargin": true,
           "gridcolor": "#EBF0F8",
           "linecolor": "#EBF0F8",
           "ticks": "",
           "title": {
            "standoff": 15
           },
           "zerolinecolor": "#EBF0F8",
           "zerolinewidth": 2
          }
         }
        },
        "title": {
         "text": "Average Rating vs ABV per country"
        },
        "width": 800,
        "xaxis": {
         "anchor": "y",
         "domain": [
          0,
          1
         ],
         "title": {
          "text": "Average Rating"
         }
        },
        "yaxis": {
         "anchor": "x",
         "domain": [
          0,
          1
         ],
         "title": {
          "text": "Average ABV"
         }
        }
       }
      }
     },
     "metadata": {},
     "output_type": "display_data"
    }
   ],
   "source": [
    "LABEL_1 = 'palate'\n",
    "LABEL_2 = 'abv'\n",
    "\n",
    "# Get the average rating per country\n",
    "avg_rating_country = df_ratings_no_text.groupby('location').agg({LABEL_1: 'mean'})\n",
    "\n",
    "# Get the average ABV per country\n",
    "avg_abv_country = df_ratings_no_text.groupby('location').agg({LABEL_2: 'mean'})\n",
    "\n",
    "# Create an aggregated dataframe to then plot\n",
    "aggregated_df = pd.DataFrame({\n",
    "    'x': avg_rating_country[LABEL_1].values,\n",
    "    'y': avg_abv_country[LABEL_2].values,\n",
    "    'label': avg_rating_country.index\n",
    "})\n",
    "\n",
    "# Plot the scatter plot\n",
    "plot_scatter_plot(aggregated_df, 'Average Rating vs ABV per country', 'Average Rating', 'Average ABV', True)"
   ]
  },
  {
   "cell_type": "code",
   "execution_count": 10,
   "metadata": {},
   "outputs": [
    {
     "data": {
      "application/vnd.plotly.v1+json": {
       "config": {
        "plotlyServerURL": "https://plot.ly"
       },
       "data": [
        {
         "mode": "markers+text",
         "text": [
          "Belgium",
          "Canada",
          "Czechia",
          "Germany",
          "Ireland",
          "Jamaica",
          "Mexico",
          "Netherlands",
          "Norway",
          "United Kingdom",
          "United States of America"
         ],
         "textposition": "top center",
         "type": "scatter",
         "visible": true,
         "x": [
          4.222222222222222,
          4.5,
          3.5,
          3.8,
          5,
          3.5,
          3,
          2.8333333333333335,
          4,
          3.9,
          3.9921875
         ],
         "y": [
          7.388888888888889,
          7,
          4.4,
          5.26,
          6,
          4.7,
          5.4,
          5.3999999999999995,
          6,
          5.79,
          6.010208333333334
         ]
        },
        {
         "hovertemplate": "<b>OLS trendline</b><br>y = 0.840734 * x + 2.53<br>R<sup>2</sup>=0.353906<br><br>x=%{x}<br>y=%{y} <b>(trend)</b><extra></extra>",
         "legendgroup": "",
         "line": {
          "color": "DarkSlateGrey",
          "width": 2
         },
         "marker": {
          "color": "#636efa",
          "symbol": "circle"
         },
         "mode": "lines",
         "name": "",
         "showlegend": false,
         "type": "scatter",
         "visible": true,
         "x": [
          2.8333333333333335,
          3,
          3.5,
          3.5,
          3.8,
          3.9,
          3.9921875,
          4,
          4.222222222222222,
          4.5,
          5
         ],
         "xaxis": "x",
         "y": [
          4.91207832515445,
          5.052200627937008,
          5.472567536284684,
          5.472567536284684,
          5.7247876812932885,
          5.808861062962824,
          5.886366211689426,
          5.892934444632359,
          6.07976418167577,
          6.313301352980034,
          6.733668261327709
         ],
         "yaxis": "y"
        },
        {
         "mode": "markers+text",
         "text": [
          "Australia",
          "Austria",
          "Belgium",
          "Brazil",
          "Canada",
          "China",
          "Czechia",
          "Denmark",
          "France",
          "Germany",
          "India",
          "Ireland",
          "Italy",
          "Jamaica",
          "Japan",
          "Mexico",
          "Netherlands",
          "Norway",
          "Philippines",
          "Poland",
          "Portugal",
          "Sri Lanka",
          "Sweden",
          "Switzerland",
          "Thailand",
          "Turkey",
          "Ukraine",
          "United Kingdom",
          "United States of America"
         ],
         "textposition": "top center",
         "type": "scatter",
         "visible": false,
         "x": [
          2.6363636363636362,
          4,
          4.234913793103448,
          4,
          3.4545454545454546,
          2.8333333333333335,
          4.0227272727272725,
          3.5,
          4,
          3.8986486486486487,
          3.4,
          3.75,
          3.35,
          3.6666666666666665,
          2.923076923076923,
          2.7,
          2.5625,
          4,
          3,
          3.6666666666666665,
          3.5,
          4.5,
          5,
          4,
          4,
          4,
          3,
          4.088323353293413,
          3.6408325952170064
         ],
         "y": [
          5.029999999999999,
          8.283333333333333,
          7.418230088495575,
          4.7,
          6.5,
          4.84,
          4.725,
          6.225,
          7.25,
          5.750909090909091,
          5.525,
          4.8125,
          6.05,
          5.633333333333333,
          5,
          4.825,
          5.066666666666666,
          5.6,
          5,
          6.458333333333333,
          5.3,
          6.800000000000001,
          5.5,
          14,
          5,
          5,
          5.5,
          5.605063291139241,
          5.883258196721312
         ]
        },
        {
         "hovertemplate": "<b>OLS trendline</b><br>y = 0.900333 * x + 2.7052<br>R<sup>2</sup>=0.086844<br><br>x=%{x}<br>y=%{y} <b>(trend)</b><extra></extra>",
         "legendgroup": "",
         "line": {
          "color": "DarkSlateGrey",
          "width": 2
         },
         "marker": {
          "color": "#636efa",
          "symbol": "circle"
         },
         "mode": "lines",
         "name": "",
         "showlegend": false,
         "type": "scatter",
         "visible": false,
         "x": [
          2.5625,
          2.6363636363636362,
          2.7,
          2.8333333333333335,
          2.923076923076923,
          3,
          3,
          3.35,
          3.4,
          3.4545454545454546,
          3.5,
          3.5,
          3.6408325952170064,
          3.6666666666666665,
          3.6666666666666665,
          3.75,
          3.8986486486486487,
          4,
          4,
          4,
          4,
          4,
          4,
          4,
          4.0227272727272725,
          4.088323353293413,
          4.234913793103448,
          4.5,
          5
         ],
         "xaxis": "x",
         "y": [
          5.012303939002457,
          5.078805799349279,
          5.136099709801926,
          5.256144093607471,
          5.336943198091973,
          5.406199573364403,
          5.406199573364403,
          5.72131608085396,
          5.766332724781039,
          5.815441790883307,
          5.856366012635197,
          5.856366012635197,
          5.983162228479408,
          6.006421492392129,
          6.006421492392129,
          6.081449232270595,
          6.21528249799975,
          6.306532451905992,
          6.306532451905992,
          6.306532451905992,
          6.306532451905992,
          6.306532451905992,
          6.306532451905992,
          6.306532451905992,
          6.3269945627819375,
          6.386052870819096,
          6.518033063459944,
          6.756698891176788,
          7.206865330447582
         ],
         "yaxis": "y"
        },
        {
         "mode": "markers+text",
         "text": [
          "Australia",
          "Austria",
          "Belgium",
          "Brazil",
          "Canada",
          "China",
          "Costa Rica",
          "Czechia",
          "Denmark",
          "Estonia",
          "Finland",
          "France",
          "Germany",
          "Greece",
          "India",
          "Ireland",
          "Italy",
          "Jamaica",
          "Japan",
          "Lithuania",
          "Mexico",
          "Netherlands",
          "New Zealand",
          "Norway",
          "Philippines",
          "Poland",
          "Portugal",
          "Romania",
          "Russia",
          "South Korea",
          "Spain",
          "Sri Lanka",
          "Sweden",
          "Switzerland",
          "Thailand",
          "Turkey",
          "Ukraine",
          "United Kingdom",
          "United States of America"
         ],
         "textposition": "top center",
         "type": "scatter",
         "visible": false,
         "x": [
          2.7620772946859904,
          3.807017543859649,
          3.9489144316730522,
          3.3684210526315788,
          3.664461247637051,
          2.685185185185185,
          2.25,
          3.6533742331288344,
          2.75,
          3.75,
          4.159090909090909,
          3.5546218487394956,
          3.8104299825682744,
          2.923076923076923,
          2.5441176470588234,
          3.598076923076923,
          3.308641975308642,
          2.975,
          3.2635658914728682,
          3,
          2.8232558139534882,
          3.165268456375839,
          2.9743589743589745,
          3.5657894736842106,
          2.6923076923076925,
          3.351063829787234,
          2.6785714285714284,
          2.8333333333333335,
          3.189655172413793,
          2.875,
          2.7222222222222223,
          3.8,
          3.5952380952380953,
          4,
          2.6176470588235294,
          3.1,
          3.3333333333333335,
          3.822414806110458,
          3.6641939679700837
         ],
         "y": [
          5.193069306930693,
          9.767272727272728,
          7.323997429305912,
          4.410526315789474,
          6.7379310344827585,
          4.818518518518518,
          4.8,
          4.776470588235295,
          6.31923076923077,
          6.05,
          7.2,
          7.273728813559321,
          5.725508982035929,
          4.8125,
          4.926470588235294,
          4.494941634241245,
          5.91,
          4.91,
          5.0875,
          5.6899999999999995,
          4.8060465116279065,
          5.701700680272109,
          4.81025641025641,
          5.5815789473684205,
          4.984615384615385,
          6.547872340425532,
          5.028571428571429,
          5,
          5.655172413793103,
          4.5,
          5.3875,
          8.533333333333333,
          5.7404761904761905,
          8.559999999999999,
          4.976470588235294,
          4.84,
          5.258333333333334,
          5.53357314148681,
          6.0033929736278075
         ]
        },
        {
         "hovertemplate": "<b>OLS trendline</b><br>y = 1.58427 * x + 0.593327<br>R<sup>2</sup>=0.390144<br><br>x=%{x}<br>y=%{y} <b>(trend)</b><extra></extra>",
         "legendgroup": "",
         "line": {
          "color": "DarkSlateGrey",
          "width": 2
         },
         "marker": {
          "color": "#636efa",
          "symbol": "circle"
         },
         "mode": "lines",
         "name": "",
         "showlegend": false,
         "type": "scatter",
         "visible": false,
         "x": [
          2.25,
          2.5441176470588234,
          2.6176470588235294,
          2.6785714285714284,
          2.685185185185185,
          2.6923076923076925,
          2.7222222222222223,
          2.75,
          2.7620772946859904,
          2.8232558139534882,
          2.8333333333333335,
          2.875,
          2.923076923076923,
          2.9743589743589745,
          2.975,
          3,
          3.1,
          3.165268456375839,
          3.189655172413793,
          3.2635658914728682,
          3.308641975308642,
          3.3333333333333335,
          3.351063829787234,
          3.3684210526315788,
          3.5546218487394956,
          3.5657894736842106,
          3.5952380952380953,
          3.598076923076923,
          3.6533742331288344,
          3.6641939679700837,
          3.664461247637051,
          3.75,
          3.8,
          3.807017543859649,
          3.8104299825682744,
          3.822414806110458,
          3.9489144316730522,
          4,
          4.159090909090909
         ],
         "xaxis": "x",
         "y": [
          4.157940596935567,
          4.62390316386362,
          4.740393805595634,
          4.836914623030729,
          4.847392617260594,
          4.858676611046601,
          4.9060693849478305,
          4.9500769607132575,
          4.969210689306921,
          5.0661341488946405,
          5.08209968800954,
          5.148111051657681,
          5.2242780097132275,
          5.305522764972478,
          5.306538324413218,
          5.3461451426021025,
          5.504572415357641,
          5.60797545076352,
          5.646610659897089,
          5.763705396376389,
          5.835118206662406,
          5.87423605178723,
          5.902325993765162,
          5.929824568543559,
          6.224817411666432,
          6.242509975297912,
          6.28916462328983,
          6.29366210081311,
          6.381268121035527,
          6.3984095318639,
          6.398832975750906,
          6.534349688268639,
          6.6135633246464085,
          6.624681027997674,
          6.630087261578204,
          6.649074490660649,
          6.849484397485433,
          6.930417870157484,
          7.182461258632204
         ],
         "yaxis": "y"
        },
        {
         "mode": "markers+text",
         "text": [
          "Australia",
          "Austria",
          "Belgium",
          "Brazil",
          "Canada",
          "China",
          "Costa Rica",
          "Czechia",
          "Denmark",
          "Estonia",
          "Finland",
          "France",
          "Germany",
          "Greece",
          "Iceland",
          "India",
          "Ireland",
          "Italy",
          "Jamaica",
          "Japan",
          "Lithuania",
          "Mexico",
          "Netherlands",
          "New Zealand",
          "Norway",
          "Philippines",
          "Poland",
          "Portugal",
          "Romania",
          "Russia",
          "South Korea",
          "Spain",
          "Sri Lanka",
          "Sweden",
          "Switzerland",
          "Thailand",
          "Turkey",
          "Ukraine",
          "United Kingdom",
          "United States of America"
         ],
         "textposition": "top center",
         "type": "scatter",
         "visible": false,
         "x": [
          2.8314350797266514,
          3.7270114942528734,
          3.9324157303370786,
          2.7547169811320753,
          3.6446224877783813,
          2.744186046511628,
          3.1666666666666665,
          3.4883116883116885,
          2.8349056603773586,
          3.6923076923076925,
          4.059523809523809,
          3.452569169960474,
          3.7422257414339186,
          2.6904761904761907,
          2.5,
          2.8076923076923075,
          3.5180360721442887,
          3.2267080745341614,
          2.9186046511627906,
          3.207547169811321,
          3.2954545454545454,
          2.718926553672316,
          3.141500904159132,
          2.9691358024691357,
          3.675675675675676,
          2.8518518518518516,
          3.4502923976608186,
          3.0416666666666665,
          3.75,
          3.039705882352941,
          2.3,
          2.789473684210526,
          3.4047619047619047,
          3.6621621621621623,
          3.7058823529411766,
          2.802325581395349,
          2.6842105263157894,
          3.2111111111111112,
          3.7323952549217565,
          3.663095238095238
         ],
         "y": [
          5.201140776699029,
          8.370520231213872,
          7.529279584462512,
          4.607547169811321,
          6.6419637959407565,
          4.841860465116278,
          4.816666666666666,
          4.9783333333333335,
          5.874528301886793,
          7.023076923076923,
          6.828571428571429,
          7.39016393442623,
          5.723873343151693,
          4.88,
          5.6,
          4.8765625,
          4.572210953346856,
          6.0210526315789465,
          5.155813953488373,
          5.363758389261745,
          5.834090909090909,
          4.857796610169491,
          5.673722627737226,
          5.008641975308642,
          5.391891891891892,
          4.977777777777778,
          6.807272727272728,
          5.108333333333333,
          5,
          5.537299035369775,
          4.46,
          5.4526315789473685,
          7.780952380952381,
          5.477027027027027,
          10.193333333333333,
          4.981395348837209,
          4.873684210526315,
          5.304444444444444,
          5.621426745077986,
          6.373900492755755
         ]
        },
        {
         "hovertemplate": "<b>OLS trendline</b><br>y = 1.57933 * x + 0.688692<br>R<sup>2</sup>=0.343367<br><br>x=%{x}<br>y=%{y} <b>(trend)</b><extra></extra>",
         "legendgroup": "",
         "line": {
          "color": "DarkSlateGrey",
          "width": 2
         },
         "marker": {
          "color": "#636efa",
          "symbol": "circle"
         },
         "mode": "lines",
         "name": "",
         "showlegend": false,
         "type": "scatter",
         "visible": false,
         "x": [
          2.3,
          2.5,
          2.6842105263157894,
          2.6904761904761907,
          2.718926553672316,
          2.744186046511628,
          2.7547169811320753,
          2.789473684210526,
          2.802325581395349,
          2.8076923076923075,
          2.8314350797266514,
          2.8349056603773586,
          2.8518518518518516,
          2.9186046511627906,
          2.9691358024691357,
          3.039705882352941,
          3.0416666666666665,
          3.141500904159132,
          3.1666666666666665,
          3.207547169811321,
          3.2111111111111112,
          3.2267080745341614,
          3.2954545454545454,
          3.4047619047619047,
          3.4502923976608186,
          3.452569169960474,
          3.4883116883116885,
          3.5180360721442887,
          3.6446224877783813,
          3.6621621621621623,
          3.663095238095238,
          3.675675675675676,
          3.6923076923076925,
          3.7058823529411766,
          3.7270114942528734,
          3.7323952549217565,
          3.7422257414339186,
          3.75,
          3.9324157303370786,
          4.059523809523809
         ],
         "xaxis": "x",
         "y": [
          4.321158566308965,
          4.637025253395283,
          4.92795509676426,
          4.9378506696679665,
          4.9827832795137805,
          5.02267644111695,
          5.039308298269367,
          5.094200721546532,
          5.114498152479252,
          5.122974002758848,
          5.160471756482517,
          5.165952960544541,
          5.192716647343433,
          5.298141575203854,
          5.3779471119928175,
          5.4894007986943905,
          5.492497530920726,
          5.650169080193395,
          5.689914210349675,
          5.754478155823293,
          5.760106807479968,
          5.784739613305195,
          5.893313213397683,
          6.065945980690529,
          6.1378538104574645,
          6.1414495930751745,
          6.1978989473737744,
          6.244843660608202,
          6.444765819290565,
          6.472466813491453,
          6.473940451510355,
          6.4938091572135015,
          6.5200766571791,
          6.541515572592198,
          6.57488553192772,
          6.5833882851604475,
          6.598913901195665,
          6.611192047684767,
          6.899287309754788,
          7.100033349127878
         ],
         "yaxis": "y"
        },
        {
         "mode": "markers+text",
         "text": [
          "Australia",
          "Austria",
          "Belgium",
          "Brazil",
          "Canada",
          "China",
          "Costa Rica",
          "Czechia",
          "Denmark",
          "Estonia",
          "Finland",
          "France",
          "Germany",
          "Greece",
          "Iceland",
          "India",
          "Ireland",
          "Italy",
          "Jamaica",
          "Japan",
          "Lithuania",
          "Mexico",
          "Netherlands",
          "New Zealand",
          "Norway",
          "Philippines",
          "Poland",
          "Portugal",
          "Romania",
          "Russia",
          "South Korea",
          "Spain",
          "Sri Lanka",
          "Sweden",
          "Switzerland",
          "Thailand",
          "Turkey",
          "Ukraine",
          "United Kingdom",
          "United States of America"
         ],
         "textposition": "top center",
         "type": "scatter",
         "visible": false,
         "x": [
          2.9002890173410405,
          3.677248677248677,
          3.942616646727055,
          3.05,
          3.5206594323873124,
          2.7358490566037736,
          3,
          3.543882978723404,
          2.814432989690722,
          3.3125,
          4.078313253012048,
          3.3636363636363638,
          3.7260291485553565,
          2.625,
          2.8333333333333335,
          2.5892857142857144,
          3.523854961832061,
          3.3268156424581004,
          3.1044776119402986,
          3.304159445407279,
          3.1271186440677967,
          2.7888888888888888,
          3.3018154311649015,
          3.090909090909091,
          3.5277777777777777,
          2.787878787878788,
          3.3694267515923566,
          2.9722222222222223,
          3.090909090909091,
          3.185589519650655,
          2.2941176470588234,
          2.9285714285714284,
          3.707547169811321,
          3.47196261682243,
          3.513888888888889,
          2.8536585365853657,
          3.0454545454545454,
          2.870967741935484,
          3.7549052774018943,
          3.7075645278324867
         ],
         "y": [
          5.338080495356038,
          8.998378378378378,
          7.574078518772501,
          4.765822784810126,
          6.477787234042553,
          4.842307692307692,
          4.8999999999999995,
          5.089196675900277,
          5.995876288659794,
          6.96875,
          6.930487804878048,
          6.834252873563218,
          5.772185863874346,
          4.921212121212122,
          5.466666666666666,
          5.016363636363636,
          4.693474088291747,
          6.123121387283237,
          5.282089552238807,
          5.527322404371585,
          6.255172413793104,
          4.843222222222222,
          6.089127105666156,
          4.924324324324324,
          5.35,
          5,
          6.561842105263158,
          5.083333333333333,
          4.9,
          5.956944444444445,
          4.5588235294117645,
          5.385185185185185,
          7.886792452830188,
          5.478504672897197,
          6.207692307692308,
          5.02051282051282,
          5.695454545454545,
          5.6433333333333335,
          5.690503302209064,
          6.610708515130191
         ]
        },
        {
         "hovertemplate": "<b>OLS trendline</b><br>y = 1.56489 * x + 0.744608<br>R<sup>2</sup>=0.420515<br><br>x=%{x}<br>y=%{y} <b>(trend)</b><extra></extra>",
         "legendgroup": "",
         "line": {
          "color": "DarkSlateGrey",
          "width": 2
         },
         "marker": {
          "color": "#636efa",
          "symbol": "circle"
         },
         "mode": "lines",
         "name": "",
         "showlegend": false,
         "type": "scatter",
         "visible": false,
         "x": [
          2.2941176470588234,
          2.5892857142857144,
          2.625,
          2.7358490566037736,
          2.787878787878788,
          2.7888888888888888,
          2.814432989690722,
          2.8333333333333335,
          2.8536585365853657,
          2.870967741935484,
          2.9002890173410405,
          2.9285714285714284,
          2.9722222222222223,
          3,
          3.0454545454545454,
          3.05,
          3.090909090909091,
          3.090909090909091,
          3.1044776119402986,
          3.1271186440677967,
          3.185589519650655,
          3.3018154311649015,
          3.304159445407279,
          3.3125,
          3.3268156424581004,
          3.3636363636363638,
          3.3694267515923566,
          3.47196261682243,
          3.513888888888889,
          3.5206594323873124,
          3.523854961832061,
          3.5277777777777777,
          3.543882978723404,
          3.677248677248677,
          3.707547169811321,
          3.7075645278324867,
          3.7260291485553565,
          3.7549052774018943,
          3.942616646727055,
          4.078313253012048
         ],
         "xaxis": "x",
         "y": [
          4.3346456181313915,
          4.796550588704582,
          4.852439446354007,
          5.025905806416844,
          5.107326509270324,
          5.108907204234146,
          5.1488808614120405,
          5.178457782642321,
          5.210264449597277,
          5.2373514175847244,
          5.283235930027466,
          5.327494736374119,
          5.395803340167861,
          5.43927245167297,
          5.510403725044965,
          5.517516852382165,
          5.581534998416961,
          5.581534998416961,
          5.602768214348901,
          5.638198894153975,
          5.729699266532428,
          5.911579802398672,
          5.915247922191643,
          5.928299956105439,
          5.950702333403463,
          6.008322638648934,
          6.017383947358743,
          6.177841093881261,
          6.2434510145174755,
          6.25404615688767,
          6.259046802614728,
          6.265185570270029,
          6.290388406195863,
          6.499090789321327,
          6.546504537180448,
          6.54653170053972,
          6.575426764195392,
          6.620614672123368,
          6.914361944106361,
          7.126711936847178
         ],
         "yaxis": "y"
        },
        {
         "mode": "markers+text",
         "text": [
          "Australia",
          "Austria",
          "Belgium",
          "Brazil",
          "Canada",
          "China",
          "Costa Rica",
          "Czechia",
          "Denmark",
          "Estonia",
          "Finland",
          "France",
          "Germany",
          "Greece",
          "Iceland",
          "India",
          "Ireland",
          "Italy",
          "Jamaica",
          "Japan",
          "Lithuania",
          "Mexico",
          "Netherlands",
          "New Zealand",
          "Norway",
          "Philippines",
          "Poland",
          "Portugal",
          "Romania",
          "Russia",
          "South Korea",
          "Spain",
          "Sri Lanka",
          "Sweden",
          "Switzerland",
          "Thailand",
          "Turkey",
          "Ukraine",
          "United Kingdom",
          "United States of America"
         ],
         "textposition": "top center",
         "type": "scatter",
         "visible": false,
         "x": [
          3.192953020134228,
          3.542222222222222,
          3.952735987218746,
          3.0742574257425743,
          3.539817232375979,
          2.6982758620689653,
          3.325,
          3.534764826175869,
          2.960144927536232,
          3.076923076923077,
          3.7119565217391304,
          3.514957264957265,
          3.7773051276155436,
          2.8,
          2.625,
          2.536231884057971,
          3.5700158227848102,
          3.30045871559633,
          2.948529411764706,
          3.1956018518518516,
          3.1079545454545454,
          2.983370288248337,
          3.3466111771700358,
          2.986111111111111,
          3.3833333333333333,
          2.9444444444444446,
          3.5652920962199315,
          2.6666666666666665,
          3.2222222222222223,
          3.238390092879257,
          2.2291666666666665,
          3.0833333333333335,
          3.8636363636363638,
          3.3846153846153846,
          3.017857142857143,
          2.891891891891892,
          3.4444444444444446,
          2.839622641509434,
          3.745697602950215,
          3.7331387155224482
         ],
         "y": [
          5.205841924398626,
          8.286425339366515,
          7.662808613080112,
          4.824752475247525,
          6.464704907161804,
          4.731578947368421,
          4.6866666666666665,
          5.040172786177106,
          5.986764705882353,
          6.209090909090909,
          6.927173913043478,
          6.849455337690632,
          5.812937309227518,
          4.8500000000000005,
          5.449999999999999,
          4.935294117647059,
          4.804126984126984,
          6.243192488262911,
          5.363235294117647,
          5.746282973621103,
          6.273493975903615,
          4.83430155210643,
          6.08015587529976,
          4.883333333333334,
          5.53,
          5.316666666666666,
          6.988275862068965,
          5.355555555555555,
          5.2,
          5.907119741100323,
          4.575,
          5.216666666666667,
          8.072727272727274,
          5.348251748251748,
          5.242307692307692,
          5.021621621621622,
          5.861111111111111,
          5.359615384615385,
          5.7348166460651,
          6.7794859893786965
         ]
        },
        {
         "hovertemplate": "<b>OLS trendline</b><br>y = 1.54344 * x + 0.781093<br>R<sup>2</sup>=0.430164<br><br>x=%{x}<br>y=%{y} <b>(trend)</b><extra></extra>",
         "legendgroup": "",
         "line": {
          "color": "DarkSlateGrey",
          "width": 2
         },
         "marker": {
          "color": "#636efa",
          "symbol": "circle"
         },
         "mode": "lines",
         "name": "",
         "showlegend": false,
         "type": "scatter",
         "visible": false,
         "x": [
          2.2291666666666665,
          2.536231884057971,
          2.625,
          2.6666666666666665,
          2.6982758620689653,
          2.8,
          2.839622641509434,
          2.891891891891892,
          2.9444444444444446,
          2.948529411764706,
          2.960144927536232,
          2.983370288248337,
          2.986111111111111,
          3.017857142857143,
          3.0742574257425743,
          3.076923076923077,
          3.0833333333333335,
          3.1079545454545454,
          3.192953020134228,
          3.1956018518518516,
          3.2222222222222223,
          3.238390092879257,
          3.30045871559633,
          3.325,
          3.3466111771700358,
          3.3833333333333333,
          3.3846153846153846,
          3.4444444444444446,
          3.514957264957265,
          3.534764826175869,
          3.539817232375979,
          3.542222222222222,
          3.5652920962199315,
          3.5700158227848102,
          3.7119565217391304,
          3.7331387155224482,
          3.745697602950215,
          3.7773051276155436,
          3.8636363636363638,
          3.952735987218746
         ],
         "xaxis": "x",
         "y": [
          4.221685647798922,
          4.695623418863244,
          4.83263197804998,
          4.896942118076407,
          4.945729120855075,
          5.102734566160973,
          5.1638898691295,
          5.244564496597635,
          5.325676384919254,
          5.33198130060812,
          5.349909191306024,
          5.385756220095457,
          5.389986524945681,
          5.4389847268705775,
          5.526035369027991,
          5.530149650644304,
          5.540043518340678,
          5.57804496471993,
          5.709235296128324,
          5.713323617856328,
          5.754410651762101,
          5.779364844383294,
          5.875164248019673,
          5.913042330493955,
          5.946397958412536,
          6.003076526530952,
          6.005055300070227,
          6.097398065236379,
          6.206230609896486,
          6.236802458749697,
          6.244600561554484,
          6.24831252716506,
          6.283919571017494,
          6.291210375421508,
          6.510287804826338,
          6.542981321184868,
          6.562365252602207,
          6.6111496766929925,
          6.744397049744675,
          6.881917272197914
         ],
         "yaxis": "y"
        },
        {
         "mode": "markers+text",
         "text": [
          "Australia",
          "Austria",
          "Belgium",
          "Brazil",
          "Canada",
          "China",
          "Costa Rica",
          "Czechia",
          "Denmark",
          "Estonia",
          "Finland",
          "France",
          "Germany",
          "Greece",
          "Iceland",
          "India",
          "Ireland",
          "Italy",
          "Jamaica",
          "Japan",
          "Lithuania",
          "Mexico",
          "Netherlands",
          "New Zealand",
          "Norway",
          "Philippines",
          "Poland",
          "Portugal",
          "Romania",
          "Russia",
          "South Korea",
          "Spain",
          "Sri Lanka",
          "Sweden",
          "Switzerland",
          "Thailand",
          "Turkey",
          "Ukraine",
          "United Kingdom",
          "United States of America"
         ],
         "textposition": "top center",
         "type": "scatter",
         "visible": false,
         "x": [
          3.2364963503649635,
          3.5557065217391304,
          3.909101711026616,
          3.1450617283950617,
          3.53421120578363,
          2.668421052631579,
          3.125,
          3.526086956521739,
          3.121559633027523,
          3.1333333333333333,
          3.778225806451613,
          3.392210144927536,
          3.7692917988976116,
          2.730769230769231,
          2.125,
          2.744186046511628,
          3.5796432964329643,
          3.240771812080537,
          3.080357142857143,
          3.2332761578044598,
          3.1850393700787403,
          2.795863309352518,
          3.2489754098360657,
          3.292517006802721,
          3.16,
          2.811320754716981,
          3.6292735042735043,
          2.891304347826087,
          2.7916666666666665,
          3.1022364217252396,
          2.4722222222222223,
          3.1818181818181817,
          3.664473684210526,
          3.4345794392523366,
          3.7928571428571427,
          3.0634920634920637,
          2.988095238095238,
          3.072289156626506,
          3.7225362872421695,
          3.721800555849656
         ],
         "y": [
          5.206994047619047,
          7.8315340909090905,
          7.66125822133257,
          4.867784810126582,
          6.606061796281749,
          4.880434782608695,
          4.735714285714286,
          4.90179211469534,
          6.089400921658987,
          5.84,
          6.775806451612904,
          7.036861313868613,
          5.839068502464729,
          4.902941176470588,
          4.2125,
          5.057647058823529,
          4.724099378881988,
          6.122972972972972,
          5.462162162162162,
          5.658230088495575,
          6.6581196581196584,
          4.753675675675676,
          5.763326446280991,
          4.894520547945206,
          5.664,
          5.2679245283018865,
          7.061505376344086,
          5.256521739130434,
          5.0636363636363635,
          6.044336569579288,
          4.555555555555555,
          5.556060606060606,
          8.273684210526318,
          5.210280373831775,
          6.307142857142857,
          5.031746031746032,
          5.451219512195122,
          5.363414634146341,
          5.759809640773718,
          6.909148212201741
         ]
        },
        {
         "hovertemplate": "<b>OLS trendline</b><br>y = 1.64536 * x + 0.439544<br>R<sup>2</sup>=0.464229<br><br>x=%{x}<br>y=%{y} <b>(trend)</b><extra></extra>",
         "legendgroup": "",
         "line": {
          "color": "DarkSlateGrey",
          "width": 2
         },
         "marker": {
          "color": "#636efa",
          "symbol": "circle"
         },
         "mode": "lines",
         "name": "",
         "showlegend": false,
         "type": "scatter",
         "visible": false,
         "x": [
          2.125,
          2.4722222222222223,
          2.668421052631579,
          2.730769230769231,
          2.744186046511628,
          2.7916666666666665,
          2.795863309352518,
          2.811320754716981,
          2.891304347826087,
          2.988095238095238,
          3.0634920634920637,
          3.072289156626506,
          3.080357142857143,
          3.1022364217252396,
          3.121559633027523,
          3.125,
          3.1333333333333333,
          3.1450617283950617,
          3.16,
          3.1818181818181817,
          3.1850393700787403,
          3.2332761578044598,
          3.2364963503649635,
          3.240771812080537,
          3.2489754098360657,
          3.292517006802721,
          3.392210144927536,
          3.4345794392523366,
          3.526086956521739,
          3.53421120578363,
          3.5557065217391304,
          3.5796432964329643,
          3.6292735042735043,
          3.664473684210526,
          3.721800555849656,
          3.7225362872421695,
          3.7692917988976116,
          3.778225806451613,
          3.7928571428571427,
          3.909101711026616
         ],
         "xaxis": "x",
         "y": [
          3.9359307643584223,
          4.507235814540595,
          4.830053236580373,
          4.932638344214704,
          4.95471381663677,
          5.032836460708192,
          5.039741442609675,
          5.065174482416618,
          5.196776170760468,
          5.356031889096964,
          5.480086699993665,
          5.4945610723493985,
          5.507835802431084,
          5.543835060864745,
          5.575628671688611,
          5.581289308883077,
          5.5950006300874495,
          5.6142980451158255,
          5.63887685794144,
          5.674775589821978,
          5.680075599450011,
          5.7594424102949455,
          5.764740781639385,
          5.771775449104892,
          5.7852733087677946,
          5.856914847379129,
          6.02094580402327,
          6.090658484466061,
          6.2412211598935095,
          6.254588462834411,
          6.2899559646090495,
          6.329340541379911,
          6.411000027916878,
          6.468916944745063,
          6.563240202827373,
          6.56445074476052,
          6.641380325366423,
          6.656079971032248,
          6.680153765404901,
          6.871417758897122
         ],
         "yaxis": "y"
        },
        {
         "mode": "markers+text",
         "text": [
          "Australia",
          "Austria",
          "Belgium",
          "Brazil",
          "Canada",
          "China",
          "Costa Rica",
          "Czechia",
          "Denmark",
          "Estonia",
          "Finland",
          "France",
          "Germany",
          "Greece",
          "Iceland",
          "India",
          "Ireland",
          "Italy",
          "Jamaica",
          "Japan",
          "Lithuania",
          "Mexico",
          "Netherlands",
          "New Zealand",
          "Norway",
          "Philippines",
          "Poland",
          "Portugal",
          "Romania",
          "Russia",
          "South Korea",
          "Spain",
          "Sri Lanka",
          "Sweden",
          "Switzerland",
          "Thailand",
          "Turkey",
          "Ukraine",
          "United Kingdom",
          "United States of America"
         ],
         "textposition": "top center",
         "type": "scatter",
         "visible": false,
         "x": [
          3.2732438016528924,
          3.6243169398907105,
          3.91501505877781,
          3.384259259259259,
          3.5431650246305417,
          2.7210884353741496,
          3.25,
          3.5405643738977073,
          3.620550161812298,
          3.1,
          3.838709677419355,
          3.4482456140350877,
          3.7385328696804105,
          2.6923076923076925,
          2.611111111111111,
          2.775,
          3.6033857315598548,
          3.1666666666666665,
          3.092436974789916,
          3.3682572614107884,
          3,
          2.7589285714285716,
          3.2659629248197732,
          3.1903225806451614,
          3.9471649484536084,
          2.79,
          3.5155502392344498,
          2.7,
          3,
          3.199570815450644,
          2.4761904761904763,
          2.876543209876543,
          3.8063063063063063,
          3.6233766233766236,
          3.7261904761904763,
          2.78125,
          2.9193548387096775,
          3.0704225352112675,
          3.7052812950793395,
          3.7258780584056828
         ],
         "y": [
          5.300948366701792,
          8.723033707865168,
          7.748467679127725,
          5.557476635514019,
          6.532665505226481,
          4.899305555555555,
          4.6812499999999995,
          4.893454545454546,
          6.912012987012988,
          6.0600000000000005,
          6.962365591397849,
          6.812903225806451,
          5.8843087790111,
          4.837837837837838,
          4.65,
          4.99125,
          4.720606060606061,
          6.341399416909621,
          5.322222222222223,
          5.855296610169491,
          6.689423076923077,
          4.680143112701252,
          6.053471502590674,
          5.174025974025974,
          8.012886597938145,
          5.2860000000000005,
          6.95,
          5.2299999999999995,
          5.15625,
          6.130042918454936,
          4.571428571428571,
          5.4037037037037035,
          8.297297297297298,
          5.455844155844156,
          7.490361445783133,
          5.015625,
          5.34,
          5.71,
          5.879242253973351,
          7.009973627922805
         ]
        },
        {
         "hovertemplate": "<b>OLS trendline</b><br>y = 1.90276 * x + -0.271743<br>R<sup>2</sup>=0.511781<br><br>x=%{x}<br>y=%{y} <b>(trend)</b><extra></extra>",
         "legendgroup": "",
         "line": {
          "color": "DarkSlateGrey",
          "width": 2
         },
         "marker": {
          "color": "#636efa",
          "symbol": "circle"
         },
         "mode": "lines",
         "name": "",
         "showlegend": false,
         "type": "scatter",
         "visible": false,
         "x": [
          2.4761904761904763,
          2.611111111111111,
          2.6923076923076925,
          2.7,
          2.7210884353741496,
          2.7589285714285716,
          2.775,
          2.78125,
          2.79,
          2.876543209876543,
          2.9193548387096775,
          3,
          3,
          3.0704225352112675,
          3.092436974789916,
          3.1,
          3.1666666666666665,
          3.1903225806451614,
          3.199570815450644,
          3.25,
          3.2659629248197732,
          3.2732438016528924,
          3.3682572614107884,
          3.384259259259259,
          3.4482456140350877,
          3.5155502392344498,
          3.5405643738977073,
          3.5431650246305417,
          3.6033857315598548,
          3.620550161812298,
          3.6233766233766236,
          3.6243169398907105,
          3.7052812950793395,
          3.7258780584056828,
          3.7261904761904763,
          3.7385328696804105,
          3.8063063063063063,
          3.838709677419355,
          3.91501505877781,
          3.9471649484536084
         ],
         "xaxis": "x",
         "y": [
          4.439864576163796,
          4.696586763939768,
          4.851084732148836,
          4.865721381768644,
          4.90584770691682,
          4.977848572606089,
          5.008428715561756,
          5.020320993377849,
          5.036970182320379,
          5.201641525512104,
          5.283101970926996,
          5.436550716941097,
          5.436550716941097,
          5.570548213460452,
          5.612436506490033,
          5.62682716199858,
          5.753678125370238,
          5.798689757534374,
          5.816286969952815,
          5.912241829584808,
          5.942615515459071,
          5.956469309066144,
          6.137257542619592,
          6.167705575263838,
          6.289456536453155,
          6.4175213846417645,
          6.465117390840902,
          6.470065816603702,
          6.584651636937284,
          6.617311504636005,
          6.6226895952215195,
          6.624478796056813,
          6.778534892873452,
          6.817725681927721,
          6.818320139382353,
          6.841804806950007,
          6.970761692855049,
          7.032417675487741,
          7.177608842524167,
          7.2387825096891785
         ],
         "yaxis": "y"
        },
        {
         "mode": "markers+text",
         "text": [
          "Australia",
          "Austria",
          "Belgium",
          "Brazil",
          "Canada",
          "China",
          "Costa Rica",
          "Czechia",
          "Denmark",
          "Estonia",
          "Finland",
          "France",
          "Germany",
          "Greece",
          "Iceland",
          "India",
          "Ireland",
          "Italy",
          "Jamaica",
          "Japan",
          "Lithuania",
          "Mexico",
          "Netherlands",
          "New Zealand",
          "Norway",
          "Philippines",
          "Poland",
          "Portugal",
          "Romania",
          "Russia",
          "South Korea",
          "Spain",
          "Sri Lanka",
          "Sweden",
          "Switzerland",
          "Thailand",
          "Turkey",
          "Ukraine",
          "United Kingdom",
          "United States of America"
         ],
         "textposition": "top center",
         "type": "scatter",
         "visible": false,
         "x": [
          3.330920372285419,
          3.6974248927038627,
          3.9562153824581086,
          3.4237288135593222,
          3.66132658797077,
          2.8551401869158877,
          2.8285714285714287,
          3.5380710659898478,
          3.76313446126447,
          2.888888888888889,
          3.7,
          3.455571227080395,
          3.7753734882617973,
          2.830357142857143,
          2.8666666666666667,
          2.760330578512397,
          3.5979697828139754,
          3.4310661764705883,
          3.1258503401360542,
          3.465507075471698,
          3.017605633802817,
          2.8594913151364763,
          3.350722311396469,
          3.2154471544715446,
          3.964939024390244,
          2.9047619047619047,
          3.4785714285714286,
          2.9545454545454546,
          2.4838709677419355,
          3.214765100671141,
          2.9464285714285716,
          2.967479674796748,
          3.9220779220779223,
          3.680306905370844,
          3.647887323943662,
          2.913978494623656,
          3.0526315789473686,
          3.1875,
          3.7824085516559567,
          3.757036797697115
         ],
         "y": [
          5.320908130939809,
          9.491576673866092,
          7.79117469456537,
          5.511965811965812,
          6.756813856109631,
          4.908823529411765,
          4.757142857142857,
          4.8257391304347825,
          8.467914438502675,
          5.4,
          6.842727272727273,
          6.710171919770773,
          5.900462295869357,
          4.898,
          4.9366666666666665,
          5.0793103448275865,
          4.778409090909091,
          6.497402597402597,
          5.2115646258503405,
          5.983495145631068,
          7.092198581560283,
          4.7681647940074905,
          6.292367149758454,
          5.379674796747968,
          8.189465648854963,
          5.161904761904762,
          7.05,
          5.536363636363636,
          5.2733333333333325,
          5.870469798657719,
          4.748148148148148,
          5.331707317073171,
          8.566233766233767,
          6.203324808184143,
          7.785611510791367,
          4.964444444444444,
          5.25531914893617,
          5.53125,
          6.010122509590397,
          7.135613379504548
         ]
        },
        {
         "hovertemplate": "<b>OLS trendline</b><br>y = 2.25153 * x + -1.38897<br>R<sup>2</sup>=0.522895<br><br>x=%{x}<br>y=%{y} <b>(trend)</b><extra></extra>",
         "legendgroup": "",
         "line": {
          "color": "DarkSlateGrey",
          "width": 2
         },
         "marker": {
          "color": "#636efa",
          "symbol": "circle"
         },
         "mode": "lines",
         "name": "",
         "showlegend": false,
         "type": "scatter",
         "visible": false,
         "x": [
          2.4838709677419355,
          2.760330578512397,
          2.8285714285714287,
          2.830357142857143,
          2.8551401869158877,
          2.8594913151364763,
          2.8666666666666667,
          2.888888888888889,
          2.9047619047619047,
          2.913978494623656,
          2.9464285714285716,
          2.9545454545454546,
          2.967479674796748,
          3.017605633802817,
          3.0526315789473686,
          3.1258503401360542,
          3.1875,
          3.214765100671141,
          3.2154471544715446,
          3.330920372285419,
          3.350722311396469,
          3.4237288135593222,
          3.4310661764705883,
          3.455571227080395,
          3.465507075471698,
          3.4785714285714286,
          3.5380710659898478,
          3.5979697828139754,
          3.647887323943662,
          3.66132658797077,
          3.680306905370844,
          3.6974248927038627,
          3.7,
          3.757036797697115,
          3.76313446126447,
          3.7753734882617973,
          3.7824085516559567,
          3.9220779220779223,
          3.9562153824581086,
          3.964939024390244
         ],
         "xaxis": "x",
         "y": [
          4.203533757442678,
          4.825990048161103,
          4.979636167696752,
          4.983656751707091,
          5.039456445682374,
          5.049253128550733,
          5.065408626584011,
          5.115442560934913,
          5.15118108547127,
          5.171932486814962,
          5.24499471237921,
          5.263270094244394,
          5.292391840956393,
          5.405251793354745,
          5.484113656152081,
          5.648967677227686,
          5.787773553775148,
          5.849161665342425,
          5.850697327920718,
          6.110688400893121,
          6.155273002360747,
          6.319649116498979,
          6.336169387538474,
          6.391343171744921,
          6.413714003120814,
          6.443128747460616,
          6.577093790322918,
          6.711957371260592,
          6.824348065173444,
          6.854606931605998,
          6.897341629569953,
          6.935883241019745,
          6.9416811647428105,
          7.07010105736315,
          7.083830111801182,
          7.111386612099825,
          7.127226247600625,
          7.441695612574222,
          7.518557027894815,
          7.5381985436428085
         ],
         "yaxis": "y"
        },
        {
         "mode": "markers+text",
         "text": [
          "Australia",
          "Austria",
          "Belgium",
          "Brazil",
          "Canada",
          "China",
          "Costa Rica",
          "Czechia",
          "Denmark",
          "Estonia",
          "Finland",
          "France",
          "Germany",
          "Greece",
          "Iceland",
          "India",
          "Ireland",
          "Italy",
          "Jamaica",
          "Japan",
          "Lithuania",
          "Mexico",
          "Netherlands",
          "New Zealand",
          "Norway",
          "Philippines",
          "Poland",
          "Portugal",
          "Romania",
          "Russia",
          "South Korea",
          "Spain",
          "Sri Lanka",
          "Sweden",
          "Switzerland",
          "Thailand",
          "Turkey",
          "Ukraine",
          "United Kingdom",
          "United States of America"
         ],
         "textposition": "top center",
         "type": "scatter",
         "visible": false,
         "x": [
          3.319406548431105,
          3.71210407239819,
          3.964020014484166,
          3.3333333333333335,
          3.6661141445657828,
          2.882911392405063,
          2.8157894736842106,
          3.5092905405405403,
          3.8271337946943484,
          2.875,
          3.729357798165138,
          3.4639455782312925,
          3.8335009465215335,
          2.963235294117647,
          3.323529411764706,
          2.819672131147541,
          3.478730822873082,
          3.4036334913112163,
          3.1631944444444446,
          3.434603501544799,
          3.0304347826086957,
          2.829171396140749,
          3.387321144674086,
          3.5120481927710845,
          3.9780426599749057,
          2.830357142857143,
          3.457729468599034,
          3.1951219512195124,
          2.84375,
          3.25,
          2.287878787878788,
          3.107594936708861,
          3.7094972067039107,
          3.5920454545454548,
          3.7782805429864252,
          2.984536082474227,
          3.046153846153846,
          2.977777777777778,
          3.7199953660797034,
          3.800003001290555
         ],
         "y": [
          5.3410489510489505,
          8.623325635103926,
          7.795198179779727,
          5.390281124497992,
          6.704134349940844,
          4.801298701298701,
          4.7631578947368425,
          4.987521663778163,
          8.35534910559723,
          5.36875,
          6.893396226415095,
          6.660192837465565,
          5.946115288220551,
          4.908823529411765,
          5.5058823529411764,
          5.284297520661156,
          4.7858444288717585,
          6.568670886075949,
          5.541666666666667,
          5.9279241306638575,
          7.148695652173913,
          4.76322505800464,
          6.538718152866242,
          5.2997538461538465,
          9.048050314465408,
          5.505357142857143,
          7.091525423728814,
          5.226829268292684,
          5.36,
          5.826174496644295,
          4.587878787878788,
          5.222435897435898,
          8.576536312849163,
          6.1025,
          8.267363636363637,
          4.938144329896907,
          5.367741935483871,
          5.34,
          6.15696231884058,
          7.340785919735332
         ]
        },
        {
         "hovertemplate": "<b>OLS trendline</b><br>y = 2.32074 * x + -1.61043<br>R<sup>2</sup>=0.547335<br><br>x=%{x}<br>y=%{y} <b>(trend)</b><extra></extra>",
         "legendgroup": "",
         "line": {
          "color": "DarkSlateGrey",
          "width": 2
         },
         "marker": {
          "color": "#636efa",
          "symbol": "circle"
         },
         "mode": "lines",
         "name": "",
         "showlegend": false,
         "type": "scatter",
         "visible": false,
         "x": [
          2.287878787878788,
          2.8157894736842106,
          2.819672131147541,
          2.829171396140749,
          2.830357142857143,
          2.84375,
          2.875,
          2.882911392405063,
          2.963235294117647,
          2.977777777777778,
          2.984536082474227,
          3.0304347826086957,
          3.046153846153846,
          3.107594936708861,
          3.1631944444444446,
          3.1951219512195124,
          3.25,
          3.319406548431105,
          3.323529411764706,
          3.3333333333333335,
          3.387321144674086,
          3.4036334913112163,
          3.434603501544799,
          3.457729468599034,
          3.4639455782312925,
          3.478730822873082,
          3.5092905405405403,
          3.5120481927710845,
          3.5920454545454548,
          3.6661141445657828,
          3.7094972067039107,
          3.71210407239819,
          3.7199953660797034,
          3.729357798165138,
          3.7782805429864252,
          3.800003001290555,
          3.8271337946943484,
          3.8335009465215335,
          3.964020014484166,
          3.9780426599749057
         ],
         "xaxis": "x",
         "y": [
          3.6991489268098574,
          4.924293431856343,
          4.933304078134358,
          4.955349421449683,
          4.958101233665324,
          4.989182599844549,
          5.061705787596074,
          5.080066088292662,
          5.266477141247437,
          5.300226493978865,
          5.3159107755911075,
          5.422429817108004,
          5.458909708204422,
          5.601498628075774,
          5.730530741304577,
          5.804626247489739,
          5.931984040614366,
          6.093058733192104,
          6.102626835323836,
          6.125379207951765,
          6.250670989652862,
          6.288527737743504,
          6.36040114148228,
          6.4140705447017945,
          6.428496531452013,
          6.462809269791493,
          6.533730490336475,
          6.540130289711487,
          6.725783295640144,
          6.897677616051461,
          6.998358510793206,
          7.004408373519262,
          7.022722030263799,
          7.044449819701971,
          7.157986888757784,
          7.208399110262266,
          7.271362682226141,
          7.286139198943116,
          7.589040282815369,
          7.621583225269705
         ],
         "yaxis": "y"
        },
        {
         "mode": "markers+text",
         "text": [
          "Australia",
          "Austria",
          "Belgium",
          "Brazil",
          "Canada",
          "China",
          "Costa Rica",
          "Czechia",
          "Denmark",
          "Estonia",
          "Finland",
          "France",
          "Germany",
          "Greece",
          "Iceland",
          "India",
          "Ireland",
          "Italy",
          "Jamaica",
          "Japan",
          "Lithuania",
          "Mexico",
          "Netherlands",
          "New Zealand",
          "Norway",
          "Philippines",
          "Poland",
          "Portugal",
          "Romania",
          "Russia",
          "South Korea",
          "Spain",
          "Sri Lanka",
          "Sweden",
          "Switzerland",
          "Thailand",
          "Turkey",
          "Ukraine",
          "United Kingdom",
          "United States of America"
         ],
         "textposition": "top center",
         "type": "scatter",
         "visible": false,
         "x": [
          3.337647928994083,
          3.6417785234899327,
          3.9643155258764606,
          3.3633004926108376,
          3.6714986376021796,
          3.00381679389313,
          2.638888888888889,
          3.5451482479784366,
          3.848072952512044,
          2.9,
          3.532258064516129,
          3.4497699386503067,
          3.8137166546503245,
          3.0120481927710845,
          3.515873015873016,
          2.8,
          3.593103448275862,
          3.5282758620689654,
          3.1457286432160805,
          3.4475524475524475,
          3.0816666666666666,
          2.9323467230443976,
          3.4746290801186945,
          3.5681293302540418,
          3.9632486388384756,
          3.1222222222222222,
          3.3214285714285716,
          2.9078947368421053,
          2.75,
          3.1942567567567566,
          2.421875,
          3.203862660944206,
          3.7595419847328246,
          3.5314787701317716,
          3.5943396226415096,
          2.9375,
          2.8785714285714286,
          3.0064935064935066,
          3.7472284434490484,
          3.8160356169193275
         ],
         "y": [
          5.458022813688213,
          7.895762711864407,
          7.6256772109601245,
          5.613197969543147,
          6.713908260917391,
          4.832539682539682,
          4.705555555555555,
          5.1843055555555555,
          8.404987951807229,
          5.444444444444445,
          6.693548387096774,
          6.726964560862866,
          5.885072921730676,
          4.888888888888889,
          6.607142857142857,
          5.1771186440677965,
          5.143634969325153,
          6.772337482710927,
          5.212060301507538,
          6.151012145748988,
          7.213333333333333,
          4.825986842105263,
          6.955501483679526,
          5.733429256594724,
          9.11442831215971,
          5.295555555555556,
          6.979138321995466,
          5.3,
          5.127272727272727,
          5.634013605442177,
          4.621875,
          5.223376623376623,
          8.708396946564887,
          6.046187683284457,
          8.147772511848341,
          4.97375,
          5.53134328358209,
          4.940579710144927,
          6.6880502017032715,
          7.4879079745837585
         ]
        },
        {
         "hovertemplate": "<b>OLS trendline</b><br>y = 2.37665 * x + -1.75821<br>R<sup>2</sup>=0.575502<br><br>x=%{x}<br>y=%{y} <b>(trend)</b><extra></extra>",
         "legendgroup": "",
         "line": {
          "color": "DarkSlateGrey",
          "width": 2
         },
         "marker": {
          "color": "#636efa",
          "symbol": "circle"
         },
         "mode": "lines",
         "name": "",
         "showlegend": false,
         "type": "scatter",
         "visible": false,
         "x": [
          2.421875,
          2.638888888888889,
          2.75,
          2.8,
          2.8785714285714286,
          2.9,
          2.9078947368421053,
          2.9323467230443976,
          2.9375,
          3.00381679389313,
          3.0064935064935066,
          3.0120481927710845,
          3.0816666666666666,
          3.1222222222222222,
          3.1457286432160805,
          3.1942567567567566,
          3.203862660944206,
          3.3214285714285716,
          3.337647928994083,
          3.3633004926108376,
          3.4475524475524475,
          3.4497699386503067,
          3.4746290801186945,
          3.515873015873016,
          3.5282758620689654,
          3.5314787701317716,
          3.532258064516129,
          3.5451482479784366,
          3.5681293302540418,
          3.593103448275862,
          3.5943396226415096,
          3.6417785234899327,
          3.6714986376021796,
          3.7472284434490484,
          3.7595419847328246,
          3.8137166546503245,
          3.8160356169193275,
          3.848072952512044,
          3.9632486388384756,
          3.9643155258764606
         ],
         "xaxis": "x",
         "y": [
          3.997738476456207,
          4.513504247982796,
          4.777576323004411,
          4.896408756764136,
          5.0831454383865635,
          5.134073624283588,
          5.152836640140388,
          5.2109504207539405,
          5.223197949603383,
          5.380809669952639,
          5.387171275408201,
          5.400372813190927,
          5.565831466943927,
          5.662217774326816,
          5.7180842786404344,
          5.833418555396571,
          5.856248414857719,
          6.135661280258424,
          6.174208994929003,
          6.235176126264106,
          6.435413423358631,
          6.440683620638615,
          6.499765066275931,
          6.597787411546247,
          6.627264619526492,
          6.634876806730731,
          6.6367289156969,
          6.667364353145609,
          6.721982311890462,
          6.781337016401172,
          6.784274968569599,
          6.897020569423687,
          6.9676548392551885,
          7.147637981993888,
          7.1769029435729275,
          7.3056571010614535,
          7.311168459665907,
          7.387309950859099,
          7.661042093181432,
          7.663577708846842
         ],
         "yaxis": "y"
        },
        {
         "mode": "markers+text",
         "text": [
          "Australia",
          "Austria",
          "Belgium",
          "Brazil",
          "Canada",
          "China",
          "Costa Rica",
          "Czechia",
          "Denmark",
          "Estonia",
          "Finland",
          "France",
          "Germany",
          "Greece",
          "Iceland",
          "India",
          "Ireland",
          "Italy",
          "Jamaica",
          "Japan",
          "Lithuania",
          "Mexico",
          "Netherlands",
          "New Zealand",
          "Norway",
          "Philippines",
          "Poland",
          "Portugal",
          "Romania",
          "Russia",
          "South Korea",
          "Spain",
          "Sri Lanka",
          "Sweden",
          "Switzerland",
          "Thailand",
          "Turkey",
          "Ukraine",
          "United Kingdom",
          "United States of America"
         ],
         "textposition": "top center",
         "type": "scatter",
         "visible": false,
         "x": [
          3.3566602316602316,
          3.609608208955224,
          3.931815886481846,
          3.3351648351648353,
          3.644924284913068,
          2.7981927710843375,
          2.8181818181818183,
          3.524193548387097,
          3.7964558034453546,
          3.087719298245614,
          3.675,
          3.465258855585831,
          3.774979059471102,
          3.03125,
          3.707547169811321,
          2.841304347826087,
          3.51878078817734,
          3.511388286334056,
          3.111842105263158,
          3.456581352833638,
          3.125,
          2.92195242814668,
          3.482160194174757,
          3.569836552748886,
          3.783173076923077,
          2.8796296296296298,
          3.2875586854460095,
          3.017857142857143,
          2.730769230769231,
          3.0912576687116564,
          2.78125,
          3.0904017857142856,
          3.6422018348623855,
          3.540344827586207,
          3.562717770034843,
          2.9908256880733943,
          2.885204081632653,
          3.046218487394958,
          3.717712719083521,
          3.796970338534499
         ],
         "y": [
          5.607561188811189,
          8.106590257879656,
          7.698996749314807,
          5.431529051987767,
          6.76134422606362,
          4.76595744680851,
          4.476744186046512,
          4.944607390300231,
          8.8597678309977,
          5.825,
          6.694615384615385,
          6.749922651933702,
          5.875694591728526,
          4.997894736842105,
          6.692063492063492,
          5.325581395348837,
          5.097672644028997,
          6.7719641401793,
          5.139338235294118,
          5.948130841121495,
          8.132596685082873,
          4.792872454448017,
          6.862620087336245,
          6.417562582345192,
          9.419340659340659,
          5.291463414634146,
          6.908764940239044,
          5.318987341772152,
          7.782051282051282,
          5.4135135135135135,
          4.521428571428571,
          5.159934853420195,
          8.745945945945946,
          6.5323353293413176,
          8.409465648854962,
          4.985987261146496,
          5.244827586206896,
          4.473404255319149,
          6.424359157955034,
          7.593646924045079
         ]
        },
        {
         "hovertemplate": "<b>OLS trendline</b><br>y = 2.42671 * x + -1.81011<br>R<sup>2</sup>=0.402366<br><br>x=%{x}<br>y=%{y} <b>(trend)</b><extra></extra>",
         "legendgroup": "",
         "line": {
          "color": "DarkSlateGrey",
          "width": 2
         },
         "marker": {
          "color": "#636efa",
          "symbol": "circle"
         },
         "mode": "lines",
         "name": "",
         "showlegend": false,
         "type": "scatter",
         "visible": false,
         "x": [
          2.730769230769231,
          2.78125,
          2.7981927710843375,
          2.8181818181818183,
          2.841304347826087,
          2.8796296296296298,
          2.885204081632653,
          2.92195242814668,
          2.9908256880733943,
          3.017857142857143,
          3.03125,
          3.046218487394958,
          3.087719298245614,
          3.0904017857142856,
          3.0912576687116564,
          3.111842105263158,
          3.125,
          3.2875586854460095,
          3.3351648351648353,
          3.3566602316602316,
          3.456581352833638,
          3.465258855585831,
          3.482160194174757,
          3.511388286334056,
          3.51878078817734,
          3.524193548387097,
          3.540344827586207,
          3.562717770034843,
          3.569836552748886,
          3.609608208955224,
          3.6422018348623855,
          3.644924284913068,
          3.675,
          3.707547169811321,
          3.717712719083521,
          3.774979059471102,
          3.783173076923077,
          3.7964558034453546,
          3.796970338534499,
          3.931815886481846
         ],
         "xaxis": "x",
         "y": [
          4.816673448287139,
          4.939175603030369,
          4.980290784054345,
          5.02879839156546,
          5.084910050474386,
          5.177914370210739,
          5.191441945013755,
          5.280619501136954,
          5.447754885042127,
          5.5133523691397945,
          5.545852940806366,
          5.582177109139592,
          5.682887514909277,
          5.689397132333722,
          5.691474111606893,
          5.741426556273629,
          5.773356942472365,
          6.1678396245473674,
          6.283365913240099,
          6.335528992921165,
          6.578008512045465,
          6.599066289118443,
          6.640080925518364,
          6.711009010076263,
          6.728948463427414,
          6.742083659243716,
          6.781278119508486,
          6.835570748160303,
          6.852845964740948,
          6.949360214765762,
          7.028455471541055,
          7.03506206653696,
          7.108047085579558,
          7.1870296069126605,
          7.211698440390616,
          7.350667204112663,
          7.3705517028864795,
          7.402785019546248,
          7.404033646658546,
          7.731264598817114
         ],
         "yaxis": "y"
        },
        {
         "mode": "markers+text",
         "text": [
          "Australia",
          "Austria",
          "Belgium",
          "Brazil",
          "Canada",
          "China",
          "Costa Rica",
          "Czechia",
          "Denmark",
          "Estonia",
          "Finland",
          "France",
          "Germany",
          "Greece",
          "Iceland",
          "India",
          "Ireland",
          "Italy",
          "Jamaica",
          "Japan",
          "Lithuania",
          "Mexico",
          "Netherlands",
          "New Zealand",
          "Norway",
          "Philippines",
          "Poland",
          "Portugal",
          "Romania",
          "Russia",
          "South Korea",
          "Spain",
          "Sri Lanka",
          "Sweden",
          "Switzerland",
          "Thailand",
          "Turkey",
          "Ukraine",
          "United Kingdom",
          "United States of America"
         ],
         "textposition": "top center",
         "type": "scatter",
         "visible": false,
         "x": [
          3.296470207253886,
          3.688799076212471,
          3.9633777708882345,
          3.455020920502092,
          3.699797600115657,
          2.7972972972972974,
          2.9074074074074074,
          3.5134680134680134,
          3.7946305248618786,
          3.128205128205128,
          3.6677215189873418,
          3.4837443946188342,
          3.791327793493635,
          3.0789473684210527,
          3.8155737704918034,
          2.7615384615384615,
          3.5485347985347984,
          3.5471938775510203,
          3.0778688524590163,
          3.577900912646675,
          2.8726415094339623,
          2.920302013422819,
          3.4658558030480657,
          3.6824162679425836,
          3.7796296296296297,
          2.9722222222222223,
          3.404564315352697,
          2.9345238095238093,
          2.698529411764706,
          3.0665983606557377,
          2.6944444444444446,
          3.325354609929078,
          3.411764705882353,
          3.552559414990859,
          3.5159010600706715,
          3.1551724137931036,
          3.2,
          2.929054054054054,
          3.714020294411891,
          3.8196365584407768
         ],
         "y": [
          5.635991379310345,
          7.962561094819159,
          7.653958418355779,
          5.430769230769231,
          6.823980978260869,
          4.7623376623376625,
          4.711111111111111,
          4.879534883720931,
          8.680246385364415,
          5.577064220183486,
          6.391964285714285,
          6.760052219321149,
          5.811404284080274,
          4.915625,
          7.673478260869565,
          5.0891213389121335,
          4.939099859353024,
          6.684043538675313,
          5.043784277879342,
          5.912235510579577,
          7.731578947368422,
          4.70202537593985,
          6.359710904480136,
          6.857075812274368,
          8.671969211032714,
          5.672023809523809,
          6.943988684582743,
          5.248571428571429,
          7.970666666666666,
          5.588235294117647,
          4.608771929824561,
          5.370199692780338,
          8.571428571428573,
          6.341962843295638,
          8.559899833055091,
          5.004081632653061,
          5.461344537815126,
          4.984782608695652,
          6.206902715709866,
          7.380660429367747
         ]
        },
        {
         "hovertemplate": "<b>OLS trendline</b><br>y = 1.88798 * x + -0.0716908<br>R<sup>2</sup>=0.291405<br><br>x=%{x}<br>y=%{y} <b>(trend)</b><extra></extra>",
         "legendgroup": "",
         "line": {
          "color": "DarkSlateGrey",
          "width": 2
         },
         "marker": {
          "color": "#636efa",
          "symbol": "circle"
         },
         "mode": "lines",
         "name": "",
         "showlegend": false,
         "type": "scatter",
         "visible": false,
         "x": [
          2.6944444444444446,
          2.698529411764706,
          2.7615384615384615,
          2.7972972972972974,
          2.8726415094339623,
          2.9074074074074074,
          2.920302013422819,
          2.929054054054054,
          2.9345238095238093,
          2.9722222222222223,
          3.0665983606557377,
          3.0778688524590163,
          3.0789473684210527,
          3.128205128205128,
          3.1551724137931036,
          3.2,
          3.296470207253886,
          3.325354609929078,
          3.404564315352697,
          3.411764705882353,
          3.455020920502092,
          3.4658558030480657,
          3.4837443946188342,
          3.5134680134680134,
          3.5159010600706715,
          3.5471938775510203,
          3.5485347985347984,
          3.552559414990859,
          3.577900912646675,
          3.6677215189873418,
          3.6824162679425836,
          3.688799076212471,
          3.699797600115657,
          3.714020294411891,
          3.7796296296296297,
          3.791327793493635,
          3.7946305248618786,
          3.8155737704918034,
          3.8196365584407768,
          3.9633777708882345
         ],
         "xaxis": "x",
         "y": [
          5.015367232588582,
          5.023079570343768,
          5.142039413933757,
          5.209551390770504,
          5.351799777682727,
          5.417437107558938,
          5.441781869466247,
          5.458305549609391,
          5.468632340086219,
          5.5398061999412205,
          5.717986488439309,
          5.739264954737634,
          5.741301171608287,
          5.834298850839241,
          5.885212554301062,
          5.969846153170385,
          6.1519800023114675,
          6.206513185033139,
          6.35605954705315,
          6.36965374239922,
          6.451320622695556,
          6.471776667305228,
          6.505549975471989,
          6.561667581782878,
          6.566261125795026,
          6.625341348180841,
          6.627872980558564,
          6.6354713770721085,
          6.6833156249745365,
          6.85289515870517,
          6.880638554988506,
          6.892689171148836,
          6.913454167414321,
          6.940306333809202,
          7.064175465046225,
          7.086261367762565,
          7.092496859464101,
          7.1320372942643155,
          7.139707757803832,
          7.411088332682891
         ],
         "yaxis": "y"
        },
        {
         "mode": "markers+text",
         "text": [
          "Australia",
          "Austria",
          "Belgium",
          "Brazil",
          "Canada",
          "China",
          "Costa Rica",
          "Czechia",
          "Denmark",
          "Estonia",
          "Finland",
          "France",
          "Germany",
          "Greece",
          "Iceland",
          "India",
          "Ireland",
          "Italy",
          "Jamaica",
          "Japan",
          "Lithuania",
          "Mexico",
          "Netherlands",
          "New Zealand",
          "Norway",
          "Philippines",
          "Poland",
          "Portugal",
          "Romania",
          "Russia",
          "South Korea",
          "Spain",
          "Sri Lanka",
          "Sweden",
          "Switzerland",
          "Thailand",
          "Turkey",
          "Ukraine",
          "United Kingdom",
          "United States of America"
         ],
         "textposition": "top center",
         "type": "scatter",
         "visible": false,
         "x": [
          3.3445393759286777,
          3.6596153846153845,
          3.998863973130495,
          3.5,
          3.7374048037492678,
          3.192105263157895,
          3.014705882352941,
          3.608626198083067,
          3.8462239583333333,
          3.1574074074074074,
          3.6857142857142855,
          3.5735677083333335,
          3.860214471403813,
          3.015151515151515,
          3.8411764705882354,
          3.0773809523809526,
          3.583575581395349,
          3.55,
          3.4293478260869565,
          3.5163690476190474,
          3.0673076923076925,
          3.0797764227642275,
          3.504083147735709,
          3.68188622754491,
          3.837918660287081,
          2.888157894736842,
          3.3145933014354068,
          3.25,
          2.7416666666666667,
          3.0307971014492754,
          2.6875,
          3.368838028169014,
          3.775,
          3.6174768518518516,
          3.6984304932735426,
          3.0303030303030303,
          3.024193548387097,
          2.9833333333333334,
          3.7118020728853227,
          3.8764468340256935
         ],
         "y": [
          5.657117331745086,
          7.2220658342792285,
          7.668704364491952,
          6.139562624254473,
          6.8844426365838665,
          4.84203354297694,
          4.6923076923076925,
          4.901031839622641,
          8.559558752997603,
          5.582857142857144,
          6.583435582822085,
          6.7766687857596954,
          5.843998305802627,
          4.901058201058201,
          7.4700564971751415,
          5.129347826086956,
          4.917924872355945,
          6.810957486136783,
          4.991773162939297,
          5.797887067395265,
          8.31433962264151,
          4.75123424684937,
          6.620773165741012,
          7.332600312662845,
          8.801003541912632,
          5.704624277456647,
          6.82673031026253,
          5.408391608391608,
          6.783064516129032,
          5.8580041580041575,
          4.626016260162602,
          5.820678336980307,
          8.586666666666668,
          7.036873811033608,
          7.932775423728813,
          4.989084507042254,
          5.34180790960452,
          4.795833333333333,
          6.210872907853595,
          7.587717373047422
         ]
        },
        {
         "hovertemplate": "<b>OLS trendline</b><br>y = 2.17968 * x + -1.16307<br>R<sup>2</sup>=0.387554<br><br>x=%{x}<br>y=%{y} <b>(trend)</b><extra></extra>",
         "legendgroup": "",
         "line": {
          "color": "DarkSlateGrey",
          "width": 2
         },
         "marker": {
          "color": "#636efa",
          "symbol": "circle"
         },
         "mode": "lines",
         "name": "",
         "showlegend": false,
         "type": "scatter",
         "visible": false,
         "x": [
          2.6875,
          2.7416666666666667,
          2.888157894736842,
          2.9833333333333334,
          3.014705882352941,
          3.015151515151515,
          3.024193548387097,
          3.0303030303030303,
          3.0307971014492754,
          3.0673076923076925,
          3.0773809523809526,
          3.0797764227642275,
          3.1574074074074074,
          3.192105263157895,
          3.25,
          3.3145933014354068,
          3.3445393759286777,
          3.368838028169014,
          3.4293478260869565,
          3.5,
          3.504083147735709,
          3.5163690476190474,
          3.55,
          3.5735677083333335,
          3.583575581395349,
          3.608626198083067,
          3.6174768518518516,
          3.6596153846153845,
          3.68188622754491,
          3.6857142857142855,
          3.6984304932735426,
          3.7118020728853227,
          3.7374048037492678,
          3.775,
          3.837918660287081,
          3.8411764705882354,
          3.8462239583333333,
          3.860214471403813,
          3.8764468340256935,
          3.998863973130495
         ],
         "xaxis": "x",
         "y": [
          4.6948255443696345,
          4.812891586907543,
          5.1321957019493345,
          5.339647776692056,
          5.408029918976455,
          5.409001256224813,
          5.428710002328592,
          5.442026722668984,
          5.443103640053033,
          5.52268507340763,
          5.544641564834798,
          5.549862925601014,
          5.719073691172855,
          5.794703940643831,
          5.92089598610945,
          6.061688764108281,
          6.1269616472768815,
          6.1799249526742,
          6.311816996519246,
          6.465816182438257,
          6.474716141101385,
          6.501495481007405,
          6.574800221704018,
          6.626170302712099,
          6.647984271327248,
          6.702586619181764,
          6.721878219139061,
          6.81372676932511,
          6.86227009773137,
          6.870614042568228,
          6.898331315847219,
          6.92747709099633,
          6.983282871512069,
          7.0652283983999435,
          7.202370993265472,
          7.2094719797810995,
          7.220473891833203,
          7.250968744349629,
          7.286350113256811,
          7.553180399156808
         ],
         "yaxis": "y"
        },
        {
         "mode": "markers+text",
         "text": [
          "Australia",
          "Austria",
          "Belgium",
          "Brazil",
          "Canada",
          "China",
          "Costa Rica",
          "Czechia",
          "Denmark",
          "Estonia",
          "Finland",
          "France",
          "Germany",
          "Greece",
          "Iceland",
          "India",
          "Ireland",
          "Italy",
          "Jamaica",
          "Japan",
          "Lithuania",
          "Mexico",
          "Netherlands",
          "New Zealand",
          "Norway",
          "Philippines",
          "Poland",
          "Portugal",
          "Romania",
          "Russia",
          "South Korea",
          "Spain",
          "Sri Lanka",
          "Sweden",
          "Switzerland",
          "Thailand",
          "Turkey",
          "Ukraine",
          "United Kingdom",
          "United States of America"
         ],
         "textposition": "top center",
         "type": "scatter",
         "visible": false,
         "x": [
          3.3567467652495377,
          3.697089947089947,
          4.039390756302521,
          3.5403543307086616,
          3.728068766066838,
          2.776666666666667,
          2.9411764705882355,
          3.524214659685864,
          3.871802002224694,
          3.2023809523809526,
          3.5141509433962264,
          3.465217391304348,
          3.85992491787893,
          3.102777777777778,
          3.8096330275229358,
          2.683333333333333,
          3.6009146341463416,
          3.5723684210526314,
          3.1314102564102564,
          3.5208333333333335,
          3.1884057971014492,
          2.9613914373088686,
          3.522749042145594,
          3.6611226611226613,
          3.927287581699346,
          2.8513513513513513,
          3.352216748768473,
          2.846774193548387,
          2.69811320754717,
          3.1207865168539324,
          2.65,
          3.3472222222222223,
          3.6988636363636362,
          3.5794573643410854,
          3.8085106382978724,
          3.0585106382978724,
          2.8666666666666667,
          3.1,
          3.729262232415902,
          3.9277632287715036
         ],
         "y": [
          5.539573518472601,
          7.0655648926237165,
          7.466389878831076,
          6.278618316569613,
          6.7296848129126925,
          4.994782608695652,
          4.721717171717172,
          4.833159509202455,
          8.66051323516895,
          5.563809523809525,
          5.895225464190982,
          6.516627634660422,
          5.765256061277458,
          4.992682926829269,
          6.799860139860139,
          5.074931129476584,
          4.919152803019712,
          6.6871812237272295,
          5.010385572139303,
          5.693305744888023,
          8.22793017456359,
          4.750724489795918,
          6.627807438847314,
          7.0848069679849335,
          8.740267214799589,
          5.551970443349753,
          6.437413554633472,
          5.415354330708661,
          5.435609756097561,
          5.5073039742212675,
          4.73440366972477,
          5.875291948371236,
          8.613125,
          6.5906209704784535,
          7.784177310293012,
          4.98963133640553,
          5.27136929460581,
          5.096045197740113,
          6.153921437475297,
          7.537528340593181
         ]
        },
        {
         "hovertemplate": "<b>OLS trendline</b><br>y = 2.09692 * x + -0.927602<br>R<sup>2</sup>=0.501516<br><br>x=%{x}<br>y=%{y} <b>(trend)</b><extra></extra>",
         "legendgroup": "",
         "line": {
          "color": "DarkSlateGrey",
          "width": 2
         },
         "marker": {
          "color": "#636efa",
          "symbol": "circle"
         },
         "mode": "lines",
         "name": "",
         "showlegend": false,
         "type": "scatter",
         "visible": false,
         "x": [
          2.65,
          2.683333333333333,
          2.69811320754717,
          2.776666666666667,
          2.846774193548387,
          2.8513513513513513,
          2.8666666666666667,
          2.9411764705882355,
          2.9613914373088686,
          3.0585106382978724,
          3.1,
          3.102777777777778,
          3.1207865168539324,
          3.1314102564102564,
          3.1884057971014492,
          3.2023809523809526,
          3.3472222222222223,
          3.352216748768473,
          3.3567467652495377,
          3.465217391304348,
          3.5141509433962264,
          3.5208333333333335,
          3.522749042145594,
          3.524214659685864,
          3.5403543307086616,
          3.5723684210526314,
          3.5794573643410854,
          3.6009146341463416,
          3.6611226611226613,
          3.697089947089947,
          3.6988636363636362,
          3.728068766066838,
          3.729262232415902,
          3.8085106382978724,
          3.8096330275229358,
          3.85992491787893,
          3.871802002224694,
          3.927287581699346,
          3.9277632287715036,
          4.039390756302521
         ],
         "xaxis": "x",
         "y": [
          4.629231682374748,
          4.69912896618534,
          4.730121158063621,
          4.894841360854995,
          5.041851131966304,
          5.051449058906293,
          5.083564027143591,
          5.239805014484915,
          5.282194152467726,
          5.485845203117314,
          5.572845013817732,
          5.578669787468614,
          5.61643264585692,
          5.638709762023867,
          5.758224766532779,
          5.787529528378835,
          6.091249868746285,
          6.101722983931369,
          6.111222059360678,
          6.338676123394647,
          6.441285794747438,
          6.455298221926448,
          6.459315307202919,
          6.462388587758021,
          6.496232162740721,
          6.563363101502034,
          6.578228037930542,
          6.623222184251894,
          6.74947351072908,
          6.824893978583642,
          6.828613260460289,
          6.889854037647984,
          6.892356639331551,
          7.058534088855621,
          7.060887647601929,
          7.16634564360945,
          7.191250921670196,
          7.307599660548243,
          7.308597053700131,
          7.542670882887435
         ],
         "yaxis": "y"
        },
        {
         "mode": "markers+text",
         "text": [
          "Australia",
          "Austria",
          "Belgium",
          "Brazil",
          "Canada",
          "China",
          "Costa Rica",
          "Czechia",
          "Denmark",
          "Estonia",
          "Finland",
          "France",
          "Germany",
          "Greece",
          "Iceland",
          "India",
          "Ireland",
          "Italy",
          "Jamaica",
          "Japan",
          "Lithuania",
          "Mexico",
          "Netherlands",
          "New Zealand",
          "Norway",
          "Philippines",
          "Poland",
          "Portugal",
          "Romania",
          "Russia",
          "South Korea",
          "Spain",
          "Sri Lanka",
          "Sweden",
          "Switzerland",
          "Thailand",
          "Turkey",
          "Ukraine",
          "United Kingdom",
          "United States of America"
         ],
         "textposition": "top center",
         "type": "scatter",
         "visible": false,
         "x": [
          3.36098516075845,
          3.6852348993288593,
          4.053910971355574,
          3.4642184557438793,
          3.723640871579557,
          2.985474006116208,
          2.98828125,
          3.540744738262277,
          3.9045981584631124,
          3.5171875,
          3.25974025974026,
          3.4686609686609686,
          3.8416711736073554,
          3.1792091836734695,
          3.7055873925501435,
          2.8406113537117905,
          3.6216507720254314,
          3.5970961887477313,
          3.108356940509915,
          3.3420023464998043,
          3.0795454545454546,
          2.955439814814815,
          3.5224434389140273,
          3.7110564010743063,
          3.8990825688073394,
          2.7618343195266273,
          3.3953551912568307,
          2.9559859154929575,
          3.066872427983539,
          3.3445945945945947,
          2.6924083769633507,
          3.342432619212163,
          3.6931818181818183,
          3.747256226255804,
          3.8379237288135593,
          2.9020408163265308,
          2.9762773722627736,
          3.111111111111111,
          3.775801770079939,
          3.9495318360327323
         ],
         "y": [
          5.5236204013377925,
          6.978838174273859,
          7.451266884826416,
          6.4763653663177925,
          6.5846673776339495,
          5.12429906542056,
          5.003125,
          4.9694227597581095,
          8.699723171565276,
          6.835668789808918,
          5.776425438596491,
          6.396181556195965,
          5.770496955897639,
          5.14030612244898,
          6.465846599131693,
          5.1084070796460175,
          5.138276097339094,
          6.68863173216885,
          5.047308781869688,
          5.749318637274548,
          7.697500000000001,
          4.913102646118057,
          7.191535519125683,
          7.034652840396754,
          8.692470784641069,
          5.514457831325301,
          6.315511551155116,
          5.349285714285714,
          5.4257261410788375,
          6.071557562076749,
          4.792021276595745,
          6.019238900634249,
          8.437662337662339,
          6.802241962774958,
          7.395694143167028,
          4.982857142857143,
          5.36268656716418,
          4.770434782608696,
          6.158957646946474,
          7.538426663054874
         ]
        },
        {
         "hovertemplate": "<b>OLS trendline</b><br>y = 2.17922 * x + -1.21955<br>R<sup>2</sup>=0.530834<br><br>x=%{x}<br>y=%{y} <b>(trend)</b><extra></extra>",
         "legendgroup": "",
         "line": {
          "color": "DarkSlateGrey",
          "width": 2
         },
         "marker": {
          "color": "#636efa",
          "symbol": "circle"
         },
         "mode": "lines",
         "name": "",
         "showlegend": false,
         "type": "scatter",
         "visible": false,
         "x": [
          2.6924083769633507,
          2.7618343195266273,
          2.8406113537117905,
          2.9020408163265308,
          2.955439814814815,
          2.9559859154929575,
          2.9762773722627736,
          2.985474006116208,
          2.98828125,
          3.066872427983539,
          3.0795454545454546,
          3.108356940509915,
          3.111111111111111,
          3.1792091836734695,
          3.25974025974026,
          3.3420023464998043,
          3.342432619212163,
          3.3445945945945947,
          3.36098516075845,
          3.3953551912568307,
          3.4642184557438793,
          3.4686609686609686,
          3.5171875,
          3.5224434389140273,
          3.540744738262277,
          3.5970961887477313,
          3.6216507720254314,
          3.6852348993288593,
          3.6931818181818183,
          3.7055873925501435,
          3.7110564010743063,
          3.723640871579557,
          3.747256226255804,
          3.775801770079939,
          3.8379237288135593,
          3.8416711736073554,
          3.8990825688073394,
          3.9045981584631124,
          3.9495318360327323,
          4.053910971355574
         ],
         "xaxis": "x",
         "y": [
          4.647810905964119,
          4.79910554093587,
          4.9707782930967594,
          5.104646812265041,
          5.221015156515876,
          5.222205231863893,
          5.266424848216042,
          5.28646636742993,
          5.29258397884425,
          5.463851708831239,
          5.491469064201313,
          5.554255727097735,
          5.560257679975481,
          5.708658589638488,
          5.884153790820707,
          6.063421250919739,
          6.0643589112604,
          6.069070338491003,
          6.1047890429577185,
          6.1796890158818325,
          6.3297574496526146,
          6.339438677524108,
          6.445188827602266,
          6.456642692397934,
          6.496525311231356,
          6.6193277078074635,
          6.672837628979901,
          6.811401643744292,
          6.828719754851141,
          6.855754272156542,
          6.867672463221307,
          6.8950968351651145,
          6.946559967440415,
          7.008767083015494,
          7.144144705894249,
          7.152311225083203,
          7.277423477928512,
          7.289443179682847,
          7.387363698941737,
          7.614829147652689
         ],
         "yaxis": "y"
        },
        {
         "mode": "markers+text",
         "text": [
          "Australia",
          "Austria",
          "Belgium",
          "Brazil",
          "Canada",
          "China",
          "Costa Rica",
          "Czechia",
          "Denmark",
          "Estonia",
          "Finland",
          "France",
          "Germany",
          "Greece",
          "Iceland",
          "India",
          "Ireland",
          "Italy",
          "Jamaica",
          "Japan",
          "Lithuania",
          "Mexico",
          "Netherlands",
          "New Zealand",
          "Norway",
          "Philippines",
          "Poland",
          "Portugal",
          "Romania",
          "Russia",
          "South Korea",
          "Spain",
          "Sri Lanka",
          "Sweden",
          "Switzerland",
          "Thailand",
          "Turkey",
          "Ukraine",
          "United Kingdom",
          "United States of America"
         ],
         "textposition": "top center",
         "type": "scatter",
         "visible": false,
         "x": [
          3.3898154719659335,
          3.6651685393258426,
          4.032330211664383,
          3.5474732006125573,
          3.745468068226894,
          3.0084586466165413,
          3.125,
          3.598444613050076,
          3.893854748603352,
          3.8384146341463414,
          3.4213483146067416,
          3.477590460526316,
          3.808385048862258,
          3.308362369337979,
          3.715889464594128,
          2.8926282051282053,
          3.6243640474844545,
          3.5923736671302735,
          3.0974770642201834,
          3.4045194143857413,
          3.2157894736842105,
          3.046394686907021,
          3.5445544554455446,
          3.7390678941311855,
          3.870148401826484,
          3.0944148936170213,
          3.4644909688013135,
          3.2394957983193278,
          3.4077946768060836,
          3.503563596491228,
          3.001865671641791,
          3.4328635014836797,
          3.5866666666666664,
          3.8342645726366658,
          3.8812260536398466,
          2.967877094972067,
          3.030534351145038,
          3.2483552631578947,
          3.791145085163144,
          3.9678241953271542
         ],
         "y": [
          5.536113125453227,
          6.7943181818181815,
          7.444324675821444,
          6.471648690292759,
          6.426070423667498,
          5.190188679245283,
          5.03961038961039,
          5.059058365758755,
          7.811537922578385,
          8.22032786885246,
          5.705780346820809,
          6.410524534686971,
          5.721825573864863,
          5.464084507042253,
          6.448679577464788,
          5.563548387096774,
          5.202512923607123,
          6.55332865825152,
          5.318807339449541,
          5.79113475177305,
          7.0136206896551725,
          5.0033461243284725,
          7.394536852589641,
          6.695329411764706,
          8.638229166666667,
          5.817513812154696,
          6.311050454921423,
          6.173127753303964,
          5.8488416988416985,
          6.3592265193370165,
          5.042748091603054,
          6.398425435276305,
          8.338666666666668,
          7.063167927382754,
          7.48124031007752,
          5.032530120481928,
          5.2926229508196725,
          5.3154929577464785,
          6.1654844468859435,
          7.527125869632802
         ]
        },
        {
         "hovertemplate": "<b>OLS trendline</b><br>y = 2.28129 * x + -1.65352<br>R<sup>2</sup>=0.515237<br><br>x=%{x}<br>y=%{y} <b>(trend)</b><extra></extra>",
         "legendgroup": "",
         "line": {
          "color": "DarkSlateGrey",
          "width": 2
         },
         "marker": {
          "color": "#636efa",
          "symbol": "circle"
         },
         "mode": "lines",
         "name": "",
         "showlegend": false,
         "type": "scatter",
         "visible": false,
         "x": [
          2.8926282051282053,
          2.967877094972067,
          3.001865671641791,
          3.0084586466165413,
          3.030534351145038,
          3.046394686907021,
          3.0944148936170213,
          3.0974770642201834,
          3.125,
          3.2157894736842105,
          3.2394957983193278,
          3.2483552631578947,
          3.308362369337979,
          3.3898154719659335,
          3.4045194143857413,
          3.4077946768060836,
          3.4213483146067416,
          3.4328635014836797,
          3.4644909688013135,
          3.477590460526316,
          3.503563596491228,
          3.5445544554455446,
          3.5474732006125573,
          3.5866666666666664,
          3.5923736671302735,
          3.598444613050076,
          3.6243640474844545,
          3.6651685393258426,
          3.715889464594128,
          3.7390678941311855,
          3.745468068226894,
          3.791145085163144,
          3.808385048862258,
          3.8342645726366658,
          3.8384146341463414,
          3.870148401826484,
          3.8812260536398466,
          3.893854748603352,
          3.9678241953271542,
          4.032330211664383
         ],
         "xaxis": "x",
         "y": [
          4.945406858108292,
          5.117071539690776,
          5.194609403751715,
          5.209649904044412,
          5.260011029590008,
          5.296193084820609,
          5.4057411925933865,
          5.412726897533803,
          5.475514747516187,
          5.682632036865972,
          5.736713082824557,
          5.756924108045786,
          5.8938178322783275,
          6.079636134123662,
          6.11318011860956,
          6.120651948182777,
          6.151571752078383,
          6.177841254428438,
          6.249992738890303,
          6.279876503029959,
          6.339128807274802,
          6.4326409210719095,
          6.439299430729067,
          6.52871116669292,
          6.541730500525075,
          6.55558010017219,
          6.6147098955513375,
          6.7077968515665205,
          6.823506086663754,
          6.876382849820221,
          6.890983515032586,
          6.995186122994895,
          7.0345155122396115,
          7.093554259754136,
          7.1030217613888365,
          7.17541574800482,
          7.200687105165947,
          7.229496844475202,
          7.398242742853526,
          7.545399794308526
         ],
         "yaxis": "y"
        },
        {
         "mode": "markers+text",
         "text": [
          "Australia",
          "Austria",
          "Belgium",
          "Brazil",
          "Canada",
          "China",
          "Costa Rica",
          "Czechia",
          "Denmark",
          "Estonia",
          "Finland",
          "France",
          "Germany",
          "Greece",
          "Iceland",
          "India",
          "Ireland",
          "Italy",
          "Jamaica",
          "Japan",
          "Lithuania",
          "Mexico",
          "Netherlands",
          "New Zealand",
          "Norway",
          "Philippines",
          "Poland",
          "Portugal",
          "Romania",
          "Russia",
          "South Korea",
          "Spain",
          "Sri Lanka",
          "Sweden",
          "Switzerland",
          "Thailand",
          "Turkey",
          "Ukraine",
          "United Kingdom",
          "United States of America"
         ],
         "textposition": "top center",
         "type": "scatter",
         "visible": false,
         "x": [
          3.464982269503546,
          3.723125,
          4.041503633314701,
          3.5155709342560555,
          3.7888141295206057,
          3.1744186046511627,
          3.440909090909091,
          3.5732758620689653,
          3.927315227070347,
          3.7580128205128207,
          3.540625,
          3.6518789144050103,
          3.8178736914364166,
          3.3948412698412698,
          3.7253289473684212,
          3.078488372093023,
          3.6651948842874544,
          3.5272067714631197,
          3.201492537313433,
          3.448509485094851,
          3.3048780487804876,
          3.002774694783574,
          3.503731343283582,
          3.6917910447761195,
          3.665625,
          2.9622641509433962,
          3.5081863979848866,
          3.5951327433628317,
          3.4349747474747474,
          3.5733333333333333,
          3.2544642857142856,
          3.457920792079208,
          3.5083333333333333,
          3.84685534591195,
          3.7583798882681565,
          3.046195652173913,
          3.085714285714286,
          3.3047945205479454,
          3.827867553865653,
          3.985777024102033
         ],
         "y": [
          5.547769784172662,
          7.077099236641222,
          7.410339398510418,
          6.30669014084507,
          6.321896243291593,
          5.3114457831325295,
          5.251851851851852,
          4.969407894736842,
          7.775769745649264,
          7.896753246753246,
          6.08235294117647,
          6.485,
          5.72778125,
          5.6136,
          6.626440677966102,
          5.202409638554217,
          5.252467612584824,
          6.668883495145631,
          5.214925373134329,
          5.702465753424658,
          6.145,
          4.8263839285714285,
          7.426566833056018,
          6.515329341317365,
          7.49618947368421,
          5.5673076923076925,
          6.514177215189873,
          6.702702702702703,
          6.202551020408164,
          6.682085561497326,
          4.930357142857143,
          6.661371237458194,
          8.540000000000001,
          6.976049149338374,
          7.01715909090909,
          5.056521739130434,
          5.170967741935484,
          5.016438356164383,
          6.290993324856961,
          7.539933661958015
         ]
        },
        {
         "hovertemplate": "<b>OLS trendline</b><br>y = 2.36867 * x + -2.09337<br>R<sup>2</sup>=0.460742<br><br>x=%{x}<br>y=%{y} <b>(trend)</b><extra></extra>",
         "legendgroup": "",
         "line": {
          "color": "DarkSlateGrey",
          "width": 2
         },
         "marker": {
          "color": "#636efa",
          "symbol": "circle"
         },
         "mode": "lines",
         "name": "",
         "showlegend": false,
         "type": "scatter",
         "visible": false,
         "x": [
          2.9622641509433962,
          3.002774694783574,
          3.046195652173913,
          3.078488372093023,
          3.085714285714286,
          3.1744186046511627,
          3.201492537313433,
          3.2544642857142856,
          3.3047945205479454,
          3.3048780487804876,
          3.3948412698412698,
          3.4349747474747474,
          3.440909090909091,
          3.448509485094851,
          3.457920792079208,
          3.464982269503546,
          3.503731343283582,
          3.5081863979848866,
          3.5083333333333333,
          3.5155709342560555,
          3.5272067714631197,
          3.540625,
          3.5732758620689653,
          3.5733333333333333,
          3.5951327433628317,
          3.6518789144050103,
          3.6651948842874544,
          3.665625,
          3.6917910447761195,
          3.723125,
          3.7253289473684212,
          3.7580128205128207,
          3.7583798882681565,
          3.7888141295206057,
          3.8178736914364166,
          3.827867553865653,
          3.84685534591195,
          3.927315227070347,
          3.985777024102033,
          4.041503633314701
         ],
         "xaxis": "x",
         "y": [
          4.923272651107221,
          5.019228936289068,
          5.122079043329198,
          5.198569979962402,
          5.215685816048848,
          5.4257974590410765,
          5.48992678827902,
          5.615399608791789,
          5.734615543932559,
          5.734813395112592,
          5.947906967246381,
          6.0429701053847,
          6.057026632327401,
          6.075029490913068,
          6.097321812153871,
          6.114048152442172,
          6.205832088714138,
          6.2163846624121275,
          6.216732704399775,
          6.233876223897146,
          6.261437732766924,
          6.293221146220955,
          6.370560404970068,
          6.370696535678539,
          6.422332238567127,
          6.556745437091032,
          6.58828663309555,
          6.589305437141653,
          6.651284275651546,
          6.725504210965174,
          6.730724644515619,
          6.808142095751632,
          6.809011559720099,
          6.881100365647625,
          6.949933003922097,
          6.973605209289452,
          7.018581104842872,
          7.209164359725654,
          7.347641317486265,
          7.479639506079445
         ],
         "yaxis": "y"
        }
       ],
       "layout": {
        "height": 800,
        "sliders": [
         {
          "active": 0,
          "steps": [
           {
            "args": [
             {
              "visible": [
               true,
               true,
               false,
               false,
               false,
               false,
               false,
               false,
               false,
               false,
               false,
               false,
               false,
               false,
               false,
               false,
               false,
               false,
               false,
               false,
               false,
               false,
               false,
               false,
               false,
               false,
               false,
               false,
               false,
               false,
               false,
               false,
               false,
               false,
               false,
               false
              ]
             }
            ],
            "label": "2000",
            "method": "update"
           },
           {
            "args": [
             {
              "visible": [
               false,
               false,
               true,
               true,
               false,
               false,
               false,
               false,
               false,
               false,
               false,
               false,
               false,
               false,
               false,
               false,
               false,
               false,
               false,
               false,
               false,
               false,
               false,
               false,
               false,
               false,
               false,
               false,
               false,
               false,
               false,
               false,
               false,
               false,
               false,
               false
              ]
             }
            ],
            "label": "2001",
            "method": "update"
           },
           {
            "args": [
             {
              "visible": [
               false,
               false,
               false,
               false,
               true,
               true,
               false,
               false,
               false,
               false,
               false,
               false,
               false,
               false,
               false,
               false,
               false,
               false,
               false,
               false,
               false,
               false,
               false,
               false,
               false,
               false,
               false,
               false,
               false,
               false,
               false,
               false,
               false,
               false,
               false,
               false
              ]
             }
            ],
            "label": "2002",
            "method": "update"
           },
           {
            "args": [
             {
              "visible": [
               false,
               false,
               false,
               false,
               false,
               false,
               true,
               true,
               false,
               false,
               false,
               false,
               false,
               false,
               false,
               false,
               false,
               false,
               false,
               false,
               false,
               false,
               false,
               false,
               false,
               false,
               false,
               false,
               false,
               false,
               false,
               false,
               false,
               false,
               false,
               false
              ]
             }
            ],
            "label": "2003",
            "method": "update"
           },
           {
            "args": [
             {
              "visible": [
               false,
               false,
               false,
               false,
               false,
               false,
               false,
               false,
               true,
               true,
               false,
               false,
               false,
               false,
               false,
               false,
               false,
               false,
               false,
               false,
               false,
               false,
               false,
               false,
               false,
               false,
               false,
               false,
               false,
               false,
               false,
               false,
               false,
               false,
               false,
               false
              ]
             }
            ],
            "label": "2004",
            "method": "update"
           },
           {
            "args": [
             {
              "visible": [
               false,
               false,
               false,
               false,
               false,
               false,
               false,
               false,
               false,
               false,
               true,
               true,
               false,
               false,
               false,
               false,
               false,
               false,
               false,
               false,
               false,
               false,
               false,
               false,
               false,
               false,
               false,
               false,
               false,
               false,
               false,
               false,
               false,
               false,
               false,
               false
              ]
             }
            ],
            "label": "2005",
            "method": "update"
           },
           {
            "args": [
             {
              "visible": [
               false,
               false,
               false,
               false,
               false,
               false,
               false,
               false,
               false,
               false,
               false,
               false,
               true,
               true,
               false,
               false,
               false,
               false,
               false,
               false,
               false,
               false,
               false,
               false,
               false,
               false,
               false,
               false,
               false,
               false,
               false,
               false,
               false,
               false,
               false,
               false
              ]
             }
            ],
            "label": "2006",
            "method": "update"
           },
           {
            "args": [
             {
              "visible": [
               false,
               false,
               false,
               false,
               false,
               false,
               false,
               false,
               false,
               false,
               false,
               false,
               false,
               false,
               true,
               true,
               false,
               false,
               false,
               false,
               false,
               false,
               false,
               false,
               false,
               false,
               false,
               false,
               false,
               false,
               false,
               false,
               false,
               false,
               false,
               false
              ]
             }
            ],
            "label": "2007",
            "method": "update"
           },
           {
            "args": [
             {
              "visible": [
               false,
               false,
               false,
               false,
               false,
               false,
               false,
               false,
               false,
               false,
               false,
               false,
               false,
               false,
               false,
               false,
               true,
               true,
               false,
               false,
               false,
               false,
               false,
               false,
               false,
               false,
               false,
               false,
               false,
               false,
               false,
               false,
               false,
               false,
               false,
               false
              ]
             }
            ],
            "label": "2008",
            "method": "update"
           },
           {
            "args": [
             {
              "visible": [
               false,
               false,
               false,
               false,
               false,
               false,
               false,
               false,
               false,
               false,
               false,
               false,
               false,
               false,
               false,
               false,
               false,
               false,
               true,
               true,
               false,
               false,
               false,
               false,
               false,
               false,
               false,
               false,
               false,
               false,
               false,
               false,
               false,
               false,
               false,
               false
              ]
             }
            ],
            "label": "2009",
            "method": "update"
           },
           {
            "args": [
             {
              "visible": [
               false,
               false,
               false,
               false,
               false,
               false,
               false,
               false,
               false,
               false,
               false,
               false,
               false,
               false,
               false,
               false,
               false,
               false,
               false,
               false,
               true,
               true,
               false,
               false,
               false,
               false,
               false,
               false,
               false,
               false,
               false,
               false,
               false,
               false,
               false,
               false
              ]
             }
            ],
            "label": "2010",
            "method": "update"
           },
           {
            "args": [
             {
              "visible": [
               false,
               false,
               false,
               false,
               false,
               false,
               false,
               false,
               false,
               false,
               false,
               false,
               false,
               false,
               false,
               false,
               false,
               false,
               false,
               false,
               false,
               false,
               true,
               true,
               false,
               false,
               false,
               false,
               false,
               false,
               false,
               false,
               false,
               false,
               false,
               false
              ]
             }
            ],
            "label": "2011",
            "method": "update"
           },
           {
            "args": [
             {
              "visible": [
               false,
               false,
               false,
               false,
               false,
               false,
               false,
               false,
               false,
               false,
               false,
               false,
               false,
               false,
               false,
               false,
               false,
               false,
               false,
               false,
               false,
               false,
               false,
               false,
               true,
               true,
               false,
               false,
               false,
               false,
               false,
               false,
               false,
               false,
               false,
               false
              ]
             }
            ],
            "label": "2012",
            "method": "update"
           },
           {
            "args": [
             {
              "visible": [
               false,
               false,
               false,
               false,
               false,
               false,
               false,
               false,
               false,
               false,
               false,
               false,
               false,
               false,
               false,
               false,
               false,
               false,
               false,
               false,
               false,
               false,
               false,
               false,
               false,
               false,
               true,
               true,
               false,
               false,
               false,
               false,
               false,
               false,
               false,
               false
              ]
             }
            ],
            "label": "2013",
            "method": "update"
           },
           {
            "args": [
             {
              "visible": [
               false,
               false,
               false,
               false,
               false,
               false,
               false,
               false,
               false,
               false,
               false,
               false,
               false,
               false,
               false,
               false,
               false,
               false,
               false,
               false,
               false,
               false,
               false,
               false,
               false,
               false,
               false,
               false,
               true,
               true,
               false,
               false,
               false,
               false,
               false,
               false
              ]
             }
            ],
            "label": "2014",
            "method": "update"
           },
           {
            "args": [
             {
              "visible": [
               false,
               false,
               false,
               false,
               false,
               false,
               false,
               false,
               false,
               false,
               false,
               false,
               false,
               false,
               false,
               false,
               false,
               false,
               false,
               false,
               false,
               false,
               false,
               false,
               false,
               false,
               false,
               false,
               false,
               false,
               true,
               true,
               false,
               false,
               false,
               false
              ]
             }
            ],
            "label": "2015",
            "method": "update"
           },
           {
            "args": [
             {
              "visible": [
               false,
               false,
               false,
               false,
               false,
               false,
               false,
               false,
               false,
               false,
               false,
               false,
               false,
               false,
               false,
               false,
               false,
               false,
               false,
               false,
               false,
               false,
               false,
               false,
               false,
               false,
               false,
               false,
               false,
               false,
               false,
               false,
               true,
               true,
               false,
               false
              ]
             }
            ],
            "label": "2016",
            "method": "update"
           },
           {
            "args": [
             {
              "visible": [
               false,
               false,
               false,
               false,
               false,
               false,
               false,
               false,
               false,
               false,
               false,
               false,
               false,
               false,
               false,
               false,
               false,
               false,
               false,
               false,
               false,
               false,
               false,
               false,
               false,
               false,
               false,
               false,
               false,
               false,
               false,
               false,
               false,
               false,
               true,
               true
              ]
             }
            ],
            "label": "2017",
            "method": "update"
           }
          ]
         }
        ],
        "template": {
         "data": {
          "bar": [
           {
            "error_x": {
             "color": "#2a3f5f"
            },
            "error_y": {
             "color": "#2a3f5f"
            },
            "marker": {
             "line": {
              "color": "#E5ECF6",
              "width": 0.5
             },
             "pattern": {
              "fillmode": "overlay",
              "size": 10,
              "solidity": 0.2
             }
            },
            "type": "bar"
           }
          ],
          "barpolar": [
           {
            "marker": {
             "line": {
              "color": "#E5ECF6",
              "width": 0.5
             },
             "pattern": {
              "fillmode": "overlay",
              "size": 10,
              "solidity": 0.2
             }
            },
            "type": "barpolar"
           }
          ],
          "carpet": [
           {
            "aaxis": {
             "endlinecolor": "#2a3f5f",
             "gridcolor": "white",
             "linecolor": "white",
             "minorgridcolor": "white",
             "startlinecolor": "#2a3f5f"
            },
            "baxis": {
             "endlinecolor": "#2a3f5f",
             "gridcolor": "white",
             "linecolor": "white",
             "minorgridcolor": "white",
             "startlinecolor": "#2a3f5f"
            },
            "type": "carpet"
           }
          ],
          "choropleth": [
           {
            "colorbar": {
             "outlinewidth": 0,
             "ticks": ""
            },
            "type": "choropleth"
           }
          ],
          "contour": [
           {
            "colorbar": {
             "outlinewidth": 0,
             "ticks": ""
            },
            "colorscale": [
             [
              0,
              "#0d0887"
             ],
             [
              0.1111111111111111,
              "#46039f"
             ],
             [
              0.2222222222222222,
              "#7201a8"
             ],
             [
              0.3333333333333333,
              "#9c179e"
             ],
             [
              0.4444444444444444,
              "#bd3786"
             ],
             [
              0.5555555555555556,
              "#d8576b"
             ],
             [
              0.6666666666666666,
              "#ed7953"
             ],
             [
              0.7777777777777778,
              "#fb9f3a"
             ],
             [
              0.8888888888888888,
              "#fdca26"
             ],
             [
              1,
              "#f0f921"
             ]
            ],
            "type": "contour"
           }
          ],
          "contourcarpet": [
           {
            "colorbar": {
             "outlinewidth": 0,
             "ticks": ""
            },
            "type": "contourcarpet"
           }
          ],
          "heatmap": [
           {
            "colorbar": {
             "outlinewidth": 0,
             "ticks": ""
            },
            "colorscale": [
             [
              0,
              "#0d0887"
             ],
             [
              0.1111111111111111,
              "#46039f"
             ],
             [
              0.2222222222222222,
              "#7201a8"
             ],
             [
              0.3333333333333333,
              "#9c179e"
             ],
             [
              0.4444444444444444,
              "#bd3786"
             ],
             [
              0.5555555555555556,
              "#d8576b"
             ],
             [
              0.6666666666666666,
              "#ed7953"
             ],
             [
              0.7777777777777778,
              "#fb9f3a"
             ],
             [
              0.8888888888888888,
              "#fdca26"
             ],
             [
              1,
              "#f0f921"
             ]
            ],
            "type": "heatmap"
           }
          ],
          "heatmapgl": [
           {
            "colorbar": {
             "outlinewidth": 0,
             "ticks": ""
            },
            "colorscale": [
             [
              0,
              "#0d0887"
             ],
             [
              0.1111111111111111,
              "#46039f"
             ],
             [
              0.2222222222222222,
              "#7201a8"
             ],
             [
              0.3333333333333333,
              "#9c179e"
             ],
             [
              0.4444444444444444,
              "#bd3786"
             ],
             [
              0.5555555555555556,
              "#d8576b"
             ],
             [
              0.6666666666666666,
              "#ed7953"
             ],
             [
              0.7777777777777778,
              "#fb9f3a"
             ],
             [
              0.8888888888888888,
              "#fdca26"
             ],
             [
              1,
              "#f0f921"
             ]
            ],
            "type": "heatmapgl"
           }
          ],
          "histogram": [
           {
            "marker": {
             "pattern": {
              "fillmode": "overlay",
              "size": 10,
              "solidity": 0.2
             }
            },
            "type": "histogram"
           }
          ],
          "histogram2d": [
           {
            "colorbar": {
             "outlinewidth": 0,
             "ticks": ""
            },
            "colorscale": [
             [
              0,
              "#0d0887"
             ],
             [
              0.1111111111111111,
              "#46039f"
             ],
             [
              0.2222222222222222,
              "#7201a8"
             ],
             [
              0.3333333333333333,
              "#9c179e"
             ],
             [
              0.4444444444444444,
              "#bd3786"
             ],
             [
              0.5555555555555556,
              "#d8576b"
             ],
             [
              0.6666666666666666,
              "#ed7953"
             ],
             [
              0.7777777777777778,
              "#fb9f3a"
             ],
             [
              0.8888888888888888,
              "#fdca26"
             ],
             [
              1,
              "#f0f921"
             ]
            ],
            "type": "histogram2d"
           }
          ],
          "histogram2dcontour": [
           {
            "colorbar": {
             "outlinewidth": 0,
             "ticks": ""
            },
            "colorscale": [
             [
              0,
              "#0d0887"
             ],
             [
              0.1111111111111111,
              "#46039f"
             ],
             [
              0.2222222222222222,
              "#7201a8"
             ],
             [
              0.3333333333333333,
              "#9c179e"
             ],
             [
              0.4444444444444444,
              "#bd3786"
             ],
             [
              0.5555555555555556,
              "#d8576b"
             ],
             [
              0.6666666666666666,
              "#ed7953"
             ],
             [
              0.7777777777777778,
              "#fb9f3a"
             ],
             [
              0.8888888888888888,
              "#fdca26"
             ],
             [
              1,
              "#f0f921"
             ]
            ],
            "type": "histogram2dcontour"
           }
          ],
          "mesh3d": [
           {
            "colorbar": {
             "outlinewidth": 0,
             "ticks": ""
            },
            "type": "mesh3d"
           }
          ],
          "parcoords": [
           {
            "line": {
             "colorbar": {
              "outlinewidth": 0,
              "ticks": ""
             }
            },
            "type": "parcoords"
           }
          ],
          "pie": [
           {
            "automargin": true,
            "type": "pie"
           }
          ],
          "scatter": [
           {
            "fillpattern": {
             "fillmode": "overlay",
             "size": 10,
             "solidity": 0.2
            },
            "type": "scatter"
           }
          ],
          "scatter3d": [
           {
            "line": {
             "colorbar": {
              "outlinewidth": 0,
              "ticks": ""
             }
            },
            "marker": {
             "colorbar": {
              "outlinewidth": 0,
              "ticks": ""
             }
            },
            "type": "scatter3d"
           }
          ],
          "scattercarpet": [
           {
            "marker": {
             "colorbar": {
              "outlinewidth": 0,
              "ticks": ""
             }
            },
            "type": "scattercarpet"
           }
          ],
          "scattergeo": [
           {
            "marker": {
             "colorbar": {
              "outlinewidth": 0,
              "ticks": ""
             }
            },
            "type": "scattergeo"
           }
          ],
          "scattergl": [
           {
            "marker": {
             "colorbar": {
              "outlinewidth": 0,
              "ticks": ""
             }
            },
            "type": "scattergl"
           }
          ],
          "scattermapbox": [
           {
            "marker": {
             "colorbar": {
              "outlinewidth": 0,
              "ticks": ""
             }
            },
            "type": "scattermapbox"
           }
          ],
          "scatterpolar": [
           {
            "marker": {
             "colorbar": {
              "outlinewidth": 0,
              "ticks": ""
             }
            },
            "type": "scatterpolar"
           }
          ],
          "scatterpolargl": [
           {
            "marker": {
             "colorbar": {
              "outlinewidth": 0,
              "ticks": ""
             }
            },
            "type": "scatterpolargl"
           }
          ],
          "scatterternary": [
           {
            "marker": {
             "colorbar": {
              "outlinewidth": 0,
              "ticks": ""
             }
            },
            "type": "scatterternary"
           }
          ],
          "surface": [
           {
            "colorbar": {
             "outlinewidth": 0,
             "ticks": ""
            },
            "colorscale": [
             [
              0,
              "#0d0887"
             ],
             [
              0.1111111111111111,
              "#46039f"
             ],
             [
              0.2222222222222222,
              "#7201a8"
             ],
             [
              0.3333333333333333,
              "#9c179e"
             ],
             [
              0.4444444444444444,
              "#bd3786"
             ],
             [
              0.5555555555555556,
              "#d8576b"
             ],
             [
              0.6666666666666666,
              "#ed7953"
             ],
             [
              0.7777777777777778,
              "#fb9f3a"
             ],
             [
              0.8888888888888888,
              "#fdca26"
             ],
             [
              1,
              "#f0f921"
             ]
            ],
            "type": "surface"
           }
          ],
          "table": [
           {
            "cells": {
             "fill": {
              "color": "#EBF0F8"
             },
             "line": {
              "color": "white"
             }
            },
            "header": {
             "fill": {
              "color": "#C8D4E3"
             },
             "line": {
              "color": "white"
             }
            },
            "type": "table"
           }
          ]
         },
         "layout": {
          "annotationdefaults": {
           "arrowcolor": "#2a3f5f",
           "arrowhead": 0,
           "arrowwidth": 1
          },
          "autotypenumbers": "strict",
          "coloraxis": {
           "colorbar": {
            "outlinewidth": 0,
            "ticks": ""
           }
          },
          "colorscale": {
           "diverging": [
            [
             0,
             "#8e0152"
            ],
            [
             0.1,
             "#c51b7d"
            ],
            [
             0.2,
             "#de77ae"
            ],
            [
             0.3,
             "#f1b6da"
            ],
            [
             0.4,
             "#fde0ef"
            ],
            [
             0.5,
             "#f7f7f7"
            ],
            [
             0.6,
             "#e6f5d0"
            ],
            [
             0.7,
             "#b8e186"
            ],
            [
             0.8,
             "#7fbc41"
            ],
            [
             0.9,
             "#4d9221"
            ],
            [
             1,
             "#276419"
            ]
           ],
           "sequential": [
            [
             0,
             "#0d0887"
            ],
            [
             0.1111111111111111,
             "#46039f"
            ],
            [
             0.2222222222222222,
             "#7201a8"
            ],
            [
             0.3333333333333333,
             "#9c179e"
            ],
            [
             0.4444444444444444,
             "#bd3786"
            ],
            [
             0.5555555555555556,
             "#d8576b"
            ],
            [
             0.6666666666666666,
             "#ed7953"
            ],
            [
             0.7777777777777778,
             "#fb9f3a"
            ],
            [
             0.8888888888888888,
             "#fdca26"
            ],
            [
             1,
             "#f0f921"
            ]
           ],
           "sequentialminus": [
            [
             0,
             "#0d0887"
            ],
            [
             0.1111111111111111,
             "#46039f"
            ],
            [
             0.2222222222222222,
             "#7201a8"
            ],
            [
             0.3333333333333333,
             "#9c179e"
            ],
            [
             0.4444444444444444,
             "#bd3786"
            ],
            [
             0.5555555555555556,
             "#d8576b"
            ],
            [
             0.6666666666666666,
             "#ed7953"
            ],
            [
             0.7777777777777778,
             "#fb9f3a"
            ],
            [
             0.8888888888888888,
             "#fdca26"
            ],
            [
             1,
             "#f0f921"
            ]
           ]
          },
          "colorway": [
           "#636efa",
           "#EF553B",
           "#00cc96",
           "#ab63fa",
           "#FFA15A",
           "#19d3f3",
           "#FF6692",
           "#B6E880",
           "#FF97FF",
           "#FECB52"
          ],
          "font": {
           "color": "#2a3f5f"
          },
          "geo": {
           "bgcolor": "white",
           "lakecolor": "white",
           "landcolor": "#E5ECF6",
           "showlakes": true,
           "showland": true,
           "subunitcolor": "white"
          },
          "hoverlabel": {
           "align": "left"
          },
          "hovermode": "closest",
          "mapbox": {
           "style": "light"
          },
          "paper_bgcolor": "white",
          "plot_bgcolor": "#E5ECF6",
          "polar": {
           "angularaxis": {
            "gridcolor": "white",
            "linecolor": "white",
            "ticks": ""
           },
           "bgcolor": "#E5ECF6",
           "radialaxis": {
            "gridcolor": "white",
            "linecolor": "white",
            "ticks": ""
           }
          },
          "scene": {
           "xaxis": {
            "backgroundcolor": "#E5ECF6",
            "gridcolor": "white",
            "gridwidth": 2,
            "linecolor": "white",
            "showbackground": true,
            "ticks": "",
            "zerolinecolor": "white"
           },
           "yaxis": {
            "backgroundcolor": "#E5ECF6",
            "gridcolor": "white",
            "gridwidth": 2,
            "linecolor": "white",
            "showbackground": true,
            "ticks": "",
            "zerolinecolor": "white"
           },
           "zaxis": {
            "backgroundcolor": "#E5ECF6",
            "gridcolor": "white",
            "gridwidth": 2,
            "linecolor": "white",
            "showbackground": true,
            "ticks": "",
            "zerolinecolor": "white"
           }
          },
          "shapedefaults": {
           "line": {
            "color": "#2a3f5f"
           }
          },
          "ternary": {
           "aaxis": {
            "gridcolor": "white",
            "linecolor": "white",
            "ticks": ""
           },
           "baxis": {
            "gridcolor": "white",
            "linecolor": "white",
            "ticks": ""
           },
           "bgcolor": "#E5ECF6",
           "caxis": {
            "gridcolor": "white",
            "linecolor": "white",
            "ticks": ""
           }
          },
          "title": {
           "x": 0.05
          },
          "xaxis": {
           "automargin": true,
           "gridcolor": "white",
           "linecolor": "white",
           "ticks": "",
           "title": {
            "standoff": 15
           },
           "zerolinecolor": "white",
           "zerolinewidth": 2
          },
          "yaxis": {
           "automargin": true,
           "gridcolor": "white",
           "linecolor": "white",
           "ticks": "",
           "title": {
            "standoff": 15
           },
           "zerolinecolor": "white",
           "zerolinewidth": 2
          }
         }
        },
        "title": {
         "text": "Average Rating vs ABV per country over the years"
        },
        "width": 1200,
        "xaxis": {
         "title": {
          "text": "Average Rating"
         }
        },
        "yaxis": {
         "title": {
          "text": "Average ABV"
         }
        }
       }
      }
     },
     "metadata": {},
     "output_type": "display_data"
    }
   ],
   "source": [
    "import plotly.graph_objects as go\n",
    "import plotly.express as px\n",
    "import pandas as pd\n",
    "\n",
    "# Create an image with a slider\n",
    "fig = go.Figure()\n",
    "\n",
    "# Iterate for each year\n",
    "unique_years = [2000, 2001, 2002, 2003, 2004, 2005, 2006, 2007, 2008, 2009, 2010, 2011, 2012, 2013, 2014, 2015, 2016, 2017]\n",
    "for i, y in enumerate(unique_years):\n",
    "    # Filter the data for a specific year\n",
    "    df_corr_year = df_ratings_no_text[df_ratings_no_text['date'].dt.year == y]\n",
    "\n",
    "    # compute the metrics\n",
    "    avg_rating_country = df_corr_year.groupby('location').agg({'palate': 'mean'})\n",
    "    avg_abv_country = df_corr_year.groupby('location').agg({'abv': 'mean'})\n",
    "    aggregated_df = pd.DataFrame({\n",
    "        'x': avg_rating_country['palate'].values,\n",
    "        'y': avg_abv_country['abv'].values,\n",
    "        'label': avg_rating_country.index\n",
    "    })\n",
    "\n",
    "    # Do the plotting part\n",
    "    fig.add_trace(go.Scatter(\n",
    "        x=aggregated_df['x'],\n",
    "        y=aggregated_df['y'],\n",
    "        mode='markers+text',\n",
    "        text=aggregated_df['label'],\n",
    "        textposition='top center',\n",
    "        visible=(i == 0)\n",
    "    ))\n",
    "    # Generate regression trace using px.scatter\n",
    "    regression_fig = px.scatter(aggregated_df, x='x', y='y', trendline='ols')\n",
    "    regression_fig.update_traces(marker=dict(size=4, opacity=0.5), selector=dict(mode='markers'))\n",
    "    regression_fig.update_traces(line=dict(width=2, color='DarkSlateGrey'), selector=dict(mode='lines'))\n",
    "\n",
    "    # Extract the regression trace\n",
    "    regression_trace = regression_fig.data[1]\n",
    "    regression_trace.visible = (i == 0)  # Set visibility based on current year or step\n",
    "\n",
    "    # Add the regression trace to your existing figure\n",
    "    fig.add_trace(regression_trace)\n",
    "\n",
    "# Prepare the slider \n",
    "steps = []\n",
    "for i, y in enumerate(unique_years):\n",
    "    step = dict(\n",
    "        label=str(y),\n",
    "        method='update',\n",
    "        args=[{'visible': [False] * len(fig.data)}]\n",
    "    )\n",
    "    step['args'][0]['visible'][i * 2] = True  # Show the scatter plot\n",
    "    step['args'][0]['visible'][i * 2 + 1] = True  # Show the regression line\n",
    "    steps.append(step)\n",
    "\n",
    "# Set some figure stuff\n",
    "fig.update_layout(\n",
    "    sliders=[\n",
    "        dict(\n",
    "            active=0,\n",
    "            steps=steps\n",
    "        )\n",
    "    ],\n",
    "    xaxis_title='Average Rating',\n",
    "    yaxis_title='Average ABV',\n",
    "    title='Average Rating vs ABV per country over the years'\n",
    ")\n",
    "\n",
    "\n",
    "# Set the figure such that it's a square\n",
    "fig.update_layout(\n",
    "    width=1200,\n",
    "    height=800\n",
    ")\n",
    "\n",
    "\n",
    "fig.show()"
   ]
  },
  {
   "cell_type": "markdown",
   "metadata": {},
   "source": [
    "Very nice correlation between the average rating and the average ABV. It seems that higher the average ABV the higher the average rating and in general we see that all the rating increases almost linearly with the average ABV (very interesting result in my opinion since it's not something obvious)."
   ]
  },
  {
   "cell_type": "markdown",
   "metadata": {},
   "source": [
    "### Evolution of values over time"
   ]
  },
  {
   "cell_type": "code",
   "execution_count": 73,
   "metadata": {},
   "outputs": [
    {
     "data": {
      "image/png": "[encoded data removed]",
      "text/plain": [
       "<Figure size 2000x500 with 3 Axes>"
      ]
     },
     "metadata": {},
     "output_type": "display_data"
    }
   ],
   "source": [
    "# Plot the value for each year only for the specific location\n",
    "from matplotlib import pyplot as plt\n",
    "\n",
    "# Filter location\n",
    "location = 'Greece'\n",
    "df_filtered = df_ratings_no_text[df_ratings_no_text['location'] == location]\n",
    "#df_filtered = df_ratings_no_text\n",
    "\n",
    "# Filter the data for a specific location\n",
    "abv_mean = df_filtered.groupby(df_filtered['date'].dt.year)['abv'].mean()\n",
    "rating_mean = df_filtered.groupby(df_filtered['date'].dt.year)['taste'].mean()\n",
    "rating_mean_2 = df_filtered.groupby(df_filtered['date'].dt.year)['appearance'].mean()\n",
    "rating_mean_3 = df_filtered.groupby(df_filtered['date'].dt.year)['aroma'].mean()\n",
    "rating_mean_4 = df_filtered.groupby(df_filtered['date'].dt.year)['palate'].mean()\n",
    "rating_mean_5 = df_filtered.groupby(df_filtered['date'].dt.year)['overall'].mean()\n",
    "rating_mean_6 = df_filtered.groupby(df_filtered['date'].dt.year)['rating'].mean()\n",
    "\n",
    "number_of_ratings_country = df_filtered.groupby(df_filtered['date'].dt.year)['rating'].count()\n",
    "\n",
    "fig = plt.figure(figsize=(20, 5))\n",
    "plt.subplot(1, 3, 1)\n",
    "plt.plot(abv_mean, label='ABV', color='blue', linestyle='dashed', marker='o')\n",
    "plt.ylabel('ABV')\n",
    "plt.xlabel('Year')\n",
    "plt.xticks(df_filtered['date'].dt.year.unique(), rotation=45)\n",
    "plt.legend()\n",
    "\n",
    "plt.subplot(1, 3, 2)\n",
    "plt.plot(rating_mean, label='Taste', color='red', linestyle='dashed', marker='o')\n",
    "plt.plot(rating_mean_2, label='Appearance', color='green', linestyle='dashed', marker='o')\n",
    "plt.plot(rating_mean_3, label='Aroma', color='orange', linestyle='dashed', marker='o')\n",
    "plt.plot(rating_mean_4, label='Palate', color='purple', linestyle='dashed', marker='o')\n",
    "plt.plot(rating_mean_5, label='Overall', color='black', linestyle='dashed', marker='o')\n",
    "plt.plot(rating_mean_6, label='Rating', color='brown', linestyle='dashed', marker='o')\n",
    "plt.xlabel('Year')\n",
    "plt.ylabel('Rating')\n",
    "plt.xticks(df_filtered['date'].dt.year.unique(), rotation=45)\n",
    "plt.legend()\n",
    "\n",
    "plt.subplot(1, 3, 3)\n",
    "plt.plot(number_of_ratings_country, label='Number of ratings each year', color='blue', linestyle='dashed', marker='o')\n",
    "plt.xlabel('Year')\n",
    "plt.ylabel('Number of ratings')\n",
    "plt.xticks(df_filtered['date'].dt.year.unique(), rotation=45)\n",
    "plt.legend()\n",
    "\n",
    "plt.show()\n"
   ]
  },
  {
   "cell_type": "markdown",
   "metadata": {},
   "source": [
    "Overall there is an increase in the average ABV and the different ratings (taste, appearance, aroma, palate, overall) over time. If we filter by the country we see that the US has a strong impact so since most of the reviews are from that country it might bring everything up. <br>\n",
    "Let's now consider the average of the averages (to reduce the impact of the fact that some countries has a significant highly number of reviews) and see if the trend is still the same."
   ]
  },
  {
   "cell_type": "code",
   "execution_count": 57,
   "metadata": {},
   "outputs": [
    {
     "data": {
      "image/png": "[encoded data removed]",
      "text/plain": [
       "<Figure size 1500x500 with 1 Axes>"
      ]
     },
     "metadata": {},
     "output_type": "display_data"
    }
   ],
   "source": [
    "LABEL = 'abv'\n",
    "fig = plt.figure(figsize=(15, 5))\n",
    "values = []\n",
    "for i, y in enumerate(unique_years):\n",
    "    df_averages = df_ratings_no_text[df_ratings_no_text['date'].dt.year == y].groupby('location').agg({LABEL: 'mean'})\n",
    "    avg_value = df_averages.mean()\n",
    "    values.append(avg_value[LABEL])\n",
    "plt.plot(unique_years, values, label='ABV', color='blue', linestyle='dashed', marker='o')\n",
    "plt.xticks(unique_years)\n",
    "plt.xlabel('Year')\n",
    "plt.ylabel(f'Average {LABEL}')\n",
    "plt.show()"
   ]
  },
  {
   "cell_type": "code",
   "execution_count": 95,
   "metadata": {},
   "outputs": [
    {
     "data": {
      "image/png": "[encoded data removed]",
      "text/plain": [
       "<Figure size 1600x800 with 2 Axes>"
      ]
     },
     "metadata": {},
     "output_type": "display_data"
    }
   ],
   "source": [
    "import geopandas as gpd\n",
    "import matplotlib.pyplot as plt\n",
    "import matplotlib.colors as mcolors\n",
    "\n",
    "location = 'United States of America'\n",
    "\n",
    "merged = df_ratings_no_text.merge(df_users[['user_id','location']], left_on='user_id', right_on='user_id')\n",
    "world = gpd.read_file(\"https://naciscdn.org/naturalearth/110m/cultural/ne_110m_admin_0_countries.zip\").rename(columns={'ADMIN': 'name'})\n",
    "merged = merged[merged['location_y'] == location].groupby('location_x').size().reset_index(name='count')\n",
    "merged = world.merge(merged, left_on='name', right_on='location_x', how='left')\n",
    "\n",
    "# Create figure\n",
    "fig, ax = plt.subplots(figsize=(16, 8))\n",
    "world.plot(ax=ax, color='lightgray')  \n",
    "\n",
    "# Plot with log scale normalization\n",
    "merged.plot(\n",
    "    column='count',\n",
    "    ax=ax,\n",
    "    legend=True,\n",
    "    cmap='viridis',  \n",
    "    norm=mcolors.LogNorm(vmin=1, vmax=merged['count'].max()), \n",
    "    missing_kwds={\"color\": \"lightgray\"}\n",
    ")\n",
    "ax.set_title('Brewery Locations by Country (Log Scale)')\n",
    "plt.axis('off')\n",
    "plt.show()"
   ]
  }
 ],
 "metadata": {
  "kernelspec": {
   "display_name": "ADA",
   "language": "python",
   "name": "python3"
  },
  "language_info": {
   "codemirror_mode": {
    "name": "ipython",
    "version": 3
   },
   "file_extension": ".py",
   "mimetype": "text/x-python",
   "name": "python",
   "nbconvert_exporter": "python",
   "pygments_lexer": "ipython3",
   "version": "3.9.20"
  }
 },
 "nbformat": 4,
 "nbformat_minor": 2
}
