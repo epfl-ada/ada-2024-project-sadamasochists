{
 "cells": [
  {
   "cell_type": "markdown",
   "metadata": {},
   "source": [
    "# Breweries, Beer, and Breviews: Unraveling the Global Beer Preferences\n",
    "## Introduction\n",
    "\n",
    "## Repository structure\n",
    "\n",
    "\n",
    "\n",
    "\n",
    "## Include Libraries and initial settings\n",
    "### Import all the libraries"
   ]
  },
  {
   "cell_type": "code",
   "execution_count": 1,
   "metadata": {},
   "outputs": [],
   "source": [
    "# Import all the libraries\n",
    "import pandas as pd\n",
    "import plotly.express as px\n",
    "from src.utils.plots import *\n",
    "import numpy as np\n",
    "import bar_chart_race as bcr\n",
    "import networkx as nx\n",
    "from pyvis.network import Network\n",
    "import plotly.graph_objects as go\n",
    "from sklearn.linear_model import LinearRegression\n",
    "\n",
    "# Shutdown FutureWarning and UserWarning\n",
    "import warnings\n",
    "warnings.simplefilter(action='ignore', category=FutureWarning)\n",
    "warnings.simplefilter(action='ignore', category=UserWarning)\n",
    "\n",
    "# Define the folder\n",
    "FOLDER = 'data/processed/'\n",
    "SAVING_FOLDER = 'docs/plots/'"
   ]
  },
  {
   "cell_type": "markdown",
   "metadata": {},
   "source": [
    "### Load and filter the data\n",
    "#### Load the data"
   ]
  },
  {
   "cell_type": "code",
   "execution_count": 2,
   "metadata": {},
   "outputs": [],
   "source": [
    "df_beers = pd.read_parquet(FOLDER + 'beers.pq')\n",
    "df_breweries = pd.read_parquet(FOLDER + 'breweries.pq')\n",
    "df_users = pd.read_parquet(FOLDER + 'users.pq')\n",
    "df_ratings_no_text = pd.read_parquet(FOLDER + 'ratings_no_text.pq')"
   ]
  },
  {
   "cell_type": "markdown",
   "metadata": {},
   "source": [
    "## Data presentation\n",
    "This section provides an overview of the dataset, which has been carefully cleaned and is nearly ready for analysis. We will summarize the data, display the first few rows, and describe the data types of the columns. For columns that are not self-explanatory, a brief description is included. <br><br>\n",
    "Let's begin our analysis with the beers."
   ]
  },
  {
   "cell_type": "code",
   "execution_count": 3,
   "metadata": {},
   "outputs": [
    {
     "data": {
      "text/html": [
       "<div>\n",
       "<style scoped>\n",
       "    .dataframe tbody tr th:only-of-type {\n",
       "        vertical-align: middle;\n",
       "    }\n",
       "\n",
       "    .dataframe tbody tr th {\n",
       "        vertical-align: top;\n",
       "    }\n",
       "\n",
       "    .dataframe thead th {\n",
       "        text-align: right;\n",
       "    }\n",
       "</style>\n",
       "<table border=\"1\" class=\"dataframe\">\n",
       "  <thead>\n",
       "    <tr style=\"text-align: right;\">\n",
       "      <th></th>\n",
       "      <th>beer_id</th>\n",
       "      <th>beer_name</th>\n",
       "      <th>brewery_id</th>\n",
       "      <th>brewery_name</th>\n",
       "      <th>style</th>\n",
       "      <th>abv</th>\n",
       "    </tr>\n",
       "  </thead>\n",
       "  <tbody>\n",
       "    <tr>\n",
       "      <th>3</th>\n",
       "      <td>155699</td>\n",
       "      <td>Ards Bally Black Stout</td>\n",
       "      <td>13538</td>\n",
       "      <td>Ards Brewing Co.</td>\n",
       "      <td>Stout</td>\n",
       "      <td>4.6</td>\n",
       "    </tr>\n",
       "    <tr>\n",
       "      <th>4</th>\n",
       "      <td>239097</td>\n",
       "      <td>Ards Belfast 366</td>\n",
       "      <td>13538</td>\n",
       "      <td>Ards Brewing Co.</td>\n",
       "      <td>Golden Ale/Blond Ale</td>\n",
       "      <td>4.2</td>\n",
       "    </tr>\n",
       "    <tr>\n",
       "      <th>5</th>\n",
       "      <td>380930</td>\n",
       "      <td>Ards Bittles Christmas</td>\n",
       "      <td>13538</td>\n",
       "      <td>Ards Brewing Co.</td>\n",
       "      <td>Bitter</td>\n",
       "      <td>4.2</td>\n",
       "    </tr>\n",
       "    <tr>\n",
       "      <th>6</th>\n",
       "      <td>234108</td>\n",
       "      <td>Ards Bittles Citra Autumn Ale</td>\n",
       "      <td>13538</td>\n",
       "      <td>Ards Brewing Co.</td>\n",
       "      <td>American Pale Ale</td>\n",
       "      <td>5.1</td>\n",
       "    </tr>\n",
       "    <tr>\n",
       "      <th>7</th>\n",
       "      <td>396830</td>\n",
       "      <td>Ards Cardy Man</td>\n",
       "      <td>13538</td>\n",
       "      <td>Ards Brewing Co.</td>\n",
       "      <td>Stout</td>\n",
       "      <td>4.2</td>\n",
       "    </tr>\n",
       "  </tbody>\n",
       "</table>\n",
       "</div>"
      ],
      "text/plain": [
       "   beer_id                      beer_name  brewery_id      brewery_name  \\\n",
       "3   155699         Ards Bally Black Stout       13538  Ards Brewing Co.   \n",
       "4   239097               Ards Belfast 366       13538  Ards Brewing Co.   \n",
       "5   380930         Ards Bittles Christmas       13538  Ards Brewing Co.   \n",
       "6   234108  Ards Bittles Citra Autumn Ale       13538  Ards Brewing Co.   \n",
       "7   396830                 Ards Cardy Man       13538  Ards Brewing Co.   \n",
       "\n",
       "                  style  abv  \n",
       "3                 Stout  4.6  \n",
       "4  Golden Ale/Blond Ale  4.2  \n",
       "5                Bitter  4.2  \n",
       "6     American Pale Ale  5.1  \n",
       "7                 Stout  4.2  "
      ]
     },
     "execution_count": 3,
     "metadata": {},
     "output_type": "execute_result"
    }
   ],
   "source": [
    "df_beers.head(5)"
   ]
  },
  {
   "cell_type": "code",
   "execution_count": 4,
   "metadata": {},
   "outputs": [
    {
     "name": "stdout",
     "output_type": "stream",
     "text": [
      "In the platform there are 314,242 different beers\n"
     ]
    }
   ],
   "source": [
    "format_numeric_values = lambda x: f\"{x:,.0f}\"\n",
    "print(f\"In the platform there are {format_numeric_values(df_beers.shape[0])} different beers\")"
   ]
  },
  {
   "cell_type": "markdown",
   "metadata": {},
   "source": [
    "Now let's take a look at the breweries."
   ]
  },
  {
   "cell_type": "code",
   "execution_count": 5,
   "metadata": {},
   "outputs": [
    {
     "data": {
      "text/html": [
       "<div>\n",
       "<style scoped>\n",
       "    .dataframe tbody tr th:only-of-type {\n",
       "        vertical-align: middle;\n",
       "    }\n",
       "\n",
       "    .dataframe tbody tr th {\n",
       "        vertical-align: top;\n",
       "    }\n",
       "\n",
       "    .dataframe thead th {\n",
       "        text-align: right;\n",
       "    }\n",
       "</style>\n",
       "<table border=\"1\" class=\"dataframe\">\n",
       "  <thead>\n",
       "    <tr style=\"text-align: right;\">\n",
       "      <th></th>\n",
       "      <th>brewery_id</th>\n",
       "      <th>brewery_name</th>\n",
       "      <th>country_brewery</th>\n",
       "      <th>state_brewery</th>\n",
       "    </tr>\n",
       "  </thead>\n",
       "  <tbody>\n",
       "    <tr>\n",
       "      <th>1</th>\n",
       "      <td>13538</td>\n",
       "      <td>Ards Brewing Co.</td>\n",
       "      <td>United Kingdom</td>\n",
       "      <td>None</td>\n",
       "    </tr>\n",
       "    <tr>\n",
       "      <th>2</th>\n",
       "      <td>22304</td>\n",
       "      <td>Barrahooley Craft Brewery</td>\n",
       "      <td>United Kingdom</td>\n",
       "      <td>None</td>\n",
       "    </tr>\n",
       "    <tr>\n",
       "      <th>3</th>\n",
       "      <td>22818</td>\n",
       "      <td>Boundary</td>\n",
       "      <td>United Kingdom</td>\n",
       "      <td>None</td>\n",
       "    </tr>\n",
       "    <tr>\n",
       "      <th>4</th>\n",
       "      <td>24297</td>\n",
       "      <td>Brewbot Belfast</td>\n",
       "      <td>United Kingdom</td>\n",
       "      <td>None</td>\n",
       "    </tr>\n",
       "    <tr>\n",
       "      <th>5</th>\n",
       "      <td>27006</td>\n",
       "      <td>Bullhouse Brewing Company</td>\n",
       "      <td>United Kingdom</td>\n",
       "      <td>None</td>\n",
       "    </tr>\n",
       "  </tbody>\n",
       "</table>\n",
       "</div>"
      ],
      "text/plain": [
       "   brewery_id               brewery_name country_brewery state_brewery\n",
       "1       13538           Ards Brewing Co.  United Kingdom          None\n",
       "2       22304  Barrahooley Craft Brewery  United Kingdom          None\n",
       "3       22818                   Boundary  United Kingdom          None\n",
       "4       24297            Brewbot Belfast  United Kingdom          None\n",
       "5       27006  Bullhouse Brewing Company  United Kingdom          None"
      ]
     },
     "execution_count": 5,
     "metadata": {},
     "output_type": "execute_result"
    }
   ],
   "source": [
    "df_breweries.head(5)"
   ]
  },
  {
   "cell_type": "markdown",
   "metadata": {},
   "source": [
    "We have chosen, to ease the analysis processes, to split the location into two columns:\n",
    "- One for the country.\n",
    "- A separate column for US states.\n",
    "\n",
    "This split was specifically applied to the US because it has a large number of users and breweries and combining all states into a single \"US\" category would have obscured important insights. Additionally, the size and population of many US states are comparable to those of entire countries. This approach was not extended to other countries due to the lack of state-level data for them. <br><br>\n",
    "The same choice has been made for all the location columns."
   ]
  },
  {
   "cell_type": "code",
   "execution_count": 6,
   "metadata": {},
   "outputs": [
    {
     "name": "stdout",
     "output_type": "stream",
     "text": [
      "In the platform there are 19,670 different breweries\n"
     ]
    }
   ],
   "source": [
    "print(f\"In the platform there are {format_numeric_values(df_breweries.shape[0])} different breweries\")"
   ]
  },
  {
   "cell_type": "markdown",
   "metadata": {},
   "source": [
    "Let's now add the location columns to the beers dataset"
   ]
  },
  {
   "cell_type": "code",
   "execution_count": 7,
   "metadata": {},
   "outputs": [
    {
     "data": {
      "text/html": [
       "<div>\n",
       "<style scoped>\n",
       "    .dataframe tbody tr th:only-of-type {\n",
       "        vertical-align: middle;\n",
       "    }\n",
       "\n",
       "    .dataframe tbody tr th {\n",
       "        vertical-align: top;\n",
       "    }\n",
       "\n",
       "    .dataframe thead th {\n",
       "        text-align: right;\n",
       "    }\n",
       "</style>\n",
       "<table border=\"1\" class=\"dataframe\">\n",
       "  <thead>\n",
       "    <tr style=\"text-align: right;\">\n",
       "      <th></th>\n",
       "      <th>beer_id</th>\n",
       "      <th>beer_name</th>\n",
       "      <th>brewery_id</th>\n",
       "      <th>brewery_name</th>\n",
       "      <th>style</th>\n",
       "      <th>abv</th>\n",
       "      <th>country_beer</th>\n",
       "      <th>state_beer</th>\n",
       "    </tr>\n",
       "  </thead>\n",
       "  <tbody>\n",
       "    <tr>\n",
       "      <th>3</th>\n",
       "      <td>155699</td>\n",
       "      <td>Ards Bally Black Stout</td>\n",
       "      <td>13538</td>\n",
       "      <td>Ards Brewing Co.</td>\n",
       "      <td>Stout</td>\n",
       "      <td>4.6</td>\n",
       "      <td>United Kingdom</td>\n",
       "      <td>None</td>\n",
       "    </tr>\n",
       "    <tr>\n",
       "      <th>4</th>\n",
       "      <td>239097</td>\n",
       "      <td>Ards Belfast 366</td>\n",
       "      <td>13538</td>\n",
       "      <td>Ards Brewing Co.</td>\n",
       "      <td>Golden Ale/Blond Ale</td>\n",
       "      <td>4.2</td>\n",
       "      <td>United Kingdom</td>\n",
       "      <td>None</td>\n",
       "    </tr>\n",
       "    <tr>\n",
       "      <th>5</th>\n",
       "      <td>380930</td>\n",
       "      <td>Ards Bittles Christmas</td>\n",
       "      <td>13538</td>\n",
       "      <td>Ards Brewing Co.</td>\n",
       "      <td>Bitter</td>\n",
       "      <td>4.2</td>\n",
       "      <td>United Kingdom</td>\n",
       "      <td>None</td>\n",
       "    </tr>\n",
       "    <tr>\n",
       "      <th>6</th>\n",
       "      <td>234108</td>\n",
       "      <td>Ards Bittles Citra Autumn Ale</td>\n",
       "      <td>13538</td>\n",
       "      <td>Ards Brewing Co.</td>\n",
       "      <td>American Pale Ale</td>\n",
       "      <td>5.1</td>\n",
       "      <td>United Kingdom</td>\n",
       "      <td>None</td>\n",
       "    </tr>\n",
       "    <tr>\n",
       "      <th>7</th>\n",
       "      <td>396830</td>\n",
       "      <td>Ards Cardy Man</td>\n",
       "      <td>13538</td>\n",
       "      <td>Ards Brewing Co.</td>\n",
       "      <td>Stout</td>\n",
       "      <td>4.2</td>\n",
       "      <td>United Kingdom</td>\n",
       "      <td>None</td>\n",
       "    </tr>\n",
       "  </tbody>\n",
       "</table>\n",
       "</div>"
      ],
      "text/plain": [
       "   beer_id                      beer_name  brewery_id      brewery_name  \\\n",
       "3   155699         Ards Bally Black Stout       13538  Ards Brewing Co.   \n",
       "4   239097               Ards Belfast 366       13538  Ards Brewing Co.   \n",
       "5   380930         Ards Bittles Christmas       13538  Ards Brewing Co.   \n",
       "6   234108  Ards Bittles Citra Autumn Ale       13538  Ards Brewing Co.   \n",
       "7   396830                 Ards Cardy Man       13538  Ards Brewing Co.   \n",
       "\n",
       "                  style  abv    country_beer state_beer  \n",
       "3                 Stout  4.6  United Kingdom       None  \n",
       "4  Golden Ale/Blond Ale  4.2  United Kingdom       None  \n",
       "5                Bitter  4.2  United Kingdom       None  \n",
       "6     American Pale Ale  5.1  United Kingdom       None  \n",
       "7                 Stout  4.2  United Kingdom       None  "
      ]
     },
     "execution_count": 7,
     "metadata": {},
     "output_type": "execute_result"
    }
   ],
   "source": [
    "df_beers = df_beers.join(df_breweries[['brewery_id', 'country_brewery', 'state_brewery']].set_index('brewery_id'), on='brewery_id').rename(columns={'country_brewery': 'country_beer', 'state_brewery': 'state_beer'})\n",
    "df_beers.head(5)"
   ]
  },
  {
   "cell_type": "markdown",
   "metadata": {},
   "source": [
    "Let's go back to analyze our data with the users dataset now."
   ]
  },
  {
   "cell_type": "code",
   "execution_count": 8,
   "metadata": {},
   "outputs": [
    {
     "data": {
      "text/html": [
       "<div>\n",
       "<style scoped>\n",
       "    .dataframe tbody tr th:only-of-type {\n",
       "        vertical-align: middle;\n",
       "    }\n",
       "\n",
       "    .dataframe tbody tr th {\n",
       "        vertical-align: top;\n",
       "    }\n",
       "\n",
       "    .dataframe thead th {\n",
       "        text-align: right;\n",
       "    }\n",
       "</style>\n",
       "<table border=\"1\" class=\"dataframe\">\n",
       "  <thead>\n",
       "    <tr style=\"text-align: right;\">\n",
       "      <th></th>\n",
       "      <th>user_id</th>\n",
       "      <th>user_name</th>\n",
       "      <th>joined</th>\n",
       "      <th>country_user</th>\n",
       "      <th>state_user</th>\n",
       "    </tr>\n",
       "  </thead>\n",
       "  <tbody>\n",
       "    <tr>\n",
       "      <th>0</th>\n",
       "      <td>175852</td>\n",
       "      <td>Manslow</td>\n",
       "      <td>2012-05-20 10:00:00</td>\n",
       "      <td>Poland</td>\n",
       "      <td>None</td>\n",
       "    </tr>\n",
       "    <tr>\n",
       "      <th>2</th>\n",
       "      <td>288889</td>\n",
       "      <td>Sibarh</td>\n",
       "      <td>2013-11-16 11:00:00</td>\n",
       "      <td>Poland</td>\n",
       "      <td>None</td>\n",
       "    </tr>\n",
       "    <tr>\n",
       "      <th>3</th>\n",
       "      <td>250510</td>\n",
       "      <td>fombe89</td>\n",
       "      <td>2013-03-22 11:00:00</td>\n",
       "      <td>Spain</td>\n",
       "      <td>None</td>\n",
       "    </tr>\n",
       "    <tr>\n",
       "      <th>4</th>\n",
       "      <td>122778</td>\n",
       "      <td>kevnic2008</td>\n",
       "      <td>2011-02-02 11:00:00</td>\n",
       "      <td>Germany</td>\n",
       "      <td>None</td>\n",
       "    </tr>\n",
       "    <tr>\n",
       "      <th>5</th>\n",
       "      <td>227834</td>\n",
       "      <td>Beerhunter111</td>\n",
       "      <td>2012-11-12 11:00:00</td>\n",
       "      <td>Germany</td>\n",
       "      <td>None</td>\n",
       "    </tr>\n",
       "  </tbody>\n",
       "</table>\n",
       "</div>"
      ],
      "text/plain": [
       "   user_id      user_name              joined country_user state_user\n",
       "0   175852        Manslow 2012-05-20 10:00:00       Poland       None\n",
       "2   288889         Sibarh 2013-11-16 11:00:00       Poland       None\n",
       "3   250510        fombe89 2013-03-22 11:00:00        Spain       None\n",
       "4   122778     kevnic2008 2011-02-02 11:00:00      Germany       None\n",
       "5   227834  Beerhunter111 2012-11-12 11:00:00      Germany       None"
      ]
     },
     "execution_count": 8,
     "metadata": {},
     "output_type": "execute_result"
    }
   ],
   "source": [
    "df_users.head(5)"
   ]
  },
  {
   "cell_type": "code",
   "execution_count": 9,
   "metadata": {},
   "outputs": [
    {
     "name": "stdout",
     "output_type": "stream",
     "text": [
      "In the platform there are 46,993 different users\n"
     ]
    }
   ],
   "source": [
    "print(f\"In the platform there are {format_numeric_values(df_users.shape[0])} different users\")"
   ]
  },
  {
   "cell_type": "markdown",
   "metadata": {},
   "source": [
    "And finally let's have a look at the ratings dataset."
   ]
  },
  {
   "cell_type": "code",
   "execution_count": 10,
   "metadata": {},
   "outputs": [
    {
     "data": {
      "text/html": [
       "<div>\n",
       "<style scoped>\n",
       "    .dataframe tbody tr th:only-of-type {\n",
       "        vertical-align: middle;\n",
       "    }\n",
       "\n",
       "    .dataframe tbody tr th {\n",
       "        vertical-align: top;\n",
       "    }\n",
       "\n",
       "    .dataframe thead th {\n",
       "        text-align: right;\n",
       "    }\n",
       "</style>\n",
       "<table border=\"1\" class=\"dataframe\">\n",
       "  <thead>\n",
       "    <tr style=\"text-align: right;\">\n",
       "      <th></th>\n",
       "      <th>date</th>\n",
       "      <th>beer_id</th>\n",
       "      <th>user_id</th>\n",
       "      <th>brewery_id</th>\n",
       "      <th>abv</th>\n",
       "      <th>style</th>\n",
       "      <th>rating</th>\n",
       "      <th>mouthfeel</th>\n",
       "      <th>taste</th>\n",
       "      <th>appearance</th>\n",
       "      <th>aroma</th>\n",
       "      <th>overall</th>\n",
       "      <th>year</th>\n",
       "      <th>brewery_name</th>\n",
       "      <th>country_brewery</th>\n",
       "      <th>state_brewery</th>\n",
       "      <th>country_user</th>\n",
       "      <th>state_user</th>\n",
       "    </tr>\n",
       "  </thead>\n",
       "  <tbody>\n",
       "    <tr>\n",
       "      <th>38</th>\n",
       "      <td>2015-04-16 12:00:00</td>\n",
       "      <td>155699</td>\n",
       "      <td>151109</td>\n",
       "      <td>13538</td>\n",
       "      <td>4.6</td>\n",
       "      <td>Stout</td>\n",
       "      <td>3.7</td>\n",
       "      <td>2.0</td>\n",
       "      <td>8.0</td>\n",
       "      <td>3.0</td>\n",
       "      <td>7.0</td>\n",
       "      <td>17.0</td>\n",
       "      <td>2015</td>\n",
       "      <td>Ards Brewing Co.</td>\n",
       "      <td>United Kingdom</td>\n",
       "      <td>None</td>\n",
       "      <td>Ireland</td>\n",
       "      <td>None</td>\n",
       "    </tr>\n",
       "    <tr>\n",
       "      <th>41</th>\n",
       "      <td>2013-10-01 12:00:00</td>\n",
       "      <td>155699</td>\n",
       "      <td>224156</td>\n",
       "      <td>13538</td>\n",
       "      <td>4.6</td>\n",
       "      <td>Stout</td>\n",
       "      <td>4.0</td>\n",
       "      <td>3.0</td>\n",
       "      <td>5.0</td>\n",
       "      <td>5.0</td>\n",
       "      <td>8.0</td>\n",
       "      <td>19.0</td>\n",
       "      <td>2013</td>\n",
       "      <td>Ards Brewing Co.</td>\n",
       "      <td>United Kingdom</td>\n",
       "      <td>None</td>\n",
       "      <td>United Kingdom</td>\n",
       "      <td>None</td>\n",
       "    </tr>\n",
       "    <tr>\n",
       "      <th>42</th>\n",
       "      <td>2013-06-18 12:00:00</td>\n",
       "      <td>155699</td>\n",
       "      <td>88501</td>\n",
       "      <td>13538</td>\n",
       "      <td>4.6</td>\n",
       "      <td>Stout</td>\n",
       "      <td>3.6</td>\n",
       "      <td>4.0</td>\n",
       "      <td>7.0</td>\n",
       "      <td>4.0</td>\n",
       "      <td>7.0</td>\n",
       "      <td>14.0</td>\n",
       "      <td>2013</td>\n",
       "      <td>Ards Brewing Co.</td>\n",
       "      <td>United Kingdom</td>\n",
       "      <td>None</td>\n",
       "      <td>New Zealand</td>\n",
       "      <td>None</td>\n",
       "    </tr>\n",
       "    <tr>\n",
       "      <th>43</th>\n",
       "      <td>2011-11-17 12:00:00</td>\n",
       "      <td>155699</td>\n",
       "      <td>128086</td>\n",
       "      <td>13538</td>\n",
       "      <td>4.6</td>\n",
       "      <td>Stout</td>\n",
       "      <td>4.0</td>\n",
       "      <td>5.0</td>\n",
       "      <td>7.0</td>\n",
       "      <td>5.0</td>\n",
       "      <td>7.0</td>\n",
       "      <td>16.0</td>\n",
       "      <td>2011</td>\n",
       "      <td>Ards Brewing Co.</td>\n",
       "      <td>United Kingdom</td>\n",
       "      <td>None</td>\n",
       "      <td>United Kingdom</td>\n",
       "      <td>None</td>\n",
       "    </tr>\n",
       "    <tr>\n",
       "      <th>44</th>\n",
       "      <td>2013-11-23 12:00:00</td>\n",
       "      <td>239097</td>\n",
       "      <td>128086</td>\n",
       "      <td>13538</td>\n",
       "      <td>4.2</td>\n",
       "      <td>Golden Ale/Blond Ale</td>\n",
       "      <td>3.0</td>\n",
       "      <td>3.0</td>\n",
       "      <td>5.0</td>\n",
       "      <td>4.0</td>\n",
       "      <td>6.0</td>\n",
       "      <td>12.0</td>\n",
       "      <td>2013</td>\n",
       "      <td>Ards Brewing Co.</td>\n",
       "      <td>United Kingdom</td>\n",
       "      <td>None</td>\n",
       "      <td>United Kingdom</td>\n",
       "      <td>None</td>\n",
       "    </tr>\n",
       "  </tbody>\n",
       "</table>\n",
       "</div>"
      ],
      "text/plain": [
       "                  date  beer_id  user_id  brewery_id  abv  \\\n",
       "38 2015-04-16 12:00:00   155699   151109       13538  4.6   \n",
       "41 2013-10-01 12:00:00   155699   224156       13538  4.6   \n",
       "42 2013-06-18 12:00:00   155699    88501       13538  4.6   \n",
       "43 2011-11-17 12:00:00   155699   128086       13538  4.6   \n",
       "44 2013-11-23 12:00:00   239097   128086       13538  4.2   \n",
       "\n",
       "                   style  rating  mouthfeel  taste  appearance  aroma  \\\n",
       "38                 Stout     3.7        2.0    8.0         3.0    7.0   \n",
       "41                 Stout     4.0        3.0    5.0         5.0    8.0   \n",
       "42                 Stout     3.6        4.0    7.0         4.0    7.0   \n",
       "43                 Stout     4.0        5.0    7.0         5.0    7.0   \n",
       "44  Golden Ale/Blond Ale     3.0        3.0    5.0         4.0    6.0   \n",
       "\n",
       "    overall  year      brewery_name country_brewery state_brewery  \\\n",
       "38     17.0  2015  Ards Brewing Co.  United Kingdom          None   \n",
       "41     19.0  2013  Ards Brewing Co.  United Kingdom          None   \n",
       "42     14.0  2013  Ards Brewing Co.  United Kingdom          None   \n",
       "43     16.0  2011  Ards Brewing Co.  United Kingdom          None   \n",
       "44     12.0  2013  Ards Brewing Co.  United Kingdom          None   \n",
       "\n",
       "      country_user state_user  \n",
       "38         Ireland       None  \n",
       "41  United Kingdom       None  \n",
       "42     New Zealand       None  \n",
       "43  United Kingdom       None  \n",
       "44  United Kingdom       None  "
      ]
     },
     "execution_count": 10,
     "metadata": {},
     "output_type": "execute_result"
    }
   ],
   "source": [
    "df_ratings_no_text.head(5)"
   ]
  },
  {
   "cell_type": "code",
   "execution_count": 11,
   "metadata": {},
   "outputs": [
    {
     "name": "stdout",
     "output_type": "stream",
     "text": [
      "In the platform there are 6,424,384 different reviews\n"
     ]
    }
   ],
   "source": [
    "print(f\"In the platform there are {format_numeric_values(df_ratings_no_text.shape[0])} different reviews\")"
   ]
  },
  {
   "cell_type": "markdown",
   "metadata": {},
   "source": [
    "The ratings comes from the [RateBeer](ratebeer.com) website which has the following rating system (source [RateBeer Scores](https://www.ratebeer.com/our-scores)):\n",
    "- <b>Aroma</b>: The smell of the beer\n",
    "- <b>Appearance</b>: The color, clarity, head and visual carbonation of this beer.\n",
    "- <b>Taste</b>: The flavors in this beer, thinking about the palate, bitterness and finish.\n",
    "- <b>Mouthfeel</b>: The body of the beer, carbonation and astringency.\n",
    "- <b>Overall</b>: The overall characteristics and your personal experience of the beer.\n",
    "\n",
    "Appearance and Mouthfeel are each scored out of 5. Aroma and Taste are scored out of 10. While Overall is scored out of 20. These all combine to give the beer a total score out of 50 (the <b>Rating</b> column), which is then divided and displayed as a score out of 5 for each rating. <br>\n",
    "The fact that the <b>Rating</b> column is the sum of the other columns is important to keep in mind when analyzing the data in particular when doing correlation analysis. No normalization has been performed at this stage.<br><br>\n",
    "The country of the brewery is computed from the <code>brewery</code> dataset while the country of the user is computed from the <code>user</code> dataset."
   ]
  },
  {
   "cell_type": "code",
   "execution_count": 12,
   "metadata": {},
   "outputs": [
    {
     "name": "stdout",
     "output_type": "stream",
     "text": [
      "In the platform there are 6,424,384 different ratings\n",
      "The first rating was made on 2002-01-01 12:00:00\n",
      "The last rating was made on 2016-12-31 12:00:00\n"
     ]
    }
   ],
   "source": [
    "print(f\"In the platform there are {format_numeric_values(df_ratings_no_text.shape[0])} different ratings\")\n",
    "print(f\"The first rating was made on {df_ratings_no_text['date'].min()}\")\n",
    "print(f\"The last rating was made on {df_ratings_no_text['date'].max()}\")"
   ]
  },
  {
   "cell_type": "markdown",
   "metadata": {},
   "source": [
    "We see that our dataset ends and begin at the beginning of January 2002 and ends at the end of December 2016 with a total of 6,424,384 different ratings. Some of the ratings have been removed to ensure consistent results. <br>\n",
    "We indeed observed that by considering earlier and later ratings the results for those years were not consistent or reasonable mainly because:\n",
    "- The first year that where we have data from the beginning of January is 2001 but the ratings on this year are significantly lower than the rest and doesn't follow the trend of the other years.\n",
    "- The last year that ends at the end of December is 2016 because on 2017 we have not data for the second half of the year. The number of ratings in this year indeed are completely off if compared with the other years."
   ]
  },
  {
   "cell_type": "markdown",
   "metadata": {},
   "source": [
    "Now that we had an overview of the data let's have a look at the geographical distribution of our data in the world."
   ]
  },
  {
   "cell_type": "code",
   "execution_count": 13,
   "metadata": {},
   "outputs": [
    {
     "data": {
      "application/vnd.plotly.v1+json": {
       "config": {
        "plotlyServerURL": "https://plot.ly"
       },
       "data": [
        {
         "colorscale": [
          [
           0,
           "rgb(247,251,255)"
          ],
          [
           0.125,
           "rgb(222,235,247)"
          ],
          [
           0.25,
           "rgb(198,219,239)"
          ],
          [
           0.375,
           "rgb(158,202,225)"
          ],
          [
           0.5,
           "rgb(107,174,214)"
          ],
          [
           0.625,
           "rgb(66,146,198)"
          ],
          [
           0.75,
           "rgb(33,113,181)"
          ],
          [
           0.875,
           "rgb(8,81,156)"
          ],
          [
           1,
           "rgb(8,48,107)"
          ]
         ],
         "hovertemplate": "<b>%{location}</b><br>Count: %{z}<extra></extra>",
         "locationmode": "country names",
         "locations": [
          "Albania",
          "Argentina",
          "Armenia",
          "Australia",
          "Austria",
          "Bahamas",
          "Barbados",
          "Belarus",
          "Belgium",
          "Belize",
          "Bolivia",
          "Bosnia and Herzegovina",
          "Brazil",
          "Bulgaria",
          "Cambodia",
          "Canada",
          "Cayman Islands",
          "Chile",
          "China",
          "Colombia",
          "Costa Rica",
          "Croatia",
          "Cuba",
          "Cyprus",
          "Czech Republic",
          "Denmark",
          "Dominican Republic",
          "Ecuador",
          "Egypt",
          "El Salvador",
          "Estonia",
          "Ethiopia",
          "Faroe Islands",
          "Fiji Islands",
          "Finland",
          "France",
          "French Polynesia",
          "Georgia",
          "Germany",
          "Greece",
          "Greenland",
          "Guatemala",
          "Guernsey",
          "Honduras",
          "Hong Kong",
          "Hungary",
          "Iceland",
          "India",
          "Indonesia",
          "Ireland",
          "Isle of Man",
          "Israel",
          "Italy",
          "Jamaica",
          "Japan",
          "Jersey",
          "Jordan",
          "Kazakhstan",
          "Kenya",
          "Kosovo",
          "Laos",
          "Latvia",
          "Lebanon",
          "Liechtenstein",
          "Lithuania",
          "Luxembourg",
          "Macedonia",
          "Malaysia",
          "Malta",
          "Mauritius",
          "Mexico",
          "Moldova",
          "Mongolia",
          "Montenegro",
          "Morocco",
          "Mozambique",
          "Myanmar",
          "Namibia",
          "Nepal",
          "Netherlands",
          "New Zealand",
          "Nicaragua",
          "Nigeria",
          "Norway",
          "Palestine",
          "Panama",
          "Peru",
          "Philippines",
          "Poland",
          "Portugal",
          "Puerto Rico",
          "Romania",
          "Russia",
          "Serbia",
          "Singapore",
          "Slovak Republic",
          "Slovenia",
          "South Africa",
          "South Korea",
          "Spain",
          "Sri Lanka",
          "Sweden",
          "Switzerland",
          "Taiwan",
          "Tanzania",
          "Thailand",
          "Trinidad & Tobago",
          "Tunisia",
          "Turkey",
          "Uganda",
          "Ukraine",
          "United Kingdom",
          "Uruguay",
          "Venezuela",
          "Vietnam",
          "Virgin Islands (U.S.)"
         ],
         "showscale": false,
         "type": "choropleth",
         "visible": true,
         "z": [
          45,
          515,
          40,
          5276,
          1818,
          18,
          13,
          415,
          5851,
          9,
          54,
          101,
          1252,
          138,
          66,
          17925,
          10,
          405,
          852,
          86,
          110,
          313,
          16,
          39,
          3426,
          7131,
          13,
          121,
          25,
          43,
          849,
          16,
          75,
          13,
          2572,
          4635,
          5,
          49,
          16583,
          218,
          33,
          53,
          25,
          7,
          139,
          1026,
          225,
          304,
          40,
          1061,
          85,
          426,
          5717,
          23,
          3755,
          32,
          11,
          74,
          30,
          19,
          14,
          605,
          19,
          24,
          877,
          73,
          31,
          17,
          26,
          23,
          772,
          131,
          14,
          10,
          8,
          7,
          15,
          23,
          15,
          5702,
          2513,
          18,
          18,
          4114,
          15,
          26,
          133,
          52,
          4364,
          444,
          31,
          201,
          1885,
          214,
          184,
          811,
          420,
          753,
          252,
          3429,
          20,
          5838,
          3938,
          103,
          16,
          182,
          13,
          15,
          107,
          11,
          880,
          47274,
          44,
          23,
          99,
          13
         ]
        },
        {
         "colorbar": {
          "len": 1,
          "title": {
           "text": "Scale"
          }
         },
         "colorscale": [
          [
           0,
           "rgb(247,251,255)"
          ],
          [
           0.125,
           "rgb(222,235,247)"
          ],
          [
           0.25,
           "rgb(198,219,239)"
          ],
          [
           0.375,
           "rgb(158,202,225)"
          ],
          [
           0.5,
           "rgb(107,174,214)"
          ],
          [
           0.625,
           "rgb(66,146,198)"
          ],
          [
           0.75,
           "rgb(33,113,181)"
          ],
          [
           0.875,
           "rgb(8,81,156)"
          ],
          [
           1,
           "rgb(8,48,107)"
          ]
         ],
         "hovertemplate": "<b>%{location}</b><br>Count: %{z}<extra></extra>",
         "locationmode": "USA-states",
         "locations": [
          "AL",
          "AK",
          "AZ",
          "AR",
          "CA",
          "CO",
          "CT",
          "DE",
          "FL",
          "GA",
          "HI",
          "ID",
          "IL",
          "IN",
          "IA",
          "KS",
          "KY",
          "LA",
          "ME",
          "MD",
          "MA",
          "MI",
          "MN",
          "MS",
          "MO",
          "MT",
          "NE",
          "NV",
          "NH",
          "NJ",
          "NM",
          "NY",
          "NC",
          "ND",
          "OH",
          "OK",
          "OR",
          "PA",
          "RI",
          "SC",
          "SD",
          "TN",
          "TX",
          "UT",
          "VT",
          "VA",
          "WA",
          "DC",
          "WV",
          "WI",
          "WY"
         ],
         "type": "choropleth",
         "visible": true,
         "z": [
          710,
          1200,
          2341,
          229,
          19602,
          10308,
          1285,
          549,
          5552,
          1913,
          319,
          1377,
          6328,
          4185,
          1052,
          536,
          1424,
          391,
          1205,
          2447,
          3171,
          6527,
          3827,
          142,
          2483,
          1051,
          747,
          1150,
          1705,
          2224,
          933,
          6573,
          4085,
          140,
          5239,
          397,
          6424,
          7394,
          407,
          874,
          195,
          1048,
          3718,
          864,
          1825,
          4798,
          6611,
          732,
          336,
          4074,
          510
         ],
         "zmax": 47274,
         "zmin": 5
        },
        {
         "colorscale": [
          [
           0,
           "rgb(247,251,255)"
          ],
          [
           0.125,
           "rgb(222,235,247)"
          ],
          [
           0.25,
           "rgb(198,219,239)"
          ],
          [
           0.375,
           "rgb(158,202,225)"
          ],
          [
           0.5,
           "rgb(107,174,214)"
          ],
          [
           0.625,
           "rgb(66,146,198)"
          ],
          [
           0.75,
           "rgb(33,113,181)"
          ],
          [
           0.875,
           "rgb(8,81,156)"
          ],
          [
           1,
           "rgb(8,48,107)"
          ]
         ],
         "hovertemplate": "<b>%{location}</b><br>Count: %{z}<extra></extra>",
         "locationmode": "country names",
         "locations": [
          "Argentina",
          "Ascension Island",
          "Australia",
          "Austria",
          "Belarus",
          "Belgium",
          "Bermuda",
          "Bolivia",
          "Brazil",
          "Bulgaria",
          "Cambodia",
          "Canada",
          "Chile",
          "China",
          "Colombia",
          "Croatia",
          "Cyprus",
          "Czech Republic",
          "Denmark",
          "Dominican Republic",
          "Ecuador",
          "El Salvador",
          "Estonia",
          "Faroe Islands",
          "Finland",
          "France",
          "Germany",
          "Greece",
          "Greenland",
          "Guam",
          "Hong Kong",
          "Hungary",
          "Iceland",
          "India",
          "Indonesia",
          "Ireland",
          "Israel",
          "Italy",
          "Japan",
          "Latvia",
          "Lithuania",
          "Luxembourg",
          "Malaysia",
          "Marshall Islands",
          "Mexico",
          "Moldova",
          "Mozambique",
          "Netherlands",
          "New Zealand",
          "North Korea",
          "Norway",
          "Panama",
          "Peru",
          "Philippines",
          "Poland",
          "Portugal",
          "Puerto Rico",
          "Romania",
          "Russia",
          "Serbia",
          "Singapore",
          "Slovak Republic",
          "Slovenia",
          "South Africa",
          "South Korea",
          "Spain",
          "Sweden",
          "Switzerland",
          "Taiwan",
          "Thailand",
          "Turkey",
          "Ukraine",
          "United Kingdom",
          "Venezuela"
         ],
         "showscale": false,
         "type": "choropleth",
         "visible": false,
         "z": [
          71,
          3,
          1355,
          113,
          19,
          961,
          2,
          4,
          789,
          37,
          10,
          3048,
          89,
          52,
          25,
          135,
          26,
          142,
          966,
          7,
          15,
          21,
          119,
          7,
          423,
          477,
          817,
          151,
          1,
          4,
          32,
          210,
          54,
          38,
          6,
          258,
          77,
          860,
          106,
          69,
          43,
          22,
          10,
          2,
          214,
          12,
          2,
          1025,
          421,
          1,
          644,
          15,
          14,
          30,
          1288,
          89,
          29,
          85,
          175,
          69,
          49,
          84,
          107,
          143,
          58,
          763,
          936,
          179,
          43,
          37,
          78,
          57,
          2941,
          12
         ]
        },
        {
         "colorbar": {
          "len": 1,
          "title": {
           "text": "Scale"
          }
         },
         "colorscale": [
          [
           0,
           "rgb(247,251,255)"
          ],
          [
           0.125,
           "rgb(222,235,247)"
          ],
          [
           0.25,
           "rgb(198,219,239)"
          ],
          [
           0.375,
           "rgb(158,202,225)"
          ],
          [
           0.5,
           "rgb(107,174,214)"
          ],
          [
           0.625,
           "rgb(66,146,198)"
          ],
          [
           0.75,
           "rgb(33,113,181)"
          ],
          [
           0.875,
           "rgb(8,81,156)"
          ],
          [
           1,
           "rgb(8,48,107)"
          ]
         ],
         "hovertemplate": "<b>%{location}</b><br>Count: %{z}<extra></extra>",
         "locationmode": "USA-states",
         "locations": [
          "AL",
          "AK",
          "AZ",
          "AR",
          "CA",
          "CO",
          "CT",
          "DE",
          "FL",
          "GA",
          "HI",
          "ID",
          "IL",
          "IN",
          "IA",
          "KS",
          "KY",
          "LA",
          "ME",
          "MD",
          "MA",
          "MI",
          "MN",
          "MS",
          "MO",
          "MT",
          "NE",
          "NV",
          "NH",
          "NJ",
          "NM",
          "NY",
          "NC",
          "ND",
          "OH",
          "OK",
          "OR",
          "PA",
          "RI",
          "SC",
          "SD",
          "TN",
          "TX",
          "UT",
          "VT",
          "VA",
          "WA",
          "WV",
          "WI",
          "WY"
         ],
         "type": "choropleth",
         "visible": false,
         "z": [
          756,
          75,
          489,
          180,
          2674,
          754,
          268,
          90,
          1219,
          697,
          50,
          136,
          1363,
          595,
          290,
          264,
          281,
          141,
          123,
          514,
          642,
          1099,
          743,
          81,
          466,
          82,
          123,
          140,
          170,
          803,
          110,
          1288,
          698,
          42,
          1120,
          200,
          552,
          1555,
          95,
          252,
          44,
          322,
          1363,
          99,
          110,
          695,
          939,
          95,
          802,
          28
         ],
         "zmax": 3048,
         "zmin": 1
        },
        {
         "colorscale": [
          [
           0,
           "rgb(247,251,255)"
          ],
          [
           0.125,
           "rgb(222,235,247)"
          ],
          [
           0.25,
           "rgb(198,219,239)"
          ],
          [
           0.375,
           "rgb(158,202,225)"
          ],
          [
           0.5,
           "rgb(107,174,214)"
          ],
          [
           0.625,
           "rgb(66,146,198)"
          ],
          [
           0.75,
           "rgb(33,113,181)"
          ],
          [
           0.875,
           "rgb(8,81,156)"
          ],
          [
           1,
           "rgb(8,48,107)"
          ]
         ],
         "hovertemplate": "<b>%{location}</b><br>Count: %{z}<extra></extra>",
         "locationmode": "country names",
         "locations": [
          "Albania",
          "Argentina",
          "Armenia",
          "Australia",
          "Austria",
          "Bahamas",
          "Barbados",
          "Belarus",
          "Belgium",
          "Belize",
          "Bolivia",
          "Bosnia and Herzegovina",
          "Brazil",
          "Bulgaria",
          "Cambodia",
          "Canada",
          "Cayman Islands",
          "Chile",
          "China",
          "Colombia",
          "Costa Rica",
          "Croatia",
          "Cuba",
          "Cyprus",
          "Czech Republic",
          "Denmark",
          "Dominican Republic",
          "Ecuador",
          "Egypt",
          "El Salvador",
          "Estonia",
          "Ethiopia",
          "Faroe Islands",
          "Fiji Islands",
          "Finland",
          "France",
          "French Polynesia",
          "Georgia",
          "Germany",
          "Greece",
          "Greenland",
          "Guatemala",
          "Guernsey",
          "Honduras",
          "Hong Kong",
          "Hungary",
          "Iceland",
          "India",
          "Indonesia",
          "Ireland",
          "Isle of Man",
          "Israel",
          "Italy",
          "Jamaica",
          "Japan",
          "Jersey",
          "Jordan",
          "Kazakhstan",
          "Kenya",
          "Kosovo",
          "Laos",
          "Latvia",
          "Lebanon",
          "Liechtenstein",
          "Lithuania",
          "Luxembourg",
          "Macedonia",
          "Malaysia",
          "Malta",
          "Mauritius",
          "Mexico",
          "Moldova",
          "Mongolia",
          "Montenegro",
          "Morocco",
          "Mozambique",
          "Myanmar",
          "Namibia",
          "Nepal",
          "Netherlands",
          "New Zealand",
          "Nicaragua",
          "Nigeria",
          "Norway",
          "Palestine",
          "Panama",
          "Peru",
          "Philippines",
          "Poland",
          "Portugal",
          "Puerto Rico",
          "Romania",
          "Russia",
          "Serbia",
          "Singapore",
          "Slovak Republic",
          "Slovenia",
          "South Africa",
          "South Korea",
          "Spain",
          "Sri Lanka",
          "Sweden",
          "Switzerland",
          "Taiwan",
          "Tanzania",
          "Thailand",
          "Trinidad & Tobago",
          "Tunisia",
          "Turkey",
          "Uganda",
          "Ukraine",
          "United Kingdom",
          "Uruguay",
          "Venezuela",
          "Vietnam",
          "Virgin Islands (U.S.)"
         ],
         "showscale": false,
         "type": "choropleth",
         "visible": false,
         "z": [
          14,
          182,
          7,
          458,
          247,
          4,
          2,
          37,
          363,
          2,
          19,
          20,
          280,
          24,
          18,
          717,
          4,
          124,
          162,
          19,
          32,
          52,
          7,
          8,
          401,
          231,
          3,
          31,
          3,
          4,
          61,
          8,
          3,
          3,
          101,
          669,
          1,
          13,
          1806,
          50,
          6,
          5,
          3,
          2,
          19,
          117,
          13,
          62,
          9,
          110,
          5,
          65,
          787,
          3,
          288,
          2,
          4,
          26,
          4,
          6,
          4,
          48,
          4,
          2,
          77,
          14,
          7,
          5,
          3,
          4,
          227,
          17,
          8,
          4,
          1,
          1,
          5,
          3,
          7,
          402,
          190,
          5,
          6,
          209,
          3,
          7,
          38,
          16,
          268,
          80,
          8,
          41,
          272,
          44,
          18,
          82,
          90,
          169,
          52,
          595,
          4,
          312,
          486,
          18,
          5,
          48,
          2,
          5,
          11,
          4,
          110,
          2175,
          11,
          7,
          49,
          3
         ]
        },
        {
         "colorbar": {
          "len": 1,
          "title": {
           "text": "Scale"
          }
         },
         "colorscale": [
          [
           0,
           "rgb(247,251,255)"
          ],
          [
           0.125,
           "rgb(222,235,247)"
          ],
          [
           0.25,
           "rgb(198,219,239)"
          ],
          [
           0.375,
           "rgb(158,202,225)"
          ],
          [
           0.5,
           "rgb(107,174,214)"
          ],
          [
           0.625,
           "rgb(66,146,198)"
          ],
          [
           0.75,
           "rgb(33,113,181)"
          ],
          [
           0.875,
           "rgb(8,81,156)"
          ],
          [
           1,
           "rgb(8,48,107)"
          ]
         ],
         "hovertemplate": "<b>%{location}</b><br>Count: %{z}<extra></extra>",
         "locationmode": "USA-states",
         "locations": [
          "AL",
          "AK",
          "AZ",
          "AR",
          "CA",
          "CO",
          "CT",
          "DE",
          "FL",
          "GA",
          "HI",
          "ID",
          "IL",
          "IN",
          "IA",
          "KS",
          "KY",
          "LA",
          "ME",
          "MD",
          "MA",
          "MI",
          "MN",
          "MS",
          "MO",
          "MT",
          "NE",
          "NV",
          "NH",
          "NJ",
          "NM",
          "NY",
          "NC",
          "ND",
          "OH",
          "OK",
          "OR",
          "PA",
          "RI",
          "SC",
          "SD",
          "TN",
          "TX",
          "UT",
          "VT",
          "VA",
          "WA",
          "DC",
          "WV",
          "WI",
          "WY"
         ],
         "type": "choropleth",
         "visible": false,
         "z": [
          35,
          32,
          102,
          26,
          724,
          342,
          57,
          21,
          202,
          72,
          21,
          57,
          197,
          142,
          81,
          29,
          42,
          27,
          71,
          78,
          125,
          256,
          138,
          12,
          90,
          66,
          35,
          49,
          61,
          87,
          57,
          297,
          179,
          12,
          172,
          22,
          224,
          246,
          18,
          52,
          18,
          68,
          195,
          23,
          77,
          161,
          326,
          11,
          21,
          176,
          26
         ],
         "zmax": 2175,
         "zmin": 1
        },
        {
         "colorscale": [
          [
           0,
           "rgb(247,251,255)"
          ],
          [
           0.125,
           "rgb(222,235,247)"
          ],
          [
           0.25,
           "rgb(198,219,239)"
          ],
          [
           0.375,
           "rgb(158,202,225)"
          ],
          [
           0.5,
           "rgb(107,174,214)"
          ],
          [
           0.625,
           "rgb(66,146,198)"
          ],
          [
           0.75,
           "rgb(33,113,181)"
          ],
          [
           0.875,
           "rgb(8,81,156)"
          ],
          [
           1,
           "rgb(8,48,107)"
          ]
         ],
         "hovertemplate": "<b>%{location}</b><br>Count: %{z}<extra></extra>",
         "locationmode": "country names",
         "locations": [
          "Albania",
          "Argentina",
          "Armenia",
          "Australia",
          "Austria",
          "Bahamas",
          "Barbados",
          "Belarus",
          "Belgium",
          "Belize",
          "Bolivia",
          "Bosnia and Herzegovina",
          "Brazil",
          "Bulgaria",
          "Cambodia",
          "Canada",
          "Cayman Islands",
          "Chile",
          "China",
          "Colombia",
          "Costa Rica",
          "Croatia",
          "Cuba",
          "Cyprus",
          "Czech Republic",
          "Denmark",
          "Dominican Republic",
          "Ecuador",
          "Egypt",
          "El Salvador",
          "Estonia",
          "Ethiopia",
          "Faroe Islands",
          "Fiji Islands",
          "Finland",
          "France",
          "French Polynesia",
          "Georgia",
          "Germany",
          "Greece",
          "Greenland",
          "Guatemala",
          "Guernsey",
          "Honduras",
          "Hong Kong",
          "Hungary",
          "Iceland",
          "India",
          "Indonesia",
          "Ireland",
          "Isle of Man",
          "Israel",
          "Italy",
          "Jamaica",
          "Japan",
          "Jersey",
          "Jordan",
          "Kazakhstan",
          "Kenya",
          "Kosovo",
          "Laos",
          "Latvia",
          "Lebanon",
          "Liechtenstein",
          "Lithuania",
          "Luxembourg",
          "Macedonia",
          "Malaysia",
          "Malta",
          "Mauritius",
          "Mexico",
          "Moldova",
          "Mongolia",
          "Montenegro",
          "Morocco",
          "Mozambique",
          "Myanmar",
          "Namibia",
          "Nepal",
          "Netherlands",
          "New Zealand",
          "Nicaragua",
          "Nigeria",
          "Norway",
          "Palestine",
          "Panama",
          "Peru",
          "Philippines",
          "Poland",
          "Portugal",
          "Puerto Rico",
          "Romania",
          "Russia",
          "Serbia",
          "Singapore",
          "Slovak Republic",
          "Slovenia",
          "South Africa",
          "South Korea",
          "Spain",
          "Sri Lanka",
          "Sweden",
          "Switzerland",
          "Taiwan",
          "Tanzania",
          "Thailand",
          "Trinidad & Tobago",
          "Tunisia",
          "Turkey",
          "Uganda",
          "Ukraine",
          "United Kingdom",
          "Uruguay",
          "Venezuela",
          "Vietnam",
          "Virgin Islands (U.S.)"
         ],
         "showscale": false,
         "type": "choropleth",
         "visible": false,
         "z": [
          657,
          4449,
          776,
          61303,
          38201,
          848,
          726,
          2068,
          580500,
          388,
          583,
          1456,
          14400,
          1966,
          1002,
          302641,
          265,
          2985,
          8045,
          1307,
          1413,
          7633,
          1060,
          943,
          78701,
          244802,
          1068,
          593,
          713,
          1432,
          21699,
          928,
          2390,
          278,
          50091,
          67897,
          535,
          635,
          456666,
          8323,
          1023,
          1264,
          287,
          544,
          945,
          11408,
          7448,
          4420,
          981,
          36265,
          1323,
          5706,
          87251,
          3582,
          38162,
          446,
          275,
          323,
          1381,
          444,
          890,
          8512,
          1318,
          640,
          12544,
          2572,
          478,
          646,
          1281,
          461,
          25809,
          860,
          271,
          718,
          695,
          286,
          306,
          986,
          277,
          162484,
          38162,
          498,
          638,
          117546,
          609,
          477,
          2042,
          2125,
          104711,
          6774,
          504,
          3093,
          18164,
          2959,
          3391,
          11581,
          5948,
          4643,
          2418,
          52569,
          2681,
          142710,
          26010,
          779,
          434,
          4322,
          2292,
          280,
          3649,
          322,
          7790,
          696533,
          408,
          536,
          2335,
          715
         ]
        },
        {
         "colorbar": {
          "len": 1,
          "title": {
           "text": "Scale"
          }
         },
         "colorscale": [
          [
           0,
           "rgb(247,251,255)"
          ],
          [
           0.125,
           "rgb(222,235,247)"
          ],
          [
           0.25,
           "rgb(198,219,239)"
          ],
          [
           0.375,
           "rgb(158,202,225)"
          ],
          [
           0.5,
           "rgb(107,174,214)"
          ],
          [
           0.625,
           "rgb(66,146,198)"
          ],
          [
           0.75,
           "rgb(33,113,181)"
          ],
          [
           0.875,
           "rgb(8,81,156)"
          ],
          [
           1,
           "rgb(8,48,107)"
          ]
         ],
         "hovertemplate": "<b>%{location}</b><br>Count: %{z}<extra></extra>",
         "locationmode": "USA-states",
         "locations": [
          "AL",
          "AK",
          "AZ",
          "AR",
          "CA",
          "CO",
          "CT",
          "DE",
          "FL",
          "GA",
          "HI",
          "ID",
          "IL",
          "IN",
          "IA",
          "KS",
          "KY",
          "LA",
          "ME",
          "MD",
          "MA",
          "MI",
          "MN",
          "MS",
          "MO",
          "MT",
          "NE",
          "NV",
          "NH",
          "NJ",
          "NM",
          "NY",
          "NC",
          "ND",
          "OH",
          "OK",
          "OR",
          "PA",
          "RI",
          "SC",
          "SD",
          "TN",
          "TX",
          "UT",
          "VT",
          "VA",
          "WA",
          "DC",
          "WV",
          "WI",
          "WY"
         ],
         "type": "choropleth",
         "visible": false,
         "z": [
          5903,
          28788,
          19800,
          2206,
          496366,
          176332,
          14237,
          12438,
          42527,
          43216,
          14114,
          16437,
          98116,
          33528,
          13654,
          8949,
          12631,
          15330,
          54289,
          76741,
          76926,
          102219,
          51312,
          3073,
          97250,
          14088,
          7847,
          8655,
          33351,
          28548,
          9839,
          225565,
          52253,
          730,
          71091,
          17227,
          159350,
          109694,
          6050,
          17762,
          1060,
          15182,
          66529,
          27881,
          68343,
          43205,
          86533,
          7477,
          2584,
          154793,
          3839
         ],
         "zmax": 696533,
         "zmin": 265
        },
        {
         "colorscale": [
          [
           0,
           "rgb(247,251,255)"
          ],
          [
           0.125,
           "rgb(222,235,247)"
          ],
          [
           0.25,
           "rgb(198,219,239)"
          ],
          [
           0.375,
           "rgb(158,202,225)"
          ],
          [
           0.5,
           "rgb(107,174,214)"
          ],
          [
           0.625,
           "rgb(66,146,198)"
          ],
          [
           0.75,
           "rgb(33,113,181)"
          ],
          [
           0.875,
           "rgb(8,81,156)"
          ],
          [
           1,
           "rgb(8,48,107)"
          ]
         ],
         "hovertemplate": "<b>%{location}</b><br>Count: %{z}<extra></extra>",
         "locationmode": "country names",
         "locations": [
          "Argentina",
          "Ascension Island",
          "Australia",
          "Austria",
          "Belarus",
          "Belgium",
          "Bermuda",
          "Bolivia",
          "Brazil",
          "Bulgaria",
          "Cambodia",
          "Canada",
          "Chile",
          "China",
          "Colombia",
          "Croatia",
          "Cyprus",
          "Czech Republic",
          "Denmark",
          "Dominican Republic",
          "Ecuador",
          "El Salvador",
          "Estonia",
          "Faroe Islands",
          "Finland",
          "France",
          "Germany",
          "Greece",
          "Greenland",
          "Guam",
          "Hong Kong",
          "Hungary",
          "Iceland",
          "India",
          "Indonesia",
          "Ireland",
          "Israel",
          "Italy",
          "Japan",
          "Latvia",
          "Lithuania",
          "Luxembourg",
          "Malaysia",
          "Marshall Islands",
          "Mexico",
          "Moldova",
          "Mozambique",
          "Netherlands",
          "New Zealand",
          "North Korea",
          "Norway",
          "Panama",
          "Peru",
          "Philippines",
          "Poland",
          "Portugal",
          "Puerto Rico",
          "Romania",
          "Russia",
          "Serbia",
          "Singapore",
          "Slovak Republic",
          "Slovenia",
          "South Africa",
          "South Korea",
          "Spain",
          "Sweden",
          "Switzerland",
          "Taiwan",
          "Thailand",
          "Turkey",
          "Ukraine",
          "United Kingdom",
          "Venezuela"
         ],
         "showscale": false,
         "type": "choropleth",
         "visible": false,
         "z": [
          564,
          395,
          94191,
          12015,
          4693,
          112247,
          1462,
          865,
          13787,
          322,
          1995,
          490043,
          3612,
          1460,
          324,
          28356,
          2458,
          23469,
          546124,
          1673,
          434,
          3087,
          45348,
          9058,
          178043,
          30146,
          196462,
          8312,
          276,
          464,
          3511,
          20996,
          2957,
          726,
          857,
          13173,
          27221,
          52329,
          30761,
          5593,
          2026,
          3180,
          7134,
          1002,
          8077,
          4085,
          1957,
          209261,
          22818,
          575,
          201693,
          341,
          269,
          486,
          107918,
          7232,
          293,
          2750,
          5645,
          3192,
          935,
          24913,
          8331,
          3920,
          721,
          47642,
          262688,
          27165,
          1685,
          10360,
          3311,
          3190,
          496158,
          2581
         ]
        },
        {
         "colorbar": {
          "len": 1,
          "title": {
           "text": "Scale"
          }
         },
         "colorscale": [
          [
           0,
           "rgb(247,251,255)"
          ],
          [
           0.125,
           "rgb(222,235,247)"
          ],
          [
           0.25,
           "rgb(198,219,239)"
          ],
          [
           0.375,
           "rgb(158,202,225)"
          ],
          [
           0.5,
           "rgb(107,174,214)"
          ],
          [
           0.625,
           "rgb(66,146,198)"
          ],
          [
           0.75,
           "rgb(33,113,181)"
          ],
          [
           0.875,
           "rgb(8,81,156)"
          ],
          [
           1,
           "rgb(8,48,107)"
          ]
         ],
         "hovertemplate": "<b>%{location}</b><br>Count: %{z}<extra></extra>",
         "locationmode": "USA-states",
         "locations": [
          "AL",
          "AK",
          "AZ",
          "AR",
          "CA",
          "CO",
          "CT",
          "DE",
          "FL",
          "GA",
          "HI",
          "ID",
          "IL",
          "IN",
          "IA",
          "KS",
          "KY",
          "LA",
          "ME",
          "MD",
          "MA",
          "MI",
          "MN",
          "MS",
          "MO",
          "MT",
          "NE",
          "NV",
          "NH",
          "NJ",
          "NM",
          "NY",
          "NC",
          "ND",
          "OH",
          "OK",
          "OR",
          "PA",
          "RI",
          "SC",
          "SD",
          "TN",
          "TX",
          "UT",
          "VT",
          "VA",
          "WA",
          "WV",
          "WI",
          "WY"
         ],
         "type": "choropleth",
         "visible": false,
         "z": [
          24250,
          9454,
          63510,
          8069,
          303902,
          110111,
          27487,
          13742,
          142481,
          76668,
          2129,
          34575,
          169189,
          74293,
          35072,
          22106,
          26655,
          11331,
          8917,
          75995,
          47687,
          84591,
          110059,
          3753,
          47991,
          4818,
          14351,
          23415,
          31499,
          121599,
          5302,
          133661,
          81325,
          2690,
          140643,
          10793,
          59440,
          212388,
          3682,
          13881,
          1570,
          52185,
          155208,
          11850,
          11974,
          104068,
          140965,
          6604,
          90956,
          2157
         ],
         "zmax": 546124,
         "zmin": 269
        }
       ],
       "layout": {
        "geo": {
         "projection": {
          "type": "equirectangular"
         },
         "showcoastlines": true,
         "showframe": false
        },
        "height": 600,
        "template": {
         "data": {
          "bar": [
           {
            "error_x": {
             "color": "#2a3f5f"
            },
            "error_y": {
             "color": "#2a3f5f"
            },
            "marker": {
             "line": {
              "color": "#E5ECF6",
              "width": 0.5
             },
             "pattern": {
              "fillmode": "overlay",
              "size": 10,
              "solidity": 0.2
             }
            },
            "type": "bar"
           }
          ],
          "barpolar": [
           {
            "marker": {
             "line": {
              "color": "#E5ECF6",
              "width": 0.5
             },
             "pattern": {
              "fillmode": "overlay",
              "size": 10,
              "solidity": 0.2
             }
            },
            "type": "barpolar"
           }
          ],
          "carpet": [
           {
            "aaxis": {
             "endlinecolor": "#2a3f5f",
             "gridcolor": "white",
             "linecolor": "white",
             "minorgridcolor": "white",
             "startlinecolor": "#2a3f5f"
            },
            "baxis": {
             "endlinecolor": "#2a3f5f",
             "gridcolor": "white",
             "linecolor": "white",
             "minorgridcolor": "white",
             "startlinecolor": "#2a3f5f"
            },
            "type": "carpet"
           }
          ],
          "choropleth": [
           {
            "colorbar": {
             "outlinewidth": 0,
             "ticks": ""
            },
            "type": "choropleth"
           }
          ],
          "contour": [
           {
            "colorbar": {
             "outlinewidth": 0,
             "ticks": ""
            },
            "colorscale": [
             [
              0,
              "#0d0887"
             ],
             [
              0.1111111111111111,
              "#46039f"
             ],
             [
              0.2222222222222222,
              "#7201a8"
             ],
             [
              0.3333333333333333,
              "#9c179e"
             ],
             [
              0.4444444444444444,
              "#bd3786"
             ],
             [
              0.5555555555555556,
              "#d8576b"
             ],
             [
              0.6666666666666666,
              "#ed7953"
             ],
             [
              0.7777777777777778,
              "#fb9f3a"
             ],
             [
              0.8888888888888888,
              "#fdca26"
             ],
             [
              1,
              "#f0f921"
             ]
            ],
            "type": "contour"
           }
          ],
          "contourcarpet": [
           {
            "colorbar": {
             "outlinewidth": 0,
             "ticks": ""
            },
            "type": "contourcarpet"
           }
          ],
          "heatmap": [
           {
            "colorbar": {
             "outlinewidth": 0,
             "ticks": ""
            },
            "colorscale": [
             [
              0,
              "#0d0887"
             ],
             [
              0.1111111111111111,
              "#46039f"
             ],
             [
              0.2222222222222222,
              "#7201a8"
             ],
             [
              0.3333333333333333,
              "#9c179e"
             ],
             [
              0.4444444444444444,
              "#bd3786"
             ],
             [
              0.5555555555555556,
              "#d8576b"
             ],
             [
              0.6666666666666666,
              "#ed7953"
             ],
             [
              0.7777777777777778,
              "#fb9f3a"
             ],
             [
              0.8888888888888888,
              "#fdca26"
             ],
             [
              1,
              "#f0f921"
             ]
            ],
            "type": "heatmap"
           }
          ],
          "heatmapgl": [
           {
            "colorbar": {
             "outlinewidth": 0,
             "ticks": ""
            },
            "colorscale": [
             [
              0,
              "#0d0887"
             ],
             [
              0.1111111111111111,
              "#46039f"
             ],
             [
              0.2222222222222222,
              "#7201a8"
             ],
             [
              0.3333333333333333,
              "#9c179e"
             ],
             [
              0.4444444444444444,
              "#bd3786"
             ],
             [
              0.5555555555555556,
              "#d8576b"
             ],
             [
              0.6666666666666666,
              "#ed7953"
             ],
             [
              0.7777777777777778,
              "#fb9f3a"
             ],
             [
              0.8888888888888888,
              "#fdca26"
             ],
             [
              1,
              "#f0f921"
             ]
            ],
            "type": "heatmapgl"
           }
          ],
          "histogram": [
           {
            "marker": {
             "pattern": {
              "fillmode": "overlay",
              "size": 10,
              "solidity": 0.2
             }
            },
            "type": "histogram"
           }
          ],
          "histogram2d": [
           {
            "colorbar": {
             "outlinewidth": 0,
             "ticks": ""
            },
            "colorscale": [
             [
              0,
              "#0d0887"
             ],
             [
              0.1111111111111111,
              "#46039f"
             ],
             [
              0.2222222222222222,
              "#7201a8"
             ],
             [
              0.3333333333333333,
              "#9c179e"
             ],
             [
              0.4444444444444444,
              "#bd3786"
             ],
             [
              0.5555555555555556,
              "#d8576b"
             ],
             [
              0.6666666666666666,
              "#ed7953"
             ],
             [
              0.7777777777777778,
              "#fb9f3a"
             ],
             [
              0.8888888888888888,
              "#fdca26"
             ],
             [
              1,
              "#f0f921"
             ]
            ],
            "type": "histogram2d"
           }
          ],
          "histogram2dcontour": [
           {
            "colorbar": {
             "outlinewidth": 0,
             "ticks": ""
            },
            "colorscale": [
             [
              0,
              "#0d0887"
             ],
             [
              0.1111111111111111,
              "#46039f"
             ],
             [
              0.2222222222222222,
              "#7201a8"
             ],
             [
              0.3333333333333333,
              "#9c179e"
             ],
             [
              0.4444444444444444,
              "#bd3786"
             ],
             [
              0.5555555555555556,
              "#d8576b"
             ],
             [
              0.6666666666666666,
              "#ed7953"
             ],
             [
              0.7777777777777778,
              "#fb9f3a"
             ],
             [
              0.8888888888888888,
              "#fdca26"
             ],
             [
              1,
              "#f0f921"
             ]
            ],
            "type": "histogram2dcontour"
           }
          ],
          "mesh3d": [
           {
            "colorbar": {
             "outlinewidth": 0,
             "ticks": ""
            },
            "type": "mesh3d"
           }
          ],
          "parcoords": [
           {
            "line": {
             "colorbar": {
              "outlinewidth": 0,
              "ticks": ""
             }
            },
            "type": "parcoords"
           }
          ],
          "pie": [
           {
            "automargin": true,
            "type": "pie"
           }
          ],
          "scatter": [
           {
            "fillpattern": {
             "fillmode": "overlay",
             "size": 10,
             "solidity": 0.2
            },
            "type": "scatter"
           }
          ],
          "scatter3d": [
           {
            "line": {
             "colorbar": {
              "outlinewidth": 0,
              "ticks": ""
             }
            },
            "marker": {
             "colorbar": {
              "outlinewidth": 0,
              "ticks": ""
             }
            },
            "type": "scatter3d"
           }
          ],
          "scattercarpet": [
           {
            "marker": {
             "colorbar": {
              "outlinewidth": 0,
              "ticks": ""
             }
            },
            "type": "scattercarpet"
           }
          ],
          "scattergeo": [
           {
            "marker": {
             "colorbar": {
              "outlinewidth": 0,
              "ticks": ""
             }
            },
            "type": "scattergeo"
           }
          ],
          "scattergl": [
           {
            "marker": {
             "colorbar": {
              "outlinewidth": 0,
              "ticks": ""
             }
            },
            "type": "scattergl"
           }
          ],
          "scattermapbox": [
           {
            "marker": {
             "colorbar": {
              "outlinewidth": 0,
              "ticks": ""
             }
            },
            "type": "scattermapbox"
           }
          ],
          "scatterpolar": [
           {
            "marker": {
             "colorbar": {
              "outlinewidth": 0,
              "ticks": ""
             }
            },
            "type": "scatterpolar"
           }
          ],
          "scatterpolargl": [
           {
            "marker": {
             "colorbar": {
              "outlinewidth": 0,
              "ticks": ""
             }
            },
            "type": "scatterpolargl"
           }
          ],
          "scatterternary": [
           {
            "marker": {
             "colorbar": {
              "outlinewidth": 0,
              "ticks": ""
             }
            },
            "type": "scatterternary"
           }
          ],
          "surface": [
           {
            "colorbar": {
             "outlinewidth": 0,
             "ticks": ""
            },
            "colorscale": [
             [
              0,
              "#0d0887"
             ],
             [
              0.1111111111111111,
              "#46039f"
             ],
             [
              0.2222222222222222,
              "#7201a8"
             ],
             [
              0.3333333333333333,
              "#9c179e"
             ],
             [
              0.4444444444444444,
              "#bd3786"
             ],
             [
              0.5555555555555556,
              "#d8576b"
             ],
             [
              0.6666666666666666,
              "#ed7953"
             ],
             [
              0.7777777777777778,
              "#fb9f3a"
             ],
             [
              0.8888888888888888,
              "#fdca26"
             ],
             [
              1,
              "#f0f921"
             ]
            ],
            "type": "surface"
           }
          ],
          "table": [
           {
            "cells": {
             "fill": {
              "color": "#EBF0F8"
             },
             "line": {
              "color": "white"
             }
            },
            "header": {
             "fill": {
              "color": "#C8D4E3"
             },
             "line": {
              "color": "white"
             }
            },
            "type": "table"
           }
          ]
         },
         "layout": {
          "annotationdefaults": {
           "arrowcolor": "#2a3f5f",
           "arrowhead": 0,
           "arrowwidth": 1
          },
          "autotypenumbers": "strict",
          "coloraxis": {
           "colorbar": {
            "outlinewidth": 0,
            "ticks": ""
           }
          },
          "colorscale": {
           "diverging": [
            [
             0,
             "#8e0152"
            ],
            [
             0.1,
             "#c51b7d"
            ],
            [
             0.2,
             "#de77ae"
            ],
            [
             0.3,
             "#f1b6da"
            ],
            [
             0.4,
             "#fde0ef"
            ],
            [
             0.5,
             "#f7f7f7"
            ],
            [
             0.6,
             "#e6f5d0"
            ],
            [
             0.7,
             "#b8e186"
            ],
            [
             0.8,
             "#7fbc41"
            ],
            [
             0.9,
             "#4d9221"
            ],
            [
             1,
             "#276419"
            ]
           ],
           "sequential": [
            [
             0,
             "#0d0887"
            ],
            [
             0.1111111111111111,
             "#46039f"
            ],
            [
             0.2222222222222222,
             "#7201a8"
            ],
            [
             0.3333333333333333,
             "#9c179e"
            ],
            [
             0.4444444444444444,
             "#bd3786"
            ],
            [
             0.5555555555555556,
             "#d8576b"
            ],
            [
             0.6666666666666666,
             "#ed7953"
            ],
            [
             0.7777777777777778,
             "#fb9f3a"
            ],
            [
             0.8888888888888888,
             "#fdca26"
            ],
            [
             1,
             "#f0f921"
            ]
           ],
           "sequentialminus": [
            [
             0,
             "#0d0887"
            ],
            [
             0.1111111111111111,
             "#46039f"
            ],
            [
             0.2222222222222222,
             "#7201a8"
            ],
            [
             0.3333333333333333,
             "#9c179e"
            ],
            [
             0.4444444444444444,
             "#bd3786"
            ],
            [
             0.5555555555555556,
             "#d8576b"
            ],
            [
             0.6666666666666666,
             "#ed7953"
            ],
            [
             0.7777777777777778,
             "#fb9f3a"
            ],
            [
             0.8888888888888888,
             "#fdca26"
            ],
            [
             1,
             "#f0f921"
            ]
           ]
          },
          "colorway": [
           "#636efa",
           "#EF553B",
           "#00cc96",
           "#ab63fa",
           "#FFA15A",
           "#19d3f3",
           "#FF6692",
           "#B6E880",
           "#FF97FF",
           "#FECB52"
          ],
          "font": {
           "color": "#2a3f5f"
          },
          "geo": {
           "bgcolor": "white",
           "lakecolor": "white",
           "landcolor": "#E5ECF6",
           "showlakes": true,
           "showland": true,
           "subunitcolor": "white"
          },
          "hoverlabel": {
           "align": "left"
          },
          "hovermode": "closest",
          "mapbox": {
           "style": "light"
          },
          "paper_bgcolor": "white",
          "plot_bgcolor": "#E5ECF6",
          "polar": {
           "angularaxis": {
            "gridcolor": "white",
            "linecolor": "white",
            "ticks": ""
           },
           "bgcolor": "#E5ECF6",
           "radialaxis": {
            "gridcolor": "white",
            "linecolor": "white",
            "ticks": ""
           }
          },
          "scene": {
           "xaxis": {
            "backgroundcolor": "#E5ECF6",
            "gridcolor": "white",
            "gridwidth": 2,
            "linecolor": "white",
            "showbackground": true,
            "ticks": "",
            "zerolinecolor": "white"
           },
           "yaxis": {
            "backgroundcolor": "#E5ECF6",
            "gridcolor": "white",
            "gridwidth": 2,
            "linecolor": "white",
            "showbackground": true,
            "ticks": "",
            "zerolinecolor": "white"
           },
           "zaxis": {
            "backgroundcolor": "#E5ECF6",
            "gridcolor": "white",
            "gridwidth": 2,
            "linecolor": "white",
            "showbackground": true,
            "ticks": "",
            "zerolinecolor": "white"
           }
          },
          "shapedefaults": {
           "line": {
            "color": "#2a3f5f"
           }
          },
          "ternary": {
           "aaxis": {
            "gridcolor": "white",
            "linecolor": "white",
            "ticks": ""
           },
           "baxis": {
            "gridcolor": "white",
            "linecolor": "white",
            "ticks": ""
           },
           "bgcolor": "#E5ECF6",
           "caxis": {
            "gridcolor": "white",
            "linecolor": "white",
            "ticks": ""
           }
          },
          "title": {
           "x": 0.05
          },
          "xaxis": {
           "automargin": true,
           "gridcolor": "white",
           "linecolor": "white",
           "ticks": "",
           "title": {
            "standoff": 15
           },
           "zerolinecolor": "white",
           "zerolinewidth": 2
          },
          "yaxis": {
           "automargin": true,
           "gridcolor": "white",
           "linecolor": "white",
           "ticks": "",
           "title": {
            "standoff": 15
           },
           "zerolinecolor": "white",
           "zerolinewidth": 2
          }
         }
        },
        "updatemenus": [
         {
          "buttons": [
           {
            "args": [
             {
              "visible": [
               true,
               true,
               false,
               false,
               false,
               false,
               false,
               false,
               false,
               false
              ]
             }
            ],
            "label": "Beers per country",
            "method": "update"
           },
           {
            "args": [
             {
              "visible": [
               false,
               false,
               true,
               true,
               false,
               false,
               false,
               false,
               false,
               false
              ]
             }
            ],
            "label": "Users per country",
            "method": "update"
           },
           {
            "args": [
             {
              "visible": [
               false,
               false,
               false,
               false,
               true,
               true,
               false,
               false,
               false,
               false
              ]
             }
            ],
            "label": "Breweries per country",
            "method": "update"
           },
           {
            "args": [
             {
              "visible": [
               false,
               false,
               false,
               false,
               false,
               false,
               true,
               true,
               false,
               false
              ]
             }
            ],
            "label": "Number of ratings based on the brewery country",
            "method": "update"
           },
           {
            "args": [
             {
              "visible": [
               false,
               false,
               false,
               false,
               false,
               false,
               false,
               false,
               true,
               true
              ]
             }
            ],
            "label": "Number of ratings based on the reviewer country",
            "method": "update"
           }
          ],
          "direction": "down",
          "x": 0.1,
          "xanchor": "left",
          "y": 1,
          "yanchor": "top"
         }
        ],
        "width": 800
       }
      }
     },
     "metadata": {},
     "output_type": "display_data"
    }
   ],
   "source": [
    "# Include the class that contains all the code useful for the data presentation\n",
    "from src.processing import presentation as pr\n",
    "presentation = pr.DataPresentation(df_beers, df_breweries, df_users, df_ratings_no_text, f'{SAVING_FOLDER}/data_presentation')\n",
    "\n",
    "# Get the aggregated spatial data\n",
    "df_no_US, df_US = presentation.get_spatial_data()\n",
    "\n",
    "# Define some options for the plot\n",
    "options = {\n",
    "    \"plots\": [\n",
    "        { 'label': 'Beers per country', 'location_label': 'location', 'z_label': 'count', 'colorscale': 'Blues', 'show_title': False },\n",
    "        { 'label': 'Users per country', 'location_label': 'location', 'z_label': 'count', 'colorscale': 'Blues' , 'show_title': False},\n",
    "        { 'label': 'Breweries per country', 'location_label': 'location', 'z_label': 'count', 'colorscale': 'Blues' , 'show_title': False},\n",
    "        { 'label': 'Number of ratings based on the brewery country', 'location_label': 'location', 'z_label': 'count', 'colorscale': 'Blues' , 'show_title': False},\n",
    "        { 'label': 'Number of ratings based on the reviewer country', 'location_label': 'location', 'z_label': 'count', 'colorscale': 'Blues' , 'show_title': False},\n",
    "    ]\n",
    "}\n",
    "\n",
    "# Plot the map\n",
    "plot_map(df_no_US, df_US, options, SAVING_FOLDER + 'data_presentation', 'ratings_map')"
   ]
  },
  {
   "cell_type": "code",
   "execution_count": 14,
   "metadata": {},
   "outputs": [
    {
     "data": {
      "application/vnd.plotly.v1+json": {
       "config": {
        "plotlyServerURL": "https://plot.ly"
       },
       "data": [
        {
         "name": "Beers",
         "type": "bar",
         "x": [
          "United States",
          "United Kingdom",
          "Canada",
          "Germany",
          "Denmark"
         ],
         "y": [
          143157,
          47274,
          17925,
          16583,
          7131
         ]
        },
        {
         "name": "Users",
         "type": "bar",
         "visible": false,
         "x": [
          "United States",
          "Canada",
          "United Kingdom",
          "Australia",
          "Poland"
         ],
         "y": [
          25717,
          3048,
          2941,
          1355,
          1288
         ]
        },
        {
         "name": "Breweries",
         "type": "bar",
         "visible": false,
         "x": [
          "United States",
          "United Kingdom",
          "Germany",
          "Italy",
          "Canada"
         ],
         "y": [
          5658,
          2175,
          1806,
          787,
          717
         ]
        },
        {
         "name": "Ratings by user country",
         "type": "bar",
         "visible": false,
         "x": [
          "United States",
          "Denmark",
          "United Kingdom",
          "Canada",
          "Sweden"
         ],
         "y": [
          2971041,
          546124,
          496158,
          490043,
          262688
         ]
        },
        {
         "name": "Ratings by brewery country",
         "type": "bar",
         "visible": false,
         "x": [
          "United States",
          "United Kingdom",
          "Belgium",
          "Germany",
          "Canada"
         ],
         "y": [
          2755858,
          696533,
          580500,
          456666,
          302641
         ]
        }
       ],
       "layout": {
        "barmode": "group",
        "height": 600,
        "template": {
         "data": {
          "bar": [
           {
            "error_x": {
             "color": "#2a3f5f"
            },
            "error_y": {
             "color": "#2a3f5f"
            },
            "marker": {
             "line": {
              "color": "#E5ECF6",
              "width": 0.5
             },
             "pattern": {
              "fillmode": "overlay",
              "size": 10,
              "solidity": 0.2
             }
            },
            "type": "bar"
           }
          ],
          "barpolar": [
           {
            "marker": {
             "line": {
              "color": "#E5ECF6",
              "width": 0.5
             },
             "pattern": {
              "fillmode": "overlay",
              "size": 10,
              "solidity": 0.2
             }
            },
            "type": "barpolar"
           }
          ],
          "carpet": [
           {
            "aaxis": {
             "endlinecolor": "#2a3f5f",
             "gridcolor": "white",
             "linecolor": "white",
             "minorgridcolor": "white",
             "startlinecolor": "#2a3f5f"
            },
            "baxis": {
             "endlinecolor": "#2a3f5f",
             "gridcolor": "white",
             "linecolor": "white",
             "minorgridcolor": "white",
             "startlinecolor": "#2a3f5f"
            },
            "type": "carpet"
           }
          ],
          "choropleth": [
           {
            "colorbar": {
             "outlinewidth": 0,
             "ticks": ""
            },
            "type": "choropleth"
           }
          ],
          "contour": [
           {
            "colorbar": {
             "outlinewidth": 0,
             "ticks": ""
            },
            "colorscale": [
             [
              0,
              "#0d0887"
             ],
             [
              0.1111111111111111,
              "#46039f"
             ],
             [
              0.2222222222222222,
              "#7201a8"
             ],
             [
              0.3333333333333333,
              "#9c179e"
             ],
             [
              0.4444444444444444,
              "#bd3786"
             ],
             [
              0.5555555555555556,
              "#d8576b"
             ],
             [
              0.6666666666666666,
              "#ed7953"
             ],
             [
              0.7777777777777778,
              "#fb9f3a"
             ],
             [
              0.8888888888888888,
              "#fdca26"
             ],
             [
              1,
              "#f0f921"
             ]
            ],
            "type": "contour"
           }
          ],
          "contourcarpet": [
           {
            "colorbar": {
             "outlinewidth": 0,
             "ticks": ""
            },
            "type": "contourcarpet"
           }
          ],
          "heatmap": [
           {
            "colorbar": {
             "outlinewidth": 0,
             "ticks": ""
            },
            "colorscale": [
             [
              0,
              "#0d0887"
             ],
             [
              0.1111111111111111,
              "#46039f"
             ],
             [
              0.2222222222222222,
              "#7201a8"
             ],
             [
              0.3333333333333333,
              "#9c179e"
             ],
             [
              0.4444444444444444,
              "#bd3786"
             ],
             [
              0.5555555555555556,
              "#d8576b"
             ],
             [
              0.6666666666666666,
              "#ed7953"
             ],
             [
              0.7777777777777778,
              "#fb9f3a"
             ],
             [
              0.8888888888888888,
              "#fdca26"
             ],
             [
              1,
              "#f0f921"
             ]
            ],
            "type": "heatmap"
           }
          ],
          "heatmapgl": [
           {
            "colorbar": {
             "outlinewidth": 0,
             "ticks": ""
            },
            "colorscale": [
             [
              0,
              "#0d0887"
             ],
             [
              0.1111111111111111,
              "#46039f"
             ],
             [
              0.2222222222222222,
              "#7201a8"
             ],
             [
              0.3333333333333333,
              "#9c179e"
             ],
             [
              0.4444444444444444,
              "#bd3786"
             ],
             [
              0.5555555555555556,
              "#d8576b"
             ],
             [
              0.6666666666666666,
              "#ed7953"
             ],
             [
              0.7777777777777778,
              "#fb9f3a"
             ],
             [
              0.8888888888888888,
              "#fdca26"
             ],
             [
              1,
              "#f0f921"
             ]
            ],
            "type": "heatmapgl"
           }
          ],
          "histogram": [
           {
            "marker": {
             "pattern": {
              "fillmode": "overlay",
              "size": 10,
              "solidity": 0.2
             }
            },
            "type": "histogram"
           }
          ],
          "histogram2d": [
           {
            "colorbar": {
             "outlinewidth": 0,
             "ticks": ""
            },
            "colorscale": [
             [
              0,
              "#0d0887"
             ],
             [
              0.1111111111111111,
              "#46039f"
             ],
             [
              0.2222222222222222,
              "#7201a8"
             ],
             [
              0.3333333333333333,
              "#9c179e"
             ],
             [
              0.4444444444444444,
              "#bd3786"
             ],
             [
              0.5555555555555556,
              "#d8576b"
             ],
             [
              0.6666666666666666,
              "#ed7953"
             ],
             [
              0.7777777777777778,
              "#fb9f3a"
             ],
             [
              0.8888888888888888,
              "#fdca26"
             ],
             [
              1,
              "#f0f921"
             ]
            ],
            "type": "histogram2d"
           }
          ],
          "histogram2dcontour": [
           {
            "colorbar": {
             "outlinewidth": 0,
             "ticks": ""
            },
            "colorscale": [
             [
              0,
              "#0d0887"
             ],
             [
              0.1111111111111111,
              "#46039f"
             ],
             [
              0.2222222222222222,
              "#7201a8"
             ],
             [
              0.3333333333333333,
              "#9c179e"
             ],
             [
              0.4444444444444444,
              "#bd3786"
             ],
             [
              0.5555555555555556,
              "#d8576b"
             ],
             [
              0.6666666666666666,
              "#ed7953"
             ],
             [
              0.7777777777777778,
              "#fb9f3a"
             ],
             [
              0.8888888888888888,
              "#fdca26"
             ],
             [
              1,
              "#f0f921"
             ]
            ],
            "type": "histogram2dcontour"
           }
          ],
          "mesh3d": [
           {
            "colorbar": {
             "outlinewidth": 0,
             "ticks": ""
            },
            "type": "mesh3d"
           }
          ],
          "parcoords": [
           {
            "line": {
             "colorbar": {
              "outlinewidth": 0,
              "ticks": ""
             }
            },
            "type": "parcoords"
           }
          ],
          "pie": [
           {
            "automargin": true,
            "type": "pie"
           }
          ],
          "scatter": [
           {
            "fillpattern": {
             "fillmode": "overlay",
             "size": 10,
             "solidity": 0.2
            },
            "type": "scatter"
           }
          ],
          "scatter3d": [
           {
            "line": {
             "colorbar": {
              "outlinewidth": 0,
              "ticks": ""
             }
            },
            "marker": {
             "colorbar": {
              "outlinewidth": 0,
              "ticks": ""
             }
            },
            "type": "scatter3d"
           }
          ],
          "scattercarpet": [
           {
            "marker": {
             "colorbar": {
              "outlinewidth": 0,
              "ticks": ""
             }
            },
            "type": "scattercarpet"
           }
          ],
          "scattergeo": [
           {
            "marker": {
             "colorbar": {
              "outlinewidth": 0,
              "ticks": ""
             }
            },
            "type": "scattergeo"
           }
          ],
          "scattergl": [
           {
            "marker": {
             "colorbar": {
              "outlinewidth": 0,
              "ticks": ""
             }
            },
            "type": "scattergl"
           }
          ],
          "scattermapbox": [
           {
            "marker": {
             "colorbar": {
              "outlinewidth": 0,
              "ticks": ""
             }
            },
            "type": "scattermapbox"
           }
          ],
          "scatterpolar": [
           {
            "marker": {
             "colorbar": {
              "outlinewidth": 0,
              "ticks": ""
             }
            },
            "type": "scatterpolar"
           }
          ],
          "scatterpolargl": [
           {
            "marker": {
             "colorbar": {
              "outlinewidth": 0,
              "ticks": ""
             }
            },
            "type": "scatterpolargl"
           }
          ],
          "scatterternary": [
           {
            "marker": {
             "colorbar": {
              "outlinewidth": 0,
              "ticks": ""
             }
            },
            "type": "scatterternary"
           }
          ],
          "surface": [
           {
            "colorbar": {
             "outlinewidth": 0,
             "ticks": ""
            },
            "colorscale": [
             [
              0,
              "#0d0887"
             ],
             [
              0.1111111111111111,
              "#46039f"
             ],
             [
              0.2222222222222222,
              "#7201a8"
             ],
             [
              0.3333333333333333,
              "#9c179e"
             ],
             [
              0.4444444444444444,
              "#bd3786"
             ],
             [
              0.5555555555555556,
              "#d8576b"
             ],
             [
              0.6666666666666666,
              "#ed7953"
             ],
             [
              0.7777777777777778,
              "#fb9f3a"
             ],
             [
              0.8888888888888888,
              "#fdca26"
             ],
             [
              1,
              "#f0f921"
             ]
            ],
            "type": "surface"
           }
          ],
          "table": [
           {
            "cells": {
             "fill": {
              "color": "#EBF0F8"
             },
             "line": {
              "color": "white"
             }
            },
            "header": {
             "fill": {
              "color": "#C8D4E3"
             },
             "line": {
              "color": "white"
             }
            },
            "type": "table"
           }
          ]
         },
         "layout": {
          "annotationdefaults": {
           "arrowcolor": "#2a3f5f",
           "arrowhead": 0,
           "arrowwidth": 1
          },
          "autotypenumbers": "strict",
          "coloraxis": {
           "colorbar": {
            "outlinewidth": 0,
            "ticks": ""
           }
          },
          "colorscale": {
           "diverging": [
            [
             0,
             "#8e0152"
            ],
            [
             0.1,
             "#c51b7d"
            ],
            [
             0.2,
             "#de77ae"
            ],
            [
             0.3,
             "#f1b6da"
            ],
            [
             0.4,
             "#fde0ef"
            ],
            [
             0.5,
             "#f7f7f7"
            ],
            [
             0.6,
             "#e6f5d0"
            ],
            [
             0.7,
             "#b8e186"
            ],
            [
             0.8,
             "#7fbc41"
            ],
            [
             0.9,
             "#4d9221"
            ],
            [
             1,
             "#276419"
            ]
           ],
           "sequential": [
            [
             0,
             "#0d0887"
            ],
            [
             0.1111111111111111,
             "#46039f"
            ],
            [
             0.2222222222222222,
             "#7201a8"
            ],
            [
             0.3333333333333333,
             "#9c179e"
            ],
            [
             0.4444444444444444,
             "#bd3786"
            ],
            [
             0.5555555555555556,
             "#d8576b"
            ],
            [
             0.6666666666666666,
             "#ed7953"
            ],
            [
             0.7777777777777778,
             "#fb9f3a"
            ],
            [
             0.8888888888888888,
             "#fdca26"
            ],
            [
             1,
             "#f0f921"
            ]
           ],
           "sequentialminus": [
            [
             0,
             "#0d0887"
            ],
            [
             0.1111111111111111,
             "#46039f"
            ],
            [
             0.2222222222222222,
             "#7201a8"
            ],
            [
             0.3333333333333333,
             "#9c179e"
            ],
            [
             0.4444444444444444,
             "#bd3786"
            ],
            [
             0.5555555555555556,
             "#d8576b"
            ],
            [
             0.6666666666666666,
             "#ed7953"
            ],
            [
             0.7777777777777778,
             "#fb9f3a"
            ],
            [
             0.8888888888888888,
             "#fdca26"
            ],
            [
             1,
             "#f0f921"
            ]
           ]
          },
          "colorway": [
           "#636efa",
           "#EF553B",
           "#00cc96",
           "#ab63fa",
           "#FFA15A",
           "#19d3f3",
           "#FF6692",
           "#B6E880",
           "#FF97FF",
           "#FECB52"
          ],
          "font": {
           "color": "#2a3f5f"
          },
          "geo": {
           "bgcolor": "white",
           "lakecolor": "white",
           "landcolor": "#E5ECF6",
           "showlakes": true,
           "showland": true,
           "subunitcolor": "white"
          },
          "hoverlabel": {
           "align": "left"
          },
          "hovermode": "closest",
          "mapbox": {
           "style": "light"
          },
          "paper_bgcolor": "white",
          "plot_bgcolor": "#E5ECF6",
          "polar": {
           "angularaxis": {
            "gridcolor": "white",
            "linecolor": "white",
            "ticks": ""
           },
           "bgcolor": "#E5ECF6",
           "radialaxis": {
            "gridcolor": "white",
            "linecolor": "white",
            "ticks": ""
           }
          },
          "scene": {
           "xaxis": {
            "backgroundcolor": "#E5ECF6",
            "gridcolor": "white",
            "gridwidth": 2,
            "linecolor": "white",
            "showbackground": true,
            "ticks": "",
            "zerolinecolor": "white"
           },
           "yaxis": {
            "backgroundcolor": "#E5ECF6",
            "gridcolor": "white",
            "gridwidth": 2,
            "linecolor": "white",
            "showbackground": true,
            "ticks": "",
            "zerolinecolor": "white"
           },
           "zaxis": {
            "backgroundcolor": "#E5ECF6",
            "gridcolor": "white",
            "gridwidth": 2,
            "linecolor": "white",
            "showbackground": true,
            "ticks": "",
            "zerolinecolor": "white"
           }
          },
          "shapedefaults": {
           "line": {
            "color": "#2a3f5f"
           }
          },
          "ternary": {
           "aaxis": {
            "gridcolor": "white",
            "linecolor": "white",
            "ticks": ""
           },
           "baxis": {
            "gridcolor": "white",
            "linecolor": "white",
            "ticks": ""
           },
           "bgcolor": "#E5ECF6",
           "caxis": {
            "gridcolor": "white",
            "linecolor": "white",
            "ticks": ""
           }
          },
          "title": {
           "x": 0.05
          },
          "xaxis": {
           "automargin": true,
           "gridcolor": "white",
           "linecolor": "white",
           "ticks": "",
           "title": {
            "standoff": 15
           },
           "zerolinecolor": "white",
           "zerolinewidth": 2
          },
          "yaxis": {
           "automargin": true,
           "gridcolor": "white",
           "linecolor": "white",
           "ticks": "",
           "title": {
            "standoff": 15
           },
           "zerolinecolor": "white",
           "zerolinewidth": 2
          }
         }
        },
        "title": {
         "text": "Top 5 countries with more beers"
        },
        "updatemenus": [
         {
          "active": 0,
          "buttons": [
           {
            "args": [
             {
              "visible": [
               true,
               false,
               false,
               false,
               false
              ]
             },
             {
              "title": "Top 5 countries with more beers"
             }
            ],
            "label": "Top 5 countries with more beers",
            "method": "update"
           },
           {
            "args": [
             {
              "visible": [
               false,
               true,
               false,
               false,
               false
              ]
             },
             {
              "title": "Top 5 countries with more users"
             }
            ],
            "label": "Top 5 countries with more users",
            "method": "update"
           },
           {
            "args": [
             {
              "visible": [
               false,
               false,
               true,
               false,
               false
              ]
             },
             {
              "title": "Top 5 countries with more breweries"
             }
            ],
            "label": "Top 5 countries with more breweries",
            "method": "update"
           },
           {
            "args": [
             {
              "visible": [
               false,
               false,
               false,
               true,
               false
              ]
             },
             {
              "title": "Top 5 countries with more ratings based on the user country"
             }
            ],
            "label": "Top 5 countries with more ratings based on the user country",
            "method": "update"
           },
           {
            "args": [
             {
              "visible": [
               false,
               false,
               false,
               false,
               true
              ]
             },
             {
              "title": "Top 5 countries with more ratings based on the brewery country"
             }
            ],
            "label": "Top 5 countries with more ratings based on the brewery country",
            "method": "update"
           }
          ],
          "x": 0.7,
          "xanchor": "center",
          "y": 1.1,
          "yanchor": "top"
         }
        ],
        "width": 800
       }
      }
     },
     "metadata": {},
     "output_type": "display_data"
    }
   ],
   "source": [
    "presentation.plot_top_5()"
   ]
  },
  {
   "cell_type": "markdown",
   "metadata": {},
   "source": [
    "We see that the data are spread in all the world, with a higher concentration in the United States, if considered as a whole. If we consider the single states of the United States then we have that Enland, Germany, Belgium and Canada are very active together with California that is the most active state in the United States. We can say that while the dataset is more biased towards united states we'll show in the further analysis that by considering the single states and not only the entire country we can highlight some interesting differences within the United States."
   ]
  },
  {
   "cell_type": "markdown",
   "metadata": {},
   "source": [
    "And finally let's review the temporal distribution of the data."
   ]
  },
  {
   "cell_type": "code",
   "execution_count": 15,
   "metadata": {},
   "outputs": [
    {
     "data": {
      "application/vnd.plotly.v1+json": {
       "config": {
        "plotlyServerURL": "https://plot.ly"
       },
       "data": [
        {
         "type": "bar",
         "x": [
          2002,
          2003,
          2004,
          2005,
          2006,
          2007,
          2008,
          2009,
          2010,
          2011,
          2012,
          2013,
          2014,
          2015,
          2016
         ],
         "y": [
          75906,
          111340,
          163894,
          215491,
          256694,
          351254,
          394569,
          400829,
          392643,
          451704,
          562527,
          679220,
          776973,
          807453,
          783887
         ]
        }
       ],
       "layout": {
        "height": 600,
        "template": {
         "data": {
          "bar": [
           {
            "error_x": {
             "color": "#2a3f5f"
            },
            "error_y": {
             "color": "#2a3f5f"
            },
            "marker": {
             "line": {
              "color": "#E5ECF6",
              "width": 0.5
             },
             "pattern": {
              "fillmode": "overlay",
              "size": 10,
              "solidity": 0.2
             }
            },
            "type": "bar"
           }
          ],
          "barpolar": [
           {
            "marker": {
             "line": {
              "color": "#E5ECF6",
              "width": 0.5
             },
             "pattern": {
              "fillmode": "overlay",
              "size": 10,
              "solidity": 0.2
             }
            },
            "type": "barpolar"
           }
          ],
          "carpet": [
           {
            "aaxis": {
             "endlinecolor": "#2a3f5f",
             "gridcolor": "white",
             "linecolor": "white",
             "minorgridcolor": "white",
             "startlinecolor": "#2a3f5f"
            },
            "baxis": {
             "endlinecolor": "#2a3f5f",
             "gridcolor": "white",
             "linecolor": "white",
             "minorgridcolor": "white",
             "startlinecolor": "#2a3f5f"
            },
            "type": "carpet"
           }
          ],
          "choropleth": [
           {
            "colorbar": {
             "outlinewidth": 0,
             "ticks": ""
            },
            "type": "choropleth"
           }
          ],
          "contour": [
           {
            "colorbar": {
             "outlinewidth": 0,
             "ticks": ""
            },
            "colorscale": [
             [
              0,
              "#0d0887"
             ],
             [
              0.1111111111111111,
              "#46039f"
             ],
             [
              0.2222222222222222,
              "#7201a8"
             ],
             [
              0.3333333333333333,
              "#9c179e"
             ],
             [
              0.4444444444444444,
              "#bd3786"
             ],
             [
              0.5555555555555556,
              "#d8576b"
             ],
             [
              0.6666666666666666,
              "#ed7953"
             ],
             [
              0.7777777777777778,
              "#fb9f3a"
             ],
             [
              0.8888888888888888,
              "#fdca26"
             ],
             [
              1,
              "#f0f921"
             ]
            ],
            "type": "contour"
           }
          ],
          "contourcarpet": [
           {
            "colorbar": {
             "outlinewidth": 0,
             "ticks": ""
            },
            "type": "contourcarpet"
           }
          ],
          "heatmap": [
           {
            "colorbar": {
             "outlinewidth": 0,
             "ticks": ""
            },
            "colorscale": [
             [
              0,
              "#0d0887"
             ],
             [
              0.1111111111111111,
              "#46039f"
             ],
             [
              0.2222222222222222,
              "#7201a8"
             ],
             [
              0.3333333333333333,
              "#9c179e"
             ],
             [
              0.4444444444444444,
              "#bd3786"
             ],
             [
              0.5555555555555556,
              "#d8576b"
             ],
             [
              0.6666666666666666,
              "#ed7953"
             ],
             [
              0.7777777777777778,
              "#fb9f3a"
             ],
             [
              0.8888888888888888,
              "#fdca26"
             ],
             [
              1,
              "#f0f921"
             ]
            ],
            "type": "heatmap"
           }
          ],
          "heatmapgl": [
           {
            "colorbar": {
             "outlinewidth": 0,
             "ticks": ""
            },
            "colorscale": [
             [
              0,
              "#0d0887"
             ],
             [
              0.1111111111111111,
              "#46039f"
             ],
             [
              0.2222222222222222,
              "#7201a8"
             ],
             [
              0.3333333333333333,
              "#9c179e"
             ],
             [
              0.4444444444444444,
              "#bd3786"
             ],
             [
              0.5555555555555556,
              "#d8576b"
             ],
             [
              0.6666666666666666,
              "#ed7953"
             ],
             [
              0.7777777777777778,
              "#fb9f3a"
             ],
             [
              0.8888888888888888,
              "#fdca26"
             ],
             [
              1,
              "#f0f921"
             ]
            ],
            "type": "heatmapgl"
           }
          ],
          "histogram": [
           {
            "marker": {
             "pattern": {
              "fillmode": "overlay",
              "size": 10,
              "solidity": 0.2
             }
            },
            "type": "histogram"
           }
          ],
          "histogram2d": [
           {
            "colorbar": {
             "outlinewidth": 0,
             "ticks": ""
            },
            "colorscale": [
             [
              0,
              "#0d0887"
             ],
             [
              0.1111111111111111,
              "#46039f"
             ],
             [
              0.2222222222222222,
              "#7201a8"
             ],
             [
              0.3333333333333333,
              "#9c179e"
             ],
             [
              0.4444444444444444,
              "#bd3786"
             ],
             [
              0.5555555555555556,
              "#d8576b"
             ],
             [
              0.6666666666666666,
              "#ed7953"
             ],
             [
              0.7777777777777778,
              "#fb9f3a"
             ],
             [
              0.8888888888888888,
              "#fdca26"
             ],
             [
              1,
              "#f0f921"
             ]
            ],
            "type": "histogram2d"
           }
          ],
          "histogram2dcontour": [
           {
            "colorbar": {
             "outlinewidth": 0,
             "ticks": ""
            },
            "colorscale": [
             [
              0,
              "#0d0887"
             ],
             [
              0.1111111111111111,
              "#46039f"
             ],
             [
              0.2222222222222222,
              "#7201a8"
             ],
             [
              0.3333333333333333,
              "#9c179e"
             ],
             [
              0.4444444444444444,
              "#bd3786"
             ],
             [
              0.5555555555555556,
              "#d8576b"
             ],
             [
              0.6666666666666666,
              "#ed7953"
             ],
             [
              0.7777777777777778,
              "#fb9f3a"
             ],
             [
              0.8888888888888888,
              "#fdca26"
             ],
             [
              1,
              "#f0f921"
             ]
            ],
            "type": "histogram2dcontour"
           }
          ],
          "mesh3d": [
           {
            "colorbar": {
             "outlinewidth": 0,
             "ticks": ""
            },
            "type": "mesh3d"
           }
          ],
          "parcoords": [
           {
            "line": {
             "colorbar": {
              "outlinewidth": 0,
              "ticks": ""
             }
            },
            "type": "parcoords"
           }
          ],
          "pie": [
           {
            "automargin": true,
            "type": "pie"
           }
          ],
          "scatter": [
           {
            "fillpattern": {
             "fillmode": "overlay",
             "size": 10,
             "solidity": 0.2
            },
            "type": "scatter"
           }
          ],
          "scatter3d": [
           {
            "line": {
             "colorbar": {
              "outlinewidth": 0,
              "ticks": ""
             }
            },
            "marker": {
             "colorbar": {
              "outlinewidth": 0,
              "ticks": ""
             }
            },
            "type": "scatter3d"
           }
          ],
          "scattercarpet": [
           {
            "marker": {
             "colorbar": {
              "outlinewidth": 0,
              "ticks": ""
             }
            },
            "type": "scattercarpet"
           }
          ],
          "scattergeo": [
           {
            "marker": {
             "colorbar": {
              "outlinewidth": 0,
              "ticks": ""
             }
            },
            "type": "scattergeo"
           }
          ],
          "scattergl": [
           {
            "marker": {
             "colorbar": {
              "outlinewidth": 0,
              "ticks": ""
             }
            },
            "type": "scattergl"
           }
          ],
          "scattermapbox": [
           {
            "marker": {
             "colorbar": {
              "outlinewidth": 0,
              "ticks": ""
             }
            },
            "type": "scattermapbox"
           }
          ],
          "scatterpolar": [
           {
            "marker": {
             "colorbar": {
              "outlinewidth": 0,
              "ticks": ""
             }
            },
            "type": "scatterpolar"
           }
          ],
          "scatterpolargl": [
           {
            "marker": {
             "colorbar": {
              "outlinewidth": 0,
              "ticks": ""
             }
            },
            "type": "scatterpolargl"
           }
          ],
          "scatterternary": [
           {
            "marker": {
             "colorbar": {
              "outlinewidth": 0,
              "ticks": ""
             }
            },
            "type": "scatterternary"
           }
          ],
          "surface": [
           {
            "colorbar": {
             "outlinewidth": 0,
             "ticks": ""
            },
            "colorscale": [
             [
              0,
              "#0d0887"
             ],
             [
              0.1111111111111111,
              "#46039f"
             ],
             [
              0.2222222222222222,
              "#7201a8"
             ],
             [
              0.3333333333333333,
              "#9c179e"
             ],
             [
              0.4444444444444444,
              "#bd3786"
             ],
             [
              0.5555555555555556,
              "#d8576b"
             ],
             [
              0.6666666666666666,
              "#ed7953"
             ],
             [
              0.7777777777777778,
              "#fb9f3a"
             ],
             [
              0.8888888888888888,
              "#fdca26"
             ],
             [
              1,
              "#f0f921"
             ]
            ],
            "type": "surface"
           }
          ],
          "table": [
           {
            "cells": {
             "fill": {
              "color": "#EBF0F8"
             },
             "line": {
              "color": "white"
             }
            },
            "header": {
             "fill": {
              "color": "#C8D4E3"
             },
             "line": {
              "color": "white"
             }
            },
            "type": "table"
           }
          ]
         },
         "layout": {
          "annotationdefaults": {
           "arrowcolor": "#2a3f5f",
           "arrowhead": 0,
           "arrowwidth": 1
          },
          "autotypenumbers": "strict",
          "coloraxis": {
           "colorbar": {
            "outlinewidth": 0,
            "ticks": ""
           }
          },
          "colorscale": {
           "diverging": [
            [
             0,
             "#8e0152"
            ],
            [
             0.1,
             "#c51b7d"
            ],
            [
             0.2,
             "#de77ae"
            ],
            [
             0.3,
             "#f1b6da"
            ],
            [
             0.4,
             "#fde0ef"
            ],
            [
             0.5,
             "#f7f7f7"
            ],
            [
             0.6,
             "#e6f5d0"
            ],
            [
             0.7,
             "#b8e186"
            ],
            [
             0.8,
             "#7fbc41"
            ],
            [
             0.9,
             "#4d9221"
            ],
            [
             1,
             "#276419"
            ]
           ],
           "sequential": [
            [
             0,
             "#0d0887"
            ],
            [
             0.1111111111111111,
             "#46039f"
            ],
            [
             0.2222222222222222,
             "#7201a8"
            ],
            [
             0.3333333333333333,
             "#9c179e"
            ],
            [
             0.4444444444444444,
             "#bd3786"
            ],
            [
             0.5555555555555556,
             "#d8576b"
            ],
            [
             0.6666666666666666,
             "#ed7953"
            ],
            [
             0.7777777777777778,
             "#fb9f3a"
            ],
            [
             0.8888888888888888,
             "#fdca26"
            ],
            [
             1,
             "#f0f921"
            ]
           ],
           "sequentialminus": [
            [
             0,
             "#0d0887"
            ],
            [
             0.1111111111111111,
             "#46039f"
            ],
            [
             0.2222222222222222,
             "#7201a8"
            ],
            [
             0.3333333333333333,
             "#9c179e"
            ],
            [
             0.4444444444444444,
             "#bd3786"
            ],
            [
             0.5555555555555556,
             "#d8576b"
            ],
            [
             0.6666666666666666,
             "#ed7953"
            ],
            [
             0.7777777777777778,
             "#fb9f3a"
            ],
            [
             0.8888888888888888,
             "#fdca26"
            ],
            [
             1,
             "#f0f921"
            ]
           ]
          },
          "colorway": [
           "#636efa",
           "#EF553B",
           "#00cc96",
           "#ab63fa",
           "#FFA15A",
           "#19d3f3",
           "#FF6692",
           "#B6E880",
           "#FF97FF",
           "#FECB52"
          ],
          "font": {
           "color": "#2a3f5f"
          },
          "geo": {
           "bgcolor": "white",
           "lakecolor": "white",
           "landcolor": "#E5ECF6",
           "showlakes": true,
           "showland": true,
           "subunitcolor": "white"
          },
          "hoverlabel": {
           "align": "left"
          },
          "hovermode": "closest",
          "mapbox": {
           "style": "light"
          },
          "paper_bgcolor": "white",
          "plot_bgcolor": "#E5ECF6",
          "polar": {
           "angularaxis": {
            "gridcolor": "white",
            "linecolor": "white",
            "ticks": ""
           },
           "bgcolor": "#E5ECF6",
           "radialaxis": {
            "gridcolor": "white",
            "linecolor": "white",
            "ticks": ""
           }
          },
          "scene": {
           "xaxis": {
            "backgroundcolor": "#E5ECF6",
            "gridcolor": "white",
            "gridwidth": 2,
            "linecolor": "white",
            "showbackground": true,
            "ticks": "",
            "zerolinecolor": "white"
           },
           "yaxis": {
            "backgroundcolor": "#E5ECF6",
            "gridcolor": "white",
            "gridwidth": 2,
            "linecolor": "white",
            "showbackground": true,
            "ticks": "",
            "zerolinecolor": "white"
           },
           "zaxis": {
            "backgroundcolor": "#E5ECF6",
            "gridcolor": "white",
            "gridwidth": 2,
            "linecolor": "white",
            "showbackground": true,
            "ticks": "",
            "zerolinecolor": "white"
           }
          },
          "shapedefaults": {
           "line": {
            "color": "#2a3f5f"
           }
          },
          "ternary": {
           "aaxis": {
            "gridcolor": "white",
            "linecolor": "white",
            "ticks": ""
           },
           "baxis": {
            "gridcolor": "white",
            "linecolor": "white",
            "ticks": ""
           },
           "bgcolor": "#E5ECF6",
           "caxis": {
            "gridcolor": "white",
            "linecolor": "white",
            "ticks": ""
           }
          },
          "title": {
           "x": 0.05
          },
          "xaxis": {
           "automargin": true,
           "gridcolor": "white",
           "linecolor": "white",
           "ticks": "",
           "title": {
            "standoff": 15
           },
           "zerolinecolor": "white",
           "zerolinewidth": 2
          },
          "yaxis": {
           "automargin": true,
           "gridcolor": "white",
           "linecolor": "white",
           "ticks": "",
           "title": {
            "standoff": 15
           },
           "zerolinecolor": "white",
           "zerolinewidth": 2
          }
         }
        },
        "title": {
         "text": "Number of ratings per year"
        },
        "width": 800,
        "xaxis": {
         "title": {
          "text": "Year"
         }
        },
        "yaxis": {
         "title": {
          "text": "Number of ratings"
         }
        }
       }
      }
     },
     "metadata": {},
     "output_type": "display_data"
    }
   ],
   "source": [
    "ratings_temporal_grouping, users_temporal_grouping = presentation.get_temporal_data()\n",
    "presentation.plot_temporal(ratings_temporal_grouping, 'Year', 'Number of ratings', 'Number of ratings per year')"
   ]
  },
  {
   "cell_type": "code",
   "execution_count": 16,
   "metadata": {},
   "outputs": [
    {
     "data": {
      "application/vnd.plotly.v1+json": {
       "config": {
        "plotlyServerURL": "https://plot.ly"
       },
       "data": [
        {
         "type": "bar",
         "x": [
          2000,
          2001,
          2002,
          2003,
          2004,
          2005,
          2006,
          2007,
          2008,
          2009,
          2010,
          2011,
          2012,
          2013,
          2014,
          2015,
          2016,
          2017
         ],
         "y": [
          50,
          344,
          1403,
          1065,
          1738,
          2284,
          2728,
          3234,
          3149,
          2460,
          2479,
          3219,
          5890,
          5425,
          4774,
          3936,
          2814,
          1
         ]
        }
       ],
       "layout": {
        "height": 600,
        "template": {
         "data": {
          "bar": [
           {
            "error_x": {
             "color": "#2a3f5f"
            },
            "error_y": {
             "color": "#2a3f5f"
            },
            "marker": {
             "line": {
              "color": "#E5ECF6",
              "width": 0.5
             },
             "pattern": {
              "fillmode": "overlay",
              "size": 10,
              "solidity": 0.2
             }
            },
            "type": "bar"
           }
          ],
          "barpolar": [
           {
            "marker": {
             "line": {
              "color": "#E5ECF6",
              "width": 0.5
             },
             "pattern": {
              "fillmode": "overlay",
              "size": 10,
              "solidity": 0.2
             }
            },
            "type": "barpolar"
           }
          ],
          "carpet": [
           {
            "aaxis": {
             "endlinecolor": "#2a3f5f",
             "gridcolor": "white",
             "linecolor": "white",
             "minorgridcolor": "white",
             "startlinecolor": "#2a3f5f"
            },
            "baxis": {
             "endlinecolor": "#2a3f5f",
             "gridcolor": "white",
             "linecolor": "white",
             "minorgridcolor": "white",
             "startlinecolor": "#2a3f5f"
            },
            "type": "carpet"
           }
          ],
          "choropleth": [
           {
            "colorbar": {
             "outlinewidth": 0,
             "ticks": ""
            },
            "type": "choropleth"
           }
          ],
          "contour": [
           {
            "colorbar": {
             "outlinewidth": 0,
             "ticks": ""
            },
            "colorscale": [
             [
              0,
              "#0d0887"
             ],
             [
              0.1111111111111111,
              "#46039f"
             ],
             [
              0.2222222222222222,
              "#7201a8"
             ],
             [
              0.3333333333333333,
              "#9c179e"
             ],
             [
              0.4444444444444444,
              "#bd3786"
             ],
             [
              0.5555555555555556,
              "#d8576b"
             ],
             [
              0.6666666666666666,
              "#ed7953"
             ],
             [
              0.7777777777777778,
              "#fb9f3a"
             ],
             [
              0.8888888888888888,
              "#fdca26"
             ],
             [
              1,
              "#f0f921"
             ]
            ],
            "type": "contour"
           }
          ],
          "contourcarpet": [
           {
            "colorbar": {
             "outlinewidth": 0,
             "ticks": ""
            },
            "type": "contourcarpet"
           }
          ],
          "heatmap": [
           {
            "colorbar": {
             "outlinewidth": 0,
             "ticks": ""
            },
            "colorscale": [
             [
              0,
              "#0d0887"
             ],
             [
              0.1111111111111111,
              "#46039f"
             ],
             [
              0.2222222222222222,
              "#7201a8"
             ],
             [
              0.3333333333333333,
              "#9c179e"
             ],
             [
              0.4444444444444444,
              "#bd3786"
             ],
             [
              0.5555555555555556,
              "#d8576b"
             ],
             [
              0.6666666666666666,
              "#ed7953"
             ],
             [
              0.7777777777777778,
              "#fb9f3a"
             ],
             [
              0.8888888888888888,
              "#fdca26"
             ],
             [
              1,
              "#f0f921"
             ]
            ],
            "type": "heatmap"
           }
          ],
          "heatmapgl": [
           {
            "colorbar": {
             "outlinewidth": 0,
             "ticks": ""
            },
            "colorscale": [
             [
              0,
              "#0d0887"
             ],
             [
              0.1111111111111111,
              "#46039f"
             ],
             [
              0.2222222222222222,
              "#7201a8"
             ],
             [
              0.3333333333333333,
              "#9c179e"
             ],
             [
              0.4444444444444444,
              "#bd3786"
             ],
             [
              0.5555555555555556,
              "#d8576b"
             ],
             [
              0.6666666666666666,
              "#ed7953"
             ],
             [
              0.7777777777777778,
              "#fb9f3a"
             ],
             [
              0.8888888888888888,
              "#fdca26"
             ],
             [
              1,
              "#f0f921"
             ]
            ],
            "type": "heatmapgl"
           }
          ],
          "histogram": [
           {
            "marker": {
             "pattern": {
              "fillmode": "overlay",
              "size": 10,
              "solidity": 0.2
             }
            },
            "type": "histogram"
           }
          ],
          "histogram2d": [
           {
            "colorbar": {
             "outlinewidth": 0,
             "ticks": ""
            },
            "colorscale": [
             [
              0,
              "#0d0887"
             ],
             [
              0.1111111111111111,
              "#46039f"
             ],
             [
              0.2222222222222222,
              "#7201a8"
             ],
             [
              0.3333333333333333,
              "#9c179e"
             ],
             [
              0.4444444444444444,
              "#bd3786"
             ],
             [
              0.5555555555555556,
              "#d8576b"
             ],
             [
              0.6666666666666666,
              "#ed7953"
             ],
             [
              0.7777777777777778,
              "#fb9f3a"
             ],
             [
              0.8888888888888888,
              "#fdca26"
             ],
             [
              1,
              "#f0f921"
             ]
            ],
            "type": "histogram2d"
           }
          ],
          "histogram2dcontour": [
           {
            "colorbar": {
             "outlinewidth": 0,
             "ticks": ""
            },
            "colorscale": [
             [
              0,
              "#0d0887"
             ],
             [
              0.1111111111111111,
              "#46039f"
             ],
             [
              0.2222222222222222,
              "#7201a8"
             ],
             [
              0.3333333333333333,
              "#9c179e"
             ],
             [
              0.4444444444444444,
              "#bd3786"
             ],
             [
              0.5555555555555556,
              "#d8576b"
             ],
             [
              0.6666666666666666,
              "#ed7953"
             ],
             [
              0.7777777777777778,
              "#fb9f3a"
             ],
             [
              0.8888888888888888,
              "#fdca26"
             ],
             [
              1,
              "#f0f921"
             ]
            ],
            "type": "histogram2dcontour"
           }
          ],
          "mesh3d": [
           {
            "colorbar": {
             "outlinewidth": 0,
             "ticks": ""
            },
            "type": "mesh3d"
           }
          ],
          "parcoords": [
           {
            "line": {
             "colorbar": {
              "outlinewidth": 0,
              "ticks": ""
             }
            },
            "type": "parcoords"
           }
          ],
          "pie": [
           {
            "automargin": true,
            "type": "pie"
           }
          ],
          "scatter": [
           {
            "fillpattern": {
             "fillmode": "overlay",
             "size": 10,
             "solidity": 0.2
            },
            "type": "scatter"
           }
          ],
          "scatter3d": [
           {
            "line": {
             "colorbar": {
              "outlinewidth": 0,
              "ticks": ""
             }
            },
            "marker": {
             "colorbar": {
              "outlinewidth": 0,
              "ticks": ""
             }
            },
            "type": "scatter3d"
           }
          ],
          "scattercarpet": [
           {
            "marker": {
             "colorbar": {
              "outlinewidth": 0,
              "ticks": ""
             }
            },
            "type": "scattercarpet"
           }
          ],
          "scattergeo": [
           {
            "marker": {
             "colorbar": {
              "outlinewidth": 0,
              "ticks": ""
             }
            },
            "type": "scattergeo"
           }
          ],
          "scattergl": [
           {
            "marker": {
             "colorbar": {
              "outlinewidth": 0,
              "ticks": ""
             }
            },
            "type": "scattergl"
           }
          ],
          "scattermapbox": [
           {
            "marker": {
             "colorbar": {
              "outlinewidth": 0,
              "ticks": ""
             }
            },
            "type": "scattermapbox"
           }
          ],
          "scatterpolar": [
           {
            "marker": {
             "colorbar": {
              "outlinewidth": 0,
              "ticks": ""
             }
            },
            "type": "scatterpolar"
           }
          ],
          "scatterpolargl": [
           {
            "marker": {
             "colorbar": {
              "outlinewidth": 0,
              "ticks": ""
             }
            },
            "type": "scatterpolargl"
           }
          ],
          "scatterternary": [
           {
            "marker": {
             "colorbar": {
              "outlinewidth": 0,
              "ticks": ""
             }
            },
            "type": "scatterternary"
           }
          ],
          "surface": [
           {
            "colorbar": {
             "outlinewidth": 0,
             "ticks": ""
            },
            "colorscale": [
             [
              0,
              "#0d0887"
             ],
             [
              0.1111111111111111,
              "#46039f"
             ],
             [
              0.2222222222222222,
              "#7201a8"
             ],
             [
              0.3333333333333333,
              "#9c179e"
             ],
             [
              0.4444444444444444,
              "#bd3786"
             ],
             [
              0.5555555555555556,
              "#d8576b"
             ],
             [
              0.6666666666666666,
              "#ed7953"
             ],
             [
              0.7777777777777778,
              "#fb9f3a"
             ],
             [
              0.8888888888888888,
              "#fdca26"
             ],
             [
              1,
              "#f0f921"
             ]
            ],
            "type": "surface"
           }
          ],
          "table": [
           {
            "cells": {
             "fill": {
              "color": "#EBF0F8"
             },
             "line": {
              "color": "white"
             }
            },
            "header": {
             "fill": {
              "color": "#C8D4E3"
             },
             "line": {
              "color": "white"
             }
            },
            "type": "table"
           }
          ]
         },
         "layout": {
          "annotationdefaults": {
           "arrowcolor": "#2a3f5f",
           "arrowhead": 0,
           "arrowwidth": 1
          },
          "autotypenumbers": "strict",
          "coloraxis": {
           "colorbar": {
            "outlinewidth": 0,
            "ticks": ""
           }
          },
          "colorscale": {
           "diverging": [
            [
             0,
             "#8e0152"
            ],
            [
             0.1,
             "#c51b7d"
            ],
            [
             0.2,
             "#de77ae"
            ],
            [
             0.3,
             "#f1b6da"
            ],
            [
             0.4,
             "#fde0ef"
            ],
            [
             0.5,
             "#f7f7f7"
            ],
            [
             0.6,
             "#e6f5d0"
            ],
            [
             0.7,
             "#b8e186"
            ],
            [
             0.8,
             "#7fbc41"
            ],
            [
             0.9,
             "#4d9221"
            ],
            [
             1,
             "#276419"
            ]
           ],
           "sequential": [
            [
             0,
             "#0d0887"
            ],
            [
             0.1111111111111111,
             "#46039f"
            ],
            [
             0.2222222222222222,
             "#7201a8"
            ],
            [
             0.3333333333333333,
             "#9c179e"
            ],
            [
             0.4444444444444444,
             "#bd3786"
            ],
            [
             0.5555555555555556,
             "#d8576b"
            ],
            [
             0.6666666666666666,
             "#ed7953"
            ],
            [
             0.7777777777777778,
             "#fb9f3a"
            ],
            [
             0.8888888888888888,
             "#fdca26"
            ],
            [
             1,
             "#f0f921"
            ]
           ],
           "sequentialminus": [
            [
             0,
             "#0d0887"
            ],
            [
             0.1111111111111111,
             "#46039f"
            ],
            [
             0.2222222222222222,
             "#7201a8"
            ],
            [
             0.3333333333333333,
             "#9c179e"
            ],
            [
             0.4444444444444444,
             "#bd3786"
            ],
            [
             0.5555555555555556,
             "#d8576b"
            ],
            [
             0.6666666666666666,
             "#ed7953"
            ],
            [
             0.7777777777777778,
             "#fb9f3a"
            ],
            [
             0.8888888888888888,
             "#fdca26"
            ],
            [
             1,
             "#f0f921"
            ]
           ]
          },
          "colorway": [
           "#636efa",
           "#EF553B",
           "#00cc96",
           "#ab63fa",
           "#FFA15A",
           "#19d3f3",
           "#FF6692",
           "#B6E880",
           "#FF97FF",
           "#FECB52"
          ],
          "font": {
           "color": "#2a3f5f"
          },
          "geo": {
           "bgcolor": "white",
           "lakecolor": "white",
           "landcolor": "#E5ECF6",
           "showlakes": true,
           "showland": true,
           "subunitcolor": "white"
          },
          "hoverlabel": {
           "align": "left"
          },
          "hovermode": "closest",
          "mapbox": {
           "style": "light"
          },
          "paper_bgcolor": "white",
          "plot_bgcolor": "#E5ECF6",
          "polar": {
           "angularaxis": {
            "gridcolor": "white",
            "linecolor": "white",
            "ticks": ""
           },
           "bgcolor": "#E5ECF6",
           "radialaxis": {
            "gridcolor": "white",
            "linecolor": "white",
            "ticks": ""
           }
          },
          "scene": {
           "xaxis": {
            "backgroundcolor": "#E5ECF6",
            "gridcolor": "white",
            "gridwidth": 2,
            "linecolor": "white",
            "showbackground": true,
            "ticks": "",
            "zerolinecolor": "white"
           },
           "yaxis": {
            "backgroundcolor": "#E5ECF6",
            "gridcolor": "white",
            "gridwidth": 2,
            "linecolor": "white",
            "showbackground": true,
            "ticks": "",
            "zerolinecolor": "white"
           },
           "zaxis": {
            "backgroundcolor": "#E5ECF6",
            "gridcolor": "white",
            "gridwidth": 2,
            "linecolor": "white",
            "showbackground": true,
            "ticks": "",
            "zerolinecolor": "white"
           }
          },
          "shapedefaults": {
           "line": {
            "color": "#2a3f5f"
           }
          },
          "ternary": {
           "aaxis": {
            "gridcolor": "white",
            "linecolor": "white",
            "ticks": ""
           },
           "baxis": {
            "gridcolor": "white",
            "linecolor": "white",
            "ticks": ""
           },
           "bgcolor": "#E5ECF6",
           "caxis": {
            "gridcolor": "white",
            "linecolor": "white",
            "ticks": ""
           }
          },
          "title": {
           "x": 0.05
          },
          "xaxis": {
           "automargin": true,
           "gridcolor": "white",
           "linecolor": "white",
           "ticks": "",
           "title": {
            "standoff": 15
           },
           "zerolinecolor": "white",
           "zerolinewidth": 2
          },
          "yaxis": {
           "automargin": true,
           "gridcolor": "white",
           "linecolor": "white",
           "ticks": "",
           "title": {
            "standoff": 15
           },
           "zerolinecolor": "white",
           "zerolinewidth": 2
          }
         }
        },
        "title": {
         "text": "Number of users per year"
        },
        "width": 800,
        "xaxis": {
         "title": {
          "text": "Year"
         }
        },
        "yaxis": {
         "title": {
          "text": "Number of users"
         }
        }
       }
      }
     },
     "metadata": {},
     "output_type": "display_data"
    }
   ],
   "source": [
    "presentation.plot_temporal(users_temporal_grouping, 'Year', 'Number of users', 'Number of users per year')"
   ]
  },
  {
   "cell_type": "markdown",
   "metadata": {},
   "source": [
    "We see that the number of ratings peak in 2015 while the number of new users peak in 2012 with a decline after that year."
   ]
  },
  {
   "cell_type": "markdown",
   "metadata": {},
   "source": [
    "## Global ratings analysis\n",
    "In this section we are going to analyze the preferences of the users of the platform in a general way.\n",
    "### General study of the distribution of the ratings\n",
    "First of all we are going to study how the grades are distributed in the different categories. This will help us understand if there are specific bias towards some categories and whether the users are more or less demanding in some categories."
   ]
  },
  {
   "cell_type": "code",
   "execution_count": 17,
   "metadata": {},
   "outputs": [
    {
     "data": {
      "application/vnd.plotly.v1+json": {
       "config": {
        "plotlyServerURL": "https://plot.ly"
       },
       "data": [
        {
         "name": "mouthfeel",
         "type": "bar",
         "x": [
          1,
          2,
          3,
          4,
          5
         ],
         "xaxis": "x",
         "y": [
          115535,
          740475,
          3131257,
          2142766,
          294351
         ],
         "yaxis": "y"
        },
        {
         "name": "taste",
         "type": "bar",
         "x": [
          1,
          2,
          3,
          4,
          5,
          6,
          7,
          8,
          9,
          10
         ],
         "xaxis": "x2",
         "y": [
          39913,
          86739,
          183735,
          344658,
          708675,
          1449141,
          2060325,
          1211745,
          282713,
          56740
         ],
         "yaxis": "y2"
        },
        {
         "name": "appearance",
         "type": "bar",
         "x": [
          1,
          2,
          3,
          4,
          5
         ],
         "xaxis": "x3",
         "y": [
          67467,
          476021,
          2940001,
          2501728,
          439167
         ],
         "yaxis": "y3"
        },
        {
         "name": "aroma",
         "type": "bar",
         "x": [
          1,
          2,
          3,
          4,
          5,
          6,
          7,
          8,
          9,
          10
         ],
         "xaxis": "x4",
         "y": [
          43246,
          92102,
          198632,
          356868,
          738839,
          1547333,
          2044715,
          1099163,
          250122,
          53364
         ],
         "yaxis": "y4"
        },
        {
         "name": "overall",
         "type": "bar",
         "x": [
          1,
          2,
          3,
          4,
          5,
          6,
          7,
          8,
          9,
          10,
          11,
          12,
          13,
          14,
          15,
          16,
          17,
          18,
          19,
          20
         ],
         "xaxis": "x5",
         "y": [
          20656,
          23609,
          32402,
          43326,
          65066,
          81612,
          109060,
          170269,
          189558,
          345299,
          403866,
          683294,
          860013,
          1022577,
          978837,
          700742,
          415106,
          198759,
          57977,
          22356
         ],
         "yaxis": "y5"
        },
        {
         "name": "rating",
         "type": "bar",
         "x": [
          0.5,
          0.6,
          0.7,
          0.8,
          0.9,
          1,
          1.1,
          1.2,
          1.3,
          1.4,
          1.5,
          1.6,
          1.7,
          1.8,
          1.9,
          2,
          2.1,
          2.2,
          2.3,
          2.4,
          2.5,
          2.6,
          2.7,
          2.8,
          2.9,
          3,
          3.1,
          3.2,
          3.3,
          3.4,
          3.5,
          3.6,
          3.7,
          3.8,
          3.9,
          4,
          4.1,
          4.2,
          4.3,
          4.4,
          4.5,
          4.6,
          4.7,
          4.8,
          4.9,
          5
         ],
         "xaxis": "x6",
         "y": [
          10963,
          4755,
          6148,
          7851,
          10031,
          15084,
          14089,
          16937,
          19402,
          22676,
          29536,
          32600,
          36997,
          43761,
          50531,
          67499,
          64335,
          76815,
          84280,
          101646,
          121820,
          153526,
          165021,
          205533,
          237569,
          341292,
          330375,
          388782,
          416881,
          474650,
          478004,
          454300,
          429196,
          380228,
          300384,
          267012,
          173588,
          130673,
          87862,
          58295,
          41979,
          25813,
          17714,
          11265,
          5253,
          11433
         ],
         "yaxis": "y6"
        }
       ],
       "layout": {
        "annotations": [
         {
          "font": {
           "size": 16
          },
          "showarrow": false,
          "text": "Mouthfeel",
          "x": 0.14444444444444446,
          "xanchor": "center",
          "xref": "paper",
          "y": 1,
          "yanchor": "bottom",
          "yref": "paper"
         },
         {
          "font": {
           "size": 16
          },
          "showarrow": false,
          "text": "Taste",
          "x": 0.5,
          "xanchor": "center",
          "xref": "paper",
          "y": 1,
          "yanchor": "bottom",
          "yref": "paper"
         },
         {
          "font": {
           "size": 16
          },
          "showarrow": false,
          "text": "Appearance",
          "x": 0.8555555555555556,
          "xanchor": "center",
          "xref": "paper",
          "y": 1,
          "yanchor": "bottom",
          "yref": "paper"
         },
         {
          "font": {
           "size": 16
          },
          "showarrow": false,
          "text": "Aroma",
          "x": 0.14444444444444446,
          "xanchor": "center",
          "xref": "paper",
          "y": 0.375,
          "yanchor": "bottom",
          "yref": "paper"
         },
         {
          "font": {
           "size": 16
          },
          "showarrow": false,
          "text": "Overall",
          "x": 0.5,
          "xanchor": "center",
          "xref": "paper",
          "y": 0.375,
          "yanchor": "bottom",
          "yref": "paper"
         },
         {
          "font": {
           "size": 16
          },
          "showarrow": false,
          "text": "Rating",
          "x": 0.8555555555555556,
          "xanchor": "center",
          "xref": "paper",
          "y": 0.375,
          "yanchor": "bottom",
          "yref": "paper"
         }
        ],
        "height": 600,
        "template": {
         "data": {
          "bar": [
           {
            "error_x": {
             "color": "#2a3f5f"
            },
            "error_y": {
             "color": "#2a3f5f"
            },
            "marker": {
             "line": {
              "color": "#E5ECF6",
              "width": 0.5
             },
             "pattern": {
              "fillmode": "overlay",
              "size": 10,
              "solidity": 0.2
             }
            },
            "type": "bar"
           }
          ],
          "barpolar": [
           {
            "marker": {
             "line": {
              "color": "#E5ECF6",
              "width": 0.5
             },
             "pattern": {
              "fillmode": "overlay",
              "size": 10,
              "solidity": 0.2
             }
            },
            "type": "barpolar"
           }
          ],
          "carpet": [
           {
            "aaxis": {
             "endlinecolor": "#2a3f5f",
             "gridcolor": "white",
             "linecolor": "white",
             "minorgridcolor": "white",
             "startlinecolor": "#2a3f5f"
            },
            "baxis": {
             "endlinecolor": "#2a3f5f",
             "gridcolor": "white",
             "linecolor": "white",
             "minorgridcolor": "white",
             "startlinecolor": "#2a3f5f"
            },
            "type": "carpet"
           }
          ],
          "choropleth": [
           {
            "colorbar": {
             "outlinewidth": 0,
             "ticks": ""
            },
            "type": "choropleth"
           }
          ],
          "contour": [
           {
            "colorbar": {
             "outlinewidth": 0,
             "ticks": ""
            },
            "colorscale": [
             [
              0,
              "#0d0887"
             ],
             [
              0.1111111111111111,
              "#46039f"
             ],
             [
              0.2222222222222222,
              "#7201a8"
             ],
             [
              0.3333333333333333,
              "#9c179e"
             ],
             [
              0.4444444444444444,
              "#bd3786"
             ],
             [
              0.5555555555555556,
              "#d8576b"
             ],
             [
              0.6666666666666666,
              "#ed7953"
             ],
             [
              0.7777777777777778,
              "#fb9f3a"
             ],
             [
              0.8888888888888888,
              "#fdca26"
             ],
             [
              1,
              "#f0f921"
             ]
            ],
            "type": "contour"
           }
          ],
          "contourcarpet": [
           {
            "colorbar": {
             "outlinewidth": 0,
             "ticks": ""
            },
            "type": "contourcarpet"
           }
          ],
          "heatmap": [
           {
            "colorbar": {
             "outlinewidth": 0,
             "ticks": ""
            },
            "colorscale": [
             [
              0,
              "#0d0887"
             ],
             [
              0.1111111111111111,
              "#46039f"
             ],
             [
              0.2222222222222222,
              "#7201a8"
             ],
             [
              0.3333333333333333,
              "#9c179e"
             ],
             [
              0.4444444444444444,
              "#bd3786"
             ],
             [
              0.5555555555555556,
              "#d8576b"
             ],
             [
              0.6666666666666666,
              "#ed7953"
             ],
             [
              0.7777777777777778,
              "#fb9f3a"
             ],
             [
              0.8888888888888888,
              "#fdca26"
             ],
             [
              1,
              "#f0f921"
             ]
            ],
            "type": "heatmap"
           }
          ],
          "heatmapgl": [
           {
            "colorbar": {
             "outlinewidth": 0,
             "ticks": ""
            },
            "colorscale": [
             [
              0,
              "#0d0887"
             ],
             [
              0.1111111111111111,
              "#46039f"
             ],
             [
              0.2222222222222222,
              "#7201a8"
             ],
             [
              0.3333333333333333,
              "#9c179e"
             ],
             [
              0.4444444444444444,
              "#bd3786"
             ],
             [
              0.5555555555555556,
              "#d8576b"
             ],
             [
              0.6666666666666666,
              "#ed7953"
             ],
             [
              0.7777777777777778,
              "#fb9f3a"
             ],
             [
              0.8888888888888888,
              "#fdca26"
             ],
             [
              1,
              "#f0f921"
             ]
            ],
            "type": "heatmapgl"
           }
          ],
          "histogram": [
           {
            "marker": {
             "pattern": {
              "fillmode": "overlay",
              "size": 10,
              "solidity": 0.2
             }
            },
            "type": "histogram"
           }
          ],
          "histogram2d": [
           {
            "colorbar": {
             "outlinewidth": 0,
             "ticks": ""
            },
            "colorscale": [
             [
              0,
              "#0d0887"
             ],
             [
              0.1111111111111111,
              "#46039f"
             ],
             [
              0.2222222222222222,
              "#7201a8"
             ],
             [
              0.3333333333333333,
              "#9c179e"
             ],
             [
              0.4444444444444444,
              "#bd3786"
             ],
             [
              0.5555555555555556,
              "#d8576b"
             ],
             [
              0.6666666666666666,
              "#ed7953"
             ],
             [
              0.7777777777777778,
              "#fb9f3a"
             ],
             [
              0.8888888888888888,
              "#fdca26"
             ],
             [
              1,
              "#f0f921"
             ]
            ],
            "type": "histogram2d"
           }
          ],
          "histogram2dcontour": [
           {
            "colorbar": {
             "outlinewidth": 0,
             "ticks": ""
            },
            "colorscale": [
             [
              0,
              "#0d0887"
             ],
             [
              0.1111111111111111,
              "#46039f"
             ],
             [
              0.2222222222222222,
              "#7201a8"
             ],
             [
              0.3333333333333333,
              "#9c179e"
             ],
             [
              0.4444444444444444,
              "#bd3786"
             ],
             [
              0.5555555555555556,
              "#d8576b"
             ],
             [
              0.6666666666666666,
              "#ed7953"
             ],
             [
              0.7777777777777778,
              "#fb9f3a"
             ],
             [
              0.8888888888888888,
              "#fdca26"
             ],
             [
              1,
              "#f0f921"
             ]
            ],
            "type": "histogram2dcontour"
           }
          ],
          "mesh3d": [
           {
            "colorbar": {
             "outlinewidth": 0,
             "ticks": ""
            },
            "type": "mesh3d"
           }
          ],
          "parcoords": [
           {
            "line": {
             "colorbar": {
              "outlinewidth": 0,
              "ticks": ""
             }
            },
            "type": "parcoords"
           }
          ],
          "pie": [
           {
            "automargin": true,
            "type": "pie"
           }
          ],
          "scatter": [
           {
            "fillpattern": {
             "fillmode": "overlay",
             "size": 10,
             "solidity": 0.2
            },
            "type": "scatter"
           }
          ],
          "scatter3d": [
           {
            "line": {
             "colorbar": {
              "outlinewidth": 0,
              "ticks": ""
             }
            },
            "marker": {
             "colorbar": {
              "outlinewidth": 0,
              "ticks": ""
             }
            },
            "type": "scatter3d"
           }
          ],
          "scattercarpet": [
           {
            "marker": {
             "colorbar": {
              "outlinewidth": 0,
              "ticks": ""
             }
            },
            "type": "scattercarpet"
           }
          ],
          "scattergeo": [
           {
            "marker": {
             "colorbar": {
              "outlinewidth": 0,
              "ticks": ""
             }
            },
            "type": "scattergeo"
           }
          ],
          "scattergl": [
           {
            "marker": {
             "colorbar": {
              "outlinewidth": 0,
              "ticks": ""
             }
            },
            "type": "scattergl"
           }
          ],
          "scattermapbox": [
           {
            "marker": {
             "colorbar": {
              "outlinewidth": 0,
              "ticks": ""
             }
            },
            "type": "scattermapbox"
           }
          ],
          "scatterpolar": [
           {
            "marker": {
             "colorbar": {
              "outlinewidth": 0,
              "ticks": ""
             }
            },
            "type": "scatterpolar"
           }
          ],
          "scatterpolargl": [
           {
            "marker": {
             "colorbar": {
              "outlinewidth": 0,
              "ticks": ""
             }
            },
            "type": "scatterpolargl"
           }
          ],
          "scatterternary": [
           {
            "marker": {
             "colorbar": {
              "outlinewidth": 0,
              "ticks": ""
             }
            },
            "type": "scatterternary"
           }
          ],
          "surface": [
           {
            "colorbar": {
             "outlinewidth": 0,
             "ticks": ""
            },
            "colorscale": [
             [
              0,
              "#0d0887"
             ],
             [
              0.1111111111111111,
              "#46039f"
             ],
             [
              0.2222222222222222,
              "#7201a8"
             ],
             [
              0.3333333333333333,
              "#9c179e"
             ],
             [
              0.4444444444444444,
              "#bd3786"
             ],
             [
              0.5555555555555556,
              "#d8576b"
             ],
             [
              0.6666666666666666,
              "#ed7953"
             ],
             [
              0.7777777777777778,
              "#fb9f3a"
             ],
             [
              0.8888888888888888,
              "#fdca26"
             ],
             [
              1,
              "#f0f921"
             ]
            ],
            "type": "surface"
           }
          ],
          "table": [
           {
            "cells": {
             "fill": {
              "color": "#EBF0F8"
             },
             "line": {
              "color": "white"
             }
            },
            "header": {
             "fill": {
              "color": "#C8D4E3"
             },
             "line": {
              "color": "white"
             }
            },
            "type": "table"
           }
          ]
         },
         "layout": {
          "annotationdefaults": {
           "arrowcolor": "#2a3f5f",
           "arrowhead": 0,
           "arrowwidth": 1
          },
          "autotypenumbers": "strict",
          "coloraxis": {
           "colorbar": {
            "outlinewidth": 0,
            "ticks": ""
           }
          },
          "colorscale": {
           "diverging": [
            [
             0,
             "#8e0152"
            ],
            [
             0.1,
             "#c51b7d"
            ],
            [
             0.2,
             "#de77ae"
            ],
            [
             0.3,
             "#f1b6da"
            ],
            [
             0.4,
             "#fde0ef"
            ],
            [
             0.5,
             "#f7f7f7"
            ],
            [
             0.6,
             "#e6f5d0"
            ],
            [
             0.7,
             "#b8e186"
            ],
            [
             0.8,
             "#7fbc41"
            ],
            [
             0.9,
             "#4d9221"
            ],
            [
             1,
             "#276419"
            ]
           ],
           "sequential": [
            [
             0,
             "#0d0887"
            ],
            [
             0.1111111111111111,
             "#46039f"
            ],
            [
             0.2222222222222222,
             "#7201a8"
            ],
            [
             0.3333333333333333,
             "#9c179e"
            ],
            [
             0.4444444444444444,
             "#bd3786"
            ],
            [
             0.5555555555555556,
             "#d8576b"
            ],
            [
             0.6666666666666666,
             "#ed7953"
            ],
            [
             0.7777777777777778,
             "#fb9f3a"
            ],
            [
             0.8888888888888888,
             "#fdca26"
            ],
            [
             1,
             "#f0f921"
            ]
           ],
           "sequentialminus": [
            [
             0,
             "#0d0887"
            ],
            [
             0.1111111111111111,
             "#46039f"
            ],
            [
             0.2222222222222222,
             "#7201a8"
            ],
            [
             0.3333333333333333,
             "#9c179e"
            ],
            [
             0.4444444444444444,
             "#bd3786"
            ],
            [
             0.5555555555555556,
             "#d8576b"
            ],
            [
             0.6666666666666666,
             "#ed7953"
            ],
            [
             0.7777777777777778,
             "#fb9f3a"
            ],
            [
             0.8888888888888888,
             "#fdca26"
            ],
            [
             1,
             "#f0f921"
            ]
           ]
          },
          "colorway": [
           "#636efa",
           "#EF553B",
           "#00cc96",
           "#ab63fa",
           "#FFA15A",
           "#19d3f3",
           "#FF6692",
           "#B6E880",
           "#FF97FF",
           "#FECB52"
          ],
          "font": {
           "color": "#2a3f5f"
          },
          "geo": {
           "bgcolor": "white",
           "lakecolor": "white",
           "landcolor": "#E5ECF6",
           "showlakes": true,
           "showland": true,
           "subunitcolor": "white"
          },
          "hoverlabel": {
           "align": "left"
          },
          "hovermode": "closest",
          "mapbox": {
           "style": "light"
          },
          "paper_bgcolor": "white",
          "plot_bgcolor": "#E5ECF6",
          "polar": {
           "angularaxis": {
            "gridcolor": "white",
            "linecolor": "white",
            "ticks": ""
           },
           "bgcolor": "#E5ECF6",
           "radialaxis": {
            "gridcolor": "white",
            "linecolor": "white",
            "ticks": ""
           }
          },
          "scene": {
           "xaxis": {
            "backgroundcolor": "#E5ECF6",
            "gridcolor": "white",
            "gridwidth": 2,
            "linecolor": "white",
            "showbackground": true,
            "ticks": "",
            "zerolinecolor": "white"
           },
           "yaxis": {
            "backgroundcolor": "#E5ECF6",
            "gridcolor": "white",
            "gridwidth": 2,
            "linecolor": "white",
            "showbackground": true,
            "ticks": "",
            "zerolinecolor": "white"
           },
           "zaxis": {
            "backgroundcolor": "#E5ECF6",
            "gridcolor": "white",
            "gridwidth": 2,
            "linecolor": "white",
            "showbackground": true,
            "ticks": "",
            "zerolinecolor": "white"
           }
          },
          "shapedefaults": {
           "line": {
            "color": "#2a3f5f"
           }
          },
          "ternary": {
           "aaxis": {
            "gridcolor": "white",
            "linecolor": "white",
            "ticks": ""
           },
           "baxis": {
            "gridcolor": "white",
            "linecolor": "white",
            "ticks": ""
           },
           "bgcolor": "#E5ECF6",
           "caxis": {
            "gridcolor": "white",
            "linecolor": "white",
            "ticks": ""
           }
          },
          "title": {
           "x": 0.05
          },
          "xaxis": {
           "automargin": true,
           "gridcolor": "white",
           "linecolor": "white",
           "ticks": "",
           "title": {
            "standoff": 15
           },
           "zerolinecolor": "white",
           "zerolinewidth": 2
          },
          "yaxis": {
           "automargin": true,
           "gridcolor": "white",
           "linecolor": "white",
           "ticks": "",
           "title": {
            "standoff": 15
           },
           "zerolinecolor": "white",
           "zerolinewidth": 2
          }
         }
        },
        "width": 1000,
        "xaxis": {
         "anchor": "y",
         "domain": [
          0,
          0.2888888888888889
         ]
        },
        "xaxis2": {
         "anchor": "y2",
         "domain": [
          0.35555555555555557,
          0.6444444444444445
         ]
        },
        "xaxis3": {
         "anchor": "y3",
         "domain": [
          0.7111111111111111,
          1
         ]
        },
        "xaxis4": {
         "anchor": "y4",
         "domain": [
          0,
          0.2888888888888889
         ]
        },
        "xaxis5": {
         "anchor": "y5",
         "domain": [
          0.35555555555555557,
          0.6444444444444445
         ]
        },
        "xaxis6": {
         "anchor": "y6",
         "domain": [
          0.7111111111111111,
          1
         ]
        },
        "yaxis": {
         "anchor": "x",
         "domain": [
          0.625,
          1
         ]
        },
        "yaxis2": {
         "anchor": "x2",
         "domain": [
          0.625,
          1
         ]
        },
        "yaxis3": {
         "anchor": "x3",
         "domain": [
          0.625,
          1
         ]
        },
        "yaxis4": {
         "anchor": "x4",
         "domain": [
          0,
          0.375
         ]
        },
        "yaxis5": {
         "anchor": "x5",
         "domain": [
          0,
          0.375
         ]
        },
        "yaxis6": {
         "anchor": "x6",
         "domain": [
          0,
          0.375
         ]
        }
       }
      }
     },
     "metadata": {},
     "output_type": "display_data"
    }
   ],
   "source": [
    "# Include all the code needed for the global ratings analysis\n",
    "from src.processing import global_pres as gp\n",
    "global_pres = gp.Global(df_beers, df_breweries, df_users, df_ratings_no_text, save_folder=SAVING_FOLDER)\n",
    "\n",
    "# Display the ratings distribution\n",
    "global_pres.display_ratings_distribution()"
   ]
  },
  {
   "cell_type": "markdown",
   "metadata": {},
   "source": [
    "Before doing any conclusion also let's compute some key metrics for each category."
   ]
  },
  {
   "cell_type": "code",
   "execution_count": 18,
   "metadata": {},
   "outputs": [
    {
     "data": {
      "text/html": [
       "<div id=\"ajvtjrpume\" style=\"padding-left:0px;padding-right:0px;padding-top:10px;padding-bottom:10px;overflow-x:auto;overflow-y:auto;width:auto;height:auto;\">\n",
       "<style>\n",
       "#ajvtjrpume table {\n",
       "          font-family: -apple-system, BlinkMacSystemFont, 'Segoe UI', Roboto, Oxygen, Ubuntu, Cantarell, 'Helvetica Neue', 'Fira Sans', 'Droid Sans', Arial, sans-serif;\n",
       "          -webkit-font-smoothing: antialiased;\n",
       "          -moz-osx-font-smoothing: grayscale;\n",
       "        }\n",
       "\n",
       "#ajvtjrpume thead, tbody, tfoot, tr, td, th { border-style: none !important; }\n",
       " tr { background-color: transparent !important; }\n",
       "#ajvtjrpume p { margin: 0 !important; padding: 0 !important; }\n",
       " #ajvtjrpume .gt_table { display: table !important; border-collapse: collapse !important; line-height: normal !important; margin-left: auto !important; margin-right: auto !important; color: #333333 !important; font-size: 16px !important; font-weight: normal !important; font-style: normal !important; background-color: #FFFFFF !important; width: auto !important; border-top-style: solid !important; border-top-width: 2px !important; border-top-color: #A8A8A8 !important; border-right-style: none !important; border-right-width: 2px !important; border-right-color: #D3D3D3 !important; border-bottom-style: solid !important; border-bottom-width: 2px !important; border-bottom-color: #A8A8A8 !important; border-left-style: none !important; border-left-width: 2px !important; border-left-color: #D3D3D3 !important; }\n",
       " #ajvtjrpume .gt_caption { padding-top: 4px !important; padding-bottom: 4px !important; }\n",
       " #ajvtjrpume .gt_title { color: #333333 !important; font-size: 125% !important; font-weight: initial !important; padding-top: 4px !important; padding-bottom: 4px !important; padding-left: 5px !important; padding-right: 5px !important; border-bottom-color: #FFFFFF !important; border-bottom-width: 0 !important; }\n",
       " #ajvtjrpume .gt_subtitle { color: #333333 !important; font-size: 85% !important; font-weight: initial !important; padding-top: 3px !important; padding-bottom: 5px !important; padding-left: 5px !important; padding-right: 5px !important; border-top-color: #FFFFFF !important; border-top-width: 0 !important; }\n",
       " #ajvtjrpume .gt_heading { background-color: #FFFFFF !important; text-align: center !important; border-bottom-color: #FFFFFF !important; border-left-style: none !important; border-left-width: 1px !important; border-left-color: #D3D3D3 !important; border-right-style: none !important; border-right-width: 1px !important; border-right-color: #D3D3D3 !important; }\n",
       " #ajvtjrpume .gt_bottom_border { border-bottom-style: solid !important; border-bottom-width: 2px !important; border-bottom-color: #D3D3D3 !important; }\n",
       " #ajvtjrpume .gt_col_headings { border-top-style: solid !important; border-top-width: 2px !important; border-top-color: #D3D3D3 !important; border-bottom-style: solid !important; border-bottom-width: 2px !important; border-bottom-color: #D3D3D3 !important; border-left-style: none !important; border-left-width: 1px !important; border-left-color: #D3D3D3 !important; border-right-style: none !important; border-right-width: 1px !important; border-right-color: #D3D3D3 !important; }\n",
       " #ajvtjrpume .gt_col_heading { color: #333333 !important; background-color: #FFFFFF !important; font-size: 100% !important; font-weight: normal !important; text-transform: inherit !important; border-left-style: none !important; border-left-width: 1px !important; border-left-color: #D3D3D3 !important; border-right-style: none !important; border-right-width: 1px !important; border-right-color: #D3D3D3 !important; vertical-align: bottom !important; padding-top: 5px !important; padding-bottom: 5px !important; padding-left: 5px !important; padding-right: 5px !important; overflow-x: hidden !important; }\n",
       " #ajvtjrpume .gt_column_spanner_outer { color: #333333 !important; background-color: #FFFFFF !important; font-size: 100% !important; font-weight: normal !important; text-transform: inherit !important; padding-top: 0 !important; padding-bottom: 0 !important; padding-left: 4px !important; padding-right: 4px !important; }\n",
       " #ajvtjrpume .gt_column_spanner_outer:first-child { padding-left: 0 !important; }\n",
       " #ajvtjrpume .gt_column_spanner_outer:last-child { padding-right: 0 !important; }\n",
       " #ajvtjrpume .gt_column_spanner { border-bottom-style: solid !important; border-bottom-width: 2px !important; border-bottom-color: #D3D3D3 !important; vertical-align: bottom !important; padding-top: 5px !important; padding-bottom: 5px !important; overflow-x: hidden !important; display: inline-block !important; width: 100% !important; }\n",
       " #ajvtjrpume .gt_spanner_row { border-bottom-style: hidden !important; }\n",
       " #ajvtjrpume .gt_group_heading { padding-top: 8px !important; padding-bottom: 8px !important; padding-left: 5px !important; padding-right: 5px !important; color: #333333 !important; background-color: #FFFFFF !important; font-size: 100% !important; font-weight: initial !important; text-transform: inherit !important; border-top-style: solid !important; border-top-width: 2px !important; border-top-color: #D3D3D3 !important; border-bottom-style: solid !important; border-bottom-width: 2px !important; border-bottom-color: #D3D3D3 !important; border-left-style: none !important; border-left-width: 1px !important; border-left-color: #D3D3D3 !important; border-right-style: none !important; border-right-width: 1px !important; border-right-color: #D3D3D3 !important; vertical-align: middle !important; text-align: left !important; }\n",
       " #ajvtjrpume .gt_empty_group_heading { padding: 0.5px !important; color: #333333 !important; background-color: #FFFFFF !important; font-size: 100% !important; font-weight: initial !important; border-top-style: solid !important; border-top-width: 2px !important; border-top-color: #D3D3D3 !important; border-bottom-style: solid !important; border-bottom-width: 2px !important; border-bottom-color: #D3D3D3 !important; vertical-align: middle !important; }\n",
       " #ajvtjrpume .gt_from_md> :first-child { margin-top: 0 !important; }\n",
       " #ajvtjrpume .gt_from_md> :last-child { margin-bottom: 0 !important; }\n",
       " #ajvtjrpume .gt_row { padding-top: 8px !important; padding-bottom: 8px !important; padding-left: 5px !important; padding-right: 5px !important; margin: 10px !important; border-top-style: solid !important; border-top-width: 1px !important; border-top-color: #D3D3D3 !important; border-left-style: none !important; border-left-width: 1px !important; border-left-color: #D3D3D3 !important; border-right-style: none !important; border-right-width: 1px !important; border-right-color: #D3D3D3 !important; vertical-align: middle !important; overflow-x: hidden !important; }\n",
       " #ajvtjrpume .gt_stub { color: #333333 !important; background-color: #FFFFFF !important; font-size: 100% !important; font-weight: initial !important; text-transform: inherit !important; border-right-style: solid !important; border-right-width: 2px !important; border-right-color: #D3D3D3 !important; padding-left: 5px !important; padding-right: 5px !important; }\n",
       " #ajvtjrpume .gt_stub_row_group { color: #333333 !important; background-color: #FFFFFF !important; font-size: 100% !important; font-weight: initial !important; text-transform: inherit !important; border-right-style: solid !important; border-right-width: 2px !important; border-right-color: #D3D3D3 !important; padding-left: 5px !important; padding-right: 5px !important; vertical-align: top !important; }\n",
       " #ajvtjrpume .gt_row_group_first td { border-top-width: 2px !important; }\n",
       " #ajvtjrpume .gt_row_group_first th { border-top-width: 2px !important; }\n",
       " #ajvtjrpume .gt_striped { background-color: rgba(128,128,128,0.05) !important; }\n",
       " #ajvtjrpume .gt_table_body { border-top-style: solid !important; border-top-width: 2px !important; border-top-color: #D3D3D3 !important; border-bottom-style: solid !important; border-bottom-width: 2px !important; border-bottom-color: #D3D3D3 !important; }\n",
       " #ajvtjrpume .gt_sourcenotes { color: #333333 !important; background-color: #FFFFFF !important; border-bottom-style: none !important; border-bottom-width: 2px !important; border-bottom-color: #D3D3D3 !important; border-left-style: none !important; border-left-width: 2px !important; border-left-color: #D3D3D3 !important; border-right-style: none !important; border-right-width: 2px !important; border-right-color: #D3D3D3 !important; }\n",
       " #ajvtjrpume .gt_sourcenote { font-size: 90% !important; padding-top: 4px !important; padding-bottom: 4px !important; padding-left: 5px !important; padding-right: 5px !important; text-align: left !important; }\n",
       " #ajvtjrpume .gt_left { text-align: left !important; }\n",
       " #ajvtjrpume .gt_center { text-align: center !important; }\n",
       " #ajvtjrpume .gt_right { text-align: right !important; font-variant-numeric: tabular-nums !important; }\n",
       " #ajvtjrpume .gt_font_normal { font-weight: normal !important; }\n",
       " #ajvtjrpume .gt_font_bold { font-weight: bold !important; }\n",
       " #ajvtjrpume .gt_font_italic { font-style: italic !important; }\n",
       " #ajvtjrpume .gt_super { font-size: 65% !important; }\n",
       " #ajvtjrpume .gt_footnote_marks { font-size: 75% !important; vertical-align: 0.4em !important; position: initial !important; }\n",
       " #ajvtjrpume .gt_asterisk { font-size: 100% !important; vertical-align: 0 !important; }\n",
       " \n",
       "</style>\n",
       "<table class=\"gt_table\" data-quarto-disable-processing=\"false\" data-quarto-bootstrap=\"false\">\n",
       "<thead>\n",
       "\n",
       "  <tr class=\"gt_heading\">\n",
       "    <td colspan=\"7\" class=\"gt_heading gt_title gt_font_normal\">Statistics of the ratings</td>\n",
       "  </tr>\n",
       "<tr class=\"gt_col_headings\">\n",
       "  <th class=\"gt_col_heading gt_columns_bottom_border gt_left\" rowspan=\"1\" colspan=\"1\" scope=\"col\" id=\"Rating\">Rating</th>\n",
       "  <th class=\"gt_col_heading gt_columns_bottom_border gt_right\" rowspan=\"1\" colspan=\"1\" scope=\"col\" id=\"Mean\">Mean</th>\n",
       "  <th class=\"gt_col_heading gt_columns_bottom_border gt_right\" rowspan=\"1\" colspan=\"1\" scope=\"col\" id=\"Std\">Std</th>\n",
       "  <th class=\"gt_col_heading gt_columns_bottom_border gt_right\" rowspan=\"1\" colspan=\"1\" scope=\"col\" id=\"Median\">Median</th>\n",
       "  <th class=\"gt_col_heading gt_columns_bottom_border gt_right\" rowspan=\"1\" colspan=\"1\" scope=\"col\" id=\"Skewness\">Skewness</th>\n",
       "  <th class=\"gt_col_heading gt_columns_bottom_border gt_right\" rowspan=\"1\" colspan=\"1\" scope=\"col\" id=\"Kurtosis\">Kurtosis</th>\n",
       "  <th class=\"gt_col_heading gt_columns_bottom_border gt_center\" rowspan=\"1\" colspan=\"1\" scope=\"col\" id=\"Can reject H0 (95%)\">Can reject H0 (95%)</th>\n",
       "</tr>\n",
       "</thead>\n",
       "<tbody class=\"gt_table_body\">\n",
       "  <tr>\n",
       "    <td class=\"gt_row gt_left\">mouthfeel</td>\n",
       "    <td class=\"gt_row gt_right\">3.27</td>\n",
       "    <td class=\"gt_row gt_right\">0.79</td>\n",
       "    <td class=\"gt_row gt_right\">3.0</td>\n",
       "    <td class=\"gt_row gt_right\">-0.19</td>\n",
       "    <td class=\"gt_row gt_right\">0.25</td>\n",
       "    <td class=\"gt_row gt_center\">True</td>\n",
       "  </tr>\n",
       "  <tr>\n",
       "    <td class=\"gt_row gt_left\">taste</td>\n",
       "    <td class=\"gt_row gt_right\">6.48</td>\n",
       "    <td class=\"gt_row gt_right\">1.53</td>\n",
       "    <td class=\"gt_row gt_right\">7.0</td>\n",
       "    <td class=\"gt_row gt_right\">-0.79</td>\n",
       "    <td class=\"gt_row gt_right\">1.01</td>\n",
       "    <td class=\"gt_row gt_center\">True</td>\n",
       "  </tr>\n",
       "  <tr>\n",
       "    <td class=\"gt_row gt_left\">appearance</td>\n",
       "    <td class=\"gt_row gt_right\">3.43</td>\n",
       "    <td class=\"gt_row gt_right\">0.77</td>\n",
       "    <td class=\"gt_row gt_right\">3.0</td>\n",
       "    <td class=\"gt_row gt_right\">-0.15</td>\n",
       "    <td class=\"gt_row gt_right\">0.26</td>\n",
       "    <td class=\"gt_row gt_center\">True</td>\n",
       "  </tr>\n",
       "  <tr>\n",
       "    <td class=\"gt_row gt_left\">aroma</td>\n",
       "    <td class=\"gt_row gt_right\">6.4</td>\n",
       "    <td class=\"gt_row gt_right\">1.53</td>\n",
       "    <td class=\"gt_row gt_right\">7.0</td>\n",
       "    <td class=\"gt_row gt_right\">-0.77</td>\n",
       "    <td class=\"gt_row gt_right\">1.0</td>\n",
       "    <td class=\"gt_row gt_center\">True</td>\n",
       "  </tr>\n",
       "  <tr>\n",
       "    <td class=\"gt_row gt_left\">overall</td>\n",
       "    <td class=\"gt_row gt_right\">13.18</td>\n",
       "    <td class=\"gt_row gt_right\">3.14</td>\n",
       "    <td class=\"gt_row gt_right\">14.0</td>\n",
       "    <td class=\"gt_row gt_right\">-0.99</td>\n",
       "    <td class=\"gt_row gt_right\">1.4</td>\n",
       "    <td class=\"gt_row gt_center\">True</td>\n",
       "  </tr>\n",
       "  <tr>\n",
       "    <td class=\"gt_row gt_left\">rating</td>\n",
       "    <td class=\"gt_row gt_right\">3.28</td>\n",
       "    <td class=\"gt_row gt_right\">0.68</td>\n",
       "    <td class=\"gt_row gt_right\">3.4</td>\n",
       "    <td class=\"gt_row gt_right\">-0.92</td>\n",
       "    <td class=\"gt_row gt_right\">1.42</td>\n",
       "    <td class=\"gt_row gt_center\">True</td>\n",
       "  </tr>\n",
       "</tbody>\n",
       "\n",
       "\n",
       "</table>\n",
       "\n",
       "</div>\n",
       "        "
      ]
     },
     "metadata": {
      "text/html": {
       "text/html": {
        "isolated": true
       }
      }
     },
     "output_type": "display_data"
    }
   ],
   "source": [
    "global_pres.display_ratings_statistics()"
   ]
  },
  {
   "cell_type": "markdown",
   "metadata": {},
   "source": [
    "We observe multiple interesting aspects:\n",
    "- **Central Tendency Bias:**  \n",
    "  All the ratings have a mean and median close to the center of the rating scale. This suggests users exhibit a central tendency bias, where they avoid extreme judgments and rate items near the middle of the scale. However, the Shapiro-Wilk test at 95% confidence indicates the data are not normally distributed, as also evident from the distribution plots.  \n",
    "\n",
    "- **Category-specific Observations:**  \n",
    "  While the mean and median are generally close to the center of the rating scale, there are notable differences, both numerically and visually:  \n",
    "\n",
    "  - **Mouthfeel and Appearance:**  \n",
    "    - The mean is slightly higher than the median, and skewness is lower compared to other categories.  \n",
    "    - This suggests users are more demanding in these categories, leading to generally lower ratings.  \n",
    "    - The subjectivity and difficulty in evaluating these attributes could also play a role. For instance, what constitutes a \"5-star\" mouthfeel is often ambiguous.  \n",
    "\n",
    "  - **Taste and Aroma:**  \n",
    "    - The median is slightly higher than the mean, indicating users favor these categories and tend to give them higher ratings.  \n",
    "    - This suggests users genuinely enjoy these aspects, resulting in more favorable evaluations.  \n",
    "\n",
    "  - **Overall Rating:**  \n",
    "    - The overall score leans toward the higher end of the scale, potentially influenced by taste and aroma ratings.  \n",
    "    - This warrants further investigation in future analyses.  "
   ]
  },
  {
   "cell_type": "markdown",
   "metadata": {},
   "source": [
    "### Correlation between the ratings attributes\n",
    "Here we are gonna analyze the correlation between the ratings attributes given by the users. In this section we won't consider the rating but rather the overall score as an overall rate of the experience. This is reasonable since:\n",
    "- The overall is used to evaluate in general the experience of the beer\n",
    "- The rating is computed from the other parameters so studing the correlation of the parameters with respect to it has little to no significance."
   ]
  },
  {
   "cell_type": "code",
   "execution_count": 19,
   "metadata": {},
   "outputs": [
    {
     "data": {
      "application/vnd.plotly.v1+json": {
       "config": {
        "plotlyServerURL": "https://plot.ly"
       },
       "data": [
        {
         "colorscale": [
          [
           0,
           "pink"
          ],
          [
           1,
           "red"
          ]
         ],
         "hoverinfo": "text",
         "showscale": true,
         "text": [
          "mouthfeel vs taste: 0.65",
          "mouthfeel vs appearance: 0.55",
          "taste vs appearance: 0.48",
          "mouthfeel vs aroma: 0.56",
          "taste vs aroma: 0.79",
          "appearance vs aroma: 0.48",
          "mouthfeel vs overall: 0.66",
          "taste vs overall: 0.86",
          "appearance vs overall: 0.50",
          "aroma vs overall: 0.78",
          "mouthfeel vs abv: 0.31",
          "taste vs abv: 0.36",
          "appearance vs abv: 0.26",
          "aroma vs abv: 0.38",
          "overall vs abv: 0.38"
         ],
         "type": "heatmap",
         "x": [
          "mouthfeel",
          "mouthfeel",
          "taste",
          "mouthfeel",
          "taste",
          "appearance",
          "mouthfeel",
          "taste",
          "appearance",
          "aroma",
          "mouthfeel",
          "taste",
          "appearance",
          "aroma",
          "overall"
         ],
         "y": [
          "taste",
          "appearance",
          "appearance",
          "aroma",
          "aroma",
          "aroma",
          "overall",
          "overall",
          "overall",
          "overall",
          "abv",
          "abv",
          "abv",
          "abv",
          "abv"
         ],
         "z": [
          0.6536815718199175,
          0.5465739304540647,
          0.4844844240309571,
          0.5649918823869602,
          0.7943267620598246,
          0.4768052525348344,
          0.6565450757270032,
          0.8574620858915486,
          0.4986874259283311,
          0.7755465470979258,
          0.3090674878495343,
          0.3632647754484344,
          0.2556480688107008,
          0.37753522792256106,
          0.37664544251115345
         ],
         "zmax": 0.8574620858915486,
         "zmin": 0.2556480688107008
        }
       ],
       "layout": {
        "annotations": [
         {
          "font": {
           "color": "black",
           "size": 14
          },
          "showarrow": false,
          "text": "0.65",
          "x": "mouthfeel",
          "y": "taste"
         },
         {
          "font": {
           "color": "black",
           "size": 14
          },
          "showarrow": false,
          "text": "0.55",
          "x": "mouthfeel",
          "y": "appearance"
         },
         {
          "font": {
           "color": "black",
           "size": 14
          },
          "showarrow": false,
          "text": "0.48",
          "x": "taste",
          "y": "appearance"
         },
         {
          "font": {
           "color": "black",
           "size": 14
          },
          "showarrow": false,
          "text": "0.56",
          "x": "mouthfeel",
          "y": "aroma"
         },
         {
          "font": {
           "color": "black",
           "size": 14
          },
          "showarrow": false,
          "text": "0.79",
          "x": "taste",
          "y": "aroma"
         },
         {
          "font": {
           "color": "black",
           "size": 14
          },
          "showarrow": false,
          "text": "0.48",
          "x": "appearance",
          "y": "aroma"
         },
         {
          "font": {
           "color": "black",
           "size": 14
          },
          "showarrow": false,
          "text": "0.66",
          "x": "mouthfeel",
          "y": "overall"
         },
         {
          "font": {
           "color": "black",
           "size": 14
          },
          "showarrow": false,
          "text": "0.86",
          "x": "taste",
          "y": "overall"
         },
         {
          "font": {
           "color": "black",
           "size": 14
          },
          "showarrow": false,
          "text": "0.50",
          "x": "appearance",
          "y": "overall"
         },
         {
          "font": {
           "color": "black",
           "size": 14
          },
          "showarrow": false,
          "text": "0.78",
          "x": "aroma",
          "y": "overall"
         },
         {
          "font": {
           "color": "black",
           "size": 14
          },
          "showarrow": false,
          "text": "0.31",
          "x": "mouthfeel",
          "y": "abv"
         },
         {
          "font": {
           "color": "black",
           "size": 14
          },
          "showarrow": false,
          "text": "0.36",
          "x": "taste",
          "y": "abv"
         },
         {
          "font": {
           "color": "black",
           "size": 14
          },
          "showarrow": false,
          "text": "0.26",
          "x": "appearance",
          "y": "abv"
         },
         {
          "font": {
           "color": "black",
           "size": 14
          },
          "showarrow": false,
          "text": "0.38",
          "x": "aroma",
          "y": "abv"
         },
         {
          "font": {
           "color": "black",
           "size": 14
          },
          "showarrow": false,
          "text": "0.38",
          "x": "overall",
          "y": "abv"
         }
        ],
        "autosize": true,
        "height": 600,
        "paper_bgcolor": "white",
        "plot_bgcolor": "white",
        "template": {
         "data": {
          "bar": [
           {
            "error_x": {
             "color": "#2a3f5f"
            },
            "error_y": {
             "color": "#2a3f5f"
            },
            "marker": {
             "line": {
              "color": "#E5ECF6",
              "width": 0.5
             },
             "pattern": {
              "fillmode": "overlay",
              "size": 10,
              "solidity": 0.2
             }
            },
            "type": "bar"
           }
          ],
          "barpolar": [
           {
            "marker": {
             "line": {
              "color": "#E5ECF6",
              "width": 0.5
             },
             "pattern": {
              "fillmode": "overlay",
              "size": 10,
              "solidity": 0.2
             }
            },
            "type": "barpolar"
           }
          ],
          "carpet": [
           {
            "aaxis": {
             "endlinecolor": "#2a3f5f",
             "gridcolor": "white",
             "linecolor": "white",
             "minorgridcolor": "white",
             "startlinecolor": "#2a3f5f"
            },
            "baxis": {
             "endlinecolor": "#2a3f5f",
             "gridcolor": "white",
             "linecolor": "white",
             "minorgridcolor": "white",
             "startlinecolor": "#2a3f5f"
            },
            "type": "carpet"
           }
          ],
          "choropleth": [
           {
            "colorbar": {
             "outlinewidth": 0,
             "ticks": ""
            },
            "type": "choropleth"
           }
          ],
          "contour": [
           {
            "colorbar": {
             "outlinewidth": 0,
             "ticks": ""
            },
            "colorscale": [
             [
              0,
              "#0d0887"
             ],
             [
              0.1111111111111111,
              "#46039f"
             ],
             [
              0.2222222222222222,
              "#7201a8"
             ],
             [
              0.3333333333333333,
              "#9c179e"
             ],
             [
              0.4444444444444444,
              "#bd3786"
             ],
             [
              0.5555555555555556,
              "#d8576b"
             ],
             [
              0.6666666666666666,
              "#ed7953"
             ],
             [
              0.7777777777777778,
              "#fb9f3a"
             ],
             [
              0.8888888888888888,
              "#fdca26"
             ],
             [
              1,
              "#f0f921"
             ]
            ],
            "type": "contour"
           }
          ],
          "contourcarpet": [
           {
            "colorbar": {
             "outlinewidth": 0,
             "ticks": ""
            },
            "type": "contourcarpet"
           }
          ],
          "heatmap": [
           {
            "colorbar": {
             "outlinewidth": 0,
             "ticks": ""
            },
            "colorscale": [
             [
              0,
              "#0d0887"
             ],
             [
              0.1111111111111111,
              "#46039f"
             ],
             [
              0.2222222222222222,
              "#7201a8"
             ],
             [
              0.3333333333333333,
              "#9c179e"
             ],
             [
              0.4444444444444444,
              "#bd3786"
             ],
             [
              0.5555555555555556,
              "#d8576b"
             ],
             [
              0.6666666666666666,
              "#ed7953"
             ],
             [
              0.7777777777777778,
              "#fb9f3a"
             ],
             [
              0.8888888888888888,
              "#fdca26"
             ],
             [
              1,
              "#f0f921"
             ]
            ],
            "type": "heatmap"
           }
          ],
          "heatmapgl": [
           {
            "colorbar": {
             "outlinewidth": 0,
             "ticks": ""
            },
            "colorscale": [
             [
              0,
              "#0d0887"
             ],
             [
              0.1111111111111111,
              "#46039f"
             ],
             [
              0.2222222222222222,
              "#7201a8"
             ],
             [
              0.3333333333333333,
              "#9c179e"
             ],
             [
              0.4444444444444444,
              "#bd3786"
             ],
             [
              0.5555555555555556,
              "#d8576b"
             ],
             [
              0.6666666666666666,
              "#ed7953"
             ],
             [
              0.7777777777777778,
              "#fb9f3a"
             ],
             [
              0.8888888888888888,
              "#fdca26"
             ],
             [
              1,
              "#f0f921"
             ]
            ],
            "type": "heatmapgl"
           }
          ],
          "histogram": [
           {
            "marker": {
             "pattern": {
              "fillmode": "overlay",
              "size": 10,
              "solidity": 0.2
             }
            },
            "type": "histogram"
           }
          ],
          "histogram2d": [
           {
            "colorbar": {
             "outlinewidth": 0,
             "ticks": ""
            },
            "colorscale": [
             [
              0,
              "#0d0887"
             ],
             [
              0.1111111111111111,
              "#46039f"
             ],
             [
              0.2222222222222222,
              "#7201a8"
             ],
             [
              0.3333333333333333,
              "#9c179e"
             ],
             [
              0.4444444444444444,
              "#bd3786"
             ],
             [
              0.5555555555555556,
              "#d8576b"
             ],
             [
              0.6666666666666666,
              "#ed7953"
             ],
             [
              0.7777777777777778,
              "#fb9f3a"
             ],
             [
              0.8888888888888888,
              "#fdca26"
             ],
             [
              1,
              "#f0f921"
             ]
            ],
            "type": "histogram2d"
           }
          ],
          "histogram2dcontour": [
           {
            "colorbar": {
             "outlinewidth": 0,
             "ticks": ""
            },
            "colorscale": [
             [
              0,
              "#0d0887"
             ],
             [
              0.1111111111111111,
              "#46039f"
             ],
             [
              0.2222222222222222,
              "#7201a8"
             ],
             [
              0.3333333333333333,
              "#9c179e"
             ],
             [
              0.4444444444444444,
              "#bd3786"
             ],
             [
              0.5555555555555556,
              "#d8576b"
             ],
             [
              0.6666666666666666,
              "#ed7953"
             ],
             [
              0.7777777777777778,
              "#fb9f3a"
             ],
             [
              0.8888888888888888,
              "#fdca26"
             ],
             [
              1,
              "#f0f921"
             ]
            ],
            "type": "histogram2dcontour"
           }
          ],
          "mesh3d": [
           {
            "colorbar": {
             "outlinewidth": 0,
             "ticks": ""
            },
            "type": "mesh3d"
           }
          ],
          "parcoords": [
           {
            "line": {
             "colorbar": {
              "outlinewidth": 0,
              "ticks": ""
             }
            },
            "type": "parcoords"
           }
          ],
          "pie": [
           {
            "automargin": true,
            "type": "pie"
           }
          ],
          "scatter": [
           {
            "fillpattern": {
             "fillmode": "overlay",
             "size": 10,
             "solidity": 0.2
            },
            "type": "scatter"
           }
          ],
          "scatter3d": [
           {
            "line": {
             "colorbar": {
              "outlinewidth": 0,
              "ticks": ""
             }
            },
            "marker": {
             "colorbar": {
              "outlinewidth": 0,
              "ticks": ""
             }
            },
            "type": "scatter3d"
           }
          ],
          "scattercarpet": [
           {
            "marker": {
             "colorbar": {
              "outlinewidth": 0,
              "ticks": ""
             }
            },
            "type": "scattercarpet"
           }
          ],
          "scattergeo": [
           {
            "marker": {
             "colorbar": {
              "outlinewidth": 0,
              "ticks": ""
             }
            },
            "type": "scattergeo"
           }
          ],
          "scattergl": [
           {
            "marker": {
             "colorbar": {
              "outlinewidth": 0,
              "ticks": ""
             }
            },
            "type": "scattergl"
           }
          ],
          "scattermapbox": [
           {
            "marker": {
             "colorbar": {
              "outlinewidth": 0,
              "ticks": ""
             }
            },
            "type": "scattermapbox"
           }
          ],
          "scatterpolar": [
           {
            "marker": {
             "colorbar": {
              "outlinewidth": 0,
              "ticks": ""
             }
            },
            "type": "scatterpolar"
           }
          ],
          "scatterpolargl": [
           {
            "marker": {
             "colorbar": {
              "outlinewidth": 0,
              "ticks": ""
             }
            },
            "type": "scatterpolargl"
           }
          ],
          "scatterternary": [
           {
            "marker": {
             "colorbar": {
              "outlinewidth": 0,
              "ticks": ""
             }
            },
            "type": "scatterternary"
           }
          ],
          "surface": [
           {
            "colorbar": {
             "outlinewidth": 0,
             "ticks": ""
            },
            "colorscale": [
             [
              0,
              "#0d0887"
             ],
             [
              0.1111111111111111,
              "#46039f"
             ],
             [
              0.2222222222222222,
              "#7201a8"
             ],
             [
              0.3333333333333333,
              "#9c179e"
             ],
             [
              0.4444444444444444,
              "#bd3786"
             ],
             [
              0.5555555555555556,
              "#d8576b"
             ],
             [
              0.6666666666666666,
              "#ed7953"
             ],
             [
              0.7777777777777778,
              "#fb9f3a"
             ],
             [
              0.8888888888888888,
              "#fdca26"
             ],
             [
              1,
              "#f0f921"
             ]
            ],
            "type": "surface"
           }
          ],
          "table": [
           {
            "cells": {
             "fill": {
              "color": "#EBF0F8"
             },
             "line": {
              "color": "white"
             }
            },
            "header": {
             "fill": {
              "color": "#C8D4E3"
             },
             "line": {
              "color": "white"
             }
            },
            "type": "table"
           }
          ]
         },
         "layout": {
          "annotationdefaults": {
           "arrowcolor": "#2a3f5f",
           "arrowhead": 0,
           "arrowwidth": 1
          },
          "autotypenumbers": "strict",
          "coloraxis": {
           "colorbar": {
            "outlinewidth": 0,
            "ticks": ""
           }
          },
          "colorscale": {
           "diverging": [
            [
             0,
             "#8e0152"
            ],
            [
             0.1,
             "#c51b7d"
            ],
            [
             0.2,
             "#de77ae"
            ],
            [
             0.3,
             "#f1b6da"
            ],
            [
             0.4,
             "#fde0ef"
            ],
            [
             0.5,
             "#f7f7f7"
            ],
            [
             0.6,
             "#e6f5d0"
            ],
            [
             0.7,
             "#b8e186"
            ],
            [
             0.8,
             "#7fbc41"
            ],
            [
             0.9,
             "#4d9221"
            ],
            [
             1,
             "#276419"
            ]
           ],
           "sequential": [
            [
             0,
             "#0d0887"
            ],
            [
             0.1111111111111111,
             "#46039f"
            ],
            [
             0.2222222222222222,
             "#7201a8"
            ],
            [
             0.3333333333333333,
             "#9c179e"
            ],
            [
             0.4444444444444444,
             "#bd3786"
            ],
            [
             0.5555555555555556,
             "#d8576b"
            ],
            [
             0.6666666666666666,
             "#ed7953"
            ],
            [
             0.7777777777777778,
             "#fb9f3a"
            ],
            [
             0.8888888888888888,
             "#fdca26"
            ],
            [
             1,
             "#f0f921"
            ]
           ],
           "sequentialminus": [
            [
             0,
             "#0d0887"
            ],
            [
             0.1111111111111111,
             "#46039f"
            ],
            [
             0.2222222222222222,
             "#7201a8"
            ],
            [
             0.3333333333333333,
             "#9c179e"
            ],
            [
             0.4444444444444444,
             "#bd3786"
            ],
            [
             0.5555555555555556,
             "#d8576b"
            ],
            [
             0.6666666666666666,
             "#ed7953"
            ],
            [
             0.7777777777777778,
             "#fb9f3a"
            ],
            [
             0.8888888888888888,
             "#fdca26"
            ],
            [
             1,
             "#f0f921"
            ]
           ]
          },
          "colorway": [
           "#636efa",
           "#EF553B",
           "#00cc96",
           "#ab63fa",
           "#FFA15A",
           "#19d3f3",
           "#FF6692",
           "#B6E880",
           "#FF97FF",
           "#FECB52"
          ],
          "font": {
           "color": "#2a3f5f"
          },
          "geo": {
           "bgcolor": "white",
           "lakecolor": "white",
           "landcolor": "#E5ECF6",
           "showlakes": true,
           "showland": true,
           "subunitcolor": "white"
          },
          "hoverlabel": {
           "align": "left"
          },
          "hovermode": "closest",
          "mapbox": {
           "style": "light"
          },
          "paper_bgcolor": "white",
          "plot_bgcolor": "#E5ECF6",
          "polar": {
           "angularaxis": {
            "gridcolor": "white",
            "linecolor": "white",
            "ticks": ""
           },
           "bgcolor": "#E5ECF6",
           "radialaxis": {
            "gridcolor": "white",
            "linecolor": "white",
            "ticks": ""
           }
          },
          "scene": {
           "xaxis": {
            "backgroundcolor": "#E5ECF6",
            "gridcolor": "white",
            "gridwidth": 2,
            "linecolor": "white",
            "showbackground": true,
            "ticks": "",
            "zerolinecolor": "white"
           },
           "yaxis": {
            "backgroundcolor": "#E5ECF6",
            "gridcolor": "white",
            "gridwidth": 2,
            "linecolor": "white",
            "showbackground": true,
            "ticks": "",
            "zerolinecolor": "white"
           },
           "zaxis": {
            "backgroundcolor": "#E5ECF6",
            "gridcolor": "white",
            "gridwidth": 2,
            "linecolor": "white",
            "showbackground": true,
            "ticks": "",
            "zerolinecolor": "white"
           }
          },
          "shapedefaults": {
           "line": {
            "color": "#2a3f5f"
           }
          },
          "ternary": {
           "aaxis": {
            "gridcolor": "white",
            "linecolor": "white",
            "ticks": ""
           },
           "baxis": {
            "gridcolor": "white",
            "linecolor": "white",
            "ticks": ""
           },
           "bgcolor": "#E5ECF6",
           "caxis": {
            "gridcolor": "white",
            "linecolor": "white",
            "ticks": ""
           }
          },
          "title": {
           "x": 0.05
          },
          "xaxis": {
           "automargin": true,
           "gridcolor": "white",
           "linecolor": "white",
           "ticks": "",
           "title": {
            "standoff": 15
           },
           "zerolinecolor": "white",
           "zerolinewidth": 2
          },
          "yaxis": {
           "automargin": true,
           "gridcolor": "white",
           "linecolor": "white",
           "ticks": "",
           "title": {
            "standoff": 15
           },
           "zerolinecolor": "white",
           "zerolinewidth": 2
          }
         }
        },
        "width": 800,
        "xaxis": {
         "tickfont": {
          "size": 14
         }
        },
        "yaxis": {
         "tickfont": {
          "size": 14
         },
         "tickmode": "linear"
        }
       }
      }
     },
     "metadata": {},
     "output_type": "display_data"
    }
   ],
   "source": [
    "global_pres.plot_correlation_matrix(df_ratings_no_text[['mouthfeel','taste','appearance','aroma','overall','abv']], 'docs/plots/ratings_distribution/correlation_matrix.html')"
   ]
  },
  {
   "cell_type": "markdown",
   "metadata": {},
   "source": [
    "We see that taste and aroma show the highest correlations with overall beer ratings, at 0.86 and 0.77, respectively. These attributes dominate the beer experience given their impact on the overall flavor profile.\n",
    "\n",
    "Appearance and palate, on the other hand, have moderate correlations with overall beer ratings, at 0.50 and 0.66, respectively. The lower correlation, compared with the one of taste and aroma, suggests that these attributes play a secondary role in the overall experience, either for the complexity of the evaluation or for the less significance in the overall experience.\n",
    "\n",
    "Alcohol by volume (ABV) has the lowest correlation overall (with a correlation of 0.37 with the overall ratings) even if it's still significant. This suggests that there is some link between the ABV and the users preferences that we are going to explore further in the next sections."
   ]
  },
  {
   "cell_type": "markdown",
   "metadata": {},
   "source": [
    "We see that there is a strong relation between the different parameters and the overall score. Can we use them to predict wether or not the user will enjoy the beer?"
   ]
  },
  {
   "cell_type": "code",
   "execution_count": 20,
   "metadata": {},
   "outputs": [
    {
     "name": "stdout",
     "output_type": "stream",
     "text": [
      "                            OLS Regression Results                            \n",
      "==============================================================================\n",
      "Dep. Variable:                overall   R-squared:                       0.773\n",
      "Model:                            OLS   Adj. R-squared:                  0.773\n",
      "Method:                 Least Squares   F-statistic:                 4.379e+06\n",
      "Date:                Mon, 16 Dec 2024   Prob (F-statistic):               0.00\n",
      "Time:                        14:34:20   Log-Likelihood:            -9.3563e+06\n",
      "No. Observations:             5139954   AIC:                         1.871e+07\n",
      "Df Residuals:                 5139949   BIC:                         1.871e+07\n",
      "Df Model:                           4                                         \n",
      "Covariance Type:            nonrobust                                         \n",
      "==============================================================================\n",
      "                 coef    std err          t      P>|t|      [0.025      0.975]\n",
      "------------------------------------------------------------------------------\n",
      "const         13.1768      0.001      2e+04      0.000      13.175      13.178\n",
      "aroma          0.7184      0.001    651.700      0.000       0.716       0.721\n",
      "taste          1.7843      0.001   1499.701      0.000       1.782       1.787\n",
      "mouthfeel      0.4159      0.001    447.685      0.000       0.414       0.418\n",
      "appearance     0.1296      0.001    159.635      0.000       0.128       0.131\n",
      "==============================================================================\n",
      "Omnibus:                   481811.351   Durbin-Watson:                   1.902\n",
      "Prob(Omnibus):                  0.000   Jarque-Bera (JB):          3339959.200\n",
      "Skew:                          -0.149   Prob(JB):                         0.00\n",
      "Kurtosis:                       6.938   Cond. No.                         3.79\n",
      "==============================================================================\n",
      "\n",
      "Notes:\n",
      "[1] Standard Errors assume that the covariance matrix of the errors is correctly specified.\n"
     ]
    }
   ],
   "source": [
    "results, r_squared, rmse = global_pres.regression_analysis(df_ratings_no_text)\n",
    "print(results.summary())"
   ]
  },
  {
   "cell_type": "code",
   "execution_count": null,
   "metadata": {},
   "outputs": [
    {
     "name": "stdout",
     "output_type": "stream",
     "text": [
      "The R-squared value at test is 0.7731865103961637\n",
      "The RMSE value at test is 1.495436930543424\n"
     ]
    }
   ],
   "source": [
    "print(f\"The R-squared value at test is {r_squared}\")\n",
    "print(f\"The RMSE value at test is {rmse}\")"
   ]
  },
  {
   "cell_type": "markdown",
   "metadata": {},
   "source": [
    "It seems we can do this!</br><br>\n",
    "From the linear regression model we can clearly see that the four parameters are significant in predicting the overall experience of an user and whether or not one will like the beer. We see that approximately 77% of the variance is explained by the model with a test set and that the RMSE is quite low, approximately 1.50, which is not significant in a scale with a granularity of 1. <br>\n",
    "From the p value we see that all the parameters are significant in the prediction of the overall grade (the p value for all of them is almost zero). <br>\n",
    "We see that taste has almost double the impact on the overall experience than aroma, with the first one that has a coefficient of <b>1.7843</b> vs a coefficient of <b>0.7184</b> for the second parameter. We see that the appearance and the mouthfeel have a much lower impact than the others (respectively <b>0.4159</b> and <b>0.1296</b>). <br><br>\n",
    "From these results we have a significant insight: if user does't like the taste of a beer than they'll likely won't like the beer at all."
   ]
  },
  {
   "cell_type": "markdown",
   "metadata": {},
   "source": [
    "### Rating in the different countries\n",
    "Here we are going to see which are the favourite beer locations in the world. We are going to consider the rating here to have a metric that summarize all the other parameters, given that now we know how they influence the overall experience and in general how impactful each of them on user preferences."
   ]
  },
  {
   "cell_type": "code",
   "execution_count": 22,
   "metadata": {},
   "outputs": [
    {
     "data": {
      "application/vnd.plotly.v1+json": {
       "config": {
        "plotlyServerURL": "https://plot.ly"
       },
       "data": [
        {
         "colorscale": [
          [
           0,
           "rgb(247,251,255)"
          ],
          [
           0.125,
           "rgb(222,235,247)"
          ],
          [
           0.25,
           "rgb(198,219,239)"
          ],
          [
           0.375,
           "rgb(158,202,225)"
          ],
          [
           0.5,
           "rgb(107,174,214)"
          ],
          [
           0.625,
           "rgb(66,146,198)"
          ],
          [
           0.75,
           "rgb(33,113,181)"
          ],
          [
           0.875,
           "rgb(8,81,156)"
          ],
          [
           1,
           "rgb(8,48,107)"
          ]
         ],
         "hovertemplate": "<b>%{location}</b><br>Count: %{z}<extra></extra>",
         "locationmode": "country names",
         "locations": [
          "Albania",
          "Argentina",
          "Armenia",
          "Australia",
          "Austria",
          "Bahamas",
          "Barbados",
          "Belarus",
          "Belgium",
          "Belize",
          "Bolivia",
          "Bosnia and Herzegovina",
          "Brazil",
          "Bulgaria",
          "Cambodia",
          "Canada",
          "Cayman Islands",
          "Chile",
          "China",
          "Colombia",
          "Costa Rica",
          "Croatia",
          "Cuba",
          "Cyprus",
          "Czech Republic",
          "Denmark",
          "Dominican Republic",
          "Ecuador",
          "Egypt",
          "El Salvador",
          "Estonia",
          "Ethiopia",
          "Faroe Islands",
          "Fiji Islands",
          "Finland",
          "France",
          "French Polynesia",
          "Georgia",
          "Germany",
          "Greece",
          "Greenland",
          "Guatemala",
          "Guernsey",
          "Honduras",
          "Hong Kong",
          "Hungary",
          "Iceland",
          "India",
          "Indonesia",
          "Ireland",
          "Isle of Man",
          "Israel",
          "Italy",
          "Jamaica",
          "Japan",
          "Jersey",
          "Jordan",
          "Kazakhstan",
          "Kenya",
          "Kosovo",
          "Laos",
          "Latvia",
          "Lebanon",
          "Liechtenstein",
          "Lithuania",
          "Luxembourg",
          "Macedonia",
          "Malaysia",
          "Malta",
          "Mauritius",
          "Mexico",
          "Moldova",
          "Mongolia",
          "Montenegro",
          "Morocco",
          "Mozambique",
          "Myanmar",
          "Namibia",
          "Nepal",
          "Netherlands",
          "New Zealand",
          "Nicaragua",
          "Nigeria",
          "Norway",
          "Palestine",
          "Panama",
          "Peru",
          "Philippines",
          "Poland",
          "Portugal",
          "Puerto Rico",
          "Romania",
          "Russia",
          "Serbia",
          "Singapore",
          "Slovak Republic",
          "Slovenia",
          "South Africa",
          "South Korea",
          "Spain",
          "Sri Lanka",
          "Sweden",
          "Switzerland",
          "Taiwan",
          "Tanzania",
          "Thailand",
          "Trinidad & Tobago",
          "Tunisia",
          "Turkey",
          "Uganda",
          "Ukraine",
          "United Kingdom",
          "Uruguay",
          "Venezuela",
          "Vietnam",
          "Virgin Islands (U.S.)"
         ],
         "showscale": false,
         "type": "choropleth",
         "visible": true,
         "z": [
          2.1057838660578385,
          2.5927848954821306,
          2.17590206185567,
          3.0087043048464186,
          3.0565037564461663,
          2.1142688679245283,
          2.2549586776859503,
          2.5343810444874277,
          3.4980907838070627,
          2.4082474226804123,
          2.125557461406518,
          2.338392857142857,
          2.939611111111111,
          2.3495930824008138,
          2.3267465069860283,
          3.2549049864360744,
          2.529811320754717,
          2.846633165829146,
          2.1593412057178374,
          2.2199693955623565,
          2.180820948336872,
          2.6902659504781865,
          1.908679245283019,
          2.327783669141039,
          3.036841971512433,
          3.108202955858204,
          1.97874531835206,
          2.348397976391231,
          1.9130434782608696,
          1.8239525139664805,
          3.001447071293608,
          2.338146551724138,
          2.5894979079497906,
          2.1043165467625897,
          2.9564193168433452,
          2.943657304446441,
          2.1222429906542057,
          2.2499212598425196,
          3.0518302216499587,
          2.6410308782890786,
          2.7884652981427176,
          1.81875,
          2.648780487804878,
          1.9954044117647058,
          2.575555555555556,
          2.8025771388499296,
          3.126812567132116,
          2.0885972850678733,
          2.108664627930683,
          3.219986212601682,
          3.113756613756614,
          2.9199789695057836,
          3.2461564910430827,
          2.4714126186487997,
          3.0609087574026517,
          2.9524663677130043,
          2.0061818181818185,
          2.2869969040247677,
          2.151846488052136,
          2.5621621621621617,
          2.2742696629213484,
          2.756708176691729,
          2.4499999999999997,
          2.8109375,
          2.642243303571429,
          2.625388802488336,
          2.192468619246862,
          2.475541795665635,
          2.5014832162373146,
          2.1019522776572668,
          2.3021969080553295,
          2.4813953488372094,
          2.1280442804428046,
          2.388718662952646,
          2.147913669064748,
          2.127272727272727,
          1.9450980392156865,
          2.4488843813387424,
          2.0740072202166067,
          3.1780390684621254,
          3.308222839473822,
          1.7877510040160642,
          2.770376175548589,
          3.332958161060351,
          2.511822660098522,
          2.1354297693920334,
          2.4115083251714005,
          2.141458823529412,
          3.1572776499126167,
          2.614157071154414,
          2.453373015873016,
          2.4089233753637247,
          2.66324598106144,
          2.7687394389996625,
          2.5789442642288414,
          2.9893618858475093,
          2.728110289172831,
          2.7689640318759423,
          2.1991728701406124,
          3.0506096749034604,
          3.319209250279746,
          3.182820405017168,
          3.1767896962706654,
          2.269961489088575,
          1.9764976958525344,
          2.1831328088847757,
          2.800305410122164,
          2.011071428571429,
          2.2596327761030417,
          1.9220496894409937,
          2.532323491655969,
          3.258454660439635,
          2.333823529411765,
          1.9212686567164179,
          2.1311777301927197,
          2.746013986013986
         ]
        },
        {
         "colorbar": {
          "len": 1,
          "title": {
           "text": "Scale"
          }
         },
         "colorscale": [
          [
           0,
           "rgb(247,251,255)"
          ],
          [
           0.125,
           "rgb(222,235,247)"
          ],
          [
           0.25,
           "rgb(198,219,239)"
          ],
          [
           0.375,
           "rgb(158,202,225)"
          ],
          [
           0.5,
           "rgb(107,174,214)"
          ],
          [
           0.625,
           "rgb(66,146,198)"
          ],
          [
           0.75,
           "rgb(33,113,181)"
          ],
          [
           0.875,
           "rgb(8,81,156)"
          ],
          [
           1,
           "rgb(8,48,107)"
          ]
         ],
         "hovertemplate": "<b>%{location}</b><br>Count: %{z}<extra></extra>",
         "locationmode": "USA-states",
         "locations": [
          "AL",
          "AK",
          "AZ",
          "AR",
          "CA",
          "CO",
          "CT",
          "DE",
          "FL",
          "GA",
          "HI",
          "ID",
          "IL",
          "IN",
          "IA",
          "KS",
          "KY",
          "LA",
          "ME",
          "MD",
          "MA",
          "MI",
          "MN",
          "MS",
          "MO",
          "MT",
          "NE",
          "NV",
          "NH",
          "NJ",
          "NM",
          "NY",
          "NC",
          "ND",
          "OH",
          "OK",
          "OR",
          "PA",
          "RI",
          "SC",
          "SD",
          "TN",
          "TX",
          "UT",
          "VT",
          "VA",
          "WA",
          "DC",
          "WV",
          "WI",
          "WY"
         ],
         "type": "choropleth",
         "visible": true,
         "z": [
          3.3064374047094702,
          3.62923787689315,
          3.424489898989899,
          3.185766092475068,
          3.601744075943961,
          3.318110155842388,
          3.4511905598089485,
          3.3489387361312106,
          3.3749194629294332,
          3.4874467789707517,
          3.263709791696188,
          3.4360223885137193,
          3.546681479065596,
          3.3968891672631827,
          3.394675552951516,
          3.4140797854508884,
          3.3187000237510884,
          3.049106327462492,
          3.4371861703107442,
          3.4101901200140734,
          3.4529508878662614,
          3.465622829415275,
          3.395266214530714,
          3.281776765375854,
          2.8310580976863755,
          3.29679159568427,
          3.3075825156110614,
          3.193783939919122,
          3.4889628496896643,
          3.408263275886227,
          3.3895009655452792,
          3.4532884091060225,
          3.4001358773658925,
          3.2949315068493155,
          3.5518293454867704,
          3.6185232483891565,
          3.532074050831503,
          3.3354385836964644,
          3.2256033057851243,
          3.466850579889652,
          3.179528301886793,
          3.251152680806218,
          3.346149799335628,
          3.44563681360066,
          3.483830092328402,
          3.3913482235852332,
          3.3466469439404625,
          3.512825999732513,
          3.1787538699690403,
          2.965658653815095,
          3.3625683771815575
         ],
         "zmax": 3.62923787689315,
         "zmin": 1.7877510040160642
        }
       ],
       "layout": {
        "geo": {
         "projection": {
          "type": "equirectangular"
         },
         "showcoastlines": true,
         "showframe": false
        },
        "height": 600,
        "template": {
         "data": {
          "bar": [
           {
            "error_x": {
             "color": "#2a3f5f"
            },
            "error_y": {
             "color": "#2a3f5f"
            },
            "marker": {
             "line": {
              "color": "#E5ECF6",
              "width": 0.5
             },
             "pattern": {
              "fillmode": "overlay",
              "size": 10,
              "solidity": 0.2
             }
            },
            "type": "bar"
           }
          ],
          "barpolar": [
           {
            "marker": {
             "line": {
              "color": "#E5ECF6",
              "width": 0.5
             },
             "pattern": {
              "fillmode": "overlay",
              "size": 10,
              "solidity": 0.2
             }
            },
            "type": "barpolar"
           }
          ],
          "carpet": [
           {
            "aaxis": {
             "endlinecolor": "#2a3f5f",
             "gridcolor": "white",
             "linecolor": "white",
             "minorgridcolor": "white",
             "startlinecolor": "#2a3f5f"
            },
            "baxis": {
             "endlinecolor": "#2a3f5f",
             "gridcolor": "white",
             "linecolor": "white",
             "minorgridcolor": "white",
             "startlinecolor": "#2a3f5f"
            },
            "type": "carpet"
           }
          ],
          "choropleth": [
           {
            "colorbar": {
             "outlinewidth": 0,
             "ticks": ""
            },
            "type": "choropleth"
           }
          ],
          "contour": [
           {
            "colorbar": {
             "outlinewidth": 0,
             "ticks": ""
            },
            "colorscale": [
             [
              0,
              "#0d0887"
             ],
             [
              0.1111111111111111,
              "#46039f"
             ],
             [
              0.2222222222222222,
              "#7201a8"
             ],
             [
              0.3333333333333333,
              "#9c179e"
             ],
             [
              0.4444444444444444,
              "#bd3786"
             ],
             [
              0.5555555555555556,
              "#d8576b"
             ],
             [
              0.6666666666666666,
              "#ed7953"
             ],
             [
              0.7777777777777778,
              "#fb9f3a"
             ],
             [
              0.8888888888888888,
              "#fdca26"
             ],
             [
              1,
              "#f0f921"
             ]
            ],
            "type": "contour"
           }
          ],
          "contourcarpet": [
           {
            "colorbar": {
             "outlinewidth": 0,
             "ticks": ""
            },
            "type": "contourcarpet"
           }
          ],
          "heatmap": [
           {
            "colorbar": {
             "outlinewidth": 0,
             "ticks": ""
            },
            "colorscale": [
             [
              0,
              "#0d0887"
             ],
             [
              0.1111111111111111,
              "#46039f"
             ],
             [
              0.2222222222222222,
              "#7201a8"
             ],
             [
              0.3333333333333333,
              "#9c179e"
             ],
             [
              0.4444444444444444,
              "#bd3786"
             ],
             [
              0.5555555555555556,
              "#d8576b"
             ],
             [
              0.6666666666666666,
              "#ed7953"
             ],
             [
              0.7777777777777778,
              "#fb9f3a"
             ],
             [
              0.8888888888888888,
              "#fdca26"
             ],
             [
              1,
              "#f0f921"
             ]
            ],
            "type": "heatmap"
           }
          ],
          "heatmapgl": [
           {
            "colorbar": {
             "outlinewidth": 0,
             "ticks": ""
            },
            "colorscale": [
             [
              0,
              "#0d0887"
             ],
             [
              0.1111111111111111,
              "#46039f"
             ],
             [
              0.2222222222222222,
              "#7201a8"
             ],
             [
              0.3333333333333333,
              "#9c179e"
             ],
             [
              0.4444444444444444,
              "#bd3786"
             ],
             [
              0.5555555555555556,
              "#d8576b"
             ],
             [
              0.6666666666666666,
              "#ed7953"
             ],
             [
              0.7777777777777778,
              "#fb9f3a"
             ],
             [
              0.8888888888888888,
              "#fdca26"
             ],
             [
              1,
              "#f0f921"
             ]
            ],
            "type": "heatmapgl"
           }
          ],
          "histogram": [
           {
            "marker": {
             "pattern": {
              "fillmode": "overlay",
              "size": 10,
              "solidity": 0.2
             }
            },
            "type": "histogram"
           }
          ],
          "histogram2d": [
           {
            "colorbar": {
             "outlinewidth": 0,
             "ticks": ""
            },
            "colorscale": [
             [
              0,
              "#0d0887"
             ],
             [
              0.1111111111111111,
              "#46039f"
             ],
             [
              0.2222222222222222,
              "#7201a8"
             ],
             [
              0.3333333333333333,
              "#9c179e"
             ],
             [
              0.4444444444444444,
              "#bd3786"
             ],
             [
              0.5555555555555556,
              "#d8576b"
             ],
             [
              0.6666666666666666,
              "#ed7953"
             ],
             [
              0.7777777777777778,
              "#fb9f3a"
             ],
             [
              0.8888888888888888,
              "#fdca26"
             ],
             [
              1,
              "#f0f921"
             ]
            ],
            "type": "histogram2d"
           }
          ],
          "histogram2dcontour": [
           {
            "colorbar": {
             "outlinewidth": 0,
             "ticks": ""
            },
            "colorscale": [
             [
              0,
              "#0d0887"
             ],
             [
              0.1111111111111111,
              "#46039f"
             ],
             [
              0.2222222222222222,
              "#7201a8"
             ],
             [
              0.3333333333333333,
              "#9c179e"
             ],
             [
              0.4444444444444444,
              "#bd3786"
             ],
             [
              0.5555555555555556,
              "#d8576b"
             ],
             [
              0.6666666666666666,
              "#ed7953"
             ],
             [
              0.7777777777777778,
              "#fb9f3a"
             ],
             [
              0.8888888888888888,
              "#fdca26"
             ],
             [
              1,
              "#f0f921"
             ]
            ],
            "type": "histogram2dcontour"
           }
          ],
          "mesh3d": [
           {
            "colorbar": {
             "outlinewidth": 0,
             "ticks": ""
            },
            "type": "mesh3d"
           }
          ],
          "parcoords": [
           {
            "line": {
             "colorbar": {
              "outlinewidth": 0,
              "ticks": ""
             }
            },
            "type": "parcoords"
           }
          ],
          "pie": [
           {
            "automargin": true,
            "type": "pie"
           }
          ],
          "scatter": [
           {
            "fillpattern": {
             "fillmode": "overlay",
             "size": 10,
             "solidity": 0.2
            },
            "type": "scatter"
           }
          ],
          "scatter3d": [
           {
            "line": {
             "colorbar": {
              "outlinewidth": 0,
              "ticks": ""
             }
            },
            "marker": {
             "colorbar": {
              "outlinewidth": 0,
              "ticks": ""
             }
            },
            "type": "scatter3d"
           }
          ],
          "scattercarpet": [
           {
            "marker": {
             "colorbar": {
              "outlinewidth": 0,
              "ticks": ""
             }
            },
            "type": "scattercarpet"
           }
          ],
          "scattergeo": [
           {
            "marker": {
             "colorbar": {
              "outlinewidth": 0,
              "ticks": ""
             }
            },
            "type": "scattergeo"
           }
          ],
          "scattergl": [
           {
            "marker": {
             "colorbar": {
              "outlinewidth": 0,
              "ticks": ""
             }
            },
            "type": "scattergl"
           }
          ],
          "scattermapbox": [
           {
            "marker": {
             "colorbar": {
              "outlinewidth": 0,
              "ticks": ""
             }
            },
            "type": "scattermapbox"
           }
          ],
          "scatterpolar": [
           {
            "marker": {
             "colorbar": {
              "outlinewidth": 0,
              "ticks": ""
             }
            },
            "type": "scatterpolar"
           }
          ],
          "scatterpolargl": [
           {
            "marker": {
             "colorbar": {
              "outlinewidth": 0,
              "ticks": ""
             }
            },
            "type": "scatterpolargl"
           }
          ],
          "scatterternary": [
           {
            "marker": {
             "colorbar": {
              "outlinewidth": 0,
              "ticks": ""
             }
            },
            "type": "scatterternary"
           }
          ],
          "surface": [
           {
            "colorbar": {
             "outlinewidth": 0,
             "ticks": ""
            },
            "colorscale": [
             [
              0,
              "#0d0887"
             ],
             [
              0.1111111111111111,
              "#46039f"
             ],
             [
              0.2222222222222222,
              "#7201a8"
             ],
             [
              0.3333333333333333,
              "#9c179e"
             ],
             [
              0.4444444444444444,
              "#bd3786"
             ],
             [
              0.5555555555555556,
              "#d8576b"
             ],
             [
              0.6666666666666666,
              "#ed7953"
             ],
             [
              0.7777777777777778,
              "#fb9f3a"
             ],
             [
              0.8888888888888888,
              "#fdca26"
             ],
             [
              1,
              "#f0f921"
             ]
            ],
            "type": "surface"
           }
          ],
          "table": [
           {
            "cells": {
             "fill": {
              "color": "#EBF0F8"
             },
             "line": {
              "color": "white"
             }
            },
            "header": {
             "fill": {
              "color": "#C8D4E3"
             },
             "line": {
              "color": "white"
             }
            },
            "type": "table"
           }
          ]
         },
         "layout": {
          "annotationdefaults": {
           "arrowcolor": "#2a3f5f",
           "arrowhead": 0,
           "arrowwidth": 1
          },
          "autotypenumbers": "strict",
          "coloraxis": {
           "colorbar": {
            "outlinewidth": 0,
            "ticks": ""
           }
          },
          "colorscale": {
           "diverging": [
            [
             0,
             "#8e0152"
            ],
            [
             0.1,
             "#c51b7d"
            ],
            [
             0.2,
             "#de77ae"
            ],
            [
             0.3,
             "#f1b6da"
            ],
            [
             0.4,
             "#fde0ef"
            ],
            [
             0.5,
             "#f7f7f7"
            ],
            [
             0.6,
             "#e6f5d0"
            ],
            [
             0.7,
             "#b8e186"
            ],
            [
             0.8,
             "#7fbc41"
            ],
            [
             0.9,
             "#4d9221"
            ],
            [
             1,
             "#276419"
            ]
           ],
           "sequential": [
            [
             0,
             "#0d0887"
            ],
            [
             0.1111111111111111,
             "#46039f"
            ],
            [
             0.2222222222222222,
             "#7201a8"
            ],
            [
             0.3333333333333333,
             "#9c179e"
            ],
            [
             0.4444444444444444,
             "#bd3786"
            ],
            [
             0.5555555555555556,
             "#d8576b"
            ],
            [
             0.6666666666666666,
             "#ed7953"
            ],
            [
             0.7777777777777778,
             "#fb9f3a"
            ],
            [
             0.8888888888888888,
             "#fdca26"
            ],
            [
             1,
             "#f0f921"
            ]
           ],
           "sequentialminus": [
            [
             0,
             "#0d0887"
            ],
            [
             0.1111111111111111,
             "#46039f"
            ],
            [
             0.2222222222222222,
             "#7201a8"
            ],
            [
             0.3333333333333333,
             "#9c179e"
            ],
            [
             0.4444444444444444,
             "#bd3786"
            ],
            [
             0.5555555555555556,
             "#d8576b"
            ],
            [
             0.6666666666666666,
             "#ed7953"
            ],
            [
             0.7777777777777778,
             "#fb9f3a"
            ],
            [
             0.8888888888888888,
             "#fdca26"
            ],
            [
             1,
             "#f0f921"
            ]
           ]
          },
          "colorway": [
           "#636efa",
           "#EF553B",
           "#00cc96",
           "#ab63fa",
           "#FFA15A",
           "#19d3f3",
           "#FF6692",
           "#B6E880",
           "#FF97FF",
           "#FECB52"
          ],
          "font": {
           "color": "#2a3f5f"
          },
          "geo": {
           "bgcolor": "white",
           "lakecolor": "white",
           "landcolor": "#E5ECF6",
           "showlakes": true,
           "showland": true,
           "subunitcolor": "white"
          },
          "hoverlabel": {
           "align": "left"
          },
          "hovermode": "closest",
          "mapbox": {
           "style": "light"
          },
          "paper_bgcolor": "white",
          "plot_bgcolor": "#E5ECF6",
          "polar": {
           "angularaxis": {
            "gridcolor": "white",
            "linecolor": "white",
            "ticks": ""
           },
           "bgcolor": "#E5ECF6",
           "radialaxis": {
            "gridcolor": "white",
            "linecolor": "white",
            "ticks": ""
           }
          },
          "scene": {
           "xaxis": {
            "backgroundcolor": "#E5ECF6",
            "gridcolor": "white",
            "gridwidth": 2,
            "linecolor": "white",
            "showbackground": true,
            "ticks": "",
            "zerolinecolor": "white"
           },
           "yaxis": {
            "backgroundcolor": "#E5ECF6",
            "gridcolor": "white",
            "gridwidth": 2,
            "linecolor": "white",
            "showbackground": true,
            "ticks": "",
            "zerolinecolor": "white"
           },
           "zaxis": {
            "backgroundcolor": "#E5ECF6",
            "gridcolor": "white",
            "gridwidth": 2,
            "linecolor": "white",
            "showbackground": true,
            "ticks": "",
            "zerolinecolor": "white"
           }
          },
          "shapedefaults": {
           "line": {
            "color": "#2a3f5f"
           }
          },
          "ternary": {
           "aaxis": {
            "gridcolor": "white",
            "linecolor": "white",
            "ticks": ""
           },
           "baxis": {
            "gridcolor": "white",
            "linecolor": "white",
            "ticks": ""
           },
           "bgcolor": "#E5ECF6",
           "caxis": {
            "gridcolor": "white",
            "linecolor": "white",
            "ticks": ""
           }
          },
          "title": {
           "x": 0.05
          },
          "xaxis": {
           "automargin": true,
           "gridcolor": "white",
           "linecolor": "white",
           "ticks": "",
           "title": {
            "standoff": 15
           },
           "zerolinecolor": "white",
           "zerolinewidth": 2
          },
          "yaxis": {
           "automargin": true,
           "gridcolor": "white",
           "linecolor": "white",
           "ticks": "",
           "title": {
            "standoff": 15
           },
           "zerolinecolor": "white",
           "zerolinewidth": 2
          }
         }
        },
        "width": 800
       }
      }
     },
     "metadata": {},
     "output_type": "display_data"
    }
   ],
   "source": [
    "# Compute the average rating per country\n",
    "average_rating_no_US = df_ratings_no_text[df_ratings_no_text['country_brewery'] != 'United States'].groupby('country_brewery')['rating'].mean().reset_index().rename(columns={'country_brewery':'location', 'rating':'count'})\n",
    "average_rating_US = df_ratings_no_text[df_ratings_no_text['country_brewery'] == 'United States'].groupby('state_brewery')['rating'].mean().reset_index().rename(columns={'state_brewery':'location', 'rating':'count'})\n",
    "\n",
    "# Plot everything\n",
    "options = {\n",
    "    \"title\": \"Average Ratings by Country and US State\",\n",
    "    \"plots\": [{\n",
    "        'label': 'Beers per country',\n",
    "        'location_label': 'location',\n",
    "        'z_label': 'count',\n",
    "        'colorscale': 'Blues'\n",
    "    }]\n",
    "}\n",
    "plot_map(average_rating_no_US, average_rating_US, options, SAVING_FOLDER + 'ratings_distribution', 'world_ratings')"
   ]
  },
  {
   "cell_type": "code",
   "execution_count": 23,
   "metadata": {},
   "outputs": [
    {
     "data": {
      "text/html": [
       "<div>\n",
       "<style scoped>\n",
       "    .dataframe tbody tr th:only-of-type {\n",
       "        vertical-align: middle;\n",
       "    }\n",
       "\n",
       "    .dataframe tbody tr th {\n",
       "        vertical-align: top;\n",
       "    }\n",
       "\n",
       "    .dataframe thead th {\n",
       "        text-align: right;\n",
       "    }\n",
       "</style>\n",
       "<table border=\"1\" class=\"dataframe\">\n",
       "  <thead>\n",
       "    <tr style=\"text-align: right;\">\n",
       "      <th></th>\n",
       "      <th>location</th>\n",
       "      <th>count</th>\n",
       "    </tr>\n",
       "  </thead>\n",
       "  <tbody>\n",
       "    <tr>\n",
       "      <th>1</th>\n",
       "      <td>Alaska</td>\n",
       "      <td>3.629238</td>\n",
       "    </tr>\n",
       "    <tr>\n",
       "      <th>35</th>\n",
       "      <td>Oklahoma</td>\n",
       "      <td>3.618523</td>\n",
       "    </tr>\n",
       "    <tr>\n",
       "      <th>4</th>\n",
       "      <td>California</td>\n",
       "      <td>3.601744</td>\n",
       "    </tr>\n",
       "    <tr>\n",
       "      <th>34</th>\n",
       "      <td>Ohio</td>\n",
       "      <td>3.551829</td>\n",
       "    </tr>\n",
       "    <tr>\n",
       "      <th>12</th>\n",
       "      <td>Illinois</td>\n",
       "      <td>3.546681</td>\n",
       "    </tr>\n",
       "    <tr>\n",
       "      <th>36</th>\n",
       "      <td>Oregon</td>\n",
       "      <td>3.532074</td>\n",
       "    </tr>\n",
       "    <tr>\n",
       "      <th>47</th>\n",
       "      <td>Washington DC</td>\n",
       "      <td>3.512826</td>\n",
       "    </tr>\n",
       "    <tr>\n",
       "      <th>8</th>\n",
       "      <td>Belgium</td>\n",
       "      <td>3.498091</td>\n",
       "    </tr>\n",
       "    <tr>\n",
       "      <th>28</th>\n",
       "      <td>New Hampshire</td>\n",
       "      <td>3.488963</td>\n",
       "    </tr>\n",
       "    <tr>\n",
       "      <th>9</th>\n",
       "      <td>Georgia</td>\n",
       "      <td>3.487447</td>\n",
       "    </tr>\n",
       "  </tbody>\n",
       "</table>\n",
       "</div>"
      ],
      "text/plain": [
       "         location     count\n",
       "1          Alaska  3.629238\n",
       "35       Oklahoma  3.618523\n",
       "4      California  3.601744\n",
       "34           Ohio  3.551829\n",
       "12       Illinois  3.546681\n",
       "36         Oregon  3.532074\n",
       "47  Washington DC  3.512826\n",
       "8         Belgium  3.498091\n",
       "28  New Hampshire  3.488963\n",
       "9         Georgia  3.487447"
      ]
     },
     "execution_count": 23,
     "metadata": {},
     "output_type": "execute_result"
    }
   ],
   "source": [
    "average_rating = pd.concat([average_rating_no_US, average_rating_US]).sort_values('count', ascending=False)\n",
    "average_rating.head(10)"
   ]
  },
  {
   "cell_type": "code",
   "execution_count": 24,
   "metadata": {},
   "outputs": [
    {
     "data": {
      "text/html": [
       "<div>\n",
       "<style scoped>\n",
       "    .dataframe tbody tr th:only-of-type {\n",
       "        vertical-align: middle;\n",
       "    }\n",
       "\n",
       "    .dataframe tbody tr th {\n",
       "        vertical-align: top;\n",
       "    }\n",
       "\n",
       "    .dataframe thead th {\n",
       "        text-align: right;\n",
       "    }\n",
       "</style>\n",
       "<table border=\"1\" class=\"dataframe\">\n",
       "  <thead>\n",
       "    <tr style=\"text-align: right;\">\n",
       "      <th></th>\n",
       "      <th>location</th>\n",
       "      <th>count</th>\n",
       "    </tr>\n",
       "  </thead>\n",
       "  <tbody>\n",
       "    <tr>\n",
       "      <th>81</th>\n",
       "      <td>Nicaragua</td>\n",
       "      <td>1.787751</td>\n",
       "    </tr>\n",
       "    <tr>\n",
       "      <th>41</th>\n",
       "      <td>Guatemala</td>\n",
       "      <td>1.818750</td>\n",
       "    </tr>\n",
       "    <tr>\n",
       "      <th>29</th>\n",
       "      <td>El Salvador</td>\n",
       "      <td>1.823953</td>\n",
       "    </tr>\n",
       "    <tr>\n",
       "      <th>22</th>\n",
       "      <td>Cuba</td>\n",
       "      <td>1.908679</td>\n",
       "    </tr>\n",
       "    <tr>\n",
       "      <th>28</th>\n",
       "      <td>Egypt</td>\n",
       "      <td>1.913043</td>\n",
       "    </tr>\n",
       "    <tr>\n",
       "      <th>113</th>\n",
       "      <td>Venezuela</td>\n",
       "      <td>1.921269</td>\n",
       "    </tr>\n",
       "    <tr>\n",
       "      <th>109</th>\n",
       "      <td>Uganda</td>\n",
       "      <td>1.922050</td>\n",
       "    </tr>\n",
       "    <tr>\n",
       "      <th>76</th>\n",
       "      <td>Myanmar</td>\n",
       "      <td>1.945098</td>\n",
       "    </tr>\n",
       "    <tr>\n",
       "      <th>104</th>\n",
       "      <td>Tanzania</td>\n",
       "      <td>1.976498</td>\n",
       "    </tr>\n",
       "    <tr>\n",
       "      <th>26</th>\n",
       "      <td>Dominican Republic</td>\n",
       "      <td>1.978745</td>\n",
       "    </tr>\n",
       "  </tbody>\n",
       "</table>\n",
       "</div>"
      ],
      "text/plain": [
       "               location     count\n",
       "81            Nicaragua  1.787751\n",
       "41            Guatemala  1.818750\n",
       "29          El Salvador  1.823953\n",
       "22                 Cuba  1.908679\n",
       "28                Egypt  1.913043\n",
       "113           Venezuela  1.921269\n",
       "109              Uganda  1.922050\n",
       "76              Myanmar  1.945098\n",
       "104            Tanzania  1.976498\n",
       "26   Dominican Republic  1.978745"
      ]
     },
     "execution_count": 24,
     "metadata": {},
     "output_type": "execute_result"
    }
   ],
   "source": [
    "average_rating = pd.concat([average_rating_no_US, average_rating_US]).sort_values('count', ascending=True)\n",
    "average_rating.head(10)"
   ]
  },
  {
   "cell_type": "markdown",
   "metadata": {},
   "source": []
  },
  {
   "cell_type": "markdown",
   "metadata": {},
   "source": [
    "### Rating evolution over time in the different countries"
   ]
  },
  {
   "cell_type": "code",
   "execution_count": 25,
   "metadata": {},
   "outputs": [
    {
     "data": {
      "application/vnd.plotly.v1+json": {
       "config": {
        "plotlyServerURL": "https://plot.ly"
       },
       "data": [
        {
         "colorscale": [
          [
           0,
           "#440154"
          ],
          [
           0.1111111111111111,
           "#482878"
          ],
          [
           0.2222222222222222,
           "#3e4989"
          ],
          [
           0.3333333333333333,
           "#31688e"
          ],
          [
           0.4444444444444444,
           "#26828e"
          ],
          [
           0.5555555555555556,
           "#1f9e89"
          ],
          [
           0.6666666666666666,
           "#35b779"
          ],
          [
           0.7777777777777778,
           "#6ece58"
          ],
          [
           0.8888888888888888,
           "#b5de2b"
          ],
          [
           1,
           "#fde725"
          ]
         ],
         "locationmode": "country names",
         "locations": [
          "Albania",
          "Argentina",
          "Armenia",
          "Australia",
          "Austria",
          "Bahamas",
          "Barbados",
          "Belarus",
          "Belgium",
          "Belize",
          "Bolivia",
          "Bosnia and Herzegovina",
          "Brazil",
          "Bulgaria",
          "Cambodia",
          "Canada",
          "Cayman Islands",
          "Chile",
          "China",
          "Colombia",
          "Costa Rica",
          "Croatia",
          "Cuba",
          "Cyprus",
          "Czech Republic",
          "Denmark",
          "Dominican Republic",
          "Ecuador",
          "Egypt",
          "El Salvador",
          "Estonia",
          "Ethiopia",
          "Faroe Islands",
          "Fiji Islands",
          "Finland",
          "France",
          "French Polynesia",
          "Georgia",
          "Germany",
          "Greece",
          "Guatemala",
          "Guernsey",
          "Honduras",
          "Hong Kong",
          "Hungary",
          "Iceland",
          "India",
          "Indonesia",
          "Ireland",
          "Isle of Man",
          "Israel",
          "Italy",
          "Jamaica",
          "Japan",
          "Jersey",
          "Kenya",
          "Laos",
          "Latvia",
          "Lebanon",
          "Lithuania",
          "Luxembourg",
          "Macedonia",
          "Malaysia",
          "Malta",
          "Mexico",
          "Moldova",
          "Montenegro",
          "Morocco",
          "Myanmar",
          "Namibia",
          "Netherlands",
          "New Zealand",
          "Nigeria",
          "Norway",
          "Palestine",
          "Panama",
          "Peru",
          "Philippines",
          "Poland",
          "Portugal",
          "Puerto Rico",
          "Romania",
          "Russia",
          "Serbia",
          "Singapore",
          "Slovak Republic",
          "Slovenia",
          "South Africa",
          "South Korea",
          "Spain",
          "Sri Lanka",
          "Sweden",
          "Switzerland",
          "Taiwan",
          "Tanzania",
          "Thailand",
          "Trinidad & Tobago",
          "Tunisia",
          "Turkey",
          "Uganda",
          "Ukraine",
          "United Kingdom",
          "Venezuela",
          "Vietnam",
          "Virgin Islands (U.S.)"
         ],
         "type": "choropleth",
         "z": [
          1.64,
          2.219607843137255,
          2.4833333333333334,
          2.637465940054496,
          3.0450643776824036,
          2.3863636363636362,
          2.05,
          1.975,
          3.567180722891566,
          2.15,
          1.4333333333333333,
          2.6166666666666667,
          2.708490566037736,
          1.7684210526315791,
          2.1666666666666665,
          3.010460950561261,
          2.65,
          1.9280000000000002,
          2.09551282051282,
          2.2473684210526317,
          1.9727272727272727,
          2.6013157894736842,
          1.6809523809523808,
          2.0307692307692307,
          3.245121951219512,
          2.603767820773931,
          2.317647058823529,
          2.0300000000000002,
          2.3555555555555556,
          2.0588235294117645,
          2.175675675675676,
          2.5833333333333335,
          2.091666666666667,
          1.3333333333333333,
          2.912745098039216,
          2.8916040100250626,
          1.9571428571428573,
          2.9,
          3.2003504161191416,
          2.3319444444444444,
          1.891304347826087,
          2.1,
          2.33125,
          1.8615384615384616,
          2.111111111111111,
          1.25,
          2.1483870967741936,
          2.0407407407407407,
          3.3298438934802568,
          2.8428571428571425,
          2.0813953488372094,
          2.7662591687041567,
          2.5891428571428574,
          2.5176806083650187,
          2.58,
          2.23,
          2.3,
          2.6160493827160494,
          1.8714285714285712,
          2.6210526315789475,
          2.6625,
          2.5875,
          2.5777777777777775,
          2.5666666666666664,
          2.2282837127845885,
          2.55,
          2.57,
          2.7,
          2.1333333333333333,
          2.469047619047619,
          2.879514963880289,
          3.0427350427350426,
          2.6500000000000004,
          2.8799242424242424,
          2.2333333333333334,
          2.0416666666666665,
          2.3346153846153848,
          2.241758241758242,
          2.9525842696629216,
          2.22,
          1.875,
          2.5791666666666666,
          2.45021645021645,
          2.6639999999999997,
          2.806451612903226,
          2.975,
          2.171641791044776,
          2.0528089887640446,
          1.6098039215686273,
          2.34,
          3.389655172413793,
          2.857142857142857,
          3.0141955835962144,
          1.98,
          1.3,
          2.3840579710144927,
          3.0451851851851854,
          2.3666666666666667,
          2.2842105263157895,
          1.86,
          2.5565217391304347,
          3.3663872691933916,
          2.3000000000000003,
          2.1551724137931036,
          3.288888888888889
         ],
         "zmax": 4,
         "zmin": 1
        },
        {
         "colorscale": [
          [
           0,
           "#440154"
          ],
          [
           0.1111111111111111,
           "#482878"
          ],
          [
           0.2222222222222222,
           "#3e4989"
          ],
          [
           0.3333333333333333,
           "#31688e"
          ],
          [
           0.4444444444444444,
           "#26828e"
          ],
          [
           0.5555555555555556,
           "#1f9e89"
          ],
          [
           0.6666666666666666,
           "#35b779"
          ],
          [
           0.7777777777777778,
           "#6ece58"
          ],
          [
           0.8888888888888888,
           "#b5de2b"
          ],
          [
           1,
           "#fde725"
          ]
         ],
         "locationmode": "USA-states",
         "locations": [
          "AL",
          "AK",
          "AZ",
          "AR",
          "CA",
          "CO",
          "CT",
          "DE",
          "FL",
          "GA",
          "HI",
          "ID",
          "IL",
          "IN",
          "IA",
          "KS",
          "KY",
          "LA",
          "ME",
          "MD",
          "MA",
          "MI",
          "MN",
          "MO",
          "MT",
          "NE",
          "NV",
          "NH",
          "NJ",
          "NM",
          "NY",
          "NC",
          "OH",
          "OK",
          "OR",
          "PA",
          "RI",
          "SC",
          "SD",
          "TN",
          "TX",
          "UT",
          "VT",
          "VA",
          "WA",
          "DC",
          "WV",
          "WI",
          "WY"
         ],
         "type": "choropleth",
         "z": [
          3.6,
          3.562433862433862,
          3.423790322580645,
          2.7181818181818183,
          3.550854793334776,
          2.6335403726708075,
          3.535971223021583,
          3.3227906976744186,
          3.06969696969697,
          3.251937984496124,
          2.7858695652173915,
          2.9609375,
          3.3622680412371135,
          3.1879999999999997,
          3.0925000000000002,
          3.0989690721649485,
          3.2312499999999997,
          2.84612676056338,
          3.421645569620253,
          3.3035632183908046,
          3.2731292517006803,
          3.217334494773519,
          2.807640067911715,
          1.9880313199105144,
          3.1714285714285713,
          3.1599999999999997,
          2.798275862068966,
          3.4696774193548383,
          3.4847222222222225,
          3.3360000000000003,
          3.1640701468189234,
          3.2416988416988417,
          3.4944148936170216,
          2.733333333333333,
          3.625200713648528,
          3.249025578562728,
          3.3183673469387753,
          3.1500000000000004,
          3.1625,
          3.1362162162162166,
          3.0546728971962613,
          3.0631578947368423,
          3.2544692737430165,
          3.1559782608695657,
          3.3244543928371573,
          3.35,
          3.4588235294117644,
          2.406057168784029,
          3.4068181818181817
         ],
         "zmax": 4,
         "zmin": 1
        }
       ],
       "frames": [
        {
         "data": [
          {
           "colorscale": [
            [
             0,
             "#440154"
            ],
            [
             0.1111111111111111,
             "#482878"
            ],
            [
             0.2222222222222222,
             "#3e4989"
            ],
            [
             0.3333333333333333,
             "#31688e"
            ],
            [
             0.4444444444444444,
             "#26828e"
            ],
            [
             0.5555555555555556,
             "#1f9e89"
            ],
            [
             0.6666666666666666,
             "#35b779"
            ],
            [
             0.7777777777777778,
             "#6ece58"
            ],
            [
             0.8888888888888888,
             "#b5de2b"
            ],
            [
             1,
             "#fde725"
            ]
           ],
           "locationmode": "country names",
           "locations": [
            "Albania",
            "Argentina",
            "Armenia",
            "Australia",
            "Austria",
            "Bahamas",
            "Barbados",
            "Belarus",
            "Belgium",
            "Belize",
            "Bolivia",
            "Bosnia and Herzegovina",
            "Brazil",
            "Bulgaria",
            "Cambodia",
            "Canada",
            "Cayman Islands",
            "Chile",
            "China",
            "Colombia",
            "Costa Rica",
            "Croatia",
            "Cuba",
            "Cyprus",
            "Czech Republic",
            "Denmark",
            "Dominican Republic",
            "Ecuador",
            "Egypt",
            "El Salvador",
            "Estonia",
            "Ethiopia",
            "Faroe Islands",
            "Fiji Islands",
            "Finland",
            "France",
            "French Polynesia",
            "Georgia",
            "Germany",
            "Greece",
            "Guatemala",
            "Guernsey",
            "Honduras",
            "Hong Kong",
            "Hungary",
            "Iceland",
            "India",
            "Indonesia",
            "Ireland",
            "Isle of Man",
            "Israel",
            "Italy",
            "Jamaica",
            "Japan",
            "Jersey",
            "Kenya",
            "Laos",
            "Latvia",
            "Lebanon",
            "Lithuania",
            "Luxembourg",
            "Macedonia",
            "Malaysia",
            "Malta",
            "Mexico",
            "Moldova",
            "Montenegro",
            "Morocco",
            "Myanmar",
            "Namibia",
            "Netherlands",
            "New Zealand",
            "Nigeria",
            "Norway",
            "Palestine",
            "Panama",
            "Peru",
            "Philippines",
            "Poland",
            "Portugal",
            "Puerto Rico",
            "Romania",
            "Russia",
            "Serbia",
            "Singapore",
            "Slovak Republic",
            "Slovenia",
            "South Africa",
            "South Korea",
            "Spain",
            "Sri Lanka",
            "Sweden",
            "Switzerland",
            "Taiwan",
            "Tanzania",
            "Thailand",
            "Trinidad & Tobago",
            "Tunisia",
            "Turkey",
            "Uganda",
            "Ukraine",
            "United Kingdom",
            "Venezuela",
            "Vietnam",
            "Virgin Islands (U.S.)"
           ],
           "type": "choropleth",
           "z": [
            1.64,
            2.219607843137255,
            2.4833333333333334,
            2.637465940054496,
            3.0450643776824036,
            2.3863636363636362,
            2.05,
            1.975,
            3.567180722891566,
            2.15,
            1.4333333333333333,
            2.6166666666666667,
            2.708490566037736,
            1.7684210526315791,
            2.1666666666666665,
            3.010460950561261,
            2.65,
            1.9280000000000002,
            2.09551282051282,
            2.2473684210526317,
            1.9727272727272727,
            2.6013157894736842,
            1.6809523809523808,
            2.0307692307692307,
            3.245121951219512,
            2.603767820773931,
            2.317647058823529,
            2.0300000000000002,
            2.3555555555555556,
            2.0588235294117645,
            2.175675675675676,
            2.5833333333333335,
            2.091666666666667,
            1.3333333333333333,
            2.912745098039216,
            2.8916040100250626,
            1.9571428571428573,
            2.9,
            3.2003504161191416,
            2.3319444444444444,
            1.891304347826087,
            2.1,
            2.33125,
            1.8615384615384616,
            2.111111111111111,
            1.25,
            2.1483870967741936,
            2.0407407407407407,
            3.3298438934802568,
            2.8428571428571425,
            2.0813953488372094,
            2.7662591687041567,
            2.5891428571428574,
            2.5176806083650187,
            2.58,
            2.23,
            2.3,
            2.6160493827160494,
            1.8714285714285712,
            2.6210526315789475,
            2.6625,
            2.5875,
            2.5777777777777775,
            2.5666666666666664,
            2.2282837127845885,
            2.55,
            2.57,
            2.7,
            2.1333333333333333,
            2.469047619047619,
            2.879514963880289,
            3.0427350427350426,
            2.6500000000000004,
            2.8799242424242424,
            2.2333333333333334,
            2.0416666666666665,
            2.3346153846153848,
            2.241758241758242,
            2.9525842696629216,
            2.22,
            1.875,
            2.5791666666666666,
            2.45021645021645,
            2.6639999999999997,
            2.806451612903226,
            2.975,
            2.171641791044776,
            2.0528089887640446,
            1.6098039215686273,
            2.34,
            3.389655172413793,
            2.857142857142857,
            3.0141955835962144,
            1.98,
            1.3,
            2.3840579710144927,
            3.0451851851851854,
            2.3666666666666667,
            2.2842105263157895,
            1.86,
            2.5565217391304347,
            3.3663872691933916,
            2.3000000000000003,
            2.1551724137931036,
            3.288888888888889
           ],
           "zmax": 4,
           "zmin": 1
          },
          {
           "colorscale": [
            [
             0,
             "#440154"
            ],
            [
             0.1111111111111111,
             "#482878"
            ],
            [
             0.2222222222222222,
             "#3e4989"
            ],
            [
             0.3333333333333333,
             "#31688e"
            ],
            [
             0.4444444444444444,
             "#26828e"
            ],
            [
             0.5555555555555556,
             "#1f9e89"
            ],
            [
             0.6666666666666666,
             "#35b779"
            ],
            [
             0.7777777777777778,
             "#6ece58"
            ],
            [
             0.8888888888888888,
             "#b5de2b"
            ],
            [
             1,
             "#fde725"
            ]
           ],
           "locationmode": "USA-states",
           "locations": [
            "AL",
            "AK",
            "AZ",
            "AR",
            "CA",
            "CO",
            "CT",
            "DE",
            "FL",
            "GA",
            "HI",
            "ID",
            "IL",
            "IN",
            "IA",
            "KS",
            "KY",
            "LA",
            "ME",
            "MD",
            "MA",
            "MI",
            "MN",
            "MO",
            "MT",
            "NE",
            "NV",
            "NH",
            "NJ",
            "NM",
            "NY",
            "NC",
            "OH",
            "OK",
            "OR",
            "PA",
            "RI",
            "SC",
            "SD",
            "TN",
            "TX",
            "UT",
            "VT",
            "VA",
            "WA",
            "DC",
            "WV",
            "WI",
            "WY"
           ],
           "type": "choropleth",
           "z": [
            3.6,
            3.562433862433862,
            3.423790322580645,
            2.7181818181818183,
            3.550854793334776,
            2.6335403726708075,
            3.535971223021583,
            3.3227906976744186,
            3.06969696969697,
            3.251937984496124,
            2.7858695652173915,
            2.9609375,
            3.3622680412371135,
            3.1879999999999997,
            3.0925000000000002,
            3.0989690721649485,
            3.2312499999999997,
            2.84612676056338,
            3.421645569620253,
            3.3035632183908046,
            3.2731292517006803,
            3.217334494773519,
            2.807640067911715,
            1.9880313199105144,
            3.1714285714285713,
            3.1599999999999997,
            2.798275862068966,
            3.4696774193548383,
            3.4847222222222225,
            3.3360000000000003,
            3.1640701468189234,
            3.2416988416988417,
            3.4944148936170216,
            2.733333333333333,
            3.625200713648528,
            3.249025578562728,
            3.3183673469387753,
            3.1500000000000004,
            3.1625,
            3.1362162162162166,
            3.0546728971962613,
            3.0631578947368423,
            3.2544692737430165,
            3.1559782608695657,
            3.3244543928371573,
            3.35,
            3.4588235294117644,
            2.406057168784029,
            3.4068181818181817
           ],
           "zmax": 4,
           "zmin": 1
          }
         ],
         "name": "2002"
        },
        {
         "data": [
          {
           "colorscale": [
            [
             0,
             "#440154"
            ],
            [
             0.1111111111111111,
             "#482878"
            ],
            [
             0.2222222222222222,
             "#3e4989"
            ],
            [
             0.3333333333333333,
             "#31688e"
            ],
            [
             0.4444444444444444,
             "#26828e"
            ],
            [
             0.5555555555555556,
             "#1f9e89"
            ],
            [
             0.6666666666666666,
             "#35b779"
            ],
            [
             0.7777777777777778,
             "#6ece58"
            ],
            [
             0.8888888888888888,
             "#b5de2b"
            ],
            [
             1,
             "#fde725"
            ]
           ],
           "locationmode": "country names",
           "locations": [
            "Albania",
            "Argentina",
            "Armenia",
            "Australia",
            "Austria",
            "Bahamas",
            "Barbados",
            "Belarus",
            "Belgium",
            "Belize",
            "Bolivia",
            "Bosnia and Herzegovina",
            "Brazil",
            "Bulgaria",
            "Cambodia",
            "Canada",
            "Cayman Islands",
            "Chile",
            "China",
            "Colombia",
            "Costa Rica",
            "Croatia",
            "Cuba",
            "Cyprus",
            "Czech Republic",
            "Denmark",
            "Dominican Republic",
            "Ecuador",
            "Egypt",
            "El Salvador",
            "Estonia",
            "Ethiopia",
            "Faroe Islands",
            "Fiji Islands",
            "Finland",
            "France",
            "French Polynesia",
            "Georgia",
            "Germany",
            "Greece",
            "Guatemala",
            "Guernsey",
            "Honduras",
            "Hong Kong",
            "Hungary",
            "Iceland",
            "India",
            "Indonesia",
            "Ireland",
            "Isle of Man",
            "Israel",
            "Italy",
            "Jamaica",
            "Japan",
            "Jersey",
            "Kenya",
            "Laos",
            "Latvia",
            "Lebanon",
            "Lithuania",
            "Luxembourg",
            "Macedonia",
            "Malaysia",
            "Malta",
            "Mexico",
            "Moldova",
            "Montenegro",
            "Morocco",
            "Myanmar",
            "Namibia",
            "Netherlands",
            "New Zealand",
            "Nigeria",
            "Norway",
            "Palestine",
            "Panama",
            "Peru",
            "Philippines",
            "Poland",
            "Portugal",
            "Puerto Rico",
            "Romania",
            "Russia",
            "Serbia",
            "Singapore",
            "Slovak Republic",
            "Slovenia",
            "South Africa",
            "South Korea",
            "Spain",
            "Sri Lanka",
            "Sweden",
            "Switzerland",
            "Taiwan",
            "Tanzania",
            "Thailand",
            "Trinidad & Tobago",
            "Tunisia",
            "Turkey",
            "Uganda",
            "Ukraine",
            "United Kingdom",
            "Venezuela",
            "Vietnam",
            "Virgin Islands (U.S.)"
           ],
           "type": "choropleth",
           "z": [
            2.3375,
            2.572972972972973,
            2.3000000000000003,
            2.4470516962843294,
            3.0760223048327138,
            1.896875,
            2.4916666666666667,
            2.1666666666666665,
            3.566760157671316,
            2.125,
            1.7884615384615385,
            2.42,
            2.519047619047619,
            2.177142857142857,
            1.7571428571428573,
            2.9728857513326608,
            2.283333333333333,
            1.9714285714285715,
            2.020149253731343,
            2.0142857142857142,
            1.8333333333333333,
            2.191666666666667,
            1.5769230769230769,
            1.8966666666666667,
            3.1084848484848484,
            2.574485339987523,
            1.988888888888889,
            1.3818181818181818,
            2.066666666666667,
            1.65875,
            2.409848484848485,
            2.68125,
            2.444736842105263,
            1.2799999999999998,
            2.8751054852320674,
            2.829774872912128,
            2.125,
            2.8,
            3.1771579896326343,
            2.076056338028169,
            2.006666666666667,
            1.9,
            2.0678571428571426,
            1.2466666666666666,
            2.505660377358491,
            1.876271186440678,
            2.1112359550561797,
            1.9040000000000001,
            3.2338403041825097,
            2.8266666666666667,
            1.9208333333333334,
            2.68981324278438,
            2.416763005780347,
            2.5134715025906735,
            1.9333333333333333,
            2.062686567164179,
            1.8555555555555554,
            2.660204081632653,
            2.022222222222222,
            2.611607142857143,
            2.4952380952380953,
            2.16,
            2.6999999999999997,
            2.5205882352941176,
            2.118953687821612,
            2.9210526315789473,
            2.257142857142857,
            2.274074074074074,
            1.3199999999999998,
            2.6,
            2.871079073831367,
            2.666888888888889,
            3.194736842105263,
            2.7817757009345794,
            2.1,
            0.7999999999999999,
            2.117391304347826,
            2.328888888888889,
            2.7965566714490673,
            2.091025641025641,
            1.6333333333333335,
            2.518181818181818,
            2.5849217638691324,
            2.5,
            2.43,
            2.6164383561643834,
            2.3392857142857144,
            2.1868852459016392,
            1.3851063829787233,
            2.1999999999999997,
            3.4076923076923076,
            2.898446601941748,
            2.869209809264305,
            1.8714285714285714,
            1.9363636363636365,
            2.338418079096045,
            3.0316384180790963,
            2,
            2.2615384615384615,
            3.375,
            2.485616438356164,
            3.2509530056331504,
            1.625,
            1.936,
            2.390909090909091
           ],
           "zmax": 4,
           "zmin": 1
          },
          {
           "colorscale": [
            [
             0,
             "#440154"
            ],
            [
             0.1111111111111111,
             "#482878"
            ],
            [
             0.2222222222222222,
             "#3e4989"
            ],
            [
             0.3333333333333333,
             "#31688e"
            ],
            [
             0.4444444444444444,
             "#26828e"
            ],
            [
             0.5555555555555556,
             "#1f9e89"
            ],
            [
             0.6666666666666666,
             "#35b779"
            ],
            [
             0.7777777777777778,
             "#6ece58"
            ],
            [
             0.8888888888888888,
             "#b5de2b"
            ],
            [
             1,
             "#fde725"
            ]
           ],
           "locationmode": "USA-states",
           "locations": [
            "AL",
            "AK",
            "AZ",
            "AR",
            "CA",
            "CO",
            "CT",
            "DE",
            "FL",
            "GA",
            "HI",
            "ID",
            "IL",
            "IN",
            "IA",
            "KS",
            "KY",
            "LA",
            "ME",
            "MD",
            "MA",
            "MI",
            "MN",
            "MO",
            "MT",
            "NE",
            "NV",
            "NH",
            "NJ",
            "NM",
            "NY",
            "NC",
            "OH",
            "OK",
            "OR",
            "PA",
            "RI",
            "SC",
            "SD",
            "TN",
            "TX",
            "UT",
            "VT",
            "VA",
            "WA",
            "DC",
            "WV",
            "WI",
            "WY"
           ],
           "type": "choropleth",
           "z": [
            3.357142857142857,
            3.5638888888888887,
            3.3623949579831933,
            2.6037037037037036,
            3.510388757551878,
            2.82021978021978,
            3.48135593220339,
            3.3168207024029575,
            2.989935760171306,
            3.2682857142857147,
            3.1765625,
            3.127853881278539,
            3.3653498871331826,
            3.1137184115523464,
            3,
            3.5151785714285713,
            3.2150000000000003,
            2.8059800664451826,
            3.3772499999999996,
            3.270253164556962,
            3.239970930232558,
            3.261907654921021,
            2.87617237008872,
            2.0347410358565736,
            3.239071038251366,
            2.9979591836734696,
            3.004054054054054,
            3.4518518518518517,
            3.4641909814323606,
            3.180254777070064,
            3.192056921086675,
            3.211670480549199,
            3.5121561668145516,
            2.6550000000000002,
            3.5837307152875177,
            3.208686868686869,
            3.2614285714285716,
            3.1536585365853655,
            3.066666666666667,
            3.1236658932714616,
            3.00937019969278,
            3.175449101796407,
            3.235095447870778,
            3.231521739130435,
            3.256299065420561,
            3.3074074074074074,
            3.1166666666666667,
            2.543512058999402,
            3.3507246376811595
           ],
           "zmax": 4,
           "zmin": 1
          }
         ],
         "name": "2003"
        },
        {
         "data": [
          {
           "colorscale": [
            [
             0,
             "#440154"
            ],
            [
             0.1111111111111111,
             "#482878"
            ],
            [
             0.2222222222222222,
             "#3e4989"
            ],
            [
             0.3333333333333333,
             "#31688e"
            ],
            [
             0.4444444444444444,
             "#26828e"
            ],
            [
             0.5555555555555556,
             "#1f9e89"
            ],
            [
             0.6666666666666666,
             "#35b779"
            ],
            [
             0.7777777777777778,
             "#6ece58"
            ],
            [
             0.8888888888888888,
             "#b5de2b"
            ],
            [
             1,
             "#fde725"
            ]
           ],
           "locationmode": "country names",
           "locations": [
            "Albania",
            "Argentina",
            "Armenia",
            "Australia",
            "Austria",
            "Bahamas",
            "Barbados",
            "Belarus",
            "Belgium",
            "Belize",
            "Bolivia",
            "Bosnia and Herzegovina",
            "Brazil",
            "Bulgaria",
            "Cambodia",
            "Canada",
            "Cayman Islands",
            "Chile",
            "China",
            "Colombia",
            "Costa Rica",
            "Croatia",
            "Cuba",
            "Cyprus",
            "Czech Republic",
            "Denmark",
            "Dominican Republic",
            "Ecuador",
            "Egypt",
            "El Salvador",
            "Estonia",
            "Ethiopia",
            "Faroe Islands",
            "Fiji Islands",
            "Finland",
            "France",
            "French Polynesia",
            "Georgia",
            "Germany",
            "Greece",
            "Guatemala",
            "Guernsey",
            "Honduras",
            "Hong Kong",
            "Hungary",
            "Iceland",
            "India",
            "Indonesia",
            "Ireland",
            "Isle of Man",
            "Israel",
            "Italy",
            "Jamaica",
            "Japan",
            "Jersey",
            "Kenya",
            "Laos",
            "Latvia",
            "Lebanon",
            "Lithuania",
            "Luxembourg",
            "Macedonia",
            "Malaysia",
            "Malta",
            "Mexico",
            "Moldova",
            "Montenegro",
            "Morocco",
            "Myanmar",
            "Namibia",
            "Netherlands",
            "New Zealand",
            "Nigeria",
            "Norway",
            "Palestine",
            "Panama",
            "Peru",
            "Philippines",
            "Poland",
            "Portugal",
            "Puerto Rico",
            "Romania",
            "Russia",
            "Serbia",
            "Singapore",
            "Slovak Republic",
            "Slovenia",
            "South Africa",
            "South Korea",
            "Spain",
            "Sri Lanka",
            "Sweden",
            "Switzerland",
            "Taiwan",
            "Tanzania",
            "Thailand",
            "Trinidad & Tobago",
            "Tunisia",
            "Turkey",
            "Uganda",
            "Ukraine",
            "United Kingdom",
            "Venezuela",
            "Vietnam",
            "Virgin Islands (U.S.)"
           ],
           "type": "choropleth",
           "z": [
            1.5999999999999999,
            2.0591549295774647,
            2.7142857142857144,
            2.55639771801141,
            3.0038922155688623,
            1.8888888888888888,
            2.6,
            1.855,
            3.5157570290181925,
            2.5666666666666664,
            1.7772727272727273,
            2.464,
            2.246917808219178,
            1.8955555555555554,
            1.6166666666666665,
            2.987485930625192,
            2.5500000000000003,
            1.9727272727272727,
            1.6655052264808363,
            2.0148148148148146,
            2.004166666666667,
            2.5439252336448597,
            1.7750000000000001,
            1.9382352941176473,
            2.9756376887038,
            2.610355253212396,
            1.9706896551724138,
            1.6363636363636365,
            1.6173913043478263,
            1.5451923076923075,
            2.189944134078212,
            2.853846153846154,
            2.3189189189189188,
            1.5999999999999999,
            2.81784140969163,
            2.781259295984135,
            2.066666666666667,
            2.9038461538461537,
            3.0858998289002955,
            2.113868613138686,
            1.525,
            2.942857142857143,
            1.7875,
            1.861904761904762,
            2.1989247311827955,
            1.7422222222222223,
            1.9267045454545455,
            1.7366666666666668,
            3.1799370574350903,
            2.767741935483871,
            2.0837837837837836,
            2.591994382022472,
            2.4938524590163933,
            2.6648714810281517,
            2.4,
            2.0626666666666664,
            1.8909090909090909,
            2.838323353293413,
            2.1476190476190475,
            2.6088372093023255,
            2.6051724137931034,
            2.10625,
            2.6485714285714286,
            2.32,
            2.1417228464419473,
            2.2285714285714286,
            2.3848484848484848,
            2.0473684210526315,
            1.6,
            2.623809523809524,
            2.8828065739570166,
            2.6471956224350204,
            3.033333333333333,
            2.9265714285714286,
            2.4285714285714284,
            2.2473684210526317,
            2.262903225806452,
            2.205982905982906,
            2.5983098591549294,
            2.2508620689655174,
            1.5699999999999998,
            2.38448275862069,
            2.462039312039312,
            2.5124999999999997,
            2.3978260869565218,
            2.5421965317919075,
            2.4323943661971827,
            2.249295774647887,
            1.5893939393939396,
            2.2246951219512194,
            3.4433333333333334,
            2.8730042656916517,
            2.7440715883668902,
            2.1538461538461537,
            2.3375,
            2.0861842105263158,
            3.1326315789473687,
            2.4285714285714284,
            2.350925925925926,
            1.4125,
            2.4601626016260165,
            3.204425175661534,
            1.5230769230769232,
            1.7,
            2.5727272727272728
           ],
           "zmax": 4,
           "zmin": 1
          },
          {
           "colorscale": [
            [
             0,
             "#440154"
            ],
            [
             0.1111111111111111,
             "#482878"
            ],
            [
             0.2222222222222222,
             "#3e4989"
            ],
            [
             0.3333333333333333,
             "#31688e"
            ],
            [
             0.4444444444444444,
             "#26828e"
            ],
            [
             0.5555555555555556,
             "#1f9e89"
            ],
            [
             0.6666666666666666,
             "#35b779"
            ],
            [
             0.7777777777777778,
             "#6ece58"
            ],
            [
             0.8888888888888888,
             "#b5de2b"
            ],
            [
             1,
             "#fde725"
            ]
           ],
           "locationmode": "USA-states",
           "locations": [
            "AL",
            "AK",
            "AZ",
            "AR",
            "CA",
            "CO",
            "CT",
            "DE",
            "FL",
            "GA",
            "HI",
            "ID",
            "IL",
            "IN",
            "IA",
            "KS",
            "KY",
            "LA",
            "ME",
            "MD",
            "MA",
            "MI",
            "MN",
            "MO",
            "MT",
            "NE",
            "NV",
            "NH",
            "NJ",
            "NM",
            "NY",
            "NC",
            "OH",
            "OK",
            "OR",
            "PA",
            "RI",
            "SC",
            "SD",
            "TN",
            "TX",
            "UT",
            "VT",
            "VA",
            "WA",
            "DC",
            "WV",
            "WI",
            "WY"
           ],
           "type": "choropleth",
           "z": [
            2.7047619047619045,
            3.5833333333333335,
            3.3410204081632653,
            3.0439999999999996,
            3.518424451140766,
            3.021027205695398,
            3.39251968503937,
            3.4093851132686086,
            3.061137440758294,
            3.422615803814714,
            2.9572463768115944,
            3.278405315614618,
            3.3516734693877552,
            3.2052132701421803,
            3.0500000000000003,
            3.435960591133005,
            3.29126213592233,
            2.7846560846560844,
            3.362280701754386,
            3.2762486126526085,
            3.2260848601735774,
            3.3579847053531267,
            3.064798206278027,
            1.988429172510519,
            3.122264875239923,
            2.8408163265306126,
            2.9554016620498618,
            3.580577136514983,
            3.464578713968958,
            3.036039603960396,
            3.213964876730834,
            3.1963494132985657,
            3.5238218205293736,
            2.8338235294117644,
            3.5373354678050517,
            3.333987090367428,
            3.3465277777777778,
            3.0150684931506846,
            3.539285714285714,
            3.076041666666667,
            3.0617702448210924,
            3.048943661971831,
            3.2270282384580904,
            3.302676399026764,
            3.319854721549637,
            3.2333333333333334,
            3.016,
            2.6588428103177995,
            3.1872340425531918
           ],
           "zmax": 4,
           "zmin": 1
          }
         ],
         "name": "2004"
        },
        {
         "data": [
          {
           "colorscale": [
            [
             0,
             "#440154"
            ],
            [
             0.1111111111111111,
             "#482878"
            ],
            [
             0.2222222222222222,
             "#3e4989"
            ],
            [
             0.3333333333333333,
             "#31688e"
            ],
            [
             0.4444444444444444,
             "#26828e"
            ],
            [
             0.5555555555555556,
             "#1f9e89"
            ],
            [
             0.6666666666666666,
             "#35b779"
            ],
            [
             0.7777777777777778,
             "#6ece58"
            ],
            [
             0.8888888888888888,
             "#b5de2b"
            ],
            [
             1,
             "#fde725"
            ]
           ],
           "locationmode": "country names",
           "locations": [
            "Albania",
            "Argentina",
            "Armenia",
            "Australia",
            "Austria",
            "Bahamas",
            "Barbados",
            "Belarus",
            "Belgium",
            "Belize",
            "Bolivia",
            "Bosnia and Herzegovina",
            "Brazil",
            "Bulgaria",
            "Cambodia",
            "Canada",
            "Cayman Islands",
            "Chile",
            "China",
            "Colombia",
            "Costa Rica",
            "Croatia",
            "Cuba",
            "Cyprus",
            "Czech Republic",
            "Denmark",
            "Dominican Republic",
            "Ecuador",
            "Egypt",
            "El Salvador",
            "Estonia",
            "Ethiopia",
            "Faroe Islands",
            "Fiji Islands",
            "Finland",
            "France",
            "French Polynesia",
            "Georgia",
            "Germany",
            "Greece",
            "Guatemala",
            "Guernsey",
            "Honduras",
            "Hong Kong",
            "Hungary",
            "Iceland",
            "India",
            "Indonesia",
            "Ireland",
            "Isle of Man",
            "Israel",
            "Italy",
            "Jamaica",
            "Japan",
            "Jersey",
            "Kenya",
            "Laos",
            "Latvia",
            "Lebanon",
            "Lithuania",
            "Luxembourg",
            "Macedonia",
            "Malaysia",
            "Malta",
            "Mexico",
            "Moldova",
            "Montenegro",
            "Morocco",
            "Myanmar",
            "Namibia",
            "Netherlands",
            "New Zealand",
            "Nigeria",
            "Norway",
            "Palestine",
            "Panama",
            "Peru",
            "Philippines",
            "Poland",
            "Portugal",
            "Puerto Rico",
            "Romania",
            "Russia",
            "Serbia",
            "Singapore",
            "Slovak Republic",
            "Slovenia",
            "South Africa",
            "South Korea",
            "Spain",
            "Sri Lanka",
            "Sweden",
            "Switzerland",
            "Taiwan",
            "Tanzania",
            "Thailand",
            "Trinidad & Tobago",
            "Tunisia",
            "Turkey",
            "Uganda",
            "Ukraine",
            "United Kingdom",
            "Venezuela",
            "Vietnam",
            "Virgin Islands (U.S.)"
           ],
           "type": "choropleth",
           "z": [
            2.1,
            2.230769230769231,
            1.9226415094339624,
            2.669690182904069,
            2.9366255144032922,
            1.6896551724137931,
            1.825,
            2.7,
            3.460339034243214,
            2.409375,
            2.1681818181818184,
            2.2896551724137932,
            2.4504950495049505,
            2.0918367346938775,
            1.998076923076923,
            2.98973217833585,
            1.2666666666666666,
            2.2520000000000002,
            1.9487455197132617,
            1.7064516129032257,
            1.8144927536231885,
            2.3274999999999997,
            1.604109589041096,
            2.112195121951219,
            2.9830181086519114,
            2.7362426284751473,
            1.9170454545454545,
            1.8583333333333334,
            2.353125,
            1.5725663716814158,
            2.2418181818181817,
            2.3607142857142853,
            2.41,
            1.4833333333333334,
            2.8324817518248175,
            2.8165567765567765,
            1.9133333333333333,
            2.6142857142857143,
            3.015380549682875,
            2.050561797752809,
            1.635135135135135,
            2.6222222222222222,
            1.9666666666666668,
            1.5846153846153848,
            2.2396551724137934,
            1.8686567164179104,
            1.9435714285714287,
            2.2026315789473685,
            3.0913963328631877,
            2.996078431372549,
            2.09,
            2.8416239316239316,
            2.5404858299595143,
            2.687522441651706,
            2.4555555555555557,
            1.9450704225352111,
            1.8545454545454547,
            2.5982456140350876,
            1.8625,
            2.535127478753541,
            2.835294117647059,
            2.06,
            2.6333333333333333,
            1.905263157894737,
            2.141079812206573,
            3.95,
            2.746153846153846,
            2.105714285714286,
            3.2,
            2.275,
            2.9355924056717133,
            2.9036686390532545,
            2.257575757575758,
            2.912962962962963,
            1.9846153846153847,
            1.5578947368421052,
            1.9770833333333335,
            1.9781250000000001,
            2.64626635873749,
            2.1601307189542482,
            1,
            2.766666666666667,
            2.545993031358885,
            2.5928571428571425,
            2.4983471074380166,
            2.716867469879518,
            2.457692307692308,
            2.57012987012987,
            2.110958904109589,
            2.216358839050132,
            3.6535,
            2.780827801639984,
            2.8433333333333337,
            2.158823529411765,
            1.5933333333333333,
            2.0994505494505495,
            3.0471794871794873,
            1.6076923076923075,
            2.1504273504273503,
            1.3545454545454545,
            2.5242553191489363,
            3.1590729444110317,
            2.460714285714286,
            1.569090909090909,
            2.380952380952381
           ],
           "zmax": 4,
           "zmin": 1
          },
          {
           "colorscale": [
            [
             0,
             "#440154"
            ],
            [
             0.1111111111111111,
             "#482878"
            ],
            [
             0.2222222222222222,
             "#3e4989"
            ],
            [
             0.3333333333333333,
             "#31688e"
            ],
            [
             0.4444444444444444,
             "#26828e"
            ],
            [
             0.5555555555555556,
             "#1f9e89"
            ],
            [
             0.6666666666666666,
             "#35b779"
            ],
            [
             0.7777777777777778,
             "#6ece58"
            ],
            [
             0.8888888888888888,
             "#b5de2b"
            ],
            [
             1,
             "#fde725"
            ]
           ],
           "locationmode": "USA-states",
           "locations": [
            "AL",
            "AK",
            "AZ",
            "AR",
            "CA",
            "CO",
            "CT",
            "DE",
            "FL",
            "GA",
            "HI",
            "ID",
            "IL",
            "IN",
            "IA",
            "KS",
            "KY",
            "LA",
            "ME",
            "MD",
            "MA",
            "MI",
            "MN",
            "MO",
            "MT",
            "NE",
            "NV",
            "NH",
            "NJ",
            "NM",
            "NY",
            "NC",
            "OH",
            "OK",
            "OR",
            "PA",
            "RI",
            "SC",
            "SD",
            "TN",
            "TX",
            "UT",
            "VT",
            "VA",
            "WA",
            "DC",
            "WV",
            "WI",
            "WY"
           ],
           "type": "choropleth",
           "z": [
            2.5743055555555556,
            3.5522914218566393,
            3.2861325115562403,
            3.0930232558139537,
            3.5128160479208748,
            3.182407668452213,
            3.4872372372372373,
            3.437920489296636,
            2.989679715302491,
            3.415508412582297,
            2.9875555555555557,
            3.2959044368600683,
            3.3529299847793,
            3.2070773263433816,
            2.9984334203655356,
            3.527810650887574,
            3.158267716535433,
            2.73366935483871,
            3.2682684670373314,
            3.3302765647743815,
            3.214011208967174,
            3.352510351966874,
            2.987051792828685,
            2.1121403912543153,
            3.1977818853974123,
            3.0630681818181817,
            3.034113712374582,
            3.4049115913555994,
            3.403641207815275,
            3.2373170731707317,
            3.256677696889477,
            3.2523913043478263,
            3.533038674033149,
            2.7344827586206897,
            3.4968309301220093,
            3.3032989341904924,
            3.1955999999999998,
            2.9358156028368794,
            3.4714285714285715,
            3.011942257217848,
            3.1348020434227335,
            3.0704225352112675,
            3.175113808801214,
            3.2827458256029685,
            3.284883993438013,
            3.284782608695652,
            2.8666666666666667,
            2.7278379283402168,
            3.2481012658227852
           ],
           "zmax": 4,
           "zmin": 1
          }
         ],
         "name": "2005"
        },
        {
         "data": [
          {
           "colorscale": [
            [
             0,
             "#440154"
            ],
            [
             0.1111111111111111,
             "#482878"
            ],
            [
             0.2222222222222222,
             "#3e4989"
            ],
            [
             0.3333333333333333,
             "#31688e"
            ],
            [
             0.4444444444444444,
             "#26828e"
            ],
            [
             0.5555555555555556,
             "#1f9e89"
            ],
            [
             0.6666666666666666,
             "#35b779"
            ],
            [
             0.7777777777777778,
             "#6ece58"
            ],
            [
             0.8888888888888888,
             "#b5de2b"
            ],
            [
             1,
             "#fde725"
            ]
           ],
           "locationmode": "country names",
           "locations": [
            "Albania",
            "Argentina",
            "Armenia",
            "Australia",
            "Austria",
            "Bahamas",
            "Barbados",
            "Belarus",
            "Belgium",
            "Belize",
            "Bolivia",
            "Bosnia and Herzegovina",
            "Brazil",
            "Bulgaria",
            "Cambodia",
            "Canada",
            "Cayman Islands",
            "Chile",
            "China",
            "Colombia",
            "Costa Rica",
            "Croatia",
            "Cuba",
            "Cyprus",
            "Czech Republic",
            "Denmark",
            "Dominican Republic",
            "Ecuador",
            "Egypt",
            "El Salvador",
            "Estonia",
            "Ethiopia",
            "Faroe Islands",
            "Fiji Islands",
            "Finland",
            "France",
            "French Polynesia",
            "Georgia",
            "Germany",
            "Greece",
            "Guatemala",
            "Guernsey",
            "Honduras",
            "Hong Kong",
            "Hungary",
            "Iceland",
            "India",
            "Indonesia",
            "Ireland",
            "Isle of Man",
            "Israel",
            "Italy",
            "Jamaica",
            "Japan",
            "Jersey",
            "Kenya",
            "Laos",
            "Latvia",
            "Lebanon",
            "Lithuania",
            "Luxembourg",
            "Macedonia",
            "Malaysia",
            "Malta",
            "Mexico",
            "Moldova",
            "Montenegro",
            "Morocco",
            "Myanmar",
            "Namibia",
            "Netherlands",
            "New Zealand",
            "Nigeria",
            "Norway",
            "Palestine",
            "Panama",
            "Peru",
            "Philippines",
            "Poland",
            "Portugal",
            "Puerto Rico",
            "Romania",
            "Russia",
            "Serbia",
            "Singapore",
            "Slovak Republic",
            "Slovenia",
            "South Africa",
            "South Korea",
            "Spain",
            "Sri Lanka",
            "Sweden",
            "Switzerland",
            "Taiwan",
            "Tanzania",
            "Thailand",
            "Trinidad & Tobago",
            "Tunisia",
            "Turkey",
            "Uganda",
            "Ukraine",
            "United Kingdom",
            "Venezuela",
            "Vietnam",
            "Virgin Islands (U.S.)"
           ],
           "type": "choropleth",
           "z": [
            1.8727272727272728,
            2.578925619834711,
            2.14,
            2.6916309848189957,
            3.017361111111111,
            1.6813953488372093,
            1.9285714285714286,
            3,
            3.5040070897337876,
            2.673076923076923,
            1.9488372093023256,
            2.0833333333333335,
            2.2339449541284404,
            2.1580882352941178,
            1.8703125,
            3.0141233766233766,
            2.7857142857142856,
            2.4853658536585366,
            1.9459227467811158,
            2.104,
            2.3186440677966105,
            2.506666666666667,
            1.6685185185185185,
            2.140625,
            2.9349218452154022,
            2.861369215383217,
            1.7878048780487805,
            2.19,
            1.6312499999999999,
            1.685483870967742,
            2.254575163398693,
            2.492982456140351,
            2.5195876288659793,
            1.9105263157894736,
            2.7922348484848483,
            2.8406563706563706,
            1.9000000000000001,
            2.2115384615384617,
            3.034461134606971,
            2.235204081632653,
            1.8957894736842105,
            2.9172413793103447,
            2.246666666666667,
            2.43,
            2.29037037037037,
            1.9013333333333333,
            1.8821428571428571,
            2.051851851851852,
            3.174569262577533,
            3.0634408602150534,
            2.206122448979592,
            2.833732660781841,
            2.672789115646258,
            2.7454621848739493,
            2.6,
            2.2132530120481926,
            2.0161290322580645,
            2.895238095238095,
            1.6900000000000002,
            2.616015625,
            2.612096774193548,
            2.6625,
            2.580487804878049,
            2.7975000000000003,
            2.1155044008124575,
            2.2142857142857144,
            2.1959999999999997,
            1.9450980392156862,
            2.25,
            2.3333333333333335,
            2.8668600603388255,
            2.8707865168539324,
            3.1636363636363636,
            2.806885109912899,
            2.08125,
            1.738235294117647,
            2.175268817204301,
            1.961676646706587,
            2.7532589547856725,
            2.217872340425532,
            2.590625,
            2.524489795918367,
            2.4573006134969324,
            2.463636363636364,
            2.57020202020202,
            2.73,
            2.261068702290076,
            2.4546099290780146,
            1.7525252525252526,
            2.457115009746589,
            3.469787234042553,
            2.817392550143267,
            2.958,
            2.0033333333333334,
            1.8857142857142857,
            2.1743718592964822,
            3.138502673796791,
            1.5833333333333333,
            2.137142857142857,
            1.78,
            2.5,
            3.1701219092223982,
            1.6522727272727273,
            2.0346774193548387,
            2.5272727272727273
           ],
           "zmax": 4,
           "zmin": 1
          },
          {
           "colorscale": [
            [
             0,
             "#440154"
            ],
            [
             0.1111111111111111,
             "#482878"
            ],
            [
             0.2222222222222222,
             "#3e4989"
            ],
            [
             0.3333333333333333,
             "#31688e"
            ],
            [
             0.4444444444444444,
             "#26828e"
            ],
            [
             0.5555555555555556,
             "#1f9e89"
            ],
            [
             0.6666666666666666,
             "#35b779"
            ],
            [
             0.7777777777777778,
             "#6ece58"
            ],
            [
             0.8888888888888888,
             "#b5de2b"
            ],
            [
             1,
             "#fde725"
            ]
           ],
           "locationmode": "USA-states",
           "locations": [
            "AL",
            "AK",
            "AZ",
            "AR",
            "CA",
            "CO",
            "CT",
            "DE",
            "FL",
            "GA",
            "HI",
            "ID",
            "IL",
            "IN",
            "IA",
            "KS",
            "KY",
            "LA",
            "ME",
            "MD",
            "MA",
            "MI",
            "MN",
            "MO",
            "MT",
            "NE",
            "NV",
            "NH",
            "NJ",
            "NM",
            "NY",
            "NC",
            "OH",
            "OK",
            "OR",
            "PA",
            "RI",
            "SC",
            "SD",
            "TN",
            "TX",
            "UT",
            "VT",
            "VA",
            "WA",
            "DC",
            "WV",
            "WI",
            "WY"
           ],
           "type": "choropleth",
           "z": [
            2.7380281690140844,
            3.591842105263158,
            3.276401179941003,
            3.0507936507936506,
            3.5167361556553347,
            3.177060188011232,
            3.4985602094240837,
            3.3977911646586345,
            2.942695035460993,
            3.476027762947144,
            3.128173374613003,
            3.2511669658886895,
            3.4457904884318764,
            3.220938628158845,
            3.063235294117647,
            3.310227272727273,
            3.2446153846153845,
            2.8793577981651373,
            3.3002191609267375,
            3.322373081463991,
            3.19585448392555,
            3.4384354382657873,
            2.982688247712878,
            2.197253787878788,
            3.1748704663212437,
            3.02,
            3.0275132275132277,
            3.521180555555556,
            3.4181229773462785,
            3.145714285714286,
            3.3071127445681547,
            3.348511047070125,
            3.5900977995110024,
            2.5841726618705034,
            3.4921282016896873,
            3.315188597754103,
            3.216867469879518,
            2.9220907297830374,
            2.869230769230769,
            3.0331747919143877,
            3.0951111111111107,
            3.11586402266289,
            3.157971543232397,
            3.3297400126823082,
            3.2843241987923824,
            3.142857142857143,
            3.091666666666667,
            2.8306911017884744,
            3.123414634146341
           ],
           "zmax": 4,
           "zmin": 1
          }
         ],
         "name": "2006"
        },
        {
         "data": [
          {
           "colorscale": [
            [
             0,
             "#440154"
            ],
            [
             0.1111111111111111,
             "#482878"
            ],
            [
             0.2222222222222222,
             "#3e4989"
            ],
            [
             0.3333333333333333,
             "#31688e"
            ],
            [
             0.4444444444444444,
             "#26828e"
            ],
            [
             0.5555555555555556,
             "#1f9e89"
            ],
            [
             0.6666666666666666,
             "#35b779"
            ],
            [
             0.7777777777777778,
             "#6ece58"
            ],
            [
             0.8888888888888888,
             "#b5de2b"
            ],
            [
             1,
             "#fde725"
            ]
           ],
           "locationmode": "country names",
           "locations": [
            "Albania",
            "Argentina",
            "Armenia",
            "Australia",
            "Austria",
            "Bahamas",
            "Barbados",
            "Belarus",
            "Belgium",
            "Belize",
            "Bolivia",
            "Bosnia and Herzegovina",
            "Brazil",
            "Bulgaria",
            "Cambodia",
            "Canada",
            "Cayman Islands",
            "Chile",
            "China",
            "Colombia",
            "Costa Rica",
            "Croatia",
            "Cuba",
            "Cyprus",
            "Czech Republic",
            "Denmark",
            "Dominican Republic",
            "Ecuador",
            "Egypt",
            "El Salvador",
            "Estonia",
            "Ethiopia",
            "Faroe Islands",
            "Fiji Islands",
            "Finland",
            "France",
            "French Polynesia",
            "Georgia",
            "Germany",
            "Greece",
            "Guatemala",
            "Guernsey",
            "Honduras",
            "Hong Kong",
            "Hungary",
            "Iceland",
            "India",
            "Indonesia",
            "Ireland",
            "Isle of Man",
            "Israel",
            "Italy",
            "Jamaica",
            "Japan",
            "Jersey",
            "Kenya",
            "Laos",
            "Latvia",
            "Lebanon",
            "Lithuania",
            "Luxembourg",
            "Macedonia",
            "Malaysia",
            "Malta",
            "Mexico",
            "Moldova",
            "Montenegro",
            "Morocco",
            "Myanmar",
            "Namibia",
            "Netherlands",
            "New Zealand",
            "Nigeria",
            "Norway",
            "Palestine",
            "Panama",
            "Peru",
            "Philippines",
            "Poland",
            "Portugal",
            "Puerto Rico",
            "Romania",
            "Russia",
            "Serbia",
            "Singapore",
            "Slovak Republic",
            "Slovenia",
            "South Africa",
            "South Korea",
            "Spain",
            "Sri Lanka",
            "Sweden",
            "Switzerland",
            "Taiwan",
            "Tanzania",
            "Thailand",
            "Trinidad & Tobago",
            "Tunisia",
            "Turkey",
            "Uganda",
            "Ukraine",
            "United Kingdom",
            "Venezuela",
            "Vietnam",
            "Virgin Islands (U.S.)"
           ],
           "type": "choropleth",
           "z": [
            2.0461538461538464,
            2.6697080291970803,
            2.3111111111111113,
            2.673029315960912,
            2.9237190558434083,
            2.0115384615384615,
            2.0588235294117645,
            2.176470588235294,
            3.4957365435457786,
            2.0923076923076924,
            2.0555555555555554,
            2.231746031746032,
            2.817127564674398,
            2.165972222222222,
            1.9064516129032258,
            3.089232531500573,
            2.5999999999999996,
            2.6433510638297872,
            2.0008830022075053,
            1.950793650793651,
            1.8256756756756756,
            2.353815261044177,
            1.9098591549295774,
            1.9707317073170731,
            2.980133410672854,
            2.9038034606594842,
            1.9579710144927536,
            1.6576923076923078,
            1.896774193548387,
            1.7570247933884298,
            2.3922705314009662,
            2,
            2.3745664739884393,
            1.5999999999999999,
            2.823968139029689,
            2.842617666021921,
            2.1512820512820516,
            2.319230769230769,
            3.062083612787838,
            2.1411764705882352,
            1.773529411764706,
            2.430769230769231,
            1.875,
            1.9535714285714287,
            2.1761658031088085,
            2.248684210526316,
            1.9807926829268294,
            2.2115384615384617,
            3.1499491353001017,
            3.0683823529411764,
            2.5037974683544304,
            2.943998456194519,
            2.524920127795527,
            2.931702637889688,
            3.15,
            2.183333333333333,
            2.2102564102564104,
            2.6750759878419452,
            1.8333333333333333,
            2.4695059625212945,
            2.6890625,
            2.04,
            2.36551724137931,
            2.5533333333333337,
            2.114435840707965,
            2.4,
            2.3266666666666667,
            2.211627906976744,
            1.4391304347826088,
            2.1512820512820516,
            2.933946546338077,
            2.8430127041742286,
            3.077777777777778,
            3.2651959734418505,
            2.386206896551724,
            1.5085714285714285,
            2.201020408163265,
            2.200925925925926,
            2.6913812785388127,
            2.1744493392070487,
            2.161764705882353,
            2.175352112676056,
            2.4074154852780807,
            2.6173076923076923,
            2.38,
            2.7158620689655173,
            2.195132743362832,
            2.4592436974789913,
            2.2304347826086954,
            2.296805111821086,
            3.4383399209486165,
            2.93785635359116,
            3.0505938242280286,
            2.3840909090909093,
            1.697674418604651,
            2.1609958506224065,
            3.1422619047619045,
            2.21,
            2.303174603174603,
            1.582142857142857,
            2.5839694656488548,
            3.161693961105425,
            1.7654545454545454,
            2.087857142857143,
            2.488095238095238
           ],
           "zmax": 4,
           "zmin": 1
          },
          {
           "colorscale": [
            [
             0,
             "#440154"
            ],
            [
             0.1111111111111111,
             "#482878"
            ],
            [
             0.2222222222222222,
             "#3e4989"
            ],
            [
             0.3333333333333333,
             "#31688e"
            ],
            [
             0.4444444444444444,
             "#26828e"
            ],
            [
             0.5555555555555556,
             "#1f9e89"
            ],
            [
             0.6666666666666666,
             "#35b779"
            ],
            [
             0.7777777777777778,
             "#6ece58"
            ],
            [
             0.8888888888888888,
             "#b5de2b"
            ],
            [
             1,
             "#fde725"
            ]
           ],
           "locationmode": "USA-states",
           "locations": [
            "AL",
            "AK",
            "AZ",
            "AR",
            "CA",
            "CO",
            "CT",
            "DE",
            "FL",
            "GA",
            "HI",
            "ID",
            "IL",
            "IN",
            "IA",
            "KS",
            "KY",
            "LA",
            "ME",
            "MD",
            "MA",
            "MI",
            "MN",
            "MO",
            "MT",
            "NE",
            "NV",
            "NH",
            "NJ",
            "NM",
            "NY",
            "NC",
            "OH",
            "OK",
            "OR",
            "PA",
            "RI",
            "SC",
            "SD",
            "TN",
            "TX",
            "UT",
            "VT",
            "VA",
            "WA",
            "DC",
            "WV",
            "WI",
            "WY"
           ],
           "type": "choropleth",
           "z": [
            2.831111111111111,
            3.5663822525597273,
            3.3224537037037036,
            3.051685393258427,
            3.537653631284916,
            3.1990598979317757,
            3.449479166666667,
            3.3925611052072266,
            3.0573622402890694,
            3.4312013828867762,
            3.249032258064516,
            3.3461146496815286,
            3.425932786451442,
            3.2229357798165137,
            3.094677871148459,
            3.3988130563798222,
            3.2455212922173273,
            2.8198520345252773,
            3.285214007782101,
            3.3379969418960247,
            3.2030966531122926,
            3.4158777792934116,
            3.321552757793765,
            2.235821398483572,
            3.272633744855967,
            3.2303149606299213,
            2.972591006423983,
            3.4351377952755904,
            3.413864306784661,
            3.1514745308310994,
            3.3672000526801003,
            3.42462899543379,
            3.5876860622462785,
            2.5319148936170213,
            3.4749218749999997,
            3.287978734946295,
            3.3339853300733493,
            2.9362745098039214,
            3.1951612903225803,
            3.038184438040346,
            3.112755356253114,
            3.112687813021703,
            3.1227230626736646,
            3.3075438596491225,
            3.266703627435451,
            2.9812499999999997,
            3.0276595744680854,
            2.88969526037009,
            3.2098591549295774
           ],
           "zmax": 4,
           "zmin": 1
          }
         ],
         "name": "2007"
        },
        {
         "data": [
          {
           "colorscale": [
            [
             0,
             "#440154"
            ],
            [
             0.1111111111111111,
             "#482878"
            ],
            [
             0.2222222222222222,
             "#3e4989"
            ],
            [
             0.3333333333333333,
             "#31688e"
            ],
            [
             0.4444444444444444,
             "#26828e"
            ],
            [
             0.5555555555555556,
             "#1f9e89"
            ],
            [
             0.6666666666666666,
             "#35b779"
            ],
            [
             0.7777777777777778,
             "#6ece58"
            ],
            [
             0.8888888888888888,
             "#b5de2b"
            ],
            [
             1,
             "#fde725"
            ]
           ],
           "locationmode": "country names",
           "locations": [
            "Albania",
            "Argentina",
            "Armenia",
            "Australia",
            "Austria",
            "Bahamas",
            "Barbados",
            "Belarus",
            "Belgium",
            "Belize",
            "Bolivia",
            "Bosnia and Herzegovina",
            "Brazil",
            "Bulgaria",
            "Cambodia",
            "Canada",
            "Cayman Islands",
            "Chile",
            "China",
            "Colombia",
            "Costa Rica",
            "Croatia",
            "Cuba",
            "Cyprus",
            "Czech Republic",
            "Denmark",
            "Dominican Republic",
            "Ecuador",
            "Egypt",
            "El Salvador",
            "Estonia",
            "Ethiopia",
            "Faroe Islands",
            "Fiji Islands",
            "Finland",
            "France",
            "French Polynesia",
            "Georgia",
            "Germany",
            "Greece",
            "Guatemala",
            "Guernsey",
            "Honduras",
            "Hong Kong",
            "Hungary",
            "Iceland",
            "India",
            "Indonesia",
            "Ireland",
            "Isle of Man",
            "Israel",
            "Italy",
            "Jamaica",
            "Japan",
            "Jersey",
            "Kenya",
            "Laos",
            "Latvia",
            "Lebanon",
            "Lithuania",
            "Luxembourg",
            "Macedonia",
            "Malaysia",
            "Malta",
            "Mexico",
            "Moldova",
            "Montenegro",
            "Morocco",
            "Myanmar",
            "Namibia",
            "Netherlands",
            "New Zealand",
            "Nigeria",
            "Norway",
            "Palestine",
            "Panama",
            "Peru",
            "Philippines",
            "Poland",
            "Portugal",
            "Puerto Rico",
            "Romania",
            "Russia",
            "Serbia",
            "Singapore",
            "Slovak Republic",
            "Slovenia",
            "South Africa",
            "South Korea",
            "Spain",
            "Sri Lanka",
            "Sweden",
            "Switzerland",
            "Taiwan",
            "Tanzania",
            "Thailand",
            "Trinidad & Tobago",
            "Tunisia",
            "Turkey",
            "Uganda",
            "Ukraine",
            "United Kingdom",
            "Venezuela",
            "Vietnam",
            "Virgin Islands (U.S.)"
           ],
           "type": "choropleth",
           "z": [
            2.109375,
            2.572505543237251,
            2.4142857142857146,
            2.738928682653379,
            2.931089019430637,
            1.9038461538461537,
            2.1564102564102563,
            2.051219512195122,
            3.5043471128608923,
            2.6333333333333333,
            2.1075,
            2.1755555555555555,
            2.7199626865671642,
            2.2265486725663717,
            2.0175,
            3.2007541575351297,
            2.066666666666667,
            2.788211382113821,
            1.8522388059701493,
            2.251063829787234,
            1.9377551020408164,
            2.344794952681388,
            1.98,
            2.002272727272727,
            2.9371358024691356,
            2.99254182722794,
            1.9129411764705881,
            1.8875,
            1.8836956521739132,
            1.9145038167938933,
            2.2534562211981566,
            2.5603174603174605,
            2.419620253164557,
            2.0999999999999996,
            2.8387675507020282,
            2.8578693951248875,
            2.0647058823529414,
            2.0875,
            3.032073042653386,
            2.290877192982456,
            1.6463235294117649,
            2.511111111111111,
            1.637037037037037,
            1.941935483870968,
            2.274912891986063,
            2.345816733067729,
            1.9116147308781868,
            2.19344262295082,
            3.1872297637003517,
            3.145625,
            2.6734265734265734,
            3.0335207496653283,
            2.391156462585034,
            3.035519857206604,
            2.3,
            2.1113636363636363,
            2.1102564102564103,
            2.5052529182879377,
            2.1863636363636365,
            2.5201657458563536,
            2.5145299145299145,
            2.088235294117647,
            2.868181818181818,
            2.435164835164835,
            2.1176851851851852,
            2.5307692307692307,
            2.1525,
            2.0507936507936506,
            1.7,
            2.339622641509434,
            2.905684713375796,
            2.9254851889683353,
            3.214,
            3.310863444392304,
            2.8803030303030304,
            1.9454545454545453,
            2.1971698113207547,
            2.1472049689440995,
            2.542491210447012,
            2.19625468164794,
            2.628205128205128,
            2.1101851851851854,
            2.3920197044334977,
            2.476923076923077,
            2.354385964912281,
            2.6071748878923766,
            2.3487012987012985,
            2.5167539267015706,
            1.915909090909091,
            2.3114649681528663,
            3.486516853932584,
            3.083500557413601,
            3.105168170631665,
            1.727906976744186,
            2.090909090909091,
            2.101339285714286,
            2.9627272727272724,
            1.9680000000000002,
            2.2662500000000003,
            2.0588235294117645,
            2.3973941368078178,
            3.179207220923278,
            1.8861111111111113,
            2.2618181818181817,
            2.796875
           ],
           "zmax": 4,
           "zmin": 1
          },
          {
           "colorscale": [
            [
             0,
             "#440154"
            ],
            [
             0.1111111111111111,
             "#482878"
            ],
            [
             0.2222222222222222,
             "#3e4989"
            ],
            [
             0.3333333333333333,
             "#31688e"
            ],
            [
             0.4444444444444444,
             "#26828e"
            ],
            [
             0.5555555555555556,
             "#1f9e89"
            ],
            [
             0.6666666666666666,
             "#35b779"
            ],
            [
             0.7777777777777778,
             "#6ece58"
            ],
            [
             0.8888888888888888,
             "#b5de2b"
            ],
            [
             1,
             "#fde725"
            ]
           ],
           "locationmode": "USA-states",
           "locations": [
            "AL",
            "AK",
            "AZ",
            "AR",
            "CA",
            "CO",
            "CT",
            "DE",
            "FL",
            "GA",
            "HI",
            "ID",
            "IL",
            "IN",
            "IA",
            "KS",
            "KY",
            "LA",
            "ME",
            "MD",
            "MA",
            "MI",
            "MN",
            "MO",
            "MT",
            "NE",
            "NV",
            "NH",
            "NJ",
            "NM",
            "NY",
            "NC",
            "OH",
            "OK",
            "OR",
            "PA",
            "RI",
            "SC",
            "SD",
            "TN",
            "TX",
            "UT",
            "VT",
            "VA",
            "WA",
            "DC",
            "WV",
            "WI",
            "WY"
           ],
           "type": "choropleth",
           "z": [
            3.122916666666667,
            3.631460134486071,
            3.2691380908248378,
            3.108955223880597,
            3.5958190388530946,
            3.20919462520071,
            3.3993370165745858,
            3.4148804251550047,
            3.121242995415181,
            3.4313174114021576,
            3.2564853556485356,
            3.3870062370062373,
            3.444928956393925,
            3.3554067971163746,
            3.0367158671586716,
            3.4130641330166274,
            3.2079104477611944,
            2.898198198198198,
            3.29731027857829,
            3.3007932011331444,
            3.2023905619372863,
            3.463638601674052,
            3.3902240325865582,
            2.402817974105103,
            3.186564472497746,
            3.371578947368421,
            3.075235849056604,
            3.4897813121272363,
            3.3514529914529914,
            3.2064039408866996,
            3.417682435697793,
            3.3853995221661797,
            3.522696990581208,
            2.8182186234817816,
            3.4931163594470047,
            3.314857679074132,
            3.2112903225806453,
            3.053186813186813,
            3.189285714285714,
            3.1464556962025316,
            3.2113141025641023,
            3.1700000000000004,
            3.1148107515085024,
            3.2794871794871794,
            3.2947526473842266,
            3.1238095238095234,
            2.8619834710743803,
            2.906866499405784,
            3.231034482758621
           ],
           "zmax": 4,
           "zmin": 1
          }
         ],
         "name": "2008"
        },
        {
         "data": [
          {
           "colorscale": [
            [
             0,
             "#440154"
            ],
            [
             0.1111111111111111,
             "#482878"
            ],
            [
             0.2222222222222222,
             "#3e4989"
            ],
            [
             0.3333333333333333,
             "#31688e"
            ],
            [
             0.4444444444444444,
             "#26828e"
            ],
            [
             0.5555555555555556,
             "#1f9e89"
            ],
            [
             0.6666666666666666,
             "#35b779"
            ],
            [
             0.7777777777777778,
             "#6ece58"
            ],
            [
             0.8888888888888888,
             "#b5de2b"
            ],
            [
             1,
             "#fde725"
            ]
           ],
           "locationmode": "country names",
           "locations": [
            "Albania",
            "Argentina",
            "Armenia",
            "Australia",
            "Austria",
            "Bahamas",
            "Barbados",
            "Belarus",
            "Belgium",
            "Belize",
            "Bolivia",
            "Bosnia and Herzegovina",
            "Brazil",
            "Bulgaria",
            "Cambodia",
            "Canada",
            "Cayman Islands",
            "Chile",
            "China",
            "Colombia",
            "Costa Rica",
            "Croatia",
            "Cuba",
            "Cyprus",
            "Czech Republic",
            "Denmark",
            "Dominican Republic",
            "Ecuador",
            "Egypt",
            "El Salvador",
            "Estonia",
            "Ethiopia",
            "Faroe Islands",
            "Fiji Islands",
            "Finland",
            "France",
            "French Polynesia",
            "Georgia",
            "Germany",
            "Greece",
            "Guatemala",
            "Guernsey",
            "Honduras",
            "Hong Kong",
            "Hungary",
            "Iceland",
            "India",
            "Indonesia",
            "Ireland",
            "Isle of Man",
            "Israel",
            "Italy",
            "Jamaica",
            "Japan",
            "Jersey",
            "Kenya",
            "Laos",
            "Latvia",
            "Lebanon",
            "Lithuania",
            "Luxembourg",
            "Macedonia",
            "Malaysia",
            "Malta",
            "Mexico",
            "Moldova",
            "Montenegro",
            "Morocco",
            "Myanmar",
            "Namibia",
            "Netherlands",
            "New Zealand",
            "Nigeria",
            "Norway",
            "Palestine",
            "Panama",
            "Peru",
            "Philippines",
            "Poland",
            "Portugal",
            "Puerto Rico",
            "Romania",
            "Russia",
            "Serbia",
            "Singapore",
            "Slovak Republic",
            "Slovenia",
            "South Africa",
            "South Korea",
            "Spain",
            "Sri Lanka",
            "Sweden",
            "Switzerland",
            "Taiwan",
            "Tanzania",
            "Thailand",
            "Trinidad & Tobago",
            "Tunisia",
            "Turkey",
            "Uganda",
            "Ukraine",
            "United Kingdom",
            "Venezuela",
            "Vietnam",
            "Virgin Islands (U.S.)"
           ],
           "type": "choropleth",
           "z": [
            1.8090909090909089,
            2.633497536945813,
            2.610526315789474,
            2.869460390355913,
            2.9279741164758586,
            1.869047619047619,
            2.2357142857142858,
            2.5341614906832297,
            3.4877397028595216,
            2.538888888888889,
            2.2289473684210526,
            2.1203883495145632,
            2.6820627802690584,
            2.095049504950495,
            2.2830188679245285,
            3.2238977272727274,
            2.31,
            2.843421052631579,
            1.8887619047619049,
            2.283495145631068,
            2.164,
            2.3547945205479452,
            1.8399999999999999,
            1.9478260869565216,
            2.9372825812956895,
            3.0430739565839398,
            1.8022988505747128,
            1.8324324324324324,
            1.9166666666666667,
            1.7031446540880504,
            2.2348008385744236,
            2.2455696202531645,
            2.5529032258064515,
            1.8636363636363635,
            2.830014570179699,
            2.819173239053576,
            2.226923076923077,
            2.090909090909091,
            2.9983968001040617,
            2.4144963144963145,
            1.8411764705882352,
            2.7375,
            2.215151515151515,
            1.9923076923076921,
            2.334418604651163,
            2.8493723849372383,
            1.955076923076923,
            2.1811764705882353,
            3.1482983682983683,
            3.1637037037037037,
            2.6281250000000003,
            3.114399635452267,
            2.4863453815261045,
            3.0332975295381313,
            2.8875,
            2.052688172043011,
            2.4918032786885247,
            2.3363636363636364,
            2.38125,
            2.5429872495446264,
            2.59125,
            2.325,
            2.2083333333333335,
            2.402479338842975,
            2.1747079439252337,
            2.8,
            2.424324324324324,
            2.222448979591837,
            1.5833333333333333,
            2.353448275862069,
            2.956272518833934,
            3.049408131755018,
            2.8546875,
            3.4332920573147003,
            2.6374999999999997,
            1.9230769230769231,
            2.2026315789473685,
            2.246875,
            2.4850712250712252,
            2.29009009009009,
            2.5363636363636366,
            2.006194690265487,
            2.348622754491018,
            2.295945945945946,
            2.437894736842105,
            2.6100977198697066,
            2.3205607476635515,
            2.4023076923076925,
            1.8225,
            2.5268192968111203,
            3.3507109004739335,
            2.97665544332211,
            3.1912869303955933,
            2.0985507246376813,
            2.0710526315789473,
            2.0538732394366197,
            2.397202797202797,
            2.073076923076923,
            2.040604026845638,
            1.7166666666666666,
            2.4056122448979593,
            3.1704118724206727,
            1.8105263157894735,
            2.291258741258741,
            2.4976470588235293
           ],
           "zmax": 4,
           "zmin": 1
          },
          {
           "colorscale": [
            [
             0,
             "#440154"
            ],
            [
             0.1111111111111111,
             "#482878"
            ],
            [
             0.2222222222222222,
             "#3e4989"
            ],
            [
             0.3333333333333333,
             "#31688e"
            ],
            [
             0.4444444444444444,
             "#26828e"
            ],
            [
             0.5555555555555556,
             "#1f9e89"
            ],
            [
             0.6666666666666666,
             "#35b779"
            ],
            [
             0.7777777777777778,
             "#6ece58"
            ],
            [
             0.8888888888888888,
             "#b5de2b"
            ],
            [
             1,
             "#fde725"
            ]
           ],
           "locationmode": "USA-states",
           "locations": [
            "AL",
            "AK",
            "AZ",
            "AR",
            "CA",
            "CO",
            "CT",
            "DE",
            "FL",
            "GA",
            "HI",
            "ID",
            "IL",
            "IN",
            "IA",
            "KS",
            "KY",
            "LA",
            "ME",
            "MD",
            "MA",
            "MI",
            "MN",
            "MO",
            "MT",
            "NE",
            "NV",
            "NH",
            "NJ",
            "NM",
            "NY",
            "NC",
            "OH",
            "OK",
            "OR",
            "PA",
            "RI",
            "SC",
            "SD",
            "TN",
            "TX",
            "UT",
            "VT",
            "VA",
            "WA",
            "DC",
            "WV",
            "WI",
            "WY"
           ],
           "type": "choropleth",
           "z": [
            3.1653465346534655,
            3.6330635838150287,
            3.2554572271386433,
            3.1,
            3.5913654208943044,
            3.302823945829486,
            3.3862595419847326,
            3.4165950128976785,
            3.1561500000000002,
            3.4705816240517,
            3.2080260303687638,
            3.5080829756795424,
            3.4927878532264867,
            3.357046004842615,
            3.0118466898954703,
            3.338013698630137,
            3.187553041018387,
            2.9440167364016734,
            3.3345152491941485,
            3.3102532928064843,
            3.2792001692763435,
            3.4699015101772814,
            3.4380122324159017,
            2.695726724715338,
            3.327979274611399,
            3.391338582677165,
            3.0848082595870205,
            3.4589568457000928,
            3.336529680365297,
            3.2944954128440367,
            3.4419045655982687,
            3.399145891043398,
            3.516709621993127,
            2.9262759924385633,
            3.526407379231647,
            3.3488205341369635,
            3.141528239202658,
            3.1476454293628806,
            3.3312500000000003,
            3.1729311678267598,
            3.176437093275488,
            3.226247689463956,
            3.209749942647396,
            3.26474449132677,
            3.3081581424537183,
            3.289090909090909,
            2.9077380952380953,
            2.9931970203709333,
            3.3369426751592357
           ],
           "zmax": 4,
           "zmin": 1
          }
         ],
         "name": "2009"
        },
        {
         "data": [
          {
           "colorscale": [
            [
             0,
             "#440154"
            ],
            [
             0.1111111111111111,
             "#482878"
            ],
            [
             0.2222222222222222,
             "#3e4989"
            ],
            [
             0.3333333333333333,
             "#31688e"
            ],
            [
             0.4444444444444444,
             "#26828e"
            ],
            [
             0.5555555555555556,
             "#1f9e89"
            ],
            [
             0.6666666666666666,
             "#35b779"
            ],
            [
             0.7777777777777778,
             "#6ece58"
            ],
            [
             0.8888888888888888,
             "#b5de2b"
            ],
            [
             1,
             "#fde725"
            ]
           ],
           "locationmode": "country names",
           "locations": [
            "Albania",
            "Argentina",
            "Armenia",
            "Australia",
            "Austria",
            "Bahamas",
            "Barbados",
            "Belarus",
            "Belgium",
            "Belize",
            "Bolivia",
            "Bosnia and Herzegovina",
            "Brazil",
            "Bulgaria",
            "Cambodia",
            "Canada",
            "Cayman Islands",
            "Chile",
            "China",
            "Colombia",
            "Costa Rica",
            "Croatia",
            "Cuba",
            "Cyprus",
            "Czech Republic",
            "Denmark",
            "Dominican Republic",
            "Ecuador",
            "Egypt",
            "El Salvador",
            "Estonia",
            "Ethiopia",
            "Faroe Islands",
            "Fiji Islands",
            "Finland",
            "France",
            "French Polynesia",
            "Georgia",
            "Germany",
            "Greece",
            "Guatemala",
            "Guernsey",
            "Honduras",
            "Hong Kong",
            "Hungary",
            "Iceland",
            "India",
            "Indonesia",
            "Ireland",
            "Isle of Man",
            "Israel",
            "Italy",
            "Jamaica",
            "Japan",
            "Jersey",
            "Kenya",
            "Laos",
            "Latvia",
            "Lebanon",
            "Lithuania",
            "Luxembourg",
            "Macedonia",
            "Malaysia",
            "Malta",
            "Mexico",
            "Moldova",
            "Montenegro",
            "Morocco",
            "Myanmar",
            "Namibia",
            "Netherlands",
            "New Zealand",
            "Nigeria",
            "Norway",
            "Palestine",
            "Panama",
            "Peru",
            "Philippines",
            "Poland",
            "Portugal",
            "Puerto Rico",
            "Romania",
            "Russia",
            "Serbia",
            "Singapore",
            "Slovak Republic",
            "Slovenia",
            "South Africa",
            "South Korea",
            "Spain",
            "Sri Lanka",
            "Sweden",
            "Switzerland",
            "Taiwan",
            "Tanzania",
            "Thailand",
            "Trinidad & Tobago",
            "Tunisia",
            "Turkey",
            "Uganda",
            "Ukraine",
            "United Kingdom",
            "Venezuela",
            "Vietnam",
            "Virgin Islands (U.S.)"
           ],
           "type": "choropleth",
           "z": [
            2.220689655172414,
            2.6048148148148145,
            2.1894736842105265,
            2.9898590770931195,
            2.9471945701357467,
            2.06551724137931,
            2.173076923076923,
            2.274757281553398,
            3.492992514731645,
            2.1140350877192984,
            2.05,
            2.3080645161290323,
            2.930783242258652,
            2.2628378378378375,
            2.420289855072464,
            3.2463920959147425,
            2.125,
            2.9587628865979383,
            1.8662790697674418,
            2.2058823529411766,
            2.015,
            2.5343750000000003,
            1.9,
            2.1655172413793102,
            2.988198247535597,
            3.0493176714458454,
            2,
            2.0166666666666666,
            1.8539682539682538,
            1.6798245614035088,
            2.264273204903678,
            2.4375,
            2.6389312977099237,
            3.1,
            2.8702318015453434,
            2.888271990018715,
            2.0451612903225804,
            2.312,
            3.0241559485530547,
            2.417522658610272,
            1.7,
            2.6214285714285714,
            1.8641304347826086,
            1.9861111111111112,
            2.490981432360743,
            3.0884488448844882,
            1.979372197309417,
            2.13375,
            3.203860759493671,
            3.068,
            3.0280898876404496,
            3.221863993497697,
            2.278409090909091,
            3.0251187084520414,
            2.914285714285714,
            2.1121212121212123,
            2.397777777777778,
            2.5887905604719763,
            2.1472727272727274,
            2.604251968503937,
            2.5142857142857142,
            1.842857142857143,
            2.3,
            2.415625,
            2.138527519656898,
            2.0791666666666666,
            2.5928571428571425,
            2.262,
            2.5,
            2.433333333333333,
            3.0464063149148317,
            3.1401360544217685,
            2.323913043478261,
            3.4784310828778255,
            2.3,
            1.9149999999999998,
            1.9952941176470587,
            1.9930232558139536,
            2.6051746442432084,
            2.3129337539432178,
            2.5424242424242425,
            2.19,
            2.4655612244897958,
            2.1547945205479455,
            2.622099447513812,
            2.680267558528428,
            2.3256,
            2.5176,
            2.14,
            2.4764440433212997,
            3.3759493670886074,
            3.1162672591652116,
            3.0392217898832685,
            1.967857142857143,
            1.876,
            2.1040983606557377,
            2.3226666666666667,
            2.155263157894737,
            2.2349514563106796,
            2.05,
            2.435,
            3.2065235179594254,
            1.6625,
            1.887857142857143,
            2.7583333333333333
           ],
           "zmax": 4,
           "zmin": 1
          },
          {
           "colorscale": [
            [
             0,
             "#440154"
            ],
            [
             0.1111111111111111,
             "#482878"
            ],
            [
             0.2222222222222222,
             "#3e4989"
            ],
            [
             0.3333333333333333,
             "#31688e"
            ],
            [
             0.4444444444444444,
             "#26828e"
            ],
            [
             0.5555555555555556,
             "#1f9e89"
            ],
            [
             0.6666666666666666,
             "#35b779"
            ],
            [
             0.7777777777777778,
             "#6ece58"
            ],
            [
             0.8888888888888888,
             "#b5de2b"
            ],
            [
             1,
             "#fde725"
            ]
           ],
           "locationmode": "USA-states",
           "locations": [
            "AL",
            "AK",
            "AZ",
            "AR",
            "CA",
            "CO",
            "CT",
            "DE",
            "FL",
            "GA",
            "HI",
            "ID",
            "IL",
            "IN",
            "IA",
            "KS",
            "KY",
            "LA",
            "ME",
            "MD",
            "MA",
            "MI",
            "MN",
            "MO",
            "MT",
            "NE",
            "NV",
            "NH",
            "NJ",
            "NM",
            "NY",
            "NC",
            "OH",
            "OK",
            "OR",
            "PA",
            "RI",
            "SC",
            "SD",
            "TN",
            "TX",
            "UT",
            "VT",
            "VA",
            "WA",
            "DC",
            "WV",
            "WI",
            "WY"
           ],
           "type": "choropleth",
           "z": [
            3.3491620111731844,
            3.642107455226989,
            3.255691056910569,
            3.146153846153846,
            3.6149575750809424,
            3.338051595383571,
            3.4289836888331244,
            3.4094017094017097,
            3.2546223224351745,
            3.51906604747162,
            3.31238670694864,
            3.489903023388477,
            3.5940067340067343,
            3.380767314399601,
            3.1609555189456344,
            3.3331521739130436,
            3.327857142857143,
            3.0258928571428574,
            3.414080365893499,
            3.4489663850440406,
            3.34471593166468,
            3.4837816350867894,
            3.4783909832879907,
            2.858416013925152,
            3.328212100611829,
            3.491509433962264,
            3.0939334637964775,
            3.4680030840400926,
            3.382122260668974,
            3.397271268057785,
            3.474956772334294,
            3.436979020979021,
            3.526519576032879,
            3.081682242990654,
            3.5394149275494393,
            3.370312305586662,
            3,
            3.3629670329670334,
            3.107142857142857,
            3.326869806094183,
            3.2859986728599866,
            3.4405740011254924,
            3.277769049489395,
            3.3058177826564212,
            3.3468765055403886,
            3.2285714285714286,
            3.0211920529801324,
            3.0660128938527196,
            3.262179487179487
           ],
           "zmax": 4,
           "zmin": 1
          }
         ],
         "name": "2010"
        },
        {
         "data": [
          {
           "colorscale": [
            [
             0,
             "#440154"
            ],
            [
             0.1111111111111111,
             "#482878"
            ],
            [
             0.2222222222222222,
             "#3e4989"
            ],
            [
             0.3333333333333333,
             "#31688e"
            ],
            [
             0.4444444444444444,
             "#26828e"
            ],
            [
             0.5555555555555556,
             "#1f9e89"
            ],
            [
             0.6666666666666666,
             "#35b779"
            ],
            [
             0.7777777777777778,
             "#6ece58"
            ],
            [
             0.8888888888888888,
             "#b5de2b"
            ],
            [
             1,
             "#fde725"
            ]
           ],
           "locationmode": "country names",
           "locations": [
            "Albania",
            "Argentina",
            "Armenia",
            "Australia",
            "Austria",
            "Bahamas",
            "Barbados",
            "Belarus",
            "Belgium",
            "Belize",
            "Bolivia",
            "Bosnia and Herzegovina",
            "Brazil",
            "Bulgaria",
            "Cambodia",
            "Canada",
            "Cayman Islands",
            "Chile",
            "China",
            "Colombia",
            "Costa Rica",
            "Croatia",
            "Cuba",
            "Cyprus",
            "Czech Republic",
            "Denmark",
            "Dominican Republic",
            "Ecuador",
            "Egypt",
            "El Salvador",
            "Estonia",
            "Ethiopia",
            "Faroe Islands",
            "Fiji Islands",
            "Finland",
            "France",
            "French Polynesia",
            "Georgia",
            "Germany",
            "Greece",
            "Guatemala",
            "Guernsey",
            "Honduras",
            "Hong Kong",
            "Hungary",
            "Iceland",
            "India",
            "Indonesia",
            "Ireland",
            "Isle of Man",
            "Israel",
            "Italy",
            "Jamaica",
            "Japan",
            "Jersey",
            "Kenya",
            "Laos",
            "Latvia",
            "Lebanon",
            "Lithuania",
            "Luxembourg",
            "Macedonia",
            "Malaysia",
            "Malta",
            "Mexico",
            "Moldova",
            "Montenegro",
            "Morocco",
            "Myanmar",
            "Namibia",
            "Netherlands",
            "New Zealand",
            "Nigeria",
            "Norway",
            "Palestine",
            "Panama",
            "Peru",
            "Philippines",
            "Poland",
            "Portugal",
            "Puerto Rico",
            "Romania",
            "Russia",
            "Serbia",
            "Singapore",
            "Slovak Republic",
            "Slovenia",
            "South Africa",
            "South Korea",
            "Spain",
            "Sri Lanka",
            "Sweden",
            "Switzerland",
            "Taiwan",
            "Tanzania",
            "Thailand",
            "Trinidad & Tobago",
            "Tunisia",
            "Turkey",
            "Uganda",
            "Ukraine",
            "United Kingdom",
            "Venezuela",
            "Vietnam",
            "Virgin Islands (U.S.)"
           ],
           "type": "choropleth",
           "z": [
            2.3594594594594596,
            2.6372093023255814,
            2.246153846153846,
            3.078809991580129,
            2.903030303030303,
            2.1089285714285713,
            2.092857142857143,
            2.316666666666667,
            3.482792901607359,
            2.690625,
            2.04,
            2.2175675675675675,
            2.8000000000000003,
            2.354861111111111,
            2.6456521739130436,
            3.2221739340383406,
            2.390909090909091,
            2.749242424242424,
            1.981831831831832,
            1.8428571428571427,
            2.096774193548387,
            2.388338192419825,
            1.8784615384615384,
            2.143859649122807,
            3.007985515532685,
            3.143964491626247,
            2.0372881355932204,
            1.8,
            2.0677419354838706,
            1.9461538461538461,
            2.3641233766233767,
            2.32375,
            2.6026128266033255,
            2.0272727272727273,
            2.8926258416159025,
            2.9367177682834886,
            1.9972222222222225,
            2.0090909090909093,
            2.9831694303499505,
            2.4384615384615382,
            1.9115942028985509,
            2,
            2.1511627906976742,
            2.084,
            2.5,
            2.9266949152542376,
            2.1199074074074074,
            2.3591836734693876,
            3.2036269430051814,
            3.136764705882353,
            2.852777777777778,
            3.2672901530375635,
            2.401333333333333,
            3.0323019221753396,
            3.039285714285714,
            2.2233766233766232,
            2.3258823529411763,
            2.6199481865284975,
            2.7117117117117115,
            2.374328358208955,
            2.6105263157894734,
            1.8533333333333333,
            2.465625,
            2.5484375,
            2.230534867975626,
            2.094871794871795,
            2.375,
            2.1315789473684212,
            2.225,
            2.401388888888889,
            3.10624,
            3.371207764198419,
            2.7133333333333334,
            3.3798290982684955,
            2.472,
            1.5125,
            2.2208,
            2.10188679245283,
            2.6577415599534344,
            2.384153005464481,
            2.725714285714286,
            2.192093023255814,
            2.4660395108184385,
            2.3355555555555556,
            2.4736196319018404,
            2.792827004219409,
            2.2925925925925927,
            3.0002227171492204,
            2.066326530612245,
            2.612042502951594,
            3.205806451612903,
            3.1134559643255297,
            3.127059925093633,
            2.541025641025641,
            1.8261538461538462,
            2.0939189189189187,
            2.2888888888888888,
            1.9023255813953488,
            2.0879781420765027,
            2.0972222222222223,
            2.276829268292683,
            3.207012981609387,
            1.768,
            1.8733333333333333,
            2.8504950495049504
           ],
           "zmax": 4,
           "zmin": 1
          },
          {
           "colorscale": [
            [
             0,
             "#440154"
            ],
            [
             0.1111111111111111,
             "#482878"
            ],
            [
             0.2222222222222222,
             "#3e4989"
            ],
            [
             0.3333333333333333,
             "#31688e"
            ],
            [
             0.4444444444444444,
             "#26828e"
            ],
            [
             0.5555555555555556,
             "#1f9e89"
            ],
            [
             0.6666666666666666,
             "#35b779"
            ],
            [
             0.7777777777777778,
             "#6ece58"
            ],
            [
             0.8888888888888888,
             "#b5de2b"
            ],
            [
             1,
             "#fde725"
            ]
           ],
           "locationmode": "USA-states",
           "locations": [
            "AL",
            "AK",
            "AZ",
            "AR",
            "CA",
            "CO",
            "CT",
            "DE",
            "FL",
            "GA",
            "HI",
            "ID",
            "IL",
            "IN",
            "IA",
            "KS",
            "KY",
            "LA",
            "ME",
            "MD",
            "MA",
            "MI",
            "MN",
            "MO",
            "MT",
            "NE",
            "NV",
            "NH",
            "NJ",
            "NM",
            "NY",
            "NC",
            "OH",
            "OK",
            "OR",
            "PA",
            "RI",
            "SC",
            "SD",
            "TN",
            "TX",
            "UT",
            "VT",
            "VA",
            "WA",
            "DC",
            "WV",
            "WI",
            "WY"
           ],
           "type": "choropleth",
           "z": [
            3.2959044368600683,
            3.638722294654498,
            3.3070481927710844,
            2.9944,
            3.6014798559531847,
            3.318032430867236,
            3.3036553524804178,
            3.2447795823665895,
            3.21221198156682,
            3.494767783656673,
            3.347311046511628,
            3.5463581183611534,
            3.5545228215767635,
            3.4466014138118544,
            3.2280141843971633,
            3.3076833527357397,
            3.3189189189189188,
            2.9865721434528774,
            3.4079946164199195,
            3.4617786051840183,
            3.4066699933466404,
            3.464543889845095,
            3.4958545918367347,
            2.971423611111111,
            3.348474855729596,
            3.467696267696268,
            3.090867579908676,
            3.437657073368464,
            3.3327423822714684,
            3.3376455368693403,
            3.4826492537313434,
            3.4067869222096956,
            3.514796819787986,
            3.190086956521739,
            3.500411845459894,
            3.335617261690107,
            3.1223255813953488,
            3.3479913137893593,
            3.1659340659340662,
            3.2990530303030305,
            3.285436499898724,
            3.4882962511429443,
            3.4924549763033177,
            3.284300975383186,
            3.3370068531209482,
            3.3467889908256883,
            2.9544827586206894,
            3.0559495080749954,
            3.3951351351351353
           ],
           "zmax": 4,
           "zmin": 1
          }
         ],
         "name": "2011"
        },
        {
         "data": [
          {
           "colorscale": [
            [
             0,
             "#440154"
            ],
            [
             0.1111111111111111,
             "#482878"
            ],
            [
             0.2222222222222222,
             "#3e4989"
            ],
            [
             0.3333333333333333,
             "#31688e"
            ],
            [
             0.4444444444444444,
             "#26828e"
            ],
            [
             0.5555555555555556,
             "#1f9e89"
            ],
            [
             0.6666666666666666,
             "#35b779"
            ],
            [
             0.7777777777777778,
             "#6ece58"
            ],
            [
             0.8888888888888888,
             "#b5de2b"
            ],
            [
             1,
             "#fde725"
            ]
           ],
           "locationmode": "country names",
           "locations": [
            "Albania",
            "Argentina",
            "Armenia",
            "Australia",
            "Austria",
            "Bahamas",
            "Barbados",
            "Belarus",
            "Belgium",
            "Belize",
            "Bolivia",
            "Bosnia and Herzegovina",
            "Brazil",
            "Bulgaria",
            "Cambodia",
            "Canada",
            "Cayman Islands",
            "Chile",
            "China",
            "Colombia",
            "Costa Rica",
            "Croatia",
            "Cuba",
            "Cyprus",
            "Czech Republic",
            "Denmark",
            "Dominican Republic",
            "Ecuador",
            "Egypt",
            "El Salvador",
            "Estonia",
            "Ethiopia",
            "Faroe Islands",
            "Fiji Islands",
            "Finland",
            "France",
            "French Polynesia",
            "Georgia",
            "Germany",
            "Greece",
            "Guatemala",
            "Guernsey",
            "Honduras",
            "Hong Kong",
            "Hungary",
            "Iceland",
            "India",
            "Indonesia",
            "Ireland",
            "Isle of Man",
            "Israel",
            "Italy",
            "Jamaica",
            "Japan",
            "Jersey",
            "Kenya",
            "Laos",
            "Latvia",
            "Lebanon",
            "Lithuania",
            "Luxembourg",
            "Macedonia",
            "Malaysia",
            "Malta",
            "Mexico",
            "Moldova",
            "Montenegro",
            "Morocco",
            "Myanmar",
            "Namibia",
            "Netherlands",
            "New Zealand",
            "Nigeria",
            "Norway",
            "Palestine",
            "Panama",
            "Peru",
            "Philippines",
            "Poland",
            "Portugal",
            "Puerto Rico",
            "Romania",
            "Russia",
            "Serbia",
            "Singapore",
            "Slovak Republic",
            "Slovenia",
            "South Africa",
            "South Korea",
            "Spain",
            "Sri Lanka",
            "Sweden",
            "Switzerland",
            "Taiwan",
            "Tanzania",
            "Thailand",
            "Trinidad & Tobago",
            "Tunisia",
            "Turkey",
            "Uganda",
            "Ukraine",
            "United Kingdom",
            "Venezuela",
            "Vietnam",
            "Virgin Islands (U.S.)"
           ],
           "type": "choropleth",
           "z": [
            1.971186440677966,
            2.601834862385321,
            2.040157480314961,
            3.1098745226404803,
            2.962574568288854,
            2.0300000000000002,
            2.203125,
            2.345731707317073,
            3.5133567593177513,
            2.529166666666667,
            2.254385964912281,
            2.2142857142857144,
            2.8663915094339623,
            2.1963963963963966,
            2.363716814159292,
            3.288933799003257,
            2.772727272727273,
            2.9918032786885247,
            2.1007739938080494,
            2.253061224489796,
            2.128985507246377,
            2.3669039145907473,
            1.912962962962963,
            2.2015873015873013,
            3.0193384573153996,
            3.179854205292432,
            2.047142857142857,
            2.126315789473684,
            1.8051282051282054,
            2.1280487804878048,
            2.2816258351893097,
            2.388505747126437,
            2.650187265917603,
            2.4631578947368418,
            2.8451470588235295,
            2.9633261272390365,
            2.111904761904762,
            1.9,
            3.005738009395827,
            2.58689138576779,
            1.9953125,
            2.1863636363636365,
            1.875,
            2.0753623188405794,
            2.677649769585253,
            3.240078328981723,
            2.13810888252149,
            2.1806122448979592,
            3.2471958925750393,
            3.1315789473684212,
            2.899421128798842,
            3.3198633850157213,
            2.3202090592334494,
            3.05109409190372,
            3.0064516129032257,
            2.1098265895953756,
            2.299236641221374,
            2.618432510885341,
            2.688324873096447,
            2.742101226993865,
            2.5142394822006473,
            2.075,
            2.4081967213114757,
            2.29875,
            2.293636363636364,
            2.092,
            2.3779411764705882,
            2.312987012987013,
            1.839130434782609,
            2.462773722627737,
            3.176520400307929,
            3.4016397395707743,
            2.5791666666666666,
            3.4096002363135094,
            2.455,
            2.6027027027027025,
            2.2231182795698925,
            2.191304347826087,
            2.5932234432234433,
            2.3031662269129285,
            2.52,
            2.3716312056737587,
            2.467943925233645,
            2.171505376344086,
            2.4895454545454547,
            2.770534904805077,
            2.25910447761194,
            2.7895899053627757,
            2.0694999999999997,
            2.860800790904597,
            3.2522613065326635,
            3.1236347431534597,
            3.177385496183206,
            2.1864864864864866,
            1.8870967741935485,
            2.1552272727272728,
            2.432231404958678,
            1.481818181818182,
            2.205721393034826,
            2.018181818181818,
            2.3955493741307374,
            3.255204560697518,
            2.2666666666666666,
            2.026923076923077,
            2.8349206349206346
           ],
           "zmax": 4,
           "zmin": 1
          },
          {
           "colorscale": [
            [
             0,
             "#440154"
            ],
            [
             0.1111111111111111,
             "#482878"
            ],
            [
             0.2222222222222222,
             "#3e4989"
            ],
            [
             0.3333333333333333,
             "#31688e"
            ],
            [
             0.4444444444444444,
             "#26828e"
            ],
            [
             0.5555555555555556,
             "#1f9e89"
            ],
            [
             0.6666666666666666,
             "#35b779"
            ],
            [
             0.7777777777777778,
             "#6ece58"
            ],
            [
             0.8888888888888888,
             "#b5de2b"
            ],
            [
             1,
             "#fde725"
            ]
           ],
           "locationmode": "USA-states",
           "locations": [
            "AL",
            "AK",
            "AZ",
            "AR",
            "CA",
            "CO",
            "CT",
            "DE",
            "FL",
            "GA",
            "HI",
            "ID",
            "IL",
            "IN",
            "IA",
            "KS",
            "KY",
            "LA",
            "ME",
            "MD",
            "MA",
            "MI",
            "MN",
            "MO",
            "MT",
            "NE",
            "NV",
            "NH",
            "NJ",
            "NM",
            "NY",
            "NC",
            "OH",
            "OK",
            "OR",
            "PA",
            "RI",
            "SC",
            "SD",
            "TN",
            "TX",
            "UT",
            "VT",
            "VA",
            "WA",
            "DC",
            "WV",
            "WI",
            "WY"
           ],
           "type": "choropleth",
           "z": [
            3.3171597633136094,
            3.6683532658693654,
            3.354491017964072,
            3.1255230125523012,
            3.6231506203863675,
            3.3275149537792275,
            3.404668304668305,
            3.2396135265700483,
            3.295197547683924,
            3.5121653856347734,
            3.2930057803468205,
            3.495974842767296,
            3.597999336796728,
            3.4086926526388406,
            3.316016859852476,
            3.4072361809045226,
            3.3370581527936145,
            2.997051597051597,
            3.44066265060241,
            3.46575552433261,
            3.4602697235333784,
            3.481172453044963,
            3.454724231464738,
            2.9398607275783406,
            3.311446540880503,
            3.3733056708160443,
            3.2043661971830986,
            3.459138799816766,
            3.350511739915713,
            3.4851945854483923,
            3.4940688453957924,
            3.3855641941584365,
            3.5667704918032785,
            3.2378006872852234,
            3.4947782439316755,
            3.337177898909812,
            3.0831265508684864,
            3.4479888268156422,
            3.1728971962616823,
            3.236872909698997,
            3.404393694923669,
            3.5063241959853224,
            3.6085488287191967,
            3.4272009359461832,
            3.368799874823971,
            3.509577922077922,
            3.1770334928229667,
            3.092816204757792,
            3.3301754385964912
           ],
           "zmax": 4,
           "zmin": 1
          }
         ],
         "name": "2012"
        },
        {
         "data": [
          {
           "colorscale": [
            [
             0,
             "#440154"
            ],
            [
             0.1111111111111111,
             "#482878"
            ],
            [
             0.2222222222222222,
             "#3e4989"
            ],
            [
             0.3333333333333333,
             "#31688e"
            ],
            [
             0.4444444444444444,
             "#26828e"
            ],
            [
             0.5555555555555556,
             "#1f9e89"
            ],
            [
             0.6666666666666666,
             "#35b779"
            ],
            [
             0.7777777777777778,
             "#6ece58"
            ],
            [
             0.8888888888888888,
             "#b5de2b"
            ],
            [
             1,
             "#fde725"
            ]
           ],
           "locationmode": "country names",
           "locations": [
            "Albania",
            "Argentina",
            "Armenia",
            "Australia",
            "Austria",
            "Bahamas",
            "Barbados",
            "Belarus",
            "Belgium",
            "Belize",
            "Bolivia",
            "Bosnia and Herzegovina",
            "Brazil",
            "Bulgaria",
            "Cambodia",
            "Canada",
            "Cayman Islands",
            "Chile",
            "China",
            "Colombia",
            "Costa Rica",
            "Croatia",
            "Cuba",
            "Cyprus",
            "Czech Republic",
            "Denmark",
            "Dominican Republic",
            "Ecuador",
            "Egypt",
            "El Salvador",
            "Estonia",
            "Ethiopia",
            "Faroe Islands",
            "Fiji Islands",
            "Finland",
            "France",
            "French Polynesia",
            "Georgia",
            "Germany",
            "Greece",
            "Guatemala",
            "Guernsey",
            "Honduras",
            "Hong Kong",
            "Hungary",
            "Iceland",
            "India",
            "Indonesia",
            "Ireland",
            "Isle of Man",
            "Israel",
            "Italy",
            "Jamaica",
            "Japan",
            "Jersey",
            "Kenya",
            "Laos",
            "Latvia",
            "Lebanon",
            "Lithuania",
            "Luxembourg",
            "Macedonia",
            "Malaysia",
            "Malta",
            "Mexico",
            "Moldova",
            "Montenegro",
            "Morocco",
            "Myanmar",
            "Namibia",
            "Netherlands",
            "New Zealand",
            "Nigeria",
            "Norway",
            "Palestine",
            "Panama",
            "Peru",
            "Philippines",
            "Poland",
            "Portugal",
            "Puerto Rico",
            "Romania",
            "Russia",
            "Serbia",
            "Singapore",
            "Slovak Republic",
            "Slovenia",
            "South Africa",
            "South Korea",
            "Spain",
            "Sri Lanka",
            "Sweden",
            "Switzerland",
            "Taiwan",
            "Tanzania",
            "Thailand",
            "Trinidad & Tobago",
            "Tunisia",
            "Turkey",
            "Uganda",
            "Ukraine",
            "United Kingdom",
            "Venezuela",
            "Vietnam",
            "Virgin Islands (U.S.)"
           ],
           "type": "choropleth",
           "z": [
            2.0350877192982457,
            2.628980891719745,
            2.1090909090909093,
            3.2091579791499596,
            3.064477965099083,
            2.3227722772277226,
            2.386607142857143,
            2.476859504132231,
            3.50805545595793,
            2.4529411764705884,
            2.0901960784313722,
            2.2806122448979593,
            3.0482383087764253,
            2.291959798994975,
            2.265217391304348,
            3.332690630451034,
            2.65,
            3.007665505226481,
            2.4111260053619303,
            2.174757281553398,
            2.110077519379845,
            2.3770175438596493,
            2.0123711340206185,
            2.45578231292517,
            3.0453137003841233,
            3.228645102731248,
            1.9166666666666667,
            2.117241379310345,
            1.9887640449438202,
            2.053246753246753,
            2.4889117043121147,
            2.0566666666666666,
            2.684102564102564,
            2.2214285714285715,
            2.9128765792031097,
            2.9958388550225283,
            2.197530864197531,
            2.0877777777777777,
            3.0737266543559056,
            2.625985090521832,
            1.8701492537313433,
            2.1636363636363636,
            1.992,
            2.035135135135135,
            2.787274368231047,
            3.238257993384785,
            2.1103351955307263,
            2.123469387755102,
            3.219861504564054,
            3.018627450980392,
            2.989709172259508,
            3.315466101694915,
            2.4818532818532817,
            3.1303987455197135,
            2.8593220338983047,
            2.1867132867132866,
            2.301149425287356,
            2.6882211538461536,
            2.5626609442060087,
            2.670088495575221,
            2.5420886075949367,
            2.02,
            2.6372549019607843,
            2.335,
            2.4035208047553724,
            2.483,
            2.4476190476190474,
            2.0999999999999996,
            1.9783783783783784,
            2.673170731707317,
            3.222878625134264,
            3.432522235274375,
            2.761797752808989,
            3.42198409693298,
            2.2528301886792454,
            1.7855421686746986,
            2.216477272727273,
            2.083261802575107,
            2.834066963240459,
            2.5357615894039736,
            2.476119402985075,
            2.0881818181818184,
            2.3845003933910305,
            2.111194029850746,
            2.6144021739130436,
            2.9575689783743475,
            2.4325,
            2.877127659574468,
            2.0627118644067797,
            3.069724192277384,
            3.03195020746888,
            3.194862693816552,
            3.2405477367820463,
            2.163492063492064,
            2.138983050847458,
            2.017748917748918,
            2.367721518987342,
            1.7875,
            2.267076167076167,
            1.8311688311688312,
            2.37979797979798,
            3.275165783376388,
            2.0342465753424657,
            2.253488372093023,
            2.718421052631579
           ],
           "zmax": 4,
           "zmin": 1
          },
          {
           "colorscale": [
            [
             0,
             "#440154"
            ],
            [
             0.1111111111111111,
             "#482878"
            ],
            [
             0.2222222222222222,
             "#3e4989"
            ],
            [
             0.3333333333333333,
             "#31688e"
            ],
            [
             0.4444444444444444,
             "#26828e"
            ],
            [
             0.5555555555555556,
             "#1f9e89"
            ],
            [
             0.6666666666666666,
             "#35b779"
            ],
            [
             0.7777777777777778,
             "#6ece58"
            ],
            [
             0.8888888888888888,
             "#b5de2b"
            ],
            [
             1,
             "#fde725"
            ]
           ],
           "locationmode": "USA-states",
           "locations": [
            "AL",
            "AK",
            "AZ",
            "AR",
            "CA",
            "CO",
            "CT",
            "DE",
            "FL",
            "GA",
            "HI",
            "ID",
            "IL",
            "IN",
            "IA",
            "KS",
            "KY",
            "LA",
            "ME",
            "MD",
            "MA",
            "MI",
            "MN",
            "MO",
            "MT",
            "NE",
            "NV",
            "NH",
            "NJ",
            "NM",
            "NY",
            "NC",
            "OH",
            "OK",
            "OR",
            "PA",
            "RI",
            "SC",
            "SD",
            "TN",
            "TX",
            "UT",
            "VT",
            "VA",
            "WA",
            "DC",
            "WV",
            "WI",
            "WY"
           ],
           "type": "choropleth",
           "z": [
            3.3187565858798735,
            3.662437115707099,
            3.5052153299091273,
            3.2156028368794325,
            3.6215105605726263,
            3.3392177338966156,
            3.42635277582572,
            3.2660569105691057,
            3.4463537626066723,
            3.507366984993179,
            3.2563636363636363,
            3.449533291848164,
            3.599348251140561,
            3.40954759922287,
            3.3527437400106557,
            3.451156462585034,
            3.3575851393188856,
            3.0829126213592235,
            3.5259041073474062,
            3.4590950849793294,
            3.5112718635283957,
            3.4878868679173416,
            3.4654561558901684,
            3.1339195979899497,
            3.3215136650315347,
            3.341780821917808,
            3.287427912341407,
            3.5029277813923225,
            3.3930181175430842,
            3.4893344025661586,
            3.5071711113946664,
            3.403843255463451,
            3.5825226106086534,
            3.695826833073323,
            3.510052877894609,
            3.3539039204859193,
            3.0431985294117645,
            3.5773886328725037,
            3.028,
            3.245531914893617,
            3.397549939300298,
            3.5273517610343292,
            3.6390671801454855,
            3.3721679484514655,
            3.3698248636233132,
            3.5279652844744454,
            3.2431309904153354,
            3.122904447249239,
            3.3393700787401572
           ],
           "zmax": 4,
           "zmin": 1
          }
         ],
         "name": "2013"
        },
        {
         "data": [
          {
           "colorscale": [
            [
             0,
             "#440154"
            ],
            [
             0.1111111111111111,
             "#482878"
            ],
            [
             0.2222222222222222,
             "#3e4989"
            ],
            [
             0.3333333333333333,
             "#31688e"
            ],
            [
             0.4444444444444444,
             "#26828e"
            ],
            [
             0.5555555555555556,
             "#1f9e89"
            ],
            [
             0.6666666666666666,
             "#35b779"
            ],
            [
             0.7777777777777778,
             "#6ece58"
            ],
            [
             0.8888888888888888,
             "#b5de2b"
            ],
            [
             1,
             "#fde725"
            ]
           ],
           "locationmode": "country names",
           "locations": [
            "Albania",
            "Argentina",
            "Armenia",
            "Australia",
            "Austria",
            "Bahamas",
            "Barbados",
            "Belarus",
            "Belgium",
            "Belize",
            "Bolivia",
            "Bosnia and Herzegovina",
            "Brazil",
            "Bulgaria",
            "Cambodia",
            "Canada",
            "Cayman Islands",
            "Chile",
            "China",
            "Colombia",
            "Costa Rica",
            "Croatia",
            "Cuba",
            "Cyprus",
            "Czech Republic",
            "Denmark",
            "Dominican Republic",
            "Ecuador",
            "Egypt",
            "El Salvador",
            "Estonia",
            "Ethiopia",
            "Faroe Islands",
            "Fiji Islands",
            "Finland",
            "France",
            "French Polynesia",
            "Georgia",
            "Germany",
            "Greece",
            "Guatemala",
            "Guernsey",
            "Honduras",
            "Hong Kong",
            "Hungary",
            "Iceland",
            "India",
            "Indonesia",
            "Ireland",
            "Isle of Man",
            "Israel",
            "Italy",
            "Jamaica",
            "Japan",
            "Jersey",
            "Kenya",
            "Laos",
            "Latvia",
            "Lebanon",
            "Lithuania",
            "Luxembourg",
            "Macedonia",
            "Malaysia",
            "Malta",
            "Mexico",
            "Moldova",
            "Montenegro",
            "Morocco",
            "Myanmar",
            "Namibia",
            "Netherlands",
            "New Zealand",
            "Nigeria",
            "Norway",
            "Palestine",
            "Panama",
            "Peru",
            "Philippines",
            "Poland",
            "Portugal",
            "Puerto Rico",
            "Romania",
            "Russia",
            "Serbia",
            "Singapore",
            "Slovak Republic",
            "Slovenia",
            "South Africa",
            "South Korea",
            "Spain",
            "Sri Lanka",
            "Sweden",
            "Switzerland",
            "Taiwan",
            "Tanzania",
            "Thailand",
            "Trinidad & Tobago",
            "Tunisia",
            "Turkey",
            "Uganda",
            "Ukraine",
            "United Kingdom",
            "Venezuela",
            "Vietnam",
            "Virgin Islands (U.S.)"
           ],
           "type": "choropleth",
           "z": [
            2.095049504950495,
            2.562099125364431,
            2.1833333333333336,
            3.2262988438460414,
            3.064686468646865,
            2.1999999999999997,
            2.5346456692913386,
            2.439013452914798,
            3.471580448387863,
            2.3285714285714287,
            2.1314285714285712,
            2.326851851851852,
            2.936568848758465,
            2.364406779661017,
            2.435238095238095,
            3.3526332899869957,
            2.5154929577464786,
            2.9770212765957447,
            2.22775956284153,
            2.3315,
            2.269189189189189,
            2.553357206803939,
            2.000719424460432,
            2.4827338129496406,
            3.0397659678205753,
            3.2201483840894967,
            2.0009615384615382,
            2.685542168674699,
            1.8529411764705883,
            2.025333333333333,
            2.854860813704497,
            2.226086956521739,
            2.701764705882353,
            2.307894736842105,
            2.9920322671950186,
            2.9775315701691687,
            2.126530612244898,
            2.253846153846154,
            3.063156979440408,
            2.7280448717948715,
            1.8805084745762712,
            2.855769230769231,
            1.8791666666666667,
            2.522105263157895,
            2.9378223495702005,
            3.2025984251968507,
            2.2188034188034185,
            2.0708333333333333,
            3.226685393258427,
            3.220212765957447,
            3.047432306255836,
            3.336748518204911,
            2.4920754716981133,
            3.138099089989889,
            3.0702479338842976,
            2.2519607843137255,
            2.1685714285714286,
            2.7497297297297294,
            2.610497237569061,
            2.5808666666666666,
            2.5887640449438205,
            2.1718309859154927,
            2.4925925925925925,
            2.3145077720207254,
            2.4958316633266535,
            2.304188481675393,
            2.373214285714286,
            1.9951219512195122,
            1.9,
            2.390909090909091,
            3.2559585492227976,
            3.452112135176651,
            2.8169999999999997,
            3.304960808580858,
            2.613414634146342,
            2.25,
            2.6940711462450593,
            1.9905027932960895,
            3.130104332705405,
            2.6236784140969167,
            2.5178082191780824,
            2.1638483965014577,
            2.6108166189111746,
            2.567948717948718,
            2.5811965811965814,
            3.013299232736573,
            2.5542446043165468,
            2.823296354992076,
            2.138723404255319,
            3.0976285541439808,
            3.2097297297297294,
            3.1973443579766534,
            3.295463510848126,
            2.254794520547945,
            2.0589743589743588,
            2.0733509234828493,
            2.2699346405228757,
            2.104761904761905,
            2.3096059113300496,
            2.264102564102564,
            2.4021538461538463,
            3.301596551615907,
            1.9018867924528302,
            1.9872549019607841,
            2.9440677966101694
           ],
           "zmax": 4,
           "zmin": 1
          },
          {
           "colorscale": [
            [
             0,
             "#440154"
            ],
            [
             0.1111111111111111,
             "#482878"
            ],
            [
             0.2222222222222222,
             "#3e4989"
            ],
            [
             0.3333333333333333,
             "#31688e"
            ],
            [
             0.4444444444444444,
             "#26828e"
            ],
            [
             0.5555555555555556,
             "#1f9e89"
            ],
            [
             0.6666666666666666,
             "#35b779"
            ],
            [
             0.7777777777777778,
             "#6ece58"
            ],
            [
             0.8888888888888888,
             "#b5de2b"
            ],
            [
             1,
             "#fde725"
            ]
           ],
           "locationmode": "USA-states",
           "locations": [
            "AL",
            "AK",
            "AZ",
            "AR",
            "CA",
            "CO",
            "CT",
            "DE",
            "FL",
            "GA",
            "HI",
            "ID",
            "IL",
            "IN",
            "IA",
            "KS",
            "KY",
            "LA",
            "ME",
            "MD",
            "MA",
            "MI",
            "MN",
            "MO",
            "MT",
            "NE",
            "NV",
            "NH",
            "NJ",
            "NM",
            "NY",
            "NC",
            "OH",
            "OK",
            "OR",
            "PA",
            "RI",
            "SC",
            "SD",
            "TN",
            "TX",
            "UT",
            "VT",
            "VA",
            "WA",
            "DC",
            "WV",
            "WI",
            "WY"
           ],
           "type": "choropleth",
           "z": [
            3.327750410509031,
            3.640239672027752,
            3.579680809653562,
            3.253700189753321,
            3.6241650754764563,
            3.396740732652727,
            3.4749581706636925,
            3.269181818181818,
            3.415701522170748,
            3.500738375573738,
            3.256166219839142,
            3.414174972314507,
            3.5858313163284303,
            3.4360332927324406,
            3.553452438435538,
            3.475255102040816,
            3.345530864197531,
            3.194948265368229,
            3.561041416050868,
            3.4458194408822775,
            3.541151363731002,
            3.485907180541894,
            3.4622958617409227,
            3.237980602701766,
            3.3506523407521103,
            3.381516587677725,
            3.283106796116505,
            3.520337364735837,
            3.4239592183517416,
            3.5220458553791887,
            3.5112618667562803,
            3.3965448095017736,
            3.5774005111354508,
            3.718331589958159,
            3.5714003728479,
            3.3348577014990224,
            3.273402868318122,
            3.6150589658300576,
            3.1881889763779525,
            3.2429525222551927,
            3.430027813436029,
            3.5205595482546204,
            3.6574320129144415,
            3.3859409362236885,
            3.3734381038258405,
            3.525287931897847,
            3.2721132897603487,
            3.108478721669656,
            3.305813953488372
           ],
           "zmax": 4,
           "zmin": 1
          }
         ],
         "name": "2014"
        },
        {
         "data": [
          {
           "colorscale": [
            [
             0,
             "#440154"
            ],
            [
             0.1111111111111111,
             "#482878"
            ],
            [
             0.2222222222222222,
             "#3e4989"
            ],
            [
             0.3333333333333333,
             "#31688e"
            ],
            [
             0.4444444444444444,
             "#26828e"
            ],
            [
             0.5555555555555556,
             "#1f9e89"
            ],
            [
             0.6666666666666666,
             "#35b779"
            ],
            [
             0.7777777777777778,
             "#6ece58"
            ],
            [
             0.8888888888888888,
             "#b5de2b"
            ],
            [
             1,
             "#fde725"
            ]
           ],
           "locationmode": "country names",
           "locations": [
            "Albania",
            "Argentina",
            "Armenia",
            "Australia",
            "Austria",
            "Bahamas",
            "Barbados",
            "Belarus",
            "Belgium",
            "Belize",
            "Bolivia",
            "Bosnia and Herzegovina",
            "Brazil",
            "Bulgaria",
            "Cambodia",
            "Canada",
            "Cayman Islands",
            "Chile",
            "China",
            "Colombia",
            "Costa Rica",
            "Croatia",
            "Cuba",
            "Cyprus",
            "Czech Republic",
            "Denmark",
            "Dominican Republic",
            "Ecuador",
            "Egypt",
            "El Salvador",
            "Estonia",
            "Ethiopia",
            "Faroe Islands",
            "Fiji Islands",
            "Finland",
            "France",
            "French Polynesia",
            "Georgia",
            "Germany",
            "Greece",
            "Guatemala",
            "Guernsey",
            "Honduras",
            "Hong Kong",
            "Hungary",
            "Iceland",
            "India",
            "Indonesia",
            "Ireland",
            "Isle of Man",
            "Israel",
            "Italy",
            "Jamaica",
            "Japan",
            "Jersey",
            "Kenya",
            "Laos",
            "Latvia",
            "Lebanon",
            "Lithuania",
            "Luxembourg",
            "Macedonia",
            "Malaysia",
            "Malta",
            "Mexico",
            "Moldova",
            "Montenegro",
            "Morocco",
            "Myanmar",
            "Namibia",
            "Netherlands",
            "New Zealand",
            "Nigeria",
            "Norway",
            "Palestine",
            "Panama",
            "Peru",
            "Philippines",
            "Poland",
            "Portugal",
            "Puerto Rico",
            "Romania",
            "Russia",
            "Serbia",
            "Singapore",
            "Slovak Republic",
            "Slovenia",
            "South Africa",
            "South Korea",
            "Spain",
            "Sri Lanka",
            "Sweden",
            "Switzerland",
            "Taiwan",
            "Tanzania",
            "Thailand",
            "Trinidad & Tobago",
            "Tunisia",
            "Turkey",
            "Uganda",
            "Ukraine",
            "United Kingdom",
            "Venezuela",
            "Vietnam",
            "Virgin Islands (U.S.)"
           ],
           "type": "choropleth",
           "z": [
            2.158064516129032,
            2.6682656826568265,
            2.0967479674796747,
            3.255778251599147,
            3.194111033028812,
            2.3536585365853657,
            2.1307692307692307,
            2.6392405063291138,
            3.4842750961127726,
            2.256666666666667,
            2.3424242424242423,
            2.378139534883721,
            3.1541226215644818,
            2.6,
            2.585483870967742,
            3.372430461563959,
            2.7413793103448274,
            2.988650306748466,
            2.5378103837471784,
            2.357857142857143,
            2.467808219178082,
            2.9186046511627906,
            2.0357142857142856,
            2.7224,
            3.117400840796929,
            3.2041291083067533,
            2.168141592920354,
            2.501923076923077,
            1.9735849056603771,
            1.8149253731343282,
            3.193999624976561,
            2.4282608695652175,
            2.6555555555555554,
            2.19375,
            3.0313483011165805,
            3.0015413578068006,
            2.246153846153846,
            2.227551020408163,
            3.087011277814898,
            2.7426746806912097,
            1.9412500000000001,
            2.79811320754717,
            2.0643835616438353,
            3.1164609053497943,
            3.0211289487312274,
            3.254230235783634,
            2.3625984251968504,
            2.0675438596491227,
            3.241109831029186,
            3.1690140845070425,
            3.0025371828521434,
            3.315219385415074,
            2.4982456140350875,
            3.1876101110685564,
            3.0541666666666667,
            2.242857142857143,
            2.4021052631578947,
            2.920934466019417,
            2.533333333333333,
            2.71173294059892,
            2.7378548895899053,
            2.3393442622950817,
            2.4614285714285717,
            2.747448979591837,
            2.55749668288368,
            2.4660869565217394,
            2.3271604938271606,
            2.110869565217391,
            1.95,
            2.3484375,
            3.300964888769767,
            3.463373698746548,
            2.5875,
            3.3207166907166905,
            2.4335483870967742,
            2.309090909090909,
            2.696761133603239,
            2.215822784810127,
            3.2843038310869135,
            2.8076214405360136,
            2.417741935483871,
            2.590350877192982,
            2.9264755480607083,
            2.954786450662739,
            2.759880239520958,
            3.1284993116108306,
            2.9751295336787567,
            2.836234458259325,
            2.5261682242990653,
            3.1962337149624953,
            3.1751677852348994,
            3.249357454295112,
            3.2749508012369977,
            2.3901408450704222,
            2.26875,
            2.1076315789473683,
            2.2688888888888887,
            2.0594594594594597,
            2.412938005390836,
            1.8636363636363635,
            2.6076219512195125,
            3.319808436491138,
            1.9380952380952383,
            2.2254901960784315,
            2.9464285714285716
           ],
           "zmax": 4,
           "zmin": 1
          },
          {
           "colorscale": [
            [
             0,
             "#440154"
            ],
            [
             0.1111111111111111,
             "#482878"
            ],
            [
             0.2222222222222222,
             "#3e4989"
            ],
            [
             0.3333333333333333,
             "#31688e"
            ],
            [
             0.4444444444444444,
             "#26828e"
            ],
            [
             0.5555555555555556,
             "#1f9e89"
            ],
            [
             0.6666666666666666,
             "#35b779"
            ],
            [
             0.7777777777777778,
             "#6ece58"
            ],
            [
             0.8888888888888888,
             "#b5de2b"
            ],
            [
             1,
             "#fde725"
            ]
           ],
           "locationmode": "USA-states",
           "locations": [
            "AL",
            "AK",
            "AZ",
            "AR",
            "CA",
            "CO",
            "CT",
            "DE",
            "FL",
            "GA",
            "HI",
            "ID",
            "IL",
            "IN",
            "IA",
            "KS",
            "KY",
            "LA",
            "ME",
            "MD",
            "MA",
            "MI",
            "MN",
            "MO",
            "MT",
            "NE",
            "NV",
            "NH",
            "NJ",
            "NM",
            "NY",
            "NC",
            "OH",
            "OK",
            "OR",
            "PA",
            "RI",
            "SC",
            "SD",
            "TN",
            "TX",
            "UT",
            "VT",
            "VA",
            "WA",
            "DC",
            "WV",
            "WI",
            "WY"
           ],
           "type": "choropleth",
           "z": [
            3.39959266802444,
            3.6260930888575458,
            3.541311596887736,
            3.34018691588785,
            3.6365180543335787,
            3.4552074688796677,
            3.486602139582272,
            3.2945859872611467,
            3.47989922813036,
            3.507946058091286,
            3.301521164021164,
            3.4493062966915686,
            3.5557811375089994,
            3.481610299769408,
            3.606026438569207,
            3.502985074626866,
            3.33955732122588,
            3.319335347432024,
            3.596395858223815,
            3.440556152606126,
            3.619248567650948,
            3.509076667895319,
            3.463849493487699,
            3.3386895938333825,
            3.4092731829573935,
            3.2008064516129036,
            3.4171584699453548,
            3.5258732212160413,
            3.447387755102041,
            3.5522388059701493,
            3.5271838939356743,
            3.4180649767940023,
            3.54350376272687,
            3.753697608075488,
            3.5623860144087867,
            3.3667359667359666,
            3.3448933782267116,
            3.5571249477643128,
            3.2149484536082475,
            3.3643988269794725,
            3.451690597498842,
            3.473972148541114,
            3.682709645547734,
            3.4374672368602566,
            3.3914312617702445,
            3.5617352614015574,
            3.2507575757575755,
            3.1952371402787523,
            3.387111801242236
           ],
           "zmax": 4,
           "zmin": 1
          }
         ],
         "name": "2015"
        },
        {
         "data": [
          {
           "colorscale": [
            [
             0,
             "#440154"
            ],
            [
             0.1111111111111111,
             "#482878"
            ],
            [
             0.2222222222222222,
             "#3e4989"
            ],
            [
             0.3333333333333333,
             "#31688e"
            ],
            [
             0.4444444444444444,
             "#26828e"
            ],
            [
             0.5555555555555556,
             "#1f9e89"
            ],
            [
             0.6666666666666666,
             "#35b779"
            ],
            [
             0.7777777777777778,
             "#6ece58"
            ],
            [
             0.8888888888888888,
             "#b5de2b"
            ],
            [
             1,
             "#fde725"
            ]
           ],
           "locationmode": "country names",
           "locations": [
            "Albania",
            "Argentina",
            "Armenia",
            "Australia",
            "Austria",
            "Bahamas",
            "Barbados",
            "Belarus",
            "Belgium",
            "Belize",
            "Bolivia",
            "Bosnia and Herzegovina",
            "Brazil",
            "Bulgaria",
            "Cambodia",
            "Canada",
            "Cayman Islands",
            "Chile",
            "China",
            "Colombia",
            "Costa Rica",
            "Croatia",
            "Cuba",
            "Cyprus",
            "Czech Republic",
            "Denmark",
            "Dominican Republic",
            "Ecuador",
            "Egypt",
            "El Salvador",
            "Estonia",
            "Ethiopia",
            "Faroe Islands",
            "Fiji Islands",
            "Finland",
            "France",
            "French Polynesia",
            "Georgia",
            "Germany",
            "Greece",
            "Guatemala",
            "Guernsey",
            "Honduras",
            "Hong Kong",
            "Hungary",
            "Iceland",
            "India",
            "Indonesia",
            "Ireland",
            "Isle of Man",
            "Israel",
            "Italy",
            "Jamaica",
            "Japan",
            "Jersey",
            "Kenya",
            "Laos",
            "Latvia",
            "Lebanon",
            "Lithuania",
            "Luxembourg",
            "Macedonia",
            "Malaysia",
            "Malta",
            "Mexico",
            "Moldova",
            "Montenegro",
            "Morocco",
            "Myanmar",
            "Namibia",
            "Netherlands",
            "New Zealand",
            "Nigeria",
            "Norway",
            "Palestine",
            "Panama",
            "Peru",
            "Philippines",
            "Poland",
            "Portugal",
            "Puerto Rico",
            "Romania",
            "Russia",
            "Serbia",
            "Singapore",
            "Slovak Republic",
            "Slovenia",
            "South Africa",
            "South Korea",
            "Spain",
            "Sri Lanka",
            "Sweden",
            "Switzerland",
            "Taiwan",
            "Tanzania",
            "Thailand",
            "Trinidad & Tobago",
            "Tunisia",
            "Turkey",
            "Uganda",
            "Ukraine",
            "United Kingdom",
            "Venezuela",
            "Vietnam",
            "Virgin Islands (U.S.)"
           ],
           "type": "choropleth",
           "z": [
            2.3493827160493828,
            2.6371951219512195,
            2.2278481012658227,
            3.2812886888013506,
            3.2131089624395686,
            2.47536231884058,
            2.188888888888889,
            2.6910039113428943,
            3.521028404840906,
            2.229032258064516,
            2.1473684210526316,
            2.7233766233766237,
            3.248899624261943,
            2.7123152709359606,
            2.539080459770115,
            3.396390226318906,
            2.5528301886792457,
            3.144354838709677,
            2.6120976692563818,
            2.374193548387097,
            2.8018181818181818,
            3.0322298850574714,
            2.108510638297872,
            2.649438202247191,
            3.120531536589931,
            3.291124237510617,
            1.9233333333333333,
            2.738888888888889,
            1.9944444444444445,
            2.4430769230769234,
            3.3330815018315016,
            2.346341463414634,
            2.7934640522875815,
            2.320689655172414,
            3.0921582234559333,
            3.0826340326340325,
            2.3183673469387753,
            2.1865853658536585,
            3.1102032761002567,
            3.074197860962567,
            1.9967213114754099,
            2.6,
            2.1641025641025644,
            3.194416243654822,
            2.9782855341947685,
            3.3246938775510206,
            2.2723529411764707,
            1.9970873786407766,
            3.295032051282051,
            3.230357142857143,
            2.9285714285714284,
            3.31254851228978,
            2.533606557377049,
            3.239731027857829,
            2.8275862068965516,
            2.2512820512820513,
            2.3138297872340425,
            2.9038998835855643,
            2.3329787234042554,
            2.807441113490364,
            2.793968253968254,
            2.2436708860759493,
            2.267708333333333,
            2.774834437086093,
            2.801273261508325,
            2.781115879828326,
            2.4863636363636363,
            2.088709677419355,
            2.2465753424657535,
            2.433333333333333,
            3.3502432502692465,
            3.4625785001847067,
            2.709090909090909,
            3.300343748396696,
            2.735294117647059,
            2.8743902439024387,
            2.8437689969604865,
            2.39527027027027,
            3.318892208115509,
            3.0558725945587257,
            2.0153846153846153,
            2.8074027603513176,
            3.082997261638038,
            3.1193857965451057,
            2.7867307692307692,
            3.193596059113301,
            3.1189095127610207,
            2.95233949945593,
            2.7779126213592233,
            3.2535497247444054,
            2.807741935483871,
            3.386546744362807,
            3.31625386996904,
            2.573469387755102,
            2.1219512195121952,
            2.644083969465649,
            2.1551020408163266,
            2.2600000000000002,
            2.5316666666666667,
            1.8125,
            2.8004653868528213,
            3.351513062659406,
            2.1125,
            2.414551083591331,
            2.984375
           ],
           "zmax": 4,
           "zmin": 1
          },
          {
           "colorscale": [
            [
             0,
             "#440154"
            ],
            [
             0.1111111111111111,
             "#482878"
            ],
            [
             0.2222222222222222,
             "#3e4989"
            ],
            [
             0.3333333333333333,
             "#31688e"
            ],
            [
             0.4444444444444444,
             "#26828e"
            ],
            [
             0.5555555555555556,
             "#1f9e89"
            ],
            [
             0.6666666666666666,
             "#35b779"
            ],
            [
             0.7777777777777778,
             "#6ece58"
            ],
            [
             0.8888888888888888,
             "#b5de2b"
            ],
            [
             1,
             "#fde725"
            ]
           ],
           "locationmode": "USA-states",
           "locations": [
            "AL",
            "AK",
            "AZ",
            "AR",
            "CA",
            "CO",
            "CT",
            "DE",
            "FL",
            "GA",
            "HI",
            "ID",
            "IL",
            "IN",
            "IA",
            "KS",
            "KY",
            "LA",
            "ME",
            "MD",
            "MA",
            "MI",
            "MN",
            "MO",
            "MT",
            "NE",
            "NV",
            "NH",
            "NJ",
            "NM",
            "NY",
            "NC",
            "OH",
            "OK",
            "OR",
            "PA",
            "RI",
            "SC",
            "SD",
            "TN",
            "TX",
            "UT",
            "VT",
            "VA",
            "WA",
            "DC",
            "WV",
            "WI",
            "WY"
           ],
           "type": "choropleth",
           "z": [
            3.449899598393574,
            3.589025893958077,
            3.524989375265618,
            3.4353233830845773,
            3.6301992425489873,
            3.5443215705765407,
            3.5223186925434113,
            3.2993197278911564,
            3.5350159274687574,
            3.5562267888091115,
            3.2854460093896716,
            3.41717277486911,
            3.560387513455328,
            3.4628877737226276,
            3.621118881118881,
            3.436052921719956,
            3.4042938437661667,
            3.331438127090301,
            3.6203204830469113,
            3.4934265318262936,
            3.6911813807325937,
            3.534863029735425,
            3.4545636576005343,
            3.431662698909911,
            3.4013975155279503,
            3.3113970588235295,
            3.4054844606946983,
            3.545705426356589,
            3.4751817580964968,
            3.524410540915395,
            3.5720161977834617,
            3.467787165198634,
            3.5529341963322545,
            3.7968196819681967,
            3.588567293777135,
            3.3993269015032532,
            3.3757697456492637,
            3.657253886010363,
            3.2160621761658033,
            3.4966949531040643,
            3.4519979703158694,
            3.4475174825174824,
            3.7538094128611372,
            3.5321751671692674,
            3.4674120734908134,
            3.5478770131771595,
            3.3404255319148937,
            3.2226077378493736,
            3.6445923460898504
           ],
           "zmax": 4,
           "zmin": 1
          }
         ],
         "name": "2016"
        }
       ],
       "layout": {
        "geo": {
         "scope": "world",
         "showcoastlines": true,
         "showframe": false
        },
        "height": 600,
        "sliders": [
         {
          "steps": [
           {
            "args": [
             [
              "2002"
             ],
             {
              "frame": {
               "duration": 300,
               "redraw": true
              },
              "mode": "immediate"
             }
            ],
            "label": "2002",
            "method": "animate"
           },
           {
            "args": [
             [
              "2003"
             ],
             {
              "frame": {
               "duration": 300,
               "redraw": true
              },
              "mode": "immediate"
             }
            ],
            "label": "2003",
            "method": "animate"
           },
           {
            "args": [
             [
              "2004"
             ],
             {
              "frame": {
               "duration": 300,
               "redraw": true
              },
              "mode": "immediate"
             }
            ],
            "label": "2004",
            "method": "animate"
           },
           {
            "args": [
             [
              "2005"
             ],
             {
              "frame": {
               "duration": 300,
               "redraw": true
              },
              "mode": "immediate"
             }
            ],
            "label": "2005",
            "method": "animate"
           },
           {
            "args": [
             [
              "2006"
             ],
             {
              "frame": {
               "duration": 300,
               "redraw": true
              },
              "mode": "immediate"
             }
            ],
            "label": "2006",
            "method": "animate"
           },
           {
            "args": [
             [
              "2007"
             ],
             {
              "frame": {
               "duration": 300,
               "redraw": true
              },
              "mode": "immediate"
             }
            ],
            "label": "2007",
            "method": "animate"
           },
           {
            "args": [
             [
              "2008"
             ],
             {
              "frame": {
               "duration": 300,
               "redraw": true
              },
              "mode": "immediate"
             }
            ],
            "label": "2008",
            "method": "animate"
           },
           {
            "args": [
             [
              "2009"
             ],
             {
              "frame": {
               "duration": 300,
               "redraw": true
              },
              "mode": "immediate"
             }
            ],
            "label": "2009",
            "method": "animate"
           },
           {
            "args": [
             [
              "2010"
             ],
             {
              "frame": {
               "duration": 300,
               "redraw": true
              },
              "mode": "immediate"
             }
            ],
            "label": "2010",
            "method": "animate"
           },
           {
            "args": [
             [
              "2011"
             ],
             {
              "frame": {
               "duration": 300,
               "redraw": true
              },
              "mode": "immediate"
             }
            ],
            "label": "2011",
            "method": "animate"
           },
           {
            "args": [
             [
              "2012"
             ],
             {
              "frame": {
               "duration": 300,
               "redraw": true
              },
              "mode": "immediate"
             }
            ],
            "label": "2012",
            "method": "animate"
           },
           {
            "args": [
             [
              "2013"
             ],
             {
              "frame": {
               "duration": 300,
               "redraw": true
              },
              "mode": "immediate"
             }
            ],
            "label": "2013",
            "method": "animate"
           },
           {
            "args": [
             [
              "2014"
             ],
             {
              "frame": {
               "duration": 300,
               "redraw": true
              },
              "mode": "immediate"
             }
            ],
            "label": "2014",
            "method": "animate"
           },
           {
            "args": [
             [
              "2015"
             ],
             {
              "frame": {
               "duration": 300,
               "redraw": true
              },
              "mode": "immediate"
             }
            ],
            "label": "2015",
            "method": "animate"
           },
           {
            "args": [
             [
              "2016"
             ],
             {
              "frame": {
               "duration": 300,
               "redraw": true
              },
              "mode": "immediate"
             }
            ],
            "label": "2016",
            "method": "animate"
           }
          ],
          "transition": {
           "duration": 300
          },
          "x": 0.1,
          "xanchor": "left",
          "y": 0,
          "yanchor": "top"
         }
        ],
        "template": {
         "data": {
          "bar": [
           {
            "error_x": {
             "color": "#2a3f5f"
            },
            "error_y": {
             "color": "#2a3f5f"
            },
            "marker": {
             "line": {
              "color": "#E5ECF6",
              "width": 0.5
             },
             "pattern": {
              "fillmode": "overlay",
              "size": 10,
              "solidity": 0.2
             }
            },
            "type": "bar"
           }
          ],
          "barpolar": [
           {
            "marker": {
             "line": {
              "color": "#E5ECF6",
              "width": 0.5
             },
             "pattern": {
              "fillmode": "overlay",
              "size": 10,
              "solidity": 0.2
             }
            },
            "type": "barpolar"
           }
          ],
          "carpet": [
           {
            "aaxis": {
             "endlinecolor": "#2a3f5f",
             "gridcolor": "white",
             "linecolor": "white",
             "minorgridcolor": "white",
             "startlinecolor": "#2a3f5f"
            },
            "baxis": {
             "endlinecolor": "#2a3f5f",
             "gridcolor": "white",
             "linecolor": "white",
             "minorgridcolor": "white",
             "startlinecolor": "#2a3f5f"
            },
            "type": "carpet"
           }
          ],
          "choropleth": [
           {
            "colorbar": {
             "outlinewidth": 0,
             "ticks": ""
            },
            "type": "choropleth"
           }
          ],
          "contour": [
           {
            "colorbar": {
             "outlinewidth": 0,
             "ticks": ""
            },
            "colorscale": [
             [
              0,
              "#0d0887"
             ],
             [
              0.1111111111111111,
              "#46039f"
             ],
             [
              0.2222222222222222,
              "#7201a8"
             ],
             [
              0.3333333333333333,
              "#9c179e"
             ],
             [
              0.4444444444444444,
              "#bd3786"
             ],
             [
              0.5555555555555556,
              "#d8576b"
             ],
             [
              0.6666666666666666,
              "#ed7953"
             ],
             [
              0.7777777777777778,
              "#fb9f3a"
             ],
             [
              0.8888888888888888,
              "#fdca26"
             ],
             [
              1,
              "#f0f921"
             ]
            ],
            "type": "contour"
           }
          ],
          "contourcarpet": [
           {
            "colorbar": {
             "outlinewidth": 0,
             "ticks": ""
            },
            "type": "contourcarpet"
           }
          ],
          "heatmap": [
           {
            "colorbar": {
             "outlinewidth": 0,
             "ticks": ""
            },
            "colorscale": [
             [
              0,
              "#0d0887"
             ],
             [
              0.1111111111111111,
              "#46039f"
             ],
             [
              0.2222222222222222,
              "#7201a8"
             ],
             [
              0.3333333333333333,
              "#9c179e"
             ],
             [
              0.4444444444444444,
              "#bd3786"
             ],
             [
              0.5555555555555556,
              "#d8576b"
             ],
             [
              0.6666666666666666,
              "#ed7953"
             ],
             [
              0.7777777777777778,
              "#fb9f3a"
             ],
             [
              0.8888888888888888,
              "#fdca26"
             ],
             [
              1,
              "#f0f921"
             ]
            ],
            "type": "heatmap"
           }
          ],
          "heatmapgl": [
           {
            "colorbar": {
             "outlinewidth": 0,
             "ticks": ""
            },
            "colorscale": [
             [
              0,
              "#0d0887"
             ],
             [
              0.1111111111111111,
              "#46039f"
             ],
             [
              0.2222222222222222,
              "#7201a8"
             ],
             [
              0.3333333333333333,
              "#9c179e"
             ],
             [
              0.4444444444444444,
              "#bd3786"
             ],
             [
              0.5555555555555556,
              "#d8576b"
             ],
             [
              0.6666666666666666,
              "#ed7953"
             ],
             [
              0.7777777777777778,
              "#fb9f3a"
             ],
             [
              0.8888888888888888,
              "#fdca26"
             ],
             [
              1,
              "#f0f921"
             ]
            ],
            "type": "heatmapgl"
           }
          ],
          "histogram": [
           {
            "marker": {
             "pattern": {
              "fillmode": "overlay",
              "size": 10,
              "solidity": 0.2
             }
            },
            "type": "histogram"
           }
          ],
          "histogram2d": [
           {
            "colorbar": {
             "outlinewidth": 0,
             "ticks": ""
            },
            "colorscale": [
             [
              0,
              "#0d0887"
             ],
             [
              0.1111111111111111,
              "#46039f"
             ],
             [
              0.2222222222222222,
              "#7201a8"
             ],
             [
              0.3333333333333333,
              "#9c179e"
             ],
             [
              0.4444444444444444,
              "#bd3786"
             ],
             [
              0.5555555555555556,
              "#d8576b"
             ],
             [
              0.6666666666666666,
              "#ed7953"
             ],
             [
              0.7777777777777778,
              "#fb9f3a"
             ],
             [
              0.8888888888888888,
              "#fdca26"
             ],
             [
              1,
              "#f0f921"
             ]
            ],
            "type": "histogram2d"
           }
          ],
          "histogram2dcontour": [
           {
            "colorbar": {
             "outlinewidth": 0,
             "ticks": ""
            },
            "colorscale": [
             [
              0,
              "#0d0887"
             ],
             [
              0.1111111111111111,
              "#46039f"
             ],
             [
              0.2222222222222222,
              "#7201a8"
             ],
             [
              0.3333333333333333,
              "#9c179e"
             ],
             [
              0.4444444444444444,
              "#bd3786"
             ],
             [
              0.5555555555555556,
              "#d8576b"
             ],
             [
              0.6666666666666666,
              "#ed7953"
             ],
             [
              0.7777777777777778,
              "#fb9f3a"
             ],
             [
              0.8888888888888888,
              "#fdca26"
             ],
             [
              1,
              "#f0f921"
             ]
            ],
            "type": "histogram2dcontour"
           }
          ],
          "mesh3d": [
           {
            "colorbar": {
             "outlinewidth": 0,
             "ticks": ""
            },
            "type": "mesh3d"
           }
          ],
          "parcoords": [
           {
            "line": {
             "colorbar": {
              "outlinewidth": 0,
              "ticks": ""
             }
            },
            "type": "parcoords"
           }
          ],
          "pie": [
           {
            "automargin": true,
            "type": "pie"
           }
          ],
          "scatter": [
           {
            "fillpattern": {
             "fillmode": "overlay",
             "size": 10,
             "solidity": 0.2
            },
            "type": "scatter"
           }
          ],
          "scatter3d": [
           {
            "line": {
             "colorbar": {
              "outlinewidth": 0,
              "ticks": ""
             }
            },
            "marker": {
             "colorbar": {
              "outlinewidth": 0,
              "ticks": ""
             }
            },
            "type": "scatter3d"
           }
          ],
          "scattercarpet": [
           {
            "marker": {
             "colorbar": {
              "outlinewidth": 0,
              "ticks": ""
             }
            },
            "type": "scattercarpet"
           }
          ],
          "scattergeo": [
           {
            "marker": {
             "colorbar": {
              "outlinewidth": 0,
              "ticks": ""
             }
            },
            "type": "scattergeo"
           }
          ],
          "scattergl": [
           {
            "marker": {
             "colorbar": {
              "outlinewidth": 0,
              "ticks": ""
             }
            },
            "type": "scattergl"
           }
          ],
          "scattermapbox": [
           {
            "marker": {
             "colorbar": {
              "outlinewidth": 0,
              "ticks": ""
             }
            },
            "type": "scattermapbox"
           }
          ],
          "scatterpolar": [
           {
            "marker": {
             "colorbar": {
              "outlinewidth": 0,
              "ticks": ""
             }
            },
            "type": "scatterpolar"
           }
          ],
          "scatterpolargl": [
           {
            "marker": {
             "colorbar": {
              "outlinewidth": 0,
              "ticks": ""
             }
            },
            "type": "scatterpolargl"
           }
          ],
          "scatterternary": [
           {
            "marker": {
             "colorbar": {
              "outlinewidth": 0,
              "ticks": ""
             }
            },
            "type": "scatterternary"
           }
          ],
          "surface": [
           {
            "colorbar": {
             "outlinewidth": 0,
             "ticks": ""
            },
            "colorscale": [
             [
              0,
              "#0d0887"
             ],
             [
              0.1111111111111111,
              "#46039f"
             ],
             [
              0.2222222222222222,
              "#7201a8"
             ],
             [
              0.3333333333333333,
              "#9c179e"
             ],
             [
              0.4444444444444444,
              "#bd3786"
             ],
             [
              0.5555555555555556,
              "#d8576b"
             ],
             [
              0.6666666666666666,
              "#ed7953"
             ],
             [
              0.7777777777777778,
              "#fb9f3a"
             ],
             [
              0.8888888888888888,
              "#fdca26"
             ],
             [
              1,
              "#f0f921"
             ]
            ],
            "type": "surface"
           }
          ],
          "table": [
           {
            "cells": {
             "fill": {
              "color": "#EBF0F8"
             },
             "line": {
              "color": "white"
             }
            },
            "header": {
             "fill": {
              "color": "#C8D4E3"
             },
             "line": {
              "color": "white"
             }
            },
            "type": "table"
           }
          ]
         },
         "layout": {
          "annotationdefaults": {
           "arrowcolor": "#2a3f5f",
           "arrowhead": 0,
           "arrowwidth": 1
          },
          "autotypenumbers": "strict",
          "coloraxis": {
           "colorbar": {
            "outlinewidth": 0,
            "ticks": ""
           }
          },
          "colorscale": {
           "diverging": [
            [
             0,
             "#8e0152"
            ],
            [
             0.1,
             "#c51b7d"
            ],
            [
             0.2,
             "#de77ae"
            ],
            [
             0.3,
             "#f1b6da"
            ],
            [
             0.4,
             "#fde0ef"
            ],
            [
             0.5,
             "#f7f7f7"
            ],
            [
             0.6,
             "#e6f5d0"
            ],
            [
             0.7,
             "#b8e186"
            ],
            [
             0.8,
             "#7fbc41"
            ],
            [
             0.9,
             "#4d9221"
            ],
            [
             1,
             "#276419"
            ]
           ],
           "sequential": [
            [
             0,
             "#0d0887"
            ],
            [
             0.1111111111111111,
             "#46039f"
            ],
            [
             0.2222222222222222,
             "#7201a8"
            ],
            [
             0.3333333333333333,
             "#9c179e"
            ],
            [
             0.4444444444444444,
             "#bd3786"
            ],
            [
             0.5555555555555556,
             "#d8576b"
            ],
            [
             0.6666666666666666,
             "#ed7953"
            ],
            [
             0.7777777777777778,
             "#fb9f3a"
            ],
            [
             0.8888888888888888,
             "#fdca26"
            ],
            [
             1,
             "#f0f921"
            ]
           ],
           "sequentialminus": [
            [
             0,
             "#0d0887"
            ],
            [
             0.1111111111111111,
             "#46039f"
            ],
            [
             0.2222222222222222,
             "#7201a8"
            ],
            [
             0.3333333333333333,
             "#9c179e"
            ],
            [
             0.4444444444444444,
             "#bd3786"
            ],
            [
             0.5555555555555556,
             "#d8576b"
            ],
            [
             0.6666666666666666,
             "#ed7953"
            ],
            [
             0.7777777777777778,
             "#fb9f3a"
            ],
            [
             0.8888888888888888,
             "#fdca26"
            ],
            [
             1,
             "#f0f921"
            ]
           ]
          },
          "colorway": [
           "#636efa",
           "#EF553B",
           "#00cc96",
           "#ab63fa",
           "#FFA15A",
           "#19d3f3",
           "#FF6692",
           "#B6E880",
           "#FF97FF",
           "#FECB52"
          ],
          "font": {
           "color": "#2a3f5f"
          },
          "geo": {
           "bgcolor": "white",
           "lakecolor": "white",
           "landcolor": "#E5ECF6",
           "showlakes": true,
           "showland": true,
           "subunitcolor": "white"
          },
          "hoverlabel": {
           "align": "left"
          },
          "hovermode": "closest",
          "mapbox": {
           "style": "light"
          },
          "paper_bgcolor": "white",
          "plot_bgcolor": "#E5ECF6",
          "polar": {
           "angularaxis": {
            "gridcolor": "white",
            "linecolor": "white",
            "ticks": ""
           },
           "bgcolor": "#E5ECF6",
           "radialaxis": {
            "gridcolor": "white",
            "linecolor": "white",
            "ticks": ""
           }
          },
          "scene": {
           "xaxis": {
            "backgroundcolor": "#E5ECF6",
            "gridcolor": "white",
            "gridwidth": 2,
            "linecolor": "white",
            "showbackground": true,
            "ticks": "",
            "zerolinecolor": "white"
           },
           "yaxis": {
            "backgroundcolor": "#E5ECF6",
            "gridcolor": "white",
            "gridwidth": 2,
            "linecolor": "white",
            "showbackground": true,
            "ticks": "",
            "zerolinecolor": "white"
           },
           "zaxis": {
            "backgroundcolor": "#E5ECF6",
            "gridcolor": "white",
            "gridwidth": 2,
            "linecolor": "white",
            "showbackground": true,
            "ticks": "",
            "zerolinecolor": "white"
           }
          },
          "shapedefaults": {
           "line": {
            "color": "#2a3f5f"
           }
          },
          "ternary": {
           "aaxis": {
            "gridcolor": "white",
            "linecolor": "white",
            "ticks": ""
           },
           "baxis": {
            "gridcolor": "white",
            "linecolor": "white",
            "ticks": ""
           },
           "bgcolor": "#E5ECF6",
           "caxis": {
            "gridcolor": "white",
            "linecolor": "white",
            "ticks": ""
           }
          },
          "title": {
           "x": 0.05
          },
          "xaxis": {
           "automargin": true,
           "gridcolor": "white",
           "linecolor": "white",
           "ticks": "",
           "title": {
            "standoff": 15
           },
           "zerolinecolor": "white",
           "zerolinewidth": 2
          },
          "yaxis": {
           "automargin": true,
           "gridcolor": "white",
           "linecolor": "white",
           "ticks": "",
           "title": {
            "standoff": 15
           },
           "zerolinecolor": "white",
           "zerolinewidth": 2
          }
         }
        },
        "updatemenus": [
         {
          "buttons": [
           {
            "args": [
             null,
             {
              "frame": {
               "duration": 300,
               "redraw": true
              },
              "fromcurrent": true
             }
            ],
            "label": "Play",
            "method": "animate"
           },
           {
            "args": [
             [
              null
             ],
             {
              "frame": {
               "duration": 0,
               "redraw": true
              },
              "mode": "immediate"
             }
            ],
            "label": "Pause",
            "method": "animate"
           }
          ],
          "direction": "left",
          "pad": {
           "r": 10,
           "t": 87
          },
          "showactive": false,
          "type": "buttons",
          "x": 0.1,
          "xanchor": "right",
          "y": 0,
          "yanchor": "top"
         }
        ],
        "width": 800
       }
      }
     },
     "metadata": {},
     "output_type": "display_data"
    }
   ],
   "source": [
    "df_state_no_US, df_state_US = global_pres.get_spatial_data_ratings_evolving(df_ratings_no_text)\n",
    "\n",
    "# Define the options for the plot\n",
    "options = {\n",
    "    'time_range': range(df_ratings_no_text['date'].dt.year.min(), df_ratings_no_text['date'].dt.year.max() + 1),\n",
    "    'time_label': 'year',\n",
    "    'location_label': 'location',\n",
    "    'value_label': 'count',\n",
    "    'range_color': [1, 4],\n",
    "    'color_scale': 'Viridis'\n",
    "}\n",
    "\n",
    "# Display the plot\n",
    "plot_map_time(df_state_no_US, df_state_US, options, SAVING_FOLDER + '/ratings_distribution/average_rating_map_time.html')"
   ]
  },
  {
   "cell_type": "code",
   "execution_count": 26,
   "metadata": {},
   "outputs": [
    {
     "data": {
      "application/vnd.plotly.v1+json": {
       "config": {
        "plotlyServerURL": "https://plot.ly"
       },
       "data": [
        {
         "line": {
          "color": "red"
         },
         "marker": {
          "color": "red",
          "size": 4
         },
         "mode": "lines+markers",
         "name": "Mean",
         "showlegend": true,
         "type": "scatter",
         "x": [
          2002,
          2003,
          2004,
          2005,
          2006,
          2007,
          2008,
          2009,
          2010,
          2011,
          2012,
          2013,
          2014,
          2015,
          2016
         ],
         "xaxis": "x",
         "y": [
          12.44959555239375,
          12.473298006107418,
          12.563644794806399,
          12.54686738657299,
          12.679190008336775,
          12.815139471721318,
          12.903525112211046,
          13.013621768883988,
          13.181842029528095,
          13.113149319023076,
          13.221283600609393,
          13.349104855569625,
          13.342883214732044,
          13.449263300774163,
          13.603467081352287
         ],
         "yaxis": "y"
        },
        {
         "line": {
          "color": "blue"
         },
         "marker": {
          "color": "blue",
          "size": 6
         },
         "mode": "markers",
         "name": "Median",
         "showlegend": true,
         "type": "scatter",
         "x": [
          2002,
          2003,
          2004,
          2005,
          2006,
          2007,
          2008,
          2009,
          2010,
          2011,
          2012,
          2013,
          2014,
          2015,
          2016
         ],
         "xaxis": "x",
         "y": [
          13,
          13,
          13,
          13,
          13,
          13,
          13,
          14,
          14,
          14,
          14,
          14,
          14,
          14,
          14
         ],
         "yaxis": "y"
        },
        {
         "line": {
          "color": "red"
         },
         "marker": {
          "color": "red",
          "size": 4
         },
         "mode": "lines+markers",
         "name": "Mean",
         "showlegend": false,
         "type": "scatter",
         "x": [
          2002,
          2003,
          2004,
          2005,
          2006,
          2007,
          2008,
          2009,
          2010,
          2011,
          2012,
          2013,
          2014,
          2015,
          2016
         ],
         "xaxis": "x2",
         "y": [
          5.923905883592865,
          6.016552901023891,
          6.071820811011996,
          6.053347935644644,
          6.096215727675754,
          6.140721529149846,
          6.214989013328467,
          6.296268483567806,
          6.385375519237577,
          6.37970662203567,
          6.414372998984938,
          6.509684638261535,
          6.521589553304941,
          6.568107369716875,
          6.6513910806021785
         ],
         "yaxis": "y2"
        },
        {
         "line": {
          "color": "blue"
         },
         "marker": {
          "color": "blue",
          "size": 6
         },
         "mode": "markers",
         "name": "Median",
         "showlegend": false,
         "type": "scatter",
         "x": [
          2002,
          2003,
          2004,
          2005,
          2006,
          2007,
          2008,
          2009,
          2010,
          2011,
          2012,
          2013,
          2014,
          2015,
          2016
         ],
         "xaxis": "x2",
         "y": [
          6,
          6,
          6,
          6,
          6,
          6,
          6,
          7,
          7,
          7,
          7,
          7,
          7,
          7,
          7
         ],
         "yaxis": "y2"
        },
        {
         "line": {
          "color": "red"
         },
         "marker": {
          "color": "red",
          "size": 4
         },
         "mode": "lines+markers",
         "name": "Mean",
         "showlegend": false,
         "type": "scatter",
         "x": [
          2002,
          2003,
          2004,
          2005,
          2006,
          2007,
          2008,
          2009,
          2010,
          2011,
          2012,
          2013,
          2014,
          2015,
          2016
         ],
         "xaxis": "x3",
         "y": [
          6.0862118936579455,
          6.145024250044908,
          6.178017499115282,
          6.156860379319786,
          6.198777532782223,
          6.260589203254625,
          6.326401719344399,
          6.390812541008759,
          6.4598986865931645,
          6.444038573933372,
          6.500343983488793,
          6.583380936957098,
          6.580617344489448,
          6.617735026063436,
          6.68985198121668
         ],
         "yaxis": "y3"
        },
        {
         "line": {
          "color": "blue"
         },
         "marker": {
          "color": "blue",
          "size": 6
         },
         "mode": "markers",
         "name": "Median",
         "showlegend": false,
         "type": "scatter",
         "x": [
          2002,
          2003,
          2004,
          2005,
          2006,
          2007,
          2008,
          2009,
          2010,
          2011,
          2012,
          2013,
          2014,
          2015,
          2016
         ],
         "xaxis": "x3",
         "y": [
          6,
          6,
          6,
          6,
          6,
          7,
          7,
          7,
          7,
          7,
          7,
          7,
          7,
          7,
          7
         ],
         "yaxis": "y3"
        },
        {
         "line": {
          "color": "red"
         },
         "marker": {
          "color": "red",
          "size": 4
         },
         "mode": "lines+markers",
         "name": "Mean",
         "showlegend": false,
         "type": "scatter",
         "x": [
          2002,
          2003,
          2004,
          2005,
          2006,
          2007,
          2008,
          2009,
          2010,
          2011,
          2012,
          2013,
          2014,
          2015,
          2016
         ],
         "xaxis": "x4",
         "y": [
          3.3668221220983847,
          3.3689509610202983,
          3.347810169987919,
          3.3487987897406386,
          3.3519560254622234,
          3.351825174944627,
          3.3665569266718878,
          3.3885472358536934,
          3.418214510382205,
          3.414182739138905,
          3.442954738172568,
          3.473138305703601,
          3.4644601549860807,
          3.4801146320590797,
          3.4890245660407686
         ],
         "yaxis": "y4"
        },
        {
         "line": {
          "color": "blue"
         },
         "marker": {
          "color": "blue",
          "size": 6
         },
         "mode": "markers",
         "name": "Median",
         "showlegend": false,
         "type": "scatter",
         "x": [
          2002,
          2003,
          2004,
          2005,
          2006,
          2007,
          2008,
          2009,
          2010,
          2011,
          2012,
          2013,
          2014,
          2015,
          2016
         ],
         "xaxis": "x4",
         "y": [
          3,
          3,
          3,
          3,
          3,
          3,
          3,
          3,
          3,
          3,
          3,
          3,
          3,
          3,
          3
         ],
         "yaxis": "y4"
        },
        {
         "line": {
          "color": "red"
         },
         "marker": {
          "color": "red",
          "size": 4
         },
         "mode": "lines+markers",
         "name": "Mean",
         "showlegend": false,
         "type": "scatter",
         "x": [
          2002,
          2003,
          2004,
          2005,
          2006,
          2007,
          2008,
          2009,
          2010,
          2011,
          2012,
          2013,
          2014,
          2015,
          2016
         ],
         "xaxis": "x5",
         "y": [
          3.1012304692646167,
          3.1201185557751034,
          3.123970371093512,
          3.1254112700762446,
          3.146138982601853,
          3.169364619335296,
          3.1901492514617216,
          3.214178614820784,
          3.263992991088597,
          3.2562208880151604,
          3.2852556410625624,
          3.329045081122464,
          3.33002305099405,
          3.3530620358088954,
          3.3684127941909994
         ],
         "yaxis": "y5"
        },
        {
         "line": {
          "color": "blue"
         },
         "marker": {
          "color": "blue",
          "size": 6
         },
         "mode": "markers",
         "name": "Median",
         "showlegend": false,
         "type": "scatter",
         "x": [
          2002,
          2003,
          2004,
          2005,
          2006,
          2007,
          2008,
          2009,
          2010,
          2011,
          2012,
          2013,
          2014,
          2015,
          2016
         ],
         "xaxis": "x5",
         "y": [
          3,
          3,
          3,
          3,
          3,
          3,
          3,
          3,
          3,
          3,
          3,
          3,
          3,
          3,
          3
         ],
         "yaxis": "y5"
        },
        {
         "line": {
          "color": "red"
         },
         "marker": {
          "color": "red",
          "size": 4
         },
         "mode": "lines+markers",
         "name": "Mean",
         "showlegend": false,
         "type": "scatter",
         "x": [
          2002,
          2003,
          2004,
          2005,
          2006,
          2007,
          2008,
          2009,
          2010,
          2011,
          2012,
          2013,
          2014,
          2015,
          2016
         ],
         "xaxis": "x6",
         "y": [
          3.0927871314520594,
          3.1123944673971624,
          3.1285263646015102,
          3.12312857613543,
          3.147227827685883,
          3.1737639998405722,
          3.200162202301752,
          3.230342864413503,
          3.270932373682964,
          3.260729814214618,
          3.286421096231823,
          3.324435381761432,
          3.3239573318506555,
          3.346828236442243,
          3.3802147503402917
         ],
         "yaxis": "y6"
        },
        {
         "line": {
          "color": "blue"
         },
         "marker": {
          "color": "blue",
          "size": 4
         },
         "mode": "lines+markers",
         "name": "Median",
         "showlegend": false,
         "type": "scatter",
         "x": [
          2002,
          2003,
          2004,
          2005,
          2006,
          2007,
          2008,
          2009,
          2010,
          2011,
          2012,
          2013,
          2014,
          2015,
          2016
         ],
         "xaxis": "x6",
         "y": [
          3.3,
          3.3,
          3.3,
          3.2,
          3.3,
          3.3,
          3.3,
          3.3,
          3.4,
          3.4,
          3.4,
          3.4,
          3.4,
          3.4,
          3.5
         ],
         "yaxis": "y6"
        }
       ],
       "layout": {
        "annotations": [
         {
          "font": {
           "size": 16
          },
          "showarrow": false,
          "text": "overall",
          "x": 0.14444444444444446,
          "xanchor": "center",
          "xref": "paper",
          "y": 1,
          "yanchor": "bottom",
          "yref": "paper"
         },
         {
          "font": {
           "size": 16
          },
          "showarrow": false,
          "text": "aroma",
          "x": 0.5,
          "xanchor": "center",
          "xref": "paper",
          "y": 1,
          "yanchor": "bottom",
          "yref": "paper"
         },
         {
          "font": {
           "size": 16
          },
          "showarrow": false,
          "text": "taste",
          "x": 0.8555555555555556,
          "xanchor": "center",
          "xref": "paper",
          "y": 1,
          "yanchor": "bottom",
          "yref": "paper"
         },
         {
          "font": {
           "size": 16
          },
          "showarrow": false,
          "text": "appearance",
          "x": 0.14444444444444446,
          "xanchor": "center",
          "xref": "paper",
          "y": 0.375,
          "yanchor": "bottom",
          "yref": "paper"
         },
         {
          "font": {
           "size": 16
          },
          "showarrow": false,
          "text": "mouthfeel",
          "x": 0.5,
          "xanchor": "center",
          "xref": "paper",
          "y": 0.375,
          "yanchor": "bottom",
          "yref": "paper"
         },
         {
          "font": {
           "size": 16
          },
          "showarrow": false,
          "text": "rating",
          "x": 0.8555555555555556,
          "xanchor": "center",
          "xref": "paper",
          "y": 0.375,
          "yanchor": "bottom",
          "yref": "paper"
         }
        ],
        "height": 600,
        "paper_bgcolor": "white",
        "plot_bgcolor": "white",
        "showlegend": true,
        "template": {
         "data": {
          "bar": [
           {
            "error_x": {
             "color": "#2a3f5f"
            },
            "error_y": {
             "color": "#2a3f5f"
            },
            "marker": {
             "line": {
              "color": "#E5ECF6",
              "width": 0.5
             },
             "pattern": {
              "fillmode": "overlay",
              "size": 10,
              "solidity": 0.2
             }
            },
            "type": "bar"
           }
          ],
          "barpolar": [
           {
            "marker": {
             "line": {
              "color": "#E5ECF6",
              "width": 0.5
             },
             "pattern": {
              "fillmode": "overlay",
              "size": 10,
              "solidity": 0.2
             }
            },
            "type": "barpolar"
           }
          ],
          "carpet": [
           {
            "aaxis": {
             "endlinecolor": "#2a3f5f",
             "gridcolor": "white",
             "linecolor": "white",
             "minorgridcolor": "white",
             "startlinecolor": "#2a3f5f"
            },
            "baxis": {
             "endlinecolor": "#2a3f5f",
             "gridcolor": "white",
             "linecolor": "white",
             "minorgridcolor": "white",
             "startlinecolor": "#2a3f5f"
            },
            "type": "carpet"
           }
          ],
          "choropleth": [
           {
            "colorbar": {
             "outlinewidth": 0,
             "ticks": ""
            },
            "type": "choropleth"
           }
          ],
          "contour": [
           {
            "colorbar": {
             "outlinewidth": 0,
             "ticks": ""
            },
            "colorscale": [
             [
              0,
              "#0d0887"
             ],
             [
              0.1111111111111111,
              "#46039f"
             ],
             [
              0.2222222222222222,
              "#7201a8"
             ],
             [
              0.3333333333333333,
              "#9c179e"
             ],
             [
              0.4444444444444444,
              "#bd3786"
             ],
             [
              0.5555555555555556,
              "#d8576b"
             ],
             [
              0.6666666666666666,
              "#ed7953"
             ],
             [
              0.7777777777777778,
              "#fb9f3a"
             ],
             [
              0.8888888888888888,
              "#fdca26"
             ],
             [
              1,
              "#f0f921"
             ]
            ],
            "type": "contour"
           }
          ],
          "contourcarpet": [
           {
            "colorbar": {
             "outlinewidth": 0,
             "ticks": ""
            },
            "type": "contourcarpet"
           }
          ],
          "heatmap": [
           {
            "colorbar": {
             "outlinewidth": 0,
             "ticks": ""
            },
            "colorscale": [
             [
              0,
              "#0d0887"
             ],
             [
              0.1111111111111111,
              "#46039f"
             ],
             [
              0.2222222222222222,
              "#7201a8"
             ],
             [
              0.3333333333333333,
              "#9c179e"
             ],
             [
              0.4444444444444444,
              "#bd3786"
             ],
             [
              0.5555555555555556,
              "#d8576b"
             ],
             [
              0.6666666666666666,
              "#ed7953"
             ],
             [
              0.7777777777777778,
              "#fb9f3a"
             ],
             [
              0.8888888888888888,
              "#fdca26"
             ],
             [
              1,
              "#f0f921"
             ]
            ],
            "type": "heatmap"
           }
          ],
          "heatmapgl": [
           {
            "colorbar": {
             "outlinewidth": 0,
             "ticks": ""
            },
            "colorscale": [
             [
              0,
              "#0d0887"
             ],
             [
              0.1111111111111111,
              "#46039f"
             ],
             [
              0.2222222222222222,
              "#7201a8"
             ],
             [
              0.3333333333333333,
              "#9c179e"
             ],
             [
              0.4444444444444444,
              "#bd3786"
             ],
             [
              0.5555555555555556,
              "#d8576b"
             ],
             [
              0.6666666666666666,
              "#ed7953"
             ],
             [
              0.7777777777777778,
              "#fb9f3a"
             ],
             [
              0.8888888888888888,
              "#fdca26"
             ],
             [
              1,
              "#f0f921"
             ]
            ],
            "type": "heatmapgl"
           }
          ],
          "histogram": [
           {
            "marker": {
             "pattern": {
              "fillmode": "overlay",
              "size": 10,
              "solidity": 0.2
             }
            },
            "type": "histogram"
           }
          ],
          "histogram2d": [
           {
            "colorbar": {
             "outlinewidth": 0,
             "ticks": ""
            },
            "colorscale": [
             [
              0,
              "#0d0887"
             ],
             [
              0.1111111111111111,
              "#46039f"
             ],
             [
              0.2222222222222222,
              "#7201a8"
             ],
             [
              0.3333333333333333,
              "#9c179e"
             ],
             [
              0.4444444444444444,
              "#bd3786"
             ],
             [
              0.5555555555555556,
              "#d8576b"
             ],
             [
              0.6666666666666666,
              "#ed7953"
             ],
             [
              0.7777777777777778,
              "#fb9f3a"
             ],
             [
              0.8888888888888888,
              "#fdca26"
             ],
             [
              1,
              "#f0f921"
             ]
            ],
            "type": "histogram2d"
           }
          ],
          "histogram2dcontour": [
           {
            "colorbar": {
             "outlinewidth": 0,
             "ticks": ""
            },
            "colorscale": [
             [
              0,
              "#0d0887"
             ],
             [
              0.1111111111111111,
              "#46039f"
             ],
             [
              0.2222222222222222,
              "#7201a8"
             ],
             [
              0.3333333333333333,
              "#9c179e"
             ],
             [
              0.4444444444444444,
              "#bd3786"
             ],
             [
              0.5555555555555556,
              "#d8576b"
             ],
             [
              0.6666666666666666,
              "#ed7953"
             ],
             [
              0.7777777777777778,
              "#fb9f3a"
             ],
             [
              0.8888888888888888,
              "#fdca26"
             ],
             [
              1,
              "#f0f921"
             ]
            ],
            "type": "histogram2dcontour"
           }
          ],
          "mesh3d": [
           {
            "colorbar": {
             "outlinewidth": 0,
             "ticks": ""
            },
            "type": "mesh3d"
           }
          ],
          "parcoords": [
           {
            "line": {
             "colorbar": {
              "outlinewidth": 0,
              "ticks": ""
             }
            },
            "type": "parcoords"
           }
          ],
          "pie": [
           {
            "automargin": true,
            "type": "pie"
           }
          ],
          "scatter": [
           {
            "fillpattern": {
             "fillmode": "overlay",
             "size": 10,
             "solidity": 0.2
            },
            "type": "scatter"
           }
          ],
          "scatter3d": [
           {
            "line": {
             "colorbar": {
              "outlinewidth": 0,
              "ticks": ""
             }
            },
            "marker": {
             "colorbar": {
              "outlinewidth": 0,
              "ticks": ""
             }
            },
            "type": "scatter3d"
           }
          ],
          "scattercarpet": [
           {
            "marker": {
             "colorbar": {
              "outlinewidth": 0,
              "ticks": ""
             }
            },
            "type": "scattercarpet"
           }
          ],
          "scattergeo": [
           {
            "marker": {
             "colorbar": {
              "outlinewidth": 0,
              "ticks": ""
             }
            },
            "type": "scattergeo"
           }
          ],
          "scattergl": [
           {
            "marker": {
             "colorbar": {
              "outlinewidth": 0,
              "ticks": ""
             }
            },
            "type": "scattergl"
           }
          ],
          "scattermapbox": [
           {
            "marker": {
             "colorbar": {
              "outlinewidth": 0,
              "ticks": ""
             }
            },
            "type": "scattermapbox"
           }
          ],
          "scatterpolar": [
           {
            "marker": {
             "colorbar": {
              "outlinewidth": 0,
              "ticks": ""
             }
            },
            "type": "scatterpolar"
           }
          ],
          "scatterpolargl": [
           {
            "marker": {
             "colorbar": {
              "outlinewidth": 0,
              "ticks": ""
             }
            },
            "type": "scatterpolargl"
           }
          ],
          "scatterternary": [
           {
            "marker": {
             "colorbar": {
              "outlinewidth": 0,
              "ticks": ""
             }
            },
            "type": "scatterternary"
           }
          ],
          "surface": [
           {
            "colorbar": {
             "outlinewidth": 0,
             "ticks": ""
            },
            "colorscale": [
             [
              0,
              "#0d0887"
             ],
             [
              0.1111111111111111,
              "#46039f"
             ],
             [
              0.2222222222222222,
              "#7201a8"
             ],
             [
              0.3333333333333333,
              "#9c179e"
             ],
             [
              0.4444444444444444,
              "#bd3786"
             ],
             [
              0.5555555555555556,
              "#d8576b"
             ],
             [
              0.6666666666666666,
              "#ed7953"
             ],
             [
              0.7777777777777778,
              "#fb9f3a"
             ],
             [
              0.8888888888888888,
              "#fdca26"
             ],
             [
              1,
              "#f0f921"
             ]
            ],
            "type": "surface"
           }
          ],
          "table": [
           {
            "cells": {
             "fill": {
              "color": "#EBF0F8"
             },
             "line": {
              "color": "white"
             }
            },
            "header": {
             "fill": {
              "color": "#C8D4E3"
             },
             "line": {
              "color": "white"
             }
            },
            "type": "table"
           }
          ]
         },
         "layout": {
          "annotationdefaults": {
           "arrowcolor": "#2a3f5f",
           "arrowhead": 0,
           "arrowwidth": 1
          },
          "autotypenumbers": "strict",
          "coloraxis": {
           "colorbar": {
            "outlinewidth": 0,
            "ticks": ""
           }
          },
          "colorscale": {
           "diverging": [
            [
             0,
             "#8e0152"
            ],
            [
             0.1,
             "#c51b7d"
            ],
            [
             0.2,
             "#de77ae"
            ],
            [
             0.3,
             "#f1b6da"
            ],
            [
             0.4,
             "#fde0ef"
            ],
            [
             0.5,
             "#f7f7f7"
            ],
            [
             0.6,
             "#e6f5d0"
            ],
            [
             0.7,
             "#b8e186"
            ],
            [
             0.8,
             "#7fbc41"
            ],
            [
             0.9,
             "#4d9221"
            ],
            [
             1,
             "#276419"
            ]
           ],
           "sequential": [
            [
             0,
             "#0d0887"
            ],
            [
             0.1111111111111111,
             "#46039f"
            ],
            [
             0.2222222222222222,
             "#7201a8"
            ],
            [
             0.3333333333333333,
             "#9c179e"
            ],
            [
             0.4444444444444444,
             "#bd3786"
            ],
            [
             0.5555555555555556,
             "#d8576b"
            ],
            [
             0.6666666666666666,
             "#ed7953"
            ],
            [
             0.7777777777777778,
             "#fb9f3a"
            ],
            [
             0.8888888888888888,
             "#fdca26"
            ],
            [
             1,
             "#f0f921"
            ]
           ],
           "sequentialminus": [
            [
             0,
             "#0d0887"
            ],
            [
             0.1111111111111111,
             "#46039f"
            ],
            [
             0.2222222222222222,
             "#7201a8"
            ],
            [
             0.3333333333333333,
             "#9c179e"
            ],
            [
             0.4444444444444444,
             "#bd3786"
            ],
            [
             0.5555555555555556,
             "#d8576b"
            ],
            [
             0.6666666666666666,
             "#ed7953"
            ],
            [
             0.7777777777777778,
             "#fb9f3a"
            ],
            [
             0.8888888888888888,
             "#fdca26"
            ],
            [
             1,
             "#f0f921"
            ]
           ]
          },
          "colorway": [
           "#636efa",
           "#EF553B",
           "#00cc96",
           "#ab63fa",
           "#FFA15A",
           "#19d3f3",
           "#FF6692",
           "#B6E880",
           "#FF97FF",
           "#FECB52"
          ],
          "font": {
           "color": "#2a3f5f"
          },
          "geo": {
           "bgcolor": "white",
           "lakecolor": "white",
           "landcolor": "#E5ECF6",
           "showlakes": true,
           "showland": true,
           "subunitcolor": "white"
          },
          "hoverlabel": {
           "align": "left"
          },
          "hovermode": "closest",
          "mapbox": {
           "style": "light"
          },
          "paper_bgcolor": "white",
          "plot_bgcolor": "#E5ECF6",
          "polar": {
           "angularaxis": {
            "gridcolor": "white",
            "linecolor": "white",
            "ticks": ""
           },
           "bgcolor": "#E5ECF6",
           "radialaxis": {
            "gridcolor": "white",
            "linecolor": "white",
            "ticks": ""
           }
          },
          "scene": {
           "xaxis": {
            "backgroundcolor": "#E5ECF6",
            "gridcolor": "white",
            "gridwidth": 2,
            "linecolor": "white",
            "showbackground": true,
            "ticks": "",
            "zerolinecolor": "white"
           },
           "yaxis": {
            "backgroundcolor": "#E5ECF6",
            "gridcolor": "white",
            "gridwidth": 2,
            "linecolor": "white",
            "showbackground": true,
            "ticks": "",
            "zerolinecolor": "white"
           },
           "zaxis": {
            "backgroundcolor": "#E5ECF6",
            "gridcolor": "white",
            "gridwidth": 2,
            "linecolor": "white",
            "showbackground": true,
            "ticks": "",
            "zerolinecolor": "white"
           }
          },
          "shapedefaults": {
           "line": {
            "color": "#2a3f5f"
           }
          },
          "ternary": {
           "aaxis": {
            "gridcolor": "white",
            "linecolor": "white",
            "ticks": ""
           },
           "baxis": {
            "gridcolor": "white",
            "linecolor": "white",
            "ticks": ""
           },
           "bgcolor": "#E5ECF6",
           "caxis": {
            "gridcolor": "white",
            "linecolor": "white",
            "ticks": ""
           }
          },
          "title": {
           "x": 0.05
          },
          "xaxis": {
           "automargin": true,
           "gridcolor": "white",
           "linecolor": "white",
           "ticks": "",
           "title": {
            "standoff": 15
           },
           "zerolinecolor": "white",
           "zerolinewidth": 2
          },
          "yaxis": {
           "automargin": true,
           "gridcolor": "white",
           "linecolor": "white",
           "ticks": "",
           "title": {
            "standoff": 15
           },
           "zerolinecolor": "white",
           "zerolinewidth": 2
          }
         }
        },
        "title": {
         "text": "Mean and Median Ratings Over Time"
        },
        "width": 1000,
        "xaxis": {
         "anchor": "y",
         "domain": [
          0,
          0.2888888888888889
         ],
         "matches": "x4",
         "showticklabels": false,
         "title": {
          "text": "Year"
         }
        },
        "xaxis2": {
         "anchor": "y2",
         "domain": [
          0.35555555555555557,
          0.6444444444444445
         ],
         "matches": "x5",
         "showticklabels": false
        },
        "xaxis3": {
         "anchor": "y3",
         "domain": [
          0.7111111111111111,
          1
         ],
         "matches": "x6",
         "showticklabels": false
        },
        "xaxis4": {
         "anchor": "y4",
         "domain": [
          0,
          0.2888888888888889
         ]
        },
        "xaxis5": {
         "anchor": "y5",
         "domain": [
          0.35555555555555557,
          0.6444444444444445
         ]
        },
        "xaxis6": {
         "anchor": "y6",
         "domain": [
          0.7111111111111111,
          1
         ]
        },
        "yaxis": {
         "anchor": "x",
         "domain": [
          0.625,
          1
         ],
         "title": {
          "text": "Rating"
         }
        },
        "yaxis2": {
         "anchor": "x2",
         "domain": [
          0.625,
          1
         ]
        },
        "yaxis3": {
         "anchor": "x3",
         "domain": [
          0.625,
          1
         ]
        },
        "yaxis4": {
         "anchor": "x4",
         "domain": [
          0,
          0.375
         ]
        },
        "yaxis5": {
         "anchor": "x5",
         "domain": [
          0,
          0.375
         ]
        },
        "yaxis6": {
         "anchor": "x6",
         "domain": [
          0,
          0.375
         ]
        }
       }
      }
     },
     "metadata": {},
     "output_type": "display_data"
    }
   ],
   "source": [
    "global_pres.plot_median_mean_evolution_time_ratings(df_ratings_no_text,SAVING_FOLDER+'/ratings_distribution')"
   ]
  },
  {
   "cell_type": "markdown",
   "metadata": {},
   "source": []
  },
  {
   "cell_type": "markdown",
   "metadata": {},
   "source": [
    "## ABV and style analysis\n",
    "#### ABV analysis\n",
    "In this section we'll continue by analyzing the popularity of ABV and style in the world and we'll also study how these have evolved over time."
   ]
  },
  {
   "cell_type": "code",
   "execution_count": null,
   "metadata": {},
   "outputs": [],
   "source": [
    "# Define some useful variables\n",
    "MAX_ABV = 20\n",
    "NUMBER_OF_SAMPLES_ABV = 201\n",
    "MIN_NUMBER_OF_RATING = 250\n",
    "\n",
    "# Process the data\n",
    "beer_ratings = []\n",
    "linspace = np.linspace(0, MAX_ABV, NUMBER_OF_SAMPLES_ABV)\n",
    "for year in sorted(df_ratings_no_text['date'].dt.year.unique()):\n",
    "    # Filter the data by the year\n",
    "    df_year = df_ratings_no_text[df_ratings_no_text['year'] == year]\n",
    "    \n",
    "    # Iterate within the ABV range\n",
    "    for i in range(len(linspace) - 1):\n",
    "        # Filter the data\n",
    "        min_abv = round(linspace[i], 2)\n",
    "        max_abv = round(linspace[i + 1], 2)\n",
    "\n",
    "        # Compute the matrics\n",
    "        filtered = df_year[(df_year['abv'] >= min_abv) & (df_year['abv'] < max_abv)]\n",
    "        ratings = filtered['rating'].mean()\n",
    "        nbr_ratings = filtered['rating'].count()\n",
    "\n",
    "        # Append the data\n",
    "        if nbr_ratings > MIN_NUMBER_OF_RATING:\n",
    "            beer_ratings.append({'year': year, 'abv': (min_abv+max_abv)/2, 'rating': ratings, 'nbr_ratings': nbr_ratings})\n",
    "\n",
    "# Convert to DataFrame\n",
    "beer_ratings = pd.DataFrame(beer_ratings)\n",
    "\n",
    "# Do the plot\n",
    "fig = px.scatter(beer_ratings, x='abv', y='rating', size='nbr_ratings', hover_name='abv',animation_frame='year', labels={'abv': 'ABV:', 'rating': 'Rating:', 'nbr_ratings': 'Number of ratings:'},range_x=[0, 20], range_y=[2.25, 4.75])\n",
    "fig.update_traces(marker=dict(line=dict(width=1, color='DarkSlateGrey')))\n",
    "fig.update_layout(showlegend=False)\n",
    "fig.update_xaxes(title_text='ABV')\n",
    "fig.update_yaxes(title_text='Rating')\n",
    "fig.show()"
   ]
  },
  {
   "cell_type": "code",
   "execution_count": null,
   "metadata": {},
   "outputs": [],
   "source": [
    "# Compute the metrics\n",
    "avg_abv = df_ratings_no_text.groupby(df_ratings_no_text['date'].dt.year).agg({'abv': 'mean'}).reset_index().rename(columns={'date': 'year'})\n",
    "corr = avg_abv['year'].corr(avg_abv['abv'], method='spearman')\n",
    "\n",
    "# Plot the data\n",
    "plots_values_over_time({'average_abv': avg_abv}, 'year', 'abv', 'Year', 'Average ABV Over Years', 'Average ABV')"
   ]
  },
  {
   "cell_type": "code",
   "execution_count": null,
   "metadata": {},
   "outputs": [],
   "source": [
    "# Create the variables\n",
    "row_no_US = []\n",
    "row_US = []\n",
    "\n",
    "# Iterate over the years\n",
    "for year in df_ratings_no_text['date'].dt.year.unique():\n",
    "    df_state_US = df_ratings_no_text[(df_ratings_no_text['date'].dt.year == year) & (df_ratings_no_text['country_brewery'] == 'United States')].groupby('state_brewery').agg({'abv': 'mean'}).reset_index()\n",
    "    row_US += [{'year': year, 'location': state, 'avg_abv': abv} for state, abv in zip(df_state_US['state_brewery'], df_state_US['abv'])]\n",
    "\n",
    "    df_state_no_US = df_ratings_no_text[(df_ratings_no_text['date'].dt.year == year) & (df_ratings_no_text['country_brewery'] != 'United States')].groupby('country_brewery').agg({'abv': 'mean'}).reset_index()\n",
    "    row_no_US += [{'year': year, 'location': state, 'avg_abv': abv} for state, abv in zip(df_state_no_US['country_brewery'], df_state_no_US['abv'])]\n",
    "df_states_no_US = pd.DataFrame(row_no_US)\n",
    "df_states_US = pd.DataFrame(row_US)\n",
    "\n",
    "# Filter the data\n",
    "nbr_years_considered = df_states_no_US.groupby('location').agg({'year': 'count'}).reset_index()\n",
    "nbr_years_considered = nbr_years_considered[nbr_years_considered['year'] == nbr_years_considered['year'].max()]\n",
    "df_states_no_US = df_states_no_US[df_states_no_US['location'].isin(nbr_years_considered['location'])]\n",
    "\n",
    "# Filter the data\n",
    "nbr_years_considered = df_states_US.groupby('location').agg({'year': 'count'}).reset_index()\n",
    "nbr_years_considered = nbr_years_considered[nbr_years_considered['year'] == nbr_years_considered['year'].max()]\n",
    "df_states_US = df_states_US[df_states_US['location'].isin(nbr_years_considered['location'])]\n",
    "\n",
    "# Define the options\n",
    "options = {\n",
    "    'title': 'Average ABV by State Over the Years',\n",
    "    'time_range': range(df_ratings_no_text['date'].dt.year.min(), df_ratings_no_text['date'].dt.year.max() + 1),\n",
    "    'time_label': 'year',\n",
    "    'location_label': 'location',\n",
    "    'value_label': 'avg_abv',\n",
    "    'range_color': [4, 8],\n",
    "    'color_scale': 'Viridis'\n",
    "}\n",
    "# Display the plot\n",
    "plot_map_time(df_states_no_US, df_states_US, options)"
   ]
  },
  {
   "cell_type": "markdown",
   "metadata": {},
   "source": [
    "#### Style analysis\n",
    "Here we are going to do our analysis on the style"
   ]
  },
  {
   "cell_type": "code",
   "execution_count": null,
   "metadata": {},
   "outputs": [],
   "source": [
    "# Choose the number of elements to display\n",
    "number_of_elements_displayed = 19\n",
    "\n",
    "# Do the styling computations\n",
    "styles_counted = df_ratings_no_text['style'].value_counts().reset_index()\n",
    "top_styles = styles_counted.head(number_of_elements_displayed).copy()\n",
    "top_styles.loc[len(top_styles)] = {'style': 'Other', 'count': styles_counted['count'][number_of_elements_displayed:].sum()}\n",
    "\n",
    "# Display a pie chart with gradient colors\n",
    "fig = px.pie(top_styles, values='count', names='style', title='Distribution of the styles of beers', color_discrete_sequence=px.colors.sequential.Viridis, hole=0.6)\n",
    "fig.update_traces(textinfo='label+percent', textfont_size=14)\n",
    "fig.show()"
   ]
  },
  {
   "cell_type": "code",
   "execution_count": null,
   "metadata": {},
   "outputs": [],
   "source": [
    "# Find the countries style preferences\n",
    "countries_style_preferences = {}\n",
    "unique_styles = set()\n",
    "for country in countries_min_number_reviews_users:\n",
    "    # Filter the data\n",
    "    df_country = df_ratings_no_text[df_ratings_no_text['country_user'] == country]\n",
    "    \n",
    "    # Compute the style preferences\n",
    "    style_preferences = df_country['style'].value_counts().reset_index().head(1).iloc[0]['style']\n",
    "\n",
    "    # Add into countries_style_preferences the data\n",
    "    countries_style_preferences[country] = style_preferences\n",
    "    unique_styles.add(style_preferences)"
   ]
  },
  {
   "cell_type": "code",
   "execution_count": null,
   "metadata": {},
   "outputs": [],
   "source": [
    "# Create a network graph\n",
    "G = nx.Graph()\n",
    "\n",
    "# Add a node for each country\n",
    "for style in unique_styles:\n",
    "    G.add_node(style)\n",
    "\n",
    "# Add a node for each country and connect it to the style\n",
    "for country, style in countries_style_preferences.items():\n",
    "    G.add_node(country)\n",
    "    G.add_edge(country, style, weight=1)\n",
    "\n",
    "# Plot the network with plot\n",
    "net = Network(height='750px', width='100%', notebook=True)\n",
    "net.from_nx(G)\n",
    "net.repulsion(node_distance=150)  # Adjust the node distance for closer visualization\n",
    "net.show('docs/plots/beer_styles_networl.html');"
   ]
  },
  {
   "cell_type": "code",
   "execution_count": null,
   "metadata": {},
   "outputs": [],
   "source": [
    "import plotly.graph_objects as go\n",
    "import pandas as pd\n",
    "\n",
    "# Prepare data for the chord diagram\n",
    "countries = list(countries_style_preferences.keys())\n",
    "styles = list(unique_styles)\n",
    "\n",
    "# Combine countries and styles for all_nodes\n",
    "all_nodes = countries + styles\n",
    "node_indices = {node: idx for idx, node in enumerate(all_nodes)}\n",
    "\n",
    "# Create the source and target lists for the chord diagram\n",
    "sources = []\n",
    "targets = []\n",
    "values = []\n",
    "\n",
    "for country, style in countries_style_preferences.items():\n",
    "    sources.append(node_indices[country])\n",
    "    targets.append(node_indices[style])\n",
    "    values.append(1)  # Set weight for each connection\n",
    "\n",
    "# Create a color palette for nodes\n",
    "num_countries = len(countries)\n",
    "num_styles = len(styles)\n",
    "colors = [f\"rgba(0, 128, 255, 0.8)\" for _ in range(num_countries)] + [f\"rgba(255, 128, 0, 0.8)\" for _ in range(num_styles)]\n",
    "\n",
    "# Assign unique colors to each cluster of connections\n",
    "link_colors = []\n",
    "style_color_map = {style: f\"rgba({max(0, 255 - i * 30)}, {min(255, 100 + i * 30)}, {min(255, 150 + i * 20)}, 0.6)\" for i, style in enumerate(styles)}\n",
    "for source, target in zip(sources, targets):\n",
    "    link_colors.append(style_color_map[all_nodes[target]])\n",
    "\n",
    "# Create the chord diagram using Plotly\n",
    "fig = go.Figure(\n",
    "    data=[\n",
    "        go.Sankey(\n",
    "            node=dict(\n",
    "                pad=20,\n",
    "                thickness=30,\n",
    "                line=dict(color=\"black\", width=1),\n",
    "                label=all_nodes,\n",
    "                color=colors,\n",
    "            ),\n",
    "            link=dict(\n",
    "                source=sources,  # Indices of source nodes\n",
    "                target=targets,  # Indices of target nodes\n",
    "                value=values,    # Values for connections\n",
    "                color=link_colors,\n",
    "                hovertemplate='%{source.label} → %{target.label}<extra></extra>',\n",
    "            ),\n",
    "        )\n",
    "    ]\n",
    ")\n",
    "\n",
    "# Update layout for better visualization\n",
    "fig.update_layout(\n",
    "    title_text=\"Countries and Their Preferred Beer Styles\",\n",
    "    font_size=12,\n",
    "    title_font_size=18,\n",
    "    title_font_color=\"darkblue\",\n",
    "    title_x=0.5,\n",
    "    height=900,\n",
    "    width=1000,\n",
    "    plot_bgcolor=\"rgba(240, 240, 240, 0.9)\",\n",
    ")\n",
    "\n",
    "# Save the plot to an HTML file\n",
    "fig.write_html(\"docs/plots/beer_styles_chord_diagram.html\")\n",
    "\n",
    "# Show the plot\n",
    "fig.show()\n"
   ]
  },
  {
   "cell_type": "code",
   "execution_count": null,
   "metadata": {},
   "outputs": [],
   "source": [
    "# Could be interesting to show the evolution of the style preferences over the years with the network graph"
   ]
  },
  {
   "cell_type": "code",
   "execution_count": null,
   "metadata": {},
   "outputs": [],
   "source": [
    "# Prepare the data\n",
    "all_styles = df_ratings_no_text['style'].unique()\n",
    "\n",
    "# Create a dataframe with the top_10_styles_list elements as columns\n",
    "row = []\n",
    "for year in sorted(df_ratings_filtered['date'].dt.year.unique()):\n",
    "    # Get the data for the year\n",
    "    df_year = df_ratings_filtered[df_ratings_filtered['date'].dt.year == year]\n",
    "\n",
    "    # Compute the style preferences\n",
    "    style_preferences = df_year['style'].value_counts().reset_index().head(10)\n",
    "\n",
    "    # Compute the ABV for the top 10 styles\n",
    "    for style in style_preferences['style'].values:\n",
    "        # Get the data\n",
    "        df_style = df_year[df_year['style'] == style]\n",
    "\n",
    "        # Compute the average ABV\n",
    "        avg_abv = df_style['abv'].mean()\n",
    "\n",
    "        # Append the data\n",
    "        row.append({'year': year, 'style': style, 'avg_abv': avg_abv, 'count': style_preferences[style_preferences['style'] == style]['count'].values[0]})\n",
    "\n",
    "# Create the dataframe\n",
    "df_style_avg_abv = pd.DataFrame(row)"
   ]
  },
  {
   "cell_type": "code",
   "execution_count": null,
   "metadata": {},
   "outputs": [],
   "source": [
    "# Create the plot with the slider for the years\n",
    "fig = px.bar(df_style_avg_abv, x='style', y='count', animation_frame='year', title='Top 10 styles over the years', range_y=[0, 100000], color='avg_abv', range_color=[0, 10], color_continuous_scale='Blues')\n",
    "# Use log scale for the y-axis\n",
    "fig.update_xaxes(title_text='Style')\n",
    "fig.update_yaxes(title_text='Number of ratings')\n",
    "fig.show()"
   ]
  },
  {
   "cell_type": "code",
   "execution_count": null,
   "metadata": {},
   "outputs": [],
   "source": [
    "# Prepare the data\n",
    "all_styles = df_ratings_no_text['style'].unique()\n",
    "\n",
    "# Create a dataframe with the top_10_styles_list elements as columns\n",
    "nbr_ratings_per_style = pd.DataFrame(columns=['year'] + all_styles)\n",
    "for year in sorted(df_ratings_filtered['date'].dt.year.unique()):\n",
    "    # Get the data for the year\n",
    "    df_year = df_ratings_filtered[df_ratings_filtered['date'].dt.year <= year]\n",
    "\n",
    "    # Compute the number of ratings per style\n",
    "    styles_counted = df_year['style'].value_counts().reset_index()\n",
    "\n",
    "    # Create the dictionary\n",
    "    row = {style: count for style, count in zip(styles_counted['style'], styles_counted['count'])}\n",
    "    row['year'] = year\n",
    "\n",
    "    # Add the row to the dataframe\n",
    "    nbr_ratings_per_style = pd.concat([nbr_ratings_per_style, pd.DataFrame([row])])\n",
    "\n",
    "# Fill the missing values and set the index\n",
    "nbr_ratings_per_style = nbr_ratings_per_style.fillna(0).set_index('year')\n",
    "\n",
    "# Set to integer the types\n",
    "nbr_ratings_per_style = nbr_ratings_per_style.astype(int)"
   ]
  },
  {
   "cell_type": "code",
   "execution_count": null,
   "metadata": {},
   "outputs": [],
   "source": [
    "# Display race bar chart\n",
    "bcr.bar_chart_race(nbr_rating_per_style, period_length=1000, title='Total number of ratings per beer style', n_bars=10, steps_per_period=50, figsize=(8, 6), cmap='tab20', period_fmt='Year: {x}')"
   ]
  },
  {
   "cell_type": "markdown",
   "metadata": {},
   "source": [
    "## Brewery popularity analysis\n",
    "In this section we are going to see whether user likes a lot beers from specific breweries from specific countries and in general we'll focus on understanding the impact of breweries on the popularity of beers."
   ]
  },
  {
   "cell_type": "code",
   "execution_count": null,
   "metadata": {},
   "outputs": [],
   "source": []
  }
 ],
 "metadata": {
  "kernelspec": {
   "display_name": ".venv",
   "language": "python",
   "name": "python3"
  },
  "language_info": {
   "codemirror_mode": {
    "name": "ipython",
    "version": 3
   },
   "file_extension": ".py",
   "mimetype": "text/x-python",
   "name": "python",
   "nbconvert_exporter": "python",
   "pygments_lexer": "ipython3",
   "version": "3.9.20"
  }
 },
 "nbformat": 4,
 "nbformat_minor": 2
}
