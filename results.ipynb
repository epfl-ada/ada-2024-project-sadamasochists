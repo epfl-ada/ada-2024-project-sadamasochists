{
 "cells": [
  {
   "cell_type": "markdown",
   "metadata": {},
   "source": [
    "# Project\n",
    "## Include Libraries and initial settings\n",
    "### Import all the libraries"
   ]
  },
  {
   "cell_type": "code",
   "execution_count": 1,
   "metadata": {},
   "outputs": [],
   "source": [
    "# Import all the libraries\n",
    "import pandas as pd\n",
    "import plotly.express as px\n",
    "from src.utils.plots import *\n",
    "\n",
    "# Set some internal settings for plotly\n",
    "px.defaults.width = 800\n",
    "px.defaults.height = 600\n",
    "px.defaults.template = 'plotly_white'\n",
    "\n",
    "# Define the folder\n",
    "FOLDER = 'data/processed/'\n",
    "SAVING_FOLDER = 'docs/plots/'"
   ]
  },
  {
   "cell_type": "markdown",
   "metadata": {},
   "source": [
    "### Load and filter the data\n",
    "#### Load the data"
   ]
  },
  {
   "cell_type": "code",
   "execution_count": 2,
   "metadata": {},
   "outputs": [],
   "source": [
    "# Load the data\n",
    "df_beers = pd.read_parquet(FOLDER + 'beers.pq')\n",
    "df_breweries = pd.read_parquet(FOLDER + 'breweries.pq')\n",
    "df_users = pd.read_parquet(FOLDER + 'users.pq')\n",
    "df_ratings_no_text = pd.read_parquet(FOLDER + 'ratings_no_text.pq')"
   ]
  },
  {
   "cell_type": "markdown",
   "metadata": {},
   "source": [
    "#### Filter the data"
   ]
  },
  {
   "cell_type": "code",
   "execution_count": 3,
   "metadata": {},
   "outputs": [],
   "source": [
    "df_ratings_no_text = df_ratings_no_text[df_ratings_no_text['date'].dt.year>=2002]"
   ]
  },
  {
   "cell_type": "markdown",
   "metadata": {},
   "source": [
    "## Data presentation\n",
    "Let's take a look at the data we have in the dataset."
   ]
  },
  {
   "cell_type": "code",
   "execution_count": 4,
   "metadata": {},
   "outputs": [
    {
     "data": {
      "text/html": [
       "<div>\n",
       "<style scoped>\n",
       "    .dataframe tbody tr th:only-of-type {\n",
       "        vertical-align: middle;\n",
       "    }\n",
       "\n",
       "    .dataframe tbody tr th {\n",
       "        vertical-align: top;\n",
       "    }\n",
       "\n",
       "    .dataframe thead th {\n",
       "        text-align: right;\n",
       "    }\n",
       "</style>\n",
       "<table border=\"1\" class=\"dataframe\">\n",
       "  <thead>\n",
       "    <tr style=\"text-align: right;\">\n",
       "      <th></th>\n",
       "      <th>beer_id</th>\n",
       "      <th>beer_name</th>\n",
       "      <th>brewery_id</th>\n",
       "      <th>brewery_name</th>\n",
       "      <th>style</th>\n",
       "      <th>abv</th>\n",
       "    </tr>\n",
       "  </thead>\n",
       "  <tbody>\n",
       "    <tr>\n",
       "      <th>0</th>\n",
       "      <td>410549</td>\n",
       "      <td>33 Export (Gabon)</td>\n",
       "      <td>3198</td>\n",
       "      <td>Sobraga</td>\n",
       "      <td>Pale Lager</td>\n",
       "      <td>5.0</td>\n",
       "    </tr>\n",
       "    <tr>\n",
       "      <th>1</th>\n",
       "      <td>105273</td>\n",
       "      <td>Castel Beer (Gabon)</td>\n",
       "      <td>3198</td>\n",
       "      <td>Sobraga</td>\n",
       "      <td>Pale Lager</td>\n",
       "      <td>5.2</td>\n",
       "    </tr>\n",
       "    <tr>\n",
       "      <th>2</th>\n",
       "      <td>19445</td>\n",
       "      <td>Régab</td>\n",
       "      <td>3198</td>\n",
       "      <td>Sobraga</td>\n",
       "      <td>Pale Lager</td>\n",
       "      <td>4.5</td>\n",
       "    </tr>\n",
       "    <tr>\n",
       "      <th>3</th>\n",
       "      <td>155699</td>\n",
       "      <td>Ards Bally Black Stout</td>\n",
       "      <td>13538</td>\n",
       "      <td>Ards Brewing Co.</td>\n",
       "      <td>Stout</td>\n",
       "      <td>4.6</td>\n",
       "    </tr>\n",
       "    <tr>\n",
       "      <th>4</th>\n",
       "      <td>239097</td>\n",
       "      <td>Ards Belfast 366</td>\n",
       "      <td>13538</td>\n",
       "      <td>Ards Brewing Co.</td>\n",
       "      <td>Golden Ale/Blond Ale</td>\n",
       "      <td>4.2</td>\n",
       "    </tr>\n",
       "  </tbody>\n",
       "</table>\n",
       "</div>"
      ],
      "text/plain": [
       "   beer_id               beer_name  brewery_id      brewery_name  \\\n",
       "0   410549       33 Export (Gabon)        3198           Sobraga   \n",
       "1   105273     Castel Beer (Gabon)        3198           Sobraga   \n",
       "2    19445                   Régab        3198           Sobraga   \n",
       "3   155699  Ards Bally Black Stout       13538  Ards Brewing Co.   \n",
       "4   239097        Ards Belfast 366       13538  Ards Brewing Co.   \n",
       "\n",
       "                  style  abv  \n",
       "0            Pale Lager  5.0  \n",
       "1            Pale Lager  5.2  \n",
       "2            Pale Lager  4.5  \n",
       "3                 Stout  4.6  \n",
       "4  Golden Ale/Blond Ale  4.2  "
      ]
     },
     "execution_count": 4,
     "metadata": {},
     "output_type": "execute_result"
    }
   ],
   "source": [
    "df_beers.head(5)"
   ]
  },
  {
   "cell_type": "code",
   "execution_count": 5,
   "metadata": {},
   "outputs": [
    {
     "name": "stdout",
     "output_type": "stream",
     "text": [
      "In the platform there are 399987 different beers\n"
     ]
    }
   ],
   "source": [
    "print(f\"In the platform there are {df_beers.shape[0]} different beers\")"
   ]
  },
  {
   "cell_type": "code",
   "execution_count": 6,
   "metadata": {},
   "outputs": [
    {
     "data": {
      "text/html": [
       "<div>\n",
       "<style scoped>\n",
       "    .dataframe tbody tr th:only-of-type {\n",
       "        vertical-align: middle;\n",
       "    }\n",
       "\n",
       "    .dataframe tbody tr th {\n",
       "        vertical-align: top;\n",
       "    }\n",
       "\n",
       "    .dataframe thead th {\n",
       "        text-align: right;\n",
       "    }\n",
       "</style>\n",
       "<table border=\"1\" class=\"dataframe\">\n",
       "  <thead>\n",
       "    <tr style=\"text-align: right;\">\n",
       "      <th></th>\n",
       "      <th>brewery_id</th>\n",
       "      <th>brewery_name</th>\n",
       "      <th>country_brewery</th>\n",
       "      <th>state_brewery</th>\n",
       "    </tr>\n",
       "  </thead>\n",
       "  <tbody>\n",
       "    <tr>\n",
       "      <th>0</th>\n",
       "      <td>3198</td>\n",
       "      <td>Sobraga</td>\n",
       "      <td>Gabon</td>\n",
       "      <td>None</td>\n",
       "    </tr>\n",
       "    <tr>\n",
       "      <th>1</th>\n",
       "      <td>13538</td>\n",
       "      <td>Ards Brewing Co.</td>\n",
       "      <td>United Kingdom</td>\n",
       "      <td>None</td>\n",
       "    </tr>\n",
       "    <tr>\n",
       "      <th>2</th>\n",
       "      <td>22304</td>\n",
       "      <td>Barrahooley Craft Brewery</td>\n",
       "      <td>United Kingdom</td>\n",
       "      <td>None</td>\n",
       "    </tr>\n",
       "    <tr>\n",
       "      <th>3</th>\n",
       "      <td>22818</td>\n",
       "      <td>Boundary</td>\n",
       "      <td>United Kingdom</td>\n",
       "      <td>None</td>\n",
       "    </tr>\n",
       "    <tr>\n",
       "      <th>4</th>\n",
       "      <td>24297</td>\n",
       "      <td>Brewbot Belfast</td>\n",
       "      <td>United Kingdom</td>\n",
       "      <td>None</td>\n",
       "    </tr>\n",
       "  </tbody>\n",
       "</table>\n",
       "</div>"
      ],
      "text/plain": [
       "   brewery_id               brewery_name country_brewery state_brewery\n",
       "0        3198                    Sobraga           Gabon          None\n",
       "1       13538           Ards Brewing Co.  United Kingdom          None\n",
       "2       22304  Barrahooley Craft Brewery  United Kingdom          None\n",
       "3       22818                   Boundary  United Kingdom          None\n",
       "4       24297            Brewbot Belfast  United Kingdom          None"
      ]
     },
     "execution_count": 6,
     "metadata": {},
     "output_type": "execute_result"
    }
   ],
   "source": [
    "df_breweries.head(5)"
   ]
  },
  {
   "cell_type": "code",
   "execution_count": 7,
   "metadata": {},
   "outputs": [
    {
     "name": "stdout",
     "output_type": "stream",
     "text": [
      "In the platform there are 24189 different breweries\n"
     ]
    }
   ],
   "source": [
    "print(f\"In the platform there are {df_breweries.shape[0]} different breweries\")"
   ]
  },
  {
   "cell_type": "code",
   "execution_count": 8,
   "metadata": {},
   "outputs": [
    {
     "data": {
      "text/html": [
       "<div>\n",
       "<style scoped>\n",
       "    .dataframe tbody tr th:only-of-type {\n",
       "        vertical-align: middle;\n",
       "    }\n",
       "\n",
       "    .dataframe tbody tr th {\n",
       "        vertical-align: top;\n",
       "    }\n",
       "\n",
       "    .dataframe thead th {\n",
       "        text-align: right;\n",
       "    }\n",
       "</style>\n",
       "<table border=\"1\" class=\"dataframe\">\n",
       "  <thead>\n",
       "    <tr style=\"text-align: right;\">\n",
       "      <th></th>\n",
       "      <th>user_id</th>\n",
       "      <th>user_name</th>\n",
       "      <th>joined</th>\n",
       "      <th>country_user</th>\n",
       "      <th>state_user</th>\n",
       "    </tr>\n",
       "  </thead>\n",
       "  <tbody>\n",
       "    <tr>\n",
       "      <th>0</th>\n",
       "      <td>175852</td>\n",
       "      <td>Manslow</td>\n",
       "      <td>2012-05-20 10:00:00</td>\n",
       "      <td>Poland</td>\n",
       "      <td>None</td>\n",
       "    </tr>\n",
       "    <tr>\n",
       "      <th>1</th>\n",
       "      <td>442761</td>\n",
       "      <td>MAGICuenca91</td>\n",
       "      <td>2017-01-10 11:00:00</td>\n",
       "      <td>Spain</td>\n",
       "      <td>None</td>\n",
       "    </tr>\n",
       "    <tr>\n",
       "      <th>2</th>\n",
       "      <td>288889</td>\n",
       "      <td>Sibarh</td>\n",
       "      <td>2013-11-16 11:00:00</td>\n",
       "      <td>Poland</td>\n",
       "      <td>None</td>\n",
       "    </tr>\n",
       "    <tr>\n",
       "      <th>3</th>\n",
       "      <td>250510</td>\n",
       "      <td>fombe89</td>\n",
       "      <td>2013-03-22 11:00:00</td>\n",
       "      <td>Spain</td>\n",
       "      <td>None</td>\n",
       "    </tr>\n",
       "    <tr>\n",
       "      <th>4</th>\n",
       "      <td>122778</td>\n",
       "      <td>kevnic2008</td>\n",
       "      <td>2011-02-02 11:00:00</td>\n",
       "      <td>Germany</td>\n",
       "      <td>None</td>\n",
       "    </tr>\n",
       "  </tbody>\n",
       "</table>\n",
       "</div>"
      ],
      "text/plain": [
       "   user_id     user_name              joined country_user state_user\n",
       "0   175852       Manslow 2012-05-20 10:00:00       Poland       None\n",
       "1   442761  MAGICuenca91 2017-01-10 11:00:00        Spain       None\n",
       "2   288889        Sibarh 2013-11-16 11:00:00       Poland       None\n",
       "3   250510       fombe89 2013-03-22 11:00:00        Spain       None\n",
       "4   122778    kevnic2008 2011-02-02 11:00:00      Germany       None"
      ]
     },
     "execution_count": 8,
     "metadata": {},
     "output_type": "execute_result"
    }
   ],
   "source": [
    "df_users.head(5)"
   ]
  },
  {
   "cell_type": "code",
   "execution_count": 9,
   "metadata": {},
   "outputs": [
    {
     "name": "stdout",
     "output_type": "stream",
     "text": [
      "In the platform there are 50592 different users\n"
     ]
    }
   ],
   "source": [
    "print(f\"In the platform there are {df_users.shape[0]} different users\")"
   ]
  },
  {
   "cell_type": "code",
   "execution_count": 10,
   "metadata": {},
   "outputs": [
    {
     "data": {
      "text/html": [
       "<div>\n",
       "<style scoped>\n",
       "    .dataframe tbody tr th:only-of-type {\n",
       "        vertical-align: middle;\n",
       "    }\n",
       "\n",
       "    .dataframe tbody tr th {\n",
       "        vertical-align: top;\n",
       "    }\n",
       "\n",
       "    .dataframe thead th {\n",
       "        text-align: right;\n",
       "    }\n",
       "</style>\n",
       "<table border=\"1\" class=\"dataframe\">\n",
       "  <thead>\n",
       "    <tr style=\"text-align: right;\">\n",
       "      <th></th>\n",
       "      <th>date</th>\n",
       "      <th>beer_id</th>\n",
       "      <th>user_id</th>\n",
       "      <th>brewery_id</th>\n",
       "      <th>abv</th>\n",
       "      <th>style</th>\n",
       "      <th>rating</th>\n",
       "      <th>palate</th>\n",
       "      <th>taste</th>\n",
       "      <th>appearance</th>\n",
       "      <th>aroma</th>\n",
       "      <th>overall</th>\n",
       "      <th>year</th>\n",
       "      <th>brewery_name</th>\n",
       "      <th>country_brewery</th>\n",
       "      <th>state_brewery</th>\n",
       "      <th>country_user</th>\n",
       "      <th>state_user</th>\n",
       "    </tr>\n",
       "  </thead>\n",
       "  <tbody>\n",
       "    <tr>\n",
       "      <th>0</th>\n",
       "      <td>2016-04-26 12:00:00</td>\n",
       "      <td>410549</td>\n",
       "      <td>175852</td>\n",
       "      <td>3198</td>\n",
       "      <td>5.0</td>\n",
       "      <td>Pale Lager</td>\n",
       "      <td>2.0</td>\n",
       "      <td>2.0</td>\n",
       "      <td>4.0</td>\n",
       "      <td>2.0</td>\n",
       "      <td>4.0</td>\n",
       "      <td>8.0</td>\n",
       "      <td>2016</td>\n",
       "      <td>Sobraga</td>\n",
       "      <td>Gabon</td>\n",
       "      <td>None</td>\n",
       "      <td>Poland</td>\n",
       "      <td>None</td>\n",
       "    </tr>\n",
       "    <tr>\n",
       "      <th>1</th>\n",
       "      <td>2017-02-17 12:00:00</td>\n",
       "      <td>105273</td>\n",
       "      <td>442761</td>\n",
       "      <td>3198</td>\n",
       "      <td>5.2</td>\n",
       "      <td>Pale Lager</td>\n",
       "      <td>1.9</td>\n",
       "      <td>2.0</td>\n",
       "      <td>4.0</td>\n",
       "      <td>2.0</td>\n",
       "      <td>3.0</td>\n",
       "      <td>8.0</td>\n",
       "      <td>2017</td>\n",
       "      <td>Sobraga</td>\n",
       "      <td>Gabon</td>\n",
       "      <td>None</td>\n",
       "      <td>Spain</td>\n",
       "      <td>None</td>\n",
       "    </tr>\n",
       "    <tr>\n",
       "      <th>2</th>\n",
       "      <td>2016-06-24 12:00:00</td>\n",
       "      <td>105273</td>\n",
       "      <td>288889</td>\n",
       "      <td>3198</td>\n",
       "      <td>5.2</td>\n",
       "      <td>Pale Lager</td>\n",
       "      <td>1.6</td>\n",
       "      <td>2.0</td>\n",
       "      <td>3.0</td>\n",
       "      <td>3.0</td>\n",
       "      <td>3.0</td>\n",
       "      <td>5.0</td>\n",
       "      <td>2016</td>\n",
       "      <td>Sobraga</td>\n",
       "      <td>Gabon</td>\n",
       "      <td>None</td>\n",
       "      <td>Poland</td>\n",
       "      <td>None</td>\n",
       "    </tr>\n",
       "    <tr>\n",
       "      <th>3</th>\n",
       "      <td>2016-01-01 12:00:00</td>\n",
       "      <td>105273</td>\n",
       "      <td>250510</td>\n",
       "      <td>3198</td>\n",
       "      <td>5.2</td>\n",
       "      <td>Pale Lager</td>\n",
       "      <td>1.5</td>\n",
       "      <td>1.0</td>\n",
       "      <td>2.0</td>\n",
       "      <td>4.0</td>\n",
       "      <td>3.0</td>\n",
       "      <td>5.0</td>\n",
       "      <td>2016</td>\n",
       "      <td>Sobraga</td>\n",
       "      <td>Gabon</td>\n",
       "      <td>None</td>\n",
       "      <td>Spain</td>\n",
       "      <td>None</td>\n",
       "    </tr>\n",
       "    <tr>\n",
       "      <th>4</th>\n",
       "      <td>2015-10-23 12:00:00</td>\n",
       "      <td>105273</td>\n",
       "      <td>122778</td>\n",
       "      <td>3198</td>\n",
       "      <td>5.2</td>\n",
       "      <td>Pale Lager</td>\n",
       "      <td>1.9</td>\n",
       "      <td>2.0</td>\n",
       "      <td>4.0</td>\n",
       "      <td>2.0</td>\n",
       "      <td>4.0</td>\n",
       "      <td>7.0</td>\n",
       "      <td>2015</td>\n",
       "      <td>Sobraga</td>\n",
       "      <td>Gabon</td>\n",
       "      <td>None</td>\n",
       "      <td>Germany</td>\n",
       "      <td>None</td>\n",
       "    </tr>\n",
       "  </tbody>\n",
       "</table>\n",
       "</div>"
      ],
      "text/plain": [
       "                 date  beer_id  user_id  brewery_id  abv       style  rating  \\\n",
       "0 2016-04-26 12:00:00   410549   175852        3198  5.0  Pale Lager     2.0   \n",
       "1 2017-02-17 12:00:00   105273   442761        3198  5.2  Pale Lager     1.9   \n",
       "2 2016-06-24 12:00:00   105273   288889        3198  5.2  Pale Lager     1.6   \n",
       "3 2016-01-01 12:00:00   105273   250510        3198  5.2  Pale Lager     1.5   \n",
       "4 2015-10-23 12:00:00   105273   122778        3198  5.2  Pale Lager     1.9   \n",
       "\n",
       "   palate  taste  appearance  aroma  overall  year brewery_name  \\\n",
       "0     2.0    4.0         2.0    4.0      8.0  2016      Sobraga   \n",
       "1     2.0    4.0         2.0    3.0      8.0  2017      Sobraga   \n",
       "2     2.0    3.0         3.0    3.0      5.0  2016      Sobraga   \n",
       "3     1.0    2.0         4.0    3.0      5.0  2016      Sobraga   \n",
       "4     2.0    4.0         2.0    4.0      7.0  2015      Sobraga   \n",
       "\n",
       "  country_brewery state_brewery country_user state_user  \n",
       "0           Gabon          None       Poland       None  \n",
       "1           Gabon          None        Spain       None  \n",
       "2           Gabon          None       Poland       None  \n",
       "3           Gabon          None        Spain       None  \n",
       "4           Gabon          None      Germany       None  "
      ]
     },
     "execution_count": 10,
     "metadata": {},
     "output_type": "execute_result"
    }
   ],
   "source": [
    "df_ratings_no_text.head(5)"
   ]
  },
  {
   "cell_type": "code",
   "execution_count": 11,
   "metadata": {},
   "outputs": [
    {
     "name": "stdout",
     "output_type": "stream",
     "text": [
      "In the platform there are 7102520 different ratings\n",
      "The first rating was made on 2002-01-01 12:00:00\n",
      "The last rating was made on 2017-07-31 12:00:00\n"
     ]
    }
   ],
   "source": [
    "print(f\"In the platform there are {df_ratings_no_text.shape[0]} different ratings\")\n",
    "print(f\"The first rating was made on {df_ratings_no_text['date'].min()}\")\n",
    "print(f\"The last rating was made on {df_ratings_no_text['date'].max()}\")"
   ]
  },
  {
   "cell_type": "code",
   "execution_count": 12,
   "metadata": {},
   "outputs": [
    {
     "data": {
      "text/html": [
       "<div>\n",
       "<style scoped>\n",
       "    .dataframe tbody tr th:only-of-type {\n",
       "        vertical-align: middle;\n",
       "    }\n",
       "\n",
       "    .dataframe tbody tr th {\n",
       "        vertical-align: top;\n",
       "    }\n",
       "\n",
       "    .dataframe thead th {\n",
       "        text-align: right;\n",
       "    }\n",
       "</style>\n",
       "<table border=\"1\" class=\"dataframe\">\n",
       "  <thead>\n",
       "    <tr style=\"text-align: right;\">\n",
       "      <th></th>\n",
       "      <th>beer_id</th>\n",
       "      <th>beer_name</th>\n",
       "      <th>brewery_id</th>\n",
       "      <th>brewery_name</th>\n",
       "      <th>style</th>\n",
       "      <th>abv</th>\n",
       "      <th>country_beer</th>\n",
       "      <th>state_beer</th>\n",
       "    </tr>\n",
       "  </thead>\n",
       "  <tbody>\n",
       "    <tr>\n",
       "      <th>0</th>\n",
       "      <td>410549</td>\n",
       "      <td>33 Export (Gabon)</td>\n",
       "      <td>3198</td>\n",
       "      <td>Sobraga</td>\n",
       "      <td>Pale Lager</td>\n",
       "      <td>5.0</td>\n",
       "      <td>Gabon</td>\n",
       "      <td>None</td>\n",
       "    </tr>\n",
       "    <tr>\n",
       "      <th>1</th>\n",
       "      <td>105273</td>\n",
       "      <td>Castel Beer (Gabon)</td>\n",
       "      <td>3198</td>\n",
       "      <td>Sobraga</td>\n",
       "      <td>Pale Lager</td>\n",
       "      <td>5.2</td>\n",
       "      <td>Gabon</td>\n",
       "      <td>None</td>\n",
       "    </tr>\n",
       "    <tr>\n",
       "      <th>2</th>\n",
       "      <td>19445</td>\n",
       "      <td>Régab</td>\n",
       "      <td>3198</td>\n",
       "      <td>Sobraga</td>\n",
       "      <td>Pale Lager</td>\n",
       "      <td>4.5</td>\n",
       "      <td>Gabon</td>\n",
       "      <td>None</td>\n",
       "    </tr>\n",
       "    <tr>\n",
       "      <th>3</th>\n",
       "      <td>155699</td>\n",
       "      <td>Ards Bally Black Stout</td>\n",
       "      <td>13538</td>\n",
       "      <td>Ards Brewing Co.</td>\n",
       "      <td>Stout</td>\n",
       "      <td>4.6</td>\n",
       "      <td>United Kingdom</td>\n",
       "      <td>None</td>\n",
       "    </tr>\n",
       "    <tr>\n",
       "      <th>4</th>\n",
       "      <td>239097</td>\n",
       "      <td>Ards Belfast 366</td>\n",
       "      <td>13538</td>\n",
       "      <td>Ards Brewing Co.</td>\n",
       "      <td>Golden Ale/Blond Ale</td>\n",
       "      <td>4.2</td>\n",
       "      <td>United Kingdom</td>\n",
       "      <td>None</td>\n",
       "    </tr>\n",
       "  </tbody>\n",
       "</table>\n",
       "</div>"
      ],
      "text/plain": [
       "   beer_id               beer_name  brewery_id      brewery_name  \\\n",
       "0   410549       33 Export (Gabon)        3198           Sobraga   \n",
       "1   105273     Castel Beer (Gabon)        3198           Sobraga   \n",
       "2    19445                   Régab        3198           Sobraga   \n",
       "3   155699  Ards Bally Black Stout       13538  Ards Brewing Co.   \n",
       "4   239097        Ards Belfast 366       13538  Ards Brewing Co.   \n",
       "\n",
       "                  style  abv    country_beer state_beer  \n",
       "0            Pale Lager  5.0           Gabon       None  \n",
       "1            Pale Lager  5.2           Gabon       None  \n",
       "2            Pale Lager  4.5           Gabon       None  \n",
       "3                 Stout  4.6  United Kingdom       None  \n",
       "4  Golden Ale/Blond Ale  4.2  United Kingdom       None  "
      ]
     },
     "execution_count": 12,
     "metadata": {},
     "output_type": "execute_result"
    }
   ],
   "source": [
    "df_beers = df_beers.merge(df_breweries[['brewery_id', 'country_brewery', 'state_brewery']], on='brewery_id', how='left').rename(columns={'country_brewery': 'country_beer', 'state_brewery': 'state_beer'})\n",
    "df_beers.head(5)"
   ]
  },
  {
   "cell_type": "markdown",
   "metadata": {},
   "source": [
    "Now that we know what's in our data, let's see how our data is distributed over space."
   ]
  },
  {
   "cell_type": "code",
   "execution_count": 13,
   "metadata": {},
   "outputs": [
    {
     "data": {
      "application/vnd.plotly.v1+json": {
       "config": {
        "plotlyServerURL": "https://plot.ly"
       },
       "data": [
        {
         "colorscale": [
          [
           0,
           "rgb(247,251,255)"
          ],
          [
           0.125,
           "rgb(222,235,247)"
          ],
          [
           0.25,
           "rgb(198,219,239)"
          ],
          [
           0.375,
           "rgb(158,202,225)"
          ],
          [
           0.5,
           "rgb(107,174,214)"
          ],
          [
           0.625,
           "rgb(66,146,198)"
          ],
          [
           0.75,
           "rgb(33,113,181)"
          ],
          [
           0.875,
           "rgb(8,81,156)"
          ],
          [
           1,
           "rgb(8,48,107)"
          ]
         ],
         "hovertemplate": "<b>%{location}</b><br>Count: %{z}<extra></extra>",
         "locationmode": "country names",
         "locations": [
          "Abkhazia",
          "Albania",
          "Algeria",
          "Andorra",
          "Angola",
          "Antigua & Barbuda",
          "Argentina",
          "Armenia",
          "Aruba",
          "Australia",
          "Austria",
          "Azerbaijan",
          "Bahamas",
          "Bangladesh",
          "Barbados",
          "Belarus",
          "Belgium",
          "Belize",
          "Benin",
          "Bermuda",
          "Bhutan",
          "Bolivia",
          "Bonaire",
          "Bosnia and Herzegovina",
          "Botswana",
          "Brazil",
          "Bulgaria",
          "Burkina Faso",
          "Burundi",
          "Cambodia",
          "Cameroon",
          "Canada",
          "Cape Verde Islands",
          "Cayman Islands",
          "Central African Republic",
          "Chad",
          "Chile",
          "China",
          "Colombia",
          "Congo",
          "Cook Islands",
          "Costa Rica",
          "Croatia",
          "Cuba",
          "Curaçao",
          "Cyprus",
          "Czech Republic",
          "Dem Rep of Congo",
          "Denmark",
          "Dominica",
          "Dominican Republic",
          "East Timor",
          "Ecuador",
          "Egypt",
          "El Salvador",
          "Equatorial Guinea",
          "Eritrea",
          "Estonia",
          "Ethiopia",
          "Falkland Islands",
          "Faroe Islands",
          "Fiji Islands",
          "Finland",
          "France",
          "French Guiana",
          "French Polynesia",
          "Gabon",
          "Gambia",
          "Georgia",
          "Germany",
          "Ghana",
          "Gibraltar",
          "Greece",
          "Greenland",
          "Grenada",
          "Guadeloupe",
          "Guam",
          "Guatemala",
          "Guernsey",
          "Guinea",
          "Guinea-Bissau",
          "Guyana",
          "Haiti",
          "Honduras",
          "Hong Kong",
          "Hungary",
          "Iceland",
          "India",
          "Indonesia",
          "Iran",
          "Iraq",
          "Ireland",
          "Isle of Man",
          "Israel",
          "Italy",
          "Ivory Coast",
          "Jamaica",
          "Japan",
          "Jersey",
          "Jordan",
          "Kazakhstan",
          "Kenya",
          "Kosovo",
          "Kyrgyzstan",
          "Laos",
          "Latvia",
          "Lebanon",
          "Lesotho",
          "Liechtenstein",
          "Lithuania",
          "Luxembourg",
          "Macau",
          "Macedonia",
          "Madagascar",
          "Malawi",
          "Malaysia",
          "Mali",
          "Malta",
          "Martinique",
          "Mauritius",
          "Mayotte",
          "Mexico",
          "Moldova",
          "Monaco",
          "Mongolia",
          "Montenegro",
          "Morocco",
          "Mozambique",
          "Myanmar",
          "Namibia",
          "Nepal",
          "Netherlands",
          "New Caledonia",
          "New Zealand",
          "Nicaragua",
          "Niger",
          "Nigeria",
          "Norfolk Island",
          "North Korea",
          "Northern Marianas",
          "Norway",
          "Pakistan",
          "Palau",
          "Palestine",
          "Panama",
          "Papua New Guinea",
          "Paraguay",
          "Peru",
          "Philippines",
          "Poland",
          "Portugal",
          "Puerto Rico",
          "Reunion",
          "Romania",
          "Russia",
          "Rwanda",
          "Saint Lucia",
          "Saint Vincent and The Grenadines",
          "Samoa",
          "San Marino",
          "Sao Tome and Principe",
          "Saudi Arabia",
          "Senegal",
          "Serbia",
          "Seychelles",
          "Sierra Leone",
          "Singapore",
          "Slovak Republic",
          "Slovenia",
          "Solomon Islands",
          "South Africa",
          "South Korea",
          "South Ossetia",
          "South Sudan",
          "Spain",
          "Sri Lanka",
          "Suriname",
          "Swaziland",
          "Sweden",
          "Switzerland",
          "Syria",
          "Taiwan",
          "Tajikistan",
          "Tanzania",
          "Thailand",
          "Tibet",
          "Togo",
          "Tonga",
          "Transdniestra",
          "Trinidad & Tobago",
          "Tunisia",
          "Turkey",
          "Turkish Republic of Cyprus",
          "Turkmenistan",
          "Turks and Caicos Islands",
          "Uganda",
          "Ukraine",
          "United Kingdom",
          "Uruguay",
          "Uzbekistan",
          "Vanuatu",
          "Venezuela",
          "Vietnam",
          "Virgin Islands (U.S.)",
          "Zambia",
          "Zimbabwe"
         ],
         "showscale": false,
         "type": "choropleth",
         "visible": true,
         "z": [
          8,
          46,
          15,
          23,
          6,
          2,
          676,
          46,
          3,
          6588,
          2174,
          24,
          22,
          2,
          20,
          561,
          6648,
          10,
          4,
          6,
          14,
          76,
          2,
          119,
          2,
          1823,
          170,
          19,
          3,
          100,
          10,
          21993,
          5,
          10,
          2,
          3,
          522,
          1181,
          201,
          2,
          7,
          239,
          380,
          16,
          6,
          47,
          4102,
          10,
          7909,
          3,
          14,
          1,
          171,
          28,
          44,
          1,
          3,
          1070,
          18,
          4,
          87,
          13,
          3127,
          5838,
          5,
          5,
          3,
          3,
          80,
          18315,
          11,
          1,
          274,
          52,
          9,
          15,
          4,
          76,
          31,
          2,
          1,
          5,
          1,
          7,
          224,
          1304,
          284,
          408,
          42,
          4,
          2,
          1294,
          96,
          468,
          7657,
          6,
          23,
          4388,
          33,
          15,
          84,
          34,
          20,
          18,
          24,
          698,
          25,
          1,
          25,
          998,
          91,
          2,
          49,
          10,
          4,
          20,
          2,
          39,
          5,
          36,
          1,
          1256,
          168,
          9,
          19,
          14,
          9,
          7,
          16,
          30,
          16,
          6795,
          11,
          3129,
          30,
          3,
          19,
          4,
          33,
          1,
          5241,
          6,
          6,
          16,
          53,
          6,
          26,
          213,
          162,
          5597,
          616,
          42,
          21,
          283,
          3053,
          9,
          13,
          5,
          6,
          17,
          1,
          2,
          4,
          292,
          4,
          1,
          231,
          1023,
          529,
          3,
          963,
          381,
          1,
          2,
          4655,
          23,
          6,
          4,
          6818,
          4454,
          2,
          220,
          2,
          20,
          360,
          4,
          9,
          5,
          16,
          13,
          15,
          117,
          5,
          9,
          9,
          12,
          1134,
          53669,
          67,
          33,
          10,
          89,
          228,
          15,
          3,
          15
         ]
        },
        {
         "colorbar": {
          "len": 1,
          "title": {
           "text": "Scale"
          }
         },
         "colorscale": [
          [
           0,
           "rgb(247,251,255)"
          ],
          [
           0.125,
           "rgb(222,235,247)"
          ],
          [
           0.25,
           "rgb(198,219,239)"
          ],
          [
           0.375,
           "rgb(158,202,225)"
          ],
          [
           0.5,
           "rgb(107,174,214)"
          ],
          [
           0.625,
           "rgb(66,146,198)"
          ],
          [
           0.75,
           "rgb(33,113,181)"
          ],
          [
           0.875,
           "rgb(8,81,156)"
          ],
          [
           1,
           "rgb(8,48,107)"
          ]
         ],
         "hovertemplate": "<b>%{location}</b><br>Count: %{z}<extra></extra>",
         "locationmode": "USA-states",
         "locations": [
          "AL",
          "AK",
          "AZ",
          "AR",
          "CA",
          "CO",
          "CT",
          "DE",
          "FL",
          "GA",
          "HI",
          "ID",
          "IL",
          "IN",
          "IA",
          "KS",
          "KY",
          "LA",
          "ME",
          "MD",
          "MA",
          "MI",
          "MN",
          "MS",
          "MO",
          "MT",
          "NE",
          "NV",
          "NH",
          "NJ",
          "NM",
          "NY",
          "NC",
          "ND",
          "OH",
          "OK",
          "OR",
          "PA",
          "RI",
          "SC",
          "SD",
          "TN",
          "TX",
          "UT",
          "VT",
          "VA",
          "WA",
          "DC",
          "WV",
          "WI",
          "WY"
         ],
         "type": "choropleth",
         "visible": true,
         "z": [
          889,
          1379,
          3218,
          356,
          25448,
          12755,
          1619,
          696,
          7491,
          2388,
          467,
          1805,
          8851,
          5242,
          1513,
          691,
          1781,
          545,
          1687,
          2955,
          4063,
          9672,
          6005,
          189,
          3025,
          1930,
          1326,
          1429,
          2036,
          2914,
          1441,
          9605,
          6009,
          253,
          6677,
          527,
          8304,
          9345,
          489,
          1345,
          487,
          1622,
          4721,
          1026,
          2402,
          7769,
          9621,
          829,
          492,
          5867,
          740
         ],
         "zmax": 53669,
         "zmin": 1
        },
        {
         "colorscale": [
          [
           0,
           "rgb(247,251,255)"
          ],
          [
           0.125,
           "rgb(222,235,247)"
          ],
          [
           0.25,
           "rgb(198,219,239)"
          ],
          [
           0.375,
           "rgb(158,202,225)"
          ],
          [
           0.5,
           "rgb(107,174,214)"
          ],
          [
           0.625,
           "rgb(66,146,198)"
          ],
          [
           0.75,
           "rgb(33,113,181)"
          ],
          [
           0.875,
           "rgb(8,81,156)"
          ],
          [
           1,
           "rgb(8,48,107)"
          ]
         ],
         "hovertemplate": "<b>%{location}</b><br>Count: %{z}<extra></extra>",
         "locationmode": "country names",
         "locations": [
          "Abkhazia",
          "Afghanistan",
          "Albania",
          "Algeria",
          "American Samoa",
          "Andorra",
          "Antigua and Barbuda",
          "Argentina",
          "Armenia",
          "Ascension Island",
          "Australia",
          "Austria",
          "Azerbaijan",
          "Bahamas",
          "Bangladesh",
          "Barbados",
          "Belarus",
          "Belgium",
          "Belize",
          "Bermuda",
          "Bolivia",
          "Bosnia and Herzegovina",
          "Botswana",
          "Brazil",
          "Bulgaria",
          "Burkina Faso",
          "Burundi",
          "Cambodia",
          "Canada",
          "Cayman Islands",
          "Chile",
          "China",
          "Colombia",
          "Costa Rica",
          "Croatia",
          "Cuba",
          "Cyprus",
          "Czech Republic",
          "Dem Rep of Congo",
          "Denmark",
          "Dominican Republic",
          "East Timor",
          "Ecuador",
          "Egypt",
          "El Salvador",
          "Estonia",
          "Falkland Islands",
          "Faroe Islands",
          "Fiji Islands",
          "Finland",
          "France",
          "French Guiana",
          "Germany",
          "Ghana",
          "Greece",
          "Greenland",
          "Guam",
          "Guatemala",
          "Haiti",
          "Hawaii",
          "Honduras",
          "Hong Kong",
          "Hungary",
          "Iceland",
          "India",
          "Indonesia",
          "Iran",
          "Iraq",
          "Ireland",
          "Isle of Man",
          "Israel",
          "Italy",
          "Ivory Coast",
          "Jamaica",
          "Japan",
          "Jersey",
          "Jordan",
          "Kazakhstan",
          "Kenya",
          "Kosovo",
          "Kyrgyzstan",
          "Laos",
          "Latvia",
          "Lebanon",
          "Lesotho",
          "Liechtenstein",
          "Lithuania",
          "Luxembourg",
          "Macau",
          "Macedonia",
          "Malaysia",
          "Malta",
          "Marshall Islands",
          "Mauritius",
          "Mexico",
          "Micronesia",
          "Moldova",
          "Monaco",
          "Mongolia",
          "Montenegro",
          "Montserrat",
          "Morocco",
          "Mozambique",
          "Nagorno-Karabakh",
          "Namibia",
          "Nepal",
          "Netherlands",
          "New Zealand",
          "Nicaragua",
          "Nigeria",
          "Norfolk Island",
          "North Korea",
          "Norway",
          "Oman",
          "Pakistan",
          "Palestine",
          "Panama",
          "Papua New Guinea",
          "Paraguay",
          "Peru",
          "Philippines",
          "Poland",
          "Portugal",
          "Puerto Rico",
          "Romania",
          "Russia",
          "Saint Helena",
          "Saint Lucia",
          "Saint Vincent and The Grenadines",
          "San Marino",
          "Saudi Arabia",
          "Serbia",
          "Singapore",
          "Sint Maarten",
          "Slovak Republic",
          "Slovakia",
          "Slovenia",
          "South Africa",
          "South Korea",
          "Spain",
          "Sudan",
          "Sweden",
          "Switzerland",
          "Syria",
          "Taiwan",
          "Tajikistan",
          "Tanzania",
          "Thailand",
          "Tibet",
          "Togo",
          "Trinidad and Tobago",
          "Tunisia",
          "Turkey",
          "Tuvalu",
          "Uganda",
          "Ukraine",
          "United Arab Emirates",
          "United Kingdom",
          "Uruguay",
          "Uzbekistan",
          "Vanuatu",
          "Vatican City",
          "Venezuela",
          "Vietnam",
          "Virgin Islands (British)",
          "Virgin Islands (U.S.)",
          "Yemen",
          "Zambia",
          "Zimbabwe"
         ],
         "showscale": false,
         "type": "choropleth",
         "visible": false,
         "z": [
          3,
          8,
          4,
          2,
          1,
          9,
          1,
          76,
          3,
          3,
          1476,
          126,
          5,
          7,
          2,
          2,
          22,
          1027,
          3,
          2,
          5,
          32,
          5,
          810,
          44,
          1,
          1,
          10,
          3255,
          5,
          94,
          59,
          29,
          16,
          155,
          1,
          28,
          151,
          2,
          1031,
          8,
          1,
          15,
          5,
          22,
          134,
          1,
          9,
          1,
          452,
          539,
          1,
          891,
          2,
          166,
          1,
          4,
          9,
          1,
          2,
          1,
          32,
          229,
          54,
          40,
          6,
          1,
          2,
          293,
          7,
          78,
          924,
          1,
          1,
          118,
          4,
          3,
          1,
          5,
          2,
          1,
          2,
          78,
          6,
          1,
          1,
          49,
          25,
          1,
          12,
          11,
          7,
          2,
          3,
          226,
          1,
          18,
          2,
          1,
          6,
          1,
          3,
          2,
          1,
          3,
          3,
          1095,
          453,
          3,
          3,
          2,
          1,
          672,
          1,
          4,
          2,
          19,
          1,
          14,
          14,
          31,
          1701,
          95,
          32,
          99,
          196,
          2,
          1,
          1,
          2,
          1,
          79,
          58,
          1,
          93,
          2,
          113,
          176,
          63,
          835,
          1,
          1004,
          199,
          2,
          46,
          1,
          4,
          47,
          1,
          1,
          2,
          5,
          81,
          1,
          2,
          61,
          4,
          3302,
          10,
          2,
          2,
          3,
          12,
          8,
          1,
          15,
          1,
          2,
          4
         ]
        },
        {
         "colorbar": {
          "len": 1,
          "title": {
           "text": "Scale"
          }
         },
         "colorscale": [
          [
           0,
           "rgb(247,251,255)"
          ],
          [
           0.125,
           "rgb(222,235,247)"
          ],
          [
           0.25,
           "rgb(198,219,239)"
          ],
          [
           0.375,
           "rgb(158,202,225)"
          ],
          [
           0.5,
           "rgb(107,174,214)"
          ],
          [
           0.625,
           "rgb(66,146,198)"
          ],
          [
           0.75,
           "rgb(33,113,181)"
          ],
          [
           0.875,
           "rgb(8,81,156)"
          ],
          [
           1,
           "rgb(8,48,107)"
          ]
         ],
         "hovertemplate": "<b>%{location}</b><br>Count: %{z}<extra></extra>",
         "locationmode": "USA-states",
         "locations": [
          "AL",
          "AK",
          "AZ",
          "AR",
          "CA",
          "CO",
          "CT",
          "DE",
          "FL",
          "GA",
          "HI",
          "ID",
          "IL",
          "IN",
          "IA",
          "KS",
          "KY",
          "LA",
          "ME",
          "MD",
          "MA",
          "MI",
          "MN",
          "MS",
          "MO",
          "MT",
          "NE",
          "NV",
          "NH",
          "NJ",
          "NM",
          "NY",
          "NC",
          "ND",
          "OH",
          "OK",
          "OR",
          "PA",
          "RI",
          "SC",
          "SD",
          "TN",
          "TX",
          "UT",
          "VT",
          "VA",
          "WA",
          "WV",
          "WI",
          "WY"
         ],
         "type": "choropleth",
         "visible": false,
         "z": [
          821,
          78,
          509,
          186,
          2804,
          774,
          286,
          95,
          1269,
          725,
          54,
          140,
          1406,
          619,
          302,
          271,
          291,
          152,
          131,
          532,
          674,
          1141,
          768,
          85,
          490,
          85,
          130,
          150,
          178,
          835,
          115,
          1352,
          726,
          47,
          1158,
          213,
          572,
          1632,
          103,
          265,
          44,
          337,
          1423,
          109,
          114,
          720,
          976,
          101,
          838,
          29
         ],
         "zmax": 3302,
         "zmin": 1
        },
        {
         "colorscale": [
          [
           0,
           "rgb(247,251,255)"
          ],
          [
           0.125,
           "rgb(222,235,247)"
          ],
          [
           0.25,
           "rgb(198,219,239)"
          ],
          [
           0.375,
           "rgb(158,202,225)"
          ],
          [
           0.5,
           "rgb(107,174,214)"
          ],
          [
           0.625,
           "rgb(66,146,198)"
          ],
          [
           0.75,
           "rgb(33,113,181)"
          ],
          [
           0.875,
           "rgb(8,81,156)"
          ],
          [
           1,
           "rgb(8,48,107)"
          ]
         ],
         "hovertemplate": "<b>%{location}</b><br>Count: %{z}<extra></extra>",
         "locationmode": "country names",
         "locations": [
          "Abkhazia",
          "Albania",
          "Algeria",
          "American Samoa",
          "Andorra",
          "Angola",
          "Antigua & Barbuda",
          "Argentina",
          "Armenia",
          "Aruba",
          "Australia",
          "Austria",
          "Azerbaijan",
          "Bahamas",
          "Bangladesh",
          "Barbados",
          "Belarus",
          "Belgium",
          "Belize",
          "Benin",
          "Bermuda",
          "Bhutan",
          "Bolivia",
          "Bonaire",
          "Bosnia and Herzegovina",
          "Botswana",
          "Brazil",
          "Bulgaria",
          "Burkina Faso",
          "Burundi",
          "Cambodia",
          "Cameroon",
          "Canada",
          "Cape Verde Islands",
          "Cayman Islands",
          "Central African Republic",
          "Chad",
          "Chile",
          "China",
          "Colombia",
          "Congo",
          "Cook Islands",
          "Costa Rica",
          "Croatia",
          "Cuba",
          "Curaçao",
          "Cyprus",
          "Czech Republic",
          "Dem Rep of Congo",
          "Denmark",
          "Dominica",
          "Dominican Republic",
          "East Timor",
          "Ecuador",
          "Egypt",
          "El Salvador",
          "Equatorial Guinea",
          "Eritrea",
          "Estonia",
          "Ethiopia",
          "Falkland Islands",
          "Faroe Islands",
          "Fiji Islands",
          "Finland",
          "France",
          "French Guiana",
          "French Polynesia",
          "Gabon",
          "Gambia",
          "Georgia",
          "Germany",
          "Ghana",
          "Gibraltar",
          "Greece",
          "Greenland",
          "Grenada",
          "Guadeloupe",
          "Guam",
          "Guatemala",
          "Guernsey",
          "Guinea",
          "Guinea-Bissau",
          "Guyana",
          "Haiti",
          "Honduras",
          "Hong Kong",
          "Hungary",
          "Iceland",
          "India",
          "Indonesia",
          "Iran",
          "Iraq",
          "Ireland",
          "Isle of Man",
          "Israel",
          "Italy",
          "Ivory Coast",
          "Jamaica",
          "Japan",
          "Jersey",
          "Jordan",
          "Kazakhstan",
          "Kenya",
          "Kosovo",
          "Kyrgyzstan",
          "Laos",
          "Latvia",
          "Lebanon",
          "Lesotho",
          "Liberia",
          "Libya",
          "Liechtenstein",
          "Lithuania",
          "Luxembourg",
          "Macau",
          "Macedonia",
          "Madagascar",
          "Malawi",
          "Malaysia",
          "Mali",
          "Malta",
          "Martinique",
          "Mauritius",
          "Mayotte",
          "Mexico",
          "Micronesia",
          "Moldova",
          "Monaco",
          "Mongolia",
          "Montenegro",
          "Morocco",
          "Mozambique",
          "Myanmar",
          "Nagorno-Karabakh",
          "Namibia",
          "Nepal",
          "Netherlands",
          "New Caledonia",
          "New Zealand",
          "Nicaragua",
          "Niger",
          "Nigeria",
          "Norfolk Island",
          "North Korea",
          "Northern Marianas",
          "Norway",
          "Pakistan",
          "Palau",
          "Palestine",
          "Panama",
          "Papua New Guinea",
          "Paraguay",
          "Peru",
          "Philippines",
          "Poland",
          "Portugal",
          "Puerto Rico",
          "Reunion",
          "Romania",
          "Russia",
          "Rwanda",
          "Saint Lucia",
          "Saint Vincent and The Grenadines",
          "Samoa",
          "San Marino",
          "Sao Tome and Principe",
          "Saudi Arabia",
          "Senegal",
          "Serbia",
          "Seychelles",
          "Sierra Leone",
          "Singapore",
          "Slovak Republic",
          "Slovenia",
          "Solomon Islands",
          "South Africa",
          "South Korea",
          "South Ossetia",
          "South Sudan",
          "Spain",
          "Sri Lanka",
          "Suriname",
          "Swaziland",
          "Sweden",
          "Switzerland",
          "Syria",
          "Taiwan",
          "Tajikistan",
          "Tanzania",
          "Thailand",
          "Tibet",
          "Togo",
          "Tonga",
          "Transdniestra",
          "Trinidad & Tobago",
          "Tunisia",
          "Turkey",
          "Turkish Republic of Cyprus",
          "Turkmenistan",
          "Turks and Caicos Islands",
          "Uganda",
          "Ukraine",
          "United Arab Emirates",
          "United Kingdom",
          "Uruguay",
          "Uzbekistan",
          "Vanuatu",
          "Venezuela",
          "Vietnam",
          "Virgin Islands (British)",
          "Virgin Islands (U.S.)",
          "Zambia",
          "Zimbabwe"
         ],
         "showscale": false,
         "type": "choropleth",
         "visible": false,
         "z": [
          3,
          14,
          7,
          1,
          3,
          6,
          1,
          240,
          8,
          2,
          550,
          330,
          6,
          5,
          1,
          3,
          42,
          455,
          2,
          3,
          2,
          6,
          24,
          1,
          24,
          2,
          367,
          27,
          2,
          1,
          21,
          3,
          884,
          1,
          4,
          1,
          1,
          148,
          188,
          55,
          1,
          2,
          50,
          63,
          7,
          4,
          10,
          446,
          3,
          260,
          1,
          4,
          1,
          39,
          3,
          5,
          1,
          2,
          78,
          8,
          1,
          3,
          3,
          117,
          843,
          1,
          1,
          1,
          1,
          24,
          1999,
          4,
          1,
          64,
          7,
          1,
          3,
          2,
          12,
          4,
          1,
          2,
          1,
          1,
          3,
          27,
          144,
          16,
          91,
          9,
          7,
          1,
          124,
          5,
          76,
          1051,
          2,
          3,
          309,
          2,
          4,
          28,
          4,
          6,
          13,
          5,
          54,
          5,
          1,
          1,
          1,
          3,
          84,
          17,
          1,
          7,
          2,
          1,
          6,
          1,
          6,
          2,
          5,
          1,
          314,
          1,
          19,
          1,
          8,
          5,
          1,
          1,
          6,
          1,
          4,
          7,
          525,
          2,
          227,
          7,
          1,
          8,
          1,
          19,
          1,
          244,
          1,
          1,
          3,
          11,
          1,
          9,
          48,
          29,
          367,
          112,
          14,
          3,
          49,
          363,
          4,
          3,
          2,
          2,
          4,
          1,
          5,
          1,
          55,
          1,
          1,
          23,
          103,
          108,
          1,
          214,
          58,
          1,
          1,
          780,
          4,
          2,
          1,
          377,
          534,
          2,
          28,
          6,
          6,
          87,
          2,
          1,
          3,
          5,
          2,
          5,
          13,
          1,
          5,
          1,
          4,
          142,
          2,
          2473,
          15,
          15,
          3,
          15,
          66,
          1,
          3,
          2,
          3
         ]
        },
        {
         "colorbar": {
          "len": 1,
          "title": {
           "text": "Scale"
          }
         },
         "colorscale": [
          [
           0,
           "rgb(247,251,255)"
          ],
          [
           0.125,
           "rgb(222,235,247)"
          ],
          [
           0.25,
           "rgb(198,219,239)"
          ],
          [
           0.375,
           "rgb(158,202,225)"
          ],
          [
           0.5,
           "rgb(107,174,214)"
          ],
          [
           0.625,
           "rgb(66,146,198)"
          ],
          [
           0.75,
           "rgb(33,113,181)"
          ],
          [
           0.875,
           "rgb(8,81,156)"
          ],
          [
           1,
           "rgb(8,48,107)"
          ]
         ],
         "hovertemplate": "<b>%{location}</b><br>Count: %{z}<extra></extra>",
         "locationmode": "USA-states",
         "locations": [
          "AL",
          "AK",
          "AZ",
          "AR",
          "CA",
          "CO",
          "CT",
          "DE",
          "FL",
          "GA",
          "HI",
          "ID",
          "IL",
          "IN",
          "IA",
          "KS",
          "KY",
          "LA",
          "ME",
          "MD",
          "MA",
          "MI",
          "MN",
          "MS",
          "MO",
          "MT",
          "NE",
          "NV",
          "NH",
          "NJ",
          "NM",
          "NY",
          "NC",
          "ND",
          "OH",
          "OK",
          "OR",
          "PA",
          "RI",
          "SC",
          "SD",
          "TN",
          "TX",
          "UT",
          "VT",
          "VA",
          "WA",
          "DC",
          "WV",
          "WI",
          "WY"
         ],
         "type": "choropleth",
         "visible": false,
         "z": [
          42,
          35,
          115,
          32,
          867,
          390,
          75,
          24,
          235,
          89,
          22,
          62,
          238,
          162,
          92,
          35,
          48,
          35,
          91,
          92,
          154,
          316,
          183,
          17,
          118,
          82,
          48,
          58,
          70,
          103,
          77,
          384,
          228,
          17,
          231,
          33,
          269,
          298,
          18,
          64,
          25,
          85,
          238,
          26,
          86,
          211,
          409,
          14,
          26,
          219,
          33
         ],
         "zmax": 2473,
         "zmin": 1
        },
        {
         "colorscale": [
          [
           0,
           "rgb(247,251,255)"
          ],
          [
           0.125,
           "rgb(222,235,247)"
          ],
          [
           0.25,
           "rgb(198,219,239)"
          ],
          [
           0.375,
           "rgb(158,202,225)"
          ],
          [
           0.5,
           "rgb(107,174,214)"
          ],
          [
           0.625,
           "rgb(66,146,198)"
          ],
          [
           0.75,
           "rgb(33,113,181)"
          ],
          [
           0.875,
           "rgb(8,81,156)"
          ],
          [
           1,
           "rgb(8,48,107)"
          ]
         ],
         "hovertemplate": "<b>%{location}</b><br>Count: %{z}<extra></extra>",
         "locationmode": "country names",
         "locations": [
          "Abkhazia",
          "Albania",
          "Algeria",
          "Andorra",
          "Angola",
          "Antigua & Barbuda",
          "Argentina",
          "Armenia",
          "Aruba",
          "Australia",
          "Austria",
          "Azerbaijan",
          "Bahamas",
          "Bangladesh",
          "Barbados",
          "Belarus",
          "Belgium",
          "Belize",
          "Benin",
          "Bermuda",
          "Bhutan",
          "Bolivia",
          "Bonaire",
          "Bosnia and Herzegovina",
          "Botswana",
          "Brazil",
          "Bulgaria",
          "Burkina Faso",
          "Burundi",
          "Cambodia",
          "Cameroon",
          "Canada",
          "Cape Verde Islands",
          "Cayman Islands",
          "Central African Republic",
          "Chad",
          "Chile",
          "China",
          "Colombia",
          "Congo",
          "Cook Islands",
          "Costa Rica",
          "Croatia",
          "Cuba",
          "Curaçao",
          "Cyprus",
          "Czech Republic",
          "Dem Rep of Congo",
          "Denmark",
          "Dominica",
          "Dominican Republic",
          "East Timor",
          "Ecuador",
          "Egypt",
          "El Salvador",
          "Eritrea",
          "Estonia",
          "Ethiopia",
          "Falkland Islands",
          "Faroe Islands",
          "Fiji Islands",
          "Finland",
          "France",
          "French Guiana",
          "French Polynesia",
          "Gabon",
          "Gambia",
          "Georgia",
          "Germany",
          "Ghana",
          "Gibraltar",
          "Greece",
          "Greenland",
          "Grenada",
          "Guadeloupe",
          "Guam",
          "Guatemala",
          "Guernsey",
          "Guinea",
          "Guinea-Bissau",
          "Guyana",
          "Haiti",
          "Honduras",
          "Hong Kong",
          "Hungary",
          "Iceland",
          "India",
          "Indonesia",
          "Iran",
          "Iraq",
          "Ireland",
          "Isle of Man",
          "Israel",
          "Italy",
          "Ivory Coast",
          "Jamaica",
          "Japan",
          "Jersey",
          "Jordan",
          "Kazakhstan",
          "Kenya",
          "Kosovo",
          "Kyrgyzstan",
          "Laos",
          "Latvia",
          "Lebanon",
          "Lesotho",
          "Liberia",
          "Libya",
          "Liechtenstein",
          "Lithuania",
          "Luxembourg",
          "Macau",
          "Macedonia",
          "Madagascar",
          "Malawi",
          "Malaysia",
          "Mali",
          "Malta",
          "Martinique",
          "Mauritius",
          "Mayotte",
          "Mexico",
          "Micronesia",
          "Moldova",
          "Monaco",
          "Mongolia",
          "Montenegro",
          "Morocco",
          "Mozambique",
          "Myanmar",
          "Nagorno-Karabakh",
          "Namibia",
          "Nepal",
          "Netherlands",
          "New Caledonia",
          "New Zealand",
          "Nicaragua",
          "Niger",
          "Nigeria",
          "Norfolk Island",
          "North Korea",
          "Northern Marianas",
          "Norway",
          "Pakistan",
          "Palau",
          "Palestine",
          "Panama",
          "Papua New Guinea",
          "Paraguay",
          "Peru",
          "Philippines",
          "Poland",
          "Portugal",
          "Puerto Rico",
          "Reunion",
          "Romania",
          "Russia",
          "Rwanda",
          "Saint Lucia",
          "Saint Vincent and The Grenadines",
          "Samoa",
          "San Marino",
          "Sao Tome and Principe",
          "Saudi Arabia",
          "Senegal",
          "Serbia",
          "Seychelles",
          "Sierra Leone",
          "Singapore",
          "Slovak Republic",
          "Slovenia",
          "Solomon Islands",
          "South Africa",
          "South Korea",
          "South Ossetia",
          "South Sudan",
          "Spain",
          "Sri Lanka",
          "Suriname",
          "Swaziland",
          "Sweden",
          "Switzerland",
          "Syria",
          "Taiwan",
          "Tajikistan",
          "Tanzania",
          "Thailand",
          "Tibet",
          "Togo",
          "Tonga",
          "Transdniestra",
          "Trinidad & Tobago",
          "Tunisia",
          "Turkey",
          "Turkish Republic of Cyprus",
          "Turkmenistan",
          "Turks and Caicos Islands",
          "Uganda",
          "Ukraine",
          "United Arab Emirates",
          "United Kingdom",
          "Uruguay",
          "Uzbekistan",
          "Vanuatu",
          "Venezuela",
          "Vietnam",
          "Virgin Islands (British)",
          "Virgin Islands (U.S.)",
          "Zambia",
          "Zimbabwe"
         ],
         "showscale": false,
         "type": "choropleth",
         "visible": false,
         "z": [
          28,
          718,
          71,
          280,
          113,
          95,
          4696,
          826,
          252,
          67729,
          42370,
          141,
          943,
          19,
          779,
          2622,
          627699,
          411,
          50,
          79,
          140,
          615,
          18,
          1631,
          67,
          16519,
          2278,
          60,
          16,
          1190,
          137,
          332220,
          162,
          289,
          25,
          36,
          3174,
          9015,
          1490,
          15,
          74,
          1531,
          9572,
          1134,
          22,
          1029,
          87492,
          214,
          263616,
          94,
          1153,
          1,
          649,
          760,
          1494,
          83,
          28287,
          984,
          6,
          2486,
          354,
          56831,
          74413,
          48,
          562,
          38,
          89,
          783,
          495924,
          252,
          79,
          9690,
          1049,
          31,
          29,
          48,
          1339,
          312,
          14,
          6,
          36,
          209,
          570,
          1365,
          13159,
          8568,
          4884,
          1087,
          251,
          31,
          41165,
          1367,
          6369,
          96761,
          76,
          3817,
          43304,
          467,
          298,
          386,
          1466,
          479,
          89,
          971,
          10014,
          1450,
          75,
          31,
          5,
          700,
          14057,
          2853,
          107,
          561,
          108,
          81,
          692,
          42,
          1449,
          112,
          491,
          3,
          28211,
          17,
          1150,
          187,
          297,
          806,
          755,
          310,
          364,
          2,
          1064,
          298,
          183470,
          95,
          42378,
          546,
          65,
          687,
          4,
          174,
          1,
          131232,
          103,
          15,
          659,
          578,
          84,
          135,
          2309,
          2445,
          151128,
          8109,
          534,
          184,
          4005,
          21115,
          188,
          163,
          49,
          64,
          161,
          6,
          140,
          144,
          3760,
          70,
          17,
          3769,
          13581,
          6999,
          31,
          5529,
          2774,
          4,
          38,
          63977,
          2821,
          235,
          39,
          162034,
          28302,
          29,
          1141,
          19,
          470,
          5074,
          190,
          165,
          35,
          127,
          2403,
          293,
          3880,
          52,
          39,
          118,
          329,
          8644,
          185,
          772075,
          456,
          84,
          81,
          577,
          2853,
          1,
          740,
          69,
          176
         ]
        },
        {
         "colorbar": {
          "len": 1,
          "title": {
           "text": "Scale"
          }
         },
         "colorscale": [
          [
           0,
           "rgb(247,251,255)"
          ],
          [
           0.125,
           "rgb(222,235,247)"
          ],
          [
           0.25,
           "rgb(198,219,239)"
          ],
          [
           0.375,
           "rgb(158,202,225)"
          ],
          [
           0.5,
           "rgb(107,174,214)"
          ],
          [
           0.625,
           "rgb(66,146,198)"
          ],
          [
           0.75,
           "rgb(33,113,181)"
          ],
          [
           0.875,
           "rgb(8,81,156)"
          ],
          [
           1,
           "rgb(8,48,107)"
          ]
         ],
         "hovertemplate": "<b>%{location}</b><br>Count: %{z}<extra></extra>",
         "locationmode": "USA-states",
         "locations": [
          "AL",
          "AK",
          "AZ",
          "AR",
          "CA",
          "CO",
          "CT",
          "DE",
          "FL",
          "GA",
          "HI",
          "ID",
          "IL",
          "IN",
          "IA",
          "KS",
          "KY",
          "LA",
          "ME",
          "MD",
          "MA",
          "MI",
          "MN",
          "MS",
          "MO",
          "MT",
          "NE",
          "NV",
          "NH",
          "NJ",
          "NM",
          "NY",
          "NC",
          "ND",
          "OH",
          "OK",
          "OR",
          "PA",
          "RI",
          "SC",
          "SD",
          "TN",
          "TX",
          "UT",
          "VT",
          "VA",
          "WA",
          "DC",
          "WV",
          "WI",
          "WY"
         ],
         "type": "choropleth",
         "visible": false,
         "z": [
          6417,
          30343,
          21753,
          2375,
          544863,
          190860,
          15851,
          13110,
          48143,
          47359,
          15589,
          18162,
          107476,
          35763,
          15101,
          9560,
          14086,
          16482,
          58284,
          82274,
          84750,
          110140,
          56061,
          3325,
          106171,
          14888,
          8717,
          9399,
          35457,
          31575,
          10343,
          245616,
          57404,
          974,
          78132,
          20203,
          172017,
          117438,
          6551,
          19848,
          1190,
          17598,
          72369,
          30356,
          74966,
          49280,
          93126,
          8189,
          2919,
          164950,
          4405
         ],
         "zmax": 772075,
         "zmin": 1
        },
        {
         "colorscale": [
          [
           0,
           "rgb(247,251,255)"
          ],
          [
           0.125,
           "rgb(222,235,247)"
          ],
          [
           0.25,
           "rgb(198,219,239)"
          ],
          [
           0.375,
           "rgb(158,202,225)"
          ],
          [
           0.5,
           "rgb(107,174,214)"
          ],
          [
           0.625,
           "rgb(66,146,198)"
          ],
          [
           0.75,
           "rgb(33,113,181)"
          ],
          [
           0.875,
           "rgb(8,81,156)"
          ],
          [
           1,
           "rgb(8,48,107)"
          ]
         ],
         "hovertemplate": "<b>%{location}</b><br>Count: %{z}<extra></extra>",
         "locationmode": "country names",
         "locations": [
          "Abkhazia",
          "Afghanistan",
          "Albania",
          "Algeria",
          "American Samoa",
          "Andorra",
          "Antigua and Barbuda",
          "Argentina",
          "Armenia",
          "Ascension Island",
          "Australia",
          "Austria",
          "Azerbaijan",
          "Bahamas",
          "Bangladesh",
          "Barbados",
          "Belarus",
          "Belgium",
          "Belize",
          "Bermuda",
          "Bolivia",
          "Bosnia and Herzegovina",
          "Botswana",
          "Brazil",
          "Bulgaria",
          "Burkina Faso",
          "Burundi",
          "Cambodia",
          "Canada",
          "Cayman Islands",
          "Chile",
          "China",
          "Colombia",
          "Costa Rica",
          "Croatia",
          "Cuba",
          "Cyprus",
          "Czech Republic",
          "Dem Rep of Congo",
          "Denmark",
          "Dominican Republic",
          "East Timor",
          "Ecuador",
          "Egypt",
          "El Salvador",
          "Estonia",
          "Falkland Islands",
          "Faroe Islands",
          "Fiji Islands",
          "Finland",
          "France",
          "French Guiana",
          "Germany",
          "Ghana",
          "Greece",
          "Greenland",
          "Guam",
          "Guatemala",
          "Haiti",
          "Hawaii",
          "Honduras",
          "Hong Kong",
          "Hungary",
          "Iceland",
          "India",
          "Indonesia",
          "Iran",
          "Iraq",
          "Ireland",
          "Isle of Man",
          "Israel",
          "Italy",
          "Ivory Coast",
          "Jamaica",
          "Japan",
          "Jersey",
          "Jordan",
          "Kazakhstan",
          "Kenya",
          "Kosovo",
          "Kyrgyzstan",
          "Laos",
          "Latvia",
          "Lebanon",
          "Lesotho",
          "Liechtenstein",
          "Lithuania",
          "Luxembourg",
          "Macau",
          "Macedonia",
          "Malaysia",
          "Malta",
          "Marshall Islands",
          "Mauritius",
          "Mexico",
          "Micronesia",
          "Moldova",
          "Monaco",
          "Mongolia",
          "Montenegro",
          "Montserrat",
          "Morocco",
          "Mozambique",
          "Nagorno-Karabakh",
          "Namibia",
          "Nepal",
          "Netherlands",
          "New Zealand",
          "Nicaragua",
          "Nigeria",
          "Norfolk Island",
          "North Korea",
          "Norway",
          "Oman",
          "Pakistan",
          "Palestine",
          "Panama",
          "Papua New Guinea",
          "Paraguay",
          "Peru",
          "Philippines",
          "Poland",
          "Portugal",
          "Puerto Rico",
          "Romania",
          "Russia",
          "Saint Helena",
          "Saint Lucia",
          "Saint Vincent and The Grenadines",
          "San Marino",
          "Saudi Arabia",
          "Serbia",
          "Singapore",
          "Sint Maarten",
          "Slovak Republic",
          "Slovakia",
          "Slovenia",
          "South Africa",
          "South Korea",
          "Spain",
          "Sudan",
          "Sweden",
          "Switzerland",
          "Syria",
          "Taiwan",
          "Tajikistan",
          "Tanzania",
          "Thailand",
          "Tibet",
          "Togo",
          "Trinidad and Tobago",
          "Tunisia",
          "Turkey",
          "Tuvalu",
          "Uganda",
          "Ukraine",
          "United Arab Emirates",
          "United Kingdom",
          "Uruguay",
          "Uzbekistan",
          "Vanuatu",
          "Vatican City",
          "Venezuela",
          "Vietnam",
          "Virgin Islands (British)",
          "Virgin Islands (U.S.)",
          "Yemen",
          "Zambia",
          "Zimbabwe"
         ],
         "showscale": false,
         "type": "choropleth",
         "visible": false,
         "z": [
          6,
          23,
          6,
          37,
          1,
          166,
          1,
          587,
          5,
          395,
          99569,
          14542,
          12,
          7,
          15,
          3,
          7148,
          124072,
          6,
          1472,
          865,
          146,
          9,
          14422,
          405,
          2,
          1,
          2004,
          520608,
          33,
          3716,
          1836,
          348,
          42,
          32165,
          1,
          2539,
          25423,
          2,
          581752,
          1794,
          3,
          434,
          2,
          3137,
          52660,
          1,
          9666,
          3,
          191895,
          35862,
          11,
          218663,
          4,
          9344,
          309,
          468,
          82,
          1,
          2,
          15,
          4247,
          24285,
          3115,
          735,
          857,
          1,
          4,
          13973,
          67,
          31192,
          57131,
          1,
          1,
          33183,
          92,
          8,
          37,
          10,
          2,
          1,
          18,
          6351,
          36,
          1,
          5,
          2442,
          3272,
          2,
          43,
          8306,
          13,
          1029,
          18,
          8442,
          1,
          5229,
          6,
          2,
          19,
          14,
          12,
          2017,
          1,
          17,
          13,
          233265,
          24813,
          3,
          5,
          50,
          590,
          216661,
          11,
          28,
          8,
          350,
          1,
          70,
          336,
          579,
          154339,
          8340,
          295,
          4333,
          6989,
          447,
          1,
          1,
          9,
          57,
          3817,
          1218,
          2,
          29373,
          121,
          9555,
          4934,
          748,
          56233,
          3,
          283421,
          30316,
          3,
          1880,
          1,
          26,
          10965,
          1,
          2,
          3,
          6,
          3906,
          1,
          9,
          3630,
          6,
          546331,
          158,
          3,
          2,
          3,
          2621,
          40,
          1,
          39,
          2,
          2,
          6
         ]
        },
        {
         "colorbar": {
          "len": 1,
          "title": {
           "text": "Scale"
          }
         },
         "colorscale": [
          [
           0,
           "rgb(247,251,255)"
          ],
          [
           0.125,
           "rgb(222,235,247)"
          ],
          [
           0.25,
           "rgb(198,219,239)"
          ],
          [
           0.375,
           "rgb(158,202,225)"
          ],
          [
           0.5,
           "rgb(107,174,214)"
          ],
          [
           0.625,
           "rgb(66,146,198)"
          ],
          [
           0.75,
           "rgb(33,113,181)"
          ],
          [
           0.875,
           "rgb(8,81,156)"
          ],
          [
           1,
           "rgb(8,48,107)"
          ]
         ],
         "hovertemplate": "<b>%{location}</b><br>Count: %{z}<extra></extra>",
         "locationmode": "USA-states",
         "locations": [
          "AL",
          "AK",
          "AZ",
          "AR",
          "CA",
          "CO",
          "CT",
          "DE",
          "FL",
          "GA",
          "HI",
          "ID",
          "IL",
          "IN",
          "IA",
          "KS",
          "KY",
          "LA",
          "ME",
          "MD",
          "MA",
          "MI",
          "MN",
          "MS",
          "MO",
          "MT",
          "NE",
          "NV",
          "NH",
          "NJ",
          "NM",
          "NY",
          "NC",
          "ND",
          "OH",
          "OK",
          "OR",
          "PA",
          "RI",
          "SC",
          "SD",
          "TN",
          "TX",
          "UT",
          "VT",
          "VA",
          "WA",
          "WV",
          "WI",
          "WY"
         ],
         "type": "choropleth",
         "visible": false,
         "z": [
          25138,
          9674,
          64333,
          8160,
          313744,
          115436,
          28322,
          13994,
          146504,
          79349,
          2136,
          37464,
          175010,
          76444,
          35990,
          23192,
          28228,
          11529,
          9183,
          78352,
          50507,
          87953,
          116052,
          3764,
          49824,
          4998,
          15504,
          25909,
          33270,
          127206,
          5353,
          139824,
          85141,
          2704,
          146528,
          11084,
          61282,
          220786,
          3706,
          15036,
          1588,
          55000,
          162258,
          12301,
          14310,
          109526,
          146958,
          7283,
          93817,
          2329
         ],
         "zmax": 581752,
         "zmin": 1
        }
       ],
       "layout": {
        "geo": {
         "projection": {
          "type": "equirectangular"
         },
         "showcoastlines": true,
         "showframe": false
        },
        "height": 600,
        "template": {
         "data": {
          "bar": [
           {
            "error_x": {
             "color": "#2a3f5f"
            },
            "error_y": {
             "color": "#2a3f5f"
            },
            "marker": {
             "line": {
              "color": "#E5ECF6",
              "width": 0.5
             },
             "pattern": {
              "fillmode": "overlay",
              "size": 10,
              "solidity": 0.2
             }
            },
            "type": "bar"
           }
          ],
          "barpolar": [
           {
            "marker": {
             "line": {
              "color": "#E5ECF6",
              "width": 0.5
             },
             "pattern": {
              "fillmode": "overlay",
              "size": 10,
              "solidity": 0.2
             }
            },
            "type": "barpolar"
           }
          ],
          "carpet": [
           {
            "aaxis": {
             "endlinecolor": "#2a3f5f",
             "gridcolor": "white",
             "linecolor": "white",
             "minorgridcolor": "white",
             "startlinecolor": "#2a3f5f"
            },
            "baxis": {
             "endlinecolor": "#2a3f5f",
             "gridcolor": "white",
             "linecolor": "white",
             "minorgridcolor": "white",
             "startlinecolor": "#2a3f5f"
            },
            "type": "carpet"
           }
          ],
          "choropleth": [
           {
            "colorbar": {
             "outlinewidth": 0,
             "ticks": ""
            },
            "type": "choropleth"
           }
          ],
          "contour": [
           {
            "colorbar": {
             "outlinewidth": 0,
             "ticks": ""
            },
            "colorscale": [
             [
              0,
              "#0d0887"
             ],
             [
              0.1111111111111111,
              "#46039f"
             ],
             [
              0.2222222222222222,
              "#7201a8"
             ],
             [
              0.3333333333333333,
              "#9c179e"
             ],
             [
              0.4444444444444444,
              "#bd3786"
             ],
             [
              0.5555555555555556,
              "#d8576b"
             ],
             [
              0.6666666666666666,
              "#ed7953"
             ],
             [
              0.7777777777777778,
              "#fb9f3a"
             ],
             [
              0.8888888888888888,
              "#fdca26"
             ],
             [
              1,
              "#f0f921"
             ]
            ],
            "type": "contour"
           }
          ],
          "contourcarpet": [
           {
            "colorbar": {
             "outlinewidth": 0,
             "ticks": ""
            },
            "type": "contourcarpet"
           }
          ],
          "heatmap": [
           {
            "colorbar": {
             "outlinewidth": 0,
             "ticks": ""
            },
            "colorscale": [
             [
              0,
              "#0d0887"
             ],
             [
              0.1111111111111111,
              "#46039f"
             ],
             [
              0.2222222222222222,
              "#7201a8"
             ],
             [
              0.3333333333333333,
              "#9c179e"
             ],
             [
              0.4444444444444444,
              "#bd3786"
             ],
             [
              0.5555555555555556,
              "#d8576b"
             ],
             [
              0.6666666666666666,
              "#ed7953"
             ],
             [
              0.7777777777777778,
              "#fb9f3a"
             ],
             [
              0.8888888888888888,
              "#fdca26"
             ],
             [
              1,
              "#f0f921"
             ]
            ],
            "type": "heatmap"
           }
          ],
          "heatmapgl": [
           {
            "colorbar": {
             "outlinewidth": 0,
             "ticks": ""
            },
            "colorscale": [
             [
              0,
              "#0d0887"
             ],
             [
              0.1111111111111111,
              "#46039f"
             ],
             [
              0.2222222222222222,
              "#7201a8"
             ],
             [
              0.3333333333333333,
              "#9c179e"
             ],
             [
              0.4444444444444444,
              "#bd3786"
             ],
             [
              0.5555555555555556,
              "#d8576b"
             ],
             [
              0.6666666666666666,
              "#ed7953"
             ],
             [
              0.7777777777777778,
              "#fb9f3a"
             ],
             [
              0.8888888888888888,
              "#fdca26"
             ],
             [
              1,
              "#f0f921"
             ]
            ],
            "type": "heatmapgl"
           }
          ],
          "histogram": [
           {
            "marker": {
             "pattern": {
              "fillmode": "overlay",
              "size": 10,
              "solidity": 0.2
             }
            },
            "type": "histogram"
           }
          ],
          "histogram2d": [
           {
            "colorbar": {
             "outlinewidth": 0,
             "ticks": ""
            },
            "colorscale": [
             [
              0,
              "#0d0887"
             ],
             [
              0.1111111111111111,
              "#46039f"
             ],
             [
              0.2222222222222222,
              "#7201a8"
             ],
             [
              0.3333333333333333,
              "#9c179e"
             ],
             [
              0.4444444444444444,
              "#bd3786"
             ],
             [
              0.5555555555555556,
              "#d8576b"
             ],
             [
              0.6666666666666666,
              "#ed7953"
             ],
             [
              0.7777777777777778,
              "#fb9f3a"
             ],
             [
              0.8888888888888888,
              "#fdca26"
             ],
             [
              1,
              "#f0f921"
             ]
            ],
            "type": "histogram2d"
           }
          ],
          "histogram2dcontour": [
           {
            "colorbar": {
             "outlinewidth": 0,
             "ticks": ""
            },
            "colorscale": [
             [
              0,
              "#0d0887"
             ],
             [
              0.1111111111111111,
              "#46039f"
             ],
             [
              0.2222222222222222,
              "#7201a8"
             ],
             [
              0.3333333333333333,
              "#9c179e"
             ],
             [
              0.4444444444444444,
              "#bd3786"
             ],
             [
              0.5555555555555556,
              "#d8576b"
             ],
             [
              0.6666666666666666,
              "#ed7953"
             ],
             [
              0.7777777777777778,
              "#fb9f3a"
             ],
             [
              0.8888888888888888,
              "#fdca26"
             ],
             [
              1,
              "#f0f921"
             ]
            ],
            "type": "histogram2dcontour"
           }
          ],
          "mesh3d": [
           {
            "colorbar": {
             "outlinewidth": 0,
             "ticks": ""
            },
            "type": "mesh3d"
           }
          ],
          "parcoords": [
           {
            "line": {
             "colorbar": {
              "outlinewidth": 0,
              "ticks": ""
             }
            },
            "type": "parcoords"
           }
          ],
          "pie": [
           {
            "automargin": true,
            "type": "pie"
           }
          ],
          "scatter": [
           {
            "fillpattern": {
             "fillmode": "overlay",
             "size": 10,
             "solidity": 0.2
            },
            "type": "scatter"
           }
          ],
          "scatter3d": [
           {
            "line": {
             "colorbar": {
              "outlinewidth": 0,
              "ticks": ""
             }
            },
            "marker": {
             "colorbar": {
              "outlinewidth": 0,
              "ticks": ""
             }
            },
            "type": "scatter3d"
           }
          ],
          "scattercarpet": [
           {
            "marker": {
             "colorbar": {
              "outlinewidth": 0,
              "ticks": ""
             }
            },
            "type": "scattercarpet"
           }
          ],
          "scattergeo": [
           {
            "marker": {
             "colorbar": {
              "outlinewidth": 0,
              "ticks": ""
             }
            },
            "type": "scattergeo"
           }
          ],
          "scattergl": [
           {
            "marker": {
             "colorbar": {
              "outlinewidth": 0,
              "ticks": ""
             }
            },
            "type": "scattergl"
           }
          ],
          "scattermapbox": [
           {
            "marker": {
             "colorbar": {
              "outlinewidth": 0,
              "ticks": ""
             }
            },
            "type": "scattermapbox"
           }
          ],
          "scatterpolar": [
           {
            "marker": {
             "colorbar": {
              "outlinewidth": 0,
              "ticks": ""
             }
            },
            "type": "scatterpolar"
           }
          ],
          "scatterpolargl": [
           {
            "marker": {
             "colorbar": {
              "outlinewidth": 0,
              "ticks": ""
             }
            },
            "type": "scatterpolargl"
           }
          ],
          "scatterternary": [
           {
            "marker": {
             "colorbar": {
              "outlinewidth": 0,
              "ticks": ""
             }
            },
            "type": "scatterternary"
           }
          ],
          "surface": [
           {
            "colorbar": {
             "outlinewidth": 0,
             "ticks": ""
            },
            "colorscale": [
             [
              0,
              "#0d0887"
             ],
             [
              0.1111111111111111,
              "#46039f"
             ],
             [
              0.2222222222222222,
              "#7201a8"
             ],
             [
              0.3333333333333333,
              "#9c179e"
             ],
             [
              0.4444444444444444,
              "#bd3786"
             ],
             [
              0.5555555555555556,
              "#d8576b"
             ],
             [
              0.6666666666666666,
              "#ed7953"
             ],
             [
              0.7777777777777778,
              "#fb9f3a"
             ],
             [
              0.8888888888888888,
              "#fdca26"
             ],
             [
              1,
              "#f0f921"
             ]
            ],
            "type": "surface"
           }
          ],
          "table": [
           {
            "cells": {
             "fill": {
              "color": "#EBF0F8"
             },
             "line": {
              "color": "white"
             }
            },
            "header": {
             "fill": {
              "color": "#C8D4E3"
             },
             "line": {
              "color": "white"
             }
            },
            "type": "table"
           }
          ]
         },
         "layout": {
          "annotationdefaults": {
           "arrowcolor": "#2a3f5f",
           "arrowhead": 0,
           "arrowwidth": 1
          },
          "autotypenumbers": "strict",
          "coloraxis": {
           "colorbar": {
            "outlinewidth": 0,
            "ticks": ""
           }
          },
          "colorscale": {
           "diverging": [
            [
             0,
             "#8e0152"
            ],
            [
             0.1,
             "#c51b7d"
            ],
            [
             0.2,
             "#de77ae"
            ],
            [
             0.3,
             "#f1b6da"
            ],
            [
             0.4,
             "#fde0ef"
            ],
            [
             0.5,
             "#f7f7f7"
            ],
            [
             0.6,
             "#e6f5d0"
            ],
            [
             0.7,
             "#b8e186"
            ],
            [
             0.8,
             "#7fbc41"
            ],
            [
             0.9,
             "#4d9221"
            ],
            [
             1,
             "#276419"
            ]
           ],
           "sequential": [
            [
             0,
             "#0d0887"
            ],
            [
             0.1111111111111111,
             "#46039f"
            ],
            [
             0.2222222222222222,
             "#7201a8"
            ],
            [
             0.3333333333333333,
             "#9c179e"
            ],
            [
             0.4444444444444444,
             "#bd3786"
            ],
            [
             0.5555555555555556,
             "#d8576b"
            ],
            [
             0.6666666666666666,
             "#ed7953"
            ],
            [
             0.7777777777777778,
             "#fb9f3a"
            ],
            [
             0.8888888888888888,
             "#fdca26"
            ],
            [
             1,
             "#f0f921"
            ]
           ],
           "sequentialminus": [
            [
             0,
             "#0d0887"
            ],
            [
             0.1111111111111111,
             "#46039f"
            ],
            [
             0.2222222222222222,
             "#7201a8"
            ],
            [
             0.3333333333333333,
             "#9c179e"
            ],
            [
             0.4444444444444444,
             "#bd3786"
            ],
            [
             0.5555555555555556,
             "#d8576b"
            ],
            [
             0.6666666666666666,
             "#ed7953"
            ],
            [
             0.7777777777777778,
             "#fb9f3a"
            ],
            [
             0.8888888888888888,
             "#fdca26"
            ],
            [
             1,
             "#f0f921"
            ]
           ]
          },
          "colorway": [
           "#636efa",
           "#EF553B",
           "#00cc96",
           "#ab63fa",
           "#FFA15A",
           "#19d3f3",
           "#FF6692",
           "#B6E880",
           "#FF97FF",
           "#FECB52"
          ],
          "font": {
           "color": "#2a3f5f"
          },
          "geo": {
           "bgcolor": "white",
           "lakecolor": "white",
           "landcolor": "#E5ECF6",
           "showlakes": true,
           "showland": true,
           "subunitcolor": "white"
          },
          "hoverlabel": {
           "align": "left"
          },
          "hovermode": "closest",
          "mapbox": {
           "style": "light"
          },
          "paper_bgcolor": "white",
          "plot_bgcolor": "#E5ECF6",
          "polar": {
           "angularaxis": {
            "gridcolor": "white",
            "linecolor": "white",
            "ticks": ""
           },
           "bgcolor": "#E5ECF6",
           "radialaxis": {
            "gridcolor": "white",
            "linecolor": "white",
            "ticks": ""
           }
          },
          "scene": {
           "xaxis": {
            "backgroundcolor": "#E5ECF6",
            "gridcolor": "white",
            "gridwidth": 2,
            "linecolor": "white",
            "showbackground": true,
            "ticks": "",
            "zerolinecolor": "white"
           },
           "yaxis": {
            "backgroundcolor": "#E5ECF6",
            "gridcolor": "white",
            "gridwidth": 2,
            "linecolor": "white",
            "showbackground": true,
            "ticks": "",
            "zerolinecolor": "white"
           },
           "zaxis": {
            "backgroundcolor": "#E5ECF6",
            "gridcolor": "white",
            "gridwidth": 2,
            "linecolor": "white",
            "showbackground": true,
            "ticks": "",
            "zerolinecolor": "white"
           }
          },
          "shapedefaults": {
           "line": {
            "color": "#2a3f5f"
           }
          },
          "ternary": {
           "aaxis": {
            "gridcolor": "white",
            "linecolor": "white",
            "ticks": ""
           },
           "baxis": {
            "gridcolor": "white",
            "linecolor": "white",
            "ticks": ""
           },
           "bgcolor": "#E5ECF6",
           "caxis": {
            "gridcolor": "white",
            "linecolor": "white",
            "ticks": ""
           }
          },
          "title": {
           "x": 0.05
          },
          "xaxis": {
           "automargin": true,
           "gridcolor": "white",
           "linecolor": "white",
           "ticks": "",
           "title": {
            "standoff": 15
           },
           "zerolinecolor": "white",
           "zerolinewidth": 2
          },
          "yaxis": {
           "automargin": true,
           "gridcolor": "white",
           "linecolor": "white",
           "ticks": "",
           "title": {
            "standoff": 15
           },
           "zerolinecolor": "white",
           "zerolinewidth": 2
          }
         }
        },
        "title": {
         "text": "Beer Statistics by Country and US State"
        },
        "updatemenus": [
         {
          "buttons": [
           {
            "args": [
             {
              "visible": [
               true,
               true,
               false,
               false,
               false,
               false,
               false,
               false,
               false,
               false
              ]
             }
            ],
            "label": "Beers per country",
            "method": "update"
           },
           {
            "args": [
             {
              "visible": [
               false,
               false,
               true,
               true,
               false,
               false,
               false,
               false,
               false,
               false
              ]
             }
            ],
            "label": "Users per country",
            "method": "update"
           },
           {
            "args": [
             {
              "visible": [
               false,
               false,
               false,
               false,
               true,
               true,
               false,
               false,
               false,
               false
              ]
             }
            ],
            "label": "Breweries per country",
            "method": "update"
           },
           {
            "args": [
             {
              "visible": [
               false,
               false,
               false,
               false,
               false,
               false,
               true,
               true,
               false,
               false
              ]
             }
            ],
            "label": "Number of ratings based on the brewery country",
            "method": "update"
           },
           {
            "args": [
             {
              "visible": [
               false,
               false,
               false,
               false,
               false,
               false,
               false,
               false,
               true,
               true
              ]
             }
            ],
            "label": "Number of ratings based on the reviewer country",
            "method": "update"
           }
          ],
          "direction": "down",
          "x": 0.1,
          "xanchor": "left",
          "y": 1,
          "yanchor": "top"
         }
        ],
        "width": 800
       }
      }
     },
     "metadata": {},
     "output_type": "display_data"
    }
   ],
   "source": [
    "# Compute the aggregated value for countries outside the US\n",
    "beers_per_country_no_US = df_beers[df_beers['country_beer'] != 'United States'].groupby('country_beer').size().reset_index(name='count').rename(columns={'country_beer': 'location'})\n",
    "users_per_country_no_US = df_users[df_users['country_user'] != 'United States'].groupby('country_user').size().reset_index(name='count').rename(columns={'country_user': 'location'})\n",
    "breweries_per_country_no_US = df_breweries[df_breweries['country_brewery'] != 'United States'].groupby('country_brewery').size().reset_index(name='count').rename(columns={'country_brewery': 'location'})\n",
    "ratings_in_country_no_US = df_ratings_no_text[df_ratings_no_text['country_brewery'] != 'United States'].groupby('country_brewery').size().reset_index(name='count').rename(columns={'country_brewery': 'location'})\n",
    "ratings_users_country_no_US = df_ratings_no_text[df_ratings_no_text['country_user'] != 'United States'].groupby('country_user').size().reset_index(name='count').rename(columns={'country_user': 'location'})\n",
    "df_no_US = [beers_per_country_no_US, users_per_country_no_US, breweries_per_country_no_US, ratings_in_country_no_US, ratings_users_country_no_US]\n",
    "\n",
    "# Compute the aggregated value for the states of the US\n",
    "beers_per_country_US = df_beers[df_beers['country_beer'] == 'United States'].groupby('state_beer').size().reset_index(name='count').rename(columns={'state_beer': 'location'})\n",
    "users_per_country_US = df_users[df_users['country_user'] == 'United States'].groupby('state_user').size().reset_index(name='count').rename(columns={'state_user': 'location'})\n",
    "breweries_per_country_US = df_breweries[df_breweries['country_brewery'] == 'United States'].groupby('state_brewery').size().reset_index(name='count').rename(columns={'state_brewery': 'location'})\n",
    "ratings_in_country_US = df_ratings_no_text[df_ratings_no_text['country_brewery'] == 'United States'].groupby('state_brewery').size().reset_index(name='count').rename(columns={'state_brewery': 'location'})\n",
    "ratings_users_country_US = df_ratings_no_text[df_ratings_no_text['country_user'] == 'United States'].groupby('state_user').size().reset_index(name='count').rename(columns={'state_user': 'location'})\n",
    "df_US = [beers_per_country_US, users_per_country_US, breweries_per_country_US, ratings_in_country_US, ratings_users_country_US]\n",
    "\n",
    "# Define some options for the plot\n",
    "options = {\n",
    "    \"title\": \"Beer Statistics by Country and US State\",\n",
    "    \"plots\": [\n",
    "        {\n",
    "            'label': 'Beers per country',\n",
    "            'location_label': 'location',\n",
    "            'z_label': 'count',\n",
    "            'colorscale': 'Blues'\n",
    "        },{\n",
    "            'label': 'Users per country',\n",
    "            'location_label': 'location',\n",
    "            'z_label': 'count',\n",
    "            'colorscale': 'Blues'\n",
    "        }, {\n",
    "            'label': 'Breweries per country',\n",
    "            'location_label': 'location',\n",
    "            'z_label': 'count',\n",
    "            'colorscale': 'Blues'\n",
    "        }, {\n",
    "            'label': 'Number of ratings based on the brewery country',\n",
    "            'location_label': 'location',\n",
    "            'z_label': 'count',\n",
    "            'colorscale': 'Blues'\n",
    "        }, {\n",
    "            'label': 'Number of ratings based on the reviewer country',\n",
    "            'location_label': 'location',\n",
    "            'z_label': 'count',\n",
    "            'colorscale': 'Blues'            \n",
    "        }\n",
    "    ]\n",
    "}\n",
    "\n",
    "# Plot the map\n",
    "plot_map(df_no_US, df_US, options)"
   ]
  },
  {
   "cell_type": "markdown",
   "metadata": {},
   "source": [
    "Finally just review the temporal evolution of our data."
   ]
  },
  {
   "cell_type": "code",
   "execution_count": 14,
   "metadata": {},
   "outputs": [
    {
     "data": {
      "application/vnd.plotly.v1+json": {
       "config": {
        "plotlyServerURL": "https://plot.ly"
       },
       "data": [
        {
         "alignmentgroup": "True",
         "hovertemplate": "Year=%{x}<br>Number of ratings=%{y}<extra></extra>",
         "legendgroup": "",
         "marker": {
          "color": "#636efa",
          "pattern": {
           "shape": ""
          }
         },
         "name": "",
         "offsetgroup": "",
         "orientation": "v",
         "showlegend": false,
         "textposition": "auto",
         "type": "bar",
         "x": [
          2002,
          2003,
          2004,
          2005,
          2006,
          2007,
          2008,
          2009,
          2010,
          2011,
          2012,
          2013,
          2014,
          2015,
          2016,
          2017
         ],
         "xaxis": "x",
         "y": [
          78766,
          113425,
          166266,
          219134,
          264120,
          358794,
          400291,
          404951,
          397754,
          458162,
          580999,
          703815,
          814683,
          842672,
          813573,
          485115
         ],
         "yaxis": "y"
        }
       ],
       "layout": {
        "barmode": "relative",
        "height": 600,
        "legend": {
         "tracegroupgap": 0
        },
        "template": {
         "data": {
          "bar": [
           {
            "error_x": {
             "color": "#2a3f5f"
            },
            "error_y": {
             "color": "#2a3f5f"
            },
            "marker": {
             "line": {
              "color": "white",
              "width": 0.5
             },
             "pattern": {
              "fillmode": "overlay",
              "size": 10,
              "solidity": 0.2
             }
            },
            "type": "bar"
           }
          ],
          "barpolar": [
           {
            "marker": {
             "line": {
              "color": "white",
              "width": 0.5
             },
             "pattern": {
              "fillmode": "overlay",
              "size": 10,
              "solidity": 0.2
             }
            },
            "type": "barpolar"
           }
          ],
          "carpet": [
           {
            "aaxis": {
             "endlinecolor": "#2a3f5f",
             "gridcolor": "#C8D4E3",
             "linecolor": "#C8D4E3",
             "minorgridcolor": "#C8D4E3",
             "startlinecolor": "#2a3f5f"
            },
            "baxis": {
             "endlinecolor": "#2a3f5f",
             "gridcolor": "#C8D4E3",
             "linecolor": "#C8D4E3",
             "minorgridcolor": "#C8D4E3",
             "startlinecolor": "#2a3f5f"
            },
            "type": "carpet"
           }
          ],
          "choropleth": [
           {
            "colorbar": {
             "outlinewidth": 0,
             "ticks": ""
            },
            "type": "choropleth"
           }
          ],
          "contour": [
           {
            "colorbar": {
             "outlinewidth": 0,
             "ticks": ""
            },
            "colorscale": [
             [
              0,
              "#0d0887"
             ],
             [
              0.1111111111111111,
              "#46039f"
             ],
             [
              0.2222222222222222,
              "#7201a8"
             ],
             [
              0.3333333333333333,
              "#9c179e"
             ],
             [
              0.4444444444444444,
              "#bd3786"
             ],
             [
              0.5555555555555556,
              "#d8576b"
             ],
             [
              0.6666666666666666,
              "#ed7953"
             ],
             [
              0.7777777777777778,
              "#fb9f3a"
             ],
             [
              0.8888888888888888,
              "#fdca26"
             ],
             [
              1,
              "#f0f921"
             ]
            ],
            "type": "contour"
           }
          ],
          "contourcarpet": [
           {
            "colorbar": {
             "outlinewidth": 0,
             "ticks": ""
            },
            "type": "contourcarpet"
           }
          ],
          "heatmap": [
           {
            "colorbar": {
             "outlinewidth": 0,
             "ticks": ""
            },
            "colorscale": [
             [
              0,
              "#0d0887"
             ],
             [
              0.1111111111111111,
              "#46039f"
             ],
             [
              0.2222222222222222,
              "#7201a8"
             ],
             [
              0.3333333333333333,
              "#9c179e"
             ],
             [
              0.4444444444444444,
              "#bd3786"
             ],
             [
              0.5555555555555556,
              "#d8576b"
             ],
             [
              0.6666666666666666,
              "#ed7953"
             ],
             [
              0.7777777777777778,
              "#fb9f3a"
             ],
             [
              0.8888888888888888,
              "#fdca26"
             ],
             [
              1,
              "#f0f921"
             ]
            ],
            "type": "heatmap"
           }
          ],
          "heatmapgl": [
           {
            "colorbar": {
             "outlinewidth": 0,
             "ticks": ""
            },
            "colorscale": [
             [
              0,
              "#0d0887"
             ],
             [
              0.1111111111111111,
              "#46039f"
             ],
             [
              0.2222222222222222,
              "#7201a8"
             ],
             [
              0.3333333333333333,
              "#9c179e"
             ],
             [
              0.4444444444444444,
              "#bd3786"
             ],
             [
              0.5555555555555556,
              "#d8576b"
             ],
             [
              0.6666666666666666,
              "#ed7953"
             ],
             [
              0.7777777777777778,
              "#fb9f3a"
             ],
             [
              0.8888888888888888,
              "#fdca26"
             ],
             [
              1,
              "#f0f921"
             ]
            ],
            "type": "heatmapgl"
           }
          ],
          "histogram": [
           {
            "marker": {
             "pattern": {
              "fillmode": "overlay",
              "size": 10,
              "solidity": 0.2
             }
            },
            "type": "histogram"
           }
          ],
          "histogram2d": [
           {
            "colorbar": {
             "outlinewidth": 0,
             "ticks": ""
            },
            "colorscale": [
             [
              0,
              "#0d0887"
             ],
             [
              0.1111111111111111,
              "#46039f"
             ],
             [
              0.2222222222222222,
              "#7201a8"
             ],
             [
              0.3333333333333333,
              "#9c179e"
             ],
             [
              0.4444444444444444,
              "#bd3786"
             ],
             [
              0.5555555555555556,
              "#d8576b"
             ],
             [
              0.6666666666666666,
              "#ed7953"
             ],
             [
              0.7777777777777778,
              "#fb9f3a"
             ],
             [
              0.8888888888888888,
              "#fdca26"
             ],
             [
              1,
              "#f0f921"
             ]
            ],
            "type": "histogram2d"
           }
          ],
          "histogram2dcontour": [
           {
            "colorbar": {
             "outlinewidth": 0,
             "ticks": ""
            },
            "colorscale": [
             [
              0,
              "#0d0887"
             ],
             [
              0.1111111111111111,
              "#46039f"
             ],
             [
              0.2222222222222222,
              "#7201a8"
             ],
             [
              0.3333333333333333,
              "#9c179e"
             ],
             [
              0.4444444444444444,
              "#bd3786"
             ],
             [
              0.5555555555555556,
              "#d8576b"
             ],
             [
              0.6666666666666666,
              "#ed7953"
             ],
             [
              0.7777777777777778,
              "#fb9f3a"
             ],
             [
              0.8888888888888888,
              "#fdca26"
             ],
             [
              1,
              "#f0f921"
             ]
            ],
            "type": "histogram2dcontour"
           }
          ],
          "mesh3d": [
           {
            "colorbar": {
             "outlinewidth": 0,
             "ticks": ""
            },
            "type": "mesh3d"
           }
          ],
          "parcoords": [
           {
            "line": {
             "colorbar": {
              "outlinewidth": 0,
              "ticks": ""
             }
            },
            "type": "parcoords"
           }
          ],
          "pie": [
           {
            "automargin": true,
            "type": "pie"
           }
          ],
          "scatter": [
           {
            "fillpattern": {
             "fillmode": "overlay",
             "size": 10,
             "solidity": 0.2
            },
            "type": "scatter"
           }
          ],
          "scatter3d": [
           {
            "line": {
             "colorbar": {
              "outlinewidth": 0,
              "ticks": ""
             }
            },
            "marker": {
             "colorbar": {
              "outlinewidth": 0,
              "ticks": ""
             }
            },
            "type": "scatter3d"
           }
          ],
          "scattercarpet": [
           {
            "marker": {
             "colorbar": {
              "outlinewidth": 0,
              "ticks": ""
             }
            },
            "type": "scattercarpet"
           }
          ],
          "scattergeo": [
           {
            "marker": {
             "colorbar": {
              "outlinewidth": 0,
              "ticks": ""
             }
            },
            "type": "scattergeo"
           }
          ],
          "scattergl": [
           {
            "marker": {
             "colorbar": {
              "outlinewidth": 0,
              "ticks": ""
             }
            },
            "type": "scattergl"
           }
          ],
          "scattermapbox": [
           {
            "marker": {
             "colorbar": {
              "outlinewidth": 0,
              "ticks": ""
             }
            },
            "type": "scattermapbox"
           }
          ],
          "scatterpolar": [
           {
            "marker": {
             "colorbar": {
              "outlinewidth": 0,
              "ticks": ""
             }
            },
            "type": "scatterpolar"
           }
          ],
          "scatterpolargl": [
           {
            "marker": {
             "colorbar": {
              "outlinewidth": 0,
              "ticks": ""
             }
            },
            "type": "scatterpolargl"
           }
          ],
          "scatterternary": [
           {
            "marker": {
             "colorbar": {
              "outlinewidth": 0,
              "ticks": ""
             }
            },
            "type": "scatterternary"
           }
          ],
          "surface": [
           {
            "colorbar": {
             "outlinewidth": 0,
             "ticks": ""
            },
            "colorscale": [
             [
              0,
              "#0d0887"
             ],
             [
              0.1111111111111111,
              "#46039f"
             ],
             [
              0.2222222222222222,
              "#7201a8"
             ],
             [
              0.3333333333333333,
              "#9c179e"
             ],
             [
              0.4444444444444444,
              "#bd3786"
             ],
             [
              0.5555555555555556,
              "#d8576b"
             ],
             [
              0.6666666666666666,
              "#ed7953"
             ],
             [
              0.7777777777777778,
              "#fb9f3a"
             ],
             [
              0.8888888888888888,
              "#fdca26"
             ],
             [
              1,
              "#f0f921"
             ]
            ],
            "type": "surface"
           }
          ],
          "table": [
           {
            "cells": {
             "fill": {
              "color": "#EBF0F8"
             },
             "line": {
              "color": "white"
             }
            },
            "header": {
             "fill": {
              "color": "#C8D4E3"
             },
             "line": {
              "color": "white"
             }
            },
            "type": "table"
           }
          ]
         },
         "layout": {
          "annotationdefaults": {
           "arrowcolor": "#2a3f5f",
           "arrowhead": 0,
           "arrowwidth": 1
          },
          "autotypenumbers": "strict",
          "coloraxis": {
           "colorbar": {
            "outlinewidth": 0,
            "ticks": ""
           }
          },
          "colorscale": {
           "diverging": [
            [
             0,
             "#8e0152"
            ],
            [
             0.1,
             "#c51b7d"
            ],
            [
             0.2,
             "#de77ae"
            ],
            [
             0.3,
             "#f1b6da"
            ],
            [
             0.4,
             "#fde0ef"
            ],
            [
             0.5,
             "#f7f7f7"
            ],
            [
             0.6,
             "#e6f5d0"
            ],
            [
             0.7,
             "#b8e186"
            ],
            [
             0.8,
             "#7fbc41"
            ],
            [
             0.9,
             "#4d9221"
            ],
            [
             1,
             "#276419"
            ]
           ],
           "sequential": [
            [
             0,
             "#0d0887"
            ],
            [
             0.1111111111111111,
             "#46039f"
            ],
            [
             0.2222222222222222,
             "#7201a8"
            ],
            [
             0.3333333333333333,
             "#9c179e"
            ],
            [
             0.4444444444444444,
             "#bd3786"
            ],
            [
             0.5555555555555556,
             "#d8576b"
            ],
            [
             0.6666666666666666,
             "#ed7953"
            ],
            [
             0.7777777777777778,
             "#fb9f3a"
            ],
            [
             0.8888888888888888,
             "#fdca26"
            ],
            [
             1,
             "#f0f921"
            ]
           ],
           "sequentialminus": [
            [
             0,
             "#0d0887"
            ],
            [
             0.1111111111111111,
             "#46039f"
            ],
            [
             0.2222222222222222,
             "#7201a8"
            ],
            [
             0.3333333333333333,
             "#9c179e"
            ],
            [
             0.4444444444444444,
             "#bd3786"
            ],
            [
             0.5555555555555556,
             "#d8576b"
            ],
            [
             0.6666666666666666,
             "#ed7953"
            ],
            [
             0.7777777777777778,
             "#fb9f3a"
            ],
            [
             0.8888888888888888,
             "#fdca26"
            ],
            [
             1,
             "#f0f921"
            ]
           ]
          },
          "colorway": [
           "#636efa",
           "#EF553B",
           "#00cc96",
           "#ab63fa",
           "#FFA15A",
           "#19d3f3",
           "#FF6692",
           "#B6E880",
           "#FF97FF",
           "#FECB52"
          ],
          "font": {
           "color": "#2a3f5f"
          },
          "geo": {
           "bgcolor": "white",
           "lakecolor": "white",
           "landcolor": "white",
           "showlakes": true,
           "showland": true,
           "subunitcolor": "#C8D4E3"
          },
          "hoverlabel": {
           "align": "left"
          },
          "hovermode": "closest",
          "mapbox": {
           "style": "light"
          },
          "paper_bgcolor": "white",
          "plot_bgcolor": "white",
          "polar": {
           "angularaxis": {
            "gridcolor": "#EBF0F8",
            "linecolor": "#EBF0F8",
            "ticks": ""
           },
           "bgcolor": "white",
           "radialaxis": {
            "gridcolor": "#EBF0F8",
            "linecolor": "#EBF0F8",
            "ticks": ""
           }
          },
          "scene": {
           "xaxis": {
            "backgroundcolor": "white",
            "gridcolor": "#DFE8F3",
            "gridwidth": 2,
            "linecolor": "#EBF0F8",
            "showbackground": true,
            "ticks": "",
            "zerolinecolor": "#EBF0F8"
           },
           "yaxis": {
            "backgroundcolor": "white",
            "gridcolor": "#DFE8F3",
            "gridwidth": 2,
            "linecolor": "#EBF0F8",
            "showbackground": true,
            "ticks": "",
            "zerolinecolor": "#EBF0F8"
           },
           "zaxis": {
            "backgroundcolor": "white",
            "gridcolor": "#DFE8F3",
            "gridwidth": 2,
            "linecolor": "#EBF0F8",
            "showbackground": true,
            "ticks": "",
            "zerolinecolor": "#EBF0F8"
           }
          },
          "shapedefaults": {
           "line": {
            "color": "#2a3f5f"
           }
          },
          "ternary": {
           "aaxis": {
            "gridcolor": "#DFE8F3",
            "linecolor": "#A2B1C6",
            "ticks": ""
           },
           "baxis": {
            "gridcolor": "#DFE8F3",
            "linecolor": "#A2B1C6",
            "ticks": ""
           },
           "bgcolor": "white",
           "caxis": {
            "gridcolor": "#DFE8F3",
            "linecolor": "#A2B1C6",
            "ticks": ""
           }
          },
          "title": {
           "x": 0.05
          },
          "xaxis": {
           "automargin": true,
           "gridcolor": "#EBF0F8",
           "linecolor": "#EBF0F8",
           "ticks": "",
           "title": {
            "standoff": 15
           },
           "zerolinecolor": "#EBF0F8",
           "zerolinewidth": 2
          },
          "yaxis": {
           "automargin": true,
           "gridcolor": "#EBF0F8",
           "linecolor": "#EBF0F8",
           "ticks": "",
           "title": {
            "standoff": 15
           },
           "zerolinecolor": "#EBF0F8",
           "zerolinewidth": 2
          }
         }
        },
        "title": {
         "text": "Number of ratings per year"
        },
        "width": 800,
        "xaxis": {
         "anchor": "y",
         "domain": [
          0,
          1
         ],
         "title": {
          "text": "Year"
         }
        },
        "yaxis": {
         "anchor": "x",
         "domain": [
          0,
          1
         ],
         "title": {
          "text": "Number of ratings"
         }
        }
       }
      }
     },
     "metadata": {},
     "output_type": "display_data"
    }
   ],
   "source": [
    "year_grouping = df_ratings_no_text.groupby(df_ratings_no_text['date'].dt.year).size().reset_index(name='count').rename(columns={'date': 'Year', 'count': 'Number of ratings'})\n",
    "px.bar(year_grouping, x='Year', y='Number of ratings', title=f'Number of ratings per year').show()"
   ]
  },
  {
   "cell_type": "code",
   "execution_count": 15,
   "metadata": {},
   "outputs": [
    {
     "data": {
      "application/vnd.plotly.v1+json": {
       "config": {
        "plotlyServerURL": "https://plot.ly"
       },
       "data": [
        {
         "alignmentgroup": "True",
         "hovertemplate": "Year=%{x}<br>Number of users=%{y}<extra></extra>",
         "legendgroup": "",
         "marker": {
          "color": "#636efa",
          "pattern": {
           "shape": ""
          }
         },
         "name": "",
         "offsetgroup": "",
         "orientation": "v",
         "showlegend": false,
         "textposition": "auto",
         "type": "bar",
         "x": [
          2000,
          2001,
          2002,
          2003,
          2004,
          2005,
          2006,
          2007,
          2008,
          2009,
          2010,
          2011,
          2012,
          2013,
          2014,
          2015,
          2016,
          2017
         ],
         "xaxis": "x",
         "y": [
          88,
          802,
          1406,
          1072,
          1752,
          2299,
          2746,
          3267,
          3178,
          2479,
          2507,
          3251,
          5968,
          5497,
          4894,
          4061,
          3029,
          2296
         ],
         "yaxis": "y"
        }
       ],
       "layout": {
        "barmode": "relative",
        "height": 600,
        "legend": {
         "tracegroupgap": 0
        },
        "template": {
         "data": {
          "bar": [
           {
            "error_x": {
             "color": "#2a3f5f"
            },
            "error_y": {
             "color": "#2a3f5f"
            },
            "marker": {
             "line": {
              "color": "white",
              "width": 0.5
             },
             "pattern": {
              "fillmode": "overlay",
              "size": 10,
              "solidity": 0.2
             }
            },
            "type": "bar"
           }
          ],
          "barpolar": [
           {
            "marker": {
             "line": {
              "color": "white",
              "width": 0.5
             },
             "pattern": {
              "fillmode": "overlay",
              "size": 10,
              "solidity": 0.2
             }
            },
            "type": "barpolar"
           }
          ],
          "carpet": [
           {
            "aaxis": {
             "endlinecolor": "#2a3f5f",
             "gridcolor": "#C8D4E3",
             "linecolor": "#C8D4E3",
             "minorgridcolor": "#C8D4E3",
             "startlinecolor": "#2a3f5f"
            },
            "baxis": {
             "endlinecolor": "#2a3f5f",
             "gridcolor": "#C8D4E3",
             "linecolor": "#C8D4E3",
             "minorgridcolor": "#C8D4E3",
             "startlinecolor": "#2a3f5f"
            },
            "type": "carpet"
           }
          ],
          "choropleth": [
           {
            "colorbar": {
             "outlinewidth": 0,
             "ticks": ""
            },
            "type": "choropleth"
           }
          ],
          "contour": [
           {
            "colorbar": {
             "outlinewidth": 0,
             "ticks": ""
            },
            "colorscale": [
             [
              0,
              "#0d0887"
             ],
             [
              0.1111111111111111,
              "#46039f"
             ],
             [
              0.2222222222222222,
              "#7201a8"
             ],
             [
              0.3333333333333333,
              "#9c179e"
             ],
             [
              0.4444444444444444,
              "#bd3786"
             ],
             [
              0.5555555555555556,
              "#d8576b"
             ],
             [
              0.6666666666666666,
              "#ed7953"
             ],
             [
              0.7777777777777778,
              "#fb9f3a"
             ],
             [
              0.8888888888888888,
              "#fdca26"
             ],
             [
              1,
              "#f0f921"
             ]
            ],
            "type": "contour"
           }
          ],
          "contourcarpet": [
           {
            "colorbar": {
             "outlinewidth": 0,
             "ticks": ""
            },
            "type": "contourcarpet"
           }
          ],
          "heatmap": [
           {
            "colorbar": {
             "outlinewidth": 0,
             "ticks": ""
            },
            "colorscale": [
             [
              0,
              "#0d0887"
             ],
             [
              0.1111111111111111,
              "#46039f"
             ],
             [
              0.2222222222222222,
              "#7201a8"
             ],
             [
              0.3333333333333333,
              "#9c179e"
             ],
             [
              0.4444444444444444,
              "#bd3786"
             ],
             [
              0.5555555555555556,
              "#d8576b"
             ],
             [
              0.6666666666666666,
              "#ed7953"
             ],
             [
              0.7777777777777778,
              "#fb9f3a"
             ],
             [
              0.8888888888888888,
              "#fdca26"
             ],
             [
              1,
              "#f0f921"
             ]
            ],
            "type": "heatmap"
           }
          ],
          "heatmapgl": [
           {
            "colorbar": {
             "outlinewidth": 0,
             "ticks": ""
            },
            "colorscale": [
             [
              0,
              "#0d0887"
             ],
             [
              0.1111111111111111,
              "#46039f"
             ],
             [
              0.2222222222222222,
              "#7201a8"
             ],
             [
              0.3333333333333333,
              "#9c179e"
             ],
             [
              0.4444444444444444,
              "#bd3786"
             ],
             [
              0.5555555555555556,
              "#d8576b"
             ],
             [
              0.6666666666666666,
              "#ed7953"
             ],
             [
              0.7777777777777778,
              "#fb9f3a"
             ],
             [
              0.8888888888888888,
              "#fdca26"
             ],
             [
              1,
              "#f0f921"
             ]
            ],
            "type": "heatmapgl"
           }
          ],
          "histogram": [
           {
            "marker": {
             "pattern": {
              "fillmode": "overlay",
              "size": 10,
              "solidity": 0.2
             }
            },
            "type": "histogram"
           }
          ],
          "histogram2d": [
           {
            "colorbar": {
             "outlinewidth": 0,
             "ticks": ""
            },
            "colorscale": [
             [
              0,
              "#0d0887"
             ],
             [
              0.1111111111111111,
              "#46039f"
             ],
             [
              0.2222222222222222,
              "#7201a8"
             ],
             [
              0.3333333333333333,
              "#9c179e"
             ],
             [
              0.4444444444444444,
              "#bd3786"
             ],
             [
              0.5555555555555556,
              "#d8576b"
             ],
             [
              0.6666666666666666,
              "#ed7953"
             ],
             [
              0.7777777777777778,
              "#fb9f3a"
             ],
             [
              0.8888888888888888,
              "#fdca26"
             ],
             [
              1,
              "#f0f921"
             ]
            ],
            "type": "histogram2d"
           }
          ],
          "histogram2dcontour": [
           {
            "colorbar": {
             "outlinewidth": 0,
             "ticks": ""
            },
            "colorscale": [
             [
              0,
              "#0d0887"
             ],
             [
              0.1111111111111111,
              "#46039f"
             ],
             [
              0.2222222222222222,
              "#7201a8"
             ],
             [
              0.3333333333333333,
              "#9c179e"
             ],
             [
              0.4444444444444444,
              "#bd3786"
             ],
             [
              0.5555555555555556,
              "#d8576b"
             ],
             [
              0.6666666666666666,
              "#ed7953"
             ],
             [
              0.7777777777777778,
              "#fb9f3a"
             ],
             [
              0.8888888888888888,
              "#fdca26"
             ],
             [
              1,
              "#f0f921"
             ]
            ],
            "type": "histogram2dcontour"
           }
          ],
          "mesh3d": [
           {
            "colorbar": {
             "outlinewidth": 0,
             "ticks": ""
            },
            "type": "mesh3d"
           }
          ],
          "parcoords": [
           {
            "line": {
             "colorbar": {
              "outlinewidth": 0,
              "ticks": ""
             }
            },
            "type": "parcoords"
           }
          ],
          "pie": [
           {
            "automargin": true,
            "type": "pie"
           }
          ],
          "scatter": [
           {
            "fillpattern": {
             "fillmode": "overlay",
             "size": 10,
             "solidity": 0.2
            },
            "type": "scatter"
           }
          ],
          "scatter3d": [
           {
            "line": {
             "colorbar": {
              "outlinewidth": 0,
              "ticks": ""
             }
            },
            "marker": {
             "colorbar": {
              "outlinewidth": 0,
              "ticks": ""
             }
            },
            "type": "scatter3d"
           }
          ],
          "scattercarpet": [
           {
            "marker": {
             "colorbar": {
              "outlinewidth": 0,
              "ticks": ""
             }
            },
            "type": "scattercarpet"
           }
          ],
          "scattergeo": [
           {
            "marker": {
             "colorbar": {
              "outlinewidth": 0,
              "ticks": ""
             }
            },
            "type": "scattergeo"
           }
          ],
          "scattergl": [
           {
            "marker": {
             "colorbar": {
              "outlinewidth": 0,
              "ticks": ""
             }
            },
            "type": "scattergl"
           }
          ],
          "scattermapbox": [
           {
            "marker": {
             "colorbar": {
              "outlinewidth": 0,
              "ticks": ""
             }
            },
            "type": "scattermapbox"
           }
          ],
          "scatterpolar": [
           {
            "marker": {
             "colorbar": {
              "outlinewidth": 0,
              "ticks": ""
             }
            },
            "type": "scatterpolar"
           }
          ],
          "scatterpolargl": [
           {
            "marker": {
             "colorbar": {
              "outlinewidth": 0,
              "ticks": ""
             }
            },
            "type": "scatterpolargl"
           }
          ],
          "scatterternary": [
           {
            "marker": {
             "colorbar": {
              "outlinewidth": 0,
              "ticks": ""
             }
            },
            "type": "scatterternary"
           }
          ],
          "surface": [
           {
            "colorbar": {
             "outlinewidth": 0,
             "ticks": ""
            },
            "colorscale": [
             [
              0,
              "#0d0887"
             ],
             [
              0.1111111111111111,
              "#46039f"
             ],
             [
              0.2222222222222222,
              "#7201a8"
             ],
             [
              0.3333333333333333,
              "#9c179e"
             ],
             [
              0.4444444444444444,
              "#bd3786"
             ],
             [
              0.5555555555555556,
              "#d8576b"
             ],
             [
              0.6666666666666666,
              "#ed7953"
             ],
             [
              0.7777777777777778,
              "#fb9f3a"
             ],
             [
              0.8888888888888888,
              "#fdca26"
             ],
             [
              1,
              "#f0f921"
             ]
            ],
            "type": "surface"
           }
          ],
          "table": [
           {
            "cells": {
             "fill": {
              "color": "#EBF0F8"
             },
             "line": {
              "color": "white"
             }
            },
            "header": {
             "fill": {
              "color": "#C8D4E3"
             },
             "line": {
              "color": "white"
             }
            },
            "type": "table"
           }
          ]
         },
         "layout": {
          "annotationdefaults": {
           "arrowcolor": "#2a3f5f",
           "arrowhead": 0,
           "arrowwidth": 1
          },
          "autotypenumbers": "strict",
          "coloraxis": {
           "colorbar": {
            "outlinewidth": 0,
            "ticks": ""
           }
          },
          "colorscale": {
           "diverging": [
            [
             0,
             "#8e0152"
            ],
            [
             0.1,
             "#c51b7d"
            ],
            [
             0.2,
             "#de77ae"
            ],
            [
             0.3,
             "#f1b6da"
            ],
            [
             0.4,
             "#fde0ef"
            ],
            [
             0.5,
             "#f7f7f7"
            ],
            [
             0.6,
             "#e6f5d0"
            ],
            [
             0.7,
             "#b8e186"
            ],
            [
             0.8,
             "#7fbc41"
            ],
            [
             0.9,
             "#4d9221"
            ],
            [
             1,
             "#276419"
            ]
           ],
           "sequential": [
            [
             0,
             "#0d0887"
            ],
            [
             0.1111111111111111,
             "#46039f"
            ],
            [
             0.2222222222222222,
             "#7201a8"
            ],
            [
             0.3333333333333333,
             "#9c179e"
            ],
            [
             0.4444444444444444,
             "#bd3786"
            ],
            [
             0.5555555555555556,
             "#d8576b"
            ],
            [
             0.6666666666666666,
             "#ed7953"
            ],
            [
             0.7777777777777778,
             "#fb9f3a"
            ],
            [
             0.8888888888888888,
             "#fdca26"
            ],
            [
             1,
             "#f0f921"
            ]
           ],
           "sequentialminus": [
            [
             0,
             "#0d0887"
            ],
            [
             0.1111111111111111,
             "#46039f"
            ],
            [
             0.2222222222222222,
             "#7201a8"
            ],
            [
             0.3333333333333333,
             "#9c179e"
            ],
            [
             0.4444444444444444,
             "#bd3786"
            ],
            [
             0.5555555555555556,
             "#d8576b"
            ],
            [
             0.6666666666666666,
             "#ed7953"
            ],
            [
             0.7777777777777778,
             "#fb9f3a"
            ],
            [
             0.8888888888888888,
             "#fdca26"
            ],
            [
             1,
             "#f0f921"
            ]
           ]
          },
          "colorway": [
           "#636efa",
           "#EF553B",
           "#00cc96",
           "#ab63fa",
           "#FFA15A",
           "#19d3f3",
           "#FF6692",
           "#B6E880",
           "#FF97FF",
           "#FECB52"
          ],
          "font": {
           "color": "#2a3f5f"
          },
          "geo": {
           "bgcolor": "white",
           "lakecolor": "white",
           "landcolor": "white",
           "showlakes": true,
           "showland": true,
           "subunitcolor": "#C8D4E3"
          },
          "hoverlabel": {
           "align": "left"
          },
          "hovermode": "closest",
          "mapbox": {
           "style": "light"
          },
          "paper_bgcolor": "white",
          "plot_bgcolor": "white",
          "polar": {
           "angularaxis": {
            "gridcolor": "#EBF0F8",
            "linecolor": "#EBF0F8",
            "ticks": ""
           },
           "bgcolor": "white",
           "radialaxis": {
            "gridcolor": "#EBF0F8",
            "linecolor": "#EBF0F8",
            "ticks": ""
           }
          },
          "scene": {
           "xaxis": {
            "backgroundcolor": "white",
            "gridcolor": "#DFE8F3",
            "gridwidth": 2,
            "linecolor": "#EBF0F8",
            "showbackground": true,
            "ticks": "",
            "zerolinecolor": "#EBF0F8"
           },
           "yaxis": {
            "backgroundcolor": "white",
            "gridcolor": "#DFE8F3",
            "gridwidth": 2,
            "linecolor": "#EBF0F8",
            "showbackground": true,
            "ticks": "",
            "zerolinecolor": "#EBF0F8"
           },
           "zaxis": {
            "backgroundcolor": "white",
            "gridcolor": "#DFE8F3",
            "gridwidth": 2,
            "linecolor": "#EBF0F8",
            "showbackground": true,
            "ticks": "",
            "zerolinecolor": "#EBF0F8"
           }
          },
          "shapedefaults": {
           "line": {
            "color": "#2a3f5f"
           }
          },
          "ternary": {
           "aaxis": {
            "gridcolor": "#DFE8F3",
            "linecolor": "#A2B1C6",
            "ticks": ""
           },
           "baxis": {
            "gridcolor": "#DFE8F3",
            "linecolor": "#A2B1C6",
            "ticks": ""
           },
           "bgcolor": "white",
           "caxis": {
            "gridcolor": "#DFE8F3",
            "linecolor": "#A2B1C6",
            "ticks": ""
           }
          },
          "title": {
           "x": 0.05
          },
          "xaxis": {
           "automargin": true,
           "gridcolor": "#EBF0F8",
           "linecolor": "#EBF0F8",
           "ticks": "",
           "title": {
            "standoff": 15
           },
           "zerolinecolor": "#EBF0F8",
           "zerolinewidth": 2
          },
          "yaxis": {
           "automargin": true,
           "gridcolor": "#EBF0F8",
           "linecolor": "#EBF0F8",
           "ticks": "",
           "title": {
            "standoff": 15
           },
           "zerolinecolor": "#EBF0F8",
           "zerolinewidth": 2
          }
         }
        },
        "title": {
         "text": "Number of users that has joined each year"
        },
        "width": 800,
        "xaxis": {
         "anchor": "y",
         "domain": [
          0,
          1
         ],
         "title": {
          "text": "Year"
         }
        },
        "yaxis": {
         "anchor": "x",
         "domain": [
          0,
          1
         ],
         "title": {
          "text": "Number of users"
         }
        }
       }
      }
     },
     "metadata": {},
     "output_type": "display_data"
    }
   ],
   "source": [
    "year_grouping = df_users.groupby(df_users['joined'].dt.year).size().reset_index(name='count').rename(columns={'joined': 'Year', 'count': 'Number of users'})\n",
    "px.bar(year_grouping, x='Year', y='Number of users', title=f'Number of users that has joined each year').show()"
   ]
  },
  {
   "cell_type": "markdown",
   "metadata": {},
   "source": [
    "## Preliminary preference analysis\n",
    "In this section we are going to analyze the preferences of the users of the platform in a general way.\n",
    "### Correlation between the ratings attributes\n",
    "Here we are gonna analyze the correlation between the ratings attributes given by the users. "
   ]
  },
  {
   "cell_type": "code",
   "execution_count": 16,
   "metadata": {},
   "outputs": [
    {
     "data": {
      "application/vnd.plotly.v1+json": {
       "config": {
        "plotlyServerURL": "https://plot.ly"
       },
       "data": [
        {
         "colorscale": [
          [
           0,
           "pink"
          ],
          [
           1,
           "red"
          ]
         ],
         "hoverinfo": "text",
         "showscale": true,
         "text": [
          "palate vs taste: 0.65",
          "palate vs appearance: 0.55",
          "taste vs appearance: 0.48",
          "palate vs aroma: 0.56",
          "taste vs aroma: 0.79",
          "appearance vs aroma: 0.47",
          "palate vs overall: 0.65",
          "taste vs overall: 0.86",
          "appearance vs overall: 0.49",
          "aroma vs overall: 0.77",
          "palate vs abv: 0.30",
          "taste vs abv: 0.36",
          "appearance vs abv: 0.25",
          "aroma vs abv: 0.37",
          "overall vs abv: 0.37"
         ],
         "type": "heatmap",
         "x": [
          "palate",
          "palate",
          "taste",
          "palate",
          "taste",
          "appearance",
          "palate",
          "taste",
          "appearance",
          "aroma",
          "palate",
          "taste",
          "appearance",
          "aroma",
          "overall"
         ],
         "y": [
          "taste",
          "appearance",
          "appearance",
          "aroma",
          "aroma",
          "aroma",
          "overall",
          "overall",
          "overall",
          "overall",
          "abv",
          "abv",
          "abv",
          "abv",
          "abv"
         ],
         "z": [
          0.6531477932368326,
          0.5475016227760683,
          0.4820900491929534,
          0.563931876727276,
          0.7931654085104242,
          0.47347461367449606,
          0.6548457973152799,
          0.8558621283723951,
          0.49476075212009724,
          0.772874262926073,
          0.30478314437547027,
          0.35832960929226465,
          0.25135769651903145,
          0.37231496281312365,
          0.3710574555270257
         ],
         "zmax": 0.8558621283723951,
         "zmin": 0.25135769651903145
        }
       ],
       "layout": {
        "annotations": [
         {
          "font": {
           "color": "black",
           "size": 14
          },
          "showarrow": false,
          "text": "0.65",
          "x": "palate",
          "y": "taste"
         },
         {
          "font": {
           "color": "black",
           "size": 14
          },
          "showarrow": false,
          "text": "0.55",
          "x": "palate",
          "y": "appearance"
         },
         {
          "font": {
           "color": "black",
           "size": 14
          },
          "showarrow": false,
          "text": "0.48",
          "x": "taste",
          "y": "appearance"
         },
         {
          "font": {
           "color": "black",
           "size": 14
          },
          "showarrow": false,
          "text": "0.56",
          "x": "palate",
          "y": "aroma"
         },
         {
          "font": {
           "color": "black",
           "size": 14
          },
          "showarrow": false,
          "text": "0.79",
          "x": "taste",
          "y": "aroma"
         },
         {
          "font": {
           "color": "black",
           "size": 14
          },
          "showarrow": false,
          "text": "0.47",
          "x": "appearance",
          "y": "aroma"
         },
         {
          "font": {
           "color": "black",
           "size": 14
          },
          "showarrow": false,
          "text": "0.65",
          "x": "palate",
          "y": "overall"
         },
         {
          "font": {
           "color": "black",
           "size": 14
          },
          "showarrow": false,
          "text": "0.86",
          "x": "taste",
          "y": "overall"
         },
         {
          "font": {
           "color": "black",
           "size": 14
          },
          "showarrow": false,
          "text": "0.49",
          "x": "appearance",
          "y": "overall"
         },
         {
          "font": {
           "color": "black",
           "size": 14
          },
          "showarrow": false,
          "text": "0.77",
          "x": "aroma",
          "y": "overall"
         },
         {
          "font": {
           "color": "black",
           "size": 14
          },
          "showarrow": false,
          "text": "0.30",
          "x": "palate",
          "y": "abv"
         },
         {
          "font": {
           "color": "black",
           "size": 14
          },
          "showarrow": false,
          "text": "0.36",
          "x": "taste",
          "y": "abv"
         },
         {
          "font": {
           "color": "black",
           "size": 14
          },
          "showarrow": false,
          "text": "0.25",
          "x": "appearance",
          "y": "abv"
         },
         {
          "font": {
           "color": "black",
           "size": 14
          },
          "showarrow": false,
          "text": "0.37",
          "x": "aroma",
          "y": "abv"
         },
         {
          "font": {
           "color": "black",
           "size": 14
          },
          "showarrow": false,
          "text": "0.37",
          "x": "overall",
          "y": "abv"
         }
        ],
        "autosize": true,
        "height": 600,
        "paper_bgcolor": "white",
        "plot_bgcolor": "white",
        "template": {
         "data": {
          "bar": [
           {
            "error_x": {
             "color": "#2a3f5f"
            },
            "error_y": {
             "color": "#2a3f5f"
            },
            "marker": {
             "line": {
              "color": "#E5ECF6",
              "width": 0.5
             },
             "pattern": {
              "fillmode": "overlay",
              "size": 10,
              "solidity": 0.2
             }
            },
            "type": "bar"
           }
          ],
          "barpolar": [
           {
            "marker": {
             "line": {
              "color": "#E5ECF6",
              "width": 0.5
             },
             "pattern": {
              "fillmode": "overlay",
              "size": 10,
              "solidity": 0.2
             }
            },
            "type": "barpolar"
           }
          ],
          "carpet": [
           {
            "aaxis": {
             "endlinecolor": "#2a3f5f",
             "gridcolor": "white",
             "linecolor": "white",
             "minorgridcolor": "white",
             "startlinecolor": "#2a3f5f"
            },
            "baxis": {
             "endlinecolor": "#2a3f5f",
             "gridcolor": "white",
             "linecolor": "white",
             "minorgridcolor": "white",
             "startlinecolor": "#2a3f5f"
            },
            "type": "carpet"
           }
          ],
          "choropleth": [
           {
            "colorbar": {
             "outlinewidth": 0,
             "ticks": ""
            },
            "type": "choropleth"
           }
          ],
          "contour": [
           {
            "colorbar": {
             "outlinewidth": 0,
             "ticks": ""
            },
            "colorscale": [
             [
              0,
              "#0d0887"
             ],
             [
              0.1111111111111111,
              "#46039f"
             ],
             [
              0.2222222222222222,
              "#7201a8"
             ],
             [
              0.3333333333333333,
              "#9c179e"
             ],
             [
              0.4444444444444444,
              "#bd3786"
             ],
             [
              0.5555555555555556,
              "#d8576b"
             ],
             [
              0.6666666666666666,
              "#ed7953"
             ],
             [
              0.7777777777777778,
              "#fb9f3a"
             ],
             [
              0.8888888888888888,
              "#fdca26"
             ],
             [
              1,
              "#f0f921"
             ]
            ],
            "type": "contour"
           }
          ],
          "contourcarpet": [
           {
            "colorbar": {
             "outlinewidth": 0,
             "ticks": ""
            },
            "type": "contourcarpet"
           }
          ],
          "heatmap": [
           {
            "colorbar": {
             "outlinewidth": 0,
             "ticks": ""
            },
            "colorscale": [
             [
              0,
              "#0d0887"
             ],
             [
              0.1111111111111111,
              "#46039f"
             ],
             [
              0.2222222222222222,
              "#7201a8"
             ],
             [
              0.3333333333333333,
              "#9c179e"
             ],
             [
              0.4444444444444444,
              "#bd3786"
             ],
             [
              0.5555555555555556,
              "#d8576b"
             ],
             [
              0.6666666666666666,
              "#ed7953"
             ],
             [
              0.7777777777777778,
              "#fb9f3a"
             ],
             [
              0.8888888888888888,
              "#fdca26"
             ],
             [
              1,
              "#f0f921"
             ]
            ],
            "type": "heatmap"
           }
          ],
          "heatmapgl": [
           {
            "colorbar": {
             "outlinewidth": 0,
             "ticks": ""
            },
            "colorscale": [
             [
              0,
              "#0d0887"
             ],
             [
              0.1111111111111111,
              "#46039f"
             ],
             [
              0.2222222222222222,
              "#7201a8"
             ],
             [
              0.3333333333333333,
              "#9c179e"
             ],
             [
              0.4444444444444444,
              "#bd3786"
             ],
             [
              0.5555555555555556,
              "#d8576b"
             ],
             [
              0.6666666666666666,
              "#ed7953"
             ],
             [
              0.7777777777777778,
              "#fb9f3a"
             ],
             [
              0.8888888888888888,
              "#fdca26"
             ],
             [
              1,
              "#f0f921"
             ]
            ],
            "type": "heatmapgl"
           }
          ],
          "histogram": [
           {
            "marker": {
             "pattern": {
              "fillmode": "overlay",
              "size": 10,
              "solidity": 0.2
             }
            },
            "type": "histogram"
           }
          ],
          "histogram2d": [
           {
            "colorbar": {
             "outlinewidth": 0,
             "ticks": ""
            },
            "colorscale": [
             [
              0,
              "#0d0887"
             ],
             [
              0.1111111111111111,
              "#46039f"
             ],
             [
              0.2222222222222222,
              "#7201a8"
             ],
             [
              0.3333333333333333,
              "#9c179e"
             ],
             [
              0.4444444444444444,
              "#bd3786"
             ],
             [
              0.5555555555555556,
              "#d8576b"
             ],
             [
              0.6666666666666666,
              "#ed7953"
             ],
             [
              0.7777777777777778,
              "#fb9f3a"
             ],
             [
              0.8888888888888888,
              "#fdca26"
             ],
             [
              1,
              "#f0f921"
             ]
            ],
            "type": "histogram2d"
           }
          ],
          "histogram2dcontour": [
           {
            "colorbar": {
             "outlinewidth": 0,
             "ticks": ""
            },
            "colorscale": [
             [
              0,
              "#0d0887"
             ],
             [
              0.1111111111111111,
              "#46039f"
             ],
             [
              0.2222222222222222,
              "#7201a8"
             ],
             [
              0.3333333333333333,
              "#9c179e"
             ],
             [
              0.4444444444444444,
              "#bd3786"
             ],
             [
              0.5555555555555556,
              "#d8576b"
             ],
             [
              0.6666666666666666,
              "#ed7953"
             ],
             [
              0.7777777777777778,
              "#fb9f3a"
             ],
             [
              0.8888888888888888,
              "#fdca26"
             ],
             [
              1,
              "#f0f921"
             ]
            ],
            "type": "histogram2dcontour"
           }
          ],
          "mesh3d": [
           {
            "colorbar": {
             "outlinewidth": 0,
             "ticks": ""
            },
            "type": "mesh3d"
           }
          ],
          "parcoords": [
           {
            "line": {
             "colorbar": {
              "outlinewidth": 0,
              "ticks": ""
             }
            },
            "type": "parcoords"
           }
          ],
          "pie": [
           {
            "automargin": true,
            "type": "pie"
           }
          ],
          "scatter": [
           {
            "fillpattern": {
             "fillmode": "overlay",
             "size": 10,
             "solidity": 0.2
            },
            "type": "scatter"
           }
          ],
          "scatter3d": [
           {
            "line": {
             "colorbar": {
              "outlinewidth": 0,
              "ticks": ""
             }
            },
            "marker": {
             "colorbar": {
              "outlinewidth": 0,
              "ticks": ""
             }
            },
            "type": "scatter3d"
           }
          ],
          "scattercarpet": [
           {
            "marker": {
             "colorbar": {
              "outlinewidth": 0,
              "ticks": ""
             }
            },
            "type": "scattercarpet"
           }
          ],
          "scattergeo": [
           {
            "marker": {
             "colorbar": {
              "outlinewidth": 0,
              "ticks": ""
             }
            },
            "type": "scattergeo"
           }
          ],
          "scattergl": [
           {
            "marker": {
             "colorbar": {
              "outlinewidth": 0,
              "ticks": ""
             }
            },
            "type": "scattergl"
           }
          ],
          "scattermapbox": [
           {
            "marker": {
             "colorbar": {
              "outlinewidth": 0,
              "ticks": ""
             }
            },
            "type": "scattermapbox"
           }
          ],
          "scatterpolar": [
           {
            "marker": {
             "colorbar": {
              "outlinewidth": 0,
              "ticks": ""
             }
            },
            "type": "scatterpolar"
           }
          ],
          "scatterpolargl": [
           {
            "marker": {
             "colorbar": {
              "outlinewidth": 0,
              "ticks": ""
             }
            },
            "type": "scatterpolargl"
           }
          ],
          "scatterternary": [
           {
            "marker": {
             "colorbar": {
              "outlinewidth": 0,
              "ticks": ""
             }
            },
            "type": "scatterternary"
           }
          ],
          "surface": [
           {
            "colorbar": {
             "outlinewidth": 0,
             "ticks": ""
            },
            "colorscale": [
             [
              0,
              "#0d0887"
             ],
             [
              0.1111111111111111,
              "#46039f"
             ],
             [
              0.2222222222222222,
              "#7201a8"
             ],
             [
              0.3333333333333333,
              "#9c179e"
             ],
             [
              0.4444444444444444,
              "#bd3786"
             ],
             [
              0.5555555555555556,
              "#d8576b"
             ],
             [
              0.6666666666666666,
              "#ed7953"
             ],
             [
              0.7777777777777778,
              "#fb9f3a"
             ],
             [
              0.8888888888888888,
              "#fdca26"
             ],
             [
              1,
              "#f0f921"
             ]
            ],
            "type": "surface"
           }
          ],
          "table": [
           {
            "cells": {
             "fill": {
              "color": "#EBF0F8"
             },
             "line": {
              "color": "white"
             }
            },
            "header": {
             "fill": {
              "color": "#C8D4E3"
             },
             "line": {
              "color": "white"
             }
            },
            "type": "table"
           }
          ]
         },
         "layout": {
          "annotationdefaults": {
           "arrowcolor": "#2a3f5f",
           "arrowhead": 0,
           "arrowwidth": 1
          },
          "autotypenumbers": "strict",
          "coloraxis": {
           "colorbar": {
            "outlinewidth": 0,
            "ticks": ""
           }
          },
          "colorscale": {
           "diverging": [
            [
             0,
             "#8e0152"
            ],
            [
             0.1,
             "#c51b7d"
            ],
            [
             0.2,
             "#de77ae"
            ],
            [
             0.3,
             "#f1b6da"
            ],
            [
             0.4,
             "#fde0ef"
            ],
            [
             0.5,
             "#f7f7f7"
            ],
            [
             0.6,
             "#e6f5d0"
            ],
            [
             0.7,
             "#b8e186"
            ],
            [
             0.8,
             "#7fbc41"
            ],
            [
             0.9,
             "#4d9221"
            ],
            [
             1,
             "#276419"
            ]
           ],
           "sequential": [
            [
             0,
             "#0d0887"
            ],
            [
             0.1111111111111111,
             "#46039f"
            ],
            [
             0.2222222222222222,
             "#7201a8"
            ],
            [
             0.3333333333333333,
             "#9c179e"
            ],
            [
             0.4444444444444444,
             "#bd3786"
            ],
            [
             0.5555555555555556,
             "#d8576b"
            ],
            [
             0.6666666666666666,
             "#ed7953"
            ],
            [
             0.7777777777777778,
             "#fb9f3a"
            ],
            [
             0.8888888888888888,
             "#fdca26"
            ],
            [
             1,
             "#f0f921"
            ]
           ],
           "sequentialminus": [
            [
             0,
             "#0d0887"
            ],
            [
             0.1111111111111111,
             "#46039f"
            ],
            [
             0.2222222222222222,
             "#7201a8"
            ],
            [
             0.3333333333333333,
             "#9c179e"
            ],
            [
             0.4444444444444444,
             "#bd3786"
            ],
            [
             0.5555555555555556,
             "#d8576b"
            ],
            [
             0.6666666666666666,
             "#ed7953"
            ],
            [
             0.7777777777777778,
             "#fb9f3a"
            ],
            [
             0.8888888888888888,
             "#fdca26"
            ],
            [
             1,
             "#f0f921"
            ]
           ]
          },
          "colorway": [
           "#636efa",
           "#EF553B",
           "#00cc96",
           "#ab63fa",
           "#FFA15A",
           "#19d3f3",
           "#FF6692",
           "#B6E880",
           "#FF97FF",
           "#FECB52"
          ],
          "font": {
           "color": "#2a3f5f"
          },
          "geo": {
           "bgcolor": "white",
           "lakecolor": "white",
           "landcolor": "#E5ECF6",
           "showlakes": true,
           "showland": true,
           "subunitcolor": "white"
          },
          "hoverlabel": {
           "align": "left"
          },
          "hovermode": "closest",
          "mapbox": {
           "style": "light"
          },
          "paper_bgcolor": "white",
          "plot_bgcolor": "#E5ECF6",
          "polar": {
           "angularaxis": {
            "gridcolor": "white",
            "linecolor": "white",
            "ticks": ""
           },
           "bgcolor": "#E5ECF6",
           "radialaxis": {
            "gridcolor": "white",
            "linecolor": "white",
            "ticks": ""
           }
          },
          "scene": {
           "xaxis": {
            "backgroundcolor": "#E5ECF6",
            "gridcolor": "white",
            "gridwidth": 2,
            "linecolor": "white",
            "showbackground": true,
            "ticks": "",
            "zerolinecolor": "white"
           },
           "yaxis": {
            "backgroundcolor": "#E5ECF6",
            "gridcolor": "white",
            "gridwidth": 2,
            "linecolor": "white",
            "showbackground": true,
            "ticks": "",
            "zerolinecolor": "white"
           },
           "zaxis": {
            "backgroundcolor": "#E5ECF6",
            "gridcolor": "white",
            "gridwidth": 2,
            "linecolor": "white",
            "showbackground": true,
            "ticks": "",
            "zerolinecolor": "white"
           }
          },
          "shapedefaults": {
           "line": {
            "color": "#2a3f5f"
           }
          },
          "ternary": {
           "aaxis": {
            "gridcolor": "white",
            "linecolor": "white",
            "ticks": ""
           },
           "baxis": {
            "gridcolor": "white",
            "linecolor": "white",
            "ticks": ""
           },
           "bgcolor": "#E5ECF6",
           "caxis": {
            "gridcolor": "white",
            "linecolor": "white",
            "ticks": ""
           }
          },
          "title": {
           "x": 0.05
          },
          "xaxis": {
           "automargin": true,
           "gridcolor": "white",
           "linecolor": "white",
           "ticks": "",
           "title": {
            "standoff": 15
           },
           "zerolinecolor": "white",
           "zerolinewidth": 2
          },
          "yaxis": {
           "automargin": true,
           "gridcolor": "white",
           "linecolor": "white",
           "ticks": "",
           "title": {
            "standoff": 15
           },
           "zerolinecolor": "white",
           "zerolinewidth": 2
          }
         }
        },
        "title": {
         "text": "Correlation matrix between the ratings provided by the users"
        },
        "width": 800,
        "xaxis": {
         "tickangle": 45,
         "tickfont": {
          "size": 14
         }
        },
        "yaxis": {
         "tickfont": {
          "size": 14
         },
         "tickmode": "linear"
        }
       }
      }
     },
     "metadata": {},
     "output_type": "display_data"
    }
   ],
   "source": [
    "corr = df_ratings_no_text[['palate','taste','appearance','aroma','overall','abv']].corr()\n",
    "plot_correlation_matrix(df_ratings_no_text[['palate','taste','appearance','aroma','overall','abv']], filename=SAVING_FOLDER + 'correlation_matrix.html', title='Correlation matrix between the ratings provided by the users')"
   ]
  },
  {
   "cell_type": "markdown",
   "metadata": {},
   "source": [
    "All factors influence the overall user experience, but taste (correlation: 0.86) and aroma (correlation: 0.77) stand out as the most significant. Palate (correlation: 0.66) and appearance (correlation: 0.50) show slightly lower correlations with overall experience, though their contribute remain important."
   ]
  },
  {
   "cell_type": "markdown",
   "metadata": {},
   "source": [
    "### Rating in the different countries"
   ]
  },
  {
   "cell_type": "code",
   "execution_count": 17,
   "metadata": {},
   "outputs": [
    {
     "data": {
      "application/vnd.plotly.v1+json": {
       "config": {
        "plotlyServerURL": "https://plot.ly"
       },
       "data": [
        {
         "colorscale": [
          [
           0,
           "rgb(247,251,255)"
          ],
          [
           0.125,
           "rgb(222,235,247)"
          ],
          [
           0.25,
           "rgb(198,219,239)"
          ],
          [
           0.375,
           "rgb(158,202,225)"
          ],
          [
           0.5,
           "rgb(107,174,214)"
          ],
          [
           0.625,
           "rgb(66,146,198)"
          ],
          [
           0.75,
           "rgb(33,113,181)"
          ],
          [
           0.875,
           "rgb(8,81,156)"
          ],
          [
           1,
           "rgb(8,48,107)"
          ]
         ],
         "hovertemplate": "<b>%{location}</b><br>Count: %{z}<extra></extra>",
         "locationmode": "country names",
         "locations": [
          "Albania",
          "Andorra",
          "Argentina",
          "Armenia",
          "Aruba",
          "Australia",
          "Austria",
          "Bahamas",
          "Barbados",
          "Belarus",
          "Belgium",
          "Belize",
          "Bolivia",
          "Bosnia and Herzegovina",
          "Brazil",
          "Bulgaria",
          "Cambodia",
          "Canada",
          "Cayman Islands",
          "Chile",
          "China",
          "Colombia",
          "Costa Rica",
          "Croatia",
          "Cuba",
          "Cyprus",
          "Czech Republic",
          "Denmark",
          "Dominican Republic",
          "Ecuador",
          "Egypt",
          "El Salvador",
          "Estonia",
          "Ethiopia",
          "Faroe Islands",
          "Fiji Islands",
          "Finland",
          "France",
          "French Polynesia",
          "Georgia",
          "Germany",
          "Ghana",
          "Greece",
          "Greenland",
          "Guatemala",
          "Guernsey",
          "Honduras",
          "Hong Kong",
          "Hungary",
          "Iceland",
          "India",
          "Indonesia",
          "Iran",
          "Ireland",
          "Isle of Man",
          "Israel",
          "Italy",
          "Jamaica",
          "Japan",
          "Jersey",
          "Jordan",
          "Kazakhstan",
          "Kenya",
          "Kosovo",
          "Laos",
          "Latvia",
          "Lebanon",
          "Liechtenstein",
          "Lithuania",
          "Luxembourg",
          "Macedonia",
          "Malaysia",
          "Malta",
          "Mauritius",
          "Mexico",
          "Moldova",
          "Mongolia",
          "Montenegro",
          "Morocco",
          "Mozambique",
          "Myanmar",
          "Namibia",
          "Nepal",
          "Netherlands",
          "New Zealand",
          "Nicaragua",
          "Nigeria",
          "Norway",
          "Palestine",
          "Panama",
          "Peru",
          "Philippines",
          "Poland",
          "Portugal",
          "Puerto Rico",
          "Romania",
          "Russia",
          "Serbia",
          "Singapore",
          "Slovak Republic",
          "Slovenia",
          "South Africa",
          "South Korea",
          "Spain",
          "Sri Lanka",
          "Sweden",
          "Switzerland",
          "Taiwan",
          "Tanzania",
          "Thailand",
          "Trinidad & Tobago",
          "Tunisia",
          "Turkey",
          "Uganda",
          "Ukraine",
          "United Kingdom",
          "Uruguay",
          "Venezuela",
          "Vietnam",
          "Virgin Islands (U.S.)"
         ],
         "showscale": false,
         "type": "choropleth",
         "visible": true,
         "z": [
          2.1119777158774373,
          2.585714285714286,
          2.6071124361158433,
          2.190193704600484,
          2.132142857142857,
          3.038479824004489,
          3.0774179844229406,
          2.1667020148462353,
          2.296662387676508,
          2.604080854309687,
          3.504538003087467,
          2.4284671532846716,
          2.153821138211382,
          2.4098099325567137,
          2.975954960954053,
          2.4408252853380157,
          2.4073109243697477,
          3.269657455902715,
          2.57681660899654,
          2.8572778827977316,
          2.212811980033278,
          2.267986577181208,
          2.2302416721097322,
          2.7686063518595905,
          1.9291887125220457,
          2.3464528668610303,
          3.048063822978101,
          3.122775931658169,
          1.9824804856895057,
          2.4479198767334363,
          1.9371052631578949,
          1.8471218206157964,
          3.085399653551101,
          2.358841463414634,
          2.5985116653258244,
          2.134180790960452,
          2.9712023367528286,
          2.956065472430893,
          2.1241992882562277,
          2.259514687100894,
          3.0620578959679308,
          2.0742063492063494,
          2.70343653250774,
          2.7908484270734033,
          1.8582524271844658,
          2.685576923076923,
          2.0233333333333334,
          2.7852747252747254,
          2.8593738125997414,
          3.1531395891690006,
          2.1159295659295663,
          2.122723091076357,
          1.4996015936254978,
          3.2355034616786105,
          3.116532553035845,
          2.947370073794944,
          3.2566550573061464,
          2.478071784123657,
          3.0774893774247185,
          2.94389721627409,
          2.047986577181208,
          2.3023316062176167,
          2.172442019099591,
          2.5430062630480164,
          2.2985581874356336,
          2.79519672458558,
          2.4788275862068967,
          2.831714285714286,
          2.6627374261933556,
          2.637854889589905,
          2.281461675579323,
          2.471820809248555,
          2.5261559696342304,
          2.1226069246435846,
          2.3308035872531994,
          2.625130434782609,
          2.127946127946128,
          2.413151364764268,
          2.1713907284768212,
          2.148709677419355,
          2.015934065934066,
          2.4640977443609025,
          2.1583892617449667,
          3.198893552079359,
          3.327106045589693,
          1.8474358974358975,
          2.7653566229985445,
          3.3405564191660573,
          2.541122913505311,
          2.2560553633217992,
          2.4727154612386313,
          2.1934151329243354,
          3.2087224074956326,
          2.7047354790972995,
          2.4709737827715355,
          2.5894881398252183,
          2.73585602652143,
          2.838377659574468,
          2.615945874237198,
          3.016022384213239,
          2.783854836405201,
          2.804666304937602,
          2.262509012256669,
          3.0908076339934665,
          3.3252747252747255,
          3.214385252477875,
          3.190166772666243,
          2.522436459246275,
          2.0038297872340425,
          2.272901064249113,
          2.8090719933416564,
          2.0529010238907848,
          2.269458762886598,
          1.9331306990881458,
          2.563836186950486,
          3.270101997862902,
          2.33530701754386,
          1.9391681109185444,
          2.2760953382404487,
          2.7517567567567567
         ]
        },
        {
         "colorbar": {
          "len": 1,
          "title": {
           "text": "Scale"
          }
         },
         "colorscale": [
          [
           0,
           "rgb(247,251,255)"
          ],
          [
           0.125,
           "rgb(222,235,247)"
          ],
          [
           0.25,
           "rgb(198,219,239)"
          ],
          [
           0.375,
           "rgb(158,202,225)"
          ],
          [
           0.5,
           "rgb(107,174,214)"
          ],
          [
           0.625,
           "rgb(66,146,198)"
          ],
          [
           0.75,
           "rgb(33,113,181)"
          ],
          [
           0.875,
           "rgb(8,81,156)"
          ],
          [
           1,
           "rgb(8,48,107)"
          ]
         ],
         "hovertemplate": "<b>%{location}</b><br>Count: %{z}<extra></extra>",
         "locationmode": "USA-states",
         "locations": [
          "AL",
          "AK",
          "AZ",
          "AR",
          "CA",
          "CO",
          "CT",
          "DE",
          "FL",
          "GA",
          "HI",
          "ID",
          "IL",
          "IN",
          "IA",
          "KS",
          "KY",
          "LA",
          "ME",
          "MD",
          "MA",
          "MI",
          "MN",
          "MS",
          "MO",
          "MT",
          "NE",
          "NV",
          "NH",
          "NJ",
          "NM",
          "NY",
          "NC",
          "ND",
          "OH",
          "OK",
          "OR",
          "PA",
          "RI",
          "SC",
          "SD",
          "TN",
          "TX",
          "UT",
          "VT",
          "VA",
          "WA",
          "DC",
          "WV",
          "WI",
          "WY"
         ],
         "type": "choropleth",
         "visible": true,
         "z": [
          3.316425120772947,
          3.6289127640641996,
          3.4334482600101137,
          3.204294736842105,
          3.607065812874062,
          3.328193440217961,
          3.4538578007696676,
          3.3501601830663614,
          3.4047234281203913,
          3.494032813192846,
          3.266277503367759,
          3.43866314282568,
          3.5505284900815064,
          3.39996364958197,
          3.422144228859016,
          3.41994769874477,
          3.32896492971745,
          3.0626016260162605,
          3.4458462013588638,
          3.415719425334857,
          3.468828318584071,
          3.473650808062466,
          3.403321382065964,
          3.291067669172932,
          2.844486724246734,
          3.3063541106931758,
          3.3170930365951588,
          3.2097563570592618,
          3.4924528301886792,
          3.4137957244655586,
          3.3976409165619263,
          3.46312048075044,
          3.4085830255731304,
          3.292094455852156,
          3.558746736292428,
          3.6471860614760185,
          3.5358534330909155,
          3.3418373950510056,
          3.240222866737903,
          3.4813734381297867,
          3.187142857142857,
          3.2890271621775202,
          3.3513728253810333,
          3.4534853076821714,
          3.5022036656617668,
          3.4083928571428572,
          3.3551607499516787,
          3.516448894858957,
          3.1975676601575884,
          2.9682576538344954,
          3.4014528944381386
         ],
         "zmax": 3.6471860614760185,
         "zmin": 1.4996015936254978
        }
       ],
       "layout": {
        "geo": {
         "projection": {
          "type": "equirectangular"
         },
         "showcoastlines": true,
         "showframe": false
        },
        "height": 600,
        "template": {
         "data": {
          "bar": [
           {
            "error_x": {
             "color": "#2a3f5f"
            },
            "error_y": {
             "color": "#2a3f5f"
            },
            "marker": {
             "line": {
              "color": "#E5ECF6",
              "width": 0.5
             },
             "pattern": {
              "fillmode": "overlay",
              "size": 10,
              "solidity": 0.2
             }
            },
            "type": "bar"
           }
          ],
          "barpolar": [
           {
            "marker": {
             "line": {
              "color": "#E5ECF6",
              "width": 0.5
             },
             "pattern": {
              "fillmode": "overlay",
              "size": 10,
              "solidity": 0.2
             }
            },
            "type": "barpolar"
           }
          ],
          "carpet": [
           {
            "aaxis": {
             "endlinecolor": "#2a3f5f",
             "gridcolor": "white",
             "linecolor": "white",
             "minorgridcolor": "white",
             "startlinecolor": "#2a3f5f"
            },
            "baxis": {
             "endlinecolor": "#2a3f5f",
             "gridcolor": "white",
             "linecolor": "white",
             "minorgridcolor": "white",
             "startlinecolor": "#2a3f5f"
            },
            "type": "carpet"
           }
          ],
          "choropleth": [
           {
            "colorbar": {
             "outlinewidth": 0,
             "ticks": ""
            },
            "type": "choropleth"
           }
          ],
          "contour": [
           {
            "colorbar": {
             "outlinewidth": 0,
             "ticks": ""
            },
            "colorscale": [
             [
              0,
              "#0d0887"
             ],
             [
              0.1111111111111111,
              "#46039f"
             ],
             [
              0.2222222222222222,
              "#7201a8"
             ],
             [
              0.3333333333333333,
              "#9c179e"
             ],
             [
              0.4444444444444444,
              "#bd3786"
             ],
             [
              0.5555555555555556,
              "#d8576b"
             ],
             [
              0.6666666666666666,
              "#ed7953"
             ],
             [
              0.7777777777777778,
              "#fb9f3a"
             ],
             [
              0.8888888888888888,
              "#fdca26"
             ],
             [
              1,
              "#f0f921"
             ]
            ],
            "type": "contour"
           }
          ],
          "contourcarpet": [
           {
            "colorbar": {
             "outlinewidth": 0,
             "ticks": ""
            },
            "type": "contourcarpet"
           }
          ],
          "heatmap": [
           {
            "colorbar": {
             "outlinewidth": 0,
             "ticks": ""
            },
            "colorscale": [
             [
              0,
              "#0d0887"
             ],
             [
              0.1111111111111111,
              "#46039f"
             ],
             [
              0.2222222222222222,
              "#7201a8"
             ],
             [
              0.3333333333333333,
              "#9c179e"
             ],
             [
              0.4444444444444444,
              "#bd3786"
             ],
             [
              0.5555555555555556,
              "#d8576b"
             ],
             [
              0.6666666666666666,
              "#ed7953"
             ],
             [
              0.7777777777777778,
              "#fb9f3a"
             ],
             [
              0.8888888888888888,
              "#fdca26"
             ],
             [
              1,
              "#f0f921"
             ]
            ],
            "type": "heatmap"
           }
          ],
          "heatmapgl": [
           {
            "colorbar": {
             "outlinewidth": 0,
             "ticks": ""
            },
            "colorscale": [
             [
              0,
              "#0d0887"
             ],
             [
              0.1111111111111111,
              "#46039f"
             ],
             [
              0.2222222222222222,
              "#7201a8"
             ],
             [
              0.3333333333333333,
              "#9c179e"
             ],
             [
              0.4444444444444444,
              "#bd3786"
             ],
             [
              0.5555555555555556,
              "#d8576b"
             ],
             [
              0.6666666666666666,
              "#ed7953"
             ],
             [
              0.7777777777777778,
              "#fb9f3a"
             ],
             [
              0.8888888888888888,
              "#fdca26"
             ],
             [
              1,
              "#f0f921"
             ]
            ],
            "type": "heatmapgl"
           }
          ],
          "histogram": [
           {
            "marker": {
             "pattern": {
              "fillmode": "overlay",
              "size": 10,
              "solidity": 0.2
             }
            },
            "type": "histogram"
           }
          ],
          "histogram2d": [
           {
            "colorbar": {
             "outlinewidth": 0,
             "ticks": ""
            },
            "colorscale": [
             [
              0,
              "#0d0887"
             ],
             [
              0.1111111111111111,
              "#46039f"
             ],
             [
              0.2222222222222222,
              "#7201a8"
             ],
             [
              0.3333333333333333,
              "#9c179e"
             ],
             [
              0.4444444444444444,
              "#bd3786"
             ],
             [
              0.5555555555555556,
              "#d8576b"
             ],
             [
              0.6666666666666666,
              "#ed7953"
             ],
             [
              0.7777777777777778,
              "#fb9f3a"
             ],
             [
              0.8888888888888888,
              "#fdca26"
             ],
             [
              1,
              "#f0f921"
             ]
            ],
            "type": "histogram2d"
           }
          ],
          "histogram2dcontour": [
           {
            "colorbar": {
             "outlinewidth": 0,
             "ticks": ""
            },
            "colorscale": [
             [
              0,
              "#0d0887"
             ],
             [
              0.1111111111111111,
              "#46039f"
             ],
             [
              0.2222222222222222,
              "#7201a8"
             ],
             [
              0.3333333333333333,
              "#9c179e"
             ],
             [
              0.4444444444444444,
              "#bd3786"
             ],
             [
              0.5555555555555556,
              "#d8576b"
             ],
             [
              0.6666666666666666,
              "#ed7953"
             ],
             [
              0.7777777777777778,
              "#fb9f3a"
             ],
             [
              0.8888888888888888,
              "#fdca26"
             ],
             [
              1,
              "#f0f921"
             ]
            ],
            "type": "histogram2dcontour"
           }
          ],
          "mesh3d": [
           {
            "colorbar": {
             "outlinewidth": 0,
             "ticks": ""
            },
            "type": "mesh3d"
           }
          ],
          "parcoords": [
           {
            "line": {
             "colorbar": {
              "outlinewidth": 0,
              "ticks": ""
             }
            },
            "type": "parcoords"
           }
          ],
          "pie": [
           {
            "automargin": true,
            "type": "pie"
           }
          ],
          "scatter": [
           {
            "fillpattern": {
             "fillmode": "overlay",
             "size": 10,
             "solidity": 0.2
            },
            "type": "scatter"
           }
          ],
          "scatter3d": [
           {
            "line": {
             "colorbar": {
              "outlinewidth": 0,
              "ticks": ""
             }
            },
            "marker": {
             "colorbar": {
              "outlinewidth": 0,
              "ticks": ""
             }
            },
            "type": "scatter3d"
           }
          ],
          "scattercarpet": [
           {
            "marker": {
             "colorbar": {
              "outlinewidth": 0,
              "ticks": ""
             }
            },
            "type": "scattercarpet"
           }
          ],
          "scattergeo": [
           {
            "marker": {
             "colorbar": {
              "outlinewidth": 0,
              "ticks": ""
             }
            },
            "type": "scattergeo"
           }
          ],
          "scattergl": [
           {
            "marker": {
             "colorbar": {
              "outlinewidth": 0,
              "ticks": ""
             }
            },
            "type": "scattergl"
           }
          ],
          "scattermapbox": [
           {
            "marker": {
             "colorbar": {
              "outlinewidth": 0,
              "ticks": ""
             }
            },
            "type": "scattermapbox"
           }
          ],
          "scatterpolar": [
           {
            "marker": {
             "colorbar": {
              "outlinewidth": 0,
              "ticks": ""
             }
            },
            "type": "scatterpolar"
           }
          ],
          "scatterpolargl": [
           {
            "marker": {
             "colorbar": {
              "outlinewidth": 0,
              "ticks": ""
             }
            },
            "type": "scatterpolargl"
           }
          ],
          "scatterternary": [
           {
            "marker": {
             "colorbar": {
              "outlinewidth": 0,
              "ticks": ""
             }
            },
            "type": "scatterternary"
           }
          ],
          "surface": [
           {
            "colorbar": {
             "outlinewidth": 0,
             "ticks": ""
            },
            "colorscale": [
             [
              0,
              "#0d0887"
             ],
             [
              0.1111111111111111,
              "#46039f"
             ],
             [
              0.2222222222222222,
              "#7201a8"
             ],
             [
              0.3333333333333333,
              "#9c179e"
             ],
             [
              0.4444444444444444,
              "#bd3786"
             ],
             [
              0.5555555555555556,
              "#d8576b"
             ],
             [
              0.6666666666666666,
              "#ed7953"
             ],
             [
              0.7777777777777778,
              "#fb9f3a"
             ],
             [
              0.8888888888888888,
              "#fdca26"
             ],
             [
              1,
              "#f0f921"
             ]
            ],
            "type": "surface"
           }
          ],
          "table": [
           {
            "cells": {
             "fill": {
              "color": "#EBF0F8"
             },
             "line": {
              "color": "white"
             }
            },
            "header": {
             "fill": {
              "color": "#C8D4E3"
             },
             "line": {
              "color": "white"
             }
            },
            "type": "table"
           }
          ]
         },
         "layout": {
          "annotationdefaults": {
           "arrowcolor": "#2a3f5f",
           "arrowhead": 0,
           "arrowwidth": 1
          },
          "autotypenumbers": "strict",
          "coloraxis": {
           "colorbar": {
            "outlinewidth": 0,
            "ticks": ""
           }
          },
          "colorscale": {
           "diverging": [
            [
             0,
             "#8e0152"
            ],
            [
             0.1,
             "#c51b7d"
            ],
            [
             0.2,
             "#de77ae"
            ],
            [
             0.3,
             "#f1b6da"
            ],
            [
             0.4,
             "#fde0ef"
            ],
            [
             0.5,
             "#f7f7f7"
            ],
            [
             0.6,
             "#e6f5d0"
            ],
            [
             0.7,
             "#b8e186"
            ],
            [
             0.8,
             "#7fbc41"
            ],
            [
             0.9,
             "#4d9221"
            ],
            [
             1,
             "#276419"
            ]
           ],
           "sequential": [
            [
             0,
             "#0d0887"
            ],
            [
             0.1111111111111111,
             "#46039f"
            ],
            [
             0.2222222222222222,
             "#7201a8"
            ],
            [
             0.3333333333333333,
             "#9c179e"
            ],
            [
             0.4444444444444444,
             "#bd3786"
            ],
            [
             0.5555555555555556,
             "#d8576b"
            ],
            [
             0.6666666666666666,
             "#ed7953"
            ],
            [
             0.7777777777777778,
             "#fb9f3a"
            ],
            [
             0.8888888888888888,
             "#fdca26"
            ],
            [
             1,
             "#f0f921"
            ]
           ],
           "sequentialminus": [
            [
             0,
             "#0d0887"
            ],
            [
             0.1111111111111111,
             "#46039f"
            ],
            [
             0.2222222222222222,
             "#7201a8"
            ],
            [
             0.3333333333333333,
             "#9c179e"
            ],
            [
             0.4444444444444444,
             "#bd3786"
            ],
            [
             0.5555555555555556,
             "#d8576b"
            ],
            [
             0.6666666666666666,
             "#ed7953"
            ],
            [
             0.7777777777777778,
             "#fb9f3a"
            ],
            [
             0.8888888888888888,
             "#fdca26"
            ],
            [
             1,
             "#f0f921"
            ]
           ]
          },
          "colorway": [
           "#636efa",
           "#EF553B",
           "#00cc96",
           "#ab63fa",
           "#FFA15A",
           "#19d3f3",
           "#FF6692",
           "#B6E880",
           "#FF97FF",
           "#FECB52"
          ],
          "font": {
           "color": "#2a3f5f"
          },
          "geo": {
           "bgcolor": "white",
           "lakecolor": "white",
           "landcolor": "#E5ECF6",
           "showlakes": true,
           "showland": true,
           "subunitcolor": "white"
          },
          "hoverlabel": {
           "align": "left"
          },
          "hovermode": "closest",
          "mapbox": {
           "style": "light"
          },
          "paper_bgcolor": "white",
          "plot_bgcolor": "#E5ECF6",
          "polar": {
           "angularaxis": {
            "gridcolor": "white",
            "linecolor": "white",
            "ticks": ""
           },
           "bgcolor": "#E5ECF6",
           "radialaxis": {
            "gridcolor": "white",
            "linecolor": "white",
            "ticks": ""
           }
          },
          "scene": {
           "xaxis": {
            "backgroundcolor": "#E5ECF6",
            "gridcolor": "white",
            "gridwidth": 2,
            "linecolor": "white",
            "showbackground": true,
            "ticks": "",
            "zerolinecolor": "white"
           },
           "yaxis": {
            "backgroundcolor": "#E5ECF6",
            "gridcolor": "white",
            "gridwidth": 2,
            "linecolor": "white",
            "showbackground": true,
            "ticks": "",
            "zerolinecolor": "white"
           },
           "zaxis": {
            "backgroundcolor": "#E5ECF6",
            "gridcolor": "white",
            "gridwidth": 2,
            "linecolor": "white",
            "showbackground": true,
            "ticks": "",
            "zerolinecolor": "white"
           }
          },
          "shapedefaults": {
           "line": {
            "color": "#2a3f5f"
           }
          },
          "ternary": {
           "aaxis": {
            "gridcolor": "white",
            "linecolor": "white",
            "ticks": ""
           },
           "baxis": {
            "gridcolor": "white",
            "linecolor": "white",
            "ticks": ""
           },
           "bgcolor": "#E5ECF6",
           "caxis": {
            "gridcolor": "white",
            "linecolor": "white",
            "ticks": ""
           }
          },
          "title": {
           "x": 0.05
          },
          "xaxis": {
           "automargin": true,
           "gridcolor": "white",
           "linecolor": "white",
           "ticks": "",
           "title": {
            "standoff": 15
           },
           "zerolinecolor": "white",
           "zerolinewidth": 2
          },
          "yaxis": {
           "automargin": true,
           "gridcolor": "white",
           "linecolor": "white",
           "ticks": "",
           "title": {
            "standoff": 15
           },
           "zerolinecolor": "white",
           "zerolinewidth": 2
          }
         }
        },
        "title": {
         "text": "Average Ratings by Country and US State"
        },
        "width": 800
       }
      }
     },
     "metadata": {},
     "output_type": "display_data"
    }
   ],
   "source": [
    "# Remove the countries with less than 250 ratings\n",
    "number_of_ratings_per_country = df_ratings_no_text.groupby('country_brewery').size().reset_index().rename(columns={0:'count'})\n",
    "number_of_ratings_per_country = number_of_ratings_per_country[number_of_ratings_per_country['count'] > 250]\n",
    "df_ratings_filtered = df_ratings_no_text[df_ratings_no_text['country_brewery'].isin(number_of_ratings_per_country['country_brewery'])]\n",
    "\n",
    "# Compute the average rating per country\n",
    "average_rating_no_US = df_ratings_filtered[df_ratings_filtered['country_brewery'] != 'United States'].groupby('country_brewery')['rating'].mean().reset_index().rename(columns={'country_brewery':'location', 'rating':'count'})\n",
    "average_rating_US = df_ratings_filtered[df_ratings_filtered['country_brewery'] == 'United States'].groupby('state_brewery')['rating'].mean().reset_index().rename(columns={'state_brewery':'location', 'rating':'count'})\n",
    "\n",
    "# Plot everything\n",
    "options = {\n",
    "    \"title\": \"Average Ratings by Country and US State\",\n",
    "    \"plots\": [{\n",
    "        'label': 'Beers per country',\n",
    "        'location_label': 'location',\n",
    "        'z_label': 'count',\n",
    "        'colorscale': 'Blues'\n",
    "    }]\n",
    "}\n",
    "plot_map(average_rating_no_US, average_rating_US, options)"
   ]
  },
  {
   "cell_type": "code",
   "execution_count": 18,
   "metadata": {},
   "outputs": [
    {
     "data": {
      "text/html": [
       "<div>\n",
       "<style scoped>\n",
       "    .dataframe tbody tr th:only-of-type {\n",
       "        vertical-align: middle;\n",
       "    }\n",
       "\n",
       "    .dataframe tbody tr th {\n",
       "        vertical-align: top;\n",
       "    }\n",
       "\n",
       "    .dataframe thead th {\n",
       "        text-align: right;\n",
       "    }\n",
       "</style>\n",
       "<table border=\"1\" class=\"dataframe\">\n",
       "  <thead>\n",
       "    <tr style=\"text-align: right;\">\n",
       "      <th></th>\n",
       "      <th>location</th>\n",
       "      <th>count</th>\n",
       "    </tr>\n",
       "  </thead>\n",
       "  <tbody>\n",
       "    <tr>\n",
       "      <th>35</th>\n",
       "      <td>Oklahoma</td>\n",
       "      <td>3.647186</td>\n",
       "    </tr>\n",
       "    <tr>\n",
       "      <th>1</th>\n",
       "      <td>Alaska</td>\n",
       "      <td>3.628913</td>\n",
       "    </tr>\n",
       "    <tr>\n",
       "      <th>4</th>\n",
       "      <td>California</td>\n",
       "      <td>3.607066</td>\n",
       "    </tr>\n",
       "    <tr>\n",
       "      <th>34</th>\n",
       "      <td>Ohio</td>\n",
       "      <td>3.558747</td>\n",
       "    </tr>\n",
       "    <tr>\n",
       "      <th>12</th>\n",
       "      <td>Illinois</td>\n",
       "      <td>3.550528</td>\n",
       "    </tr>\n",
       "    <tr>\n",
       "      <th>36</th>\n",
       "      <td>Oregon</td>\n",
       "      <td>3.535853</td>\n",
       "    </tr>\n",
       "    <tr>\n",
       "      <th>47</th>\n",
       "      <td>Washington DC</td>\n",
       "      <td>3.516449</td>\n",
       "    </tr>\n",
       "    <tr>\n",
       "      <th>10</th>\n",
       "      <td>Belgium</td>\n",
       "      <td>3.504538</td>\n",
       "    </tr>\n",
       "    <tr>\n",
       "      <th>44</th>\n",
       "      <td>Vermont</td>\n",
       "      <td>3.502204</td>\n",
       "    </tr>\n",
       "    <tr>\n",
       "      <th>9</th>\n",
       "      <td>Georgia</td>\n",
       "      <td>3.494033</td>\n",
       "    </tr>\n",
       "  </tbody>\n",
       "</table>\n",
       "</div>"
      ],
      "text/plain": [
       "         location     count\n",
       "35       Oklahoma  3.647186\n",
       "1          Alaska  3.628913\n",
       "4      California  3.607066\n",
       "34           Ohio  3.558747\n",
       "12       Illinois  3.550528\n",
       "36         Oregon  3.535853\n",
       "47  Washington DC  3.516449\n",
       "10        Belgium  3.504538\n",
       "44        Vermont  3.502204\n",
       "9         Georgia  3.494033"
      ]
     },
     "execution_count": 18,
     "metadata": {},
     "output_type": "execute_result"
    }
   ],
   "source": [
    "average_rating = pd.concat([average_rating_no_US, average_rating_US]).sort_values('count', ascending=False)\n",
    "average_rating.head(10)"
   ]
  },
  {
   "cell_type": "code",
   "execution_count": 19,
   "metadata": {},
   "outputs": [
    {
     "data": {
      "text/html": [
       "<div>\n",
       "<style scoped>\n",
       "    .dataframe tbody tr th:only-of-type {\n",
       "        vertical-align: middle;\n",
       "    }\n",
       "\n",
       "    .dataframe tbody tr th {\n",
       "        vertical-align: top;\n",
       "    }\n",
       "\n",
       "    .dataframe thead th {\n",
       "        text-align: right;\n",
       "    }\n",
       "</style>\n",
       "<table border=\"1\" class=\"dataframe\">\n",
       "  <thead>\n",
       "    <tr style=\"text-align: right;\">\n",
       "      <th></th>\n",
       "      <th>location</th>\n",
       "      <th>count</th>\n",
       "    </tr>\n",
       "  </thead>\n",
       "  <tbody>\n",
       "    <tr>\n",
       "      <th>52</th>\n",
       "      <td>Iran</td>\n",
       "      <td>1.499602</td>\n",
       "    </tr>\n",
       "    <tr>\n",
       "      <th>31</th>\n",
       "      <td>El Salvador</td>\n",
       "      <td>1.847122</td>\n",
       "    </tr>\n",
       "    <tr>\n",
       "      <th>85</th>\n",
       "      <td>Nicaragua</td>\n",
       "      <td>1.847436</td>\n",
       "    </tr>\n",
       "    <tr>\n",
       "      <th>44</th>\n",
       "      <td>Guatemala</td>\n",
       "      <td>1.858252</td>\n",
       "    </tr>\n",
       "    <tr>\n",
       "      <th>24</th>\n",
       "      <td>Cuba</td>\n",
       "      <td>1.929189</td>\n",
       "    </tr>\n",
       "    <tr>\n",
       "      <th>113</th>\n",
       "      <td>Uganda</td>\n",
       "      <td>1.933131</td>\n",
       "    </tr>\n",
       "    <tr>\n",
       "      <th>30</th>\n",
       "      <td>Egypt</td>\n",
       "      <td>1.937105</td>\n",
       "    </tr>\n",
       "    <tr>\n",
       "      <th>117</th>\n",
       "      <td>Venezuela</td>\n",
       "      <td>1.939168</td>\n",
       "    </tr>\n",
       "    <tr>\n",
       "      <th>28</th>\n",
       "      <td>Dominican Republic</td>\n",
       "      <td>1.982480</td>\n",
       "    </tr>\n",
       "    <tr>\n",
       "      <th>108</th>\n",
       "      <td>Tanzania</td>\n",
       "      <td>2.003830</td>\n",
       "    </tr>\n",
       "  </tbody>\n",
       "</table>\n",
       "</div>"
      ],
      "text/plain": [
       "               location     count\n",
       "52                 Iran  1.499602\n",
       "31          El Salvador  1.847122\n",
       "85            Nicaragua  1.847436\n",
       "44            Guatemala  1.858252\n",
       "24                 Cuba  1.929189\n",
       "113              Uganda  1.933131\n",
       "30                Egypt  1.937105\n",
       "117           Venezuela  1.939168\n",
       "28   Dominican Republic  1.982480\n",
       "108            Tanzania  2.003830"
      ]
     },
     "execution_count": 19,
     "metadata": {},
     "output_type": "execute_result"
    }
   ],
   "source": [
    "average_rating = pd.concat([average_rating_no_US, average_rating_US]).sort_values('count', ascending=True)\n",
    "average_rating.head(10)"
   ]
  },
  {
   "cell_type": "markdown",
   "metadata": {},
   "source": [
    "### Rating evolution over time in the different countries"
   ]
  },
  {
   "cell_type": "code",
   "execution_count": 21,
   "metadata": {},
   "outputs": [
    {
     "data": {
      "application/vnd.plotly.v1+json": {
       "config": {
        "plotlyServerURL": "https://plot.ly"
       },
       "data": [
        {
         "coloraxis": "coloraxis",
         "geo": "geo",
         "hovertemplate": "location=%{location}<br>count=%{z}<extra></extra>",
         "locationmode": "country names",
         "locations": [
          "Albania",
          "Argentina",
          "Armenia",
          "Aruba",
          "Australia",
          "Austria",
          "Bahamas",
          "Barbados",
          "Belarus",
          "Belgium",
          "Belize",
          "Bolivia",
          "Bosnia and Herzegovina",
          "Brazil",
          "Bulgaria",
          "Cambodia",
          "Canada",
          "Cayman Islands",
          "Chile",
          "China",
          "Colombia",
          "Costa Rica",
          "Croatia",
          "Cuba",
          "Cyprus",
          "Czech Republic",
          "Denmark",
          "Dominica",
          "Dominican Republic",
          "Ecuador",
          "Egypt",
          "El Salvador",
          "Estonia",
          "Ethiopia",
          "Faroe Islands",
          "Fiji Islands",
          "Finland",
          "France",
          "French Polynesia",
          "Georgia",
          "Germany",
          "Ghana",
          "Greece",
          "Guatemala",
          "Guernsey",
          "Honduras",
          "Hong Kong",
          "Hungary",
          "Iceland",
          "India",
          "Indonesia",
          "Ireland",
          "Isle of Man",
          "Israel",
          "Italy",
          "Jamaica",
          "Japan",
          "Jersey",
          "Kenya",
          "Laos",
          "Latvia",
          "Lebanon",
          "Lithuania",
          "Luxembourg",
          "Macedonia",
          "Malaysia",
          "Malta",
          "Mexico",
          "Moldova",
          "Montenegro",
          "Morocco",
          "Myanmar",
          "Namibia",
          "Netherlands",
          "New Zealand",
          "Nigeria",
          "Norway",
          "Palestine",
          "Panama",
          "Peru",
          "Philippines",
          "Poland",
          "Portugal",
          "Puerto Rico",
          "Romania",
          "Russia",
          "Saint Lucia",
          "Serbia",
          "Singapore",
          "Slovak Republic",
          "Slovenia",
          "South Africa",
          "South Korea",
          "Spain",
          "Sri Lanka",
          "Sweden",
          "Switzerland",
          "Taiwan",
          "Tanzania",
          "Thailand",
          "Trinidad & Tobago",
          "Tunisia",
          "Turkey",
          "Uganda",
          "Ukraine",
          "United Kingdom",
          "Venezuela",
          "Vietnam",
          "Virgin Islands (U.S.)",
          "Zimbabwe"
         ],
         "name": "",
         "type": "choropleth",
         "z": [
          1.64,
          2.219607843137255,
          2.4833333333333334,
          2.675,
          2.6369375419744796,
          3.0530655391120507,
          2.312,
          2.05,
          1.975,
          3.571307765602668,
          1.9428571428571428,
          1.4333333333333333,
          2.957142857142857,
          2.708490566037736,
          1.7974358974358973,
          2.1666666666666665,
          3.0137037037037038,
          2.65,
          1.9280000000000002,
          2.125,
          2.2473684210526317,
          2.223076923076923,
          2.6013157894736842,
          1.6809523809523808,
          2.011111111111111,
          3.26328125,
          2.612310797174571,
          1.2,
          2.381081081081081,
          2.0300000000000002,
          2.3555555555555556,
          2.0588235294117645,
          2.175675675675676,
          2.5833333333333335,
          2.091666666666667,
          1.3333333333333333,
          2.9180487804878052,
          2.888504326328801,
          1.9571428571428573,
          2.9,
          3.2057456515540346,
          1.7000000000000002,
          2.3319444444444444,
          1.891304347826087,
          2.1,
          2.33125,
          1.8615384615384616,
          2.111111111111111,
          1.3714285714285714,
          2.1483870967741936,
          2.0357142857142856,
          3.3580976863753214,
          2.8428571428571425,
          2.0813953488372094,
          2.7719714964370548,
          2.5797872340425534,
          2.526593806921676,
          2.58,
          2.23,
          2.3,
          2.670930232558139,
          1.8714285714285712,
          2.6355555555555554,
          2.6625,
          2.5875,
          2.5777777777777775,
          2.5666666666666664,
          2.286808846761453,
          3.3857142857142857,
          2.57,
          2.7285714285714286,
          2.1333333333333333,
          2.472093023255814,
          2.87749373433584,
          3.0471590909090907,
          2.6500000000000004,
          2.8857142857142857,
          2.2333333333333334,
          2.0416666666666665,
          2.3346153846153848,
          2.25531914893617,
          2.987363834422658,
          2.2078431372549017,
          1.875,
          2.5791666666666666,
          2.4714285714285715,
          1.3,
          2.6639999999999997,
          2.806451612903226,
          2.9869565217391303,
          2.171641791044776,
          2.0406593406593405,
          1.6098039215686273,
          2.381021897810219,
          3.389655172413793,
          2.8683853459972863,
          3.021630094043887,
          1.98,
          1.3,
          2.387857142857143,
          3.0253623188405796,
          2.3666666666666667,
          2.2600000000000002,
          1.86,
          2.5914893617021275,
          3.3728956428825834,
          2.3000000000000003,
          2.2161290322580647,
          3.288888888888889,
          1.85
         ]
        },
        {
         "coloraxis": "coloraxis",
         "geo": "geo",
         "hovertemplate": "location=%{location}<br>count=%{z}<extra></extra>",
         "locationmode": "USA-states",
         "locations": [
          "AL",
          "AK",
          "AZ",
          "AR",
          "CA",
          "CO",
          "CT",
          "DE",
          "FL",
          "GA",
          "HI",
          "ID",
          "IL",
          "IN",
          "IA",
          "KS",
          "KY",
          "LA",
          "ME",
          "MD",
          "MA",
          "MI",
          "MN",
          "MO",
          "MT",
          "NE",
          "NV",
          "NH",
          "NJ",
          "NM",
          "NY",
          "NC",
          "OH",
          "OK",
          "OR",
          "PA",
          "RI",
          "SC",
          "SD",
          "TN",
          "TX",
          "UT",
          "VT",
          "VA",
          "WA",
          "DC",
          "WV",
          "WI",
          "WY"
         ],
         "name": "",
         "type": "choropleth",
         "z": [
          3.6,
          3.5677083333333335,
          3.461003861003861,
          2.7181818181818183,
          3.5555343915343918,
          2.6293891293891294,
          3.520567375886525,
          3.341409691629956,
          3.0844311377245512,
          3.254381443298969,
          2.81063829787234,
          2.9292307692307693,
          3.364056224899598,
          3.222784810126582,
          3.0925000000000002,
          3.1163265306122447,
          3.229896907216495,
          2.8846666666666665,
          3.422903629536921,
          3.3131756756756756,
          3.2736203090507727,
          3.2257899231426133,
          2.8677830940988835,
          2.0092161364381766,
          3.172037914691943,
          3.1599999999999997,
          2.8,
          3.4805111821086263,
          3.5008988764044946,
          3.3360000000000003,
          3.1669803921568627,
          3.2393939393939397,
          3.491361256544503,
          2.733333333333333,
          3.630888697152718,
          3.257183418512209,
          3.2862745098039214,
          3.1981481481481477,
          3.44,
          3.16282722513089,
          3.063046757164404,
          3.1098765432098765,
          3.257277628032345,
          3.163684210526316,
          3.338299024918743,
          3.35,
          3.4588235294117644,
          2.4083728603835843,
          3.4
         ]
        }
       ],
       "frames": [
        {
         "data": [
          {
           "coloraxis": "coloraxis",
           "geo": "geo",
           "hovertemplate": "location=%{location}<br>count=%{z}<extra></extra>",
           "locationmode": "country names",
           "locations": [
            "Albania",
            "Argentina",
            "Armenia",
            "Aruba",
            "Australia",
            "Austria",
            "Bahamas",
            "Barbados",
            "Belarus",
            "Belgium",
            "Belize",
            "Bolivia",
            "Bosnia and Herzegovina",
            "Brazil",
            "Bulgaria",
            "Cambodia",
            "Canada",
            "Cayman Islands",
            "Chile",
            "China",
            "Colombia",
            "Costa Rica",
            "Croatia",
            "Cuba",
            "Cyprus",
            "Czech Republic",
            "Denmark",
            "Dominica",
            "Dominican Republic",
            "Ecuador",
            "Egypt",
            "El Salvador",
            "Estonia",
            "Ethiopia",
            "Faroe Islands",
            "Fiji Islands",
            "Finland",
            "France",
            "French Polynesia",
            "Georgia",
            "Germany",
            "Ghana",
            "Greece",
            "Guatemala",
            "Guernsey",
            "Honduras",
            "Hong Kong",
            "Hungary",
            "Iceland",
            "India",
            "Indonesia",
            "Ireland",
            "Isle of Man",
            "Israel",
            "Italy",
            "Jamaica",
            "Japan",
            "Jersey",
            "Kenya",
            "Laos",
            "Latvia",
            "Lebanon",
            "Lithuania",
            "Luxembourg",
            "Macedonia",
            "Malaysia",
            "Malta",
            "Mexico",
            "Moldova",
            "Montenegro",
            "Morocco",
            "Myanmar",
            "Namibia",
            "Netherlands",
            "New Zealand",
            "Nigeria",
            "Norway",
            "Palestine",
            "Panama",
            "Peru",
            "Philippines",
            "Poland",
            "Portugal",
            "Puerto Rico",
            "Romania",
            "Russia",
            "Saint Lucia",
            "Serbia",
            "Singapore",
            "Slovak Republic",
            "Slovenia",
            "South Africa",
            "South Korea",
            "Spain",
            "Sri Lanka",
            "Sweden",
            "Switzerland",
            "Taiwan",
            "Tanzania",
            "Thailand",
            "Trinidad & Tobago",
            "Tunisia",
            "Turkey",
            "Uganda",
            "Ukraine",
            "United Kingdom",
            "Venezuela",
            "Vietnam",
            "Virgin Islands (U.S.)",
            "Zimbabwe"
           ],
           "name": "",
           "type": "choropleth",
           "z": [
            1.64,
            2.219607843137255,
            2.4833333333333334,
            2.675,
            2.6369375419744796,
            3.0530655391120507,
            2.312,
            2.05,
            1.975,
            3.571307765602668,
            1.9428571428571428,
            1.4333333333333333,
            2.957142857142857,
            2.708490566037736,
            1.7974358974358973,
            2.1666666666666665,
            3.0137037037037038,
            2.65,
            1.9280000000000002,
            2.125,
            2.2473684210526317,
            2.223076923076923,
            2.6013157894736842,
            1.6809523809523808,
            2.011111111111111,
            3.26328125,
            2.612310797174571,
            1.2,
            2.381081081081081,
            2.0300000000000002,
            2.3555555555555556,
            2.0588235294117645,
            2.175675675675676,
            2.5833333333333335,
            2.091666666666667,
            1.3333333333333333,
            2.9180487804878052,
            2.888504326328801,
            1.9571428571428573,
            2.9,
            3.2057456515540346,
            1.7000000000000002,
            2.3319444444444444,
            1.891304347826087,
            2.1,
            2.33125,
            1.8615384615384616,
            2.111111111111111,
            1.3714285714285714,
            2.1483870967741936,
            2.0357142857142856,
            3.3580976863753214,
            2.8428571428571425,
            2.0813953488372094,
            2.7719714964370548,
            2.5797872340425534,
            2.526593806921676,
            2.58,
            2.23,
            2.3,
            2.670930232558139,
            1.8714285714285712,
            2.6355555555555554,
            2.6625,
            2.5875,
            2.5777777777777775,
            2.5666666666666664,
            2.286808846761453,
            3.3857142857142857,
            2.57,
            2.7285714285714286,
            2.1333333333333333,
            2.472093023255814,
            2.87749373433584,
            3.0471590909090907,
            2.6500000000000004,
            2.8857142857142857,
            2.2333333333333334,
            2.0416666666666665,
            2.3346153846153848,
            2.25531914893617,
            2.987363834422658,
            2.2078431372549017,
            1.875,
            2.5791666666666666,
            2.4714285714285715,
            1.3,
            2.6639999999999997,
            2.806451612903226,
            2.9869565217391303,
            2.171641791044776,
            2.0406593406593405,
            1.6098039215686273,
            2.381021897810219,
            3.389655172413793,
            2.8683853459972863,
            3.021630094043887,
            1.98,
            1.3,
            2.387857142857143,
            3.0253623188405796,
            2.3666666666666667,
            2.2600000000000002,
            1.86,
            2.5914893617021275,
            3.3728956428825834,
            2.3000000000000003,
            2.2161290322580647,
            3.288888888888889,
            1.85
           ]
          },
          {
           "coloraxis": "coloraxis",
           "geo": "geo",
           "hovertemplate": "location=%{location}<br>count=%{z}<extra></extra>",
           "locationmode": "USA-states",
           "locations": [
            "AL",
            "AK",
            "AZ",
            "AR",
            "CA",
            "CO",
            "CT",
            "DE",
            "FL",
            "GA",
            "HI",
            "ID",
            "IL",
            "IN",
            "IA",
            "KS",
            "KY",
            "LA",
            "ME",
            "MD",
            "MA",
            "MI",
            "MN",
            "MO",
            "MT",
            "NE",
            "NV",
            "NH",
            "NJ",
            "NM",
            "NY",
            "NC",
            "OH",
            "OK",
            "OR",
            "PA",
            "RI",
            "SC",
            "SD",
            "TN",
            "TX",
            "UT",
            "VT",
            "VA",
            "WA",
            "DC",
            "WV",
            "WI",
            "WY"
           ],
           "name": "",
           "type": "choropleth",
           "z": [
            3.6,
            3.5677083333333335,
            3.461003861003861,
            2.7181818181818183,
            3.5555343915343918,
            2.6293891293891294,
            3.520567375886525,
            3.341409691629956,
            3.0844311377245512,
            3.254381443298969,
            2.81063829787234,
            2.9292307692307693,
            3.364056224899598,
            3.222784810126582,
            3.0925000000000002,
            3.1163265306122447,
            3.229896907216495,
            2.8846666666666665,
            3.422903629536921,
            3.3131756756756756,
            3.2736203090507727,
            3.2257899231426133,
            2.8677830940988835,
            2.0092161364381766,
            3.172037914691943,
            3.1599999999999997,
            2.8,
            3.4805111821086263,
            3.5008988764044946,
            3.3360000000000003,
            3.1669803921568627,
            3.2393939393939397,
            3.491361256544503,
            2.733333333333333,
            3.630888697152718,
            3.257183418512209,
            3.2862745098039214,
            3.1981481481481477,
            3.44,
            3.16282722513089,
            3.063046757164404,
            3.1098765432098765,
            3.257277628032345,
            3.163684210526316,
            3.338299024918743,
            3.35,
            3.4588235294117644,
            2.4083728603835843,
            3.4
           ]
          }
         ],
         "name": "2002"
        },
        {
         "data": [
          {
           "coloraxis": "coloraxis",
           "geo": "geo",
           "hovertemplate": "location=%{location}<br>count=%{z}<extra></extra>",
           "locationmode": "country names",
           "locations": [
            "Albania",
            "Argentina",
            "Armenia",
            "Aruba",
            "Australia",
            "Austria",
            "Bahamas",
            "Barbados",
            "Belarus",
            "Belgium",
            "Belize",
            "Bolivia",
            "Bosnia and Herzegovina",
            "Brazil",
            "Bulgaria",
            "Cambodia",
            "Canada",
            "Cayman Islands",
            "Chile",
            "China",
            "Colombia",
            "Costa Rica",
            "Croatia",
            "Cuba",
            "Cyprus",
            "Czech Republic",
            "Denmark",
            "Dominica",
            "Dominican Republic",
            "Ecuador",
            "Egypt",
            "El Salvador",
            "Estonia",
            "Ethiopia",
            "Faroe Islands",
            "Fiji Islands",
            "Finland",
            "France",
            "French Polynesia",
            "Georgia",
            "Germany",
            "Ghana",
            "Greece",
            "Guatemala",
            "Guernsey",
            "Honduras",
            "Hong Kong",
            "Hungary",
            "Iceland",
            "India",
            "Indonesia",
            "Ireland",
            "Isle of Man",
            "Israel",
            "Italy",
            "Jamaica",
            "Japan",
            "Jersey",
            "Kenya",
            "Laos",
            "Latvia",
            "Lebanon",
            "Lithuania",
            "Luxembourg",
            "Macedonia",
            "Malaysia",
            "Malta",
            "Mexico",
            "Moldova",
            "Montenegro",
            "Morocco",
            "Myanmar",
            "Namibia",
            "Netherlands",
            "New Zealand",
            "Nigeria",
            "Norway",
            "Palestine",
            "Panama",
            "Peru",
            "Philippines",
            "Poland",
            "Portugal",
            "Puerto Rico",
            "Romania",
            "Russia",
            "Saint Lucia",
            "Serbia",
            "Singapore",
            "Slovak Republic",
            "Slovenia",
            "South Africa",
            "South Korea",
            "Spain",
            "Sri Lanka",
            "Sweden",
            "Switzerland",
            "Taiwan",
            "Tanzania",
            "Thailand",
            "Trinidad & Tobago",
            "Tunisia",
            "Turkey",
            "Uganda",
            "Ukraine",
            "United Kingdom",
            "Venezuela",
            "Vietnam",
            "Virgin Islands (U.S.)",
            "Zimbabwe"
           ],
           "name": "",
           "type": "choropleth",
           "z": [
            2.3375,
            2.572972972972973,
            2.3000000000000003,
            2.9333333333333336,
            2.446452905811623,
            3.0763302752293575,
            1.9636363636363636,
            2.4916666666666667,
            2.1666666666666665,
            3.5704034863626117,
            2.125,
            1.7884615384615385,
            3.1750000000000003,
            2.5540000000000003,
            2.177142857142857,
            1.7571428571428573,
            2.9734490608992603,
            2.283333333333333,
            1.9714285714285715,
            2.0176470588235293,
            2.0142857142857142,
            1.8333333333333333,
            2.204,
            1.5769230769230769,
            1.9,
            3.1117076808351976,
            2.57266500622665,
            1.3,
            1.9464285714285714,
            1.3818181818181818,
            2.066666666666667,
            1.6987804878048782,
            2.399248120300752,
            2.68125,
            2.444736842105263,
            1.2799999999999998,
            2.877310924369748,
            2.831768953068592,
            2.125,
            2.8,
            3.1837420929974476,
            1.5,
            2.073611111111111,
            2.006666666666667,
            1.9,
            2.0678571428571426,
            1.2466666666666666,
            2.503738317757009,
            1.876271186440678,
            2.1150837988826816,
            1.9040000000000001,
            3.256591928251121,
            2.8266666666666667,
            1.9208333333333334,
            2.6837248322147653,
            2.432967032967033,
            2.5287904599659288,
            1.9333333333333333,
            2.062686567164179,
            1.8555555555555554,
            2.660204081632653,
            2.022222222222222,
            2.6274336283185837,
            2.4952380952380953,
            2.16,
            2.6999999999999997,
            2.5205882352941176,
            2.123374485596708,
            2.9210526315789473,
            2.257142857142857,
            2.274074074074074,
            1.3199999999999998,
            2.6,
            2.8735849056603775,
            2.672062084257206,
            3.194736842105263,
            2.7817757009345794,
            2.1,
            0.7999999999999999,
            2.174468085106383,
            2.330769230769231,
            2.8017069701280226,
            2.091025641025641,
            1.6333333333333335,
            2.3153846153846156,
            2.5863572433192688,
            1.7571428571428573,
            2.56,
            2.43,
            2.6164383561643834,
            2.3800000000000003,
            2.1421875,
            1.3851063829787233,
            2.1999999999999997,
            3.4076923076923076,
            2.9010658914728684,
            2.8778378378378378,
            1.9333333333333333,
            1.9363636363636365,
            2.350561797752809,
            3.053684210526316,
            2,
            2.281012658227848,
            3.375,
            2.485616438356164,
            3.256054494253749,
            1.625,
            1.936,
            2.3583333333333334,
            2.21875
           ]
          },
          {
           "coloraxis": "coloraxis",
           "geo": "geo",
           "hovertemplate": "location=%{location}<br>count=%{z}<extra></extra>",
           "locationmode": "USA-states",
           "locations": [
            "AL",
            "AK",
            "AZ",
            "AR",
            "CA",
            "CO",
            "CT",
            "DE",
            "FL",
            "GA",
            "HI",
            "ID",
            "IL",
            "IN",
            "IA",
            "KS",
            "KY",
            "LA",
            "ME",
            "MD",
            "MA",
            "MI",
            "MN",
            "MO",
            "MT",
            "NE",
            "NV",
            "NH",
            "NJ",
            "NM",
            "NY",
            "NC",
            "OH",
            "OK",
            "OR",
            "PA",
            "RI",
            "SC",
            "SD",
            "TN",
            "TX",
            "UT",
            "VT",
            "VA",
            "WA",
            "DC",
            "WV",
            "WI",
            "WY"
           ],
           "name": "",
           "type": "choropleth",
           "z": [
            3.357142857142857,
            3.5652073732718894,
            3.368125,
            2.6037037037037036,
            3.5125210410462255,
            2.8009808102345417,
            3.4634146341463414,
            3.32168458781362,
            2.989935760171306,
            3.2681818181818185,
            3.1765625,
            3.127853881278539,
            3.3678848283499443,
            3.118067978533095,
            3,
            3.5151785714285713,
            3.2141843971631205,
            2.8108626198083067,
            3.376941946034342,
            3.267788461538461,
            3.2387073863636364,
            3.2644831730769233,
            2.870983810709838,
            2.0323333333333333,
            3.239353099730458,
            3.035294117647059,
            3.004697986577181,
            3.4496503496503497,
            3.4716535433070868,
            3.180254777070064,
            3.193601416287304,
            3.2124434389140273,
            3.5160526315789475,
            2.6550000000000002,
            3.580612244897959,
            3.20066692820714,
            3.2041666666666666,
            3.1536585365853655,
            3.066666666666667,
            3.124074074074074,
            3.012971342383107,
            3.1779761904761905,
            3.231410256410256,
            3.213135593220339,
            3.2583887657058392,
            3.3074074074074074,
            3.1166666666666667,
            2.5250142126208073,
            3.3685714285714288
           ]
          }
         ],
         "name": "2003"
        },
        {
         "data": [
          {
           "coloraxis": "coloraxis",
           "geo": "geo",
           "hovertemplate": "location=%{location}<br>count=%{z}<extra></extra>",
           "locationmode": "country names",
           "locations": [
            "Albania",
            "Argentina",
            "Armenia",
            "Aruba",
            "Australia",
            "Austria",
            "Bahamas",
            "Barbados",
            "Belarus",
            "Belgium",
            "Belize",
            "Bolivia",
            "Bosnia and Herzegovina",
            "Brazil",
            "Bulgaria",
            "Cambodia",
            "Canada",
            "Cayman Islands",
            "Chile",
            "China",
            "Colombia",
            "Costa Rica",
            "Croatia",
            "Cuba",
            "Cyprus",
            "Czech Republic",
            "Denmark",
            "Dominica",
            "Dominican Republic",
            "Ecuador",
            "Egypt",
            "El Salvador",
            "Estonia",
            "Ethiopia",
            "Faroe Islands",
            "Fiji Islands",
            "Finland",
            "France",
            "French Polynesia",
            "Georgia",
            "Germany",
            "Ghana",
            "Greece",
            "Guatemala",
            "Guernsey",
            "Honduras",
            "Hong Kong",
            "Hungary",
            "Iceland",
            "India",
            "Indonesia",
            "Ireland",
            "Isle of Man",
            "Israel",
            "Italy",
            "Jamaica",
            "Japan",
            "Jersey",
            "Kenya",
            "Laos",
            "Latvia",
            "Lebanon",
            "Lithuania",
            "Luxembourg",
            "Macedonia",
            "Malaysia",
            "Malta",
            "Mexico",
            "Moldova",
            "Montenegro",
            "Morocco",
            "Myanmar",
            "Namibia",
            "Netherlands",
            "New Zealand",
            "Nigeria",
            "Norway",
            "Palestine",
            "Panama",
            "Peru",
            "Philippines",
            "Poland",
            "Portugal",
            "Puerto Rico",
            "Romania",
            "Russia",
            "Saint Lucia",
            "Serbia",
            "Singapore",
            "Slovak Republic",
            "Slovenia",
            "South Africa",
            "South Korea",
            "Spain",
            "Sri Lanka",
            "Sweden",
            "Switzerland",
            "Taiwan",
            "Tanzania",
            "Thailand",
            "Trinidad & Tobago",
            "Tunisia",
            "Turkey",
            "Uganda",
            "Ukraine",
            "United Kingdom",
            "Venezuela",
            "Vietnam",
            "Virgin Islands (U.S.)",
            "Zimbabwe"
           ],
           "name": "",
           "type": "choropleth",
           "z": [
            1.5999999999999999,
            2.0591549295774647,
            2.7142857142857144,
            2.6399999999999997,
            2.5574675324675327,
            3.002385685884692,
            2.0266666666666664,
            2.6,
            1.855,
            3.518376981563385,
            2.588372093023256,
            1.839130434782609,
            2.6037037037037036,
            2.290033222591362,
            1.8955555555555554,
            1.6166666666666665,
            2.989932954083706,
            2.5500000000000003,
            1.9608695652173913,
            1.6804794520547945,
            2.0148148148148146,
            2.004166666666667,
            2.537962962962963,
            1.7750000000000001,
            1.9382352941176473,
            2.9787113402061856,
            2.6098644578313253,
            1.5,
            1.9706896551724138,
            1.6363636363636365,
            1.6173913043478263,
            1.5451923076923075,
            2.189944134078212,
            2.8285714285714287,
            2.3189189189189188,
            1.5999999999999999,
            2.8204395604395605,
            2.7804047384007897,
            2.066666666666667,
            2.9038461538461537,
            3.091331696839521,
            1.85,
            2.1122302158273385,
            1.525,
            2.942857142857143,
            1.7875,
            1.861904761904762,
            2.1989247311827955,
            1.7422222222222223,
            1.9284916201117317,
            1.7366666666666668,
            3.197740963855422,
            2.767741935483871,
            2.0837837837837836,
            2.59251040221914,
            2.507114624505929,
            2.669193742478941,
            2.65,
            2.0626666666666664,
            1.8909090909090909,
            2.838323353293413,
            2.1636363636363636,
            2.6127610208816705,
            2.6051724137931034,
            2.10625,
            2.6485714285714286,
            2.32,
            2.1585807385952207,
            2.2285714285714286,
            2.4542857142857146,
            2.0473684210526315,
            1.6,
            2.691111111111111,
            2.882672494536372,
            2.6471311475409838,
            3.033333333333333,
            2.9265714285714286,
            2.4285714285714284,
            2.2473684210526317,
            2.2777777777777777,
            2.194915254237288,
            2.601123595505618,
            2.2508620689655174,
            1.5699999999999998,
            2.38448275862069,
            2.464433617539586,
            2.1999999999999997,
            2.496,
            2.3978260869565218,
            2.5421965317919075,
            2.4323943661971827,
            2.26,
            1.588235294117647,
            2.2246951219512194,
            3.4503311258278146,
            2.8730042656916517,
            2.7455357142857144,
            2.1538461538461537,
            2.6214285714285714,
            2.085714285714286,
            3.150515463917526,
            2.4285714285714284,
            2.353211009174312,
            1.488888888888889,
            2.4601626016260165,
            3.2070614921840326,
            1.5230769230769232,
            1.7,
            2.5727272727272728,
            1.7473684210526317
           ]
          },
          {
           "coloraxis": "coloraxis",
           "geo": "geo",
           "hovertemplate": "location=%{location}<br>count=%{z}<extra></extra>",
           "locationmode": "USA-states",
           "locations": [
            "AL",
            "AK",
            "AZ",
            "AR",
            "CA",
            "CO",
            "CT",
            "DE",
            "FL",
            "GA",
            "HI",
            "ID",
            "IL",
            "IN",
            "IA",
            "KS",
            "KY",
            "LA",
            "ME",
            "MD",
            "MA",
            "MI",
            "MN",
            "MO",
            "MT",
            "NE",
            "NV",
            "NH",
            "NJ",
            "NM",
            "NY",
            "NC",
            "OH",
            "OK",
            "OR",
            "PA",
            "RI",
            "SC",
            "SD",
            "TN",
            "TX",
            "UT",
            "VT",
            "VA",
            "WA",
            "DC",
            "WV",
            "WI",
            "WY"
           ],
           "name": "",
           "type": "choropleth",
           "z": [
            2.7363636363636363,
            3.5875852660300134,
            3.362226640159046,
            3.0439999999999996,
            3.5220692000340046,
            3.010203070827142,
            3.391796875,
            3.4126730564430243,
            3.0584686774942,
            3.423014440433213,
            2.9572463768115944,
            3.278405315614618,
            3.353107344632768,
            3.2069400630914826,
            3.0500000000000003,
            3.435960591133005,
            3.287142857142857,
            2.7857142857142856,
            3.3655697745277267,
            3.2795232936078005,
            3.227174424071462,
            3.3596781403665625,
            3.0629246676514033,
            1.9913477537437605,
            3.1279158699808796,
            2.840268456375839,
            2.9554016620498618,
            3.579847494553377,
            3.4666849917537106,
            3.043503937007874,
            3.21784107946027,
            3.2070063694267517,
            3.520896464646465,
            2.8338235294117644,
            3.5407296439901303,
            3.330602292123872,
            3.3441379310344828,
            3.029203539823009,
            3.539285714285714,
            3.083928571428572,
            3.0610750695088047,
            3.0466898954703834,
            3.228552515445719,
            3.306181818181818,
            3.320357047695177,
            3.2333333333333334,
            3.016,
            2.648301677526688,
            3.1872340425531918
           ]
          }
         ],
         "name": "2004"
        },
        {
         "data": [
          {
           "coloraxis": "coloraxis",
           "geo": "geo",
           "hovertemplate": "location=%{location}<br>count=%{z}<extra></extra>",
           "locationmode": "country names",
           "locations": [
            "Albania",
            "Argentina",
            "Armenia",
            "Aruba",
            "Australia",
            "Austria",
            "Bahamas",
            "Barbados",
            "Belarus",
            "Belgium",
            "Belize",
            "Bolivia",
            "Bosnia and Herzegovina",
            "Brazil",
            "Bulgaria",
            "Cambodia",
            "Canada",
            "Cayman Islands",
            "Chile",
            "China",
            "Colombia",
            "Costa Rica",
            "Croatia",
            "Cuba",
            "Cyprus",
            "Czech Republic",
            "Denmark",
            "Dominica",
            "Dominican Republic",
            "Ecuador",
            "Egypt",
            "El Salvador",
            "Estonia",
            "Ethiopia",
            "Faroe Islands",
            "Fiji Islands",
            "Finland",
            "France",
            "French Polynesia",
            "Georgia",
            "Germany",
            "Ghana",
            "Greece",
            "Guatemala",
            "Guernsey",
            "Honduras",
            "Hong Kong",
            "Hungary",
            "Iceland",
            "India",
            "Indonesia",
            "Ireland",
            "Isle of Man",
            "Israel",
            "Italy",
            "Jamaica",
            "Japan",
            "Jersey",
            "Kenya",
            "Laos",
            "Latvia",
            "Lebanon",
            "Lithuania",
            "Luxembourg",
            "Macedonia",
            "Malaysia",
            "Malta",
            "Mexico",
            "Moldova",
            "Montenegro",
            "Morocco",
            "Myanmar",
            "Namibia",
            "Netherlands",
            "New Zealand",
            "Nigeria",
            "Norway",
            "Palestine",
            "Panama",
            "Peru",
            "Philippines",
            "Poland",
            "Portugal",
            "Puerto Rico",
            "Romania",
            "Russia",
            "Saint Lucia",
            "Serbia",
            "Singapore",
            "Slovak Republic",
            "Slovenia",
            "South Africa",
            "South Korea",
            "Spain",
            "Sri Lanka",
            "Sweden",
            "Switzerland",
            "Taiwan",
            "Tanzania",
            "Thailand",
            "Trinidad & Tobago",
            "Tunisia",
            "Turkey",
            "Uganda",
            "Ukraine",
            "United Kingdom",
            "Venezuela",
            "Vietnam",
            "Virgin Islands (U.S.)",
            "Zimbabwe"
           ],
           "name": "",
           "type": "choropleth",
           "z": [
            2.052941176470588,
            2.230769230769231,
            1.9226415094339624,
            2.6166666666666667,
            2.6716863033873346,
            2.944105691056911,
            1.6709677419354838,
            1.825,
            2.7,
            3.4636757888440255,
            2.409375,
            2.2913043478260873,
            2.5411764705882356,
            2.4676470588235295,
            2.0918367346938775,
            2.0320754716981133,
            2.992613278791693,
            1.2666666666666666,
            2.2520000000000002,
            1.9529411764705882,
            1.786111111111111,
            1.7971428571428572,
            2.339130434782609,
            1.604109589041096,
            2.112195121951219,
            2.9908910103420845,
            2.736380409258638,
            1.375,
            1.9170454545454545,
            1.8583333333333334,
            2.336363636363636,
            1.5862068965517242,
            2.2418181818181817,
            2.393103448275862,
            2.41,
            1.4833333333333334,
            2.8324817518248175,
            2.8172086225794666,
            1.9133333333333333,
            2.6142857142857143,
            3.0209132525931506,
            1.776923076923077,
            2.0513966480446926,
            1.6601769911504425,
            2.6222222222222222,
            1.9666666666666668,
            1.5846153846153848,
            2.2396551724137934,
            1.8686567164179104,
            1.955438596491228,
            2.255,
            3.1104054054054053,
            2.996078431372549,
            2.131707317073171,
            2.8391341256366722,
            2.5396887159533077,
            2.6923144876325087,
            2.4555555555555557,
            1.927777777777778,
            1.8545454545454547,
            2.5982456140350876,
            1.8625,
            2.535593220338983,
            2.86046511627907,
            2.06,
            2.6333333333333333,
            1.905263157894737,
            2.144336810730253,
            3.95,
            2.9105263157894736,
            2.105714285714286,
            3.2,
            2.275,
            2.92761724301279,
            2.9000000000000004,
            2.257575757575758,
            2.9148003894839336,
            1.9846153846153847,
            1.5578947368421052,
            2.025,
            1.9673469387755103,
            2.6496937212863707,
            2.1601307189542482,
            2.1666666666666665,
            2.766666666666667,
            2.5445213379469434,
            2.2666666666666666,
            2.6310344827586207,
            2.510569105691057,
            2.716867469879518,
            2.457692307692308,
            2.594871794871795,
            2.110958904109589,
            2.23012987012987,
            3.657142857142857,
            2.780827801639984,
            2.839897698209719,
            2.158823529411765,
            1.5933333333333333,
            2.0950819672131145,
            3.070098039215686,
            1.6076923076923075,
            2.140677966101695,
            1.3545454545454545,
            2.5242553191489363,
            3.1622904076942717,
            2.460714285714286,
            1.569090909090909,
            2.380952380952381,
            1.81875
           ]
          },
          {
           "coloraxis": "coloraxis",
           "geo": "geo",
           "hovertemplate": "location=%{location}<br>count=%{z}<extra></extra>",
           "locationmode": "USA-states",
           "locations": [
            "AL",
            "AK",
            "AZ",
            "AR",
            "CA",
            "CO",
            "CT",
            "DE",
            "FL",
            "GA",
            "HI",
            "ID",
            "IL",
            "IN",
            "IA",
            "KS",
            "KY",
            "LA",
            "ME",
            "MD",
            "MA",
            "MI",
            "MN",
            "MO",
            "MT",
            "NE",
            "NV",
            "NH",
            "NJ",
            "NM",
            "NY",
            "NC",
            "OH",
            "OK",
            "OR",
            "PA",
            "RI",
            "SC",
            "SD",
            "TN",
            "TX",
            "UT",
            "VT",
            "VA",
            "WA",
            "DC",
            "WV",
            "WI",
            "WY"
           ],
           "name": "",
           "type": "choropleth",
           "z": [
            2.567586206896552,
            3.556486796785304,
            3.2966717095310134,
            3.0930232558139537,
            3.51502350616611,
            3.173015873015873,
            3.4903129657228016,
            3.4394949494949496,
            2.9855887521968363,
            3.4245014245014245,
            2.9875555555555557,
            3.304040404040404,
            3.352753840389659,
            3.2140442132639793,
            2.9984334203655356,
            3.532153392330384,
            3.164313725490196,
            2.7441634241245136,
            3.2698517940717626,
            3.330419331911869,
            3.219773790951638,
            3.351592193117617,
            2.99387222946545,
            2.0955131649650727,
            3.2021937842778794,
            3.075280898876404,
            3.034113712374582,
            3.4076129032258065,
            3.402774108322325,
            3.2272289156626504,
            3.255128538042067,
            3.257703281027104,
            3.531164021164021,
            2.7363636363636363,
            3.499503952875523,
            3.3069308572376053,
            3.19484126984127,
            2.948453608247423,
            3.4714285714285715,
            3.0147814910025708,
            3.131565814098565,
            3.0681440443213295,
            3.178929765886288,
            3.2825091575091574,
            3.283954022988506,
            3.2870967741935484,
            2.8666666666666667,
            2.7131752733571504,
            3.2481012658227852
           ]
          }
         ],
         "name": "2005"
        },
        {
         "data": [
          {
           "coloraxis": "coloraxis",
           "geo": "geo",
           "hovertemplate": "location=%{location}<br>count=%{z}<extra></extra>",
           "locationmode": "country names",
           "locations": [
            "Albania",
            "Argentina",
            "Armenia",
            "Aruba",
            "Australia",
            "Austria",
            "Bahamas",
            "Barbados",
            "Belarus",
            "Belgium",
            "Belize",
            "Bolivia",
            "Bosnia and Herzegovina",
            "Brazil",
            "Bulgaria",
            "Cambodia",
            "Canada",
            "Cayman Islands",
            "Chile",
            "China",
            "Colombia",
            "Costa Rica",
            "Croatia",
            "Cuba",
            "Cyprus",
            "Czech Republic",
            "Denmark",
            "Dominica",
            "Dominican Republic",
            "Ecuador",
            "Egypt",
            "El Salvador",
            "Estonia",
            "Ethiopia",
            "Faroe Islands",
            "Fiji Islands",
            "Finland",
            "France",
            "French Polynesia",
            "Georgia",
            "Germany",
            "Ghana",
            "Greece",
            "Guatemala",
            "Guernsey",
            "Honduras",
            "Hong Kong",
            "Hungary",
            "Iceland",
            "India",
            "Indonesia",
            "Ireland",
            "Isle of Man",
            "Israel",
            "Italy",
            "Jamaica",
            "Japan",
            "Jersey",
            "Kenya",
            "Laos",
            "Latvia",
            "Lebanon",
            "Lithuania",
            "Luxembourg",
            "Macedonia",
            "Malaysia",
            "Malta",
            "Mexico",
            "Moldova",
            "Montenegro",
            "Morocco",
            "Myanmar",
            "Namibia",
            "Netherlands",
            "New Zealand",
            "Nigeria",
            "Norway",
            "Palestine",
            "Panama",
            "Peru",
            "Philippines",
            "Poland",
            "Portugal",
            "Puerto Rico",
            "Romania",
            "Russia",
            "Saint Lucia",
            "Serbia",
            "Singapore",
            "Slovak Republic",
            "Slovenia",
            "South Africa",
            "South Korea",
            "Spain",
            "Sri Lanka",
            "Sweden",
            "Switzerland",
            "Taiwan",
            "Tanzania",
            "Thailand",
            "Trinidad & Tobago",
            "Tunisia",
            "Turkey",
            "Uganda",
            "Ukraine",
            "United Kingdom",
            "Venezuela",
            "Vietnam",
            "Virgin Islands (U.S.)",
            "Zimbabwe"
           ],
           "name": "",
           "type": "choropleth",
           "z": [
            1.8727272727272728,
            2.590408163265306,
            2.1923076923076925,
            2.2529411764705882,
            2.6894336754085897,
            3.027378640776699,
            1.6551020408163264,
            1.9285714285714286,
            3,
            3.508536378731912,
            2.6999999999999997,
            1.9409090909090911,
            2.061818181818182,
            2.2932394366197184,
            2.1525547445255473,
            1.8575757575757577,
            3.016218474627773,
            2.7857142857142856,
            2.4975728155339807,
            1.9575,
            2.1,
            2.3129032258064517,
            2.5173652694610777,
            1.656140350877193,
            2.1575757575757577,
            2.9464153732446414,
            2.8611181587531713,
            1.52,
            1.8297872340425532,
            2.19,
            1.6312499999999999,
            1.7023622047244094,
            2.2635179153094462,
            2.4754098360655736,
            2.5195876288659793,
            1.9649999999999999,
            2.794328922495274,
            2.841140684410646,
            1.8674418604651162,
            2.2115384615384617,
            3.042729942218433,
            2.18,
            2.2445544554455443,
            1.887128712871287,
            2.9833333333333334,
            2.2941176470588234,
            2.43,
            2.29037037037037,
            1.9026315789473685,
            1.8829931972789116,
            2.051851851851852,
            3.2005144694533763,
            3.0634408602150534,
            2.1943396226415093,
            2.828748451053284,
            2.6514469453376206,
            2.735523114355231,
            2.6,
            2.2022727272727276,
            2.05,
            2.895348837209302,
            1.73125,
            2.626833976833977,
            2.612096774193548,
            2.6625,
            2.580487804878049,
            2.788095238095238,
            2.119772583701832,
            2.2142857142857144,
            2.1959999999999997,
            1.9461538461538461,
            2.25,
            2.3559322033898304,
            2.867921550946799,
            2.8657142857142857,
            3.1285714285714286,
            2.806837961044343,
            2.08125,
            1.7615384615384617,
            2.1979381443298966,
            1.9854651162790697,
            2.7530541012216405,
            2.23235294117647,
            2.5787878787878786,
            2.5588235294117645,
            2.463376932223543,
            2,
            2.463636363636364,
            2.5623762376237624,
            2.7406060606060607,
            2.261068702290076,
            2.464335664335664,
            1.7603960396039604,
            2.4545801526717557,
            3.4758196721311476,
            2.8180726336860165,
            2.956010568031704,
            2.0033333333333334,
            1.8857142857142857,
            2.1773399014778323,
            3.14,
            1.5833333333333333,
            2.153103448275862,
            1.78,
            2.5014285714285713,
            3.1746680182463254,
            1.658695652173913,
            2.0346774193548387,
            2.656,
            1.9
           ]
          },
          {
           "coloraxis": "coloraxis",
           "geo": "geo",
           "hovertemplate": "location=%{location}<br>count=%{z}<extra></extra>",
           "locationmode": "USA-states",
           "locations": [
            "AL",
            "AK",
            "AZ",
            "AR",
            "CA",
            "CO",
            "CT",
            "DE",
            "FL",
            "GA",
            "HI",
            "ID",
            "IL",
            "IN",
            "IA",
            "KS",
            "KY",
            "LA",
            "ME",
            "MD",
            "MA",
            "MI",
            "MN",
            "MO",
            "MT",
            "NE",
            "NV",
            "NH",
            "NJ",
            "NM",
            "NY",
            "NC",
            "OH",
            "OK",
            "OR",
            "PA",
            "RI",
            "SC",
            "SD",
            "TN",
            "TX",
            "UT",
            "VT",
            "VA",
            "WA",
            "DC",
            "WV",
            "WI",
            "WY"
           ],
           "name": "",
           "type": "choropleth",
           "z": [
            2.7905882352941176,
            3.601707317073171,
            3.2867036011080333,
            3.0507936507936506,
            3.5164158334192352,
            3.1717429474423504,
            3.494271481942715,
            3.4022662889518416,
            2.9444444444444446,
            3.476987012987013,
            3.119879518072289,
            3.2556140350877194,
            3.4448070285534986,
            3.2193232413178987,
            3.0534939759036144,
            3.310227272727273,
            3.2455906821963394,
            2.87370753323486,
            3.3031827826614126,
            3.3196767791324073,
            3.19577522559475,
            3.4366870483602,
            2.97766323024055,
            2.1736727589208007,
            3.177382465057179,
            3.020718232044199,
            3.029533678756477,
            3.5193002257336343,
            3.4190438247011947,
            3.1608695652173915,
            3.3081441366382003,
            3.3530496453900707,
            3.592783911671924,
            2.6014285714285714,
            3.495631825273011,
            3.3173527373527376,
            3.237890625,
            2.9284883720930233,
            2.869230769230769,
            3.0329799764428738,
            3.088896899783706,
            3.134316353887399,
            3.158277444405224,
            3.330932999373826,
            3.2819189861959717,
            3.142857142857143,
            3.1183673469387756,
            2.805146903403086,
            3.123414634146341
           ]
          }
         ],
         "name": "2006"
        },
        {
         "data": [
          {
           "coloraxis": "coloraxis",
           "geo": "geo",
           "hovertemplate": "location=%{location}<br>count=%{z}<extra></extra>",
           "locationmode": "country names",
           "locations": [
            "Albania",
            "Argentina",
            "Armenia",
            "Aruba",
            "Australia",
            "Austria",
            "Bahamas",
            "Barbados",
            "Belarus",
            "Belgium",
            "Belize",
            "Bolivia",
            "Bosnia and Herzegovina",
            "Brazil",
            "Bulgaria",
            "Cambodia",
            "Canada",
            "Cayman Islands",
            "Chile",
            "China",
            "Colombia",
            "Costa Rica",
            "Croatia",
            "Cuba",
            "Cyprus",
            "Czech Republic",
            "Denmark",
            "Dominica",
            "Dominican Republic",
            "Ecuador",
            "Egypt",
            "El Salvador",
            "Estonia",
            "Ethiopia",
            "Faroe Islands",
            "Fiji Islands",
            "Finland",
            "France",
            "French Polynesia",
            "Georgia",
            "Germany",
            "Ghana",
            "Greece",
            "Guatemala",
            "Guernsey",
            "Honduras",
            "Hong Kong",
            "Hungary",
            "Iceland",
            "India",
            "Indonesia",
            "Ireland",
            "Isle of Man",
            "Israel",
            "Italy",
            "Jamaica",
            "Japan",
            "Jersey",
            "Kenya",
            "Laos",
            "Latvia",
            "Lebanon",
            "Lithuania",
            "Luxembourg",
            "Macedonia",
            "Malaysia",
            "Malta",
            "Mexico",
            "Moldova",
            "Montenegro",
            "Morocco",
            "Myanmar",
            "Namibia",
            "Netherlands",
            "New Zealand",
            "Nigeria",
            "Norway",
            "Palestine",
            "Panama",
            "Peru",
            "Philippines",
            "Poland",
            "Portugal",
            "Puerto Rico",
            "Romania",
            "Russia",
            "Saint Lucia",
            "Serbia",
            "Singapore",
            "Slovak Republic",
            "Slovenia",
            "South Africa",
            "South Korea",
            "Spain",
            "Sri Lanka",
            "Sweden",
            "Switzerland",
            "Taiwan",
            "Tanzania",
            "Thailand",
            "Trinidad & Tobago",
            "Tunisia",
            "Turkey",
            "Uganda",
            "Ukraine",
            "United Kingdom",
            "Venezuela",
            "Vietnam",
            "Virgin Islands (U.S.)",
            "Zimbabwe"
           ],
           "name": "",
           "type": "choropleth",
           "z": [
            2.033333333333333,
            2.674060606060606,
            2.3111111111111113,
            2.35,
            2.6720064205457463,
            2.928057142857143,
            2.0072727272727273,
            2.1864864864864866,
            2.176470588235294,
            3.500770936208808,
            2.3066666666666666,
            2.0555555555555554,
            2.3130434782608695,
            2.822289156626506,
            2.164625850340136,
            1.9064516129032258,
            3.088929618768329,
            3.0083333333333333,
            2.6365079365079365,
            1.9869747899159662,
            1.950793650793651,
            1.9329268292682926,
            2.353815261044177,
            1.9098591549295774,
            1.9761904761904763,
            2.9870417732310313,
            2.9037769686430086,
            3.18,
            1.92027027027027,
            1.6576923076923078,
            1.9292307692307693,
            1.7532258064516129,
            2.3922705314009662,
            1.984,
            2.3745664739884393,
            1.5999999999999999,
            2.8253796095444685,
            2.847541507024266,
            2.1525,
            2.319230769230769,
            3.0674542124542126,
            2.0444444444444443,
            2.14014598540146,
            1.8566037735849057,
            2.430769230769231,
            1.875,
            2.0766666666666667,
            2.1805128205128206,
            2.248684210526316,
            1.9763005780346818,
            2.1655172413793102,
            3.1703254006799417,
            3.0683823529411764,
            2.5175,
            2.945409523809524,
            2.539402985074627,
            2.933426573426573,
            3.15,
            2.1951219512195124,
            2.2476190476190476,
            2.677878787878788,
            1.9264705882352942,
            2.4817578772802653,
            2.692248062015504,
            2.1809523809523808,
            2.33,
            2.553846153846154,
            2.119289074751699,
            2.4,
            2.3266666666666667,
            2.211627906976744,
            1.4391304347826088,
            2.1463414634146343,
            2.9306432349428424,
            2.845667870036101,
            3.077777777777778,
            3.269745222929936,
            2.386206896551724,
            1.4897435897435898,
            2.207070707070707,
            2.2513274336283184,
            2.6982545045045048,
            2.1655021834061134,
            2.161764705882353,
            2.1756944444444444,
            2.405324813631523,
            1.9833333333333334,
            2.5754098360655737,
            2.3786290322580643,
            2.739864864864865,
            2.1925438596491227,
            2.462655601659751,
            2.2170940170940168,
            2.300936037441498,
            3.452140077821012,
            2.938941565600882,
            3.0558869701726845,
            2.3840909090909093,
            1.697674418604651,
            2.165991902834008,
            3.165994236311239,
            2.21,
            2.2953307392996107,
            1.582142857142857,
            2.5780788177339904,
            3.1653877482234645,
            1.7654545454545454,
            2.1,
            2.468888888888889,
            2.3
           ]
          },
          {
           "coloraxis": "coloraxis",
           "geo": "geo",
           "hovertemplate": "location=%{location}<br>count=%{z}<extra></extra>",
           "locationmode": "USA-states",
           "locations": [
            "AL",
            "AK",
            "AZ",
            "AR",
            "CA",
            "CO",
            "CT",
            "DE",
            "FL",
            "GA",
            "HI",
            "ID",
            "IL",
            "IN",
            "IA",
            "KS",
            "KY",
            "LA",
            "ME",
            "MD",
            "MA",
            "MI",
            "MN",
            "MO",
            "MT",
            "NE",
            "NV",
            "NH",
            "NJ",
            "NM",
            "NY",
            "NC",
            "OH",
            "OK",
            "OR",
            "PA",
            "RI",
            "SC",
            "SD",
            "TN",
            "TX",
            "UT",
            "VT",
            "VA",
            "WA",
            "DC",
            "WV",
            "WI",
            "WY"
           ],
           "name": "",
           "type": "choropleth",
           "z": [
            2.8255474452554745,
            3.5622483221476506,
            3.3002237136465324,
            3.0500000000000003,
            3.536476148379858,
            3.1908239375542062,
            3.4508247422680416,
            3.3950617283950617,
            3.062232142857143,
            3.436923721709975,
            3.248351648351648,
            3.349244332493703,
            3.4258705184420943,
            3.226199740596628,
            3.096986301369863,
            3.4014662756598244,
            3.248121387283237,
            2.842093023255814,
            3.2839820712432175,
            3.3383553980980794,
            3.1992109256449166,
            3.417908637649912,
            3.323785545023697,
            2.224333333333333,
            3.274748490945674,
            3.2334615384615386,
            2.972978723404255,
            3.436745533558667,
            3.412625538020086,
            3.155820105820106,
            3.365854442587116,
            3.4268686296715742,
            3.5897805364664155,
            2.5441379310344825,
            3.4793186023729183,
            3.2855424229632755,
            3.3355231143552313,
            2.9347408829174664,
            3.19375,
            3.0446958981612444,
            3.1089224768405654,
            3.106229508196721,
            3.1202023207378757,
            3.3044303797468357,
            3.2675490501401434,
            2.9812499999999997,
            3.04811320754717,
            2.8721802016985136,
            3.2258278145695365
           ]
          }
         ],
         "name": "2007"
        },
        {
         "data": [
          {
           "coloraxis": "coloraxis",
           "geo": "geo",
           "hovertemplate": "location=%{location}<br>count=%{z}<extra></extra>",
           "locationmode": "country names",
           "locations": [
            "Albania",
            "Argentina",
            "Armenia",
            "Aruba",
            "Australia",
            "Austria",
            "Bahamas",
            "Barbados",
            "Belarus",
            "Belgium",
            "Belize",
            "Bolivia",
            "Bosnia and Herzegovina",
            "Brazil",
            "Bulgaria",
            "Cambodia",
            "Canada",
            "Cayman Islands",
            "Chile",
            "China",
            "Colombia",
            "Costa Rica",
            "Croatia",
            "Cuba",
            "Cyprus",
            "Czech Republic",
            "Denmark",
            "Dominica",
            "Dominican Republic",
            "Ecuador",
            "Egypt",
            "El Salvador",
            "Estonia",
            "Ethiopia",
            "Faroe Islands",
            "Fiji Islands",
            "Finland",
            "France",
            "French Polynesia",
            "Georgia",
            "Germany",
            "Ghana",
            "Greece",
            "Guatemala",
            "Guernsey",
            "Honduras",
            "Hong Kong",
            "Hungary",
            "Iceland",
            "India",
            "Indonesia",
            "Ireland",
            "Isle of Man",
            "Israel",
            "Italy",
            "Jamaica",
            "Japan",
            "Jersey",
            "Kenya",
            "Laos",
            "Latvia",
            "Lebanon",
            "Lithuania",
            "Luxembourg",
            "Macedonia",
            "Malaysia",
            "Malta",
            "Mexico",
            "Moldova",
            "Montenegro",
            "Morocco",
            "Myanmar",
            "Namibia",
            "Netherlands",
            "New Zealand",
            "Nigeria",
            "Norway",
            "Palestine",
            "Panama",
            "Peru",
            "Philippines",
            "Poland",
            "Portugal",
            "Puerto Rico",
            "Romania",
            "Russia",
            "Saint Lucia",
            "Serbia",
            "Singapore",
            "Slovak Republic",
            "Slovenia",
            "South Africa",
            "South Korea",
            "Spain",
            "Sri Lanka",
            "Sweden",
            "Switzerland",
            "Taiwan",
            "Tanzania",
            "Thailand",
            "Trinidad & Tobago",
            "Tunisia",
            "Turkey",
            "Uganda",
            "Ukraine",
            "United Kingdom",
            "Venezuela",
            "Vietnam",
            "Virgin Islands (U.S.)",
            "Zimbabwe"
           ],
           "name": "",
           "type": "choropleth",
           "z": [
            2.0611111111111113,
            2.5757111597374176,
            2.4142857142857146,
            2.1,
            2.74056399132321,
            2.9310762331838567,
            1.9127272727272728,
            2.1564102564102563,
            2.051219512195122,
            3.507256608490348,
            2.6333333333333333,
            2.1075,
            2.177142857142857,
            2.7229070837166516,
            2.218421052631579,
            2.0175,
            3.2022277543725264,
            2.066666666666667,
            2.788211382113821,
            1.8504201680672268,
            2.239,
            2.026470588235294,
            2.361846153846154,
            1.98,
            2.006666666666667,
            2.9372363041700735,
            2.992583930224626,
            1.7,
            1.905681818181818,
            1.8875,
            1.9172043010752688,
            1.9335766423357663,
            2.251494252873563,
            2.596923076923077,
            2.419620253164557,
            2.0999999999999996,
            2.8395792754187767,
            2.8591806220095695,
            2.0647058823529414,
            2.111764705882353,
            3.035148564713782,
            1.7409090909090907,
            2.2849829351535837,
            1.634782608695652,
            2.511111111111111,
            1.637037037037037,
            1.941935483870968,
            2.269204152249135,
            2.345816733067729,
            1.9128851540616245,
            2.19344262295082,
            3.1862389813907934,
            3.145625,
            2.6734265734265734,
            3.031493764924383,
            2.388704318936877,
            3.026433260393873,
            2.3,
            2.1112359550561797,
            2.209090909090909,
            2.506201550387597,
            2.1863636363636365,
            2.5290933694181326,
            2.5145299145299145,
            2.036363636363636,
            2.868181818181818,
            2.435164835164835,
            2.1157730116175157,
            2.5307692307692307,
            2.1456521739130436,
            2.0507936507936506,
            1.7,
            2.4383333333333335,
            2.903578184110971,
            2.926874043855176,
            3.214,
            3.313899253731343,
            2.8803030303030304,
            1.9454545454545453,
            2.191588785046729,
            2.1469135802469137,
            2.5484772840738894,
            2.2018656716417913,
            2.628205128205128,
            2.1101851851851854,
            2.3907045009784738,
            1.6666666666666667,
            2.401176470588235,
            2.3502890173410407,
            2.6157894736842104,
            2.3522580645161293,
            2.5015384615384617,
            1.8992537313432836,
            2.308884859474161,
            3.4945454545454546,
            3.0830024123213953,
            3.109795918367347,
            1.7933333333333334,
            2.090909090909091,
            2.113274336283186,
            2.974336283185841,
            2.2233333333333336,
            2.261349693251534,
            2.0588235294117645,
            2.4019354838709677,
            3.181109073254936,
            1.8861111111111113,
            2.2618181818181817,
            2.796875,
            1.7333333333333334
           ]
          },
          {
           "coloraxis": "coloraxis",
           "geo": "geo",
           "hovertemplate": "location=%{location}<br>count=%{z}<extra></extra>",
           "locationmode": "USA-states",
           "locations": [
            "AL",
            "AK",
            "AZ",
            "AR",
            "CA",
            "CO",
            "CT",
            "DE",
            "FL",
            "GA",
            "HI",
            "ID",
            "IL",
            "IN",
            "IA",
            "KS",
            "KY",
            "LA",
            "ME",
            "MD",
            "MA",
            "MI",
            "MN",
            "MO",
            "MT",
            "NE",
            "NV",
            "NH",
            "NJ",
            "NM",
            "NY",
            "NC",
            "OH",
            "OK",
            "OR",
            "PA",
            "RI",
            "SC",
            "SD",
            "TN",
            "TX",
            "UT",
            "VT",
            "VA",
            "WA",
            "DC",
            "WV",
            "WI",
            "WY"
           ],
           "name": "",
           "type": "choropleth",
           "z": [
            3.122916666666667,
            3.6310066476733143,
            3.2704315886134068,
            3.100740740740741,
            3.595501834309806,
            3.2064150318682225,
            3.3969398907103825,
            3.420383275261324,
            3.1209408194233688,
            3.433586050037907,
            3.258202802967848,
            3.3866735537190085,
            3.4442669172932328,
            3.358090862685043,
            3.0170909090909093,
            3.4106635071090046,
            3.209970238095238,
            2.901435406698565,
            3.2942271442035818,
            3.300816932788712,
            3.2015795868772785,
            3.4627110409328314,
            3.3915994623655914,
            2.3921726227278346,
            3.1902482269503545,
            3.3721254355400694,
            3.0714285714285716,
            3.4884524744697565,
            3.348139797068771,
            3.2074879227053144,
            3.4174004634506003,
            3.388761408083442,
            3.5250964374858182,
            2.808835341365462,
            3.493774319066148,
            3.314862648626486,
            3.208715596330275,
            3.064818763326226,
            3.189285714285714,
            3.145465994962217,
            3.208732660781841,
            3.161993769470405,
            3.113243967828418,
            3.273213311511184,
            3.293967807469917,
            3.1238095238095234,
            2.8688524590163933,
            2.89750404138377,
            3.231034482758621
           ]
          }
         ],
         "name": "2008"
        },
        {
         "data": [
          {
           "coloraxis": "coloraxis",
           "geo": "geo",
           "hovertemplate": "location=%{location}<br>count=%{z}<extra></extra>",
           "locationmode": "country names",
           "locations": [
            "Albania",
            "Argentina",
            "Armenia",
            "Aruba",
            "Australia",
            "Austria",
            "Bahamas",
            "Barbados",
            "Belarus",
            "Belgium",
            "Belize",
            "Bolivia",
            "Bosnia and Herzegovina",
            "Brazil",
            "Bulgaria",
            "Cambodia",
            "Canada",
            "Cayman Islands",
            "Chile",
            "China",
            "Colombia",
            "Costa Rica",
            "Croatia",
            "Cuba",
            "Cyprus",
            "Czech Republic",
            "Denmark",
            "Dominica",
            "Dominican Republic",
            "Ecuador",
            "Egypt",
            "El Salvador",
            "Estonia",
            "Ethiopia",
            "Faroe Islands",
            "Fiji Islands",
            "Finland",
            "France",
            "French Polynesia",
            "Georgia",
            "Germany",
            "Ghana",
            "Greece",
            "Guatemala",
            "Guernsey",
            "Honduras",
            "Hong Kong",
            "Hungary",
            "Iceland",
            "India",
            "Indonesia",
            "Ireland",
            "Isle of Man",
            "Israel",
            "Italy",
            "Jamaica",
            "Japan",
            "Jersey",
            "Kenya",
            "Laos",
            "Latvia",
            "Lebanon",
            "Lithuania",
            "Luxembourg",
            "Macedonia",
            "Malaysia",
            "Malta",
            "Mexico",
            "Moldova",
            "Montenegro",
            "Morocco",
            "Myanmar",
            "Namibia",
            "Netherlands",
            "New Zealand",
            "Nigeria",
            "Norway",
            "Palestine",
            "Panama",
            "Peru",
            "Philippines",
            "Poland",
            "Portugal",
            "Puerto Rico",
            "Romania",
            "Russia",
            "Saint Lucia",
            "Serbia",
            "Singapore",
            "Slovak Republic",
            "Slovenia",
            "South Africa",
            "South Korea",
            "Spain",
            "Sri Lanka",
            "Sweden",
            "Switzerland",
            "Taiwan",
            "Tanzania",
            "Thailand",
            "Trinidad & Tobago",
            "Tunisia",
            "Turkey",
            "Uganda",
            "Ukraine",
            "United Kingdom",
            "Venezuela",
            "Vietnam",
            "Virgin Islands (U.S.)",
            "Zimbabwe"
           ],
           "name": "",
           "type": "choropleth",
           "z": [
            1.8090909090909089,
            2.6315403422982886,
            2.610526315789474,
            2.1384615384615384,
            2.868009011546043,
            2.9308758040573974,
            1.8545454545454545,
            2.2357142857142858,
            2.5341614906832297,
            3.490349245711924,
            2.538888888888889,
            2.2289473684210526,
            2.135238095238095,
            2.6796918767507,
            2.095049504950495,
            2.2830188679245285,
            3.226198659079385,
            2.31,
            2.843421052631579,
            1.8895635673624287,
            2.3096153846153844,
            2.1695238095238096,
            2.3542600896860986,
            1.8399999999999999,
            1.9382978723404254,
            2.9395984943538265,
            3.042665507390386,
            1.957142857142857,
            1.8125,
            1.8324324324324324,
            1.9,
            1.695061728395062,
            2.2348008385744236,
            2.2455696202531645,
            2.5529032258064515,
            1.8636363636363635,
            2.830731943771207,
            2.818645439827307,
            2.259259259259259,
            2.090909090909091,
            3.0009661835748793,
            2.2545454545454544,
            2.4122249388753056,
            1.8651162790697675,
            2.7375,
            2.3,
            1.9923076923076921,
            2.334418604651163,
            2.8493723849372383,
            1.9448170731707317,
            2.170114942528736,
            3.149816345270891,
            3.1637037037037037,
            2.6281250000000003,
            3.1110583446404343,
            2.4739130434782606,
            3.033901313454029,
            2.8875,
            2.052688172043011,
            2.5,
            2.33393665158371,
            2.45,
            2.540471869328494,
            2.5814814814814815,
            2.4333333333333336,
            2.253846153846154,
            2.438211382113821,
            2.174423963133641,
            2.8,
            2.424324324324324,
            2.222448979591837,
            1.5833333333333333,
            2.335,
            2.9540518506440567,
            3.051637666325486,
            2.8546875,
            3.4344282452134203,
            2.6374999999999997,
            1.9230769230769231,
            2.2103448275862068,
            2.2415384615384615,
            2.485472018089316,
            2.2932735426008968,
            2.5363636363636366,
            2.006194690265487,
            2.3533888228299644,
            2.019047619047619,
            2.2688311688311686,
            2.426041666666667,
            2.611038961038961,
            2.316744186046512,
            2.3923664122137405,
            1.8487603305785123,
            2.528524857375713,
            3.3686635944700463,
            2.9771572655958165,
            3.1934663341645884,
            2.0985507246376813,
            2.0710526315789473,
            2.0444827586206897,
            2.3824324324324326,
            2.073076923076923,
            2.0256578947368418,
            1.7166666666666666,
            2.4186868686868688,
            3.171664943123061,
            1.8199999999999998,
            2.2802768166089966,
            2.5174418604651163,
            1.9857142857142858
           ]
          },
          {
           "coloraxis": "coloraxis",
           "geo": "geo",
           "hovertemplate": "location=%{location}<br>count=%{z}<extra></extra>",
           "locationmode": "USA-states",
           "locations": [
            "AL",
            "AK",
            "AZ",
            "AR",
            "CA",
            "CO",
            "CT",
            "DE",
            "FL",
            "GA",
            "HI",
            "ID",
            "IL",
            "IN",
            "IA",
            "KS",
            "KY",
            "LA",
            "ME",
            "MD",
            "MA",
            "MI",
            "MN",
            "MO",
            "MT",
            "NE",
            "NV",
            "NH",
            "NJ",
            "NM",
            "NY",
            "NC",
            "OH",
            "OK",
            "OR",
            "PA",
            "RI",
            "SC",
            "SD",
            "TN",
            "TX",
            "UT",
            "VT",
            "VA",
            "WA",
            "DC",
            "WV",
            "WI",
            "WY"
           ],
           "name": "",
           "type": "choropleth",
           "z": [
            3.165798045602606,
            3.631574923547401,
            3.256007751937984,
            3.1,
            3.5923764325743424,
            3.301731338750095,
            3.384598698481562,
            3.4133891213389123,
            3.1572211155378485,
            3.4697609783212897,
            3.203817603393425,
            3.5107244318181823,
            3.491656365883807,
            3.357466281310212,
            3.0156896551724137,
            3.339249146757679,
            3.1854724964739067,
            2.945432098765432,
            3.335693359375,
            3.3104609218436876,
            3.280745862141211,
            3.470599739243807,
            3.43630303030303,
            2.690581425940542,
            3.3273350471293917,
            3.3863049095607236,
            3.0848082595870205,
            3.4580920451081987,
            3.3343644544431945,
            3.2941043083900228,
            3.441584863435227,
            3.397163120567376,
            3.517346720786157,
            2.9216014897579146,
            3.5281046982393374,
            3.3472734727347273,
            3.141528239202658,
            3.153351573187414,
            3.3312500000000003,
            3.177461538461538,
            3.1758899676375405,
            3.2257589696412143,
            3.2098740440845703,
            3.2604564508616676,
            3.308829953198128,
            3.3035714285714284,
            2.9077380952380953,
            2.9909669687663847,
            3.3369426751592357
           ]
          }
         ],
         "name": "2009"
        },
        {
         "data": [
          {
           "coloraxis": "coloraxis",
           "geo": "geo",
           "hovertemplate": "location=%{location}<br>count=%{z}<extra></extra>",
           "locationmode": "country names",
           "locations": [
            "Albania",
            "Argentina",
            "Armenia",
            "Aruba",
            "Australia",
            "Austria",
            "Bahamas",
            "Barbados",
            "Belarus",
            "Belgium",
            "Belize",
            "Bolivia",
            "Bosnia and Herzegovina",
            "Brazil",
            "Bulgaria",
            "Cambodia",
            "Canada",
            "Cayman Islands",
            "Chile",
            "China",
            "Colombia",
            "Costa Rica",
            "Croatia",
            "Cuba",
            "Cyprus",
            "Czech Republic",
            "Denmark",
            "Dominica",
            "Dominican Republic",
            "Ecuador",
            "Egypt",
            "El Salvador",
            "Estonia",
            "Ethiopia",
            "Faroe Islands",
            "Fiji Islands",
            "Finland",
            "France",
            "French Polynesia",
            "Georgia",
            "Germany",
            "Ghana",
            "Greece",
            "Guatemala",
            "Guernsey",
            "Honduras",
            "Hong Kong",
            "Hungary",
            "Iceland",
            "India",
            "Indonesia",
            "Ireland",
            "Isle of Man",
            "Israel",
            "Italy",
            "Jamaica",
            "Japan",
            "Jersey",
            "Kenya",
            "Laos",
            "Latvia",
            "Lebanon",
            "Lithuania",
            "Luxembourg",
            "Macedonia",
            "Malaysia",
            "Malta",
            "Mexico",
            "Moldova",
            "Montenegro",
            "Morocco",
            "Myanmar",
            "Namibia",
            "Netherlands",
            "New Zealand",
            "Nigeria",
            "Norway",
            "Palestine",
            "Panama",
            "Peru",
            "Philippines",
            "Poland",
            "Portugal",
            "Puerto Rico",
            "Romania",
            "Russia",
            "Saint Lucia",
            "Serbia",
            "Singapore",
            "Slovak Republic",
            "Slovenia",
            "South Africa",
            "South Korea",
            "Spain",
            "Sri Lanka",
            "Sweden",
            "Switzerland",
            "Taiwan",
            "Tanzania",
            "Thailand",
            "Trinidad & Tobago",
            "Tunisia",
            "Turkey",
            "Uganda",
            "Ukraine",
            "United Kingdom",
            "Venezuela",
            "Vietnam",
            "Virgin Islands (U.S.)",
            "Zimbabwe"
           ],
           "name": "",
           "type": "choropleth",
           "z": [
            2.220689655172414,
            2.6372340425531915,
            2.1894736842105265,
            2.209090909090909,
            2.9969746083198268,
            2.9497304582210244,
            2.1616666666666666,
            2.173076923076923,
            2.274757281553398,
            3.4958936817800166,
            2.1140350877192984,
            2.1809523809523808,
            2.350793650793651,
            2.9220216606498193,
            2.271812080536913,
            2.4918918918918918,
            3.2473982086927853,
            2.125,
            2.961224489795918,
            1.8790076335877863,
            2.235632183908046,
            2.037864077669903,
            2.5507692307692307,
            1.9,
            2.1655172413793102,
            2.991514821865651,
            3.049583548739158,
            2.85,
            2,
            2.0166666666666666,
            1.8539682539682538,
            1.704310344827586,
            2.264273204903678,
            2.4375,
            2.6389312977099237,
            3.1,
            2.8703778951645673,
            2.887228317118609,
            2.0451612903225804,
            2.312,
            3.026814722066625,
            2.1,
            2.4410714285714286,
            1.7000000000000002,
            2.6214285714285714,
            1.8641304347826086,
            1.9861111111111112,
            2.4957671957671956,
            3.089802631578947,
            1.9758771929824561,
            2.145679012345679,
            3.211379097093383,
            3.068,
            3.03956043956044,
            3.221776581426649,
            2.2783882783882783,
            3.0263875823142055,
            2.914285714285714,
            2.1323529411764706,
            2.397777777777778,
            2.5887905604719763,
            2.2051724137931035,
            2.6037735849056602,
            2.513440860215054,
            2.0266666666666664,
            2.3,
            2.415625,
            2.1454291695743195,
            2.0791666666666666,
            2.5928571428571425,
            2.262,
            2.5,
            2.433333333333333,
            3.045872819667628,
            3.1447368421052633,
            2.323913043478261,
            3.481336270190896,
            2.3,
            1.9149999999999998,
            2.0046511627906978,
            1.9765151515151513,
            2.6186666666666665,
            2.3087774294670846,
            2.5942857142857143,
            2.19,
            2.459777227722772,
            1.65,
            2.1407894736842104,
            2.620879120879121,
            2.6890365448504983,
            2.3551181102362206,
            2.51484375,
            2.143103448275862,
            2.4804096170970613,
            3.3944444444444444,
            3.115938830206527,
            3.0403413498836307,
            1.9275862068965517,
            1.876,
            2.0926356589147286,
            2.3226666666666667,
            2.155263157894737,
            2.2196172248803827,
            2.05,
            2.4504950495049505,
            3.2074832600229737,
            1.6625,
            1.8879432624113475,
            2.7583333333333333,
            2.56
           ]
          },
          {
           "coloraxis": "coloraxis",
           "geo": "geo",
           "hovertemplate": "location=%{location}<br>count=%{z}<extra></extra>",
           "locationmode": "USA-states",
           "locations": [
            "AL",
            "AK",
            "AZ",
            "AR",
            "CA",
            "CO",
            "CT",
            "DE",
            "FL",
            "GA",
            "HI",
            "ID",
            "IL",
            "IN",
            "IA",
            "KS",
            "KY",
            "LA",
            "ME",
            "MD",
            "MA",
            "MI",
            "MN",
            "MO",
            "MT",
            "NE",
            "NV",
            "NH",
            "NJ",
            "NM",
            "NY",
            "NC",
            "OH",
            "OK",
            "OR",
            "PA",
            "RI",
            "SC",
            "SD",
            "TN",
            "TX",
            "UT",
            "VT",
            "VA",
            "WA",
            "DC",
            "WV",
            "WI",
            "WY"
           ],
           "name": "",
           "type": "choropleth",
           "z": [
            3.3491620111731844,
            3.642620232172471,
            3.250099403578529,
            3.1330827067669174,
            3.615808297567954,
            3.3395643828757406,
            3.427568922305764,
            3.4129526462395545,
            3.2542505592841167,
            3.519307556229467,
            3.309950248756219,
            3.491341256366723,
            3.597181713911191,
            3.3789890981169477,
            3.1561576354679803,
            3.333873873873874,
            3.3285511363636364,
            3.031444533120511,
            3.414529639175258,
            3.4479900832300334,
            3.3433320220298977,
            3.4863850379283288,
            3.477377300613497,
            2.8507320394960844,
            3.3291975724881993,
            3.491992551210428,
            3.0931906614785993,
            3.4717283479587944,
            3.3813926940639267,
            3.398420221169036,
            3.477714739589243,
            3.4367561583171877,
            3.5291516053582814,
            3.087360594795539,
            3.5415796109510085,
            3.3704863669859986,
            3,
            3.3651465798045606,
            3.107142857142857,
            3.3286764705882352,
            3.2824353920280336,
            3.4395845030881524,
            3.2765709852598914,
            3.3050108932461875,
            3.346787244169443,
            3.2285714285714286,
            3.030263157894737,
            3.064454303460515,
            3.262179487179487
           ]
          }
         ],
         "name": "2010"
        },
        {
         "data": [
          {
           "coloraxis": "coloraxis",
           "geo": "geo",
           "hovertemplate": "location=%{location}<br>count=%{z}<extra></extra>",
           "locationmode": "country names",
           "locations": [
            "Albania",
            "Argentina",
            "Armenia",
            "Aruba",
            "Australia",
            "Austria",
            "Bahamas",
            "Barbados",
            "Belarus",
            "Belgium",
            "Belize",
            "Bolivia",
            "Bosnia and Herzegovina",
            "Brazil",
            "Bulgaria",
            "Cambodia",
            "Canada",
            "Cayman Islands",
            "Chile",
            "China",
            "Colombia",
            "Costa Rica",
            "Croatia",
            "Cuba",
            "Cyprus",
            "Czech Republic",
            "Denmark",
            "Dominica",
            "Dominican Republic",
            "Ecuador",
            "Egypt",
            "El Salvador",
            "Estonia",
            "Ethiopia",
            "Faroe Islands",
            "Fiji Islands",
            "Finland",
            "France",
            "French Polynesia",
            "Georgia",
            "Germany",
            "Ghana",
            "Greece",
            "Guatemala",
            "Guernsey",
            "Honduras",
            "Hong Kong",
            "Hungary",
            "Iceland",
            "India",
            "Indonesia",
            "Ireland",
            "Isle of Man",
            "Israel",
            "Italy",
            "Jamaica",
            "Japan",
            "Jersey",
            "Kenya",
            "Laos",
            "Latvia",
            "Lebanon",
            "Lithuania",
            "Luxembourg",
            "Macedonia",
            "Malaysia",
            "Malta",
            "Mexico",
            "Moldova",
            "Montenegro",
            "Morocco",
            "Myanmar",
            "Namibia",
            "Netherlands",
            "New Zealand",
            "Nigeria",
            "Norway",
            "Palestine",
            "Panama",
            "Peru",
            "Philippines",
            "Poland",
            "Portugal",
            "Puerto Rico",
            "Romania",
            "Russia",
            "Saint Lucia",
            "Serbia",
            "Singapore",
            "Slovak Republic",
            "Slovenia",
            "South Africa",
            "South Korea",
            "Spain",
            "Sri Lanka",
            "Sweden",
            "Switzerland",
            "Taiwan",
            "Tanzania",
            "Thailand",
            "Trinidad & Tobago",
            "Tunisia",
            "Turkey",
            "Uganda",
            "Ukraine",
            "United Kingdom",
            "Venezuela",
            "Vietnam",
            "Virgin Islands (U.S.)",
            "Zimbabwe"
           ],
           "name": "",
           "type": "choropleth",
           "z": [
            2.3594594594594596,
            2.626235741444867,
            2.246153846153846,
            2.33125,
            3.0817727146429563,
            2.9049247049247047,
            2.1526315789473687,
            2.092857142857143,
            2.322314049586777,
            3.4847773890375247,
            2.690625,
            2.04,
            2.3278481012658228,
            2.8000000000000003,
            2.3662068965517244,
            2.617021276595745,
            3.221737265926526,
            2.390909090909091,
            2.749242424242424,
            1.980860534124629,
            1.8428571428571427,
            2.1398809523809526,
            2.4046109510086455,
            1.8784615384615384,
            2.139655172413793,
            3.008825204023534,
            3.143515350577072,
            1.5,
            2.0372881355932204,
            1.8,
            2.05,
            1.9547169811320757,
            2.369551282051282,
            2.322093023255814,
            2.6033175355450235,
            2.0272727272727273,
            2.8933482571154463,
            2.9346613545816735,
            1.9972222222222225,
            2.0090909090909093,
            2.9875413705518636,
            2.2961538461538464,
            2.4411764705882355,
            1.9115942028985509,
            2.3,
            2.1704545454545454,
            2.084,
            2.5065,
            2.9326315789473685,
            2.124774774774775,
            2.4339622641509435,
            3.2046317739694303,
            3.136764705882353,
            2.86441717791411,
            3.26902830910482,
            2.430212765957447,
            3.032719742291763,
            3.039285714285714,
            2.3262626262626265,
            2.3209302325581396,
            2.621705426356589,
            2.6939130434782608,
            2.375887573964497,
            2.583422459893048,
            1.8533333333333333,
            2.465625,
            2.5803030303030305,
            2.238227513227513,
            2.094871794871795,
            2.375,
            2.1315789473684212,
            2.225,
            2.436986301369863,
            3.1044977214186646,
            3.3726883255980007,
            2.715151515151515,
            3.380928931169558,
            2.472,
            1.5125,
            2.2170542635658914,
            2.0854545454545454,
            2.6645869439630268,
            2.378975741239892,
            2.6888888888888887,
            2.1958333333333333,
            2.457962962962963,
            2.2555555555555555,
            2.345531914893617,
            2.5593023255813954,
            2.78718487394958,
            2.294,
            3,
            2.045098039215686,
            2.607768115942029,
            3.2082278481012656,
            3.1147528264242963,
            3.1290892193308553,
            2.541025641025641,
            1.8287878787878789,
            2.0964285714285715,
            2.28125,
            1.9590909090909092,
            2.108031088082902,
            2.0973684210526318,
            2.267069486404834,
            3.207809106141785,
            1.768,
            1.8720779220779222,
            2.8504950495049504,
            2.1045454545454545
           ]
          },
          {
           "coloraxis": "coloraxis",
           "geo": "geo",
           "hovertemplate": "location=%{location}<br>count=%{z}<extra></extra>",
           "locationmode": "USA-states",
           "locations": [
            "AL",
            "AK",
            "AZ",
            "AR",
            "CA",
            "CO",
            "CT",
            "DE",
            "FL",
            "GA",
            "HI",
            "ID",
            "IL",
            "IN",
            "IA",
            "KS",
            "KY",
            "LA",
            "ME",
            "MD",
            "MA",
            "MI",
            "MN",
            "MO",
            "MT",
            "NE",
            "NV",
            "NH",
            "NJ",
            "NM",
            "NY",
            "NC",
            "OH",
            "OK",
            "OR",
            "PA",
            "RI",
            "SC",
            "SD",
            "TN",
            "TX",
            "UT",
            "VT",
            "VA",
            "WA",
            "DC",
            "WV",
            "WI",
            "WY"
           ],
           "name": "",
           "type": "choropleth",
           "z": [
            3.292881355932203,
            3.640596627756161,
            3.307535885167464,
            2.9944,
            3.602398738379814,
            3.3208413273644566,
            3.304302477183833,
            3.254180602006689,
            3.212285714285714,
            3.501343624928531,
            3.3449928469241774,
            3.5460329341317367,
            3.5570311446676555,
            3.445121293800539,
            3.2368852459016395,
            3.3138728323699422,
            3.323836389280677,
            2.9896999188969993,
            3.4072129408644924,
            3.4623276104700254,
            3.4075171962004585,
            3.4675294117647057,
            3.4984562066792693,
            2.9687308608370193,
            3.353089430894309,
            3.4682864450127875,
            3.0867069486404834,
            3.440135512156237,
            3.3336801752464402,
            3.338086062941554,
            3.4830031166518256,
            3.407651126477805,
            3.5199740034662046,
            3.1939550949913644,
            3.5010826486225226,
            3.3396786009689237,
            3.11986143187067,
            3.3484491978609627,
            3.183695652173913,
            3.3006554307116103,
            3.2849770870691373,
            3.492279855247286,
            3.4894089129218724,
            3.285898024804777,
            3.338261188554659,
            3.3463636363636367,
            2.9614864864864865,
            3.0540752923976613,
            3.375
           ]
          }
         ],
         "name": "2011"
        },
        {
         "data": [
          {
           "coloraxis": "coloraxis",
           "geo": "geo",
           "hovertemplate": "location=%{location}<br>count=%{z}<extra></extra>",
           "locationmode": "country names",
           "locations": [
            "Albania",
            "Argentina",
            "Armenia",
            "Aruba",
            "Australia",
            "Austria",
            "Bahamas",
            "Barbados",
            "Belarus",
            "Belgium",
            "Belize",
            "Bolivia",
            "Bosnia and Herzegovina",
            "Brazil",
            "Bulgaria",
            "Cambodia",
            "Canada",
            "Cayman Islands",
            "Chile",
            "China",
            "Colombia",
            "Costa Rica",
            "Croatia",
            "Cuba",
            "Cyprus",
            "Czech Republic",
            "Denmark",
            "Dominica",
            "Dominican Republic",
            "Ecuador",
            "Egypt",
            "El Salvador",
            "Estonia",
            "Ethiopia",
            "Faroe Islands",
            "Fiji Islands",
            "Finland",
            "France",
            "French Polynesia",
            "Georgia",
            "Germany",
            "Ghana",
            "Greece",
            "Guatemala",
            "Guernsey",
            "Honduras",
            "Hong Kong",
            "Hungary",
            "Iceland",
            "India",
            "Indonesia",
            "Ireland",
            "Isle of Man",
            "Israel",
            "Italy",
            "Jamaica",
            "Japan",
            "Jersey",
            "Kenya",
            "Laos",
            "Latvia",
            "Lebanon",
            "Lithuania",
            "Luxembourg",
            "Macedonia",
            "Malaysia",
            "Malta",
            "Mexico",
            "Moldova",
            "Montenegro",
            "Morocco",
            "Myanmar",
            "Namibia",
            "Netherlands",
            "New Zealand",
            "Nigeria",
            "Norway",
            "Palestine",
            "Panama",
            "Peru",
            "Philippines",
            "Poland",
            "Portugal",
            "Puerto Rico",
            "Romania",
            "Russia",
            "Saint Lucia",
            "Serbia",
            "Singapore",
            "Slovak Republic",
            "Slovenia",
            "South Africa",
            "South Korea",
            "Spain",
            "Sri Lanka",
            "Sweden",
            "Switzerland",
            "Taiwan",
            "Tanzania",
            "Thailand",
            "Trinidad & Tobago",
            "Tunisia",
            "Turkey",
            "Uganda",
            "Ukraine",
            "United Kingdom",
            "Venezuela",
            "Vietnam",
            "Virgin Islands (U.S.)",
            "Zimbabwe"
           ],
           "name": "",
           "type": "choropleth",
           "z": [
            1.971186440677966,
            2.6008982035928145,
            2.0387596899224807,
            1.9476190476190476,
            3.113063625022278,
            2.9713280293757647,
            2.0488372093023255,
            2.362857142857143,
            2.3509090909090906,
            3.520745116722249,
            2.529166666666667,
            2.25,
            2.2106382978723405,
            2.883225108225108,
            2.2228070175438597,
            2.363716814159292,
            3.2911185334193647,
            2.7083333333333335,
            2.9872093023255815,
            2.1073463268365815,
            2.264473684210526,
            2.175352112676056,
            2.37,
            1.9401785714285715,
            2.237313432835821,
            3.0209481361426254,
            3.180731105441466,
            2.075,
            2.032911392405063,
            2.1523809523809527,
            1.804938271604938,
            2.1280487804878048,
            2.287796976241901,
            2.4123595505617974,
            2.650187265917603,
            2.4727272727272727,
            2.8384163533834585,
            2.9643074581430744,
            2.126666666666667,
            1.896774193548387,
            3.014738473295406,
            2.1724137931034484,
            2.5939506172839506,
            1.9946564885496183,
            2.1863636363636365,
            1.9882352941176469,
            2.057142857142857,
            2.7052513966480447,
            3.236340533672173,
            2.1542699724517904,
            2.2294117647058824,
            3.258189977561705,
            3.158333333333333,
            2.9068669527896995,
            3.319640578477244,
            2.3256666666666668,
            3.041520672740014,
            3.0064516129032257,
            2.117032967032967,
            2.3289855072463768,
            2.6495774647887322,
            2.7314814814814814,
            2.740940106141016,
            2.533860759493671,
            2.252083333333333,
            2.383870967741936,
            2.318518518518519,
            2.302553830746119,
            2.092,
            2.470422535211268,
            2.298717948717949,
            1.9708333333333334,
            2.472727272727273,
            3.177692947312722,
            3.4076326914044155,
            2.5791666666666666,
            3.4160536731344724,
            2.5047619047619047,
            2.5868421052631576,
            2.2284210526315786,
            2.2156626506024097,
            2.5990684342529558,
            2.3291237113402063,
            2.5784615384615384,
            2.442123287671233,
            2.483438914027149,
            2.0153846153846153,
            2.181578947368421,
            2.4723684210526318,
            2.77158371040724,
            2.28546511627907,
            2.813761467889908,
            2.0706467661691543,
            2.884532204983545,
            3.2640776699029126,
            3.1227097705759665,
            3.166791219056516,
            2.223684210526316,
            1.8870967741935485,
            2.164035087719298,
            2.4415999999999998,
            1.7750000000000001,
            2.2431603773584907,
            2.018181818181818,
            2.405226960110041,
            3.2584054266614233,
            2.2795454545454543,
            2.037037037037037,
            2.8349206349206346,
            1.95
           ]
          },
          {
           "coloraxis": "coloraxis",
           "geo": "geo",
           "hovertemplate": "location=%{location}<br>count=%{z}<extra></extra>",
           "locationmode": "USA-states",
           "locations": [
            "AL",
            "AK",
            "AZ",
            "AR",
            "CA",
            "CO",
            "CT",
            "DE",
            "FL",
            "GA",
            "HI",
            "ID",
            "IL",
            "IN",
            "IA",
            "KS",
            "KY",
            "LA",
            "ME",
            "MD",
            "MA",
            "MI",
            "MN",
            "MO",
            "MT",
            "NE",
            "NV",
            "NH",
            "NJ",
            "NM",
            "NY",
            "NC",
            "OH",
            "OK",
            "OR",
            "PA",
            "RI",
            "SC",
            "SD",
            "TN",
            "TX",
            "UT",
            "VT",
            "VA",
            "WA",
            "DC",
            "WV",
            "WI",
            "WY"
           ],
           "name": "",
           "type": "choropleth",
           "z": [
            3.3231060606060603,
            3.666069295101553,
            3.3552238805970145,
            3.1341463414634148,
            3.626984876112839,
            3.328406976744186,
            3.4002398081534775,
            3.243176470588235,
            3.2954834392773504,
            3.518867445403758,
            3.2922020867655135,
            3.500303766707169,
            3.603542808941375,
            3.409551325628824,
            3.3116615067079462,
            3.4069403714565007,
            3.3438538205980066,
            3.010210444271239,
            3.4410902333264506,
            3.470475365189403,
            3.457195233730522,
            3.485708008348896,
            3.463054945054945,
            2.930249433106576,
            3.315445665445665,
            3.3763832658569504,
            3.1997214484679666,
            3.456488888888889,
            3.352837916910474,
            3.4885477178423234,
            3.496183037684229,
            3.393732135565537,
            3.5751946607341494,
            3.242060810810811,
            3.497820614255916,
            3.336811282419027,
            3.093220338983051,
            3.4468920392584517,
            3.1481481481481484,
            3.2515151515151515,
            3.395442038521354,
            3.5096605196982393,
            3.604567627494457,
            3.431233896364157,
            3.369757942511346,
            3.511575562700964,
            3.1820754716981132,
            3.0944980189878146,
            3.3244827586206895
           ]
          }
         ],
         "name": "2012"
        },
        {
         "data": [
          {
           "coloraxis": "coloraxis",
           "geo": "geo",
           "hovertemplate": "location=%{location}<br>count=%{z}<extra></extra>",
           "locationmode": "country names",
           "locations": [
            "Albania",
            "Argentina",
            "Armenia",
            "Aruba",
            "Australia",
            "Austria",
            "Bahamas",
            "Barbados",
            "Belarus",
            "Belgium",
            "Belize",
            "Bolivia",
            "Bosnia and Herzegovina",
            "Brazil",
            "Bulgaria",
            "Cambodia",
            "Canada",
            "Cayman Islands",
            "Chile",
            "China",
            "Colombia",
            "Costa Rica",
            "Croatia",
            "Cuba",
            "Cyprus",
            "Czech Republic",
            "Denmark",
            "Dominica",
            "Dominican Republic",
            "Ecuador",
            "Egypt",
            "El Salvador",
            "Estonia",
            "Ethiopia",
            "Faroe Islands",
            "Fiji Islands",
            "Finland",
            "France",
            "French Polynesia",
            "Georgia",
            "Germany",
            "Ghana",
            "Greece",
            "Guatemala",
            "Guernsey",
            "Honduras",
            "Hong Kong",
            "Hungary",
            "Iceland",
            "India",
            "Indonesia",
            "Ireland",
            "Isle of Man",
            "Israel",
            "Italy",
            "Jamaica",
            "Japan",
            "Jersey",
            "Kenya",
            "Laos",
            "Latvia",
            "Lebanon",
            "Lithuania",
            "Luxembourg",
            "Macedonia",
            "Malaysia",
            "Malta",
            "Mexico",
            "Moldova",
            "Montenegro",
            "Morocco",
            "Myanmar",
            "Namibia",
            "Netherlands",
            "New Zealand",
            "Nigeria",
            "Norway",
            "Palestine",
            "Panama",
            "Peru",
            "Philippines",
            "Poland",
            "Portugal",
            "Puerto Rico",
            "Romania",
            "Russia",
            "Saint Lucia",
            "Serbia",
            "Singapore",
            "Slovak Republic",
            "Slovenia",
            "South Africa",
            "South Korea",
            "Spain",
            "Sri Lanka",
            "Sweden",
            "Switzerland",
            "Taiwan",
            "Tanzania",
            "Thailand",
            "Trinidad & Tobago",
            "Tunisia",
            "Turkey",
            "Uganda",
            "Ukraine",
            "United Kingdom",
            "Venezuela",
            "Vietnam",
            "Virgin Islands (U.S.)",
            "Zimbabwe"
           ],
           "name": "",
           "type": "choropleth",
           "z": [
            2.0350877192982457,
            2.628260869565217,
            2.145098039215686,
            1.7909090909090908,
            3.2111781076066794,
            3.073154555940023,
            2.3657142857142857,
            2.4095652173913047,
            2.4836065573770494,
            3.5143509994739612,
            2.4523809523809526,
            2.1433962264150943,
            2.308080808080808,
            3.0416618580496246,
            2.3372641509433962,
            2.480722891566265,
            3.3337714406294277,
            2.5833333333333335,
            3.0111876075731496,
            2.4223363286264443,
            2.1870967741935483,
            2.1402877697841727,
            2.3759197324414716,
            2.0242424242424244,
            2.4636942675159235,
            3.0462962962962963,
            3.228146973946267,
            1.775,
            1.9077669902912622,
            2.224590163934426,
            2.0380434782608696,
            2.0705128205128207,
            2.4913705583756345,
            2.0836956521739127,
            2.684102564102564,
            2.2413793103448274,
            2.914034807600191,
            2.9967817285232288,
            2.204878048780488,
            2.0813186813186815,
            3.0796505722218463,
            1.8473684210526315,
            2.6429599177800616,
            1.9452054794520548,
            2.276923076923077,
            1.992,
            2.0157894736842104,
            2.817402597402597,
            3.244314558979809,
            2.111260053619303,
            2.1376237623762377,
            3.222986778846154,
            3.0223300970873788,
            2.996218020022247,
            3.321890166028097,
            2.493795620437956,
            3.128979330918389,
            2.847540983606557,
            2.2472972972972975,
            2.3333333333333335,
            2.687962962962963,
            2.613765182186235,
            2.6782683982683984,
            2.5443396226415094,
            2.268181818181818,
            2.661818181818182,
            2.3438016528925623,
            2.4082398619499568,
            2.507920792079208,
            2.480232558139535,
            2.101492537313433,
            2.0170731707317073,
            2.6808383233532935,
            3.222465426325739,
            3.433892235064301,
            2.7555555555555555,
            3.426549855223105,
            2.2333333333333334,
            1.8235294117647058,
            2.217391304347826,
            2.089029535864979,
            2.8453206435531384,
            2.5337645536869338,
            2.4794117647058824,
            2.126345609065156,
            2.3983231707317074,
            1.83125,
            2.1225352112676057,
            2.625132275132275,
            2.94860088365243,
            2.4409313725490196,
            2.8760757314974184,
            2.089711934156379,
            3.073581153434297,
            3.0598425196850396,
            3.1941363692006366,
            3.2405435591958303,
            2.208955223880597,
            2.138983050847458,
            2.026993865030675,
            2.384375,
            1.7875,
            2.2685096153846156,
            1.8311688311688312,
            2.3879464285714285,
            3.2767851113015922,
            2.0881578947368418,
            2.2634328358208955,
            2.7129870129870133,
            1.95
           ]
          },
          {
           "coloraxis": "coloraxis",
           "geo": "geo",
           "hovertemplate": "location=%{location}<br>count=%{z}<extra></extra>",
           "locationmode": "USA-states",
           "locations": [
            "AL",
            "AK",
            "AZ",
            "AR",
            "CA",
            "CO",
            "CT",
            "DE",
            "FL",
            "GA",
            "HI",
            "ID",
            "IL",
            "IN",
            "IA",
            "KS",
            "KY",
            "LA",
            "ME",
            "MD",
            "MA",
            "MI",
            "MN",
            "MO",
            "MT",
            "NE",
            "NV",
            "NH",
            "NJ",
            "NM",
            "NY",
            "NC",
            "OH",
            "OK",
            "OR",
            "PA",
            "RI",
            "SC",
            "SD",
            "TN",
            "TX",
            "UT",
            "VT",
            "VA",
            "WA",
            "DC",
            "WV",
            "WI",
            "WY"
           ],
           "name": "",
           "type": "choropleth",
           "z": [
            3.3247011952191237,
            3.6572773742265268,
            3.5141509433962264,
            3.2089655172413796,
            3.623814506118106,
            3.342047101449275,
            3.432038173142468,
            3.270760233918129,
            3.4465054275376117,
            3.510655737704918,
            3.25322434150772,
            3.4659010600706717,
            3.600847635726795,
            3.4052902875746067,
            3.3570909090909087,
            3.446962769431744,
            3.359865470852018,
            3.0803168799512495,
            3.5255567840783444,
            3.4598359747312424,
            3.5096567649837302,
            3.492439268492403,
            3.471220065183506,
            3.127022954887884,
            3.3179782903663497,
            3.3511658031088083,
            3.2838084378563286,
            3.5039810426540288,
            3.401135407905803,
            3.488760585065435,
            3.510875998216385,
            3.4029556650246304,
            3.5868653551655085,
            3.68765015015015,
            3.508417092811379,
            3.354323488644845,
            3.0428057553956833,
            3.5769253820797124,
            3.0238095238095237,
            3.2535541195476574,
            3.3964980956411344,
            3.5346986417657047,
            3.6404975530179446,
            3.3751466127401413,
            3.367183137911781,
            3.528813559322034,
            3.240952380952381,
            3.129037921348315,
            3.344415584415584
           ]
          }
         ],
         "name": "2013"
        },
        {
         "data": [
          {
           "coloraxis": "coloraxis",
           "geo": "geo",
           "hovertemplate": "location=%{location}<br>count=%{z}<extra></extra>",
           "locationmode": "country names",
           "locations": [
            "Albania",
            "Argentina",
            "Armenia",
            "Aruba",
            "Australia",
            "Austria",
            "Bahamas",
            "Barbados",
            "Belarus",
            "Belgium",
            "Belize",
            "Bolivia",
            "Bosnia and Herzegovina",
            "Brazil",
            "Bulgaria",
            "Cambodia",
            "Canada",
            "Cayman Islands",
            "Chile",
            "China",
            "Colombia",
            "Costa Rica",
            "Croatia",
            "Cuba",
            "Cyprus",
            "Czech Republic",
            "Denmark",
            "Dominica",
            "Dominican Republic",
            "Ecuador",
            "Egypt",
            "El Salvador",
            "Estonia",
            "Ethiopia",
            "Faroe Islands",
            "Fiji Islands",
            "Finland",
            "France",
            "French Polynesia",
            "Georgia",
            "Germany",
            "Ghana",
            "Greece",
            "Guatemala",
            "Guernsey",
            "Honduras",
            "Hong Kong",
            "Hungary",
            "Iceland",
            "India",
            "Indonesia",
            "Ireland",
            "Isle of Man",
            "Israel",
            "Italy",
            "Jamaica",
            "Japan",
            "Jersey",
            "Kenya",
            "Laos",
            "Latvia",
            "Lebanon",
            "Lithuania",
            "Luxembourg",
            "Macedonia",
            "Malaysia",
            "Malta",
            "Mexico",
            "Moldova",
            "Montenegro",
            "Morocco",
            "Myanmar",
            "Namibia",
            "Netherlands",
            "New Zealand",
            "Nigeria",
            "Norway",
            "Palestine",
            "Panama",
            "Peru",
            "Philippines",
            "Poland",
            "Portugal",
            "Puerto Rico",
            "Romania",
            "Russia",
            "Saint Lucia",
            "Serbia",
            "Singapore",
            "Slovak Republic",
            "Slovenia",
            "South Africa",
            "South Korea",
            "Spain",
            "Sri Lanka",
            "Sweden",
            "Switzerland",
            "Taiwan",
            "Tanzania",
            "Thailand",
            "Trinidad & Tobago",
            "Tunisia",
            "Turkey",
            "Uganda",
            "Ukraine",
            "United Kingdom",
            "Venezuela",
            "Vietnam",
            "Virgin Islands (U.S.)",
            "Zimbabwe"
           ],
           "name": "",
           "type": "choropleth",
           "z": [
            2.095049504950495,
            2.5536516853932585,
            2.2195402298850575,
            2.3850000000000002,
            3.227019068984857,
            3.0698312236286918,
            2.2133333333333334,
            2.5586466165413535,
            2.451528384279476,
            3.47865042426782,
            2.420689655172414,
            2.2153846153846155,
            2.314678899082569,
            2.9663603675589294,
            2.398387096774193,
            2.4157407407407407,
            3.355377402476299,
            2.5154929577464786,
            2.96875,
            2.3032535885167467,
            2.321078431372549,
            2.270899470899471,
            2.567478260869565,
            2.008843537414966,
            2.483098591549296,
            3.0275750875253364,
            3.2172504608901766,
            1.7923076923076924,
            2.029203539823009,
            2.99,
            1.925714285714286,
            2.0223684210526316,
            2.8655158407798536,
            2.2319148936170214,
            2.701764705882353,
            2.307894736842105,
            2.991561470911087,
            2.976688802381498,
            2.126530612244898,
            2.261290322580645,
            3.0690110826939474,
            2.17,
            2.7351413292589766,
            1.9121951219512194,
            2.862264150943396,
            1.984,
            2.6586776859504133,
            2.9561190738699006,
            3.2086692015209124,
            2.2475806451612903,
            2.100806451612903,
            3.2328918322295808,
            3.2164021164021164,
            3.058049678012879,
            3.338767438515749,
            2.491103202846975,
            3.1334144970968345,
            3.0620967741935483,
            2.2641509433962264,
            2.2133333333333334,
            2.7543722943722946,
            2.609375,
            2.5873148744365744,
            2.582222222222222,
            2.183333333333333,
            2.5012195121951217,
            2.3145077720207254,
            2.5108361454818144,
            2.3,
            2.3796460176991148,
            2.0095238095238095,
            1.963953488372093,
            2.390909090909091,
            3.255722213889306,
            3.458617511520737,
            2.8294117647058825,
            3.3107932182864066,
            2.5857142857142854,
            2.3673076923076923,
            2.691923076923077,
            2.0121693121693123,
            3.13944674215201,
            2.6245283018867926,
            2.514864864864865,
            2.174929577464789,
            2.620112517580872,
            2.005263157894737,
            2.56030303030303,
            2.5935656836461125,
            3.0043696634856856,
            2.559467040673212,
            2.8270310192023635,
            2.1366412213740458,
            3.1087055347198547,
            3.2259067357512956,
            3.195094108212652,
            3.300824873096447,
            2.3409638554216867,
            2.05609756097561,
            2.0751219512195123,
            2.28125,
            2.1045454545454545,
            2.3155875299760194,
            2.2725,
            2.4130434782608696,
            3.3033031816294076,
            1.9403508771929823,
            2.0330275229357797,
            2.9213114754098357,
            2.126086956521739
           ]
          },
          {
           "coloraxis": "coloraxis",
           "geo": "geo",
           "hovertemplate": "location=%{location}<br>count=%{z}<extra></extra>",
           "locationmode": "USA-states",
           "locations": [
            "AL",
            "AK",
            "AZ",
            "AR",
            "CA",
            "CO",
            "CT",
            "DE",
            "FL",
            "GA",
            "HI",
            "ID",
            "IL",
            "IN",
            "IA",
            "KS",
            "KY",
            "LA",
            "ME",
            "MD",
            "MA",
            "MI",
            "MN",
            "MO",
            "MT",
            "NE",
            "NV",
            "NH",
            "NJ",
            "NM",
            "NY",
            "NC",
            "OH",
            "OK",
            "OR",
            "PA",
            "RI",
            "SC",
            "SD",
            "TN",
            "TX",
            "UT",
            "VT",
            "VA",
            "WA",
            "DC",
            "WV",
            "WI",
            "WY"
           ],
           "name": "",
           "type": "choropleth",
           "z": [
            3.3389288569144684,
            3.6368805107935547,
            3.577418154761905,
            3.26411214953271,
            3.6273785812777692,
            3.396490045624222,
            3.47593984962406,
            3.265418118466899,
            3.4209401709401708,
            3.504338028169014,
            3.258656808379544,
            3.4101931330472106,
            3.592552874590408,
            3.435639660950128,
            3.5594519275429635,
            3.4811735941320294,
            3.3471579961464353,
            3.1946008041355545,
            3.5625675454396593,
            3.4483580637314524,
            3.5427796746334606,
            3.494804651551912,
            3.468510054844607,
            3.2283675143560298,
            3.364689655172414,
            3.3766365688487583,
            3.287047619047619,
            3.521501076591818,
            3.419149781485896,
            3.5309906858594413,
            3.512871169530446,
            3.4056876790830946,
            3.5819766081871345,
            3.725006270378731,
            3.571123837545316,
            3.3422849571952713,
            3.2672521957340024,
            3.6120844174616944,
            3.184090909090909,
            3.248221614227086,
            3.430090404766797,
            3.5231418918918918,
            3.661376785925139,
            3.383707273001054,
            3.37288961038961,
            3.5284529038555394,
            3.2751592356687897,
            3.118024634687476,
            3.3074257425742575
           ]
          }
         ],
         "name": "2014"
        },
        {
         "data": [
          {
           "coloraxis": "coloraxis",
           "geo": "geo",
           "hovertemplate": "location=%{location}<br>count=%{z}<extra></extra>",
           "locationmode": "country names",
           "locations": [
            "Albania",
            "Argentina",
            "Armenia",
            "Aruba",
            "Australia",
            "Austria",
            "Bahamas",
            "Barbados",
            "Belarus",
            "Belgium",
            "Belize",
            "Bolivia",
            "Bosnia and Herzegovina",
            "Brazil",
            "Bulgaria",
            "Cambodia",
            "Canada",
            "Cayman Islands",
            "Chile",
            "China",
            "Colombia",
            "Costa Rica",
            "Croatia",
            "Cuba",
            "Cyprus",
            "Czech Republic",
            "Denmark",
            "Dominica",
            "Dominican Republic",
            "Ecuador",
            "Egypt",
            "El Salvador",
            "Estonia",
            "Ethiopia",
            "Faroe Islands",
            "Fiji Islands",
            "Finland",
            "France",
            "French Polynesia",
            "Georgia",
            "Germany",
            "Ghana",
            "Greece",
            "Guatemala",
            "Guernsey",
            "Honduras",
            "Hong Kong",
            "Hungary",
            "Iceland",
            "India",
            "Indonesia",
            "Ireland",
            "Isle of Man",
            "Israel",
            "Italy",
            "Jamaica",
            "Japan",
            "Jersey",
            "Kenya",
            "Laos",
            "Latvia",
            "Lebanon",
            "Lithuania",
            "Luxembourg",
            "Macedonia",
            "Malaysia",
            "Malta",
            "Mexico",
            "Moldova",
            "Montenegro",
            "Morocco",
            "Myanmar",
            "Namibia",
            "Netherlands",
            "New Zealand",
            "Nigeria",
            "Norway",
            "Palestine",
            "Panama",
            "Peru",
            "Philippines",
            "Poland",
            "Portugal",
            "Puerto Rico",
            "Romania",
            "Russia",
            "Saint Lucia",
            "Serbia",
            "Singapore",
            "Slovak Republic",
            "Slovenia",
            "South Africa",
            "South Korea",
            "Spain",
            "Sri Lanka",
            "Sweden",
            "Switzerland",
            "Taiwan",
            "Tanzania",
            "Thailand",
            "Trinidad & Tobago",
            "Tunisia",
            "Turkey",
            "Uganda",
            "Ukraine",
            "United Kingdom",
            "Venezuela",
            "Vietnam",
            "Virgin Islands (U.S.)",
            "Zimbabwe"
           ],
           "name": "",
           "type": "choropleth",
           "z": [
            2.1478723404255318,
            2.68780487804878,
            2.1,
            1.94375,
            3.2597978970367336,
            3.198462783171521,
            2.3813953488372093,
            2.1282608695652177,
            2.656965944272446,
            3.4866542974789643,
            2.256666666666667,
            2.3593984962406016,
            2.3687782805429864,
            3.1592377260981914,
            2.623913043478261,
            2.573228346456693,
            3.3754735527748996,
            2.7413793103448274,
            2.9862275449101796,
            2.553653444676409,
            2.36027397260274,
            2.4861842105263157,
            2.9159491884262523,
            2.0365217391304347,
            2.7265151515151516,
            3.118306104901118,
            3.202303500384474,
            2.0058823529411764,
            2.147863247863248,
            2.519047619047619,
            1.9735849056603771,
            1.8376811594202898,
            3.1962531829756275,
            2.4414893617021276,
            2.6674556213017753,
            2.19375,
            3.03326325624854,
            3.001926523297491,
            2.246153846153846,
            2.2181818181818183,
            3.091915529010239,
            2.0176470588235293,
            2.7514513788098696,
            2.0056818181818183,
            2.79811320754717,
            2.0643835616438353,
            3.109266409266409,
            3.0299746835443035,
            3.2540863787375414,
            2.3615087040618956,
            2.0715517241379313,
            3.245574250182882,
            3.167832167832168,
            3.0067299396031064,
            3.3145707420083013,
            2.510869565217391,
            3.186566129311839,
            3.0541666666666667,
            2.263392857142857,
            2.3958762886597937,
            2.9281673541543904,
            2.5743055555555556,
            2.718929254302103,
            2.725233644859813,
            2.378125,
            2.4760563380281693,
            2.7344999999999997,
            2.550527648796961,
            2.4660869565217394,
            2.3317647058823527,
            2.110869565217391,
            2.029032258064516,
            2.389705882352941,
            3.300927671212625,
            3.463278092158448,
            2.662264150943396,
            3.3279365673387287,
            2.5183431952662723,
            2.336206896551724,
            2.703529411764706,
            2.2294117647058824,
            3.2906433482997897,
            2.8205882352941174,
            2.473846153846154,
            2.6090651558073654,
            2.9465390879478828,
            1.8714285714285714,
            2.9588904694167852,
            2.7626436781609196,
            3.1292898103220117,
            2.960736196319018,
            2.8505067567567566,
            2.553314121037464,
            3.20384962406015,
            3.201282051282051,
            3.2480242595624347,
            3.2766197959746344,
            2.3901408450704222,
            2.26875,
            2.109873417721519,
            2.2688888888888887,
            2.0594594594594597,
            2.40383631713555,
            1.9749999999999999,
            2.6135406218655968,
            3.320821277428257,
            1.913953488372093,
            2.2382775119617224,
            2.936842105263158,
            1.788888888888889
           ]
          },
          {
           "coloraxis": "coloraxis",
           "geo": "geo",
           "hovertemplate": "location=%{location}<br>count=%{z}<extra></extra>",
           "locationmode": "USA-states",
           "locations": [
            "AL",
            "AK",
            "AZ",
            "AR",
            "CA",
            "CO",
            "CT",
            "DE",
            "FL",
            "GA",
            "HI",
            "ID",
            "IL",
            "IN",
            "IA",
            "KS",
            "KY",
            "LA",
            "ME",
            "MD",
            "MA",
            "MI",
            "MN",
            "MO",
            "MT",
            "NE",
            "NV",
            "NH",
            "NJ",
            "NM",
            "NY",
            "NC",
            "OH",
            "OK",
            "OR",
            "PA",
            "RI",
            "SC",
            "SD",
            "TN",
            "TX",
            "UT",
            "VT",
            "VA",
            "WA",
            "DC",
            "WV",
            "WI",
            "WY"
           ],
           "name": "",
           "type": "choropleth",
           "z": [
            3.4035856573705177,
            3.6258767449778686,
            3.545211658570437,
            3.3650442477876106,
            3.6364372123265403,
            3.4579160015961694,
            3.4913043478260866,
            3.2960118168389956,
            3.4826584137641623,
            3.5131651556957033,
            3.297139303482587,
            3.452932018681889,
            3.5607976182233605,
            3.481094904337943,
            3.6074587706146928,
            3.5101147028154327,
            3.3336283185840707,
            3.317525773195876,
            3.597473884140551,
            3.441809511534992,
            3.6191961414790996,
            3.511387585229788,
            3.4681247354310707,
            3.3349427246047525,
            3.43494623655914,
            3.211799217731421,
            3.4147435897435896,
            3.5263421976919216,
            3.447333084669899,
            3.5525882352941176,
            3.5317518587360595,
            3.422176731490959,
            3.543311688311688,
            3.7551368421052636,
            3.561513859275053,
            3.365046065046065,
            3.3435381355932203,
            3.5604191858121723,
            3.217171717171717,
            3.364073226544622,
            3.451861432909684,
            3.475796781319028,
            3.682480104525478,
            3.434451544195953,
            3.3949139102854553,
            3.560909583107742,
            3.25625,
            3.1994361620795106,
            3.3874425727411945
           ]
          }
         ],
         "name": "2015"
        },
        {
         "data": [
          {
           "coloraxis": "coloraxis",
           "geo": "geo",
           "hovertemplate": "location=%{location}<br>count=%{z}<extra></extra>",
           "locationmode": "country names",
           "locations": [
            "Albania",
            "Argentina",
            "Armenia",
            "Aruba",
            "Australia",
            "Austria",
            "Bahamas",
            "Barbados",
            "Belarus",
            "Belgium",
            "Belize",
            "Bolivia",
            "Bosnia and Herzegovina",
            "Brazil",
            "Bulgaria",
            "Cambodia",
            "Canada",
            "Cayman Islands",
            "Chile",
            "China",
            "Colombia",
            "Costa Rica",
            "Croatia",
            "Cuba",
            "Cyprus",
            "Czech Republic",
            "Denmark",
            "Dominica",
            "Dominican Republic",
            "Ecuador",
            "Egypt",
            "El Salvador",
            "Estonia",
            "Ethiopia",
            "Faroe Islands",
            "Fiji Islands",
            "Finland",
            "France",
            "French Polynesia",
            "Georgia",
            "Germany",
            "Ghana",
            "Greece",
            "Guatemala",
            "Guernsey",
            "Honduras",
            "Hong Kong",
            "Hungary",
            "Iceland",
            "India",
            "Indonesia",
            "Ireland",
            "Isle of Man",
            "Israel",
            "Italy",
            "Jamaica",
            "Japan",
            "Jersey",
            "Kenya",
            "Laos",
            "Latvia",
            "Lebanon",
            "Lithuania",
            "Luxembourg",
            "Macedonia",
            "Malaysia",
            "Malta",
            "Mexico",
            "Moldova",
            "Montenegro",
            "Morocco",
            "Myanmar",
            "Namibia",
            "Netherlands",
            "New Zealand",
            "Nigeria",
            "Norway",
            "Palestine",
            "Panama",
            "Peru",
            "Philippines",
            "Poland",
            "Portugal",
            "Puerto Rico",
            "Romania",
            "Russia",
            "Saint Lucia",
            "Serbia",
            "Singapore",
            "Slovak Republic",
            "Slovenia",
            "South Africa",
            "South Korea",
            "Spain",
            "Sri Lanka",
            "Sweden",
            "Switzerland",
            "Taiwan",
            "Tanzania",
            "Thailand",
            "Trinidad & Tobago",
            "Tunisia",
            "Turkey",
            "Uganda",
            "Ukraine",
            "United Kingdom",
            "Venezuela",
            "Vietnam",
            "Virgin Islands (U.S.)",
            "Zimbabwe"
           ],
           "name": "",
           "type": "choropleth",
           "z": [
            2.355952380952381,
            2.6751381215469614,
            2.2287500000000002,
            2.0055555555555555,
            3.2867653103164813,
            3.2194345661450923,
            2.47536231884058,
            2.185714285714286,
            2.718860759493671,
            3.5259536822095083,
            2.229032258064516,
            2.1473684210526316,
            2.754356846473029,
            3.2643343051506317,
            2.724038461538462,
            2.539080459770115,
            3.400057433950957,
            2.5528301886792457,
            3.1528089887640447,
            2.6140000000000003,
            2.3684210526315788,
            2.857522123893805,
            3.032776066871975,
            2.1104166666666666,
            2.6873684210526316,
            3.1229126041482003,
            3.2862277672570643,
            2.0555555555555554,
            1.9233333333333333,
            2.791111111111111,
            1.9944444444444445,
            2.468571428571429,
            3.3373340769659787,
            2.4264367816091954,
            2.8064102564102567,
            2.3084745762711862,
            3.092530354541039,
            3.080571491615181,
            2.3137254901960786,
            2.1734939759036145,
            3.1137624137350612,
            2.13,
            3.088451612903226,
            1.9967213114754099,
            2.672727272727273,
            2.1641025641025644,
            3.2395555555555555,
            2.980697384806974,
            3.3218050065876152,
            2.271469740634006,
            2.007619047619048,
            3.297193248625071,
            3.2419354838709675,
            2.935653235653236,
            3.3178196721311477,
            2.5805970149253734,
            3.2440707053372235,
            2.853333333333333,
            2.2512820512820513,
            2.3346938775510204,
            2.9157629960872,
            2.342156862745098,
            2.811397627643115,
            2.804643962848297,
            2.28109756097561,
            2.272,
            2.790506329113924,
            2.793881363848669,
            2.7767932489451477,
            2.5032967032967033,
            2.1646153846153844,
            2.2567567567567566,
            2.461818181818182,
            3.3496986321146283,
            3.4638126009693058,
            2.6799999999999997,
            3.3073388100572565,
            2.739622641509434,
            2.876470588235294,
            2.8609826589595375,
            2.369281045751634,
            3.3234905816064315,
            3.081351689612015,
            2.2,
            2.8045566502463055,
            3.085937882122768,
            2.309090909090909,
            3.1301293900184843,
            2.7750943396226413,
            3.1900528750826176,
            3.1212849162011174,
            2.9539112050739957,
            2.7788863109048725,
            3.2559746696035243,
            2.812727272727273,
            3.386435709997528,
            3.3155891238670696,
            2.5708609271523177,
            2.1219512195121952,
            2.6297047970479706,
            2.148,
            2.2600000000000002,
            2.5311526479750777,
            1.8125,
            2.79988419224088,
            3.3541253396363957,
            2.1125,
            2.374137931034483,
            2.984375,
            1.675
           ]
          },
          {
           "coloraxis": "coloraxis",
           "geo": "geo",
           "hovertemplate": "location=%{location}<br>count=%{z}<extra></extra>",
           "locationmode": "USA-states",
           "locations": [
            "AL",
            "AK",
            "AZ",
            "AR",
            "CA",
            "CO",
            "CT",
            "DE",
            "FL",
            "GA",
            "HI",
            "ID",
            "IL",
            "IN",
            "IA",
            "KS",
            "KY",
            "LA",
            "ME",
            "MD",
            "MA",
            "MI",
            "MN",
            "MO",
            "MT",
            "NE",
            "NV",
            "NH",
            "NJ",
            "NM",
            "NY",
            "NC",
            "OH",
            "OK",
            "OR",
            "PA",
            "RI",
            "SC",
            "SD",
            "TN",
            "TX",
            "UT",
            "VT",
            "VA",
            "WA",
            "DC",
            "WV",
            "WI",
            "WY"
           ],
           "name": "",
           "type": "choropleth",
           "z": [
            3.451645064805583,
            3.5915458937198066,
            3.5248026589115082,
            3.476328502415459,
            3.632734054589167,
            3.5441992624387884,
            3.520687936191426,
            3.2919587628865976,
            3.537930617671945,
            3.557303370786517,
            3.289177168272795,
            3.418266735858848,
            3.560811164413432,
            3.466964884813241,
            3.629936305732484,
            3.4406417112299463,
            3.3989827060020343,
            3.3332243296272073,
            3.6234772727272726,
            3.4982573918011712,
            3.6906880645781284,
            3.5352842435094,
            3.457524152611757,
            3.427807421780257,
            3.424896836313618,
            3.316952209197475,
            3.407513416815742,
            3.546290076335878,
            3.4736406995230524,
            3.5409921671018276,
            3.574074074074074,
            3.472575837278625,
            3.5554552215021777,
            3.800233713117149,
            3.588021824641543,
            3.402143328204001,
            3.3848249027237354,
            3.660493311036789,
            3.265217391304348,
            3.4937142857142858,
            3.4542796977579586,
            3.4495208761122518,
            3.753798185941043,
            3.5329060913705583,
            3.468255116807939,
            3.552045944005743,
            3.3406542056074766,
            3.230055658627087,
            3.6475357710651832
           ]
          }
         ],
         "name": "2016"
        },
        {
         "data": [
          {
           "coloraxis": "coloraxis",
           "geo": "geo",
           "hovertemplate": "location=%{location}<br>count=%{z}<extra></extra>",
           "locationmode": "country names",
           "locations": [
            "Albania",
            "Argentina",
            "Armenia",
            "Aruba",
            "Australia",
            "Austria",
            "Bahamas",
            "Barbados",
            "Belarus",
            "Belgium",
            "Belize",
            "Bolivia",
            "Bosnia and Herzegovina",
            "Brazil",
            "Bulgaria",
            "Cambodia",
            "Canada",
            "Cayman Islands",
            "Chile",
            "China",
            "Colombia",
            "Costa Rica",
            "Croatia",
            "Cuba",
            "Cyprus",
            "Czech Republic",
            "Denmark",
            "Dominica",
            "Dominican Republic",
            "Ecuador",
            "Egypt",
            "El Salvador",
            "Estonia",
            "Ethiopia",
            "Faroe Islands",
            "Fiji Islands",
            "Finland",
            "France",
            "French Polynesia",
            "Georgia",
            "Germany",
            "Ghana",
            "Greece",
            "Guatemala",
            "Guernsey",
            "Honduras",
            "Hong Kong",
            "Hungary",
            "Iceland",
            "India",
            "Indonesia",
            "Ireland",
            "Isle of Man",
            "Israel",
            "Italy",
            "Jamaica",
            "Japan",
            "Jersey",
            "Kenya",
            "Laos",
            "Latvia",
            "Lebanon",
            "Lithuania",
            "Luxembourg",
            "Macedonia",
            "Malaysia",
            "Malta",
            "Mexico",
            "Moldova",
            "Montenegro",
            "Morocco",
            "Myanmar",
            "Namibia",
            "Netherlands",
            "New Zealand",
            "Nigeria",
            "Norway",
            "Palestine",
            "Panama",
            "Peru",
            "Philippines",
            "Poland",
            "Portugal",
            "Puerto Rico",
            "Romania",
            "Russia",
            "Saint Lucia",
            "Serbia",
            "Singapore",
            "Slovak Republic",
            "Slovenia",
            "South Africa",
            "South Korea",
            "Spain",
            "Sri Lanka",
            "Sweden",
            "Switzerland",
            "Taiwan",
            "Tanzania",
            "Thailand",
            "Trinidad & Tobago",
            "Tunisia",
            "Turkey",
            "Uganda",
            "Ukraine",
            "United Kingdom",
            "Venezuela",
            "Vietnam",
            "Virgin Islands (U.S.)",
            "Zimbabwe"
           ],
           "name": "",
           "type": "choropleth",
           "z": [
            2.246,
            2.856291390728477,
            2.2789473684210524,
            1.9000000000000001,
            3.3579783982066433,
            3.25727969348659,
            2.7301886792452827,
            2.575,
            2.818834951456311,
            3.5461602810774635,
            2.6888888888888887,
            2.27,
            2.9066666666666667,
            3.301137538779731,
            3.013483146067416,
            2.810691823899371,
            3.432658507407748,
            3.0611111111111113,
            3.0426086956521736,
            2.6982698961937714,
            2.676428571428571,
            2.730769230769231,
            3.103968731208659,
            2.2403846153846154,
            2.4857142857142858,
            3.169256434699714,
            3.35390023879013,
            2.7,
            2.097297297297297,
            2.6199999999999997,
            2.15,
            2.396666666666667,
            3.372045870034901,
            2.5285714285714285,
            2.7894117647058825,
            2.2214285714285715,
            3.0953006219765027,
            3.116788321167883,
            2.1470588235294117,
            2.319858156028369,
            3.1461720867208673,
            2.5875,
            3.0901147396293025,
            2.4972972972972975,
            2.9157894736842103,
            2.1416666666666666,
            3.267536231884058,
            3.204367968232958,
            3.3393133997785163,
            2.433628318584071,
            2.076923076923077,
            3.3177944862155386,
            3.15,
            3.147692307692308,
            3.3576601671309194,
            2.5339285714285715,
            3.260360054347826,
            2.7357142857142853,
            2.269230769230769,
            2.380434782608696,
            2.9981875492513788,
            2.359259259259259,
            2.8153660498793243,
            2.7713675213675213,
            2.576363636363636,
            2.35625,
            2.6635135135135135,
            2.855909090909091,
            3.044642857142857,
            2.414754098360656,
            2.4145833333333333,
            2.1918367346938776,
            2.411627906976744,
            3.400755682494347,
            3.4914400494437574,
            2.5794117647058825,
            3.3660448414783675,
            2.7482758620689656,
            2.9194805194805196,
            2.985294117647059,
            2.5968627450980395,
            3.319598600447079,
            3.197826086956522,
            2.225,
            3.243599033816425,
            3.2167381974248928,
            2.6666666666666665,
            3.181888544891641,
            3.021034482758621,
            3.199274486094317,
            3.1488456865127583,
            3.0109439124487003,
            2.7837209302325583,
            3.2751113525258013,
            3.1456140350877195,
            3.482931786931309,
            3.351151580074987,
            3.0823008849557523,
            2.2222222222222223,
            2.9492436974789915,
            2.503125,
            1.8800000000000001,
            2.4643564356435643,
            1.8,
            2.8453125,
            3.375284273037082,
            2.029166666666667,
            3.044243792325056,
            3.0846153846153848,
            2.3666666666666667
           ]
          },
          {
           "coloraxis": "coloraxis",
           "geo": "geo",
           "hovertemplate": "location=%{location}<br>count=%{z}<extra></extra>",
           "locationmode": "USA-states",
           "locations": [
            "AL",
            "AK",
            "AZ",
            "AR",
            "CA",
            "CO",
            "CT",
            "DE",
            "FL",
            "GA",
            "HI",
            "ID",
            "IL",
            "IN",
            "IA",
            "KS",
            "KY",
            "LA",
            "ME",
            "MD",
            "MA",
            "MI",
            "MN",
            "MO",
            "MT",
            "NE",
            "NV",
            "NH",
            "NJ",
            "NM",
            "NY",
            "NC",
            "OH",
            "OK",
            "OR",
            "PA",
            "RI",
            "SC",
            "SD",
            "TN",
            "TX",
            "UT",
            "VT",
            "VA",
            "WA",
            "DC",
            "WV",
            "WI",
            "WY"
           ],
           "name": "",
           "type": "choropleth",
           "z": [
            3.4164772727272723,
            3.6389078498293514,
            3.5193370165745854,
            3.381818181818182,
            3.6630826854678795,
            3.560786816757572,
            3.4760835913312698,
            3.3108597285067876,
            3.6500731758310683,
            3.5429726607624183,
            3.321076746849943,
            3.434472727272727,
            3.5609699385484137,
            3.4469964664310955,
            3.7117222723174033,
            3.490023752969121,
            3.4365145228215765,
            3.3280669144981414,
            3.6178541136556404,
            3.5082702020202023,
            3.680606882522462,
            3.57580413849621,
            3.4611923187159648,
            3.438298872180451,
            3.4342105263157894,
            3.3827586206896556,
            3.42972972972973,
            3.5610021786492374,
            3.479310344827586,
            3.5199152542372882,
            3.6040781853281856,
            3.4804562946673996,
            3.6112323612417687,
            3.82828535669587,
            3.5909673444239063,
            3.481914658412558,
            3.4695156695156695,
            3.6207317073170735,
            3.153,
            3.5543521266073195,
            3.454748037477842,
            3.5283845650752124,
            3.7744700045106,
            3.563096695226438,
            3.498097030531159,
            3.5351548269581055,
            3.3326460481099653,
            3.247106031128405,
            3.685258964143426
           ]
          }
         ],
         "name": "2017"
        }
       ],
       "layout": {
        "coloraxis": {
         "cmax": 4,
         "cmin": 1,
         "colorbar": {
          "title": {
           "text": "count"
          }
         },
         "colorscale": [
          [
           0,
           "#440154"
          ],
          [
           0.1111111111111111,
           "#482878"
          ],
          [
           0.2222222222222222,
           "#3e4989"
          ],
          [
           0.3333333333333333,
           "#31688e"
          ],
          [
           0.4444444444444444,
           "#26828e"
          ],
          [
           0.5555555555555556,
           "#1f9e89"
          ],
          [
           0.6666666666666666,
           "#35b779"
          ],
          [
           0.7777777777777778,
           "#6ece58"
          ],
          [
           0.8888888888888888,
           "#b5de2b"
          ],
          [
           1,
           "#fde725"
          ]
         ]
        },
        "geo": {
         "center": {},
         "domain": {
          "x": [
           0,
           1
          ],
          "y": [
           0,
           1
          ]
         },
         "scope": "world",
         "showcoastlines": true,
         "showframe": false
        },
        "height": 600,
        "legend": {
         "tracegroupgap": 0
        },
        "margin": {
         "t": 60
        },
        "sliders": [
         {
          "steps": [
           {
            "args": [
             [
              "2002"
             ],
             {
              "frame": {
               "duration": 300,
               "redraw": true
              },
              "mode": "immediate"
             }
            ],
            "label": "2002",
            "method": "animate"
           },
           {
            "args": [
             [
              "2003"
             ],
             {
              "frame": {
               "duration": 300,
               "redraw": true
              },
              "mode": "immediate"
             }
            ],
            "label": "2003",
            "method": "animate"
           },
           {
            "args": [
             [
              "2004"
             ],
             {
              "frame": {
               "duration": 300,
               "redraw": true
              },
              "mode": "immediate"
             }
            ],
            "label": "2004",
            "method": "animate"
           },
           {
            "args": [
             [
              "2005"
             ],
             {
              "frame": {
               "duration": 300,
               "redraw": true
              },
              "mode": "immediate"
             }
            ],
            "label": "2005",
            "method": "animate"
           },
           {
            "args": [
             [
              "2006"
             ],
             {
              "frame": {
               "duration": 300,
               "redraw": true
              },
              "mode": "immediate"
             }
            ],
            "label": "2006",
            "method": "animate"
           },
           {
            "args": [
             [
              "2007"
             ],
             {
              "frame": {
               "duration": 300,
               "redraw": true
              },
              "mode": "immediate"
             }
            ],
            "label": "2007",
            "method": "animate"
           },
           {
            "args": [
             [
              "2008"
             ],
             {
              "frame": {
               "duration": 300,
               "redraw": true
              },
              "mode": "immediate"
             }
            ],
            "label": "2008",
            "method": "animate"
           },
           {
            "args": [
             [
              "2009"
             ],
             {
              "frame": {
               "duration": 300,
               "redraw": true
              },
              "mode": "immediate"
             }
            ],
            "label": "2009",
            "method": "animate"
           },
           {
            "args": [
             [
              "2010"
             ],
             {
              "frame": {
               "duration": 300,
               "redraw": true
              },
              "mode": "immediate"
             }
            ],
            "label": "2010",
            "method": "animate"
           },
           {
            "args": [
             [
              "2011"
             ],
             {
              "frame": {
               "duration": 300,
               "redraw": true
              },
              "mode": "immediate"
             }
            ],
            "label": "2011",
            "method": "animate"
           },
           {
            "args": [
             [
              "2012"
             ],
             {
              "frame": {
               "duration": 300,
               "redraw": true
              },
              "mode": "immediate"
             }
            ],
            "label": "2012",
            "method": "animate"
           },
           {
            "args": [
             [
              "2013"
             ],
             {
              "frame": {
               "duration": 300,
               "redraw": true
              },
              "mode": "immediate"
             }
            ],
            "label": "2013",
            "method": "animate"
           },
           {
            "args": [
             [
              "2014"
             ],
             {
              "frame": {
               "duration": 300,
               "redraw": true
              },
              "mode": "immediate"
             }
            ],
            "label": "2014",
            "method": "animate"
           },
           {
            "args": [
             [
              "2015"
             ],
             {
              "frame": {
               "duration": 300,
               "redraw": true
              },
              "mode": "immediate"
             }
            ],
            "label": "2015",
            "method": "animate"
           },
           {
            "args": [
             [
              "2016"
             ],
             {
              "frame": {
               "duration": 300,
               "redraw": true
              },
              "mode": "immediate"
             }
            ],
            "label": "2016",
            "method": "animate"
           },
           {
            "args": [
             [
              "2017"
             ],
             {
              "frame": {
               "duration": 300,
               "redraw": true
              },
              "mode": "immediate"
             }
            ],
            "label": "2017",
            "method": "animate"
           }
          ],
          "transition": {
           "duration": 300
          },
          "x": 0.1,
          "xanchor": "left",
          "y": 0,
          "yanchor": "top"
         }
        ],
        "template": {
         "data": {
          "bar": [
           {
            "error_x": {
             "color": "#2a3f5f"
            },
            "error_y": {
             "color": "#2a3f5f"
            },
            "marker": {
             "line": {
              "color": "white",
              "width": 0.5
             },
             "pattern": {
              "fillmode": "overlay",
              "size": 10,
              "solidity": 0.2
             }
            },
            "type": "bar"
           }
          ],
          "barpolar": [
           {
            "marker": {
             "line": {
              "color": "white",
              "width": 0.5
             },
             "pattern": {
              "fillmode": "overlay",
              "size": 10,
              "solidity": 0.2
             }
            },
            "type": "barpolar"
           }
          ],
          "carpet": [
           {
            "aaxis": {
             "endlinecolor": "#2a3f5f",
             "gridcolor": "#C8D4E3",
             "linecolor": "#C8D4E3",
             "minorgridcolor": "#C8D4E3",
             "startlinecolor": "#2a3f5f"
            },
            "baxis": {
             "endlinecolor": "#2a3f5f",
             "gridcolor": "#C8D4E3",
             "linecolor": "#C8D4E3",
             "minorgridcolor": "#C8D4E3",
             "startlinecolor": "#2a3f5f"
            },
            "type": "carpet"
           }
          ],
          "choropleth": [
           {
            "colorbar": {
             "outlinewidth": 0,
             "ticks": ""
            },
            "type": "choropleth"
           }
          ],
          "contour": [
           {
            "colorbar": {
             "outlinewidth": 0,
             "ticks": ""
            },
            "colorscale": [
             [
              0,
              "#0d0887"
             ],
             [
              0.1111111111111111,
              "#46039f"
             ],
             [
              0.2222222222222222,
              "#7201a8"
             ],
             [
              0.3333333333333333,
              "#9c179e"
             ],
             [
              0.4444444444444444,
              "#bd3786"
             ],
             [
              0.5555555555555556,
              "#d8576b"
             ],
             [
              0.6666666666666666,
              "#ed7953"
             ],
             [
              0.7777777777777778,
              "#fb9f3a"
             ],
             [
              0.8888888888888888,
              "#fdca26"
             ],
             [
              1,
              "#f0f921"
             ]
            ],
            "type": "contour"
           }
          ],
          "contourcarpet": [
           {
            "colorbar": {
             "outlinewidth": 0,
             "ticks": ""
            },
            "type": "contourcarpet"
           }
          ],
          "heatmap": [
           {
            "colorbar": {
             "outlinewidth": 0,
             "ticks": ""
            },
            "colorscale": [
             [
              0,
              "#0d0887"
             ],
             [
              0.1111111111111111,
              "#46039f"
             ],
             [
              0.2222222222222222,
              "#7201a8"
             ],
             [
              0.3333333333333333,
              "#9c179e"
             ],
             [
              0.4444444444444444,
              "#bd3786"
             ],
             [
              0.5555555555555556,
              "#d8576b"
             ],
             [
              0.6666666666666666,
              "#ed7953"
             ],
             [
              0.7777777777777778,
              "#fb9f3a"
             ],
             [
              0.8888888888888888,
              "#fdca26"
             ],
             [
              1,
              "#f0f921"
             ]
            ],
            "type": "heatmap"
           }
          ],
          "heatmapgl": [
           {
            "colorbar": {
             "outlinewidth": 0,
             "ticks": ""
            },
            "colorscale": [
             [
              0,
              "#0d0887"
             ],
             [
              0.1111111111111111,
              "#46039f"
             ],
             [
              0.2222222222222222,
              "#7201a8"
             ],
             [
              0.3333333333333333,
              "#9c179e"
             ],
             [
              0.4444444444444444,
              "#bd3786"
             ],
             [
              0.5555555555555556,
              "#d8576b"
             ],
             [
              0.6666666666666666,
              "#ed7953"
             ],
             [
              0.7777777777777778,
              "#fb9f3a"
             ],
             [
              0.8888888888888888,
              "#fdca26"
             ],
             [
              1,
              "#f0f921"
             ]
            ],
            "type": "heatmapgl"
           }
          ],
          "histogram": [
           {
            "marker": {
             "pattern": {
              "fillmode": "overlay",
              "size": 10,
              "solidity": 0.2
             }
            },
            "type": "histogram"
           }
          ],
          "histogram2d": [
           {
            "colorbar": {
             "outlinewidth": 0,
             "ticks": ""
            },
            "colorscale": [
             [
              0,
              "#0d0887"
             ],
             [
              0.1111111111111111,
              "#46039f"
             ],
             [
              0.2222222222222222,
              "#7201a8"
             ],
             [
              0.3333333333333333,
              "#9c179e"
             ],
             [
              0.4444444444444444,
              "#bd3786"
             ],
             [
              0.5555555555555556,
              "#d8576b"
             ],
             [
              0.6666666666666666,
              "#ed7953"
             ],
             [
              0.7777777777777778,
              "#fb9f3a"
             ],
             [
              0.8888888888888888,
              "#fdca26"
             ],
             [
              1,
              "#f0f921"
             ]
            ],
            "type": "histogram2d"
           }
          ],
          "histogram2dcontour": [
           {
            "colorbar": {
             "outlinewidth": 0,
             "ticks": ""
            },
            "colorscale": [
             [
              0,
              "#0d0887"
             ],
             [
              0.1111111111111111,
              "#46039f"
             ],
             [
              0.2222222222222222,
              "#7201a8"
             ],
             [
              0.3333333333333333,
              "#9c179e"
             ],
             [
              0.4444444444444444,
              "#bd3786"
             ],
             [
              0.5555555555555556,
              "#d8576b"
             ],
             [
              0.6666666666666666,
              "#ed7953"
             ],
             [
              0.7777777777777778,
              "#fb9f3a"
             ],
             [
              0.8888888888888888,
              "#fdca26"
             ],
             [
              1,
              "#f0f921"
             ]
            ],
            "type": "histogram2dcontour"
           }
          ],
          "mesh3d": [
           {
            "colorbar": {
             "outlinewidth": 0,
             "ticks": ""
            },
            "type": "mesh3d"
           }
          ],
          "parcoords": [
           {
            "line": {
             "colorbar": {
              "outlinewidth": 0,
              "ticks": ""
             }
            },
            "type": "parcoords"
           }
          ],
          "pie": [
           {
            "automargin": true,
            "type": "pie"
           }
          ],
          "scatter": [
           {
            "fillpattern": {
             "fillmode": "overlay",
             "size": 10,
             "solidity": 0.2
            },
            "type": "scatter"
           }
          ],
          "scatter3d": [
           {
            "line": {
             "colorbar": {
              "outlinewidth": 0,
              "ticks": ""
             }
            },
            "marker": {
             "colorbar": {
              "outlinewidth": 0,
              "ticks": ""
             }
            },
            "type": "scatter3d"
           }
          ],
          "scattercarpet": [
           {
            "marker": {
             "colorbar": {
              "outlinewidth": 0,
              "ticks": ""
             }
            },
            "type": "scattercarpet"
           }
          ],
          "scattergeo": [
           {
            "marker": {
             "colorbar": {
              "outlinewidth": 0,
              "ticks": ""
             }
            },
            "type": "scattergeo"
           }
          ],
          "scattergl": [
           {
            "marker": {
             "colorbar": {
              "outlinewidth": 0,
              "ticks": ""
             }
            },
            "type": "scattergl"
           }
          ],
          "scattermapbox": [
           {
            "marker": {
             "colorbar": {
              "outlinewidth": 0,
              "ticks": ""
             }
            },
            "type": "scattermapbox"
           }
          ],
          "scatterpolar": [
           {
            "marker": {
             "colorbar": {
              "outlinewidth": 0,
              "ticks": ""
             }
            },
            "type": "scatterpolar"
           }
          ],
          "scatterpolargl": [
           {
            "marker": {
             "colorbar": {
              "outlinewidth": 0,
              "ticks": ""
             }
            },
            "type": "scatterpolargl"
           }
          ],
          "scatterternary": [
           {
            "marker": {
             "colorbar": {
              "outlinewidth": 0,
              "ticks": ""
             }
            },
            "type": "scatterternary"
           }
          ],
          "surface": [
           {
            "colorbar": {
             "outlinewidth": 0,
             "ticks": ""
            },
            "colorscale": [
             [
              0,
              "#0d0887"
             ],
             [
              0.1111111111111111,
              "#46039f"
             ],
             [
              0.2222222222222222,
              "#7201a8"
             ],
             [
              0.3333333333333333,
              "#9c179e"
             ],
             [
              0.4444444444444444,
              "#bd3786"
             ],
             [
              0.5555555555555556,
              "#d8576b"
             ],
             [
              0.6666666666666666,
              "#ed7953"
             ],
             [
              0.7777777777777778,
              "#fb9f3a"
             ],
             [
              0.8888888888888888,
              "#fdca26"
             ],
             [
              1,
              "#f0f921"
             ]
            ],
            "type": "surface"
           }
          ],
          "table": [
           {
            "cells": {
             "fill": {
              "color": "#EBF0F8"
             },
             "line": {
              "color": "white"
             }
            },
            "header": {
             "fill": {
              "color": "#C8D4E3"
             },
             "line": {
              "color": "white"
             }
            },
            "type": "table"
           }
          ]
         },
         "layout": {
          "annotationdefaults": {
           "arrowcolor": "#2a3f5f",
           "arrowhead": 0,
           "arrowwidth": 1
          },
          "autotypenumbers": "strict",
          "coloraxis": {
           "colorbar": {
            "outlinewidth": 0,
            "ticks": ""
           }
          },
          "colorscale": {
           "diverging": [
            [
             0,
             "#8e0152"
            ],
            [
             0.1,
             "#c51b7d"
            ],
            [
             0.2,
             "#de77ae"
            ],
            [
             0.3,
             "#f1b6da"
            ],
            [
             0.4,
             "#fde0ef"
            ],
            [
             0.5,
             "#f7f7f7"
            ],
            [
             0.6,
             "#e6f5d0"
            ],
            [
             0.7,
             "#b8e186"
            ],
            [
             0.8,
             "#7fbc41"
            ],
            [
             0.9,
             "#4d9221"
            ],
            [
             1,
             "#276419"
            ]
           ],
           "sequential": [
            [
             0,
             "#0d0887"
            ],
            [
             0.1111111111111111,
             "#46039f"
            ],
            [
             0.2222222222222222,
             "#7201a8"
            ],
            [
             0.3333333333333333,
             "#9c179e"
            ],
            [
             0.4444444444444444,
             "#bd3786"
            ],
            [
             0.5555555555555556,
             "#d8576b"
            ],
            [
             0.6666666666666666,
             "#ed7953"
            ],
            [
             0.7777777777777778,
             "#fb9f3a"
            ],
            [
             0.8888888888888888,
             "#fdca26"
            ],
            [
             1,
             "#f0f921"
            ]
           ],
           "sequentialminus": [
            [
             0,
             "#0d0887"
            ],
            [
             0.1111111111111111,
             "#46039f"
            ],
            [
             0.2222222222222222,
             "#7201a8"
            ],
            [
             0.3333333333333333,
             "#9c179e"
            ],
            [
             0.4444444444444444,
             "#bd3786"
            ],
            [
             0.5555555555555556,
             "#d8576b"
            ],
            [
             0.6666666666666666,
             "#ed7953"
            ],
            [
             0.7777777777777778,
             "#fb9f3a"
            ],
            [
             0.8888888888888888,
             "#fdca26"
            ],
            [
             1,
             "#f0f921"
            ]
           ]
          },
          "colorway": [
           "#636efa",
           "#EF553B",
           "#00cc96",
           "#ab63fa",
           "#FFA15A",
           "#19d3f3",
           "#FF6692",
           "#B6E880",
           "#FF97FF",
           "#FECB52"
          ],
          "font": {
           "color": "#2a3f5f"
          },
          "geo": {
           "bgcolor": "white",
           "lakecolor": "white",
           "landcolor": "white",
           "showlakes": true,
           "showland": true,
           "subunitcolor": "#C8D4E3"
          },
          "hoverlabel": {
           "align": "left"
          },
          "hovermode": "closest",
          "mapbox": {
           "style": "light"
          },
          "paper_bgcolor": "white",
          "plot_bgcolor": "white",
          "polar": {
           "angularaxis": {
            "gridcolor": "#EBF0F8",
            "linecolor": "#EBF0F8",
            "ticks": ""
           },
           "bgcolor": "white",
           "radialaxis": {
            "gridcolor": "#EBF0F8",
            "linecolor": "#EBF0F8",
            "ticks": ""
           }
          },
          "scene": {
           "xaxis": {
            "backgroundcolor": "white",
            "gridcolor": "#DFE8F3",
            "gridwidth": 2,
            "linecolor": "#EBF0F8",
            "showbackground": true,
            "ticks": "",
            "zerolinecolor": "#EBF0F8"
           },
           "yaxis": {
            "backgroundcolor": "white",
            "gridcolor": "#DFE8F3",
            "gridwidth": 2,
            "linecolor": "#EBF0F8",
            "showbackground": true,
            "ticks": "",
            "zerolinecolor": "#EBF0F8"
           },
           "zaxis": {
            "backgroundcolor": "white",
            "gridcolor": "#DFE8F3",
            "gridwidth": 2,
            "linecolor": "#EBF0F8",
            "showbackground": true,
            "ticks": "",
            "zerolinecolor": "#EBF0F8"
           }
          },
          "shapedefaults": {
           "line": {
            "color": "#2a3f5f"
           }
          },
          "ternary": {
           "aaxis": {
            "gridcolor": "#DFE8F3",
            "linecolor": "#A2B1C6",
            "ticks": ""
           },
           "baxis": {
            "gridcolor": "#DFE8F3",
            "linecolor": "#A2B1C6",
            "ticks": ""
           },
           "bgcolor": "white",
           "caxis": {
            "gridcolor": "#DFE8F3",
            "linecolor": "#A2B1C6",
            "ticks": ""
           }
          },
          "title": {
           "x": 0.05
          },
          "xaxis": {
           "automargin": true,
           "gridcolor": "#EBF0F8",
           "linecolor": "#EBF0F8",
           "ticks": "",
           "title": {
            "standoff": 15
           },
           "zerolinecolor": "#EBF0F8",
           "zerolinewidth": 2
          },
          "yaxis": {
           "automargin": true,
           "gridcolor": "#EBF0F8",
           "linecolor": "#EBF0F8",
           "ticks": "",
           "title": {
            "standoff": 15
           },
           "zerolinecolor": "#EBF0F8",
           "zerolinewidth": 2
          }
         }
        },
        "title": {
         "text": ""
        },
        "updatemenus": [
         {
          "buttons": [
           {
            "args": [
             null,
             {
              "frame": {
               "duration": 300,
               "redraw": true
              },
              "fromcurrent": true
             }
            ],
            "label": "Play",
            "method": "animate"
           },
           {
            "args": [
             [
              null
             ],
             {
              "frame": {
               "duration": 0,
               "redraw": true
              },
              "mode": "immediate"
             }
            ],
            "label": "Pause",
            "method": "animate"
           }
          ],
          "direction": "left",
          "pad": {
           "r": 10,
           "t": 87
          },
          "showactive": false,
          "type": "buttons",
          "x": 0.1,
          "xanchor": "right",
          "y": 0,
          "yanchor": "top"
         }
        ],
        "width": 800
       }
      }
     },
     "metadata": {},
     "output_type": "display_data"
    }
   ],
   "source": [
    "# Create the variables\n",
    "row_US = []\n",
    "row_no_US = []\n",
    "\n",
    "# Prepare the data\n",
    "for year in df_ratings_no_text['date'].dt.year.unique():\n",
    "    df_state_no_US = df_ratings_no_text[(df_ratings_no_text['date'].dt.year == year) & (df_ratings_no_text['country_brewery'] != 'United States')].groupby('country_brewery').agg({'rating': 'mean'}).reset_index()\n",
    "    row_no_US += [{'year': year, 'location': state, 'count': abv} for state, abv in zip(df_state_no_US['country_brewery'], df_state_no_US['rating'])]\n",
    "\n",
    "    df_state_US = df_ratings_no_text[(df_ratings_no_text['date'].dt.year == year) & (df_ratings_no_text['country_brewery'] == 'United States')].groupby('state_brewery').agg({'rating': 'mean'}).reset_index()\n",
    "    row_US += [{'year': year, 'location': state, 'count': abv} for state, abv in zip(df_state_US['state_brewery'], df_state_US['rating'])]\n",
    "\n",
    "# Create the dataframes\n",
    "df_states_no_US = pd.DataFrame(row_no_US)\n",
    "df_states_US = pd.DataFrame(row_US)\n",
    "\n",
    "# Filter the data for a more clean plot (No US)\n",
    "number_of_years_per_state_no_US = df_states_no_US.groupby('location').size().reset_index().rename(columns={0:'count'})\n",
    "number_of_years_per_state_no_US = number_of_years_per_state_no_US[number_of_years_per_state_no_US['count'] == len(df_ratings_no_text['date'].dt.year.unique())]\n",
    "df_states_no_US = df_states_no_US[df_states_no_US['location'].isin(number_of_years_per_state_no_US['location'])]\n",
    "\n",
    "# Filter the data for a more clean plot (US)\n",
    "number_of_years_per_state_US = df_states_US.groupby('location').size().reset_index().rename(columns={0:'count'})\n",
    "number_of_years_per_state_US = number_of_years_per_state_US[number_of_years_per_state_US['count'] == len(df_ratings_no_text['date'].dt.year.unique())]\n",
    "df_states_US = df_states_US[df_states_US['location'].isin(number_of_years_per_state_US['location'])]\n",
    "\n",
    "# Define the options for the plot\n",
    "options = {\n",
    "    'title': '',\n",
    "    'time_range': range(df_ratings_no_text['date'].dt.year.min(), df_ratings_no_text['date'].dt.year.max() + 1),\n",
    "    'time_label': 'year',\n",
    "    'location_label': 'location',\n",
    "    'value_label': 'count',\n",
    "    'range_color': [1, 4],\n",
    "    'color_scale': 'Viridis'\n",
    "}\n",
    "\n",
    "# Display the plot\n",
    "plot_map_time(df_states_no_US, df_states_US, options)"
   ]
  },
  {
   "cell_type": "markdown",
   "metadata": {},
   "source": [
    "## ABV and style analysis\n",
    "In this section we'll continue by analyzing the popularity of ABV and style in the world and we'll also study how these have evolved over time."
   ]
  },
  {
   "cell_type": "code",
   "execution_count": null,
   "metadata": {},
   "outputs": [],
   "source": []
  },
  {
   "cell_type": "markdown",
   "metadata": {},
   "source": [
    "## Brewery popularity analysis\n",
    "In this section we are going to see whether user likes a lot beers from specific breweries from specific countries and in general we'll focus on understanding the impact of breweries on the popularity of beers."
   ]
  },
  {
   "cell_type": "code",
   "execution_count": null,
   "metadata": {},
   "outputs": [],
   "source": []
  },
  {
   "cell_type": "markdown",
   "metadata": {},
   "source": [
    "## NLP analysis\n",
    "In this final section we are going to see from the textual ratings if there are some specific words or emotions that are associated with high or low ratings."
   ]
  },
  {
   "cell_type": "code",
   "execution_count": null,
   "metadata": {},
   "outputs": [],
   "source": []
  }
 ],
 "metadata": {
  "kernelspec": {
   "display_name": ".venv",
   "language": "python",
   "name": "python3"
  },
  "language_info": {
   "codemirror_mode": {
    "name": "ipython",
    "version": 3
   },
   "file_extension": ".py",
   "mimetype": "text/x-python",
   "name": "python",
   "nbconvert_exporter": "python",
   "pygments_lexer": "ipython3",
   "version": "3.9.20"
  }
 },
 "nbformat": 4,
 "nbformat_minor": 2
}
