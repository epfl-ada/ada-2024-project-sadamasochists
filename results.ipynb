{
 "cells": [
  {
   "cell_type": "markdown",
   "metadata": {},
   "source": [
    "# Breweries, Beer, and Breviews: Unraveling the Global Beer Preferences\n",
    "## Introduction\n",
    "<b>PUT THE ABSTRACT HERE</b>\n",
    "\n",
    "\n",
    "## Repository structure\n",
    "The structure of the repository is as follows: <br><br>\n",
    "<code>\n",
    "├── data/  \n",
    "│   ├── processed/        # Processed data stored here  \n",
    "│   └── raw/              # Place the RateBeer dataset here  \n",
    "├── docs/                 # Datastory code for GitHub Pages  \n",
    "│   ├── img/              # Images for the datastory  \n",
    "│   ├── plots/            # Plots used in the datastory, categorized by sections  \n",
    "│   └── src/              # Additional JS and CSS files for the datastory  \n",
    "├── src/                  # Analysis code  \n",
    "│   ├── data/             # Code for data processing  \n",
    "│   ├── processing/       # Code used in the results notebook  \n",
    "│   └── utils/            # Utility functions for analysis  \n",
    "</code> <br>\n",
    "The installation guide is provided in the `README.md` file in the root directory.\n",
    "\n",
    "## Include Libraries and initial settings\n",
    "### Import all the libraries"
   ]
  },
  {
   "cell_type": "code",
   "execution_count": 1,
   "metadata": {
    "execution": {
     "iopub.execute_input": "2024-12-17T18:52:01.137406Z",
     "iopub.status.busy": "2024-12-17T18:52:01.136977Z",
     "iopub.status.idle": "2024-12-17T18:52:01.829576Z",
     "shell.execute_reply": "2024-12-17T18:52:01.828505Z",
     "shell.execute_reply.started": "2024-12-17T18:52:01.137376Z"
    }
   },
   "outputs": [],
   "source": [
    "# Import all the libraries\n",
    "import pandas as pd\n",
    "\n",
    "# Shutdown FutureWarning and UserWarning\n",
    "import warnings\n",
    "warnings.simplefilter(action='ignore', category=FutureWarning)\n",
    "warnings.simplefilter(action='ignore', category=UserWarning)\n",
    "\n",
    "# Define the folder\n",
    "FOLDER = 'data/processed/'\n",
    "SAVING_FOLDER = 'docs/plots/'"
   ]
  },
  {
   "cell_type": "markdown",
   "metadata": {},
   "source": [
    "### Load and filter the data\n",
    "#### Load the data"
   ]
  },
  {
   "cell_type": "code",
   "execution_count": 2,
   "metadata": {
    "execution": {
     "iopub.execute_input": "2024-12-17T18:52:01.831638Z",
     "iopub.status.busy": "2024-12-17T18:52:01.831162Z",
     "iopub.status.idle": "2024-12-17T18:52:03.587286Z",
     "shell.execute_reply": "2024-12-17T18:52:03.586559Z",
     "shell.execute_reply.started": "2024-12-17T18:52:01.831601Z"
    }
   },
   "outputs": [],
   "source": [
    "df_beers = pd.read_parquet(FOLDER + 'beers.pq')\n",
    "df_breweries = pd.read_parquet(FOLDER + 'breweries.pq')\n",
    "df_users = pd.read_parquet(FOLDER + 'users.pq')\n",
    "df_ratings_no_text = pd.read_parquet(FOLDER + 'ratings_no_text.pq')"
   ]
  },
  {
   "cell_type": "markdown",
   "metadata": {},
   "source": [
    "## Data presentation\n",
    "Here we are going to have an overview of the dataset, which has been carefully cleaned and is nearly ready for analysis. We will summarize the data, display the first few rows, and describe the data types of the columns. For columns that are not self-explanatory, a brief description is included. <br><br>\n",
    "Let's start by looking at the beer dataset."
   ]
  },
  {
   "cell_type": "code",
   "execution_count": 3,
   "metadata": {},
   "outputs": [
    {
     "data": {
      "text/html": [
       "<div>\n",
       "<style scoped>\n",
       "    .dataframe tbody tr th:only-of-type {\n",
       "        vertical-align: middle;\n",
       "    }\n",
       "\n",
       "    .dataframe tbody tr th {\n",
       "        vertical-align: top;\n",
       "    }\n",
       "\n",
       "    .dataframe thead th {\n",
       "        text-align: right;\n",
       "    }\n",
       "</style>\n",
       "<table border=\"1\" class=\"dataframe\">\n",
       "  <thead>\n",
       "    <tr style=\"text-align: right;\">\n",
       "      <th></th>\n",
       "      <th>beer_id</th>\n",
       "      <th>beer_name</th>\n",
       "      <th>brewery_id</th>\n",
       "      <th>brewery_name</th>\n",
       "      <th>style</th>\n",
       "      <th>abv</th>\n",
       "    </tr>\n",
       "  </thead>\n",
       "  <tbody>\n",
       "    <tr>\n",
       "      <th>3</th>\n",
       "      <td>155699</td>\n",
       "      <td>Ards Bally Black Stout</td>\n",
       "      <td>13538</td>\n",
       "      <td>Ards Brewing Co.</td>\n",
       "      <td>Stout</td>\n",
       "      <td>4.6</td>\n",
       "    </tr>\n",
       "    <tr>\n",
       "      <th>4</th>\n",
       "      <td>239097</td>\n",
       "      <td>Ards Belfast 366</td>\n",
       "      <td>13538</td>\n",
       "      <td>Ards Brewing Co.</td>\n",
       "      <td>Golden Ale/Blond Ale</td>\n",
       "      <td>4.2</td>\n",
       "    </tr>\n",
       "    <tr>\n",
       "      <th>5</th>\n",
       "      <td>380930</td>\n",
       "      <td>Ards Bittles Christmas</td>\n",
       "      <td>13538</td>\n",
       "      <td>Ards Brewing Co.</td>\n",
       "      <td>Bitter</td>\n",
       "      <td>4.2</td>\n",
       "    </tr>\n",
       "    <tr>\n",
       "      <th>6</th>\n",
       "      <td>234108</td>\n",
       "      <td>Ards Bittles Citra Autumn Ale</td>\n",
       "      <td>13538</td>\n",
       "      <td>Ards Brewing Co.</td>\n",
       "      <td>American Pale Ale</td>\n",
       "      <td>5.1</td>\n",
       "    </tr>\n",
       "    <tr>\n",
       "      <th>7</th>\n",
       "      <td>396830</td>\n",
       "      <td>Ards Cardy Man</td>\n",
       "      <td>13538</td>\n",
       "      <td>Ards Brewing Co.</td>\n",
       "      <td>Stout</td>\n",
       "      <td>4.2</td>\n",
       "    </tr>\n",
       "  </tbody>\n",
       "</table>\n",
       "</div>"
      ],
      "text/plain": [
       "   beer_id                      beer_name  brewery_id      brewery_name  \\\n",
       "3   155699         Ards Bally Black Stout       13538  Ards Brewing Co.   \n",
       "4   239097               Ards Belfast 366       13538  Ards Brewing Co.   \n",
       "5   380930         Ards Bittles Christmas       13538  Ards Brewing Co.   \n",
       "6   234108  Ards Bittles Citra Autumn Ale       13538  Ards Brewing Co.   \n",
       "7   396830                 Ards Cardy Man       13538  Ards Brewing Co.   \n",
       "\n",
       "                  style  abv  \n",
       "3                 Stout  4.6  \n",
       "4  Golden Ale/Blond Ale  4.2  \n",
       "5                Bitter  4.2  \n",
       "6     American Pale Ale  5.1  \n",
       "7                 Stout  4.2  "
      ]
     },
     "execution_count": 3,
     "metadata": {},
     "output_type": "execute_result"
    }
   ],
   "source": [
    "df_beers.head(5)"
   ]
  },
  {
   "cell_type": "code",
   "execution_count": 4,
   "metadata": {},
   "outputs": [
    {
     "name": "stdout",
     "output_type": "stream",
     "text": [
      "In the platform there are 314,204 different beers\n"
     ]
    }
   ],
   "source": [
    "format_numeric_values = lambda x: f\"{x:,.0f}\"\n",
    "print(f\"In the platform there are {format_numeric_values(df_beers.shape[0])} different beers\")"
   ]
  },
  {
   "cell_type": "markdown",
   "metadata": {},
   "source": [
    "Let's continue by looking at the brewery dataset."
   ]
  },
  {
   "cell_type": "code",
   "execution_count": 5,
   "metadata": {},
   "outputs": [
    {
     "data": {
      "text/html": [
       "<div>\n",
       "<style scoped>\n",
       "    .dataframe tbody tr th:only-of-type {\n",
       "        vertical-align: middle;\n",
       "    }\n",
       "\n",
       "    .dataframe tbody tr th {\n",
       "        vertical-align: top;\n",
       "    }\n",
       "\n",
       "    .dataframe thead th {\n",
       "        text-align: right;\n",
       "    }\n",
       "</style>\n",
       "<table border=\"1\" class=\"dataframe\">\n",
       "  <thead>\n",
       "    <tr style=\"text-align: right;\">\n",
       "      <th></th>\n",
       "      <th>brewery_id</th>\n",
       "      <th>brewery_name</th>\n",
       "      <th>country_brewery</th>\n",
       "      <th>state_brewery</th>\n",
       "    </tr>\n",
       "  </thead>\n",
       "  <tbody>\n",
       "    <tr>\n",
       "      <th>1</th>\n",
       "      <td>13538</td>\n",
       "      <td>Ards Brewing Co.</td>\n",
       "      <td>United Kingdom</td>\n",
       "      <td>None</td>\n",
       "    </tr>\n",
       "    <tr>\n",
       "      <th>2</th>\n",
       "      <td>22304</td>\n",
       "      <td>Barrahooley Craft Brewery</td>\n",
       "      <td>United Kingdom</td>\n",
       "      <td>None</td>\n",
       "    </tr>\n",
       "    <tr>\n",
       "      <th>3</th>\n",
       "      <td>22818</td>\n",
       "      <td>Boundary</td>\n",
       "      <td>United Kingdom</td>\n",
       "      <td>None</td>\n",
       "    </tr>\n",
       "    <tr>\n",
       "      <th>4</th>\n",
       "      <td>24297</td>\n",
       "      <td>Brewbot Belfast</td>\n",
       "      <td>United Kingdom</td>\n",
       "      <td>None</td>\n",
       "    </tr>\n",
       "    <tr>\n",
       "      <th>5</th>\n",
       "      <td>27006</td>\n",
       "      <td>Bullhouse Brewing Company</td>\n",
       "      <td>United Kingdom</td>\n",
       "      <td>None</td>\n",
       "    </tr>\n",
       "  </tbody>\n",
       "</table>\n",
       "</div>"
      ],
      "text/plain": [
       "   brewery_id               brewery_name country_brewery state_brewery\n",
       "1       13538           Ards Brewing Co.  United Kingdom          None\n",
       "2       22304  Barrahooley Craft Brewery  United Kingdom          None\n",
       "3       22818                   Boundary  United Kingdom          None\n",
       "4       24297            Brewbot Belfast  United Kingdom          None\n",
       "5       27006  Bullhouse Brewing Company  United Kingdom          None"
      ]
     },
     "execution_count": 5,
     "metadata": {},
     "output_type": "execute_result"
    }
   ],
   "source": [
    "df_breweries.head(5)"
   ]
  },
  {
   "cell_type": "markdown",
   "metadata": {},
   "source": [
    "We have chosen, to ease the analysis processes, to split the location into two columns:\n",
    "- One for the country.\n",
    "- A separate column for US states.\n",
    "\n",
    "This split was specifically applied to the US because it has a significant amount of data and combining all states into a single \"US\" entity would have obscured important insights in some analysis. Additionally, the size and population of many US states are comparable to those of entire countries. This approach was not extended to other countries due to the lack of state-level data for them. The split allows also to consider the US as an unique entity when we want a more \"overview\" analysis.<br><br>\n",
    "The same choice has been made for all the location columns."
   ]
  },
  {
   "cell_type": "code",
   "execution_count": 6,
   "metadata": {},
   "outputs": [
    {
     "name": "stdout",
     "output_type": "stream",
     "text": [
      "In the platform there are 19,668 different breweries\n"
     ]
    }
   ],
   "source": [
    "print(f\"In the platform there are {format_numeric_values(df_breweries.shape[0])} different breweries\")"
   ]
  },
  {
   "cell_type": "markdown",
   "metadata": {},
   "source": [
    "Let's now add the location columns to the beers dataset"
   ]
  },
  {
   "cell_type": "code",
   "execution_count": 7,
   "metadata": {},
   "outputs": [
    {
     "data": {
      "text/html": [
       "<div>\n",
       "<style scoped>\n",
       "    .dataframe tbody tr th:only-of-type {\n",
       "        vertical-align: middle;\n",
       "    }\n",
       "\n",
       "    .dataframe tbody tr th {\n",
       "        vertical-align: top;\n",
       "    }\n",
       "\n",
       "    .dataframe thead th {\n",
       "        text-align: right;\n",
       "    }\n",
       "</style>\n",
       "<table border=\"1\" class=\"dataframe\">\n",
       "  <thead>\n",
       "    <tr style=\"text-align: right;\">\n",
       "      <th></th>\n",
       "      <th>beer_id</th>\n",
       "      <th>beer_name</th>\n",
       "      <th>brewery_id</th>\n",
       "      <th>brewery_name</th>\n",
       "      <th>style</th>\n",
       "      <th>abv</th>\n",
       "      <th>country_beer</th>\n",
       "      <th>state_beer</th>\n",
       "    </tr>\n",
       "  </thead>\n",
       "  <tbody>\n",
       "    <tr>\n",
       "      <th>3</th>\n",
       "      <td>155699</td>\n",
       "      <td>Ards Bally Black Stout</td>\n",
       "      <td>13538</td>\n",
       "      <td>Ards Brewing Co.</td>\n",
       "      <td>Stout</td>\n",
       "      <td>4.6</td>\n",
       "      <td>United Kingdom</td>\n",
       "      <td>None</td>\n",
       "    </tr>\n",
       "    <tr>\n",
       "      <th>4</th>\n",
       "      <td>239097</td>\n",
       "      <td>Ards Belfast 366</td>\n",
       "      <td>13538</td>\n",
       "      <td>Ards Brewing Co.</td>\n",
       "      <td>Golden Ale/Blond Ale</td>\n",
       "      <td>4.2</td>\n",
       "      <td>United Kingdom</td>\n",
       "      <td>None</td>\n",
       "    </tr>\n",
       "    <tr>\n",
       "      <th>5</th>\n",
       "      <td>380930</td>\n",
       "      <td>Ards Bittles Christmas</td>\n",
       "      <td>13538</td>\n",
       "      <td>Ards Brewing Co.</td>\n",
       "      <td>Bitter</td>\n",
       "      <td>4.2</td>\n",
       "      <td>United Kingdom</td>\n",
       "      <td>None</td>\n",
       "    </tr>\n",
       "    <tr>\n",
       "      <th>6</th>\n",
       "      <td>234108</td>\n",
       "      <td>Ards Bittles Citra Autumn Ale</td>\n",
       "      <td>13538</td>\n",
       "      <td>Ards Brewing Co.</td>\n",
       "      <td>American Pale Ale</td>\n",
       "      <td>5.1</td>\n",
       "      <td>United Kingdom</td>\n",
       "      <td>None</td>\n",
       "    </tr>\n",
       "    <tr>\n",
       "      <th>7</th>\n",
       "      <td>396830</td>\n",
       "      <td>Ards Cardy Man</td>\n",
       "      <td>13538</td>\n",
       "      <td>Ards Brewing Co.</td>\n",
       "      <td>Stout</td>\n",
       "      <td>4.2</td>\n",
       "      <td>United Kingdom</td>\n",
       "      <td>None</td>\n",
       "    </tr>\n",
       "  </tbody>\n",
       "</table>\n",
       "</div>"
      ],
      "text/plain": [
       "   beer_id                      beer_name  brewery_id      brewery_name  \\\n",
       "3   155699         Ards Bally Black Stout       13538  Ards Brewing Co.   \n",
       "4   239097               Ards Belfast 366       13538  Ards Brewing Co.   \n",
       "5   380930         Ards Bittles Christmas       13538  Ards Brewing Co.   \n",
       "6   234108  Ards Bittles Citra Autumn Ale       13538  Ards Brewing Co.   \n",
       "7   396830                 Ards Cardy Man       13538  Ards Brewing Co.   \n",
       "\n",
       "                  style  abv    country_beer state_beer  \n",
       "3                 Stout  4.6  United Kingdom       None  \n",
       "4  Golden Ale/Blond Ale  4.2  United Kingdom       None  \n",
       "5                Bitter  4.2  United Kingdom       None  \n",
       "6     American Pale Ale  5.1  United Kingdom       None  \n",
       "7                 Stout  4.2  United Kingdom       None  "
      ]
     },
     "execution_count": 7,
     "metadata": {},
     "output_type": "execute_result"
    }
   ],
   "source": [
    "df_beers = df_beers.join(df_breweries[['brewery_id', 'country_brewery', 'state_brewery']].set_index('brewery_id'), on='brewery_id').rename(columns={'country_brewery': 'country_beer', 'state_brewery': 'state_beer'})\n",
    "df_beers.head(5)"
   ]
  },
  {
   "cell_type": "markdown",
   "metadata": {},
   "source": [
    "Now we can go on and look at the user dataset."
   ]
  },
  {
   "cell_type": "code",
   "execution_count": 8,
   "metadata": {},
   "outputs": [
    {
     "data": {
      "text/html": [
       "<div>\n",
       "<style scoped>\n",
       "    .dataframe tbody tr th:only-of-type {\n",
       "        vertical-align: middle;\n",
       "    }\n",
       "\n",
       "    .dataframe tbody tr th {\n",
       "        vertical-align: top;\n",
       "    }\n",
       "\n",
       "    .dataframe thead th {\n",
       "        text-align: right;\n",
       "    }\n",
       "</style>\n",
       "<table border=\"1\" class=\"dataframe\">\n",
       "  <thead>\n",
       "    <tr style=\"text-align: right;\">\n",
       "      <th></th>\n",
       "      <th>user_id</th>\n",
       "      <th>user_name</th>\n",
       "      <th>joined</th>\n",
       "      <th>country_user</th>\n",
       "      <th>state_user</th>\n",
       "    </tr>\n",
       "  </thead>\n",
       "  <tbody>\n",
       "    <tr>\n",
       "      <th>0</th>\n",
       "      <td>175852</td>\n",
       "      <td>Manslow</td>\n",
       "      <td>2012-05-20 10:00:00</td>\n",
       "      <td>Poland</td>\n",
       "      <td>None</td>\n",
       "    </tr>\n",
       "    <tr>\n",
       "      <th>2</th>\n",
       "      <td>288889</td>\n",
       "      <td>Sibarh</td>\n",
       "      <td>2013-11-16 11:00:00</td>\n",
       "      <td>Poland</td>\n",
       "      <td>None</td>\n",
       "    </tr>\n",
       "    <tr>\n",
       "      <th>3</th>\n",
       "      <td>250510</td>\n",
       "      <td>fombe89</td>\n",
       "      <td>2013-03-22 11:00:00</td>\n",
       "      <td>Spain</td>\n",
       "      <td>None</td>\n",
       "    </tr>\n",
       "    <tr>\n",
       "      <th>4</th>\n",
       "      <td>122778</td>\n",
       "      <td>kevnic2008</td>\n",
       "      <td>2011-02-02 11:00:00</td>\n",
       "      <td>Germany</td>\n",
       "      <td>None</td>\n",
       "    </tr>\n",
       "    <tr>\n",
       "      <th>5</th>\n",
       "      <td>227834</td>\n",
       "      <td>Beerhunter111</td>\n",
       "      <td>2012-11-12 11:00:00</td>\n",
       "      <td>Germany</td>\n",
       "      <td>None</td>\n",
       "    </tr>\n",
       "  </tbody>\n",
       "</table>\n",
       "</div>"
      ],
      "text/plain": [
       "   user_id      user_name              joined country_user state_user\n",
       "0   175852        Manslow 2012-05-20 10:00:00       Poland       None\n",
       "2   288889         Sibarh 2013-11-16 11:00:00       Poland       None\n",
       "3   250510        fombe89 2013-03-22 11:00:00        Spain       None\n",
       "4   122778     kevnic2008 2011-02-02 11:00:00      Germany       None\n",
       "5   227834  Beerhunter111 2012-11-12 11:00:00      Germany       None"
      ]
     },
     "execution_count": 8,
     "metadata": {},
     "output_type": "execute_result"
    }
   ],
   "source": [
    "df_users.head(5)"
   ]
  },
  {
   "cell_type": "code",
   "execution_count": 9,
   "metadata": {},
   "outputs": [
    {
     "name": "stdout",
     "output_type": "stream",
     "text": [
      "In the platform there are 46,974 different users\n"
     ]
    }
   ],
   "source": [
    "print(f\"In the platform there are {format_numeric_values(df_users.shape[0])} different users\")"
   ]
  },
  {
   "cell_type": "markdown",
   "metadata": {},
   "source": [
    "And finally let's have a look at the ratings dataset."
   ]
  },
  {
   "cell_type": "code",
   "execution_count": 10,
   "metadata": {},
   "outputs": [
    {
     "data": {
      "text/html": [
       "<div>\n",
       "<style scoped>\n",
       "    .dataframe tbody tr th:only-of-type {\n",
       "        vertical-align: middle;\n",
       "    }\n",
       "\n",
       "    .dataframe tbody tr th {\n",
       "        vertical-align: top;\n",
       "    }\n",
       "\n",
       "    .dataframe thead th {\n",
       "        text-align: right;\n",
       "    }\n",
       "</style>\n",
       "<table border=\"1\" class=\"dataframe\">\n",
       "  <thead>\n",
       "    <tr style=\"text-align: right;\">\n",
       "      <th></th>\n",
       "      <th>date</th>\n",
       "      <th>beer_id</th>\n",
       "      <th>user_id</th>\n",
       "      <th>brewery_id</th>\n",
       "      <th>abv</th>\n",
       "      <th>style</th>\n",
       "      <th>rating</th>\n",
       "      <th>mouthfeel</th>\n",
       "      <th>taste</th>\n",
       "      <th>appearance</th>\n",
       "      <th>aroma</th>\n",
       "      <th>overall</th>\n",
       "      <th>year</th>\n",
       "      <th>brewery_name</th>\n",
       "      <th>country_brewery</th>\n",
       "      <th>state_brewery</th>\n",
       "      <th>country_user</th>\n",
       "      <th>state_user</th>\n",
       "    </tr>\n",
       "  </thead>\n",
       "  <tbody>\n",
       "    <tr>\n",
       "      <th>38</th>\n",
       "      <td>2015-04-16 12:00:00</td>\n",
       "      <td>155699</td>\n",
       "      <td>151109</td>\n",
       "      <td>13538</td>\n",
       "      <td>4.6</td>\n",
       "      <td>Stout</td>\n",
       "      <td>3.7</td>\n",
       "      <td>2.0</td>\n",
       "      <td>8.0</td>\n",
       "      <td>3.0</td>\n",
       "      <td>7.0</td>\n",
       "      <td>17.0</td>\n",
       "      <td>2015</td>\n",
       "      <td>Ards Brewing Co.</td>\n",
       "      <td>United Kingdom</td>\n",
       "      <td>None</td>\n",
       "      <td>Ireland</td>\n",
       "      <td>None</td>\n",
       "    </tr>\n",
       "    <tr>\n",
       "      <th>41</th>\n",
       "      <td>2013-10-01 12:00:00</td>\n",
       "      <td>155699</td>\n",
       "      <td>224156</td>\n",
       "      <td>13538</td>\n",
       "      <td>4.6</td>\n",
       "      <td>Stout</td>\n",
       "      <td>4.0</td>\n",
       "      <td>3.0</td>\n",
       "      <td>5.0</td>\n",
       "      <td>5.0</td>\n",
       "      <td>8.0</td>\n",
       "      <td>19.0</td>\n",
       "      <td>2013</td>\n",
       "      <td>Ards Brewing Co.</td>\n",
       "      <td>United Kingdom</td>\n",
       "      <td>None</td>\n",
       "      <td>United Kingdom</td>\n",
       "      <td>None</td>\n",
       "    </tr>\n",
       "    <tr>\n",
       "      <th>42</th>\n",
       "      <td>2013-06-18 12:00:00</td>\n",
       "      <td>155699</td>\n",
       "      <td>88501</td>\n",
       "      <td>13538</td>\n",
       "      <td>4.6</td>\n",
       "      <td>Stout</td>\n",
       "      <td>3.6</td>\n",
       "      <td>4.0</td>\n",
       "      <td>7.0</td>\n",
       "      <td>4.0</td>\n",
       "      <td>7.0</td>\n",
       "      <td>14.0</td>\n",
       "      <td>2013</td>\n",
       "      <td>Ards Brewing Co.</td>\n",
       "      <td>United Kingdom</td>\n",
       "      <td>None</td>\n",
       "      <td>New Zealand</td>\n",
       "      <td>None</td>\n",
       "    </tr>\n",
       "    <tr>\n",
       "      <th>43</th>\n",
       "      <td>2011-11-17 12:00:00</td>\n",
       "      <td>155699</td>\n",
       "      <td>128086</td>\n",
       "      <td>13538</td>\n",
       "      <td>4.6</td>\n",
       "      <td>Stout</td>\n",
       "      <td>4.0</td>\n",
       "      <td>5.0</td>\n",
       "      <td>7.0</td>\n",
       "      <td>5.0</td>\n",
       "      <td>7.0</td>\n",
       "      <td>16.0</td>\n",
       "      <td>2011</td>\n",
       "      <td>Ards Brewing Co.</td>\n",
       "      <td>United Kingdom</td>\n",
       "      <td>None</td>\n",
       "      <td>United Kingdom</td>\n",
       "      <td>None</td>\n",
       "    </tr>\n",
       "    <tr>\n",
       "      <th>44</th>\n",
       "      <td>2013-11-23 12:00:00</td>\n",
       "      <td>239097</td>\n",
       "      <td>128086</td>\n",
       "      <td>13538</td>\n",
       "      <td>4.2</td>\n",
       "      <td>Golden Ale/Blond Ale</td>\n",
       "      <td>3.0</td>\n",
       "      <td>3.0</td>\n",
       "      <td>5.0</td>\n",
       "      <td>4.0</td>\n",
       "      <td>6.0</td>\n",
       "      <td>12.0</td>\n",
       "      <td>2013</td>\n",
       "      <td>Ards Brewing Co.</td>\n",
       "      <td>United Kingdom</td>\n",
       "      <td>None</td>\n",
       "      <td>United Kingdom</td>\n",
       "      <td>None</td>\n",
       "    </tr>\n",
       "  </tbody>\n",
       "</table>\n",
       "</div>"
      ],
      "text/plain": [
       "                  date  beer_id  user_id  brewery_id  abv  \\\n",
       "38 2015-04-16 12:00:00   155699   151109       13538  4.6   \n",
       "41 2013-10-01 12:00:00   155699   224156       13538  4.6   \n",
       "42 2013-06-18 12:00:00   155699    88501       13538  4.6   \n",
       "43 2011-11-17 12:00:00   155699   128086       13538  4.6   \n",
       "44 2013-11-23 12:00:00   239097   128086       13538  4.2   \n",
       "\n",
       "                   style  rating  mouthfeel  taste  appearance  aroma  \\\n",
       "38                 Stout     3.7        2.0    8.0         3.0    7.0   \n",
       "41                 Stout     4.0        3.0    5.0         5.0    8.0   \n",
       "42                 Stout     3.6        4.0    7.0         4.0    7.0   \n",
       "43                 Stout     4.0        5.0    7.0         5.0    7.0   \n",
       "44  Golden Ale/Blond Ale     3.0        3.0    5.0         4.0    6.0   \n",
       "\n",
       "    overall  year      brewery_name country_brewery state_brewery  \\\n",
       "38     17.0  2015  Ards Brewing Co.  United Kingdom          None   \n",
       "41     19.0  2013  Ards Brewing Co.  United Kingdom          None   \n",
       "42     14.0  2013  Ards Brewing Co.  United Kingdom          None   \n",
       "43     16.0  2011  Ards Brewing Co.  United Kingdom          None   \n",
       "44     12.0  2013  Ards Brewing Co.  United Kingdom          None   \n",
       "\n",
       "      country_user state_user  \n",
       "38         Ireland       None  \n",
       "41  United Kingdom       None  \n",
       "42     New Zealand       None  \n",
       "43  United Kingdom       None  \n",
       "44  United Kingdom       None  "
      ]
     },
     "execution_count": 10,
     "metadata": {},
     "output_type": "execute_result"
    }
   ],
   "source": [
    "df_ratings_no_text.head(5)"
   ]
  },
  {
   "cell_type": "code",
   "execution_count": 11,
   "metadata": {},
   "outputs": [
    {
     "name": "stdout",
     "output_type": "stream",
     "text": [
      "In the platform there are 6,417,388 different reviews\n"
     ]
    }
   ],
   "source": [
    "print(f\"In the platform there are {format_numeric_values(df_ratings_no_text.shape[0])} different reviews\")"
   ]
  },
  {
   "cell_type": "markdown",
   "metadata": {},
   "source": [
    "The ratings comes from the [RateBeer](ratebeer.com) website which has the following rating system (source [RateBeer Scores](https://www.ratebeer.com/our-scores)):\n",
    "- <b>Aroma</b>: The smell of the beer\n",
    "- <b>Appearance</b>: The color, clarity, head and visual carbonation of this beer.\n",
    "- <b>Taste</b>: The flavors in this beer, thinking about the palate, bitterness and finish.\n",
    "- <b>Mouthfeel</b>: The body of the beer, carbonation and astringency.\n",
    "- <b>Overall</b>: The overall characteristics and your personal experience of the beer.\n",
    "\n",
    "Appearance and Mouthfeel are each scored out of 5. Aroma and Taste are scored out of 10. While Overall is scored out of 20. These all combine to give the beer a total score out of 50 (the <b>Rating</b> column), which is then divided and displayed as a score out of 5. <br>\n",
    "In the following we are going to use either the overall or the rating column to refer to the score of the beer. The choice will be made based on the analysis to be done and the attribute that best fits the analysis. We'll consider them as an overall impression of the beer (given that it's the rate of the personal experience of the beer) even if when we want to summarize all the different aspects we'll use the rating since it is the sum of all the other scores.\n",
    "<br><br>\n",
    "The country of the brewery is computed from the <code>brewery</code> dataset while the country of the user is computed from the <code>user</code> dataset."
   ]
  },
  {
   "cell_type": "code",
   "execution_count": 12,
   "metadata": {},
   "outputs": [
    {
     "name": "stdout",
     "output_type": "stream",
     "text": [
      "In the platform there are 6,417,388 different ratings\n",
      "The first rating was made on 2002-01-01 12:00:00\n",
      "The last rating was made on 2016-12-31 12:00:00\n"
     ]
    }
   ],
   "source": [
    "print(f\"In the platform there are {format_numeric_values(df_ratings_no_text.shape[0])} different ratings\")\n",
    "print(f\"The first rating was made on {df_ratings_no_text['date'].min()}\")\n",
    "print(f\"The last rating was made on {df_ratings_no_text['date'].max()}\")"
   ]
  },
  {
   "cell_type": "markdown",
   "metadata": {},
   "source": [
    "We see that our dataset ends and begin at the beginning of January 2002 and ends at the end of December 2016 with a total of 6,424,384 different ratings. Some of the ratings have been removed to ensure consistent results. <br>\n",
    "We indeed observed that by considering earlier and later ratings the results for those years were not consistent or reasonable mainly because:\n",
    "- The first year that where we have data from the beginning of January is 2001 but by looking at the other data it seemed that the data was not consistent with the other years. We have excluded this year.\n",
    "- The last year that ends at the end of December is 2016 because for 2017 we don't have data for the second half of the year. The number of ratings this year indeed are completely off if compared with the other years."
   ]
  },
  {
   "cell_type": "markdown",
   "metadata": {},
   "source": [
    "Now that we had an overview of the data let's have a look at the geographical distribution of our data in the world."
   ]
  },
  {
   "cell_type": "code",
   "execution_count": 13,
   "metadata": {},
   "outputs": [],
   "source": [
    "# Include all the coee needed for the data presentation\n",
    "from src.processing import presentation as pr\n",
    "data_presentation = pr.DataPresentation(df_beers, df_breweries, df_users, df_ratings_no_text, f'{SAVING_FOLDER}/data_presentation/')"
   ]
  },
  {
   "cell_type": "code",
   "execution_count": 14,
   "metadata": {},
   "outputs": [
    {
     "data": {
      "application/vnd.plotly.v1+json": {
       "config": {
        "plotlyServerURL": "https://plot.ly"
       },
       "data": [
        {
         "colorscale": [
          [
           0,
           "rgb(247,251,255)"
          ],
          [
           0.125,
           "rgb(222,235,247)"
          ],
          [
           0.25,
           "rgb(198,219,239)"
          ],
          [
           0.375,
           "rgb(158,202,225)"
          ],
          [
           0.5,
           "rgb(107,174,214)"
          ],
          [
           0.625,
           "rgb(66,146,198)"
          ],
          [
           0.75,
           "rgb(33,113,181)"
          ],
          [
           0.875,
           "rgb(8,81,156)"
          ],
          [
           1,
           "rgb(8,48,107)"
          ]
         ],
         "hovertemplate": "<b>%{location}</b><br>Count: %{z}<extra></extra>",
         "locationmode": "country names",
         "locations": [
          "Albania",
          "Argentina",
          "Armenia",
          "Australia",
          "Austria",
          "Bahamas",
          "Barbados",
          "Belarus",
          "Belgium",
          "Belize",
          "Bolivia",
          "Bosnia and Herzegovina",
          "Brazil",
          "Bulgaria",
          "Cambodia",
          "Canada",
          "Cayman Islands",
          "Chile",
          "China",
          "Colombia",
          "Costa Rica",
          "Croatia",
          "Cuba",
          "Cyprus",
          "Czech Republic",
          "Denmark",
          "Dominican Republic",
          "Ecuador",
          "Egypt",
          "El Salvador",
          "Estonia",
          "Ethiopia",
          "Faroe Islands",
          "Fiji Islands",
          "Finland",
          "France",
          "French Polynesia",
          "Georgia",
          "Germany",
          "Greece",
          "Greenland",
          "Guatemala",
          "Guernsey",
          "Honduras",
          "Hong Kong",
          "Hungary",
          "Iceland",
          "India",
          "Indonesia",
          "Ireland",
          "Isle of Man",
          "Israel",
          "Italy",
          "Jamaica",
          "Japan",
          "Jersey",
          "Jordan",
          "Kazakhstan",
          "Kenya",
          "Kosovo",
          "Laos",
          "Latvia",
          "Lebanon",
          "Liechtenstein",
          "Lithuania",
          "Luxembourg",
          "Macedonia",
          "Malaysia",
          "Malta",
          "Mauritius",
          "Mexico",
          "Moldova",
          "Mongolia",
          "Montenegro",
          "Morocco",
          "Mozambique",
          "Myanmar",
          "Namibia",
          "Nepal",
          "Netherlands",
          "New Zealand",
          "Nicaragua",
          "Nigeria",
          "Norway",
          "Palestine",
          "Panama",
          "Peru",
          "Philippines",
          "Poland",
          "Portugal",
          "Puerto Rico",
          "Romania",
          "Russia",
          "Serbia",
          "Singapore",
          "Slovak Republic",
          "Slovenia",
          "South Africa",
          "South Korea",
          "Spain",
          "Sri Lanka",
          "Sweden",
          "Switzerland",
          "Taiwan",
          "Tanzania",
          "Thailand",
          "Trinidad & Tobago",
          "Tunisia",
          "Turkey",
          "Uganda",
          "Ukraine",
          "United Kingdom",
          "Uruguay",
          "Venezuela",
          "Vietnam",
          "Virgin Islands (U.S.)"
         ],
         "showscale": false,
         "type": "choropleth",
         "visible": true,
         "z": [
          45,
          515,
          40,
          5276,
          1817,
          18,
          13,
          415,
          5848,
          9,
          54,
          101,
          1252,
          138,
          66,
          17925,
          10,
          405,
          852,
          86,
          110,
          313,
          16,
          39,
          3426,
          7131,
          13,
          121,
          25,
          43,
          849,
          16,
          75,
          13,
          2572,
          4635,
          5,
          49,
          16582,
          218,
          33,
          53,
          25,
          7,
          139,
          1026,
          225,
          304,
          40,
          1061,
          85,
          426,
          5717,
          23,
          3755,
          32,
          11,
          74,
          27,
          19,
          14,
          605,
          19,
          24,
          877,
          73,
          31,
          17,
          26,
          23,
          772,
          131,
          14,
          10,
          8,
          7,
          15,
          23,
          15,
          5702,
          2513,
          18,
          18,
          4114,
          15,
          26,
          133,
          52,
          4360,
          444,
          31,
          201,
          1885,
          214,
          184,
          811,
          420,
          752,
          252,
          3428,
          20,
          5838,
          3938,
          103,
          15,
          182,
          13,
          15,
          107,
          11,
          880,
          47274,
          44,
          23,
          99,
          13
         ]
        },
        {
         "colorbar": {
          "len": 1,
          "title": {
           "text": "Scale"
          }
         },
         "colorscale": [
          [
           0,
           "rgb(247,251,255)"
          ],
          [
           0.125,
           "rgb(222,235,247)"
          ],
          [
           0.25,
           "rgb(198,219,239)"
          ],
          [
           0.375,
           "rgb(158,202,225)"
          ],
          [
           0.5,
           "rgb(107,174,214)"
          ],
          [
           0.625,
           "rgb(66,146,198)"
          ],
          [
           0.75,
           "rgb(33,113,181)"
          ],
          [
           0.875,
           "rgb(8,81,156)"
          ],
          [
           1,
           "rgb(8,48,107)"
          ]
         ],
         "hovertemplate": "<b>%{location}</b><br>Count: %{z}<extra></extra>",
         "locationmode": "USA-states",
         "locations": [
          "AL",
          "AK",
          "AZ",
          "AR",
          "CA",
          "CO",
          "CT",
          "DE",
          "FL",
          "GA",
          "HI",
          "ID",
          "IL",
          "IN",
          "IA",
          "KS",
          "KY",
          "LA",
          "ME",
          "MD",
          "MA",
          "MI",
          "MN",
          "MS",
          "MO",
          "MT",
          "NE",
          "NV",
          "NH",
          "NJ",
          "NM",
          "NY",
          "NC",
          "ND",
          "OH",
          "OK",
          "OR",
          "PA",
          "RI",
          "SC",
          "SD",
          "TN",
          "TX",
          "UT",
          "VT",
          "VA",
          "WA",
          "DC",
          "WV",
          "WI",
          "WY"
         ],
         "type": "choropleth",
         "visible": true,
         "z": [
          710,
          1200,
          2341,
          229,
          19601,
          10295,
          1285,
          549,
          5552,
          1913,
          316,
          1377,
          6328,
          4185,
          1052,
          536,
          1424,
          391,
          1204,
          2447,
          3171,
          6527,
          3827,
          142,
          2483,
          1051,
          747,
          1150,
          1705,
          2224,
          933,
          6572,
          4085,
          140,
          5239,
          397,
          6422,
          7394,
          407,
          874,
          195,
          1048,
          3717,
          864,
          1825,
          4798,
          6610,
          732,
          336,
          4074,
          510
         ],
         "zmax": 47274,
         "zmin": 5
        },
        {
         "colorscale": [
          [
           0,
           "rgb(247,251,255)"
          ],
          [
           0.125,
           "rgb(222,235,247)"
          ],
          [
           0.25,
           "rgb(198,219,239)"
          ],
          [
           0.375,
           "rgb(158,202,225)"
          ],
          [
           0.5,
           "rgb(107,174,214)"
          ],
          [
           0.625,
           "rgb(66,146,198)"
          ],
          [
           0.75,
           "rgb(33,113,181)"
          ],
          [
           0.875,
           "rgb(8,81,156)"
          ],
          [
           1,
           "rgb(8,48,107)"
          ]
         ],
         "hovertemplate": "<b>%{location}</b><br>Count: %{z}<extra></extra>",
         "locationmode": "country names",
         "locations": [
          "Argentina",
          "Australia",
          "Austria",
          "Belarus",
          "Belgium",
          "Brazil",
          "Bulgaria",
          "Cambodia",
          "Canada",
          "Chile",
          "China",
          "Colombia",
          "Croatia",
          "Cyprus",
          "Czech Republic",
          "Denmark",
          "Dominican Republic",
          "Ecuador",
          "El Salvador",
          "Estonia",
          "Faroe Islands",
          "Finland",
          "France",
          "Germany",
          "Greece",
          "Hong Kong",
          "Hungary",
          "Iceland",
          "India",
          "Indonesia",
          "Ireland",
          "Israel",
          "Italy",
          "Japan",
          "Latvia",
          "Lithuania",
          "Luxembourg",
          "Malaysia",
          "Mexico",
          "Moldova",
          "Netherlands",
          "New Zealand",
          "Norway",
          "Panama",
          "Peru",
          "Philippines",
          "Poland",
          "Portugal",
          "Puerto Rico",
          "Romania",
          "Russia",
          "Serbia",
          "Singapore",
          "Slovak Republic",
          "Slovenia",
          "South Africa",
          "South Korea",
          "Spain",
          "Sweden",
          "Switzerland",
          "Taiwan",
          "Thailand",
          "Turkey",
          "Ukraine",
          "United Kingdom",
          "Venezuela"
         ],
         "showscale": false,
         "type": "choropleth",
         "visible": false,
         "z": [
          71,
          1355,
          113,
          19,
          961,
          789,
          37,
          10,
          3048,
          89,
          52,
          25,
          135,
          26,
          142,
          966,
          7,
          15,
          21,
          119,
          7,
          423,
          477,
          817,
          151,
          32,
          210,
          54,
          38,
          6,
          258,
          77,
          860,
          106,
          69,
          43,
          22,
          10,
          214,
          12,
          1025,
          421,
          644,
          15,
          14,
          30,
          1288,
          89,
          29,
          85,
          175,
          69,
          49,
          84,
          107,
          143,
          58,
          763,
          936,
          179,
          43,
          37,
          78,
          57,
          2941,
          12
         ]
        },
        {
         "colorbar": {
          "len": 1,
          "title": {
           "text": "Scale"
          }
         },
         "colorscale": [
          [
           0,
           "rgb(247,251,255)"
          ],
          [
           0.125,
           "rgb(222,235,247)"
          ],
          [
           0.25,
           "rgb(198,219,239)"
          ],
          [
           0.375,
           "rgb(158,202,225)"
          ],
          [
           0.5,
           "rgb(107,174,214)"
          ],
          [
           0.625,
           "rgb(66,146,198)"
          ],
          [
           0.75,
           "rgb(33,113,181)"
          ],
          [
           0.875,
           "rgb(8,81,156)"
          ],
          [
           1,
           "rgb(8,48,107)"
          ]
         ],
         "hovertemplate": "<b>%{location}</b><br>Count: %{z}<extra></extra>",
         "locationmode": "USA-states",
         "locations": [
          "AL",
          "AK",
          "AZ",
          "AR",
          "CA",
          "CO",
          "CT",
          "DE",
          "FL",
          "GA",
          "HI",
          "ID",
          "IL",
          "IN",
          "IA",
          "KS",
          "KY",
          "LA",
          "ME",
          "MD",
          "MA",
          "MI",
          "MN",
          "MS",
          "MO",
          "MT",
          "NE",
          "NV",
          "NH",
          "NJ",
          "NM",
          "NY",
          "NC",
          "ND",
          "OH",
          "OK",
          "OR",
          "PA",
          "RI",
          "SC",
          "SD",
          "TN",
          "TX",
          "UT",
          "VT",
          "VA",
          "WA",
          "WV",
          "WI",
          "WY"
         ],
         "type": "choropleth",
         "visible": false,
         "z": [
          756,
          75,
          489,
          180,
          2674,
          754,
          268,
          90,
          1219,
          697,
          50,
          136,
          1363,
          595,
          290,
          264,
          281,
          141,
          123,
          514,
          642,
          1099,
          743,
          81,
          466,
          82,
          123,
          140,
          170,
          803,
          110,
          1288,
          698,
          42,
          1120,
          200,
          552,
          1555,
          95,
          252,
          44,
          322,
          1363,
          99,
          110,
          695,
          939,
          95,
          802,
          28
         ],
         "zmax": 3048,
         "zmin": 6
        },
        {
         "colorscale": [
          [
           0,
           "rgb(247,251,255)"
          ],
          [
           0.125,
           "rgb(222,235,247)"
          ],
          [
           0.25,
           "rgb(198,219,239)"
          ],
          [
           0.375,
           "rgb(158,202,225)"
          ],
          [
           0.5,
           "rgb(107,174,214)"
          ],
          [
           0.625,
           "rgb(66,146,198)"
          ],
          [
           0.75,
           "rgb(33,113,181)"
          ],
          [
           0.875,
           "rgb(8,81,156)"
          ],
          [
           1,
           "rgb(8,48,107)"
          ]
         ],
         "hovertemplate": "<b>%{location}</b><br>Count: %{z}<extra></extra>",
         "locationmode": "country names",
         "locations": [
          "Albania",
          "Argentina",
          "Armenia",
          "Australia",
          "Austria",
          "Bahamas",
          "Barbados",
          "Belarus",
          "Belgium",
          "Belize",
          "Bolivia",
          "Bosnia and Herzegovina",
          "Brazil",
          "Bulgaria",
          "Cambodia",
          "Canada",
          "Cayman Islands",
          "Chile",
          "China",
          "Colombia",
          "Costa Rica",
          "Croatia",
          "Cuba",
          "Cyprus",
          "Czech Republic",
          "Denmark",
          "Dominican Republic",
          "Ecuador",
          "Egypt",
          "El Salvador",
          "Estonia",
          "Ethiopia",
          "Faroe Islands",
          "Fiji Islands",
          "Finland",
          "France",
          "French Polynesia",
          "Georgia",
          "Germany",
          "Greece",
          "Greenland",
          "Guatemala",
          "Guernsey",
          "Honduras",
          "Hong Kong",
          "Hungary",
          "Iceland",
          "India",
          "Indonesia",
          "Ireland",
          "Isle of Man",
          "Israel",
          "Italy",
          "Jamaica",
          "Japan",
          "Jersey",
          "Jordan",
          "Kazakhstan",
          "Kenya",
          "Kosovo",
          "Laos",
          "Latvia",
          "Lebanon",
          "Liechtenstein",
          "Lithuania",
          "Luxembourg",
          "Macedonia",
          "Malaysia",
          "Malta",
          "Mauritius",
          "Mexico",
          "Moldova",
          "Mongolia",
          "Montenegro",
          "Morocco",
          "Mozambique",
          "Myanmar",
          "Namibia",
          "Nepal",
          "Netherlands",
          "New Zealand",
          "Nicaragua",
          "Nigeria",
          "Norway",
          "Palestine",
          "Panama",
          "Peru",
          "Philippines",
          "Poland",
          "Portugal",
          "Puerto Rico",
          "Romania",
          "Russia",
          "Serbia",
          "Singapore",
          "Slovak Republic",
          "Slovenia",
          "South Africa",
          "South Korea",
          "Spain",
          "Sri Lanka",
          "Sweden",
          "Switzerland",
          "Taiwan",
          "Tanzania",
          "Thailand",
          "Trinidad & Tobago",
          "Tunisia",
          "Turkey",
          "Uganda",
          "Ukraine",
          "United Kingdom",
          "Uruguay",
          "Venezuela",
          "Vietnam",
          "Virgin Islands (U.S.)"
         ],
         "showscale": false,
         "type": "choropleth",
         "visible": false,
         "z": [
          14,
          182,
          7,
          458,
          246,
          4,
          2,
          37,
          363,
          2,
          19,
          20,
          280,
          24,
          18,
          717,
          4,
          124,
          162,
          19,
          32,
          52,
          7,
          8,
          401,
          231,
          3,
          31,
          3,
          4,
          61,
          8,
          3,
          3,
          101,
          669,
          1,
          13,
          1806,
          50,
          6,
          5,
          3,
          2,
          19,
          117,
          13,
          62,
          9,
          110,
          5,
          65,
          787,
          3,
          288,
          2,
          4,
          26,
          4,
          6,
          4,
          48,
          4,
          2,
          77,
          14,
          7,
          5,
          3,
          4,
          227,
          17,
          8,
          4,
          1,
          1,
          5,
          3,
          7,
          402,
          190,
          5,
          6,
          209,
          3,
          7,
          38,
          16,
          268,
          80,
          8,
          41,
          272,
          44,
          18,
          82,
          90,
          169,
          52,
          595,
          4,
          312,
          486,
          18,
          5,
          48,
          2,
          5,
          11,
          4,
          110,
          2175,
          11,
          7,
          49,
          3
         ]
        },
        {
         "colorbar": {
          "len": 1,
          "title": {
           "text": "Scale"
          }
         },
         "colorscale": [
          [
           0,
           "rgb(247,251,255)"
          ],
          [
           0.125,
           "rgb(222,235,247)"
          ],
          [
           0.25,
           "rgb(198,219,239)"
          ],
          [
           0.375,
           "rgb(158,202,225)"
          ],
          [
           0.5,
           "rgb(107,174,214)"
          ],
          [
           0.625,
           "rgb(66,146,198)"
          ],
          [
           0.75,
           "rgb(33,113,181)"
          ],
          [
           0.875,
           "rgb(8,81,156)"
          ],
          [
           1,
           "rgb(8,48,107)"
          ]
         ],
         "hovertemplate": "<b>%{location}</b><br>Count: %{z}<extra></extra>",
         "locationmode": "USA-states",
         "locations": [
          "AL",
          "AK",
          "AZ",
          "AR",
          "CA",
          "CO",
          "CT",
          "DE",
          "FL",
          "GA",
          "HI",
          "ID",
          "IL",
          "IN",
          "IA",
          "KS",
          "KY",
          "LA",
          "ME",
          "MD",
          "MA",
          "MI",
          "MN",
          "MS",
          "MO",
          "MT",
          "NE",
          "NV",
          "NH",
          "NJ",
          "NM",
          "NY",
          "NC",
          "ND",
          "OH",
          "OK",
          "OR",
          "PA",
          "RI",
          "SC",
          "SD",
          "TN",
          "TX",
          "UT",
          "VT",
          "VA",
          "WA",
          "DC",
          "WV",
          "WI",
          "WY"
         ],
         "type": "choropleth",
         "visible": false,
         "z": [
          35,
          32,
          102,
          26,
          724,
          341,
          57,
          21,
          202,
          72,
          21,
          57,
          197,
          142,
          81,
          29,
          42,
          27,
          71,
          78,
          125,
          256,
          138,
          12,
          90,
          66,
          35,
          49,
          61,
          87,
          57,
          297,
          179,
          12,
          172,
          22,
          224,
          246,
          18,
          52,
          18,
          68,
          195,
          23,
          77,
          161,
          326,
          11,
          21,
          176,
          26
         ],
         "zmax": 2175,
         "zmin": 1
        },
        {
         "colorscale": [
          [
           0,
           "rgb(247,251,255)"
          ],
          [
           0.125,
           "rgb(222,235,247)"
          ],
          [
           0.25,
           "rgb(198,219,239)"
          ],
          [
           0.375,
           "rgb(158,202,225)"
          ],
          [
           0.5,
           "rgb(107,174,214)"
          ],
          [
           0.625,
           "rgb(66,146,198)"
          ],
          [
           0.75,
           "rgb(33,113,181)"
          ],
          [
           0.875,
           "rgb(8,81,156)"
          ],
          [
           1,
           "rgb(8,48,107)"
          ]
         ],
         "hovertemplate": "<b>%{location}</b><br>Count: %{z}<extra></extra>",
         "locationmode": "country names",
         "locations": [
          "Albania",
          "Argentina",
          "Armenia",
          "Australia",
          "Austria",
          "Bahamas",
          "Barbados",
          "Belarus",
          "Belgium",
          "Belize",
          "Bolivia",
          "Bosnia and Herzegovina",
          "Brazil",
          "Bulgaria",
          "Cambodia",
          "Canada",
          "Cayman Islands",
          "Chile",
          "China",
          "Colombia",
          "Costa Rica",
          "Croatia",
          "Cuba",
          "Cyprus",
          "Czech Republic",
          "Denmark",
          "Dominican Republic",
          "Ecuador",
          "Egypt",
          "El Salvador",
          "Estonia",
          "Ethiopia",
          "Faroe Islands",
          "Fiji Islands",
          "Finland",
          "France",
          "French Polynesia",
          "Georgia",
          "Germany",
          "Greece",
          "Greenland",
          "Guatemala",
          "Guernsey",
          "Honduras",
          "Hong Kong",
          "Hungary",
          "Iceland",
          "India",
          "Indonesia",
          "Ireland",
          "Isle of Man",
          "Israel",
          "Italy",
          "Jamaica",
          "Japan",
          "Jersey",
          "Jordan",
          "Kazakhstan",
          "Kenya",
          "Kosovo",
          "Laos",
          "Latvia",
          "Lebanon",
          "Liechtenstein",
          "Lithuania",
          "Luxembourg",
          "Macedonia",
          "Malaysia",
          "Malta",
          "Mauritius",
          "Mexico",
          "Moldova",
          "Mongolia",
          "Montenegro",
          "Morocco",
          "Mozambique",
          "Myanmar",
          "Namibia",
          "Nepal",
          "Netherlands",
          "New Zealand",
          "Nicaragua",
          "Nigeria",
          "Norway",
          "Palestine",
          "Panama",
          "Peru",
          "Philippines",
          "Poland",
          "Portugal",
          "Puerto Rico",
          "Romania",
          "Russia",
          "Serbia",
          "Singapore",
          "Slovak Republic",
          "Slovenia",
          "South Africa",
          "South Korea",
          "Spain",
          "Sri Lanka",
          "Sweden",
          "Switzerland",
          "Taiwan",
          "Tanzania",
          "Thailand",
          "Trinidad & Tobago",
          "Tunisia",
          "Turkey",
          "Uganda",
          "Ukraine",
          "United Kingdom",
          "Uruguay",
          "Venezuela",
          "Vietnam",
          "Virgin Islands (U.S.)"
         ],
         "showscale": false,
         "type": "choropleth",
         "visible": false,
         "z": [
          656,
          4445,
          776,
          61250,
          38070,
          846,
          726,
          2065,
          579251,
          388,
          572,
          1451,
          14388,
          1954,
          1002,
          302556,
          265,
          2977,
          8028,
          1306,
          1405,
          7621,
          1058,
          942,
          78638,
          244725,
          1065,
          592,
          711,
          1428,
          21695,
          920,
          2390,
          276,
          50089,
          67827,
          532,
          635,
          455876,
          8316,
          1023,
          1263,
          287,
          543,
          944,
          11384,
          7434,
          4415,
          964,
          36217,
          1323,
          5705,
          87191,
          3570,
          38140,
          446,
          275,
          323,
          1360,
          444,
          889,
          8508,
          1318,
          640,
          12537,
          2572,
          477,
          644,
          1280,
          461,
          25776,
          858,
          271,
          716,
          692,
          279,
          298,
          981,
          277,
          162327,
          38135,
          498,
          638,
          117465,
          609,
          477,
          2037,
          2122,
          104496,
          6702,
          503,
          3084,
          18139,
          2950,
          3388,
          11564,
          5943,
          4597,
          2408,
          52374,
          2674,
          142662,
          26009,
          777,
          429,
          4314,
          2287,
          279,
          3646,
          317,
          7742,
          696040,
          407,
          535,
          2333,
          714
         ]
        },
        {
         "colorbar": {
          "len": 1,
          "title": {
           "text": "Scale"
          }
         },
         "colorscale": [
          [
           0,
           "rgb(247,251,255)"
          ],
          [
           0.125,
           "rgb(222,235,247)"
          ],
          [
           0.25,
           "rgb(198,219,239)"
          ],
          [
           0.375,
           "rgb(158,202,225)"
          ],
          [
           0.5,
           "rgb(107,174,214)"
          ],
          [
           0.625,
           "rgb(66,146,198)"
          ],
          [
           0.75,
           "rgb(33,113,181)"
          ],
          [
           0.875,
           "rgb(8,81,156)"
          ],
          [
           1,
           "rgb(8,48,107)"
          ]
         ],
         "hovertemplate": "<b>%{location}</b><br>Count: %{z}<extra></extra>",
         "locationmode": "USA-states",
         "locations": [
          "AL",
          "AK",
          "AZ",
          "AR",
          "CA",
          "CO",
          "CT",
          "DE",
          "FL",
          "GA",
          "HI",
          "ID",
          "IL",
          "IN",
          "IA",
          "KS",
          "KY",
          "LA",
          "ME",
          "MD",
          "MA",
          "MI",
          "MN",
          "MS",
          "MO",
          "MT",
          "NE",
          "NV",
          "NH",
          "NJ",
          "NM",
          "NY",
          "NC",
          "ND",
          "OH",
          "OK",
          "OR",
          "PA",
          "RI",
          "SC",
          "SD",
          "TN",
          "TX",
          "UT",
          "VT",
          "VA",
          "WA",
          "DC",
          "WV",
          "WI",
          "WY"
         ],
         "type": "choropleth",
         "visible": false,
         "z": [
          5890,
          28776,
          19797,
          2206,
          495995,
          176084,
          14230,
          12401,
          42511,
          43083,
          14084,
          16427,
          98077,
          33527,
          13654,
          8942,
          12626,
          15316,
          54118,
          76651,
          76829,
          102166,
          51307,
          3072,
          97163,
          14082,
          7846,
          8651,
          33297,
          28525,
          9829,
          225357,
          52201,
          730,
          71054,
          17210,
          159197,
          109591,
          6020,
          17725,
          1060,
          15173,
          66473,
          27867,
          68273,
          43149,
          86482,
          7473,
          2583,
          154730,
          3819
         ],
         "zmax": 696040,
         "zmin": 265
        },
        {
         "colorscale": [
          [
           0,
           "rgb(247,251,255)"
          ],
          [
           0.125,
           "rgb(222,235,247)"
          ],
          [
           0.25,
           "rgb(198,219,239)"
          ],
          [
           0.375,
           "rgb(158,202,225)"
          ],
          [
           0.5,
           "rgb(107,174,214)"
          ],
          [
           0.625,
           "rgb(66,146,198)"
          ],
          [
           0.75,
           "rgb(33,113,181)"
          ],
          [
           0.875,
           "rgb(8,81,156)"
          ],
          [
           1,
           "rgb(8,48,107)"
          ]
         ],
         "hovertemplate": "<b>%{location}</b><br>Count: %{z}<extra></extra>",
         "locationmode": "country names",
         "locations": [
          "Argentina",
          "Australia",
          "Austria",
          "Belarus",
          "Belgium",
          "Brazil",
          "Bulgaria",
          "Cambodia",
          "Canada",
          "Chile",
          "China",
          "Colombia",
          "Croatia",
          "Cyprus",
          "Czech Republic",
          "Denmark",
          "Dominican Republic",
          "Ecuador",
          "El Salvador",
          "Estonia",
          "Faroe Islands",
          "Finland",
          "France",
          "Germany",
          "Greece",
          "Hong Kong",
          "Hungary",
          "Iceland",
          "India",
          "Indonesia",
          "Ireland",
          "Israel",
          "Italy",
          "Japan",
          "Latvia",
          "Lithuania",
          "Luxembourg",
          "Malaysia",
          "Mexico",
          "Moldova",
          "Netherlands",
          "New Zealand",
          "Norway",
          "Panama",
          "Peru",
          "Philippines",
          "Poland",
          "Portugal",
          "Puerto Rico",
          "Romania",
          "Russia",
          "Serbia",
          "Singapore",
          "Slovak Republic",
          "Slovenia",
          "South Africa",
          "South Korea",
          "Spain",
          "Sweden",
          "Switzerland",
          "Taiwan",
          "Thailand",
          "Turkey",
          "Ukraine",
          "United Kingdom",
          "Venezuela"
         ],
         "showscale": false,
         "type": "choropleth",
         "visible": false,
         "z": [
          564,
          94191,
          12015,
          4693,
          112247,
          13787,
          322,
          1995,
          490043,
          3612,
          1460,
          324,
          28356,
          2458,
          23469,
          546124,
          1673,
          434,
          3087,
          45348,
          9058,
          178043,
          30146,
          196462,
          8312,
          3511,
          20996,
          2957,
          726,
          857,
          13173,
          27221,
          52329,
          30761,
          5593,
          2026,
          3180,
          7134,
          8077,
          4085,
          209261,
          22818,
          201693,
          341,
          269,
          486,
          107918,
          7232,
          293,
          2750,
          5645,
          3192,
          935,
          24913,
          8331,
          3920,
          721,
          47642,
          262688,
          27165,
          1685,
          10360,
          3311,
          3190,
          496158,
          2581
         ]
        },
        {
         "colorbar": {
          "len": 1,
          "title": {
           "text": "Scale"
          }
         },
         "colorscale": [
          [
           0,
           "rgb(247,251,255)"
          ],
          [
           0.125,
           "rgb(222,235,247)"
          ],
          [
           0.25,
           "rgb(198,219,239)"
          ],
          [
           0.375,
           "rgb(158,202,225)"
          ],
          [
           0.5,
           "rgb(107,174,214)"
          ],
          [
           0.625,
           "rgb(66,146,198)"
          ],
          [
           0.75,
           "rgb(33,113,181)"
          ],
          [
           0.875,
           "rgb(8,81,156)"
          ],
          [
           1,
           "rgb(8,48,107)"
          ]
         ],
         "hovertemplate": "<b>%{location}</b><br>Count: %{z}<extra></extra>",
         "locationmode": "USA-states",
         "locations": [
          "AL",
          "AK",
          "AZ",
          "AR",
          "CA",
          "CO",
          "CT",
          "DE",
          "FL",
          "GA",
          "HI",
          "ID",
          "IL",
          "IN",
          "IA",
          "KS",
          "KY",
          "LA",
          "ME",
          "MD",
          "MA",
          "MI",
          "MN",
          "MS",
          "MO",
          "MT",
          "NE",
          "NV",
          "NH",
          "NJ",
          "NM",
          "NY",
          "NC",
          "ND",
          "OH",
          "OK",
          "OR",
          "PA",
          "RI",
          "SC",
          "SD",
          "TN",
          "TX",
          "UT",
          "VT",
          "VA",
          "WA",
          "WV",
          "WI",
          "WY"
         ],
         "type": "choropleth",
         "visible": false,
         "z": [
          24250,
          9454,
          63510,
          8069,
          303902,
          110111,
          27487,
          13742,
          142481,
          76668,
          2129,
          34575,
          169189,
          74293,
          35072,
          22106,
          26655,
          11331,
          8917,
          75995,
          47687,
          84591,
          110059,
          3753,
          47991,
          4818,
          14351,
          23415,
          31499,
          121599,
          5302,
          133661,
          81325,
          2690,
          140643,
          10793,
          59440,
          212388,
          3682,
          13881,
          1570,
          52185,
          155208,
          11850,
          11974,
          104068,
          140965,
          6604,
          90956,
          2157
         ],
         "zmax": 546124,
         "zmin": 269
        }
       ],
       "layout": {
        "geo": {
         "projection": {
          "type": "equirectangular"
         },
         "showcoastlines": true,
         "showframe": false
        },
        "height": 600,
        "template": {
         "data": {
          "bar": [
           {
            "error_x": {
             "color": "#2a3f5f"
            },
            "error_y": {
             "color": "#2a3f5f"
            },
            "marker": {
             "line": {
              "color": "#E5ECF6",
              "width": 0.5
             },
             "pattern": {
              "fillmode": "overlay",
              "size": 10,
              "solidity": 0.2
             }
            },
            "type": "bar"
           }
          ],
          "barpolar": [
           {
            "marker": {
             "line": {
              "color": "#E5ECF6",
              "width": 0.5
             },
             "pattern": {
              "fillmode": "overlay",
              "size": 10,
              "solidity": 0.2
             }
            },
            "type": "barpolar"
           }
          ],
          "carpet": [
           {
            "aaxis": {
             "endlinecolor": "#2a3f5f",
             "gridcolor": "white",
             "linecolor": "white",
             "minorgridcolor": "white",
             "startlinecolor": "#2a3f5f"
            },
            "baxis": {
             "endlinecolor": "#2a3f5f",
             "gridcolor": "white",
             "linecolor": "white",
             "minorgridcolor": "white",
             "startlinecolor": "#2a3f5f"
            },
            "type": "carpet"
           }
          ],
          "choropleth": [
           {
            "colorbar": {
             "outlinewidth": 0,
             "ticks": ""
            },
            "type": "choropleth"
           }
          ],
          "contour": [
           {
            "colorbar": {
             "outlinewidth": 0,
             "ticks": ""
            },
            "colorscale": [
             [
              0,
              "#0d0887"
             ],
             [
              0.1111111111111111,
              "#46039f"
             ],
             [
              0.2222222222222222,
              "#7201a8"
             ],
             [
              0.3333333333333333,
              "#9c179e"
             ],
             [
              0.4444444444444444,
              "#bd3786"
             ],
             [
              0.5555555555555556,
              "#d8576b"
             ],
             [
              0.6666666666666666,
              "#ed7953"
             ],
             [
              0.7777777777777778,
              "#fb9f3a"
             ],
             [
              0.8888888888888888,
              "#fdca26"
             ],
             [
              1,
              "#f0f921"
             ]
            ],
            "type": "contour"
           }
          ],
          "contourcarpet": [
           {
            "colorbar": {
             "outlinewidth": 0,
             "ticks": ""
            },
            "type": "contourcarpet"
           }
          ],
          "heatmap": [
           {
            "colorbar": {
             "outlinewidth": 0,
             "ticks": ""
            },
            "colorscale": [
             [
              0,
              "#0d0887"
             ],
             [
              0.1111111111111111,
              "#46039f"
             ],
             [
              0.2222222222222222,
              "#7201a8"
             ],
             [
              0.3333333333333333,
              "#9c179e"
             ],
             [
              0.4444444444444444,
              "#bd3786"
             ],
             [
              0.5555555555555556,
              "#d8576b"
             ],
             [
              0.6666666666666666,
              "#ed7953"
             ],
             [
              0.7777777777777778,
              "#fb9f3a"
             ],
             [
              0.8888888888888888,
              "#fdca26"
             ],
             [
              1,
              "#f0f921"
             ]
            ],
            "type": "heatmap"
           }
          ],
          "heatmapgl": [
           {
            "colorbar": {
             "outlinewidth": 0,
             "ticks": ""
            },
            "colorscale": [
             [
              0,
              "#0d0887"
             ],
             [
              0.1111111111111111,
              "#46039f"
             ],
             [
              0.2222222222222222,
              "#7201a8"
             ],
             [
              0.3333333333333333,
              "#9c179e"
             ],
             [
              0.4444444444444444,
              "#bd3786"
             ],
             [
              0.5555555555555556,
              "#d8576b"
             ],
             [
              0.6666666666666666,
              "#ed7953"
             ],
             [
              0.7777777777777778,
              "#fb9f3a"
             ],
             [
              0.8888888888888888,
              "#fdca26"
             ],
             [
              1,
              "#f0f921"
             ]
            ],
            "type": "heatmapgl"
           }
          ],
          "histogram": [
           {
            "marker": {
             "pattern": {
              "fillmode": "overlay",
              "size": 10,
              "solidity": 0.2
             }
            },
            "type": "histogram"
           }
          ],
          "histogram2d": [
           {
            "colorbar": {
             "outlinewidth": 0,
             "ticks": ""
            },
            "colorscale": [
             [
              0,
              "#0d0887"
             ],
             [
              0.1111111111111111,
              "#46039f"
             ],
             [
              0.2222222222222222,
              "#7201a8"
             ],
             [
              0.3333333333333333,
              "#9c179e"
             ],
             [
              0.4444444444444444,
              "#bd3786"
             ],
             [
              0.5555555555555556,
              "#d8576b"
             ],
             [
              0.6666666666666666,
              "#ed7953"
             ],
             [
              0.7777777777777778,
              "#fb9f3a"
             ],
             [
              0.8888888888888888,
              "#fdca26"
             ],
             [
              1,
              "#f0f921"
             ]
            ],
            "type": "histogram2d"
           }
          ],
          "histogram2dcontour": [
           {
            "colorbar": {
             "outlinewidth": 0,
             "ticks": ""
            },
            "colorscale": [
             [
              0,
              "#0d0887"
             ],
             [
              0.1111111111111111,
              "#46039f"
             ],
             [
              0.2222222222222222,
              "#7201a8"
             ],
             [
              0.3333333333333333,
              "#9c179e"
             ],
             [
              0.4444444444444444,
              "#bd3786"
             ],
             [
              0.5555555555555556,
              "#d8576b"
             ],
             [
              0.6666666666666666,
              "#ed7953"
             ],
             [
              0.7777777777777778,
              "#fb9f3a"
             ],
             [
              0.8888888888888888,
              "#fdca26"
             ],
             [
              1,
              "#f0f921"
             ]
            ],
            "type": "histogram2dcontour"
           }
          ],
          "mesh3d": [
           {
            "colorbar": {
             "outlinewidth": 0,
             "ticks": ""
            },
            "type": "mesh3d"
           }
          ],
          "parcoords": [
           {
            "line": {
             "colorbar": {
              "outlinewidth": 0,
              "ticks": ""
             }
            },
            "type": "parcoords"
           }
          ],
          "pie": [
           {
            "automargin": true,
            "type": "pie"
           }
          ],
          "scatter": [
           {
            "fillpattern": {
             "fillmode": "overlay",
             "size": 10,
             "solidity": 0.2
            },
            "type": "scatter"
           }
          ],
          "scatter3d": [
           {
            "line": {
             "colorbar": {
              "outlinewidth": 0,
              "ticks": ""
             }
            },
            "marker": {
             "colorbar": {
              "outlinewidth": 0,
              "ticks": ""
             }
            },
            "type": "scatter3d"
           }
          ],
          "scattercarpet": [
           {
            "marker": {
             "colorbar": {
              "outlinewidth": 0,
              "ticks": ""
             }
            },
            "type": "scattercarpet"
           }
          ],
          "scattergeo": [
           {
            "marker": {
             "colorbar": {
              "outlinewidth": 0,
              "ticks": ""
             }
            },
            "type": "scattergeo"
           }
          ],
          "scattergl": [
           {
            "marker": {
             "colorbar": {
              "outlinewidth": 0,
              "ticks": ""
             }
            },
            "type": "scattergl"
           }
          ],
          "scattermapbox": [
           {
            "marker": {
             "colorbar": {
              "outlinewidth": 0,
              "ticks": ""
             }
            },
            "type": "scattermapbox"
           }
          ],
          "scatterpolar": [
           {
            "marker": {
             "colorbar": {
              "outlinewidth": 0,
              "ticks": ""
             }
            },
            "type": "scatterpolar"
           }
          ],
          "scatterpolargl": [
           {
            "marker": {
             "colorbar": {
              "outlinewidth": 0,
              "ticks": ""
             }
            },
            "type": "scatterpolargl"
           }
          ],
          "scatterternary": [
           {
            "marker": {
             "colorbar": {
              "outlinewidth": 0,
              "ticks": ""
             }
            },
            "type": "scatterternary"
           }
          ],
          "surface": [
           {
            "colorbar": {
             "outlinewidth": 0,
             "ticks": ""
            },
            "colorscale": [
             [
              0,
              "#0d0887"
             ],
             [
              0.1111111111111111,
              "#46039f"
             ],
             [
              0.2222222222222222,
              "#7201a8"
             ],
             [
              0.3333333333333333,
              "#9c179e"
             ],
             [
              0.4444444444444444,
              "#bd3786"
             ],
             [
              0.5555555555555556,
              "#d8576b"
             ],
             [
              0.6666666666666666,
              "#ed7953"
             ],
             [
              0.7777777777777778,
              "#fb9f3a"
             ],
             [
              0.8888888888888888,
              "#fdca26"
             ],
             [
              1,
              "#f0f921"
             ]
            ],
            "type": "surface"
           }
          ],
          "table": [
           {
            "cells": {
             "fill": {
              "color": "#EBF0F8"
             },
             "line": {
              "color": "white"
             }
            },
            "header": {
             "fill": {
              "color": "#C8D4E3"
             },
             "line": {
              "color": "white"
             }
            },
            "type": "table"
           }
          ]
         },
         "layout": {
          "annotationdefaults": {
           "arrowcolor": "#2a3f5f",
           "arrowhead": 0,
           "arrowwidth": 1
          },
          "autotypenumbers": "strict",
          "coloraxis": {
           "colorbar": {
            "outlinewidth": 0,
            "ticks": ""
           }
          },
          "colorscale": {
           "diverging": [
            [
             0,
             "#8e0152"
            ],
            [
             0.1,
             "#c51b7d"
            ],
            [
             0.2,
             "#de77ae"
            ],
            [
             0.3,
             "#f1b6da"
            ],
            [
             0.4,
             "#fde0ef"
            ],
            [
             0.5,
             "#f7f7f7"
            ],
            [
             0.6,
             "#e6f5d0"
            ],
            [
             0.7,
             "#b8e186"
            ],
            [
             0.8,
             "#7fbc41"
            ],
            [
             0.9,
             "#4d9221"
            ],
            [
             1,
             "#276419"
            ]
           ],
           "sequential": [
            [
             0,
             "#0d0887"
            ],
            [
             0.1111111111111111,
             "#46039f"
            ],
            [
             0.2222222222222222,
             "#7201a8"
            ],
            [
             0.3333333333333333,
             "#9c179e"
            ],
            [
             0.4444444444444444,
             "#bd3786"
            ],
            [
             0.5555555555555556,
             "#d8576b"
            ],
            [
             0.6666666666666666,
             "#ed7953"
            ],
            [
             0.7777777777777778,
             "#fb9f3a"
            ],
            [
             0.8888888888888888,
             "#fdca26"
            ],
            [
             1,
             "#f0f921"
            ]
           ],
           "sequentialminus": [
            [
             0,
             "#0d0887"
            ],
            [
             0.1111111111111111,
             "#46039f"
            ],
            [
             0.2222222222222222,
             "#7201a8"
            ],
            [
             0.3333333333333333,
             "#9c179e"
            ],
            [
             0.4444444444444444,
             "#bd3786"
            ],
            [
             0.5555555555555556,
             "#d8576b"
            ],
            [
             0.6666666666666666,
             "#ed7953"
            ],
            [
             0.7777777777777778,
             "#fb9f3a"
            ],
            [
             0.8888888888888888,
             "#fdca26"
            ],
            [
             1,
             "#f0f921"
            ]
           ]
          },
          "colorway": [
           "#636efa",
           "#EF553B",
           "#00cc96",
           "#ab63fa",
           "#FFA15A",
           "#19d3f3",
           "#FF6692",
           "#B6E880",
           "#FF97FF",
           "#FECB52"
          ],
          "font": {
           "color": "#2a3f5f"
          },
          "geo": {
           "bgcolor": "white",
           "lakecolor": "white",
           "landcolor": "#E5ECF6",
           "showlakes": true,
           "showland": true,
           "subunitcolor": "white"
          },
          "hoverlabel": {
           "align": "left"
          },
          "hovermode": "closest",
          "mapbox": {
           "style": "light"
          },
          "paper_bgcolor": "white",
          "plot_bgcolor": "#E5ECF6",
          "polar": {
           "angularaxis": {
            "gridcolor": "white",
            "linecolor": "white",
            "ticks": ""
           },
           "bgcolor": "#E5ECF6",
           "radialaxis": {
            "gridcolor": "white",
            "linecolor": "white",
            "ticks": ""
           }
          },
          "scene": {
           "xaxis": {
            "backgroundcolor": "#E5ECF6",
            "gridcolor": "white",
            "gridwidth": 2,
            "linecolor": "white",
            "showbackground": true,
            "ticks": "",
            "zerolinecolor": "white"
           },
           "yaxis": {
            "backgroundcolor": "#E5ECF6",
            "gridcolor": "white",
            "gridwidth": 2,
            "linecolor": "white",
            "showbackground": true,
            "ticks": "",
            "zerolinecolor": "white"
           },
           "zaxis": {
            "backgroundcolor": "#E5ECF6",
            "gridcolor": "white",
            "gridwidth": 2,
            "linecolor": "white",
            "showbackground": true,
            "ticks": "",
            "zerolinecolor": "white"
           }
          },
          "shapedefaults": {
           "line": {
            "color": "#2a3f5f"
           }
          },
          "ternary": {
           "aaxis": {
            "gridcolor": "white",
            "linecolor": "white",
            "ticks": ""
           },
           "baxis": {
            "gridcolor": "white",
            "linecolor": "white",
            "ticks": ""
           },
           "bgcolor": "#E5ECF6",
           "caxis": {
            "gridcolor": "white",
            "linecolor": "white",
            "ticks": ""
           }
          },
          "title": {
           "x": 0.05
          },
          "xaxis": {
           "automargin": true,
           "gridcolor": "white",
           "linecolor": "white",
           "ticks": "",
           "title": {
            "standoff": 15
           },
           "zerolinecolor": "white",
           "zerolinewidth": 2
          },
          "yaxis": {
           "automargin": true,
           "gridcolor": "white",
           "linecolor": "white",
           "ticks": "",
           "title": {
            "standoff": 15
           },
           "zerolinecolor": "white",
           "zerolinewidth": 2
          }
         }
        },
        "title": {
         "text": "Beers per country",
         "x": 0.5
        },
        "updatemenus": [
         {
          "buttons": [
           {
            "args": [
             {
              "visible": [
               true,
               true,
               false,
               false,
               false,
               false,
               false,
               false,
               false,
               false
              ]
             },
             {
              "title": "Beers per country"
             }
            ],
            "label": "Beers per country",
            "method": "update"
           },
           {
            "args": [
             {
              "visible": [
               false,
               false,
               true,
               true,
               false,
               false,
               false,
               false,
               false,
               false
              ]
             },
             {
              "title": "Users per country"
             }
            ],
            "label": "Users per country",
            "method": "update"
           },
           {
            "args": [
             {
              "visible": [
               false,
               false,
               false,
               false,
               true,
               true,
               false,
               false,
               false,
               false
              ]
             },
             {
              "title": "Breweries per country"
             }
            ],
            "label": "Breweries per country",
            "method": "update"
           },
           {
            "args": [
             {
              "visible": [
               false,
               false,
               false,
               false,
               false,
               false,
               true,
               true,
               false,
               false
              ]
             },
             {
              "title": "Number of ratings based on the brewery country"
             }
            ],
            "label": "Number of ratings based on the brewery country",
            "method": "update"
           },
           {
            "args": [
             {
              "visible": [
               false,
               false,
               false,
               false,
               false,
               false,
               false,
               false,
               true,
               true
              ]
             },
             {
              "title": "Number of ratings based on the reviewer country"
             }
            ],
            "label": "Number of ratings based on the reviewer country",
            "method": "update"
           }
          ],
          "direction": "down",
          "x": 0.1,
          "xanchor": "left",
          "y": 1,
          "yanchor": "top"
         }
        ],
        "width": 800
       }
      }
     },
     "metadata": {},
     "output_type": "display_data"
    }
   ],
   "source": [
    "# Plot the aggregated spatial data\n",
    "data_presentation.plot_spatial_data()"
   ]
  },
  {
   "cell_type": "code",
   "execution_count": 15,
   "metadata": {},
   "outputs": [
    {
     "data": {
      "application/vnd.plotly.v1+json": {
       "config": {
        "plotlyServerURL": "https://plot.ly"
       },
       "data": [
        {
         "name": "Beers",
         "type": "bar",
         "x": [
          "United States",
          "United Kingdom",
          "Canada",
          "Germany",
          "Denmark"
         ],
         "y": [
          143134,
          47274,
          17925,
          16582,
          7131
         ]
        },
        {
         "name": "Users",
         "type": "bar",
         "visible": false,
         "x": [
          "United States",
          "Canada",
          "United Kingdom",
          "Australia",
          "Poland"
         ],
         "y": [
          25717,
          3048,
          2941,
          1355,
          1288
         ]
        },
        {
         "name": "Breweries",
         "type": "bar",
         "visible": false,
         "x": [
          "United States",
          "United Kingdom",
          "Germany",
          "Italy",
          "Canada"
         ],
         "y": [
          5657,
          2175,
          1806,
          787,
          717
         ]
        },
        {
         "name": "Ratings by user country",
         "type": "bar",
         "visible": false,
         "x": [
          "United States",
          "Denmark",
          "United Kingdom",
          "Canada",
          "Sweden"
         ],
         "y": [
          2971041,
          546124,
          496158,
          490043,
          262688
         ]
        },
        {
         "name": "Ratings by brewery country",
         "type": "bar",
         "visible": false,
         "x": [
          "United States",
          "United Kingdom",
          "Belgium",
          "Germany",
          "Canada"
         ],
         "y": [
          2753329,
          696040,
          579251,
          455876,
          302556
         ]
        }
       ],
       "layout": {
        "barmode": "group",
        "height": 600,
        "paper_bgcolor": "rgb(255,255,255)",
        "plot_bgcolor": "rgb(255,255,255)",
        "template": {
         "data": {
          "bar": [
           {
            "error_x": {
             "color": "#2a3f5f"
            },
            "error_y": {
             "color": "#2a3f5f"
            },
            "marker": {
             "line": {
              "color": "#E5ECF6",
              "width": 0.5
             },
             "pattern": {
              "fillmode": "overlay",
              "size": 10,
              "solidity": 0.2
             }
            },
            "type": "bar"
           }
          ],
          "barpolar": [
           {
            "marker": {
             "line": {
              "color": "#E5ECF6",
              "width": 0.5
             },
             "pattern": {
              "fillmode": "overlay",
              "size": 10,
              "solidity": 0.2
             }
            },
            "type": "barpolar"
           }
          ],
          "carpet": [
           {
            "aaxis": {
             "endlinecolor": "#2a3f5f",
             "gridcolor": "white",
             "linecolor": "white",
             "minorgridcolor": "white",
             "startlinecolor": "#2a3f5f"
            },
            "baxis": {
             "endlinecolor": "#2a3f5f",
             "gridcolor": "white",
             "linecolor": "white",
             "minorgridcolor": "white",
             "startlinecolor": "#2a3f5f"
            },
            "type": "carpet"
           }
          ],
          "choropleth": [
           {
            "colorbar": {
             "outlinewidth": 0,
             "ticks": ""
            },
            "type": "choropleth"
           }
          ],
          "contour": [
           {
            "colorbar": {
             "outlinewidth": 0,
             "ticks": ""
            },
            "colorscale": [
             [
              0,
              "#0d0887"
             ],
             [
              0.1111111111111111,
              "#46039f"
             ],
             [
              0.2222222222222222,
              "#7201a8"
             ],
             [
              0.3333333333333333,
              "#9c179e"
             ],
             [
              0.4444444444444444,
              "#bd3786"
             ],
             [
              0.5555555555555556,
              "#d8576b"
             ],
             [
              0.6666666666666666,
              "#ed7953"
             ],
             [
              0.7777777777777778,
              "#fb9f3a"
             ],
             [
              0.8888888888888888,
              "#fdca26"
             ],
             [
              1,
              "#f0f921"
             ]
            ],
            "type": "contour"
           }
          ],
          "contourcarpet": [
           {
            "colorbar": {
             "outlinewidth": 0,
             "ticks": ""
            },
            "type": "contourcarpet"
           }
          ],
          "heatmap": [
           {
            "colorbar": {
             "outlinewidth": 0,
             "ticks": ""
            },
            "colorscale": [
             [
              0,
              "#0d0887"
             ],
             [
              0.1111111111111111,
              "#46039f"
             ],
             [
              0.2222222222222222,
              "#7201a8"
             ],
             [
              0.3333333333333333,
              "#9c179e"
             ],
             [
              0.4444444444444444,
              "#bd3786"
             ],
             [
              0.5555555555555556,
              "#d8576b"
             ],
             [
              0.6666666666666666,
              "#ed7953"
             ],
             [
              0.7777777777777778,
              "#fb9f3a"
             ],
             [
              0.8888888888888888,
              "#fdca26"
             ],
             [
              1,
              "#f0f921"
             ]
            ],
            "type": "heatmap"
           }
          ],
          "heatmapgl": [
           {
            "colorbar": {
             "outlinewidth": 0,
             "ticks": ""
            },
            "colorscale": [
             [
              0,
              "#0d0887"
             ],
             [
              0.1111111111111111,
              "#46039f"
             ],
             [
              0.2222222222222222,
              "#7201a8"
             ],
             [
              0.3333333333333333,
              "#9c179e"
             ],
             [
              0.4444444444444444,
              "#bd3786"
             ],
             [
              0.5555555555555556,
              "#d8576b"
             ],
             [
              0.6666666666666666,
              "#ed7953"
             ],
             [
              0.7777777777777778,
              "#fb9f3a"
             ],
             [
              0.8888888888888888,
              "#fdca26"
             ],
             [
              1,
              "#f0f921"
             ]
            ],
            "type": "heatmapgl"
           }
          ],
          "histogram": [
           {
            "marker": {
             "pattern": {
              "fillmode": "overlay",
              "size": 10,
              "solidity": 0.2
             }
            },
            "type": "histogram"
           }
          ],
          "histogram2d": [
           {
            "colorbar": {
             "outlinewidth": 0,
             "ticks": ""
            },
            "colorscale": [
             [
              0,
              "#0d0887"
             ],
             [
              0.1111111111111111,
              "#46039f"
             ],
             [
              0.2222222222222222,
              "#7201a8"
             ],
             [
              0.3333333333333333,
              "#9c179e"
             ],
             [
              0.4444444444444444,
              "#bd3786"
             ],
             [
              0.5555555555555556,
              "#d8576b"
             ],
             [
              0.6666666666666666,
              "#ed7953"
             ],
             [
              0.7777777777777778,
              "#fb9f3a"
             ],
             [
              0.8888888888888888,
              "#fdca26"
             ],
             [
              1,
              "#f0f921"
             ]
            ],
            "type": "histogram2d"
           }
          ],
          "histogram2dcontour": [
           {
            "colorbar": {
             "outlinewidth": 0,
             "ticks": ""
            },
            "colorscale": [
             [
              0,
              "#0d0887"
             ],
             [
              0.1111111111111111,
              "#46039f"
             ],
             [
              0.2222222222222222,
              "#7201a8"
             ],
             [
              0.3333333333333333,
              "#9c179e"
             ],
             [
              0.4444444444444444,
              "#bd3786"
             ],
             [
              0.5555555555555556,
              "#d8576b"
             ],
             [
              0.6666666666666666,
              "#ed7953"
             ],
             [
              0.7777777777777778,
              "#fb9f3a"
             ],
             [
              0.8888888888888888,
              "#fdca26"
             ],
             [
              1,
              "#f0f921"
             ]
            ],
            "type": "histogram2dcontour"
           }
          ],
          "mesh3d": [
           {
            "colorbar": {
             "outlinewidth": 0,
             "ticks": ""
            },
            "type": "mesh3d"
           }
          ],
          "parcoords": [
           {
            "line": {
             "colorbar": {
              "outlinewidth": 0,
              "ticks": ""
             }
            },
            "type": "parcoords"
           }
          ],
          "pie": [
           {
            "automargin": true,
            "type": "pie"
           }
          ],
          "scatter": [
           {
            "fillpattern": {
             "fillmode": "overlay",
             "size": 10,
             "solidity": 0.2
            },
            "type": "scatter"
           }
          ],
          "scatter3d": [
           {
            "line": {
             "colorbar": {
              "outlinewidth": 0,
              "ticks": ""
             }
            },
            "marker": {
             "colorbar": {
              "outlinewidth": 0,
              "ticks": ""
             }
            },
            "type": "scatter3d"
           }
          ],
          "scattercarpet": [
           {
            "marker": {
             "colorbar": {
              "outlinewidth": 0,
              "ticks": ""
             }
            },
            "type": "scattercarpet"
           }
          ],
          "scattergeo": [
           {
            "marker": {
             "colorbar": {
              "outlinewidth": 0,
              "ticks": ""
             }
            },
            "type": "scattergeo"
           }
          ],
          "scattergl": [
           {
            "marker": {
             "colorbar": {
              "outlinewidth": 0,
              "ticks": ""
             }
            },
            "type": "scattergl"
           }
          ],
          "scattermapbox": [
           {
            "marker": {
             "colorbar": {
              "outlinewidth": 0,
              "ticks": ""
             }
            },
            "type": "scattermapbox"
           }
          ],
          "scatterpolar": [
           {
            "marker": {
             "colorbar": {
              "outlinewidth": 0,
              "ticks": ""
             }
            },
            "type": "scatterpolar"
           }
          ],
          "scatterpolargl": [
           {
            "marker": {
             "colorbar": {
              "outlinewidth": 0,
              "ticks": ""
             }
            },
            "type": "scatterpolargl"
           }
          ],
          "scatterternary": [
           {
            "marker": {
             "colorbar": {
              "outlinewidth": 0,
              "ticks": ""
             }
            },
            "type": "scatterternary"
           }
          ],
          "surface": [
           {
            "colorbar": {
             "outlinewidth": 0,
             "ticks": ""
            },
            "colorscale": [
             [
              0,
              "#0d0887"
             ],
             [
              0.1111111111111111,
              "#46039f"
             ],
             [
              0.2222222222222222,
              "#7201a8"
             ],
             [
              0.3333333333333333,
              "#9c179e"
             ],
             [
              0.4444444444444444,
              "#bd3786"
             ],
             [
              0.5555555555555556,
              "#d8576b"
             ],
             [
              0.6666666666666666,
              "#ed7953"
             ],
             [
              0.7777777777777778,
              "#fb9f3a"
             ],
             [
              0.8888888888888888,
              "#fdca26"
             ],
             [
              1,
              "#f0f921"
             ]
            ],
            "type": "surface"
           }
          ],
          "table": [
           {
            "cells": {
             "fill": {
              "color": "#EBF0F8"
             },
             "line": {
              "color": "white"
             }
            },
            "header": {
             "fill": {
              "color": "#C8D4E3"
             },
             "line": {
              "color": "white"
             }
            },
            "type": "table"
           }
          ]
         },
         "layout": {
          "annotationdefaults": {
           "arrowcolor": "#2a3f5f",
           "arrowhead": 0,
           "arrowwidth": 1
          },
          "autotypenumbers": "strict",
          "coloraxis": {
           "colorbar": {
            "outlinewidth": 0,
            "ticks": ""
           }
          },
          "colorscale": {
           "diverging": [
            [
             0,
             "#8e0152"
            ],
            [
             0.1,
             "#c51b7d"
            ],
            [
             0.2,
             "#de77ae"
            ],
            [
             0.3,
             "#f1b6da"
            ],
            [
             0.4,
             "#fde0ef"
            ],
            [
             0.5,
             "#f7f7f7"
            ],
            [
             0.6,
             "#e6f5d0"
            ],
            [
             0.7,
             "#b8e186"
            ],
            [
             0.8,
             "#7fbc41"
            ],
            [
             0.9,
             "#4d9221"
            ],
            [
             1,
             "#276419"
            ]
           ],
           "sequential": [
            [
             0,
             "#0d0887"
            ],
            [
             0.1111111111111111,
             "#46039f"
            ],
            [
             0.2222222222222222,
             "#7201a8"
            ],
            [
             0.3333333333333333,
             "#9c179e"
            ],
            [
             0.4444444444444444,
             "#bd3786"
            ],
            [
             0.5555555555555556,
             "#d8576b"
            ],
            [
             0.6666666666666666,
             "#ed7953"
            ],
            [
             0.7777777777777778,
             "#fb9f3a"
            ],
            [
             0.8888888888888888,
             "#fdca26"
            ],
            [
             1,
             "#f0f921"
            ]
           ],
           "sequentialminus": [
            [
             0,
             "#0d0887"
            ],
            [
             0.1111111111111111,
             "#46039f"
            ],
            [
             0.2222222222222222,
             "#7201a8"
            ],
            [
             0.3333333333333333,
             "#9c179e"
            ],
            [
             0.4444444444444444,
             "#bd3786"
            ],
            [
             0.5555555555555556,
             "#d8576b"
            ],
            [
             0.6666666666666666,
             "#ed7953"
            ],
            [
             0.7777777777777778,
             "#fb9f3a"
            ],
            [
             0.8888888888888888,
             "#fdca26"
            ],
            [
             1,
             "#f0f921"
            ]
           ]
          },
          "colorway": [
           "#636efa",
           "#EF553B",
           "#00cc96",
           "#ab63fa",
           "#FFA15A",
           "#19d3f3",
           "#FF6692",
           "#B6E880",
           "#FF97FF",
           "#FECB52"
          ],
          "font": {
           "color": "#2a3f5f"
          },
          "geo": {
           "bgcolor": "white",
           "lakecolor": "white",
           "landcolor": "#E5ECF6",
           "showlakes": true,
           "showland": true,
           "subunitcolor": "white"
          },
          "hoverlabel": {
           "align": "left"
          },
          "hovermode": "closest",
          "mapbox": {
           "style": "light"
          },
          "paper_bgcolor": "white",
          "plot_bgcolor": "#E5ECF6",
          "polar": {
           "angularaxis": {
            "gridcolor": "white",
            "linecolor": "white",
            "ticks": ""
           },
           "bgcolor": "#E5ECF6",
           "radialaxis": {
            "gridcolor": "white",
            "linecolor": "white",
            "ticks": ""
           }
          },
          "scene": {
           "xaxis": {
            "backgroundcolor": "#E5ECF6",
            "gridcolor": "white",
            "gridwidth": 2,
            "linecolor": "white",
            "showbackground": true,
            "ticks": "",
            "zerolinecolor": "white"
           },
           "yaxis": {
            "backgroundcolor": "#E5ECF6",
            "gridcolor": "white",
            "gridwidth": 2,
            "linecolor": "white",
            "showbackground": true,
            "ticks": "",
            "zerolinecolor": "white"
           },
           "zaxis": {
            "backgroundcolor": "#E5ECF6",
            "gridcolor": "white",
            "gridwidth": 2,
            "linecolor": "white",
            "showbackground": true,
            "ticks": "",
            "zerolinecolor": "white"
           }
          },
          "shapedefaults": {
           "line": {
            "color": "#2a3f5f"
           }
          },
          "ternary": {
           "aaxis": {
            "gridcolor": "white",
            "linecolor": "white",
            "ticks": ""
           },
           "baxis": {
            "gridcolor": "white",
            "linecolor": "white",
            "ticks": ""
           },
           "bgcolor": "#E5ECF6",
           "caxis": {
            "gridcolor": "white",
            "linecolor": "white",
            "ticks": ""
           }
          },
          "title": {
           "x": 0.05
          },
          "xaxis": {
           "automargin": true,
           "gridcolor": "white",
           "linecolor": "white",
           "ticks": "",
           "title": {
            "standoff": 15
           },
           "zerolinecolor": "white",
           "zerolinewidth": 2
          },
          "yaxis": {
           "automargin": true,
           "gridcolor": "white",
           "linecolor": "white",
           "ticks": "",
           "title": {
            "standoff": 15
           },
           "zerolinecolor": "white",
           "zerolinewidth": 2
          }
         }
        },
        "title": {
         "text": "Top 5 countries with more beers",
         "x": 0.5
        },
        "updatemenus": [
         {
          "active": 0,
          "buttons": [
           {
            "args": [
             {
              "visible": [
               true,
               false,
               false,
               false,
               false
              ]
             },
             {
              "title": "Top 5 countries with more beers"
             }
            ],
            "label": "Top 5 countries with more beers",
            "method": "update"
           },
           {
            "args": [
             {
              "visible": [
               false,
               true,
               false,
               false,
               false
              ]
             },
             {
              "title": "Top 5 countries with more users"
             }
            ],
            "label": "Top 5 countries with more users",
            "method": "update"
           },
           {
            "args": [
             {
              "visible": [
               false,
               false,
               true,
               false,
               false
              ]
             },
             {
              "title": "Top 5 countries with more breweries"
             }
            ],
            "label": "Top 5 countries with more breweries",
            "method": "update"
           },
           {
            "args": [
             {
              "visible": [
               false,
               false,
               false,
               true,
               false
              ]
             },
             {
              "title": "Top 5 countries with more ratings based on the user country"
             }
            ],
            "label": "Top 5 countries with more ratings based on the user country",
            "method": "update"
           },
           {
            "args": [
             {
              "visible": [
               false,
               false,
               false,
               false,
               true
              ]
             },
             {
              "title": "Top 5 countries with more ratings based on the brewery country"
             }
            ],
            "label": "Top 5 countries with more ratings based on the brewery country",
            "method": "update"
           }
          ],
          "x": 0.7,
          "xanchor": "center",
          "y": 1.1,
          "yanchor": "top"
         }
        ],
        "width": 800
       }
      }
     },
     "metadata": {},
     "output_type": "display_data"
    }
   ],
   "source": [
    "# Plot the top 5 for each category\n",
    "data_presentation.plot_top_5()"
   ]
  },
  {
   "cell_type": "markdown",
   "metadata": {},
   "source": [
    "We see that most of the data are concentrated in the United States, Canada and European countries. The most active state in the United States is California. <br>\n",
    "We see that while we have data for South America, Asia and Oceania other than Austrialia in the other countries the quantity of data is quite low, probably due to the fact the website is US based. <br><br>\n",
    "From this we can see that the dataset is slightly biased towards Europe and United States even if it's quite representative of the world."
   ]
  },
  {
   "cell_type": "markdown",
   "metadata": {},
   "source": [
    "Finally let's review the temporal distribution of the data."
   ]
  },
  {
   "cell_type": "code",
   "execution_count": 16,
   "metadata": {},
   "outputs": [
    {
     "data": {
      "application/vnd.plotly.v1+json": {
       "config": {
        "plotlyServerURL": "https://plot.ly"
       },
       "data": [
        {
         "type": "bar",
         "x": [
          2002,
          2003,
          2004,
          2005,
          2006,
          2007,
          2008,
          2009,
          2010,
          2011,
          2012,
          2013,
          2014,
          2015,
          2016
         ],
         "y": [
          75906,
          111214,
          163646,
          215309,
          256556,
          351036,
          394001,
          400699,
          392147,
          450995,
          562080,
          677910,
          776557,
          806332,
          783000
         ]
        }
       ],
       "layout": {
        "height": 600,
        "paper_bgcolor": "rgb(255,255,255)",
        "plot_bgcolor": "rgb(255,255,255)",
        "template": {
         "data": {
          "bar": [
           {
            "error_x": {
             "color": "#2a3f5f"
            },
            "error_y": {
             "color": "#2a3f5f"
            },
            "marker": {
             "line": {
              "color": "#E5ECF6",
              "width": 0.5
             },
             "pattern": {
              "fillmode": "overlay",
              "size": 10,
              "solidity": 0.2
             }
            },
            "type": "bar"
           }
          ],
          "barpolar": [
           {
            "marker": {
             "line": {
              "color": "#E5ECF6",
              "width": 0.5
             },
             "pattern": {
              "fillmode": "overlay",
              "size": 10,
              "solidity": 0.2
             }
            },
            "type": "barpolar"
           }
          ],
          "carpet": [
           {
            "aaxis": {
             "endlinecolor": "#2a3f5f",
             "gridcolor": "white",
             "linecolor": "white",
             "minorgridcolor": "white",
             "startlinecolor": "#2a3f5f"
            },
            "baxis": {
             "endlinecolor": "#2a3f5f",
             "gridcolor": "white",
             "linecolor": "white",
             "minorgridcolor": "white",
             "startlinecolor": "#2a3f5f"
            },
            "type": "carpet"
           }
          ],
          "choropleth": [
           {
            "colorbar": {
             "outlinewidth": 0,
             "ticks": ""
            },
            "type": "choropleth"
           }
          ],
          "contour": [
           {
            "colorbar": {
             "outlinewidth": 0,
             "ticks": ""
            },
            "colorscale": [
             [
              0,
              "#0d0887"
             ],
             [
              0.1111111111111111,
              "#46039f"
             ],
             [
              0.2222222222222222,
              "#7201a8"
             ],
             [
              0.3333333333333333,
              "#9c179e"
             ],
             [
              0.4444444444444444,
              "#bd3786"
             ],
             [
              0.5555555555555556,
              "#d8576b"
             ],
             [
              0.6666666666666666,
              "#ed7953"
             ],
             [
              0.7777777777777778,
              "#fb9f3a"
             ],
             [
              0.8888888888888888,
              "#fdca26"
             ],
             [
              1,
              "#f0f921"
             ]
            ],
            "type": "contour"
           }
          ],
          "contourcarpet": [
           {
            "colorbar": {
             "outlinewidth": 0,
             "ticks": ""
            },
            "type": "contourcarpet"
           }
          ],
          "heatmap": [
           {
            "colorbar": {
             "outlinewidth": 0,
             "ticks": ""
            },
            "colorscale": [
             [
              0,
              "#0d0887"
             ],
             [
              0.1111111111111111,
              "#46039f"
             ],
             [
              0.2222222222222222,
              "#7201a8"
             ],
             [
              0.3333333333333333,
              "#9c179e"
             ],
             [
              0.4444444444444444,
              "#bd3786"
             ],
             [
              0.5555555555555556,
              "#d8576b"
             ],
             [
              0.6666666666666666,
              "#ed7953"
             ],
             [
              0.7777777777777778,
              "#fb9f3a"
             ],
             [
              0.8888888888888888,
              "#fdca26"
             ],
             [
              1,
              "#f0f921"
             ]
            ],
            "type": "heatmap"
           }
          ],
          "heatmapgl": [
           {
            "colorbar": {
             "outlinewidth": 0,
             "ticks": ""
            },
            "colorscale": [
             [
              0,
              "#0d0887"
             ],
             [
              0.1111111111111111,
              "#46039f"
             ],
             [
              0.2222222222222222,
              "#7201a8"
             ],
             [
              0.3333333333333333,
              "#9c179e"
             ],
             [
              0.4444444444444444,
              "#bd3786"
             ],
             [
              0.5555555555555556,
              "#d8576b"
             ],
             [
              0.6666666666666666,
              "#ed7953"
             ],
             [
              0.7777777777777778,
              "#fb9f3a"
             ],
             [
              0.8888888888888888,
              "#fdca26"
             ],
             [
              1,
              "#f0f921"
             ]
            ],
            "type": "heatmapgl"
           }
          ],
          "histogram": [
           {
            "marker": {
             "pattern": {
              "fillmode": "overlay",
              "size": 10,
              "solidity": 0.2
             }
            },
            "type": "histogram"
           }
          ],
          "histogram2d": [
           {
            "colorbar": {
             "outlinewidth": 0,
             "ticks": ""
            },
            "colorscale": [
             [
              0,
              "#0d0887"
             ],
             [
              0.1111111111111111,
              "#46039f"
             ],
             [
              0.2222222222222222,
              "#7201a8"
             ],
             [
              0.3333333333333333,
              "#9c179e"
             ],
             [
              0.4444444444444444,
              "#bd3786"
             ],
             [
              0.5555555555555556,
              "#d8576b"
             ],
             [
              0.6666666666666666,
              "#ed7953"
             ],
             [
              0.7777777777777778,
              "#fb9f3a"
             ],
             [
              0.8888888888888888,
              "#fdca26"
             ],
             [
              1,
              "#f0f921"
             ]
            ],
            "type": "histogram2d"
           }
          ],
          "histogram2dcontour": [
           {
            "colorbar": {
             "outlinewidth": 0,
             "ticks": ""
            },
            "colorscale": [
             [
              0,
              "#0d0887"
             ],
             [
              0.1111111111111111,
              "#46039f"
             ],
             [
              0.2222222222222222,
              "#7201a8"
             ],
             [
              0.3333333333333333,
              "#9c179e"
             ],
             [
              0.4444444444444444,
              "#bd3786"
             ],
             [
              0.5555555555555556,
              "#d8576b"
             ],
             [
              0.6666666666666666,
              "#ed7953"
             ],
             [
              0.7777777777777778,
              "#fb9f3a"
             ],
             [
              0.8888888888888888,
              "#fdca26"
             ],
             [
              1,
              "#f0f921"
             ]
            ],
            "type": "histogram2dcontour"
           }
          ],
          "mesh3d": [
           {
            "colorbar": {
             "outlinewidth": 0,
             "ticks": ""
            },
            "type": "mesh3d"
           }
          ],
          "parcoords": [
           {
            "line": {
             "colorbar": {
              "outlinewidth": 0,
              "ticks": ""
             }
            },
            "type": "parcoords"
           }
          ],
          "pie": [
           {
            "automargin": true,
            "type": "pie"
           }
          ],
          "scatter": [
           {
            "fillpattern": {
             "fillmode": "overlay",
             "size": 10,
             "solidity": 0.2
            },
            "type": "scatter"
           }
          ],
          "scatter3d": [
           {
            "line": {
             "colorbar": {
              "outlinewidth": 0,
              "ticks": ""
             }
            },
            "marker": {
             "colorbar": {
              "outlinewidth": 0,
              "ticks": ""
             }
            },
            "type": "scatter3d"
           }
          ],
          "scattercarpet": [
           {
            "marker": {
             "colorbar": {
              "outlinewidth": 0,
              "ticks": ""
             }
            },
            "type": "scattercarpet"
           }
          ],
          "scattergeo": [
           {
            "marker": {
             "colorbar": {
              "outlinewidth": 0,
              "ticks": ""
             }
            },
            "type": "scattergeo"
           }
          ],
          "scattergl": [
           {
            "marker": {
             "colorbar": {
              "outlinewidth": 0,
              "ticks": ""
             }
            },
            "type": "scattergl"
           }
          ],
          "scattermapbox": [
           {
            "marker": {
             "colorbar": {
              "outlinewidth": 0,
              "ticks": ""
             }
            },
            "type": "scattermapbox"
           }
          ],
          "scatterpolar": [
           {
            "marker": {
             "colorbar": {
              "outlinewidth": 0,
              "ticks": ""
             }
            },
            "type": "scatterpolar"
           }
          ],
          "scatterpolargl": [
           {
            "marker": {
             "colorbar": {
              "outlinewidth": 0,
              "ticks": ""
             }
            },
            "type": "scatterpolargl"
           }
          ],
          "scatterternary": [
           {
            "marker": {
             "colorbar": {
              "outlinewidth": 0,
              "ticks": ""
             }
            },
            "type": "scatterternary"
           }
          ],
          "surface": [
           {
            "colorbar": {
             "outlinewidth": 0,
             "ticks": ""
            },
            "colorscale": [
             [
              0,
              "#0d0887"
             ],
             [
              0.1111111111111111,
              "#46039f"
             ],
             [
              0.2222222222222222,
              "#7201a8"
             ],
             [
              0.3333333333333333,
              "#9c179e"
             ],
             [
              0.4444444444444444,
              "#bd3786"
             ],
             [
              0.5555555555555556,
              "#d8576b"
             ],
             [
              0.6666666666666666,
              "#ed7953"
             ],
             [
              0.7777777777777778,
              "#fb9f3a"
             ],
             [
              0.8888888888888888,
              "#fdca26"
             ],
             [
              1,
              "#f0f921"
             ]
            ],
            "type": "surface"
           }
          ],
          "table": [
           {
            "cells": {
             "fill": {
              "color": "#EBF0F8"
             },
             "line": {
              "color": "white"
             }
            },
            "header": {
             "fill": {
              "color": "#C8D4E3"
             },
             "line": {
              "color": "white"
             }
            },
            "type": "table"
           }
          ]
         },
         "layout": {
          "annotationdefaults": {
           "arrowcolor": "#2a3f5f",
           "arrowhead": 0,
           "arrowwidth": 1
          },
          "autotypenumbers": "strict",
          "coloraxis": {
           "colorbar": {
            "outlinewidth": 0,
            "ticks": ""
           }
          },
          "colorscale": {
           "diverging": [
            [
             0,
             "#8e0152"
            ],
            [
             0.1,
             "#c51b7d"
            ],
            [
             0.2,
             "#de77ae"
            ],
            [
             0.3,
             "#f1b6da"
            ],
            [
             0.4,
             "#fde0ef"
            ],
            [
             0.5,
             "#f7f7f7"
            ],
            [
             0.6,
             "#e6f5d0"
            ],
            [
             0.7,
             "#b8e186"
            ],
            [
             0.8,
             "#7fbc41"
            ],
            [
             0.9,
             "#4d9221"
            ],
            [
             1,
             "#276419"
            ]
           ],
           "sequential": [
            [
             0,
             "#0d0887"
            ],
            [
             0.1111111111111111,
             "#46039f"
            ],
            [
             0.2222222222222222,
             "#7201a8"
            ],
            [
             0.3333333333333333,
             "#9c179e"
            ],
            [
             0.4444444444444444,
             "#bd3786"
            ],
            [
             0.5555555555555556,
             "#d8576b"
            ],
            [
             0.6666666666666666,
             "#ed7953"
            ],
            [
             0.7777777777777778,
             "#fb9f3a"
            ],
            [
             0.8888888888888888,
             "#fdca26"
            ],
            [
             1,
             "#f0f921"
            ]
           ],
           "sequentialminus": [
            [
             0,
             "#0d0887"
            ],
            [
             0.1111111111111111,
             "#46039f"
            ],
            [
             0.2222222222222222,
             "#7201a8"
            ],
            [
             0.3333333333333333,
             "#9c179e"
            ],
            [
             0.4444444444444444,
             "#bd3786"
            ],
            [
             0.5555555555555556,
             "#d8576b"
            ],
            [
             0.6666666666666666,
             "#ed7953"
            ],
            [
             0.7777777777777778,
             "#fb9f3a"
            ],
            [
             0.8888888888888888,
             "#fdca26"
            ],
            [
             1,
             "#f0f921"
            ]
           ]
          },
          "colorway": [
           "#636efa",
           "#EF553B",
           "#00cc96",
           "#ab63fa",
           "#FFA15A",
           "#19d3f3",
           "#FF6692",
           "#B6E880",
           "#FF97FF",
           "#FECB52"
          ],
          "font": {
           "color": "#2a3f5f"
          },
          "geo": {
           "bgcolor": "white",
           "lakecolor": "white",
           "landcolor": "#E5ECF6",
           "showlakes": true,
           "showland": true,
           "subunitcolor": "white"
          },
          "hoverlabel": {
           "align": "left"
          },
          "hovermode": "closest",
          "mapbox": {
           "style": "light"
          },
          "paper_bgcolor": "white",
          "plot_bgcolor": "#E5ECF6",
          "polar": {
           "angularaxis": {
            "gridcolor": "white",
            "linecolor": "white",
            "ticks": ""
           },
           "bgcolor": "#E5ECF6",
           "radialaxis": {
            "gridcolor": "white",
            "linecolor": "white",
            "ticks": ""
           }
          },
          "scene": {
           "xaxis": {
            "backgroundcolor": "#E5ECF6",
            "gridcolor": "white",
            "gridwidth": 2,
            "linecolor": "white",
            "showbackground": true,
            "ticks": "",
            "zerolinecolor": "white"
           },
           "yaxis": {
            "backgroundcolor": "#E5ECF6",
            "gridcolor": "white",
            "gridwidth": 2,
            "linecolor": "white",
            "showbackground": true,
            "ticks": "",
            "zerolinecolor": "white"
           },
           "zaxis": {
            "backgroundcolor": "#E5ECF6",
            "gridcolor": "white",
            "gridwidth": 2,
            "linecolor": "white",
            "showbackground": true,
            "ticks": "",
            "zerolinecolor": "white"
           }
          },
          "shapedefaults": {
           "line": {
            "color": "#2a3f5f"
           }
          },
          "ternary": {
           "aaxis": {
            "gridcolor": "white",
            "linecolor": "white",
            "ticks": ""
           },
           "baxis": {
            "gridcolor": "white",
            "linecolor": "white",
            "ticks": ""
           },
           "bgcolor": "#E5ECF6",
           "caxis": {
            "gridcolor": "white",
            "linecolor": "white",
            "ticks": ""
           }
          },
          "title": {
           "x": 0.05
          },
          "xaxis": {
           "automargin": true,
           "gridcolor": "white",
           "linecolor": "white",
           "ticks": "",
           "title": {
            "standoff": 15
           },
           "zerolinecolor": "white",
           "zerolinewidth": 2
          },
          "yaxis": {
           "automargin": true,
           "gridcolor": "white",
           "linecolor": "white",
           "ticks": "",
           "title": {
            "standoff": 15
           },
           "zerolinecolor": "white",
           "zerolinewidth": 2
          }
         }
        },
        "title": {
         "text": "Number of ratings over time",
         "x": 0.5
        },
        "width": 800,
        "xaxis": {
         "title": {
          "text": "Year"
         }
        },
        "yaxis": {
         "title": {
          "text": "Number of ratings"
         }
        }
       }
      }
     },
     "metadata": {},
     "output_type": "display_data"
    }
   ],
   "source": [
    "# Plot the number of ratings over time\n",
    "data_presentation.plot_number_of_ratings_over_time()"
   ]
  },
  {
   "cell_type": "code",
   "execution_count": 17,
   "metadata": {},
   "outputs": [
    {
     "data": {
      "application/vnd.plotly.v1+json": {
       "config": {
        "plotlyServerURL": "https://plot.ly"
       },
       "data": [
        {
         "type": "bar",
         "x": [
          2002,
          2003,
          2004,
          2005,
          2006,
          2007,
          2008,
          2009,
          2010,
          2011,
          2012,
          2013,
          2014,
          2015,
          2016,
          2017
         ],
         "y": [
          1403,
          1064,
          1738,
          2283,
          2726,
          3231,
          3148,
          2458,
          2477,
          3218,
          5888,
          5425,
          4774,
          3934,
          2812,
          1
         ]
        }
       ],
       "layout": {
        "height": 600,
        "paper_bgcolor": "rgb(255,255,255)",
        "plot_bgcolor": "rgb(255,255,255)",
        "template": {
         "data": {
          "bar": [
           {
            "error_x": {
             "color": "#2a3f5f"
            },
            "error_y": {
             "color": "#2a3f5f"
            },
            "marker": {
             "line": {
              "color": "#E5ECF6",
              "width": 0.5
             },
             "pattern": {
              "fillmode": "overlay",
              "size": 10,
              "solidity": 0.2
             }
            },
            "type": "bar"
           }
          ],
          "barpolar": [
           {
            "marker": {
             "line": {
              "color": "#E5ECF6",
              "width": 0.5
             },
             "pattern": {
              "fillmode": "overlay",
              "size": 10,
              "solidity": 0.2
             }
            },
            "type": "barpolar"
           }
          ],
          "carpet": [
           {
            "aaxis": {
             "endlinecolor": "#2a3f5f",
             "gridcolor": "white",
             "linecolor": "white",
             "minorgridcolor": "white",
             "startlinecolor": "#2a3f5f"
            },
            "baxis": {
             "endlinecolor": "#2a3f5f",
             "gridcolor": "white",
             "linecolor": "white",
             "minorgridcolor": "white",
             "startlinecolor": "#2a3f5f"
            },
            "type": "carpet"
           }
          ],
          "choropleth": [
           {
            "colorbar": {
             "outlinewidth": 0,
             "ticks": ""
            },
            "type": "choropleth"
           }
          ],
          "contour": [
           {
            "colorbar": {
             "outlinewidth": 0,
             "ticks": ""
            },
            "colorscale": [
             [
              0,
              "#0d0887"
             ],
             [
              0.1111111111111111,
              "#46039f"
             ],
             [
              0.2222222222222222,
              "#7201a8"
             ],
             [
              0.3333333333333333,
              "#9c179e"
             ],
             [
              0.4444444444444444,
              "#bd3786"
             ],
             [
              0.5555555555555556,
              "#d8576b"
             ],
             [
              0.6666666666666666,
              "#ed7953"
             ],
             [
              0.7777777777777778,
              "#fb9f3a"
             ],
             [
              0.8888888888888888,
              "#fdca26"
             ],
             [
              1,
              "#f0f921"
             ]
            ],
            "type": "contour"
           }
          ],
          "contourcarpet": [
           {
            "colorbar": {
             "outlinewidth": 0,
             "ticks": ""
            },
            "type": "contourcarpet"
           }
          ],
          "heatmap": [
           {
            "colorbar": {
             "outlinewidth": 0,
             "ticks": ""
            },
            "colorscale": [
             [
              0,
              "#0d0887"
             ],
             [
              0.1111111111111111,
              "#46039f"
             ],
             [
              0.2222222222222222,
              "#7201a8"
             ],
             [
              0.3333333333333333,
              "#9c179e"
             ],
             [
              0.4444444444444444,
              "#bd3786"
             ],
             [
              0.5555555555555556,
              "#d8576b"
             ],
             [
              0.6666666666666666,
              "#ed7953"
             ],
             [
              0.7777777777777778,
              "#fb9f3a"
             ],
             [
              0.8888888888888888,
              "#fdca26"
             ],
             [
              1,
              "#f0f921"
             ]
            ],
            "type": "heatmap"
           }
          ],
          "heatmapgl": [
           {
            "colorbar": {
             "outlinewidth": 0,
             "ticks": ""
            },
            "colorscale": [
             [
              0,
              "#0d0887"
             ],
             [
              0.1111111111111111,
              "#46039f"
             ],
             [
              0.2222222222222222,
              "#7201a8"
             ],
             [
              0.3333333333333333,
              "#9c179e"
             ],
             [
              0.4444444444444444,
              "#bd3786"
             ],
             [
              0.5555555555555556,
              "#d8576b"
             ],
             [
              0.6666666666666666,
              "#ed7953"
             ],
             [
              0.7777777777777778,
              "#fb9f3a"
             ],
             [
              0.8888888888888888,
              "#fdca26"
             ],
             [
              1,
              "#f0f921"
             ]
            ],
            "type": "heatmapgl"
           }
          ],
          "histogram": [
           {
            "marker": {
             "pattern": {
              "fillmode": "overlay",
              "size": 10,
              "solidity": 0.2
             }
            },
            "type": "histogram"
           }
          ],
          "histogram2d": [
           {
            "colorbar": {
             "outlinewidth": 0,
             "ticks": ""
            },
            "colorscale": [
             [
              0,
              "#0d0887"
             ],
             [
              0.1111111111111111,
              "#46039f"
             ],
             [
              0.2222222222222222,
              "#7201a8"
             ],
             [
              0.3333333333333333,
              "#9c179e"
             ],
             [
              0.4444444444444444,
              "#bd3786"
             ],
             [
              0.5555555555555556,
              "#d8576b"
             ],
             [
              0.6666666666666666,
              "#ed7953"
             ],
             [
              0.7777777777777778,
              "#fb9f3a"
             ],
             [
              0.8888888888888888,
              "#fdca26"
             ],
             [
              1,
              "#f0f921"
             ]
            ],
            "type": "histogram2d"
           }
          ],
          "histogram2dcontour": [
           {
            "colorbar": {
             "outlinewidth": 0,
             "ticks": ""
            },
            "colorscale": [
             [
              0,
              "#0d0887"
             ],
             [
              0.1111111111111111,
              "#46039f"
             ],
             [
              0.2222222222222222,
              "#7201a8"
             ],
             [
              0.3333333333333333,
              "#9c179e"
             ],
             [
              0.4444444444444444,
              "#bd3786"
             ],
             [
              0.5555555555555556,
              "#d8576b"
             ],
             [
              0.6666666666666666,
              "#ed7953"
             ],
             [
              0.7777777777777778,
              "#fb9f3a"
             ],
             [
              0.8888888888888888,
              "#fdca26"
             ],
             [
              1,
              "#f0f921"
             ]
            ],
            "type": "histogram2dcontour"
           }
          ],
          "mesh3d": [
           {
            "colorbar": {
             "outlinewidth": 0,
             "ticks": ""
            },
            "type": "mesh3d"
           }
          ],
          "parcoords": [
           {
            "line": {
             "colorbar": {
              "outlinewidth": 0,
              "ticks": ""
             }
            },
            "type": "parcoords"
           }
          ],
          "pie": [
           {
            "automargin": true,
            "type": "pie"
           }
          ],
          "scatter": [
           {
            "fillpattern": {
             "fillmode": "overlay",
             "size": 10,
             "solidity": 0.2
            },
            "type": "scatter"
           }
          ],
          "scatter3d": [
           {
            "line": {
             "colorbar": {
              "outlinewidth": 0,
              "ticks": ""
             }
            },
            "marker": {
             "colorbar": {
              "outlinewidth": 0,
              "ticks": ""
             }
            },
            "type": "scatter3d"
           }
          ],
          "scattercarpet": [
           {
            "marker": {
             "colorbar": {
              "outlinewidth": 0,
              "ticks": ""
             }
            },
            "type": "scattercarpet"
           }
          ],
          "scattergeo": [
           {
            "marker": {
             "colorbar": {
              "outlinewidth": 0,
              "ticks": ""
             }
            },
            "type": "scattergeo"
           }
          ],
          "scattergl": [
           {
            "marker": {
             "colorbar": {
              "outlinewidth": 0,
              "ticks": ""
             }
            },
            "type": "scattergl"
           }
          ],
          "scattermapbox": [
           {
            "marker": {
             "colorbar": {
              "outlinewidth": 0,
              "ticks": ""
             }
            },
            "type": "scattermapbox"
           }
          ],
          "scatterpolar": [
           {
            "marker": {
             "colorbar": {
              "outlinewidth": 0,
              "ticks": ""
             }
            },
            "type": "scatterpolar"
           }
          ],
          "scatterpolargl": [
           {
            "marker": {
             "colorbar": {
              "outlinewidth": 0,
              "ticks": ""
             }
            },
            "type": "scatterpolargl"
           }
          ],
          "scatterternary": [
           {
            "marker": {
             "colorbar": {
              "outlinewidth": 0,
              "ticks": ""
             }
            },
            "type": "scatterternary"
           }
          ],
          "surface": [
           {
            "colorbar": {
             "outlinewidth": 0,
             "ticks": ""
            },
            "colorscale": [
             [
              0,
              "#0d0887"
             ],
             [
              0.1111111111111111,
              "#46039f"
             ],
             [
              0.2222222222222222,
              "#7201a8"
             ],
             [
              0.3333333333333333,
              "#9c179e"
             ],
             [
              0.4444444444444444,
              "#bd3786"
             ],
             [
              0.5555555555555556,
              "#d8576b"
             ],
             [
              0.6666666666666666,
              "#ed7953"
             ],
             [
              0.7777777777777778,
              "#fb9f3a"
             ],
             [
              0.8888888888888888,
              "#fdca26"
             ],
             [
              1,
              "#f0f921"
             ]
            ],
            "type": "surface"
           }
          ],
          "table": [
           {
            "cells": {
             "fill": {
              "color": "#EBF0F8"
             },
             "line": {
              "color": "white"
             }
            },
            "header": {
             "fill": {
              "color": "#C8D4E3"
             },
             "line": {
              "color": "white"
             }
            },
            "type": "table"
           }
          ]
         },
         "layout": {
          "annotationdefaults": {
           "arrowcolor": "#2a3f5f",
           "arrowhead": 0,
           "arrowwidth": 1
          },
          "autotypenumbers": "strict",
          "coloraxis": {
           "colorbar": {
            "outlinewidth": 0,
            "ticks": ""
           }
          },
          "colorscale": {
           "diverging": [
            [
             0,
             "#8e0152"
            ],
            [
             0.1,
             "#c51b7d"
            ],
            [
             0.2,
             "#de77ae"
            ],
            [
             0.3,
             "#f1b6da"
            ],
            [
             0.4,
             "#fde0ef"
            ],
            [
             0.5,
             "#f7f7f7"
            ],
            [
             0.6,
             "#e6f5d0"
            ],
            [
             0.7,
             "#b8e186"
            ],
            [
             0.8,
             "#7fbc41"
            ],
            [
             0.9,
             "#4d9221"
            ],
            [
             1,
             "#276419"
            ]
           ],
           "sequential": [
            [
             0,
             "#0d0887"
            ],
            [
             0.1111111111111111,
             "#46039f"
            ],
            [
             0.2222222222222222,
             "#7201a8"
            ],
            [
             0.3333333333333333,
             "#9c179e"
            ],
            [
             0.4444444444444444,
             "#bd3786"
            ],
            [
             0.5555555555555556,
             "#d8576b"
            ],
            [
             0.6666666666666666,
             "#ed7953"
            ],
            [
             0.7777777777777778,
             "#fb9f3a"
            ],
            [
             0.8888888888888888,
             "#fdca26"
            ],
            [
             1,
             "#f0f921"
            ]
           ],
           "sequentialminus": [
            [
             0,
             "#0d0887"
            ],
            [
             0.1111111111111111,
             "#46039f"
            ],
            [
             0.2222222222222222,
             "#7201a8"
            ],
            [
             0.3333333333333333,
             "#9c179e"
            ],
            [
             0.4444444444444444,
             "#bd3786"
            ],
            [
             0.5555555555555556,
             "#d8576b"
            ],
            [
             0.6666666666666666,
             "#ed7953"
            ],
            [
             0.7777777777777778,
             "#fb9f3a"
            ],
            [
             0.8888888888888888,
             "#fdca26"
            ],
            [
             1,
             "#f0f921"
            ]
           ]
          },
          "colorway": [
           "#636efa",
           "#EF553B",
           "#00cc96",
           "#ab63fa",
           "#FFA15A",
           "#19d3f3",
           "#FF6692",
           "#B6E880",
           "#FF97FF",
           "#FECB52"
          ],
          "font": {
           "color": "#2a3f5f"
          },
          "geo": {
           "bgcolor": "white",
           "lakecolor": "white",
           "landcolor": "#E5ECF6",
           "showlakes": true,
           "showland": true,
           "subunitcolor": "white"
          },
          "hoverlabel": {
           "align": "left"
          },
          "hovermode": "closest",
          "mapbox": {
           "style": "light"
          },
          "paper_bgcolor": "white",
          "plot_bgcolor": "#E5ECF6",
          "polar": {
           "angularaxis": {
            "gridcolor": "white",
            "linecolor": "white",
            "ticks": ""
           },
           "bgcolor": "#E5ECF6",
           "radialaxis": {
            "gridcolor": "white",
            "linecolor": "white",
            "ticks": ""
           }
          },
          "scene": {
           "xaxis": {
            "backgroundcolor": "#E5ECF6",
            "gridcolor": "white",
            "gridwidth": 2,
            "linecolor": "white",
            "showbackground": true,
            "ticks": "",
            "zerolinecolor": "white"
           },
           "yaxis": {
            "backgroundcolor": "#E5ECF6",
            "gridcolor": "white",
            "gridwidth": 2,
            "linecolor": "white",
            "showbackground": true,
            "ticks": "",
            "zerolinecolor": "white"
           },
           "zaxis": {
            "backgroundcolor": "#E5ECF6",
            "gridcolor": "white",
            "gridwidth": 2,
            "linecolor": "white",
            "showbackground": true,
            "ticks": "",
            "zerolinecolor": "white"
           }
          },
          "shapedefaults": {
           "line": {
            "color": "#2a3f5f"
           }
          },
          "ternary": {
           "aaxis": {
            "gridcolor": "white",
            "linecolor": "white",
            "ticks": ""
           },
           "baxis": {
            "gridcolor": "white",
            "linecolor": "white",
            "ticks": ""
           },
           "bgcolor": "#E5ECF6",
           "caxis": {
            "gridcolor": "white",
            "linecolor": "white",
            "ticks": ""
           }
          },
          "title": {
           "x": 0.05
          },
          "xaxis": {
           "automargin": true,
           "gridcolor": "white",
           "linecolor": "white",
           "ticks": "",
           "title": {
            "standoff": 15
           },
           "zerolinecolor": "white",
           "zerolinewidth": 2
          },
          "yaxis": {
           "automargin": true,
           "gridcolor": "white",
           "linecolor": "white",
           "ticks": "",
           "title": {
            "standoff": 15
           },
           "zerolinecolor": "white",
           "zerolinewidth": 2
          }
         }
        },
        "title": {
         "text": "Number of new users over time",
         "x": 0.5
        },
        "width": 800,
        "xaxis": {
         "title": {
          "text": "Year"
         }
        },
        "yaxis": {
         "title": {
          "text": "Number of users"
         }
        }
       }
      }
     },
     "metadata": {},
     "output_type": "display_data"
    }
   ],
   "source": [
    "# Plot the number of users that have joined the platform over time\n",
    "data_presentation.plot_number_of_users_over_time()"
   ]
  },
  {
   "cell_type": "markdown",
   "metadata": {},
   "source": [
    "We see that the number of ratings peak in 2015 while the number of new users peak in 2012 with a decline after that year."
   ]
  },
  {
   "cell_type": "markdown",
   "metadata": {},
   "source": [
    "## Global analysis\n",
    "After studing which data are available, how they are distributed geographically and temporally we can start to analyze them. Here we are going to study popularity generally, without focusing on specific factors (as we'll do later in the next sections).\n",
    "### General study of the distribution of the ratings\n",
    "First of all we are going to study how the grades are distributed in the different categories."
   ]
  },
  {
   "cell_type": "code",
   "execution_count": 18,
   "metadata": {},
   "outputs": [],
   "source": [
    "# Include all the code needed for the global ratings analysis\n",
    "from src.processing import global_analysis as gp\n",
    "global_analysis = gp.GlobalAnalysis(df_beers, df_breweries, df_users, df_ratings_no_text, SAVING_FOLDER + 'global_analysis/')"
   ]
  },
  {
   "cell_type": "code",
   "execution_count": 19,
   "metadata": {},
   "outputs": [
    {
     "data": {
      "application/vnd.plotly.v1+json": {
       "config": {
        "plotlyServerURL": "https://plot.ly"
       },
       "data": [
        {
         "name": "mouthfeel",
         "type": "bar",
         "x": [
          1,
          2,
          3,
          4,
          5
         ],
         "xaxis": "x",
         "y": [
          115219,
          739017,
          3127647,
          2141314,
          294191
         ],
         "yaxis": "y"
        },
        {
         "name": "taste",
         "type": "bar",
         "x": [
          1,
          2,
          3,
          4,
          5,
          6,
          7,
          8,
          9,
          10
         ],
         "xaxis": "x2",
         "y": [
          39800,
          86522,
          183350,
          343980,
          707650,
          1447604,
          2058466,
          1210767,
          282532,
          56717
         ],
         "yaxis": "y2"
        },
        {
         "name": "appearance",
         "type": "bar",
         "x": [
          1,
          2,
          3,
          4,
          5
         ],
         "xaxis": "x3",
         "y": [
          67313,
          474952,
          2936476,
          2499895,
          438752
         ],
         "yaxis": "y3"
        },
        {
         "name": "aroma",
         "type": "bar",
         "x": [
          1,
          2,
          3,
          4,
          5,
          6,
          7,
          8,
          9,
          10
         ],
         "xaxis": "x4",
         "y": [
          43146,
          91891,
          198237,
          356182,
          737770,
          1545675,
          2042898,
          1098293,
          249955,
          53341
         ],
         "yaxis": "y4"
        },
        {
         "name": "overall",
         "type": "bar",
         "x": [
          1,
          2,
          3,
          4,
          5,
          6,
          7,
          8,
          9,
          10,
          11,
          12,
          13,
          14,
          15,
          16,
          17,
          18,
          19,
          20
         ],
         "xaxis": "x5",
         "y": [
          20628,
          23508,
          32283,
          43196,
          64958,
          81455,
          108870,
          170012,
          189266,
          344826,
          403253,
          682448,
          859123,
          1021733,
          978083,
          700151,
          414693,
          198610,
          57941,
          22351
         ],
         "yaxis": "y5"
        },
        {
         "name": "rating",
         "type": "bar",
         "x": [
          0.5,
          0.6,
          0.7,
          0.8,
          0.9,
          1,
          1.1,
          1.2,
          1.3,
          1.4,
          1.5,
          1.6,
          1.7,
          1.8,
          1.9,
          2,
          2.1,
          2.2,
          2.3,
          2.4,
          2.5,
          2.6,
          2.7,
          2.8,
          2.9,
          3,
          3.1,
          3.2,
          3.3,
          3.4,
          3.5,
          3.6,
          3.7,
          3.8,
          3.9,
          4,
          4.1,
          4.2,
          4.3,
          4.4,
          4.5,
          4.6,
          4.7,
          4.8,
          4.9,
          5
         ],
         "xaxis": "x6",
         "y": [
          10953,
          4733,
          6128,
          7819,
          9988,
          15040,
          14037,
          16887,
          19354,
          22613,
          29469,
          32540,
          36919,
          43679,
          50418,
          67384,
          64210,
          76719,
          84144,
          101462,
          121640,
          153289,
          164754,
          205221,
          237246,
          340912,
          329948,
          388389,
          416406,
          474243,
          477624,
          453962,
          428870,
          379929,
          300156,
          266830,
          173438,
          130567,
          87805,
          58261,
          41953,
          25797,
          17710,
          11261,
          5250,
          11431
         ],
         "yaxis": "y6"
        }
       ],
       "layout": {
        "annotations": [
         {
          "font": {
           "size": 16
          },
          "showarrow": false,
          "text": "Mouthfeel",
          "x": 0.14444444444444446,
          "xanchor": "center",
          "xref": "paper",
          "y": 1,
          "yanchor": "bottom",
          "yref": "paper"
         },
         {
          "font": {
           "size": 16
          },
          "showarrow": false,
          "text": "Taste",
          "x": 0.5,
          "xanchor": "center",
          "xref": "paper",
          "y": 1,
          "yanchor": "bottom",
          "yref": "paper"
         },
         {
          "font": {
           "size": 16
          },
          "showarrow": false,
          "text": "Appearance",
          "x": 0.8555555555555556,
          "xanchor": "center",
          "xref": "paper",
          "y": 1,
          "yanchor": "bottom",
          "yref": "paper"
         },
         {
          "font": {
           "size": 16
          },
          "showarrow": false,
          "text": "Aroma",
          "x": 0.14444444444444446,
          "xanchor": "center",
          "xref": "paper",
          "y": 0.375,
          "yanchor": "bottom",
          "yref": "paper"
         },
         {
          "font": {
           "size": 16
          },
          "showarrow": false,
          "text": "Overall",
          "x": 0.5,
          "xanchor": "center",
          "xref": "paper",
          "y": 0.375,
          "yanchor": "bottom",
          "yref": "paper"
         },
         {
          "font": {
           "size": 16
          },
          "showarrow": false,
          "text": "Rating",
          "x": 0.8555555555555556,
          "xanchor": "center",
          "xref": "paper",
          "y": 0.375,
          "yanchor": "bottom",
          "yref": "paper"
         }
        ],
        "height": 600,
        "paper_bgcolor": "rgb(255,255,255)",
        "plot_bgcolor": "rgb(255,255,255)",
        "template": {
         "data": {
          "bar": [
           {
            "error_x": {
             "color": "#2a3f5f"
            },
            "error_y": {
             "color": "#2a3f5f"
            },
            "marker": {
             "line": {
              "color": "#E5ECF6",
              "width": 0.5
             },
             "pattern": {
              "fillmode": "overlay",
              "size": 10,
              "solidity": 0.2
             }
            },
            "type": "bar"
           }
          ],
          "barpolar": [
           {
            "marker": {
             "line": {
              "color": "#E5ECF6",
              "width": 0.5
             },
             "pattern": {
              "fillmode": "overlay",
              "size": 10,
              "solidity": 0.2
             }
            },
            "type": "barpolar"
           }
          ],
          "carpet": [
           {
            "aaxis": {
             "endlinecolor": "#2a3f5f",
             "gridcolor": "white",
             "linecolor": "white",
             "minorgridcolor": "white",
             "startlinecolor": "#2a3f5f"
            },
            "baxis": {
             "endlinecolor": "#2a3f5f",
             "gridcolor": "white",
             "linecolor": "white",
             "minorgridcolor": "white",
             "startlinecolor": "#2a3f5f"
            },
            "type": "carpet"
           }
          ],
          "choropleth": [
           {
            "colorbar": {
             "outlinewidth": 0,
             "ticks": ""
            },
            "type": "choropleth"
           }
          ],
          "contour": [
           {
            "colorbar": {
             "outlinewidth": 0,
             "ticks": ""
            },
            "colorscale": [
             [
              0,
              "#0d0887"
             ],
             [
              0.1111111111111111,
              "#46039f"
             ],
             [
              0.2222222222222222,
              "#7201a8"
             ],
             [
              0.3333333333333333,
              "#9c179e"
             ],
             [
              0.4444444444444444,
              "#bd3786"
             ],
             [
              0.5555555555555556,
              "#d8576b"
             ],
             [
              0.6666666666666666,
              "#ed7953"
             ],
             [
              0.7777777777777778,
              "#fb9f3a"
             ],
             [
              0.8888888888888888,
              "#fdca26"
             ],
             [
              1,
              "#f0f921"
             ]
            ],
            "type": "contour"
           }
          ],
          "contourcarpet": [
           {
            "colorbar": {
             "outlinewidth": 0,
             "ticks": ""
            },
            "type": "contourcarpet"
           }
          ],
          "heatmap": [
           {
            "colorbar": {
             "outlinewidth": 0,
             "ticks": ""
            },
            "colorscale": [
             [
              0,
              "#0d0887"
             ],
             [
              0.1111111111111111,
              "#46039f"
             ],
             [
              0.2222222222222222,
              "#7201a8"
             ],
             [
              0.3333333333333333,
              "#9c179e"
             ],
             [
              0.4444444444444444,
              "#bd3786"
             ],
             [
              0.5555555555555556,
              "#d8576b"
             ],
             [
              0.6666666666666666,
              "#ed7953"
             ],
             [
              0.7777777777777778,
              "#fb9f3a"
             ],
             [
              0.8888888888888888,
              "#fdca26"
             ],
             [
              1,
              "#f0f921"
             ]
            ],
            "type": "heatmap"
           }
          ],
          "heatmapgl": [
           {
            "colorbar": {
             "outlinewidth": 0,
             "ticks": ""
            },
            "colorscale": [
             [
              0,
              "#0d0887"
             ],
             [
              0.1111111111111111,
              "#46039f"
             ],
             [
              0.2222222222222222,
              "#7201a8"
             ],
             [
              0.3333333333333333,
              "#9c179e"
             ],
             [
              0.4444444444444444,
              "#bd3786"
             ],
             [
              0.5555555555555556,
              "#d8576b"
             ],
             [
              0.6666666666666666,
              "#ed7953"
             ],
             [
              0.7777777777777778,
              "#fb9f3a"
             ],
             [
              0.8888888888888888,
              "#fdca26"
             ],
             [
              1,
              "#f0f921"
             ]
            ],
            "type": "heatmapgl"
           }
          ],
          "histogram": [
           {
            "marker": {
             "pattern": {
              "fillmode": "overlay",
              "size": 10,
              "solidity": 0.2
             }
            },
            "type": "histogram"
           }
          ],
          "histogram2d": [
           {
            "colorbar": {
             "outlinewidth": 0,
             "ticks": ""
            },
            "colorscale": [
             [
              0,
              "#0d0887"
             ],
             [
              0.1111111111111111,
              "#46039f"
             ],
             [
              0.2222222222222222,
              "#7201a8"
             ],
             [
              0.3333333333333333,
              "#9c179e"
             ],
             [
              0.4444444444444444,
              "#bd3786"
             ],
             [
              0.5555555555555556,
              "#d8576b"
             ],
             [
              0.6666666666666666,
              "#ed7953"
             ],
             [
              0.7777777777777778,
              "#fb9f3a"
             ],
             [
              0.8888888888888888,
              "#fdca26"
             ],
             [
              1,
              "#f0f921"
             ]
            ],
            "type": "histogram2d"
           }
          ],
          "histogram2dcontour": [
           {
            "colorbar": {
             "outlinewidth": 0,
             "ticks": ""
            },
            "colorscale": [
             [
              0,
              "#0d0887"
             ],
             [
              0.1111111111111111,
              "#46039f"
             ],
             [
              0.2222222222222222,
              "#7201a8"
             ],
             [
              0.3333333333333333,
              "#9c179e"
             ],
             [
              0.4444444444444444,
              "#bd3786"
             ],
             [
              0.5555555555555556,
              "#d8576b"
             ],
             [
              0.6666666666666666,
              "#ed7953"
             ],
             [
              0.7777777777777778,
              "#fb9f3a"
             ],
             [
              0.8888888888888888,
              "#fdca26"
             ],
             [
              1,
              "#f0f921"
             ]
            ],
            "type": "histogram2dcontour"
           }
          ],
          "mesh3d": [
           {
            "colorbar": {
             "outlinewidth": 0,
             "ticks": ""
            },
            "type": "mesh3d"
           }
          ],
          "parcoords": [
           {
            "line": {
             "colorbar": {
              "outlinewidth": 0,
              "ticks": ""
             }
            },
            "type": "parcoords"
           }
          ],
          "pie": [
           {
            "automargin": true,
            "type": "pie"
           }
          ],
          "scatter": [
           {
            "fillpattern": {
             "fillmode": "overlay",
             "size": 10,
             "solidity": 0.2
            },
            "type": "scatter"
           }
          ],
          "scatter3d": [
           {
            "line": {
             "colorbar": {
              "outlinewidth": 0,
              "ticks": ""
             }
            },
            "marker": {
             "colorbar": {
              "outlinewidth": 0,
              "ticks": ""
             }
            },
            "type": "scatter3d"
           }
          ],
          "scattercarpet": [
           {
            "marker": {
             "colorbar": {
              "outlinewidth": 0,
              "ticks": ""
             }
            },
            "type": "scattercarpet"
           }
          ],
          "scattergeo": [
           {
            "marker": {
             "colorbar": {
              "outlinewidth": 0,
              "ticks": ""
             }
            },
            "type": "scattergeo"
           }
          ],
          "scattergl": [
           {
            "marker": {
             "colorbar": {
              "outlinewidth": 0,
              "ticks": ""
             }
            },
            "type": "scattergl"
           }
          ],
          "scattermapbox": [
           {
            "marker": {
             "colorbar": {
              "outlinewidth": 0,
              "ticks": ""
             }
            },
            "type": "scattermapbox"
           }
          ],
          "scatterpolar": [
           {
            "marker": {
             "colorbar": {
              "outlinewidth": 0,
              "ticks": ""
             }
            },
            "type": "scatterpolar"
           }
          ],
          "scatterpolargl": [
           {
            "marker": {
             "colorbar": {
              "outlinewidth": 0,
              "ticks": ""
             }
            },
            "type": "scatterpolargl"
           }
          ],
          "scatterternary": [
           {
            "marker": {
             "colorbar": {
              "outlinewidth": 0,
              "ticks": ""
             }
            },
            "type": "scatterternary"
           }
          ],
          "surface": [
           {
            "colorbar": {
             "outlinewidth": 0,
             "ticks": ""
            },
            "colorscale": [
             [
              0,
              "#0d0887"
             ],
             [
              0.1111111111111111,
              "#46039f"
             ],
             [
              0.2222222222222222,
              "#7201a8"
             ],
             [
              0.3333333333333333,
              "#9c179e"
             ],
             [
              0.4444444444444444,
              "#bd3786"
             ],
             [
              0.5555555555555556,
              "#d8576b"
             ],
             [
              0.6666666666666666,
              "#ed7953"
             ],
             [
              0.7777777777777778,
              "#fb9f3a"
             ],
             [
              0.8888888888888888,
              "#fdca26"
             ],
             [
              1,
              "#f0f921"
             ]
            ],
            "type": "surface"
           }
          ],
          "table": [
           {
            "cells": {
             "fill": {
              "color": "#EBF0F8"
             },
             "line": {
              "color": "white"
             }
            },
            "header": {
             "fill": {
              "color": "#C8D4E3"
             },
             "line": {
              "color": "white"
             }
            },
            "type": "table"
           }
          ]
         },
         "layout": {
          "annotationdefaults": {
           "arrowcolor": "#2a3f5f",
           "arrowhead": 0,
           "arrowwidth": 1
          },
          "autotypenumbers": "strict",
          "coloraxis": {
           "colorbar": {
            "outlinewidth": 0,
            "ticks": ""
           }
          },
          "colorscale": {
           "diverging": [
            [
             0,
             "#8e0152"
            ],
            [
             0.1,
             "#c51b7d"
            ],
            [
             0.2,
             "#de77ae"
            ],
            [
             0.3,
             "#f1b6da"
            ],
            [
             0.4,
             "#fde0ef"
            ],
            [
             0.5,
             "#f7f7f7"
            ],
            [
             0.6,
             "#e6f5d0"
            ],
            [
             0.7,
             "#b8e186"
            ],
            [
             0.8,
             "#7fbc41"
            ],
            [
             0.9,
             "#4d9221"
            ],
            [
             1,
             "#276419"
            ]
           ],
           "sequential": [
            [
             0,
             "#0d0887"
            ],
            [
             0.1111111111111111,
             "#46039f"
            ],
            [
             0.2222222222222222,
             "#7201a8"
            ],
            [
             0.3333333333333333,
             "#9c179e"
            ],
            [
             0.4444444444444444,
             "#bd3786"
            ],
            [
             0.5555555555555556,
             "#d8576b"
            ],
            [
             0.6666666666666666,
             "#ed7953"
            ],
            [
             0.7777777777777778,
             "#fb9f3a"
            ],
            [
             0.8888888888888888,
             "#fdca26"
            ],
            [
             1,
             "#f0f921"
            ]
           ],
           "sequentialminus": [
            [
             0,
             "#0d0887"
            ],
            [
             0.1111111111111111,
             "#46039f"
            ],
            [
             0.2222222222222222,
             "#7201a8"
            ],
            [
             0.3333333333333333,
             "#9c179e"
            ],
            [
             0.4444444444444444,
             "#bd3786"
            ],
            [
             0.5555555555555556,
             "#d8576b"
            ],
            [
             0.6666666666666666,
             "#ed7953"
            ],
            [
             0.7777777777777778,
             "#fb9f3a"
            ],
            [
             0.8888888888888888,
             "#fdca26"
            ],
            [
             1,
             "#f0f921"
            ]
           ]
          },
          "colorway": [
           "#636efa",
           "#EF553B",
           "#00cc96",
           "#ab63fa",
           "#FFA15A",
           "#19d3f3",
           "#FF6692",
           "#B6E880",
           "#FF97FF",
           "#FECB52"
          ],
          "font": {
           "color": "#2a3f5f"
          },
          "geo": {
           "bgcolor": "white",
           "lakecolor": "white",
           "landcolor": "#E5ECF6",
           "showlakes": true,
           "showland": true,
           "subunitcolor": "white"
          },
          "hoverlabel": {
           "align": "left"
          },
          "hovermode": "closest",
          "mapbox": {
           "style": "light"
          },
          "paper_bgcolor": "white",
          "plot_bgcolor": "#E5ECF6",
          "polar": {
           "angularaxis": {
            "gridcolor": "white",
            "linecolor": "white",
            "ticks": ""
           },
           "bgcolor": "#E5ECF6",
           "radialaxis": {
            "gridcolor": "white",
            "linecolor": "white",
            "ticks": ""
           }
          },
          "scene": {
           "xaxis": {
            "backgroundcolor": "#E5ECF6",
            "gridcolor": "white",
            "gridwidth": 2,
            "linecolor": "white",
            "showbackground": true,
            "ticks": "",
            "zerolinecolor": "white"
           },
           "yaxis": {
            "backgroundcolor": "#E5ECF6",
            "gridcolor": "white",
            "gridwidth": 2,
            "linecolor": "white",
            "showbackground": true,
            "ticks": "",
            "zerolinecolor": "white"
           },
           "zaxis": {
            "backgroundcolor": "#E5ECF6",
            "gridcolor": "white",
            "gridwidth": 2,
            "linecolor": "white",
            "showbackground": true,
            "ticks": "",
            "zerolinecolor": "white"
           }
          },
          "shapedefaults": {
           "line": {
            "color": "#2a3f5f"
           }
          },
          "ternary": {
           "aaxis": {
            "gridcolor": "white",
            "linecolor": "white",
            "ticks": ""
           },
           "baxis": {
            "gridcolor": "white",
            "linecolor": "white",
            "ticks": ""
           },
           "bgcolor": "#E5ECF6",
           "caxis": {
            "gridcolor": "white",
            "linecolor": "white",
            "ticks": ""
           }
          },
          "title": {
           "x": 0.05
          },
          "xaxis": {
           "automargin": true,
           "gridcolor": "white",
           "linecolor": "white",
           "ticks": "",
           "title": {
            "standoff": 15
           },
           "zerolinecolor": "white",
           "zerolinewidth": 2
          },
          "yaxis": {
           "automargin": true,
           "gridcolor": "white",
           "linecolor": "white",
           "ticks": "",
           "title": {
            "standoff": 15
           },
           "zerolinecolor": "white",
           "zerolinewidth": 2
          }
         }
        },
        "title": {
         "text": "Ratings Distribution",
         "x": 0.5
        },
        "width": 1000,
        "xaxis": {
         "anchor": "y",
         "domain": [
          0,
          0.2888888888888889
         ]
        },
        "xaxis2": {
         "anchor": "y2",
         "domain": [
          0.35555555555555557,
          0.6444444444444445
         ]
        },
        "xaxis3": {
         "anchor": "y3",
         "domain": [
          0.7111111111111111,
          1
         ]
        },
        "xaxis4": {
         "anchor": "y4",
         "domain": [
          0,
          0.2888888888888889
         ]
        },
        "xaxis5": {
         "anchor": "y5",
         "domain": [
          0.35555555555555557,
          0.6444444444444445
         ]
        },
        "xaxis6": {
         "anchor": "y6",
         "domain": [
          0.7111111111111111,
          1
         ]
        },
        "yaxis": {
         "anchor": "x",
         "domain": [
          0.625,
          1
         ]
        },
        "yaxis2": {
         "anchor": "x2",
         "domain": [
          0.625,
          1
         ]
        },
        "yaxis3": {
         "anchor": "x3",
         "domain": [
          0.625,
          1
         ]
        },
        "yaxis4": {
         "anchor": "x4",
         "domain": [
          0,
          0.375
         ]
        },
        "yaxis5": {
         "anchor": "x5",
         "domain": [
          0,
          0.375
         ]
        },
        "yaxis6": {
         "anchor": "x6",
         "domain": [
          0,
          0.375
         ]
        }
       }
      }
     },
     "metadata": {},
     "output_type": "display_data"
    }
   ],
   "source": [
    "# Display the ratings distribution\n",
    "global_analysis.display_ratings_distribution()"
   ]
  },
  {
   "cell_type": "markdown",
   "metadata": {},
   "source": [
    "Before doing any conclusion also let's compute some key metrics for each category."
   ]
  },
  {
   "cell_type": "code",
   "execution_count": 20,
   "metadata": {},
   "outputs": [
    {
     "data": {
      "text/html": [
       "<div id=\"fytlfwlfzd\" style=\"padding-left:0px;padding-right:0px;padding-top:10px;padding-bottom:10px;overflow-x:auto;overflow-y:auto;width:auto;height:auto;\">\n",
       "<style>\n",
       "#fytlfwlfzd table {\n",
       "          font-family: -apple-system, BlinkMacSystemFont, 'Segoe UI', Roboto, Oxygen, Ubuntu, Cantarell, 'Helvetica Neue', 'Fira Sans', 'Droid Sans', Arial, sans-serif;\n",
       "          -webkit-font-smoothing: antialiased;\n",
       "          -moz-osx-font-smoothing: grayscale;\n",
       "        }\n",
       "\n",
       "#fytlfwlfzd thead, tbody, tfoot, tr, td, th { border-style: none !important; }\n",
       " tr { background-color: transparent !important; }\n",
       "#fytlfwlfzd p { margin: 0 !important; padding: 0 !important; }\n",
       " #fytlfwlfzd .gt_table { display: table !important; border-collapse: collapse !important; line-height: normal !important; margin-left: auto !important; margin-right: auto !important; color: #333333 !important; font-size: 16px !important; font-weight: normal !important; font-style: normal !important; background-color: #FFFFFF !important; width: auto !important; border-top-style: solid !important; border-top-width: 2px !important; border-top-color: #A8A8A8 !important; border-right-style: none !important; border-right-width: 2px !important; border-right-color: #D3D3D3 !important; border-bottom-style: solid !important; border-bottom-width: 2px !important; border-bottom-color: #A8A8A8 !important; border-left-style: none !important; border-left-width: 2px !important; border-left-color: #D3D3D3 !important; }\n",
       " #fytlfwlfzd .gt_caption { padding-top: 4px !important; padding-bottom: 4px !important; }\n",
       " #fytlfwlfzd .gt_title { color: #333333 !important; font-size: 125% !important; font-weight: initial !important; padding-top: 4px !important; padding-bottom: 4px !important; padding-left: 5px !important; padding-right: 5px !important; border-bottom-color: #FFFFFF !important; border-bottom-width: 0 !important; }\n",
       " #fytlfwlfzd .gt_subtitle { color: #333333 !important; font-size: 85% !important; font-weight: initial !important; padding-top: 3px !important; padding-bottom: 5px !important; padding-left: 5px !important; padding-right: 5px !important; border-top-color: #FFFFFF !important; border-top-width: 0 !important; }\n",
       " #fytlfwlfzd .gt_heading { background-color: #FFFFFF !important; text-align: center !important; border-bottom-color: #FFFFFF !important; border-left-style: none !important; border-left-width: 1px !important; border-left-color: #D3D3D3 !important; border-right-style: none !important; border-right-width: 1px !important; border-right-color: #D3D3D3 !important; }\n",
       " #fytlfwlfzd .gt_bottom_border { border-bottom-style: solid !important; border-bottom-width: 2px !important; border-bottom-color: #D3D3D3 !important; }\n",
       " #fytlfwlfzd .gt_col_headings { border-top-style: solid !important; border-top-width: 2px !important; border-top-color: #D3D3D3 !important; border-bottom-style: solid !important; border-bottom-width: 2px !important; border-bottom-color: #D3D3D3 !important; border-left-style: none !important; border-left-width: 1px !important; border-left-color: #D3D3D3 !important; border-right-style: none !important; border-right-width: 1px !important; border-right-color: #D3D3D3 !important; }\n",
       " #fytlfwlfzd .gt_col_heading { color: #333333 !important; background-color: #FFFFFF !important; font-size: 100% !important; font-weight: normal !important; text-transform: inherit !important; border-left-style: none !important; border-left-width: 1px !important; border-left-color: #D3D3D3 !important; border-right-style: none !important; border-right-width: 1px !important; border-right-color: #D3D3D3 !important; vertical-align: bottom !important; padding-top: 5px !important; padding-bottom: 5px !important; padding-left: 5px !important; padding-right: 5px !important; overflow-x: hidden !important; }\n",
       " #fytlfwlfzd .gt_column_spanner_outer { color: #333333 !important; background-color: #FFFFFF !important; font-size: 100% !important; font-weight: normal !important; text-transform: inherit !important; padding-top: 0 !important; padding-bottom: 0 !important; padding-left: 4px !important; padding-right: 4px !important; }\n",
       " #fytlfwlfzd .gt_column_spanner_outer:first-child { padding-left: 0 !important; }\n",
       " #fytlfwlfzd .gt_column_spanner_outer:last-child { padding-right: 0 !important; }\n",
       " #fytlfwlfzd .gt_column_spanner { border-bottom-style: solid !important; border-bottom-width: 2px !important; border-bottom-color: #D3D3D3 !important; vertical-align: bottom !important; padding-top: 5px !important; padding-bottom: 5px !important; overflow-x: hidden !important; display: inline-block !important; width: 100% !important; }\n",
       " #fytlfwlfzd .gt_spanner_row { border-bottom-style: hidden !important; }\n",
       " #fytlfwlfzd .gt_group_heading { padding-top: 8px !important; padding-bottom: 8px !important; padding-left: 5px !important; padding-right: 5px !important; color: #333333 !important; background-color: #FFFFFF !important; font-size: 100% !important; font-weight: initial !important; text-transform: inherit !important; border-top-style: solid !important; border-top-width: 2px !important; border-top-color: #D3D3D3 !important; border-bottom-style: solid !important; border-bottom-width: 2px !important; border-bottom-color: #D3D3D3 !important; border-left-style: none !important; border-left-width: 1px !important; border-left-color: #D3D3D3 !important; border-right-style: none !important; border-right-width: 1px !important; border-right-color: #D3D3D3 !important; vertical-align: middle !important; text-align: left !important; }\n",
       " #fytlfwlfzd .gt_empty_group_heading { padding: 0.5px !important; color: #333333 !important; background-color: #FFFFFF !important; font-size: 100% !important; font-weight: initial !important; border-top-style: solid !important; border-top-width: 2px !important; border-top-color: #D3D3D3 !important; border-bottom-style: solid !important; border-bottom-width: 2px !important; border-bottom-color: #D3D3D3 !important; vertical-align: middle !important; }\n",
       " #fytlfwlfzd .gt_from_md> :first-child { margin-top: 0 !important; }\n",
       " #fytlfwlfzd .gt_from_md> :last-child { margin-bottom: 0 !important; }\n",
       " #fytlfwlfzd .gt_row { padding-top: 8px !important; padding-bottom: 8px !important; padding-left: 5px !important; padding-right: 5px !important; margin: 10px !important; border-top-style: solid !important; border-top-width: 1px !important; border-top-color: #D3D3D3 !important; border-left-style: none !important; border-left-width: 1px !important; border-left-color: #D3D3D3 !important; border-right-style: none !important; border-right-width: 1px !important; border-right-color: #D3D3D3 !important; vertical-align: middle !important; overflow-x: hidden !important; }\n",
       " #fytlfwlfzd .gt_stub { color: #333333 !important; background-color: #FFFFFF !important; font-size: 100% !important; font-weight: initial !important; text-transform: inherit !important; border-right-style: solid !important; border-right-width: 2px !important; border-right-color: #D3D3D3 !important; padding-left: 5px !important; padding-right: 5px !important; }\n",
       " #fytlfwlfzd .gt_stub_row_group { color: #333333 !important; background-color: #FFFFFF !important; font-size: 100% !important; font-weight: initial !important; text-transform: inherit !important; border-right-style: solid !important; border-right-width: 2px !important; border-right-color: #D3D3D3 !important; padding-left: 5px !important; padding-right: 5px !important; vertical-align: top !important; }\n",
       " #fytlfwlfzd .gt_row_group_first td { border-top-width: 2px !important; }\n",
       " #fytlfwlfzd .gt_row_group_first th { border-top-width: 2px !important; }\n",
       " #fytlfwlfzd .gt_striped { background-color: rgba(128,128,128,0.05) !important; }\n",
       " #fytlfwlfzd .gt_table_body { border-top-style: solid !important; border-top-width: 2px !important; border-top-color: #D3D3D3 !important; border-bottom-style: solid !important; border-bottom-width: 2px !important; border-bottom-color: #D3D3D3 !important; }\n",
       " #fytlfwlfzd .gt_sourcenotes { color: #333333 !important; background-color: #FFFFFF !important; border-bottom-style: none !important; border-bottom-width: 2px !important; border-bottom-color: #D3D3D3 !important; border-left-style: none !important; border-left-width: 2px !important; border-left-color: #D3D3D3 !important; border-right-style: none !important; border-right-width: 2px !important; border-right-color: #D3D3D3 !important; }\n",
       " #fytlfwlfzd .gt_sourcenote { font-size: 90% !important; padding-top: 4px !important; padding-bottom: 4px !important; padding-left: 5px !important; padding-right: 5px !important; text-align: left !important; }\n",
       " #fytlfwlfzd .gt_left { text-align: left !important; }\n",
       " #fytlfwlfzd .gt_center { text-align: center !important; }\n",
       " #fytlfwlfzd .gt_right { text-align: right !important; font-variant-numeric: tabular-nums !important; }\n",
       " #fytlfwlfzd .gt_font_normal { font-weight: normal !important; }\n",
       " #fytlfwlfzd .gt_font_bold { font-weight: bold !important; }\n",
       " #fytlfwlfzd .gt_font_italic { font-style: italic !important; }\n",
       " #fytlfwlfzd .gt_super { font-size: 65% !important; }\n",
       " #fytlfwlfzd .gt_footnote_marks { font-size: 75% !important; vertical-align: 0.4em !important; position: initial !important; }\n",
       " #fytlfwlfzd .gt_asterisk { font-size: 100% !important; vertical-align: 0 !important; }\n",
       " \n",
       "</style>\n",
       "<table class=\"gt_table\" data-quarto-disable-processing=\"false\" data-quarto-bootstrap=\"false\">\n",
       "<thead>\n",
       "\n",
       "  <tr class=\"gt_heading\">\n",
       "    <td colspan=\"7\" class=\"gt_heading gt_title gt_font_normal\">Statistics of the ratings</td>\n",
       "  </tr>\n",
       "<tr class=\"gt_col_headings\">\n",
       "  <th class=\"gt_col_heading gt_columns_bottom_border gt_left\" rowspan=\"1\" colspan=\"1\" scope=\"col\" id=\"Rating\">Rating</th>\n",
       "  <th class=\"gt_col_heading gt_columns_bottom_border gt_right\" rowspan=\"1\" colspan=\"1\" scope=\"col\" id=\"Mean\">Mean</th>\n",
       "  <th class=\"gt_col_heading gt_columns_bottom_border gt_right\" rowspan=\"1\" colspan=\"1\" scope=\"col\" id=\"Std\">Std</th>\n",
       "  <th class=\"gt_col_heading gt_columns_bottom_border gt_right\" rowspan=\"1\" colspan=\"1\" scope=\"col\" id=\"Median\">Median</th>\n",
       "  <th class=\"gt_col_heading gt_columns_bottom_border gt_right\" rowspan=\"1\" colspan=\"1\" scope=\"col\" id=\"Skewness\">Skewness</th>\n",
       "  <th class=\"gt_col_heading gt_columns_bottom_border gt_right\" rowspan=\"1\" colspan=\"1\" scope=\"col\" id=\"Kurtosis\">Kurtosis</th>\n",
       "  <th class=\"gt_col_heading gt_columns_bottom_border gt_center\" rowspan=\"1\" colspan=\"1\" scope=\"col\" id=\"Can reject H0 (95%)\">Can reject H0 (95%)</th>\n",
       "</tr>\n",
       "</thead>\n",
       "<tbody class=\"gt_table_body\">\n",
       "  <tr>\n",
       "    <td class=\"gt_row gt_left\">mouthfeel</td>\n",
       "    <td class=\"gt_row gt_right\">3.27</td>\n",
       "    <td class=\"gt_row gt_right\">0.79</td>\n",
       "    <td class=\"gt_row gt_right\">3.0</td>\n",
       "    <td class=\"gt_row gt_right\">-0.19</td>\n",
       "    <td class=\"gt_row gt_right\">0.25</td>\n",
       "    <td class=\"gt_row gt_center\">True</td>\n",
       "  </tr>\n",
       "  <tr>\n",
       "    <td class=\"gt_row gt_left\">taste</td>\n",
       "    <td class=\"gt_row gt_right\">6.48</td>\n",
       "    <td class=\"gt_row gt_right\">1.53</td>\n",
       "    <td class=\"gt_row gt_right\">7.0</td>\n",
       "    <td class=\"gt_row gt_right\">-0.79</td>\n",
       "    <td class=\"gt_row gt_right\">1.01</td>\n",
       "    <td class=\"gt_row gt_center\">True</td>\n",
       "  </tr>\n",
       "  <tr>\n",
       "    <td class=\"gt_row gt_left\">appearance</td>\n",
       "    <td class=\"gt_row gt_right\">3.43</td>\n",
       "    <td class=\"gt_row gt_right\">0.77</td>\n",
       "    <td class=\"gt_row gt_right\">3.0</td>\n",
       "    <td class=\"gt_row gt_right\">-0.15</td>\n",
       "    <td class=\"gt_row gt_right\">0.26</td>\n",
       "    <td class=\"gt_row gt_center\">True</td>\n",
       "  </tr>\n",
       "  <tr>\n",
       "    <td class=\"gt_row gt_left\">aroma</td>\n",
       "    <td class=\"gt_row gt_right\">6.4</td>\n",
       "    <td class=\"gt_row gt_right\">1.53</td>\n",
       "    <td class=\"gt_row gt_right\">7.0</td>\n",
       "    <td class=\"gt_row gt_right\">-0.77</td>\n",
       "    <td class=\"gt_row gt_right\">1.0</td>\n",
       "    <td class=\"gt_row gt_center\">True</td>\n",
       "  </tr>\n",
       "  <tr>\n",
       "    <td class=\"gt_row gt_left\">overall</td>\n",
       "    <td class=\"gt_row gt_right\">13.18</td>\n",
       "    <td class=\"gt_row gt_right\">3.14</td>\n",
       "    <td class=\"gt_row gt_right\">14.0</td>\n",
       "    <td class=\"gt_row gt_right\">-0.99</td>\n",
       "    <td class=\"gt_row gt_right\">1.4</td>\n",
       "    <td class=\"gt_row gt_center\">True</td>\n",
       "  </tr>\n",
       "  <tr>\n",
       "    <td class=\"gt_row gt_left\">rating</td>\n",
       "    <td class=\"gt_row gt_right\">3.28</td>\n",
       "    <td class=\"gt_row gt_right\">0.68</td>\n",
       "    <td class=\"gt_row gt_right\">3.4</td>\n",
       "    <td class=\"gt_row gt_right\">-0.92</td>\n",
       "    <td class=\"gt_row gt_right\">1.42</td>\n",
       "    <td class=\"gt_row gt_center\">True</td>\n",
       "  </tr>\n",
       "</tbody>\n",
       "\n",
       "\n",
       "</table>\n",
       "\n",
       "</div>\n",
       "        "
      ]
     },
     "metadata": {
      "text/html": {
       "text/html": {
        "isolated": true
       }
      }
     },
     "output_type": "display_data"
    }
   ],
   "source": [
    "# Plot the different statistics of the ratings distribution\n",
    "global_analysis.display_ratings_statistics()"
   ]
  },
  {
   "cell_type": "markdown",
   "metadata": {},
   "source": [
    "We observe multiple interesting aspects:\n",
    "- **Central Tendency Bias:**  All the ratings have a mean and median close to the center of the rating scale. This suggests users exhibit a central tendency bias, where they avoid extreme judgments and rate attributes near the middle of the scale.\n",
    "- **Non normaly of the distribution:** The distribution of the ratings is not normal, with a skewness that is always different from 0. This hypothesis is confirmed by the Shapiro-Wilk test that rejects the null hypothesis of normality for all the categories with a good confidence level.\n",
    "- **Category-specific Observations:**  While the mean and median are generally close to the center of the rating scale, there are notable differences, both numerically and visually:  \n",
    "\n",
    "  - **Mouthfeel and Appearance:**  \n",
    "    - The mean is slightly higher than the median, and skewness is lower compared to other categories.  \n",
    "    - This suggests users are more demanding in these categories, leading to generally lower ratings.  \n",
    "    - The subjectivity and difficulty in evaluating these attributes could also play a role. For instance, what constitutes a \"5-star\" mouthfeel is often ambiguous.  \n",
    "\n",
    "  - **Taste and Aroma:**  \n",
    "    - The median is slightly higher than the mean, indicating users favor these categories and tend to give them higher ratings.  \n",
    "    - This suggests users genuinely enjoy these aspects, resulting in more favorable evaluations.  \n",
    "\n",
    "  - **Overall Rating:**  \n",
    "    - The overall score leans toward the higher end of the scale, potentially influenced by taste and aroma ratings. This phenomenon is called **halo effect**, where a positive impression in one area influences the overall judgment even if other aspects are less favorable.\n",
    "\n",
    "- **Possible presence of a social bias:** The fact that you usually drink beers in social and convivial contexts could lead to a social bias in the ratings that could push the ratings towards the higher values. An \"average\" beer could be rated higher than it might be because the user was in a good mood or in a good company, which made the user enjoy the beer more than it would have been in a different context.\n",
    "\n",
    "From these results we can state that the users are generally more demanding in the categories of Mouthfeel and Appearance while they in general like more the Aroma and the Taste which seems to positively influence the Overall rating. We are going to check this final observation in the next section."
   ]
  },
  {
   "cell_type": "markdown",
   "metadata": {},
   "source": [
    "### Correlation between the ratings attributes\n",
    "Here we are going to use the overall rating rather than the rating itself due to the fact that the rating is computed from the other attributes. This would make the study of the correlation between the attributes and the overall rating less interesting since we already know that the rating is a linear combination of the other attributes. <br>"
   ]
  },
  {
   "cell_type": "code",
   "execution_count": 21,
   "metadata": {},
   "outputs": [
    {
     "data": {
      "application/vnd.plotly.v1+json": {
       "config": {
        "plotlyServerURL": "https://plot.ly"
       },
       "data": [
        {
         "colorscale": [
          [
           0,
           "pink"
          ],
          [
           1,
           "red"
          ]
         ],
         "hoverinfo": "text",
         "showscale": true,
         "text": [
          "mouthfeel vs taste: 0.65",
          "mouthfeel vs appearance: 0.55",
          "taste vs appearance: 0.48",
          "mouthfeel vs aroma: 0.56",
          "taste vs aroma: 0.79",
          "appearance vs aroma: 0.48",
          "mouthfeel vs overall: 0.66",
          "taste vs overall: 0.86",
          "appearance vs overall: 0.50",
          "aroma vs overall: 0.78",
          "mouthfeel vs abv: 0.31",
          "taste vs abv: 0.36",
          "appearance vs abv: 0.26",
          "aroma vs abv: 0.38",
          "overall vs abv: 0.38"
         ],
         "type": "heatmap",
         "x": [
          "mouthfeel",
          "mouthfeel",
          "taste",
          "mouthfeel",
          "taste",
          "appearance",
          "mouthfeel",
          "taste",
          "appearance",
          "aroma",
          "mouthfeel",
          "taste",
          "appearance",
          "aroma",
          "overall"
         ],
         "y": [
          "taste",
          "appearance",
          "appearance",
          "aroma",
          "aroma",
          "aroma",
          "overall",
          "overall",
          "overall",
          "overall",
          "abv",
          "abv",
          "abv",
          "abv",
          "abv"
         ],
         "z": [
          0.6535415819743511,
          0.5465371889362107,
          0.48435070449946566,
          0.5648490900251227,
          0.7942730217970986,
          0.47665665642381383,
          0.6563806994492285,
          0.8574194287036057,
          0.49856091436278266,
          0.775519922100398,
          0.30901414628894935,
          0.36319526827814386,
          0.25557974634903163,
          0.37748358494408085,
          0.376585780195721
         ],
         "zmax": 0.8574194287036057,
         "zmin": 0.25557974634903163
        }
       ],
       "layout": {
        "annotations": [
         {
          "font": {
           "color": "black",
           "size": 14
          },
          "showarrow": false,
          "text": "0.65",
          "x": "mouthfeel",
          "y": "taste"
         },
         {
          "font": {
           "color": "black",
           "size": 14
          },
          "showarrow": false,
          "text": "0.55",
          "x": "mouthfeel",
          "y": "appearance"
         },
         {
          "font": {
           "color": "black",
           "size": 14
          },
          "showarrow": false,
          "text": "0.48",
          "x": "taste",
          "y": "appearance"
         },
         {
          "font": {
           "color": "black",
           "size": 14
          },
          "showarrow": false,
          "text": "0.56",
          "x": "mouthfeel",
          "y": "aroma"
         },
         {
          "font": {
           "color": "black",
           "size": 14
          },
          "showarrow": false,
          "text": "0.79",
          "x": "taste",
          "y": "aroma"
         },
         {
          "font": {
           "color": "black",
           "size": 14
          },
          "showarrow": false,
          "text": "0.48",
          "x": "appearance",
          "y": "aroma"
         },
         {
          "font": {
           "color": "black",
           "size": 14
          },
          "showarrow": false,
          "text": "0.66",
          "x": "mouthfeel",
          "y": "overall"
         },
         {
          "font": {
           "color": "black",
           "size": 14
          },
          "showarrow": false,
          "text": "0.86",
          "x": "taste",
          "y": "overall"
         },
         {
          "font": {
           "color": "black",
           "size": 14
          },
          "showarrow": false,
          "text": "0.50",
          "x": "appearance",
          "y": "overall"
         },
         {
          "font": {
           "color": "black",
           "size": 14
          },
          "showarrow": false,
          "text": "0.78",
          "x": "aroma",
          "y": "overall"
         },
         {
          "font": {
           "color": "black",
           "size": 14
          },
          "showarrow": false,
          "text": "0.31",
          "x": "mouthfeel",
          "y": "abv"
         },
         {
          "font": {
           "color": "black",
           "size": 14
          },
          "showarrow": false,
          "text": "0.36",
          "x": "taste",
          "y": "abv"
         },
         {
          "font": {
           "color": "black",
           "size": 14
          },
          "showarrow": false,
          "text": "0.26",
          "x": "appearance",
          "y": "abv"
         },
         {
          "font": {
           "color": "black",
           "size": 14
          },
          "showarrow": false,
          "text": "0.38",
          "x": "aroma",
          "y": "abv"
         },
         {
          "font": {
           "color": "black",
           "size": 14
          },
          "showarrow": false,
          "text": "0.38",
          "x": "overall",
          "y": "abv"
         }
        ],
        "autosize": true,
        "height": 600,
        "paper_bgcolor": "white",
        "plot_bgcolor": "white",
        "template": {
         "data": {
          "bar": [
           {
            "error_x": {
             "color": "#2a3f5f"
            },
            "error_y": {
             "color": "#2a3f5f"
            },
            "marker": {
             "line": {
              "color": "#E5ECF6",
              "width": 0.5
             },
             "pattern": {
              "fillmode": "overlay",
              "size": 10,
              "solidity": 0.2
             }
            },
            "type": "bar"
           }
          ],
          "barpolar": [
           {
            "marker": {
             "line": {
              "color": "#E5ECF6",
              "width": 0.5
             },
             "pattern": {
              "fillmode": "overlay",
              "size": 10,
              "solidity": 0.2
             }
            },
            "type": "barpolar"
           }
          ],
          "carpet": [
           {
            "aaxis": {
             "endlinecolor": "#2a3f5f",
             "gridcolor": "white",
             "linecolor": "white",
             "minorgridcolor": "white",
             "startlinecolor": "#2a3f5f"
            },
            "baxis": {
             "endlinecolor": "#2a3f5f",
             "gridcolor": "white",
             "linecolor": "white",
             "minorgridcolor": "white",
             "startlinecolor": "#2a3f5f"
            },
            "type": "carpet"
           }
          ],
          "choropleth": [
           {
            "colorbar": {
             "outlinewidth": 0,
             "ticks": ""
            },
            "type": "choropleth"
           }
          ],
          "contour": [
           {
            "colorbar": {
             "outlinewidth": 0,
             "ticks": ""
            },
            "colorscale": [
             [
              0,
              "#0d0887"
             ],
             [
              0.1111111111111111,
              "#46039f"
             ],
             [
              0.2222222222222222,
              "#7201a8"
             ],
             [
              0.3333333333333333,
              "#9c179e"
             ],
             [
              0.4444444444444444,
              "#bd3786"
             ],
             [
              0.5555555555555556,
              "#d8576b"
             ],
             [
              0.6666666666666666,
              "#ed7953"
             ],
             [
              0.7777777777777778,
              "#fb9f3a"
             ],
             [
              0.8888888888888888,
              "#fdca26"
             ],
             [
              1,
              "#f0f921"
             ]
            ],
            "type": "contour"
           }
          ],
          "contourcarpet": [
           {
            "colorbar": {
             "outlinewidth": 0,
             "ticks": ""
            },
            "type": "contourcarpet"
           }
          ],
          "heatmap": [
           {
            "colorbar": {
             "outlinewidth": 0,
             "ticks": ""
            },
            "colorscale": [
             [
              0,
              "#0d0887"
             ],
             [
              0.1111111111111111,
              "#46039f"
             ],
             [
              0.2222222222222222,
              "#7201a8"
             ],
             [
              0.3333333333333333,
              "#9c179e"
             ],
             [
              0.4444444444444444,
              "#bd3786"
             ],
             [
              0.5555555555555556,
              "#d8576b"
             ],
             [
              0.6666666666666666,
              "#ed7953"
             ],
             [
              0.7777777777777778,
              "#fb9f3a"
             ],
             [
              0.8888888888888888,
              "#fdca26"
             ],
             [
              1,
              "#f0f921"
             ]
            ],
            "type": "heatmap"
           }
          ],
          "heatmapgl": [
           {
            "colorbar": {
             "outlinewidth": 0,
             "ticks": ""
            },
            "colorscale": [
             [
              0,
              "#0d0887"
             ],
             [
              0.1111111111111111,
              "#46039f"
             ],
             [
              0.2222222222222222,
              "#7201a8"
             ],
             [
              0.3333333333333333,
              "#9c179e"
             ],
             [
              0.4444444444444444,
              "#bd3786"
             ],
             [
              0.5555555555555556,
              "#d8576b"
             ],
             [
              0.6666666666666666,
              "#ed7953"
             ],
             [
              0.7777777777777778,
              "#fb9f3a"
             ],
             [
              0.8888888888888888,
              "#fdca26"
             ],
             [
              1,
              "#f0f921"
             ]
            ],
            "type": "heatmapgl"
           }
          ],
          "histogram": [
           {
            "marker": {
             "pattern": {
              "fillmode": "overlay",
              "size": 10,
              "solidity": 0.2
             }
            },
            "type": "histogram"
           }
          ],
          "histogram2d": [
           {
            "colorbar": {
             "outlinewidth": 0,
             "ticks": ""
            },
            "colorscale": [
             [
              0,
              "#0d0887"
             ],
             [
              0.1111111111111111,
              "#46039f"
             ],
             [
              0.2222222222222222,
              "#7201a8"
             ],
             [
              0.3333333333333333,
              "#9c179e"
             ],
             [
              0.4444444444444444,
              "#bd3786"
             ],
             [
              0.5555555555555556,
              "#d8576b"
             ],
             [
              0.6666666666666666,
              "#ed7953"
             ],
             [
              0.7777777777777778,
              "#fb9f3a"
             ],
             [
              0.8888888888888888,
              "#fdca26"
             ],
             [
              1,
              "#f0f921"
             ]
            ],
            "type": "histogram2d"
           }
          ],
          "histogram2dcontour": [
           {
            "colorbar": {
             "outlinewidth": 0,
             "ticks": ""
            },
            "colorscale": [
             [
              0,
              "#0d0887"
             ],
             [
              0.1111111111111111,
              "#46039f"
             ],
             [
              0.2222222222222222,
              "#7201a8"
             ],
             [
              0.3333333333333333,
              "#9c179e"
             ],
             [
              0.4444444444444444,
              "#bd3786"
             ],
             [
              0.5555555555555556,
              "#d8576b"
             ],
             [
              0.6666666666666666,
              "#ed7953"
             ],
             [
              0.7777777777777778,
              "#fb9f3a"
             ],
             [
              0.8888888888888888,
              "#fdca26"
             ],
             [
              1,
              "#f0f921"
             ]
            ],
            "type": "histogram2dcontour"
           }
          ],
          "mesh3d": [
           {
            "colorbar": {
             "outlinewidth": 0,
             "ticks": ""
            },
            "type": "mesh3d"
           }
          ],
          "parcoords": [
           {
            "line": {
             "colorbar": {
              "outlinewidth": 0,
              "ticks": ""
             }
            },
            "type": "parcoords"
           }
          ],
          "pie": [
           {
            "automargin": true,
            "type": "pie"
           }
          ],
          "scatter": [
           {
            "fillpattern": {
             "fillmode": "overlay",
             "size": 10,
             "solidity": 0.2
            },
            "type": "scatter"
           }
          ],
          "scatter3d": [
           {
            "line": {
             "colorbar": {
              "outlinewidth": 0,
              "ticks": ""
             }
            },
            "marker": {
             "colorbar": {
              "outlinewidth": 0,
              "ticks": ""
             }
            },
            "type": "scatter3d"
           }
          ],
          "scattercarpet": [
           {
            "marker": {
             "colorbar": {
              "outlinewidth": 0,
              "ticks": ""
             }
            },
            "type": "scattercarpet"
           }
          ],
          "scattergeo": [
           {
            "marker": {
             "colorbar": {
              "outlinewidth": 0,
              "ticks": ""
             }
            },
            "type": "scattergeo"
           }
          ],
          "scattergl": [
           {
            "marker": {
             "colorbar": {
              "outlinewidth": 0,
              "ticks": ""
             }
            },
            "type": "scattergl"
           }
          ],
          "scattermapbox": [
           {
            "marker": {
             "colorbar": {
              "outlinewidth": 0,
              "ticks": ""
             }
            },
            "type": "scattermapbox"
           }
          ],
          "scatterpolar": [
           {
            "marker": {
             "colorbar": {
              "outlinewidth": 0,
              "ticks": ""
             }
            },
            "type": "scatterpolar"
           }
          ],
          "scatterpolargl": [
           {
            "marker": {
             "colorbar": {
              "outlinewidth": 0,
              "ticks": ""
             }
            },
            "type": "scatterpolargl"
           }
          ],
          "scatterternary": [
           {
            "marker": {
             "colorbar": {
              "outlinewidth": 0,
              "ticks": ""
             }
            },
            "type": "scatterternary"
           }
          ],
          "surface": [
           {
            "colorbar": {
             "outlinewidth": 0,
             "ticks": ""
            },
            "colorscale": [
             [
              0,
              "#0d0887"
             ],
             [
              0.1111111111111111,
              "#46039f"
             ],
             [
              0.2222222222222222,
              "#7201a8"
             ],
             [
              0.3333333333333333,
              "#9c179e"
             ],
             [
              0.4444444444444444,
              "#bd3786"
             ],
             [
              0.5555555555555556,
              "#d8576b"
             ],
             [
              0.6666666666666666,
              "#ed7953"
             ],
             [
              0.7777777777777778,
              "#fb9f3a"
             ],
             [
              0.8888888888888888,
              "#fdca26"
             ],
             [
              1,
              "#f0f921"
             ]
            ],
            "type": "surface"
           }
          ],
          "table": [
           {
            "cells": {
             "fill": {
              "color": "#EBF0F8"
             },
             "line": {
              "color": "white"
             }
            },
            "header": {
             "fill": {
              "color": "#C8D4E3"
             },
             "line": {
              "color": "white"
             }
            },
            "type": "table"
           }
          ]
         },
         "layout": {
          "annotationdefaults": {
           "arrowcolor": "#2a3f5f",
           "arrowhead": 0,
           "arrowwidth": 1
          },
          "autotypenumbers": "strict",
          "coloraxis": {
           "colorbar": {
            "outlinewidth": 0,
            "ticks": ""
           }
          },
          "colorscale": {
           "diverging": [
            [
             0,
             "#8e0152"
            ],
            [
             0.1,
             "#c51b7d"
            ],
            [
             0.2,
             "#de77ae"
            ],
            [
             0.3,
             "#f1b6da"
            ],
            [
             0.4,
             "#fde0ef"
            ],
            [
             0.5,
             "#f7f7f7"
            ],
            [
             0.6,
             "#e6f5d0"
            ],
            [
             0.7,
             "#b8e186"
            ],
            [
             0.8,
             "#7fbc41"
            ],
            [
             0.9,
             "#4d9221"
            ],
            [
             1,
             "#276419"
            ]
           ],
           "sequential": [
            [
             0,
             "#0d0887"
            ],
            [
             0.1111111111111111,
             "#46039f"
            ],
            [
             0.2222222222222222,
             "#7201a8"
            ],
            [
             0.3333333333333333,
             "#9c179e"
            ],
            [
             0.4444444444444444,
             "#bd3786"
            ],
            [
             0.5555555555555556,
             "#d8576b"
            ],
            [
             0.6666666666666666,
             "#ed7953"
            ],
            [
             0.7777777777777778,
             "#fb9f3a"
            ],
            [
             0.8888888888888888,
             "#fdca26"
            ],
            [
             1,
             "#f0f921"
            ]
           ],
           "sequentialminus": [
            [
             0,
             "#0d0887"
            ],
            [
             0.1111111111111111,
             "#46039f"
            ],
            [
             0.2222222222222222,
             "#7201a8"
            ],
            [
             0.3333333333333333,
             "#9c179e"
            ],
            [
             0.4444444444444444,
             "#bd3786"
            ],
            [
             0.5555555555555556,
             "#d8576b"
            ],
            [
             0.6666666666666666,
             "#ed7953"
            ],
            [
             0.7777777777777778,
             "#fb9f3a"
            ],
            [
             0.8888888888888888,
             "#fdca26"
            ],
            [
             1,
             "#f0f921"
            ]
           ]
          },
          "colorway": [
           "#636efa",
           "#EF553B",
           "#00cc96",
           "#ab63fa",
           "#FFA15A",
           "#19d3f3",
           "#FF6692",
           "#B6E880",
           "#FF97FF",
           "#FECB52"
          ],
          "font": {
           "color": "#2a3f5f"
          },
          "geo": {
           "bgcolor": "white",
           "lakecolor": "white",
           "landcolor": "#E5ECF6",
           "showlakes": true,
           "showland": true,
           "subunitcolor": "white"
          },
          "hoverlabel": {
           "align": "left"
          },
          "hovermode": "closest",
          "mapbox": {
           "style": "light"
          },
          "paper_bgcolor": "white",
          "plot_bgcolor": "#E5ECF6",
          "polar": {
           "angularaxis": {
            "gridcolor": "white",
            "linecolor": "white",
            "ticks": ""
           },
           "bgcolor": "#E5ECF6",
           "radialaxis": {
            "gridcolor": "white",
            "linecolor": "white",
            "ticks": ""
           }
          },
          "scene": {
           "xaxis": {
            "backgroundcolor": "#E5ECF6",
            "gridcolor": "white",
            "gridwidth": 2,
            "linecolor": "white",
            "showbackground": true,
            "ticks": "",
            "zerolinecolor": "white"
           },
           "yaxis": {
            "backgroundcolor": "#E5ECF6",
            "gridcolor": "white",
            "gridwidth": 2,
            "linecolor": "white",
            "showbackground": true,
            "ticks": "",
            "zerolinecolor": "white"
           },
           "zaxis": {
            "backgroundcolor": "#E5ECF6",
            "gridcolor": "white",
            "gridwidth": 2,
            "linecolor": "white",
            "showbackground": true,
            "ticks": "",
            "zerolinecolor": "white"
           }
          },
          "shapedefaults": {
           "line": {
            "color": "#2a3f5f"
           }
          },
          "ternary": {
           "aaxis": {
            "gridcolor": "white",
            "linecolor": "white",
            "ticks": ""
           },
           "baxis": {
            "gridcolor": "white",
            "linecolor": "white",
            "ticks": ""
           },
           "bgcolor": "#E5ECF6",
           "caxis": {
            "gridcolor": "white",
            "linecolor": "white",
            "ticks": ""
           }
          },
          "title": {
           "x": 0.05
          },
          "xaxis": {
           "automargin": true,
           "gridcolor": "white",
           "linecolor": "white",
           "ticks": "",
           "title": {
            "standoff": 15
           },
           "zerolinecolor": "white",
           "zerolinewidth": 2
          },
          "yaxis": {
           "automargin": true,
           "gridcolor": "white",
           "linecolor": "white",
           "ticks": "",
           "title": {
            "standoff": 15
           },
           "zerolinecolor": "white",
           "zerolinewidth": 2
          }
         }
        },
        "title": {
         "text": "Correlation Matrix",
         "x": 0.5
        },
        "width": 800,
        "xaxis": {
         "tickfont": {
          "size": 14
         }
        },
        "yaxis": {
         "tickfont": {
          "size": 14
         },
         "tickmode": "linear"
        }
       }
      }
     },
     "metadata": {},
     "output_type": "display_data"
    }
   ],
   "source": [
    "# Display the correlation matrix\n",
    "global_analysis.plot_correlation_matrix()"
   ]
  },
  {
   "cell_type": "markdown",
   "metadata": {},
   "source": [
    "We see that taste and aroma show the highest correlations with overall beer ratings, at <b>0.86</b> and <b>0.77</b>, respectively. These attributes dominate the beer experience given their impact on the overall flavor profile.\n",
    "\n",
    "Appearance and palate, on the other hand, have moderate correlations with overall beer ratings, at <b>0.50</b> and <b>0.66</b>, respectively. The lower correlation, compared with the one of taste and aroma, suggests that these attributes play a secondary role in the overall experience, either for the complexity of the evaluation or for the less preference of the users for these attributes.\n",
    "\n",
    "Alcohol by volume (ABV) has the lowest correlation overall (with a correlation of <b>0.37</b> with the overall ratings). This value, even if it's the smallest, it's still significant given that we would have expected a significant lower value. This suggests that there is some link between the ABV and the users preferences that we are going to explore further in the next sections."
   ]
  },
  {
   "cell_type": "markdown",
   "metadata": {},
   "source": [
    "We see that there is a strong relation between the different parameters and the overall score. Can we use them to predict wether or not the user will enjoy the beer?"
   ]
  },
  {
   "cell_type": "code",
   "execution_count": 22,
   "metadata": {},
   "outputs": [
    {
     "name": "stdout",
     "output_type": "stream",
     "text": [
      "                            OLS Regression Results                            \n",
      "==============================================================================\n",
      "Dep. Variable:                overall   R-squared:                       0.773\n",
      "Model:                            OLS   Adj. R-squared:                  0.773\n",
      "Method:                 Least Squares   F-statistic:                 4.368e+06\n",
      "Date:                Thu, 19 Dec 2024   Prob (F-statistic):               0.00\n",
      "Time:                        12:06:32   Log-Likelihood:            -9.3464e+06\n",
      "No. Observations:             5133298   AIC:                         1.869e+07\n",
      "Df Residuals:                 5133293   BIC:                         1.869e+07\n",
      "Df Model:                           4                                         \n",
      "Covariance Type:            nonrobust                                         \n",
      "==============================================================================\n",
      "                 coef    std err          t      P>|t|      [0.025      0.975]\n",
      "------------------------------------------------------------------------------\n",
      "const         13.1785      0.001      2e+04      0.000      13.177      13.180\n",
      "aroma          0.7186      0.001    651.260      0.000       0.716       0.721\n",
      "taste          1.7835      0.001   1497.553      0.000       1.781       1.786\n",
      "mouthfeel      0.4154      0.001    446.569      0.000       0.414       0.417\n",
      "appearance     0.1305      0.001    160.477      0.000       0.129       0.132\n",
      "==============================================================================\n",
      "Omnibus:                   483674.330   Durbin-Watson:                   1.903\n",
      "Prob(Omnibus):                  0.000   Jarque-Bera (JB):          3368424.026\n",
      "Skew:                          -0.151   Prob(JB):                         0.00\n",
      "Kurtosis:                       6.957   Cond. No.                         3.79\n",
      "==============================================================================\n",
      "\n",
      "Notes:\n",
      "[1] Standard Errors assume that the covariance matrix of the errors is correctly specified.\n"
     ]
    }
   ],
   "source": [
    "results, r_squared, rmse = global_analysis.regression_analysis(df_ratings_no_text)\n",
    "print(results.summary())"
   ]
  },
  {
   "cell_type": "code",
   "execution_count": 23,
   "metadata": {},
   "outputs": [
    {
     "name": "stdout",
     "output_type": "stream",
     "text": [
      "The R-squared value at test is 0.7729\n",
      "The RMSE value at test is 1.49\n"
     ]
    }
   ],
   "source": [
    "print(f\"The R-squared value at test is {r_squared:.4f}\")\n",
    "print(f\"The RMSE value at test is {rmse:.2f}\")"
   ]
  },
  {
   "cell_type": "markdown",
   "metadata": {},
   "source": [
    "It seems we can do this!</br><br>\n",
    "From the linear regression model we can clearly see that the four parameters are significant in predicting the overall experience of an user and whether or not one will like the beer. We see that approximately 77% of the variance is explained by the model with a test set and that the RMSE is quite low, approximately <b>1.50</b>, which is not significant in a scale with a granularity of </b>1</b>. <br>\n",
    "From the p value we see that all the parameters are significant in the prediction of the overall grade (the p value for all of them is almost zero). <br>\n",
    "We see that taste has almost double the impact on the overall experience than aroma, with the first one that has a coefficient of <b>1.7843</b> vs a coefficient of <b>0.7184</b> for the second parameter. We see that the appearance and the mouthfeel have a much lower impact than the others (respectively <b>0.4159</b> and <b>0.1296</b>). <br><br>\n",
    "From these results we have a significant insight: if user does't like the taste of a beer than they'll likely won't like the beer at all (Also called <i>halo effect</i>)."
   ]
  },
  {
   "cell_type": "markdown",
   "metadata": {},
   "source": [
    "### Rating in the different countries\n",
    "Here we are going to see which are the favourite beer locations in the world. We are going to consider the rating here to have a metric that summarize all the other parameters. For the location we are going to consider the beer location (obtained by the brewery location) since here we want to understand which countries produce the most appreciated beers. <br>"
   ]
  },
  {
   "cell_type": "code",
   "execution_count": 24,
   "metadata": {},
   "outputs": [
    {
     "data": {
      "application/vnd.plotly.v1+json": {
       "config": {
        "plotlyServerURL": "https://plot.ly"
       },
       "data": [
        {
         "colorscale": [
          [
           0,
           "rgb(247,251,255)"
          ],
          [
           0.125,
           "rgb(222,235,247)"
          ],
          [
           0.25,
           "rgb(198,219,239)"
          ],
          [
           0.375,
           "rgb(158,202,225)"
          ],
          [
           0.5,
           "rgb(107,174,214)"
          ],
          [
           0.625,
           "rgb(66,146,198)"
          ],
          [
           0.75,
           "rgb(33,113,181)"
          ],
          [
           0.875,
           "rgb(8,81,156)"
          ],
          [
           1,
           "rgb(8,48,107)"
          ]
         ],
         "hovertemplate": "<b>%{location}</b><br>Count: %{z}<extra></extra>",
         "locationmode": "country names",
         "locations": [
          "Albania",
          "Argentina",
          "Armenia",
          "Australia",
          "Austria",
          "Bahamas",
          "Barbados",
          "Belarus",
          "Belgium",
          "Belize",
          "Bolivia",
          "Bosnia and Herzegovina",
          "Brazil",
          "Bulgaria",
          "Cambodia",
          "Canada",
          "Cayman Islands",
          "Chile",
          "China",
          "Colombia",
          "Costa Rica",
          "Croatia",
          "Cuba",
          "Cyprus",
          "Czech Republic",
          "Denmark",
          "Dominican Republic",
          "Ecuador",
          "Egypt",
          "El Salvador",
          "Estonia",
          "Ethiopia",
          "Faroe Islands",
          "Fiji Islands",
          "Finland",
          "France",
          "French Polynesia",
          "Georgia",
          "Germany",
          "Greece",
          "Greenland",
          "Guatemala",
          "Guernsey",
          "Honduras",
          "Hong Kong",
          "Hungary",
          "Iceland",
          "India",
          "Indonesia",
          "Ireland",
          "Isle of Man",
          "Israel",
          "Italy",
          "Jamaica",
          "Japan",
          "Jersey",
          "Jordan",
          "Kazakhstan",
          "Kenya",
          "Kosovo",
          "Laos",
          "Latvia",
          "Lebanon",
          "Liechtenstein",
          "Lithuania",
          "Luxembourg",
          "Macedonia",
          "Malaysia",
          "Malta",
          "Mauritius",
          "Mexico",
          "Moldova",
          "Mongolia",
          "Montenegro",
          "Morocco",
          "Mozambique",
          "Myanmar",
          "Namibia",
          "Nepal",
          "Netherlands",
          "New Zealand",
          "Nicaragua",
          "Nigeria",
          "Norway",
          "Palestine",
          "Panama",
          "Peru",
          "Philippines",
          "Poland",
          "Portugal",
          "Puerto Rico",
          "Romania",
          "Russia",
          "Serbia",
          "Singapore",
          "Slovak Republic",
          "Slovenia",
          "South Africa",
          "South Korea",
          "Spain",
          "Sri Lanka",
          "Sweden",
          "Switzerland",
          "Taiwan",
          "Tanzania",
          "Thailand",
          "Trinidad & Tobago",
          "Tunisia",
          "Turkey",
          "Uganda",
          "Ukraine",
          "United Kingdom",
          "Uruguay",
          "Venezuela",
          "Vietnam",
          "Virgin Islands (U.S.)"
         ],
         "showscale": false,
         "type": "choropleth",
         "visible": true,
         "z": [
          2.106707317073171,
          2.593903262092238,
          2.17590206185567,
          3.0092702040816324,
          3.0573023377987916,
          2.114775413711584,
          2.2549586776859503,
          2.5338983050847457,
          3.498862496568845,
          2.4082474226804123,
          2.1202797202797203,
          2.3385940730530668,
          2.93992215735335,
          2.3493858751279424,
          2.3267465069860283,
          3.254933962638322,
          2.529811320754717,
          2.84954652334565,
          2.1601395117090183,
          2.220903522205207,
          2.185622775800712,
          2.689896339063115,
          1.908790170132325,
          2.3285562632696393,
          3.03699102215214,
          3.108161405659414,
          1.9809389671361501,
          2.3505067567567566,
          1.9142053445850915,
          1.8266106442577033,
          3.0014473380963356,
          2.345217391304348,
          2.5894979079497906,
          2.1094202898550725,
          2.9564455269620074,
          2.944115175372639,
          2.1266917293233085,
          2.2499212598425196,
          3.052022260439242,
          2.640933140933141,
          2.7884652981427176,
          1.8197941409342835,
          2.648780487804878,
          1.9959484346224676,
          2.577330508474576,
          2.803294096978215,
          3.126378800107614,
          2.089716874292186,
          2.1145228215767635,
          3.220228069691029,
          3.113756613756614,
          2.9198773006134973,
          3.2463751992751546,
          2.4712605042016804,
          3.0611929732564236,
          2.9524663677130043,
          2.0061818181818185,
          2.2869969040247677,
          2.1515441176470587,
          2.5621621621621617,
          2.2748031496062993,
          2.756358721203573,
          2.4499999999999997,
          2.8109375,
          2.6424423705830744,
          2.625388802488336,
          2.191194968553459,
          2.4740683229813665,
          2.5017187499999998,
          2.1019522776572668,
          2.3029950341402854,
          2.4814685314685314,
          2.1280442804428046,
          2.387988826815642,
          2.148988439306358,
          2.126523297491039,
          1.955704697986577,
          2.4516819571865445,
          2.0740072202166067,
          3.178312295551572,
          3.308627245312705,
          1.7877510040160642,
          2.770376175548589,
          3.332613970118759,
          2.511822660098522,
          2.1354297693920334,
          2.413156602847325,
          2.1414703110273328,
          3.157486410963099,
          2.6183974932855865,
          2.4566600397614313,
          2.4094682230869,
          2.663845856993219,
          2.769762711864407,
          2.5796340023612747,
          2.989821860947769,
          2.7281171125694095,
          2.7713726343267346,
          2.201702657807309,
          3.0516496735021197,
          3.319483919222139,
          3.182736117536555,
          3.1767964935214734,
          2.27001287001287,
          1.9867132867132866,
          2.1842605470560965,
          2.8008745080892,
          2.011827956989247,
          2.260093252879868,
          1.9305993690851735,
          2.5340480495995865,
          3.2585933279696566,
          2.3375921375921376,
          1.9222429906542058,
          2.1311187312473208,
          2.7478991596638656
         ]
        },
        {
         "colorbar": {
          "len": 1,
          "title": {
           "text": "Scale"
          }
         },
         "colorscale": [
          [
           0,
           "rgb(247,251,255)"
          ],
          [
           0.125,
           "rgb(222,235,247)"
          ],
          [
           0.25,
           "rgb(198,219,239)"
          ],
          [
           0.375,
           "rgb(158,202,225)"
          ],
          [
           0.5,
           "rgb(107,174,214)"
          ],
          [
           0.625,
           "rgb(66,146,198)"
          ],
          [
           0.75,
           "rgb(33,113,181)"
          ],
          [
           0.875,
           "rgb(8,81,156)"
          ],
          [
           1,
           "rgb(8,48,107)"
          ]
         ],
         "hovertemplate": "<b>%{location}</b><br>Count: %{z}<extra></extra>",
         "locationmode": "USA-states",
         "locations": [
          "AL",
          "AK",
          "AZ",
          "AR",
          "CA",
          "CO",
          "CT",
          "DE",
          "FL",
          "GA",
          "HI",
          "ID",
          "IL",
          "IN",
          "IA",
          "KS",
          "KY",
          "LA",
          "ME",
          "MD",
          "MA",
          "MI",
          "MN",
          "MS",
          "MO",
          "MT",
          "NE",
          "NV",
          "NH",
          "NJ",
          "NM",
          "NY",
          "NC",
          "ND",
          "OH",
          "OK",
          "OR",
          "PA",
          "RI",
          "SC",
          "SD",
          "TN",
          "TX",
          "UT",
          "VT",
          "VA",
          "WA",
          "DC",
          "WV",
          "WI",
          "WY"
         ],
         "type": "choropleth",
         "visible": true,
         "z": [
          3.306706281833616,
          3.6292500695023633,
          3.4244582512501895,
          3.185766092475068,
          3.6018346959142735,
          3.318344085777243,
          3.451363316936051,
          3.349786307555842,
          3.3750770388840534,
          3.488273797089339,
          3.264427719397898,
          3.4358982163511294,
          3.546701061410932,
          3.396880126465237,
          3.394675552951516,
          3.4142473719525834,
          3.318881672738793,
          3.0494646121702793,
          3.4385139879522524,
          3.410356029275548,
          3.4534238373530823,
          3.4657253880938863,
          3.395324224764652,
          3.281673177083333,
          2.831269104494509,
          3.2968257349808265,
          3.3074942645934233,
          3.1940584903479365,
          3.4892693035408593,
          3.408511831726556,
          3.389388544104182,
          3.4534294474988574,
          3.4002720254401257,
          3.2949315068493155,
          3.551833816533904,
          3.6187507263219056,
          3.532164550839526,
          3.335623363232382,
          3.2283056478405316,
          3.4675937940761634,
          3.179528301886793,
          3.2514927832333753,
          3.346471499706648,
          3.4455520866975275,
          3.4843554553044394,
          3.391608148508656,
          3.346855993154645,
          3.512859627994112,
          3.1786682152535812,
          2.9661229238027533,
          3.3636292223095055
         ],
         "zmax": 3.6292500695023633,
         "zmin": 1.7877510040160642
        }
       ],
       "layout": {
        "geo": {
         "projection": {
          "type": "equirectangular"
         },
         "showcoastlines": true,
         "showframe": false
        },
        "height": 600,
        "template": {
         "data": {
          "bar": [
           {
            "error_x": {
             "color": "#2a3f5f"
            },
            "error_y": {
             "color": "#2a3f5f"
            },
            "marker": {
             "line": {
              "color": "#E5ECF6",
              "width": 0.5
             },
             "pattern": {
              "fillmode": "overlay",
              "size": 10,
              "solidity": 0.2
             }
            },
            "type": "bar"
           }
          ],
          "barpolar": [
           {
            "marker": {
             "line": {
              "color": "#E5ECF6",
              "width": 0.5
             },
             "pattern": {
              "fillmode": "overlay",
              "size": 10,
              "solidity": 0.2
             }
            },
            "type": "barpolar"
           }
          ],
          "carpet": [
           {
            "aaxis": {
             "endlinecolor": "#2a3f5f",
             "gridcolor": "white",
             "linecolor": "white",
             "minorgridcolor": "white",
             "startlinecolor": "#2a3f5f"
            },
            "baxis": {
             "endlinecolor": "#2a3f5f",
             "gridcolor": "white",
             "linecolor": "white",
             "minorgridcolor": "white",
             "startlinecolor": "#2a3f5f"
            },
            "type": "carpet"
           }
          ],
          "choropleth": [
           {
            "colorbar": {
             "outlinewidth": 0,
             "ticks": ""
            },
            "type": "choropleth"
           }
          ],
          "contour": [
           {
            "colorbar": {
             "outlinewidth": 0,
             "ticks": ""
            },
            "colorscale": [
             [
              0,
              "#0d0887"
             ],
             [
              0.1111111111111111,
              "#46039f"
             ],
             [
              0.2222222222222222,
              "#7201a8"
             ],
             [
              0.3333333333333333,
              "#9c179e"
             ],
             [
              0.4444444444444444,
              "#bd3786"
             ],
             [
              0.5555555555555556,
              "#d8576b"
             ],
             [
              0.6666666666666666,
              "#ed7953"
             ],
             [
              0.7777777777777778,
              "#fb9f3a"
             ],
             [
              0.8888888888888888,
              "#fdca26"
             ],
             [
              1,
              "#f0f921"
             ]
            ],
            "type": "contour"
           }
          ],
          "contourcarpet": [
           {
            "colorbar": {
             "outlinewidth": 0,
             "ticks": ""
            },
            "type": "contourcarpet"
           }
          ],
          "heatmap": [
           {
            "colorbar": {
             "outlinewidth": 0,
             "ticks": ""
            },
            "colorscale": [
             [
              0,
              "#0d0887"
             ],
             [
              0.1111111111111111,
              "#46039f"
             ],
             [
              0.2222222222222222,
              "#7201a8"
             ],
             [
              0.3333333333333333,
              "#9c179e"
             ],
             [
              0.4444444444444444,
              "#bd3786"
             ],
             [
              0.5555555555555556,
              "#d8576b"
             ],
             [
              0.6666666666666666,
              "#ed7953"
             ],
             [
              0.7777777777777778,
              "#fb9f3a"
             ],
             [
              0.8888888888888888,
              "#fdca26"
             ],
             [
              1,
              "#f0f921"
             ]
            ],
            "type": "heatmap"
           }
          ],
          "heatmapgl": [
           {
            "colorbar": {
             "outlinewidth": 0,
             "ticks": ""
            },
            "colorscale": [
             [
              0,
              "#0d0887"
             ],
             [
              0.1111111111111111,
              "#46039f"
             ],
             [
              0.2222222222222222,
              "#7201a8"
             ],
             [
              0.3333333333333333,
              "#9c179e"
             ],
             [
              0.4444444444444444,
              "#bd3786"
             ],
             [
              0.5555555555555556,
              "#d8576b"
             ],
             [
              0.6666666666666666,
              "#ed7953"
             ],
             [
              0.7777777777777778,
              "#fb9f3a"
             ],
             [
              0.8888888888888888,
              "#fdca26"
             ],
             [
              1,
              "#f0f921"
             ]
            ],
            "type": "heatmapgl"
           }
          ],
          "histogram": [
           {
            "marker": {
             "pattern": {
              "fillmode": "overlay",
              "size": 10,
              "solidity": 0.2
             }
            },
            "type": "histogram"
           }
          ],
          "histogram2d": [
           {
            "colorbar": {
             "outlinewidth": 0,
             "ticks": ""
            },
            "colorscale": [
             [
              0,
              "#0d0887"
             ],
             [
              0.1111111111111111,
              "#46039f"
             ],
             [
              0.2222222222222222,
              "#7201a8"
             ],
             [
              0.3333333333333333,
              "#9c179e"
             ],
             [
              0.4444444444444444,
              "#bd3786"
             ],
             [
              0.5555555555555556,
              "#d8576b"
             ],
             [
              0.6666666666666666,
              "#ed7953"
             ],
             [
              0.7777777777777778,
              "#fb9f3a"
             ],
             [
              0.8888888888888888,
              "#fdca26"
             ],
             [
              1,
              "#f0f921"
             ]
            ],
            "type": "histogram2d"
           }
          ],
          "histogram2dcontour": [
           {
            "colorbar": {
             "outlinewidth": 0,
             "ticks": ""
            },
            "colorscale": [
             [
              0,
              "#0d0887"
             ],
             [
              0.1111111111111111,
              "#46039f"
             ],
             [
              0.2222222222222222,
              "#7201a8"
             ],
             [
              0.3333333333333333,
              "#9c179e"
             ],
             [
              0.4444444444444444,
              "#bd3786"
             ],
             [
              0.5555555555555556,
              "#d8576b"
             ],
             [
              0.6666666666666666,
              "#ed7953"
             ],
             [
              0.7777777777777778,
              "#fb9f3a"
             ],
             [
              0.8888888888888888,
              "#fdca26"
             ],
             [
              1,
              "#f0f921"
             ]
            ],
            "type": "histogram2dcontour"
           }
          ],
          "mesh3d": [
           {
            "colorbar": {
             "outlinewidth": 0,
             "ticks": ""
            },
            "type": "mesh3d"
           }
          ],
          "parcoords": [
           {
            "line": {
             "colorbar": {
              "outlinewidth": 0,
              "ticks": ""
             }
            },
            "type": "parcoords"
           }
          ],
          "pie": [
           {
            "automargin": true,
            "type": "pie"
           }
          ],
          "scatter": [
           {
            "fillpattern": {
             "fillmode": "overlay",
             "size": 10,
             "solidity": 0.2
            },
            "type": "scatter"
           }
          ],
          "scatter3d": [
           {
            "line": {
             "colorbar": {
              "outlinewidth": 0,
              "ticks": ""
             }
            },
            "marker": {
             "colorbar": {
              "outlinewidth": 0,
              "ticks": ""
             }
            },
            "type": "scatter3d"
           }
          ],
          "scattercarpet": [
           {
            "marker": {
             "colorbar": {
              "outlinewidth": 0,
              "ticks": ""
             }
            },
            "type": "scattercarpet"
           }
          ],
          "scattergeo": [
           {
            "marker": {
             "colorbar": {
              "outlinewidth": 0,
              "ticks": ""
             }
            },
            "type": "scattergeo"
           }
          ],
          "scattergl": [
           {
            "marker": {
             "colorbar": {
              "outlinewidth": 0,
              "ticks": ""
             }
            },
            "type": "scattergl"
           }
          ],
          "scattermapbox": [
           {
            "marker": {
             "colorbar": {
              "outlinewidth": 0,
              "ticks": ""
             }
            },
            "type": "scattermapbox"
           }
          ],
          "scatterpolar": [
           {
            "marker": {
             "colorbar": {
              "outlinewidth": 0,
              "ticks": ""
             }
            },
            "type": "scatterpolar"
           }
          ],
          "scatterpolargl": [
           {
            "marker": {
             "colorbar": {
              "outlinewidth": 0,
              "ticks": ""
             }
            },
            "type": "scatterpolargl"
           }
          ],
          "scatterternary": [
           {
            "marker": {
             "colorbar": {
              "outlinewidth": 0,
              "ticks": ""
             }
            },
            "type": "scatterternary"
           }
          ],
          "surface": [
           {
            "colorbar": {
             "outlinewidth": 0,
             "ticks": ""
            },
            "colorscale": [
             [
              0,
              "#0d0887"
             ],
             [
              0.1111111111111111,
              "#46039f"
             ],
             [
              0.2222222222222222,
              "#7201a8"
             ],
             [
              0.3333333333333333,
              "#9c179e"
             ],
             [
              0.4444444444444444,
              "#bd3786"
             ],
             [
              0.5555555555555556,
              "#d8576b"
             ],
             [
              0.6666666666666666,
              "#ed7953"
             ],
             [
              0.7777777777777778,
              "#fb9f3a"
             ],
             [
              0.8888888888888888,
              "#fdca26"
             ],
             [
              1,
              "#f0f921"
             ]
            ],
            "type": "surface"
           }
          ],
          "table": [
           {
            "cells": {
             "fill": {
              "color": "#EBF0F8"
             },
             "line": {
              "color": "white"
             }
            },
            "header": {
             "fill": {
              "color": "#C8D4E3"
             },
             "line": {
              "color": "white"
             }
            },
            "type": "table"
           }
          ]
         },
         "layout": {
          "annotationdefaults": {
           "arrowcolor": "#2a3f5f",
           "arrowhead": 0,
           "arrowwidth": 1
          },
          "autotypenumbers": "strict",
          "coloraxis": {
           "colorbar": {
            "outlinewidth": 0,
            "ticks": ""
           }
          },
          "colorscale": {
           "diverging": [
            [
             0,
             "#8e0152"
            ],
            [
             0.1,
             "#c51b7d"
            ],
            [
             0.2,
             "#de77ae"
            ],
            [
             0.3,
             "#f1b6da"
            ],
            [
             0.4,
             "#fde0ef"
            ],
            [
             0.5,
             "#f7f7f7"
            ],
            [
             0.6,
             "#e6f5d0"
            ],
            [
             0.7,
             "#b8e186"
            ],
            [
             0.8,
             "#7fbc41"
            ],
            [
             0.9,
             "#4d9221"
            ],
            [
             1,
             "#276419"
            ]
           ],
           "sequential": [
            [
             0,
             "#0d0887"
            ],
            [
             0.1111111111111111,
             "#46039f"
            ],
            [
             0.2222222222222222,
             "#7201a8"
            ],
            [
             0.3333333333333333,
             "#9c179e"
            ],
            [
             0.4444444444444444,
             "#bd3786"
            ],
            [
             0.5555555555555556,
             "#d8576b"
            ],
            [
             0.6666666666666666,
             "#ed7953"
            ],
            [
             0.7777777777777778,
             "#fb9f3a"
            ],
            [
             0.8888888888888888,
             "#fdca26"
            ],
            [
             1,
             "#f0f921"
            ]
           ],
           "sequentialminus": [
            [
             0,
             "#0d0887"
            ],
            [
             0.1111111111111111,
             "#46039f"
            ],
            [
             0.2222222222222222,
             "#7201a8"
            ],
            [
             0.3333333333333333,
             "#9c179e"
            ],
            [
             0.4444444444444444,
             "#bd3786"
            ],
            [
             0.5555555555555556,
             "#d8576b"
            ],
            [
             0.6666666666666666,
             "#ed7953"
            ],
            [
             0.7777777777777778,
             "#fb9f3a"
            ],
            [
             0.8888888888888888,
             "#fdca26"
            ],
            [
             1,
             "#f0f921"
            ]
           ]
          },
          "colorway": [
           "#636efa",
           "#EF553B",
           "#00cc96",
           "#ab63fa",
           "#FFA15A",
           "#19d3f3",
           "#FF6692",
           "#B6E880",
           "#FF97FF",
           "#FECB52"
          ],
          "font": {
           "color": "#2a3f5f"
          },
          "geo": {
           "bgcolor": "white",
           "lakecolor": "white",
           "landcolor": "#E5ECF6",
           "showlakes": true,
           "showland": true,
           "subunitcolor": "white"
          },
          "hoverlabel": {
           "align": "left"
          },
          "hovermode": "closest",
          "mapbox": {
           "style": "light"
          },
          "paper_bgcolor": "white",
          "plot_bgcolor": "#E5ECF6",
          "polar": {
           "angularaxis": {
            "gridcolor": "white",
            "linecolor": "white",
            "ticks": ""
           },
           "bgcolor": "#E5ECF6",
           "radialaxis": {
            "gridcolor": "white",
            "linecolor": "white",
            "ticks": ""
           }
          },
          "scene": {
           "xaxis": {
            "backgroundcolor": "#E5ECF6",
            "gridcolor": "white",
            "gridwidth": 2,
            "linecolor": "white",
            "showbackground": true,
            "ticks": "",
            "zerolinecolor": "white"
           },
           "yaxis": {
            "backgroundcolor": "#E5ECF6",
            "gridcolor": "white",
            "gridwidth": 2,
            "linecolor": "white",
            "showbackground": true,
            "ticks": "",
            "zerolinecolor": "white"
           },
           "zaxis": {
            "backgroundcolor": "#E5ECF6",
            "gridcolor": "white",
            "gridwidth": 2,
            "linecolor": "white",
            "showbackground": true,
            "ticks": "",
            "zerolinecolor": "white"
           }
          },
          "shapedefaults": {
           "line": {
            "color": "#2a3f5f"
           }
          },
          "ternary": {
           "aaxis": {
            "gridcolor": "white",
            "linecolor": "white",
            "ticks": ""
           },
           "baxis": {
            "gridcolor": "white",
            "linecolor": "white",
            "ticks": ""
           },
           "bgcolor": "#E5ECF6",
           "caxis": {
            "gridcolor": "white",
            "linecolor": "white",
            "ticks": ""
           }
          },
          "title": {
           "x": 0.05
          },
          "xaxis": {
           "automargin": true,
           "gridcolor": "white",
           "linecolor": "white",
           "ticks": "",
           "title": {
            "standoff": 15
           },
           "zerolinecolor": "white",
           "zerolinewidth": 2
          },
          "yaxis": {
           "automargin": true,
           "gridcolor": "white",
           "linecolor": "white",
           "ticks": "",
           "title": {
            "standoff": 15
           },
           "zerolinecolor": "white",
           "zerolinewidth": 2
          }
         }
        },
        "title": {
         "text": "Beers per country",
         "x": 0.5
        },
        "width": 800
       }
      }
     },
     "metadata": {},
     "output_type": "display_data"
    }
   ],
   "source": [
    "# Display the ratings in the world map\n",
    "average_rating_no_US, average_rating_US = global_analysis.ratings_world_map()"
   ]
  },
  {
   "cell_type": "code",
   "execution_count": 25,
   "metadata": {},
   "outputs": [
    {
     "data": {
      "text/html": [
       "<div>\n",
       "<style scoped>\n",
       "    .dataframe tbody tr th:only-of-type {\n",
       "        vertical-align: middle;\n",
       "    }\n",
       "\n",
       "    .dataframe tbody tr th {\n",
       "        vertical-align: top;\n",
       "    }\n",
       "\n",
       "    .dataframe thead th {\n",
       "        text-align: right;\n",
       "    }\n",
       "</style>\n",
       "<table border=\"1\" class=\"dataframe\">\n",
       "  <thead>\n",
       "    <tr style=\"text-align: right;\">\n",
       "      <th></th>\n",
       "      <th>location</th>\n",
       "      <th>count</th>\n",
       "    </tr>\n",
       "  </thead>\n",
       "  <tbody>\n",
       "    <tr>\n",
       "      <th>1</th>\n",
       "      <td>Alaska</td>\n",
       "      <td>3.629250</td>\n",
       "    </tr>\n",
       "    <tr>\n",
       "      <th>35</th>\n",
       "      <td>Oklahoma</td>\n",
       "      <td>3.618751</td>\n",
       "    </tr>\n",
       "    <tr>\n",
       "      <th>4</th>\n",
       "      <td>California</td>\n",
       "      <td>3.601835</td>\n",
       "    </tr>\n",
       "    <tr>\n",
       "      <th>34</th>\n",
       "      <td>Ohio</td>\n",
       "      <td>3.551834</td>\n",
       "    </tr>\n",
       "    <tr>\n",
       "      <th>12</th>\n",
       "      <td>Illinois</td>\n",
       "      <td>3.546701</td>\n",
       "    </tr>\n",
       "    <tr>\n",
       "      <th>36</th>\n",
       "      <td>Oregon</td>\n",
       "      <td>3.532165</td>\n",
       "    </tr>\n",
       "    <tr>\n",
       "      <th>47</th>\n",
       "      <td>Washington DC</td>\n",
       "      <td>3.512860</td>\n",
       "    </tr>\n",
       "    <tr>\n",
       "      <th>8</th>\n",
       "      <td>Belgium</td>\n",
       "      <td>3.498862</td>\n",
       "    </tr>\n",
       "    <tr>\n",
       "      <th>28</th>\n",
       "      <td>New Hampshire</td>\n",
       "      <td>3.489269</td>\n",
       "    </tr>\n",
       "    <tr>\n",
       "      <th>9</th>\n",
       "      <td>Georgia</td>\n",
       "      <td>3.488274</td>\n",
       "    </tr>\n",
       "  </tbody>\n",
       "</table>\n",
       "</div>"
      ],
      "text/plain": [
       "         location     count\n",
       "1          Alaska  3.629250\n",
       "35       Oklahoma  3.618751\n",
       "4      California  3.601835\n",
       "34           Ohio  3.551834\n",
       "12       Illinois  3.546701\n",
       "36         Oregon  3.532165\n",
       "47  Washington DC  3.512860\n",
       "8         Belgium  3.498862\n",
       "28  New Hampshire  3.489269\n",
       "9         Georgia  3.488274"
      ]
     },
     "execution_count": 25,
     "metadata": {},
     "output_type": "execute_result"
    }
   ],
   "source": [
    "average_rating = pd.concat([average_rating_no_US, average_rating_US]).sort_values('count', ascending=False)\n",
    "average_rating.head(10)"
   ]
  },
  {
   "cell_type": "code",
   "execution_count": 26,
   "metadata": {},
   "outputs": [
    {
     "data": {
      "text/html": [
       "<div>\n",
       "<style scoped>\n",
       "    .dataframe tbody tr th:only-of-type {\n",
       "        vertical-align: middle;\n",
       "    }\n",
       "\n",
       "    .dataframe tbody tr th {\n",
       "        vertical-align: top;\n",
       "    }\n",
       "\n",
       "    .dataframe thead th {\n",
       "        text-align: right;\n",
       "    }\n",
       "</style>\n",
       "<table border=\"1\" class=\"dataframe\">\n",
       "  <thead>\n",
       "    <tr style=\"text-align: right;\">\n",
       "      <th></th>\n",
       "      <th>location</th>\n",
       "      <th>count</th>\n",
       "    </tr>\n",
       "  </thead>\n",
       "  <tbody>\n",
       "    <tr>\n",
       "      <th>81</th>\n",
       "      <td>Nicaragua</td>\n",
       "      <td>1.787751</td>\n",
       "    </tr>\n",
       "    <tr>\n",
       "      <th>41</th>\n",
       "      <td>Guatemala</td>\n",
       "      <td>1.819794</td>\n",
       "    </tr>\n",
       "    <tr>\n",
       "      <th>29</th>\n",
       "      <td>El Salvador</td>\n",
       "      <td>1.826611</td>\n",
       "    </tr>\n",
       "    <tr>\n",
       "      <th>22</th>\n",
       "      <td>Cuba</td>\n",
       "      <td>1.908790</td>\n",
       "    </tr>\n",
       "    <tr>\n",
       "      <th>28</th>\n",
       "      <td>Egypt</td>\n",
       "      <td>1.914205</td>\n",
       "    </tr>\n",
       "    <tr>\n",
       "      <th>113</th>\n",
       "      <td>Venezuela</td>\n",
       "      <td>1.922243</td>\n",
       "    </tr>\n",
       "    <tr>\n",
       "      <th>109</th>\n",
       "      <td>Uganda</td>\n",
       "      <td>1.930599</td>\n",
       "    </tr>\n",
       "    <tr>\n",
       "      <th>76</th>\n",
       "      <td>Myanmar</td>\n",
       "      <td>1.955705</td>\n",
       "    </tr>\n",
       "    <tr>\n",
       "      <th>26</th>\n",
       "      <td>Dominican Republic</td>\n",
       "      <td>1.980939</td>\n",
       "    </tr>\n",
       "    <tr>\n",
       "      <th>104</th>\n",
       "      <td>Tanzania</td>\n",
       "      <td>1.986713</td>\n",
       "    </tr>\n",
       "  </tbody>\n",
       "</table>\n",
       "</div>"
      ],
      "text/plain": [
       "               location     count\n",
       "81            Nicaragua  1.787751\n",
       "41            Guatemala  1.819794\n",
       "29          El Salvador  1.826611\n",
       "22                 Cuba  1.908790\n",
       "28                Egypt  1.914205\n",
       "113           Venezuela  1.922243\n",
       "109              Uganda  1.930599\n",
       "76              Myanmar  1.955705\n",
       "26   Dominican Republic  1.980939\n",
       "104            Tanzania  1.986713"
      ]
     },
     "execution_count": 26,
     "metadata": {},
     "output_type": "execute_result"
    }
   ],
   "source": [
    "average_rating = pd.concat([average_rating_no_US, average_rating_US]).sort_values('count', ascending=True)\n",
    "average_rating.head(10)"
   ]
  },
  {
   "cell_type": "markdown",
   "metadata": {},
   "source": [
    "It seems that users tend to favour beers that are produced in the United States. Indeed we see that the top 5 countries in terms of average ratings are all from US and we need to get to the 8th place to find a country outside the states. <br>\n",
    "We see that the beers produced in European countries are for most slightly above the middle of the scale, with Belgium that is the highest rated country of Europe followed by Norway and Englang. Surprisingly we see that Germany beers are liked slightly less the other Center Europe countries. <br><br>\n",
    "We see that beers produced outside of Europe are less liked than European or US ones with an average rating significantly low in some countries. The worst ones have an average rating that is below 2."
   ]
  },
  {
   "cell_type": "markdown",
   "metadata": {},
   "source": [
    "### Rating evolution over time in the different countries\n",
    "Here we are going to plot only the countries that have at least one review per year."
   ]
  },
  {
   "cell_type": "code",
   "execution_count": 27,
   "metadata": {},
   "outputs": [
    {
     "data": {
      "application/vnd.plotly.v1+json": {
       "config": {
        "plotlyServerURL": "https://plot.ly"
       },
       "data": [
        {
         "colorscale": [
          [
           0,
           "#440154"
          ],
          [
           0.1111111111111111,
           "#482878"
          ],
          [
           0.2222222222222222,
           "#3e4989"
          ],
          [
           0.3333333333333333,
           "#31688e"
          ],
          [
           0.4444444444444444,
           "#26828e"
          ],
          [
           0.5555555555555556,
           "#1f9e89"
          ],
          [
           0.6666666666666666,
           "#35b779"
          ],
          [
           0.7777777777777778,
           "#6ece58"
          ],
          [
           0.8888888888888888,
           "#b5de2b"
          ],
          [
           1,
           "#fde725"
          ]
         ],
         "locationmode": "country names",
         "locations": [
          "Albania",
          "Argentina",
          "Armenia",
          "Australia",
          "Austria",
          "Bahamas",
          "Barbados",
          "Belarus",
          "Belgium",
          "Belize",
          "Bolivia",
          "Bosnia and Herzegovina",
          "Brazil",
          "Bulgaria",
          "Cambodia",
          "Canada",
          "Cayman Islands",
          "Chile",
          "China",
          "Colombia",
          "Costa Rica",
          "Croatia",
          "Cuba",
          "Cyprus",
          "Czech Republic",
          "Denmark",
          "Dominican Republic",
          "Ecuador",
          "Egypt",
          "El Salvador",
          "Estonia",
          "Ethiopia",
          "Faroe Islands",
          "Fiji Islands",
          "Finland",
          "France",
          "French Polynesia",
          "Georgia",
          "Germany",
          "Greece",
          "Guatemala",
          "Guernsey",
          "Honduras",
          "Hong Kong",
          "Hungary",
          "Iceland",
          "India",
          "Indonesia",
          "Ireland",
          "Isle of Man",
          "Israel",
          "Italy",
          "Jamaica",
          "Japan",
          "Jersey",
          "Kenya",
          "Laos",
          "Latvia",
          "Lebanon",
          "Lithuania",
          "Luxembourg",
          "Macedonia",
          "Malaysia",
          "Malta",
          "Mexico",
          "Moldova",
          "Montenegro",
          "Morocco",
          "Myanmar",
          "Namibia",
          "Netherlands",
          "New Zealand",
          "Nigeria",
          "Norway",
          "Palestine",
          "Panama",
          "Peru",
          "Philippines",
          "Poland",
          "Portugal",
          "Puerto Rico",
          "Romania",
          "Russia",
          "Serbia",
          "Singapore",
          "Slovak Republic",
          "Slovenia",
          "South Africa",
          "South Korea",
          "Spain",
          "Sri Lanka",
          "Sweden",
          "Switzerland",
          "Taiwan",
          "Tanzania",
          "Thailand",
          "Trinidad & Tobago",
          "Tunisia",
          "Turkey",
          "Uganda",
          "Ukraine",
          "United Kingdom",
          "Venezuela",
          "Vietnam",
          "Virgin Islands (U.S.)"
         ],
         "type": "choropleth",
         "z": [
          1.64,
          2.219607843137255,
          2.4833333333333334,
          2.637465940054496,
          3.0450643776824036,
          2.3863636363636362,
          2.05,
          1.975,
          3.567180722891566,
          2.15,
          1.4333333333333333,
          2.6166666666666667,
          2.708490566037736,
          1.7684210526315791,
          2.1666666666666665,
          3.010460950561261,
          2.65,
          1.9280000000000002,
          2.09551282051282,
          2.2473684210526317,
          1.9727272727272727,
          2.6013157894736842,
          1.6809523809523808,
          2.0307692307692307,
          3.245121951219512,
          2.603767820773931,
          2.317647058823529,
          2.0300000000000002,
          2.3555555555555556,
          2.0588235294117645,
          2.175675675675676,
          2.5833333333333335,
          2.091666666666667,
          1.3333333333333333,
          2.912745098039216,
          2.8916040100250626,
          1.9571428571428573,
          2.9,
          3.2003504161191416,
          2.3319444444444444,
          1.891304347826087,
          2.1,
          2.33125,
          1.8615384615384616,
          2.111111111111111,
          1.25,
          2.1483870967741936,
          2.0407407407407407,
          3.3298438934802568,
          2.8428571428571425,
          2.0813953488372094,
          2.7662591687041567,
          2.5891428571428574,
          2.5176806083650187,
          2.58,
          2.23,
          2.3,
          2.6160493827160494,
          1.8714285714285712,
          2.6210526315789475,
          2.6625,
          2.5875,
          2.5777777777777775,
          2.5666666666666664,
          2.2282837127845885,
          2.55,
          2.57,
          2.7,
          2.1333333333333333,
          2.469047619047619,
          2.879514963880289,
          3.0427350427350426,
          2.6500000000000004,
          2.8799242424242424,
          2.2333333333333334,
          2.0416666666666665,
          2.3346153846153848,
          2.241758241758242,
          2.9525842696629216,
          2.22,
          1.875,
          2.5791666666666666,
          2.45021645021645,
          2.6639999999999997,
          2.806451612903226,
          2.975,
          2.171641791044776,
          2.0528089887640446,
          1.6098039215686273,
          2.34,
          3.389655172413793,
          2.857142857142857,
          3.0141955835962144,
          1.98,
          1.3,
          2.3840579710144927,
          3.0451851851851854,
          2.3666666666666667,
          2.2842105263157895,
          1.86,
          2.5565217391304347,
          3.3663872691933916,
          2.3000000000000003,
          2.1551724137931036,
          3.288888888888889
         ],
         "zmax": 4,
         "zmin": 1
        },
        {
         "colorscale": [
          [
           0,
           "#440154"
          ],
          [
           0.1111111111111111,
           "#482878"
          ],
          [
           0.2222222222222222,
           "#3e4989"
          ],
          [
           0.3333333333333333,
           "#31688e"
          ],
          [
           0.4444444444444444,
           "#26828e"
          ],
          [
           0.5555555555555556,
           "#1f9e89"
          ],
          [
           0.6666666666666666,
           "#35b779"
          ],
          [
           0.7777777777777778,
           "#6ece58"
          ],
          [
           0.8888888888888888,
           "#b5de2b"
          ],
          [
           1,
           "#fde725"
          ]
         ],
         "locationmode": "USA-states",
         "locations": [
          "AL",
          "AK",
          "AZ",
          "AR",
          "CA",
          "CO",
          "CT",
          "DE",
          "FL",
          "GA",
          "HI",
          "ID",
          "IL",
          "IN",
          "IA",
          "KS",
          "KY",
          "LA",
          "ME",
          "MD",
          "MA",
          "MI",
          "MN",
          "MO",
          "MT",
          "NE",
          "NV",
          "NH",
          "NJ",
          "NM",
          "NY",
          "NC",
          "OH",
          "OK",
          "OR",
          "PA",
          "RI",
          "SC",
          "SD",
          "TN",
          "TX",
          "UT",
          "VT",
          "VA",
          "WA",
          "DC",
          "WV",
          "WI",
          "WY"
         ],
         "type": "choropleth",
         "z": [
          3.6,
          3.562433862433862,
          3.423790322580645,
          2.7181818181818183,
          3.550854793334776,
          2.6335403726708075,
          3.535971223021583,
          3.3227906976744186,
          3.06969696969697,
          3.251937984496124,
          2.7858695652173915,
          2.9609375,
          3.3622680412371135,
          3.1879999999999997,
          3.0925000000000002,
          3.0989690721649485,
          3.2312499999999997,
          2.84612676056338,
          3.421645569620253,
          3.3035632183908046,
          3.2731292517006803,
          3.217334494773519,
          2.807640067911715,
          1.9880313199105144,
          3.1714285714285713,
          3.1599999999999997,
          2.798275862068966,
          3.4696774193548383,
          3.4847222222222225,
          3.3360000000000003,
          3.1640701468189234,
          3.2416988416988417,
          3.4944148936170216,
          2.733333333333333,
          3.625200713648528,
          3.249025578562728,
          3.3183673469387753,
          3.1500000000000004,
          3.1625,
          3.1362162162162166,
          3.0546728971962613,
          3.0631578947368423,
          3.2544692737430165,
          3.1559782608695657,
          3.3244543928371573,
          3.35,
          3.4588235294117644,
          2.406057168784029,
          3.4068181818181817
         ],
         "zmax": 4,
         "zmin": 1
        }
       ],
       "frames": [
        {
         "data": [
          {
           "colorscale": [
            [
             0,
             "#440154"
            ],
            [
             0.1111111111111111,
             "#482878"
            ],
            [
             0.2222222222222222,
             "#3e4989"
            ],
            [
             0.3333333333333333,
             "#31688e"
            ],
            [
             0.4444444444444444,
             "#26828e"
            ],
            [
             0.5555555555555556,
             "#1f9e89"
            ],
            [
             0.6666666666666666,
             "#35b779"
            ],
            [
             0.7777777777777778,
             "#6ece58"
            ],
            [
             0.8888888888888888,
             "#b5de2b"
            ],
            [
             1,
             "#fde725"
            ]
           ],
           "locationmode": "country names",
           "locations": [
            "Albania",
            "Argentina",
            "Armenia",
            "Australia",
            "Austria",
            "Bahamas",
            "Barbados",
            "Belarus",
            "Belgium",
            "Belize",
            "Bolivia",
            "Bosnia and Herzegovina",
            "Brazil",
            "Bulgaria",
            "Cambodia",
            "Canada",
            "Cayman Islands",
            "Chile",
            "China",
            "Colombia",
            "Costa Rica",
            "Croatia",
            "Cuba",
            "Cyprus",
            "Czech Republic",
            "Denmark",
            "Dominican Republic",
            "Ecuador",
            "Egypt",
            "El Salvador",
            "Estonia",
            "Ethiopia",
            "Faroe Islands",
            "Fiji Islands",
            "Finland",
            "France",
            "French Polynesia",
            "Georgia",
            "Germany",
            "Greece",
            "Guatemala",
            "Guernsey",
            "Honduras",
            "Hong Kong",
            "Hungary",
            "Iceland",
            "India",
            "Indonesia",
            "Ireland",
            "Isle of Man",
            "Israel",
            "Italy",
            "Jamaica",
            "Japan",
            "Jersey",
            "Kenya",
            "Laos",
            "Latvia",
            "Lebanon",
            "Lithuania",
            "Luxembourg",
            "Macedonia",
            "Malaysia",
            "Malta",
            "Mexico",
            "Moldova",
            "Montenegro",
            "Morocco",
            "Myanmar",
            "Namibia",
            "Netherlands",
            "New Zealand",
            "Nigeria",
            "Norway",
            "Palestine",
            "Panama",
            "Peru",
            "Philippines",
            "Poland",
            "Portugal",
            "Puerto Rico",
            "Romania",
            "Russia",
            "Serbia",
            "Singapore",
            "Slovak Republic",
            "Slovenia",
            "South Africa",
            "South Korea",
            "Spain",
            "Sri Lanka",
            "Sweden",
            "Switzerland",
            "Taiwan",
            "Tanzania",
            "Thailand",
            "Trinidad & Tobago",
            "Tunisia",
            "Turkey",
            "Uganda",
            "Ukraine",
            "United Kingdom",
            "Venezuela",
            "Vietnam",
            "Virgin Islands (U.S.)"
           ],
           "type": "choropleth",
           "z": [
            1.64,
            2.219607843137255,
            2.4833333333333334,
            2.637465940054496,
            3.0450643776824036,
            2.3863636363636362,
            2.05,
            1.975,
            3.567180722891566,
            2.15,
            1.4333333333333333,
            2.6166666666666667,
            2.708490566037736,
            1.7684210526315791,
            2.1666666666666665,
            3.010460950561261,
            2.65,
            1.9280000000000002,
            2.09551282051282,
            2.2473684210526317,
            1.9727272727272727,
            2.6013157894736842,
            1.6809523809523808,
            2.0307692307692307,
            3.245121951219512,
            2.603767820773931,
            2.317647058823529,
            2.0300000000000002,
            2.3555555555555556,
            2.0588235294117645,
            2.175675675675676,
            2.5833333333333335,
            2.091666666666667,
            1.3333333333333333,
            2.912745098039216,
            2.8916040100250626,
            1.9571428571428573,
            2.9,
            3.2003504161191416,
            2.3319444444444444,
            1.891304347826087,
            2.1,
            2.33125,
            1.8615384615384616,
            2.111111111111111,
            1.25,
            2.1483870967741936,
            2.0407407407407407,
            3.3298438934802568,
            2.8428571428571425,
            2.0813953488372094,
            2.7662591687041567,
            2.5891428571428574,
            2.5176806083650187,
            2.58,
            2.23,
            2.3,
            2.6160493827160494,
            1.8714285714285712,
            2.6210526315789475,
            2.6625,
            2.5875,
            2.5777777777777775,
            2.5666666666666664,
            2.2282837127845885,
            2.55,
            2.57,
            2.7,
            2.1333333333333333,
            2.469047619047619,
            2.879514963880289,
            3.0427350427350426,
            2.6500000000000004,
            2.8799242424242424,
            2.2333333333333334,
            2.0416666666666665,
            2.3346153846153848,
            2.241758241758242,
            2.9525842696629216,
            2.22,
            1.875,
            2.5791666666666666,
            2.45021645021645,
            2.6639999999999997,
            2.806451612903226,
            2.975,
            2.171641791044776,
            2.0528089887640446,
            1.6098039215686273,
            2.34,
            3.389655172413793,
            2.857142857142857,
            3.0141955835962144,
            1.98,
            1.3,
            2.3840579710144927,
            3.0451851851851854,
            2.3666666666666667,
            2.2842105263157895,
            1.86,
            2.5565217391304347,
            3.3663872691933916,
            2.3000000000000003,
            2.1551724137931036,
            3.288888888888889
           ],
           "zmax": 4,
           "zmin": 1
          },
          {
           "colorscale": [
            [
             0,
             "#440154"
            ],
            [
             0.1111111111111111,
             "#482878"
            ],
            [
             0.2222222222222222,
             "#3e4989"
            ],
            [
             0.3333333333333333,
             "#31688e"
            ],
            [
             0.4444444444444444,
             "#26828e"
            ],
            [
             0.5555555555555556,
             "#1f9e89"
            ],
            [
             0.6666666666666666,
             "#35b779"
            ],
            [
             0.7777777777777778,
             "#6ece58"
            ],
            [
             0.8888888888888888,
             "#b5de2b"
            ],
            [
             1,
             "#fde725"
            ]
           ],
           "locationmode": "USA-states",
           "locations": [
            "AL",
            "AK",
            "AZ",
            "AR",
            "CA",
            "CO",
            "CT",
            "DE",
            "FL",
            "GA",
            "HI",
            "ID",
            "IL",
            "IN",
            "IA",
            "KS",
            "KY",
            "LA",
            "ME",
            "MD",
            "MA",
            "MI",
            "MN",
            "MO",
            "MT",
            "NE",
            "NV",
            "NH",
            "NJ",
            "NM",
            "NY",
            "NC",
            "OH",
            "OK",
            "OR",
            "PA",
            "RI",
            "SC",
            "SD",
            "TN",
            "TX",
            "UT",
            "VT",
            "VA",
            "WA",
            "DC",
            "WV",
            "WI",
            "WY"
           ],
           "type": "choropleth",
           "z": [
            3.6,
            3.562433862433862,
            3.423790322580645,
            2.7181818181818183,
            3.550854793334776,
            2.6335403726708075,
            3.535971223021583,
            3.3227906976744186,
            3.06969696969697,
            3.251937984496124,
            2.7858695652173915,
            2.9609375,
            3.3622680412371135,
            3.1879999999999997,
            3.0925000000000002,
            3.0989690721649485,
            3.2312499999999997,
            2.84612676056338,
            3.421645569620253,
            3.3035632183908046,
            3.2731292517006803,
            3.217334494773519,
            2.807640067911715,
            1.9880313199105144,
            3.1714285714285713,
            3.1599999999999997,
            2.798275862068966,
            3.4696774193548383,
            3.4847222222222225,
            3.3360000000000003,
            3.1640701468189234,
            3.2416988416988417,
            3.4944148936170216,
            2.733333333333333,
            3.625200713648528,
            3.249025578562728,
            3.3183673469387753,
            3.1500000000000004,
            3.1625,
            3.1362162162162166,
            3.0546728971962613,
            3.0631578947368423,
            3.2544692737430165,
            3.1559782608695657,
            3.3244543928371573,
            3.35,
            3.4588235294117644,
            2.406057168784029,
            3.4068181818181817
           ],
           "zmax": 4,
           "zmin": 1
          }
         ],
         "name": "2002"
        },
        {
         "data": [
          {
           "colorscale": [
            [
             0,
             "#440154"
            ],
            [
             0.1111111111111111,
             "#482878"
            ],
            [
             0.2222222222222222,
             "#3e4989"
            ],
            [
             0.3333333333333333,
             "#31688e"
            ],
            [
             0.4444444444444444,
             "#26828e"
            ],
            [
             0.5555555555555556,
             "#1f9e89"
            ],
            [
             0.6666666666666666,
             "#35b779"
            ],
            [
             0.7777777777777778,
             "#6ece58"
            ],
            [
             0.8888888888888888,
             "#b5de2b"
            ],
            [
             1,
             "#fde725"
            ]
           ],
           "locationmode": "country names",
           "locations": [
            "Albania",
            "Argentina",
            "Armenia",
            "Australia",
            "Austria",
            "Bahamas",
            "Barbados",
            "Belarus",
            "Belgium",
            "Belize",
            "Bolivia",
            "Bosnia and Herzegovina",
            "Brazil",
            "Bulgaria",
            "Cambodia",
            "Canada",
            "Cayman Islands",
            "Chile",
            "China",
            "Colombia",
            "Costa Rica",
            "Croatia",
            "Cuba",
            "Cyprus",
            "Czech Republic",
            "Denmark",
            "Dominican Republic",
            "Ecuador",
            "Egypt",
            "El Salvador",
            "Estonia",
            "Ethiopia",
            "Faroe Islands",
            "Fiji Islands",
            "Finland",
            "France",
            "French Polynesia",
            "Georgia",
            "Germany",
            "Greece",
            "Guatemala",
            "Guernsey",
            "Honduras",
            "Hong Kong",
            "Hungary",
            "Iceland",
            "India",
            "Indonesia",
            "Ireland",
            "Isle of Man",
            "Israel",
            "Italy",
            "Jamaica",
            "Japan",
            "Jersey",
            "Kenya",
            "Laos",
            "Latvia",
            "Lebanon",
            "Lithuania",
            "Luxembourg",
            "Macedonia",
            "Malaysia",
            "Malta",
            "Mexico",
            "Moldova",
            "Montenegro",
            "Morocco",
            "Myanmar",
            "Namibia",
            "Netherlands",
            "New Zealand",
            "Nigeria",
            "Norway",
            "Palestine",
            "Panama",
            "Peru",
            "Philippines",
            "Poland",
            "Portugal",
            "Puerto Rico",
            "Romania",
            "Russia",
            "Serbia",
            "Singapore",
            "Slovak Republic",
            "Slovenia",
            "South Africa",
            "South Korea",
            "Spain",
            "Sri Lanka",
            "Sweden",
            "Switzerland",
            "Taiwan",
            "Tanzania",
            "Thailand",
            "Trinidad & Tobago",
            "Tunisia",
            "Turkey",
            "Uganda",
            "Ukraine",
            "United Kingdom",
            "Venezuela",
            "Vietnam",
            "Virgin Islands (U.S.)"
           ],
           "type": "choropleth",
           "z": [
            2.3375,
            2.572972972972973,
            2.3000000000000003,
            2.4470516962843294,
            3.0760223048327138,
            1.896875,
            2.4916666666666667,
            2.1666666666666665,
            3.5668537621359224,
            2.125,
            1.78,
            2.42,
            2.519047619047619,
            2.177142857142857,
            1.7571428571428573,
            2.972661766825191,
            2.283333333333333,
            1.9714285714285715,
            2.020149253731343,
            2.0142857142857142,
            1.8333333333333333,
            2.191666666666667,
            1.5769230769230769,
            1.8966666666666667,
            3.107960576194086,
            2.574485339987523,
            1.988888888888889,
            1.3818181818181818,
            2.066666666666667,
            1.65875,
            2.409848484848485,
            2.68125,
            2.444736842105263,
            1.2799999999999998,
            2.8751054852320674,
            2.829774872912128,
            2.125,
            2.8,
            3.1773091237171536,
            2.076056338028169,
            2.006666666666667,
            1.9,
            2.0678571428571426,
            1.2466666666666666,
            2.505660377358491,
            1.876271186440678,
            2.1112359550561797,
            1.9040000000000001,
            3.233301617507136,
            2.8266666666666667,
            1.9208333333333334,
            2.68981324278438,
            2.416763005780347,
            2.5134715025906735,
            1.9333333333333333,
            2.062686567164179,
            1.8555555555555554,
            2.660204081632653,
            2.022222222222222,
            2.611607142857143,
            2.4952380952380953,
            2.16,
            2.6999999999999997,
            2.5205882352941176,
            2.118953687821612,
            2.9210526315789473,
            2.257142857142857,
            2.274074074074074,
            1.3199999999999998,
            2.6,
            2.8723655443812857,
            2.666888888888889,
            3.194736842105263,
            2.7817757009345794,
            2.1,
            0.7999999999999999,
            2.117391304347826,
            2.328888888888889,
            2.7954022988505747,
            2.091025641025641,
            1.6333333333333335,
            2.518181818181818,
            2.5849217638691324,
            2.5,
            2.43,
            2.6164383561643834,
            2.3392857142857144,
            2.1868852459016392,
            1.393478260869565,
            2.1999999999999997,
            3.4076923076923076,
            2.898446601941748,
            2.869209809264305,
            1.8714285714285714,
            1.9363636363636365,
            2.338418079096045,
            3.0267045454545456,
            2,
            2.2615384615384615,
            3.375,
            2.485616438356164,
            3.250915269946706,
            1.625,
            1.936,
            2.390909090909091
           ],
           "zmax": 4,
           "zmin": 1
          },
          {
           "colorscale": [
            [
             0,
             "#440154"
            ],
            [
             0.1111111111111111,
             "#482878"
            ],
            [
             0.2222222222222222,
             "#3e4989"
            ],
            [
             0.3333333333333333,
             "#31688e"
            ],
            [
             0.4444444444444444,
             "#26828e"
            ],
            [
             0.5555555555555556,
             "#1f9e89"
            ],
            [
             0.6666666666666666,
             "#35b779"
            ],
            [
             0.7777777777777778,
             "#6ece58"
            ],
            [
             0.8888888888888888,
             "#b5de2b"
            ],
            [
             1,
             "#fde725"
            ]
           ],
           "locationmode": "USA-states",
           "locations": [
            "AL",
            "AK",
            "AZ",
            "AR",
            "CA",
            "CO",
            "CT",
            "DE",
            "FL",
            "GA",
            "HI",
            "ID",
            "IL",
            "IN",
            "IA",
            "KS",
            "KY",
            "LA",
            "ME",
            "MD",
            "MA",
            "MI",
            "MN",
            "MO",
            "MT",
            "NE",
            "NV",
            "NH",
            "NJ",
            "NM",
            "NY",
            "NC",
            "OH",
            "OK",
            "OR",
            "PA",
            "RI",
            "SC",
            "SD",
            "TN",
            "TX",
            "UT",
            "VT",
            "VA",
            "WA",
            "DC",
            "WV",
            "WI",
            "WY"
           ],
           "type": "choropleth",
           "z": [
            3.357142857142857,
            3.5638888888888887,
            3.3623949579831933,
            2.6037037037037036,
            3.5102013952876137,
            2.8208095028596567,
            3.48135593220339,
            3.3224952741020792,
            2.989935760171306,
            3.2682857142857147,
            3.1765625,
            3.127853881278539,
            3.366893424036281,
            3.1137184115523464,
            3,
            3.5151785714285713,
            3.2150000000000003,
            2.8120000000000003,
            3.3769616026711184,
            3.2700493305144467,
            3.2400727272727274,
            3.2613373860182366,
            2.87617237008872,
            2.035312873654843,
            3.239071038251366,
            2.9979591836734696,
            3.004054054054054,
            3.4519572953736657,
            3.4625832223701734,
            3.180254777070064,
            3.1925810635538263,
            3.2133333333333334,
            3.5121561668145516,
            2.6550000000000002,
            3.583726150392817,
            3.2079075425790755,
            3.2614285714285716,
            3.1536585365853655,
            3.066666666666667,
            3.1236658932714616,
            3.00937019969278,
            3.175449101796407,
            3.235766961651917,
            3.2285714285714286,
            3.256228956228956,
            3.3074074074074074,
            3.090909090909091,
            2.543799840510367,
            3.3507246376811595
           ],
           "zmax": 4,
           "zmin": 1
          }
         ],
         "name": "2003"
        },
        {
         "data": [
          {
           "colorscale": [
            [
             0,
             "#440154"
            ],
            [
             0.1111111111111111,
             "#482878"
            ],
            [
             0.2222222222222222,
             "#3e4989"
            ],
            [
             0.3333333333333333,
             "#31688e"
            ],
            [
             0.4444444444444444,
             "#26828e"
            ],
            [
             0.5555555555555556,
             "#1f9e89"
            ],
            [
             0.6666666666666666,
             "#35b779"
            ],
            [
             0.7777777777777778,
             "#6ece58"
            ],
            [
             0.8888888888888888,
             "#b5de2b"
            ],
            [
             1,
             "#fde725"
            ]
           ],
           "locationmode": "country names",
           "locations": [
            "Albania",
            "Argentina",
            "Armenia",
            "Australia",
            "Austria",
            "Bahamas",
            "Barbados",
            "Belarus",
            "Belgium",
            "Belize",
            "Bolivia",
            "Bosnia and Herzegovina",
            "Brazil",
            "Bulgaria",
            "Cambodia",
            "Canada",
            "Cayman Islands",
            "Chile",
            "China",
            "Colombia",
            "Costa Rica",
            "Croatia",
            "Cuba",
            "Cyprus",
            "Czech Republic",
            "Denmark",
            "Dominican Republic",
            "Ecuador",
            "Egypt",
            "El Salvador",
            "Estonia",
            "Ethiopia",
            "Faroe Islands",
            "Fiji Islands",
            "Finland",
            "France",
            "French Polynesia",
            "Georgia",
            "Germany",
            "Greece",
            "Guatemala",
            "Guernsey",
            "Honduras",
            "Hong Kong",
            "Hungary",
            "Iceland",
            "India",
            "Indonesia",
            "Ireland",
            "Isle of Man",
            "Israel",
            "Italy",
            "Jamaica",
            "Japan",
            "Jersey",
            "Kenya",
            "Laos",
            "Latvia",
            "Lebanon",
            "Lithuania",
            "Luxembourg",
            "Macedonia",
            "Malaysia",
            "Malta",
            "Mexico",
            "Moldova",
            "Montenegro",
            "Morocco",
            "Myanmar",
            "Namibia",
            "Netherlands",
            "New Zealand",
            "Nigeria",
            "Norway",
            "Palestine",
            "Panama",
            "Peru",
            "Philippines",
            "Poland",
            "Portugal",
            "Puerto Rico",
            "Romania",
            "Russia",
            "Serbia",
            "Singapore",
            "Slovak Republic",
            "Slovenia",
            "South Africa",
            "South Korea",
            "Spain",
            "Sri Lanka",
            "Sweden",
            "Switzerland",
            "Taiwan",
            "Tanzania",
            "Thailand",
            "Trinidad & Tobago",
            "Tunisia",
            "Turkey",
            "Uganda",
            "Ukraine",
            "United Kingdom",
            "Venezuela",
            "Vietnam",
            "Virgin Islands (U.S.)"
           ],
           "type": "choropleth",
           "z": [
            1.5999999999999999,
            2.0591549295774647,
            2.7142857142857144,
            2.5586688578471652,
            3.0038922155688623,
            1.8888888888888888,
            2.6,
            1.855,
            3.515631745394307,
            2.5666666666666664,
            1.7772727272727273,
            2.464,
            2.246917808219178,
            1.8955555555555554,
            1.6166666666666665,
            2.987717680803114,
            2.5500000000000003,
            1.9727272727272727,
            1.6655052264808363,
            2.0148148148148146,
            2.004166666666667,
            2.5439252336448597,
            1.7750000000000001,
            1.9382352941176473,
            2.9752996352266807,
            2.610355253212396,
            1.9706896551724138,
            1.6363636363636365,
            1.6173913043478263,
            1.5451923076923075,
            2.189944134078212,
            2.8083333333333336,
            2.3189189189189188,
            1.5999999999999999,
            2.81784140969163,
            2.781944444444444,
            2.066666666666667,
            2.9038461538461537,
            3.0856364344102762,
            2.113868613138686,
            1.525,
            2.942857142857143,
            1.7875,
            1.861904761904762,
            2.1989247311827955,
            1.7422222222222223,
            1.9267045454545455,
            1.7366666666666668,
            3.180629921259843,
            2.767741935483871,
            2.0837837837837836,
            2.591994382022472,
            2.4938524590163933,
            2.6642156862745097,
            2.4,
            2.0626666666666664,
            1.8909090909090909,
            2.838323353293413,
            2.1476190476190475,
            2.6088372093023255,
            2.6051724137931034,
            2.10625,
            2.6485714285714286,
            2.32,
            2.1417228464419473,
            2.2285714285714286,
            2.3848484848484848,
            2.0473684210526315,
            1.6,
            2.623809523809524,
            2.8823529411764706,
            2.6471956224350204,
            3.033333333333333,
            2.9265714285714286,
            2.4285714285714284,
            2.2473684210526317,
            2.262903225806452,
            2.205982905982906,
            2.5983098591549294,
            2.2508620689655174,
            1.5699999999999998,
            2.4000000000000004,
            2.462039312039312,
            2.5124999999999997,
            2.3978260869565218,
            2.5421965317919075,
            2.4323943661971827,
            2.249295774647887,
            1.5893939393939396,
            2.2246951219512194,
            3.4433333333333334,
            2.8730042656916517,
            2.7440715883668902,
            2.091666666666667,
            2.3375,
            2.0861842105263158,
            3.135978835978836,
            2.4285714285714284,
            2.350925925925926,
            1.4125,
            2.4601626016260165,
            3.2044369111122193,
            1.5230769230769232,
            1.7,
            2.5727272727272728
           ],
           "zmax": 4,
           "zmin": 1
          },
          {
           "colorscale": [
            [
             0,
             "#440154"
            ],
            [
             0.1111111111111111,
             "#482878"
            ],
            [
             0.2222222222222222,
             "#3e4989"
            ],
            [
             0.3333333333333333,
             "#31688e"
            ],
            [
             0.4444444444444444,
             "#26828e"
            ],
            [
             0.5555555555555556,
             "#1f9e89"
            ],
            [
             0.6666666666666666,
             "#35b779"
            ],
            [
             0.7777777777777778,
             "#6ece58"
            ],
            [
             0.8888888888888888,
             "#b5de2b"
            ],
            [
             1,
             "#fde725"
            ]
           ],
           "locationmode": "USA-states",
           "locations": [
            "AL",
            "AK",
            "AZ",
            "AR",
            "CA",
            "CO",
            "CT",
            "DE",
            "FL",
            "GA",
            "HI",
            "ID",
            "IL",
            "IN",
            "IA",
            "KS",
            "KY",
            "LA",
            "ME",
            "MD",
            "MA",
            "MI",
            "MN",
            "MO",
            "MT",
            "NE",
            "NV",
            "NH",
            "NJ",
            "NM",
            "NY",
            "NC",
            "OH",
            "OK",
            "OR",
            "PA",
            "RI",
            "SC",
            "SD",
            "TN",
            "TX",
            "UT",
            "VT",
            "VA",
            "WA",
            "DC",
            "WV",
            "WI",
            "WY"
           ],
           "type": "choropleth",
           "z": [
            2.7047619047619045,
            3.5833333333333335,
            3.3401639344262297,
            3.0439999999999996,
            3.5188465855132525,
            3.0204846938775507,
            3.39251968503937,
            3.408667388949079,
            3.0602439024390247,
            3.430109489051095,
            2.9572463768115944,
            3.278405315614618,
            3.3516734693877552,
            3.2052132701421803,
            3.0500000000000003,
            3.435960591133005,
            3.29126213592233,
            2.7848404255319146,
            3.360718789407314,
            3.2763788300835657,
            3.2262065637065636,
            3.358010801080108,
            3.0675898203592817,
            1.988429172510519,
            3.122264875239923,
            2.8408163265306126,
            2.9554016620498618,
            3.5806020066889634,
            3.4663509749303625,
            3.036039603960396,
            3.214029446606871,
            3.196083550913838,
            3.5238218205293736,
            2.8338235294117644,
            3.5372241992882563,
            3.33546699875467,
            3.3465277777777778,
            3.0150684931506846,
            3.539285714285714,
            3.076041666666667,
            3.0627709707822808,
            3.048943661971831,
            3.2272768057424854,
            3.3060122699386505,
            3.319698194556723,
            3.2333333333333334,
            3.016,
            2.658867978329056,
            3.1872340425531918
           ],
           "zmax": 4,
           "zmin": 1
          }
         ],
         "name": "2004"
        },
        {
         "data": [
          {
           "colorscale": [
            [
             0,
             "#440154"
            ],
            [
             0.1111111111111111,
             "#482878"
            ],
            [
             0.2222222222222222,
             "#3e4989"
            ],
            [
             0.3333333333333333,
             "#31688e"
            ],
            [
             0.4444444444444444,
             "#26828e"
            ],
            [
             0.5555555555555556,
             "#1f9e89"
            ],
            [
             0.6666666666666666,
             "#35b779"
            ],
            [
             0.7777777777777778,
             "#6ece58"
            ],
            [
             0.8888888888888888,
             "#b5de2b"
            ],
            [
             1,
             "#fde725"
            ]
           ],
           "locationmode": "country names",
           "locations": [
            "Albania",
            "Argentina",
            "Armenia",
            "Australia",
            "Austria",
            "Bahamas",
            "Barbados",
            "Belarus",
            "Belgium",
            "Belize",
            "Bolivia",
            "Bosnia and Herzegovina",
            "Brazil",
            "Bulgaria",
            "Cambodia",
            "Canada",
            "Cayman Islands",
            "Chile",
            "China",
            "Colombia",
            "Costa Rica",
            "Croatia",
            "Cuba",
            "Cyprus",
            "Czech Republic",
            "Denmark",
            "Dominican Republic",
            "Ecuador",
            "Egypt",
            "El Salvador",
            "Estonia",
            "Ethiopia",
            "Faroe Islands",
            "Fiji Islands",
            "Finland",
            "France",
            "French Polynesia",
            "Georgia",
            "Germany",
            "Greece",
            "Guatemala",
            "Guernsey",
            "Honduras",
            "Hong Kong",
            "Hungary",
            "Iceland",
            "India",
            "Indonesia",
            "Ireland",
            "Isle of Man",
            "Israel",
            "Italy",
            "Jamaica",
            "Japan",
            "Jersey",
            "Kenya",
            "Laos",
            "Latvia",
            "Lebanon",
            "Lithuania",
            "Luxembourg",
            "Macedonia",
            "Malaysia",
            "Malta",
            "Mexico",
            "Moldova",
            "Montenegro",
            "Morocco",
            "Myanmar",
            "Namibia",
            "Netherlands",
            "New Zealand",
            "Nigeria",
            "Norway",
            "Palestine",
            "Panama",
            "Peru",
            "Philippines",
            "Poland",
            "Portugal",
            "Puerto Rico",
            "Romania",
            "Russia",
            "Serbia",
            "Singapore",
            "Slovak Republic",
            "Slovenia",
            "South Africa",
            "South Korea",
            "Spain",
            "Sri Lanka",
            "Sweden",
            "Switzerland",
            "Taiwan",
            "Tanzania",
            "Thailand",
            "Trinidad & Tobago",
            "Tunisia",
            "Turkey",
            "Uganda",
            "Ukraine",
            "United Kingdom",
            "Venezuela",
            "Vietnam",
            "Virgin Islands (U.S.)"
           ],
           "type": "choropleth",
           "z": [
            2.1,
            2.2380281690140844,
            1.9226415094339624,
            2.669529499626587,
            2.9366255144032922,
            1.6896551724137931,
            1.825,
            2.7,
            3.460133015909005,
            2.409375,
            2.1681818181818184,
            2.2896551724137932,
            2.4504950495049505,
            2.0918367346938775,
            1.998076923076923,
            2.989464896239167,
            1.2666666666666666,
            2.2520000000000002,
            1.9499999999999997,
            1.7064516129032257,
            1.8770491803278688,
            2.3274999999999997,
            1.604109589041096,
            2.112195121951219,
            2.9830181086519114,
            2.7365689248399057,
            1.9170454545454545,
            1.8583333333333334,
            2.353125,
            1.5846846846846847,
            2.2418181818181817,
            2.3607142857142853,
            2.41,
            1.4833333333333334,
            2.8324817518248175,
            2.8165567765567765,
            1.9133333333333333,
            2.6142857142857143,
            3.0154718533317664,
            2.0468926553672318,
            1.635135135135135,
            2.6222222222222222,
            1.9666666666666668,
            1.5846153846153848,
            2.2396551724137934,
            1.8686567164179104,
            1.9435714285714287,
            2.194594594594595,
            3.0915254237288137,
            2.996078431372549,
            2.09,
            2.8416239316239316,
            2.5404858299595143,
            2.6883198562443846,
            2.4555555555555557,
            1.9450704225352111,
            1.8545454545454547,
            2.5982456140350876,
            1.8625,
            2.535127478753541,
            2.835294117647059,
            2.06,
            2.6333333333333333,
            1.905263157894737,
            2.141079812206573,
            3.95,
            2.746153846153846,
            2.105714285714286,
            3.2,
            2.275,
            2.9363155363155364,
            2.9036686390532545,
            2.257575757575758,
            2.912962962962963,
            1.9846153846153847,
            1.5578947368421052,
            1.9747368421052631,
            1.9789473684210526,
            2.64626635873749,
            2.1601307189542482,
            1,
            2.766666666666667,
            2.545993031358885,
            2.5928571428571425,
            2.4983471074380166,
            2.716867469879518,
            2.457692307692308,
            2.57012987012987,
            2.110958904109589,
            2.216358839050132,
            3.661111111111111,
            2.780827801639984,
            2.8433333333333337,
            2.158823529411765,
            1.5933333333333333,
            2.0994505494505495,
            3.0523316062176167,
            1.6076923076923075,
            2.1504273504273503,
            1.3545454545454545,
            2.5242553191489363,
            3.1589352468525758,
            2.460714285714286,
            1.569090909090909,
            2.380952380952381
           ],
           "zmax": 4,
           "zmin": 1
          },
          {
           "colorscale": [
            [
             0,
             "#440154"
            ],
            [
             0.1111111111111111,
             "#482878"
            ],
            [
             0.2222222222222222,
             "#3e4989"
            ],
            [
             0.3333333333333333,
             "#31688e"
            ],
            [
             0.4444444444444444,
             "#26828e"
            ],
            [
             0.5555555555555556,
             "#1f9e89"
            ],
            [
             0.6666666666666666,
             "#35b779"
            ],
            [
             0.7777777777777778,
             "#6ece58"
            ],
            [
             0.8888888888888888,
             "#b5de2b"
            ],
            [
             1,
             "#fde725"
            ]
           ],
           "locationmode": "USA-states",
           "locations": [
            "AL",
            "AK",
            "AZ",
            "AR",
            "CA",
            "CO",
            "CT",
            "DE",
            "FL",
            "GA",
            "HI",
            "ID",
            "IL",
            "IN",
            "IA",
            "KS",
            "KY",
            "LA",
            "ME",
            "MD",
            "MA",
            "MI",
            "MN",
            "MO",
            "MT",
            "NE",
            "NV",
            "NH",
            "NJ",
            "NM",
            "NY",
            "NC",
            "OH",
            "OK",
            "OR",
            "PA",
            "RI",
            "SC",
            "SD",
            "TN",
            "TX",
            "UT",
            "VT",
            "VA",
            "WA",
            "DC",
            "WV",
            "WI",
            "WY"
           ],
           "type": "choropleth",
           "z": [
            2.5743055555555556,
            3.5522914218566393,
            3.2861325115562403,
            3.0930232558139537,
            3.5137016882935677,
            3.1823106220905633,
            3.4872372372372373,
            3.439099283520983,
            2.989679715302491,
            3.415508412582297,
            2.9875555555555557,
            3.2959044368600683,
            3.3529299847793,
            3.2070773263433816,
            2.9984334203655356,
            3.527810650887574,
            3.158267716535433,
            2.73366935483871,
            3.268986083499006,
            3.330738304093567,
            3.21405686824189,
            3.3527461139896375,
            2.987051792828685,
            2.1126115750071985,
            3.1977818853974123,
            3.0630681818181817,
            3.034113712374582,
            3.4049115913555994,
            3.4040035587188613,
            3.2373170731707317,
            3.25732644409115,
            3.2524673439767775,
            3.533038674033149,
            2.7344827586206897,
            3.4969711385981608,
            3.3041016949152544,
            3.1955999999999998,
            2.9358156028368794,
            3.4714285714285715,
            3.01353482260184,
            3.135399361022364,
            3.0704225352112675,
            3.1756079027355626,
            3.2825396825396824,
            3.284990619136961,
            3.284782608695652,
            2.8666666666666667,
            2.7285905740451195,
            3.2481012658227852
           ],
           "zmax": 4,
           "zmin": 1
          }
         ],
         "name": "2005"
        },
        {
         "data": [
          {
           "colorscale": [
            [
             0,
             "#440154"
            ],
            [
             0.1111111111111111,
             "#482878"
            ],
            [
             0.2222222222222222,
             "#3e4989"
            ],
            [
             0.3333333333333333,
             "#31688e"
            ],
            [
             0.4444444444444444,
             "#26828e"
            ],
            [
             0.5555555555555556,
             "#1f9e89"
            ],
            [
             0.6666666666666666,
             "#35b779"
            ],
            [
             0.7777777777777778,
             "#6ece58"
            ],
            [
             0.8888888888888888,
             "#b5de2b"
            ],
            [
             1,
             "#fde725"
            ]
           ],
           "locationmode": "country names",
           "locations": [
            "Albania",
            "Argentina",
            "Armenia",
            "Australia",
            "Austria",
            "Bahamas",
            "Barbados",
            "Belarus",
            "Belgium",
            "Belize",
            "Bolivia",
            "Bosnia and Herzegovina",
            "Brazil",
            "Bulgaria",
            "Cambodia",
            "Canada",
            "Cayman Islands",
            "Chile",
            "China",
            "Colombia",
            "Costa Rica",
            "Croatia",
            "Cuba",
            "Cyprus",
            "Czech Republic",
            "Denmark",
            "Dominican Republic",
            "Ecuador",
            "Egypt",
            "El Salvador",
            "Estonia",
            "Ethiopia",
            "Faroe Islands",
            "Fiji Islands",
            "Finland",
            "France",
            "French Polynesia",
            "Georgia",
            "Germany",
            "Greece",
            "Guatemala",
            "Guernsey",
            "Honduras",
            "Hong Kong",
            "Hungary",
            "Iceland",
            "India",
            "Indonesia",
            "Ireland",
            "Isle of Man",
            "Israel",
            "Italy",
            "Jamaica",
            "Japan",
            "Jersey",
            "Kenya",
            "Laos",
            "Latvia",
            "Lebanon",
            "Lithuania",
            "Luxembourg",
            "Macedonia",
            "Malaysia",
            "Malta",
            "Mexico",
            "Moldova",
            "Montenegro",
            "Morocco",
            "Myanmar",
            "Namibia",
            "Netherlands",
            "New Zealand",
            "Nigeria",
            "Norway",
            "Palestine",
            "Panama",
            "Peru",
            "Philippines",
            "Poland",
            "Portugal",
            "Puerto Rico",
            "Romania",
            "Russia",
            "Serbia",
            "Singapore",
            "Slovak Republic",
            "Slovenia",
            "South Africa",
            "South Korea",
            "Spain",
            "Sri Lanka",
            "Sweden",
            "Switzerland",
            "Taiwan",
            "Tanzania",
            "Thailand",
            "Trinidad & Tobago",
            "Tunisia",
            "Turkey",
            "Uganda",
            "Ukraine",
            "United Kingdom",
            "Venezuela",
            "Vietnam",
            "Virgin Islands (U.S.)"
           ],
           "type": "choropleth",
           "z": [
            1.8727272727272728,
            2.578925619834711,
            2.14,
            2.6909871244635193,
            3.017361111111111,
            1.6813953488372093,
            1.9285714285714286,
            3,
            3.50391100295498,
            2.673076923076923,
            1.9243243243243244,
            2.0833333333333335,
            2.235889570552147,
            2.1580882352941178,
            1.8703125,
            3.0140570633263746,
            2.7857142857142856,
            2.506060606060606,
            1.9448275862068964,
            2.104,
            2.3186440677966105,
            2.506666666666667,
            1.6685185185185185,
            2.140625,
            2.9350114416475974,
            2.861369215383217,
            1.7878048780487805,
            2.19,
            1.6312499999999999,
            1.685483870967742,
            2.254575163398693,
            2.492982456140351,
            2.5195876288659793,
            1.9105263157894736,
            2.7922348484848483,
            2.8406563706563706,
            1.9000000000000001,
            2.2115384615384617,
            3.0341115813025925,
            2.235204081632653,
            1.8957894736842105,
            2.9172413793103447,
            2.246666666666667,
            2.43,
            2.29037037037037,
            1.9013333333333333,
            1.8821428571428571,
            2.051851851851852,
            3.174569262577533,
            3.0634408602150534,
            2.206122448979592,
            2.833732660781841,
            2.6710344827586208,
            2.747683235046335,
            2.6,
            2.2132530120481926,
            2.0161290322580645,
            2.895238095238095,
            1.6900000000000002,
            2.616015625,
            2.612096774193548,
            2.6625,
            2.580487804878049,
            2.7975000000000003,
            2.1159538357094365,
            2.2142857142857144,
            2.1959999999999997,
            1.9450980392156862,
            2.25,
            2.3333333333333335,
            2.8670148560817084,
            2.8707865168539324,
            3.1636363636363636,
            2.806885109912899,
            2.08125,
            1.738235294117647,
            2.175268817204301,
            1.959036144578313,
            2.7532589547856725,
            2.217872340425532,
            2.590625,
            2.524489795918367,
            2.4573006134969324,
            2.463636363636364,
            2.57020202020202,
            2.73,
            2.261068702290076,
            2.4546099290780146,
            1.7438775510204083,
            2.457115009746589,
            3.469787234042553,
            2.817392550143267,
            2.958,
            2.0033333333333334,
            1.8857142857142857,
            2.1743718592964822,
            3.138502673796791,
            1.5833333333333333,
            2.137142857142857,
            1.78,
            2.5,
            3.170113319326284,
            1.6522727272727273,
            2.0346774193548387,
            2.5272727272727273
           ],
           "zmax": 4,
           "zmin": 1
          },
          {
           "colorscale": [
            [
             0,
             "#440154"
            ],
            [
             0.1111111111111111,
             "#482878"
            ],
            [
             0.2222222222222222,
             "#3e4989"
            ],
            [
             0.3333333333333333,
             "#31688e"
            ],
            [
             0.4444444444444444,
             "#26828e"
            ],
            [
             0.5555555555555556,
             "#1f9e89"
            ],
            [
             0.6666666666666666,
             "#35b779"
            ],
            [
             0.7777777777777778,
             "#6ece58"
            ],
            [
             0.8888888888888888,
             "#b5de2b"
            ],
            [
             1,
             "#fde725"
            ]
           ],
           "locationmode": "USA-states",
           "locations": [
            "AL",
            "AK",
            "AZ",
            "AR",
            "CA",
            "CO",
            "CT",
            "DE",
            "FL",
            "GA",
            "HI",
            "ID",
            "IL",
            "IN",
            "IA",
            "KS",
            "KY",
            "LA",
            "ME",
            "MD",
            "MA",
            "MI",
            "MN",
            "MO",
            "MT",
            "NE",
            "NV",
            "NH",
            "NJ",
            "NM",
            "NY",
            "NC",
            "OH",
            "OK",
            "OR",
            "PA",
            "RI",
            "SC",
            "SD",
            "TN",
            "TX",
            "UT",
            "VT",
            "VA",
            "WA",
            "DC",
            "WV",
            "WI",
            "WY"
           ],
           "type": "choropleth",
           "z": [
            2.7380281690140844,
            3.591842105263158,
            3.276401179941003,
            3.0507936507936506,
            3.516920772481678,
            3.176981316400049,
            3.4985602094240837,
            3.397887323943662,
            2.942695035460993,
            3.476027762947144,
            3.128173374613003,
            3.2511669658886895,
            3.4457904884318764,
            3.220938628158845,
            3.063235294117647,
            3.310227272727273,
            3.2446153846153845,
            2.8793577981651373,
            3.3002818665831506,
            3.3221730144670802,
            3.19585448392555,
            3.4384354382657873,
            2.9819014084507045,
            2.198148148148148,
            3.1748704663212437,
            3.02,
            3.0275132275132277,
            3.521180555555556,
            3.418535006070417,
            3.145714285714286,
            3.307375364983238,
            3.348123195380173,
            3.5900977995110024,
            2.5841726618705034,
            3.4919709989258862,
            3.315615096513973,
            3.216867469879518,
            2.9218687872763422,
            2.869230769230769,
            3.0342073897497017,
            3.0951111111111107,
            3.117897727272727,
            3.1583059510770357,
            3.329415501905972,
            3.2843241987923824,
            3.142857142857143,
            3.091666666666667,
            2.8311464546056992,
            3.123414634146341
           ],
           "zmax": 4,
           "zmin": 1
          }
         ],
         "name": "2006"
        },
        {
         "data": [
          {
           "colorscale": [
            [
             0,
             "#440154"
            ],
            [
             0.1111111111111111,
             "#482878"
            ],
            [
             0.2222222222222222,
             "#3e4989"
            ],
            [
             0.3333333333333333,
             "#31688e"
            ],
            [
             0.4444444444444444,
             "#26828e"
            ],
            [
             0.5555555555555556,
             "#1f9e89"
            ],
            [
             0.6666666666666666,
             "#35b779"
            ],
            [
             0.7777777777777778,
             "#6ece58"
            ],
            [
             0.8888888888888888,
             "#b5de2b"
            ],
            [
             1,
             "#fde725"
            ]
           ],
           "locationmode": "country names",
           "locations": [
            "Albania",
            "Argentina",
            "Armenia",
            "Australia",
            "Austria",
            "Bahamas",
            "Barbados",
            "Belarus",
            "Belgium",
            "Belize",
            "Bolivia",
            "Bosnia and Herzegovina",
            "Brazil",
            "Bulgaria",
            "Cambodia",
            "Canada",
            "Cayman Islands",
            "Chile",
            "China",
            "Colombia",
            "Costa Rica",
            "Croatia",
            "Cuba",
            "Cyprus",
            "Czech Republic",
            "Denmark",
            "Dominican Republic",
            "Ecuador",
            "Egypt",
            "El Salvador",
            "Estonia",
            "Ethiopia",
            "Faroe Islands",
            "Fiji Islands",
            "Finland",
            "France",
            "French Polynesia",
            "Georgia",
            "Germany",
            "Greece",
            "Guatemala",
            "Guernsey",
            "Honduras",
            "Hong Kong",
            "Hungary",
            "Iceland",
            "India",
            "Indonesia",
            "Ireland",
            "Isle of Man",
            "Israel",
            "Italy",
            "Jamaica",
            "Japan",
            "Jersey",
            "Kenya",
            "Laos",
            "Latvia",
            "Lebanon",
            "Lithuania",
            "Luxembourg",
            "Macedonia",
            "Malaysia",
            "Malta",
            "Mexico",
            "Moldova",
            "Montenegro",
            "Morocco",
            "Myanmar",
            "Namibia",
            "Netherlands",
            "New Zealand",
            "Nigeria",
            "Norway",
            "Palestine",
            "Panama",
            "Peru",
            "Philippines",
            "Poland",
            "Portugal",
            "Puerto Rico",
            "Romania",
            "Russia",
            "Serbia",
            "Singapore",
            "Slovak Republic",
            "Slovenia",
            "South Africa",
            "South Korea",
            "Spain",
            "Sri Lanka",
            "Sweden",
            "Switzerland",
            "Taiwan",
            "Tanzania",
            "Thailand",
            "Trinidad & Tobago",
            "Tunisia",
            "Turkey",
            "Uganda",
            "Ukraine",
            "United Kingdom",
            "Venezuela",
            "Vietnam",
            "Virgin Islands (U.S.)"
           ],
           "type": "choropleth",
           "z": [
            2.0461538461538464,
            2.6697080291970803,
            2.3111111111111113,
            2.6734028683181226,
            2.9237190558434083,
            2.015686274509804,
            2.0588235294117645,
            2.176470588235294,
            3.4957529849788163,
            2.0923076923076924,
            2.0555555555555554,
            2.231746031746032,
            2.8173214285714288,
            2.165972222222222,
            1.9064516129032258,
            3.089232531500573,
            2.5999999999999996,
            2.6433510638297872,
            2.0008830022075053,
            1.950793650793651,
            1.8256756756756756,
            2.353815261044177,
            1.9098591549295774,
            1.9707317073170731,
            2.980133410672854,
            2.903940136054422,
            1.9579710144927536,
            1.6576923076923078,
            1.896774193548387,
            1.7570247933884298,
            2.3922705314009662,
            2,
            2.3745664739884393,
            1.7,
            2.823968139029689,
            2.8433322570229254,
            2.1512820512820516,
            2.319230769230769,
            3.061929975017711,
            2.1411764705882352,
            1.773529411764706,
            2.430769230769231,
            1.875,
            1.9535714285714287,
            2.1761658031088085,
            2.248684210526316,
            1.9807926829268294,
            2.244,
            3.1494651044319917,
            3.0683823529411764,
            2.5037974683544304,
            2.943890177880897,
            2.525320512820513,
            2.931702637889688,
            3.15,
            2.183333333333333,
            2.2102564102564104,
            2.6750759878419452,
            1.8333333333333333,
            2.4695059625212945,
            2.6890625,
            2.04,
            2.36551724137931,
            2.5533333333333337,
            2.114435840707965,
            2.4,
            2.3266666666666667,
            2.211627906976744,
            1.4391304347826088,
            2.1512820512820516,
            2.9342708333333336,
            2.8444141689373295,
            3.077777777777778,
            3.265145672664953,
            2.386206896551724,
            1.5085714285714285,
            2.201020408163265,
            2.200925925925926,
            2.6913812785388127,
            2.1744493392070487,
            2.161764705882353,
            2.175352112676056,
            2.4074154852780807,
            2.6173076923076923,
            2.38,
            2.7158620689655173,
            2.195132743362832,
            2.4592436974789913,
            2.2304347826086954,
            2.296805111821086,
            3.4383399209486165,
            2.93785635359116,
            3.0505938242280286,
            2.3840909090909093,
            1.697674418604651,
            2.1609958506224065,
            3.1422619047619045,
            2.21,
            2.303174603174603,
            1.582142857142857,
            2.5839694656488548,
            3.161661169244768,
            1.7654545454545454,
            2.0776978417266188,
            2.488095238095238
           ],
           "zmax": 4,
           "zmin": 1
          },
          {
           "colorscale": [
            [
             0,
             "#440154"
            ],
            [
             0.1111111111111111,
             "#482878"
            ],
            [
             0.2222222222222222,
             "#3e4989"
            ],
            [
             0.3333333333333333,
             "#31688e"
            ],
            [
             0.4444444444444444,
             "#26828e"
            ],
            [
             0.5555555555555556,
             "#1f9e89"
            ],
            [
             0.6666666666666666,
             "#35b779"
            ],
            [
             0.7777777777777778,
             "#6ece58"
            ],
            [
             0.8888888888888888,
             "#b5de2b"
            ],
            [
             1,
             "#fde725"
            ]
           ],
           "locationmode": "USA-states",
           "locations": [
            "AL",
            "AK",
            "AZ",
            "AR",
            "CA",
            "CO",
            "CT",
            "DE",
            "FL",
            "GA",
            "HI",
            "ID",
            "IL",
            "IN",
            "IA",
            "KS",
            "KY",
            "LA",
            "ME",
            "MD",
            "MA",
            "MI",
            "MN",
            "MO",
            "MT",
            "NE",
            "NV",
            "NH",
            "NJ",
            "NM",
            "NY",
            "NC",
            "OH",
            "OK",
            "OR",
            "PA",
            "RI",
            "SC",
            "SD",
            "TN",
            "TX",
            "UT",
            "VT",
            "VA",
            "WA",
            "DC",
            "WV",
            "WI",
            "WY"
           ],
           "type": "choropleth",
           "z": [
            2.831111111111111,
            3.5663822525597273,
            3.3224537037037036,
            3.051685393258427,
            3.5378358547919357,
            3.1995250896057343,
            3.449479166666667,
            3.394142705005325,
            3.0573622402890694,
            3.4312013828867762,
            3.249032258064516,
            3.3461146496815286,
            3.4260719957649552,
            3.2229357798165137,
            3.094677871148459,
            3.3988130563798222,
            3.247787610619469,
            2.8206427688504325,
            3.2871700879765395,
            3.3383378016085787,
            3.20372573575454,
            3.416214003002593,
            3.321552757793765,
            2.2359177481881005,
            3.274150360453141,
            3.2303149606299213,
            2.972591006423983,
            3.435386890093642,
            3.413864306784661,
            3.1514745308310994,
            3.3675848434925864,
            3.4246645732229517,
            3.5878781038374714,
            2.5446043165467627,
            3.4749330058061636,
            3.2880742913000978,
            3.3339853300733493,
            2.944889779559118,
            3.1951612903225803,
            3.038184438040346,
            3.112755356253114,
            3.112687813021703,
            3.1232126276694525,
            3.3079039812646367,
            3.266714195183777,
            2.9812499999999997,
            3.0276595744680854,
            2.8919966939871893,
            3.2098591549295774
           ],
           "zmax": 4,
           "zmin": 1
          }
         ],
         "name": "2007"
        },
        {
         "data": [
          {
           "colorscale": [
            [
             0,
             "#440154"
            ],
            [
             0.1111111111111111,
             "#482878"
            ],
            [
             0.2222222222222222,
             "#3e4989"
            ],
            [
             0.3333333333333333,
             "#31688e"
            ],
            [
             0.4444444444444444,
             "#26828e"
            ],
            [
             0.5555555555555556,
             "#1f9e89"
            ],
            [
             0.6666666666666666,
             "#35b779"
            ],
            [
             0.7777777777777778,
             "#6ece58"
            ],
            [
             0.8888888888888888,
             "#b5de2b"
            ],
            [
             1,
             "#fde725"
            ]
           ],
           "locationmode": "country names",
           "locations": [
            "Albania",
            "Argentina",
            "Armenia",
            "Australia",
            "Austria",
            "Bahamas",
            "Barbados",
            "Belarus",
            "Belgium",
            "Belize",
            "Bolivia",
            "Bosnia and Herzegovina",
            "Brazil",
            "Bulgaria",
            "Cambodia",
            "Canada",
            "Cayman Islands",
            "Chile",
            "China",
            "Colombia",
            "Costa Rica",
            "Croatia",
            "Cuba",
            "Cyprus",
            "Czech Republic",
            "Denmark",
            "Dominican Republic",
            "Ecuador",
            "Egypt",
            "El Salvador",
            "Estonia",
            "Ethiopia",
            "Faroe Islands",
            "Fiji Islands",
            "Finland",
            "France",
            "French Polynesia",
            "Georgia",
            "Germany",
            "Greece",
            "Guatemala",
            "Guernsey",
            "Honduras",
            "Hong Kong",
            "Hungary",
            "Iceland",
            "India",
            "Indonesia",
            "Ireland",
            "Isle of Man",
            "Israel",
            "Italy",
            "Jamaica",
            "Japan",
            "Jersey",
            "Kenya",
            "Laos",
            "Latvia",
            "Lebanon",
            "Lithuania",
            "Luxembourg",
            "Macedonia",
            "Malaysia",
            "Malta",
            "Mexico",
            "Moldova",
            "Montenegro",
            "Morocco",
            "Myanmar",
            "Namibia",
            "Netherlands",
            "New Zealand",
            "Nigeria",
            "Norway",
            "Palestine",
            "Panama",
            "Peru",
            "Philippines",
            "Poland",
            "Portugal",
            "Puerto Rico",
            "Romania",
            "Russia",
            "Serbia",
            "Singapore",
            "Slovak Republic",
            "Slovenia",
            "South Africa",
            "South Korea",
            "Spain",
            "Sri Lanka",
            "Sweden",
            "Switzerland",
            "Taiwan",
            "Tanzania",
            "Thailand",
            "Trinidad & Tobago",
            "Tunisia",
            "Turkey",
            "Uganda",
            "Ukraine",
            "United Kingdom",
            "Venezuela",
            "Vietnam",
            "Virgin Islands (U.S.)"
           ],
           "type": "choropleth",
           "z": [
            2.129032258064516,
            2.572505543237251,
            2.4142857142857146,
            2.738859457775008,
            2.930741410488246,
            1.9038461538461537,
            2.1564102564102563,
            2.051219512195122,
            3.5042931544127995,
            2.6333333333333333,
            2.1075,
            2.1755555555555555,
            2.7206735266604305,
            2.2265486725663717,
            2.0175,
            3.200484152088309,
            2.066666666666667,
            2.788211382113821,
            1.855579399141631,
            2.251063829787234,
            1.9377551020408164,
            2.344794952681388,
            1.98,
            2.002272727272727,
            2.936950436357648,
            2.992589520928871,
            1.9129411764705881,
            1.8875,
            1.8836956521739132,
            1.9145038167938933,
            2.2534562211981566,
            2.5603174603174605,
            2.419620253164557,
            2.0999999999999996,
            2.8385095591104177,
            2.8584086799276673,
            2.0636363636363635,
            2.0875,
            3.0315269765863593,
            2.290877192982456,
            1.6463235294117649,
            2.511111111111111,
            1.637037037037037,
            1.941935483870968,
            2.274912891986063,
            2.345816733067729,
            1.9116147308781868,
            2.19344262295082,
            3.187022132796781,
            3.145625,
            2.6734265734265734,
            3.0342619876774712,
            2.394178082191781,
            3.03537293434569,
            2.3,
            2.1113636363636363,
            2.1102564102564103,
            2.5033138401559456,
            2.1863636363636365,
            2.5206657420249656,
            2.5145299145299145,
            2.088235294117647,
            2.846511627906977,
            2.435164835164835,
            2.121498371335505,
            2.5307692307692307,
            2.1525,
            2.0507936507936506,
            1.7,
            2.339622641509434,
            2.9061035856573705,
            2.9272634271099744,
            3.214,
            3.3098237367802583,
            2.8803030303030304,
            1.9454545454545453,
            2.1971698113207547,
            2.1472049689440995,
            2.5425125628140703,
            2.19625468164794,
            2.628205128205128,
            2.1069767441860465,
            2.3912142152023694,
            2.476923076923077,
            2.3588235294117648,
            2.6071748878923766,
            2.3487012987012985,
            2.5167539267015706,
            1.915909090909091,
            2.3114649681528663,
            3.4921052631578946,
            3.0833457249070633,
            3.105168170631665,
            1.727906976744186,
            2.090909090909091,
            2.101339285714286,
            2.9627272727272724,
            1.9680000000000002,
            2.2662500000000003,
            2.0588235294117645,
            2.4,
            3.1792017207111547,
            1.8861111111111113,
            2.2618181818181817,
            2.796875
           ],
           "zmax": 4,
           "zmin": 1
          },
          {
           "colorscale": [
            [
             0,
             "#440154"
            ],
            [
             0.1111111111111111,
             "#482878"
            ],
            [
             0.2222222222222222,
             "#3e4989"
            ],
            [
             0.3333333333333333,
             "#31688e"
            ],
            [
             0.4444444444444444,
             "#26828e"
            ],
            [
             0.5555555555555556,
             "#1f9e89"
            ],
            [
             0.6666666666666666,
             "#35b779"
            ],
            [
             0.7777777777777778,
             "#6ece58"
            ],
            [
             0.8888888888888888,
             "#b5de2b"
            ],
            [
             1,
             "#fde725"
            ]
           ],
           "locationmode": "USA-states",
           "locations": [
            "AL",
            "AK",
            "AZ",
            "AR",
            "CA",
            "CO",
            "CT",
            "DE",
            "FL",
            "GA",
            "HI",
            "ID",
            "IL",
            "IN",
            "IA",
            "KS",
            "KY",
            "LA",
            "ME",
            "MD",
            "MA",
            "MI",
            "MN",
            "MO",
            "MT",
            "NE",
            "NV",
            "NH",
            "NJ",
            "NM",
            "NY",
            "NC",
            "OH",
            "OK",
            "OR",
            "PA",
            "RI",
            "SC",
            "SD",
            "TN",
            "TX",
            "UT",
            "VT",
            "VA",
            "WA",
            "DC",
            "WV",
            "WI",
            "WY"
           ],
           "type": "choropleth",
           "z": [
            3.122916666666667,
            3.631667467563671,
            3.2691380908248378,
            3.108955223880597,
            3.5959731918458533,
            3.2098188589808703,
            3.399446290143964,
            3.416755319148936,
            3.121242995415181,
            3.4310185185185187,
            3.2608915054667786,
            3.3870062370062373,
            3.4451359960793924,
            3.3554067971163746,
            3.0367158671586716,
            3.4130641330166274,
            3.2079104477611944,
            2.8981967213114754,
            3.29958687727825,
            3.301685925364652,
            3.2042679127725857,
            3.4640586495810743,
            3.3902240325865582,
            2.403521484871599,
            3.186462093862816,
            3.371578947368421,
            3.075235849056604,
            3.4895974491829413,
            3.3514529914529914,
            3.2064039408866996,
            3.418554981708629,
            3.384945377031708,
            3.523052171914502,
            2.8182186234817816,
            3.4929615384615387,
            3.314858934169279,
            3.2112903225806453,
            3.0564159292035398,
            3.189285714285714,
            3.1486624203821654,
            3.2121552277100704,
            3.1700000000000004,
            3.114906490649065,
            3.282369455362156,
            3.29649706768109,
            3.1238095238095234,
            2.8619834710743803,
            2.907551532769556,
            3.231034482758621
           ],
           "zmax": 4,
           "zmin": 1
          }
         ],
         "name": "2008"
        },
        {
         "data": [
          {
           "colorscale": [
            [
             0,
             "#440154"
            ],
            [
             0.1111111111111111,
             "#482878"
            ],
            [
             0.2222222222222222,
             "#3e4989"
            ],
            [
             0.3333333333333333,
             "#31688e"
            ],
            [
             0.4444444444444444,
             "#26828e"
            ],
            [
             0.5555555555555556,
             "#1f9e89"
            ],
            [
             0.6666666666666666,
             "#35b779"
            ],
            [
             0.7777777777777778,
             "#6ece58"
            ],
            [
             0.8888888888888888,
             "#b5de2b"
            ],
            [
             1,
             "#fde725"
            ]
           ],
           "locationmode": "country names",
           "locations": [
            "Albania",
            "Argentina",
            "Armenia",
            "Australia",
            "Austria",
            "Bahamas",
            "Barbados",
            "Belarus",
            "Belgium",
            "Belize",
            "Bolivia",
            "Bosnia and Herzegovina",
            "Brazil",
            "Bulgaria",
            "Cambodia",
            "Canada",
            "Cayman Islands",
            "Chile",
            "China",
            "Colombia",
            "Costa Rica",
            "Croatia",
            "Cuba",
            "Cyprus",
            "Czech Republic",
            "Denmark",
            "Dominican Republic",
            "Ecuador",
            "Egypt",
            "El Salvador",
            "Estonia",
            "Ethiopia",
            "Faroe Islands",
            "Fiji Islands",
            "Finland",
            "France",
            "French Polynesia",
            "Georgia",
            "Germany",
            "Greece",
            "Guatemala",
            "Guernsey",
            "Honduras",
            "Hong Kong",
            "Hungary",
            "Iceland",
            "India",
            "Indonesia",
            "Ireland",
            "Isle of Man",
            "Israel",
            "Italy",
            "Jamaica",
            "Japan",
            "Jersey",
            "Kenya",
            "Laos",
            "Latvia",
            "Lebanon",
            "Lithuania",
            "Luxembourg",
            "Macedonia",
            "Malaysia",
            "Malta",
            "Mexico",
            "Moldova",
            "Montenegro",
            "Morocco",
            "Myanmar",
            "Namibia",
            "Netherlands",
            "New Zealand",
            "Nigeria",
            "Norway",
            "Palestine",
            "Panama",
            "Peru",
            "Philippines",
            "Poland",
            "Portugal",
            "Puerto Rico",
            "Romania",
            "Russia",
            "Serbia",
            "Singapore",
            "Slovak Republic",
            "Slovenia",
            "South Africa",
            "South Korea",
            "Spain",
            "Sri Lanka",
            "Sweden",
            "Switzerland",
            "Taiwan",
            "Tanzania",
            "Thailand",
            "Trinidad & Tobago",
            "Tunisia",
            "Turkey",
            "Uganda",
            "Ukraine",
            "United Kingdom",
            "Venezuela",
            "Vietnam",
            "Virgin Islands (U.S.)"
           ],
           "type": "choropleth",
           "z": [
            1.8090909090909089,
            2.633497536945813,
            2.610526315789474,
            2.8693942004019526,
            2.9279741164758586,
            1.869047619047619,
            2.2357142857142858,
            2.5341614906832297,
            3.4877628565479903,
            2.538888888888889,
            2.2289473684210526,
            2.1203883495145632,
            2.6820627802690584,
            2.095049504950495,
            2.2830188679245285,
            3.2238977272727274,
            2.31,
            2.843421052631579,
            1.8887619047619049,
            2.283495145631068,
            2.164,
            2.3547945205479452,
            1.8399999999999999,
            1.9478260869565216,
            2.9372825812956895,
            3.0430739565839398,
            1.8022988505747128,
            1.8324324324324324,
            1.9166666666666667,
            1.7031446540880504,
            2.2348008385744236,
            2.2455696202531645,
            2.5529032258064515,
            1.8636363636363635,
            2.830014570179699,
            2.819173239053576,
            2.226923076923077,
            2.090909090909091,
            2.9982694684796045,
            2.4144963144963145,
            1.8411764705882352,
            2.7375,
            2.215151515151515,
            1.9923076923076921,
            2.334418604651163,
            2.8493723849372383,
            1.955076923076923,
            2.1811764705882353,
            3.148530097993467,
            3.1637037037037037,
            2.6281250000000003,
            3.114399635452267,
            2.4863453815261045,
            3.0332975295381313,
            2.8875,
            2.052688172043011,
            2.4918032786885247,
            2.3363636363636364,
            2.38125,
            2.5429872495446264,
            2.59125,
            2.325,
            2.2083333333333335,
            2.402479338842975,
            2.17510227936879,
            2.8,
            2.424324324324324,
            2.2291666666666665,
            1.5833333333333333,
            2.353448275862069,
            2.9564455364455364,
            3.049408131755018,
            2.8546875,
            3.433262561924982,
            2.6374999999999997,
            1.9230769230769231,
            2.2026315789473685,
            2.246875,
            2.4850712250712252,
            2.29009009009009,
            2.5363636363636366,
            2.006194690265487,
            2.348622754491018,
            2.295945945945946,
            2.437894736842105,
            2.6100977198697066,
            2.3205607476635515,
            2.4023076923076925,
            1.8225,
            2.5268192968111203,
            3.3528571428571428,
            2.97665544332211,
            3.1912869303955933,
            2.0985507246376813,
            2.0710526315789473,
            2.0538732394366197,
            2.397202797202797,
            2.073076923076923,
            2.040604026845638,
            1.7166666666666666,
            2.4056122448979593,
            3.1702110789085145,
            1.8105263157894735,
            2.291258741258741,
            2.4976470588235293
           ],
           "zmax": 4,
           "zmin": 1
          },
          {
           "colorscale": [
            [
             0,
             "#440154"
            ],
            [
             0.1111111111111111,
             "#482878"
            ],
            [
             0.2222222222222222,
             "#3e4989"
            ],
            [
             0.3333333333333333,
             "#31688e"
            ],
            [
             0.4444444444444444,
             "#26828e"
            ],
            [
             0.5555555555555556,
             "#1f9e89"
            ],
            [
             0.6666666666666666,
             "#35b779"
            ],
            [
             0.7777777777777778,
             "#6ece58"
            ],
            [
             0.8888888888888888,
             "#b5de2b"
            ],
            [
             1,
             "#fde725"
            ]
           ],
           "locationmode": "USA-states",
           "locations": [
            "AL",
            "AK",
            "AZ",
            "AR",
            "CA",
            "CO",
            "CT",
            "DE",
            "FL",
            "GA",
            "HI",
            "ID",
            "IL",
            "IN",
            "IA",
            "KS",
            "KY",
            "LA",
            "ME",
            "MD",
            "MA",
            "MI",
            "MN",
            "MO",
            "MT",
            "NE",
            "NV",
            "NH",
            "NJ",
            "NM",
            "NY",
            "NC",
            "OH",
            "OK",
            "OR",
            "PA",
            "RI",
            "SC",
            "SD",
            "TN",
            "TX",
            "UT",
            "VT",
            "VA",
            "WA",
            "DC",
            "WV",
            "WI",
            "WY"
           ],
           "type": "choropleth",
           "z": [
            3.1653465346534655,
            3.6330635838150287,
            3.2554572271386433,
            3.1,
            3.591337277502933,
            3.303009312706842,
            3.385698689956332,
            3.4165950128976785,
            3.1561500000000002,
            3.4709541232761043,
            3.2080260303687638,
            3.5080829756795424,
            3.4927878532264867,
            3.357046004842615,
            3.0118466898954703,
            3.338013698630137,
            3.187553041018387,
            2.9440167364016734,
            3.3343253968253967,
            3.3101560916278125,
            3.2792001692763435,
            3.4702983309239057,
            3.4380122324159017,
            2.695844504021448,
            3.327979274611399,
            3.391338582677165,
            3.0848082595870205,
            3.4586496577473556,
            3.336529680365297,
            3.2944954128440367,
            3.4418290545417056,
            3.3999074288359177,
            3.516458960034379,
            2.9262759924385633,
            3.5265075137911355,
            3.3490952579034943,
            3.141528239202658,
            3.147018030513176,
            3.3312500000000003,
            3.1729311678267598,
            3.1765137116481132,
            3.226247689463956,
            3.2099908130454753,
            3.2646341463414634,
            3.3082221873528947,
            3.289090909090909,
            2.9077380952380953,
            2.993317113966395,
            3.3369426751592357
           ],
           "zmax": 4,
           "zmin": 1
          }
         ],
         "name": "2009"
        },
        {
         "data": [
          {
           "colorscale": [
            [
             0,
             "#440154"
            ],
            [
             0.1111111111111111,
             "#482878"
            ],
            [
             0.2222222222222222,
             "#3e4989"
            ],
            [
             0.3333333333333333,
             "#31688e"
            ],
            [
             0.4444444444444444,
             "#26828e"
            ],
            [
             0.5555555555555556,
             "#1f9e89"
            ],
            [
             0.6666666666666666,
             "#35b779"
            ],
            [
             0.7777777777777778,
             "#6ece58"
            ],
            [
             0.8888888888888888,
             "#b5de2b"
            ],
            [
             1,
             "#fde725"
            ]
           ],
           "locationmode": "country names",
           "locations": [
            "Albania",
            "Argentina",
            "Armenia",
            "Australia",
            "Austria",
            "Bahamas",
            "Barbados",
            "Belarus",
            "Belgium",
            "Belize",
            "Bolivia",
            "Bosnia and Herzegovina",
            "Brazil",
            "Bulgaria",
            "Cambodia",
            "Canada",
            "Cayman Islands",
            "Chile",
            "China",
            "Colombia",
            "Costa Rica",
            "Croatia",
            "Cuba",
            "Cyprus",
            "Czech Republic",
            "Denmark",
            "Dominican Republic",
            "Ecuador",
            "Egypt",
            "El Salvador",
            "Estonia",
            "Ethiopia",
            "Faroe Islands",
            "Fiji Islands",
            "Finland",
            "France",
            "French Polynesia",
            "Georgia",
            "Germany",
            "Greece",
            "Guatemala",
            "Guernsey",
            "Honduras",
            "Hong Kong",
            "Hungary",
            "Iceland",
            "India",
            "Indonesia",
            "Ireland",
            "Isle of Man",
            "Israel",
            "Italy",
            "Jamaica",
            "Japan",
            "Jersey",
            "Kenya",
            "Laos",
            "Latvia",
            "Lebanon",
            "Lithuania",
            "Luxembourg",
            "Macedonia",
            "Malaysia",
            "Malta",
            "Mexico",
            "Moldova",
            "Montenegro",
            "Morocco",
            "Myanmar",
            "Namibia",
            "Netherlands",
            "New Zealand",
            "Nigeria",
            "Norway",
            "Palestine",
            "Panama",
            "Peru",
            "Philippines",
            "Poland",
            "Portugal",
            "Puerto Rico",
            "Romania",
            "Russia",
            "Serbia",
            "Singapore",
            "Slovak Republic",
            "Slovenia",
            "South Africa",
            "South Korea",
            "Spain",
            "Sri Lanka",
            "Sweden",
            "Switzerland",
            "Taiwan",
            "Tanzania",
            "Thailand",
            "Trinidad & Tobago",
            "Tunisia",
            "Turkey",
            "Uganda",
            "Ukraine",
            "United Kingdom",
            "Venezuela",
            "Vietnam",
            "Virgin Islands (U.S.)"
           ],
           "type": "choropleth",
           "z": [
            2.220689655172414,
            2.6048148148148145,
            2.1894736842105265,
            2.989939192924268,
            2.947170665459484,
            2.0666666666666664,
            2.173076923076923,
            2.274757281553398,
            3.501040493429874,
            2.1140350877192984,
            1.7444444444444445,
            2.3080645161290323,
            2.930783242258652,
            2.2628378378378375,
            2.420289855072464,
            3.2464390785456563,
            2.125,
            2.9587628865979383,
            1.8662790697674418,
            2.2058823529411766,
            2.015,
            2.5343750000000003,
            1.9,
            2.1655172413793102,
            2.988551081895371,
            3.049435418827054,
            2,
            2.0166666666666666,
            1.8539682539682538,
            1.6798245614035088,
            2.264273204903678,
            2.4375,
            2.6389312977099237,
            3.1,
            2.870951993490643,
            2.888560732113145,
            2.0451612903225804,
            2.312,
            3.024374225111416,
            2.422121212121212,
            1.7,
            2.6214285714285714,
            1.8641304347826086,
            1.9861111111111112,
            2.490981432360743,
            3.0884488448844882,
            1.979372197309417,
            2.13375,
            3.2040531982267257,
            3.068,
            3.0280898876404496,
            3.2221951219512195,
            2.278409090909091,
            3.0251187084520414,
            2.914285714285714,
            2.1121212121212123,
            2.397777777777778,
            2.5887905604719763,
            2.1472727272727274,
            2.604251968503937,
            2.5142857142857142,
            1.842857142857143,
            2.3,
            2.415625,
            2.1391273247496425,
            2.0791666666666666,
            2.5928571428571425,
            2.262,
            2.5,
            2.433333333333333,
            3.0479994442900806,
            3.1408961996596707,
            2.323913043478261,
            3.4782396449704143,
            2.3,
            1.9149999999999998,
            1.9952941176470587,
            1.9930232558139536,
            2.604789644012945,
            2.3129337539432178,
            2.5424242424242425,
            2.19,
            2.469654289372599,
            2.1547945205479455,
            2.622099447513812,
            2.680267558528428,
            2.3256,
            2.532258064516129,
            2.14,
            2.475790424570912,
            3.3759493670886074,
            3.1166640190627484,
            3.0392217898832685,
            1.967857142857143,
            1.876,
            2.1040983606557377,
            2.3226666666666667,
            2.155263157894737,
            2.2395121951219514,
            2.05,
            2.435,
            3.2065475686506932,
            1.6625,
            1.887857142857143,
            2.7583333333333333
           ],
           "zmax": 4,
           "zmin": 1
          },
          {
           "colorscale": [
            [
             0,
             "#440154"
            ],
            [
             0.1111111111111111,
             "#482878"
            ],
            [
             0.2222222222222222,
             "#3e4989"
            ],
            [
             0.3333333333333333,
             "#31688e"
            ],
            [
             0.4444444444444444,
             "#26828e"
            ],
            [
             0.5555555555555556,
             "#1f9e89"
            ],
            [
             0.6666666666666666,
             "#35b779"
            ],
            [
             0.7777777777777778,
             "#6ece58"
            ],
            [
             0.8888888888888888,
             "#b5de2b"
            ],
            [
             1,
             "#fde725"
            ]
           ],
           "locationmode": "USA-states",
           "locations": [
            "AL",
            "AK",
            "AZ",
            "AR",
            "CA",
            "CO",
            "CT",
            "DE",
            "FL",
            "GA",
            "HI",
            "ID",
            "IL",
            "IN",
            "IA",
            "KS",
            "KY",
            "LA",
            "ME",
            "MD",
            "MA",
            "MI",
            "MN",
            "MO",
            "MT",
            "NE",
            "NV",
            "NH",
            "NJ",
            "NM",
            "NY",
            "NC",
            "OH",
            "OK",
            "OR",
            "PA",
            "RI",
            "SC",
            "SD",
            "TN",
            "TX",
            "UT",
            "VT",
            "VA",
            "WA",
            "DC",
            "WV",
            "WI",
            "WY"
           ],
           "type": "choropleth",
           "z": [
            3.3491620111731844,
            3.642107455226989,
            3.2551373346897257,
            3.146153846153846,
            3.6150477306983753,
            3.3379594261947205,
            3.4289836888331244,
            3.4094017094017097,
            3.2546223224351745,
            3.51906604747162,
            3.31238670694864,
            3.489903023388477,
            3.5940067340067343,
            3.380767314399601,
            3.1609555189456344,
            3.3331521739130436,
            3.327857142857143,
            3.0258928571428574,
            3.414080365893499,
            3.4490111470694,
            3.34471593166468,
            3.4837816350867894,
            3.4783909832879907,
            2.858930127199861,
            3.327891156462585,
            3.491509433962264,
            3.0939334637964775,
            3.4680030840400926,
            3.382122260668974,
            3.397271268057785,
            3.4749654138805623,
            3.436979020979021,
            3.5263522284725224,
            3.081682242990654,
            3.5394149275494393,
            3.370312305586662,
            3,
            3.3629670329670334,
            3.107142857142857,
            3.326869806094183,
            3.2859986728599866,
            3.4405740011254924,
            3.277769049489395,
            3.3058177826564212,
            3.3469643430774174,
            3.2285714285714286,
            3.0211920529801324,
            3.0662821328004357,
            3.262179487179487
           ],
           "zmax": 4,
           "zmin": 1
          }
         ],
         "name": "2010"
        },
        {
         "data": [
          {
           "colorscale": [
            [
             0,
             "#440154"
            ],
            [
             0.1111111111111111,
             "#482878"
            ],
            [
             0.2222222222222222,
             "#3e4989"
            ],
            [
             0.3333333333333333,
             "#31688e"
            ],
            [
             0.4444444444444444,
             "#26828e"
            ],
            [
             0.5555555555555556,
             "#1f9e89"
            ],
            [
             0.6666666666666666,
             "#35b779"
            ],
            [
             0.7777777777777778,
             "#6ece58"
            ],
            [
             0.8888888888888888,
             "#b5de2b"
            ],
            [
             1,
             "#fde725"
            ]
           ],
           "locationmode": "country names",
           "locations": [
            "Albania",
            "Argentina",
            "Armenia",
            "Australia",
            "Austria",
            "Bahamas",
            "Barbados",
            "Belarus",
            "Belgium",
            "Belize",
            "Bolivia",
            "Bosnia and Herzegovina",
            "Brazil",
            "Bulgaria",
            "Cambodia",
            "Canada",
            "Cayman Islands",
            "Chile",
            "China",
            "Colombia",
            "Costa Rica",
            "Croatia",
            "Cuba",
            "Cyprus",
            "Czech Republic",
            "Denmark",
            "Dominican Republic",
            "Ecuador",
            "Egypt",
            "El Salvador",
            "Estonia",
            "Ethiopia",
            "Faroe Islands",
            "Fiji Islands",
            "Finland",
            "France",
            "French Polynesia",
            "Georgia",
            "Germany",
            "Greece",
            "Guatemala",
            "Guernsey",
            "Honduras",
            "Hong Kong",
            "Hungary",
            "Iceland",
            "India",
            "Indonesia",
            "Ireland",
            "Isle of Man",
            "Israel",
            "Italy",
            "Jamaica",
            "Japan",
            "Jersey",
            "Kenya",
            "Laos",
            "Latvia",
            "Lebanon",
            "Lithuania",
            "Luxembourg",
            "Macedonia",
            "Malaysia",
            "Malta",
            "Mexico",
            "Moldova",
            "Montenegro",
            "Morocco",
            "Myanmar",
            "Namibia",
            "Netherlands",
            "New Zealand",
            "Nigeria",
            "Norway",
            "Palestine",
            "Panama",
            "Peru",
            "Philippines",
            "Poland",
            "Portugal",
            "Puerto Rico",
            "Romania",
            "Russia",
            "Serbia",
            "Singapore",
            "Slovak Republic",
            "Slovenia",
            "South Africa",
            "South Korea",
            "Spain",
            "Sri Lanka",
            "Sweden",
            "Switzerland",
            "Taiwan",
            "Tanzania",
            "Thailand",
            "Trinidad & Tobago",
            "Tunisia",
            "Turkey",
            "Uganda",
            "Ukraine",
            "United Kingdom",
            "Venezuela",
            "Vietnam",
            "Virgin Islands (U.S.)"
           ],
           "type": "choropleth",
           "z": [
            2.3594594594594596,
            2.6443579766536964,
            2.246153846153846,
            3.0791292134831463,
            2.9029086439983613,
            2.1089285714285713,
            2.092857142857143,
            2.316666666666667,
            3.4850912067352664,
            2.690625,
            2.0793103448275865,
            2.2175675675675675,
            2.8000000000000003,
            2.354861111111111,
            2.6456521739130436,
            3.2220665668325204,
            2.390909090909091,
            2.749242424242424,
            1.9834586466165414,
            1.8676470588235294,
            2.096774193548387,
            2.3862573099415205,
            1.8875,
            2.143859649122807,
            3.0082251908396946,
            3.14379177730977,
            2.0517241379310347,
            1.8333333333333333,
            2.0677419354838706,
            1.9461538461538461,
            2.3641233766233767,
            2.32375,
            2.6026128266033255,
            2.0272727272727273,
            2.8926258416159025,
            2.937918871252205,
            1.9972222222222225,
            2.0090909090909093,
            2.9835708298407377,
            2.4384615384615382,
            1.9115942028985509,
            2,
            2.1511627906976742,
            2.084,
            2.5,
            2.9266949152542376,
            2.1199074074074074,
            2.3591836734693876,
            3.203822557810288,
            3.136764705882353,
            2.852777777777778,
            3.268803220312742,
            2.4066964285714287,
            3.0327699530516434,
            3.039285714285714,
            2.2233766233766232,
            2.3258823529411763,
            2.6199481865284975,
            2.7117117117117115,
            2.375037369207773,
            2.6105263157894734,
            1.8533333333333333,
            2.465625,
            2.5484375,
            2.233990482664854,
            2.094871794871795,
            2.375,
            2.1285714285714286,
            2.225,
            2.401388888888889,
            3.1073043303526573,
            3.3706369197553077,
            2.7133333333333334,
            3.3791530577767768,
            2.472,
            1.5125,
            2.231451612903226,
            2.10188679245283,
            2.6587070471753056,
            2.391208791208791,
            2.725714285714286,
            2.192093023255814,
            2.4649717514124294,
            2.3355555555555556,
            2.484567901234568,
            2.792827004219409,
            2.2925925925925927,
            2.9991071428571425,
            2.066326530612245,
            2.619004250151791,
            3.1980392156862747,
            3.113149676555878,
            3.12711943793911,
            2.541025641025641,
            1.8261538461538462,
            2.0976271186440676,
            2.2888888888888888,
            1.9023255813953488,
            2.0879781420765027,
            2.0972222222222223,
            2.276829268292683,
            3.2069617354373987,
            1.768,
            1.8733333333333333,
            2.8504950495049504
           ],
           "zmax": 4,
           "zmin": 1
          },
          {
           "colorscale": [
            [
             0,
             "#440154"
            ],
            [
             0.1111111111111111,
             "#482878"
            ],
            [
             0.2222222222222222,
             "#3e4989"
            ],
            [
             0.3333333333333333,
             "#31688e"
            ],
            [
             0.4444444444444444,
             "#26828e"
            ],
            [
             0.5555555555555556,
             "#1f9e89"
            ],
            [
             0.6666666666666666,
             "#35b779"
            ],
            [
             0.7777777777777778,
             "#6ece58"
            ],
            [
             0.8888888888888888,
             "#b5de2b"
            ],
            [
             1,
             "#fde725"
            ]
           ],
           "locationmode": "USA-states",
           "locations": [
            "AL",
            "AK",
            "AZ",
            "AR",
            "CA",
            "CO",
            "CT",
            "DE",
            "FL",
            "GA",
            "HI",
            "ID",
            "IL",
            "IN",
            "IA",
            "KS",
            "KY",
            "LA",
            "ME",
            "MD",
            "MA",
            "MI",
            "MN",
            "MO",
            "MT",
            "NE",
            "NV",
            "NH",
            "NJ",
            "NM",
            "NY",
            "NC",
            "OH",
            "OK",
            "OR",
            "PA",
            "RI",
            "SC",
            "SD",
            "TN",
            "TX",
            "UT",
            "VT",
            "VA",
            "WA",
            "DC",
            "WV",
            "WI",
            "WY"
           ],
           "type": "choropleth",
           "z": [
            3.2959044368600683,
            3.638033072236728,
            3.3070481927710844,
            2.9944,
            3.601317975724464,
            3.317774713311076,
            3.3036553524804178,
            3.2442508710801397,
            3.21221198156682,
            3.494767783656673,
            3.347311046511628,
            3.5464692482915714,
            3.5545228215767635,
            3.4466014138118544,
            3.2280141843971633,
            3.3076833527357397,
            3.3189189189189188,
            2.9865721434528774,
            3.4079946164199195,
            3.4616807686791913,
            3.4066699933466404,
            3.464455039067673,
            3.4959170653907496,
            2.9718527522139264,
            3.348474855729596,
            3.467696267696268,
            3.0897865853658537,
            3.437550689375507,
            3.3327423822714684,
            3.3376455368693403,
            3.4827024274316756,
            3.4067869222096956,
            3.5146045072912067,
            3.190086956521739,
            3.500382615520455,
            3.335525366674682,
            3.1223255813953488,
            3.3479913137893593,
            3.1659340659340662,
            3.2990530303030305,
            3.285369807497467,
            3.4882962511429443,
            3.4924549763033177,
            3.284200743494424,
            3.3369766580214892,
            3.3467889908256883,
            2.9544827586206894,
            3.0559175717070457,
            3.4010928961748634
           ],
           "zmax": 4,
           "zmin": 1
          }
         ],
         "name": "2011"
        },
        {
         "data": [
          {
           "colorscale": [
            [
             0,
             "#440154"
            ],
            [
             0.1111111111111111,
             "#482878"
            ],
            [
             0.2222222222222222,
             "#3e4989"
            ],
            [
             0.3333333333333333,
             "#31688e"
            ],
            [
             0.4444444444444444,
             "#26828e"
            ],
            [
             0.5555555555555556,
             "#1f9e89"
            ],
            [
             0.6666666666666666,
             "#35b779"
            ],
            [
             0.7777777777777778,
             "#6ece58"
            ],
            [
             0.8888888888888888,
             "#b5de2b"
            ],
            [
             1,
             "#fde725"
            ]
           ],
           "locationmode": "country names",
           "locations": [
            "Albania",
            "Argentina",
            "Armenia",
            "Australia",
            "Austria",
            "Bahamas",
            "Barbados",
            "Belarus",
            "Belgium",
            "Belize",
            "Bolivia",
            "Bosnia and Herzegovina",
            "Brazil",
            "Bulgaria",
            "Cambodia",
            "Canada",
            "Cayman Islands",
            "Chile",
            "China",
            "Colombia",
            "Costa Rica",
            "Croatia",
            "Cuba",
            "Cyprus",
            "Czech Republic",
            "Denmark",
            "Dominican Republic",
            "Ecuador",
            "Egypt",
            "El Salvador",
            "Estonia",
            "Ethiopia",
            "Faroe Islands",
            "Fiji Islands",
            "Finland",
            "France",
            "French Polynesia",
            "Georgia",
            "Germany",
            "Greece",
            "Guatemala",
            "Guernsey",
            "Honduras",
            "Hong Kong",
            "Hungary",
            "Iceland",
            "India",
            "Indonesia",
            "Ireland",
            "Isle of Man",
            "Israel",
            "Italy",
            "Jamaica",
            "Japan",
            "Jersey",
            "Kenya",
            "Laos",
            "Latvia",
            "Lebanon",
            "Lithuania",
            "Luxembourg",
            "Macedonia",
            "Malaysia",
            "Malta",
            "Mexico",
            "Moldova",
            "Montenegro",
            "Morocco",
            "Myanmar",
            "Namibia",
            "Netherlands",
            "New Zealand",
            "Nigeria",
            "Norway",
            "Palestine",
            "Panama",
            "Peru",
            "Philippines",
            "Poland",
            "Portugal",
            "Puerto Rico",
            "Romania",
            "Russia",
            "Serbia",
            "Singapore",
            "Slovak Republic",
            "Slovenia",
            "South Africa",
            "South Korea",
            "Spain",
            "Sri Lanka",
            "Sweden",
            "Switzerland",
            "Taiwan",
            "Tanzania",
            "Thailand",
            "Trinidad & Tobago",
            "Tunisia",
            "Turkey",
            "Uganda",
            "Ukraine",
            "United Kingdom",
            "Venezuela",
            "Vietnam",
            "Virgin Islands (U.S.)"
           ],
           "type": "choropleth",
           "z": [
            1.971186440677966,
            2.601834862385321,
            2.040157480314961,
            3.1098745226404803,
            2.9623429648241206,
            2.0300000000000002,
            2.203125,
            2.345731707317073,
            3.513304967346131,
            2.529166666666667,
            2.254385964912281,
            2.2142857142857144,
            2.8663915094339623,
            2.1963963963963966,
            2.363716814159292,
            3.2887619720521273,
            2.772727272727273,
            2.9918032786885247,
            2.1007739938080494,
            2.253061224489796,
            2.128985507246377,
            2.3669039145907473,
            1.912962962962963,
            2.2015873015873013,
            3.0193411118737132,
            3.1795031841761205,
            2.047142857142857,
            2.126315789473684,
            1.8051282051282054,
            2.1280487804878048,
            2.2816258351893097,
            2.388505747126437,
            2.650187265917603,
            2.4631578947368418,
            2.8451470588235295,
            2.963222119246216,
            2.111904761904762,
            1.9,
            3.0057949155135857,
            2.587125,
            1.9953125,
            2.1863636363636365,
            1.875,
            2.0753623188405794,
            2.677649769585253,
            3.240078328981723,
            2.13810888252149,
            2.1806122448979592,
            3.246758893280632,
            3.1315789473684212,
            2.899421128798842,
            3.320453805232874,
            2.3174825174825173,
            3.050948905109489,
            3.0064516129032257,
            2.1098265895953756,
            2.299236641221374,
            2.618432510885341,
            2.688324873096447,
            2.742210283960092,
            2.5142394822006473,
            2.075,
            2.4081967213114757,
            2.29875,
            2.2930369576861276,
            2.092,
            2.3779411764705882,
            2.312987012987013,
            1.839130434782609,
            2.462773722627737,
            3.1764415664508174,
            3.4014237451737452,
            2.5791666666666666,
            3.409116893356988,
            2.455,
            2.6027027027027025,
            2.2231182795698925,
            2.191304347826087,
            2.5932234432234433,
            2.3031662269129285,
            2.52,
            2.3716312056737587,
            2.4684752104770817,
            2.171505376344086,
            2.4895454545454547,
            2.770534904805077,
            2.25910447761194,
            2.7895899053627757,
            2.0753768844221105,
            2.860693069306931,
            3.2474747474747474,
            3.123300892133009,
            3.177385496183206,
            2.1864864864864866,
            1.9551724137931035,
            2.1552272727272728,
            2.432231404958678,
            1.481818181818182,
            2.2059850374064838,
            2.018181818181818,
            2.3955493741307374,
            3.2550509202556914,
            2.2666666666666666,
            2.026923076923077,
            2.8349206349206346
           ],
           "zmax": 4,
           "zmin": 1
          },
          {
           "colorscale": [
            [
             0,
             "#440154"
            ],
            [
             0.1111111111111111,
             "#482878"
            ],
            [
             0.2222222222222222,
             "#3e4989"
            ],
            [
             0.3333333333333333,
             "#31688e"
            ],
            [
             0.4444444444444444,
             "#26828e"
            ],
            [
             0.5555555555555556,
             "#1f9e89"
            ],
            [
             0.6666666666666666,
             "#35b779"
            ],
            [
             0.7777777777777778,
             "#6ece58"
            ],
            [
             0.8888888888888888,
             "#b5de2b"
            ],
            [
             1,
             "#fde725"
            ]
           ],
           "locationmode": "USA-states",
           "locations": [
            "AL",
            "AK",
            "AZ",
            "AR",
            "CA",
            "CO",
            "CT",
            "DE",
            "FL",
            "GA",
            "HI",
            "ID",
            "IL",
            "IN",
            "IA",
            "KS",
            "KY",
            "LA",
            "ME",
            "MD",
            "MA",
            "MI",
            "MN",
            "MO",
            "MT",
            "NE",
            "NV",
            "NH",
            "NJ",
            "NM",
            "NY",
            "NC",
            "OH",
            "OK",
            "OR",
            "PA",
            "RI",
            "SC",
            "SD",
            "TN",
            "TX",
            "UT",
            "VT",
            "VA",
            "WA",
            "DC",
            "WV",
            "WI",
            "WY"
           ],
           "type": "choropleth",
           "z": [
            3.3171597633136094,
            3.668354818907305,
            3.354491017964072,
            3.1255230125523012,
            3.622990931130466,
            3.3273612875900045,
            3.404668304668305,
            3.2396135265700483,
            3.295197547683924,
            3.5118536197295147,
            3.292828224407172,
            3.4952050473186116,
            3.5980758597810465,
            3.4086926526388406,
            3.316016859852476,
            3.4072361809045226,
            3.3370581527936145,
            2.997051597051597,
            3.4404090419806246,
            3.4656102236421726,
            3.4603536717062635,
            3.4810863129127765,
            3.454724231464738,
            2.9391372266282145,
            3.311446540880503,
            3.3733056708160443,
            3.2043661971830986,
            3.458872077028886,
            3.350511739915713,
            3.4851945854483923,
            3.4938864428545218,
            3.3855641941584365,
            3.5662124445903793,
            3.2378006872852234,
            3.4944281964754405,
            3.337120555073721,
            3.0831265508684864,
            3.4479888268156422,
            3.1728971962616823,
            3.236872909698997,
            3.4050976003978617,
            3.5063241959853224,
            3.6088875361436616,
            3.4272009359461832,
            3.368799874823971,
            3.509577922077922,
            3.1770334928229667,
            3.092816204757792,
            3.3393258426966295
           ],
           "zmax": 4,
           "zmin": 1
          }
         ],
         "name": "2012"
        },
        {
         "data": [
          {
           "colorscale": [
            [
             0,
             "#440154"
            ],
            [
             0.1111111111111111,
             "#482878"
            ],
            [
             0.2222222222222222,
             "#3e4989"
            ],
            [
             0.3333333333333333,
             "#31688e"
            ],
            [
             0.4444444444444444,
             "#26828e"
            ],
            [
             0.5555555555555556,
             "#1f9e89"
            ],
            [
             0.6666666666666666,
             "#35b779"
            ],
            [
             0.7777777777777778,
             "#6ece58"
            ],
            [
             0.8888888888888888,
             "#b5de2b"
            ],
            [
             1,
             "#fde725"
            ]
           ],
           "locationmode": "country names",
           "locations": [
            "Albania",
            "Argentina",
            "Armenia",
            "Australia",
            "Austria",
            "Bahamas",
            "Barbados",
            "Belarus",
            "Belgium",
            "Belize",
            "Bolivia",
            "Bosnia and Herzegovina",
            "Brazil",
            "Bulgaria",
            "Cambodia",
            "Canada",
            "Cayman Islands",
            "Chile",
            "China",
            "Colombia",
            "Costa Rica",
            "Croatia",
            "Cuba",
            "Cyprus",
            "Czech Republic",
            "Denmark",
            "Dominican Republic",
            "Ecuador",
            "Egypt",
            "El Salvador",
            "Estonia",
            "Ethiopia",
            "Faroe Islands",
            "Fiji Islands",
            "Finland",
            "France",
            "French Polynesia",
            "Georgia",
            "Germany",
            "Greece",
            "Guatemala",
            "Guernsey",
            "Honduras",
            "Hong Kong",
            "Hungary",
            "Iceland",
            "India",
            "Indonesia",
            "Ireland",
            "Isle of Man",
            "Israel",
            "Italy",
            "Jamaica",
            "Japan",
            "Jersey",
            "Kenya",
            "Laos",
            "Latvia",
            "Lebanon",
            "Lithuania",
            "Luxembourg",
            "Macedonia",
            "Malaysia",
            "Malta",
            "Mexico",
            "Moldova",
            "Montenegro",
            "Morocco",
            "Myanmar",
            "Namibia",
            "Netherlands",
            "New Zealand",
            "Nigeria",
            "Norway",
            "Palestine",
            "Panama",
            "Peru",
            "Philippines",
            "Poland",
            "Portugal",
            "Puerto Rico",
            "Romania",
            "Russia",
            "Serbia",
            "Singapore",
            "Slovak Republic",
            "Slovenia",
            "South Africa",
            "South Korea",
            "Spain",
            "Sri Lanka",
            "Sweden",
            "Switzerland",
            "Taiwan",
            "Tanzania",
            "Thailand",
            "Trinidad & Tobago",
            "Tunisia",
            "Turkey",
            "Uganda",
            "Ukraine",
            "United Kingdom",
            "Venezuela",
            "Vietnam",
            "Virgin Islands (U.S.)"
           ],
           "type": "choropleth",
           "z": [
            2.0350877192982457,
            2.6335463258785943,
            2.1090909090909093,
            3.2112110504336653,
            3.0647302904564313,
            2.3227722772277226,
            2.386607142857143,
            2.476859504132231,
            3.5084838533114393,
            2.4529411764705884,
            2.106,
            2.2806122448979593,
            3.0483643361128925,
            2.291959798994975,
            2.265217391304348,
            3.3332065945710103,
            2.65,
            3.0115183246073296,
            2.4131720430107526,
            2.174757281553398,
            2.110077519379845,
            2.3770175438596493,
            2.0123711340206185,
            2.4616438356164383,
            3.0455663762173244,
            3.228511270745603,
            1.9284210526315788,
            2.117241379310345,
            1.9897727272727272,
            2.0710526315789473,
            2.4889117043121147,
            2.1240963855421686,
            2.684102564102564,
            2.2214285714285715,
            2.9128765792031097,
            2.9962727152142197,
            2.229113924050633,
            2.0877777777777777,
            3.073744415074037,
            2.625985090521832,
            1.8701492537313433,
            2.1636363636363636,
            1.992,
            2.050684931506849,
            2.787274368231047,
            3.2375275938189843,
            2.125141242937853,
            2.123469387755102,
            3.222930542340628,
            3.018627450980392,
            2.989709172259508,
            3.3151758882800073,
            2.481782945736434,
            3.1316273849607184,
            2.8593220338983047,
            2.1893442622950823,
            2.3069767441860467,
            2.6882211538461536,
            2.5626609442060087,
            2.671656333038087,
            2.5420886075949367,
            2.02,
            2.6372549019607843,
            2.335,
            2.4039341262580054,
            2.483,
            2.4476190476190474,
            2.1098360655737705,
            1.9783783783783784,
            2.6907407407407407,
            3.222746121947474,
            3.434735071488646,
            2.761797752808989,
            3.4213982408249923,
            2.2528301886792454,
            1.7855421686746986,
            2.2234285714285718,
            2.083261802575107,
            2.8340983606557377,
            2.5357615894039736,
            2.5015151515151515,
            2.0881818181818184,
            2.3873028391167193,
            2.111194029850746,
            2.6144021739130436,
            2.9575689783743475,
            2.4325,
            2.895519713261649,
            2.0627118644067797,
            3.068420221169036,
            3.03195020746888,
            3.1948408000498474,
            3.2405477367820463,
            2.163492063492064,
            2.1875,
            2.0206521739130436,
            2.37515923566879,
            1.7875,
            2.267076167076167,
            1.8624999999999998,
            2.391676300578035,
            3.2766167160830193,
            2.0342465753424657,
            2.2587548638132295,
            2.7359999999999998
           ],
           "zmax": 4,
           "zmin": 1
          },
          {
           "colorscale": [
            [
             0,
             "#440154"
            ],
            [
             0.1111111111111111,
             "#482878"
            ],
            [
             0.2222222222222222,
             "#3e4989"
            ],
            [
             0.3333333333333333,
             "#31688e"
            ],
            [
             0.4444444444444444,
             "#26828e"
            ],
            [
             0.5555555555555556,
             "#1f9e89"
            ],
            [
             0.6666666666666666,
             "#35b779"
            ],
            [
             0.7777777777777778,
             "#6ece58"
            ],
            [
             0.8888888888888888,
             "#b5de2b"
            ],
            [
             1,
             "#fde725"
            ]
           ],
           "locationmode": "USA-states",
           "locations": [
            "AL",
            "AK",
            "AZ",
            "AR",
            "CA",
            "CO",
            "CT",
            "DE",
            "FL",
            "GA",
            "HI",
            "ID",
            "IL",
            "IN",
            "IA",
            "KS",
            "KY",
            "LA",
            "ME",
            "MD",
            "MA",
            "MI",
            "MN",
            "MO",
            "MT",
            "NE",
            "NV",
            "NH",
            "NJ",
            "NM",
            "NY",
            "NC",
            "OH",
            "OK",
            "OR",
            "PA",
            "RI",
            "SC",
            "SD",
            "TN",
            "TX",
            "UT",
            "VT",
            "VA",
            "WA",
            "DC",
            "WV",
            "WI",
            "WY"
           ],
           "type": "choropleth",
           "z": [
            3.320253164556962,
            3.6627412587412587,
            3.5052153299091273,
            3.2156028368794325,
            3.621768025543922,
            3.339936269380767,
            3.428188865398168,
            3.269373072970195,
            3.4469344198680636,
            3.5117160578911095,
            3.2563339731285987,
            3.449595015576324,
            3.5994057971014497,
            3.40954759922287,
            3.3527437400106557,
            3.452358168147642,
            3.358062015503876,
            3.08414554905783,
            3.534596921039563,
            3.4596735256926086,
            3.5141692926219714,
            3.488251001335114,
            3.4654561558901684,
            3.1342129802312573,
            3.3216842105263154,
            3.341780821917808,
            3.2912037037037036,
            3.507117087569695,
            3.3947275143996456,
            3.489371980676329,
            3.5073556360536973,
            3.4043429003021153,
            3.582868330885952,
            3.695826833073323,
            3.5109796266926923,
            3.354387517981631,
            3.0625242718446604,
            3.5777195685670264,
            3.028,
            3.245531914893617,
            3.3975480450629556,
            3.527363960749331,
            3.6424073278946616,
            3.372290409819014,
            3.370707506471096,
            3.527826086956522,
            3.2431309904153354,
            3.123625557206538,
            3.3393700787401572
           ],
           "zmax": 4,
           "zmin": 1
          }
         ],
         "name": "2013"
        },
        {
         "data": [
          {
           "colorscale": [
            [
             0,
             "#440154"
            ],
            [
             0.1111111111111111,
             "#482878"
            ],
            [
             0.2222222222222222,
             "#3e4989"
            ],
            [
             0.3333333333333333,
             "#31688e"
            ],
            [
             0.4444444444444444,
             "#26828e"
            ],
            [
             0.5555555555555556,
             "#1f9e89"
            ],
            [
             0.6666666666666666,
             "#35b779"
            ],
            [
             0.7777777777777778,
             "#6ece58"
            ],
            [
             0.8888888888888888,
             "#b5de2b"
            ],
            [
             1,
             "#fde725"
            ]
           ],
           "locationmode": "country names",
           "locations": [
            "Albania",
            "Argentina",
            "Armenia",
            "Australia",
            "Austria",
            "Bahamas",
            "Barbados",
            "Belarus",
            "Belgium",
            "Belize",
            "Bolivia",
            "Bosnia and Herzegovina",
            "Brazil",
            "Bulgaria",
            "Cambodia",
            "Canada",
            "Cayman Islands",
            "Chile",
            "China",
            "Colombia",
            "Costa Rica",
            "Croatia",
            "Cuba",
            "Cyprus",
            "Czech Republic",
            "Denmark",
            "Dominican Republic",
            "Ecuador",
            "Egypt",
            "El Salvador",
            "Estonia",
            "Ethiopia",
            "Faroe Islands",
            "Fiji Islands",
            "Finland",
            "France",
            "French Polynesia",
            "Georgia",
            "Germany",
            "Greece",
            "Guatemala",
            "Guernsey",
            "Honduras",
            "Hong Kong",
            "Hungary",
            "Iceland",
            "India",
            "Indonesia",
            "Ireland",
            "Isle of Man",
            "Israel",
            "Italy",
            "Jamaica",
            "Japan",
            "Jersey",
            "Kenya",
            "Laos",
            "Latvia",
            "Lebanon",
            "Lithuania",
            "Luxembourg",
            "Macedonia",
            "Malaysia",
            "Malta",
            "Mexico",
            "Moldova",
            "Montenegro",
            "Morocco",
            "Myanmar",
            "Namibia",
            "Netherlands",
            "New Zealand",
            "Nigeria",
            "Norway",
            "Palestine",
            "Panama",
            "Peru",
            "Philippines",
            "Poland",
            "Portugal",
            "Puerto Rico",
            "Romania",
            "Russia",
            "Serbia",
            "Singapore",
            "Slovak Republic",
            "Slovenia",
            "South Africa",
            "South Korea",
            "Spain",
            "Sri Lanka",
            "Sweden",
            "Switzerland",
            "Taiwan",
            "Tanzania",
            "Thailand",
            "Trinidad & Tobago",
            "Tunisia",
            "Turkey",
            "Uganda",
            "Ukraine",
            "United Kingdom",
            "Venezuela",
            "Vietnam",
            "Virgin Islands (U.S.)"
           ],
           "type": "choropleth",
           "z": [
            2.095049504950495,
            2.562099125364431,
            2.1833333333333336,
            3.227215467994727,
            3.064700704225352,
            2.1999999999999997,
            2.5346456692913386,
            2.439013452914798,
            3.471836436887352,
            2.3285714285714287,
            2.1314285714285712,
            2.326851851851852,
            2.936568848758465,
            2.364406779661017,
            2.435238095238095,
            3.3526292974993903,
            2.5154929577464786,
            2.9770212765957447,
            2.22775956284153,
            2.3315,
            2.269189189189189,
            2.553357206803939,
            2.000719424460432,
            2.4827338129496406,
            3.0397659678205753,
            3.22012432012432,
            2.004854368932039,
            2.685542168674699,
            1.8757575757575757,
            2.039189189189189,
            2.854860813704497,
            2.226086956521739,
            2.701764705882353,
            2.307894736842105,
            2.9920322671950186,
            2.977730090605627,
            2.126530612244898,
            2.253846153846154,
            3.0632271655521626,
            2.7268057784911717,
            1.8923076923076922,
            2.855769230769231,
            1.8791666666666667,
            2.522105263157895,
            2.9378223495702005,
            3.201431980906921,
            2.2188034188034185,
            2.0708333333333333,
            3.2267618824631232,
            3.220212765957447,
            3.047432306255836,
            3.3366710313486867,
            2.487878787878788,
            3.138099089989889,
            3.0702479338842976,
            2.2519607843137255,
            2.1685714285714286,
            2.7497297297297294,
            2.610497237569061,
            2.5808666666666666,
            2.5887640449438205,
            2.1718309859154927,
            2.4925925925925925,
            2.3145077720207254,
            2.495829991980754,
            2.304188481675393,
            2.373214285714286,
            1.9951219512195122,
            1.9368421052631577,
            2.390909090909091,
            3.255921565569936,
            3.4519400691509796,
            2.8169999999999997,
            3.3047768893474334,
            2.613414634146342,
            2.25,
            2.6940711462450593,
            1.9905027932960895,
            3.130104332705405,
            2.6236784140969167,
            2.5178082191780824,
            2.1638483965014577,
            2.6108166189111746,
            2.567948717948718,
            2.5797142857142856,
            3.013299232736573,
            2.5542446043165468,
            2.8257142857142856,
            2.154112554112554,
            3.0986616376688163,
            3.2097297297297294,
            3.1971049046321522,
            3.295463510848126,
            2.254794520547945,
            2.0589743589743588,
            2.075925925925926,
            2.2699346405228757,
            2.104761904761905,
            2.3096059113300496,
            2.264102564102564,
            2.4021538461538463,
            3.3015970695970696,
            1.9115384615384616,
            1.9872549019607841,
            2.9440677966101694
           ],
           "zmax": 4,
           "zmin": 1
          },
          {
           "colorscale": [
            [
             0,
             "#440154"
            ],
            [
             0.1111111111111111,
             "#482878"
            ],
            [
             0.2222222222222222,
             "#3e4989"
            ],
            [
             0.3333333333333333,
             "#31688e"
            ],
            [
             0.4444444444444444,
             "#26828e"
            ],
            [
             0.5555555555555556,
             "#1f9e89"
            ],
            [
             0.6666666666666666,
             "#35b779"
            ],
            [
             0.7777777777777778,
             "#6ece58"
            ],
            [
             0.8888888888888888,
             "#b5de2b"
            ],
            [
             1,
             "#fde725"
            ]
           ],
           "locationmode": "USA-states",
           "locations": [
            "AL",
            "AK",
            "AZ",
            "AR",
            "CA",
            "CO",
            "CT",
            "DE",
            "FL",
            "GA",
            "HI",
            "ID",
            "IL",
            "IN",
            "IA",
            "KS",
            "KY",
            "LA",
            "ME",
            "MD",
            "MA",
            "MI",
            "MN",
            "MO",
            "MT",
            "NE",
            "NV",
            "NH",
            "NJ",
            "NM",
            "NY",
            "NC",
            "OH",
            "OK",
            "OR",
            "PA",
            "RI",
            "SC",
            "SD",
            "TN",
            "TX",
            "UT",
            "VT",
            "VA",
            "WA",
            "DC",
            "WV",
            "WI",
            "WY"
           ],
           "type": "choropleth",
           "z": [
            3.3280296784831,
            3.640239672027752,
            3.579680809653562,
            3.253700189753321,
            3.6241836661140345,
            3.396745481352045,
            3.4749581706636925,
            3.269181818181818,
            3.415803408902863,
            3.501005429318319,
            3.2566063044936286,
            3.414174972314507,
            3.5858517506828904,
            3.4360332927324406,
            3.553452438435538,
            3.475255102040816,
            3.345530864197531,
            3.1950639853747718,
            3.561215355482871,
            3.445733350442705,
            3.5412040412457033,
            3.485939177101968,
            3.4622958617409227,
            3.237820512820513,
            3.3506523407521103,
            3.381516587677725,
            3.283106796116505,
            3.520337364735837,
            3.4239592183517416,
            3.5220458553791887,
            3.5111704363911542,
            3.3968359314709056,
            3.577555988315482,
            3.7185961236249345,
            3.5713831304157067,
            3.3349559926111048,
            3.274804177545692,
            3.6150726392251817,
            3.1881889763779525,
            3.2430586488492943,
            3.430097399122338,
            3.5207348406988697,
            3.6573522106308993,
            3.385981455288386,
            3.3734381038258405,
            3.525287931897847,
            3.2721132897603487,
            3.108397880146759,
            3.305813953488372
           ],
           "zmax": 4,
           "zmin": 1
          }
         ],
         "name": "2014"
        },
        {
         "data": [
          {
           "colorscale": [
            [
             0,
             "#440154"
            ],
            [
             0.1111111111111111,
             "#482878"
            ],
            [
             0.2222222222222222,
             "#3e4989"
            ],
            [
             0.3333333333333333,
             "#31688e"
            ],
            [
             0.4444444444444444,
             "#26828e"
            ],
            [
             0.5555555555555556,
             "#1f9e89"
            ],
            [
             0.6666666666666666,
             "#35b779"
            ],
            [
             0.7777777777777778,
             "#6ece58"
            ],
            [
             0.8888888888888888,
             "#b5de2b"
            ],
            [
             1,
             "#fde725"
            ]
           ],
           "locationmode": "country names",
           "locations": [
            "Albania",
            "Argentina",
            "Armenia",
            "Australia",
            "Austria",
            "Bahamas",
            "Barbados",
            "Belarus",
            "Belgium",
            "Belize",
            "Bolivia",
            "Bosnia and Herzegovina",
            "Brazil",
            "Bulgaria",
            "Cambodia",
            "Canada",
            "Cayman Islands",
            "Chile",
            "China",
            "Colombia",
            "Costa Rica",
            "Croatia",
            "Cuba",
            "Cyprus",
            "Czech Republic",
            "Denmark",
            "Dominican Republic",
            "Ecuador",
            "Egypt",
            "El Salvador",
            "Estonia",
            "Ethiopia",
            "Faroe Islands",
            "Fiji Islands",
            "Finland",
            "France",
            "French Polynesia",
            "Georgia",
            "Germany",
            "Greece",
            "Guatemala",
            "Guernsey",
            "Honduras",
            "Hong Kong",
            "Hungary",
            "Iceland",
            "India",
            "Indonesia",
            "Ireland",
            "Isle of Man",
            "Israel",
            "Italy",
            "Jamaica",
            "Japan",
            "Jersey",
            "Kenya",
            "Laos",
            "Latvia",
            "Lebanon",
            "Lithuania",
            "Luxembourg",
            "Macedonia",
            "Malaysia",
            "Malta",
            "Mexico",
            "Moldova",
            "Montenegro",
            "Morocco",
            "Myanmar",
            "Namibia",
            "Netherlands",
            "New Zealand",
            "Nigeria",
            "Norway",
            "Palestine",
            "Panama",
            "Peru",
            "Philippines",
            "Poland",
            "Portugal",
            "Puerto Rico",
            "Romania",
            "Russia",
            "Serbia",
            "Singapore",
            "Slovak Republic",
            "Slovenia",
            "South Africa",
            "South Korea",
            "Spain",
            "Sri Lanka",
            "Sweden",
            "Switzerland",
            "Taiwan",
            "Tanzania",
            "Thailand",
            "Trinidad & Tobago",
            "Tunisia",
            "Turkey",
            "Uganda",
            "Ukraine",
            "United Kingdom",
            "Venezuela",
            "Vietnam",
            "Virgin Islands (U.S.)"
           ],
           "type": "choropleth",
           "z": [
            2.158064516129032,
            2.67,
            2.0967479674796747,
            3.255950518981942,
            3.2009129814550645,
            2.3536585365853657,
            2.1307692307692307,
            2.6392405063291138,
            3.4845412529955495,
            2.256666666666667,
            2.3424242424242423,
            2.378139534883721,
            3.1546930134086097,
            2.6174418604651164,
            2.585483870967742,
            3.3724495151799774,
            2.7413793103448274,
            2.988650306748466,
            2.539909297052154,
            2.357857142857143,
            2.467808219178082,
            2.9186046511627906,
            2.0324324324324325,
            2.7224,
            3.1175991209596194,
            3.2042133370322845,
            2.168141592920354,
            2.501923076923077,
            1.9735849056603771,
            1.8149253731343282,
            3.1943725379853687,
            2.4282608695652175,
            2.6555555555555554,
            2.19375,
            3.0313483011165805,
            3.0030925401322004,
            2.246153846153846,
            2.227551020408163,
            3.0884581748662776,
            2.742631578947368,
            1.9412500000000001,
            2.79811320754717,
            2.0694444444444446,
            3.1164609053497943,
            3.0228051948051946,
            3.254230235783634,
            2.3625984251968504,
            2.0675438596491227,
            3.241064565718678,
            3.1690140845070425,
            3.002101576182137,
            3.3151823255102824,
            2.499411764705882,
            3.1877992721700825,
            3.0541666666666667,
            2.242857142857143,
            2.4021052631578947,
            2.920934466019417,
            2.533333333333333,
            2.71139489194499,
            2.7378548895899053,
            2.3393442622950817,
            2.4614285714285717,
            2.75025641025641,
            2.558388667552014,
            2.4660869565217394,
            2.3271604938271606,
            2.110869565217391,
            1.95,
            2.338709677419355,
            3.3012757643092483,
            3.463373698746548,
            2.5875,
            3.3204860442733395,
            2.4335483870967742,
            2.309090909090909,
            2.6971544715447155,
            2.21656050955414,
            3.284777689030884,
            2.840893169877408,
            2.417741935483871,
            2.5937685459940654,
            2.9288983050847457,
            2.9571639586410634,
            2.759880239520958,
            3.129319852941176,
            2.9748888888888887,
            2.840816326530612,
            2.529780564263323,
            3.1982624563630595,
            3.1751677852348994,
            3.2493191033585798,
            3.2749508012369977,
            2.395744680851064,
            2.26875,
            2.1074074074074076,
            2.2688888888888887,
            2.066666666666667,
            2.4148648648648647,
            1.8636363636363635,
            2.6073544433094993,
            3.3198023613963037,
            1.9380952380952383,
            2.2254901960784315,
            2.9464285714285716
           ],
           "zmax": 4,
           "zmin": 1
          },
          {
           "colorscale": [
            [
             0,
             "#440154"
            ],
            [
             0.1111111111111111,
             "#482878"
            ],
            [
             0.2222222222222222,
             "#3e4989"
            ],
            [
             0.3333333333333333,
             "#31688e"
            ],
            [
             0.4444444444444444,
             "#26828e"
            ],
            [
             0.5555555555555556,
             "#1f9e89"
            ],
            [
             0.6666666666666666,
             "#35b779"
            ],
            [
             0.7777777777777778,
             "#6ece58"
            ],
            [
             0.8888888888888888,
             "#b5de2b"
            ],
            [
             1,
             "#fde725"
            ]
           ],
           "locationmode": "USA-states",
           "locations": [
            "AL",
            "AK",
            "AZ",
            "AR",
            "CA",
            "CO",
            "CT",
            "DE",
            "FL",
            "GA",
            "HI",
            "ID",
            "IL",
            "IN",
            "IA",
            "KS",
            "KY",
            "LA",
            "ME",
            "MD",
            "MA",
            "MI",
            "MN",
            "MO",
            "MT",
            "NE",
            "NV",
            "NH",
            "NJ",
            "NM",
            "NY",
            "NC",
            "OH",
            "OK",
            "OR",
            "PA",
            "RI",
            "SC",
            "SD",
            "TN",
            "TX",
            "UT",
            "VT",
            "VA",
            "WA",
            "DC",
            "WV",
            "WI",
            "WY"
           ],
           "type": "choropleth",
           "z": [
            3.3991836734693877,
            3.6260930888575458,
            3.541311596887736,
            3.34018691588785,
            3.6365287860274567,
            3.4558068205448116,
            3.486602139582272,
            3.2945859872611467,
            3.4798970730138308,
            3.5098809275120115,
            3.3015221707478495,
            3.449279231179925,
            3.5555915838017005,
            3.481568325965789,
            3.606026438569207,
            3.502985074626866,
            3.33955732122588,
            3.319335347432024,
            3.596394422310757,
            3.440556900726392,
            3.61929225002756,
            3.508979441320181,
            3.463742943986105,
            3.338921859545005,
            3.4092731829573935,
            3.200268997982515,
            3.4171584699453548,
            3.525672877846791,
            3.447387755102041,
            3.5522443890274316,
            3.5271355549002266,
            3.418032494197465,
            3.5435437430786267,
            3.7537464293561853,
            3.562534671440819,
            3.366593482782528,
            3.3448933782267116,
            3.5567364016736405,
            3.2149484536082475,
            3.3643988269794725,
            3.4530981666279876,
            3.4739966832504146,
            3.6824270884824517,
            3.437674354370943,
            3.3914312617702445,
            3.562026726057906,
            3.2507575757575755,
            3.1952863303580386,
            3.387111801242236
           ],
           "zmax": 4,
           "zmin": 1
          }
         ],
         "name": "2015"
        },
        {
         "data": [
          {
           "colorscale": [
            [
             0,
             "#440154"
            ],
            [
             0.1111111111111111,
             "#482878"
            ],
            [
             0.2222222222222222,
             "#3e4989"
            ],
            [
             0.3333333333333333,
             "#31688e"
            ],
            [
             0.4444444444444444,
             "#26828e"
            ],
            [
             0.5555555555555556,
             "#1f9e89"
            ],
            [
             0.6666666666666666,
             "#35b779"
            ],
            [
             0.7777777777777778,
             "#6ece58"
            ],
            [
             0.8888888888888888,
             "#b5de2b"
            ],
            [
             1,
             "#fde725"
            ]
           ],
           "locationmode": "country names",
           "locations": [
            "Albania",
            "Argentina",
            "Armenia",
            "Australia",
            "Austria",
            "Bahamas",
            "Barbados",
            "Belarus",
            "Belgium",
            "Belize",
            "Bolivia",
            "Bosnia and Herzegovina",
            "Brazil",
            "Bulgaria",
            "Cambodia",
            "Canada",
            "Cayman Islands",
            "Chile",
            "China",
            "Colombia",
            "Costa Rica",
            "Croatia",
            "Cuba",
            "Cyprus",
            "Czech Republic",
            "Denmark",
            "Dominican Republic",
            "Ecuador",
            "Egypt",
            "El Salvador",
            "Estonia",
            "Ethiopia",
            "Faroe Islands",
            "Fiji Islands",
            "Finland",
            "France",
            "French Polynesia",
            "Georgia",
            "Germany",
            "Greece",
            "Guatemala",
            "Guernsey",
            "Honduras",
            "Hong Kong",
            "Hungary",
            "Iceland",
            "India",
            "Indonesia",
            "Ireland",
            "Isle of Man",
            "Israel",
            "Italy",
            "Jamaica",
            "Japan",
            "Jersey",
            "Kenya",
            "Laos",
            "Latvia",
            "Lebanon",
            "Lithuania",
            "Luxembourg",
            "Macedonia",
            "Malaysia",
            "Malta",
            "Mexico",
            "Moldova",
            "Montenegro",
            "Morocco",
            "Myanmar",
            "Namibia",
            "Netherlands",
            "New Zealand",
            "Nigeria",
            "Norway",
            "Palestine",
            "Panama",
            "Peru",
            "Philippines",
            "Poland",
            "Portugal",
            "Puerto Rico",
            "Romania",
            "Russia",
            "Serbia",
            "Singapore",
            "Slovak Republic",
            "Slovenia",
            "South Africa",
            "South Korea",
            "Spain",
            "Sri Lanka",
            "Sweden",
            "Switzerland",
            "Taiwan",
            "Tanzania",
            "Thailand",
            "Trinidad & Tobago",
            "Tunisia",
            "Turkey",
            "Uganda",
            "Ukraine",
            "United Kingdom",
            "Venezuela",
            "Vietnam",
            "Virgin Islands (U.S.)"
           ],
           "type": "choropleth",
           "z": [
            2.3493827160493828,
            2.6371951219512195,
            2.2278481012658227,
            3.2812886888013506,
            3.2130872483221475,
            2.47536231884058,
            2.188888888888889,
            2.6903141361256546,
            3.52101011263984,
            2.229032258064516,
            2.1473684210526316,
            2.7331858407079648,
            3.249409237379162,
            2.712718204488778,
            2.539080459770115,
            3.396395190153719,
            2.5528301886792457,
            3.144354838709677,
            2.6120976692563818,
            2.374193548387097,
            2.8018181818181818,
            3.032855822550832,
            2.108510638297872,
            2.649438202247191,
            3.1214814814814815,
            3.29109300799197,
            1.9233333333333333,
            2.738888888888889,
            1.9944444444444445,
            2.4430769230769234,
            3.33297458209297,
            2.346341463414634,
            2.7934640522875815,
            2.320689655172414,
            3.0921582234559333,
            3.08308840681129,
            2.3183673469387753,
            2.1865853658536585,
            3.111110620348491,
            3.0739130434782607,
            1.9967213114754099,
            2.6,
            2.1641025641025644,
            3.194416243654822,
            2.981267828843106,
            3.3246938775510206,
            2.2722713864306785,
            2.0386363636363636,
            3.294889779559118,
            3.230357142857143,
            2.9285714285714284,
            3.3129778237984295,
            2.533606557377049,
            3.239731027857829,
            2.8275862068965516,
            2.2512820512820513,
            2.3138297872340425,
            2.9028571428571426,
            2.3329787234042554,
            2.807441113490364,
            2.793968253968254,
            2.240127388535032,
            2.269473684210526,
            2.774834437086093,
            2.802305051495831,
            2.7839826839826842,
            2.4825581395348837,
            2.088709677419355,
            2.2465753424657535,
            2.448,
            3.350308275144852,
            3.4625785001847067,
            2.709090909090909,
            3.3001590804125827,
            2.735294117647059,
            2.8743902439024387,
            2.846341463414634,
            2.39527027027027,
            3.3197956736773744,
            3.0595030221625255,
            2.0153846153846153,
            2.809559748427673,
            3.0834578973592426,
            3.1234782608695655,
            2.7867307692307692,
            3.196004243281471,
            3.120174418604651,
            2.9525386313465782,
            2.778588807785888,
            3.2543528064146625,
            2.807741935483871,
            3.3865023346726026,
            3.31625386996904,
            2.573469387755102,
            2.1219512195121952,
            2.6475095785440614,
            2.1551020408163266,
            2.2600000000000002,
            2.5316666666666667,
            1.8125,
            2.802290076335878,
            3.3516391464717845,
            2.1125,
            2.414551083591331,
            2.984375
           ],
           "zmax": 4,
           "zmin": 1
          },
          {
           "colorscale": [
            [
             0,
             "#440154"
            ],
            [
             0.1111111111111111,
             "#482878"
            ],
            [
             0.2222222222222222,
             "#3e4989"
            ],
            [
             0.3333333333333333,
             "#31688e"
            ],
            [
             0.4444444444444444,
             "#26828e"
            ],
            [
             0.5555555555555556,
             "#1f9e89"
            ],
            [
             0.6666666666666666,
             "#35b779"
            ],
            [
             0.7777777777777778,
             "#6ece58"
            ],
            [
             0.8888888888888888,
             "#b5de2b"
            ],
            [
             1,
             "#fde725"
            ]
           ],
           "locationmode": "USA-states",
           "locations": [
            "AL",
            "AK",
            "AZ",
            "AR",
            "CA",
            "CO",
            "CT",
            "DE",
            "FL",
            "GA",
            "HI",
            "ID",
            "IL",
            "IN",
            "IA",
            "KS",
            "KY",
            "LA",
            "ME",
            "MD",
            "MA",
            "MI",
            "MN",
            "MO",
            "MT",
            "NE",
            "NV",
            "NH",
            "NJ",
            "NM",
            "NY",
            "NC",
            "OH",
            "OK",
            "OR",
            "PA",
            "RI",
            "SC",
            "SD",
            "TN",
            "TX",
            "UT",
            "VT",
            "VA",
            "WA",
            "DC",
            "WV",
            "WI",
            "WY"
           ],
           "type": "choropleth",
           "z": [
            3.451160443995964,
            3.5892636774989715,
            3.524989375265618,
            3.4353233830845773,
            3.6302927123949695,
            3.545380925683673,
            3.5223186925434113,
            3.2993197278911564,
            3.5350159274687574,
            3.5562267888091115,
            3.2893111638954866,
            3.4168674698795183,
            3.5603947958725883,
            3.4628877737226276,
            3.621118881118881,
            3.436052921719956,
            3.4042938437661667,
            3.331438127090301,
            3.6203204830469113,
            3.4934265318262936,
            3.691247544204322,
            3.534820278655895,
            3.4545636576005343,
            3.431887691150664,
            3.400466562986003,
            3.3113970588235295,
            3.4054844606946983,
            3.545705426356589,
            3.4751817580964968,
            3.5245125348189412,
            3.5720087406065133,
            3.467787165198634,
            3.5529341963322545,
            3.797027027027027,
            3.5886430969780765,
            3.399360484685291,
            3.3757697456492637,
            3.65743301642178,
            3.2160621761658033,
            3.4966949531040643,
            3.452029941639178,
            3.446215837421163,
            3.7538094128611372,
            3.53207868852459,
            3.4673915327240254,
            3.5478770131771595,
            3.3404255319148937,
            3.222641509433962,
            3.6445923460898504
           ],
           "zmax": 4,
           "zmin": 1
          }
         ],
         "name": "2016"
        }
       ],
       "layout": {
        "geo": {
         "projection": {
          "type": "equirectangular"
         },
         "scope": "world",
         "showcoastlines": true,
         "showframe": false
        },
        "height": 600,
        "sliders": [
         {
          "steps": [
           {
            "args": [
             [
              "2002"
             ],
             {
              "frame": {
               "duration": 300,
               "redraw": true
              },
              "mode": "immediate"
             }
            ],
            "label": "2002",
            "method": "animate"
           },
           {
            "args": [
             [
              "2003"
             ],
             {
              "frame": {
               "duration": 300,
               "redraw": true
              },
              "mode": "immediate"
             }
            ],
            "label": "2003",
            "method": "animate"
           },
           {
            "args": [
             [
              "2004"
             ],
             {
              "frame": {
               "duration": 300,
               "redraw": true
              },
              "mode": "immediate"
             }
            ],
            "label": "2004",
            "method": "animate"
           },
           {
            "args": [
             [
              "2005"
             ],
             {
              "frame": {
               "duration": 300,
               "redraw": true
              },
              "mode": "immediate"
             }
            ],
            "label": "2005",
            "method": "animate"
           },
           {
            "args": [
             [
              "2006"
             ],
             {
              "frame": {
               "duration": 300,
               "redraw": true
              },
              "mode": "immediate"
             }
            ],
            "label": "2006",
            "method": "animate"
           },
           {
            "args": [
             [
              "2007"
             ],
             {
              "frame": {
               "duration": 300,
               "redraw": true
              },
              "mode": "immediate"
             }
            ],
            "label": "2007",
            "method": "animate"
           },
           {
            "args": [
             [
              "2008"
             ],
             {
              "frame": {
               "duration": 300,
               "redraw": true
              },
              "mode": "immediate"
             }
            ],
            "label": "2008",
            "method": "animate"
           },
           {
            "args": [
             [
              "2009"
             ],
             {
              "frame": {
               "duration": 300,
               "redraw": true
              },
              "mode": "immediate"
             }
            ],
            "label": "2009",
            "method": "animate"
           },
           {
            "args": [
             [
              "2010"
             ],
             {
              "frame": {
               "duration": 300,
               "redraw": true
              },
              "mode": "immediate"
             }
            ],
            "label": "2010",
            "method": "animate"
           },
           {
            "args": [
             [
              "2011"
             ],
             {
              "frame": {
               "duration": 300,
               "redraw": true
              },
              "mode": "immediate"
             }
            ],
            "label": "2011",
            "method": "animate"
           },
           {
            "args": [
             [
              "2012"
             ],
             {
              "frame": {
               "duration": 300,
               "redraw": true
              },
              "mode": "immediate"
             }
            ],
            "label": "2012",
            "method": "animate"
           },
           {
            "args": [
             [
              "2013"
             ],
             {
              "frame": {
               "duration": 300,
               "redraw": true
              },
              "mode": "immediate"
             }
            ],
            "label": "2013",
            "method": "animate"
           },
           {
            "args": [
             [
              "2014"
             ],
             {
              "frame": {
               "duration": 300,
               "redraw": true
              },
              "mode": "immediate"
             }
            ],
            "label": "2014",
            "method": "animate"
           },
           {
            "args": [
             [
              "2015"
             ],
             {
              "frame": {
               "duration": 300,
               "redraw": true
              },
              "mode": "immediate"
             }
            ],
            "label": "2015",
            "method": "animate"
           },
           {
            "args": [
             [
              "2016"
             ],
             {
              "frame": {
               "duration": 300,
               "redraw": true
              },
              "mode": "immediate"
             }
            ],
            "label": "2016",
            "method": "animate"
           }
          ],
          "transition": {
           "duration": 300
          },
          "x": 0.1,
          "xanchor": "left",
          "y": 0,
          "yanchor": "top"
         }
        ],
        "template": {
         "data": {
          "bar": [
           {
            "error_x": {
             "color": "#2a3f5f"
            },
            "error_y": {
             "color": "#2a3f5f"
            },
            "marker": {
             "line": {
              "color": "#E5ECF6",
              "width": 0.5
             },
             "pattern": {
              "fillmode": "overlay",
              "size": 10,
              "solidity": 0.2
             }
            },
            "type": "bar"
           }
          ],
          "barpolar": [
           {
            "marker": {
             "line": {
              "color": "#E5ECF6",
              "width": 0.5
             },
             "pattern": {
              "fillmode": "overlay",
              "size": 10,
              "solidity": 0.2
             }
            },
            "type": "barpolar"
           }
          ],
          "carpet": [
           {
            "aaxis": {
             "endlinecolor": "#2a3f5f",
             "gridcolor": "white",
             "linecolor": "white",
             "minorgridcolor": "white",
             "startlinecolor": "#2a3f5f"
            },
            "baxis": {
             "endlinecolor": "#2a3f5f",
             "gridcolor": "white",
             "linecolor": "white",
             "minorgridcolor": "white",
             "startlinecolor": "#2a3f5f"
            },
            "type": "carpet"
           }
          ],
          "choropleth": [
           {
            "colorbar": {
             "outlinewidth": 0,
             "ticks": ""
            },
            "type": "choropleth"
           }
          ],
          "contour": [
           {
            "colorbar": {
             "outlinewidth": 0,
             "ticks": ""
            },
            "colorscale": [
             [
              0,
              "#0d0887"
             ],
             [
              0.1111111111111111,
              "#46039f"
             ],
             [
              0.2222222222222222,
              "#7201a8"
             ],
             [
              0.3333333333333333,
              "#9c179e"
             ],
             [
              0.4444444444444444,
              "#bd3786"
             ],
             [
              0.5555555555555556,
              "#d8576b"
             ],
             [
              0.6666666666666666,
              "#ed7953"
             ],
             [
              0.7777777777777778,
              "#fb9f3a"
             ],
             [
              0.8888888888888888,
              "#fdca26"
             ],
             [
              1,
              "#f0f921"
             ]
            ],
            "type": "contour"
           }
          ],
          "contourcarpet": [
           {
            "colorbar": {
             "outlinewidth": 0,
             "ticks": ""
            },
            "type": "contourcarpet"
           }
          ],
          "heatmap": [
           {
            "colorbar": {
             "outlinewidth": 0,
             "ticks": ""
            },
            "colorscale": [
             [
              0,
              "#0d0887"
             ],
             [
              0.1111111111111111,
              "#46039f"
             ],
             [
              0.2222222222222222,
              "#7201a8"
             ],
             [
              0.3333333333333333,
              "#9c179e"
             ],
             [
              0.4444444444444444,
              "#bd3786"
             ],
             [
              0.5555555555555556,
              "#d8576b"
             ],
             [
              0.6666666666666666,
              "#ed7953"
             ],
             [
              0.7777777777777778,
              "#fb9f3a"
             ],
             [
              0.8888888888888888,
              "#fdca26"
             ],
             [
              1,
              "#f0f921"
             ]
            ],
            "type": "heatmap"
           }
          ],
          "heatmapgl": [
           {
            "colorbar": {
             "outlinewidth": 0,
             "ticks": ""
            },
            "colorscale": [
             [
              0,
              "#0d0887"
             ],
             [
              0.1111111111111111,
              "#46039f"
             ],
             [
              0.2222222222222222,
              "#7201a8"
             ],
             [
              0.3333333333333333,
              "#9c179e"
             ],
             [
              0.4444444444444444,
              "#bd3786"
             ],
             [
              0.5555555555555556,
              "#d8576b"
             ],
             [
              0.6666666666666666,
              "#ed7953"
             ],
             [
              0.7777777777777778,
              "#fb9f3a"
             ],
             [
              0.8888888888888888,
              "#fdca26"
             ],
             [
              1,
              "#f0f921"
             ]
            ],
            "type": "heatmapgl"
           }
          ],
          "histogram": [
           {
            "marker": {
             "pattern": {
              "fillmode": "overlay",
              "size": 10,
              "solidity": 0.2
             }
            },
            "type": "histogram"
           }
          ],
          "histogram2d": [
           {
            "colorbar": {
             "outlinewidth": 0,
             "ticks": ""
            },
            "colorscale": [
             [
              0,
              "#0d0887"
             ],
             [
              0.1111111111111111,
              "#46039f"
             ],
             [
              0.2222222222222222,
              "#7201a8"
             ],
             [
              0.3333333333333333,
              "#9c179e"
             ],
             [
              0.4444444444444444,
              "#bd3786"
             ],
             [
              0.5555555555555556,
              "#d8576b"
             ],
             [
              0.6666666666666666,
              "#ed7953"
             ],
             [
              0.7777777777777778,
              "#fb9f3a"
             ],
             [
              0.8888888888888888,
              "#fdca26"
             ],
             [
              1,
              "#f0f921"
             ]
            ],
            "type": "histogram2d"
           }
          ],
          "histogram2dcontour": [
           {
            "colorbar": {
             "outlinewidth": 0,
             "ticks": ""
            },
            "colorscale": [
             [
              0,
              "#0d0887"
             ],
             [
              0.1111111111111111,
              "#46039f"
             ],
             [
              0.2222222222222222,
              "#7201a8"
             ],
             [
              0.3333333333333333,
              "#9c179e"
             ],
             [
              0.4444444444444444,
              "#bd3786"
             ],
             [
              0.5555555555555556,
              "#d8576b"
             ],
             [
              0.6666666666666666,
              "#ed7953"
             ],
             [
              0.7777777777777778,
              "#fb9f3a"
             ],
             [
              0.8888888888888888,
              "#fdca26"
             ],
             [
              1,
              "#f0f921"
             ]
            ],
            "type": "histogram2dcontour"
           }
          ],
          "mesh3d": [
           {
            "colorbar": {
             "outlinewidth": 0,
             "ticks": ""
            },
            "type": "mesh3d"
           }
          ],
          "parcoords": [
           {
            "line": {
             "colorbar": {
              "outlinewidth": 0,
              "ticks": ""
             }
            },
            "type": "parcoords"
           }
          ],
          "pie": [
           {
            "automargin": true,
            "type": "pie"
           }
          ],
          "scatter": [
           {
            "fillpattern": {
             "fillmode": "overlay",
             "size": 10,
             "solidity": 0.2
            },
            "type": "scatter"
           }
          ],
          "scatter3d": [
           {
            "line": {
             "colorbar": {
              "outlinewidth": 0,
              "ticks": ""
             }
            },
            "marker": {
             "colorbar": {
              "outlinewidth": 0,
              "ticks": ""
             }
            },
            "type": "scatter3d"
           }
          ],
          "scattercarpet": [
           {
            "marker": {
             "colorbar": {
              "outlinewidth": 0,
              "ticks": ""
             }
            },
            "type": "scattercarpet"
           }
          ],
          "scattergeo": [
           {
            "marker": {
             "colorbar": {
              "outlinewidth": 0,
              "ticks": ""
             }
            },
            "type": "scattergeo"
           }
          ],
          "scattergl": [
           {
            "marker": {
             "colorbar": {
              "outlinewidth": 0,
              "ticks": ""
             }
            },
            "type": "scattergl"
           }
          ],
          "scattermapbox": [
           {
            "marker": {
             "colorbar": {
              "outlinewidth": 0,
              "ticks": ""
             }
            },
            "type": "scattermapbox"
           }
          ],
          "scatterpolar": [
           {
            "marker": {
             "colorbar": {
              "outlinewidth": 0,
              "ticks": ""
             }
            },
            "type": "scatterpolar"
           }
          ],
          "scatterpolargl": [
           {
            "marker": {
             "colorbar": {
              "outlinewidth": 0,
              "ticks": ""
             }
            },
            "type": "scatterpolargl"
           }
          ],
          "scatterternary": [
           {
            "marker": {
             "colorbar": {
              "outlinewidth": 0,
              "ticks": ""
             }
            },
            "type": "scatterternary"
           }
          ],
          "surface": [
           {
            "colorbar": {
             "outlinewidth": 0,
             "ticks": ""
            },
            "colorscale": [
             [
              0,
              "#0d0887"
             ],
             [
              0.1111111111111111,
              "#46039f"
             ],
             [
              0.2222222222222222,
              "#7201a8"
             ],
             [
              0.3333333333333333,
              "#9c179e"
             ],
             [
              0.4444444444444444,
              "#bd3786"
             ],
             [
              0.5555555555555556,
              "#d8576b"
             ],
             [
              0.6666666666666666,
              "#ed7953"
             ],
             [
              0.7777777777777778,
              "#fb9f3a"
             ],
             [
              0.8888888888888888,
              "#fdca26"
             ],
             [
              1,
              "#f0f921"
             ]
            ],
            "type": "surface"
           }
          ],
          "table": [
           {
            "cells": {
             "fill": {
              "color": "#EBF0F8"
             },
             "line": {
              "color": "white"
             }
            },
            "header": {
             "fill": {
              "color": "#C8D4E3"
             },
             "line": {
              "color": "white"
             }
            },
            "type": "table"
           }
          ]
         },
         "layout": {
          "annotationdefaults": {
           "arrowcolor": "#2a3f5f",
           "arrowhead": 0,
           "arrowwidth": 1
          },
          "autotypenumbers": "strict",
          "coloraxis": {
           "colorbar": {
            "outlinewidth": 0,
            "ticks": ""
           }
          },
          "colorscale": {
           "diverging": [
            [
             0,
             "#8e0152"
            ],
            [
             0.1,
             "#c51b7d"
            ],
            [
             0.2,
             "#de77ae"
            ],
            [
             0.3,
             "#f1b6da"
            ],
            [
             0.4,
             "#fde0ef"
            ],
            [
             0.5,
             "#f7f7f7"
            ],
            [
             0.6,
             "#e6f5d0"
            ],
            [
             0.7,
             "#b8e186"
            ],
            [
             0.8,
             "#7fbc41"
            ],
            [
             0.9,
             "#4d9221"
            ],
            [
             1,
             "#276419"
            ]
           ],
           "sequential": [
            [
             0,
             "#0d0887"
            ],
            [
             0.1111111111111111,
             "#46039f"
            ],
            [
             0.2222222222222222,
             "#7201a8"
            ],
            [
             0.3333333333333333,
             "#9c179e"
            ],
            [
             0.4444444444444444,
             "#bd3786"
            ],
            [
             0.5555555555555556,
             "#d8576b"
            ],
            [
             0.6666666666666666,
             "#ed7953"
            ],
            [
             0.7777777777777778,
             "#fb9f3a"
            ],
            [
             0.8888888888888888,
             "#fdca26"
            ],
            [
             1,
             "#f0f921"
            ]
           ],
           "sequentialminus": [
            [
             0,
             "#0d0887"
            ],
            [
             0.1111111111111111,
             "#46039f"
            ],
            [
             0.2222222222222222,
             "#7201a8"
            ],
            [
             0.3333333333333333,
             "#9c179e"
            ],
            [
             0.4444444444444444,
             "#bd3786"
            ],
            [
             0.5555555555555556,
             "#d8576b"
            ],
            [
             0.6666666666666666,
             "#ed7953"
            ],
            [
             0.7777777777777778,
             "#fb9f3a"
            ],
            [
             0.8888888888888888,
             "#fdca26"
            ],
            [
             1,
             "#f0f921"
            ]
           ]
          },
          "colorway": [
           "#636efa",
           "#EF553B",
           "#00cc96",
           "#ab63fa",
           "#FFA15A",
           "#19d3f3",
           "#FF6692",
           "#B6E880",
           "#FF97FF",
           "#FECB52"
          ],
          "font": {
           "color": "#2a3f5f"
          },
          "geo": {
           "bgcolor": "white",
           "lakecolor": "white",
           "landcolor": "#E5ECF6",
           "showlakes": true,
           "showland": true,
           "subunitcolor": "white"
          },
          "hoverlabel": {
           "align": "left"
          },
          "hovermode": "closest",
          "mapbox": {
           "style": "light"
          },
          "paper_bgcolor": "white",
          "plot_bgcolor": "#E5ECF6",
          "polar": {
           "angularaxis": {
            "gridcolor": "white",
            "linecolor": "white",
            "ticks": ""
           },
           "bgcolor": "#E5ECF6",
           "radialaxis": {
            "gridcolor": "white",
            "linecolor": "white",
            "ticks": ""
           }
          },
          "scene": {
           "xaxis": {
            "backgroundcolor": "#E5ECF6",
            "gridcolor": "white",
            "gridwidth": 2,
            "linecolor": "white",
            "showbackground": true,
            "ticks": "",
            "zerolinecolor": "white"
           },
           "yaxis": {
            "backgroundcolor": "#E5ECF6",
            "gridcolor": "white",
            "gridwidth": 2,
            "linecolor": "white",
            "showbackground": true,
            "ticks": "",
            "zerolinecolor": "white"
           },
           "zaxis": {
            "backgroundcolor": "#E5ECF6",
            "gridcolor": "white",
            "gridwidth": 2,
            "linecolor": "white",
            "showbackground": true,
            "ticks": "",
            "zerolinecolor": "white"
           }
          },
          "shapedefaults": {
           "line": {
            "color": "#2a3f5f"
           }
          },
          "ternary": {
           "aaxis": {
            "gridcolor": "white",
            "linecolor": "white",
            "ticks": ""
           },
           "baxis": {
            "gridcolor": "white",
            "linecolor": "white",
            "ticks": ""
           },
           "bgcolor": "#E5ECF6",
           "caxis": {
            "gridcolor": "white",
            "linecolor": "white",
            "ticks": ""
           }
          },
          "title": {
           "x": 0.05
          },
          "xaxis": {
           "automargin": true,
           "gridcolor": "white",
           "linecolor": "white",
           "ticks": "",
           "title": {
            "standoff": 15
           },
           "zerolinecolor": "white",
           "zerolinewidth": 2
          },
          "yaxis": {
           "automargin": true,
           "gridcolor": "white",
           "linecolor": "white",
           "ticks": "",
           "title": {
            "standoff": 15
           },
           "zerolinecolor": "white",
           "zerolinewidth": 2
          }
         }
        },
        "title": {
         "text": "Average ratings by beer country over the years",
         "x": 0.5
        },
        "updatemenus": [
         {
          "buttons": [
           {
            "args": [
             null,
             {
              "frame": {
               "duration": 300,
               "redraw": true
              },
              "fromcurrent": true
             }
            ],
            "label": "Play",
            "method": "animate"
           },
           {
            "args": [
             [
              null
             ],
             {
              "frame": {
               "duration": 0,
               "redraw": true
              },
              "mode": "immediate"
             }
            ],
            "label": "Pause",
            "method": "animate"
           }
          ],
          "direction": "left",
          "pad": {
           "r": 10,
           "t": 87
          },
          "showactive": false,
          "type": "buttons",
          "x": 0.1,
          "xanchor": "right",
          "y": 0,
          "yanchor": "top"
         }
        ],
        "width": 800
       }
      }
     },
     "metadata": {},
     "output_type": "display_data"
    }
   ],
   "source": [
    "# Plot the rating evolution over time\n",
    "global_analysis.ratings_evolution_map()"
   ]
  },
  {
   "cell_type": "code",
   "execution_count": 28,
   "metadata": {},
   "outputs": [
    {
     "data": {
      "application/vnd.plotly.v1+json": {
       "config": {
        "plotlyServerURL": "https://plot.ly"
       },
       "data": [
        {
         "line": {
          "color": "red"
         },
         "marker": {
          "color": "red",
          "size": 4
         },
         "mode": "lines+markers",
         "name": "Mean",
         "showlegend": true,
         "type": "scatter",
         "x": [
          2002,
          2003,
          2004,
          2005,
          2006,
          2007,
          2008,
          2009,
          2010,
          2011,
          2012,
          2013,
          2014,
          2015,
          2016
         ],
         "xaxis": "x",
         "y": [
          12.44959555239375,
          12.473303720754581,
          12.564547865514587,
          12.54814243714847,
          12.679933425840753,
          12.816286648662816,
          12.90312207329423,
          13.013276798794108,
          13.18580277293974,
          13.114333861794476,
          13.220625177910618,
          13.352576300688883,
          13.343030839976976,
          13.45104993972706,
          13.605062579821201
         ],
         "yaxis": "y"
        },
        {
         "line": {
          "color": "blue"
         },
         "marker": {
          "color": "blue",
          "size": 6
         },
         "mode": "markers",
         "name": "Median",
         "showlegend": true,
         "type": "scatter",
         "x": [
          2002,
          2003,
          2004,
          2005,
          2006,
          2007,
          2008,
          2009,
          2010,
          2011,
          2012,
          2013,
          2014,
          2015,
          2016
         ],
         "xaxis": "x",
         "y": [
          13,
          13,
          13,
          13,
          13,
          13,
          13,
          14,
          14,
          14,
          14,
          14,
          14,
          14,
          14
         ],
         "yaxis": "y"
        },
        {
         "line": {
          "color": "red"
         },
         "marker": {
          "color": "red",
          "size": 4
         },
         "mode": "lines+markers",
         "name": "Mean",
         "showlegend": false,
         "type": "scatter",
         "x": [
          2002,
          2003,
          2004,
          2005,
          2006,
          2007,
          2008,
          2009,
          2010,
          2011,
          2012,
          2013,
          2014,
          2015,
          2016
         ],
         "xaxis": "x2",
         "y": [
          5.923905883592865,
          6.0156634956030715,
          6.0707991640492285,
          6.053374452531013,
          6.0964818597109405,
          6.14105675771146,
          6.216078131781392,
          6.296334655190055,
          6.386518320935772,
          6.380347897426801,
          6.4141029746655285,
          6.510898201826201,
          6.521726029126001,
          6.569400693510861,
          6.652490421455939
         ],
         "yaxis": "y2"
        },
        {
         "line": {
          "color": "blue"
         },
         "marker": {
          "color": "blue",
          "size": 6
         },
         "mode": "markers",
         "name": "Median",
         "showlegend": false,
         "type": "scatter",
         "x": [
          2002,
          2003,
          2004,
          2005,
          2006,
          2007,
          2008,
          2009,
          2010,
          2011,
          2012,
          2013,
          2014,
          2015,
          2016
         ],
         "xaxis": "x2",
         "y": [
          6,
          6,
          6,
          6,
          6,
          6,
          6,
          7,
          7,
          7,
          7,
          7,
          7,
          7,
          7
         ],
         "yaxis": "y2"
        },
        {
         "line": {
          "color": "red"
         },
         "marker": {
          "color": "red",
          "size": 4
         },
         "mode": "lines+markers",
         "name": "Mean",
         "showlegend": false,
         "type": "scatter",
         "x": [
          2002,
          2003,
          2004,
          2005,
          2006,
          2007,
          2008,
          2009,
          2010,
          2011,
          2012,
          2013,
          2014,
          2015,
          2016
         ],
         "xaxis": "x3",
         "y": [
          6.0862118936579455,
          6.144631071627673,
          6.177364555198416,
          6.156979039427056,
          6.198935125274794,
          6.260919108011714,
          6.327022012634486,
          6.390894412015004,
          6.461255600578355,
          6.4448962848812075,
          6.5001761315115285,
          6.5847973919841865,
          6.580688861216884,
          6.618991928882892,
          6.690931034482759
         ],
         "yaxis": "y3"
        },
        {
         "line": {
          "color": "blue"
         },
         "marker": {
          "color": "blue",
          "size": 6
         },
         "mode": "markers",
         "name": "Median",
         "showlegend": false,
         "type": "scatter",
         "x": [
          2002,
          2003,
          2004,
          2005,
          2006,
          2007,
          2008,
          2009,
          2010,
          2011,
          2012,
          2013,
          2014,
          2015,
          2016
         ],
         "xaxis": "x3",
         "y": [
          6,
          6,
          6,
          6,
          6,
          7,
          7,
          7,
          7,
          7,
          7,
          7,
          7,
          7,
          7
         ],
         "yaxis": "y3"
        },
        {
         "line": {
          "color": "red"
         },
         "marker": {
          "color": "red",
          "size": 4
         },
         "mode": "lines+markers",
         "name": "Mean",
         "showlegend": false,
         "type": "scatter",
         "x": [
          2002,
          2003,
          2004,
          2005,
          2006,
          2007,
          2008,
          2009,
          2010,
          2011,
          2012,
          2013,
          2014,
          2015,
          2016
         ],
         "xaxis": "x4",
         "y": [
          3.3668221220983847,
          3.3690812307802975,
          3.34823338181196,
          3.349102917202718,
          3.352071282682923,
          3.3521063366720223,
          3.3669584594962956,
          3.388573467864906,
          3.4182997702392215,
          3.414292841384051,
          3.4427216766296613,
          3.473934593087578,
          3.464603371033936,
          3.480614684770045,
          3.48944061302682
         ],
         "yaxis": "y4"
        },
        {
         "line": {
          "color": "blue"
         },
         "marker": {
          "color": "blue",
          "size": 6
         },
         "mode": "markers",
         "name": "Median",
         "showlegend": false,
         "type": "scatter",
         "x": [
          2002,
          2003,
          2004,
          2005,
          2006,
          2007,
          2008,
          2009,
          2010,
          2011,
          2012,
          2013,
          2014,
          2015,
          2016
         ],
         "xaxis": "x4",
         "y": [
          3,
          3,
          3,
          3,
          3,
          3,
          3,
          3,
          3,
          3,
          3,
          3,
          3,
          3,
          3
         ],
         "yaxis": "y4"
        },
        {
         "line": {
          "color": "red"
         },
         "marker": {
          "color": "red",
          "size": 4
         },
         "mode": "lines+markers",
         "name": "Mean",
         "showlegend": false,
         "type": "scatter",
         "x": [
          2002,
          2003,
          2004,
          2005,
          2006,
          2007,
          2008,
          2009,
          2010,
          2011,
          2012,
          2013,
          2014,
          2015,
          2016
         ],
         "xaxis": "x5",
         "y": [
          3.1012304692646167,
          3.1203355692628625,
          3.124518778338609,
          3.1258098825409064,
          3.1462838522583763,
          3.169677753848608,
          3.190550277791173,
          3.214223145054018,
          3.2645870043631597,
          3.2566214703045486,
          3.2851747082265867,
          3.3300438111253707,
          3.3301740889593425,
          3.353539236939623,
          3.36872030651341
         ],
         "yaxis": "y5"
        },
        {
         "line": {
          "color": "blue"
         },
         "marker": {
          "color": "blue",
          "size": 6
         },
         "mode": "markers",
         "name": "Median",
         "showlegend": false,
         "type": "scatter",
         "x": [
          2002,
          2003,
          2004,
          2005,
          2006,
          2007,
          2008,
          2009,
          2010,
          2011,
          2012,
          2013,
          2014,
          2015,
          2016
         ],
         "xaxis": "x5",
         "y": [
          3,
          3,
          3,
          3,
          3,
          3,
          3,
          3,
          3,
          3,
          3,
          3,
          3,
          3,
          3
         ],
         "yaxis": "y5"
        },
        {
         "line": {
          "color": "red"
         },
         "marker": {
          "color": "red",
          "size": 4
         },
         "mode": "lines+markers",
         "name": "Mean",
         "showlegend": false,
         "type": "scatter",
         "x": [
          2002,
          2003,
          2004,
          2005,
          2006,
          2007,
          2008,
          2009,
          2010,
          2011,
          2012,
          2013,
          2014,
          2015,
          2016
         ],
         "xaxis": "x6",
         "y": [
          3.0927871314520594,
          3.1123015088028487,
          3.1285463744912803,
          3.123340872885016,
          3.147370554576779,
          3.1740046604906618,
          3.2003730954997582,
          3.2303302478918092,
          3.2716463469056243,
          3.2610492355791085,
          3.286280066894392,
          3.325225029871222,
          3.324022319031314,
          3.347359648383049,
          3.380664495530014
         ],
         "yaxis": "y6"
        },
        {
         "line": {
          "color": "blue"
         },
         "marker": {
          "color": "blue",
          "size": 4
         },
         "mode": "lines+markers",
         "name": "Median",
         "showlegend": false,
         "type": "scatter",
         "x": [
          2002,
          2003,
          2004,
          2005,
          2006,
          2007,
          2008,
          2009,
          2010,
          2011,
          2012,
          2013,
          2014,
          2015,
          2016
         ],
         "xaxis": "x6",
         "y": [
          3.3,
          3.3,
          3.3,
          3.2,
          3.3,
          3.3,
          3.3,
          3.3,
          3.4,
          3.4,
          3.4,
          3.4,
          3.4,
          3.4,
          3.5
         ],
         "yaxis": "y6"
        }
       ],
       "layout": {
        "annotations": [
         {
          "font": {
           "size": 16
          },
          "showarrow": false,
          "text": "overall",
          "x": 0.14444444444444446,
          "xanchor": "center",
          "xref": "paper",
          "y": 1,
          "yanchor": "bottom",
          "yref": "paper"
         },
         {
          "font": {
           "size": 16
          },
          "showarrow": false,
          "text": "aroma",
          "x": 0.5,
          "xanchor": "center",
          "xref": "paper",
          "y": 1,
          "yanchor": "bottom",
          "yref": "paper"
         },
         {
          "font": {
           "size": 16
          },
          "showarrow": false,
          "text": "taste",
          "x": 0.8555555555555556,
          "xanchor": "center",
          "xref": "paper",
          "y": 1,
          "yanchor": "bottom",
          "yref": "paper"
         },
         {
          "font": {
           "size": 16
          },
          "showarrow": false,
          "text": "appearance",
          "x": 0.14444444444444446,
          "xanchor": "center",
          "xref": "paper",
          "y": 0.375,
          "yanchor": "bottom",
          "yref": "paper"
         },
         {
          "font": {
           "size": 16
          },
          "showarrow": false,
          "text": "mouthfeel",
          "x": 0.5,
          "xanchor": "center",
          "xref": "paper",
          "y": 0.375,
          "yanchor": "bottom",
          "yref": "paper"
         },
         {
          "font": {
           "size": 16
          },
          "showarrow": false,
          "text": "rating",
          "x": 0.8555555555555556,
          "xanchor": "center",
          "xref": "paper",
          "y": 0.375,
          "yanchor": "bottom",
          "yref": "paper"
         }
        ],
        "height": 600,
        "paper_bgcolor": "white",
        "plot_bgcolor": "white",
        "showlegend": true,
        "template": {
         "data": {
          "bar": [
           {
            "error_x": {
             "color": "#2a3f5f"
            },
            "error_y": {
             "color": "#2a3f5f"
            },
            "marker": {
             "line": {
              "color": "#E5ECF6",
              "width": 0.5
             },
             "pattern": {
              "fillmode": "overlay",
              "size": 10,
              "solidity": 0.2
             }
            },
            "type": "bar"
           }
          ],
          "barpolar": [
           {
            "marker": {
             "line": {
              "color": "#E5ECF6",
              "width": 0.5
             },
             "pattern": {
              "fillmode": "overlay",
              "size": 10,
              "solidity": 0.2
             }
            },
            "type": "barpolar"
           }
          ],
          "carpet": [
           {
            "aaxis": {
             "endlinecolor": "#2a3f5f",
             "gridcolor": "white",
             "linecolor": "white",
             "minorgridcolor": "white",
             "startlinecolor": "#2a3f5f"
            },
            "baxis": {
             "endlinecolor": "#2a3f5f",
             "gridcolor": "white",
             "linecolor": "white",
             "minorgridcolor": "white",
             "startlinecolor": "#2a3f5f"
            },
            "type": "carpet"
           }
          ],
          "choropleth": [
           {
            "colorbar": {
             "outlinewidth": 0,
             "ticks": ""
            },
            "type": "choropleth"
           }
          ],
          "contour": [
           {
            "colorbar": {
             "outlinewidth": 0,
             "ticks": ""
            },
            "colorscale": [
             [
              0,
              "#0d0887"
             ],
             [
              0.1111111111111111,
              "#46039f"
             ],
             [
              0.2222222222222222,
              "#7201a8"
             ],
             [
              0.3333333333333333,
              "#9c179e"
             ],
             [
              0.4444444444444444,
              "#bd3786"
             ],
             [
              0.5555555555555556,
              "#d8576b"
             ],
             [
              0.6666666666666666,
              "#ed7953"
             ],
             [
              0.7777777777777778,
              "#fb9f3a"
             ],
             [
              0.8888888888888888,
              "#fdca26"
             ],
             [
              1,
              "#f0f921"
             ]
            ],
            "type": "contour"
           }
          ],
          "contourcarpet": [
           {
            "colorbar": {
             "outlinewidth": 0,
             "ticks": ""
            },
            "type": "contourcarpet"
           }
          ],
          "heatmap": [
           {
            "colorbar": {
             "outlinewidth": 0,
             "ticks": ""
            },
            "colorscale": [
             [
              0,
              "#0d0887"
             ],
             [
              0.1111111111111111,
              "#46039f"
             ],
             [
              0.2222222222222222,
              "#7201a8"
             ],
             [
              0.3333333333333333,
              "#9c179e"
             ],
             [
              0.4444444444444444,
              "#bd3786"
             ],
             [
              0.5555555555555556,
              "#d8576b"
             ],
             [
              0.6666666666666666,
              "#ed7953"
             ],
             [
              0.7777777777777778,
              "#fb9f3a"
             ],
             [
              0.8888888888888888,
              "#fdca26"
             ],
             [
              1,
              "#f0f921"
             ]
            ],
            "type": "heatmap"
           }
          ],
          "heatmapgl": [
           {
            "colorbar": {
             "outlinewidth": 0,
             "ticks": ""
            },
            "colorscale": [
             [
              0,
              "#0d0887"
             ],
             [
              0.1111111111111111,
              "#46039f"
             ],
             [
              0.2222222222222222,
              "#7201a8"
             ],
             [
              0.3333333333333333,
              "#9c179e"
             ],
             [
              0.4444444444444444,
              "#bd3786"
             ],
             [
              0.5555555555555556,
              "#d8576b"
             ],
             [
              0.6666666666666666,
              "#ed7953"
             ],
             [
              0.7777777777777778,
              "#fb9f3a"
             ],
             [
              0.8888888888888888,
              "#fdca26"
             ],
             [
              1,
              "#f0f921"
             ]
            ],
            "type": "heatmapgl"
           }
          ],
          "histogram": [
           {
            "marker": {
             "pattern": {
              "fillmode": "overlay",
              "size": 10,
              "solidity": 0.2
             }
            },
            "type": "histogram"
           }
          ],
          "histogram2d": [
           {
            "colorbar": {
             "outlinewidth": 0,
             "ticks": ""
            },
            "colorscale": [
             [
              0,
              "#0d0887"
             ],
             [
              0.1111111111111111,
              "#46039f"
             ],
             [
              0.2222222222222222,
              "#7201a8"
             ],
             [
              0.3333333333333333,
              "#9c179e"
             ],
             [
              0.4444444444444444,
              "#bd3786"
             ],
             [
              0.5555555555555556,
              "#d8576b"
             ],
             [
              0.6666666666666666,
              "#ed7953"
             ],
             [
              0.7777777777777778,
              "#fb9f3a"
             ],
             [
              0.8888888888888888,
              "#fdca26"
             ],
             [
              1,
              "#f0f921"
             ]
            ],
            "type": "histogram2d"
           }
          ],
          "histogram2dcontour": [
           {
            "colorbar": {
             "outlinewidth": 0,
             "ticks": ""
            },
            "colorscale": [
             [
              0,
              "#0d0887"
             ],
             [
              0.1111111111111111,
              "#46039f"
             ],
             [
              0.2222222222222222,
              "#7201a8"
             ],
             [
              0.3333333333333333,
              "#9c179e"
             ],
             [
              0.4444444444444444,
              "#bd3786"
             ],
             [
              0.5555555555555556,
              "#d8576b"
             ],
             [
              0.6666666666666666,
              "#ed7953"
             ],
             [
              0.7777777777777778,
              "#fb9f3a"
             ],
             [
              0.8888888888888888,
              "#fdca26"
             ],
             [
              1,
              "#f0f921"
             ]
            ],
            "type": "histogram2dcontour"
           }
          ],
          "mesh3d": [
           {
            "colorbar": {
             "outlinewidth": 0,
             "ticks": ""
            },
            "type": "mesh3d"
           }
          ],
          "parcoords": [
           {
            "line": {
             "colorbar": {
              "outlinewidth": 0,
              "ticks": ""
             }
            },
            "type": "parcoords"
           }
          ],
          "pie": [
           {
            "automargin": true,
            "type": "pie"
           }
          ],
          "scatter": [
           {
            "fillpattern": {
             "fillmode": "overlay",
             "size": 10,
             "solidity": 0.2
            },
            "type": "scatter"
           }
          ],
          "scatter3d": [
           {
            "line": {
             "colorbar": {
              "outlinewidth": 0,
              "ticks": ""
             }
            },
            "marker": {
             "colorbar": {
              "outlinewidth": 0,
              "ticks": ""
             }
            },
            "type": "scatter3d"
           }
          ],
          "scattercarpet": [
           {
            "marker": {
             "colorbar": {
              "outlinewidth": 0,
              "ticks": ""
             }
            },
            "type": "scattercarpet"
           }
          ],
          "scattergeo": [
           {
            "marker": {
             "colorbar": {
              "outlinewidth": 0,
              "ticks": ""
             }
            },
            "type": "scattergeo"
           }
          ],
          "scattergl": [
           {
            "marker": {
             "colorbar": {
              "outlinewidth": 0,
              "ticks": ""
             }
            },
            "type": "scattergl"
           }
          ],
          "scattermapbox": [
           {
            "marker": {
             "colorbar": {
              "outlinewidth": 0,
              "ticks": ""
             }
            },
            "type": "scattermapbox"
           }
          ],
          "scatterpolar": [
           {
            "marker": {
             "colorbar": {
              "outlinewidth": 0,
              "ticks": ""
             }
            },
            "type": "scatterpolar"
           }
          ],
          "scatterpolargl": [
           {
            "marker": {
             "colorbar": {
              "outlinewidth": 0,
              "ticks": ""
             }
            },
            "type": "scatterpolargl"
           }
          ],
          "scatterternary": [
           {
            "marker": {
             "colorbar": {
              "outlinewidth": 0,
              "ticks": ""
             }
            },
            "type": "scatterternary"
           }
          ],
          "surface": [
           {
            "colorbar": {
             "outlinewidth": 0,
             "ticks": ""
            },
            "colorscale": [
             [
              0,
              "#0d0887"
             ],
             [
              0.1111111111111111,
              "#46039f"
             ],
             [
              0.2222222222222222,
              "#7201a8"
             ],
             [
              0.3333333333333333,
              "#9c179e"
             ],
             [
              0.4444444444444444,
              "#bd3786"
             ],
             [
              0.5555555555555556,
              "#d8576b"
             ],
             [
              0.6666666666666666,
              "#ed7953"
             ],
             [
              0.7777777777777778,
              "#fb9f3a"
             ],
             [
              0.8888888888888888,
              "#fdca26"
             ],
             [
              1,
              "#f0f921"
             ]
            ],
            "type": "surface"
           }
          ],
          "table": [
           {
            "cells": {
             "fill": {
              "color": "#EBF0F8"
             },
             "line": {
              "color": "white"
             }
            },
            "header": {
             "fill": {
              "color": "#C8D4E3"
             },
             "line": {
              "color": "white"
             }
            },
            "type": "table"
           }
          ]
         },
         "layout": {
          "annotationdefaults": {
           "arrowcolor": "#2a3f5f",
           "arrowhead": 0,
           "arrowwidth": 1
          },
          "autotypenumbers": "strict",
          "coloraxis": {
           "colorbar": {
            "outlinewidth": 0,
            "ticks": ""
           }
          },
          "colorscale": {
           "diverging": [
            [
             0,
             "#8e0152"
            ],
            [
             0.1,
             "#c51b7d"
            ],
            [
             0.2,
             "#de77ae"
            ],
            [
             0.3,
             "#f1b6da"
            ],
            [
             0.4,
             "#fde0ef"
            ],
            [
             0.5,
             "#f7f7f7"
            ],
            [
             0.6,
             "#e6f5d0"
            ],
            [
             0.7,
             "#b8e186"
            ],
            [
             0.8,
             "#7fbc41"
            ],
            [
             0.9,
             "#4d9221"
            ],
            [
             1,
             "#276419"
            ]
           ],
           "sequential": [
            [
             0,
             "#0d0887"
            ],
            [
             0.1111111111111111,
             "#46039f"
            ],
            [
             0.2222222222222222,
             "#7201a8"
            ],
            [
             0.3333333333333333,
             "#9c179e"
            ],
            [
             0.4444444444444444,
             "#bd3786"
            ],
            [
             0.5555555555555556,
             "#d8576b"
            ],
            [
             0.6666666666666666,
             "#ed7953"
            ],
            [
             0.7777777777777778,
             "#fb9f3a"
            ],
            [
             0.8888888888888888,
             "#fdca26"
            ],
            [
             1,
             "#f0f921"
            ]
           ],
           "sequentialminus": [
            [
             0,
             "#0d0887"
            ],
            [
             0.1111111111111111,
             "#46039f"
            ],
            [
             0.2222222222222222,
             "#7201a8"
            ],
            [
             0.3333333333333333,
             "#9c179e"
            ],
            [
             0.4444444444444444,
             "#bd3786"
            ],
            [
             0.5555555555555556,
             "#d8576b"
            ],
            [
             0.6666666666666666,
             "#ed7953"
            ],
            [
             0.7777777777777778,
             "#fb9f3a"
            ],
            [
             0.8888888888888888,
             "#fdca26"
            ],
            [
             1,
             "#f0f921"
            ]
           ]
          },
          "colorway": [
           "#636efa",
           "#EF553B",
           "#00cc96",
           "#ab63fa",
           "#FFA15A",
           "#19d3f3",
           "#FF6692",
           "#B6E880",
           "#FF97FF",
           "#FECB52"
          ],
          "font": {
           "color": "#2a3f5f"
          },
          "geo": {
           "bgcolor": "white",
           "lakecolor": "white",
           "landcolor": "#E5ECF6",
           "showlakes": true,
           "showland": true,
           "subunitcolor": "white"
          },
          "hoverlabel": {
           "align": "left"
          },
          "hovermode": "closest",
          "mapbox": {
           "style": "light"
          },
          "paper_bgcolor": "white",
          "plot_bgcolor": "#E5ECF6",
          "polar": {
           "angularaxis": {
            "gridcolor": "white",
            "linecolor": "white",
            "ticks": ""
           },
           "bgcolor": "#E5ECF6",
           "radialaxis": {
            "gridcolor": "white",
            "linecolor": "white",
            "ticks": ""
           }
          },
          "scene": {
           "xaxis": {
            "backgroundcolor": "#E5ECF6",
            "gridcolor": "white",
            "gridwidth": 2,
            "linecolor": "white",
            "showbackground": true,
            "ticks": "",
            "zerolinecolor": "white"
           },
           "yaxis": {
            "backgroundcolor": "#E5ECF6",
            "gridcolor": "white",
            "gridwidth": 2,
            "linecolor": "white",
            "showbackground": true,
            "ticks": "",
            "zerolinecolor": "white"
           },
           "zaxis": {
            "backgroundcolor": "#E5ECF6",
            "gridcolor": "white",
            "gridwidth": 2,
            "linecolor": "white",
            "showbackground": true,
            "ticks": "",
            "zerolinecolor": "white"
           }
          },
          "shapedefaults": {
           "line": {
            "color": "#2a3f5f"
           }
          },
          "ternary": {
           "aaxis": {
            "gridcolor": "white",
            "linecolor": "white",
            "ticks": ""
           },
           "baxis": {
            "gridcolor": "white",
            "linecolor": "white",
            "ticks": ""
           },
           "bgcolor": "#E5ECF6",
           "caxis": {
            "gridcolor": "white",
            "linecolor": "white",
            "ticks": ""
           }
          },
          "title": {
           "x": 0.05
          },
          "xaxis": {
           "automargin": true,
           "gridcolor": "white",
           "linecolor": "white",
           "ticks": "",
           "title": {
            "standoff": 15
           },
           "zerolinecolor": "white",
           "zerolinewidth": 2
          },
          "yaxis": {
           "automargin": true,
           "gridcolor": "white",
           "linecolor": "white",
           "ticks": "",
           "title": {
            "standoff": 15
           },
           "zerolinecolor": "white",
           "zerolinewidth": 2
          }
         }
        },
        "title": {
         "text": "Mean and Median Ratings Over Time",
         "x": 0.5
        },
        "width": 1000,
        "xaxis": {
         "anchor": "y",
         "domain": [
          0,
          0.2888888888888889
         ],
         "matches": "x4",
         "showticklabels": false,
         "title": {
          "text": "Year"
         }
        },
        "xaxis2": {
         "anchor": "y2",
         "domain": [
          0.35555555555555557,
          0.6444444444444445
         ],
         "matches": "x5",
         "showticklabels": false
        },
        "xaxis3": {
         "anchor": "y3",
         "domain": [
          0.7111111111111111,
          1
         ],
         "matches": "x6",
         "showticklabels": false
        },
        "xaxis4": {
         "anchor": "y4",
         "domain": [
          0,
          0.2888888888888889
         ]
        },
        "xaxis5": {
         "anchor": "y5",
         "domain": [
          0.35555555555555557,
          0.6444444444444445
         ]
        },
        "xaxis6": {
         "anchor": "y6",
         "domain": [
          0.7111111111111111,
          1
         ]
        },
        "yaxis": {
         "anchor": "x",
         "domain": [
          0.625,
          1
         ],
         "range": [
          12.25,
          14.25
         ],
         "title": {
          "text": "Rating"
         }
        },
        "yaxis2": {
         "anchor": "x2",
         "domain": [
          0.625,
          1
         ],
         "range": [
          5.5,
          7.5
         ]
        },
        "yaxis3": {
         "anchor": "x3",
         "domain": [
          0.625,
          1
         ],
         "range": [
          5.5,
          7.5
         ]
        },
        "yaxis4": {
         "anchor": "x4",
         "domain": [
          0,
          0.375
         ],
         "range": [
          2.75,
          4.75
         ]
        },
        "yaxis5": {
         "anchor": "x5",
         "domain": [
          0,
          0.375
         ],
         "range": [
          2.75,
          4.75
         ]
        },
        "yaxis6": {
         "anchor": "x6",
         "domain": [
          0,
          0.375
         ],
         "range": [
          2.74,
          4.75
         ]
        }
       }
      }
     },
     "metadata": {},
     "output_type": "display_data"
    }
   ],
   "source": [
    "# Plot the mean and median evolution of the different ratings over time\n",
    "global_analysis.plot_median_mean_ratings_evolution()"
   ]
  },
  {
   "cell_type": "markdown",
   "metadata": {},
   "source": [
    "We see that the ratings over time, with the increase of size of the platform popularity, tends to increase for most countries. <br><br>\n",
    "We see that in all European countries and in both US and Canada there is an increase in the average rating over time and we see that there is a significant increase of the ratings for overall, aroma and taste which, given the importance of them in the computation of the rating, leads to an increase of the ratings. <br><br>\n",
    "We can do other observations:\n",
    "- The overall, aroma and taste have not only an increase in the mean but they also tend to become more biased towards higher values (there is an increase of the median value over the years). This means that over the time people are preferring more and more the aroma and the taste of the beers.\n",
    "- The appearance and mouthfeel are quite stable both in terms of mean and median with just a slight increase in the mean value for both of them."
   ]
  },
  {
   "cell_type": "markdown",
   "metadata": {},
   "source": [
    "## ABV and style analysis\n",
    "#### ABV analysis\n",
    "As seen before, the ABV had a surprisingly high correlation with the overall rating. To see if there are some relation with the ABV and the rating we are going to study the ABV avolution over time and the relation between the ABV and the rating. In this section we are going to plot all the plots and then discuss about the results at the end of the section given the highly linked nature of the plots. <br><br>\n",
    "For the location we are going to use the user location rather than the beer location given that we want to see how the preferences of the users in terms of ABV have changed over time."
   ]
  },
  {
   "cell_type": "code",
   "execution_count": 29,
   "metadata": {},
   "outputs": [],
   "source": [
    "# Import all the code needed to plot ABV related content\n",
    "from src.processing import abv as abv\n",
    "abv_pres = abv.ABV(df_beers, df_breweries, df_users, df_ratings_no_text, save_folder=SAVING_FOLDER + '/abv')"
   ]
  },
  {
   "cell_type": "markdown",
   "metadata": {},
   "source": [
    "Here we have done the following:\n",
    "- We have grouped together all the ratings of a beer with an ABV included in a specific range (we have chosen a granularity of 0.10).\n",
    "- We have computed the average rating for all the beers in the same range.\n",
    "- We have counted the number of ratings for that specific range.\n",
    "\n",
    "The results is a 3D bubble plot where the x axis is the ABV, the y axis is the average rating for the range and the size of the bubble is the number of ratings for that range. <br>"
   ]
  },
  {
   "cell_type": "code",
   "execution_count": 30,
   "metadata": {},
   "outputs": [
    {
     "data": {
      "application/vnd.plotly.v1+json": {
       "config": {
        "plotlyServerURL": "https://plot.ly"
       },
       "data": [
        {
         "hovertemplate": "<b>%{hovertext}</b><br><br>year=2002<br>ABV:=%{x}<br>Rating:=%{y}<br>Number of ratings:=%{marker.size}<extra></extra>",
         "hovertext": [
          3.55,
          3.8499999999999996,
          3.95,
          4.05,
          4.15,
          4.25,
          4.35,
          4.45,
          4.55,
          4.65,
          4.75,
          4.85,
          4.95,
          5.05,
          5.15,
          5.25,
          5.35,
          5.45,
          5.55,
          5.65,
          5.75,
          5.85,
          5.95,
          6.05,
          6.15,
          6.25,
          6.35,
          6.45,
          6.55,
          6.75,
          6.85,
          6.95,
          7.05,
          7.25,
          7.55,
          8.05,
          8.25,
          8.55,
          9.05,
          9.55,
          10.05,
          11.05
         ],
         "legendgroup": "",
         "marker": {
          "color": "#636efa",
          "line": {
           "color": "DarkSlateGrey",
           "width": 1
          },
          "size": [
           575,
           279,
           254,
           1583,
           751,
           1693,
           1010,
           1043,
           3268,
           1631,
           2736,
           2849,
           3043,
           11060,
           1561,
           3331,
           1739,
           1547,
           3260,
           1682,
           712,
           1608,
           1276,
           2512,
           293,
           822,
           504,
           326,
           1983,
           473,
           381,
           391,
           1812,
           830,
           1116,
           2082,
           483,
           1307,
           1468,
           381,
           903,
           263
          ],
          "sizemode": "area",
          "sizeref": 149.165,
          "symbol": "circle"
         },
         "mode": "markers",
         "name": "",
         "orientation": "v",
         "showlegend": false,
         "type": "scatter",
         "x": [
          3.55,
          3.8499999999999996,
          3.95,
          4.05,
          4.15,
          4.25,
          4.35,
          4.45,
          4.55,
          4.65,
          4.75,
          4.85,
          4.95,
          5.05,
          5.15,
          5.25,
          5.35,
          5.45,
          5.55,
          5.65,
          5.75,
          5.85,
          5.95,
          6.05,
          6.15,
          6.25,
          6.35,
          6.45,
          6.55,
          6.75,
          6.85,
          6.95,
          7.05,
          7.25,
          7.55,
          8.05,
          8.25,
          8.55,
          9.05,
          9.55,
          10.05,
          11.05
         ],
         "xaxis": "x",
         "y": [
          2.6248695652173915,
          2.821863799283154,
          2.837007874015748,
          2.660012634238787,
          2.3826897470039947,
          2.554223272297696,
          2.707326732673267,
          2.942953020134228,
          2.6463586291309666,
          2.4217657878602084,
          2.790021929824561,
          2.883853983853984,
          2.8977653631284914,
          2.8805334538878844,
          3.1465727098014087,
          3.1041429000300216,
          3.1761932144910867,
          3.2994828700711047,
          3.153006134969325,
          3.1057074910820446,
          3.1382022471910114,
          3.395584577114428,
          2.8528996865203764,
          3.2780652866242037,
          3.2180887372013647,
          3.606082725060827,
          3.563492063492063,
          3.3871165644171772,
          3.474735249621785,
          3.690274841437632,
          3.421522309711286,
          2.904859335038363,
          3.5822847682119203,
          3.528674698795181,
          3.5187275985663082,
          3.657012487992315,
          3.6850931677018637,
          3.6381790359602144,
          3.8197547683923703,
          3.8475065616797903,
          3.8327796234772977,
          3.7235741444866917
         ],
         "yaxis": "y"
        }
       ],
       "frames": [
        {
         "data": [
          {
           "hovertemplate": "<b>%{hovertext}</b><br><br>year=2002<br>ABV:=%{x}<br>Rating:=%{y}<br>Number of ratings:=%{marker.size}<extra></extra>",
           "hovertext": [
            3.55,
            3.8499999999999996,
            3.95,
            4.05,
            4.15,
            4.25,
            4.35,
            4.45,
            4.55,
            4.65,
            4.75,
            4.85,
            4.95,
            5.05,
            5.15,
            5.25,
            5.35,
            5.45,
            5.55,
            5.65,
            5.75,
            5.85,
            5.95,
            6.05,
            6.15,
            6.25,
            6.35,
            6.45,
            6.55,
            6.75,
            6.85,
            6.95,
            7.05,
            7.25,
            7.55,
            8.05,
            8.25,
            8.55,
            9.05,
            9.55,
            10.05,
            11.05
           ],
           "legendgroup": "",
           "marker": {
            "color": "#636efa",
            "size": [
             575,
             279,
             254,
             1583,
             751,
             1693,
             1010,
             1043,
             3268,
             1631,
             2736,
             2849,
             3043,
             11060,
             1561,
             3331,
             1739,
             1547,
             3260,
             1682,
             712,
             1608,
             1276,
             2512,
             293,
             822,
             504,
             326,
             1983,
             473,
             381,
             391,
             1812,
             830,
             1116,
             2082,
             483,
             1307,
             1468,
             381,
             903,
             263
            ],
            "sizemode": "area",
            "sizeref": 149.165,
            "symbol": "circle"
           },
           "mode": "markers",
           "name": "",
           "orientation": "v",
           "showlegend": false,
           "type": "scatter",
           "x": [
            3.55,
            3.8499999999999996,
            3.95,
            4.05,
            4.15,
            4.25,
            4.35,
            4.45,
            4.55,
            4.65,
            4.75,
            4.85,
            4.95,
            5.05,
            5.15,
            5.25,
            5.35,
            5.45,
            5.55,
            5.65,
            5.75,
            5.85,
            5.95,
            6.05,
            6.15,
            6.25,
            6.35,
            6.45,
            6.55,
            6.75,
            6.85,
            6.95,
            7.05,
            7.25,
            7.55,
            8.05,
            8.25,
            8.55,
            9.05,
            9.55,
            10.05,
            11.05
           ],
           "xaxis": "x",
           "y": [
            2.6248695652173915,
            2.821863799283154,
            2.837007874015748,
            2.660012634238787,
            2.3826897470039947,
            2.554223272297696,
            2.707326732673267,
            2.942953020134228,
            2.6463586291309666,
            2.4217657878602084,
            2.790021929824561,
            2.883853983853984,
            2.8977653631284914,
            2.8805334538878844,
            3.1465727098014087,
            3.1041429000300216,
            3.1761932144910867,
            3.2994828700711047,
            3.153006134969325,
            3.1057074910820446,
            3.1382022471910114,
            3.395584577114428,
            2.8528996865203764,
            3.2780652866242037,
            3.2180887372013647,
            3.606082725060827,
            3.563492063492063,
            3.3871165644171772,
            3.474735249621785,
            3.690274841437632,
            3.421522309711286,
            2.904859335038363,
            3.5822847682119203,
            3.528674698795181,
            3.5187275985663082,
            3.657012487992315,
            3.6850931677018637,
            3.6381790359602144,
            3.8197547683923703,
            3.8475065616797903,
            3.8327796234772977,
            3.7235741444866917
           ],
           "yaxis": "y"
          }
         ],
         "name": "2002"
        },
        {
         "data": [
          {
           "hovertemplate": "<b>%{hovertext}</b><br><br>year=2003<br>ABV:=%{x}<br>Rating:=%{y}<br>Number of ratings:=%{marker.size}<extra></extra>",
           "hovertext": [
            2.55,
            3.55,
            3.6500000000000004,
            3.75,
            3.8499999999999996,
            3.95,
            4.05,
            4.15,
            4.25,
            4.35,
            4.45,
            4.55,
            4.65,
            4.75,
            4.85,
            4.95,
            5.05,
            5.15,
            5.25,
            5.35,
            5.45,
            5.55,
            5.65,
            5.75,
            5.85,
            5.95,
            6.05,
            6.15,
            6.25,
            6.35,
            6.45,
            6.55,
            6.65,
            6.75,
            6.85,
            6.95,
            7.05,
            7.25,
            7.35,
            7.55,
            7.65,
            7.75,
            7.95,
            8.05,
            8.25,
            8.45,
            8.55,
            9.05,
            9.25,
            9.55,
            10.05,
            10.25,
            10.55,
            11.05,
            11.55,
            12.05
           ],
           "legendgroup": "",
           "marker": {
            "color": "#636efa",
            "size": [
             282,
             712,
             347,
             327,
             515,
             339,
             2212,
             904,
             2158,
             1351,
             1434,
             4466,
             1970,
             3382,
             3635,
             3566,
             14707,
             2202,
             4869,
             2306,
             2353,
             5159,
             2301,
             1111,
             2319,
             1646,
             4239,
             433,
             1355,
             660,
             584,
             2992,
             335,
             667,
             701,
             519,
             2898,
             1198,
             369,
             1966,
             328,
             417,
             279,
             4125,
             742,
             300,
             2100,
             2544,
             278,
             857,
             1767,
             307,
             377,
             733,
             293,
             503
            ],
            "sizemode": "area",
            "sizeref": 149.165,
            "symbol": "circle"
           },
           "mode": "markers",
           "name": "",
           "orientation": "v",
           "showlegend": false,
           "type": "scatter",
           "x": [
            2.55,
            3.55,
            3.6500000000000004,
            3.75,
            3.8499999999999996,
            3.95,
            4.05,
            4.15,
            4.25,
            4.35,
            4.45,
            4.55,
            4.65,
            4.75,
            4.85,
            4.95,
            5.05,
            5.15,
            5.25,
            5.35,
            5.45,
            5.55,
            5.65,
            5.75,
            5.85,
            5.95,
            6.05,
            6.15,
            6.25,
            6.35,
            6.45,
            6.55,
            6.65,
            6.75,
            6.85,
            6.95,
            7.05,
            7.25,
            7.35,
            7.55,
            7.65,
            7.75,
            7.95,
            8.05,
            8.25,
            8.45,
            8.55,
            9.05,
            9.25,
            9.55,
            10.05,
            10.25,
            10.55,
            11.05,
            11.55,
            12.05
           ],
           "xaxis": "x",
           "y": [
            2.91063829787234,
            2.537078651685393,
            2.5997118155619594,
            2.4146788990825687,
            2.7955339805825243,
            2.774926253687316,
            2.698869801084991,
            2.4986725663716816,
            2.528869323447637,
            2.7424130273871206,
            2.8605299860529985,
            2.685423197492163,
            2.4693908629441625,
            2.701064458900059,
            2.851829436038514,
            2.8779304542905213,
            2.8600938328687016,
            3.0873751135331515,
            3.0456151160402545,
            3.1340416305290546,
            3.2538886527836803,
            3.1712928862182594,
            3.1084745762711865,
            3.1057605760576057,
            3.3566623544631304,
            3.041494532199271,
            3.274946921443737,
            3.1501154734411085,
            3.4830996309963096,
            3.412575757575758,
            3.349657534246575,
            3.4366644385026737,
            3.2889552238805977,
            3.594152923538231,
            3.3831669044222545,
            3.008092485549133,
            3.4573153899240854,
            3.511686143572621,
            3.1596205962059623,
            3.5019328585961342,
            3.5387195121951223,
            3.3316546762589927,
            3.556272401433692,
            3.6014060606060605,
            3.586792452830189,
            3.525,
            3.617142857142857,
            3.7231525157232706,
            3.8992805755395685,
            3.8158693115519253,
            3.7799660441426144,
            3.927687296416938,
            3.7777188328912463,
            3.745020463847203,
            3.8139931740614332,
            3.7809145129224655
           ],
           "yaxis": "y"
          }
         ],
         "name": "2003"
        },
        {
         "data": [
          {
           "hovertemplate": "<b>%{hovertext}</b><br><br>year=2004<br>ABV:=%{x}<br>Rating:=%{y}<br>Number of ratings:=%{marker.size}<extra></extra>",
           "hovertext": [
            2.55,
            3.45,
            3.55,
            3.6500000000000004,
            3.75,
            3.8499999999999996,
            3.95,
            4.05,
            4.15,
            4.25,
            4.35,
            4.45,
            4.55,
            4.65,
            4.75,
            4.85,
            4.95,
            5.05,
            5.15,
            5.25,
            5.35,
            5.45,
            5.55,
            5.65,
            5.75,
            5.85,
            5.95,
            6.05,
            6.15,
            6.25,
            6.35,
            6.45,
            6.55,
            6.65,
            6.75,
            6.85,
            6.95,
            7.05,
            7.15,
            7.25,
            7.35,
            7.45,
            7.55,
            7.65,
            7.75,
            7.85,
            7.95,
            8.05,
            8.149999999999999,
            8.25,
            8.45,
            8.55,
            8.75,
            8.850000000000001,
            9.05,
            9.25,
            9.55,
            9.75,
            10.05,
            10.25,
            10.55,
            11.05,
            11.55,
            12.05
           ],
           "legendgroup": "",
           "marker": {
            "color": "#636efa",
            "size": [
             345,
             327,
             1179,
             546,
             588,
             964,
             583,
             3463,
             1446,
             2936,
             1844,
             2006,
             6436,
             2700,
             4461,
             5176,
             4800,
             19681,
             2914,
             7167,
             2973,
             3202,
             7158,
             3202,
             1786,
             2983,
             2081,
             6397,
             898,
             2072,
             1183,
             813,
             4848,
             648,
             1098,
             1190,
             921,
             4883,
             413,
             1781,
             645,
             364,
             3369,
             395,
             632,
             276,
             455,
             6314,
             394,
             1077,
             443,
             2959,
             312,
             535,
             3810,
             451,
             1480,
             358,
             3024,
             459,
             719,
             1084,
             839,
             812
            ],
            "sizemode": "area",
            "sizeref": 149.165,
            "symbol": "circle"
           },
           "mode": "markers",
           "name": "",
           "orientation": "v",
           "showlegend": false,
           "type": "scatter",
           "x": [
            2.55,
            3.45,
            3.55,
            3.6500000000000004,
            3.75,
            3.8499999999999996,
            3.95,
            4.05,
            4.15,
            4.25,
            4.35,
            4.45,
            4.55,
            4.65,
            4.75,
            4.85,
            4.95,
            5.05,
            5.15,
            5.25,
            5.35,
            5.45,
            5.55,
            5.65,
            5.75,
            5.85,
            5.95,
            6.05,
            6.15,
            6.25,
            6.35,
            6.45,
            6.55,
            6.65,
            6.75,
            6.85,
            6.95,
            7.05,
            7.15,
            7.25,
            7.35,
            7.45,
            7.55,
            7.65,
            7.75,
            7.85,
            7.95,
            8.05,
            8.149999999999999,
            8.25,
            8.45,
            8.55,
            8.75,
            8.850000000000001,
            9.05,
            9.25,
            9.55,
            9.75,
            10.05,
            10.25,
            10.55,
            11.05,
            11.55,
            12.05
           ],
           "xaxis": "x",
           "y": [
            2.802608695652174,
            2.9159021406727827,
            2.5795589482612384,
            2.556593406593407,
            2.367857142857143,
            2.8844398340248967,
            2.822813036020583,
            2.6663586485706037,
            2.4680497925311204,
            2.5721049046321527,
            2.7835140997830803,
            2.8390827517447654,
            2.7170136730888745,
            2.484037037037037,
            2.6893297466935664,
            2.837925038639876,
            2.8250625,
            2.880305878766323,
            3.0752230610844205,
            3.020217664294684,
            3.119408005381769,
            3.184259837601499,
            3.1175887119307064,
            3.093816364772018,
            3.136842105263158,
            3.2928260140797856,
            2.9771744353676115,
            3.2652180709707674,
            3.2066815144766148,
            3.460472972972973,
            3.432375316990701,
            3.3809348093480933,
            3.3779084158415844,
            3.2922839506172843,
            3.569854280510018,
            3.3905042016806726,
            3.252117263843648,
            3.4712881425353266,
            3.5409200968523002,
            3.5880965749578886,
            3.2471317829457367,
            3.3997252747252746,
            3.442119323241318,
            3.447848101265823,
            3.4963607594936708,
            3.6771739130434784,
            3.563296703296704,
            3.6028349699081406,
            3.2654822335025377,
            3.6780872794800374,
            3.513092550790067,
            3.5945251774248055,
            3.6391025641025636,
            3.7553271028037383,
            3.711443569553806,
            3.892017738359202,
            3.8131756756756756,
            3.875977653631285,
            3.8062499999999995,
            3.9753812636165575,
            3.735048678720445,
            3.813191881918819,
            3.8013110846245532,
            3.8147783251231533
           ],
           "yaxis": "y"
          }
         ],
         "name": "2004"
        },
        {
         "data": [
          {
           "hovertemplate": "<b>%{hovertext}</b><br><br>year=2005<br>ABV:=%{x}<br>Rating:=%{y}<br>Number of ratings:=%{marker.size}<extra></extra>",
           "hovertext": [
            0.55,
            2.55,
            3.05,
            3.45,
            3.55,
            3.6500000000000004,
            3.75,
            3.8499999999999996,
            3.95,
            4.05,
            4.15,
            4.25,
            4.35,
            4.45,
            4.55,
            4.65,
            4.75,
            4.85,
            4.95,
            5.05,
            5.15,
            5.25,
            5.35,
            5.45,
            5.55,
            5.65,
            5.75,
            5.85,
            5.95,
            6.05,
            6.15,
            6.25,
            6.35,
            6.45,
            6.55,
            6.65,
            6.75,
            6.85,
            6.95,
            7.05,
            7.15,
            7.25,
            7.35,
            7.45,
            7.55,
            7.65,
            7.75,
            7.85,
            7.95,
            8.05,
            8.149999999999999,
            8.25,
            8.350000000000001,
            8.45,
            8.55,
            8.75,
            8.850000000000001,
            9.05,
            9.149999999999999,
            9.25,
            9.350000000000001,
            9.55,
            9.75,
            9.850000000000001,
            10.05,
            10.25,
            10.55,
            10.649999999999999,
            11.05,
            11.149999999999999,
            11.350000000000001,
            11.55,
            11.649999999999999,
            11.95,
            12.05,
            13.05
           ],
           "legendgroup": "",
           "marker": {
            "color": "#636efa",
            "size": [
             312,
             447,
             302,
             342,
             1570,
             562,
             548,
             1212,
             699,
             4033,
             1570,
             3699,
             2353,
             2263,
             7642,
             3327,
             5150,
             6620,
             5913,
             24348,
             3844,
             8953,
             4259,
             4101,
             9584,
             4062,
             2772,
             4065,
             2597,
             8632,
             1044,
             2828,
             1570,
             1055,
             6451,
             1077,
             1485,
             1537,
             1118,
             6215,
             613,
             2514,
             989,
             511,
             4634,
             516,
             914,
             612,
             698,
             8558,
             545,
             1361,
             405,
             624,
             4170,
             436,
             622,
             5474,
             368,
             1165,
             307,
             2365,
             398,
             251,
             4586,
             858,
             1004,
             346,
             1877,
             264,
             286,
             1253,
             268,
             310,
             965,
             475
            ],
            "sizemode": "area",
            "sizeref": 149.165,
            "symbol": "circle"
           },
           "mode": "markers",
           "name": "",
           "orientation": "v",
           "showlegend": false,
           "type": "scatter",
           "x": [
            0.55,
            2.55,
            3.05,
            3.45,
            3.55,
            3.6500000000000004,
            3.75,
            3.8499999999999996,
            3.95,
            4.05,
            4.15,
            4.25,
            4.35,
            4.45,
            4.55,
            4.65,
            4.75,
            4.85,
            4.95,
            5.05,
            5.15,
            5.25,
            5.35,
            5.45,
            5.55,
            5.65,
            5.75,
            5.85,
            5.95,
            6.05,
            6.15,
            6.25,
            6.35,
            6.45,
            6.55,
            6.65,
            6.75,
            6.85,
            6.95,
            7.05,
            7.15,
            7.25,
            7.35,
            7.45,
            7.55,
            7.65,
            7.75,
            7.85,
            7.95,
            8.05,
            8.149999999999999,
            8.25,
            8.350000000000001,
            8.45,
            8.55,
            8.75,
            8.850000000000001,
            9.05,
            9.149999999999999,
            9.25,
            9.350000000000001,
            9.55,
            9.75,
            9.850000000000001,
            10.05,
            10.25,
            10.55,
            10.649999999999999,
            11.05,
            11.149999999999999,
            11.350000000000001,
            11.55,
            11.649999999999999,
            11.95,
            12.05,
            13.05
           ],
           "xaxis": "x",
           "y": [
            1.5560897435897436,
            2.5369127516778525,
            2.4586092715231787,
            2.9005847953216377,
            2.4608917197452227,
            2.6245551601423487,
            2.548175182481752,
            2.882673267326733,
            2.7616595135908444,
            2.7131415819489213,
            2.5735031847133754,
            2.6554203838875376,
            2.6243093922651934,
            2.8649580203269993,
            2.708793509552473,
            2.5588217613465587,
            2.6952815533980585,
            2.810151057401812,
            2.8020970742431928,
            2.856620666995236,
            3.0127731529656607,
            2.989254998324584,
            3.0559051420521244,
            3.1395025603511337,
            3.080738731218698,
            3.0590841949778436,
            3.171861471861472,
            3.267380073800738,
            2.9853292260300344,
            3.2304101019462466,
            3.2201149425287356,
            3.372029702970297,
            3.332929936305733,
            3.275260663507109,
            3.3593861416834603,
            3.145032497678737,
            3.521414141414141,
            3.351659076122316,
            3.1658318425760292,
            3.381287208366854,
            3.397063621533442,
            3.4952267303102627,
            3.2906976744186047,
            3.398238747553816,
            3.413810962451446,
            3.38062015503876,
            3.5212253829321662,
            3.5764705882352943,
            3.4292263610315183,
            3.540488431876607,
            3.0207339449541286,
            3.5404849375459224,
            3.6217283950617287,
            3.5041666666666664,
            3.549976019184652,
            3.547935779816514,
            3.7257234726688098,
            3.6328644501278777,
            3.4967391304347823,
            3.8240343347639487,
            3.430293159609121,
            3.862832980972516,
            3.9027638190954774,
            3.6649402390438244,
            3.7098124727431308,
            3.8545454545454545,
            3.6786852589641432,
            3.564161849710983,
            3.785508790623335,
            3.6613636363636366,
            4.2860139860139865,
            3.7827613727055067,
            3.7279850746268663,
            3.773870967741935,
            3.7865284974093263,
            3.594736842105263
           ],
           "yaxis": "y"
          }
         ],
         "name": "2005"
        },
        {
         "data": [
          {
           "hovertemplate": "<b>%{hovertext}</b><br><br>year=2006<br>ABV:=%{x}<br>Rating:=%{y}<br>Number of ratings:=%{marker.size}<extra></extra>",
           "hovertext": [
            0.55,
            2.55,
            2.8499999999999996,
            3.05,
            3.25,
            3.3499999999999996,
            3.45,
            3.55,
            3.6500000000000004,
            3.75,
            3.8499999999999996,
            3.95,
            4.05,
            4.15,
            4.25,
            4.35,
            4.45,
            4.55,
            4.65,
            4.75,
            4.85,
            4.95,
            5.05,
            5.15,
            5.25,
            5.35,
            5.45,
            5.55,
            5.65,
            5.75,
            5.85,
            5.95,
            6.05,
            6.15,
            6.25,
            6.35,
            6.45,
            6.55,
            6.65,
            6.75,
            6.85,
            6.95,
            7.05,
            7.15,
            7.25,
            7.35,
            7.45,
            7.55,
            7.65,
            7.75,
            7.85,
            7.95,
            8.05,
            8.149999999999999,
            8.25,
            8.350000000000001,
            8.45,
            8.55,
            8.649999999999999,
            8.75,
            8.850000000000001,
            9.05,
            9.149999999999999,
            9.25,
            9.350000000000001,
            9.45,
            9.55,
            9.649999999999999,
            9.75,
            9.850000000000001,
            9.95,
            10.05,
            10.25,
            10.55,
            10.649999999999999,
            11.05,
            11.350000000000001,
            11.55,
            11.75,
            11.95,
            12.05,
            13.05,
            14.05
           ],
           "legendgroup": "",
           "marker": {
            "color": "#636efa",
            "size": [
             309,
             511,
             254,
             334,
             322,
             309,
             382,
             1800,
             815,
             789,
             1555,
             795,
             4564,
             1941,
             4530,
             2925,
             2470,
             9687,
             3979,
             6639,
             7550,
             7005,
             26966,
             4671,
             10129,
             5265,
             4633,
             11128,
             4452,
             3264,
             4405,
             2732,
             10437,
             1359,
             3986,
             1674,
             1184,
             8346,
             1185,
             1768,
             2013,
             1169,
             7929,
             819,
             3061,
             1542,
             944,
             6063,
             724,
             1079,
             684,
             654,
             9813,
             767,
             1640,
             469,
             756,
             5395,
             324,
             598,
             680,
             7232,
             399,
             1739,
             350,
             685,
             3317,
             278,
             757,
             303,
             259,
             6381,
             744,
             1104,
             439,
             1862,
             462,
             990,
             358,
             331,
             1247,
             435,
             257
            ],
            "sizemode": "area",
            "sizeref": 149.165,
            "symbol": "circle"
           },
           "mode": "markers",
           "name": "",
           "orientation": "v",
           "showlegend": false,
           "type": "scatter",
           "x": [
            0.55,
            2.55,
            2.8499999999999996,
            3.05,
            3.25,
            3.3499999999999996,
            3.45,
            3.55,
            3.6500000000000004,
            3.75,
            3.8499999999999996,
            3.95,
            4.05,
            4.15,
            4.25,
            4.35,
            4.45,
            4.55,
            4.65,
            4.75,
            4.85,
            4.95,
            5.05,
            5.15,
            5.25,
            5.35,
            5.45,
            5.55,
            5.65,
            5.75,
            5.85,
            5.95,
            6.05,
            6.15,
            6.25,
            6.35,
            6.45,
            6.55,
            6.65,
            6.75,
            6.85,
            6.95,
            7.05,
            7.15,
            7.25,
            7.35,
            7.45,
            7.55,
            7.65,
            7.75,
            7.85,
            7.95,
            8.05,
            8.149999999999999,
            8.25,
            8.350000000000001,
            8.45,
            8.55,
            8.649999999999999,
            8.75,
            8.850000000000001,
            9.05,
            9.149999999999999,
            9.25,
            9.350000000000001,
            9.45,
            9.55,
            9.649999999999999,
            9.75,
            9.850000000000001,
            9.95,
            10.05,
            10.25,
            10.55,
            10.649999999999999,
            11.05,
            11.350000000000001,
            11.55,
            11.75,
            11.95,
            12.05,
            13.05,
            14.05
           ],
           "xaxis": "x",
           "y": [
            1.6540453074433659,
            2.4857142857142858,
            2.2472440944881886,
            2.5461077844311375,
            2.477329192546584,
            2.309385113268608,
            2.968062827225131,
            2.529166666666667,
            2.637791411042945,
            2.7129277566539924,
            2.9473954983922828,
            2.912201257861635,
            2.714811568799299,
            2.597372488408037,
            2.7172185430463576,
            2.7696410256410253,
            2.851902834008097,
            2.7562712914214926,
            2.5740387031917566,
            2.714595571622232,
            2.8222781456953645,
            2.84790863668808,
            2.874434473040125,
            3.0445300792121603,
            2.980471912330931,
            3.019506172839506,
            3.1193395208288366,
            3.086790079079799,
            3.0581985624438457,
            3.131985294117647,
            3.224699205448354,
            3.039019033674963,
            3.2400977292325375,
            3.3178807947019866,
            3.4035122930255897,
            3.311290322580645,
            3.260810810810811,
            3.3578360891445005,
            3.258059071729958,
            3.5441742081447964,
            3.3042722305017387,
            3.2160821214713433,
            3.4233068482784716,
            3.4268620268620267,
            3.509702711532179,
            3.4353437094682224,
            3.491737288135593,
            3.4240639947220846,
            3.348480662983426,
            3.509545875810936,
            3.5172514619883044,
            3.464373088685015,
            3.5067971058799547,
            3.2345501955671443,
            3.584817073170732,
            3.6886993603411513,
            3.4698412698412695,
            3.548563484708063,
            3.316358024691358,
            3.585785953177258,
            3.696029411764706,
            3.680544800884956,
            3.6220551378446117,
            3.8426106958021853,
            3.4685714285714284,
            3.701751824817518,
            3.7863732288212235,
            3.4381294964028775,
            3.7466314398943195,
            3.609240924092409,
            3.6679536679536677,
            3.7076947186961298,
            3.8369623655913982,
            3.658423913043478,
            3.6867881548974943,
            3.8208378088077337,
            4.168614718614719,
            3.8274747474747475,
            3.7287709497206705,
            3.7368580060422962,
            3.815396952686447,
            3.6386206896551725,
            3.519455252918288
           ],
           "yaxis": "y"
          }
         ],
         "name": "2006"
        },
        {
         "data": [
          {
           "hovertemplate": "<b>%{hovertext}</b><br><br>year=2007<br>ABV:=%{x}<br>Rating:=%{y}<br>Number of ratings:=%{marker.size}<extra></extra>",
           "hovertext": [
            0.55,
            2.55,
            2.8499999999999996,
            3.05,
            3.25,
            3.3499999999999996,
            3.45,
            3.55,
            3.6500000000000004,
            3.75,
            3.8499999999999996,
            3.95,
            4.05,
            4.15,
            4.25,
            4.35,
            4.45,
            4.55,
            4.65,
            4.75,
            4.85,
            4.95,
            5.05,
            5.15,
            5.25,
            5.35,
            5.45,
            5.55,
            5.65,
            5.75,
            5.85,
            5.95,
            6.05,
            6.15,
            6.25,
            6.35,
            6.45,
            6.55,
            6.65,
            6.75,
            6.85,
            6.95,
            7.05,
            7.15,
            7.25,
            7.35,
            7.45,
            7.55,
            7.65,
            7.75,
            7.85,
            7.95,
            8.05,
            8.149999999999999,
            8.25,
            8.350000000000001,
            8.45,
            8.55,
            8.649999999999999,
            8.75,
            8.850000000000001,
            9.05,
            9.149999999999999,
            9.25,
            9.350000000000001,
            9.45,
            9.55,
            9.649999999999999,
            9.75,
            9.850000000000001,
            9.95,
            10.05,
            10.25,
            10.55,
            10.649999999999999,
            10.850000000000001,
            11.05,
            11.149999999999999,
            11.350000000000001,
            11.55,
            11.75,
            11.850000000000001,
            11.95,
            12.05,
            13.05,
            14.05
           ],
           "legendgroup": "",
           "marker": {
            "color": "#636efa",
            "size": [
             399,
             695,
             385,
             478,
             384,
             402,
             446,
             2600,
             1041,
             935,
             2085,
             999,
             5654,
             2346,
             6078,
             3527,
             2952,
             12768,
             5722,
             8723,
             9892,
             9560,
             33047,
             6432,
             13241,
             6802,
             6525,
             13783,
             5464,
             4465,
             5856,
             3440,
             14154,
             1966,
             5089,
             2354,
             1897,
             12902,
             1852,
             2501,
             2822,
             1505,
             11352,
             975,
             4367,
             1998,
             1262,
             9394,
             1018,
             1408,
             1843,
             892,
             14303,
             1094,
             2714,
             755,
             1046,
             8120,
             801,
             636,
             875,
             10807,
             577,
             2226,
             458,
             925,
             4578,
             564,
             1119,
             354,
             391,
             10344,
             1245,
             1996,
             441,
             292,
             3276,
             253,
             399,
             1568,
             446,
             286,
             475,
             1714,
             605,
             376
            ],
            "sizemode": "area",
            "sizeref": 149.165,
            "symbol": "circle"
           },
           "mode": "markers",
           "name": "",
           "orientation": "v",
           "showlegend": false,
           "type": "scatter",
           "x": [
            0.55,
            2.55,
            2.8499999999999996,
            3.05,
            3.25,
            3.3499999999999996,
            3.45,
            3.55,
            3.6500000000000004,
            3.75,
            3.8499999999999996,
            3.95,
            4.05,
            4.15,
            4.25,
            4.35,
            4.45,
            4.55,
            4.65,
            4.75,
            4.85,
            4.95,
            5.05,
            5.15,
            5.25,
            5.35,
            5.45,
            5.55,
            5.65,
            5.75,
            5.85,
            5.95,
            6.05,
            6.15,
            6.25,
            6.35,
            6.45,
            6.55,
            6.65,
            6.75,
            6.85,
            6.95,
            7.05,
            7.15,
            7.25,
            7.35,
            7.45,
            7.55,
            7.65,
            7.75,
            7.85,
            7.95,
            8.05,
            8.149999999999999,
            8.25,
            8.350000000000001,
            8.45,
            8.55,
            8.649999999999999,
            8.75,
            8.850000000000001,
            9.05,
            9.149999999999999,
            9.25,
            9.350000000000001,
            9.45,
            9.55,
            9.649999999999999,
            9.75,
            9.850000000000001,
            9.95,
            10.05,
            10.25,
            10.55,
            10.649999999999999,
            10.850000000000001,
            11.05,
            11.149999999999999,
            11.350000000000001,
            11.55,
            11.75,
            11.850000000000001,
            11.95,
            12.05,
            13.05,
            14.05
           ],
           "xaxis": "x",
           "y": [
            1.7568922305764412,
            2.444172661870504,
            2.0127272727272727,
            2.521548117154812,
            2.6322916666666667,
            2.4375621890547263,
            2.980717488789238,
            2.509153846153846,
            2.6724303554274735,
            2.676470588235294,
            2.9307434052757797,
            2.8878878878878878,
            2.7728157056950833,
            2.558098891730605,
            2.5638696939782823,
            2.782931669974483,
            2.845054200542005,
            2.789097744360902,
            2.527158336246068,
            2.699942680270549,
            2.8565406389001216,
            2.862416317991632,
            2.893379126698339,
            3.071315298507463,
            2.9865720111774037,
            3.0513672449279627,
            3.1018084291187744,
            3.0854748603351956,
            3.0674048316251827,
            3.108824188129899,
            3.207513661202186,
            3.0328779069767444,
            3.238328387734916,
            3.3319938962360123,
            3.3618982118294354,
            3.293288020390824,
            3.270321560358461,
            3.3472949930243376,
            3.368844492440605,
            3.4980807676929233,
            3.36516654854713,
            3.242259136212625,
            3.4087473572938687,
            3.3403076923076926,
            3.5057476528509275,
            3.3752252252252255,
            3.4156893819334386,
            3.4747391952309985,
            3.442239685658153,
            3.5065340909090916,
            3.544818231144873,
            3.421412556053811,
            3.5117318045165353,
            3.236380255941499,
            3.6568901989683122,
            3.5229139072847677,
            3.475717017208413,
            3.5535098522167488,
            3.461423220973783,
            3.5610062893081764,
            3.7229714285714284,
            3.674192652910151,
            3.5474870017331024,
            3.8075022461814916,
            3.4827510917030566,
            3.8387027027027028,
            3.75174748798602,
            3.7125886524822698,
            3.770866845397676,
            3.497457627118644,
            3.804859335038363,
            3.7569895591647327,
            3.785381526104417,
            3.589228456913828,
            3.6043083900226756,
            3.5695205479452055,
            3.7964590964590967,
            3.6395256916996046,
            4.264160401002506,
            3.7908801020408167,
            3.8042600896860983,
            3.6360139860139857,
            3.6429473684210527,
            3.791015169194866,
            3.719338842975206,
            3.637234042553191
           ],
           "yaxis": "y"
          }
         ],
         "name": "2007"
        },
        {
         "data": [
          {
           "hovertemplate": "<b>%{hovertext}</b><br><br>year=2008<br>ABV:=%{x}<br>Rating:=%{y}<br>Number of ratings:=%{marker.size}<extra></extra>",
           "hovertext": [
            0.55,
            2.55,
            2.8499999999999996,
            3.05,
            3.25,
            3.3499999999999996,
            3.45,
            3.55,
            3.6500000000000004,
            3.75,
            3.8499999999999996,
            3.95,
            4.05,
            4.15,
            4.25,
            4.35,
            4.45,
            4.55,
            4.65,
            4.75,
            4.85,
            4.95,
            5.05,
            5.15,
            5.25,
            5.35,
            5.45,
            5.55,
            5.65,
            5.75,
            5.85,
            5.95,
            6.05,
            6.15,
            6.25,
            6.35,
            6.45,
            6.55,
            6.65,
            6.75,
            6.85,
            6.95,
            7.05,
            7.15,
            7.25,
            7.35,
            7.45,
            7.55,
            7.65,
            7.75,
            7.85,
            7.95,
            8.05,
            8.149999999999999,
            8.25,
            8.350000000000001,
            8.45,
            8.55,
            8.649999999999999,
            8.75,
            8.850000000000001,
            8.95,
            9.05,
            9.149999999999999,
            9.25,
            9.350000000000001,
            9.45,
            9.55,
            9.649999999999999,
            9.75,
            9.850000000000001,
            9.95,
            10.05,
            10.149999999999999,
            10.25,
            10.45,
            10.55,
            10.649999999999999,
            10.850000000000001,
            11.05,
            11.149999999999999,
            11.350000000000001,
            11.55,
            11.649999999999999,
            11.75,
            11.95,
            12.05,
            12.55,
            13.05,
            13.649999999999999,
            13.95,
            14.05
           ],
           "legendgroup": "",
           "marker": {
            "color": "#636efa",
            "size": [
             564,
             973,
             354,
             599,
             368,
             316,
             407,
             2462,
             918,
             945,
             2143,
             1212,
             6658,
             2516,
             7018,
             3769,
             3363,
             14097,
             5706,
             9329,
             10696,
             9723,
             35697,
             6904,
             14307,
             7603,
             7087,
             15463,
             5892,
             4330,
             6351,
             3964,
             15690,
             2341,
             5862,
             2605,
             2162,
             14184,
             2345,
             2673,
             3304,
             1584,
             13519,
             1369,
             5039,
             2173,
             1227,
             10323,
             1087,
             1782,
             1726,
             1194,
             17314,
             1193,
             3037,
             1013,
             1190,
             9324,
             881,
             1146,
             1114,
             269,
             11627,
             673,
             2753,
             437,
             896,
             5980,
             883,
             1029,
             445,
             360,
             12913,
             444,
             1560,
             292,
             2973,
             655,
             759,
             4351,
             275,
             384,
             1751,
             296,
             294,
             421,
             2068,
             510,
             895,
             287,
             271,
             476
            ],
            "sizemode": "area",
            "sizeref": 149.165,
            "symbol": "circle"
           },
           "mode": "markers",
           "name": "",
           "orientation": "v",
           "showlegend": false,
           "type": "scatter",
           "x": [
            0.55,
            2.55,
            2.8499999999999996,
            3.05,
            3.25,
            3.3499999999999996,
            3.45,
            3.55,
            3.6500000000000004,
            3.75,
            3.8499999999999996,
            3.95,
            4.05,
            4.15,
            4.25,
            4.35,
            4.45,
            4.55,
            4.65,
            4.75,
            4.85,
            4.95,
            5.05,
            5.15,
            5.25,
            5.35,
            5.45,
            5.55,
            5.65,
            5.75,
            5.85,
            5.95,
            6.05,
            6.15,
            6.25,
            6.35,
            6.45,
            6.55,
            6.65,
            6.75,
            6.85,
            6.95,
            7.05,
            7.15,
            7.25,
            7.35,
            7.45,
            7.55,
            7.65,
            7.75,
            7.85,
            7.95,
            8.05,
            8.149999999999999,
            8.25,
            8.350000000000001,
            8.45,
            8.55,
            8.649999999999999,
            8.75,
            8.850000000000001,
            8.95,
            9.05,
            9.149999999999999,
            9.25,
            9.350000000000001,
            9.45,
            9.55,
            9.649999999999999,
            9.75,
            9.850000000000001,
            9.95,
            10.05,
            10.149999999999999,
            10.25,
            10.45,
            10.55,
            10.649999999999999,
            10.850000000000001,
            11.05,
            11.149999999999999,
            11.350000000000001,
            11.55,
            11.649999999999999,
            11.75,
            11.95,
            12.05,
            12.55,
            13.05,
            13.649999999999999,
            13.95,
            14.05
           ],
           "xaxis": "x",
           "y": [
            1.750531914893617,
            2.457245632065776,
            2.2918079096045196,
            2.4023372287145244,
            2.6880434782608695,
            2.2946202531645565,
            2.980835380835381,
            2.6264825345247766,
            2.675599128540305,
            2.6712169312169314,
            2.9075594960335978,
            2.876237623762376,
            2.7940222288975667,
            2.6333863275039744,
            2.5893701909375886,
            2.8144866012204828,
            2.8942016057091884,
            2.796311271901823,
            2.6042762004907116,
            2.719573373351913,
            2.8611350037397156,
            2.847968733929857,
            2.9315040479592125,
            3.077013325608343,
            2.9956035507094434,
            3.0354728396685515,
            3.099209820798645,
            3.111110392549958,
            3.0423285811269514,
            3.105565819861432,
            3.244449692961738,
            3.054843592330979,
            3.2683683875079668,
            3.374967962409227,
            3.381269191402252,
            3.3347792706333967,
            3.3063367252543943,
            3.3582346305696555,
            3.3341577825159914,
            3.488290310512533,
            3.3784200968523,
            3.2691919191919188,
            3.42307123307937,
            3.3524470416362306,
            3.4598333002579875,
            3.3899217671421993,
            3.4004074979625094,
            3.458636055410249,
            3.4035878564857405,
            3.5529741863075195,
            3.4761297798377746,
            3.43752093802345,
            3.534440337299295,
            3.262531433361274,
            3.5793875535067494,
            3.5125370187561695,
            3.5305042016806722,
            3.5285178035178038,
            3.4316685584563,
            3.6514834205933684,
            3.691113105924596,
            3.523420074349443,
            3.647252085662682,
            3.5225854383358097,
            3.7719578641482023,
            3.4528604118993136,
            3.79453125,
            3.755183946488294,
            3.6530011325028315,
            3.707385811467444,
            3.5638202247191013,
            3.719722222222222,
            3.759234879578719,
            3.6290540540540546,
            3.710833333333333,
            3.7839041095890416,
            3.6334678775647493,
            3.7395419847328237,
            3.605928853754941,
            3.81753619857504,
            3.6919999999999997,
            4.235416666666667,
            3.743175328383781,
            3.581081081081081,
            3.7554421768707478,
            3.672209026128266,
            3.781044487427466,
            4.108823529411764,
            3.8706145251396644,
            3.773519163763066,
            4.206642066420664,
            3.5621848739495796
           ],
           "yaxis": "y"
          }
         ],
         "name": "2008"
        },
        {
         "data": [
          {
           "hovertemplate": "<b>%{hovertext}</b><br><br>year=2009<br>ABV:=%{x}<br>Rating:=%{y}<br>Number of ratings:=%{marker.size}<extra></extra>",
           "hovertext": [
            0.55,
            2.55,
            2.8499999999999996,
            2.95,
            3.05,
            3.1500000000000004,
            3.25,
            3.3499999999999996,
            3.45,
            3.55,
            3.6500000000000004,
            3.75,
            3.8499999999999996,
            3.95,
            4.05,
            4.15,
            4.25,
            4.35,
            4.45,
            4.55,
            4.65,
            4.75,
            4.85,
            4.95,
            5.05,
            5.15,
            5.25,
            5.35,
            5.45,
            5.55,
            5.65,
            5.75,
            5.85,
            5.95,
            6.05,
            6.15,
            6.25,
            6.35,
            6.45,
            6.55,
            6.65,
            6.75,
            6.85,
            6.95,
            7.05,
            7.15,
            7.25,
            7.35,
            7.45,
            7.55,
            7.65,
            7.75,
            7.85,
            7.95,
            8.05,
            8.149999999999999,
            8.25,
            8.350000000000001,
            8.45,
            8.55,
            8.649999999999999,
            8.75,
            8.850000000000001,
            9.05,
            9.149999999999999,
            9.25,
            9.350000000000001,
            9.45,
            9.55,
            9.649999999999999,
            9.75,
            9.850000000000001,
            9.95,
            10.05,
            10.149999999999999,
            10.25,
            10.45,
            10.55,
            10.649999999999999,
            10.75,
            10.850000000000001,
            10.95,
            11.05,
            11.149999999999999,
            11.350000000000001,
            11.55,
            11.75,
            11.850000000000001,
            11.95,
            12.05,
            12.149999999999999,
            12.55,
            13.05,
            13.55,
            13.95,
            14.05,
            16.05
           ],
           "legendgroup": "",
           "marker": {
            "color": "#636efa",
            "size": [
             537,
             889,
             488,
             317,
             650,
             293,
             369,
             338,
             385,
             2450,
             959,
             973,
             2371,
             1399,
             6646,
             2665,
             6456,
             3677,
             3110,
             13705,
             5308,
             9130,
             11155,
             8909,
             34799,
             7120,
             13335,
             7096,
             6757,
             15374,
             5620,
             4732,
             6348,
             4252,
             15744,
             2411,
             6621,
             2963,
             2125,
             13803,
             2227,
             2868,
             4108,
             1767,
             13282,
             1575,
             4556,
             2289,
             1337,
             10515,
             903,
             1920,
             1781,
             1076,
             16995,
             1310,
             3036,
             1226,
             1100,
             10481,
             1269,
             1369,
             1152,
             11557,
             685,
             2582,
             690,
             1261,
             6159,
             999,
             1161,
             502,
             303,
             12286,
             400,
             1611,
             359,
             2826,
             635,
             281,
             742,
             1088,
             6542,
             308,
             480,
             1530,
             482,
             527,
             383,
             2600,
             305,
             715,
             1003,
             449,
             360,
             454,
             330
            ],
            "sizemode": "area",
            "sizeref": 149.165,
            "symbol": "circle"
           },
           "mode": "markers",
           "name": "",
           "orientation": "v",
           "showlegend": false,
           "type": "scatter",
           "x": [
            0.55,
            2.55,
            2.8499999999999996,
            2.95,
            3.05,
            3.1500000000000004,
            3.25,
            3.3499999999999996,
            3.45,
            3.55,
            3.6500000000000004,
            3.75,
            3.8499999999999996,
            3.95,
            4.05,
            4.15,
            4.25,
            4.35,
            4.45,
            4.55,
            4.65,
            4.75,
            4.85,
            4.95,
            5.05,
            5.15,
            5.25,
            5.35,
            5.45,
            5.55,
            5.65,
            5.75,
            5.85,
            5.95,
            6.05,
            6.15,
            6.25,
            6.35,
            6.45,
            6.55,
            6.65,
            6.75,
            6.85,
            6.95,
            7.05,
            7.15,
            7.25,
            7.35,
            7.45,
            7.55,
            7.65,
            7.75,
            7.85,
            7.95,
            8.05,
            8.149999999999999,
            8.25,
            8.350000000000001,
            8.45,
            8.55,
            8.649999999999999,
            8.75,
            8.850000000000001,
            9.05,
            9.149999999999999,
            9.25,
            9.350000000000001,
            9.45,
            9.55,
            9.649999999999999,
            9.75,
            9.850000000000001,
            9.95,
            10.05,
            10.149999999999999,
            10.25,
            10.45,
            10.55,
            10.649999999999999,
            10.75,
            10.850000000000001,
            10.95,
            11.05,
            11.149999999999999,
            11.350000000000001,
            11.55,
            11.75,
            11.850000000000001,
            11.95,
            12.05,
            12.149999999999999,
            12.55,
            13.05,
            13.55,
            13.95,
            14.05,
            16.05
           ],
           "xaxis": "x",
           "y": [
            1.7439478584729982,
            2.240044994375703,
            2.2131147540983607,
            2.07981072555205,
            2.2455384615384615,
            3.0259385665529015,
            2.845257452574526,
            2.478698224852071,
            2.947792207792208,
            2.608530612244898,
            2.735662148070907,
            2.7435765673175747,
            2.9648249683677776,
            2.9090064331665477,
            2.827399939813422,
            2.6891181988742963,
            2.685811648079306,
            2.846641283655153,
            2.9029581993569127,
            2.8389784750091205,
            2.683082140165787,
            2.7619167579408543,
            2.898906320035858,
            2.857829161522056,
            2.9508405413948675,
            3.074297752808989,
            2.9932433445819266,
            3.0531567080045092,
            3.116072221400029,
            3.120983478600234,
            3.072384341637011,
            3.1996618765849534,
            3.250551354757404,
            3.1744590780809028,
            3.252070630081301,
            3.347324761509747,
            3.3690983235160847,
            3.369929125885926,
            3.338541176470588,
            3.37733101499674,
            3.3369555455770095,
            3.411436541143654,
            3.361222005842259,
            3.32524052065648,
            3.4237163077849724,
            3.3839365079365082,
            3.465496049165935,
            3.424464831804281,
            3.4334330590875095,
            3.485991440798859,
            3.4387596899224806,
            3.521614583333333,
            3.4783829309376753,
            3.350185873605948,
            3.5532509561635774,
            3.396564885496183,
            3.575955204216074,
            3.5125611745513865,
            3.5369090909090914,
            3.5533727697738766,
            3.5376674546887314,
            3.604894083272461,
            3.6793402777777775,
            3.6276455827636926,
            3.521897810218978,
            3.7357087529047246,
            3.522463768115942,
            3.858049167327518,
            3.76398766033447,
            3.6618618618618615,
            3.733161068044789,
            3.6264940239043826,
            3.7396039603960394,
            3.755290574637799,
            3.6242499999999995,
            3.7502793296089383,
            3.7590529247910864,
            3.715145081387119,
            3.6609448818897636,
            3.7975088967971526,
            3.5636118598382747,
            3.998805147058824,
            3.7803271170895747,
            3.668181818181819,
            4.152083333333333,
            3.7598692810457512,
            3.8292531120331947,
            3.5831119544592034,
            3.7430809399477805,
            3.7795384615384613,
            3.9740983606557374,
            3.975104895104895,
            3.872382851445663,
            3.862138084632517,
            4.228055555555556,
            3.513215859030837,
            3.8415151515151518
           ],
           "yaxis": "y"
          }
         ],
         "name": "2009"
        },
        {
         "data": [
          {
           "hovertemplate": "<b>%{hovertext}</b><br><br>year=2010<br>ABV:=%{x}<br>Rating:=%{y}<br>Number of ratings:=%{marker.size}<extra></extra>",
           "hovertext": [
            0.55,
            2.55,
            2.8499999999999996,
            3.05,
            3.1500000000000004,
            3.25,
            3.3499999999999996,
            3.45,
            3.55,
            3.6500000000000004,
            3.75,
            3.8499999999999996,
            3.95,
            4.05,
            4.15,
            4.25,
            4.35,
            4.45,
            4.55,
            4.65,
            4.75,
            4.85,
            4.95,
            5.05,
            5.15,
            5.25,
            5.35,
            5.45,
            5.55,
            5.65,
            5.75,
            5.85,
            5.95,
            6.05,
            6.15,
            6.25,
            6.35,
            6.45,
            6.55,
            6.65,
            6.75,
            6.85,
            6.95,
            7.05,
            7.15,
            7.25,
            7.35,
            7.45,
            7.55,
            7.65,
            7.75,
            7.85,
            7.95,
            8.05,
            8.149999999999999,
            8.25,
            8.350000000000001,
            8.45,
            8.55,
            8.649999999999999,
            8.75,
            8.850000000000001,
            8.95,
            9.05,
            9.149999999999999,
            9.25,
            9.350000000000001,
            9.45,
            9.55,
            9.649999999999999,
            9.75,
            9.850000000000001,
            9.95,
            10.05,
            10.149999999999999,
            10.25,
            10.45,
            10.55,
            10.649999999999999,
            10.75,
            10.850000000000001,
            10.95,
            11.05,
            11.149999999999999,
            11.350000000000001,
            11.55,
            11.649999999999999,
            11.75,
            11.850000000000001,
            11.95,
            12.05,
            12.149999999999999,
            12.55,
            13.05,
            13.55,
            13.95,
            14.05,
            16.05
           ],
           "legendgroup": "",
           "marker": {
            "color": "#636efa",
            "size": [
             460,
             830,
             418,
             545,
             276,
             307,
             261,
             346,
             2201,
             992,
             930,
             2258,
             1419,
             6413,
             2249,
             5776,
             3239,
             2883,
             12689,
             5186,
             8878,
             10346,
             8133,
             32468,
             6258,
             12676,
             6589,
             6512,
             15588,
             5770,
             4472,
             6213,
             4227,
             15846,
             2180,
             6175,
             2805,
             2287,
             14265,
             2553,
             2832,
             4706,
             1965,
             14168,
             1770,
             4592,
             2365,
             1473,
             11547,
             1077,
             2190,
             2228,
             1021,
             16237,
             1278,
             4150,
             1920,
             1162,
             10265,
             1246,
             1380,
             1331,
             400,
             11753,
             851,
             2277,
             876,
             1184,
             5828,
             951,
             1219,
             424,
             316,
             11210,
             432,
             1364,
             516,
             2918,
             542,
             293,
             934,
             785,
             5391,
             374,
             506,
             1415,
             276,
             497,
             453,
             360,
             2730,
             327,
             762,
             1269,
             329,
             268,
             593,
             297
            ],
            "sizemode": "area",
            "sizeref": 149.165,
            "symbol": "circle"
           },
           "mode": "markers",
           "name": "",
           "orientation": "v",
           "showlegend": false,
           "type": "scatter",
           "x": [
            0.55,
            2.55,
            2.8499999999999996,
            3.05,
            3.1500000000000004,
            3.25,
            3.3499999999999996,
            3.45,
            3.55,
            3.6500000000000004,
            3.75,
            3.8499999999999996,
            3.95,
            4.05,
            4.15,
            4.25,
            4.35,
            4.45,
            4.55,
            4.65,
            4.75,
            4.85,
            4.95,
            5.05,
            5.15,
            5.25,
            5.35,
            5.45,
            5.55,
            5.65,
            5.75,
            5.85,
            5.95,
            6.05,
            6.15,
            6.25,
            6.35,
            6.45,
            6.55,
            6.65,
            6.75,
            6.85,
            6.95,
            7.05,
            7.15,
            7.25,
            7.35,
            7.45,
            7.55,
            7.65,
            7.75,
            7.85,
            7.95,
            8.05,
            8.149999999999999,
            8.25,
            8.350000000000001,
            8.45,
            8.55,
            8.649999999999999,
            8.75,
            8.850000000000001,
            8.95,
            9.05,
            9.149999999999999,
            9.25,
            9.350000000000001,
            9.45,
            9.55,
            9.649999999999999,
            9.75,
            9.850000000000001,
            9.95,
            10.05,
            10.149999999999999,
            10.25,
            10.45,
            10.55,
            10.649999999999999,
            10.75,
            10.850000000000001,
            10.95,
            11.05,
            11.149999999999999,
            11.350000000000001,
            11.55,
            11.649999999999999,
            11.75,
            11.850000000000001,
            11.95,
            12.05,
            12.149999999999999,
            12.55,
            13.05,
            13.55,
            13.95,
            14.05,
            16.05
           ],
           "xaxis": "x",
           "y": [
            1.8239130434782609,
            2.2681927710843373,
            2.452153110047847,
            2.3508256880733946,
            3.1152173913043475,
            2.893485342019544,
            2.4272030651340994,
            3.032658959537572,
            2.765515674693321,
            2.7307459677419352,
            2.8931182795698924,
            3.0261293179805135,
            3.0196617336152216,
            2.8845782005301728,
            2.7662516674077366,
            2.8218836565096956,
            2.971410929299166,
            2.961949358307319,
            2.868043187012373,
            2.7030852294639414,
            2.8232034241946384,
            2.898298859462594,
            2.9035288331488998,
            3.0126709375384992,
            3.102492809204219,
            3.056587251498896,
            3.092183942935195,
            3.1223587223587224,
            3.166743648960739,
            3.1275563258232237,
            3.2028846153846153,
            3.261065507806213,
            3.244594274899456,
            3.293809163195759,
            3.381651376146789,
            3.376874493927126,
            3.3693048128342244,
            3.3362483602973327,
            3.395141955835962,
            3.403055229142185,
            3.485416666666666,
            3.4092860178495537,
            3.361119592875318,
            3.4438311688311685,
            3.464519774011299,
            3.4770688153310108,
            3.4827906976744183,
            3.476917854718262,
            3.511015848272278,
            3.4851439182915507,
            3.58648401826484,
            3.516068222621185,
            3.318707149853085,
            3.556944016751863,
            3.356651017214397,
            3.6084578313253015,
            3.599114583333333,
            3.5806368330464715,
            3.5673940574768634,
            3.5604333868378815,
            3.581376811594202,
            3.646581517655898,
            3.5920000000000005,
            3.607632093933464,
            3.570152761457109,
            3.7159420289855074,
            3.582876712328767,
            3.8224662162162155,
            3.766523678792039,
            3.647844374342797,
            3.7216570959803117,
            3.6408018867924525,
            3.6750000000000007,
            3.729384478144514,
            3.6245370370370376,
            3.7340175953079178,
            3.6728682170542633,
            3.6858464701850586,
            3.6208487084870846,
            3.7583617747440266,
            3.6649892933618844,
            3.891082802547771,
            3.7674086440363572,
            3.7048128342245987,
            4.036758893280632,
            3.735689045936396,
            3.492028985507247,
            3.9653923541247487,
            3.646136865342163,
            3.730833333333333,
            3.7339926739926743,
            3.978593272171254,
            3.8851706036745406,
            3.8950354609929074,
            3.9534954407294833,
            4.2343283582089555,
            3.7952782462057333,
            3.616498316498316
           ],
           "yaxis": "y"
          }
         ],
         "name": "2010"
        },
        {
         "data": [
          {
           "hovertemplate": "<b>%{hovertext}</b><br><br>year=2011<br>ABV:=%{x}<br>Rating:=%{y}<br>Number of ratings:=%{marker.size}<extra></extra>",
           "hovertext": [
            0.55,
            2.05,
            2.45,
            2.55,
            2.6500000000000004,
            2.75,
            2.8499999999999996,
            2.95,
            3.05,
            3.25,
            3.3499999999999996,
            3.45,
            3.55,
            3.6500000000000004,
            3.75,
            3.8499999999999996,
            3.95,
            4.05,
            4.15,
            4.25,
            4.35,
            4.45,
            4.55,
            4.65,
            4.75,
            4.85,
            4.95,
            5.05,
            5.15,
            5.25,
            5.35,
            5.45,
            5.55,
            5.65,
            5.75,
            5.85,
            5.95,
            6.05,
            6.15,
            6.25,
            6.35,
            6.45,
            6.55,
            6.65,
            6.75,
            6.85,
            6.95,
            7.05,
            7.15,
            7.25,
            7.35,
            7.45,
            7.55,
            7.65,
            7.75,
            7.85,
            7.95,
            8.05,
            8.149999999999999,
            8.25,
            8.350000000000001,
            8.45,
            8.55,
            8.649999999999999,
            8.75,
            8.850000000000001,
            8.95,
            9.05,
            9.149999999999999,
            9.25,
            9.350000000000001,
            9.45,
            9.55,
            9.649999999999999,
            9.75,
            9.850000000000001,
            9.95,
            10.05,
            10.149999999999999,
            10.25,
            10.350000000000001,
            10.45,
            10.55,
            10.649999999999999,
            10.75,
            10.850000000000001,
            10.95,
            11.05,
            11.149999999999999,
            11.25,
            11.350000000000001,
            11.55,
            11.649999999999999,
            11.75,
            11.850000000000001,
            11.95,
            12.05,
            12.149999999999999,
            12.55,
            13.05,
            13.55,
            14.05
           ],
           "legendgroup": "",
           "marker": {
            "color": "#636efa",
            "size": [
             609,
             361,
             278,
             1029,
             270,
             267,
             585,
             300,
             765,
             529,
             291,
             386,
             2580,
             1179,
             1211,
             3343,
             1735,
             7923,
             2721,
             6914,
             4050,
             3370,
             15600,
             6018,
             10022,
             11975,
             9508,
             37124,
             6734,
             14679,
             7885,
             7381,
             17537,
             6497,
             5031,
             7180,
             4343,
             18905,
             2653,
             7259,
             3253,
             3005,
             16821,
             3475,
             3462,
             5732,
             2467,
             17015,
             1917,
             5879,
             2867,
             2330,
             12573,
             1438,
             2137,
             2498,
             1284,
             19079,
             1232,
             3689,
             1448,
             1239,
             11336,
             1274,
             1368,
             1416,
             1145,
             12878,
             977,
             2460,
             961,
             1305,
             6571,
             788,
             1421,
             333,
             274,
             13844,
             351,
             1253,
             446,
             842,
             3119,
             514,
             317,
             877,
             624,
             5485,
             412,
             295,
             542,
             1537,
             258,
             364,
             388,
             364,
             2484,
             321,
             1089,
             1593,
             302,
             726
            ],
            "sizemode": "area",
            "sizeref": 149.165,
            "symbol": "circle"
           },
           "mode": "markers",
           "name": "",
           "orientation": "v",
           "showlegend": false,
           "type": "scatter",
           "x": [
            0.55,
            2.05,
            2.45,
            2.55,
            2.6500000000000004,
            2.75,
            2.8499999999999996,
            2.95,
            3.05,
            3.25,
            3.3499999999999996,
            3.45,
            3.55,
            3.6500000000000004,
            3.75,
            3.8499999999999996,
            3.95,
            4.05,
            4.15,
            4.25,
            4.35,
            4.45,
            4.55,
            4.65,
            4.75,
            4.85,
            4.95,
            5.05,
            5.15,
            5.25,
            5.35,
            5.45,
            5.55,
            5.65,
            5.75,
            5.85,
            5.95,
            6.05,
            6.15,
            6.25,
            6.35,
            6.45,
            6.55,
            6.65,
            6.75,
            6.85,
            6.95,
            7.05,
            7.15,
            7.25,
            7.35,
            7.45,
            7.55,
            7.65,
            7.75,
            7.85,
            7.95,
            8.05,
            8.149999999999999,
            8.25,
            8.350000000000001,
            8.45,
            8.55,
            8.649999999999999,
            8.75,
            8.850000000000001,
            8.95,
            9.05,
            9.149999999999999,
            9.25,
            9.350000000000001,
            9.45,
            9.55,
            9.649999999999999,
            9.75,
            9.850000000000001,
            9.95,
            10.05,
            10.149999999999999,
            10.25,
            10.350000000000001,
            10.45,
            10.55,
            10.649999999999999,
            10.75,
            10.850000000000001,
            10.95,
            11.05,
            11.149999999999999,
            11.25,
            11.350000000000001,
            11.55,
            11.649999999999999,
            11.75,
            11.850000000000001,
            11.95,
            12.05,
            12.149999999999999,
            12.55,
            13.05,
            13.55,
            14.05
           ],
           "xaxis": "x",
           "y": [
            1.8494252873563217,
            2.2980609418282545,
            1.844604316546763,
            2.2472303206997086,
            1.9566666666666666,
            2.2808988764044944,
            2.344957264957265,
            2.069,
            2.593464052287582,
            2.829678638941399,
            2.4604810996563575,
            2.921243523316062,
            2.763488372093023,
            2.7256997455470735,
            2.9412881915772084,
            3.033263535746336,
            3.0163112391930835,
            2.8902688375615297,
            2.891326718118339,
            2.8606161411628586,
            2.9727407407407407,
            3.0032047477744803,
            2.8941282051282053,
            2.7602691924227316,
            2.831879864298543,
            2.8957912317327765,
            2.8824463609591926,
            3.0100932011636674,
            3.064553014553014,
            3.0516383949860346,
            3.1056943563728594,
            3.1199701937406856,
            3.1699549523863833,
            3.1393258426966293,
            3.2002782746968794,
            3.240974930362117,
            3.2274694911351594,
            3.325755091245702,
            3.3107048624199016,
            3.3927262708362034,
            3.3171841377190283,
            3.4164725457570717,
            3.3824683431425004,
            3.3951942446043164,
            3.4727614095898325,
            3.4058269364968594,
            3.3413457640859345,
            3.4343109021451657,
            3.460198226395409,
            3.461319952372853,
            3.4906522497384027,
            3.494463519313305,
            3.4893820090670484,
            3.4395688456189153,
            3.502526906878802,
            3.512209767814251,
            3.385436137071651,
            3.5468578017715813,
            3.4211038961038964,
            3.5901870425589593,
            3.507665745856354,
            3.5721549636803873,
            3.54484827099506,
            3.5547095761381473,
            3.539327485380116,
            3.6352401129943503,
            3.6407860262008733,
            3.607904954185433,
            3.581985670419652,
            3.694186991869919,
            3.632882414151925,
            3.764291187739463,
            3.7527316998934714,
            3.746319796954315,
            3.7534130893736806,
            3.5648648648648646,
            3.683941605839416,
            3.7050852354810746,
            3.6270655270655268,
            3.690901835594573,
            3.63542600896861,
            3.7624703087885987,
            3.6750561077268356,
            3.622762645914397,
            3.7665615141955837,
            3.6198403648802735,
            3.92900641025641,
            3.7183956244302645,
            3.6473300970873788,
            3.498983050847457,
            4.104612546125461,
            3.669095640858816,
            3.514341085271318,
            3.85,
            3.634020618556701,
            3.67032967032967,
            3.739814814814815,
            3.9819314641744548,
            3.8907254361799817,
            3.8910232266164475,
            3.9327814569536423,
            3.7541322314049586
           ],
           "yaxis": "y"
          }
         ],
         "name": "2011"
        },
        {
         "data": [
          {
           "hovertemplate": "<b>%{hovertext}</b><br><br>year=2012<br>ABV:=%{x}<br>Rating:=%{y}<br>Number of ratings:=%{marker.size}<extra></extra>",
           "hovertext": [
            0.45,
            0.55,
            2.05,
            2.55,
            2.6500000000000004,
            2.75,
            2.8499999999999996,
            2.95,
            3.05,
            3.25,
            3.3499999999999996,
            3.45,
            3.55,
            3.6500000000000004,
            3.75,
            3.8499999999999996,
            3.95,
            4.05,
            4.15,
            4.25,
            4.35,
            4.45,
            4.55,
            4.65,
            4.75,
            4.85,
            4.95,
            5.05,
            5.15,
            5.25,
            5.35,
            5.45,
            5.55,
            5.65,
            5.75,
            5.85,
            5.95,
            6.05,
            6.15,
            6.25,
            6.35,
            6.45,
            6.55,
            6.65,
            6.75,
            6.85,
            6.95,
            7.05,
            7.15,
            7.25,
            7.35,
            7.45,
            7.55,
            7.65,
            7.75,
            7.85,
            7.95,
            8.05,
            8.149999999999999,
            8.25,
            8.350000000000001,
            8.45,
            8.55,
            8.649999999999999,
            8.75,
            8.850000000000001,
            8.95,
            9.05,
            9.149999999999999,
            9.25,
            9.350000000000001,
            9.45,
            9.55,
            9.649999999999999,
            9.75,
            9.850000000000001,
            9.95,
            10.05,
            10.149999999999999,
            10.25,
            10.350000000000001,
            10.45,
            10.55,
            10.649999999999999,
            10.75,
            10.850000000000001,
            10.95,
            11.05,
            11.149999999999999,
            11.25,
            11.350000000000001,
            11.55,
            11.75,
            11.850000000000001,
            11.95,
            12.05,
            12.149999999999999,
            12.55,
            12.75,
            13.05,
            13.45,
            13.55,
            13.95,
            14.05,
            15.05,
            16.05
           ],
           "legendgroup": "",
           "marker": {
            "color": "#636efa",
            "size": [
             286,
             707,
             658,
             1311,
             327,
             431,
             780,
             602,
             903,
             622,
             388,
             448,
             3077,
             1365,
             1203,
             3522,
             1899,
             10344,
             3452,
             8590,
             4649,
             4396,
             19947,
             7193,
             12457,
             14935,
             11603,
             44474,
             7846,
             18701,
             9523,
             9200,
             23414,
             8834,
             6634,
             9305,
             5711,
             26443,
             3202,
             8280,
             4060,
             3903,
             21852,
             4251,
             4157,
             7323,
             3161,
             23121,
             2655,
             7143,
             4337,
             2847,
             15822,
             1905,
             2599,
             2745,
             1392,
             22509,
             1678,
             3899,
             2300,
             1789,
             13573,
             1321,
             1783,
             2193,
             1257,
             15826,
             1403,
             3105,
             1084,
             1482,
             7600,
             1094,
             1304,
             836,
             277,
             16925,
             741,
             1501,
             692,
             834,
             4119,
             451,
             330,
             928,
             1093,
             6336,
             467,
             531,
             707,
             2039,
             325,
             396,
             416,
             3953,
             367,
             1320,
             362,
             1368,
             354,
             370,
             257,
             1027,
             343,
             305
            ],
            "sizemode": "area",
            "sizeref": 149.165,
            "symbol": "circle"
           },
           "mode": "markers",
           "name": "",
           "orientation": "v",
           "showlegend": false,
           "type": "scatter",
           "x": [
            0.45,
            0.55,
            2.05,
            2.55,
            2.6500000000000004,
            2.75,
            2.8499999999999996,
            2.95,
            3.05,
            3.25,
            3.3499999999999996,
            3.45,
            3.55,
            3.6500000000000004,
            3.75,
            3.8499999999999996,
            3.95,
            4.05,
            4.15,
            4.25,
            4.35,
            4.45,
            4.55,
            4.65,
            4.75,
            4.85,
            4.95,
            5.05,
            5.15,
            5.25,
            5.35,
            5.45,
            5.55,
            5.65,
            5.75,
            5.85,
            5.95,
            6.05,
            6.15,
            6.25,
            6.35,
            6.45,
            6.55,
            6.65,
            6.75,
            6.85,
            6.95,
            7.05,
            7.15,
            7.25,
            7.35,
            7.45,
            7.55,
            7.65,
            7.75,
            7.85,
            7.95,
            8.05,
            8.149999999999999,
            8.25,
            8.350000000000001,
            8.45,
            8.55,
            8.649999999999999,
            8.75,
            8.850000000000001,
            8.95,
            9.05,
            9.149999999999999,
            9.25,
            9.350000000000001,
            9.45,
            9.55,
            9.649999999999999,
            9.75,
            9.850000000000001,
            9.95,
            10.05,
            10.149999999999999,
            10.25,
            10.350000000000001,
            10.45,
            10.55,
            10.649999999999999,
            10.75,
            10.850000000000001,
            10.95,
            11.05,
            11.149999999999999,
            11.25,
            11.350000000000001,
            11.55,
            11.75,
            11.850000000000001,
            11.95,
            12.05,
            12.149999999999999,
            12.55,
            12.75,
            13.05,
            13.45,
            13.55,
            13.95,
            14.05,
            15.05,
            16.05
           ],
           "xaxis": "x",
           "y": [
            1.8835664335664337,
            1.91004243281471,
            2.221428571428571,
            2.345766590389016,
            2.035474006116208,
            2.6508120649651974,
            2.485384615384616,
            2.592358803986711,
            2.7729789590254708,
            2.859485530546624,
            2.665721649484536,
            3.095982142857143,
            2.8206694832629187,
            2.834358974358974,
            2.947464671654198,
            3.0850653038046567,
            3.060979462875197,
            2.9221771075019336,
            2.944351100811124,
            2.851653084982538,
            3.017960851796085,
            3.040445859872612,
            2.9367173008472456,
            2.8177116641178928,
            2.8652083166091353,
            2.918393036491463,
            2.92362320089632,
            3.018244367495616,
            3.1160463930665308,
            3.080396770226191,
            3.1088522524414572,
            3.146815217391304,
            3.2143290339113353,
            3.164398913289563,
            3.2252185709978893,
            3.298183772165502,
            3.2458063386447207,
            3.354441629164618,
            3.33210493441599,
            3.4061714975845407,
            3.351871921182266,
            3.42449397899052,
            3.39780340472268,
            3.4046106798400375,
            3.4937454895357227,
            3.4318448723200876,
            3.343846883897501,
            3.466126032611046,
            3.478229755178908,
            3.490788184236315,
            3.5345630620244406,
            3.5054443273621354,
            3.4819934268739727,
            3.4530708661417324,
            3.520200076952674,
            3.5323861566484522,
            3.401724137931035,
            3.5352925496468077,
            3.447139451728248,
            3.5606565786099,
            3.667347826086957,
            3.572666294019005,
            3.5404700508362192,
            3.5944738834216503,
            3.5963544587773413,
            3.6664842681258554,
            3.669371519490851,
            3.615297611525338,
            3.6051318602993585,
            3.7043478260869565,
            3.5785977859778595,
            3.8033738191632933,
            3.7403684210526316,
            3.746800731261426,
            3.7490797546012264,
            3.6407894736842104,
            3.6050541516245485,
            3.7269187592319057,
            3.7265856950067477,
            3.77128580946036,
            3.6521676300578036,
            3.748561151079137,
            3.7032046613255645,
            3.5509977827050996,
            3.68969696969697,
            3.679525862068965,
            3.92195791399817,
            3.76166351010101,
            3.719700214132762,
            3.736346516007533,
            4.054738330975955,
            3.7483570377636095,
            3.8332307692307683,
            3.6941919191919195,
            3.742067307692307,
            3.743410068302555,
            4.051771117166212,
            3.894318181818182,
            3.9392265193370166,
            3.901169590643275,
            4.173163841807909,
            3.901891891891892,
            4.274708171206226,
            3.8261927945472247,
            3.6364431486880466,
            3.4373770491803284
           ],
           "yaxis": "y"
          }
         ],
         "name": "2012"
        },
        {
         "data": [
          {
           "hovertemplate": "<b>%{hovertext}</b><br><br>year=2013<br>ABV:=%{x}<br>Rating:=%{y}<br>Number of ratings:=%{marker.size}<extra></extra>",
           "hovertext": [
            0.55,
            2.05,
            2.55,
            2.6500000000000004,
            2.75,
            2.8499999999999996,
            2.95,
            3.05,
            3.1500000000000004,
            3.25,
            3.3499999999999996,
            3.45,
            3.55,
            3.6500000000000004,
            3.75,
            3.8499999999999996,
            3.95,
            4.05,
            4.15,
            4.25,
            4.35,
            4.45,
            4.55,
            4.65,
            4.75,
            4.85,
            4.95,
            5.05,
            5.15,
            5.25,
            5.35,
            5.45,
            5.55,
            5.65,
            5.75,
            5.85,
            5.95,
            6.05,
            6.15,
            6.25,
            6.35,
            6.45,
            6.55,
            6.65,
            6.75,
            6.85,
            6.95,
            7.05,
            7.15,
            7.25,
            7.35,
            7.45,
            7.55,
            7.65,
            7.75,
            7.85,
            7.95,
            8.05,
            8.149999999999999,
            8.25,
            8.350000000000001,
            8.45,
            8.55,
            8.649999999999999,
            8.75,
            8.850000000000001,
            8.95,
            9.05,
            9.149999999999999,
            9.25,
            9.350000000000001,
            9.45,
            9.55,
            9.649999999999999,
            9.75,
            9.850000000000001,
            9.95,
            10.05,
            10.149999999999999,
            10.25,
            10.350000000000001,
            10.45,
            10.55,
            10.649999999999999,
            10.75,
            10.850000000000001,
            10.95,
            11.05,
            11.149999999999999,
            11.25,
            11.350000000000001,
            11.45,
            11.55,
            11.649999999999999,
            11.75,
            11.850000000000001,
            11.95,
            12.05,
            12.149999999999999,
            12.25,
            12.55,
            12.75,
            13.05,
            13.25,
            13.45,
            13.55,
            13.95,
            14.05,
            15.05,
            16.05
           ],
           "legendgroup": "",
           "marker": {
            "color": "#636efa",
            "size": [
             635,
             807,
             1264,
             287,
             505,
             729,
             417,
             1216,
             254,
             672,
             337,
             607,
             3610,
             1449,
             1510,
             4277,
             2085,
             11732,
             3967,
             9990,
             5381,
             5582,
             23654,
             8157,
             13869,
             16307,
             11516,
             51154,
             8841,
             20643,
             11692,
             10430,
             28643,
             10827,
             8038,
             11138,
             6872,
             33381,
             3760,
             11304,
             5337,
             4885,
             27897,
             5851,
             5725,
             8343,
             4399,
             28254,
             3217,
             8599,
             5452,
             4134,
             19582,
             2445,
             3072,
             2916,
             1710,
             27388,
             2311,
             5131,
             2929,
             2170,
             17657,
             1818,
             2165,
             2775,
             1113,
             19097,
             1833,
             3470,
             1917,
             1556,
             9343,
             1599,
             1999,
             1005,
             752,
             20349,
             1174,
             2264,
             607,
             824,
             5873,
             537,
             394,
             895,
             852,
             7812,
             583,
             857,
             939,
             315,
             2894,
             265,
             342,
             452,
             508,
             5525,
             898,
             394,
             1495,
             373,
             2664,
             262,
             259,
             443,
             581,
             1174,
             429,
             673
            ],
            "sizemode": "area",
            "sizeref": 149.165,
            "symbol": "circle"
           },
           "mode": "markers",
           "name": "",
           "orientation": "v",
           "showlegend": false,
           "type": "scatter",
           "x": [
            0.55,
            2.05,
            2.55,
            2.6500000000000004,
            2.75,
            2.8499999999999996,
            2.95,
            3.05,
            3.1500000000000004,
            3.25,
            3.3499999999999996,
            3.45,
            3.55,
            3.6500000000000004,
            3.75,
            3.8499999999999996,
            3.95,
            4.05,
            4.15,
            4.25,
            4.35,
            4.45,
            4.55,
            4.65,
            4.75,
            4.85,
            4.95,
            5.05,
            5.15,
            5.25,
            5.35,
            5.45,
            5.55,
            5.65,
            5.75,
            5.85,
            5.95,
            6.05,
            6.15,
            6.25,
            6.35,
            6.45,
            6.55,
            6.65,
            6.75,
            6.85,
            6.95,
            7.05,
            7.15,
            7.25,
            7.35,
            7.45,
            7.55,
            7.65,
            7.75,
            7.85,
            7.95,
            8.05,
            8.149999999999999,
            8.25,
            8.350000000000001,
            8.45,
            8.55,
            8.649999999999999,
            8.75,
            8.850000000000001,
            8.95,
            9.05,
            9.149999999999999,
            9.25,
            9.350000000000001,
            9.45,
            9.55,
            9.649999999999999,
            9.75,
            9.850000000000001,
            9.95,
            10.05,
            10.149999999999999,
            10.25,
            10.350000000000001,
            10.45,
            10.55,
            10.649999999999999,
            10.75,
            10.850000000000001,
            10.95,
            11.05,
            11.149999999999999,
            11.25,
            11.350000000000001,
            11.45,
            11.55,
            11.649999999999999,
            11.75,
            11.850000000000001,
            11.95,
            12.05,
            12.149999999999999,
            12.25,
            12.55,
            12.75,
            13.05,
            13.25,
            13.45,
            13.55,
            13.95,
            14.05,
            15.05,
            16.05
           ],
           "xaxis": "x",
           "y": [
            1.9173228346456692,
            2.2660470879801733,
            2.5386075949367086,
            2.297560975609756,
            2.8162376237623765,
            2.7606310013717423,
            2.9203836930455638,
            3.0175164473684206,
            3.0645669291338584,
            3.0555059523809525,
            2.7246290801186945,
            3.0769357495881384,
            2.9127146814404434,
            2.9133885438233262,
            3.023443708609271,
            3.115571662380173,
            3.0811510791366907,
            3.0026338220252304,
            2.9973027476682628,
            2.9399199199199204,
            3.0440996097379673,
            3.0549444643496955,
            2.9821002790225757,
            2.872918965305872,
            2.9009012906482083,
            2.9556018887594284,
            2.970501910385551,
            3.0451225710599363,
            3.1522791539418615,
            3.1037785205638717,
            3.1478788915497775,
            3.198360498561841,
            3.2465209649827185,
            3.1739262953726795,
            3.244501119681513,
            3.3247351409588797,
            3.256228172293364,
            3.3593541236032474,
            3.3713297872340426,
            3.4314667374380754,
            3.358665917181937,
            3.4554964176049126,
            3.4188443201777967,
            3.4491710818663472,
            3.4956157205240177,
            3.457844899916098,
            3.404637417594908,
            3.482183053726906,
            3.4410631022691955,
            3.497929991859518,
            3.5682685253118125,
            3.4961054668601843,
            3.503028291287918,
            3.4800408997955015,
            3.5661783854166664,
            3.5183813443072705,
            3.45812865497076,
            3.547725281145027,
            3.506836867157075,
            3.5819723250828295,
            3.583441447593035,
            3.5547926267281102,
            3.557971342810217,
            3.6105610561056105,
            3.6127944572748265,
            3.6422342342342344,
            3.605840071877808,
            3.6074933235586744,
            3.595253682487725,
            3.688184438040346,
            3.5688575899843507,
            3.7562982005141388,
            3.7549288237182923,
            3.7639149468417763,
            3.7186593296648325,
            3.6408955223880595,
            3.5760638297872336,
            3.7035235146690253,
            3.6878194207836454,
            3.7557420494699647,
            3.6107084019769355,
            3.7230582524271845,
            3.6964413417333564,
            3.5221601489757917,
            3.575888324873097,
            3.6804469273743017,
            3.895892018779343,
            3.777611367127496,
            3.6761578044596908,
            3.7775962660443407,
            4.027369542066028,
            3.731428571428571,
            3.739737387698687,
            3.5916981132075474,
            3.775730994152047,
            3.684070796460177,
            3.716929133858268,
            3.77862443438914,
            4.080178173719377,
            3.896446700507614,
            3.827157190635451,
            4.013404825737266,
            3.8925675675675673,
            3.9393129770992363,
            4.196911196911197,
            3.8961625282167045,
            4.266781411359725,
            3.794889267461669,
            3.553146853146853,
            3.7332838038632987
           ],
           "yaxis": "y"
          }
         ],
         "name": "2013"
        },
        {
         "data": [
          {
           "hovertemplate": "<b>%{hovertext}</b><br><br>year=2014<br>ABV:=%{x}<br>Rating:=%{y}<br>Number of ratings:=%{marker.size}<extra></extra>",
           "hovertext": [
            0.45,
            0.55,
            2.05,
            2.25,
            2.55,
            2.6500000000000004,
            2.75,
            2.8499999999999996,
            2.95,
            3.05,
            3.1500000000000004,
            3.25,
            3.3499999999999996,
            3.45,
            3.55,
            3.6500000000000004,
            3.75,
            3.8499999999999996,
            3.95,
            4.05,
            4.15,
            4.25,
            4.35,
            4.45,
            4.55,
            4.65,
            4.75,
            4.85,
            4.95,
            5.05,
            5.15,
            5.25,
            5.35,
            5.45,
            5.55,
            5.65,
            5.75,
            5.85,
            5.95,
            6.05,
            6.15,
            6.25,
            6.35,
            6.45,
            6.55,
            6.65,
            6.75,
            6.85,
            6.95,
            7.05,
            7.15,
            7.25,
            7.35,
            7.45,
            7.55,
            7.65,
            7.75,
            7.85,
            7.95,
            8.05,
            8.149999999999999,
            8.25,
            8.350000000000001,
            8.45,
            8.55,
            8.649999999999999,
            8.75,
            8.850000000000001,
            8.95,
            9.05,
            9.149999999999999,
            9.25,
            9.350000000000001,
            9.45,
            9.55,
            9.649999999999999,
            9.75,
            9.850000000000001,
            9.95,
            10.05,
            10.149999999999999,
            10.25,
            10.350000000000001,
            10.45,
            10.55,
            10.649999999999999,
            10.75,
            10.850000000000001,
            10.95,
            11.05,
            11.149999999999999,
            11.25,
            11.350000000000001,
            11.45,
            11.55,
            11.649999999999999,
            11.75,
            11.850000000000001,
            11.95,
            12.05,
            12.149999999999999,
            12.25,
            12.55,
            12.75,
            13.05,
            13.45,
            13.55,
            13.95,
            14.05,
            15.05,
            16.05
           ],
           "legendgroup": "",
           "marker": {
            "color": "#636efa",
            "size": [
             295,
             997,
             1042,
             257,
             1487,
             494,
             655,
             848,
             501,
             1455,
             283,
             715,
             619,
             863,
             4668,
             2025,
             1998,
             5157,
             2472,
             14384,
             4652,
             12520,
             6991,
             6393,
             28403,
             10009,
             17935,
             19530,
             13755,
             59625,
             9466,
             22992,
             12385,
             12988,
             33399,
             12536,
             8844,
             12753,
             7509,
             41051,
             5074,
             13185,
             6373,
             6213,
             34026,
             6300,
             6744,
             10295,
             5884,
             31600,
             3815,
             9582,
             4946,
             4437,
             20588,
             2694,
             3375,
             3177,
             1822,
             29209,
             2875,
             5564,
             3000,
             2784,
             17751,
             2015,
             2413,
             3206,
             1177,
             21141,
             2369,
             3513,
             1946,
             2050,
             9629,
             1673,
             1556,
             1338,
             989,
             20282,
             1316,
             2071,
             884,
             789,
             6081,
             555,
             589,
             822,
             909,
             8695,
             650,
             824,
             865,
             344,
             3604,
             385,
             407,
             568,
             527,
             5761,
             797,
             424,
             1157,
             454,
             3354,
             290,
             615,
             500,
             1351,
             714,
             554
            ],
            "sizemode": "area",
            "sizeref": 149.165,
            "symbol": "circle"
           },
           "mode": "markers",
           "name": "",
           "orientation": "v",
           "showlegend": false,
           "type": "scatter",
           "x": [
            0.45,
            0.55,
            2.05,
            2.25,
            2.55,
            2.6500000000000004,
            2.75,
            2.8499999999999996,
            2.95,
            3.05,
            3.1500000000000004,
            3.25,
            3.3499999999999996,
            3.45,
            3.55,
            3.6500000000000004,
            3.75,
            3.8499999999999996,
            3.95,
            4.05,
            4.15,
            4.25,
            4.35,
            4.45,
            4.55,
            4.65,
            4.75,
            4.85,
            4.95,
            5.05,
            5.15,
            5.25,
            5.35,
            5.45,
            5.55,
            5.65,
            5.75,
            5.85,
            5.95,
            6.05,
            6.15,
            6.25,
            6.35,
            6.45,
            6.55,
            6.65,
            6.75,
            6.85,
            6.95,
            7.05,
            7.15,
            7.25,
            7.35,
            7.45,
            7.55,
            7.65,
            7.75,
            7.85,
            7.95,
            8.05,
            8.149999999999999,
            8.25,
            8.350000000000001,
            8.45,
            8.55,
            8.649999999999999,
            8.75,
            8.850000000000001,
            8.95,
            9.05,
            9.149999999999999,
            9.25,
            9.350000000000001,
            9.45,
            9.55,
            9.649999999999999,
            9.75,
            9.850000000000001,
            9.95,
            10.05,
            10.149999999999999,
            10.25,
            10.350000000000001,
            10.45,
            10.55,
            10.649999999999999,
            10.75,
            10.850000000000001,
            10.95,
            11.05,
            11.149999999999999,
            11.25,
            11.350000000000001,
            11.45,
            11.55,
            11.649999999999999,
            11.75,
            11.850000000000001,
            11.95,
            12.05,
            12.149999999999999,
            12.25,
            12.55,
            12.75,
            13.05,
            13.45,
            13.55,
            13.95,
            14.05,
            15.05,
            16.05
           ],
           "xaxis": "x",
           "y": [
            2.066779661016949,
            1.929789368104313,
            2.2215930902111327,
            2.271206225680934,
            2.5076664425016815,
            2.502834008097166,
            2.765496183206107,
            2.6716981132075475,
            2.8323353293413174,
            3.0124398625429554,
            2.8685512367491164,
            3.0076923076923077,
            2.9520193861066235,
            3.1958285052143687,
            2.9022707797772065,
            2.968493827160494,
            3.101701701701702,
            3.1023657165018426,
            3.0838592233009705,
            3.075222469410456,
            3.066487532244196,
            3.050886581469649,
            3.11875268201974,
            3.0885656186453936,
            3.0480442206809144,
            2.9428314516934764,
            2.955333147477,
            3.004787506400409,
            2.9822682660850597,
            3.072389098532495,
            3.1478660469047113,
            3.114835594989561,
            3.1701009285425914,
            3.2097320603634123,
            3.2502350369771547,
            3.204913848117422,
            3.2482247851650836,
            3.3208813612483334,
            3.2886536156612065,
            3.3648607829285515,
            3.35672053606622,
            3.4379673871824044,
            3.3824258590930483,
            3.4412361178174797,
            3.40637159818962,
            3.41731746031746,
            3.4834519572953737,
            3.4579504613890237,
            3.389836845683209,
            3.4794715189873413,
            3.4485190039318474,
            3.4837403464829895,
            3.519389405580267,
            3.555465404552626,
            3.4801146298814847,
            3.4981069042316264,
            3.5428148148148146,
            3.5115203021718604,
            3.3811745334796925,
            3.521431750487863,
            3.537669565217391,
            3.573939611790079,
            3.5496333333333334,
            3.5606681034482763,
            3.553743451073179,
            3.5258064516129033,
            3.5671363447990054,
            3.624672489082969,
            3.544265080713679,
            3.6089257840215687,
            3.6302237230899115,
            3.6519499003700537,
            3.624049331963001,
            3.693658536585366,
            3.704039879530585,
            3.689360430364614,
            3.6807197943444727,
            3.6203288490284007,
            3.730434782608696,
            3.681515629622325,
            3.6677051671732523,
            3.7308063737324964,
            3.6718325791855206,
            3.68998732572877,
            3.7091267883571777,
            3.557117117117117,
            3.6889643463497457,
            3.6739659367396595,
            3.8616061606160614,
            3.774606095457159,
            3.695538461538462,
            3.7283980582524268,
            3.961734104046242,
            3.697093023255814,
            3.7965871254162042,
            3.4890909090909097,
            3.7953316953316953,
            3.669894366197183,
            3.7263757115749527,
            3.7622634959208474,
            4.095608531994981,
            3.862264150943396,
            3.814693171996543,
            4.025770925110132,
            3.906917113893858,
            4.096896551724138,
            3.79691056910569,
            4.3062,
            3.7529977794226492,
            3.7767507002801124,
            3.8025270758122742
           ],
           "yaxis": "y"
          }
         ],
         "name": "2014"
        },
        {
         "data": [
          {
           "hovertemplate": "<b>%{hovertext}</b><br><br>year=2015<br>ABV:=%{x}<br>Rating:=%{y}<br>Number of ratings:=%{marker.size}<extra></extra>",
           "hovertext": [
            0.55,
            2.05,
            2.25,
            2.55,
            2.6500000000000004,
            2.75,
            2.8499999999999996,
            2.95,
            3.05,
            3.1500000000000004,
            3.25,
            3.3499999999999996,
            3.45,
            3.55,
            3.6500000000000004,
            3.75,
            3.8499999999999996,
            3.95,
            4.05,
            4.15,
            4.25,
            4.35,
            4.45,
            4.55,
            4.65,
            4.75,
            4.85,
            4.95,
            5.05,
            5.15,
            5.25,
            5.35,
            5.45,
            5.55,
            5.65,
            5.75,
            5.85,
            5.95,
            6.05,
            6.15,
            6.25,
            6.35,
            6.45,
            6.55,
            6.65,
            6.75,
            6.85,
            6.95,
            7.05,
            7.15,
            7.25,
            7.35,
            7.45,
            7.55,
            7.65,
            7.75,
            7.85,
            7.95,
            8.05,
            8.149999999999999,
            8.25,
            8.350000000000001,
            8.45,
            8.55,
            8.649999999999999,
            8.75,
            8.850000000000001,
            8.95,
            9.05,
            9.149999999999999,
            9.25,
            9.350000000000001,
            9.45,
            9.55,
            9.649999999999999,
            9.75,
            9.850000000000001,
            9.95,
            10.05,
            10.149999999999999,
            10.25,
            10.350000000000001,
            10.45,
            10.55,
            10.649999999999999,
            10.75,
            10.850000000000001,
            10.95,
            11.05,
            11.149999999999999,
            11.25,
            11.350000000000001,
            11.45,
            11.55,
            11.649999999999999,
            11.75,
            11.850000000000001,
            11.95,
            12.05,
            12.149999999999999,
            12.25,
            12.55,
            12.75,
            13.05,
            13.25,
            13.45,
            13.55,
            13.95,
            14.05,
            15.05,
            16.05
           ],
           "legendgroup": "",
           "marker": {
            "color": "#636efa",
            "size": [
             870,
             1051,
             291,
             1560,
             473,
             540,
             778,
             636,
             1758,
             429,
             796,
             486,
             837,
             5352,
             2069,
             2132,
             6083,
             2400,
             15065,
             4818,
             12354,
             6891,
             6784,
             30700,
             10772,
             18591,
             20353,
             13341,
             59666,
             9626,
             24297,
             12975,
             13393,
             35680,
             14049,
             9894,
             14556,
             8720,
             44333,
             5102,
             14694,
             7772,
             7308,
             34821,
             7726,
             7360,
             11508,
             6381,
             32039,
             3927,
             10374,
             5047,
             4982,
             19542,
             3384,
             3572,
             3548,
             2357,
             27421,
             3051,
             5644,
             3248,
             3065,
             18611,
             1750,
             2463,
             2611,
             1276,
             18783,
             1966,
             3798,
             1602,
             1802,
             9283,
             1600,
             1221,
             1561,
             920,
             19507,
             1392,
             1787,
             963,
             1213,
             6063,
             677,
             736,
             704,
             1020,
             9743,
             763,
             856,
             959,
             549,
             3211,
             320,
             444,
             615,
             576,
             6995,
             724,
             474,
             897,
             479,
             3335,
             326,
             418,
             712,
             268,
             1780,
             823,
             378
            ],
            "sizemode": "area",
            "sizeref": 149.165,
            "symbol": "circle"
           },
           "mode": "markers",
           "name": "",
           "orientation": "v",
           "showlegend": false,
           "type": "scatter",
           "x": [
            0.55,
            2.05,
            2.25,
            2.55,
            2.6500000000000004,
            2.75,
            2.8499999999999996,
            2.95,
            3.05,
            3.1500000000000004,
            3.25,
            3.3499999999999996,
            3.45,
            3.55,
            3.6500000000000004,
            3.75,
            3.8499999999999996,
            3.95,
            4.05,
            4.15,
            4.25,
            4.35,
            4.45,
            4.55,
            4.65,
            4.75,
            4.85,
            4.95,
            5.05,
            5.15,
            5.25,
            5.35,
            5.45,
            5.55,
            5.65,
            5.75,
            5.85,
            5.95,
            6.05,
            6.15,
            6.25,
            6.35,
            6.45,
            6.55,
            6.65,
            6.75,
            6.85,
            6.95,
            7.05,
            7.15,
            7.25,
            7.35,
            7.45,
            7.55,
            7.65,
            7.75,
            7.85,
            7.95,
            8.05,
            8.149999999999999,
            8.25,
            8.350000000000001,
            8.45,
            8.55,
            8.649999999999999,
            8.75,
            8.850000000000001,
            8.95,
            9.05,
            9.149999999999999,
            9.25,
            9.350000000000001,
            9.45,
            9.55,
            9.649999999999999,
            9.75,
            9.850000000000001,
            9.95,
            10.05,
            10.149999999999999,
            10.25,
            10.350000000000001,
            10.45,
            10.55,
            10.649999999999999,
            10.75,
            10.850000000000001,
            10.95,
            11.05,
            11.149999999999999,
            11.25,
            11.350000000000001,
            11.45,
            11.55,
            11.649999999999999,
            11.75,
            11.850000000000001,
            11.95,
            12.05,
            12.149999999999999,
            12.25,
            12.55,
            12.75,
            13.05,
            13.25,
            13.45,
            13.55,
            13.95,
            14.05,
            15.05,
            16.05
           ],
           "xaxis": "x",
           "y": [
            2.0709195402298852,
            2.304662226450999,
            2.3546391752577316,
            2.6012820512820514,
            2.7391120507399576,
            2.9205555555555556,
            2.7429305912596402,
            2.9106918238993713,
            3.180546075085324,
            3.1792540792540795,
            3.169597989949749,
            2.9382716049382718,
            3.188649940262843,
            3.013714499252616,
            3.1074915418076365,
            3.106848030018762,
            3.160184119677791,
            3.183333333333333,
            3.122628609359442,
            3.1301992528019924,
            3.0831876315363442,
            3.145319982585982,
            3.1648437499999997,
            3.109231270358306,
            3.032473078351281,
            3.0148943036953364,
            3.0352773546897263,
            3.0363241136346604,
            3.1222270639895418,
            3.188738832329109,
            3.151372597440013,
            3.215522157996146,
            3.2527589039050246,
            3.283604260089686,
            3.2505516406861696,
            3.275894481503942,
            3.3124141247595493,
            3.2951834862385323,
            3.36785464552365,
            3.3965503724029786,
            3.4410099360283106,
            3.399665465774575,
            3.4512178434592227,
            3.4135607822865515,
            3.441858659073259,
            3.4547010869565216,
            3.4671967327076816,
            3.4187588152327217,
            3.495024813508536,
            3.4647313470842884,
            3.4941199151725466,
            3.4832177531206665,
            3.5492974708952225,
            3.482084740558796,
            3.5024527186761225,
            3.5405655095184776,
            3.4815388951521986,
            3.4430632159524825,
            3.5135443638087596,
            3.5265158964274015,
            3.5769135364989366,
            3.5471366995073885,
            3.558140293637847,
            3.5455322121326094,
            3.557085714285714,
            3.602273650020301,
            3.5914209115281506,
            3.5858934169278993,
            3.5826225842517165,
            3.626246185147508,
            3.6388362295945234,
            3.6220349563046192,
            3.6676470588235297,
            3.6735645804158144,
            3.6940625,
            3.664373464373465,
            3.649071108263933,
            3.6747826086956525,
            3.6935202747731584,
            3.6564655172413794,
            3.7707890318970345,
            3.7017653167185878,
            3.7550700741962073,
            3.735823849579416,
            3.605317577548006,
            3.7236413043478267,
            3.704261363636364,
            3.8477450980392156,
            3.791922405829826,
            3.6961992136304063,
            3.7539719626168226,
            3.9469238790406673,
            3.749908925318761,
            3.766427904079726,
            3.5303124999999995,
            3.7423423423423423,
            3.7172357723577236,
            3.8486111111111114,
            3.797083631165118,
            3.998756906077348,
            3.8748945147679326,
            3.7677814938684504,
            4.004801670146138,
            3.8932533733133434,
            3.949693251533742,
            3.9270334928229667,
            3.8605337078651685,
            4.178731343283583,
            3.856685393258427,
            3.861482381530984,
            3.8492063492063493
           ],
           "yaxis": "y"
          }
         ],
         "name": "2015"
        },
        {
         "data": [
          {
           "hovertemplate": "<b>%{hovertext}</b><br><br>year=2016<br>ABV:=%{x}<br>Rating:=%{y}<br>Number of ratings:=%{marker.size}<extra></extra>",
           "hovertext": [
            0.45,
            0.55,
            2.05,
            2.25,
            2.55,
            2.6500000000000004,
            2.75,
            2.8499999999999996,
            2.95,
            3.05,
            3.1500000000000004,
            3.25,
            3.3499999999999996,
            3.45,
            3.55,
            3.6500000000000004,
            3.75,
            3.8499999999999996,
            3.95,
            4.05,
            4.15,
            4.25,
            4.35,
            4.45,
            4.55,
            4.65,
            4.75,
            4.85,
            4.95,
            5.05,
            5.15,
            5.25,
            5.35,
            5.45,
            5.55,
            5.65,
            5.75,
            5.85,
            5.95,
            6.05,
            6.15,
            6.25,
            6.35,
            6.45,
            6.55,
            6.65,
            6.75,
            6.85,
            6.95,
            7.05,
            7.15,
            7.25,
            7.35,
            7.45,
            7.55,
            7.65,
            7.75,
            7.85,
            7.95,
            8.05,
            8.149999999999999,
            8.25,
            8.350000000000001,
            8.45,
            8.55,
            8.649999999999999,
            8.75,
            8.850000000000001,
            8.95,
            9.05,
            9.149999999999999,
            9.25,
            9.350000000000001,
            9.45,
            9.55,
            9.649999999999999,
            9.75,
            9.850000000000001,
            9.95,
            10.05,
            10.149999999999999,
            10.25,
            10.350000000000001,
            10.45,
            10.55,
            10.649999999999999,
            10.75,
            10.850000000000001,
            10.95,
            11.05,
            11.149999999999999,
            11.25,
            11.350000000000001,
            11.45,
            11.55,
            11.649999999999999,
            11.75,
            11.850000000000001,
            11.95,
            12.05,
            12.149999999999999,
            12.25,
            12.55,
            12.75,
            12.850000000000001,
            13.05,
            13.25,
            13.55,
            13.649999999999999,
            14.05,
            14.55,
            15.05,
            16.05
           ],
           "legendgroup": "",
           "marker": {
            "color": "#636efa",
            "size": [
             272,
             802,
             787,
             265,
             1079,
             328,
             504,
             612,
             338,
             1695,
             417,
             706,
             505,
             882,
             5674,
             2143,
             1874,
             5958,
             2647,
             15671,
             4379,
             11754,
             6413,
             6129,
             30420,
             10373,
             19002,
             18897,
             12471,
             54721,
             9122,
             23237,
             12158,
             12577,
             34736,
             13344,
             10087,
             14542,
             8899,
             44952,
             5012,
             14036,
             8775,
             6987,
             34527,
             8157,
             7279,
             11043,
             6156,
             31080,
             3752,
             10232,
             4689,
             5209,
             17559,
             2719,
             3866,
             3869,
             2774,
             27630,
             2758,
             5463,
             3013,
             3021,
             17125,
             1788,
             2437,
             2721,
             1397,
             16963,
             1756,
             3685,
             1629,
             1769,
             8776,
             1292,
             1297,
             1855,
             979,
             17410,
             1078,
             2178,
             1039,
             1142,
             6854,
             479,
             695,
             660,
             745,
             10058,
             448,
             1044,
             903,
             461,
             3045,
             396,
             525,
             596,
             926,
             7405,
             549,
             434,
             1404,
             404,
             291,
             3456,
             434,
             858,
             267,
             1424,
             299,
             625,
             351
            ],
            "sizemode": "area",
            "sizeref": 149.165,
            "symbol": "circle"
           },
           "mode": "markers",
           "name": "",
           "orientation": "v",
           "showlegend": false,
           "type": "scatter",
           "x": [
            0.45,
            0.55,
            2.05,
            2.25,
            2.55,
            2.6500000000000004,
            2.75,
            2.8499999999999996,
            2.95,
            3.05,
            3.1500000000000004,
            3.25,
            3.3499999999999996,
            3.45,
            3.55,
            3.6500000000000004,
            3.75,
            3.8499999999999996,
            3.95,
            4.05,
            4.15,
            4.25,
            4.35,
            4.45,
            4.55,
            4.65,
            4.75,
            4.85,
            4.95,
            5.05,
            5.15,
            5.25,
            5.35,
            5.45,
            5.55,
            5.65,
            5.75,
            5.85,
            5.95,
            6.05,
            6.15,
            6.25,
            6.35,
            6.45,
            6.55,
            6.65,
            6.75,
            6.85,
            6.95,
            7.05,
            7.15,
            7.25,
            7.35,
            7.45,
            7.55,
            7.65,
            7.75,
            7.85,
            7.95,
            8.05,
            8.149999999999999,
            8.25,
            8.350000000000001,
            8.45,
            8.55,
            8.649999999999999,
            8.75,
            8.850000000000001,
            8.95,
            9.05,
            9.149999999999999,
            9.25,
            9.350000000000001,
            9.45,
            9.55,
            9.649999999999999,
            9.75,
            9.850000000000001,
            9.95,
            10.05,
            10.149999999999999,
            10.25,
            10.350000000000001,
            10.45,
            10.55,
            10.649999999999999,
            10.75,
            10.850000000000001,
            10.95,
            11.05,
            11.149999999999999,
            11.25,
            11.350000000000001,
            11.45,
            11.55,
            11.649999999999999,
            11.75,
            11.850000000000001,
            11.95,
            12.05,
            12.149999999999999,
            12.25,
            12.55,
            12.75,
            12.850000000000001,
            13.05,
            13.25,
            13.55,
            13.649999999999999,
            14.05,
            14.55,
            15.05,
            16.05
           ],
           "xaxis": "x",
           "y": [
            2.518014705882353,
            2.17643391521197,
            2.3269377382465057,
            2.7769811320754716,
            2.5901760889712695,
            2.6509146341463414,
            2.9503968253968256,
            2.90718954248366,
            3.0754437869822486,
            3.0848967551622417,
            3.2333333333333334,
            3.1848441926345608,
            3.089504950495049,
            3.1595238095238094,
            3.1586887557278818,
            3.1523098460102656,
            3.1877267876200635,
            3.207938905673045,
            3.2183226293917646,
            3.1693956990619614,
            3.148070335693081,
            3.1131870001701545,
            3.1684391080617496,
            3.1958720835372816,
            3.150756081525312,
            3.0782319483273883,
            3.0623723818545416,
            3.06849235328359,
            3.0933445593777567,
            3.1591820324920965,
            3.2050975663231744,
            3.1966820157507425,
            3.2312880407961835,
            3.2658980679017255,
            3.3009097190234913,
            3.278791966426858,
            3.3349955388123327,
            3.3436872507220468,
            3.340982132823913,
            3.418815625556149,
            3.395869912210694,
            3.453711883727558,
            3.4422450142450143,
            3.511750393588092,
            3.451047006690416,
            3.47571411057987,
            3.4911388927050417,
            3.4737661867246223,
            3.442852501624431,
            3.5030791505791505,
            3.481689765458422,
            3.502140344018765,
            3.54512689272766,
            3.5940487617584944,
            3.4994077111452815,
            3.5169915410077235,
            3.550025866528711,
            3.560403204962523,
            3.5028118240807498,
            3.543724212812161,
            3.567984046410442,
            3.5920373421197143,
            3.5865250580816466,
            3.5891426679907315,
            3.5766072992700733,
            3.5521812080536908,
            3.629790726302831,
            3.563910327085631,
            3.5695060844667146,
            3.6075576254200317,
            3.6366742596810933,
            3.618018995929444,
            3.604051565377532,
            3.681514980214811,
            3.6745442114858706,
            3.6969040247678024,
            3.6587509637625293,
            3.648463611859838,
            3.640449438202247,
            3.697512923607122,
            3.653246753246753,
            3.7493112947658402,
            3.6922040423484117,
            3.740542907180385,
            3.7410125474175664,
            3.653027139874739,
            3.6666187050359715,
            3.723939393939394,
            3.7616107382550337,
            3.8154305030821236,
            3.763169642857143,
            3.8284482758620686,
            3.8882613510520487,
            3.7379609544468546,
            3.8122824302134646,
            3.7578282828282825,
            3.804190476190476,
            3.7786912751677852,
            3.8646868250539956,
            3.811789331532748,
            3.883606557377049,
            3.8652073732718892,
            3.789031339031339,
            3.9232673267326734,
            3.7316151202749146,
            3.8866608796296296,
            3.8023041474654375,
            3.880885780885781,
            3.7179775280898872,
            3.8247191011235953,
            3.937458193979934,
            3.8537600000000007,
            3.7068376068376065
           ],
           "yaxis": "y"
          }
         ],
         "name": "2016"
        }
       ],
       "layout": {
        "height": 600,
        "legend": {
         "itemsizing": "constant",
         "tracegroupgap": 0
        },
        "margin": {
         "t": 60
        },
        "paper_bgcolor": "rgb(255,255,255)",
        "plot_bgcolor": "rgb(255,255,255)",
        "showlegend": false,
        "sliders": [
         {
          "active": 0,
          "currentvalue": {
           "prefix": "year="
          },
          "len": 0.9,
          "pad": {
           "b": 10,
           "t": 60
          },
          "steps": [
           {
            "args": [
             [
              "2002"
             ],
             {
              "frame": {
               "duration": 0,
               "redraw": false
              },
              "fromcurrent": true,
              "mode": "immediate",
              "transition": {
               "duration": 0,
               "easing": "linear"
              }
             }
            ],
            "label": "2002",
            "method": "animate"
           },
           {
            "args": [
             [
              "2003"
             ],
             {
              "frame": {
               "duration": 0,
               "redraw": false
              },
              "fromcurrent": true,
              "mode": "immediate",
              "transition": {
               "duration": 0,
               "easing": "linear"
              }
             }
            ],
            "label": "2003",
            "method": "animate"
           },
           {
            "args": [
             [
              "2004"
             ],
             {
              "frame": {
               "duration": 0,
               "redraw": false
              },
              "fromcurrent": true,
              "mode": "immediate",
              "transition": {
               "duration": 0,
               "easing": "linear"
              }
             }
            ],
            "label": "2004",
            "method": "animate"
           },
           {
            "args": [
             [
              "2005"
             ],
             {
              "frame": {
               "duration": 0,
               "redraw": false
              },
              "fromcurrent": true,
              "mode": "immediate",
              "transition": {
               "duration": 0,
               "easing": "linear"
              }
             }
            ],
            "label": "2005",
            "method": "animate"
           },
           {
            "args": [
             [
              "2006"
             ],
             {
              "frame": {
               "duration": 0,
               "redraw": false
              },
              "fromcurrent": true,
              "mode": "immediate",
              "transition": {
               "duration": 0,
               "easing": "linear"
              }
             }
            ],
            "label": "2006",
            "method": "animate"
           },
           {
            "args": [
             [
              "2007"
             ],
             {
              "frame": {
               "duration": 0,
               "redraw": false
              },
              "fromcurrent": true,
              "mode": "immediate",
              "transition": {
               "duration": 0,
               "easing": "linear"
              }
             }
            ],
            "label": "2007",
            "method": "animate"
           },
           {
            "args": [
             [
              "2008"
             ],
             {
              "frame": {
               "duration": 0,
               "redraw": false
              },
              "fromcurrent": true,
              "mode": "immediate",
              "transition": {
               "duration": 0,
               "easing": "linear"
              }
             }
            ],
            "label": "2008",
            "method": "animate"
           },
           {
            "args": [
             [
              "2009"
             ],
             {
              "frame": {
               "duration": 0,
               "redraw": false
              },
              "fromcurrent": true,
              "mode": "immediate",
              "transition": {
               "duration": 0,
               "easing": "linear"
              }
             }
            ],
            "label": "2009",
            "method": "animate"
           },
           {
            "args": [
             [
              "2010"
             ],
             {
              "frame": {
               "duration": 0,
               "redraw": false
              },
              "fromcurrent": true,
              "mode": "immediate",
              "transition": {
               "duration": 0,
               "easing": "linear"
              }
             }
            ],
            "label": "2010",
            "method": "animate"
           },
           {
            "args": [
             [
              "2011"
             ],
             {
              "frame": {
               "duration": 0,
               "redraw": false
              },
              "fromcurrent": true,
              "mode": "immediate",
              "transition": {
               "duration": 0,
               "easing": "linear"
              }
             }
            ],
            "label": "2011",
            "method": "animate"
           },
           {
            "args": [
             [
              "2012"
             ],
             {
              "frame": {
               "duration": 0,
               "redraw": false
              },
              "fromcurrent": true,
              "mode": "immediate",
              "transition": {
               "duration": 0,
               "easing": "linear"
              }
             }
            ],
            "label": "2012",
            "method": "animate"
           },
           {
            "args": [
             [
              "2013"
             ],
             {
              "frame": {
               "duration": 0,
               "redraw": false
              },
              "fromcurrent": true,
              "mode": "immediate",
              "transition": {
               "duration": 0,
               "easing": "linear"
              }
             }
            ],
            "label": "2013",
            "method": "animate"
           },
           {
            "args": [
             [
              "2014"
             ],
             {
              "frame": {
               "duration": 0,
               "redraw": false
              },
              "fromcurrent": true,
              "mode": "immediate",
              "transition": {
               "duration": 0,
               "easing": "linear"
              }
             }
            ],
            "label": "2014",
            "method": "animate"
           },
           {
            "args": [
             [
              "2015"
             ],
             {
              "frame": {
               "duration": 0,
               "redraw": false
              },
              "fromcurrent": true,
              "mode": "immediate",
              "transition": {
               "duration": 0,
               "easing": "linear"
              }
             }
            ],
            "label": "2015",
            "method": "animate"
           },
           {
            "args": [
             [
              "2016"
             ],
             {
              "frame": {
               "duration": 0,
               "redraw": false
              },
              "fromcurrent": true,
              "mode": "immediate",
              "transition": {
               "duration": 0,
               "easing": "linear"
              }
             }
            ],
            "label": "2016",
            "method": "animate"
           }
          ],
          "x": 0.1,
          "xanchor": "left",
          "y": 0,
          "yanchor": "top"
         }
        ],
        "template": {
         "data": {
          "bar": [
           {
            "error_x": {
             "color": "#2a3f5f"
            },
            "error_y": {
             "color": "#2a3f5f"
            },
            "marker": {
             "line": {
              "color": "#E5ECF6",
              "width": 0.5
             },
             "pattern": {
              "fillmode": "overlay",
              "size": 10,
              "solidity": 0.2
             }
            },
            "type": "bar"
           }
          ],
          "barpolar": [
           {
            "marker": {
             "line": {
              "color": "#E5ECF6",
              "width": 0.5
             },
             "pattern": {
              "fillmode": "overlay",
              "size": 10,
              "solidity": 0.2
             }
            },
            "type": "barpolar"
           }
          ],
          "carpet": [
           {
            "aaxis": {
             "endlinecolor": "#2a3f5f",
             "gridcolor": "white",
             "linecolor": "white",
             "minorgridcolor": "white",
             "startlinecolor": "#2a3f5f"
            },
            "baxis": {
             "endlinecolor": "#2a3f5f",
             "gridcolor": "white",
             "linecolor": "white",
             "minorgridcolor": "white",
             "startlinecolor": "#2a3f5f"
            },
            "type": "carpet"
           }
          ],
          "choropleth": [
           {
            "colorbar": {
             "outlinewidth": 0,
             "ticks": ""
            },
            "type": "choropleth"
           }
          ],
          "contour": [
           {
            "colorbar": {
             "outlinewidth": 0,
             "ticks": ""
            },
            "colorscale": [
             [
              0,
              "#0d0887"
             ],
             [
              0.1111111111111111,
              "#46039f"
             ],
             [
              0.2222222222222222,
              "#7201a8"
             ],
             [
              0.3333333333333333,
              "#9c179e"
             ],
             [
              0.4444444444444444,
              "#bd3786"
             ],
             [
              0.5555555555555556,
              "#d8576b"
             ],
             [
              0.6666666666666666,
              "#ed7953"
             ],
             [
              0.7777777777777778,
              "#fb9f3a"
             ],
             [
              0.8888888888888888,
              "#fdca26"
             ],
             [
              1,
              "#f0f921"
             ]
            ],
            "type": "contour"
           }
          ],
          "contourcarpet": [
           {
            "colorbar": {
             "outlinewidth": 0,
             "ticks": ""
            },
            "type": "contourcarpet"
           }
          ],
          "heatmap": [
           {
            "colorbar": {
             "outlinewidth": 0,
             "ticks": ""
            },
            "colorscale": [
             [
              0,
              "#0d0887"
             ],
             [
              0.1111111111111111,
              "#46039f"
             ],
             [
              0.2222222222222222,
              "#7201a8"
             ],
             [
              0.3333333333333333,
              "#9c179e"
             ],
             [
              0.4444444444444444,
              "#bd3786"
             ],
             [
              0.5555555555555556,
              "#d8576b"
             ],
             [
              0.6666666666666666,
              "#ed7953"
             ],
             [
              0.7777777777777778,
              "#fb9f3a"
             ],
             [
              0.8888888888888888,
              "#fdca26"
             ],
             [
              1,
              "#f0f921"
             ]
            ],
            "type": "heatmap"
           }
          ],
          "heatmapgl": [
           {
            "colorbar": {
             "outlinewidth": 0,
             "ticks": ""
            },
            "colorscale": [
             [
              0,
              "#0d0887"
             ],
             [
              0.1111111111111111,
              "#46039f"
             ],
             [
              0.2222222222222222,
              "#7201a8"
             ],
             [
              0.3333333333333333,
              "#9c179e"
             ],
             [
              0.4444444444444444,
              "#bd3786"
             ],
             [
              0.5555555555555556,
              "#d8576b"
             ],
             [
              0.6666666666666666,
              "#ed7953"
             ],
             [
              0.7777777777777778,
              "#fb9f3a"
             ],
             [
              0.8888888888888888,
              "#fdca26"
             ],
             [
              1,
              "#f0f921"
             ]
            ],
            "type": "heatmapgl"
           }
          ],
          "histogram": [
           {
            "marker": {
             "pattern": {
              "fillmode": "overlay",
              "size": 10,
              "solidity": 0.2
             }
            },
            "type": "histogram"
           }
          ],
          "histogram2d": [
           {
            "colorbar": {
             "outlinewidth": 0,
             "ticks": ""
            },
            "colorscale": [
             [
              0,
              "#0d0887"
             ],
             [
              0.1111111111111111,
              "#46039f"
             ],
             [
              0.2222222222222222,
              "#7201a8"
             ],
             [
              0.3333333333333333,
              "#9c179e"
             ],
             [
              0.4444444444444444,
              "#bd3786"
             ],
             [
              0.5555555555555556,
              "#d8576b"
             ],
             [
              0.6666666666666666,
              "#ed7953"
             ],
             [
              0.7777777777777778,
              "#fb9f3a"
             ],
             [
              0.8888888888888888,
              "#fdca26"
             ],
             [
              1,
              "#f0f921"
             ]
            ],
            "type": "histogram2d"
           }
          ],
          "histogram2dcontour": [
           {
            "colorbar": {
             "outlinewidth": 0,
             "ticks": ""
            },
            "colorscale": [
             [
              0,
              "#0d0887"
             ],
             [
              0.1111111111111111,
              "#46039f"
             ],
             [
              0.2222222222222222,
              "#7201a8"
             ],
             [
              0.3333333333333333,
              "#9c179e"
             ],
             [
              0.4444444444444444,
              "#bd3786"
             ],
             [
              0.5555555555555556,
              "#d8576b"
             ],
             [
              0.6666666666666666,
              "#ed7953"
             ],
             [
              0.7777777777777778,
              "#fb9f3a"
             ],
             [
              0.8888888888888888,
              "#fdca26"
             ],
             [
              1,
              "#f0f921"
             ]
            ],
            "type": "histogram2dcontour"
           }
          ],
          "mesh3d": [
           {
            "colorbar": {
             "outlinewidth": 0,
             "ticks": ""
            },
            "type": "mesh3d"
           }
          ],
          "parcoords": [
           {
            "line": {
             "colorbar": {
              "outlinewidth": 0,
              "ticks": ""
             }
            },
            "type": "parcoords"
           }
          ],
          "pie": [
           {
            "automargin": true,
            "type": "pie"
           }
          ],
          "scatter": [
           {
            "fillpattern": {
             "fillmode": "overlay",
             "size": 10,
             "solidity": 0.2
            },
            "type": "scatter"
           }
          ],
          "scatter3d": [
           {
            "line": {
             "colorbar": {
              "outlinewidth": 0,
              "ticks": ""
             }
            },
            "marker": {
             "colorbar": {
              "outlinewidth": 0,
              "ticks": ""
             }
            },
            "type": "scatter3d"
           }
          ],
          "scattercarpet": [
           {
            "marker": {
             "colorbar": {
              "outlinewidth": 0,
              "ticks": ""
             }
            },
            "type": "scattercarpet"
           }
          ],
          "scattergeo": [
           {
            "marker": {
             "colorbar": {
              "outlinewidth": 0,
              "ticks": ""
             }
            },
            "type": "scattergeo"
           }
          ],
          "scattergl": [
           {
            "marker": {
             "colorbar": {
              "outlinewidth": 0,
              "ticks": ""
             }
            },
            "type": "scattergl"
           }
          ],
          "scattermapbox": [
           {
            "marker": {
             "colorbar": {
              "outlinewidth": 0,
              "ticks": ""
             }
            },
            "type": "scattermapbox"
           }
          ],
          "scatterpolar": [
           {
            "marker": {
             "colorbar": {
              "outlinewidth": 0,
              "ticks": ""
             }
            },
            "type": "scatterpolar"
           }
          ],
          "scatterpolargl": [
           {
            "marker": {
             "colorbar": {
              "outlinewidth": 0,
              "ticks": ""
             }
            },
            "type": "scatterpolargl"
           }
          ],
          "scatterternary": [
           {
            "marker": {
             "colorbar": {
              "outlinewidth": 0,
              "ticks": ""
             }
            },
            "type": "scatterternary"
           }
          ],
          "surface": [
           {
            "colorbar": {
             "outlinewidth": 0,
             "ticks": ""
            },
            "colorscale": [
             [
              0,
              "#0d0887"
             ],
             [
              0.1111111111111111,
              "#46039f"
             ],
             [
              0.2222222222222222,
              "#7201a8"
             ],
             [
              0.3333333333333333,
              "#9c179e"
             ],
             [
              0.4444444444444444,
              "#bd3786"
             ],
             [
              0.5555555555555556,
              "#d8576b"
             ],
             [
              0.6666666666666666,
              "#ed7953"
             ],
             [
              0.7777777777777778,
              "#fb9f3a"
             ],
             [
              0.8888888888888888,
              "#fdca26"
             ],
             [
              1,
              "#f0f921"
             ]
            ],
            "type": "surface"
           }
          ],
          "table": [
           {
            "cells": {
             "fill": {
              "color": "#EBF0F8"
             },
             "line": {
              "color": "white"
             }
            },
            "header": {
             "fill": {
              "color": "#C8D4E3"
             },
             "line": {
              "color": "white"
             }
            },
            "type": "table"
           }
          ]
         },
         "layout": {
          "annotationdefaults": {
           "arrowcolor": "#2a3f5f",
           "arrowhead": 0,
           "arrowwidth": 1
          },
          "autotypenumbers": "strict",
          "coloraxis": {
           "colorbar": {
            "outlinewidth": 0,
            "ticks": ""
           }
          },
          "colorscale": {
           "diverging": [
            [
             0,
             "#8e0152"
            ],
            [
             0.1,
             "#c51b7d"
            ],
            [
             0.2,
             "#de77ae"
            ],
            [
             0.3,
             "#f1b6da"
            ],
            [
             0.4,
             "#fde0ef"
            ],
            [
             0.5,
             "#f7f7f7"
            ],
            [
             0.6,
             "#e6f5d0"
            ],
            [
             0.7,
             "#b8e186"
            ],
            [
             0.8,
             "#7fbc41"
            ],
            [
             0.9,
             "#4d9221"
            ],
            [
             1,
             "#276419"
            ]
           ],
           "sequential": [
            [
             0,
             "#0d0887"
            ],
            [
             0.1111111111111111,
             "#46039f"
            ],
            [
             0.2222222222222222,
             "#7201a8"
            ],
            [
             0.3333333333333333,
             "#9c179e"
            ],
            [
             0.4444444444444444,
             "#bd3786"
            ],
            [
             0.5555555555555556,
             "#d8576b"
            ],
            [
             0.6666666666666666,
             "#ed7953"
            ],
            [
             0.7777777777777778,
             "#fb9f3a"
            ],
            [
             0.8888888888888888,
             "#fdca26"
            ],
            [
             1,
             "#f0f921"
            ]
           ],
           "sequentialminus": [
            [
             0,
             "#0d0887"
            ],
            [
             0.1111111111111111,
             "#46039f"
            ],
            [
             0.2222222222222222,
             "#7201a8"
            ],
            [
             0.3333333333333333,
             "#9c179e"
            ],
            [
             0.4444444444444444,
             "#bd3786"
            ],
            [
             0.5555555555555556,
             "#d8576b"
            ],
            [
             0.6666666666666666,
             "#ed7953"
            ],
            [
             0.7777777777777778,
             "#fb9f3a"
            ],
            [
             0.8888888888888888,
             "#fdca26"
            ],
            [
             1,
             "#f0f921"
            ]
           ]
          },
          "colorway": [
           "#636efa",
           "#EF553B",
           "#00cc96",
           "#ab63fa",
           "#FFA15A",
           "#19d3f3",
           "#FF6692",
           "#B6E880",
           "#FF97FF",
           "#FECB52"
          ],
          "font": {
           "color": "#2a3f5f"
          },
          "geo": {
           "bgcolor": "white",
           "lakecolor": "white",
           "landcolor": "#E5ECF6",
           "showlakes": true,
           "showland": true,
           "subunitcolor": "white"
          },
          "hoverlabel": {
           "align": "left"
          },
          "hovermode": "closest",
          "mapbox": {
           "style": "light"
          },
          "paper_bgcolor": "white",
          "plot_bgcolor": "#E5ECF6",
          "polar": {
           "angularaxis": {
            "gridcolor": "white",
            "linecolor": "white",
            "ticks": ""
           },
           "bgcolor": "#E5ECF6",
           "radialaxis": {
            "gridcolor": "white",
            "linecolor": "white",
            "ticks": ""
           }
          },
          "scene": {
           "xaxis": {
            "backgroundcolor": "#E5ECF6",
            "gridcolor": "white",
            "gridwidth": 2,
            "linecolor": "white",
            "showbackground": true,
            "ticks": "",
            "zerolinecolor": "white"
           },
           "yaxis": {
            "backgroundcolor": "#E5ECF6",
            "gridcolor": "white",
            "gridwidth": 2,
            "linecolor": "white",
            "showbackground": true,
            "ticks": "",
            "zerolinecolor": "white"
           },
           "zaxis": {
            "backgroundcolor": "#E5ECF6",
            "gridcolor": "white",
            "gridwidth": 2,
            "linecolor": "white",
            "showbackground": true,
            "ticks": "",
            "zerolinecolor": "white"
           }
          },
          "shapedefaults": {
           "line": {
            "color": "#2a3f5f"
           }
          },
          "ternary": {
           "aaxis": {
            "gridcolor": "white",
            "linecolor": "white",
            "ticks": ""
           },
           "baxis": {
            "gridcolor": "white",
            "linecolor": "white",
            "ticks": ""
           },
           "bgcolor": "#E5ECF6",
           "caxis": {
            "gridcolor": "white",
            "linecolor": "white",
            "ticks": ""
           }
          },
          "title": {
           "x": 0.05
          },
          "xaxis": {
           "automargin": true,
           "gridcolor": "white",
           "linecolor": "white",
           "ticks": "",
           "title": {
            "standoff": 15
           },
           "zerolinecolor": "white",
           "zerolinewidth": 2
          },
          "yaxis": {
           "automargin": true,
           "gridcolor": "white",
           "linecolor": "white",
           "ticks": "",
           "title": {
            "standoff": 15
           },
           "zerolinecolor": "white",
           "zerolinewidth": 2
          }
         }
        },
        "title": {
         "text": "ABV vs. Rating Over Time",
         "x": 0.5
        },
        "updatemenus": [
         {
          "buttons": [
           {
            "args": [
             null,
             {
              "frame": {
               "duration": 500,
               "redraw": false
              },
              "fromcurrent": true,
              "mode": "immediate",
              "transition": {
               "duration": 500,
               "easing": "linear"
              }
             }
            ],
            "label": "&#9654;",
            "method": "animate"
           },
           {
            "args": [
             [
              null
             ],
             {
              "frame": {
               "duration": 0,
               "redraw": false
              },
              "fromcurrent": true,
              "mode": "immediate",
              "transition": {
               "duration": 0,
               "easing": "linear"
              }
             }
            ],
            "label": "&#9724;",
            "method": "animate"
           }
          ],
          "direction": "left",
          "pad": {
           "r": 10,
           "t": 70
          },
          "showactive": false,
          "type": "buttons",
          "x": 0.1,
          "xanchor": "right",
          "y": 0,
          "yanchor": "top"
         }
        ],
        "width": 800,
        "xaxis": {
         "anchor": "y",
         "domain": [
          0,
          1
         ],
         "range": [
          0,
          20
         ],
         "title": {
          "text": "ABV"
         }
        },
        "yaxis": {
         "anchor": "x",
         "domain": [
          0,
          1
         ],
         "range": [
          2.25,
          4.75
         ],
         "title": {
          "text": "Rating"
         }
        }
       }
      }
     },
     "metadata": {},
     "output_type": "display_data"
    }
   ],
   "source": [
    "# Plot the ABV Vs Ratings plot\n",
    "beer_ratings = abv_pres.plot_abv_vs_ratings()"
   ]
  },
  {
   "cell_type": "code",
   "execution_count": 31,
   "metadata": {},
   "outputs": [
    {
     "data": {
      "application/vnd.plotly.v1+json": {
       "config": {
        "plotlyServerURL": "https://plot.ly"
       },
       "data": [
        {
         "mode": "lines+markers",
         "type": "scatter",
         "x": [
          2002,
          2003,
          2004,
          2005,
          2006,
          2007,
          2008,
          2009,
          2010,
          2011,
          2012,
          2013,
          2014,
          2015,
          2016
         ],
         "y": [
          0.8599733766042479,
          0.8965062217014659,
          0.9109728027236724,
          0.9078255528974465,
          0.9005519495741794,
          0.9010150798371872,
          0.9137650443745697,
          0.9013510029560801,
          0.8966360620851763,
          0.9021930537671626,
          0.8939003640250138,
          0.9004391681500659,
          0.9090355614198301,
          0.9185304231340403,
          0.9123779401418592
         ]
        }
       ],
       "layout": {
        "height": 600,
        "paper_bgcolor": "rgb(255,255,255)",
        "plot_bgcolor": "rgb(255,255,255)",
        "template": {
         "data": {
          "bar": [
           {
            "error_x": {
             "color": "#2a3f5f"
            },
            "error_y": {
             "color": "#2a3f5f"
            },
            "marker": {
             "line": {
              "color": "#E5ECF6",
              "width": 0.5
             },
             "pattern": {
              "fillmode": "overlay",
              "size": 10,
              "solidity": 0.2
             }
            },
            "type": "bar"
           }
          ],
          "barpolar": [
           {
            "marker": {
             "line": {
              "color": "#E5ECF6",
              "width": 0.5
             },
             "pattern": {
              "fillmode": "overlay",
              "size": 10,
              "solidity": 0.2
             }
            },
            "type": "barpolar"
           }
          ],
          "carpet": [
           {
            "aaxis": {
             "endlinecolor": "#2a3f5f",
             "gridcolor": "white",
             "linecolor": "white",
             "minorgridcolor": "white",
             "startlinecolor": "#2a3f5f"
            },
            "baxis": {
             "endlinecolor": "#2a3f5f",
             "gridcolor": "white",
             "linecolor": "white",
             "minorgridcolor": "white",
             "startlinecolor": "#2a3f5f"
            },
            "type": "carpet"
           }
          ],
          "choropleth": [
           {
            "colorbar": {
             "outlinewidth": 0,
             "ticks": ""
            },
            "type": "choropleth"
           }
          ],
          "contour": [
           {
            "colorbar": {
             "outlinewidth": 0,
             "ticks": ""
            },
            "colorscale": [
             [
              0,
              "#0d0887"
             ],
             [
              0.1111111111111111,
              "#46039f"
             ],
             [
              0.2222222222222222,
              "#7201a8"
             ],
             [
              0.3333333333333333,
              "#9c179e"
             ],
             [
              0.4444444444444444,
              "#bd3786"
             ],
             [
              0.5555555555555556,
              "#d8576b"
             ],
             [
              0.6666666666666666,
              "#ed7953"
             ],
             [
              0.7777777777777778,
              "#fb9f3a"
             ],
             [
              0.8888888888888888,
              "#fdca26"
             ],
             [
              1,
              "#f0f921"
             ]
            ],
            "type": "contour"
           }
          ],
          "contourcarpet": [
           {
            "colorbar": {
             "outlinewidth": 0,
             "ticks": ""
            },
            "type": "contourcarpet"
           }
          ],
          "heatmap": [
           {
            "colorbar": {
             "outlinewidth": 0,
             "ticks": ""
            },
            "colorscale": [
             [
              0,
              "#0d0887"
             ],
             [
              0.1111111111111111,
              "#46039f"
             ],
             [
              0.2222222222222222,
              "#7201a8"
             ],
             [
              0.3333333333333333,
              "#9c179e"
             ],
             [
              0.4444444444444444,
              "#bd3786"
             ],
             [
              0.5555555555555556,
              "#d8576b"
             ],
             [
              0.6666666666666666,
              "#ed7953"
             ],
             [
              0.7777777777777778,
              "#fb9f3a"
             ],
             [
              0.8888888888888888,
              "#fdca26"
             ],
             [
              1,
              "#f0f921"
             ]
            ],
            "type": "heatmap"
           }
          ],
          "heatmapgl": [
           {
            "colorbar": {
             "outlinewidth": 0,
             "ticks": ""
            },
            "colorscale": [
             [
              0,
              "#0d0887"
             ],
             [
              0.1111111111111111,
              "#46039f"
             ],
             [
              0.2222222222222222,
              "#7201a8"
             ],
             [
              0.3333333333333333,
              "#9c179e"
             ],
             [
              0.4444444444444444,
              "#bd3786"
             ],
             [
              0.5555555555555556,
              "#d8576b"
             ],
             [
              0.6666666666666666,
              "#ed7953"
             ],
             [
              0.7777777777777778,
              "#fb9f3a"
             ],
             [
              0.8888888888888888,
              "#fdca26"
             ],
             [
              1,
              "#f0f921"
             ]
            ],
            "type": "heatmapgl"
           }
          ],
          "histogram": [
           {
            "marker": {
             "pattern": {
              "fillmode": "overlay",
              "size": 10,
              "solidity": 0.2
             }
            },
            "type": "histogram"
           }
          ],
          "histogram2d": [
           {
            "colorbar": {
             "outlinewidth": 0,
             "ticks": ""
            },
            "colorscale": [
             [
              0,
              "#0d0887"
             ],
             [
              0.1111111111111111,
              "#46039f"
             ],
             [
              0.2222222222222222,
              "#7201a8"
             ],
             [
              0.3333333333333333,
              "#9c179e"
             ],
             [
              0.4444444444444444,
              "#bd3786"
             ],
             [
              0.5555555555555556,
              "#d8576b"
             ],
             [
              0.6666666666666666,
              "#ed7953"
             ],
             [
              0.7777777777777778,
              "#fb9f3a"
             ],
             [
              0.8888888888888888,
              "#fdca26"
             ],
             [
              1,
              "#f0f921"
             ]
            ],
            "type": "histogram2d"
           }
          ],
          "histogram2dcontour": [
           {
            "colorbar": {
             "outlinewidth": 0,
             "ticks": ""
            },
            "colorscale": [
             [
              0,
              "#0d0887"
             ],
             [
              0.1111111111111111,
              "#46039f"
             ],
             [
              0.2222222222222222,
              "#7201a8"
             ],
             [
              0.3333333333333333,
              "#9c179e"
             ],
             [
              0.4444444444444444,
              "#bd3786"
             ],
             [
              0.5555555555555556,
              "#d8576b"
             ],
             [
              0.6666666666666666,
              "#ed7953"
             ],
             [
              0.7777777777777778,
              "#fb9f3a"
             ],
             [
              0.8888888888888888,
              "#fdca26"
             ],
             [
              1,
              "#f0f921"
             ]
            ],
            "type": "histogram2dcontour"
           }
          ],
          "mesh3d": [
           {
            "colorbar": {
             "outlinewidth": 0,
             "ticks": ""
            },
            "type": "mesh3d"
           }
          ],
          "parcoords": [
           {
            "line": {
             "colorbar": {
              "outlinewidth": 0,
              "ticks": ""
             }
            },
            "type": "parcoords"
           }
          ],
          "pie": [
           {
            "automargin": true,
            "type": "pie"
           }
          ],
          "scatter": [
           {
            "fillpattern": {
             "fillmode": "overlay",
             "size": 10,
             "solidity": 0.2
            },
            "type": "scatter"
           }
          ],
          "scatter3d": [
           {
            "line": {
             "colorbar": {
              "outlinewidth": 0,
              "ticks": ""
             }
            },
            "marker": {
             "colorbar": {
              "outlinewidth": 0,
              "ticks": ""
             }
            },
            "type": "scatter3d"
           }
          ],
          "scattercarpet": [
           {
            "marker": {
             "colorbar": {
              "outlinewidth": 0,
              "ticks": ""
             }
            },
            "type": "scattercarpet"
           }
          ],
          "scattergeo": [
           {
            "marker": {
             "colorbar": {
              "outlinewidth": 0,
              "ticks": ""
             }
            },
            "type": "scattergeo"
           }
          ],
          "scattergl": [
           {
            "marker": {
             "colorbar": {
              "outlinewidth": 0,
              "ticks": ""
             }
            },
            "type": "scattergl"
           }
          ],
          "scattermapbox": [
           {
            "marker": {
             "colorbar": {
              "outlinewidth": 0,
              "ticks": ""
             }
            },
            "type": "scattermapbox"
           }
          ],
          "scatterpolar": [
           {
            "marker": {
             "colorbar": {
              "outlinewidth": 0,
              "ticks": ""
             }
            },
            "type": "scatterpolar"
           }
          ],
          "scatterpolargl": [
           {
            "marker": {
             "colorbar": {
              "outlinewidth": 0,
              "ticks": ""
             }
            },
            "type": "scatterpolargl"
           }
          ],
          "scatterternary": [
           {
            "marker": {
             "colorbar": {
              "outlinewidth": 0,
              "ticks": ""
             }
            },
            "type": "scatterternary"
           }
          ],
          "surface": [
           {
            "colorbar": {
             "outlinewidth": 0,
             "ticks": ""
            },
            "colorscale": [
             [
              0,
              "#0d0887"
             ],
             [
              0.1111111111111111,
              "#46039f"
             ],
             [
              0.2222222222222222,
              "#7201a8"
             ],
             [
              0.3333333333333333,
              "#9c179e"
             ],
             [
              0.4444444444444444,
              "#bd3786"
             ],
             [
              0.5555555555555556,
              "#d8576b"
             ],
             [
              0.6666666666666666,
              "#ed7953"
             ],
             [
              0.7777777777777778,
              "#fb9f3a"
             ],
             [
              0.8888888888888888,
              "#fdca26"
             ],
             [
              1,
              "#f0f921"
             ]
            ],
            "type": "surface"
           }
          ],
          "table": [
           {
            "cells": {
             "fill": {
              "color": "#EBF0F8"
             },
             "line": {
              "color": "white"
             }
            },
            "header": {
             "fill": {
              "color": "#C8D4E3"
             },
             "line": {
              "color": "white"
             }
            },
            "type": "table"
           }
          ]
         },
         "layout": {
          "annotationdefaults": {
           "arrowcolor": "#2a3f5f",
           "arrowhead": 0,
           "arrowwidth": 1
          },
          "autotypenumbers": "strict",
          "coloraxis": {
           "colorbar": {
            "outlinewidth": 0,
            "ticks": ""
           }
          },
          "colorscale": {
           "diverging": [
            [
             0,
             "#8e0152"
            ],
            [
             0.1,
             "#c51b7d"
            ],
            [
             0.2,
             "#de77ae"
            ],
            [
             0.3,
             "#f1b6da"
            ],
            [
             0.4,
             "#fde0ef"
            ],
            [
             0.5,
             "#f7f7f7"
            ],
            [
             0.6,
             "#e6f5d0"
            ],
            [
             0.7,
             "#b8e186"
            ],
            [
             0.8,
             "#7fbc41"
            ],
            [
             0.9,
             "#4d9221"
            ],
            [
             1,
             "#276419"
            ]
           ],
           "sequential": [
            [
             0,
             "#0d0887"
            ],
            [
             0.1111111111111111,
             "#46039f"
            ],
            [
             0.2222222222222222,
             "#7201a8"
            ],
            [
             0.3333333333333333,
             "#9c179e"
            ],
            [
             0.4444444444444444,
             "#bd3786"
            ],
            [
             0.5555555555555556,
             "#d8576b"
            ],
            [
             0.6666666666666666,
             "#ed7953"
            ],
            [
             0.7777777777777778,
             "#fb9f3a"
            ],
            [
             0.8888888888888888,
             "#fdca26"
            ],
            [
             1,
             "#f0f921"
            ]
           ],
           "sequentialminus": [
            [
             0,
             "#0d0887"
            ],
            [
             0.1111111111111111,
             "#46039f"
            ],
            [
             0.2222222222222222,
             "#7201a8"
            ],
            [
             0.3333333333333333,
             "#9c179e"
            ],
            [
             0.4444444444444444,
             "#bd3786"
            ],
            [
             0.5555555555555556,
             "#d8576b"
            ],
            [
             0.6666666666666666,
             "#ed7953"
            ],
            [
             0.7777777777777778,
             "#fb9f3a"
            ],
            [
             0.8888888888888888,
             "#fdca26"
            ],
            [
             1,
             "#f0f921"
            ]
           ]
          },
          "colorway": [
           "#636efa",
           "#EF553B",
           "#00cc96",
           "#ab63fa",
           "#FFA15A",
           "#19d3f3",
           "#FF6692",
           "#B6E880",
           "#FF97FF",
           "#FECB52"
          ],
          "font": {
           "color": "#2a3f5f"
          },
          "geo": {
           "bgcolor": "white",
           "lakecolor": "white",
           "landcolor": "#E5ECF6",
           "showlakes": true,
           "showland": true,
           "subunitcolor": "white"
          },
          "hoverlabel": {
           "align": "left"
          },
          "hovermode": "closest",
          "mapbox": {
           "style": "light"
          },
          "paper_bgcolor": "white",
          "plot_bgcolor": "#E5ECF6",
          "polar": {
           "angularaxis": {
            "gridcolor": "white",
            "linecolor": "white",
            "ticks": ""
           },
           "bgcolor": "#E5ECF6",
           "radialaxis": {
            "gridcolor": "white",
            "linecolor": "white",
            "ticks": ""
           }
          },
          "scene": {
           "xaxis": {
            "backgroundcolor": "#E5ECF6",
            "gridcolor": "white",
            "gridwidth": 2,
            "linecolor": "white",
            "showbackground": true,
            "ticks": "",
            "zerolinecolor": "white"
           },
           "yaxis": {
            "backgroundcolor": "#E5ECF6",
            "gridcolor": "white",
            "gridwidth": 2,
            "linecolor": "white",
            "showbackground": true,
            "ticks": "",
            "zerolinecolor": "white"
           },
           "zaxis": {
            "backgroundcolor": "#E5ECF6",
            "gridcolor": "white",
            "gridwidth": 2,
            "linecolor": "white",
            "showbackground": true,
            "ticks": "",
            "zerolinecolor": "white"
           }
          },
          "shapedefaults": {
           "line": {
            "color": "#2a3f5f"
           }
          },
          "ternary": {
           "aaxis": {
            "gridcolor": "white",
            "linecolor": "white",
            "ticks": ""
           },
           "baxis": {
            "gridcolor": "white",
            "linecolor": "white",
            "ticks": ""
           },
           "bgcolor": "#E5ECF6",
           "caxis": {
            "gridcolor": "white",
            "linecolor": "white",
            "ticks": ""
           }
          },
          "title": {
           "x": 0.05
          },
          "xaxis": {
           "automargin": true,
           "gridcolor": "white",
           "linecolor": "white",
           "ticks": "",
           "title": {
            "standoff": 15
           },
           "zerolinecolor": "white",
           "zerolinewidth": 2
          },
          "yaxis": {
           "automargin": true,
           "gridcolor": "white",
           "linecolor": "white",
           "ticks": "",
           "title": {
            "standoff": 15
           },
           "zerolinecolor": "white",
           "zerolinewidth": 2
          }
         }
        },
        "title": {
         "text": "Correlation between ABV and Rating over time",
         "x": 0.5
        },
        "width": 800,
        "xaxis": {
         "title": {
          "text": "Year"
         }
        },
        "yaxis": {
         "title": {
          "text": "Correlation"
         }
        }
       }
      }
     },
     "metadata": {},
     "output_type": "display_data"
    }
   ],
   "source": [
    "# Plot the correlation between ABV and average rating\n",
    "abv_pres.plot_corr_abv_ratings(beer_ratings)"
   ]
  },
  {
   "cell_type": "code",
   "execution_count": 32,
   "metadata": {},
   "outputs": [
    {
     "data": {
      "application/vnd.plotly.v1+json": {
       "config": {
        "plotlyServerURL": "https://plot.ly"
       },
       "data": [
        {
         "mode": "lines+markers",
         "type": "scatter",
         "x": [
          2002,
          2003,
          2004,
          2005,
          2006,
          2007,
          2008,
          2009,
          2010,
          2011,
          2012,
          2013,
          2014,
          2015,
          2016
         ],
         "y": [
          5.748887468741317,
          5.961051722347566,
          6.064168371914567,
          6.21019732818128,
          6.249145727424817,
          6.381375701760849,
          6.474545218866858,
          6.569185172558075,
          6.627652038532646,
          6.562377763137798,
          6.557575219661601,
          6.645922670533691,
          6.554826430179398,
          6.532230696309444,
          6.548210636152419
         ]
        }
       ],
       "layout": {
        "height": 600,
        "paper_bgcolor": "rgb(255,255,255)",
        "plot_bgcolor": "rgb(255,255,255)",
        "template": {
         "data": {
          "bar": [
           {
            "error_x": {
             "color": "#2a3f5f"
            },
            "error_y": {
             "color": "#2a3f5f"
            },
            "marker": {
             "line": {
              "color": "#E5ECF6",
              "width": 0.5
             },
             "pattern": {
              "fillmode": "overlay",
              "size": 10,
              "solidity": 0.2
             }
            },
            "type": "bar"
           }
          ],
          "barpolar": [
           {
            "marker": {
             "line": {
              "color": "#E5ECF6",
              "width": 0.5
             },
             "pattern": {
              "fillmode": "overlay",
              "size": 10,
              "solidity": 0.2
             }
            },
            "type": "barpolar"
           }
          ],
          "carpet": [
           {
            "aaxis": {
             "endlinecolor": "#2a3f5f",
             "gridcolor": "white",
             "linecolor": "white",
             "minorgridcolor": "white",
             "startlinecolor": "#2a3f5f"
            },
            "baxis": {
             "endlinecolor": "#2a3f5f",
             "gridcolor": "white",
             "linecolor": "white",
             "minorgridcolor": "white",
             "startlinecolor": "#2a3f5f"
            },
            "type": "carpet"
           }
          ],
          "choropleth": [
           {
            "colorbar": {
             "outlinewidth": 0,
             "ticks": ""
            },
            "type": "choropleth"
           }
          ],
          "contour": [
           {
            "colorbar": {
             "outlinewidth": 0,
             "ticks": ""
            },
            "colorscale": [
             [
              0,
              "#0d0887"
             ],
             [
              0.1111111111111111,
              "#46039f"
             ],
             [
              0.2222222222222222,
              "#7201a8"
             ],
             [
              0.3333333333333333,
              "#9c179e"
             ],
             [
              0.4444444444444444,
              "#bd3786"
             ],
             [
              0.5555555555555556,
              "#d8576b"
             ],
             [
              0.6666666666666666,
              "#ed7953"
             ],
             [
              0.7777777777777778,
              "#fb9f3a"
             ],
             [
              0.8888888888888888,
              "#fdca26"
             ],
             [
              1,
              "#f0f921"
             ]
            ],
            "type": "contour"
           }
          ],
          "contourcarpet": [
           {
            "colorbar": {
             "outlinewidth": 0,
             "ticks": ""
            },
            "type": "contourcarpet"
           }
          ],
          "heatmap": [
           {
            "colorbar": {
             "outlinewidth": 0,
             "ticks": ""
            },
            "colorscale": [
             [
              0,
              "#0d0887"
             ],
             [
              0.1111111111111111,
              "#46039f"
             ],
             [
              0.2222222222222222,
              "#7201a8"
             ],
             [
              0.3333333333333333,
              "#9c179e"
             ],
             [
              0.4444444444444444,
              "#bd3786"
             ],
             [
              0.5555555555555556,
              "#d8576b"
             ],
             [
              0.6666666666666666,
              "#ed7953"
             ],
             [
              0.7777777777777778,
              "#fb9f3a"
             ],
             [
              0.8888888888888888,
              "#fdca26"
             ],
             [
              1,
              "#f0f921"
             ]
            ],
            "type": "heatmap"
           }
          ],
          "heatmapgl": [
           {
            "colorbar": {
             "outlinewidth": 0,
             "ticks": ""
            },
            "colorscale": [
             [
              0,
              "#0d0887"
             ],
             [
              0.1111111111111111,
              "#46039f"
             ],
             [
              0.2222222222222222,
              "#7201a8"
             ],
             [
              0.3333333333333333,
              "#9c179e"
             ],
             [
              0.4444444444444444,
              "#bd3786"
             ],
             [
              0.5555555555555556,
              "#d8576b"
             ],
             [
              0.6666666666666666,
              "#ed7953"
             ],
             [
              0.7777777777777778,
              "#fb9f3a"
             ],
             [
              0.8888888888888888,
              "#fdca26"
             ],
             [
              1,
              "#f0f921"
             ]
            ],
            "type": "heatmapgl"
           }
          ],
          "histogram": [
           {
            "marker": {
             "pattern": {
              "fillmode": "overlay",
              "size": 10,
              "solidity": 0.2
             }
            },
            "type": "histogram"
           }
          ],
          "histogram2d": [
           {
            "colorbar": {
             "outlinewidth": 0,
             "ticks": ""
            },
            "colorscale": [
             [
              0,
              "#0d0887"
             ],
             [
              0.1111111111111111,
              "#46039f"
             ],
             [
              0.2222222222222222,
              "#7201a8"
             ],
             [
              0.3333333333333333,
              "#9c179e"
             ],
             [
              0.4444444444444444,
              "#bd3786"
             ],
             [
              0.5555555555555556,
              "#d8576b"
             ],
             [
              0.6666666666666666,
              "#ed7953"
             ],
             [
              0.7777777777777778,
              "#fb9f3a"
             ],
             [
              0.8888888888888888,
              "#fdca26"
             ],
             [
              1,
              "#f0f921"
             ]
            ],
            "type": "histogram2d"
           }
          ],
          "histogram2dcontour": [
           {
            "colorbar": {
             "outlinewidth": 0,
             "ticks": ""
            },
            "colorscale": [
             [
              0,
              "#0d0887"
             ],
             [
              0.1111111111111111,
              "#46039f"
             ],
             [
              0.2222222222222222,
              "#7201a8"
             ],
             [
              0.3333333333333333,
              "#9c179e"
             ],
             [
              0.4444444444444444,
              "#bd3786"
             ],
             [
              0.5555555555555556,
              "#d8576b"
             ],
             [
              0.6666666666666666,
              "#ed7953"
             ],
             [
              0.7777777777777778,
              "#fb9f3a"
             ],
             [
              0.8888888888888888,
              "#fdca26"
             ],
             [
              1,
              "#f0f921"
             ]
            ],
            "type": "histogram2dcontour"
           }
          ],
          "mesh3d": [
           {
            "colorbar": {
             "outlinewidth": 0,
             "ticks": ""
            },
            "type": "mesh3d"
           }
          ],
          "parcoords": [
           {
            "line": {
             "colorbar": {
              "outlinewidth": 0,
              "ticks": ""
             }
            },
            "type": "parcoords"
           }
          ],
          "pie": [
           {
            "automargin": true,
            "type": "pie"
           }
          ],
          "scatter": [
           {
            "fillpattern": {
             "fillmode": "overlay",
             "size": 10,
             "solidity": 0.2
            },
            "type": "scatter"
           }
          ],
          "scatter3d": [
           {
            "line": {
             "colorbar": {
              "outlinewidth": 0,
              "ticks": ""
             }
            },
            "marker": {
             "colorbar": {
              "outlinewidth": 0,
              "ticks": ""
             }
            },
            "type": "scatter3d"
           }
          ],
          "scattercarpet": [
           {
            "marker": {
             "colorbar": {
              "outlinewidth": 0,
              "ticks": ""
             }
            },
            "type": "scattercarpet"
           }
          ],
          "scattergeo": [
           {
            "marker": {
             "colorbar": {
              "outlinewidth": 0,
              "ticks": ""
             }
            },
            "type": "scattergeo"
           }
          ],
          "scattergl": [
           {
            "marker": {
             "colorbar": {
              "outlinewidth": 0,
              "ticks": ""
             }
            },
            "type": "scattergl"
           }
          ],
          "scattermapbox": [
           {
            "marker": {
             "colorbar": {
              "outlinewidth": 0,
              "ticks": ""
             }
            },
            "type": "scattermapbox"
           }
          ],
          "scatterpolar": [
           {
            "marker": {
             "colorbar": {
              "outlinewidth": 0,
              "ticks": ""
             }
            },
            "type": "scatterpolar"
           }
          ],
          "scatterpolargl": [
           {
            "marker": {
             "colorbar": {
              "outlinewidth": 0,
              "ticks": ""
             }
            },
            "type": "scatterpolargl"
           }
          ],
          "scatterternary": [
           {
            "marker": {
             "colorbar": {
              "outlinewidth": 0,
              "ticks": ""
             }
            },
            "type": "scatterternary"
           }
          ],
          "surface": [
           {
            "colorbar": {
             "outlinewidth": 0,
             "ticks": ""
            },
            "colorscale": [
             [
              0,
              "#0d0887"
             ],
             [
              0.1111111111111111,
              "#46039f"
             ],
             [
              0.2222222222222222,
              "#7201a8"
             ],
             [
              0.3333333333333333,
              "#9c179e"
             ],
             [
              0.4444444444444444,
              "#bd3786"
             ],
             [
              0.5555555555555556,
              "#d8576b"
             ],
             [
              0.6666666666666666,
              "#ed7953"
             ],
             [
              0.7777777777777778,
              "#fb9f3a"
             ],
             [
              0.8888888888888888,
              "#fdca26"
             ],
             [
              1,
              "#f0f921"
             ]
            ],
            "type": "surface"
           }
          ],
          "table": [
           {
            "cells": {
             "fill": {
              "color": "#EBF0F8"
             },
             "line": {
              "color": "white"
             }
            },
            "header": {
             "fill": {
              "color": "#C8D4E3"
             },
             "line": {
              "color": "white"
             }
            },
            "type": "table"
           }
          ]
         },
         "layout": {
          "annotationdefaults": {
           "arrowcolor": "#2a3f5f",
           "arrowhead": 0,
           "arrowwidth": 1
          },
          "autotypenumbers": "strict",
          "coloraxis": {
           "colorbar": {
            "outlinewidth": 0,
            "ticks": ""
           }
          },
          "colorscale": {
           "diverging": [
            [
             0,
             "#8e0152"
            ],
            [
             0.1,
             "#c51b7d"
            ],
            [
             0.2,
             "#de77ae"
            ],
            [
             0.3,
             "#f1b6da"
            ],
            [
             0.4,
             "#fde0ef"
            ],
            [
             0.5,
             "#f7f7f7"
            ],
            [
             0.6,
             "#e6f5d0"
            ],
            [
             0.7,
             "#b8e186"
            ],
            [
             0.8,
             "#7fbc41"
            ],
            [
             0.9,
             "#4d9221"
            ],
            [
             1,
             "#276419"
            ]
           ],
           "sequential": [
            [
             0,
             "#0d0887"
            ],
            [
             0.1111111111111111,
             "#46039f"
            ],
            [
             0.2222222222222222,
             "#7201a8"
            ],
            [
             0.3333333333333333,
             "#9c179e"
            ],
            [
             0.4444444444444444,
             "#bd3786"
            ],
            [
             0.5555555555555556,
             "#d8576b"
            ],
            [
             0.6666666666666666,
             "#ed7953"
            ],
            [
             0.7777777777777778,
             "#fb9f3a"
            ],
            [
             0.8888888888888888,
             "#fdca26"
            ],
            [
             1,
             "#f0f921"
            ]
           ],
           "sequentialminus": [
            [
             0,
             "#0d0887"
            ],
            [
             0.1111111111111111,
             "#46039f"
            ],
            [
             0.2222222222222222,
             "#7201a8"
            ],
            [
             0.3333333333333333,
             "#9c179e"
            ],
            [
             0.4444444444444444,
             "#bd3786"
            ],
            [
             0.5555555555555556,
             "#d8576b"
            ],
            [
             0.6666666666666666,
             "#ed7953"
            ],
            [
             0.7777777777777778,
             "#fb9f3a"
            ],
            [
             0.8888888888888888,
             "#fdca26"
            ],
            [
             1,
             "#f0f921"
            ]
           ]
          },
          "colorway": [
           "#636efa",
           "#EF553B",
           "#00cc96",
           "#ab63fa",
           "#FFA15A",
           "#19d3f3",
           "#FF6692",
           "#B6E880",
           "#FF97FF",
           "#FECB52"
          ],
          "font": {
           "color": "#2a3f5f"
          },
          "geo": {
           "bgcolor": "white",
           "lakecolor": "white",
           "landcolor": "#E5ECF6",
           "showlakes": true,
           "showland": true,
           "subunitcolor": "white"
          },
          "hoverlabel": {
           "align": "left"
          },
          "hovermode": "closest",
          "mapbox": {
           "style": "light"
          },
          "paper_bgcolor": "white",
          "plot_bgcolor": "#E5ECF6",
          "polar": {
           "angularaxis": {
            "gridcolor": "white",
            "linecolor": "white",
            "ticks": ""
           },
           "bgcolor": "#E5ECF6",
           "radialaxis": {
            "gridcolor": "white",
            "linecolor": "white",
            "ticks": ""
           }
          },
          "scene": {
           "xaxis": {
            "backgroundcolor": "#E5ECF6",
            "gridcolor": "white",
            "gridwidth": 2,
            "linecolor": "white",
            "showbackground": true,
            "ticks": "",
            "zerolinecolor": "white"
           },
           "yaxis": {
            "backgroundcolor": "#E5ECF6",
            "gridcolor": "white",
            "gridwidth": 2,
            "linecolor": "white",
            "showbackground": true,
            "ticks": "",
            "zerolinecolor": "white"
           },
           "zaxis": {
            "backgroundcolor": "#E5ECF6",
            "gridcolor": "white",
            "gridwidth": 2,
            "linecolor": "white",
            "showbackground": true,
            "ticks": "",
            "zerolinecolor": "white"
           }
          },
          "shapedefaults": {
           "line": {
            "color": "#2a3f5f"
           }
          },
          "ternary": {
           "aaxis": {
            "gridcolor": "white",
            "linecolor": "white",
            "ticks": ""
           },
           "baxis": {
            "gridcolor": "white",
            "linecolor": "white",
            "ticks": ""
           },
           "bgcolor": "#E5ECF6",
           "caxis": {
            "gridcolor": "white",
            "linecolor": "white",
            "ticks": ""
           }
          },
          "title": {
           "x": 0.05
          },
          "xaxis": {
           "automargin": true,
           "gridcolor": "white",
           "linecolor": "white",
           "ticks": "",
           "title": {
            "standoff": 15
           },
           "zerolinecolor": "white",
           "zerolinewidth": 2
          },
          "yaxis": {
           "automargin": true,
           "gridcolor": "white",
           "linecolor": "white",
           "ticks": "",
           "title": {
            "standoff": 15
           },
           "zerolinecolor": "white",
           "zerolinewidth": 2
          }
         }
        },
        "title": {
         "text": "Average ABV over time",
         "x": 0.5
        },
        "width": 800,
        "xaxis": {
         "title": {
          "text": "Year"
         }
        },
        "yaxis": {
         "title": {
          "text": "ABV"
         }
        }
       }
      }
     },
     "metadata": {},
     "output_type": "display_data"
    }
   ],
   "source": [
    "# Plot the average ABV over time\n",
    "abv_pres.plot_abv_evolution()"
   ]
  },
  {
   "cell_type": "markdown",
   "metadata": {},
   "source": [
    "In the following plot we are going to consider only some of the countries studied so far. This is due to the fact that:\n",
    "- We are going to consider only countries that have at least one rating per year (to avoid to see them comparing and then disappearing from the plot over the years). For this reason countries that have a significant number of reviews might be missing if they don't satisfy this condition.\n",
    "- A significant number of reviews (approximately 160 thousand reviews) doesn't have any information regarding the ABV. This might cause that some countries have the minimum number of reviews needed to be considered in the analysis but not enough reviews with the ABV information. We have chosen to keep these reviews even if they didn't have this information to have more data for the other analysis. Additionally the most significant countries (european ones and US) are not affected by this issue."
   ]
  },
  {
   "cell_type": "code",
   "execution_count": 33,
   "metadata": {},
   "outputs": [
    {
     "data": {
      "application/vnd.plotly.v1+json": {
       "config": {
        "plotlyServerURL": "https://plot.ly"
       },
       "data": [
        {
         "colorscale": [
          [
           0,
           "#440154"
          ],
          [
           0.1111111111111111,
           "#482878"
          ],
          [
           0.2222222222222222,
           "#3e4989"
          ],
          [
           0.3333333333333333,
           "#31688e"
          ],
          [
           0.4444444444444444,
           "#26828e"
          ],
          [
           0.5555555555555556,
           "#1f9e89"
          ],
          [
           0.6666666666666666,
           "#35b779"
          ],
          [
           0.7777777777777778,
           "#6ece58"
          ],
          [
           0.8888888888888888,
           "#b5de2b"
          ],
          [
           1,
           "#fde725"
          ]
         ],
         "locationmode": "country names",
         "locations": [
          "Australia",
          "Austria",
          "Belgium",
          "Brazil",
          "Canada",
          "Croatia",
          "Czech Republic",
          "Denmark",
          "Finland",
          "France",
          "Germany",
          "Iceland",
          "Italy",
          "Japan",
          "Netherlands",
          "New Zealand",
          "Norway",
          "Poland",
          "Portugal",
          "Singapore",
          "South Africa",
          "Spain",
          "Sweden",
          "Switzerland",
          "United Kingdom"
         ],
         "type": "choropleth",
         "z": [
          5.4753933434190625,
          4.93030303030303,
          6.715480895915679,
          4.525,
          5.612489222118088,
          5.066537216828479,
          5.5679476861167005,
          5.849176915799433,
          5.223584905660378,
          6.323148148148148,
          5.456775210084034,
          6.75,
          6.522222222222222,
          6.016263736263737,
          6.119330877839165,
          5.541379310344827,
          5.041428571428572,
          5.638031674208145,
          5.353140096618357,
          7.75,
          5.266666666666667,
          5.25,
          5.509798657718121,
          5.930337078651686,
          5.304788912579957
         ],
         "zmax": 8,
         "zmin": 4
        },
        {
         "colorscale": [
          [
           0,
           "#440154"
          ],
          [
           0.1111111111111111,
           "#482878"
          ],
          [
           0.2222222222222222,
           "#3e4989"
          ],
          [
           0.3333333333333333,
           "#31688e"
          ],
          [
           0.4444444444444444,
           "#26828e"
          ],
          [
           0.5555555555555556,
           "#1f9e89"
          ],
          [
           0.6666666666666666,
           "#35b779"
          ],
          [
           0.7777777777777778,
           "#6ece58"
          ],
          [
           0.8888888888888888,
           "#b5de2b"
          ],
          [
           1,
           "#fde725"
          ]
         ],
         "locationmode": "USA-states",
         "locations": [
          "AL",
          "AK",
          "AZ",
          "AR",
          "CA",
          "CO",
          "CT",
          "DE",
          "FL",
          "GA",
          "ID",
          "IL",
          "IN",
          "IA",
          "KS",
          "KY",
          "LA",
          "ME",
          "MD",
          "MA",
          "MI",
          "MN",
          "MS",
          "MO",
          "MT",
          "NE",
          "NV",
          "NH",
          "NJ",
          "NM",
          "NY",
          "NC",
          "ND",
          "OH",
          "OK",
          "OR",
          "PA",
          "RI",
          "SC",
          "SD",
          "TN",
          "TX",
          "UT",
          "VT",
          "VA",
          "WA",
          "WV",
          "WI",
          "WY"
         ],
         "type": "choropleth",
         "z": [
          5.918589743589743,
          5.751060606060606,
          5.983535856573705,
          5.08990099009901,
          5.936336458757983,
          5.911012728278916,
          5.810203873598369,
          6.6,
          5.761304347826087,
          6.034378265412748,
          5.303478260869565,
          5.904436821040595,
          5.962631578947368,
          5.80576341127923,
          6.100694006309149,
          5.561869158878505,
          5.2126714801444045,
          5.668181818181818,
          5.723827160493827,
          5.511079766536965,
          5.603278889342589,
          5.430496453900709,
          5.508421052631579,
          5.812612513721185,
          5.5754399999999995,
          5.027777777777778,
          5.775501618122978,
          6.004099462365591,
          5.954785949506038,
          6.78502994011976,
          5.808683510638298,
          5.704575411913814,
          6.05,
          5.627350203606748,
          5.1535714285714285,
          6.216162679425838,
          5.768434592227696,
          5.826315789473685,
          6.187222222222222,
          5.344347826086956,
          5.588491379310344,
          5.747380514705882,
          5.412881355932203,
          5.442857142857143,
          5.760178837555887,
          5.848772775991425,
          4.908169934640523,
          5.6124630776560265,
          4.825
         ],
         "zmax": 8,
         "zmin": 4
        }
       ],
       "frames": [
        {
         "data": [
          {
           "colorscale": [
            [
             0,
             "#440154"
            ],
            [
             0.1111111111111111,
             "#482878"
            ],
            [
             0.2222222222222222,
             "#3e4989"
            ],
            [
             0.3333333333333333,
             "#31688e"
            ],
            [
             0.4444444444444444,
             "#26828e"
            ],
            [
             0.5555555555555556,
             "#1f9e89"
            ],
            [
             0.6666666666666666,
             "#35b779"
            ],
            [
             0.7777777777777778,
             "#6ece58"
            ],
            [
             0.8888888888888888,
             "#b5de2b"
            ],
            [
             1,
             "#fde725"
            ]
           ],
           "locationmode": "country names",
           "locations": [
            "Australia",
            "Austria",
            "Belgium",
            "Brazil",
            "Canada",
            "Croatia",
            "Czech Republic",
            "Denmark",
            "Finland",
            "France",
            "Germany",
            "Iceland",
            "Italy",
            "Japan",
            "Netherlands",
            "New Zealand",
            "Norway",
            "Poland",
            "Portugal",
            "Singapore",
            "South Africa",
            "Spain",
            "Sweden",
            "Switzerland",
            "United Kingdom"
           ],
           "type": "choropleth",
           "z": [
            5.4753933434190625,
            4.93030303030303,
            6.715480895915679,
            4.525,
            5.612489222118088,
            5.066537216828479,
            5.5679476861167005,
            5.849176915799433,
            5.223584905660378,
            6.323148148148148,
            5.456775210084034,
            6.75,
            6.522222222222222,
            6.016263736263737,
            6.119330877839165,
            5.541379310344827,
            5.041428571428572,
            5.638031674208145,
            5.353140096618357,
            7.75,
            5.266666666666667,
            5.25,
            5.509798657718121,
            5.930337078651686,
            5.304788912579957
           ],
           "zmax": 8,
           "zmin": 4
          },
          {
           "colorscale": [
            [
             0,
             "#440154"
            ],
            [
             0.1111111111111111,
             "#482878"
            ],
            [
             0.2222222222222222,
             "#3e4989"
            ],
            [
             0.3333333333333333,
             "#31688e"
            ],
            [
             0.4444444444444444,
             "#26828e"
            ],
            [
             0.5555555555555556,
             "#1f9e89"
            ],
            [
             0.6666666666666666,
             "#35b779"
            ],
            [
             0.7777777777777778,
             "#6ece58"
            ],
            [
             0.8888888888888888,
             "#b5de2b"
            ],
            [
             1,
             "#fde725"
            ]
           ],
           "locationmode": "USA-states",
           "locations": [
            "AL",
            "AK",
            "AZ",
            "AR",
            "CA",
            "CO",
            "CT",
            "DE",
            "FL",
            "GA",
            "ID",
            "IL",
            "IN",
            "IA",
            "KS",
            "KY",
            "LA",
            "ME",
            "MD",
            "MA",
            "MI",
            "MN",
            "MS",
            "MO",
            "MT",
            "NE",
            "NV",
            "NH",
            "NJ",
            "NM",
            "NY",
            "NC",
            "ND",
            "OH",
            "OK",
            "OR",
            "PA",
            "RI",
            "SC",
            "SD",
            "TN",
            "TX",
            "UT",
            "VT",
            "VA",
            "WA",
            "WV",
            "WI",
            "WY"
           ],
           "type": "choropleth",
           "z": [
            5.918589743589743,
            5.751060606060606,
            5.983535856573705,
            5.08990099009901,
            5.936336458757983,
            5.911012728278916,
            5.810203873598369,
            6.6,
            5.761304347826087,
            6.034378265412748,
            5.303478260869565,
            5.904436821040595,
            5.962631578947368,
            5.80576341127923,
            6.100694006309149,
            5.561869158878505,
            5.2126714801444045,
            5.668181818181818,
            5.723827160493827,
            5.511079766536965,
            5.603278889342589,
            5.430496453900709,
            5.508421052631579,
            5.812612513721185,
            5.5754399999999995,
            5.027777777777778,
            5.775501618122978,
            6.004099462365591,
            5.954785949506038,
            6.78502994011976,
            5.808683510638298,
            5.704575411913814,
            6.05,
            5.627350203606748,
            5.1535714285714285,
            6.216162679425838,
            5.768434592227696,
            5.826315789473685,
            6.187222222222222,
            5.344347826086956,
            5.588491379310344,
            5.747380514705882,
            5.412881355932203,
            5.442857142857143,
            5.760178837555887,
            5.848772775991425,
            4.908169934640523,
            5.6124630776560265,
            4.825
           ],
           "zmax": 8,
           "zmin": 4
          }
         ],
         "name": "2002"
        },
        {
         "data": [
          {
           "colorscale": [
            [
             0,
             "#440154"
            ],
            [
             0.1111111111111111,
             "#482878"
            ],
            [
             0.2222222222222222,
             "#3e4989"
            ],
            [
             0.3333333333333333,
             "#31688e"
            ],
            [
             0.4444444444444444,
             "#26828e"
            ],
            [
             0.5555555555555556,
             "#1f9e89"
            ],
            [
             0.6666666666666666,
             "#35b779"
            ],
            [
             0.7777777777777778,
             "#6ece58"
            ],
            [
             0.8888888888888888,
             "#b5de2b"
            ],
            [
             1,
             "#fde725"
            ]
           ],
           "locationmode": "country names",
           "locations": [
            "Australia",
            "Austria",
            "Belgium",
            "Brazil",
            "Canada",
            "Croatia",
            "Czech Republic",
            "Denmark",
            "Finland",
            "France",
            "Germany",
            "Iceland",
            "Italy",
            "Japan",
            "Netherlands",
            "New Zealand",
            "Norway",
            "Poland",
            "Portugal",
            "Singapore",
            "South Africa",
            "Spain",
            "Sweden",
            "Switzerland",
            "United Kingdom"
           ],
           "type": "choropleth",
           "z": [
            5.2267412995862745,
            5.288524590163934,
            6.631809672386895,
            5.580000000000001,
            5.736250630103841,
            5.040479041916168,
            5.39695895522388,
            5.763452008660091,
            5.6150199203187245,
            5.71063829787234,
            5.593861293345829,
            6.0671661237785015,
            6.163928571428571,
            6.482830188679245,
            6.056922480620155,
            5.559459459459459,
            5.03774358974359,
            5.901914498141264,
            6.293220338983051,
            5.5636363636363635,
            5.5,
            6.050000000000001,
            5.534177370030581,
            5.968431771894093,
            5.08982982982983
           ],
           "zmax": 8,
           "zmin": 4
          },
          {
           "colorscale": [
            [
             0,
             "#440154"
            ],
            [
             0.1111111111111111,
             "#482878"
            ],
            [
             0.2222222222222222,
             "#3e4989"
            ],
            [
             0.3333333333333333,
             "#31688e"
            ],
            [
             0.4444444444444444,
             "#26828e"
            ],
            [
             0.5555555555555556,
             "#1f9e89"
            ],
            [
             0.6666666666666666,
             "#35b779"
            ],
            [
             0.7777777777777778,
             "#6ece58"
            ],
            [
             0.8888888888888888,
             "#b5de2b"
            ],
            [
             1,
             "#fde725"
            ]
           ],
           "locationmode": "USA-states",
           "locations": [
            "AL",
            "AK",
            "AZ",
            "AR",
            "CA",
            "CO",
            "CT",
            "DE",
            "FL",
            "GA",
            "ID",
            "IL",
            "IN",
            "IA",
            "KS",
            "KY",
            "LA",
            "ME",
            "MD",
            "MA",
            "MI",
            "MN",
            "MS",
            "MO",
            "MT",
            "NE",
            "NV",
            "NH",
            "NJ",
            "NM",
            "NY",
            "NC",
            "ND",
            "OH",
            "OK",
            "OR",
            "PA",
            "RI",
            "SC",
            "SD",
            "TN",
            "TX",
            "UT",
            "VT",
            "VA",
            "WA",
            "WV",
            "WI",
            "WY"
           ],
           "type": "choropleth",
           "z": [
            5.784433497536946,
            6.205801886792453,
            6.183132427843803,
            4.83578947368421,
            6.382609038656598,
            6.267772621809744,
            5.878234323432343,
            9.040000000000001,
            5.909983907306083,
            6.35767578125,
            6.0799574468085105,
            6.041139641224059,
            6.0548802466208205,
            6.179359190556492,
            6.570112359550562,
            5.970966542750929,
            5.582523364485982,
            5.487457627118644,
            6.239772549019608,
            5.883748627881449,
            5.91941578620261,
            5.96353001017294,
            6.432250922509225,
            5.976059210526317,
            5.891320754716982,
            5.3518823529411765,
            5.535134575569358,
            5.963888888888889,
            6.088854415274463,
            6.500075187969925,
            6.146613402061856,
            6.014195624195624,
            5.592307692307693,
            6.261888412017167,
            5.864120879120879,
            6.234101778050276,
            5.88047498270694,
            6.16,
            6.315781512605041,
            5.17225,
            5.824342218400688,
            6.1705105438401775,
            6.929906542056075,
            6.165217391304348,
            6.085889996977938,
            6.222766651141128,
            5.351746031746032,
            6.049652360515021,
            8.1
           ],
           "zmax": 8,
           "zmin": 4
          }
         ],
         "name": "2003"
        },
        {
         "data": [
          {
           "colorscale": [
            [
             0,
             "#440154"
            ],
            [
             0.1111111111111111,
             "#482878"
            ],
            [
             0.2222222222222222,
             "#3e4989"
            ],
            [
             0.3333333333333333,
             "#31688e"
            ],
            [
             0.4444444444444444,
             "#26828e"
            ],
            [
             0.5555555555555556,
             "#1f9e89"
            ],
            [
             0.6666666666666666,
             "#35b779"
            ],
            [
             0.7777777777777778,
             "#6ece58"
            ],
            [
             0.8888888888888888,
             "#b5de2b"
            ],
            [
             1,
             "#fde725"
            ]
           ],
           "locationmode": "country names",
           "locations": [
            "Australia",
            "Austria",
            "Belgium",
            "Brazil",
            "Canada",
            "Croatia",
            "Czech Republic",
            "Denmark",
            "Finland",
            "France",
            "Germany",
            "Iceland",
            "Italy",
            "Japan",
            "Netherlands",
            "New Zealand",
            "Norway",
            "Poland",
            "Portugal",
            "Singapore",
            "South Africa",
            "Spain",
            "Sweden",
            "Switzerland",
            "United Kingdom"
           ],
           "type": "choropleth",
           "z": [
            5.331261495401839,
            5.07469387755102,
            6.553260146373918,
            4.9755,
            5.939714933592485,
            5.134756097560976,
            5.55267429760666,
            5.821282790429518,
            5.870479904019196,
            6.637037037037037,
            5.51256801592568,
            6.2086082474226805,
            6.177290836653387,
            5.931844484629295,
            5.872336936265374,
            5.605092592592593,
            5.227386934673367,
            5.898596881959911,
            6.317857142857143,
            6,
            5.883333333333334,
            6.355427631578947,
            5.654475165157818,
            6.104187192118227,
            5.052308248167647
           ],
           "zmax": 8,
           "zmin": 4
          },
          {
           "colorscale": [
            [
             0,
             "#440154"
            ],
            [
             0.1111111111111111,
             "#482878"
            ],
            [
             0.2222222222222222,
             "#3e4989"
            ],
            [
             0.3333333333333333,
             "#31688e"
            ],
            [
             0.4444444444444444,
             "#26828e"
            ],
            [
             0.5555555555555556,
             "#1f9e89"
            ],
            [
             0.6666666666666666,
             "#35b779"
            ],
            [
             0.7777777777777778,
             "#6ece58"
            ],
            [
             0.8888888888888888,
             "#b5de2b"
            ],
            [
             1,
             "#fde725"
            ]
           ],
           "locationmode": "USA-states",
           "locations": [
            "AL",
            "AK",
            "AZ",
            "AR",
            "CA",
            "CO",
            "CT",
            "DE",
            "FL",
            "GA",
            "ID",
            "IL",
            "IN",
            "IA",
            "KS",
            "KY",
            "LA",
            "ME",
            "MD",
            "MA",
            "MI",
            "MN",
            "MS",
            "MO",
            "MT",
            "NE",
            "NV",
            "NH",
            "NJ",
            "NM",
            "NY",
            "NC",
            "ND",
            "OH",
            "OK",
            "OR",
            "PA",
            "RI",
            "SC",
            "SD",
            "TN",
            "TX",
            "UT",
            "VT",
            "VA",
            "WA",
            "WV",
            "WI",
            "WY"
           ],
           "type": "choropleth",
           "z": [
            5.954045584045584,
            7.427974683544303,
            6.342842696629214,
            5.495957446808511,
            6.580192845723422,
            6.478564213564214,
            6.362063157894737,
            6.266666666666667,
            6.1668371157713295,
            6.668284690220174,
            6.368066528066529,
            6.244447632711621,
            6.182997750281215,
            6.103918291550603,
            6.635180327868852,
            5.384285714285714,
            5.441615120274914,
            5.729591836734694,
            6.7316004813477734,
            6.134063047285464,
            6.315132314573239,
            6.253916783707865,
            6.513505976095618,
            6.305520034100597,
            5.979095744680851,
            5.86556338028169,
            5.8333673469387755,
            6.110443622920518,
            6.360407440212577,
            6.886790393013101,
            6.322898421871527,
            5.985884536082475,
            5.943866666666667,
            6.327610197760305,
            5.687857142857143,
            6.402453637660485,
            6.1905730872283415,
            5.916666666666667,
            5.365962441314554,
            5.122664233576642,
            6.134690627843494,
            6.213399898887765,
            6.571563981042654,
            5.706818181818182,
            6.2299092147072175,
            6.307190067555232,
            5.728148148148148,
            6.1528144796380095,
            6.944545454545454
           ],
           "zmax": 8,
           "zmin": 4
          }
         ],
         "name": "2004"
        },
        {
         "data": [
          {
           "colorscale": [
            [
             0,
             "#440154"
            ],
            [
             0.1111111111111111,
             "#482878"
            ],
            [
             0.2222222222222222,
             "#3e4989"
            ],
            [
             0.3333333333333333,
             "#31688e"
            ],
            [
             0.4444444444444444,
             "#26828e"
            ],
            [
             0.5555555555555556,
             "#1f9e89"
            ],
            [
             0.6666666666666666,
             "#35b779"
            ],
            [
             0.7777777777777778,
             "#6ece58"
            ],
            [
             0.8888888888888888,
             "#b5de2b"
            ],
            [
             1,
             "#fde725"
            ]
           ],
           "locationmode": "country names",
           "locations": [
            "Australia",
            "Austria",
            "Belgium",
            "Brazil",
            "Canada",
            "Croatia",
            "Czech Republic",
            "Denmark",
            "Finland",
            "France",
            "Germany",
            "Iceland",
            "Italy",
            "Japan",
            "Netherlands",
            "New Zealand",
            "Norway",
            "Poland",
            "Portugal",
            "Singapore",
            "South Africa",
            "Spain",
            "Sweden",
            "Switzerland",
            "United Kingdom"
           ],
           "type": "choropleth",
           "z": [
            5.530324204591221,
            5.438710691823899,
            6.675838337182448,
            5.325555555555556,
            6.16583545191549,
            4.7924791086350975,
            5.737362637362637,
            5.872439849967981,
            5.937940705128206,
            6.295555555555556,
            5.624633314383172,
            5.644630872483221,
            5.910879478827362,
            6.260403225806451,
            6.113662524525834,
            5.238484848484848,
            5.747786483839373,
            6.067234042553191,
            6.000423728813559,
            6.123076923076923,
            5.121621621621622,
            6.087579617834395,
            5.7652709997840645,
            5.88480198019802,
            5.254399902423159
           ],
           "zmax": 8,
           "zmin": 4
          },
          {
           "colorscale": [
            [
             0,
             "#440154"
            ],
            [
             0.1111111111111111,
             "#482878"
            ],
            [
             0.2222222222222222,
             "#3e4989"
            ],
            [
             0.3333333333333333,
             "#31688e"
            ],
            [
             0.4444444444444444,
             "#26828e"
            ],
            [
             0.5555555555555556,
             "#1f9e89"
            ],
            [
             0.6666666666666666,
             "#35b779"
            ],
            [
             0.7777777777777778,
             "#6ece58"
            ],
            [
             0.8888888888888888,
             "#b5de2b"
            ],
            [
             1,
             "#fde725"
            ]
           ],
           "locationmode": "USA-states",
           "locations": [
            "AL",
            "AK",
            "AZ",
            "AR",
            "CA",
            "CO",
            "CT",
            "DE",
            "FL",
            "GA",
            "ID",
            "IL",
            "IN",
            "IA",
            "KS",
            "KY",
            "LA",
            "ME",
            "MD",
            "MA",
            "MI",
            "MN",
            "MS",
            "MO",
            "MT",
            "NE",
            "NV",
            "NH",
            "NJ",
            "NM",
            "NY",
            "NC",
            "ND",
            "OH",
            "OK",
            "OR",
            "PA",
            "RI",
            "SC",
            "SD",
            "TN",
            "TX",
            "UT",
            "VT",
            "VA",
            "WA",
            "WV",
            "WI",
            "WY"
           ],
           "type": "choropleth",
           "z": [
            6.351239163691994,
            6.524358974358974,
            6.118379111563241,
            6.12478431372549,
            6.6554690080848475,
            6.811135742484057,
            6.626878491620112,
            6.7029508196721315,
            6.073959080362792,
            6.7874112075769535,
            6.463790951638066,
            6.369353330108047,
            6.525011750881316,
            6.14390520694259,
            6.467833827893175,
            5.9129373650108,
            5.740368421052632,
            5.87938559322034,
            6.860940988835726,
            6.3931563296516565,
            6.674989966555184,
            6.3923128227194494,
            7.065247148288973,
            6.413753014954172,
            6.776179577464789,
            6.4067598475222365,
            6.188837656099904,
            6.048900184842884,
            6.530726577437858,
            6.841063829787234,
            6.543185765366933,
            6.4458979206049145,
            6.376701030927834,
            6.385743407518235,
            6.125286956521739,
            6.719869036482694,
            6.338482088024565,
            5.860869565217391,
            6.1857575757575765,
            5.454851485148516,
            6.335285403050109,
            6.502119954734062,
            5.951672473867596,
            6.573896797153025,
            6.37136460554371,
            6.471508497231239,
            6.3961538461538465,
            6.543858712715855,
            5.625
           ],
           "zmax": 8,
           "zmin": 4
          }
         ],
         "name": "2005"
        },
        {
         "data": [
          {
           "colorscale": [
            [
             0,
             "#440154"
            ],
            [
             0.1111111111111111,
             "#482878"
            ],
            [
             0.2222222222222222,
             "#3e4989"
            ],
            [
             0.3333333333333333,
             "#31688e"
            ],
            [
             0.4444444444444444,
             "#26828e"
            ],
            [
             0.5555555555555556,
             "#1f9e89"
            ],
            [
             0.6666666666666666,
             "#35b779"
            ],
            [
             0.7777777777777778,
             "#6ece58"
            ],
            [
             0.8888888888888888,
             "#b5de2b"
            ],
            [
             1,
             "#fde725"
            ]
           ],
           "locationmode": "country names",
           "locations": [
            "Australia",
            "Austria",
            "Belgium",
            "Brazil",
            "Canada",
            "Croatia",
            "Czech Republic",
            "Denmark",
            "Finland",
            "France",
            "Germany",
            "Iceland",
            "Italy",
            "Japan",
            "Netherlands",
            "New Zealand",
            "Norway",
            "Poland",
            "Portugal",
            "Singapore",
            "South Africa",
            "Spain",
            "Sweden",
            "Switzerland",
            "United Kingdom"
           ],
           "type": "choropleth",
           "z": [
            5.5502938045561,
            5.343006993006993,
            6.623162729658793,
            5.8012500000000005,
            6.2153517229066235,
            5.478797250859106,
            5.0889261744966445,
            6.019927146379735,
            5.786690615177368,
            6.824999999999999,
            5.524153138528138,
            6.319277108433735,
            6.321525885558583,
            6.558174904942965,
            6.0333387888707035,
            5.233422459893048,
            5.626615944426066,
            5.697833125778331,
            6.401854304635761,
            4.166666666666667,
            5.441666666666666,
            6.75,
            5.8831847639201165,
            5.7549624060150375,
            5.094556842502833
           ],
           "zmax": 8,
           "zmin": 4
          },
          {
           "colorscale": [
            [
             0,
             "#440154"
            ],
            [
             0.1111111111111111,
             "#482878"
            ],
            [
             0.2222222222222222,
             "#3e4989"
            ],
            [
             0.3333333333333333,
             "#31688e"
            ],
            [
             0.4444444444444444,
             "#26828e"
            ],
            [
             0.5555555555555556,
             "#1f9e89"
            ],
            [
             0.6666666666666666,
             "#35b779"
            ],
            [
             0.7777777777777778,
             "#6ece58"
            ],
            [
             0.8888888888888888,
             "#b5de2b"
            ],
            [
             1,
             "#fde725"
            ]
           ],
           "locationmode": "USA-states",
           "locations": [
            "AL",
            "AK",
            "AZ",
            "AR",
            "CA",
            "CO",
            "CT",
            "DE",
            "FL",
            "GA",
            "ID",
            "IL",
            "IN",
            "IA",
            "KS",
            "KY",
            "LA",
            "ME",
            "MD",
            "MA",
            "MI",
            "MN",
            "MS",
            "MO",
            "MT",
            "NE",
            "NV",
            "NH",
            "NJ",
            "NM",
            "NY",
            "NC",
            "ND",
            "OH",
            "OK",
            "OR",
            "PA",
            "RI",
            "SC",
            "SD",
            "TN",
            "TX",
            "UT",
            "VT",
            "VA",
            "WA",
            "WV",
            "WI",
            "WY"
           ],
           "type": "choropleth",
           "z": [
            6.682306397306397,
            6.176232558139535,
            6.480805515239477,
            6.662154471544716,
            6.7055964765737714,
            6.792830776072938,
            6.6818091286307055,
            6.871863669325598,
            6.414756974907878,
            6.7442832681017615,
            6.369285364659814,
            6.391072129859929,
            6.772558196520461,
            6.055440324449595,
            6.336428571428572,
            6.457369077306733,
            5.394444444444444,
            6.509045871559633,
            6.632158415841584,
            6.684586070959264,
            6.643118195956455,
            6.417199668599834,
            5.968652482269503,
            6.427183833116037,
            6.932977099236641,
            5.984598880597015,
            6.114793315743184,
            6.1531309904153355,
            6.574474817760106,
            6.443959899749373,
            6.52811651669971,
            6.680514501891551,
            6.213715415019762,
            6.753224783510184,
            5.911426229508196,
            6.714418145956608,
            6.537022366815779,
            5.653623853211009,
            6.642685714285714,
            5.597272727272728,
            6.474776969313509,
            6.36965195047886,
            7.1012162162162165,
            6.541121212121213,
            6.547811320754716,
            6.5712120005309975,
            7.021578947368422,
            6.731392512762337,
            6.109538461538461
           ],
           "zmax": 8,
           "zmin": 4
          }
         ],
         "name": "2006"
        },
        {
         "data": [
          {
           "colorscale": [
            [
             0,
             "#440154"
            ],
            [
             0.1111111111111111,
             "#482878"
            ],
            [
             0.2222222222222222,
             "#3e4989"
            ],
            [
             0.3333333333333333,
             "#31688e"
            ],
            [
             0.4444444444444444,
             "#26828e"
            ],
            [
             0.5555555555555556,
             "#1f9e89"
            ],
            [
             0.6666666666666666,
             "#35b779"
            ],
            [
             0.7777777777777778,
             "#6ece58"
            ],
            [
             0.8888888888888888,
             "#b5de2b"
            ],
            [
             1,
             "#fde725"
            ]
           ],
           "locationmode": "country names",
           "locations": [
            "Australia",
            "Austria",
            "Belgium",
            "Brazil",
            "Canada",
            "Croatia",
            "Czech Republic",
            "Denmark",
            "Finland",
            "France",
            "Germany",
            "Iceland",
            "Italy",
            "Japan",
            "Netherlands",
            "New Zealand",
            "Norway",
            "Poland",
            "Portugal",
            "Singapore",
            "South Africa",
            "Spain",
            "Sweden",
            "Switzerland",
            "United Kingdom"
           ],
           "type": "choropleth",
           "z": [
            5.490960712093308,
            5.38172268907563,
            6.594218377088305,
            6.257646454265159,
            6.187923021060276,
            5.387434367541767,
            5.41514553014553,
            6.13262892440213,
            5.843502529216815,
            7.4750000000000005,
            5.534539867378295,
            6.466265060240964,
            5.87938612645795,
            6.315910224438903,
            6.218581323755772,
            5.19389229720518,
            5.7303268239761325,
            5.914955089820359,
            6.401052631578947,
            5.033333333333333,
            6.3933333333333335,
            6.503058035714285,
            5.8869135802469135,
            5.860054421768708,
            5.2154495854506555
           ],
           "zmax": 8,
           "zmin": 4
          },
          {
           "colorscale": [
            [
             0,
             "#440154"
            ],
            [
             0.1111111111111111,
             "#482878"
            ],
            [
             0.2222222222222222,
             "#3e4989"
            ],
            [
             0.3333333333333333,
             "#31688e"
            ],
            [
             0.4444444444444444,
             "#26828e"
            ],
            [
             0.5555555555555556,
             "#1f9e89"
            ],
            [
             0.6666666666666666,
             "#35b779"
            ],
            [
             0.7777777777777778,
             "#6ece58"
            ],
            [
             0.8888888888888888,
             "#b5de2b"
            ],
            [
             1,
             "#fde725"
            ]
           ],
           "locationmode": "USA-states",
           "locations": [
            "AL",
            "AK",
            "AZ",
            "AR",
            "CA",
            "CO",
            "CT",
            "DE",
            "FL",
            "GA",
            "ID",
            "IL",
            "IN",
            "IA",
            "KS",
            "KY",
            "LA",
            "ME",
            "MD",
            "MA",
            "MI",
            "MN",
            "MS",
            "MO",
            "MT",
            "NE",
            "NV",
            "NH",
            "NJ",
            "NM",
            "NY",
            "NC",
            "ND",
            "OH",
            "OK",
            "OR",
            "PA",
            "RI",
            "SC",
            "SD",
            "TN",
            "TX",
            "UT",
            "VT",
            "VA",
            "WA",
            "WV",
            "WI",
            "WY"
           ],
           "type": "choropleth",
           "z": [
            6.951725562184488,
            6.401147994467496,
            6.739901960784314,
            5.821800643086816,
            6.835959063420685,
            6.771810569408262,
            6.780883103624298,
            6.993519245875884,
            6.8697668369716665,
            6.633808293198637,
            6.498046989720999,
            6.547094819751591,
            6.865925547146656,
            6.48960917144346,
            6.861801275239107,
            6.435264175257732,
            6.421647509578544,
            6.872243436754176,
            6.960124110239094,
            6.870145782714335,
            6.6888374226094935,
            6.667078792958927,
            5.925339130434783,
            6.748369528900768,
            6.5523014256619145,
            6.596846220677672,
            6.498510998307952,
            6.186383161512027,
            6.68491348631734,
            6.3899480519480525,
            6.617657448706512,
            6.9866040351147385,
            6.2762142857142855,
            6.944222949821061,
            6.212806513409962,
            6.911475104699861,
            6.730643153526971,
            6.572200435729847,
            6.229611992945326,
            5.045454545454546,
            6.628088737201366,
            6.4852533808886905,
            6.263914473684211,
            6.655454545454545,
            6.498015584415585,
            6.65442870306381,
            5.703269230769231,
            6.685139949109415,
            5.3840625
           ],
           "zmax": 8,
           "zmin": 4
          }
         ],
         "name": "2007"
        },
        {
         "data": [
          {
           "colorscale": [
            [
             0,
             "#440154"
            ],
            [
             0.1111111111111111,
             "#482878"
            ],
            [
             0.2222222222222222,
             "#3e4989"
            ],
            [
             0.3333333333333333,
             "#31688e"
            ],
            [
             0.4444444444444444,
             "#26828e"
            ],
            [
             0.5555555555555556,
             "#1f9e89"
            ],
            [
             0.6666666666666666,
             "#35b779"
            ],
            [
             0.7777777777777778,
             "#6ece58"
            ],
            [
             0.8888888888888888,
             "#b5de2b"
            ],
            [
             1,
             "#fde725"
            ]
           ],
           "locationmode": "country names",
           "locations": [
            "Australia",
            "Austria",
            "Belgium",
            "Brazil",
            "Canada",
            "Croatia",
            "Czech Republic",
            "Denmark",
            "Finland",
            "France",
            "Germany",
            "Iceland",
            "Italy",
            "Japan",
            "Netherlands",
            "New Zealand",
            "Norway",
            "Poland",
            "Portugal",
            "Singapore",
            "South Africa",
            "Spain",
            "Sweden",
            "Switzerland",
            "United Kingdom"
           ],
           "type": "choropleth",
           "z": [
            5.619501750605979,
            5.8431999999999995,
            6.6673888781989605,
            5.819172699069287,
            6.399694304500043,
            5.518642407277817,
            5.674909747292419,
            6.042449504950495,
            5.888025607919087,
            6.482876712328767,
            5.491879258437648,
            6.5196969696969695,
            6.447382716049383,
            6.1333091787439615,
            6.511153441011236,
            5.564245129870129,
            5.777746133071446,
            5.56934765924789,
            5.210212765957447,
            5.2,
            5.375,
            6.193561208267091,
            6.121040000000001,
            5.66464424320828,
            5.2914703214753604
           ],
           "zmax": 8,
           "zmin": 4
          },
          {
           "colorscale": [
            [
             0,
             "#440154"
            ],
            [
             0.1111111111111111,
             "#482878"
            ],
            [
             0.2222222222222222,
             "#3e4989"
            ],
            [
             0.3333333333333333,
             "#31688e"
            ],
            [
             0.4444444444444444,
             "#26828e"
            ],
            [
             0.5555555555555556,
             "#1f9e89"
            ],
            [
             0.6666666666666666,
             "#35b779"
            ],
            [
             0.7777777777777778,
             "#6ece58"
            ],
            [
             0.8888888888888888,
             "#b5de2b"
            ],
            [
             1,
             "#fde725"
            ]
           ],
           "locationmode": "USA-states",
           "locations": [
            "AL",
            "AK",
            "AZ",
            "AR",
            "CA",
            "CO",
            "CT",
            "DE",
            "FL",
            "GA",
            "ID",
            "IL",
            "IN",
            "IA",
            "KS",
            "KY",
            "LA",
            "ME",
            "MD",
            "MA",
            "MI",
            "MN",
            "MS",
            "MO",
            "MT",
            "NE",
            "NV",
            "NH",
            "NJ",
            "NM",
            "NY",
            "NC",
            "ND",
            "OH",
            "OK",
            "OR",
            "PA",
            "RI",
            "SC",
            "SD",
            "TN",
            "TX",
            "UT",
            "VT",
            "VA",
            "WA",
            "WV",
            "WI",
            "WY"
           ],
           "type": "choropleth",
           "z": [
            6.616874287884542,
            6.782479627473807,
            6.938961441035745,
            5.926167883211678,
            7.0618849374924135,
            6.995158069883527,
            6.489940186915888,
            6.940159420289855,
            6.876410880756922,
            7.052252549490102,
            6.807022574740695,
            6.7850116354835714,
            6.7245914326853855,
            6.790840108401084,
            6.812122905027933,
            6.701154052603328,
            6.9752100840336135,
            6.773751387347391,
            7.104401480111009,
            6.85788552679548,
            6.932659826361484,
            6.943941586633338,
            6.187020725388601,
            6.760726863994005,
            7.048439153439153,
            6.347282321899736,
            6.230258899676375,
            6.652253313696613,
            6.808788944723618,
            6.753308641975309,
            6.638336381848272,
            6.899705345501955,
            6.013872549019608,
            6.97383895538629,
            6.5373170731707315,
            6.694368013757524,
            6.725637246501,
            7.134249249249249,
            6.2573343605547,
            5.312352941176471,
            6.782864838393732,
            6.701820466164111,
            6.757909604519774,
            6.490783783783784,
            6.673051010587103,
            6.955184490306441,
            5.825350553505535,
            6.592259826496734,
            5.170373443983403
           ],
           "zmax": 8,
           "zmin": 4
          }
         ],
         "name": "2008"
        },
        {
         "data": [
          {
           "colorscale": [
            [
             0,
             "#440154"
            ],
            [
             0.1111111111111111,
             "#482878"
            ],
            [
             0.2222222222222222,
             "#3e4989"
            ],
            [
             0.3333333333333333,
             "#31688e"
            ],
            [
             0.4444444444444444,
             "#26828e"
            ],
            [
             0.5555555555555556,
             "#1f9e89"
            ],
            [
             0.6666666666666666,
             "#35b779"
            ],
            [
             0.7777777777777778,
             "#6ece58"
            ],
            [
             0.8888888888888888,
             "#b5de2b"
            ],
            [
             1,
             "#fde725"
            ]
           ],
           "locationmode": "country names",
           "locations": [
            "Australia",
            "Austria",
            "Belgium",
            "Brazil",
            "Canada",
            "Croatia",
            "Czech Republic",
            "Denmark",
            "Finland",
            "France",
            "Germany",
            "Iceland",
            "Italy",
            "Japan",
            "Netherlands",
            "New Zealand",
            "Norway",
            "Poland",
            "Portugal",
            "Singapore",
            "South Africa",
            "Spain",
            "Sweden",
            "Switzerland",
            "United Kingdom"
           ],
           "type": "choropleth",
           "z": [
            5.751452916373858,
            5.648842729970327,
            6.881696428571429,
            5.929301801801802,
            6.414130359010108,
            5.359156028368794,
            5.08535885167464,
            6.049196688605041,
            5.889836557360091,
            7.079166666666667,
            5.6443222506393855,
            6.199999999999999,
            6.445991274842463,
            6.451039307128581,
            6.6104670558799,
            5.9264312039312035,
            5.913113941169841,
            5.916601239669422,
            5.351470588235294,
            5.402941176470589,
            5.6320512820512825,
            5.458194029850746,
            6.258851761296749,
            5.880532544378698,
            5.352289471185797
           ],
           "zmax": 8,
           "zmin": 4
          },
          {
           "colorscale": [
            [
             0,
             "#440154"
            ],
            [
             0.1111111111111111,
             "#482878"
            ],
            [
             0.2222222222222222,
             "#3e4989"
            ],
            [
             0.3333333333333333,
             "#31688e"
            ],
            [
             0.4444444444444444,
             "#26828e"
            ],
            [
             0.5555555555555556,
             "#1f9e89"
            ],
            [
             0.6666666666666666,
             "#35b779"
            ],
            [
             0.7777777777777778,
             "#6ece58"
            ],
            [
             0.8888888888888888,
             "#b5de2b"
            ],
            [
             1,
             "#fde725"
            ]
           ],
           "locationmode": "USA-states",
           "locations": [
            "AL",
            "AK",
            "AZ",
            "AR",
            "CA",
            "CO",
            "CT",
            "DE",
            "FL",
            "GA",
            "ID",
            "IL",
            "IN",
            "IA",
            "KS",
            "KY",
            "LA",
            "ME",
            "MD",
            "MA",
            "MI",
            "MN",
            "MS",
            "MO",
            "MT",
            "NE",
            "NV",
            "NH",
            "NJ",
            "NM",
            "NY",
            "NC",
            "ND",
            "OH",
            "OK",
            "OR",
            "PA",
            "RI",
            "SC",
            "SD",
            "TN",
            "TX",
            "UT",
            "VT",
            "VA",
            "WA",
            "WV",
            "WI",
            "WY"
           ],
           "type": "choropleth",
           "z": [
            6.754557916381082,
            7.32548320767649,
            7.173169880066798,
            7.07060773480663,
            7.247881818560654,
            7.133521769177609,
            6.762472222222223,
            7.03862660944206,
            7.186672794117647,
            6.749248641304348,
            7.1028377110694185,
            6.913884067739489,
            7.053668799212598,
            6.608374558303887,
            6.947010435850215,
            6.992842395044735,
            6.724666666666667,
            7.325296208530806,
            6.9901703115928004,
            6.874227424749163,
            6.820558546433378,
            7.019594936708861,
            6.48425,
            6.563755001538935,
            7.242791519434629,
            6.772797731568998,
            6.592975098296199,
            7.007000842459982,
            6.822213223987699,
            6.2743195266272185,
            6.775008067940552,
            7.041907443251804,
            5.741862745098039,
            6.984705062205062,
            6.604950363997353,
            6.944981393775373,
            6.908399554617908,
            6.902919540229885,
            6.756082191780822,
            5.722598039215686,
            6.8723150062009095,
            6.958201819910363,
            6.910159574468085,
            6.9329740791268755,
            6.8421637816245005,
            7.2090573610023485,
            6.051418604651163,
            6.701166172106825,
            6.136418604651163
           ],
           "zmax": 8,
           "zmin": 4
          }
         ],
         "name": "2009"
        },
        {
         "data": [
          {
           "colorscale": [
            [
             0,
             "#440154"
            ],
            [
             0.1111111111111111,
             "#482878"
            ],
            [
             0.2222222222222222,
             "#3e4989"
            ],
            [
             0.3333333333333333,
             "#31688e"
            ],
            [
             0.4444444444444444,
             "#26828e"
            ],
            [
             0.5555555555555556,
             "#1f9e89"
            ],
            [
             0.6666666666666666,
             "#35b779"
            ],
            [
             0.7777777777777778,
             "#6ece58"
            ],
            [
             0.8888888888888888,
             "#b5de2b"
            ],
            [
             1,
             "#fde725"
            ]
           ],
           "locationmode": "country names",
           "locations": [
            "Australia",
            "Austria",
            "Belgium",
            "Brazil",
            "Canada",
            "Croatia",
            "Czech Republic",
            "Denmark",
            "Finland",
            "France",
            "Germany",
            "Iceland",
            "Italy",
            "Japan",
            "Netherlands",
            "New Zealand",
            "Norway",
            "Poland",
            "Portugal",
            "Singapore",
            "South Africa",
            "Spain",
            "Sweden",
            "Switzerland",
            "United Kingdom"
           ],
           "type": "choropleth",
           "z": [
            5.904869424168694,
            5.80360824742268,
            7.091637990364763,
            6.202857142857143,
            6.467652409046214,
            5.349496717724289,
            5.209534368070954,
            6.233876491956409,
            5.980911387485426,
            6.330544290288154,
            5.709517263427109,
            6.061428571428571,
            6.543757663180671,
            6.357414141414141,
            6.913486554814986,
            6.3749769585253455,
            6.222747498299815,
            6.289112426035503,
            5.001621621621622,
            6.0600000000000005,
            6.06,
            5.527154899894627,
            6.328123319746769,
            6.1775928833071685,
            5.5439821485206835
           ],
           "zmax": 8,
           "zmin": 4
          },
          {
           "colorscale": [
            [
             0,
             "#440154"
            ],
            [
             0.1111111111111111,
             "#482878"
            ],
            [
             0.2222222222222222,
             "#3e4989"
            ],
            [
             0.3333333333333333,
             "#31688e"
            ],
            [
             0.4444444444444444,
             "#26828e"
            ],
            [
             0.5555555555555556,
             "#1f9e89"
            ],
            [
             0.6666666666666666,
             "#35b779"
            ],
            [
             0.7777777777777778,
             "#6ece58"
            ],
            [
             0.8888888888888888,
             "#b5de2b"
            ],
            [
             1,
             "#fde725"
            ]
           ],
           "locationmode": "USA-states",
           "locations": [
            "AL",
            "AK",
            "AZ",
            "AR",
            "CA",
            "CO",
            "CT",
            "DE",
            "FL",
            "GA",
            "ID",
            "IL",
            "IN",
            "IA",
            "KS",
            "KY",
            "LA",
            "ME",
            "MD",
            "MA",
            "MI",
            "MN",
            "MS",
            "MO",
            "MT",
            "NE",
            "NV",
            "NH",
            "NJ",
            "NM",
            "NY",
            "NC",
            "ND",
            "OH",
            "OK",
            "OR",
            "PA",
            "RI",
            "SC",
            "SD",
            "TN",
            "TX",
            "UT",
            "VT",
            "VA",
            "WA",
            "WV",
            "WI",
            "WY"
           ],
           "type": "choropleth",
           "z": [
            6.935825242718447,
            7.41575101488498,
            7.235308012093727,
            6.175347222222222,
            7.16038404968132,
            7.140329533031391,
            6.991343472750317,
            7.065192644483362,
            7.14952922077922,
            7.140439042773695,
            6.896826104580462,
            6.992991438356165,
            6.59297703180212,
            7.032276707530648,
            6.7420447976878615,
            6.709105851413543,
            6.67079575596817,
            7.247081447963801,
            6.972309767943875,
            6.932402298850574,
            6.958267888307155,
            7.189506552006552,
            6.786825396825397,
            6.63198809940497,
            6.8992417061611375,
            6.712389649923897,
            6.592677304964539,
            6.78410577592206,
            7.029817986104316,
            6.904543761638734,
            6.824991742361685,
            7.210937833796198,
            6.143174603174603,
            7.154078183460199,
            6.814969325153374,
            7.001986821086262,
            7.041988015277229,
            6.973116147308782,
            6.98778761061947,
            5.635166666666667,
            6.716351654514862,
            6.893011575802838,
            6.791432098765433,
            7.157068965517242,
            6.930968424766274,
            7.088131286394918,
            6.337170626349892,
            6.904392954497799,
            6.002
           ],
           "zmax": 8,
           "zmin": 4
          }
         ],
         "name": "2010"
        },
        {
         "data": [
          {
           "colorscale": [
            [
             0,
             "#440154"
            ],
            [
             0.1111111111111111,
             "#482878"
            ],
            [
             0.2222222222222222,
             "#3e4989"
            ],
            [
             0.3333333333333333,
             "#31688e"
            ],
            [
             0.4444444444444444,
             "#26828e"
            ],
            [
             0.5555555555555556,
             "#1f9e89"
            ],
            [
             0.6666666666666666,
             "#35b779"
            ],
            [
             0.7777777777777778,
             "#6ece58"
            ],
            [
             0.8888888888888888,
             "#b5de2b"
            ],
            [
             1,
             "#fde725"
            ]
           ],
           "locationmode": "country names",
           "locations": [
            "Australia",
            "Austria",
            "Belgium",
            "Brazil",
            "Canada",
            "Croatia",
            "Czech Republic",
            "Denmark",
            "Finland",
            "France",
            "Germany",
            "Iceland",
            "Italy",
            "Japan",
            "Netherlands",
            "New Zealand",
            "Norway",
            "Poland",
            "Portugal",
            "Singapore",
            "South Africa",
            "Spain",
            "Sweden",
            "Switzerland",
            "United Kingdom"
           ],
           "type": "choropleth",
           "z": [
            5.993874785591767,
            5.657792207792207,
            7.063221028173104,
            6.162212885154061,
            6.534560792486226,
            5.3931981687377375,
            5.587949599083619,
            6.246770210031726,
            5.972918115497374,
            6.188642322097379,
            5.6771955719557194,
            6.29009009009009,
            6.444281705948372,
            6.399454414931802,
            6.813613798906185,
            6.102010676156583,
            6.136317914613146,
            6.045434027777778,
            5.673239436619719,
            5,
            5.4461538461538455,
            6.0408478260869565,
            6.42829314159292,
            6.41943864229765,
            5.471901349881645
           ],
           "zmax": 8,
           "zmin": 4
          },
          {
           "colorscale": [
            [
             0,
             "#440154"
            ],
            [
             0.1111111111111111,
             "#482878"
            ],
            [
             0.2222222222222222,
             "#3e4989"
            ],
            [
             0.3333333333333333,
             "#31688e"
            ],
            [
             0.4444444444444444,
             "#26828e"
            ],
            [
             0.5555555555555556,
             "#1f9e89"
            ],
            [
             0.6666666666666666,
             "#35b779"
            ],
            [
             0.7777777777777778,
             "#6ece58"
            ],
            [
             0.8888888888888888,
             "#b5de2b"
            ],
            [
             1,
             "#fde725"
            ]
           ],
           "locationmode": "USA-states",
           "locations": [
            "AL",
            "AK",
            "AZ",
            "AR",
            "CA",
            "CO",
            "CT",
            "DE",
            "FL",
            "GA",
            "ID",
            "IL",
            "IN",
            "IA",
            "KS",
            "KY",
            "LA",
            "ME",
            "MD",
            "MA",
            "MI",
            "MN",
            "MS",
            "MO",
            "MT",
            "NE",
            "NV",
            "NH",
            "NJ",
            "NM",
            "NY",
            "NC",
            "ND",
            "OH",
            "OK",
            "OR",
            "PA",
            "RI",
            "SC",
            "SD",
            "TN",
            "TX",
            "UT",
            "VT",
            "VA",
            "WA",
            "WV",
            "WI",
            "WY"
           ],
           "type": "choropleth",
           "z": [
            6.801317885590152,
            7.154240506329114,
            7.420826819524057,
            6.166279069767442,
            7.178829713891761,
            6.965397570070973,
            7.210497287522604,
            7.073059177532598,
            7.1328844026548675,
            7.116084115965701,
            6.989554956169926,
            6.926152226900066,
            6.699673981191222,
            6.752636765205572,
            6.638278388278389,
            6.804070556309362,
            6.813593117408907,
            6.892871287128712,
            7.078908426183844,
            6.934468085106383,
            6.930160523186681,
            7.043001998001998,
            5.838571428571428,
            6.584812419146184,
            6.960312500000001,
            6.6705341246290795,
            6.936486486486486,
            6.95480745341615,
            7.0032324705310485,
            6.826086956521739,
            6.893818202659331,
            7.003522782949535,
            6.035284552845528,
            7.1211077351563485,
            6.708488372093023,
            7.145312922107159,
            6.99211731548353,
            6.9947648902821316,
            6.8415543071161045,
            5.705234375,
            6.90532392026578,
            6.905016272696129,
            7.181161939615737,
            7.093275109170305,
            7.033862847222223,
            7.0164433604336045,
            6.272703349282296,
            6.877662162162163,
            5.7776
           ],
           "zmax": 8,
           "zmin": 4
          }
         ],
         "name": "2011"
        },
        {
         "data": [
          {
           "colorscale": [
            [
             0,
             "#440154"
            ],
            [
             0.1111111111111111,
             "#482878"
            ],
            [
             0.2222222222222222,
             "#3e4989"
            ],
            [
             0.3333333333333333,
             "#31688e"
            ],
            [
             0.4444444444444444,
             "#26828e"
            ],
            [
             0.5555555555555556,
             "#1f9e89"
            ],
            [
             0.6666666666666666,
             "#35b779"
            ],
            [
             0.7777777777777778,
             "#6ece58"
            ],
            [
             0.8888888888888888,
             "#b5de2b"
            ],
            [
             1,
             "#fde725"
            ]
           ],
           "locationmode": "country names",
           "locations": [
            "Australia",
            "Austria",
            "Belgium",
            "Brazil",
            "Canada",
            "Croatia",
            "Czech Republic",
            "Denmark",
            "Finland",
            "France",
            "Germany",
            "Iceland",
            "Italy",
            "Japan",
            "Netherlands",
            "New Zealand",
            "Norway",
            "Poland",
            "Portugal",
            "Singapore",
            "South Africa",
            "Spain",
            "Sweden",
            "Switzerland",
            "United Kingdom"
           ],
           "type": "choropleth",
           "z": [
            6.160681604880338,
            5.604936305732484,
            7.134209123526397,
            6.220978102189781,
            6.619819299692585,
            5.04637877853177,
            5.603651651651652,
            6.430049695988555,
            6.206506418864478,
            6.284235237173282,
            5.4498118551486945,
            6.650675675675676,
            6.595497248427673,
            6.669449385853452,
            6.8247915650902,
            5.782556625141563,
            6.3037962333754,
            5.767466552803872,
            5.949999999999999,
            7.757142857142857,
            5.836181818181818,
            6.4449144183347835,
            6.535998506905561,
            6.555104800540906,
            5.5908293823038395
           ],
           "zmax": 8,
           "zmin": 4
          },
          {
           "colorscale": [
            [
             0,
             "#440154"
            ],
            [
             0.1111111111111111,
             "#482878"
            ],
            [
             0.2222222222222222,
             "#3e4989"
            ],
            [
             0.3333333333333333,
             "#31688e"
            ],
            [
             0.4444444444444444,
             "#26828e"
            ],
            [
             0.5555555555555556,
             "#1f9e89"
            ],
            [
             0.6666666666666666,
             "#35b779"
            ],
            [
             0.7777777777777778,
             "#6ece58"
            ],
            [
             0.8888888888888888,
             "#b5de2b"
            ],
            [
             1,
             "#fde725"
            ]
           ],
           "locationmode": "USA-states",
           "locations": [
            "AL",
            "AK",
            "AZ",
            "AR",
            "CA",
            "CO",
            "CT",
            "DE",
            "FL",
            "GA",
            "ID",
            "IL",
            "IN",
            "IA",
            "KS",
            "KY",
            "LA",
            "ME",
            "MD",
            "MA",
            "MI",
            "MN",
            "MS",
            "MO",
            "MT",
            "NE",
            "NV",
            "NH",
            "NJ",
            "NM",
            "NY",
            "NC",
            "ND",
            "OH",
            "OK",
            "OR",
            "PA",
            "RI",
            "SC",
            "SD",
            "TN",
            "TX",
            "UT",
            "VT",
            "VA",
            "WA",
            "WV",
            "WI",
            "WY"
           ],
           "type": "choropleth",
           "z": [
            6.9646317711503345,
            7.061873589164785,
            7.38275956284153,
            5.87959420289855,
            7.219616319375274,
            6.910170734156876,
            7.068897415185783,
            7.1904623115577895,
            6.877061343123757,
            7.065045059288538,
            6.667937629937629,
            7.071034927260451,
            6.694738664987406,
            6.63311012728279,
            6.56600332594235,
            6.59420618556701,
            6.820074547390842,
            7.0037772925764195,
            6.969942266788211,
            6.950839694656488,
            6.948400746733043,
            6.9474884271719235,
            6.124871794871795,
            6.523175760099958,
            6.760344827586207,
            6.3644495412844035,
            6.781821386603995,
            7.140310650887574,
            6.796957370647576,
            6.214586206896552,
            6.996569832402234,
            6.790082727500627,
            6.5926605504587155,
            7.07722449418855,
            6.586347826086956,
            6.963225142857143,
            6.957500266155648,
            7.307991071428572,
            6.568965936739659,
            6.069463087248322,
            6.525199785465272,
            6.962765612898684,
            6.683553607552258,
            6.827760141093474,
            7.075227909721198,
            7.064972972972973,
            6.6215753424657535,
            6.934523520485585,
            5.942395833333333
           ],
           "zmax": 8,
           "zmin": 4
          }
         ],
         "name": "2012"
        },
        {
         "data": [
          {
           "colorscale": [
            [
             0,
             "#440154"
            ],
            [
             0.1111111111111111,
             "#482878"
            ],
            [
             0.2222222222222222,
             "#3e4989"
            ],
            [
             0.3333333333333333,
             "#31688e"
            ],
            [
             0.4444444444444444,
             "#26828e"
            ],
            [
             0.5555555555555556,
             "#1f9e89"
            ],
            [
             0.6666666666666666,
             "#35b779"
            ],
            [
             0.7777777777777778,
             "#6ece58"
            ],
            [
             0.8888888888888888,
             "#b5de2b"
            ],
            [
             1,
             "#fde725"
            ]
           ],
           "locationmode": "country names",
           "locations": [
            "Australia",
            "Austria",
            "Belgium",
            "Brazil",
            "Canada",
            "Croatia",
            "Czech Republic",
            "Denmark",
            "Finland",
            "France",
            "Germany",
            "Iceland",
            "Italy",
            "Japan",
            "Netherlands",
            "New Zealand",
            "Norway",
            "Poland",
            "Portugal",
            "Singapore",
            "South Africa",
            "Spain",
            "Sweden",
            "Switzerland",
            "United Kingdom"
           ],
           "type": "choropleth",
           "z": [
            6.47595744680851,
            6.056342182890855,
            7.213142746615087,
            6.383724696356275,
            6.744278611872867,
            5.274639475600874,
            5.764226670971909,
            6.588018966891863,
            6.273528322843392,
            6.697638686131387,
            5.6832451935207144,
            7.078512658227848,
            6.427612555485098,
            6.515340729001585,
            6.846494103126714,
            5.953155208646052,
            6.3720183807780675,
            5.947324761509747,
            6.072193158953723,
            5.592692307692308,
            5.473743922204214,
            6.739993239817475,
            6.649230130864986,
            6.451439393939395,
            5.6839276992459755
           ],
           "zmax": 8,
           "zmin": 4
          },
          {
           "colorscale": [
            [
             0,
             "#440154"
            ],
            [
             0.1111111111111111,
             "#482878"
            ],
            [
             0.2222222222222222,
             "#3e4989"
            ],
            [
             0.3333333333333333,
             "#31688e"
            ],
            [
             0.4444444444444444,
             "#26828e"
            ],
            [
             0.5555555555555556,
             "#1f9e89"
            ],
            [
             0.6666666666666666,
             "#35b779"
            ],
            [
             0.7777777777777778,
             "#6ece58"
            ],
            [
             0.8888888888888888,
             "#b5de2b"
            ],
            [
             1,
             "#fde725"
            ]
           ],
           "locationmode": "USA-states",
           "locations": [
            "AL",
            "AK",
            "AZ",
            "AR",
            "CA",
            "CO",
            "CT",
            "DE",
            "FL",
            "GA",
            "ID",
            "IL",
            "IN",
            "IA",
            "KS",
            "KY",
            "LA",
            "ME",
            "MD",
            "MA",
            "MI",
            "MN",
            "MS",
            "MO",
            "MT",
            "NE",
            "NV",
            "NH",
            "NJ",
            "NM",
            "NY",
            "NC",
            "ND",
            "OH",
            "OK",
            "OR",
            "PA",
            "RI",
            "SC",
            "SD",
            "TN",
            "TX",
            "UT",
            "VT",
            "VA",
            "WA",
            "WV",
            "WI",
            "WY"
           ],
           "type": "choropleth",
           "z": [
            6.769837940896092,
            7.023381712626995,
            7.334020202020202,
            6.692512512512512,
            7.1955403842446835,
            6.983194241281084,
            7.029317939609236,
            6.985307336417714,
            7.115012550391725,
            7.0715336582394155,
            6.852538646513226,
            7.044022968901018,
            6.809704445530044,
            6.745409974640744,
            6.875193394176445,
            6.934602747104767,
            6.634531981279251,
            7.051054239877769,
            6.934959360793498,
            6.902996078431372,
            7.099904906423874,
            6.972747120921305,
            6.437872340425532,
            6.636586893312458,
            6.697543103448275,
            6.3015035238841035,
            7.009893276414088,
            7.074485119047619,
            7.059223300970874,
            6.524385542168674,
            6.911233962808131,
            6.833380191693291,
            7.241625000000001,
            7.206181832346526,
            7.172984771573605,
            7.0431951466127405,
            6.955346932043105,
            7.577843137254901,
            6.742222717149221,
            6.354718309859155,
            6.630972929509515,
            7.05697128101776,
            6.77121197252208,
            6.952729844413013,
            6.935027200791295,
            7.0659668049792534,
            6.975453149001536,
            6.897439680344244,
            6.107132352941177
           ],
           "zmax": 8,
           "zmin": 4
          }
         ],
         "name": "2013"
        },
        {
         "data": [
          {
           "colorscale": [
            [
             0,
             "#440154"
            ],
            [
             0.1111111111111111,
             "#482878"
            ],
            [
             0.2222222222222222,
             "#3e4989"
            ],
            [
             0.3333333333333333,
             "#31688e"
            ],
            [
             0.4444444444444444,
             "#26828e"
            ],
            [
             0.5555555555555556,
             "#1f9e89"
            ],
            [
             0.6666666666666666,
             "#35b779"
            ],
            [
             0.7777777777777778,
             "#6ece58"
            ],
            [
             0.8888888888888888,
             "#b5de2b"
            ],
            [
             1,
             "#fde725"
            ]
           ],
           "locationmode": "country names",
           "locations": [
            "Australia",
            "Austria",
            "Belgium",
            "Brazil",
            "Canada",
            "Croatia",
            "Czech Republic",
            "Denmark",
            "Finland",
            "France",
            "Germany",
            "Iceland",
            "Italy",
            "Japan",
            "Netherlands",
            "New Zealand",
            "Norway",
            "Poland",
            "Portugal",
            "Singapore",
            "South Africa",
            "Spain",
            "Sweden",
            "Switzerland",
            "United Kingdom"
           ],
           "type": "choropleth",
           "z": [
            6.348712810099761,
            6.323986686390533,
            7.15993497547804,
            6.3945323356493855,
            6.663745746563223,
            5.542666831438458,
            5.950808510638298,
            6.594293583998252,
            6.202953510354903,
            6.537557670592031,
            5.735314702685918,
            6.689978448275863,
            6.3797639860139865,
            6.291678616617461,
            6.920486379146389,
            6.076428571428572,
            6.258983083376745,
            6.035878074583443,
            6.236807570977918,
            6.59015625,
            5.594751131221719,
            6.512487647690655,
            6.471635010198946,
            6.333352199639825,
            5.758115887216673
           ],
           "zmax": 8,
           "zmin": 4
          },
          {
           "colorscale": [
            [
             0,
             "#440154"
            ],
            [
             0.1111111111111111,
             "#482878"
            ],
            [
             0.2222222222222222,
             "#3e4989"
            ],
            [
             0.3333333333333333,
             "#31688e"
            ],
            [
             0.4444444444444444,
             "#26828e"
            ],
            [
             0.5555555555555556,
             "#1f9e89"
            ],
            [
             0.6666666666666666,
             "#35b779"
            ],
            [
             0.7777777777777778,
             "#6ece58"
            ],
            [
             0.8888888888888888,
             "#b5de2b"
            ],
            [
             1,
             "#fde725"
            ]
           ],
           "locationmode": "USA-states",
           "locations": [
            "AL",
            "AK",
            "AZ",
            "AR",
            "CA",
            "CO",
            "CT",
            "DE",
            "FL",
            "GA",
            "ID",
            "IL",
            "IN",
            "IA",
            "KS",
            "KY",
            "LA",
            "ME",
            "MD",
            "MA",
            "MI",
            "MN",
            "MS",
            "MO",
            "MT",
            "NE",
            "NV",
            "NH",
            "NJ",
            "NM",
            "NY",
            "NC",
            "ND",
            "OH",
            "OK",
            "OR",
            "PA",
            "RI",
            "SC",
            "SD",
            "TN",
            "TX",
            "UT",
            "VT",
            "VA",
            "WA",
            "WV",
            "WI",
            "WY"
           ],
           "type": "choropleth",
           "z": [
            6.752051679586563,
            7.318861283643892,
            7.223159615777641,
            6.834335596508244,
            7.022740165391452,
            6.793888315195805,
            7.104806428049671,
            7.088587699316628,
            7.134235378031383,
            6.954506416584403,
            6.97676887474689,
            6.9482146121503865,
            6.7485543071161045,
            6.767263267429761,
            7.079584221748401,
            6.864736984815619,
            6.600388272583202,
            6.994179104477612,
            6.810345389860657,
            6.892695321244683,
            7.146570729872084,
            6.969686823104693,
            7.705461538461539,
            6.66401431980907,
            6.9171028037383175,
            6.4649726348709935,
            6.881790961502697,
            7.035292168674698,
            7.131737660581474,
            6.425943600867679,
            6.928949422297039,
            6.694997293640054,
            6.845765625,
            7.129017919641607,
            7.515933333333333,
            7.1068550089300215,
            6.8907211028632025,
            7.181512605042017,
            6.785507692307693,
            5.686029411764705,
            6.711464821222607,
            7.079042498342786,
            6.6901042238069115,
            6.503520547945205,
            6.985896226415095,
            7.036641567631316,
            6.542049335863378,
            7.036454315523238,
            6.304086294416243
           ],
           "zmax": 8,
           "zmin": 4
          }
         ],
         "name": "2014"
        },
        {
         "data": [
          {
           "colorscale": [
            [
             0,
             "#440154"
            ],
            [
             0.1111111111111111,
             "#482878"
            ],
            [
             0.2222222222222222,
             "#3e4989"
            ],
            [
             0.3333333333333333,
             "#31688e"
            ],
            [
             0.4444444444444444,
             "#26828e"
            ],
            [
             0.5555555555555556,
             "#1f9e89"
            ],
            [
             0.6666666666666666,
             "#35b779"
            ],
            [
             0.7777777777777778,
             "#6ece58"
            ],
            [
             0.8888888888888888,
             "#b5de2b"
            ],
            [
             1,
             "#fde725"
            ]
           ],
           "locationmode": "country names",
           "locations": [
            "Australia",
            "Austria",
            "Belgium",
            "Brazil",
            "Canada",
            "Croatia",
            "Czech Republic",
            "Denmark",
            "Finland",
            "France",
            "Germany",
            "Iceland",
            "Italy",
            "Japan",
            "Netherlands",
            "New Zealand",
            "Norway",
            "Poland",
            "Portugal",
            "Singapore",
            "South Africa",
            "Spain",
            "Sweden",
            "Switzerland",
            "United Kingdom"
           ],
           "type": "choropleth",
           "z": [
            6.291128391793515,
            6.338979897989799,
            7.051951694380131,
            6.274034718569174,
            6.639615012286842,
            5.9331949897177045,
            5.90156343792633,
            6.568883522513719,
            6.449788745918955,
            6.586637214137214,
            5.90367054742165,
            6.827306501547987,
            6.417160342717258,
            6.287565897109617,
            6.954837098692034,
            6.070882223202471,
            6.209397724300287,
            6.115015700660308,
            6.404784394250513,
            6.434741935483871,
            5.600459363957597,
            6.528849798210213,
            6.543640060768961,
            6.241682407204041,
            5.8455803724158155
           ],
           "zmax": 8,
           "zmin": 4
          },
          {
           "colorscale": [
            [
             0,
             "#440154"
            ],
            [
             0.1111111111111111,
             "#482878"
            ],
            [
             0.2222222222222222,
             "#3e4989"
            ],
            [
             0.3333333333333333,
             "#31688e"
            ],
            [
             0.4444444444444444,
             "#26828e"
            ],
            [
             0.5555555555555556,
             "#1f9e89"
            ],
            [
             0.6666666666666666,
             "#35b779"
            ],
            [
             0.7777777777777778,
             "#6ece58"
            ],
            [
             0.8888888888888888,
             "#b5de2b"
            ],
            [
             1,
             "#fde725"
            ]
           ],
           "locationmode": "USA-states",
           "locations": [
            "AL",
            "AK",
            "AZ",
            "AR",
            "CA",
            "CO",
            "CT",
            "DE",
            "FL",
            "GA",
            "ID",
            "IL",
            "IN",
            "IA",
            "KS",
            "KY",
            "LA",
            "ME",
            "MD",
            "MA",
            "MI",
            "MN",
            "MS",
            "MO",
            "MT",
            "NE",
            "NV",
            "NH",
            "NJ",
            "NM",
            "NY",
            "NC",
            "ND",
            "OH",
            "OK",
            "OR",
            "PA",
            "RI",
            "SC",
            "SD",
            "TN",
            "TX",
            "UT",
            "VT",
            "VA",
            "WA",
            "WV",
            "WI",
            "WY"
           ],
           "type": "choropleth",
           "z": [
            6.574004400440044,
            7.697234636871508,
            7.266083821541235,
            6.605378250591016,
            6.943404957347497,
            6.856382900651316,
            6.842218524681087,
            7.048630338733433,
            7.021903336960465,
            6.937406126482213,
            7.009715639810427,
            6.856318068912809,
            6.836344472204871,
            6.953348891481914,
            6.975650741350906,
            6.703351857268206,
            6.587815533980582,
            6.820689655172413,
            6.775997177798683,
            6.812997827661115,
            7.2026908671852485,
            6.8992175606302,
            6.7186956521739125,
            6.676935038876348,
            7.02472,
            6.412378666666666,
            6.877089494163424,
            7.068893384102808,
            6.9707197750702905,
            6.878775510204082,
            6.8824510166358595,
            6.45378838597002,
            6.458726114649681,
            7.008706275529149,
            6.80091148115688,
            7.11843228396366,
            6.841766998700736,
            7.498765957446809,
            6.447427848101266,
            6.5600000000000005,
            6.428135076252723,
            7.039902467010902,
            6.5885267349260515,
            6.621752933057281,
            6.950270293609672,
            6.925942265795206,
            6.563300090661831,
            7.000658493870403,
            6.411125
           ],
           "zmax": 8,
           "zmin": 4
          }
         ],
         "name": "2015"
        },
        {
         "data": [
          {
           "colorscale": [
            [
             0,
             "#440154"
            ],
            [
             0.1111111111111111,
             "#482878"
            ],
            [
             0.2222222222222222,
             "#3e4989"
            ],
            [
             0.3333333333333333,
             "#31688e"
            ],
            [
             0.4444444444444444,
             "#26828e"
            ],
            [
             0.5555555555555556,
             "#1f9e89"
            ],
            [
             0.6666666666666666,
             "#35b779"
            ],
            [
             0.7777777777777778,
             "#6ece58"
            ],
            [
             0.8888888888888888,
             "#b5de2b"
            ],
            [
             1,
             "#fde725"
            ]
           ],
           "locationmode": "country names",
           "locations": [
            "Australia",
            "Austria",
            "Belgium",
            "Brazil",
            "Canada",
            "Croatia",
            "Czech Republic",
            "Denmark",
            "Finland",
            "France",
            "Germany",
            "Iceland",
            "Italy",
            "Japan",
            "Netherlands",
            "New Zealand",
            "Norway",
            "Poland",
            "Portugal",
            "Singapore",
            "South Africa",
            "Spain",
            "Sweden",
            "Switzerland",
            "United Kingdom"
           ],
           "type": "choropleth",
           "z": [
            6.247051524462303,
            6.361985638463939,
            6.996575395083406,
            6.482051948051948,
            6.578812154696133,
            5.975205691744153,
            5.806889952153109,
            6.604663295281299,
            6.420656175411628,
            6.748959030582805,
            6.066717561384986,
            6.997328431372549,
            6.363854394403148,
            6.342825866612609,
            7.05974011583984,
            6.2380978051598,
            6.123728206440293,
            6.4495202505516405,
            6.309480856586632,
            6.453,
            5.516311659192826,
            6.62529574541681,
            6.675483334161243,
            6.22385534591195,
            5.900482339684225
           ],
           "zmax": 8,
           "zmin": 4
          },
          {
           "colorscale": [
            [
             0,
             "#440154"
            ],
            [
             0.1111111111111111,
             "#482878"
            ],
            [
             0.2222222222222222,
             "#3e4989"
            ],
            [
             0.3333333333333333,
             "#31688e"
            ],
            [
             0.4444444444444444,
             "#26828e"
            ],
            [
             0.5555555555555556,
             "#1f9e89"
            ],
            [
             0.6666666666666666,
             "#35b779"
            ],
            [
             0.7777777777777778,
             "#6ece58"
            ],
            [
             0.8888888888888888,
             "#b5de2b"
            ],
            [
             1,
             "#fde725"
            ]
           ],
           "locationmode": "USA-states",
           "locations": [
            "AL",
            "AK",
            "AZ",
            "AR",
            "CA",
            "CO",
            "CT",
            "DE",
            "FL",
            "GA",
            "ID",
            "IL",
            "IN",
            "IA",
            "KS",
            "KY",
            "LA",
            "ME",
            "MD",
            "MA",
            "MI",
            "MN",
            "MS",
            "MO",
            "MT",
            "NE",
            "NV",
            "NH",
            "NJ",
            "NM",
            "NY",
            "NC",
            "ND",
            "OH",
            "OK",
            "OR",
            "PA",
            "RI",
            "SC",
            "SD",
            "TN",
            "TX",
            "UT",
            "VT",
            "VA",
            "WA",
            "WV",
            "WI",
            "WY"
           ],
           "type": "choropleth",
           "z": [
            6.664634313055366,
            6.990811775200713,
            7.1394739610731195,
            5.877142857142857,
            6.93355857385399,
            6.888630926007975,
            6.783779863481229,
            6.978797996661102,
            6.838014228918183,
            6.7701525536148575,
            7.068498606133015,
            7.0085175345377255,
            6.554283110571081,
            6.727295708406819,
            7.005504527813713,
            6.84089813140446,
            6.150692520775624,
            6.669719887955183,
            6.583677210639828,
            6.904012034161491,
            7.26806080283353,
            6.817603364530269,
            6.906896551724138,
            6.732865218684915,
            7.225358361774744,
            6.60257116620753,
            6.949946629213484,
            6.972972251867663,
            6.944071480823493,
            6.719745762711864,
            6.755338942307692,
            6.474447756251036,
            7.20962962962963,
            7.084473728106755,
            7.31190800681431,
            7.091034482758621,
            6.851326174149308,
            6.351515151515152,
            6.689636479591837,
            6.645882352941176,
            6.396937134502924,
            6.851568009603121,
            6.352345215759851,
            6.662839951865222,
            6.967483366301026,
            6.827583132744941,
            6.855905759162304,
            6.735518781725888,
            6.712628205128206
           ],
           "zmax": 8,
           "zmin": 4
          }
         ],
         "name": "2016"
        }
       ],
       "layout": {
        "geo": {
         "projection": {
          "type": "equirectangular"
         },
         "scope": "world",
         "showcoastlines": true,
         "showframe": false
        },
        "height": 600,
        "sliders": [
         {
          "steps": [
           {
            "args": [
             [
              "2002"
             ],
             {
              "frame": {
               "duration": 300,
               "redraw": true
              },
              "mode": "immediate"
             }
            ],
            "label": "2002",
            "method": "animate"
           },
           {
            "args": [
             [
              "2003"
             ],
             {
              "frame": {
               "duration": 300,
               "redraw": true
              },
              "mode": "immediate"
             }
            ],
            "label": "2003",
            "method": "animate"
           },
           {
            "args": [
             [
              "2004"
             ],
             {
              "frame": {
               "duration": 300,
               "redraw": true
              },
              "mode": "immediate"
             }
            ],
            "label": "2004",
            "method": "animate"
           },
           {
            "args": [
             [
              "2005"
             ],
             {
              "frame": {
               "duration": 300,
               "redraw": true
              },
              "mode": "immediate"
             }
            ],
            "label": "2005",
            "method": "animate"
           },
           {
            "args": [
             [
              "2006"
             ],
             {
              "frame": {
               "duration": 300,
               "redraw": true
              },
              "mode": "immediate"
             }
            ],
            "label": "2006",
            "method": "animate"
           },
           {
            "args": [
             [
              "2007"
             ],
             {
              "frame": {
               "duration": 300,
               "redraw": true
              },
              "mode": "immediate"
             }
            ],
            "label": "2007",
            "method": "animate"
           },
           {
            "args": [
             [
              "2008"
             ],
             {
              "frame": {
               "duration": 300,
               "redraw": true
              },
              "mode": "immediate"
             }
            ],
            "label": "2008",
            "method": "animate"
           },
           {
            "args": [
             [
              "2009"
             ],
             {
              "frame": {
               "duration": 300,
               "redraw": true
              },
              "mode": "immediate"
             }
            ],
            "label": "2009",
            "method": "animate"
           },
           {
            "args": [
             [
              "2010"
             ],
             {
              "frame": {
               "duration": 300,
               "redraw": true
              },
              "mode": "immediate"
             }
            ],
            "label": "2010",
            "method": "animate"
           },
           {
            "args": [
             [
              "2011"
             ],
             {
              "frame": {
               "duration": 300,
               "redraw": true
              },
              "mode": "immediate"
             }
            ],
            "label": "2011",
            "method": "animate"
           },
           {
            "args": [
             [
              "2012"
             ],
             {
              "frame": {
               "duration": 300,
               "redraw": true
              },
              "mode": "immediate"
             }
            ],
            "label": "2012",
            "method": "animate"
           },
           {
            "args": [
             [
              "2013"
             ],
             {
              "frame": {
               "duration": 300,
               "redraw": true
              },
              "mode": "immediate"
             }
            ],
            "label": "2013",
            "method": "animate"
           },
           {
            "args": [
             [
              "2014"
             ],
             {
              "frame": {
               "duration": 300,
               "redraw": true
              },
              "mode": "immediate"
             }
            ],
            "label": "2014",
            "method": "animate"
           },
           {
            "args": [
             [
              "2015"
             ],
             {
              "frame": {
               "duration": 300,
               "redraw": true
              },
              "mode": "immediate"
             }
            ],
            "label": "2015",
            "method": "animate"
           },
           {
            "args": [
             [
              "2016"
             ],
             {
              "frame": {
               "duration": 300,
               "redraw": true
              },
              "mode": "immediate"
             }
            ],
            "label": "2016",
            "method": "animate"
           }
          ],
          "transition": {
           "duration": 300
          },
          "x": 0.1,
          "xanchor": "left",
          "y": 0,
          "yanchor": "top"
         }
        ],
        "template": {
         "data": {
          "bar": [
           {
            "error_x": {
             "color": "#2a3f5f"
            },
            "error_y": {
             "color": "#2a3f5f"
            },
            "marker": {
             "line": {
              "color": "#E5ECF6",
              "width": 0.5
             },
             "pattern": {
              "fillmode": "overlay",
              "size": 10,
              "solidity": 0.2
             }
            },
            "type": "bar"
           }
          ],
          "barpolar": [
           {
            "marker": {
             "line": {
              "color": "#E5ECF6",
              "width": 0.5
             },
             "pattern": {
              "fillmode": "overlay",
              "size": 10,
              "solidity": 0.2
             }
            },
            "type": "barpolar"
           }
          ],
          "carpet": [
           {
            "aaxis": {
             "endlinecolor": "#2a3f5f",
             "gridcolor": "white",
             "linecolor": "white",
             "minorgridcolor": "white",
             "startlinecolor": "#2a3f5f"
            },
            "baxis": {
             "endlinecolor": "#2a3f5f",
             "gridcolor": "white",
             "linecolor": "white",
             "minorgridcolor": "white",
             "startlinecolor": "#2a3f5f"
            },
            "type": "carpet"
           }
          ],
          "choropleth": [
           {
            "colorbar": {
             "outlinewidth": 0,
             "ticks": ""
            },
            "type": "choropleth"
           }
          ],
          "contour": [
           {
            "colorbar": {
             "outlinewidth": 0,
             "ticks": ""
            },
            "colorscale": [
             [
              0,
              "#0d0887"
             ],
             [
              0.1111111111111111,
              "#46039f"
             ],
             [
              0.2222222222222222,
              "#7201a8"
             ],
             [
              0.3333333333333333,
              "#9c179e"
             ],
             [
              0.4444444444444444,
              "#bd3786"
             ],
             [
              0.5555555555555556,
              "#d8576b"
             ],
             [
              0.6666666666666666,
              "#ed7953"
             ],
             [
              0.7777777777777778,
              "#fb9f3a"
             ],
             [
              0.8888888888888888,
              "#fdca26"
             ],
             [
              1,
              "#f0f921"
             ]
            ],
            "type": "contour"
           }
          ],
          "contourcarpet": [
           {
            "colorbar": {
             "outlinewidth": 0,
             "ticks": ""
            },
            "type": "contourcarpet"
           }
          ],
          "heatmap": [
           {
            "colorbar": {
             "outlinewidth": 0,
             "ticks": ""
            },
            "colorscale": [
             [
              0,
              "#0d0887"
             ],
             [
              0.1111111111111111,
              "#46039f"
             ],
             [
              0.2222222222222222,
              "#7201a8"
             ],
             [
              0.3333333333333333,
              "#9c179e"
             ],
             [
              0.4444444444444444,
              "#bd3786"
             ],
             [
              0.5555555555555556,
              "#d8576b"
             ],
             [
              0.6666666666666666,
              "#ed7953"
             ],
             [
              0.7777777777777778,
              "#fb9f3a"
             ],
             [
              0.8888888888888888,
              "#fdca26"
             ],
             [
              1,
              "#f0f921"
             ]
            ],
            "type": "heatmap"
           }
          ],
          "heatmapgl": [
           {
            "colorbar": {
             "outlinewidth": 0,
             "ticks": ""
            },
            "colorscale": [
             [
              0,
              "#0d0887"
             ],
             [
              0.1111111111111111,
              "#46039f"
             ],
             [
              0.2222222222222222,
              "#7201a8"
             ],
             [
              0.3333333333333333,
              "#9c179e"
             ],
             [
              0.4444444444444444,
              "#bd3786"
             ],
             [
              0.5555555555555556,
              "#d8576b"
             ],
             [
              0.6666666666666666,
              "#ed7953"
             ],
             [
              0.7777777777777778,
              "#fb9f3a"
             ],
             [
              0.8888888888888888,
              "#fdca26"
             ],
             [
              1,
              "#f0f921"
             ]
            ],
            "type": "heatmapgl"
           }
          ],
          "histogram": [
           {
            "marker": {
             "pattern": {
              "fillmode": "overlay",
              "size": 10,
              "solidity": 0.2
             }
            },
            "type": "histogram"
           }
          ],
          "histogram2d": [
           {
            "colorbar": {
             "outlinewidth": 0,
             "ticks": ""
            },
            "colorscale": [
             [
              0,
              "#0d0887"
             ],
             [
              0.1111111111111111,
              "#46039f"
             ],
             [
              0.2222222222222222,
              "#7201a8"
             ],
             [
              0.3333333333333333,
              "#9c179e"
             ],
             [
              0.4444444444444444,
              "#bd3786"
             ],
             [
              0.5555555555555556,
              "#d8576b"
             ],
             [
              0.6666666666666666,
              "#ed7953"
             ],
             [
              0.7777777777777778,
              "#fb9f3a"
             ],
             [
              0.8888888888888888,
              "#fdca26"
             ],
             [
              1,
              "#f0f921"
             ]
            ],
            "type": "histogram2d"
           }
          ],
          "histogram2dcontour": [
           {
            "colorbar": {
             "outlinewidth": 0,
             "ticks": ""
            },
            "colorscale": [
             [
              0,
              "#0d0887"
             ],
             [
              0.1111111111111111,
              "#46039f"
             ],
             [
              0.2222222222222222,
              "#7201a8"
             ],
             [
              0.3333333333333333,
              "#9c179e"
             ],
             [
              0.4444444444444444,
              "#bd3786"
             ],
             [
              0.5555555555555556,
              "#d8576b"
             ],
             [
              0.6666666666666666,
              "#ed7953"
             ],
             [
              0.7777777777777778,
              "#fb9f3a"
             ],
             [
              0.8888888888888888,
              "#fdca26"
             ],
             [
              1,
              "#f0f921"
             ]
            ],
            "type": "histogram2dcontour"
           }
          ],
          "mesh3d": [
           {
            "colorbar": {
             "outlinewidth": 0,
             "ticks": ""
            },
            "type": "mesh3d"
           }
          ],
          "parcoords": [
           {
            "line": {
             "colorbar": {
              "outlinewidth": 0,
              "ticks": ""
             }
            },
            "type": "parcoords"
           }
          ],
          "pie": [
           {
            "automargin": true,
            "type": "pie"
           }
          ],
          "scatter": [
           {
            "fillpattern": {
             "fillmode": "overlay",
             "size": 10,
             "solidity": 0.2
            },
            "type": "scatter"
           }
          ],
          "scatter3d": [
           {
            "line": {
             "colorbar": {
              "outlinewidth": 0,
              "ticks": ""
             }
            },
            "marker": {
             "colorbar": {
              "outlinewidth": 0,
              "ticks": ""
             }
            },
            "type": "scatter3d"
           }
          ],
          "scattercarpet": [
           {
            "marker": {
             "colorbar": {
              "outlinewidth": 0,
              "ticks": ""
             }
            },
            "type": "scattercarpet"
           }
          ],
          "scattergeo": [
           {
            "marker": {
             "colorbar": {
              "outlinewidth": 0,
              "ticks": ""
             }
            },
            "type": "scattergeo"
           }
          ],
          "scattergl": [
           {
            "marker": {
             "colorbar": {
              "outlinewidth": 0,
              "ticks": ""
             }
            },
            "type": "scattergl"
           }
          ],
          "scattermapbox": [
           {
            "marker": {
             "colorbar": {
              "outlinewidth": 0,
              "ticks": ""
             }
            },
            "type": "scattermapbox"
           }
          ],
          "scatterpolar": [
           {
            "marker": {
             "colorbar": {
              "outlinewidth": 0,
              "ticks": ""
             }
            },
            "type": "scatterpolar"
           }
          ],
          "scatterpolargl": [
           {
            "marker": {
             "colorbar": {
              "outlinewidth": 0,
              "ticks": ""
             }
            },
            "type": "scatterpolargl"
           }
          ],
          "scatterternary": [
           {
            "marker": {
             "colorbar": {
              "outlinewidth": 0,
              "ticks": ""
             }
            },
            "type": "scatterternary"
           }
          ],
          "surface": [
           {
            "colorbar": {
             "outlinewidth": 0,
             "ticks": ""
            },
            "colorscale": [
             [
              0,
              "#0d0887"
             ],
             [
              0.1111111111111111,
              "#46039f"
             ],
             [
              0.2222222222222222,
              "#7201a8"
             ],
             [
              0.3333333333333333,
              "#9c179e"
             ],
             [
              0.4444444444444444,
              "#bd3786"
             ],
             [
              0.5555555555555556,
              "#d8576b"
             ],
             [
              0.6666666666666666,
              "#ed7953"
             ],
             [
              0.7777777777777778,
              "#fb9f3a"
             ],
             [
              0.8888888888888888,
              "#fdca26"
             ],
             [
              1,
              "#f0f921"
             ]
            ],
            "type": "surface"
           }
          ],
          "table": [
           {
            "cells": {
             "fill": {
              "color": "#EBF0F8"
             },
             "line": {
              "color": "white"
             }
            },
            "header": {
             "fill": {
              "color": "#C8D4E3"
             },
             "line": {
              "color": "white"
             }
            },
            "type": "table"
           }
          ]
         },
         "layout": {
          "annotationdefaults": {
           "arrowcolor": "#2a3f5f",
           "arrowhead": 0,
           "arrowwidth": 1
          },
          "autotypenumbers": "strict",
          "coloraxis": {
           "colorbar": {
            "outlinewidth": 0,
            "ticks": ""
           }
          },
          "colorscale": {
           "diverging": [
            [
             0,
             "#8e0152"
            ],
            [
             0.1,
             "#c51b7d"
            ],
            [
             0.2,
             "#de77ae"
            ],
            [
             0.3,
             "#f1b6da"
            ],
            [
             0.4,
             "#fde0ef"
            ],
            [
             0.5,
             "#f7f7f7"
            ],
            [
             0.6,
             "#e6f5d0"
            ],
            [
             0.7,
             "#b8e186"
            ],
            [
             0.8,
             "#7fbc41"
            ],
            [
             0.9,
             "#4d9221"
            ],
            [
             1,
             "#276419"
            ]
           ],
           "sequential": [
            [
             0,
             "#0d0887"
            ],
            [
             0.1111111111111111,
             "#46039f"
            ],
            [
             0.2222222222222222,
             "#7201a8"
            ],
            [
             0.3333333333333333,
             "#9c179e"
            ],
            [
             0.4444444444444444,
             "#bd3786"
            ],
            [
             0.5555555555555556,
             "#d8576b"
            ],
            [
             0.6666666666666666,
             "#ed7953"
            ],
            [
             0.7777777777777778,
             "#fb9f3a"
            ],
            [
             0.8888888888888888,
             "#fdca26"
            ],
            [
             1,
             "#f0f921"
            ]
           ],
           "sequentialminus": [
            [
             0,
             "#0d0887"
            ],
            [
             0.1111111111111111,
             "#46039f"
            ],
            [
             0.2222222222222222,
             "#7201a8"
            ],
            [
             0.3333333333333333,
             "#9c179e"
            ],
            [
             0.4444444444444444,
             "#bd3786"
            ],
            [
             0.5555555555555556,
             "#d8576b"
            ],
            [
             0.6666666666666666,
             "#ed7953"
            ],
            [
             0.7777777777777778,
             "#fb9f3a"
            ],
            [
             0.8888888888888888,
             "#fdca26"
            ],
            [
             1,
             "#f0f921"
            ]
           ]
          },
          "colorway": [
           "#636efa",
           "#EF553B",
           "#00cc96",
           "#ab63fa",
           "#FFA15A",
           "#19d3f3",
           "#FF6692",
           "#B6E880",
           "#FF97FF",
           "#FECB52"
          ],
          "font": {
           "color": "#2a3f5f"
          },
          "geo": {
           "bgcolor": "white",
           "lakecolor": "white",
           "landcolor": "#E5ECF6",
           "showlakes": true,
           "showland": true,
           "subunitcolor": "white"
          },
          "hoverlabel": {
           "align": "left"
          },
          "hovermode": "closest",
          "mapbox": {
           "style": "light"
          },
          "paper_bgcolor": "white",
          "plot_bgcolor": "#E5ECF6",
          "polar": {
           "angularaxis": {
            "gridcolor": "white",
            "linecolor": "white",
            "ticks": ""
           },
           "bgcolor": "#E5ECF6",
           "radialaxis": {
            "gridcolor": "white",
            "linecolor": "white",
            "ticks": ""
           }
          },
          "scene": {
           "xaxis": {
            "backgroundcolor": "#E5ECF6",
            "gridcolor": "white",
            "gridwidth": 2,
            "linecolor": "white",
            "showbackground": true,
            "ticks": "",
            "zerolinecolor": "white"
           },
           "yaxis": {
            "backgroundcolor": "#E5ECF6",
            "gridcolor": "white",
            "gridwidth": 2,
            "linecolor": "white",
            "showbackground": true,
            "ticks": "",
            "zerolinecolor": "white"
           },
           "zaxis": {
            "backgroundcolor": "#E5ECF6",
            "gridcolor": "white",
            "gridwidth": 2,
            "linecolor": "white",
            "showbackground": true,
            "ticks": "",
            "zerolinecolor": "white"
           }
          },
          "shapedefaults": {
           "line": {
            "color": "#2a3f5f"
           }
          },
          "ternary": {
           "aaxis": {
            "gridcolor": "white",
            "linecolor": "white",
            "ticks": ""
           },
           "baxis": {
            "gridcolor": "white",
            "linecolor": "white",
            "ticks": ""
           },
           "bgcolor": "#E5ECF6",
           "caxis": {
            "gridcolor": "white",
            "linecolor": "white",
            "ticks": ""
           }
          },
          "title": {
           "x": 0.05
          },
          "xaxis": {
           "automargin": true,
           "gridcolor": "white",
           "linecolor": "white",
           "ticks": "",
           "title": {
            "standoff": 15
           },
           "zerolinecolor": "white",
           "zerolinewidth": 2
          },
          "yaxis": {
           "automargin": true,
           "gridcolor": "white",
           "linecolor": "white",
           "ticks": "",
           "title": {
            "standoff": 15
           },
           "zerolinecolor": "white",
           "zerolinewidth": 2
          }
         }
        },
        "title": {
         "text": "Average ABV by users country over the years",
         "x": 0.5
        },
        "updatemenus": [
         {
          "buttons": [
           {
            "args": [
             null,
             {
              "frame": {
               "duration": 300,
               "redraw": true
              },
              "fromcurrent": true
             }
            ],
            "label": "Play",
            "method": "animate"
           },
           {
            "args": [
             [
              null
             ],
             {
              "frame": {
               "duration": 0,
               "redraw": true
              },
              "mode": "immediate"
             }
            ],
            "label": "Pause",
            "method": "animate"
           }
          ],
          "direction": "left",
          "pad": {
           "r": 10,
           "t": 87
          },
          "showactive": false,
          "type": "buttons",
          "x": 0.1,
          "xanchor": "right",
          "y": 0,
          "yanchor": "top"
         }
        ],
        "width": 800
       }
      }
     },
     "metadata": {},
     "output_type": "display_data"
    }
   ],
   "source": [
    "abv_pres.plot_abv_evolution_map()"
   ]
  },
  {
   "cell_type": "markdown",
   "metadata": {},
   "source": [
    "From the plot we can do multiple considerations:\n",
    "- The beers with an higher ABV have in general an higher average rating while the ones with a lower ABV have in general a lower average rating. This is confirmed by the quite high correlation between the ABV and the average rating for that ABV. We see also that this correlation is quite stable over the years.\n",
    "- Over the years we can see an increase in the ratings (as discussed also in the previous section) but we can also see an increase in the average ABV over time. We observe a significant increase in the preferred ABV in all countries even if in some countries, such as Germany or UK, the increase is less important than in other countries.\n"
   ]
  },
  {
   "cell_type": "markdown",
   "metadata": {},
   "source": [
    "## Style analysis"
   ]
  },
  {
   "cell_type": "markdown",
   "metadata": {},
   "source": [
    "In this section we are going to study the preference for the different beers styles. We'll also explain some of the results obtained in the previous sections thanks to the analysis of the styles."
   ]
  },
  {
   "cell_type": "code",
   "execution_count": 34,
   "metadata": {},
   "outputs": [],
   "source": [
    "from src.processing.style import StyleAnalysis\n",
    "style_pres = StyleAnalysis(df_beers, df_breweries, df_users, df_ratings_no_text, save_folder=SAVING_FOLDER + '/style')"
   ]
  },
  {
   "cell_type": "code",
   "execution_count": 35,
   "metadata": {},
   "outputs": [
    {
     "data": {
      "application/vnd.plotly.v1+json": {
       "config": {
        "plotlyServerURL": "https://plot.ly"
       },
       "data": [
        {
         "domain": {
          "x": [
           0,
           1
          ],
          "y": [
           0,
           1
          ]
         },
         "hole": 0.6,
         "hovertemplate": "style=%{label}<br>count=%{value}<extra></extra>",
         "labels": [
          "India Pale Ale (IPA)",
          "Imperial Stout",
          "Pale Lager",
          "American Pale Ale",
          "Imperial IPA",
          "Belgian Strong Ale",
          "Saison",
          "Porter",
          "Belgian Ale",
          "Golden Ale/Blond Ale",
          "Spice/Herb/Vegetable",
          "Pilsener",
          "Stout",
          "Bitter",
          "Sour/Wild Ale",
          "Barley Wine",
          "Amber Ale",
          "German Hefeweizen",
          "Fruit Beer",
          "Other"
         ],
         "legendgroup": "",
         "name": "",
         "showlegend": true,
         "textfont": {
          "size": 14
         },
         "textinfo": "label+percent",
         "type": "pie",
         "values": [
          487016,
          310964,
          280906,
          254620,
          241534,
          241526,
          182505,
          179680,
          173808,
          166712,
          154316,
          143210,
          141583,
          140969,
          133670,
          130006,
          127275,
          123927,
          123743,
          2679418
         ]
        }
       ],
       "layout": {
        "autosize": false,
        "height": 600,
        "legend": {
         "tracegroupgap": 0
        },
        "piecolorway": [
         "#440154",
         "#482878",
         "#3e4989",
         "#31688e",
         "#26828e",
         "#1f9e89",
         "#35b779",
         "#6ece58",
         "#b5de2b",
         "#fde725"
        ],
        "template": {
         "data": {
          "bar": [
           {
            "error_x": {
             "color": "#2a3f5f"
            },
            "error_y": {
             "color": "#2a3f5f"
            },
            "marker": {
             "line": {
              "color": "#E5ECF6",
              "width": 0.5
             },
             "pattern": {
              "fillmode": "overlay",
              "size": 10,
              "solidity": 0.2
             }
            },
            "type": "bar"
           }
          ],
          "barpolar": [
           {
            "marker": {
             "line": {
              "color": "#E5ECF6",
              "width": 0.5
             },
             "pattern": {
              "fillmode": "overlay",
              "size": 10,
              "solidity": 0.2
             }
            },
            "type": "barpolar"
           }
          ],
          "carpet": [
           {
            "aaxis": {
             "endlinecolor": "#2a3f5f",
             "gridcolor": "white",
             "linecolor": "white",
             "minorgridcolor": "white",
             "startlinecolor": "#2a3f5f"
            },
            "baxis": {
             "endlinecolor": "#2a3f5f",
             "gridcolor": "white",
             "linecolor": "white",
             "minorgridcolor": "white",
             "startlinecolor": "#2a3f5f"
            },
            "type": "carpet"
           }
          ],
          "choropleth": [
           {
            "colorbar": {
             "outlinewidth": 0,
             "ticks": ""
            },
            "type": "choropleth"
           }
          ],
          "contour": [
           {
            "colorbar": {
             "outlinewidth": 0,
             "ticks": ""
            },
            "colorscale": [
             [
              0,
              "#0d0887"
             ],
             [
              0.1111111111111111,
              "#46039f"
             ],
             [
              0.2222222222222222,
              "#7201a8"
             ],
             [
              0.3333333333333333,
              "#9c179e"
             ],
             [
              0.4444444444444444,
              "#bd3786"
             ],
             [
              0.5555555555555556,
              "#d8576b"
             ],
             [
              0.6666666666666666,
              "#ed7953"
             ],
             [
              0.7777777777777778,
              "#fb9f3a"
             ],
             [
              0.8888888888888888,
              "#fdca26"
             ],
             [
              1,
              "#f0f921"
             ]
            ],
            "type": "contour"
           }
          ],
          "contourcarpet": [
           {
            "colorbar": {
             "outlinewidth": 0,
             "ticks": ""
            },
            "type": "contourcarpet"
           }
          ],
          "heatmap": [
           {
            "colorbar": {
             "outlinewidth": 0,
             "ticks": ""
            },
            "colorscale": [
             [
              0,
              "#0d0887"
             ],
             [
              0.1111111111111111,
              "#46039f"
             ],
             [
              0.2222222222222222,
              "#7201a8"
             ],
             [
              0.3333333333333333,
              "#9c179e"
             ],
             [
              0.4444444444444444,
              "#bd3786"
             ],
             [
              0.5555555555555556,
              "#d8576b"
             ],
             [
              0.6666666666666666,
              "#ed7953"
             ],
             [
              0.7777777777777778,
              "#fb9f3a"
             ],
             [
              0.8888888888888888,
              "#fdca26"
             ],
             [
              1,
              "#f0f921"
             ]
            ],
            "type": "heatmap"
           }
          ],
          "heatmapgl": [
           {
            "colorbar": {
             "outlinewidth": 0,
             "ticks": ""
            },
            "colorscale": [
             [
              0,
              "#0d0887"
             ],
             [
              0.1111111111111111,
              "#46039f"
             ],
             [
              0.2222222222222222,
              "#7201a8"
             ],
             [
              0.3333333333333333,
              "#9c179e"
             ],
             [
              0.4444444444444444,
              "#bd3786"
             ],
             [
              0.5555555555555556,
              "#d8576b"
             ],
             [
              0.6666666666666666,
              "#ed7953"
             ],
             [
              0.7777777777777778,
              "#fb9f3a"
             ],
             [
              0.8888888888888888,
              "#fdca26"
             ],
             [
              1,
              "#f0f921"
             ]
            ],
            "type": "heatmapgl"
           }
          ],
          "histogram": [
           {
            "marker": {
             "pattern": {
              "fillmode": "overlay",
              "size": 10,
              "solidity": 0.2
             }
            },
            "type": "histogram"
           }
          ],
          "histogram2d": [
           {
            "colorbar": {
             "outlinewidth": 0,
             "ticks": ""
            },
            "colorscale": [
             [
              0,
              "#0d0887"
             ],
             [
              0.1111111111111111,
              "#46039f"
             ],
             [
              0.2222222222222222,
              "#7201a8"
             ],
             [
              0.3333333333333333,
              "#9c179e"
             ],
             [
              0.4444444444444444,
              "#bd3786"
             ],
             [
              0.5555555555555556,
              "#d8576b"
             ],
             [
              0.6666666666666666,
              "#ed7953"
             ],
             [
              0.7777777777777778,
              "#fb9f3a"
             ],
             [
              0.8888888888888888,
              "#fdca26"
             ],
             [
              1,
              "#f0f921"
             ]
            ],
            "type": "histogram2d"
           }
          ],
          "histogram2dcontour": [
           {
            "colorbar": {
             "outlinewidth": 0,
             "ticks": ""
            },
            "colorscale": [
             [
              0,
              "#0d0887"
             ],
             [
              0.1111111111111111,
              "#46039f"
             ],
             [
              0.2222222222222222,
              "#7201a8"
             ],
             [
              0.3333333333333333,
              "#9c179e"
             ],
             [
              0.4444444444444444,
              "#bd3786"
             ],
             [
              0.5555555555555556,
              "#d8576b"
             ],
             [
              0.6666666666666666,
              "#ed7953"
             ],
             [
              0.7777777777777778,
              "#fb9f3a"
             ],
             [
              0.8888888888888888,
              "#fdca26"
             ],
             [
              1,
              "#f0f921"
             ]
            ],
            "type": "histogram2dcontour"
           }
          ],
          "mesh3d": [
           {
            "colorbar": {
             "outlinewidth": 0,
             "ticks": ""
            },
            "type": "mesh3d"
           }
          ],
          "parcoords": [
           {
            "line": {
             "colorbar": {
              "outlinewidth": 0,
              "ticks": ""
             }
            },
            "type": "parcoords"
           }
          ],
          "pie": [
           {
            "automargin": true,
            "type": "pie"
           }
          ],
          "scatter": [
           {
            "fillpattern": {
             "fillmode": "overlay",
             "size": 10,
             "solidity": 0.2
            },
            "type": "scatter"
           }
          ],
          "scatter3d": [
           {
            "line": {
             "colorbar": {
              "outlinewidth": 0,
              "ticks": ""
             }
            },
            "marker": {
             "colorbar": {
              "outlinewidth": 0,
              "ticks": ""
             }
            },
            "type": "scatter3d"
           }
          ],
          "scattercarpet": [
           {
            "marker": {
             "colorbar": {
              "outlinewidth": 0,
              "ticks": ""
             }
            },
            "type": "scattercarpet"
           }
          ],
          "scattergeo": [
           {
            "marker": {
             "colorbar": {
              "outlinewidth": 0,
              "ticks": ""
             }
            },
            "type": "scattergeo"
           }
          ],
          "scattergl": [
           {
            "marker": {
             "colorbar": {
              "outlinewidth": 0,
              "ticks": ""
             }
            },
            "type": "scattergl"
           }
          ],
          "scattermapbox": [
           {
            "marker": {
             "colorbar": {
              "outlinewidth": 0,
              "ticks": ""
             }
            },
            "type": "scattermapbox"
           }
          ],
          "scatterpolar": [
           {
            "marker": {
             "colorbar": {
              "outlinewidth": 0,
              "ticks": ""
             }
            },
            "type": "scatterpolar"
           }
          ],
          "scatterpolargl": [
           {
            "marker": {
             "colorbar": {
              "outlinewidth": 0,
              "ticks": ""
             }
            },
            "type": "scatterpolargl"
           }
          ],
          "scatterternary": [
           {
            "marker": {
             "colorbar": {
              "outlinewidth": 0,
              "ticks": ""
             }
            },
            "type": "scatterternary"
           }
          ],
          "surface": [
           {
            "colorbar": {
             "outlinewidth": 0,
             "ticks": ""
            },
            "colorscale": [
             [
              0,
              "#0d0887"
             ],
             [
              0.1111111111111111,
              "#46039f"
             ],
             [
              0.2222222222222222,
              "#7201a8"
             ],
             [
              0.3333333333333333,
              "#9c179e"
             ],
             [
              0.4444444444444444,
              "#bd3786"
             ],
             [
              0.5555555555555556,
              "#d8576b"
             ],
             [
              0.6666666666666666,
              "#ed7953"
             ],
             [
              0.7777777777777778,
              "#fb9f3a"
             ],
             [
              0.8888888888888888,
              "#fdca26"
             ],
             [
              1,
              "#f0f921"
             ]
            ],
            "type": "surface"
           }
          ],
          "table": [
           {
            "cells": {
             "fill": {
              "color": "#EBF0F8"
             },
             "line": {
              "color": "white"
             }
            },
            "header": {
             "fill": {
              "color": "#C8D4E3"
             },
             "line": {
              "color": "white"
             }
            },
            "type": "table"
           }
          ]
         },
         "layout": {
          "annotationdefaults": {
           "arrowcolor": "#2a3f5f",
           "arrowhead": 0,
           "arrowwidth": 1
          },
          "autotypenumbers": "strict",
          "coloraxis": {
           "colorbar": {
            "outlinewidth": 0,
            "ticks": ""
           }
          },
          "colorscale": {
           "diverging": [
            [
             0,
             "#8e0152"
            ],
            [
             0.1,
             "#c51b7d"
            ],
            [
             0.2,
             "#de77ae"
            ],
            [
             0.3,
             "#f1b6da"
            ],
            [
             0.4,
             "#fde0ef"
            ],
            [
             0.5,
             "#f7f7f7"
            ],
            [
             0.6,
             "#e6f5d0"
            ],
            [
             0.7,
             "#b8e186"
            ],
            [
             0.8,
             "#7fbc41"
            ],
            [
             0.9,
             "#4d9221"
            ],
            [
             1,
             "#276419"
            ]
           ],
           "sequential": [
            [
             0,
             "#0d0887"
            ],
            [
             0.1111111111111111,
             "#46039f"
            ],
            [
             0.2222222222222222,
             "#7201a8"
            ],
            [
             0.3333333333333333,
             "#9c179e"
            ],
            [
             0.4444444444444444,
             "#bd3786"
            ],
            [
             0.5555555555555556,
             "#d8576b"
            ],
            [
             0.6666666666666666,
             "#ed7953"
            ],
            [
             0.7777777777777778,
             "#fb9f3a"
            ],
            [
             0.8888888888888888,
             "#fdca26"
            ],
            [
             1,
             "#f0f921"
            ]
           ],
           "sequentialminus": [
            [
             0,
             "#0d0887"
            ],
            [
             0.1111111111111111,
             "#46039f"
            ],
            [
             0.2222222222222222,
             "#7201a8"
            ],
            [
             0.3333333333333333,
             "#9c179e"
            ],
            [
             0.4444444444444444,
             "#bd3786"
            ],
            [
             0.5555555555555556,
             "#d8576b"
            ],
            [
             0.6666666666666666,
             "#ed7953"
            ],
            [
             0.7777777777777778,
             "#fb9f3a"
            ],
            [
             0.8888888888888888,
             "#fdca26"
            ],
            [
             1,
             "#f0f921"
            ]
           ]
          },
          "colorway": [
           "#636efa",
           "#EF553B",
           "#00cc96",
           "#ab63fa",
           "#FFA15A",
           "#19d3f3",
           "#FF6692",
           "#B6E880",
           "#FF97FF",
           "#FECB52"
          ],
          "font": {
           "color": "#2a3f5f"
          },
          "geo": {
           "bgcolor": "white",
           "lakecolor": "white",
           "landcolor": "#E5ECF6",
           "showlakes": true,
           "showland": true,
           "subunitcolor": "white"
          },
          "hoverlabel": {
           "align": "left"
          },
          "hovermode": "closest",
          "mapbox": {
           "style": "light"
          },
          "paper_bgcolor": "white",
          "plot_bgcolor": "#E5ECF6",
          "polar": {
           "angularaxis": {
            "gridcolor": "white",
            "linecolor": "white",
            "ticks": ""
           },
           "bgcolor": "#E5ECF6",
           "radialaxis": {
            "gridcolor": "white",
            "linecolor": "white",
            "ticks": ""
           }
          },
          "scene": {
           "xaxis": {
            "backgroundcolor": "#E5ECF6",
            "gridcolor": "white",
            "gridwidth": 2,
            "linecolor": "white",
            "showbackground": true,
            "ticks": "",
            "zerolinecolor": "white"
           },
           "yaxis": {
            "backgroundcolor": "#E5ECF6",
            "gridcolor": "white",
            "gridwidth": 2,
            "linecolor": "white",
            "showbackground": true,
            "ticks": "",
            "zerolinecolor": "white"
           },
           "zaxis": {
            "backgroundcolor": "#E5ECF6",
            "gridcolor": "white",
            "gridwidth": 2,
            "linecolor": "white",
            "showbackground": true,
            "ticks": "",
            "zerolinecolor": "white"
           }
          },
          "shapedefaults": {
           "line": {
            "color": "#2a3f5f"
           }
          },
          "ternary": {
           "aaxis": {
            "gridcolor": "white",
            "linecolor": "white",
            "ticks": ""
           },
           "baxis": {
            "gridcolor": "white",
            "linecolor": "white",
            "ticks": ""
           },
           "bgcolor": "#E5ECF6",
           "caxis": {
            "gridcolor": "white",
            "linecolor": "white",
            "ticks": ""
           }
          },
          "title": {
           "x": 0.05
          },
          "xaxis": {
           "automargin": true,
           "gridcolor": "white",
           "linecolor": "white",
           "ticks": "",
           "title": {
            "standoff": 15
           },
           "zerolinecolor": "white",
           "zerolinewidth": 2
          },
          "yaxis": {
           "automargin": true,
           "gridcolor": "white",
           "linecolor": "white",
           "ticks": "",
           "title": {
            "standoff": 15
           },
           "zerolinecolor": "white",
           "zerolinewidth": 2
          }
         }
        },
        "title": {
         "text": "Distribution of the styles of beers",
         "x": 0.5
        },
        "width": 800
       }
      }
     },
     "metadata": {},
     "output_type": "display_data"
    }
   ],
   "source": [
    "style_pres.plot_pie_chart()"
   ]
  },
  {
   "cell_type": "markdown",
   "metadata": {},
   "source": [
    "We see that approximately <b>25%</b> of the beer market is dominated by only 6 beer styles with the India Pale Ale (IPA) that is the favourite one. We see that a significant amount of beers are from minor or local styles with approximately <b>41.8 %</b> that are from a style that have less than <b>1.90 %</b> of the market. <br>\n",
    "\n",
    "Hop-driven beers like IPAs dominate many craft beer markets, reflecting a strong preference for bold, aromatic, and versatile flavors. Meanwhile, Belgian Strong Ales and Belgian Ales emphasize the appeal of complex profiles. The popularity of these styles is likely due to their rich history, diverse flavor profiles, and unique brewing techniques. <br>\n",
    "\n",
    "In the top style we see that there are both easy-drinking beers such as Pale Lagers and Golden Ales but also higher-intensity styles such as Imperial Stouds and Imperial IPA which target consumers seeking robust flavors and higher alcohol content. <br>\n",
    "\n",
    "Overall we can see that the IPAs emerge as a favourite due to their strong presence in the beer scene even if there is not a single style that significantly dominates the market. "
   ]
  },
  {
   "cell_type": "markdown",
   "metadata": {},
   "source": [
    "If we now move from the global to the local point of view we see very interesting results. In the following we are plotting the most consumed beer for each country."
   ]
  },
  {
   "cell_type": "code",
   "execution_count": 36,
   "metadata": {},
   "outputs": [
    {
     "data": {
      "application/vnd.plotly.v1+json": {
       "config": {
        "plotlyServerURL": "https://plot.ly"
       },
       "data": [
        {
         "link": {
          "color": [
           "rgba(15, 255, 255, 0.6)",
           "rgba(45, 255, 255, 0.6)",
           "rgba(15, 255, 255, 0.6)",
           "rgba(15, 255, 255, 0.6)",
           "rgba(15, 255, 255, 0.6)",
           "rgba(15, 255, 255, 0.6)",
           "rgba(165, 190, 210, 0.6)",
           "rgba(135, 220, 230, 0.6)",
           "rgba(15, 255, 255, 0.6)",
           "rgba(15, 255, 255, 0.6)",
           "rgba(75, 255, 255, 0.6)",
           "rgba(15, 255, 255, 0.6)",
           "rgba(15, 255, 255, 0.6)",
           "rgba(15, 255, 255, 0.6)",
           "rgba(15, 255, 255, 0.6)",
           "rgba(15, 255, 255, 0.6)",
           "rgba(15, 255, 255, 0.6)",
           "rgba(255, 100, 150, 0.6)",
           "rgba(15, 255, 255, 0.6)",
           "rgba(105, 250, 250, 0.6)",
           "rgba(225, 130, 170, 0.6)",
           "rgba(105, 250, 250, 0.6)",
           "rgba(165, 190, 210, 0.6)",
           "rgba(105, 250, 250, 0.6)",
           "rgba(15, 255, 255, 0.6)",
           "rgba(105, 250, 250, 0.6)",
           "rgba(105, 250, 250, 0.6)",
           "rgba(195, 160, 190, 0.6)",
           "rgba(45, 255, 255, 0.6)",
           "rgba(105, 250, 250, 0.6)",
           "rgba(105, 250, 250, 0.6)",
           "rgba(15, 255, 255, 0.6)",
           "rgba(15, 255, 255, 0.6)",
           "rgba(105, 250, 250, 0.6)",
           "rgba(105, 250, 250, 0.6)",
           "rgba(15, 255, 255, 0.6)",
           "rgba(15, 255, 255, 0.6)",
           "rgba(105, 250, 250, 0.6)",
           "rgba(15, 255, 255, 0.6)",
           "rgba(105, 250, 250, 0.6)",
           "rgba(105, 250, 250, 0.6)",
           "rgba(15, 255, 255, 0.6)",
           "rgba(105, 250, 250, 0.6)",
           "rgba(105, 250, 250, 0.6)",
           "rgba(105, 250, 250, 0.6)",
           "rgba(15, 255, 255, 0.6)",
           "rgba(15, 255, 255, 0.6)",
           "rgba(105, 250, 250, 0.6)",
           "rgba(105, 250, 250, 0.6)",
           "rgba(105, 250, 250, 0.6)",
           "rgba(105, 250, 250, 0.6)",
           "rgba(105, 250, 250, 0.6)",
           "rgba(105, 250, 250, 0.6)",
           "rgba(255, 100, 150, 0.6)",
           "rgba(105, 250, 250, 0.6)",
           "rgba(105, 250, 250, 0.6)",
           "rgba(15, 255, 255, 0.6)",
           "rgba(105, 250, 250, 0.6)",
           "rgba(15, 255, 255, 0.6)",
           "rgba(15, 255, 255, 0.6)",
           "rgba(105, 250, 250, 0.6)",
           "rgba(105, 250, 250, 0.6)",
           "rgba(15, 255, 255, 0.6)",
           "rgba(105, 250, 250, 0.6)",
           "rgba(105, 250, 250, 0.6)",
           "rgba(105, 250, 250, 0.6)",
           "rgba(105, 250, 250, 0.6)"
          ],
          "hovertemplate": "%{source.label} → %{target.label}<extra></extra>",
          "source": [
           0,
           1,
           2,
           3,
           4,
           5,
           6,
           7,
           8,
           9,
           10,
           11,
           12,
           13,
           14,
           15,
           16,
           17,
           18,
           19,
           20,
           21,
           22,
           23,
           24,
           25,
           26,
           27,
           28,
           29,
           30,
           31,
           32,
           33,
           34,
           35,
           36,
           37,
           38,
           39,
           40,
           41,
           42,
           43,
           44,
           45,
           46,
           47,
           48,
           49,
           50,
           51,
           52,
           53,
           54,
           55,
           56,
           57,
           58,
           59,
           60,
           61,
           62,
           63,
           64,
           65,
           66
          ],
          "target": [
           75,
           74,
           75,
           75,
           75,
           75,
           70,
           71,
           75,
           75,
           73,
           75,
           75,
           75,
           75,
           75,
           75,
           67,
           75,
           72,
           68,
           72,
           70,
           72,
           75,
           72,
           72,
           69,
           74,
           72,
           72,
           75,
           75,
           72,
           72,
           75,
           75,
           72,
           75,
           72,
           72,
           75,
           72,
           72,
           72,
           75,
           75,
           72,
           72,
           72,
           72,
           72,
           72,
           67,
           72,
           72,
           75,
           72,
           75,
           75,
           72,
           72,
           75,
           72,
           72,
           72,
           72
          ],
          "value": [
           1,
           1,
           1,
           1,
           1,
           1,
           1,
           1,
           1,
           1,
           1,
           1,
           1,
           1,
           1,
           1,
           1,
           1,
           1,
           1,
           1,
           1,
           1,
           1,
           1,
           1,
           1,
           1,
           1,
           1,
           1,
           1,
           1,
           1,
           1,
           1,
           1,
           1,
           1,
           1,
           1,
           1,
           1,
           1,
           1,
           1,
           1,
           1,
           1,
           1,
           1,
           1,
           1,
           1,
           1,
           1,
           1,
           1,
           1,
           1,
           1,
           1,
           1,
           1,
           1,
           1,
           1
          ]
         },
         "node": {
          "color": [
           "rgba(0, 128, 255, 0.8)",
           "rgba(0, 128, 255, 0.8)",
           "rgba(0, 128, 255, 0.8)",
           "rgba(0, 128, 255, 0.8)",
           "rgba(0, 128, 255, 0.8)",
           "rgba(0, 128, 255, 0.8)",
           "rgba(0, 128, 255, 0.8)",
           "rgba(0, 128, 255, 0.8)",
           "rgba(0, 128, 255, 0.8)",
           "rgba(0, 128, 255, 0.8)",
           "rgba(0, 128, 255, 0.8)",
           "rgba(0, 128, 255, 0.8)",
           "rgba(0, 128, 255, 0.8)",
           "rgba(0, 128, 255, 0.8)",
           "rgba(0, 128, 255, 0.8)",
           "rgba(0, 128, 255, 0.8)",
           "rgba(0, 128, 255, 0.8)",
           "rgba(0, 128, 255, 0.8)",
           "rgba(0, 128, 255, 0.8)",
           "rgba(0, 128, 255, 0.8)",
           "rgba(0, 128, 255, 0.8)",
           "rgba(0, 128, 255, 0.8)",
           "rgba(0, 128, 255, 0.8)",
           "rgba(0, 128, 255, 0.8)",
           "rgba(0, 128, 255, 0.8)",
           "rgba(0, 128, 255, 0.8)",
           "rgba(0, 128, 255, 0.8)",
           "rgba(0, 128, 255, 0.8)",
           "rgba(0, 128, 255, 0.8)",
           "rgba(0, 128, 255, 0.8)",
           "rgba(0, 128, 255, 0.8)",
           "rgba(0, 128, 255, 0.8)",
           "rgba(0, 128, 255, 0.8)",
           "rgba(0, 128, 255, 0.8)",
           "rgba(0, 128, 255, 0.8)",
           "rgba(0, 128, 255, 0.8)",
           "rgba(0, 128, 255, 0.8)",
           "rgba(0, 128, 255, 0.8)",
           "rgba(0, 128, 255, 0.8)",
           "rgba(0, 128, 255, 0.8)",
           "rgba(0, 128, 255, 0.8)",
           "rgba(0, 128, 255, 0.8)",
           "rgba(0, 128, 255, 0.8)",
           "rgba(0, 128, 255, 0.8)",
           "rgba(0, 128, 255, 0.8)",
           "rgba(0, 128, 255, 0.8)",
           "rgba(0, 128, 255, 0.8)",
           "rgba(0, 128, 255, 0.8)",
           "rgba(0, 128, 255, 0.8)",
           "rgba(0, 128, 255, 0.8)",
           "rgba(0, 128, 255, 0.8)",
           "rgba(0, 128, 255, 0.8)",
           "rgba(0, 128, 255, 0.8)",
           "rgba(0, 128, 255, 0.8)",
           "rgba(0, 128, 255, 0.8)",
           "rgba(0, 128, 255, 0.8)",
           "rgba(0, 128, 255, 0.8)",
           "rgba(0, 128, 255, 0.8)",
           "rgba(0, 128, 255, 0.8)",
           "rgba(0, 128, 255, 0.8)",
           "rgba(0, 128, 255, 0.8)",
           "rgba(0, 128, 255, 0.8)",
           "rgba(0, 128, 255, 0.8)",
           "rgba(0, 128, 255, 0.8)",
           "rgba(0, 128, 255, 0.8)",
           "rgba(0, 128, 255, 0.8)",
           "rgba(0, 128, 255, 0.8)",
           "rgba(255, 128, 0, 0.8)",
           "rgba(255, 128, 0, 0.8)",
           "rgba(255, 128, 0, 0.8)",
           "rgba(255, 128, 0, 0.8)",
           "rgba(255, 128, 0, 0.8)",
           "rgba(255, 128, 0, 0.8)",
           "rgba(255, 128, 0, 0.8)",
           "rgba(255, 128, 0, 0.8)",
           "rgba(255, 128, 0, 0.8)"
          ],
          "label": [
           "Ireland",
           "United Kingdom",
           "New Zealand",
           "Estonia",
           "Spain",
           "Sweden",
           "Netherlands",
           "Germany",
           "Denmark",
           "Israel",
           "Czech Republic",
           "Poland",
           "Finland",
           "United States",
           "Austria",
           "Norway",
           "Italy",
           "Belgium",
           "Canada",
           "Australia",
           "Malaysia",
           "Belarus",
           "France",
           "Switzerland",
           "Japan",
           "Bulgaria",
           "Hungary",
           "Greece",
           "Luxembourg",
           "Mexico",
           "Slovenia",
           "Slovak Republic",
           "Latvia",
           "Russia",
           "Brazil",
           "Singapore",
           "Thailand",
           "Portugal",
           "Serbia",
           "Taiwan",
           "Panama",
           "Cambodia",
           "Faroe Islands",
           "China",
           "Chile",
           "Hong Kong",
           "Iceland",
           "Turkey",
           "Ecuador",
           "India",
           "Moldova",
           "Croatia",
           "South Africa",
           "Dominican Republic",
           "Indonesia",
           "Colombia",
           "Cyprus",
           "El Salvador",
           "Romania",
           "Venezuela",
           "South Korea",
           "Lithuania",
           "Philippines",
           "Ukraine",
           "Peru",
           "Argentina",
           "Puerto Rico",
           "Belgian Ale",
           "Golden Ale/Blond Ale",
           "Imperial Stout",
           "Belgian Strong Ale",
           "Pilsener",
           "Pale Lager",
           "Czech Pilsner (Světlý)",
           "Bitter",
           "India Pale Ale (IPA)"
          ],
          "line": {
           "color": "black",
           "width": 1
          },
          "pad": 20,
          "thickness": 30
         },
         "type": "sankey"
        }
       ],
       "layout": {
        "font": {
         "size": 12
        },
        "height": 1020,
        "template": {
         "data": {
          "bar": [
           {
            "error_x": {
             "color": "#2a3f5f"
            },
            "error_y": {
             "color": "#2a3f5f"
            },
            "marker": {
             "line": {
              "color": "#E5ECF6",
              "width": 0.5
             },
             "pattern": {
              "fillmode": "overlay",
              "size": 10,
              "solidity": 0.2
             }
            },
            "type": "bar"
           }
          ],
          "barpolar": [
           {
            "marker": {
             "line": {
              "color": "#E5ECF6",
              "width": 0.5
             },
             "pattern": {
              "fillmode": "overlay",
              "size": 10,
              "solidity": 0.2
             }
            },
            "type": "barpolar"
           }
          ],
          "carpet": [
           {
            "aaxis": {
             "endlinecolor": "#2a3f5f",
             "gridcolor": "white",
             "linecolor": "white",
             "minorgridcolor": "white",
             "startlinecolor": "#2a3f5f"
            },
            "baxis": {
             "endlinecolor": "#2a3f5f",
             "gridcolor": "white",
             "linecolor": "white",
             "minorgridcolor": "white",
             "startlinecolor": "#2a3f5f"
            },
            "type": "carpet"
           }
          ],
          "choropleth": [
           {
            "colorbar": {
             "outlinewidth": 0,
             "ticks": ""
            },
            "type": "choropleth"
           }
          ],
          "contour": [
           {
            "colorbar": {
             "outlinewidth": 0,
             "ticks": ""
            },
            "colorscale": [
             [
              0,
              "#0d0887"
             ],
             [
              0.1111111111111111,
              "#46039f"
             ],
             [
              0.2222222222222222,
              "#7201a8"
             ],
             [
              0.3333333333333333,
              "#9c179e"
             ],
             [
              0.4444444444444444,
              "#bd3786"
             ],
             [
              0.5555555555555556,
              "#d8576b"
             ],
             [
              0.6666666666666666,
              "#ed7953"
             ],
             [
              0.7777777777777778,
              "#fb9f3a"
             ],
             [
              0.8888888888888888,
              "#fdca26"
             ],
             [
              1,
              "#f0f921"
             ]
            ],
            "type": "contour"
           }
          ],
          "contourcarpet": [
           {
            "colorbar": {
             "outlinewidth": 0,
             "ticks": ""
            },
            "type": "contourcarpet"
           }
          ],
          "heatmap": [
           {
            "colorbar": {
             "outlinewidth": 0,
             "ticks": ""
            },
            "colorscale": [
             [
              0,
              "#0d0887"
             ],
             [
              0.1111111111111111,
              "#46039f"
             ],
             [
              0.2222222222222222,
              "#7201a8"
             ],
             [
              0.3333333333333333,
              "#9c179e"
             ],
             [
              0.4444444444444444,
              "#bd3786"
             ],
             [
              0.5555555555555556,
              "#d8576b"
             ],
             [
              0.6666666666666666,
              "#ed7953"
             ],
             [
              0.7777777777777778,
              "#fb9f3a"
             ],
             [
              0.8888888888888888,
              "#fdca26"
             ],
             [
              1,
              "#f0f921"
             ]
            ],
            "type": "heatmap"
           }
          ],
          "heatmapgl": [
           {
            "colorbar": {
             "outlinewidth": 0,
             "ticks": ""
            },
            "colorscale": [
             [
              0,
              "#0d0887"
             ],
             [
              0.1111111111111111,
              "#46039f"
             ],
             [
              0.2222222222222222,
              "#7201a8"
             ],
             [
              0.3333333333333333,
              "#9c179e"
             ],
             [
              0.4444444444444444,
              "#bd3786"
             ],
             [
              0.5555555555555556,
              "#d8576b"
             ],
             [
              0.6666666666666666,
              "#ed7953"
             ],
             [
              0.7777777777777778,
              "#fb9f3a"
             ],
             [
              0.8888888888888888,
              "#fdca26"
             ],
             [
              1,
              "#f0f921"
             ]
            ],
            "type": "heatmapgl"
           }
          ],
          "histogram": [
           {
            "marker": {
             "pattern": {
              "fillmode": "overlay",
              "size": 10,
              "solidity": 0.2
             }
            },
            "type": "histogram"
           }
          ],
          "histogram2d": [
           {
            "colorbar": {
             "outlinewidth": 0,
             "ticks": ""
            },
            "colorscale": [
             [
              0,
              "#0d0887"
             ],
             [
              0.1111111111111111,
              "#46039f"
             ],
             [
              0.2222222222222222,
              "#7201a8"
             ],
             [
              0.3333333333333333,
              "#9c179e"
             ],
             [
              0.4444444444444444,
              "#bd3786"
             ],
             [
              0.5555555555555556,
              "#d8576b"
             ],
             [
              0.6666666666666666,
              "#ed7953"
             ],
             [
              0.7777777777777778,
              "#fb9f3a"
             ],
             [
              0.8888888888888888,
              "#fdca26"
             ],
             [
              1,
              "#f0f921"
             ]
            ],
            "type": "histogram2d"
           }
          ],
          "histogram2dcontour": [
           {
            "colorbar": {
             "outlinewidth": 0,
             "ticks": ""
            },
            "colorscale": [
             [
              0,
              "#0d0887"
             ],
             [
              0.1111111111111111,
              "#46039f"
             ],
             [
              0.2222222222222222,
              "#7201a8"
             ],
             [
              0.3333333333333333,
              "#9c179e"
             ],
             [
              0.4444444444444444,
              "#bd3786"
             ],
             [
              0.5555555555555556,
              "#d8576b"
             ],
             [
              0.6666666666666666,
              "#ed7953"
             ],
             [
              0.7777777777777778,
              "#fb9f3a"
             ],
             [
              0.8888888888888888,
              "#fdca26"
             ],
             [
              1,
              "#f0f921"
             ]
            ],
            "type": "histogram2dcontour"
           }
          ],
          "mesh3d": [
           {
            "colorbar": {
             "outlinewidth": 0,
             "ticks": ""
            },
            "type": "mesh3d"
           }
          ],
          "parcoords": [
           {
            "line": {
             "colorbar": {
              "outlinewidth": 0,
              "ticks": ""
             }
            },
            "type": "parcoords"
           }
          ],
          "pie": [
           {
            "automargin": true,
            "type": "pie"
           }
          ],
          "scatter": [
           {
            "fillpattern": {
             "fillmode": "overlay",
             "size": 10,
             "solidity": 0.2
            },
            "type": "scatter"
           }
          ],
          "scatter3d": [
           {
            "line": {
             "colorbar": {
              "outlinewidth": 0,
              "ticks": ""
             }
            },
            "marker": {
             "colorbar": {
              "outlinewidth": 0,
              "ticks": ""
             }
            },
            "type": "scatter3d"
           }
          ],
          "scattercarpet": [
           {
            "marker": {
             "colorbar": {
              "outlinewidth": 0,
              "ticks": ""
             }
            },
            "type": "scattercarpet"
           }
          ],
          "scattergeo": [
           {
            "marker": {
             "colorbar": {
              "outlinewidth": 0,
              "ticks": ""
             }
            },
            "type": "scattergeo"
           }
          ],
          "scattergl": [
           {
            "marker": {
             "colorbar": {
              "outlinewidth": 0,
              "ticks": ""
             }
            },
            "type": "scattergl"
           }
          ],
          "scattermapbox": [
           {
            "marker": {
             "colorbar": {
              "outlinewidth": 0,
              "ticks": ""
             }
            },
            "type": "scattermapbox"
           }
          ],
          "scatterpolar": [
           {
            "marker": {
             "colorbar": {
              "outlinewidth": 0,
              "ticks": ""
             }
            },
            "type": "scatterpolar"
           }
          ],
          "scatterpolargl": [
           {
            "marker": {
             "colorbar": {
              "outlinewidth": 0,
              "ticks": ""
             }
            },
            "type": "scatterpolargl"
           }
          ],
          "scatterternary": [
           {
            "marker": {
             "colorbar": {
              "outlinewidth": 0,
              "ticks": ""
             }
            },
            "type": "scatterternary"
           }
          ],
          "surface": [
           {
            "colorbar": {
             "outlinewidth": 0,
             "ticks": ""
            },
            "colorscale": [
             [
              0,
              "#0d0887"
             ],
             [
              0.1111111111111111,
              "#46039f"
             ],
             [
              0.2222222222222222,
              "#7201a8"
             ],
             [
              0.3333333333333333,
              "#9c179e"
             ],
             [
              0.4444444444444444,
              "#bd3786"
             ],
             [
              0.5555555555555556,
              "#d8576b"
             ],
             [
              0.6666666666666666,
              "#ed7953"
             ],
             [
              0.7777777777777778,
              "#fb9f3a"
             ],
             [
              0.8888888888888888,
              "#fdca26"
             ],
             [
              1,
              "#f0f921"
             ]
            ],
            "type": "surface"
           }
          ],
          "table": [
           {
            "cells": {
             "fill": {
              "color": "#EBF0F8"
             },
             "line": {
              "color": "white"
             }
            },
            "header": {
             "fill": {
              "color": "#C8D4E3"
             },
             "line": {
              "color": "white"
             }
            },
            "type": "table"
           }
          ]
         },
         "layout": {
          "annotationdefaults": {
           "arrowcolor": "#2a3f5f",
           "arrowhead": 0,
           "arrowwidth": 1
          },
          "autotypenumbers": "strict",
          "coloraxis": {
           "colorbar": {
            "outlinewidth": 0,
            "ticks": ""
           }
          },
          "colorscale": {
           "diverging": [
            [
             0,
             "#8e0152"
            ],
            [
             0.1,
             "#c51b7d"
            ],
            [
             0.2,
             "#de77ae"
            ],
            [
             0.3,
             "#f1b6da"
            ],
            [
             0.4,
             "#fde0ef"
            ],
            [
             0.5,
             "#f7f7f7"
            ],
            [
             0.6,
             "#e6f5d0"
            ],
            [
             0.7,
             "#b8e186"
            ],
            [
             0.8,
             "#7fbc41"
            ],
            [
             0.9,
             "#4d9221"
            ],
            [
             1,
             "#276419"
            ]
           ],
           "sequential": [
            [
             0,
             "#0d0887"
            ],
            [
             0.1111111111111111,
             "#46039f"
            ],
            [
             0.2222222222222222,
             "#7201a8"
            ],
            [
             0.3333333333333333,
             "#9c179e"
            ],
            [
             0.4444444444444444,
             "#bd3786"
            ],
            [
             0.5555555555555556,
             "#d8576b"
            ],
            [
             0.6666666666666666,
             "#ed7953"
            ],
            [
             0.7777777777777778,
             "#fb9f3a"
            ],
            [
             0.8888888888888888,
             "#fdca26"
            ],
            [
             1,
             "#f0f921"
            ]
           ],
           "sequentialminus": [
            [
             0,
             "#0d0887"
            ],
            [
             0.1111111111111111,
             "#46039f"
            ],
            [
             0.2222222222222222,
             "#7201a8"
            ],
            [
             0.3333333333333333,
             "#9c179e"
            ],
            [
             0.4444444444444444,
             "#bd3786"
            ],
            [
             0.5555555555555556,
             "#d8576b"
            ],
            [
             0.6666666666666666,
             "#ed7953"
            ],
            [
             0.7777777777777778,
             "#fb9f3a"
            ],
            [
             0.8888888888888888,
             "#fdca26"
            ],
            [
             1,
             "#f0f921"
            ]
           ]
          },
          "colorway": [
           "#636efa",
           "#EF553B",
           "#00cc96",
           "#ab63fa",
           "#FFA15A",
           "#19d3f3",
           "#FF6692",
           "#B6E880",
           "#FF97FF",
           "#FECB52"
          ],
          "font": {
           "color": "#2a3f5f"
          },
          "geo": {
           "bgcolor": "white",
           "lakecolor": "white",
           "landcolor": "#E5ECF6",
           "showlakes": true,
           "showland": true,
           "subunitcolor": "white"
          },
          "hoverlabel": {
           "align": "left"
          },
          "hovermode": "closest",
          "mapbox": {
           "style": "light"
          },
          "paper_bgcolor": "white",
          "plot_bgcolor": "#E5ECF6",
          "polar": {
           "angularaxis": {
            "gridcolor": "white",
            "linecolor": "white",
            "ticks": ""
           },
           "bgcolor": "#E5ECF6",
           "radialaxis": {
            "gridcolor": "white",
            "linecolor": "white",
            "ticks": ""
           }
          },
          "scene": {
           "xaxis": {
            "backgroundcolor": "#E5ECF6",
            "gridcolor": "white",
            "gridwidth": 2,
            "linecolor": "white",
            "showbackground": true,
            "ticks": "",
            "zerolinecolor": "white"
           },
           "yaxis": {
            "backgroundcolor": "#E5ECF6",
            "gridcolor": "white",
            "gridwidth": 2,
            "linecolor": "white",
            "showbackground": true,
            "ticks": "",
            "zerolinecolor": "white"
           },
           "zaxis": {
            "backgroundcolor": "#E5ECF6",
            "gridcolor": "white",
            "gridwidth": 2,
            "linecolor": "white",
            "showbackground": true,
            "ticks": "",
            "zerolinecolor": "white"
           }
          },
          "shapedefaults": {
           "line": {
            "color": "#2a3f5f"
           }
          },
          "ternary": {
           "aaxis": {
            "gridcolor": "white",
            "linecolor": "white",
            "ticks": ""
           },
           "baxis": {
            "gridcolor": "white",
            "linecolor": "white",
            "ticks": ""
           },
           "bgcolor": "#E5ECF6",
           "caxis": {
            "gridcolor": "white",
            "linecolor": "white",
            "ticks": ""
           }
          },
          "title": {
           "x": 0.05
          },
          "xaxis": {
           "automargin": true,
           "gridcolor": "white",
           "linecolor": "white",
           "ticks": "",
           "title": {
            "standoff": 15
           },
           "zerolinecolor": "white",
           "zerolinewidth": 2
          },
          "yaxis": {
           "automargin": true,
           "gridcolor": "white",
           "linecolor": "white",
           "ticks": "",
           "title": {
            "standoff": 15
           },
           "zerolinecolor": "white",
           "zerolinewidth": 2
          }
         }
        },
        "title": {
         "font": {
          "size": 18
         },
         "text": "User Countries and Their Preferred Beer Styles",
         "x": 0.5
        },
        "width": 800
       }
      }
     },
     "metadata": {},
     "output_type": "display_data"
    }
   ],
   "source": [
    "style_pres.plot_favourite_beer_style_country()"
   ]
  },
  {
   "cell_type": "markdown",
   "metadata": {},
   "source": [
    "We can see that:\n",
    "- India Pale Ale (IPA) and Pale Lager are the styles that are the most consumed ones in most of the countries. We see that India Pale Ale (IPA) is the most consumed beer in <b>28</b> countries whereas Pale Lager is the most consumed one in <b>33</b> countries.\n",
    "- Some very traditional beer countries have very specific preferences:\n",
    "    - In Germany the most consumed beer style is Pilsner which is a very traditional beer style inthe country.\n",
    "    - In United Kingdom we have the Bitter style.\n",
    "    - In Belgium we have the Belgian Ale.\n",
    "    - In Czech Republic we have the Czech Pilsner.\n",
    "    \n",
    "    All these styles are very traditional in these countries and this is reflected in the preferences of the users."
   ]
  },
  {
   "cell_type": "markdown",
   "metadata": {},
   "source": [
    "Now we are going to plot the evolution of the style preferences over the years. To do so we are going to use a 3D barplot where:\n",
    "- The x axis represent the top 10 styles per each year in terms of number of ratings. The most rated ones are to the left.\n",
    "- The y axis represent the number of ratings for that style.\n",
    "- The bars are colored based on their average ABV.\n",
    "\n",
    "We are using a \"third dimension\" (the color of the bars) to see if a change in style preferences can explain the increase of the ABV over the years observed in the previous section. <br>"
   ]
  },
  {
   "cell_type": "code",
   "execution_count": 37,
   "metadata": {},
   "outputs": [
    {
     "data": {
      "application/vnd.plotly.v1+json": {
       "config": {
        "plotlyServerURL": "https://plot.ly"
       },
       "data": [
        {
         "alignmentgroup": "True",
         "hovertemplate": "year=2002<br>style=%{x}<br>count=%{y}<br>avg_abv=%{marker.color}<extra></extra>",
         "legendgroup": "",
         "marker": {
          "color": [
           4.751470490990246,
           8.804755784061697,
           5.177033616549686,
           4.894636803874092,
           5.425573033707865,
           5.019003897791252,
           5.37047810770005,
           6.230989583333334,
           5.291045182362549,
           4.191333333333334
          ],
          "coloraxis": "coloraxis",
          "pattern": {
           "shape": ""
          }
         },
         "name": "",
         "offsetgroup": "",
         "orientation": "v",
         "showlegend": false,
         "textposition": "auto",
         "type": "bar",
         "x": [
          "Pale Lager",
          "Belgian Strong Ale",
          "Premium Bitter/ESB",
          "Pilsener",
          "Porter",
          "Amber Lager/Vienna",
          "American Pale Ale",
          "India Pale Ale (IPA)",
          "Brown Ale",
          "Bitter"
         ],
         "xaxis": "x",
         "y": [
          12430,
          3129,
          2810,
          2603,
          2463,
          2399,
          2267,
          2129,
          2108,
          2026
         ],
         "yaxis": "y"
        }
       ],
       "frames": [
        {
         "data": [
          {
           "alignmentgroup": "True",
           "hovertemplate": "year=2002<br>style=%{x}<br>count=%{y}<br>avg_abv=%{marker.color}<extra></extra>",
           "legendgroup": "",
           "marker": {
            "color": [
             4.751470490990246,
             8.804755784061697,
             5.177033616549686,
             4.894636803874092,
             5.425573033707865,
             5.019003897791252,
             5.37047810770005,
             6.230989583333334,
             5.291045182362549,
             4.191333333333334
            ],
            "coloraxis": "coloraxis",
            "pattern": {
             "shape": ""
            }
           },
           "name": "",
           "offsetgroup": "",
           "orientation": "v",
           "showlegend": false,
           "textposition": "auto",
           "type": "bar",
           "x": [
            "Pale Lager",
            "Belgian Strong Ale",
            "Premium Bitter/ESB",
            "Pilsener",
            "Porter",
            "Amber Lager/Vienna",
            "American Pale Ale",
            "India Pale Ale (IPA)",
            "Brown Ale",
            "Bitter"
           ],
           "xaxis": "x",
           "y": [
            12430,
            3129,
            2810,
            2603,
            2463,
            2399,
            2267,
            2129,
            2108,
            2026
           ],
           "yaxis": "y"
          }
         ],
         "name": "2002"
        },
        {
         "data": [
          {
           "alignmentgroup": "True",
           "hovertemplate": "year=2003<br>style=%{x}<br>count=%{y}<br>avg_abv=%{marker.color}<extra></extra>",
           "legendgroup": "",
           "marker": {
            "color": [
             4.735269949335022,
             8.922168255131966,
             5.1751095820591235,
             6.284305596683447,
             5.458626981752917,
             5.380265345268542,
             4.181808841843089,
             4.918879369431117,
             5.371781695423856,
             5.300411786928598
            ],
            "coloraxis": "coloraxis",
            "pattern": {
             "shape": ""
            }
           },
           "name": "",
           "offsetgroup": "",
           "orientation": "v",
           "showlegend": false,
           "textposition": "auto",
           "type": "bar",
           "x": [
            "Pale Lager",
            "Belgian Strong Ale",
            "Premium Bitter/ESB",
            "India Pale Ale (IPA)",
            "Porter",
            "American Pale Ale",
            "Bitter",
            "Pilsener",
            "Amber Ale",
            "Brown Ale"
           ],
           "xaxis": "x",
           "y": [
            13089,
            5470,
            4049,
            3699,
            3641,
            3493,
            3260,
            3063,
            3044,
            2998
           ],
           "yaxis": "y"
          }
         ],
         "name": "2003"
        },
        {
         "data": [
          {
           "alignmentgroup": "True",
           "hovertemplate": "year=2004<br>style=%{x}<br>count=%{y}<br>avg_abv=%{marker.color}<extra></extra>",
           "legendgroup": "",
           "marker": {
            "color": [
             4.722575696406944,
             8.918607861180492,
             6.389219634990561,
             4.161906985096067,
             5.514364,
             5.134244505494506,
             5.358396946564885,
             4.930673816740499,
             4.710586808923376,
             5.443822662737745
            ],
            "coloraxis": "coloraxis",
            "pattern": {
             "shape": ""
            }
           },
           "name": "",
           "offsetgroup": "",
           "orientation": "v",
           "showlegend": false,
           "textposition": "auto",
           "type": "bar",
           "x": [
            "Pale Lager",
            "Belgian Strong Ale",
            "India Pale Ale (IPA)",
            "Bitter",
            "Porter",
            "Premium Bitter/ESB",
            "American Pale Ale",
            "Pilsener",
            "Golden Ale/Blond Ale",
            "Amber Ale"
           ],
           "xaxis": "x",
           "y": [
            15448,
            7625,
            6838,
            5626,
            5476,
            5234,
            5028,
            4530,
            4361,
            4222
           ],
           "yaxis": "y"
          }
         ],
         "name": "2004"
        },
        {
         "data": [
          {
           "alignmentgroup": "True",
           "hovertemplate": "year=2005<br>style=%{x}<br>count=%{y}<br>avg_abv=%{marker.color}<extra></extra>",
           "legendgroup": "",
           "marker": {
            "color": [
             4.748767081127662,
             8.97134548201303,
             6.403941095576439,
             5.588031508345031,
             4.164453887315077,
             5.149864647115694,
             5.4030081867270505,
             4.92799354948226,
             9.217704918032787,
             10.49095431292997
            ],
            "coloraxis": "coloraxis",
            "pattern": {
             "shape": ""
            }
           },
           "name": "",
           "offsetgroup": "",
           "orientation": "v",
           "showlegend": false,
           "textposition": "auto",
           "type": "bar",
           "x": [
            "Pale Lager",
            "Belgian Strong Ale",
            "India Pale Ale (IPA)",
            "Porter",
            "Bitter",
            "Premium Bitter/ESB",
            "American Pale Ale",
            "Pilsener",
            "Imperial Stout",
            "Barley Wine"
           ],
           "xaxis": "x",
           "y": [
            16842,
            10618,
            9374,
            6915,
            6436,
            6407,
            6337,
            6201,
            5822,
            5752
           ],
           "yaxis": "y"
          }
         ],
         "name": "2005"
        },
        {
         "data": [
          {
           "alignmentgroup": "True",
           "hovertemplate": "year=2006<br>style=%{x}<br>count=%{y}<br>avg_abv=%{marker.color}<extra></extra>",
           "legendgroup": "",
           "marker": {
            "color": [
             4.725167143674872,
             6.451150099146478,
             8.96823146622735,
             4.141423627684964,
             5.610662150070305,
             5.175349282296651,
             5.402528602461984,
             4.9084588992137235,
             9.432728039353478,
             4.665958526033119
            ],
            "coloraxis": "coloraxis",
            "pattern": {
             "shape": ""
            }
           },
           "name": "",
           "offsetgroup": "",
           "orientation": "v",
           "showlegend": false,
           "textposition": "auto",
           "type": "bar",
           "x": [
            "Pale Lager",
            "India Pale Ale (IPA)",
            "Belgian Strong Ale",
            "Bitter",
            "Porter",
            "Premium Bitter/ESB",
            "American Pale Ale",
            "Pilsener",
            "Imperial Stout",
            "Golden Ale/Blond Ale"
           ],
           "xaxis": "x",
           "y": [
            18012,
            12239,
            12170,
            8494,
            8333,
            7467,
            7445,
            7247,
            7190,
            7014
           ],
           "yaxis": "y"
          }
         ],
         "name": "2006"
        },
        {
         "data": [
          {
           "alignmentgroup": "True",
           "hovertemplate": "year=2007<br>style=%{x}<br>count=%{y}<br>avg_abv=%{marker.color}<extra></extra>",
           "legendgroup": "",
           "marker": {
            "color": [
             4.717793709528215,
             9.00588042011383,
             6.515874805356586,
             9.658229166666668,
             5.663534516380655,
             5.461898301463519,
             4.142201825557809,
             8.979073745697297,
             6.258635530147773,
             4.9150119549129005
            ],
            "coloraxis": "coloraxis",
            "pattern": {
             "shape": ""
            }
           },
           "name": "",
           "offsetgroup": "",
           "orientation": "v",
           "showlegend": false,
           "textposition": "auto",
           "type": "bar",
           "x": [
            "Pale Lager",
            "Belgian Strong Ale",
            "India Pale Ale (IPA)",
            "Imperial Stout",
            "Porter",
            "American Pale Ale",
            "Bitter",
            "Imperial IPA",
            "Belgian Ale",
            "Pilsener"
           ],
           "xaxis": "x",
           "y": [
            22135,
            17104,
            16884,
            11361,
            10763,
            10080,
            9950,
            9697,
            9436,
            9086
           ],
           "yaxis": "y"
          }
         ],
         "name": "2007"
        },
        {
         "data": [
          {
           "alignmentgroup": "True",
           "hovertemplate": "year=2008<br>style=%{x}<br>count=%{y}<br>avg_abv=%{marker.color}<extra></extra>",
           "legendgroup": "",
           "marker": {
            "color": [
             4.707940583411749,
             6.507175110727017,
             9.027979479084452,
             9.850504383178757,
             5.708204241376171,
             8.969824871749513,
             10.508581149425286,
             6.298347842366376,
             5.427534110148391,
             4.156024850995051
            ],
            "coloraxis": "coloraxis",
            "pattern": {
             "shape": ""
            }
           },
           "name": "",
           "offsetgroup": "",
           "orientation": "v",
           "showlegend": false,
           "textposition": "auto",
           "type": "bar",
           "x": [
            "Pale Lager",
            "India Pale Ale (IPA)",
            "Belgian Strong Ale",
            "Imperial Stout",
            "Porter",
            "Imperial IPA",
            "Barley Wine",
            "Belgian Ale",
            "American Pale Ale",
            "Bitter"
           ],
           "xaxis": "x",
           "y": [
            22819,
            19179,
            19096,
            15810,
            11536,
            11367,
            10982,
            10789,
            10708,
            9979
           ],
           "yaxis": "y"
          }
         ],
         "name": "2008"
        },
        {
         "data": [
          {
           "alignmentgroup": "True",
           "hovertemplate": "year=2009<br>style=%{x}<br>count=%{y}<br>avg_abv=%{marker.color}<extra></extra>",
           "legendgroup": "",
           "marker": {
            "color": [
             6.529131221277012,
             4.683949079909252,
             9.01675971143174,
             10.069616259080576,
             9.062367133108156,
             5.466572896943468,
             6.304720083974807,
             5.702396132490906,
             10.69651461427887,
             4.14254637272992
            ],
            "coloraxis": "coloraxis",
            "pattern": {
             "shape": ""
            }
           },
           "name": "",
           "offsetgroup": "",
           "orientation": "v",
           "showlegend": false,
           "textposition": "auto",
           "type": "bar",
           "x": [
            "India Pale Ale (IPA)",
            "Pale Lager",
            "Belgian Strong Ale",
            "Imperial Stout",
            "Imperial IPA",
            "American Pale Ale",
            "Belgian Ale",
            "Porter",
            "Barley Wine",
            "Bitter"
           ],
           "xaxis": "x",
           "y": [
            21365,
            20301,
            18175,
            18145,
            14617,
            11787,
            11612,
            11002,
            10549,
            10383
           ],
           "yaxis": "y"
          }
         ],
         "name": "2009"
        },
        {
         "data": [
          {
           "alignmentgroup": "True",
           "hovertemplate": "year=2010<br>style=%{x}<br>count=%{y}<br>avg_abv=%{marker.color}<extra></extra>",
           "legendgroup": "",
           "marker": {
            "color": [
             6.615483912930361,
             10.195397166165737,
             8.975776807765206,
             4.700276236280676,
             9.019438419056492,
             5.470310867293626,
             6.265336521431101,
             5.753462276537723,
             4.134008928571428,
             6.356413200910407
            ],
            "coloraxis": "coloraxis",
            "pattern": {
             "shape": ""
            }
           },
           "name": "",
           "offsetgroup": "",
           "orientation": "v",
           "showlegend": false,
           "textposition": "auto",
           "type": "bar",
           "x": [
            "India Pale Ale (IPA)",
            "Imperial Stout",
            "Belgian Strong Ale",
            "Pale Lager",
            "Imperial IPA",
            "American Pale Ale",
            "Belgian Ale",
            "Porter",
            "Bitter",
            "Spice/Herb/Vegetable"
           ],
           "xaxis": "x",
           "y": [
            23942,
            18754,
            17499,
            16498,
            15198,
            12061,
            11514,
            10368,
            10118,
            10082
           ],
           "yaxis": "y"
          }
         ],
         "name": "2010"
        },
        {
         "data": [
          {
           "alignmentgroup": "True",
           "hovertemplate": "year=2011<br>style=%{x}<br>count=%{y}<br>avg_abv=%{marker.color}<extra></extra>",
           "legendgroup": "",
           "marker": {
            "color": [
             6.586901597189526,
             10.236042177769388,
             9.002054823184766,
             4.69579017633643,
             9.019261949390815,
             5.421387676603298,
             6.243016564274049,
             5.8030886157826655,
             4.554827449109414,
             4.125535527480486
            ],
            "coloraxis": "coloraxis",
            "pattern": {
             "shape": ""
            }
           },
           "name": "",
           "offsetgroup": "",
           "orientation": "v",
           "showlegend": false,
           "textposition": "auto",
           "type": "bar",
           "x": [
            "India Pale Ale (IPA)",
            "Imperial Stout",
            "Belgian Strong Ale",
            "Pale Lager",
            "Imperial IPA",
            "American Pale Ale",
            "Belgian Ale",
            "Porter",
            "Golden Ale/Blond Ale",
            "Bitter"
           ],
           "xaxis": "x",
           "y": [
            28582,
            21334,
            19179,
            18251,
            17213,
            14047,
            13116,
            12841,
            12821,
            12509
           ],
           "yaxis": "y"
          }
         ],
         "name": "2011"
        },
        {
         "data": [
          {
           "alignmentgroup": "True",
           "hovertemplate": "year=2012<br>style=%{x}<br>count=%{y}<br>avg_abv=%{marker.color}<extra></extra>",
           "legendgroup": "",
           "marker": {
            "color": [
             6.601101405523111,
             10.244535117056857,
             9.028508210032477,
             4.724094162995594,
             9.003517650879065,
             5.394482344703411,
             6.2018961389724385,
             6.3024510632763215,
             4.570744618203232,
             5.829030684820158
            ],
            "coloraxis": "coloraxis",
            "pattern": {
             "shape": ""
            }
           },
           "name": "",
           "offsetgroup": "",
           "orientation": "v",
           "showlegend": false,
           "textposition": "auto",
           "type": "bar",
           "x": [
            "India Pale Ale (IPA)",
            "Imperial Stout",
            "Imperial IPA",
            "Pale Lager",
            "Belgian Strong Ale",
            "American Pale Ale",
            "Belgian Ale",
            "Spice/Herb/Vegetable",
            "Golden Ale/Blond Ale",
            "Porter"
           ],
           "xaxis": "x",
           "y": [
            41330,
            28634,
            22297,
            22033,
            21629,
            20519,
            16558,
            15877,
            15512,
            15196
           ],
           "yaxis": "y"
          }
         ],
         "name": "2012"
        },
        {
         "data": [
          {
           "alignmentgroup": "True",
           "hovertemplate": "year=2013<br>style=%{x}<br>count=%{y}<br>avg_abv=%{marker.color}<extra></extra>",
           "legendgroup": "",
           "marker": {
            "color": [
             6.593337030609871,
             10.35109450094262,
             8.990995283178934,
             5.338801292519371,
             9.05500468091746,
             4.754849150234947,
             6.466877444282147,
             6.18838421955403,
             6.3817689015691865,
             5.8655991644678975
            ],
            "coloraxis": "coloraxis",
            "pattern": {
             "shape": ""
            }
           },
           "name": "",
           "offsetgroup": "",
           "orientation": "v",
           "showlegend": false,
           "textposition": "auto",
           "type": "bar",
           "x": [
            "India Pale Ale (IPA)",
            "Imperial Stout",
            "Imperial IPA",
            "American Pale Ale",
            "Belgian Strong Ale",
            "Pale Lager",
            "Saison",
            "Belgian Ale",
            "Spice/Herb/Vegetable",
            "Porter"
           ],
           "xaxis": "x",
           "y": [
            56830,
            38027,
            29655,
            29445,
            25696,
            22977,
            21728,
            20685,
            19483,
            18606
           ],
           "yaxis": "y"
          }
         ],
         "name": "2013"
        },
        {
         "data": [
          {
           "alignmentgroup": "True",
           "hovertemplate": "year=2014<br>style=%{x}<br>count=%{y}<br>avg_abv=%{marker.color}<extra></extra>",
           "legendgroup": "",
           "marker": {
            "color": [
             6.56213417743032,
             10.44570259719008,
             5.283176564258848,
             8.902017814519414,
             6.293708568071061,
             9.020699317543155,
             4.767842704563511,
             6.104189140918022,
             4.561014230641093,
             6.857637657197255
            ],
            "coloraxis": "coloraxis",
            "pattern": {
             "shape": ""
            }
           },
           "name": "",
           "offsetgroup": "",
           "orientation": "v",
           "showlegend": false,
           "textposition": "auto",
           "type": "bar",
           "x": [
            "India Pale Ale (IPA)",
            "Imperial Stout",
            "American Pale Ale",
            "Imperial IPA",
            "Saison",
            "Belgian Strong Ale",
            "Pale Lager",
            "Belgian Ale",
            "Golden Ale/Blond Ale",
            "Sour/Wild Ale"
           ],
           "xaxis": "x",
           "y": [
            71615,
            43207,
            37032,
            34535,
            29533,
            24972,
            22835,
            22558,
            21230,
            20986
           ],
           "yaxis": "y"
          }
         ],
         "name": "2014"
        },
        {
         "data": [
          {
           "alignmentgroup": "True",
           "hovertemplate": "year=2015<br>style=%{x}<br>count=%{y}<br>avg_abv=%{marker.color}<extra></extra>",
           "legendgroup": "",
           "marker": {
            "color": [
             6.544551317017588,
             10.571872329292752,
             5.270235093281308,
             6.229259817887269,
             8.848275495354303,
             6.547609486342043,
             9.04205069661246,
             5.889306397965174,
             4.800170048025092,
             4.57257305315204
            ],
            "coloraxis": "coloraxis",
            "pattern": {
             "shape": ""
            }
           },
           "name": "",
           "offsetgroup": "",
           "orientation": "v",
           "showlegend": false,
           "textposition": "auto",
           "type": "bar",
           "x": [
            "India Pale Ale (IPA)",
            "Imperial Stout",
            "American Pale Ale",
            "Saison",
            "Imperial IPA",
            "Sour/Wild Ale",
            "Belgian Strong Ale",
            "Porter",
            "Pale Lager",
            "Golden Ale/Blond Ale"
           ],
           "xaxis": "x",
           "y": [
            83477,
            46482,
            41647,
            36609,
            35859,
            27934,
            21527,
            20824,
            20538,
            20452
           ],
           "yaxis": "y"
          }
         ],
         "name": "2015"
        },
        {
         "data": [
          {
           "alignmentgroup": "True",
           "hovertemplate": "year=2016<br>style=%{x}<br>count=%{y}<br>avg_abv=%{marker.color}<extra></extra>",
           "legendgroup": "",
           "marker": {
            "color": [
             6.521865196686905,
             10.581614108659096,
             5.267117702895112,
             8.779626541829945,
             6.156639484978542,
             6.36018244013683,
             5.951519286403085,
             4.601406477340087,
             5.991627487426197,
             4.422565234618214
            ],
            "coloraxis": "coloraxis",
            "pattern": {
             "shape": ""
            }
           },
           "name": "",
           "offsetgroup": "",
           "orientation": "v",
           "showlegend": false,
           "textposition": "auto",
           "type": "bar",
           "x": [
            "India Pale Ale (IPA)",
            "Imperial Stout",
            "American Pale Ale",
            "Imperial IPA",
            "Saison",
            "Sour/Wild Ale",
            "Porter",
            "Golden Ale/Blond Ale",
            "Stout",
            "Session IPA"
           ],
           "xaxis": "x",
           "y": [
            89533,
            49376,
            42724,
            38142,
            35923,
            35614,
            21101,
            18740,
            18639,
            17753
           ],
           "yaxis": "y"
          }
         ],
         "name": "2016"
        }
       ],
       "layout": {
        "barmode": "relative",
        "coloraxis": {
         "cmax": 10,
         "cmin": 0,
         "colorbar": {
          "title": {
           "text": "avg_abv"
          }
         },
         "colorscale": [
          [
           0,
           "rgb(247,251,255)"
          ],
          [
           0.125,
           "rgb(222,235,247)"
          ],
          [
           0.25,
           "rgb(198,219,239)"
          ],
          [
           0.375,
           "rgb(158,202,225)"
          ],
          [
           0.5,
           "rgb(107,174,214)"
          ],
          [
           0.625,
           "rgb(66,146,198)"
          ],
          [
           0.75,
           "rgb(33,113,181)"
          ],
          [
           0.875,
           "rgb(8,81,156)"
          ],
          [
           1,
           "rgb(8,48,107)"
          ]
         ]
        },
        "height": 600,
        "legend": {
         "tracegroupgap": 0
        },
        "sliders": [
         {
          "active": 0,
          "currentvalue": {
           "prefix": "year="
          },
          "len": 0.9,
          "pad": {
           "b": 10,
           "t": 60
          },
          "steps": [
           {
            "args": [
             [
              "2002"
             ],
             {
              "frame": {
               "duration": 0,
               "redraw": true
              },
              "fromcurrent": true,
              "mode": "immediate",
              "transition": {
               "duration": 0,
               "easing": "linear"
              }
             }
            ],
            "label": "2002",
            "method": "animate"
           },
           {
            "args": [
             [
              "2003"
             ],
             {
              "frame": {
               "duration": 0,
               "redraw": true
              },
              "fromcurrent": true,
              "mode": "immediate",
              "transition": {
               "duration": 0,
               "easing": "linear"
              }
             }
            ],
            "label": "2003",
            "method": "animate"
           },
           {
            "args": [
             [
              "2004"
             ],
             {
              "frame": {
               "duration": 0,
               "redraw": true
              },
              "fromcurrent": true,
              "mode": "immediate",
              "transition": {
               "duration": 0,
               "easing": "linear"
              }
             }
            ],
            "label": "2004",
            "method": "animate"
           },
           {
            "args": [
             [
              "2005"
             ],
             {
              "frame": {
               "duration": 0,
               "redraw": true
              },
              "fromcurrent": true,
              "mode": "immediate",
              "transition": {
               "duration": 0,
               "easing": "linear"
              }
             }
            ],
            "label": "2005",
            "method": "animate"
           },
           {
            "args": [
             [
              "2006"
             ],
             {
              "frame": {
               "duration": 0,
               "redraw": true
              },
              "fromcurrent": true,
              "mode": "immediate",
              "transition": {
               "duration": 0,
               "easing": "linear"
              }
             }
            ],
            "label": "2006",
            "method": "animate"
           },
           {
            "args": [
             [
              "2007"
             ],
             {
              "frame": {
               "duration": 0,
               "redraw": true
              },
              "fromcurrent": true,
              "mode": "immediate",
              "transition": {
               "duration": 0,
               "easing": "linear"
              }
             }
            ],
            "label": "2007",
            "method": "animate"
           },
           {
            "args": [
             [
              "2008"
             ],
             {
              "frame": {
               "duration": 0,
               "redraw": true
              },
              "fromcurrent": true,
              "mode": "immediate",
              "transition": {
               "duration": 0,
               "easing": "linear"
              }
             }
            ],
            "label": "2008",
            "method": "animate"
           },
           {
            "args": [
             [
              "2009"
             ],
             {
              "frame": {
               "duration": 0,
               "redraw": true
              },
              "fromcurrent": true,
              "mode": "immediate",
              "transition": {
               "duration": 0,
               "easing": "linear"
              }
             }
            ],
            "label": "2009",
            "method": "animate"
           },
           {
            "args": [
             [
              "2010"
             ],
             {
              "frame": {
               "duration": 0,
               "redraw": true
              },
              "fromcurrent": true,
              "mode": "immediate",
              "transition": {
               "duration": 0,
               "easing": "linear"
              }
             }
            ],
            "label": "2010",
            "method": "animate"
           },
           {
            "args": [
             [
              "2011"
             ],
             {
              "frame": {
               "duration": 0,
               "redraw": true
              },
              "fromcurrent": true,
              "mode": "immediate",
              "transition": {
               "duration": 0,
               "easing": "linear"
              }
             }
            ],
            "label": "2011",
            "method": "animate"
           },
           {
            "args": [
             [
              "2012"
             ],
             {
              "frame": {
               "duration": 0,
               "redraw": true
              },
              "fromcurrent": true,
              "mode": "immediate",
              "transition": {
               "duration": 0,
               "easing": "linear"
              }
             }
            ],
            "label": "2012",
            "method": "animate"
           },
           {
            "args": [
             [
              "2013"
             ],
             {
              "frame": {
               "duration": 0,
               "redraw": true
              },
              "fromcurrent": true,
              "mode": "immediate",
              "transition": {
               "duration": 0,
               "easing": "linear"
              }
             }
            ],
            "label": "2013",
            "method": "animate"
           },
           {
            "args": [
             [
              "2014"
             ],
             {
              "frame": {
               "duration": 0,
               "redraw": true
              },
              "fromcurrent": true,
              "mode": "immediate",
              "transition": {
               "duration": 0,
               "easing": "linear"
              }
             }
            ],
            "label": "2014",
            "method": "animate"
           },
           {
            "args": [
             [
              "2015"
             ],
             {
              "frame": {
               "duration": 0,
               "redraw": true
              },
              "fromcurrent": true,
              "mode": "immediate",
              "transition": {
               "duration": 0,
               "easing": "linear"
              }
             }
            ],
            "label": "2015",
            "method": "animate"
           },
           {
            "args": [
             [
              "2016"
             ],
             {
              "frame": {
               "duration": 0,
               "redraw": true
              },
              "fromcurrent": true,
              "mode": "immediate",
              "transition": {
               "duration": 0,
               "easing": "linear"
              }
             }
            ],
            "label": "2016",
            "method": "animate"
           }
          ],
          "x": 0.1,
          "xanchor": "left",
          "y": 0,
          "yanchor": "top"
         }
        ],
        "template": {
         "data": {
          "bar": [
           {
            "error_x": {
             "color": "#2a3f5f"
            },
            "error_y": {
             "color": "#2a3f5f"
            },
            "marker": {
             "line": {
              "color": "#E5ECF6",
              "width": 0.5
             },
             "pattern": {
              "fillmode": "overlay",
              "size": 10,
              "solidity": 0.2
             }
            },
            "type": "bar"
           }
          ],
          "barpolar": [
           {
            "marker": {
             "line": {
              "color": "#E5ECF6",
              "width": 0.5
             },
             "pattern": {
              "fillmode": "overlay",
              "size": 10,
              "solidity": 0.2
             }
            },
            "type": "barpolar"
           }
          ],
          "carpet": [
           {
            "aaxis": {
             "endlinecolor": "#2a3f5f",
             "gridcolor": "white",
             "linecolor": "white",
             "minorgridcolor": "white",
             "startlinecolor": "#2a3f5f"
            },
            "baxis": {
             "endlinecolor": "#2a3f5f",
             "gridcolor": "white",
             "linecolor": "white",
             "minorgridcolor": "white",
             "startlinecolor": "#2a3f5f"
            },
            "type": "carpet"
           }
          ],
          "choropleth": [
           {
            "colorbar": {
             "outlinewidth": 0,
             "ticks": ""
            },
            "type": "choropleth"
           }
          ],
          "contour": [
           {
            "colorbar": {
             "outlinewidth": 0,
             "ticks": ""
            },
            "colorscale": [
             [
              0,
              "#0d0887"
             ],
             [
              0.1111111111111111,
              "#46039f"
             ],
             [
              0.2222222222222222,
              "#7201a8"
             ],
             [
              0.3333333333333333,
              "#9c179e"
             ],
             [
              0.4444444444444444,
              "#bd3786"
             ],
             [
              0.5555555555555556,
              "#d8576b"
             ],
             [
              0.6666666666666666,
              "#ed7953"
             ],
             [
              0.7777777777777778,
              "#fb9f3a"
             ],
             [
              0.8888888888888888,
              "#fdca26"
             ],
             [
              1,
              "#f0f921"
             ]
            ],
            "type": "contour"
           }
          ],
          "contourcarpet": [
           {
            "colorbar": {
             "outlinewidth": 0,
             "ticks": ""
            },
            "type": "contourcarpet"
           }
          ],
          "heatmap": [
           {
            "colorbar": {
             "outlinewidth": 0,
             "ticks": ""
            },
            "colorscale": [
             [
              0,
              "#0d0887"
             ],
             [
              0.1111111111111111,
              "#46039f"
             ],
             [
              0.2222222222222222,
              "#7201a8"
             ],
             [
              0.3333333333333333,
              "#9c179e"
             ],
             [
              0.4444444444444444,
              "#bd3786"
             ],
             [
              0.5555555555555556,
              "#d8576b"
             ],
             [
              0.6666666666666666,
              "#ed7953"
             ],
             [
              0.7777777777777778,
              "#fb9f3a"
             ],
             [
              0.8888888888888888,
              "#fdca26"
             ],
             [
              1,
              "#f0f921"
             ]
            ],
            "type": "heatmap"
           }
          ],
          "heatmapgl": [
           {
            "colorbar": {
             "outlinewidth": 0,
             "ticks": ""
            },
            "colorscale": [
             [
              0,
              "#0d0887"
             ],
             [
              0.1111111111111111,
              "#46039f"
             ],
             [
              0.2222222222222222,
              "#7201a8"
             ],
             [
              0.3333333333333333,
              "#9c179e"
             ],
             [
              0.4444444444444444,
              "#bd3786"
             ],
             [
              0.5555555555555556,
              "#d8576b"
             ],
             [
              0.6666666666666666,
              "#ed7953"
             ],
             [
              0.7777777777777778,
              "#fb9f3a"
             ],
             [
              0.8888888888888888,
              "#fdca26"
             ],
             [
              1,
              "#f0f921"
             ]
            ],
            "type": "heatmapgl"
           }
          ],
          "histogram": [
           {
            "marker": {
             "pattern": {
              "fillmode": "overlay",
              "size": 10,
              "solidity": 0.2
             }
            },
            "type": "histogram"
           }
          ],
          "histogram2d": [
           {
            "colorbar": {
             "outlinewidth": 0,
             "ticks": ""
            },
            "colorscale": [
             [
              0,
              "#0d0887"
             ],
             [
              0.1111111111111111,
              "#46039f"
             ],
             [
              0.2222222222222222,
              "#7201a8"
             ],
             [
              0.3333333333333333,
              "#9c179e"
             ],
             [
              0.4444444444444444,
              "#bd3786"
             ],
             [
              0.5555555555555556,
              "#d8576b"
             ],
             [
              0.6666666666666666,
              "#ed7953"
             ],
             [
              0.7777777777777778,
              "#fb9f3a"
             ],
             [
              0.8888888888888888,
              "#fdca26"
             ],
             [
              1,
              "#f0f921"
             ]
            ],
            "type": "histogram2d"
           }
          ],
          "histogram2dcontour": [
           {
            "colorbar": {
             "outlinewidth": 0,
             "ticks": ""
            },
            "colorscale": [
             [
              0,
              "#0d0887"
             ],
             [
              0.1111111111111111,
              "#46039f"
             ],
             [
              0.2222222222222222,
              "#7201a8"
             ],
             [
              0.3333333333333333,
              "#9c179e"
             ],
             [
              0.4444444444444444,
              "#bd3786"
             ],
             [
              0.5555555555555556,
              "#d8576b"
             ],
             [
              0.6666666666666666,
              "#ed7953"
             ],
             [
              0.7777777777777778,
              "#fb9f3a"
             ],
             [
              0.8888888888888888,
              "#fdca26"
             ],
             [
              1,
              "#f0f921"
             ]
            ],
            "type": "histogram2dcontour"
           }
          ],
          "mesh3d": [
           {
            "colorbar": {
             "outlinewidth": 0,
             "ticks": ""
            },
            "type": "mesh3d"
           }
          ],
          "parcoords": [
           {
            "line": {
             "colorbar": {
              "outlinewidth": 0,
              "ticks": ""
             }
            },
            "type": "parcoords"
           }
          ],
          "pie": [
           {
            "automargin": true,
            "type": "pie"
           }
          ],
          "scatter": [
           {
            "fillpattern": {
             "fillmode": "overlay",
             "size": 10,
             "solidity": 0.2
            },
            "type": "scatter"
           }
          ],
          "scatter3d": [
           {
            "line": {
             "colorbar": {
              "outlinewidth": 0,
              "ticks": ""
             }
            },
            "marker": {
             "colorbar": {
              "outlinewidth": 0,
              "ticks": ""
             }
            },
            "type": "scatter3d"
           }
          ],
          "scattercarpet": [
           {
            "marker": {
             "colorbar": {
              "outlinewidth": 0,
              "ticks": ""
             }
            },
            "type": "scattercarpet"
           }
          ],
          "scattergeo": [
           {
            "marker": {
             "colorbar": {
              "outlinewidth": 0,
              "ticks": ""
             }
            },
            "type": "scattergeo"
           }
          ],
          "scattergl": [
           {
            "marker": {
             "colorbar": {
              "outlinewidth": 0,
              "ticks": ""
             }
            },
            "type": "scattergl"
           }
          ],
          "scattermapbox": [
           {
            "marker": {
             "colorbar": {
              "outlinewidth": 0,
              "ticks": ""
             }
            },
            "type": "scattermapbox"
           }
          ],
          "scatterpolar": [
           {
            "marker": {
             "colorbar": {
              "outlinewidth": 0,
              "ticks": ""
             }
            },
            "type": "scatterpolar"
           }
          ],
          "scatterpolargl": [
           {
            "marker": {
             "colorbar": {
              "outlinewidth": 0,
              "ticks": ""
             }
            },
            "type": "scatterpolargl"
           }
          ],
          "scatterternary": [
           {
            "marker": {
             "colorbar": {
              "outlinewidth": 0,
              "ticks": ""
             }
            },
            "type": "scatterternary"
           }
          ],
          "surface": [
           {
            "colorbar": {
             "outlinewidth": 0,
             "ticks": ""
            },
            "colorscale": [
             [
              0,
              "#0d0887"
             ],
             [
              0.1111111111111111,
              "#46039f"
             ],
             [
              0.2222222222222222,
              "#7201a8"
             ],
             [
              0.3333333333333333,
              "#9c179e"
             ],
             [
              0.4444444444444444,
              "#bd3786"
             ],
             [
              0.5555555555555556,
              "#d8576b"
             ],
             [
              0.6666666666666666,
              "#ed7953"
             ],
             [
              0.7777777777777778,
              "#fb9f3a"
             ],
             [
              0.8888888888888888,
              "#fdca26"
             ],
             [
              1,
              "#f0f921"
             ]
            ],
            "type": "surface"
           }
          ],
          "table": [
           {
            "cells": {
             "fill": {
              "color": "#EBF0F8"
             },
             "line": {
              "color": "white"
             }
            },
            "header": {
             "fill": {
              "color": "#C8D4E3"
             },
             "line": {
              "color": "white"
             }
            },
            "type": "table"
           }
          ]
         },
         "layout": {
          "annotationdefaults": {
           "arrowcolor": "#2a3f5f",
           "arrowhead": 0,
           "arrowwidth": 1
          },
          "autotypenumbers": "strict",
          "coloraxis": {
           "colorbar": {
            "outlinewidth": 0,
            "ticks": ""
           }
          },
          "colorscale": {
           "diverging": [
            [
             0,
             "#8e0152"
            ],
            [
             0.1,
             "#c51b7d"
            ],
            [
             0.2,
             "#de77ae"
            ],
            [
             0.3,
             "#f1b6da"
            ],
            [
             0.4,
             "#fde0ef"
            ],
            [
             0.5,
             "#f7f7f7"
            ],
            [
             0.6,
             "#e6f5d0"
            ],
            [
             0.7,
             "#b8e186"
            ],
            [
             0.8,
             "#7fbc41"
            ],
            [
             0.9,
             "#4d9221"
            ],
            [
             1,
             "#276419"
            ]
           ],
           "sequential": [
            [
             0,
             "#0d0887"
            ],
            [
             0.1111111111111111,
             "#46039f"
            ],
            [
             0.2222222222222222,
             "#7201a8"
            ],
            [
             0.3333333333333333,
             "#9c179e"
            ],
            [
             0.4444444444444444,
             "#bd3786"
            ],
            [
             0.5555555555555556,
             "#d8576b"
            ],
            [
             0.6666666666666666,
             "#ed7953"
            ],
            [
             0.7777777777777778,
             "#fb9f3a"
            ],
            [
             0.8888888888888888,
             "#fdca26"
            ],
            [
             1,
             "#f0f921"
            ]
           ],
           "sequentialminus": [
            [
             0,
             "#0d0887"
            ],
            [
             0.1111111111111111,
             "#46039f"
            ],
            [
             0.2222222222222222,
             "#7201a8"
            ],
            [
             0.3333333333333333,
             "#9c179e"
            ],
            [
             0.4444444444444444,
             "#bd3786"
            ],
            [
             0.5555555555555556,
             "#d8576b"
            ],
            [
             0.6666666666666666,
             "#ed7953"
            ],
            [
             0.7777777777777778,
             "#fb9f3a"
            ],
            [
             0.8888888888888888,
             "#fdca26"
            ],
            [
             1,
             "#f0f921"
            ]
           ]
          },
          "colorway": [
           "#636efa",
           "#EF553B",
           "#00cc96",
           "#ab63fa",
           "#FFA15A",
           "#19d3f3",
           "#FF6692",
           "#B6E880",
           "#FF97FF",
           "#FECB52"
          ],
          "font": {
           "color": "#2a3f5f"
          },
          "geo": {
           "bgcolor": "white",
           "lakecolor": "white",
           "landcolor": "#E5ECF6",
           "showlakes": true,
           "showland": true,
           "subunitcolor": "white"
          },
          "hoverlabel": {
           "align": "left"
          },
          "hovermode": "closest",
          "mapbox": {
           "style": "light"
          },
          "paper_bgcolor": "white",
          "plot_bgcolor": "#E5ECF6",
          "polar": {
           "angularaxis": {
            "gridcolor": "white",
            "linecolor": "white",
            "ticks": ""
           },
           "bgcolor": "#E5ECF6",
           "radialaxis": {
            "gridcolor": "white",
            "linecolor": "white",
            "ticks": ""
           }
          },
          "scene": {
           "xaxis": {
            "backgroundcolor": "#E5ECF6",
            "gridcolor": "white",
            "gridwidth": 2,
            "linecolor": "white",
            "showbackground": true,
            "ticks": "",
            "zerolinecolor": "white"
           },
           "yaxis": {
            "backgroundcolor": "#E5ECF6",
            "gridcolor": "white",
            "gridwidth": 2,
            "linecolor": "white",
            "showbackground": true,
            "ticks": "",
            "zerolinecolor": "white"
           },
           "zaxis": {
            "backgroundcolor": "#E5ECF6",
            "gridcolor": "white",
            "gridwidth": 2,
            "linecolor": "white",
            "showbackground": true,
            "ticks": "",
            "zerolinecolor": "white"
           }
          },
          "shapedefaults": {
           "line": {
            "color": "#2a3f5f"
           }
          },
          "ternary": {
           "aaxis": {
            "gridcolor": "white",
            "linecolor": "white",
            "ticks": ""
           },
           "baxis": {
            "gridcolor": "white",
            "linecolor": "white",
            "ticks": ""
           },
           "bgcolor": "#E5ECF6",
           "caxis": {
            "gridcolor": "white",
            "linecolor": "white",
            "ticks": ""
           }
          },
          "title": {
           "x": 0.05
          },
          "xaxis": {
           "automargin": true,
           "gridcolor": "white",
           "linecolor": "white",
           "ticks": "",
           "title": {
            "standoff": 15
           },
           "zerolinecolor": "white",
           "zerolinewidth": 2
          },
          "yaxis": {
           "automargin": true,
           "gridcolor": "white",
           "linecolor": "white",
           "ticks": "",
           "title": {
            "standoff": 15
           },
           "zerolinecolor": "white",
           "zerolinewidth": 2
          }
         }
        },
        "title": {
         "text": "Top 10 styles over the years",
         "x": 0.5
        },
        "updatemenus": [
         {
          "buttons": [
           {
            "args": [
             null,
             {
              "frame": {
               "duration": 500,
               "redraw": true
              },
              "fromcurrent": true,
              "mode": "immediate",
              "transition": {
               "duration": 500,
               "easing": "linear"
              }
             }
            ],
            "label": "&#9654;",
            "method": "animate"
           },
           {
            "args": [
             [
              null
             ],
             {
              "frame": {
               "duration": 0,
               "redraw": true
              },
              "fromcurrent": true,
              "mode": "immediate",
              "transition": {
               "duration": 0,
               "easing": "linear"
              }
             }
            ],
            "label": "&#9724;",
            "method": "animate"
           }
          ],
          "direction": "left",
          "pad": {
           "r": 10,
           "t": 70
          },
          "showactive": false,
          "type": "buttons",
          "x": 0.1,
          "xanchor": "right",
          "y": 0,
          "yanchor": "top"
         }
        ],
        "width": 800,
        "xaxis": {
         "anchor": "y",
         "domain": [
          0,
          1
         ],
         "title": {
          "text": "Style"
         }
        },
        "yaxis": {
         "anchor": "x",
         "domain": [
          0,
          1
         ],
         "range": [
          0,
          100000
         ],
         "title": {
          "text": "Number of ratings"
         }
        }
       }
      }
     },
     "metadata": {},
     "output_type": "display_data"
    }
   ],
   "source": [
    "style_pres.plot_abv_style_evolution()"
   ]
  },
  {
   "cell_type": "markdown",
   "metadata": {},
   "source": [
    "We see that over the years the style preferences have changed quite a lot. We see that the India Pale Ale (IPA) has become the most consumed style just after 2008 and that another really popular beer style, the Imperial Stout, enters in the top 3 only in 2010. We see a clear decline of the Pale Lager over the years, passing from first position in 2002 to exit from the top 10 in 2016. <br><br>\n",
    "Thanks to the color of the bars we can see that the most liked styles over the years have a significantly higher average ABV compared to the previous years. For example we can see that while in 2002 the top 3 most liked beer styles had an average abv of respectively <b>4.75</b>, <b>8.80</b> and <b>5.18</b> in 2016 the top 3 most liked beer styles had an average abv of respectively <b>6.52</b>, <b>10.58</b> and <b>5.26</b>, a significant increase."
   ]
  },
  {
   "cell_type": "markdown",
   "metadata": {},
   "source": [
    "We have also plotted race between the different styles that can be seen [here](https://epfl-ada.github.io/ada-2024-project-sadamasochists/plots/style/race_video.mp4)."
   ]
  },
  {
   "cell_type": "code",
   "execution_count": 38,
   "metadata": {},
   "outputs": [],
   "source": [
    "style_pres.plot_style_race()"
   ]
  },
  {
   "cell_type": "markdown",
   "metadata": {},
   "source": [
    "## Influence of location on beer preference"
   ]
  },
  {
   "cell_type": "markdown",
   "metadata": {},
   "source": [
    "For many beer consumers it might make sense to look at where the beer is produced before having it. Some countries are known for their large beer cultures and might generally make better beer than others. To investigate this, we will first check for 'beer hubs', countries that are particularly known by others for having good beer. \n",
    "\n",
    "We will do this by creating a graph. Each country will have an outgoing edge to another country. The edge will be present only if the other country produces the foreign beer that is most reviewed in the other country. \n",
    "\n",
    "In other words, A->B only exists if B produces the most reviewed beer for A with the side constraint that A != B."
   ]
  },
  {
   "cell_type": "markdown",
   "metadata": {},
   "source": [
    "To identify hubs numerically, we can print the in-degrees of each country:"
   ]
  },
  {
   "cell_type": "code",
   "execution_count": 39,
   "metadata": {
    "execution": {
     "iopub.execute_input": "2024-12-17T17:30:33.570582Z",
     "iopub.status.busy": "2024-12-17T17:30:33.569672Z",
     "iopub.status.idle": "2024-12-17T17:30:33.582588Z",
     "shell.execute_reply": "2024-12-17T17:30:33.580748Z",
     "shell.execute_reply.started": "2024-12-17T17:30:33.570506Z"
    }
   },
   "outputs": [
    {
     "ename": "FileNotFoundError",
     "evalue": "[Errno 2] No such file or directory: 'docs/plots//location_influence//location_influence.html'",
     "output_type": "error",
     "traceback": [
      "\u001b[0;31m---------------------------------------------------------------------------\u001b[0m",
      "\u001b[0;31mFileNotFoundError\u001b[0m                         Traceback (most recent call last)",
      "Cell \u001b[0;32mIn[39], line 2\u001b[0m\n\u001b[1;32m      1\u001b[0m \u001b[38;5;28;01mfrom\u001b[39;00m \u001b[38;5;21;01msrc\u001b[39;00m\u001b[38;5;21;01m.\u001b[39;00m\u001b[38;5;21;01mprocessing\u001b[39;00m\u001b[38;5;21;01m.\u001b[39;00m\u001b[38;5;21;01mlocation_influence\u001b[39;00m \u001b[38;5;28;01mimport\u001b[39;00m LocationInfluence\n\u001b[0;32m----> 2\u001b[0m nwp \u001b[38;5;241m=\u001b[39m \u001b[43mLocationInfluence\u001b[49m\u001b[43m(\u001b[49m\u001b[43mdf_ratings_no_text\u001b[49m\u001b[43m,\u001b[49m\u001b[43m \u001b[49m\u001b[43mSAVING_FOLDER\u001b[49m\u001b[43m \u001b[49m\u001b[38;5;241;43m+\u001b[39;49m\u001b[43m \u001b[49m\u001b[38;5;124;43m'\u001b[39;49m\u001b[38;5;124;43m/location_influence/\u001b[39;49m\u001b[38;5;124;43m'\u001b[39;49m\u001b[43m)\u001b[49m\n\u001b[1;32m      3\u001b[0m nwp\u001b[38;5;241m.\u001b[39mprint_in_degrees()\n",
      "File \u001b[0;32m~/Desktop/ADA/Project/src/processing/location_influence.py:47\u001b[0m, in \u001b[0;36mLocationInfluence.__init__\u001b[0;34m(self, df_ratings_no_text, save_folder)\u001b[0m\n\u001b[1;32m     43\u001b[0m \u001b[38;5;28mself\u001b[39m\u001b[38;5;241m.\u001b[39min_degrees \u001b[38;5;241m=\u001b[39m \u001b[38;5;28mdict\u001b[39m(\u001b[38;5;28mself\u001b[39m\u001b[38;5;241m.\u001b[39mG\u001b[38;5;241m.\u001b[39min_degree())\n\u001b[1;32m     45\u001b[0m \u001b[38;5;28mself\u001b[39m\u001b[38;5;241m.\u001b[39msave_folder \u001b[38;5;241m=\u001b[39m save_folder\n\u001b[0;32m---> 47\u001b[0m \u001b[38;5;28;43mself\u001b[39;49m\u001b[38;5;241;43m.\u001b[39;49m\u001b[43mplot_location\u001b[49m\u001b[43m(\u001b[49m\u001b[43m)\u001b[49m\n",
      "File \u001b[0;32m~/Desktop/ADA/Project/src/processing/location_influence.py:163\u001b[0m, in \u001b[0;36mLocationInfluence.plot_location\u001b[0;34m(self)\u001b[0m\n\u001b[1;32m    160\u001b[0m path \u001b[38;5;241m=\u001b[39m \u001b[38;5;124mf\u001b[39m\u001b[38;5;124m\"\u001b[39m\u001b[38;5;132;01m{\u001b[39;00m\u001b[38;5;28mself\u001b[39m\u001b[38;5;241m.\u001b[39msave_folder\u001b[38;5;132;01m}\u001b[39;00m\u001b[38;5;124m/location_influence.html\u001b[39m\u001b[38;5;124m\"\u001b[39m\n\u001b[1;32m    162\u001b[0m \u001b[38;5;66;03m# Set the background to transparent\u001b[39;00m\n\u001b[0;32m--> 163\u001b[0m \u001b[43mnet\u001b[49m\u001b[38;5;241;43m.\u001b[39;49m\u001b[43mwrite_html\u001b[49m\u001b[43m(\u001b[49m\u001b[43mpath\u001b[49m\u001b[43m,\u001b[49m\u001b[43m \u001b[49m\u001b[43mopen_browser\u001b[49m\u001b[38;5;241;43m=\u001b[39;49m\u001b[38;5;28;43;01mFalse\u001b[39;49;00m\u001b[43m)\u001b[49m\n",
      "File \u001b[0;32m~/Desktop/ADA/Project/.venv/lib/python3.9/site-packages/pyvis/network.py:526\u001b[0m, in \u001b[0;36mNetwork.write_html\u001b[0;34m(self, name, local, notebook, open_browser)\u001b[0m\n\u001b[1;32m    524\u001b[0m     \u001b[38;5;28;01mif\u001b[39;00m \u001b[38;5;129;01mnot\u001b[39;00m os\u001b[38;5;241m.\u001b[39mpath\u001b[38;5;241m.\u001b[39mexists(os\u001b[38;5;241m.\u001b[39mgetcwd()\u001b[38;5;241m+\u001b[39m\u001b[38;5;124m\"\u001b[39m\u001b[38;5;124m/lib/vis-9.1.2\u001b[39m\u001b[38;5;124m\"\u001b[39m):\n\u001b[1;32m    525\u001b[0m         shutil\u001b[38;5;241m.\u001b[39mcopytree(\u001b[38;5;124mf\u001b[39m\u001b[38;5;124m\"\u001b[39m\u001b[38;5;132;01m{\u001b[39;00mos\u001b[38;5;241m.\u001b[39mpath\u001b[38;5;241m.\u001b[39mdirname(\u001b[38;5;18m__file__\u001b[39m)\u001b[38;5;132;01m}\u001b[39;00m\u001b[38;5;124m/templates/lib/vis-9.1.2\u001b[39m\u001b[38;5;124m\"\u001b[39m, \u001b[38;5;124m\"\u001b[39m\u001b[38;5;124mlib/vis-9.1.2\u001b[39m\u001b[38;5;124m\"\u001b[39m)\n\u001b[0;32m--> 526\u001b[0m     \u001b[38;5;28;01mwith\u001b[39;00m \u001b[38;5;28;43mopen\u001b[39;49m\u001b[43m(\u001b[49m\u001b[43mgetcwd_name\u001b[49m\u001b[43m,\u001b[49m\u001b[43m \u001b[49m\u001b[38;5;124;43m\"\u001b[39;49m\u001b[38;5;124;43mw+\u001b[39;49m\u001b[38;5;124;43m\"\u001b[39;49m\u001b[43m)\u001b[49m \u001b[38;5;28;01mas\u001b[39;00m out:\n\u001b[1;32m    527\u001b[0m         out\u001b[38;5;241m.\u001b[39mwrite(\u001b[38;5;28mself\u001b[39m\u001b[38;5;241m.\u001b[39mhtml)\n\u001b[1;32m    528\u001b[0m \u001b[38;5;28;01melif\u001b[39;00m \u001b[38;5;28mself\u001b[39m\u001b[38;5;241m.\u001b[39mcdn_resources \u001b[38;5;241m==\u001b[39m \u001b[38;5;124m\"\u001b[39m\u001b[38;5;124min_line\u001b[39m\u001b[38;5;124m\"\u001b[39m \u001b[38;5;129;01mor\u001b[39;00m \u001b[38;5;28mself\u001b[39m\u001b[38;5;241m.\u001b[39mcdn_resources \u001b[38;5;241m==\u001b[39m \u001b[38;5;124m\"\u001b[39m\u001b[38;5;124mremote\u001b[39m\u001b[38;5;124m\"\u001b[39m:\n",
      "\u001b[0;31mFileNotFoundError\u001b[0m: [Errno 2] No such file or directory: 'docs/plots//location_influence//location_influence.html'"
     ]
    }
   ],
   "source": [
    "from src.processing.location_influence import LocationInfluence\n",
    "nwp = LocationInfluence(df_ratings_no_text, SAVING_FOLDER + '/location_influence/')\n",
    "nwp.print_in_degrees()"
   ]
  },
  {
   "cell_type": "markdown",
   "metadata": {},
   "source": [
    "Now we can see that the USA, Belgium, UK and Germany are large hubs. These are indeed the countries we expect to see, as these have very large beer cultures and are very well-known all over the world. "
   ]
  },
  {
   "cell_type": "markdown",
   "metadata": {},
   "source": [
    "But it is also important to check whether all countries like local or foreign beers equally. Even though some countries might drink a lot of foreign beer, they may still have a preference for locally produced products. To investigate this, we can plot the top 10 countries that prefer foreign beers the most, and top 10 countries that like local beers the most. This plot looks as follows:"
   ]
  },
  {
   "cell_type": "code",
   "execution_count": null,
   "metadata": {
    "execution": {
     "iopub.execute_input": "2024-12-17T18:52:07.835522Z",
     "iopub.status.busy": "2024-12-17T18:52:07.833633Z",
     "iopub.status.idle": "2024-12-17T18:52:13.640751Z",
     "shell.execute_reply": "2024-12-17T18:52:13.640017Z",
     "shell.execute_reply.started": "2024-12-17T18:52:07.835428Z"
    }
   },
   "outputs": [],
   "source": [
    "from src.processing.location_influence import MostLeastPlot\n",
    "mlp = MostLeastPlot(df_ratings_no_text, SAVING_FOLDER + '/location_influence/')\n",
    "mlp.plot()"
   ]
  },
  {
   "cell_type": "markdown",
   "metadata": {},
   "source": [
    "Here we see very logical results once again. Some countries that are very well-known for their beers have a large preference for local beers. These countries include Czechia, Ireland, the USA and Belgium. On the other side of the spectrum, we have countries that are not known for their beers but are very close to large hubs. El Salvador is quite close to the USA, Luxemberg is very close to Germany, Belgium and the UK and so forth."
   ]
  }
 ],
 "metadata": {
  "kernelspec": {
   "display_name": ".venv",
   "language": "python",
   "name": "python3"
  },
  "language_info": {
   "codemirror_mode": {
    "name": "ipython",
    "version": 3
   },
   "file_extension": ".py",
   "mimetype": "text/x-python",
   "name": "python",
   "nbconvert_exporter": "python",
   "pygments_lexer": "ipython3",
   "version": "3.9.20"
  }
 },
 "nbformat": 4,
 "nbformat_minor": 4
}
