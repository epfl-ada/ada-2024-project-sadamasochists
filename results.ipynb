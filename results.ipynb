{
 "cells": [
  {
   "cell_type": "markdown",
   "metadata": {
    "vscode": {
     "languageId": "plaintext"
    }
   },
   "source": [
    "# Project ADA\n",
    "### Import all the necessary libraries"
   ]
  },
  {
   "cell_type": "code",
   "execution_count": null,
   "metadata": {},
   "outputs": [],
   "source": [
    "import pandas as pd\n",
    "import plotly.express as px"
   ]
  },
  {
   "cell_type": "markdown",
   "metadata": {},
   "source": [
    "### Load all the data"
   ]
  },
  {
   "cell_type": "code",
   "execution_count": null,
   "metadata": {},
   "outputs": [],
   "source": [
    "# Define the folder\n",
    "FOLDER = 'data/processed/'\n",
    "\n",
    "# Load the data\n",
    "df_beers = pd.read_parquet(FOLDER + 'beers.pq')\n",
    "df_breweries = pd.read_parquet(FOLDER + 'breweries.pq')\n",
    "df_users = pd.read_parquet(FOLDER + 'users.pq')\n",
    "df_ratings_no_text = pd.read_parquet(FOLDER + 'ratings_no_text.pq')"
   ]
  },
  {
   "cell_type": "code",
   "execution_count": null,
   "metadata": {},
   "outputs": [],
   "source": [
    "# Select only the countries where the number of ratings are above a certain threshold\n",
    "MIN_RATINGS_THRESHOLD = 1000\n",
    "number_of_ratings_per_country = df_ratings_no_text['location'].value_counts()\n",
    "popular_countries = number_of_ratings_per_country[number_of_ratings_per_country > MIN_RATINGS_THRESHOLD].index\n",
    "\n",
    "# Filter all the data\n",
    "df_ratings_no_text = df_ratings_no_text[df_ratings_no_text['location'].isin(popular_countries)]\n",
    "df_beers = df_beers[df_beers['beer_id'].isin(df_ratings_no_text['beer_id'].unique())]\n",
    "df_breweries = df_breweries[df_breweries['id'].isin(df_ratings_no_text['brewery_id'].unique())]\n",
    "\n",
    "df_ratings_no_text.head(5)"
   ]
  },
  {
   "cell_type": "code",
   "execution_count": null,
   "metadata": {},
   "outputs": [],
   "source": [
    "df_beers.head(5)"
   ]
  },
  {
   "cell_type": "code",
   "execution_count": null,
   "metadata": {},
   "outputs": [],
   "source": [
    "df_breweries.head(5)"
   ]
  },
  {
   "cell_type": "markdown",
   "metadata": {},
   "source": [
    "### Show some meaningful data\n",
    "##### Correlation analysis"
   ]
  },
  {
   "cell_type": "code",
   "execution_count": null,
   "metadata": {},
   "outputs": [],
   "source": [
    "# Plot scatter plot\n",
    "def plot_scatter_plot(df, title, xlabel, ylabel, regression_line=False):\n",
    "    # Set some general settings\n",
    "    px.defaults.width = 800\n",
    "    px.defaults.height = 600\n",
    "    px.defaults.template = \"plotly_white\"\n",
    "\n",
    "    # Set the figure\n",
    "    fig = px.scatter(df, x='x', y='y', title=title, text='label', labels={'x': xlabel, 'y': ylabel}, hover_data={'label': True})\n",
    "    fig.update_traces(textposition='top center')\n",
    "    if regression_line:\n",
    "        fig.update_traces(marker=dict(size=4, opacity=0.5), selector=dict(mode='markers'))\n",
    "        fig.update_traces(line=dict(width=2, color='DarkSlateGrey'), selector=dict(mode='lines'))\n",
    "        fig.add_traces(px.scatter(df, x=df.x, y=df.y, trendline='ols').data)\n",
    "        corr = df['x'].corr(df['y'])\n",
    "        fig.add_annotation(x=0.5, y=0.9, xref='paper', yref='paper', text=f'Correlation coefficient: {corr:.2f}', showarrow=False)\n",
    "    fig.show()"
   ]
  },
  {
   "cell_type": "code",
   "execution_count": null,
   "metadata": {},
   "outputs": [],
   "source": [
    "LABEL_1 = 'palate'\n",
    "LABEL_2 = 'abv'\n",
    "\n",
    "# Get the average rating per country\n",
    "avg_rating_country = df_ratings_no_text.groupby('location').agg({LABEL_1: 'mean'})\n",
    "\n",
    "# Get the average ABV per country\n",
    "avg_abv_country = df_ratings_no_text.groupby('location').agg({LABEL_2: 'mean'})\n",
    "\n",
    "# Create an aggregated dataframe to then plot\n",
    "aggregated_df = pd.DataFrame({\n",
    "    'x': avg_rating_country[LABEL_1].values,\n",
    "    'y': avg_abv_country[LABEL_2].values,\n",
    "    'label': avg_rating_country.index\n",
    "})\n",
    "\n",
    "# Plot the scatter plot\n",
    "plot_scatter_plot(aggregated_df, 'Average Rating vs ABV per country', 'Average Rating', 'Average ABV', True)"
   ]
  },
  {
   "cell_type": "code",
   "execution_count": null,
   "metadata": {},
   "outputs": [],
   "source": [
    "import plotly.graph_objects as go\n",
    "import plotly.express as px\n",
    "import pandas as pd\n",
    "\n",
    "# Create an image with a slider\n",
    "fig = go.Figure()\n",
    "\n",
    "# Iterate for each year\n",
    "unique_years = [2000, 2001, 2002, 2003, 2004, 2005, 2006, 2007, 2008, 2009, 2010, 2011, 2012, 2013, 2014, 2015, 2016, 2017]\n",
    "for i, y in enumerate(unique_years):\n",
    "    # Filter the data for a specific year\n",
    "    df_corr_year = df_ratings_no_text[df_ratings_no_text['date'].dt.year == y]\n",
    "\n",
    "    # compute the metrics\n",
    "    avg_rating_country = df_corr_year.groupby('location').agg({'palate': 'mean'})\n",
    "    avg_abv_country = df_corr_year.groupby('location').agg({'abv': 'mean'})\n",
    "    aggregated_df = pd.DataFrame({\n",
    "        'x': avg_rating_country['palate'].values,\n",
    "        'y': avg_abv_country['abv'].values,\n",
    "        'label': avg_rating_country.index\n",
    "    })\n",
    "\n",
    "    # Do the plotting part\n",
    "    fig.add_trace(go.Scatter(\n",
    "        x=aggregated_df['x'],\n",
    "        y=aggregated_df['y'],\n",
    "        mode='markers+text',\n",
    "        text=aggregated_df['label'],\n",
    "        textposition='top center',\n",
    "        visible=(i == 0)\n",
    "    ))\n",
    "    # Generate regression trace using px.scatter\n",
    "    regression_fig = px.scatter(aggregated_df, x='x', y='y', trendline='ols')\n",
    "    regression_fig.update_traces(marker=dict(size=4, opacity=0.5), selector=dict(mode='markers'))\n",
    "    regression_fig.update_traces(line=dict(width=2, color='DarkSlateGrey'), selector=dict(mode='lines'))\n",
    "\n",
    "    # Extract the regression trace\n",
    "    regression_trace = regression_fig.data[1]\n",
    "    regression_trace.visible = (i == 0)  # Set visibility based on current year or step\n",
    "\n",
    "    # Add the regression trace to your existing figure\n",
    "    fig.add_trace(regression_trace)\n",
    "\n",
    "# Prepare the slider \n",
    "steps = []\n",
    "for i, y in enumerate(unique_years):\n",
    "    step = dict(\n",
    "        label=str(y),\n",
    "        method='update',\n",
    "        args=[{'visible': [False] * len(fig.data)}]\n",
    "    )\n",
    "    step['args'][0]['visible'][i * 2] = True  # Show the scatter plot\n",
    "    step['args'][0]['visible'][i * 2 + 1] = True  # Show the regression line\n",
    "    steps.append(step)\n",
    "\n",
    "# Set some figure stuff\n",
    "fig.update_layout(\n",
    "    sliders=[\n",
    "        dict(\n",
    "            active=0,\n",
    "            steps=steps\n",
    "        )\n",
    "    ],\n",
    "    xaxis_title='Average Rating',\n",
    "    yaxis_title='Average ABV',\n",
    "    title='Average Rating vs ABV per country over the years'\n",
    ")\n",
    "\n",
    "\n",
    "# Set the figure such that it's a square\n",
    "fig.update_layout(\n",
    "    width=1200,\n",
    "    height=800\n",
    ")\n",
    "\n",
    "\n",
    "fig.show()"
   ]
  },
  {
   "cell_type": "markdown",
   "metadata": {},
   "source": [
    "Very nice correlation between the average rating and the average ABV. It seems that higher the average ABV the higher the average rating and in general we see that all the rating increases almost linearly with the average ABV (very interesting result in my opinion since it's not something obvious)."
   ]
  },
  {
   "cell_type": "markdown",
   "metadata": {},
   "source": [
    "### Evolution of values over time"
   ]
  },
  {
   "cell_type": "code",
   "execution_count": null,
   "metadata": {},
   "outputs": [],
   "source": [
    "# Plot the value for each year only for the specific location\n",
    "from matplotlib import pyplot as plt\n",
    "\n",
    "# Filter location\n",
    "location = 'Greece'\n",
    "df_filtered = df_ratings_no_text[df_ratings_no_text['location'] == location]\n",
    "#df_filtered = df_ratings_no_text\n",
    "\n",
    "# Filter the data for a specific location\n",
    "abv_mean = df_filtered.groupby(df_filtered['date'].dt.year)['abv'].mean()\n",
    "rating_mean = df_filtered.groupby(df_filtered['date'].dt.year)['taste'].mean()\n",
    "rating_mean_2 = df_filtered.groupby(df_filtered['date'].dt.year)['appearance'].mean()\n",
    "rating_mean_3 = df_filtered.groupby(df_filtered['date'].dt.year)['aroma'].mean()\n",
    "rating_mean_4 = df_filtered.groupby(df_filtered['date'].dt.year)['palate'].mean()\n",
    "rating_mean_5 = df_filtered.groupby(df_filtered['date'].dt.year)['overall'].mean()\n",
    "rating_mean_6 = df_filtered.groupby(df_filtered['date'].dt.year)['rating'].mean()\n",
    "\n",
    "number_of_ratings_country = df_filtered.groupby(df_filtered['date'].dt.year)['rating'].count()\n",
    "\n",
    "fig = plt.figure(figsize=(20, 5))\n",
    "plt.subplot(1, 3, 1)\n",
    "plt.plot(abv_mean, label='ABV', color='blue', linestyle='dashed', marker='o')\n",
    "plt.ylabel('ABV')\n",
    "plt.xlabel('Year')\n",
    "plt.xticks(df_filtered['date'].dt.year.unique(), rotation=45)\n",
    "plt.legend()\n",
    "\n",
    "plt.subplot(1, 3, 2)\n",
    "plt.plot(rating_mean, label='Taste', color='red', linestyle='dashed', marker='o')\n",
    "plt.plot(rating_mean_2, label='Appearance', color='green', linestyle='dashed', marker='o')\n",
    "plt.plot(rating_mean_3, label='Aroma', color='orange', linestyle='dashed', marker='o')\n",
    "plt.plot(rating_mean_4, label='Palate', color='purple', linestyle='dashed', marker='o')\n",
    "plt.plot(rating_mean_5, label='Overall', color='black', linestyle='dashed', marker='o')\n",
    "plt.plot(rating_mean_6, label='Rating', color='brown', linestyle='dashed', marker='o')\n",
    "plt.xlabel('Year')\n",
    "plt.ylabel('Rating')\n",
    "plt.xticks(df_filtered['date'].dt.year.unique(), rotation=45)\n",
    "plt.legend()\n",
    "\n",
    "plt.subplot(1, 3, 3)\n",
    "plt.plot(number_of_ratings_country, label='Number of ratings each year', color='blue', linestyle='dashed', marker='o')\n",
    "plt.xlabel('Year')\n",
    "plt.ylabel('Number of ratings')\n",
    "plt.xticks(df_filtered['date'].dt.year.unique(), rotation=45)\n",
    "plt.legend()\n",
    "\n",
    "plt.show()\n"
   ]
  },
  {
   "cell_type": "markdown",
   "metadata": {},
   "source": [
    "Overall there is an increase in the average ABV and the different ratings (taste, appearance, aroma, palate, overall) over time. If we filter by the country we see that the US has a strong impact so since most of the reviews are from that country it might bring everything up. <br>\n",
    "Let's now consider the average of the averages (to reduce the impact of the fact that some countries has a significant highly number of reviews) and see if the trend is still the same."
   ]
  },
  {
   "cell_type": "code",
   "execution_count": null,
   "metadata": {},
   "outputs": [],
   "source": [
    "LABEL = 'abv'\n",
    "fig = plt.figure(figsize=(15, 5))\n",
    "values = []\n",
    "for i, y in enumerate(unique_years):\n",
    "    df_averages = df_ratings_no_text[df_ratings_no_text['date'].dt.year == y].groupby('location').agg({LABEL: 'mean'})\n",
    "    avg_value = df_averages.mean()\n",
    "    values.append(avg_value[LABEL])\n",
    "plt.plot(unique_years, values, label='ABV', color='blue', linestyle='dashed', marker='o')\n",
    "plt.xticks(unique_years)\n",
    "plt.xlabel('Year')\n",
    "plt.ylabel(f'Average {LABEL}')\n",
    "plt.show()"
   ]
  },
  {
   "cell_type": "code",
   "execution_count": null,
   "metadata": {},
   "outputs": [],
   "source": [
    "import geopandas as gpd\n",
    "import matplotlib.pyplot as plt\n",
    "import matplotlib.colors as mcolors\n",
    "\n",
    "location = 'United States of America'\n",
    "\n",
    "merged = df_ratings_no_text.merge(df_users[['user_id','location']], left_on='user_id', right_on='user_id')\n",
    "world = gpd.read_file(\"https://naciscdn.org/naturalearth/110m/cultural/ne_110m_admin_0_countries.zip\").rename(columns={'ADMIN': 'name'})\n",
    "merged = merged[merged['location_y'] == location].groupby('location_x').size().reset_index(name='count')\n",
    "merged = world.merge(merged, left_on='name', right_on='location_x', how='left')\n",
    "\n",
    "# Create figure\n",
    "fig, ax = plt.subplots(figsize=(16, 8))\n",
    "world.plot(ax=ax, color='lightgray')  \n",
    "\n",
    "# Plot with log scale normalization\n",
    "merged.plot(\n",
    "    column='count',\n",
    "    ax=ax,\n",
    "    legend=True,\n",
    "    cmap='viridis',  \n",
    "    norm=mcolors.LogNorm(vmin=1, vmax=merged['count'].max()), \n",
    "    missing_kwds={\"color\": \"lightgray\"}\n",
    ")\n",
    "ax.set_title('Brewery Locations by Country (Log Scale)')\n",
    "plt.axis('off')\n",
    "plt.show()"
   ]
  }
 ],
 "metadata": {
  "kernelspec": {
   "display_name": "Python 3",
   "language": "python",
   "name": "python3"
  },
  "language_info": {
   "codemirror_mode": {
    "name": "ipython",
    "version": 3
   },
   "file_extension": ".py",
   "mimetype": "text/x-python",
   "name": "python",
   "nbconvert_exporter": "python",
   "pygments_lexer": "ipython3",
   "version": "3.10.12"
  }
 },
 "nbformat": 4,
 "nbformat_minor": 2
}
